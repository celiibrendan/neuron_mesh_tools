{
 "cells": [
  {
   "cell_type": "code",
   "execution_count": null,
   "metadata": {},
   "outputs": [],
   "source": [
    "\"\"\"\n",
    "Purpose: \n",
    "To create the function that will create a mapping correspondence\n",
    "of skeletal branches (those with no node degrees higher than 3)\n",
    "and the meshes themselves\n",
    "\n",
    "\n",
    "\n",
    "\n",
    "\"\"\""
   ]
  },
  {
   "cell_type": "code",
   "execution_count": 1,
   "metadata": {},
   "outputs": [],
   "source": [
    "from os import sys\n",
    "sys.path.append(\"../../meshAfterParty/\")"
   ]
  },
  {
   "cell_type": "code",
   "execution_count": 2,
   "metadata": {},
   "outputs": [],
   "source": [
    "import skeleton_utils as sk\n",
    "import trimesh_utils as tu\n",
    "import trimesh\n",
    "import numpy_utils as nu\n",
    "import numpy as np\n",
    "from importlib import reload\n",
    "import networkx as nx\n",
    "import time\n",
    "import compartment_utils as cu\n",
    "import networkx_utils as xu\n"
   ]
  },
  {
   "cell_type": "code",
   "execution_count": 3,
   "metadata": {},
   "outputs": [],
   "source": [
    "saved_file = \"../../Platinum_Compartment/soma_touching_mesh_data.npz\"\n",
    "current_mesh_data = nu.load_dict(saved_file)"
   ]
  },
  {
   "cell_type": "code",
   "execution_count": 4,
   "metadata": {
    "scrolled": true
   },
   "outputs": [],
   "source": [
    "# visualize all of the branches and the meshes\n",
    "sk.graph_skeleton_and_mesh(other_meshes=list(current_mesh_data[0][\"branch_meshes\"]) + list(current_mesh_data[0][\"soma_meshes\"]),\n",
    "                          other_meshes_colors=\"random\",\n",
    "                           other_skeletons = current_mesh_data[0][\"branch_skeletons\"],\n",
    "                          other_skeletons_colors=\"random\")"
   ]
  },
  {
   "cell_type": "code",
   "execution_count": 5,
   "metadata": {
    "scrolled": true
   },
   "outputs": [
    {
     "name": "stdout",
     "output_type": "stream",
     "text": [
      "\n",
      "---- Working on Limb 0 ----\n",
      "before cleaning limb size of skeleton = (4140, 2, 3)\n",
      "Using Distance measure skeletal_distance\n"
     ]
    },
    {
     "data": {
      "application/vnd.jupyter.widget-view+json": {
       "model_id": "a8c4fe6890e249d3b966fcbc5f9dabf6",
       "version_major": 2,
       "version_minor": 0
      },
      "text/plain": [
       "HBox(children=(FloatProgress(value=0.0, max=28.0), HTML(value='')))"
      ]
     },
     "metadata": {},
     "output_type": "display_data"
    },
    {
     "name": "stdout",
     "output_type": "stream",
     "text": [
      "\n",
      "after DISTANCE cleaning limb size of skeleton = (4004, 2, 3)\n",
      "After DECOMPOSITION cleaning limb size of skeleton = (4004, 2, 3)\n",
      "Total time = 1.235182523727417\n",
      "\n",
      "---- Working on Limb 1 ----\n",
      "before cleaning limb size of skeleton = (2975, 2, 3)\n",
      "Using Distance measure skeletal_distance\n"
     ]
    },
    {
     "data": {
      "application/vnd.jupyter.widget-view+json": {
       "model_id": "149ebff556e746bb8d4de0f6a9b13d2a",
       "version_major": 2,
       "version_minor": 0
      },
      "text/plain": [
       "HBox(children=(FloatProgress(value=0.0, max=10.0), HTML(value='')))"
      ]
     },
     "metadata": {},
     "output_type": "display_data"
    },
    {
     "name": "stdout",
     "output_type": "stream",
     "text": [
      "\n",
      "after DISTANCE cleaning limb size of skeleton = (2936, 2, 3)\n",
      "high-degree endpoints were connected so just using that connection\n",
      "curr_branch = {2179}\n",
      "After DECOMPOSITION cleaning limb size of skeleton = (2934, 2, 3)\n",
      "Total time = 0.8420083522796631\n",
      "\n",
      "---- Working on Limb 2 ----\n",
      "before cleaning limb size of skeleton = (2025, 2, 3)\n",
      "Using Distance measure skeletal_distance\n"
     ]
    },
    {
     "data": {
      "application/vnd.jupyter.widget-view+json": {
       "model_id": "23dee38b61c343699a3e59782c2918cc",
       "version_major": 2,
       "version_minor": 0
      },
      "text/plain": [
       "HBox(children=(FloatProgress(value=0.0, max=11.0), HTML(value='')))"
      ]
     },
     "metadata": {},
     "output_type": "display_data"
    },
    {
     "name": "stdout",
     "output_type": "stream",
     "text": [
      "\n",
      "after DISTANCE cleaning limb size of skeleton = (1981, 2, 3)\n",
      "high-degree endpoints were connected so just using that connection\n",
      "curr_branch = {1547}\n",
      "After DECOMPOSITION cleaning limb size of skeleton = (1979, 2, 3)\n",
      "Total time = 0.542466402053833\n",
      "\n",
      "---- Working on Limb 3 ----\n",
      "before cleaning limb size of skeleton = (1840, 2, 3)\n",
      "Using Distance measure skeletal_distance\n"
     ]
    },
    {
     "data": {
      "application/vnd.jupyter.widget-view+json": {
       "model_id": "e171f2845c2342ffa2e283e7f3c300da",
       "version_major": 2,
       "version_minor": 0
      },
      "text/plain": [
       "HBox(children=(FloatProgress(value=0.0, max=9.0), HTML(value='')))"
      ]
     },
     "metadata": {},
     "output_type": "display_data"
    },
    {
     "name": "stdout",
     "output_type": "stream",
     "text": [
      "\n",
      "after DISTANCE cleaning limb size of skeleton = (1804, 2, 3)\n",
      "After DECOMPOSITION cleaning limb size of skeleton = (1804, 2, 3)\n",
      "Total time = 0.5716464519500732\n",
      "\n",
      "---- Working on Limb 4 ----\n",
      "before cleaning limb size of skeleton = (2273, 2, 3)\n",
      "Using Distance measure skeletal_distance\n"
     ]
    },
    {
     "data": {
      "application/vnd.jupyter.widget-view+json": {
       "model_id": "bcb898d3816a486889f2e6d2b576faf7",
       "version_major": 2,
       "version_minor": 0
      },
      "text/plain": [
       "HBox(children=(FloatProgress(value=0.0, max=25.0), HTML(value='')))"
      ]
     },
     "metadata": {},
     "output_type": "display_data"
    },
    {
     "name": "stdout",
     "output_type": "stream",
     "text": [
      "\n",
      "after DISTANCE cleaning limb size of skeleton = (2166, 2, 3)\n",
      "After DECOMPOSITION cleaning limb size of skeleton = (2166, 2, 3)\n",
      "Total time = 0.675464391708374\n",
      "\n",
      "---- Working on Limb 5 ----\n",
      "before cleaning limb size of skeleton = (1131, 2, 3)\n",
      "Using Distance measure skeletal_distance\n"
     ]
    },
    {
     "data": {
      "application/vnd.jupyter.widget-view+json": {
       "model_id": "82c25821a787416b8731a2dcc052b461",
       "version_major": 2,
       "version_minor": 0
      },
      "text/plain": [
       "HBox(children=(FloatProgress(value=0.0, max=5.0), HTML(value='')))"
      ]
     },
     "metadata": {},
     "output_type": "display_data"
    },
    {
     "name": "stdout",
     "output_type": "stream",
     "text": [
      "\n",
      "after DISTANCE cleaning limb size of skeleton = (1107, 2, 3)\n",
      "After DECOMPOSITION cleaning limb size of skeleton = (1107, 2, 3)\n",
      "Total time = 0.3097097873687744\n",
      "\n",
      "---- Working on Limb 6 ----\n",
      "before cleaning limb size of skeleton = (1063, 2, 3)\n",
      "Using Distance measure skeletal_distance\n"
     ]
    },
    {
     "data": {
      "application/vnd.jupyter.widget-view+json": {
       "model_id": "0d1adbd2ec6d4b39ab431378bbac8af1",
       "version_major": 2,
       "version_minor": 0
      },
      "text/plain": [
       "HBox(children=(FloatProgress(value=0.0, max=8.0), HTML(value='')))"
      ]
     },
     "metadata": {},
     "output_type": "display_data"
    },
    {
     "name": "stdout",
     "output_type": "stream",
     "text": [
      "\n",
      "after DISTANCE cleaning limb size of skeleton = (1034, 2, 3)\n",
      "After DECOMPOSITION cleaning limb size of skeleton = (1034, 2, 3)\n",
      "Total time = 0.30606698989868164\n",
      "\n",
      "---- Working on Limb 7 ----\n",
      "before cleaning limb size of skeleton = (1052, 2, 3)\n",
      "Using Distance measure skeletal_distance\n"
     ]
    },
    {
     "data": {
      "application/vnd.jupyter.widget-view+json": {
       "model_id": "d0b5975308e74d4391afd0eafa729990",
       "version_major": 2,
       "version_minor": 0
      },
      "text/plain": [
       "HBox(children=(FloatProgress(value=0.0, max=9.0), HTML(value='')))"
      ]
     },
     "metadata": {},
     "output_type": "display_data"
    },
    {
     "name": "stdout",
     "output_type": "stream",
     "text": [
      "\n",
      "after DISTANCE cleaning limb size of skeleton = (1013, 2, 3)\n",
      "After DECOMPOSITION cleaning limb size of skeleton = (1013, 2, 3)\n",
      "Total time = 0.28774404525756836\n",
      "\n",
      "---- Working on Limb 8 ----\n",
      "before cleaning limb size of skeleton = (687, 2, 3)\n",
      "Using Distance measure skeletal_distance\n"
     ]
    },
    {
     "data": {
      "application/vnd.jupyter.widget-view+json": {
       "model_id": "904ae3ec3cf747d0a97cb9f06043741f",
       "version_major": 2,
       "version_minor": 0
      },
      "text/plain": [
       "HBox(children=(FloatProgress(value=0.0, max=3.0), HTML(value='')))"
      ]
     },
     "metadata": {},
     "output_type": "display_data"
    },
    {
     "name": "stdout",
     "output_type": "stream",
     "text": [
      "\n",
      "after DISTANCE cleaning limb size of skeleton = (671, 2, 3)\n",
      "After DECOMPOSITION cleaning limb size of skeleton = (671, 2, 3)\n",
      "Total time = 0.19653058052062988\n",
      "\n",
      "---- Working on Limb 9 ----\n",
      "before cleaning limb size of skeleton = (254, 2, 3)\n",
      "Using Distance measure skeletal_distance\n"
     ]
    },
    {
     "data": {
      "application/vnd.jupyter.widget-view+json": {
       "model_id": "fbe383c37ea745778914b8a2266ec085",
       "version_major": 2,
       "version_minor": 0
      },
      "text/plain": [
       "HBox(children=(FloatProgress(value=0.0, max=1.0), HTML(value='')))"
      ]
     },
     "metadata": {},
     "output_type": "display_data"
    },
    {
     "name": "stdout",
     "output_type": "stream",
     "text": [
      "\n",
      "after DISTANCE cleaning limb size of skeleton = (241, 2, 3)\n",
      "After DECOMPOSITION cleaning limb size of skeleton = (241, 2, 3)\n",
      "Total time = 0.08728671073913574\n",
      "\n",
      "---- Working on Limb 10 ----\n",
      "before cleaning limb size of skeleton = (31, 2, 3)\n",
      "Using Distance measure skeletal_distance\n",
      "no small end nodes to get rid of so returning whole skeleton\n",
      "after DISTANCE cleaning limb size of skeleton = (31, 2, 3)\n",
      "only one skeleton so no stacking needed\n",
      "After DECOMPOSITION cleaning limb size of skeleton = (31, 2, 3)\n",
      "Total time = 0.011926651000976562\n"
     ]
    }
   ],
   "source": [
    "skelton_cleaning_threshold = 4001\n",
    "total_cleaned = []\n",
    "for j,curr_skeleton_to_clean in enumerate(current_mesh_data[0][\"branch_skeletons\"]):\n",
    "    print(f\"\\n---- Working on Limb {j} ----\")\n",
    "    start_time = time.time()\n",
    "    print(f\"before cleaning limb size of skeleton = {curr_skeleton_to_clean.shape}\")\n",
    "    distance_cleaned_skeleton = sk.clean_skeleton(\n",
    "                                                curr_skeleton_to_clean,\n",
    "                                                distance_func=sk.skeletal_distance,\n",
    "                                                min_distance_to_junction = skelton_cleaning_threshold,\n",
    "                                                return_skeleton=True,\n",
    "                                                print_flag=False) \n",
    "    #make sure still connected componet\n",
    "    distance_cleaned_skeleton_components = nx.number_connected_components(sk.convert_skeleton_to_graph(distance_cleaned_skeleton))\n",
    "    if distance_cleaned_skeleton_components > 1:\n",
    "        raise Exception(f\"distance_cleaned_skeleton {j} was not a single component: it was actually {distance_cleaned_skeleton_components} components\")\n",
    "        \n",
    "    print(f\"after DISTANCE cleaning limb size of skeleton = {distance_cleaned_skeleton.shape}\")\n",
    "    cleaned_branch = sk.clean_skeleton_with_decompose(distance_cleaned_skeleton)\n",
    "    \n",
    "    cleaned_branch_components = nx.number_connected_components(sk.convert_skeleton_to_graph(cleaned_branch))\n",
    "    if cleaned_branch_components > 1:\n",
    "        raise Exception(f\"cleaned_branch {j} was not a single component: it was actually {cleaned_branch_components} components\")\n",
    "    \n",
    "    #do the cleanin ghtat removes loops from branches\n",
    "    print(f\"After DECOMPOSITION cleaning limb size of skeleton = {cleaned_branch.shape}\")\n",
    "    print(f\"Total time = {time.time() - start_time}\")\n",
    "    total_cleaned.append(cleaned_branch)\n",
    "    \n",
    "current_mesh_data[0][\"branch_skeletons_cleaned\"] = total_cleaned\n",
    "    "
   ]
  },
  {
   "cell_type": "code",
   "execution_count": 553,
   "metadata": {},
   "outputs": [
    {
     "data": {
      "application/vnd.jupyter.widget-view+json": {
       "model_id": "9aa053f1e3f845f58d37b8d600b44e2e",
       "version_major": 2,
       "version_minor": 0
      },
      "text/plain": [
       "VBox(children=(Figure(camera=PerspectiveCamera(fov=46.0, position=(0.0, 0.0, 2.0), quaternion=(0.0, 0.0, 0.0, …"
      ]
     },
     "metadata": {},
     "output_type": "display_data"
    }
   ],
   "source": [
    "# visualize all of the branches and the meshes\n",
    "sk.graph_skeleton_and_mesh(other_meshes=list(current_mesh_data[0][\"branch_meshes\"]) + list(current_mesh_data[0][\"soma_meshes\"]),\n",
    "                          other_meshes_colors=\"random\",\n",
    "                           other_skeletons = current_mesh_data[0][\"branch_skeletons_cleaned\"],\n",
    "                          other_skeletons_colors=\"random\",\n",
    "                          mesh_alpha=0.15)"
   ]
  },
  {
   "cell_type": "markdown",
   "metadata": {},
   "source": [
    "# checking that all the cleaned branches are connected components"
   ]
  },
  {
   "cell_type": "code",
   "execution_count": 7,
   "metadata": {},
   "outputs": [],
   "source": [
    "for k,cl_sk in enumerate(current_mesh_data[0][\"branch_skeletons\"]): \n",
    "    n_components = nx.number_connected_components(sk.convert_skeleton_to_graph(cl_sk)) \n",
    "    if n_components > 1:\n",
    "        raise Exception(f\"Original limb {k} was not a single component: it was actually {n_components} components\")\n",
    "    \n",
    "for k,cl_sk in enumerate(current_mesh_data[0][\"branch_skeletons_cleaned\"]): \n",
    "    n_components = nx.number_connected_components(sk.convert_skeleton_to_graph(cl_sk)) \n",
    "    if n_components > 1:\n",
    "        raise Exception(f\"Cleaned limb {k} was not a single component: it was actually {n_components} components\")"
   ]
  },
  {
   "cell_type": "markdown",
   "metadata": {},
   "source": [
    "# new correspondence function"
   ]
  },
  {
   "cell_type": "code",
   "execution_count": 9,
   "metadata": {},
   "outputs": [],
   "source": [
    "from skeleton_utils import *\n",
    "\n",
    "def get_skeletal_distance(main_mesh,edges,\n",
    "                                 buffer=0.01,\n",
    "                                bbox_ratio=1.2,\n",
    "                               distance_threshold=3000,\n",
    "                                print_flag=False):\n",
    "    \"\"\"\n",
    "    Purpose: To return the histogram of distances along a mesh subtraction process\n",
    "    so that we could evenutally find an adaptive distance threshold\n",
    "    \n",
    "    \n",
    "    \"\"\"\n",
    "\n",
    "    \n",
    "    main_mesh_bbox_restricted = main_mesh\n",
    "    faces_bbox_inclusion = np.arange(0,len(main_mesh.faces))\n",
    "\n",
    "    \n",
    "    start_time = time.time()\n",
    "    face_subtract_indices = []\n",
    "    \n",
    "    edge_loop_print=True\n",
    "    total_distances = []\n",
    "    total_distances_std = []\n",
    "    for i,ex_edge in tqdm(enumerate(edges)):\n",
    "        #print(\"\\n------ New loop ------\")\n",
    "        #print(ex_edge)\n",
    "        \n",
    "        # ----------- creating edge and checking distance ----- #\n",
    "        loop_start = time.time()\n",
    "        \n",
    "        edge_line = ex_edge[1] - ex_edge[0]\n",
    "        sum_threshold = 0.001\n",
    "        if np.sum(np.abs(edge_line)) < sum_threshold:\n",
    "            if edge_loop_print:\n",
    "                print(f\"edge number {i}, {ex_edge}: has sum less than {sum_threshold} so skipping\")\n",
    "            continue\n",
    "        \n",
    "        cob_edge = change_basis_matrix(edge_line)\n",
    "        \n",
    "        #get the limits of the example edge itself that should be cutoff\n",
    "        edge_trans = (cob_edge@ex_edge.T)\n",
    "        #slice_range = np.sort((cob_edge@ex_edge.T)[2,:])\n",
    "        slice_range = np.sort(edge_trans[2,:])\n",
    "\n",
    "        # adding the buffer to the slice range\n",
    "        slice_range_buffer = slice_range + np.array([-buffer,buffer])\n",
    "\n",
    "        # generate face midpoints from the triangles\n",
    "        #face_midpoints = np.mean(main_mesh_bbox_restricted.vertices[main_mesh_bbox_restricted.faces],axis=1) # Old way\n",
    "        face_midpoints = main_mesh_bbox_restricted.triangles_center\n",
    "        \n",
    "        \n",
    "        #get the face midpoints that fall within the slice (by lookig at the z component)\n",
    "        fac_midpoints_trans = cob_edge@face_midpoints.T\n",
    "        \n",
    "        slice_mask_pre_distance = ((fac_midpoints_trans[2,:]>slice_range_buffer[0]) & \n",
    "                      (fac_midpoints_trans[2,:]<slice_range_buffer[1]))\n",
    "\n",
    "        edge_midpoint = np.mean(edge_trans.T,axis=0)\n",
    "        distance_check = np.linalg.norm((fac_midpoints_trans.T)[:,:2] - edge_midpoint[:2],axis=1) < distance_threshold\n",
    "        \n",
    "        slice_mask = slice_mask_pre_distance & distance_check\n",
    "        \n",
    "        face_list = np.arange(0,len(main_mesh_bbox_restricted.faces))[slice_mask]\n",
    "\n",
    "        #get the submesh of valid faces within the slice\n",
    "        if len(face_list)>0:\n",
    "            main_mesh_sub = main_mesh_bbox_restricted.submesh([face_list],append=True)\n",
    "        else:\n",
    "            main_mesh_sub = []\n",
    "\n",
    "        if type(main_mesh_sub) != type(trimesh.Trimesh()):\n",
    "            if edge_loop_print:\n",
    "                print(f\"THERE WERE NO FACES THAT FIT THE DISTANCE ({distance_threshold}) and Z transform requirements\")\n",
    "                print(\"So just skipping this edge\")\n",
    "            continue\n",
    "\n",
    "\n",
    "        #get all disconnected mesh pieces of the submesh and the face indices for lookup later\n",
    "        sub_components,sub_components_face_indexes = tu.split(main_mesh_sub,only_watertight=False)\n",
    "       \n",
    "        \n",
    "        \n",
    "        if type(sub_components) != type(np.array([])) and type(sub_components) != list:\n",
    "            #print(f\"meshes = {sub_components}, with type = {type(sub_components)}\")\n",
    "            if type(sub_components) == type(trimesh.Trimesh()) :\n",
    "                sub_components = [sub_components]\n",
    "            else:\n",
    "                raise Exception(\"The sub_components were not an array, list or trimesh\")\n",
    "        \n",
    "\n",
    "        #getting the indices of the submeshes whose bounding box contain the edge \n",
    "        contains_points_results = np.array([s_comp.bounding_box.contains(ex_edge.reshape(-1,3)) for s_comp in sub_components])\n",
    "        \n",
    "        containing_indices = (np.arange(0,len(sub_components)))[np.sum(contains_points_results,axis=1) >= len(ex_edge)]\n",
    "        try:\n",
    "            if len(containing_indices) != 1: \n",
    "                if edge_loop_print:\n",
    "                    print(f\"--> Not exactly one containing mesh: {containing_indices}\")\n",
    "                if len(containing_indices) > 1:\n",
    "                    sub_components_inner = sub_components[containing_indices]\n",
    "                    sub_components_face_indexes_inner = sub_components_face_indexes[containing_indices]\n",
    "                else:\n",
    "                    sub_components_inner = sub_components\n",
    "                    sub_components_face_indexes_inner = sub_components_face_indexes\n",
    "\n",
    "                #get the center of the edge\n",
    "                edge_center = np.mean(ex_edge,axis=0)\n",
    "                #print(f\"edge_center = {edge_center}\")\n",
    "\n",
    "                #find the distance between eacch bbox center and the edge center\n",
    "                bbox_centers = [np.mean(k.bounds,axis=0) for k in sub_components_inner]\n",
    "                #print(f\"bbox_centers = {bbox_centers}\")\n",
    "                closest_bbox = np.argmin([np.linalg.norm(edge_center-b_center) for b_center in bbox_centers])\n",
    "                #print(f\"bbox_distance = {closest_bbox}\")\n",
    "                edge_skeleton_faces = faces_bbox_inclusion[face_list[sub_components_face_indexes_inner[closest_bbox]]]\n",
    "\n",
    "\n",
    "            else:# when only one viable submesh piece and just using that sole index\n",
    "                edge_skeleton_faces = faces_bbox_inclusion[face_list[sub_components_face_indexes[containing_indices[0]]]]\n",
    "        except:\n",
    "            print(f\"sub_components = {sub_components}\")\n",
    "            print(f\"containing_indices = {containing_indices}\")\n",
    "            print(f\"sub_components_face_indexes (from the split) = {sub_components_face_indexes}\")\n",
    "            raise Exception(\"Error occured\")\n",
    "\n",
    "\n",
    "        if len(edge_skeleton_faces) < 0:\n",
    "            print(f\"****** Warning the edge index {i}: had no faces in the edge_skeleton_faces*******\")\n",
    "        face_subtract_indices.append(edge_skeleton_faces)\n",
    "        \n",
    "        \n",
    "        #---- calculating the relevant distances ---- #\n",
    "        \n",
    "        face_midpoints = (main_mesh_bbox_restricted.triangles_center)[edge_skeleton_faces]\n",
    "        #print(f\"edge_skeleton_faces.shape = {edge_skeleton_faces.shape}\")\n",
    "#         print(f\"cob_edge = {cob_edge}\")\n",
    "#         print(f\"face_midpoints = {face_midpoints.shape}\")\n",
    "#         print(f\"sub_components = {sub_components}\")\n",
    "#         print(f\"containing_indices = {containing_indices}\")\n",
    "#         print(f\"sub_components_face_indexes (from the split) = {sub_components_face_indexes}\")\n",
    "        #Exception(\"failed on fac_midpoints_trans\")\n",
    "        \n",
    "        fac_midpoints_trans = cob_edge@face_midpoints.T\n",
    "        \n",
    "            \n",
    "        #print(f\"fac_midpoints_trans.shape = {fac_midpoints_trans.shape}\")\n",
    "        mesh_slice_distances = np.linalg.norm((fac_midpoints_trans.T)[:,:2] - edge_midpoint[:2],axis=1)\n",
    "        #print(f\"mesh_slice_distances.shape = {mesh_slice_distances.shape}\")\n",
    "        \n",
    "        total_distances.append(np.mean(mesh_slice_distances))\n",
    "        total_distances_std.append(np.std(mesh_slice_distances))\n",
    "    \n",
    "    \n",
    "    \n",
    "    \n",
    "    if len(face_subtract_indices)>0:\n",
    "        all_removed_faces = np.concatenate(face_subtract_indices)\n",
    "\n",
    "        unique_removed_faces = np.array(list(set(all_removed_faces)))\n",
    "        \n",
    "        if len(unique_removed_faces) <= 1:\n",
    "            print(f\"Distance of skeleton = {sk.calculate_skeleton_distance(edges)}\")\n",
    "            raise Exception(f\"unique_removed_faces = {unique_removed_faces}\")\n",
    "            \n",
    "            \n",
    "\n",
    "        #faces_to_keep = set(np.arange(0,len(main_mesh.faces))).difference(unique_removed_faces)\n",
    "        new_submesh = main_mesh.submesh([unique_removed_faces],only_watertight=False,append=True)\n",
    "        \n",
    "        split_meshes,components_faces = tu.split(new_submesh,return_components=True)\n",
    "        \n",
    "        new_submesh = split_meshes[0]\n",
    "        unique_removed_faces = unique_removed_faces[components_faces[0]]\n",
    "        \n",
    "        #need to further restric the unique_removed_faces to those of most significant piece\n",
    "    \n",
    "    else:\n",
    "        unique_removed_faces = np.array([])\n",
    "        new_submesh = trimesh.Trimesh()\n",
    " \n",
    "    \n",
    "    \n",
    "    return total_distances,total_distances_std,new_submesh,np.array(unique_removed_faces)\n",
    "\n",
    "\n",
    "def mesh_correspondence_adaptive_distance(curr_branch_skeleton,\n",
    "                                          curr_branch_mesh,\n",
    "                                         skeleton_segment_width = 1000):\n",
    "\n",
    "    #making the skeletons resized to 1000 widths and then can use outlier finding\n",
    "    \n",
    "    new_skeleton  = sk.resize_skeleton_branch(curr_branch_skeleton,segment_width = skeleton_segment_width)\n",
    "\n",
    "    (segment_skeletal_mean_distances,\n",
    "     segment_skeletal_std_distances,\n",
    "     mesh_correspondence,\n",
    "     mesh_correspondence_indices) = get_skeletal_distance(\n",
    "                        main_mesh = curr_branch_mesh,\n",
    "                        edges = new_skeleton,\n",
    "                        buffer=100,\n",
    "                        bbox_ratio=1.2,\n",
    "                        distance_threshold=3000,\n",
    "                        print_flag=False\n",
    "    )\n",
    "        \n",
    "    if len(mesh_correspondence_indices)== 0:\n",
    "        print(\"empty mesh_correspondence_indices returned so returning an empty array\")\n",
    "        return []\n",
    "    \n",
    "    #now use the new submesh to calculate the new threshold\n",
    "    # -- Step where I compute the new threshold and and then rerun it -- #\n",
    "    if len(segment_skeletal_mean_distances) > 4:\n",
    "        filtered_measurements = np.array(segment_skeletal_mean_distances[1:-1])\n",
    "        filtered_measurements_std = np.array(segment_skeletal_std_distances[1:-1])\n",
    "    else:\n",
    "        filtered_measurements = np.array(segment_skeletal_mean_distances)\n",
    "        filtered_measurements_std = np.array(segment_skeletal_std_distances)\n",
    "\n",
    "\n",
    "\n",
    "    #filter out the other outliers: do anything higher than 150% of median should be discounted\n",
    "    median_value = np.median(filtered_measurements)\n",
    "    outlier_mask = filtered_measurements < median_value*1.5\n",
    "    filtered_measurements = filtered_measurements[outlier_mask]\n",
    "    filtered_measurements_std = filtered_measurements_std[outlier_mask]\n",
    "\n",
    "    print(f\"filtered_measurements = {filtered_measurements}\")\n",
    "\n",
    "    np.mean(filtered_measurements),np.std(filtered_measurements)\n",
    "\n",
    "    # try the mesh subtraction again \n",
    "    buffer = 100\n",
    "\n",
    "    total_threshold = np.max(filtered_measurements) + 2*np.max(filtered_measurements_std)\n",
    "    print(f\"new_threshold = {total_threshold}\")\n",
    "    (segment_skeletal_mean_distances_2,\n",
    "     filtered_measurements_std,\n",
    "     mesh_correspondence_2,\n",
    "     mesh_correspondence_indices_2) = get_skeletal_distance(\n",
    "                        main_mesh = mesh_correspondence,\n",
    "                        edges = new_skeleton,\n",
    "                        buffer=100,\n",
    "                        bbox_ratio=1.2,\n",
    "                        distance_threshold=total_threshold,\n",
    "                        print_flag=False\n",
    "    )\n",
    "    \n",
    "    if len(mesh_correspondence_indices_2) == 0:\n",
    "        print(\"empty mesh_correspondence_indices_2 returned so returning an empty array\")\n",
    "        return []\n",
    "        \n",
    "        \n",
    "    #want to show the changes in mesh\n",
    "#     sk.graph_skeleton_and_mesh(other_meshes = [curr_branch_mesh.submesh([mesh_correspondence_indices],append=True)])\n",
    "#     sk.graph_skeleton_and_mesh(other_meshes = [curr_branch_mesh.submesh([mesh_correspondence_indices[mesh_correspondence_indices_2]],append=True)])\n",
    "        \n",
    "    # PROBLEM NOT PASSING BACK A CONNECTED COMPONENT\n",
    "        \n",
    "    return mesh_correspondence_indices[mesh_correspondence_indices_2], total_threshold"
   ]
  },
  {
   "cell_type": "markdown",
   "metadata": {},
   "source": [
    "# -- decomposing all of limbs into branches and finding mesh correspondence using adaptive manner -- "
   ]
  },
  {
   "cell_type": "code",
   "execution_count": 10,
   "metadata": {
    "scrolled": true
   },
   "outputs": [
    {
     "name": "stdout",
     "output_type": "stream",
     "text": [
      "Working on limb #0\n"
     ]
    },
    {
     "data": {
      "application/vnd.jupyter.widget-view+json": {
       "model_id": "f4925f4036194791bc59f7595556715e",
       "version_major": 2,
       "version_minor": 0
      },
      "text/plain": [
       "HBox(children=(FloatProgress(value=1.0, bar_style='info', max=1.0), HTML(value='')))"
      ]
     },
     "metadata": {},
     "output_type": "display_data"
    },
    {
     "name": "stdout",
     "output_type": "stream",
     "text": [
      "new_skeleton = (44, 2, 3)\n"
     ]
    },
    {
     "data": {
      "application/vnd.jupyter.widget-view+json": {
       "model_id": "3cf022bd9af64a30820e9661659b55ec",
       "version_major": 2,
       "version_minor": 0
      },
      "text/plain": [
       "HBox(children=(FloatProgress(value=1.0, bar_style='info', max=1.0), HTML(value='')))"
      ]
     },
     "metadata": {},
     "output_type": "display_data"
    },
    {
     "name": "stdout",
     "output_type": "stream",
     "text": [
      "\n",
      "filtered_measurements = [235.35614141 295.50582798 282.58422455 208.45049582 111.84423036\n",
      " 240.15326795 195.22957467 179.6046358  215.70337332 183.76334931\n",
      " 222.86183322 291.68475329 375.64066972 232.38761407 253.5265144\n",
      " 401.78139825 280.00784496 219.4453072  342.14479643 430.29074126\n",
      " 214.73273392 273.92422933 401.37785497 302.19686064 314.01544074\n",
      " 254.26722848 216.49610007 174.61311501 360.33120724 373.8862993\n",
      " 323.38882963]\n",
      "new_threshold = 1018.9984891875927\n"
     ]
    },
    {
     "data": {
      "application/vnd.jupyter.widget-view+json": {
       "model_id": "c113afc487a94397b55658c45d4d3497",
       "version_major": 2,
       "version_minor": 0
      },
      "text/plain": [
       "HBox(children=(FloatProgress(value=1.0, bar_style='info', max=1.0), HTML(value='')))"
      ]
     },
     "metadata": {},
     "output_type": "display_data"
    },
    {
     "name": "stdout",
     "output_type": "stream",
     "text": [
      "\n",
      "new_skeleton = (12, 2, 3)\n"
     ]
    },
    {
     "data": {
      "application/vnd.jupyter.widget-view+json": {
       "model_id": "d02223ddf5954922ac3b032298092a7a",
       "version_major": 2,
       "version_minor": 0
      },
      "text/plain": [
       "HBox(children=(FloatProgress(value=1.0, bar_style='info', max=1.0), HTML(value='')))"
      ]
     },
     "metadata": {},
     "output_type": "display_data"
    },
    {
     "name": "stdout",
     "output_type": "stream",
     "text": [
      "--> Not exactly one containing mesh: []\n",
      "\n",
      "filtered_measurements = [ 68.91491071  98.98806728  99.46925241  97.87159894 119.97255252\n",
      "  80.50298124  81.73595318 118.83832399]\n",
      "new_threshold = 242.15564086496752\n"
     ]
    },
    {
     "data": {
      "application/vnd.jupyter.widget-view+json": {
       "model_id": "24b8b5e0642b44bf8db9d1ca4c65a4db",
       "version_major": 2,
       "version_minor": 0
      },
      "text/plain": [
       "HBox(children=(FloatProgress(value=1.0, bar_style='info', max=1.0), HTML(value='')))"
      ]
     },
     "metadata": {},
     "output_type": "display_data"
    },
    {
     "name": "stdout",
     "output_type": "stream",
     "text": [
      "--> Not exactly one containing mesh: []\n",
      "--> Not exactly one containing mesh: []\n",
      "--> Not exactly one containing mesh: []\n",
      "--> Not exactly one containing mesh: []\n",
      "\n",
      "new_skeleton = (6, 2, 3)\n"
     ]
    },
    {
     "data": {
      "application/vnd.jupyter.widget-view+json": {
       "model_id": "f0a739e0d7924d0bb36d20922de9814b",
       "version_major": 2,
       "version_minor": 0
      },
      "text/plain": [
       "HBox(children=(FloatProgress(value=1.0, bar_style='info', max=1.0), HTML(value='')))"
      ]
     },
     "metadata": {},
     "output_type": "display_data"
    },
    {
     "name": "stdout",
     "output_type": "stream",
     "text": [
      "\n",
      "filtered_measurements = [373.99507037 271.13273265 321.75940392]\n",
      "new_threshold = 682.6378366957541\n"
     ]
    },
    {
     "data": {
      "application/vnd.jupyter.widget-view+json": {
       "model_id": "e3123bd6df954e089020e983d8653135",
       "version_major": 2,
       "version_minor": 0
      },
      "text/plain": [
       "HBox(children=(FloatProgress(value=1.0, bar_style='info', max=1.0), HTML(value='')))"
      ]
     },
     "metadata": {},
     "output_type": "display_data"
    },
    {
     "name": "stdout",
     "output_type": "stream",
     "text": [
      "\n",
      "new_skeleton = (13, 2, 3)\n"
     ]
    },
    {
     "data": {
      "application/vnd.jupyter.widget-view+json": {
       "model_id": "873216f7c49e4f2ea3cb957bb8f9a975",
       "version_major": 2,
       "version_minor": 0
      },
      "text/plain": [
       "HBox(children=(FloatProgress(value=1.0, bar_style='info', max=1.0), HTML(value='')))"
      ]
     },
     "metadata": {},
     "output_type": "display_data"
    },
    {
     "name": "stdout",
     "output_type": "stream",
     "text": [
      "\n",
      "filtered_measurements = [387.47277784 323.06646146 389.49131938 317.60647399 286.77889106\n",
      " 241.33739709 242.46462949 350.82802786 416.51688446]\n",
      "new_threshold = 806.813443182617\n"
     ]
    },
    {
     "data": {
      "application/vnd.jupyter.widget-view+json": {
       "model_id": "f6c1a71790444249aaf07305e671dfa0",
       "version_major": 2,
       "version_minor": 0
      },
      "text/plain": [
       "HBox(children=(FloatProgress(value=1.0, bar_style='info', max=1.0), HTML(value='')))"
      ]
     },
     "metadata": {},
     "output_type": "display_data"
    },
    {
     "name": "stdout",
     "output_type": "stream",
     "text": [
      "\n",
      "new_skeleton = (9, 2, 3)\n"
     ]
    },
    {
     "data": {
      "application/vnd.jupyter.widget-view+json": {
       "model_id": "3c84ab3e42674ce191e22b27804dd25a",
       "version_major": 2,
       "version_minor": 0
      },
      "text/plain": [
       "HBox(children=(FloatProgress(value=1.0, bar_style='info', max=1.0), HTML(value='')))"
      ]
     },
     "metadata": {},
     "output_type": "display_data"
    },
    {
     "name": "stdout",
     "output_type": "stream",
     "text": [
      "\n",
      "filtered_measurements = [165.74035649 119.25472849 120.06661184  73.37959195  94.18068313\n",
      " 158.89435349]\n",
      "new_threshold = 355.6217315176925\n"
     ]
    },
    {
     "data": {
      "application/vnd.jupyter.widget-view+json": {
       "model_id": "21a202dba3fc4b5ebafdfea551c53331",
       "version_major": 2,
       "version_minor": 0
      },
      "text/plain": [
       "HBox(children=(FloatProgress(value=1.0, bar_style='info', max=1.0), HTML(value='')))"
      ]
     },
     "metadata": {},
     "output_type": "display_data"
    },
    {
     "name": "stdout",
     "output_type": "stream",
     "text": [
      "\n",
      "new_skeleton = (4, 2, 3)\n"
     ]
    },
    {
     "data": {
      "application/vnd.jupyter.widget-view+json": {
       "model_id": "cda892b0a19f4f22b56e3f3e4800cd2f",
       "version_major": 2,
       "version_minor": 0
      },
      "text/plain": [
       "HBox(children=(FloatProgress(value=1.0, bar_style='info', max=1.0), HTML(value='')))"
      ]
     },
     "metadata": {},
     "output_type": "display_data"
    },
    {
     "name": "stdout",
     "output_type": "stream",
     "text": [
      "\n",
      "filtered_measurements = [270.5424422  354.49122599 264.90287129 442.24303365]\n",
      "new_threshold = 910.093206343433\n"
     ]
    },
    {
     "data": {
      "application/vnd.jupyter.widget-view+json": {
       "model_id": "82a077a38a9947ea87b429d1b14ecb40",
       "version_major": 2,
       "version_minor": 0
      },
      "text/plain": [
       "HBox(children=(FloatProgress(value=1.0, bar_style='info', max=1.0), HTML(value='')))"
      ]
     },
     "metadata": {},
     "output_type": "display_data"
    },
    {
     "name": "stdout",
     "output_type": "stream",
     "text": [
      "\n",
      "new_skeleton = (9, 2, 3)\n"
     ]
    },
    {
     "data": {
      "application/vnd.jupyter.widget-view+json": {
       "model_id": "75442ae04d1d4779b0700b548a9dde7a",
       "version_major": 2,
       "version_minor": 0
      },
      "text/plain": [
       "HBox(children=(FloatProgress(value=1.0, bar_style='info', max=1.0), HTML(value='')))"
      ]
     },
     "metadata": {},
     "output_type": "display_data"
    },
    {
     "name": "stdout",
     "output_type": "stream",
     "text": [
      "\n",
      "filtered_measurements = [ 63.0168191   85.41382111 232.44693732 189.15774165 179.42195664\n",
      " 111.85882382]\n",
      "new_threshold = 545.1024760422708\n"
     ]
    },
    {
     "data": {
      "application/vnd.jupyter.widget-view+json": {
       "model_id": "54045cf38f544b6c9623c1a73c822623",
       "version_major": 2,
       "version_minor": 0
      },
      "text/plain": [
       "HBox(children=(FloatProgress(value=1.0, bar_style='info', max=1.0), HTML(value='')))"
      ]
     },
     "metadata": {},
     "output_type": "display_data"
    },
    {
     "name": "stdout",
     "output_type": "stream",
     "text": [
      "--> Not exactly one containing mesh: []\n",
      "\n",
      "new_skeleton = (18, 2, 3)\n"
     ]
    },
    {
     "data": {
      "application/vnd.jupyter.widget-view+json": {
       "model_id": "cca1d43531f848c58e3662c628a5c0b9",
       "version_major": 2,
       "version_minor": 0
      },
      "text/plain": [
       "HBox(children=(FloatProgress(value=1.0, bar_style='info', max=1.0), HTML(value='')))"
      ]
     },
     "metadata": {},
     "output_type": "display_data"
    },
    {
     "name": "stdout",
     "output_type": "stream",
     "text": [
      "--> Not exactly one containing mesh: []\n",
      "\n",
      "filtered_measurements = [172.54097541 110.58592187 123.82588889 166.86276047 128.44043761\n",
      " 196.07849447 129.8466497  122.92979404 178.24900424 101.72041881\n",
      " 118.73065559 154.71019919 125.36513606]\n",
      "new_threshold = 453.77112061004243\n"
     ]
    },
    {
     "data": {
      "application/vnd.jupyter.widget-view+json": {
       "model_id": "61f57e9475a04f59bfafa9c8d1879eac",
       "version_major": 2,
       "version_minor": 0
      },
      "text/plain": [
       "HBox(children=(FloatProgress(value=1.0, bar_style='info', max=1.0), HTML(value='')))"
      ]
     },
     "metadata": {},
     "output_type": "display_data"
    },
    {
     "name": "stdout",
     "output_type": "stream",
     "text": [
      "--> Not exactly one containing mesh: []\n",
      "--> Not exactly one containing mesh: []\n",
      "\n",
      "new_skeleton = (3, 2, 3)\n"
     ]
    },
    {
     "data": {
      "application/vnd.jupyter.widget-view+json": {
       "model_id": "ebc1cc80de9b4b83bb05bc1c92112437",
       "version_major": 2,
       "version_minor": 0
      },
      "text/plain": [
       "HBox(children=(FloatProgress(value=1.0, bar_style='info', max=1.0), HTML(value='')))"
      ]
     },
     "metadata": {},
     "output_type": "display_data"
    },
    {
     "name": "stdout",
     "output_type": "stream",
     "text": [
      "\n",
      "filtered_measurements = [224.68038158 212.8646848 ]\n",
      "new_threshold = 367.1883004986579\n"
     ]
    },
    {
     "data": {
      "application/vnd.jupyter.widget-view+json": {
       "model_id": "59df6f7ed8dd420e88ce8c785c89c49f",
       "version_major": 2,
       "version_minor": 0
      },
      "text/plain": [
       "HBox(children=(FloatProgress(value=1.0, bar_style='info', max=1.0), HTML(value='')))"
      ]
     },
     "metadata": {},
     "output_type": "display_data"
    },
    {
     "name": "stdout",
     "output_type": "stream",
     "text": [
      "\n",
      "new_skeleton = (72, 2, 3)\n"
     ]
    },
    {
     "data": {
      "application/vnd.jupyter.widget-view+json": {
       "model_id": "ed49a033d4054d7b892c542baff0f6ca",
       "version_major": 2,
       "version_minor": 0
      },
      "text/plain": [
       "HBox(children=(FloatProgress(value=1.0, bar_style='info', max=1.0), HTML(value='')))"
      ]
     },
     "metadata": {},
     "output_type": "display_data"
    },
    {
     "name": "stdout",
     "output_type": "stream",
     "text": [
      "\n",
      "filtered_measurements = [287.23608428 458.88519922 382.98806812 417.87200185 362.54833025\n",
      " 378.36916278 398.70865026 322.34805734 336.52053105 513.12291986\n",
      " 368.05120901 493.48824562 335.03855797 561.61378926 313.04045857\n",
      " 450.23278349 322.87942083 347.06143871 378.49403615 241.60531687\n",
      " 614.25085401 543.68200378 475.32909508 232.04562791 296.94254038\n",
      " 465.16434593 378.75728293 449.84604247 523.61927445 371.06808618\n",
      " 290.4849495  263.87294993 441.07747598 415.45186052 280.59536745\n",
      " 354.65595453 331.65303899 265.02945133 255.00450074 498.19600813\n",
      " 525.03775293 485.22495162 343.28234919 422.18595701 361.28212288\n",
      " 599.41895422 531.32329929 329.38977365 378.56043358 448.2972398\n",
      " 277.76939392 498.99690526 465.84966307 444.89171812 424.9154988\n",
      " 314.95965967 376.38682973 452.66948003 306.02185217]\n",
      "new_threshold = 1645.0346888655022\n"
     ]
    },
    {
     "data": {
      "application/vnd.jupyter.widget-view+json": {
       "model_id": "1ba4b59c66904955b2db84e1b9f76b8c",
       "version_major": 2,
       "version_minor": 0
      },
      "text/plain": [
       "HBox(children=(FloatProgress(value=1.0, bar_style='info', max=1.0), HTML(value='')))"
      ]
     },
     "metadata": {},
     "output_type": "display_data"
    },
    {
     "name": "stdout",
     "output_type": "stream",
     "text": [
      "\n",
      "new_skeleton = (79, 2, 3)\n"
     ]
    },
    {
     "data": {
      "application/vnd.jupyter.widget-view+json": {
       "model_id": "0c35a8848bb845c5a7d337cd2935f45f",
       "version_major": 2,
       "version_minor": 0
      },
      "text/plain": [
       "HBox(children=(FloatProgress(value=1.0, bar_style='info', max=1.0), HTML(value='')))"
      ]
     },
     "metadata": {},
     "output_type": "display_data"
    },
    {
     "name": "stdout",
     "output_type": "stream",
     "text": [
      "--> Not exactly one containing mesh: []\n",
      "--> Not exactly one containing mesh: []\n",
      "--> Not exactly one containing mesh: []\n",
      "--> Not exactly one containing mesh: []\n",
      "--> Not exactly one containing mesh: []\n",
      "\n",
      "filtered_measurements = [ 81.71046665 141.75266771 104.69553713 102.70601538  80.21243358\n",
      "  74.70496239 103.7339037  162.68299581 170.27311853 129.66276244\n",
      " 129.04439082  70.41953961  64.4228008   90.16100208 128.10758138\n",
      "  82.52500461  94.65545368  73.44867412  71.07158109 105.63821162\n",
      " 145.11555134 112.08800897 108.73536688 102.24321859  90.20761798\n",
      " 150.34554186 150.62739121 114.90769523  94.82664039  83.22007377\n",
      " 118.34122315 100.84841163 164.75544749 103.85850099  94.78804503\n",
      " 159.59467688 161.1089539  153.15141226 155.09134943 101.27896298\n",
      "  88.99907327  92.3757578  150.76473084 133.87517171  95.79037293\n",
      "  67.86538177  89.17686256 115.6839955  110.31149644  73.86923115\n",
      " 114.66450814 142.12615534 104.42162932  92.53400187 114.32241691\n",
      " 136.82318037  92.90996943 116.9140693  148.11879716 101.94617284\n",
      " 121.79535025 129.48489234 101.17003703 111.154636   114.67049301\n",
      " 119.585229    91.01074253 139.93864011 122.18844787]\n",
      "new_threshold = 445.8656000530809\n"
     ]
    },
    {
     "data": {
      "application/vnd.jupyter.widget-view+json": {
       "model_id": "e11eaa52089f4878ae1201c2f8025ed6",
       "version_major": 2,
       "version_minor": 0
      },
      "text/plain": [
       "HBox(children=(FloatProgress(value=1.0, bar_style='info', max=1.0), HTML(value='')))"
      ]
     },
     "metadata": {},
     "output_type": "display_data"
    },
    {
     "name": "stdout",
     "output_type": "stream",
     "text": [
      "--> Not exactly one containing mesh: []\n",
      "--> Not exactly one containing mesh: []\n",
      "--> Not exactly one containing mesh: []\n",
      "--> Not exactly one containing mesh: []\n",
      "--> Not exactly one containing mesh: []\n",
      "--> Not exactly one containing mesh: []\n",
      "\n",
      "new_skeleton = (15, 2, 3)\n"
     ]
    },
    {
     "data": {
      "application/vnd.jupyter.widget-view+json": {
       "model_id": "37172694ead548f79b3665de410a16dd",
       "version_major": 2,
       "version_minor": 0
      },
      "text/plain": [
       "HBox(children=(FloatProgress(value=1.0, bar_style='info', max=1.0), HTML(value='')))"
      ]
     },
     "metadata": {},
     "output_type": "display_data"
    },
    {
     "name": "stdout",
     "output_type": "stream",
     "text": [
      "--> Not exactly one containing mesh: []\n",
      "--> Not exactly one containing mesh: []\n",
      "\n",
      "filtered_measurements = [71.95625705 56.88007725 76.938266   62.63503803 91.44564555 96.81270914\n",
      " 96.45543398 81.69327838]\n",
      "new_threshold = 197.667491981394\n"
     ]
    },
    {
     "data": {
      "application/vnd.jupyter.widget-view+json": {
       "model_id": "fc8491e5f0414988928861cdc7b2361c",
       "version_major": 2,
       "version_minor": 0
      },
      "text/plain": [
       "HBox(children=(FloatProgress(value=1.0, bar_style='info', max=1.0), HTML(value='')))"
      ]
     },
     "metadata": {},
     "output_type": "display_data"
    },
    {
     "name": "stdout",
     "output_type": "stream",
     "text": [
      "--> Not exactly one containing mesh: []\n",
      "--> Not exactly one containing mesh: []\n",
      "--> Not exactly one containing mesh: []\n",
      "--> Not exactly one containing mesh: []\n",
      "--> Not exactly one containing mesh: []\n",
      "--> Not exactly one containing mesh: []\n",
      "\n",
      "new_skeleton = (45, 2, 3)\n"
     ]
    },
    {
     "data": {
      "application/vnd.jupyter.widget-view+json": {
       "model_id": "3d58200b54e44930990c906455d3c9a1",
       "version_major": 2,
       "version_minor": 0
      },
      "text/plain": [
       "HBox(children=(FloatProgress(value=1.0, bar_style='info', max=1.0), HTML(value='')))"
      ]
     },
     "metadata": {},
     "output_type": "display_data"
    },
    {
     "name": "stdout",
     "output_type": "stream",
     "text": [
      "\n",
      "filtered_measurements = [378.34685943 449.1134834  691.79260777 471.60828789 783.48259257\n",
      " 499.98017662 489.93050735 440.21171202 780.27844183 755.7969921\n",
      " 524.70932393 478.72155932 356.23130275 519.73357413 670.01726834\n",
      " 420.74260052 527.75008523 491.80644481 655.22989192 629.5038793\n",
      " 427.40582068 468.06062913 721.08683904 379.57685766 472.78256671\n",
      " 427.8318896  598.95197088 455.31716936 679.83772791 629.17629712\n",
      " 607.08026644 385.37421411 585.09710884 543.25209164 530.35350183\n",
      " 593.92300442 452.59468189]\n",
      "new_threshold = 2053.9019764078703\n"
     ]
    },
    {
     "data": {
      "application/vnd.jupyter.widget-view+json": {
       "model_id": "fd178f4cd3334320b2d5b1cacb9b22f5",
       "version_major": 2,
       "version_minor": 0
      },
      "text/plain": [
       "HBox(children=(FloatProgress(value=1.0, bar_style='info', max=1.0), HTML(value='')))"
      ]
     },
     "metadata": {},
     "output_type": "display_data"
    },
    {
     "name": "stdout",
     "output_type": "stream",
     "text": [
      "\n",
      "new_skeleton = (22, 2, 3)\n"
     ]
    },
    {
     "data": {
      "application/vnd.jupyter.widget-view+json": {
       "model_id": "a66b9c0361e24bd791156faef9343821",
       "version_major": 2,
       "version_minor": 0
      },
      "text/plain": [
       "HBox(children=(FloatProgress(value=1.0, bar_style='info', max=1.0), HTML(value='')))"
      ]
     },
     "metadata": {},
     "output_type": "display_data"
    },
    {
     "name": "stdout",
     "output_type": "stream",
     "text": [
      "--> Not exactly one containing mesh: []\n",
      "--> Not exactly one containing mesh: []\n",
      "\n",
      "filtered_measurements = [108.38365119 119.86380005 223.09399781 175.19779119 103.78034249\n",
      "  69.87780169  61.48230653  88.62097968 177.03983656 228.61848085\n",
      " 101.19740757  88.81018734 144.5269129  137.99986074 203.9852639 ]\n",
      "new_threshold = 539.6046340663437\n"
     ]
    },
    {
     "data": {
      "application/vnd.jupyter.widget-view+json": {
       "model_id": "0d545726c8e644d5b73134fc839c618e",
       "version_major": 2,
       "version_minor": 0
      },
      "text/plain": [
       "HBox(children=(FloatProgress(value=1.0, bar_style='info', max=1.0), HTML(value='')))"
      ]
     },
     "metadata": {},
     "output_type": "display_data"
    },
    {
     "name": "stdout",
     "output_type": "stream",
     "text": [
      "--> Not exactly one containing mesh: []\n",
      "--> Not exactly one containing mesh: []\n",
      "THERE WERE NO FACES THAT FIT THE DISTANCE (539.6046340663437) and Z transform requirements\n",
      "So just skipping this edge\n",
      "THERE WERE NO FACES THAT FIT THE DISTANCE (539.6046340663437) and Z transform requirements\n",
      "So just skipping this edge\n",
      "\n",
      "new_skeleton = (71, 2, 3)\n"
     ]
    },
    {
     "data": {
      "application/vnd.jupyter.widget-view+json": {
       "model_id": "fe54d06fb0c94cdaa3530eb31f1b9bd3",
       "version_major": 2,
       "version_minor": 0
      },
      "text/plain": [
       "HBox(children=(FloatProgress(value=1.0, bar_style='info', max=1.0), HTML(value='')))"
      ]
     },
     "metadata": {},
     "output_type": "display_data"
    },
    {
     "name": "stdout",
     "output_type": "stream",
     "text": [
      "--> Not exactly one containing mesh: []\n",
      "--> Not exactly one containing mesh: []\n",
      "--> Not exactly one containing mesh: []\n",
      "\n",
      "filtered_measurements = [110.88865573 148.42400107 106.87090495  84.06757247  80.51046353\n",
      "  92.78547779 105.63911832  66.16021381  93.35273598 105.6173805\n",
      " 124.20058731  92.08976707 102.70431735  79.70080531  86.96971397\n",
      "  79.83692984 109.77095745  93.02500174 100.92128327 145.07474065\n",
      " 142.63083634 113.21849673  83.01622296  66.54622471  87.24522763\n",
      " 163.10075328  78.57911996 107.2836427  160.8854489  113.61665245\n",
      " 117.78815543 136.35523808 135.82174352 163.78544221 122.82384161\n",
      " 112.16417208 104.46817298 131.27662631  92.92568308  84.51809959\n",
      "  91.12294828 112.74080217  80.17481737  81.71480958 108.83769613\n",
      "  73.93867541 161.47352732 114.04573074  99.12862763  87.98169393\n",
      "  64.25389239 111.57964101 127.35153977  85.32645462 104.50922945\n",
      " 131.1186741  113.70933471]\n",
      "new_threshold = 351.17905689082204\n"
     ]
    },
    {
     "data": {
      "application/vnd.jupyter.widget-view+json": {
       "model_id": "6994c0e38a0b4a5fa60972e55a83c3b7",
       "version_major": 2,
       "version_minor": 0
      },
      "text/plain": [
       "HBox(children=(FloatProgress(value=1.0, bar_style='info', max=1.0), HTML(value='')))"
      ]
     },
     "metadata": {},
     "output_type": "display_data"
    },
    {
     "name": "stdout",
     "output_type": "stream",
     "text": [
      "--> Not exactly one containing mesh: []\n",
      "--> Not exactly one containing mesh: []\n",
      "--> Not exactly one containing mesh: []\n",
      "\n",
      "new_skeleton = (52, 2, 3)\n"
     ]
    },
    {
     "data": {
      "application/vnd.jupyter.widget-view+json": {
       "model_id": "e3750dc3c8894357b05db80e79b23127",
       "version_major": 2,
       "version_minor": 0
      },
      "text/plain": [
       "HBox(children=(FloatProgress(value=1.0, bar_style='info', max=1.0), HTML(value='')))"
      ]
     },
     "metadata": {},
     "output_type": "display_data"
    },
    {
     "name": "stdout",
     "output_type": "stream",
     "text": [
      "\n",
      "filtered_measurements = [480.30796222 497.89980453 389.27943905 420.31197156 516.93843838\n",
      " 490.65951861 805.60741511 447.55919845 714.47796884 591.40274441\n",
      " 500.95476759 406.26731864 750.20750083 405.94169247 380.12474071\n",
      " 397.15773417 390.74096223 527.34408527 591.42396421 703.65871261\n",
      " 582.77846283 552.36246806 585.21987729 552.23444069 375.65520377\n",
      " 303.17159391 773.50098969 816.188346   620.96208564 551.10635642\n",
      " 672.06134551 455.68582164 577.82948042 655.17297738 598.85925129\n",
      " 576.60613327 470.28350023 579.9432116  484.80549955 617.56272149\n",
      " 391.87975649 727.43845078 536.37486453 603.71526502 463.98601005\n",
      " 478.21042125 658.69759985]\n",
      "new_threshold = 1937.578224338125\n"
     ]
    },
    {
     "data": {
      "application/vnd.jupyter.widget-view+json": {
       "model_id": "9f11694b5162403ea8aae7e5e2b06523",
       "version_major": 2,
       "version_minor": 0
      },
      "text/plain": [
       "HBox(children=(FloatProgress(value=1.0, bar_style='info', max=1.0), HTML(value='')))"
      ]
     },
     "metadata": {},
     "output_type": "display_data"
    },
    {
     "name": "stdout",
     "output_type": "stream",
     "text": [
      "\n",
      "new_skeleton = (89, 2, 3)\n"
     ]
    },
    {
     "data": {
      "application/vnd.jupyter.widget-view+json": {
       "model_id": "410bce0c804b43ccaf785ef1e17c52f0",
       "version_major": 2,
       "version_minor": 0
      },
      "text/plain": [
       "HBox(children=(FloatProgress(value=1.0, bar_style='info', max=1.0), HTML(value='')))"
      ]
     },
     "metadata": {},
     "output_type": "display_data"
    },
    {
     "name": "stdout",
     "output_type": "stream",
     "text": [
      "\n",
      "filtered_measurements = [125.4212328  183.11779487 273.1114392  203.71828477 542.45773179\n",
      " 573.78735581 641.50691686 394.45658005 512.97930367 627.26629854\n",
      " 399.92849002 617.16738094 218.85000974 509.29424627 290.53542599\n",
      " 446.37427895 355.28828471 238.6118627  383.78161692 286.1359999\n",
      " 614.56565804 240.78907785 356.67060054 475.40254799 500.10936412\n",
      " 500.4458368  484.69167344 246.98002342 203.24828192 452.10672146\n",
      " 367.05128738 337.71840592 299.5343852  358.70699727 468.26960043\n",
      " 525.64959184 346.93464583 570.42834196 574.29091625 452.04255271\n",
      " 449.79775302 343.46875484 631.78954993 298.15089238 597.59995548\n",
      " 418.13072885 349.30082658 541.64526537 418.69787058 397.8792688\n",
      " 335.87492338 356.29865295 420.68864721 560.00382361 515.17525119\n",
      " 239.46179866 609.03237067 528.24957755 601.22558432 515.61289862\n",
      " 501.40171013 508.30159445 278.8545526  434.49772152 432.59347466\n",
      " 427.93257679 353.35825353 392.34985879 386.52073065 648.7257479\n",
      " 319.81025381 458.25991361 268.1076639  197.46550207 212.91632496\n",
      " 615.29796415 292.8838555  426.15824503 352.18619252 572.83326949]\n",
      "new_threshold = 1723.6041477570047\n"
     ]
    },
    {
     "data": {
      "application/vnd.jupyter.widget-view+json": {
       "model_id": "afb67ed0f0da49be9eeff6b03383f2fe",
       "version_major": 2,
       "version_minor": 0
      },
      "text/plain": [
       "HBox(children=(FloatProgress(value=1.0, bar_style='info', max=1.0), HTML(value='')))"
      ]
     },
     "metadata": {},
     "output_type": "display_data"
    },
    {
     "name": "stdout",
     "output_type": "stream",
     "text": [
      "\n",
      "new_skeleton = (76, 2, 3)\n"
     ]
    },
    {
     "data": {
      "application/vnd.jupyter.widget-view+json": {
       "model_id": "bad50ab9496c469792539c2f641f2eb0",
       "version_major": 2,
       "version_minor": 0
      },
      "text/plain": [
       "HBox(children=(FloatProgress(value=1.0, bar_style='info', max=1.0), HTML(value='')))"
      ]
     },
     "metadata": {},
     "output_type": "display_data"
    },
    {
     "name": "stdout",
     "output_type": "stream",
     "text": [
      "--> Not exactly one containing mesh: []\n",
      "\n",
      "filtered_measurements = [291.40949404 243.66719405 180.46815239 372.44945101 295.71170461\n",
      " 436.65244695 282.28352422 396.5815075  614.49605884 524.19116349\n",
      " 637.47648006 608.25782174 376.91814917 371.79712303 337.35883654\n",
      " 504.12069536 386.28903751 362.70415691 444.10730556 392.55203377\n",
      " 388.74099545 509.82082144 324.91975011 649.07862805 501.91864973\n",
      " 442.61426393 440.03143318 409.80783396 370.22685439 466.85932953\n",
      " 586.49734667 523.54792483 394.02750961 375.35093843 396.35236016\n",
      " 333.44247095 480.62326589 300.73759002 464.93911026 655.16242903\n",
      " 399.24324509 305.09036849 352.9931748  449.06048956 464.28460657\n",
      " 632.15265134 569.36609179 366.62655179 399.77505501 388.76650287\n",
      " 552.76499794 405.78861589 403.31465462 346.38377683 464.04749892\n",
      " 276.39472802 358.38715278 308.05322465 461.29838459]\n",
      "new_threshold = 1593.9849335338467\n"
     ]
    },
    {
     "data": {
      "application/vnd.jupyter.widget-view+json": {
       "model_id": "657aba462e90409596b3a2909227cb70",
       "version_major": 2,
       "version_minor": 0
      },
      "text/plain": [
       "HBox(children=(FloatProgress(value=1.0, bar_style='info', max=1.0), HTML(value='')))"
      ]
     },
     "metadata": {},
     "output_type": "display_data"
    },
    {
     "name": "stdout",
     "output_type": "stream",
     "text": [
      "--> Not exactly one containing mesh: []\n",
      "\n",
      "new_skeleton = (7, 2, 3)\n"
     ]
    },
    {
     "data": {
      "application/vnd.jupyter.widget-view+json": {
       "model_id": "ca00c54cc9fa44e3a80c4ea2a728a6af",
       "version_major": 2,
       "version_minor": 0
      },
      "text/plain": [
       "HBox(children=(FloatProgress(value=1.0, bar_style='info', max=1.0), HTML(value='')))"
      ]
     },
     "metadata": {},
     "output_type": "display_data"
    },
    {
     "name": "stdout",
     "output_type": "stream",
     "text": [
      "\n",
      "filtered_measurements = [766.06390273 892.88242119 805.43301121 477.66931645 856.95954183]\n",
      "new_threshold = 2071.5192307946045\n"
     ]
    },
    {
     "data": {
      "application/vnd.jupyter.widget-view+json": {
       "model_id": "959037d62d4f403398dd8f6ec30b3da9",
       "version_major": 2,
       "version_minor": 0
      },
      "text/plain": [
       "HBox(children=(FloatProgress(value=1.0, bar_style='info', max=1.0), HTML(value='')))"
      ]
     },
     "metadata": {},
     "output_type": "display_data"
    },
    {
     "name": "stdout",
     "output_type": "stream",
     "text": [
      "\n",
      "new_skeleton = (39, 2, 3)\n"
     ]
    },
    {
     "data": {
      "application/vnd.jupyter.widget-view+json": {
       "model_id": "8daac363f6d341cebf806c51d17a16ff",
       "version_major": 2,
       "version_minor": 0
      },
      "text/plain": [
       "HBox(children=(FloatProgress(value=1.0, bar_style='info', max=1.0), HTML(value='')))"
      ]
     },
     "metadata": {},
     "output_type": "display_data"
    },
    {
     "name": "stdout",
     "output_type": "stream",
     "text": [
      "\n",
      "filtered_measurements = [607.15051747 465.6468822  543.58524938 538.95398456 707.12565446\n",
      " 607.91435112 679.48144063 503.53570018 449.590188   501.52444641\n",
      " 520.01943649 596.1496268  548.02096501 432.92335121 435.43504029\n",
      " 434.71366152 548.64910136 418.28385422 441.44609959 456.41537277\n",
      " 791.08530419 588.12914112 538.97914041 647.53089277 479.92529359\n",
      " 446.47892467 457.76584162 527.40337417 635.80586637 448.98945322\n",
      " 453.00800296 451.24242219 449.9744289  603.94880112 609.37415536\n",
      " 556.95187727]\n",
      "new_threshold = 1680.0558035279032\n"
     ]
    },
    {
     "data": {
      "application/vnd.jupyter.widget-view+json": {
       "model_id": "7937f277c52e4604a21a10749d03289c",
       "version_major": 2,
       "version_minor": 0
      },
      "text/plain": [
       "HBox(children=(FloatProgress(value=1.0, bar_style='info', max=1.0), HTML(value='')))"
      ]
     },
     "metadata": {},
     "output_type": "display_data"
    },
    {
     "name": "stdout",
     "output_type": "stream",
     "text": [
      "\n",
      "new_skeleton = (21, 2, 3)\n"
     ]
    },
    {
     "data": {
      "application/vnd.jupyter.widget-view+json": {
       "model_id": "309da4e742264b7b98ac70f60d6f7a03",
       "version_major": 2,
       "version_minor": 0
      },
      "text/plain": [
       "HBox(children=(FloatProgress(value=1.0, bar_style='info', max=1.0), HTML(value='')))"
      ]
     },
     "metadata": {},
     "output_type": "display_data"
    },
    {
     "name": "stdout",
     "output_type": "stream",
     "text": [
      "\n",
      "filtered_measurements = [371.40119948 404.71427703 276.53247315 567.49231011 308.14306776\n",
      " 477.96104984 664.09259302 400.2360399  308.07774967 477.41737726\n",
      " 493.4604822  464.37284728 618.29668403 449.50987302]\n",
      "new_threshold = 1525.1424046418954\n"
     ]
    },
    {
     "data": {
      "application/vnd.jupyter.widget-view+json": {
       "model_id": "126d9869c1fd407eb7ea31809f7e4e7e",
       "version_major": 2,
       "version_minor": 0
      },
      "text/plain": [
       "HBox(children=(FloatProgress(value=1.0, bar_style='info', max=1.0), HTML(value='')))"
      ]
     },
     "metadata": {},
     "output_type": "display_data"
    },
    {
     "name": "stdout",
     "output_type": "stream",
     "text": [
      "\n",
      "new_skeleton = (21, 2, 3)\n"
     ]
    },
    {
     "data": {
      "application/vnd.jupyter.widget-view+json": {
       "model_id": "7842d53d5bd949d0b4599bef2fc9f6fd",
       "version_major": 2,
       "version_minor": 0
      },
      "text/plain": [
       "HBox(children=(FloatProgress(value=1.0, bar_style='info', max=1.0), HTML(value='')))"
      ]
     },
     "metadata": {},
     "output_type": "display_data"
    },
    {
     "name": "stdout",
     "output_type": "stream",
     "text": [
      "\n",
      "filtered_measurements = [321.80519369 325.34328558 602.99521279 685.77479739 367.79175973\n",
      " 494.30141621 409.36425062 451.31095402 428.18996227 676.854625\n",
      " 712.61067156 482.76952509 364.78295013 618.79893229 661.8896247\n",
      " 554.49535901 522.14928374 407.9359091 ]\n",
      "new_threshold = 1719.8416067143553\n"
     ]
    },
    {
     "data": {
      "application/vnd.jupyter.widget-view+json": {
       "model_id": "cd59abad4fb74f9390165117d6be1373",
       "version_major": 2,
       "version_minor": 0
      },
      "text/plain": [
       "HBox(children=(FloatProgress(value=1.0, bar_style='info', max=1.0), HTML(value='')))"
      ]
     },
     "metadata": {},
     "output_type": "display_data"
    },
    {
     "name": "stdout",
     "output_type": "stream",
     "text": [
      "\n",
      "new_skeleton = (13, 2, 3)\n"
     ]
    },
    {
     "data": {
      "application/vnd.jupyter.widget-view+json": {
       "model_id": "469633e849c249288c8b7d8d026d1a68",
       "version_major": 2,
       "version_minor": 0
      },
      "text/plain": [
       "HBox(children=(FloatProgress(value=1.0, bar_style='info', max=1.0), HTML(value='')))"
      ]
     },
     "metadata": {},
     "output_type": "display_data"
    },
    {
     "name": "stdout",
     "output_type": "stream",
     "text": [
      "\n",
      "filtered_measurements = [ 75.95883677  77.43217608 104.46142565  92.7136392  126.83731399\n",
      " 110.21714119 133.54965238  96.41862862 106.46940803  78.01246158]\n",
      "new_threshold = 265.5137451593712\n"
     ]
    },
    {
     "data": {
      "application/vnd.jupyter.widget-view+json": {
       "model_id": "b1cffe1fc1df4bb19e177921a8e0a836",
       "version_major": 2,
       "version_minor": 0
      },
      "text/plain": [
       "HBox(children=(FloatProgress(value=1.0, bar_style='info', max=1.0), HTML(value='')))"
      ]
     },
     "metadata": {},
     "output_type": "display_data"
    },
    {
     "name": "stdout",
     "output_type": "stream",
     "text": [
      "--> Not exactly one containing mesh: []\n",
      "\n",
      "new_skeleton = (7, 2, 3)\n"
     ]
    },
    {
     "data": {
      "application/vnd.jupyter.widget-view+json": {
       "model_id": "33c2774ef8624157b555a79bffcbf09c",
       "version_major": 2,
       "version_minor": 0
      },
      "text/plain": [
       "HBox(children=(FloatProgress(value=1.0, bar_style='info', max=1.0), HTML(value='')))"
      ]
     },
     "metadata": {},
     "output_type": "display_data"
    },
    {
     "name": "stdout",
     "output_type": "stream",
     "text": [
      "--> Not exactly one containing mesh: []\n",
      "--> Not exactly one containing mesh: []\n",
      "\n",
      "filtered_measurements = [1198.58635352  131.51740746 1542.36597059 1287.37315169  322.03429508]\n",
      "new_threshold = 3098.7193698997917\n"
     ]
    },
    {
     "data": {
      "application/vnd.jupyter.widget-view+json": {
       "model_id": "175a07e8149c49279c48e98ef5b7f8cd",
       "version_major": 2,
       "version_minor": 0
      },
      "text/plain": [
       "HBox(children=(FloatProgress(value=1.0, bar_style='info', max=1.0), HTML(value='')))"
      ]
     },
     "metadata": {},
     "output_type": "display_data"
    },
    {
     "name": "stdout",
     "output_type": "stream",
     "text": [
      "--> Not exactly one containing mesh: []\n",
      "--> Not exactly one containing mesh: []\n",
      "\n",
      "new_skeleton = (23, 2, 3)\n"
     ]
    },
    {
     "data": {
      "application/vnd.jupyter.widget-view+json": {
       "model_id": "d9b37ca4c385448792da81177da488bc",
       "version_major": 2,
       "version_minor": 0
      },
      "text/plain": [
       "HBox(children=(FloatProgress(value=1.0, bar_style='info', max=1.0), HTML(value='')))"
      ]
     },
     "metadata": {},
     "output_type": "display_data"
    },
    {
     "name": "stdout",
     "output_type": "stream",
     "text": [
      "\n",
      "filtered_measurements = [559.41927327 473.68787515 414.81087232 375.2361374  583.58428673\n",
      " 368.47806147 400.12646169 637.65666873 524.68307625 714.72773556\n",
      " 312.46903261 602.5390156  457.38402699 488.39981391 613.29806889\n",
      " 408.43009267 390.96769319 382.29259879]\n",
      "new_threshold = 1765.521240172872\n"
     ]
    },
    {
     "data": {
      "application/vnd.jupyter.widget-view+json": {
       "model_id": "bc8a359ece574f72aa19609aa219ec67",
       "version_major": 2,
       "version_minor": 0
      },
      "text/plain": [
       "HBox(children=(FloatProgress(value=1.0, bar_style='info', max=1.0), HTML(value='')))"
      ]
     },
     "metadata": {},
     "output_type": "display_data"
    },
    {
     "name": "stdout",
     "output_type": "stream",
     "text": [
      "\n",
      "new_skeleton = (18, 2, 3)\n"
     ]
    },
    {
     "data": {
      "application/vnd.jupyter.widget-view+json": {
       "model_id": "515fce7f7aac4bc2a940bf6413b554f1",
       "version_major": 2,
       "version_minor": 0
      },
      "text/plain": [
       "HBox(children=(FloatProgress(value=1.0, bar_style='info', max=1.0), HTML(value='')))"
      ]
     },
     "metadata": {},
     "output_type": "display_data"
    },
    {
     "name": "stdout",
     "output_type": "stream",
     "text": [
      "\n",
      "filtered_measurements = [ 579.95528532  897.61687373  850.02042719 1099.28740305  423.99222449\n",
      "  442.12084241  749.32240756  330.77320253  938.89852849  603.57919222\n",
      "  864.46255182  349.44850485  335.5197063 ]\n",
      "new_threshold = 2622.557778422162\n"
     ]
    },
    {
     "data": {
      "application/vnd.jupyter.widget-view+json": {
       "model_id": "5a91ecddc9a44056bfef91acf727f130",
       "version_major": 2,
       "version_minor": 0
      },
      "text/plain": [
       "HBox(children=(FloatProgress(value=1.0, bar_style='info', max=1.0), HTML(value='')))"
      ]
     },
     "metadata": {},
     "output_type": "display_data"
    },
    {
     "name": "stdout",
     "output_type": "stream",
     "text": [
      "\n",
      "new_skeleton = (29, 2, 3)\n"
     ]
    },
    {
     "data": {
      "application/vnd.jupyter.widget-view+json": {
       "model_id": "cb7a6ef19bef4d5b9aa55de32b393e08",
       "version_major": 2,
       "version_minor": 0
      },
      "text/plain": [
       "HBox(children=(FloatProgress(value=1.0, bar_style='info', max=1.0), HTML(value='')))"
      ]
     },
     "metadata": {},
     "output_type": "display_data"
    },
    {
     "name": "stdout",
     "output_type": "stream",
     "text": [
      "--> Not exactly one containing mesh: []\n",
      "--> Not exactly one containing mesh: []\n",
      "--> Not exactly one containing mesh: []\n",
      "--> Not exactly one containing mesh: []\n",
      "\n",
      "filtered_measurements = [124.8211295  168.22288759 116.20905692  99.82365276  70.74755889\n",
      "  76.12868599 118.32486468 145.90856784  87.67264232 106.39792261\n",
      " 151.19794903 104.04690567  78.57351846  79.07449776 122.05767932\n",
      "  94.83837418  76.94221067 134.81385999  65.9110497   93.81017904\n",
      "  88.91840487 127.00245553 131.23078646]\n",
      "new_threshold = 302.26652134553217\n"
     ]
    },
    {
     "data": {
      "application/vnd.jupyter.widget-view+json": {
       "model_id": "7979ece273fe49d4aaf842d009d3045f",
       "version_major": 2,
       "version_minor": 0
      },
      "text/plain": [
       "HBox(children=(FloatProgress(value=1.0, bar_style='info', max=1.0), HTML(value='')))"
      ]
     },
     "metadata": {},
     "output_type": "display_data"
    },
    {
     "name": "stdout",
     "output_type": "stream",
     "text": [
      "--> Not exactly one containing mesh: []\n",
      "--> Not exactly one containing mesh: []\n",
      "--> Not exactly one containing mesh: []\n",
      "--> Not exactly one containing mesh: []\n",
      "\n",
      "new_skeleton = (34, 2, 3)\n"
     ]
    },
    {
     "data": {
      "application/vnd.jupyter.widget-view+json": {
       "model_id": "3cbcb7c7ef0146e9b751a923902e76e8",
       "version_major": 2,
       "version_minor": 0
      },
      "text/plain": [
       "HBox(children=(FloatProgress(value=1.0, bar_style='info', max=1.0), HTML(value='')))"
      ]
     },
     "metadata": {},
     "output_type": "display_data"
    },
    {
     "name": "stdout",
     "output_type": "stream",
     "text": [
      "--> Not exactly one containing mesh: []\n",
      "\n",
      "filtered_measurements = [117.65613745 108.46035671 143.33510434 153.90753976 108.12132672\n",
      " 119.60945204 108.56881097  97.83422039 119.49548085 121.29058532\n",
      " 134.50253546 113.08995912  81.40874077  99.095608   118.35385522\n",
      " 133.41353009  73.79595658 145.62786853 194.90457392 118.4540729\n",
      " 137.36262937 120.82817973]\n",
      "new_threshold = 376.45465163836104\n"
     ]
    },
    {
     "data": {
      "application/vnd.jupyter.widget-view+json": {
       "model_id": "05fcec49c5b642c3b84df282350a3c03",
       "version_major": 2,
       "version_minor": 0
      },
      "text/plain": [
       "HBox(children=(FloatProgress(value=1.0, bar_style='info', max=1.0), HTML(value='')))"
      ]
     },
     "metadata": {},
     "output_type": "display_data"
    },
    {
     "name": "stdout",
     "output_type": "stream",
     "text": [
      "--> Not exactly one containing mesh: []\n",
      "--> Not exactly one containing mesh: []\n",
      "\n",
      "new_skeleton = (21, 2, 3)\n"
     ]
    },
    {
     "data": {
      "application/vnd.jupyter.widget-view+json": {
       "model_id": "bb5aee74b7aa42e1a37e1bb4688902fa",
       "version_major": 2,
       "version_minor": 0
      },
      "text/plain": [
       "HBox(children=(FloatProgress(value=1.0, bar_style='info', max=1.0), HTML(value='')))"
      ]
     },
     "metadata": {},
     "output_type": "display_data"
    },
    {
     "name": "stdout",
     "output_type": "stream",
     "text": [
      "--> Not exactly one containing mesh: []\n",
      "\n",
      "filtered_measurements = [575.42497168 449.57640072 515.40624587 498.55806184 545.4295115\n",
      " 546.02139451 596.57073986 597.99127825 564.99551878 530.23929378\n",
      " 494.78286062 526.16444212 524.59820117 550.82012039]\n",
      "new_threshold = 1170.7766530187464\n"
     ]
    },
    {
     "data": {
      "application/vnd.jupyter.widget-view+json": {
       "model_id": "bce70a6aa0c84257b13b69007d14d30e",
       "version_major": 2,
       "version_minor": 0
      },
      "text/plain": [
       "HBox(children=(FloatProgress(value=1.0, bar_style='info', max=1.0), HTML(value='')))"
      ]
     },
     "metadata": {},
     "output_type": "display_data"
    },
    {
     "name": "stdout",
     "output_type": "stream",
     "text": [
      "--> Not exactly one containing mesh: []\n",
      "THERE WERE NO FACES THAT FIT THE DISTANCE (1170.7766530187464) and Z transform requirements\n",
      "So just skipping this edge\n",
      "THERE WERE NO FACES THAT FIT THE DISTANCE (1170.7766530187464) and Z transform requirements\n",
      "So just skipping this edge\n",
      "THERE WERE NO FACES THAT FIT THE DISTANCE (1170.7766530187464) and Z transform requirements\n",
      "So just skipping this edge\n",
      "\n",
      "new_skeleton = (10, 2, 3)\n"
     ]
    },
    {
     "data": {
      "application/vnd.jupyter.widget-view+json": {
       "model_id": "6e71c9068ea0419f8251ddb2a49a00f6",
       "version_major": 2,
       "version_minor": 0
      },
      "text/plain": [
       "HBox(children=(FloatProgress(value=1.0, bar_style='info', max=1.0), HTML(value='')))"
      ]
     },
     "metadata": {},
     "output_type": "display_data"
    },
    {
     "name": "stdout",
     "output_type": "stream",
     "text": [
      "\n",
      "filtered_measurements = [409.08898238 358.4697581  320.98395752 282.75972725 404.41418353\n",
      " 384.7791695 ]\n",
      "new_threshold = 771.5447517684621\n"
     ]
    },
    {
     "data": {
      "application/vnd.jupyter.widget-view+json": {
       "model_id": "0291c39045c24bb89fef37943281161f",
       "version_major": 2,
       "version_minor": 0
      },
      "text/plain": [
       "HBox(children=(FloatProgress(value=1.0, bar_style='info', max=1.0), HTML(value='')))"
      ]
     },
     "metadata": {},
     "output_type": "display_data"
    },
    {
     "name": "stdout",
     "output_type": "stream",
     "text": [
      "\n",
      "new_skeleton = (6, 2, 3)\n"
     ]
    },
    {
     "data": {
      "application/vnd.jupyter.widget-view+json": {
       "model_id": "7afc9bc631e64c4689351be838b861b8",
       "version_major": 2,
       "version_minor": 0
      },
      "text/plain": [
       "HBox(children=(FloatProgress(value=1.0, bar_style='info', max=1.0), HTML(value='')))"
      ]
     },
     "metadata": {},
     "output_type": "display_data"
    },
    {
     "name": "stdout",
     "output_type": "stream",
     "text": [
      "--> Not exactly one containing mesh: []\n",
      "--> Not exactly one containing mesh: []\n",
      "\n",
      "filtered_measurements = [283.01408264  98.13715761 105.64012364]\n",
      "new_threshold = 490.59180980335634\n"
     ]
    },
    {
     "data": {
      "application/vnd.jupyter.widget-view+json": {
       "model_id": "d85835b57cc240feb76ead623bc1eac1",
       "version_major": 2,
       "version_minor": 0
      },
      "text/plain": [
       "HBox(children=(FloatProgress(value=1.0, bar_style='info', max=1.0), HTML(value='')))"
      ]
     },
     "metadata": {},
     "output_type": "display_data"
    },
    {
     "name": "stdout",
     "output_type": "stream",
     "text": [
      "--> Not exactly one containing mesh: []\n",
      "--> Not exactly one containing mesh: []\n",
      "\n",
      "new_skeleton = (22, 2, 3)\n"
     ]
    },
    {
     "data": {
      "application/vnd.jupyter.widget-view+json": {
       "model_id": "bbb78ccd0bbb41aca69d5e020bf069cd",
       "version_major": 2,
       "version_minor": 0
      },
      "text/plain": [
       "HBox(children=(FloatProgress(value=1.0, bar_style='info', max=1.0), HTML(value='')))"
      ]
     },
     "metadata": {},
     "output_type": "display_data"
    },
    {
     "name": "stdout",
     "output_type": "stream",
     "text": [
      "--> Not exactly one containing mesh: []\n",
      "\n",
      "filtered_measurements = [119.06566207 104.97471474 193.2279482  171.31220469 118.80835925\n",
      " 125.57014987 123.81507339 172.21254329 135.64029315 137.85382534\n",
      " 173.95236191 144.9937897  137.9435509  131.2424389  169.0298522\n",
      " 143.7893113  109.52357738]\n",
      "new_threshold = 395.62051731456904\n"
     ]
    },
    {
     "data": {
      "application/vnd.jupyter.widget-view+json": {
       "model_id": "0f6c952c8a3c4f318ddfb1833dff3a2a",
       "version_major": 2,
       "version_minor": 0
      },
      "text/plain": [
       "HBox(children=(FloatProgress(value=1.0, bar_style='info', max=1.0), HTML(value='')))"
      ]
     },
     "metadata": {},
     "output_type": "display_data"
    },
    {
     "name": "stdout",
     "output_type": "stream",
     "text": [
      "--> Not exactly one containing mesh: []\n",
      "\n",
      "new_skeleton = (12, 2, 3)\n"
     ]
    },
    {
     "data": {
      "application/vnd.jupyter.widget-view+json": {
       "model_id": "f106095bb42f4fbda265597718bf176e",
       "version_major": 2,
       "version_minor": 0
      },
      "text/plain": [
       "HBox(children=(FloatProgress(value=1.0, bar_style='info', max=1.0), HTML(value='')))"
      ]
     },
     "metadata": {},
     "output_type": "display_data"
    },
    {
     "name": "stdout",
     "output_type": "stream",
     "text": [
      "\n",
      "filtered_measurements = [1155.86804762  778.1926688   872.06696478  863.11473944  970.79621957\n",
      "  760.07277606  775.27513665  981.29544623  704.06296328]\n",
      "new_threshold = 2275.811490348735\n"
     ]
    },
    {
     "data": {
      "application/vnd.jupyter.widget-view+json": {
       "model_id": "4036f97e760f443d8356bfffea764116",
       "version_major": 2,
       "version_minor": 0
      },
      "text/plain": [
       "HBox(children=(FloatProgress(value=1.0, bar_style='info', max=1.0), HTML(value='')))"
      ]
     },
     "metadata": {},
     "output_type": "display_data"
    },
    {
     "name": "stdout",
     "output_type": "stream",
     "text": [
      "\n",
      "new_skeleton = (11, 2, 3)\n"
     ]
    },
    {
     "data": {
      "application/vnd.jupyter.widget-view+json": {
       "model_id": "b1785e1e538440e1b45ee727779ab8bc",
       "version_major": 2,
       "version_minor": 0
      },
      "text/plain": [
       "HBox(children=(FloatProgress(value=1.0, bar_style='info', max=1.0), HTML(value='')))"
      ]
     },
     "metadata": {},
     "output_type": "display_data"
    },
    {
     "name": "stdout",
     "output_type": "stream",
     "text": [
      "--> Not exactly one containing mesh: [0 1]\n",
      "\n",
      "filtered_measurements = [135.16919731 110.12297952 271.20045675 346.96823346 455.36629034\n",
      " 125.30086163 418.01358264 488.92312833]\n",
      "new_threshold = 1035.7438029976138\n"
     ]
    },
    {
     "data": {
      "application/vnd.jupyter.widget-view+json": {
       "model_id": "46b70600da6b4ee788949449a7a4f105",
       "version_major": 2,
       "version_minor": 0
      },
      "text/plain": [
       "HBox(children=(FloatProgress(value=1.0, bar_style='info', max=1.0), HTML(value='')))"
      ]
     },
     "metadata": {},
     "output_type": "display_data"
    },
    {
     "name": "stdout",
     "output_type": "stream",
     "text": [
      "\n",
      "new_skeleton = (5, 2, 3)\n"
     ]
    },
    {
     "data": {
      "application/vnd.jupyter.widget-view+json": {
       "model_id": "f79929ff79c54ee9ad2025b5e3b63186",
       "version_major": 2,
       "version_minor": 0
      },
      "text/plain": [
       "HBox(children=(FloatProgress(value=1.0, bar_style='info', max=1.0), HTML(value='')))"
      ]
     },
     "metadata": {},
     "output_type": "display_data"
    },
    {
     "name": "stdout",
     "output_type": "stream",
     "text": [
      "\n",
      "filtered_measurements = [424.41796341 502.95176843]\n",
      "new_threshold = 1135.473456519212\n"
     ]
    },
    {
     "data": {
      "application/vnd.jupyter.widget-view+json": {
       "model_id": "3586642f6dea44c19060248cd67fbc49",
       "version_major": 2,
       "version_minor": 0
      },
      "text/plain": [
       "HBox(children=(FloatProgress(value=1.0, bar_style='info', max=1.0), HTML(value='')))"
      ]
     },
     "metadata": {},
     "output_type": "display_data"
    },
    {
     "name": "stdout",
     "output_type": "stream",
     "text": [
      "\n",
      "new_skeleton = (2, 2, 3)\n"
     ]
    },
    {
     "data": {
      "application/vnd.jupyter.widget-view+json": {
       "model_id": "578ca7c084b64417b47befa64bb45735",
       "version_major": 2,
       "version_minor": 0
      },
      "text/plain": [
       "HBox(children=(FloatProgress(value=1.0, bar_style='info', max=1.0), HTML(value='')))"
      ]
     },
     "metadata": {},
     "output_type": "display_data"
    },
    {
     "name": "stdout",
     "output_type": "stream",
     "text": [
      "--> Not exactly one containing mesh: [0 2]\n",
      "\n",
      "filtered_measurements = [1021.75711388  995.21699037]\n",
      "new_threshold = 1746.8993835811693\n"
     ]
    },
    {
     "data": {
      "application/vnd.jupyter.widget-view+json": {
       "model_id": "55b2da1c69fe4ab78ede255bbed80a0f",
       "version_major": 2,
       "version_minor": 0
      },
      "text/plain": [
       "HBox(children=(FloatProgress(value=1.0, bar_style='info', max=1.0), HTML(value='')))"
      ]
     },
     "metadata": {},
     "output_type": "display_data"
    },
    {
     "name": "stdout",
     "output_type": "stream",
     "text": [
      "\n",
      "new_skeleton = (18, 2, 3)\n"
     ]
    },
    {
     "data": {
      "application/vnd.jupyter.widget-view+json": {
       "model_id": "27c0dfffc6864bf3bd2230f894328323",
       "version_major": 2,
       "version_minor": 0
      },
      "text/plain": [
       "HBox(children=(FloatProgress(value=1.0, bar_style='info', max=1.0), HTML(value='')))"
      ]
     },
     "metadata": {},
     "output_type": "display_data"
    },
    {
     "name": "stdout",
     "output_type": "stream",
     "text": [
      "\n",
      "filtered_measurements = [ 954.81962036 1131.59800489 1267.17406952  859.72310435 1036.00201564\n",
      " 1026.34334626 1076.79025136 1161.11912345 1136.92519222 1026.72578524\n",
      " 1216.42232198  961.17986536 1249.36725505 1063.7255175  1112.52792906\n",
      " 1162.67249083]\n",
      "new_threshold = 2535.4139844001484\n"
     ]
    },
    {
     "data": {
      "application/vnd.jupyter.widget-view+json": {
       "model_id": "b4909e9d7b2a4282955a03693debd158",
       "version_major": 2,
       "version_minor": 0
      },
      "text/plain": [
       "HBox(children=(FloatProgress(value=1.0, bar_style='info', max=1.0), HTML(value='')))"
      ]
     },
     "metadata": {},
     "output_type": "display_data"
    },
    {
     "name": "stdout",
     "output_type": "stream",
     "text": [
      "\n",
      "new_skeleton = (2, 2, 3)\n"
     ]
    },
    {
     "data": {
      "application/vnd.jupyter.widget-view+json": {
       "model_id": "37127dc55dd84cf7b47076a77eea462c",
       "version_major": 2,
       "version_minor": 0
      },
      "text/plain": [
       "HBox(children=(FloatProgress(value=1.0, bar_style='info', max=1.0), HTML(value='')))"
      ]
     },
     "metadata": {},
     "output_type": "display_data"
    },
    {
     "name": "stdout",
     "output_type": "stream",
     "text": [
      "--> Not exactly one containing mesh: []\n",
      "\n",
      "filtered_measurements = [1690.26257471  564.6208455 ]\n",
      "new_threshold = 3106.918309600678\n"
     ]
    },
    {
     "data": {
      "application/vnd.jupyter.widget-view+json": {
       "model_id": "60bb71a76cc74fb9856095142d375b71",
       "version_major": 2,
       "version_minor": 0
      },
      "text/plain": [
       "HBox(children=(FloatProgress(value=1.0, bar_style='info', max=1.0), HTML(value='')))"
      ]
     },
     "metadata": {},
     "output_type": "display_data"
    },
    {
     "name": "stdout",
     "output_type": "stream",
     "text": [
      "--> Not exactly one containing mesh: []\n",
      "\n",
      "new_skeleton = (10, 2, 3)\n"
     ]
    },
    {
     "data": {
      "application/vnd.jupyter.widget-view+json": {
       "model_id": "84bfc32830e64092a973176e6e7af2fb",
       "version_major": 2,
       "version_minor": 0
      },
      "text/plain": [
       "HBox(children=(FloatProgress(value=1.0, bar_style='info', max=1.0), HTML(value='')))"
      ]
     },
     "metadata": {},
     "output_type": "display_data"
    },
    {
     "name": "stdout",
     "output_type": "stream",
     "text": [
      "--> Not exactly one containing mesh: [0 1]\n",
      "--> Not exactly one containing mesh: []\n",
      "\n",
      "filtered_measurements = [115.56530128 149.50471727 145.87719071 155.24907292 130.65306696\n",
      " 173.23162844  82.36178291]\n",
      "new_threshold = 363.6075919864254\n"
     ]
    },
    {
     "data": {
      "application/vnd.jupyter.widget-view+json": {
       "model_id": "0b69116e76284065a8f1ff164732b7d2",
       "version_major": 2,
       "version_minor": 0
      },
      "text/plain": [
       "HBox(children=(FloatProgress(value=1.0, bar_style='info', max=1.0), HTML(value='')))"
      ]
     },
     "metadata": {},
     "output_type": "display_data"
    },
    {
     "name": "stdout",
     "output_type": "stream",
     "text": [
      "--> Not exactly one containing mesh: []\n",
      "\n",
      "new_skeleton = (55, 2, 3)\n"
     ]
    },
    {
     "data": {
      "application/vnd.jupyter.widget-view+json": {
       "model_id": "f99e5b3320f147febc4610d4c6fa4721",
       "version_major": 2,
       "version_minor": 0
      },
      "text/plain": [
       "HBox(children=(FloatProgress(value=1.0, bar_style='info', max=1.0), HTML(value='')))"
      ]
     },
     "metadata": {},
     "output_type": "display_data"
    },
    {
     "name": "stdout",
     "output_type": "stream",
     "text": [
      "\n",
      "filtered_measurements = [357.16442202 570.91734191 491.45394982 358.87921509 344.27128492\n",
      " 659.48362372 292.89514608 524.20185919 419.17585553 620.77595065\n",
      " 305.08810612 373.17367426 397.56058492 548.49391636 519.87896532\n",
      " 372.54002152 340.39221846 677.57516645 370.11967408 338.38463574\n",
      " 352.81484712 347.9983082  399.72223445 407.44826001 258.94743864\n",
      " 442.83750532 360.00986483 333.66463469 336.65932134 325.74690268\n",
      " 459.12771004 578.15393648 460.6185298  311.67005015 374.44394697\n",
      " 478.09872104 507.66220629 482.90803229 449.6078863  474.95149055\n",
      " 542.3996161  574.82627004 425.85918117]\n",
      "new_threshold = 1659.2808920044474\n"
     ]
    },
    {
     "data": {
      "application/vnd.jupyter.widget-view+json": {
       "model_id": "5a1d094df7da42169b3d244e97720f55",
       "version_major": 2,
       "version_minor": 0
      },
      "text/plain": [
       "HBox(children=(FloatProgress(value=1.0, bar_style='info', max=1.0), HTML(value='')))"
      ]
     },
     "metadata": {},
     "output_type": "display_data"
    },
    {
     "name": "stdout",
     "output_type": "stream",
     "text": [
      "\n",
      "new_skeleton = (6, 2, 3)\n"
     ]
    },
    {
     "data": {
      "application/vnd.jupyter.widget-view+json": {
       "model_id": "5c1ffbd1d3eb4f60b0d11471f391f370",
       "version_major": 2,
       "version_minor": 0
      },
      "text/plain": [
       "HBox(children=(FloatProgress(value=1.0, bar_style='info', max=1.0), HTML(value='')))"
      ]
     },
     "metadata": {},
     "output_type": "display_data"
    },
    {
     "name": "stdout",
     "output_type": "stream",
     "text": [
      "--> Not exactly one containing mesh: []\n",
      "\n",
      "filtered_measurements = [1483.84122649 1587.23651389 1476.82833923 2005.58226246]\n",
      "new_threshold = 3636.9661269371118\n"
     ]
    },
    {
     "data": {
      "application/vnd.jupyter.widget-view+json": {
       "model_id": "6b3adbdfa34244938f4a105aae991ad5",
       "version_major": 2,
       "version_minor": 0
      },
      "text/plain": [
       "HBox(children=(FloatProgress(value=1.0, bar_style='info', max=1.0), HTML(value='')))"
      ]
     },
     "metadata": {},
     "output_type": "display_data"
    },
    {
     "name": "stdout",
     "output_type": "stream",
     "text": [
      "--> Not exactly one containing mesh: []\n",
      "\n",
      "new_skeleton = (4, 2, 3)\n"
     ]
    },
    {
     "data": {
      "application/vnd.jupyter.widget-view+json": {
       "model_id": "6a6394ce29b44144926dc486672b957b",
       "version_major": 2,
       "version_minor": 0
      },
      "text/plain": [
       "HBox(children=(FloatProgress(value=1.0, bar_style='info', max=1.0), HTML(value='')))"
      ]
     },
     "metadata": {},
     "output_type": "display_data"
    },
    {
     "name": "stdout",
     "output_type": "stream",
     "text": [
      "\n",
      "filtered_measurements = [1243.79562805 1071.49598904  987.34196688 1012.76262678]\n",
      "new_threshold = 2300.6859620909536\n"
     ]
    },
    {
     "data": {
      "application/vnd.jupyter.widget-view+json": {
       "model_id": "2361fab361664d66b5c691402bf1fd03",
       "version_major": 2,
       "version_minor": 0
      },
      "text/plain": [
       "HBox(children=(FloatProgress(value=1.0, bar_style='info', max=1.0), HTML(value='')))"
      ]
     },
     "metadata": {},
     "output_type": "display_data"
    },
    {
     "name": "stdout",
     "output_type": "stream",
     "text": [
      "\n",
      "new_skeleton = (27, 2, 3)\n"
     ]
    },
    {
     "data": {
      "application/vnd.jupyter.widget-view+json": {
       "model_id": "6eacd634928b43b2984bc8408f98e9e2",
       "version_major": 2,
       "version_minor": 0
      },
      "text/plain": [
       "HBox(children=(FloatProgress(value=1.0, bar_style='info', max=1.0), HTML(value='')))"
      ]
     },
     "metadata": {},
     "output_type": "display_data"
    },
    {
     "name": "stdout",
     "output_type": "stream",
     "text": [
      "\n",
      "filtered_measurements = [1031.51778072  910.06820999 1098.08590466  919.11689011  863.34838935\n",
      "  855.83380692  966.20634091  977.99082008 1246.63873448  897.91361297\n",
      " 1134.53513391 1057.73185609 1106.28709017  975.56060244  846.33031653\n",
      "  893.34479235  983.40900428  948.91217386  981.91213641  918.93176131\n",
      "  941.35727696 1041.28277195  980.0799444   900.27409196 1182.27101484]\n",
      "new_threshold = 2612.956696041876\n"
     ]
    },
    {
     "data": {
      "application/vnd.jupyter.widget-view+json": {
       "model_id": "fd154e10580f4bae87b8b5bdf9735813",
       "version_major": 2,
       "version_minor": 0
      },
      "text/plain": [
       "HBox(children=(FloatProgress(value=1.0, bar_style='info', max=1.0), HTML(value='')))"
      ]
     },
     "metadata": {},
     "output_type": "display_data"
    },
    {
     "name": "stdout",
     "output_type": "stream",
     "text": [
      "\n",
      "new_skeleton = (7, 2, 3)\n"
     ]
    },
    {
     "data": {
      "application/vnd.jupyter.widget-view+json": {
       "model_id": "14ececf02eb6436ea48c38773cba4c83",
       "version_major": 2,
       "version_minor": 0
      },
      "text/plain": [
       "HBox(children=(FloatProgress(value=1.0, bar_style='info', max=1.0), HTML(value='')))"
      ]
     },
     "metadata": {},
     "output_type": "display_data"
    },
    {
     "name": "stdout",
     "output_type": "stream",
     "text": [
      "\n",
      "filtered_measurements = [1125.94968901 1283.2621754   944.48173605  958.88806407 1032.32546115]\n",
      "new_threshold = 2643.011758308995\n"
     ]
    },
    {
     "data": {
      "application/vnd.jupyter.widget-view+json": {
       "model_id": "bbbfbbe0c4004a5a90cec231e0fcb581",
       "version_major": 2,
       "version_minor": 0
      },
      "text/plain": [
       "HBox(children=(FloatProgress(value=1.0, bar_style='info', max=1.0), HTML(value='')))"
      ]
     },
     "metadata": {},
     "output_type": "display_data"
    },
    {
     "name": "stdout",
     "output_type": "stream",
     "text": [
      "\n",
      "new_skeleton = (6, 2, 3)\n"
     ]
    },
    {
     "data": {
      "application/vnd.jupyter.widget-view+json": {
       "model_id": "92af6e618d624c61b4e2e377e327cadd",
       "version_major": 2,
       "version_minor": 0
      },
      "text/plain": [
       "HBox(children=(FloatProgress(value=1.0, bar_style='info', max=1.0), HTML(value='')))"
      ]
     },
     "metadata": {},
     "output_type": "display_data"
    },
    {
     "name": "stdout",
     "output_type": "stream",
     "text": [
      "--> Not exactly one containing mesh: []\n",
      "--> Not exactly one containing mesh: []\n",
      "--> Not exactly one containing mesh: []\n",
      "\n",
      "filtered_measurements = [324.20388333 370.35253466]\n",
      "new_threshold = 688.7794991306159\n"
     ]
    },
    {
     "data": {
      "application/vnd.jupyter.widget-view+json": {
       "model_id": "fc7e088f33dc47d9abdbd52014c898f3",
       "version_major": 2,
       "version_minor": 0
      },
      "text/plain": [
       "HBox(children=(FloatProgress(value=1.0, bar_style='info', max=1.0), HTML(value='')))"
      ]
     },
     "metadata": {},
     "output_type": "display_data"
    },
    {
     "name": "stdout",
     "output_type": "stream",
     "text": [
      "--> Not exactly one containing mesh: []\n",
      "--> Not exactly one containing mesh: []\n",
      "THERE WERE NO FACES THAT FIT THE DISTANCE (688.7794991306159) and Z transform requirements\n",
      "So just skipping this edge\n",
      "THERE WERE NO FACES THAT FIT THE DISTANCE (688.7794991306159) and Z transform requirements\n",
      "So just skipping this edge\n",
      "THERE WERE NO FACES THAT FIT THE DISTANCE (688.7794991306159) and Z transform requirements\n",
      "So just skipping this edge\n",
      "THERE WERE NO FACES THAT FIT THE DISTANCE (688.7794991306159) and Z transform requirements\n",
      "So just skipping this edge\n",
      "\n",
      "new_skeleton = (80, 2, 3)\n"
     ]
    },
    {
     "data": {
      "application/vnd.jupyter.widget-view+json": {
       "model_id": "3a1f06a04bfd481185d0412a644f04bc",
       "version_major": 2,
       "version_minor": 0
      },
      "text/plain": [
       "HBox(children=(FloatProgress(value=1.0, bar_style='info', max=1.0), HTML(value='')))"
      ]
     },
     "metadata": {},
     "output_type": "display_data"
    },
    {
     "name": "stdout",
     "output_type": "stream",
     "text": [
      "--> Not exactly one containing mesh: []\n",
      "--> Not exactly one containing mesh: []\n",
      "\n",
      "filtered_measurements = [354.59141114 369.75216182 346.80859216 272.51193584 296.04187734\n",
      " 329.07949724 463.30443557 569.26214185 464.40320861 354.13207097\n",
      " 340.89725929 601.9034584  303.45008171 443.45505584 401.48068615\n",
      " 472.42213468 621.93144998 421.50658089 556.19798289 319.22611503\n",
      " 395.0024111  328.32740716 432.42706951 359.29445745 403.18378843\n",
      " 506.01521649 338.27750758 267.06675551 411.30777711 595.57445727\n",
      " 277.61531352 573.96567147 366.70555883 313.96944367 405.74273567\n",
      " 623.19405979 570.44544371 500.62486296 479.41192837 460.14750404\n",
      " 333.97657147 445.49535478 475.80688769 340.9489356  622.58068031\n",
      " 349.8508874  597.69126208 582.20073082 494.75374052 362.18487873\n",
      " 366.36307984 612.78758615 576.67848513 397.70745959 353.12033228\n",
      " 364.28546283 412.87669996 409.86459897 356.4956012  370.78596238\n",
      " 605.55451476 633.11608803 424.36980613 292.29865434]\n",
      "new_threshold = 1593.992219364893\n"
     ]
    },
    {
     "data": {
      "application/vnd.jupyter.widget-view+json": {
       "model_id": "61c680fdaba84655ba6cc643f0fb84ce",
       "version_major": 2,
       "version_minor": 0
      },
      "text/plain": [
       "HBox(children=(FloatProgress(value=1.0, bar_style='info', max=1.0), HTML(value='')))"
      ]
     },
     "metadata": {},
     "output_type": "display_data"
    },
    {
     "name": "stdout",
     "output_type": "stream",
     "text": [
      "--> Not exactly one containing mesh: []\n",
      "--> Not exactly one containing mesh: []\n",
      "\n",
      "new_skeleton = (14, 2, 3)\n"
     ]
    },
    {
     "data": {
      "application/vnd.jupyter.widget-view+json": {
       "model_id": "30621667741940d0971fd0031e9b294d",
       "version_major": 2,
       "version_minor": 0
      },
      "text/plain": [
       "HBox(children=(FloatProgress(value=1.0, bar_style='info', max=1.0), HTML(value='')))"
      ]
     },
     "metadata": {},
     "output_type": "display_data"
    },
    {
     "name": "stdout",
     "output_type": "stream",
     "text": [
      "--> Not exactly one containing mesh: []\n",
      "\n",
      "filtered_measurements = [1396.74321224 1289.22167082 1204.53608875 1279.14906704 1279.96797905\n",
      " 1385.31135797 1514.80619519 1519.64871003 1388.05312026 1318.4595662\n",
      " 1712.14792776 1732.50475919]\n",
      "new_threshold = 3578.814479313234\n"
     ]
    },
    {
     "data": {
      "application/vnd.jupyter.widget-view+json": {
       "model_id": "d4ce24ff6e804d519d494cee94dcba38",
       "version_major": 2,
       "version_minor": 0
      },
      "text/plain": [
       "HBox(children=(FloatProgress(value=1.0, bar_style='info', max=1.0), HTML(value='')))"
      ]
     },
     "metadata": {},
     "output_type": "display_data"
    },
    {
     "name": "stdout",
     "output_type": "stream",
     "text": [
      "--> Not exactly one containing mesh: []\n",
      "\n",
      "new_skeleton = (11, 2, 3)\n"
     ]
    },
    {
     "data": {
      "application/vnd.jupyter.widget-view+json": {
       "model_id": "a3bf560870e14366a47c188fa473c582",
       "version_major": 2,
       "version_minor": 0
      },
      "text/plain": [
       "HBox(children=(FloatProgress(value=1.0, bar_style='info', max=1.0), HTML(value='')))"
      ]
     },
     "metadata": {},
     "output_type": "display_data"
    },
    {
     "name": "stdout",
     "output_type": "stream",
     "text": [
      "\n",
      "filtered_measurements = [1787.05613445 1573.44759233 1531.86760225 1452.99739647 1402.58387192\n",
      " 1407.62096462 1501.36635372 1452.89144358 1563.56147673]\n",
      "new_threshold = 2512.8991831928024\n"
     ]
    },
    {
     "data": {
      "application/vnd.jupyter.widget-view+json": {
       "model_id": "31f0b728a3ee418bbea90941c9aaf68c",
       "version_major": 2,
       "version_minor": 0
      },
      "text/plain": [
       "HBox(children=(FloatProgress(value=1.0, bar_style='info', max=1.0), HTML(value='')))"
      ]
     },
     "metadata": {},
     "output_type": "display_data"
    },
    {
     "name": "stdout",
     "output_type": "stream",
     "text": [
      "\n",
      "new_skeleton = (12, 2, 3)\n"
     ]
    },
    {
     "data": {
      "application/vnd.jupyter.widget-view+json": {
       "model_id": "01021d8daa39410cacddc7172e815712",
       "version_major": 2,
       "version_minor": 0
      },
      "text/plain": [
       "HBox(children=(FloatProgress(value=1.0, bar_style='info', max=1.0), HTML(value='')))"
      ]
     },
     "metadata": {},
     "output_type": "display_data"
    },
    {
     "name": "stdout",
     "output_type": "stream",
     "text": [
      "\n",
      "filtered_measurements = [1083.82996829 1297.69888563 1143.83469643 1014.48957531  996.09130725\n",
      "  905.77931598  969.92829541  972.53576318 1171.12321883 1569.56087605]\n",
      "new_threshold = 2898.299304195991\n"
     ]
    },
    {
     "data": {
      "application/vnd.jupyter.widget-view+json": {
       "model_id": "5c4a6f47e6b347adb61692a784b7d344",
       "version_major": 2,
       "version_minor": 0
      },
      "text/plain": [
       "HBox(children=(FloatProgress(value=1.0, bar_style='info', max=1.0), HTML(value='')))"
      ]
     },
     "metadata": {},
     "output_type": "display_data"
    },
    {
     "name": "stdout",
     "output_type": "stream",
     "text": [
      "\n",
      "new_skeleton = (34, 2, 3)\n"
     ]
    },
    {
     "data": {
      "application/vnd.jupyter.widget-view+json": {
       "model_id": "3073e5a89f69442d8fc916cdd00c3d85",
       "version_major": 2,
       "version_minor": 0
      },
      "text/plain": [
       "HBox(children=(FloatProgress(value=1.0, bar_style='info', max=1.0), HTML(value='')))"
      ]
     },
     "metadata": {},
     "output_type": "display_data"
    },
    {
     "name": "stdout",
     "output_type": "stream",
     "text": [
      "--> Not exactly one containing mesh: []\n",
      "--> Not exactly one containing mesh: []\n",
      "\n",
      "filtered_measurements = [320.86880845 275.17004422 513.1144131  329.13728292 378.74245034\n",
      " 724.96226789 292.13066178 278.80514407 290.03683443 529.59013028\n",
      " 523.71958764 486.43974938 442.34700465 326.49199135 363.55142845\n",
      " 584.31173042 641.91080157 358.34857898 636.91921577 561.27960455\n",
      " 389.84676752 397.60142815 592.8230562  692.13548696 749.85462632\n",
      " 462.92609976]\n",
      "new_threshold = 1846.9501787796617\n"
     ]
    },
    {
     "data": {
      "application/vnd.jupyter.widget-view+json": {
       "model_id": "61076c5278114cfb99dc5a500e477650",
       "version_major": 2,
       "version_minor": 0
      },
      "text/plain": [
       "HBox(children=(FloatProgress(value=1.0, bar_style='info', max=1.0), HTML(value='')))"
      ]
     },
     "metadata": {},
     "output_type": "display_data"
    },
    {
     "name": "stdout",
     "output_type": "stream",
     "text": [
      "--> Not exactly one containing mesh: []\n",
      "--> Not exactly one containing mesh: []\n",
      "\n",
      "new_skeleton = (24, 2, 3)\n"
     ]
    },
    {
     "data": {
      "application/vnd.jupyter.widget-view+json": {
       "model_id": "87beb6b415474da79dacae5ef4edc7ae",
       "version_major": 2,
       "version_minor": 0
      },
      "text/plain": [
       "HBox(children=(FloatProgress(value=1.0, bar_style='info', max=1.0), HTML(value='')))"
      ]
     },
     "metadata": {},
     "output_type": "display_data"
    },
    {
     "name": "stdout",
     "output_type": "stream",
     "text": [
      "\n",
      "filtered_measurements = [1072.66233575 1020.18497795 1219.53321425 1054.03563458 1007.25172957\n",
      "  974.06225017  993.07313507 1012.09939744 1336.36536488 1011.90986831\n",
      "  975.25735393 1139.16373221 1113.17563263 1359.17590491 1078.2409602\n",
      " 1078.40804848 1072.58337129 1293.66423257 1136.37223684 1065.85235212\n",
      " 1080.83819093 1531.57818538]\n",
      "new_threshold = 2770.830408869106\n"
     ]
    },
    {
     "data": {
      "application/vnd.jupyter.widget-view+json": {
       "model_id": "c47284db8586495cb765a12b2749c5a7",
       "version_major": 2,
       "version_minor": 0
      },
      "text/plain": [
       "HBox(children=(FloatProgress(value=1.0, bar_style='info', max=1.0), HTML(value='')))"
      ]
     },
     "metadata": {},
     "output_type": "display_data"
    },
    {
     "name": "stdout",
     "output_type": "stream",
     "text": [
      "\n",
      "new_skeleton = (9, 2, 3)\n"
     ]
    },
    {
     "data": {
      "application/vnd.jupyter.widget-view+json": {
       "model_id": "2dd56bdb6a614398bcfb300aa3f55f94",
       "version_major": 2,
       "version_minor": 0
      },
      "text/plain": [
       "HBox(children=(FloatProgress(value=1.0, bar_style='info', max=1.0), HTML(value='')))"
      ]
     },
     "metadata": {},
     "output_type": "display_data"
    },
    {
     "name": "stdout",
     "output_type": "stream",
     "text": [
      "\n",
      "filtered_measurements = [1111.3880053  1010.17895123 1013.89501344 1011.39648078 1197.7753069\n",
      " 1079.5087169  1155.43895539]\n",
      "new_threshold = 1910.0525126074942\n"
     ]
    },
    {
     "data": {
      "application/vnd.jupyter.widget-view+json": {
       "model_id": "d4e8e2ba995248ca84aa4a606d9724bb",
       "version_major": 2,
       "version_minor": 0
      },
      "text/plain": [
       "HBox(children=(FloatProgress(value=1.0, bar_style='info', max=1.0), HTML(value='')))"
      ]
     },
     "metadata": {},
     "output_type": "display_data"
    },
    {
     "name": "stdout",
     "output_type": "stream",
     "text": [
      "\n",
      "new_skeleton = (7, 2, 3)\n"
     ]
    },
    {
     "data": {
      "application/vnd.jupyter.widget-view+json": {
       "model_id": "6cf4ed14639045ebb29b79dc73a4eaf9",
       "version_major": 2,
       "version_minor": 0
      },
      "text/plain": [
       "HBox(children=(FloatProgress(value=1.0, bar_style='info', max=1.0), HTML(value='')))"
      ]
     },
     "metadata": {},
     "output_type": "display_data"
    },
    {
     "name": "stdout",
     "output_type": "stream",
     "text": [
      "\n",
      "filtered_measurements = [1081.02660664  998.37967389  995.57799917 1053.91312718 1202.07068603]\n",
      "new_threshold = 1725.2687071069865\n"
     ]
    },
    {
     "data": {
      "application/vnd.jupyter.widget-view+json": {
       "model_id": "169d55d1727c443895ee66def97b4d62",
       "version_major": 2,
       "version_minor": 0
      },
      "text/plain": [
       "HBox(children=(FloatProgress(value=1.0, bar_style='info', max=1.0), HTML(value='')))"
      ]
     },
     "metadata": {},
     "output_type": "display_data"
    },
    {
     "name": "stdout",
     "output_type": "stream",
     "text": [
      "\n",
      "new_skeleton = (7, 2, 3)\n"
     ]
    },
    {
     "data": {
      "application/vnd.jupyter.widget-view+json": {
       "model_id": "45a94286dc8846c19e0ae5266903b44a",
       "version_major": 2,
       "version_minor": 0
      },
      "text/plain": [
       "HBox(children=(FloatProgress(value=1.0, bar_style='info', max=1.0), HTML(value='')))"
      ]
     },
     "metadata": {},
     "output_type": "display_data"
    },
    {
     "name": "stdout",
     "output_type": "stream",
     "text": [
      "\n",
      "filtered_measurements = [1386.70714315 1255.70490187 1275.72624357 1334.10819776 1490.78107164]\n",
      "new_threshold = 2022.464575517406\n"
     ]
    },
    {
     "data": {
      "application/vnd.jupyter.widget-view+json": {
       "model_id": "d755c472e99e4612a32ecb9196a0c9c7",
       "version_major": 2,
       "version_minor": 0
      },
      "text/plain": [
       "HBox(children=(FloatProgress(value=1.0, bar_style='info', max=1.0), HTML(value='')))"
      ]
     },
     "metadata": {},
     "output_type": "display_data"
    },
    {
     "name": "stdout",
     "output_type": "stream",
     "text": [
      "\n",
      "new_skeleton = (9, 2, 3)\n"
     ]
    },
    {
     "data": {
      "application/vnd.jupyter.widget-view+json": {
       "model_id": "cb8571e4b86e4b61825f2a97fa4fe04d",
       "version_major": 2,
       "version_minor": 0
      },
      "text/plain": [
       "HBox(children=(FloatProgress(value=1.0, bar_style='info', max=1.0), HTML(value='')))"
      ]
     },
     "metadata": {},
     "output_type": "display_data"
    },
    {
     "name": "stdout",
     "output_type": "stream",
     "text": [
      "\n",
      "filtered_measurements = [411.13287997 444.11200633 400.06135741 419.51147455 375.57550109\n",
      " 563.67022124]\n",
      "new_threshold = 890.8787855595984\n"
     ]
    },
    {
     "data": {
      "application/vnd.jupyter.widget-view+json": {
       "model_id": "ba2aec20c7f44904a45ae8d5b43a5029",
       "version_major": 2,
       "version_minor": 0
      },
      "text/plain": [
       "HBox(children=(FloatProgress(value=1.0, bar_style='info', max=1.0), HTML(value='')))"
      ]
     },
     "metadata": {},
     "output_type": "display_data"
    },
    {
     "name": "stdout",
     "output_type": "stream",
     "text": [
      "\n",
      "new_skeleton = (9, 2, 3)\n"
     ]
    },
    {
     "data": {
      "application/vnd.jupyter.widget-view+json": {
       "model_id": "ec14c1a11ba84586b1ab6e390caaf79e",
       "version_major": 2,
       "version_minor": 0
      },
      "text/plain": [
       "HBox(children=(FloatProgress(value=1.0, bar_style='info', max=1.0), HTML(value='')))"
      ]
     },
     "metadata": {},
     "output_type": "display_data"
    },
    {
     "name": "stdout",
     "output_type": "stream",
     "text": [
      "\n",
      "filtered_measurements = [1395.79629424 1278.17552119 1291.98903522 1265.43864965 1254.68536655\n",
      " 1355.429792   1490.19857367]\n",
      "new_threshold = 2043.2434537092927\n"
     ]
    },
    {
     "data": {
      "application/vnd.jupyter.widget-view+json": {
       "model_id": "32a068c3cc394643998f3778742cc8c8",
       "version_major": 2,
       "version_minor": 0
      },
      "text/plain": [
       "HBox(children=(FloatProgress(value=1.0, bar_style='info', max=1.0), HTML(value='')))"
      ]
     },
     "metadata": {},
     "output_type": "display_data"
    },
    {
     "name": "stdout",
     "output_type": "stream",
     "text": [
      "\n",
      "new_skeleton = (83, 2, 3)\n"
     ]
    },
    {
     "data": {
      "application/vnd.jupyter.widget-view+json": {
       "model_id": "bf816c199f8a427c9894bd4281077632",
       "version_major": 2,
       "version_minor": 0
      },
      "text/plain": [
       "HBox(children=(FloatProgress(value=1.0, bar_style='info', max=1.0), HTML(value='')))"
      ]
     },
     "metadata": {},
     "output_type": "display_data"
    },
    {
     "name": "stdout",
     "output_type": "stream",
     "text": [
      "\n",
      "filtered_measurements = [208.79609641 216.17320989 276.08213993 304.53903981 353.61819724\n",
      " 363.9183414  423.09407303 329.8402319  402.28552642 328.37151491\n",
      " 401.87641031 351.50369962 367.85010102 381.95476554 412.35006336\n",
      " 295.45043123 267.52150281 287.57669457 223.85469265 312.07035495\n",
      " 396.51643156 288.13152911 319.97995087 480.66091658 342.44969535\n",
      " 314.83348442 293.21650851 369.37981436 279.45574193 485.09819274\n",
      " 386.75195018 367.88905915 301.76182328 551.14497873 400.23231067\n",
      " 371.17678325 462.94943144 360.38948179 331.82694913 406.37618834\n",
      " 450.82470965 410.26664899 399.90199599 398.15821592 343.51952889\n",
      " 269.57210274 303.4281563  466.93727982 537.34414133 421.29530695\n",
      " 511.06341502 342.96316335 532.81481342 327.91439838 273.56112997\n",
      " 406.66791406 336.14723962 482.71451358 200.47598365 235.81153465\n",
      " 287.31926354 234.29955344 357.85989345 380.74079718 535.36467813\n",
      " 429.96504921 438.24737987 425.12681709 335.33650601 311.2108545 ]\n",
      "new_threshold = 1387.6186619381324\n"
     ]
    },
    {
     "data": {
      "application/vnd.jupyter.widget-view+json": {
       "model_id": "b0e465bff72b4c029092bef9f56d3943",
       "version_major": 2,
       "version_minor": 0
      },
      "text/plain": [
       "HBox(children=(FloatProgress(value=1.0, bar_style='info', max=1.0), HTML(value='')))"
      ]
     },
     "metadata": {},
     "output_type": "display_data"
    },
    {
     "name": "stdout",
     "output_type": "stream",
     "text": [
      "\n",
      "new_skeleton = (6, 2, 3)\n"
     ]
    },
    {
     "data": {
      "application/vnd.jupyter.widget-view+json": {
       "model_id": "6ac83d5bb22a4f6ea50cf4b0389789ac",
       "version_major": 2,
       "version_minor": 0
      },
      "text/plain": [
       "HBox(children=(FloatProgress(value=1.0, bar_style='info', max=1.0), HTML(value='')))"
      ]
     },
     "metadata": {},
     "output_type": "display_data"
    },
    {
     "name": "stdout",
     "output_type": "stream",
     "text": [
      "\n",
      "filtered_measurements = [102.97887733  72.065721   232.78782922]\n",
      "new_threshold = 498.05265420746787\n"
     ]
    },
    {
     "data": {
      "application/vnd.jupyter.widget-view+json": {
       "model_id": "2bf258e84c4749edbe26616ea8783354",
       "version_major": 2,
       "version_minor": 0
      },
      "text/plain": [
       "HBox(children=(FloatProgress(value=1.0, bar_style='info', max=1.0), HTML(value='')))"
      ]
     },
     "metadata": {},
     "output_type": "display_data"
    },
    {
     "name": "stdout",
     "output_type": "stream",
     "text": [
      "--> Not exactly one containing mesh: []\n",
      "--> Not exactly one containing mesh: []\n",
      "\n",
      "new_skeleton = (27, 2, 3)\n"
     ]
    },
    {
     "data": {
      "application/vnd.jupyter.widget-view+json": {
       "model_id": "00702ea2856b4e098b80348925eb4169",
       "version_major": 2,
       "version_minor": 0
      },
      "text/plain": [
       "HBox(children=(FloatProgress(value=1.0, bar_style='info', max=1.0), HTML(value='')))"
      ]
     },
     "metadata": {},
     "output_type": "display_data"
    },
    {
     "name": "stdout",
     "output_type": "stream",
     "text": [
      "--> Not exactly one containing mesh: []\n",
      "--> Not exactly one containing mesh: []\n",
      "--> Not exactly one containing mesh: []\n",
      "--> Not exactly one containing mesh: []\n",
      "--> Not exactly one containing mesh: []\n",
      "--> Not exactly one containing mesh: []\n",
      "\n",
      "filtered_measurements = [134.36314177 182.74876757 169.35288007  90.96597257 154.8050464\n",
      " 177.02242883  76.81720554  91.56795394 102.86788558  93.68229017\n",
      " 176.36387771 239.92850085 130.92861968  89.91032175 112.98909351\n",
      " 176.72456545 103.16678603 171.75788252 102.69102016]\n",
      "new_threshold = 437.0595655832857\n"
     ]
    },
    {
     "data": {
      "application/vnd.jupyter.widget-view+json": {
       "model_id": "e00407dd32784019b832fb3d7b442b4a",
       "version_major": 2,
       "version_minor": 0
      },
      "text/plain": [
       "HBox(children=(FloatProgress(value=1.0, bar_style='info', max=1.0), HTML(value='')))"
      ]
     },
     "metadata": {},
     "output_type": "display_data"
    },
    {
     "name": "stdout",
     "output_type": "stream",
     "text": [
      "--> Not exactly one containing mesh: []\n",
      "--> Not exactly one containing mesh: []\n",
      "--> Not exactly one containing mesh: []\n",
      "--> Not exactly one containing mesh: []\n",
      "--> Not exactly one containing mesh: []\n",
      "THERE WERE NO FACES THAT FIT THE DISTANCE (437.0595655832857) and Z transform requirements\n",
      "So just skipping this edge\n",
      "THERE WERE NO FACES THAT FIT THE DISTANCE (437.0595655832857) and Z transform requirements\n",
      "So just skipping this edge\n",
      "THERE WERE NO FACES THAT FIT THE DISTANCE (437.0595655832857) and Z transform requirements\n",
      "So just skipping this edge\n",
      "THERE WERE NO FACES THAT FIT THE DISTANCE (437.0595655832857) and Z transform requirements\n",
      "So just skipping this edge\n",
      "\n",
      "new_skeleton = (43, 2, 3)\n"
     ]
    },
    {
     "data": {
      "application/vnd.jupyter.widget-view+json": {
       "model_id": "177b3ebd0fe0489b9f8bbcbea95fc01b",
       "version_major": 2,
       "version_minor": 0
      },
      "text/plain": [
       "HBox(children=(FloatProgress(value=1.0, bar_style='info', max=1.0), HTML(value='')))"
      ]
     },
     "metadata": {},
     "output_type": "display_data"
    },
    {
     "name": "stdout",
     "output_type": "stream",
     "text": [
      "\n",
      "filtered_measurements = [477.67772938 390.58348184 445.02127265 508.20337248 447.30988409\n",
      " 760.74902353 696.64714855 536.84056734 578.63660799 494.05358961\n",
      " 611.35328004 603.5846636  439.32203577 589.76818074 526.86533181\n",
      " 518.22167852 383.451045   581.35159582 551.76629889 463.95483862\n",
      " 429.84255015 410.53152736 503.5834422  598.92028394 518.77376591\n",
      " 503.18790598 523.3560017  484.32216305 564.54672602 626.24884894\n",
      " 467.00498816 690.08983558 539.46401696 487.06824605 455.97876008\n",
      " 745.35123003]\n",
      "new_threshold = 1754.9207201595618\n"
     ]
    },
    {
     "data": {
      "application/vnd.jupyter.widget-view+json": {
       "model_id": "a33c196719d04b57acd5bd77fe9775c7",
       "version_major": 2,
       "version_minor": 0
      },
      "text/plain": [
       "HBox(children=(FloatProgress(value=1.0, bar_style='info', max=1.0), HTML(value='')))"
      ]
     },
     "metadata": {},
     "output_type": "display_data"
    },
    {
     "name": "stdout",
     "output_type": "stream",
     "text": [
      "\n",
      "new_skeleton = (49, 2, 3)\n"
     ]
    },
    {
     "data": {
      "application/vnd.jupyter.widget-view+json": {
       "model_id": "0bfca10c71064af5b402a4a6ead4f3b2",
       "version_major": 2,
       "version_minor": 0
      },
      "text/plain": [
       "HBox(children=(FloatProgress(value=1.0, bar_style='info', max=1.0), HTML(value='')))"
      ]
     },
     "metadata": {},
     "output_type": "display_data"
    },
    {
     "name": "stdout",
     "output_type": "stream",
     "text": [
      "\n",
      "filtered_measurements = [348.92144438 344.44728124 370.61581856 489.34974356 401.44827113\n",
      " 423.02617917 426.49294808 428.84205852 352.73688624 581.37781006\n",
      " 319.26259142 382.35441422 409.68425492 340.92750176 381.02332539\n",
      " 353.2623231  349.95016917 395.92008033 319.15588084 328.76924891\n",
      " 427.09589297 410.45839949 557.47461657 425.8800132  323.6140512\n",
      " 342.86291092 380.87081148 438.70296986 338.65476236 363.54978959\n",
      " 465.88065701 440.41494589 510.71533963 397.58853876 419.83642477\n",
      " 459.9977255  540.7388759  179.51446529]\n",
      "new_threshold = 1461.7781009035007\n"
     ]
    },
    {
     "data": {
      "application/vnd.jupyter.widget-view+json": {
       "model_id": "f7e21c62eec149b4858654f12326ad85",
       "version_major": 2,
       "version_minor": 0
      },
      "text/plain": [
       "HBox(children=(FloatProgress(value=1.0, bar_style='info', max=1.0), HTML(value='')))"
      ]
     },
     "metadata": {},
     "output_type": "display_data"
    },
    {
     "name": "stdout",
     "output_type": "stream",
     "text": [
      "\n",
      "new_skeleton = (15, 2, 3)\n"
     ]
    },
    {
     "data": {
      "application/vnd.jupyter.widget-view+json": {
       "model_id": "8c4b2e645ba945ea89026c8643fa4de0",
       "version_major": 2,
       "version_minor": 0
      },
      "text/plain": [
       "HBox(children=(FloatProgress(value=1.0, bar_style='info', max=1.0), HTML(value='')))"
      ]
     },
     "metadata": {},
     "output_type": "display_data"
    },
    {
     "name": "stdout",
     "output_type": "stream",
     "text": [
      "\n",
      "filtered_measurements = [300.18922195 435.60830451 335.40349823 365.86858852 365.02347048\n",
      " 438.12139805 391.37623813 292.32191706 348.22130171 256.23812393]\n",
      "new_threshold = 1058.7238352654545\n"
     ]
    },
    {
     "data": {
      "application/vnd.jupyter.widget-view+json": {
       "model_id": "6c42a37a6b1343a893541a8a53f400e7",
       "version_major": 2,
       "version_minor": 0
      },
      "text/plain": [
       "HBox(children=(FloatProgress(value=1.0, bar_style='info', max=1.0), HTML(value='')))"
      ]
     },
     "metadata": {},
     "output_type": "display_data"
    },
    {
     "name": "stdout",
     "output_type": "stream",
     "text": [
      "\n",
      "new_skeleton = (10, 2, 3)\n"
     ]
    },
    {
     "data": {
      "application/vnd.jupyter.widget-view+json": {
       "model_id": "e7ddcb56941f4aa28bfb3cf658238223",
       "version_major": 2,
       "version_minor": 0
      },
      "text/plain": [
       "HBox(children=(FloatProgress(value=1.0, bar_style='info', max=1.0), HTML(value='')))"
      ]
     },
     "metadata": {},
     "output_type": "display_data"
    },
    {
     "name": "stdout",
     "output_type": "stream",
     "text": [
      "\n",
      "filtered_measurements = [696.18450275 573.11033613 587.45741616 567.70644251 570.15346958\n",
      " 358.83250059 507.65223246]\n",
      "new_threshold = 1711.581690151635\n"
     ]
    },
    {
     "data": {
      "application/vnd.jupyter.widget-view+json": {
       "model_id": "1edc6a6b58674d38920a304712d09ef3",
       "version_major": 2,
       "version_minor": 0
      },
      "text/plain": [
       "HBox(children=(FloatProgress(value=1.0, bar_style='info', max=1.0), HTML(value='')))"
      ]
     },
     "metadata": {},
     "output_type": "display_data"
    },
    {
     "name": "stdout",
     "output_type": "stream",
     "text": [
      "\n",
      "new_skeleton = (9, 2, 3)\n"
     ]
    },
    {
     "data": {
      "application/vnd.jupyter.widget-view+json": {
       "model_id": "8e5c13e8ef76438ebcc35383d222bd1c",
       "version_major": 2,
       "version_minor": 0
      },
      "text/plain": [
       "HBox(children=(FloatProgress(value=1.0, bar_style='info', max=1.0), HTML(value='')))"
      ]
     },
     "metadata": {},
     "output_type": "display_data"
    },
    {
     "name": "stdout",
     "output_type": "stream",
     "text": [
      "\n",
      "filtered_measurements = [286.23952832 380.16421978 354.11405463 528.38885465 393.97443575\n",
      " 500.68613417 463.14920985]\n",
      "new_threshold = 1150.7823524686341\n"
     ]
    },
    {
     "data": {
      "application/vnd.jupyter.widget-view+json": {
       "model_id": "9a8d976e27104beb91ad8171a9b076b8",
       "version_major": 2,
       "version_minor": 0
      },
      "text/plain": [
       "HBox(children=(FloatProgress(value=1.0, bar_style='info', max=1.0), HTML(value='')))"
      ]
     },
     "metadata": {},
     "output_type": "display_data"
    },
    {
     "name": "stdout",
     "output_type": "stream",
     "text": [
      "\n",
      "new_skeleton = (16, 2, 3)\n"
     ]
    },
    {
     "data": {
      "application/vnd.jupyter.widget-view+json": {
       "model_id": "f826255c507b496796e24f56726ffec0",
       "version_major": 2,
       "version_minor": 0
      },
      "text/plain": [
       "HBox(children=(FloatProgress(value=1.0, bar_style='info', max=1.0), HTML(value='')))"
      ]
     },
     "metadata": {},
     "output_type": "display_data"
    },
    {
     "name": "stdout",
     "output_type": "stream",
     "text": [
      "--> Not exactly one containing mesh: []\n",
      "--> Not exactly one containing mesh: []\n",
      "\n",
      "filtered_measurements = [126.61481106  71.80862033  85.02526177 101.9184736   96.535544\n",
      " 105.21836537 133.78360714  76.14148942  83.09960647 119.12144654\n",
      "  66.50952333]\n",
      "new_threshold = 307.0238422511134\n"
     ]
    },
    {
     "data": {
      "application/vnd.jupyter.widget-view+json": {
       "model_id": "ac63810f64894ab8b8d256ade14e148b",
       "version_major": 2,
       "version_minor": 0
      },
      "text/plain": [
       "HBox(children=(FloatProgress(value=1.0, bar_style='info', max=1.0), HTML(value='')))"
      ]
     },
     "metadata": {},
     "output_type": "display_data"
    },
    {
     "name": "stdout",
     "output_type": "stream",
     "text": [
      "--> Not exactly one containing mesh: []\n",
      "--> Not exactly one containing mesh: []\n",
      "--> Not exactly one containing mesh: []\n",
      "\n",
      "new_skeleton = (2, 2, 3)\n"
     ]
    },
    {
     "data": {
      "application/vnd.jupyter.widget-view+json": {
       "model_id": "5c8311ac00084fa99cb108b85838e411",
       "version_major": 2,
       "version_minor": 0
      },
      "text/plain": [
       "HBox(children=(FloatProgress(value=1.0, bar_style='info', max=1.0), HTML(value='')))"
      ]
     },
     "metadata": {},
     "output_type": "display_data"
    },
    {
     "name": "stdout",
     "output_type": "stream",
     "text": [
      "\n",
      "filtered_measurements = [964.99782768 592.44272919]\n",
      "new_threshold = 2343.432274676302\n"
     ]
    },
    {
     "data": {
      "application/vnd.jupyter.widget-view+json": {
       "model_id": "befc693fc89147369c09f3e507b5a3b9",
       "version_major": 2,
       "version_minor": 0
      },
      "text/plain": [
       "HBox(children=(FloatProgress(value=1.0, bar_style='info', max=1.0), HTML(value='')))"
      ]
     },
     "metadata": {},
     "output_type": "display_data"
    },
    {
     "name": "stdout",
     "output_type": "stream",
     "text": [
      "\n",
      "new_skeleton = (5, 2, 3)\n"
     ]
    },
    {
     "data": {
      "application/vnd.jupyter.widget-view+json": {
       "model_id": "dd5c0049767a402c8b14a1461f62706f",
       "version_major": 2,
       "version_minor": 0
      },
      "text/plain": [
       "HBox(children=(FloatProgress(value=1.0, bar_style='info', max=1.0), HTML(value='')))"
      ]
     },
     "metadata": {},
     "output_type": "display_data"
    },
    {
     "name": "stdout",
     "output_type": "stream",
     "text": [
      "--> Not exactly one containing mesh: []\n",
      "\n",
      "filtered_measurements = [217.02602562 122.3716571 ]\n",
      "new_threshold = 419.3430853408837\n"
     ]
    },
    {
     "data": {
      "application/vnd.jupyter.widget-view+json": {
       "model_id": "a036d2ecac89493ab93b3d791f45b155",
       "version_major": 2,
       "version_minor": 0
      },
      "text/plain": [
       "HBox(children=(FloatProgress(value=1.0, bar_style='info', max=1.0), HTML(value='')))"
      ]
     },
     "metadata": {},
     "output_type": "display_data"
    },
    {
     "name": "stdout",
     "output_type": "stream",
     "text": [
      "--> Not exactly one containing mesh: []\n",
      "--> Not exactly one containing mesh: []\n",
      "\n",
      "new_skeleton = (67, 2, 3)\n"
     ]
    },
    {
     "data": {
      "application/vnd.jupyter.widget-view+json": {
       "model_id": "e93c950053484a8db9bfee4731c3bea6",
       "version_major": 2,
       "version_minor": 0
      },
      "text/plain": [
       "HBox(children=(FloatProgress(value=1.0, bar_style='info', max=1.0), HTML(value='')))"
      ]
     },
     "metadata": {},
     "output_type": "display_data"
    },
    {
     "name": "stdout",
     "output_type": "stream",
     "text": [
      "--> Not exactly one containing mesh: []\n",
      "\n",
      "filtered_measurements = [619.93778922 554.09715248 361.75392873 667.29451913 395.16092652\n",
      " 380.60651245 427.89756143 296.14171655 540.74784395 322.40455273\n",
      " 677.52424448 654.827892   372.9812742  521.8131242  658.55135333\n",
      " 368.56012768 651.62484073 322.02728092 373.47043077 489.44342091\n",
      " 474.38809573 614.71965681 511.12397111 469.46348115 599.71911963\n",
      " 454.03820335 335.7920916  505.09946559 604.77736386 535.29113635\n",
      " 623.57148543 316.2812495  428.71334502 315.75376018 583.92702856\n",
      " 485.42540764 392.61966427 606.59412819 237.07132943 560.58711928\n",
      " 443.44675395 642.9171541  362.85351726 435.81654793 368.14988998\n",
      " 450.73376792 345.252763   584.66723744 570.63175487 318.96344444\n",
      " 300.66600566 241.73860934 319.53067949 330.49119458 394.01746384\n",
      " 164.20424232 149.54645414 124.59948524]\n",
      "new_threshold = 1885.8133101621083\n"
     ]
    },
    {
     "data": {
      "application/vnd.jupyter.widget-view+json": {
       "model_id": "e9743f70a666497c89aae9b1d93ef2e9",
       "version_major": 2,
       "version_minor": 0
      },
      "text/plain": [
       "HBox(children=(FloatProgress(value=1.0, bar_style='info', max=1.0), HTML(value='')))"
      ]
     },
     "metadata": {},
     "output_type": "display_data"
    },
    {
     "name": "stdout",
     "output_type": "stream",
     "text": [
      "--> Not exactly one containing mesh: []\n",
      "\n",
      "new_skeleton = (5, 2, 3)\n"
     ]
    },
    {
     "data": {
      "application/vnd.jupyter.widget-view+json": {
       "model_id": "078e6d7738fd4f6b9fbc5444b0fd8f8d",
       "version_major": 2,
       "version_minor": 0
      },
      "text/plain": [
       "HBox(children=(FloatProgress(value=1.0, bar_style='info', max=1.0), HTML(value='')))"
      ]
     },
     "metadata": {},
     "output_type": "display_data"
    },
    {
     "name": "stdout",
     "output_type": "stream",
     "text": [
      "\n",
      "filtered_measurements = [248.35258606 123.19876099 368.2767638 ]\n",
      "new_threshold = 751.4470660297828\n"
     ]
    },
    {
     "data": {
      "application/vnd.jupyter.widget-view+json": {
       "model_id": "a4f17fc2e63c4983bc8d9c35685debf7",
       "version_major": 2,
       "version_minor": 0
      },
      "text/plain": [
       "HBox(children=(FloatProgress(value=1.0, bar_style='info', max=1.0), HTML(value='')))"
      ]
     },
     "metadata": {},
     "output_type": "display_data"
    },
    {
     "name": "stdout",
     "output_type": "stream",
     "text": [
      "\n",
      "new_skeleton = (30, 2, 3)\n"
     ]
    },
    {
     "data": {
      "application/vnd.jupyter.widget-view+json": {
       "model_id": "3124566d076f424592792be76b6afe7d",
       "version_major": 2,
       "version_minor": 0
      },
      "text/plain": [
       "HBox(children=(FloatProgress(value=1.0, bar_style='info', max=1.0), HTML(value='')))"
      ]
     },
     "metadata": {},
     "output_type": "display_data"
    },
    {
     "name": "stdout",
     "output_type": "stream",
     "text": [
      "\n",
      "filtered_measurements = [491.37810896 657.73483351 634.86142688 458.92657687 486.01776065\n",
      " 512.31703015 322.0760988  573.75107787 731.1426382  493.49391012\n",
      " 411.33853283 468.00766245 282.68621199 310.88470914 544.20611117\n",
      " 438.36417764 431.74561913 631.51068922 356.45408899 726.53171401\n",
      " 448.68513022 361.13324547 327.67268892]\n",
      "new_threshold = 1899.9930500007613\n"
     ]
    },
    {
     "data": {
      "application/vnd.jupyter.widget-view+json": {
       "model_id": "c44f04357d5c497eb11e7773b67ce51a",
       "version_major": 2,
       "version_minor": 0
      },
      "text/plain": [
       "HBox(children=(FloatProgress(value=1.0, bar_style='info', max=1.0), HTML(value='')))"
      ]
     },
     "metadata": {},
     "output_type": "display_data"
    },
    {
     "name": "stdout",
     "output_type": "stream",
     "text": [
      "\n",
      "new_skeleton = (32, 2, 3)\n"
     ]
    },
    {
     "data": {
      "application/vnd.jupyter.widget-view+json": {
       "model_id": "efe1cef9f01648a792bd055b3f594f3b",
       "version_major": 2,
       "version_minor": 0
      },
      "text/plain": [
       "HBox(children=(FloatProgress(value=1.0, bar_style='info', max=1.0), HTML(value='')))"
      ]
     },
     "metadata": {},
     "output_type": "display_data"
    },
    {
     "name": "stdout",
     "output_type": "stream",
     "text": [
      "--> Not exactly one containing mesh: []\n",
      "--> Not exactly one containing mesh: []\n",
      "\n",
      "filtered_measurements = [162.00541873 141.78396001  81.33854903  87.47973451 122.23542762\n",
      " 112.61783519  83.3492257   84.08012765  70.39381576  58.28213943\n",
      "  60.17894487  77.12566555 102.02253648  90.4498291   93.94673018\n",
      " 149.60547514 112.48583222 116.49994037 115.35116568  86.50750021\n",
      " 155.18838621 126.2505064 ]\n",
      "new_threshold = 293.1228774068197\n"
     ]
    },
    {
     "data": {
      "application/vnd.jupyter.widget-view+json": {
       "model_id": "eda4432399c349c7b1d3617835733987",
       "version_major": 2,
       "version_minor": 0
      },
      "text/plain": [
       "HBox(children=(FloatProgress(value=1.0, bar_style='info', max=1.0), HTML(value='')))"
      ]
     },
     "metadata": {},
     "output_type": "display_data"
    },
    {
     "name": "stdout",
     "output_type": "stream",
     "text": [
      "--> Not exactly one containing mesh: []\n",
      "--> Not exactly one containing mesh: []\n",
      "\n",
      "new_skeleton = (13, 2, 3)\n"
     ]
    },
    {
     "data": {
      "application/vnd.jupyter.widget-view+json": {
       "model_id": "7ce528241094485f9331f0277738b857",
       "version_major": 2,
       "version_minor": 0
      },
      "text/plain": [
       "HBox(children=(FloatProgress(value=1.0, bar_style='info', max=1.0), HTML(value='')))"
      ]
     },
     "metadata": {},
     "output_type": "display_data"
    },
    {
     "name": "stdout",
     "output_type": "stream",
     "text": [
      "\n",
      "filtered_measurements = [756.38618236 287.40451397 448.20968182 491.35176017 533.71538188\n",
      " 537.56293066 781.68875876 370.02039405 404.89212917]\n",
      "new_threshold = 1860.6114419127698\n"
     ]
    },
    {
     "data": {
      "application/vnd.jupyter.widget-view+json": {
       "model_id": "95ac07f78e1f4000b297bf4ce065cbba",
       "version_major": 2,
       "version_minor": 0
      },
      "text/plain": [
       "HBox(children=(FloatProgress(value=1.0, bar_style='info', max=1.0), HTML(value='')))"
      ]
     },
     "metadata": {},
     "output_type": "display_data"
    },
    {
     "name": "stdout",
     "output_type": "stream",
     "text": [
      "\n",
      "new_skeleton = (32, 2, 3)\n"
     ]
    },
    {
     "data": {
      "application/vnd.jupyter.widget-view+json": {
       "model_id": "077a6ab6c7fc4fe09131af025ba800fe",
       "version_major": 2,
       "version_minor": 0
      },
      "text/plain": [
       "HBox(children=(FloatProgress(value=1.0, bar_style='info', max=1.0), HTML(value='')))"
      ]
     },
     "metadata": {},
     "output_type": "display_data"
    },
    {
     "name": "stdout",
     "output_type": "stream",
     "text": [
      "--> Not exactly one containing mesh: []\n",
      "--> Not exactly one containing mesh: []\n",
      "\n",
      "filtered_measurements = [126.6087623  123.25753708 226.64408191 205.07226723 174.86861192\n",
      " 140.32615821 170.04964158 142.23776656 230.02816217 199.99685058\n",
      " 152.50970838 108.62436428 107.48038719 124.39905583 108.0653544\n",
      " 205.71602543 184.84467288  81.40925994  94.44964107 137.38079497\n",
      " 125.47385389 174.3209413  257.50665384]\n",
      "new_threshold = 539.3594949070421\n"
     ]
    },
    {
     "data": {
      "application/vnd.jupyter.widget-view+json": {
       "model_id": "bc63b6477eff4629af0392fa460160c9",
       "version_major": 2,
       "version_minor": 0
      },
      "text/plain": [
       "HBox(children=(FloatProgress(value=1.0, bar_style='info', max=1.0), HTML(value='')))"
      ]
     },
     "metadata": {},
     "output_type": "display_data"
    },
    {
     "name": "stdout",
     "output_type": "stream",
     "text": [
      "--> Not exactly one containing mesh: []\n",
      "--> Not exactly one containing mesh: []\n",
      "--> Not exactly one containing mesh: []\n",
      "\n",
      "new_skeleton = (10, 2, 3)\n"
     ]
    },
    {
     "data": {
      "application/vnd.jupyter.widget-view+json": {
       "model_id": "9738a129772b4f8dbf06564172386d66",
       "version_major": 2,
       "version_minor": 0
      },
      "text/plain": [
       "HBox(children=(FloatProgress(value=1.0, bar_style='info', max=1.0), HTML(value='')))"
      ]
     },
     "metadata": {},
     "output_type": "display_data"
    },
    {
     "name": "stdout",
     "output_type": "stream",
     "text": [
      "\n",
      "filtered_measurements = [312.51097088 280.92676107 323.86259171 165.92543049 461.81666749\n",
      " 394.49648009 270.14826794]\n",
      "new_threshold = 1070.6902621030254\n"
     ]
    },
    {
     "data": {
      "application/vnd.jupyter.widget-view+json": {
       "model_id": "3a5feadef01045648338c580932b1a4e",
       "version_major": 2,
       "version_minor": 0
      },
      "text/plain": [
       "HBox(children=(FloatProgress(value=1.0, bar_style='info', max=1.0), HTML(value='')))"
      ]
     },
     "metadata": {},
     "output_type": "display_data"
    },
    {
     "name": "stdout",
     "output_type": "stream",
     "text": [
      "\n"
     ]
    },
    {
     "data": {
      "application/vnd.jupyter.widget-view+json": {
       "model_id": "3f0429c16d85479597bbd956bb41f340",
       "version_major": 2,
       "version_minor": 0
      },
      "text/plain": [
       "HBox(children=(FloatProgress(value=1.0, bar_style='info', max=1.0), HTML(value='')))"
      ]
     },
     "metadata": {},
     "output_type": "display_data"
    },
    {
     "name": "stdout",
     "output_type": "stream",
     "text": [
      "\n",
      "filtered_measurements = [1272.88980523]\n",
      "new_threshold = 2930.533051290688\n"
     ]
    },
    {
     "data": {
      "application/vnd.jupyter.widget-view+json": {
       "model_id": "e253fb2c8ccd47728a2ba6b3e634b0fd",
       "version_major": 2,
       "version_minor": 0
      },
      "text/plain": [
       "HBox(children=(FloatProgress(value=1.0, bar_style='info', max=1.0), HTML(value='')))"
      ]
     },
     "metadata": {},
     "output_type": "display_data"
    },
    {
     "name": "stdout",
     "output_type": "stream",
     "text": [
      "\n",
      "\n",
      "Working on limb #1\n"
     ]
    },
    {
     "data": {
      "application/vnd.jupyter.widget-view+json": {
       "model_id": "81af765fdbcf44a99cc4a66885df7841",
       "version_major": 2,
       "version_minor": 0
      },
      "text/plain": [
       "HBox(children=(FloatProgress(value=1.0, bar_style='info', max=1.0), HTML(value='')))"
      ]
     },
     "metadata": {},
     "output_type": "display_data"
    },
    {
     "name": "stdout",
     "output_type": "stream",
     "text": [
      "new_skeleton = (88, 2, 3)\n"
     ]
    },
    {
     "data": {
      "application/vnd.jupyter.widget-view+json": {
       "model_id": "99cafd36ab1249ef87d3481479d55938",
       "version_major": 2,
       "version_minor": 0
      },
      "text/plain": [
       "HBox(children=(FloatProgress(value=1.0, bar_style='info', max=1.0), HTML(value='')))"
      ]
     },
     "metadata": {},
     "output_type": "display_data"
    },
    {
     "name": "stdout",
     "output_type": "stream",
     "text": [
      "\n",
      "filtered_measurements = [380.60602251 218.45099609 172.50414132 269.26667881 190.3114415\n",
      " 146.25647898 343.98999243 432.8031133  105.66799137 152.04713971\n",
      " 300.84361992 355.11652941 241.26492632 268.03786591 168.08697364\n",
      " 151.2707843  351.68050003 289.91782023 219.09187135 311.48178369\n",
      " 316.47461168 171.03403457 370.40844174 366.3570341  174.02410794\n",
      " 174.66890651 213.50453357 221.07143318 192.31302061 175.69865327\n",
      " 200.84750744 303.51436959 211.46201629 309.03738935 302.42557397\n",
      " 203.63053789 417.87057744 206.32721469 154.02506492 152.82765579\n",
      " 383.6338418  228.90568377 393.19586099 376.92792143 202.59111703\n",
      " 171.70848717 210.74535251 295.74206359 242.97457107 160.07407823\n",
      " 259.76915997 233.53405294 290.85067461 306.65440808 342.30918544\n",
      " 384.96533881 244.12604462 139.5149332  233.94865518 218.88154516\n",
      " 311.02137097 289.62966857 289.24819008 251.64456838 213.05468923\n",
      " 250.21217911 275.68276712 306.39506371 313.05778762 347.94426433\n",
      " 256.25537087]\n",
      "new_threshold = 1069.2652128830819\n"
     ]
    },
    {
     "data": {
      "application/vnd.jupyter.widget-view+json": {
       "model_id": "78526243485e45758f4a03da72c7537f",
       "version_major": 2,
       "version_minor": 0
      },
      "text/plain": [
       "HBox(children=(FloatProgress(value=1.0, bar_style='info', max=1.0), HTML(value='')))"
      ]
     },
     "metadata": {},
     "output_type": "display_data"
    },
    {
     "name": "stdout",
     "output_type": "stream",
     "text": [
      "\n",
      "new_skeleton = (13, 2, 3)\n"
     ]
    },
    {
     "data": {
      "application/vnd.jupyter.widget-view+json": {
       "model_id": "386af9fdebd0425e977454f1544897e8",
       "version_major": 2,
       "version_minor": 0
      },
      "text/plain": [
       "HBox(children=(FloatProgress(value=1.0, bar_style='info', max=1.0), HTML(value='')))"
      ]
     },
     "metadata": {},
     "output_type": "display_data"
    },
    {
     "name": "stdout",
     "output_type": "stream",
     "text": [
      "--> Not exactly one containing mesh: []\n",
      "--> Not exactly one containing mesh: []\n",
      "--> Not exactly one containing mesh: []\n",
      "\n",
      "filtered_measurements = [ 97.92416787  89.38346028  55.26519211 134.18818508  86.83436379\n",
      "  79.88722678  82.29760711]\n",
      "new_threshold = 227.14894407102008\n"
     ]
    },
    {
     "data": {
      "application/vnd.jupyter.widget-view+json": {
       "model_id": "de835d97f883427989749e5001431c1e",
       "version_major": 2,
       "version_minor": 0
      },
      "text/plain": [
       "HBox(children=(FloatProgress(value=1.0, bar_style='info', max=1.0), HTML(value='')))"
      ]
     },
     "metadata": {},
     "output_type": "display_data"
    },
    {
     "name": "stdout",
     "output_type": "stream",
     "text": [
      "--> Not exactly one containing mesh: []\n",
      "--> Not exactly one containing mesh: []\n",
      "--> Not exactly one containing mesh: []\n",
      "--> Not exactly one containing mesh: []\n",
      "--> Not exactly one containing mesh: []\n",
      "\n",
      "new_skeleton = (38, 2, 3)\n"
     ]
    },
    {
     "data": {
      "application/vnd.jupyter.widget-view+json": {
       "model_id": "68e27a5700c74352af05672995f54a4b",
       "version_major": 2,
       "version_minor": 0
      },
      "text/plain": [
       "HBox(children=(FloatProgress(value=1.0, bar_style='info', max=1.0), HTML(value='')))"
      ]
     },
     "metadata": {},
     "output_type": "display_data"
    },
    {
     "name": "stdout",
     "output_type": "stream",
     "text": [
      "\n",
      "filtered_measurements = [432.9697833  404.6013874  208.24772074 272.56030926 316.71525899\n",
      " 328.79235298 300.49516768 283.18267675 200.2228063  191.06319955\n",
      " 304.39706634 402.16251235 429.24429242 315.52476168 273.34312478\n",
      " 227.77099082 190.80771291 254.03072858 223.44284318 280.91686116\n",
      " 307.79479358 345.89688799 291.28220324 382.51690794 334.10039484\n",
      " 342.5204118  274.45799677 304.19169495 359.71132392 293.86031332\n",
      " 348.03171962]\n",
      "new_threshold = 906.3339349221144\n"
     ]
    },
    {
     "data": {
      "application/vnd.jupyter.widget-view+json": {
       "model_id": "0541c74b2d3a40c0919a61036df61206",
       "version_major": 2,
       "version_minor": 0
      },
      "text/plain": [
       "HBox(children=(FloatProgress(value=1.0, bar_style='info', max=1.0), HTML(value='')))"
      ]
     },
     "metadata": {},
     "output_type": "display_data"
    },
    {
     "name": "stdout",
     "output_type": "stream",
     "text": [
      "\n",
      "new_skeleton = (31, 2, 3)\n"
     ]
    },
    {
     "data": {
      "application/vnd.jupyter.widget-view+json": {
       "model_id": "f60852be7132414984d7c03e6a8834d4",
       "version_major": 2,
       "version_minor": 0
      },
      "text/plain": [
       "HBox(children=(FloatProgress(value=1.0, bar_style='info', max=1.0), HTML(value='')))"
      ]
     },
     "metadata": {},
     "output_type": "display_data"
    },
    {
     "name": "stdout",
     "output_type": "stream",
     "text": [
      "--> Not exactly one containing mesh: []\n",
      "--> Not exactly one containing mesh: []\n",
      "--> Not exactly one containing mesh: []\n",
      "\n",
      "filtered_measurements = [112.31025302  75.35622008  77.94020804  71.23900796 131.84412054\n",
      " 128.01686354 102.43220272 162.3133774   90.92466193 127.16755886\n",
      " 105.9747165  137.09060254  83.32651488 103.16431116 119.02136427\n",
      " 127.16326532  66.6485143   91.43515415  80.8284047   75.48970644\n",
      "  79.14082018  88.307097   121.24931929 114.14284942]\n",
      "new_threshold = 323.9144112054547\n"
     ]
    },
    {
     "data": {
      "application/vnd.jupyter.widget-view+json": {
       "model_id": "8d2d3eaf427840f1987af00d8355bbc2",
       "version_major": 2,
       "version_minor": 0
      },
      "text/plain": [
       "HBox(children=(FloatProgress(value=1.0, bar_style='info', max=1.0), HTML(value='')))"
      ]
     },
     "metadata": {},
     "output_type": "display_data"
    },
    {
     "name": "stdout",
     "output_type": "stream",
     "text": [
      "--> Not exactly one containing mesh: []\n",
      "--> Not exactly one containing mesh: []\n",
      "--> Not exactly one containing mesh: []\n",
      "--> Not exactly one containing mesh: []\n",
      "--> Not exactly one containing mesh: []\n",
      "\n",
      "new_skeleton = (2, 2, 3)\n"
     ]
    },
    {
     "data": {
      "application/vnd.jupyter.widget-view+json": {
       "model_id": "bbc77f3e812b4b8c8d68bf021ea36214",
       "version_major": 2,
       "version_minor": 0
      },
      "text/plain": [
       "HBox(children=(FloatProgress(value=1.0, bar_style='info', max=1.0), HTML(value='')))"
      ]
     },
     "metadata": {},
     "output_type": "display_data"
    },
    {
     "name": "stdout",
     "output_type": "stream",
     "text": [
      "\n",
      "filtered_measurements = [523.25129678 295.8812561 ]\n",
      "new_threshold = 1079.7479366657087\n"
     ]
    },
    {
     "data": {
      "application/vnd.jupyter.widget-view+json": {
       "model_id": "5be487838e7a4be4b12633fbd91e5e94",
       "version_major": 2,
       "version_minor": 0
      },
      "text/plain": [
       "HBox(children=(FloatProgress(value=1.0, bar_style='info', max=1.0), HTML(value='')))"
      ]
     },
     "metadata": {},
     "output_type": "display_data"
    },
    {
     "name": "stdout",
     "output_type": "stream",
     "text": [
      "\n",
      "new_skeleton = (6, 2, 3)\n"
     ]
    },
    {
     "data": {
      "application/vnd.jupyter.widget-view+json": {
       "model_id": "2e600908777d4b80a3e173f3b5a43cd6",
       "version_major": 2,
       "version_minor": 0
      },
      "text/plain": [
       "HBox(children=(FloatProgress(value=1.0, bar_style='info', max=1.0), HTML(value='')))"
      ]
     },
     "metadata": {},
     "output_type": "display_data"
    },
    {
     "name": "stdout",
     "output_type": "stream",
     "text": [
      "--> Not exactly one containing mesh: []\n",
      "\n",
      "filtered_measurements = [ 73.68221532 166.44665762  81.53935584]\n",
      "new_threshold = 380.79372803739807\n"
     ]
    },
    {
     "data": {
      "application/vnd.jupyter.widget-view+json": {
       "model_id": "6c7eff47b3994b349da9946eee061dce",
       "version_major": 2,
       "version_minor": 0
      },
      "text/plain": [
       "HBox(children=(FloatProgress(value=1.0, bar_style='info', max=1.0), HTML(value='')))"
      ]
     },
     "metadata": {},
     "output_type": "display_data"
    },
    {
     "name": "stdout",
     "output_type": "stream",
     "text": [
      "--> Not exactly one containing mesh: []\n",
      "--> Not exactly one containing mesh: []\n",
      "\n",
      "new_skeleton = (99, 2, 3)\n"
     ]
    },
    {
     "data": {
      "application/vnd.jupyter.widget-view+json": {
       "model_id": "47a20dc41f3f41cf99544616828b60b3",
       "version_major": 2,
       "version_minor": 0
      },
      "text/plain": [
       "HBox(children=(FloatProgress(value=1.0, bar_style='info', max=1.0), HTML(value='')))"
      ]
     },
     "metadata": {},
     "output_type": "display_data"
    },
    {
     "name": "stdout",
     "output_type": "stream",
     "text": [
      "\n",
      "filtered_measurements = [233.98550173 346.45406135 380.55713382 296.66768311 406.31143352\n",
      " 420.11325707 247.69193081 329.35960548 391.86886842 343.18226813\n",
      " 290.22742641 372.01738217 313.70550695 402.09435208 277.5302598\n",
      " 296.26225687 458.27265379 406.27687762 501.27236017 277.83942721\n",
      " 260.40619856 297.80292848 373.20254277 440.100402   467.88493758\n",
      " 334.54564005 280.06456002 430.87725482 500.05600808 245.88883048\n",
      " 247.22841347 290.30916839 441.25230791 275.54254491 237.59910506\n",
      " 497.2080544  398.51307309 388.35238767 346.70473864 311.14136062\n",
      " 407.9490396  319.48229903 353.68208125 356.93738615 501.76808041\n",
      " 525.62805343 280.45086343 282.87933972 314.81422077 354.70251757\n",
      " 428.33357309 422.52297029 383.89899637 537.91928394 518.26402468\n",
      " 342.62885466 535.96628148 340.28411405 365.58534571 587.27097953\n",
      " 422.96143683 271.55469183 289.43476196 354.72278733 523.50236761\n",
      " 376.12809182 384.25939137 353.91671908 362.91341488 378.98040136\n",
      " 391.96523724 542.11094328 315.8591501  324.26069793]\n",
      "new_threshold = 1355.9498058293993\n"
     ]
    },
    {
     "data": {
      "application/vnd.jupyter.widget-view+json": {
       "model_id": "4f37e7a58ebf483f8d3d0667f12e857f",
       "version_major": 2,
       "version_minor": 0
      },
      "text/plain": [
       "HBox(children=(FloatProgress(value=1.0, bar_style='info', max=1.0), HTML(value='')))"
      ]
     },
     "metadata": {},
     "output_type": "display_data"
    },
    {
     "name": "stdout",
     "output_type": "stream",
     "text": [
      "\n",
      "new_skeleton = (24, 2, 3)\n"
     ]
    },
    {
     "data": {
      "application/vnd.jupyter.widget-view+json": {
       "model_id": "e15ed87d2b85439ba04828a9182da8da",
       "version_major": 2,
       "version_minor": 0
      },
      "text/plain": [
       "HBox(children=(FloatProgress(value=1.0, bar_style='info', max=1.0), HTML(value='')))"
      ]
     },
     "metadata": {},
     "output_type": "display_data"
    },
    {
     "name": "stdout",
     "output_type": "stream",
     "text": [
      "--> Not exactly one containing mesh: []\n",
      "\n",
      "filtered_measurements = [120.32860578 141.55963008 113.64424898 108.30250147 117.29967785\n",
      " 125.77499802 100.87707706 155.99219614  96.9795673  193.37231741\n",
      " 121.50074089 101.50839713 121.86291698 133.19476303  71.54504876]\n",
      "new_threshold = 358.9279425526888\n"
     ]
    },
    {
     "data": {
      "application/vnd.jupyter.widget-view+json": {
       "model_id": "4bd5ad7bad10451c8ff67362bca85d6a",
       "version_major": 2,
       "version_minor": 0
      },
      "text/plain": [
       "HBox(children=(FloatProgress(value=1.0, bar_style='info', max=1.0), HTML(value='')))"
      ]
     },
     "metadata": {},
     "output_type": "display_data"
    },
    {
     "name": "stdout",
     "output_type": "stream",
     "text": [
      "--> Not exactly one containing mesh: []\n",
      "\n",
      "new_skeleton = (7, 2, 3)\n"
     ]
    },
    {
     "data": {
      "application/vnd.jupyter.widget-view+json": {
       "model_id": "29a826b9d41349f4ad15feba982fcc98",
       "version_major": 2,
       "version_minor": 0
      },
      "text/plain": [
       "HBox(children=(FloatProgress(value=1.0, bar_style='info', max=1.0), HTML(value='')))"
      ]
     },
     "metadata": {},
     "output_type": "display_data"
    },
    {
     "name": "stdout",
     "output_type": "stream",
     "text": [
      "\n",
      "filtered_measurements = [ 75.7970759   73.18565492  91.87387085 114.96825157  91.25839293]\n",
      "new_threshold = 227.51573848884578\n"
     ]
    },
    {
     "data": {
      "application/vnd.jupyter.widget-view+json": {
       "model_id": "4f22defb9cf74126a9fc0e3c622ad4d3",
       "version_major": 2,
       "version_minor": 0
      },
      "text/plain": [
       "HBox(children=(FloatProgress(value=1.0, bar_style='info', max=1.0), HTML(value='')))"
      ]
     },
     "metadata": {},
     "output_type": "display_data"
    },
    {
     "name": "stdout",
     "output_type": "stream",
     "text": [
      "\n",
      "new_skeleton = (11, 2, 3)\n"
     ]
    },
    {
     "data": {
      "application/vnd.jupyter.widget-view+json": {
       "model_id": "a0e6a29993a24402b60e161f3e414442",
       "version_major": 2,
       "version_minor": 0
      },
      "text/plain": [
       "HBox(children=(FloatProgress(value=1.0, bar_style='info', max=1.0), HTML(value='')))"
      ]
     },
     "metadata": {},
     "output_type": "display_data"
    },
    {
     "name": "stdout",
     "output_type": "stream",
     "text": [
      "\n",
      "filtered_measurements = [387.01873978 543.0386118  369.7581092  337.01126884 272.60387955\n",
      " 380.6739926  355.06923395 415.63702288]\n",
      "new_threshold = 1314.6976845070262\n"
     ]
    },
    {
     "data": {
      "application/vnd.jupyter.widget-view+json": {
       "model_id": "731002c98110498dbe9debc6ad5e3a11",
       "version_major": 2,
       "version_minor": 0
      },
      "text/plain": [
       "HBox(children=(FloatProgress(value=1.0, bar_style='info', max=1.0), HTML(value='')))"
      ]
     },
     "metadata": {},
     "output_type": "display_data"
    },
    {
     "name": "stdout",
     "output_type": "stream",
     "text": [
      "\n",
      "new_skeleton = (7, 2, 3)\n"
     ]
    },
    {
     "data": {
      "application/vnd.jupyter.widget-view+json": {
       "model_id": "1b6844bde466484ca88b23aec92c869d",
       "version_major": 2,
       "version_minor": 0
      },
      "text/plain": [
       "HBox(children=(FloatProgress(value=1.0, bar_style='info', max=1.0), HTML(value='')))"
      ]
     },
     "metadata": {},
     "output_type": "display_data"
    },
    {
     "name": "stdout",
     "output_type": "stream",
     "text": [
      "--> Not exactly one containing mesh: []\n",
      "\n",
      "filtered_measurements = [ 99.99316283 106.62948949  84.78435862  79.28794192  71.79898343]\n",
      "new_threshold = 195.38022322224106\n"
     ]
    },
    {
     "data": {
      "application/vnd.jupyter.widget-view+json": {
       "model_id": "59d51942f56b4b5eb5f71dc7f83a9bea",
       "version_major": 2,
       "version_minor": 0
      },
      "text/plain": [
       "HBox(children=(FloatProgress(value=1.0, bar_style='info', max=1.0), HTML(value='')))"
      ]
     },
     "metadata": {},
     "output_type": "display_data"
    },
    {
     "name": "stdout",
     "output_type": "stream",
     "text": [
      "--> Not exactly one containing mesh: []\n",
      "THERE WERE NO FACES THAT FIT THE DISTANCE (195.38022322224106) and Z transform requirements\n",
      "So just skipping this edge\n",
      "THERE WERE NO FACES THAT FIT THE DISTANCE (195.38022322224106) and Z transform requirements\n",
      "So just skipping this edge\n",
      "THERE WERE NO FACES THAT FIT THE DISTANCE (195.38022322224106) and Z transform requirements\n",
      "So just skipping this edge\n",
      "THERE WERE NO FACES THAT FIT THE DISTANCE (195.38022322224106) and Z transform requirements\n",
      "So just skipping this edge\n",
      "THERE WERE NO FACES THAT FIT THE DISTANCE (195.38022322224106) and Z transform requirements\n",
      "So just skipping this edge\n",
      "THERE WERE NO FACES THAT FIT THE DISTANCE (195.38022322224106) and Z transform requirements\n",
      "So just skipping this edge\n",
      "\n",
      "new_skeleton = (65, 2, 3)\n"
     ]
    },
    {
     "data": {
      "application/vnd.jupyter.widget-view+json": {
       "model_id": "ace28bb7b4c9463289721abe1ae9efcc",
       "version_major": 2,
       "version_minor": 0
      },
      "text/plain": [
       "HBox(children=(FloatProgress(value=1.0, bar_style='info', max=1.0), HTML(value='')))"
      ]
     },
     "metadata": {},
     "output_type": "display_data"
    },
    {
     "name": "stdout",
     "output_type": "stream",
     "text": [
      "\n",
      "filtered_measurements = [344.68779084 577.51560183 347.92582454 314.58627811 652.9806248\n",
      " 485.77945669 461.46393161 441.67812133 438.33181168 295.05109633\n",
      " 422.75422426 340.39031947 684.94081122 422.31452724 576.2369112\n",
      " 533.175847   585.71668285 581.99115905 494.79313748 559.34415384\n",
      " 351.9296155  441.56590113 553.07363605 645.8053999  384.48160451\n",
      " 324.27606148 417.69058568 335.19492214 324.90930294 487.42964723\n",
      " 360.66230898 307.53116922 439.06559137 369.39971189 479.8366796\n",
      " 693.62277798 586.40243215 659.76285759 361.20995807 396.04818878\n",
      " 508.33846715 482.76438225 468.02345366 431.15525847 343.49310863\n",
      " 367.05141371 350.90019781 451.8168578  637.01867164 565.88775443\n",
      " 593.28968614 351.3424892 ]\n",
      "new_threshold = 1677.6946140810164\n"
     ]
    },
    {
     "data": {
      "application/vnd.jupyter.widget-view+json": {
       "model_id": "e424b5fc0f9140c9ab5b0afce4cb5422",
       "version_major": 2,
       "version_minor": 0
      },
      "text/plain": [
       "HBox(children=(FloatProgress(value=1.0, bar_style='info', max=1.0), HTML(value='')))"
      ]
     },
     "metadata": {},
     "output_type": "display_data"
    },
    {
     "name": "stdout",
     "output_type": "stream",
     "text": [
      "\n",
      "new_skeleton = (117, 2, 3)\n"
     ]
    },
    {
     "data": {
      "application/vnd.jupyter.widget-view+json": {
       "model_id": "75698041c7654749ac48d05ae95471e7",
       "version_major": 2,
       "version_minor": 0
      },
      "text/plain": [
       "HBox(children=(FloatProgress(value=1.0, bar_style='info', max=1.0), HTML(value='')))"
      ]
     },
     "metadata": {},
     "output_type": "display_data"
    },
    {
     "name": "stdout",
     "output_type": "stream",
     "text": [
      "\n",
      "filtered_measurements = [127.64913998 359.065965   228.61464542 304.27003658 253.124872\n",
      " 218.29428454 402.85662497 294.44035047 575.31765276 272.61049853\n",
      " 213.82939933 226.78493593 198.27640576 464.46054821 358.84182178\n",
      " 193.67027416 426.6041106  404.54599934 383.21810528 407.69857143\n",
      " 288.62234179 598.78499312 277.64213372 274.20466089 309.02521678\n",
      " 521.79952818 441.57170829 430.24695698 298.19979006 363.80042745\n",
      " 341.62070055 282.37147045 271.65945844 473.72812723 360.85169845\n",
      " 327.86908536 569.47886468 431.26318692 388.28919898 439.05295881\n",
      " 486.93801912 189.25607103 341.36124304 484.90635718 369.27600693\n",
      " 385.71381692 238.65351719 399.30217168 313.46367709 366.31501622\n",
      " 355.41610403 517.91469842 574.27457985 361.84392305 546.67256518\n",
      " 400.17979309 329.93259649 304.83949467 603.03993714 294.23120754\n",
      " 229.98343505 451.07691808 388.04190415 498.69681687 440.85610768\n",
      " 282.58467748 382.3631182  284.56893864 305.18606179 323.7512838\n",
      " 513.82325258 429.59711878 334.4406084  422.98946751 365.24456775\n",
      " 540.23972918 489.08587157 400.9862493  607.56660128 245.5603512\n",
      " 423.90133354 267.91118143 308.48109128 346.29679529 328.04264243]\n",
      "new_threshold = 1517.4036269037706\n"
     ]
    },
    {
     "data": {
      "application/vnd.jupyter.widget-view+json": {
       "model_id": "023c8df5439b47349353cbb4b1b6c125",
       "version_major": 2,
       "version_minor": 0
      },
      "text/plain": [
       "HBox(children=(FloatProgress(value=1.0, bar_style='info', max=1.0), HTML(value='')))"
      ]
     },
     "metadata": {},
     "output_type": "display_data"
    },
    {
     "name": "stdout",
     "output_type": "stream",
     "text": [
      "\n",
      "new_skeleton = (23, 2, 3)\n"
     ]
    },
    {
     "data": {
      "application/vnd.jupyter.widget-view+json": {
       "model_id": "438e1c344775450ab30de2319f3a282d",
       "version_major": 2,
       "version_minor": 0
      },
      "text/plain": [
       "HBox(children=(FloatProgress(value=1.0, bar_style='info', max=1.0), HTML(value='')))"
      ]
     },
     "metadata": {},
     "output_type": "display_data"
    },
    {
     "name": "stdout",
     "output_type": "stream",
     "text": [
      "--> Not exactly one containing mesh: []\n",
      "--> Not exactly one containing mesh: []\n",
      "--> Not exactly one containing mesh: []\n",
      "--> Not exactly one containing mesh: []\n",
      "\n",
      "filtered_measurements = [819.34693716 741.00546267 763.05725376 791.41720477 777.30668268\n",
      " 802.14488705 768.24138443 762.20076463 727.98552287 784.69750934\n",
      " 831.39767311 813.81179346 646.3263354  478.07446301 291.11044665\n",
      " 331.93825598 400.3741223  399.16250164 414.15719061 539.66249589\n",
      " 780.27952568]\n",
      "new_threshold = 1532.2017503493325\n"
     ]
    },
    {
     "data": {
      "application/vnd.jupyter.widget-view+json": {
       "model_id": "7f4b78c7421a41a9adb278ac01fdcadb",
       "version_major": 2,
       "version_minor": 0
      },
      "text/plain": [
       "HBox(children=(FloatProgress(value=1.0, bar_style='info', max=1.0), HTML(value='')))"
      ]
     },
     "metadata": {},
     "output_type": "display_data"
    },
    {
     "name": "stdout",
     "output_type": "stream",
     "text": [
      "--> Not exactly one containing mesh: []\n",
      "--> Not exactly one containing mesh: []\n",
      "--> Not exactly one containing mesh: []\n",
      "--> Not exactly one containing mesh: []\n",
      "\n",
      "new_skeleton = (30, 2, 3)\n"
     ]
    },
    {
     "data": {
      "application/vnd.jupyter.widget-view+json": {
       "model_id": "69ff40b83d174491a7d248e82c68eec6",
       "version_major": 2,
       "version_minor": 0
      },
      "text/plain": [
       "HBox(children=(FloatProgress(value=1.0, bar_style='info', max=1.0), HTML(value='')))"
      ]
     },
     "metadata": {},
     "output_type": "display_data"
    },
    {
     "name": "stdout",
     "output_type": "stream",
     "text": [
      "--> Not exactly one containing mesh: []\n",
      "\n",
      "filtered_measurements = [367.50806122 219.02757444 224.45294514 247.14348524 453.90615956\n",
      " 469.76683002 405.59618394 344.64078613 280.12650369 385.91984481\n",
      " 322.75836981 320.16593632 272.39685839 476.48929642 519.1704949\n",
      " 371.02577635 301.48439243 416.28601037 403.19334526 234.87915046\n",
      " 231.48436077]\n",
      "new_threshold = 1337.4235080116973\n"
     ]
    },
    {
     "data": {
      "application/vnd.jupyter.widget-view+json": {
       "model_id": "df094394cf7c44bd8f7db1174325ed1e",
       "version_major": 2,
       "version_minor": 0
      },
      "text/plain": [
       "HBox(children=(FloatProgress(value=1.0, bar_style='info', max=1.0), HTML(value='')))"
      ]
     },
     "metadata": {},
     "output_type": "display_data"
    },
    {
     "name": "stdout",
     "output_type": "stream",
     "text": [
      "--> Not exactly one containing mesh: []\n",
      "\n",
      "new_skeleton = (29, 2, 3)\n"
     ]
    },
    {
     "data": {
      "application/vnd.jupyter.widget-view+json": {
       "model_id": "8999b5a218ac4ae88e35f408e5b14fc8",
       "version_major": 2,
       "version_minor": 0
      },
      "text/plain": [
       "HBox(children=(FloatProgress(value=1.0, bar_style='info', max=1.0), HTML(value='')))"
      ]
     },
     "metadata": {},
     "output_type": "display_data"
    },
    {
     "name": "stdout",
     "output_type": "stream",
     "text": [
      "--> Not exactly one containing mesh: []\n",
      "--> Not exactly one containing mesh: []\n",
      "\n",
      "filtered_measurements = [145.91446574 133.87526467 195.8660912  171.87215205 107.36228502\n",
      " 141.16752168 130.3922007   98.67007756 112.36869395 117.00473446\n",
      " 193.59762756  95.12754349 130.14512852 178.4031216  137.37231474\n",
      " 102.11472161  80.97563356 140.77292444 118.12588701]\n",
      "new_threshold = 466.2241602067658\n"
     ]
    },
    {
     "data": {
      "application/vnd.jupyter.widget-view+json": {
       "model_id": "7f3e75427c834f7a90a5cb0c9afd766b",
       "version_major": 2,
       "version_minor": 0
      },
      "text/plain": [
       "HBox(children=(FloatProgress(value=1.0, bar_style='info', max=1.0), HTML(value='')))"
      ]
     },
     "metadata": {},
     "output_type": "display_data"
    },
    {
     "name": "stdout",
     "output_type": "stream",
     "text": [
      "--> Not exactly one containing mesh: []\n",
      "--> Not exactly one containing mesh: []\n",
      "\n",
      "new_skeleton = (53, 2, 3)\n"
     ]
    },
    {
     "data": {
      "application/vnd.jupyter.widget-view+json": {
       "model_id": "0d975add5dce4721a9b68a95cc0b56e8",
       "version_major": 2,
       "version_minor": 0
      },
      "text/plain": [
       "HBox(children=(FloatProgress(value=1.0, bar_style='info', max=1.0), HTML(value='')))"
      ]
     },
     "metadata": {},
     "output_type": "display_data"
    },
    {
     "name": "stdout",
     "output_type": "stream",
     "text": [
      "\n",
      "filtered_measurements = [627.55130856 653.84139657 404.60950389 432.00871517 416.11188273\n",
      " 533.25633319 423.40603855 628.0132672  595.56988085 451.55193935\n",
      " 341.27637742 656.05885956 371.54130852 375.81254518 597.17073595\n",
      " 377.62084099 321.41672095 377.43041372 471.40698094 663.87917384\n",
      " 490.11691765 388.71237834 433.92468076 534.30505212 600.83918135\n",
      " 500.08306439 469.96799272 368.46250786 461.23769277 530.45584755\n",
      " 391.68515711 529.25385965 373.63818678 403.39643929 447.22302149\n",
      " 665.87216197 353.28775682 336.02627286 413.7989981  574.5580159\n",
      " 656.21095346 585.44846862 418.10898991 434.70173537]\n",
      "new_threshold = 1590.6621885127697\n"
     ]
    },
    {
     "data": {
      "application/vnd.jupyter.widget-view+json": {
       "model_id": "3323d85153814cd39d5b0a44163a7564",
       "version_major": 2,
       "version_minor": 0
      },
      "text/plain": [
       "HBox(children=(FloatProgress(value=1.0, bar_style='info', max=1.0), HTML(value='')))"
      ]
     },
     "metadata": {},
     "output_type": "display_data"
    },
    {
     "name": "stdout",
     "output_type": "stream",
     "text": [
      "\n",
      "new_skeleton = (31, 2, 3)\n"
     ]
    },
    {
     "data": {
      "application/vnd.jupyter.widget-view+json": {
       "model_id": "873adffc977f453390f78595aa84af65",
       "version_major": 2,
       "version_minor": 0
      },
      "text/plain": [
       "HBox(children=(FloatProgress(value=1.0, bar_style='info', max=1.0), HTML(value='')))"
      ]
     },
     "metadata": {},
     "output_type": "display_data"
    },
    {
     "name": "stdout",
     "output_type": "stream",
     "text": [
      "\n",
      "filtered_measurements = [523.30331013 353.93529341 440.84879193 471.71688332 480.99150266\n",
      " 436.82744978 445.32685644 435.7161689  614.29931527 700.26721412\n",
      " 604.28805841 431.02219681 600.37219082 385.97221132 610.38526531\n",
      " 344.773728   671.8234529  388.36159017 650.90093414 460.03947512\n",
      " 447.31249487 440.66893782 687.07018731 423.27120662]\n",
      "new_threshold = 1626.5120683303603\n"
     ]
    },
    {
     "data": {
      "application/vnd.jupyter.widget-view+json": {
       "model_id": "c326397bbbf44c139dcbc2877a2cbd00",
       "version_major": 2,
       "version_minor": 0
      },
      "text/plain": [
       "HBox(children=(FloatProgress(value=1.0, bar_style='info', max=1.0), HTML(value='')))"
      ]
     },
     "metadata": {},
     "output_type": "display_data"
    },
    {
     "name": "stdout",
     "output_type": "stream",
     "text": [
      "\n",
      "new_skeleton = (26, 2, 3)\n"
     ]
    },
    {
     "data": {
      "application/vnd.jupyter.widget-view+json": {
       "model_id": "067d8963d8b443f19128b1305b7862ac",
       "version_major": 2,
       "version_minor": 0
      },
      "text/plain": [
       "HBox(children=(FloatProgress(value=1.0, bar_style='info', max=1.0), HTML(value='')))"
      ]
     },
     "metadata": {},
     "output_type": "display_data"
    },
    {
     "name": "stdout",
     "output_type": "stream",
     "text": [
      "\n",
      "filtered_measurements = [435.26931393 510.27534358 438.73625878 435.48535372 473.56466133\n",
      " 660.50369528 447.20011139 501.15058428 605.57047855 338.00375973\n",
      " 281.69476342 615.97453503 286.98186565 194.10719232 679.61688549\n",
      " 379.65460166 213.53569102 273.07580801 296.60470725]\n",
      "new_threshold = 1710.925557175247\n"
     ]
    },
    {
     "data": {
      "application/vnd.jupyter.widget-view+json": {
       "model_id": "4a6b80741a434e53b30e7be25312a094",
       "version_major": 2,
       "version_minor": 0
      },
      "text/plain": [
       "HBox(children=(FloatProgress(value=1.0, bar_style='info', max=1.0), HTML(value='')))"
      ]
     },
     "metadata": {},
     "output_type": "display_data"
    },
    {
     "name": "stdout",
     "output_type": "stream",
     "text": [
      "\n",
      "new_skeleton = (4, 2, 3)\n"
     ]
    },
    {
     "data": {
      "application/vnd.jupyter.widget-view+json": {
       "model_id": "3519260d69a74dc79792532148f40247",
       "version_major": 2,
       "version_minor": 0
      },
      "text/plain": [
       "HBox(children=(FloatProgress(value=1.0, bar_style='info', max=1.0), HTML(value='')))"
      ]
     },
     "metadata": {},
     "output_type": "display_data"
    },
    {
     "name": "stdout",
     "output_type": "stream",
     "text": [
      "--> Not exactly one containing mesh: []\n",
      "--> Not exactly one containing mesh: []\n",
      "\n",
      "filtered_measurements = [355.89927369 178.18764717]\n",
      "new_threshold = 578.0556875925647\n"
     ]
    },
    {
     "data": {
      "application/vnd.jupyter.widget-view+json": {
       "model_id": "e0726ae586124f1690e5788386172f62",
       "version_major": 2,
       "version_minor": 0
      },
      "text/plain": [
       "HBox(children=(FloatProgress(value=1.0, bar_style='info', max=1.0), HTML(value='')))"
      ]
     },
     "metadata": {},
     "output_type": "display_data"
    },
    {
     "name": "stdout",
     "output_type": "stream",
     "text": [
      "--> Not exactly one containing mesh: []\n",
      "--> Not exactly one containing mesh: []\n",
      "\n",
      "new_skeleton = (6, 2, 3)\n"
     ]
    },
    {
     "data": {
      "application/vnd.jupyter.widget-view+json": {
       "model_id": "e1f5b4a961914f0c851688d1298ed0e3",
       "version_major": 2,
       "version_minor": 0
      },
      "text/plain": [
       "HBox(children=(FloatProgress(value=1.0, bar_style='info', max=1.0), HTML(value='')))"
      ]
     },
     "metadata": {},
     "output_type": "display_data"
    },
    {
     "name": "stdout",
     "output_type": "stream",
     "text": [
      "--> Not exactly one containing mesh: []\n",
      "\n",
      "filtered_measurements = [127.62478053  91.2131062   82.53562273 106.64410094]\n",
      "new_threshold = 243.78780849585024\n"
     ]
    },
    {
     "data": {
      "application/vnd.jupyter.widget-view+json": {
       "model_id": "0756bc4a8ae7442886bfb30b89e2ecd7",
       "version_major": 2,
       "version_minor": 0
      },
      "text/plain": [
       "HBox(children=(FloatProgress(value=1.0, bar_style='info', max=1.0), HTML(value='')))"
      ]
     },
     "metadata": {},
     "output_type": "display_data"
    },
    {
     "name": "stdout",
     "output_type": "stream",
     "text": [
      "--> Not exactly one containing mesh: []\n",
      "\n",
      "new_skeleton = (19, 2, 3)\n"
     ]
    },
    {
     "data": {
      "application/vnd.jupyter.widget-view+json": {
       "model_id": "739ad28eb21645a4af27423209471f08",
       "version_major": 2,
       "version_minor": 0
      },
      "text/plain": [
       "HBox(children=(FloatProgress(value=1.0, bar_style='info', max=1.0), HTML(value='')))"
      ]
     },
     "metadata": {},
     "output_type": "display_data"
    },
    {
     "name": "stdout",
     "output_type": "stream",
     "text": [
      "\n",
      "filtered_measurements = [159.18933121 133.66105106 139.73324355 144.71032214  95.33729775\n",
      " 156.91205866 122.11395087 105.77281274  82.935448    95.77148131\n",
      "  91.78238478  79.32740712 140.5237825  122.3179774  112.83393522\n",
      " 122.92110136]\n",
      "new_threshold = 315.8278956633719\n"
     ]
    },
    {
     "data": {
      "application/vnd.jupyter.widget-view+json": {
       "model_id": "fff3b0469f1947a3b10f0f82179cc60e",
       "version_major": 2,
       "version_minor": 0
      },
      "text/plain": [
       "HBox(children=(FloatProgress(value=1.0, bar_style='info', max=1.0), HTML(value='')))"
      ]
     },
     "metadata": {},
     "output_type": "display_data"
    },
    {
     "name": "stdout",
     "output_type": "stream",
     "text": [
      "--> Not exactly one containing mesh: []\n",
      "\n",
      "new_skeleton = (18, 2, 3)\n"
     ]
    },
    {
     "data": {
      "application/vnd.jupyter.widget-view+json": {
       "model_id": "3fc61227012b4043b57e6516ea66084a",
       "version_major": 2,
       "version_minor": 0
      },
      "text/plain": [
       "HBox(children=(FloatProgress(value=1.0, bar_style='info', max=1.0), HTML(value='')))"
      ]
     },
     "metadata": {},
     "output_type": "display_data"
    },
    {
     "name": "stdout",
     "output_type": "stream",
     "text": [
      "\n",
      "filtered_measurements = [ 71.68756493  97.35253563  83.85219287 124.78772263 207.02487261\n",
      " 242.71336325 184.067881   135.5141546   82.85692086 257.54587948\n",
      " 284.30242409 214.20798391 221.48659506 184.04304975 277.33218177]\n",
      "new_threshold = 567.3661151526168\n"
     ]
    },
    {
     "data": {
      "application/vnd.jupyter.widget-view+json": {
       "model_id": "230e0ba389434c90a2a102e262a47fed",
       "version_major": 2,
       "version_minor": 0
      },
      "text/plain": [
       "HBox(children=(FloatProgress(value=1.0, bar_style='info', max=1.0), HTML(value='')))"
      ]
     },
     "metadata": {},
     "output_type": "display_data"
    },
    {
     "name": "stdout",
     "output_type": "stream",
     "text": [
      "\n",
      "new_skeleton = (20, 2, 3)\n"
     ]
    },
    {
     "data": {
      "application/vnd.jupyter.widget-view+json": {
       "model_id": "b3e3d723c9454effb9f8a6d424f77fdd",
       "version_major": 2,
       "version_minor": 0
      },
      "text/plain": [
       "HBox(children=(FloatProgress(value=1.0, bar_style='info', max=1.0), HTML(value='')))"
      ]
     },
     "metadata": {},
     "output_type": "display_data"
    },
    {
     "name": "stdout",
     "output_type": "stream",
     "text": [
      "--> Not exactly one containing mesh: []\n",
      "--> Not exactly one containing mesh: []\n",
      "--> Not exactly one containing mesh: []\n",
      "--> Not exactly one containing mesh: []\n",
      "--> Not exactly one containing mesh: []\n",
      "\n",
      "filtered_measurements = [185.74540058 128.51419801 107.37782331  79.08313695  82.76746857\n",
      "  89.45505336 182.35745937 147.35235106 118.48438272 109.09632361\n",
      " 140.76371086 102.69941644 100.57125125 150.88095135 149.33606203]\n",
      "new_threshold = 355.36102680318197\n"
     ]
    },
    {
     "data": {
      "application/vnd.jupyter.widget-view+json": {
       "model_id": "531996fd3f5b4c57a1429527d537b552",
       "version_major": 2,
       "version_minor": 0
      },
      "text/plain": [
       "HBox(children=(FloatProgress(value=1.0, bar_style='info', max=1.0), HTML(value='')))"
      ]
     },
     "metadata": {},
     "output_type": "display_data"
    },
    {
     "name": "stdout",
     "output_type": "stream",
     "text": [
      "--> Not exactly one containing mesh: []\n",
      "--> Not exactly one containing mesh: []\n",
      "--> Not exactly one containing mesh: []\n",
      "--> Not exactly one containing mesh: []\n",
      "--> Not exactly one containing mesh: []\n",
      "--> Not exactly one containing mesh: []\n",
      "\n",
      "new_skeleton = (11, 2, 3)\n"
     ]
    },
    {
     "data": {
      "application/vnd.jupyter.widget-view+json": {
       "model_id": "b8ce14a21f814cbe9da66bb540ddd4ec",
       "version_major": 2,
       "version_minor": 0
      },
      "text/plain": [
       "HBox(children=(FloatProgress(value=1.0, bar_style='info', max=1.0), HTML(value='')))"
      ]
     },
     "metadata": {},
     "output_type": "display_data"
    },
    {
     "name": "stdout",
     "output_type": "stream",
     "text": [
      "--> Not exactly one containing mesh: []\n",
      "--> Not exactly one containing mesh: []\n",
      "\n",
      "filtered_measurements = [602.49247462 422.67091646 419.99891874 446.33698824 440.47031684\n",
      " 362.77261149 323.69790803 366.81195856 394.26863366]\n",
      "new_threshold = 1182.199250752486\n"
     ]
    },
    {
     "data": {
      "application/vnd.jupyter.widget-view+json": {
       "model_id": "8903f6a8ac414e71b67e2d6808239d0f",
       "version_major": 2,
       "version_minor": 0
      },
      "text/plain": [
       "HBox(children=(FloatProgress(value=1.0, bar_style='info', max=1.0), HTML(value='')))"
      ]
     },
     "metadata": {},
     "output_type": "display_data"
    },
    {
     "name": "stdout",
     "output_type": "stream",
     "text": [
      "--> Not exactly one containing mesh: []\n",
      "--> Not exactly one containing mesh: []\n",
      "\n",
      "new_skeleton = (3, 2, 3)\n"
     ]
    },
    {
     "data": {
      "application/vnd.jupyter.widget-view+json": {
       "model_id": "30488bf79f3e4371b32b17b8cffdb80d",
       "version_major": 2,
       "version_minor": 0
      },
      "text/plain": [
       "HBox(children=(FloatProgress(value=1.0, bar_style='info', max=1.0), HTML(value='')))"
      ]
     },
     "metadata": {},
     "output_type": "display_data"
    },
    {
     "name": "stdout",
     "output_type": "stream",
     "text": [
      "\n",
      "filtered_measurements = [608.97058054 723.76581278 560.00377504]\n",
      "new_threshold = 1502.2109873290738\n"
     ]
    },
    {
     "data": {
      "application/vnd.jupyter.widget-view+json": {
       "model_id": "8fe0cc24581440af94415352e4e8045e",
       "version_major": 2,
       "version_minor": 0
      },
      "text/plain": [
       "HBox(children=(FloatProgress(value=1.0, bar_style='info', max=1.0), HTML(value='')))"
      ]
     },
     "metadata": {},
     "output_type": "display_data"
    },
    {
     "name": "stdout",
     "output_type": "stream",
     "text": [
      "\n",
      "new_skeleton = (6, 2, 3)\n"
     ]
    },
    {
     "data": {
      "application/vnd.jupyter.widget-view+json": {
       "model_id": "f5419057b785457785430ce29bb8db7d",
       "version_major": 2,
       "version_minor": 0
      },
      "text/plain": [
       "HBox(children=(FloatProgress(value=1.0, bar_style='info', max=1.0), HTML(value='')))"
      ]
     },
     "metadata": {},
     "output_type": "display_data"
    },
    {
     "name": "stdout",
     "output_type": "stream",
     "text": [
      "--> Not exactly one containing mesh: []\n",
      "\n",
      "filtered_measurements = [74.52521082 79.05059667 98.57049869]\n",
      "new_threshold = 206.78495594798187\n"
     ]
    },
    {
     "data": {
      "application/vnd.jupyter.widget-view+json": {
       "model_id": "7e4d6a296ebc4bf6acd8453345e73938",
       "version_major": 2,
       "version_minor": 0
      },
      "text/plain": [
       "HBox(children=(FloatProgress(value=1.0, bar_style='info', max=1.0), HTML(value='')))"
      ]
     },
     "metadata": {},
     "output_type": "display_data"
    },
    {
     "name": "stdout",
     "output_type": "stream",
     "text": [
      "--> Not exactly one containing mesh: []\n",
      "\n",
      "new_skeleton = (9, 2, 3)\n"
     ]
    },
    {
     "data": {
      "application/vnd.jupyter.widget-view+json": {
       "model_id": "0fdb0c8d327c4d35b07af67baa5367b7",
       "version_major": 2,
       "version_minor": 0
      },
      "text/plain": [
       "HBox(children=(FloatProgress(value=1.0, bar_style='info', max=1.0), HTML(value='')))"
      ]
     },
     "metadata": {},
     "output_type": "display_data"
    },
    {
     "name": "stdout",
     "output_type": "stream",
     "text": [
      "--> Not exactly one containing mesh: [0 2]\n",
      "\n",
      "filtered_measurements = [172.55243412 179.47060595 157.18094302 211.80327028 186.44114729\n",
      " 164.76672698]\n",
      "new_threshold = 409.074801221614\n"
     ]
    },
    {
     "data": {
      "application/vnd.jupyter.widget-view+json": {
       "model_id": "6c738a9ffd2b4076be829bf26fbe3a94",
       "version_major": 2,
       "version_minor": 0
      },
      "text/plain": [
       "HBox(children=(FloatProgress(value=1.0, bar_style='info', max=1.0), HTML(value='')))"
      ]
     },
     "metadata": {},
     "output_type": "display_data"
    },
    {
     "name": "stdout",
     "output_type": "stream",
     "text": [
      "\n",
      "new_skeleton = (19, 2, 3)\n"
     ]
    },
    {
     "data": {
      "application/vnd.jupyter.widget-view+json": {
       "model_id": "cf75c1cae79045dcb3e8a7bef5e0c73b",
       "version_major": 2,
       "version_minor": 0
      },
      "text/plain": [
       "HBox(children=(FloatProgress(value=1.0, bar_style='info', max=1.0), HTML(value='')))"
      ]
     },
     "metadata": {},
     "output_type": "display_data"
    },
    {
     "name": "stdout",
     "output_type": "stream",
     "text": [
      "\n",
      "filtered_measurements = [653.12099242 626.00837296 341.20616464 717.14362098 531.62917219\n",
      " 532.23476472 450.25350304 485.2126959  533.81688741 403.69292145\n",
      " 697.0523228  679.23944813 297.63603836 530.96193081 454.53434889]\n",
      "new_threshold = 1852.02271784081\n"
     ]
    },
    {
     "data": {
      "application/vnd.jupyter.widget-view+json": {
       "model_id": "be8f10e67d334aa699208aac9690892f",
       "version_major": 2,
       "version_minor": 0
      },
      "text/plain": [
       "HBox(children=(FloatProgress(value=1.0, bar_style='info', max=1.0), HTML(value='')))"
      ]
     },
     "metadata": {},
     "output_type": "display_data"
    },
    {
     "name": "stdout",
     "output_type": "stream",
     "text": [
      "\n",
      "new_skeleton = (2, 2, 3)\n"
     ]
    },
    {
     "data": {
      "application/vnd.jupyter.widget-view+json": {
       "model_id": "2dbd7c9f93424f3ea6ca3a1ca24522ca",
       "version_major": 2,
       "version_minor": 0
      },
      "text/plain": [
       "HBox(children=(FloatProgress(value=1.0, bar_style='info', max=1.0), HTML(value='')))"
      ]
     },
     "metadata": {},
     "output_type": "display_data"
    },
    {
     "name": "stdout",
     "output_type": "stream",
     "text": [
      "\n",
      "filtered_measurements = [178.54595581]\n",
      "new_threshold = 339.22399175852365\n"
     ]
    },
    {
     "data": {
      "application/vnd.jupyter.widget-view+json": {
       "model_id": "6e0874c45fe849ddb2895b5ee7ee1ae5",
       "version_major": 2,
       "version_minor": 0
      },
      "text/plain": [
       "HBox(children=(FloatProgress(value=1.0, bar_style='info', max=1.0), HTML(value='')))"
      ]
     },
     "metadata": {},
     "output_type": "display_data"
    },
    {
     "name": "stdout",
     "output_type": "stream",
     "text": [
      "--> Not exactly one containing mesh: []\n",
      "\n",
      "new_skeleton = (14, 2, 3)\n"
     ]
    },
    {
     "data": {
      "application/vnd.jupyter.widget-view+json": {
       "model_id": "378c6f6aa0b646d48381e26197111c3b",
       "version_major": 2,
       "version_minor": 0
      },
      "text/plain": [
       "HBox(children=(FloatProgress(value=1.0, bar_style='info', max=1.0), HTML(value='')))"
      ]
     },
     "metadata": {},
     "output_type": "display_data"
    },
    {
     "name": "stdout",
     "output_type": "stream",
     "text": [
      "--> Not exactly one containing mesh: []\n",
      "\n",
      "filtered_measurements = [123.23443679  89.68389203 157.98211918 111.43865412  96.00874097\n",
      " 168.66248925 101.92558752 134.53072581 165.06552736 102.82368733\n",
      " 112.58000657]\n",
      "new_threshold = 360.270970042005\n"
     ]
    },
    {
     "data": {
      "application/vnd.jupyter.widget-view+json": {
       "model_id": "6940df3f758b4c2abf5cb5a2f40e5711",
       "version_major": 2,
       "version_minor": 0
      },
      "text/plain": [
       "HBox(children=(FloatProgress(value=1.0, bar_style='info', max=1.0), HTML(value='')))"
      ]
     },
     "metadata": {},
     "output_type": "display_data"
    },
    {
     "name": "stdout",
     "output_type": "stream",
     "text": [
      "--> Not exactly one containing mesh: []\n",
      "--> Not exactly one containing mesh: []\n",
      "\n",
      "new_skeleton = (7, 2, 3)\n"
     ]
    },
    {
     "data": {
      "application/vnd.jupyter.widget-view+json": {
       "model_id": "10b9f962c83642dfb645f2961ca0a51b",
       "version_major": 2,
       "version_minor": 0
      },
      "text/plain": [
       "HBox(children=(FloatProgress(value=1.0, bar_style='info', max=1.0), HTML(value='')))"
      ]
     },
     "metadata": {},
     "output_type": "display_data"
    },
    {
     "name": "stdout",
     "output_type": "stream",
     "text": [
      "\n",
      "filtered_measurements = [767.68622367 607.96113461 475.44409835 530.35848755 891.20272294]\n",
      "new_threshold = 2279.260345131446\n"
     ]
    },
    {
     "data": {
      "application/vnd.jupyter.widget-view+json": {
       "model_id": "79369c0ae3d841cbb6c0d6257f0ef578",
       "version_major": 2,
       "version_minor": 0
      },
      "text/plain": [
       "HBox(children=(FloatProgress(value=1.0, bar_style='info', max=1.0), HTML(value='')))"
      ]
     },
     "metadata": {},
     "output_type": "display_data"
    },
    {
     "name": "stdout",
     "output_type": "stream",
     "text": [
      "\n",
      "new_skeleton = (2, 2, 3)\n"
     ]
    },
    {
     "data": {
      "application/vnd.jupyter.widget-view+json": {
       "model_id": "34cee0f9d73c4105bfa3ddd183f6d26e",
       "version_major": 2,
       "version_minor": 0
      },
      "text/plain": [
       "HBox(children=(FloatProgress(value=1.0, bar_style='info', max=1.0), HTML(value='')))"
      ]
     },
     "metadata": {},
     "output_type": "display_data"
    },
    {
     "name": "stdout",
     "output_type": "stream",
     "text": [
      "\n",
      "filtered_measurements = [650.96879367 773.03526232]\n",
      "new_threshold = 1534.9417632257264\n"
     ]
    },
    {
     "data": {
      "application/vnd.jupyter.widget-view+json": {
       "model_id": "9ff4366b4a8243f697a41b59b18a9903",
       "version_major": 2,
       "version_minor": 0
      },
      "text/plain": [
       "HBox(children=(FloatProgress(value=1.0, bar_style='info', max=1.0), HTML(value='')))"
      ]
     },
     "metadata": {},
     "output_type": "display_data"
    },
    {
     "name": "stdout",
     "output_type": "stream",
     "text": [
      "\n",
      "new_skeleton = (71, 2, 3)\n"
     ]
    },
    {
     "data": {
      "application/vnd.jupyter.widget-view+json": {
       "model_id": "aecfafd9e4624909b5f27ef66953e7f5",
       "version_major": 2,
       "version_minor": 0
      },
      "text/plain": [
       "HBox(children=(FloatProgress(value=1.0, bar_style='info', max=1.0), HTML(value='')))"
      ]
     },
     "metadata": {},
     "output_type": "display_data"
    },
    {
     "name": "stdout",
     "output_type": "stream",
     "text": [
      "\n",
      "filtered_measurements = [399.07250286 378.67796425 441.81891043 467.5930488  397.96731352\n",
      " 435.94453466 397.27998949 393.70809964 382.0238073  514.27872508\n",
      " 284.93732416 555.11788074 506.61540027 475.9029565  439.65747656\n",
      " 275.85413996 312.18731843 367.6931964  442.22131871 349.85472772\n",
      " 574.11271953 327.22097159 287.26493807 192.54935068 306.68926432\n",
      " 603.17042432 418.05278142 337.59129081 475.05149486 347.63226262\n",
      " 254.71100839 478.91781479 301.01765444 244.24056884 296.13380212\n",
      " 444.69282484 298.47913384 427.51565233 347.56900239 447.08039551\n",
      " 396.44687054 411.51955375 375.73024545 288.2826982  564.95418903\n",
      " 593.87806832 272.28485147 265.40871658 260.98306218 275.36230691\n",
      " 565.59219134 409.94788795 394.18806764 488.92591544 298.95944909\n",
      " 283.22970021 242.55754602]\n",
      "new_threshold = 1611.8436370606764\n"
     ]
    },
    {
     "data": {
      "application/vnd.jupyter.widget-view+json": {
       "model_id": "6801f514d8e447c08e2c397986e8e8c8",
       "version_major": 2,
       "version_minor": 0
      },
      "text/plain": [
       "HBox(children=(FloatProgress(value=1.0, bar_style='info', max=1.0), HTML(value='')))"
      ]
     },
     "metadata": {},
     "output_type": "display_data"
    },
    {
     "name": "stdout",
     "output_type": "stream",
     "text": [
      "\n",
      "new_skeleton = (15, 2, 3)\n"
     ]
    },
    {
     "data": {
      "application/vnd.jupyter.widget-view+json": {
       "model_id": "0892eb7723304142bcc59a0b741f87f9",
       "version_major": 2,
       "version_minor": 0
      },
      "text/plain": [
       "HBox(children=(FloatProgress(value=1.0, bar_style='info', max=1.0), HTML(value='')))"
      ]
     },
     "metadata": {},
     "output_type": "display_data"
    },
    {
     "name": "stdout",
     "output_type": "stream",
     "text": [
      "\n",
      "filtered_measurements = [183.2518944  201.36298549 239.07294806 295.66887168 185.53390389\n",
      " 195.89803063 357.24984208 278.43288311]\n",
      "new_threshold = 602.4885526162394\n"
     ]
    },
    {
     "data": {
      "application/vnd.jupyter.widget-view+json": {
       "model_id": "e21a8db67aa748088ddb424d8ca05a8a",
       "version_major": 2,
       "version_minor": 0
      },
      "text/plain": [
       "HBox(children=(FloatProgress(value=1.0, bar_style='info', max=1.0), HTML(value='')))"
      ]
     },
     "metadata": {},
     "output_type": "display_data"
    },
    {
     "name": "stdout",
     "output_type": "stream",
     "text": [
      "\n",
      "new_skeleton = (72, 2, 3)\n"
     ]
    },
    {
     "data": {
      "application/vnd.jupyter.widget-view+json": {
       "model_id": "e26faebbafbe46dfbbc8d5260d40d186",
       "version_major": 2,
       "version_minor": 0
      },
      "text/plain": [
       "HBox(children=(FloatProgress(value=1.0, bar_style='info', max=1.0), HTML(value='')))"
      ]
     },
     "metadata": {},
     "output_type": "display_data"
    },
    {
     "name": "stdout",
     "output_type": "stream",
     "text": [
      "--> Not exactly one containing mesh: []\n",
      "\n",
      "filtered_measurements = [205.87416756 361.05188683 553.6238494  557.74319407 470.09256696\n",
      " 274.62564791 282.95518432 324.24049144 430.00952159 397.86932927\n",
      " 247.25784644 537.6843541  459.95418833 476.97400635 357.22969699\n",
      " 318.65732559 370.16269308 373.72987099 296.91181215 517.25822438\n",
      " 328.31155508 270.65775376 216.83715764 443.77273155 379.30060061\n",
      " 446.02284529 293.74787284 303.51094913 363.09277548 384.14016545\n",
      " 224.92064321 284.78285975 326.2291361  299.32429861 284.01783085\n",
      " 328.53581984 424.62201152 354.44675711 291.2963884  310.36343633\n",
      " 498.78349925 303.22549677 214.1799037  403.18206622 185.32193237\n",
      " 199.67181195 458.94989586 424.40792532 293.00686193 252.36277381\n",
      " 377.28112341 267.69939125 232.33553877 384.51920083 185.2212298\n",
      " 377.76114313 531.65158521 453.23651779 491.43681308 190.30292318]\n",
      "new_threshold = 1338.6972360036416\n"
     ]
    },
    {
     "data": {
      "application/vnd.jupyter.widget-view+json": {
       "model_id": "988abf073d1849ae94c206ecd726bc84",
       "version_major": 2,
       "version_minor": 0
      },
      "text/plain": [
       "HBox(children=(FloatProgress(value=1.0, bar_style='info', max=1.0), HTML(value='')))"
      ]
     },
     "metadata": {},
     "output_type": "display_data"
    },
    {
     "name": "stdout",
     "output_type": "stream",
     "text": [
      "--> Not exactly one containing mesh: []\n",
      "\n",
      "new_skeleton = (8, 2, 3)\n"
     ]
    },
    {
     "data": {
      "application/vnd.jupyter.widget-view+json": {
       "model_id": "183e127bdac74470abee47f16bc0158c",
       "version_major": 2,
       "version_minor": 0
      },
      "text/plain": [
       "HBox(children=(FloatProgress(value=1.0, bar_style='info', max=1.0), HTML(value='')))"
      ]
     },
     "metadata": {},
     "output_type": "display_data"
    },
    {
     "name": "stdout",
     "output_type": "stream",
     "text": [
      "\n",
      "filtered_measurements = [479.55852853 598.81114306 376.2279958  357.26372827 428.38800925]\n",
      "new_threshold = 1159.7799033387364\n"
     ]
    },
    {
     "data": {
      "application/vnd.jupyter.widget-view+json": {
       "model_id": "e021fd8f7c84409389fc151d0ccfb747",
       "version_major": 2,
       "version_minor": 0
      },
      "text/plain": [
       "HBox(children=(FloatProgress(value=1.0, bar_style='info', max=1.0), HTML(value='')))"
      ]
     },
     "metadata": {},
     "output_type": "display_data"
    },
    {
     "name": "stdout",
     "output_type": "stream",
     "text": [
      "\n",
      "new_skeleton = (14, 2, 3)\n"
     ]
    },
    {
     "data": {
      "application/vnd.jupyter.widget-view+json": {
       "model_id": "f9844bb2dd424dfca7080751eaa52ed5",
       "version_major": 2,
       "version_minor": 0
      },
      "text/plain": [
       "HBox(children=(FloatProgress(value=1.0, bar_style='info', max=1.0), HTML(value='')))"
      ]
     },
     "metadata": {},
     "output_type": "display_data"
    },
    {
     "name": "stdout",
     "output_type": "stream",
     "text": [
      "\n",
      "filtered_measurements = [685.25929269 724.76221163 451.1475407  509.45558773 549.42038921\n",
      " 481.1854891  422.12207747 452.03698345 486.89019727 435.46956596\n",
      " 459.25668419]\n",
      "new_threshold = 1531.5479165755514\n"
     ]
    },
    {
     "data": {
      "application/vnd.jupyter.widget-view+json": {
       "model_id": "2179ba8dc925481783218465e494b621",
       "version_major": 2,
       "version_minor": 0
      },
      "text/plain": [
       "HBox(children=(FloatProgress(value=1.0, bar_style='info', max=1.0), HTML(value='')))"
      ]
     },
     "metadata": {},
     "output_type": "display_data"
    },
    {
     "name": "stdout",
     "output_type": "stream",
     "text": [
      "\n",
      "new_skeleton = (4, 2, 3)\n"
     ]
    },
    {
     "data": {
      "application/vnd.jupyter.widget-view+json": {
       "model_id": "d30038eaf54942e28c71627a02068584",
       "version_major": 2,
       "version_minor": 0
      },
      "text/plain": [
       "HBox(children=(FloatProgress(value=1.0, bar_style='info', max=1.0), HTML(value='')))"
      ]
     },
     "metadata": {},
     "output_type": "display_data"
    },
    {
     "name": "stdout",
     "output_type": "stream",
     "text": [
      "\n",
      "filtered_measurements = [697.44949391 585.70835155 655.92669236 787.19720262]\n",
      "new_threshold = 1256.2511477207397\n"
     ]
    },
    {
     "data": {
      "application/vnd.jupyter.widget-view+json": {
       "model_id": "9b4d56bff730448fb1d9e7eda7e5cf89",
       "version_major": 2,
       "version_minor": 0
      },
      "text/plain": [
       "HBox(children=(FloatProgress(value=1.0, bar_style='info', max=1.0), HTML(value='')))"
      ]
     },
     "metadata": {},
     "output_type": "display_data"
    },
    {
     "name": "stdout",
     "output_type": "stream",
     "text": [
      "\n",
      "new_skeleton = (9, 2, 3)\n"
     ]
    },
    {
     "data": {
      "application/vnd.jupyter.widget-view+json": {
       "model_id": "61821f13bc6641be951237ec84157d51",
       "version_major": 2,
       "version_minor": 0
      },
      "text/plain": [
       "HBox(children=(FloatProgress(value=1.0, bar_style='info', max=1.0), HTML(value='')))"
      ]
     },
     "metadata": {},
     "output_type": "display_data"
    },
    {
     "name": "stdout",
     "output_type": "stream",
     "text": [
      "\n",
      "filtered_measurements = [294.2544208  213.87509583 191.46834088 218.57362902 226.44355827]\n",
      "new_threshold = 493.6877441126321\n"
     ]
    },
    {
     "data": {
      "application/vnd.jupyter.widget-view+json": {
       "model_id": "7cabd8d1906f4f54abf709d273fa834b",
       "version_major": 2,
       "version_minor": 0
      },
      "text/plain": [
       "HBox(children=(FloatProgress(value=1.0, bar_style='info', max=1.0), HTML(value='')))"
      ]
     },
     "metadata": {},
     "output_type": "display_data"
    },
    {
     "name": "stdout",
     "output_type": "stream",
     "text": [
      "\n",
      "new_skeleton = (14, 2, 3)\n"
     ]
    },
    {
     "data": {
      "application/vnd.jupyter.widget-view+json": {
       "model_id": "b42468d6dd8942adbe60138a5a159280",
       "version_major": 2,
       "version_minor": 0
      },
      "text/plain": [
       "HBox(children=(FloatProgress(value=1.0, bar_style='info', max=1.0), HTML(value='')))"
      ]
     },
     "metadata": {},
     "output_type": "display_data"
    },
    {
     "name": "stdout",
     "output_type": "stream",
     "text": [
      "\n",
      "filtered_measurements = [688.27868444 720.08596919 758.59174236 775.87125819 863.25928093\n",
      " 993.22973035 803.33259638 656.26498406 723.60464489 804.61619848]\n",
      "new_threshold = 1919.9542637954683\n"
     ]
    },
    {
     "data": {
      "application/vnd.jupyter.widget-view+json": {
       "model_id": "dd1c21676f494151b7d2bdfbc3ae6bd1",
       "version_major": 2,
       "version_minor": 0
      },
      "text/plain": [
       "HBox(children=(FloatProgress(value=1.0, bar_style='info', max=1.0), HTML(value='')))"
      ]
     },
     "metadata": {},
     "output_type": "display_data"
    },
    {
     "name": "stdout",
     "output_type": "stream",
     "text": [
      "\n",
      "new_skeleton = (22, 2, 3)\n"
     ]
    },
    {
     "data": {
      "application/vnd.jupyter.widget-view+json": {
       "model_id": "bb23c614930340ccab436e6f39d21f83",
       "version_major": 2,
       "version_minor": 0
      },
      "text/plain": [
       "HBox(children=(FloatProgress(value=1.0, bar_style='info', max=1.0), HTML(value='')))"
      ]
     },
     "metadata": {},
     "output_type": "display_data"
    },
    {
     "name": "stdout",
     "output_type": "stream",
     "text": [
      "--> Not exactly one containing mesh: []\n",
      "--> Not exactly one containing mesh: []\n",
      "\n",
      "filtered_measurements = [150.44181688 129.11740551  70.76878153  67.05634189  81.47640746\n",
      "  76.16754772 138.79340368 161.41549599 100.82284767  89.19126813\n",
      " 136.11429362 101.40874054 138.69977043 104.95593914]\n",
      "new_threshold = 319.2736600318703\n"
     ]
    },
    {
     "data": {
      "application/vnd.jupyter.widget-view+json": {
       "model_id": "cc9b4675f302480f93760eeb601a40ac",
       "version_major": 2,
       "version_minor": 0
      },
      "text/plain": [
       "HBox(children=(FloatProgress(value=1.0, bar_style='info', max=1.0), HTML(value='')))"
      ]
     },
     "metadata": {},
     "output_type": "display_data"
    },
    {
     "name": "stdout",
     "output_type": "stream",
     "text": [
      "--> Not exactly one containing mesh: []\n",
      "--> Not exactly one containing mesh: []\n",
      "\n",
      "new_skeleton = (13, 2, 3)\n"
     ]
    },
    {
     "data": {
      "application/vnd.jupyter.widget-view+json": {
       "model_id": "565419909b294c46a23e3c86c9792f50",
       "version_major": 2,
       "version_minor": 0
      },
      "text/plain": [
       "HBox(children=(FloatProgress(value=1.0, bar_style='info', max=1.0), HTML(value='')))"
      ]
     },
     "metadata": {},
     "output_type": "display_data"
    },
    {
     "name": "stdout",
     "output_type": "stream",
     "text": [
      "\n",
      "filtered_measurements = [346.93978947 333.15068854 236.59615131 220.79354578 436.5868539\n",
      " 186.24321818 312.05769214 360.85174282 401.95849509 325.62503707]\n",
      "new_threshold = 1190.8339574099164\n"
     ]
    },
    {
     "data": {
      "application/vnd.jupyter.widget-view+json": {
       "model_id": "d548676eaa1e46938eb594f0f1100ab4",
       "version_major": 2,
       "version_minor": 0
      },
      "text/plain": [
       "HBox(children=(FloatProgress(value=1.0, bar_style='info', max=1.0), HTML(value='')))"
      ]
     },
     "metadata": {},
     "output_type": "display_data"
    },
    {
     "name": "stdout",
     "output_type": "stream",
     "text": [
      "\n",
      "new_skeleton = (7, 2, 3)\n"
     ]
    },
    {
     "data": {
      "application/vnd.jupyter.widget-view+json": {
       "model_id": "2951d0bbd1b4407c94fadd5a1eb25c17",
       "version_major": 2,
       "version_minor": 0
      },
      "text/plain": [
       "HBox(children=(FloatProgress(value=1.0, bar_style='info', max=1.0), HTML(value='')))"
      ]
     },
     "metadata": {},
     "output_type": "display_data"
    },
    {
     "name": "stdout",
     "output_type": "stream",
     "text": [
      "--> Not exactly one containing mesh: []\n",
      "\n",
      "filtered_measurements = [138.83544184 163.69521936  72.06768303  85.2981433 ]\n",
      "new_threshold = 371.85405441997796\n"
     ]
    },
    {
     "data": {
      "application/vnd.jupyter.widget-view+json": {
       "model_id": "97cab77cf5324349939205b906a143d6",
       "version_major": 2,
       "version_minor": 0
      },
      "text/plain": [
       "HBox(children=(FloatProgress(value=1.0, bar_style='info', max=1.0), HTML(value='')))"
      ]
     },
     "metadata": {},
     "output_type": "display_data"
    },
    {
     "name": "stdout",
     "output_type": "stream",
     "text": [
      "--> Not exactly one containing mesh: []\n",
      "--> Not exactly one containing mesh: []\n",
      "\n",
      "new_skeleton = (2, 2, 3)\n"
     ]
    },
    {
     "data": {
      "application/vnd.jupyter.widget-view+json": {
       "model_id": "5419aedeae934b96a7d62e309b91e049",
       "version_major": 2,
       "version_minor": 0
      },
      "text/plain": [
       "HBox(children=(FloatProgress(value=1.0, bar_style='info', max=1.0), HTML(value='')))"
      ]
     },
     "metadata": {},
     "output_type": "display_data"
    },
    {
     "name": "stdout",
     "output_type": "stream",
     "text": [
      "\n",
      "filtered_measurements = [427.90850088 298.16791854]\n",
      "new_threshold = 810.1029484959606\n"
     ]
    },
    {
     "data": {
      "application/vnd.jupyter.widget-view+json": {
       "model_id": "b54ac180a15040ca802ea7f23b13de56",
       "version_major": 2,
       "version_minor": 0
      },
      "text/plain": [
       "HBox(children=(FloatProgress(value=1.0, bar_style='info', max=1.0), HTML(value='')))"
      ]
     },
     "metadata": {},
     "output_type": "display_data"
    },
    {
     "name": "stdout",
     "output_type": "stream",
     "text": [
      "\n",
      "new_skeleton = (2, 2, 3)\n"
     ]
    },
    {
     "data": {
      "application/vnd.jupyter.widget-view+json": {
       "model_id": "b8e7165bcf96459dae9000734e745871",
       "version_major": 2,
       "version_minor": 0
      },
      "text/plain": [
       "HBox(children=(FloatProgress(value=1.0, bar_style='info', max=1.0), HTML(value='')))"
      ]
     },
     "metadata": {},
     "output_type": "display_data"
    },
    {
     "name": "stdout",
     "output_type": "stream",
     "text": [
      "--> Not exactly one containing mesh: [0 1]\n",
      "\n",
      "filtered_measurements = [448.20314126 497.21202503]\n",
      "new_threshold = 955.9660247853843\n"
     ]
    },
    {
     "data": {
      "application/vnd.jupyter.widget-view+json": {
       "model_id": "618de3d89e464479b995d75b93f0293c",
       "version_major": 2,
       "version_minor": 0
      },
      "text/plain": [
       "HBox(children=(FloatProgress(value=1.0, bar_style='info', max=1.0), HTML(value='')))"
      ]
     },
     "metadata": {},
     "output_type": "display_data"
    },
    {
     "name": "stdout",
     "output_type": "stream",
     "text": [
      "--> Not exactly one containing mesh: [0 1]\n",
      "\n",
      "new_skeleton = (37, 2, 3)\n"
     ]
    },
    {
     "data": {
      "application/vnd.jupyter.widget-view+json": {
       "model_id": "82395365f8214fc5bdf967ed1c12bb62",
       "version_major": 2,
       "version_minor": 0
      },
      "text/plain": [
       "HBox(children=(FloatProgress(value=1.0, bar_style='info', max=1.0), HTML(value='')))"
      ]
     },
     "metadata": {},
     "output_type": "display_data"
    },
    {
     "name": "stdout",
     "output_type": "stream",
     "text": [
      "\n",
      "filtered_measurements = [282.42074564 252.53482448 412.98031043 330.14945355 341.40473709\n",
      " 265.6952603  446.23123492 312.3393783  319.66336699 207.88990942\n",
      " 235.85415651 187.20183157 209.31886368 451.11791795 438.71329213\n",
      " 474.81369552 219.80307649 292.03449055 252.17184097 194.96110496\n",
      " 242.39099234 279.54811475 322.22147829 263.44033924 270.88604044\n",
      " 336.81836847]\n",
      "new_threshold = 1142.8860321320144\n"
     ]
    },
    {
     "data": {
      "application/vnd.jupyter.widget-view+json": {
       "model_id": "81eb27d41b6c49a4a66af3effe5862a7",
       "version_major": 2,
       "version_minor": 0
      },
      "text/plain": [
       "HBox(children=(FloatProgress(value=1.0, bar_style='info', max=1.0), HTML(value='')))"
      ]
     },
     "metadata": {},
     "output_type": "display_data"
    },
    {
     "name": "stdout",
     "output_type": "stream",
     "text": [
      "\n",
      "new_skeleton = (21, 2, 3)\n"
     ]
    },
    {
     "data": {
      "application/vnd.jupyter.widget-view+json": {
       "model_id": "ce64c40df82f419ca32c8c3cf6576268",
       "version_major": 2,
       "version_minor": 0
      },
      "text/plain": [
       "HBox(children=(FloatProgress(value=1.0, bar_style='info', max=1.0), HTML(value='')))"
      ]
     },
     "metadata": {},
     "output_type": "display_data"
    },
    {
     "name": "stdout",
     "output_type": "stream",
     "text": [
      "--> Not exactly one containing mesh: []\n",
      "--> Not exactly one containing mesh: []\n",
      "--> Not exactly one containing mesh: []\n",
      "\n",
      "filtered_measurements = [ 63.71342702 104.71707114 148.37235513  80.38508781  81.22768093\n",
      " 153.14139974 124.2392559  130.98244467  87.89844267  69.60481383\n",
      " 139.61662272 108.80927456  93.85342623]\n",
      "new_threshold = 315.5301752275535\n"
     ]
    },
    {
     "data": {
      "application/vnd.jupyter.widget-view+json": {
       "model_id": "24dd57e313624b2a9061a8e609392819",
       "version_major": 2,
       "version_minor": 0
      },
      "text/plain": [
       "HBox(children=(FloatProgress(value=1.0, bar_style='info', max=1.0), HTML(value='')))"
      ]
     },
     "metadata": {},
     "output_type": "display_data"
    },
    {
     "name": "stdout",
     "output_type": "stream",
     "text": [
      "--> Not exactly one containing mesh: []\n",
      "--> Not exactly one containing mesh: []\n",
      "--> Not exactly one containing mesh: []\n",
      "\n",
      "new_skeleton = (3, 2, 3)\n"
     ]
    },
    {
     "data": {
      "application/vnd.jupyter.widget-view+json": {
       "model_id": "8deea54661e34daabb5324f9aef0ce26",
       "version_major": 2,
       "version_minor": 0
      },
      "text/plain": [
       "HBox(children=(FloatProgress(value=1.0, bar_style='info', max=1.0), HTML(value='')))"
      ]
     },
     "metadata": {},
     "output_type": "display_data"
    },
    {
     "name": "stdout",
     "output_type": "stream",
     "text": [
      "\n",
      "filtered_measurements = [287.95419165 646.92208843 864.13172156]\n",
      "new_threshold = 1688.4884820288346\n"
     ]
    },
    {
     "data": {
      "application/vnd.jupyter.widget-view+json": {
       "model_id": "3f624f138c33411196d1a0762cecd89c",
       "version_major": 2,
       "version_minor": 0
      },
      "text/plain": [
       "HBox(children=(FloatProgress(value=1.0, bar_style='info', max=1.0), HTML(value='')))"
      ]
     },
     "metadata": {},
     "output_type": "display_data"
    },
    {
     "name": "stdout",
     "output_type": "stream",
     "text": [
      "\n",
      "new_skeleton = (35, 2, 3)\n"
     ]
    },
    {
     "data": {
      "application/vnd.jupyter.widget-view+json": {
       "model_id": "9d248ebac076407ca7ad91206bcd8661",
       "version_major": 2,
       "version_minor": 0
      },
      "text/plain": [
       "HBox(children=(FloatProgress(value=1.0, bar_style='info', max=1.0), HTML(value='')))"
      ]
     },
     "metadata": {},
     "output_type": "display_data"
    },
    {
     "name": "stdout",
     "output_type": "stream",
     "text": [
      "\n",
      "filtered_measurements = [380.98839289 267.13947935 459.94265972 195.02865562 153.31235416\n",
      " 267.0250019  404.30952565 217.89401802 323.30465698 345.39950905\n",
      " 357.89891669 266.22315181 199.6606498  239.09297655 288.77232555\n",
      " 251.36506362 297.03481296  85.99948368  84.90211226 157.4418205\n",
      " 214.8517421  196.05906945 356.38564439]\n",
      "new_threshold = 1062.2084155383789\n"
     ]
    },
    {
     "data": {
      "application/vnd.jupyter.widget-view+json": {
       "model_id": "801635c3e863475bb88b674de6a86116",
       "version_major": 2,
       "version_minor": 0
      },
      "text/plain": [
       "HBox(children=(FloatProgress(value=1.0, bar_style='info', max=1.0), HTML(value='')))"
      ]
     },
     "metadata": {},
     "output_type": "display_data"
    },
    {
     "name": "stdout",
     "output_type": "stream",
     "text": [
      "\n"
     ]
    },
    {
     "data": {
      "application/vnd.jupyter.widget-view+json": {
       "model_id": "e3341b23d72e4be19078af93baeed168",
       "version_major": 2,
       "version_minor": 0
      },
      "text/plain": [
       "HBox(children=(FloatProgress(value=1.0, bar_style='info', max=1.0), HTML(value='')))"
      ]
     },
     "metadata": {},
     "output_type": "display_data"
    },
    {
     "name": "stdout",
     "output_type": "stream",
     "text": [
      "\n",
      "filtered_measurements = [719.60833687]\n",
      "new_threshold = 1329.087216762301\n"
     ]
    },
    {
     "data": {
      "application/vnd.jupyter.widget-view+json": {
       "model_id": "9d88a174b8dc435cb385f9ea551b88f6",
       "version_major": 2,
       "version_minor": 0
      },
      "text/plain": [
       "HBox(children=(FloatProgress(value=1.0, bar_style='info', max=1.0), HTML(value='')))"
      ]
     },
     "metadata": {},
     "output_type": "display_data"
    },
    {
     "name": "stdout",
     "output_type": "stream",
     "text": [
      "\n",
      "new_skeleton = (2, 2, 3)\n"
     ]
    },
    {
     "data": {
      "application/vnd.jupyter.widget-view+json": {
       "model_id": "bb173c77e15e40cc97807428879edfc7",
       "version_major": 2,
       "version_minor": 0
      },
      "text/plain": [
       "HBox(children=(FloatProgress(value=1.0, bar_style='info', max=1.0), HTML(value='')))"
      ]
     },
     "metadata": {},
     "output_type": "display_data"
    },
    {
     "name": "stdout",
     "output_type": "stream",
     "text": [
      "\n",
      "filtered_measurements = [1423.34511926 1357.33957659]\n",
      "new_threshold = 3126.6111821103405\n"
     ]
    },
    {
     "data": {
      "application/vnd.jupyter.widget-view+json": {
       "model_id": "72b20b77616d4a939f83da1e90cf2ac1",
       "version_major": 2,
       "version_minor": 0
      },
      "text/plain": [
       "HBox(children=(FloatProgress(value=1.0, bar_style='info', max=1.0), HTML(value='')))"
      ]
     },
     "metadata": {},
     "output_type": "display_data"
    },
    {
     "name": "stdout",
     "output_type": "stream",
     "text": [
      "\n",
      "\n",
      "Working on limb #2\n"
     ]
    },
    {
     "data": {
      "application/vnd.jupyter.widget-view+json": {
       "model_id": "18c58d7312c943658c4d5b01ec433006",
       "version_major": 2,
       "version_minor": 0
      },
      "text/plain": [
       "HBox(children=(FloatProgress(value=1.0, bar_style='info', max=1.0), HTML(value='')))"
      ]
     },
     "metadata": {},
     "output_type": "display_data"
    },
    {
     "name": "stdout",
     "output_type": "stream",
     "text": [
      "new_skeleton = (34, 2, 3)\n"
     ]
    },
    {
     "data": {
      "application/vnd.jupyter.widget-view+json": {
       "model_id": "736b6f6146354c28a3349aa3f10a90bc",
       "version_major": 2,
       "version_minor": 0
      },
      "text/plain": [
       "HBox(children=(FloatProgress(value=1.0, bar_style='info', max=1.0), HTML(value='')))"
      ]
     },
     "metadata": {},
     "output_type": "display_data"
    },
    {
     "name": "stdout",
     "output_type": "stream",
     "text": [
      "\n",
      "filtered_measurements = [877.98896319 789.68141578 729.83774573 709.68547556 737.0925839\n",
      " 791.77832167 794.57499469 793.25361791 838.96300369 841.93260463\n",
      " 783.45122647 719.92289777 726.1022157  760.29280324 785.44107813\n",
      " 735.77143306 740.46529809 971.17646221 758.23340103 747.61476153\n",
      " 756.80214848 756.90442719 745.35157832 796.95040389 993.96949529\n",
      " 972.22306435]\n",
      "new_threshold = 1804.823344221922\n"
     ]
    },
    {
     "data": {
      "application/vnd.jupyter.widget-view+json": {
       "model_id": "e1b41b22fa0f4a458bac18d3875b0cb6",
       "version_major": 2,
       "version_minor": 0
      },
      "text/plain": [
       "HBox(children=(FloatProgress(value=1.0, bar_style='info', max=1.0), HTML(value='')))"
      ]
     },
     "metadata": {},
     "output_type": "display_data"
    },
    {
     "name": "stdout",
     "output_type": "stream",
     "text": [
      "\n",
      "new_skeleton = (16, 2, 3)\n"
     ]
    },
    {
     "data": {
      "application/vnd.jupyter.widget-view+json": {
       "model_id": "56e9895b52334530b346264419d0521d",
       "version_major": 2,
       "version_minor": 0
      },
      "text/plain": [
       "HBox(children=(FloatProgress(value=1.0, bar_style='info', max=1.0), HTML(value='')))"
      ]
     },
     "metadata": {},
     "output_type": "display_data"
    },
    {
     "name": "stdout",
     "output_type": "stream",
     "text": [
      "\n",
      "filtered_measurements = [661.37997135 610.0227722  543.35912146 552.35832558 616.75037637\n",
      " 547.12374569 860.42423315 642.33251239 729.12362347 721.44617214\n",
      " 750.7334028  847.04674624 951.6959829  657.33286836]\n",
      "new_threshold = 2219.3595975537078\n"
     ]
    },
    {
     "data": {
      "application/vnd.jupyter.widget-view+json": {
       "model_id": "3c5a9056bf9742389e2ecac1b2693a1d",
       "version_major": 2,
       "version_minor": 0
      },
      "text/plain": [
       "HBox(children=(FloatProgress(value=1.0, bar_style='info', max=1.0), HTML(value='')))"
      ]
     },
     "metadata": {},
     "output_type": "display_data"
    },
    {
     "name": "stdout",
     "output_type": "stream",
     "text": [
      "\n",
      "new_skeleton = (33, 2, 3)\n"
     ]
    },
    {
     "data": {
      "application/vnd.jupyter.widget-view+json": {
       "model_id": "f064d044c5344a939baeefe8eba1cdad",
       "version_major": 2,
       "version_minor": 0
      },
      "text/plain": [
       "HBox(children=(FloatProgress(value=1.0, bar_style='info', max=1.0), HTML(value='')))"
      ]
     },
     "metadata": {},
     "output_type": "display_data"
    },
    {
     "name": "stdout",
     "output_type": "stream",
     "text": [
      "\n",
      "filtered_measurements = [448.04538465 648.07953929 556.49478864 469.09069435 590.45311344\n",
      " 809.99010852 508.94804331 507.01473854 408.68352474 377.76113421\n",
      " 581.74431641 398.37190652 479.28602295 788.93651839 526.06573627\n",
      " 533.08004971 690.15607909 799.86993751 526.18698969 464.68275303\n",
      " 658.45195828 653.71994094 482.94092027 611.02820385 482.97392316\n",
      " 584.46991056 562.62460506 561.45017327]\n",
      "new_threshold = 1739.6846440502072\n"
     ]
    },
    {
     "data": {
      "application/vnd.jupyter.widget-view+json": {
       "model_id": "c7a26293aa1c42649bb54896f23bd63b",
       "version_major": 2,
       "version_minor": 0
      },
      "text/plain": [
       "HBox(children=(FloatProgress(value=1.0, bar_style='info', max=1.0), HTML(value='')))"
      ]
     },
     "metadata": {},
     "output_type": "display_data"
    },
    {
     "name": "stdout",
     "output_type": "stream",
     "text": [
      "\n",
      "new_skeleton = (21, 2, 3)\n"
     ]
    },
    {
     "data": {
      "application/vnd.jupyter.widget-view+json": {
       "model_id": "8a7feb64a45642dcabb2d95010574198",
       "version_major": 2,
       "version_minor": 0
      },
      "text/plain": [
       "HBox(children=(FloatProgress(value=1.0, bar_style='info', max=1.0), HTML(value='')))"
      ]
     },
     "metadata": {},
     "output_type": "display_data"
    },
    {
     "name": "stdout",
     "output_type": "stream",
     "text": [
      "--> Not exactly one containing mesh: []\n",
      "--> Not exactly one containing mesh: [0 1]\n",
      "\n",
      "filtered_measurements = [113.76942945  77.66243884  98.13112147  87.32866672 130.71055483\n",
      "  77.24152215 125.94174001  99.08943669 123.82407202  72.03652608\n",
      "  89.06073221 102.84417868  81.27124273  84.41952696  94.28845268]\n",
      "new_threshold = 284.29730222251305\n"
     ]
    },
    {
     "data": {
      "application/vnd.jupyter.widget-view+json": {
       "model_id": "eb6c0ea0f6f946f7a9ab47c4e239cb8c",
       "version_major": 2,
       "version_minor": 0
      },
      "text/plain": [
       "HBox(children=(FloatProgress(value=1.0, bar_style='info', max=1.0), HTML(value='')))"
      ]
     },
     "metadata": {},
     "output_type": "display_data"
    },
    {
     "name": "stdout",
     "output_type": "stream",
     "text": [
      "--> Not exactly one containing mesh: []\n",
      "--> Not exactly one containing mesh: []\n",
      "\n",
      "new_skeleton = (32, 2, 3)\n"
     ]
    },
    {
     "data": {
      "application/vnd.jupyter.widget-view+json": {
       "model_id": "a855395888e5443a9f9de1e3e9b4a94d",
       "version_major": 2,
       "version_minor": 0
      },
      "text/plain": [
       "HBox(children=(FloatProgress(value=1.0, bar_style='info', max=1.0), HTML(value='')))"
      ]
     },
     "metadata": {},
     "output_type": "display_data"
    },
    {
     "name": "stdout",
     "output_type": "stream",
     "text": [
      "--> Not exactly one containing mesh: []\n",
      "--> Not exactly one containing mesh: []\n",
      "--> Not exactly one containing mesh: []\n",
      "--> Not exactly one containing mesh: []\n",
      "\n",
      "filtered_measurements = [ 92.98987975  81.47270536  87.18245525  67.29560915 127.10310388\n",
      "  75.28070154  89.64351173  77.61266675 122.332966   120.86699238\n",
      "  71.31523783 100.17668016  89.84896618 127.43429936  97.83704499\n",
      "  90.38360098  92.00864045  98.63073765 145.7285693  146.97017023\n",
      " 110.53316392 114.52709634 115.09856104  86.02753972  67.71025831]\n",
      "new_threshold = 298.5926390919252\n"
     ]
    },
    {
     "data": {
      "application/vnd.jupyter.widget-view+json": {
       "model_id": "742ee839b93f4ca9a6a6106a1e132aa7",
       "version_major": 2,
       "version_minor": 0
      },
      "text/plain": [
       "HBox(children=(FloatProgress(value=1.0, bar_style='info', max=1.0), HTML(value='')))"
      ]
     },
     "metadata": {},
     "output_type": "display_data"
    },
    {
     "name": "stdout",
     "output_type": "stream",
     "text": [
      "--> Not exactly one containing mesh: []\n",
      "--> Not exactly one containing mesh: []\n",
      "--> Not exactly one containing mesh: []\n",
      "--> Not exactly one containing mesh: []\n",
      "--> Not exactly one containing mesh: []\n",
      "--> Not exactly one containing mesh: []\n",
      "\n",
      "new_skeleton = (41, 2, 3)\n"
     ]
    },
    {
     "data": {
      "application/vnd.jupyter.widget-view+json": {
       "model_id": "914828e178cc4c82aaa00b523d1a9399",
       "version_major": 2,
       "version_minor": 0
      },
      "text/plain": [
       "HBox(children=(FloatProgress(value=1.0, bar_style='info', max=1.0), HTML(value='')))"
      ]
     },
     "metadata": {},
     "output_type": "display_data"
    },
    {
     "name": "stdout",
     "output_type": "stream",
     "text": [
      "\n",
      "filtered_measurements = [383.34081165 315.94468985 311.71694842 336.47335759 368.63217407\n",
      " 349.76916244 494.18615481 305.14389428 312.45711462 381.99283374\n",
      " 349.19240622 299.25743585 295.7581707  424.17960429 264.51086309\n",
      " 404.71849493 306.23012528 388.94196588 239.45454859 229.54591732\n",
      " 405.68421321 355.10169985 450.91860184 366.4980573  520.66105783\n",
      " 244.04995339 262.0986946  253.38729928 387.28837409 278.63403739\n",
      " 479.93900413]\n",
      "new_threshold = 1208.3887989921227\n"
     ]
    },
    {
     "data": {
      "application/vnd.jupyter.widget-view+json": {
       "model_id": "feacb1e3ae604738967a0dd8be5f0f16",
       "version_major": 2,
       "version_minor": 0
      },
      "text/plain": [
       "HBox(children=(FloatProgress(value=1.0, bar_style='info', max=1.0), HTML(value='')))"
      ]
     },
     "metadata": {},
     "output_type": "display_data"
    },
    {
     "name": "stdout",
     "output_type": "stream",
     "text": [
      "\n",
      "new_skeleton = (3, 2, 3)\n"
     ]
    },
    {
     "data": {
      "application/vnd.jupyter.widget-view+json": {
       "model_id": "a0e43cc2761948f09f3a9d5efdc9b5f6",
       "version_major": 2,
       "version_minor": 0
      },
      "text/plain": [
       "HBox(children=(FloatProgress(value=1.0, bar_style='info', max=1.0), HTML(value='')))"
      ]
     },
     "metadata": {},
     "output_type": "display_data"
    },
    {
     "name": "stdout",
     "output_type": "stream",
     "text": [
      "\n",
      "filtered_measurements = [1128.38160765  862.83687328  796.8845866 ]\n",
      "new_threshold = 2503.755568794674\n"
     ]
    },
    {
     "data": {
      "application/vnd.jupyter.widget-view+json": {
       "model_id": "1e70a80d2d8c4263aaebb75eacfcea78",
       "version_major": 2,
       "version_minor": 0
      },
      "text/plain": [
       "HBox(children=(FloatProgress(value=1.0, bar_style='info', max=1.0), HTML(value='')))"
      ]
     },
     "metadata": {},
     "output_type": "display_data"
    },
    {
     "name": "stdout",
     "output_type": "stream",
     "text": [
      "\n",
      "new_skeleton = (2, 2, 3)\n"
     ]
    },
    {
     "data": {
      "application/vnd.jupyter.widget-view+json": {
       "model_id": "fea95e8b98a44eb297ca039c779f5765",
       "version_major": 2,
       "version_minor": 0
      },
      "text/plain": [
       "HBox(children=(FloatProgress(value=1.0, bar_style='info', max=1.0), HTML(value='')))"
      ]
     },
     "metadata": {},
     "output_type": "display_data"
    },
    {
     "name": "stdout",
     "output_type": "stream",
     "text": [
      "\n",
      "filtered_measurements = [833.39185634 987.9154211 ]\n",
      "new_threshold = 2350.2499234212323\n"
     ]
    },
    {
     "data": {
      "application/vnd.jupyter.widget-view+json": {
       "model_id": "fd733a903364488c8aff681695355352",
       "version_major": 2,
       "version_minor": 0
      },
      "text/plain": [
       "HBox(children=(FloatProgress(value=1.0, bar_style='info', max=1.0), HTML(value='')))"
      ]
     },
     "metadata": {},
     "output_type": "display_data"
    },
    {
     "name": "stdout",
     "output_type": "stream",
     "text": [
      "\n",
      "new_skeleton = (16, 2, 3)\n"
     ]
    },
    {
     "data": {
      "application/vnd.jupyter.widget-view+json": {
       "model_id": "6b3750de2078450094b03e9b3c04cb94",
       "version_major": 2,
       "version_minor": 0
      },
      "text/plain": [
       "HBox(children=(FloatProgress(value=1.0, bar_style='info', max=1.0), HTML(value='')))"
      ]
     },
     "metadata": {},
     "output_type": "display_data"
    },
    {
     "name": "stdout",
     "output_type": "stream",
     "text": [
      "\n",
      "filtered_measurements = [647.23578777 615.15335081 850.12332294 414.41070389 409.08936747\n",
      " 427.48971173 437.27103383 664.42842283 813.77620559 676.78472179\n",
      " 496.71494719 565.77050356]\n",
      "new_threshold = 1978.661642356772\n"
     ]
    },
    {
     "data": {
      "application/vnd.jupyter.widget-view+json": {
       "model_id": "17bab06b942d4e6e8463a0639b6b6ba9",
       "version_major": 2,
       "version_minor": 0
      },
      "text/plain": [
       "HBox(children=(FloatProgress(value=1.0, bar_style='info', max=1.0), HTML(value='')))"
      ]
     },
     "metadata": {},
     "output_type": "display_data"
    },
    {
     "name": "stdout",
     "output_type": "stream",
     "text": [
      "\n",
      "new_skeleton = (33, 2, 3)\n"
     ]
    },
    {
     "data": {
      "application/vnd.jupyter.widget-view+json": {
       "model_id": "559bb4de6dc2424fbb9be191d9c60e48",
       "version_major": 2,
       "version_minor": 0
      },
      "text/plain": [
       "HBox(children=(FloatProgress(value=1.0, bar_style='info', max=1.0), HTML(value='')))"
      ]
     },
     "metadata": {},
     "output_type": "display_data"
    },
    {
     "name": "stdout",
     "output_type": "stream",
     "text": [
      "\n",
      "filtered_measurements = [168.41793582 149.81004205 110.44682306 128.42600865  84.92846489\n",
      " 110.85957632 102.0153383   94.83340544 149.68359984 103.41338088\n",
      " 117.86112928 180.22440003 110.48361021 124.83277879 156.22828919\n",
      "  86.51429973  96.79439457 102.83400238 103.48874745  68.75440151\n",
      "  97.96874167 133.92734861 185.92302513  77.86157184]\n",
      "new_threshold = 438.7404215520396\n"
     ]
    },
    {
     "data": {
      "application/vnd.jupyter.widget-view+json": {
       "model_id": "e00634433e3f4fd1ba662fe87244c882",
       "version_major": 2,
       "version_minor": 0
      },
      "text/plain": [
       "HBox(children=(FloatProgress(value=1.0, bar_style='info', max=1.0), HTML(value='')))"
      ]
     },
     "metadata": {},
     "output_type": "display_data"
    },
    {
     "name": "stdout",
     "output_type": "stream",
     "text": [
      "--> Not exactly one containing mesh: []\n",
      "\n",
      "new_skeleton = (26, 2, 3)\n"
     ]
    },
    {
     "data": {
      "application/vnd.jupyter.widget-view+json": {
       "model_id": "7dc0d21604454d578400c2c4b8b23281",
       "version_major": 2,
       "version_minor": 0
      },
      "text/plain": [
       "HBox(children=(FloatProgress(value=1.0, bar_style='info', max=1.0), HTML(value='')))"
      ]
     },
     "metadata": {},
     "output_type": "display_data"
    },
    {
     "name": "stdout",
     "output_type": "stream",
     "text": [
      "\n",
      "filtered_measurements = [435.35761697 355.47502654 287.37780076 460.53448065 416.28020458\n",
      " 562.89511782 295.19644854 321.68942783 288.37765829 754.51589497\n",
      " 486.39442907 624.04242659 366.60754508 754.24799293 481.70086342\n",
      " 582.02614839 771.97817459 315.17961254]\n",
      "new_threshold = 1939.4428014636342\n"
     ]
    },
    {
     "data": {
      "application/vnd.jupyter.widget-view+json": {
       "model_id": "064bbe0285fa40f0bfdb1af0de8b1838",
       "version_major": 2,
       "version_minor": 0
      },
      "text/plain": [
       "HBox(children=(FloatProgress(value=1.0, bar_style='info', max=1.0), HTML(value='')))"
      ]
     },
     "metadata": {},
     "output_type": "display_data"
    },
    {
     "name": "stdout",
     "output_type": "stream",
     "text": [
      "\n",
      "new_skeleton = (65, 2, 3)\n"
     ]
    },
    {
     "data": {
      "application/vnd.jupyter.widget-view+json": {
       "model_id": "e295de71ffef4e959ea22e81bd2c57ca",
       "version_major": 2,
       "version_minor": 0
      },
      "text/plain": [
       "HBox(children=(FloatProgress(value=1.0, bar_style='info', max=1.0), HTML(value='')))"
      ]
     },
     "metadata": {},
     "output_type": "display_data"
    },
    {
     "name": "stdout",
     "output_type": "stream",
     "text": [
      "\n",
      "filtered_measurements = [488.43425476 532.02442141 436.28156657 494.67430217 428.28835863\n",
      " 386.30307266 478.76221621 336.84974774 577.98577886 401.32611841\n",
      " 424.54590961 442.03443362 437.19310619 332.93049262 476.1320789\n",
      " 396.86941655 414.7151141  310.55647462 423.60839606 379.22550346\n",
      " 469.23659897 505.49257219 433.15501419 442.98699417 379.09356918\n",
      " 357.95047064 427.59392436 535.58650904 558.87658382 519.43396355\n",
      " 536.37507653 410.58526462 442.94024489 423.12942789 309.54542576\n",
      " 292.65020145 343.94781795 332.82073148 395.86680815 307.53794778\n",
      " 304.41510551 457.11726724 310.91244113 475.17427687 388.19376171\n",
      " 367.4365912  280.94707499 459.22481161 330.73738067 419.92697403\n",
      " 363.20397034 344.43568674]\n",
      "new_threshold = 1277.4098288123082\n"
     ]
    },
    {
     "data": {
      "application/vnd.jupyter.widget-view+json": {
       "model_id": "3f77ca358f524670920a55f4fa1b09e1",
       "version_major": 2,
       "version_minor": 0
      },
      "text/plain": [
       "HBox(children=(FloatProgress(value=1.0, bar_style='info', max=1.0), HTML(value='')))"
      ]
     },
     "metadata": {},
     "output_type": "display_data"
    },
    {
     "name": "stdout",
     "output_type": "stream",
     "text": [
      "\n",
      "new_skeleton = (48, 2, 3)\n"
     ]
    },
    {
     "data": {
      "application/vnd.jupyter.widget-view+json": {
       "model_id": "a48b28c8d4364d58b833a7b57b199cde",
       "version_major": 2,
       "version_minor": 0
      },
      "text/plain": [
       "HBox(children=(FloatProgress(value=1.0, bar_style='info', max=1.0), HTML(value='')))"
      ]
     },
     "metadata": {},
     "output_type": "display_data"
    },
    {
     "name": "stdout",
     "output_type": "stream",
     "text": [
      "\n",
      "filtered_measurements = [ 78.71445913 141.03746739 148.65215739  84.54616288  88.24904475\n",
      "  66.37529537  95.56019937  82.69679896 100.92417136 109.86565498\n",
      " 123.98799867  81.83196113  73.9150367  131.83881114 111.57526545\n",
      "  74.25998194  91.93784531  90.39778146  72.27682401 100.93416477\n",
      " 102.09506442 100.6207145   89.79703923  74.94303325 123.29706225\n",
      "  98.82761008 100.69555204 108.28799518 135.05342181 120.01475222\n",
      " 155.40459487 105.25284794  65.65419143 117.09980101]\n",
      "new_threshold = 356.44125890807265\n"
     ]
    },
    {
     "data": {
      "application/vnd.jupyter.widget-view+json": {
       "model_id": "3c4b2896ee424895b7e4e85efa0ff9ea",
       "version_major": 2,
       "version_minor": 0
      },
      "text/plain": [
       "HBox(children=(FloatProgress(value=1.0, bar_style='info', max=1.0), HTML(value='')))"
      ]
     },
     "metadata": {},
     "output_type": "display_data"
    },
    {
     "name": "stdout",
     "output_type": "stream",
     "text": [
      "--> Not exactly one containing mesh: []\n",
      "\n",
      "new_skeleton = (6, 2, 3)\n"
     ]
    },
    {
     "data": {
      "application/vnd.jupyter.widget-view+json": {
       "model_id": "e2eae6547b8744658c7c725a7eaddee3",
       "version_major": 2,
       "version_minor": 0
      },
      "text/plain": [
       "HBox(children=(FloatProgress(value=1.0, bar_style='info', max=1.0), HTML(value='')))"
      ]
     },
     "metadata": {},
     "output_type": "display_data"
    },
    {
     "name": "stdout",
     "output_type": "stream",
     "text": [
      "--> Not exactly one containing mesh: [0 1]\n",
      "\n",
      "filtered_measurements = [ 86.38057723 100.09219088 180.03866752]\n",
      "new_threshold = 342.9727934320588\n"
     ]
    },
    {
     "data": {
      "application/vnd.jupyter.widget-view+json": {
       "model_id": "ac00ac9422044bce96e9c80711889deb",
       "version_major": 2,
       "version_minor": 0
      },
      "text/plain": [
       "HBox(children=(FloatProgress(value=1.0, bar_style='info', max=1.0), HTML(value='')))"
      ]
     },
     "metadata": {},
     "output_type": "display_data"
    },
    {
     "name": "stdout",
     "output_type": "stream",
     "text": [
      "\n",
      "new_skeleton = (65, 2, 3)\n"
     ]
    },
    {
     "data": {
      "application/vnd.jupyter.widget-view+json": {
       "model_id": "876c0f4997bc4f2cb3e4bc9de2d8756c",
       "version_major": 2,
       "version_minor": 0
      },
      "text/plain": [
       "HBox(children=(FloatProgress(value=1.0, bar_style='info', max=1.0), HTML(value='')))"
      ]
     },
     "metadata": {},
     "output_type": "display_data"
    },
    {
     "name": "stdout",
     "output_type": "stream",
     "text": [
      "\n",
      "filtered_measurements = [651.62752811 741.09235199 498.89482363 743.47913922 445.33524478\n",
      " 689.75187732 652.05854879 518.9736453  578.72701616 686.56855314\n",
      " 501.58393114 727.46763752 881.62976184 580.87592539 479.85260542\n",
      " 610.69694082 933.83676388 392.35967595 361.92545926 467.53987872\n",
      " 891.58553233 391.99874498 433.40201562 580.41205596 945.9568641\n",
      " 856.86653233 969.67889293 553.3304614  561.70711109 607.9948178\n",
      " 603.83254073 857.95954377 671.04662249 621.63139547 697.18085085\n",
      " 401.42496187 363.9900122  753.68559798 490.30961106 718.75124248\n",
      " 791.03114094 972.77256421 559.05735539 563.90886625 756.75433991\n",
      " 425.91722143 377.61794203 765.38826817 508.04349402 682.14015135\n",
      " 433.26841676 706.15622836 389.82521729 444.09936948 769.08616891\n",
      " 908.92259146 493.8749956 ]\n",
      "new_threshold = 2467.6621321430966\n"
     ]
    },
    {
     "data": {
      "application/vnd.jupyter.widget-view+json": {
       "model_id": "696321bdd6fa4afba3f424e94511f698",
       "version_major": 2,
       "version_minor": 0
      },
      "text/plain": [
       "HBox(children=(FloatProgress(value=1.0, bar_style='info', max=1.0), HTML(value='')))"
      ]
     },
     "metadata": {},
     "output_type": "display_data"
    },
    {
     "name": "stdout",
     "output_type": "stream",
     "text": [
      "\n",
      "new_skeleton = (11, 2, 3)\n"
     ]
    },
    {
     "data": {
      "application/vnd.jupyter.widget-view+json": {
       "model_id": "12ee98057d044a4f8eba5c82d063151f",
       "version_major": 2,
       "version_minor": 0
      },
      "text/plain": [
       "HBox(children=(FloatProgress(value=1.0, bar_style='info', max=1.0), HTML(value='')))"
      ]
     },
     "metadata": {},
     "output_type": "display_data"
    },
    {
     "name": "stdout",
     "output_type": "stream",
     "text": [
      "--> Not exactly one containing mesh: []\n",
      "\n",
      "filtered_measurements = [ 78.79726212  62.92677038  92.71485041  87.64609383 111.69801035\n",
      "  93.16944314  68.13954848]\n",
      "new_threshold = 200.04637283109133\n"
     ]
    },
    {
     "data": {
      "application/vnd.jupyter.widget-view+json": {
       "model_id": "18fd68295bdc44359f0c120ec64fe4fe",
       "version_major": 2,
       "version_minor": 0
      },
      "text/plain": [
       "HBox(children=(FloatProgress(value=1.0, bar_style='info', max=1.0), HTML(value='')))"
      ]
     },
     "metadata": {},
     "output_type": "display_data"
    },
    {
     "name": "stdout",
     "output_type": "stream",
     "text": [
      "THERE WERE NO FACES THAT FIT THE DISTANCE (200.04637283109133) and Z transform requirements\n",
      "So just skipping this edge\n",
      "THERE WERE NO FACES THAT FIT THE DISTANCE (200.04637283109133) and Z transform requirements\n",
      "So just skipping this edge\n",
      "THERE WERE NO FACES THAT FIT THE DISTANCE (200.04637283109133) and Z transform requirements\n",
      "So just skipping this edge\n",
      "THERE WERE NO FACES THAT FIT THE DISTANCE (200.04637283109133) and Z transform requirements\n",
      "So just skipping this edge\n",
      "THERE WERE NO FACES THAT FIT THE DISTANCE (200.04637283109133) and Z transform requirements\n",
      "So just skipping this edge\n",
      "THERE WERE NO FACES THAT FIT THE DISTANCE (200.04637283109133) and Z transform requirements\n",
      "So just skipping this edge\n",
      "THERE WERE NO FACES THAT FIT THE DISTANCE (200.04637283109133) and Z transform requirements\n",
      "So just skipping this edge\n",
      "THERE WERE NO FACES THAT FIT THE DISTANCE (200.04637283109133) and Z transform requirements\n",
      "So just skipping this edge\n",
      "THERE WERE NO FACES THAT FIT THE DISTANCE (200.04637283109133) and Z transform requirements\n",
      "So just skipping this edge\n",
      "--> Not exactly one containing mesh: []\n",
      "--> Not exactly one containing mesh: []\n",
      "\n",
      "new_skeleton = (5, 2, 3)\n"
     ]
    },
    {
     "data": {
      "application/vnd.jupyter.widget-view+json": {
       "model_id": "53c8eec9460b47dc86d7808f4ecaf06f",
       "version_major": 2,
       "version_minor": 0
      },
      "text/plain": [
       "HBox(children=(FloatProgress(value=1.0, bar_style='info', max=1.0), HTML(value='')))"
      ]
     },
     "metadata": {},
     "output_type": "display_data"
    },
    {
     "name": "stdout",
     "output_type": "stream",
     "text": [
      "\n",
      "filtered_measurements = [489.78741934 779.48432806 625.17621764]\n",
      "new_threshold = 1833.1916018422717\n"
     ]
    },
    {
     "data": {
      "application/vnd.jupyter.widget-view+json": {
       "model_id": "105e8b88f318458b9e5a44e31f71b9e3",
       "version_major": 2,
       "version_minor": 0
      },
      "text/plain": [
       "HBox(children=(FloatProgress(value=1.0, bar_style='info', max=1.0), HTML(value='')))"
      ]
     },
     "metadata": {},
     "output_type": "display_data"
    },
    {
     "name": "stdout",
     "output_type": "stream",
     "text": [
      "\n",
      "new_skeleton = (15, 2, 3)\n"
     ]
    },
    {
     "data": {
      "application/vnd.jupyter.widget-view+json": {
       "model_id": "619a6d8f7ebc45dd9ee3f232bbecb734",
       "version_major": 2,
       "version_minor": 0
      },
      "text/plain": [
       "HBox(children=(FloatProgress(value=1.0, bar_style='info', max=1.0), HTML(value='')))"
      ]
     },
     "metadata": {},
     "output_type": "display_data"
    },
    {
     "name": "stdout",
     "output_type": "stream",
     "text": [
      "--> Not exactly one containing mesh: []\n",
      "\n",
      "filtered_measurements = [135.47454558  80.58812456  86.26557528 111.14355673  84.25996011\n",
      " 101.77278453  99.28050064 100.06900851 111.92378577  98.59136572\n",
      "  83.67959686]\n",
      "new_threshold = 239.76312741369253\n"
     ]
    },
    {
     "data": {
      "application/vnd.jupyter.widget-view+json": {
       "model_id": "1e2498f440b74c93b8cf3575532a0de2",
       "version_major": 2,
       "version_minor": 0
      },
      "text/plain": [
       "HBox(children=(FloatProgress(value=1.0, bar_style='info', max=1.0), HTML(value='')))"
      ]
     },
     "metadata": {},
     "output_type": "display_data"
    },
    {
     "name": "stdout",
     "output_type": "stream",
     "text": [
      "--> Not exactly one containing mesh: []\n",
      "--> Not exactly one containing mesh: []\n",
      "\n",
      "new_skeleton = (63, 2, 3)\n"
     ]
    },
    {
     "data": {
      "application/vnd.jupyter.widget-view+json": {
       "model_id": "39054a71d2494b11880d54a1f1f3ad75",
       "version_major": 2,
       "version_minor": 0
      },
      "text/plain": [
       "HBox(children=(FloatProgress(value=1.0, bar_style='info', max=1.0), HTML(value='')))"
      ]
     },
     "metadata": {},
     "output_type": "display_data"
    },
    {
     "name": "stdout",
     "output_type": "stream",
     "text": [
      "\n",
      "filtered_measurements = [160.13418542 205.69246529 185.39056758 167.47249283 180.12746266\n",
      " 275.51703454 307.01002737 237.95039673 321.14130179 243.12775278\n",
      " 240.42450011 239.96692178 262.38345085 213.09453633 195.46932395\n",
      " 255.40951324 249.87705519 266.95696142 292.04216045 359.06996403\n",
      " 299.82839561 340.81779568 363.4271698  248.23521425 239.48771792\n",
      " 240.36002036 203.20133957 213.1856112  257.415433   248.3272669\n",
      " 197.95628107 205.07139442 217.00340581 187.23432235 204.61403821\n",
      " 178.98432467 197.42412666 194.16386614 172.41406416 197.58243009\n",
      " 207.37781831 242.72996341 226.59839217 223.93162267 242.88575919\n",
      " 194.66437223 202.08707884 251.22384993 235.59591243 251.10114987\n",
      " 356.6702392 ]\n",
      "new_threshold = 689.9988799060617\n"
     ]
    },
    {
     "data": {
      "application/vnd.jupyter.widget-view+json": {
       "model_id": "79076d6425cf4496acb0558bc0198710",
       "version_major": 2,
       "version_minor": 0
      },
      "text/plain": [
       "HBox(children=(FloatProgress(value=1.0, bar_style='info', max=1.0), HTML(value='')))"
      ]
     },
     "metadata": {},
     "output_type": "display_data"
    },
    {
     "name": "stdout",
     "output_type": "stream",
     "text": [
      "\n",
      "new_skeleton = (47, 2, 3)\n"
     ]
    },
    {
     "data": {
      "application/vnd.jupyter.widget-view+json": {
       "model_id": "7e5b694964b440b3a3152aab19aef645",
       "version_major": 2,
       "version_minor": 0
      },
      "text/plain": [
       "HBox(children=(FloatProgress(value=1.0, bar_style='info', max=1.0), HTML(value='')))"
      ]
     },
     "metadata": {},
     "output_type": "display_data"
    },
    {
     "name": "stdout",
     "output_type": "stream",
     "text": [
      "--> Not exactly one containing mesh: [0 2]\n",
      "--> Not exactly one containing mesh: []\n",
      "\n",
      "filtered_measurements = [ 82.8916228   82.08593423  87.34127299 106.08342594  93.48811996\n",
      "  94.95135447 108.33406635 122.41714719 125.43200991 111.0859107\n",
      " 105.55014694  99.87580343 108.12428013 107.82317733  99.35883369\n",
      "  80.82479131  93.95605659  84.64228264  97.70886815 111.45699407\n",
      "  79.70591144 144.43914256 106.44225207  80.33986917  81.13420222\n",
      "  62.51850558 143.17177104 122.78884429 117.05616568 149.01855647\n",
      " 138.77980217  68.63259769  92.92035272]\n",
      "new_threshold = 291.7446011680821\n"
     ]
    },
    {
     "data": {
      "application/vnd.jupyter.widget-view+json": {
       "model_id": "77162ac61ff14b59977ea8fdc407f500",
       "version_major": 2,
       "version_minor": 0
      },
      "text/plain": [
       "HBox(children=(FloatProgress(value=1.0, bar_style='info', max=1.0), HTML(value='')))"
      ]
     },
     "metadata": {},
     "output_type": "display_data"
    },
    {
     "name": "stdout",
     "output_type": "stream",
     "text": [
      "THERE WERE NO FACES THAT FIT THE DISTANCE (291.7446011680821) and Z transform requirements\n",
      "So just skipping this edge\n",
      "THERE WERE NO FACES THAT FIT THE DISTANCE (291.7446011680821) and Z transform requirements\n",
      "So just skipping this edge\n",
      "THERE WERE NO FACES THAT FIT THE DISTANCE (291.7446011680821) and Z transform requirements\n",
      "So just skipping this edge\n",
      "THERE WERE NO FACES THAT FIT THE DISTANCE (291.7446011680821) and Z transform requirements\n",
      "So just skipping this edge\n",
      "THERE WERE NO FACES THAT FIT THE DISTANCE (291.7446011680821) and Z transform requirements\n",
      "So just skipping this edge\n",
      "THERE WERE NO FACES THAT FIT THE DISTANCE (291.7446011680821) and Z transform requirements\n",
      "So just skipping this edge\n",
      "--> Not exactly one containing mesh: []\n",
      "\n",
      "new_skeleton = (3, 2, 3)\n"
     ]
    },
    {
     "data": {
      "application/vnd.jupyter.widget-view+json": {
       "model_id": "3ea7d9d2e0474850887506741ad8c8ed",
       "version_major": 2,
       "version_minor": 0
      },
      "text/plain": [
       "HBox(children=(FloatProgress(value=1.0, bar_style='info', max=1.0), HTML(value='')))"
      ]
     },
     "metadata": {},
     "output_type": "display_data"
    },
    {
     "name": "stdout",
     "output_type": "stream",
     "text": [
      "--> Not exactly one containing mesh: []\n",
      "\n",
      "filtered_measurements = [165.03618673 317.3565201 ]\n",
      "new_threshold = 590.8145392819677\n"
     ]
    },
    {
     "data": {
      "application/vnd.jupyter.widget-view+json": {
       "model_id": "bfe32fb4ddce43abac035549a2f3dd31",
       "version_major": 2,
       "version_minor": 0
      },
      "text/plain": [
       "HBox(children=(FloatProgress(value=1.0, bar_style='info', max=1.0), HTML(value='')))"
      ]
     },
     "metadata": {},
     "output_type": "display_data"
    },
    {
     "name": "stdout",
     "output_type": "stream",
     "text": [
      "--> Not exactly one containing mesh: []\n",
      "\n",
      "new_skeleton = (31, 2, 3)\n"
     ]
    },
    {
     "data": {
      "application/vnd.jupyter.widget-view+json": {
       "model_id": "1f46248de4e4475ba4b4495697d07aaf",
       "version_major": 2,
       "version_minor": 0
      },
      "text/plain": [
       "HBox(children=(FloatProgress(value=1.0, bar_style='info', max=1.0), HTML(value='')))"
      ]
     },
     "metadata": {},
     "output_type": "display_data"
    },
    {
     "name": "stdout",
     "output_type": "stream",
     "text": [
      "--> Not exactly one containing mesh: []\n",
      "\n",
      "filtered_measurements = [239.36494485 287.97233336 204.12976394 191.98659845 170.89317433\n",
      " 157.76135891 208.65239271 274.13341236 237.97657492 195.01676455\n",
      " 177.51353246 170.47940118 175.84077738 175.0974704  168.29404724\n",
      " 173.86276477 202.19554597 181.33646987 203.08087057 193.55693593\n",
      " 236.61757219 246.03949468 257.43480829 248.75427551 293.21146285\n",
      " 189.56415475 171.39048194 227.4181104 ]\n",
      "new_threshold = 613.11260304113\n"
     ]
    },
    {
     "data": {
      "application/vnd.jupyter.widget-view+json": {
       "model_id": "89e311ee7c524cb68258815c188fac22",
       "version_major": 2,
       "version_minor": 0
      },
      "text/plain": [
       "HBox(children=(FloatProgress(value=1.0, bar_style='info', max=1.0), HTML(value='')))"
      ]
     },
     "metadata": {},
     "output_type": "display_data"
    },
    {
     "name": "stdout",
     "output_type": "stream",
     "text": [
      "--> Not exactly one containing mesh: []\n",
      "\n",
      "new_skeleton = (12, 2, 3)\n"
     ]
    },
    {
     "data": {
      "application/vnd.jupyter.widget-view+json": {
       "model_id": "fbc97591354740a3baab405c45eefedc",
       "version_major": 2,
       "version_minor": 0
      },
      "text/plain": [
       "HBox(children=(FloatProgress(value=1.0, bar_style='info', max=1.0), HTML(value='')))"
      ]
     },
     "metadata": {},
     "output_type": "display_data"
    },
    {
     "name": "stdout",
     "output_type": "stream",
     "text": [
      "\n",
      "filtered_measurements = [141.84020022 116.56710558 158.82922109  79.36759419  97.9768819\n",
      "  89.21773996  93.4472352  175.57173985]\n",
      "new_threshold = 341.84896122166987\n"
     ]
    },
    {
     "data": {
      "application/vnd.jupyter.widget-view+json": {
       "model_id": "97d7024bc5de46489483f83d697d37c3",
       "version_major": 2,
       "version_minor": 0
      },
      "text/plain": [
       "HBox(children=(FloatProgress(value=1.0, bar_style='info', max=1.0), HTML(value='')))"
      ]
     },
     "metadata": {},
     "output_type": "display_data"
    },
    {
     "name": "stdout",
     "output_type": "stream",
     "text": [
      "\n",
      "new_skeleton = (2, 2, 3)\n"
     ]
    },
    {
     "data": {
      "application/vnd.jupyter.widget-view+json": {
       "model_id": "2e2d84cce6ed483fb811fb0b8d5db7f1",
       "version_major": 2,
       "version_minor": 0
      },
      "text/plain": [
       "HBox(children=(FloatProgress(value=1.0, bar_style='info', max=1.0), HTML(value='')))"
      ]
     },
     "metadata": {},
     "output_type": "display_data"
    },
    {
     "name": "stdout",
     "output_type": "stream",
     "text": [
      "\n",
      "filtered_measurements = [252.96292739]\n",
      "new_threshold = 689.5453489138267\n"
     ]
    },
    {
     "data": {
      "application/vnd.jupyter.widget-view+json": {
       "model_id": "2b8825b3a091463aa6155d79f9bc9712",
       "version_major": 2,
       "version_minor": 0
      },
      "text/plain": [
       "HBox(children=(FloatProgress(value=1.0, bar_style='info', max=1.0), HTML(value='')))"
      ]
     },
     "metadata": {},
     "output_type": "display_data"
    },
    {
     "name": "stdout",
     "output_type": "stream",
     "text": [
      "\n",
      "new_skeleton = (2, 2, 3)\n"
     ]
    },
    {
     "data": {
      "application/vnd.jupyter.widget-view+json": {
       "model_id": "e6aeb42e118f47a1aa6e665f6e28885e",
       "version_major": 2,
       "version_minor": 0
      },
      "text/plain": [
       "HBox(children=(FloatProgress(value=1.0, bar_style='info', max=1.0), HTML(value='')))"
      ]
     },
     "metadata": {},
     "output_type": "display_data"
    },
    {
     "name": "stdout",
     "output_type": "stream",
     "text": [
      "\n",
      "filtered_measurements = [383.80894874 382.76335835]\n",
      "new_threshold = 740.8708381475266\n"
     ]
    },
    {
     "data": {
      "application/vnd.jupyter.widget-view+json": {
       "model_id": "6008d6999cf546dbaea91f7f40e128f4",
       "version_major": 2,
       "version_minor": 0
      },
      "text/plain": [
       "HBox(children=(FloatProgress(value=1.0, bar_style='info', max=1.0), HTML(value='')))"
      ]
     },
     "metadata": {},
     "output_type": "display_data"
    },
    {
     "name": "stdout",
     "output_type": "stream",
     "text": [
      "\n",
      "new_skeleton = (11, 2, 3)\n"
     ]
    },
    {
     "data": {
      "application/vnd.jupyter.widget-view+json": {
       "model_id": "1956f93ead7341e69e3f9ee90159419e",
       "version_major": 2,
       "version_minor": 0
      },
      "text/plain": [
       "HBox(children=(FloatProgress(value=1.0, bar_style='info', max=1.0), HTML(value='')))"
      ]
     },
     "metadata": {},
     "output_type": "display_data"
    },
    {
     "name": "stdout",
     "output_type": "stream",
     "text": [
      "--> Not exactly one containing mesh: []\n",
      "\n",
      "filtered_measurements = [140.93321125 100.31423437 101.63629465 121.61440608 156.24295572\n",
      " 178.64816535]\n",
      "new_threshold = 322.6348989027217\n"
     ]
    },
    {
     "data": {
      "application/vnd.jupyter.widget-view+json": {
       "model_id": "bc4be5af243144cdba4d96433b54b239",
       "version_major": 2,
       "version_minor": 0
      },
      "text/plain": [
       "HBox(children=(FloatProgress(value=1.0, bar_style='info', max=1.0), HTML(value='')))"
      ]
     },
     "metadata": {},
     "output_type": "display_data"
    },
    {
     "name": "stdout",
     "output_type": "stream",
     "text": [
      "--> Not exactly one containing mesh: []\n",
      "\n",
      "new_skeleton = (5, 2, 3)\n"
     ]
    },
    {
     "data": {
      "application/vnd.jupyter.widget-view+json": {
       "model_id": "b53387499f2d41ad86022ff4dbfdfcd8",
       "version_major": 2,
       "version_minor": 0
      },
      "text/plain": [
       "HBox(children=(FloatProgress(value=1.0, bar_style='info', max=1.0), HTML(value='')))"
      ]
     },
     "metadata": {},
     "output_type": "display_data"
    },
    {
     "name": "stdout",
     "output_type": "stream",
     "text": [
      "\n",
      "filtered_measurements = [339.64640771 590.15908273]\n",
      "new_threshold = 1124.1098365840362\n"
     ]
    },
    {
     "data": {
      "application/vnd.jupyter.widget-view+json": {
       "model_id": "5d3350e4ba48469aa3f3f3d7301f4fd5",
       "version_major": 2,
       "version_minor": 0
      },
      "text/plain": [
       "HBox(children=(FloatProgress(value=1.0, bar_style='info', max=1.0), HTML(value='')))"
      ]
     },
     "metadata": {},
     "output_type": "display_data"
    },
    {
     "name": "stdout",
     "output_type": "stream",
     "text": [
      "\n",
      "new_skeleton = (16, 2, 3)\n"
     ]
    },
    {
     "data": {
      "application/vnd.jupyter.widget-view+json": {
       "model_id": "36fef53da57a477fb64aa68f168d9a1e",
       "version_major": 2,
       "version_minor": 0
      },
      "text/plain": [
       "HBox(children=(FloatProgress(value=1.0, bar_style='info', max=1.0), HTML(value='')))"
      ]
     },
     "metadata": {},
     "output_type": "display_data"
    },
    {
     "name": "stdout",
     "output_type": "stream",
     "text": [
      "\n",
      "filtered_measurements = [166.3023226  131.18343396 109.93250968 115.91547685  75.2442802\n",
      "  87.60917339 118.95144665 138.69158548  92.62103828 175.43942624\n",
      " 107.06410971]\n",
      "new_threshold = 335.1210531758735\n"
     ]
    },
    {
     "data": {
      "application/vnd.jupyter.widget-view+json": {
       "model_id": "0dc74d9cc9144ed88714cb49271179d0",
       "version_major": 2,
       "version_minor": 0
      },
      "text/plain": [
       "HBox(children=(FloatProgress(value=1.0, bar_style='info', max=1.0), HTML(value='')))"
      ]
     },
     "metadata": {},
     "output_type": "display_data"
    },
    {
     "name": "stdout",
     "output_type": "stream",
     "text": [
      "\n",
      "new_skeleton = (11, 2, 3)\n"
     ]
    },
    {
     "data": {
      "application/vnd.jupyter.widget-view+json": {
       "model_id": "2f844ea94f5c4b52a665b7b6b9c129e8",
       "version_major": 2,
       "version_minor": 0
      },
      "text/plain": [
       "HBox(children=(FloatProgress(value=1.0, bar_style='info', max=1.0), HTML(value='')))"
      ]
     },
     "metadata": {},
     "output_type": "display_data"
    },
    {
     "name": "stdout",
     "output_type": "stream",
     "text": [
      "--> Not exactly one containing mesh: []\n",
      "\n",
      "filtered_measurements = [122.82942331  77.94322651  70.94475713  94.12480844 104.71368706]\n",
      "new_threshold = 226.1378172623619\n"
     ]
    },
    {
     "data": {
      "application/vnd.jupyter.widget-view+json": {
       "model_id": "a6d908c8ba6c40c6a8a37e6f51d59549",
       "version_major": 2,
       "version_minor": 0
      },
      "text/plain": [
       "HBox(children=(FloatProgress(value=1.0, bar_style='info', max=1.0), HTML(value='')))"
      ]
     },
     "metadata": {},
     "output_type": "display_data"
    },
    {
     "name": "stdout",
     "output_type": "stream",
     "text": [
      "THERE WERE NO FACES THAT FIT THE DISTANCE (226.1378172623619) and Z transform requirements\n",
      "So just skipping this edge\n",
      "THERE WERE NO FACES THAT FIT THE DISTANCE (226.1378172623619) and Z transform requirements\n",
      "So just skipping this edge\n",
      "THERE WERE NO FACES THAT FIT THE DISTANCE (226.1378172623619) and Z transform requirements\n",
      "So just skipping this edge\n",
      "THERE WERE NO FACES THAT FIT THE DISTANCE (226.1378172623619) and Z transform requirements\n",
      "So just skipping this edge\n",
      "THERE WERE NO FACES THAT FIT THE DISTANCE (226.1378172623619) and Z transform requirements\n",
      "So just skipping this edge\n",
      "THERE WERE NO FACES THAT FIT THE DISTANCE (226.1378172623619) and Z transform requirements\n",
      "So just skipping this edge\n",
      "--> Not exactly one containing mesh: []\n",
      "--> Not exactly one containing mesh: []\n",
      "--> Not exactly one containing mesh: []\n",
      "--> Not exactly one containing mesh: []\n",
      "\n",
      "new_skeleton = (9, 2, 3)\n"
     ]
    },
    {
     "data": {
      "application/vnd.jupyter.widget-view+json": {
       "model_id": "e1180970f32248d8af517f8b6d2ed58f",
       "version_major": 2,
       "version_minor": 0
      },
      "text/plain": [
       "HBox(children=(FloatProgress(value=1.0, bar_style='info', max=1.0), HTML(value='')))"
      ]
     },
     "metadata": {},
     "output_type": "display_data"
    },
    {
     "name": "stdout",
     "output_type": "stream",
     "text": [
      "\n",
      "filtered_measurements = [159.08168087 122.62917766  96.44558496  79.53729769 109.8959446\n",
      " 103.32714706]\n",
      "new_threshold = 271.51363311985637\n"
     ]
    },
    {
     "data": {
      "application/vnd.jupyter.widget-view+json": {
       "model_id": "4c39a25213164b66990d06ff2c502160",
       "version_major": 2,
       "version_minor": 0
      },
      "text/plain": [
       "HBox(children=(FloatProgress(value=1.0, bar_style='info', max=1.0), HTML(value='')))"
      ]
     },
     "metadata": {},
     "output_type": "display_data"
    },
    {
     "name": "stdout",
     "output_type": "stream",
     "text": [
      "--> Not exactly one containing mesh: []\n",
      "\n",
      "new_skeleton = (3, 2, 3)\n"
     ]
    },
    {
     "data": {
      "application/vnd.jupyter.widget-view+json": {
       "model_id": "7c7f568330ae4a4b9307d062d4885ddc",
       "version_major": 2,
       "version_minor": 0
      },
      "text/plain": [
       "HBox(children=(FloatProgress(value=1.0, bar_style='info', max=1.0), HTML(value='')))"
      ]
     },
     "metadata": {},
     "output_type": "display_data"
    },
    {
     "name": "stdout",
     "output_type": "stream",
     "text": [
      "\n",
      "filtered_measurements = [1552.33005222 1199.14762304 1599.83607062]\n",
      "new_threshold = 3136.1754480092713\n"
     ]
    },
    {
     "data": {
      "application/vnd.jupyter.widget-view+json": {
       "model_id": "5de3f9caa79947e3b3e8beb08d7c2a06",
       "version_major": 2,
       "version_minor": 0
      },
      "text/plain": [
       "HBox(children=(FloatProgress(value=1.0, bar_style='info', max=1.0), HTML(value='')))"
      ]
     },
     "metadata": {},
     "output_type": "display_data"
    },
    {
     "name": "stdout",
     "output_type": "stream",
     "text": [
      "\n",
      "new_skeleton = (7, 2, 3)\n"
     ]
    },
    {
     "data": {
      "application/vnd.jupyter.widget-view+json": {
       "model_id": "504c7488fdcf449d9cf121bc15995eff",
       "version_major": 2,
       "version_minor": 0
      },
      "text/plain": [
       "HBox(children=(FloatProgress(value=1.0, bar_style='info', max=1.0), HTML(value='')))"
      ]
     },
     "metadata": {},
     "output_type": "display_data"
    },
    {
     "name": "stdout",
     "output_type": "stream",
     "text": [
      "--> Not exactly one containing mesh: [0 1]\n",
      "\n",
      "filtered_measurements = [281.60100606 153.03176769 314.7187501 ]\n",
      "new_threshold = 637.2767847630544\n"
     ]
    },
    {
     "data": {
      "application/vnd.jupyter.widget-view+json": {
       "model_id": "db274fc9b1be48bea7a94047e4c3cfd1",
       "version_major": 2,
       "version_minor": 0
      },
      "text/plain": [
       "HBox(children=(FloatProgress(value=1.0, bar_style='info', max=1.0), HTML(value='')))"
      ]
     },
     "metadata": {},
     "output_type": "display_data"
    },
    {
     "name": "stdout",
     "output_type": "stream",
     "text": [
      "--> Not exactly one containing mesh: []\n",
      "\n",
      "new_skeleton = (2, 2, 3)\n"
     ]
    },
    {
     "data": {
      "application/vnd.jupyter.widget-view+json": {
       "model_id": "deb43a87abe347f489519d5ceecabb14",
       "version_major": 2,
       "version_minor": 0
      },
      "text/plain": [
       "HBox(children=(FloatProgress(value=1.0, bar_style='info', max=1.0), HTML(value='')))"
      ]
     },
     "metadata": {},
     "output_type": "display_data"
    },
    {
     "name": "stdout",
     "output_type": "stream",
     "text": [
      "\n",
      "filtered_measurements = [1078.03597653 1095.20438791]\n",
      "new_threshold = 2464.2693862444776\n"
     ]
    },
    {
     "data": {
      "application/vnd.jupyter.widget-view+json": {
       "model_id": "d2f13cb71e564c6585b4a05a9240ec00",
       "version_major": 2,
       "version_minor": 0
      },
      "text/plain": [
       "HBox(children=(FloatProgress(value=1.0, bar_style='info', max=1.0), HTML(value='')))"
      ]
     },
     "metadata": {},
     "output_type": "display_data"
    },
    {
     "name": "stdout",
     "output_type": "stream",
     "text": [
      "\n",
      "new_skeleton = (5, 2, 3)\n"
     ]
    },
    {
     "data": {
      "application/vnd.jupyter.widget-view+json": {
       "model_id": "2229d9f0185d46559593aebdb09b9a12",
       "version_major": 2,
       "version_minor": 0
      },
      "text/plain": [
       "HBox(children=(FloatProgress(value=1.0, bar_style='info', max=1.0), HTML(value='')))"
      ]
     },
     "metadata": {},
     "output_type": "display_data"
    },
    {
     "name": "stdout",
     "output_type": "stream",
     "text": [
      "\n",
      "filtered_measurements = [473.12245506 454.43053676 523.01506143]\n",
      "new_threshold = 1252.2284103592146\n"
     ]
    },
    {
     "data": {
      "application/vnd.jupyter.widget-view+json": {
       "model_id": "7d4aadd75e034cf2bf17dac58eafc6b6",
       "version_major": 2,
       "version_minor": 0
      },
      "text/plain": [
       "HBox(children=(FloatProgress(value=1.0, bar_style='info', max=1.0), HTML(value='')))"
      ]
     },
     "metadata": {},
     "output_type": "display_data"
    },
    {
     "name": "stdout",
     "output_type": "stream",
     "text": [
      "\n",
      "new_skeleton = (19, 2, 3)\n"
     ]
    },
    {
     "data": {
      "application/vnd.jupyter.widget-view+json": {
       "model_id": "8707b81a410546b5ac631f5ae2c4739d",
       "version_major": 2,
       "version_minor": 0
      },
      "text/plain": [
       "HBox(children=(FloatProgress(value=1.0, bar_style='info', max=1.0), HTML(value='')))"
      ]
     },
     "metadata": {},
     "output_type": "display_data"
    },
    {
     "name": "stdout",
     "output_type": "stream",
     "text": [
      "\n",
      "filtered_measurements = [ 58.10255102 112.80507755 165.32245067  84.38581199 122.95204974\n",
      " 144.12266105 143.66257574 104.03162047 163.1290771   94.58546592\n",
      " 174.2123965  133.99964139 117.62441118  88.11166365]\n",
      "new_threshold = 406.16667491714634\n"
     ]
    },
    {
     "data": {
      "application/vnd.jupyter.widget-view+json": {
       "model_id": "9ee09defb11a4f458eeb66cb4ee92753",
       "version_major": 2,
       "version_minor": 0
      },
      "text/plain": [
       "HBox(children=(FloatProgress(value=1.0, bar_style='info', max=1.0), HTML(value='')))"
      ]
     },
     "metadata": {},
     "output_type": "display_data"
    },
    {
     "name": "stdout",
     "output_type": "stream",
     "text": [
      "\n",
      "new_skeleton = (7, 2, 3)\n"
     ]
    },
    {
     "data": {
      "application/vnd.jupyter.widget-view+json": {
       "model_id": "5b15bb3e14a94720ae54a1757718ca87",
       "version_major": 2,
       "version_minor": 0
      },
      "text/plain": [
       "HBox(children=(FloatProgress(value=1.0, bar_style='info', max=1.0), HTML(value='')))"
      ]
     },
     "metadata": {},
     "output_type": "display_data"
    },
    {
     "name": "stdout",
     "output_type": "stream",
     "text": [
      "\n",
      "filtered_measurements = [347.13593697 176.32032549 145.55528539]\n",
      "new_threshold = 775.2662134748582\n"
     ]
    },
    {
     "data": {
      "application/vnd.jupyter.widget-view+json": {
       "model_id": "7a6421fc2f4e4c1ea33d40f1667f40ab",
       "version_major": 2,
       "version_minor": 0
      },
      "text/plain": [
       "HBox(children=(FloatProgress(value=1.0, bar_style='info', max=1.0), HTML(value='')))"
      ]
     },
     "metadata": {},
     "output_type": "display_data"
    },
    {
     "name": "stdout",
     "output_type": "stream",
     "text": [
      "\n",
      "new_skeleton = (11, 2, 3)\n"
     ]
    },
    {
     "data": {
      "application/vnd.jupyter.widget-view+json": {
       "model_id": "bc11fd0430614dbcaf41b5f209cfba96",
       "version_major": 2,
       "version_minor": 0
      },
      "text/plain": [
       "HBox(children=(FloatProgress(value=1.0, bar_style='info', max=1.0), HTML(value='')))"
      ]
     },
     "metadata": {},
     "output_type": "display_data"
    },
    {
     "name": "stdout",
     "output_type": "stream",
     "text": [
      "--> Not exactly one containing mesh: []\n",
      "\n",
      "filtered_measurements = [109.47932139  93.94047817 102.83821651  79.76612699 112.48011439\n",
      " 141.50678307]\n",
      "new_threshold = 287.24654408294657\n"
     ]
    },
    {
     "data": {
      "application/vnd.jupyter.widget-view+json": {
       "model_id": "d4416bacd1914e64a5a44b1bf5816b8f",
       "version_major": 2,
       "version_minor": 0
      },
      "text/plain": [
       "HBox(children=(FloatProgress(value=1.0, bar_style='info', max=1.0), HTML(value='')))"
      ]
     },
     "metadata": {},
     "output_type": "display_data"
    },
    {
     "name": "stderr",
     "output_type": "stream",
     "text": [
      "No adjacent faces detected! Did you merge vertices?\n"
     ]
    },
    {
     "name": "stdout",
     "output_type": "stream",
     "text": [
      "list was only one so surrounding them with list\n",
      "--> Not exactly one containing mesh: []\n",
      "--> Not exactly one containing mesh: []\n",
      "\n",
      "new_skeleton = (3, 2, 3)\n"
     ]
    },
    {
     "data": {
      "application/vnd.jupyter.widget-view+json": {
       "model_id": "a2a0db8e73bd4c0d8f994e69b9c5f4cf",
       "version_major": 2,
       "version_minor": 0
      },
      "text/plain": [
       "HBox(children=(FloatProgress(value=1.0, bar_style='info', max=1.0), HTML(value='')))"
      ]
     },
     "metadata": {},
     "output_type": "display_data"
    },
    {
     "name": "stdout",
     "output_type": "stream",
     "text": [
      "\n",
      "filtered_measurements = [487.70268125 476.15879784 306.22744564]\n",
      "new_threshold = 1101.7317499950575\n"
     ]
    },
    {
     "data": {
      "application/vnd.jupyter.widget-view+json": {
       "model_id": "f9b282827d3440f8b687b9c3b945ac98",
       "version_major": 2,
       "version_minor": 0
      },
      "text/plain": [
       "HBox(children=(FloatProgress(value=1.0, bar_style='info', max=1.0), HTML(value='')))"
      ]
     },
     "metadata": {},
     "output_type": "display_data"
    },
    {
     "name": "stdout",
     "output_type": "stream",
     "text": [
      "\n",
      "new_skeleton = (2, 2, 3)\n"
     ]
    },
    {
     "data": {
      "application/vnd.jupyter.widget-view+json": {
       "model_id": "cfa8f365559e45278a9b4d1fe374b5cb",
       "version_major": 2,
       "version_minor": 0
      },
      "text/plain": [
       "HBox(children=(FloatProgress(value=1.0, bar_style='info', max=1.0), HTML(value='')))"
      ]
     },
     "metadata": {},
     "output_type": "display_data"
    },
    {
     "name": "stdout",
     "output_type": "stream",
     "text": [
      "\n",
      "filtered_measurements = [824.78237317 927.7497212 ]\n",
      "new_threshold = 2117.480472223258\n"
     ]
    },
    {
     "data": {
      "application/vnd.jupyter.widget-view+json": {
       "model_id": "b0eb42b5501a4e648214e3c187910eeb",
       "version_major": 2,
       "version_minor": 0
      },
      "text/plain": [
       "HBox(children=(FloatProgress(value=1.0, bar_style='info', max=1.0), HTML(value='')))"
      ]
     },
     "metadata": {},
     "output_type": "display_data"
    },
    {
     "name": "stdout",
     "output_type": "stream",
     "text": [
      "\n",
      "new_skeleton = (3, 2, 3)\n"
     ]
    },
    {
     "data": {
      "application/vnd.jupyter.widget-view+json": {
       "model_id": "2d84768a0d104fbf85680cead4c8f8f2",
       "version_major": 2,
       "version_minor": 0
      },
      "text/plain": [
       "HBox(children=(FloatProgress(value=1.0, bar_style='info', max=1.0), HTML(value='')))"
      ]
     },
     "metadata": {},
     "output_type": "display_data"
    },
    {
     "name": "stdout",
     "output_type": "stream",
     "text": [
      "\n",
      "filtered_measurements = [1728.04305326 1151.05435699 1254.07899298]\n",
      "new_threshold = 3355.6802835260037\n"
     ]
    },
    {
     "data": {
      "application/vnd.jupyter.widget-view+json": {
       "model_id": "0e9db625215b45fa8ad6e239af0c24e3",
       "version_major": 2,
       "version_minor": 0
      },
      "text/plain": [
       "HBox(children=(FloatProgress(value=1.0, bar_style='info', max=1.0), HTML(value='')))"
      ]
     },
     "metadata": {},
     "output_type": "display_data"
    },
    {
     "name": "stdout",
     "output_type": "stream",
     "text": [
      "--> Not exactly one containing mesh: []\n",
      "--> Not exactly one containing mesh: []\n",
      "\n",
      "new_skeleton = (9, 2, 3)\n"
     ]
    },
    {
     "data": {
      "application/vnd.jupyter.widget-view+json": {
       "model_id": "9880d5f3c5c84327986491bbf2815f59",
       "version_major": 2,
       "version_minor": 0
      },
      "text/plain": [
       "HBox(children=(FloatProgress(value=1.0, bar_style='info', max=1.0), HTML(value='')))"
      ]
     },
     "metadata": {},
     "output_type": "display_data"
    },
    {
     "name": "stdout",
     "output_type": "stream",
     "text": [
      "--> Not exactly one containing mesh: []\n",
      "\n",
      "filtered_measurements = [ 70.07260932 140.53236496 107.1281229   65.72149527 127.12224989\n",
      " 101.89948242 143.56494133]\n",
      "new_threshold = 310.88942559408395\n"
     ]
    },
    {
     "data": {
      "application/vnd.jupyter.widget-view+json": {
       "model_id": "8ac25303fd1e415da8f188cb8dfe7765",
       "version_major": 2,
       "version_minor": 0
      },
      "text/plain": [
       "HBox(children=(FloatProgress(value=1.0, bar_style='info', max=1.0), HTML(value='')))"
      ]
     },
     "metadata": {},
     "output_type": "display_data"
    },
    {
     "name": "stdout",
     "output_type": "stream",
     "text": [
      "--> Not exactly one containing mesh: []\n",
      "THERE WERE NO FACES THAT FIT THE DISTANCE (310.88942559408395) and Z transform requirements\n",
      "So just skipping this edge\n",
      "THERE WERE NO FACES THAT FIT THE DISTANCE (310.88942559408395) and Z transform requirements\n",
      "So just skipping this edge\n",
      "THERE WERE NO FACES THAT FIT THE DISTANCE (310.88942559408395) and Z transform requirements\n",
      "So just skipping this edge\n",
      "THERE WERE NO FACES THAT FIT THE DISTANCE (310.88942559408395) and Z transform requirements\n",
      "So just skipping this edge\n",
      "THERE WERE NO FACES THAT FIT THE DISTANCE (310.88942559408395) and Z transform requirements\n",
      "So just skipping this edge\n",
      "THERE WERE NO FACES THAT FIT THE DISTANCE (310.88942559408395) and Z transform requirements\n",
      "So just skipping this edge\n",
      "THERE WERE NO FACES THAT FIT THE DISTANCE (310.88942559408395) and Z transform requirements\n",
      "So just skipping this edge\n",
      "THERE WERE NO FACES THAT FIT THE DISTANCE (310.88942559408395) and Z transform requirements\n",
      "So just skipping this edge\n",
      "\n",
      "new_skeleton = (3, 2, 3)\n"
     ]
    },
    {
     "data": {
      "application/vnd.jupyter.widget-view+json": {
       "model_id": "2f9f2418cb76420ea65786c0603b50bf",
       "version_major": 2,
       "version_minor": 0
      },
      "text/plain": [
       "HBox(children=(FloatProgress(value=1.0, bar_style='info', max=1.0), HTML(value='')))"
      ]
     },
     "metadata": {},
     "output_type": "display_data"
    },
    {
     "name": "stdout",
     "output_type": "stream",
     "text": [
      "\n",
      "filtered_measurements = [1362.71109961  910.17877532  843.34835011]\n",
      "new_threshold = 2972.6909123562527\n"
     ]
    },
    {
     "data": {
      "application/vnd.jupyter.widget-view+json": {
       "model_id": "de804a52fbe34d579094123a075831db",
       "version_major": 2,
       "version_minor": 0
      },
      "text/plain": [
       "HBox(children=(FloatProgress(value=1.0, bar_style='info', max=1.0), HTML(value='')))"
      ]
     },
     "metadata": {},
     "output_type": "display_data"
    },
    {
     "name": "stdout",
     "output_type": "stream",
     "text": [
      "\n",
      "new_skeleton = (23, 2, 3)\n"
     ]
    },
    {
     "data": {
      "application/vnd.jupyter.widget-view+json": {
       "model_id": "b2ac2340832a4510851ccf8e311d22a1",
       "version_major": 2,
       "version_minor": 0
      },
      "text/plain": [
       "HBox(children=(FloatProgress(value=1.0, bar_style='info', max=1.0), HTML(value='')))"
      ]
     },
     "metadata": {},
     "output_type": "display_data"
    },
    {
     "name": "stdout",
     "output_type": "stream",
     "text": [
      "\n",
      "filtered_measurements = [325.24068413 290.29340786 463.36339053 335.12554996 395.9086262\n",
      " 394.03264868 423.05731616 417.3061068  406.40093727 277.79315127\n",
      " 297.07422084 367.8159044  392.90402734 375.74432483 355.12363916\n",
      " 446.90568653 369.48655139 422.45896874]\n",
      "new_threshold = 994.2070560550806\n"
     ]
    },
    {
     "data": {
      "application/vnd.jupyter.widget-view+json": {
       "model_id": "32520f1928a643e0bd563a76d3abdadc",
       "version_major": 2,
       "version_minor": 0
      },
      "text/plain": [
       "HBox(children=(FloatProgress(value=1.0, bar_style='info', max=1.0), HTML(value='')))"
      ]
     },
     "metadata": {},
     "output_type": "display_data"
    },
    {
     "name": "stdout",
     "output_type": "stream",
     "text": [
      "\n",
      "new_skeleton = (9, 2, 3)\n"
     ]
    },
    {
     "data": {
      "application/vnd.jupyter.widget-view+json": {
       "model_id": "23a1a311c0b4448a9c1e48a30a940c5b",
       "version_major": 2,
       "version_minor": 0
      },
      "text/plain": [
       "HBox(children=(FloatProgress(value=1.0, bar_style='info', max=1.0), HTML(value='')))"
      ]
     },
     "metadata": {},
     "output_type": "display_data"
    },
    {
     "name": "stdout",
     "output_type": "stream",
     "text": [
      "\n",
      "filtered_measurements = [477.26545866 176.84839022 533.01690505  63.34444487 102.28212989\n",
      " 504.80438858]\n",
      "new_threshold = 1464.199508968846\n"
     ]
    },
    {
     "data": {
      "application/vnd.jupyter.widget-view+json": {
       "model_id": "8f8e49471a324fa48817242f9947fd5f",
       "version_major": 2,
       "version_minor": 0
      },
      "text/plain": [
       "HBox(children=(FloatProgress(value=1.0, bar_style='info', max=1.0), HTML(value='')))"
      ]
     },
     "metadata": {},
     "output_type": "display_data"
    },
    {
     "name": "stdout",
     "output_type": "stream",
     "text": [
      "\n",
      "new_skeleton = (19, 2, 3)\n"
     ]
    },
    {
     "data": {
      "application/vnd.jupyter.widget-view+json": {
       "model_id": "b42c3cd672ba456bb8febd03d6e6ce7e",
       "version_major": 2,
       "version_minor": 0
      },
      "text/plain": [
       "HBox(children=(FloatProgress(value=1.0, bar_style='info', max=1.0), HTML(value='')))"
      ]
     },
     "metadata": {},
     "output_type": "display_data"
    },
    {
     "name": "stdout",
     "output_type": "stream",
     "text": [
      "--> Not exactly one containing mesh: []\n",
      "\n",
      "filtered_measurements = [458.61556379 296.01385644 427.69353262 292.15811537 315.31693421\n",
      " 408.16165025 305.32980067 307.68103219 316.82719221 262.86351304\n",
      " 223.66497377 278.596442   347.62945392 369.03949074]\n",
      "new_threshold = 1143.9829103517452\n"
     ]
    },
    {
     "data": {
      "application/vnd.jupyter.widget-view+json": {
       "model_id": "204079e253c54a319b2679fd83a38bc7",
       "version_major": 2,
       "version_minor": 0
      },
      "text/plain": [
       "HBox(children=(FloatProgress(value=1.0, bar_style='info', max=1.0), HTML(value='')))"
      ]
     },
     "metadata": {},
     "output_type": "display_data"
    },
    {
     "name": "stdout",
     "output_type": "stream",
     "text": [
      "--> Not exactly one containing mesh: []\n",
      "\n"
     ]
    },
    {
     "data": {
      "application/vnd.jupyter.widget-view+json": {
       "model_id": "f08d1c03fb6b48ba91ef57aa74671408",
       "version_major": 2,
       "version_minor": 0
      },
      "text/plain": [
       "HBox(children=(FloatProgress(value=1.0, bar_style='info', max=1.0), HTML(value='')))"
      ]
     },
     "metadata": {},
     "output_type": "display_data"
    },
    {
     "name": "stdout",
     "output_type": "stream",
     "text": [
      "\n",
      "filtered_measurements = [366.7056403]\n",
      "new_threshold = 572.8274999777207\n"
     ]
    },
    {
     "data": {
      "application/vnd.jupyter.widget-view+json": {
       "model_id": "897c6688a3eb48788e12cd3445bdb7ff",
       "version_major": 2,
       "version_minor": 0
      },
      "text/plain": [
       "HBox(children=(FloatProgress(value=1.0, bar_style='info', max=1.0), HTML(value='')))"
      ]
     },
     "metadata": {},
     "output_type": "display_data"
    },
    {
     "name": "stdout",
     "output_type": "stream",
     "text": [
      "\n"
     ]
    },
    {
     "data": {
      "application/vnd.jupyter.widget-view+json": {
       "model_id": "61cae58bcf804c08b26a03ac52782c88",
       "version_major": 2,
       "version_minor": 0
      },
      "text/plain": [
       "HBox(children=(FloatProgress(value=1.0, bar_style='info', max=1.0), HTML(value='')))"
      ]
     },
     "metadata": {},
     "output_type": "display_data"
    },
    {
     "name": "stdout",
     "output_type": "stream",
     "text": [
      "--> Not exactly one containing mesh: [0 1]\n",
      "\n",
      "filtered_measurements = [1698.21459472]\n",
      "new_threshold = 3248.8477187029903\n"
     ]
    },
    {
     "data": {
      "application/vnd.jupyter.widget-view+json": {
       "model_id": "8a8bbffb2979481cbd6523df904198e5",
       "version_major": 2,
       "version_minor": 0
      },
      "text/plain": [
       "HBox(children=(FloatProgress(value=1.0, bar_style='info', max=1.0), HTML(value='')))"
      ]
     },
     "metadata": {},
     "output_type": "display_data"
    },
    {
     "name": "stdout",
     "output_type": "stream",
     "text": [
      "\n",
      "new_skeleton = (2, 2, 3)\n"
     ]
    },
    {
     "data": {
      "application/vnd.jupyter.widget-view+json": {
       "model_id": "84fdd14a1f0d451d8f5bd67ab449d23e",
       "version_major": 2,
       "version_minor": 0
      },
      "text/plain": [
       "HBox(children=(FloatProgress(value=1.0, bar_style='info', max=1.0), HTML(value='')))"
      ]
     },
     "metadata": {},
     "output_type": "display_data"
    },
    {
     "name": "stdout",
     "output_type": "stream",
     "text": [
      "\n",
      "filtered_measurements = [1451.49396175  981.99619586]\n",
      "new_threshold = 3003.193753637224\n"
     ]
    },
    {
     "data": {
      "application/vnd.jupyter.widget-view+json": {
       "model_id": "0321cb235b434c1492858f6b0311f5ee",
       "version_major": 2,
       "version_minor": 0
      },
      "text/plain": [
       "HBox(children=(FloatProgress(value=1.0, bar_style='info', max=1.0), HTML(value='')))"
      ]
     },
     "metadata": {},
     "output_type": "display_data"
    },
    {
     "name": "stdout",
     "output_type": "stream",
     "text": [
      "\n",
      "\n",
      "Working on limb #3\n"
     ]
    },
    {
     "data": {
      "application/vnd.jupyter.widget-view+json": {
       "model_id": "a0c4e449862146deb4495dd0988515ca",
       "version_major": 2,
       "version_minor": 0
      },
      "text/plain": [
       "HBox(children=(FloatProgress(value=1.0, bar_style='info', max=1.0), HTML(value='')))"
      ]
     },
     "metadata": {},
     "output_type": "display_data"
    },
    {
     "name": "stdout",
     "output_type": "stream",
     "text": [
      "new_skeleton = (78, 2, 3)\n"
     ]
    },
    {
     "data": {
      "application/vnd.jupyter.widget-view+json": {
       "model_id": "bc49fc1fe83340ecaec64a42f094b417",
       "version_major": 2,
       "version_minor": 0
      },
      "text/plain": [
       "HBox(children=(FloatProgress(value=1.0, bar_style='info', max=1.0), HTML(value='')))"
      ]
     },
     "metadata": {},
     "output_type": "display_data"
    },
    {
     "name": "stdout",
     "output_type": "stream",
     "text": [
      "--> Not exactly one containing mesh: [0 1]\n",
      "\n",
      "filtered_measurements = [ 97.31513038 197.73118389 367.76930498 304.21643458 363.48708583\n",
      " 668.36352247 326.67290497 636.57628005 233.58568885 468.51325356\n",
      " 577.48314832 632.1505808  393.3504194  338.87518691 656.91637476\n",
      " 304.48016778 652.19160015 307.70066961 441.45742202 650.06371733\n",
      " 290.68482455 473.64925273 474.16789345 364.69912918 509.93794335\n",
      " 359.85384058 479.45415254 269.79827366 576.55669445 420.75013767\n",
      " 624.25555629 350.12219939 540.40915694 521.5835261  377.46823209\n",
      " 482.07490732 649.6387462  357.38445833 596.21334437 310.86175464\n",
      " 449.76173694 434.98194519 417.77703329 333.33603196 391.70989873\n",
      " 431.5674793  623.51492362 580.12437867 400.0004544  332.58842983\n",
      " 437.81654241 666.16353657 372.76947009 397.45592032 482.57587573\n",
      " 567.58709929 364.27335553 427.57316493 335.63491523 366.94224798\n",
      " 522.26979393 380.15949277 402.56878689 633.01886974 412.68034569]\n",
      "new_threshold = 1843.7064326679329\n"
     ]
    },
    {
     "data": {
      "application/vnd.jupyter.widget-view+json": {
       "model_id": "27f50abf2a9640d49d72bf3ea351037a",
       "version_major": 2,
       "version_minor": 0
      },
      "text/plain": [
       "HBox(children=(FloatProgress(value=1.0, bar_style='info', max=1.0), HTML(value='')))"
      ]
     },
     "metadata": {},
     "output_type": "display_data"
    },
    {
     "name": "stdout",
     "output_type": "stream",
     "text": [
      "--> Not exactly one containing mesh: [0 1]\n",
      "\n",
      "new_skeleton = (96, 2, 3)\n"
     ]
    },
    {
     "data": {
      "application/vnd.jupyter.widget-view+json": {
       "model_id": "3b8213fa80354a2ca228b74d4351f586",
       "version_major": 2,
       "version_minor": 0
      },
      "text/plain": [
       "HBox(children=(FloatProgress(value=1.0, bar_style='info', max=1.0), HTML(value='')))"
      ]
     },
     "metadata": {},
     "output_type": "display_data"
    },
    {
     "name": "stdout",
     "output_type": "stream",
     "text": [
      "\n",
      "filtered_measurements = [155.90252973 482.34729756 268.44277585 291.99254563 596.73460824\n",
      " 255.59409902 237.58970522 441.75100724 219.60866442 270.64016224\n",
      " 445.38736753 242.33081784 292.26633626 287.19544141 578.30439326\n",
      " 350.4679505  345.24459852 356.59325245 328.99011242 514.34183736\n",
      " 330.47486756 353.53691051 579.52234135 451.50526649 490.93894584\n",
      " 553.50044281 522.97791319 328.70545467 408.16754906 599.25345732\n",
      " 433.58205817 414.01276749 319.5866201  603.73536843 346.14469307\n",
      " 546.18431403 414.82182879 413.92818347 430.95769681 589.96399043\n",
      " 465.70339169 362.43914186 483.39267678 279.99897624 478.85455563\n",
      " 549.50317859 515.68907745 393.4212517  412.8300892  258.21302683\n",
      " 348.47617684 381.14609347 332.14947202 330.83976428 348.47600105\n",
      " 451.39705133 489.92459509 506.467288   483.29970815 393.15561129\n",
      " 564.41214932 526.83205113 368.34071244 458.31643861 560.58185393\n",
      " 560.7227788  575.96758541 672.85854463 571.85461445 476.45784526\n",
      " 340.27367611 358.54831307 393.98250237 491.37131586 482.70653393\n",
      " 407.39316236 424.04459247 418.55946281]\n",
      "new_threshold = 1691.0356615257956\n"
     ]
    },
    {
     "data": {
      "application/vnd.jupyter.widget-view+json": {
       "model_id": "120d9704da0240f89d4e5bde48d5a689",
       "version_major": 2,
       "version_minor": 0
      },
      "text/plain": [
       "HBox(children=(FloatProgress(value=1.0, bar_style='info', max=1.0), HTML(value='')))"
      ]
     },
     "metadata": {},
     "output_type": "display_data"
    },
    {
     "name": "stdout",
     "output_type": "stream",
     "text": [
      "\n",
      "new_skeleton = (63, 2, 3)\n"
     ]
    },
    {
     "data": {
      "application/vnd.jupyter.widget-view+json": {
       "model_id": "65e1bd5d287e4d0aa5128956bc5dc329",
       "version_major": 2,
       "version_minor": 0
      },
      "text/plain": [
       "HBox(children=(FloatProgress(value=1.0, bar_style='info', max=1.0), HTML(value='')))"
      ]
     },
     "metadata": {},
     "output_type": "display_data"
    },
    {
     "name": "stdout",
     "output_type": "stream",
     "text": [
      "\n",
      "filtered_measurements = [304.61114459 295.11147673 146.30539986 138.50434291 338.55385769\n",
      " 205.28287151 279.34074011 247.42912139 217.21592927 158.65228753\n",
      " 189.19930055 168.60169955 317.45587852 282.06527593 175.77371327\n",
      " 243.37656327 230.60192049 198.33565843 205.00184202 152.50732699\n",
      " 237.61581196 223.31728039 226.65711593 222.24662984 144.22162922\n",
      " 195.23126383 308.98559101 234.10539496 287.36791381 316.34446317\n",
      " 201.85101312 288.5160387  230.76786748 241.75471454 319.80774376\n",
      " 158.90948839 178.38681301 206.03559187 178.47676447 198.5778723\n",
      " 349.87918631 338.12372274 228.37278764 252.44112076 273.8808355\n",
      " 291.17601118]\n",
      "new_threshold = 764.6098821604917\n"
     ]
    },
    {
     "data": {
      "application/vnd.jupyter.widget-view+json": {
       "model_id": "c7250876b2dc4ea8a5990e5667383aa4",
       "version_major": 2,
       "version_minor": 0
      },
      "text/plain": [
       "HBox(children=(FloatProgress(value=1.0, bar_style='info', max=1.0), HTML(value='')))"
      ]
     },
     "metadata": {},
     "output_type": "display_data"
    },
    {
     "name": "stdout",
     "output_type": "stream",
     "text": [
      "\n",
      "new_skeleton = (20, 2, 3)\n"
     ]
    },
    {
     "data": {
      "application/vnd.jupyter.widget-view+json": {
       "model_id": "f0b4ca078c35485da6acc5c9af952027",
       "version_major": 2,
       "version_minor": 0
      },
      "text/plain": [
       "HBox(children=(FloatProgress(value=1.0, bar_style='info', max=1.0), HTML(value='')))"
      ]
     },
     "metadata": {},
     "output_type": "display_data"
    },
    {
     "name": "stdout",
     "output_type": "stream",
     "text": [
      "\n",
      "filtered_measurements = [170.9497876  696.64049146 567.76311617 687.49199551 725.96843817\n",
      " 586.04569175 480.29046388 425.27334747 541.91615896 290.65332944\n",
      " 356.13485493 497.66087417 441.50203097 513.57156682 383.67171898\n",
      " 614.23044741 625.63461952 604.14685522]\n",
      "new_threshold = 1908.7637865939114\n"
     ]
    },
    {
     "data": {
      "application/vnd.jupyter.widget-view+json": {
       "model_id": "9d8475d002f9448b9ada038f18127d35",
       "version_major": 2,
       "version_minor": 0
      },
      "text/plain": [
       "HBox(children=(FloatProgress(value=1.0, bar_style='info', max=1.0), HTML(value='')))"
      ]
     },
     "metadata": {},
     "output_type": "display_data"
    },
    {
     "name": "stdout",
     "output_type": "stream",
     "text": [
      "\n",
      "new_skeleton = (26, 2, 3)\n"
     ]
    },
    {
     "data": {
      "application/vnd.jupyter.widget-view+json": {
       "model_id": "871231de70964b4d8d874d5c61a47ef1",
       "version_major": 2,
       "version_minor": 0
      },
      "text/plain": [
       "HBox(children=(FloatProgress(value=1.0, bar_style='info', max=1.0), HTML(value='')))"
      ]
     },
     "metadata": {},
     "output_type": "display_data"
    },
    {
     "name": "stdout",
     "output_type": "stream",
     "text": [
      "--> Not exactly one containing mesh: []\n",
      "\n",
      "filtered_measurements = [ 81.40263638  79.42503815 110.47179014 106.804684    82.76470913\n",
      "  88.63915818  91.80270749 122.75874159  83.6036221   90.30427113\n",
      "  99.70732786  90.45930633  92.27690747 109.46396097 145.22485556\n",
      " 122.19284026  87.13660572 100.59969961  93.9832559 ]\n",
      "new_threshold = 296.9547532571886\n"
     ]
    },
    {
     "data": {
      "application/vnd.jupyter.widget-view+json": {
       "model_id": "ec129cbf86c542f9b54465526251160e",
       "version_major": 2,
       "version_minor": 0
      },
      "text/plain": [
       "HBox(children=(FloatProgress(value=1.0, bar_style='info', max=1.0), HTML(value='')))"
      ]
     },
     "metadata": {},
     "output_type": "display_data"
    },
    {
     "name": "stdout",
     "output_type": "stream",
     "text": [
      "--> Not exactly one containing mesh: []\n",
      "\n",
      "new_skeleton = (48, 2, 3)\n"
     ]
    },
    {
     "data": {
      "application/vnd.jupyter.widget-view+json": {
       "model_id": "991d88f3d81742139ed528a586909b26",
       "version_major": 2,
       "version_minor": 0
      },
      "text/plain": [
       "HBox(children=(FloatProgress(value=1.0, bar_style='info', max=1.0), HTML(value='')))"
      ]
     },
     "metadata": {},
     "output_type": "display_data"
    },
    {
     "name": "stdout",
     "output_type": "stream",
     "text": [
      "--> Not exactly one containing mesh: []\n",
      "\n",
      "filtered_measurements = [207.55954212 271.74777799 345.68800493 238.59730093 416.45027742\n",
      " 251.05586693 217.65176904 532.83491108 472.48150741 443.80427375\n",
      " 396.62345631 440.08833016 383.68933466 408.76316066 463.06092992\n",
      " 569.36479271 398.66571282 480.7590889  262.52040745 505.43030868\n",
      " 283.66086768 450.24051285 378.24754215 431.65556197 477.59304975\n",
      " 586.23747826 601.49087205 533.41740699 405.27369408 296.21481145\n",
      " 277.73002394 470.28882672 491.07351651 427.86836009 355.61580884\n",
      " 336.42609769]\n",
      "new_threshold = 1691.492466854767\n"
     ]
    },
    {
     "data": {
      "application/vnd.jupyter.widget-view+json": {
       "model_id": "339285331a274123973a591724cfc747",
       "version_major": 2,
       "version_minor": 0
      },
      "text/plain": [
       "HBox(children=(FloatProgress(value=1.0, bar_style='info', max=1.0), HTML(value='')))"
      ]
     },
     "metadata": {},
     "output_type": "display_data"
    },
    {
     "name": "stdout",
     "output_type": "stream",
     "text": [
      "--> Not exactly one containing mesh: []\n",
      "\n",
      "new_skeleton = (16, 2, 3)\n"
     ]
    },
    {
     "data": {
      "application/vnd.jupyter.widget-view+json": {
       "model_id": "31db79163f204b7c8a69618fc2a3ba2b",
       "version_major": 2,
       "version_minor": 0
      },
      "text/plain": [
       "HBox(children=(FloatProgress(value=1.0, bar_style='info', max=1.0), HTML(value='')))"
      ]
     },
     "metadata": {},
     "output_type": "display_data"
    },
    {
     "name": "stdout",
     "output_type": "stream",
     "text": [
      "--> Not exactly one containing mesh: []\n",
      "\n",
      "filtered_measurements = [169.44202375 100.99302769  52.26351089 168.4432081  119.00856457\n",
      " 123.3373708  108.12675221 110.60854745  75.20484735  89.59910841]\n",
      "new_threshold = 310.00565004800865\n"
     ]
    },
    {
     "data": {
      "application/vnd.jupyter.widget-view+json": {
       "model_id": "dd0d404550214722a6730af76466fde6",
       "version_major": 2,
       "version_minor": 0
      },
      "text/plain": [
       "HBox(children=(FloatProgress(value=1.0, bar_style='info', max=1.0), HTML(value='')))"
      ]
     },
     "metadata": {},
     "output_type": "display_data"
    },
    {
     "name": "stdout",
     "output_type": "stream",
     "text": [
      "THERE WERE NO FACES THAT FIT THE DISTANCE (310.00565004800865) and Z transform requirements\n",
      "So just skipping this edge\n",
      "--> Not exactly one containing mesh: []\n",
      "\n",
      "new_skeleton = (6, 2, 3)\n"
     ]
    },
    {
     "data": {
      "application/vnd.jupyter.widget-view+json": {
       "model_id": "e6b60a5adbf143738ee9ecc442e7c2b3",
       "version_major": 2,
       "version_minor": 0
      },
      "text/plain": [
       "HBox(children=(FloatProgress(value=1.0, bar_style='info', max=1.0), HTML(value='')))"
      ]
     },
     "metadata": {},
     "output_type": "display_data"
    },
    {
     "name": "stdout",
     "output_type": "stream",
     "text": [
      "\n",
      "filtered_measurements = [461.4088993  499.40697373 502.62982734 566.07754021]\n",
      "new_threshold = 1244.8719377680568\n"
     ]
    },
    {
     "data": {
      "application/vnd.jupyter.widget-view+json": {
       "model_id": "90d4d324e6c44bc697c4d3944b531849",
       "version_major": 2,
       "version_minor": 0
      },
      "text/plain": [
       "HBox(children=(FloatProgress(value=1.0, bar_style='info', max=1.0), HTML(value='')))"
      ]
     },
     "metadata": {},
     "output_type": "display_data"
    },
    {
     "name": "stdout",
     "output_type": "stream",
     "text": [
      "\n",
      "new_skeleton = (15, 2, 3)\n"
     ]
    },
    {
     "data": {
      "application/vnd.jupyter.widget-view+json": {
       "model_id": "4946920ae35f4349a34bfaeb70d3a21b",
       "version_major": 2,
       "version_minor": 0
      },
      "text/plain": [
       "HBox(children=(FloatProgress(value=1.0, bar_style='info', max=1.0), HTML(value='')))"
      ]
     },
     "metadata": {},
     "output_type": "display_data"
    },
    {
     "name": "stdout",
     "output_type": "stream",
     "text": [
      "\n",
      "filtered_measurements = [ 93.75103885  75.07168906  79.8116652  112.44645358 123.45736318\n",
      "  85.82456442 103.77273029 161.07452166 107.16799126 151.81921561\n",
      " 114.12110812 121.63757329 116.84212112]\n",
      "new_threshold = 350.3687421784639\n"
     ]
    },
    {
     "data": {
      "application/vnd.jupyter.widget-view+json": {
       "model_id": "9de41cff29d44745a44fd12dfa9b83da",
       "version_major": 2,
       "version_minor": 0
      },
      "text/plain": [
       "HBox(children=(FloatProgress(value=1.0, bar_style='info', max=1.0), HTML(value='')))"
      ]
     },
     "metadata": {},
     "output_type": "display_data"
    },
    {
     "name": "stdout",
     "output_type": "stream",
     "text": [
      "\n",
      "new_skeleton = (15, 2, 3)\n"
     ]
    },
    {
     "data": {
      "application/vnd.jupyter.widget-view+json": {
       "model_id": "8f0e42caeeaf4d72a9858ca00017e9f0",
       "version_major": 2,
       "version_minor": 0
      },
      "text/plain": [
       "HBox(children=(FloatProgress(value=1.0, bar_style='info', max=1.0), HTML(value='')))"
      ]
     },
     "metadata": {},
     "output_type": "display_data"
    },
    {
     "name": "stdout",
     "output_type": "stream",
     "text": [
      "\n",
      "filtered_measurements = [407.49431432 380.6398036  285.91160692 274.88763456 452.66094026\n",
      " 315.39243733 376.41820738 333.6665697  324.94102796 295.93389236]\n",
      "new_threshold = 1060.1936612951067\n"
     ]
    },
    {
     "data": {
      "application/vnd.jupyter.widget-view+json": {
       "model_id": "224f5332fad94bf7b402009faea57b67",
       "version_major": 2,
       "version_minor": 0
      },
      "text/plain": [
       "HBox(children=(FloatProgress(value=1.0, bar_style='info', max=1.0), HTML(value='')))"
      ]
     },
     "metadata": {},
     "output_type": "display_data"
    },
    {
     "name": "stdout",
     "output_type": "stream",
     "text": [
      "\n",
      "new_skeleton = (8, 2, 3)\n"
     ]
    },
    {
     "data": {
      "application/vnd.jupyter.widget-view+json": {
       "model_id": "dd3ab93df792468496257fa1e93372db",
       "version_major": 2,
       "version_minor": 0
      },
      "text/plain": [
       "HBox(children=(FloatProgress(value=1.0, bar_style='info', max=1.0), HTML(value='')))"
      ]
     },
     "metadata": {},
     "output_type": "display_data"
    },
    {
     "name": "stdout",
     "output_type": "stream",
     "text": [
      "--> Not exactly one containing mesh: []\n",
      "--> Not exactly one containing mesh: []\n",
      "--> Not exactly one containing mesh: []\n",
      "\n",
      "filtered_measurements = [ 70.39199304  88.08495036 112.72509332  83.13153478]\n",
      "new_threshold = 216.58031371824148\n"
     ]
    },
    {
     "data": {
      "application/vnd.jupyter.widget-view+json": {
       "model_id": "b7bb00f5496b48dc80f86b6c729b666b",
       "version_major": 2,
       "version_minor": 0
      },
      "text/plain": [
       "HBox(children=(FloatProgress(value=1.0, bar_style='info', max=1.0), HTML(value='')))"
      ]
     },
     "metadata": {},
     "output_type": "display_data"
    },
    {
     "name": "stdout",
     "output_type": "stream",
     "text": [
      "--> Not exactly one containing mesh: []\n",
      "--> Not exactly one containing mesh: []\n",
      "THERE WERE NO FACES THAT FIT THE DISTANCE (216.58031371824148) and Z transform requirements\n",
      "So just skipping this edge\n",
      "THERE WERE NO FACES THAT FIT THE DISTANCE (216.58031371824148) and Z transform requirements\n",
      "So just skipping this edge\n",
      "THERE WERE NO FACES THAT FIT THE DISTANCE (216.58031371824148) and Z transform requirements\n",
      "So just skipping this edge\n",
      "THERE WERE NO FACES THAT FIT THE DISTANCE (216.58031371824148) and Z transform requirements\n",
      "So just skipping this edge\n",
      "THERE WERE NO FACES THAT FIT THE DISTANCE (216.58031371824148) and Z transform requirements\n",
      "So just skipping this edge\n",
      "THERE WERE NO FACES THAT FIT THE DISTANCE (216.58031371824148) and Z transform requirements\n",
      "So just skipping this edge\n",
      "\n",
      "new_skeleton = (12, 2, 3)\n"
     ]
    },
    {
     "data": {
      "application/vnd.jupyter.widget-view+json": {
       "model_id": "d0652755eb1f4a1f9e327c0ce367518e",
       "version_major": 2,
       "version_minor": 0
      },
      "text/plain": [
       "HBox(children=(FloatProgress(value=1.0, bar_style='info', max=1.0), HTML(value='')))"
      ]
     },
     "metadata": {},
     "output_type": "display_data"
    },
    {
     "name": "stdout",
     "output_type": "stream",
     "text": [
      "--> Not exactly one containing mesh: []\n",
      "\n",
      "filtered_measurements = [70.96304416 75.1843638  79.06982634 76.96670594 89.12874703 80.50681125]\n",
      "new_threshold = 177.2616625898219\n"
     ]
    },
    {
     "data": {
      "application/vnd.jupyter.widget-view+json": {
       "model_id": "98826fce611144c489b0749e7c967ced",
       "version_major": 2,
       "version_minor": 0
      },
      "text/plain": [
       "HBox(children=(FloatProgress(value=1.0, bar_style='info', max=1.0), HTML(value='')))"
      ]
     },
     "metadata": {},
     "output_type": "display_data"
    },
    {
     "name": "stdout",
     "output_type": "stream",
     "text": [
      "--> Not exactly one containing mesh: []\n",
      "--> Not exactly one containing mesh: []\n",
      "--> Not exactly one containing mesh: []\n",
      "\n",
      "new_skeleton = (24, 2, 3)\n"
     ]
    },
    {
     "data": {
      "application/vnd.jupyter.widget-view+json": {
       "model_id": "aea97b3ba55b474ab5529bf6ea532603",
       "version_major": 2,
       "version_minor": 0
      },
      "text/plain": [
       "HBox(children=(FloatProgress(value=1.0, bar_style='info', max=1.0), HTML(value='')))"
      ]
     },
     "metadata": {},
     "output_type": "display_data"
    },
    {
     "name": "stdout",
     "output_type": "stream",
     "text": [
      "\n",
      "filtered_measurements = [552.36403243 545.27688986 541.06920262 447.23338961 450.64179312\n",
      " 666.92638731 452.61638019 674.25015891 452.53847543 444.77217593\n",
      " 445.14461325 400.17700392 411.65923822 403.17177807 549.7093288\n",
      " 533.35187644 441.12207177 486.00601028 533.35668594 420.77032793\n",
      " 444.87476681]\n",
      "new_threshold = 1563.4032400311612\n"
     ]
    },
    {
     "data": {
      "application/vnd.jupyter.widget-view+json": {
       "model_id": "d8480b2281604f1db3069ec6101a0905",
       "version_major": 2,
       "version_minor": 0
      },
      "text/plain": [
       "HBox(children=(FloatProgress(value=1.0, bar_style='info', max=1.0), HTML(value='')))"
      ]
     },
     "metadata": {},
     "output_type": "display_data"
    },
    {
     "name": "stdout",
     "output_type": "stream",
     "text": [
      "\n",
      "new_skeleton = (7, 2, 3)\n"
     ]
    },
    {
     "data": {
      "application/vnd.jupyter.widget-view+json": {
       "model_id": "a08bf32f4d424536b3eb0a3e0731e4fd",
       "version_major": 2,
       "version_minor": 0
      },
      "text/plain": [
       "HBox(children=(FloatProgress(value=1.0, bar_style='info', max=1.0), HTML(value='')))"
      ]
     },
     "metadata": {},
     "output_type": "display_data"
    },
    {
     "name": "stdout",
     "output_type": "stream",
     "text": [
      "\n",
      "filtered_measurements = [135.38825743  54.59594603 201.30508551 125.00520453]\n",
      "new_threshold = 532.568036101848\n"
     ]
    },
    {
     "data": {
      "application/vnd.jupyter.widget-view+json": {
       "model_id": "57dae39acca649c2a51e8be9715b70ca",
       "version_major": 2,
       "version_minor": 0
      },
      "text/plain": [
       "HBox(children=(FloatProgress(value=1.0, bar_style='info', max=1.0), HTML(value='')))"
      ]
     },
     "metadata": {},
     "output_type": "display_data"
    },
    {
     "name": "stdout",
     "output_type": "stream",
     "text": [
      "\n",
      "new_skeleton = (6, 2, 3)\n"
     ]
    },
    {
     "data": {
      "application/vnd.jupyter.widget-view+json": {
       "model_id": "ca205088b8c341bf91bf9065c692a627",
       "version_major": 2,
       "version_minor": 0
      },
      "text/plain": [
       "HBox(children=(FloatProgress(value=1.0, bar_style='info', max=1.0), HTML(value='')))"
      ]
     },
     "metadata": {},
     "output_type": "display_data"
    },
    {
     "name": "stdout",
     "output_type": "stream",
     "text": [
      "--> Not exactly one containing mesh: [0 2]\n",
      "\n",
      "filtered_measurements = [94.11995491 59.16850707]\n",
      "new_threshold = 213.09427227715207\n"
     ]
    },
    {
     "data": {
      "application/vnd.jupyter.widget-view+json": {
       "model_id": "ebbb5c434c3c41f8a514935be282b0d2",
       "version_major": 2,
       "version_minor": 0
      },
      "text/plain": [
       "HBox(children=(FloatProgress(value=1.0, bar_style='info', max=1.0), HTML(value='')))"
      ]
     },
     "metadata": {},
     "output_type": "display_data"
    },
    {
     "name": "stdout",
     "output_type": "stream",
     "text": [
      "--> Not exactly one containing mesh: []\n",
      "--> Not exactly one containing mesh: []\n",
      "--> Not exactly one containing mesh: []\n",
      "\n",
      "new_skeleton = (6, 2, 3)\n"
     ]
    },
    {
     "data": {
      "application/vnd.jupyter.widget-view+json": {
       "model_id": "243d55e5fdfc45cfa448098875178077",
       "version_major": 2,
       "version_minor": 0
      },
      "text/plain": [
       "HBox(children=(FloatProgress(value=1.0, bar_style='info', max=1.0), HTML(value='')))"
      ]
     },
     "metadata": {},
     "output_type": "display_data"
    },
    {
     "name": "stdout",
     "output_type": "stream",
     "text": [
      "\n",
      "filtered_measurements = [ 80.58106064 123.3782764   77.57273722]\n",
      "new_threshold = 226.99599293151647\n"
     ]
    },
    {
     "data": {
      "application/vnd.jupyter.widget-view+json": {
       "model_id": "57a760d9a4c54a0592b57d1b4cb0a484",
       "version_major": 2,
       "version_minor": 0
      },
      "text/plain": [
       "HBox(children=(FloatProgress(value=1.0, bar_style='info', max=1.0), HTML(value='')))"
      ]
     },
     "metadata": {},
     "output_type": "display_data"
    },
    {
     "name": "stdout",
     "output_type": "stream",
     "text": [
      "\n",
      "new_skeleton = (7, 2, 3)\n"
     ]
    },
    {
     "data": {
      "application/vnd.jupyter.widget-view+json": {
       "model_id": "5b09cfe96d9c4ab5aa89f767e4f020ff",
       "version_major": 2,
       "version_minor": 0
      },
      "text/plain": [
       "HBox(children=(FloatProgress(value=1.0, bar_style='info', max=1.0), HTML(value='')))"
      ]
     },
     "metadata": {},
     "output_type": "display_data"
    },
    {
     "name": "stdout",
     "output_type": "stream",
     "text": [
      "--> Not exactly one containing mesh: [0 1]\n",
      "\n",
      "filtered_measurements = [49.26209451 47.88588764 71.69940338 78.92956795]\n",
      "new_threshold = 144.77985359650336\n"
     ]
    },
    {
     "data": {
      "application/vnd.jupyter.widget-view+json": {
       "model_id": "cee1cec897794fe7b66180d876908012",
       "version_major": 2,
       "version_minor": 0
      },
      "text/plain": [
       "HBox(children=(FloatProgress(value=1.0, bar_style='info', max=1.0), HTML(value='')))"
      ]
     },
     "metadata": {},
     "output_type": "display_data"
    },
    {
     "name": "stdout",
     "output_type": "stream",
     "text": [
      "--> Not exactly one containing mesh: []\n",
      "\n",
      "new_skeleton = (2, 2, 3)\n"
     ]
    },
    {
     "data": {
      "application/vnd.jupyter.widget-view+json": {
       "model_id": "e605d0c6334c431798d23e7a2febf002",
       "version_major": 2,
       "version_minor": 0
      },
      "text/plain": [
       "HBox(children=(FloatProgress(value=1.0, bar_style='info', max=1.0), HTML(value='')))"
      ]
     },
     "metadata": {},
     "output_type": "display_data"
    },
    {
     "name": "stdout",
     "output_type": "stream",
     "text": [
      "\n",
      "filtered_measurements = [230.03559817]\n",
      "new_threshold = 453.7467950504341\n"
     ]
    },
    {
     "data": {
      "application/vnd.jupyter.widget-view+json": {
       "model_id": "6836d71d5ea24933b059ac2dbf28eb3f",
       "version_major": 2,
       "version_minor": 0
      },
      "text/plain": [
       "HBox(children=(FloatProgress(value=1.0, bar_style='info', max=1.0), HTML(value='')))"
      ]
     },
     "metadata": {},
     "output_type": "display_data"
    },
    {
     "name": "stdout",
     "output_type": "stream",
     "text": [
      "\n",
      "new_skeleton = (17, 2, 3)\n"
     ]
    },
    {
     "data": {
      "application/vnd.jupyter.widget-view+json": {
       "model_id": "c527ad0bbe87441bb5c4e80a8e30a06e",
       "version_major": 2,
       "version_minor": 0
      },
      "text/plain": [
       "HBox(children=(FloatProgress(value=1.0, bar_style='info', max=1.0), HTML(value='')))"
      ]
     },
     "metadata": {},
     "output_type": "display_data"
    },
    {
     "name": "stdout",
     "output_type": "stream",
     "text": [
      "\n",
      "filtered_measurements = [146.65456264  87.2371686  104.04917538  98.0784863  104.20823683\n",
      "  85.00236519 141.96390666 117.79777905  94.22378062  79.75023435\n",
      "  87.98110936]\n",
      "new_threshold = 278.7755847227598\n"
     ]
    },
    {
     "data": {
      "application/vnd.jupyter.widget-view+json": {
       "model_id": "f7eabec520974bbdafcc2734c429db14",
       "version_major": 2,
       "version_minor": 0
      },
      "text/plain": [
       "HBox(children=(FloatProgress(value=1.0, bar_style='info', max=1.0), HTML(value='')))"
      ]
     },
     "metadata": {},
     "output_type": "display_data"
    },
    {
     "name": "stdout",
     "output_type": "stream",
     "text": [
      "\n",
      "new_skeleton = (64, 2, 3)\n"
     ]
    },
    {
     "data": {
      "application/vnd.jupyter.widget-view+json": {
       "model_id": "214c42a6a18f437fbb27e4c9f9e36d50",
       "version_major": 2,
       "version_minor": 0
      },
      "text/plain": [
       "HBox(children=(FloatProgress(value=1.0, bar_style='info', max=1.0), HTML(value='')))"
      ]
     },
     "metadata": {},
     "output_type": "display_data"
    },
    {
     "name": "stdout",
     "output_type": "stream",
     "text": [
      "--> Not exactly one containing mesh: [0 1]\n",
      "--> Not exactly one containing mesh: []\n",
      "\n",
      "filtered_measurements = [ 73.95382107 105.60863998  61.31267194  63.27964861  81.09412465\n",
      "  65.72553151 165.22572193 137.39666052 104.89312479  76.40797444\n",
      " 150.92707068  82.08054824 120.94468409 103.57097088 118.01110442\n",
      " 144.59230376 114.05055269 110.59404161  95.35645434 100.55097595\n",
      "  96.77863502 110.58485422 146.07654779 130.32652954  97.26979877\n",
      "  77.57401936 121.62664347 100.97360341 122.49423457  78.53903184\n",
      "  77.1088578  124.8104505   88.80736974 117.20126469 140.51792219\n",
      "  75.54736619 130.15069057 128.9080108  105.01597278  79.59933074\n",
      " 137.16795367  87.6390013  147.34451912  72.87822087 124.14786333\n",
      "  84.56394735  85.24534994 109.86990504  78.87650635 152.55168638\n",
      " 157.43329711  94.25182527  90.85015058]\n",
      "new_threshold = 383.5090218207249\n"
     ]
    },
    {
     "data": {
      "application/vnd.jupyter.widget-view+json": {
       "model_id": "f3e69843d56945c1b528499b24f5b772",
       "version_major": 2,
       "version_minor": 0
      },
      "text/plain": [
       "HBox(children=(FloatProgress(value=1.0, bar_style='info', max=1.0), HTML(value='')))"
      ]
     },
     "metadata": {},
     "output_type": "display_data"
    },
    {
     "name": "stdout",
     "output_type": "stream",
     "text": [
      "--> Not exactly one containing mesh: []\n",
      "--> Not exactly one containing mesh: []\n",
      "\n",
      "new_skeleton = (15, 2, 3)\n"
     ]
    },
    {
     "data": {
      "application/vnd.jupyter.widget-view+json": {
       "model_id": "5ae7fbd7f16c4ddb99edb51f7966b575",
       "version_major": 2,
       "version_minor": 0
      },
      "text/plain": [
       "HBox(children=(FloatProgress(value=1.0, bar_style='info', max=1.0), HTML(value='')))"
      ]
     },
     "metadata": {},
     "output_type": "display_data"
    },
    {
     "name": "stdout",
     "output_type": "stream",
     "text": [
      "--> Not exactly one containing mesh: [0 1]\n",
      "--> Not exactly one containing mesh: [0 1]\n",
      "\n",
      "filtered_measurements = [113.7507808  164.61437722 101.69098846 103.11825181 106.83770559\n",
      "  78.65917722 125.9469957  128.15724991 110.46470924 114.84278252\n",
      "  90.47490133]\n",
      "new_threshold = 320.5102767566776\n"
     ]
    },
    {
     "data": {
      "application/vnd.jupyter.widget-view+json": {
       "model_id": "06d88e79dfaf452e8a668bc48b360ca9",
       "version_major": 2,
       "version_minor": 0
      },
      "text/plain": [
       "HBox(children=(FloatProgress(value=1.0, bar_style='info', max=1.0), HTML(value='')))"
      ]
     },
     "metadata": {},
     "output_type": "display_data"
    },
    {
     "name": "stdout",
     "output_type": "stream",
     "text": [
      "--> Not exactly one containing mesh: []\n",
      "\n",
      "new_skeleton = (26, 2, 3)\n"
     ]
    },
    {
     "data": {
      "application/vnd.jupyter.widget-view+json": {
       "model_id": "4e520f90efe049b08a89c2b543a84710",
       "version_major": 2,
       "version_minor": 0
      },
      "text/plain": [
       "HBox(children=(FloatProgress(value=1.0, bar_style='info', max=1.0), HTML(value='')))"
      ]
     },
     "metadata": {},
     "output_type": "display_data"
    },
    {
     "name": "stdout",
     "output_type": "stream",
     "text": [
      "\n",
      "filtered_measurements = [699.99447229 768.52839832 816.21347251 890.66032308 679.49290881\n",
      " 647.36761276 586.10773797 620.06217381 835.26698014 641.32262792\n",
      " 700.90433446 705.09429121 619.70936355 660.76958958 631.04065982\n",
      " 652.32662442 686.89560771 646.12975927 670.29450615 648.84299002\n",
      " 603.25729979 643.94140714 627.21494344 712.73891007]\n",
      "new_threshold = 1811.609332844249\n"
     ]
    },
    {
     "data": {
      "application/vnd.jupyter.widget-view+json": {
       "model_id": "8d4219b32e8d4870aef8a9f036fe4fa6",
       "version_major": 2,
       "version_minor": 0
      },
      "text/plain": [
       "HBox(children=(FloatProgress(value=1.0, bar_style='info', max=1.0), HTML(value='')))"
      ]
     },
     "metadata": {},
     "output_type": "display_data"
    },
    {
     "name": "stdout",
     "output_type": "stream",
     "text": [
      "\n",
      "new_skeleton = (7, 2, 3)\n"
     ]
    },
    {
     "data": {
      "application/vnd.jupyter.widget-view+json": {
       "model_id": "a9bf33f032ca4f50b304efe6b59f8af8",
       "version_major": 2,
       "version_minor": 0
      },
      "text/plain": [
       "HBox(children=(FloatProgress(value=1.0, bar_style='info', max=1.0), HTML(value='')))"
      ]
     },
     "metadata": {},
     "output_type": "display_data"
    },
    {
     "name": "stdout",
     "output_type": "stream",
     "text": [
      "\n",
      "filtered_measurements = [572.30573831 702.63552543 754.05493148 693.13752518 790.17683528]\n",
      "new_threshold = 1631.8777729831522\n"
     ]
    },
    {
     "data": {
      "application/vnd.jupyter.widget-view+json": {
       "model_id": "deb6ba868bb74f25bb2f1b8f1dd2f43d",
       "version_major": 2,
       "version_minor": 0
      },
      "text/plain": [
       "HBox(children=(FloatProgress(value=1.0, bar_style='info', max=1.0), HTML(value='')))"
      ]
     },
     "metadata": {},
     "output_type": "display_data"
    },
    {
     "name": "stdout",
     "output_type": "stream",
     "text": [
      "\n",
      "new_skeleton = (9, 2, 3)\n"
     ]
    },
    {
     "data": {
      "application/vnd.jupyter.widget-view+json": {
       "model_id": "9247a62c0040418a8c9ee1c30f39cd0a",
       "version_major": 2,
       "version_minor": 0
      },
      "text/plain": [
       "HBox(children=(FloatProgress(value=1.0, bar_style='info', max=1.0), HTML(value='')))"
      ]
     },
     "metadata": {},
     "output_type": "display_data"
    },
    {
     "name": "stdout",
     "output_type": "stream",
     "text": [
      "\n",
      "filtered_measurements = [576.77446798 373.30812826 360.33653809 447.32591568 443.05919199\n",
      " 381.72211612]\n",
      "new_threshold = 1223.4146911699859\n"
     ]
    },
    {
     "data": {
      "application/vnd.jupyter.widget-view+json": {
       "model_id": "3ea9ab8904a14680ba4873111bcd1bf1",
       "version_major": 2,
       "version_minor": 0
      },
      "text/plain": [
       "HBox(children=(FloatProgress(value=1.0, bar_style='info', max=1.0), HTML(value='')))"
      ]
     },
     "metadata": {},
     "output_type": "display_data"
    },
    {
     "name": "stdout",
     "output_type": "stream",
     "text": [
      "\n",
      "new_skeleton = (5, 2, 3)\n"
     ]
    },
    {
     "data": {
      "application/vnd.jupyter.widget-view+json": {
       "model_id": "58ea1bd5b55541d49ac05ee6beafc00b",
       "version_major": 2,
       "version_minor": 0
      },
      "text/plain": [
       "HBox(children=(FloatProgress(value=1.0, bar_style='info', max=1.0), HTML(value='')))"
      ]
     },
     "metadata": {},
     "output_type": "display_data"
    },
    {
     "name": "stdout",
     "output_type": "stream",
     "text": [
      "\n",
      "filtered_measurements = [ 872.07673294  786.18142819 1150.27164034]\n",
      "new_threshold = 2212.684426155048\n"
     ]
    },
    {
     "data": {
      "application/vnd.jupyter.widget-view+json": {
       "model_id": "33599e1f42ed48cb8ceb154e875cab36",
       "version_major": 2,
       "version_minor": 0
      },
      "text/plain": [
       "HBox(children=(FloatProgress(value=1.0, bar_style='info', max=1.0), HTML(value='')))"
      ]
     },
     "metadata": {},
     "output_type": "display_data"
    },
    {
     "name": "stdout",
     "output_type": "stream",
     "text": [
      "\n",
      "new_skeleton = (6, 2, 3)\n"
     ]
    },
    {
     "data": {
      "application/vnd.jupyter.widget-view+json": {
       "model_id": "0c787ca1709a4d4f9866021d227d57c3",
       "version_major": 2,
       "version_minor": 0
      },
      "text/plain": [
       "HBox(children=(FloatProgress(value=1.0, bar_style='info', max=1.0), HTML(value='')))"
      ]
     },
     "metadata": {},
     "output_type": "display_data"
    },
    {
     "name": "stdout",
     "output_type": "stream",
     "text": [
      "\n",
      "filtered_measurements = [1462.81502674 1371.1539204  1811.81755692 1735.54613275]\n",
      "new_threshold = 3447.286464700203\n"
     ]
    },
    {
     "data": {
      "application/vnd.jupyter.widget-view+json": {
       "model_id": "fed824243a074947b2edeaba63890d06",
       "version_major": 2,
       "version_minor": 0
      },
      "text/plain": [
       "HBox(children=(FloatProgress(value=1.0, bar_style='info', max=1.0), HTML(value='')))"
      ]
     },
     "metadata": {},
     "output_type": "display_data"
    },
    {
     "name": "stdout",
     "output_type": "stream",
     "text": [
      "\n",
      "new_skeleton = (24, 2, 3)\n"
     ]
    },
    {
     "data": {
      "application/vnd.jupyter.widget-view+json": {
       "model_id": "d3ab1e0fb85042d4a6061e3ac2ca7091",
       "version_major": 2,
       "version_minor": 0
      },
      "text/plain": [
       "HBox(children=(FloatProgress(value=1.0, bar_style='info', max=1.0), HTML(value='')))"
      ]
     },
     "metadata": {},
     "output_type": "display_data"
    },
    {
     "name": "stdout",
     "output_type": "stream",
     "text": [
      "\n",
      "filtered_measurements = [520.46486357 649.58669891 533.04547048 470.50861172 550.09418587\n",
      " 440.32522826 498.871177   487.88557877 388.51595264 404.19978962\n",
      " 416.17070047 503.67129896 496.55920448 383.16314109 515.63813299\n",
      " 383.63545701 624.66631049 452.11810396]\n",
      "new_threshold = 1522.507033828274\n"
     ]
    },
    {
     "data": {
      "application/vnd.jupyter.widget-view+json": {
       "model_id": "ede7afeed5f446c9b6125daec126a984",
       "version_major": 2,
       "version_minor": 0
      },
      "text/plain": [
       "HBox(children=(FloatProgress(value=1.0, bar_style='info', max=1.0), HTML(value='')))"
      ]
     },
     "metadata": {},
     "output_type": "display_data"
    },
    {
     "name": "stdout",
     "output_type": "stream",
     "text": [
      "\n",
      "new_skeleton = (9, 2, 3)\n"
     ]
    },
    {
     "data": {
      "application/vnd.jupyter.widget-view+json": {
       "model_id": "d2ff271890584e3c92970aaf6da7eece",
       "version_major": 2,
       "version_minor": 0
      },
      "text/plain": [
       "HBox(children=(FloatProgress(value=1.0, bar_style='info', max=1.0), HTML(value='')))"
      ]
     },
     "metadata": {},
     "output_type": "display_data"
    },
    {
     "name": "stdout",
     "output_type": "stream",
     "text": [
      "\n",
      "filtered_measurements = [126.3578755  138.51010835 217.16157409 123.22370518 179.42781503\n",
      " 261.86282936]\n",
      "new_threshold = 664.6354711291697\n"
     ]
    },
    {
     "data": {
      "application/vnd.jupyter.widget-view+json": {
       "model_id": "0159f0e8144d443aa9d8984125c32c33",
       "version_major": 2,
       "version_minor": 0
      },
      "text/plain": [
       "HBox(children=(FloatProgress(value=1.0, bar_style='info', max=1.0), HTML(value='')))"
      ]
     },
     "metadata": {},
     "output_type": "display_data"
    },
    {
     "name": "stdout",
     "output_type": "stream",
     "text": [
      "\n",
      "new_skeleton = (10, 2, 3)\n"
     ]
    },
    {
     "data": {
      "application/vnd.jupyter.widget-view+json": {
       "model_id": "57a4a6fc37e64d689d61d388ec760157",
       "version_major": 2,
       "version_minor": 0
      },
      "text/plain": [
       "HBox(children=(FloatProgress(value=1.0, bar_style='info', max=1.0), HTML(value='')))"
      ]
     },
     "metadata": {},
     "output_type": "display_data"
    },
    {
     "name": "stdout",
     "output_type": "stream",
     "text": [
      "\n",
      "filtered_measurements = [152.58029332  94.96108397 100.22246137  88.10578038  89.80511205\n",
      " 111.02887896]\n",
      "new_threshold = 354.5236241091375\n"
     ]
    },
    {
     "data": {
      "application/vnd.jupyter.widget-view+json": {
       "model_id": "1f85ac8578c344cf8c5f2a8f8cfd6ec9",
       "version_major": 2,
       "version_minor": 0
      },
      "text/plain": [
       "HBox(children=(FloatProgress(value=1.0, bar_style='info', max=1.0), HTML(value='')))"
      ]
     },
     "metadata": {},
     "output_type": "display_data"
    },
    {
     "name": "stdout",
     "output_type": "stream",
     "text": [
      "--> Not exactly one containing mesh: []\n",
      "--> Not exactly one containing mesh: []\n",
      "\n",
      "new_skeleton = (22, 2, 3)\n"
     ]
    },
    {
     "data": {
      "application/vnd.jupyter.widget-view+json": {
       "model_id": "9f361472df164445b1b4ab959e86e5ed",
       "version_major": 2,
       "version_minor": 0
      },
      "text/plain": [
       "HBox(children=(FloatProgress(value=1.0, bar_style='info', max=1.0), HTML(value='')))"
      ]
     },
     "metadata": {},
     "output_type": "display_data"
    },
    {
     "name": "stdout",
     "output_type": "stream",
     "text": [
      "\n",
      "filtered_measurements = [386.27636378 619.5125888  785.61412942 640.42374957 496.4838666\n",
      " 454.70938369 720.04859675 385.88269262 848.05141185 759.82119843\n",
      " 428.35520581 562.90533715 401.62402156 599.64242176 575.24206984\n",
      " 439.13713155 582.51221744 469.74258707 470.06023669]\n",
      "new_threshold = 2061.3808197587987\n"
     ]
    },
    {
     "data": {
      "application/vnd.jupyter.widget-view+json": {
       "model_id": "a386eec2b6ba4e7a983a00809c6c1f4a",
       "version_major": 2,
       "version_minor": 0
      },
      "text/plain": [
       "HBox(children=(FloatProgress(value=1.0, bar_style='info', max=1.0), HTML(value='')))"
      ]
     },
     "metadata": {},
     "output_type": "display_data"
    },
    {
     "name": "stdout",
     "output_type": "stream",
     "text": [
      "\n",
      "new_skeleton = (6, 2, 3)\n"
     ]
    },
    {
     "data": {
      "application/vnd.jupyter.widget-view+json": {
       "model_id": "2abcdaaa28b24849b5a237200a325a86",
       "version_major": 2,
       "version_minor": 0
      },
      "text/plain": [
       "HBox(children=(FloatProgress(value=1.0, bar_style='info', max=1.0), HTML(value='')))"
      ]
     },
     "metadata": {},
     "output_type": "display_data"
    },
    {
     "name": "stdout",
     "output_type": "stream",
     "text": [
      "--> Not exactly one containing mesh: []\n",
      "\n",
      "filtered_measurements = [435.46761082 313.29552955]\n",
      "new_threshold = 842.0969937470127\n"
     ]
    },
    {
     "data": {
      "application/vnd.jupyter.widget-view+json": {
       "model_id": "d08bc299904f49a9b66352efb24db7a8",
       "version_major": 2,
       "version_minor": 0
      },
      "text/plain": [
       "HBox(children=(FloatProgress(value=1.0, bar_style='info', max=1.0), HTML(value='')))"
      ]
     },
     "metadata": {},
     "output_type": "display_data"
    },
    {
     "name": "stdout",
     "output_type": "stream",
     "text": [
      "--> Not exactly one containing mesh: []\n",
      "\n",
      "new_skeleton = (12, 2, 3)\n"
     ]
    },
    {
     "data": {
      "application/vnd.jupyter.widget-view+json": {
       "model_id": "d2a938ba57ed48e99e58ce7759902bf4",
       "version_major": 2,
       "version_minor": 0
      },
      "text/plain": [
       "HBox(children=(FloatProgress(value=1.0, bar_style='info', max=1.0), HTML(value='')))"
      ]
     },
     "metadata": {},
     "output_type": "display_data"
    },
    {
     "name": "stdout",
     "output_type": "stream",
     "text": [
      "\n",
      "filtered_measurements = [473.80102751 368.33721016 310.53938402 554.98691249 394.36648418\n",
      " 353.51949767]\n",
      "new_threshold = 1023.0410729792899\n"
     ]
    },
    {
     "data": {
      "application/vnd.jupyter.widget-view+json": {
       "model_id": "aff929fa0050430a80e2c0d68a9dffa9",
       "version_major": 2,
       "version_minor": 0
      },
      "text/plain": [
       "HBox(children=(FloatProgress(value=1.0, bar_style='info', max=1.0), HTML(value='')))"
      ]
     },
     "metadata": {},
     "output_type": "display_data"
    },
    {
     "name": "stdout",
     "output_type": "stream",
     "text": [
      "\n",
      "new_skeleton = (8, 2, 3)\n"
     ]
    },
    {
     "data": {
      "application/vnd.jupyter.widget-view+json": {
       "model_id": "ffcd40a4291e47feb44e23068ed9b2a0",
       "version_major": 2,
       "version_minor": 0
      },
      "text/plain": [
       "HBox(children=(FloatProgress(value=1.0, bar_style='info', max=1.0), HTML(value='')))"
      ]
     },
     "metadata": {},
     "output_type": "display_data"
    },
    {
     "name": "stdout",
     "output_type": "stream",
     "text": [
      "\n",
      "filtered_measurements = [193.71866598 132.40011222 135.05467606 139.57133146 111.72340823]\n",
      "new_threshold = 365.0234981050354\n"
     ]
    },
    {
     "data": {
      "application/vnd.jupyter.widget-view+json": {
       "model_id": "508e0612bfdc4686a562ab85b11e673b",
       "version_major": 2,
       "version_minor": 0
      },
      "text/plain": [
       "HBox(children=(FloatProgress(value=1.0, bar_style='info', max=1.0), HTML(value='')))"
      ]
     },
     "metadata": {},
     "output_type": "display_data"
    },
    {
     "name": "stdout",
     "output_type": "stream",
     "text": [
      "--> Not exactly one containing mesh: []\n",
      "\n",
      "new_skeleton = (10, 2, 3)\n"
     ]
    },
    {
     "data": {
      "application/vnd.jupyter.widget-view+json": {
       "model_id": "dc3d45c0d6994aca8c90805ddd21cb19",
       "version_major": 2,
       "version_minor": 0
      },
      "text/plain": [
       "HBox(children=(FloatProgress(value=1.0, bar_style='info', max=1.0), HTML(value='')))"
      ]
     },
     "metadata": {},
     "output_type": "display_data"
    },
    {
     "name": "stdout",
     "output_type": "stream",
     "text": [
      "--> Not exactly one containing mesh: [0 1]\n",
      "--> Not exactly one containing mesh: []\n",
      "\n",
      "filtered_measurements = [ 76.23220411  73.24122599  86.55148433  74.83791101 114.87622249\n",
      " 107.3810477   76.50431072  95.1242981 ]\n",
      "new_threshold = 211.43507127682236\n"
     ]
    },
    {
     "data": {
      "application/vnd.jupyter.widget-view+json": {
       "model_id": "e7ca30e4b0e249b78ab41acb410a5237",
       "version_major": 2,
       "version_minor": 0
      },
      "text/plain": [
       "HBox(children=(FloatProgress(value=1.0, bar_style='info', max=1.0), HTML(value='')))"
      ]
     },
     "metadata": {},
     "output_type": "display_data"
    },
    {
     "name": "stdout",
     "output_type": "stream",
     "text": [
      "--> Not exactly one containing mesh: []\n",
      "\n",
      "new_skeleton = (2, 2, 3)\n"
     ]
    },
    {
     "data": {
      "application/vnd.jupyter.widget-view+json": {
       "model_id": "e30d756e1e2c4150b77c2a92e3692c12",
       "version_major": 2,
       "version_minor": 0
      },
      "text/plain": [
       "HBox(children=(FloatProgress(value=1.0, bar_style='info', max=1.0), HTML(value='')))"
      ]
     },
     "metadata": {},
     "output_type": "display_data"
    },
    {
     "name": "stdout",
     "output_type": "stream",
     "text": [
      "\n",
      "filtered_measurements = [ 714.91753646 1029.31540178]\n",
      "new_threshold = 2604.6741791680874\n"
     ]
    },
    {
     "data": {
      "application/vnd.jupyter.widget-view+json": {
       "model_id": "65a4d5d7357d4d6db98921a7f8005614",
       "version_major": 2,
       "version_minor": 0
      },
      "text/plain": [
       "HBox(children=(FloatProgress(value=1.0, bar_style='info', max=1.0), HTML(value='')))"
      ]
     },
     "metadata": {},
     "output_type": "display_data"
    },
    {
     "name": "stdout",
     "output_type": "stream",
     "text": [
      "\n",
      "new_skeleton = (54, 2, 3)\n"
     ]
    },
    {
     "data": {
      "application/vnd.jupyter.widget-view+json": {
       "model_id": "db4fae1ba60d4819af3d0c12ac442cb2",
       "version_major": 2,
       "version_minor": 0
      },
      "text/plain": [
       "HBox(children=(FloatProgress(value=1.0, bar_style='info', max=1.0), HTML(value='')))"
      ]
     },
     "metadata": {},
     "output_type": "display_data"
    },
    {
     "name": "stdout",
     "output_type": "stream",
     "text": [
      "\n",
      "filtered_measurements = [486.25850307 357.49744269 580.40009713 330.77161251 493.03123694\n",
      " 519.93018188 322.47464671 384.03308507 419.36599975 382.41270355\n",
      " 289.08029867 477.67870178 534.20421377 604.22169865 407.96458091\n",
      " 687.74304028 479.27770989 427.81618385 569.3457158  341.42684753\n",
      " 544.99891251 659.17022041 404.34631503 484.99085402 599.20482019\n",
      " 271.49949587 253.87924472 247.52323747 316.39832384 577.8144016\n",
      " 447.16145623 314.6339466  452.08692405 568.50861422 506.57479433\n",
      " 529.9261969  266.68324568 327.97445226 303.77291608 476.921569\n",
      " 535.74391508 433.71171173 415.59823469 410.63161584 663.09615277\n",
      " 287.25337762 406.7585189  569.22145664]\n",
      "new_threshold = 1722.6804236607147\n"
     ]
    },
    {
     "data": {
      "application/vnd.jupyter.widget-view+json": {
       "model_id": "425f7778ba6649dbb783c70dc1dc326e",
       "version_major": 2,
       "version_minor": 0
      },
      "text/plain": [
       "HBox(children=(FloatProgress(value=1.0, bar_style='info', max=1.0), HTML(value='')))"
      ]
     },
     "metadata": {},
     "output_type": "display_data"
    },
    {
     "name": "stdout",
     "output_type": "stream",
     "text": [
      "\n"
     ]
    },
    {
     "data": {
      "application/vnd.jupyter.widget-view+json": {
       "model_id": "bb11604f825249e8a26e993e689e8c5a",
       "version_major": 2,
       "version_minor": 0
      },
      "text/plain": [
       "HBox(children=(FloatProgress(value=1.0, bar_style='info', max=1.0), HTML(value='')))"
      ]
     },
     "metadata": {},
     "output_type": "display_data"
    },
    {
     "name": "stdout",
     "output_type": "stream",
     "text": [
      "\n",
      "filtered_measurements = [1495.9536119]\n",
      "new_threshold = 3208.5209999286117\n"
     ]
    },
    {
     "data": {
      "application/vnd.jupyter.widget-view+json": {
       "model_id": "223951f4561a405dbf09a156140771f6",
       "version_major": 2,
       "version_minor": 0
      },
      "text/plain": [
       "HBox(children=(FloatProgress(value=1.0, bar_style='info', max=1.0), HTML(value='')))"
      ]
     },
     "metadata": {},
     "output_type": "display_data"
    },
    {
     "name": "stdout",
     "output_type": "stream",
     "text": [
      "\n",
      "\n",
      "Working on limb #4\n"
     ]
    },
    {
     "data": {
      "application/vnd.jupyter.widget-view+json": {
       "model_id": "31d3c2f9353c437eb7a207f95cb8a32e",
       "version_major": 2,
       "version_minor": 0
      },
      "text/plain": [
       "HBox(children=(FloatProgress(value=1.0, bar_style='info', max=1.0), HTML(value='')))"
      ]
     },
     "metadata": {},
     "output_type": "display_data"
    },
    {
     "name": "stdout",
     "output_type": "stream",
     "text": [
      "new_skeleton = (56, 2, 3)\n"
     ]
    },
    {
     "data": {
      "application/vnd.jupyter.widget-view+json": {
       "model_id": "ca3792d8239a49ed8108dc973f48213a",
       "version_major": 2,
       "version_minor": 0
      },
      "text/plain": [
       "HBox(children=(FloatProgress(value=1.0, bar_style='info', max=1.0), HTML(value='')))"
      ]
     },
     "metadata": {},
     "output_type": "display_data"
    },
    {
     "name": "stdout",
     "output_type": "stream",
     "text": [
      "\n",
      "filtered_measurements = [350.66727228 526.85228864 313.80506668 327.39535802 387.03626898\n",
      " 519.88232175 331.43880291 532.97011635 464.217213   277.44905665\n",
      " 360.18235366 533.82858563 369.83159857 405.43203791 326.30354612\n",
      " 224.99555156 323.51273448 341.82032571 470.96093932 268.6539057\n",
      " 302.04978469 259.52761419 356.87902066 370.70932502 435.31403596\n",
      " 217.43955141 291.20744643 376.01603539 483.36506524 316.24245712\n",
      " 375.45360155 272.19910703 199.55648224 296.5374464  258.34353012\n",
      " 275.79608854 251.57632212 221.39455464 263.24827107 290.3882133\n",
      " 357.87885312 172.19776252 438.64278416]\n",
      "new_threshold = 1367.148637636476\n"
     ]
    },
    {
     "data": {
      "application/vnd.jupyter.widget-view+json": {
       "model_id": "1a74ddac3c3c44179bfbace4f8f3e903",
       "version_major": 2,
       "version_minor": 0
      },
      "text/plain": [
       "HBox(children=(FloatProgress(value=1.0, bar_style='info', max=1.0), HTML(value='')))"
      ]
     },
     "metadata": {},
     "output_type": "display_data"
    },
    {
     "name": "stdout",
     "output_type": "stream",
     "text": [
      "\n",
      "new_skeleton = (16, 2, 3)\n"
     ]
    },
    {
     "data": {
      "application/vnd.jupyter.widget-view+json": {
       "model_id": "dbba850eeb0a4360bffb44d39b50e4b5",
       "version_major": 2,
       "version_minor": 0
      },
      "text/plain": [
       "HBox(children=(FloatProgress(value=1.0, bar_style='info', max=1.0), HTML(value='')))"
      ]
     },
     "metadata": {},
     "output_type": "display_data"
    },
    {
     "name": "stdout",
     "output_type": "stream",
     "text": [
      "--> Not exactly one containing mesh: []\n",
      "--> Not exactly one containing mesh: []\n",
      "\n",
      "filtered_measurements = [117.0432914   62.41743463  50.56314734 100.42432557 133.66762754\n",
      " 149.3202208   91.76219081  74.02281119  76.85917361  77.7258812 ]\n",
      "new_threshold = 390.833196054048\n"
     ]
    },
    {
     "data": {
      "application/vnd.jupyter.widget-view+json": {
       "model_id": "37d37f8ef3bf4fc7a430eb7e140f7225",
       "version_major": 2,
       "version_minor": 0
      },
      "text/plain": [
       "HBox(children=(FloatProgress(value=1.0, bar_style='info', max=1.0), HTML(value='')))"
      ]
     },
     "metadata": {},
     "output_type": "display_data"
    },
    {
     "name": "stdout",
     "output_type": "stream",
     "text": [
      "--> Not exactly one containing mesh: []\n",
      "--> Not exactly one containing mesh: []\n",
      "--> Not exactly one containing mesh: []\n",
      "--> Not exactly one containing mesh: []\n",
      "\n",
      "new_skeleton = (57, 2, 3)\n"
     ]
    },
    {
     "data": {
      "application/vnd.jupyter.widget-view+json": {
       "model_id": "dcc4d005bc2547e8b16d2e8e3a79d51d",
       "version_major": 2,
       "version_minor": 0
      },
      "text/plain": [
       "HBox(children=(FloatProgress(value=1.0, bar_style='info', max=1.0), HTML(value='')))"
      ]
     },
     "metadata": {},
     "output_type": "display_data"
    },
    {
     "name": "stdout",
     "output_type": "stream",
     "text": [
      "\n",
      "filtered_measurements = [ 83.82881375  57.16007677 157.07598908 216.61940638 217.04369631\n",
      " 136.31593426 218.99536667 300.84983599 170.31590491 218.42036993\n",
      " 167.96355847 262.68912235 253.44991716 310.8683149  308.93153905\n",
      " 205.90542707 165.7398941  130.70156853 160.43759797 167.88323772\n",
      " 230.86808084 240.63923989 340.71845175 338.04494037 188.65684537\n",
      " 239.79918552 228.57121871 329.26963271 214.91344707 249.4685206\n",
      " 316.29111811 189.59826355 189.34990658 232.81123086 296.41848804\n",
      " 242.04634104 170.29040405 197.15400119 195.77726891 194.77875733\n",
      " 212.45142806]\n",
      "new_threshold = 717.8409092525958\n"
     ]
    },
    {
     "data": {
      "application/vnd.jupyter.widget-view+json": {
       "model_id": "d2f5d2c5c6e14a479ed4e154feb08349",
       "version_major": 2,
       "version_minor": 0
      },
      "text/plain": [
       "HBox(children=(FloatProgress(value=1.0, bar_style='info', max=1.0), HTML(value='')))"
      ]
     },
     "metadata": {},
     "output_type": "display_data"
    },
    {
     "name": "stdout",
     "output_type": "stream",
     "text": [
      "\n",
      "new_skeleton = (44, 2, 3)\n"
     ]
    },
    {
     "data": {
      "application/vnd.jupyter.widget-view+json": {
       "model_id": "d692c3ec9b114bde87b6c9aba22d952b",
       "version_major": 2,
       "version_minor": 0
      },
      "text/plain": [
       "HBox(children=(FloatProgress(value=1.0, bar_style='info', max=1.0), HTML(value='')))"
      ]
     },
     "metadata": {},
     "output_type": "display_data"
    },
    {
     "name": "stdout",
     "output_type": "stream",
     "text": [
      "--> Not exactly one containing mesh: []\n",
      "\n",
      "filtered_measurements = [ 93.76439133  57.58192092  91.19662317 119.64186267  99.59544397\n",
      " 108.94251382 162.44480017 113.63752056 142.75283899 138.34087987\n",
      "  94.56066752 105.40166565  94.18926277 139.68994505 133.89394062\n",
      " 100.4508184   86.85020839  86.34625479  94.38316877 103.45315457\n",
      " 112.39685902 152.8356808  133.30672348 142.42965591 120.19673814\n",
      " 180.14501346 176.03171569 118.42509693 100.75607029 176.7890386\n",
      " 148.70766106 164.75751166 120.26124723 152.05456516 150.88258129\n",
      " 120.95257998 113.44530544 173.74079232 122.46018937]\n",
      "new_threshold = 336.5961897703884\n"
     ]
    },
    {
     "data": {
      "application/vnd.jupyter.widget-view+json": {
       "model_id": "f747b9acb85c49b8a303185848848305",
       "version_major": 2,
       "version_minor": 0
      },
      "text/plain": [
       "HBox(children=(FloatProgress(value=1.0, bar_style='info', max=1.0), HTML(value='')))"
      ]
     },
     "metadata": {},
     "output_type": "display_data"
    },
    {
     "name": "stdout",
     "output_type": "stream",
     "text": [
      "--> Not exactly one containing mesh: []\n",
      "\n",
      "new_skeleton = (17, 2, 3)\n"
     ]
    },
    {
     "data": {
      "application/vnd.jupyter.widget-view+json": {
       "model_id": "bf758367fe174a51aa24f6c78bab27b7",
       "version_major": 2,
       "version_minor": 0
      },
      "text/plain": [
       "HBox(children=(FloatProgress(value=1.0, bar_style='info', max=1.0), HTML(value='')))"
      ]
     },
     "metadata": {},
     "output_type": "display_data"
    },
    {
     "name": "stdout",
     "output_type": "stream",
     "text": [
      "\n",
      "filtered_measurements = [659.41949411 623.05170852 655.71640992 705.95491626 675.53268588\n",
      " 717.30677925 791.52372758 794.53696637 749.03922383 658.06255227\n",
      " 579.15635763 590.77635735 701.18084764]\n",
      "new_threshold = 1392.2152741776258\n"
     ]
    },
    {
     "data": {
      "application/vnd.jupyter.widget-view+json": {
       "model_id": "1025e309d13d480baffaf6b96845f618",
       "version_major": 2,
       "version_minor": 0
      },
      "text/plain": [
       "HBox(children=(FloatProgress(value=1.0, bar_style='info', max=1.0), HTML(value='')))"
      ]
     },
     "metadata": {},
     "output_type": "display_data"
    },
    {
     "name": "stdout",
     "output_type": "stream",
     "text": [
      "\n",
      "new_skeleton = (4, 2, 3)\n"
     ]
    },
    {
     "data": {
      "application/vnd.jupyter.widget-view+json": {
       "model_id": "00f6df9b48de49d9a8cb07167d5e16ea",
       "version_major": 2,
       "version_minor": 0
      },
      "text/plain": [
       "HBox(children=(FloatProgress(value=1.0, bar_style='info', max=1.0), HTML(value='')))"
      ]
     },
     "metadata": {},
     "output_type": "display_data"
    },
    {
     "name": "stdout",
     "output_type": "stream",
     "text": [
      "\n",
      "filtered_measurements = [878.06862636 577.8053535  537.45823084 620.04604863]\n",
      "new_threshold = 1300.2063357987295\n"
     ]
    },
    {
     "data": {
      "application/vnd.jupyter.widget-view+json": {
       "model_id": "5f682b8df6e74898b2c22a1b42b15e60",
       "version_major": 2,
       "version_minor": 0
      },
      "text/plain": [
       "HBox(children=(FloatProgress(value=1.0, bar_style='info', max=1.0), HTML(value='')))"
      ]
     },
     "metadata": {},
     "output_type": "display_data"
    },
    {
     "name": "stdout",
     "output_type": "stream",
     "text": [
      "\n",
      "new_skeleton = (12, 2, 3)\n"
     ]
    },
    {
     "data": {
      "application/vnd.jupyter.widget-view+json": {
       "model_id": "0518f0b0575c4e4f8bd03500e6810fcd",
       "version_major": 2,
       "version_minor": 0
      },
      "text/plain": [
       "HBox(children=(FloatProgress(value=1.0, bar_style='info', max=1.0), HTML(value='')))"
      ]
     },
     "metadata": {},
     "output_type": "display_data"
    },
    {
     "name": "stdout",
     "output_type": "stream",
     "text": [
      "--> Not exactly one containing mesh: []\n",
      "\n",
      "filtered_measurements = [ 91.79097116  81.46189956  95.33382352  85.74974013  62.69947031\n",
      "  97.95511807 121.50667229]\n",
      "new_threshold = 213.38924477004542\n"
     ]
    },
    {
     "data": {
      "application/vnd.jupyter.widget-view+json": {
       "model_id": "a239fee443934475be79fce0b6551468",
       "version_major": 2,
       "version_minor": 0
      },
      "text/plain": [
       "HBox(children=(FloatProgress(value=1.0, bar_style='info', max=1.0), HTML(value='')))"
      ]
     },
     "metadata": {},
     "output_type": "display_data"
    },
    {
     "name": "stdout",
     "output_type": "stream",
     "text": [
      "--> Not exactly one containing mesh: []\n",
      "--> Not exactly one containing mesh: []\n",
      "\n",
      "new_skeleton = (4, 2, 3)\n"
     ]
    },
    {
     "data": {
      "application/vnd.jupyter.widget-view+json": {
       "model_id": "4fbf1e6a03e6488a9457972aaf49f7b6",
       "version_major": 2,
       "version_minor": 0
      },
      "text/plain": [
       "HBox(children=(FloatProgress(value=1.0, bar_style='info', max=1.0), HTML(value='')))"
      ]
     },
     "metadata": {},
     "output_type": "display_data"
    },
    {
     "name": "stdout",
     "output_type": "stream",
     "text": [
      "\n",
      "filtered_measurements = [909.5422403  516.1729431  795.5060721  522.20569217]\n",
      "new_threshold = 2290.1837272558255\n"
     ]
    },
    {
     "data": {
      "application/vnd.jupyter.widget-view+json": {
       "model_id": "506cc4056e1a438eb7e4fe8205dbbb17",
       "version_major": 2,
       "version_minor": 0
      },
      "text/plain": [
       "HBox(children=(FloatProgress(value=1.0, bar_style='info', max=1.0), HTML(value='')))"
      ]
     },
     "metadata": {},
     "output_type": "display_data"
    },
    {
     "name": "stdout",
     "output_type": "stream",
     "text": [
      "\n",
      "new_skeleton = (2, 2, 3)\n"
     ]
    },
    {
     "data": {
      "application/vnd.jupyter.widget-view+json": {
       "model_id": "b0c7814b1adc420e859b2d4bb6f945ff",
       "version_major": 2,
       "version_minor": 0
      },
      "text/plain": [
       "HBox(children=(FloatProgress(value=1.0, bar_style='info', max=1.0), HTML(value='')))"
      ]
     },
     "metadata": {},
     "output_type": "display_data"
    },
    {
     "name": "stdout",
     "output_type": "stream",
     "text": [
      "\n",
      "filtered_measurements = [533.11922617 518.92428709]\n",
      "new_threshold = 994.8406941948365\n"
     ]
    },
    {
     "data": {
      "application/vnd.jupyter.widget-view+json": {
       "model_id": "e6ba1732273c4be79c413026be7f6913",
       "version_major": 2,
       "version_minor": 0
      },
      "text/plain": [
       "HBox(children=(FloatProgress(value=1.0, bar_style='info', max=1.0), HTML(value='')))"
      ]
     },
     "metadata": {},
     "output_type": "display_data"
    },
    {
     "name": "stdout",
     "output_type": "stream",
     "text": [
      "\n",
      "new_skeleton = (67, 2, 3)\n"
     ]
    },
    {
     "data": {
      "application/vnd.jupyter.widget-view+json": {
       "model_id": "7057b0079c2e4a67afd2704b15266461",
       "version_major": 2,
       "version_minor": 0
      },
      "text/plain": [
       "HBox(children=(FloatProgress(value=1.0, bar_style='info', max=1.0), HTML(value='')))"
      ]
     },
     "metadata": {},
     "output_type": "display_data"
    },
    {
     "name": "stdout",
     "output_type": "stream",
     "text": [
      "\n",
      "filtered_measurements = [148.90533256 185.27148138 265.38996802 283.54084661 347.53553199\n",
      " 366.95337669 251.92773508 190.4630947  299.16565236 370.68424074\n",
      " 182.95796816 296.04696758 253.56061185 359.74174182 279.06533511\n",
      " 262.65451429 208.77810791 178.99267073 300.75505905 415.67573172\n",
      " 248.97455253 398.549001   344.67206727 260.25627988 166.16625018\n",
      " 309.24229569 401.25725378 423.71658286 177.69685237 118.24901976\n",
      " 437.81926721 435.42958922 214.41260864 276.50544654 390.1097339\n",
      " 235.22913216 211.47816033 321.95752394 278.66103222 131.66034506\n",
      " 222.84422781 181.88135448 359.26094063 312.83021664 252.99386655\n",
      " 129.55442908 145.09274078 333.04805492 340.22354847 171.72772696\n",
      " 145.33167012 256.08346518]\n",
      "new_threshold = 1134.8096020432913\n"
     ]
    },
    {
     "data": {
      "application/vnd.jupyter.widget-view+json": {
       "model_id": "16b1ebe6ee6449a4a9e85a8de8fbbd0b",
       "version_major": 2,
       "version_minor": 0
      },
      "text/plain": [
       "HBox(children=(FloatProgress(value=1.0, bar_style='info', max=1.0), HTML(value='')))"
      ]
     },
     "metadata": {},
     "output_type": "display_data"
    },
    {
     "name": "stdout",
     "output_type": "stream",
     "text": [
      "\n",
      "new_skeleton = (23, 2, 3)\n"
     ]
    },
    {
     "data": {
      "application/vnd.jupyter.widget-view+json": {
       "model_id": "40b552debc1b411380b45876a57fbaa4",
       "version_major": 2,
       "version_minor": 0
      },
      "text/plain": [
       "HBox(children=(FloatProgress(value=1.0, bar_style='info', max=1.0), HTML(value='')))"
      ]
     },
     "metadata": {},
     "output_type": "display_data"
    },
    {
     "name": "stdout",
     "output_type": "stream",
     "text": [
      "\n",
      "filtered_measurements = [238.05829822 225.58150726 306.5708764  412.35546046 332.58519093\n",
      " 226.64265083 270.86501653 330.33354924 187.65501661 268.15203677\n",
      " 449.94363876 292.81731535 285.01939664 265.40345736 201.51546301\n",
      " 337.91426372 355.40748502]\n",
      "new_threshold = 1008.2996905209577\n"
     ]
    },
    {
     "data": {
      "application/vnd.jupyter.widget-view+json": {
       "model_id": "0e48738b90804557a31c58646a28550b",
       "version_major": 2,
       "version_minor": 0
      },
      "text/plain": [
       "HBox(children=(FloatProgress(value=1.0, bar_style='info', max=1.0), HTML(value='')))"
      ]
     },
     "metadata": {},
     "output_type": "display_data"
    },
    {
     "name": "stdout",
     "output_type": "stream",
     "text": [
      "\n",
      "new_skeleton = (30, 2, 3)\n"
     ]
    },
    {
     "data": {
      "application/vnd.jupyter.widget-view+json": {
       "model_id": "0d220f0858ca4e13b8c298c22b670298",
       "version_major": 2,
       "version_minor": 0
      },
      "text/plain": [
       "HBox(children=(FloatProgress(value=1.0, bar_style='info', max=1.0), HTML(value='')))"
      ]
     },
     "metadata": {},
     "output_type": "display_data"
    },
    {
     "name": "stdout",
     "output_type": "stream",
     "text": [
      "\n",
      "filtered_measurements = [365.77047086 409.53825756 626.10543728 402.8261525  451.22953927\n",
      " 371.76595502 538.05521941 626.43849424 369.89043189 389.55028605\n",
      " 334.27904727 397.99725335 420.33079074 374.36867497 378.14320497\n",
      " 387.90481613 354.75296192 301.7150788  473.52483231 421.16244091\n",
      " 448.38202162 571.98320898 443.39786408]\n",
      "new_threshold = 1476.9555575833408\n"
     ]
    },
    {
     "data": {
      "application/vnd.jupyter.widget-view+json": {
       "model_id": "842ce99588c340e0a8f79810d754c444",
       "version_major": 2,
       "version_minor": 0
      },
      "text/plain": [
       "HBox(children=(FloatProgress(value=1.0, bar_style='info', max=1.0), HTML(value='')))"
      ]
     },
     "metadata": {},
     "output_type": "display_data"
    },
    {
     "name": "stdout",
     "output_type": "stream",
     "text": [
      "\n",
      "new_skeleton = (24, 2, 3)\n"
     ]
    },
    {
     "data": {
      "application/vnd.jupyter.widget-view+json": {
       "model_id": "b89c54dbbe1041d18f127225771040c8",
       "version_major": 2,
       "version_minor": 0
      },
      "text/plain": [
       "HBox(children=(FloatProgress(value=1.0, bar_style='info', max=1.0), HTML(value='')))"
      ]
     },
     "metadata": {},
     "output_type": "display_data"
    },
    {
     "name": "stdout",
     "output_type": "stream",
     "text": [
      "--> Not exactly one containing mesh: []\n",
      "\n",
      "filtered_measurements = [ 77.78802372 116.01311211 115.49000801  94.16663593 103.66265652\n",
      "  60.91583111  46.9243413   79.92187136  77.1532148   55.55024971\n",
      "  74.78464843  46.40150842  47.77757183  63.74220066  73.43392704\n",
      "  88.11610463 110.43207275]\n",
      "new_threshold = 222.81151994652873\n"
     ]
    },
    {
     "data": {
      "application/vnd.jupyter.widget-view+json": {
       "model_id": "1e6cdb19c7974febae11c91e445fa66b",
       "version_major": 2,
       "version_minor": 0
      },
      "text/plain": [
       "HBox(children=(FloatProgress(value=1.0, bar_style='info', max=1.0), HTML(value='')))"
      ]
     },
     "metadata": {},
     "output_type": "display_data"
    },
    {
     "name": "stdout",
     "output_type": "stream",
     "text": [
      "--> Not exactly one containing mesh: []\n",
      "THERE WERE NO FACES THAT FIT THE DISTANCE (222.81151994652873) and Z transform requirements\n",
      "So just skipping this edge\n",
      "\n",
      "new_skeleton = (51, 2, 3)\n"
     ]
    },
    {
     "data": {
      "application/vnd.jupyter.widget-view+json": {
       "model_id": "6b460cc1b84c4f02b0c5c0064160d1a4",
       "version_major": 2,
       "version_minor": 0
      },
      "text/plain": [
       "HBox(children=(FloatProgress(value=1.0, bar_style='info', max=1.0), HTML(value='')))"
      ]
     },
     "metadata": {},
     "output_type": "display_data"
    },
    {
     "name": "stdout",
     "output_type": "stream",
     "text": [
      "\n",
      "filtered_measurements = [382.74544261 745.29113049 540.92431147 347.69554094 322.44791253\n",
      " 330.67179661 416.2013616  416.17822995 535.3892118  644.43067842\n",
      " 340.23234755 525.80113119 397.86859751 418.38776697 617.99547771\n",
      " 730.16877282 526.67779314 505.187175   594.2359685  561.18395954\n",
      " 385.80928743 665.2482183  500.64496097 511.60778584 398.3028016\n",
      " 765.81968254 441.97827263 559.10793219 506.40643694 777.98103821\n",
      " 501.59801739 591.0309636  497.49696499 496.30313915 605.61284166\n",
      " 720.08710075 741.70697615 334.26108994 439.40655921 402.42799142\n",
      " 558.93667274 671.47166304 778.2857279 ]\n",
      "new_threshold = 1829.646257067719\n"
     ]
    },
    {
     "data": {
      "application/vnd.jupyter.widget-view+json": {
       "model_id": "36b13a89f83646abb621cad385a02026",
       "version_major": 2,
       "version_minor": 0
      },
      "text/plain": [
       "HBox(children=(FloatProgress(value=1.0, bar_style='info', max=1.0), HTML(value='')))"
      ]
     },
     "metadata": {},
     "output_type": "display_data"
    },
    {
     "name": "stdout",
     "output_type": "stream",
     "text": [
      "\n",
      "new_skeleton = (26, 2, 3)\n"
     ]
    },
    {
     "data": {
      "application/vnd.jupyter.widget-view+json": {
       "model_id": "f21e821d9a9a4f3e86367f0d1f07162f",
       "version_major": 2,
       "version_minor": 0
      },
      "text/plain": [
       "HBox(children=(FloatProgress(value=1.0, bar_style='info', max=1.0), HTML(value='')))"
      ]
     },
     "metadata": {},
     "output_type": "display_data"
    },
    {
     "name": "stdout",
     "output_type": "stream",
     "text": [
      "\n",
      "filtered_measurements = [ 70.60972118  85.87104658 119.11140374 133.07713821  70.20849142\n",
      "  82.95559155  93.14398339  83.58805183  62.82541488 116.19831664\n",
      "  65.77295457  95.6496298   67.62880262 104.43128728  98.01685295\n",
      "  99.62142116 114.78754872  97.90075682 112.12452718  72.38973382\n",
      "  84.56914929]\n",
      "new_threshold = 250.85441564555842\n"
     ]
    },
    {
     "data": {
      "application/vnd.jupyter.widget-view+json": {
       "model_id": "36a41bb3466646b49a6fa9d3c5aeda1e",
       "version_major": 2,
       "version_minor": 0
      },
      "text/plain": [
       "HBox(children=(FloatProgress(value=1.0, bar_style='info', max=1.0), HTML(value='')))"
      ]
     },
     "metadata": {},
     "output_type": "display_data"
    },
    {
     "name": "stdout",
     "output_type": "stream",
     "text": [
      "\n",
      "new_skeleton = (14, 2, 3)\n"
     ]
    },
    {
     "data": {
      "application/vnd.jupyter.widget-view+json": {
       "model_id": "2d06deaa607d4af6ab46b00a7d862e46",
       "version_major": 2,
       "version_minor": 0
      },
      "text/plain": [
       "HBox(children=(FloatProgress(value=1.0, bar_style='info', max=1.0), HTML(value='')))"
      ]
     },
     "metadata": {},
     "output_type": "display_data"
    },
    {
     "name": "stdout",
     "output_type": "stream",
     "text": [
      "\n",
      "filtered_measurements = [139.75825545 134.55291286 116.78966051  74.734295   133.0208509\n",
      " 256.55218152 142.93671971 214.94597634]\n",
      "new_threshold = 558.0381860991511\n"
     ]
    },
    {
     "data": {
      "application/vnd.jupyter.widget-view+json": {
       "model_id": "308676de4ce14bff9396924769e4db98",
       "version_major": 2,
       "version_minor": 0
      },
      "text/plain": [
       "HBox(children=(FloatProgress(value=1.0, bar_style='info', max=1.0), HTML(value='')))"
      ]
     },
     "metadata": {},
     "output_type": "display_data"
    },
    {
     "name": "stdout",
     "output_type": "stream",
     "text": [
      "\n",
      "new_skeleton = (94, 2, 3)\n"
     ]
    },
    {
     "data": {
      "application/vnd.jupyter.widget-view+json": {
       "model_id": "798274c71a9942e481ae79063cef6036",
       "version_major": 2,
       "version_minor": 0
      },
      "text/plain": [
       "HBox(children=(FloatProgress(value=1.0, bar_style='info', max=1.0), HTML(value='')))"
      ]
     },
     "metadata": {},
     "output_type": "display_data"
    },
    {
     "name": "stdout",
     "output_type": "stream",
     "text": [
      "\n",
      "filtered_measurements = [530.51810034 332.27209386 253.86089749 265.37797744 276.24206384\n",
      " 274.27884311 516.86373841 494.28165584 290.63589425 491.68051012\n",
      " 331.47402461 435.48612668 337.71148122 437.54776819 350.93059578\n",
      " 283.0644657  352.84982714 464.40074039 220.5213978  501.08935882\n",
      " 409.5396359  464.1896204  511.64205858 283.83722481 492.3528924\n",
      " 364.11299155 341.10329729 224.69401394 351.40522257 238.63390161\n",
      " 296.09616368 541.90146488 466.40228433 470.34454687 379.82148565\n",
      " 534.07494969 325.985232   445.29030211 528.66686004 318.13583554\n",
      " 324.01563003 394.56413003 227.80137032 239.21340745 366.71793559\n",
      " 268.33352635 259.6141372  230.74486165 220.12084733 445.18715753\n",
      " 373.11784332 456.57788376 539.95488069 427.8483843  302.8791211\n",
      " 271.19534203 311.16752341 179.19777549 155.78726076 176.46482015\n",
      " 208.66996839 245.40512417 254.41443108 240.44699693 458.78735326\n",
      " 311.5817335  406.72647264 198.64734386 246.11249685 453.02504069\n",
      " 406.81287217 249.61795937 347.61539474 290.37746274 218.22767271\n",
      " 310.52766023 505.90282446]\n",
      "new_threshold = 1416.1177050302872\n"
     ]
    },
    {
     "data": {
      "application/vnd.jupyter.widget-view+json": {
       "model_id": "bba56ffa7e6345bd81182bc59069252e",
       "version_major": 2,
       "version_minor": 0
      },
      "text/plain": [
       "HBox(children=(FloatProgress(value=1.0, bar_style='info', max=1.0), HTML(value='')))"
      ]
     },
     "metadata": {},
     "output_type": "display_data"
    },
    {
     "name": "stdout",
     "output_type": "stream",
     "text": [
      "\n",
      "new_skeleton = (8, 2, 3)\n"
     ]
    },
    {
     "data": {
      "application/vnd.jupyter.widget-view+json": {
       "model_id": "d07eb8476e174362b6317b88d75f89f5",
       "version_major": 2,
       "version_minor": 0
      },
      "text/plain": [
       "HBox(children=(FloatProgress(value=1.0, bar_style='info', max=1.0), HTML(value='')))"
      ]
     },
     "metadata": {},
     "output_type": "display_data"
    },
    {
     "name": "stdout",
     "output_type": "stream",
     "text": [
      "--> Not exactly one containing mesh: []\n",
      "\n",
      "filtered_measurements = [119.06516729  69.22396823 129.09840253 177.03053894 133.70684225\n",
      " 130.08611525]\n",
      "new_threshold = 342.7541420305679\n"
     ]
    },
    {
     "data": {
      "application/vnd.jupyter.widget-view+json": {
       "model_id": "1cd4d1f8e53841b5962f235522d063d6",
       "version_major": 2,
       "version_minor": 0
      },
      "text/plain": [
       "HBox(children=(FloatProgress(value=1.0, bar_style='info', max=1.0), HTML(value='')))"
      ]
     },
     "metadata": {},
     "output_type": "display_data"
    },
    {
     "name": "stdout",
     "output_type": "stream",
     "text": [
      "--> Not exactly one containing mesh: []\n",
      "\n",
      "new_skeleton = (150, 2, 3)\n"
     ]
    },
    {
     "data": {
      "application/vnd.jupyter.widget-view+json": {
       "model_id": "8679876d8abb489a98563bb14234f6ee",
       "version_major": 2,
       "version_minor": 0
      },
      "text/plain": [
       "HBox(children=(FloatProgress(value=1.0, bar_style='info', max=1.0), HTML(value='')))"
      ]
     },
     "metadata": {},
     "output_type": "display_data"
    },
    {
     "name": "stdout",
     "output_type": "stream",
     "text": [
      "\n",
      "filtered_measurements = [424.42665043 206.53321013 467.84393427 327.88051702 310.94738948\n",
      " 420.36745599 434.96042556 221.62143338 246.44553513 295.77473377\n",
      " 438.05811206 266.06309757 265.47354959 250.3465095  255.68194591\n",
      " 288.17005145 424.21891182 280.50217046 381.9002035  354.60419867\n",
      " 245.3707103  306.3203676  333.2052434  236.60854061 224.34323275\n",
      " 185.12165735 224.94732008 270.12322342 421.31628983 308.19563284\n",
      " 385.46476223 290.33002484 211.32413355 223.95978725 258.00076948\n",
      " 261.76533433 213.62540138 263.93778478 299.00462377 273.85920293\n",
      " 317.87419834 359.25808063 378.05188729 311.06559961 344.61564367\n",
      " 284.44427473 278.52744915 266.71125908 444.69898878 235.92974871\n",
      " 303.48042266 331.33506538 241.4115264  170.51143851 456.16903931\n",
      " 466.70932947 307.29026684 282.1787659  258.96582313 281.57338783\n",
      " 262.40472183 229.6070868  345.44707971 448.93602632 236.6410862\n",
      " 208.1941911  438.2832845  253.0103734  337.21017235 212.55544386\n",
      " 241.67015972 160.84390645 186.36194827 253.97849167 432.2979724\n",
      " 321.18727444 289.63460543 320.57324764 413.55397302 435.98125858\n",
      " 401.64682441 275.35424971 380.64105847 200.38891062 261.70889038\n",
      " 156.75817621 178.9960294  131.58751363 161.80451566 303.11806705\n",
      " 280.13573669 348.242636   348.57560425 396.02202456 321.97842921\n",
      " 230.60010608 199.41026825 184.63471229 366.51659246 395.23020475\n",
      " 210.65732675 345.11301272 271.45873567 212.9583175  149.15986099\n",
      " 346.25430002 336.3603002  449.9771618  253.99638838 297.57168568\n",
      " 274.2820148  134.61477156 282.69973893 301.73609708]\n",
      "new_threshold = 1259.123118863834\n"
     ]
    },
    {
     "data": {
      "application/vnd.jupyter.widget-view+json": {
       "model_id": "2c9c3c7f7ec24b8a91c47edb12e8658a",
       "version_major": 2,
       "version_minor": 0
      },
      "text/plain": [
       "HBox(children=(FloatProgress(value=1.0, bar_style='info', max=1.0), HTML(value='')))"
      ]
     },
     "metadata": {},
     "output_type": "display_data"
    },
    {
     "name": "stdout",
     "output_type": "stream",
     "text": [
      "\n",
      "new_skeleton = (24, 2, 3)\n"
     ]
    },
    {
     "data": {
      "application/vnd.jupyter.widget-view+json": {
       "model_id": "dac93a6e361a466898d716b71f924fbc",
       "version_major": 2,
       "version_minor": 0
      },
      "text/plain": [
       "HBox(children=(FloatProgress(value=1.0, bar_style='info', max=1.0), HTML(value='')))"
      ]
     },
     "metadata": {},
     "output_type": "display_data"
    },
    {
     "name": "stdout",
     "output_type": "stream",
     "text": [
      "\n",
      "filtered_measurements = [188.30026035 319.80733926 224.11621075 309.0043452  400.56255002\n",
      " 249.9921133  249.33111572 308.16614077 318.96955144 302.61504399\n",
      " 300.84814834 324.78554328 289.08883649 240.43498596 319.5282273\n",
      " 344.10153218 269.48235757 264.22118901]\n",
      "new_threshold = 784.6700966198239\n"
     ]
    },
    {
     "data": {
      "application/vnd.jupyter.widget-view+json": {
       "model_id": "e8c30faf6dff4d00bf591f00369c6b9e",
       "version_major": 2,
       "version_minor": 0
      },
      "text/plain": [
       "HBox(children=(FloatProgress(value=1.0, bar_style='info', max=1.0), HTML(value='')))"
      ]
     },
     "metadata": {},
     "output_type": "display_data"
    },
    {
     "name": "stdout",
     "output_type": "stream",
     "text": [
      "\n",
      "new_skeleton = (9, 2, 3)\n"
     ]
    },
    {
     "data": {
      "application/vnd.jupyter.widget-view+json": {
       "model_id": "9ac6963cded140809d4dd54a787e0422",
       "version_major": 2,
       "version_minor": 0
      },
      "text/plain": [
       "HBox(children=(FloatProgress(value=1.0, bar_style='info', max=1.0), HTML(value='')))"
      ]
     },
     "metadata": {},
     "output_type": "display_data"
    },
    {
     "name": "stdout",
     "output_type": "stream",
     "text": [
      "\n",
      "filtered_measurements = [230.50629579 353.30868462 543.01102871 313.33114902 423.9800015\n",
      " 450.94976063]\n",
      "new_threshold = 1299.7082391251583\n"
     ]
    },
    {
     "data": {
      "application/vnd.jupyter.widget-view+json": {
       "model_id": "8aef3879aa934abf97700d7cd6e27b39",
       "version_major": 2,
       "version_minor": 0
      },
      "text/plain": [
       "HBox(children=(FloatProgress(value=1.0, bar_style='info', max=1.0), HTML(value='')))"
      ]
     },
     "metadata": {},
     "output_type": "display_data"
    },
    {
     "name": "stdout",
     "output_type": "stream",
     "text": [
      "\n",
      "new_skeleton = (8, 2, 3)\n"
     ]
    },
    {
     "data": {
      "application/vnd.jupyter.widget-view+json": {
       "model_id": "ccd9dd1006034d1fa2e76c7eb4166f63",
       "version_major": 2,
       "version_minor": 0
      },
      "text/plain": [
       "HBox(children=(FloatProgress(value=1.0, bar_style='info', max=1.0), HTML(value='')))"
      ]
     },
     "metadata": {},
     "output_type": "display_data"
    },
    {
     "name": "stdout",
     "output_type": "stream",
     "text": [
      "--> Not exactly one containing mesh: []\n",
      "--> Not exactly one containing mesh: []\n",
      "\n",
      "filtered_measurements = [161.56196358 110.93698751  93.53265983  98.44958645]\n",
      "new_threshold = 324.57083134558803\n"
     ]
    },
    {
     "data": {
      "application/vnd.jupyter.widget-view+json": {
       "model_id": "ac22a5bfec794e1292e8c13af6c515fd",
       "version_major": 2,
       "version_minor": 0
      },
      "text/plain": [
       "HBox(children=(FloatProgress(value=1.0, bar_style='info', max=1.0), HTML(value='')))"
      ]
     },
     "metadata": {},
     "output_type": "display_data"
    },
    {
     "name": "stdout",
     "output_type": "stream",
     "text": [
      "--> Not exactly one containing mesh: []\n",
      "--> Not exactly one containing mesh: []\n",
      "\n",
      "new_skeleton = (17, 2, 3)\n"
     ]
    },
    {
     "data": {
      "application/vnd.jupyter.widget-view+json": {
       "model_id": "1ff665ab880f4eb3937d2e3c0f6fee0d",
       "version_major": 2,
       "version_minor": 0
      },
      "text/plain": [
       "HBox(children=(FloatProgress(value=1.0, bar_style='info', max=1.0), HTML(value='')))"
      ]
     },
     "metadata": {},
     "output_type": "display_data"
    },
    {
     "name": "stdout",
     "output_type": "stream",
     "text": [
      "--> Not exactly one containing mesh: []\n",
      "--> Not exactly one containing mesh: []\n",
      "--> Not exactly one containing mesh: []\n",
      "--> Not exactly one containing mesh: []\n",
      "\n",
      "filtered_measurements = [ 64.04681022  62.23717881  45.50389822  60.20885576  87.09161469\n",
      "  93.47213563  97.45899043  95.93616639 112.73908577 144.70301394\n",
      " 115.75462234 107.67968472]\n",
      "new_threshold = 348.32646199433435\n"
     ]
    },
    {
     "data": {
      "application/vnd.jupyter.widget-view+json": {
       "model_id": "b60923b67ae243c0bed4b4f03749d7fc",
       "version_major": 2,
       "version_minor": 0
      },
      "text/plain": [
       "HBox(children=(FloatProgress(value=1.0, bar_style='info', max=1.0), HTML(value='')))"
      ]
     },
     "metadata": {},
     "output_type": "display_data"
    },
    {
     "name": "stdout",
     "output_type": "stream",
     "text": [
      "THERE WERE NO FACES THAT FIT THE DISTANCE (348.32646199433435) and Z transform requirements\n",
      "So just skipping this edge\n",
      "THERE WERE NO FACES THAT FIT THE DISTANCE (348.32646199433435) and Z transform requirements\n",
      "So just skipping this edge\n",
      "THERE WERE NO FACES THAT FIT THE DISTANCE (348.32646199433435) and Z transform requirements\n",
      "So just skipping this edge\n",
      "THERE WERE NO FACES THAT FIT THE DISTANCE (348.32646199433435) and Z transform requirements\n",
      "So just skipping this edge\n",
      "THERE WERE NO FACES THAT FIT THE DISTANCE (348.32646199433435) and Z transform requirements\n",
      "So just skipping this edge\n",
      "THERE WERE NO FACES THAT FIT THE DISTANCE (348.32646199433435) and Z transform requirements\n",
      "So just skipping this edge\n",
      "THERE WERE NO FACES THAT FIT THE DISTANCE (348.32646199433435) and Z transform requirements\n",
      "So just skipping this edge\n",
      "THERE WERE NO FACES THAT FIT THE DISTANCE (348.32646199433435) and Z transform requirements\n",
      "So just skipping this edge\n",
      "--> Not exactly one containing mesh: []\n",
      "--> Not exactly one containing mesh: []\n",
      "\n",
      "new_skeleton = (8, 2, 3)\n"
     ]
    },
    {
     "data": {
      "application/vnd.jupyter.widget-view+json": {
       "model_id": "f281505e6555486fb542a1e2f798a79b",
       "version_major": 2,
       "version_minor": 0
      },
      "text/plain": [
       "HBox(children=(FloatProgress(value=1.0, bar_style='info', max=1.0), HTML(value='')))"
      ]
     },
     "metadata": {},
     "output_type": "display_data"
    },
    {
     "name": "stdout",
     "output_type": "stream",
     "text": [
      "--> Not exactly one containing mesh: []\n",
      "\n",
      "filtered_measurements = [77.49397665 99.71988841 96.98813905 83.19751817 83.77379775]\n",
      "new_threshold = 175.62571047557316\n"
     ]
    },
    {
     "data": {
      "application/vnd.jupyter.widget-view+json": {
       "model_id": "e435699d6cd74991b9e0faf8f6494e09",
       "version_major": 2,
       "version_minor": 0
      },
      "text/plain": [
       "HBox(children=(FloatProgress(value=1.0, bar_style='info', max=1.0), HTML(value='')))"
      ]
     },
     "metadata": {},
     "output_type": "display_data"
    },
    {
     "name": "stdout",
     "output_type": "stream",
     "text": [
      "--> Not exactly one containing mesh: []\n",
      "\n",
      "new_skeleton = (2, 2, 3)\n"
     ]
    },
    {
     "data": {
      "application/vnd.jupyter.widget-view+json": {
       "model_id": "a10a782b40f74c7aaf406964ac0bc903",
       "version_major": 2,
       "version_minor": 0
      },
      "text/plain": [
       "HBox(children=(FloatProgress(value=1.0, bar_style='info', max=1.0), HTML(value='')))"
      ]
     },
     "metadata": {},
     "output_type": "display_data"
    },
    {
     "name": "stdout",
     "output_type": "stream",
     "text": [
      "--> Not exactly one containing mesh: []\n",
      "\n",
      "filtered_measurements = [148.94277442 138.79613957]\n",
      "new_threshold = 271.59833959510894\n"
     ]
    },
    {
     "data": {
      "application/vnd.jupyter.widget-view+json": {
       "model_id": "7c4d7f3bfcb54d87a5eedb4db7342eef",
       "version_major": 2,
       "version_minor": 0
      },
      "text/plain": [
       "HBox(children=(FloatProgress(value=1.0, bar_style='info', max=1.0), HTML(value='')))"
      ]
     },
     "metadata": {},
     "output_type": "display_data"
    },
    {
     "name": "stdout",
     "output_type": "stream",
     "text": [
      "--> Not exactly one containing mesh: []\n",
      "\n",
      "new_skeleton = (10, 2, 3)\n"
     ]
    },
    {
     "data": {
      "application/vnd.jupyter.widget-view+json": {
       "model_id": "5487397aabae4cc2b017e94a9e8dc308",
       "version_major": 2,
       "version_minor": 0
      },
      "text/plain": [
       "HBox(children=(FloatProgress(value=1.0, bar_style='info', max=1.0), HTML(value='')))"
      ]
     },
     "metadata": {},
     "output_type": "display_data"
    },
    {
     "name": "stdout",
     "output_type": "stream",
     "text": [
      "\n",
      "filtered_measurements = [50.44479046 74.37258221 76.6928907  61.21990374 67.86002899 67.8949381\n",
      " 75.66658509 66.69211551]\n",
      "new_threshold = 148.79282316183378\n"
     ]
    },
    {
     "data": {
      "application/vnd.jupyter.widget-view+json": {
       "model_id": "8d48fba90db44416a888e33c18c65cbb",
       "version_major": 2,
       "version_minor": 0
      },
      "text/plain": [
       "HBox(children=(FloatProgress(value=1.0, bar_style='info', max=1.0), HTML(value='')))"
      ]
     },
     "metadata": {},
     "output_type": "display_data"
    },
    {
     "name": "stdout",
     "output_type": "stream",
     "text": [
      "\n",
      "new_skeleton = (12, 2, 3)\n"
     ]
    },
    {
     "data": {
      "application/vnd.jupyter.widget-view+json": {
       "model_id": "dbf221895221492a86ceebfd889441cc",
       "version_major": 2,
       "version_minor": 0
      },
      "text/plain": [
       "HBox(children=(FloatProgress(value=1.0, bar_style='info', max=1.0), HTML(value='')))"
      ]
     },
     "metadata": {},
     "output_type": "display_data"
    },
    {
     "name": "stdout",
     "output_type": "stream",
     "text": [
      "--> Not exactly one containing mesh: []\n",
      "--> Not exactly one containing mesh: []\n",
      "--> Not exactly one containing mesh: []\n",
      "\n",
      "filtered_measurements = [115.23735319  51.6022436  102.77688962 105.08391998  80.31791607\n",
      "  88.81085424  73.23901383  76.50681958 131.21484606]\n",
      "new_threshold = 282.7876388374434\n"
     ]
    },
    {
     "data": {
      "application/vnd.jupyter.widget-view+json": {
       "model_id": "1905888111bf48f68023c28b47b3203a",
       "version_major": 2,
       "version_minor": 0
      },
      "text/plain": [
       "HBox(children=(FloatProgress(value=1.0, bar_style='info', max=1.0), HTML(value='')))"
      ]
     },
     "metadata": {},
     "output_type": "display_data"
    },
    {
     "name": "stdout",
     "output_type": "stream",
     "text": [
      "--> Not exactly one containing mesh: []\n",
      "--> Not exactly one containing mesh: []\n",
      "--> Not exactly one containing mesh: []\n",
      "\n",
      "new_skeleton = (8, 2, 3)\n"
     ]
    },
    {
     "data": {
      "application/vnd.jupyter.widget-view+json": {
       "model_id": "d090a336d3954aa9a4c5575cfac6a1c0",
       "version_major": 2,
       "version_minor": 0
      },
      "text/plain": [
       "HBox(children=(FloatProgress(value=1.0, bar_style='info', max=1.0), HTML(value='')))"
      ]
     },
     "metadata": {},
     "output_type": "display_data"
    },
    {
     "name": "stdout",
     "output_type": "stream",
     "text": [
      "--> Not exactly one containing mesh: []\n",
      "--> Not exactly one containing mesh: []\n",
      "--> Not exactly one containing mesh: []\n",
      "\n",
      "filtered_measurements = [ 69.0151353   61.94284706 298.76524849 287.35387686 382.14538672]\n",
      "new_threshold = 752.2442351107256\n"
     ]
    },
    {
     "data": {
      "application/vnd.jupyter.widget-view+json": {
       "model_id": "ba4606bb72444082b7939c638773fa33",
       "version_major": 2,
       "version_minor": 0
      },
      "text/plain": [
       "HBox(children=(FloatProgress(value=1.0, bar_style='info', max=1.0), HTML(value='')))"
      ]
     },
     "metadata": {},
     "output_type": "display_data"
    },
    {
     "name": "stdout",
     "output_type": "stream",
     "text": [
      "--> Not exactly one containing mesh: []\n",
      "--> Not exactly one containing mesh: []\n",
      "THERE WERE NO FACES THAT FIT THE DISTANCE (752.2442351107256) and Z transform requirements\n",
      "So just skipping this edge\n",
      "\n",
      "new_skeleton = (27, 2, 3)\n"
     ]
    },
    {
     "data": {
      "application/vnd.jupyter.widget-view+json": {
       "model_id": "aa478f3b52be466ca28fab3af0dce330",
       "version_major": 2,
       "version_minor": 0
      },
      "text/plain": [
       "HBox(children=(FloatProgress(value=1.0, bar_style='info', max=1.0), HTML(value='')))"
      ]
     },
     "metadata": {},
     "output_type": "display_data"
    },
    {
     "name": "stdout",
     "output_type": "stream",
     "text": [
      "\n",
      "filtered_measurements = [122.86240478 117.93214655 161.87776706 118.49257632  58.93203859\n",
      " 100.9118199  114.7626545  140.1574956  120.78990331 114.59164601\n",
      " 131.22492553 101.72926544  92.63265457  53.94789661  68.29547582\n",
      " 108.62230323 108.90798765  82.78845144 137.38005491 105.12085082\n",
      "  77.60731137 149.15753283]\n",
      "new_threshold = 325.16081111947915\n"
     ]
    },
    {
     "data": {
      "application/vnd.jupyter.widget-view+json": {
       "model_id": "7ed884241ca4473dab5e4ed2eb69339e",
       "version_major": 2,
       "version_minor": 0
      },
      "text/plain": [
       "HBox(children=(FloatProgress(value=1.0, bar_style='info', max=1.0), HTML(value='')))"
      ]
     },
     "metadata": {},
     "output_type": "display_data"
    },
    {
     "name": "stdout",
     "output_type": "stream",
     "text": [
      "\n",
      "new_skeleton = (17, 2, 3)\n"
     ]
    },
    {
     "data": {
      "application/vnd.jupyter.widget-view+json": {
       "model_id": "e410a1a8dd6042c6945f4805a5ece527",
       "version_major": 2,
       "version_minor": 0
      },
      "text/plain": [
       "HBox(children=(FloatProgress(value=1.0, bar_style='info', max=1.0), HTML(value='')))"
      ]
     },
     "metadata": {},
     "output_type": "display_data"
    },
    {
     "name": "stdout",
     "output_type": "stream",
     "text": [
      "--> Not exactly one containing mesh: []\n",
      "--> Not exactly one containing mesh: []\n",
      "\n",
      "filtered_measurements = [171.17830619 116.00154911 132.52566799  84.28998937 131.84153673\n",
      "  71.10655212 157.14532057  98.49068506 140.22525099  89.65802233\n",
      "  88.62919715 162.29505755 179.90277335 123.74324084  99.70780615]\n",
      "new_threshold = 336.0245391756329\n"
     ]
    },
    {
     "data": {
      "application/vnd.jupyter.widget-view+json": {
       "model_id": "4f57dde5d5ef46ff8e20a5ccc006a09f",
       "version_major": 2,
       "version_minor": 0
      },
      "text/plain": [
       "HBox(children=(FloatProgress(value=1.0, bar_style='info', max=1.0), HTML(value='')))"
      ]
     },
     "metadata": {},
     "output_type": "display_data"
    },
    {
     "name": "stdout",
     "output_type": "stream",
     "text": [
      "--> Not exactly one containing mesh: []\n",
      "--> Not exactly one containing mesh: []\n",
      "\n",
      "new_skeleton = (70, 2, 3)\n"
     ]
    },
    {
     "data": {
      "application/vnd.jupyter.widget-view+json": {
       "model_id": "8ac69a90ee3a40f5b7f3bfc3647a69fa",
       "version_major": 2,
       "version_minor": 0
      },
      "text/plain": [
       "HBox(children=(FloatProgress(value=1.0, bar_style='info', max=1.0), HTML(value='')))"
      ]
     },
     "metadata": {},
     "output_type": "display_data"
    },
    {
     "name": "stdout",
     "output_type": "stream",
     "text": [
      "--> Not exactly one containing mesh: [0 1]\n",
      "\n",
      "filtered_measurements = [152.46738315 153.25895811 185.82164652 281.65255329 201.68577332\n",
      " 172.96177387 153.75710916 212.92306185 172.30434897 243.41848719\n",
      " 154.83010654 227.49611422 167.22278321 127.97618007 181.05474718\n",
      " 193.41887657 119.53798691 141.36615787 260.88797641 237.67961886\n",
      " 195.32269422 133.20849769 199.87284515 212.60005423 158.49072172\n",
      " 140.08259592 160.76689511 196.90207281 255.77004679 255.45198361\n",
      " 153.34741419 152.84811368 232.13206833 179.57157496 191.41162961\n",
      " 281.93612254 211.54720082 272.07873637 190.01730416 133.51708656\n",
      " 173.32333355 237.1434151  185.98457099 114.94028625 209.13367716\n",
      " 235.09491923 303.6347108  180.84279544 196.16797114 179.16549578]\n",
      "new_threshold = 667.2390509258\n"
     ]
    },
    {
     "data": {
      "application/vnd.jupyter.widget-view+json": {
       "model_id": "b598137137fb41eca940e020dc7718d0",
       "version_major": 2,
       "version_minor": 0
      },
      "text/plain": [
       "HBox(children=(FloatProgress(value=1.0, bar_style='info', max=1.0), HTML(value='')))"
      ]
     },
     "metadata": {},
     "output_type": "display_data"
    },
    {
     "name": "stdout",
     "output_type": "stream",
     "text": [
      "\n"
     ]
    },
    {
     "data": {
      "application/vnd.jupyter.widget-view+json": {
       "model_id": "67f7607cee384cce8090bf19150fb274",
       "version_major": 2,
       "version_minor": 0
      },
      "text/plain": [
       "HBox(children=(FloatProgress(value=1.0, bar_style='info', max=1.0), HTML(value='')))"
      ]
     },
     "metadata": {},
     "output_type": "display_data"
    },
    {
     "name": "stdout",
     "output_type": "stream",
     "text": [
      "\n",
      "filtered_measurements = [490.90827642]\n",
      "new_threshold = 934.1441692154874\n"
     ]
    },
    {
     "data": {
      "application/vnd.jupyter.widget-view+json": {
       "model_id": "32f6705a25164fdfa122f5c1d0243d96",
       "version_major": 2,
       "version_minor": 0
      },
      "text/plain": [
       "HBox(children=(FloatProgress(value=1.0, bar_style='info', max=1.0), HTML(value='')))"
      ]
     },
     "metadata": {},
     "output_type": "display_data"
    },
    {
     "name": "stdout",
     "output_type": "stream",
     "text": [
      "\n"
     ]
    },
    {
     "data": {
      "application/vnd.jupyter.widget-view+json": {
       "model_id": "8ce173f6edc54b449a5dc8e68623252b",
       "version_major": 2,
       "version_minor": 0
      },
      "text/plain": [
       "HBox(children=(FloatProgress(value=1.0, bar_style='info', max=1.0), HTML(value='')))"
      ]
     },
     "metadata": {},
     "output_type": "display_data"
    },
    {
     "name": "stdout",
     "output_type": "stream",
     "text": [
      "\n",
      "filtered_measurements = [1124.9365558]\n",
      "new_threshold = 2839.264503701945\n"
     ]
    },
    {
     "data": {
      "application/vnd.jupyter.widget-view+json": {
       "model_id": "aa8d0f1b83b84735814433edecd3e53d",
       "version_major": 2,
       "version_minor": 0
      },
      "text/plain": [
       "HBox(children=(FloatProgress(value=1.0, bar_style='info', max=1.0), HTML(value='')))"
      ]
     },
     "metadata": {},
     "output_type": "display_data"
    },
    {
     "name": "stdout",
     "output_type": "stream",
     "text": [
      "\n"
     ]
    },
    {
     "data": {
      "application/vnd.jupyter.widget-view+json": {
       "model_id": "7cdcac21bec349109e5e11d68a546b98",
       "version_major": 2,
       "version_minor": 0
      },
      "text/plain": [
       "HBox(children=(FloatProgress(value=1.0, bar_style='info', max=1.0), HTML(value='')))"
      ]
     },
     "metadata": {},
     "output_type": "display_data"
    },
    {
     "name": "stdout",
     "output_type": "stream",
     "text": [
      "\n",
      "filtered_measurements = [1741.36300201]\n",
      "new_threshold = 3578.2772332812206\n"
     ]
    },
    {
     "data": {
      "application/vnd.jupyter.widget-view+json": {
       "model_id": "e3bd4b3ae23442159cfedc60fd63edee",
       "version_major": 2,
       "version_minor": 0
      },
      "text/plain": [
       "HBox(children=(FloatProgress(value=1.0, bar_style='info', max=1.0), HTML(value='')))"
      ]
     },
     "metadata": {},
     "output_type": "display_data"
    },
    {
     "name": "stdout",
     "output_type": "stream",
     "text": [
      "\n",
      "\n",
      "Working on limb #5\n"
     ]
    },
    {
     "data": {
      "application/vnd.jupyter.widget-view+json": {
       "model_id": "efcc5ad206924e2ab04de5776e389d7f",
       "version_major": 2,
       "version_minor": 0
      },
      "text/plain": [
       "HBox(children=(FloatProgress(value=1.0, bar_style='info', max=1.0), HTML(value='')))"
      ]
     },
     "metadata": {},
     "output_type": "display_data"
    },
    {
     "name": "stdout",
     "output_type": "stream",
     "text": [
      "new_skeleton = (79, 2, 3)\n"
     ]
    },
    {
     "data": {
      "application/vnd.jupyter.widget-view+json": {
       "model_id": "9403241e2882492fbb421ed0e471ceb8",
       "version_major": 2,
       "version_minor": 0
      },
      "text/plain": [
       "HBox(children=(FloatProgress(value=1.0, bar_style='info', max=1.0), HTML(value='')))"
      ]
     },
     "metadata": {},
     "output_type": "display_data"
    },
    {
     "name": "stdout",
     "output_type": "stream",
     "text": [
      "--> Not exactly one containing mesh: []\n",
      "\n",
      "filtered_measurements = [328.70894896 223.50618242 476.01578702 450.73223153 306.53482792\n",
      " 250.56241434 240.20152202 588.42904677 238.63489897 394.60443481\n",
      " 314.09098194 510.22005617 243.65772957 377.99432817 581.43648932\n",
      " 280.33594912 414.28040378 274.98468536 299.319948   503.0926211\n",
      " 454.15204332 390.22626082 640.54493403 345.88465089 644.16317114\n",
      " 354.93072864 339.49547931 603.0166876  265.94917055 579.79398581\n",
      " 407.66587811 373.66169925 323.61483257 381.79053465 325.22109025\n",
      " 263.50961841 650.88973891 420.85907693 652.33313234 363.03919867\n",
      " 600.34073446 468.28619361 485.37874446 555.89999581 360.66423674\n",
      " 373.36967736 415.92913148 279.9600124  427.08232036 650.17697742\n",
      " 458.26600773 313.87849779 350.28752728 578.02250801 466.72539163\n",
      " 580.66830971 566.21090151 646.62113544 432.8893117  444.78937869\n",
      " 348.34129216]\n",
      "new_threshold = 1738.1762426794005\n"
     ]
    },
    {
     "data": {
      "application/vnd.jupyter.widget-view+json": {
       "model_id": "900450a89cb249b6be6c0008c7d93f3c",
       "version_major": 2,
       "version_minor": 0
      },
      "text/plain": [
       "HBox(children=(FloatProgress(value=1.0, bar_style='info', max=1.0), HTML(value='')))"
      ]
     },
     "metadata": {},
     "output_type": "display_data"
    },
    {
     "name": "stdout",
     "output_type": "stream",
     "text": [
      "--> Not exactly one containing mesh: []\n",
      "\n",
      "new_skeleton = (150, 2, 3)\n"
     ]
    },
    {
     "data": {
      "application/vnd.jupyter.widget-view+json": {
       "model_id": "86f74391642046548b8a52099c2e4bfe",
       "version_major": 2,
       "version_minor": 0
      },
      "text/plain": [
       "HBox(children=(FloatProgress(value=1.0, bar_style='info', max=1.0), HTML(value='')))"
      ]
     },
     "metadata": {},
     "output_type": "display_data"
    },
    {
     "name": "stdout",
     "output_type": "stream",
     "text": [
      "--> Not exactly one containing mesh: []\n",
      "\n",
      "filtered_measurements = [521.12878339 516.31317847 462.78953615 485.28321534 265.06256576\n",
      " 222.3560371  256.42217543 281.59247352 315.91875214 540.98460447\n",
      " 434.74212683 444.59888687 367.13320955 680.18707128 361.27199658\n",
      " 628.20487176 512.39646139 456.58534001 657.2292395  320.97018284\n",
      " 476.67822695 449.67873998 443.1729221  467.82928562 727.10635649\n",
      " 315.65671333 312.39239723 499.06345806 375.25828731 430.61106241\n",
      " 341.9722691  304.91523519 703.33383019 445.52270741 561.36705903\n",
      " 394.49222287 660.68353818 311.69402316 321.61516441 486.31799412\n",
      " 566.56231714 745.12390334 621.31934121 628.75972872 455.27572946\n",
      " 484.63468074 437.07317544 692.80323896 420.02142279 409.30165396\n",
      " 569.79816431 518.56388042 754.43687675 563.53777521 394.06362493\n",
      " 510.87201404 466.42859388 636.01617499 615.42958404 658.5337097\n",
      " 512.16859415 607.04272826 517.96334228 456.5906852  471.90808233\n",
      " 637.92568773 364.48698356 514.09438891 443.40068438 371.97127023\n",
      " 679.83916587 478.33980938 454.62457086 640.00057729 572.25433354\n",
      " 526.46574912 699.54085443 395.52900365 470.15833739 570.46884476\n",
      " 468.75973345 647.03746036 536.74506842 501.55092661 497.00411457\n",
      " 469.27109725 309.34906953 329.43769261 442.05783254 494.27677321\n",
      " 506.47734563 379.44863369 446.86881096 381.46896209 412.84105579\n",
      " 510.01348051 704.30100496 671.09163224 462.85628959 591.97652345\n",
      " 726.25749877 613.75362442 721.03724195 703.12965443 476.76971671\n",
      " 535.36093423 330.57320182 459.62166858 406.31618552 381.83041589\n",
      " 758.2128231  655.25440922 597.00859906 636.25253253 507.13844249\n",
      " 478.9450579  629.56735187 519.38644254 430.47528848 474.99089281\n",
      " 545.30335459 517.48323239 437.1412212  694.10599956 530.10929906\n",
      " 418.40722176 420.99671086 424.74681614 395.21603322 593.53744889\n",
      " 530.79456356 600.18689004 569.87291259]\n",
      "new_threshold = 1923.1832792591877\n"
     ]
    },
    {
     "data": {
      "application/vnd.jupyter.widget-view+json": {
       "model_id": "fe38d94af2a2429185d567b6c3eb9ad0",
       "version_major": 2,
       "version_minor": 0
      },
      "text/plain": [
       "HBox(children=(FloatProgress(value=1.0, bar_style='info', max=1.0), HTML(value='')))"
      ]
     },
     "metadata": {},
     "output_type": "display_data"
    },
    {
     "name": "stdout",
     "output_type": "stream",
     "text": [
      "--> Not exactly one containing mesh: []\n",
      "\n",
      "new_skeleton = (6, 2, 3)\n"
     ]
    },
    {
     "data": {
      "application/vnd.jupyter.widget-view+json": {
       "model_id": "9bff9fdd66b944fe804394f05b72a649",
       "version_major": 2,
       "version_minor": 0
      },
      "text/plain": [
       "HBox(children=(FloatProgress(value=1.0, bar_style='info', max=1.0), HTML(value='')))"
      ]
     },
     "metadata": {},
     "output_type": "display_data"
    },
    {
     "name": "stdout",
     "output_type": "stream",
     "text": [
      "--> Not exactly one containing mesh: []\n",
      "--> Not exactly one containing mesh: []\n",
      "--> Not exactly one containing mesh: []\n",
      "\n",
      "filtered_measurements = [162.20899689 246.73347903 258.2672928 ]\n",
      "new_threshold = 465.0507213032164\n"
     ]
    },
    {
     "data": {
      "application/vnd.jupyter.widget-view+json": {
       "model_id": "0463b74a239c42e2a29c983e552601de",
       "version_major": 2,
       "version_minor": 0
      },
      "text/plain": [
       "HBox(children=(FloatProgress(value=1.0, bar_style='info', max=1.0), HTML(value='')))"
      ]
     },
     "metadata": {},
     "output_type": "display_data"
    },
    {
     "name": "stdout",
     "output_type": "stream",
     "text": [
      "THERE WERE NO FACES THAT FIT THE DISTANCE (465.0507213032164) and Z transform requirements\n",
      "So just skipping this edge\n",
      "THERE WERE NO FACES THAT FIT THE DISTANCE (465.0507213032164) and Z transform requirements\n",
      "So just skipping this edge\n",
      "THERE WERE NO FACES THAT FIT THE DISTANCE (465.0507213032164) and Z transform requirements\n",
      "So just skipping this edge\n",
      "--> Not exactly one containing mesh: []\n",
      "\n",
      "new_skeleton = (7, 2, 3)\n"
     ]
    },
    {
     "data": {
      "application/vnd.jupyter.widget-view+json": {
       "model_id": "a7755da6ec8f4c44948b02b7d8cff014",
       "version_major": 2,
       "version_minor": 0
      },
      "text/plain": [
       "HBox(children=(FloatProgress(value=1.0, bar_style='info', max=1.0), HTML(value='')))"
      ]
     },
     "metadata": {},
     "output_type": "display_data"
    },
    {
     "name": "stdout",
     "output_type": "stream",
     "text": [
      "\n",
      "filtered_measurements = [405.35949549 379.7565404  325.22793504 520.19721368 282.94095951]\n",
      "new_threshold = 1325.74789719287\n"
     ]
    },
    {
     "data": {
      "application/vnd.jupyter.widget-view+json": {
       "model_id": "d4e640beabb3470b8c87a884a4855749",
       "version_major": 2,
       "version_minor": 0
      },
      "text/plain": [
       "HBox(children=(FloatProgress(value=1.0, bar_style='info', max=1.0), HTML(value='')))"
      ]
     },
     "metadata": {},
     "output_type": "display_data"
    },
    {
     "name": "stdout",
     "output_type": "stream",
     "text": [
      "\n",
      "new_skeleton = (7, 2, 3)\n"
     ]
    },
    {
     "data": {
      "application/vnd.jupyter.widget-view+json": {
       "model_id": "a6c8b033ce064c14b785ed7ec13b07a8",
       "version_major": 2,
       "version_minor": 0
      },
      "text/plain": [
       "HBox(children=(FloatProgress(value=1.0, bar_style='info', max=1.0), HTML(value='')))"
      ]
     },
     "metadata": {},
     "output_type": "display_data"
    },
    {
     "name": "stdout",
     "output_type": "stream",
     "text": [
      "--> Not exactly one containing mesh: []\n",
      "--> Not exactly one containing mesh: []\n",
      "--> Not exactly one containing mesh: [0 2]\n",
      "\n",
      "filtered_measurements = [169.4805413  557.02836513 491.30789952 136.01445046]\n",
      "new_threshold = 1485.8539054417574\n"
     ]
    },
    {
     "data": {
      "application/vnd.jupyter.widget-view+json": {
       "model_id": "5bdcd1ca861041b997bfa8d47b2f0602",
       "version_major": 2,
       "version_minor": 0
      },
      "text/plain": [
       "HBox(children=(FloatProgress(value=1.0, bar_style='info', max=1.0), HTML(value='')))"
      ]
     },
     "metadata": {},
     "output_type": "display_data"
    },
    {
     "name": "stdout",
     "output_type": "stream",
     "text": [
      "--> Not exactly one containing mesh: []\n",
      "--> Not exactly one containing mesh: []\n",
      "--> Not exactly one containing mesh: [0 1]\n",
      "\n",
      "new_skeleton = (75, 2, 3)\n"
     ]
    },
    {
     "data": {
      "application/vnd.jupyter.widget-view+json": {
       "model_id": "8d1354e36f2647ca9d28b1ba8366a1e0",
       "version_major": 2,
       "version_minor": 0
      },
      "text/plain": [
       "HBox(children=(FloatProgress(value=1.0, bar_style='info', max=1.0), HTML(value='')))"
      ]
     },
     "metadata": {},
     "output_type": "display_data"
    },
    {
     "name": "stdout",
     "output_type": "stream",
     "text": [
      "\n",
      "filtered_measurements = [438.15854899 367.93729495 469.37301454 734.2017693  632.70385364\n",
      " 394.54048613 676.19329868 391.83883328 718.05004799 514.50827326\n",
      " 331.10171524 559.07985581 512.60739218 404.54804696 541.20271746\n",
      " 625.25090923 616.70046265 395.93197336 544.00291287 434.7330281\n",
      " 441.52180585 423.58973667 501.12687326 348.624926   501.87847751\n",
      " 378.76993892 416.64075673 447.59996811 660.74110804 464.2392481\n",
      " 477.85393131 496.01245913 355.41362655 346.17703017 513.71596297\n",
      " 466.17859526 703.37883074 623.50372189 451.14864628 484.83316779\n",
      " 693.84164404 366.98290373 388.89850608 449.87092934 373.96701158\n",
      " 433.03479883 375.06407031 386.36083896 351.61732655 647.89621546\n",
      " 417.96760083 494.26267562 383.65816717 384.74222973 499.64421347\n",
      " 402.35174906 396.15712707 620.53301298 466.93880138 541.14679684\n",
      " 699.04739629]\n",
      "new_threshold = 1673.317574151721\n"
     ]
    },
    {
     "data": {
      "application/vnd.jupyter.widget-view+json": {
       "model_id": "5f00e1c0a8414928913be2b231697965",
       "version_major": 2,
       "version_minor": 0
      },
      "text/plain": [
       "HBox(children=(FloatProgress(value=1.0, bar_style='info', max=1.0), HTML(value='')))"
      ]
     },
     "metadata": {},
     "output_type": "display_data"
    },
    {
     "name": "stdout",
     "output_type": "stream",
     "text": [
      "\n",
      "new_skeleton = (6, 2, 3)\n"
     ]
    },
    {
     "data": {
      "application/vnd.jupyter.widget-view+json": {
       "model_id": "19ce83c2c24a4a849f215fe4441e84e9",
       "version_major": 2,
       "version_minor": 0
      },
      "text/plain": [
       "HBox(children=(FloatProgress(value=1.0, bar_style='info', max=1.0), HTML(value='')))"
      ]
     },
     "metadata": {},
     "output_type": "display_data"
    },
    {
     "name": "stdout",
     "output_type": "stream",
     "text": [
      "--> Not exactly one containing mesh: []\n",
      "--> Not exactly one containing mesh: []\n",
      "\n",
      "filtered_measurements = [126.83503858 148.22299257 228.1999108 ]\n",
      "new_threshold = 379.19228018585034\n"
     ]
    },
    {
     "data": {
      "application/vnd.jupyter.widget-view+json": {
       "model_id": "7661415842e9445d8dae00f4cb75d814",
       "version_major": 2,
       "version_minor": 0
      },
      "text/plain": [
       "HBox(children=(FloatProgress(value=1.0, bar_style='info', max=1.0), HTML(value='')))"
      ]
     },
     "metadata": {},
     "output_type": "display_data"
    },
    {
     "name": "stdout",
     "output_type": "stream",
     "text": [
      "--> Not exactly one containing mesh: []\n",
      "--> Not exactly one containing mesh: []\n",
      "\n",
      "new_skeleton = (16, 2, 3)\n"
     ]
    },
    {
     "data": {
      "application/vnd.jupyter.widget-view+json": {
       "model_id": "38c4ff8879814e7399a62404588c27e1",
       "version_major": 2,
       "version_minor": 0
      },
      "text/plain": [
       "HBox(children=(FloatProgress(value=1.0, bar_style='info', max=1.0), HTML(value='')))"
      ]
     },
     "metadata": {},
     "output_type": "display_data"
    },
    {
     "name": "stdout",
     "output_type": "stream",
     "text": [
      "\n",
      "filtered_measurements = [539.6923974  594.46120443 353.51365617 404.68835492 465.23438495\n",
      " 426.09206567 470.265718   409.20144194 579.31795007 412.5328557\n",
      " 374.10725529]\n",
      "new_threshold = 1259.4645199595218\n"
     ]
    },
    {
     "data": {
      "application/vnd.jupyter.widget-view+json": {
       "model_id": "4bf09488e5544dacbdbc12b3355a3e21",
       "version_major": 2,
       "version_minor": 0
      },
      "text/plain": [
       "HBox(children=(FloatProgress(value=1.0, bar_style='info', max=1.0), HTML(value='')))"
      ]
     },
     "metadata": {},
     "output_type": "display_data"
    },
    {
     "name": "stdout",
     "output_type": "stream",
     "text": [
      "\n",
      "new_skeleton = (25, 2, 3)\n"
     ]
    },
    {
     "data": {
      "application/vnd.jupyter.widget-view+json": {
       "model_id": "a64ed91760ea47e29690eab052259928",
       "version_major": 2,
       "version_minor": 0
      },
      "text/plain": [
       "HBox(children=(FloatProgress(value=1.0, bar_style='info', max=1.0), HTML(value='')))"
      ]
     },
     "metadata": {},
     "output_type": "display_data"
    },
    {
     "name": "stdout",
     "output_type": "stream",
     "text": [
      "\n",
      "filtered_measurements = [858.72153886 816.78853034 600.53013833 595.8869519  542.54189783\n",
      " 776.85522591 822.69402917 767.36915776 605.9370752  634.09935472\n",
      " 523.30860169 578.97116351 898.5575049  547.07145657 579.89123916\n",
      " 602.24713424 566.07494836 577.72157128 598.32966102 608.78123204\n",
      " 558.30587149 560.10485761 691.00707526]\n",
      "new_threshold = 1942.237358944678\n"
     ]
    },
    {
     "data": {
      "application/vnd.jupyter.widget-view+json": {
       "model_id": "0d1e126ae84d4f3c9b36dea339619498",
       "version_major": 2,
       "version_minor": 0
      },
      "text/plain": [
       "HBox(children=(FloatProgress(value=1.0, bar_style='info', max=1.0), HTML(value='')))"
      ]
     },
     "metadata": {},
     "output_type": "display_data"
    },
    {
     "name": "stdout",
     "output_type": "stream",
     "text": [
      "\n",
      "new_skeleton = (16, 2, 3)\n"
     ]
    },
    {
     "data": {
      "application/vnd.jupyter.widget-view+json": {
       "model_id": "6d025b2ad1ac4f578e8e9f9290c366e5",
       "version_major": 2,
       "version_minor": 0
      },
      "text/plain": [
       "HBox(children=(FloatProgress(value=1.0, bar_style='info', max=1.0), HTML(value='')))"
      ]
     },
     "metadata": {},
     "output_type": "display_data"
    },
    {
     "name": "stdout",
     "output_type": "stream",
     "text": [
      "\n",
      "filtered_measurements = [1010.29551689  953.4493622   880.42362091  898.06445727  833.00873143\n",
      "  836.61805503  820.95995023  908.50290283 1058.81892688]\n",
      "new_threshold = 1627.3163738867947\n"
     ]
    },
    {
     "data": {
      "application/vnd.jupyter.widget-view+json": {
       "model_id": "9b88d6efa7204993925934236cb1ff3b",
       "version_major": 2,
       "version_minor": 0
      },
      "text/plain": [
       "HBox(children=(FloatProgress(value=1.0, bar_style='info', max=1.0), HTML(value='')))"
      ]
     },
     "metadata": {},
     "output_type": "display_data"
    },
    {
     "name": "stdout",
     "output_type": "stream",
     "text": [
      "--> Not exactly one containing mesh: []\n",
      "--> Not exactly one containing mesh: []\n",
      "\n",
      "new_skeleton = (19, 2, 3)\n"
     ]
    },
    {
     "data": {
      "application/vnd.jupyter.widget-view+json": {
       "model_id": "13e8197174ce4c5e8686463bc44b6add",
       "version_major": 2,
       "version_minor": 0
      },
      "text/plain": [
       "HBox(children=(FloatProgress(value=1.0, bar_style='info', max=1.0), HTML(value='')))"
      ]
     },
     "metadata": {},
     "output_type": "display_data"
    },
    {
     "name": "stdout",
     "output_type": "stream",
     "text": [
      "\n",
      "filtered_measurements = [770.81265229 513.98779155 496.66106781 500.39269772 461.28377657\n",
      " 511.65757818 751.93600151 580.68435799 614.74397111 608.45404956\n",
      " 912.82406571 609.14199292 809.46172669 472.63657456 680.34092328\n",
      " 804.58802515 661.63839423]\n",
      "new_threshold = 1953.6513351103204\n"
     ]
    },
    {
     "data": {
      "application/vnd.jupyter.widget-view+json": {
       "model_id": "b8b2d74327244c93b5c91de7c4a16016",
       "version_major": 2,
       "version_minor": 0
      },
      "text/plain": [
       "HBox(children=(FloatProgress(value=1.0, bar_style='info', max=1.0), HTML(value='')))"
      ]
     },
     "metadata": {},
     "output_type": "display_data"
    },
    {
     "name": "stdout",
     "output_type": "stream",
     "text": [
      "\n",
      "new_skeleton = (69, 2, 3)\n"
     ]
    },
    {
     "data": {
      "application/vnd.jupyter.widget-view+json": {
       "model_id": "6601dbb3039d454ab7859c0632860531",
       "version_major": 2,
       "version_minor": 0
      },
      "text/plain": [
       "HBox(children=(FloatProgress(value=1.0, bar_style='info', max=1.0), HTML(value='')))"
      ]
     },
     "metadata": {},
     "output_type": "display_data"
    },
    {
     "name": "stdout",
     "output_type": "stream",
     "text": [
      "\n",
      "filtered_measurements = [312.76101395 438.05068333 451.36925634 399.15161281 383.18898453\n",
      " 411.99579858 460.95318558 456.78707911 430.22681698 558.16605723\n",
      " 384.14845262 339.84443631 357.13912584 360.25470229 352.74540053\n",
      " 401.28157695 417.82196378 373.39736273 486.16407263 451.02516248\n",
      " 520.25225392 381.00351651 534.48838538 453.39603723 365.20719929\n",
      " 549.33863105 508.63977299 404.3715596  390.63682746 497.16382313\n",
      " 566.06149443 313.92727708 413.02011302 289.6917177  273.72791766\n",
      " 369.86598612 312.53112681 382.8107599  392.19104407 429.875625\n",
      " 368.23103836 518.71024489 276.47872154 354.60466505 540.85718929\n",
      " 340.5849177  298.43415992 278.68807031 244.15676946 398.00832578\n",
      " 359.66390867 390.11914481 319.01511697]\n",
      "new_threshold = 1268.3999379131938\n"
     ]
    },
    {
     "data": {
      "application/vnd.jupyter.widget-view+json": {
       "model_id": "9695994222a04b85994d44e09d1c4f0a",
       "version_major": 2,
       "version_minor": 0
      },
      "text/plain": [
       "HBox(children=(FloatProgress(value=1.0, bar_style='info', max=1.0), HTML(value='')))"
      ]
     },
     "metadata": {},
     "output_type": "display_data"
    },
    {
     "name": "stdout",
     "output_type": "stream",
     "text": [
      "\n",
      "new_skeleton = (17, 2, 3)\n"
     ]
    },
    {
     "data": {
      "application/vnd.jupyter.widget-view+json": {
       "model_id": "1e0a98b5674a469eac32a6d762f5dfa8",
       "version_major": 2,
       "version_minor": 0
      },
      "text/plain": [
       "HBox(children=(FloatProgress(value=1.0, bar_style='info', max=1.0), HTML(value='')))"
      ]
     },
     "metadata": {},
     "output_type": "display_data"
    },
    {
     "name": "stdout",
     "output_type": "stream",
     "text": [
      "--> Not exactly one containing mesh: []\n",
      "\n",
      "filtered_measurements = [615.29671074 515.0915833  648.77343522 540.93041365 507.35200292\n",
      " 398.79126477 459.97765881 364.70439029 388.27254183 429.04133566\n",
      " 452.45734719 484.60301255 419.47787585]\n",
      "new_threshold = 1350.5888130621504\n"
     ]
    },
    {
     "data": {
      "application/vnd.jupyter.widget-view+json": {
       "model_id": "453bf43b5eb24d5c977c6433a550f617",
       "version_major": 2,
       "version_minor": 0
      },
      "text/plain": [
       "HBox(children=(FloatProgress(value=1.0, bar_style='info', max=1.0), HTML(value='')))"
      ]
     },
     "metadata": {},
     "output_type": "display_data"
    },
    {
     "name": "stdout",
     "output_type": "stream",
     "text": [
      "--> Not exactly one containing mesh: []\n",
      "\n",
      "\n",
      "Working on limb #6\n"
     ]
    },
    {
     "data": {
      "application/vnd.jupyter.widget-view+json": {
       "model_id": "2e96d82f6ac2442086a7a26b0ad5c816",
       "version_major": 2,
       "version_minor": 0
      },
      "text/plain": [
       "HBox(children=(FloatProgress(value=1.0, bar_style='info', max=1.0), HTML(value='')))"
      ]
     },
     "metadata": {},
     "output_type": "display_data"
    },
    {
     "name": "stdout",
     "output_type": "stream",
     "text": [
      "new_skeleton = (43, 2, 3)\n"
     ]
    },
    {
     "data": {
      "application/vnd.jupyter.widget-view+json": {
       "model_id": "23b1cc7b2fb54a458e3cf00cdce51213",
       "version_major": 2,
       "version_minor": 0
      },
      "text/plain": [
       "HBox(children=(FloatProgress(value=1.0, bar_style='info', max=1.0), HTML(value='')))"
      ]
     },
     "metadata": {},
     "output_type": "display_data"
    },
    {
     "name": "stdout",
     "output_type": "stream",
     "text": [
      "--> Not exactly one containing mesh: []\n",
      "\n",
      "filtered_measurements = [ 87.64733302  80.39715072  93.32255002 104.94141858 100.1681573\n",
      "  88.84656725 111.83225842  70.41744867  65.28207996 145.38820754\n",
      "  68.59222967 102.56222847  88.35241006 132.1075711  102.13101697\n",
      "  71.4323075   63.69652043  70.96081925 107.69818132  66.07209578\n",
      "  96.95432402 135.87578258 130.25632931  89.85396555  67.44346518\n",
      "  83.06535128 145.40472329 130.77989032  61.59609768 137.4355587\n",
      " 128.6667512  123.69292748 148.90114665]\n",
      "new_threshold = 295.2070504948879\n"
     ]
    },
    {
     "data": {
      "application/vnd.jupyter.widget-view+json": {
       "model_id": "759f07165d454cd281d39e6991fa31a8",
       "version_major": 2,
       "version_minor": 0
      },
      "text/plain": [
       "HBox(children=(FloatProgress(value=1.0, bar_style='info', max=1.0), HTML(value='')))"
      ]
     },
     "metadata": {},
     "output_type": "display_data"
    },
    {
     "name": "stdout",
     "output_type": "stream",
     "text": [
      "--> Not exactly one containing mesh: []\n",
      "--> Not exactly one containing mesh: []\n",
      "--> Not exactly one containing mesh: []\n",
      "\n",
      "new_skeleton = (70, 2, 3)\n"
     ]
    },
    {
     "data": {
      "application/vnd.jupyter.widget-view+json": {
       "model_id": "7d575b8a654b4b31bb02545474465ee4",
       "version_major": 2,
       "version_minor": 0
      },
      "text/plain": [
       "HBox(children=(FloatProgress(value=1.0, bar_style='info', max=1.0), HTML(value='')))"
      ]
     },
     "metadata": {},
     "output_type": "display_data"
    },
    {
     "name": "stdout",
     "output_type": "stream",
     "text": [
      "\n",
      "filtered_measurements = [288.08925752 269.6834581  267.15672077 413.91693781 345.20485083\n",
      " 221.38127287 206.92326252 389.13864839 291.81292932 316.10598446\n",
      " 273.81476038 417.48655801 249.0948988  286.68041897 362.9209387\n",
      " 205.16887476 270.99018531 362.86414906 266.18866433 326.75239944\n",
      " 262.16515705 337.29358424 295.97735357 488.13337657 302.73331113\n",
      " 394.88185606 220.059202   378.42503268 316.33083066 296.55731804\n",
      " 275.59066823 245.89539487 284.57179858 234.02338821 215.55559682\n",
      " 259.07955485 272.55531944 390.70297231 203.99219406 219.69960313\n",
      " 308.02226442 368.77463112 500.35765804 338.80771468 263.30257511\n",
      " 282.12655486 434.67294831 394.0962258  256.10457486 389.06301834\n",
      " 361.21179363 430.18924607]\n",
      "new_threshold = 1383.1307184644834\n"
     ]
    },
    {
     "data": {
      "application/vnd.jupyter.widget-view+json": {
       "model_id": "4332d5301b544cba93f016dff221cb8f",
       "version_major": 2,
       "version_minor": 0
      },
      "text/plain": [
       "HBox(children=(FloatProgress(value=1.0, bar_style='info', max=1.0), HTML(value='')))"
      ]
     },
     "metadata": {},
     "output_type": "display_data"
    },
    {
     "name": "stdout",
     "output_type": "stream",
     "text": [
      "\n",
      "new_skeleton = (34, 2, 3)\n"
     ]
    },
    {
     "data": {
      "application/vnd.jupyter.widget-view+json": {
       "model_id": "7ce42586998a484bafa3d706e29c0ea8",
       "version_major": 2,
       "version_minor": 0
      },
      "text/plain": [
       "HBox(children=(FloatProgress(value=1.0, bar_style='info', max=1.0), HTML(value='')))"
      ]
     },
     "metadata": {},
     "output_type": "display_data"
    },
    {
     "name": "stdout",
     "output_type": "stream",
     "text": [
      "--> Not exactly one containing mesh: []\n",
      "\n",
      "filtered_measurements = [239.86531837 408.65442453 500.90233347 220.1774959  282.80324562\n",
      " 451.74629361 314.75289764 331.74879306 465.70451243 257.84404408\n",
      " 304.88415521 427.95623329 347.04870523 350.95952207 527.65852191\n",
      " 268.94753851 532.81694607 363.61110853 334.25342771 198.56742222\n",
      " 335.66369928 246.51887625 266.92537408 499.14746371 204.18290219\n",
      " 518.26510244]\n",
      "new_threshold = 1440.9982488681392\n"
     ]
    },
    {
     "data": {
      "application/vnd.jupyter.widget-view+json": {
       "model_id": "7e74c8cca8a840458aba72df7419c6c2",
       "version_major": 2,
       "version_minor": 0
      },
      "text/plain": [
       "HBox(children=(FloatProgress(value=1.0, bar_style='info', max=1.0), HTML(value='')))"
      ]
     },
     "metadata": {},
     "output_type": "display_data"
    },
    {
     "name": "stdout",
     "output_type": "stream",
     "text": [
      "--> Not exactly one containing mesh: []\n",
      "\n",
      "new_skeleton = (29, 2, 3)\n"
     ]
    },
    {
     "data": {
      "application/vnd.jupyter.widget-view+json": {
       "model_id": "27433ea4b7b04ae4ba5b03b26b2652d7",
       "version_major": 2,
       "version_minor": 0
      },
      "text/plain": [
       "HBox(children=(FloatProgress(value=1.0, bar_style='info', max=1.0), HTML(value='')))"
      ]
     },
     "metadata": {},
     "output_type": "display_data"
    },
    {
     "name": "stdout",
     "output_type": "stream",
     "text": [
      "\n",
      "filtered_measurements = [222.86409767 219.69887413 108.52889273 214.89398056 261.14047231\n",
      " 313.20554915 257.86770072 198.66828677 259.52666875 251.15637289\n",
      " 264.27857584 303.54127611 229.18011281 391.57671085 249.82054839\n",
      " 262.76037938 176.40420316 148.49261509]\n",
      "new_threshold = 922.4452321746593\n"
     ]
    },
    {
     "data": {
      "application/vnd.jupyter.widget-view+json": {
       "model_id": "678ad1bc3387445f982e98046dfe48ea",
       "version_major": 2,
       "version_minor": 0
      },
      "text/plain": [
       "HBox(children=(FloatProgress(value=1.0, bar_style='info', max=1.0), HTML(value='')))"
      ]
     },
     "metadata": {},
     "output_type": "display_data"
    },
    {
     "name": "stdout",
     "output_type": "stream",
     "text": [
      "\n",
      "new_skeleton = (10, 2, 3)\n"
     ]
    },
    {
     "data": {
      "application/vnd.jupyter.widget-view+json": {
       "model_id": "2dea14001f4e436d94cb5fd43b0621ea",
       "version_major": 2,
       "version_minor": 0
      },
      "text/plain": [
       "HBox(children=(FloatProgress(value=1.0, bar_style='info', max=1.0), HTML(value='')))"
      ]
     },
     "metadata": {},
     "output_type": "display_data"
    },
    {
     "name": "stdout",
     "output_type": "stream",
     "text": [
      "\n",
      "filtered_measurements = [225.47749492 233.62466863 379.78956108 198.18844357 224.74846729\n",
      " 307.46735383]\n",
      "new_threshold = 945.5071389697714\n"
     ]
    },
    {
     "data": {
      "application/vnd.jupyter.widget-view+json": {
       "model_id": "216b7c61526d4a04a418704b9c698537",
       "version_major": 2,
       "version_minor": 0
      },
      "text/plain": [
       "HBox(children=(FloatProgress(value=1.0, bar_style='info', max=1.0), HTML(value='')))"
      ]
     },
     "metadata": {},
     "output_type": "display_data"
    },
    {
     "name": "stdout",
     "output_type": "stream",
     "text": [
      "\n",
      "new_skeleton = (25, 2, 3)\n"
     ]
    },
    {
     "data": {
      "application/vnd.jupyter.widget-view+json": {
       "model_id": "19d32ace495a455ab11289ca709e6d7c",
       "version_major": 2,
       "version_minor": 0
      },
      "text/plain": [
       "HBox(children=(FloatProgress(value=1.0, bar_style='info', max=1.0), HTML(value='')))"
      ]
     },
     "metadata": {},
     "output_type": "display_data"
    },
    {
     "name": "stdout",
     "output_type": "stream",
     "text": [
      "\n",
      "filtered_measurements = [598.75800227 293.3861426  362.51337226 262.11177916 352.89175466\n",
      " 231.38179383 331.45340116 462.54583764 421.62586461 630.73390841\n",
      " 437.17109551 300.8692433  307.30063788 560.08350976 533.52604016\n",
      " 399.60177889 564.24320658 301.55502085 351.18382143]\n",
      "new_threshold = 1625.6296292855272\n"
     ]
    },
    {
     "data": {
      "application/vnd.jupyter.widget-view+json": {
       "model_id": "609d12a0e4e54af881d7ec3624617ef0",
       "version_major": 2,
       "version_minor": 0
      },
      "text/plain": [
       "HBox(children=(FloatProgress(value=1.0, bar_style='info', max=1.0), HTML(value='')))"
      ]
     },
     "metadata": {},
     "output_type": "display_data"
    },
    {
     "name": "stdout",
     "output_type": "stream",
     "text": [
      "\n",
      "new_skeleton = (11, 2, 3)\n"
     ]
    },
    {
     "data": {
      "application/vnd.jupyter.widget-view+json": {
       "model_id": "f265c89663c54b35bb64694e675c4517",
       "version_major": 2,
       "version_minor": 0
      },
      "text/plain": [
       "HBox(children=(FloatProgress(value=1.0, bar_style='info', max=1.0), HTML(value='')))"
      ]
     },
     "metadata": {},
     "output_type": "display_data"
    },
    {
     "name": "stdout",
     "output_type": "stream",
     "text": [
      "--> Not exactly one containing mesh: []\n",
      "\n",
      "filtered_measurements = [103.15057501  58.81504521  78.68841582  60.61944468  88.43003748\n",
      "  52.62331138  75.77827682 101.91918826]\n",
      "new_threshold = 237.11749127549052\n"
     ]
    },
    {
     "data": {
      "application/vnd.jupyter.widget-view+json": {
       "model_id": "4c5b210a114044d88780d43eccfcc242",
       "version_major": 2,
       "version_minor": 0
      },
      "text/plain": [
       "HBox(children=(FloatProgress(value=1.0, bar_style='info', max=1.0), HTML(value='')))"
      ]
     },
     "metadata": {},
     "output_type": "display_data"
    },
    {
     "name": "stdout",
     "output_type": "stream",
     "text": [
      "--> Not exactly one containing mesh: []\n",
      "--> Not exactly one containing mesh: []\n",
      "\n",
      "new_skeleton = (10, 2, 3)\n"
     ]
    },
    {
     "data": {
      "application/vnd.jupyter.widget-view+json": {
       "model_id": "e375db63f4f24403a981dd314033463e",
       "version_major": 2,
       "version_minor": 0
      },
      "text/plain": [
       "HBox(children=(FloatProgress(value=1.0, bar_style='info', max=1.0), HTML(value='')))"
      ]
     },
     "metadata": {},
     "output_type": "display_data"
    },
    {
     "name": "stdout",
     "output_type": "stream",
     "text": [
      "--> Not exactly one containing mesh: []\n",
      "--> Not exactly one containing mesh: []\n",
      "\n",
      "filtered_measurements = [ 75.52673587 102.56194279  75.50849255  83.09664816 102.93489819]\n",
      "new_threshold = 203.29137529034566\n"
     ]
    },
    {
     "data": {
      "application/vnd.jupyter.widget-view+json": {
       "model_id": "e1a8550e9a3d469d935ec4a9eb7697ea",
       "version_major": 2,
       "version_minor": 0
      },
      "text/plain": [
       "HBox(children=(FloatProgress(value=1.0, bar_style='info', max=1.0), HTML(value='')))"
      ]
     },
     "metadata": {},
     "output_type": "display_data"
    },
    {
     "name": "stdout",
     "output_type": "stream",
     "text": [
      "--> Not exactly one containing mesh: []\n",
      "--> Not exactly one containing mesh: []\n",
      "--> Not exactly one containing mesh: []\n",
      "--> Not exactly one containing mesh: []\n",
      "\n",
      "new_skeleton = (35, 2, 3)\n"
     ]
    },
    {
     "data": {
      "application/vnd.jupyter.widget-view+json": {
       "model_id": "d1014b041c634c9fbcae79c6a7338523",
       "version_major": 2,
       "version_minor": 0
      },
      "text/plain": [
       "HBox(children=(FloatProgress(value=1.0, bar_style='info', max=1.0), HTML(value='')))"
      ]
     },
     "metadata": {},
     "output_type": "display_data"
    },
    {
     "name": "stdout",
     "output_type": "stream",
     "text": [
      "\n",
      "filtered_measurements = [505.90370991 625.65271768 496.01447464 505.58499481 336.66363942\n",
      " 586.7886692  374.66401095 374.72282371 630.40644577 541.83564347\n",
      " 579.44412631 464.96561498 249.19196894 332.50540158 360.2034513\n",
      " 395.83279476 450.30526995 494.40465931 594.29269788 506.46508144\n",
      " 360.04601162 284.00805349 294.93466323 305.97199825 280.47538671\n",
      " 289.98478557 294.61982051 282.91202017 496.21447152 338.02715828]\n",
      "new_threshold = 1545.1962823072793\n"
     ]
    },
    {
     "data": {
      "application/vnd.jupyter.widget-view+json": {
       "model_id": "6bccf5ad96834416ba908e5a5dd335af",
       "version_major": 2,
       "version_minor": 0
      },
      "text/plain": [
       "HBox(children=(FloatProgress(value=1.0, bar_style='info', max=1.0), HTML(value='')))"
      ]
     },
     "metadata": {},
     "output_type": "display_data"
    },
    {
     "name": "stdout",
     "output_type": "stream",
     "text": [
      "\n",
      "new_skeleton = (26, 2, 3)\n"
     ]
    },
    {
     "data": {
      "application/vnd.jupyter.widget-view+json": {
       "model_id": "849e3d1dc4b44dea8cdce21a87b7b16a",
       "version_major": 2,
       "version_minor": 0
      },
      "text/plain": [
       "HBox(children=(FloatProgress(value=1.0, bar_style='info', max=1.0), HTML(value='')))"
      ]
     },
     "metadata": {},
     "output_type": "display_data"
    },
    {
     "name": "stdout",
     "output_type": "stream",
     "text": [
      "--> Not exactly one containing mesh: []\n",
      "\n",
      "filtered_measurements = [250.31839732 270.53947361 250.06832022 430.775077   374.82448781\n",
      " 358.00886084 408.47795849 359.56750213 329.29946011 488.11889614\n",
      " 299.73614135 258.3265219  309.85175601 202.66687344 241.10667517\n",
      " 296.61952996 356.78984956 310.81731489]\n",
      "new_threshold = 1148.4235915653335\n"
     ]
    },
    {
     "data": {
      "application/vnd.jupyter.widget-view+json": {
       "model_id": "76d3f09705c84c619e61a305ff53c3e7",
       "version_major": 2,
       "version_minor": 0
      },
      "text/plain": [
       "HBox(children=(FloatProgress(value=1.0, bar_style='info', max=1.0), HTML(value='')))"
      ]
     },
     "metadata": {},
     "output_type": "display_data"
    },
    {
     "name": "stdout",
     "output_type": "stream",
     "text": [
      "--> Not exactly one containing mesh: []\n",
      "\n",
      "new_skeleton = (4, 2, 3)\n"
     ]
    },
    {
     "data": {
      "application/vnd.jupyter.widget-view+json": {
       "model_id": "81c763e7f8c44d3896b4d4df63b91fca",
       "version_major": 2,
       "version_minor": 0
      },
      "text/plain": [
       "HBox(children=(FloatProgress(value=1.0, bar_style='info', max=1.0), HTML(value='')))"
      ]
     },
     "metadata": {},
     "output_type": "display_data"
    },
    {
     "name": "stdout",
     "output_type": "stream",
     "text": [
      "\n",
      "filtered_measurements = [568.77433738 588.00704185 811.54579826 732.34398802]\n",
      "new_threshold = 1479.0454336836228\n"
     ]
    },
    {
     "data": {
      "application/vnd.jupyter.widget-view+json": {
       "model_id": "7636377cfba542baa24ba88cbea35aef",
       "version_major": 2,
       "version_minor": 0
      },
      "text/plain": [
       "HBox(children=(FloatProgress(value=1.0, bar_style='info', max=1.0), HTML(value='')))"
      ]
     },
     "metadata": {},
     "output_type": "display_data"
    },
    {
     "name": "stdout",
     "output_type": "stream",
     "text": [
      "\n",
      "new_skeleton = (6, 2, 3)\n"
     ]
    },
    {
     "data": {
      "application/vnd.jupyter.widget-view+json": {
       "model_id": "391ab1f7545e407989be0578714489fa",
       "version_major": 2,
       "version_minor": 0
      },
      "text/plain": [
       "HBox(children=(FloatProgress(value=1.0, bar_style='info', max=1.0), HTML(value='')))"
      ]
     },
     "metadata": {},
     "output_type": "display_data"
    },
    {
     "name": "stdout",
     "output_type": "stream",
     "text": [
      "\n",
      "filtered_measurements = [439.09976097 516.05541893 403.6222293 ]\n",
      "new_threshold = 957.8203367979652\n"
     ]
    },
    {
     "data": {
      "application/vnd.jupyter.widget-view+json": {
       "model_id": "827e929f6aaf4050a7d7dba3d584184d",
       "version_major": 2,
       "version_minor": 0
      },
      "text/plain": [
       "HBox(children=(FloatProgress(value=1.0, bar_style='info', max=1.0), HTML(value='')))"
      ]
     },
     "metadata": {},
     "output_type": "display_data"
    },
    {
     "name": "stdout",
     "output_type": "stream",
     "text": [
      "\n",
      "new_skeleton = (4, 2, 3)\n"
     ]
    },
    {
     "data": {
      "application/vnd.jupyter.widget-view+json": {
       "model_id": "2c3edbc64d474a6dad781fe3824b88a8",
       "version_major": 2,
       "version_minor": 0
      },
      "text/plain": [
       "HBox(children=(FloatProgress(value=1.0, bar_style='info', max=1.0), HTML(value='')))"
      ]
     },
     "metadata": {},
     "output_type": "display_data"
    },
    {
     "name": "stdout",
     "output_type": "stream",
     "text": [
      "\n",
      "filtered_measurements = [747.00217861 546.95793729 565.41463546]\n",
      "new_threshold = 1091.0837531158759\n"
     ]
    },
    {
     "data": {
      "application/vnd.jupyter.widget-view+json": {
       "model_id": "7b6529959ce649d4a11aa0ad6524a5d6",
       "version_major": 2,
       "version_minor": 0
      },
      "text/plain": [
       "HBox(children=(FloatProgress(value=1.0, bar_style='info', max=1.0), HTML(value='')))"
      ]
     },
     "metadata": {},
     "output_type": "display_data"
    },
    {
     "name": "stdout",
     "output_type": "stream",
     "text": [
      "\n",
      "new_skeleton = (7, 2, 3)\n"
     ]
    },
    {
     "data": {
      "application/vnd.jupyter.widget-view+json": {
       "model_id": "443375b1f1704631b99cd7edc43fb19b",
       "version_major": 2,
       "version_minor": 0
      },
      "text/plain": [
       "HBox(children=(FloatProgress(value=1.0, bar_style='info', max=1.0), HTML(value='')))"
      ]
     },
     "metadata": {},
     "output_type": "display_data"
    },
    {
     "name": "stdout",
     "output_type": "stream",
     "text": [
      "\n",
      "filtered_measurements = [592.97647869 591.19178287 624.43597902 736.71414892 682.5788204 ]\n",
      "new_threshold = 1433.2348293143439\n"
     ]
    },
    {
     "data": {
      "application/vnd.jupyter.widget-view+json": {
       "model_id": "af3650f13ae14c438729199c1004487f",
       "version_major": 2,
       "version_minor": 0
      },
      "text/plain": [
       "HBox(children=(FloatProgress(value=1.0, bar_style='info', max=1.0), HTML(value='')))"
      ]
     },
     "metadata": {},
     "output_type": "display_data"
    },
    {
     "name": "stdout",
     "output_type": "stream",
     "text": [
      "\n",
      "new_skeleton = (101, 2, 3)\n"
     ]
    },
    {
     "data": {
      "application/vnd.jupyter.widget-view+json": {
       "model_id": "059991bb10ab4ed8814d75c0a164be5d",
       "version_major": 2,
       "version_minor": 0
      },
      "text/plain": [
       "HBox(children=(FloatProgress(value=1.0, bar_style='info', max=1.0), HTML(value='')))"
      ]
     },
     "metadata": {},
     "output_type": "display_data"
    },
    {
     "name": "stdout",
     "output_type": "stream",
     "text": [
      "--> Not exactly one containing mesh: []\n",
      "\n",
      "filtered_measurements = [400.21509569 385.59247284 397.18299988 262.64024883 300.4331324\n",
      " 391.51565158 391.39219615 228.75895703 192.39624364 334.48976638\n",
      " 269.77584492 317.64951421 388.86528455 276.93217427 255.84798575\n",
      " 374.7102541  525.46574632 284.97515826 525.17028634 306.88004921\n",
      " 361.88961719 342.38566386 220.31978545 390.9348181  414.29774327\n",
      " 409.40232867 229.31455496 433.2083042  490.02244825 357.27746065\n",
      " 312.93922786 341.65630002 487.64990155 235.89724951 267.3688356\n",
      " 268.39228365 342.42067551 401.78349051 265.89954339 200.23731103\n",
      " 316.08133107 355.06106503 353.0108112  353.06877044 509.97721851\n",
      " 389.56176241 422.80295701 375.21105364 241.87215422 179.24870691\n",
      " 283.79994524 201.33963249 356.72590062 291.33166788 271.50755189\n",
      " 466.68926283 219.90480053 448.45497323 434.56783869 252.77934747\n",
      " 256.70262015 264.39031869 507.83212436 172.34590078 155.17900907\n",
      " 292.91613197 272.53151771 307.09488593 266.76085162 169.34644857\n",
      " 144.61222199 280.07754887 230.69846798 164.95661438 217.46644977\n",
      " 259.2623375  266.66937326]\n",
      "new_threshold = 1378.276255355295\n"
     ]
    },
    {
     "data": {
      "application/vnd.jupyter.widget-view+json": {
       "model_id": "013bb8945d9542cc9c46132c681e465b",
       "version_major": 2,
       "version_minor": 0
      },
      "text/plain": [
       "HBox(children=(FloatProgress(value=1.0, bar_style='info', max=1.0), HTML(value='')))"
      ]
     },
     "metadata": {},
     "output_type": "display_data"
    },
    {
     "name": "stdout",
     "output_type": "stream",
     "text": [
      "--> Not exactly one containing mesh: []\n",
      "\n",
      "new_skeleton = (26, 2, 3)\n"
     ]
    },
    {
     "data": {
      "application/vnd.jupyter.widget-view+json": {
       "model_id": "54ff68fa2c1547259fc0b524bb009922",
       "version_major": 2,
       "version_minor": 0
      },
      "text/plain": [
       "HBox(children=(FloatProgress(value=1.0, bar_style='info', max=1.0), HTML(value='')))"
      ]
     },
     "metadata": {},
     "output_type": "display_data"
    },
    {
     "name": "stdout",
     "output_type": "stream",
     "text": [
      "--> Not exactly one containing mesh: []\n",
      "\n",
      "filtered_measurements = [ 96.9745435   82.04807757 116.28257036 137.741884    89.3366804\n",
      "  96.08635154  64.59902463  75.53315593 111.22994195 100.89773852\n",
      "  86.89540318  75.29004274  68.20953013  69.94379002  76.96171665\n",
      "  95.24788834 145.4866513 ]\n",
      "new_threshold = 274.86169409722055\n"
     ]
    },
    {
     "data": {
      "application/vnd.jupyter.widget-view+json": {
       "model_id": "7b3fcf0980ce425f9341977e24ab3ab0",
       "version_major": 2,
       "version_minor": 0
      },
      "text/plain": [
       "HBox(children=(FloatProgress(value=1.0, bar_style='info', max=1.0), HTML(value='')))"
      ]
     },
     "metadata": {},
     "output_type": "display_data"
    },
    {
     "name": "stdout",
     "output_type": "stream",
     "text": [
      "--> Not exactly one containing mesh: []\n",
      "--> Not exactly one containing mesh: []\n",
      "--> Not exactly one containing mesh: []\n",
      "\n"
     ]
    },
    {
     "data": {
      "application/vnd.jupyter.widget-view+json": {
       "model_id": "a75d4120f8234dafa5b696e543e6ae74",
       "version_major": 2,
       "version_minor": 0
      },
      "text/plain": [
       "HBox(children=(FloatProgress(value=1.0, bar_style='info', max=1.0), HTML(value='')))"
      ]
     },
     "metadata": {},
     "output_type": "display_data"
    },
    {
     "name": "stdout",
     "output_type": "stream",
     "text": [
      "\n",
      "filtered_measurements = [592.26328521]\n",
      "new_threshold = 821.7264806130243\n"
     ]
    },
    {
     "data": {
      "application/vnd.jupyter.widget-view+json": {
       "model_id": "621b34bda1be4a7b9b3cf6b7d3753a46",
       "version_major": 2,
       "version_minor": 0
      },
      "text/plain": [
       "HBox(children=(FloatProgress(value=1.0, bar_style='info', max=1.0), HTML(value='')))"
      ]
     },
     "metadata": {},
     "output_type": "display_data"
    },
    {
     "name": "stdout",
     "output_type": "stream",
     "text": [
      "\n",
      "\n",
      "Working on limb #7\n"
     ]
    },
    {
     "data": {
      "application/vnd.jupyter.widget-view+json": {
       "model_id": "29c37f7bc3c54855b3ee461893e836a8",
       "version_major": 2,
       "version_minor": 0
      },
      "text/plain": [
       "HBox(children=(FloatProgress(value=1.0, bar_style='info', max=1.0), HTML(value='')))"
      ]
     },
     "metadata": {},
     "output_type": "display_data"
    },
    {
     "name": "stdout",
     "output_type": "stream",
     "text": [
      "new_skeleton = (46, 2, 3)\n"
     ]
    },
    {
     "data": {
      "application/vnd.jupyter.widget-view+json": {
       "model_id": "1357f8258d604af38a77ff713e9ab1f8",
       "version_major": 2,
       "version_minor": 0
      },
      "text/plain": [
       "HBox(children=(FloatProgress(value=1.0, bar_style='info', max=1.0), HTML(value='')))"
      ]
     },
     "metadata": {},
     "output_type": "display_data"
    },
    {
     "name": "stdout",
     "output_type": "stream",
     "text": [
      "\n",
      "filtered_measurements = [443.23746874 352.1190205  426.33682034 425.48823978 238.5590113\n",
      " 414.89533014 280.15625549 336.2841435  310.51055979 341.74631248\n",
      " 370.5767064  210.93458544 202.19099811 312.35128643 374.24388021\n",
      " 306.53641045 380.07158285 318.71222428 426.59137856 277.44728171\n",
      " 265.09523383 389.0538404  369.32790971 359.1853416  205.20513477\n",
      " 215.77258122 456.38807494 362.17658691 383.50217133 228.52847106\n",
      " 257.95063433 266.21154045 304.166897   242.38311848 252.52957371\n",
      " 311.99724735 259.30999944]\n",
      "new_threshold = 1143.355036961441\n"
     ]
    },
    {
     "data": {
      "application/vnd.jupyter.widget-view+json": {
       "model_id": "7459cc4cd2a7463b9efc945358adbfbf",
       "version_major": 2,
       "version_minor": 0
      },
      "text/plain": [
       "HBox(children=(FloatProgress(value=1.0, bar_style='info', max=1.0), HTML(value='')))"
      ]
     },
     "metadata": {},
     "output_type": "display_data"
    },
    {
     "name": "stdout",
     "output_type": "stream",
     "text": [
      "\n",
      "new_skeleton = (17, 2, 3)\n"
     ]
    },
    {
     "data": {
      "application/vnd.jupyter.widget-view+json": {
       "model_id": "af1f02238a204427af9161d4c1a75bdd",
       "version_major": 2,
       "version_minor": 0
      },
      "text/plain": [
       "HBox(children=(FloatProgress(value=1.0, bar_style='info', max=1.0), HTML(value='')))"
      ]
     },
     "metadata": {},
     "output_type": "display_data"
    },
    {
     "name": "stdout",
     "output_type": "stream",
     "text": [
      "\n",
      "filtered_measurements = [543.14514035 529.08793636 644.00883413 732.94620006 683.40328093\n",
      " 648.77522977 560.56908122 586.53998991 631.32534009 519.36577726\n",
      " 509.61490704 494.32574028 528.11325008 614.28799239]\n",
      "new_threshold = 1151.9748066176082\n"
     ]
    },
    {
     "data": {
      "application/vnd.jupyter.widget-view+json": {
       "model_id": "4dad26de51e44ce283b3bbb1e6427065",
       "version_major": 2,
       "version_minor": 0
      },
      "text/plain": [
       "HBox(children=(FloatProgress(value=1.0, bar_style='info', max=1.0), HTML(value='')))"
      ]
     },
     "metadata": {},
     "output_type": "display_data"
    },
    {
     "name": "stdout",
     "output_type": "stream",
     "text": [
      "\n",
      "new_skeleton = (13, 2, 3)\n"
     ]
    },
    {
     "data": {
      "application/vnd.jupyter.widget-view+json": {
       "model_id": "01d8b9eae9c54f3ba6c722ea38910f3b",
       "version_major": 2,
       "version_minor": 0
      },
      "text/plain": [
       "HBox(children=(FloatProgress(value=1.0, bar_style='info', max=1.0), HTML(value='')))"
      ]
     },
     "metadata": {},
     "output_type": "display_data"
    },
    {
     "name": "stdout",
     "output_type": "stream",
     "text": [
      "\n",
      "filtered_measurements = [318.32877234 482.50293791 419.68408656 383.14811748 364.94822678\n",
      " 400.99443143 392.90424007 369.43978295]\n",
      "new_threshold = 1177.0783221391698\n"
     ]
    },
    {
     "data": {
      "application/vnd.jupyter.widget-view+json": {
       "model_id": "ca6347f4ab5244d7a58d28e072962d64",
       "version_major": 2,
       "version_minor": 0
      },
      "text/plain": [
       "HBox(children=(FloatProgress(value=1.0, bar_style='info', max=1.0), HTML(value='')))"
      ]
     },
     "metadata": {},
     "output_type": "display_data"
    },
    {
     "name": "stdout",
     "output_type": "stream",
     "text": [
      "\n",
      "new_skeleton = (6, 2, 3)\n"
     ]
    },
    {
     "data": {
      "application/vnd.jupyter.widget-view+json": {
       "model_id": "766cb76a4b3c45a08722e3abb2e09ec8",
       "version_major": 2,
       "version_minor": 0
      },
      "text/plain": [
       "HBox(children=(FloatProgress(value=1.0, bar_style='info', max=1.0), HTML(value='')))"
      ]
     },
     "metadata": {},
     "output_type": "display_data"
    },
    {
     "name": "stdout",
     "output_type": "stream",
     "text": [
      "\n",
      "filtered_measurements = [292.49585759 457.8883844  501.73844171 432.31580778]\n",
      "new_threshold = 925.3329181775715\n"
     ]
    },
    {
     "data": {
      "application/vnd.jupyter.widget-view+json": {
       "model_id": "f344e4859b3c453dbbdee9a6699ade0f",
       "version_major": 2,
       "version_minor": 0
      },
      "text/plain": [
       "HBox(children=(FloatProgress(value=1.0, bar_style='info', max=1.0), HTML(value='')))"
      ]
     },
     "metadata": {},
     "output_type": "display_data"
    },
    {
     "name": "stdout",
     "output_type": "stream",
     "text": [
      "\n",
      "new_skeleton = (41, 2, 3)\n"
     ]
    },
    {
     "data": {
      "application/vnd.jupyter.widget-view+json": {
       "model_id": "01e13228bd10435c8e3a7a4ceb77aafd",
       "version_major": 2,
       "version_minor": 0
      },
      "text/plain": [
       "HBox(children=(FloatProgress(value=1.0, bar_style='info', max=1.0), HTML(value='')))"
      ]
     },
     "metadata": {},
     "output_type": "display_data"
    },
    {
     "name": "stdout",
     "output_type": "stream",
     "text": [
      "\n",
      "filtered_measurements = [212.82263133 306.86492498 325.11041897 312.72821148 201.89110703\n",
      " 432.50697387 311.42499007 235.00825024 400.694432   247.09570861\n",
      " 332.88184323 267.80901307 307.06851269 312.18572781 254.0746347\n",
      " 232.25085531 169.09767986 415.75191788 261.48590932 250.43182701\n",
      " 383.8939118  395.02255134 309.67669956 276.81387337 324.99816119\n",
      " 338.9826518  166.67236778 161.71812589 275.34994546]\n",
      "new_threshold = 1069.8560969974462\n"
     ]
    },
    {
     "data": {
      "application/vnd.jupyter.widget-view+json": {
       "model_id": "42fea75946a941f3831abeba7f720ec7",
       "version_major": 2,
       "version_minor": 0
      },
      "text/plain": [
       "HBox(children=(FloatProgress(value=1.0, bar_style='info', max=1.0), HTML(value='')))"
      ]
     },
     "metadata": {},
     "output_type": "display_data"
    },
    {
     "name": "stdout",
     "output_type": "stream",
     "text": [
      "\n",
      "new_skeleton = (8, 2, 3)\n"
     ]
    },
    {
     "data": {
      "application/vnd.jupyter.widget-view+json": {
       "model_id": "45c34cb8a9c849a795de8b8352109f1d",
       "version_major": 2,
       "version_minor": 0
      },
      "text/plain": [
       "HBox(children=(FloatProgress(value=1.0, bar_style='info', max=1.0), HTML(value='')))"
      ]
     },
     "metadata": {},
     "output_type": "display_data"
    },
    {
     "name": "stdout",
     "output_type": "stream",
     "text": [
      "--> Not exactly one containing mesh: []\n",
      "\n",
      "filtered_measurements = [137.50868976  59.02619271  62.78812728  93.08816415  91.3802395 ]\n",
      "new_threshold = 278.68321283446227\n"
     ]
    },
    {
     "data": {
      "application/vnd.jupyter.widget-view+json": {
       "model_id": "ab2227da323841f8bbfaa9ee1e845ebd",
       "version_major": 2,
       "version_minor": 0
      },
      "text/plain": [
       "HBox(children=(FloatProgress(value=1.0, bar_style='info', max=1.0), HTML(value='')))"
      ]
     },
     "metadata": {},
     "output_type": "display_data"
    },
    {
     "name": "stdout",
     "output_type": "stream",
     "text": [
      "--> Not exactly one containing mesh: []\n",
      "--> Not exactly one containing mesh: []\n",
      "\n",
      "new_skeleton = (13, 2, 3)\n"
     ]
    },
    {
     "data": {
      "application/vnd.jupyter.widget-view+json": {
       "model_id": "4db527ab5b1446819bed66d681a731bf",
       "version_major": 2,
       "version_minor": 0
      },
      "text/plain": [
       "HBox(children=(FloatProgress(value=1.0, bar_style='info', max=1.0), HTML(value='')))"
      ]
     },
     "metadata": {},
     "output_type": "display_data"
    },
    {
     "name": "stdout",
     "output_type": "stream",
     "text": [
      "\n",
      "filtered_measurements = [272.5556144  220.85859581 259.41048372 265.38025072 388.69011742\n",
      " 184.68582254 184.29634224 232.26195265]\n",
      "new_threshold = 646.9852348698848\n"
     ]
    },
    {
     "data": {
      "application/vnd.jupyter.widget-view+json": {
       "model_id": "808d344adbfb4dbcb30114d0319d416e",
       "version_major": 2,
       "version_minor": 0
      },
      "text/plain": [
       "HBox(children=(FloatProgress(value=1.0, bar_style='info', max=1.0), HTML(value='')))"
      ]
     },
     "metadata": {},
     "output_type": "display_data"
    },
    {
     "name": "stdout",
     "output_type": "stream",
     "text": [
      "\n",
      "new_skeleton = (100, 2, 3)\n"
     ]
    },
    {
     "data": {
      "application/vnd.jupyter.widget-view+json": {
       "model_id": "a807903f4a574262b62620027217fe7b",
       "version_major": 2,
       "version_minor": 0
      },
      "text/plain": [
       "HBox(children=(FloatProgress(value=1.0, bar_style='info', max=1.0), HTML(value='')))"
      ]
     },
     "metadata": {},
     "output_type": "display_data"
    },
    {
     "name": "stdout",
     "output_type": "stream",
     "text": [
      "\n",
      "filtered_measurements = [219.33968483 220.8576833  265.44259248 418.09961367 481.40608502\n",
      " 287.93130255 238.67580556 283.64648151 274.25386181 262.33705012\n",
      " 274.06672135 310.05842736 347.40786978 283.03434562 274.6811516\n",
      " 263.11052108 226.15166822 288.76965597 305.28135963 214.68128717\n",
      " 298.20891253 342.27243259 436.0037415  347.07282557 357.75025249\n",
      " 346.77090762 279.24554509 436.77904168 316.61601297 229.24628201\n",
      " 296.77545686 265.558518   436.17334862 326.16871026 347.67650434\n",
      " 258.44580779 318.89855194 428.95018879 391.28161029 282.40217167\n",
      " 278.74427127 213.88165049 190.75499277 200.57660569 174.98336926\n",
      " 165.67011967 330.26518898 455.64309663 443.01690721 373.92801535\n",
      " 273.22907688 279.10660691 262.15076268 177.91905252 185.15605647\n",
      " 318.12337039 395.27603103 164.11553102 467.4556911  209.27478758\n",
      " 224.91553657 406.84487186 293.10098937 232.1908832  371.63606653\n",
      " 379.81017164 191.54942123 280.66018225 272.93448498 308.85956312\n",
      " 432.87805397]\n",
      "new_threshold = 1314.9454642438907\n"
     ]
    },
    {
     "data": {
      "application/vnd.jupyter.widget-view+json": {
       "model_id": "cfe66aadcbd54ca2944159c7cf7a064b",
       "version_major": 2,
       "version_minor": 0
      },
      "text/plain": [
       "HBox(children=(FloatProgress(value=1.0, bar_style='info', max=1.0), HTML(value='')))"
      ]
     },
     "metadata": {},
     "output_type": "display_data"
    },
    {
     "name": "stdout",
     "output_type": "stream",
     "text": [
      "\n",
      "new_skeleton = (65, 2, 3)\n"
     ]
    },
    {
     "data": {
      "application/vnd.jupyter.widget-view+json": {
       "model_id": "3de0f1f4863246ce877de68d27c2f268",
       "version_major": 2,
       "version_minor": 0
      },
      "text/plain": [
       "HBox(children=(FloatProgress(value=1.0, bar_style='info', max=1.0), HTML(value='')))"
      ]
     },
     "metadata": {},
     "output_type": "display_data"
    },
    {
     "name": "stdout",
     "output_type": "stream",
     "text": [
      "\n",
      "filtered_measurements = [259.21313288 280.65067522 271.76547068 239.23812258 228.40996236\n",
      " 220.12957152 557.14492182 442.01580424 353.27250283 373.96687739\n",
      " 415.63559675 267.2997801  346.74610548 321.15765583 464.80842156\n",
      " 295.63863076 313.63256922 293.91096062 213.64203043 213.34410709\n",
      " 454.35283535 331.67110828 527.1811695  348.62679745 263.56412076\n",
      " 341.3887801  338.67209875 383.85210199 340.49153332 342.40735766\n",
      " 489.02012661 365.50353245 210.40814849 508.64374229 532.42216914\n",
      " 334.57909209 250.46339425 264.12715959 540.95278979 339.3028605\n",
      " 437.59340291 428.86693906 386.27954273 193.23369719 308.13486609\n",
      " 375.91114545 282.75216466 378.66262497]\n",
      "new_threshold = 1415.0049390549093\n"
     ]
    },
    {
     "data": {
      "application/vnd.jupyter.widget-view+json": {
       "model_id": "ad213845062c4b2b8f61e3c68276a106",
       "version_major": 2,
       "version_minor": 0
      },
      "text/plain": [
       "HBox(children=(FloatProgress(value=1.0, bar_style='info', max=1.0), HTML(value='')))"
      ]
     },
     "metadata": {},
     "output_type": "display_data"
    },
    {
     "name": "stdout",
     "output_type": "stream",
     "text": [
      "\n",
      "new_skeleton = (8, 2, 3)\n"
     ]
    },
    {
     "data": {
      "application/vnd.jupyter.widget-view+json": {
       "model_id": "bd9ce41dc1054ebd9c27cb62edf9e6dc",
       "version_major": 2,
       "version_minor": 0
      },
      "text/plain": [
       "HBox(children=(FloatProgress(value=1.0, bar_style='info', max=1.0), HTML(value='')))"
      ]
     },
     "metadata": {},
     "output_type": "display_data"
    },
    {
     "name": "stdout",
     "output_type": "stream",
     "text": [
      "--> Not exactly one containing mesh: []\n",
      "\n",
      "filtered_measurements = [376.13381656 150.16903164 248.06095163 291.20677083 318.13446016\n",
      " 321.33747972]\n",
      "new_threshold = 772.9779993300633\n"
     ]
    },
    {
     "data": {
      "application/vnd.jupyter.widget-view+json": {
       "model_id": "cd953775f9d74d4f8db66eb18c0b0714",
       "version_major": 2,
       "version_minor": 0
      },
      "text/plain": [
       "HBox(children=(FloatProgress(value=1.0, bar_style='info', max=1.0), HTML(value='')))"
      ]
     },
     "metadata": {},
     "output_type": "display_data"
    },
    {
     "name": "stdout",
     "output_type": "stream",
     "text": [
      "--> Not exactly one containing mesh: []\n",
      "\n",
      "new_skeleton = (2, 2, 3)\n"
     ]
    },
    {
     "data": {
      "application/vnd.jupyter.widget-view+json": {
       "model_id": "caa32290fe22438a929e3654d905ef91",
       "version_major": 2,
       "version_minor": 0
      },
      "text/plain": [
       "HBox(children=(FloatProgress(value=1.0, bar_style='info', max=1.0), HTML(value='')))"
      ]
     },
     "metadata": {},
     "output_type": "display_data"
    },
    {
     "name": "stdout",
     "output_type": "stream",
     "text": [
      "\n",
      "filtered_measurements = [1110.17956539 1071.27155294]\n",
      "new_threshold = 2932.6323814430343\n"
     ]
    },
    {
     "data": {
      "application/vnd.jupyter.widget-view+json": {
       "model_id": "f560a282c61a4d71849a14503cfecf5c",
       "version_major": 2,
       "version_minor": 0
      },
      "text/plain": [
       "HBox(children=(FloatProgress(value=1.0, bar_style='info', max=1.0), HTML(value='')))"
      ]
     },
     "metadata": {},
     "output_type": "display_data"
    },
    {
     "name": "stdout",
     "output_type": "stream",
     "text": [
      "\n",
      "new_skeleton = (7, 2, 3)\n"
     ]
    },
    {
     "data": {
      "application/vnd.jupyter.widget-view+json": {
       "model_id": "37924663ea9546ff894ce32f3516606f",
       "version_major": 2,
       "version_minor": 0
      },
      "text/plain": [
       "HBox(children=(FloatProgress(value=1.0, bar_style='info', max=1.0), HTML(value='')))"
      ]
     },
     "metadata": {},
     "output_type": "display_data"
    },
    {
     "name": "stdout",
     "output_type": "stream",
     "text": [
      "\n",
      "filtered_measurements = [381.54145107 240.21852276 207.04009035 328.41382833]\n",
      "new_threshold = 784.4293349083548\n"
     ]
    },
    {
     "data": {
      "application/vnd.jupyter.widget-view+json": {
       "model_id": "80ad89f1ab2d4712b5651658262fdfe1",
       "version_major": 2,
       "version_minor": 0
      },
      "text/plain": [
       "HBox(children=(FloatProgress(value=1.0, bar_style='info', max=1.0), HTML(value='')))"
      ]
     },
     "metadata": {},
     "output_type": "display_data"
    },
    {
     "name": "stdout",
     "output_type": "stream",
     "text": [
      "\n",
      "new_skeleton = (29, 2, 3)\n"
     ]
    },
    {
     "data": {
      "application/vnd.jupyter.widget-view+json": {
       "model_id": "6ae989b29fbf485a831fcf820eb00b6b",
       "version_major": 2,
       "version_minor": 0
      },
      "text/plain": [
       "HBox(children=(FloatProgress(value=1.0, bar_style='info', max=1.0), HTML(value='')))"
      ]
     },
     "metadata": {},
     "output_type": "display_data"
    },
    {
     "name": "stdout",
     "output_type": "stream",
     "text": [
      "--> Not exactly one containing mesh: []\n",
      "\n",
      "filtered_measurements = [150.25001593 151.51030779 100.91721568 119.81815972 144.41850891\n",
      " 147.66740712 132.14672565 128.28001524  68.32437415 107.72373238\n",
      " 166.02376641 117.37756231  96.44515948  66.92217333 116.64414898\n",
      " 150.4959575  136.58347963 123.53107436 116.02176193 118.74522849\n",
      "  78.05989951 107.89938904  60.04893587  92.67588591 104.55902659\n",
      " 117.71769552]\n",
      "new_threshold = 350.24095353179587\n"
     ]
    },
    {
     "data": {
      "application/vnd.jupyter.widget-view+json": {
       "model_id": "ff2379da944c41149bb065e014f36a3a",
       "version_major": 2,
       "version_minor": 0
      },
      "text/plain": [
       "HBox(children=(FloatProgress(value=1.0, bar_style='info', max=1.0), HTML(value='')))"
      ]
     },
     "metadata": {},
     "output_type": "display_data"
    },
    {
     "name": "stdout",
     "output_type": "stream",
     "text": [
      "--> Not exactly one containing mesh: []\n",
      "\n",
      "new_skeleton = (2, 2, 3)\n"
     ]
    },
    {
     "data": {
      "application/vnd.jupyter.widget-view+json": {
       "model_id": "f022adc466094a33b5007d7f1411476a",
       "version_major": 2,
       "version_minor": 0
      },
      "text/plain": [
       "HBox(children=(FloatProgress(value=1.0, bar_style='info', max=1.0), HTML(value='')))"
      ]
     },
     "metadata": {},
     "output_type": "display_data"
    },
    {
     "name": "stdout",
     "output_type": "stream",
     "text": [
      "--> Not exactly one containing mesh: [0 1]\n",
      "\n",
      "filtered_measurements = [667.09627494 260.65655606]\n",
      "new_threshold = 1592.9642680430118\n"
     ]
    },
    {
     "data": {
      "application/vnd.jupyter.widget-view+json": {
       "model_id": "2b1ca093c02246859a6702644f93d554",
       "version_major": 2,
       "version_minor": 0
      },
      "text/plain": [
       "HBox(children=(FloatProgress(value=1.0, bar_style='info', max=1.0), HTML(value='')))"
      ]
     },
     "metadata": {},
     "output_type": "display_data"
    },
    {
     "name": "stdout",
     "output_type": "stream",
     "text": [
      "--> Not exactly one containing mesh: [0 1]\n",
      "\n",
      "new_skeleton = (2, 2, 3)\n"
     ]
    },
    {
     "data": {
      "application/vnd.jupyter.widget-view+json": {
       "model_id": "5b8835d5f206441b9181dc69c54642ec",
       "version_major": 2,
       "version_minor": 0
      },
      "text/plain": [
       "HBox(children=(FloatProgress(value=1.0, bar_style='info', max=1.0), HTML(value='')))"
      ]
     },
     "metadata": {},
     "output_type": "display_data"
    },
    {
     "name": "stdout",
     "output_type": "stream",
     "text": [
      "\n",
      "filtered_measurements = [712.84324979 418.41283653]\n",
      "new_threshold = 1743.4513930274632\n"
     ]
    },
    {
     "data": {
      "application/vnd.jupyter.widget-view+json": {
       "model_id": "46636b4c561a4a27a3fd55a07ea4b2c7",
       "version_major": 2,
       "version_minor": 0
      },
      "text/plain": [
       "HBox(children=(FloatProgress(value=1.0, bar_style='info', max=1.0), HTML(value='')))"
      ]
     },
     "metadata": {},
     "output_type": "display_data"
    },
    {
     "name": "stdout",
     "output_type": "stream",
     "text": [
      "\n",
      "new_skeleton = (23, 2, 3)\n"
     ]
    },
    {
     "data": {
      "application/vnd.jupyter.widget-view+json": {
       "model_id": "16dbf8a85c034a35a776c17a629d55cd",
       "version_major": 2,
       "version_minor": 0
      },
      "text/plain": [
       "HBox(children=(FloatProgress(value=1.0, bar_style='info', max=1.0), HTML(value='')))"
      ]
     },
     "metadata": {},
     "output_type": "display_data"
    },
    {
     "name": "stdout",
     "output_type": "stream",
     "text": [
      "\n",
      "filtered_measurements = [313.83941681 278.80326666 440.96723069 292.21353228 291.54051062\n",
      " 257.657814   276.38704228 240.80809977 349.42690085 320.46865932\n",
      " 178.57059045 288.50646679 281.6229527  237.25373463]\n",
      "new_threshold = 1002.5338394341719\n"
     ]
    },
    {
     "data": {
      "application/vnd.jupyter.widget-view+json": {
       "model_id": "bc43cc33f0754e4883f8d9c414652ae6",
       "version_major": 2,
       "version_minor": 0
      },
      "text/plain": [
       "HBox(children=(FloatProgress(value=1.0, bar_style='info', max=1.0), HTML(value='')))"
      ]
     },
     "metadata": {},
     "output_type": "display_data"
    },
    {
     "name": "stdout",
     "output_type": "stream",
     "text": [
      "\n",
      "new_skeleton = (17, 2, 3)\n"
     ]
    },
    {
     "data": {
      "application/vnd.jupyter.widget-view+json": {
       "model_id": "9b5a4d9862af4c54a73d012d6901e171",
       "version_major": 2,
       "version_minor": 0
      },
      "text/plain": [
       "HBox(children=(FloatProgress(value=1.0, bar_style='info', max=1.0), HTML(value='')))"
      ]
     },
     "metadata": {},
     "output_type": "display_data"
    },
    {
     "name": "stdout",
     "output_type": "stream",
     "text": [
      "--> Not exactly one containing mesh: []\n",
      "\n",
      "filtered_measurements = [128.23911882  92.82195058  86.35402401 105.01200027 115.67314744\n",
      "  77.48946021 105.14793031 111.55370403  60.69675359  67.22303932\n",
      "  87.11385416  79.77991306]\n",
      "new_threshold = 253.89518878748328\n"
     ]
    },
    {
     "data": {
      "application/vnd.jupyter.widget-view+json": {
       "model_id": "f00786e36be347b48cbd1236f5779012",
       "version_major": 2,
       "version_minor": 0
      },
      "text/plain": [
       "HBox(children=(FloatProgress(value=1.0, bar_style='info', max=1.0), HTML(value='')))"
      ]
     },
     "metadata": {},
     "output_type": "display_data"
    },
    {
     "name": "stdout",
     "output_type": "stream",
     "text": [
      "--> Not exactly one containing mesh: []\n",
      "THERE WERE NO FACES THAT FIT THE DISTANCE (253.89518878748328) and Z transform requirements\n",
      "So just skipping this edge\n",
      "\n",
      "new_skeleton = (2, 2, 3)\n"
     ]
    },
    {
     "data": {
      "application/vnd.jupyter.widget-view+json": {
       "model_id": "f6070dce86d944459cb57248c76ad06c",
       "version_major": 2,
       "version_minor": 0
      },
      "text/plain": [
       "HBox(children=(FloatProgress(value=1.0, bar_style='info', max=1.0), HTML(value='')))"
      ]
     },
     "metadata": {},
     "output_type": "display_data"
    },
    {
     "name": "stdout",
     "output_type": "stream",
     "text": [
      "--> Not exactly one containing mesh: []\n",
      "\n",
      "filtered_measurements = [258.2707348  180.93784687]\n",
      "new_threshold = 517.2730266220951\n"
     ]
    },
    {
     "data": {
      "application/vnd.jupyter.widget-view+json": {
       "model_id": "3bbaa87d8a4341d5ae3f6a542e52f6d5",
       "version_major": 2,
       "version_minor": 0
      },
      "text/plain": [
       "HBox(children=(FloatProgress(value=1.0, bar_style='info', max=1.0), HTML(value='')))"
      ]
     },
     "metadata": {},
     "output_type": "display_data"
    },
    {
     "name": "stdout",
     "output_type": "stream",
     "text": [
      "--> Not exactly one containing mesh: []\n",
      "\n",
      "new_skeleton = (2, 2, 3)\n"
     ]
    },
    {
     "data": {
      "application/vnd.jupyter.widget-view+json": {
       "model_id": "ebed5e9927e04542b2b0ce03271c929f",
       "version_major": 2,
       "version_minor": 0
      },
      "text/plain": [
       "HBox(children=(FloatProgress(value=1.0, bar_style='info', max=1.0), HTML(value='')))"
      ]
     },
     "metadata": {},
     "output_type": "display_data"
    },
    {
     "name": "stdout",
     "output_type": "stream",
     "text": [
      "\n",
      "filtered_measurements = [274.83113755 363.37248761]\n",
      "new_threshold = 700.7232313482805\n"
     ]
    },
    {
     "data": {
      "application/vnd.jupyter.widget-view+json": {
       "model_id": "412d2a11a45c4dca8262003f45429934",
       "version_major": 2,
       "version_minor": 0
      },
      "text/plain": [
       "HBox(children=(FloatProgress(value=1.0, bar_style='info', max=1.0), HTML(value='')))"
      ]
     },
     "metadata": {},
     "output_type": "display_data"
    },
    {
     "name": "stdout",
     "output_type": "stream",
     "text": [
      "\n",
      "new_skeleton = (2, 2, 3)\n"
     ]
    },
    {
     "data": {
      "application/vnd.jupyter.widget-view+json": {
       "model_id": "b50a321a02b64293a145bf685d05d799",
       "version_major": 2,
       "version_minor": 0
      },
      "text/plain": [
       "HBox(children=(FloatProgress(value=1.0, bar_style='info', max=1.0), HTML(value='')))"
      ]
     },
     "metadata": {},
     "output_type": "display_data"
    },
    {
     "name": "stdout",
     "output_type": "stream",
     "text": [
      "\n",
      "filtered_measurements = [307.37212293 448.88857992]\n",
      "new_threshold = 989.3499377421477\n"
     ]
    },
    {
     "data": {
      "application/vnd.jupyter.widget-view+json": {
       "model_id": "cda530401ae542c8875e81b2f2601eb5",
       "version_major": 2,
       "version_minor": 0
      },
      "text/plain": [
       "HBox(children=(FloatProgress(value=1.0, bar_style='info', max=1.0), HTML(value='')))"
      ]
     },
     "metadata": {},
     "output_type": "display_data"
    },
    {
     "name": "stdout",
     "output_type": "stream",
     "text": [
      "\n",
      "new_skeleton = (17, 2, 3)\n"
     ]
    },
    {
     "data": {
      "application/vnd.jupyter.widget-view+json": {
       "model_id": "976b8704a4dc486e8ba6af81aefad6c1",
       "version_major": 2,
       "version_minor": 0
      },
      "text/plain": [
       "HBox(children=(FloatProgress(value=1.0, bar_style='info', max=1.0), HTML(value='')))"
      ]
     },
     "metadata": {},
     "output_type": "display_data"
    },
    {
     "name": "stdout",
     "output_type": "stream",
     "text": [
      "\n",
      "filtered_measurements = [130.21741448 101.77797915  91.27338211  93.97063575 104.91934293\n",
      " 155.26556909 152.60514653 105.64678902 109.16916781  88.07390584\n",
      "  92.60889933 121.45388875 119.86109611  88.72180854]\n",
      "new_threshold = 293.6535844678276\n"
     ]
    },
    {
     "data": {
      "application/vnd.jupyter.widget-view+json": {
       "model_id": "1cbf3a1f49864f10b19f52e83238df9c",
       "version_major": 2,
       "version_minor": 0
      },
      "text/plain": [
       "HBox(children=(FloatProgress(value=1.0, bar_style='info', max=1.0), HTML(value='')))"
      ]
     },
     "metadata": {},
     "output_type": "display_data"
    },
    {
     "name": "stdout",
     "output_type": "stream",
     "text": [
      "\n",
      "new_skeleton = (18, 2, 3)\n"
     ]
    },
    {
     "data": {
      "application/vnd.jupyter.widget-view+json": {
       "model_id": "5deba770ea174926ba273a52f810b1c2",
       "version_major": 2,
       "version_minor": 0
      },
      "text/plain": [
       "HBox(children=(FloatProgress(value=1.0, bar_style='info', max=1.0), HTML(value='')))"
      ]
     },
     "metadata": {},
     "output_type": "display_data"
    },
    {
     "name": "stdout",
     "output_type": "stream",
     "text": [
      "\n",
      "filtered_measurements = [260.01122201 229.069087   392.47029977 258.23611559 277.93410627\n",
      " 320.26410166 279.84049455 286.64814234 315.12340597 240.33185863\n",
      " 168.6615919  217.00487702 297.38353797]\n",
      "new_threshold = 817.4344852949826\n"
     ]
    },
    {
     "data": {
      "application/vnd.jupyter.widget-view+json": {
       "model_id": "83c5364206434992bc6387e0d75bb237",
       "version_major": 2,
       "version_minor": 0
      },
      "text/plain": [
       "HBox(children=(FloatProgress(value=1.0, bar_style='info', max=1.0), HTML(value='')))"
      ]
     },
     "metadata": {},
     "output_type": "display_data"
    },
    {
     "name": "stdout",
     "output_type": "stream",
     "text": [
      "\n",
      "\n",
      "Working on limb #8\n"
     ]
    },
    {
     "data": {
      "application/vnd.jupyter.widget-view+json": {
       "model_id": "682b5f46a96e430ba837528ef4838488",
       "version_major": 2,
       "version_minor": 0
      },
      "text/plain": [
       "HBox(children=(FloatProgress(value=1.0, bar_style='info', max=1.0), HTML(value='')))"
      ]
     },
     "metadata": {},
     "output_type": "display_data"
    },
    {
     "name": "stdout",
     "output_type": "stream",
     "text": [
      "new_skeleton = (26, 2, 3)\n"
     ]
    },
    {
     "data": {
      "application/vnd.jupyter.widget-view+json": {
       "model_id": "1f2230878dd34818b16ffb90a6ea2094",
       "version_major": 2,
       "version_minor": 0
      },
      "text/plain": [
       "HBox(children=(FloatProgress(value=1.0, bar_style='info', max=1.0), HTML(value='')))"
      ]
     },
     "metadata": {},
     "output_type": "display_data"
    },
    {
     "name": "stdout",
     "output_type": "stream",
     "text": [
      "--> Not exactly one containing mesh: []\n",
      "--> Not exactly one containing mesh: []\n",
      "\n",
      "filtered_measurements = [170.95303108 128.04451396 168.9442895  179.85657223 128.49255536\n",
      " 108.26784466 169.41992302 144.64136194 146.29315172  88.82579318\n",
      " 147.84022532 183.74570859 177.07208409  59.52587531  70.65818007\n",
      "  65.75302824  93.66476487 157.32656797 104.10351442  74.2741939 ]\n",
      "new_threshold = 404.4623927888284\n"
     ]
    },
    {
     "data": {
      "application/vnd.jupyter.widget-view+json": {
       "model_id": "de1abad8065948d2b53c3548c0b3fd4c",
       "version_major": 2,
       "version_minor": 0
      },
      "text/plain": [
       "HBox(children=(FloatProgress(value=1.0, bar_style='info', max=1.0), HTML(value='')))"
      ]
     },
     "metadata": {},
     "output_type": "display_data"
    },
    {
     "name": "stdout",
     "output_type": "stream",
     "text": [
      "--> Not exactly one containing mesh: []\n",
      "--> Not exactly one containing mesh: []\n",
      "\n",
      "new_skeleton = (15, 2, 3)\n"
     ]
    },
    {
     "data": {
      "application/vnd.jupyter.widget-view+json": {
       "model_id": "b6a0b773edf04e5783259217bf6136fe",
       "version_major": 2,
       "version_minor": 0
      },
      "text/plain": [
       "HBox(children=(FloatProgress(value=1.0, bar_style='info', max=1.0), HTML(value='')))"
      ]
     },
     "metadata": {},
     "output_type": "display_data"
    },
    {
     "name": "stdout",
     "output_type": "stream",
     "text": [
      "--> Not exactly one containing mesh: []\n",
      "\n",
      "filtered_measurements = [123.39444526  87.86213303 136.30036045  70.38713387 127.61185581\n",
      "  66.68607393 111.63408264 102.6608991   63.84632034 164.5388562 ]\n",
      "new_threshold = 368.64745592817525\n"
     ]
    },
    {
     "data": {
      "application/vnd.jupyter.widget-view+json": {
       "model_id": "90ab75de74e6440d96f1031af9f7b2ea",
       "version_major": 2,
       "version_minor": 0
      },
      "text/plain": [
       "HBox(children=(FloatProgress(value=1.0, bar_style='info', max=1.0), HTML(value='')))"
      ]
     },
     "metadata": {},
     "output_type": "display_data"
    },
    {
     "name": "stdout",
     "output_type": "stream",
     "text": [
      "--> Not exactly one containing mesh: []\n",
      "--> Not exactly one containing mesh: []\n",
      "\n",
      "new_skeleton = (7, 2, 3)\n"
     ]
    },
    {
     "data": {
      "application/vnd.jupyter.widget-view+json": {
       "model_id": "1edacf775fe84626925a9806beb8213d",
       "version_major": 2,
       "version_minor": 0
      },
      "text/plain": [
       "HBox(children=(FloatProgress(value=1.0, bar_style='info', max=1.0), HTML(value='')))"
      ]
     },
     "metadata": {},
     "output_type": "display_data"
    },
    {
     "name": "stdout",
     "output_type": "stream",
     "text": [
      "--> Not exactly one containing mesh: []\n",
      "\n",
      "filtered_measurements = [87.48691333 69.99655498 65.62305525 65.47920174 91.96324613]\n",
      "new_threshold = 168.6847550318839\n"
     ]
    },
    {
     "data": {
      "application/vnd.jupyter.widget-view+json": {
       "model_id": "520fb50bc5ed4e67b85479876ea60e05",
       "version_major": 2,
       "version_minor": 0
      },
      "text/plain": [
       "HBox(children=(FloatProgress(value=1.0, bar_style='info', max=1.0), HTML(value='')))"
      ]
     },
     "metadata": {},
     "output_type": "display_data"
    },
    {
     "name": "stdout",
     "output_type": "stream",
     "text": [
      "--> Not exactly one containing mesh: []\n",
      "--> Not exactly one containing mesh: []\n",
      "\n",
      "new_skeleton = (15, 2, 3)\n"
     ]
    },
    {
     "data": {
      "application/vnd.jupyter.widget-view+json": {
       "model_id": "2e3461d774514ec6935484f1bebd4127",
       "version_major": 2,
       "version_minor": 0
      },
      "text/plain": [
       "HBox(children=(FloatProgress(value=1.0, bar_style='info', max=1.0), HTML(value='')))"
      ]
     },
     "metadata": {},
     "output_type": "display_data"
    },
    {
     "name": "stdout",
     "output_type": "stream",
     "text": [
      "\n",
      "filtered_measurements = [187.98013083 194.00491219 237.17507458 306.91000814 225.59545662\n",
      " 197.39424621 342.27959208 400.08825462 274.43473925 363.29156168\n",
      " 166.68957188 362.81427543]\n",
      "new_threshold = 1046.3396283275451\n"
     ]
    },
    {
     "data": {
      "application/vnd.jupyter.widget-view+json": {
       "model_id": "7dc27eeef6a64eddb1455e0fcfbadb36",
       "version_major": 2,
       "version_minor": 0
      },
      "text/plain": [
       "HBox(children=(FloatProgress(value=1.0, bar_style='info', max=1.0), HTML(value='')))"
      ]
     },
     "metadata": {},
     "output_type": "display_data"
    },
    {
     "name": "stdout",
     "output_type": "stream",
     "text": [
      "\n",
      "new_skeleton = (89, 2, 3)\n"
     ]
    },
    {
     "data": {
      "application/vnd.jupyter.widget-view+json": {
       "model_id": "f432d5f2d31b47848d584fe660020579",
       "version_major": 2,
       "version_minor": 0
      },
      "text/plain": [
       "HBox(children=(FloatProgress(value=1.0, bar_style='info', max=1.0), HTML(value='')))"
      ]
     },
     "metadata": {},
     "output_type": "display_data"
    },
    {
     "name": "stdout",
     "output_type": "stream",
     "text": [
      "\n",
      "filtered_measurements = [310.86378795 467.04012364 157.26979256 206.10267455 256.45088802\n",
      " 290.09243397 207.13574839 117.47062103 345.25977692 169.59103599\n",
      " 233.21211439 189.30109429 329.4605308  376.42574132 236.55410532\n",
      " 312.98901901 343.08186488 221.34748321 296.28716153 283.14386147\n",
      " 167.47459844 122.51951787 158.38637399 475.11044457 421.95162319\n",
      " 368.84507554 441.65928933 431.45043448 397.41953021 366.04114796\n",
      " 307.21968129 428.79781138 262.83088682 166.36164326 401.56671737\n",
      " 272.47401556 267.13795281 251.89194782 194.6120977  404.7192804\n",
      " 413.64925115 409.87548917 365.01591334 343.3236487  353.59050646\n",
      " 292.00330721 286.74794276 189.77124234 234.67044346 334.8310814\n",
      " 446.9860176  481.26233893 327.32654413 272.30937251 460.14402169\n",
      " 252.66095426 371.4600133  129.12639825 211.26179005 315.12204693\n",
      " 272.27678284 313.12547401 287.80147865 296.88474061 265.15414078\n",
      " 340.07956279 266.10706939 194.68430005 214.09395347 325.10585989\n",
      " 323.26779958]\n",
      "new_threshold = 1218.2762070537096\n"
     ]
    },
    {
     "data": {
      "application/vnd.jupyter.widget-view+json": {
       "model_id": "22d1e9f1352141b99bd0f29eeb07b566",
       "version_major": 2,
       "version_minor": 0
      },
      "text/plain": [
       "HBox(children=(FloatProgress(value=1.0, bar_style='info', max=1.0), HTML(value='')))"
      ]
     },
     "metadata": {},
     "output_type": "display_data"
    },
    {
     "name": "stdout",
     "output_type": "stream",
     "text": [
      "\n",
      "new_skeleton = (63, 2, 3)\n"
     ]
    },
    {
     "data": {
      "application/vnd.jupyter.widget-view+json": {
       "model_id": "d0e1ebde5c7e47648a73f104ecc6593b",
       "version_major": 2,
       "version_minor": 0
      },
      "text/plain": [
       "HBox(children=(FloatProgress(value=1.0, bar_style='info', max=1.0), HTML(value='')))"
      ]
     },
     "metadata": {},
     "output_type": "display_data"
    },
    {
     "name": "stdout",
     "output_type": "stream",
     "text": [
      "\n",
      "filtered_measurements = [385.94735219 248.79630631 190.81230586 204.21552551 378.56033026\n",
      " 211.23299689 176.71692607 180.74238801 290.56703677 246.0795681\n",
      " 327.9431458  353.87292136 251.66246414 275.50878035 168.39544744\n",
      " 156.97078897 326.51902639 191.01084317 193.05974093 279.58471198\n",
      " 143.74004419 373.9465218  264.31300264 322.78612229 245.26816839\n",
      " 206.34276848 261.73789403 324.43931383 218.17644063 272.98419793\n",
      " 277.46923761 287.93441025 241.85634726 166.56881702 167.46731604\n",
      " 271.04996093 308.10189605 173.30908477 248.02102761 349.24413273\n",
      " 167.39592355 198.67794269 259.93886689]\n",
      "new_threshold = 952.87340976296\n"
     ]
    },
    {
     "data": {
      "application/vnd.jupyter.widget-view+json": {
       "model_id": "22c977bc6c4342209f51f0e022f625a9",
       "version_major": 2,
       "version_minor": 0
      },
      "text/plain": [
       "HBox(children=(FloatProgress(value=1.0, bar_style='info', max=1.0), HTML(value='')))"
      ]
     },
     "metadata": {},
     "output_type": "display_data"
    },
    {
     "name": "stdout",
     "output_type": "stream",
     "text": [
      "\n",
      "new_skeleton = (11, 2, 3)\n"
     ]
    },
    {
     "data": {
      "application/vnd.jupyter.widget-view+json": {
       "model_id": "1f146d8bb9ff4247bea65d7bd56d4b0b",
       "version_major": 2,
       "version_minor": 0
      },
      "text/plain": [
       "HBox(children=(FloatProgress(value=1.0, bar_style='info', max=1.0), HTML(value='')))"
      ]
     },
     "metadata": {},
     "output_type": "display_data"
    },
    {
     "name": "stdout",
     "output_type": "stream",
     "text": [
      "--> Not exactly one containing mesh: []\n",
      "\n",
      "filtered_measurements = [106.44466985  54.23271077 113.05887289 130.94000019 119.31554889\n",
      "  94.23974192  74.98623219]\n",
      "new_threshold = 236.15926049121137\n"
     ]
    },
    {
     "data": {
      "application/vnd.jupyter.widget-view+json": {
       "model_id": "2b7f1dca4a5e4e67b9310b5e2f003bf3",
       "version_major": 2,
       "version_minor": 0
      },
      "text/plain": [
       "HBox(children=(FloatProgress(value=1.0, bar_style='info', max=1.0), HTML(value='')))"
      ]
     },
     "metadata": {},
     "output_type": "display_data"
    },
    {
     "name": "stdout",
     "output_type": "stream",
     "text": [
      "--> Not exactly one containing mesh: []\n",
      "\n",
      "new_skeleton = (9, 2, 3)\n"
     ]
    },
    {
     "data": {
      "application/vnd.jupyter.widget-view+json": {
       "model_id": "ee0257ae0d3046e8961238d11ffebdbd",
       "version_major": 2,
       "version_minor": 0
      },
      "text/plain": [
       "HBox(children=(FloatProgress(value=1.0, bar_style='info', max=1.0), HTML(value='')))"
      ]
     },
     "metadata": {},
     "output_type": "display_data"
    },
    {
     "name": "stdout",
     "output_type": "stream",
     "text": [
      "\n",
      "filtered_measurements = [125.04088053 202.35583139 187.55528809 116.09520394 214.70540015]\n",
      "new_threshold = 513.2570976740813\n"
     ]
    },
    {
     "data": {
      "application/vnd.jupyter.widget-view+json": {
       "model_id": "b8d3d9c0219d4d9fad6ef37a5e9c361c",
       "version_major": 2,
       "version_minor": 0
      },
      "text/plain": [
       "HBox(children=(FloatProgress(value=1.0, bar_style='info', max=1.0), HTML(value='')))"
      ]
     },
     "metadata": {},
     "output_type": "display_data"
    },
    {
     "name": "stdout",
     "output_type": "stream",
     "text": [
      "\n",
      "new_skeleton = (4, 2, 3)\n"
     ]
    },
    {
     "data": {
      "application/vnd.jupyter.widget-view+json": {
       "model_id": "755f1cc7b0b34837817ae26f73522900",
       "version_major": 2,
       "version_minor": 0
      },
      "text/plain": [
       "HBox(children=(FloatProgress(value=1.0, bar_style='info', max=1.0), HTML(value='')))"
      ]
     },
     "metadata": {},
     "output_type": "display_data"
    },
    {
     "name": "stdout",
     "output_type": "stream",
     "text": [
      "\n",
      "filtered_measurements = [408.43017106 379.70754571 525.1236263 ]\n",
      "new_threshold = 1479.000968201064\n"
     ]
    },
    {
     "data": {
      "application/vnd.jupyter.widget-view+json": {
       "model_id": "582f225f5ba24a6a872c1a8a007ace2f",
       "version_major": 2,
       "version_minor": 0
      },
      "text/plain": [
       "HBox(children=(FloatProgress(value=1.0, bar_style='info', max=1.0), HTML(value='')))"
      ]
     },
     "metadata": {},
     "output_type": "display_data"
    },
    {
     "name": "stdout",
     "output_type": "stream",
     "text": [
      "\n",
      "new_skeleton = (24, 2, 3)\n"
     ]
    },
    {
     "data": {
      "application/vnd.jupyter.widget-view+json": {
       "model_id": "517ff36c690449a89462e4c1ca694649",
       "version_major": 2,
       "version_minor": 0
      },
      "text/plain": [
       "HBox(children=(FloatProgress(value=1.0, bar_style='info', max=1.0), HTML(value='')))"
      ]
     },
     "metadata": {},
     "output_type": "display_data"
    },
    {
     "name": "stdout",
     "output_type": "stream",
     "text": [
      "\n",
      "filtered_measurements = [301.71072449 298.8957697  530.81522393 451.39876341 564.22836236\n",
      " 325.06711397 326.02653789 327.11604986 382.89174011 317.36169893\n",
      " 360.07703385 345.74310403 372.05114811 500.38921275 541.25932022\n",
      " 540.60295871 424.41831907 411.49097183 450.87213082 425.94846767]\n",
      "new_threshold = 1163.5168112435504\n"
     ]
    },
    {
     "data": {
      "application/vnd.jupyter.widget-view+json": {
       "model_id": "5da40fbab1be44dda5101eb666e93439",
       "version_major": 2,
       "version_minor": 0
      },
      "text/plain": [
       "HBox(children=(FloatProgress(value=1.0, bar_style='info', max=1.0), HTML(value='')))"
      ]
     },
     "metadata": {},
     "output_type": "display_data"
    },
    {
     "name": "stdout",
     "output_type": "stream",
     "text": [
      "\n"
     ]
    },
    {
     "data": {
      "application/vnd.jupyter.widget-view+json": {
       "model_id": "611b7343d743458ab713eecdf45d4ab1",
       "version_major": 2,
       "version_minor": 0
      },
      "text/plain": [
       "HBox(children=(FloatProgress(value=1.0, bar_style='info', max=1.0), HTML(value='')))"
      ]
     },
     "metadata": {},
     "output_type": "display_data"
    },
    {
     "name": "stdout",
     "output_type": "stream",
     "text": [
      "\n",
      "filtered_measurements = [1276.02969346]\n",
      "new_threshold = 2995.299167751342\n"
     ]
    },
    {
     "data": {
      "application/vnd.jupyter.widget-view+json": {
       "model_id": "804dd79f87304c4094c7c43f16e6c4d2",
       "version_major": 2,
       "version_minor": 0
      },
      "text/plain": [
       "HBox(children=(FloatProgress(value=1.0, bar_style='info', max=1.0), HTML(value='')))"
      ]
     },
     "metadata": {},
     "output_type": "display_data"
    },
    {
     "name": "stdout",
     "output_type": "stream",
     "text": [
      "\n",
      "\n",
      "Working on limb #9\n"
     ]
    },
    {
     "data": {
      "application/vnd.jupyter.widget-view+json": {
       "model_id": "7d97163354904af9b6aa0a34c6b4feee",
       "version_major": 2,
       "version_minor": 0
      },
      "text/plain": [
       "HBox(children=(FloatProgress(value=1.0, bar_style='info', max=1.0), HTML(value='')))"
      ]
     },
     "metadata": {},
     "output_type": "display_data"
    },
    {
     "name": "stdout",
     "output_type": "stream",
     "text": [
      "new_skeleton = (17, 2, 3)\n"
     ]
    },
    {
     "data": {
      "application/vnd.jupyter.widget-view+json": {
       "model_id": "a45e3cd85df14c7e841035a491a337ba",
       "version_major": 2,
       "version_minor": 0
      },
      "text/plain": [
       "HBox(children=(FloatProgress(value=1.0, bar_style='info', max=1.0), HTML(value='')))"
      ]
     },
     "metadata": {},
     "output_type": "display_data"
    },
    {
     "name": "stdout",
     "output_type": "stream",
     "text": [
      "\n",
      "filtered_measurements = [103.45313093  93.34382866  81.5069643   94.82979382  60.2113455\n",
      "  83.94019851 108.03643305 109.43286003  79.33869398  94.42577673\n",
      "  71.710616    82.31568256  84.55209328]\n",
      "new_threshold = 215.43249567387352\n"
     ]
    },
    {
     "data": {
      "application/vnd.jupyter.widget-view+json": {
       "model_id": "eba3f39820224e0d891c47c8851a0034",
       "version_major": 2,
       "version_minor": 0
      },
      "text/plain": [
       "HBox(children=(FloatProgress(value=1.0, bar_style='info', max=1.0), HTML(value='')))"
      ]
     },
     "metadata": {},
     "output_type": "display_data"
    },
    {
     "name": "stdout",
     "output_type": "stream",
     "text": [
      "--> Not exactly one containing mesh: []\n",
      "\n",
      "new_skeleton = (39, 2, 3)\n"
     ]
    },
    {
     "data": {
      "application/vnd.jupyter.widget-view+json": {
       "model_id": "e5c34ff76a4c4de3b1ade47958ecd187",
       "version_major": 2,
       "version_minor": 0
      },
      "text/plain": [
       "HBox(children=(FloatProgress(value=1.0, bar_style='info', max=1.0), HTML(value='')))"
      ]
     },
     "metadata": {},
     "output_type": "display_data"
    },
    {
     "name": "stdout",
     "output_type": "stream",
     "text": [
      "\n",
      "filtered_measurements = [380.29633537 375.41853179 358.37444252 338.67581937 337.34343651\n",
      " 325.82386366 307.4357222  266.0421618  270.41234043 267.99205994\n",
      " 285.17715925 291.90029829 289.61221993 234.56210699 249.06940974\n",
      " 238.97225719 207.60206451 233.69354069 257.19181381 195.6507946\n",
      " 189.38968358 166.36993871 183.25955897 172.73683355 148.86637198\n",
      " 128.83812607 147.38760499 190.7269744  278.29232332 257.1937272\n",
      " 164.08651819 154.49864933 210.9169862  339.39441308]\n",
      "new_threshold = 546.3228649189286\n"
     ]
    },
    {
     "data": {
      "application/vnd.jupyter.widget-view+json": {
       "model_id": "800a60c3f65542c388a3cf0a281ef813",
       "version_major": 2,
       "version_minor": 0
      },
      "text/plain": [
       "HBox(children=(FloatProgress(value=1.0, bar_style='info', max=1.0), HTML(value='')))"
      ]
     },
     "metadata": {},
     "output_type": "display_data"
    },
    {
     "name": "stdout",
     "output_type": "stream",
     "text": [
      "\n",
      "new_skeleton = (16, 2, 3)\n"
     ]
    },
    {
     "data": {
      "application/vnd.jupyter.widget-view+json": {
       "model_id": "e223366122bf4a8c8bf531f3ec5675bd",
       "version_major": 2,
       "version_minor": 0
      },
      "text/plain": [
       "HBox(children=(FloatProgress(value=1.0, bar_style='info', max=1.0), HTML(value='')))"
      ]
     },
     "metadata": {},
     "output_type": "display_data"
    },
    {
     "name": "stdout",
     "output_type": "stream",
     "text": [
      "\n",
      "filtered_measurements = [139.52808925 143.40921582 143.06575454 244.28437455 179.64241348\n",
      " 162.6637331  197.16000806 229.00614021 189.62383354 129.06417412\n",
      " 135.77538578 175.69311779]\n",
      "new_threshold = 442.2750726273375\n"
     ]
    },
    {
     "data": {
      "application/vnd.jupyter.widget-view+json": {
       "model_id": "06c3c084f9634584b387f9331ee6cefb",
       "version_major": 2,
       "version_minor": 0
      },
      "text/plain": [
       "HBox(children=(FloatProgress(value=1.0, bar_style='info', max=1.0), HTML(value='')))"
      ]
     },
     "metadata": {},
     "output_type": "display_data"
    },
    {
     "name": "stdout",
     "output_type": "stream",
     "text": [
      "\n",
      "new_skeleton = (14, 2, 3)\n"
     ]
    },
    {
     "data": {
      "application/vnd.jupyter.widget-view+json": {
       "model_id": "91f74ffe33504280a9203b1e9c0a3acd",
       "version_major": 2,
       "version_minor": 0
      },
      "text/plain": [
       "HBox(children=(FloatProgress(value=1.0, bar_style='info', max=1.0), HTML(value='')))"
      ]
     },
     "metadata": {},
     "output_type": "display_data"
    },
    {
     "name": "stdout",
     "output_type": "stream",
     "text": [
      "--> Not exactly one containing mesh: []\n",
      "\n",
      "filtered_measurements = [162.14320414 110.50585312 234.01945342 146.70786353 120.52661241\n",
      " 158.06915093 153.17556689 196.53300344 154.41220986 168.04947774]\n",
      "new_threshold = 423.87540439842485\n"
     ]
    },
    {
     "data": {
      "application/vnd.jupyter.widget-view+json": {
       "model_id": "4b75854eeb8f4baa92eb6a9fffb5fac1",
       "version_major": 2,
       "version_minor": 0
      },
      "text/plain": [
       "HBox(children=(FloatProgress(value=1.0, bar_style='info', max=1.0), HTML(value='')))"
      ]
     },
     "metadata": {},
     "output_type": "display_data"
    },
    {
     "name": "stdout",
     "output_type": "stream",
     "text": [
      "--> Not exactly one containing mesh: []\n",
      "\n",
      "new_skeleton = (10, 2, 3)\n"
     ]
    },
    {
     "data": {
      "application/vnd.jupyter.widget-view+json": {
       "model_id": "4cc47523c54145dca8b118c8c04c2a71",
       "version_major": 2,
       "version_minor": 0
      },
      "text/plain": [
       "HBox(children=(FloatProgress(value=1.0, bar_style='info', max=1.0), HTML(value='')))"
      ]
     },
     "metadata": {},
     "output_type": "display_data"
    },
    {
     "name": "stdout",
     "output_type": "stream",
     "text": [
      "\n",
      "filtered_measurements = [110.46231186 124.35507099 105.77243209  73.15927553  89.09908199\n",
      " 167.76382586 122.91891077 153.3331216 ]\n",
      "new_threshold = 278.3739552321925\n"
     ]
    },
    {
     "data": {
      "application/vnd.jupyter.widget-view+json": {
       "model_id": "5b4b1ae19acd40e68461803fe40369f4",
       "version_major": 2,
       "version_minor": 0
      },
      "text/plain": [
       "HBox(children=(FloatProgress(value=1.0, bar_style='info', max=1.0), HTML(value='')))"
      ]
     },
     "metadata": {},
     "output_type": "display_data"
    },
    {
     "name": "stdout",
     "output_type": "stream",
     "text": [
      "\n",
      "\n",
      "Working on limb #10\n"
     ]
    },
    {
     "data": {
      "application/vnd.jupyter.widget-view+json": {
       "model_id": "166ae710074f455483089175a43ed31a",
       "version_major": 2,
       "version_minor": 0
      },
      "text/plain": [
       "HBox(children=(FloatProgress(value=1.0, bar_style='info', max=1.0), HTML(value='')))"
      ]
     },
     "metadata": {},
     "output_type": "display_data"
    },
    {
     "name": "stdout",
     "output_type": "stream",
     "text": [
      "new_skeleton = (15, 2, 3)\n"
     ]
    },
    {
     "data": {
      "application/vnd.jupyter.widget-view+json": {
       "model_id": "7840801d9e1b4ae2af72b18268b6df71",
       "version_major": 2,
       "version_minor": 0
      },
      "text/plain": [
       "HBox(children=(FloatProgress(value=1.0, bar_style='info', max=1.0), HTML(value='')))"
      ]
     },
     "metadata": {},
     "output_type": "display_data"
    },
    {
     "name": "stdout",
     "output_type": "stream",
     "text": [
      "\n",
      "filtered_measurements = [640.8730923  693.94094553 660.83003566 581.18392316 584.0527867\n",
      " 521.07311147 491.66561022 478.88269115 443.34973484 405.31585196\n",
      " 404.49025627 347.55558462 602.12282632]\n",
      "new_threshold = 1452.8343419324337\n"
     ]
    },
    {
     "data": {
      "application/vnd.jupyter.widget-view+json": {
       "model_id": "9e93a847c8b34ef1a9b463bb25880884",
       "version_major": 2,
       "version_minor": 0
      },
      "text/plain": [
       "HBox(children=(FloatProgress(value=1.0, bar_style='info', max=1.0), HTML(value='')))"
      ]
     },
     "metadata": {},
     "output_type": "display_data"
    },
    {
     "name": "stdout",
     "output_type": "stream",
     "text": [
      "\n",
      "\n",
      "Total time = 166.39691066741943\n"
     ]
    }
   ],
   "source": [
    "\n",
    "sk = reload(sk)\n",
    "tu = reload(tu)\n",
    "from tqdm.notebook import tqdm\n",
    "import time\n",
    "import itertools\n",
    "\n",
    "start_time = time.time()\n",
    "\n",
    "limb_correspondence = dict()\n",
    "soma_containing_idx= 0\n",
    "\n",
    "total_branch_meshes = []\n",
    "total_branch_skeletons = []\n",
    "\n",
    "for soma_containing_idx in current_mesh_data.keys():\n",
    "    for limb_idx,curr_limb_mesh in enumerate(current_mesh_data[soma_containing_idx][\"branch_meshes\"]):\n",
    "        print(f\"Working on limb #{limb_idx}\")\n",
    "        limb_correspondence[limb_idx] = dict()\n",
    "        curr_limb_sk = current_mesh_data[soma_containing_idx][\"branch_skeletons_cleaned\"][limb_idx]\n",
    "        curr_limb_branches_sk_uneven = sk.decompose_skeleton_to_branches(curr_limb_sk) #the line that is decomposing to branches\n",
    "        \n",
    "        for j,curr_branch_sk in tqdm(enumerate(curr_limb_branches_sk_uneven)):\n",
    "            limb_correspondence[limb_idx][j] = dict()\n",
    "            \n",
    "            \n",
    "            curr_branch_face_correspondence, width_from_skeleton = mesh_correspondence_adaptive_distance(curr_branch_sk,\n",
    "                                          curr_limb_mesh,\n",
    "                                         skeleton_segment_width = 1000)\n",
    "            \n",
    "            \n",
    "            \n",
    "            if len(curr_branch_face_correspondence) > 0:\n",
    "                curr_submesh = curr_limb_mesh.submesh([list(curr_branch_face_correspondence)],append=True)\n",
    "            else:\n",
    "                curr_submesh = trimesh.Trimesh(vertices=np.array([]),faces=np.array([]))\n",
    "                \n",
    "            limb_correspondence[limb_idx][j][\"branch_skeleton\"] = curr_branch_sk\n",
    "            limb_correspondence[limb_idx][j][\"correspondence_mesh\"] = curr_submesh\n",
    "            limb_correspondence[limb_idx][j][\"correspondence_face_idx\"] = curr_branch_face_correspondence\n",
    "            limb_correspondence[limb_idx][j][\"width_from_skeleton\"] = width_from_skeleton\n",
    "            \n",
    "            total_branch_meshes.append(curr_submesh)\n",
    "            total_branch_skeletons.append(curr_branch_sk)\n",
    "            \n",
    "            \n",
    "print(f\"Total time = {time.time() - start_time}\")"
   ]
  },
  {
   "cell_type": "markdown",
   "metadata": {},
   "source": [
    "# Checking that there are no empty meshes "
   ]
  },
  {
   "cell_type": "code",
   "execution_count": 11,
   "metadata": {},
   "outputs": [
    {
     "name": "stdout",
     "output_type": "stream",
     "text": [
      "Working on limb #0\n",
      "Working on limb #1\n",
      "Working on limb #2\n",
      "Working on limb #3\n",
      "Working on limb #4\n",
      "Working on limb #5\n",
      "Working on limb #6\n",
      "Working on limb #7\n",
      "Working on limb #8\n",
      "Working on limb #9\n",
      "Working on limb #10\n"
     ]
    }
   ],
   "source": [
    "total_decomposed_branches = []\n",
    "for soma_containing_idx in current_mesh_data.keys():\n",
    "    for limb_idx,curr_limb_mesh in enumerate(current_mesh_data[soma_containing_idx][\"branch_meshes\"]):\n",
    "        print(f\"Working on limb #{limb_idx}\")\n",
    "        curr_limb_sk = current_mesh_data[soma_containing_idx][\"branch_skeletons_cleaned\"][limb_idx]\n",
    "        curr_limb_branches_sk = sk.decompose_skeleton_to_branches(curr_limb_sk) #the line that is decomposing to branches\n",
    "        total_decomposed_branches.append(curr_limb_branches_sk)"
   ]
  },
  {
   "cell_type": "code",
   "execution_count": 12,
   "metadata": {},
   "outputs": [
    {
     "name": "stdout",
     "output_type": "stream",
     "text": [
      "[75, 52, 48, 37, 34, 13, 17, 22, 11, 5, 1]\n",
      "(315, 315)\n"
     ]
    }
   ],
   "source": [
    "len_decomposed = [len(k) for k in total_decomposed_branches]\n",
    "print(len_decomposed)\n",
    "print((np.sum(len_decomposed),len(total_branch_meshes)))"
   ]
  },
  {
   "cell_type": "code",
   "execution_count": 13,
   "metadata": {},
   "outputs": [
    {
     "data": {
      "text/plain": [
       "[]"
      ]
     },
     "execution_count": 13,
     "metadata": {},
     "output_type": "execute_result"
    }
   ],
   "source": [
    "empty_meshes = [k for k in total_branch_meshes if len(k.faces) == 0]\n",
    "empty_meshes"
   ]
  },
  {
   "cell_type": "markdown",
   "metadata": {},
   "source": [
    "# -- Visulaizing all of branches and the mesh correspondence from adaptive version -- "
   ]
  },
  {
   "cell_type": "code",
   "execution_count": null,
   "metadata": {},
   "outputs": [],
   "source": [
    "sk = reload(sk)\n",
    "import matplotlib_utils as mu\n",
    "mu = reload(mu)\n",
    "sk.graph_skeleton_and_mesh(other_meshes=total_branch_meshes,\n",
    "                          other_meshes_colors=\"random\",\n",
    "                           other_skeletons=total_branch_skeletons,\n",
    "                           other_skeletons_colors=\"random\"\n",
    "                          )\n"
   ]
  },
  {
   "cell_type": "markdown",
   "metadata": {},
   "source": [
    "# The algorithm that will finish off the face correspondence"
   ]
  },
  {
   "cell_type": "code",
   "execution_count": 45,
   "metadata": {
    "scrolled": true
   },
   "outputs": [
    {
     "data": {
      "text/plain": [
       "[0,\n",
       " 1,\n",
       " 2,\n",
       " 3,\n",
       " 4,\n",
       " 5,\n",
       " 6,\n",
       " 7,\n",
       " 8,\n",
       " 9,\n",
       " 10,\n",
       " 11,\n",
       " 12,\n",
       " 13,\n",
       " 14,\n",
       " 15,\n",
       " 16,\n",
       " 17,\n",
       " 18,\n",
       " 19,\n",
       " 20,\n",
       " 21,\n",
       " 22,\n",
       " 23,\n",
       " 24,\n",
       " 25,\n",
       " 26,\n",
       " 27,\n",
       " 28,\n",
       " 29,\n",
       " 30,\n",
       " 31,\n",
       " 32,\n",
       " 33,\n",
       " 34,\n",
       " 35,\n",
       " 36,\n",
       " 37,\n",
       " 38,\n",
       " 39,\n",
       " 40,\n",
       " 41,\n",
       " 42,\n",
       " 43,\n",
       " 44,\n",
       " 45,\n",
       " 46,\n",
       " 47,\n",
       " 48,\n",
       " 49,\n",
       " 50,\n",
       " 51,\n",
       " 52,\n",
       " 53,\n",
       " 54,\n",
       " 55,\n",
       " 56,\n",
       " 57,\n",
       " 58,\n",
       " 59,\n",
       " 60,\n",
       " 61,\n",
       " 62,\n",
       " 63,\n",
       " 64,\n",
       " 65,\n",
       " 66,\n",
       " 67,\n",
       " 68,\n",
       " 69,\n",
       " 70,\n",
       " 71,\n",
       " 72,\n",
       " 73,\n",
       " 74]"
      ]
     },
     "execution_count": 45,
     "metadata": {},
     "output_type": "execute_result"
    }
   ],
   "source": [
    "no_missing_labels = list(limb_correspondence[limb_idx].keys())\n",
    "no_missing_labels"
   ]
  },
  {
   "cell_type": "code",
   "execution_count": 46,
   "metadata": {},
   "outputs": [
    {
     "name": "stdout",
     "output_type": "stream",
     "text": [
      "empty_indices % = 0.07729703609292249\n",
      " conflict_indices % = 0.050641655558906803\n"
     ]
    }
   ],
   "source": [
    "limb_idx = 0\n",
    "\n",
    "curr_limb_mesh = current_mesh_data[soma_containing_idx][\"branch_meshes\"][limb_idx]\n",
    "\n",
    "#set up the face dictionary\n",
    "face_lookup = dict([(j,[]) for j in range(0,len(curr_limb_mesh.faces))])\n",
    "\n",
    "for j,branch_piece in limb_correspondence[limb_idx].items():\n",
    "    curr_faces_corresponded = branch_piece[\"correspondence_face_idx\"]\n",
    "    \n",
    "    for c in curr_faces_corresponded:\n",
    "        face_lookup[c].append(j)\n",
    "\n",
    "#get all of the faces that don't have any faces corresponding\n",
    "empty_indices = np.array([k for k,v in face_lookup.items() if len(v) == 0])\n",
    "\n",
    "#get all of the faces that don't have any faces corresponding\n",
    "conflict_indices = np.array([k for k,v in face_lookup.items() if len(v) >= 2])\n",
    "\n",
    "print(f\"empty_indices % = {len(empty_indices)/len(face_lookup.keys())}\\n conflict_indices % = {len(conflict_indices)/len(face_lookup.keys())}\")"
   ]
  },
  {
   "cell_type": "code",
   "execution_count": 47,
   "metadata": {},
   "outputs": [
    {
     "data": {
      "text/plain": [
       "(74, 75)"
      ]
     },
     "execution_count": 47,
     "metadata": {},
     "output_type": "execute_result"
    }
   ],
   "source": [
    "original_labels = set(list(itertools.chain.from_iterable(list(face_lookup.values()))))\n",
    "max(original_labels),len(original_labels)"
   ]
  },
  {
   "cell_type": "code",
   "execution_count": 48,
   "metadata": {},
   "outputs": [
    {
     "data": {
      "text/plain": [
       "'\\nface_lookup_resolved =face_lookup.copy()\\n# The old way of doing it using a dictionary\\nempty_faces = []\\nfor k,v in face_lookup_resolved.items():\\n    if len(v) != 1:\\n        face_lookup_resolved[k] = -1\\n        empty_faces.append(k)\\n    else:\\n        \\n        face_lookup_resolved[k] = v[0]\\n        \\n#checking that they are the same\\nfor k,v in face_lookup_resolved.items():\\n    if v != face_coloring[k]:\\n        raise Exception()'"
      ]
     },
     "execution_count": 48,
     "metadata": {},
     "output_type": "execute_result"
    }
   ],
   "source": [
    "face_coloring = np.array([-1 if len(v) != 1 else v[0] for v in face_lookup.values()])\n",
    "face_coloring\n",
    "\n",
    "\"\"\"\n",
    "face_lookup_resolved =face_lookup.copy()\n",
    "# The old way of doing it using a dictionary\n",
    "empty_faces = []\n",
    "for k,v in face_lookup_resolved.items():\n",
    "    if len(v) != 1:\n",
    "        face_lookup_resolved[k] = -1\n",
    "        empty_faces.append(k)\n",
    "    else:\n",
    "        \n",
    "        face_lookup_resolved[k] = v[0]\n",
    "        \n",
    "#checking that they are the same\n",
    "for k,v in face_lookup_resolved.items():\n",
    "    if v != face_coloring[k]:\n",
    "        raise Exception()\"\"\""
   ]
  },
  {
   "cell_type": "markdown",
   "metadata": {},
   "source": [
    "# -- Need to only take the biggest piece of the non-conflicted mesh and resolve those that were eliminated--"
   ]
  },
  {
   "cell_type": "code",
   "execution_count": 50,
   "metadata": {},
   "outputs": [],
   "source": [
    "cu = reload(cu)\n",
    "face_coloring = cu.filter_face_coloring_to_connected_components(curr_limb_mesh,face_coloring)\n",
    "\n",
    "leftover_labels = np.unique(face_coloring)\n",
    "missing_labels = set(np.setdiff1d(no_missing_labels.copy(), leftover_labels))"
   ]
  },
  {
   "cell_type": "code",
   "execution_count": 54,
   "metadata": {},
   "outputs": [],
   "source": [
    "\"\"\"\n",
    "Pseudocode: \n",
    "1) For each label get the submesh\n",
    "2) split the submesh into only largest piece \n",
    "3) find what faces are not included\n",
    "4) get al\n",
    "\n",
    "\"\"\"\n",
    "\n",
    "cu = reload(cu)\n",
    "face_coloring = cu.filter_face_coloring_to_connected_components(curr_limb_mesh,face_coloring)\n",
    "\n",
    "leftover_labels = np.unique(face_coloring)\n",
    "missing_labels = set(np.setdiff1d(no_missing_labels, leftover_labels))\n",
    "\n",
    "for curr_label in missing_labels:\n",
    "    labels_idx = [k for k,v in face_lookup.items() if curr_label in v]\n",
    "    face_coloring[labels_idx] = curr_label\n",
    "\n",
    "#filter the faces again: \n",
    "face_coloring = cu.filter_face_coloring_to_connected_components(curr_limb_mesh,face_coloring)\n",
    "\n",
    "leftover_labels = np.unique(face_coloring)\n",
    "missing_labels = set(np.setdiff1d(no_missing_labels.copy(), leftover_labels))\n",
    "\n",
    "if len(missing_labels)>0:\n",
    "    raise Exception(\"missing labels was not resolved\")"
   ]
  },
  {
   "cell_type": "code",
   "execution_count": 56,
   "metadata": {},
   "outputs": [
    {
     "data": {
      "text/plain": [
       "793"
      ]
     },
     "execution_count": 56,
     "metadata": {},
     "output_type": "execute_result"
    }
   ],
   "source": [
    "# now just divide the groups into seperate components\n",
    "empty_faces = np.where(face_coloring==-1)[0]\n",
    "mesh_graph = nx.from_edgelist(curr_limb_mesh.face_adjacency)\n",
    "empty_submesh = mesh_graph.subgraph(empty_faces)\n",
    "len(empty_submesh.nodes())\n",
    "empty_connected_components = list(nx.connected_components(empty_submesh))\n",
    "len(empty_connected_components)"
   ]
  },
  {
   "cell_type": "markdown",
   "metadata": {},
   "source": [
    "# Functions that will fill in the rest of the mesh correspondence"
   ]
  },
  {
   "cell_type": "code",
   "execution_count": 57,
   "metadata": {
    "scrolled": false
   },
   "outputs": [
    {
     "data": {
      "application/vnd.jupyter.widget-view+json": {
       "model_id": "bc979178f29247d3802064856137a076",
       "version_major": 2,
       "version_minor": 0
      },
      "text/plain": [
       "HBox(children=(FloatProgress(value=0.0, max=793.0), HTML(value='')))"
      ]
     },
     "metadata": {},
     "output_type": "display_data"
    },
    {
     "name": "stdout",
     "output_type": "stream",
     "text": [
      "\n"
     ]
    }
   ],
   "source": [
    "cu = reload(cu)\n",
    "\n",
    "face_coloring_copy = face_coloring.copy()\n",
    "from tqdm.notebook import tqdm\n",
    "for comp in tqdm(empty_connected_components):\n",
    "    face_lookup_resolved_test = cu.waterfill_labeling(\n",
    "                    #total_mesh_correspondence=face_lookup_resolved_test,\n",
    "                    total_mesh_correspondence=face_coloring_copy,\n",
    "                     submesh_indices=list(comp),\n",
    "                     total_mesh=None,\n",
    "                    total_mesh_graph=mesh_graph,\n",
    "                     propagation_type=\"random\",\n",
    "                    max_iterations = 1000,\n",
    "                    max_submesh_threshold = 5000\n",
    "                    )"
   ]
  },
  {
   "cell_type": "code",
   "execution_count": 58,
   "metadata": {},
   "outputs": [],
   "source": [
    "empty_faces = np.where(face_coloring_copy==-1)[0]\n",
    "if len(empty_faces) > 0:\n",
    "    raise Exception(f\"empty faces were greater than 0 after waterfilling at: {empty_faces}\")\n"
   ]
  },
  {
   "cell_type": "markdown",
   "metadata": {},
   "source": [
    "# Visualizing the Results from the Mesh correspondence"
   ]
  },
  {
   "cell_type": "code",
   "execution_count": 59,
   "metadata": {},
   "outputs": [
    {
     "data": {
      "application/vnd.jupyter.widget-view+json": {
       "model_id": "cdf8c20746e548dea228780aaa1f215d",
       "version_major": 2,
       "version_minor": 0
      },
      "text/plain": [
       "HBox(children=(FloatProgress(value=0.0, max=75.0), HTML(value='')))"
      ]
     },
     "metadata": {},
     "output_type": "display_data"
    },
    {
     "name": "stdout",
     "output_type": "stream",
     "text": [
      "\n"
     ]
    },
    {
     "data": {
      "text/plain": [
       "75"
      ]
     },
     "execution_count": 59,
     "metadata": {},
     "output_type": "execute_result"
    }
   ],
   "source": [
    "tu = reload(tu)\n",
    "divided_submeshes,divided_submeshes_idx = tu.split_mesh_into_face_groups(curr_limb_mesh,face_coloring_copy)\n",
    "len(divided_submeshes)"
   ]
  },
  {
   "cell_type": "code",
   "execution_count": 60,
   "metadata": {},
   "outputs": [
    {
     "data": {
      "text/plain": [
       "75"
      ]
     },
     "execution_count": 60,
     "metadata": {},
     "output_type": "execute_result"
    }
   ],
   "source": [
    "divided_branches = [limb_correspondence[limb_idx][k][\"branch_skeleton\"] for k in limb_correspondence[limb_idx]]\n",
    "len(divided_branches)"
   ]
  },
  {
   "cell_type": "code",
   "execution_count": 61,
   "metadata": {},
   "outputs": [],
   "source": [
    "overhangs = [13,22,30,33]\n",
    "errors = [23]\n",
    "not_tubes = [35]\n",
    "too_much = [74]\n",
    "way_out_of_mesh = [37,40,44,57,58,66,68,70]"
   ]
  },
  {
   "cell_type": "code",
   "execution_count": 62,
   "metadata": {},
   "outputs": [
    {
     "data": {
      "text/plain": [
       "3636.9661269371118"
      ]
     },
     "execution_count": 62,
     "metadata": {},
     "output_type": "execute_result"
    }
   ],
   "source": [
    "check_index = 40\n",
    "limb_correspondence[limb_idx][check_index][\"width_from_skeleton\"]"
   ]
  },
  {
   "cell_type": "markdown",
   "metadata": {},
   "source": [
    "# Create loop that will do coloring for all branches"
   ]
  },
  {
   "cell_type": "code",
   "execution_count": 82,
   "metadata": {
    "scrolled": true
   },
   "outputs": [
    {
     "name": "stdout",
     "output_type": "stream",
     "text": [
      "\n",
      "\n",
      "Working on limb_correspondence for #0\n",
      "empty_indices % = 0.07729703609292249\n",
      " conflict_indices % = 0.050641655558906803\n",
      "max(original_labels),len(original_labels) = (74, 75)\n"
     ]
    },
    {
     "data": {
      "application/vnd.jupyter.widget-view+json": {
       "model_id": "7ba871f9e1714a80817502eb0d71b1ff",
       "version_major": 2,
       "version_minor": 0
      },
      "text/plain": [
       "HBox(children=(FloatProgress(value=0.0, max=793.0), HTML(value='')))"
      ]
     },
     "metadata": {},
     "output_type": "display_data"
    },
    {
     "name": "stdout",
     "output_type": "stream",
     "text": [
      "\n"
     ]
    },
    {
     "data": {
      "application/vnd.jupyter.widget-view+json": {
       "model_id": "a3c88804a8fe4adba068d78b2bd8a57e",
       "version_major": 2,
       "version_minor": 0
      },
      "text/plain": [
       "HBox(children=(FloatProgress(value=0.0, max=75.0), HTML(value='')))"
      ]
     },
     "metadata": {},
     "output_type": "display_data"
    },
    {
     "name": "stdout",
     "output_type": "stream",
     "text": [
      "\n",
      "Total time for limb mesh processing = 7.947660207748413\n",
      "\n",
      "\n",
      "Working on limb_correspondence for #1\n",
      "empty_indices % = 0.0961827728111253\n",
      " conflict_indices % = 0.027728111253015466\n",
      "max(original_labels),len(original_labels) = (51, 52)\n"
     ]
    },
    {
     "data": {
      "application/vnd.jupyter.widget-view+json": {
       "model_id": "5f012fc14ff941318eff9c48c370221c",
       "version_major": 2,
       "version_minor": 0
      },
      "text/plain": [
       "HBox(children=(FloatProgress(value=0.0, max=449.0), HTML(value='')))"
      ]
     },
     "metadata": {},
     "output_type": "display_data"
    },
    {
     "name": "stdout",
     "output_type": "stream",
     "text": [
      "\n"
     ]
    },
    {
     "data": {
      "application/vnd.jupyter.widget-view+json": {
       "model_id": "2b44c755041041828cd1097b6ae373ce",
       "version_major": 2,
       "version_minor": 0
      },
      "text/plain": [
       "HBox(children=(FloatProgress(value=0.0, max=52.0), HTML(value='')))"
      ]
     },
     "metadata": {},
     "output_type": "display_data"
    },
    {
     "name": "stdout",
     "output_type": "stream",
     "text": [
      "\n",
      "Total time for limb mesh processing = 4.430617570877075\n",
      "\n",
      "\n",
      "Working on limb_correspondence for #2\n",
      "empty_indices % = 0.12623941537093075\n",
      " conflict_indices % = 0.07327920747181066\n",
      "max(original_labels),len(original_labels) = (47, 48)\n"
     ]
    },
    {
     "data": {
      "application/vnd.jupyter.widget-view+json": {
       "model_id": "bf120106551d4b44a6d2a32168303c1f",
       "version_major": 2,
       "version_minor": 0
      },
      "text/plain": [
       "HBox(children=(FloatProgress(value=0.0, max=261.0), HTML(value='')))"
      ]
     },
     "metadata": {},
     "output_type": "display_data"
    },
    {
     "name": "stdout",
     "output_type": "stream",
     "text": [
      "\n"
     ]
    },
    {
     "data": {
      "application/vnd.jupyter.widget-view+json": {
       "model_id": "6744ab322e9f4431870395e2d59d0be4",
       "version_major": 2,
       "version_minor": 0
      },
      "text/plain": [
       "HBox(children=(FloatProgress(value=0.0, max=48.0), HTML(value='')))"
      ]
     },
     "metadata": {},
     "output_type": "display_data"
    },
    {
     "name": "stdout",
     "output_type": "stream",
     "text": [
      "\n",
      "Total time for limb mesh processing = 4.390365123748779\n",
      "\n",
      "\n",
      "Working on limb_correspondence for #3\n",
      "empty_indices % = 0.09347075917181256\n",
      " conflict_indices % = 0.045386850708318195\n",
      "max(original_labels),len(original_labels) = (36, 37)\n"
     ]
    },
    {
     "data": {
      "application/vnd.jupyter.widget-view+json": {
       "model_id": "8c2d59ab3b69473ba1fba713637b291a",
       "version_major": 2,
       "version_minor": 0
      },
      "text/plain": [
       "HBox(children=(FloatProgress(value=0.0, max=277.0), HTML(value='')))"
      ]
     },
     "metadata": {},
     "output_type": "display_data"
    },
    {
     "name": "stdout",
     "output_type": "stream",
     "text": [
      "\n"
     ]
    },
    {
     "data": {
      "application/vnd.jupyter.widget-view+json": {
       "model_id": "ee95e880754c45099854bba6f3b8cbde",
       "version_major": 2,
       "version_minor": 0
      },
      "text/plain": [
       "HBox(children=(FloatProgress(value=0.0, max=37.0), HTML(value='')))"
      ]
     },
     "metadata": {},
     "output_type": "display_data"
    },
    {
     "name": "stdout",
     "output_type": "stream",
     "text": [
      "\n",
      "Total time for limb mesh processing = 2.924044609069824\n",
      "\n",
      "\n",
      "Working on limb_correspondence for #4\n",
      "empty_indices % = 0.11085649608490741\n",
      " conflict_indices % = 0.025039893123538798\n",
      "max(original_labels),len(original_labels) = (33, 34)\n"
     ]
    },
    {
     "data": {
      "application/vnd.jupyter.widget-view+json": {
       "model_id": "abcdeb8d007c4cfba852f4803fcb77fc",
       "version_major": 2,
       "version_minor": 0
      },
      "text/plain": [
       "HBox(children=(FloatProgress(value=0.0, max=283.0), HTML(value='')))"
      ]
     },
     "metadata": {},
     "output_type": "display_data"
    },
    {
     "name": "stdout",
     "output_type": "stream",
     "text": [
      "\n"
     ]
    },
    {
     "data": {
      "application/vnd.jupyter.widget-view+json": {
       "model_id": "2e9028fd7e6d495899587ceaaca3e8e5",
       "version_major": 2,
       "version_minor": 0
      },
      "text/plain": [
       "HBox(children=(FloatProgress(value=0.0, max=34.0), HTML(value='')))"
      ]
     },
     "metadata": {},
     "output_type": "display_data"
    },
    {
     "name": "stdout",
     "output_type": "stream",
     "text": [
      "\n",
      "Total time for limb mesh processing = 2.378981828689575\n",
      "\n",
      "\n",
      "Working on limb_correspondence for #5\n",
      "empty_indices % = 0.07416978068953592\n",
      " conflict_indices % = 0.026666922833072364\n",
      "max(original_labels),len(original_labels) = (12, 13)\n"
     ]
    },
    {
     "data": {
      "application/vnd.jupyter.widget-view+json": {
       "model_id": "7184fe9fdb1446e9b31d22474291ecfb",
       "version_major": 2,
       "version_minor": 0
      },
      "text/plain": [
       "HBox(children=(FloatProgress(value=0.0, max=227.0), HTML(value='')))"
      ]
     },
     "metadata": {},
     "output_type": "display_data"
    },
    {
     "name": "stdout",
     "output_type": "stream",
     "text": [
      "\n"
     ]
    },
    {
     "data": {
      "application/vnd.jupyter.widget-view+json": {
       "model_id": "6365996961e34744b5f0575bac9e858b",
       "version_major": 2,
       "version_minor": 0
      },
      "text/plain": [
       "HBox(children=(FloatProgress(value=0.0, max=13.0), HTML(value='')))"
      ]
     },
     "metadata": {},
     "output_type": "display_data"
    },
    {
     "name": "stdout",
     "output_type": "stream",
     "text": [
      "\n",
      "Total time for limb mesh processing = 2.4101500511169434\n",
      "\n",
      "\n",
      "Working on limb_correspondence for #6\n",
      "empty_indices % = 0.1109579952023682\n",
      " conflict_indices % = 0.02536620221507681\n",
      "max(original_labels),len(original_labels) = (16, 17)\n"
     ]
    },
    {
     "data": {
      "application/vnd.jupyter.widget-view+json": {
       "model_id": "9259e6e6b23d4cfaa39c912acba5adc8",
       "version_major": 2,
       "version_minor": 0
      },
      "text/plain": [
       "HBox(children=(FloatProgress(value=0.0, max=182.0), HTML(value='')))"
      ]
     },
     "metadata": {},
     "output_type": "display_data"
    },
    {
     "name": "stdout",
     "output_type": "stream",
     "text": [
      "\n"
     ]
    },
    {
     "data": {
      "application/vnd.jupyter.widget-view+json": {
       "model_id": "53d236d3b7bf4c7dbafb77cffe3b9873",
       "version_major": 2,
       "version_minor": 0
      },
      "text/plain": [
       "HBox(children=(FloatProgress(value=0.0, max=17.0), HTML(value='')))"
      ]
     },
     "metadata": {},
     "output_type": "display_data"
    },
    {
     "name": "stdout",
     "output_type": "stream",
     "text": [
      "\n",
      "Total time for limb mesh processing = 1.475144863128662\n",
      "\n",
      "\n",
      "Working on limb_correspondence for #7\n",
      "empty_indices % = 0.12770100609808174\n",
      " conflict_indices % = 0.03506824043865193\n",
      "max(original_labels),len(original_labels) = (21, 22)\n"
     ]
    },
    {
     "data": {
      "application/vnd.jupyter.widget-view+json": {
       "model_id": "4f6eb7f67b4f4a608f0280feb75eb64b",
       "version_major": 2,
       "version_minor": 0
      },
      "text/plain": [
       "HBox(children=(FloatProgress(value=0.0, max=170.0), HTML(value='')))"
      ]
     },
     "metadata": {},
     "output_type": "display_data"
    },
    {
     "name": "stdout",
     "output_type": "stream",
     "text": [
      "\n"
     ]
    },
    {
     "data": {
      "application/vnd.jupyter.widget-view+json": {
       "model_id": "054eec7acda84efa88eab9cad2ef973c",
       "version_major": 2,
       "version_minor": 0
      },
      "text/plain": [
       "HBox(children=(FloatProgress(value=0.0, max=22.0), HTML(value='')))"
      ]
     },
     "metadata": {},
     "output_type": "display_data"
    },
    {
     "name": "stdout",
     "output_type": "stream",
     "text": [
      "\n",
      "Total time for limb mesh processing = 1.2216007709503174\n",
      "\n",
      "\n",
      "Working on limb_correspondence for #8\n",
      "empty_indices % = 0.11541320359483749\n",
      " conflict_indices % = 0.031184539495911885\n",
      "max(original_labels),len(original_labels) = (10, 11)\n"
     ]
    },
    {
     "data": {
      "application/vnd.jupyter.widget-view+json": {
       "model_id": "17955405e50d46219eebefdc8d880be3",
       "version_major": 2,
       "version_minor": 0
      },
      "text/plain": [
       "HBox(children=(FloatProgress(value=0.0, max=81.0), HTML(value='')))"
      ]
     },
     "metadata": {},
     "output_type": "display_data"
    },
    {
     "name": "stdout",
     "output_type": "stream",
     "text": [
      "\n"
     ]
    },
    {
     "data": {
      "application/vnd.jupyter.widget-view+json": {
       "model_id": "0c0ac263ad9c4df688f90193d502b7da",
       "version_major": 2,
       "version_minor": 0
      },
      "text/plain": [
       "HBox(children=(FloatProgress(value=0.0, max=11.0), HTML(value='')))"
      ]
     },
     "metadata": {},
     "output_type": "display_data"
    },
    {
     "name": "stdout",
     "output_type": "stream",
     "text": [
      "\n",
      "Total time for limb mesh processing = 0.9234766960144043\n",
      "\n",
      "\n",
      "Working on limb_correspondence for #9\n",
      "empty_indices % = 0.10857735164550401\n",
      " conflict_indices % = 0.0064783622700181395\n",
      "max(original_labels),len(original_labels) = (4, 5)\n"
     ]
    },
    {
     "data": {
      "application/vnd.jupyter.widget-view+json": {
       "model_id": "2c25ea2c7914473eb3246c3d354b1a51",
       "version_major": 2,
       "version_minor": 0
      },
      "text/plain": [
       "HBox(children=(FloatProgress(value=0.0, max=17.0), HTML(value='')))"
      ]
     },
     "metadata": {},
     "output_type": "display_data"
    },
    {
     "name": "stdout",
     "output_type": "stream",
     "text": [
      "\n"
     ]
    },
    {
     "data": {
      "application/vnd.jupyter.widget-view+json": {
       "model_id": "329647892dd7452c96d28b8e634682bb",
       "version_major": 2,
       "version_minor": 0
      },
      "text/plain": [
       "HBox(children=(FloatProgress(value=0.0, max=5.0), HTML(value='')))"
      ]
     },
     "metadata": {},
     "output_type": "display_data"
    },
    {
     "name": "stdout",
     "output_type": "stream",
     "text": [
      "\n",
      "Total time for limb mesh processing = 0.20676708221435547\n",
      "\n",
      "\n",
      "Working on limb_correspondence for #10\n",
      "empty_indices % = 0.011831726555652936\n",
      " conflict_indices % = 0.0\n",
      "max(original_labels),len(original_labels) = (0, 1)\n"
     ]
    },
    {
     "data": {
      "application/vnd.jupyter.widget-view+json": {
       "model_id": "bc4639ea62724e158ba0d4e9d35a84c9",
       "version_major": 2,
       "version_minor": 0
      },
      "text/plain": [
       "HBox(children=(FloatProgress(value=0.0, max=6.0), HTML(value='')))"
      ]
     },
     "metadata": {},
     "output_type": "display_data"
    },
    {
     "name": "stdout",
     "output_type": "stream",
     "text": [
      "\n"
     ]
    },
    {
     "data": {
      "application/vnd.jupyter.widget-view+json": {
       "model_id": "52854d919ae741b996fb7da7a8707c5c",
       "version_major": 2,
       "version_minor": 0
      },
      "text/plain": [
       "HBox(children=(FloatProgress(value=0.0, max=1.0), HTML(value='')))"
      ]
     },
     "metadata": {},
     "output_type": "display_data"
    },
    {
     "name": "stdout",
     "output_type": "stream",
     "text": [
      "\n",
      "Total time for limb mesh processing = 0.08882904052734375\n"
     ]
    }
   ],
   "source": [
    "#things to prep for visualizing the axons\n",
    "total_widths = []\n",
    "total_branch_skeletons = []\n",
    "total_branch_meshes = []\n",
    "\n",
    "soma_containing_idx = 0\n",
    "import time\n",
    "for limb_idx in limb_correspondence.keys():\n",
    "    mesh_start_time = time.time()\n",
    "    #clear out the mesh correspondence if already in limb_correspondecne\n",
    "    for k in limb_correspondence[limb_idx].keys():\n",
    "        if \"branch_mesh\" in limb_correspondence[limb_idx][k]:\n",
    "            del limb_correspondence[limb_idx][k][\"branch_mesh\"]\n",
    "    \n",
    "    #geting the current limb mesh\n",
    "    print(f\"\\n\\nWorking on limb_correspondence for #{limb_idx}\")\n",
    "    no_missing_labels = list(limb_correspondence[limb_idx].keys())\n",
    "    curr_limb_mesh = current_mesh_data[soma_containing_idx][\"branch_meshes\"][limb_idx]\n",
    "\n",
    "    #set up the face dictionary\n",
    "    face_lookup = dict([(j,[]) for j in range(0,len(curr_limb_mesh.faces))])\n",
    "\n",
    "    for j,branch_piece in limb_correspondence[limb_idx].items():\n",
    "        curr_faces_corresponded = branch_piece[\"correspondence_face_idx\"]\n",
    "\n",
    "        for c in curr_faces_corresponded:\n",
    "            face_lookup[c].append(j)\n",
    "\n",
    "    #get all of the faces that don't have any faces corresponding\n",
    "    empty_indices = np.array([k for k,v in face_lookup.items() if len(v) == 0])\n",
    "\n",
    "    #get all of the faces that don't have any faces corresponding\n",
    "    conflict_indices = np.array([k for k,v in face_lookup.items() if len(v) >= 2])\n",
    "\n",
    "    print(f\"empty_indices % = {len(empty_indices)/len(face_lookup.keys())}\\n conflict_indices % = {len(conflict_indices)/len(face_lookup.keys())}\")\n",
    "    \n",
    "    original_labels = set(list(itertools.chain.from_iterable(list(face_lookup.values()))))\n",
    "    print(f\"max(original_labels),len(original_labels) = {(max(original_labels),len(original_labels))}\")\n",
    "    \n",
    "    #doing the face coloring\n",
    "    face_coloring = np.array([-1 if len(v) != 1 else v[0] for v in face_lookup.values()])\n",
    "    \n",
    "    # -- Need to only take the biggest piece of the non-conflicted mesh and resolve those that were eliminated--\n",
    "    \n",
    "    face_coloring = cu.filter_face_coloring_to_connected_components(curr_limb_mesh,face_coloring)\n",
    "\n",
    "    leftover_labels = np.unique(face_coloring)\n",
    "    missing_labels = set(np.setdiff1d(no_missing_labels.copy(), leftover_labels))\n",
    "    \n",
    "    # ----fixing if there were any missing labels\n",
    "    \n",
    "    face_coloring = cu.filter_face_coloring_to_connected_components(curr_limb_mesh,face_coloring)\n",
    "\n",
    "    leftover_labels = np.unique(face_coloring)\n",
    "    missing_labels = set(np.setdiff1d(no_missing_labels, leftover_labels))\n",
    "\n",
    "    for curr_label in missing_labels:\n",
    "        labels_idx = [k for k,v in face_lookup.items() if curr_label in v]\n",
    "        face_coloring[labels_idx] = curr_label\n",
    "\n",
    "    #filter the faces again: \n",
    "    face_coloring = cu.filter_face_coloring_to_connected_components(curr_limb_mesh,face_coloring)\n",
    "\n",
    "    leftover_labels = np.unique(face_coloring)\n",
    "    missing_labels = set(np.setdiff1d(no_missing_labels.copy(), leftover_labels))\n",
    "\n",
    "    if len(missing_labels)>0:\n",
    "        raise Exception(\"missing labels was not resolved\")\n",
    "        \n",
    "    # -----now just divide the groups into seperate components\n",
    "    empty_faces = np.where(face_coloring==-1)[0]\n",
    "    mesh_graph = nx.from_edgelist(curr_limb_mesh.face_adjacency)\n",
    "    empty_submesh = mesh_graph.subgraph(empty_faces)\n",
    "    empty_connected_components = list(nx.connected_components(empty_submesh))\n",
    "    \n",
    "    # ---- Functions that will fill in the rest of the mesh correspondence ---- #\n",
    "    cu = reload(cu)\n",
    "\n",
    "    face_coloring_copy = face_coloring.copy()\n",
    "    from tqdm.notebook import tqdm\n",
    "    for comp in tqdm(empty_connected_components):\n",
    "        face_lookup_resolved_test = cu.waterfill_labeling(\n",
    "                        #total_mesh_correspondence=face_lookup_resolved_test,\n",
    "                        total_mesh_correspondence=face_coloring_copy,\n",
    "                         submesh_indices=list(comp),\n",
    "                         total_mesh=None,\n",
    "                        total_mesh_graph=mesh_graph,\n",
    "                         propagation_type=\"random\",\n",
    "                        max_iterations = 1000,\n",
    "                        max_submesh_threshold = 10000\n",
    "                        )\n",
    "        \n",
    "    # -- wheck that the face coloring did not have any empty faces --\n",
    "    empty_faces = np.where(face_coloring_copy==-1)[0]\n",
    "    if len(empty_faces) > 0:\n",
    "        raise Exception(f\"empty faces were greater than 0 after waterfilling at: {empty_faces}\")\n",
    "        \n",
    "    # -- splitting the mesh pieces into individual pieces\n",
    "    divided_submeshes,divided_submeshes_idx = tu.split_mesh_into_face_groups(curr_limb_mesh,face_coloring_copy)\n",
    "\n",
    "    #save off the new data as branch mesh\n",
    "    for k in limb_correspondence[limb_idx].keys():\n",
    "        limb_correspondence[limb_idx][k][\"branch_mesh\"] = divided_submeshes[k]\n",
    "        total_widths.append(limb_correspondence[limb_idx][k][\"width_from_skeleton\"])\n",
    "        total_branch_skeletons.append(limb_correspondence[limb_idx][k][\"branch_skeleton\"])\n",
    "        total_branch_meshes.append(limb_correspondence[limb_idx][k][\"branch_mesh\"])\n",
    "    \n",
    "    print(f\"Total time for limb mesh processing = {time.time() - mesh_start_time}\")\n",
    "    \n",
    "    \n",
    "    \n",
    "    "
   ]
  },
  {
   "cell_type": "markdown",
   "metadata": {},
   "source": [
    "# Visualizig a histograph of all of the widths"
   ]
  },
  {
   "cell_type": "code",
   "execution_count": 84,
   "metadata": {},
   "outputs": [
    {
     "data": {
      "image/png": "[encoded data removed]",
      "text/plain": [
       "<Figure size 432x288 with 1 Axes>"
      ]
     },
     "metadata": {
      "needs_background": "light"
     },
     "output_type": "display_data"
    }
   ],
   "source": [
    "from matplotlib import pyplot as plt\n",
    "fig,ax = plt.subplots(1,1)\n",
    "bins = plt.hist(np.array(total_widths),bins=100)\n",
    "ax.set_xlabel(\"Width measurement of mesh branch (nm)\")\n",
    "ax.set_ylabel(\"frequency\")\n",
    "ax.set_title(\"Width measurement of mesh branch frequency\")\n",
    "plt.show()"
   ]
  },
  {
   "cell_type": "markdown",
   "metadata": {},
   "source": [
    "# Visualizing the results of the mesh decomposition"
   ]
  },
  {
   "cell_type": "code",
   "execution_count": 554,
   "metadata": {},
   "outputs": [
    {
     "data": {
      "application/vnd.jupyter.widget-view+json": {
       "model_id": "d718204a440f47d78a76fabbc7d03f40",
       "version_major": 2,
       "version_minor": 0
      },
      "text/plain": [
       "VBox(children=(Figure(camera=PerspectiveCamera(fov=46.0, position=(0.0, 0.0, 2.0), quaternion=(0.0, 0.0, 0.0, …"
      ]
     },
     "metadata": {},
     "output_type": "display_data"
    }
   ],
   "source": [
    "sk.graph_skeleton_and_mesh(other_meshes=total_branch_meshes,\n",
    "                          other_meshes_colors=\"random\",\n",
    "                          other_skeletons=total_branch_skeletons,\n",
    "                          other_skeletons_colors=\"random\",\n",
    "                          html_path=\"two_soma_mesh_skeleton_decomp.html\")"
   ]
  },
  {
   "cell_type": "code",
   "execution_count": 555,
   "metadata": {},
   "outputs": [
    {
     "data": {
      "application/vnd.jupyter.widget-view+json": {
       "model_id": "058a50efc7db4cb8af4fb24fa772cc66",
       "version_major": 2,
       "version_minor": 0
      },
      "text/plain": [
       "VBox(children=(Figure(camera=PerspectiveCamera(fov=46.0, position=(0.0, 0.0, 2.0), quaternion=(0.0, 0.0, 0.0, …"
      ]
     },
     "metadata": {},
     "output_type": "display_data"
    }
   ],
   "source": [
    "sk.graph_skeleton_and_mesh(other_meshes=total_branch_meshes[:75],\n",
    "                          other_meshes_colors=\"random\",\n",
    "                          other_skeletons=total_branch_skeletons[:75],\n",
    "                          other_skeletons_colors=\"random\",\n",
    "                          html_path=\"two_soma_mesh_skeleton_decomp.html\")"
   ]
  },
  {
   "cell_type": "code",
   "execution_count": 546,
   "metadata": {},
   "outputs": [
    {
     "ename": "NameError",
     "evalue": "name 'main_mesh_verts' is not defined",
     "output_type": "error",
     "traceback": [
      "\u001b[0;31m---------------------------------------------------------------------------\u001b[0m",
      "\u001b[0;31mNameError\u001b[0m                                 Traceback (most recent call last)",
      "\u001b[0;32m<ipython-input-546-bf4db803e785>\u001b[0m in \u001b[0;36m<module>\u001b[0;34m\u001b[0m\n\u001b[1;32m      1\u001b[0m \u001b[0mcurrent_neuron\u001b[0m \u001b[0;34m=\u001b[0m \u001b[0mtrimesh\u001b[0m\u001b[0;34m.\u001b[0m\u001b[0mload_mesh\u001b[0m\u001b[0;34m(\u001b[0m\u001b[0;34m\"/notebooks/neuron_mesh_tools/test_neurons/multi_soma_example.off\"\u001b[0m\u001b[0;34m)\u001b[0m\u001b[0;34m\u001b[0m\u001b[0;34m\u001b[0m\u001b[0m\n\u001b[1;32m      2\u001b[0m \u001b[0msegment_id\u001b[0m \u001b[0;34m=\u001b[0m \u001b[0;36m12345\u001b[0m\u001b[0;34m\u001b[0m\u001b[0;34m\u001b[0m\u001b[0m\n\u001b[0;32m----> 3\u001b[0;31m sk.graph_skeleton_and_mesh(main_mesh_verts==current_neuron.vertices,\n\u001b[0m\u001b[1;32m      4\u001b[0m                           main_mesh_faces=current_neuron.faces)\n",
      "\u001b[0;31mNameError\u001b[0m: name 'main_mesh_verts' is not defined"
     ]
    }
   ],
   "source": [
    "current_neuron = trimesh.load_mesh(\"/notebooks/neuron_mesh_tools/test_neurons/multi_soma_example.off\")\n",
    "segment_id = 12345\n"
   ]
  },
  {
   "cell_type": "code",
   "execution_count": 548,
   "metadata": {},
   "outputs": [
    {
     "name": "stderr",
     "output_type": "stream",
     "text": [
      "/usr/local/lib/python3.6/dist-packages/traittypes/traittypes.py:101: UserWarning: Given trait value dtype \"float64\" does not match required type \"float64\". A coerced copy has been created.\n",
      "  np.dtype(self.dtype).name))\n"
     ]
    },
    {
     "data": {
      "application/vnd.jupyter.widget-view+json": {
       "model_id": "38b6471122d34305b27df475a9429dac",
       "version_major": 2,
       "version_minor": 0
      },
      "text/plain": [
       "VBox(children=(Figure(camera=PerspectiveCamera(fov=46.0, position=(0.0, 0.0, 2.0), quaternion=(0.0, 0.0, 0.0, …"
      ]
     },
     "metadata": {},
     "output_type": "display_data"
    }
   ],
   "source": [
    "sk.graph_skeleton_and_mesh(main_mesh_verts=current_neuron.vertices,\n",
    "                          main_mesh_faces=current_neuron.faces,\n",
    "                           main_mesh_color = [0.,1.,0.,0.8]\n",
    "                          )"
   ]
  },
  {
   "cell_type": "code",
   "execution_count": 549,
   "metadata": {},
   "outputs": [
    {
     "data": {
      "application/vnd.jupyter.widget-view+json": {
       "model_id": "f4dc65daa46b4f7096e26cef54d875cb",
       "version_major": 2,
       "version_minor": 0
      },
      "text/plain": [
       "VBox(children=(Figure(camera=PerspectiveCamera(fov=46.0, position=(0.0, 0.0, 2.0), quaternion=(0.0, 0.0, 0.0, …"
      ]
     },
     "metadata": {},
     "output_type": "display_data"
    }
   ],
   "source": [
    "soma_meshes = tu.combine_meshes(current_mesh_data[0][\"soma_meshes\"])\n",
    "sk.graph_skeleton_and_mesh(main_mesh_verts=soma_meshes.vertices,\n",
    "                          main_mesh_faces=soma_meshes.faces,\n",
    "                           main_mesh_color = [0.,1.,0.,0.8]\n",
    "                          )"
   ]
  },
  {
   "cell_type": "code",
   "execution_count": 561,
   "metadata": {},
   "outputs": [
    {
     "name": "stdout",
     "output_type": "stream",
     "text": [
      "hi\n"
     ]
    }
   ],
   "source": [
    "print(\"hi\")"
   ]
  },
  {
   "cell_type": "code",
   "execution_count": 562,
   "metadata": {},
   "outputs": [
    {
     "data": {
      "application/vnd.jupyter.widget-view+json": {
       "model_id": "77d2004e4fda40d09581adc12dd6dc3c",
       "version_major": 2,
       "version_minor": 0
      },
      "text/plain": [
       "VBox(children=(Figure(camera=PerspectiveCamera(fov=46.0, position=(0.0, 0.0, 2.0), quaternion=(0.0, 0.0, 0.0, …"
      ]
     },
     "metadata": {},
     "output_type": "display_data"
    }
   ],
   "source": [
    "threshold = 400\n",
    "axon_meshes = np.where(np.array(total_widths) < threshold)[0]\n",
    "\n",
    "sk.graph_skeleton_and_mesh(main_mesh_verts=current_neuron.vertices,\n",
    "                           main_mesh_faces=current_neuron.faces,\n",
    "                           main_mesh_color=[0.,1.,0.,0.1],\n",
    "                    other_meshes=[total_branch_meshes[k] for k in axon_meshes],\n",
    "                          other_meshes_colors=\"random\",\n",
    "                          other_skeletons=[total_branch_skeletons[k] for k in axon_meshes],\n",
    "                          other_skeletons_colors=\"random\",\n",
    "                        \n",
    "                          html_path=f\"axon_meshes_{threshold}.html\")"
   ]
  },
  {
   "cell_type": "code",
   "execution_count": 114,
   "metadata": {},
   "outputs": [
    {
     "name": "stdout",
     "output_type": "stream",
     "text": [
      "hi\n"
     ]
    }
   ],
   "source": [
    "print(\"hi\")"
   ]
  },
  {
   "cell_type": "code",
   "execution_count": 107,
   "metadata": {},
   "outputs": [
    {
     "name": "stdout",
     "output_type": "stream",
     "text": [
      "check_index = 5\n",
      "divided_submeshes[check_index] = 519\n",
      "The width = 910.093206343433\n"
     ]
    },
    {
     "name": "stderr",
     "output_type": "stream",
     "text": [
      "/usr/local/lib/python3.6/dist-packages/traittypes/traittypes.py:101: UserWarning: Given trait value dtype \"float64\" does not match required type \"float64\". A coerced copy has been created.\n",
      "  np.dtype(self.dtype).name))\n"
     ]
    },
    {
     "data": {
      "application/vnd.jupyter.widget-view+json": {
       "model_id": "f4ed4245a29d47f38ce9362122796246",
       "version_major": 2,
       "version_minor": 0
      },
      "text/plain": [
       "VBox(children=(Figure(camera=PerspectiveCamera(fov=46.0, position=(0.0, 0.0, 2.0), quaternion=(0.0, 0.0, 0.0, …"
      ]
     },
     "metadata": {},
     "output_type": "display_data"
    }
   ],
   "source": [
    "# Visualizing one mesh that has been completely labeled\n",
    "check_index = 5\n",
    "print(f\"check_index = {check_index}\")\n",
    "print(f\"divided_submeshes[check_index] = {len(total_branch_meshes[check_index].faces)}\")\n",
    "print(f\"The width = {total_widths[check_index]}\")\n",
    "sk.graph_skeleton_and_mesh(\n",
    "                            other_meshes=[total_branch_meshes[check_index]],\n",
    "                          other_meshes_colors=\"black\",\n",
    "                           other_skeletons=[total_branch_skeletons[check_index]],\n",
    "                           other_skeletons_colors=\"black\")"
   ]
  },
  {
   "cell_type": "markdown",
   "metadata": {},
   "source": [
    "# How to make our results into a networkx that is conceptual"
   ]
  },
  {
   "cell_type": "code",
   "execution_count": null,
   "metadata": {},
   "outputs": [],
   "source": []
  },
  {
   "cell_type": "code",
   "execution_count": 120,
   "metadata": {},
   "outputs": [
    {
     "data": {
      "application/vnd.jupyter.widget-view+json": {
       "model_id": "05ab40aafd4147cfb2700a42e466ef45",
       "version_major": 2,
       "version_minor": 0
      },
      "text/plain": [
       "VBox(children=(Figure(camera=PerspectiveCamera(fov=46.0, position=(0.0, 0.0, 2.0), quaternion=(0.0, 0.0, 0.0, …"
      ]
     },
     "metadata": {},
     "output_type": "display_data"
    }
   ],
   "source": [
    "skeleton_ending = 5\n",
    "mesh_piece = tu.combine_meshes(total_branch_meshes[:skeleton_ending])\n",
    "curr_skeleton = sk.stack_skeletons(total_branch_skeletons[:skeleton_ending])\n",
    "skeleton_graph = sk.convert_skeleton_to_graph(curr_skeleton)\n",
    "#nx.draw(skeleton_graph,with_labels=True)\n",
    "\n",
    "sk.graph_skeleton_and_mesh(other_meshes=[mesh_piece],\n",
    "                           other_skeletons=[curr_skeleton])"
   ]
  },
  {
   "cell_type": "code",
   "execution_count": 124,
   "metadata": {},
   "outputs": [
    {
     "data": {
      "text/plain": [
       "array([[ 513037.3, 1056063. ,  906505.2],\n",
       "       [ 543722. , 1043130. ,  907638. ],\n",
       "       [ 555945. , 1032990. ,  910372. ],\n",
       "       [ 557367. , 1026600. ,  902860. ]])"
      ]
     },
     "execution_count": 124,
     "metadata": {},
     "output_type": "execute_result"
    }
   ],
   "source": [
    "end_nodes = xu.get_nodes_of_degree_k(skeleton_graph,1)\n",
    "possible_endpoints = xu.get_node_attributes(skeleton_graph,node_list = end_nodes)"
   ]
  },
  {
   "cell_type": "code",
   "execution_count": null,
   "metadata": {},
   "outputs": [],
   "source": []
  },
  {
   "cell_type": "code",
   "execution_count": 136,
   "metadata": {},
   "outputs": [],
   "source": [
    "sk = reload(sk)\n",
    "from neuron import Branch\n",
    "\n",
    "curr_branch_meshes = total_branch_meshes[:skeleton_ending]\n",
    "curr_branch_skeletons = total_branch_skeletons[:skeleton_ending]\n",
    "curr_widths = total_widths[:skeleton_ending]\n",
    "\n",
    "branches = [Branch(k,v,j) for k,v,j in zip(curr_skeletons,curr_branch_meshes,curr_widths)]\n",
    "\n",
    "starting_mesh_idx = 0\n",
    "    \n",
    "starting_endpoint = endpoint_coordinates[starting_mesh_idx][0]\n",
    "starting_endpoint = 0"
   ]
  },
  {
   "cell_type": "code",
   "execution_count": 133,
   "metadata": {},
   "outputs": [
    {
     "data": {
      "text/plain": [
       "array([ 513037.3, 1056063. ,  906505.2])"
      ]
     },
     "execution_count": 133,
     "metadata": {},
     "output_type": "execute_result"
    }
   ],
   "source": [
    "branches[0].endpoints[0]"
   ]
  },
  {
   "cell_type": "code",
   "execution_count": null,
   "metadata": {},
   "outputs": [],
   "source": [
    "print(check_index)\n",
    "sk.graph_skeleton_and_mesh(\n",
    "                            other_meshes=[curr_limb_mesh.submesh([limb_correspondence[limb_idx][check_index][\"correspondence_face_idx\"]],append=True)],\n",
    "                          other_meshes_colors=\"black\",\n",
    "                           other_skeletons=[divided_branches[check_index]],\n",
    "                           other_skeletons_colors=\"black\")"
   ]
  },
  {
   "cell_type": "markdown",
   "metadata": {},
   "source": [
    "# using the correspondence indexes"
   ]
  },
  {
   "cell_type": "code",
   "execution_count": null,
   "metadata": {},
   "outputs": [],
   "source": [
    "#visualize in whole neuron part\n",
    "sk.graph_skeleton_and_mesh(main_mesh_faces=curr_limb_mesh.faces,\n",
    "                          main_mesh_verts=curr_limb_mesh.vertices,\n",
    "                           edge_coordinates=current_mesh_data[soma_containing_idx][\"branch_skeletons_cleaned\"][limb_idx],\n",
    "                           other_meshes=[limb_correspondence[limb_idx][check_index][\"correspondence_mesh\"]],\n",
    "                           other_meshes_colors=\"red\",\n",
    "                           other_skeletons = [divided_branches[check_index]],\n",
    "                           other_skeletons_colors=\"red\"\n",
    "                          )"
   ]
  },
  {
   "cell_type": "code",
   "execution_count": null,
   "metadata": {},
   "outputs": [],
   "source": [
    "print(check_index)\n",
    "sk.graph_skeleton_and_mesh(\n",
    "                            other_meshes=[limb_correspondence[limb_idx][check_index][\"correspondence_mesh\"]],\n",
    "                          other_meshes_colors=\"black\",\n",
    "                           other_skeletons=[divided_branches[check_index]],\n",
    "                           other_skeletons_colors=\"black\")"
   ]
  },
  {
   "cell_type": "markdown",
   "metadata": {},
   "source": [
    "# checking what it originally was before the waterfilling"
   ]
  },
  {
   "cell_type": "code",
   "execution_count": null,
   "metadata": {},
   "outputs": [],
   "source": []
  },
  {
   "cell_type": "markdown",
   "metadata": {},
   "source": [
    "# Changes to be added later"
   ]
  },
  {
   "cell_type": "code",
   "execution_count": null,
   "metadata": {},
   "outputs": [],
   "source": [
    "print(check_index)\n",
    "sk.graph_skeleton_and_mesh(\n",
    "                            other_meshes=[limb_correspondence[limb_idx][check_index][\"correspondence_mesh\"]],\n",
    "                          other_meshes_colors=\"black\",\n",
    "                           other_skeletons=[divided_branches[:5]],\n",
    "                           other_skeletons_colors=\"black\")"
   ]
  },
  {
   "cell_type": "code",
   "execution_count": null,
   "metadata": {},
   "outputs": [],
   "source": []
  },
  {
   "cell_type": "code",
   "execution_count": null,
   "metadata": {},
   "outputs": [],
   "source": []
  },
  {
   "cell_type": "code",
   "execution_count": null,
   "metadata": {},
   "outputs": [],
   "source": []
  },
  {
   "cell_type": "code",
   "execution_count": null,
   "metadata": {},
   "outputs": [],
   "source": []
  },
  {
   "cell_type": "code",
   "execution_count": null,
   "metadata": {},
   "outputs": [],
   "source": []
  },
  {
   "cell_type": "markdown",
   "metadata": {},
   "source": [
    "# -- Now have to make this go for the whole neuron -- #"
   ]
  },
  {
   "cell_type": "code",
   "execution_count": null,
   "metadata": {},
   "outputs": [],
   "source": [
    "#delete the nodes you don't like "
   ]
  },
  {
   "cell_type": "code",
   "execution_count": null,
   "metadata": {},
   "outputs": [],
   "source": [
    "xu = reload(xu)\n",
    "dict_for_attributes = dict()\n",
    "for k in limb_correspondence[limb_idx]:\n",
    "    dict_for_attributes[k] = {\n",
    "        \"skeleton\": limb_correspondence[limb_idx][k][\"branch_skeleton\"],\n",
    "        \"mesh_idx\":divided_submeshes_idx[k],\n",
    "        \"mesh\": divided_submeshes[k],\n",
    "        \"width\":limb_correspondence[limb_idx][k][\"width_from_skeleton\"]\n",
    "    }\n",
    "\n",
    "xu.set_node_attributes_dict(limb_graph,dict_for_attributes)\n",
    "xu.get_node_attributes(limb_graph,\"skeleton\")\n"
   ]
  },
  {
   "cell_type": "markdown",
   "metadata": {},
   "source": [
    "# -- Adding the skeletons and meshes to the structure"
   ]
  },
  {
   "cell_type": "code",
   "execution_count": 71,
   "metadata": {},
   "outputs": [
    {
     "data": {
      "application/vnd.jupyter.widget-view+json": {
       "model_id": "85cb2e9f20fb45168318e93139748781",
       "version_major": 2,
       "version_minor": 0
      },
      "text/plain": [
       "VBox(children=(Figure(camera=PerspectiveCamera(fov=46.0, position=(0.0, 0.0, 2.0), quaternion=(0.0, 0.0, 0.0, …"
      ]
     },
     "metadata": {},
     "output_type": "display_data"
    }
   ],
   "source": [
    "#visualize in whole neuron part\n",
    "check_index = 23\n",
    "sk.graph_skeleton_and_mesh(main_mesh_faces=curr_limb_mesh.faces,\n",
    "                          main_mesh_verts=curr_limb_mesh.vertices,\n",
    "                           edge_coordinates=current_mesh_data[soma_containing_idx][\"branch_skeletons_cleaned\"][limb_idx],\n",
    "                           other_meshes=[divided_submeshes[check_index]],\n",
    "                           other_meshes_colors=\"red\",\n",
    "                           other_skeletons = [divided_branches[check_index]],\n",
    "                           other_skeletons_colors=\"red\"\n",
    "                          )"
   ]
  },
  {
   "cell_type": "markdown",
   "metadata": {},
   "source": [
    "# -- delete the wierd branches -- #"
   ]
  },
  {
   "cell_type": "code",
   "execution_count": 73,
   "metadata": {},
   "outputs": [
    {
     "data": {
      "text/plain": [
       "[21, 25]"
      ]
     },
     "execution_count": 73,
     "metadata": {},
     "output_type": "execute_result"
    }
   ],
   "source": [
    "xu.get_neighbors(limb_graph,23)"
   ]
  },
  {
   "cell_type": "code",
   "execution_count": 68,
   "metadata": {},
   "outputs": [
    {
     "name": "stdout",
     "output_type": "stream",
     "text": [
      "wierd_meshes before = [23, 35, 37, 40, 44]\n"
     ]
    },
    {
     "data": {
      "text/plain": [
       "set()"
      ]
     },
     "execution_count": 68,
     "metadata": {},
     "output_type": "execute_result"
    }
   ],
   "source": [
    "# check the parts that have that ratio\n",
    "width_to_face_ratio = 500/100\n",
    "\n",
    "wierd_meshes = []\n",
    "for k in limb_correspondence[limb_idx]:\n",
    "    curr_width = limb_correspondence[limb_idx][k][\"width_from_skeleton\"]\n",
    "    curr_face_count = len(divided_submeshes[k].faces)\n",
    "    if curr_width/curr_face_count > width_to_face_ratio:\n",
    "        wierd_meshes.append(k)\n",
    "    \n",
    "wierd_meshes #could then eliminate them if endpoints\n",
    "\n",
    "limb_graph_degree_1 = xu.get_nodes_of_degree_k(limb_graph,1)\n",
    "print(f\"wierd_meshes before = {wierd_meshes}\")\n",
    "set(wierd_meshes).intersection(set(limb_graph_degree_1))"
   ]
  },
  {
   "cell_type": "markdown",
   "metadata": {},
   "source": [
    "# -- Find the wierd branches to filter away -- #"
   ]
  },
  {
   "cell_type": "code",
   "execution_count": 66,
   "metadata": {},
   "outputs": [
    {
     "name": "stdout",
     "output_type": "stream",
     "text": [
      "endpoint_coordinates.shape = (150, 3)\n"
     ]
    },
    {
     "data": {
      "image/png": "[encoded data removed]",
      "text/plain": [
       "<Figure size 432x288 with 1 Axes>"
      ]
     },
     "metadata": {},
     "output_type": "display_data"
    }
   ],
   "source": [
    "\"\"\"\n",
    "There is a but in this where forks that are touching are connected like triangle: \n",
    "\n",
    "#check that they all only have two nodes with a degree of 1\n",
    "not_equal_to_2 = []\n",
    "for j,db in enumerate(divided_branches):\n",
    "    db_graph = sk.convert_skeleton_to_graph(db)\n",
    "    degree_one_nodes = xu.get_nodes_of_degree_k(db_graph,1)\n",
    "    if len(degree_one_nodes) != 2:\n",
    "        not_equal_to_2.append(j)\n",
    "        \n",
    "not_equal_to_2\n",
    "\"\"\"\n",
    "\n",
    "\n",
    "\n",
    "nu = reload(nu)\n",
    "#get the endpoints of the branch\n",
    "endpoint_coordinates = []\n",
    "for db in divided_branches:\n",
    "    db_graph = sk.convert_skeleton_to_graph(db)\n",
    "    endpoint_coordinates.append(xu.get_node_attributes(db_graph,node_list=xu.get_nodes_of_degree_k(db_graph,1)))\n",
    "    \n",
    "endpoint_coordinates = np.array(endpoint_coordinates)\n",
    "endpoint_coordinates = endpoint_coordinates.reshape(-1,3)\n",
    "print(f\"endpoint_coordinates.shape = {endpoint_coordinates.shape}\")\n",
    "\n",
    "\n",
    "# dist_matrix = nu.get_coordinate_distance_matrix(endpoint_coordinates)\n",
    "# np.sum(dist_matrix[0,:] == 0)\n",
    "\n",
    "#do the distance matrix to find \n",
    "matching_vertices = nu.get_matching_vertices(endpoint_coordinates)\n",
    "\n",
    "#creating the actual edges \n",
    "graph_edges = np.floor(matching_vertices/2).astype(\"int\")\n",
    "limb_graph = nx.Graph(nx.from_edgelist(graph_edges))\n",
    "nx.draw(limb_graph,with_labels=True)"
   ]
  },
  {
   "cell_type": "markdown",
   "metadata": {},
   "source": [
    "# Creating the networkx structure"
   ]
  },
  {
   "cell_type": "code",
   "execution_count": 524,
   "metadata": {},
   "outputs": [
    {
     "data": {
      "text/plain": [
       "NoneType"
      ]
     },
     "execution_count": 524,
     "metadata": {},
     "output_type": "execute_result"
    }
   ],
   "source": [
    "type(concept_graph)"
   ]
  },
  {
   "cell_type": "code",
   "execution_count": 528,
   "metadata": {},
   "outputs": [
    {
     "name": "stdout",
     "output_type": "stream",
     "text": [
      "edge_endpoints_to_process was empty so exiting loop after 10 iterations\n",
      "Total time for branches to concept conversion = 0.042084693908691406\n",
      "\n"
     ]
    },
    {
     "data": {
      "image/png": "[encoded data removed]",
      "text/plain": [
       "<Figure size 432x288 with 1 Axes>"
      ]
     },
     "metadata": {},
     "output_type": "display_data"
    }
   ],
   "source": [
    "xu = reload(xu)\n",
    "sk = reload(sk)\n",
    "\n",
    "node_to_check_to = 10\n",
    "\n",
    "starting_coordinate = np.array([ 513037.3, 1056063. ,  906505.2])\n",
    "concept_graph = sk.branches_to_concept_graph(divided_branches[:node_to_check_to],starting_coordinate)\n",
    "nx.draw(concept_graph,with_labels=True)"
   ]
  },
  {
   "cell_type": "markdown",
   "metadata": {},
   "source": [
    "# Plotting the Scatter of the Points"
   ]
  },
  {
   "cell_type": "code",
   "execution_count": 538,
   "metadata": {},
   "outputs": [
    {
     "name": "stderr",
     "output_type": "stream",
     "text": [
      "/usr/local/lib/python3.6/dist-packages/traittypes/traittypes.py:101: UserWarning: Given trait value dtype \"float64\" does not match required type \"float64\". A coerced copy has been created.\n",
      "  np.dtype(self.dtype).name))\n"
     ]
    },
    {
     "data": {
      "application/vnd.jupyter.widget-view+json": {
       "model_id": "eb699f02975b41cda16a818b14f68b88",
       "version_major": 2,
       "version_minor": 0
      },
      "text/plain": [
       "VBox(children=(Figure(camera=PerspectiveCamera(fov=46.0, position=(0.0, 0.0, 2.0), quaternion=(0.0, 0.0, 0.0, …"
      ]
     },
     "metadata": {},
     "output_type": "display_data"
    }
   ],
   "source": [
    "sk = reload(sk)\n",
    "mu = reload(mu)\n",
    "random_colors_used = sk.graph_skeleton_and_mesh(other_meshes=total_branch_meshes[:node_to_check_to],\n",
    "                          other_meshes_colors=\"random\",\n",
    "                          other_skeletons=divided_branches[:node_to_check_to],\n",
    "                          other_skeletons_colors=\"random\",\n",
    "                            mesh_alpha=0.8,\n",
    "                          return_other_colors=True)\n",
    "random_colors_used_no_alpha = random_colors_used[:,:-1]"
   ]
  },
  {
   "cell_type": "code",
   "execution_count": 556,
   "metadata": {},
   "outputs": [
    {
     "data": {
      "application/vnd.jupyter.widget-view+json": {
       "model_id": "fda8327ab9864dd8b99cbdf09bd3f885",
       "version_major": 2,
       "version_minor": 0
      },
      "text/plain": [
       "VBox(children=(Figure(camera=PerspectiveCamera(fov=46.0, position=(0.0, 0.0, 2.0), quaternion=(0.0, 0.0, 0.0, …"
      ]
     },
     "metadata": {},
     "output_type": "display_data"
    }
   ],
   "source": [
    "sk = reload(sk)\n",
    "mu = reload(mu)\n",
    "sk.graph_skeleton_and_mesh(#other_meshes=total_branch_meshes[:node_to_check_to],\n",
    "                          #other_meshes_colors=\"random\",\n",
    "                          other_skeletons=divided_branches[:node_to_check_to],\n",
    "                          other_skeletons_colors=\"random\",\n",
    "                            mesh_alpha=0.05)\n"
   ]
  },
  {
   "cell_type": "code",
   "execution_count": 529,
   "metadata": {},
   "outputs": [
    {
     "data": {
      "image/png": "[encoded data removed]",
      "text/plain": [
       "<Figure size 432x288 with 1 Axes>"
      ]
     },
     "metadata": {},
     "output_type": "display_data"
    }
   ],
   "source": [
    "# plotting the concept network with the same colors\n",
    "nx.draw(concept_graph,node_color=random_colors_used_no_alpha) "
   ]
  },
  {
   "cell_type": "code",
   "execution_count": 557,
   "metadata": {},
   "outputs": [
    {
     "data": {
      "application/vnd.jupyter.widget-view+json": {
       "model_id": "7c461dc275194ca2980eab4bf75ab768",
       "version_major": 2,
       "version_minor": 0
      },
      "text/plain": [
       "VBox(children=(Figure(camera=PerspectiveCamera(fov=46.0, position=(0.0, 0.0, 2.0), quaternion=(0.0, 0.0, 0.0, …"
      ]
     },
     "metadata": {},
     "output_type": "display_data"
    }
   ],
   "source": [
    "# Try plotting the points in 3D: random_colors_used = sk.graph_skeleton_and_mesh(other_meshes=total_branch_meshes[:node_to_check_to],\n",
    "graph_nodes_skeleton = np.array(mesh_midpoints)[concept_graph.edges_ordered()].reshape(-1,2,3)\n",
    "[k for k in graph_nodes_skeleton]\n",
    "random_colors_used[:,-1] = 1\n",
    "\n",
    "mesh_midpoints =  [np.array([np.mean(k.vertices,axis=0)]) for k in total_branch_meshes[:node_to_check_to]]\n",
    "sk.graph_skeleton_and_mesh(other_scatter=mesh_midpoints,\n",
    "                          other_scatter_colors=random_colors_used,\n",
    "                          other_skeletons=graph_nodes_skeleton,\n",
    "                          other_skeletons_colors=\"black\",\n",
    "                                               scatter_size=3)\n",
    "\n"
   ]
  },
  {
   "cell_type": "code",
   "execution_count": 466,
   "metadata": {},
   "outputs": [
    {
     "name": "stdout",
     "output_type": "stream",
     "text": [
      "edge_endpoints_to_process was empty so exiting loop\n"
     ]
    },
    {
     "data": {
      "image/png": "[encoded data removed]",
      "text/plain": [
       "<Figure size 432x288 with 1 Axes>"
      ]
     },
     "metadata": {},
     "output_type": "display_data"
    }
   ],
   "source": [
    "\"\"\"\n",
    "Prework: create a nodes processed list \n",
    "0) convert each branch to just one line segment, stack the branches and then construct skeleton\n",
    "1) Go to the starting node\n",
    "1b) Add all edges incident and their other node label to a list to check (add the first node to processed nodes list)\n",
    "2) Pop the edge edge number,endpoint of the stack\n",
    "- if edge already been processed then continue\n",
    "a. Find all edges incident on this node\n",
    "- if no other edges then continue\n",
    "b. Create edges from curent edge to those edges incident with it\n",
    "c. Add the current node as processed\n",
    "d. For each edge incident add the edge number and the other connecting node to the list\n",
    "\n",
    "\"\"\"\n",
    "\n",
    "\n",
    "\n",
    "\n",
    "processed_nodes = []\n",
    "edge_endpoints_to_process = []\n",
    "concept_network_edges = []\n",
    "\n",
    "\n",
    "# 0) convert each branch to one segment and build a graph from it\n",
    "curr_branch_meshes_downsampled = [sk.resize_skeleton_branch(b,n_segments=1) for b in curr_branch_skeletons]\n",
    "branches_graph = sk.convert_skeleton_to_graph(sk.stack_skeletons(curr_branch_meshes_downsampled)) #can recover the original skeleton\n",
    "\n",
    "\n",
    "#************************ need to just make an edges lookup dictionary*********#\n",
    "\n",
    "\n",
    "#1) Identify the starting node on the starting branch\n",
    "starting_node = xu.get_nodes_with_attributes_dict(branches_graph,dict(coordinates=starting_coordinate))\n",
    "\n",
    "#1b) Add all edges incident and their other node label to a list to check (add the first node to processed nodes list)\n",
    "incident_edges = xu.node_to_edges(branches_graph,starting_node)\n",
    "#print(f\"incident_edges = {incident_edges}\")\n",
    "# #incident_edges_idx = edge_to_index(incident_edges)\n",
    "\n",
    "# #adding them to the list to be processed\n",
    "edge_endpoints_to_process = [(edges,edges[edges != starting_node ]) for edges in incident_edges]\n",
    "processed_nodes.append(starting_node)\n",
    "\n",
    "for i in range(max_iterations):\n",
    "    #print(f\"==\\n\\n On iteration {i}==\")\n",
    "    if len(edge_endpoints_to_process) == 0:\n",
    "        print(\"edge_endpoints_to_process was empty so exiting loop\")\n",
    "        break\n",
    "        \n",
    "    #2) Pop the edge edge number,endpoint of the stack\n",
    "    edge,endpt = edge_endpoints_to_process.pop(0)\n",
    "    #print(f\"edge,endpt = {(edge,endpt)}\")\n",
    "    #- if edge already been processed then continue\n",
    "    if endpt in processed_nodes:\n",
    "        #print(f\"Already processed endpt = {endpt} so skipping\")\n",
    "        continue\n",
    "    #a. Find all edges incident on this node\n",
    "    incident_edges = xu.node_to_edges(branches_graph,endpt)\n",
    "    #print(f\"incident_edges = {incident_edges}\")\n",
    "    \n",
    "    considering_edges = [k for k in incident_edges if not np.array_equal(k,edge) and not np.array_equal(k,np.flip(edge))]\n",
    "    #print(f\"considering_edges = {considering_edges}\")\n",
    "    #b. Create edges from curent edge to those edges incident with it\n",
    "    concept_network_edges += [(edge,k) for k in considering_edges]\n",
    "    \n",
    "    #c. Add the current node as processed\n",
    "    processed_nodes.append(endpt)\n",
    "    \n",
    "    #d. For each edge incident add the edge and the other connecting node to the list\n",
    "    new_edge_processing = [(e,e[e != endpt ]) for e in considering_edges]\n",
    "    edge_endpoints_to_process = edge_endpoints_to_process + new_edge_processing\n",
    "    #print(f\"edge_endpoints_to_process = {edge_endpoints_to_process}\")\n",
    "    \n",
    "if len(edge_endpoints_to_process)>0:\n",
    "    raise Exception(f\"Reached max_interations of {max_iterations} and the edge_endpoints_to_process not empty\")\n",
    "\n",
    "#flattening the connections so we can get the indexes of these edges\n",
    "flattened_connections = np.array(concept_network_edges).reshape(-1,2)\n",
    "orders = xu.get_edge_attributes(branches_graph,edge_list=flattened_connections)\n",
    "concept_network_edges_fixed = np.array(orders).reshape(-1,2)\n",
    "\n",
    "# # while \n",
    "# # edge_endpoints_to_process\n",
    "concept_graph = nx.from_edgelist(concept_network_edges_fixed)\n",
    "nx.draw(concept_graph,with_labels=True)\n"
   ]
  },
  {
   "cell_type": "code",
   "execution_count": null,
   "metadata": {},
   "outputs": [],
   "source": []
  },
  {
   "cell_type": "code",
   "execution_count": 205,
   "metadata": {},
   "outputs": [
    {
     "ename": "IndexError",
     "evalue": "index 0 is out of bounds for axis 0 with size 0",
     "output_type": "error",
     "traceback": [
      "\u001b[0;31m---------------------------------------------------------------------------\u001b[0m",
      "\u001b[0;31mIndexError\u001b[0m                                Traceback (most recent call last)",
      "\u001b[0;32m<ipython-input-205-6abb267fd603>\u001b[0m in \u001b[0;36m<module>\u001b[0;34m\u001b[0m\n\u001b[1;32m     34\u001b[0m \u001b[0;34m\u001b[0m\u001b[0m\n\u001b[1;32m     35\u001b[0m \u001b[0;31m#1b) Add all edges incident and their other node label to a list to check (add the first node to processed nodes list)\u001b[0m\u001b[0;34m\u001b[0m\u001b[0;34m\u001b[0m\u001b[0;34m\u001b[0m\u001b[0m\n\u001b[0;32m---> 36\u001b[0;31m \u001b[0mincident_edges\u001b[0m \u001b[0;34m=\u001b[0m \u001b[0mnp\u001b[0m\u001b[0;34m.\u001b[0m\u001b[0marray\u001b[0m\u001b[0;34m(\u001b[0m\u001b[0mxu\u001b[0m\u001b[0;34m.\u001b[0m\u001b[0medge_to_index\u001b[0m\u001b[0;34m(\u001b[0m\u001b[0mbranches_graph\u001b[0m\u001b[0;34m,\u001b[0m\u001b[0mxu\u001b[0m\u001b[0;34m.\u001b[0m\u001b[0mnode_to_edges\u001b[0m\u001b[0;34m(\u001b[0m\u001b[0mbranches_graph\u001b[0m\u001b[0;34m,\u001b[0m\u001b[0mstarting_node\u001b[0m\u001b[0;34m)\u001b[0m\u001b[0;34m)\u001b[0m\u001b[0;34m)\u001b[0m\u001b[0;34m\u001b[0m\u001b[0;34m\u001b[0m\u001b[0m\n\u001b[0m\u001b[1;32m     37\u001b[0m \u001b[0mincident_edges_idx\u001b[0m \u001b[0;34m=\u001b[0m \u001b[0medge_to_index\u001b[0m\u001b[0;34m(\u001b[0m\u001b[0mincident_edges\u001b[0m\u001b[0;34m)\u001b[0m\u001b[0;34m\u001b[0m\u001b[0;34m\u001b[0m\u001b[0m\n\u001b[1;32m     38\u001b[0m \u001b[0;34m\u001b[0m\u001b[0m\n",
      "\u001b[0;32m/notebooks/neuron_mesh_tools/meshAfterParty/networkx_utils.py\u001b[0m in \u001b[0;36medge_to_index\u001b[0;34m(G, curr_edge)\u001b[0m\n\u001b[1;32m      6\u001b[0m     \u001b[0mmatching_edges_idx\u001b[0m \u001b[0;34m=\u001b[0m \u001b[0mnu\u001b[0m\u001b[0;34m.\u001b[0m\u001b[0mmatching_rows\u001b[0m\u001b[0;34m(\u001b[0m\u001b[0mG\u001b[0m\u001b[0;34m.\u001b[0m\u001b[0medges\u001b[0m\u001b[0;34m(\u001b[0m\u001b[0;34m)\u001b[0m\u001b[0;34m,\u001b[0m\u001b[0mcurr_edge\u001b[0m\u001b[0;34m)\u001b[0m\u001b[0;34m\u001b[0m\u001b[0;34m\u001b[0m\u001b[0m\n\u001b[1;32m      7\u001b[0m     \u001b[0;32mif\u001b[0m \u001b[0mlen\u001b[0m\u001b[0;34m(\u001b[0m\u001b[0mmatching_edges_idx\u001b[0m\u001b[0;34m)\u001b[0m \u001b[0;34m==\u001b[0m \u001b[0;36m0\u001b[0m\u001b[0;34m:\u001b[0m\u001b[0;34m\u001b[0m\u001b[0;34m\u001b[0m\u001b[0m\n\u001b[0;32m----> 8\u001b[0;31m         \u001b[0;32mreturn\u001b[0m \u001b[0mnu\u001b[0m\u001b[0;34m.\u001b[0m\u001b[0mmatching_rows\u001b[0m\u001b[0;34m(\u001b[0m\u001b[0mG\u001b[0m\u001b[0;34m.\u001b[0m\u001b[0medges\u001b[0m\u001b[0;34m(\u001b[0m\u001b[0;34m)\u001b[0m\u001b[0;34m,\u001b[0m\u001b[0mcurr_edge\u001b[0m\u001b[0;34m)\u001b[0m\u001b[0;34m[\u001b[0m\u001b[0;36m0\u001b[0m\u001b[0;34m]\u001b[0m\u001b[0;34m\u001b[0m\u001b[0;34m\u001b[0m\u001b[0m\n\u001b[0m\u001b[1;32m      9\u001b[0m     \u001b[0;32melse\u001b[0m\u001b[0;34m:\u001b[0m\u001b[0;34m\u001b[0m\u001b[0;34m\u001b[0m\u001b[0m\n\u001b[1;32m     10\u001b[0m         \u001b[0;32mreturn\u001b[0m \u001b[0mnu\u001b[0m\u001b[0;34m.\u001b[0m\u001b[0mmatching_rows\u001b[0m\u001b[0;34m(\u001b[0m\u001b[0mG\u001b[0m\u001b[0;34m.\u001b[0m\u001b[0medges\u001b[0m\u001b[0;34m(\u001b[0m\u001b[0;34m)\u001b[0m\u001b[0;34m,\u001b[0m\u001b[0mcurr_edge\u001b[0m\u001b[0;34m)\u001b[0m\u001b[0;34m\u001b[0m\u001b[0;34m\u001b[0m\u001b[0m\n",
      "\u001b[0;31mIndexError\u001b[0m: index 0 is out of bounds for axis 0 with size 0"
     ]
    }
   ],
   "source": [
    "# \"\"\"\n",
    "# Prework: create a nodes processed list \n",
    "# 0) convert each branch to just one line segment, stack the branches and then construct skeleton\n",
    "# 1) Go to the starting node\n",
    "# 1b) Add all edges incident and their other node label to a list to check (add the first node to processed nodes list)\n",
    "# 2) Pop the edge edge number,endpoint of the stack\n",
    "# - if edge already been processed then continue\n",
    "# a. Find all edges incident on this node\n",
    "# - if no other edges then continue\n",
    "# b. Create edges from curent edge to those edges incident with it\n",
    "# c. Add the current node as processed\n",
    "# d. For each edge incident add the edge number and the other connecting node to the list\n",
    "\n",
    "# \"\"\"\n",
    "\n",
    "\n",
    "\n",
    "# xu = reload(xu)\n",
    "\n",
    "# processed_nodes = []\n",
    "# edge_endpoints_to_process = []\n",
    "# concept_network_edges = []\n",
    "\n",
    "\n",
    "# # 0) convert each branch to one segment and build a graph from it\n",
    "# curr_branch_meshes_downsampled = [sk.resize_skeleton_branch(b,n_segments=1) for b in curr_branch_skeletons]\n",
    "# branches_graph = sk.convert_skeleton_to_graph(sk.stack_skeletons(curr_branch_meshes_downsampled)) #can recover the original skeleton\n",
    "\n",
    "\n",
    "# #************************ need to just make an edges lookup dictionary*********#\n",
    "\n",
    "# max_iterations = len(branches_graph.nodes())\n",
    "\n",
    "# #Identify the starting node on the starting branch = \n",
    "# starting_coordinate = np.array([ 513037.3, 1056063. ,  906505.2])\n",
    "\n",
    "\n",
    "# #1) Identify the starting node on the starting branch\n",
    "# starting_node = xu.get_nodes_with_attributes_dict(branches_graph,dict(coordinates=starting_coordinate))\n",
    "\n",
    "# #1b) Add all edges incident and their other node label to a list to check (add the first node to processed nodes list)\n",
    "# incident_edges = np.array(xu.edge_to_index(branches_graph,xu.node_to_edges(branches_graph,starting_node)))\n",
    "# incident_edges_idx = edge_to_index(incident_edges)\n",
    "\n",
    "# #adding them to the list to be processed\n",
    "# edge_endpoints_to_process = [(idx,edges[edges != starting_node ]) for idx,edges in zip(incident_edges_idx,incident_edges)]\n",
    "# processed_nodes.append(starting_node)\n",
    "\n",
    "# for i in range(branches_graph):\n",
    "#     if len(edge_endpoints_to_process) == 0:\n",
    "#         print(\"edge_endpoints_to_process was empty so exiting loop\")\n",
    "#         break\n",
    "#     #2) Pop the edge edge number,endpoint of the stack\n",
    "#     edge_idx,endpt = edge_endpoints_to_process.pop(0)\n",
    "#     #- if edge already been processed then continue\n",
    "#     if endpt in processed_nodes:\n",
    "#         continue\n",
    "#     #a. Find all edges incident on this node\n",
    "#     incident_edges = np.array(xu.edge_to_index(branches_graph,xu.node_to_edges(branches_graph,endpt)))\n",
    "#     incident_edges_idx = edge_to_index(incident_edges)\n",
    "    \n",
    "#     #b. Create edges from curent edge to those edges incident with it\n",
    "#     concept_network_edges += [(edge_idx,k) for k in incident_edges_idx if k != edge_idx]\n",
    "    \n",
    "#     #c. Add the current node as processed\n",
    "#     processed_nodes(endpt)\n",
    "    \n",
    "#     #d. For each edge incident add the edge number and the other connecting node to the list\n",
    "#     new_edge_processing = [(idx,edges[edges != starting_node ]) for idx,edges in zip(incident_edges_idx,incident_edges) if idx != edge_idx]\n",
    "#     edge_endpoints_to_process = edge_endpoints_to_process + new_edge_processing\n",
    "    \n",
    "    \n",
    "    \n",
    "\n",
    "# # while \n",
    "# # edge_endpoints_to_process\n",
    "# concept_graph = nx.from_edgelist(concept_network_edges)\n",
    "\n"
   ]
  }
 ],
 "metadata": {
  "kernelspec": {
   "display_name": "Python 3",
   "language": "python",
   "name": "python3"
  },
  "language_info": {
   "codemirror_mode": {
    "name": "ipython",
    "version": 3
   },
   "file_extension": ".py",
   "mimetype": "text/x-python",
   "name": "python",
   "nbconvert_exporter": "python",
   "pygments_lexer": "ipython3",
   "version": "3.6.9"
  }
 },
 "nbformat": 4,
 "nbformat_minor": 4
}
