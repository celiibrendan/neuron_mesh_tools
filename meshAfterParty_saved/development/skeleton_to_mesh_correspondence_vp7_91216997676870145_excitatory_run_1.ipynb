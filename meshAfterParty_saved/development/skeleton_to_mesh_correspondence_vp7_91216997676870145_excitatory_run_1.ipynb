{
 "cells": [
  {
   "cell_type": "code",
   "execution_count": 1,
   "metadata": {},
   "outputs": [],
   "source": [
    "from os import sys\n",
    "sys.path.append(\"../../meshAfterParty/\")"
   ]
  },
  {
   "cell_type": "code",
   "execution_count": 2,
   "metadata": {},
   "outputs": [],
   "source": [
    "import skeleton_utils as sk\n",
    "import soma_extraction_utils as sm\n",
    "import trimesh_utils as tu\n",
    "import trimesh\n",
    "import numpy_utils as nu\n",
    "import numpy as np\n",
    "from importlib import reload\n",
    "import networkx as nx\n",
    "import time\n",
    "import compartment_utils as cu\n",
    "import networkx_utils as xu\n",
    "import matplotlib_utils as mu\n",
    "\n",
    "sm = reload(sm)"
   ]
  },
  {
   "cell_type": "code",
   "execution_count": 3,
   "metadata": {},
   "outputs": [],
   "source": [
    "#Setting where base neuron is\n",
    "segment_id = 91216997676870145\n",
    "current_mesh_file = f\"/notebooks/neuron_mesh_tools/test_neurons/spine_detection/{segment_id}_excitatory_1.off\"\n"
   ]
  },
  {
   "cell_type": "markdown",
   "metadata": {},
   "source": [
    "# **** Phase 1 ****"
   ]
  },
  {
   "cell_type": "markdown",
   "metadata": {},
   "source": [
    "# Starting from the very beginning of a neuron mesh"
   ]
  },
  {
   "cell_type": "code",
   "execution_count": 4,
   "metadata": {},
   "outputs": [],
   "source": [
    "current_neuron = trimesh.load_mesh(current_mesh_file)"
   ]
  },
  {
   "cell_type": "code",
   "execution_count": 5,
   "metadata": {},
   "outputs": [
    {
     "name": "stderr",
     "output_type": "stream",
     "text": [
      "/usr/local/lib/python3.6/dist-packages/traittypes/traittypes.py:101: UserWarning: Given trait value dtype \"float64\" does not match required type \"float64\". A coerced copy has been created.\n",
      "  np.dtype(self.dtype).name))\n"
     ]
    },
    {
     "data": {
      "application/vnd.jupyter.widget-view+json": {
       "model_id": "343b10ba68b7474e9940dc10059dad98",
       "version_major": 2,
       "version_minor": 0
      },
      "text/plain": [
       "VBox(children=(Figure(camera=PerspectiveCamera(fov=46.0, position=(0.0, 0.0, 2.0), quaternion=(0.0, 0.0, 0.0, …"
      ]
     },
     "metadata": {},
     "output_type": "display_data"
    }
   ],
   "source": [
    "sk.graph_skeleton_and_mesh(main_mesh_verts=current_neuron.vertices,\n",
    "                          main_mesh_faces=current_neuron.faces,\n",
    "                           main_mesh_color = [0.,1.,0.,0.8]\n",
    "                          )"
   ]
  },
  {
   "cell_type": "markdown",
   "metadata": {},
   "source": [
    "# Doing the soma detection"
   ]
  },
  {
   "cell_type": "code",
   "execution_count": 6,
   "metadata": {},
   "outputs": [
    {
     "name": "stdout",
     "output_type": "stream",
     "text": [
      "Current Arguments Using (adjusted for decimation):\n",
      " large_mesh_threshold= 15000.0 \n",
      "large_mesh_threshold_inner = 10000.0 \n",
      "soma_size_threshold = 1250.0 \n",
      "soma_size_threshold_max = 12000.0\n",
      "outer_decimation_ratio = 0.25\n",
      "inner_decimation_ratio = 0.25\n",
      "IN INPUT FILE VALIDATION LOOP\n",
      "LEAVING LOOP, MESH VALIDATED\n",
      "Using port = 2496\n",
      "xvfb-run -n 2496 -s \"-screen 0 800x600x24\" meshlabserver $@  -i /notebooks/neuron_mesh_tools/meshAfterParty/development/91216997676870145/neuron_91216997676870145.off -o /notebooks/neuron_mesh_tools/meshAfterParty/development/91216997676870145/neuron_91216997676870145_decimated.off -s /notebooks/neuron_mesh_tools/meshAfterParty/development/91216997676870145/decimation_meshlab_25399505.mls\n",
      "Total found significant pieces before Poisson = [<trimesh.Trimesh(vertices.shape=(41880, 3), faces.shape=(84664, 3))>]\n",
      "----- working on large mesh #0: <trimesh.Trimesh(vertices.shape=(41880, 3), faces.shape=(84664, 3))>\n",
      "pre_largest_mesh_path = /notebooks/neuron_mesh_tools/meshAfterParty/development/91216997676870145/neuron_91216997676870145_decimated_largest_piece.off\n",
      "IN INPUT FILE VALIDATION LOOP\n",
      "LEAVING LOOP, MESH VALIDATED\n",
      "Using port = 8583\n",
      "xvfb-run -n 8583 -s \"-screen 0 800x600x24\" meshlabserver $@  -i /notebooks/neuron_mesh_tools/meshAfterParty/development/91216997676870145/neuron_91216997676870145_decimated_largest_piece.off -o /notebooks/neuron_mesh_tools/meshAfterParty/development/91216997676870145/neuron_91216997676870145_decimated_largest_piece_poisson.off -s /notebooks/neuron_mesh_tools/meshAfterParty/development/91216997676870145/poisson_632434.mls\n"
     ]
    },
    {
     "name": "stderr",
     "output_type": "stream",
     "text": [
      "face_normals all zero, ignoring!\n",
      "face_normals all zero, ignoring!\n",
      "face_normals all zero, ignoring!\n",
      "face_normals all zero, ignoring!\n",
      "face_normals all zero, ignoring!\n",
      "face_normals all zero, ignoring!\n",
      "face_normals all zero, ignoring!\n",
      "face_normals all zero, ignoring!\n",
      "face_normals all zero, ignoring!\n",
      "face_normals all zero, ignoring!\n",
      "face_normals all zero, ignoring!\n",
      "face_normals all zero, ignoring!\n",
      "face_normals all zero, ignoring!\n",
      "face_normals all zero, ignoring!\n",
      "face_normals all zero, ignoring!\n",
      "face_normals all zero, ignoring!\n",
      "face_normals all zero, ignoring!\n",
      "face_normals all zero, ignoring!\n",
      "face_normals all zero, ignoring!\n",
      "face_normals all zero, ignoring!\n",
      "face_normals all zero, ignoring!\n",
      "face_normals all zero, ignoring!\n",
      "face_normals all zero, ignoring!\n",
      "face_normals all zero, ignoring!\n",
      "face_normals all zero, ignoring!\n",
      "face_normals all zero, ignoring!\n",
      "face_normals all zero, ignoring!\n",
      "face_normals all zero, ignoring!\n",
      "face_normals all zero, ignoring!\n",
      "face_normals all zero, ignoring!\n",
      "face_normals all zero, ignoring!\n",
      "face_normals all zero, ignoring!\n",
      "face_normals all zero, ignoring!\n",
      "face_normals all zero, ignoring!\n",
      "face_normals all zero, ignoring!\n"
     ]
    },
    {
     "name": "stdout",
     "output_type": "stream",
     "text": [
      "Total found significant pieces AFTER Poisson = [<trimesh.Trimesh(vertices.shape=(27910, 3), faces.shape=(55820, 3))>]\n",
      "----- working on mesh after poisson #0: <trimesh.Trimesh(vertices.shape=(27910, 3), faces.shape=(55820, 3))>\n",
      "IN INPUT FILE VALIDATION LOOP\n",
      "LEAVING LOOP, MESH VALIDATED\n",
      "Using port = 5336\n",
      "xvfb-run -n 5336 -s \"-screen 0 800x600x24\" meshlabserver $@  -i /notebooks/neuron_mesh_tools/meshAfterParty/development/91216997676870145/neuron_91216997676870145_decimated_largest_piece_poisson_largest_inner.off -o /notebooks/neuron_mesh_tools/meshAfterParty/development/91216997676870145/neuron_91216997676870145_decimated_largest_piece_poisson_largest_inner_decimated.off -s /notebooks/neuron_mesh_tools/meshAfterParty/development/91216997676870145/decimation_meshlab_25863909.mls\n",
      "done exporting decimated mesh: neuron_91216997676870145_decimated_largest_piece_poisson_largest_inner.off\n",
      "1) Starting: Mesh importing and Pymesh fix\n",
      "loading mesh from vertices and triangles array\n",
      "1) Finished: Mesh importing and Pymesh fix: 0.000270843505859375\n",
      "2) Staring: Generating CGAL segmentation for neuron\n",
      "Done writing OFF file\n",
      "\n",
      "Starting CGAL segmentation\n",
      "Right before cgal segmentation, clusters = 3, smoothness = 0.2, path_and_filename = /notebooks/neuron_mesh_tools/meshAfterParty/development/temp/9121699767687014500_fixed \n",
      "1\n",
      "Finished CGAL segmentation algorithm: 1.301983118057251\n",
      "2) Finished: Generating CGAL segmentation for neuron: 1.5030951499938965\n",
      "3) Staring: Generating Graph Structure and Identifying Soma using soma size threshold  = 3000\n",
      "my_list_keys = [0, 1, 2, 3, 4, 5, 6, 7]\n",
      "changed the median value\n",
      "changed the mean value\n",
      "changed the max value\n",
      "soma_index = 0\n",
      "3) Finished: Generating Graph Structure and Identifying Soma: 0.004995822906494141\n",
      "Not finding the apical because soma_only option selected\n",
      "6) Staring: Classifying Entire Neuron\n",
      "Total Labels found = {'soma', 'unsure'}\n",
      "6) Finished: Classifying Entire Neuron: 4.315376281738281e-05\n",
      "7) Staring: Transfering Segmentation Labels to Face Labels\n",
      "7) Finished: Transfering Segmentation Labels to Face Labels: 0.011213541030883789\n",
      "8) Staring: Generating final Vertex and Face Labels\n",
      "8) Finished: Generating final Vertex and Face Labels: 0.13748478889465332\n",
      "Returning the soma_sdf value AND the classifier\n",
      "soma_sdf_value = 0.835965\n",
      "segmentation[sorted_medians],median_values[sorted_medians] = (array([0, 5, 3, 1, 7, 2, 6, 4]), array([0.835965 , 0.192673 , 0.1720795, 0.1000814, 0.0993457, 0.0889937,\n",
      "       0.0729006, 0.0165065]))\n",
      "Sizes = [4787, 2473, 348, 1746, 2837, 1345, 381, 37]\n",
      "valid_soma_segments_width\n",
      "      ------ Found 1 viable somas: [0]\n",
      "Using Poisson Surface Reconstruction to make mesh watertight\n",
      "IN INPUT FILE VALIDATION LOOP\n",
      "LEAVING LOOP, MESH VALIDATED\n",
      "Using port = 2546\n",
      "xvfb-run -n 2546 -s \"-screen 0 800x600x24\" meshlabserver $@  -i /notebooks/neuron_mesh_tools/meshAfterParty/development/Poisson_temp/neuron_57968.off -o /notebooks/neuron_mesh_tools/meshAfterParty/development/Poisson_temp/neuron_57968_poisson.off -s /notebooks/neuron_mesh_tools/meshAfterParty/development/Poisson_temp/poisson_649894.mls\n",
      "removed temporary input file: /notebooks/neuron_mesh_tools/meshAfterParty/development/Poisson_temp/neuron_57968.off\n",
      "removed temporary output file: /notebooks/neuron_mesh_tools/meshAfterParty/development/Poisson_temp/neuron_57968_poisson.off\n",
      "/notebooks/neuron_mesh_tools/meshAfterParty/development/Poisson_temp/poisson_649894.mls is being deleted....\n",
      "Inside sphere validater: ratio_val = 2.8767493620996447\n",
      "\n",
      "\n",
      "\n",
      " Total time for run = 36.27596664428711\n"
     ]
    }
   ],
   "source": [
    "soma_mesh_list,run_time,total_soma_list_sdf = sm.extract_soma_center(segment_id,\n",
    "                                             current_neuron.vertices,\n",
    "                                             current_neuron.faces)"
   ]
  },
  {
   "cell_type": "markdown",
   "metadata": {},
   "source": [
    "# At this point assume that there are somas (if not would just skip to the limb skeleton stuff)"
   ]
  },
  {
   "cell_type": "code",
   "execution_count": 7,
   "metadata": {},
   "outputs": [
    {
     "data": {
      "application/vnd.jupyter.widget-view+json": {
       "model_id": "6ec098ec552d4ec496e808535c5adfea",
       "version_major": 2,
       "version_minor": 0
      },
      "text/plain": [
       "VBox(children=(Figure(camera=PerspectiveCamera(fov=46.0, position=(0.0, 0.0, 2.0), quaternion=(0.0, 0.0, 0.0, …"
      ]
     },
     "metadata": {},
     "output_type": "display_data"
    }
   ],
   "source": [
    "# Visualizing the somas: \n",
    "total_soma = tu.combine_meshes(soma_mesh_list)\n",
    "soma_meshes = total_soma\n",
    "sk.graph_skeleton_and_mesh(main_mesh_verts=soma_meshes.vertices,\n",
    "                          main_mesh_faces=soma_meshes.faces,\n",
    "                           main_mesh_color = [0.,1.,0.,0.8]\n",
    "                          )"
   ]
  },
  {
   "cell_type": "code",
   "execution_count": 8,
   "metadata": {},
   "outputs": [
    {
     "name": "stdout",
     "output_type": "stream",
     "text": [
      "Soma List = [<trimesh.Trimesh(vertices.shape=(2416, 3), faces.shape=(4787, 3))>]\n",
      "soma_mesh_list_centers = [array([817077.71183775, 920243.23071192, 972867.56096854])]\n"
     ]
    }
   ],
   "source": [
    "# geting the soma centers\n",
    "if len(soma_mesh_list) <= 0:\n",
    "    print(f\"**** No Somas Found for Mesh {segment_id} so just one mesh\")\n",
    "    soma_mesh_list_centers = []\n",
    "else:\n",
    "    #compute the soma centers\n",
    "    print(f\"Soma List = {soma_mesh_list}\")\n",
    "\n",
    "    soma_mesh_list_centers = sm.find_soma_centroids(soma_mesh_list)\n",
    "    print(f\"soma_mesh_list_centers = {soma_mesh_list_centers}\")"
   ]
  },
  {
   "cell_type": "markdown",
   "metadata": {},
   "source": [
    "# getting the soma submeshes that are connected to each soma and identifiying those that aren't (and eliminating any mesh pieces inside the soma)"
   ]
  },
  {
   "cell_type": "code",
   "execution_count": 9,
   "metadata": {},
   "outputs": [
    {
     "name": "stdout",
     "output_type": "stream",
     "text": [
      "# total split meshes = 8\n"
     ]
    },
    {
     "data": {
      "text/plain": [
       "{0: 0}"
      ]
     },
     "execution_count": 9,
     "metadata": {},
     "output_type": "execute_result"
    }
   ],
   "source": [
    "main_mesh_total = current_neuron\n",
    "sig_th_initial_split=15\n",
    "\n",
    "#finding the mesh pieces that contain the soma\n",
    "#splitting the current neuron into distinct pieces\n",
    "split_meshes = tu.split_significant_pieces(\n",
    "                            main_mesh_total,\n",
    "                            significance_threshold=sig_th_initial_split,\n",
    "                            print_flag=False)\n",
    "\n",
    "print(f\"# total split meshes = {len(split_meshes)}\")\n",
    "\n",
    "\n",
    "#returns the index of the split_meshes index that contains each soma    \n",
    "containing_mesh_indices = sm.find_soma_centroid_containing_meshes(soma_mesh_list_centers,\n",
    "                                        split_meshes)\n",
    "\n",
    "containing_mesh_indices"
   ]
  },
  {
   "cell_type": "code",
   "execution_count": 10,
   "metadata": {},
   "outputs": [
    {
     "name": "stdout",
     "output_type": "stream",
     "text": [
      "There were 7 pieces found after size threshold\n",
      "# of non soma touching seperate meshes = 5\n",
      "# of inside pieces = 2\n",
      "# of soma containing seperate meshes = 1\n",
      "meshes with somas = {0: [0]}\n"
     ]
    }
   ],
   "source": [
    "# filtering away any of the inside floating pieces: \n",
    "sm = reload(sm)\n",
    "non_soma_touching_meshes = [m for i,m in enumerate(split_meshes)\n",
    "                 if i not in list(containing_mesh_indices.values())]\n",
    "\n",
    "\n",
    "#Adding the step that will filter away any pieces that are inside the soma\n",
    "if len(non_soma_touching_meshes) > 0 and len(soma_mesh_list) > 0:\n",
    "    \"\"\"\n",
    "    *** want to save these pieces that are inside of the soma***\n",
    "    \"\"\"\n",
    "    \n",
    "    non_soma_touching_meshes,inside_pieces = sm.filter_away_inside_soma_pieces(soma_mesh_list,non_soma_touching_meshes,\n",
    "                                    significance_threshold=sig_th_initial_split,\n",
    "                                    return_inside_pieces = True)                                                      \n",
    "\n",
    "\n",
    "split_meshes # the meshes of the original mesh\n",
    "containing_mesh_indices #the mapping of each soma centroid to the correct split mesh\n",
    "soma_containing_meshes = sm.grouping_containing_mesh_indices(containing_mesh_indices)\n",
    "\n",
    "soma_touching_meshes = [split_meshes[k] for k in soma_containing_meshes.keys()]\n",
    "\n",
    "    \n",
    "print(f\"# of non soma touching seperate meshes = {len(non_soma_touching_meshes)}\")\n",
    "print(f\"# of inside pieces = {len(inside_pieces)}\")\n",
    "print(f\"# of soma containing seperate meshes = {len(soma_touching_meshes)}\")\n",
    "print(f\"meshes with somas = {soma_containing_meshes}\")"
   ]
  },
  {
   "cell_type": "markdown",
   "metadata": {},
   "source": [
    "# Soma Extraction was great (but it wasn't the original soma faces), so now need to get the original soma faces and the original non-soma faces of original pieces"
   ]
  },
  {
   "cell_type": "code",
   "execution_count": 11,
   "metadata": {},
   "outputs": [
    {
     "name": "stdout",
     "output_type": "stream",
     "text": [
      "\n",
      "\n",
      "----Working on soma-containing mesh piece {z}----\n",
      "\n",
      "inside Soma subtraction\n",
      "mesh pieces in subtact soma BEFORE the filtering inside pieces = [<trimesh.Trimesh(vertices.shape=(79199, 3), faces.shape=(158736, 3))>, <trimesh.Trimesh(vertices.shape=(38141, 3), faces.shape=(76413, 3))>, <trimesh.Trimesh(vertices.shape=(37975, 3), faces.shape=(76070, 3))>, <trimesh.Trimesh(vertices.shape=(1376, 3), faces.shape=(2764, 3))>, <trimesh.Trimesh(vertices.shape=(184, 3), faces.shape=(355, 3))>]\n",
      "There were 5 pieces found after size threshold\n",
      "mesh pieces in subtact soma AFTER the filtering inside pieces = [<trimesh.Trimesh(vertices.shape=(79199, 3), faces.shape=(158736, 3))>, <trimesh.Trimesh(vertices.shape=(38141, 3), faces.shape=(76413, 3))>, <trimesh.Trimesh(vertices.shape=(37975, 3), faces.shape=(76070, 3))>, <trimesh.Trimesh(vertices.shape=(1376, 3), faces.shape=(2764, 3))>, <trimesh.Trimesh(vertices.shape=(184, 3), faces.shape=(355, 3))>]\n",
      "Total Time for soma mesh cancellation = 0.717\n",
      "# of insignificant_limbs = 1 with trimesh : [<trimesh.Trimesh(vertices.shape=(184, 3), faces.shape=(355, 3))>]\n"
     ]
    },
    {
     "data": {
      "text/plain": [
       "{0: {'branch_meshes': [<trimesh.Trimesh(vertices.shape=(79199, 3), faces.shape=(158736, 3))>,\n",
       "   <trimesh.Trimesh(vertices.shape=(38141, 3), faces.shape=(76413, 3))>,\n",
       "   <trimesh.Trimesh(vertices.shape=(37975, 3), faces.shape=(76070, 3))>,\n",
       "   <trimesh.Trimesh(vertices.shape=(1376, 3), faces.shape=(2764, 3))>],\n",
       "  'soma_meshes': array([<trimesh.Trimesh(vertices.shape=(13539, 3), faces.shape=(26997, 3))>,\n",
       "         <trimesh.Trimesh(vertices.shape=(118, 3), faces.shape=(229, 3))>,\n",
       "         <trimesh.Trimesh(vertices.shape=(32, 3), faces.shape=(57, 3))>,\n",
       "         <trimesh.Trimesh(vertices.shape=(15, 3), faces.shape=(17, 3))>],\n",
       "        dtype=object),\n",
       "  'soma_to_piece_connectivity': {0: [0, 1, 2, 3], 1: [], 2: [3], 3: []}}}"
      ]
     },
     "execution_count": 11,
     "metadata": {},
     "output_type": "execute_result"
    }
   ],
   "source": [
    "from importlib import reload\n",
    "sm = reload(sm)\n",
    "tu = reload(tu)\n",
    "\n",
    "\"\"\"\n",
    "for each soma touching mesh get the following:\n",
    "1) original soma meshes\n",
    "2) significant mesh pieces touching these somas\n",
    "3) The soma connectivity to each of the significant mesh pieces\n",
    "-- later will just translate the \n",
    "\n",
    "\n",
    "Process: \n",
    "\n",
    "1) Final all soma faces (through soma extraction and then soma original faces function)\n",
    "2) Subtact all soma faces from original mesh\n",
    "3) Find all significant mesh pieces\n",
    "4) Backtrack significant mesh pieces to orignal mesh and find connectivity of each to all\n",
    "   the available somas\n",
    "Conclusion: Will have connectivity map\n",
    "\n",
    "\n",
    "\"\"\"\n",
    "limb_threshold = 2000\n",
    "\n",
    "soma_touching_mesh_data = dict()\n",
    "\n",
    "for z,(mesh_idx, soma_idxes) in enumerate(soma_containing_meshes.items()):\n",
    "    soma_touching_mesh_data[z] = dict()\n",
    "    print(\"\\n\\n----Working on soma-containing mesh piece {z}----\")\n",
    "\n",
    "    #1) Final all soma faces (through soma extraction and then soma original faces function)\n",
    "    current_mesh = split_meshes[mesh_idx]\n",
    "\n",
    "    current_soma_mesh_list = [soma_mesh_list[k] for k in soma_idxes]\n",
    "\n",
    "    mesh_pieces_without_soma = sm.subtract_soma(current_soma_mesh_list,current_mesh,\n",
    "                                                significance_threshold=250)\n",
    "\n",
    "    mesh_pieces_without_soma_stacked = tu.combine_meshes(mesh_pieces_without_soma)\n",
    "    \n",
    "    # find the original soma faces of mesh\n",
    "    soma_faces = tu.original_mesh_faces_map(current_mesh,mesh_pieces_without_soma_stacked,matching=False)\n",
    "    soma_meshes = current_mesh.submesh([soma_faces],append=True)\n",
    "    \n",
    "    # finding the non-soma original faces\n",
    "    non_soma_faces = tu.original_mesh_faces_map(current_mesh,soma_meshes,matching=False)\n",
    "    non_soma_stacked_mesh = current_mesh.submesh([non_soma_faces],append=True)\n",
    "    \n",
    "    # 3) Find all significant mesh pieces\n",
    "    sig_non_soma_pieces,insignificant_limbs = tu.split_significant_pieces(non_soma_stacked_mesh,significance_threshold=limb_threshold,\n",
    "                                                     return_insignificant_pieces=True)\n",
    "   \n",
    "    \n",
    "    soma_touching_mesh_data[z][\"branch_meshes\"] = sig_non_soma_pieces\n",
    "    \n",
    "    #4) Backtrack significant mesh pieces to orignal mesh and find connectivity of each to all the available somas\n",
    "    # get all the seperate mesh faces\n",
    "\n",
    "    #How to seperate the mesh faces\n",
    "    seperate_soma_meshes,soma_face_components = tu.split(soma_meshes,only_watertight=False)\n",
    "    soma_touching_mesh_data[z][\"soma_meshes\"] = seperate_soma_meshes\n",
    "    \n",
    "    \n",
    "    soma_to_piece_connectivity = dict()\n",
    "    for i,curr_soma in enumerate(seperate_soma_meshes):\n",
    "        connected_mesh_pieces,connected_mesh_pieces_vertices  = tu.mesh_pieces_connectivity(\n",
    "                        main_mesh=current_mesh,\n",
    "                        central_piece=curr_soma,\n",
    "                        periphery_pieces = sig_non_soma_pieces,\n",
    "                        return_vertices = True)\n",
    "        #print(f\"soma {i}: connected_mesh_pieces = {connected_mesh_pieces}\")\n",
    "        soma_to_piece_connectivity[i] = connected_mesh_pieces\n",
    "    \n",
    "    \n",
    "    soma_touching_mesh_data[z][\"soma_to_piece_connectivity\"] = soma_to_piece_connectivity\n",
    "\n",
    "print(f\"# of insignificant_limbs = {len(insignificant_limbs)} with trimesh : {insignificant_limbs}\")\n",
    "soma_touching_mesh_data"
   ]
  },
  {
   "cell_type": "markdown",
   "metadata": {},
   "source": [
    "# ****Soma Touching mesh Data has the branches and the connectivity (So this is where you end up skipping if you don't have somas)***"
   ]
  },
  {
   "cell_type": "markdown",
   "metadata": {},
   "source": [
    "# Working on the Actual skeleton of all of the branches"
   ]
  },
  {
   "cell_type": "code",
   "execution_count": 12,
   "metadata": {
    "scrolled": true
   },
   "outputs": [
    {
     "name": "stdout",
     "output_type": "stream",
     "text": [
      "\n",
      "-- Working on Soma Continaing Mesh 0--\n",
      "\n",
      "    -- Working on branch 0--\n",
      "     Starting Screened Poisson\n",
      "IN INPUT FILE VALIDATION LOOP\n",
      "LEAVING LOOP, MESH VALIDATED\n",
      "Using port = 1581\n",
      "xvfb-run -n 1581 -s \"-screen 0 800x600x24\" meshlabserver $@  -i /notebooks/neuron_mesh_tools/meshAfterParty/development/temp/None.off -o /notebooks/neuron_mesh_tools/meshAfterParty/development/temp/None_poisson.off -s /notebooks/neuron_mesh_tools/meshAfterParty/development/temp/poisson_390049.mls\n",
      "-----Time for Screened Poisson= 17.599452018737793\n"
     ]
    },
    {
     "name": "stderr",
     "output_type": "stream",
     "text": [
      "face_normals all zero, ignoring!\n",
      "face_normals all zero, ignoring!\n",
      "face_normals all zero, ignoring!\n",
      "face_normals all zero, ignoring!\n",
      "face_normals all zero, ignoring!\n",
      "face_normals all zero, ignoring!\n",
      "face_normals all zero, ignoring!\n",
      "face_normals all zero, ignoring!\n",
      "face_normals all zero, ignoring!\n",
      "face_normals all zero, ignoring!\n",
      "face_normals all zero, ignoring!\n",
      "face_normals all zero, ignoring!\n",
      "face_normals all zero, ignoring!\n",
      "face_normals all zero, ignoring!\n",
      "face_normals all zero, ignoring!\n",
      "face_normals all zero, ignoring!\n",
      "face_normals all zero, ignoring!\n",
      "face_normals all zero, ignoring!\n",
      "face_normals all zero, ignoring!\n",
      "face_normals all zero, ignoring!\n",
      "face_normals all zero, ignoring!\n",
      "face_normals all zero, ignoring!\n",
      "face_normals all zero, ignoring!\n",
      "face_normals all zero, ignoring!\n",
      "face_normals all zero, ignoring!\n",
      "face_normals all zero, ignoring!\n",
      "face_normals all zero, ignoring!\n",
      "face_normals all zero, ignoring!\n",
      "face_normals all zero, ignoring!\n",
      "face_normals all zero, ignoring!\n",
      "face_normals all zero, ignoring!\n",
      "face_normals all zero, ignoring!\n",
      "face_normals all zero, ignoring!\n",
      "face_normals all zero, ignoring!\n",
      "face_normals all zero, ignoring!\n"
     ]
    },
    {
     "name": "stdout",
     "output_type": "stream",
     "text": [
      "     Starting Calcification\n",
      "Before mesh subtraction number of skeleton edges = 2924\n",
      "Inside mesh subtraction, len(main_mesh_bbox_restricted.faces) = 158736\n"
     ]
    },
    {
     "data": {
      "application/vnd.jupyter.widget-view+json": {
       "model_id": "cb30b64c15eb46d3b7afcc13f0199704",
       "version_major": 2,
       "version_minor": 0
      },
      "text/plain": [
       "HBox(children=(FloatProgress(value=1.0, bar_style='info', max=1.0), HTML(value='')))"
      ]
     },
     "metadata": {},
     "output_type": "display_data"
    },
    {
     "name": "stderr",
     "output_type": "stream",
     "text": [
      "No adjacent faces detected! Did you merge vertices?\n"
     ]
    },
    {
     "name": "stdout",
     "output_type": "stream",
     "text": [
      "\n",
      "Total Mesh subtraction time = 38.4378\n"
     ]
    },
    {
     "data": {
      "application/vnd.jupyter.widget-view+json": {
       "model_id": "bfb69320edb34249a11f66dfc259f814",
       "version_major": 2,
       "version_minor": 0
      },
      "text/plain": [
       "HBox(children=(FloatProgress(value=0.0, max=93.0), HTML(value='')))"
      ]
     },
     "metadata": {},
     "output_type": "display_data"
    },
    {
     "name": "stdout",
     "output_type": "stream",
     "text": [
      "\n",
      "len_subgraphs AT BEGINNING of the loop\n"
     ]
    },
    {
     "data": {
      "application/vnd.jupyter.widget-view+json": {
       "model_id": "ea62b28188e94756b22c8c1db59e2be8",
       "version_major": 2,
       "version_minor": 0
      },
      "text/plain": [
       "HBox(children=(FloatProgress(value=0.0, max=276.0), HTML(value='')))"
      ]
     },
     "metadata": {},
     "output_type": "display_data"
    },
    {
     "name": "stdout",
     "output_type": "stream",
     "text": [
      "all graph is one component!\n",
      "\n",
      "Total time for skeleton stitching = 0.522514820098877\n",
      "The process was using a temp folder\n",
      "Using Distance measure skeletal_distance\n"
     ]
    },
    {
     "data": {
      "application/vnd.jupyter.widget-view+json": {
       "model_id": "ce0bf34758f8425c8baa30538ac8778a",
       "version_major": 2,
       "version_minor": 0
      },
      "text/plain": [
       "HBox(children=(FloatProgress(value=0.0, max=241.0), HTML(value='')))"
      ]
     },
     "metadata": {},
     "output_type": "display_data"
    },
    {
     "name": "stdout",
     "output_type": "stream",
     "text": [
      "    Total time for skeleton and cleaning of branch 0: 10.09607744216919\n",
      "\n",
      "    -- Working on branch 1--\n",
      "     Starting Screened Poisson\n",
      "IN INPUT FILE VALIDATION LOOP\n",
      "LEAVING LOOP, MESH VALIDATED\n",
      "Using port = 571\n",
      "xvfb-run -n 571 -s \"-screen 0 800x600x24\" meshlabserver $@  -i /notebooks/neuron_mesh_tools/meshAfterParty/development/temp/None.off -o /notebooks/neuron_mesh_tools/meshAfterParty/development/temp/None_poisson.off -s /notebooks/neuron_mesh_tools/meshAfterParty/development/temp/poisson_538748.mls\n"
     ]
    },
    {
     "name": "stderr",
     "output_type": "stream",
     "text": [
      "face_normals all zero, ignoring!\n",
      "face_normals all zero, ignoring!\n",
      "face_normals all zero, ignoring!\n",
      "face_normals all zero, ignoring!\n",
      "face_normals all zero, ignoring!\n",
      "face_normals all zero, ignoring!\n",
      "face_normals all zero, ignoring!\n",
      "face_normals all zero, ignoring!\n",
      "face_normals all zero, ignoring!\n",
      "face_normals all zero, ignoring!\n",
      "face_normals all zero, ignoring!\n"
     ]
    },
    {
     "name": "stdout",
     "output_type": "stream",
     "text": [
      "-----Time for Screened Poisson= 12.86734127998352\n"
     ]
    },
    {
     "name": "stderr",
     "output_type": "stream",
     "text": [
      "face_normals all zero, ignoring!\n",
      "face_normals all zero, ignoring!\n",
      "face_normals all zero, ignoring!\n",
      "face_normals all zero, ignoring!\n",
      "face_normals all zero, ignoring!\n",
      "face_normals all zero, ignoring!\n",
      "face_normals all zero, ignoring!\n",
      "face_normals all zero, ignoring!\n",
      "face_normals all zero, ignoring!\n",
      "face_normals all zero, ignoring!\n",
      "face_normals all zero, ignoring!\n",
      "face_normals all zero, ignoring!\n",
      "face_normals all zero, ignoring!\n",
      "face_normals all zero, ignoring!\n",
      "face_normals all zero, ignoring!\n",
      "face_normals all zero, ignoring!\n",
      "face_normals all zero, ignoring!\n",
      "face_normals all zero, ignoring!\n",
      "face_normals all zero, ignoring!\n",
      "face_normals all zero, ignoring!\n"
     ]
    },
    {
     "name": "stdout",
     "output_type": "stream",
     "text": [
      "     Starting Calcification\n",
      "Before mesh subtraction number of skeleton edges = 1470\n",
      "Inside mesh subtraction, len(main_mesh_bbox_restricted.faces) = 76413\n"
     ]
    },
    {
     "data": {
      "application/vnd.jupyter.widget-view+json": {
       "model_id": "0caa58c641024702ae6ac84ff4b699dd",
       "version_major": 2,
       "version_minor": 0
      },
      "text/plain": [
       "HBox(children=(FloatProgress(value=1.0, bar_style='info', max=1.0), HTML(value='')))"
      ]
     },
     "metadata": {},
     "output_type": "display_data"
    },
    {
     "name": "stdout",
     "output_type": "stream",
     "text": [
      "\n",
      "Total Mesh subtraction time = 17.1031\n"
     ]
    },
    {
     "data": {
      "application/vnd.jupyter.widget-view+json": {
       "model_id": "8111f9b2a55d43cc81e1fb1df2af2eeb",
       "version_major": 2,
       "version_minor": 0
      },
      "text/plain": [
       "HBox(children=(FloatProgress(value=0.0, max=48.0), HTML(value='')))"
      ]
     },
     "metadata": {},
     "output_type": "display_data"
    },
    {
     "name": "stdout",
     "output_type": "stream",
     "text": [
      "\n",
      "len_subgraphs AT BEGINNING of the loop\n"
     ]
    },
    {
     "data": {
      "application/vnd.jupyter.widget-view+json": {
       "model_id": "41b42a99982f4220ab71063889a3f924",
       "version_major": 2,
       "version_minor": 0
      },
      "text/plain": [
       "HBox(children=(FloatProgress(value=0.0, max=156.0), HTML(value='')))"
      ]
     },
     "metadata": {},
     "output_type": "display_data"
    },
    {
     "name": "stdout",
     "output_type": "stream",
     "text": [
      "all graph is one component!\n",
      "Total time for skeleton stitching = 0.20578932762145996\n",
      "The process was using a temp folder\n",
      "\n",
      "Using Distance measure skeletal_distance\n"
     ]
    },
    {
     "data": {
      "application/vnd.jupyter.widget-view+json": {
       "model_id": "74e73789ceb84e5796f94b5bb6ce9a6f",
       "version_major": 2,
       "version_minor": 0
      },
      "text/plain": [
       "HBox(children=(FloatProgress(value=0.0, max=145.0), HTML(value='')))"
      ]
     },
     "metadata": {},
     "output_type": "display_data"
    },
    {
     "name": "stdout",
     "output_type": "stream",
     "text": [
      "    Total time for skeleton and cleaning of branch 1: 3.2077929973602295\n",
      "\n",
      "    -- Working on branch 2--\n",
      "     Starting Screened Poisson\n",
      "IN INPUT FILE VALIDATION LOOP\n",
      "\n",
      "LEAVING LOOP, MESH VALIDATED\n",
      "Using port = 6140\n",
      "xvfb-run -n 6140 -s \"-screen 0 800x600x24\" meshlabserver $@  -i /notebooks/neuron_mesh_tools/meshAfterParty/development/temp/None.off -o /notebooks/neuron_mesh_tools/meshAfterParty/development/temp/None_poisson.off -s /notebooks/neuron_mesh_tools/meshAfterParty/development/temp/poisson_697485.mls\n"
     ]
    },
    {
     "name": "stderr",
     "output_type": "stream",
     "text": [
      "face_normals all zero, ignoring!\n",
      "face_normals all zero, ignoring!\n",
      "face_normals all zero, ignoring!\n",
      "face_normals all zero, ignoring!\n",
      "face_normals all zero, ignoring!\n",
      "face_normals all zero, ignoring!\n",
      "face_normals all zero, ignoring!\n",
      "face_normals all zero, ignoring!\n",
      "face_normals all zero, ignoring!\n",
      "face_normals all zero, ignoring!\n"
     ]
    },
    {
     "name": "stdout",
     "output_type": "stream",
     "text": [
      "-----Time for Screened Poisson= 13.701874732971191\n"
     ]
    },
    {
     "name": "stderr",
     "output_type": "stream",
     "text": [
      "face_normals all zero, ignoring!\n",
      "face_normals all zero, ignoring!\n",
      "face_normals all zero, ignoring!\n",
      "face_normals all zero, ignoring!\n",
      "face_normals all zero, ignoring!\n",
      "face_normals all zero, ignoring!\n",
      "face_normals all zero, ignoring!\n",
      "face_normals all zero, ignoring!\n",
      "face_normals all zero, ignoring!\n",
      "face_normals all zero, ignoring!\n",
      "face_normals all zero, ignoring!\n",
      "face_normals all zero, ignoring!\n",
      "face_normals all zero, ignoring!\n",
      "face_normals all zero, ignoring!\n",
      "face_normals all zero, ignoring!\n",
      "face_normals all zero, ignoring!\n",
      "face_normals all zero, ignoring!\n",
      "face_normals all zero, ignoring!\n",
      "face_normals all zero, ignoring!\n",
      "face_normals all zero, ignoring!\n",
      "face_normals all zero, ignoring!\n",
      "face_normals all zero, ignoring!\n",
      "face_normals all zero, ignoring!\n",
      "face_normals all zero, ignoring!\n",
      "face_normals all zero, ignoring!\n",
      "face_normals all zero, ignoring!\n",
      "face_normals all zero, ignoring!\n",
      "face_normals all zero, ignoring!\n",
      "face_normals all zero, ignoring!\n",
      "face_normals all zero, ignoring!\n",
      "face_normals all zero, ignoring!\n",
      "face_normals all zero, ignoring!\n"
     ]
    },
    {
     "name": "stdout",
     "output_type": "stream",
     "text": [
      "     Starting Calcification\n",
      "Before mesh subtraction number of skeleton edges = 1463\n",
      "Inside mesh subtraction, len(main_mesh_bbox_restricted.faces) = 76070\n"
     ]
    },
    {
     "data": {
      "application/vnd.jupyter.widget-view+json": {
       "model_id": "00d84758cc774e41a830a308d453ca37",
       "version_major": 2,
       "version_minor": 0
      },
      "text/plain": [
       "HBox(children=(FloatProgress(value=1.0, bar_style='info', max=1.0), HTML(value='')))"
      ]
     },
     "metadata": {},
     "output_type": "display_data"
    },
    {
     "name": "stdout",
     "output_type": "stream",
     "text": [
      "\n",
      "Total Mesh subtraction time = 18.0311\n"
     ]
    },
    {
     "data": {
      "application/vnd.jupyter.widget-view+json": {
       "model_id": "1871d4f5094c428f8f2d6a4dc1556119",
       "version_major": 2,
       "version_minor": 0
      },
      "text/plain": [
       "HBox(children=(FloatProgress(value=0.0, max=47.0), HTML(value='')))"
      ]
     },
     "metadata": {},
     "output_type": "display_data"
    },
    {
     "name": "stdout",
     "output_type": "stream",
     "text": [
      "\n",
      "len_subgraphs AT BEGINNING of the loop\n"
     ]
    },
    {
     "data": {
      "application/vnd.jupyter.widget-view+json": {
       "model_id": "443de90764ca46559e6a4591d669b64e",
       "version_major": 2,
       "version_minor": 0
      },
      "text/plain": [
       "HBox(children=(FloatProgress(value=0.0, max=170.0), HTML(value='')))"
      ]
     },
     "metadata": {},
     "output_type": "display_data"
    },
    {
     "name": "stdout",
     "output_type": "stream",
     "text": [
      "all graph is one component!\n",
      "Total time for skeleton stitching = 0.21517300605773926\n",
      "The process was using a temp folder\n",
      "\n",
      "Using Distance measure skeletal_distance\n"
     ]
    },
    {
     "data": {
      "application/vnd.jupyter.widget-view+json": {
       "model_id": "da83e13b51784c0cb8cdf1fba545342d",
       "version_major": 2,
       "version_minor": 0
      },
      "text/plain": [
       "HBox(children=(FloatProgress(value=0.0, max=161.0), HTML(value='')))"
      ]
     },
     "metadata": {},
     "output_type": "display_data"
    },
    {
     "name": "stdout",
     "output_type": "stream",
     "text": [
      "    Total time for skeleton and cleaning of branch 2: 3.4967315196990967\n",
      "\n",
      "    -- Working on branch 3--\n",
      "     Starting Screened Poisson\n",
      "IN INPUT FILE VALIDATION LOOP\n",
      "LEAVING LOOP, MESH VALIDATED\n",
      "Using port = 6555\n",
      "xvfb-run -n 6555 -s \"-screen 0 800x600x24\" meshlabserver $@  -i /notebooks/neuron_mesh_tools/meshAfterParty/development/temp/None.off -o /notebooks/neuron_mesh_tools/meshAfterParty/development/temp/None_poisson.off -s /notebooks/neuron_mesh_tools/meshAfterParty/development/temp/poisson_408977.mls\n",
      "-----Time for Screened Poisson= 5.335187911987305\n",
      "     Starting Calcification\n",
      "Before mesh subtraction number of skeleton edges = 48\n",
      "Inside mesh subtraction, len(main_mesh_bbox_restricted.faces) = 2764\n"
     ]
    },
    {
     "data": {
      "application/vnd.jupyter.widget-view+json": {
       "model_id": "0c5a41abdd7241c9bea069b60755f5d9",
       "version_major": 2,
       "version_minor": 0
      },
      "text/plain": [
       "HBox(children=(FloatProgress(value=1.0, bar_style='info', max=1.0), HTML(value='')))"
      ]
     },
     "metadata": {},
     "output_type": "display_data"
    },
    {
     "name": "stdout",
     "output_type": "stream",
     "text": [
      "\n",
      "Total Mesh subtraction time = 0.3066\n"
     ]
    },
    {
     "data": {
      "application/vnd.jupyter.widget-view+json": {
       "model_id": "25463ddfd18f4848b32126ee0a646d98",
       "version_major": 2,
       "version_minor": 0
      },
      "text/plain": [
       "HBox(children=(FloatProgress(value=0.0, max=12.0), HTML(value='')))"
      ]
     },
     "metadata": {},
     "output_type": "display_data"
    },
    {
     "name": "stdout",
     "output_type": "stream",
     "text": [
      "\n",
      "len_subgraphs AT BEGINNING of the loop\n"
     ]
    },
    {
     "data": {
      "application/vnd.jupyter.widget-view+json": {
       "model_id": "1ef27b7433624672820973ef4b4d3111",
       "version_major": 2,
       "version_minor": 0
      },
      "text/plain": [
       "HBox(children=(FloatProgress(value=0.0, max=32.0), HTML(value='')))"
      ]
     },
     "metadata": {},
     "output_type": "display_data"
    },
    {
     "name": "stdout",
     "output_type": "stream",
     "text": [
      "all graph is one component!\n",
      "Total time for skeleton stitching = 0.05521082878112793\n",
      "The process was using a temp folder\n",
      "\n",
      "Using Distance measure skeletal_distance\n"
     ]
    },
    {
     "data": {
      "application/vnd.jupyter.widget-view+json": {
       "model_id": "68667baf769f4d78a42b3bdf956413ba",
       "version_major": 2,
       "version_minor": 0
      },
      "text/plain": [
       "HBox(children=(FloatProgress(value=0.0, max=15.0), HTML(value='')))"
      ]
     },
     "metadata": {},
     "output_type": "display_data"
    },
    {
     "name": "stdout",
     "output_type": "stream",
     "text": [
      "    Total time for skeleton and cleaning of branch 3: 0.061783552169799805\n",
      "Total time for skeletonization = 162.70804023742676\n"
     ]
    }
   ],
   "source": [
    "sk = reload(sk)\n",
    "xu = reload(xu)\n",
    "\n",
    "import time\n",
    "global_start_time = time.time()\n",
    "\n",
    "for j,(soma_containing_mesh_idx,mesh_data) in enumerate(soma_touching_mesh_data.items()):\n",
    "    print(f\"\\n-- Working on Soma Continaing Mesh {j}--\")\n",
    "    current_branches = mesh_data[\"branch_meshes\"]\n",
    "    \n",
    "    #skeletonize each of the branches\n",
    "    total_skeletons = []\n",
    "    \n",
    "    for z,branch in enumerate(current_branches):\n",
    "        print(f\"\\n    -- Working on branch {z}--\")\n",
    "        curren_skeleton = sk.skeletonize_connected_branch(branch)\n",
    "        #clean the skeleton\n",
    "            # --------  Doing the cleaning ------- #\n",
    "        clean_time = time.time()\n",
    "        filter_end_node_length=5000,\n",
    "        new_cleaned_skeleton = sk.clean_skeleton(curren_skeleton,\n",
    "                                distance_func=sk.skeletal_distance,\n",
    "                          min_distance_to_junction=filter_end_node_length,\n",
    "                          return_skeleton=True,\n",
    "                          print_flag=False)\n",
    "        print(f\"    Total time for skeleton and cleaning of branch {z}: {time.time() - clean_time}\")\n",
    "        if len(new_cleaned_skeleton) == 0:\n",
    "            raise Exception(f\"Found a zero length skeleton for limb {z} of trmesh {branch}\")\n",
    "        total_skeletons.append(new_cleaned_skeleton)\n",
    "    \n",
    "    soma_touching_mesh_data[j][\"branch_skeletons\"] = total_skeletons\n",
    "    \n",
    "print(f\"Total time for skeletonization = {time.time() - global_start_time}\")"
   ]
  },
  {
   "cell_type": "code",
   "execution_count": 13,
   "metadata": {},
   "outputs": [
    {
     "name": "stdout",
     "output_type": "stream",
     "text": [
      "hello\n"
     ]
    }
   ],
   "source": [
    "# save off the data and rename it for use in phase 2\n",
    "# Save our current\n",
    "print(\"hello\")\n",
    "saved_file = f\"./soma_mesh_data/soma_touching_mesh_data_{segment_id}.npz\"\n",
    "np.savez(saved_file,soma_touching_mesh_data=soma_touching_mesh_data)\n",
    "current_mesh_data = soma_touching_mesh_data"
   ]
  },
  {
   "cell_type": "markdown",
   "metadata": {},
   "source": [
    "# Lets have an alert if there was more than one soma disconnected meshes"
   ]
  },
  {
   "cell_type": "code",
   "execution_count": 14,
   "metadata": {},
   "outputs": [],
   "source": [
    "if len(soma_touching_mesh_data.keys()) > 1:\n",
    "    raise Exception(\"More than 1 disconnected meshes that contain somas\")"
   ]
  },
  {
   "cell_type": "markdown",
   "metadata": {},
   "source": [
    "# ******* Phase 2 ********"
   ]
  },
  {
   "cell_type": "markdown",
   "metadata": {},
   "source": [
    "# Importing and visualizing the preprocessed data (for sped up testing)"
   ]
  },
  {
   "cell_type": "code",
   "execution_count": 15,
   "metadata": {},
   "outputs": [],
   "source": [
    "# saved_file = \"../../Platinum_Compartment/soma_touching_mesh_data.npz\"\n",
    "saved_file = f\"./soma_mesh_data/soma_touching_mesh_data_{segment_id}.npz\"\n",
    "current_mesh_data = nu.load_dict(saved_file)"
   ]
  },
  {
   "cell_type": "code",
   "execution_count": 16,
   "metadata": {},
   "outputs": [
    {
     "name": "stdout",
     "output_type": "stream",
     "text": [
      "\n"
     ]
    },
    {
     "data": {
      "application/vnd.jupyter.widget-view+json": {
       "model_id": "76b351e2784149c8b66e06fc69274629",
       "version_major": 2,
       "version_minor": 0
      },
      "text/plain": [
       "VBox(children=(Figure(camera=PerspectiveCamera(fov=46.0, position=(0.0, 0.0, 2.0), quaternion=(0.0, 0.0, 0.0, …"
      ]
     },
     "metadata": {},
     "output_type": "display_data"
    }
   ],
   "source": [
    "# visualizing the original neuron\n",
    "current_neuron = trimesh.load_mesh(current_mesh_file)\n",
    "sk.graph_skeleton_and_mesh(main_mesh_verts=current_neuron.vertices,\n",
    "                          main_mesh_faces=current_neuron.faces,\n",
    "                           main_mesh_color = [0.,1.,0.,0.8]\n",
    "                          )"
   ]
  },
  {
   "cell_type": "code",
   "execution_count": 17,
   "metadata": {},
   "outputs": [
    {
     "data": {
      "application/vnd.jupyter.widget-view+json": {
       "model_id": "f2456cdfea4d4dd5947da14a68988041",
       "version_major": 2,
       "version_minor": 0
      },
      "text/plain": [
       "VBox(children=(Figure(camera=PerspectiveCamera(fov=46.0, position=(0.0, 0.0, 2.0), quaternion=(0.0, 0.0, 0.0, …"
      ]
     },
     "metadata": {},
     "output_type": "display_data"
    }
   ],
   "source": [
    "# visualizing the somas that were extracted\n",
    "soma_meshes = tu.combine_meshes(current_mesh_data[0][\"soma_meshes\"])\n",
    "sk.graph_skeleton_and_mesh(main_mesh_verts=soma_meshes.vertices,\n",
    "                          main_mesh_faces=soma_meshes.faces,\n",
    "                           main_mesh_color = [0.,1.,0.,0.8]\n",
    "                          )"
   ]
  },
  {
   "cell_type": "code",
   "execution_count": 18,
   "metadata": {},
   "outputs": [],
   "source": [
    "# # Visualize the extracted branches\n",
    "# # visualize all of the branches and the meshes\n",
    "# sk.graph_skeleton_and_mesh(other_meshes=list(current_mesh_data[0][\"branch_meshes\"]) + list(current_mesh_data[0][\"soma_meshes\"]),\n",
    "#                           other_meshes_colors=\"random\",\n",
    "#                            other_skeletons = current_mesh_data[0][\"branch_skeletons\"],\n",
    "#                           other_skeletons_colors=\"random\")"
   ]
  },
  {
   "cell_type": "markdown",
   "metadata": {},
   "source": [
    "# Cleaning each limb through distance and decomposition, checking that all cleaned branches are connected components and then visualizing"
   ]
  },
  {
   "cell_type": "code",
   "execution_count": 19,
   "metadata": {
    "scrolled": true
   },
   "outputs": [
    {
     "name": "stdout",
     "output_type": "stream",
     "text": [
      "\n",
      "---- Working on Limb 0 ----\n",
      "before cleaning limb size of skeleton = (3099, 2, 3)\n",
      "Using Distance measure skeletal_distance\n",
      "no small end nodes to get rid of so returning whole skeleton\n",
      "after DISTANCE cleaning limb size of skeleton = (3099, 2, 3)\n",
      "After DECOMPOSITION cleaning limb size of skeleton = (3099, 2, 3)\n",
      "Total time = 1.945723295211792\n",
      "\n",
      "---- Working on Limb 1 ----\n",
      "before cleaning limb size of skeleton = (1439, 2, 3)\n",
      "Using Distance measure skeletal_distance\n",
      "no small end nodes to get rid of so returning whole skeleton\n",
      "after DISTANCE cleaning limb size of skeleton = (1439, 2, 3)\n",
      "After DECOMPOSITION cleaning limb size of skeleton = (1439, 2, 3)\n",
      "Total time = 0.6343886852264404\n",
      "\n",
      "---- Working on Limb 2 ----\n",
      "before cleaning limb size of skeleton = (1388, 2, 3)\n",
      "Using Distance measure skeletal_distance\n",
      "no small end nodes to get rid of so returning whole skeleton\n",
      "after DISTANCE cleaning limb size of skeleton = (1388, 2, 3)\n",
      "After DECOMPOSITION cleaning limb size of skeleton = (1388, 2, 3)\n",
      "Total time = 0.6047842502593994\n",
      "\n",
      "---- Working on Limb 3 ----\n",
      "before cleaning limb size of skeleton = (154, 2, 3)\n",
      "Using Distance measure skeletal_distance\n",
      "no small end nodes to get rid of so returning whole skeleton\n",
      "after DISTANCE cleaning limb size of skeleton = (154, 2, 3)\n",
      "high-degree endpoints were connected so just using that connection\n",
      "curr_branch = {1, 2.0, 3.0}\n",
      "After DECOMPOSITION cleaning limb size of skeleton = (150, 2, 3)\n",
      "Total time = 0.06416153907775879\n"
     ]
    }
   ],
   "source": [
    "skelton_cleaning_threshold = 4001\n",
    "total_cleaned = []\n",
    "for j,curr_skeleton_to_clean in enumerate(current_mesh_data[0][\"branch_skeletons\"]):\n",
    "    print(f\"\\n---- Working on Limb {j} ----\")\n",
    "    start_time = time.time()\n",
    "    print(f\"before cleaning limb size of skeleton = {curr_skeleton_to_clean.shape}\")\n",
    "    distance_cleaned_skeleton = sk.clean_skeleton(\n",
    "                                                curr_skeleton_to_clean,\n",
    "                                                distance_func=sk.skeletal_distance,\n",
    "                                                min_distance_to_junction = skelton_cleaning_threshold,\n",
    "                                                return_skeleton=True,\n",
    "                                                print_flag=False) \n",
    "    #make sure still connected componet\n",
    "    distance_cleaned_skeleton_components = nx.number_connected_components(sk.convert_skeleton_to_graph(distance_cleaned_skeleton))\n",
    "    if distance_cleaned_skeleton_components > 1:\n",
    "        raise Exception(f\"distance_cleaned_skeleton {j} was not a single component: it was actually {distance_cleaned_skeleton_components} components\")\n",
    "        \n",
    "    print(f\"after DISTANCE cleaning limb size of skeleton = {distance_cleaned_skeleton.shape}\")\n",
    "    cleaned_branch = sk.clean_skeleton_with_decompose(distance_cleaned_skeleton)\n",
    "    \n",
    "    cleaned_branch_components = nx.number_connected_components(sk.convert_skeleton_to_graph(cleaned_branch))\n",
    "    if cleaned_branch_components > 1:\n",
    "        raise Exception(f\"cleaned_branch {j} was not a single component: it was actually {cleaned_branch_components} components\")\n",
    "    \n",
    "    #do the cleanin ghtat removes loops from branches\n",
    "    print(f\"After DECOMPOSITION cleaning limb size of skeleton = {cleaned_branch.shape}\")\n",
    "    print(f\"Total time = {time.time() - start_time}\")\n",
    "    total_cleaned.append(cleaned_branch)\n",
    "    \n",
    "current_mesh_data[0][\"branch_skeletons_cleaned\"] = total_cleaned"
   ]
  },
  {
   "cell_type": "code",
   "execution_count": 20,
   "metadata": {},
   "outputs": [],
   "source": [
    "# checking all cleaned branches are connected components\n",
    "\n",
    "for k,cl_sk in enumerate(current_mesh_data[0][\"branch_skeletons\"]): \n",
    "    n_components = nx.number_connected_components(sk.convert_skeleton_to_graph(cl_sk)) \n",
    "    if n_components > 1:\n",
    "        raise Exception(f\"Original limb {k} was not a single component: it was actually {n_components} components\")\n",
    "    \n",
    "for k,cl_sk in enumerate(current_mesh_data[0][\"branch_skeletons_cleaned\"]): \n",
    "    n_components = nx.number_connected_components(sk.convert_skeleton_to_graph(cl_sk)) \n",
    "    if n_components > 1:\n",
    "        raise Exception(f\"Cleaned limb {k} was not a single component: it was actually {n_components} components\")"
   ]
  },
  {
   "cell_type": "code",
   "execution_count": 21,
   "metadata": {},
   "outputs": [
    {
     "data": {
      "application/vnd.jupyter.widget-view+json": {
       "model_id": "94c2a94e967749748b4f3d2665d0fce1",
       "version_major": 2,
       "version_minor": 0
      },
      "text/plain": [
       "VBox(children=(Figure(camera=PerspectiveCamera(fov=46.0, position=(0.0, 0.0, 2.0), quaternion=(0.0, 0.0, 0.0, …"
      ]
     },
     "metadata": {},
     "output_type": "display_data"
    }
   ],
   "source": [
    "# visualize all of the branches and the meshes\n",
    "sk.graph_skeleton_and_mesh(other_meshes=list(current_mesh_data[0][\"branch_meshes\"]) + list(current_mesh_data[0][\"soma_meshes\"]),\n",
    "                          other_meshes_colors=\"random\",\n",
    "                           other_skeletons = current_mesh_data[0][\"branch_skeletons_cleaned\"],\n",
    "                          other_skeletons_colors=\"random\",\n",
    "                          mesh_alpha=0.15)"
   ]
  },
  {
   "cell_type": "markdown",
   "metadata": {},
   "source": [
    "# Decomposing of limbs into branches and finding mesh correspondence (using adaptive mesh correspondence followed by a water fill for conflict and empty faces), checking that it went well with no empty meshes and all connected component graph when constructed from branches, plus visualization at end"
   ]
  },
  {
   "cell_type": "code",
   "execution_count": 22,
   "metadata": {
    "scrolled": true
   },
   "outputs": [
    {
     "name": "stdout",
     "output_type": "stream",
     "text": [
      "Working on limb #0\n"
     ]
    },
    {
     "data": {
      "application/vnd.jupyter.widget-view+json": {
       "model_id": "7a6e914e9185452eb3735a093a293a94",
       "version_major": 2,
       "version_minor": 0
      },
      "text/plain": [
       "HBox(children=(FloatProgress(value=1.0, bar_style='info', max=1.0), HTML(value='')))"
      ]
     },
     "metadata": {},
     "output_type": "display_data"
    },
    {
     "data": {
      "application/vnd.jupyter.widget-view+json": {
       "model_id": "9083e1051b1d4b8c9f4e5895852721eb",
       "version_major": 2,
       "version_minor": 0
      },
      "text/plain": [
       "HBox(children=(FloatProgress(value=1.0, bar_style='info', max=1.0), HTML(value='')))"
      ]
     },
     "metadata": {},
     "output_type": "display_data"
    },
    {
     "name": "stdout",
     "output_type": "stream",
     "text": [
      "--> Not exactly one containing mesh: []\n",
      "\n",
      "filtered_measurements = [306.18435996 164.22597655 320.93684659 185.87849631 217.94330252\n",
      " 251.00499048 262.25326051 296.86120903 257.11532315 144.65189333\n",
      " 128.82100806 104.68459826 158.87720196 318.90974933 266.58070655\n",
      " 118.5231398  146.41572193 319.43353738 317.42565882 266.98595163\n",
      " 390.08884696 196.05186124 185.90565911 197.4488117  255.15040715\n",
      " 291.52137985 260.25805147 270.84939026 250.44665622 309.31147766\n",
      " 237.95821117 205.27048126 238.88457181 288.94043997 307.73504073\n",
      " 265.08063211 310.24675726 285.62741771 313.42043387 256.89512763\n",
      " 243.98617422 250.51216791 258.26886148 290.82657715 190.10023584\n",
      " 406.82606503 329.01228185 235.992931   260.93733799 225.77334366\n",
      " 161.99115345 185.95295585 231.74739996 258.63388838 210.02627189\n",
      " 313.22634487 322.43607762 324.47299944 246.30920012 218.13108486\n",
      " 298.84847971 311.7848004  257.62907546 242.97475281 257.21430447\n",
      " 320.93611786 229.10587453 208.23192555 270.02911594 341.90279253\n",
      " 209.43299964 169.7735189  250.29183058 405.77130312 294.54719217\n",
      " 257.89656249 239.97369503 211.25825713 263.02232489 242.78150736\n",
      " 212.29021816 264.83535335 312.79219519 191.58932379 170.06238737\n",
      " 179.77570244 233.0452548  329.44193252 245.05243034 197.28253989\n",
      " 214.84165844 283.70612534 206.7617142  195.90283837 196.86626666\n",
      " 191.07294911 275.6764486  286.79586329 331.26632685 318.02809914\n",
      " 263.06340594 175.53363047 176.07205054 245.31651607 195.88063799\n",
      " 213.74981407 196.21622005 254.67591547 377.37578086 217.98581133\n",
      " 220.00841572 244.96050486 258.65795053 210.49818494 238.95099579\n",
      " 361.8861012  355.44530345 314.23677309 248.76322379 231.02654578\n",
      " 252.21801833 396.82302951 287.42647498 280.20891094 213.17451568\n",
      " 387.00930321 274.98959993 184.58868241 213.52913852 197.81840914\n",
      " 220.74473553 232.33183785 407.86147367 265.41214361 217.76721529\n",
      " 289.46606768 211.6143532  224.40718007 360.40994545 335.43494086\n",
      " 389.85695779 186.31590657 327.34001159 243.22675211 301.31058664\n",
      " 322.08238012 406.86758614 278.45344662 267.6767506  267.73194367\n",
      " 206.51320998 222.71051507 249.46369127 402.99352485 407.58321794\n",
      " 358.79828866 276.98131075 400.04100207 339.91116569 293.18667077\n",
      " 171.58528958 259.35516342 394.58917053 298.2209747  359.84412646\n",
      " 296.91515276 252.78975186 205.19988127 320.90655245 307.21506401\n",
      " 287.03142897 321.59998517 350.49145788 385.6164459  258.88014865\n",
      " 353.93718885 326.44875016 311.52675964 288.29506421]\n",
      "new_threshold = 985.1952694726017\n"
     ]
    },
    {
     "data": {
      "application/vnd.jupyter.widget-view+json": {
       "model_id": "40e5bb7ee4c34a278c2f48fe16b62a4c",
       "version_major": 2,
       "version_minor": 0
      },
      "text/plain": [
       "HBox(children=(FloatProgress(value=1.0, bar_style='info', max=1.0), HTML(value='')))"
      ]
     },
     "metadata": {},
     "output_type": "display_data"
    },
    {
     "name": "stdout",
     "output_type": "stream",
     "text": [
      "--> Not exactly one containing mesh: []\n",
      "\n"
     ]
    },
    {
     "data": {
      "application/vnd.jupyter.widget-view+json": {
       "model_id": "e74741e4c201478692255fbf83f2e271",
       "version_major": 2,
       "version_minor": 0
      },
      "text/plain": [
       "HBox(children=(FloatProgress(value=1.0, bar_style='info', max=1.0), HTML(value='')))"
      ]
     },
     "metadata": {},
     "output_type": "display_data"
    },
    {
     "name": "stdout",
     "output_type": "stream",
     "text": [
      "\n",
      "filtered_measurements = [188.24206233 194.04254988 168.72931602 224.18061184 259.43832192\n",
      " 263.10473162 202.28895849 143.53594302 170.25516255 315.98872958\n",
      " 289.60127234 287.95423867 347.52230351 156.52103479 257.85869915\n",
      " 254.62103835 200.74995267 183.09933382 227.07056466 236.03656644\n",
      " 249.02021478 243.20407612 247.49998633 191.09856609 226.33506707\n",
      " 244.60434127 243.01690994 233.39976856 188.67797426 185.40058927\n",
      " 279.65156499 271.34969466 229.28025803]\n",
      "new_threshold = 686.3735147248935\n"
     ]
    },
    {
     "data": {
      "application/vnd.jupyter.widget-view+json": {
       "model_id": "a71eb5d161c94e39a282db729bfb939f",
       "version_major": 2,
       "version_minor": 0
      },
      "text/plain": [
       "HBox(children=(FloatProgress(value=1.0, bar_style='info', max=1.0), HTML(value='')))"
      ]
     },
     "metadata": {},
     "output_type": "display_data"
    },
    {
     "name": "stdout",
     "output_type": "stream",
     "text": [
      "\n"
     ]
    },
    {
     "data": {
      "application/vnd.jupyter.widget-view+json": {
       "model_id": "108c89b114fb46e7b67878e194241ad4",
       "version_major": 2,
       "version_minor": 0
      },
      "text/plain": [
       "HBox(children=(FloatProgress(value=1.0, bar_style='info', max=1.0), HTML(value='')))"
      ]
     },
     "metadata": {},
     "output_type": "display_data"
    },
    {
     "name": "stdout",
     "output_type": "stream",
     "text": [
      "--> Not exactly one containing mesh: []\n",
      "--> Not exactly one containing mesh: []\n",
      "--> Not exactly one containing mesh: []\n",
      "\n",
      "filtered_measurements = [227.9019619  234.02996061 236.10258903 118.41187423 239.53486684\n",
      " 328.51210815 371.65097685 114.6544457  212.84161617 325.39932111\n",
      " 278.79966763 188.58486265 168.16394579 243.16202505 379.30854423\n",
      " 388.12690728 195.07475336 398.14477072 411.02481122 334.21131021\n",
      " 217.91408987 353.96940653 303.80581443 308.50495721 200.51783228\n",
      " 177.23634351 288.25089305 208.46927173 227.28790817 212.51340425\n",
      " 360.09373446 205.46495094 147.26588244 202.63817977 192.82398399\n",
      " 412.39582119 297.69231932 266.93792371 260.51391928 256.81160681\n",
      " 203.77616072 267.80593605 173.2028088  295.44274228 280.51603002\n",
      " 229.91487459 291.80895861 175.9126138  193.46682152 260.84903507\n",
      " 387.60034841 191.95244011 206.13701271 214.21177598 250.32603976\n",
      " 179.05307739 164.48143883 316.01512733 365.85122317 194.42829172\n",
      " 323.7763082  326.15883955 241.96123827 302.41841912 302.51231302\n",
      " 399.04937739 232.38108893 291.69378334 219.03682548 256.58564726\n",
      " 236.69557215 219.71225434 212.02039934 189.82929226 282.80697142\n",
      " 287.57835353 299.97351787 381.59977647 261.39352759 223.75976292]\n",
      "new_threshold = 930.4696634340066\n"
     ]
    },
    {
     "data": {
      "application/vnd.jupyter.widget-view+json": {
       "model_id": "abcd145fe91d4bd28643e5916f2be5cc",
       "version_major": 2,
       "version_minor": 0
      },
      "text/plain": [
       "HBox(children=(FloatProgress(value=1.0, bar_style='info', max=1.0), HTML(value='')))"
      ]
     },
     "metadata": {},
     "output_type": "display_data"
    },
    {
     "name": "stdout",
     "output_type": "stream",
     "text": [
      "--> Not exactly one containing mesh: []\n",
      "--> Not exactly one containing mesh: []\n",
      "--> Not exactly one containing mesh: []\n",
      "\n"
     ]
    },
    {
     "data": {
      "application/vnd.jupyter.widget-view+json": {
       "model_id": "1a28b319276140b59e9a0c392c5bf834",
       "version_major": 2,
       "version_minor": 0
      },
      "text/plain": [
       "HBox(children=(FloatProgress(value=1.0, bar_style='info', max=1.0), HTML(value='')))"
      ]
     },
     "metadata": {},
     "output_type": "display_data"
    },
    {
     "name": "stdout",
     "output_type": "stream",
     "text": [
      "\n",
      "filtered_measurements = [478.27600523 431.78436967 365.71242793 453.35487131 643.66521778\n",
      " 327.52530361 474.44108703 385.93262019 312.49478088 327.06614887]\n",
      "new_threshold = 1491.1891486225632\n"
     ]
    },
    {
     "data": {
      "application/vnd.jupyter.widget-view+json": {
       "model_id": "3ea7fb9a649147f4b84003924442f7fd",
       "version_major": 2,
       "version_minor": 0
      },
      "text/plain": [
       "HBox(children=(FloatProgress(value=1.0, bar_style='info', max=1.0), HTML(value='')))"
      ]
     },
     "metadata": {},
     "output_type": "display_data"
    },
    {
     "name": "stdout",
     "output_type": "stream",
     "text": [
      "\n"
     ]
    },
    {
     "data": {
      "application/vnd.jupyter.widget-view+json": {
       "model_id": "a64023218a41459cb90645dca4600d41",
       "version_major": 2,
       "version_minor": 0
      },
      "text/plain": [
       "HBox(children=(FloatProgress(value=1.0, bar_style='info', max=1.0), HTML(value='')))"
      ]
     },
     "metadata": {},
     "output_type": "display_data"
    },
    {
     "name": "stdout",
     "output_type": "stream",
     "text": [
      "\n",
      "filtered_measurements = [537.55378647 304.42056418 321.17403102 387.00037611 415.49036725\n",
      " 473.0203327  395.74156203 308.96508197 330.90938835 417.42982008\n",
      " 505.22037506 536.96086903 334.78953683 527.64042343 525.57393645\n",
      " 298.76187914 314.81964781 306.87120896 345.90581191 359.92335747\n",
      " 358.54097328 392.63932715 306.08878448 352.33578285 339.60664663\n",
      " 295.96283255 351.73523027 292.32375627 314.61592258 325.56997643\n",
      " 288.07156852 252.25364262 366.66913589 316.29009898 291.78858276\n",
      " 339.75666824 303.3363786  336.28208746 359.96089237 487.79207553\n",
      " 243.56982664 410.63839054]\n",
      "new_threshold = 1389.499990944562\n"
     ]
    },
    {
     "data": {
      "application/vnd.jupyter.widget-view+json": {
       "model_id": "4aea69c8123b4ec288811dbd5e9b926b",
       "version_major": 2,
       "version_minor": 0
      },
      "text/plain": [
       "HBox(children=(FloatProgress(value=1.0, bar_style='info', max=1.0), HTML(value='')))"
      ]
     },
     "metadata": {},
     "output_type": "display_data"
    },
    {
     "name": "stdout",
     "output_type": "stream",
     "text": [
      "\n"
     ]
    },
    {
     "data": {
      "application/vnd.jupyter.widget-view+json": {
       "model_id": "1267e52fe3f1491eb75cb0a9d58b5ae4",
       "version_major": 2,
       "version_minor": 0
      },
      "text/plain": [
       "HBox(children=(FloatProgress(value=1.0, bar_style='info', max=1.0), HTML(value='')))"
      ]
     },
     "metadata": {},
     "output_type": "display_data"
    },
    {
     "name": "stdout",
     "output_type": "stream",
     "text": [
      "--> Not exactly one containing mesh: []\n",
      "\n",
      "filtered_measurements = [ 56.04213087 115.26905451  85.66952679  89.86783586  70.74818833\n",
      " 103.94891267 135.88743816]\n",
      "new_threshold = 253.59355228100816\n"
     ]
    },
    {
     "data": {
      "application/vnd.jupyter.widget-view+json": {
       "model_id": "62d4d649d38746c8a73fe52e99a5df4a",
       "version_major": 2,
       "version_minor": 0
      },
      "text/plain": [
       "HBox(children=(FloatProgress(value=1.0, bar_style='info', max=1.0), HTML(value='')))"
      ]
     },
     "metadata": {},
     "output_type": "display_data"
    },
    {
     "name": "stdout",
     "output_type": "stream",
     "text": [
      "--> Not exactly one containing mesh: []\n",
      "--> Not exactly one containing mesh: []\n",
      "\n",
      "branch_touching_number = [11]\n",
      "branch_touching_number = [11, 1]\n",
      "most_branch_containing_piece = 0\n"
     ]
    },
    {
     "data": {
      "application/vnd.jupyter.widget-view+json": {
       "model_id": "3196f91a2df24b3f8bd28d255b33e9c2",
       "version_major": 2,
       "version_minor": 0
      },
      "text/plain": [
       "HBox(children=(FloatProgress(value=1.0, bar_style='info', max=1.0), HTML(value='')))"
      ]
     },
     "metadata": {},
     "output_type": "display_data"
    },
    {
     "name": "stdout",
     "output_type": "stream",
     "text": [
      "\n",
      "filtered_measurements = [295.68591133 316.78240193 302.62600142 299.1724448  448.0988641\n",
      " 299.57834922 375.44576519 466.23354283 426.34572074 275.44647517\n",
      " 321.62563838 321.80165967 413.02196859 334.92170057 300.64884274\n",
      " 330.04993665 318.49369468 322.75574205 277.44817583 270.52889133\n",
      " 237.63228995 281.7573398  320.03712873 282.21145615 272.77994288\n",
      " 414.40746336 326.03860298]\n",
      "new_threshold = 1028.475389104331\n"
     ]
    },
    {
     "data": {
      "application/vnd.jupyter.widget-view+json": {
       "model_id": "eda8d1d6e8de4a269cb2f8c82c5e1268",
       "version_major": 2,
       "version_minor": 0
      },
      "text/plain": [
       "HBox(children=(FloatProgress(value=1.0, bar_style='info', max=1.0), HTML(value='')))"
      ]
     },
     "metadata": {},
     "output_type": "display_data"
    },
    {
     "name": "stdout",
     "output_type": "stream",
     "text": [
      "\n"
     ]
    },
    {
     "data": {
      "application/vnd.jupyter.widget-view+json": {
       "model_id": "f4c668f2693c49d3a88ca19e0e8477be",
       "version_major": 2,
       "version_minor": 0
      },
      "text/plain": [
       "HBox(children=(FloatProgress(value=1.0, bar_style='info', max=1.0), HTML(value='')))"
      ]
     },
     "metadata": {},
     "output_type": "display_data"
    },
    {
     "name": "stdout",
     "output_type": "stream",
     "text": [
      "--> Not exactly one containing mesh: []\n",
      "--> Not exactly one containing mesh: []\n",
      "\n",
      "filtered_measurements = [153.44806824 129.88816552  78.79380648]\n",
      "new_threshold = 350.99487482504236\n"
     ]
    },
    {
     "data": {
      "application/vnd.jupyter.widget-view+json": {
       "model_id": "e3e9b715fe764a0e9fbef46829deb761",
       "version_major": 2,
       "version_minor": 0
      },
      "text/plain": [
       "HBox(children=(FloatProgress(value=1.0, bar_style='info', max=1.0), HTML(value='')))"
      ]
     },
     "metadata": {},
     "output_type": "display_data"
    },
    {
     "name": "stdout",
     "output_type": "stream",
     "text": [
      "--> Not exactly one containing mesh: []\n",
      "--> Not exactly one containing mesh: []\n",
      "--> Not exactly one containing mesh: []\n",
      "\n",
      "branch_touching_number = [6]\n",
      "branch_touching_number = [6, 2]\n",
      "most_branch_containing_piece = 0\n"
     ]
    },
    {
     "data": {
      "application/vnd.jupyter.widget-view+json": {
       "model_id": "91590acf9a3a47a6a2d6871594b9c2f2",
       "version_major": 2,
       "version_minor": 0
      },
      "text/plain": [
       "HBox(children=(FloatProgress(value=1.0, bar_style='info', max=1.0), HTML(value='')))"
      ]
     },
     "metadata": {},
     "output_type": "display_data"
    },
    {
     "name": "stdout",
     "output_type": "stream",
     "text": [
      "\n",
      "filtered_measurements = [371.73098558 261.42606552 199.08866765 367.38601302 379.77271362\n",
      " 328.64633433 271.69620838 241.25406446 248.81682415 249.29918835\n",
      " 285.37107184 405.64551819 482.0217752  352.11057335 316.47491416\n",
      " 403.15608222 227.74230252 313.99952015 330.92499412 373.18187558\n",
      " 318.81176742 190.67832529 251.56829487 274.07914996 323.33845547\n",
      " 209.00272494 272.49319726 296.13226408 432.06954593 322.16507394\n",
      " 237.27074502 366.77065799 460.8594539  406.5556513  427.91277783\n",
      " 307.67985656 318.88953823 320.69816557 287.52717341 210.91630295\n",
      " 334.52496491 243.72505799 207.51869345 338.03101088]\n",
      "new_threshold = 1142.22503644871\n"
     ]
    },
    {
     "data": {
      "application/vnd.jupyter.widget-view+json": {
       "model_id": "9f2547da94874c8b992a19924118e2c2",
       "version_major": 2,
       "version_minor": 0
      },
      "text/plain": [
       "HBox(children=(FloatProgress(value=1.0, bar_style='info', max=1.0), HTML(value='')))"
      ]
     },
     "metadata": {},
     "output_type": "display_data"
    },
    {
     "name": "stdout",
     "output_type": "stream",
     "text": [
      "\n"
     ]
    },
    {
     "data": {
      "application/vnd.jupyter.widget-view+json": {
       "model_id": "475c17c5b1ea4ac5a280a77922135874",
       "version_major": 2,
       "version_minor": 0
      },
      "text/plain": [
       "HBox(children=(FloatProgress(value=1.0, bar_style='info', max=1.0), HTML(value='')))"
      ]
     },
     "metadata": {},
     "output_type": "display_data"
    },
    {
     "name": "stdout",
     "output_type": "stream",
     "text": [
      "\n",
      "filtered_measurements = [631.62913151 518.40332256 489.44569594 290.63971342 304.30464399\n",
      " 306.06778455 371.66402401 439.29088182 360.72610384 347.61552691\n",
      " 393.17869606 652.85975487 460.63728938]\n",
      "new_threshold = 1527.3101362979094\n"
     ]
    },
    {
     "data": {
      "application/vnd.jupyter.widget-view+json": {
       "model_id": "5db59d90a0b54cbeaa1cf670c1b2a56b",
       "version_major": 2,
       "version_minor": 0
      },
      "text/plain": [
       "HBox(children=(FloatProgress(value=1.0, bar_style='info', max=1.0), HTML(value='')))"
      ]
     },
     "metadata": {},
     "output_type": "display_data"
    },
    {
     "name": "stdout",
     "output_type": "stream",
     "text": [
      "\n"
     ]
    },
    {
     "data": {
      "application/vnd.jupyter.widget-view+json": {
       "model_id": "bc7ff687efc246a6914939e11029a031",
       "version_major": 2,
       "version_minor": 0
      },
      "text/plain": [
       "HBox(children=(FloatProgress(value=1.0, bar_style='info', max=1.0), HTML(value='')))"
      ]
     },
     "metadata": {},
     "output_type": "display_data"
    },
    {
     "name": "stdout",
     "output_type": "stream",
     "text": [
      "\n",
      "filtered_measurements = [319.89353559 421.96547583 375.2133132  269.4815759  217.82669072\n",
      " 258.93288094 269.60308911 163.55411057 365.31834945 325.62254213\n",
      " 278.66670962 320.84514654 374.20967804 334.66626692 296.72058015\n",
      " 382.87080418 305.52177333]\n",
      "new_threshold = 1000.1516723110303\n"
     ]
    },
    {
     "data": {
      "application/vnd.jupyter.widget-view+json": {
       "model_id": "b08c26925b8f4155a7363d495b91496e",
       "version_major": 2,
       "version_minor": 0
      },
      "text/plain": [
       "HBox(children=(FloatProgress(value=1.0, bar_style='info', max=1.0), HTML(value='')))"
      ]
     },
     "metadata": {},
     "output_type": "display_data"
    },
    {
     "name": "stdout",
     "output_type": "stream",
     "text": [
      "\n"
     ]
    },
    {
     "data": {
      "application/vnd.jupyter.widget-view+json": {
       "model_id": "a3d19e11c5a041f7b33b8685639eeb24",
       "version_major": 2,
       "version_minor": 0
      },
      "text/plain": [
       "HBox(children=(FloatProgress(value=1.0, bar_style='info', max=1.0), HTML(value='')))"
      ]
     },
     "metadata": {},
     "output_type": "display_data"
    },
    {
     "name": "stdout",
     "output_type": "stream",
     "text": [
      "\n",
      "filtered_measurements = [470.54501849 437.10448182 542.73638628 493.78861682 571.62015705\n",
      " 642.91677276 532.29398616 598.47747141 542.89050146 465.94091144\n",
      " 635.60990588 505.64762117 523.76345023 461.12090227 449.76097032\n",
      " 708.15077748 728.45495617 448.56770449 444.07868277 522.6031957\n",
      " 468.85180424 498.80426975 517.73938608 481.90295131 597.68540192\n",
      " 535.46756646 610.90541691 520.99420625 496.59497518 438.96978102\n",
      " 541.43613725]\n",
      "new_threshold = 1531.152399865135\n"
     ]
    },
    {
     "data": {
      "application/vnd.jupyter.widget-view+json": {
       "model_id": "3ba4204befd54c2e98de24028553bc48",
       "version_major": 2,
       "version_minor": 0
      },
      "text/plain": [
       "HBox(children=(FloatProgress(value=1.0, bar_style='info', max=1.0), HTML(value='')))"
      ]
     },
     "metadata": {},
     "output_type": "display_data"
    },
    {
     "name": "stdout",
     "output_type": "stream",
     "text": [
      "\n"
     ]
    },
    {
     "data": {
      "application/vnd.jupyter.widget-view+json": {
       "model_id": "4f04c543044f40178b30e5c2c4ed281e",
       "version_major": 2,
       "version_minor": 0
      },
      "text/plain": [
       "HBox(children=(FloatProgress(value=1.0, bar_style='info', max=1.0), HTML(value='')))"
      ]
     },
     "metadata": {},
     "output_type": "display_data"
    },
    {
     "name": "stdout",
     "output_type": "stream",
     "text": [
      "--> Not exactly one containing mesh: []\n",
      "\n",
      "filtered_measurements = [285.28526248 535.01078048 360.45713609 310.60725825 306.97026386\n",
      " 507.40203189 292.74344783 286.69155074 376.68315739 340.63270509\n",
      " 426.54406797 492.65115826 272.57908127 359.97963326 361.33270332\n",
      " 296.63684869 321.45662822 353.32312535 303.08484162 345.15930479\n",
      " 474.02634881 408.52113106 241.85419184 348.86924822 420.94573484\n",
      " 230.69962599 400.24083653 414.2203495  357.07260654 285.64602212\n",
      " 227.87032881 358.51903338 354.89427582 443.42727466 204.44370855\n",
      " 390.62543888 340.17306538 489.22930948 280.66654652 285.7356604\n",
      " 255.5110707  307.13745528 428.70724988 223.85398884 460.48290845\n",
      " 473.05118341 436.96894079 380.77925355 350.53591634 229.48640605\n",
      " 286.26696238 305.30611889 350.07537734 344.38112157 304.16161374\n",
      " 229.79932084 335.76049768 363.38990585 265.17480013 327.83540401\n",
      " 327.63640681 291.40537715 170.09748504 232.52190442 380.65292538\n",
      " 292.54008371 442.6029982  244.30537832]\n",
      "new_threshold = 1250.5950118387823\n"
     ]
    },
    {
     "data": {
      "application/vnd.jupyter.widget-view+json": {
       "model_id": "2137b2ff6cb74fc481b39f3994188772",
       "version_major": 2,
       "version_minor": 0
      },
      "text/plain": [
       "HBox(children=(FloatProgress(value=1.0, bar_style='info', max=1.0), HTML(value='')))"
      ]
     },
     "metadata": {},
     "output_type": "display_data"
    },
    {
     "name": "stdout",
     "output_type": "stream",
     "text": [
      "--> Not exactly one containing mesh: []\n",
      "\n"
     ]
    },
    {
     "data": {
      "application/vnd.jupyter.widget-view+json": {
       "model_id": "194dbb4dfa914b90a10097aa9395b0a3",
       "version_major": 2,
       "version_minor": 0
      },
      "text/plain": [
       "HBox(children=(FloatProgress(value=1.0, bar_style='info', max=1.0), HTML(value='')))"
      ]
     },
     "metadata": {},
     "output_type": "display_data"
    },
    {
     "name": "stdout",
     "output_type": "stream",
     "text": [
      "\n",
      "filtered_measurements = [462.02786513 422.1381585  391.7716087  385.14742826 324.48684664\n",
      " 571.22056503 403.1625434  392.09602903 310.46842122 303.41006604]\n",
      "new_threshold = 1313.3229229236506\n"
     ]
    },
    {
     "data": {
      "application/vnd.jupyter.widget-view+json": {
       "model_id": "eea2e4f36d0d41469cabe00e4ecd51de",
       "version_major": 2,
       "version_minor": 0
      },
      "text/plain": [
       "HBox(children=(FloatProgress(value=1.0, bar_style='info', max=1.0), HTML(value='')))"
      ]
     },
     "metadata": {},
     "output_type": "display_data"
    },
    {
     "name": "stdout",
     "output_type": "stream",
     "text": [
      "\n"
     ]
    },
    {
     "data": {
      "application/vnd.jupyter.widget-view+json": {
       "model_id": "d199485f8063421896378c7e186a115b",
       "version_major": 2,
       "version_minor": 0
      },
      "text/plain": [
       "HBox(children=(FloatProgress(value=1.0, bar_style='info', max=1.0), HTML(value='')))"
      ]
     },
     "metadata": {},
     "output_type": "display_data"
    },
    {
     "name": "stdout",
     "output_type": "stream",
     "text": [
      "\n",
      "filtered_measurements = [753.12444956 847.09450735 646.26329513 569.62539574 590.80672523\n",
      " 681.14902331 691.99250182 615.62754306 579.63895504 600.69208447\n",
      " 956.48431593 613.31441558 588.3426425  671.86247665 615.77039022\n",
      " 689.64568547 823.87885967 592.65519864 600.9538851  678.4876162\n",
      " 743.51181489]\n",
      "new_threshold = 2003.042137194276\n"
     ]
    },
    {
     "data": {
      "application/vnd.jupyter.widget-view+json": {
       "model_id": "fbce9f55682549ec987fd8a350c6e15b",
       "version_major": 2,
       "version_minor": 0
      },
      "text/plain": [
       "HBox(children=(FloatProgress(value=1.0, bar_style='info', max=1.0), HTML(value='')))"
      ]
     },
     "metadata": {},
     "output_type": "display_data"
    },
    {
     "name": "stdout",
     "output_type": "stream",
     "text": [
      "\n"
     ]
    },
    {
     "data": {
      "application/vnd.jupyter.widget-view+json": {
       "model_id": "7edebb47b6b3464fb4d8e87fb447d1d2",
       "version_major": 2,
       "version_minor": 0
      },
      "text/plain": [
       "HBox(children=(FloatProgress(value=1.0, bar_style='info', max=1.0), HTML(value='')))"
      ]
     },
     "metadata": {},
     "output_type": "display_data"
    },
    {
     "name": "stdout",
     "output_type": "stream",
     "text": [
      "--> Not exactly one containing mesh: []\n",
      "\n",
      "filtered_measurements = [118.79858217 151.80317972 177.68484806 202.41346492 177.00457553\n",
      " 157.95146163 204.8638017  162.33695055 177.22833033 154.44399662\n",
      " 178.00668046 169.43926972 171.28685882 234.81368328 240.07203788\n",
      " 220.09845355 203.1382239  230.31335981 175.10052691 167.1308246\n",
      " 196.03029679 273.15008212 197.55299581 182.39082676 200.04656129\n",
      " 206.63825179 240.97875904 234.52753149 219.10494305 242.53579857\n",
      " 231.81688182 270.93345188]\n",
      "new_threshold = 439.7487989951137\n"
     ]
    },
    {
     "data": {
      "application/vnd.jupyter.widget-view+json": {
       "model_id": "2eb5140668354207974f30d8b8c8d348",
       "version_major": 2,
       "version_minor": 0
      },
      "text/plain": [
       "HBox(children=(FloatProgress(value=1.0, bar_style='info', max=1.0), HTML(value='')))"
      ]
     },
     "metadata": {},
     "output_type": "display_data"
    },
    {
     "name": "stdout",
     "output_type": "stream",
     "text": [
      "--> Not exactly one containing mesh: []\n",
      "--> Not exactly one containing mesh: []\n",
      "THERE WERE NO FACES THAT FIT THE DISTANCE (439.7487989951137) and Z transform requirements\n",
      "So just skipping this edge\n",
      "\n",
      "branch_touching_number = [39]\n",
      "branch_touching_number = [39, 1]\n",
      "most_branch_containing_piece = 0\n"
     ]
    },
    {
     "data": {
      "application/vnd.jupyter.widget-view+json": {
       "model_id": "2c3f8801310249d3988427a52a0c201a",
       "version_major": 2,
       "version_minor": 0
      },
      "text/plain": [
       "HBox(children=(FloatProgress(value=1.0, bar_style='info', max=1.0), HTML(value='')))"
      ]
     },
     "metadata": {},
     "output_type": "display_data"
    },
    {
     "name": "stdout",
     "output_type": "stream",
     "text": [
      "\n",
      "filtered_measurements = [923.34356874 825.86693861 797.6402868  784.31349167 733.37915966\n",
      " 797.02972347 891.76308714 967.51619607 896.98036135 825.13929505\n",
      " 716.39874228 722.28767852 744.06763021 758.36520548 748.10338884\n",
      " 836.4959066  947.13586825]\n",
      "new_threshold = 1823.6700118755475\n"
     ]
    },
    {
     "data": {
      "application/vnd.jupyter.widget-view+json": {
       "model_id": "bef63f8367db4ffc821ff1ef3a47f9b7",
       "version_major": 2,
       "version_minor": 0
      },
      "text/plain": [
       "HBox(children=(FloatProgress(value=1.0, bar_style='info', max=1.0), HTML(value='')))"
      ]
     },
     "metadata": {},
     "output_type": "display_data"
    },
    {
     "name": "stdout",
     "output_type": "stream",
     "text": [
      "\n"
     ]
    },
    {
     "data": {
      "application/vnd.jupyter.widget-view+json": {
       "model_id": "c91b2cd3ee9547ff9d4ee5acaf0035c1",
       "version_major": 2,
       "version_minor": 0
      },
      "text/plain": [
       "HBox(children=(FloatProgress(value=1.0, bar_style='info', max=1.0), HTML(value='')))"
      ]
     },
     "metadata": {},
     "output_type": "display_data"
    },
    {
     "name": "stdout",
     "output_type": "stream",
     "text": [
      "--> Not exactly one containing mesh: []\n",
      "--> Not exactly one containing mesh: []\n",
      "\n",
      "filtered_measurements = [ 989.03268215  969.55649823  920.3148379   960.36204457  980.78185085\n",
      "  959.36270596  923.69804294  900.83814247 1043.91797376 1086.54656034\n",
      " 1157.64000518 1185.18328472 1389.27351481 1561.75972641 1341.96528468\n",
      "  380.81150863]\n",
      "new_threshold = 3221.2454842668412\n"
     ]
    },
    {
     "data": {
      "application/vnd.jupyter.widget-view+json": {
       "model_id": "a1499fa8827446c9bea9e654a5be684a",
       "version_major": 2,
       "version_minor": 0
      },
      "text/plain": [
       "HBox(children=(FloatProgress(value=1.0, bar_style='info', max=1.0), HTML(value='')))"
      ]
     },
     "metadata": {},
     "output_type": "display_data"
    },
    {
     "name": "stdout",
     "output_type": "stream",
     "text": [
      "--> Not exactly one containing mesh: []\n",
      "--> Not exactly one containing mesh: []\n",
      "\n"
     ]
    },
    {
     "data": {
      "application/vnd.jupyter.widget-view+json": {
       "model_id": "26a17a1fd4524669945dda65bf8637de",
       "version_major": 2,
       "version_minor": 0
      },
      "text/plain": [
       "HBox(children=(FloatProgress(value=1.0, bar_style='info', max=1.0), HTML(value='')))"
      ]
     },
     "metadata": {},
     "output_type": "display_data"
    },
    {
     "name": "stdout",
     "output_type": "stream",
     "text": [
      "\n",
      "filtered_measurements = [478.90893194 276.02888451 448.41633968 505.1340265  318.33747414\n",
      " 359.83270644 430.92605628 529.53864173 411.73358057 449.20201367\n",
      " 411.98618621 401.59046104 404.01943484 422.78189869 339.12893215\n",
      " 365.43100296 508.67824127 296.02437362 435.9921312  441.68043841\n",
      " 367.19100586 401.08640773 349.90316737 365.33616376 493.64673322\n",
      " 453.2284214  498.4489544  494.74053604 354.77906446 305.61955385\n",
      " 479.83919869 461.84914976 497.28962256 438.99474812 332.661474\n",
      " 497.27150861 452.97094651 501.04687006 502.32447202 424.48836525\n",
      " 415.86121088 432.4729135  492.79720065 408.42032755 310.50369538\n",
      " 345.85434391 468.83283317 474.23270302 431.45974335 462.24076097\n",
      " 471.38666703 410.81946064 396.69130467 364.77354133 446.20211585\n",
      " 345.25758553 371.27414038 488.56773304 403.15431417 538.39221532\n",
      " 529.19394774 416.75669743 516.21664132 394.58232041 341.04897531\n",
      " 442.56988088 491.91499964 374.48573868 440.42097977 491.4881829\n",
      " 334.96229403 517.46151649 321.00542838 389.0307364  401.57750208\n",
      " 361.31513145 254.43424743 333.60942033 624.14630939 422.10051514\n",
      " 446.25474705 322.67853392 282.12942208 364.11774088 421.67323524\n",
      " 407.78195549 327.99055097 297.72241909 425.6881033  367.24787986\n",
      " 352.16560697 323.62046153 487.25852483 409.51359041 352.40816612\n",
      " 461.58168047 430.10551412 437.9029761  305.52458828 521.71073953\n",
      " 561.08257915 492.4641649  396.04001257 353.16220055 556.85856235\n",
      " 387.86477192 368.44647793 613.689604   343.16793394 363.61988692\n",
      " 427.72149549 434.23989265 316.0157795  372.68657501 409.55450543\n",
      " 345.65702324 281.3581861  355.16236234 402.39861648 410.80355688\n",
      " 401.96573762 335.07673966 418.87029819 324.50355734 373.11045763\n",
      " 305.66357023]\n",
      "new_threshold = 1461.768467267896\n"
     ]
    },
    {
     "data": {
      "application/vnd.jupyter.widget-view+json": {
       "model_id": "11881ec7970f4dee9bb8dc24c8eb8358",
       "version_major": 2,
       "version_minor": 0
      },
      "text/plain": [
       "HBox(children=(FloatProgress(value=1.0, bar_style='info', max=1.0), HTML(value='')))"
      ]
     },
     "metadata": {},
     "output_type": "display_data"
    },
    {
     "name": "stdout",
     "output_type": "stream",
     "text": [
      "\n"
     ]
    },
    {
     "data": {
      "application/vnd.jupyter.widget-view+json": {
       "model_id": "e4dc608eabae4333813b2622251848f7",
       "version_major": 2,
       "version_minor": 0
      },
      "text/plain": [
       "HBox(children=(FloatProgress(value=1.0, bar_style='info', max=1.0), HTML(value='')))"
      ]
     },
     "metadata": {},
     "output_type": "display_data"
    },
    {
     "name": "stdout",
     "output_type": "stream",
     "text": [
      "\n",
      "filtered_measurements = [110.55282244 218.42180998 160.78601491 194.95437603 273.64524441\n",
      " 200.41677491  99.0475685  221.1215566  176.85809044 219.37288033]\n",
      "new_threshold = 540.1284979839435\n"
     ]
    },
    {
     "data": {
      "application/vnd.jupyter.widget-view+json": {
       "model_id": "d67219efbc124045a99439056bb588e7",
       "version_major": 2,
       "version_minor": 0
      },
      "text/plain": [
       "HBox(children=(FloatProgress(value=1.0, bar_style='info', max=1.0), HTML(value='')))"
      ]
     },
     "metadata": {},
     "output_type": "display_data"
    },
    {
     "name": "stdout",
     "output_type": "stream",
     "text": [
      "\n"
     ]
    },
    {
     "data": {
      "application/vnd.jupyter.widget-view+json": {
       "model_id": "764c9cf9eba3437d913a6e84f26a5dd6",
       "version_major": 2,
       "version_minor": 0
      },
      "text/plain": [
       "HBox(children=(FloatProgress(value=1.0, bar_style='info', max=1.0), HTML(value='')))"
      ]
     },
     "metadata": {},
     "output_type": "display_data"
    },
    {
     "name": "stdout",
     "output_type": "stream",
     "text": [
      "\n",
      "filtered_measurements = [456.3259869  391.10233098 374.27387025 425.83855142 382.07797748\n",
      " 397.80217425 296.68366928 240.0295454  245.47756    515.75642023\n",
      " 307.76987606 265.35730781 302.19832403 280.65054884 454.41643712]\n",
      "new_threshold = 1214.6937923995793\n"
     ]
    },
    {
     "data": {
      "application/vnd.jupyter.widget-view+json": {
       "model_id": "dbeb31b1d4e4420883ac9883bd93ed5b",
       "version_major": 2,
       "version_minor": 0
      },
      "text/plain": [
       "HBox(children=(FloatProgress(value=1.0, bar_style='info', max=1.0), HTML(value='')))"
      ]
     },
     "metadata": {},
     "output_type": "display_data"
    },
    {
     "name": "stdout",
     "output_type": "stream",
     "text": [
      "\n"
     ]
    },
    {
     "data": {
      "application/vnd.jupyter.widget-view+json": {
       "model_id": "b15fe01578944022a89a64dbd74f25bb",
       "version_major": 2,
       "version_minor": 0
      },
      "text/plain": [
       "HBox(children=(FloatProgress(value=1.0, bar_style='info', max=1.0), HTML(value='')))"
      ]
     },
     "metadata": {},
     "output_type": "display_data"
    },
    {
     "name": "stdout",
     "output_type": "stream",
     "text": [
      "--> Not exactly one containing mesh: []\n",
      "\n",
      "filtered_measurements = [137.67971667 167.46370736 131.34431489 144.432163   116.81502006\n",
      " 159.10209497 158.27585742]\n",
      "new_threshold = 432.81925582965084\n"
     ]
    },
    {
     "data": {
      "application/vnd.jupyter.widget-view+json": {
       "model_id": "dad5cc11bc0b44f6bfe132e1b91aea28",
       "version_major": 2,
       "version_minor": 0
      },
      "text/plain": [
       "HBox(children=(FloatProgress(value=1.0, bar_style='info', max=1.0), HTML(value='')))"
      ]
     },
     "metadata": {},
     "output_type": "display_data"
    },
    {
     "name": "stdout",
     "output_type": "stream",
     "text": [
      "--> Not exactly one containing mesh: []\n",
      "\n"
     ]
    },
    {
     "data": {
      "application/vnd.jupyter.widget-view+json": {
       "model_id": "433bdefb25644707851cea517ef7edec",
       "version_major": 2,
       "version_minor": 0
      },
      "text/plain": [
       "HBox(children=(FloatProgress(value=1.0, bar_style='info', max=1.0), HTML(value='')))"
      ]
     },
     "metadata": {},
     "output_type": "display_data"
    },
    {
     "name": "stdout",
     "output_type": "stream",
     "text": [
      "--> Not exactly one containing mesh: []\n",
      "--> Not exactly one containing mesh: []\n",
      "--> Not exactly one containing mesh: []\n",
      "--> Not exactly one containing mesh: []\n",
      "--> Not exactly one containing mesh: []\n",
      "--> Not exactly one containing mesh: []\n",
      "--> Not exactly one containing mesh: []\n",
      "--> Not exactly one containing mesh: []\n",
      "\n",
      "filtered_measurements = [160.51843497 116.73616587 100.79727849  59.92123923 167.65642103\n",
      " 116.5587858   92.45848842  75.91037518  95.24640713  87.97038021\n",
      "  85.73978834 156.75638178 188.62240355 152.31661973 154.84775781\n",
      " 155.27799854 103.1502631  120.58807435  93.18221769  78.04116027\n",
      " 125.19945537 159.77038771 142.13818976  87.39498487  99.76038262\n",
      " 106.85280286 132.12374189 166.47036971  75.76177698]\n",
      "new_threshold = 409.01387756812414\n"
     ]
    },
    {
     "data": {
      "application/vnd.jupyter.widget-view+json": {
       "model_id": "5109d5e3a6d64814b4986720b901e5fb",
       "version_major": 2,
       "version_minor": 0
      },
      "text/plain": [
       "HBox(children=(FloatProgress(value=1.0, bar_style='info', max=1.0), HTML(value='')))"
      ]
     },
     "metadata": {},
     "output_type": "display_data"
    },
    {
     "name": "stdout",
     "output_type": "stream",
     "text": [
      "--> Not exactly one containing mesh: []\n",
      "THERE WERE NO FACES THAT FIT THE DISTANCE (409.01387756812414) and Z transform requirements\n",
      "So just skipping this edge\n",
      "--> Not exactly one containing mesh: []\n",
      "--> Not exactly one containing mesh: []\n",
      "--> Not exactly one containing mesh: []\n",
      "--> Not exactly one containing mesh: []\n",
      "--> Not exactly one containing mesh: []\n",
      "--> Not exactly one containing mesh: []\n",
      "\n",
      "branch_touching_number = [36]\n",
      "branch_touching_number = [36, 2]\n",
      "most_branch_containing_piece = 0\n"
     ]
    },
    {
     "data": {
      "application/vnd.jupyter.widget-view+json": {
       "model_id": "7e03f3c8d581455abb56e3bf87977643",
       "version_major": 2,
       "version_minor": 0
      },
      "text/plain": [
       "HBox(children=(FloatProgress(value=1.0, bar_style='info', max=1.0), HTML(value='')))"
      ]
     },
     "metadata": {},
     "output_type": "display_data"
    },
    {
     "name": "stdout",
     "output_type": "stream",
     "text": [
      "\n",
      "filtered_measurements = [271.03622326 318.21752634 322.94990753 315.18566147 275.58011637\n",
      " 217.13618638 278.58608804]\n",
      "new_threshold = 484.8219069610312\n"
     ]
    },
    {
     "data": {
      "application/vnd.jupyter.widget-view+json": {
       "model_id": "1a151f2e721746af8943f2e18418edb3",
       "version_major": 2,
       "version_minor": 0
      },
      "text/plain": [
       "HBox(children=(FloatProgress(value=1.0, bar_style='info', max=1.0), HTML(value='')))"
      ]
     },
     "metadata": {},
     "output_type": "display_data"
    },
    {
     "name": "stdout",
     "output_type": "stream",
     "text": [
      "\n"
     ]
    },
    {
     "data": {
      "application/vnd.jupyter.widget-view+json": {
       "model_id": "99fc1803b073404b8de0f058267d3015",
       "version_major": 2,
       "version_minor": 0
      },
      "text/plain": [
       "HBox(children=(FloatProgress(value=1.0, bar_style='info', max=1.0), HTML(value='')))"
      ]
     },
     "metadata": {},
     "output_type": "display_data"
    },
    {
     "name": "stdout",
     "output_type": "stream",
     "text": [
      "\n",
      "filtered_measurements = [ 80.06035235  75.01894582  66.81026557  86.78017317 149.19526209\n",
      " 153.25340456 119.71427699  93.8371096 ]\n",
      "new_threshold = 330.6465431301393\n"
     ]
    },
    {
     "data": {
      "application/vnd.jupyter.widget-view+json": {
       "model_id": "4626903f130149feb91a96d38d687c2e",
       "version_major": 2,
       "version_minor": 0
      },
      "text/plain": [
       "HBox(children=(FloatProgress(value=1.0, bar_style='info', max=1.0), HTML(value='')))"
      ]
     },
     "metadata": {},
     "output_type": "display_data"
    },
    {
     "name": "stdout",
     "output_type": "stream",
     "text": [
      "\n"
     ]
    },
    {
     "data": {
      "application/vnd.jupyter.widget-view+json": {
       "model_id": "57331578139047f28e0dfcf8303ccaf5",
       "version_major": 2,
       "version_minor": 0
      },
      "text/plain": [
       "HBox(children=(FloatProgress(value=1.0, bar_style='info', max=1.0), HTML(value='')))"
      ]
     },
     "metadata": {},
     "output_type": "display_data"
    },
    {
     "name": "stdout",
     "output_type": "stream",
     "text": [
      "--> Not exactly one containing mesh: []\n",
      "--> Not exactly one containing mesh: []\n",
      "--> Not exactly one containing mesh: []\n",
      "\n",
      "filtered_measurements = [815.68457515 491.87645644 237.14341197]\n",
      "new_threshold = 1658.5512281954977\n"
     ]
    },
    {
     "data": {
      "application/vnd.jupyter.widget-view+json": {
       "model_id": "55dc8a0104e04636a6277dabb97ebcfe",
       "version_major": 2,
       "version_minor": 0
      },
      "text/plain": [
       "HBox(children=(FloatProgress(value=1.0, bar_style='info', max=1.0), HTML(value='')))"
      ]
     },
     "metadata": {},
     "output_type": "display_data"
    },
    {
     "name": "stdout",
     "output_type": "stream",
     "text": [
      "--> Not exactly one containing mesh: []\n",
      "--> Not exactly one containing mesh: []\n",
      "--> Not exactly one containing mesh: []\n",
      "\n"
     ]
    },
    {
     "data": {
      "application/vnd.jupyter.widget-view+json": {
       "model_id": "3ffd992ea59048f0b7c2c3044a78670a",
       "version_major": 2,
       "version_minor": 0
      },
      "text/plain": [
       "HBox(children=(FloatProgress(value=1.0, bar_style='info', max=1.0), HTML(value='')))"
      ]
     },
     "metadata": {},
     "output_type": "display_data"
    },
    {
     "name": "stdout",
     "output_type": "stream",
     "text": [
      "\n",
      "filtered_measurements = [430.52724379 283.08912552 270.17140654 249.56651226 290.65786722\n",
      " 293.91551759 294.79378417 305.82665323 388.52867835]\n",
      "new_threshold = 695.0049698215253\n"
     ]
    },
    {
     "data": {
      "application/vnd.jupyter.widget-view+json": {
       "model_id": "f24b05987b4c49dbb3438be7e5f9cb32",
       "version_major": 2,
       "version_minor": 0
      },
      "text/plain": [
       "HBox(children=(FloatProgress(value=1.0, bar_style='info', max=1.0), HTML(value='')))"
      ]
     },
     "metadata": {},
     "output_type": "display_data"
    },
    {
     "name": "stdout",
     "output_type": "stream",
     "text": [
      "\n"
     ]
    },
    {
     "data": {
      "application/vnd.jupyter.widget-view+json": {
       "model_id": "026172dd6bb54f32bf36602a9a504af5",
       "version_major": 2,
       "version_minor": 0
      },
      "text/plain": [
       "HBox(children=(FloatProgress(value=1.0, bar_style='info', max=1.0), HTML(value='')))"
      ]
     },
     "metadata": {},
     "output_type": "display_data"
    },
    {
     "name": "stdout",
     "output_type": "stream",
     "text": [
      "\n",
      "filtered_measurements = [157.58012511 500.72669968 262.36675344 458.80362318 187.34374192\n",
      " 261.74684455 194.03407739 388.92403583 303.54477531 371.82767303]\n",
      "new_threshold = 1187.5869391273245\n"
     ]
    },
    {
     "data": {
      "application/vnd.jupyter.widget-view+json": {
       "model_id": "d79e130697c9433b90c3a5b3a00b13d0",
       "version_major": 2,
       "version_minor": 0
      },
      "text/plain": [
       "HBox(children=(FloatProgress(value=1.0, bar_style='info', max=1.0), HTML(value='')))"
      ]
     },
     "metadata": {},
     "output_type": "display_data"
    },
    {
     "name": "stdout",
     "output_type": "stream",
     "text": [
      "\n"
     ]
    },
    {
     "data": {
      "application/vnd.jupyter.widget-view+json": {
       "model_id": "af65145c69294aa29ae4357b010394fa",
       "version_major": 2,
       "version_minor": 0
      },
      "text/plain": [
       "HBox(children=(FloatProgress(value=1.0, bar_style='info', max=1.0), HTML(value='')))"
      ]
     },
     "metadata": {},
     "output_type": "display_data"
    },
    {
     "name": "stdout",
     "output_type": "stream",
     "text": [
      "\n",
      "filtered_measurements = [165.30142214 287.10393307 241.9020257  208.43871265 121.50329893\n",
      " 156.68642496 237.46512551 168.24714556 105.43087972 150.42063492\n",
      " 280.70285838 185.70100902 150.70556305 147.94561751 153.66129888\n",
      " 123.45215684 131.32453463 113.10128758 172.87095815 221.52437961\n",
      " 148.43365896 116.38546381 141.41866726 238.13400181 223.14822363]\n",
      "new_threshold = 685.9739289351902\n"
     ]
    },
    {
     "data": {
      "application/vnd.jupyter.widget-view+json": {
       "model_id": "bd94857520c04ca28ac9c64f498fe33c",
       "version_major": 2,
       "version_minor": 0
      },
      "text/plain": [
       "HBox(children=(FloatProgress(value=1.0, bar_style='info', max=1.0), HTML(value='')))"
      ]
     },
     "metadata": {},
     "output_type": "display_data"
    },
    {
     "name": "stdout",
     "output_type": "stream",
     "text": [
      "\n",
      "\n",
      "Working on limb #1\n"
     ]
    },
    {
     "data": {
      "application/vnd.jupyter.widget-view+json": {
       "model_id": "2669024e7d3f4b728e664a9ce45efdf0",
       "version_major": 2,
       "version_minor": 0
      },
      "text/plain": [
       "HBox(children=(FloatProgress(value=1.0, bar_style='info', max=1.0), HTML(value='')))"
      ]
     },
     "metadata": {},
     "output_type": "display_data"
    },
    {
     "data": {
      "application/vnd.jupyter.widget-view+json": {
       "model_id": "e950244dea3549118517b2a11d4f2c06",
       "version_major": 2,
       "version_minor": 0
      },
      "text/plain": [
       "HBox(children=(FloatProgress(value=1.0, bar_style='info', max=1.0), HTML(value='')))"
      ]
     },
     "metadata": {},
     "output_type": "display_data"
    },
    {
     "name": "stdout",
     "output_type": "stream",
     "text": [
      "--> Not exactly one containing mesh: []\n",
      "--> Not exactly one containing mesh: []\n",
      "\n",
      "filtered_measurements = [135.45161881 238.65462984 354.6028162  350.63626643 193.20235144\n",
      " 197.26491131 348.96401231 183.95083972 284.94289134 460.35550006\n",
      " 333.86691128 344.79402422 222.42427918 136.8151649  259.15934074\n",
      " 249.88249987 414.29161803 125.04386123 163.36054676 181.71054687\n",
      " 377.0994544  229.10225853 319.25962987 256.43476645 210.80089543\n",
      " 349.6415887  397.61375381 313.97027857 314.02368238 240.01151345\n",
      " 258.7600268  440.64869923 238.96017143 141.41719868 139.76685803\n",
      " 245.08662522 226.96003258 204.14066781 269.9919993  412.25514229\n",
      " 188.8297189  421.07164098 352.32009057 255.70099067 231.45353358\n",
      " 224.32464737 258.5849137  205.01725792 434.90668997 243.71736375\n",
      " 246.11589816 463.67349571 366.51637251 364.6136781  319.37150856\n",
      " 436.45252302 358.75836263 242.27616724 263.30305963 269.37285935\n",
      " 193.80014238 273.38086122 250.38703349 409.89536917 311.25076512\n",
      " 260.37013665 287.82910844 281.19762764 260.22040738]\n",
      "new_threshold = 1212.517579944597\n"
     ]
    },
    {
     "data": {
      "application/vnd.jupyter.widget-view+json": {
       "model_id": "b87b191131de4d869b62b1f371dddbf5",
       "version_major": 2,
       "version_minor": 0
      },
      "text/plain": [
       "HBox(children=(FloatProgress(value=1.0, bar_style='info', max=1.0), HTML(value='')))"
      ]
     },
     "metadata": {},
     "output_type": "display_data"
    },
    {
     "name": "stdout",
     "output_type": "stream",
     "text": [
      "--> Not exactly one containing mesh: []\n",
      "--> Not exactly one containing mesh: []\n",
      "\n"
     ]
    },
    {
     "data": {
      "application/vnd.jupyter.widget-view+json": {
       "model_id": "b10fcc6200bf4b84aa8d2cc9788625b0",
       "version_major": 2,
       "version_minor": 0
      },
      "text/plain": [
       "HBox(children=(FloatProgress(value=1.0, bar_style='info', max=1.0), HTML(value='')))"
      ]
     },
     "metadata": {},
     "output_type": "display_data"
    },
    {
     "name": "stdout",
     "output_type": "stream",
     "text": [
      "--> Not exactly one containing mesh: []\n",
      "\n",
      "filtered_measurements = [ 89.12531695 110.85974294 102.88027616  98.72563661 108.99510895\n",
      "  65.60641425]\n",
      "new_threshold = 218.4451003051734\n"
     ]
    },
    {
     "data": {
      "application/vnd.jupyter.widget-view+json": {
       "model_id": "101fc20b166e43dbbb10ba7d2591fa5f",
       "version_major": 2,
       "version_minor": 0
      },
      "text/plain": [
       "HBox(children=(FloatProgress(value=1.0, bar_style='info', max=1.0), HTML(value='')))"
      ]
     },
     "metadata": {},
     "output_type": "display_data"
    },
    {
     "name": "stdout",
     "output_type": "stream",
     "text": [
      "--> Not exactly one containing mesh: []\n",
      "--> Not exactly one containing mesh: []\n",
      "\n",
      "branch_touching_number = [12]\n",
      "branch_touching_number = [12, 1]\n",
      "most_branch_containing_piece = 0\n"
     ]
    },
    {
     "data": {
      "application/vnd.jupyter.widget-view+json": {
       "model_id": "005808fc0af34a34bd7ef8c4cdce2829",
       "version_major": 2,
       "version_minor": 0
      },
      "text/plain": [
       "HBox(children=(FloatProgress(value=1.0, bar_style='info', max=1.0), HTML(value='')))"
      ]
     },
     "metadata": {},
     "output_type": "display_data"
    },
    {
     "name": "stdout",
     "output_type": "stream",
     "text": [
      "\n",
      "filtered_measurements = [282.8568422  357.11413111 394.63093378 553.58232034 536.0199563\n",
      " 338.93095391 253.30442308 351.28650377 548.98960446 511.13593207\n",
      " 259.17227404 266.30782818 311.43262384 276.15557401 354.79360149\n",
      " 240.45798263 533.9593342  390.96022423 297.82324451 240.8839056\n",
      " 528.63399841 293.94960958 360.51552676 215.82098882 326.0279015\n",
      " 322.17278333 253.38518207 260.87325447 218.226485   215.91480546\n",
      " 291.37032337 389.88006977 202.00519328 360.15211921 267.90731963\n",
      " 432.23922129 257.75833527 259.97760977 321.29172479 411.95404851\n",
      " 376.07472071 423.82522591 563.29694876 336.84321598 244.16186136\n",
      " 342.55850722 334.05515155 414.30445979 569.63826676 227.91922994\n",
      " 211.34699515 373.59547155 546.40482638 336.74813347 470.80533587\n",
      " 317.50390366 268.66095689 260.75720729 299.46313547 386.00819492\n",
      " 398.52497379 350.30502902 308.98066218 359.47182383 483.89766395\n",
      " 423.44708536 562.58943488 357.52097647 543.79456356 566.27150157\n",
      " 513.63331849 531.93614959 544.19243881 461.95209578 569.32420818\n",
      " 518.5306126  547.07515869 533.61642707 571.50334578 542.17656331]\n",
      "new_threshold = 1391.331785491866\n"
     ]
    },
    {
     "data": {
      "application/vnd.jupyter.widget-view+json": {
       "model_id": "9fb983ba83c84062a8a295c0916d2bdb",
       "version_major": 2,
       "version_minor": 0
      },
      "text/plain": [
       "HBox(children=(FloatProgress(value=1.0, bar_style='info', max=1.0), HTML(value='')))"
      ]
     },
     "metadata": {},
     "output_type": "display_data"
    },
    {
     "name": "stdout",
     "output_type": "stream",
     "text": [
      "\n"
     ]
    },
    {
     "data": {
      "application/vnd.jupyter.widget-view+json": {
       "model_id": "0e1db10f22344c37bb1a2993accc52f8",
       "version_major": 2,
       "version_minor": 0
      },
      "text/plain": [
       "HBox(children=(FloatProgress(value=1.0, bar_style='info', max=1.0), HTML(value='')))"
      ]
     },
     "metadata": {},
     "output_type": "display_data"
    },
    {
     "name": "stdout",
     "output_type": "stream",
     "text": [
      "\n",
      "filtered_measurements = [339.51197633 201.45218353 250.34716457 375.29327027 358.73209541\n",
      " 449.80065616 329.98741992 491.15120703 228.92892443 204.73188761\n",
      " 485.38367285 218.88183185 357.26266353 307.25571317 296.74709045\n",
      " 380.0912866  322.89858231 451.81059648 253.05237011 322.74247652\n",
      " 213.96230301 411.16533399 418.75133262 369.00091674 181.95019726\n",
      " 344.69603061 380.79802682 366.6012235  512.5145218  263.57671855\n",
      " 256.14057601 368.04759374 287.97789207 328.26303765 307.37371499\n",
      " 247.49074848 362.16535837 338.86483361 292.65997107 380.15829092\n",
      " 351.21613112 231.79629541 385.31318286]\n",
      "new_threshold = 1319.018492427866\n"
     ]
    },
    {
     "data": {
      "application/vnd.jupyter.widget-view+json": {
       "model_id": "1c8db35f427040b7bb642dd35da840a5",
       "version_major": 2,
       "version_minor": 0
      },
      "text/plain": [
       "HBox(children=(FloatProgress(value=1.0, bar_style='info', max=1.0), HTML(value='')))"
      ]
     },
     "metadata": {},
     "output_type": "display_data"
    },
    {
     "name": "stdout",
     "output_type": "stream",
     "text": [
      "\n"
     ]
    },
    {
     "data": {
      "application/vnd.jupyter.widget-view+json": {
       "model_id": "9858501e6f5b4da5a5b963ea4de0ecf0",
       "version_major": 2,
       "version_minor": 0
      },
      "text/plain": [
       "HBox(children=(FloatProgress(value=1.0, bar_style='info', max=1.0), HTML(value='')))"
      ]
     },
     "metadata": {},
     "output_type": "display_data"
    },
    {
     "name": "stdout",
     "output_type": "stream",
     "text": [
      "--> Not exactly one containing mesh: []\n",
      "--> Not exactly one containing mesh: []\n",
      "\n",
      "filtered_measurements = [ 74.99961146 153.07208607 131.88149391]\n",
      "new_threshold = 313.40417028522637\n"
     ]
    },
    {
     "data": {
      "application/vnd.jupyter.widget-view+json": {
       "model_id": "6d2781202403419b82a2c5505644358f",
       "version_major": 2,
       "version_minor": 0
      },
      "text/plain": [
       "HBox(children=(FloatProgress(value=1.0, bar_style='info', max=1.0), HTML(value='')))"
      ]
     },
     "metadata": {},
     "output_type": "display_data"
    },
    {
     "name": "stdout",
     "output_type": "stream",
     "text": [
      "--> Not exactly one containing mesh: []\n",
      "--> Not exactly one containing mesh: []\n",
      "\n"
     ]
    },
    {
     "data": {
      "application/vnd.jupyter.widget-view+json": {
       "model_id": "4fe01903b79a4fcb8ef850f3a728c02b",
       "version_major": 2,
       "version_minor": 0
      },
      "text/plain": [
       "HBox(children=(FloatProgress(value=1.0, bar_style='info', max=1.0), HTML(value='')))"
      ]
     },
     "metadata": {},
     "output_type": "display_data"
    },
    {
     "name": "stdout",
     "output_type": "stream",
     "text": [
      "--> Not exactly one containing mesh: []\n",
      "--> Not exactly one containing mesh: []\n",
      "--> Not exactly one containing mesh: []\n",
      "\n",
      "filtered_measurements = [221.95493376 154.07112564 136.79183007 203.98410871 155.98091731\n",
      " 175.24632279 226.02384292 185.66339254 265.90640653 294.75680481]\n",
      "new_threshold = 631.0406828820394\n"
     ]
    },
    {
     "data": {
      "application/vnd.jupyter.widget-view+json": {
       "model_id": "bf6c033cdf1240cd9ab5ae16ecc3caad",
       "version_major": 2,
       "version_minor": 0
      },
      "text/plain": [
       "HBox(children=(FloatProgress(value=1.0, bar_style='info', max=1.0), HTML(value='')))"
      ]
     },
     "metadata": {},
     "output_type": "display_data"
    },
    {
     "name": "stdout",
     "output_type": "stream",
     "text": [
      "--> Not exactly one containing mesh: []\n",
      "--> Not exactly one containing mesh: []\n",
      "--> Not exactly one containing mesh: []\n",
      "\n"
     ]
    },
    {
     "data": {
      "application/vnd.jupyter.widget-view+json": {
       "model_id": "732e182463874df8ab626619ccf54da2",
       "version_major": 2,
       "version_minor": 0
      },
      "text/plain": [
       "HBox(children=(FloatProgress(value=1.0, bar_style='info', max=1.0), HTML(value='')))"
      ]
     },
     "metadata": {},
     "output_type": "display_data"
    },
    {
     "name": "stdout",
     "output_type": "stream",
     "text": [
      "\n",
      "filtered_measurements = [473.49986062 435.40588406 321.45597948 304.44972713]\n",
      "new_threshold = 934.7544674435153\n"
     ]
    },
    {
     "data": {
      "application/vnd.jupyter.widget-view+json": {
       "model_id": "d70e2c33b336425e99864bc93f10cf4e",
       "version_major": 2,
       "version_minor": 0
      },
      "text/plain": [
       "HBox(children=(FloatProgress(value=1.0, bar_style='info', max=1.0), HTML(value='')))"
      ]
     },
     "metadata": {},
     "output_type": "display_data"
    },
    {
     "name": "stdout",
     "output_type": "stream",
     "text": [
      "\n"
     ]
    },
    {
     "data": {
      "application/vnd.jupyter.widget-view+json": {
       "model_id": "b272f190823144149a0d70ce7ee9ac6e",
       "version_major": 2,
       "version_minor": 0
      },
      "text/plain": [
       "HBox(children=(FloatProgress(value=1.0, bar_style='info', max=1.0), HTML(value='')))"
      ]
     },
     "metadata": {},
     "output_type": "display_data"
    },
    {
     "name": "stdout",
     "output_type": "stream",
     "text": [
      "\n",
      "filtered_measurements = [375.77222064 441.81949238 381.0221202  228.74558383 198.40684882\n",
      " 255.44028927]\n",
      "new_threshold = 1000.3063218171077\n"
     ]
    },
    {
     "data": {
      "application/vnd.jupyter.widget-view+json": {
       "model_id": "5d003c4349314193a6d4582b5e304fcf",
       "version_major": 2,
       "version_minor": 0
      },
      "text/plain": [
       "HBox(children=(FloatProgress(value=1.0, bar_style='info', max=1.0), HTML(value='')))"
      ]
     },
     "metadata": {},
     "output_type": "display_data"
    },
    {
     "name": "stdout",
     "output_type": "stream",
     "text": [
      "\n"
     ]
    },
    {
     "data": {
      "application/vnd.jupyter.widget-view+json": {
       "model_id": "456f2779509849d8997e88f4c8ca2382",
       "version_major": 2,
       "version_minor": 0
      },
      "text/plain": [
       "HBox(children=(FloatProgress(value=1.0, bar_style='info', max=1.0), HTML(value='')))"
      ]
     },
     "metadata": {},
     "output_type": "display_data"
    },
    {
     "name": "stdout",
     "output_type": "stream",
     "text": [
      "\n",
      "filtered_measurements = [444.06378449 402.85770317 486.90874161 507.71058097 440.4578802\n",
      " 389.72653388 533.68066664 562.43099108 480.48240018 481.22736985\n",
      " 432.73819365 363.49889601 469.00976872 440.86450861 544.96670606\n",
      " 337.75442923 316.29962215 349.84170274 441.44151191 323.95133657\n",
      " 432.74589426 487.25057059 494.2106952  417.52566256 459.24392972\n",
      " 327.98422178 424.33367388 595.07544337 412.22903053 433.88012763\n",
      " 375.73252459 343.3213894  350.52358468 476.13666079]\n",
      "new_threshold = 1144.715934523112\n"
     ]
    },
    {
     "data": {
      "application/vnd.jupyter.widget-view+json": {
       "model_id": "f7089e9e154d4f6ab34c7c2d81331f53",
       "version_major": 2,
       "version_minor": 0
      },
      "text/plain": [
       "HBox(children=(FloatProgress(value=1.0, bar_style='info', max=1.0), HTML(value='')))"
      ]
     },
     "metadata": {},
     "output_type": "display_data"
    },
    {
     "name": "stdout",
     "output_type": "stream",
     "text": [
      "\n"
     ]
    },
    {
     "data": {
      "application/vnd.jupyter.widget-view+json": {
       "model_id": "8e85a06af414422db72773283a5cb746",
       "version_major": 2,
       "version_minor": 0
      },
      "text/plain": [
       "HBox(children=(FloatProgress(value=1.0, bar_style='info', max=1.0), HTML(value='')))"
      ]
     },
     "metadata": {},
     "output_type": "display_data"
    },
    {
     "name": "stdout",
     "output_type": "stream",
     "text": [
      "\n",
      "filtered_measurements = [365.44223216 185.34639949 179.54119684 310.85672789 383.92689588\n",
      " 154.21992666 337.34398437 232.92300937 286.68271556 352.88593191\n",
      " 292.56023113 358.3014576  261.63402669 231.21122076 341.69041938\n",
      " 306.54800634 250.45632796 414.39837495 221.38115468 243.00574375\n",
      " 360.32772128 218.95863864 191.18889269 175.41477542 266.7156552\n",
      " 256.08274597 294.62520357 329.46611359 211.4899456  342.650394\n",
      " 137.91067191 230.37878721 300.87796649 357.37748401 389.73613962\n",
      " 183.89822973 157.9587169  252.74493831 369.13484293 289.62737302\n",
      " 199.67221832 293.82960122 351.42072668 361.76778297 380.89594772\n",
      " 231.86475325 191.79794495 187.61109933 235.16218379 262.38491562\n",
      " 361.11039764 276.96436974 184.53123716 306.98262643 350.38244511\n",
      " 198.50305419 210.62698053 345.90236145 317.40316344 280.85067267\n",
      " 301.07759811]\n",
      "new_threshold = 988.0604948467476\n"
     ]
    },
    {
     "data": {
      "application/vnd.jupyter.widget-view+json": {
       "model_id": "ad5c6797bdd345b1b1ba1b936850e991",
       "version_major": 2,
       "version_minor": 0
      },
      "text/plain": [
       "HBox(children=(FloatProgress(value=1.0, bar_style='info', max=1.0), HTML(value='')))"
      ]
     },
     "metadata": {},
     "output_type": "display_data"
    },
    {
     "name": "stdout",
     "output_type": "stream",
     "text": [
      "\n"
     ]
    },
    {
     "data": {
      "application/vnd.jupyter.widget-view+json": {
       "model_id": "c463a02a9cf74cee816cd0839296ad48",
       "version_major": 2,
       "version_minor": 0
      },
      "text/plain": [
       "HBox(children=(FloatProgress(value=1.0, bar_style='info', max=1.0), HTML(value='')))"
      ]
     },
     "metadata": {},
     "output_type": "display_data"
    },
    {
     "name": "stdout",
     "output_type": "stream",
     "text": [
      "\n",
      "filtered_measurements = [257.79243569 362.59941137 381.15815626 319.14054986 428.64553799\n",
      " 327.81216033 339.20412097 243.43049927 247.15307365 328.85097246\n",
      " 365.85326181 347.42528811 460.5407024  423.34174794 275.73446746\n",
      " 505.46706442 309.77406234 317.68725051 365.27248757 402.65593697]\n",
      "new_threshold = 1052.161121797153\n"
     ]
    },
    {
     "data": {
      "application/vnd.jupyter.widget-view+json": {
       "model_id": "eaa451c708b84fefbf602acc3769174a",
       "version_major": 2,
       "version_minor": 0
      },
      "text/plain": [
       "HBox(children=(FloatProgress(value=1.0, bar_style='info', max=1.0), HTML(value='')))"
      ]
     },
     "metadata": {},
     "output_type": "display_data"
    },
    {
     "name": "stdout",
     "output_type": "stream",
     "text": [
      "\n"
     ]
    },
    {
     "data": {
      "application/vnd.jupyter.widget-view+json": {
       "model_id": "cac7851f56304d588721d8c0db1661ab",
       "version_major": 2,
       "version_minor": 0
      },
      "text/plain": [
       "HBox(children=(FloatProgress(value=1.0, bar_style='info', max=1.0), HTML(value='')))"
      ]
     },
     "metadata": {},
     "output_type": "display_data"
    },
    {
     "name": "stdout",
     "output_type": "stream",
     "text": [
      "\n",
      "filtered_measurements = [ 82.45670421 171.68949007 181.88998991 118.80546531]\n",
      "new_threshold = 376.61219244016786\n"
     ]
    },
    {
     "data": {
      "application/vnd.jupyter.widget-view+json": {
       "model_id": "a881d206c7924397aab20625ea1cebf6",
       "version_major": 2,
       "version_minor": 0
      },
      "text/plain": [
       "HBox(children=(FloatProgress(value=1.0, bar_style='info', max=1.0), HTML(value='')))"
      ]
     },
     "metadata": {},
     "output_type": "display_data"
    },
    {
     "name": "stdout",
     "output_type": "stream",
     "text": [
      "\n"
     ]
    },
    {
     "data": {
      "application/vnd.jupyter.widget-view+json": {
       "model_id": "8ab8100258a545fe9720cc988bdb0adf",
       "version_major": 2,
       "version_minor": 0
      },
      "text/plain": [
       "HBox(children=(FloatProgress(value=1.0, bar_style='info', max=1.0), HTML(value='')))"
      ]
     },
     "metadata": {},
     "output_type": "display_data"
    },
    {
     "name": "stdout",
     "output_type": "stream",
     "text": [
      "\n",
      "filtered_measurements = [409.50820146 510.11428609 595.51068492 378.94990636 382.99118763\n",
      " 491.13796499 373.27906574 402.54736849 464.20861574 378.13575991\n",
      " 358.77639188 297.63410721 548.33791933 536.78727258]\n",
      "new_threshold = 1300.0889250151977\n"
     ]
    },
    {
     "data": {
      "application/vnd.jupyter.widget-view+json": {
       "model_id": "a12ff5eee4e64a1d95d3e1751f53c164",
       "version_major": 2,
       "version_minor": 0
      },
      "text/plain": [
       "HBox(children=(FloatProgress(value=1.0, bar_style='info', max=1.0), HTML(value='')))"
      ]
     },
     "metadata": {},
     "output_type": "display_data"
    },
    {
     "name": "stdout",
     "output_type": "stream",
     "text": [
      "\n"
     ]
    },
    {
     "data": {
      "application/vnd.jupyter.widget-view+json": {
       "model_id": "0afc6e6a6d6e450193e1f7f1162ef650",
       "version_major": 2,
       "version_minor": 0
      },
      "text/plain": [
       "HBox(children=(FloatProgress(value=1.0, bar_style='info', max=1.0), HTML(value='')))"
      ]
     },
     "metadata": {},
     "output_type": "display_data"
    },
    {
     "name": "stdout",
     "output_type": "stream",
     "text": [
      "\n",
      "filtered_measurements = [192.31951188 228.1093407  247.20200093 186.87751458 293.54424541\n",
      " 265.62711806 405.01462534 197.16980771 240.40226151 365.69722329\n",
      " 313.46275924 281.08618932 273.45673734 332.66267021 289.41326749\n",
      " 296.27989477 235.45913441 343.06595605 308.1058959  230.48538585\n",
      " 393.73698166 349.44601576 236.8805629  263.7025177  234.42652646\n",
      " 380.90262341 249.23985413 226.84429192 238.53412376]\n",
      "new_threshold = 910.5984320857408\n"
     ]
    },
    {
     "data": {
      "application/vnd.jupyter.widget-view+json": {
       "model_id": "28b7eaeb3f8c49c2adb209ac04a4cd06",
       "version_major": 2,
       "version_minor": 0
      },
      "text/plain": [
       "HBox(children=(FloatProgress(value=1.0, bar_style='info', max=1.0), HTML(value='')))"
      ]
     },
     "metadata": {},
     "output_type": "display_data"
    },
    {
     "name": "stdout",
     "output_type": "stream",
     "text": [
      "\n"
     ]
    },
    {
     "data": {
      "application/vnd.jupyter.widget-view+json": {
       "model_id": "15d327af9ea34f808233ed4badb6077d",
       "version_major": 2,
       "version_minor": 0
      },
      "text/plain": [
       "HBox(children=(FloatProgress(value=1.0, bar_style='info', max=1.0), HTML(value='')))"
      ]
     },
     "metadata": {},
     "output_type": "display_data"
    },
    {
     "name": "stdout",
     "output_type": "stream",
     "text": [
      "\n",
      "filtered_measurements = [394.6176004  248.04887976 219.44024106 300.23139241 409.11282725\n",
      " 415.36680631 380.60318854 383.29588763 444.32415608 350.07771285\n",
      " 258.33564144 258.90571415 312.91410405 229.32717926 291.63172661\n",
      " 403.46132388 371.94396363 250.19476522 287.22993027 270.91847161\n",
      " 448.5400729  190.08383107 324.58848398 445.77357381 353.48054664\n",
      " 215.84399914 318.28796078 355.70326948 436.81485091 237.85081535\n",
      " 392.61641739 280.00052232 251.35502309 304.12815822 238.54105324\n",
      " 221.19622799 222.45437827 273.84905572 200.09795215 167.09745324]\n",
      "new_threshold = 1194.7667478590452\n"
     ]
    },
    {
     "data": {
      "application/vnd.jupyter.widget-view+json": {
       "model_id": "08561b6099994667be4d5a1d6ebaa129",
       "version_major": 2,
       "version_minor": 0
      },
      "text/plain": [
       "HBox(children=(FloatProgress(value=1.0, bar_style='info', max=1.0), HTML(value='')))"
      ]
     },
     "metadata": {},
     "output_type": "display_data"
    },
    {
     "name": "stdout",
     "output_type": "stream",
     "text": [
      "\n"
     ]
    },
    {
     "data": {
      "application/vnd.jupyter.widget-view+json": {
       "model_id": "3a435be2e9804214985f4054cd2131f8",
       "version_major": 2,
       "version_minor": 0
      },
      "text/plain": [
       "HBox(children=(FloatProgress(value=1.0, bar_style='info', max=1.0), HTML(value='')))"
      ]
     },
     "metadata": {},
     "output_type": "display_data"
    },
    {
     "name": "stdout",
     "output_type": "stream",
     "text": [
      "--> Not exactly one containing mesh: []\n",
      "\n",
      "filtered_measurements = [246.0837753  249.69436054 170.59315914 214.10711076 115.56772443\n",
      " 141.54111914 211.65949496]\n",
      "new_threshold = 552.7618973326006\n"
     ]
    },
    {
     "data": {
      "application/vnd.jupyter.widget-view+json": {
       "model_id": "4b95f038f5504baea68fcc374400f46a",
       "version_major": 2,
       "version_minor": 0
      },
      "text/plain": [
       "HBox(children=(FloatProgress(value=1.0, bar_style='info', max=1.0), HTML(value='')))"
      ]
     },
     "metadata": {},
     "output_type": "display_data"
    },
    {
     "name": "stdout",
     "output_type": "stream",
     "text": [
      "--> Not exactly one containing mesh: []\n",
      "\n"
     ]
    },
    {
     "data": {
      "application/vnd.jupyter.widget-view+json": {
       "model_id": "88e63bf0fae344f9934991d89ba185ce",
       "version_major": 2,
       "version_minor": 0
      },
      "text/plain": [
       "HBox(children=(FloatProgress(value=1.0, bar_style='info', max=1.0), HTML(value='')))"
      ]
     },
     "metadata": {},
     "output_type": "display_data"
    },
    {
     "name": "stdout",
     "output_type": "stream",
     "text": [
      "\n",
      "filtered_measurements = [296.45109168 211.976283   382.20978627 239.04644609 334.82639885\n",
      " 345.51114221 315.53598029 384.60814637 247.41417336 260.21702243\n",
      " 254.96359118 457.05825079 279.74528333 366.4775165  244.30556728\n",
      " 341.88598775 332.28499215]\n",
      "new_threshold = 1167.7053741807708\n"
     ]
    },
    {
     "data": {
      "application/vnd.jupyter.widget-view+json": {
       "model_id": "65b8a1c4ed8945cb9fc4218667393253",
       "version_major": 2,
       "version_minor": 0
      },
      "text/plain": [
       "HBox(children=(FloatProgress(value=1.0, bar_style='info', max=1.0), HTML(value='')))"
      ]
     },
     "metadata": {},
     "output_type": "display_data"
    },
    {
     "name": "stdout",
     "output_type": "stream",
     "text": [
      "\n",
      "\n",
      "Working on limb #2\n"
     ]
    },
    {
     "data": {
      "application/vnd.jupyter.widget-view+json": {
       "model_id": "86e7dda1ef4c4673abb313c564b7204d",
       "version_major": 2,
       "version_minor": 0
      },
      "text/plain": [
       "HBox(children=(FloatProgress(value=1.0, bar_style='info', max=1.0), HTML(value='')))"
      ]
     },
     "metadata": {},
     "output_type": "display_data"
    },
    {
     "data": {
      "application/vnd.jupyter.widget-view+json": {
       "model_id": "d3ac2676726342cdb111858871bc0780",
       "version_major": 2,
       "version_minor": 0
      },
      "text/plain": [
       "HBox(children=(FloatProgress(value=1.0, bar_style='info', max=1.0), HTML(value='')))"
      ]
     },
     "metadata": {},
     "output_type": "display_data"
    },
    {
     "name": "stdout",
     "output_type": "stream",
     "text": [
      "--> Not exactly one containing mesh: []\n",
      "\n",
      "filtered_measurements = [530.25485959 477.58566528 536.21994597 684.68679945 874.67807241\n",
      " 613.99973866 648.63509311 719.187455   634.42318428 556.0061137\n",
      " 587.83044479]\n",
      "new_threshold = 1715.118351800131\n"
     ]
    },
    {
     "data": {
      "application/vnd.jupyter.widget-view+json": {
       "model_id": "cd31810714ec4a378d26976005901db5",
       "version_major": 2,
       "version_minor": 0
      },
      "text/plain": [
       "HBox(children=(FloatProgress(value=1.0, bar_style='info', max=1.0), HTML(value='')))"
      ]
     },
     "metadata": {},
     "output_type": "display_data"
    },
    {
     "name": "stdout",
     "output_type": "stream",
     "text": [
      "--> Not exactly one containing mesh: []\n",
      "\n"
     ]
    },
    {
     "data": {
      "application/vnd.jupyter.widget-view+json": {
       "model_id": "c712316f0f194216b900d1433cfa4c53",
       "version_major": 2,
       "version_minor": 0
      },
      "text/plain": [
       "HBox(children=(FloatProgress(value=1.0, bar_style='info', max=1.0), HTML(value='')))"
      ]
     },
     "metadata": {},
     "output_type": "display_data"
    },
    {
     "name": "stdout",
     "output_type": "stream",
     "text": [
      "\n",
      "filtered_measurements = [276.67188553 267.20222557 265.70882082 150.3905904  119.81402129\n",
      " 129.16930867 129.23439418 119.15783248 121.20027596 303.48403577]\n",
      "new_threshold = 680.0520132063338\n"
     ]
    },
    {
     "data": {
      "application/vnd.jupyter.widget-view+json": {
       "model_id": "fd603581133e4444805f390ad37bd0a2",
       "version_major": 2,
       "version_minor": 0
      },
      "text/plain": [
       "HBox(children=(FloatProgress(value=1.0, bar_style='info', max=1.0), HTML(value='')))"
      ]
     },
     "metadata": {},
     "output_type": "display_data"
    },
    {
     "name": "stdout",
     "output_type": "stream",
     "text": [
      "\n"
     ]
    },
    {
     "data": {
      "application/vnd.jupyter.widget-view+json": {
       "model_id": "dea6b3f106c14b7fbf3ecc165ec541b4",
       "version_major": 2,
       "version_minor": 0
      },
      "text/plain": [
       "HBox(children=(FloatProgress(value=1.0, bar_style='info', max=1.0), HTML(value='')))"
      ]
     },
     "metadata": {},
     "output_type": "display_data"
    },
    {
     "name": "stdout",
     "output_type": "stream",
     "text": [
      "\n",
      "filtered_measurements = [ 85.27421769  94.27673674 108.7476426   82.18953128  95.96709747\n",
      "  85.73031796]\n",
      "new_threshold = 202.2032572530214\n"
     ]
    },
    {
     "data": {
      "application/vnd.jupyter.widget-view+json": {
       "model_id": "3f3fb145ec4e44f5b2fc66ad59fbaa28",
       "version_major": 2,
       "version_minor": 0
      },
      "text/plain": [
       "HBox(children=(FloatProgress(value=1.0, bar_style='info', max=1.0), HTML(value='')))"
      ]
     },
     "metadata": {},
     "output_type": "display_data"
    },
    {
     "name": "stdout",
     "output_type": "stream",
     "text": [
      "\n"
     ]
    },
    {
     "data": {
      "application/vnd.jupyter.widget-view+json": {
       "model_id": "672b62a48984419082d8baccd95121a0",
       "version_major": 2,
       "version_minor": 0
      },
      "text/plain": [
       "HBox(children=(FloatProgress(value=1.0, bar_style='info', max=1.0), HTML(value='')))"
      ]
     },
     "metadata": {},
     "output_type": "display_data"
    },
    {
     "name": "stdout",
     "output_type": "stream",
     "text": [
      "\n",
      "filtered_measurements = [ 87.00813484  74.04072362  75.97387082 135.26056778 144.4517636\n",
      "  72.10276707 126.97222813 114.83427701]\n",
      "new_threshold = 309.5382558419071\n"
     ]
    },
    {
     "data": {
      "application/vnd.jupyter.widget-view+json": {
       "model_id": "c4cb567497034ec8b1bd1bf2b90b0534",
       "version_major": 2,
       "version_minor": 0
      },
      "text/plain": [
       "HBox(children=(FloatProgress(value=1.0, bar_style='info', max=1.0), HTML(value='')))"
      ]
     },
     "metadata": {},
     "output_type": "display_data"
    },
    {
     "name": "stdout",
     "output_type": "stream",
     "text": [
      "--> Not exactly one containing mesh: []\n",
      "\n",
      "branch_touching_number = [11]\n",
      "branch_touching_number = [11, 1]\n",
      "most_branch_containing_piece = 0\n"
     ]
    },
    {
     "data": {
      "application/vnd.jupyter.widget-view+json": {
       "model_id": "9f40bb22e8834bf58c3d43751d9cbfa5",
       "version_major": 2,
       "version_minor": 0
      },
      "text/plain": [
       "HBox(children=(FloatProgress(value=1.0, bar_style='info', max=1.0), HTML(value='')))"
      ]
     },
     "metadata": {},
     "output_type": "display_data"
    },
    {
     "name": "stdout",
     "output_type": "stream",
     "text": [
      "\n",
      "filtered_measurements = [618.69094513 475.91117481 461.81317501 625.47636903 560.47903782\n",
      " 537.04434337 690.89199016 470.87349711 419.58287111 491.63233804\n",
      " 550.99225569 529.87156804 589.56522501 470.32563711 553.62134483\n",
      " 552.91958916 564.22869902 614.29219946 629.54199107]\n",
      "new_threshold = 1375.4191176454651\n"
     ]
    },
    {
     "data": {
      "application/vnd.jupyter.widget-view+json": {
       "model_id": "e25dda07eda8457f9b76622892789d66",
       "version_major": 2,
       "version_minor": 0
      },
      "text/plain": [
       "HBox(children=(FloatProgress(value=1.0, bar_style='info', max=1.0), HTML(value='')))"
      ]
     },
     "metadata": {},
     "output_type": "display_data"
    },
    {
     "name": "stdout",
     "output_type": "stream",
     "text": [
      "\n"
     ]
    },
    {
     "data": {
      "application/vnd.jupyter.widget-view+json": {
       "model_id": "abfb0fa35a14452dbef9c1a2982e698c",
       "version_major": 2,
       "version_minor": 0
      },
      "text/plain": [
       "HBox(children=(FloatProgress(value=1.0, bar_style='info', max=1.0), HTML(value='')))"
      ]
     },
     "metadata": {},
     "output_type": "display_data"
    },
    {
     "name": "stdout",
     "output_type": "stream",
     "text": [
      "\n",
      "filtered_measurements = [377.78370956 278.93742321 335.66835791 363.86514294 319.07601311\n",
      " 302.77336281 337.44436048 460.49078863 519.55735207 402.9808531\n",
      " 483.70985024 505.08481568 361.19501763 377.62681891 369.49026735\n",
      " 421.74737423 339.03999287 359.09065222 430.81680112 481.48951491\n",
      " 419.05447462 461.77902655 344.34649697 537.0647075  401.55652631\n",
      " 416.87853695 395.54174741 339.25942083 363.10559871 509.24914753\n",
      " 431.66047375 422.26357296]\n",
      "new_threshold = 1182.161539890262\n"
     ]
    },
    {
     "data": {
      "application/vnd.jupyter.widget-view+json": {
       "model_id": "c7f9292fd2ae414d9f185c1392c485e7",
       "version_major": 2,
       "version_minor": 0
      },
      "text/plain": [
       "HBox(children=(FloatProgress(value=1.0, bar_style='info', max=1.0), HTML(value='')))"
      ]
     },
     "metadata": {},
     "output_type": "display_data"
    },
    {
     "name": "stdout",
     "output_type": "stream",
     "text": [
      "\n"
     ]
    },
    {
     "data": {
      "application/vnd.jupyter.widget-view+json": {
       "model_id": "6509ff5189cc4c54b6a0210c4ca414d9",
       "version_major": 2,
       "version_minor": 0
      },
      "text/plain": [
       "HBox(children=(FloatProgress(value=1.0, bar_style='info', max=1.0), HTML(value='')))"
      ]
     },
     "metadata": {},
     "output_type": "display_data"
    },
    {
     "name": "stdout",
     "output_type": "stream",
     "text": [
      "\n",
      "filtered_measurements = [271.72592023 288.55755332]\n",
      "new_threshold = 395.13940064851266\n"
     ]
    },
    {
     "data": {
      "application/vnd.jupyter.widget-view+json": {
       "model_id": "5a14048cedd34c219c8533c7ebf1b257",
       "version_major": 2,
       "version_minor": 0
      },
      "text/plain": [
       "HBox(children=(FloatProgress(value=1.0, bar_style='info', max=1.0), HTML(value='')))"
      ]
     },
     "metadata": {},
     "output_type": "display_data"
    },
    {
     "name": "stdout",
     "output_type": "stream",
     "text": [
      "\n"
     ]
    },
    {
     "data": {
      "application/vnd.jupyter.widget-view+json": {
       "model_id": "f206cd5ee9d84a8187b5a9d72bb933e9",
       "version_major": 2,
       "version_minor": 0
      },
      "text/plain": [
       "HBox(children=(FloatProgress(value=1.0, bar_style='info', max=1.0), HTML(value='')))"
      ]
     },
     "metadata": {},
     "output_type": "display_data"
    },
    {
     "name": "stdout",
     "output_type": "stream",
     "text": [
      "--> Not exactly one containing mesh: []\n",
      "\n",
      "branch_touching_number = [5]\n",
      "branch_touching_number = [5, 1]\n",
      "most_branch_containing_piece = 0\n",
      "filtered_measurements = [103.54653738  97.14664659 100.37984328]\n",
      "new_threshold = 215.8965850890857\n"
     ]
    },
    {
     "data": {
      "application/vnd.jupyter.widget-view+json": {
       "model_id": "1bc02bf7f26b41bfa17c66fe9e1eb2fc",
       "version_major": 2,
       "version_minor": 0
      },
      "text/plain": [
       "HBox(children=(FloatProgress(value=1.0, bar_style='info', max=1.0), HTML(value='')))"
      ]
     },
     "metadata": {},
     "output_type": "display_data"
    },
    {
     "name": "stdout",
     "output_type": "stream",
     "text": [
      "--> Not exactly one containing mesh: []\n",
      "--> Not exactly one containing mesh: []\n",
      "\n"
     ]
    },
    {
     "data": {
      "application/vnd.jupyter.widget-view+json": {
       "model_id": "e79770403a244895b2d9aa67eae4689a",
       "version_major": 2,
       "version_minor": 0
      },
      "text/plain": [
       "HBox(children=(FloatProgress(value=1.0, bar_style='info', max=1.0), HTML(value='')))"
      ]
     },
     "metadata": {},
     "output_type": "display_data"
    },
    {
     "name": "stdout",
     "output_type": "stream",
     "text": [
      "\n",
      "filtered_measurements = [369.35991018 334.87168089 343.51527658 368.06892855 455.09179289\n",
      " 335.05064269 321.47762649 338.70897294 294.19525745 385.0241867\n",
      " 480.61693683 387.21137059 224.28433637 193.67278068 266.88596214\n",
      " 278.63063081 266.34604533 368.76248868 485.08433235 341.45351035\n",
      " 337.37323164 413.25431569 259.77181492 270.3991542  239.5192941\n",
      " 399.66940467 328.48682187 418.3376451  255.50272576 198.86156518\n",
      " 240.6943211  427.80568706 311.29677851 267.85825574 324.55179725\n",
      " 209.91532513 329.50199107 316.88296077 295.36331393 307.73654667\n",
      " 315.01956115 264.13537576 366.25992412 268.56422818 227.85743863\n",
      " 386.49869457 239.4773389  295.4354054  247.9893375  289.73559435\n",
      " 346.66877006 289.28772324 157.4745607  184.40661686 391.81543743\n",
      " 320.21958473 205.22217979 211.7852794  302.16865832 307.74603764\n",
      " 429.21210121 303.88906727 470.14677442 242.83392606 268.83245914\n",
      " 248.77229883 218.8608934  415.61982423 213.57782798 440.346726\n",
      " 424.29423723 297.73033575 408.25594887 297.91935498 490.69636827]\n",
      "new_threshold = 1203.3353916930614\n"
     ]
    },
    {
     "data": {
      "application/vnd.jupyter.widget-view+json": {
       "model_id": "7a3abc84d39c47f48c6b55e4e38a8ef9",
       "version_major": 2,
       "version_minor": 0
      },
      "text/plain": [
       "HBox(children=(FloatProgress(value=1.0, bar_style='info', max=1.0), HTML(value='')))"
      ]
     },
     "metadata": {},
     "output_type": "display_data"
    },
    {
     "name": "stdout",
     "output_type": "stream",
     "text": [
      "\n"
     ]
    },
    {
     "data": {
      "application/vnd.jupyter.widget-view+json": {
       "model_id": "c98c73e3c2924b4e899de6dfb6e5d0ad",
       "version_major": 2,
       "version_minor": 0
      },
      "text/plain": [
       "HBox(children=(FloatProgress(value=1.0, bar_style='info', max=1.0), HTML(value='')))"
      ]
     },
     "metadata": {},
     "output_type": "display_data"
    },
    {
     "name": "stdout",
     "output_type": "stream",
     "text": [
      "\n",
      "filtered_measurements = [276.25487453 264.58210628 271.85930916 292.51610514 480.55393792\n",
      " 317.86628857 403.86610539 232.51117958 259.27531858 382.18658455\n",
      " 425.90830667 571.49587113 267.05091414 296.67057718 416.66387557\n",
      " 275.82844765 393.90748758 372.90251524 540.16294242 327.45281722\n",
      " 306.06639758 551.10122621 414.23572558 296.5097705  410.94711708\n",
      " 360.96634249 267.21545917 422.76772627 383.78145908 411.61207911\n",
      " 236.62123505 229.10076942 513.96821891 352.14365605 328.58003625\n",
      " 523.25614203 452.17750216 293.88614039 184.29240325 234.92570252\n",
      " 187.10135673 248.83862867 331.5269168  425.20968401 370.95601862\n",
      " 304.56561856 352.03655602 276.26811144 284.33362176 392.56443397\n",
      " 342.68719573 391.71306927 291.10024379 470.55247316 474.38629588\n",
      " 312.31177796 275.7829682  559.78052615 297.63189031 338.1713535\n",
      " 411.21034565 284.00339009 368.7661761  529.56957525 445.93697296\n",
      " 265.98881674 444.65824276 322.31189052 345.35154903 310.58055582\n",
      " 308.27408134 375.58634964 404.79596583 428.83167885]\n",
      "new_threshold = 1523.6565261316262\n"
     ]
    },
    {
     "data": {
      "application/vnd.jupyter.widget-view+json": {
       "model_id": "9a0ac9654e95422492e76e454eca32d0",
       "version_major": 2,
       "version_minor": 0
      },
      "text/plain": [
       "HBox(children=(FloatProgress(value=1.0, bar_style='info', max=1.0), HTML(value='')))"
      ]
     },
     "metadata": {},
     "output_type": "display_data"
    },
    {
     "name": "stdout",
     "output_type": "stream",
     "text": [
      "\n"
     ]
    },
    {
     "data": {
      "application/vnd.jupyter.widget-view+json": {
       "model_id": "914bfcff2ecc4a0daa88fa79311b656b",
       "version_major": 2,
       "version_minor": 0
      },
      "text/plain": [
       "HBox(children=(FloatProgress(value=1.0, bar_style='info', max=1.0), HTML(value='')))"
      ]
     },
     "metadata": {},
     "output_type": "display_data"
    },
    {
     "name": "stdout",
     "output_type": "stream",
     "text": [
      "\n",
      "filtered_measurements = [214.01796932 361.68704106 407.17099144 358.47901566 399.66311762\n",
      " 280.45668995 337.33746435 254.49756958 199.62402955 236.55275487\n",
      " 339.39113161 440.17666874 236.45511072 320.02140416 339.57943332\n",
      " 366.8253544  213.69795257 262.36310511 409.41605385 377.28799448\n",
      " 308.25960083 308.08088395 382.46565254 229.78207972 270.6933786\n",
      " 318.51718071 262.37990531 317.880893   243.68767359 483.99305483\n",
      " 361.13274789 429.91174214 263.22564846 223.32812836 366.13235257\n",
      " 217.98884338 271.41874633 467.94818652 469.60518001 338.34812815\n",
      " 426.61554827 400.42040669 274.68419517 456.88862044 406.30812118\n",
      " 353.00429415 432.19013574 380.25478431 285.41261753 170.39372978\n",
      " 346.2849031  388.93767562 390.2326077  228.15815891 291.39688166\n",
      " 307.94793173 483.6120764  205.46801744 343.9360227  286.03038253\n",
      " 255.5884401  295.47488347 450.99240741 327.48482011 185.53064123\n",
      " 218.39616302 324.97136094 278.94166181 291.33925012 302.47196802\n",
      " 253.83025307 194.79905125 166.75837938 186.50817734 206.79303045\n",
      " 235.28649657 271.10442976 353.13312416 460.3873931  312.2936499\n",
      " 245.98328459]\n",
      "new_threshold = 1187.9456732482247\n"
     ]
    },
    {
     "data": {
      "application/vnd.jupyter.widget-view+json": {
       "model_id": "e125f5ce63e44431925561ce52b7086c",
       "version_major": 2,
       "version_minor": 0
      },
      "text/plain": [
       "HBox(children=(FloatProgress(value=1.0, bar_style='info', max=1.0), HTML(value='')))"
      ]
     },
     "metadata": {},
     "output_type": "display_data"
    },
    {
     "name": "stdout",
     "output_type": "stream",
     "text": [
      "\n"
     ]
    },
    {
     "data": {
      "application/vnd.jupyter.widget-view+json": {
       "model_id": "94924e311f494ae1ab387ae138e8e53a",
       "version_major": 2,
       "version_minor": 0
      },
      "text/plain": [
       "HBox(children=(FloatProgress(value=1.0, bar_style='info', max=1.0), HTML(value='')))"
      ]
     },
     "metadata": {},
     "output_type": "display_data"
    },
    {
     "name": "stdout",
     "output_type": "stream",
     "text": [
      "--> Not exactly one containing mesh: []\n",
      "\n",
      "filtered_measurements = [233.81539846 186.30566542 312.40415151 223.39014514]\n",
      "new_threshold = 495.22137032176636\n"
     ]
    },
    {
     "data": {
      "application/vnd.jupyter.widget-view+json": {
       "model_id": "dd9ff440bf394f3aa490f9e23b3d42a1",
       "version_major": 2,
       "version_minor": 0
      },
      "text/plain": [
       "HBox(children=(FloatProgress(value=1.0, bar_style='info', max=1.0), HTML(value='')))"
      ]
     },
     "metadata": {},
     "output_type": "display_data"
    },
    {
     "name": "stdout",
     "output_type": "stream",
     "text": [
      "--> Not exactly one containing mesh: []\n",
      "\n"
     ]
    },
    {
     "data": {
      "application/vnd.jupyter.widget-view+json": {
       "model_id": "3e2dd3e39b2e4a5ebe8b5b06420ccf30",
       "version_major": 2,
       "version_minor": 0
      },
      "text/plain": [
       "HBox(children=(FloatProgress(value=1.0, bar_style='info', max=1.0), HTML(value='')))"
      ]
     },
     "metadata": {},
     "output_type": "display_data"
    },
    {
     "name": "stdout",
     "output_type": "stream",
     "text": [
      "\n",
      "filtered_measurements = [251.02226819 247.20352742 257.93468335 313.79070076 200.87675255\n",
      " 194.27777324 162.3689653  134.24058592]\n",
      "new_threshold = 693.9857348920744\n"
     ]
    },
    {
     "data": {
      "application/vnd.jupyter.widget-view+json": {
       "model_id": "b1b510d2dedd4e33995b1d67597b5b4f",
       "version_major": 2,
       "version_minor": 0
      },
      "text/plain": [
       "HBox(children=(FloatProgress(value=1.0, bar_style='info', max=1.0), HTML(value='')))"
      ]
     },
     "metadata": {},
     "output_type": "display_data"
    },
    {
     "name": "stdout",
     "output_type": "stream",
     "text": [
      "\n"
     ]
    },
    {
     "data": {
      "application/vnd.jupyter.widget-view+json": {
       "model_id": "6ffc7a1612554de5bb7d5ea756414df5",
       "version_major": 2,
       "version_minor": 0
      },
      "text/plain": [
       "HBox(children=(FloatProgress(value=1.0, bar_style='info', max=1.0), HTML(value='')))"
      ]
     },
     "metadata": {},
     "output_type": "display_data"
    },
    {
     "name": "stdout",
     "output_type": "stream",
     "text": [
      "--> Not exactly one containing mesh: []\n",
      "\n",
      "filtered_measurements = [105.54369388 155.44749659  93.83804689]\n",
      "new_threshold = 292.5528731431384\n"
     ]
    },
    {
     "data": {
      "application/vnd.jupyter.widget-view+json": {
       "model_id": "630669b1b30e4b559d1c9fd701b76d1c",
       "version_major": 2,
       "version_minor": 0
      },
      "text/plain": [
       "HBox(children=(FloatProgress(value=1.0, bar_style='info', max=1.0), HTML(value='')))"
      ]
     },
     "metadata": {},
     "output_type": "display_data"
    },
    {
     "name": "stdout",
     "output_type": "stream",
     "text": [
      "--> Not exactly one containing mesh: []\n",
      "--> Not exactly one containing mesh: []\n",
      "\n",
      "branch_touching_number = [5]\n",
      "branch_touching_number = [5, 1]\n",
      "most_branch_containing_piece = 0\n"
     ]
    },
    {
     "data": {
      "application/vnd.jupyter.widget-view+json": {
       "model_id": "40211185b99d462f96670dd0a1e5b7a8",
       "version_major": 2,
       "version_minor": 0
      },
      "text/plain": [
       "HBox(children=(FloatProgress(value=1.0, bar_style='info', max=1.0), HTML(value='')))"
      ]
     },
     "metadata": {},
     "output_type": "display_data"
    },
    {
     "name": "stdout",
     "output_type": "stream",
     "text": [
      "\n",
      "filtered_measurements = [360.30529677 365.62295287 209.36494303 237.25013048 330.65338508\n",
      " 263.58327729 321.33435642 501.9968322  245.20553638 236.6986671\n",
      " 303.50712955 349.05040828 288.21314697 243.36912119 398.92578724\n",
      " 241.61614904 250.32406692 240.14656782 339.03022491 391.83908596\n",
      " 400.77810208 250.01237515 193.26495941 336.11193561 219.83416666\n",
      " 339.13404883 286.98385085 411.84909382 303.91212988 316.76506291\n",
      " 256.56495453 189.26564918 176.60793233 325.4543681  312.78760885\n",
      " 423.96601759 447.85015708 493.78239349 249.26647637 219.80411507\n",
      " 346.32579943 339.00189613 276.18590387 480.04945719 301.84581874\n",
      " 257.31381303 313.68777063]\n",
      "new_threshold = 1278.8176539071542\n"
     ]
    },
    {
     "data": {
      "application/vnd.jupyter.widget-view+json": {
       "model_id": "ff1036ed47e443e8a1ee948819a9391c",
       "version_major": 2,
       "version_minor": 0
      },
      "text/plain": [
       "HBox(children=(FloatProgress(value=1.0, bar_style='info', max=1.0), HTML(value='')))"
      ]
     },
     "metadata": {},
     "output_type": "display_data"
    },
    {
     "name": "stdout",
     "output_type": "stream",
     "text": [
      "\n"
     ]
    },
    {
     "data": {
      "application/vnd.jupyter.widget-view+json": {
       "model_id": "cf90c3ad72c64ac18ffa4fb731660ac1",
       "version_major": 2,
       "version_minor": 0
      },
      "text/plain": [
       "HBox(children=(FloatProgress(value=1.0, bar_style='info', max=1.0), HTML(value='')))"
      ]
     },
     "metadata": {},
     "output_type": "display_data"
    },
    {
     "name": "stdout",
     "output_type": "stream",
     "text": [
      "\n",
      "filtered_measurements = [198.9256831  186.69712733 132.01943985 170.00109803]\n",
      "new_threshold = 409.22825461133016\n"
     ]
    },
    {
     "data": {
      "application/vnd.jupyter.widget-view+json": {
       "model_id": "ac2af4e20d204db1a12b79ae3bb70596",
       "version_major": 2,
       "version_minor": 0
      },
      "text/plain": [
       "HBox(children=(FloatProgress(value=1.0, bar_style='info', max=1.0), HTML(value='')))"
      ]
     },
     "metadata": {},
     "output_type": "display_data"
    },
    {
     "name": "stdout",
     "output_type": "stream",
     "text": [
      "\n"
     ]
    },
    {
     "data": {
      "application/vnd.jupyter.widget-view+json": {
       "model_id": "f741347cd2f144ce852947f7d2548098",
       "version_major": 2,
       "version_minor": 0
      },
      "text/plain": [
       "HBox(children=(FloatProgress(value=1.0, bar_style='info', max=1.0), HTML(value='')))"
      ]
     },
     "metadata": {},
     "output_type": "display_data"
    },
    {
     "name": "stdout",
     "output_type": "stream",
     "text": [
      "\n",
      "filtered_measurements = [313.42773013 287.66994355 203.30503966 295.42051727 345.68926224]\n",
      "new_threshold = 708.3318330128247\n"
     ]
    },
    {
     "data": {
      "application/vnd.jupyter.widget-view+json": {
       "model_id": "97113ddfdc6c443d8f31c9c27cc9d62a",
       "version_major": 2,
       "version_minor": 0
      },
      "text/plain": [
       "HBox(children=(FloatProgress(value=1.0, bar_style='info', max=1.0), HTML(value='')))"
      ]
     },
     "metadata": {},
     "output_type": "display_data"
    },
    {
     "name": "stdout",
     "output_type": "stream",
     "text": [
      "\n"
     ]
    },
    {
     "data": {
      "application/vnd.jupyter.widget-view+json": {
       "model_id": "5b780fd1f65442699594b1f875dee90a",
       "version_major": 2,
       "version_minor": 0
      },
      "text/plain": [
       "HBox(children=(FloatProgress(value=1.0, bar_style='info', max=1.0), HTML(value='')))"
      ]
     },
     "metadata": {},
     "output_type": "display_data"
    },
    {
     "name": "stdout",
     "output_type": "stream",
     "text": [
      "\n",
      "filtered_measurements = [347.507409   433.894777   424.55151501 397.03426634 308.96714109\n",
      " 241.95044676 201.41978759 443.4290523  305.74741048 185.85458581\n",
      " 191.56697471 281.53336364 257.33917001 367.2402806  269.24730766\n",
      " 176.46186853 434.43474781 396.9779213  298.34797082]\n",
      "new_threshold = 1076.669326766795\n"
     ]
    },
    {
     "data": {
      "application/vnd.jupyter.widget-view+json": {
       "model_id": "a0b876c5920440c5a0e63fc6366d41ec",
       "version_major": 2,
       "version_minor": 0
      },
      "text/plain": [
       "HBox(children=(FloatProgress(value=1.0, bar_style='info', max=1.0), HTML(value='')))"
      ]
     },
     "metadata": {},
     "output_type": "display_data"
    },
    {
     "name": "stdout",
     "output_type": "stream",
     "text": [
      "\n"
     ]
    },
    {
     "data": {
      "application/vnd.jupyter.widget-view+json": {
       "model_id": "c7372e89495d4fff9480337a9d8bc9d5",
       "version_major": 2,
       "version_minor": 0
      },
      "text/plain": [
       "HBox(children=(FloatProgress(value=1.0, bar_style='info', max=1.0), HTML(value='')))"
      ]
     },
     "metadata": {},
     "output_type": "display_data"
    },
    {
     "name": "stdout",
     "output_type": "stream",
     "text": [
      "--> Not exactly one containing mesh: []\n",
      "\n",
      "filtered_measurements = [200.67143007  86.10092992 186.78483615 216.75959832]\n",
      "new_threshold = 438.31360601804084\n"
     ]
    },
    {
     "data": {
      "application/vnd.jupyter.widget-view+json": {
       "model_id": "336959bffaad49d6b1e2e22d37d328e1",
       "version_major": 2,
       "version_minor": 0
      },
      "text/plain": [
       "HBox(children=(FloatProgress(value=1.0, bar_style='info', max=1.0), HTML(value='')))"
      ]
     },
     "metadata": {},
     "output_type": "display_data"
    },
    {
     "name": "stdout",
     "output_type": "stream",
     "text": [
      "--> Not exactly one containing mesh: []\n",
      "\n",
      "branch_touching_number = [5]\n",
      "branch_touching_number = [5, 1]\n",
      "most_branch_containing_piece = 0\n"
     ]
    },
    {
     "data": {
      "application/vnd.jupyter.widget-view+json": {
       "model_id": "d8465b8f63604440bbc7b1ab9bf88080",
       "version_major": 2,
       "version_minor": 0
      },
      "text/plain": [
       "HBox(children=(FloatProgress(value=1.0, bar_style='info', max=1.0), HTML(value='')))"
      ]
     },
     "metadata": {},
     "output_type": "display_data"
    },
    {
     "name": "stdout",
     "output_type": "stream",
     "text": [
      "--> Not exactly one containing mesh: []\n",
      "\n",
      "filtered_measurements = [129.36602052 125.2481181  127.04646225 118.00489696 183.60619969\n",
      " 171.12666304 141.91088411 169.10691805 262.87661232 226.16463891\n",
      " 201.00479524 186.31628061 109.10163952 111.2484284 ]\n",
      "new_threshold = 468.28408115253967\n"
     ]
    },
    {
     "data": {
      "application/vnd.jupyter.widget-view+json": {
       "model_id": "b47c0e7bc4744840b8dde9b76b7ec9d3",
       "version_major": 2,
       "version_minor": 0
      },
      "text/plain": [
       "HBox(children=(FloatProgress(value=1.0, bar_style='info', max=1.0), HTML(value='')))"
      ]
     },
     "metadata": {},
     "output_type": "display_data"
    },
    {
     "name": "stdout",
     "output_type": "stream",
     "text": [
      "--> Not exactly one containing mesh: []\n",
      "\n"
     ]
    },
    {
     "data": {
      "application/vnd.jupyter.widget-view+json": {
       "model_id": "97b8f36b9e18418982e283a012f286da",
       "version_major": 2,
       "version_minor": 0
      },
      "text/plain": [
       "HBox(children=(FloatProgress(value=1.0, bar_style='info', max=1.0), HTML(value='')))"
      ]
     },
     "metadata": {},
     "output_type": "display_data"
    },
    {
     "name": "stdout",
     "output_type": "stream",
     "text": [
      "--> Not exactly one containing mesh: []\n",
      "\n",
      "filtered_measurements = [177.31402235 318.11009797 287.96370521 196.73125321 315.16487506\n",
      " 369.02127062 240.81686151 147.68858719 174.28459847 182.4521505\n",
      " 276.96409761 252.26162521]\n",
      "new_threshold = 742.2357678008193\n"
     ]
    },
    {
     "data": {
      "application/vnd.jupyter.widget-view+json": {
       "model_id": "3c4f0e480b6c40f89416d06bda722ed8",
       "version_major": 2,
       "version_minor": 0
      },
      "text/plain": [
       "HBox(children=(FloatProgress(value=1.0, bar_style='info', max=1.0), HTML(value='')))"
      ]
     },
     "metadata": {},
     "output_type": "display_data"
    },
    {
     "name": "stdout",
     "output_type": "stream",
     "text": [
      "--> Not exactly one containing mesh: []\n",
      "\n"
     ]
    },
    {
     "data": {
      "application/vnd.jupyter.widget-view+json": {
       "model_id": "0ac1adf46eb441b586dc691b1c46b710",
       "version_major": 2,
       "version_minor": 0
      },
      "text/plain": [
       "HBox(children=(FloatProgress(value=1.0, bar_style='info', max=1.0), HTML(value='')))"
      ]
     },
     "metadata": {},
     "output_type": "display_data"
    },
    {
     "name": "stdout",
     "output_type": "stream",
     "text": [
      "\n",
      "filtered_measurements = [1382.00196137 1650.76519965]\n",
      "new_threshold = 3161.451592218743\n"
     ]
    },
    {
     "data": {
      "application/vnd.jupyter.widget-view+json": {
       "model_id": "d59f7b9c53e640c38d0eaf27937b4021",
       "version_major": 2,
       "version_minor": 0
      },
      "text/plain": [
       "HBox(children=(FloatProgress(value=1.0, bar_style='info', max=1.0), HTML(value='')))"
      ]
     },
     "metadata": {},
     "output_type": "display_data"
    },
    {
     "name": "stdout",
     "output_type": "stream",
     "text": [
      "\n"
     ]
    },
    {
     "data": {
      "application/vnd.jupyter.widget-view+json": {
       "model_id": "3d2c4d64ec6747b68a3448f40a2b42b2",
       "version_major": 2,
       "version_minor": 0
      },
      "text/plain": [
       "HBox(children=(FloatProgress(value=1.0, bar_style='info', max=1.0), HTML(value='')))"
      ]
     },
     "metadata": {},
     "output_type": "display_data"
    },
    {
     "name": "stdout",
     "output_type": "stream",
     "text": [
      "\n",
      "filtered_measurements = [663.1598191]\n",
      "new_threshold = 909.9761516928163\n"
     ]
    },
    {
     "data": {
      "application/vnd.jupyter.widget-view+json": {
       "model_id": "cd24e8bf3cb249ccb28237cf7f8cae27",
       "version_major": 2,
       "version_minor": 0
      },
      "text/plain": [
       "HBox(children=(FloatProgress(value=1.0, bar_style='info', max=1.0), HTML(value='')))"
      ]
     },
     "metadata": {},
     "output_type": "display_data"
    },
    {
     "name": "stdout",
     "output_type": "stream",
     "text": [
      "\n",
      "\n",
      "Working on limb #3\n"
     ]
    },
    {
     "data": {
      "application/vnd.jupyter.widget-view+json": {
       "model_id": "d056e98694ae46108bad85d5f3cdb25d",
       "version_major": 2,
       "version_minor": 0
      },
      "text/plain": [
       "HBox(children=(FloatProgress(value=1.0, bar_style='info', max=1.0), HTML(value='')))"
      ]
     },
     "metadata": {},
     "output_type": "display_data"
    },
    {
     "data": {
      "application/vnd.jupyter.widget-view+json": {
       "model_id": "5d828d874bd94c479796bb9731f432c8",
       "version_major": 2,
       "version_minor": 0
      },
      "text/plain": [
       "HBox(children=(FloatProgress(value=1.0, bar_style='info', max=1.0), HTML(value='')))"
      ]
     },
     "metadata": {},
     "output_type": "display_data"
    },
    {
     "name": "stdout",
     "output_type": "stream",
     "text": [
      "--> Not exactly one containing mesh: []\n",
      "--> Not exactly one containing mesh: []\n",
      "--> Not exactly one containing mesh: []\n",
      "--> Not exactly one containing mesh: []\n",
      "\n",
      "filtered_measurements = [113.19161935  59.33920169 132.81013406  91.64746685  79.03756031\n",
      " 110.4117165  183.01833026 136.26523671  86.5226696  118.02602697\n",
      "  71.57467544 117.25258024  84.22725873 101.2638171  145.99291258\n",
      " 113.89909651 101.41487985 117.03718129 154.9069833  159.37639484\n",
      " 128.26031922 124.53760294 137.78052457  97.59332318  72.94579878\n",
      "  83.0854182   89.76147509 147.84317277 112.16470239  88.99156629\n",
      " 101.28048931 132.212578    94.06312584 124.34572578  92.62799435\n",
      "  68.03095233  59.08716748  74.03640984  67.89263186]\n",
      "new_threshold = 350.4685256210107\n"
     ]
    },
    {
     "data": {
      "application/vnd.jupyter.widget-view+json": {
       "model_id": "99de523bedf3403c85b0e22e0dd23212",
       "version_major": 2,
       "version_minor": 0
      },
      "text/plain": [
       "HBox(children=(FloatProgress(value=1.0, bar_style='info', max=1.0), HTML(value='')))"
      ]
     },
     "metadata": {},
     "output_type": "display_data"
    },
    {
     "name": "stdout",
     "output_type": "stream",
     "text": [
      "--> Not exactly one containing mesh: []\n",
      "--> Not exactly one containing mesh: []\n",
      "--> Not exactly one containing mesh: []\n",
      "--> Not exactly one containing mesh: []\n",
      "--> Not exactly one containing mesh: []\n",
      "\n",
      "branch_touching_number = [40]\n",
      "branch_touching_number = [40, 17]\n",
      "most_branch_containing_piece = 0\n",
      "\n",
      "Total time = 47.81223750114441\n"
     ]
    }
   ],
   "source": [
    "sk = reload(sk)\n",
    "tu = reload(tu)\n",
    "cu = reload(cu)\n",
    "from tqdm.notebook import tqdm\n",
    "import time\n",
    "import itertools\n",
    "\n",
    "start_time = time.time()\n",
    "\n",
    "limb_correspondence = dict()\n",
    "soma_containing_idx= 0\n",
    "\n",
    "total_branch_meshes = []\n",
    "total_branch_skeletons = []\n",
    "\n",
    "empty_submeshes = []\n",
    "for soma_containing_idx in current_mesh_data.keys():\n",
    "    for limb_idx,curr_limb_mesh in enumerate(current_mesh_data[soma_containing_idx][\"branch_meshes\"]):\n",
    "        print(f\"Working on limb #{limb_idx}\")\n",
    "        limb_correspondence[limb_idx] = dict()\n",
    "        curr_limb_sk = current_mesh_data[soma_containing_idx][\"branch_skeletons_cleaned\"][limb_idx]\n",
    "        curr_limb_branches_sk_uneven = sk.decompose_skeleton_to_branches(curr_limb_sk) #the line that is decomposing to branches\n",
    "        \n",
    "        for j,curr_branch_sk in tqdm(enumerate(curr_limb_branches_sk_uneven)):\n",
    "            limb_correspondence[limb_idx][j] = dict()\n",
    "            \n",
    "            \n",
    "            curr_branch_face_correspondence, width_from_skeleton = cu.mesh_correspondence_adaptive_distance(curr_branch_sk,\n",
    "                                          curr_limb_mesh,\n",
    "                                         skeleton_segment_width = 1000)\n",
    "            \n",
    "            \n",
    "            \n",
    "            if len(curr_branch_face_correspondence) > 0:\n",
    "                curr_submesh = curr_limb_mesh.submesh([list(curr_branch_face_correspondence)],append=True)\n",
    "            else:\n",
    "                curr_submesh = trimesh.Trimesh(vertices=np.array([]),faces=np.array([]))\n",
    "                \n",
    "            limb_correspondence[limb_idx][j][\"branch_skeleton\"] = curr_branch_sk\n",
    "            limb_correspondence[limb_idx][j][\"correspondence_mesh\"] = curr_submesh\n",
    "            limb_correspondence[limb_idx][j][\"correspondence_face_idx\"] = curr_branch_face_correspondence\n",
    "            limb_correspondence[limb_idx][j][\"width_from_skeleton\"] = width_from_skeleton\n",
    "            \n",
    "            total_branch_meshes.append(curr_submesh)\n",
    "            total_branch_skeletons.append(curr_branch_sk)\n",
    "            \n",
    "            if len(curr_submesh.faces) == 0:\n",
    "                empty_submeshes.append(dict(limb_idx=limb_idx,branch_number=j))\n",
    "            \n",
    "            \n",
    "print(f\"Total time = {time.time() - start_time}\")"
   ]
  },
  {
   "cell_type": "code",
   "execution_count": 23,
   "metadata": {},
   "outputs": [
    {
     "name": "stdout",
     "output_type": "stream",
     "text": [
      "\n",
      "---- checking limb 0---\n",
      "Limb 0 decomposed into 29 branches\n",
      "divided_skeleton_graph_recovered = (3099, 2, 3) and \n",
      "current_mesh_data[0]['branch_skeletons_cleaned'].shape = (3099, 2, 3)\n",
      "\n",
      "Number of connected components in deocmposed recovered graph = 1\n",
      "Number of connected components in cleaned skeleton graph= 1\n",
      "The downsampled branches number of connected components = 1\n",
      "\n",
      "---- checking limb 1---\n",
      "Limb 1 decomposed into 17 branches\n",
      "divided_skeleton_graph_recovered = (1439, 2, 3) and \n",
      "current_mesh_data[0]['branch_skeletons_cleaned'].shape = (1439, 2, 3)\n",
      "\n",
      "Number of connected components in deocmposed recovered graph = 1\n",
      "Number of connected components in cleaned skeleton graph= 1\n",
      "The downsampled branches number of connected components = 1\n",
      "\n",
      "---- checking limb 2---\n",
      "Limb 2 decomposed into 23 branches\n",
      "divided_skeleton_graph_recovered = (1388, 2, 3) and \n",
      "current_mesh_data[0]['branch_skeletons_cleaned'].shape = (1388, 2, 3)\n",
      "\n",
      "Number of connected components in deocmposed recovered graph = 1\n",
      "Number of connected components in cleaned skeleton graph= 1\n",
      "The downsampled branches number of connected components = 1\n",
      "\n",
      "---- checking limb 3---\n",
      "Limb 3 decomposed into 1 branches\n",
      "only one skeleton so no stacking needed\n",
      "divided_skeleton_graph_recovered = (150, 2, 3) and \n",
      "current_mesh_data[0]['branch_skeletons_cleaned'].shape = (150, 2, 3)\n",
      "\n",
      "Number of connected components in deocmposed recovered graph = 1\n",
      "Number of connected components in cleaned skeleton graph= 1\n",
      "only one skeleton so no stacking needed\n",
      "The downsampled branches number of connected components = 1\n",
      "Empty submeshes = []\n"
     ]
    }
   ],
   "source": [
    "#couple of checks on how the decomposition went\n",
    "nu = reload(nu)\n",
    "sk = reload(sk)\n",
    "empty_submeshes = []\n",
    "\n",
    "for soma_containing_idx in current_mesh_data.keys():\n",
    "    for limb_idx,curr_limb_mesh in enumerate(current_mesh_data[soma_containing_idx][\"branch_meshes\"]):\n",
    "        print(f\"\\n---- checking limb {limb_idx}---\")\n",
    "        print(f\"Limb {limb_idx} decomposed into {len(limb_correspondence[limb_idx])} branches\")\n",
    "        \n",
    "        #get all of the skeletons and make sure that they from a connected component\n",
    "        divided_branches = [limb_correspondence[limb_idx][k][\"branch_skeleton\"] for k in limb_correspondence[limb_idx]]\n",
    "        divided_skeleton_graph = sk.convert_skeleton_to_graph(\n",
    "                                        sk.stack_skeletons(divided_branches))\n",
    "        \n",
    "        divided_skeleton_graph_recovered = sk.convert_graph_to_skeleton(divided_skeleton_graph)\n",
    "        \n",
    "        cleaned_limb_skeleton = current_mesh_data[0]['branch_skeletons_cleaned'][limb_idx]\n",
    "        print(f\"divided_skeleton_graph_recovered = {divided_skeleton_graph_recovered.shape} and \\n\"\n",
    "              f\"current_mesh_data[0]['branch_skeletons_cleaned'].shape = {cleaned_limb_skeleton.shape}\\n\")\n",
    "        if divided_skeleton_graph_recovered.shape != cleaned_limb_skeleton.shape:\n",
    "            print(f\"****divided_skeleton_graph_recovered and cleaned_limb_skeleton shapes not match: \"\n",
    "                            f\"{divided_skeleton_graph_recovered.shape} vs. {cleaned_limb_skeleton.shape} *****\")\n",
    "        \n",
    "        \n",
    "        #check that it is all one component\n",
    "        divided_skeleton_graph_n_comp = nx.number_connected_components(divided_skeleton_graph)\n",
    "        print(f\"Number of connected components in deocmposed recovered graph = {divided_skeleton_graph_n_comp}\")\n",
    "        \n",
    "        cleaned_limb_skeleton_graph = sk.convert_skeleton_to_graph(cleaned_limb_skeleton)\n",
    "        cleaned_limb_skeleton_graph_n_comp = nx.number_connected_components(cleaned_limb_skeleton_graph)\n",
    "        print(f\"Number of connected components in cleaned skeleton graph= {cleaned_limb_skeleton_graph_n_comp}\")\n",
    "        \n",
    "        if divided_skeleton_graph_n_comp > 1 or cleaned_limb_skeleton_graph_n_comp > 1:\n",
    "            raise Exception(f\"One of the decompose_skeletons or cleaned skeletons was not just one component : {divided_skeleton_graph_n_comp,cleaned_limb_skeleton_graph_n_comp}\")\n",
    "        \n",
    "        #check that when we downsample it is not one component:\n",
    "        curr_branch_meshes_downsampled = [sk.resize_skeleton_branch(b,n_segments=1) for b in divided_branches]\n",
    "        downsampled_skeleton = sk.stack_skeletons(curr_branch_meshes_downsampled)\n",
    "        curr_sk_graph_debug = sk.convert_skeleton_to_graph(downsampled_skeleton)\n",
    "\n",
    "\n",
    "        con_comp = list(nx.connected_components(curr_sk_graph_debug))\n",
    "        if len(con_comp) > 1:\n",
    "            raise Exception(f\"There were more than 1 component when downsizing: {[len(k) for k in con_comp]}\")\n",
    "        else:\n",
    "            print(f\"The downsampled branches number of connected components = {len(con_comp)}\")\n",
    "        \n",
    "        \n",
    "        for j in limb_correspondence[limb_idx].keys():\n",
    "            if len(limb_correspondence[limb_idx][j][\"correspondence_mesh\"].faces) == 0:\n",
    "                empty_submeshes.append(dict(limb_idx=limb_idx,branch_idx = j))\n",
    "        \n",
    "print(f\"Empty submeshes = {empty_submeshes}\")\n",
    "\n",
    "if len(empty_submeshes) > 0:\n",
    "    raise Exception(f\"Found empyt meshes after branch mesh correspondence: {empty_submeshes}\")"
   ]
  },
  {
   "cell_type": "code",
   "execution_count": 24,
   "metadata": {},
   "outputs": [],
   "source": [
    "# sk = reload(sk)\n",
    "# import matplotlib_utils as mu\n",
    "# mu = reload(mu)\n",
    "# sk.graph_skeleton_and_mesh(other_meshes=total_branch_meshes,\n",
    "#                           other_meshes_colors=\"random\",\n",
    "#                            other_skeletons=total_branch_skeletons,\n",
    "#                            other_skeletons_colors=\"random\"\n",
    "#                           )"
   ]
  },
  {
   "cell_type": "markdown",
   "metadata": {},
   "source": [
    "# Finishing off the face correspondence so get 1-to-1 correspondence of mesh face to skeletal piece"
   ]
  },
  {
   "cell_type": "code",
   "execution_count": 25,
   "metadata": {},
   "outputs": [
    {
     "data": {
      "text/plain": [
       "'\\nInput: \\n- full mesh\\n- current face coloring of mesh (could be incomplete) corresponding to skeletal pieces\\n(but doesn\\'t need the skeletal pieces to do it\\'s jobs, those are just represented in the labels)\\n\\nOutput: \\n- better face coloring which has labels that:\\n    a. cover entire mesh\\n    b. the labels exist as only 1 connected component on the mesh\\n\\n\\n\\nPseudocode of what doing:\\n- clearing out the branch_mesh correspondence stored in limb_correspondence[limb_idx][k][\"branch_mesh\"]\\n- gets a list of how many subdivided branches there were (becuase this should be the number of labels) and the mesh of whole limb\\n- Builds a face to skeleeton branch correspondence bassed on the current  branch_piece[\"correspondence_face_idx\"] that already exists\\n    This may have overlaps or faces mapped to zero branches that we need to resolve\\n- computes the percentage of empty and conflicting faces \\n- makes sure that at least one face that corresponds to each branch piece (and throws error if so)\\n\\n#Doing the resolution of the empty and conflicting faces:\\n- clears out all conflicting faces and leaves them just like the empty ones\\n- uses the filter_face_coloring_to_connected_components which only keeps the largest connected component of a label \\n    (because the zeroing out of conflicting labels could have eliminated or split up some of the labels)\\n- if  a face was totally eliminated then add it back to the face coloring\\n(only does this once so a face could still be missing if one face totally overwrites another face)\\n\\n**At this point: there is at one-to-one correspondence of mesh face to skeletal piece label OR empty label (-1)\\n\\n# Using the waterfilling algorithm: designed at fixing the correspondence to empty label (-1) \\n- get a submesh of the original mesh but only for those empty faces and divide into disconnecteed mesh pieces\\n- run through waterfilling algorithm to color each empty piece\\n- check that there are no more empty faces\\n- gets the one connected mesh component that corresponds to that label (get both the actual mesh and the mesh indexes)\\n\\n#the output of all of the algorithm: \\n- save the result back in  limb_correspondence[limb_idx][k][\"branch_mesh\"] so it is accurately updated\\n\\n\\n'"
      ]
     },
     "execution_count": 25,
     "metadata": {},
     "output_type": "execute_result"
    }
   ],
   "source": [
    "\"\"\"\n",
    "Input: \n",
    "- full mesh\n",
    "- current face coloring of mesh (could be incomplete) corresponding to skeletal pieces\n",
    "(but doesn't need the skeletal pieces to do it's jobs, those are just represented in the labels)\n",
    "\n",
    "Output: \n",
    "- better face coloring which has labels that:\n",
    "    a. cover entire mesh\n",
    "    b. the labels exist as only 1 connected component on the mesh\n",
    "\n",
    "\n",
    "\n",
    "Pseudocode of what doing:\n",
    "- clearing out the branch_mesh correspondence stored in limb_correspondence[limb_idx][k][\"branch_mesh\"]\n",
    "- gets a list of how many subdivided branches there were (becuase this should be the number of labels) and the mesh of whole limb\n",
    "- Builds a face to skeleeton branch correspondence bassed on the current  branch_piece[\"correspondence_face_idx\"] that already exists\n",
    "    This may have overlaps or faces mapped to zero branches that we need to resolve\n",
    "- computes the percentage of empty and conflicting faces \n",
    "- makes sure that at least one face that corresponds to each branch piece (and throws error if so)\n",
    "\n",
    "#Doing the resolution of the empty and conflicting faces:\n",
    "- clears out all conflicting faces and leaves them just like the empty ones\n",
    "- uses the filter_face_coloring_to_connected_components which only keeps the largest connected component of a label \n",
    "    (because the zeroing out of conflicting labels could have eliminated or split up some of the labels)\n",
    "- if  a face was totally eliminated then add it back to the face coloring\n",
    "(only does this once so a face could still be missing if one face totally overwrites another face)\n",
    "\n",
    "**At this point: there is at one-to-one correspondence of mesh face to skeletal piece label OR empty label (-1)\n",
    "\n",
    "# Using the waterfilling algorithm: designed at fixing the correspondence to empty label (-1) \n",
    "- get a submesh of the original mesh but only for those empty faces and divide into disconnecteed mesh pieces\n",
    "- run through waterfilling algorithm to color each empty piece\n",
    "- check that there are no more empty faces\n",
    "- gets the one connected mesh component that corresponds to that label (get both the actual mesh and the mesh indexes)\n",
    "\n",
    "#the output of all of the algorithm: \n",
    "- save the result back in  limb_correspondence[limb_idx][k][\"branch_mesh\"] so it is accurately updated\n",
    "\n",
    "\n",
    "\"\"\""
   ]
  },
  {
   "cell_type": "code",
   "execution_count": 26,
   "metadata": {},
   "outputs": [
    {
     "name": "stdout",
     "output_type": "stream",
     "text": [
      "\n",
      "\n",
      "Working on limb_correspondence for #0\n",
      "max(original_labels),len(original_labels) = (28, 29)\n",
      "empty_indices % = 0.07788403386755367\n",
      " conflict_indices % = 0.018281927225078116\n"
     ]
    },
    {
     "data": {
      "application/vnd.jupyter.widget-view+json": {
       "model_id": "b8f4b0a59ca14a0d9a0ba837d76cafba",
       "version_major": 2,
       "version_minor": 0
      },
      "text/plain": [
       "HBox(children=(FloatProgress(value=0.0, max=344.0), HTML(value='')))"
      ]
     },
     "metadata": {},
     "output_type": "display_data"
    },
    {
     "name": "stdout",
     "output_type": "stream",
     "text": [
      "\n"
     ]
    },
    {
     "data": {
      "application/vnd.jupyter.widget-view+json": {
       "model_id": "77234834fcc74d08a469d07808ff4a90",
       "version_major": 2,
       "version_minor": 0
      },
      "text/plain": [
       "HBox(children=(FloatProgress(value=0.0, max=29.0), HTML(value='')))"
      ]
     },
     "metadata": {},
     "output_type": "display_data"
    },
    {
     "name": "stdout",
     "output_type": "stream",
     "text": [
      "\n",
      "Total time for limb mesh processing = 2.6255979537963867\n",
      "\n",
      "\n",
      "Working on limb_correspondence for #1\n",
      "max(original_labels),len(original_labels) = (16, 17)\n",
      "empty_indices % = 0.09745723895148731\n",
      " conflict_indices % = 0.01529844398204494\n"
     ]
    },
    {
     "data": {
      "application/vnd.jupyter.widget-view+json": {
       "model_id": "44ea13cc1f894e958376f11f9bb7c9c5",
       "version_major": 2,
       "version_minor": 0
      },
      "text/plain": [
       "HBox(children=(FloatProgress(value=0.0, max=194.0), HTML(value='')))"
      ]
     },
     "metadata": {},
     "output_type": "display_data"
    },
    {
     "name": "stdout",
     "output_type": "stream",
     "text": [
      "\n"
     ]
    },
    {
     "data": {
      "application/vnd.jupyter.widget-view+json": {
       "model_id": "d8ba8f941be84a4d8b8460f35c96eff9",
       "version_major": 2,
       "version_minor": 0
      },
      "text/plain": [
       "HBox(children=(FloatProgress(value=0.0, max=17.0), HTML(value='')))"
      ]
     },
     "metadata": {},
     "output_type": "display_data"
    },
    {
     "name": "stdout",
     "output_type": "stream",
     "text": [
      "\n",
      "Total time for limb mesh processing = 1.3446502685546875\n",
      "\n",
      "\n",
      "Working on limb_correspondence for #2\n",
      "max(original_labels),len(original_labels) = (22, 23)\n",
      "empty_indices % = 0.07813855659261207\n",
      " conflict_indices % = 0.024267122387274877\n"
     ]
    },
    {
     "data": {
      "application/vnd.jupyter.widget-view+json": {
       "model_id": "b1fe4c9c160246ef80403d4010d8ce06",
       "version_major": 2,
       "version_minor": 0
      },
      "text/plain": [
       "HBox(children=(FloatProgress(value=0.0, max=201.0), HTML(value='')))"
      ]
     },
     "metadata": {},
     "output_type": "display_data"
    },
    {
     "name": "stdout",
     "output_type": "stream",
     "text": [
      "\n"
     ]
    },
    {
     "data": {
      "application/vnd.jupyter.widget-view+json": {
       "model_id": "3cba62cff9cb488996356bebcf80bd85",
       "version_major": 2,
       "version_minor": 0
      },
      "text/plain": [
       "HBox(children=(FloatProgress(value=0.0, max=23.0), HTML(value='')))"
      ]
     },
     "metadata": {},
     "output_type": "display_data"
    },
    {
     "name": "stdout",
     "output_type": "stream",
     "text": [
      "\n",
      "Total time for limb mesh processing = 1.3928735256195068\n",
      "\n",
      "\n",
      "Working on limb_correspondence for #3\n",
      "max(original_labels),len(original_labels) = (0, 1)\n",
      "empty_indices % = 0.4667149059334298\n",
      " conflict_indices % = 0.0\n"
     ]
    },
    {
     "data": {
      "application/vnd.jupyter.widget-view+json": {
       "model_id": "35a56e96a98e481dbf7599e797d99596",
       "version_major": 2,
       "version_minor": 0
      },
      "text/plain": [
       "HBox(children=(FloatProgress(value=0.0, max=7.0), HTML(value='')))"
      ]
     },
     "metadata": {},
     "output_type": "display_data"
    },
    {
     "name": "stdout",
     "output_type": "stream",
     "text": [
      "\n"
     ]
    },
    {
     "data": {
      "application/vnd.jupyter.widget-view+json": {
       "model_id": "de3f9a383ac3478487f2579340d42940",
       "version_major": 2,
       "version_minor": 0
      },
      "text/plain": [
       "HBox(children=(FloatProgress(value=0.0, max=1.0), HTML(value='')))"
      ]
     },
     "metadata": {},
     "output_type": "display_data"
    },
    {
     "name": "stdout",
     "output_type": "stream",
     "text": [
      "\n",
      "Total time for limb mesh processing = 0.11756610870361328\n"
     ]
    }
   ],
   "source": [
    "#--- this is the function that will clean up a limb piece so have 1-1 correspondence\n",
    "\n",
    "cu = reload(cu)\n",
    "tu = reload(tu)\n",
    "\n",
    "#things to prep for visualizing the axons\n",
    "total_widths = []\n",
    "total_branch_skeletons = []\n",
    "total_branch_meshes = []\n",
    "\n",
    "soma_containing_idx = 0\n",
    "import time\n",
    "for limb_idx in limb_correspondence.keys():\n",
    "    mesh_start_time = time.time()\n",
    "    #clear out the mesh correspondence if already in limb_correspondecne\n",
    "    for k in limb_correspondence[limb_idx].keys():\n",
    "        if \"branch_mesh\" in limb_correspondence[limb_idx][k]:\n",
    "            del limb_correspondence[limb_idx][k][\"branch_mesh\"]\n",
    "        if \"branch_face_idx\" in limb_correspondence[limb_idx][k]:\n",
    "            del limb_correspondence[limb_idx][k][\"branch_face_idx\"]\n",
    "    #geting the current limb mesh\n",
    "    print(f\"\\n\\nWorking on limb_correspondence for #{limb_idx}\")\n",
    "    no_missing_labels = list(limb_correspondence[limb_idx].keys()) #counts the number of divided branches which should be the total number of labels\n",
    "    curr_limb_mesh = current_mesh_data[soma_containing_idx][\"branch_meshes\"][limb_idx]\n",
    "\n",
    "    #set up the face dictionary\n",
    "    face_lookup = dict([(j,[]) for j in range(0,len(curr_limb_mesh.faces))])\n",
    "\n",
    "    for j,branch_piece in limb_correspondence[limb_idx].items():\n",
    "        curr_faces_corresponded = branch_piece[\"correspondence_face_idx\"]\n",
    "\n",
    "        for c in curr_faces_corresponded:\n",
    "            face_lookup[c].append(j)\n",
    "\n",
    "    original_labels = set(list(itertools.chain.from_iterable(list(face_lookup.values()))))\n",
    "    print(f\"max(original_labels),len(original_labels) = {(max(original_labels),len(original_labels))}\")\n",
    "    \n",
    "    \n",
    "    if len(original_labels) != len(no_missing_labels):\n",
    "        raise Exception(f\"len(original_labels) != len(no_missing_labels) for original_labels = {len(original_labels)},no_missing_labels = {len(no_missing_labels)}\")\n",
    "    \n",
    "    if max(original_labels) + 1 > len(original_labels):\n",
    "        raise Exception(\"There are some missing labels in the initial labeling\")\n",
    "        \n",
    "    \n",
    "        \n",
    "    #here is where can call the function that resolves the face labels\n",
    "    face_coloring_copy = cu.resolve_empty_conflicting_face_labels(\n",
    "                     curr_limb_mesh = curr_limb_mesh,\n",
    "                     face_lookup=face_lookup,\n",
    "                     no_missing_labels = list(original_labels)\n",
    "    )\n",
    "    \n",
    "\n",
    "    # -- splitting the mesh pieces into individual pieces\n",
    "    divided_submeshes,divided_submeshes_idx = tu.split_mesh_into_face_groups(curr_limb_mesh,face_coloring_copy)\n",
    "    \n",
    "    #-- check that all the split mesh pieces are one component --#\n",
    "\n",
    "    #save off the new data as branch mesh\n",
    "    for k in limb_correspondence[limb_idx].keys():\n",
    "        limb_correspondence[limb_idx][k][\"branch_mesh\"] = divided_submeshes[k]\n",
    "        limb_correspondence[limb_idx][k][\"branch_face_idx\"] = divided_submeshes_idx[k]\n",
    "        total_widths.append(limb_correspondence[limb_idx][k][\"width_from_skeleton\"])\n",
    "        total_branch_skeletons.append(limb_correspondence[limb_idx][k][\"branch_skeleton\"])\n",
    "        total_branch_meshes.append(limb_correspondence[limb_idx][k][\"branch_mesh\"])\n",
    "    \n",
    "    print(f\"Total time for limb mesh processing = {time.time() - mesh_start_time}\")"
   ]
  },
  {
   "cell_type": "markdown",
   "metadata": {},
   "source": [
    "# Visualizing the results of getting the mesh to skeletal segment correspondence completely 1-to-1"
   ]
  },
  {
   "cell_type": "code",
   "execution_count": 27,
   "metadata": {},
   "outputs": [
    {
     "data": {
      "image/png": "[encoded data removed]",
      "text/plain": [
       "<Figure size 432x288 with 1 Axes>"
      ]
     },
     "metadata": {
      "needs_background": "light"
     },
     "output_type": "display_data"
    }
   ],
   "source": [
    "from matplotlib import pyplot as plt\n",
    "fig,ax = plt.subplots(1,1)\n",
    "bins = plt.hist(np.array(total_widths),bins=100)\n",
    "ax.set_xlabel(\"Width measurement of mesh branch (nm)\")\n",
    "ax.set_ylabel(\"frequency\")\n",
    "ax.set_title(\"Width measurement of mesh branch frequency\")\n",
    "plt.show()"
   ]
  },
  {
   "cell_type": "code",
   "execution_count": 28,
   "metadata": {},
   "outputs": [
    {
     "data": {
      "application/vnd.jupyter.widget-view+json": {
       "model_id": "c9384caeaa164c94964ae641f182e964",
       "version_major": 2,
       "version_minor": 0
      },
      "text/plain": [
       "VBox(children=(Figure(camera=PerspectiveCamera(fov=46.0, position=(0.0, 0.0, 2.0), quaternion=(0.0, 0.0, 0.0, …"
      ]
     },
     "metadata": {},
     "output_type": "display_data"
    }
   ],
   "source": [
    "sk.graph_skeleton_and_mesh(other_meshes=total_branch_meshes,\n",
    "                          other_meshes_colors=\"random\",\n",
    "                          other_skeletons=total_branch_skeletons,\n",
    "                          other_skeletons_colors=\"random\",\n",
    "                          #html_path=\"two_soma_mesh_skeleton_decomp.html\"\n",
    "                          )"
   ]
  },
  {
   "cell_type": "code",
   "execution_count": 29,
   "metadata": {},
   "outputs": [
    {
     "data": {
      "text/plain": [
       "3"
      ]
     },
     "execution_count": 29,
     "metadata": {},
     "output_type": "execute_result"
    }
   ],
   "source": [
    "np.argmax([1,4,5,6])"
   ]
  },
  {
   "cell_type": "code",
   "execution_count": 30,
   "metadata": {},
   "outputs": [
    {
     "data": {
      "application/vnd.jupyter.widget-view+json": {
       "model_id": "4058074d473f4a8aa845db7d75ca5911",
       "version_major": 2,
       "version_minor": 0
      },
      "text/plain": [
       "VBox(children=(Figure(camera=PerspectiveCamera(fov=46.0, position=(0.0, 0.0, 2.0), quaternion=(0.0, 0.0, 0.0, …"
      ]
     },
     "metadata": {},
     "output_type": "display_data"
    }
   ],
   "source": [
    "\n",
    "sk.graph_skeleton_and_mesh(other_meshes=[total_branch_meshes[47]],\n",
    "                          other_meshes_colors=\"random\",\n",
    "                          other_skeletons=[total_branch_skeletons[47]],\n",
    "                          other_skeletons_colors=\"random\",\n",
    "                          html_path=\"two_soma_mesh_skeleton_decomp.html\")"
   ]
  },
  {
   "cell_type": "markdown",
   "metadata": {},
   "source": [
    "# PART 3: LAST PART OF ANALYSIS WHERE MAKES CONCEPT GRAPHS"
   ]
  },
  {
   "cell_type": "code",
   "execution_count": 31,
   "metadata": {
    "scrolled": true
   },
   "outputs": [
    {
     "name": "stdout",
     "output_type": "stream",
     "text": [
      "\n",
      "\n",
      "------Working on limb 0 -------\n",
      "inside loop len(curr_limb_divided_meshes) = 29 len(curr_limb_divided_skeletons) = 29\n",
      "--- Working on soma_idx: 0----\n",
      "inside inner loop len(curr_limb_divided_skeletons) = 29\n",
      "closest_endpoint = [812893. 917171. 961773.]\n",
      "At the start, starting_node = [18]\n",
      "edge_endpoints_to_process was empty so exiting loop after 29 iterations\n",
      "starting_node = [18]\n",
      "Total time for branches to concept conversion = 0.22133827209472656\n",
      "\n",
      "After concept mapping size = 29\n",
      "Local time for concept mapping = 1.9007813930511475\n",
      "\n",
      "\n",
      "------Working on limb 1 -------\n",
      "inside loop len(curr_limb_divided_meshes) = 17 len(curr_limb_divided_skeletons) = 17\n",
      "--- Working on soma_idx: 0----\n",
      "inside inner loop len(curr_limb_divided_skeletons) = 17\n",
      "closest_endpoint = [819985. 931411. 997775.]\n",
      "At the start, starting_node = [8]\n",
      "edge_endpoints_to_process was empty so exiting loop after 17 iterations\n",
      "starting_node = [8]\n",
      "Total time for branches to concept conversion = 0.10458493232727051\n",
      "\n",
      "After concept mapping size = 17\n",
      "Local time for concept mapping = 0.8782947063446045\n",
      "\n",
      "\n",
      "------Working on limb 2 -------\n",
      "inside loop len(curr_limb_divided_meshes) = 23 len(curr_limb_divided_skeletons) = 23\n",
      "--- Working on soma_idx: 0----\n",
      "inside inner loop len(curr_limb_divided_skeletons) = 23\n",
      "closest_endpoint = [822585.  916563.8 978161.5]\n",
      "At the start, starting_node = [0]\n",
      "edge_endpoints_to_process was empty so exiting loop after 23 iterations\n",
      "starting_node = [0]\n",
      "Total time for branches to concept conversion = 0.11206459999084473\n",
      "\n",
      "After concept mapping size = 23\n",
      "Local time for concept mapping = 1.1877970695495605\n",
      "\n",
      "\n",
      "------Working on limb 3 -------\n",
      "inside loop len(curr_limb_divided_meshes) = 1 len(curr_limb_divided_skeletons) = 1\n",
      "Merge limb detected\n",
      "--- Working on soma_idx: 0----\n",
      "inside inner loop len(curr_limb_divided_skeletons) = 1\n",
      "closest_endpoint = [828641. 916890. 972685.]\n",
      "After concept mapping size = 1\n",
      "--- Working on soma_idx: 2----\n",
      "inside inner loop len(curr_limb_divided_skeletons) = 1\n",
      "closest_endpoint = [828641. 916890. 972685.]\n",
      "After concept mapping size = 1\n",
      "Local time for concept mapping = 0.24604463577270508\n",
      "Total time for concept mapping = 4.213004112243652\n",
      "Sizes of dictionaries sent\n",
      "(29, 29)\n",
      "(17, 17)\n",
      "(23, 23)\n",
      "(1, 1)\n",
      "\n",
      "\n",
      " Sizes of concept maps gotten back\n",
      "29\n",
      "17\n",
      "23\n",
      "1\n",
      "1\n"
     ]
    }
   ],
   "source": [
    "import neuron\n",
    "neuron = reload(neuron)\n",
    "nu = reload(nu)\n",
    "sk = reload(sk)\n",
    "\n",
    "#getting mesh and skeleton dictionaries\n",
    "limb_idx_to_branch_meshes_dict = dict()\n",
    "limb_idx_to_branch_skeletons_dict = dict()\n",
    "for k in limb_correspondence.keys():\n",
    "    limb_idx_to_branch_meshes_dict[k] = [limb_correspondence[k][j][\"branch_mesh\"] for j in limb_correspondence[k].keys()]\n",
    "    limb_idx_to_branch_skeletons_dict[k] = [limb_correspondence[k][j][\"branch_skeleton\"] for j in limb_correspondence[k].keys()]      \n",
    "\n",
    "#getting the soma dictionaries\n",
    "soma_idx_to_mesh_dict = dict()\n",
    "for k,v in enumerate(current_mesh_data[0][\"soma_meshes\"]):\n",
    "    soma_idx_to_mesh_dict[k] = v\n",
    "\n",
    "soma_idx_connectivity = current_mesh_data[0][\"soma_to_piece_connectivity\"]\n",
    "\n",
    "\n",
    "\n",
    "\n",
    "limb_concept_networkx,limb_labels = neuron.generate_limb_concept_networks_from_global_connectivity(\n",
    "    limb_idx_to_branch_meshes_dict = limb_idx_to_branch_meshes_dict,\n",
    "    limb_idx_to_branch_skeletons_dict = limb_idx_to_branch_skeletons_dict,\n",
    "    soma_idx_to_mesh_dict = soma_idx_to_mesh_dict,\n",
    "    soma_idx_connectivity = soma_idx_connectivity,\n",
    "    current_neuron=current_neuron,\n",
    "    return_limb_labels=True\n",
    "    )\n",
    "\n",
    "#Before go and get concept maps:\n",
    "print(\"Sizes of dictionaries sent\")\n",
    "for curr_limb in limb_idx_to_branch_skeletons_dict.keys():\n",
    "    print((len(limb_idx_to_branch_skeletons_dict[curr_limb]),len(limb_idx_to_branch_meshes_dict[curr_limb])))\n",
    "    \n",
    "    \n",
    "print(\"\\n\\n Sizes of concept maps gotten back\")\n",
    "for curr_idx in limb_concept_networkx.keys():\n",
    "    for soma_idx,concept_graph in limb_concept_networkx[curr_idx].items():\n",
    "        print(len(np.unique(list(concept_graph.nodes()))))"
   ]
  },
  {
   "cell_type": "markdown",
   "metadata": {},
   "source": [
    "# the final data that will be ported over to the Neuron class"
   ]
  },
  {
   "cell_type": "code",
   "execution_count": 32,
   "metadata": {},
   "outputs": [
    {
     "name": "stdout",
     "output_type": "stream",
     "text": [
      "# of non soma touching seperate meshes = 5\n",
      "# of inside pieces = 2\n"
     ]
    },
    {
     "data": {
      "text/plain": [
       "'\\nConcept networks for limbs and labels of all limbs\\n'"
      ]
     },
     "execution_count": 32,
     "metadata": {},
     "output_type": "execute_result"
    }
   ],
   "source": [
    "\n",
    "current_neuron\n",
    "\"\"\"\n",
    "whole neuron to be used for other processing\n",
    "\"\"\"\n",
    "\n",
    "# The 0 at the front is to say it is the first seperated mesh containing somas (could be multiple)\n",
    "current_mesh_data[0].keys()\n",
    "\"\"\"\n",
    "soma_meshes\n",
    "soma_to_piece_connectivity\n",
    "\"\"\"\n",
    "\"\"\"\n",
    "limb_correspondence[0][0].keys() --> the exact limb and the exact branch\n",
    "\n",
    "AKA [limb_idx][branch_idx]\n",
    "\n",
    "\"\"\"\n",
    "limb_correspondence[0][0][\"branch_skeleton\"]\n",
    "limb_correspondence[0][0][\"width_from_skeleton\"]\n",
    "limb_correspondence[0][0][\"branch_mesh\"]\n",
    "limb_correspondence[0][0][\"branch_face_idx\"]\n",
    "\n",
    "\n",
    "\n",
    "limb_concept_networkx\n",
    "limb_labels\n",
    "\n",
    "\n",
    "#things that weren't used in classification but still would have knowledge of:\n",
    "insignificant_limbs # the limbs that were filtered away after did soma subtraction because not big enough\n",
    "print(f\"# of non soma touching seperate meshes = {len(non_soma_touching_meshes)}\")# meshes that were seperate from soma mesh\n",
    "print(f\"# of inside pieces = {len(inside_pieces)}\") #inside of the soma meshes\n",
    "\"\"\"\n",
    "Concept networks for limbs and labels of all limbs\n",
    "\"\"\""
   ]
  },
  {
   "cell_type": "markdown",
   "metadata": {},
   "source": [
    "# Plotting for visualizataions (used for platinum update report)"
   ]
  },
  {
   "cell_type": "code",
   "execution_count": 33,
   "metadata": {},
   "outputs": [],
   "source": [
    "curr_limb_idx = 2"
   ]
  },
  {
   "cell_type": "code",
   "execution_count": 34,
   "metadata": {},
   "outputs": [
    {
     "data": {
      "application/vnd.jupyter.widget-view+json": {
       "model_id": "f34298622b3d4ea795e63aefdfd7c0bf",
       "version_major": 2,
       "version_minor": 0
      },
      "text/plain": [
       "VBox(children=(Figure(camera=PerspectiveCamera(fov=46.0, position=(0.0, 0.0, 2.0), quaternion=(0.0, 0.0, 0.0, …"
      ]
     },
     "metadata": {},
     "output_type": "display_data"
    }
   ],
   "source": [
    "#plotting the mesh\n",
    "sk = reload(sk)\n",
    "mu = reload(mu)\n",
    "random_colors_used = sk.graph_skeleton_and_mesh(\n",
    "    other_meshes=[v[\"branch_mesh\"] for k,v in limb_correspondence[curr_limb_idx].items() ],\n",
    "                          other_meshes_colors=\"random\",\n",
    "                          other_skeletons=[v[\"branch_skeleton\"] for k,v in limb_correspondence[curr_limb_idx].items() ],\n",
    "                          other_skeletons_colors=\"random\",\n",
    "                            mesh_alpha=0.8,\n",
    "                          return_other_colors=True)\n",
    "random_colors_used_no_alpha = random_colors_used[:,:-1]"
   ]
  },
  {
   "cell_type": "code",
   "execution_count": 35,
   "metadata": {},
   "outputs": [
    {
     "data": {
      "application/vnd.jupyter.widget-view+json": {
       "model_id": "f10de840feef42b48cf0e7ec05be34e7",
       "version_major": 2,
       "version_minor": 0
      },
      "text/plain": [
       "VBox(children=(Figure(camera=PerspectiveCamera(fov=46.0, position=(0.0, 0.0, 2.0), quaternion=(0.0, 0.0, 0.0, …"
      ]
     },
     "metadata": {},
     "output_type": "display_data"
    }
   ],
   "source": [
    "#plotting the skeleton\n",
    "sk = reload(sk)\n",
    "mu = reload(mu)\n",
    "sk.graph_skeleton_and_mesh(#other_meshes=total_branch_meshes[:node_to_check_to],\n",
    "                          #other_meshes_colors=\"random\",\n",
    "                          other_skeletons=[v[\"branch_skeleton\"] for k,v in limb_correspondence[curr_limb_idx].items() ],\n",
    "                          other_skeletons_colors=\"random\",\n",
    "                            mesh_alpha=0.05)\n"
   ]
  },
  {
   "cell_type": "code",
   "execution_count": 36,
   "metadata": {},
   "outputs": [
    {
     "data": {
      "text/plain": [
       "'Normal'"
      ]
     },
     "execution_count": 36,
     "metadata": {},
     "output_type": "execute_result"
    }
   ],
   "source": [
    "# get the label:\n",
    "limb_labels[curr_limb_idx]"
   ]
  },
  {
   "cell_type": "code",
   "execution_count": 37,
   "metadata": {},
   "outputs": [
    {
     "data": {
      "text/plain": [
       "{0: {0: <networkx_utils.GraphOrderedEdges at 0x7fbbfae1ecf8>},\n",
       " 1: {0: <networkx_utils.GraphOrderedEdges at 0x7fbbf9283390>},\n",
       " 2: {0: <networkx_utils.GraphOrderedEdges at 0x7fbbf1f77208>},\n",
       " 3: {0: <networkx_utils.GraphOrderedEdges at 0x7fbbfae1ef60>,\n",
       "  2: <networkx_utils.GraphOrderedEdges at 0x7fbbf9411898>}}"
      ]
     },
     "execution_count": 37,
     "metadata": {},
     "output_type": "execute_result"
    }
   ],
   "source": [
    "limb_concept_networkx"
   ]
  },
  {
   "cell_type": "code",
   "execution_count": 38,
   "metadata": {},
   "outputs": [
    {
     "name": "stdout",
     "output_type": "stream",
     "text": [
      "(23, 23)\n"
     ]
    }
   ],
   "source": [
    "for soma_idx,concept_graph in limb_concept_networkx[curr_limb_idx].items():\n",
    "    print((len(np.unique(list(concept_graph.nodes()))),len([v[\"branch_mesh\"] for k,v in limb_correspondence[curr_limb_idx].items() ])))"
   ]
  },
  {
   "cell_type": "code",
   "execution_count": 39,
   "metadata": {},
   "outputs": [
    {
     "name": "stdout",
     "output_type": "stream",
     "text": [
      "Starting from soma index 0 with starting_coordinate and mesh: [[822585.  916563.8 978161.5]]\n"
     ]
    },
    {
     "data": {
      "image/png": "[encoded data removed]",
      "text/plain": [
       "<Figure size 432x288 with 1 Axes>"
      ]
     },
     "metadata": {},
     "output_type": "display_data"
    },
    {
     "name": "stdout",
     "output_type": "stream",
     "text": [
      "\n",
      "\n",
      "\n"
     ]
    }
   ],
   "source": [
    "import matplotlib.pyplot as plt\n",
    "%matplotlib inline\n",
    "for soma_idx,concept_graph in limb_concept_networkx[curr_limb_idx].items():\n",
    "    print(f\"Starting from soma index {soma_idx} with starting_coordinate and mesh: \"\n",
    "          f\"{xu.get_node_attributes(concept_graph,attribute_name='starting_coordinate')}\")\n",
    "    # plotting the concept network with the same colors\n",
    "    nx.draw(concept_graph,node_color=random_colors_used_no_alpha) \n",
    "    plt.show()\n",
    "    print(\"\\n\\n\")"
   ]
  },
  {
   "cell_type": "code",
   "execution_count": 40,
   "metadata": {},
   "outputs": [
    {
     "data": {
      "application/vnd.jupyter.widget-view+json": {
       "model_id": "773996575c45461fa028ee218fc5c615",
       "version_major": 2,
       "version_minor": 0
      },
      "text/plain": [
       "VBox(children=(Figure(camera=PerspectiveCamera(fov=46.0, position=(0.0, 0.0, 2.0), quaternion=(0.0, 0.0, 0.0, …"
      ]
     },
     "metadata": {},
     "output_type": "display_data"
    }
   ],
   "source": [
    "# Try plotting the points in 3D: random_colors_used = sk.graph_skeleton_and_mesh(other_meshes=total_branch_meshes[:node_to_check_to],\n",
    "mesh_midpoints =  [np.array([np.mean(k.vertices,axis=0)]) for k in [v[\"branch_mesh\"] for k,v in limb_correspondence[curr_limb_idx].items() ]]\n",
    "for soma_idx,concept_graph in limb_concept_networkx[curr_limb_idx].items():\n",
    "    graph_nodes_skeleton = np.array(mesh_midpoints)[concept_graph.edges_ordered()].reshape(-1,2,3)\n",
    "    [k for k in graph_nodes_skeleton]\n",
    "    random_colors_used[:,-1] = 1\n",
    "\n",
    "\n",
    "    sk.graph_skeleton_and_mesh(other_scatter=mesh_midpoints,\n",
    "                              other_scatter_colors=random_colors_used,\n",
    "                              other_skeletons=graph_nodes_skeleton,\n",
    "                              other_skeletons_colors=\"black\",\n",
    "                                                   scatter_size=3)\n",
    "\n"
   ]
  },
  {
   "cell_type": "code",
   "execution_count": 41,
   "metadata": {},
   "outputs": [
    {
     "data": {
      "application/vnd.jupyter.widget-view+json": {
       "model_id": "e46685d63e224063a24a1e99f47fccb3",
       "version_major": 2,
       "version_minor": 0
      },
      "text/plain": [
       "VBox(children=(Figure(camera=PerspectiveCamera(fov=46.0, position=(0.0, 0.0, 2.0), quaternion=(0.0, 0.0, 0.0, …"
      ]
     },
     "metadata": {},
     "output_type": "display_data"
    }
   ],
   "source": [
    "\n",
    "\n",
    "    \n",
    "# Try plotting the points in 3D: random_colors_used = sk.graph_skeleton_and_mesh(other_meshes=total_branch_meshes[:node_to_check_to],\n",
    "mesh_midpoints =  [np.array([np.mean(k.vertices,axis=0)]) for k in [v[\"branch_mesh\"] for k,v in limb_correspondence[curr_limb_idx].items() ]]\n",
    "for soma_idx,concept_graph in limb_concept_networkx[curr_limb_idx].items():\n",
    "    graph_nodes_skeleton = np.array(mesh_midpoints)[concept_graph.edges_ordered()].reshape(-1,2,3)\n",
    "    [k for k in graph_nodes_skeleton]\n",
    "    random_colors_used[:,-1] = 1\n",
    "\n",
    "\n",
    "    sk.graph_skeleton_and_mesh(\n",
    "        other_meshes=[v[\"branch_mesh\"] for k,v in limb_correspondence[curr_limb_idx].items() ],\n",
    "                          other_meshes_colors=\"random\",other_scatter=mesh_midpoints,\n",
    "                              other_scatter_colors=random_colors_used,\n",
    "                              other_skeletons=graph_nodes_skeleton,\n",
    "                              other_skeletons_colors=\"black\",\n",
    "                                                   scatter_size=1)"
   ]
  },
  {
   "cell_type": "code",
   "execution_count": null,
   "metadata": {},
   "outputs": [],
   "source": []
  }
 ],
 "metadata": {
  "kernelspec": {
   "display_name": "Python 3",
   "language": "python",
   "name": "python3"
  },
  "language_info": {
   "codemirror_mode": {
    "name": "ipython",
    "version": 3
   },
   "file_extension": ".py",
   "mimetype": "text/x-python",
   "name": "python",
   "nbconvert_exporter": "python",
   "pygments_lexer": "ipython3",
   "version": "3.6.9"
  }
 },
 "nbformat": 4,
 "nbformat_minor": 4
}
