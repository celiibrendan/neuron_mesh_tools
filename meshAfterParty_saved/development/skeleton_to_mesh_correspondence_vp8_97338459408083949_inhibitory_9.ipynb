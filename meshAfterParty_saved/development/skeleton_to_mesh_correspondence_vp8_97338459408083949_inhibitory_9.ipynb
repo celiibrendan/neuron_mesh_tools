{
 "cells": [
  {
   "cell_type": "code",
   "execution_count": 1,
   "metadata": {},
   "outputs": [],
   "source": [
    "from os import sys\n",
    "sys.path.append(\"../../meshAfterParty/\")"
   ]
  },
  {
   "cell_type": "code",
   "execution_count": 2,
   "metadata": {},
   "outputs": [],
   "source": [
    "import skeleton_utils as sk\n",
    "import soma_extraction_utils as sm\n",
    "import trimesh_utils as tu\n",
    "import trimesh\n",
    "import numpy_utils as nu\n",
    "import numpy as np\n",
    "from importlib import reload\n",
    "import networkx as nx\n",
    "import time\n",
    "import compartment_utils as cu\n",
    "import networkx_utils as xu\n",
    "import matplotlib_utils as mu\n",
    "\n",
    "sm = reload(sm)"
   ]
  },
  {
   "cell_type": "code",
   "execution_count": 3,
   "metadata": {},
   "outputs": [],
   "source": [
    "#Setting where base neuron is\n",
    "segment_id = 97338459408083949\n",
    "\n",
    "current_mesh_file = f\"/notebooks/neuron_mesh_tools/test_neurons/spine_detection/{segment_id}_inhibitory_9.off\"\n"
   ]
  },
  {
   "cell_type": "markdown",
   "metadata": {},
   "source": [
    "# **** Phase 1 ****"
   ]
  },
  {
   "cell_type": "markdown",
   "metadata": {},
   "source": [
    "# Starting from the very beginning of a neuron mesh"
   ]
  },
  {
   "cell_type": "code",
   "execution_count": 4,
   "metadata": {},
   "outputs": [],
   "source": [
    "current_neuron = trimesh.load_mesh(current_mesh_file)"
   ]
  },
  {
   "cell_type": "code",
   "execution_count": 5,
   "metadata": {},
   "outputs": [
    {
     "name": "stderr",
     "output_type": "stream",
     "text": [
      "/usr/local/lib/python3.6/dist-packages/traittypes/traittypes.py:101: UserWarning: Given trait value dtype \"float64\" does not match required type \"float64\". A coerced copy has been created.\n",
      "  np.dtype(self.dtype).name))\n"
     ]
    },
    {
     "data": {
      "application/vnd.jupyter.widget-view+json": {
       "model_id": "817f290dc936424f9232c4ba6afa88fc",
       "version_major": 2,
       "version_minor": 0
      },
      "text/plain": [
       "VBox(children=(Figure(camera=PerspectiveCamera(fov=46.0, position=(0.0, 0.0, 2.0), quaternion=(0.0, 0.0, 0.0, …"
      ]
     },
     "metadata": {},
     "output_type": "display_data"
    }
   ],
   "source": [
    "sk.graph_skeleton_and_mesh(main_mesh_verts=current_neuron.vertices,\n",
    "                          main_mesh_faces=current_neuron.faces,\n",
    "                           main_mesh_color = [0.,1.,0.,0.8]\n",
    "                          )"
   ]
  },
  {
   "cell_type": "markdown",
   "metadata": {},
   "source": [
    "# Doing the soma detection"
   ]
  },
  {
   "cell_type": "code",
   "execution_count": 73,
   "metadata": {},
   "outputs": [
    {
     "data": {
      "text/plain": [
       "[0.886955]"
      ]
     },
     "execution_count": 73,
     "metadata": {},
     "output_type": "execute_result"
    }
   ],
   "source": [
    "total_soma_list_sdf"
   ]
  },
  {
   "cell_type": "code",
   "execution_count": 6,
   "metadata": {},
   "outputs": [
    {
     "name": "stdout",
     "output_type": "stream",
     "text": [
      "Current Arguments Using (adjusted for decimation):\n",
      " large_mesh_threshold= 15000.0 \n",
      "large_mesh_threshold_inner = 10000.0 \n",
      "soma_size_threshold = 1250.0 \n",
      "soma_size_threshold_max = 12000.0\n",
      "outer_decimation_ratio = 0.25\n",
      "inner_decimation_ratio = 0.25\n",
      "IN INPUT FILE VALIDATION LOOP\n",
      "LEAVING LOOP, MESH VALIDATED\n",
      "Using port = 953\n",
      "xvfb-run -n 953 -s \"-screen 0 800x600x24\" meshlabserver $@  -i /notebooks/neuron_mesh_tools/meshAfterParty/development/97338459408083949/neuron_97338459408083949.off -o /notebooks/neuron_mesh_tools/meshAfterParty/development/97338459408083949/neuron_97338459408083949_decimated.off -s /notebooks/neuron_mesh_tools/meshAfterParty/development/97338459408083949/decimation_meshlab_25663679.mls\n",
      "Total found significant pieces before Poisson = [<trimesh.Trimesh(vertices.shape=(22908, 3), faces.shape=(46098, 3))>]\n",
      "----- working on large mesh #0: <trimesh.Trimesh(vertices.shape=(22908, 3), faces.shape=(46098, 3))>\n",
      "pre_largest_mesh_path = /notebooks/neuron_mesh_tools/meshAfterParty/development/97338459408083949/neuron_97338459408083949_decimated_largest_piece.off\n",
      "IN INPUT FILE VALIDATION LOOP\n",
      "LEAVING LOOP, MESH VALIDATED\n",
      "Using port = 4344\n",
      "xvfb-run -n 4344 -s \"-screen 0 800x600x24\" meshlabserver $@  -i /notebooks/neuron_mesh_tools/meshAfterParty/development/97338459408083949/neuron_97338459408083949_decimated_largest_piece.off -o /notebooks/neuron_mesh_tools/meshAfterParty/development/97338459408083949/neuron_97338459408083949_decimated_largest_piece_poisson.off -s /notebooks/neuron_mesh_tools/meshAfterParty/development/97338459408083949/poisson_765991.mls\n"
     ]
    },
    {
     "name": "stderr",
     "output_type": "stream",
     "text": [
      "face_normals all zero, ignoring!\n",
      "face_normals all zero, ignoring!\n",
      "face_normals all zero, ignoring!\n",
      "face_normals all zero, ignoring!\n",
      "face_normals all zero, ignoring!\n",
      "face_normals all zero, ignoring!\n",
      "face_normals all zero, ignoring!\n",
      "face_normals all zero, ignoring!\n",
      "face_normals all zero, ignoring!\n",
      "face_normals all zero, ignoring!\n",
      "face_normals all zero, ignoring!\n",
      "face_normals all zero, ignoring!\n",
      "face_normals all zero, ignoring!\n",
      "face_normals all zero, ignoring!\n",
      "face_normals all zero, ignoring!\n",
      "face_normals all zero, ignoring!\n",
      "face_normals all zero, ignoring!\n",
      "face_normals all zero, ignoring!\n",
      "face_normals all zero, ignoring!\n"
     ]
    },
    {
     "name": "stdout",
     "output_type": "stream",
     "text": [
      "Total found significant pieces AFTER Poisson = [<trimesh.Trimesh(vertices.shape=(20279, 3), faces.shape=(40554, 3))>]\n",
      "----- working on mesh after poisson #0: <trimesh.Trimesh(vertices.shape=(20279, 3), faces.shape=(40554, 3))>\n",
      "IN INPUT FILE VALIDATION LOOP\n",
      "LEAVING LOOP, MESH VALIDATED\n",
      "Using port = 8360\n",
      "xvfb-run -n 8360 -s \"-screen 0 800x600x24\" meshlabserver $@  -i /notebooks/neuron_mesh_tools/meshAfterParty/development/97338459408083949/neuron_97338459408083949_decimated_largest_piece_poisson_largest_inner.off -o /notebooks/neuron_mesh_tools/meshAfterParty/development/97338459408083949/neuron_97338459408083949_decimated_largest_piece_poisson_largest_inner_decimated.off -s /notebooks/neuron_mesh_tools/meshAfterParty/development/97338459408083949/decimation_meshlab_25620645.mls\n",
      "done exporting decimated mesh: neuron_97338459408083949_decimated_largest_piece_poisson_largest_inner.off\n",
      "1) Starting: Mesh importing and Pymesh fix\n",
      "loading mesh from vertices and triangles array\n",
      "1) Finished: Mesh importing and Pymesh fix: 0.00026226043701171875\n",
      "2) Staring: Generating CGAL segmentation for neuron\n",
      "Done writing OFF file\n",
      "\n",
      "Starting CGAL segmentation\n",
      "Right before cgal segmentation, clusters = 3, smoothness = 0.2, path_and_filename = /notebooks/neuron_mesh_tools/meshAfterParty/development/temp/9733845940808394900_fixed \n",
      "1\n",
      "Finished CGAL segmentation algorithm: 1.0328543186187744\n",
      "2) Finished: Generating CGAL segmentation for neuron: 1.1925256252288818\n",
      "3) Staring: Generating Graph Structure and Identifying Soma using soma size threshold  = 3000\n",
      "my_list_keys = [0, 1, 2, 3, 4, 5]\n",
      "changed the median value\n",
      "changed the mean value\n",
      "changed the max value\n",
      "soma_index = 3\n",
      "3) Finished: Generating Graph Structure and Identifying Soma: 0.004154682159423828\n",
      "Not finding the apical because soma_only option selected\n",
      "6) Staring: Classifying Entire Neuron\n",
      "Total Labels found = {'unsure', 'soma'}\n",
      "6) Finished: Classifying Entire Neuron: 5.14984130859375e-05\n",
      "7) Staring: Transfering Segmentation Labels to Face Labels\n",
      "7) Finished: Transfering Segmentation Labels to Face Labels: 0.00902247428894043\n",
      "8) Staring: Generating final Vertex and Face Labels\n",
      "8) Finished: Generating final Vertex and Face Labels: 0.12464594841003418\n",
      "Returning the soma_sdf value AND the classifier\n",
      "soma_sdf_value = 0.886955\n",
      "segmentation[sorted_medians],median_values[sorted_medians] = (array([3, 4, 0, 1, 5, 2]), array([0.886955  , 0.561767  , 0.2629515 , 0.0914921 , 0.0812442 ,\n",
      "       0.06798085]))\n",
      "Sizes = [3631, 394, 522, 1125, 2294, 2172]\n",
      "valid_soma_segments_width\n",
      "      ------ Found 1 viable somas: [3]\n",
      "Using Poisson Surface Reconstruction to make mesh watertight\n",
      "IN INPUT FILE VALIDATION LOOP\n",
      "LEAVING LOOP, MESH VALIDATED\n",
      "Using port = 5591\n",
      "xvfb-run -n 5591 -s \"-screen 0 800x600x24\" meshlabserver $@  -i /notebooks/neuron_mesh_tools/meshAfterParty/development/Poisson_temp/neuron_750849.off -o /notebooks/neuron_mesh_tools/meshAfterParty/development/Poisson_temp/neuron_750849_poisson.off -s /notebooks/neuron_mesh_tools/meshAfterParty/development/Poisson_temp/poisson_733307.mls\n"
     ]
    },
    {
     "name": "stderr",
     "output_type": "stream",
     "text": [
      "face_normals all zero, ignoring!\n",
      "face_normals all zero, ignoring!\n",
      "face_normals all zero, ignoring!\n",
      "face_normals all zero, ignoring!\n"
     ]
    },
    {
     "name": "stdout",
     "output_type": "stream",
     "text": [
      "removed temporary input file: /notebooks/neuron_mesh_tools/meshAfterParty/development/Poisson_temp/neuron_750849.off\n",
      "removed temporary output file: /notebooks/neuron_mesh_tools/meshAfterParty/development/Poisson_temp/neuron_750849_poisson.off\n",
      "/notebooks/neuron_mesh_tools/meshAfterParty/development/Poisson_temp/poisson_733307.mls is being deleted....\n",
      "Inside sphere validater: ratio_val = 2.4891036735954963\n",
      "\n",
      "\n",
      "\n",
      " Total time for run = 30.091021299362183\n"
     ]
    }
   ],
   "source": [
    "soma_mesh_list,run_time,total_soma_list_sdf = sm.extract_soma_center(segment_id,\n",
    "                                             current_neuron.vertices,\n",
    "                                             current_neuron.faces)"
   ]
  },
  {
   "cell_type": "markdown",
   "metadata": {},
   "source": [
    "# At this point assume that there are somas (if not would just skip to the limb skeleton stuff)"
   ]
  },
  {
   "cell_type": "code",
   "execution_count": 7,
   "metadata": {},
   "outputs": [
    {
     "data": {
      "application/vnd.jupyter.widget-view+json": {
       "model_id": "0437abcf474f4e4585d7add534522eaf",
       "version_major": 2,
       "version_minor": 0
      },
      "text/plain": [
       "VBox(children=(Figure(camera=PerspectiveCamera(fov=46.0, position=(0.0, 0.0, 2.0), quaternion=(0.0, 0.0, 0.0, …"
      ]
     },
     "metadata": {},
     "output_type": "display_data"
    }
   ],
   "source": [
    "# Visualizing the somas: \n",
    "total_soma = tu.combine_meshes(soma_mesh_list)\n",
    "soma_meshes = total_soma\n",
    "sk.graph_skeleton_and_mesh(main_mesh_verts=soma_meshes.vertices,\n",
    "                          main_mesh_faces=soma_meshes.faces,\n",
    "                           main_mesh_color = [0.,1.,0.,0.8]\n",
    "                          )"
   ]
  },
  {
   "cell_type": "code",
   "execution_count": 8,
   "metadata": {},
   "outputs": [
    {
     "name": "stdout",
     "output_type": "stream",
     "text": [
      "Soma List = [<trimesh.Trimesh(vertices.shape=(1853, 3), faces.shape=(3631, 3))>]\n",
      "soma_mesh_list_centers = [array([985862.54193199, 903030.29881274, 798091.55828386])]\n"
     ]
    }
   ],
   "source": [
    "# geting the soma centers\n",
    "if len(soma_mesh_list) <= 0:\n",
    "    print(f\"**** No Somas Found for Mesh {segment_id} so just one mesh\")\n",
    "    soma_mesh_list_centers = []\n",
    "else:\n",
    "    #compute the soma centers\n",
    "    print(f\"Soma List = {soma_mesh_list}\")\n",
    "\n",
    "    soma_mesh_list_centers = sm.find_soma_centroids(soma_mesh_list)\n",
    "    print(f\"soma_mesh_list_centers = {soma_mesh_list_centers}\")"
   ]
  },
  {
   "cell_type": "markdown",
   "metadata": {},
   "source": [
    "# getting the soma submeshes that are connected to each soma and identifiying those that aren't (and eliminating any mesh pieces inside the soma)"
   ]
  },
  {
   "cell_type": "code",
   "execution_count": 9,
   "metadata": {},
   "outputs": [
    {
     "name": "stdout",
     "output_type": "stream",
     "text": [
      "# total split meshes = 9\n"
     ]
    },
    {
     "data": {
      "text/plain": [
       "{0: 0}"
      ]
     },
     "execution_count": 9,
     "metadata": {},
     "output_type": "execute_result"
    }
   ],
   "source": [
    "main_mesh_total = current_neuron\n",
    "sig_th_initial_split=15\n",
    "\n",
    "#finding the mesh pieces that contain the soma\n",
    "#splitting the current neuron into distinct pieces\n",
    "split_meshes = tu.split_significant_pieces(\n",
    "                            main_mesh_total,\n",
    "                            significance_threshold=sig_th_initial_split,\n",
    "                            print_flag=False)\n",
    "\n",
    "print(f\"# total split meshes = {len(split_meshes)}\")\n",
    "\n",
    "\n",
    "#returns the index of the split_meshes index that contains each soma    \n",
    "containing_mesh_indices = sm.find_soma_centroid_containing_meshes(soma_mesh_list_centers,\n",
    "                                        split_meshes)\n",
    "\n",
    "containing_mesh_indices"
   ]
  },
  {
   "cell_type": "code",
   "execution_count": 10,
   "metadata": {},
   "outputs": [
    {
     "name": "stdout",
     "output_type": "stream",
     "text": [
      "There were 8 pieces found after size threshold\n",
      "# of non soma touching seperate meshes = 4\n",
      "# of inside pieces = 4\n",
      "# of soma containing seperate meshes = 1\n",
      "meshes with somas = {0: [0]}\n"
     ]
    }
   ],
   "source": [
    "# filtering away any of the inside floating pieces: \n",
    "sm = reload(sm)\n",
    "non_soma_touching_meshes = [m for i,m in enumerate(split_meshes)\n",
    "                 if i not in list(containing_mesh_indices.values())]\n",
    "\n",
    "\n",
    "#Adding the step that will filter away any pieces that are inside the soma\n",
    "if len(non_soma_touching_meshes) > 0 and len(soma_mesh_list) > 0:\n",
    "    \"\"\"\n",
    "    *** want to save these pieces that are inside of the soma***\n",
    "    \"\"\"\n",
    "    \n",
    "    non_soma_touching_meshes,inside_pieces = sm.filter_away_inside_soma_pieces(soma_mesh_list,non_soma_touching_meshes,\n",
    "                                    significance_threshold=sig_th_initial_split,\n",
    "                                    return_inside_pieces = True)                                                      \n",
    "\n",
    "\n",
    "split_meshes # the meshes of the original mesh\n",
    "containing_mesh_indices #the mapping of each soma centroid to the correct split mesh\n",
    "soma_containing_meshes = sm.grouping_containing_mesh_indices(containing_mesh_indices)\n",
    "\n",
    "soma_touching_meshes = [split_meshes[k] for k in soma_containing_meshes.keys()]\n",
    "\n",
    "    \n",
    "print(f\"# of non soma touching seperate meshes = {len(non_soma_touching_meshes)}\")\n",
    "print(f\"# of inside pieces = {len(inside_pieces)}\")\n",
    "print(f\"# of soma containing seperate meshes = {len(soma_touching_meshes)}\")\n",
    "print(f\"meshes with somas = {soma_containing_meshes}\")"
   ]
  },
  {
   "cell_type": "markdown",
   "metadata": {},
   "source": [
    "# Soma Extraction was great (but it wasn't the original soma faces), so now need to get the original soma faces and the original non-soma faces of original pieces"
   ]
  },
  {
   "cell_type": "code",
   "execution_count": 72,
   "metadata": {},
   "outputs": [
    {
     "name": "stderr",
     "output_type": "stream",
     "text": [
      "/usr/local/lib/python3.6/dist-packages/traittypes/traittypes.py:101: UserWarning: Given trait value dtype \"float64\" does not match required type \"float64\". A coerced copy has been created.\n",
      "  np.dtype(self.dtype).name))\n"
     ]
    },
    {
     "data": {
      "application/vnd.jupyter.widget-view+json": {
       "model_id": "fb149e138dd24d5b9a51a7e558571eb2",
       "version_major": 2,
       "version_minor": 0
      },
      "text/plain": [
       "VBox(children=(Figure(camera=PerspectiveCamera(fov=46.0, position=(0.0, 0.0, 2.0), quaternion=(0.0, 0.0, 0.0, …"
      ]
     },
     "metadata": {},
     "output_type": "display_data"
    }
   ],
   "source": [
    "prelim_soma_mesh = current_neuron.submesh([soma_faces[soma_face_components[0]]],append=True)\n",
    "sk.graph_skeleton_and_mesh(other_meshes=[prelim_soma_mesh])"
   ]
  },
  {
   "cell_type": "code",
   "execution_count": 69,
   "metadata": {},
   "outputs": [
    {
     "data": {
      "text/plain": [
       "array([  7991,  37947,  38874, ..., 185962, 185963, 185965])"
      ]
     },
     "execution_count": 69,
     "metadata": {},
     "output_type": "execute_result"
    }
   ],
   "source": [
    "soma_faces"
   ]
  },
  {
   "cell_type": "code",
   "execution_count": null,
   "metadata": {},
   "outputs": [],
   "source": [
    "soma_faces[soma_face_components] will tell the original soma idx"
   ]
  },
  {
   "cell_type": "code",
   "execution_count": 11,
   "metadata": {},
   "outputs": [
    {
     "name": "stdout",
     "output_type": "stream",
     "text": [
      "\n",
      "\n",
      "----Working on soma-containing mesh piece {z}----\n",
      "\n",
      "inside Soma subtraction\n",
      "mesh pieces in subtact soma BEFORE the filtering inside pieces = [<trimesh.Trimesh(vertices.shape=(45222, 3), faces.shape=(90459, 3))>, <trimesh.Trimesh(vertices.shape=(26265, 3), faces.shape=(52532, 3))>, <trimesh.Trimesh(vertices.shape=(10513, 3), faces.shape=(21031, 3))>]\n",
      "There were 3 pieces found after size threshold\n",
      "mesh pieces in subtact soma AFTER the filtering inside pieces = [<trimesh.Trimesh(vertices.shape=(45222, 3), faces.shape=(90459, 3))>, <trimesh.Trimesh(vertices.shape=(26265, 3), faces.shape=(52532, 3))>, <trimesh.Trimesh(vertices.shape=(10513, 3), faces.shape=(21031, 3))>]\n",
      "Total Time for soma mesh cancellation = 0.383\n",
      "# of insignificant_limbs = 0 with trimesh : []\n"
     ]
    },
    {
     "data": {
      "text/plain": [
       "{0: {'branch_meshes': [<trimesh.Trimesh(vertices.shape=(45222, 3), faces.shape=(90459, 3))>,\n",
       "   <trimesh.Trimesh(vertices.shape=(26265, 3), faces.shape=(52532, 3))>,\n",
       "   <trimesh.Trimesh(vertices.shape=(10513, 3), faces.shape=(21031, 3))>],\n",
       "  'soma_meshes': array([<trimesh.Trimesh(vertices.shape=(11064, 3), faces.shape=(21944, 3))>],\n",
       "        dtype=object),\n",
       "  'soma_to_piece_connectivity': {0: [0, 1, 2]}}}"
      ]
     },
     "execution_count": 11,
     "metadata": {},
     "output_type": "execute_result"
    }
   ],
   "source": [
    "from importlib import reload\n",
    "sm = reload(sm)\n",
    "tu = reload(tu)\n",
    "\n",
    "\"\"\"\n",
    "for each soma touching mesh get the following:\n",
    "1) original soma meshes\n",
    "2) significant mesh pieces touching these somas\n",
    "3) The soma connectivity to each of the significant mesh pieces\n",
    "-- later will just translate the \n",
    "\n",
    "\n",
    "Process: \n",
    "\n",
    "1) Final all soma faces (through soma extraction and then soma original faces function)\n",
    "2) Subtact all soma faces from original mesh\n",
    "3) Find all significant mesh pieces\n",
    "4) Backtrack significant mesh pieces to orignal mesh and find connectivity of each to all\n",
    "   the available somas\n",
    "Conclusion: Will have connectivity map\n",
    "\n",
    "\n",
    "soma_faces[soma_face_components] will tell the original soma idx\n",
    "\n",
    "\"\"\"\n",
    "limb_threshold = 2000\n",
    "\n",
    "soma_touching_mesh_data = dict()\n",
    "\n",
    "for z,(mesh_idx, soma_idxes) in enumerate(soma_containing_meshes.items()):\n",
    "    soma_touching_mesh_data[z] = dict()\n",
    "    print(\"\\n\\n----Working on soma-containing mesh piece {z}----\")\n",
    "\n",
    "    #1) Final all soma faces (through soma extraction and then soma original faces function)\n",
    "    current_mesh = split_meshes[mesh_idx]\n",
    "\n",
    "    current_soma_mesh_list = [soma_mesh_list[k] for k in soma_idxes]\n",
    "\n",
    "    mesh_pieces_without_soma = sm.subtract_soma(current_soma_mesh_list,current_mesh,\n",
    "                                                significance_threshold=250)\n",
    "\n",
    "    mesh_pieces_without_soma_stacked = tu.combine_meshes(mesh_pieces_without_soma)\n",
    "    \n",
    "    # find the original soma faces of mesh\n",
    "    soma_faces = tu.original_mesh_faces_map(current_mesh,mesh_pieces_without_soma_stacked,matching=False)\n",
    "    soma_meshes = current_mesh.submesh([soma_faces],append=True)\n",
    "    \n",
    "    # finding the non-soma original faces\n",
    "    non_soma_faces = tu.original_mesh_faces_map(current_mesh,soma_meshes,matching=False)\n",
    "    non_soma_stacked_mesh = current_mesh.submesh([non_soma_faces],append=True)\n",
    "    \n",
    "    # 3) Find all significant mesh pieces\n",
    "    sig_non_soma_pieces,insignificant_limbs = tu.split_significant_pieces(non_soma_stacked_mesh,significance_threshold=limb_threshold,\n",
    "                                                     return_insignificant_pieces=True)\n",
    "   \n",
    "    \n",
    "    soma_touching_mesh_data[z][\"branch_meshes\"] = sig_non_soma_pieces\n",
    "    \n",
    "    #4) Backtrack significant mesh pieces to orignal mesh and find connectivity of each to all the available somas\n",
    "    # get all the seperate mesh faces\n",
    "\n",
    "    #How to seperate the mesh faces\n",
    "    seperate_soma_meshes,soma_face_components = tu.split(soma_meshes,only_watertight=False)\n",
    "    soma_touching_mesh_data[z][\"soma_meshes\"] = seperate_soma_meshes\n",
    "    \n",
    "    \n",
    "    soma_to_piece_connectivity = dict()\n",
    "    for i,curr_soma in enumerate(seperate_soma_meshes):\n",
    "        connected_mesh_pieces,connected_mesh_pieces_vertices  = tu.mesh_pieces_connectivity(\n",
    "                        main_mesh=current_mesh,\n",
    "                        central_piece=curr_soma,\n",
    "                        periphery_pieces = sig_non_soma_pieces,\n",
    "                        return_vertices = True)\n",
    "        #print(f\"soma {i}: connected_mesh_pieces = {connected_mesh_pieces}\")\n",
    "        soma_to_piece_connectivity[i] = connected_mesh_pieces\n",
    "    \n",
    "    \n",
    "    soma_touching_mesh_data[z][\"soma_to_piece_connectivity\"] = soma_to_piece_connectivity\n",
    "\n",
    "print(f\"# of insignificant_limbs = {len(insignificant_limbs)} with trimesh : {insignificant_limbs}\")\n",
    "soma_touching_mesh_data"
   ]
  },
  {
   "cell_type": "markdown",
   "metadata": {},
   "source": [
    "# ****Soma Touching mesh Data has the branches and the connectivity (So this is where you end up skipping if you don't have somas)***"
   ]
  },
  {
   "cell_type": "markdown",
   "metadata": {},
   "source": [
    "# Working on the Actual skeleton of all of the branches"
   ]
  },
  {
   "cell_type": "code",
   "execution_count": 12,
   "metadata": {
    "scrolled": true
   },
   "outputs": [
    {
     "name": "stdout",
     "output_type": "stream",
     "text": [
      "\n",
      "-- Working on Soma Continaing Mesh 0--\n",
      "\n",
      "    -- Working on branch 0--\n",
      "     Starting Screened Poisson\n",
      "IN INPUT FILE VALIDATION LOOP\n",
      "LEAVING LOOP, MESH VALIDATED\n",
      "Using port = 1842\n",
      "xvfb-run -n 1842 -s \"-screen 0 800x600x24\" meshlabserver $@  -i /notebooks/neuron_mesh_tools/meshAfterParty/development/temp/None.off -o /notebooks/neuron_mesh_tools/meshAfterParty/development/temp/None_poisson.off -s /notebooks/neuron_mesh_tools/meshAfterParty/development/temp/poisson_72830.mls\n",
      "-----Time for Screened Poisson= 20.192862510681152\n"
     ]
    },
    {
     "name": "stderr",
     "output_type": "stream",
     "text": [
      "face_normals all zero, ignoring!\n",
      "face_normals all zero, ignoring!\n",
      "face_normals all zero, ignoring!\n",
      "face_normals all zero, ignoring!\n",
      "face_normals all zero, ignoring!\n",
      "face_normals all zero, ignoring!\n",
      "face_normals all zero, ignoring!\n",
      "face_normals all zero, ignoring!\n",
      "face_normals all zero, ignoring!\n",
      "face_normals all zero, ignoring!\n",
      "face_normals all zero, ignoring!\n",
      "face_normals all zero, ignoring!\n",
      "face_normals all zero, ignoring!\n",
      "face_normals all zero, ignoring!\n",
      "face_normals all zero, ignoring!\n",
      "face_normals all zero, ignoring!\n",
      "face_normals all zero, ignoring!\n",
      "face_normals all zero, ignoring!\n",
      "face_normals all zero, ignoring!\n",
      "face_normals all zero, ignoring!\n",
      "face_normals all zero, ignoring!\n",
      "face_normals all zero, ignoring!\n",
      "face_normals all zero, ignoring!\n",
      "face_normals all zero, ignoring!\n",
      "face_normals all zero, ignoring!\n",
      "face_normals all zero, ignoring!\n",
      "face_normals all zero, ignoring!\n",
      "face_normals all zero, ignoring!\n",
      "face_normals all zero, ignoring!\n",
      "face_normals all zero, ignoring!\n",
      "face_normals all zero, ignoring!\n",
      "face_normals all zero, ignoring!\n",
      "face_normals all zero, ignoring!\n",
      "face_normals all zero, ignoring!\n",
      "face_normals all zero, ignoring!\n",
      "face_normals all zero, ignoring!\n",
      "face_normals all zero, ignoring!\n",
      "face_normals all zero, ignoring!\n",
      "face_normals all zero, ignoring!\n",
      "face_normals all zero, ignoring!\n",
      "face_normals all zero, ignoring!\n",
      "face_normals all zero, ignoring!\n",
      "face_normals all zero, ignoring!\n",
      "face_normals all zero, ignoring!\n",
      "face_normals all zero, ignoring!\n",
      "face_normals all zero, ignoring!\n",
      "face_normals all zero, ignoring!\n",
      "face_normals all zero, ignoring!\n",
      "face_normals all zero, ignoring!\n",
      "face_normals all zero, ignoring!\n",
      "face_normals all zero, ignoring!\n",
      "face_normals all zero, ignoring!\n",
      "face_normals all zero, ignoring!\n",
      "face_normals all zero, ignoring!\n",
      "face_normals all zero, ignoring!\n",
      "face_normals all zero, ignoring!\n",
      "face_normals all zero, ignoring!\n",
      "face_normals all zero, ignoring!\n",
      "face_normals all zero, ignoring!\n",
      "face_normals all zero, ignoring!\n",
      "face_normals all zero, ignoring!\n"
     ]
    },
    {
     "name": "stdout",
     "output_type": "stream",
     "text": [
      "     Starting Calcification\n",
      "Before mesh subtraction number of skeleton edges = 1759\n",
      "Inside mesh subtraction, len(main_mesh_bbox_restricted.faces) = 90459\n"
     ]
    },
    {
     "data": {
      "application/vnd.jupyter.widget-view+json": {
       "model_id": "ddbadd6d9c764c11bc798a334b8cbf11",
       "version_major": 2,
       "version_minor": 0
      },
      "text/plain": [
       "HBox(children=(FloatProgress(value=1.0, bar_style='info', max=1.0), HTML(value='')))"
      ]
     },
     "metadata": {},
     "output_type": "display_data"
    },
    {
     "name": "stdout",
     "output_type": "stream",
     "text": [
      "\n",
      "Total Mesh subtraction time = 21.0427\n"
     ]
    },
    {
     "data": {
      "application/vnd.jupyter.widget-view+json": {
       "model_id": "02a554c411204d5a8c8f9b5641785519",
       "version_major": 2,
       "version_minor": 0
      },
      "text/plain": [
       "HBox(children=(FloatProgress(value=0.0), HTML(value='')))"
      ]
     },
     "metadata": {},
     "output_type": "display_data"
    },
    {
     "name": "stdout",
     "output_type": "stream",
     "text": [
      "\n",
      "len_subgraphs AT BEGINNING of the loop\n"
     ]
    },
    {
     "data": {
      "application/vnd.jupyter.widget-view+json": {
       "model_id": "189184a6320649319912243459eda393",
       "version_major": 2,
       "version_minor": 0
      },
      "text/plain": [
       "HBox(children=(FloatProgress(value=0.0, max=272.0), HTML(value='')))"
      ]
     },
     "metadata": {},
     "output_type": "display_data"
    },
    {
     "name": "stdout",
     "output_type": "stream",
     "text": [
      "all graph is one component!\n",
      "\n",
      "Total time for skeleton stitching = 0.5571756362915039\n",
      "The process was using a temp folder\n",
      "Using Distance measure skeletal_distance\n"
     ]
    },
    {
     "data": {
      "application/vnd.jupyter.widget-view+json": {
       "model_id": "d1acf280cc0443b4afab36df1200f5ba",
       "version_major": 2,
       "version_minor": 0
      },
      "text/plain": [
       "HBox(children=(FloatProgress(value=0.0, max=183.0), HTML(value='')))"
      ]
     },
     "metadata": {},
     "output_type": "display_data"
    },
    {
     "name": "stdout",
     "output_type": "stream",
     "text": [
      "    Total time for skeleton and cleaning of branch 0: 5.585726737976074\n",
      "\n",
      "    -- Working on branch 1--\n",
      "     Starting Screened Poisson\n",
      "IN INPUT FILE VALIDATION LOOP\n",
      "\n",
      "LEAVING LOOP, MESH VALIDATED\n",
      "Using port = 5477\n",
      "xvfb-run -n 5477 -s \"-screen 0 800x600x24\" meshlabserver $@  -i /notebooks/neuron_mesh_tools/meshAfterParty/development/temp/None.off -o /notebooks/neuron_mesh_tools/meshAfterParty/development/temp/None_poisson.off -s /notebooks/neuron_mesh_tools/meshAfterParty/development/temp/poisson_377460.mls\n"
     ]
    },
    {
     "name": "stderr",
     "output_type": "stream",
     "text": [
      "face_normals all zero, ignoring!\n",
      "face_normals all zero, ignoring!\n",
      "face_normals all zero, ignoring!\n",
      "face_normals all zero, ignoring!\n",
      "face_normals all zero, ignoring!\n",
      "face_normals all zero, ignoring!\n",
      "face_normals all zero, ignoring!\n",
      "face_normals all zero, ignoring!\n",
      "face_normals all zero, ignoring!\n",
      "face_normals all zero, ignoring!\n",
      "face_normals all zero, ignoring!\n",
      "face_normals all zero, ignoring!\n",
      "face_normals all zero, ignoring!\n",
      "face_normals all zero, ignoring!\n",
      "face_normals all zero, ignoring!\n",
      "face_normals all zero, ignoring!\n",
      "face_normals all zero, ignoring!\n",
      "face_normals all zero, ignoring!\n",
      "face_normals all zero, ignoring!\n",
      "face_normals all zero, ignoring!\n"
     ]
    },
    {
     "name": "stdout",
     "output_type": "stream",
     "text": [
      "-----Time for Screened Poisson= 11.79577898979187\n",
      "     Starting Calcification\n",
      "Before mesh subtraction number of skeleton edges = 1070\n",
      "Inside mesh subtraction, len(main_mesh_bbox_restricted.faces) = 52532\n"
     ]
    },
    {
     "data": {
      "application/vnd.jupyter.widget-view+json": {
       "model_id": "940904dab6574909bcaebd25f9414415",
       "version_major": 2,
       "version_minor": 0
      },
      "text/plain": [
       "HBox(children=(FloatProgress(value=1.0, bar_style='info', max=1.0), HTML(value='')))"
      ]
     },
     "metadata": {},
     "output_type": "display_data"
    },
    {
     "name": "stderr",
     "output_type": "stream",
     "text": [
      "No adjacent faces detected! Did you merge vertices?\n"
     ]
    },
    {
     "name": "stdout",
     "output_type": "stream",
     "text": [
      "\n",
      "Total Mesh subtraction time = 13.4872\n"
     ]
    },
    {
     "data": {
      "application/vnd.jupyter.widget-view+json": {
       "model_id": "f9ca788a4db74350b72228b43c3a955d",
       "version_major": 2,
       "version_minor": 0
      },
      "text/plain": [
       "HBox(children=(FloatProgress(value=0.0, max=33.0), HTML(value='')))"
      ]
     },
     "metadata": {},
     "output_type": "display_data"
    },
    {
     "name": "stdout",
     "output_type": "stream",
     "text": [
      "\n",
      "len_subgraphs AT BEGINNING of the loop\n"
     ]
    },
    {
     "data": {
      "application/vnd.jupyter.widget-view+json": {
       "model_id": "330f290fd5d942b4975ac9b8b87ffd72",
       "version_major": 2,
       "version_minor": 0
      },
      "text/plain": [
       "HBox(children=(FloatProgress(value=0.0, max=85.0), HTML(value='')))"
      ]
     },
     "metadata": {},
     "output_type": "display_data"
    },
    {
     "name": "stdout",
     "output_type": "stream",
     "text": [
      "all graph is one component!\n",
      "Total time for skeleton stitching = 0.3204689025878906\n",
      "The process was using a temp folder\n",
      "\n",
      "Using Distance measure skeletal_distance\n"
     ]
    },
    {
     "data": {
      "application/vnd.jupyter.widget-view+json": {
       "model_id": "6ddd54ff3e024bcebb25c0f441af9cd1",
       "version_major": 2,
       "version_minor": 0
      },
      "text/plain": [
       "HBox(children=(FloatProgress(value=0.0, max=68.0), HTML(value='')))"
      ]
     },
     "metadata": {},
     "output_type": "display_data"
    },
    {
     "name": "stdout",
     "output_type": "stream",
     "text": [
      "    Total time for skeleton and cleaning of branch 1: 1.1139330863952637\n",
      "\n",
      "    -- Working on branch 2--\n",
      "     Starting Screened Poisson\n",
      "IN INPUT FILE VALIDATION LOOP\n",
      "\n",
      "LEAVING LOOP, MESH VALIDATED\n",
      "Using port = 2666\n",
      "xvfb-run -n 2666 -s \"-screen 0 800x600x24\" meshlabserver $@  -i /notebooks/neuron_mesh_tools/meshAfterParty/development/temp/None.off -o /notebooks/neuron_mesh_tools/meshAfterParty/development/temp/None_poisson.off -s /notebooks/neuron_mesh_tools/meshAfterParty/development/temp/poisson_966971.mls\n"
     ]
    },
    {
     "name": "stderr",
     "output_type": "stream",
     "text": [
      "face_normals all zero, ignoring!\n",
      "face_normals all zero, ignoring!\n",
      "face_normals all zero, ignoring!\n",
      "face_normals all zero, ignoring!\n",
      "face_normals all zero, ignoring!\n",
      "face_normals all zero, ignoring!\n",
      "face_normals all zero, ignoring!\n",
      "face_normals all zero, ignoring!\n",
      "face_normals all zero, ignoring!\n"
     ]
    },
    {
     "name": "stdout",
     "output_type": "stream",
     "text": [
      "-----Time for Screened Poisson= 7.9032206535339355\n",
      "     Starting Calcification\n",
      "Before mesh subtraction number of skeleton edges = 345\n",
      "Inside mesh subtraction, len(main_mesh_bbox_restricted.faces) = 21031\n"
     ]
    },
    {
     "data": {
      "application/vnd.jupyter.widget-view+json": {
       "model_id": "a5b35d3689384420886e1a87d30e1567",
       "version_major": 2,
       "version_minor": 0
      },
      "text/plain": [
       "HBox(children=(FloatProgress(value=1.0, bar_style='info', max=1.0), HTML(value='')))"
      ]
     },
     "metadata": {},
     "output_type": "display_data"
    },
    {
     "name": "stdout",
     "output_type": "stream",
     "text": [
      "\n",
      "Total Mesh subtraction time = 1.932\n"
     ]
    },
    {
     "data": {
      "application/vnd.jupyter.widget-view+json": {
       "model_id": "240f0ad19d784673893ebb04a2bb7d0a",
       "version_major": 2,
       "version_minor": 0
      },
      "text/plain": [
       "HBox(children=(FloatProgress(value=0.0, max=18.0), HTML(value='')))"
      ]
     },
     "metadata": {},
     "output_type": "display_data"
    },
    {
     "name": "stdout",
     "output_type": "stream",
     "text": [
      "\n",
      "len_subgraphs AT BEGINNING of the loop\n"
     ]
    },
    {
     "data": {
      "application/vnd.jupyter.widget-view+json": {
       "model_id": "b5b09fec46684a5fbd9156d990a6006c",
       "version_major": 2,
       "version_minor": 0
      },
      "text/plain": [
       "HBox(children=(FloatProgress(value=0.0, max=43.0), HTML(value='')))"
      ]
     },
     "metadata": {},
     "output_type": "display_data"
    },
    {
     "name": "stdout",
     "output_type": "stream",
     "text": [
      "all graph is one component!\n",
      "Total time for skeleton stitching = 0.06837630271911621\n",
      "The process was using a temp folder\n",
      "\n",
      "Using Distance measure skeletal_distance\n"
     ]
    },
    {
     "data": {
      "application/vnd.jupyter.widget-view+json": {
       "model_id": "d86574f783164ad3a1d4cc7c37ca320e",
       "version_major": 2,
       "version_minor": 0
      },
      "text/plain": [
       "HBox(children=(FloatProgress(value=0.0, max=25.0), HTML(value='')))"
      ]
     },
     "metadata": {},
     "output_type": "display_data"
    },
    {
     "name": "stdout",
     "output_type": "stream",
     "text": [
      "\n",
      "    Total time for skeleton and cleaning of branch 2: 0.1916790008544922\n",
      "Total time for skeletonization = 100.6843810081482\n"
     ]
    }
   ],
   "source": [
    "sk = reload(sk)\n",
    "xu = reload(xu)\n",
    "\n",
    "import time\n",
    "global_start_time = time.time()\n",
    "\n",
    "for j,(soma_containing_mesh_idx,mesh_data) in enumerate(soma_touching_mesh_data.items()):\n",
    "    print(f\"\\n-- Working on Soma Continaing Mesh {j}--\")\n",
    "    current_branches = mesh_data[\"branch_meshes\"]\n",
    "    \n",
    "    #skeletonize each of the branches\n",
    "    total_skeletons = []\n",
    "    \n",
    "    for z,branch in enumerate(current_branches):\n",
    "        print(f\"\\n    -- Working on branch {z}--\")\n",
    "        curren_skeleton = sk.skeletonize_connected_branch(branch)\n",
    "        #clean the skeleton\n",
    "            # --------  Doing the cleaning ------- #\n",
    "        clean_time = time.time()\n",
    "        filter_end_node_length=5000,\n",
    "        new_cleaned_skeleton = sk.clean_skeleton(curren_skeleton,\n",
    "                                distance_func=sk.skeletal_distance,\n",
    "                          min_distance_to_junction=filter_end_node_length,\n",
    "                          return_skeleton=True,\n",
    "                          print_flag=False)\n",
    "        print(f\"    Total time for skeleton and cleaning of branch {z}: {time.time() - clean_time}\")\n",
    "        if len(new_cleaned_skeleton) == 0:\n",
    "            raise Exception(f\"Found a zero length skeleton for limb {z} of trmesh {branch}\")\n",
    "        total_skeletons.append(new_cleaned_skeleton)\n",
    "    \n",
    "    soma_touching_mesh_data[j][\"branch_skeletons\"] = total_skeletons\n",
    "    \n",
    "print(f\"Total time for skeletonization = {time.time() - global_start_time}\")"
   ]
  },
  {
   "cell_type": "code",
   "execution_count": 13,
   "metadata": {},
   "outputs": [
    {
     "name": "stdout",
     "output_type": "stream",
     "text": [
      "hello\n"
     ]
    }
   ],
   "source": [
    "# save off the data and rename it for use in phase 2\n",
    "# Save our current\n",
    "print(\"hello\")\n",
    "saved_file = f\"./soma_mesh_data/soma_touching_mesh_data_{segment_id}.npz\"\n",
    "np.savez(saved_file,soma_touching_mesh_data=soma_touching_mesh_data)\n",
    "current_mesh_data = soma_touching_mesh_data"
   ]
  },
  {
   "cell_type": "markdown",
   "metadata": {},
   "source": [
    "# Lets have an alert if there was more than one soma disconnected meshes"
   ]
  },
  {
   "cell_type": "code",
   "execution_count": 14,
   "metadata": {},
   "outputs": [],
   "source": [
    "if len(soma_touching_mesh_data.keys()) > 1:\n",
    "    raise Exception(\"More than 1 disconnected meshes that contain somas\")"
   ]
  },
  {
   "cell_type": "markdown",
   "metadata": {},
   "source": [
    "# ******* Phase 2 ********"
   ]
  },
  {
   "cell_type": "markdown",
   "metadata": {},
   "source": [
    "# Importing and visualizing the preprocessed data (for sped up testing)"
   ]
  },
  {
   "cell_type": "code",
   "execution_count": 15,
   "metadata": {},
   "outputs": [],
   "source": [
    "# saved_file = \"../../Platinum_Compartment/soma_touching_mesh_data.npz\"\n",
    "saved_file = f\"./soma_mesh_data/soma_touching_mesh_data_{segment_id}.npz\"\n",
    "current_mesh_data = nu.load_dict(saved_file)"
   ]
  },
  {
   "cell_type": "code",
   "execution_count": 16,
   "metadata": {},
   "outputs": [
    {
     "data": {
      "application/vnd.jupyter.widget-view+json": {
       "model_id": "fdbb9af6255b4c3b8e7e328e51dfa3c2",
       "version_major": 2,
       "version_minor": 0
      },
      "text/plain": [
       "VBox(children=(Figure(camera=PerspectiveCamera(fov=46.0, position=(0.0, 0.0, 2.0), quaternion=(0.0, 0.0, 0.0, …"
      ]
     },
     "metadata": {},
     "output_type": "display_data"
    }
   ],
   "source": [
    "# visualizing the original neuron\n",
    "current_neuron = trimesh.load_mesh(current_mesh_file)\n",
    "sk.graph_skeleton_and_mesh(main_mesh_verts=current_neuron.vertices,\n",
    "                          main_mesh_faces=current_neuron.faces,\n",
    "                           main_mesh_color = [0.,1.,0.,0.8]\n",
    "                          )"
   ]
  },
  {
   "cell_type": "code",
   "execution_count": 17,
   "metadata": {},
   "outputs": [
    {
     "data": {
      "application/vnd.jupyter.widget-view+json": {
       "model_id": "69ecec3ef45e48a1a4ad4f33ea126124",
       "version_major": 2,
       "version_minor": 0
      },
      "text/plain": [
       "VBox(children=(Figure(camera=PerspectiveCamera(fov=46.0, position=(0.0, 0.0, 2.0), quaternion=(0.0, 0.0, 0.0, …"
      ]
     },
     "metadata": {},
     "output_type": "display_data"
    }
   ],
   "source": [
    "# visualizing the somas that were extracted\n",
    "soma_meshes = tu.combine_meshes(current_mesh_data[0][\"soma_meshes\"])\n",
    "sk.graph_skeleton_and_mesh(main_mesh_verts=soma_meshes.vertices,\n",
    "                          main_mesh_faces=soma_meshes.faces,\n",
    "                           main_mesh_color = [0.,1.,0.,0.8]\n",
    "                          )"
   ]
  },
  {
   "cell_type": "code",
   "execution_count": 18,
   "metadata": {},
   "outputs": [],
   "source": [
    "# # Visualize the extracted branches\n",
    "# # visualize all of the branches and the meshes\n",
    "# sk.graph_skeleton_and_mesh(other_meshes=list(current_mesh_data[0][\"branch_meshes\"]) + list(current_mesh_data[0][\"soma_meshes\"]),\n",
    "#                           other_meshes_colors=\"random\",\n",
    "#                            other_skeletons = current_mesh_data[0][\"branch_skeletons\"],\n",
    "#                           other_skeletons_colors=\"random\")"
   ]
  },
  {
   "cell_type": "markdown",
   "metadata": {},
   "source": [
    "# Cleaning each limb through distance and decomposition, checking that all cleaned branches are connected components and then visualizing"
   ]
  },
  {
   "cell_type": "code",
   "execution_count": 19,
   "metadata": {
    "scrolled": true
   },
   "outputs": [
    {
     "name": "stdout",
     "output_type": "stream",
     "text": [
      "\n",
      "---- Working on Limb 0 ----\n",
      "before cleaning limb size of skeleton = (2130, 2, 3)\n",
      "Using Distance measure skeletal_distance\n",
      "no small end nodes to get rid of so returning whole skeleton\n",
      "after DISTANCE cleaning limb size of skeleton = (2130, 2, 3)\n",
      "After DECOMPOSITION cleaning limb size of skeleton = (2130, 2, 3)\n",
      "Total time = 1.1753277778625488\n",
      "\n",
      "---- Working on Limb 1 ----\n",
      "before cleaning limb size of skeleton = (1216, 2, 3)\n",
      "Using Distance measure skeletal_distance\n",
      "no small end nodes to get rid of so returning whole skeleton\n",
      "after DISTANCE cleaning limb size of skeleton = (1216, 2, 3)\n",
      "type(branch_subgraph) = <class 'networkx_utils.GraphOrderedEdges'>\n",
      "in remove edge\n",
      "After DECOMPOSITION cleaning limb size of skeleton = (1215, 2, 3)\n",
      "Total time = 0.526533842086792\n",
      "\n",
      "---- Working on Limb 2 ----\n",
      "before cleaning limb size of skeleton = (420, 2, 3)\n",
      "Using Distance measure skeletal_distance\n",
      "no small end nodes to get rid of so returning whole skeleton\n",
      "after DISTANCE cleaning limb size of skeleton = (420, 2, 3)\n",
      "After DECOMPOSITION cleaning limb size of skeleton = (420, 2, 3)\n",
      "Total time = 0.16898608207702637\n"
     ]
    }
   ],
   "source": [
    "skelton_cleaning_threshold = 4001\n",
    "total_cleaned = []\n",
    "for j,curr_skeleton_to_clean in enumerate(current_mesh_data[0][\"branch_skeletons\"]):\n",
    "    print(f\"\\n---- Working on Limb {j} ----\")\n",
    "    start_time = time.time()\n",
    "    print(f\"before cleaning limb size of skeleton = {curr_skeleton_to_clean.shape}\")\n",
    "    distance_cleaned_skeleton = sk.clean_skeleton(\n",
    "                                                curr_skeleton_to_clean,\n",
    "                                                distance_func=sk.skeletal_distance,\n",
    "                                                min_distance_to_junction = skelton_cleaning_threshold,\n",
    "                                                return_skeleton=True,\n",
    "                                                print_flag=False) \n",
    "    #make sure still connected componet\n",
    "    distance_cleaned_skeleton_components = nx.number_connected_components(sk.convert_skeleton_to_graph(distance_cleaned_skeleton))\n",
    "    if distance_cleaned_skeleton_components > 1:\n",
    "        raise Exception(f\"distance_cleaned_skeleton {j} was not a single component: it was actually {distance_cleaned_skeleton_components} components\")\n",
    "        \n",
    "    print(f\"after DISTANCE cleaning limb size of skeleton = {distance_cleaned_skeleton.shape}\")\n",
    "    cleaned_branch = sk.clean_skeleton_with_decompose(distance_cleaned_skeleton)\n",
    "    \n",
    "    cleaned_branch_components = nx.number_connected_components(sk.convert_skeleton_to_graph(cleaned_branch))\n",
    "    if cleaned_branch_components > 1:\n",
    "        raise Exception(f\"cleaned_branch {j} was not a single component: it was actually {cleaned_branch_components} components\")\n",
    "    \n",
    "    #do the cleanin ghtat removes loops from branches\n",
    "    print(f\"After DECOMPOSITION cleaning limb size of skeleton = {cleaned_branch.shape}\")\n",
    "    print(f\"Total time = {time.time() - start_time}\")\n",
    "    total_cleaned.append(cleaned_branch)\n",
    "    \n",
    "current_mesh_data[0][\"branch_skeletons_cleaned\"] = total_cleaned"
   ]
  },
  {
   "cell_type": "code",
   "execution_count": 20,
   "metadata": {},
   "outputs": [],
   "source": [
    "# checking all cleaned branches are connected components\n",
    "\n",
    "for k,cl_sk in enumerate(current_mesh_data[0][\"branch_skeletons\"]): \n",
    "    n_components = nx.number_connected_components(sk.convert_skeleton_to_graph(cl_sk)) \n",
    "    if n_components > 1:\n",
    "        raise Exception(f\"Original limb {k} was not a single component: it was actually {n_components} components\")\n",
    "    \n",
    "for k,cl_sk in enumerate(current_mesh_data[0][\"branch_skeletons_cleaned\"]): \n",
    "    n_components = nx.number_connected_components(sk.convert_skeleton_to_graph(cl_sk)) \n",
    "    if n_components > 1:\n",
    "        raise Exception(f\"Cleaned limb {k} was not a single component: it was actually {n_components} components\")"
   ]
  },
  {
   "cell_type": "code",
   "execution_count": 21,
   "metadata": {},
   "outputs": [
    {
     "data": {
      "application/vnd.jupyter.widget-view+json": {
       "model_id": "97a2efe0d9e54a4bbc18b8bc9cf8d6d0",
       "version_major": 2,
       "version_minor": 0
      },
      "text/plain": [
       "VBox(children=(Figure(camera=PerspectiveCamera(fov=46.0, position=(0.0, 0.0, 2.0), quaternion=(0.0, 0.0, 0.0, …"
      ]
     },
     "metadata": {},
     "output_type": "display_data"
    }
   ],
   "source": [
    "# visualize all of the branches and the meshes\n",
    "sk.graph_skeleton_and_mesh(other_meshes=list(current_mesh_data[0][\"branch_meshes\"]) + list(current_mesh_data[0][\"soma_meshes\"]),\n",
    "                          other_meshes_colors=\"random\",\n",
    "                           other_skeletons = current_mesh_data[0][\"branch_skeletons_cleaned\"],\n",
    "                          other_skeletons_colors=\"random\",\n",
    "                          mesh_alpha=0.15)"
   ]
  },
  {
   "cell_type": "markdown",
   "metadata": {},
   "source": [
    "# Decomposing of limbs into branches and finding mesh correspondence (using adaptive mesh correspondence followed by a water fill for conflict and empty faces), checking that it went well with no empty meshes and all connected component graph when constructed from branches, plus visualization at end"
   ]
  },
  {
   "cell_type": "code",
   "execution_count": 22,
   "metadata": {
    "scrolled": true
   },
   "outputs": [
    {
     "name": "stdout",
     "output_type": "stream",
     "text": [
      "Working on limb #0\n"
     ]
    },
    {
     "data": {
      "application/vnd.jupyter.widget-view+json": {
       "model_id": "44657e87f55a4bc0b53faa646c6c688e",
       "version_major": 2,
       "version_minor": 0
      },
      "text/plain": [
       "HBox(children=(FloatProgress(value=1.0, bar_style='info', max=1.0), HTML(value='')))"
      ]
     },
     "metadata": {},
     "output_type": "display_data"
    },
    {
     "data": {
      "application/vnd.jupyter.widget-view+json": {
       "model_id": "f573f34055e84ba19b6e41da69314a38",
       "version_major": 2,
       "version_minor": 0
      },
      "text/plain": [
       "HBox(children=(FloatProgress(value=1.0, bar_style='info', max=1.0), HTML(value='')))"
      ]
     },
     "metadata": {},
     "output_type": "display_data"
    },
    {
     "name": "stdout",
     "output_type": "stream",
     "text": [
      "\n",
      "filtered_measurements = [297.40135723 194.22952427 156.39851326 147.12430961 136.54133823\n",
      " 230.08956282 269.32155203 246.0786078  173.35577283 165.69794564\n",
      " 177.31797057 158.29720217 210.08845305 192.94285163 180.27888785\n",
      " 205.7043479  166.10756952 244.63974564 198.392143  ]\n",
      "new_threshold = 506.6108183789977\n"
     ]
    },
    {
     "data": {
      "application/vnd.jupyter.widget-view+json": {
       "model_id": "b427d72de41c44159e80202270ba0c11",
       "version_major": 2,
       "version_minor": 0
      },
      "text/plain": [
       "HBox(children=(FloatProgress(value=1.0, bar_style='info', max=1.0), HTML(value='')))"
      ]
     },
     "metadata": {},
     "output_type": "display_data"
    },
    {
     "name": "stdout",
     "output_type": "stream",
     "text": [
      "\n"
     ]
    },
    {
     "data": {
      "application/vnd.jupyter.widget-view+json": {
       "model_id": "c6d8fcce61644b43ab20c4787002af5f",
       "version_major": 2,
       "version_minor": 0
      },
      "text/plain": [
       "HBox(children=(FloatProgress(value=1.0, bar_style='info', max=1.0), HTML(value='')))"
      ]
     },
     "metadata": {},
     "output_type": "display_data"
    },
    {
     "name": "stdout",
     "output_type": "stream",
     "text": [
      "--> Not exactly one containing mesh: []\n",
      "--> Not exactly one containing mesh: []\n",
      "\n",
      "filtered_measurements = [348.29663015 339.88113895 311.83275598 227.60687288 182.62653139\n",
      " 223.64164644 266.19578537 276.11140868 202.40331397  92.0712355\n",
      " 177.79621289 115.86208977 171.08825207 335.24546517]\n",
      "new_threshold = 769.6159845267192\n"
     ]
    },
    {
     "data": {
      "application/vnd.jupyter.widget-view+json": {
       "model_id": "b5ce08276498433b9e0f3c662b802d21",
       "version_major": 2,
       "version_minor": 0
      },
      "text/plain": [
       "HBox(children=(FloatProgress(value=1.0, bar_style='info', max=1.0), HTML(value='')))"
      ]
     },
     "metadata": {},
     "output_type": "display_data"
    },
    {
     "name": "stdout",
     "output_type": "stream",
     "text": [
      "--> Not exactly one containing mesh: []\n",
      "--> Not exactly one containing mesh: []\n",
      "\n"
     ]
    },
    {
     "data": {
      "application/vnd.jupyter.widget-view+json": {
       "model_id": "572cc3d824e64e6992efee672089caea",
       "version_major": 2,
       "version_minor": 0
      },
      "text/plain": [
       "HBox(children=(FloatProgress(value=1.0, bar_style='info', max=1.0), HTML(value='')))"
      ]
     },
     "metadata": {},
     "output_type": "display_data"
    },
    {
     "name": "stdout",
     "output_type": "stream",
     "text": [
      "\n",
      "filtered_measurements = [235.42799109 297.20072635 363.03050967 213.4608419  238.00055827\n",
      " 209.95213807 190.41873083 245.00132193 245.93567007 291.84452194\n",
      " 226.58504013 305.86122286 341.21159802 287.62835871 363.0368141\n",
      " 321.93338499 245.92750071 180.89379551 181.3079521  176.76975393\n",
      " 269.26179226 223.02693493 164.4511053  300.22541364]\n",
      "new_threshold = 699.9199186390033\n"
     ]
    },
    {
     "data": {
      "application/vnd.jupyter.widget-view+json": {
       "model_id": "e6a6f66eed6e4453b86b3e49b7f3fb95",
       "version_major": 2,
       "version_minor": 0
      },
      "text/plain": [
       "HBox(children=(FloatProgress(value=1.0, bar_style='info', max=1.0), HTML(value='')))"
      ]
     },
     "metadata": {},
     "output_type": "display_data"
    },
    {
     "name": "stdout",
     "output_type": "stream",
     "text": [
      "\n"
     ]
    },
    {
     "data": {
      "application/vnd.jupyter.widget-view+json": {
       "model_id": "1e84080f447b4c51aa09496195ff5453",
       "version_major": 2,
       "version_minor": 0
      },
      "text/plain": [
       "HBox(children=(FloatProgress(value=1.0, bar_style='info', max=1.0), HTML(value='')))"
      ]
     },
     "metadata": {},
     "output_type": "display_data"
    },
    {
     "name": "stdout",
     "output_type": "stream",
     "text": [
      "\n",
      "filtered_measurements = [187.58604705  92.81458133 128.26102887 229.33449177  82.31523718\n",
      " 115.97481714 241.99790463 242.81397404  89.30706292 110.1984416\n",
      " 158.92117386 175.22028492 127.3936039  149.09684493 161.06234003\n",
      " 202.88362189 115.61254272 177.137441   220.58220486 218.91315808]\n",
      "new_threshold = 560.1864009969302\n"
     ]
    },
    {
     "data": {
      "application/vnd.jupyter.widget-view+json": {
       "model_id": "c622595ce564450288e0613715bfb34c",
       "version_major": 2,
       "version_minor": 0
      },
      "text/plain": [
       "HBox(children=(FloatProgress(value=1.0, bar_style='info', max=1.0), HTML(value='')))"
      ]
     },
     "metadata": {},
     "output_type": "display_data"
    },
    {
     "name": "stdout",
     "output_type": "stream",
     "text": [
      "\n"
     ]
    },
    {
     "data": {
      "application/vnd.jupyter.widget-view+json": {
       "model_id": "eefb5c49e2714d78babdf124fb53b7fe",
       "version_major": 2,
       "version_minor": 0
      },
      "text/plain": [
       "HBox(children=(FloatProgress(value=1.0, bar_style='info', max=1.0), HTML(value='')))"
      ]
     },
     "metadata": {},
     "output_type": "display_data"
    },
    {
     "name": "stdout",
     "output_type": "stream",
     "text": [
      "--> Not exactly one containing mesh: []\n",
      "\n",
      "filtered_measurements = [306.07049244 251.31203544 475.99102184 279.73215562 304.49583456\n",
      " 367.83456843 461.2011374  409.12014971 271.54676274 285.24795054\n",
      " 320.74872419 403.34781275 259.11591091 486.87785037 365.03031957\n",
      " 382.15353003 495.88253519 483.44905698 283.97443939 245.83995101\n",
      " 264.66893197 494.85627728 377.49698108 331.60762633 304.17488\n",
      " 294.31679686 275.37523442 223.58542335 265.6771552  303.86761028\n",
      " 460.83193292 364.50856932 356.83633705 251.91927108 252.55720352\n",
      " 300.37049753 260.875676   372.88113837 464.47132032 487.15988303\n",
      " 413.08175998 322.37059192]\n",
      "new_threshold = 1292.7576156673401\n"
     ]
    },
    {
     "data": {
      "application/vnd.jupyter.widget-view+json": {
       "model_id": "85668a72d54a4f999c8b05b07986009f",
       "version_major": 2,
       "version_minor": 0
      },
      "text/plain": [
       "HBox(children=(FloatProgress(value=1.0, bar_style='info', max=1.0), HTML(value='')))"
      ]
     },
     "metadata": {},
     "output_type": "display_data"
    },
    {
     "name": "stdout",
     "output_type": "stream",
     "text": [
      "--> Not exactly one containing mesh: []\n",
      "\n"
     ]
    },
    {
     "data": {
      "application/vnd.jupyter.widget-view+json": {
       "model_id": "c683e2eca915479ba71db110fb9d9c73",
       "version_major": 2,
       "version_minor": 0
      },
      "text/plain": [
       "HBox(children=(FloatProgress(value=1.0, bar_style='info', max=1.0), HTML(value='')))"
      ]
     },
     "metadata": {},
     "output_type": "display_data"
    },
    {
     "name": "stdout",
     "output_type": "stream",
     "text": [
      "\n",
      "filtered_measurements = [128.9683088   82.53892881 177.99167234 198.2159066  129.76452021\n",
      " 277.3120211 ]\n",
      "new_threshold = 625.2847674606417\n"
     ]
    },
    {
     "data": {
      "application/vnd.jupyter.widget-view+json": {
       "model_id": "aaa5711432b14a24aa4d47a77cd7c8df",
       "version_major": 2,
       "version_minor": 0
      },
      "text/plain": [
       "HBox(children=(FloatProgress(value=1.0, bar_style='info', max=1.0), HTML(value='')))"
      ]
     },
     "metadata": {},
     "output_type": "display_data"
    },
    {
     "name": "stdout",
     "output_type": "stream",
     "text": [
      "\n"
     ]
    },
    {
     "data": {
      "application/vnd.jupyter.widget-view+json": {
       "model_id": "4f655e6a25344efeb8b17864b8f98703",
       "version_major": 2,
       "version_minor": 0
      },
      "text/plain": [
       "HBox(children=(FloatProgress(value=1.0, bar_style='info', max=1.0), HTML(value='')))"
      ]
     },
     "metadata": {},
     "output_type": "display_data"
    },
    {
     "name": "stdout",
     "output_type": "stream",
     "text": [
      "--> Not exactly one containing mesh: []\n",
      "\n",
      "filtered_measurements = [ 99.05885158 112.09977515  71.19426743  75.88222615  64.69889541\n",
      "  77.59306304  98.0168722  124.64780897  87.52221933  67.06986019\n",
      "  71.83529211  84.3289914   95.63165005 117.77103868  90.48678684\n",
      "  69.56422748]\n",
      "new_threshold = 262.58339459444176\n"
     ]
    },
    {
     "data": {
      "application/vnd.jupyter.widget-view+json": {
       "model_id": "791961bac7384f748ed10b62c5f5b6c1",
       "version_major": 2,
       "version_minor": 0
      },
      "text/plain": [
       "HBox(children=(FloatProgress(value=1.0, bar_style='info', max=1.0), HTML(value='')))"
      ]
     },
     "metadata": {},
     "output_type": "display_data"
    },
    {
     "name": "stdout",
     "output_type": "stream",
     "text": [
      "--> Not exactly one containing mesh: []\n",
      "--> Not exactly one containing mesh: []\n",
      "--> Not exactly one containing mesh: []\n",
      "\n",
      "branch_touching_number = [24]\n",
      "branch_touching_number = [24, 1]\n",
      "most_branch_containing_piece = 0\n"
     ]
    },
    {
     "data": {
      "application/vnd.jupyter.widget-view+json": {
       "model_id": "1b267b993721436480564b09fb87439b",
       "version_major": 2,
       "version_minor": 0
      },
      "text/plain": [
       "HBox(children=(FloatProgress(value=1.0, bar_style='info', max=1.0), HTML(value='')))"
      ]
     },
     "metadata": {},
     "output_type": "display_data"
    },
    {
     "name": "stdout",
     "output_type": "stream",
     "text": [
      "\n",
      "filtered_measurements = [ 70.7270475  115.36613344 138.57837949 116.71540153  83.34784424\n",
      " 114.78718892 116.0884331  100.13064127 164.82924945  97.64359283\n",
      "  82.18504406  78.95909193 116.84901804  67.24627833  91.6595561\n",
      " 133.15217073 109.51961241 157.26488843 152.08081551  85.75051598\n",
      "  71.64559365  70.99922229 119.21904864  73.10239204 107.97958821\n",
      " 105.65813477 131.30665778 164.72755552]\n",
      "new_threshold = 412.52058487122326\n"
     ]
    },
    {
     "data": {
      "application/vnd.jupyter.widget-view+json": {
       "model_id": "5994ba23480646489b04e79962391d84",
       "version_major": 2,
       "version_minor": 0
      },
      "text/plain": [
       "HBox(children=(FloatProgress(value=1.0, bar_style='info', max=1.0), HTML(value='')))"
      ]
     },
     "metadata": {},
     "output_type": "display_data"
    },
    {
     "name": "stdout",
     "output_type": "stream",
     "text": [
      "\n"
     ]
    },
    {
     "data": {
      "application/vnd.jupyter.widget-view+json": {
       "model_id": "f7378364eea7431487213727b09bea9e",
       "version_major": 2,
       "version_minor": 0
      },
      "text/plain": [
       "HBox(children=(FloatProgress(value=1.0, bar_style='info', max=1.0), HTML(value='')))"
      ]
     },
     "metadata": {},
     "output_type": "display_data"
    },
    {
     "name": "stdout",
     "output_type": "stream",
     "text": [
      "\n",
      "filtered_measurements = [411.8853571  235.09316648 179.65370658 231.13630572 224.87191615\n",
      " 346.06971267]\n",
      "new_threshold = 772.4668475948247\n"
     ]
    },
    {
     "data": {
      "application/vnd.jupyter.widget-view+json": {
       "model_id": "b2001a3abd64483ca17032c754a4c8b7",
       "version_major": 2,
       "version_minor": 0
      },
      "text/plain": [
       "HBox(children=(FloatProgress(value=1.0, bar_style='info', max=1.0), HTML(value='')))"
      ]
     },
     "metadata": {},
     "output_type": "display_data"
    },
    {
     "name": "stdout",
     "output_type": "stream",
     "text": [
      "--> Not exactly one containing mesh: [0 1]\n",
      "\n"
     ]
    },
    {
     "data": {
      "application/vnd.jupyter.widget-view+json": {
       "model_id": "388bb4702ed4431cb5a9a9bf72b26947",
       "version_major": 2,
       "version_minor": 0
      },
      "text/plain": [
       "HBox(children=(FloatProgress(value=1.0, bar_style='info', max=1.0), HTML(value='')))"
      ]
     },
     "metadata": {},
     "output_type": "display_data"
    },
    {
     "name": "stdout",
     "output_type": "stream",
     "text": [
      "\n",
      "filtered_measurements = [131.93291749 143.68036544 135.10376988]\n",
      "new_threshold = 347.2059893095376\n"
     ]
    },
    {
     "data": {
      "application/vnd.jupyter.widget-view+json": {
       "model_id": "aa46b61bd69344cc9c1df71928c72d86",
       "version_major": 2,
       "version_minor": 0
      },
      "text/plain": [
       "HBox(children=(FloatProgress(value=1.0, bar_style='info', max=1.0), HTML(value='')))"
      ]
     },
     "metadata": {},
     "output_type": "display_data"
    },
    {
     "name": "stdout",
     "output_type": "stream",
     "text": [
      "\n"
     ]
    },
    {
     "data": {
      "application/vnd.jupyter.widget-view+json": {
       "model_id": "6629acb48390430c8df95d96ec465e52",
       "version_major": 2,
       "version_minor": 0
      },
      "text/plain": [
       "HBox(children=(FloatProgress(value=1.0, bar_style='info', max=1.0), HTML(value='')))"
      ]
     },
     "metadata": {},
     "output_type": "display_data"
    },
    {
     "name": "stdout",
     "output_type": "stream",
     "text": [
      "\n",
      "filtered_measurements = [319.43524032 296.34483139 326.92648199 321.02648703 382.06036484\n",
      " 341.18093558 313.22676047 233.24705921 258.73471426 258.23350318\n",
      " 380.73119928 264.30411499 472.3027687  411.11827998 402.99649367\n",
      " 315.29780944 254.76151257 294.78284374 393.02166296 401.11725054\n",
      " 254.49614182 366.87695697 318.85824628 314.74678815 291.87487163]\n",
      "new_threshold = 973.4836949911887\n"
     ]
    },
    {
     "data": {
      "application/vnd.jupyter.widget-view+json": {
       "model_id": "9df6fdcf58ec4f868a4fb0b6460d4c61",
       "version_major": 2,
       "version_minor": 0
      },
      "text/plain": [
       "HBox(children=(FloatProgress(value=1.0, bar_style='info', max=1.0), HTML(value='')))"
      ]
     },
     "metadata": {},
     "output_type": "display_data"
    },
    {
     "name": "stdout",
     "output_type": "stream",
     "text": [
      "\n"
     ]
    },
    {
     "data": {
      "application/vnd.jupyter.widget-view+json": {
       "model_id": "e5ecd1d0e5fe41e58e4c7ede6b20b201",
       "version_major": 2,
       "version_minor": 0
      },
      "text/plain": [
       "HBox(children=(FloatProgress(value=1.0, bar_style='info', max=1.0), HTML(value='')))"
      ]
     },
     "metadata": {},
     "output_type": "display_data"
    },
    {
     "name": "stdout",
     "output_type": "stream",
     "text": [
      "\n",
      "filtered_measurements = [248.99745665 278.10099184 287.97040701 262.78927967 145.89125464\n",
      " 131.53143712 172.09549371 264.88125574 266.73466565 236.11037983\n",
      " 251.92497204 246.94794524 336.75630272 280.04846735 121.56302815\n",
      " 127.18096769 108.56051578 197.66133948 342.38062969 139.672082\n",
      " 209.07369104]\n",
      "new_threshold = 789.6995643582334\n"
     ]
    },
    {
     "data": {
      "application/vnd.jupyter.widget-view+json": {
       "model_id": "1af8fc6134594fd2822eafad359e44d3",
       "version_major": 2,
       "version_minor": 0
      },
      "text/plain": [
       "HBox(children=(FloatProgress(value=1.0, bar_style='info', max=1.0), HTML(value='')))"
      ]
     },
     "metadata": {},
     "output_type": "display_data"
    },
    {
     "name": "stdout",
     "output_type": "stream",
     "text": [
      "\n"
     ]
    },
    {
     "data": {
      "application/vnd.jupyter.widget-view+json": {
       "model_id": "287edb67020040ea9764b8bbf0aa275e",
       "version_major": 2,
       "version_minor": 0
      },
      "text/plain": [
       "HBox(children=(FloatProgress(value=1.0, bar_style='info', max=1.0), HTML(value='')))"
      ]
     },
     "metadata": {},
     "output_type": "display_data"
    },
    {
     "name": "stdout",
     "output_type": "stream",
     "text": [
      "\n",
      "filtered_measurements = [320.16435505 257.71505012 259.78619853 211.16319013 198.79361302\n",
      " 224.72790495 175.51796159 140.65405107 288.32966479 223.48778553\n",
      " 205.1370409 ]\n",
      "new_threshold = 553.3724857877131\n"
     ]
    },
    {
     "data": {
      "application/vnd.jupyter.widget-view+json": {
       "model_id": "9633a23c40c14a09a4b4bfba01d14686",
       "version_major": 2,
       "version_minor": 0
      },
      "text/plain": [
       "HBox(children=(FloatProgress(value=1.0, bar_style='info', max=1.0), HTML(value='')))"
      ]
     },
     "metadata": {},
     "output_type": "display_data"
    },
    {
     "name": "stdout",
     "output_type": "stream",
     "text": [
      "\n"
     ]
    },
    {
     "data": {
      "application/vnd.jupyter.widget-view+json": {
       "model_id": "a0076a4c10f549dfaa35ec85d9dcb4db",
       "version_major": 2,
       "version_minor": 0
      },
      "text/plain": [
       "HBox(children=(FloatProgress(value=1.0, bar_style='info', max=1.0), HTML(value='')))"
      ]
     },
     "metadata": {},
     "output_type": "display_data"
    },
    {
     "name": "stdout",
     "output_type": "stream",
     "text": [
      "\n",
      "filtered_measurements = [101.57107259 978.27229401 534.07643258]\n",
      "new_threshold = 2629.7302872401037\n"
     ]
    },
    {
     "data": {
      "application/vnd.jupyter.widget-view+json": {
       "model_id": "acde707ef4014de795fe6b5793f8dacb",
       "version_major": 2,
       "version_minor": 0
      },
      "text/plain": [
       "HBox(children=(FloatProgress(value=1.0, bar_style='info', max=1.0), HTML(value='')))"
      ]
     },
     "metadata": {},
     "output_type": "display_data"
    },
    {
     "name": "stdout",
     "output_type": "stream",
     "text": [
      "\n"
     ]
    },
    {
     "data": {
      "application/vnd.jupyter.widget-view+json": {
       "model_id": "1f1dd664da794d6db3b1497f384ef376",
       "version_major": 2,
       "version_minor": 0
      },
      "text/plain": [
       "HBox(children=(FloatProgress(value=1.0, bar_style='info', max=1.0), HTML(value='')))"
      ]
     },
     "metadata": {},
     "output_type": "display_data"
    },
    {
     "name": "stdout",
     "output_type": "stream",
     "text": [
      "\n",
      "filtered_measurements = [122.28860489 112.62355503 103.66525578 100.67840611  85.78696332]\n",
      "new_threshold = 223.933578576153\n"
     ]
    },
    {
     "data": {
      "application/vnd.jupyter.widget-view+json": {
       "model_id": "33618392e58a4e5b9f4903f123e97c95",
       "version_major": 2,
       "version_minor": 0
      },
      "text/plain": [
       "HBox(children=(FloatProgress(value=1.0, bar_style='info', max=1.0), HTML(value='')))"
      ]
     },
     "metadata": {},
     "output_type": "display_data"
    },
    {
     "name": "stdout",
     "output_type": "stream",
     "text": [
      "\n"
     ]
    },
    {
     "data": {
      "application/vnd.jupyter.widget-view+json": {
       "model_id": "79c266f92cc04b35bcdf4a34d5f21aa8",
       "version_major": 2,
       "version_minor": 0
      },
      "text/plain": [
       "HBox(children=(FloatProgress(value=1.0, bar_style='info', max=1.0), HTML(value='')))"
      ]
     },
     "metadata": {},
     "output_type": "display_data"
    },
    {
     "name": "stdout",
     "output_type": "stream",
     "text": [
      "\n",
      "filtered_measurements = [ 77.26066486  90.805314   123.70272508  93.44774277 130.97450279\n",
      "  98.96830471  94.73835342  94.32679653 150.716427    67.69424404\n",
      "  52.16983639  71.52338076 106.88525204  80.76602401 144.36772009\n",
      " 126.8081761   64.36550318  91.90362635]\n",
      "new_threshold = 327.42276015925654\n"
     ]
    },
    {
     "data": {
      "application/vnd.jupyter.widget-view+json": {
       "model_id": "9385f46419d045f9ae45ce0d57445499",
       "version_major": 2,
       "version_minor": 0
      },
      "text/plain": [
       "HBox(children=(FloatProgress(value=1.0, bar_style='info', max=1.0), HTML(value='')))"
      ]
     },
     "metadata": {},
     "output_type": "display_data"
    },
    {
     "name": "stdout",
     "output_type": "stream",
     "text": [
      "\n"
     ]
    },
    {
     "data": {
      "application/vnd.jupyter.widget-view+json": {
       "model_id": "13f77a51f2824333baeeab5064f0af62",
       "version_major": 2,
       "version_minor": 0
      },
      "text/plain": [
       "HBox(children=(FloatProgress(value=1.0, bar_style='info', max=1.0), HTML(value='')))"
      ]
     },
     "metadata": {},
     "output_type": "display_data"
    },
    {
     "name": "stdout",
     "output_type": "stream",
     "text": [
      "\n",
      "filtered_measurements = [249.77066963 138.29551855 131.41665055 207.97843376]\n",
      "new_threshold = 633.4543516742633\n"
     ]
    },
    {
     "data": {
      "application/vnd.jupyter.widget-view+json": {
       "model_id": "1612bfed49894037bf684acedc9820ea",
       "version_major": 2,
       "version_minor": 0
      },
      "text/plain": [
       "HBox(children=(FloatProgress(value=1.0, bar_style='info', max=1.0), HTML(value='')))"
      ]
     },
     "metadata": {},
     "output_type": "display_data"
    },
    {
     "name": "stdout",
     "output_type": "stream",
     "text": [
      "\n"
     ]
    },
    {
     "data": {
      "application/vnd.jupyter.widget-view+json": {
       "model_id": "ee96788d026043a4bb750d1eda88695d",
       "version_major": 2,
       "version_minor": 0
      },
      "text/plain": [
       "HBox(children=(FloatProgress(value=1.0, bar_style='info', max=1.0), HTML(value='')))"
      ]
     },
     "metadata": {},
     "output_type": "display_data"
    },
    {
     "name": "stdout",
     "output_type": "stream",
     "text": [
      "\n",
      "filtered_measurements = [254.0004961  270.94699433 360.71239969]\n",
      "new_threshold = 646.1408021859837\n"
     ]
    },
    {
     "data": {
      "application/vnd.jupyter.widget-view+json": {
       "model_id": "32107daed79f42bfb2457466901f2065",
       "version_major": 2,
       "version_minor": 0
      },
      "text/plain": [
       "HBox(children=(FloatProgress(value=1.0, bar_style='info', max=1.0), HTML(value='')))"
      ]
     },
     "metadata": {},
     "output_type": "display_data"
    },
    {
     "name": "stdout",
     "output_type": "stream",
     "text": [
      "\n"
     ]
    },
    {
     "data": {
      "application/vnd.jupyter.widget-view+json": {
       "model_id": "578e195b882547218ba92f27358b8749",
       "version_major": 2,
       "version_minor": 0
      },
      "text/plain": [
       "HBox(children=(FloatProgress(value=1.0, bar_style='info', max=1.0), HTML(value='')))"
      ]
     },
     "metadata": {},
     "output_type": "display_data"
    },
    {
     "name": "stdout",
     "output_type": "stream",
     "text": [
      "\n",
      "filtered_measurements = [284.73791388 507.69497453 408.12947688 475.50765495 377.9769808\n",
      " 344.25647034 524.3987562  354.09045128]\n",
      "new_threshold = 1342.2341608255958\n"
     ]
    },
    {
     "data": {
      "application/vnd.jupyter.widget-view+json": {
       "model_id": "8faed772e1b748b1a35ec585dc6fd450",
       "version_major": 2,
       "version_minor": 0
      },
      "text/plain": [
       "HBox(children=(FloatProgress(value=1.0, bar_style='info', max=1.0), HTML(value='')))"
      ]
     },
     "metadata": {},
     "output_type": "display_data"
    },
    {
     "name": "stdout",
     "output_type": "stream",
     "text": [
      "\n"
     ]
    },
    {
     "data": {
      "application/vnd.jupyter.widget-view+json": {
       "model_id": "54ffc64a18b34a4e8d116d2814d375d6",
       "version_major": 2,
       "version_minor": 0
      },
      "text/plain": [
       "HBox(children=(FloatProgress(value=1.0, bar_style='info', max=1.0), HTML(value='')))"
      ]
     },
     "metadata": {},
     "output_type": "display_data"
    },
    {
     "name": "stdout",
     "output_type": "stream",
     "text": [
      "\n",
      "filtered_measurements = [231.1975545  229.83624499 271.30803104 370.88203546 250.57208496\n",
      " 218.53654661 341.61080919 352.44806792 285.69420124 257.03083363\n",
      " 279.64789583 313.10055021 209.77044709 249.62641816 282.74657043]\n",
      "new_threshold = 585.8666695772828\n"
     ]
    },
    {
     "data": {
      "application/vnd.jupyter.widget-view+json": {
       "model_id": "2019b9ef62ff459db4686af788d294d0",
       "version_major": 2,
       "version_minor": 0
      },
      "text/plain": [
       "HBox(children=(FloatProgress(value=1.0, bar_style='info', max=1.0), HTML(value='')))"
      ]
     },
     "metadata": {},
     "output_type": "display_data"
    },
    {
     "name": "stdout",
     "output_type": "stream",
     "text": [
      "\n"
     ]
    },
    {
     "data": {
      "application/vnd.jupyter.widget-view+json": {
       "model_id": "b83c252fc52b4cff8d3a5c74dcfbee18",
       "version_major": 2,
       "version_minor": 0
      },
      "text/plain": [
       "HBox(children=(FloatProgress(value=1.0, bar_style='info', max=1.0), HTML(value='')))"
      ]
     },
     "metadata": {},
     "output_type": "display_data"
    },
    {
     "name": "stdout",
     "output_type": "stream",
     "text": [
      "\n",
      "filtered_measurements = [316.64010564 211.36241987 219.24071145 262.53616148 219.32167528\n",
      " 275.88417007 257.50300085]\n",
      "new_threshold = 492.87593148038326\n"
     ]
    },
    {
     "data": {
      "application/vnd.jupyter.widget-view+json": {
       "model_id": "ec6b1d432cf442188e23960f890ec078",
       "version_major": 2,
       "version_minor": 0
      },
      "text/plain": [
       "HBox(children=(FloatProgress(value=1.0, bar_style='info', max=1.0), HTML(value='')))"
      ]
     },
     "metadata": {},
     "output_type": "display_data"
    },
    {
     "name": "stdout",
     "output_type": "stream",
     "text": [
      "\n"
     ]
    },
    {
     "data": {
      "application/vnd.jupyter.widget-view+json": {
       "model_id": "eb1d12f0d2bc462e9e01d70d2d73915e",
       "version_major": 2,
       "version_minor": 0
      },
      "text/plain": [
       "HBox(children=(FloatProgress(value=1.0, bar_style='info', max=1.0), HTML(value='')))"
      ]
     },
     "metadata": {},
     "output_type": "display_data"
    },
    {
     "name": "stdout",
     "output_type": "stream",
     "text": [
      "\n",
      "filtered_measurements = [282.0784539  270.07591024 351.96403139]\n",
      "new_threshold = 615.2352851386806\n"
     ]
    },
    {
     "data": {
      "application/vnd.jupyter.widget-view+json": {
       "model_id": "40ee6027d27141ca88bcfbc8d5acfcbb",
       "version_major": 2,
       "version_minor": 0
      },
      "text/plain": [
       "HBox(children=(FloatProgress(value=1.0, bar_style='info', max=1.0), HTML(value='')))"
      ]
     },
     "metadata": {},
     "output_type": "display_data"
    },
    {
     "name": "stdout",
     "output_type": "stream",
     "text": [
      "\n"
     ]
    },
    {
     "data": {
      "application/vnd.jupyter.widget-view+json": {
       "model_id": "2a89feb8bdb1441597c5ad5748f6c303",
       "version_major": 2,
       "version_minor": 0
      },
      "text/plain": [
       "HBox(children=(FloatProgress(value=1.0, bar_style='info', max=1.0), HTML(value='')))"
      ]
     },
     "metadata": {},
     "output_type": "display_data"
    },
    {
     "name": "stdout",
     "output_type": "stream",
     "text": [
      "\n",
      "filtered_measurements = [577.83098115 437.881545   369.19800069 547.35386459]\n",
      "new_threshold = 1030.3967837382984\n"
     ]
    },
    {
     "data": {
      "application/vnd.jupyter.widget-view+json": {
       "model_id": "e9ae437c7bb14ff5975dfbdabc9e2458",
       "version_major": 2,
       "version_minor": 0
      },
      "text/plain": [
       "HBox(children=(FloatProgress(value=1.0, bar_style='info', max=1.0), HTML(value='')))"
      ]
     },
     "metadata": {},
     "output_type": "display_data"
    },
    {
     "name": "stdout",
     "output_type": "stream",
     "text": [
      "\n"
     ]
    },
    {
     "data": {
      "application/vnd.jupyter.widget-view+json": {
       "model_id": "5bf3e5c1fdb34b6f98a4e1b997d654c6",
       "version_major": 2,
       "version_minor": 0
      },
      "text/plain": [
       "HBox(children=(FloatProgress(value=1.0, bar_style='info', max=1.0), HTML(value='')))"
      ]
     },
     "metadata": {},
     "output_type": "display_data"
    },
    {
     "name": "stdout",
     "output_type": "stream",
     "text": [
      "\n",
      "filtered_measurements = [148.97677203 126.90084284 115.48410927 158.57579014 143.84530786\n",
      " 114.7613486  123.20340078 156.27881698 183.4715553   96.92690279\n",
      " 129.96446687  89.08173087 186.63737051 130.13006302]\n",
      "new_threshold = 418.4316032138029\n"
     ]
    },
    {
     "data": {
      "application/vnd.jupyter.widget-view+json": {
       "model_id": "acc5bf8c4529445eb3f1e45ded8cdcc1",
       "version_major": 2,
       "version_minor": 0
      },
      "text/plain": [
       "HBox(children=(FloatProgress(value=1.0, bar_style='info', max=1.0), HTML(value='')))"
      ]
     },
     "metadata": {},
     "output_type": "display_data"
    },
    {
     "name": "stdout",
     "output_type": "stream",
     "text": [
      "\n"
     ]
    },
    {
     "data": {
      "application/vnd.jupyter.widget-view+json": {
       "model_id": "727826cbb7f049a9a74aa0815790325b",
       "version_major": 2,
       "version_minor": 0
      },
      "text/plain": [
       "HBox(children=(FloatProgress(value=1.0, bar_style='info', max=1.0), HTML(value='')))"
      ]
     },
     "metadata": {},
     "output_type": "display_data"
    },
    {
     "name": "stdout",
     "output_type": "stream",
     "text": [
      "--> Not exactly one containing mesh: []\n",
      "\n",
      "filtered_measurements = [1236.8926282  1368.42158901 1493.80202719 1716.10577266 1404.60389325\n",
      " 1393.74056396]\n",
      "new_threshold = 3427.5611917492593\n"
     ]
    },
    {
     "data": {
      "application/vnd.jupyter.widget-view+json": {
       "model_id": "9031c79277254ccc97e89f8668a78854",
       "version_major": 2,
       "version_minor": 0
      },
      "text/plain": [
       "HBox(children=(FloatProgress(value=1.0, bar_style='info', max=1.0), HTML(value='')))"
      ]
     },
     "metadata": {},
     "output_type": "display_data"
    },
    {
     "name": "stdout",
     "output_type": "stream",
     "text": [
      "--> Not exactly one containing mesh: []\n",
      "\n"
     ]
    },
    {
     "data": {
      "application/vnd.jupyter.widget-view+json": {
       "model_id": "49ed196b0f2248c9b11a823cf777cf0d",
       "version_major": 2,
       "version_minor": 0
      },
      "text/plain": [
       "HBox(children=(FloatProgress(value=1.0, bar_style='info', max=1.0), HTML(value='')))"
      ]
     },
     "metadata": {},
     "output_type": "display_data"
    },
    {
     "name": "stdout",
     "output_type": "stream",
     "text": [
      "\n",
      "filtered_measurements = [600.37045586 512.26763379 430.89953511 731.60322107 591.28491127\n",
      " 937.84270219 875.18824646]\n",
      "new_threshold = 2623.335680041726\n"
     ]
    },
    {
     "data": {
      "application/vnd.jupyter.widget-view+json": {
       "model_id": "5029b088a53e465bb68d2f505bd684d3",
       "version_major": 2,
       "version_minor": 0
      },
      "text/plain": [
       "HBox(children=(FloatProgress(value=1.0, bar_style='info', max=1.0), HTML(value='')))"
      ]
     },
     "metadata": {},
     "output_type": "display_data"
    },
    {
     "name": "stdout",
     "output_type": "stream",
     "text": [
      "\n"
     ]
    },
    {
     "data": {
      "application/vnd.jupyter.widget-view+json": {
       "model_id": "f050b2c2625c4c9fa3e7c2749c400a1c",
       "version_major": 2,
       "version_minor": 0
      },
      "text/plain": [
       "HBox(children=(FloatProgress(value=1.0, bar_style='info', max=1.0), HTML(value='')))"
      ]
     },
     "metadata": {},
     "output_type": "display_data"
    },
    {
     "name": "stdout",
     "output_type": "stream",
     "text": [
      "\n",
      "filtered_measurements = [509.56984312 353.86725715 297.56985303 401.46732055 339.88973839\n",
      " 270.05373644 387.00108502 442.77881945]\n",
      "new_threshold = 1259.0559792437741\n"
     ]
    },
    {
     "data": {
      "application/vnd.jupyter.widget-view+json": {
       "model_id": "8550e4576efe488687d8afa2fa593d7f",
       "version_major": 2,
       "version_minor": 0
      },
      "text/plain": [
       "HBox(children=(FloatProgress(value=1.0, bar_style='info', max=1.0), HTML(value='')))"
      ]
     },
     "metadata": {},
     "output_type": "display_data"
    },
    {
     "name": "stdout",
     "output_type": "stream",
     "text": [
      "\n"
     ]
    },
    {
     "data": {
      "application/vnd.jupyter.widget-view+json": {
       "model_id": "5dac7899db3f4d22a711efeef8cf13cf",
       "version_major": 2,
       "version_minor": 0
      },
      "text/plain": [
       "HBox(children=(FloatProgress(value=1.0, bar_style='info', max=1.0), HTML(value='')))"
      ]
     },
     "metadata": {},
     "output_type": "display_data"
    },
    {
     "name": "stdout",
     "output_type": "stream",
     "text": [
      "\n",
      "filtered_measurements = [611.51596035 613.42110109 580.33029282 607.91716818 605.63380488\n",
      " 674.00752411 703.18574159]\n",
      "new_threshold = 1076.4316730685716\n"
     ]
    },
    {
     "data": {
      "application/vnd.jupyter.widget-view+json": {
       "model_id": "301865cf80ff4899a1649c861c34e8cb",
       "version_major": 2,
       "version_minor": 0
      },
      "text/plain": [
       "HBox(children=(FloatProgress(value=1.0, bar_style='info', max=1.0), HTML(value='')))"
      ]
     },
     "metadata": {},
     "output_type": "display_data"
    },
    {
     "name": "stdout",
     "output_type": "stream",
     "text": [
      "\n"
     ]
    },
    {
     "data": {
      "application/vnd.jupyter.widget-view+json": {
       "model_id": "4633a6a586e3454f95fedd9cf04b94a4",
       "version_major": 2,
       "version_minor": 0
      },
      "text/plain": [
       "HBox(children=(FloatProgress(value=1.0, bar_style='info', max=1.0), HTML(value='')))"
      ]
     },
     "metadata": {},
     "output_type": "display_data"
    },
    {
     "name": "stdout",
     "output_type": "stream",
     "text": [
      "\n",
      "filtered_measurements = [ 75.67726921  87.8246237   86.50809708  90.30932616  97.78441808\n",
      "  85.46747161  88.34517939 109.99497174]\n",
      "new_threshold = 206.18686477351113\n"
     ]
    },
    {
     "data": {
      "application/vnd.jupyter.widget-view+json": {
       "model_id": "215d7f302a0c4923830f6c0716f8c8f5",
       "version_major": 2,
       "version_minor": 0
      },
      "text/plain": [
       "HBox(children=(FloatProgress(value=1.0, bar_style='info', max=1.0), HTML(value='')))"
      ]
     },
     "metadata": {},
     "output_type": "display_data"
    },
    {
     "name": "stdout",
     "output_type": "stream",
     "text": [
      "--> Not exactly one containing mesh: []\n",
      "\n",
      "branch_touching_number = [9]\n",
      "branch_touching_number = [9, 4]\n",
      "most_branch_containing_piece = 0\n"
     ]
    },
    {
     "data": {
      "application/vnd.jupyter.widget-view+json": {
       "model_id": "b54416b3556a4cafa1ad6ad83e737c7e",
       "version_major": 2,
       "version_minor": 0
      },
      "text/plain": [
       "HBox(children=(FloatProgress(value=1.0, bar_style='info', max=1.0), HTML(value='')))"
      ]
     },
     "metadata": {},
     "output_type": "display_data"
    },
    {
     "name": "stdout",
     "output_type": "stream",
     "text": [
      "\n",
      "filtered_measurements = [282.55372021 273.16210926 246.26490634 204.29519566 218.40183815\n",
      " 227.9975209  286.58048544 244.13378672 196.03301906 172.08653373\n",
      " 232.13953333 216.62354747 344.55304188 351.274941   397.35717332\n",
      " 366.57865848 215.1431394  296.8341928  226.91650841 259.36044754\n",
      " 276.4143607  357.12561689 368.55533044 310.57949481 206.93331172\n",
      " 289.46555581 238.14693842 180.2234644  208.28003648 298.99766489\n",
      " 348.2663546  384.95461346 178.42477365 166.03504991 253.71516298\n",
      " 188.37149296 359.13845485 255.70137413]\n",
      "new_threshold = 934.0301272711024\n"
     ]
    },
    {
     "data": {
      "application/vnd.jupyter.widget-view+json": {
       "model_id": "045b9bb4273e420684a93dbe73d99b31",
       "version_major": 2,
       "version_minor": 0
      },
      "text/plain": [
       "HBox(children=(FloatProgress(value=1.0, bar_style='info', max=1.0), HTML(value='')))"
      ]
     },
     "metadata": {},
     "output_type": "display_data"
    },
    {
     "name": "stdout",
     "output_type": "stream",
     "text": [
      "\n"
     ]
    },
    {
     "data": {
      "application/vnd.jupyter.widget-view+json": {
       "model_id": "cd2b85c07f4f4991812f85b95cb6ff03",
       "version_major": 2,
       "version_minor": 0
      },
      "text/plain": [
       "HBox(children=(FloatProgress(value=1.0, bar_style='info', max=1.0), HTML(value='')))"
      ]
     },
     "metadata": {},
     "output_type": "display_data"
    },
    {
     "name": "stdout",
     "output_type": "stream",
     "text": [
      "\n",
      "filtered_measurements = [149.2500369  188.72033633  94.73556855  72.0173624  101.41413769\n",
      " 154.82377648 206.65705433]\n",
      "new_threshold = 446.1139889974459\n"
     ]
    },
    {
     "data": {
      "application/vnd.jupyter.widget-view+json": {
       "model_id": "9ef4598323d74cf4bc524b097533122c",
       "version_major": 2,
       "version_minor": 0
      },
      "text/plain": [
       "HBox(children=(FloatProgress(value=1.0, bar_style='info', max=1.0), HTML(value='')))"
      ]
     },
     "metadata": {},
     "output_type": "display_data"
    },
    {
     "name": "stdout",
     "output_type": "stream",
     "text": [
      "--> Not exactly one containing mesh: []\n",
      "\n",
      "branch_touching_number = [10]\n",
      "branch_touching_number = [10, 1]\n",
      "most_branch_containing_piece = 0\n"
     ]
    },
    {
     "data": {
      "application/vnd.jupyter.widget-view+json": {
       "model_id": "40c66ef2f60b40dcb088e7be115c32e0",
       "version_major": 2,
       "version_minor": 0
      },
      "text/plain": [
       "HBox(children=(FloatProgress(value=1.0, bar_style='info', max=1.0), HTML(value='')))"
      ]
     },
     "metadata": {},
     "output_type": "display_data"
    },
    {
     "name": "stdout",
     "output_type": "stream",
     "text": [
      "\n",
      "filtered_measurements = [248.12928914 260.29158547 249.38375921 383.11097244 274.89458964\n",
      " 284.54190755 413.09878322 330.06074581 293.92465657 383.62128372]\n",
      "new_threshold = 778.5017851369392\n"
     ]
    },
    {
     "data": {
      "application/vnd.jupyter.widget-view+json": {
       "model_id": "5c258cad0ce34a968517942e2e008704",
       "version_major": 2,
       "version_minor": 0
      },
      "text/plain": [
       "HBox(children=(FloatProgress(value=1.0, bar_style='info', max=1.0), HTML(value='')))"
      ]
     },
     "metadata": {},
     "output_type": "display_data"
    },
    {
     "name": "stdout",
     "output_type": "stream",
     "text": [
      "\n"
     ]
    },
    {
     "data": {
      "application/vnd.jupyter.widget-view+json": {
       "model_id": "595cc7a471a8457196b2006a4e98e5bf",
       "version_major": 2,
       "version_minor": 0
      },
      "text/plain": [
       "HBox(children=(FloatProgress(value=1.0, bar_style='info', max=1.0), HTML(value='')))"
      ]
     },
     "metadata": {},
     "output_type": "display_data"
    },
    {
     "name": "stdout",
     "output_type": "stream",
     "text": [
      "\n",
      "filtered_measurements = [190.15720945 272.60367759 262.92750581 321.11292103 315.06110002\n",
      " 204.36867504 119.83913299 192.54534649 296.98790911 287.66229471\n",
      " 223.46890771 147.55040458 185.13526378 283.05163674 355.36640999\n",
      " 318.84050654 294.5121614  301.31396976 406.3646149  234.81918308\n",
      " 257.90649899 267.23970883 388.71526432 357.48729364 281.89280342\n",
      " 405.87516904 313.52435211 334.93509571 159.54126861 157.81219627\n",
      " 372.4746424  356.05413528 126.04782495 257.86073048 231.74791073\n",
      " 238.88298099 137.85436057 139.54674089 404.45706348 260.02051579\n",
      " 279.29954549 281.85102961 307.37730371 158.61561143 145.17441565\n",
      " 250.02575413 343.46857213 197.42150523 141.08633752 180.58654832\n",
      " 347.77647685 126.02845348 325.0940613  346.54758005 256.44658611\n",
      " 248.75998147 357.62770943 258.80122636 230.33702857 277.67822295\n",
      " 357.40596887 208.73395417 264.26546946 150.07459832 326.73982375\n",
      " 267.76702672 211.26396611 265.63417647 307.15778461 306.99364637\n",
      " 120.65177419  78.28413612 219.96363153 292.8545813  313.5518122\n",
      " 297.60650594 178.82009071 191.13069951 242.26775286]\n",
      "new_threshold = 1084.5043908033012\n"
     ]
    },
    {
     "data": {
      "application/vnd.jupyter.widget-view+json": {
       "model_id": "d9e01e083fcc47639d5612b0560962c0",
       "version_major": 2,
       "version_minor": 0
      },
      "text/plain": [
       "HBox(children=(FloatProgress(value=1.0, bar_style='info', max=1.0), HTML(value='')))"
      ]
     },
     "metadata": {},
     "output_type": "display_data"
    },
    {
     "name": "stdout",
     "output_type": "stream",
     "text": [
      "\n"
     ]
    },
    {
     "data": {
      "application/vnd.jupyter.widget-view+json": {
       "model_id": "49bdc49a22134305b2216183f71c7dc5",
       "version_major": 2,
       "version_minor": 0
      },
      "text/plain": [
       "HBox(children=(FloatProgress(value=1.0, bar_style='info', max=1.0), HTML(value='')))"
      ]
     },
     "metadata": {},
     "output_type": "display_data"
    },
    {
     "name": "stdout",
     "output_type": "stream",
     "text": [
      "\n",
      "filtered_measurements = [382.93317404 319.7911435  209.66328585 240.66324671 423.61609742\n",
      " 333.56281948 215.94335319 432.69822254 285.39174176 257.70065387\n",
      " 335.33910542 447.80264594 240.44221176 353.9454122  263.33230987\n",
      " 402.25238676 226.27246825 201.01842082 279.06898148 151.00394645]\n",
      "new_threshold = 965.1832012183836\n"
     ]
    },
    {
     "data": {
      "application/vnd.jupyter.widget-view+json": {
       "model_id": "6552b6ed10b84db2b421bf80ff540af8",
       "version_major": 2,
       "version_minor": 0
      },
      "text/plain": [
       "HBox(children=(FloatProgress(value=1.0, bar_style='info', max=1.0), HTML(value='')))"
      ]
     },
     "metadata": {},
     "output_type": "display_data"
    },
    {
     "name": "stdout",
     "output_type": "stream",
     "text": [
      "\n"
     ]
    },
    {
     "data": {
      "application/vnd.jupyter.widget-view+json": {
       "model_id": "ed68c92874d94bb491af6d63d0c9e171",
       "version_major": 2,
       "version_minor": 0
      },
      "text/plain": [
       "HBox(children=(FloatProgress(value=1.0, bar_style='info', max=1.0), HTML(value='')))"
      ]
     },
     "metadata": {},
     "output_type": "display_data"
    },
    {
     "name": "stdout",
     "output_type": "stream",
     "text": [
      "\n",
      "filtered_measurements = [196.12031843 154.66509075 217.24117858 217.90711792]\n",
      "new_threshold = 498.84322011373246\n"
     ]
    },
    {
     "data": {
      "application/vnd.jupyter.widget-view+json": {
       "model_id": "67978842f27d46a6a5adc9a7d42e0f73",
       "version_major": 2,
       "version_minor": 0
      },
      "text/plain": [
       "HBox(children=(FloatProgress(value=1.0, bar_style='info', max=1.0), HTML(value='')))"
      ]
     },
     "metadata": {},
     "output_type": "display_data"
    },
    {
     "name": "stdout",
     "output_type": "stream",
     "text": [
      "\n"
     ]
    },
    {
     "data": {
      "application/vnd.jupyter.widget-view+json": {
       "model_id": "cc0780d4c7d8469cb6f7d177b0a00fc2",
       "version_major": 2,
       "version_minor": 0
      },
      "text/plain": [
       "HBox(children=(FloatProgress(value=1.0, bar_style='info', max=1.0), HTML(value='')))"
      ]
     },
     "metadata": {},
     "output_type": "display_data"
    },
    {
     "name": "stdout",
     "output_type": "stream",
     "text": [
      "\n",
      "filtered_measurements = [135.8052499  288.29945215 290.35735737 174.14789723 265.11462687\n",
      " 259.46769734 166.60196782 223.89793594]\n",
      "new_threshold = 545.2869653149214\n"
     ]
    },
    {
     "data": {
      "application/vnd.jupyter.widget-view+json": {
       "model_id": "d8767faf5e7547a78740fedd15cfd44f",
       "version_major": 2,
       "version_minor": 0
      },
      "text/plain": [
       "HBox(children=(FloatProgress(value=1.0, bar_style='info', max=1.0), HTML(value='')))"
      ]
     },
     "metadata": {},
     "output_type": "display_data"
    },
    {
     "name": "stdout",
     "output_type": "stream",
     "text": [
      "\n"
     ]
    },
    {
     "data": {
      "application/vnd.jupyter.widget-view+json": {
       "model_id": "63490c3969fb4289a38f64286eee63f1",
       "version_major": 2,
       "version_minor": 0
      },
      "text/plain": [
       "HBox(children=(FloatProgress(value=1.0, bar_style='info', max=1.0), HTML(value='')))"
      ]
     },
     "metadata": {},
     "output_type": "display_data"
    },
    {
     "name": "stdout",
     "output_type": "stream",
     "text": [
      "--> Not exactly one containing mesh: []\n",
      "\n",
      "filtered_measurements = [212.67947669 175.12382856 120.41229022 135.91176652  98.73201189\n",
      " 192.29446403 112.15071057]\n",
      "new_threshold = 498.4969624112047\n"
     ]
    },
    {
     "data": {
      "application/vnd.jupyter.widget-view+json": {
       "model_id": "ffe47a4514aa4783855c58e1d9499de0",
       "version_major": 2,
       "version_minor": 0
      },
      "text/plain": [
       "HBox(children=(FloatProgress(value=1.0, bar_style='info', max=1.0), HTML(value='')))"
      ]
     },
     "metadata": {},
     "output_type": "display_data"
    },
    {
     "name": "stdout",
     "output_type": "stream",
     "text": [
      "--> Not exactly one containing mesh: []\n",
      "\n"
     ]
    },
    {
     "data": {
      "application/vnd.jupyter.widget-view+json": {
       "model_id": "bb947a2805114fe4aa45e4e9843496a8",
       "version_major": 2,
       "version_minor": 0
      },
      "text/plain": [
       "HBox(children=(FloatProgress(value=1.0, bar_style='info', max=1.0), HTML(value='')))"
      ]
     },
     "metadata": {},
     "output_type": "display_data"
    },
    {
     "name": "stdout",
     "output_type": "stream",
     "text": [
      "\n",
      "filtered_measurements = [328.5976637  310.32778949 292.67892729 161.78267747 172.71893698\n",
      " 197.62205565 344.59212318 225.12416792 223.9412352  301.3486527\n",
      " 237.79715176 397.21657885 293.30964204 289.22601848 202.3234221\n",
      " 206.9857904  245.2877641  341.98488189 222.36733553 107.84235931\n",
      " 248.72797373 211.77465497 345.34313335 281.75098014 216.56826702\n",
      " 234.43323505 225.48009435 164.44403922 220.31100306 393.95167628\n",
      " 337.08872895 379.60027525 237.67955371 133.90253154 378.48639793]\n",
      "new_threshold = 1026.3734861926393\n"
     ]
    },
    {
     "data": {
      "application/vnd.jupyter.widget-view+json": {
       "model_id": "baea4a9da7254b07b13a21f76674b841",
       "version_major": 2,
       "version_minor": 0
      },
      "text/plain": [
       "HBox(children=(FloatProgress(value=1.0, bar_style='info', max=1.0), HTML(value='')))"
      ]
     },
     "metadata": {},
     "output_type": "display_data"
    },
    {
     "name": "stdout",
     "output_type": "stream",
     "text": [
      "\n"
     ]
    },
    {
     "data": {
      "application/vnd.jupyter.widget-view+json": {
       "model_id": "6996ae281f524e20864478a96743906f",
       "version_major": 2,
       "version_minor": 0
      },
      "text/plain": [
       "HBox(children=(FloatProgress(value=1.0, bar_style='info', max=1.0), HTML(value='')))"
      ]
     },
     "metadata": {},
     "output_type": "display_data"
    },
    {
     "name": "stdout",
     "output_type": "stream",
     "text": [
      "\n",
      "filtered_measurements = [160.79468907 151.56895828 169.82326472]\n",
      "new_threshold = 295.46436840860605\n"
     ]
    },
    {
     "data": {
      "application/vnd.jupyter.widget-view+json": {
       "model_id": "c942d047908c44218f5a1ebd2b62af87",
       "version_major": 2,
       "version_minor": 0
      },
      "text/plain": [
       "HBox(children=(FloatProgress(value=1.0, bar_style='info', max=1.0), HTML(value='')))"
      ]
     },
     "metadata": {},
     "output_type": "display_data"
    },
    {
     "name": "stdout",
     "output_type": "stream",
     "text": [
      "\n"
     ]
    },
    {
     "data": {
      "application/vnd.jupyter.widget-view+json": {
       "model_id": "5704e78b5ef8437ab3fab58565bc922a",
       "version_major": 2,
       "version_minor": 0
      },
      "text/plain": [
       "HBox(children=(FloatProgress(value=1.0, bar_style='info', max=1.0), HTML(value='')))"
      ]
     },
     "metadata": {},
     "output_type": "display_data"
    },
    {
     "name": "stdout",
     "output_type": "stream",
     "text": [
      "\n",
      "filtered_measurements = [169.40203067 286.89032721 392.4658493 ]\n",
      "new_threshold = 644.2939014031481\n"
     ]
    },
    {
     "data": {
      "application/vnd.jupyter.widget-view+json": {
       "model_id": "bdd1a7ef5541483d8b3c202c448a6f5b",
       "version_major": 2,
       "version_minor": 0
      },
      "text/plain": [
       "HBox(children=(FloatProgress(value=1.0, bar_style='info', max=1.0), HTML(value='')))"
      ]
     },
     "metadata": {},
     "output_type": "display_data"
    },
    {
     "name": "stdout",
     "output_type": "stream",
     "text": [
      "\n"
     ]
    },
    {
     "data": {
      "application/vnd.jupyter.widget-view+json": {
       "model_id": "14d30c4c7676493eb8cb36fba523e151",
       "version_major": 2,
       "version_minor": 0
      },
      "text/plain": [
       "HBox(children=(FloatProgress(value=1.0, bar_style='info', max=1.0), HTML(value='')))"
      ]
     },
     "metadata": {},
     "output_type": "display_data"
    },
    {
     "name": "stdout",
     "output_type": "stream",
     "text": [
      "\n",
      "filtered_measurements = [ 63.60346735  84.33249337 112.66883645  75.29137889  99.29918932\n",
      "  58.79569113 123.49727561  98.24535851]\n",
      "new_threshold = 235.86940048560632\n"
     ]
    },
    {
     "data": {
      "application/vnd.jupyter.widget-view+json": {
       "model_id": "5c5e3e9f97cf46ce8938fb8d7d84a8f2",
       "version_major": 2,
       "version_minor": 0
      },
      "text/plain": [
       "HBox(children=(FloatProgress(value=1.0, bar_style='info', max=1.0), HTML(value='')))"
      ]
     },
     "metadata": {},
     "output_type": "display_data"
    },
    {
     "name": "stdout",
     "output_type": "stream",
     "text": [
      "--> Not exactly one containing mesh: []\n",
      "\n",
      "branch_touching_number = [13]\n",
      "branch_touching_number = [13, 1]\n",
      "most_branch_containing_piece = 0\n"
     ]
    },
    {
     "data": {
      "application/vnd.jupyter.widget-view+json": {
       "model_id": "17c89db7fc194270ae87ff8ff1aa6c4e",
       "version_major": 2,
       "version_minor": 0
      },
      "text/plain": [
       "HBox(children=(FloatProgress(value=1.0, bar_style='info', max=1.0), HTML(value='')))"
      ]
     },
     "metadata": {},
     "output_type": "display_data"
    },
    {
     "name": "stdout",
     "output_type": "stream",
     "text": [
      "\n",
      "filtered_measurements = [286.4280016  168.89510469 295.40937145 425.4631664  274.67190938\n",
      " 249.52890642 411.74224803]\n",
      "new_threshold = 873.4951810614182\n"
     ]
    },
    {
     "data": {
      "application/vnd.jupyter.widget-view+json": {
       "model_id": "575e185a2e59468393f5643517bf6347",
       "version_major": 2,
       "version_minor": 0
      },
      "text/plain": [
       "HBox(children=(FloatProgress(value=1.0, bar_style='info', max=1.0), HTML(value='')))"
      ]
     },
     "metadata": {},
     "output_type": "display_data"
    },
    {
     "name": "stdout",
     "output_type": "stream",
     "text": [
      "\n"
     ]
    },
    {
     "data": {
      "application/vnd.jupyter.widget-view+json": {
       "model_id": "010333217ffc49deaf5f04a7401edd2c",
       "version_major": 2,
       "version_minor": 0
      },
      "text/plain": [
       "HBox(children=(FloatProgress(value=1.0, bar_style='info', max=1.0), HTML(value='')))"
      ]
     },
     "metadata": {},
     "output_type": "display_data"
    },
    {
     "name": "stdout",
     "output_type": "stream",
     "text": [
      "--> Not exactly one containing mesh: []\n",
      "\n",
      "filtered_measurements = [150.83790569 214.84872745 176.83479102 172.06719129]\n",
      "new_threshold = 381.5010399270284\n"
     ]
    },
    {
     "data": {
      "application/vnd.jupyter.widget-view+json": {
       "model_id": "58efdcf6502f4c269860ae289b20597a",
       "version_major": 2,
       "version_minor": 0
      },
      "text/plain": [
       "HBox(children=(FloatProgress(value=1.0, bar_style='info', max=1.0), HTML(value='')))"
      ]
     },
     "metadata": {},
     "output_type": "display_data"
    },
    {
     "name": "stdout",
     "output_type": "stream",
     "text": [
      "--> Not exactly one containing mesh: []\n",
      "--> Not exactly one containing mesh: []\n",
      "\n",
      "branch_touching_number = [6]\n",
      "branch_touching_number = [6, 1]\n",
      "most_branch_containing_piece = 0\n"
     ]
    },
    {
     "data": {
      "application/vnd.jupyter.widget-view+json": {
       "model_id": "e3a343afaee347a282a137dac6dcfa76",
       "version_major": 2,
       "version_minor": 0
      },
      "text/plain": [
       "HBox(children=(FloatProgress(value=1.0, bar_style='info', max=1.0), HTML(value='')))"
      ]
     },
     "metadata": {},
     "output_type": "display_data"
    },
    {
     "name": "stdout",
     "output_type": "stream",
     "text": [
      "\n",
      "filtered_measurements = [230.80443098 228.51681012 216.63655893 423.36498446 279.5855893\n",
      " 299.66582969]\n",
      "new_threshold = 944.3170636756362\n"
     ]
    },
    {
     "data": {
      "application/vnd.jupyter.widget-view+json": {
       "model_id": "66934487f4ea4553be4763d2932ae04f",
       "version_major": 2,
       "version_minor": 0
      },
      "text/plain": [
       "HBox(children=(FloatProgress(value=1.0, bar_style='info', max=1.0), HTML(value='')))"
      ]
     },
     "metadata": {},
     "output_type": "display_data"
    },
    {
     "name": "stdout",
     "output_type": "stream",
     "text": [
      "\n"
     ]
    },
    {
     "data": {
      "application/vnd.jupyter.widget-view+json": {
       "model_id": "055b95239ce441cdab1805739c438c6b",
       "version_major": 2,
       "version_minor": 0
      },
      "text/plain": [
       "HBox(children=(FloatProgress(value=1.0, bar_style='info', max=1.0), HTML(value='')))"
      ]
     },
     "metadata": {},
     "output_type": "display_data"
    },
    {
     "name": "stdout",
     "output_type": "stream",
     "text": [
      "--> Not exactly one containing mesh: []\n",
      "\n",
      "filtered_measurements = [ 99.99763876 216.33973907 350.69310299 211.33466736 252.20011159\n",
      " 100.04808907 133.38383487 284.48899613 274.82315874 210.50168807\n",
      " 259.70663511 121.07513992 201.91621819]\n",
      "new_threshold = 724.4532268149114\n"
     ]
    },
    {
     "data": {
      "application/vnd.jupyter.widget-view+json": {
       "model_id": "9dfbd2fb75b84dd78ea49d934d813e9c",
       "version_major": 2,
       "version_minor": 0
      },
      "text/plain": [
       "HBox(children=(FloatProgress(value=1.0, bar_style='info', max=1.0), HTML(value='')))"
      ]
     },
     "metadata": {},
     "output_type": "display_data"
    },
    {
     "name": "stdout",
     "output_type": "stream",
     "text": [
      "--> Not exactly one containing mesh: []\n",
      "\n"
     ]
    },
    {
     "data": {
      "application/vnd.jupyter.widget-view+json": {
       "model_id": "f6166ed497e04a6c91b8d4ce81909eca",
       "version_major": 2,
       "version_minor": 0
      },
      "text/plain": [
       "HBox(children=(FloatProgress(value=1.0, bar_style='info', max=1.0), HTML(value='')))"
      ]
     },
     "metadata": {},
     "output_type": "display_data"
    },
    {
     "name": "stdout",
     "output_type": "stream",
     "text": [
      "\n",
      "filtered_measurements = [253.96904645 314.79656513 346.81000037 418.97955566 290.72962475]\n",
      "new_threshold = 897.3488132714028\n"
     ]
    },
    {
     "data": {
      "application/vnd.jupyter.widget-view+json": {
       "model_id": "16ef6236f43e42c4baeac265cea7926d",
       "version_major": 2,
       "version_minor": 0
      },
      "text/plain": [
       "HBox(children=(FloatProgress(value=1.0, bar_style='info', max=1.0), HTML(value='')))"
      ]
     },
     "metadata": {},
     "output_type": "display_data"
    },
    {
     "name": "stdout",
     "output_type": "stream",
     "text": [
      "\n"
     ]
    },
    {
     "data": {
      "application/vnd.jupyter.widget-view+json": {
       "model_id": "4d625b221a534462868a25d295857af3",
       "version_major": 2,
       "version_minor": 0
      },
      "text/plain": [
       "HBox(children=(FloatProgress(value=1.0, bar_style='info', max=1.0), HTML(value='')))"
      ]
     },
     "metadata": {},
     "output_type": "display_data"
    },
    {
     "name": "stdout",
     "output_type": "stream",
     "text": [
      "--> Not exactly one containing mesh: []\n",
      "\n",
      "filtered_measurements = [192.77116047  90.95375822 121.24303555 211.08302275  86.33225034\n",
      "  92.87620677 235.14316921]\n",
      "new_threshold = 546.7548800208447\n"
     ]
    },
    {
     "data": {
      "application/vnd.jupyter.widget-view+json": {
       "model_id": "6343ee98f94f4349b001caa45ae2536c",
       "version_major": 2,
       "version_minor": 0
      },
      "text/plain": [
       "HBox(children=(FloatProgress(value=1.0, bar_style='info', max=1.0), HTML(value='')))"
      ]
     },
     "metadata": {},
     "output_type": "display_data"
    },
    {
     "name": "stdout",
     "output_type": "stream",
     "text": [
      "--> Not exactly one containing mesh: []\n",
      "\n"
     ]
    },
    {
     "data": {
      "application/vnd.jupyter.widget-view+json": {
       "model_id": "2e5e76b2d5c84e36b5aa8c954ca9e007",
       "version_major": 2,
       "version_minor": 0
      },
      "text/plain": [
       "HBox(children=(FloatProgress(value=1.0, bar_style='info', max=1.0), HTML(value='')))"
      ]
     },
     "metadata": {},
     "output_type": "display_data"
    },
    {
     "name": "stdout",
     "output_type": "stream",
     "text": [
      "\n",
      "filtered_measurements = [205.59551423 274.6870793  317.26881914 296.83570575 294.24594177\n",
      " 287.06959825 181.17884087]\n",
      "new_threshold = 629.3753433245079\n"
     ]
    },
    {
     "data": {
      "application/vnd.jupyter.widget-view+json": {
       "model_id": "df9569e9a6c04657af1461b2ac9209b9",
       "version_major": 2,
       "version_minor": 0
      },
      "text/plain": [
       "HBox(children=(FloatProgress(value=1.0, bar_style='info', max=1.0), HTML(value='')))"
      ]
     },
     "metadata": {},
     "output_type": "display_data"
    },
    {
     "name": "stdout",
     "output_type": "stream",
     "text": [
      "\n"
     ]
    },
    {
     "data": {
      "application/vnd.jupyter.widget-view+json": {
       "model_id": "20aebb5c8c4e45dca502e2d0f77a80db",
       "version_major": 2,
       "version_minor": 0
      },
      "text/plain": [
       "HBox(children=(FloatProgress(value=1.0, bar_style='info', max=1.0), HTML(value='')))"
      ]
     },
     "metadata": {},
     "output_type": "display_data"
    },
    {
     "name": "stdout",
     "output_type": "stream",
     "text": [
      "\n",
      "filtered_measurements = [ 69.54654162 197.2315754  265.09099339 222.25086264 119.62333358\n",
      " 224.09459192]\n",
      "new_threshold = 523.2661089647027\n"
     ]
    },
    {
     "data": {
      "application/vnd.jupyter.widget-view+json": {
       "model_id": "ba3f5d2606ab42f58b0d661bd12e34f2",
       "version_major": 2,
       "version_minor": 0
      },
      "text/plain": [
       "HBox(children=(FloatProgress(value=1.0, bar_style='info', max=1.0), HTML(value='')))"
      ]
     },
     "metadata": {},
     "output_type": "display_data"
    },
    {
     "name": "stdout",
     "output_type": "stream",
     "text": [
      "\n"
     ]
    },
    {
     "data": {
      "application/vnd.jupyter.widget-view+json": {
       "model_id": "90b4a19f3cba46f9bb9ef5bbd069445d",
       "version_major": 2,
       "version_minor": 0
      },
      "text/plain": [
       "HBox(children=(FloatProgress(value=1.0, bar_style='info', max=1.0), HTML(value='')))"
      ]
     },
     "metadata": {},
     "output_type": "display_data"
    },
    {
     "name": "stdout",
     "output_type": "stream",
     "text": [
      "--> Not exactly one containing mesh: []\n",
      "\n",
      "filtered_measurements = [317.83143797 168.2731121  169.89550029 241.04455288 326.14545712\n",
      " 210.93686956 173.50290558 276.47943583 134.55859486 157.72261232\n",
      " 168.07696005 221.54240249 198.15356974 230.94386325 262.82251239\n",
      " 167.08329968 140.43698527 126.76855306 243.28290493 222.62722645\n",
      " 171.35139301 292.6733446  170.64617308 223.32282168 224.53326807\n",
      " 261.25906948 278.27712202 298.12011834 190.33461436 255.94475049\n",
      " 226.179428   180.16526609 172.74278297 279.73755599 261.69374153\n",
      " 160.26573144  78.70893341 202.3340606  321.30973231 337.95307285\n",
      " 234.47221266 165.87954237 114.55198072]\n",
      "new_threshold = 675.578575133135\n"
     ]
    },
    {
     "data": {
      "application/vnd.jupyter.widget-view+json": {
       "model_id": "2aeee0356b504c53844d0732778300a9",
       "version_major": 2,
       "version_minor": 0
      },
      "text/plain": [
       "HBox(children=(FloatProgress(value=1.0, bar_style='info', max=1.0), HTML(value='')))"
      ]
     },
     "metadata": {},
     "output_type": "display_data"
    },
    {
     "name": "stdout",
     "output_type": "stream",
     "text": [
      "--> Not exactly one containing mesh: []\n",
      "\n"
     ]
    },
    {
     "data": {
      "application/vnd.jupyter.widget-view+json": {
       "model_id": "4b69c224120b435db6a7e83f98eae393",
       "version_major": 2,
       "version_minor": 0
      },
      "text/plain": [
       "HBox(children=(FloatProgress(value=1.0, bar_style='info', max=1.0), HTML(value='')))"
      ]
     },
     "metadata": {},
     "output_type": "display_data"
    },
    {
     "name": "stdout",
     "output_type": "stream",
     "text": [
      "--> Not exactly one containing mesh: []\n",
      "--> Not exactly one containing mesh: []\n",
      "\n",
      "branch_touching_number = [1]\n",
      "branch_touching_number = [1, 1]\n",
      "most_branch_containing_piece = 0\n",
      "filtered_measurements = [293.75745118]\n",
      "new_threshold = 656.1096563304745\n"
     ]
    },
    {
     "data": {
      "application/vnd.jupyter.widget-view+json": {
       "model_id": "fcedae44d7c142b5811021164bdac26f",
       "version_major": 2,
       "version_minor": 0
      },
      "text/plain": [
       "HBox(children=(FloatProgress(value=1.0, bar_style='info', max=1.0), HTML(value='')))"
      ]
     },
     "metadata": {},
     "output_type": "display_data"
    },
    {
     "name": "stdout",
     "output_type": "stream",
     "text": [
      "--> Not exactly one containing mesh: []\n",
      "THERE WERE NO FACES THAT FIT THE DISTANCE (656.1096563304745) and Z transform requirements\n",
      "So just skipping this edge\n",
      "\n",
      "\n",
      "Working on limb #1\n"
     ]
    },
    {
     "data": {
      "application/vnd.jupyter.widget-view+json": {
       "model_id": "33a6a7dcfc4d46b6aaec3b83e484f27b",
       "version_major": 2,
       "version_minor": 0
      },
      "text/plain": [
       "HBox(children=(FloatProgress(value=1.0, bar_style='info', max=1.0), HTML(value='')))"
      ]
     },
     "metadata": {},
     "output_type": "display_data"
    },
    {
     "data": {
      "application/vnd.jupyter.widget-view+json": {
       "model_id": "d16e2ddacd3c4913b826a78d36ffb0a9",
       "version_major": 2,
       "version_minor": 0
      },
      "text/plain": [
       "HBox(children=(FloatProgress(value=1.0, bar_style='info', max=1.0), HTML(value='')))"
      ]
     },
     "metadata": {},
     "output_type": "display_data"
    },
    {
     "name": "stdout",
     "output_type": "stream",
     "text": [
      "--> Not exactly one containing mesh: []\n",
      "--> Not exactly one containing mesh: [0 3]\n",
      "\n",
      "filtered_measurements = [226.6181229  236.05422646 267.57790108 381.06051053 259.08582088\n",
      " 245.28439709 332.46336421 280.72935608 346.49317532 242.78730894\n",
      " 286.01181038 288.74373579 276.05736006 266.25115981 376.23084769\n",
      " 348.1838548  281.39761795 252.08712151 345.47344923 335.29238376\n",
      " 332.61796871 247.9464121  251.44107671 227.23895082 412.51599289\n",
      " 217.55291194 292.62622144 198.27070978 311.51983323 320.48274288\n",
      " 347.46039682 256.19335752 287.83640223]\n",
      "new_threshold = 1045.003570771207\n"
     ]
    },
    {
     "data": {
      "application/vnd.jupyter.widget-view+json": {
       "model_id": "1f4b9f99f0234efe887e8877a9072288",
       "version_major": 2,
       "version_minor": 0
      },
      "text/plain": [
       "HBox(children=(FloatProgress(value=1.0, bar_style='info', max=1.0), HTML(value='')))"
      ]
     },
     "metadata": {},
     "output_type": "display_data"
    },
    {
     "name": "stdout",
     "output_type": "stream",
     "text": [
      "--> Not exactly one containing mesh: []\n",
      "\n"
     ]
    },
    {
     "data": {
      "application/vnd.jupyter.widget-view+json": {
       "model_id": "644ca28dea83478babbd8e239f4a6783",
       "version_major": 2,
       "version_minor": 0
      },
      "text/plain": [
       "HBox(children=(FloatProgress(value=1.0, bar_style='info', max=1.0), HTML(value='')))"
      ]
     },
     "metadata": {},
     "output_type": "display_data"
    },
    {
     "name": "stdout",
     "output_type": "stream",
     "text": [
      "--> Not exactly one containing mesh: []\n",
      "\n",
      "branch_touching_number = [3]\n",
      "branch_touching_number = [3, 2]\n",
      "most_branch_containing_piece = 0\n",
      "filtered_measurements = [627.24810389 547.81464714]\n",
      "new_threshold = 1415.807606960919\n"
     ]
    },
    {
     "data": {
      "application/vnd.jupyter.widget-view+json": {
       "model_id": "4d6f7c2462ec45678e5a2e3712f2576d",
       "version_major": 2,
       "version_minor": 0
      },
      "text/plain": [
       "HBox(children=(FloatProgress(value=1.0, bar_style='info', max=1.0), HTML(value='')))"
      ]
     },
     "metadata": {},
     "output_type": "display_data"
    },
    {
     "name": "stdout",
     "output_type": "stream",
     "text": [
      "--> Not exactly one containing mesh: []\n",
      "--> Not exactly one containing mesh: []\n",
      "\n"
     ]
    },
    {
     "data": {
      "application/vnd.jupyter.widget-view+json": {
       "model_id": "b7a66c4e904d43a1b33e2e066299db86",
       "version_major": 2,
       "version_minor": 0
      },
      "text/plain": [
       "HBox(children=(FloatProgress(value=1.0, bar_style='info', max=1.0), HTML(value='')))"
      ]
     },
     "metadata": {},
     "output_type": "display_data"
    },
    {
     "name": "stdout",
     "output_type": "stream",
     "text": [
      "\n",
      "filtered_measurements = [305.50114323 341.21707979 270.33032241 253.64034874 271.05658905\n",
      " 271.39727639 294.38262257 458.04892151 373.00097163 364.87107078\n",
      " 379.40749054 377.05767053 338.17920581 239.40763702 431.43316052\n",
      " 320.72559254 270.3272913  249.45063874 312.66845543 267.752323\n",
      " 235.48256047]\n",
      "new_threshold = 1081.8418993788816\n"
     ]
    },
    {
     "data": {
      "application/vnd.jupyter.widget-view+json": {
       "model_id": "823be095d12a48938d3d05443cb3a026",
       "version_major": 2,
       "version_minor": 0
      },
      "text/plain": [
       "HBox(children=(FloatProgress(value=1.0, bar_style='info', max=1.0), HTML(value='')))"
      ]
     },
     "metadata": {},
     "output_type": "display_data"
    },
    {
     "name": "stdout",
     "output_type": "stream",
     "text": [
      "\n"
     ]
    },
    {
     "data": {
      "application/vnd.jupyter.widget-view+json": {
       "model_id": "04021bd91c4f4391b5379c6ddd117aaa",
       "version_major": 2,
       "version_minor": 0
      },
      "text/plain": [
       "HBox(children=(FloatProgress(value=1.0, bar_style='info', max=1.0), HTML(value='')))"
      ]
     },
     "metadata": {},
     "output_type": "display_data"
    },
    {
     "name": "stdout",
     "output_type": "stream",
     "text": [
      "--> Not exactly one containing mesh: []\n",
      "\n",
      "filtered_measurements = [343.7095051  120.81707367 204.50956903 248.63662022]\n",
      "new_threshold = 693.2098190021504\n"
     ]
    },
    {
     "data": {
      "application/vnd.jupyter.widget-view+json": {
       "model_id": "d99e57034a5d4c32a7b372b2ee951554",
       "version_major": 2,
       "version_minor": 0
      },
      "text/plain": [
       "HBox(children=(FloatProgress(value=1.0, bar_style='info', max=1.0), HTML(value='')))"
      ]
     },
     "metadata": {},
     "output_type": "display_data"
    },
    {
     "name": "stdout",
     "output_type": "stream",
     "text": [
      "--> Not exactly one containing mesh: []\n",
      "\n"
     ]
    },
    {
     "data": {
      "application/vnd.jupyter.widget-view+json": {
       "model_id": "6d2bb5c3239e46878de27671febcfe31",
       "version_major": 2,
       "version_minor": 0
      },
      "text/plain": [
       "HBox(children=(FloatProgress(value=1.0, bar_style='info', max=1.0), HTML(value='')))"
      ]
     },
     "metadata": {},
     "output_type": "display_data"
    },
    {
     "name": "stdout",
     "output_type": "stream",
     "text": [
      "\n",
      "filtered_measurements = [438.03670399 441.27839345 330.95450495 202.62230777 221.07953062\n",
      " 230.83974712 261.69189725 295.30391898 331.17895843]\n",
      "new_threshold = 729.6800323266159\n"
     ]
    },
    {
     "data": {
      "application/vnd.jupyter.widget-view+json": {
       "model_id": "3ac397ac5d2e427bafd601830f5a2927",
       "version_major": 2,
       "version_minor": 0
      },
      "text/plain": [
       "HBox(children=(FloatProgress(value=1.0, bar_style='info', max=1.0), HTML(value='')))"
      ]
     },
     "metadata": {},
     "output_type": "display_data"
    },
    {
     "name": "stdout",
     "output_type": "stream",
     "text": [
      "\n"
     ]
    },
    {
     "data": {
      "application/vnd.jupyter.widget-view+json": {
       "model_id": "b8faebc1388b4e3191e67a176858cd39",
       "version_major": 2,
       "version_minor": 0
      },
      "text/plain": [
       "HBox(children=(FloatProgress(value=1.0, bar_style='info', max=1.0), HTML(value='')))"
      ]
     },
     "metadata": {},
     "output_type": "display_data"
    },
    {
     "name": "stdout",
     "output_type": "stream",
     "text": [
      "--> Not exactly one containing mesh: []\n",
      "\n",
      "filtered_measurements = [138.68001273 153.17945931 199.96963967 112.03017899]\n",
      "new_threshold = 516.1797011612902\n"
     ]
    },
    {
     "data": {
      "application/vnd.jupyter.widget-view+json": {
       "model_id": "5826bfe60577408e9e9a5dfca9bb345f",
       "version_major": 2,
       "version_minor": 0
      },
      "text/plain": [
       "HBox(children=(FloatProgress(value=1.0, bar_style='info', max=1.0), HTML(value='')))"
      ]
     },
     "metadata": {},
     "output_type": "display_data"
    },
    {
     "name": "stdout",
     "output_type": "stream",
     "text": [
      "--> Not exactly one containing mesh: []\n",
      "\n"
     ]
    },
    {
     "data": {
      "application/vnd.jupyter.widget-view+json": {
       "model_id": "59481ef076694001b64c620c313731e3",
       "version_major": 2,
       "version_minor": 0
      },
      "text/plain": [
       "HBox(children=(FloatProgress(value=1.0, bar_style='info', max=1.0), HTML(value='')))"
      ]
     },
     "metadata": {},
     "output_type": "display_data"
    },
    {
     "name": "stdout",
     "output_type": "stream",
     "text": [
      "--> Not exactly one containing mesh: []\n",
      "\n",
      "filtered_measurements = [ 65.88087301  90.38915763  97.95584786 128.94984578 100.78154707\n",
      "  87.62382718 118.23596058 105.70071278 108.33007043 100.01753028\n",
      "  84.44686037  96.49711307  91.41374173 108.85382365  88.48890111\n",
      "  95.43170686 125.70733781 115.30430479 118.54314244  82.5212067\n",
      "  68.52267064  64.66817843  67.79269738]\n",
      "new_threshold = 270.84564838010385\n"
     ]
    },
    {
     "data": {
      "application/vnd.jupyter.widget-view+json": {
       "model_id": "fe8381ca6c5141acb42497ec52788160",
       "version_major": 2,
       "version_minor": 0
      },
      "text/plain": [
       "HBox(children=(FloatProgress(value=1.0, bar_style='info', max=1.0), HTML(value='')))"
      ]
     },
     "metadata": {},
     "output_type": "display_data"
    },
    {
     "name": "stdout",
     "output_type": "stream",
     "text": [
      "--> Not exactly one containing mesh: []\n",
      "--> Not exactly one containing mesh: []\n",
      "--> Not exactly one containing mesh: []\n",
      "\n",
      "branch_touching_number = [35]\n",
      "branch_touching_number = [35, 1]\n",
      "most_branch_containing_piece = 0\n"
     ]
    },
    {
     "data": {
      "application/vnd.jupyter.widget-view+json": {
       "model_id": "1ccb71d26473475cb494945c484e22b3",
       "version_major": 2,
       "version_minor": 0
      },
      "text/plain": [
       "HBox(children=(FloatProgress(value=1.0, bar_style='info', max=1.0), HTML(value='')))"
      ]
     },
     "metadata": {},
     "output_type": "display_data"
    },
    {
     "name": "stdout",
     "output_type": "stream",
     "text": [
      "\n",
      "filtered_measurements = [276.68387239 328.98458665 257.67463754 268.15889723 349.49655522\n",
      " 300.29874627 223.26621195 256.2532585  195.5985664  242.76047767\n",
      " 218.51433631 250.27089911 412.64421578 346.98367565 315.9196139\n",
      " 275.51363033 268.26322766]\n",
      "new_threshold = 765.9950973443842\n"
     ]
    },
    {
     "data": {
      "application/vnd.jupyter.widget-view+json": {
       "model_id": "ca980a6b1860460f83f959af357348b1",
       "version_major": 2,
       "version_minor": 0
      },
      "text/plain": [
       "HBox(children=(FloatProgress(value=1.0, bar_style='info', max=1.0), HTML(value='')))"
      ]
     },
     "metadata": {},
     "output_type": "display_data"
    },
    {
     "name": "stdout",
     "output_type": "stream",
     "text": [
      "\n"
     ]
    },
    {
     "data": {
      "application/vnd.jupyter.widget-view+json": {
       "model_id": "225d5e9af7c24d4cb8f5831c607e551f",
       "version_major": 2,
       "version_minor": 0
      },
      "text/plain": [
       "HBox(children=(FloatProgress(value=1.0, bar_style='info', max=1.0), HTML(value='')))"
      ]
     },
     "metadata": {},
     "output_type": "display_data"
    },
    {
     "name": "stdout",
     "output_type": "stream",
     "text": [
      "--> Not exactly one containing mesh: []\n",
      "--> Not exactly one containing mesh: []\n",
      "--> Not exactly one containing mesh: []\n",
      "--> Not exactly one containing mesh: []\n",
      "--> Not exactly one containing mesh: []\n",
      "--> Not exactly one containing mesh: []\n",
      "\n",
      "filtered_measurements = [124.52782879 151.87409678  86.53418065 102.52427816 100.3090626\n",
      " 142.509725   110.18411535  95.74069799  70.30379554  80.42820055\n",
      "  90.5731369  113.84564357  75.89442517  86.3009503   87.76324944\n",
      " 119.96928635 113.81063319  79.24319849 103.57832601  96.53817958\n",
      "  97.9424158  101.36536562 143.99649118  78.35628709 114.56908048\n",
      "  79.55610067  79.06354175 107.66965907  73.69168211  71.52970554\n",
      "  84.64182193  93.65816439 110.45511532 112.53073684 100.96703573\n",
      "  87.75027186  83.88507684]\n",
      "new_threshold = 382.04495363312844\n"
     ]
    },
    {
     "data": {
      "application/vnd.jupyter.widget-view+json": {
       "model_id": "81e47a0676bd44f29c2dabced9444208",
       "version_major": 2,
       "version_minor": 0
      },
      "text/plain": [
       "HBox(children=(FloatProgress(value=1.0, bar_style='info', max=1.0), HTML(value='')))"
      ]
     },
     "metadata": {},
     "output_type": "display_data"
    },
    {
     "name": "stdout",
     "output_type": "stream",
     "text": [
      "--> Not exactly one containing mesh: []\n",
      "--> Not exactly one containing mesh: []\n",
      "--> Not exactly one containing mesh: []\n",
      "--> Not exactly one containing mesh: []\n",
      "--> Not exactly one containing mesh: []\n",
      "--> Not exactly one containing mesh: []\n",
      "\n"
     ]
    },
    {
     "data": {
      "application/vnd.jupyter.widget-view+json": {
       "model_id": "6810c73bb30d42328b5bd07dceb38292",
       "version_major": 2,
       "version_minor": 0
      },
      "text/plain": [
       "HBox(children=(FloatProgress(value=1.0, bar_style='info', max=1.0), HTML(value='')))"
      ]
     },
     "metadata": {},
     "output_type": "display_data"
    },
    {
     "name": "stdout",
     "output_type": "stream",
     "text": [
      "\n",
      "filtered_measurements = [271.72633895 312.14442986 257.50210084]\n",
      "new_threshold = 441.97323105961186\n"
     ]
    },
    {
     "data": {
      "application/vnd.jupyter.widget-view+json": {
       "model_id": "fa587dadbc8349789eec2e2034eb3135",
       "version_major": 2,
       "version_minor": 0
      },
      "text/plain": [
       "HBox(children=(FloatProgress(value=1.0, bar_style='info', max=1.0), HTML(value='')))"
      ]
     },
     "metadata": {},
     "output_type": "display_data"
    },
    {
     "name": "stdout",
     "output_type": "stream",
     "text": [
      "--> Not exactly one containing mesh: [0 1]\n",
      "\n"
     ]
    },
    {
     "data": {
      "application/vnd.jupyter.widget-view+json": {
       "model_id": "4fe635a186d849489e011e9824c46b29",
       "version_major": 2,
       "version_minor": 0
      },
      "text/plain": [
       "HBox(children=(FloatProgress(value=1.0, bar_style='info', max=1.0), HTML(value='')))"
      ]
     },
     "metadata": {},
     "output_type": "display_data"
    },
    {
     "name": "stdout",
     "output_type": "stream",
     "text": [
      "\n",
      "filtered_measurements = [112.71095715 206.3165624  242.57210635 250.10506295 242.70122522\n",
      " 173.18124091]\n",
      "new_threshold = 425.0994465369022\n"
     ]
    },
    {
     "data": {
      "application/vnd.jupyter.widget-view+json": {
       "model_id": "36af1652597341f88a706a4b566c02ef",
       "version_major": 2,
       "version_minor": 0
      },
      "text/plain": [
       "HBox(children=(FloatProgress(value=1.0, bar_style='info', max=1.0), HTML(value='')))"
      ]
     },
     "metadata": {},
     "output_type": "display_data"
    },
    {
     "name": "stdout",
     "output_type": "stream",
     "text": [
      "\n"
     ]
    },
    {
     "data": {
      "application/vnd.jupyter.widget-view+json": {
       "model_id": "0b1ffc44f17f4d5e8663fa6fc338e47a",
       "version_major": 2,
       "version_minor": 0
      },
      "text/plain": [
       "HBox(children=(FloatProgress(value=1.0, bar_style='info', max=1.0), HTML(value='')))"
      ]
     },
     "metadata": {},
     "output_type": "display_data"
    },
    {
     "name": "stdout",
     "output_type": "stream",
     "text": [
      "--> Not exactly one containing mesh: []\n",
      "\n",
      "filtered_measurements = [250.06144186 316.6193082  439.79769301 241.01941745 268.08995559\n",
      " 298.9513206  379.06522504 399.93890071 320.02891653 295.16948323\n",
      " 398.36525454 401.3609239  277.33441181 243.06414275 208.2777055\n",
      " 328.73007849 322.2450414  266.87908595 337.97916006 395.24906368\n",
      " 310.79141304 312.8329979  235.29229568 286.14708    282.41340441\n",
      " 280.1088797  248.46617173 325.90259269 441.18846116 410.59031675\n",
      " 207.81391697 353.61393465 226.39506618 239.25987041 252.05147162\n",
      " 277.0003544 ]\n",
      "new_threshold = 910.0425139774602\n"
     ]
    },
    {
     "data": {
      "application/vnd.jupyter.widget-view+json": {
       "model_id": "67264b0470954195ae5562bd22eb6805",
       "version_major": 2,
       "version_minor": 0
      },
      "text/plain": [
       "HBox(children=(FloatProgress(value=1.0, bar_style='info', max=1.0), HTML(value='')))"
      ]
     },
     "metadata": {},
     "output_type": "display_data"
    },
    {
     "name": "stdout",
     "output_type": "stream",
     "text": [
      "--> Not exactly one containing mesh: []\n",
      "\n"
     ]
    },
    {
     "data": {
      "application/vnd.jupyter.widget-view+json": {
       "model_id": "9e243b14412b4730bbb97bbfa6bf8c42",
       "version_major": 2,
       "version_minor": 0
      },
      "text/plain": [
       "HBox(children=(FloatProgress(value=1.0, bar_style='info', max=1.0), HTML(value='')))"
      ]
     },
     "metadata": {},
     "output_type": "display_data"
    },
    {
     "name": "stdout",
     "output_type": "stream",
     "text": [
      "\n",
      "filtered_measurements = [279.44548689 163.98550917 274.82751865 368.38563704 395.67051111\n",
      " 244.10568241 305.99141705 276.86195942 333.40933558 230.6824375\n",
      " 261.7616385 ]\n",
      "new_threshold = 653.6910644570552\n"
     ]
    },
    {
     "data": {
      "application/vnd.jupyter.widget-view+json": {
       "model_id": "9734674d0e9b47f4b3499a3309d0855b",
       "version_major": 2,
       "version_minor": 0
      },
      "text/plain": [
       "HBox(children=(FloatProgress(value=1.0, bar_style='info', max=1.0), HTML(value='')))"
      ]
     },
     "metadata": {},
     "output_type": "display_data"
    },
    {
     "name": "stdout",
     "output_type": "stream",
     "text": [
      "\n"
     ]
    },
    {
     "data": {
      "application/vnd.jupyter.widget-view+json": {
       "model_id": "9b3160592e0e4ff8a2131f02352c9110",
       "version_major": 2,
       "version_minor": 0
      },
      "text/plain": [
       "HBox(children=(FloatProgress(value=1.0, bar_style='info', max=1.0), HTML(value='')))"
      ]
     },
     "metadata": {},
     "output_type": "display_data"
    },
    {
     "name": "stdout",
     "output_type": "stream",
     "text": [
      "--> Not exactly one containing mesh: []\n",
      "--> Not exactly one containing mesh: []\n",
      "\n",
      "filtered_measurements = [382.58802398 356.74246259 239.75575017 281.66247727 291.8925263\n",
      " 311.46413069 248.47965981 262.21940418 273.25111724 328.6834853 ]\n",
      "new_threshold = 978.3434718989814\n"
     ]
    },
    {
     "data": {
      "application/vnd.jupyter.widget-view+json": {
       "model_id": "83fedaefe84347cfb981432bcd806ee3",
       "version_major": 2,
       "version_minor": 0
      },
      "text/plain": [
       "HBox(children=(FloatProgress(value=1.0, bar_style='info', max=1.0), HTML(value='')))"
      ]
     },
     "metadata": {},
     "output_type": "display_data"
    },
    {
     "name": "stdout",
     "output_type": "stream",
     "text": [
      "--> Not exactly one containing mesh: []\n",
      "--> Not exactly one containing mesh: []\n",
      "\n"
     ]
    },
    {
     "data": {
      "application/vnd.jupyter.widget-view+json": {
       "model_id": "d06cc9e2042c4f6c8ad620c1cbfb3a7a",
       "version_major": 2,
       "version_minor": 0
      },
      "text/plain": [
       "HBox(children=(FloatProgress(value=1.0, bar_style='info', max=1.0), HTML(value='')))"
      ]
     },
     "metadata": {},
     "output_type": "display_data"
    },
    {
     "name": "stdout",
     "output_type": "stream",
     "text": [
      "\n",
      "filtered_measurements = [312.42364563 319.48766812 308.63590664 275.53756765 259.6493825\n",
      " 317.70873037 308.44085395 361.64088694 339.2863089  355.32388554\n",
      " 302.36386939 372.71784603 274.57376125]\n",
      "new_threshold = 787.4821271364115\n"
     ]
    },
    {
     "data": {
      "application/vnd.jupyter.widget-view+json": {
       "model_id": "72632865110b413082bce298336f5dfd",
       "version_major": 2,
       "version_minor": 0
      },
      "text/plain": [
       "HBox(children=(FloatProgress(value=1.0, bar_style='info', max=1.0), HTML(value='')))"
      ]
     },
     "metadata": {},
     "output_type": "display_data"
    },
    {
     "name": "stdout",
     "output_type": "stream",
     "text": [
      "\n"
     ]
    },
    {
     "data": {
      "application/vnd.jupyter.widget-view+json": {
       "model_id": "3b43c8f2f25b413c87a70536fbbd972e",
       "version_major": 2,
       "version_minor": 0
      },
      "text/plain": [
       "HBox(children=(FloatProgress(value=1.0, bar_style='info', max=1.0), HTML(value='')))"
      ]
     },
     "metadata": {},
     "output_type": "display_data"
    },
    {
     "name": "stdout",
     "output_type": "stream",
     "text": [
      "\n",
      "filtered_measurements = [487.27767194 536.00272254 484.72313456 417.05908946 406.28708718\n",
      " 416.82673791 330.17534731 324.78749   ]\n",
      "new_threshold = 904.1300825768739\n"
     ]
    },
    {
     "data": {
      "application/vnd.jupyter.widget-view+json": {
       "model_id": "7d35f90520944883be3125564d2030a3",
       "version_major": 2,
       "version_minor": 0
      },
      "text/plain": [
       "HBox(children=(FloatProgress(value=1.0, bar_style='info', max=1.0), HTML(value='')))"
      ]
     },
     "metadata": {},
     "output_type": "display_data"
    },
    {
     "name": "stdout",
     "output_type": "stream",
     "text": [
      "\n"
     ]
    },
    {
     "data": {
      "application/vnd.jupyter.widget-view+json": {
       "model_id": "3e683b16f4fa4af88a940e08ea18a4bb",
       "version_major": 2,
       "version_minor": 0
      },
      "text/plain": [
       "HBox(children=(FloatProgress(value=1.0, bar_style='info', max=1.0), HTML(value='')))"
      ]
     },
     "metadata": {},
     "output_type": "display_data"
    },
    {
     "name": "stdout",
     "output_type": "stream",
     "text": [
      "\n",
      "filtered_measurements = [558.30607443 424.25799555 389.54620582 383.08021545]\n",
      "new_threshold = 839.0946714626821\n"
     ]
    },
    {
     "data": {
      "application/vnd.jupyter.widget-view+json": {
       "model_id": "69c33db5f9964ad9ab8d855b2e769433",
       "version_major": 2,
       "version_minor": 0
      },
      "text/plain": [
       "HBox(children=(FloatProgress(value=1.0, bar_style='info', max=1.0), HTML(value='')))"
      ]
     },
     "metadata": {},
     "output_type": "display_data"
    },
    {
     "name": "stdout",
     "output_type": "stream",
     "text": [
      "--> Not exactly one containing mesh: []\n",
      "\n"
     ]
    },
    {
     "data": {
      "application/vnd.jupyter.widget-view+json": {
       "model_id": "95316785ffdf4c28ab96b1d6270a67b9",
       "version_major": 2,
       "version_minor": 0
      },
      "text/plain": [
       "HBox(children=(FloatProgress(value=1.0, bar_style='info', max=1.0), HTML(value='')))"
      ]
     },
     "metadata": {},
     "output_type": "display_data"
    },
    {
     "name": "stdout",
     "output_type": "stream",
     "text": [
      "\n",
      "filtered_measurements = [174.38700153 160.42860661 185.5196357  165.55751731 172.30753987\n",
      " 229.12443246 309.38400266 241.05841593 281.32206272 188.17556449\n",
      " 218.58728232 270.05167203 240.38311138 223.42971741 233.18810227\n",
      " 257.24677231 289.06448099 294.90308796 328.3332126 ]\n",
      "new_threshold = 516.6479049822146\n"
     ]
    },
    {
     "data": {
      "application/vnd.jupyter.widget-view+json": {
       "model_id": "30aa615645d04d13830aabb577060f28",
       "version_major": 2,
       "version_minor": 0
      },
      "text/plain": [
       "HBox(children=(FloatProgress(value=1.0, bar_style='info', max=1.0), HTML(value='')))"
      ]
     },
     "metadata": {},
     "output_type": "display_data"
    },
    {
     "name": "stdout",
     "output_type": "stream",
     "text": [
      "\n"
     ]
    },
    {
     "data": {
      "application/vnd.jupyter.widget-view+json": {
       "model_id": "2b8dd3d9fad14bb794c1577d954e63c7",
       "version_major": 2,
       "version_minor": 0
      },
      "text/plain": [
       "HBox(children=(FloatProgress(value=1.0, bar_style='info', max=1.0), HTML(value='')))"
      ]
     },
     "metadata": {},
     "output_type": "display_data"
    },
    {
     "name": "stdout",
     "output_type": "stream",
     "text": [
      "THERE WERE NO FACES THAT FIT THE DISTANCE (3000) and Z transform requirements\n",
      "So just skipping this edge\n",
      "\n",
      "filtered_measurements = [196.15103392 209.57708354 193.2601048 ]\n",
      "new_threshold = 415.1356056457824\n"
     ]
    },
    {
     "data": {
      "application/vnd.jupyter.widget-view+json": {
       "model_id": "4470fb919c44468aac3e3dbb095ccd76",
       "version_major": 2,
       "version_minor": 0
      },
      "text/plain": [
       "HBox(children=(FloatProgress(value=1.0, bar_style='info', max=1.0), HTML(value='')))"
      ]
     },
     "metadata": {},
     "output_type": "display_data"
    },
    {
     "name": "stdout",
     "output_type": "stream",
     "text": [
      "THERE WERE NO FACES THAT FIT THE DISTANCE (415.1356056457824) and Z transform requirements\n",
      "So just skipping this edge\n",
      "\n"
     ]
    },
    {
     "data": {
      "application/vnd.jupyter.widget-view+json": {
       "model_id": "a793a3224b084d10b39bf0643f530d5e",
       "version_major": 2,
       "version_minor": 0
      },
      "text/plain": [
       "HBox(children=(FloatProgress(value=1.0, bar_style='info', max=1.0), HTML(value='')))"
      ]
     },
     "metadata": {},
     "output_type": "display_data"
    },
    {
     "name": "stdout",
     "output_type": "stream",
     "text": [
      "\n",
      "filtered_measurements = [544.25759977 924.22152346]\n",
      "new_threshold = 1611.4577950535265\n"
     ]
    },
    {
     "data": {
      "application/vnd.jupyter.widget-view+json": {
       "model_id": "6bc29e0236de4e99b7eaa012dc577f5c",
       "version_major": 2,
       "version_minor": 0
      },
      "text/plain": [
       "HBox(children=(FloatProgress(value=1.0, bar_style='info', max=1.0), HTML(value='')))"
      ]
     },
     "metadata": {},
     "output_type": "display_data"
    },
    {
     "name": "stdout",
     "output_type": "stream",
     "text": [
      "\n"
     ]
    },
    {
     "data": {
      "application/vnd.jupyter.widget-view+json": {
       "model_id": "d94c27cba93f48fe90d78823e88d66e3",
       "version_major": 2,
       "version_minor": 0
      },
      "text/plain": [
       "HBox(children=(FloatProgress(value=1.0, bar_style='info', max=1.0), HTML(value='')))"
      ]
     },
     "metadata": {},
     "output_type": "display_data"
    },
    {
     "name": "stdout",
     "output_type": "stream",
     "text": [
      "\n",
      "filtered_measurements = [317.03517295 188.42009037 255.50411201 362.80008448 363.64516616\n",
      " 227.44085219 218.19775574 216.09310263 195.49281035 320.30854942\n",
      " 325.54868172 376.86187551 220.33382194 215.56364137 218.82332987\n",
      " 269.08193383 377.5929363  282.99289721 336.69283808 267.50420763\n",
      " 187.92697492 182.06241092 217.29817557 288.56208107 261.29576108\n",
      " 192.92046189 201.03728258 210.4558563  276.76546395 391.28426918\n",
      " 404.86158673 214.81805267 262.51743354 184.7444285  275.72348883\n",
      " 354.5955471  206.91340841 304.74378783 330.24090989 314.76467024\n",
      " 234.34353776 208.6597496  190.34815612 267.669968   408.72372479\n",
      " 281.92400642 200.78436161 218.04049721 238.98134342 436.88881594\n",
      " 340.85937497 384.99744378]\n",
      "new_threshold = 999.4449756665715\n"
     ]
    },
    {
     "data": {
      "application/vnd.jupyter.widget-view+json": {
       "model_id": "25ed63abf83543719b8eca170ae63635",
       "version_major": 2,
       "version_minor": 0
      },
      "text/plain": [
       "HBox(children=(FloatProgress(value=1.0, bar_style='info', max=1.0), HTML(value='')))"
      ]
     },
     "metadata": {},
     "output_type": "display_data"
    },
    {
     "name": "stderr",
     "output_type": "stream",
     "text": [
      "No adjacent faces detected! Did you merge vertices?\n"
     ]
    },
    {
     "name": "stdout",
     "output_type": "stream",
     "text": [
      "--> Not exactly one containing mesh: []\n",
      "list was only one so surrounding them with list\n",
      "--> Not exactly one containing mesh: []\n",
      "--> Not exactly one containing mesh: []\n",
      "\n",
      "branch_touching_number = [61]\n",
      "branch_touching_number = [61, 9]\n",
      "most_branch_containing_piece = 0\n"
     ]
    },
    {
     "data": {
      "application/vnd.jupyter.widget-view+json": {
       "model_id": "739fa033e0034c54aee1f43f7e97c1d8",
       "version_major": 2,
       "version_minor": 0
      },
      "text/plain": [
       "HBox(children=(FloatProgress(value=1.0, bar_style='info', max=1.0), HTML(value='')))"
      ]
     },
     "metadata": {},
     "output_type": "display_data"
    },
    {
     "name": "stdout",
     "output_type": "stream",
     "text": [
      "--> Not exactly one containing mesh: []\n",
      "\n",
      "filtered_measurements = [320.23483906 337.30126547 247.11959706 226.46473738 233.05986633\n",
      " 206.5168354  231.29745278 303.43950586 358.95242121 175.92515267\n",
      " 149.29431492 166.9061024  267.15551688 221.48001938 204.56179558\n",
      " 241.10393102 344.65906272 283.91057404 254.58082098 225.99293833\n",
      " 239.39338845 228.33576294 145.86742509 254.44091571 333.57071075\n",
      " 313.77996038 195.49072246 186.93501067 187.12244578 326.94883547\n",
      " 362.89003601 212.28751307 371.38332254 378.260491   315.02819617\n",
      " 211.08445077 218.90588608 175.8783377  213.30679235 181.0522463\n",
      " 337.1390974  244.89196643 223.08244034 291.27465244 261.18877697\n",
      " 240.60274485 290.57158712 380.05351144 275.37187639 260.36402072\n",
      " 231.31138624 266.0097111  255.31847824 187.36698431 307.4449601\n",
      " 278.64863165 159.62512282]\n",
      "new_threshold = 988.2407865320938\n"
     ]
    },
    {
     "data": {
      "application/vnd.jupyter.widget-view+json": {
       "model_id": "be61b3c5a71d444680fc3e4694d07a76",
       "version_major": 2,
       "version_minor": 0
      },
      "text/plain": [
       "HBox(children=(FloatProgress(value=1.0, bar_style='info', max=1.0), HTML(value='')))"
      ]
     },
     "metadata": {},
     "output_type": "display_data"
    },
    {
     "name": "stdout",
     "output_type": "stream",
     "text": [
      "--> Not exactly one containing mesh: []\n",
      "\n"
     ]
    },
    {
     "data": {
      "application/vnd.jupyter.widget-view+json": {
       "model_id": "d32377a2466846e69bbcaaee689c9882",
       "version_major": 2,
       "version_minor": 0
      },
      "text/plain": [
       "HBox(children=(FloatProgress(value=1.0, bar_style='info', max=1.0), HTML(value='')))"
      ]
     },
     "metadata": {},
     "output_type": "display_data"
    },
    {
     "name": "stdout",
     "output_type": "stream",
     "text": [
      "\n",
      "filtered_measurements = [935.7022497]\n",
      "new_threshold = 1244.4234398577798\n"
     ]
    },
    {
     "data": {
      "application/vnd.jupyter.widget-view+json": {
       "model_id": "e1a3222944134618b7535c92007f84a3",
       "version_major": 2,
       "version_minor": 0
      },
      "text/plain": [
       "HBox(children=(FloatProgress(value=1.0, bar_style='info', max=1.0), HTML(value='')))"
      ]
     },
     "metadata": {},
     "output_type": "display_data"
    },
    {
     "name": "stdout",
     "output_type": "stream",
     "text": [
      "\n",
      "\n",
      "Working on limb #2\n"
     ]
    },
    {
     "data": {
      "application/vnd.jupyter.widget-view+json": {
       "model_id": "902a180bfd464a40b5dbc0f129c5220c",
       "version_major": 2,
       "version_minor": 0
      },
      "text/plain": [
       "HBox(children=(FloatProgress(value=1.0, bar_style='info', max=1.0), HTML(value='')))"
      ]
     },
     "metadata": {},
     "output_type": "display_data"
    },
    {
     "data": {
      "application/vnd.jupyter.widget-view+json": {
       "model_id": "7be79480851c428f8f1344950b3d87fb",
       "version_major": 2,
       "version_minor": 0
      },
      "text/plain": [
       "HBox(children=(FloatProgress(value=1.0, bar_style='info', max=1.0), HTML(value='')))"
      ]
     },
     "metadata": {},
     "output_type": "display_data"
    },
    {
     "name": "stdout",
     "output_type": "stream",
     "text": [
      "\n",
      "filtered_measurements = [810.66749536 781.05488978 566.67293339 524.54020812 532.86729719\n",
      " 597.39099824 717.0107185  784.82264257 724.09803618 647.75409914\n",
      " 620.18325876 547.6368544  492.7196617  521.90833808 620.24544395\n",
      " 682.00864616 550.16049078 574.33824777 452.70779336 476.86238466\n",
      " 520.68313789 765.94867864 369.97311205 377.41819146 606.38952453\n",
      " 368.53149371 566.72477989 496.0133299  341.45549646 447.18008359\n",
      " 585.74427197 469.54074981 390.35006649 356.21008002 392.29087033\n",
      " 303.36939728 391.09762539]\n",
      "new_threshold = 1868.6768546055962\n"
     ]
    },
    {
     "data": {
      "application/vnd.jupyter.widget-view+json": {
       "model_id": "616d909c25ea4fbcb53d9aa1038fa662",
       "version_major": 2,
       "version_minor": 0
      },
      "text/plain": [
       "HBox(children=(FloatProgress(value=1.0, bar_style='info', max=1.0), HTML(value='')))"
      ]
     },
     "metadata": {},
     "output_type": "display_data"
    },
    {
     "name": "stdout",
     "output_type": "stream",
     "text": [
      "\n"
     ]
    },
    {
     "data": {
      "application/vnd.jupyter.widget-view+json": {
       "model_id": "b20f8410e117490984cef6c0fcba115b",
       "version_major": 2,
       "version_minor": 0
      },
      "text/plain": [
       "HBox(children=(FloatProgress(value=1.0, bar_style='info', max=1.0), HTML(value='')))"
      ]
     },
     "metadata": {},
     "output_type": "display_data"
    },
    {
     "name": "stdout",
     "output_type": "stream",
     "text": [
      "\n",
      "filtered_measurements = [ 86.32203994  92.38462925 141.93200843]\n",
      "new_threshold = 271.1855387673497\n"
     ]
    },
    {
     "data": {
      "application/vnd.jupyter.widget-view+json": {
       "model_id": "476b472c161a42bf8b68c7daf82fcf02",
       "version_major": 2,
       "version_minor": 0
      },
      "text/plain": [
       "HBox(children=(FloatProgress(value=1.0, bar_style='info', max=1.0), HTML(value='')))"
      ]
     },
     "metadata": {},
     "output_type": "display_data"
    },
    {
     "name": "stdout",
     "output_type": "stream",
     "text": [
      "--> Not exactly one containing mesh: []\n",
      "\n"
     ]
    },
    {
     "data": {
      "application/vnd.jupyter.widget-view+json": {
       "model_id": "4b7efa9613c044b8ba13171e012c1e2f",
       "version_major": 2,
       "version_minor": 0
      },
      "text/plain": [
       "HBox(children=(FloatProgress(value=1.0, bar_style='info', max=1.0), HTML(value='')))"
      ]
     },
     "metadata": {},
     "output_type": "display_data"
    },
    {
     "name": "stdout",
     "output_type": "stream",
     "text": [
      "\n",
      "filtered_measurements = [313.2141696  528.20594933 365.82082637 288.08801986]\n",
      "new_threshold = 1186.3479786492792\n"
     ]
    },
    {
     "data": {
      "application/vnd.jupyter.widget-view+json": {
       "model_id": "c16ebfa8edd54036bacd025da83ddc35",
       "version_major": 2,
       "version_minor": 0
      },
      "text/plain": [
       "HBox(children=(FloatProgress(value=1.0, bar_style='info', max=1.0), HTML(value='')))"
      ]
     },
     "metadata": {},
     "output_type": "display_data"
    },
    {
     "name": "stdout",
     "output_type": "stream",
     "text": [
      "\n"
     ]
    },
    {
     "data": {
      "application/vnd.jupyter.widget-view+json": {
       "model_id": "1d2993ef70fe4a76bb3eaf8edcba28f1",
       "version_major": 2,
       "version_minor": 0
      },
      "text/plain": [
       "HBox(children=(FloatProgress(value=1.0, bar_style='info', max=1.0), HTML(value='')))"
      ]
     },
     "metadata": {},
     "output_type": "display_data"
    },
    {
     "name": "stdout",
     "output_type": "stream",
     "text": [
      "\n",
      "filtered_measurements = [149.57353833 179.83574593 263.94716664 231.27587593 144.73097349]\n",
      "new_threshold = 497.6601393492581\n"
     ]
    },
    {
     "data": {
      "application/vnd.jupyter.widget-view+json": {
       "model_id": "bcd02b95e3ad470da552c20ba4ec71ca",
       "version_major": 2,
       "version_minor": 0
      },
      "text/plain": [
       "HBox(children=(FloatProgress(value=1.0, bar_style='info', max=1.0), HTML(value='')))"
      ]
     },
     "metadata": {},
     "output_type": "display_data"
    },
    {
     "name": "stdout",
     "output_type": "stream",
     "text": [
      "\n"
     ]
    },
    {
     "data": {
      "application/vnd.jupyter.widget-view+json": {
       "model_id": "c5ec2a26f3da43adb4a4613bfa582a82",
       "version_major": 2,
       "version_minor": 0
      },
      "text/plain": [
       "HBox(children=(FloatProgress(value=1.0, bar_style='info', max=1.0), HTML(value='')))"
      ]
     },
     "metadata": {},
     "output_type": "display_data"
    },
    {
     "name": "stdout",
     "output_type": "stream",
     "text": [
      "\n",
      "filtered_measurements = [475.52011356 372.26604285 371.43758374 460.00927432]\n",
      "new_threshold = 964.2115114388359\n"
     ]
    },
    {
     "data": {
      "application/vnd.jupyter.widget-view+json": {
       "model_id": "9f8c557e021b4419956f8dec12f21b38",
       "version_major": 2,
       "version_minor": 0
      },
      "text/plain": [
       "HBox(children=(FloatProgress(value=1.0, bar_style='info', max=1.0), HTML(value='')))"
      ]
     },
     "metadata": {},
     "output_type": "display_data"
    },
    {
     "name": "stdout",
     "output_type": "stream",
     "text": [
      "\n"
     ]
    },
    {
     "data": {
      "application/vnd.jupyter.widget-view+json": {
       "model_id": "479ca70637e948d689694a10a2f7a5c4",
       "version_major": 2,
       "version_minor": 0
      },
      "text/plain": [
       "HBox(children=(FloatProgress(value=1.0, bar_style='info', max=1.0), HTML(value='')))"
      ]
     },
     "metadata": {},
     "output_type": "display_data"
    },
    {
     "name": "stdout",
     "output_type": "stream",
     "text": [
      "\n",
      "filtered_measurements = [195.53749995 146.38351335 132.21543144 239.48270275 206.62741589\n",
      " 218.46336493 187.97978901 105.27544001 151.99697125 244.12264293\n",
      " 203.88984882 191.87455745 135.28331464 127.48620859 164.13864583\n",
      " 148.58954724 249.70016486 256.02942753 173.70344772 260.3168922\n",
      " 127.5780262  115.14105421 139.06955141 175.78556052 221.46280372\n",
      " 247.15754667 133.82746094 118.51184633 145.41698263 179.46144362\n",
      " 146.85186306 198.74272471 230.6786016  206.0271674   98.31331226\n",
      " 124.40694721 168.53252096 101.29143584 168.50338247 246.10477042\n",
      " 210.20852231 158.74605815 105.53732442 185.27747314 186.71765061\n",
      "  95.64839568 150.06936613 200.14514295 191.90394167 104.3901878\n",
      " 223.8702701  228.72237713 111.86420852  89.60836071 117.45649754\n",
      " 124.0953403  107.09635006 133.91350954  94.32046324  86.07466911\n",
      " 176.47982626  96.96460321]\n",
      "new_threshold = 597.4665331135332\n"
     ]
    },
    {
     "data": {
      "application/vnd.jupyter.widget-view+json": {
       "model_id": "75563258e1684a958a76844c213318d1",
       "version_major": 2,
       "version_minor": 0
      },
      "text/plain": [
       "HBox(children=(FloatProgress(value=1.0, bar_style='info', max=1.0), HTML(value='')))"
      ]
     },
     "metadata": {},
     "output_type": "display_data"
    },
    {
     "name": "stdout",
     "output_type": "stream",
     "text": [
      "\n"
     ]
    },
    {
     "data": {
      "application/vnd.jupyter.widget-view+json": {
       "model_id": "fbce271d41be4d5abc447d5d8ae16a08",
       "version_major": 2,
       "version_minor": 0
      },
      "text/plain": [
       "HBox(children=(FloatProgress(value=1.0, bar_style='info', max=1.0), HTML(value='')))"
      ]
     },
     "metadata": {},
     "output_type": "display_data"
    },
    {
     "name": "stdout",
     "output_type": "stream",
     "text": [
      "\n",
      "filtered_measurements = [301.97752716 291.98915714 275.4286697  288.11905418 353.54335587\n",
      " 426.10695883 380.37019755 313.29276118 356.71672246 549.60935758\n",
      " 354.19624142 395.43106207 305.66207182 548.16441897 484.62195669\n",
      " 364.22584787 378.39891024 531.62231341 451.52628413 417.46891687\n",
      " 449.66764742 408.57378551]\n",
      "new_threshold = 1174.390233565297\n"
     ]
    },
    {
     "data": {
      "application/vnd.jupyter.widget-view+json": {
       "model_id": "81b28be98677424aa0519067c8540ef0",
       "version_major": 2,
       "version_minor": 0
      },
      "text/plain": [
       "HBox(children=(FloatProgress(value=1.0, bar_style='info', max=1.0), HTML(value='')))"
      ]
     },
     "metadata": {},
     "output_type": "display_data"
    },
    {
     "name": "stdout",
     "output_type": "stream",
     "text": [
      "\n",
      "\n",
      "Total time = 31.759201288223267\n"
     ]
    }
   ],
   "source": [
    "sk = reload(sk)\n",
    "tu = reload(tu)\n",
    "cu = reload(cu)\n",
    "from tqdm.notebook import tqdm\n",
    "import time\n",
    "import itertools\n",
    "\n",
    "start_time = time.time()\n",
    "\n",
    "limb_correspondence = dict()\n",
    "soma_containing_idx= 0\n",
    "\n",
    "total_branch_meshes = []\n",
    "total_branch_skeletons = []\n",
    "\n",
    "empty_submeshes = []\n",
    "for soma_containing_idx in current_mesh_data.keys():\n",
    "    for limb_idx,curr_limb_mesh in enumerate(current_mesh_data[soma_containing_idx][\"branch_meshes\"]):\n",
    "        print(f\"Working on limb #{limb_idx}\")\n",
    "        limb_correspondence[limb_idx] = dict()\n",
    "        curr_limb_sk = current_mesh_data[soma_containing_idx][\"branch_skeletons_cleaned\"][limb_idx]\n",
    "        curr_limb_branches_sk_uneven = sk.decompose_skeleton_to_branches(curr_limb_sk) #the line that is decomposing to branches\n",
    "        \n",
    "        for j,curr_branch_sk in tqdm(enumerate(curr_limb_branches_sk_uneven)):\n",
    "            limb_correspondence[limb_idx][j] = dict()\n",
    "            \n",
    "            \n",
    "            curr_branch_face_correspondence, width_from_skeleton = cu.mesh_correspondence_adaptive_distance(curr_branch_sk,\n",
    "                                          curr_limb_mesh,\n",
    "                                         skeleton_segment_width = 1000)\n",
    "            \n",
    "            \n",
    "            \n",
    "            if len(curr_branch_face_correspondence) > 0:\n",
    "                curr_submesh = curr_limb_mesh.submesh([list(curr_branch_face_correspondence)],append=True)\n",
    "            else:\n",
    "                curr_submesh = trimesh.Trimesh(vertices=np.array([]),faces=np.array([]))\n",
    "                \n",
    "            limb_correspondence[limb_idx][j][\"branch_skeleton\"] = curr_branch_sk\n",
    "            limb_correspondence[limb_idx][j][\"correspondence_mesh\"] = curr_submesh\n",
    "            limb_correspondence[limb_idx][j][\"correspondence_face_idx\"] = curr_branch_face_correspondence\n",
    "            limb_correspondence[limb_idx][j][\"width_from_skeleton\"] = width_from_skeleton\n",
    "            \n",
    "            total_branch_meshes.append(curr_submesh)\n",
    "            total_branch_skeletons.append(curr_branch_sk)\n",
    "            \n",
    "            if len(curr_submesh.faces) == 0:\n",
    "                empty_submeshes.append(dict(limb_idx=limb_idx,branch_number=j))\n",
    "            \n",
    "            \n",
    "print(f\"Total time = {time.time() - start_time}\")"
   ]
  },
  {
   "cell_type": "code",
   "execution_count": 23,
   "metadata": {},
   "outputs": [
    {
     "name": "stdout",
     "output_type": "stream",
     "text": [
      "\n",
      "---- checking limb 0---\n",
      "Limb 0 decomposed into 51 branches\n",
      "divided_skeleton_graph_recovered = (2130, 2, 3) and \n",
      "current_mesh_data[0]['branch_skeletons_cleaned'].shape = (2130, 2, 3)\n",
      "\n",
      "Number of connected components in deocmposed recovered graph = 1\n",
      "Number of connected components in cleaned skeleton graph= 1\n",
      "The downsampled branches number of connected components = 1\n",
      "\n",
      "---- checking limb 1---\n",
      "Limb 1 decomposed into 23 branches\n",
      "divided_skeleton_graph_recovered = (1215, 2, 3) and \n",
      "current_mesh_data[0]['branch_skeletons_cleaned'].shape = (1215, 2, 3)\n",
      "\n",
      "Number of connected components in deocmposed recovered graph = 1\n",
      "Number of connected components in cleaned skeleton graph= 1\n",
      "The downsampled branches number of connected components = 1\n",
      "\n",
      "---- checking limb 2---\n",
      "Limb 2 decomposed into 7 branches\n",
      "divided_skeleton_graph_recovered = (420, 2, 3) and \n",
      "current_mesh_data[0]['branch_skeletons_cleaned'].shape = (420, 2, 3)\n",
      "\n",
      "Number of connected components in deocmposed recovered graph = 1\n",
      "Number of connected components in cleaned skeleton graph= 1\n",
      "The downsampled branches number of connected components = 1\n",
      "Empty submeshes = []\n"
     ]
    }
   ],
   "source": [
    "#couple of checks on how the decomposition went\n",
    "nu = reload(nu)\n",
    "sk = reload(sk)\n",
    "empty_submeshes = []\n",
    "\n",
    "for soma_containing_idx in current_mesh_data.keys():\n",
    "    for limb_idx,curr_limb_mesh in enumerate(current_mesh_data[soma_containing_idx][\"branch_meshes\"]):\n",
    "        print(f\"\\n---- checking limb {limb_idx}---\")\n",
    "        print(f\"Limb {limb_idx} decomposed into {len(limb_correspondence[limb_idx])} branches\")\n",
    "        \n",
    "        #get all of the skeletons and make sure that they from a connected component\n",
    "        divided_branches = [limb_correspondence[limb_idx][k][\"branch_skeleton\"] for k in limb_correspondence[limb_idx]]\n",
    "        divided_skeleton_graph = sk.convert_skeleton_to_graph(\n",
    "                                        sk.stack_skeletons(divided_branches))\n",
    "        \n",
    "        divided_skeleton_graph_recovered = sk.convert_graph_to_skeleton(divided_skeleton_graph)\n",
    "        \n",
    "        cleaned_limb_skeleton = current_mesh_data[0]['branch_skeletons_cleaned'][limb_idx]\n",
    "        print(f\"divided_skeleton_graph_recovered = {divided_skeleton_graph_recovered.shape} and \\n\"\n",
    "              f\"current_mesh_data[0]['branch_skeletons_cleaned'].shape = {cleaned_limb_skeleton.shape}\\n\")\n",
    "        if divided_skeleton_graph_recovered.shape != cleaned_limb_skeleton.shape:\n",
    "            print(f\"****divided_skeleton_graph_recovered and cleaned_limb_skeleton shapes not match: \"\n",
    "                            f\"{divided_skeleton_graph_recovered.shape} vs. {cleaned_limb_skeleton.shape} *****\")\n",
    "        \n",
    "        \n",
    "        #check that it is all one component\n",
    "        divided_skeleton_graph_n_comp = nx.number_connected_components(divided_skeleton_graph)\n",
    "        print(f\"Number of connected components in deocmposed recovered graph = {divided_skeleton_graph_n_comp}\")\n",
    "        \n",
    "        cleaned_limb_skeleton_graph = sk.convert_skeleton_to_graph(cleaned_limb_skeleton)\n",
    "        cleaned_limb_skeleton_graph_n_comp = nx.number_connected_components(cleaned_limb_skeleton_graph)\n",
    "        print(f\"Number of connected components in cleaned skeleton graph= {cleaned_limb_skeleton_graph_n_comp}\")\n",
    "        \n",
    "        if divided_skeleton_graph_n_comp > 1 or cleaned_limb_skeleton_graph_n_comp > 1:\n",
    "            raise Exception(f\"One of the decompose_skeletons or cleaned skeletons was not just one component : {divided_skeleton_graph_n_comp,cleaned_limb_skeleton_graph_n_comp}\")\n",
    "        \n",
    "        #check that when we downsample it is not one component:\n",
    "        curr_branch_meshes_downsampled = [sk.resize_skeleton_branch(b,n_segments=1) for b in divided_branches]\n",
    "        downsampled_skeleton = sk.stack_skeletons(curr_branch_meshes_downsampled)\n",
    "        curr_sk_graph_debug = sk.convert_skeleton_to_graph(downsampled_skeleton)\n",
    "\n",
    "\n",
    "        con_comp = list(nx.connected_components(curr_sk_graph_debug))\n",
    "        if len(con_comp) > 1:\n",
    "            raise Exception(f\"There were more than 1 component when downsizing: {[len(k) for k in con_comp]}\")\n",
    "        else:\n",
    "            print(f\"The downsampled branches number of connected components = {len(con_comp)}\")\n",
    "        \n",
    "        \n",
    "        for j in limb_correspondence[limb_idx].keys():\n",
    "            if len(limb_correspondence[limb_idx][j][\"correspondence_mesh\"].faces) == 0:\n",
    "                empty_submeshes.append(dict(limb_idx=limb_idx,branch_idx = j))\n",
    "        \n",
    "print(f\"Empty submeshes = {empty_submeshes}\")\n",
    "\n",
    "if len(empty_submeshes) > 0:\n",
    "    raise Exception(f\"Found empyt meshes after branch mesh correspondence: {empty_submeshes}\")"
   ]
  },
  {
   "cell_type": "code",
   "execution_count": 24,
   "metadata": {},
   "outputs": [],
   "source": [
    "# sk = reload(sk)\n",
    "# import matplotlib_utils as mu\n",
    "# mu = reload(mu)\n",
    "# sk.graph_skeleton_and_mesh(other_meshes=total_branch_meshes,\n",
    "#                           other_meshes_colors=\"random\",\n",
    "#                            other_skeletons=total_branch_skeletons,\n",
    "#                            other_skeletons_colors=\"random\"\n",
    "#                           )"
   ]
  },
  {
   "cell_type": "markdown",
   "metadata": {},
   "source": [
    "# Finishing off the face correspondence so get 1-to-1 correspondence of mesh face to skeletal piece"
   ]
  },
  {
   "cell_type": "code",
   "execution_count": 25,
   "metadata": {},
   "outputs": [
    {
     "data": {
      "text/plain": [
       "'\\nInput: \\n- full mesh\\n- current face coloring of mesh (could be incomplete) corresponding to skeletal pieces\\n(but doesn\\'t need the skeletal pieces to do it\\'s jobs, those are just represented in the labels)\\n\\nOutput: \\n- better face coloring which has labels that:\\n    a. cover entire mesh\\n    b. the labels exist as only 1 connected component on the mesh\\n\\n\\n\\nPseudocode of what doing:\\n- clearing out the branch_mesh correspondence stored in limb_correspondence[limb_idx][k][\"branch_mesh\"]\\n- gets a list of how many subdivided branches there were (becuase this should be the number of labels) and the mesh of whole limb\\n- Builds a face to skeleeton branch correspondence bassed on the current  branch_piece[\"correspondence_face_idx\"] that already exists\\n    This may have overlaps or faces mapped to zero branches that we need to resolve\\n- computes the percentage of empty and conflicting faces \\n- makes sure that at least one face that corresponds to each branch piece (and throws error if so)\\n\\n#Doing the resolution of the empty and conflicting faces:\\n- clears out all conflicting faces and leaves them just like the empty ones\\n- uses the filter_face_coloring_to_connected_components which only keeps the largest connected component of a label \\n    (because the zeroing out of conflicting labels could have eliminated or split up some of the labels)\\n- if  a face was totally eliminated then add it back to the face coloring\\n(only does this once so a face could still be missing if one face totally overwrites another face)\\n\\n**At this point: there is at one-to-one correspondence of mesh face to skeletal piece label OR empty label (-1)\\n\\n# Using the waterfilling algorithm: designed at fixing the correspondence to empty label (-1) \\n- get a submesh of the original mesh but only for those empty faces and divide into disconnecteed mesh pieces\\n- run through waterfilling algorithm to color each empty piece\\n- check that there are no more empty faces\\n- gets the one connected mesh component that corresponds to that label (get both the actual mesh and the mesh indexes)\\n\\n#the output of all of the algorithm: \\n- save the result back in  limb_correspondence[limb_idx][k][\"branch_mesh\"] so it is accurately updated\\n\\n\\n'"
      ]
     },
     "execution_count": 25,
     "metadata": {},
     "output_type": "execute_result"
    }
   ],
   "source": [
    "\"\"\"\n",
    "Input: \n",
    "- full mesh\n",
    "- current face coloring of mesh (could be incomplete) corresponding to skeletal pieces\n",
    "(but doesn't need the skeletal pieces to do it's jobs, those are just represented in the labels)\n",
    "\n",
    "Output: \n",
    "- better face coloring which has labels that:\n",
    "    a. cover entire mesh\n",
    "    b. the labels exist as only 1 connected component on the mesh\n",
    "\n",
    "\n",
    "\n",
    "Pseudocode of what doing:\n",
    "- clearing out the branch_mesh correspondence stored in limb_correspondence[limb_idx][k][\"branch_mesh\"]\n",
    "- gets a list of how many subdivided branches there were (becuase this should be the number of labels) and the mesh of whole limb\n",
    "- Builds a face to skeleeton branch correspondence bassed on the current  branch_piece[\"correspondence_face_idx\"] that already exists\n",
    "    This may have overlaps or faces mapped to zero branches that we need to resolve\n",
    "- computes the percentage of empty and conflicting faces \n",
    "- makes sure that at least one face that corresponds to each branch piece (and throws error if so)\n",
    "\n",
    "#Doing the resolution of the empty and conflicting faces:\n",
    "- clears out all conflicting faces and leaves them just like the empty ones\n",
    "- uses the filter_face_coloring_to_connected_components which only keeps the largest connected component of a label \n",
    "    (because the zeroing out of conflicting labels could have eliminated or split up some of the labels)\n",
    "- if  a face was totally eliminated then add it back to the face coloring\n",
    "(only does this once so a face could still be missing if one face totally overwrites another face)\n",
    "\n",
    "**At this point: there is at one-to-one correspondence of mesh face to skeletal piece label OR empty label (-1)\n",
    "\n",
    "# Using the waterfilling algorithm: designed at fixing the correspondence to empty label (-1) \n",
    "- get a submesh of the original mesh but only for those empty faces and divide into disconnecteed mesh pieces\n",
    "- run through waterfilling algorithm to color each empty piece\n",
    "- check that there are no more empty faces\n",
    "- gets the one connected mesh component that corresponds to that label (get both the actual mesh and the mesh indexes)\n",
    "\n",
    "#the output of all of the algorithm: \n",
    "- save the result back in  limb_correspondence[limb_idx][k][\"branch_mesh\"] so it is accurately updated\n",
    "\n",
    "\n",
    "\"\"\""
   ]
  },
  {
   "cell_type": "code",
   "execution_count": 26,
   "metadata": {},
   "outputs": [
    {
     "name": "stdout",
     "output_type": "stream",
     "text": [
      "\n",
      "\n",
      "Working on limb_correspondence for #0\n",
      "max(original_labels),len(original_labels) = (50, 51)\n",
      "empty_indices % = 0.1085795774881438\n",
      " conflict_indices % = 0.03936590057374059\n"
     ]
    },
    {
     "data": {
      "application/vnd.jupyter.widget-view+json": {
       "model_id": "fa0c5aabff1848669dbf36a1bccf2606",
       "version_major": 2,
       "version_minor": 0
      },
      "text/plain": [
       "HBox(children=(FloatProgress(value=0.0, max=262.0), HTML(value='')))"
      ]
     },
     "metadata": {},
     "output_type": "display_data"
    },
    {
     "name": "stdout",
     "output_type": "stream",
     "text": [
      "\n"
     ]
    },
    {
     "data": {
      "application/vnd.jupyter.widget-view+json": {
       "model_id": "8c85cacd1da149318fa21ed816d641d4",
       "version_major": 2,
       "version_minor": 0
      },
      "text/plain": [
       "HBox(children=(FloatProgress(value=0.0, max=51.0), HTML(value='')))"
      ]
     },
     "metadata": {},
     "output_type": "display_data"
    },
    {
     "name": "stdout",
     "output_type": "stream",
     "text": [
      "\n",
      "Total time for limb mesh processing = 1.9768469333648682\n",
      "\n",
      "\n",
      "Working on limb_correspondence for #1\n",
      "max(original_labels),len(original_labels) = (22, 23)\n",
      "empty_indices % = 0.11581512221122363\n",
      " conflict_indices % = 0.022386354983629026\n"
     ]
    },
    {
     "data": {
      "application/vnd.jupyter.widget-view+json": {
       "model_id": "693b33ce09f04e63a70252837fda96e1",
       "version_major": 2,
       "version_minor": 0
      },
      "text/plain": [
       "HBox(children=(FloatProgress(value=0.0, max=107.0), HTML(value='')))"
      ]
     },
     "metadata": {},
     "output_type": "display_data"
    },
    {
     "name": "stdout",
     "output_type": "stream",
     "text": [
      "\n"
     ]
    },
    {
     "data": {
      "application/vnd.jupyter.widget-view+json": {
       "model_id": "db7faaa3dfbb4a13a124011051849652",
       "version_major": 2,
       "version_minor": 0
      },
      "text/plain": [
       "HBox(children=(FloatProgress(value=0.0, max=23.0), HTML(value='')))"
      ]
     },
     "metadata": {},
     "output_type": "display_data"
    },
    {
     "name": "stdout",
     "output_type": "stream",
     "text": [
      "\n",
      "Total time for limb mesh processing = 1.5865929126739502\n",
      "\n",
      "\n",
      "Working on limb_correspondence for #2\n",
      "max(original_labels),len(original_labels) = (6, 7)\n",
      "empty_indices % = 0.06728163187675336\n",
      " conflict_indices % = 0.016356806618800818\n"
     ]
    },
    {
     "data": {
      "application/vnd.jupyter.widget-view+json": {
       "model_id": "ab265484853b4658acebe670b1ce05dd",
       "version_major": 2,
       "version_minor": 0
      },
      "text/plain": [
       "HBox(children=(FloatProgress(value=0.0, max=41.0), HTML(value='')))"
      ]
     },
     "metadata": {},
     "output_type": "display_data"
    },
    {
     "name": "stdout",
     "output_type": "stream",
     "text": [
      "\n"
     ]
    },
    {
     "data": {
      "application/vnd.jupyter.widget-view+json": {
       "model_id": "89294595c0c14165a463130a3311ba70",
       "version_major": 2,
       "version_minor": 0
      },
      "text/plain": [
       "HBox(children=(FloatProgress(value=0.0, max=7.0), HTML(value='')))"
      ]
     },
     "metadata": {},
     "output_type": "display_data"
    },
    {
     "name": "stdout",
     "output_type": "stream",
     "text": [
      "\n",
      "Total time for limb mesh processing = 0.4238893985748291\n"
     ]
    }
   ],
   "source": [
    "#--- this is the function that will clean up a limb piece so have 1-1 correspondence\n",
    "\n",
    "cu = reload(cu)\n",
    "tu = reload(tu)\n",
    "\n",
    "#things to prep for visualizing the axons\n",
    "total_widths = []\n",
    "total_branch_skeletons = []\n",
    "total_branch_meshes = []\n",
    "\n",
    "soma_containing_idx = 0\n",
    "import time\n",
    "for limb_idx in limb_correspondence.keys():\n",
    "    mesh_start_time = time.time()\n",
    "    #clear out the mesh correspondence if already in limb_correspondecne\n",
    "    for k in limb_correspondence[limb_idx].keys():\n",
    "        if \"branch_mesh\" in limb_correspondence[limb_idx][k]:\n",
    "            del limb_correspondence[limb_idx][k][\"branch_mesh\"]\n",
    "        if \"branch_face_idx\" in limb_correspondence[limb_idx][k]:\n",
    "            del limb_correspondence[limb_idx][k][\"branch_face_idx\"]\n",
    "    #geting the current limb mesh\n",
    "    print(f\"\\n\\nWorking on limb_correspondence for #{limb_idx}\")\n",
    "    no_missing_labels = list(limb_correspondence[limb_idx].keys()) #counts the number of divided branches which should be the total number of labels\n",
    "    curr_limb_mesh = current_mesh_data[soma_containing_idx][\"branch_meshes\"][limb_idx]\n",
    "\n",
    "    #set up the face dictionary\n",
    "    face_lookup = dict([(j,[]) for j in range(0,len(curr_limb_mesh.faces))])\n",
    "\n",
    "    for j,branch_piece in limb_correspondence[limb_idx].items():\n",
    "        curr_faces_corresponded = branch_piece[\"correspondence_face_idx\"]\n",
    "\n",
    "        for c in curr_faces_corresponded:\n",
    "            face_lookup[c].append(j)\n",
    "\n",
    "    original_labels = set(list(itertools.chain.from_iterable(list(face_lookup.values()))))\n",
    "    print(f\"max(original_labels),len(original_labels) = {(max(original_labels),len(original_labels))}\")\n",
    "    \n",
    "    \n",
    "    if len(original_labels) != len(no_missing_labels):\n",
    "        raise Exception(f\"len(original_labels) != len(no_missing_labels) for original_labels = {len(original_labels)},no_missing_labels = {len(no_missing_labels)}\")\n",
    "    \n",
    "    if max(original_labels) + 1 > len(original_labels):\n",
    "        raise Exception(\"There are some missing labels in the initial labeling\")\n",
    "        \n",
    "    \n",
    "        \n",
    "    #here is where can call the function that resolves the face labels\n",
    "    face_coloring_copy = cu.resolve_empty_conflicting_face_labels(\n",
    "                     curr_limb_mesh = curr_limb_mesh,\n",
    "                     face_lookup=face_lookup,\n",
    "                     no_missing_labels = list(original_labels)\n",
    "    )\n",
    "    \n",
    "\n",
    "    # -- splitting the mesh pieces into individual pieces\n",
    "    divided_submeshes,divided_submeshes_idx = tu.split_mesh_into_face_groups(curr_limb_mesh,face_coloring_copy)\n",
    "    \n",
    "    #-- check that all the split mesh pieces are one component --#\n",
    "\n",
    "    #save off the new data as branch mesh\n",
    "    for k in limb_correspondence[limb_idx].keys():\n",
    "        limb_correspondence[limb_idx][k][\"branch_mesh\"] = divided_submeshes[k]\n",
    "        limb_correspondence[limb_idx][k][\"branch_face_idx\"] = divided_submeshes_idx[k]\n",
    "        total_widths.append(limb_correspondence[limb_idx][k][\"width_from_skeleton\"])\n",
    "        total_branch_skeletons.append(limb_correspondence[limb_idx][k][\"branch_skeleton\"])\n",
    "        total_branch_meshes.append(limb_correspondence[limb_idx][k][\"branch_mesh\"])\n",
    "    \n",
    "    print(f\"Total time for limb mesh processing = {time.time() - mesh_start_time}\")"
   ]
  },
  {
   "cell_type": "markdown",
   "metadata": {},
   "source": [
    "# Visualizing the results of getting the mesh to skeletal segment correspondence completely 1-to-1"
   ]
  },
  {
   "cell_type": "code",
   "execution_count": 27,
   "metadata": {},
   "outputs": [
    {
     "data": {
      "image/png": "[encoded data removed]",
      "text/plain": [
       "<Figure size 432x288 with 1 Axes>"
      ]
     },
     "metadata": {
      "needs_background": "light"
     },
     "output_type": "display_data"
    }
   ],
   "source": [
    "from matplotlib import pyplot as plt\n",
    "fig,ax = plt.subplots(1,1)\n",
    "bins = plt.hist(np.array(total_widths),bins=100)\n",
    "ax.set_xlabel(\"Width measurement of mesh branch (nm)\")\n",
    "ax.set_ylabel(\"frequency\")\n",
    "ax.set_title(\"Width measurement of mesh branch frequency\")\n",
    "plt.show()"
   ]
  },
  {
   "cell_type": "code",
   "execution_count": 28,
   "metadata": {},
   "outputs": [
    {
     "data": {
      "application/vnd.jupyter.widget-view+json": {
       "model_id": "d56a3c23724843f4b313eec4b28d8687",
       "version_major": 2,
       "version_minor": 0
      },
      "text/plain": [
       "VBox(children=(Figure(camera=PerspectiveCamera(fov=46.0, position=(0.0, 0.0, 2.0), quaternion=(0.0, 0.0, 0.0, …"
      ]
     },
     "metadata": {},
     "output_type": "display_data"
    }
   ],
   "source": [
    "sk.graph_skeleton_and_mesh(other_meshes=total_branch_meshes,\n",
    "                          other_meshes_colors=\"random\",\n",
    "                          other_skeletons=total_branch_skeletons,\n",
    "                          other_skeletons_colors=\"random\",\n",
    "                          #html_path=\"two_soma_mesh_skeleton_decomp.html\"\n",
    "                          )"
   ]
  },
  {
   "cell_type": "code",
   "execution_count": 29,
   "metadata": {},
   "outputs": [
    {
     "data": {
      "text/plain": [
       "3"
      ]
     },
     "execution_count": 29,
     "metadata": {},
     "output_type": "execute_result"
    }
   ],
   "source": [
    "np.argmax([1,4,5,6])"
   ]
  },
  {
   "cell_type": "code",
   "execution_count": 30,
   "metadata": {},
   "outputs": [
    {
     "data": {
      "application/vnd.jupyter.widget-view+json": {
       "model_id": "ed7c16c5942244329ef22d196b5f0e56",
       "version_major": 2,
       "version_minor": 0
      },
      "text/plain": [
       "VBox(children=(Figure(camera=PerspectiveCamera(fov=46.0, position=(0.0, 0.0, 2.0), quaternion=(0.0, 0.0, 0.0, …"
      ]
     },
     "metadata": {},
     "output_type": "display_data"
    }
   ],
   "source": [
    "\n",
    "sk.graph_skeleton_and_mesh(other_meshes=[total_branch_meshes[47]],\n",
    "                          other_meshes_colors=\"random\",\n",
    "                          other_skeletons=[total_branch_skeletons[47]],\n",
    "                          other_skeletons_colors=\"random\",\n",
    "                          html_path=\"two_soma_mesh_skeleton_decomp.html\")"
   ]
  },
  {
   "cell_type": "code",
   "execution_count": 174,
   "metadata": {},
   "outputs": [
    {
     "data": {
      "text/plain": [
       "<networkx_utils.GraphOrderedEdges at 0x7f66d355f518>"
      ]
     },
     "execution_count": 174,
     "metadata": {},
     "output_type": "execute_result"
    }
   ],
   "source": [
    "ex_concept_graph[0]"
   ]
  },
  {
   "cell_type": "code",
   "execution_count": 179,
   "metadata": {},
   "outputs": [
    {
     "data": {
      "text/plain": [
       "{24: array([[985999. , 911980. , 800972. ],\n",
       "        [987284.1, 907570.1, 801228.2]])}"
      ]
     },
     "execution_count": 179,
     "metadata": {},
     "output_type": "execute_result"
    }
   ],
   "source": [
    "xu = reload(xu)\n",
    "xu.get_node_attributes(ex_concept_graph[0],attribute_name=\"endpoints\",node_list=[24],\n",
    "                       return_array=False)"
   ]
  },
  {
   "cell_type": "code",
   "execution_count": 172,
   "metadata": {},
   "outputs": [
    {
     "data": {
      "text/plain": [
       "{24: array([[985999. , 911980. , 800972. ],\n",
       "        [987284.1, 907570.1, 801228.2]]),\n",
       " 4: array([[962323.2, 944461.8, 790311.2],\n",
       "        [985999. , 911980. , 800972. ]]),\n",
       " 27: array([[985999., 911980., 800972.],\n",
       "        [987046., 918697., 806237.]]),\n",
       " 21: array([[984447., 920973., 809177.],\n",
       "        [987046., 918697., 806237.]]),\n",
       " 25: array([[985659., 927319., 807214.],\n",
       "        [987046., 918697., 806237.]]),\n",
       " 29: array([[ 987046.,  918697.,  806237.],\n",
       "        [1021340.,  930112.,  812134.]]),\n",
       " 16: array([[983350., 921859., 812919.],\n",
       "        [984447., 920973., 809177.]]),\n",
       " 18: array([[983197., 928592., 817636.],\n",
       "        [984447., 920973., 809177.]]),\n",
       " 22: array([[985199., 932788., 807874.],\n",
       "        [985659., 927319., 807214.]]),\n",
       " 50: array([[985659. , 927319. , 807214. ],\n",
       "        [987315.8, 927318.9, 807737.4]]),\n",
       " 42: array([[1021340. ,  930112. ,  812134. ],\n",
       "        [1021348. ,  927647.4,  809386.5]]),\n",
       " 43: array([[1021340.,  930112.,  812134.],\n",
       "        [1027520.,  938035.,  810200.]]),\n",
       " 12: array([[972726., 928043., 824119.],\n",
       "        [983197., 928592., 817636.]]),\n",
       " 17: array([[983197., 928592., 817636.],\n",
       "        [984439., 932204., 820547.]]),\n",
       " 10: array([[970814., 957182., 809004.],\n",
       "        [985199., 932788., 807874.]]),\n",
       " 26: array([[985199., 932788., 807874.],\n",
       "        [991121., 939271., 809317.]]),\n",
       " 23: array([[985267. , 929918. , 820741. ],\n",
       "        [987315.8, 927318.9, 807737.4]]),\n",
       " 28: array([[987315.8, 927318.9, 807737.4],\n",
       "        [989160. , 926606. , 797037. ]]),\n",
       " 44: array([[1024210.,  936868.,  824900.],\n",
       "        [1027520.,  938035.,  810200.]]),\n",
       " 45: array([[1027520.,  938035.,  810200.],\n",
       "        [1029940.,  943977.,  812467.]]),\n",
       " 15: array([[980763., 937071., 841207.],\n",
       "        [984439., 932204., 820547.]]),\n",
       " 19: array([[984439., 932204., 820547.],\n",
       "        [986182., 940172., 837681.]]),\n",
       " 2: array([[953525., 974047., 798827.],\n",
       "        [970814., 957182., 809004.]]),\n",
       " 8: array([[969334.1, 958544.9, 817011.1],\n",
       "        [970814. , 957182. , 809004. ]]),\n",
       " 9: array([[970814., 957182., 809004.],\n",
       "        [971058., 957720., 804918.]]),\n",
       " 31: array([[991121., 939271., 809317.],\n",
       "        [992459., 950294., 807411.]]),\n",
       " 32: array([[ 991121. ,  939271. ,  809317. ],\n",
       "        [1055136. ,  972295.1,  836380.7]]),\n",
       " 46: array([[1029940. ,  943977. ,  812467. ],\n",
       "        [1036849. ,  946866.6,  816197.8]]),\n",
       " 47: array([[1029940.,  943977.,  812467.],\n",
       "        [1034720.,  950751.,  812250.]]),\n",
       " 11: array([[972568.2, 949351.9, 851949.6],\n",
       "        [986182. , 940172. , 837681. ]]),\n",
       " 20: array([[984353., 945099., 844895.],\n",
       "        [986182., 940172., 837681.]]),\n",
       " 0: array([[940317.6, 991388.1, 791760.8],\n",
       "        [953525. , 974047. , 798827. ]]),\n",
       " 1: array([[943079.8, 965727.7, 802046.1],\n",
       "        [953525. , 974047. , 798827. ]]),\n",
       " 5: array([[963587. , 960001. , 822753. ],\n",
       "        [969334.1, 958544.9, 817011.1]]),\n",
       " 7: array([[969334.1, 958544.9, 817011.1],\n",
       "        [988646. , 959273. , 797849. ]]),\n",
       " 30: array([[989780.4, 956076.6, 809631.4],\n",
       "        [992459. , 950294. , 807411. ]]),\n",
       " 33: array([[992459., 950294., 807411.],\n",
       "        [999780., 970827., 802459.]]),\n",
       " 48: array([[1031811. ,  952647.3,  807643.5],\n",
       "        [1034720. ,  950751. ,  812250. ]]),\n",
       " 49: array([[1034720.,  950751.,  812250.],\n",
       "        [1071160.,  985370.,  822890.]]),\n",
       " 3: array([[958350.6, 956534.8, 862950.8],\n",
       "        [972568.2, 949351.9, 851949.6]]),\n",
       " 13: array([[972568.2, 949351.9, 851949.6],\n",
       "        [974141.4, 948905.4, 854144.1]]),\n",
       " 34: array([[996329., 969258., 801840.],\n",
       "        [999780., 970827., 802459.]]),\n",
       " 35: array([[ 999780.,  970827.,  802459.],\n",
       "        [1007740.,  978788.,  802108.]]),\n",
       " 6: array([[968016. , 968139. , 861296. ],\n",
       "        [974141.4, 948905.4, 854144.1]]),\n",
       " 14: array([[974141.4, 948905.4, 854144.1],\n",
       "        [975640. , 943238. , 856046. ]]),\n",
       " 39: array([[1007290.,  981498.,  800025.],\n",
       "        [1007740.,  978788.,  802108.]]),\n",
       " 41: array([[1007740. ,  978788. ,  802108. ],\n",
       "        [1015785. ,  978948.4,  804217.6]]),\n",
       " 36: array([[1000348. ,  981076. ,  804282.3],\n",
       "        [1007290. ,  981498. ,  800025. ]]),\n",
       " 38: array([[1007290.,  981498.,  800025.],\n",
       "        [1007510.,  984689.,  796520.]]),\n",
       " 37: array([[1004782., 1016866.,  801815.],\n",
       "        [1007510.,  984689.,  796520.]]),\n",
       " 40: array([[1007510.,  984689.,  796520.],\n",
       "        [1010020.,  993886.,  799804.]])}"
      ]
     },
     "execution_count": 172,
     "metadata": {},
     "output_type": "execute_result"
    }
   ],
   "source": [
    "xu = reload(xu)\n",
    "xu.get_all_nodes_with_certain_attribute_key(ex_concept_graph[0],\"endpoints\")"
   ]
  },
  {
   "cell_type": "code",
   "execution_count": 165,
   "metadata": {},
   "outputs": [
    {
     "data": {
      "text/plain": [
       "<networkx_utils.GraphOrderedEdges at 0x7f66d355f518>"
      ]
     },
     "execution_count": 165,
     "metadata": {},
     "output_type": "execute_result"
    }
   ],
   "source": [
    "ex_concept_graph = limb_concept_networkx[0]\n",
    "ex_concept_graph[0]."
   ]
  },
  {
   "cell_type": "code",
   "execution_count": 181,
   "metadata": {},
   "outputs": [
    {
     "data": {
      "text/plain": [
       "[{'starting_soma': 0,\n",
       "  'starting_node': 24,\n",
       "  'starting_coordinate': array([987284.1, 907570.1, 801228.2]),\n",
       "  'starting_endpoints': array([[985999. , 911980. , 800972. ],\n",
       "         [987284.1, 907570.1, 801228.2]])}]"
      ]
     },
     "execution_count": 181,
     "metadata": {},
     "output_type": "execute_result"
    }
   ],
   "source": [
    "\n",
    "\n",
    "    \n",
    "    \n",
    "output_dicts = get_starting_info_from_concept_graph(ex_concept_graph)\n",
    "output_dicts\n"
   ]
  },
  {
   "cell_type": "markdown",
   "metadata": {},
   "source": [
    "# PART 3: LAST PART OF ANALYSIS WHERE MAKES CONCEPT GRAPHS"
   ]
  },
  {
   "cell_type": "code",
   "execution_count": 156,
   "metadata": {
    "scrolled": true
   },
   "outputs": [
    {
     "name": "stdout",
     "output_type": "stream",
     "text": [
      "\n",
      "\n",
      "------Working on limb 0 -------\n",
      "inside loop len(curr_limb_divided_meshes) = 51 len(curr_limb_divided_skeletons) = 51\n",
      "--- Working on soma_idx: 0----\n",
      "Total time for filtering periphery meshes = 0.13031601905822754\n",
      "Total time for mesh mapping: 0.05916762351989746\n",
      "Total time for mesh mapping: 0.025935649871826172\n",
      "touching_pieces = [24]\n",
      "Total time for mesh connectivity = 0.09212994575500488\n",
      "Touching piece endpoints = [[985999.  911980.  800972. ]\n",
      " [987284.1 907570.1 801228.2]]\n",
      "inside inner loop len(curr_limb_divided_skeletons) = 51\n",
      "closest_endpoint = [987284.1 907570.1 801228.2]\n",
      "Starting_edge inside branches_to_conept = [[985999.  911980.  800972. ]\n",
      " [987284.1 907570.1 801228.2]]\n",
      "At the start, starting_node (in terms of the skeleton, that shouldn't match the starting edge) = [26]\n",
      "printing out current edge:\n",
      "[[987284.1 907570.1 801228.2]\n",
      " [985999.  911980.  800972. ]]\n",
      "edge_endpoints_to_process was empty so exiting loop after 51 iterations\n",
      "starting_node in concept map (that should match the starting edge) = 24\n",
      "Total time for branches to concept conversion = 0.2030174732208252\n",
      "\n",
      "recovered_touching_piece = [24]\n",
      "After concept mapping size = 51\n",
      "original_branch_endpoints = [[940317.6 991388.1 791760.8]\n",
      " [953525.  974047.  798827. ]], concept graph node endpoints = [[940317.6 991388.1 791760.8]\n",
      " [953525.  974047.  798827. ]]\n",
      "original_branch_endpoints = [[943079.8 965727.7 802046.1]\n",
      " [953525.  974047.  798827. ]], concept graph node endpoints = [[943079.8 965727.7 802046.1]\n",
      " [953525.  974047.  798827. ]]\n",
      "original_branch_endpoints = [[953525. 974047. 798827.]\n",
      " [970814. 957182. 809004.]], concept graph node endpoints = [[953525. 974047. 798827.]\n",
      " [970814. 957182. 809004.]]\n",
      "original_branch_endpoints = [[958350.6 956534.8 862950.8]\n",
      " [972568.2 949351.9 851949.6]], concept graph node endpoints = [[958350.6 956534.8 862950.8]\n",
      " [972568.2 949351.9 851949.6]]\n",
      "original_branch_endpoints = [[962323.2 944461.8 790311.2]\n",
      " [985999.  911980.  800972. ]], concept graph node endpoints = [[962323.2 944461.8 790311.2]\n",
      " [985999.  911980.  800972. ]]\n",
      "original_branch_endpoints = [[963587.  960001.  822753. ]\n",
      " [969334.1 958544.9 817011.1]], concept graph node endpoints = [[963587.  960001.  822753. ]\n",
      " [969334.1 958544.9 817011.1]]\n",
      "original_branch_endpoints = [[968016.  968139.  861296. ]\n",
      " [974141.4 948905.4 854144.1]], concept graph node endpoints = [[968016.  968139.  861296. ]\n",
      " [974141.4 948905.4 854144.1]]\n",
      "original_branch_endpoints = [[969334.1 958544.9 817011.1]\n",
      " [988646.  959273.  797849. ]], concept graph node endpoints = [[969334.1 958544.9 817011.1]\n",
      " [988646.  959273.  797849. ]]\n",
      "original_branch_endpoints = [[969334.1 958544.9 817011.1]\n",
      " [970814.  957182.  809004. ]], concept graph node endpoints = [[969334.1 958544.9 817011.1]\n",
      " [970814.  957182.  809004. ]]\n",
      "original_branch_endpoints = [[970814. 957182. 809004.]\n",
      " [971058. 957720. 804918.]], concept graph node endpoints = [[970814. 957182. 809004.]\n",
      " [971058. 957720. 804918.]]\n",
      "original_branch_endpoints = [[970814. 957182. 809004.]\n",
      " [985199. 932788. 807874.]], concept graph node endpoints = [[970814. 957182. 809004.]\n",
      " [985199. 932788. 807874.]]\n",
      "original_branch_endpoints = [[972568.2 949351.9 851949.6]\n",
      " [986182.  940172.  837681. ]], concept graph node endpoints = [[972568.2 949351.9 851949.6]\n",
      " [986182.  940172.  837681. ]]\n",
      "original_branch_endpoints = [[972726. 928043. 824119.]\n",
      " [983197. 928592. 817636.]], concept graph node endpoints = [[972726. 928043. 824119.]\n",
      " [983197. 928592. 817636.]]\n",
      "original_branch_endpoints = [[972568.2 949351.9 851949.6]\n",
      " [974141.4 948905.4 854144.1]], concept graph node endpoints = [[972568.2 949351.9 851949.6]\n",
      " [974141.4 948905.4 854144.1]]\n",
      "original_branch_endpoints = [[974141.4 948905.4 854144.1]\n",
      " [975640.  943238.  856046. ]], concept graph node endpoints = [[974141.4 948905.4 854144.1]\n",
      " [975640.  943238.  856046. ]]\n",
      "original_branch_endpoints = [[980763. 937071. 841207.]\n",
      " [984439. 932204. 820547.]], concept graph node endpoints = [[980763. 937071. 841207.]\n",
      " [984439. 932204. 820547.]]\n",
      "original_branch_endpoints = [[983350. 921859. 812919.]\n",
      " [984447. 920973. 809177.]], concept graph node endpoints = [[983350. 921859. 812919.]\n",
      " [984447. 920973. 809177.]]\n",
      "original_branch_endpoints = [[983197. 928592. 817636.]\n",
      " [984439. 932204. 820547.]], concept graph node endpoints = [[983197. 928592. 817636.]\n",
      " [984439. 932204. 820547.]]\n",
      "original_branch_endpoints = [[983197. 928592. 817636.]\n",
      " [984447. 920973. 809177.]], concept graph node endpoints = [[983197. 928592. 817636.]\n",
      " [984447. 920973. 809177.]]\n",
      "original_branch_endpoints = [[984439. 932204. 820547.]\n",
      " [986182. 940172. 837681.]], concept graph node endpoints = [[984439. 932204. 820547.]\n",
      " [986182. 940172. 837681.]]\n",
      "original_branch_endpoints = [[984353. 945099. 844895.]\n",
      " [986182. 940172. 837681.]], concept graph node endpoints = [[984353. 945099. 844895.]\n",
      " [986182. 940172. 837681.]]\n",
      "original_branch_endpoints = [[984447. 920973. 809177.]\n",
      " [987046. 918697. 806237.]], concept graph node endpoints = [[984447. 920973. 809177.]\n",
      " [987046. 918697. 806237.]]\n",
      "original_branch_endpoints = [[985199. 932788. 807874.]\n",
      " [985659. 927319. 807214.]], concept graph node endpoints = [[985199. 932788. 807874.]\n",
      " [985659. 927319. 807214.]]\n",
      "original_branch_endpoints = [[985267.  929918.  820741. ]\n",
      " [987315.8 927318.9 807737.4]], concept graph node endpoints = [[985267.  929918.  820741. ]\n",
      " [987315.8 927318.9 807737.4]]\n",
      "original_branch_endpoints = [[985999.  911980.  800972. ]\n",
      " [987284.1 907570.1 801228.2]], concept graph node endpoints = [[985999.  911980.  800972. ]\n",
      " [987284.1 907570.1 801228.2]]\n",
      "original_branch_endpoints = [[985659. 927319. 807214.]\n",
      " [987046. 918697. 806237.]], concept graph node endpoints = [[985659. 927319. 807214.]\n",
      " [987046. 918697. 806237.]]\n",
      "original_branch_endpoints = [[985199. 932788. 807874.]\n",
      " [991121. 939271. 809317.]], concept graph node endpoints = [[985199. 932788. 807874.]\n",
      " [991121. 939271. 809317.]]\n",
      "original_branch_endpoints = [[985999. 911980. 800972.]\n",
      " [987046. 918697. 806237.]], concept graph node endpoints = [[985999. 911980. 800972.]\n",
      " [987046. 918697. 806237.]]\n",
      "original_branch_endpoints = [[987315.8 927318.9 807737.4]\n",
      " [989160.  926606.  797037. ]], concept graph node endpoints = [[987315.8 927318.9 807737.4]\n",
      " [989160.  926606.  797037. ]]\n",
      "original_branch_endpoints = [[ 987046.  918697.  806237.]\n",
      " [1021340.  930112.  812134.]], concept graph node endpoints = [[ 987046.  918697.  806237.]\n",
      " [1021340.  930112.  812134.]]\n",
      "original_branch_endpoints = [[989780.4 956076.6 809631.4]\n",
      " [992459.  950294.  807411. ]], concept graph node endpoints = [[989780.4 956076.6 809631.4]\n",
      " [992459.  950294.  807411. ]]\n",
      "original_branch_endpoints = [[991121. 939271. 809317.]\n",
      " [992459. 950294. 807411.]], concept graph node endpoints = [[991121. 939271. 809317.]\n",
      " [992459. 950294. 807411.]]\n",
      "original_branch_endpoints = [[ 991121.   939271.   809317. ]\n",
      " [1055136.   972295.1  836380.7]], concept graph node endpoints = [[ 991121.   939271.   809317. ]\n",
      " [1055136.   972295.1  836380.7]]\n",
      "original_branch_endpoints = [[992459. 950294. 807411.]\n",
      " [999780. 970827. 802459.]], concept graph node endpoints = [[992459. 950294. 807411.]\n",
      " [999780. 970827. 802459.]]\n",
      "original_branch_endpoints = [[996329. 969258. 801840.]\n",
      " [999780. 970827. 802459.]], concept graph node endpoints = [[996329. 969258. 801840.]\n",
      " [999780. 970827. 802459.]]\n",
      "original_branch_endpoints = [[ 999780.  970827.  802459.]\n",
      " [1007740.  978788.  802108.]], concept graph node endpoints = [[ 999780.  970827.  802459.]\n",
      " [1007740.  978788.  802108.]]\n",
      "original_branch_endpoints = [[1000348.   981076.   804282.3]\n",
      " [1007290.   981498.   800025. ]], concept graph node endpoints = [[1000348.   981076.   804282.3]\n",
      " [1007290.   981498.   800025. ]]\n",
      "original_branch_endpoints = [[1004782. 1016866.  801815.]\n",
      " [1007510.  984689.  796520.]], concept graph node endpoints = [[1004782. 1016866.  801815.]\n",
      " [1007510.  984689.  796520.]]\n",
      "original_branch_endpoints = [[1007290.  981498.  800025.]\n",
      " [1007510.  984689.  796520.]], concept graph node endpoints = [[1007290.  981498.  800025.]\n",
      " [1007510.  984689.  796520.]]\n",
      "original_branch_endpoints = [[1007290.  981498.  800025.]\n",
      " [1007740.  978788.  802108.]], concept graph node endpoints = [[1007290.  981498.  800025.]\n",
      " [1007740.  978788.  802108.]]\n",
      "original_branch_endpoints = [[1007510.  984689.  796520.]\n",
      " [1010020.  993886.  799804.]], concept graph node endpoints = [[1007510.  984689.  796520.]\n",
      " [1010020.  993886.  799804.]]\n",
      "original_branch_endpoints = [[1007740.   978788.   802108. ]\n",
      " [1015785.   978948.4  804217.6]], concept graph node endpoints = [[1007740.   978788.   802108. ]\n",
      " [1015785.   978948.4  804217.6]]\n",
      "original_branch_endpoints = [[1021340.   930112.   812134. ]\n",
      " [1021348.   927647.4  809386.5]], concept graph node endpoints = [[1021340.   930112.   812134. ]\n",
      " [1021348.   927647.4  809386.5]]\n",
      "original_branch_endpoints = [[1021340.  930112.  812134.]\n",
      " [1027520.  938035.  810200.]], concept graph node endpoints = [[1021340.  930112.  812134.]\n",
      " [1027520.  938035.  810200.]]\n",
      "original_branch_endpoints = [[1024210.  936868.  824900.]\n",
      " [1027520.  938035.  810200.]], concept graph node endpoints = [[1024210.  936868.  824900.]\n",
      " [1027520.  938035.  810200.]]\n",
      "original_branch_endpoints = [[1027520.  938035.  810200.]\n",
      " [1029940.  943977.  812467.]], concept graph node endpoints = [[1027520.  938035.  810200.]\n",
      " [1029940.  943977.  812467.]]\n",
      "original_branch_endpoints = [[1029940.   943977.   812467. ]\n",
      " [1036849.   946866.6  816197.8]], concept graph node endpoints = [[1029940.   943977.   812467. ]\n",
      " [1036849.   946866.6  816197.8]]\n",
      "original_branch_endpoints = [[1029940.  943977.  812467.]\n",
      " [1034720.  950751.  812250.]], concept graph node endpoints = [[1029940.  943977.  812467.]\n",
      " [1034720.  950751.  812250.]]\n",
      "original_branch_endpoints = [[1031811.   952647.3  807643.5]\n",
      " [1034720.   950751.   812250. ]], concept graph node endpoints = [[1031811.   952647.3  807643.5]\n",
      " [1034720.   950751.   812250. ]]\n",
      "original_branch_endpoints = [[1034720.  950751.  812250.]\n",
      " [1071160.  985370.  822890.]], concept graph node endpoints = [[1034720.  950751.  812250.]\n",
      " [1071160.  985370.  822890.]]\n",
      "original_branch_endpoints = [[985659.  927319.  807214. ]\n",
      " [987315.8 927318.9 807737.4]], concept graph node endpoints = [[985659.  927319.  807214. ]\n",
      " [987315.8 927318.9 807737.4]]\n",
      "Local time for concept mapping = 0.5571591854095459\n",
      "\n",
      "\n",
      "------Working on limb 1 -------\n",
      "inside loop len(curr_limb_divided_meshes) = 23 len(curr_limb_divided_skeletons) = 23\n",
      "--- Working on soma_idx: 0----\n"
     ]
    },
    {
     "name": "stdout",
     "output_type": "stream",
     "text": [
      "Total time for filtering periphery meshes = 0.06749200820922852\n",
      "Total time for mesh mapping: 0.060410261154174805\n",
      "touching_pieces = [20]\n",
      "Total time for mesh connectivity = 0.06817245483398438\n",
      "Touching piece endpoints = [[ 984449.   890050.   802922. ]\n",
      " [1018642.   882807.4  839586.8]]\n",
      "inside inner loop len(curr_limb_divided_skeletons) = 23\n",
      "closest_endpoint = [984449. 890050. 802922.]\n",
      "Starting_edge inside branches_to_conept = [[ 984449.   890050.   802922. ]\n",
      " [1018642.   882807.4  839586.8]]\n",
      "At the start, starting_node (in terms of the skeleton, that shouldn't match the starting edge) = [21]\n",
      "printing out current edge:\n",
      "[[ 984449.   890050.   802922. ]\n",
      " [1018642.   882807.4  839586.8]]\n",
      "edge_endpoints_to_process was empty so exiting loop after 23 iterations\n",
      "starting_node in concept map (that should match the starting edge) = 20\n",
      "Total time for branches to concept conversion = 0.1008155345916748\n",
      "\n",
      "recovered_touching_piece = [20]\n",
      "After concept mapping size = 23\n",
      "original_branch_endpoints = [[877794.8 898131.6 794243.6]\n",
      " [908691.  888549.  807406. ]], concept graph node endpoints = [[877794.8 898131.6 794243.6]\n",
      " [908691.  888549.  807406. ]]\n",
      "original_branch_endpoints = [[906291. 888385. 807784.]\n",
      " [908691. 888549. 807406.]], concept graph node endpoints = [[906291. 888385. 807784.]\n",
      " [908691. 888549. 807406.]]\n",
      "original_branch_endpoints = [[908691. 888549. 807406.]\n",
      " [932645. 885939. 813069.]], concept graph node endpoints = [[908691. 888549. 807406.]\n",
      " [932645. 885939. 813069.]]\n",
      "original_branch_endpoints = [[931919.8 888324.9 812568.2]\n",
      " [932645.  885939.  813069. ]], concept graph node endpoints = [[931919.8 888324.9 812568.2]\n",
      " [932645.  885939.  813069. ]]\n",
      "original_branch_endpoints = [[932645. 885939. 813069.]\n",
      " [942264. 887208. 814339.]], concept graph node endpoints = [[932645. 885939. 813069.]\n",
      " [942264. 887208. 814339.]]\n",
      "original_branch_endpoints = [[942264.  887208.  814339. ]\n",
      " [943897.3 885624.6 810749.1]], concept graph node endpoints = [[942264.  887208.  814339. ]\n",
      " [943897.3 885624.6 810749.1]]\n",
      "original_branch_endpoints = [[942774. 873314. 831651.]\n",
      " [962579. 884486. 814574.]], concept graph node endpoints = [[942774. 873314. 831651.]\n",
      " [962579. 884486. 814574.]]\n",
      "original_branch_endpoints = [[942264. 887208. 814339.]\n",
      " [962579. 884486. 814574.]], concept graph node endpoints = [[942264. 887208. 814339.]\n",
      " [962579. 884486. 814574.]]\n",
      "original_branch_endpoints = [[948159. 909553. 810421.]\n",
      " [972192. 880921. 794790.]], concept graph node endpoints = [[948159. 909553. 810421.]\n",
      " [972192. 880921. 794790.]]\n",
      "original_branch_endpoints = [[951141. 906188. 840390.]\n",
      " [954971. 904138. 837861.]], concept graph node endpoints = [[951141. 906188. 840390.]\n",
      " [954971. 904138. 837861.]]\n",
      "original_branch_endpoints = [[951389.6 909873.6 839936.7]\n",
      " [954971.  904138.  837861. ]], concept graph node endpoints = [[951389.6 909873.6 839936.7]\n",
      " [954971.  904138.  837861. ]]\n",
      "original_branch_endpoints = [[954971. 904138. 837861.]\n",
      " [974768. 883753. 812760.]], concept graph node endpoints = [[954971. 904138. 837861.]\n",
      " [974768. 883753. 812760.]]\n",
      "original_branch_endpoints = [[960876.2 877890.5 789808.9]\n",
      " [972192.  880921.  794790. ]], concept graph node endpoints = [[960876.2 877890.5 789808.9]\n",
      " [972192.  880921.  794790. ]]\n",
      "original_branch_endpoints = [[962579. 884486. 814574.]\n",
      " [974768. 883753. 812760.]], concept graph node endpoints = [[962579. 884486. 814574.]\n",
      " [974768. 883753. 812760.]]\n",
      "original_branch_endpoints = [[972192. 880921. 794790.]\n",
      " [983909. 888359. 801400.]], concept graph node endpoints = [[972192. 880921. 794790.]\n",
      " [983909. 888359. 801400.]]\n",
      "original_branch_endpoints = [[974768. 883753. 812760.]\n",
      " [981625. 885929. 806981.]], concept graph node endpoints = [[974768. 883753. 812760.]\n",
      " [981625. 885929. 806981.]]\n",
      "original_branch_endpoints = [[981625. 885929. 806981.]\n",
      " [984140. 889617. 802863.]], concept graph node endpoints = [[981625. 885929. 806981.]\n",
      " [984140. 889617. 802863.]]\n",
      "original_branch_endpoints = [[982126. 871300. 790590.]\n",
      " [983909. 888359. 801400.]], concept graph node endpoints = [[982126. 871300. 790590.]\n",
      " [983909. 888359. 801400.]]\n",
      "original_branch_endpoints = [[981625.  885929.  806981. ]\n",
      " [983923.2 883255.9 807627.2]], concept graph node endpoints = [[981625.  885929.  806981. ]\n",
      " [983923.2 883255.9 807627.2]]\n",
      "original_branch_endpoints = [[983909. 888359. 801400.]\n",
      " [984140. 889617. 802863.]], concept graph node endpoints = [[983909. 888359. 801400.]\n",
      " [984140. 889617. 802863.]]\n",
      "original_branch_endpoints = [[ 984449.   890050.   802922. ]\n",
      " [1018642.   882807.4  839586.8]], concept graph node endpoints = [[ 984449.   890050.   802922. ]\n",
      " [1018642.   882807.4  839586.8]]\n",
      "original_branch_endpoints = [[ 984449.   890050.   802922. ]\n",
      " [1029625.   879507.   838155.5]], concept graph node endpoints = [[ 984449.   890050.   802922. ]\n",
      " [1029625.   879507.   838155.5]]\n",
      "original_branch_endpoints = [[984140. 889617. 802863.]\n",
      " [984449. 890050. 802922.]], concept graph node endpoints = [[984140. 889617. 802863.]\n",
      " [984449. 890050. 802922.]]\n",
      "Local time for concept mapping = 0.3097546100616455\n",
      "\n",
      "\n",
      "------Working on limb 2 -------\n",
      "inside loop len(curr_limb_divided_meshes) = 7 len(curr_limb_divided_skeletons) = 7\n",
      "--- Working on soma_idx: 0----\n",
      "Total time for filtering periphery meshes = 0.026955604553222656\n",
      "Total time for mesh mapping: 0.0310819149017334\n",
      "touching_pieces = [0]\n",
      "Total time for mesh connectivity = 0.03775811195373535\n",
      "Touching piece endpoints = [[ 991957.  902000.  793498.]\n",
      " [1026820.  907558.  797174.]]\n",
      "inside inner loop len(curr_limb_divided_skeletons) = 7\n",
      "closest_endpoint = [991957. 902000. 793498.]\n",
      "Starting_edge inside branches_to_conept = [[ 991957.  902000.  793498.]\n",
      " [1026820.  907558.  797174.]]\n",
      "At the start, starting_node (in terms of the skeleton, that shouldn't match the starting edge) = [0]\n",
      "printing out current edge:\n",
      "[[ 991957.  902000.  793498.]\n",
      " [1026820.  907558.  797174.]]\n",
      "edge_endpoints_to_process was empty so exiting loop after 7 iterations\n",
      "starting_node in concept map (that should match the starting edge) = 0\n",
      "Total time for branches to concept conversion = 0.03478050231933594\n",
      "\n",
      "recovered_touching_piece = [0]\n",
      "After concept mapping size = 7\n",
      "original_branch_endpoints = [[ 991957.  902000.  793498.]\n",
      " [1026820.  907558.  797174.]], concept graph node endpoints = [[ 991957.  902000.  793498.]\n",
      " [1026820.  907558.  797174.]]\n",
      "original_branch_endpoints = [[1023924.   910656.1  799705.2]\n",
      " [1026820.   907558.   797174. ]], concept graph node endpoints = [[1023924.   910656.1  799705.2]\n",
      " [1026820.   907558.   797174. ]]\n",
      "original_branch_endpoints = [[1026820.  907558.  797174.]\n",
      " [1033560.  906838.  796115.]], concept graph node endpoints = [[1026820.  907558.  797174.]\n",
      " [1033560.  906838.  796115.]]\n",
      "original_branch_endpoints = [[1033560.  906838.  796115.]\n",
      " [1035220.  905902.  790008.]], concept graph node endpoints = [[1033560.  906838.  796115.]\n",
      " [1035220.  905902.  790008.]]\n",
      "original_branch_endpoints = [[1033560.  906838.  796115.]\n",
      " [1037250.  906640.  797138.]], concept graph node endpoints = [[1033560.  906838.  796115.]\n",
      " [1037250.  906640.  797138.]]\n",
      "original_branch_endpoints = [[1037250.  906640.  797138.]\n",
      " [1039840.  912350.  857839.]], concept graph node endpoints = [[1037250.  906640.  797138.]\n",
      " [1039840.  912350.  857839.]]\n",
      "original_branch_endpoints = [[1037250.   906640.   797138. ]\n",
      " [1059957.   907104.2  796475.6]], concept graph node endpoints = [[1037250.   906640.   797138. ]\n",
      " [1059957.   907104.2  796475.6]]\n",
      "Local time for concept mapping = 0.1253361701965332\n",
      "Total time for concept mapping = 0.9923286437988281\n",
      "Sizes of dictionaries sent\n",
      "(51, 51)\n",
      "(23, 23)\n",
      "(7, 7)\n",
      "\n",
      "\n",
      " Sizes of concept maps gotten back\n",
      "51\n",
      "23\n",
      "7\n"
     ]
    }
   ],
   "source": [
    "import neuron\n",
    "neuron = reload(neuron)\n",
    "nu = reload(nu)\n",
    "sk = reload(sk)\n",
    "\n",
    "#getting mesh and skeleton dictionaries\n",
    "limb_idx_to_branch_meshes_dict = dict()\n",
    "limb_idx_to_branch_skeletons_dict = dict()\n",
    "for k in limb_correspondence.keys():\n",
    "    limb_idx_to_branch_meshes_dict[k] = [limb_correspondence[k][j][\"branch_mesh\"] for j in limb_correspondence[k].keys()]\n",
    "    limb_idx_to_branch_skeletons_dict[k] = [limb_correspondence[k][j][\"branch_skeleton\"] for j in limb_correspondence[k].keys()]      \n",
    "\n",
    "#getting the soma dictionaries\n",
    "soma_idx_to_mesh_dict = dict()\n",
    "for k,v in enumerate(current_mesh_data[0][\"soma_meshes\"]):\n",
    "    soma_idx_to_mesh_dict[k] = v\n",
    "\n",
    "soma_idx_connectivity = current_mesh_data[0][\"soma_to_piece_connectivity\"]\n",
    "\n",
    "\n",
    "\n",
    "limb_concept_networkx,limb_labels = neuron.generate_limb_concept_networks_from_global_connectivity(\n",
    "    limb_idx_to_branch_meshes_dict = limb_idx_to_branch_meshes_dict,\n",
    "    limb_idx_to_branch_skeletons_dict = limb_idx_to_branch_skeletons_dict,\n",
    "    soma_idx_to_mesh_dict = soma_idx_to_mesh_dict,\n",
    "    soma_idx_connectivity = soma_idx_connectivity,\n",
    "    current_neuron=current_neuron,\n",
    "    return_limb_labels=True\n",
    "    )\n",
    "\n",
    "#Before go and get concept maps:\n",
    "print(\"Sizes of dictionaries sent\")\n",
    "for curr_limb in limb_idx_to_branch_skeletons_dict.keys():\n",
    "    print((len(limb_idx_to_branch_skeletons_dict[curr_limb]),len(limb_idx_to_branch_meshes_dict[curr_limb])))\n",
    "    \n",
    "    \n",
    "print(\"\\n\\n Sizes of concept maps gotten back\")\n",
    "for curr_idx in limb_concept_networkx.keys():\n",
    "    for soma_idx,concept_graph in limb_concept_networkx[curr_idx].items():\n",
    "        print(len(np.unique(list(concept_graph.nodes()))))"
   ]
  },
  {
   "cell_type": "markdown",
   "metadata": {},
   "source": [
    "# the final data that will be ported over to the Neuron class"
   ]
  },
  {
   "cell_type": "code",
   "execution_count": null,
   "metadata": {},
   "outputs": [],
   "source": [
    "current_mesh_data[0]"
   ]
  },
  {
   "cell_type": "code",
   "execution_count": 32,
   "metadata": {},
   "outputs": [
    {
     "name": "stdout",
     "output_type": "stream",
     "text": [
      "# of non soma touching seperate meshes = 4\n",
      "# of inside pieces = 4\n"
     ]
    },
    {
     "data": {
      "text/plain": [
       "'\\nConcept networks for limbs and labels of all limbs\\n'"
      ]
     },
     "execution_count": 32,
     "metadata": {},
     "output_type": "execute_result"
    }
   ],
   "source": [
    "\n",
    "current_neuron\n",
    "\"\"\"\n",
    "whole neuron to be used for other processing\n",
    "\"\"\"\n",
    "\n",
    "# The 0 at the front is to say it is the first seperated mesh containing somas (could be multiple)\n",
    "current_mesh_data[0].keys()\n",
    "\"\"\"\n",
    "soma_meshes\n",
    "soma_to_piece_connectivity\n",
    "\"\"\"\n",
    "\"\"\"\n",
    "limb_correspondence[0][0].keys() --> the exact limb and the exact branch\n",
    "\n",
    "AKA [limb_idx][branch_idx]\n",
    "\n",
    "\"\"\"\n",
    "limb_correspondence[0][0][\"branch_skeleton\"]\n",
    "limb_correspondence[0][0][\"width_from_skeleton\"]\n",
    "limb_correspondence[0][0][\"branch_mesh\"]\n",
    "limb_correspondence[0][0][\"branch_face_idx\"]\n",
    "\n",
    "\n",
    "\n",
    "limb_concept_networkx\n",
    "limb_labels\n",
    "\n",
    "\n",
    "#things that weren't used in classification but still would have knowledge of:\n",
    "insignificant_limbs # the limbs that were filtered away after did soma subtraction because not big enough\n",
    "print(f\"# of non soma touching seperate meshes = {len(non_soma_touching_meshes)}\")# meshes that were seperate from soma mesh\n",
    "print(f\"# of inside pieces = {len(inside_pieces)}\") #inside of the soma meshes\n",
    "\"\"\"\n",
    "Concept networks for limbs and labels of all limbs\n",
    "\"\"\""
   ]
  },
  {
   "cell_type": "markdown",
   "metadata": {},
   "source": [
    "# Application: Practice Turning Into an Object"
   ]
  },
  {
   "cell_type": "code",
   "execution_count": 83,
   "metadata": {
    "scrolled": false
   },
   "outputs": [
    {
     "name": "stdout",
     "output_type": "stream",
     "text": [
      "total_edges = [['S0', 'L0'], ['S0', 'L1'], ['S0', 'L2']]\n"
     ]
    },
    {
     "data": {
      "image/png": "[encoded data removed]",
      "text/plain": [
       "<Figure size 432x288 with 1 Axes>"
      ]
     },
     "metadata": {},
     "output_type": "display_data"
    }
   ],
   "source": [
    "def convert_soma_to_piece_connectivity_to_graph(soma_to_piece_connectivity):\n",
    "    \"\"\"\n",
    "    Pseudocode: \n",
    "    1) Create the edges with the new names from the soma_to_piece_connectivity\n",
    "    2) Create a GraphOrderedEdges from the new edges\n",
    "    \"\"\"\n",
    "    \n",
    "    total_edges = []\n",
    "    for soma_key,list_of_limbs in soma_to_piece_connectivity.items():\n",
    "        total_edges += [[f\"S{soma_key}\",f\"L{curr_limb}\"] for curr_limb in list_of_limbs]\n",
    "    \n",
    "    print(f\"total_edges = {total_edges}\")\n",
    "    concept_graph = xu.GraphOrderedEdges()\n",
    "    concept_graph.add_edges_from(total_edges)\n",
    "    return concept_graph\n"
   ]
  },
  {
   "cell_type": "markdown",
   "metadata": {},
   "source": [
    "# Application: Creating the Neuron Object"
   ]
  },
  {
   "cell_type": "code",
   "execution_count": null,
   "metadata": {},
   "outputs": [],
   "source": [
    "from neuron import *\n",
    "\n",
    "\"\"\"\n",
    "Pseudocode: \n",
    "1) Create Neuron Object (through __init__)\n",
    "a. Add the small non_soma_list_meshes\n",
    "b. Add whole mesh\n",
    "c. Add soma_to_piece_connectivity as concept graph and it will be turned into a concept map\n",
    "\n",
    "2) Creat the soma meshes\n",
    "a. Create soma mesh objects\n",
    "b. Add the soma objects as [\"data\"] attribute of all of the soma nodes\n",
    "\n",
    "3) Limb Process: For each limb (use an index to iterate through limb_correspondence,current_mesh_data and limb_concept_graph/lables) \n",
    "a. Build all the branches from the \n",
    "    - mesh\n",
    "    - skeleton\n",
    "    - width\n",
    "    - branch_face_idx\n",
    "b. Pick the top concept graph (will use to store the nodes)\n",
    "c. Put the branches as \"data\" in the network\n",
    "d. Get all of the starting coordinates and starting edges and put as member attributes in the limb\n",
    "\n",
    "\n",
    "\n",
    "\"\"\""
   ]
  },
  {
   "cell_type": "code",
   "execution_count": null,
   "metadata": {},
   "outputs": [],
   "source": []
  },
  {
   "cell_type": "code",
   "execution_count": null,
   "metadata": {},
   "outputs": [],
   "source": []
  },
  {
   "cell_type": "markdown",
   "metadata": {},
   "source": [
    "# Plotting for visualizataions (used for platinum update report)"
   ]
  },
  {
   "cell_type": "code",
   "execution_count": 33,
   "metadata": {},
   "outputs": [],
   "source": [
    "curr_limb_idx = 2"
   ]
  },
  {
   "cell_type": "code",
   "execution_count": 34,
   "metadata": {},
   "outputs": [
    {
     "data": {
      "application/vnd.jupyter.widget-view+json": {
       "model_id": "5d90bc03e5e548df8913bb97d99a9ca6",
       "version_major": 2,
       "version_minor": 0
      },
      "text/plain": [
       "VBox(children=(Figure(camera=PerspectiveCamera(fov=46.0, position=(0.0, 0.0, 2.0), quaternion=(0.0, 0.0, 0.0, …"
      ]
     },
     "metadata": {},
     "output_type": "display_data"
    }
   ],
   "source": [
    "#plotting the mesh\n",
    "sk = reload(sk)\n",
    "mu = reload(mu)\n",
    "random_colors_used = sk.graph_skeleton_and_mesh(\n",
    "    other_meshes=[v[\"branch_mesh\"] for k,v in limb_correspondence[curr_limb_idx].items() ],\n",
    "                          other_meshes_colors=\"random\",\n",
    "                          other_skeletons=[v[\"branch_skeleton\"] for k,v in limb_correspondence[curr_limb_idx].items() ],\n",
    "                          other_skeletons_colors=\"random\",\n",
    "                            mesh_alpha=0.8,\n",
    "                          return_other_colors=True)\n",
    "random_colors_used_no_alpha = random_colors_used[:,:-1]"
   ]
  },
  {
   "cell_type": "code",
   "execution_count": 35,
   "metadata": {},
   "outputs": [
    {
     "data": {
      "application/vnd.jupyter.widget-view+json": {
       "model_id": "a2453ed823b94e0bb746187128ae4d17",
       "version_major": 2,
       "version_minor": 0
      },
      "text/plain": [
       "VBox(children=(Figure(camera=PerspectiveCamera(fov=46.0, position=(0.0, 0.0, 2.0), quaternion=(0.0, 0.0, 0.0, …"
      ]
     },
     "metadata": {},
     "output_type": "display_data"
    }
   ],
   "source": [
    "#plotting the skeleton\n",
    "sk = reload(sk)\n",
    "mu = reload(mu)\n",
    "sk.graph_skeleton_and_mesh(#other_meshes=total_branch_meshes[:node_to_check_to],\n",
    "                          #other_meshes_colors=\"random\",\n",
    "                          other_skeletons=[v[\"branch_skeleton\"] for k,v in limb_correspondence[curr_limb_idx].items() ],\n",
    "                          other_skeletons_colors=\"random\",\n",
    "                            mesh_alpha=0.05)\n"
   ]
  },
  {
   "cell_type": "code",
   "execution_count": 36,
   "metadata": {},
   "outputs": [
    {
     "data": {
      "text/plain": [
       "'Normal'"
      ]
     },
     "execution_count": 36,
     "metadata": {},
     "output_type": "execute_result"
    }
   ],
   "source": [
    "# get the label:\n",
    "limb_labels[curr_limb_idx]"
   ]
  },
  {
   "cell_type": "code",
   "execution_count": 37,
   "metadata": {},
   "outputs": [
    {
     "data": {
      "text/plain": [
       "{0: {0: <networkx_utils.GraphOrderedEdges at 0x7f66f27c5c88>},\n",
       " 1: {0: <networkx_utils.GraphOrderedEdges at 0x7f66f2f5ed30>},\n",
       " 2: {0: <networkx_utils.GraphOrderedEdges at 0x7f66f312f0f0>}}"
      ]
     },
     "execution_count": 37,
     "metadata": {},
     "output_type": "execute_result"
    }
   ],
   "source": [
    "limb_concept_networkx"
   ]
  },
  {
   "cell_type": "code",
   "execution_count": 38,
   "metadata": {},
   "outputs": [
    {
     "name": "stdout",
     "output_type": "stream",
     "text": [
      "(7, 7)\n"
     ]
    }
   ],
   "source": [
    "for soma_idx,concept_graph in limb_concept_networkx[curr_limb_idx].items():\n",
    "    print((len(np.unique(list(concept_graph.nodes()))),len([v[\"branch_mesh\"] for k,v in limb_correspondence[curr_limb_idx].items() ])))"
   ]
  },
  {
   "cell_type": "code",
   "execution_count": 39,
   "metadata": {},
   "outputs": [
    {
     "name": "stdout",
     "output_type": "stream",
     "text": [
      "Starting from soma index 0 with starting_coordinate and mesh: [[991957. 902000. 793498.]]\n"
     ]
    },
    {
     "data": {
      "image/png": "[encoded data removed]",
      "text/plain": [
       "<Figure size 432x288 with 1 Axes>"
      ]
     },
     "metadata": {},
     "output_type": "display_data"
    },
    {
     "name": "stdout",
     "output_type": "stream",
     "text": [
      "\n",
      "\n",
      "\n"
     ]
    }
   ],
   "source": [
    "import matplotlib.pyplot as plt\n",
    "%matplotlib inline\n",
    "for soma_idx,concept_graph in limb_concept_networkx[curr_limb_idx].items():\n",
    "    print(f\"Starting from soma index {soma_idx} with starting_coordinate and mesh: \"\n",
    "          f\"{xu.get_node_attributes(concept_graph,attribute_name='starting_coordinate')}\")\n",
    "    # plotting the concept network with the same colors\n",
    "    nx.draw(concept_graph,node_color=random_colors_used_no_alpha) \n",
    "    plt.show()\n",
    "    print(\"\\n\\n\")"
   ]
  },
  {
   "cell_type": "code",
   "execution_count": 40,
   "metadata": {},
   "outputs": [
    {
     "data": {
      "application/vnd.jupyter.widget-view+json": {
       "model_id": "16a86560ef804ed08535c3399e0bb6b9",
       "version_major": 2,
       "version_minor": 0
      },
      "text/plain": [
       "VBox(children=(Figure(camera=PerspectiveCamera(fov=46.0, position=(0.0, 0.0, 2.0), quaternion=(0.0, 0.0, 0.0, …"
      ]
     },
     "metadata": {},
     "output_type": "display_data"
    }
   ],
   "source": [
    "# Try plotting the points in 3D: random_colors_used = sk.graph_skeleton_and_mesh(other_meshes=total_branch_meshes[:node_to_check_to],\n",
    "mesh_midpoints =  [np.array([np.mean(k.vertices,axis=0)]) for k in [v[\"branch_mesh\"] for k,v in limb_correspondence[curr_limb_idx].items() ]]\n",
    "for soma_idx,concept_graph in limb_concept_networkx[curr_limb_idx].items():\n",
    "    graph_nodes_skeleton = np.array(mesh_midpoints)[concept_graph.edges_ordered()].reshape(-1,2,3)\n",
    "    [k for k in graph_nodes_skeleton]\n",
    "    random_colors_used[:,-1] = 1\n",
    "\n",
    "\n",
    "    sk.graph_skeleton_and_mesh(other_scatter=mesh_midpoints,\n",
    "                              other_scatter_colors=random_colors_used,\n",
    "                              other_skeletons=graph_nodes_skeleton,\n",
    "                              other_skeletons_colors=\"black\",\n",
    "                                                   scatter_size=3)\n",
    "\n"
   ]
  },
  {
   "cell_type": "code",
   "execution_count": 41,
   "metadata": {},
   "outputs": [
    {
     "data": {
      "application/vnd.jupyter.widget-view+json": {
       "model_id": "ccf59d8a533b4d058911e508cc691879",
       "version_major": 2,
       "version_minor": 0
      },
      "text/plain": [
       "VBox(children=(Figure(camera=PerspectiveCamera(fov=46.0, position=(0.0, 0.0, 2.0), quaternion=(0.0, 0.0, 0.0, …"
      ]
     },
     "metadata": {},
     "output_type": "display_data"
    }
   ],
   "source": [
    "\n",
    "\n",
    "    \n",
    "# Try plotting the points in 3D: random_colors_used = sk.graph_skeleton_and_mesh(other_meshes=total_branch_meshes[:node_to_check_to],\n",
    "mesh_midpoints =  [np.array([np.mean(k.vertices,axis=0)]) for k in [v[\"branch_mesh\"] for k,v in limb_correspondence[curr_limb_idx].items() ]]\n",
    "for soma_idx,concept_graph in limb_concept_networkx[curr_limb_idx].items():\n",
    "    graph_nodes_skeleton = np.array(mesh_midpoints)[concept_graph.edges_ordered()].reshape(-1,2,3)\n",
    "    [k for k in graph_nodes_skeleton]\n",
    "    random_colors_used[:,-1] = 1\n",
    "\n",
    "\n",
    "    sk.graph_skeleton_and_mesh(\n",
    "        other_meshes=[v[\"branch_mesh\"] for k,v in limb_correspondence[curr_limb_idx].items() ],\n",
    "                          other_meshes_colors=\"random\",other_scatter=mesh_midpoints,\n",
    "                              other_scatter_colors=random_colors_used,\n",
    "                              other_skeletons=graph_nodes_skeleton,\n",
    "                              other_skeletons_colors=\"black\",\n",
    "                                                   scatter_size=1)"
   ]
  },
  {
   "cell_type": "markdown",
   "metadata": {},
   "source": [
    "# Will look at everything with soma"
   ]
  },
  {
   "cell_type": "code",
   "execution_count": 47,
   "metadata": {},
   "outputs": [
    {
     "data": {
      "text/plain": [
       "<trimesh.Trimesh(vertices.shape=(11064, 3), faces.shape=(21944, 3))>"
      ]
     },
     "execution_count": 47,
     "metadata": {},
     "output_type": "execute_result"
    }
   ],
   "source": [
    "#list(itertools.chain([[1,4,5],[4,5,6]]))"
   ]
  },
  {
   "cell_type": "code",
   "execution_count": 160,
   "metadata": {
    "scrolled": true
   },
   "outputs": [
    {
     "name": "stderr",
     "output_type": "stream",
     "text": [
      "/usr/local/lib/python3.6/dist-packages/traittypes/traittypes.py:101: UserWarning: Given trait value dtype \"float64\" does not match required type \"float64\". A coerced copy has been created.\n",
      "  np.dtype(self.dtype).name))\n"
     ]
    },
    {
     "data": {
      "application/vnd.jupyter.widget-view+json": {
       "model_id": "c1ec0a40069a4277973cf4d5bf3e3e28",
       "version_major": 2,
       "version_minor": 0
      },
      "text/plain": [
       "VBox(children=(Figure(camera=PerspectiveCamera(fov=46.0, position=(0.0, 0.0, 2.0), quaternion=(0.0, 0.0, 0.0, …"
      ]
     },
     "metadata": {},
     "output_type": "display_data"
    }
   ],
   "source": [
    "all_branch_meshes = list(itertools.chain.from_iterable([[v[\"branch_mesh\"] for k,v in limb_correspondence[curr_limb_idx].items()] for curr_limb_idx in limb_correspondence.keys() ]))\n",
    "#plotting the mesh\n",
    "soma_meshes_comb = tu.combine_meshes(current_mesh_data[0][\"soma_meshes\"])\n",
    "random_colors_used = sk.graph_skeleton_and_mesh(\n",
    "    main_mesh_verts=soma_meshes_comb.vertices,\n",
    "    main_mesh_faces=soma_meshes_comb.faces,\n",
    "    main_mesh_color=\"red\",\n",
    "    other_meshes=all_branch_meshes,\n",
    "    other_meshes_colors=\"random\",\n",
    "    other_skeletons=list(itertools.chain.from_iterable([[v[\"branch_skeleton\"] for k,v in limb_correspondence[curr_limb_idx].items()] for curr_limb_idx in limb_correspondence.keys() ])),\n",
    "    other_skeletons_colors=\"random\",\n",
    "    mesh_alpha=0.2,\n",
    "    return_other_colors=True,\n",
    "    html_path=f\"./visualizations/{segment_id}_small_interneuron_mesh_skeleton.html\")\n",
    "random_colors_used_no_alpha = random_colors_used[:,:-1]"
   ]
  },
  {
   "cell_type": "markdown",
   "metadata": {},
   "source": [
    "# graph all of the concept map"
   ]
  },
  {
   "cell_type": "code",
   "execution_count": 162,
   "metadata": {},
   "outputs": [
    {
     "data": {
      "application/vnd.jupyter.widget-view+json": {
       "model_id": "cf54777bb8944b04aa051d5acfb90870",
       "version_major": 2,
       "version_minor": 0
      },
      "text/plain": [
       "VBox(children=(Figure(camera=PerspectiveCamera(fov=46.0, position=(0.0, 0.0, 2.0), quaternion=(0.0, 0.0, 0.0, …"
      ]
     },
     "metadata": {},
     "output_type": "display_data"
    }
   ],
   "source": [
    "# Try plotting the points in 3D: random_colors_used = sk.graph_skeleton_and_mesh(other_meshes=total_branch_meshes[:node_to_check_to],\n",
    "total_graph_nodes_skeletons = []\n",
    "total_mesh_midpoints = []\n",
    "for curr_limb_idx in limb_concept_networkx.keys():\n",
    "    mesh_midpoints =  [np.array([np.mean(k.vertices,axis=0)]) for k in [v[\"branch_mesh\"] for k,v in limb_correspondence[curr_limb_idx].items() ]]\n",
    "    total_mesh_midpoints.append(mesh_midpoints)\n",
    "    for soma_idx,concept_graph in limb_concept_networkx[curr_limb_idx].items():\n",
    "        graph_nodes_skeleton = np.array(mesh_midpoints)[concept_graph.edges_ordered()].reshape(-1,2,3)\n",
    "        total_graph_nodes_skeletons.append(graph_nodes_skeleton)\n",
    "        break\n",
    "random_colors_used_copy = random_colors_used.copy()\n",
    "random_colors_used[:,-1] = 1\n",
    "\n",
    "total_mesh_midpoints = list(itertools.chain.from_iterable(total_mesh_midpoints))\n",
    "#total_graph_nodes_skeletons = sk.stack_skeletons(total_graph_nodes_skeletons)\n",
    "\n",
    "sk.graph_skeleton_and_mesh(\n",
    "    main_mesh_verts=soma_meshes_comb.vertices,\n",
    "    main_mesh_faces=soma_meshes_comb.faces,\n",
    "    main_mesh_color=\"red\",\n",
    "#     other_meshes=all_branch_meshes,\n",
    "#     other_meshes_colors=random_colors_used_copy,\n",
    "    other_scatter=total_mesh_midpoints,\n",
    "    other_scatter_colors=random_colors_used,\n",
    "    other_skeletons=total_graph_nodes_skeletons,\n",
    "    other_skeletons_colors=\"random\",\n",
    "    scatter_size=1,\n",
    "    html_path=f\"./visualizations/{segment_id}_small_interneuron_mesh_concept_graph.html\")"
   ]
  },
  {
   "cell_type": "code",
   "execution_count": null,
   "metadata": {},
   "outputs": [],
   "source": []
  }
 ],
 "metadata": {
  "kernelspec": {
   "display_name": "Python 3",
   "language": "python",
   "name": "python3"
  },
  "language_info": {
   "codemirror_mode": {
    "name": "ipython",
    "version": 3
   },
   "file_extension": ".py",
   "mimetype": "text/x-python",
   "name": "python",
   "nbconvert_exporter": "python",
   "pygments_lexer": "ipython3",
   "version": "3.6.9"
  }
 },
 "nbformat": 4,
 "nbformat_minor": 4
}
