{
 "cells": [
  {
   "cell_type": "code",
   "execution_count": null,
   "metadata": {},
   "outputs": [],
   "source": [
    "\"\"\"\n",
    "To visualize the inhibitory or excitatory neurons \n",
    "just from the meshes\n",
    "\n",
    "\"\"\""
   ]
  },
  {
   "cell_type": "code",
   "execution_count": 1,
   "metadata": {},
   "outputs": [],
   "source": [
    "from os import sys\n",
    "sys.path.append(\"/meshAfterParty/\")"
   ]
  },
  {
   "cell_type": "code",
   "execution_count": 2,
   "metadata": {},
   "outputs": [
    {
     "name": "stderr",
     "output_type": "stream",
     "text": [
      "WARNING:root:Need to pip install annotationframeworkclient to repair mesh with pychunkedgraph\n",
      "WARNING:root:Need to pip install annotationframeworkclient to use dataset_name parameters\n"
     ]
    }
   ],
   "source": [
    "import trimesh_utils as tu\n",
    "import neuron_visualizations as nviz"
   ]
  },
  {
   "cell_type": "code",
   "execution_count": 3,
   "metadata": {},
   "outputs": [],
   "source": [
    "nviz.plot_objects?"
   ]
  },
  {
   "cell_type": "code",
   "execution_count": 4,
   "metadata": {},
   "outputs": [],
   "source": [
    "import ipyvolume as ipv\n",
    "def visuzlize_mesh_file(mesh_file,\n",
    "                        axis_box_off=False,\n",
    "                        elevation=None,azimuth=None):\n",
    "    #import the mesh\n",
    "    curr_mesh = tu.load_mesh_no_processing(mesh_file)\n",
    "    #visualize the mesh\n",
    "    nviz.plot_objects(meshes=curr_mesh,\n",
    "                     meshes_colors=[[0,1,0,1]],\n",
    "                     axis_box_off=False,\n",
    "                     show_at_end=False)\n",
    "    \n",
    "    #ipv.view(0, 179, 2)\n",
    "    ipv.show()\n",
    "    return curr_mesh"
   ]
  },
  {
   "cell_type": "code",
   "execution_count": 5,
   "metadata": {},
   "outputs": [
    {
     "data": {
      "text/plain": [
       "[PosixPath('97338459408083949_inhibitory_9.off'),\n",
       " PosixPath('90725377802114822_inhibitory_7.off'),\n",
       " PosixPath('98253734185848323_inhibitory_4.off'),\n",
       " PosixPath('96918240344827455_inhibitory_5.off'),\n",
       " PosixPath('91076260457105133_inhibitory_1.off'),\n",
       " PosixPath('96635940332067691_inhibitory_3.off'),\n",
       " PosixPath('94807590202431271_inhibitory_6.off'),\n",
       " PosixPath('95863464559589949_inhibitory_8.off'),\n",
       " PosixPath('94947778404616212_inhibitory_0.off'),\n",
       " PosixPath('100224677766544793_inhibitory_2.off')]"
      ]
     },
     "execution_count": 5,
     "metadata": {},
     "output_type": "execute_result"
    }
   ],
   "source": [
    "from pathlib import Path\n",
    "neuron_files = list(Path(\"./\").iterdir())\n",
    "inhib_files = [k for k in neuron_files if \"_inhibitory_\" in str(k)]\n",
    "excit_files = [k for k in neuron_files if \"_excitatory_\" in str(k)]\n",
    "\n",
    "inhib_files"
   ]
  },
  {
   "cell_type": "code",
   "execution_count": 6,
   "metadata": {},
   "outputs": [
    {
     "name": "stderr",
     "output_type": "stream",
     "text": [
      "/usr/local/lib/python3.6/dist-packages/traittypes/traittypes.py:101: UserWarning: Given trait value dtype \"float64\" does not match required type \"float64\". A coerced copy has been created.\n",
      "  np.dtype(self.dtype).name))\n"
     ]
    },
    {
     "data": {
      "application/vnd.jupyter.widget-view+json": {
       "model_id": "1ee7063a43134a04a77ef984c32fcee4",
       "version_major": 2,
       "version_minor": 0
      },
      "text/plain": [
       "VBox(children=(Figure(camera=PerspectiveCamera(fov=46.0, position=(0.0, 0.0, 2.0), quaternion=(0.0, 0.0, 0.0, …"
      ]
     },
     "metadata": {},
     "output_type": "display_data"
    },
    {
     "data": {
      "text/plain": [
       "<trimesh.Trimesh(vertices.shape=(93464, 3), faces.shape=(186754, 3))>"
      ]
     },
     "execution_count": 6,
     "metadata": {},
     "output_type": "execute_result"
    }
   ],
   "source": [
    "visuzlize_mesh_file(inhib_files[0])"
   ]
  },
  {
   "cell_type": "code",
   "execution_count": 7,
   "metadata": {},
   "outputs": [
    {
     "data": {
      "application/vnd.jupyter.widget-view+json": {
       "model_id": "4eb076529daf43beb180ff95a212e9f1",
       "version_major": 2,
       "version_minor": 0
      },
      "text/plain": [
       "VBox(children=(Figure(camera=PerspectiveCamera(fov=46.0, position=(0.0, 0.0, 2.0), quaternion=(0.0, 0.0, 0.0, …"
      ]
     },
     "metadata": {},
     "output_type": "display_data"
    },
    {
     "data": {
      "text/plain": [
       "<trimesh.Trimesh(vertices.shape=(60296, 3), faces.shape=(120520, 3))>"
      ]
     },
     "execution_count": 7,
     "metadata": {},
     "output_type": "execute_result"
    }
   ],
   "source": [
    "visuzlize_mesh_file(inhib_files[1])"
   ]
  },
  {
   "cell_type": "code",
   "execution_count": null,
   "metadata": {},
   "outputs": [],
   "source": [
    "curr_file = inhib_files[-1]\n",
    "print(curr_file)"
   ]
  },
  {
   "cell_type": "code",
   "execution_count": null,
   "metadata": {},
   "outputs": [],
   "source": [
    "visuzlize_mesh_file(curr_file)"
   ]
  },
  {
   "cell_type": "code",
   "execution_count": null,
   "metadata": {},
   "outputs": [],
   "source": [
    "import ipyvolume as ipv"
   ]
  },
  {
   "cell_type": "code",
   "execution_count": null,
   "metadata": {},
   "outputs": [],
   "source": [
    "import neuron_utils as nru"
   ]
  },
  {
   "cell_type": "code",
   "execution_count": null,
   "metadata": {},
   "outputs": [],
   "source": [
    "current_neuron = nru.decompress_neuron(filepath=\"./excitatory_meshafterparty/89309550087617165_excitatory_5_meshafterparty.pbz2\",\n",
    "                     original_mesh=\"./89309550087617165_excitatory_5.off\")"
   ]
  },
  {
   "cell_type": "code",
   "execution_count": null,
   "metadata": {},
   "outputs": [],
   "source": []
  }
 ],
 "metadata": {
  "kernelspec": {
   "display_name": "Python 3",
   "language": "python",
   "name": "python3"
  },
  "language_info": {
   "codemirror_mode": {
    "name": "ipython",
    "version": 3
   },
   "file_extension": ".py",
   "mimetype": "text/x-python",
   "name": "python",
   "nbconvert_exporter": "python",
   "pygments_lexer": "ipython3",
   "version": "3.6.9"
  }
 },
 "nbformat": 4,
 "nbformat_minor": 4
}
