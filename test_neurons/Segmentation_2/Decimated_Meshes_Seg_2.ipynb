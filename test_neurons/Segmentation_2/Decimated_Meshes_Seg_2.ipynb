{
 "cells": [
  {
   "cell_type": "markdown",
   "metadata": {},
   "source": [
    "# Modules for Datajoint"
   ]
  },
  {
   "cell_type": "code",
   "execution_count": 1,
   "metadata": {},
   "outputs": [
    {
     "name": "stdout",
     "output_type": "stream",
     "text": [
      "Connecting celiib@at-database.ad.bcm.edu:3306\n"
     ]
    },
    {
     "name": "stderr",
     "output_type": "stream",
     "text": [
      "WARNING:root:Need to pip install annotationframeworkclient to repair mesh with pychunkedgraph\n",
      "WARNING:root:Need to pip install annotationframeworkclient to use dataset_name parameters\n"
     ]
    }
   ],
   "source": [
    "import numpy as np\n",
    "import datajoint as dj\n",
    "import trimesh\n",
    "from tqdm.notebook import tqdm\n",
    "from pathlib import Path\n",
    "\n",
    "from os import sys\n",
    "sys.path.append(\"/meshAfterParty/\")\n",
    "\n",
    "import datajoint_utils as du\n",
    "from importlib import reload"
   ]
  },
  {
   "cell_type": "code",
   "execution_count": 2,
   "metadata": {},
   "outputs": [
    {
     "name": "stdout",
     "output_type": "stream",
     "text": [
      "Current path for external_segmentation_path = /mnt/dj-stor01/platinum/minnie65/02\n",
      "Current path for external_mesh_path = /mnt/dj-stor01/platinum/minnie65/02/meshes\n",
      "Current path for external_decimated_mesh_path = /mnt/dj-stor01/platinum/minnie65/02/decimated_meshes\n",
      "Current path for external_skeleton_path = /mnt/dj-stor01/platinum/minnie65/02/skeletons\n"
     ]
    }
   ],
   "source": [
    "import minfig\n",
    "du.set_minnie65_config_segmentation(minfig)\n",
    "du.print_minnie65_config_paths(minfig)"
   ]
  },
  {
   "cell_type": "code",
   "execution_count": 3,
   "metadata": {},
   "outputs": [
    {
     "name": "stderr",
     "output_type": "stream",
     "text": [
      "INFO:datajoint.settings:Setting enable_python_native_blobs to True\n",
      "INFO:datajoint.settings:Setting enable_python_native_blobs to True\n"
     ]
    }
   ],
   "source": [
    "minnie = minfig.configure_minnie(return_virtual_module=True)\n",
    "\n",
    "# Old way of getting access to the virtual modules\n",
    "# m65 = dj.create_virtual_module('minnie', 'microns_minnie65_02')\n",
    "\n",
    "#New way of getting access to module\n",
    "import datajoint as dj\n",
    "from minfig import adapter_objects # included with wildcard imports\n",
    "minnie = dj.create_virtual_module('minnie', 'microns_minnie65_02', add_objects=adapter_objects)\n",
    "\n",
    "schema = dj.schema(\"microns_minnie65_02\")\n",
    "dj.config[\"enable_python_native_blobs\"] = True\n",
    "#(schema.jobs & \"table_name='__baylor_segment_centroid_seg3'\").delete()"
   ]
  },
  {
   "cell_type": "code",
   "execution_count": null,
   "metadata": {},
   "outputs": [],
   "source": [
    "decimation_version = 0\n",
    "decimation_ratio = 0.25\n",
    "\n",
    "segments = (minnie.Mesh() & f'n_vertices  > {np.str(np.round(np.exp(12)).astype(np.int))}' & f'n_vertices  < {np.str(np.round(np.exp(15)).astype(np.int))}')\n",
    "key_source =  minnie.Decimation.proj(decimation_version='version') & segments.proj() & \"decimation_version=\" + str(decimation_version)\n",
    "key_source  "
   ]
  },
  {
   "cell_type": "markdown",
   "metadata": {},
   "source": [
    "# The tables that should be used for pulling meshes"
   ]
  },
  {
   "cell_type": "code",
   "execution_count": 4,
   "metadata": {},
   "outputs": [
    {
     "data": {
      "text/html": [
       "\n",
       "        \n",
       "        <style type=\"text/css\">\n",
       "            .Relation{\n",
       "                border-collapse:collapse;\n",
       "            }\n",
       "            .Relation th{\n",
       "                background: #A0A0A0; color: #ffffff; padding:4px; border:#f0e0e0 1px solid;\n",
       "                font-weight: normal; font-family: monospace; font-size: 100%;\n",
       "            }\n",
       "            .Relation td{\n",
       "                padding:4px; border:#f0e0e0 1px solid; font-size:100%;\n",
       "            }\n",
       "            .Relation tr:nth-child(odd){\n",
       "                background: #ffffff;\n",
       "            }\n",
       "            .Relation tr:nth-child(even){\n",
       "                background: #f3f1ff;\n",
       "            }\n",
       "            /* Tooltip container */\n",
       "            .djtooltip {\n",
       "            }\n",
       "            /* Tooltip text */\n",
       "            .djtooltip .djtooltiptext {\n",
       "                visibility: hidden;\n",
       "                width: 120px;\n",
       "                background-color: black;\n",
       "                color: #fff;\n",
       "                text-align: center;\n",
       "                padding: 5px 0;\n",
       "                border-radius: 6px;\n",
       "                /* Position the tooltip text - see examples below! */\n",
       "                position: absolute;\n",
       "                z-index: 1;\n",
       "            }\n",
       "            #primary {\n",
       "                font-weight: bold;\n",
       "                color: black;\n",
       "            }\n",
       "\n",
       "            #nonprimary {\n",
       "                font-weight: normal;\n",
       "                color: white;\n",
       "            }\n",
       "\n",
       "            /* Show the tooltip text when you mouse over the tooltip container */\n",
       "            .djtooltip:hover .djtooltiptext {\n",
       "                visibility: visible;\n",
       "            }\n",
       "        </style>\n",
       "        \n",
       "        \n",
       "            <div style=\"max-height:1000px;max-width:1500px;overflow:auto;\">\n",
       "            <table border=\"1\" class=\"Relation\">\n",
       "                <thead> <tr style=\"text-align: right;\"> <th> <div class=\"djtooltip\">\n",
       "                                <p id=\"primary\">segment_id</p>\n",
       "                                <span class=\"djtooltiptext\">segment id unique within each Segmentation</span>\n",
       "                            </div></th><th><div class=\"djtooltip\">\n",
       "                                <p id=\"primary\">decimation_version</p>\n",
       "                                <span class=\"djtooltiptext\"></span>\n",
       "                            </div></th><th><div class=\"djtooltip\">\n",
       "                                <p id=\"primary\">decimation_ratio</p>\n",
       "                                <span class=\"djtooltiptext\">ratio of remaining mesh vertices/faces (which ones depends on what metric the decimation technique uses)</span>\n",
       "                            </div> </th> </tr> </thead>\n",
       "                <tbody> <tr> <td>864691135635239593</td>\n",
       "<td>0</td>\n",
       "<td>0.25</td></tr><tr><td>864691135618175635</td>\n",
       "<td>0</td>\n",
       "<td>0.25</td></tr><tr><td>864691135584809548</td>\n",
       "<td>0</td>\n",
       "<td>0.25</td></tr><tr><td>864691135679304325</td>\n",
       "<td>0</td>\n",
       "<td>0.25</td></tr><tr><td>864691136143741847</td>\n",
       "<td>0</td>\n",
       "<td>0.25</td></tr><tr><td>864691136148842647</td>\n",
       "<td>0</td>\n",
       "<td>0.25</td></tr><tr><td>864691136143284631</td>\n",
       "<td>0</td>\n",
       "<td>0.25</td></tr><tr><td>864691136745551332</td>\n",
       "<td>0</td>\n",
       "<td>0.25</td></tr><tr><td>864691136315868311</td>\n",
       "<td>0</td>\n",
       "<td>0.25</td></tr><tr><td>864691136324529047</td>\n",
       "<td>0</td>\n",
       "<td>0.25</td></tr><tr><td>864691136292100759</td>\n",
       "<td>0</td>\n",
       "<td>0.25</td></tr><tr><td>864691136745398500</td>\n",
       "<td>0</td>\n",
       "<td>0.25</td> </tr> </tbody>\n",
       "            </table>\n",
       "            <p>...</p>\n",
       "            <p>Total: 13129</p></div>\n",
       "            "
      ],
      "text/plain": [
       "*segment_id    *decimation_ve *decimation_ra\n",
       "+------------+ +------------+ +------------+\n",
       "86469113563523 0              0.25          \n",
       "86469113561817 0              0.25          \n",
       "86469113558480 0              0.25          \n",
       "86469113567930 0              0.25          \n",
       "86469113614374 0              0.25          \n",
       "86469113614884 0              0.25          \n",
       "86469113614328 0              0.25          \n",
       "86469113674555 0              0.25          \n",
       "86469113631586 0              0.25          \n",
       "86469113632452 0              0.25          \n",
       "86469113629210 0              0.25          \n",
       "86469113674539 0              0.25          \n",
       "   ...\n",
       " (Total: 13129)"
      ]
     },
     "execution_count": 4,
     "metadata": {},
     "output_type": "execute_result"
    }
   ],
   "source": [
    "decimation_ratio = 0.25\n",
    "decimation_version = 0\n",
    "\n",
    "valid_segment_ids_with_nucleus_id = dj.U(\"segment_id\") & (minnie.NucleusID() & \"segment_id>0\")\n",
    "segments = (minnie.Mesh())# & f'n_vertices  > {np.str(np.round(np.exp(12)).astype(np.int))}' & f'n_vertices  < {np.str(np.round(np.exp(15)).astype(np.int))}')\n",
    "key_source =  (minnie.Decimation.proj(decimation_version='version') \n",
    "            & segments.proj() \n",
    "            & f\"decimation_ratio={decimation_ratio}\" \n",
    "            & f\"decimation_version={decimation_version}\" \n",
    "            & valid_segment_ids_with_nucleus_id)\n",
    "key_source"
   ]
  },
  {
   "cell_type": "code",
   "execution_count": 5,
   "metadata": {},
   "outputs": [],
   "source": [
    "def nucleus_id_to_seg_id(nucleus_id):\n",
    "    \"\"\"\n",
    "    Pseudocode:\n",
    "    1) restrict the nucleus id table\n",
    "    2) fetch for the segment id\n",
    "    \"\"\"\n",
    "    nucl_key = dict(nucleus_id=nucleus_id)\n",
    "    nucl_seg_id = (minnie.NucleusID()  & nucl_key).fetch1(\"segment_id\")\n",
    "    if nucl_seg_id == 0:\n",
    "        raise Exception(f\"No segment id for nucleus Id {nucleus_id}\")\n",
    "    return nucl_seg_id\n",
    "    \n",
    "import trimesh\n",
    "def fetch_segment_id_mesh(seg_id,decimation_ratio=0.25):\n",
    "    key = dict(segment_id=seg_id,decimation_ratio=decimation_ratio)\n",
    "    new_mesh = (minnie.Decimation() & key).fetch1(\"mesh\")\n",
    "    current_mesh_verts,current_mesh_faces = new_mesh.vertices,new_mesh.faces\n",
    "    return trimesh.Trimesh(vertices=current_mesh_verts,faces=current_mesh_faces)\n",
    "\n",
    "def fetch_undecimated_segment_id_mesh(seg_id,decimation_ratio=0.25):\n",
    "    key = dict(segment_id=seg_id,decimation_ratio=decimation_ratio)\n",
    "    new_mesh = (minnie.Mesh() & key).fetch1(\"mesh\")\n",
    "    current_mesh_verts,current_mesh_faces = new_mesh.vertices,new_mesh.faces\n",
    "    return trimesh.Trimesh(vertices=current_mesh_verts,faces=current_mesh_faces)\n",
    "\n",
    "\n",
    "def fetch_nucleus_id_mesh(nucleus_id,verbose=False):\n",
    "    seg_id = nucleus_id_to_seg_id(nucleus_id)\n",
    "    print(f\"Attempting to fetch segment_id: {seg_id}\")\n",
    "    return fetch_segment_id_mesh(seg_id)"
   ]
  },
  {
   "cell_type": "code",
   "execution_count": 6,
   "metadata": {},
   "outputs": [],
   "source": [
    "n_verts,seg_ids = (segments & key_source & \"n_vertices > 3000000\").fetch(\"n_vertices\",\"segment_id\")"
   ]
  },
  {
   "cell_type": "code",
   "execution_count": 15,
   "metadata": {},
   "outputs": [
    {
     "data": {
      "text/plain": [
       "array([118, 189,  49, 119,  56,  73,   0, 190,  68,  34,  31, 168, 169,\n",
       "        18, 193, 192,  82, 128, 174,  19,  74,  36,  54, 144, 143,  88,\n",
       "       147,  89, 177,  84,  93,  32,  85,  64,  55, 116,  14, 138, 158,\n",
       "        24, 126,  76, 164, 145, 178,  66,  58,  46,  92,  77,  12,  48,\n",
       "        29, 150, 187, 170,   4,   2,   7,  97,   3,  42, 176, 173, 160,\n",
       "       182, 156,  86, 100, 149,   1, 157, 132,  50, 101, 115,  78, 111,\n",
       "       163,  94,  45,  11, 108,  33, 151,  75,   9,   5, 124,  69,  43,\n",
       "       186,  53, 142, 107,  65,  57, 134, 165, 175,  83, 188, 159,  63,\n",
       "        10, 131, 123, 161, 125,  13,  23,  62,  21, 127,  61, 162, 153,\n",
       "       104,  20, 152,  40, 130,   6,  17,  35,  52, 129, 133, 148, 135,\n",
       "       109, 146,  59,  95, 121,  90, 139, 106, 171,  87,  60, 180, 122,\n",
       "        96,  51,  79,  15,  37, 103, 102, 185, 191, 172, 155,  44, 184,\n",
       "        80, 113,  81, 167, 112,  38, 105, 166,  25,   8,  67,  70,  72,\n",
       "        99,  26, 120, 137,  16, 114,  30,  47,  71, 117,  91,  27,  22,\n",
       "       141, 110, 183,  39, 140,  28, 136, 181, 179,  98, 154,  41])"
      ]
     },
     "execution_count": 15,
     "metadata": {},
     "output_type": "execute_result"
    }
   ],
   "source": [
    "sorted_indexes = np.argsort(n_verts)\n",
    "sorted_indexes"
   ]
  },
  {
   "cell_type": "code",
   "execution_count": 9,
   "metadata": {},
   "outputs": [
    {
     "data": {
      "text/plain": [
       "41"
      ]
     },
     "execution_count": 9,
     "metadata": {},
     "output_type": "execute_result"
    }
   ],
   "source": [
    "np.argmax(n_verts)"
   ]
  },
  {
   "cell_type": "code",
   "execution_count": 10,
   "metadata": {},
   "outputs": [
    {
     "data": {
      "text/plain": [
       "864691135579649476"
      ]
     },
     "execution_count": 10,
     "metadata": {},
     "output_type": "execute_result"
    }
   ],
   "source": [
    "seg_ids[41]"
   ]
  },
  {
   "cell_type": "code",
   "execution_count": 13,
   "metadata": {},
   "outputs": [
    {
     "data": {
      "text/plain": [
       "'864691135579649476_large_axon_cloud_2.off'"
      ]
     },
     "execution_count": 13,
     "metadata": {},
     "output_type": "execute_result"
    }
   ],
   "source": [
    "import trimesh_utils as tu\n"
   ]
  },
  {
   "cell_type": "code",
   "execution_count": 32,
   "metadata": {},
   "outputs": [
    {
     "name": "stdout",
     "output_type": "stream",
     "text": [
      "curr_segment_id = 864691135388633842\n"
     ]
    },
    {
     "name": "stderr",
     "output_type": "stream",
     "text": [
      "/usr/local/lib/python3.6/dist-packages/traittypes/traittypes.py:101: UserWarning: Given trait value dtype \"float64\" does not match required type \"float64\". A coerced copy has been created.\n",
      "  np.dtype(self.dtype).name))\n"
     ]
    },
    {
     "data": {
      "application/vnd.jupyter.widget-view+json": {
       "model_id": "12a4e8431e6942a1b5e77dcd2b911ebd",
       "version_major": 2,
       "version_minor": 0
      },
      "text/plain": [
       "VBox(children=(Figure(camera=PerspectiveCamera(fov=46.0, position=(0.0, 0.0, 2.0), quaternion=(0.0, 0.0, 0.0, …"
      ]
     },
     "metadata": {},
     "output_type": "display_data"
    }
   ],
   "source": [
    "curr_segment_id = seg_ids[sorted_indexes[-7]]\n",
    "print(f\"curr_segment_id = {curr_segment_id}\")\n",
    "new_lrg_mesh = fetch_segment_id_mesh(curr_segment_id)\n",
    "nviz.plot_objects(new_lrg_mesh)"
   ]
  },
  {
   "cell_type": "code",
   "execution_count": 33,
   "metadata": {},
   "outputs": [],
   "source": [
    "description = \"large_upward_apical\""
   ]
  },
  {
   "cell_type": "code",
   "execution_count": 34,
   "metadata": {},
   "outputs": [
    {
     "data": {
      "text/plain": [
       "'864691135388633842_large_upward_apical.off'"
      ]
     },
     "execution_count": 34,
     "metadata": {},
     "output_type": "execute_result"
    }
   ],
   "source": [
    "tu.write_neuron_off(new_lrg_mesh,f\"{curr_segment_id}_{description}\")"
   ]
  },
  {
   "cell_type": "code",
   "execution_count": 8,
   "metadata": {},
   "outputs": [],
   "source": [
    "from os import sys\n",
    "import neuron_visualizations as nviz"
   ]
  },
  {
   "cell_type": "markdown",
   "metadata": {},
   "source": [
    "# Viewing the Neurons"
   ]
  },
  {
   "cell_type": "code",
   "execution_count": null,
   "metadata": {},
   "outputs": [],
   "source": [
    "curr_seg_id = seg_ids[7]\n",
    "print(curr_seg_id)"
   ]
  },
  {
   "cell_type": "code",
   "execution_count": null,
   "metadata": {},
   "outputs": [],
   "source": [
    "new_mesh = fetch_segment_id_mesh(curr_seg_id)\n",
    "new_mesh"
   ]
  },
  {
   "cell_type": "code",
   "execution_count": null,
   "metadata": {},
   "outputs": [],
   "source": [
    "nviz.plot_objects(meshes=new_mesh)"
   ]
  },
  {
   "cell_type": "code",
   "execution_count": null,
   "metadata": {},
   "outputs": [],
   "source": [
    "curr_seg_id"
   ]
  },
  {
   "cell_type": "code",
   "execution_count": null,
   "metadata": {},
   "outputs": [],
   "source": [
    "# import trimesh_utils as tu\n",
    "# tu.write_neuron_off(new_mesh,\"864691135548568516_single_soma_inhib_axon_cloud.off\")"
   ]
  },
  {
   "cell_type": "code",
   "execution_count": null,
   "metadata": {},
   "outputs": [],
   "source": [
    "single_soma_excitatory_large_axon = [864691135419631858]\n",
    "single_soma_excitatory_large_axon_with_merges = [864691135577756100]\n",
    "single_soma_inhibitory_large_axon = [864691136265012708]\n",
    "double_soma_large_axon = [864691135382617330]\n",
    "triple_soma_with_lots_axon = [864691136819525998]\n",
    "single_soma_inhib_axon_cloud = [864691135548568516]\n",
    "lots_of_error = [864691135707063188] #probably has a blood vessel"
   ]
  }
 ],
 "metadata": {
  "kernelspec": {
   "display_name": "Python 3",
   "language": "python",
   "name": "python3"
  },
  "language_info": {
   "codemirror_mode": {
    "name": "ipython",
    "version": 3
   },
   "file_extension": ".py",
   "mimetype": "text/x-python",
   "name": "python",
   "nbconvert_exporter": "python",
   "pygments_lexer": "ipython3",
   "version": "3.6.9"
  }
 },
 "nbformat": 4,
 "nbformat_minor": 4
}
