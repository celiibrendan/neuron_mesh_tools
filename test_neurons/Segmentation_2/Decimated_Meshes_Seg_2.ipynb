{
 "cells": [
  {
   "cell_type": "markdown",
   "metadata": {},
   "source": [
    "# Modules for Datajoint"
   ]
  },
  {
   "cell_type": "code",
   "execution_count": 3,
   "metadata": {},
   "outputs": [
    {
     "name": "stdout",
     "output_type": "stream",
     "text": [
      "Connecting celiib@at-database.ad.bcm.edu:3306\n"
     ]
    },
    {
     "name": "stderr",
     "output_type": "stream",
     "text": [
      "WARNING:root:Need to pip install annotationframeworkclient to repair mesh with pychunkedgraph\n",
      "WARNING:root:Need to pip install annotationframeworkclient to use dataset_name parameters\n"
     ]
    }
   ],
   "source": [
    "import numpy as np\n",
    "import datajoint as dj\n",
    "import trimesh\n",
    "from tqdm.notebook import tqdm\n",
    "from pathlib import Path\n",
    "\n",
    "from os import sys\n",
    "sys.path.append(\"/notebooks/meshAfterParty/meshAfterParty/\")\n",
    "\n",
    "import datajoint_utils as du\n",
    "from importlib import reload"
   ]
  },
  {
   "cell_type": "code",
   "execution_count": 4,
   "metadata": {},
   "outputs": [
    {
     "name": "stdout",
     "output_type": "stream",
     "text": [
      "Current path for external_segmentation_path = /mnt/dj-stor01/platinum/minnie65/02\n",
      "Current path for external_mesh_path = /mnt/dj-stor01/platinum/minnie65/02/meshes\n",
      "Current path for external_decimated_mesh_path = /mnt/dj-stor01/platinum/minnie65/02/decimated_meshes\n",
      "Current path for external_skeleton_path = /mnt/dj-stor01/platinum/minnie65/02/skeletons\n"
     ]
    }
   ],
   "source": [
    "import minfig\n",
    "du.set_minnie65_config_segmentation(minfig)\n",
    "du.print_minnie65_config_paths(minfig)"
   ]
  },
  {
   "cell_type": "code",
   "execution_count": 5,
   "metadata": {},
   "outputs": [
    {
     "name": "stderr",
     "output_type": "stream",
     "text": [
      "INFO:datajoint.settings:Setting enable_python_native_blobs to True\n",
      "INFO:datajoint.settings:Setting enable_python_native_blobs to True\n"
     ]
    }
   ],
   "source": [
    "minnie = minfig.configure_minnie(return_virtual_module=True)\n",
    "\n",
    "# Old way of getting access to the virtual modules\n",
    "# m65 = dj.create_virtual_module('minnie', 'microns_minnie65_02')\n",
    "\n",
    "#New way of getting access to module\n",
    "import datajoint as dj\n",
    "from minfig import adapter_objects # included with wildcard imports\n",
    "minnie = dj.create_virtual_module('minnie', 'microns_minnie65_02', add_objects=adapter_objects)\n",
    "\n",
    "schema = dj.schema(\"microns_minnie65_02\")\n",
    "dj.config[\"enable_python_native_blobs\"] = True\n",
    "#(schema.jobs & \"table_name='__baylor_segment_centroid_seg3'\").delete()"
   ]
  },
  {
   "cell_type": "code",
   "execution_count": 7,
   "metadata": {},
   "outputs": [
    {
     "data": {
      "text/plain": [
       "3269017.3724721107"
      ]
     },
     "execution_count": 7,
     "metadata": {},
     "output_type": "execute_result"
    }
   ],
   "source": [
    "np.exp(15)"
   ]
  },
  {
   "cell_type": "code",
   "execution_count": 19,
   "metadata": {},
   "outputs": [],
   "source": [
    "mesh_n_vertices = minnie.Mesh.fetch(\"n_vertices\")"
   ]
  },
  {
   "cell_type": "code",
   "execution_count": 20,
   "metadata": {},
   "outputs": [
    {
     "data": {
      "text/plain": [
       "(460, 74011386)"
      ]
     },
     "execution_count": 20,
     "metadata": {},
     "output_type": "execute_result"
    }
   ],
   "source": [
    "np.min(mesh_n_vertices),np.max(mesh_n_vertices)"
   ]
  },
  {
   "cell_type": "code",
   "execution_count": 11,
   "metadata": {},
   "outputs": [],
   "source": [
    "meshes_decimated = (minnie.Mesh() & minnie.Decimation.proj())"
   ]
  },
  {
   "cell_type": "code",
   "execution_count": 14,
   "metadata": {},
   "outputs": [],
   "source": [
    "n_vertices_decimated = meshes_decimated.fetch(\"n_vertices\")"
   ]
  },
  {
   "cell_type": "code",
   "execution_count": 21,
   "metadata": {},
   "outputs": [
    {
     "data": {
      "text/plain": [
       "(162757, 3268979)"
      ]
     },
     "execution_count": 21,
     "metadata": {},
     "output_type": "execute_result"
    }
   ],
   "source": [
    "np.min(n_vertices_decimated),np.max(n_vertices_decimated)"
   ]
  },
  {
   "cell_type": "code",
   "execution_count": 18,
   "metadata": {},
   "outputs": [
    {
     "data": {
      "text/plain": [
       "3269017.0"
      ]
     },
     "execution_count": 18,
     "metadata": {},
     "output_type": "execute_result"
    }
   ],
   "source": [
    "np.round(np.exp(15))"
   ]
  },
  {
   "cell_type": "code",
   "execution_count": 8,
   "metadata": {},
   "outputs": [
    {
     "data": {
      "text/html": [
       "\n",
       "        \n",
       "        <style type=\"text/css\">\n",
       "            .Relation{\n",
       "                border-collapse:collapse;\n",
       "            }\n",
       "            .Relation th{\n",
       "                background: #A0A0A0; color: #ffffff; padding:4px; border:#f0e0e0 1px solid;\n",
       "                font-weight: normal; font-family: monospace; font-size: 100%;\n",
       "            }\n",
       "            .Relation td{\n",
       "                padding:4px; border:#f0e0e0 1px solid; font-size:100%;\n",
       "            }\n",
       "            .Relation tr:nth-child(odd){\n",
       "                background: #ffffff;\n",
       "            }\n",
       "            .Relation tr:nth-child(even){\n",
       "                background: #f3f1ff;\n",
       "            }\n",
       "            /* Tooltip container */\n",
       "            .djtooltip {\n",
       "            }\n",
       "            /* Tooltip text */\n",
       "            .djtooltip .djtooltiptext {\n",
       "                visibility: hidden;\n",
       "                width: 120px;\n",
       "                background-color: black;\n",
       "                color: #fff;\n",
       "                text-align: center;\n",
       "                padding: 5px 0;\n",
       "                border-radius: 6px;\n",
       "                /* Position the tooltip text - see examples below! */\n",
       "                position: absolute;\n",
       "                z-index: 1;\n",
       "            }\n",
       "            #primary {\n",
       "                font-weight: bold;\n",
       "                color: black;\n",
       "            }\n",
       "\n",
       "            #nonprimary {\n",
       "                font-weight: normal;\n",
       "                color: white;\n",
       "            }\n",
       "\n",
       "            /* Show the tooltip text when you mouse over the tooltip container */\n",
       "            .djtooltip:hover .djtooltiptext {\n",
       "                visibility: visible;\n",
       "            }\n",
       "        </style>\n",
       "        \n",
       "        \n",
       "            <div style=\"max-height:1000px;max-width:1500px;overflow:auto;\">\n",
       "            <table border=\"1\" class=\"Relation\">\n",
       "                <thead> <tr style=\"text-align: right;\"> <th> <div class=\"djtooltip\">\n",
       "                                <p id=\"primary\">segment_id</p>\n",
       "                                <span class=\"djtooltiptext\">segment id unique within each Segmentation</span>\n",
       "                            </div></th><th><div class=\"djtooltip\">\n",
       "                                <p id=\"primary\">decimation_version</p>\n",
       "                                <span class=\"djtooltiptext\"></span>\n",
       "                            </div></th><th><div class=\"djtooltip\">\n",
       "                                <p id=\"primary\">decimation_ratio</p>\n",
       "                                <span class=\"djtooltiptext\">ratio of remaining mesh vertices/faces (which ones depends on what metric the decimation technique uses)</span>\n",
       "                            </div> </th> </tr> </thead>\n",
       "                <tbody> <tr> <td>864691134649778727</td>\n",
       "<td>0</td>\n",
       "<td>0.10</td></tr><tr><td>864691134697247994</td>\n",
       "<td>0</td>\n",
       "<td>0.10</td></tr><tr><td>864691134718953212</td>\n",
       "<td>0</td>\n",
       "<td>0.10</td></tr><tr><td>864691134721124348</td>\n",
       "<td>0</td>\n",
       "<td>0.10</td></tr><tr><td>864691134734371578</td>\n",
       "<td>0</td>\n",
       "<td>0.10</td></tr><tr><td>864691134743838460</td>\n",
       "<td>0</td>\n",
       "<td>0.10</td></tr><tr><td>864691134746633978</td>\n",
       "<td>0</td>\n",
       "<td>0.10</td></tr><tr><td>864691134748184152</td>\n",
       "<td>0</td>\n",
       "<td>0.10</td></tr><tr><td>864691134759873880</td>\n",
       "<td>0</td>\n",
       "<td>0.10</td></tr><tr><td>864691134760657252</td>\n",
       "<td>0</td>\n",
       "<td>0.10</td></tr><tr><td>864691134763581773</td>\n",
       "<td>0</td>\n",
       "<td>0.10</td></tr><tr><td>864691134768467044</td>\n",
       "<td>0</td>\n",
       "<td>0.10</td> </tr> </tbody>\n",
       "            </table>\n",
       "            <p>...</p>\n",
       "            <p>Total: 545078</p></div>\n",
       "            "
      ],
      "text/plain": [
       "*segment_id    *decimation_ve *decimation_ra\n",
       "+------------+ +------------+ +------------+\n",
       "86469113464977 0              0.10          \n",
       "86469113469724 0              0.10          \n",
       "86469113471895 0              0.10          \n",
       "86469113472112 0              0.10          \n",
       "86469113473437 0              0.10          \n",
       "86469113474383 0              0.10          \n",
       "86469113474663 0              0.10          \n",
       "86469113474818 0              0.10          \n",
       "86469113475987 0              0.10          \n",
       "86469113476065 0              0.10          \n",
       "86469113476358 0              0.10          \n",
       "86469113476846 0              0.10          \n",
       "   ...\n",
       " (Total: 545078)"
      ]
     },
     "execution_count": 8,
     "metadata": {},
     "output_type": "execute_result"
    }
   ],
   "source": [
    "decimation_version = 0\n",
    "decimation_ratio = 0.25\n",
    "\n",
    "segments = (minnie.Mesh() & f'n_vertices  > {np.str(np.round(np.exp(12)).astype(np.int))}' & f'n_vertices  < {np.str(np.round(np.exp(15)).astype(np.int))}')\n",
    "key_source =  minnie.Decimation.proj(decimation_version='version') & segments.proj() & \"decimation_version=\" + str(decimation_version)\n",
    "key_source  "
   ]
  },
  {
   "cell_type": "code",
   "execution_count": 36,
   "metadata": {},
   "outputs": [
    {
     "data": {
      "text/html": [
       "\n",
       "        \n",
       "        <style type=\"text/css\">\n",
       "            .Relation{\n",
       "                border-collapse:collapse;\n",
       "            }\n",
       "            .Relation th{\n",
       "                background: #A0A0A0; color: #ffffff; padding:4px; border:#f0e0e0 1px solid;\n",
       "                font-weight: normal; font-family: monospace; font-size: 100%;\n",
       "            }\n",
       "            .Relation td{\n",
       "                padding:4px; border:#f0e0e0 1px solid; font-size:100%;\n",
       "            }\n",
       "            .Relation tr:nth-child(odd){\n",
       "                background: #ffffff;\n",
       "            }\n",
       "            .Relation tr:nth-child(even){\n",
       "                background: #f3f1ff;\n",
       "            }\n",
       "            /* Tooltip container */\n",
       "            .djtooltip {\n",
       "            }\n",
       "            /* Tooltip text */\n",
       "            .djtooltip .djtooltiptext {\n",
       "                visibility: hidden;\n",
       "                width: 120px;\n",
       "                background-color: black;\n",
       "                color: #fff;\n",
       "                text-align: center;\n",
       "                padding: 5px 0;\n",
       "                border-radius: 6px;\n",
       "                /* Position the tooltip text - see examples below! */\n",
       "                position: absolute;\n",
       "                z-index: 1;\n",
       "            }\n",
       "            #primary {\n",
       "                font-weight: bold;\n",
       "                color: black;\n",
       "            }\n",
       "\n",
       "            #nonprimary {\n",
       "                font-weight: normal;\n",
       "                color: white;\n",
       "            }\n",
       "\n",
       "            /* Show the tooltip text when you mouse over the tooltip container */\n",
       "            .djtooltip:hover .djtooltiptext {\n",
       "                visibility: visible;\n",
       "            }\n",
       "        </style>\n",
       "        \n",
       "        <b>Decimated meshes</b>\n",
       "            <div style=\"max-height:1000px;max-width:1500px;overflow:auto;\">\n",
       "            <table border=\"1\" class=\"Relation\">\n",
       "                <thead> <tr style=\"text-align: right;\"> <th> <div class=\"djtooltip\">\n",
       "                                <p id=\"primary\">segment_id</p>\n",
       "                                <span class=\"djtooltiptext\">segment id unique within each Segmentation</span>\n",
       "                            </div></th><th><div class=\"djtooltip\">\n",
       "                                <p id=\"primary\">version</p>\n",
       "                                <span class=\"djtooltiptext\"></span>\n",
       "                            </div></th><th><div class=\"djtooltip\">\n",
       "                                <p id=\"primary\">decimation_ratio</p>\n",
       "                                <span class=\"djtooltiptext\">ratio of remaining mesh vertices/faces (which ones depends on what metric the decimation technique uses)</span>\n",
       "                            </div></th><th><div class=\"djtooltip\">\n",
       "                                <p id=\"nonprimary\">n_vertices</p>\n",
       "                                <span class=\"djtooltiptext\"></span>\n",
       "                            </div></th><th><div class=\"djtooltip\">\n",
       "                                <p id=\"nonprimary\">n_faces</p>\n",
       "                                <span class=\"djtooltiptext\"></span>\n",
       "                            </div></th><th><div class=\"djtooltip\">\n",
       "                                <p id=\"nonprimary\">mesh</p>\n",
       "                                <span class=\"djtooltiptext\">in-place path to the hdf5 (decimated) mesh file</span>\n",
       "                            </div> </th> </tr> </thead>\n",
       "                <tbody> <tr> <td>864691134829367042</td>\n",
       "<td>0</td>\n",
       "<td>0.25</td>\n",
       "<td>72131</td>\n",
       "<td>144983</td>\n",
       "<td>=BLOB=</td></tr><tr><td>864691134831878402</td>\n",
       "<td>0</td>\n",
       "<td>0.25</td>\n",
       "<td>141431</td>\n",
       "<td>288006</td>\n",
       "<td>=BLOB=</td></tr><tr><td>864691134832796418</td>\n",
       "<td>0</td>\n",
       "<td>0.25</td>\n",
       "<td>64192</td>\n",
       "<td>129768</td>\n",
       "<td>=BLOB=</td></tr><tr><td>864691134836870914</td>\n",
       "<td>0</td>\n",
       "<td>0.25</td>\n",
       "<td>103573</td>\n",
       "<td>208897</td>\n",
       "<td>=BLOB=</td></tr><tr><td>864691134868397058</td>\n",
       "<td>0</td>\n",
       "<td>0.25</td>\n",
       "<td>125239</td>\n",
       "<td>252340</td>\n",
       "<td>=BLOB=</td></tr><tr><td>864691134873997050</td>\n",
       "<td>0</td>\n",
       "<td>0.25</td>\n",
       "<td>48159</td>\n",
       "<td>97321</td>\n",
       "<td>=BLOB=</td></tr><tr><td>864691134875433210</td>\n",
       "<td>0</td>\n",
       "<td>0.25</td>\n",
       "<td>66493</td>\n",
       "<td>133498</td>\n",
       "<td>=BLOB=</td></tr><tr><td>864691134875454714</td>\n",
       "<td>0</td>\n",
       "<td>0.25</td>\n",
       "<td>138619</td>\n",
       "<td>278598</td>\n",
       "<td>=BLOB=</td></tr><tr><td>864691134875960570</td>\n",
       "<td>0</td>\n",
       "<td>0.25</td>\n",
       "<td>57675</td>\n",
       "<td>115610</td>\n",
       "<td>=BLOB=</td></tr><tr><td>864691134876055298</td>\n",
       "<td>0</td>\n",
       "<td>0.25</td>\n",
       "<td>86259</td>\n",
       "<td>176911</td>\n",
       "<td>=BLOB=</td></tr><tr><td>864691134877208826</td>\n",
       "<td>0</td>\n",
       "<td>0.25</td>\n",
       "<td>322541</td>\n",
       "<td>647383</td>\n",
       "<td>=BLOB=</td></tr><tr><td>864691134878379514</td>\n",
       "<td>0</td>\n",
       "<td>0.25</td>\n",
       "<td>192852</td>\n",
       "<td>388899</td>\n",
       "<td>=BLOB=</td> </tr> </tbody>\n",
       "            </table>\n",
       "            <p>...</p>\n",
       "            <p>Total: 13129</p></div>\n",
       "            "
      ],
      "text/plain": [
       "*segment_id    *version    *decimation_ra n_vertices     n_faces     mesh      \n",
       "+------------+ +---------+ +------------+ +------------+ +---------+ +--------+\n",
       "86469113482936 0           0.25           72131          144983      =BLOB=    \n",
       "86469113483187 0           0.25           141431         288006      =BLOB=    \n",
       "86469113483279 0           0.25           64192          129768      =BLOB=    \n",
       "86469113483687 0           0.25           103573         208897      =BLOB=    \n",
       "86469113486839 0           0.25           125239         252340      =BLOB=    \n",
       "86469113487399 0           0.25           48159          97321       =BLOB=    \n",
       "86469113487543 0           0.25           66493          133498      =BLOB=    \n",
       "86469113487545 0           0.25           138619         278598      =BLOB=    \n",
       "86469113487596 0           0.25           57675          115610      =BLOB=    \n",
       "86469113487605 0           0.25           86259          176911      =BLOB=    \n",
       "86469113487720 0           0.25           322541         647383      =BLOB=    \n",
       "86469113487837 0           0.25           192852         388899      =BLOB=    \n",
       "   ...\n",
       " (Total: 13129)"
      ]
     },
     "execution_count": 36,
     "metadata": {},
     "output_type": "execute_result"
    }
   ],
   "source": [
    "mesh_with_nucleus_dec = minnie.Decimation() & minnie.NucleusID.proj() & \"decimation_ratio=0.25\"\n",
    "mesh_with_nucleus_dec"
   ]
  },
  {
   "cell_type": "code",
   "execution_count": 49,
   "metadata": {},
   "outputs": [
    {
     "data": {
      "text/html": [
       "\n",
       "        \n",
       "        <style type=\"text/css\">\n",
       "            .Relation{\n",
       "                border-collapse:collapse;\n",
       "            }\n",
       "            .Relation th{\n",
       "                background: #A0A0A0; color: #ffffff; padding:4px; border:#f0e0e0 1px solid;\n",
       "                font-weight: normal; font-family: monospace; font-size: 100%;\n",
       "            }\n",
       "            .Relation td{\n",
       "                padding:4px; border:#f0e0e0 1px solid; font-size:100%;\n",
       "            }\n",
       "            .Relation tr:nth-child(odd){\n",
       "                background: #ffffff;\n",
       "            }\n",
       "            .Relation tr:nth-child(even){\n",
       "                background: #f3f1ff;\n",
       "            }\n",
       "            /* Tooltip container */\n",
       "            .djtooltip {\n",
       "            }\n",
       "            /* Tooltip text */\n",
       "            .djtooltip .djtooltiptext {\n",
       "                visibility: hidden;\n",
       "                width: 120px;\n",
       "                background-color: black;\n",
       "                color: #fff;\n",
       "                text-align: center;\n",
       "                padding: 5px 0;\n",
       "                border-radius: 6px;\n",
       "                /* Position the tooltip text - see examples below! */\n",
       "                position: absolute;\n",
       "                z-index: 1;\n",
       "            }\n",
       "            #primary {\n",
       "                font-weight: bold;\n",
       "                color: black;\n",
       "            }\n",
       "\n",
       "            #nonprimary {\n",
       "                font-weight: normal;\n",
       "                color: white;\n",
       "            }\n",
       "\n",
       "            /* Show the tooltip text when you mouse over the tooltip container */\n",
       "            .djtooltip:hover .djtooltiptext {\n",
       "                visibility: visible;\n",
       "            }\n",
       "        </style>\n",
       "        \n",
       "        <b>Platinum mesh structures</b>\n",
       "            <div style=\"max-height:1000px;max-width:1500px;overflow:auto;\">\n",
       "            <table border=\"1\" class=\"Relation\">\n",
       "                <thead> <tr style=\"text-align: right;\"> <th> <div class=\"djtooltip\">\n",
       "                                <p id=\"primary\">segment_id</p>\n",
       "                                <span class=\"djtooltiptext\">segment id unique within each Segmentation</span>\n",
       "                            </div></th><th><div class=\"djtooltip\">\n",
       "                                <p id=\"nonprimary\">n_vertices</p>\n",
       "                                <span class=\"djtooltiptext\">number of vertices</span>\n",
       "                            </div></th><th><div class=\"djtooltip\">\n",
       "                                <p id=\"nonprimary\">n_faces</p>\n",
       "                                <span class=\"djtooltiptext\">number of faces</span>\n",
       "                            </div></th><th><div class=\"djtooltip\">\n",
       "                                <p id=\"nonprimary\">mesh</p>\n",
       "                                <span class=\"djtooltiptext\">in-place path to the hdf5 mesh file</span>\n",
       "                            </div> </th> </tr> </thead>\n",
       "                <tbody> <tr> <td>864691135898530280</td>\n",
       "<td>97789</td>\n",
       "<td>190926</td>\n",
       "<td>=BLOB=</td></tr><tr><td>864691135896080616</td>\n",
       "<td>123207</td>\n",
       "<td>245791</td>\n",
       "<td>=BLOB=</td></tr><tr><td>864691135905885097</td>\n",
       "<td>87256</td>\n",
       "<td>170311</td>\n",
       "<td>=BLOB=</td></tr><tr><td>864691135563379140</td>\n",
       "<td>74119</td>\n",
       "<td>147664</td>\n",
       "<td>=BLOB=</td></tr><tr><td>864691136107882466</td>\n",
       "<td>92500</td>\n",
       "<td>181624</td>\n",
       "<td>=BLOB=</td></tr><tr><td>864691135653759123</td>\n",
       "<td>72017</td>\n",
       "<td>143127</td>\n",
       "<td>=BLOB=</td></tr><tr><td>864691136110548049</td>\n",
       "<td>120133</td>\n",
       "<td>237098</td>\n",
       "<td>=BLOB=</td></tr><tr><td>864691135629790597</td>\n",
       "<td>61205</td>\n",
       "<td>121142</td>\n",
       "<td>=BLOB=</td></tr><tr><td>864691135536515177</td>\n",
       "<td>107905</td>\n",
       "<td>214943</td>\n",
       "<td>=BLOB=</td></tr><tr><td>864691136143273367</td>\n",
       "<td>146508</td>\n",
       "<td>291889</td>\n",
       "<td>=BLOB=</td></tr><tr><td>864691136133162833</td>\n",
       "<td>121002</td>\n",
       "<td>234456</td>\n",
       "<td>=BLOB=</td></tr><tr><td>864691135368338014</td>\n",
       "<td>128377</td>\n",
       "<td>249274</td>\n",
       "<td>=BLOB=</td> </tr> </tbody>\n",
       "            </table>\n",
       "            <p>...</p>\n",
       "            <p>Total: 963</p></div>\n",
       "            "
      ],
      "text/plain": [
       "*segment_id    n_vertices     n_faces     mesh      \n",
       "+------------+ +------------+ +---------+ +--------+\n",
       "86469113589853 97789          190926      =BLOB=    \n",
       "86469113589608 123207         245791      =BLOB=    \n",
       "86469113590588 87256          170311      =BLOB=    \n",
       "86469113556337 74119          147664      =BLOB=    \n",
       "86469113610788 92500          181624      =BLOB=    \n",
       "86469113565375 72017          143127      =BLOB=    \n",
       "86469113611054 120133         237098      =BLOB=    \n",
       "86469113562979 61205          121142      =BLOB=    \n",
       "86469113553651 107905         214943      =BLOB=    \n",
       "86469113614327 146508         291889      =BLOB=    \n",
       "86469113613316 121002         234456      =BLOB=    \n",
       "86469113536833 128377         249274      =BLOB=    \n",
       "   ...\n",
       " (Total: 963)"
      ]
     },
     "execution_count": 49,
     "metadata": {},
     "output_type": "execute_result"
    }
   ],
   "source": [
    "mesh_with_nucleus & f\"n_vertices < {np.exp(12)}\" & f\"n_vertices > {np.exp(11)}\""
   ]
  },
  {
   "cell_type": "code",
   "execution_count": 48,
   "metadata": {},
   "outputs": [
    {
     "data": {
      "text/plain": [
       "59874.14171519782"
      ]
     },
     "execution_count": 48,
     "metadata": {},
     "output_type": "execute_result"
    }
   ],
   "source": [
    "np.exp(11)"
   ]
  },
  {
   "cell_type": "code",
   "execution_count": 56,
   "metadata": {},
   "outputs": [],
   "source": [
    "small_soma_mesh = fetch_undecimated_segment_id_mesh(seg_id = 864691135898530280)"
   ]
  },
  {
   "cell_type": "code",
   "execution_count": 57,
   "metadata": {},
   "outputs": [
    {
     "name": "stderr",
     "output_type": "stream",
     "text": [
      "/usr/local/lib/python3.6/dist-packages/traittypes/traittypes.py:101: UserWarning: Given trait value dtype \"float64\" does not match required type \"float64\". A coerced copy has been created.\n",
      "  np.dtype(self.dtype).name))\n"
     ]
    },
    {
     "data": {
      "application/vnd.jupyter.widget-view+json": {
       "model_id": "91d240ea9eec4cc68dd49a710e1f3cc7",
       "version_major": 2,
       "version_minor": 0
      },
      "text/plain": [
       "VBox(children=(Figure(camera=PerspectiveCamera(fov=46.0, position=(0.0, 0.0, 2.0), quaternion=(0.0, 0.0, 0.0, …"
      ]
     },
     "metadata": {},
     "output_type": "display_data"
    }
   ],
   "source": [
    "import neuron_visualizations as nviz\n",
    "nviz.plot_objects(meshes=small_soma_mesh)"
   ]
  },
  {
   "cell_type": "code",
   "execution_count": 23,
   "metadata": {},
   "outputs": [
    {
     "data": {
      "text/html": [
       "\n",
       "        \n",
       "        <style type=\"text/css\">\n",
       "            .Relation{\n",
       "                border-collapse:collapse;\n",
       "            }\n",
       "            .Relation th{\n",
       "                background: #A0A0A0; color: #ffffff; padding:4px; border:#f0e0e0 1px solid;\n",
       "                font-weight: normal; font-family: monospace; font-size: 100%;\n",
       "            }\n",
       "            .Relation td{\n",
       "                padding:4px; border:#f0e0e0 1px solid; font-size:100%;\n",
       "            }\n",
       "            .Relation tr:nth-child(odd){\n",
       "                background: #ffffff;\n",
       "            }\n",
       "            .Relation tr:nth-child(even){\n",
       "                background: #f3f1ff;\n",
       "            }\n",
       "            /* Tooltip container */\n",
       "            .djtooltip {\n",
       "            }\n",
       "            /* Tooltip text */\n",
       "            .djtooltip .djtooltiptext {\n",
       "                visibility: hidden;\n",
       "                width: 120px;\n",
       "                background-color: black;\n",
       "                color: #fff;\n",
       "                text-align: center;\n",
       "                padding: 5px 0;\n",
       "                border-radius: 6px;\n",
       "                /* Position the tooltip text - see examples below! */\n",
       "                position: absolute;\n",
       "                z-index: 1;\n",
       "            }\n",
       "            #primary {\n",
       "                font-weight: bold;\n",
       "                color: black;\n",
       "            }\n",
       "\n",
       "            #nonprimary {\n",
       "                font-weight: normal;\n",
       "                color: white;\n",
       "            }\n",
       "\n",
       "            /* Show the tooltip text when you mouse over the tooltip container */\n",
       "            .djtooltip:hover .djtooltiptext {\n",
       "                visibility: visible;\n",
       "            }\n",
       "        </style>\n",
       "        \n",
       "        <b>Platinum mesh structures</b>\n",
       "            <div style=\"max-height:1000px;max-width:1500px;overflow:auto;\">\n",
       "            <table border=\"1\" class=\"Relation\">\n",
       "                <thead> <tr style=\"text-align: right;\"> <th> <div class=\"djtooltip\">\n",
       "                                <p id=\"primary\">segment_id</p>\n",
       "                                <span class=\"djtooltiptext\">segment id unique within each Segmentation</span>\n",
       "                            </div></th><th><div class=\"djtooltip\">\n",
       "                                <p id=\"nonprimary\">n_vertices</p>\n",
       "                                <span class=\"djtooltiptext\">number of vertices</span>\n",
       "                            </div></th><th><div class=\"djtooltip\">\n",
       "                                <p id=\"nonprimary\">n_faces</p>\n",
       "                                <span class=\"djtooltiptext\">number of faces</span>\n",
       "                            </div></th><th><div class=\"djtooltip\">\n",
       "                                <p id=\"nonprimary\">mesh</p>\n",
       "                                <span class=\"djtooltiptext\">in-place path to the hdf5 mesh file</span>\n",
       "                            </div> </th> </tr> </thead>\n",
       "                <tbody> <tr> <td>864691135087399350</td>\n",
       "<td>10385</td>\n",
       "<td>20774</td>\n",
       "<td>=BLOB=</td></tr><tr><td>864691136303487127</td>\n",
       "<td>6853</td>\n",
       "<td>13456</td>\n",
       "<td>=BLOB=</td></tr><tr><td>864691135113166262</td>\n",
       "<td>10386</td>\n",
       "<td>20760</td>\n",
       "<td>=BLOB=</td></tr><tr><td>864691135511469390</td>\n",
       "<td>41167</td>\n",
       "<td>82830</td>\n",
       "<td>=BLOB=</td></tr><tr><td>864691135931295367</td>\n",
       "<td>28805</td>\n",
       "<td>57681</td>\n",
       "<td>=BLOB=</td></tr><tr><td>864691135936438151</td>\n",
       "<td>28535</td>\n",
       "<td>57047</td>\n",
       "<td>=BLOB=</td></tr><tr><td>864691136227222513</td>\n",
       "<td>23921</td>\n",
       "<td>48212</td>\n",
       "<td>=BLOB=</td></tr><tr><td>864691134663756538</td>\n",
       "<td>33754</td>\n",
       "<td>67846</td>\n",
       "<td>=BLOB=</td></tr><tr><td>864691135948558983</td>\n",
       "<td>12919</td>\n",
       "<td>25926</td>\n",
       "<td>=BLOB=</td></tr><tr><td>864691135841854896</td>\n",
       "<td>23914</td>\n",
       "<td>48064</td>\n",
       "<td>=BLOB=</td></tr><tr><td>864691135948553351</td>\n",
       "<td>49615</td>\n",
       "<td>99850</td>\n",
       "<td>=BLOB=</td></tr><tr><td>864691134674764538</td>\n",
       "<td>11770</td>\n",
       "<td>23706</td>\n",
       "<td>=BLOB=</td> </tr> </tbody>\n",
       "            </table>\n",
       "            <p>...</p>\n",
       "            <p>Total: 15775</p></div>\n",
       "            "
      ],
      "text/plain": [
       "*segment_id    n_vertices     n_faces     mesh      \n",
       "+------------+ +------------+ +---------+ +--------+\n",
       "86469113508739 10385          20774       =BLOB=    \n",
       "86469113630348 6853           13456       =BLOB=    \n",
       "86469113511316 10386          20760       =BLOB=    \n",
       "86469113551146 41167          82830       =BLOB=    \n",
       "86469113593129 28805          57681       =BLOB=    \n",
       "86469113593643 28535          57047       =BLOB=    \n",
       "86469113622722 23921          48212       =BLOB=    \n",
       "86469113466375 33754          67846       =BLOB=    \n",
       "86469113594855 12919          25926       =BLOB=    \n",
       "86469113584185 23914          48064       =BLOB=    \n",
       "86469113594855 49615          99850       =BLOB=    \n",
       "86469113467476 11770          23706       =BLOB=    \n",
       "   ...\n",
       " (Total: 15775)"
      ]
     },
     "execution_count": 23,
     "metadata": {},
     "output_type": "execute_result"
    }
   ],
   "source": [
    "mesh_with_nucleus = minnie.Mesh() & minnie.NucleusID.proj()"
   ]
  },
  {
   "cell_type": "code",
   "execution_count": 39,
   "metadata": {},
   "outputs": [
    {
     "data": {
      "text/plain": [
       "22026.465794806718"
      ]
     },
     "execution_count": 39,
     "metadata": {},
     "output_type": "execute_result"
    }
   ],
   "source": [
    "np.exp(10)"
   ]
  },
  {
   "cell_type": "code",
   "execution_count": 26,
   "metadata": {},
   "outputs": [
    {
     "data": {
      "text/plain": [
       "(4660, 32377896)"
      ]
     },
     "execution_count": 26,
     "metadata": {},
     "output_type": "execute_result"
    }
   ],
   "source": [
    "n_vertices_nuclei = mesh_with_nucleus.fetch(\"n_vertices\")\n",
    "np.min(n_vertices_nuclei),np.max(n_vertices_nuclei)"
   ]
  },
  {
   "cell_type": "code",
   "execution_count": 34,
   "metadata": {},
   "outputs": [
    {
     "data": {
      "text/plain": [
       "3241983.6"
      ]
     },
     "execution_count": 34,
     "metadata": {},
     "output_type": "execute_result"
    }
   ],
   "source": [
    "bins[1]"
   ]
  },
  {
   "cell_type": "code",
   "execution_count": 24,
   "metadata": {},
   "outputs": [
    {
     "data": {
      "text/html": [
       "\n",
       "        \n",
       "        <style type=\"text/css\">\n",
       "            .Relation{\n",
       "                border-collapse:collapse;\n",
       "            }\n",
       "            .Relation th{\n",
       "                background: #A0A0A0; color: #ffffff; padding:4px; border:#f0e0e0 1px solid;\n",
       "                font-weight: normal; font-family: monospace; font-size: 100%;\n",
       "            }\n",
       "            .Relation td{\n",
       "                padding:4px; border:#f0e0e0 1px solid; font-size:100%;\n",
       "            }\n",
       "            .Relation tr:nth-child(odd){\n",
       "                background: #ffffff;\n",
       "            }\n",
       "            .Relation tr:nth-child(even){\n",
       "                background: #f3f1ff;\n",
       "            }\n",
       "            /* Tooltip container */\n",
       "            .djtooltip {\n",
       "            }\n",
       "            /* Tooltip text */\n",
       "            .djtooltip .djtooltiptext {\n",
       "                visibility: hidden;\n",
       "                width: 120px;\n",
       "                background-color: black;\n",
       "                color: #fff;\n",
       "                text-align: center;\n",
       "                padding: 5px 0;\n",
       "                border-radius: 6px;\n",
       "                /* Position the tooltip text - see examples below! */\n",
       "                position: absolute;\n",
       "                z-index: 1;\n",
       "            }\n",
       "            #primary {\n",
       "                font-weight: bold;\n",
       "                color: black;\n",
       "            }\n",
       "\n",
       "            #nonprimary {\n",
       "                font-weight: normal;\n",
       "                color: white;\n",
       "            }\n",
       "\n",
       "            /* Show the tooltip text when you mouse over the tooltip container */\n",
       "            .djtooltip:hover .djtooltiptext {\n",
       "                visibility: visible;\n",
       "            }\n",
       "        </style>\n",
       "        \n",
       "        \n",
       "            <div style=\"max-height:1000px;max-width:1500px;overflow:auto;\">\n",
       "            <table border=\"1\" class=\"Relation\">\n",
       "                <thead> <tr style=\"text-align: right;\"> <th> <div class=\"djtooltip\">\n",
       "                                <p id=\"primary\">segment_id</p>\n",
       "                                <span class=\"djtooltiptext\">segment_id merged to nucleus</span>\n",
       "                            </div> </th> </tr> </thead>\n",
       "                <tbody> <tr> <td>864691136050815731</td></tr><tr><td>864691135084884330</td></tr><tr><td>864691136521572241</td></tr><tr><td>864691135494586958</td></tr><tr><td>864691136451074559</td></tr><tr><td>864691135524436073</td></tr><tr><td>864691135087399350</td></tr><tr><td>864691134684964653</td></tr><tr><td>864691135524409705</td></tr><tr><td>864691134917390346</td></tr><tr><td>864691136303487127</td></tr><tr><td>864691134144633004</td> </tr> </tbody>\n",
       "            </table>\n",
       "            <p>...</p>\n",
       "            <p>Total: 108581</p></div>\n",
       "            "
      ],
      "text/plain": [
       "*segment_id   \n",
       "+------------+\n",
       "86469113605081\n",
       "86469113508488\n",
       "86469113652157\n",
       "86469113549458\n",
       "86469113645107\n",
       "86469113552443\n",
       "86469113508739\n",
       "86469113468496\n",
       "86469113552440\n",
       "86469113491739\n",
       "86469113630348\n",
       "86469113414463\n",
       "   ...\n",
       " (Total: 108581)"
      ]
     },
     "execution_count": 24,
     "metadata": {},
     "output_type": "execute_result"
    }
   ],
   "source": [
    "valid_segment_ids_with_nucleus_id = dj.U(\"segment_id\") & (minnie.NucleusID() & \"segment_id>0\")\n",
    "valid_segment_ids_with_nucleus_id"
   ]
  },
  {
   "cell_type": "markdown",
   "metadata": {},
   "source": [
    "# The tables that should be used for pulling meshes"
   ]
  },
  {
   "cell_type": "code",
   "execution_count": 4,
   "metadata": {},
   "outputs": [
    {
     "data": {
      "text/html": [
       "\n",
       "        \n",
       "        <style type=\"text/css\">\n",
       "            .Relation{\n",
       "                border-collapse:collapse;\n",
       "            }\n",
       "            .Relation th{\n",
       "                background: #A0A0A0; color: #ffffff; padding:4px; border:#f0e0e0 1px solid;\n",
       "                font-weight: normal; font-family: monospace; font-size: 100%;\n",
       "            }\n",
       "            .Relation td{\n",
       "                padding:4px; border:#f0e0e0 1px solid; font-size:100%;\n",
       "            }\n",
       "            .Relation tr:nth-child(odd){\n",
       "                background: #ffffff;\n",
       "            }\n",
       "            .Relation tr:nth-child(even){\n",
       "                background: #f3f1ff;\n",
       "            }\n",
       "            /* Tooltip container */\n",
       "            .djtooltip {\n",
       "            }\n",
       "            /* Tooltip text */\n",
       "            .djtooltip .djtooltiptext {\n",
       "                visibility: hidden;\n",
       "                width: 120px;\n",
       "                background-color: black;\n",
       "                color: #fff;\n",
       "                text-align: center;\n",
       "                padding: 5px 0;\n",
       "                border-radius: 6px;\n",
       "                /* Position the tooltip text - see examples below! */\n",
       "                position: absolute;\n",
       "                z-index: 1;\n",
       "            }\n",
       "            #primary {\n",
       "                font-weight: bold;\n",
       "                color: black;\n",
       "            }\n",
       "\n",
       "            #nonprimary {\n",
       "                font-weight: normal;\n",
       "                color: white;\n",
       "            }\n",
       "\n",
       "            /* Show the tooltip text when you mouse over the tooltip container */\n",
       "            .djtooltip:hover .djtooltiptext {\n",
       "                visibility: visible;\n",
       "            }\n",
       "        </style>\n",
       "        \n",
       "        \n",
       "            <div style=\"max-height:1000px;max-width:1500px;overflow:auto;\">\n",
       "            <table border=\"1\" class=\"Relation\">\n",
       "                <thead> <tr style=\"text-align: right;\"> <th> <div class=\"djtooltip\">\n",
       "                                <p id=\"primary\">segment_id</p>\n",
       "                                <span class=\"djtooltiptext\">segment id unique within each Segmentation</span>\n",
       "                            </div></th><th><div class=\"djtooltip\">\n",
       "                                <p id=\"primary\">decimation_version</p>\n",
       "                                <span class=\"djtooltiptext\"></span>\n",
       "                            </div></th><th><div class=\"djtooltip\">\n",
       "                                <p id=\"primary\">decimation_ratio</p>\n",
       "                                <span class=\"djtooltiptext\">ratio of remaining mesh vertices/faces (which ones depends on what metric the decimation technique uses)</span>\n",
       "                            </div> </th> </tr> </thead>\n",
       "                <tbody> <tr> <td>864691135635239593</td>\n",
       "<td>0</td>\n",
       "<td>0.25</td></tr><tr><td>864691135618175635</td>\n",
       "<td>0</td>\n",
       "<td>0.25</td></tr><tr><td>864691135584809548</td>\n",
       "<td>0</td>\n",
       "<td>0.25</td></tr><tr><td>864691135679304325</td>\n",
       "<td>0</td>\n",
       "<td>0.25</td></tr><tr><td>864691136143741847</td>\n",
       "<td>0</td>\n",
       "<td>0.25</td></tr><tr><td>864691136148842647</td>\n",
       "<td>0</td>\n",
       "<td>0.25</td></tr><tr><td>864691136143284631</td>\n",
       "<td>0</td>\n",
       "<td>0.25</td></tr><tr><td>864691136745551332</td>\n",
       "<td>0</td>\n",
       "<td>0.25</td></tr><tr><td>864691136315868311</td>\n",
       "<td>0</td>\n",
       "<td>0.25</td></tr><tr><td>864691136324529047</td>\n",
       "<td>0</td>\n",
       "<td>0.25</td></tr><tr><td>864691136292100759</td>\n",
       "<td>0</td>\n",
       "<td>0.25</td></tr><tr><td>864691136745398500</td>\n",
       "<td>0</td>\n",
       "<td>0.25</td> </tr> </tbody>\n",
       "            </table>\n",
       "            <p>...</p>\n",
       "            <p>Total: 13129</p></div>\n",
       "            "
      ],
      "text/plain": [
       "*segment_id    *decimation_ve *decimation_ra\n",
       "+------------+ +------------+ +------------+\n",
       "86469113563523 0              0.25          \n",
       "86469113561817 0              0.25          \n",
       "86469113558480 0              0.25          \n",
       "86469113567930 0              0.25          \n",
       "86469113614374 0              0.25          \n",
       "86469113614884 0              0.25          \n",
       "86469113614328 0              0.25          \n",
       "86469113674555 0              0.25          \n",
       "86469113631586 0              0.25          \n",
       "86469113632452 0              0.25          \n",
       "86469113629210 0              0.25          \n",
       "86469113674539 0              0.25          \n",
       "   ...\n",
       " (Total: 13129)"
      ]
     },
     "execution_count": 4,
     "metadata": {},
     "output_type": "execute_result"
    }
   ],
   "source": [
    "decimation_ratio = 0.25\n",
    "decimation_version = 0\n",
    "\n",
    "valid_segment_ids_with_nucleus_id = dj.U(\"segment_id\") & (minnie.NucleusID() & \"segment_id>0\")\n",
    "segments = (minnie.Mesh())# & f'n_vertices  > {np.str(np.round(np.exp(12)).astype(np.int))}' & f'n_vertices  < {np.str(np.round(np.exp(15)).astype(np.int))}')\n",
    "key_source =  (minnie.Decimation.proj(decimation_version='version') \n",
    "            & segments.proj() \n",
    "            & f\"decimation_ratio={decimation_ratio}\" \n",
    "            & f\"decimation_version={decimation_version}\" \n",
    "            & valid_segment_ids_with_nucleus_id)\n",
    "key_source"
   ]
  },
  {
   "cell_type": "code",
   "execution_count": 42,
   "metadata": {},
   "outputs": [],
   "source": [
    "def nucleus_id_to_seg_id(nucleus_id):\n",
    "    \"\"\"\n",
    "    Pseudocode:\n",
    "    1) restrict the nucleus id table\n",
    "    2) fetch for the segment id\n",
    "    \"\"\"\n",
    "    nucl_key = dict(nucleus_id=nucleus_id)\n",
    "    nucl_seg_id = (minnie.NucleusID()  & nucl_key).fetch1(\"segment_id\")\n",
    "    if nucl_seg_id == 0:\n",
    "        raise Exception(f\"No segment id for nucleus Id {nucleus_id}\")\n",
    "    return nucl_seg_id\n",
    "    \n",
    "import trimesh\n",
    "def fetch_segment_id_mesh(seg_id,decimation_ratio=0.25):\n",
    "    key = dict(segment_id=seg_id,decimation_ratio=decimation_ratio)\n",
    "    new_mesh = (minnie.Decimation() & key).fetch1(\"mesh\")\n",
    "    current_mesh_verts,current_mesh_faces = new_mesh.vertices,new_mesh.faces\n",
    "    return trimesh.Trimesh(vertices=current_mesh_verts,faces=current_mesh_faces)\n",
    "\n",
    "def fetch_undecimated_segment_id_mesh(seg_id,decimation_ratio=0.25):\n",
    "    key = dict(segment_id=seg_id,decimation_ratio=decimation_ratio)\n",
    "    new_mesh = (minnie.Mesh() & key).fetch1(\"mesh\")\n",
    "    current_mesh_verts,current_mesh_faces = new_mesh.vertices,new_mesh.faces\n",
    "    return trimesh.Trimesh(vertices=current_mesh_verts,faces=current_mesh_faces)\n",
    "\n",
    "\n",
    "def fetch_nucleus_id_mesh(nucleus_id,verbose=False):\n",
    "    seg_id = nucleus_id_to_seg_id(nucleus_id)\n",
    "    print(f\"Attempting to fetch segment_id: {seg_id}\")\n",
    "    return fetch_segment_id_mesh(seg_id)"
   ]
  },
  {
   "cell_type": "code",
   "execution_count": 9,
   "metadata": {},
   "outputs": [],
   "source": [
    "n_verts,seg_ids = (segments & key_source & \"n_vertices > 3000000\").fetch(\"n_vertices\",\"segment_id\")"
   ]
  },
  {
   "cell_type": "code",
   "execution_count": 10,
   "metadata": {},
   "outputs": [
    {
     "data": {
      "text/plain": [
       "3268979"
      ]
     },
     "execution_count": 10,
     "metadata": {},
     "output_type": "execute_result"
    }
   ],
   "source": [
    "np.max(n_verts)"
   ]
  },
  {
   "cell_type": "code",
   "execution_count": 8,
   "metadata": {},
   "outputs": [],
   "source": [
    "from os import sys\n",
    "sys.path.append(\"/meshAfterParty/\")\n",
    "import neuron_visualizations as nviz"
   ]
  },
  {
   "cell_type": "markdown",
   "metadata": {},
   "source": [
    "# Viewing the Neurons"
   ]
  },
  {
   "cell_type": "code",
   "execution_count": 16,
   "metadata": {},
   "outputs": [
    {
     "name": "stdout",
     "output_type": "stream",
     "text": [
      "864691135548568516\n"
     ]
    }
   ],
   "source": [
    "curr_seg_id = seg_ids[7]\n",
    "print(curr_seg_id)"
   ]
  },
  {
   "cell_type": "code",
   "execution_count": 17,
   "metadata": {},
   "outputs": [
    {
     "data": {
      "text/plain": [
       "<trimesh.Trimesh(vertices.shape=(764384, 3), faces.shape=(1523580, 3))>"
      ]
     },
     "execution_count": 17,
     "metadata": {},
     "output_type": "execute_result"
    }
   ],
   "source": [
    "new_mesh = fetch_segment_id_mesh(curr_seg_id)\n",
    "new_mesh"
   ]
  },
  {
   "cell_type": "code",
   "execution_count": 18,
   "metadata": {},
   "outputs": [
    {
     "name": "stderr",
     "output_type": "stream",
     "text": [
      "/usr/local/lib/python3.6/dist-packages/traittypes/traittypes.py:101: UserWarning: Given trait value dtype \"float64\" does not match required type \"float64\". A coerced copy has been created.\n",
      "  np.dtype(self.dtype).name))\n"
     ]
    },
    {
     "data": {
      "application/vnd.jupyter.widget-view+json": {
       "model_id": "57e249b12fa047f1a2ea338a8a2721ac",
       "version_major": 2,
       "version_minor": 0
      },
      "text/plain": [
       "VBox(children=(Figure(camera=PerspectiveCamera(fov=46.0, position=(0.0, 0.0, 2.0), quaternion=(0.0, 0.0, 0.0, …"
      ]
     },
     "metadata": {},
     "output_type": "display_data"
    }
   ],
   "source": [
    "nviz.plot_objects(meshes=new_mesh)"
   ]
  },
  {
   "cell_type": "code",
   "execution_count": 19,
   "metadata": {},
   "outputs": [
    {
     "data": {
      "text/plain": [
       "864691135548568516"
      ]
     },
     "execution_count": 19,
     "metadata": {},
     "output_type": "execute_result"
    }
   ],
   "source": [
    "curr_seg_id"
   ]
  },
  {
   "cell_type": "code",
   "execution_count": 20,
   "metadata": {},
   "outputs": [
    {
     "data": {
      "text/plain": [
       "'864691135548568516_single_soma_inhib_axon_cloud.off'"
      ]
     },
     "execution_count": 20,
     "metadata": {},
     "output_type": "execute_result"
    }
   ],
   "source": [
    "# import trimesh_utils as tu\n",
    "# tu.write_neuron_off(new_mesh,\"864691135548568516_single_soma_inhib_axon_cloud.off\")"
   ]
  },
  {
   "cell_type": "code",
   "execution_count": null,
   "metadata": {},
   "outputs": [],
   "source": [
    "single_soma_excitatory_large_axon = [864691135419631858]\n",
    "single_soma_excitatory_large_axon_with_merges = [864691135577756100]\n",
    "single_soma_inhibitory_large_axon = [864691136265012708]\n",
    "double_soma_large_axon = [864691135382617330]\n",
    "triple_soma_with_lots_axon = [864691136819525998]\n",
    "single_soma_inhib_axon_cloud = [864691135548568516]\n",
    "lots_of_error = [864691135707063188] #probably has a blood vessel"
   ]
  }
 ],
 "metadata": {
  "kernelspec": {
   "display_name": "Python 3",
   "language": "python",
   "name": "python3"
  },
  "language_info": {
   "codemirror_mode": {
    "name": "ipython",
    "version": 3
   },
   "file_extension": ".py",
   "mimetype": "text/x-python",
   "name": "python",
   "nbconvert_exporter": "python",
   "pygments_lexer": "ipython3",
   "version": "3.6.9"
  }
 },
 "nbformat": 4,
 "nbformat_minor": 4
}
