{
 "cells": [
  {
   "cell_type": "code",
   "execution_count": null,
   "metadata": {},
   "outputs": [],
   "source": [
    "\"\"\"\n",
    "How started running the meshParty\n",
    "\n",
    "pip3 install meshparty\n",
    "git clone https://github.com/sdorkenw/MeshParty.git\n",
    "cd MeshParty\n",
    "pip install . --upgrade\n",
    "\n",
    "\"\"\""
   ]
  },
  {
   "cell_type": "code",
   "execution_count": 1,
   "metadata": {},
   "outputs": [],
   "source": [
    "from os import sys\n",
    "# sys.path.append(\"../../meshAfterParty/\")\n",
    "sys.path.append(\"../../meshAfterParty/\")\n",
    "#sys.path.append(\"../../MeshParty/\")\n",
    "from importlib import reload\n",
    "import os\n",
    "from pathlib import Path\n",
    "os.getcwd()\n",
    "\n",
    "\n",
    "import neuron_utils as nru\n",
    "nru = reload(nru)\n",
    "import neuron\n",
    "neuron=reload(neuron)\n",
    "\n",
    "import system_utils as su"
   ]
  },
  {
   "cell_type": "code",
   "execution_count": 7,
   "metadata": {},
   "outputs": [
    {
     "data": {
      "text/plain": [
       "['__builtins__',\n",
       " '__cached__',\n",
       " '__doc__',\n",
       " '__file__',\n",
       " '__loader__',\n",
       " '__name__',\n",
       " '__package__',\n",
       " '__path__',\n",
       " '__spec__',\n",
       " '__version__']"
      ]
     },
     "execution_count": 7,
     "metadata": {},
     "output_type": "execute_result"
    }
   ],
   "source": [
    "dir(meshparty)"
   ]
  },
  {
   "cell_type": "markdown",
   "metadata": {},
   "source": [
    "# Getting the Neuron to process"
   ]
  },
  {
   "cell_type": "code",
   "execution_count": 2,
   "metadata": {},
   "outputs": [
    {
     "data": {
      "text/plain": [
       "<neuron.Neuron at 0x7f965adfc470>"
      ]
     },
     "execution_count": 2,
     "metadata": {},
     "output_type": "execute_result"
    }
   ],
   "source": [
    "compressed_neuron_path = Path(\"../test_neurons/test_objects/12345_2_soma_practice_decompress\")\n",
    "\n",
    "\n",
    "with su.suppress_stdout_stderr():\n",
    "    recovered_neuron = nru.decompress_neuron(filepath=compressed_neuron_path,\n",
    "                      original_mesh=compressed_neuron_path)\n",
    "\n",
    "recovered_neuron"
   ]
  },
  {
   "cell_type": "code",
   "execution_count": 3,
   "metadata": {},
   "outputs": [
    {
     "data": {
      "application/vnd.jupyter.widget-view+json": {
       "model_id": "38307805a9264180bfc3970343fb44ee",
       "version_major": 2,
       "version_minor": 0
      },
      "text/plain": [
       "VBox(children=(Figure(camera=PerspectiveCamera(fov=46.0, position=(0.0, 0.0, 2.0), quaternion=(0.0, 0.0, 0.0, …"
      ]
     },
     "metadata": {},
     "output_type": "display_data"
    }
   ],
   "source": [
    "import skeleton_utils as sk\n",
    "current_limb = recovered_neuron.concept_network.nodes[\"L1\"][\"data\"]\n",
    "sk.graph_skeleton_and_mesh(other_meshes=[current_limb.mesh])"
   ]
  },
  {
   "cell_type": "code",
   "execution_count": 8,
   "metadata": {},
   "outputs": [
    {
     "name": "stderr",
     "output_type": "stream",
     "text": [
      "WARNING:root:Need to pip install annotationframeworkclient to repair mesh with pychunkedgraph\n",
      "WARNING:root:Need to pip install annotationframeworkclient to use dataset_name parameters\n"
     ]
    }
   ],
   "source": [
    "from meshparty import trimesh_io"
   ]
  },
  {
   "cell_type": "code",
   "execution_count": 9,
   "metadata": {},
   "outputs": [],
   "source": [
    "limb_object = trimesh_io.Mesh(vertices = current_limb.mesh.vertices,\n",
    "                                       faces = current_limb.mesh.faces,\n",
    "                                       normals=current_limb.mesh.face_normals)"
   ]
  },
  {
   "cell_type": "code",
   "execution_count": 10,
   "metadata": {},
   "outputs": [
    {
     "name": "stderr",
     "output_type": "stream",
     "text": [
      "  0%|          | 0/1 [00:00<?, ?it/s]\n",
      "  0%|          | 0/87662 [00:00<?, ?it/s]\u001b[A\n",
      " 50%|█████     | 43961/87662 [00:00<00:00, 300204.33it/s]\u001b[A\n",
      " 66%|██████▌   | 57687/87662 [00:00<00:00, 213645.49it/s]\u001b[A\n",
      " 83%|████████▎ | 72989/87662 [00:00<00:00, 109857.12it/s]\u001b[A\n",
      "100%|██████████| 87662/87662 [00:01<00:00, 64876.60it/s] \u001b[A\n",
      "100%|██████████| 1/1 [00:01<00:00,  1.51s/it]\n"
     ]
    }
   ],
   "source": [
    "import meshparty.skeletonize as skel\n",
    "\n",
    "\n",
    "limb_skeleton = skel.skeletonize_mesh(limb_object, soma_pt=None, soma_radius=7500, collapse_soma=False,\n",
    "                     invalidation_d=12000, smooth_vertices=False, compute_radius=False,\n",
    "                     compute_original_index=True, cc_vertex_thresh=100, verbose=True)\n",
    "\n",
    "extracted_skeleton = limb_skeleton.vertices[limb_skeleton.edges]\n"
   ]
  },
  {
   "cell_type": "markdown",
   "metadata": {},
   "source": [
    "# Skeleton Tutorial"
   ]
  },
  {
   "cell_type": "markdown",
   "metadata": {},
   "source": [
    "# --- mesh_to_skel: mesh vertices to skeleton vertices"
   ]
  },
  {
   "cell_type": "code",
   "execution_count": 20,
   "metadata": {},
   "outputs": [
    {
     "data": {
      "text/plain": [
       "((87663,), (87663, 3))"
      ]
     },
     "execution_count": 20,
     "metadata": {},
     "output_type": "execute_result"
    }
   ],
   "source": [
    "# the mesh_to_skel mapping (maps original vertices to skeleton vertices)\n",
    "limb_skeleton.mesh_to_skel_map.shape, limb_object.vertices.shape"
   ]
  },
  {
   "cell_type": "markdown",
   "metadata": {},
   "source": [
    "# -- segments: list of skeleton vertices belonging to one branch"
   ]
  },
  {
   "cell_type": "code",
   "execution_count": 26,
   "metadata": {},
   "outputs": [
    {
     "data": {
      "text/plain": [
       "((5691,), (5691, 3), 45)"
      ]
     },
     "execution_count": 26,
     "metadata": {},
     "output_type": "execute_result"
    }
   ],
   "source": [
    "#The limb segments show that the skeleton vertices are broken down into branches if need be\n",
    "import numpy as np\n",
    "np.concatenate(limb_skeleton.segments).shape, limb_skeleton.vertices.shape, "
   ]
  },
  {
   "cell_type": "markdown",
   "metadata": {},
   "source": [
    "# -- segment_map: skeleton vertices to segment"
   ]
  },
  {
   "cell_type": "code",
   "execution_count": 27,
   "metadata": {},
   "outputs": [
    {
     "data": {
      "text/plain": [
       "((5691,), 44, 45)"
      ]
     },
     "execution_count": 27,
     "metadata": {},
     "output_type": "execute_result"
    }
   ],
   "source": [
    "#The limb segments show that the skeleton vertices are broken down into branches if need be\n",
    "import numpy as np\n",
    "limb_skeleton.segment_map.shape, np.max(limb_skeleton.segment_map), len(limb_skeleton.segments)"
   ]
  },
  {
   "cell_type": "markdown",
   "metadata": {},
   "source": [
    "# Working with root node"
   ]
  },
  {
   "cell_type": "code",
   "execution_count": 39,
   "metadata": {},
   "outputs": [
    {
     "ename": "AttributeError",
     "evalue": "csgraph not found",
     "output_type": "error",
     "traceback": [
      "\u001b[0;31m---------------------------------------------------------------------------\u001b[0m",
      "\u001b[0;31mAttributeError\u001b[0m                            Traceback (most recent call last)",
      "\u001b[0;32m<ipython-input-39-c9537ca15d52>\u001b[0m in \u001b[0;36m<module>\u001b[0;34m\u001b[0m\n\u001b[1;32m      3\u001b[0m                               directed=True)\n\u001b[1;32m      4\u001b[0m \u001b[0;34m\u001b[0m\u001b[0m\n\u001b[0;32m----> 5\u001b[0;31m \u001b[0mreturned_sparse_matrix\u001b[0m\u001b[0;34m.\u001b[0m\u001b[0mcsgraph\u001b[0m\u001b[0;34m\u001b[0m\u001b[0;34m\u001b[0m\u001b[0m\n\u001b[0m",
      "\u001b[0;32m/usr/local/lib/python3.6/dist-packages/scipy/sparse/base.py\u001b[0m in \u001b[0;36m__getattr__\u001b[0;34m(self, attr)\u001b[0m\n\u001b[1;32m    685\u001b[0m             \u001b[0;32mreturn\u001b[0m \u001b[0mself\u001b[0m\u001b[0;34m.\u001b[0m\u001b[0mgetnnz\u001b[0m\u001b[0;34m(\u001b[0m\u001b[0;34m)\u001b[0m\u001b[0;34m\u001b[0m\u001b[0;34m\u001b[0m\u001b[0m\n\u001b[1;32m    686\u001b[0m         \u001b[0;32melse\u001b[0m\u001b[0;34m:\u001b[0m\u001b[0;34m\u001b[0m\u001b[0;34m\u001b[0m\u001b[0m\n\u001b[0;32m--> 687\u001b[0;31m             \u001b[0;32mraise\u001b[0m \u001b[0mAttributeError\u001b[0m\u001b[0;34m(\u001b[0m\u001b[0mattr\u001b[0m \u001b[0;34m+\u001b[0m \u001b[0;34m\" not found\"\u001b[0m\u001b[0;34m)\u001b[0m\u001b[0;34m\u001b[0m\u001b[0;34m\u001b[0m\u001b[0m\n\u001b[0m\u001b[1;32m    688\u001b[0m \u001b[0;34m\u001b[0m\u001b[0m\n\u001b[1;32m    689\u001b[0m     \u001b[0;32mdef\u001b[0m \u001b[0mtranspose\u001b[0m\u001b[0;34m(\u001b[0m\u001b[0mself\u001b[0m\u001b[0;34m,\u001b[0m \u001b[0maxes\u001b[0m\u001b[0;34m=\u001b[0m\u001b[0;32mNone\u001b[0m\u001b[0;34m,\u001b[0m \u001b[0mcopy\u001b[0m\u001b[0;34m=\u001b[0m\u001b[0;32mFalse\u001b[0m\u001b[0;34m)\u001b[0m\u001b[0;34m:\u001b[0m\u001b[0;34m\u001b[0m\u001b[0;34m\u001b[0m\u001b[0m\n",
      "\u001b[0;31mAttributeError\u001b[0m: csgraph not found"
     ]
    }
   ],
   "source": [
    "returned_sparse_matrix = meshparty.utils.create_csgraph(limb_skeleton.vertices,limb_skeleton.edges,\n",
    "                              euclidean_weight = True,\n",
    "                              directed=True)\n",
    "\n",
    "returned_sparse_matrix.csgraph"
   ]
  },
  {
   "cell_type": "code",
   "execution_count": 41,
   "metadata": {},
   "outputs": [
    {
     "data": {
      "text/plain": [
       "5"
      ]
     },
     "execution_count": 41,
     "metadata": {},
     "output_type": "execute_result"
    }
   ],
   "source": [
    "import scipy\n",
    "dsn,pred = scipy.sparse.csgraph.dijkstra(limb_skeleton.csgraph,return_predecessors=True)\n",
    "dsn.shape, limb_skeleton.vertices.shape"
   ]
  },
  {
   "cell_type": "markdown",
   "metadata": {},
   "source": [
    "# Visualizing the skeleton endpoints and branch points"
   ]
  },
  {
   "cell_type": "code",
   "execution_count": 73,
   "metadata": {},
   "outputs": [
    {
     "data": {
      "text/plain": [
       "array([[ 820653.2, 1006871. ,  862538.4],\n",
       "       [ 829318.6, 1011721. ,  855262.4],\n",
       "       [ 846551.4,  998493.9,  862480.3],\n",
       "       [ 815535.6, 1002435. ,  865409.1],\n",
       "       [ 777495.2, 1027902. ,  844597.4],\n",
       "       [ 653983.8, 1066320. ,  847478.2],\n",
       "       [ 808532.8,  969424.8,  863596.8],\n",
       "       [ 751811.2, 1034690. ,  841723.8],\n",
       "       [ 865978.4, 1037040. ,  830443.1],\n",
       "       [ 810883.8, 1017888. ,  850808.9],\n",
       "       [ 812447.2, 1017466. ,  851035.6],\n",
       "       [ 834785.9, 1008575. ,  858022.4],\n",
       "       [ 740048.9, 1036667. ,  840557.6],\n",
       "       [ 866218.3, 1034524. ,  829425.6],\n",
       "       [ 844418.5, 1000885. ,  861691.6],\n",
       "       [ 795976.5, 1005431. ,  865267.1],\n",
       "       [ 740926.5, 1038806. ,  839698.2],\n",
       "       [ 621561.1, 1079942. ,  847227.7],\n",
       "       [ 812805.9, 1017162. ,  850446. ],\n",
       "       [ 783709.7,  967298.2,  880497. ],\n",
       "       [ 819636.3, 1006324. ,  862835.8],\n",
       "       [ 812673.1, 1017186. ,  850520.1]])"
      ]
     },
     "execution_count": 73,
     "metadata": {},
     "output_type": "execute_result"
    }
   ],
   "source": []
  },
  {
   "cell_type": "code",
   "execution_count": 91,
   "metadata": {},
   "outputs": [
    {
     "data": {
      "text/plain": [
       "array([ 1, 21,  0,  4, 20, 14, 18,  8, 11, 22,  5,  9,  2, 10, 19,  3, 16,\n",
       "       12, 15,  7,  6, 17, 13])"
      ]
     },
     "execution_count": 91,
     "metadata": {},
     "output_type": "execute_result"
    }
   ],
   "source": [
    "curr_dist_to_root = limb_skeleton.distance_to_root[limb_skeleton.end_points]\n",
    "np.argsort(curr_dist_to_root)"
   ]
  },
  {
   "cell_type": "code",
   "execution_count": 92,
   "metadata": {},
   "outputs": [
    {
     "data": {
      "text/plain": [
       "(101500.21876525879, 239378.97985458374)"
      ]
     },
     "execution_count": 92,
     "metadata": {},
     "output_type": "execute_result"
    }
   ],
   "source": [
    "curr_dist_to_root[1], curr_dist_to_root[0]"
   ]
  },
  {
   "cell_type": "code",
   "execution_count": 95,
   "metadata": {},
   "outputs": [
    {
     "data": {
      "text/plain": [
       "2472"
      ]
     },
     "execution_count": 95,
     "metadata": {},
     "output_type": "execute_result"
    }
   ],
   "source": [
    "limb_skeleton.parent_node(1)#limb_skeleton.root)"
   ]
  },
  {
   "cell_type": "code",
   "execution_count": 93,
   "metadata": {},
   "outputs": [
    {
     "data": {
      "text/plain": [
       "5240"
      ]
     },
     "execution_count": 93,
     "metadata": {},
     "output_type": "execute_result"
    }
   ],
   "source": [
    "limb_skeleton.root"
   ]
  },
  {
   "cell_type": "code",
   "execution_count": 83,
   "metadata": {},
   "outputs": [
    {
     "data": {
      "application/vnd.jupyter.widget-view+json": {
       "model_id": "5f2020d6094e4f52b94881dfeaa921a8",
       "version_major": 2,
       "version_minor": 0
      },
      "text/plain": [
       "VBox(children=(Figure(camera=PerspectiveCamera(fov=46.0, position=(0.0, 0.0, 2.0), quaternion=(0.0, 0.0, 0.0, …"
      ]
     },
     "metadata": {},
     "output_type": "display_data"
    }
   ],
   "source": [
    "sk.graph_skeleton_and_mesh(\n",
    "    other_scatter=[limb_skeleton.vertices[limb_skeleton.branch_points],\n",
    "                  limb_skeleton.vertices[limb_skeleton.end_points],\n",
    "                   limb_skeleton.vertices[limb_skeleton.root].reshape(-1,3)\n",
    "                  ],\n",
    "    scatter_size=5,\n",
    "    other_scatter_colors=[\"red\",\"yellow\",\"pink\"],\n",
    "     other_skeletons=[extracted_skeleton]\n",
    ")"
   ]
  },
  {
   "cell_type": "markdown",
   "metadata": {},
   "source": [
    "# -- cut branches and downstream nodes"
   ]
  },
  {
   "cell_type": "code",
   "execution_count": 96,
   "metadata": {},
   "outputs": [
    {
     "data": {
      "text/plain": [
       "5240"
      ]
     },
     "execution_count": 96,
     "metadata": {},
     "output_type": "execute_result"
    }
   ],
   "source": [
    "limb_skeleton.root"
   ]
  },
  {
   "cell_type": "code",
   "execution_count": 107,
   "metadata": {},
   "outputs": [
    {
     "data": {
      "text/plain": [
       "[1,\n",
       " 2472,\n",
       " 844,\n",
       " 4615,\n",
       " 2450,\n",
       " 2029,\n",
       " 4462,\n",
       " 5056,\n",
       " 187,\n",
       " 384,\n",
       " 3121,\n",
       " 4803,\n",
       " 2267,\n",
       " 1984,\n",
       " 3018,\n",
       " 4741,\n",
       " 1317,\n",
       " 522,\n",
       " 2643,\n",
       " 3774,\n",
       " 2490,\n",
       " 740,\n",
       " 33,\n",
       " 99,\n",
       " 5676,\n",
       " 1433,\n",
       " 3997,\n",
       " 1153,\n",
       " 5177,\n",
       " 1092,\n",
       " 4098,\n",
       " 103,\n",
       " 5574,\n",
       " 1289,\n",
       " 182,\n",
       " 195,\n",
       " 5191,\n",
       " 2631,\n",
       " 2232,\n",
       " 1666,\n",
       " 3403,\n",
       " 4437,\n",
       " 4334,\n",
       " 2923,\n",
       " 5491,\n",
       " 5211,\n",
       " 658,\n",
       " 4623,\n",
       " 555,\n",
       " 4925,\n",
       " 616,\n",
       " 1634,\n",
       " 3072,\n",
       " 1898,\n",
       " 1864,\n",
       " 1067,\n",
       " 265,\n",
       " 1025,\n",
       " 4876,\n",
       " 1871,\n",
       " 289,\n",
       " 3201,\n",
       " 904,\n",
       " 2236,\n",
       " 2284,\n",
       " 5462,\n",
       " 965,\n",
       " 2276,\n",
       " 1388,\n",
       " 946,\n",
       " 776,\n",
       " 372,\n",
       " 1573,\n",
       " 3295,\n",
       " 2245,\n",
       " 1269,\n",
       " 4464,\n",
       " 2067,\n",
       " 4126,\n",
       " 908,\n",
       " 3673,\n",
       " 3813,\n",
       " 1105,\n",
       " 1912,\n",
       " 5017,\n",
       " 218,\n",
       " 4354,\n",
       " 1659,\n",
       " 1445,\n",
       " 2005,\n",
       " 461,\n",
       " 3219,\n",
       " 1730,\n",
       " 2293,\n",
       " 3249,\n",
       " 472,\n",
       " 3715,\n",
       " 192,\n",
       " 1305,\n",
       " 4046,\n",
       " 1923,\n",
       " 1399,\n",
       " 757,\n",
       " 3388,\n",
       " 2844,\n",
       " 1852,\n",
       " 1233,\n",
       " 944,\n",
       " 394,\n",
       " 1166,\n",
       " 858,\n",
       " 5439,\n",
       " 4495,\n",
       " 4743,\n",
       " 1273,\n",
       " 5527,\n",
       " 1234,\n",
       " 1229,\n",
       " 4279,\n",
       " 3348,\n",
       " 4753,\n",
       " 3282,\n",
       " 2813,\n",
       " 1888,\n",
       " 5232,\n",
       " 5509,\n",
       " 35,\n",
       " 55,\n",
       " 1684,\n",
       " 3493,\n",
       " 3776,\n",
       " 1747,\n",
       " 2724,\n",
       " 5401,\n",
       " 3828,\n",
       " 1031,\n",
       " 3044,\n",
       " 982,\n",
       " 2878,\n",
       " 4032,\n",
       " 4982,\n",
       " 994,\n",
       " 2168,\n",
       " 4127,\n",
       " 1356,\n",
       " 2967,\n",
       " 4304,\n",
       " 5608,\n",
       " 2588,\n",
       " 5118,\n",
       " 362,\n",
       " 3768,\n",
       " 2289,\n",
       " 1915,\n",
       " 4172,\n",
       " 1056,\n",
       " 2853,\n",
       " 3701,\n",
       " 1794,\n",
       " 3936,\n",
       " 3553,\n",
       " 4012,\n",
       " 3173,\n",
       " 54,\n",
       " 682,\n",
       " 2985,\n",
       " 4042,\n",
       " 2483,\n",
       " 1632,\n",
       " 2402,\n",
       " 1484,\n",
       " 5657,\n",
       " 4825,\n",
       " 498,\n",
       " 2986,\n",
       " 308,\n",
       " 3392,\n",
       " 2238,\n",
       " 2780,\n",
       " 3991,\n",
       " 3675,\n",
       " 4048,\n",
       " 2879,\n",
       " 2063,\n",
       " 1536,\n",
       " 2370,\n",
       " 5365,\n",
       " 3588,\n",
       " 654,\n",
       " 3319,\n",
       " 4332,\n",
       " 4353,\n",
       " 89,\n",
       " 179,\n",
       " 5079,\n",
       " 5108,\n",
       " 128,\n",
       " 211,\n",
       " 4833,\n",
       " 3657,\n",
       " 536,\n",
       " 5296,\n",
       " 3248,\n",
       " 4736,\n",
       " 3987,\n",
       " 3951,\n",
       " 1745,\n",
       " 5015,\n",
       " 3150,\n",
       " 4554,\n",
       " 4455,\n",
       " 5013,\n",
       " 4024,\n",
       " 5031,\n",
       " 1985,\n",
       " 1005,\n",
       " 860,\n",
       " 496,\n",
       " 5620,\n",
       " 4863,\n",
       " 713,\n",
       " 257,\n",
       " 5153,\n",
       " 4259,\n",
       " 3405,\n",
       " 1825,\n",
       " 4717,\n",
       " 12,\n",
       " 4157,\n",
       " 3034,\n",
       " 3315,\n",
       " 5253,\n",
       " 1174,\n",
       " 4177,\n",
       " 915,\n",
       " 2977,\n",
       " 3228,\n",
       " 3539,\n",
       " 2776,\n",
       " 1200,\n",
       " 1483,\n",
       " 5004,\n",
       " 3487,\n",
       " 2518,\n",
       " 2121,\n",
       " 4190,\n",
       " 3447,\n",
       " 1547,\n",
       " 2446,\n",
       " 1501,\n",
       " 2999,\n",
       " 4313,\n",
       " 4704,\n",
       " 2292,\n",
       " 3886,\n",
       " 4991,\n",
       " 3450,\n",
       " 5352,\n",
       " 2481,\n",
       " 4424,\n",
       " 2162,\n",
       " 3015,\n",
       " 4606,\n",
       " 669,\n",
       " 5147,\n",
       " 1157,\n",
       " 4286,\n",
       " 1767,\n",
       " 4399,\n",
       " 2615,\n",
       " 4669,\n",
       " 2763,\n",
       " 479,\n",
       " 2617,\n",
       " 4499,\n",
       " 5162,\n",
       " 4235,\n",
       " 872,\n",
       " 3192,\n",
       " 4267,\n",
       " 3443,\n",
       " 5214,\n",
       " 1350,\n",
       " 826,\n",
       " 78,\n",
       " 4138,\n",
       " 4289,\n",
       " 2769,\n",
       " 492,\n",
       " 4395,\n",
       " 4232,\n",
       " 4303,\n",
       " 950,\n",
       " 2171,\n",
       " 4291,\n",
       " 4419,\n",
       " 594,\n",
       " 1754,\n",
       " 3607,\n",
       " 405,\n",
       " 175,\n",
       " 964,\n",
       " 2257,\n",
       " 5098,\n",
       " 160,\n",
       " 4619,\n",
       " 892,\n",
       " 310,\n",
       " 1596,\n",
       " 794,\n",
       " 4565,\n",
       " 5027,\n",
       " 3167,\n",
       " 230,\n",
       " 3298,\n",
       " 3738,\n",
       " 262,\n",
       " 2745,\n",
       " 2690,\n",
       " 2189,\n",
       " 1876,\n",
       " 2688,\n",
       " 3611,\n",
       " 4087,\n",
       " 109,\n",
       " 4740,\n",
       " 3674,\n",
       " 3803,\n",
       " 5141,\n",
       " 5346,\n",
       " 1724,\n",
       " 3325,\n",
       " 2680,\n",
       " 2132,\n",
       " 1609,\n",
       " 84,\n",
       " 4069,\n",
       " 2221,\n",
       " 3253,\n",
       " 5340,\n",
       " 3261,\n",
       " 2894,\n",
       " 5584,\n",
       " 3406,\n",
       " 1033,\n",
       " 1173,\n",
       " 3187,\n",
       " 3777,\n",
       " 3910,\n",
       " 4905,\n",
       " 2815,\n",
       " 2584,\n",
       " 3931,\n",
       " 526,\n",
       " 193,\n",
       " 1842,\n",
       " 807,\n",
       " 456,\n",
       " 3505,\n",
       " 1922,\n",
       " 1707,\n",
       " 3742,\n",
       " 430,\n",
       " 65,\n",
       " 46,\n",
       " 2027,\n",
       " 3898,\n",
       " 311,\n",
       " 4091,\n",
       " 92,\n",
       " 216,\n",
       " 14,\n",
       " 4020,\n",
       " 2398,\n",
       " 2645,\n",
       " 2896,\n",
       " 4549,\n",
       " 506,\n",
       " 3258,\n",
       " 20,\n",
       " 2744,\n",
       " 1786,\n",
       " 4379,\n",
       " 5532,\n",
       " 1274,\n",
       " 1972,\n",
       " 5592,\n",
       " 4674,\n",
       " 3793,\n",
       " 1661,\n",
       " 470,\n",
       " 2184,\n",
       " 0,\n",
       " 2460,\n",
       " 940,\n",
       " 3587,\n",
       " 338,\n",
       " 2905,\n",
       " 95,\n",
       " 1883,\n",
       " 1926,\n",
       " 1464,\n",
       " 2869,\n",
       " 856,\n",
       " 3206,\n",
       " 1882,\n",
       " 862,\n",
       " 885,\n",
       " 3417,\n",
       " 761,\n",
       " 1768,\n",
       " 353,\n",
       " 978,\n",
       " 2646,\n",
       " 127,\n",
       " 2324,\n",
       " 1443,\n",
       " 3683,\n",
       " 5219,\n",
       " 4716,\n",
       " 1304,\n",
       " 3652,\n",
       " 1756,\n",
       " 1687,\n",
       " 1315,\n",
       " 452,\n",
       " 809,\n",
       " 3330,\n",
       " 3498,\n",
       " 2223,\n",
       " 2124,\n",
       " 696,\n",
       " 1491,\n",
       " 5485,\n",
       " 5302,\n",
       " 626,\n",
       " 571,\n",
       " 4893,\n",
       " 4657,\n",
       " 2272,\n",
       " 304,\n",
       " 952,\n",
       " 1267,\n",
       " 3865,\n",
       " 3555,\n",
       " 3127,\n",
       " 1061,\n",
       " 4359,\n",
       " 2877,\n",
       " 3275,\n",
       " 3021,\n",
       " 1211,\n",
       " 595,\n",
       " 4898,\n",
       " 949,\n",
       " 3873,\n",
       " 4823,\n",
       " 130,\n",
       " 888,\n",
       " 5348,\n",
       " 3800,\n",
       " 1164,\n",
       " 1851,\n",
       " 1765,\n",
       " 4350,\n",
       " 330,\n",
       " 3471,\n",
       " 3170,\n",
       " 156,\n",
       " 1841,\n",
       " 3051,\n",
       " 692,\n",
       " 141,\n",
       " 1600,\n",
       " 3775,\n",
       " 1297,\n",
       " 3798,\n",
       " 4632,\n",
       " 188,\n",
       " 437,\n",
       " 3665,\n",
       " 4319,\n",
       " 2259,\n",
       " 1468,\n",
       " 702,\n",
       " 2604,\n",
       " 5076,\n",
       " 585,\n",
       " 2614,\n",
       " 4251,\n",
       " 2635,\n",
       " 1448,\n",
       " 1902,\n",
       " 278,\n",
       " 1778,\n",
       " 1672,\n",
       " 458,\n",
       " 272,\n",
       " 4517,\n",
       " 2831,\n",
       " 157,\n",
       " 3372,\n",
       " 4836,\n",
       " 1655,\n",
       " 3233,\n",
       " 286,\n",
       " 1738,\n",
       " 2634,\n",
       " 2526,\n",
       " 3737,\n",
       " 364,\n",
       " 2582,\n",
       " 828,\n",
       " 4443,\n",
       " 3905,\n",
       " 3096,\n",
       " 3371,\n",
       " 4865,\n",
       " 2739,\n",
       " 5428,\n",
       " 1508,\n",
       " 4621,\n",
       " 1856,\n",
       " 1395,\n",
       " 4617,\n",
       " 4085,\n",
       " 5055,\n",
       " 3395,\n",
       " 2628,\n",
       " 4194,\n",
       " 4374,\n",
       " 1685,\n",
       " 2822,\n",
       " 822,\n",
       " 3123,\n",
       " 2054,\n",
       " 4173,\n",
       " 1343,\n",
       " 1293,\n",
       " 2397,\n",
       " 82,\n",
       " 3697,\n",
       " 153,\n",
       " 3752,\n",
       " 841,\n",
       " 3743,\n",
       " 4607,\n",
       " 8,\n",
       " 3017,\n",
       " 2042,\n",
       " 71,\n",
       " 5092,\n",
       " 505,\n",
       " 3477,\n",
       " 4748,\n",
       " 2802,\n",
       " 3917,\n",
       " 2610,\n",
       " 1877,\n",
       " 3327,\n",
       " 1826,\n",
       " 117,\n",
       " 441,\n",
       " 1193,\n",
       " 3978,\n",
       " 5272,\n",
       " 3876,\n",
       " 4593,\n",
       " 3591,\n",
       " 1043,\n",
       " 4299,\n",
       " 1113,\n",
       " 2577,\n",
       " 3831,\n",
       " 2294,\n",
       " 59,\n",
       " 5310,\n",
       " 2563,\n",
       " 2261,\n",
       " 567,\n",
       " 3308,\n",
       " 4641,\n",
       " 1595,\n",
       " 4502,\n",
       " 5237,\n",
       " 2008,\n",
       " 4770,\n",
       " 639,\n",
       " 4670,\n",
       " 3022,\n",
       " 2101,\n",
       " 3065,\n",
       " 4343,\n",
       " 2079,\n",
       " 2701,\n",
       " 4475,\n",
       " 3149,\n",
       " 2713,\n",
       " 3326,\n",
       " 5299,\n",
       " 4239,\n",
       " 509,\n",
       " 5615,\n",
       " 208,\n",
       " 4397,\n",
       " 938,\n",
       " 2880,\n",
       " 5163,\n",
       " 4952,\n",
       " 1769,\n",
       " 992,\n",
       " 2826,\n",
       " 3862,\n",
       " 4792,\n",
       " 5652,\n",
       " 4338,\n",
       " 4193,\n",
       " 2605,\n",
       " 2059,\n",
       " 1111,\n",
       " 336,\n",
       " 5386,\n",
       " 2185,\n",
       " 5057,\n",
       " 560,\n",
       " 3155,\n",
       " 4537,\n",
       " 4873,\n",
       " 4277,\n",
       " 642,\n",
       " 2062,\n",
       " 4247,\n",
       " 3239,\n",
       " 1992,\n",
       " 369,\n",
       " 875,\n",
       " 3809,\n",
       " 4142,\n",
       " 2230,\n",
       " 3138,\n",
       " 1696,\n",
       " 3601,\n",
       " 4144,\n",
       " 4004,\n",
       " 3977,\n",
       " 2260,\n",
       " 52,\n",
       " 5434,\n",
       " 4791,\n",
       " 1541,\n",
       " 5122,\n",
       " 1265,\n",
       " 4957,\n",
       " 1900,\n",
       " 1127,\n",
       " 1313,\n",
       " 207,\n",
       " 4468,\n",
       " 3890,\n",
       " 1974,\n",
       " 4911,\n",
       " 4489,\n",
       " 226,\n",
       " 2299,\n",
       " 5675,\n",
       " 178,\n",
       " 4843,\n",
       " 1971,\n",
       " 2762,\n",
       " 5218,\n",
       " 4681,\n",
       " 1461,\n",
       " 549,\n",
       " 3213,\n",
       " 4600,\n",
       " 3048,\n",
       " 2077,\n",
       " 568,\n",
       " 2565,\n",
       " 2463,\n",
       " 3822,\n",
       " 2354,\n",
       " 1146,\n",
       " 4438,\n",
       " 2686,\n",
       " 1089,\n",
       " 4799,\n",
       " 3386,\n",
       " 4165,\n",
       " 4500,\n",
       " 2752,\n",
       " 5246,\n",
       " 1714,\n",
       " 4409,\n",
       " 2045,\n",
       " 2353,\n",
       " 4070,\n",
       " 556,\n",
       " 694,\n",
       " 5461,\n",
       " 1109,\n",
       " 3812,\n",
       " 4807,\n",
       " 5545,\n",
       " 5570,\n",
       " 985,\n",
       " 1086,\n",
       " 3411,\n",
       " 3969,\n",
       " 3622,\n",
       " 2332,\n",
       " 2268,\n",
       " 4120,\n",
       " 3908,\n",
       " 5581,\n",
       " 5520,\n",
       " 2138,\n",
       " 387,\n",
       " 755,\n",
       " 1055,\n",
       " 3895,\n",
       " 4260,\n",
       " 5596,\n",
       " 922,\n",
       " 1073,\n",
       " 2350,\n",
       " 1254,\n",
       " 7,\n",
       " 2488,\n",
       " 4811,\n",
       " 5385,\n",
       " 4034,\n",
       " 1440,\n",
       " 5561,\n",
       " 5403,\n",
       " 2387,\n",
       " 1967,\n",
       " 3556,\n",
       " 3637,\n",
       " 624,\n",
       " 1376,\n",
       " 4640,\n",
       " 3337,\n",
       " 1585,\n",
       " 63,\n",
       " 151,\n",
       " 4253,\n",
       " 1942,\n",
       " 4369,\n",
       " 3653,\n",
       " 4134,\n",
       " 1784,\n",
       " 227,\n",
       " 3843,\n",
       " 4729,\n",
       " 2767,\n",
       " 2235,\n",
       " 5625,\n",
       " 933,\n",
       " 268,\n",
       " 4491,\n",
       " 5631,\n",
       " 729,\n",
       " 2757,\n",
       " 1711,\n",
       " 3761,\n",
       " 1601,\n",
       " 3365,\n",
       " 3589,\n",
       " 4527,\n",
       " 1372,\n",
       " 3897,\n",
       " 4310,\n",
       " 4187,\n",
       " 1790,\n",
       " 1594,\n",
       " 2521,\n",
       " 743,\n",
       " 1998,\n",
       " 1569,\n",
       " 557,\n",
       " 3731,\n",
       " 3480,\n",
       " 532,\n",
       " 2,\n",
       " 3198,\n",
       " 5224,\n",
       " 1106,\n",
       " 5684,\n",
       " 3707,\n",
       " 1544,\n",
       " 5023,\n",
       " 4331,\n",
       " 3930,\n",
       " 1723,\n",
       " 154,\n",
       " 840,\n",
       " 836,\n",
       " 684,\n",
       " 4119,\n",
       " 3401,\n",
       " 4226,\n",
       " 5638,\n",
       " 2428,\n",
       " 4243,\n",
       " 890,\n",
       " 2641,\n",
       " 4207,\n",
       " 2050,\n",
       " 2555,\n",
       " 2695,\n",
       " 3630,\n",
       " 1088,\n",
       " 2516,\n",
       " 4176,\n",
       " 3628,\n",
       " 4647,\n",
       " 1489,\n",
       " 5519,\n",
       " 3907,\n",
       " 3618,\n",
       " 1429,\n",
       " 3512,\n",
       " 5577,\n",
       " 3060,\n",
       " 2804,\n",
       " 5172,\n",
       " 5225,\n",
       " 3360,\n",
       " 744,\n",
       " 231,\n",
       " 4205,\n",
       " 3381,\n",
       " 2786,\n",
       " 581,\n",
       " 503,\n",
       " 5215,\n",
       " 2651,\n",
       " 3766,\n",
       " 2139,\n",
       " 2738,\n",
       " 629,\n",
       " 166,\n",
       " 3309,\n",
       " 1384,\n",
       " 4902,\n",
       " 2303,\n",
       " 5665,\n",
       " 2502,\n",
       " 4241,\n",
       " 1887,\n",
       " 2217,\n",
       " 2316,\n",
       " 1506,\n",
       " 5022,\n",
       " 3718,\n",
       " 3076,\n",
       " 1163,\n",
       " 803,\n",
       " 4221,\n",
       " 3332,\n",
       " 4265,\n",
       " 5047,\n",
       " 5594,\n",
       " 1107,\n",
       " 3626,\n",
       " 2573,\n",
       " 3185,\n",
       " 17,\n",
       " 4336,\n",
       " 1386,\n",
       " 4659,\n",
       " 3730,\n",
       " 3351,\n",
       " 5337,\n",
       " 5432,\n",
       " 4815,\n",
       " 4429,\n",
       " 1407,\n",
       " 697,\n",
       " 1920,\n",
       " 1529,\n",
       " 810,\n",
       " 2548,\n",
       " 5006,\n",
       " 4530,\n",
       " 5052,\n",
       " 4368,\n",
       " 1380,\n",
       " 584,\n",
       " 3896,\n",
       " 5483,\n",
       " 5441,\n",
       " 823,\n",
       " 2026,\n",
       " 1593,\n",
       " 4508,\n",
       " 2148,\n",
       " 4870,\n",
       " 963,\n",
       " 545,\n",
       " 928,\n",
       " 2777,\n",
       " 1201,\n",
       " 3136,\n",
       " 2511,\n",
       " 4487,\n",
       " 1591,\n",
       " 1249,\n",
       " 2939,\n",
       " 1240,\n",
       " 47,\n",
       " 4430,\n",
       " 3091,\n",
       " 5522,\n",
       " 4446,\n",
       " 4137,\n",
       " 3856,\n",
       " 3087,\n",
       " 4214,\n",
       " 4026,\n",
       " 1197,\n",
       " 3303,\n",
       " 459,\n",
       " 1621,\n",
       " 3918,\n",
       " 2528,\n",
       " 1693,\n",
       " 3726,\n",
       " 593,\n",
       " 2899,\n",
       " 3985,\n",
       " 1548,\n",
       " 5440,\n",
       " 2274,\n",
       " 2172,\n",
       " 2348,\n",
       " 3795,\n",
       " 4708,\n",
       " 2173,\n",
       " 1230,\n",
       " 2825,\n",
       " 3763,\n",
       " 4631,\n",
       " 4384,\n",
       " 4680,\n",
       " 2729,\n",
       " 4452,\n",
       " 2239,\n",
       " 5507,\n",
       " 4766,\n",
       " 2884,\n",
       " 4202,\n",
       " 1064,\n",
       " 4782,\n",
       " 1805,\n",
       " 2019,\n",
       " 3950,\n",
       " 996,\n",
       " 1533,\n",
       " 4733,\n",
       " 3911,\n",
       " 1414,\n",
       " 3467,\n",
       " 611,\n",
       " 614,\n",
       " 1934,\n",
       " 5417,\n",
       " 2874,\n",
       " 3727,\n",
       " 4234,\n",
       " 3083,\n",
       " 313,\n",
       " 2531,\n",
       " 306,\n",
       " 4577,\n",
       " 246,\n",
       " 3426,\n",
       " 4240,\n",
       " 1837,\n",
       " 5051,\n",
       " 2046,\n",
       " 232,\n",
       " 919,\n",
       " 1063,\n",
       " 4488,\n",
       " 4292,\n",
       " 5368,\n",
       " 3996,\n",
       " 1430,\n",
       " 5463,\n",
       " 5378,\n",
       " 1583,\n",
       " 4589,\n",
       " 4757,\n",
       " 832,\n",
       " 22,\n",
       " 1746,\n",
       " 5679,\n",
       " 5379,\n",
       " ...]"
      ]
     },
     "execution_count": 107,
     "metadata": {},
     "output_type": "execute_result"
    }
   ],
   "source": [
    "2922\n",
    "current_path_to_root = limb_skeleton.path_to_root(1)\n",
    "list(current_path_to_root)"
   ]
  },
  {
   "cell_type": "code",
   "execution_count": 111,
   "metadata": {},
   "outputs": [
    {
     "data": {
      "text/plain": [
       "array([ 477,  781, 1222, 1277, 1442, 1588, 1775, 1810, 2020, 2368, 2911,\n",
       "       3117, 3343, 3807, 3920, 3928, 3984, 4483, 4525, 4773, 4879, 5025,\n",
       "       5169])"
      ]
     },
     "execution_count": 111,
     "metadata": {},
     "output_type": "execute_result"
    }
   ],
   "source": [
    "limb_skeleton.end_points"
   ]
  },
  {
   "cell_type": "code",
   "execution_count": 123,
   "metadata": {},
   "outputs": [
    {
     "data": {
      "text/plain": [
       "array([ 102,  184,  293,  297,  303,  332,  339,  352,  402,  431,  440,\n",
       "        519,  605,  653,  675,  733,  842,  865, 1161, 1171, 1277, 1292,\n",
       "       1296, 1336, 1365, 1367, 1402, 1449, 1498, 1521, 1537, 1559, 1579,\n",
       "       1657, 1662, 1728, 1838, 1873, 1879, 1906, 2009, 2013, 2039, 2071,\n",
       "       2113, 2125, 2134, 2195, 2219, 2246, 2262, 2286, 2301, 2313, 2373,\n",
       "       2385, 2475, 2494, 2530, 2552, 2562, 2621, 2689, 2707, 2781, 2791,\n",
       "       2809, 2836, 2839, 2883, 2943, 2961, 3013, 3142, 3177, 3247, 3407,\n",
       "       3446, 3515, 3528, 3570, 3571, 3830, 3929, 3943, 3983, 4096, 4116,\n",
       "       4208, 4209, 4280, 4311, 4356, 4387, 4608, 4703, 4722, 4725, 4927,\n",
       "       4986, 5032, 5109, 5117, 5130, 5146, 5424, 5435, 5443, 5474, 5647,\n",
       "       5660, 5680])"
      ]
     },
     "execution_count": 123,
     "metadata": {},
     "output_type": "execute_result"
    }
   ],
   "source": [
    "limb_skeleton.downstream_nodes(5424)"
   ]
  },
  {
   "cell_type": "code",
   "execution_count": null,
   "metadata": {},
   "outputs": [],
   "source": [
    "limb_skeleton"
   ]
  },
  {
   "cell_type": "code",
   "execution_count": 128,
   "metadata": {},
   "outputs": [
    {
     "data": {
      "text/plain": [
       "(111.48408, 0.0)"
      ]
     },
     "execution_count": 128,
     "metadata": {},
     "output_type": "execute_result"
    }
   ],
   "source": [
    "limb_skeleton.csgraph[477,5455],limb_skeleton.csgraph[5455,477]"
   ]
  },
  {
   "cell_type": "code",
   "execution_count": 126,
   "metadata": {},
   "outputs": [
    {
     "data": {
      "text/plain": [
       "array([[ 477, 5455]])"
      ]
     },
     "execution_count": 126,
     "metadata": {},
     "output_type": "execute_result"
    }
   ],
   "source": [
    "limb_skeleton.edges[np.where(limb_skeleton.edges[:,0] == 477)[0]]"
   ]
  },
  {
   "cell_type": "code",
   "execution_count": 129,
   "metadata": {},
   "outputs": [
    {
     "data": {
      "text/plain": [
       "(5690, 2)"
      ]
     },
     "execution_count": 129,
     "metadata": {},
     "output_type": "execute_result"
    }
   ],
   "source": [
    "limb_skeleton.edges.shape"
   ]
  },
  {
   "cell_type": "code",
   "execution_count": 130,
   "metadata": {},
   "outputs": [
    {
     "data": {
      "text/plain": [
       "(5691, 3)"
      ]
     },
     "execution_count": 130,
     "metadata": {},
     "output_type": "execute_result"
    }
   ],
   "source": [
    "limb_skeleton.vertices.shape"
   ]
  },
  {
   "cell_type": "markdown",
   "metadata": {},
   "source": [
    "# Working on Skeletonize"
   ]
  },
  {
   "cell_type": "code",
   "execution_count": 134,
   "metadata": {},
   "outputs": [
    {
     "data": {
      "text/plain": [
       "array([0.78268469, 0.53294745, 0.82264316, 1.40793313, 1.04565141,\n",
       "       1.07131435, 0.88430512, 1.03756003, 1.06038901])"
      ]
     },
     "execution_count": 134,
     "metadata": {},
     "output_type": "execute_result"
    }
   ],
   "source": [
    "np.linalg.norm(np.random.rand(9,3),axis=1)"
   ]
  },
  {
   "cell_type": "code",
   "execution_count": 135,
   "metadata": {},
   "outputs": [],
   "source": [
    "from scipy import sparse"
   ]
  },
  {
   "cell_type": "code",
   "execution_count": 150,
   "metadata": {},
   "outputs": [],
   "source": [
    "N = 5\n",
    "eye = sparse.csc_matrix((np.ones(N,dtype=np.float32),(np.arange(0,N),np.arange(0,N))),shape=(N,N))"
   ]
  },
  {
   "cell_type": "code",
   "execution_count": 151,
   "metadata": {},
   "outputs": [
    {
     "data": {
      "text/plain": [
       "array([[1., 0., 0., 0., 0.],\n",
       "       [0., 1., 0., 0., 0.],\n",
       "       [0., 0., 1., 0., 0.],\n",
       "       [0., 0., 0., 1., 0.],\n",
       "       [0., 0., 0., 0., 1.]], dtype=float32)"
      ]
     },
     "execution_count": 151,
     "metadata": {},
     "output_type": "execute_result"
    }
   ],
   "source": [
    "eye.toarray()"
   ]
  },
  {
   "cell_type": "code",
   "execution_count": 157,
   "metadata": {},
   "outputs": [],
   "source": [
    "C = sparse.csc_matrix(eye)\n",
    "CA = C.toarray()"
   ]
  },
  {
   "cell_type": "code",
   "execution_count": 156,
   "metadata": {},
   "outputs": [],
   "source": [
    "# defining the connectivity matrix\n",
    "A = np.array([[0,1,0,0,0],\n",
    "             [0,0,1,0,0],\n",
    "             [0,0,0,1,1],\n",
    "              [0,0,0,0,0],\n",
    "             [0,0,0,0,0]])\n",
    "S = A + A.T\n",
    "S "
   ]
  },
  {
   "cell_type": "code",
   "execution_count": 163,
   "metadata": {},
   "outputs": [
    {
     "data": {
      "text/plain": [
       "array([[1, 0, 1, 0, 0],\n",
       "       [0, 2, 0, 1, 1],\n",
       "       [1, 0, 3, 0, 0],\n",
       "       [0, 1, 0, 1, 1],\n",
       "       [0, 1, 0, 1, 1]])"
      ]
     },
     "execution_count": 163,
     "metadata": {},
     "output_type": "execute_result"
    }
   ],
   "source": [
    "np.linalg.matrix_power(S,2)"
   ]
  },
  {
   "cell_type": "code",
   "execution_count": 165,
   "metadata": {},
   "outputs": [
    {
     "data": {
      "text/plain": [
       "array([[1., 1., 0., 0., 0.],\n",
       "       [1., 1., 1., 0., 0.],\n",
       "       [0., 1., 1., 1., 1.],\n",
       "       [0., 0., 1., 1., 0.],\n",
       "       [0., 0., 1., 0., 1.]])"
      ]
     },
     "execution_count": 165,
     "metadata": {},
     "output_type": "execute_result"
    }
   ],
   "source": [
    "np.linalg.matrix_power(S + CA,1)"
   ]
  },
  {
   "cell_type": "code",
   "execution_count": 161,
   "metadata": {},
   "outputs": [
    {
     "data": {
      "text/plain": [
       "array([[2., 2., 1., 0., 0.],\n",
       "       [2., 3., 2., 1., 1.],\n",
       "       [1., 2., 4., 2., 2.],\n",
       "       [0., 1., 2., 2., 1.],\n",
       "       [0., 1., 2., 1., 2.]])"
      ]
     },
     "execution_count": 161,
     "metadata": {},
     "output_type": "execute_result"
    }
   ],
   "source": [
    "np.linalg.matrix_power(S + CA,2)"
   ]
  },
  {
   "cell_type": "code",
   "execution_count": 166,
   "metadata": {},
   "outputs": [
    {
     "data": {
      "text/plain": [
       "array([[ 4.,  5.,  3.,  1.,  1.],\n",
       "       [ 5.,  7.,  7.,  3.,  3.],\n",
       "       [ 3.,  7., 10.,  6.,  6.],\n",
       "       [ 1.,  3.,  6.,  4.,  3.],\n",
       "       [ 1.,  3.,  6.,  3.,  4.]])"
      ]
     },
     "execution_count": 166,
     "metadata": {},
     "output_type": "execute_result"
    }
   ],
   "source": [
    "D = np.linalg.matrix_power(S + CA,3)\n",
    "D"
   ]
  },
  {
   "cell_type": "code",
   "execution_count": 169,
   "metadata": {},
   "outputs": [
    {
     "data": {
      "text/plain": [
       "array([[1., 1., 1., 1., 1.],\n",
       "       [1., 1., 1., 1., 1.],\n",
       "       [1., 1., 1., 1., 1.],\n",
       "       [1., 1., 1., 1., 1.],\n",
       "       [1., 1., 1., 1., 1.]])"
      ]
     },
     "execution_count": 169,
     "metadata": {},
     "output_type": "execute_result"
    }
   ],
   "source": [
    "D = sparse.csc_matrix(D)\n",
    "D.sign().toarray()"
   ]
  },
  {
   "cell_type": "code",
   "execution_count": 177,
   "metadata": {},
   "outputs": [
    {
     "name": "stdout",
     "output_type": "stream",
     "text": [
      "[[1. 1. 1. 0. 0.]\n",
      " [1. 1. 1. 1. 1.]\n",
      " [1. 1. 1. 1. 1.]\n",
      " [0. 1. 1. 1. 1.]\n",
      " [0. 1. 1. 1. 1.]] [[0.33333333]\n",
      " [0.2       ]\n",
      " [0.2       ]\n",
      " [0.25      ]\n",
      " [0.25      ]]\n"
     ]
    }
   ],
   "source": [
    "C_current = sparse.csc_matrix(np.linalg.matrix_power(S + CA,2))\n",
    "C_current = C_current.sign()\n",
    "neighbors = np.sum(C_current,axis = 1)\n",
    "neighbors = 1/neighbors\n",
    "print(C_current.toarray(),neighbors)"
   ]
  },
  {
   "cell_type": "code",
   "execution_count": 189,
   "metadata": {},
   "outputs": [
    {
     "data": {
      "text/plain": [
       "array([[0.59504358, 0.59942038, 0.33271531],\n",
       "       [0.62176768, 0.58090391, 0.40698172],\n",
       "       [0.62176768, 0.58090391, 0.40698172],\n",
       "       [0.58005193, 0.63055384, 0.398194  ],\n",
       "       [0.58005193, 0.63055384, 0.398194  ]])"
      ]
     },
     "execution_count": 189,
     "metadata": {},
     "output_type": "execute_result"
    }
   ],
   "source": [
    "C_adjusted = C_current.multiply(neighbors)\n",
    "type(C_adjusted)\n",
    "C_adjusted*sparse.csc_matrix(np.random.rand(5,3)).toarray()"
   ]
  },
  {
   "cell_type": "code",
   "execution_count": 183,
   "metadata": {},
   "outputs": [
    {
     "data": {
      "text/plain": [
       "scipy.sparse.csc.csc_matrix"
      ]
     },
     "execution_count": 183,
     "metadata": {},
     "output_type": "execute_result"
    }
   ],
   "source": [
    "type(C_current)"
   ]
  },
  {
   "cell_type": "code",
   "execution_count": 190,
   "metadata": {},
   "outputs": [
    {
     "data": {
      "text/plain": [
       "0.96"
      ]
     },
     "execution_count": 190,
     "metadata": {},
     "output_type": "execute_result"
    }
   ],
   "source": [
    "time_per_job = \n",
    "90000 * "
   ]
  },
  {
   "cell_type": "code",
   "execution_count": null,
   "metadata": {},
   "outputs": [],
   "source": []
  }
 ],
 "metadata": {
  "kernelspec": {
   "display_name": "Python 3",
   "language": "python",
   "name": "python3"
  },
  "language_info": {
   "codemirror_mode": {
    "name": "ipython",
    "version": 3
   },
   "file_extension": ".py",
   "mimetype": "text/x-python",
   "name": "python",
   "nbconvert_exporter": "python",
   "pygments_lexer": "ipython3",
   "version": "3.6.9"
  }
 },
 "nbformat": 4,
 "nbformat_minor": 4
}
