{
 "cells": [
  {
   "cell_type": "code",
   "execution_count": null,
   "metadata": {},
   "outputs": [],
   "source": [
    "\"\"\"\n",
    "To see if there is a faster way of generating surface skeletons\n",
    "using what we learned from the meshparty module\n",
    "\n",
    "\"\"\""
   ]
  },
  {
   "cell_type": "code",
   "execution_count": 1,
   "metadata": {},
   "outputs": [],
   "source": [
    "from os import sys\n",
    "sys.path.append(\"/meshAfterParty/\")\n",
    "#sys.path.append(\"../../meshAfterParty/meshAfterParty\")"
   ]
  },
  {
   "cell_type": "code",
   "execution_count": 2,
   "metadata": {},
   "outputs": [
    {
     "name": "stderr",
     "output_type": "stream",
     "text": [
      "WARNING:root:Need to pip install annotationframeworkclient to repair mesh with pychunkedgraph\n",
      "WARNING:root:Need to pip install annotationframeworkclient to use dataset_name parameters\n"
     ]
    }
   ],
   "source": [
    "from importlib import reload\n",
    "import os\n",
    "from pathlib import Path\n",
    "os.getcwd()\n",
    "\n",
    "import neuron_utils as nru\n",
    "nru = reload(nru)\n",
    "import neuron\n",
    "neuron=reload(neuron)\n",
    "import neuron_visualizations as nviz\n",
    "import time"
   ]
  },
  {
   "cell_type": "code",
   "execution_count": 3,
   "metadata": {},
   "outputs": [],
   "source": [
    "import system_utils as su"
   ]
  },
  {
   "cell_type": "code",
   "execution_count": 4,
   "metadata": {},
   "outputs": [
    {
     "name": "stderr",
     "output_type": "stream",
     "text": [
      "WARNING:trimesh:face_normals all zero, ignoring!\n",
      "WARNING:trimesh:face_normals all zero, ignoring!\n",
      "WARNING:trimesh:face_normals all zero, ignoring!\n",
      "WARNING:trimesh:face_normals all zero, ignoring!\n",
      "WARNING:trimesh:face_normals all zero, ignoring!\n",
      "WARNING:trimesh:face_normals all zero, ignoring!\n",
      "WARNING:trimesh:face_normals all zero, ignoring!\n",
      "WARNING:trimesh:face_normals all zero, ignoring!\n",
      "WARNING:trimesh:face_normals all zero, ignoring!\n",
      "WARNING:trimesh:face_normals all zero, ignoring!\n",
      "WARNING:trimesh:face_normals all zero, ignoring!\n",
      "WARNING:trimesh:face_normals all zero, ignoring!\n",
      "WARNING:trimesh:face_normals all zero, ignoring!\n",
      "WARNING:trimesh:face_normals all zero, ignoring!\n",
      "WARNING:trimesh:face_normals all zero, ignoring!\n",
      "WARNING:trimesh:face_normals all zero, ignoring!\n",
      "WARNING:trimesh:face_normals all zero, ignoring!\n",
      "WARNING:trimesh:face_normals all zero, ignoring!\n",
      "WARNING:trimesh:face_normals all zero, ignoring!\n",
      "WARNING:trimesh:face_normals all zero, ignoring!\n",
      "WARNING:trimesh:face_normals all zero, ignoring!\n",
      "WARNING:trimesh:face_normals all zero, ignoring!\n",
      "WARNING:trimesh:face_normals all zero, ignoring!\n",
      "WARNING:trimesh:face_normals all zero, ignoring!\n",
      "WARNING:trimesh:face_normals all zero, ignoring!\n",
      "WARNING:trimesh:face_normals all zero, ignoring!\n",
      "WARNING:trimesh:face_normals all zero, ignoring!\n",
      "WARNING:trimesh:face_normals all zero, ignoring!\n",
      "WARNING:trimesh:face_normals all zero, ignoring!\n",
      "WARNING:trimesh:face_normals all zero, ignoring!\n",
      "WARNING:trimesh:face_normals all zero, ignoring!\n",
      "WARNING:trimesh:face_normals all zero, ignoring!\n",
      "WARNING:trimesh:face_normals all zero, ignoring!\n"
     ]
    }
   ],
   "source": [
    "nru = reload(nru)\n",
    "saved_file_location = \"/notebooks/test_neurons/preprocessed_neurons/meshafterparty/12345_double_soma_meshafterparty\"\n",
    "\n",
    "with su.suppress_stdout_stderr():\n",
    "    su.ignore_warnings()\n",
    "    uncompressed_neuron = nru.decompress_neuron(filepath=saved_file_location,\n",
    "                         original_mesh=saved_file_location)"
   ]
  },
  {
   "cell_type": "code",
   "execution_count": 5,
   "metadata": {},
   "outputs": [
    {
     "data": {
      "text/plain": [
       "'meshafterparty'"
      ]
     },
     "execution_count": 5,
     "metadata": {},
     "output_type": "execute_result"
    }
   ],
   "source": [
    "uncompressed_neuron.decomposition_type"
   ]
  },
  {
   "cell_type": "markdown",
   "metadata": {},
   "source": [
    "# Get an example mesh that want to find surface skeleton of "
   ]
  },
  {
   "cell_type": "code",
   "execution_count": 6,
   "metadata": {},
   "outputs": [],
   "source": [
    "branch_idx = 0\n",
    "ex_branch = uncompressed_neuron.concept_network.nodes[\"L0\"][\"data\"].concept_network.nodes[branch_idx][\"data\"]"
   ]
  },
  {
   "cell_type": "code",
   "execution_count": 10,
   "metadata": {},
   "outputs": [],
   "source": [
    "import skeleton_utils as sk"
   ]
  },
  {
   "cell_type": "code",
   "execution_count": 12,
   "metadata": {},
   "outputs": [
    {
     "name": "stdout",
     "output_type": "stream",
     "text": [
      "Total time for surface skeletonization = 16.837749481201172\n"
     ]
    },
    {
     "data": {
      "application/vnd.jupyter.widget-view+json": {
       "model_id": "c0463d81fbab412ab793d191a4a70001",
       "version_major": 2,
       "version_minor": 0
      },
      "text/plain": [
       "VBox(children=(Figure(camera=PerspectiveCamera(fov=46.0, position=(0.0, 0.0, 2.0), quaternion=(0.0, 0.0, 0.0, …"
      ]
     },
     "metadata": {},
     "output_type": "display_data"
    }
   ],
   "source": [
    "original_skeleton_time = time.time()\n",
    "after_surface_skeleton = sk.generate_surface_skeleton(ex_branch.mesh.vertices,\n",
    "                                                     ex_branch.mesh.faces)\n",
    "print(f\"Total time for surface skeletonization = {time.time() - original_skeleton_time}\")\n",
    "sk.graph_skeleton_and_mesh(other_meshes=[ex_branch.mesh],\n",
    "                          other_skeletons=[after_surface_skeleton])"
   ]
  },
  {
   "cell_type": "markdown",
   "metadata": {},
   "source": [
    "# Meshparty way of generating a surface skeleton (mainly using mesh teaser)"
   ]
  },
  {
   "cell_type": "code",
   "execution_count": 17,
   "metadata": {},
   "outputs": [],
   "source": [
    "from meshparty_skeletonize import *\n",
    "def setup_root(mesh, is_soma_pt=None, soma_d=None, is_valid=None):\n",
    "    \"\"\" function to find the root index to use for this mesh \"\"\"\n",
    "    if is_valid is not None:\n",
    "        valid = np.copy(is_valid)\n",
    "    else:\n",
    "        valid = np.ones(len(mesh.vertices), np.bool)\n",
    "    assert(len(valid) == mesh.vertices.shape[0])\n",
    "\n",
    "    root = None\n",
    "    # soma mode\n",
    "    if is_soma_pt is not None:\n",
    "        # pick the first soma as root\n",
    "        assert(len(soma_d) == mesh.vertices.shape[0])\n",
    "        assert(len(is_soma_pt) == mesh.vertices.shape[0])\n",
    "        is_valid_root = is_soma_pt & valid\n",
    "        valid_root_inds = np.where(is_valid_root)[0]\n",
    "        if len(valid_root_inds) > 0:\n",
    "            min_valid_root = np.nanargmin(soma_d[valid_root_inds])\n",
    "            root = valid_root_inds[min_valid_root]\n",
    "            root_ds, pred = sparse.csgraph.dijkstra(mesh.csgraph,\n",
    "                                                    directed=False,\n",
    "                                                    indices=root,\n",
    "                                                    return_predecessors=True)\n",
    "        else:\n",
    "            start_ind = np.where(valid)[0][0]\n",
    "            root, target, pred, dm, root_ds = utils.find_far_points(mesh,\n",
    "                                                                    start_ind=start_ind)\n",
    "        valid[is_soma_pt] = False\n",
    "\n",
    "    if root is None:\n",
    "        # there is no soma close, so use far point heuristic\n",
    "        start_ind = np.where(valid)[0][0]\n",
    "        root, target, pred, dm, root_ds = utils.find_far_points(\n",
    "            mesh, start_ind=start_ind)\n",
    "    valid[root] = False\n",
    "    assert(np.all(~np.isinf(root_ds[valid])))\n",
    "    return root, target,root_ds, pred, valid\n"
   ]
  },
  {
   "cell_type": "code",
   "execution_count": 30,
   "metadata": {},
   "outputs": [
    {
     "name": "stdout",
     "output_type": "stream",
     "text": [
      "Total time for surface skeletonization = 0.010904550552368164\n"
     ]
    }
   ],
   "source": [
    "import meshparty_skeletonize as m_sk\n",
    "import meshparty\n",
    "\n",
    "current_mesh = ex_branch.mesh\n",
    "\n",
    "meshparty_skeleton_time = time.time()\n",
    "branch_obj_tr_io  = meshparty.trimesh_io.Mesh(vertices = current_mesh.vertices,\n",
    "                                   faces = current_mesh.faces,\n",
    "                                   normals=current_mesh.face_normals)\n",
    "root, target,root_ds, root_pred, valid = setup_root(branch_obj_tr_io)\n",
    "\n",
    "current_path = utils.get_path(root,target,root_pred)\n",
    "\n",
    "surface_sk_edges = np.vstack([current_path[:-1],current_path[1:]]).T\n",
    "meshparty_surface_skeleton = branch_obj_tr_io.vertices[surface_sk_edges]\n",
    "meshparty_surface_skeleton\n",
    "print(f\"Total time for surface skeletonization = {time.time() - meshparty_skeleton_time}\")\n"
   ]
  },
  {
   "cell_type": "code",
   "execution_count": 31,
   "metadata": {},
   "outputs": [
    {
     "data": {
      "application/vnd.jupyter.widget-view+json": {
       "model_id": "6d1fc09631714ddeae9f006c2b95e2bf",
       "version_major": 2,
       "version_minor": 0
      },
      "text/plain": [
       "VBox(children=(Figure(camera=PerspectiveCamera(fov=46.0, position=(0.0, 0.0, 2.0), quaternion=(0.0, 0.0, 0.0, …"
      ]
     },
     "metadata": {},
     "output_type": "display_data"
    }
   ],
   "source": [
    "sk.graph_skeleton_and_mesh(other_meshes=[ex_branch.mesh],\n",
    "                          other_skeletons=[meshparty_surface_skeleton])"
   ]
  },
  {
   "cell_type": "markdown",
   "metadata": {},
   "source": [
    "# Works wayyyyy faster"
   ]
  },
  {
   "cell_type": "code",
   "execution_count": 36,
   "metadata": {},
   "outputs": [],
   "source": [
    "from skeleton_utils import downsample_skeleton\n",
    "\n",
    "def generate_surface_skeleton(vertices,\n",
    "                              faces, \n",
    "                              surface_samples=1000,\n",
    "                              n_surface_downsampling=0,\n",
    "                          print_flag=False):\n",
    "    \n",
    "    meshparty_skeleton_time = time.time()\n",
    "    branch_obj_tr_io  = meshparty.trimesh_io.Mesh(vertices = vertices,\n",
    "                                   faces=faces)\n",
    "    \n",
    "    root, target,root_ds, root_pred, valid = setup_root(branch_obj_tr_io)\n",
    "\n",
    "    current_path = utils.get_path(root,target,root_pred)\n",
    "\n",
    "    surface_sk_edges = np.vstack([current_path[:-1],current_path[1:]]).T\n",
    "    meshparty_surface_skeleton = branch_obj_tr_io.vertices[surface_sk_edges]\n",
    "    \n",
    "    if print_flag: \n",
    "        print(f\"Total time for surface skeletonization = {time.time() - meshparty_skeleton_time}\")\n",
    "    \n",
    "    for i in range(n_surface_downsampling):\n",
    "        meshparty_surface_skeleton = downsample_skeleton(meshparty_surface_skeleton)\n",
    "    \n",
    "    return meshparty_surface_skeleton"
   ]
  },
  {
   "cell_type": "markdown",
   "metadata": {},
   "source": [
    "# Comparing 2 methods"
   ]
  },
  {
   "cell_type": "code",
   "execution_count": 39,
   "metadata": {},
   "outputs": [
    {
     "name": "stdout",
     "output_type": "stream",
     "text": [
      "Total time for surface skeletonization = 16.90719771385193\n"
     ]
    }
   ],
   "source": [
    "meshparty_skeleton_time = time.time()\n",
    "sk.generate_surface_skeleton(ex_branch.mesh.vertices,\n",
    "                            ex_branch.mesh.faces)\n",
    "print(f\"Total time for surface skeletonization = {time.time() - meshparty_skeleton_time}\")\n"
   ]
  },
  {
   "cell_type": "code",
   "execution_count": 43,
   "metadata": {},
   "outputs": [
    {
     "name": "stdout",
     "output_type": "stream",
     "text": [
      "Total time for surface skeletonization = 0.013512134552001953\n"
     ]
    }
   ],
   "source": [
    "meshparty_skeleton_time = time.time()\n",
    "\n",
    "new_skeleton = generate_surface_skeleton(ex_branch.mesh.vertices,\n",
    "                              ex_branch.mesh.faces, \n",
    "                              surface_samples=1000,\n",
    "                              n_surface_downsampling=4,\n",
    "                          print_flag=False)\n",
    "print(f\"Total time for surface skeletonization = {time.time() - meshparty_skeleton_time}\")\n"
   ]
  },
  {
   "cell_type": "code",
   "execution_count": 44,
   "metadata": {},
   "outputs": [
    {
     "data": {
      "application/vnd.jupyter.widget-view+json": {
       "model_id": "58c89dab5bdc40029e6f5974fcface44",
       "version_major": 2,
       "version_minor": 0
      },
      "text/plain": [
       "VBox(children=(Figure(camera=PerspectiveCamera(fov=46.0, position=(0.0, 0.0, 2.0), quaternion=(0.0, 0.0, 0.0, …"
      ]
     },
     "metadata": {},
     "output_type": "display_data"
    }
   ],
   "source": [
    "sk.graph_skeleton_and_mesh(other_meshes=[ex_branch.mesh],\n",
    "                          other_skeletons=[new_skeleton])"
   ]
  },
  {
   "cell_type": "code",
   "execution_count": null,
   "metadata": {},
   "outputs": [],
   "source": []
  }
 ],
 "metadata": {
  "kernelspec": {
   "display_name": "Python 3",
   "language": "python",
   "name": "python3"
  },
  "language_info": {
   "codemirror_mode": {
    "name": "ipython",
    "version": 3
   },
   "file_extension": ".py",
   "mimetype": "text/x-python",
   "name": "python",
   "nbconvert_exporter": "python",
   "pygments_lexer": "ipython3",
   "version": "3.6.9"
  }
 },
 "nbformat": 4,
 "nbformat_minor": 4
}
