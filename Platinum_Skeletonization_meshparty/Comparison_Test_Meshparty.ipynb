{
 "cells": [
  {
   "cell_type": "code",
   "execution_count": 1,
   "metadata": {},
   "outputs": [
    {
     "data": {
      "text/plain": [
       "'\\nPurpose: To compare the MeshParty and MeshAfterParty for \\n1) fit of skeletons\\n- accuracy / mistakes\\n- centerdness\\n- missed pieces\\n\\n2) Mesh correspondence\\n\\n3) Width measurements\\n\\n4) Robustness against self touches\\n\\n\\n'"
      ]
     },
     "execution_count": 1,
     "metadata": {},
     "output_type": "execute_result"
    }
   ],
   "source": [
    "\"\"\"\n",
    "Purpose: To compare the MeshParty and MeshAfterParty for \n",
    "1) fit of skeletons\n",
    "- accuracy / mistakes\n",
    "- centerdness\n",
    "- missed pieces\n",
    "\n",
    "2) Mesh correspondence\n",
    "\n",
    "3) Width measurements\n",
    "\n",
    "4) Robustness against self touches\n",
    "\n",
    "\n",
    "\"\"\""
   ]
  },
  {
   "cell_type": "markdown",
   "metadata": {},
   "source": [
    "# How to install pyembree: "
   ]
  },
  {
   "cell_type": "code",
   "execution_count": 2,
   "metadata": {},
   "outputs": [
    {
     "data": {
      "text/plain": [
       "'\\nhttps://github.com/GPUOpen-LibrariesAndSDKs/RadeonProRenderUSD/issues/2\\n\\n\\napt-get update\\napt-get install -y wget\\n\\n\\n\\nhttps://github.com/embree/embree#linux-and-macos (for the dependencies)\\n\\n#for the dependencies\\nsudo apt-get install -y cmake-curses-gui\\nsudo apt-get install -y libtbb-dev\\nsudo apt-get install -y libglfw3-dev\\n\\nThen run the following bash script (bash embree.bash)\\n\\n---------------------------\\nset -xe\\n\\u200b\\n# Fetch the archive from GitHub releases.\\nwget https://github.com/embree/embree/releases/download/v2.17.7/embree-2.17.7.x86_64.linux.tar.gz -O /tmp/embree.tar.gz -nv\\necho \"2c4bdacd8f3c3480991b99e85b8f584975ac181373a75f3e9675bf7efae501fe  /tmp/embree.tar.gz\" | sha256sum --check\\ntar -xzf /tmp/embree.tar.gz --strip-components=1 -C /usr/local\\n# remove archive\\nrm -rf /tmp/embree.tar.gz\\n\\u200b\\n# Install python bindings for embree (and upstream requirements).\\npip3 install --no-cache-dir numpy cython\\npip3 install --no-cache-dir https://github.com/scopatz/pyembree/releases/download/0.1.6/pyembree-0.1.6.tar.gz\\n\\n-------------------------------\\n\\n\\n\\n\\n\\n'"
      ]
     },
     "execution_count": 2,
     "metadata": {},
     "output_type": "execute_result"
    }
   ],
   "source": [
    "\"\"\"\n",
    "https://github.com/GPUOpen-LibrariesAndSDKs/RadeonProRenderUSD/issues/2\n",
    "\n",
    "\n",
    "apt-get update\n",
    "apt-get install -y wget\n",
    "\n",
    "\n",
    "\n",
    "https://github.com/embree/embree#linux-and-macos (for the dependencies)\n",
    "\n",
    "#for the dependencies\n",
    "sudo apt-get install -y cmake-curses-gui\n",
    "sudo apt-get install -y libtbb-dev\n",
    "sudo apt-get install -y libglfw3-dev\n",
    "\n",
    "Then run the following bash script (bash embree.bash)\n",
    "\n",
    "---------------------------\n",
    "set -xe\n",
    "​\n",
    "# Fetch the archive from GitHub releases.\n",
    "wget https://github.com/embree/embree/releases/download/v2.17.7/embree-2.17.7.x86_64.linux.tar.gz -O /tmp/embree.tar.gz -nv\n",
    "echo \"2c4bdacd8f3c3480991b99e85b8f584975ac181373a75f3e9675bf7efae501fe  /tmp/embree.tar.gz\" | sha256sum --check\n",
    "tar -xzf /tmp/embree.tar.gz --strip-components=1 -C /usr/local\n",
    "# remove archive\n",
    "rm -rf /tmp/embree.tar.gz\n",
    "​\n",
    "# Install python bindings for embree (and upstream requirements).\n",
    "pip3 install --no-cache-dir numpy cython\n",
    "pip3 install --no-cache-dir https://github.com/scopatz/pyembree/releases/download/0.1.6/pyembree-0.1.6.tar.gz\n",
    "\n",
    "-------------------------------\n",
    "\n",
    "\n",
    "\n",
    "\n",
    "\n",
    "\"\"\""
   ]
  },
  {
   "cell_type": "code",
   "execution_count": null,
   "metadata": {},
   "outputs": [],
   "source": []
  },
  {
   "cell_type": "code",
   "execution_count": null,
   "metadata": {},
   "outputs": [],
   "source": []
  },
  {
   "cell_type": "code",
   "execution_count": 3,
   "metadata": {},
   "outputs": [],
   "source": [
    "from os import sys\n",
    "sys.path.append(\"../../meshAfterParty/\")\n",
    "from importlib import reload\n",
    "import os\n",
    "from pathlib import Path\n",
    "import time"
   ]
  },
  {
   "cell_type": "code",
   "execution_count": 4,
   "metadata": {},
   "outputs": [],
   "source": [
    "import neuron_utils as nru\n",
    "nru = reload(nru)\n",
    "import neuron\n",
    "neuron=reload(neuron)\n",
    "\n",
    "import system_utils as su"
   ]
  },
  {
   "cell_type": "code",
   "execution_count": 2,
   "metadata": {},
   "outputs": [],
   "source": [
    "import pyembree"
   ]
  },
  {
   "cell_type": "markdown",
   "metadata": {},
   "source": [
    "# Getting the Neuron to Process"
   ]
  },
  {
   "cell_type": "code",
   "execution_count": 5,
   "metadata": {},
   "outputs": [
    {
     "data": {
      "text/plain": [
       "<neuron.Neuron at 0x7f95f409cba8>"
      ]
     },
     "execution_count": 5,
     "metadata": {},
     "output_type": "execute_result"
    }
   ],
   "source": [
    "compressed_neuron_path = Path(\"../test_neurons/test_objects/12345_2_soma_practice_decompress\")\n",
    "\n",
    "\n",
    "with su.suppress_stdout_stderr():\n",
    "    recovered_neuron = nru.decompress_neuron(filepath=compressed_neuron_path,\n",
    "                      original_mesh=compressed_neuron_path)\n",
    "\n",
    "recovered_neuron"
   ]
  },
  {
   "cell_type": "code",
   "execution_count": 6,
   "metadata": {},
   "outputs": [
    {
     "data": {
      "image/png": "[encoded data removed]",
      "text/plain": [
       "<Figure size 432x288 with 1 Axes>"
      ]
     },
     "metadata": {},
     "output_type": "display_data"
    }
   ],
   "source": [
    "recovered_neuron.plot_soma_limb_concept_network()"
   ]
  },
  {
   "cell_type": "code",
   "execution_count": 7,
   "metadata": {},
   "outputs": [
    {
     "data": {
      "application/vnd.jupyter.widget-view+json": {
       "model_id": "ceab6cc3074d4f53b3ee2da088f428b5",
       "version_major": 2,
       "version_minor": 0
      },
      "text/plain": [
       "VBox(children=(Figure(camera=PerspectiveCamera(fov=46.0, position=(0.0, 0.0, 2.0), quaternion=(0.0, 0.0, 0.0, …"
      ]
     },
     "metadata": {},
     "output_type": "display_data"
    }
   ],
   "source": [
    "import skeleton_utils as sk\n",
    "limb_name = \"L2\"\n",
    "current_soma = \"S0\"\n",
    "limb_obj = recovered_neuron.concept_network.nodes[limb_name][\"data\"]\n",
    "sk.graph_skeleton_and_mesh(other_meshes=[limb_obj.mesh])"
   ]
  },
  {
   "cell_type": "markdown",
   "metadata": {},
   "source": [
    "# -- MeshAfterParty"
   ]
  },
  {
   "cell_type": "code",
   "execution_count": 8,
   "metadata": {},
   "outputs": [],
   "source": [
    "import skeleton_utils as sk\n",
    "\n"
   ]
  },
  {
   "cell_type": "code",
   "execution_count": 10,
   "metadata": {},
   "outputs": [
    {
     "data": {
      "application/vnd.jupyter.widget-view+json": {
       "model_id": "5025e4497b5348f9bb8825824dfe2a3a",
       "version_major": 2,
       "version_minor": 0
      },
      "text/plain": [
       "VBox(children=(Figure(camera=PerspectiveCamera(fov=46.0, position=(0.0, 0.0, 2.0), quaternion=(0.0, 0.0, 0.0, …"
      ]
     },
     "metadata": {},
     "output_type": "display_data"
    }
   ],
   "source": [
    "sk.graph_skeleton_and_mesh(other_meshes=[limb_obj.mesh])"
   ]
  },
  {
   "cell_type": "code",
   "execution_count": 12,
   "metadata": {},
   "outputs": [],
   "source": [
    "import numpy as np\n",
    "components= [np.array([  0,  46, 101,  24,  97,  96, 147,  88,  86,  81,  79, 157,  77,\n",
    "       136,  48,  47, 104, 105, 103, 145,   1,   2, 129,   5,   6,   7,\n",
    "       111, 127, 125,  12, 124, 123, 122, 119,  10]), np.array([ 89, 126, 148, 100, 152, 134,  55,  51,  45, 137,  28, 164, 165,\n",
    "       159,  21,   9,   3,  35]), np.array([ 36,  99,  95,  65,  94, 108, 109, 167,  66,  22,  64,  62,  98,\n",
    "        93, 116, 143, 166,  38,  53,   4, 131,  49, 133,  63,  33]), np.array([ 26,  44,  43,  19, 106, 107, 161, 115,   8, 135,  25,  18,  91,\n",
    "        85, 149,  40,  80, 150,  37, 154,  54]), np.array([160, 141, 140,  57,  56,  13,  11, 139,  58,  39,  50, 132,  41,\n",
    "        42,  52,  59, 114,  72,  92,  83, 151,  23, 153, 102, 155,  71,\n",
    "        68,  69, 146,  67, 144,  29,  70]), np.array([162, 138, 163, 158, 142, 156,  84, 128,  14,  15,  16,  17,  20,\n",
    "        27,  30,  31,  32,  34,  60,  61,  73,  74,  75,  76,  78,  82,\n",
    "        87,  90, 110, 113, 117, 118, 130, 168]), np.array([112, 120, 121])]"
   ]
  },
  {
   "cell_type": "code",
   "execution_count": 15,
   "metadata": {},
   "outputs": [
    {
     "name": "stdout",
     "output_type": "stream",
     "text": [
      "35\n",
      "18\n",
      "25\n",
      "21\n",
      "33\n",
      "34\n",
      "3\n"
     ]
    }
   ],
   "source": [
    "for c in components:\n",
    "    print(len(c))"
   ]
  },
  {
   "cell_type": "code",
   "execution_count": 17,
   "metadata": {},
   "outputs": [
    {
     "name": "stdout",
     "output_type": "stream",
     "text": [
      "     Starting Screened Poisson\n",
      "IN INPUT FILE VALIDATION LOOP\n",
      "LEAVING LOOP, MESH VALIDATED\n",
      "Using port = 196\n",
      "xvfb-run -n 196 -s \"-screen 0 800x600x24\" meshlabserver $@  -i /notebooks/Platinum_Skeletonization_meshparty/temp/None.off -o /notebooks/Platinum_Skeletonization_meshparty/temp/None_poisson.off -s /notebooks/Platinum_Skeletonization_meshparty/temp/poisson_177215.mls\n",
      "-----Time for Screened Poisson= 19.17199420928955\n"
     ]
    },
    {
     "name": "stderr",
     "output_type": "stream",
     "text": [
      "face_normals all zero, ignoring!\n",
      "face_normals all zero, ignoring!\n",
      "face_normals all zero, ignoring!\n",
      "face_normals all zero, ignoring!\n",
      "face_normals all zero, ignoring!\n",
      "face_normals all zero, ignoring!\n",
      "face_normals all zero, ignoring!\n",
      "face_normals all zero, ignoring!\n",
      "face_normals all zero, ignoring!\n",
      "face_normals all zero, ignoring!\n",
      "face_normals all zero, ignoring!\n",
      "face_normals all zero, ignoring!\n",
      "face_normals all zero, ignoring!\n",
      "face_normals all zero, ignoring!\n",
      "face_normals all zero, ignoring!\n",
      "face_normals all zero, ignoring!\n",
      "face_normals all zero, ignoring!\n",
      "face_normals all zero, ignoring!\n",
      "face_normals all zero, ignoring!\n",
      "face_normals all zero, ignoring!\n",
      "face_normals all zero, ignoring!\n",
      "face_normals all zero, ignoring!\n",
      "face_normals all zero, ignoring!\n",
      "face_normals all zero, ignoring!\n",
      "face_normals all zero, ignoring!\n",
      "face_normals all zero, ignoring!\n",
      "face_normals all zero, ignoring!\n",
      "face_normals all zero, ignoring!\n",
      "face_normals all zero, ignoring!\n",
      "face_normals all zero, ignoring!\n",
      "face_normals all zero, ignoring!\n",
      "face_normals all zero, ignoring!\n",
      "face_normals all zero, ignoring!\n",
      "face_normals all zero, ignoring!\n",
      "face_normals all zero, ignoring!\n",
      "face_normals all zero, ignoring!\n",
      "face_normals all zero, ignoring!\n",
      "face_normals all zero, ignoring!\n",
      "face_normals all zero, ignoring!\n",
      "face_normals all zero, ignoring!\n"
     ]
    },
    {
     "name": "stdout",
     "output_type": "stream",
     "text": [
      "     Starting Calcification\n",
      "Before mesh subtraction number of skeleton edges = 1784\n",
      "Inside mesh subtraction, len(main_mesh_bbox_restricted.faces) = 114671\n"
     ]
    },
    {
     "data": {
      "application/vnd.jupyter.widget-view+json": {
       "model_id": "1d6efcc603644258a5fc190f03343a14",
       "version_major": 2,
       "version_minor": 0
      },
      "text/plain": [
       "HBox(children=(FloatProgress(value=1.0, bar_style='info', layout=Layout(width='20px'), max=1.0), HTML(value=''…"
      ]
     },
     "metadata": {},
     "output_type": "display_data"
    },
    {
     "name": "stdout",
     "output_type": "stream",
     "text": [
      "\n",
      "Total Mesh subtraction time = 30.9603\n"
     ]
    },
    {
     "data": {
      "application/vnd.jupyter.widget-view+json": {
       "model_id": "71ad7347552741059e5663e815685204",
       "version_major": 2,
       "version_minor": 0
      },
      "text/plain": [
       "HBox(children=(FloatProgress(value=0.0, max=111.0), HTML(value='')))"
      ]
     },
     "metadata": {},
     "output_type": "display_data"
    },
    {
     "name": "stdout",
     "output_type": "stream",
     "text": [
      "\n",
      "len_subgraphs AT BEGINNING of the loop\n"
     ]
    },
    {
     "data": {
      "application/vnd.jupyter.widget-view+json": {
       "model_id": "a4cbf9c0f67040c9aaed28db68453f56",
       "version_major": 2,
       "version_minor": 0
      },
      "text/plain": [
       "HBox(children=(FloatProgress(value=0.0, max=342.0), HTML(value='')))"
      ]
     },
     "metadata": {},
     "output_type": "display_data"
    },
    {
     "name": "stdout",
     "output_type": "stream",
     "text": [
      "all graph is one component!\n",
      "\n",
      "Total time for skeleton stitching = 0.5023119449615479\n",
      "The process was using a temp folder\n",
      "Total time for meshAfterParty skeletonization = 61.03302025794983\n"
     ]
    }
   ],
   "source": [
    "import trimesh_utils as tu\n",
    "tu = reload(tu)\n",
    "sk = reload(sk)\n",
    "\n",
    "skeletonize_time = time.time()\n",
    "sk_meshafterparty = sk.skeletonize_connected_branch(limb_obj.mesh)\n",
    "print(f\"Total time for meshAfterParty skeletonization = {time.time() - skeletonize_time}\")\n"
   ]
  },
  {
   "cell_type": "code",
   "execution_count": 18,
   "metadata": {},
   "outputs": [
    {
     "name": "stdout",
     "output_type": "stream",
     "text": [
      "Using Distance measure skeletal_distance\n"
     ]
    },
    {
     "data": {
      "application/vnd.jupyter.widget-view+json": {
       "model_id": "4397fed7e9974a0e8fcf3b655eb50aad",
       "version_major": 2,
       "version_minor": 0
      },
      "text/plain": [
       "HBox(children=(FloatProgress(value=0.0, max=281.0), HTML(value='')))"
      ]
     },
     "metadata": {},
     "output_type": "display_data"
    },
    {
     "name": "stdout",
     "output_type": "stream",
     "text": [
      "\n"
     ]
    }
   ],
   "source": [
    "\n",
    "filter_end_node_length = 5000\n",
    "sk_meshafterparty_cleaned = sk.clean_skeleton(sk_meshafterparty,\n",
    "                                    distance_func=sk.skeletal_distance,\n",
    "                              min_distance_to_junction=filter_end_node_length, #this used to be a tuple i think when moved the parameter up to function defintion\n",
    "                              return_skeleton=True,\n",
    "                              print_flag=False)"
   ]
  },
  {
   "cell_type": "markdown",
   "metadata": {},
   "source": [
    "# -- Meshparty --"
   ]
  },
  {
   "cell_type": "code",
   "execution_count": 19,
   "metadata": {},
   "outputs": [],
   "source": [
    "import meshparty"
   ]
  },
  {
   "cell_type": "code",
   "execution_count": 20,
   "metadata": {},
   "outputs": [
    {
     "data": {
      "text/plain": [
       "TrackedArray([757964.8, 960165. , 866226.1])"
      ]
     },
     "execution_count": 20,
     "metadata": {},
     "output_type": "execute_result"
    }
   ],
   "source": [
    "# Getting a root point\n",
    "import trimesh_utils as tu\n",
    "\n",
    "\n",
    "\n",
    "touching_limb,touching_vertices = tu.mesh_pieces_connectivity(recovered_neuron.mesh,\n",
    "                                                               recovered_neuron.concept_network.nodes[current_soma][\"data\"].mesh,\n",
    "                                                               [limb_obj.mesh],\n",
    "                                                              return_vertices=True\n",
    "                                                              )\n",
    "root = touching_vertices[0][0]\n",
    "root"
   ]
  },
  {
   "cell_type": "code",
   "execution_count": 39,
   "metadata": {},
   "outputs": [
    {
     "name": "stdout",
     "output_type": "stream",
     "text": [
      "hi\n"
     ]
    }
   ],
   "source": [
    "print(\"hi\")"
   ]
  },
  {
   "cell_type": "code",
   "execution_count": 21,
   "metadata": {},
   "outputs": [
    {
     "name": "stderr",
     "output_type": "stream",
     "text": [
      "WARNING:root:Need to pip install annotationframeworkclient to repair mesh with pychunkedgraph\n",
      "WARNING:root:Need to pip install annotationframeworkclient to use dataset_name parameters\n"
     ]
    }
   ],
   "source": [
    "# How to get the skeleton using just the root\n",
    "import meshparty.skeletonize  as m_sk\n",
    "from meshparty import trimesh_io"
   ]
  },
  {
   "cell_type": "code",
   "execution_count": 22,
   "metadata": {},
   "outputs": [],
   "source": [
    "limb_obj_tr_io  = trimesh_io.Mesh(vertices = limb_obj.mesh.vertices,\n",
    "                                       faces = limb_obj.mesh.faces,\n",
    "                                       normals=limb_obj.mesh.face_normals)"
   ]
  },
  {
   "cell_type": "code",
   "execution_count": 23,
   "metadata": {},
   "outputs": [],
   "source": [
    "from importlib import reload\n",
    "import meshparty_skeletonize as m_sk\n",
    "m_sk = reload(m_sk)"
   ]
  },
  {
   "cell_type": "code",
   "execution_count": 25,
   "metadata": {},
   "outputs": [
    {
     "name": "stderr",
     "output_type": "stream",
     "text": [
      "  0%|          | 0/1 [00:00<?, ?it/s]\n",
      "  0%|          | 0/56971 [00:00<?, ?it/s]\u001b[A"
     ]
    },
    {
     "name": "stdout",
     "output_type": "stream",
     "text": [
      "smooth_neighborhood = 1\n",
      "smooth_neighborhood = 1\n"
     ]
    },
    {
     "name": "stderr",
     "output_type": "stream",
     "text": [
      "\n",
      " 71%|███████   | 40516/56971 [00:00<00:00, 290435.99it/s]\u001b[A\n",
      " 86%|████████▋ | 49255/56971 [00:00<00:00, 58656.87it/s] \u001b[A\n",
      "100%|██████████| 56971/56971 [00:00<00:00, 65330.31it/s]\u001b[A\n",
      "100%|██████████| 1/1 [00:00<00:00,  1.01it/s]\n"
     ]
    },
    {
     "name": "stdout",
     "output_type": "stream",
     "text": [
      "Total time for meshParty skeletonization = 1.304569959640503\n"
     ]
    },
    {
     "data": {
      "text/plain": [
       "(3948, 2, 3)"
      ]
     },
     "execution_count": 25,
     "metadata": {},
     "output_type": "execute_result"
    }
   ],
   "source": [
    "skeletonize_time = time.time()\n",
    "\n",
    "sk_meshparty_obj, v = m_sk.skeletonize_mesh(limb_obj_tr_io,\n",
    "                      soma_pt = root,\n",
    "                      soma_radius = 0,\n",
    "                      collapse_soma = False,\n",
    "                      invalidation_d=12000,\n",
    "                      smooth_vertices=True,\n",
    "                       smooth_neighborhood = 1,\n",
    "                      compute_radius = True, #Need the pyembree list\n",
    "                      compute_original_index=True,\n",
    "                      verbose=True)\n",
    "print(f\"Total time for meshParty skeletonization = {time.time() - skeletonize_time}\")\n",
    "\n",
    "sk_meshparty = sk_meshparty_obj.vertices[sk_meshparty_obj.edges]\n",
    "sk_meshparty.shape"
   ]
  },
  {
   "cell_type": "markdown",
   "metadata": {},
   "source": [
    "# Comparing the Actual Skeletons"
   ]
  },
  {
   "cell_type": "code",
   "execution_count": 27,
   "metadata": {},
   "outputs": [
    {
     "data": {
      "text/plain": [
       "(1963, 2, 3)"
      ]
     },
     "execution_count": 27,
     "metadata": {},
     "output_type": "execute_result"
    }
   ],
   "source": [
    "sk_meshafterparty_cleaned.shape"
   ]
  },
  {
   "cell_type": "code",
   "execution_count": 28,
   "metadata": {},
   "outputs": [
    {
     "data": {
      "application/vnd.jupyter.widget-view+json": {
       "model_id": "614627f9e8d24c24a32551007a9e7125",
       "version_major": 2,
       "version_minor": 0
      },
      "text/plain": [
       "VBox(children=(Figure(camera=PerspectiveCamera(fov=46.0, position=(0.0, 0.0, 2.0), quaternion=(0.0, 0.0, 0.0, …"
      ]
     },
     "metadata": {},
     "output_type": "display_data"
    }
   ],
   "source": [
    "sk.graph_skeleton_and_mesh(other_meshes=[limb_obj.mesh],\n",
    "                          other_skeletons=[sk_meshparty,sk_meshafterparty_cleaned],\n",
    "                          other_skeletons_colors=[\"red\",\"black\"])"
   ]
  },
  {
   "cell_type": "code",
   "execution_count": 35,
   "metadata": {},
   "outputs": [
    {
     "data": {
      "text/plain": [
       "(56972,)"
      ]
     },
     "execution_count": 35,
     "metadata": {},
     "output_type": "execute_result"
    }
   ],
   "source": [
    "sk_meshparty_obj.mesh_to_skel_map.shape"
   ]
  },
  {
   "cell_type": "code",
   "execution_count": 33,
   "metadata": {},
   "outputs": [
    {
     "data": {
      "text/plain": [
       "((56972,), (56972, 3))"
      ]
     },
     "execution_count": 33,
     "metadata": {},
     "output_type": "execute_result"
    }
   ],
   "source": [
    "v.shape, limb_obj_tr_io.vertices.shape"
   ]
  },
  {
   "cell_type": "code",
   "execution_count": 38,
   "metadata": {},
   "outputs": [
    {
     "data": {
      "text/plain": [
       "(56972, 17)"
      ]
     },
     "execution_count": 38,
     "metadata": {},
     "output_type": "execute_result"
    }
   ],
   "source": [
    "limb_obj_tr_io.vertex_faces.shape"
   ]
  },
  {
   "cell_type": "code",
   "execution_count": 79,
   "metadata": {},
   "outputs": [
    {
     "data": {
      "text/plain": [
       "array([[79343, 78357, 78356, ...,    -1,    -1,    -1],\n",
       "       [98790, 98789, 96609, ...,    -1,    -1,    -1],\n",
       "       [39123, 38931, 38930, ...,    -1,    -1,    -1],\n",
       "       ...,\n",
       "       [ 8785,  8677,  8658, ...,    -1,    -1,    -1],\n",
       "       [64744, 64735, 63939, ...,    -1,    -1,    -1],\n",
       "       [83370, 83179, 83159, ...,    -1,    -1,    -1]])"
      ]
     },
     "execution_count": 79,
     "metadata": {},
     "output_type": "execute_result"
    }
   ],
   "source": [
    "limb_obj_tr_io.vertex_faces"
   ]
  },
  {
   "cell_type": "code",
   "execution_count": 81,
   "metadata": {},
   "outputs": [
    {
     "data": {
      "text/plain": [
       "array([[79343, 78357, 78356, ...,    -1,    -1,    -1],\n",
       "       [98790, 98789, 96609, ...,    -1,    -1,    -1],\n",
       "       [39123, 38931, 38930, ...,    -1,    -1,    -1],\n",
       "       ...,\n",
       "       [ 8785,  8677,  8658, ...,    -1,    -1,    -1],\n",
       "       [64744, 64735, 63939, ...,    -1,    -1,    -1],\n",
       "       [83370, 83179, 83159, ...,    -1,    -1,    -1]])"
      ]
     },
     "execution_count": 81,
     "metadata": {},
     "output_type": "execute_result"
    }
   ],
   "source": []
  },
  {
   "cell_type": "markdown",
   "metadata": {},
   "source": [
    "# Checking on the decomposition and the correspondence"
   ]
  },
  {
   "cell_type": "code",
   "execution_count": 48,
   "metadata": {},
   "outputs": [],
   "source": [
    "\"\"\"\n",
    "How to create branches and their mesh correspondence directly from meshparty\n",
    "1) Decompose the skeleton into branches (BUT GET LIST OF WHICH VERTICES BELONG TO WHICH LIST)\n",
    "2) Assign all original mesh vertices to which branch\n",
    "3) Use the vertices to map to the faces that use that vertex (and do a np.unique on faces)\n",
    "4) Send these face assignments through the cleaning face mapping\n",
    "\n",
    "Visualize:\n",
    "\"\"\"\n",
    "#computing the segments\n",
    "m_sk = reload(m_sk)\n",
    "sk = reload(sk)"
   ]
  },
  {
   "cell_type": "markdown",
   "metadata": {},
   "source": [
    "# --- Step 1: Decompose the Branches ---- "
   ]
  },
  {
   "cell_type": "code",
   "execution_count": 46,
   "metadata": {},
   "outputs": [
    {
     "data": {
      "text/plain": [
       "47"
      ]
     },
     "execution_count": 46,
     "metadata": {},
     "output_type": "execute_result"
    }
   ],
   "source": [
    "segments, segment_maps = m_sk.compute_segments(sk_meshparty_obj)\n",
    "len(segments)"
   ]
  },
  {
   "cell_type": "code",
   "execution_count": 49,
   "metadata": {},
   "outputs": [],
   "source": [
    "segments_AFTER, segment_indices_AFTER = sk.decompose_skeleton_to_branches(sk_meshparty,return_indices=True)"
   ]
  },
  {
   "cell_type": "code",
   "execution_count": 50,
   "metadata": {},
   "outputs": [
    {
     "data": {
      "text/plain": [
       "47"
      ]
     },
     "execution_count": 50,
     "metadata": {},
     "output_type": "execute_result"
    }
   ],
   "source": [
    "len(segment_indices_AFTER)"
   ]
  },
  {
   "cell_type": "code",
   "execution_count": 64,
   "metadata": {},
   "outputs": [
    {
     "data": {
      "text/plain": [
       "(3995, 3995, 3949)"
      ]
     },
     "execution_count": 64,
     "metadata": {},
     "output_type": "execute_result"
    }
   ],
   "source": [
    "len(np.concatenate(segment_indices_AFTER)), len(np.concatenate(segments)), len(sk_meshparty_obj.vertices)"
   ]
  },
  {
   "cell_type": "code",
   "execution_count": 62,
   "metadata": {},
   "outputs": [
    {
     "data": {
      "text/plain": [
       "3995"
      ]
     },
     "execution_count": 62,
     "metadata": {},
     "output_type": "execute_result"
    }
   ],
   "source": [
    "# show that current number was calculated or branch segments\n",
    "sk_meshparty_graph = sk.convert_skeleton_to_graph(sk_meshparty)\n",
    "degree_dict = dict(sk_meshparty_graph.degree)\n",
    "node_degrees = np.array(list(degree_dict.values()))\n",
    "low_degree_nodes = node_degrees[node_degrees <= 2]\n",
    "high_degree_nodes = node_degrees[node_degrees > 2]\n",
    "np.sum(high_degree_nodes) + len(low_degree_nodes)"
   ]
  },
  {
   "cell_type": "markdown",
   "metadata": {},
   "source": [
    "# Creating the mesh correspondence"
   ]
  },
  {
   "cell_type": "code",
   "execution_count": null,
   "metadata": {},
   "outputs": [],
   "source": [
    "# -- Step 2: Get original vertices mappings --"
   ]
  },
  {
   "cell_type": "code",
   "execution_count": 264,
   "metadata": {},
   "outputs": [],
   "source": [
    "import general_utils as gu\n",
    "gu = reload(gu)"
   ]
  },
  {
   "cell_type": "code",
   "execution_count": 265,
   "metadata": {},
   "outputs": [
    {
     "name": "stdout",
     "output_type": "stream",
     "text": [
      "[0, 5343, 5624, 6548, 12117, 12654, 16830, 19997, 20250, 25695, 34909, 35667, 36489, 38903, 43916, 47342, 48414, 48613, 51387, 52228, 54323]\n"
     ]
    }
   ],
   "source": [
    "my_map =sk_vertices_to_mesh_vertices\n",
    "#my_map = {1:5,6:7}\n",
    "print(list(my_map.values())[0])\n"
   ]
  },
  {
   "cell_type": "code",
   "execution_count": 266,
   "metadata": {},
   "outputs": [],
   "source": [
    "sk_vertices_to_mesh_vertices = gu.invert_mapping(sk_meshparty_obj.mesh_to_skel_map)\n",
    "#getting a list of all the original vertices that belong to each segment\n",
    "segment_mesh_vertices = [np.unique(np.concatenate([sk_vertices_to_mesh_vertices[k] for k in segment_list])) for segment_list in segments]\n",
    "#getting a list of all the original vertices that belong to each segment\n",
    "segment_mesh_faces = [np.unique(limb_obj.mesh.vertex_faces[k]) for k in segment_mesh_vertices]\n",
    "segment_mesh_faces = [k[k>=0] for k in segment_mesh_faces]\n",
    "\n",
    "face_lookup = gu.invert_mapping(segment_mesh_faces)"
   ]
  },
  {
   "cell_type": "markdown",
   "metadata": {},
   "source": [
    "# --- Debugging the Label filling ----- "
   ]
  },
  {
   "cell_type": "code",
   "execution_count": 254,
   "metadata": {
    "scrolled": true
   },
   "outputs": [],
   "source": [
    "# # test out by getting the mesh mapping from meshafter party and sending through\n",
    "# branch_list = np.array(list(limb_obj.concept_network.nodes())).astype(\"int\")\n",
    "\n",
    "# \"\"\"\n",
    "# Pseudocode:\n",
    "# 1) get the branch mesh\n",
    "# 2) backtrack to limb mesh indices\n",
    "# 3) Assign those indices the labels\n",
    "\n",
    "# \"\"\"\n",
    "# face_lookup = dict([(j,[]) for j in range(0,len(curr_limb_mesh.faces))])\n",
    "\n",
    "# for k in branch_list:\n",
    "#     curr_branch = limb_obj.concept_network.nodes[branch_list[k]][\"data\"]\n",
    "#     curr_branch_original_face_indices = tu.original_mesh_faces_map(limb_obj.mesh,curr_branch.mesh)\n",
    "#     curr_branch_original_face_indices\n",
    "\n",
    "#     #checking the right one \n",
    "#     # sk.graph_skeleton_and_mesh(other_meshes=[limb_obj.mesh.submesh([curr_branch_original_face_indices],append=True),\n",
    "#     #                                         curr_branch.mesh],\n",
    "#     #                           other_meshes_colors=[\"red\",\"black\"])\n",
    "\n",
    "#     for i in curr_branch_original_face_indices:\n",
    "#         face_lookup[i].append(k)\n",
    "\n",
    "# curr_limb_mesh = limb_obj.mesh\n",
    "# #here is where can call the function that resolves the face labels\n",
    "# face_coloring_copy = cu.resolve_empty_conflicting_face_labels(\n",
    "#                  curr_limb_mesh = curr_limb_mesh,\n",
    "#                  face_lookup=face_lookup,\n",
    "#                  no_missing_labels = list(original_labels)\n",
    "# )\n",
    "\n",
    "# test_0_seg_from_face_lookup = np.array([k for k,v in face_lookup.items() if 0 in v])\n",
    "# print(test_0_seg_from_face_lookup)\n",
    "# test_0_seg_from_face_lookup_RECOVERED =  np.where(face_coloring_copy==0)[0]\n",
    "# print(test_0_seg_from_face_lookup_RECOVERED)\n",
    "# np.setdiff1d(test_0_seg_from_face_lookup,test_0_seg_from_face_lookup_RECOVERED).shape"
   ]
  },
  {
   "cell_type": "code",
   "execution_count": 262,
   "metadata": {},
   "outputs": [
    {
     "name": "stdout",
     "output_type": "stream",
     "text": [
      "max(original_labels),len(original_labels) = (46, 47)\n",
      "empty_indices % = 0.0\n",
      " conflict_indices % = 0.018374305622171256\n"
     ]
    },
    {
     "data": {
      "application/vnd.jupyter.widget-view+json": {
       "model_id": "fcd3dcb122fe45b59da10ab100de36d4",
       "version_major": 2,
       "version_minor": 0
      },
      "text/plain": [
       "HBox(children=(FloatProgress(value=0.0, max=24.0), HTML(value='')))"
      ]
     },
     "metadata": {},
     "output_type": "display_data"
    },
    {
     "name": "stdout",
     "output_type": "stream",
     "text": [
      "\n"
     ]
    }
   ],
   "source": [
    "# import networkx as nx\n",
    "# curr_limb_mesh = limb_obj.mesh\n",
    "# from tqdm_utils import tqdm\n",
    "\n",
    "# import itertools \n",
    "# original_labels = set(list(itertools.chain.from_iterable(list(face_lookup.values()))))\n",
    "# print(f\"max(original_labels),len(original_labels) = {(max(original_labels),len(original_labels))}\")\n",
    "\n",
    "# #------------------- start of the function ---------------------------------------------------------\n",
    "# #here is where can call the function that resolves the face labels\n",
    "# curr_limb_mesh = curr_limb_mesh\n",
    "# face_lookup=face_lookup\n",
    "# no_missing_labels = list(original_labels)\n",
    "\n",
    "\n",
    "# if len(no_missing_labels) == 0:\n",
    "#     no_missing_labels = list(set(list(itertools.chain.from_iterable(list(face_lookup.values())))))\n",
    "\n",
    "# #get all of the faces that don't have any faces corresponding\n",
    "# empty_indices = np.array([k for k,v in face_lookup.items() if len(v) == 0])\n",
    "\n",
    "# #get all of the faces that don't have any faces corresponding\n",
    "# conflict_indices = np.array([k for k,v in face_lookup.items() if len(v) >= 2])\n",
    "\n",
    "# print(f\"empty_indices % = {len(empty_indices)/len(face_lookup.keys())}\\n conflict_indices % = {len(conflict_indices)/len(face_lookup.keys())}\")\n",
    "\n",
    "\n",
    "# #face_coloring = np.array([-1 if len(v) != 1 else v[0] for v in face_lookup.values()])\n",
    "\n",
    "# #doing the face coloring (new way if the keys are unordered)\n",
    "# face_coloring = np.full(len(curr_limb_mesh.faces),-1)\n",
    "# for k,v in face_lookup.items():\n",
    "#     if len(v) == 1:\n",
    "#         face_coloring[k] = v[0]\n",
    "\n",
    "# # -- Need to only take the biggest piece of the non-conflicted mesh and resolve those that were eliminated--\n",
    "\n",
    "# face_coloring = cu.filter_face_coloring_to_connected_components(curr_limb_mesh,face_coloring)\n",
    "\n",
    "# # ----fixing if there were any missing labels --- **** this still has potential for erroring ****\n",
    "\n",
    "# leftover_labels = np.unique(face_coloring)\n",
    "# missing_labels = set(np.setdiff1d(no_missing_labels.copy(), leftover_labels))\n",
    "\n",
    "# for curr_label in missing_labels:\n",
    "#     labels_idx = [k for k,v in face_lookup.items() if curr_label in v]\n",
    "#     face_coloring[labels_idx] = curr_label\n",
    "\n",
    "# #filter the faces again: \n",
    "# face_coloring = cu.filter_face_coloring_to_connected_components(curr_limb_mesh,face_coloring)\n",
    "\n",
    "# leftover_labels = np.unique(face_coloring)\n",
    "# missing_labels = set(np.setdiff1d(no_missing_labels.copy(), leftover_labels))\n",
    "\n",
    "# if len(missing_labels)>0:\n",
    "#     raise Exception(\"missing labels was not resolved\")\n",
    "\n",
    "# # -----now just divide the groups into seperate components\n",
    "# empty_faces = np.where(face_coloring==-1)[0]\n",
    "\n",
    "# mesh_graph = nx.from_edgelist(curr_limb_mesh.face_adjacency) # creating a graph from the faces\n",
    "# empty_submesh = mesh_graph.subgraph(empty_faces) #gets the empty submeshes that are disconnected\n",
    "# empty_connected_components = list(nx.connected_components(empty_submesh))\n",
    "\n",
    "# # ---- Functions that will fill in the rest of the mesh correspondence ---- #\n",
    "\n",
    "# face_coloring_copy = face_coloring.copy()\n",
    "\n",
    "# for comp in tqdm(empty_connected_components):\n",
    "#     face_lookup_resolved_test = cu.waterfill_labeling(\n",
    "#                     #total_mesh_correspondence=face_lookup_resolved_test,\n",
    "#                     total_mesh_correspondence=face_coloring_copy,\n",
    "#                      submesh_indices=list(comp),\n",
    "#                      total_mesh=None,\n",
    "#                     total_mesh_graph=mesh_graph,\n",
    "#                      propagation_type=\"random\",\n",
    "#                     max_iterations = 1000,\n",
    "#                     max_submesh_threshold = 30000\n",
    "#                     )\n",
    "\n",
    "# # -- wheck that the face coloring did not have any empty faces --\n",
    "# empty_faces = np.where(face_coloring_copy==-1)[0]\n",
    "# if len(empty_faces) > 0:\n",
    "#     raise Exception(f\"empty faces were greater than 0 after waterfilling at: {empty_faces}\")\n",
    "\n",
    "\n",
    "# return_value =  face_coloring_copy\n",
    "\n",
    "# # #------------------- END of the function ---------------------------------------------------------\n",
    "\n",
    "# curr_segment_from_face_lookup = np.array([k for k,v in face_lookup.items() if 0 in v])\n",
    "# print(curr_segment_from_face_lookup.shape)\n",
    "# curr_segment_resolved_faces = np.where(face_coloring_copy==0)[0]\n",
    "# print(curr_segment_resolved_faces.shape)\n",
    "# np.setdiff1d(curr_segment_from_face_lookup,curr_segment_resolved_faces).shape"
   ]
  },
  {
   "cell_type": "markdown",
   "metadata": {},
   "source": [
    "# -------- Resume the Mesh Correspondence ---------- "
   ]
  },
  {
   "cell_type": "code",
   "execution_count": 270,
   "metadata": {},
   "outputs": [
    {
     "name": "stdout",
     "output_type": "stream",
     "text": [
      "max(original_labels),len(original_labels) = (46, 47)\n",
      "empty_indices % = 0.0\n",
      " conflict_indices % = 0.018374305622171256\n"
     ]
    },
    {
     "data": {
      "application/vnd.jupyter.widget-view+json": {
       "model_id": "049ed9839958419a9fef0da0fd65f144",
       "version_major": 2,
       "version_minor": 0
      },
      "text/plain": [
       "HBox(children=(FloatProgress(value=0.0, max=24.0), HTML(value='')))"
      ]
     },
     "metadata": {},
     "output_type": "display_data"
    },
    {
     "name": "stdout",
     "output_type": "stream",
     "text": [
      "\n"
     ]
    },
    {
     "data": {
      "application/vnd.jupyter.widget-view+json": {
       "model_id": "104c59a417dc4a86b460c9bb292c25df",
       "version_major": 2,
       "version_minor": 0
      },
      "text/plain": [
       "HBox(children=(FloatProgress(value=0.0, max=47.0), HTML(value='')))"
      ]
     },
     "metadata": {},
     "output_type": "display_data"
    },
    {
     "name": "stdout",
     "output_type": "stream",
     "text": [
      "\n"
     ]
    }
   ],
   "source": [
    "import itertools \n",
    "curr_limb_mesh = limb_obj.mesh\n",
    "\n",
    "import compartment_utils as cu\n",
    "cu = reload(cu)\n",
    "\n",
    "original_labels = set(list(itertools.chain.from_iterable(list(face_lookup.values()))))\n",
    "print(f\"max(original_labels),len(original_labels) = {(max(original_labels),len(original_labels))}\")\n",
    "\n",
    "face_coloring_copy = cu.resolve_empty_conflicting_face_labels(curr_limb_mesh = curr_limb_mesh,\n",
    "                                                            face_lookup=face_lookup,\n",
    "                                                            no_missing_labels = list(original_labels))\n",
    "\n",
    "\n",
    "# -- splitting the mesh pieces into individual pieces\n",
    "divided_submeshes,divided_submeshes_idx = tu.split_mesh_into_face_groups(curr_limb_mesh,face_coloring_copy)"
   ]
  },
  {
   "cell_type": "markdown",
   "metadata": {},
   "source": [
    "# Getting the skeletons"
   ]
  },
  {
   "cell_type": "code",
   "execution_count": 272,
   "metadata": {},
   "outputs": [],
   "source": [
    "# getting the skeletons that go with them\n",
    "segment_branches = [sk_meshparty_obj.vertices[np.vstack([k[:-1],k[1:]]).T] for k in segments]"
   ]
  },
  {
   "cell_type": "markdown",
   "metadata": {},
   "source": [
    "# Getting the widths"
   ]
  },
  {
   "cell_type": "code",
   "execution_count": 307,
   "metadata": {},
   "outputs": [],
   "source": [
    "import trimesh_utils as tu\n",
    "tu = reload(tu)"
   ]
  },
  {
   "cell_type": "code",
   "execution_count": 310,
   "metadata": {},
   "outputs": [
    {
     "data": {
      "application/vnd.jupyter.widget-view+json": {
       "model_id": "76b52bd6adcb4a8690c598787e8be45b",
       "version_major": 2,
       "version_minor": 0
      },
      "text/plain": [
       "HBox(children=(FloatProgress(value=0.0, max=47.0), HTML(value='')))"
      ]
     },
     "metadata": {},
     "output_type": "display_data"
    },
    {
     "name": "stdout",
     "output_type": "stream",
     "text": [
      "\n"
     ]
    }
   ],
   "source": [
    "limb_obj_sdf_faces = tu.ray_trace_distance(mesh=limb_obj.mesh, \n",
    "                    face_inds=np.arange(0,len(limb_obj.mesh.faces)), \n",
    "                   vertex_inds=None,\n",
    "                   ray_origins=None,\n",
    "                   ray_directions=None,\n",
    "                   max_iter=100, \n",
    "                   rand_jitter=0.001, \n",
    "                   verbose=True,\n",
    "                   ray_inter=None)\n",
    "\n",
    "unique_labels = np.sort(np.unique(face_coloring_copy))\n",
    "branch_widths_mean = dict()\n",
    "branch_widths_median = dict()\n",
    "for lab in tqdm(unique_labels):\n",
    "    faces = np.where(face_coloring_copy==lab)[0]\n",
    "    face_widths = limb_obj_sdf_faces[faces]\n",
    "    face_widths = face_widths[face_widths>0]\n",
    "    branch_widths_mean[lab] = np.mean(face_widths)\n",
    "    branch_widths_median[lab] = np.median(face_widths)"
   ]
  },
  {
   "cell_type": "markdown",
   "metadata": {},
   "source": [
    "# Stored Width Investigating"
   ]
  },
  {
   "cell_type": "code",
   "execution_count": 298,
   "metadata": {},
   "outputs": [
    {
     "data": {
      "text/plain": [
       "47"
      ]
     },
     "execution_count": 298,
     "metadata": {},
     "output_type": "execute_result"
    }
   ],
   "source": [
    "segment_width_measurements = [sk_meshparty_obj.vertex_properties[\"rs\"][k] for k in segments]\n",
    "len(segment_width_measurements)"
   ]
  },
  {
   "cell_type": "code",
   "execution_count": 274,
   "metadata": {},
   "outputs": [
    {
     "data": {
      "application/vnd.jupyter.widget-view+json": {
       "model_id": "cd145a16a440428e8badcccc4caf55f6",
       "version_major": 2,
       "version_minor": 0
      },
      "text/plain": [
       "VBox(children=(Figure(camera=PerspectiveCamera(fov=46.0, position=(0.0, 0.0, 2.0), quaternion=(0.0, 0.0, 0.0, …"
      ]
     },
     "metadata": {},
     "output_type": "display_data"
    }
   ],
   "source": [
    "sk.graph_skeleton_and_mesh(other_meshes=list(divided_submeshes.values()),\n",
    "                           other_meshes_colors=\"random\",\n",
    "                          other_skeletons=segment_branches,\n",
    "                           other_skeletons_colors=\"random\")"
   ]
  },
  {
   "cell_type": "code",
   "execution_count": 186,
   "metadata": {},
   "outputs": [],
   "source": [
    "current_segment = segments[curr_seg]"
   ]
  },
  {
   "cell_type": "markdown",
   "metadata": {},
   "source": [
    "# visualize 1 skeleton at a time "
   ]
  },
  {
   "cell_type": "code",
   "execution_count": 313,
   "metadata": {},
   "outputs": [
    {
     "name": "stdout",
     "output_type": "stream",
     "text": [
      "(207, 2, 3)\n",
      "<trimesh.Trimesh(vertices.shape=(1208, 3), faces.shape=(2416, 3))>\n",
      "37534.55518395377\n",
      "mean(width) = 209.10604602996207, median(width) = 164.49479997169394\n",
      "branch_widths_mean[0] = 282.30498101906005, branch_widths_median[0] = 184.3932433305481\n"
     ]
    },
    {
     "data": {
      "application/vnd.jupyter.widget-view+json": {
       "model_id": "d43b233c62e249068dbdb6e7a7c8b72a",
       "version_major": 2,
       "version_minor": 0
      },
      "text/plain": [
       "VBox(children=(Figure(camera=PerspectiveCamera(fov=46.0, position=(0.0, 0.0, 2.0), quaternion=(0.0, 0.0, 0.0, …"
      ]
     },
     "metadata": {},
     "output_type": "display_data"
    }
   ],
   "source": [
    "k = 0\n",
    "curr_mesh = list(divided_submeshes.values())[k]\n",
    "curr_skeleton = segment_branches[k]\n",
    "print(curr_skeleton.shape)\n",
    "print(curr_mesh)\n",
    "print(sk.calculate_skeleton_distance(curr_skeleton))\n",
    "print(f\"mean(width) = {np.mean(segment_width_measurements[k])}, median(width) = {np.median(segment_width_measurements[k])}\")\n",
    "print(f\"branch_widths_mean[{k}] = {branch_widths_mean[k]}, branch_widths_median[{k}] = {branch_widths_median[k]}\")\n",
    "\n",
    "sk.graph_skeleton_and_mesh(\n",
    "                            other_meshes=[curr_mesh],\n",
    "                           other_meshes_colors=\"red\",\n",
    "                          other_skeletons=[curr_skeleton],\n",
    "                           other_skeletons_colors=\"black\",\n",
    ")\n",
    "\n"
   ]
  },
  {
   "cell_type": "markdown",
   "metadata": {},
   "source": [
    "# Finding the matching pieces between the meshparty and meshAfterParty segmentation"
   ]
  },
  {
   "cell_type": "markdown",
   "metadata": {},
   "source": [
    "# ----- Save for Later when have concept graphs ----- "
   ]
  },
  {
   "cell_type": "code",
   "execution_count": null,
   "metadata": {},
   "outputs": [],
   "source": []
  },
  {
   "cell_type": "code",
   "execution_count": null,
   "metadata": {},
   "outputs": [],
   "source": []
  },
  {
   "cell_type": "code",
   "execution_count": 289,
   "metadata": {
    "scrolled": true
   },
   "outputs": [
    {
     "data": {
      "application/vnd.jupyter.widget-view+json": {
       "model_id": "ee4f070d8a6246ffa9b4d63dd2ba3060",
       "version_major": 2,
       "version_minor": 0
      },
      "text/plain": [
       "VBox(children=(Figure(camera=PerspectiveCamera(fov=46.0, position=(0.0, 0.0, 2.0), quaternion=(0.0, 0.0, 0.0, …"
      ]
     },
     "metadata": {},
     "output_type": "display_data"
    }
   ],
   "source": [
    "sk.graph_skeleton_and_mesh(other_meshes=[limb_obj.mesh,curr_mesh],\n",
    "                          other_meshes_colors=[\"grey\",\"red\"],\n",
    "                          other_skeletons=[curr_skeleton])"
   ]
  },
  {
   "cell_type": "code",
   "execution_count": 174,
   "metadata": {},
   "outputs": [
    {
     "data": {
      "text/plain": [
       "(1214,)"
      ]
     },
     "execution_count": 174,
     "metadata": {},
     "output_type": "execute_result"
    }
   ],
   "source": [
    "curr_segment_mesh_vertices = np.arange(0,len(limb_obj.mesh.vertices))[np.in1d(sk_meshparty_obj.mesh_to_skel_map,current_segment)]\n",
    "curr_segment_mesh_vertices.shape"
   ]
  },
  {
   "cell_type": "code",
   "execution_count": 175,
   "metadata": {
    "scrolled": true
   },
   "outputs": [
    {
     "data": {
      "application/vnd.jupyter.widget-view+json": {
       "model_id": "e475dce3ab96476197d52a76562f1e35",
       "version_major": 2,
       "version_minor": 0
      },
      "text/plain": [
       "VBox(children=(Figure(camera=PerspectiveCamera(fov=46.0, position=(0.0, 0.0, 2.0), quaternion=(0.0, 0.0, 0.0, …"
      ]
     },
     "metadata": {},
     "output_type": "display_data"
    }
   ],
   "source": [
    "sk.graph_skeleton_and_mesh(other_skeletons=[segment_branches[curr_seg]],\n",
    "                          other_scatter=[limb_obj.mesh.vertices[curr_segment_mesh_vertices]])"
   ]
  },
  {
   "cell_type": "code",
   "execution_count": 183,
   "metadata": {
    "scrolled": true
   },
   "outputs": [
    {
     "data": {
      "application/vnd.jupyter.widget-view+json": {
       "model_id": "e6788b1df05246edb400dfb52a641d20",
       "version_major": 2,
       "version_minor": 0
      },
      "text/plain": [
       "VBox(children=(Figure(camera=PerspectiveCamera(fov=46.0, position=(0.0, 0.0, 2.0), quaternion=(0.0, 0.0, 0.0, …"
      ]
     },
     "metadata": {},
     "output_type": "display_data"
    }
   ],
   "source": [
    "# checking that I can get the right faces from the vertices\n",
    "curr_segment_faces = np.unique(np.concatenate(limb_obj.mesh.vertex_faces[curr_segment_mesh_vertices]))[1:]\n",
    "curr_segment_faces_mesh = limb_obj.mesh.submesh([curr_segment_faces],append=True)\n",
    "curr_segment_faces_mesh\n",
    "sk.graph_skeleton_and_mesh(other_skeletons=[segment_branches[curr_seg]],\n",
    "                          other_meshes=[curr_segment_faces_mesh])"
   ]
  },
  {
   "cell_type": "code",
   "execution_count": 198,
   "metadata": {},
   "outputs": [
    {
     "data": {
      "text/plain": [
       "[8]"
      ]
     },
     "execution_count": 198,
     "metadata": {},
     "output_type": "execute_result"
    }
   ],
   "source": []
  },
  {
   "cell_type": "code",
   "execution_count": 190,
   "metadata": {},
   "outputs": [],
   "source": [
    "other_way_vertices = np.unique(np.concatenate([sk_vertices_to_mesh_vertices[k] for k in current_segment]))"
   ]
  },
  {
   "cell_type": "code",
   "execution_count": 193,
   "metadata": {},
   "outputs": [
    {
     "data": {
      "text/plain": [
       "((1214,), (1214,))"
      ]
     },
     "execution_count": 193,
     "metadata": {},
     "output_type": "execute_result"
    }
   ],
   "source": [
    "other_way_vertices.shape,curr_segment_mesh_vertices.shape"
   ]
  },
  {
   "cell_type": "code",
   "execution_count": 197,
   "metadata": {},
   "outputs": [
    {
     "data": {
      "application/vnd.jupyter.widget-view+json": {
       "model_id": "",
       "version_major": 2,
       "version_minor": 0
      },
      "text/plain": [
       "VBox(children=(Figure(camera=PerspectiveCamera(fov=46.0, position=(0.0, 0.0, 2.0), quaternion=(0.0, 0.0, 0.0, …"
      ]
     },
     "metadata": {},
     "output_type": "display_data"
    }
   ],
   "source": [
    "curr_segment_faces_mesh_vp2 = limb_obj.mesh.submesh([segment_mesh_faces[0]],append=True)\n",
    "sk.graph_skeleton_and_mesh(other_skeletons=[segment_branches[curr_seg]],\n",
    "                          other_meshes=[curr_segment_faces_mesh_vp2])"
   ]
  },
  {
   "cell_type": "code",
   "execution_count": 200,
   "metadata": {},
   "outputs": [
    {
     "data": {
      "text/plain": [
       "(2442,)"
      ]
     },
     "execution_count": 200,
     "metadata": {},
     "output_type": "execute_result"
    }
   ],
   "source": [
    "# trying with the face lookup\n",
    "curr_segment_from_face_lookup = np.array([k for k,v in face_lookup.items() if 0 in v])\n",
    "curr_segment_from_face_lookup.shape\n",
    "curr_segment_resolved_faces = np.where(face_coloring_copy==0)[0]\n",
    "np.setdiff1d(curr_segment_from_face_lookup,curr_segment_resolved_faces).shape"
   ]
  },
  {
   "cell_type": "code",
   "execution_count": 210,
   "metadata": {},
   "outputs": [
    {
     "data": {
      "text/plain": [
       "(2442,)"
      ]
     },
     "execution_count": 210,
     "metadata": {},
     "output_type": "execute_result"
    }
   ],
   "source": []
  },
  {
   "cell_type": "code",
   "execution_count": null,
   "metadata": {},
   "outputs": [],
   "source": [
    "sk_vertices_to_mesh_vertices = gu.invert_mapping(sk_meshparty_obj.mesh_to_skel_map)\n",
    "#getting a list of all the original vertices that belong to each segment\n",
    "segment_mesh_vertices = [np.unique(np.concatenate([sk_vertices_to_mesh_vertices[k] for k in segment_list])) for segment_list in segments]\n",
    "#getting a list of all the original vertices that belong to each segment\n",
    "segment_mesh_faces = [np.unique(limb_obj.mesh.vertex_faces[k]) for k in segment_mesh_vertices]\n",
    "segment_mesh_faces = [k[k>=0] for k in segment_mesh_faces]"
   ]
  }
 ],
 "metadata": {
  "kernelspec": {
   "display_name": "Python 3",
   "language": "python",
   "name": "python3"
  },
  "language_info": {
   "codemirror_mode": {
    "name": "ipython",
    "version": 3
   },
   "file_extension": ".py",
   "mimetype": "text/x-python",
   "name": "python",
   "nbconvert_exporter": "python",
   "pygments_lexer": "ipython3",
   "version": "3.6.9"
  }
 },
 "nbformat": 4,
 "nbformat_minor": 4
}
