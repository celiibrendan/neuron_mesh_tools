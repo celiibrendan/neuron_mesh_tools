{
 "cells": [
  {
   "cell_type": "code",
   "execution_count": 1,
   "metadata": {},
   "outputs": [
    {
     "data": {
      "text/plain": [
       "'\\nPurpose: To try and run the neuron preprocessing pipeline\\nbut use the meshparty option\\n\\nPseudocode: \\n1) Load one of the meshes to try and preprocess\\n2) Use the preprocessing pipeline with meshparty selected\\n3) visualize\\n\\n'"
      ]
     },
     "execution_count": 1,
     "metadata": {},
     "output_type": "execute_result"
    }
   ],
   "source": [
    "\"\"\"\n",
    "Purpose: To try and run the neuron preprocessing pipeline\n",
    "but use the meshparty option\n",
    "\n",
    "Pseudocode: \n",
    "1) Load one of the meshes to try and preprocess\n",
    "2) Use the preprocessing pipeline with meshparty selected\n",
    "3) visualize\n",
    "\n",
    "\"\"\""
   ]
  },
  {
   "cell_type": "code",
   "execution_count": 2,
   "metadata": {},
   "outputs": [],
   "source": [
    "from os import sys\n",
    "sys.path.append(\"/meshAfterParty/\")\n",
    "from importlib import reload\n",
    "import os\n",
    "from pathlib import Path\n",
    "import time"
   ]
  },
  {
   "cell_type": "code",
   "execution_count": 3,
   "metadata": {},
   "outputs": [
    {
     "name": "stderr",
     "output_type": "stream",
     "text": [
      "WARNING:root:Need to pip install annotationframeworkclient to repair mesh with pychunkedgraph\n",
      "WARNING:root:Need to pip install annotationframeworkclient to use dataset_name parameters\n"
     ]
    }
   ],
   "source": [
    "import neuron_utils as nru\n",
    "nru = reload(nru)\n",
    "import neuron\n",
    "neuron=reload(neuron)\n",
    "\n",
    "import system_utils as su\n",
    "import numpy as np"
   ]
  },
  {
   "cell_type": "markdown",
   "metadata": {},
   "source": [
    "# Load the Neuron mesh"
   ]
  },
  {
   "cell_type": "code",
   "execution_count": 4,
   "metadata": {},
   "outputs": [],
   "source": [
    "import trimesh_utils as tu\n",
    "mesh_file_path = Path(\"/notebooks/test_neurons/multi_soma_example.off\")\n",
    "mesh_file_path.exists()\n",
    "current_neuron_mesh = tu.load_mesh_no_processing(str(mesh_file_path.absolute()))"
   ]
  },
  {
   "cell_type": "code",
   "execution_count": 5,
   "metadata": {},
   "outputs": [],
   "source": [
    "# picking a random segment id\n",
    "segment_id = 12345\n",
    "description = \"double_soma\""
   ]
  },
  {
   "cell_type": "markdown",
   "metadata": {},
   "source": [
    "# Doing the Actual processing of the Neuron"
   ]
  },
  {
   "cell_type": "code",
   "execution_count": 15,
   "metadata": {},
   "outputs": [],
   "source": [
    "import skeleton_utils as sk\n",
    "sk = reload(sk)"
   ]
  },
  {
   "cell_type": "code",
   "execution_count": 19,
   "metadata": {},
   "outputs": [
    {
     "name": "stdout",
     "output_type": "stream",
     "text": [
      "Current Arguments Using (adjusted for decimation):\n",
      " large_mesh_threshold= 15000.0 \n",
      "large_mesh_threshold_inner = 10000.0 \n",
      "soma_size_threshold = 1250.0 \n",
      "soma_size_threshold_max = 12000.0\n",
      "outer_decimation_ratio = 0.25\n",
      "inner_decimation_ratio = 0.25\n",
      "IN INPUT FILE VALIDATION LOOP\n",
      "LEAVING LOOP, MESH VALIDATED\n",
      "Using port = 2525\n",
      "xvfb-run -n 2525 -s \"-screen 0 800x600x24\" meshlabserver $@  -i /notebooks/Platinum_Skeletonization_meshparty/meshparty_testing/12345/neuron_12345.off -o /notebooks/Platinum_Skeletonization_meshparty/meshparty_testing/12345/neuron_12345_decimated.off -s /notebooks/Platinum_Skeletonization_meshparty/meshparty_testing/12345/decimation_meshlab_25975772.mls\n",
      "Total found significant pieces before Poisson = [<trimesh.Trimesh(vertices.shape=(139795, 3), faces.shape=(284336, 3))>]\n",
      "----- working on large mesh #0: <trimesh.Trimesh(vertices.shape=(139795, 3), faces.shape=(284336, 3))>\n",
      "pre_largest_mesh_path = /notebooks/Platinum_Skeletonization_meshparty/meshparty_testing/12345/neuron_12345_decimated_largest_piece.off\n",
      "IN INPUT FILE VALIDATION LOOP\n",
      "LEAVING LOOP, MESH VALIDATED\n",
      "Using port = 9869\n",
      "xvfb-run -n 9869 -s \"-screen 0 800x600x24\" meshlabserver $@  -i /notebooks/Platinum_Skeletonization_meshparty/meshparty_testing/12345/neuron_12345_decimated_largest_piece.off -o /notebooks/Platinum_Skeletonization_meshparty/meshparty_testing/12345/neuron_12345_decimated_largest_piece_poisson.off -s /notebooks/Platinum_Skeletonization_meshparty/meshparty_testing/12345/poisson_557872.mls\n"
     ]
    },
    {
     "name": "stderr",
     "output_type": "stream",
     "text": [
      "WARNING:trimesh:face_normals all zero, ignoring!\n",
      "WARNING:trimesh:face_normals all zero, ignoring!\n",
      "WARNING:trimesh:face_normals all zero, ignoring!\n",
      "WARNING:trimesh:face_normals all zero, ignoring!\n",
      "WARNING:trimesh:face_normals all zero, ignoring!\n",
      "WARNING:trimesh:face_normals all zero, ignoring!\n",
      "WARNING:trimesh:face_normals all zero, ignoring!\n",
      "WARNING:trimesh:face_normals all zero, ignoring!\n",
      "WARNING:trimesh:face_normals all zero, ignoring!\n",
      "WARNING:trimesh:face_normals all zero, ignoring!\n",
      "WARNING:trimesh:face_normals all zero, ignoring!\n",
      "WARNING:trimesh:face_normals all zero, ignoring!\n",
      "WARNING:trimesh:face_normals all zero, ignoring!\n",
      "WARNING:trimesh:face_normals all zero, ignoring!\n",
      "WARNING:trimesh:face_normals all zero, ignoring!\n",
      "WARNING:trimesh:face_normals all zero, ignoring!\n",
      "WARNING:trimesh:face_normals all zero, ignoring!\n",
      "WARNING:trimesh:face_normals all zero, ignoring!\n",
      "WARNING:trimesh:face_normals all zero, ignoring!\n",
      "WARNING:trimesh:face_normals all zero, ignoring!\n",
      "WARNING:trimesh:face_normals all zero, ignoring!\n",
      "WARNING:trimesh:face_normals all zero, ignoring!\n",
      "WARNING:trimesh:face_normals all zero, ignoring!\n",
      "WARNING:trimesh:face_normals all zero, ignoring!\n",
      "WARNING:trimesh:face_normals all zero, ignoring!\n",
      "WARNING:trimesh:face_normals all zero, ignoring!\n",
      "WARNING:trimesh:face_normals all zero, ignoring!\n",
      "WARNING:trimesh:face_normals all zero, ignoring!\n",
      "WARNING:trimesh:face_normals all zero, ignoring!\n",
      "WARNING:trimesh:face_normals all zero, ignoring!\n",
      "WARNING:trimesh:face_normals all zero, ignoring!\n",
      "WARNING:trimesh:face_normals all zero, ignoring!\n",
      "WARNING:trimesh:face_normals all zero, ignoring!\n",
      "WARNING:trimesh:face_normals all zero, ignoring!\n",
      "WARNING:trimesh:face_normals all zero, ignoring!\n",
      "WARNING:trimesh:face_normals all zero, ignoring!\n",
      "WARNING:trimesh:face_normals all zero, ignoring!\n",
      "WARNING:trimesh:face_normals all zero, ignoring!\n",
      "WARNING:trimesh:face_normals all zero, ignoring!\n",
      "WARNING:trimesh:face_normals all zero, ignoring!\n",
      "WARNING:trimesh:face_normals all zero, ignoring!\n",
      "WARNING:trimesh:face_normals all zero, ignoring!\n",
      "WARNING:trimesh:face_normals all zero, ignoring!\n",
      "WARNING:trimesh:face_normals all zero, ignoring!\n",
      "WARNING:trimesh:face_normals all zero, ignoring!\n",
      "WARNING:trimesh:face_normals all zero, ignoring!\n",
      "WARNING:trimesh:face_normals all zero, ignoring!\n",
      "WARNING:trimesh:face_normals all zero, ignoring!\n",
      "WARNING:trimesh:face_normals all zero, ignoring!\n",
      "WARNING:trimesh:face_normals all zero, ignoring!\n",
      "WARNING:trimesh:face_normals all zero, ignoring!\n",
      "WARNING:trimesh:face_normals all zero, ignoring!\n",
      "WARNING:trimesh:face_normals all zero, ignoring!\n",
      "WARNING:trimesh:face_normals all zero, ignoring!\n",
      "WARNING:trimesh:face_normals all zero, ignoring!\n",
      "WARNING:trimesh:face_normals all zero, ignoring!\n",
      "WARNING:trimesh:face_normals all zero, ignoring!\n",
      "WARNING:trimesh:face_normals all zero, ignoring!\n",
      "WARNING:trimesh:face_normals all zero, ignoring!\n",
      "WARNING:trimesh:face_normals all zero, ignoring!\n"
     ]
    },
    {
     "name": "stdout",
     "output_type": "stream",
     "text": [
      "Total found significant pieces AFTER Poisson = [<trimesh.Trimesh(vertices.shape=(151133, 3), faces.shape=(302274, 3))>, <trimesh.Trimesh(vertices.shape=(42554, 3), faces.shape=(85104, 3))>]\n",
      "----- working on mesh after poisson #0: <trimesh.Trimesh(vertices.shape=(151133, 3), faces.shape=(302274, 3))>\n",
      "IN INPUT FILE VALIDATION LOOP\n",
      "LEAVING LOOP, MESH VALIDATED\n",
      "Using port = 5272\n",
      "xvfb-run -n 5272 -s \"-screen 0 800x600x24\" meshlabserver $@  -i /notebooks/Platinum_Skeletonization_meshparty/meshparty_testing/12345/neuron_12345_decimated_largest_piece_poisson_largest_inner.off -o /notebooks/Platinum_Skeletonization_meshparty/meshparty_testing/12345/neuron_12345_decimated_largest_piece_poisson_largest_inner_decimated.off -s /notebooks/Platinum_Skeletonization_meshparty/meshparty_testing/12345/decimation_meshlab_2589493.mls\n",
      "done exporting decimated mesh: neuron_12345_decimated_largest_piece_poisson_largest_inner.off\n",
      "1) Starting: Mesh importing and Pymesh fix\n",
      "loading mesh from vertices and triangles array\n",
      "1) Finished: Mesh importing and Pymesh fix: 0.0002567768096923828\n",
      "2) Staring: Generating CGAL segmentation for neuron\n",
      "Done writing OFF file\n",
      "\n",
      "Starting CGAL segmentation\n",
      "Right before cgal segmentation, clusters = 3, smoothness = 0.2, path_and_filename = /notebooks/Platinum_Skeletonization_meshparty/meshparty_testing/temp/1234500_fixed \n",
      "1\n",
      "Finished CGAL segmentation algorithm: 11.468173503875732\n",
      "2) Finished: Generating CGAL segmentation for neuron: 13.612379550933838\n",
      "3) Staring: Generating Graph Structure and Identifying Soma using soma size threshold  = 3000\n",
      "my_list_keys = [0, 1, 2, 3, 4, 5, 6, 7, 8, 9, 10, 11, 12, 13, 14, 15, 16, 17, 18, 19, 20, 21, 22, 23, 24, 25]\n",
      "changed the median value\n",
      "changed the mean value\n",
      "changed the max value\n",
      "changed the median value\n",
      "changed the mean value\n",
      "changed the max value\n",
      "soma_index = 8\n",
      "3) Finished: Generating Graph Structure and Identifying Soma: 0.050089120864868164\n",
      "Not finding the apical because soma_only option selected\n",
      "6) Staring: Classifying Entire Neuron\n",
      "Total Labels found = {'unsure', 'soma'}\n",
      "6) Finished: Classifying Entire Neuron: 0.0003731250762939453\n",
      "7) Staring: Transfering Segmentation Labels to Face Labels\n",
      "7) Finished: Transfering Segmentation Labels to Face Labels: 0.1592271327972412\n",
      "8) Staring: Generating final Vertex and Face Labels\n",
      "8) Finished: Generating final Vertex and Face Labels: 0.7404677867889404\n",
      "Returning the soma_sdf value AND the classifier\n",
      "soma_sdf_value = 0.871016\n",
      "segmentation[sorted_medians],median_values[sorted_medians] = (array([ 8,  0, 20, 21,  2, 17,  5, 22, 11, 23,  7, 18,  3, 14, 12, 19,  6,\n",
      "       10, 16, 15,  4,  9,  1, 24, 13, 25]), array([0.871016  , 0.158708  , 0.14149   , 0.119257  , 0.113435  ,\n",
      "       0.09777135, 0.0925525 , 0.0640123 , 0.0579191 , 0.05534665,\n",
      "       0.0503552 , 0.0495514 , 0.0494046 , 0.0470996 , 0.0461567 ,\n",
      "       0.0458783 , 0.0458163 , 0.0451689 , 0.0448272 , 0.0446246 ,\n",
      "       0.043913  , 0.0403573 , 0.0402801 , 0.0397722 , 0.03789885,\n",
      "       0.032957  ]))\n",
      "Sizes = [6001, 10757, 139, 735, 2243, 1552, 2469, 261, 423, 3806, 4498, 6100, 3901, 3576, 1733, 6263, 3973, 4035, 3199, 1171, 749, 3345, 2269, 953, 604, 813]\n",
      "valid_soma_segments_width\n",
      "      ------ Found 1 viable somas: [8]\n",
      "Using Poisson Surface Reconstruction to make mesh watertight\n",
      "IN INPUT FILE VALIDATION LOOP\n",
      "LEAVING LOOP, MESH VALIDATED\n",
      "Using port = 3507\n",
      "xvfb-run -n 3507 -s \"-screen 0 800x600x24\" meshlabserver $@  -i /notebooks/Platinum_Skeletonization_meshparty/meshparty_testing/Poisson_temp/neuron_767069.off -o /notebooks/Platinum_Skeletonization_meshparty/meshparty_testing/Poisson_temp/neuron_767069_poisson.off -s /notebooks/Platinum_Skeletonization_meshparty/meshparty_testing/Poisson_temp/poisson_483354.mls\n"
     ]
    },
    {
     "name": "stderr",
     "output_type": "stream",
     "text": [
      "WARNING:trimesh:face_normals all zero, ignoring!\n",
      "WARNING:trimesh:face_normals all zero, ignoring!\n"
     ]
    },
    {
     "name": "stdout",
     "output_type": "stream",
     "text": [
      "removed temporary input file: /notebooks/Platinum_Skeletonization_meshparty/meshparty_testing/Poisson_temp/neuron_767069.off\n",
      "removed temporary output file: /notebooks/Platinum_Skeletonization_meshparty/meshparty_testing/Poisson_temp/neuron_767069_poisson.off\n",
      "/notebooks/Platinum_Skeletonization_meshparty/meshparty_testing/Poisson_temp/poisson_483354.mls is being deleted....\n",
      "Inside sphere validater: ratio_val = 2.7559125454571776\n",
      "----- working on mesh after poisson #1: <trimesh.Trimesh(vertices.shape=(42554, 3), faces.shape=(85104, 3))>\n",
      "IN INPUT FILE VALIDATION LOOP\n",
      "LEAVING LOOP, MESH VALIDATED\n",
      "Using port = 4590\n",
      "xvfb-run -n 4590 -s \"-screen 0 800x600x24\" meshlabserver $@  -i /notebooks/Platinum_Skeletonization_meshparty/meshparty_testing/12345/neuron_12345_decimated_largest_piece_poisson_largest_inner.off -o /notebooks/Platinum_Skeletonization_meshparty/meshparty_testing/12345/neuron_12345_decimated_largest_piece_poisson_largest_inner_decimated.off -s /notebooks/Platinum_Skeletonization_meshparty/meshparty_testing/12345/decimation_meshlab_2589493.mls\n",
      "done exporting decimated mesh: neuron_12345_decimated_largest_piece_poisson_largest_inner.off\n",
      "1) Starting: Mesh importing and Pymesh fix\n",
      "loading mesh from vertices and triangles array\n",
      "1) Finished: Mesh importing and Pymesh fix: 0.0006990432739257812\n",
      "2) Staring: Generating CGAL segmentation for neuron\n",
      "Done writing OFF file\n",
      "\n",
      "Starting CGAL segmentation\n",
      "Right before cgal segmentation, clusters = 3, smoothness = 0.2, path_and_filename = /notebooks/Platinum_Skeletonization_meshparty/meshparty_testing/temp/1234501_fixed \n",
      "1\n",
      "Finished CGAL segmentation algorithm: 3.7763233184814453\n",
      "2) Finished: Generating CGAL segmentation for neuron: 4.316140174865723\n",
      "3) Staring: Generating Graph Structure and Identifying Soma using soma size threshold  = 3000\n",
      "my_list_keys = [0, 1, 2, 3, 4, 5, 6, 7, 8, 9, 10, 11]\n",
      "changed the median value\n",
      "changed the mean value\n",
      "changed the max value\n",
      "soma_index = 2\n",
      "3) Finished: Generating Graph Structure and Identifying Soma: 0.01609635353088379\n",
      "Not finding the apical because soma_only option selected\n",
      "6) Staring: Classifying Entire Neuron\n",
      "Total Labels found = {'unsure', 'soma'}\n",
      "6) Finished: Classifying Entire Neuron: 0.000396728515625\n",
      "7) Staring: Transfering Segmentation Labels to Face Labels\n",
      "7) Finished: Transfering Segmentation Labels to Face Labels: 0.03670144081115723\n",
      "8) Staring: Generating final Vertex and Face Labels\n",
      "8) Finished: Generating final Vertex and Face Labels: 0.20593667030334473\n",
      "Returning the soma_sdf value AND the classifier\n",
      "soma_sdf_value = 0.861697\n",
      "segmentation[sorted_medians],median_values[sorted_medians] = (array([ 2, 10,  3,  8,  9,  1,  4,  7,  6,  5,  0, 11]), array([0.861697  , 0.129873  , 0.124665  , 0.0995653 , 0.098689  ,\n",
      "       0.0624025 , 0.05667075, 0.0533369 , 0.0409688 , 0.0400421 ,\n",
      "       0.0391096 , 0.0256826 ]))\n",
      "Sizes = [4205, 758, 1023, 617, 534, 2741, 658, 5774, 3017, 357, 1153, 439]\n",
      "valid_soma_segments_width\n",
      "      ------ Found 1 viable somas: [2]\n",
      "Using Poisson Surface Reconstruction to make mesh watertight\n",
      "IN INPUT FILE VALIDATION LOOP\n",
      "LEAVING LOOP, MESH VALIDATED\n",
      "Using port = 6481\n",
      "xvfb-run -n 6481 -s \"-screen 0 800x600x24\" meshlabserver $@  -i /notebooks/Platinum_Skeletonization_meshparty/meshparty_testing/Poisson_temp/neuron_717369.off -o /notebooks/Platinum_Skeletonization_meshparty/meshparty_testing/Poisson_temp/neuron_717369_poisson.off -s /notebooks/Platinum_Skeletonization_meshparty/meshparty_testing/Poisson_temp/poisson_840779.mls\n",
      "removed temporary input file: /notebooks/Platinum_Skeletonization_meshparty/meshparty_testing/Poisson_temp/neuron_717369.off\n",
      "removed temporary output file: /notebooks/Platinum_Skeletonization_meshparty/meshparty_testing/Poisson_temp/neuron_717369_poisson.off\n",
      "/notebooks/Platinum_Skeletonization_meshparty/meshparty_testing/Poisson_temp/poisson_840779.mls is being deleted....\n",
      "Inside sphere validater: ratio_val = 2.9142690667536324\n",
      "\n",
      "\n",
      "\n",
      " Total time for run = 159.51447558403015\n"
     ]
    }
   ],
   "source": [
    "import soma_extraction_utils as sm\n",
    "somas = sm.extract_soma_center(segment_id,\n",
    "                                                 current_neuron_mesh.vertices,\n",
    "                                                 current_neuron_mesh.faces)"
   ]
  },
  {
   "cell_type": "code",
   "execution_count": 35,
   "metadata": {},
   "outputs": [
    {
     "name": "stdout",
     "output_type": "stream",
     "text": [
      "--- 0) Having to preprocess the Neuron becuase no preprocessed data\n",
      "Please wait this could take a while.....\n",
      "\n",
      "\n",
      "\n",
      "\n",
      "\n",
      "****** Phase A ***************\n",
      "\n",
      "\n",
      "\n",
      "\n",
      "\n",
      "Soma List = [<trimesh.Trimesh(vertices.shape=(3065, 3), faces.shape=(6001, 3))>, <trimesh.Trimesh(vertices.shape=(2124, 3), faces.shape=(4205, 3))>]\n",
      "soma_mesh_list_centers = [array([756862.7897553 , 959093.87004894, 874202.02264274]), array([864007.66209981, 994520.88554614, 859495.97886064])]\n",
      "# total split meshes = 79\n",
      "There were 78 pieces found after size threshold\n",
      "# of non soma touching seperate meshes = 58\n",
      "# of inside pieces = 20\n",
      "# of soma containing seperate meshes = 1\n",
      "meshes with somas = {0: [0, 1]}\n",
      "\n",
      "\n",
      "----Working on soma-containing mesh piece {z}----\n",
      "\n",
      "inside Soma subtraction\n",
      "mesh pieces in subtact soma BEFORE the filtering inside pieces = [<trimesh.Trimesh(vertices.shape=(153985, 3), faces.shape=(308998, 3))>, <trimesh.Trimesh(vertices.shape=(87699, 3), faces.shape=(176253, 3))>, <trimesh.Trimesh(vertices.shape=(57751, 3), faces.shape=(115799, 3))>, <trimesh.Trimesh(vertices.shape=(57006, 3), faces.shape=(114738, 3))>, <trimesh.Trimesh(vertices.shape=(54953, 3), faces.shape=(110120, 3))>, <trimesh.Trimesh(vertices.shape=(51856, 3), faces.shape=(104070, 3))>, <trimesh.Trimesh(vertices.shape=(29317, 3), faces.shape=(58765, 3))>, <trimesh.Trimesh(vertices.shape=(29167, 3), faces.shape=(58576, 3))>, <trimesh.Trimesh(vertices.shape=(14725, 3), faces.shape=(29598, 3))>, <trimesh.Trimesh(vertices.shape=(1234, 3), faces.shape=(2421, 3))>]\n",
      "There were 10 pieces found after size threshold\n",
      "mesh pieces in subtact soma AFTER the filtering inside pieces = [<trimesh.Trimesh(vertices.shape=(153985, 3), faces.shape=(308998, 3))>, <trimesh.Trimesh(vertices.shape=(87699, 3), faces.shape=(176253, 3))>, <trimesh.Trimesh(vertices.shape=(57751, 3), faces.shape=(115799, 3))>, <trimesh.Trimesh(vertices.shape=(57006, 3), faces.shape=(114738, 3))>, <trimesh.Trimesh(vertices.shape=(54953, 3), faces.shape=(110120, 3))>, <trimesh.Trimesh(vertices.shape=(51856, 3), faces.shape=(104070, 3))>, <trimesh.Trimesh(vertices.shape=(29317, 3), faces.shape=(58765, 3))>, <trimesh.Trimesh(vertices.shape=(29167, 3), faces.shape=(58576, 3))>, <trimesh.Trimesh(vertices.shape=(14725, 3), faces.shape=(29598, 3))>, <trimesh.Trimesh(vertices.shape=(1234, 3), faces.shape=(2421, 3))>]\n",
      "Total Time for soma mesh cancellation = 2.984\n",
      "Total time for Subtract Soam = 2.9852724075317383\n",
      "Total time for Original_mesh_faces_map for mesh_pieces without soma= 0.7462847232818604\n",
      "Total time for Original_mesh_faces_map for somas= 0.8486206531524658\n",
      "Total time for sig_non_soma_pieces= 1.935054063796997\n",
      "Total time for split= 0.12485027313232422\n"
     ]
    },
    {
     "name": "stderr",
     "output_type": "stream",
     "text": [
      "\r",
      "  0%|          | 0/1 [00:00<?, ?it/s]"
     ]
    },
    {
     "name": "stdout",
     "output_type": "stream",
     "text": [
      "Total time for mesh_pieces_connectivity= 11.65623688697815\n",
      "# of insignificant_limbs = 0 with trimesh : []\n",
      "Using DECOMPOSITION TYPE: meshparty\n",
      "------------Working on limb #0-------------\n",
      "Root for limb 0 = [758199.2 951673.5 875799.4]\n",
      "\n",
      "Step 1: Starting Skeletonization\n",
      "smooth_neighborhood = 1\n",
      "smooth_neighborhood = 1\n"
     ]
    },
    {
     "name": "stderr",
     "output_type": "stream",
     "text": [
      "\n",
      "  0%|          | 0/153984 [00:00<?, ?it/s]\u001b[A\n",
      " 46%|████▌     | 70319/153984 [00:00<00:00, 320924.52it/s]\u001b[A\n",
      " 55%|█████▌    | 85116/153984 [00:00<00:00, 192097.13it/s]\u001b[A\n",
      " 62%|██████▏   | 95205/153984 [00:00<00:00, 87316.97it/s] \u001b[A\n",
      " 68%|██████▊   | 105403/153984 [00:00<00:00, 55330.88it/s]\u001b[A\n",
      " 75%|███████▍  | 115331/153984 [00:01<00:00, 52245.41it/s]\u001b[A\n",
      " 80%|████████  | 123685/153984 [00:01<00:00, 45447.95it/s]\u001b[A\n",
      " 84%|████████▍ | 129200/153984 [00:01<00:00, 37573.17it/s]\u001b[A\n",
      " 89%|████████▉ | 137152/153984 [00:02<00:00, 28177.33it/s]\u001b[A\n",
      " 94%|█████████▍| 144562/153984 [00:02<00:00, 28490.35it/s]\u001b[A\n",
      " 96%|█████████▌| 148070/153984 [00:02<00:00, 15247.99it/s]\u001b[A\n",
      "100%|██████████| 153984/153984 [00:03<00:00, 48291.26it/s]\u001b[A\n",
      "100%|██████████| 1/1 [00:03<00:00,  3.52s/it]\n"
     ]
    },
    {
     "name": "stdout",
     "output_type": "stream",
     "text": [
      "Total time for meshParty skeletonization = 4.8553643226623535\n",
      "\n",
      "Step 2: Decomposing Branches\n",
      "Total time for meshParty decomposition = 0.06760311126708984\n",
      "\n",
      "Step 3: Mesh correspondence\n",
      "max(original_labels),len(original_labels) = (60, 61)\n",
      "empty_indices % = 0.0\n",
      " conflict_indices % = 0.01309393588308015\n"
     ]
    },
    {
     "data": {
      "application/vnd.jupyter.widget-view+json": {
       "model_id": "8aa006a83d3a4a83a9028084c425f09d",
       "version_major": 2,
       "version_minor": 0
      },
      "text/plain": [
       "HBox(children=(FloatProgress(value=0.0, max=28.0), HTML(value='')))"
      ]
     },
     "metadata": {},
     "output_type": "display_data"
    },
    {
     "name": "stdout",
     "output_type": "stream",
     "text": [
      "\n"
     ]
    },
    {
     "data": {
      "application/vnd.jupyter.widget-view+json": {
       "model_id": "8183705efa3c4d838a2602dfd10eba56",
       "version_major": 2,
       "version_minor": 0
      },
      "text/plain": [
       "HBox(children=(FloatProgress(value=0.0, max=61.0), HTML(value='')))"
      ]
     },
     "metadata": {},
     "output_type": "display_data"
    },
    {
     "name": "stderr",
     "output_type": "stream",
     "text": [
      "\r",
      "  0%|          | 0/1 [00:00<?, ?it/s]"
     ]
    },
    {
     "name": "stdout",
     "output_type": "stream",
     "text": [
      "\n",
      "Total time for meshParty mesh correspondence = 5.559762477874756\n",
      "\n",
      "Step 4: Retrieving Widths\n",
      "Total time for meshParty Retrieving Widths = 0.0054759979248046875\n",
      "\n",
      "branch segment sizes = {0: (443, 2, 3), 1: (24, 2, 3), 2: (183, 2, 3), 3: (85, 2, 3), 4: (44, 2, 3), 5: (85, 2, 3), 6: (127, 2, 3), 7: (32, 2, 3), 8: (42, 2, 3), 9: (26, 2, 3), 10: (35, 2, 3), 11: (54, 2, 3), 12: (65, 2, 3), 13: (218, 2, 3), 14: (230, 2, 3), 15: (143, 2, 3), 16: (170, 2, 3), 17: (50, 2, 3), 18: (111, 2, 3), 19: (60, 2, 3), 20: (429, 2, 3), 21: (102, 2, 3), 22: (2, 2, 3), 23: (20, 2, 3), 24: (6, 2, 3), 25: (82, 2, 3), 26: (218, 2, 3), 27: (29, 2, 3), 28: (74, 2, 3), 29: (18, 2, 3), 30: (337, 2, 3), 31: (47, 2, 3), 32: (40, 2, 3), 33: (15, 2, 3), 34: (180, 2, 3), 35: (271, 2, 3), 36: (234, 2, 3), 37: (65, 2, 3), 38: (102, 2, 3), 39: (54, 2, 3), 40: (137, 2, 3), 41: (60, 2, 3), 42: (70, 2, 3), 43: (147, 2, 3), 44: (201, 2, 3), 45: (53, 2, 3), 46: (141, 2, 3), 47: (144, 2, 3), 48: (163, 2, 3), 49: (57, 2, 3), 50: (50, 2, 3), 51: (171, 2, 3), 52: (108, 2, 3), 53: (330, 2, 3), 54: (392, 2, 3), 55: (268, 2, 3), 56: (336, 2, 3), 57: (354, 2, 3), 58: (397, 2, 3), 59: (58, 2, 3), 60: (87, 2, 3)}\n",
      "------------Working on limb #1-------------\n",
      "Root for limb 1 = [857494.2 996403.1 860228.6]\n",
      "\n",
      "Step 1: Starting Skeletonization\n",
      "smooth_neighborhood = 1\n",
      "smooth_neighborhood = 1\n"
     ]
    },
    {
     "name": "stderr",
     "output_type": "stream",
     "text": [
      "\n",
      "  0%|          | 0/87698 [00:00<?, ?it/s]\u001b[A\n",
      " 50%|█████     | 43961/87698 [00:00<00:00, 343100.16it/s]\u001b[A\n",
      " 66%|██████▌   | 57687/87698 [00:00<00:00, 225654.47it/s]\u001b[A\n",
      " 83%|████████▎ | 73025/87698 [00:00<00:00, 109101.57it/s]\u001b[A\n",
      "100%|██████████| 87698/87698 [00:01<00:00, 63730.99it/s] \u001b[A\n",
      "100%|██████████| 1/1 [00:01<00:00,  1.54s/it]\n"
     ]
    },
    {
     "name": "stdout",
     "output_type": "stream",
     "text": [
      "Total time for meshParty skeletonization = 2.3217058181762695\n",
      "\n",
      "Step 2: Decomposing Branches\n",
      "Total time for meshParty decomposition = 0.045412540435791016\n",
      "\n",
      "Step 3: Mesh correspondence\n",
      "max(original_labels),len(original_labels) = (44, 45)\n",
      "empty_indices % = 0.0\n",
      " conflict_indices % = 0.010961515548671513\n"
     ]
    },
    {
     "data": {
      "application/vnd.jupyter.widget-view+json": {
       "model_id": "36da9f85137841da93eea07503038a1d",
       "version_major": 2,
       "version_minor": 0
      },
      "text/plain": [
       "HBox(children=(FloatProgress(value=0.0, max=19.0), HTML(value='')))"
      ]
     },
     "metadata": {},
     "output_type": "display_data"
    },
    {
     "name": "stdout",
     "output_type": "stream",
     "text": [
      "\n"
     ]
    },
    {
     "data": {
      "application/vnd.jupyter.widget-view+json": {
       "model_id": "4c782eef49c348f0a052c078beba3d5e",
       "version_major": 2,
       "version_minor": 0
      },
      "text/plain": [
       "HBox(children=(FloatProgress(value=0.0, max=45.0), HTML(value='')))"
      ]
     },
     "metadata": {},
     "output_type": "display_data"
    },
    {
     "name": "stderr",
     "output_type": "stream",
     "text": [
      "  0%|          | 0/1 [00:00<?, ?it/s]\n",
      "  0%|          | 0/57750 [00:00<?, ?it/s]\u001b[A"
     ]
    },
    {
     "name": "stdout",
     "output_type": "stream",
     "text": [
      "\n",
      "Total time for meshParty mesh correspondence = 3.277130365371704\n",
      "\n",
      "Step 4: Retrieving Widths\n",
      "Total time for meshParty Retrieving Widths = 0.003504037857055664\n",
      "\n",
      "branch segment sizes = {0: (421, 2, 3), 1: (173, 2, 3), 2: (471, 2, 3), 3: (57, 2, 3), 4: (134, 2, 3), 5: (186, 2, 3), 6: (9, 2, 3), 7: (92, 2, 3), 8: (34, 2, 3), 9: (66, 2, 3), 10: (18, 2, 3), 11: (60, 2, 3), 12: (92, 2, 3), 13: (156, 2, 3), 14: (102, 2, 3), 15: (13, 2, 3), 16: (155, 2, 3), 17: (126, 2, 3), 18: (8, 2, 3), 19: (82, 2, 3), 20: (30, 2, 3), 21: (1, 2, 3), 22: (3, 2, 3), 23: (86, 2, 3), 24: (166, 2, 3), 25: (259, 2, 3), 26: (30, 2, 3), 27: (116, 2, 3), 28: (85, 2, 3), 29: (288, 2, 3), 30: (33, 2, 3), 31: (577, 2, 3), 32: (128, 2, 3), 33: (14, 2, 3), 34: (83, 2, 3), 35: (139, 2, 3), 36: (98, 2, 3), 37: (34, 2, 3), 38: (156, 2, 3), 39: (50, 2, 3), 40: (43, 2, 3), 41: (353, 2, 3), 42: (362, 2, 3), 43: (64, 2, 3), 44: (46, 2, 3)}\n",
      "------------Working on limb #2-------------\n",
      "Root for limb 2 = [865523.6 999041.2 866004.2]\n",
      "\n",
      "Step 1: Starting Skeletonization\n",
      "smooth_neighborhood = 1\n",
      "smooth_neighborhood = 1\n"
     ]
    },
    {
     "name": "stderr",
     "output_type": "stream",
     "text": [
      "\n",
      " 75%|███████▌  | 43409/57750 [00:00<00:00, 228934.60it/s]\u001b[A\n",
      "100%|██████████| 57750/57750 [00:00<00:00, 64536.26it/s] \u001b[A\n",
      "100%|██████████| 1/1 [00:00<00:00,  1.01it/s]\n"
     ]
    },
    {
     "name": "stdout",
     "output_type": "stream",
     "text": [
      "Total time for meshParty skeletonization = 1.5558662414550781\n",
      "\n",
      "Step 2: Decomposing Branches\n",
      "Total time for meshParty decomposition = 0.046518564224243164\n",
      "\n",
      "Step 3: Mesh correspondence\n",
      "max(original_labels),len(original_labels) = (38, 39)\n",
      "empty_indices % = 0.0\n",
      " conflict_indices % = 0.010172799419684108\n"
     ]
    },
    {
     "data": {
      "application/vnd.jupyter.widget-view+json": {
       "model_id": "742919d4c83d4eca843afa2773943ee8",
       "version_major": 2,
       "version_minor": 0
      },
      "text/plain": [
       "HBox(children=(FloatProgress(value=0.0, max=18.0), HTML(value='')))"
      ]
     },
     "metadata": {},
     "output_type": "display_data"
    },
    {
     "name": "stdout",
     "output_type": "stream",
     "text": [
      "\n"
     ]
    },
    {
     "data": {
      "application/vnd.jupyter.widget-view+json": {
       "model_id": "9a52c95077ea414691c1858e607c7709",
       "version_major": 2,
       "version_minor": 0
      },
      "text/plain": [
       "HBox(children=(FloatProgress(value=0.0, max=39.0), HTML(value='')))"
      ]
     },
     "metadata": {},
     "output_type": "display_data"
    },
    {
     "name": "stdout",
     "output_type": "stream",
     "text": [
      "\n",
      "Total time for meshParty mesh correspondence = 2.055528402328491\n",
      "\n",
      "Step 4: Retrieving Widths\n",
      "Total time for meshParty Retrieving Widths = 0.004297971725463867\n",
      "\n",
      "branch segment sizes = {0: (141, 2, 3), 1: (15, 2, 3), 2: (36, 2, 3), 3: (457, 2, 3), 4: (258, 2, 3), 5: (152, 2, 3), 6: (14, 2, 3), 7: (14, 2, 3), 8: (12, 2, 3), 9: (77, 2, 3), 10: (189, 2, 3), 11: (10, 2, 3), 12: (111, 2, 3), 13: (95, 2, 3), 14: (76, 2, 3), 15: (185, 2, 3), 16: (78, 2, 3), 17: (3, 2, 3), 18: (762, 2, 3), 19: (326, 2, 3), 20: (55, 2, 3), 21: (66, 2, 3), 22: (111, 2, 3), 23: (4, 2, 3), 24: (83, 2, 3), 25: (56, 2, 3), 26: (36, 2, 3), 27: (64, 2, 3), 28: (183, 2, 3), 29: (79, 2, 3), 30: (37, 2, 3), 31: (77, 2, 3), 32: (328, 2, 3), 33: (40, 2, 3), 34: (55, 2, 3), 35: (284, 2, 3), 36: (31, 2, 3), 37: (280, 2, 3), 38: (127, 2, 3)}\n",
      "------------Working on limb #3-------------\n",
      "Root for limb 3 = [757928.4 962502.2 866083.1]\n",
      "\n",
      "Step 1: Starting Skeletonization\n",
      "smooth_neighborhood = 1\n",
      "smooth_neighborhood = 1\n"
     ]
    },
    {
     "name": "stderr",
     "output_type": "stream",
     "text": [
      "  0%|          | 0/1 [00:00<?, ?it/s]\n",
      "  0%|          | 0/57005 [00:00<?, ?it/s]\u001b[A\n",
      " 71%|███████   | 40516/57005 [00:00<00:00, 323373.67it/s]\u001b[A\n",
      "100%|██████████| 57005/57005 [00:00<00:00, 66605.98it/s] \u001b[A\n",
      "100%|██████████| 1/1 [00:00<00:00,  1.05it/s]\n"
     ]
    },
    {
     "name": "stdout",
     "output_type": "stream",
     "text": [
      "Total time for meshParty skeletonization = 1.5027730464935303\n",
      "\n",
      "Step 2: Decomposing Branches\n",
      "Total time for meshParty decomposition = 0.04194808006286621\n",
      "\n",
      "Step 3: Mesh correspondence\n",
      "max(original_labels),len(original_labels) = (47, 48)\n",
      "empty_indices % = 0.0\n",
      " conflict_indices % = 0.019339713085464276\n"
     ]
    },
    {
     "data": {
      "application/vnd.jupyter.widget-view+json": {
       "model_id": "7585ce12af804f62af51ed1f040c9caa",
       "version_major": 2,
       "version_minor": 0
      },
      "text/plain": [
       "HBox(children=(FloatProgress(value=0.0, max=25.0), HTML(value='')))"
      ]
     },
     "metadata": {},
     "output_type": "display_data"
    },
    {
     "name": "stdout",
     "output_type": "stream",
     "text": [
      "\n"
     ]
    },
    {
     "data": {
      "application/vnd.jupyter.widget-view+json": {
       "model_id": "850969445d2d4720a8eebbabcd0e00b9",
       "version_major": 2,
       "version_minor": 0
      },
      "text/plain": [
       "HBox(children=(FloatProgress(value=0.0, max=48.0), HTML(value='')))"
      ]
     },
     "metadata": {},
     "output_type": "display_data"
    },
    {
     "name": "stdout",
     "output_type": "stream",
     "text": [
      "\n",
      "Total time for meshParty mesh correspondence = 2.399609088897705\n",
      "\n",
      "Step 4: Retrieving Widths\n",
      "Total time for meshParty Retrieving Widths = 0.005278587341308594\n",
      "\n",
      "branch segment sizes = {0: (207, 2, 3), 1: (7, 2, 3), 2: (8, 2, 3), 3: (337, 2, 3), 4: (76, 2, 3), 5: (13, 2, 3), 6: (3, 2, 3), 7: (74, 2, 3), 8: (157, 2, 3), 9: (54, 2, 3), 10: (2, 2, 3), 11: (5, 2, 3), 12: (19, 2, 3), 13: (14, 2, 3), 14: (91, 2, 3), 15: (79, 2, 3), 16: (4, 2, 3), 17: (40, 2, 3), 18: (120, 2, 3), 19: (14, 2, 3), 20: (89, 2, 3), 21: (40, 2, 3), 22: (4, 2, 3), 23: (155, 2, 3), 24: (53, 2, 3), 25: (9, 2, 3), 26: (2, 2, 3), 27: (193, 2, 3), 28: (53, 2, 3), 29: (321, 2, 3), 30: (162, 2, 3), 31: (39, 2, 3), 32: (243, 2, 3), 33: (5, 2, 3), 34: (77, 2, 3), 35: (30, 2, 3), 36: (49, 2, 3), 37: (102, 2, 3), 38: (41, 2, 3), 39: (84, 2, 3), 40: (11, 2, 3), 41: (127, 2, 3), 42: (41, 2, 3), 43: (312, 2, 3), 44: (31, 2, 3), 45: (142, 2, 3), 46: (60, 2, 3), 47: (150, 2, 3)}\n",
      "------------Working on limb #4-------------\n",
      "Root for limb 4 = [750899.2 960779.2 879791.8]\n",
      "\n",
      "Step 1: Starting Skeletonization\n",
      "smooth_neighborhood = 1\n",
      "smooth_neighborhood = 1\n"
     ]
    },
    {
     "name": "stderr",
     "output_type": "stream",
     "text": [
      "  0%|          | 0/1 [00:00<?, ?it/s]\n",
      "  0%|          | 0/54952 [00:00<?, ?it/s]\u001b[A\n",
      " 62%|██████▏   | 34137/54952 [00:00<00:00, 283289.35it/s]\u001b[A\n",
      "100%|██████████| 54952/54952 [00:00<00:00, 86712.96it/s] \u001b[A\n",
      "100%|██████████| 1/1 [00:00<00:00,  1.37it/s]\n"
     ]
    },
    {
     "name": "stdout",
     "output_type": "stream",
     "text": [
      "Total time for meshParty skeletonization = 1.2404303550720215\n",
      "\n",
      "Step 2: Decomposing Branches\n",
      "Total time for meshParty decomposition = 0.03472399711608887\n",
      "\n",
      "Step 3: Mesh correspondence\n",
      "max(original_labels),len(original_labels) = (33, 34)\n",
      "empty_indices % = 0.0\n",
      " conflict_indices % = 0.01249545949872866\n"
     ]
    },
    {
     "data": {
      "application/vnd.jupyter.widget-view+json": {
       "model_id": "767346d1ba80424aa0412af183af09f9",
       "version_major": 2,
       "version_minor": 0
      },
      "text/plain": [
       "HBox(children=(FloatProgress(value=0.0, max=18.0), HTML(value='')))"
      ]
     },
     "metadata": {},
     "output_type": "display_data"
    },
    {
     "name": "stdout",
     "output_type": "stream",
     "text": [
      "\n"
     ]
    },
    {
     "data": {
      "application/vnd.jupyter.widget-view+json": {
       "model_id": "8530b5ebdbf94fc392e0b17c84340db0",
       "version_major": 2,
       "version_minor": 0
      },
      "text/plain": [
       "HBox(children=(FloatProgress(value=0.0, max=34.0), HTML(value='')))"
      ]
     },
     "metadata": {},
     "output_type": "display_data"
    },
    {
     "name": "stderr",
     "output_type": "stream",
     "text": [
      "  0%|          | 0/1 [00:00<?, ?it/s]\n",
      "  0%|          | 0/51855 [00:00<?, ?it/s]\u001b[A"
     ]
    },
    {
     "name": "stdout",
     "output_type": "stream",
     "text": [
      "\n",
      "Total time for meshParty mesh correspondence = 2.014843463897705\n",
      "\n",
      "Step 4: Retrieving Widths\n",
      "Total time for meshParty Retrieving Widths = 0.0040476322174072266\n",
      "\n",
      "branch segment sizes = {0: (87, 2, 3), 1: (15, 2, 3), 2: (5, 2, 3), 3: (2, 2, 3), 4: (62, 2, 3), 5: (5, 2, 3), 6: (41, 2, 3), 7: (35, 2, 3), 8: (131, 2, 3), 9: (24, 2, 3), 10: (46, 2, 3), 11: (120, 2, 3), 12: (36, 2, 3), 13: (50, 2, 3), 14: (116, 2, 3), 15: (115, 2, 3), 16: (39, 2, 3), 17: (40, 2, 3), 18: (64, 2, 3), 19: (12, 2, 3), 20: (165, 2, 3), 21: (482, 2, 3), 22: (31, 2, 3), 23: (304, 2, 3), 24: (119, 2, 3), 25: (13, 2, 3), 26: (107, 2, 3), 27: (266, 2, 3), 28: (312, 2, 3), 29: (38, 2, 3), 30: (101, 2, 3), 31: (86, 2, 3), 32: (243, 2, 3), 33: (402, 2, 3)}\n",
      "------------Working on limb #5-------------\n",
      "Root for limb 5 = [752618.4 964281.4 869517. ]\n",
      "\n",
      "Step 1: Starting Skeletonization\n",
      "smooth_neighborhood = 1\n",
      "smooth_neighborhood = 1\n"
     ]
    },
    {
     "name": "stderr",
     "output_type": "stream",
     "text": [
      "\n",
      "100%|██████████| 51855/51855 [00:00<00:00, 251398.19it/s]\u001b[A\n",
      "100%|██████████| 1/1 [00:00<00:00,  3.39it/s]\n"
     ]
    },
    {
     "name": "stdout",
     "output_type": "stream",
     "text": [
      "Total time for meshParty skeletonization = 0.7417123317718506\n",
      "\n",
      "Step 2: Decomposing Branches\n",
      "Total time for meshParty decomposition = 0.014194965362548828\n",
      "\n",
      "Step 3: Mesh correspondence\n",
      "max(original_labels),len(original_labels) = (6, 7)\n",
      "empty_indices % = 0.0\n",
      " conflict_indices % = 0.0036417795714422984\n"
     ]
    },
    {
     "data": {
      "application/vnd.jupyter.widget-view+json": {
       "model_id": "36605905dfdc4ee4bfb0d79647726ef6",
       "version_major": 2,
       "version_minor": 0
      },
      "text/plain": [
       "HBox(children=(FloatProgress(value=0.0, max=3.0), HTML(value='')))"
      ]
     },
     "metadata": {},
     "output_type": "display_data"
    },
    {
     "name": "stdout",
     "output_type": "stream",
     "text": [
      "\n"
     ]
    },
    {
     "data": {
      "application/vnd.jupyter.widget-view+json": {
       "model_id": "95a74c497d6842b797e91a2c63a02f1b",
       "version_major": 2,
       "version_minor": 0
      },
      "text/plain": [
       "HBox(children=(FloatProgress(value=0.0, max=7.0), HTML(value='')))"
      ]
     },
     "metadata": {},
     "output_type": "display_data"
    },
    {
     "name": "stderr",
     "output_type": "stream",
     "text": [
      "  0%|          | 0/1 [00:00<?, ?it/s]\n",
      "  0%|          | 0/29316 [00:00<?, ?it/s]\u001b[A"
     ]
    },
    {
     "name": "stdout",
     "output_type": "stream",
     "text": [
      "\n",
      "Total time for meshParty mesh correspondence = 1.6302413940429688\n",
      "\n",
      "Step 4: Retrieving Widths\n",
      "Total time for meshParty Retrieving Widths = 0.0011951923370361328\n",
      "\n",
      "branch segment sizes = {0: (774, 2, 3), 1: (127, 2, 3), 2: (65, 2, 3), 3: (78, 2, 3), 4: (90, 2, 3), 5: (353, 2, 3), 6: (792, 2, 3)}\n",
      "------------Working on limb #6-------------\n",
      "Root for limb 6 = [865118.6 988464.8 861143.9]\n",
      "\n",
      "Step 1: Starting Skeletonization\n",
      "smooth_neighborhood = 1\n",
      "smooth_neighborhood = 1\n"
     ]
    },
    {
     "name": "stderr",
     "output_type": "stream",
     "text": [
      "\n",
      "100%|██████████| 29316/29316 [00:00<00:00, 142281.80it/s]\u001b[A\n",
      "100%|██████████| 1/1 [00:00<00:00,  3.95it/s]\n"
     ]
    },
    {
     "name": "stdout",
     "output_type": "stream",
     "text": [
      "Total time for meshParty skeletonization = 0.5411090850830078\n",
      "\n",
      "Step 2: Decomposing Branches\n",
      "Total time for meshParty decomposition = 0.01511240005493164\n",
      "\n",
      "Step 3: Mesh correspondence\n",
      "max(original_labels),len(original_labels) = (16, 17)\n",
      "empty_indices % = 0.0\n",
      " conflict_indices % = 0.010618565472645282\n"
     ]
    },
    {
     "data": {
      "application/vnd.jupyter.widget-view+json": {
       "model_id": "a4bf0759f0f2493f87ff860ea4c4f3e4",
       "version_major": 2,
       "version_minor": 0
      },
      "text/plain": [
       "HBox(children=(FloatProgress(value=0.0, max=8.0), HTML(value='')))"
      ]
     },
     "metadata": {},
     "output_type": "display_data"
    },
    {
     "name": "stdout",
     "output_type": "stream",
     "text": [
      "\n"
     ]
    },
    {
     "data": {
      "application/vnd.jupyter.widget-view+json": {
       "model_id": "c921d5e01ae043eeae1bbc1cdd5e4f75",
       "version_major": 2,
       "version_minor": 0
      },
      "text/plain": [
       "HBox(children=(FloatProgress(value=0.0, max=17.0), HTML(value='')))"
      ]
     },
     "metadata": {},
     "output_type": "display_data"
    },
    {
     "name": "stderr",
     "output_type": "stream",
     "text": [
      "  0%|          | 0/1 [00:00<?, ?it/s]\n",
      "  0%|          | 0/29166 [00:00<?, ?it/s]\u001b[A"
     ]
    },
    {
     "name": "stdout",
     "output_type": "stream",
     "text": [
      "\n",
      "Total time for meshParty mesh correspondence = 1.10630464553833\n",
      "\n",
      "Step 4: Retrieving Widths\n",
      "Total time for meshParty Retrieving Widths = 0.002536773681640625\n",
      "\n",
      "branch segment sizes = {0: (142, 2, 3), 1: (168, 2, 3), 2: (34, 2, 3), 3: (24, 2, 3), 4: (12, 2, 3), 5: (1, 2, 3), 6: (31, 2, 3), 7: (50, 2, 3), 8: (326, 2, 3), 9: (58, 2, 3), 10: (118, 2, 3), 11: (211, 2, 3), 12: (128, 2, 3), 13: (142, 2, 3), 14: (482, 2, 3), 15: (53, 2, 3), 16: (164, 2, 3)}\n",
      "------------Working on limb #7-------------\n",
      "Root for limb 7 = [866520.2 994194.9 851413.6]\n",
      "\n",
      "Step 1: Starting Skeletonization\n",
      "smooth_neighborhood = 1\n",
      "smooth_neighborhood = 1\n"
     ]
    },
    {
     "name": "stderr",
     "output_type": "stream",
     "text": [
      "\n",
      "100%|██████████| 29166/29166 [00:00<00:00, 134036.92it/s]\u001b[A\n",
      "100%|██████████| 1/1 [00:00<00:00,  3.76it/s]\n"
     ]
    },
    {
     "name": "stdout",
     "output_type": "stream",
     "text": [
      "Total time for meshParty skeletonization = 0.549884557723999\n",
      "\n",
      "Step 2: Decomposing Branches\n",
      "Total time for meshParty decomposition = 0.017827510833740234\n",
      "\n",
      "Step 3: Mesh correspondence\n",
      "max(original_labels),len(original_labels) = (18, 19)\n",
      "empty_indices % = 0.0\n",
      " conflict_indices % = 0.010755258126195029\n"
     ]
    },
    {
     "data": {
      "application/vnd.jupyter.widget-view+json": {
       "model_id": "222d0a4c3f7d4a16bf039ca10bfdb312",
       "version_major": 2,
       "version_minor": 0
      },
      "text/plain": [
       "HBox(children=(FloatProgress(value=0.0, max=7.0), HTML(value='')))"
      ]
     },
     "metadata": {},
     "output_type": "display_data"
    },
    {
     "name": "stdout",
     "output_type": "stream",
     "text": [
      "\n"
     ]
    },
    {
     "data": {
      "application/vnd.jupyter.widget-view+json": {
       "model_id": "8f46526d35ed4bd68b71339470ac9830",
       "version_major": 2,
       "version_minor": 0
      },
      "text/plain": [
       "HBox(children=(FloatProgress(value=0.0, max=19.0), HTML(value='')))"
      ]
     },
     "metadata": {},
     "output_type": "display_data"
    },
    {
     "name": "stderr",
     "output_type": "stream",
     "text": [
      "  0%|          | 0/1 [00:00<?, ?it/s]\n",
      "  0%|          | 0/14724 [00:00<?, ?it/s]\u001b[A"
     ]
    },
    {
     "name": "stdout",
     "output_type": "stream",
     "text": [
      "\n",
      "Total time for meshParty mesh correspondence = 1.104395866394043\n",
      "\n",
      "Step 4: Retrieving Widths\n",
      "Total time for meshParty Retrieving Widths = 0.0032701492309570312\n",
      "\n",
      "branch segment sizes = {0: (62, 2, 3), 1: (196, 2, 3), 2: (68, 2, 3), 3: (82, 2, 3), 4: (42, 2, 3), 5: (141, 2, 3), 6: (6, 2, 3), 7: (320, 2, 3), 8: (28, 2, 3), 9: (239, 2, 3), 10: (83, 2, 3), 11: (4, 2, 3), 12: (149, 2, 3), 13: (94, 2, 3), 14: (94, 2, 3), 15: (167, 2, 3), 16: (309, 2, 3), 17: (34, 2, 3), 18: (35, 2, 3)}\n",
      "------------Working on limb #8-------------\n",
      "Root for limb 8 = [863258.4 994795.4 851581.6]\n",
      "\n",
      "Step 1: Starting Skeletonization\n",
      "smooth_neighborhood = 1\n",
      "smooth_neighborhood = 1\n"
     ]
    },
    {
     "name": "stderr",
     "output_type": "stream",
     "text": [
      "100%|██████████| 14724/14724 [00:00<00:00, 214116.33it/s]\n",
      "100%|██████████| 1/1 [00:00<00:00, 10.63it/s]\n"
     ]
    },
    {
     "name": "stdout",
     "output_type": "stream",
     "text": [
      "Total time for meshParty skeletonization = 0.2651026248931885\n",
      "\n",
      "Step 2: Decomposing Branches\n",
      "Total time for meshParty decomposition = 0.010241270065307617\n",
      "\n",
      "Step 3: Mesh correspondence\n",
      "max(original_labels),len(original_labels) = (10, 11)\n",
      "empty_indices % = 0.0\n",
      " conflict_indices % = 0.009358740455436177\n"
     ]
    },
    {
     "data": {
      "application/vnd.jupyter.widget-view+json": {
       "model_id": "aa24eab10fd64d5e856a04d0279d54c3",
       "version_major": 2,
       "version_minor": 0
      },
      "text/plain": [
       "HBox(children=(FloatProgress(value=0.0, max=4.0), HTML(value='')))"
      ]
     },
     "metadata": {},
     "output_type": "display_data"
    },
    {
     "name": "stdout",
     "output_type": "stream",
     "text": [
      "\n"
     ]
    },
    {
     "data": {
      "application/vnd.jupyter.widget-view+json": {
       "model_id": "0395ae0562cd418b89b3651da00e790b",
       "version_major": 2,
       "version_minor": 0
      },
      "text/plain": [
       "HBox(children=(FloatProgress(value=0.0, max=11.0), HTML(value='')))"
      ]
     },
     "metadata": {},
     "output_type": "display_data"
    },
    {
     "name": "stderr",
     "output_type": "stream",
     "text": [
      "  0%|          | 0/1 [00:00<?, ?it/s]\n",
      "100%|██████████| 1233/1233 [00:00<00:00, 396562.90it/s]\n",
      "100%|██████████| 1/1 [00:00<00:00, 108.63it/s]"
     ]
    },
    {
     "name": "stdout",
     "output_type": "stream",
     "text": [
      "\n",
      "Total time for meshParty mesh correspondence = 0.5140562057495117\n",
      "\n",
      "Step 4: Retrieving Widths\n",
      "Total time for meshParty Retrieving Widths = 0.0014128684997558594\n",
      "\n",
      "branch segment sizes = {0: (69, 2, 3), 1: (431, 2, 3), 2: (15, 2, 3), 3: (117, 2, 3), 4: (127, 2, 3), 5: (52, 2, 3), 6: (295, 2, 3), 7: (39, 2, 3), 8: (6, 2, 3), 9: (43, 2, 3), 10: (56, 2, 3)}\n",
      "------------Working on limb #9-------------\n",
      "Root for limb 9 = [759735.2 964457.4 877252.6]\n",
      "\n",
      "Step 1: Starting Skeletonization\n",
      "smooth_neighborhood = 1\n",
      "smooth_neighborhood = 1\n",
      "Total time for meshParty skeletonization = 0.033466339111328125\n",
      "\n",
      "Step 2: Decomposing Branches\n",
      "Total time for meshParty decomposition = 0.0012547969818115234\n",
      "\n",
      "Step 3: Mesh correspondence\n",
      "max(original_labels),len(original_labels) = (0, 1)\n",
      "empty_indices % = 0.0\n",
      " conflict_indices % = 0.0\n"
     ]
    },
    {
     "name": "stderr",
     "output_type": "stream",
     "text": [
      "\n"
     ]
    },
    {
     "data": {
      "application/vnd.jupyter.widget-view+json": {
       "model_id": "cf5dc3b0d7ea44f9b1338c12c2955f37",
       "version_major": 2,
       "version_minor": 0
      },
      "text/plain": [
       "HBox(children=(FloatProgress(value=1.0, bar_style='info', layout=Layout(width='20px'), max=1.0), HTML(value=''…"
      ]
     },
     "metadata": {},
     "output_type": "display_data"
    },
    {
     "name": "stdout",
     "output_type": "stream",
     "text": [
      "\n"
     ]
    },
    {
     "data": {
      "application/vnd.jupyter.widget-view+json": {
       "model_id": "690c5d5d97e346078ce7e21cfc3dcc1e",
       "version_major": 2,
       "version_minor": 0
      },
      "text/plain": [
       "HBox(children=(FloatProgress(value=0.0, max=1.0), HTML(value='')))"
      ]
     },
     "metadata": {},
     "output_type": "display_data"
    },
    {
     "name": "stdout",
     "output_type": "stream",
     "text": [
      "\n",
      "Total time for meshParty mesh correspondence = 0.08910036087036133\n",
      "\n",
      "Step 4: Retrieving Widths\n",
      "Total time for meshParty Retrieving Widths = 0.0003199577331542969\n",
      "\n",
      "branch segment sizes = {0: (65, 2, 3)}\n",
      "\n",
      "\n",
      "\n",
      "\n",
      "\n",
      "****** Phase C ***************\n",
      "\n",
      "\n",
      "\n",
      "\n",
      "\n",
      "\n",
      "\n",
      "------Working on limb 0 -------\n",
      "inside loop len(curr_limb_divided_meshes) = 61 len(curr_limb_divided_skeletons) = 61\n",
      "--- Working on soma_idx: 0----\n",
      "Total time for filtering periphery meshes = 0.6333177089691162\n",
      "touching_pieces = [4]\n",
      "Total time for mesh connectivity = 0.8727929592132568\n",
      "Touching piece endpoints = [[754818.09674815 945265.28459266 874984.43059141]\n",
      " [758656.5463299  950259.33381173 872013.37980394]]\n",
      "inside inner loop len(curr_limb_divided_skeletons) = 61\n",
      "closest_endpoint = [758656.5463299  950259.33381173 872013.37980394]\n",
      "Starting_edge inside branches_to_conept = [[754818.09674815 945265.28459266 874984.43059141]\n",
      " [758656.5463299  950259.33381173 872013.37980394]]\n",
      "At the start, starting_node (in terms of the skeleton, that shouldn't match the starting edge) = [39]\n",
      "printing out current edge:\n",
      "[[758656.5463299  950259.33381173 872013.37980394]\n",
      " [754818.09674815 945265.28459266 874984.43059141]]\n",
      "edge_endpoints_to_process was empty so exiting loop after 61 iterations\n",
      "starting_node in concept map (that should match the starting edge) = 4\n",
      "Total time for branches to concept conversion = 0.6497406959533691\n",
      "\n",
      "recovered_touching_piece = [4]\n",
      "After concept mapping size = 61\n",
      "Local time for concept mapping = 2.509115219116211\n",
      "\n",
      "\n",
      "------Working on limb 1 -------\n",
      "inside loop len(curr_limb_divided_meshes) = 45 len(curr_limb_divided_skeletons) = 45\n",
      "Merge limb detected\n",
      "--- Working on soma_idx: 0----\n",
      "Total time for filtering periphery meshes = 0.43523693084716797\n",
      "touching_pieces = [27]\n",
      "Total time for mesh connectivity = 0.2526395320892334\n",
      "Touching piece endpoints = [[763319.47401928 961876.86149876 878069.74620729]\n",
      " [783703.69662938 967336.72385451 880458.99853307]]\n",
      "inside inner loop len(curr_limb_divided_skeletons) = 45\n",
      "closest_endpoint = [763319.47401928 961876.86149876 878069.74620729]\n",
      "Starting_edge inside branches_to_conept = [[763319.47401928 961876.86149876 878069.74620729]\n",
      " [783703.69662938 967336.72385451 880458.99853307]]\n",
      "At the start, starting_node (in terms of the skeleton, that shouldn't match the starting edge) = [12]\n",
      "printing out current edge:\n",
      "[[763319.47401928 961876.86149876 878069.74620729]\n",
      " [783703.69662938 967336.72385451 880458.99853307]]\n",
      "edge_endpoints_to_process was empty so exiting loop after 45 iterations\n",
      "starting_node in concept map (that should match the starting edge) = 27\n",
      "Total time for branches to concept conversion = 0.46115899085998535\n",
      "\n",
      "recovered_touching_piece = [27]\n",
      "After concept mapping size = 45\n",
      "--- Working on soma_idx: 1----\n",
      "Total time for filtering periphery meshes = 0.309614896774292\n",
      "touching_pieces = [11]\n",
      "Total time for mesh connectivity = 1.0201935768127441\n",
      "Touching piece endpoints = [[846538.69876646 998521.21722096 862460.44584884]\n",
      " [857470.59801583 996491.14600112 860725.64803815]]\n",
      "inside inner loop len(curr_limb_divided_skeletons) = 45\n",
      "closest_endpoint = [857470.59801583 996491.14600112 860725.64803815]\n",
      "Starting_edge inside branches_to_conept = [[846538.69876646 998521.21722096 862460.44584884]\n",
      " [857470.59801583 996491.14600112 860725.64803815]]\n",
      "At the start, starting_node (in terms of the skeleton, that shouldn't match the starting edge) = [40]\n",
      "printing out current edge:\n",
      "[[857470.59801583 996491.14600112 860725.64803815]\n",
      " [846538.69876646 998521.21722096 862460.44584884]]\n",
      "edge_endpoints_to_process was empty so exiting loop after 45 iterations\n",
      "starting_node in concept map (that should match the starting edge) = 11\n",
      "Total time for branches to concept conversion = 0.43196773529052734\n",
      "\n",
      "recovered_touching_piece = [11]\n",
      "After concept mapping size = 45\n",
      "Local time for concept mapping = 3.397343635559082\n",
      "\n",
      "\n",
      "------Working on limb 2 -------\n",
      "inside loop len(curr_limb_divided_meshes) = 39 len(curr_limb_divided_skeletons) = 39\n",
      "--- Working on soma_idx: 1----\n",
      "Total time for filtering periphery meshes = 0.2678849697113037\n",
      "touching_pieces = [ 9 15]\n",
      "Total time for mesh connectivity = 0.5283627510070801\n",
      "**More than one touching point to soma, touching_pieces = {touching_pieces}**\n",
      "winning_piece_idx = 0\n",
      "Winning touching piece = [9]\n",
      "Touching piece endpoints = [[ 862645.9448396  1002884.0699445   880118.87865598]\n",
      " [ 865719.15477126  999002.75616007  866569.61575576]]\n",
      "inside inner loop len(curr_limb_divided_skeletons) = 39\n",
      "closest_endpoint = [865719.15477126 999002.75616007 866569.61575576]\n",
      "Starting_edge inside branches_to_conept = [[ 862645.9448396  1002884.0699445   880118.87865598]\n",
      " [ 865719.15477126  999002.75616007  866569.61575576]]\n",
      "At the start, starting_node (in terms of the skeleton, that shouldn't match the starting edge) = [10]\n",
      "printing out current edge:\n",
      "[[ 865719.15477126  999002.75616007  866569.61575576]\n",
      " [ 862645.9448396  1002884.0699445   880118.87865598]]\n",
      "edge_endpoints_to_process was empty so exiting loop after 39 iterations\n",
      "starting_node in concept map (that should match the starting edge) = 9\n",
      "Total time for branches to concept conversion = 0.39220499992370605\n",
      "\n",
      "recovered_touching_piece = [9]\n",
      "After concept mapping size = 39\n",
      "Local time for concept mapping = 1.4032413959503174\n",
      "\n",
      "\n",
      "------Working on limb 3 -------\n",
      "inside loop len(curr_limb_divided_meshes) = 48 len(curr_limb_divided_skeletons) = 48\n",
      "--- Working on soma_idx: 0----\n",
      "Total time for filtering periphery meshes = 0.39237308502197266\n",
      "touching_pieces = [ 8 16]\n",
      "Total time for mesh connectivity = 0.43012452125549316\n",
      "**More than one touching point to soma, touching_pieces = {touching_pieces}**\n",
      "winning_piece_idx = 0\n",
      "Winning touching piece = [8]\n",
      "Touching piece endpoints = [[758318.01129016 960400.42783777 865923.15869165]\n",
      " [779456.01263424 968505.54590413 847482.64810226]]\n",
      "inside inner loop len(curr_limb_divided_skeletons) = 48\n",
      "closest_endpoint = [758318.01129016 960400.42783777 865923.15869165]\n",
      "Starting_edge inside branches_to_conept = [[758318.01129016 960400.42783777 865923.15869165]\n",
      " [779456.01263424 968505.54590413 847482.64810226]]\n",
      "At the start, starting_node (in terms of the skeleton, that shouldn't match the starting edge) = [1]\n",
      "printing out current edge:\n",
      "[[758318.01129016 960400.42783777 865923.15869165]\n",
      " [779456.01263424 968505.54590413 847482.64810226]]\n",
      "edge_endpoints_to_process was empty so exiting loop after 48 iterations\n",
      "starting_node in concept map (that should match the starting edge) = 8\n",
      "Total time for branches to concept conversion = 0.32653069496154785\n",
      "\n",
      "recovered_touching_piece = [8]\n",
      "After concept mapping size = 48\n",
      "Local time for concept mapping = 1.336291790008545\n",
      "\n",
      "\n",
      "------Working on limb 4 -------\n",
      "inside loop len(curr_limb_divided_meshes) = 34 len(curr_limb_divided_skeletons) = 34\n",
      "--- Working on soma_idx: 0----\n",
      "Total time for filtering periphery meshes = 0.26763224601745605\n",
      "touching_pieces = [ 9 23]\n",
      "Total time for mesh connectivity = 0.38340282440185547\n",
      "**More than one touching point to soma, touching_pieces = {touching_pieces}**\n",
      "winning_piece_idx = 1\n",
      "Winning touching piece = [23]\n",
      "Touching piece endpoints = [[746921.13943236 963351.4204698  884152.30584531]\n",
      " [747808.29773297 960703.02792941 880761.06018392]]\n",
      "inside inner loop len(curr_limb_divided_skeletons) = 34\n",
      "closest_endpoint = [747808.29773297 960703.02792941 880761.06018392]\n",
      "Starting_edge inside branches_to_conept = [[746921.13943236 963351.4204698  884152.30584531]\n",
      " [747808.29773297 960703.02792941 880761.06018392]]\n",
      "At the start, starting_node (in terms of the skeleton, that shouldn't match the starting edge) = [22]\n",
      "printing out current edge:\n",
      "[[747808.29773297 960703.02792941 880761.06018392]\n",
      " [746921.13943236 963351.4204698  884152.30584531]]\n",
      "edge_endpoints_to_process was empty so exiting loop after 34 iterations\n",
      "starting_node in concept map (that should match the starting edge) = 9\n",
      "Total time for branches to concept conversion = 0.29662656784057617\n",
      "\n",
      "recovered_touching_piece = [9]\n",
      "After concept mapping size = 34\n",
      "Local time for concept mapping = 1.1063957214355469\n",
      "\n",
      "\n",
      "------Working on limb 5 -------\n",
      "inside loop len(curr_limb_divided_meshes) = 7 len(curr_limb_divided_skeletons) = 7\n",
      "--- Working on soma_idx: 0----\n",
      "Total time for filtering periphery meshes = 0.08143281936645508\n"
     ]
    },
    {
     "name": "stdout",
     "output_type": "stream",
     "text": [
      "touching_pieces = [2]\n",
      "Total time for mesh connectivity = 0.35342955589294434\n",
      "Touching piece endpoints = [[746565.14189411 969566.8857893  861509.36319248]\n",
      " [752721.52407524 964384.60481626 869347.08507125]]\n",
      "inside inner loop len(curr_limb_divided_skeletons) = 7\n",
      "closest_endpoint = [752721.52407524 964384.60481626 869347.08507125]\n",
      "Starting_edge inside branches_to_conept = [[746565.14189411 969566.8857893  861509.36319248]\n",
      " [752721.52407524 964384.60481626 869347.08507125]]\n",
      "At the start, starting_node (in terms of the skeleton, that shouldn't match the starting edge) = [4]\n",
      "printing out current edge:\n",
      "[[752721.52407524 964384.60481626 869347.08507125]\n",
      " [746565.14189411 969566.8857893  861509.36319248]]\n",
      "edge_endpoints_to_process was empty so exiting loop after 7 iterations\n",
      "starting_node in concept map (that should match the starting edge) = 2\n",
      "Total time for branches to concept conversion = 0.17215776443481445\n",
      "\n",
      "recovered_touching_piece = [2]\n",
      "After concept mapping size = 7\n",
      "Local time for concept mapping = 0.7074782848358154\n",
      "\n",
      "\n",
      "------Working on limb 6 -------\n",
      "inside loop len(curr_limb_divided_meshes) = 17 len(curr_limb_divided_skeletons) = 17\n",
      "--- Working on soma_idx: 1----\n",
      "Total time for filtering periphery meshes = 0.12733793258666992\n",
      "touching_pieces = [6]\n",
      "Total time for mesh connectivity = 0.17448806762695312\n",
      "Touching piece endpoints = [[865899.05115931 988116.36181451 860319.94103288]\n",
      " [865951.42692904 982604.31816129 862424.97066397]]\n",
      "inside inner loop len(curr_limb_divided_skeletons) = 17\n",
      "closest_endpoint = [865899.05115931 988116.36181451 860319.94103288]\n",
      "Starting_edge inside branches_to_conept = [[865899.05115931 988116.36181451 860319.94103288]\n",
      " [865951.42692904 982604.31816129 862424.97066397]]\n",
      "At the start, starting_node (in terms of the skeleton, that shouldn't match the starting edge) = [10]\n",
      "printing out current edge:\n",
      "[[865899.05115931 988116.36181451 860319.94103288]\n",
      " [865951.42692904 982604.31816129 862424.97066397]]\n",
      "edge_endpoints_to_process was empty so exiting loop after 17 iterations\n",
      "starting_node in concept map (that should match the starting edge) = 6\n",
      "Total time for branches to concept conversion = 0.1671135425567627\n",
      "\n",
      "recovered_touching_piece = [6]\n",
      "After concept mapping size = 17\n",
      "Local time for concept mapping = 0.5623233318328857\n",
      "\n",
      "\n",
      "------Working on limb 7 -------\n",
      "inside loop len(curr_limb_divided_meshes) = 19 len(curr_limb_divided_skeletons) = 19\n",
      "--- Working on soma_idx: 1----\n",
      "Total time for filtering periphery meshes = 0.13329672813415527\n",
      "touching_pieces = [3]\n",
      "Total time for mesh connectivity = 0.29097485542297363\n",
      "Touching piece endpoints = [[866775.63419604 993569.53505392 851090.71915791]\n",
      " [877220.1534711  992895.02375849 841137.38136029]]\n",
      "inside inner loop len(curr_limb_divided_skeletons) = 19\n",
      "closest_endpoint = [866775.63419604 993569.53505392 851090.71915791]\n",
      "Starting_edge inside branches_to_conept = [[866775.63419604 993569.53505392 851090.71915791]\n",
      " [877220.1534711  992895.02375849 841137.38136029]]\n",
      "At the start, starting_node (in terms of the skeleton, that shouldn't match the starting edge) = [1]\n",
      "printing out current edge:\n",
      "[[866775.63419604 993569.53505392 851090.71915791]\n",
      " [877220.1534711  992895.02375849 841137.38136029]]\n",
      "edge_endpoints_to_process was empty so exiting loop after 19 iterations\n",
      "starting_node in concept map (that should match the starting edge) = 3\n",
      "Total time for branches to concept conversion = 0.16945099830627441\n",
      "\n",
      "recovered_touching_piece = [3]\n",
      "After concept mapping size = 19\n",
      "Local time for concept mapping = 0.6890242099761963\n",
      "\n",
      "\n",
      "------Working on limb 8 -------\n",
      "inside loop len(curr_limb_divided_meshes) = 11 len(curr_limb_divided_skeletons) = 11\n",
      "--- Working on soma_idx: 1----\n",
      "Total time for filtering periphery meshes = 0.07974386215209961\n",
      "touching_pieces = [3]\n",
      "Total time for mesh connectivity = 0.3361935615539551\n",
      "Touching piece endpoints = [[850241.65438488 997733.96318925 835120.92336446]\n",
      " [863032.30498317 995516.5725724  851441.49164123]]\n",
      "inside inner loop len(curr_limb_divided_skeletons) = 11\n",
      "closest_endpoint = [863032.30498317 995516.5725724  851441.49164123]\n",
      "Starting_edge inside branches_to_conept = [[850241.65438488 997733.96318925 835120.92336446]\n",
      " [863032.30498317 995516.5725724  851441.49164123]]\n",
      "At the start, starting_node (in terms of the skeleton, that shouldn't match the starting edge) = [11]\n",
      "printing out current edge:\n",
      "[[863032.30498317 995516.5725724  851441.49164123]\n",
      " [850241.65438488 997733.96318925 835120.92336446]]\n",
      "edge_endpoints_to_process was empty so exiting loop after 11 iterations\n",
      "starting_node in concept map (that should match the starting edge) = 3\n",
      "Total time for branches to concept conversion = 0.10047602653503418\n",
      "\n",
      "recovered_touching_piece = [3]\n",
      "After concept mapping size = 11\n",
      "Local time for concept mapping = 0.5767500400543213\n",
      "\n",
      "\n",
      "------Working on limb 9 -------\n",
      "inside loop len(curr_limb_divided_meshes) = 1 len(curr_limb_divided_skeletons) = 1\n",
      "--- Working on soma_idx: 0----\n",
      "Total time for filtering periphery meshes = 0.008533716201782227\n",
      "touching_pieces = [0]\n",
      "Total time for mesh connectivity = 0.35229945182800293\n",
      "Touching piece endpoints = [[760596.49548634 964473.95863002 877464.33675621]\n",
      " [764198.03071479 973954.65127816 881780.7690252 ]]\n",
      "inside inner loop len(curr_limb_divided_skeletons) = 1\n",
      "closest_endpoint = [760596.49548634 964473.95863002 877464.33675621]\n",
      "Starting_edge inside branches_to_conept = [[760596.49548634 964473.95863002 877464.33675621]\n",
      " [764198.03071479 973954.65127816 881780.7690252 ]]\n",
      "recovered_touching_piece = [0]\n",
      "After concept mapping size = 1\n",
      "Local time for concept mapping = 0.36957716941833496\n",
      "\n",
      "\n",
      " ----- Total time for concept mapping = 12.658259153366089 ----\n",
      "\n",
      "\n",
      "\n",
      " Total processing time = 69.23894882202148\n",
      "--- 0) Total time for preprocessing: 69.23956155776978\n",
      "\n",
      "\n",
      "\n",
      "\n",
      "--- 1) Finished unpacking preprocessed materials: 4.76837158203125e-06\n",
      "total_edges = [['S0', 'L0'], ['S0', 'L1'], ['S0', 'L3'], ['S0', 'L4'], ['S0', 'L5'], ['S0', 'L9'], ['S1', 'L1'], ['S1', 'L2'], ['S1', 'L6'], ['S1', 'L7'], ['S1', 'L8']]\n",
      "--- 2) Finished creating neuron connectivity graph: 0.00011754035949707031\n",
      "Having to generate soma_meshes_face_idx because none in preprocessed data\n",
      "--- 3a) Finshed generating soma_meshes_face_idx: 1.3357481956481934\n",
      "Using Poisson Surface Reconstruction to make mesh watertight\n",
      "IN INPUT FILE VALIDATION LOOP\n",
      "LEAVING LOOP, MESH VALIDATED\n",
      "Using port = 2142\n",
      "xvfb-run -n 2142 -s \"-screen 0 800x600x24\" meshlabserver $@  -i /notebooks/Platinum_Skeletonization_meshparty/meshparty_testing/Poisson_temp/neuron_350920.off -o /notebooks/Platinum_Skeletonization_meshparty/meshparty_testing/Poisson_temp/neuron_350920_poisson.off -s /notebooks/Platinum_Skeletonization_meshparty/meshparty_testing/Poisson_temp/poisson_362287.mls\n"
     ]
    },
    {
     "name": "stderr",
     "output_type": "stream",
     "text": [
      "WARNING:trimesh:face_normals all zero, ignoring!\n",
      "WARNING:trimesh:face_normals all zero, ignoring!\n",
      "WARNING:trimesh:face_normals all zero, ignoring!\n",
      "WARNING:trimesh:face_normals all zero, ignoring!\n",
      "WARNING:trimesh:face_normals all zero, ignoring!\n",
      "WARNING:trimesh:face_normals all zero, ignoring!\n",
      "WARNING:trimesh:face_normals all zero, ignoring!\n",
      "WARNING:trimesh:face_normals all zero, ignoring!\n",
      "WARNING:trimesh:face_normals all zero, ignoring!\n",
      "WARNING:trimesh:face_normals all zero, ignoring!\n",
      "WARNING:trimesh:face_normals all zero, ignoring!\n",
      "WARNING:trimesh:face_normals all zero, ignoring!\n",
      "WARNING:trimesh:face_normals all zero, ignoring!\n",
      "WARNING:trimesh:face_normals all zero, ignoring!\n",
      "WARNING:trimesh:face_normals all zero, ignoring!\n",
      "WARNING:trimesh:face_normals all zero, ignoring!\n",
      "WARNING:trimesh:face_normals all zero, ignoring!\n",
      "WARNING:trimesh:face_normals all zero, ignoring!\n",
      "WARNING:trimesh:face_normals all zero, ignoring!\n",
      "WARNING:trimesh:face_normals all zero, ignoring!\n",
      "WARNING:trimesh:face_normals all zero, ignoring!\n"
     ]
    },
    {
     "name": "stdout",
     "output_type": "stream",
     "text": [
      "removed temporary input file: /notebooks/Platinum_Skeletonization_meshparty/meshparty_testing/Poisson_temp/neuron_350920.off\n",
      "removed temporary output file: /notebooks/Platinum_Skeletonization_meshparty/meshparty_testing/Poisson_temp/neuron_350920_poisson.off\n",
      "/notebooks/Platinum_Skeletonization_meshparty/meshparty_testing/Poisson_temp/poisson_362287.mls is being deleted....\n",
      "Using Poisson Surface Reconstruction to make mesh watertight\n",
      "IN INPUT FILE VALIDATION LOOP\n",
      "LEAVING LOOP, MESH VALIDATED\n",
      "Using port = 3308\n",
      "xvfb-run -n 3308 -s \"-screen 0 800x600x24\" meshlabserver $@  -i /notebooks/Platinum_Skeletonization_meshparty/meshparty_testing/Poisson_temp/neuron_157227.off -o /notebooks/Platinum_Skeletonization_meshparty/meshparty_testing/Poisson_temp/neuron_157227_poisson.off -s /notebooks/Platinum_Skeletonization_meshparty/meshparty_testing/Poisson_temp/poisson_664364.mls\n"
     ]
    },
    {
     "name": "stderr",
     "output_type": "stream",
     "text": [
      "WARNING:trimesh:face_normals all zero, ignoring!\n",
      "WARNING:trimesh:face_normals all zero, ignoring!\n",
      "WARNING:trimesh:face_normals all zero, ignoring!\n",
      "WARNING:trimesh:face_normals all zero, ignoring!\n",
      "WARNING:trimesh:face_normals all zero, ignoring!\n",
      "WARNING:trimesh:face_normals all zero, ignoring!\n",
      "WARNING:trimesh:face_normals all zero, ignoring!\n",
      "WARNING:trimesh:face_normals all zero, ignoring!\n",
      "WARNING:trimesh:face_normals all zero, ignoring!\n",
      "WARNING:trimesh:face_normals all zero, ignoring!\n",
      "WARNING:trimesh:face_normals all zero, ignoring!\n",
      "WARNING:trimesh:face_normals all zero, ignoring!\n"
     ]
    },
    {
     "name": "stdout",
     "output_type": "stream",
     "text": [
      "removed temporary input file: /notebooks/Platinum_Skeletonization_meshparty/meshparty_testing/Poisson_temp/neuron_157227.off\n",
      "removed temporary output file: /notebooks/Platinum_Skeletonization_meshparty/meshparty_testing/Poisson_temp/neuron_157227_poisson.off\n",
      "/notebooks/Platinum_Skeletonization_meshparty/meshparty_testing/Poisson_temp/poisson_664364.mls is being deleted....\n",
      "--- 3) Finshed generating soma objects and adding them to concept graph: 19.093827724456787\n",
      "--- 4a) Finshed generating curr_limb_meshes_face_idx: 4.432070970535278\n",
      "checking and resolving cycles\n",
      "No cycles to fix\n",
      "checking and resolving cycles\n",
      "No cycles to fix\n",
      "checking and resolving cycles\n",
      "No cycles to fix\n",
      "checking and resolving cycles\n",
      "No cycles to fix\n",
      "checking and resolving cycles\n",
      "No cycles to fix\n",
      "checking and resolving cycles\n",
      "No cycles to fix\n",
      "checking and resolving cycles\n",
      "No cycles to fix\n",
      "checking and resolving cycles\n",
      "No cycles to fix\n",
      "checking and resolving cycles\n",
      "No cycles to fix\n",
      "Concept graph size was 1 or less so returning original\n",
      "--- 4) Finshed generating Limb objects and adding them to concept graph: 1.483903169631958\n",
      "Total time for neuron instance creation = 95.58570623397827\n",
      "Total time for processing: 95.60219192504883\n"
     ]
    }
   ],
   "source": [
    "import time\n",
    "meshparty_time = time.time()\n",
    "\n",
    "import meshparty_skeletonize as m_sk\n",
    "m_sk = reload(m_sk)\n",
    "\n",
    "nru = reload(nru)\n",
    "neuron = reload(neuron)\n",
    "double_neuron_processed = neuron.Neuron(\n",
    "    mesh=current_neuron_mesh,\n",
    "    segment_id=segment_id,\n",
    "    description=description,\n",
    "    preprocessing_decomposition_type=\"meshparty\",\n",
    "    suppress_preprocessing_print=False,\n",
    "    somas = somas\n",
    "    \n",
    ")\n",
    "\n",
    "print(f\"Total time for processing: {time.time() - meshparty_time}\")"
   ]
  },
  {
   "cell_type": "markdown",
   "metadata": {},
   "source": [
    "# Visualize the Processed Neuron"
   ]
  },
  {
   "cell_type": "code",
   "execution_count": 38,
   "metadata": {},
   "outputs": [
    {
     "name": "stdout",
     "output_type": "stream",
     "text": [
      "\n",
      " Working on visualization type: mesh\n",
      "\n",
      " Working on visualization type: skeleton\n",
      "\n",
      " Working on visualization type: network\n"
     ]
    },
    {
     "data": {
      "application/vnd.jupyter.widget-view+json": {
       "model_id": "d43c09fc46f64b56b6fb3bdb0d204b26",
       "version_major": 2,
       "version_minor": 0
      },
      "text/plain": [
       "VBox(children=(Figure(camera=PerspectiveCamera(fov=46.0, position=(0.0, 0.0, 2.0), quaternion=(0.0, 0.0, 0.0, …"
      ]
     },
     "metadata": {},
     "output_type": "display_data"
    }
   ],
   "source": [
    "import neuron_visualizations as nviz\n",
    "nviz.visualize_neuron(double_neuron_processed,\n",
    "                     visualize_type=[\"mesh\",\"skeleton\",\"network\"],\n",
    "                     limb_branch_dict=dict(L1=[\"all\"]),\n",
    "                      node_size=0.3,\n",
    "                      arrow_size=0.3\n",
    "                     )"
   ]
  },
  {
   "cell_type": "markdown",
   "metadata": {},
   "source": [
    "# debugging the skeletonization"
   ]
  },
  {
   "cell_type": "code",
   "execution_count": 22,
   "metadata": {},
   "outputs": [],
   "source": [
    "limb_idx = 2\n",
    "\n",
    "curr_limb_mesh_file = f\"limb_{limb_idx}_mesh.off\"\n",
    "curr_limb_skeleton_file = f\"limb_{limb_idx}_sk_meshparty_obj.pkl\"\n",
    "\n",
    "import system_utils as su\n",
    "sk_meshparty_obj = su.load_object(curr_limb_skeleton_file)\n",
    "\n",
    "import trimesh_utils as tu\n",
    "curr_limb_mesh = tu.load_mesh_no_processing(curr_limb_mesh_file)"
   ]
  },
  {
   "cell_type": "code",
   "execution_count": 27,
   "metadata": {},
   "outputs": [
    {
     "name": "stdout",
     "output_type": "stream",
     "text": [
      "142\n",
      "16\n",
      "37\n",
      "458\n",
      "259\n",
      "153\n",
      "15\n",
      "15\n",
      "13\n",
      "78\n",
      "190\n",
      "11\n",
      "112\n",
      "96\n",
      "77\n",
      "186\n",
      "79\n",
      "4\n",
      "763\n",
      "327\n",
      "56\n",
      "67\n",
      "112\n",
      "5\n",
      "84\n",
      "57\n",
      "37\n",
      "65\n",
      "184\n",
      "80\n",
      "38\n",
      "78\n",
      "329\n",
      "41\n",
      "56\n",
      "285\n",
      "32\n",
      "281\n",
      "128\n"
     ]
    }
   ],
   "source": [
    "import meshparty_skeletonize as m_sk\n",
    "m_sk = reload(m_sk)\n",
    "segments, segment_maps = m_sk.compute_segments(sk_meshparty_obj)\n",
    "\n",
    "for s in segments:\n",
    "    print(len(s))"
   ]
  },
  {
   "cell_type": "code",
   "execution_count": null,
   "metadata": {},
   "outputs": [],
   "source": []
  }
 ],
 "metadata": {
  "kernelspec": {
   "display_name": "Python 3",
   "language": "python",
   "name": "python3"
  },
  "language_info": {
   "codemirror_mode": {
    "name": "ipython",
    "version": 3
   },
   "file_extension": ".py",
   "mimetype": "text/x-python",
   "name": "python",
   "nbconvert_exporter": "python",
   "pygments_lexer": "ipython3",
   "version": "3.6.9"
  }
 },
 "nbformat": 4,
 "nbformat_minor": 4
}
