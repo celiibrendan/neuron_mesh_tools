{
 "cells": [
  {
   "cell_type": "code",
   "execution_count": 1,
   "metadata": {},
   "outputs": [],
   "source": [
    "# --------------------  The whole pandas to plots ---------------------- #\n",
    "import pandas as pd\n",
    "import pandasql\n",
    "def restrict_pandas(df,index_restriction=[],column_restriction=[],value_restriction=\"\"):\n",
    "    \"\"\"\n",
    "    Pseudocode:\n",
    "    How to specify:\n",
    "    1) restrict rows by value (being equal,less than or greater) --> just parse the string, SO CAN INCLUDE AND\n",
    "    2) Columns you want to keep\n",
    "    3) Indexes you want to keep:\n",
    "    \n",
    "    Example: \n",
    "    \n",
    "    index_restriction = [\"n=50\",\"p=0.25\",\"erdos_renyi_random_location_n=100_p=0.10\"]\n",
    "    column_restriction = [\"size_maximum_clique\",\"n_triangles\"]\n",
    "    value_restriction = \"transitivity > 0.3 AND size_maximum_clique < 9 \"\n",
    "    returned_df = restrict_pandas(df,index_restriction,column_restriction,value_restriction)\n",
    "    returned_df\n",
    "    \n",
    "    Example of another restriction = \"(transitivity > 0.1 AND n_maximal_cliques > 10) OR (min_weighted_vertex_cover_len = 18 AND size_maximum_clique = 2)\"\n",
    "    \n",
    "    \n",
    "    #how to restrict by certain value in a column being a list \n",
    "    df[~df['stn'].isin(remove_list)]\n",
    "    \"\"\"\n",
    "    new_df = df.copy()\n",
    "    \n",
    "    \n",
    "    if len(index_restriction) > 0:\n",
    "        list_of_indexes = list(new_df[graph_name])\n",
    "        restricted_rows = [k for k in list_of_indexes if len([j for j in index_restriction if j in k]) > 0]\n",
    "        #print(\"restricted_rows = \" + str(restricted_rows))\n",
    "        new_df = new_df.loc[new_df[graph_name].isin(restricted_rows)]\n",
    "        \n",
    "    #do the sql string from function:\n",
    "    if len(value_restriction)>0:\n",
    "        s = (\"SELECT * \"\n",
    "            \"FROM new_df WHERE \"\n",
    "            + value_restriction + \";\")\n",
    "        \n",
    "        #print(\"s = \" + str(s))\n",
    "        new_df = pandasql.sqldf(s, locals())\n",
    "        \n",
    "    #print(new_df)\n",
    "    \n",
    "    #restrict by the columns:\n",
    "    if len(column_restriction) > 0:\n",
    "        #column_restriction.insert(0,graph_name)\n",
    "        new_df = new_df[column_restriction]\n",
    "    \n",
    "    return new_df"
   ]
  },
  {
   "cell_type": "code",
   "execution_count": null,
   "metadata": {},
   "outputs": [],
   "source": []
  }
 ],
 "metadata": {
  "kernelspec": {
   "display_name": "Python 3",
   "language": "python",
   "name": "python3"
  },
  "language_info": {
   "codemirror_mode": {
    "name": "ipython",
    "version": 3
   },
   "file_extension": ".py",
   "mimetype": "text/x-python",
   "name": "python",
   "nbconvert_exporter": "python",
   "pygments_lexer": "ipython3",
   "version": "3.6.9"
  }
 },
 "nbformat": 4,
 "nbformat_minor": 4
}
