{
 "cells": [
  {
   "cell_type": "code",
   "execution_count": 1,
   "metadata": {},
   "outputs": [],
   "source": [
    "from os import sys\n",
    "sys.path.append(\"../../meshAfterParty/\")"
   ]
  },
  {
   "cell_type": "code",
   "execution_count": 2,
   "metadata": {},
   "outputs": [],
   "source": [
    "import skeleton_utils as sk\n",
    "import soma_extraction_utils as sm\n",
    "import trimesh_utils as tu\n",
    "import trimesh\n",
    "import numpy_utils as nu\n",
    "import numpy as np\n",
    "from importlib import reload\n",
    "import networkx as nx\n",
    "import time\n",
    "import compartment_utils as cu\n",
    "import networkx_utils as xu\n",
    "import matplotlib_utils as mu\n",
    "\n",
    "sm = reload(sm)"
   ]
  },
  {
   "cell_type": "code",
   "execution_count": 182,
   "metadata": {},
   "outputs": [],
   "source": [
    "#Setting where base neuron is\n",
    "segment_id = 12345\n",
    "current_mesh_file = \"/notebooks/neuron_mesh_tools/test_neurons/multi_soma_example.off\"\n"
   ]
  },
  {
   "cell_type": "markdown",
   "metadata": {},
   "source": [
    "# **** Phase 1 ****"
   ]
  },
  {
   "cell_type": "markdown",
   "metadata": {},
   "source": [
    "# Starting from the very beginning of a neuron mesh"
   ]
  },
  {
   "cell_type": "code",
   "execution_count": 183,
   "metadata": {},
   "outputs": [],
   "source": [
    "current_neuron = trimesh.load_mesh(current_mesh_file)"
   ]
  },
  {
   "cell_type": "code",
   "execution_count": 184,
   "metadata": {},
   "outputs": [
    {
     "data": {
      "application/vnd.jupyter.widget-view+json": {
       "model_id": "49fca5c4aa774d63a66439d5c4236143",
       "version_major": 2,
       "version_minor": 0
      },
      "text/plain": [
       "VBox(children=(Figure(camera=PerspectiveCamera(fov=46.0, position=(0.0, 0.0, 2.0), quaternion=(0.0, 0.0, 0.0, …"
      ]
     },
     "metadata": {},
     "output_type": "display_data"
    }
   ],
   "source": [
    "sk.graph_skeleton_and_mesh(main_mesh_verts=current_neuron.vertices,\n",
    "                          main_mesh_faces=current_neuron.faces,\n",
    "                           main_mesh_color = [0.,1.,0.,0.8]\n",
    "                          )"
   ]
  },
  {
   "cell_type": "markdown",
   "metadata": {},
   "source": [
    "# Doing the soma detection"
   ]
  },
  {
   "cell_type": "code",
   "execution_count": 5,
   "metadata": {},
   "outputs": [
    {
     "name": "stdout",
     "output_type": "stream",
     "text": [
      "Current Arguments Using (adjusted for decimation):\n",
      " large_mesh_threshold= 15000.0 \n",
      "large_mesh_threshold_inner = 10000.0 \n",
      "soma_size_threshold = 1250.0 \n",
      "soma_size_threshold_max = 12000.0\n",
      "outer_decimation_ratio = 0.25\n",
      "inner_decimation_ratio = 0.25\n",
      "IN INPUT FILE VALIDATION LOOP\n",
      "LEAVING LOOP, MESH VALIDATED\n",
      "Using port = 3624\n",
      "xvfb-run -n 3624 -s \"-screen 0 800x600x24\" meshlabserver $@  -i /notebooks/neuron_mesh_tools/meshAfterParty/development/12345/neuron_12345.off -o /notebooks/neuron_mesh_tools/meshAfterParty/development/12345/neuron_12345_decimated.off -s /notebooks/neuron_mesh_tools/meshAfterParty/development/12345/decimation_meshlab_25703486.mls\n",
      "Total found significant pieces before Poisson = [<trimesh.Trimesh(vertices.shape=(139795, 3), faces.shape=(284334, 3))>]\n",
      "----- working on large mesh #0: <trimesh.Trimesh(vertices.shape=(139795, 3), faces.shape=(284334, 3))>\n",
      "pre_largest_mesh_path = /notebooks/neuron_mesh_tools/meshAfterParty/development/12345/neuron_12345_decimated_largest_piece.off\n",
      "IN INPUT FILE VALIDATION LOOP\n",
      "LEAVING LOOP, MESH VALIDATED\n",
      "Using port = 8403\n",
      "xvfb-run -n 8403 -s \"-screen 0 800x600x24\" meshlabserver $@  -i /notebooks/neuron_mesh_tools/meshAfterParty/development/12345/neuron_12345_decimated_largest_piece.off -o /notebooks/neuron_mesh_tools/meshAfterParty/development/12345/neuron_12345_decimated_largest_piece_poisson.off -s /notebooks/neuron_mesh_tools/meshAfterParty/development/12345/poisson_537828.mls\n"
     ]
    },
    {
     "name": "stderr",
     "output_type": "stream",
     "text": [
      "face_normals all zero, ignoring!\n",
      "face_normals all zero, ignoring!\n",
      "face_normals all zero, ignoring!\n",
      "face_normals all zero, ignoring!\n",
      "face_normals all zero, ignoring!\n",
      "face_normals all zero, ignoring!\n",
      "face_normals all zero, ignoring!\n",
      "face_normals all zero, ignoring!\n",
      "face_normals all zero, ignoring!\n",
      "face_normals all zero, ignoring!\n",
      "face_normals all zero, ignoring!\n",
      "face_normals all zero, ignoring!\n",
      "face_normals all zero, ignoring!\n",
      "face_normals all zero, ignoring!\n",
      "face_normals all zero, ignoring!\n",
      "face_normals all zero, ignoring!\n",
      "face_normals all zero, ignoring!\n",
      "face_normals all zero, ignoring!\n",
      "face_normals all zero, ignoring!\n",
      "face_normals all zero, ignoring!\n",
      "face_normals all zero, ignoring!\n",
      "face_normals all zero, ignoring!\n",
      "face_normals all zero, ignoring!\n",
      "face_normals all zero, ignoring!\n",
      "face_normals all zero, ignoring!\n",
      "face_normals all zero, ignoring!\n",
      "face_normals all zero, ignoring!\n",
      "face_normals all zero, ignoring!\n",
      "face_normals all zero, ignoring!\n",
      "face_normals all zero, ignoring!\n",
      "face_normals all zero, ignoring!\n",
      "face_normals all zero, ignoring!\n",
      "face_normals all zero, ignoring!\n",
      "face_normals all zero, ignoring!\n",
      "face_normals all zero, ignoring!\n",
      "face_normals all zero, ignoring!\n",
      "face_normals all zero, ignoring!\n",
      "face_normals all zero, ignoring!\n",
      "face_normals all zero, ignoring!\n",
      "face_normals all zero, ignoring!\n",
      "face_normals all zero, ignoring!\n",
      "face_normals all zero, ignoring!\n",
      "face_normals all zero, ignoring!\n",
      "face_normals all zero, ignoring!\n",
      "face_normals all zero, ignoring!\n",
      "face_normals all zero, ignoring!\n",
      "face_normals all zero, ignoring!\n",
      "face_normals all zero, ignoring!\n",
      "face_normals all zero, ignoring!\n",
      "face_normals all zero, ignoring!\n",
      "face_normals all zero, ignoring!\n",
      "face_normals all zero, ignoring!\n",
      "face_normals all zero, ignoring!\n",
      "face_normals all zero, ignoring!\n",
      "face_normals all zero, ignoring!\n",
      "face_normals all zero, ignoring!\n",
      "face_normals all zero, ignoring!\n"
     ]
    },
    {
     "name": "stdout",
     "output_type": "stream",
     "text": [
      "Total found significant pieces AFTER Poisson = [<trimesh.Trimesh(vertices.shape=(151132, 3), faces.shape=(302272, 3))>, <trimesh.Trimesh(vertices.shape=(42551, 3), faces.shape=(85098, 3))>]\n",
      "----- working on mesh after poisson #0: <trimesh.Trimesh(vertices.shape=(151132, 3), faces.shape=(302272, 3))>\n",
      "IN INPUT FILE VALIDATION LOOP\n",
      "LEAVING LOOP, MESH VALIDATED\n",
      "Using port = 9621\n",
      "xvfb-run -n 9621 -s \"-screen 0 800x600x24\" meshlabserver $@  -i /notebooks/neuron_mesh_tools/meshAfterParty/development/12345/neuron_12345_decimated_largest_piece_poisson_largest_inner.off -o /notebooks/neuron_mesh_tools/meshAfterParty/development/12345/neuron_12345_decimated_largest_piece_poisson_largest_inner_decimated.off -s /notebooks/neuron_mesh_tools/meshAfterParty/development/12345/decimation_meshlab_25509781.mls\n",
      "done exporting decimated mesh: neuron_12345_decimated_largest_piece_poisson_largest_inner.off\n",
      "1) Starting: Mesh importing and Pymesh fix\n",
      "loading mesh from vertices and triangles array\n",
      "1) Finished: Mesh importing and Pymesh fix: 0.0002779960632324219\n",
      "2) Staring: Generating CGAL segmentation for neuron\n",
      "Done writing OFF file\n",
      "\n",
      "Starting CGAL segmentation\n",
      "Right before cgal segmentation, clusters = 3, smoothness = 0.2, path_and_filename = /notebooks/neuron_mesh_tools/meshAfterParty/development/temp/1234500_fixed \n",
      "1\n",
      "Finished CGAL segmentation algorithm: 9.965732336044312\n",
      "2) Finished: Generating CGAL segmentation for neuron: 11.055671215057373\n",
      "3) Staring: Generating Graph Structure and Identifying Soma using soma size threshold  = 3000\n",
      "my_list_keys = [0, 1, 2, 3, 4, 5, 6, 7, 8, 9, 10, 11, 12, 13, 14, 15, 16, 17, 18, 19, 20, 21, 22, 23, 24, 25]\n",
      "changed the median value\n",
      "changed the mean value\n",
      "changed the max value\n",
      "changed the median value\n",
      "changed the mean value\n",
      "changed the max value\n",
      "soma_index = 8\n",
      "3) Finished: Generating Graph Structure and Identifying Soma: 0.02590632438659668\n",
      "Not finding the apical because soma_only option selected\n",
      "6) Staring: Classifying Entire Neuron\n",
      "Total Labels found = {'soma', 'unsure'}\n",
      "6) Finished: Classifying Entire Neuron: 4.57763671875e-05\n",
      "7) Staring: Transfering Segmentation Labels to Face Labels\n",
      "7) Finished: Transfering Segmentation Labels to Face Labels: 0.06481170654296875\n",
      "8) Staring: Generating final Vertex and Face Labels\n",
      "8) Finished: Generating final Vertex and Face Labels: 0.4335908889770508\n",
      "Returning the soma_sdf value AND the classifier\n",
      "soma_sdf_value = 0.86738\n",
      "segmentation[sorted_medians],median_values[sorted_medians] = (array([ 8,  0, 20,  2, 21, 17,  5, 22, 11, 23,  7, 18,  3, 14, 12, 19,  6,\n",
      "       10, 16, 15,  4,  1,  9, 24, 13, 25]), array([0.86738   , 0.158169  , 0.1191325 , 0.1133125 , 0.111872  ,\n",
      "       0.09774035, 0.09184725, 0.0644599 , 0.0578784 , 0.05519205,\n",
      "       0.0505159 , 0.0494011 , 0.0493783 , 0.04724125, 0.0463232 ,\n",
      "       0.0458986 , 0.0457825 , 0.0449783 , 0.0448833 , 0.0440531 ,\n",
      "       0.0439781 , 0.0402523 , 0.04005445, 0.0398019 , 0.03863715,\n",
      "       0.0329097 ]))\n",
      "Sizes = [6235, 10571, 700, 2238, 115, 1542, 2512, 259, 423, 3786, 4496, 6100, 3919, 3592, 1726, 6253, 3984, 4039, 3191, 1175, 749, 2259, 3310, 957, 626, 811]\n",
      "valid_soma_segments_width\n",
      "      ------ Found 1 viable somas: [8]\n",
      "Using Poisson Surface Reconstruction to make mesh watertight\n",
      "IN INPUT FILE VALIDATION LOOP\n",
      "LEAVING LOOP, MESH VALIDATED\n",
      "Using port = 1216\n",
      "xvfb-run -n 1216 -s \"-screen 0 800x600x24\" meshlabserver $@  -i /notebooks/neuron_mesh_tools/meshAfterParty/development/Poisson_temp/neuron_552037.off -o /notebooks/neuron_mesh_tools/meshAfterParty/development/Poisson_temp/neuron_552037_poisson.off -s /notebooks/neuron_mesh_tools/meshAfterParty/development/Poisson_temp/poisson_608195.mls\n"
     ]
    },
    {
     "name": "stderr",
     "output_type": "stream",
     "text": [
      "face_normals all zero, ignoring!\n",
      "face_normals all zero, ignoring!\n"
     ]
    },
    {
     "name": "stdout",
     "output_type": "stream",
     "text": [
      "removed temporary input file: /notebooks/neuron_mesh_tools/meshAfterParty/development/Poisson_temp/neuron_552037.off\n",
      "removed temporary output file: /notebooks/neuron_mesh_tools/meshAfterParty/development/Poisson_temp/neuron_552037_poisson.off\n",
      "/notebooks/neuron_mesh_tools/meshAfterParty/development/Poisson_temp/poisson_608195.mls is being deleted....\n",
      "Inside sphere validater: ratio_val = 2.882922788675577\n",
      "----- working on mesh after poisson #1: <trimesh.Trimesh(vertices.shape=(42551, 3), faces.shape=(85098, 3))>\n",
      "IN INPUT FILE VALIDATION LOOP\n",
      "LEAVING LOOP, MESH VALIDATED\n",
      "Using port = 8501\n",
      "xvfb-run -n 8501 -s \"-screen 0 800x600x24\" meshlabserver $@  -i /notebooks/neuron_mesh_tools/meshAfterParty/development/12345/neuron_12345_decimated_largest_piece_poisson_largest_inner.off -o /notebooks/neuron_mesh_tools/meshAfterParty/development/12345/neuron_12345_decimated_largest_piece_poisson_largest_inner_decimated.off -s /notebooks/neuron_mesh_tools/meshAfterParty/development/12345/decimation_meshlab_25509781.mls\n",
      "done exporting decimated mesh: neuron_12345_decimated_largest_piece_poisson_largest_inner.off\n",
      "1) Starting: Mesh importing and Pymesh fix\n",
      "loading mesh from vertices and triangles array\n",
      "1) Finished: Mesh importing and Pymesh fix: 0.0002276897430419922\n",
      "2) Staring: Generating CGAL segmentation for neuron\n",
      "Done writing OFF file\n",
      "\n",
      "Starting CGAL segmentation\n",
      "Right before cgal segmentation, clusters = 3, smoothness = 0.2, path_and_filename = /notebooks/neuron_mesh_tools/meshAfterParty/development/temp/1234501_fixed \n",
      "1\n",
      "Finished CGAL segmentation algorithm: 1.8536126613616943\n",
      "2) Finished: Generating CGAL segmentation for neuron: 2.1551146507263184\n",
      "3) Staring: Generating Graph Structure and Identifying Soma using soma size threshold  = 3000\n",
      "my_list_keys = [0, 1, 2, 3, 4, 5, 6, 7, 8, 9, 10, 11]\n",
      "changed the median value\n",
      "changed the mean value\n",
      "changed the max value\n",
      "changed the median value\n",
      "changed the mean value\n",
      "changed the max value\n",
      "changed the median value\n",
      "changed the mean value\n",
      "changed the max value\n",
      "soma_index = 6\n",
      "3) Finished: Generating Graph Structure and Identifying Soma: 0.00795745849609375\n",
      "Not finding the apical because soma_only option selected\n",
      "6) Staring: Classifying Entire Neuron\n",
      "Total Labels found = {'soma', 'unsure'}\n",
      "6) Finished: Classifying Entire Neuron: 0.00012350082397460938\n",
      "7) Staring: Transfering Segmentation Labels to Face Labels\n",
      "7) Finished: Transfering Segmentation Labels to Face Labels: 0.018174171447753906\n",
      "8) Staring: Generating final Vertex and Face Labels\n",
      "8) Finished: Generating final Vertex and Face Labels: 0.18553876876831055\n",
      "Returning the soma_sdf value AND the classifier\n",
      "soma_sdf_value = 0.8608505\n",
      "segmentation[sorted_medians],median_values[sorted_medians] = (array([ 6, 10,  3,  2, 11,  9,  7,  5,  1,  8,  4,  0]), array([0.8608505, 0.130472 , 0.123803 , 0.100414 , 0.0995433, 0.062865 ,\n",
      "       0.0573147, 0.0541266, 0.0417295, 0.0410741, 0.0397183, 0.0262815]))\n",
      "Sizes = [4236, 758, 964, 623, 544, 2745, 658, 5778, 3023, 351, 1155, 439]\n",
      "valid_soma_segments_width\n",
      "      ------ Found 1 viable somas: [6]\n",
      "Using Poisson Surface Reconstruction to make mesh watertight\n",
      "IN INPUT FILE VALIDATION LOOP\n",
      "LEAVING LOOP, MESH VALIDATED\n",
      "Using port = 1677\n",
      "xvfb-run -n 1677 -s \"-screen 0 800x600x24\" meshlabserver $@  -i /notebooks/neuron_mesh_tools/meshAfterParty/development/Poisson_temp/neuron_940379.off -o /notebooks/neuron_mesh_tools/meshAfterParty/development/Poisson_temp/neuron_940379_poisson.off -s /notebooks/neuron_mesh_tools/meshAfterParty/development/Poisson_temp/poisson_607770.mls\n"
     ]
    },
    {
     "name": "stderr",
     "output_type": "stream",
     "text": [
      "face_normals all zero, ignoring!\n",
      "face_normals all zero, ignoring!\n",
      "face_normals all zero, ignoring!\n",
      "face_normals all zero, ignoring!\n",
      "face_normals all zero, ignoring!\n"
     ]
    },
    {
     "name": "stdout",
     "output_type": "stream",
     "text": [
      "removed temporary input file: /notebooks/neuron_mesh_tools/meshAfterParty/development/Poisson_temp/neuron_940379.off\n",
      "removed temporary output file: /notebooks/neuron_mesh_tools/meshAfterParty/development/Poisson_temp/neuron_940379_poisson.off\n",
      "/notebooks/neuron_mesh_tools/meshAfterParty/development/Poisson_temp/poisson_607770.mls is being deleted....\n",
      "Inside sphere validater: ratio_val = 3.0502651518210446\n",
      "\n",
      "\n",
      "\n",
      " Total time for run = 117.18456435203552\n"
     ]
    }
   ],
   "source": [
    "soma_mesh_list,run_time,total_soma_list_sdf = sm.extract_soma_center(segment_id,\n",
    "                                             current_neuron.vertices,\n",
    "                                             current_neuron.faces)"
   ]
  },
  {
   "cell_type": "markdown",
   "metadata": {},
   "source": [
    "# At this point assume that there are somas (if not would just skip to the limb skeleton stuff)"
   ]
  },
  {
   "cell_type": "code",
   "execution_count": 6,
   "metadata": {},
   "outputs": [
    {
     "data": {
      "application/vnd.jupyter.widget-view+json": {
       "model_id": "3d700667e0d748878bb27a9f71cd55bf",
       "version_major": 2,
       "version_minor": 0
      },
      "text/plain": [
       "VBox(children=(Figure(camera=PerspectiveCamera(fov=46.0, position=(0.0, 0.0, 2.0), quaternion=(0.0, 0.0, 0.0, …"
      ]
     },
     "metadata": {},
     "output_type": "display_data"
    }
   ],
   "source": [
    "# Visualizing the somas: \n",
    "total_soma = tu.combine_meshes(soma_mesh_list)\n",
    "soma_meshes = total_soma\n",
    "sk.graph_skeleton_and_mesh(main_mesh_verts=soma_meshes.vertices,\n",
    "                          main_mesh_faces=soma_meshes.faces,\n",
    "                           main_mesh_color = [0.,1.,0.,0.8]\n",
    "                          )"
   ]
  },
  {
   "cell_type": "code",
   "execution_count": 7,
   "metadata": {},
   "outputs": [
    {
     "name": "stdout",
     "output_type": "stream",
     "text": [
      "Soma List = [<trimesh.Trimesh(vertices.shape=(3177, 3), faces.shape=(6235, 3))>, <trimesh.Trimesh(vertices.shape=(2138, 3), faces.shape=(4236, 3))>]\n",
      "soma_mesh_list_centers = [array([756915.02275732, 958987.26197671, 874182.12348127]), array([864025.20827876, 994593.71529467, 859608.41014967])]\n"
     ]
    }
   ],
   "source": [
    "# geting the soma centers\n",
    "if len(soma_mesh_list) <= 0:\n",
    "    print(f\"**** No Somas Found for Mesh {segment_id} so just one mesh\")\n",
    "    soma_mesh_list_centers = []\n",
    "else:\n",
    "    #compute the soma centers\n",
    "    print(f\"Soma List = {soma_mesh_list}\")\n",
    "\n",
    "    soma_mesh_list_centers = sm.find_soma_centroids(soma_mesh_list)\n",
    "    print(f\"soma_mesh_list_centers = {soma_mesh_list_centers}\")"
   ]
  },
  {
   "cell_type": "markdown",
   "metadata": {},
   "source": [
    "# getting the soma submeshes that are connected to each soma and identifiying those that aren't (and eliminating any mesh pieces inside the soma)"
   ]
  },
  {
   "cell_type": "code",
   "execution_count": 8,
   "metadata": {},
   "outputs": [
    {
     "name": "stdout",
     "output_type": "stream",
     "text": [
      "# total split meshes = 79\n"
     ]
    },
    {
     "data": {
      "text/plain": [
       "{0: 0, 1: 0}"
      ]
     },
     "execution_count": 8,
     "metadata": {},
     "output_type": "execute_result"
    }
   ],
   "source": [
    "main_mesh_total = current_neuron\n",
    "sig_th_initial_split=15\n",
    "\n",
    "#finding the mesh pieces that contain the soma\n",
    "#splitting the current neuron into distinct pieces\n",
    "split_meshes = tu.split_significant_pieces(\n",
    "                            main_mesh_total,\n",
    "                            significance_threshold=sig_th_initial_split,\n",
    "                            print_flag=False)\n",
    "\n",
    "print(f\"# total split meshes = {len(split_meshes)}\")\n",
    "\n",
    "\n",
    "#returns the index of the split_meshes index that contains each soma    \n",
    "containing_mesh_indices = sm.find_soma_centroid_containing_meshes(soma_mesh_list_centers,\n",
    "                                        split_meshes)\n",
    "\n",
    "containing_mesh_indices"
   ]
  },
  {
   "cell_type": "code",
   "execution_count": 9,
   "metadata": {},
   "outputs": [
    {
     "name": "stdout",
     "output_type": "stream",
     "text": [
      "There were 78 pieces found after size threshold\n",
      "# of non soma touching seperate meshes = 44\n",
      "# of soma containing seperate meshes = 1\n",
      "meshes with somas = {0: [0, 1]}\n"
     ]
    }
   ],
   "source": [
    "# filtering away any of the inside floating pieces: \n",
    "\n",
    "non_soma_touching_meshes = [m for i,m in enumerate(split_meshes)\n",
    "                 if i not in list(containing_mesh_indices.values())]\n",
    "\n",
    "\n",
    "#Adding the step that will filter away any pieces that are inside the soma\n",
    "if len(non_soma_touching_meshes) > 0 and len(soma_mesh_list) > 0:\n",
    "    non_soma_touching_meshes = sm.filter_away_inside_soma_pieces(soma_mesh_list,non_soma_touching_meshes,\n",
    "                                    significance_threshold=sig_th_initial_split)                                                      \n",
    "\n",
    "\n",
    "split_meshes # the meshes of the original mesh\n",
    "containing_mesh_indices #the mapping of each soma centroid to the correct split mesh\n",
    "soma_containing_meshes = sm.grouping_containing_mesh_indices(containing_mesh_indices)\n",
    "\n",
    "soma_touching_meshes = [split_meshes[k] for k in soma_containing_meshes.keys()]\n",
    "\n",
    "    \n",
    "print(f\"# of non soma touching seperate meshes = {len(non_soma_touching_meshes)}\")\n",
    "print(f\"# of soma containing seperate meshes = {len(soma_touching_meshes)}\")\n",
    "print(f\"meshes with somas = {soma_containing_meshes}\")"
   ]
  },
  {
   "cell_type": "markdown",
   "metadata": {},
   "source": [
    "# Soma Extraction was great (but it wasn't the original soma faces), so now need to get the original soma faces and the original non-soma faces of original pieces"
   ]
  },
  {
   "cell_type": "code",
   "execution_count": 10,
   "metadata": {},
   "outputs": [
    {
     "name": "stdout",
     "output_type": "stream",
     "text": [
      "\n",
      "\n",
      "----Working on soma-containing mesh piece {z}----\n",
      "\n",
      "inside Soma subtraction\n",
      "mesh pieces in subtact soma BEFORE the filtering inside pieces = [<trimesh.Trimesh(vertices.shape=(153651, 3), faces.shape=(308343, 3))>, <trimesh.Trimesh(vertices.shape=(87663, 3), faces.shape=(176175, 3))>, <trimesh.Trimesh(vertices.shape=(56972, 3), faces.shape=(114671, 3))>, <trimesh.Trimesh(vertices.shape=(54953, 3), faces.shape=(110120, 3))>, <trimesh.Trimesh(vertices.shape=(53735, 3), faces.shape=(107788, 3))>, <trimesh.Trimesh(vertices.shape=(51875, 3), faces.shape=(104099, 3))>, <trimesh.Trimesh(vertices.shape=(29324, 3), faces.shape=(58779, 3))>, <trimesh.Trimesh(vertices.shape=(29151, 3), faces.shape=(58543, 3))>, <trimesh.Trimesh(vertices.shape=(14725, 3), faces.shape=(29598, 3))>, <trimesh.Trimesh(vertices.shape=(3865, 3), faces.shape=(7718, 3))>, <trimesh.Trimesh(vertices.shape=(1159, 3), faces.shape=(2282, 3))>]\n",
      "There were 11 pieces found after size threshold\n",
      "mesh pieces in subtact soma AFTER the filtering inside pieces = [<trimesh.Trimesh(vertices.shape=(153651, 3), faces.shape=(308343, 3))>, <trimesh.Trimesh(vertices.shape=(87663, 3), faces.shape=(176175, 3))>, <trimesh.Trimesh(vertices.shape=(56972, 3), faces.shape=(114671, 3))>, <trimesh.Trimesh(vertices.shape=(54953, 3), faces.shape=(110120, 3))>, <trimesh.Trimesh(vertices.shape=(53735, 3), faces.shape=(107788, 3))>, <trimesh.Trimesh(vertices.shape=(51875, 3), faces.shape=(104099, 3))>, <trimesh.Trimesh(vertices.shape=(29324, 3), faces.shape=(58779, 3))>, <trimesh.Trimesh(vertices.shape=(29151, 3), faces.shape=(58543, 3))>, <trimesh.Trimesh(vertices.shape=(14725, 3), faces.shape=(29598, 3))>, <trimesh.Trimesh(vertices.shape=(3865, 3), faces.shape=(7718, 3))>, <trimesh.Trimesh(vertices.shape=(1159, 3), faces.shape=(2282, 3))>]\n",
      "Total Time for soma mesh cancellation = 2.663\n"
     ]
    },
    {
     "data": {
      "text/plain": [
       "{0: {'branch_meshes': [<trimesh.Trimesh(vertices.shape=(153651, 3), faces.shape=(308343, 3))>,\n",
       "   <trimesh.Trimesh(vertices.shape=(87663, 3), faces.shape=(176175, 3))>,\n",
       "   <trimesh.Trimesh(vertices.shape=(56972, 3), faces.shape=(114671, 3))>,\n",
       "   <trimesh.Trimesh(vertices.shape=(54953, 3), faces.shape=(110120, 3))>,\n",
       "   <trimesh.Trimesh(vertices.shape=(53735, 3), faces.shape=(107788, 3))>,\n",
       "   <trimesh.Trimesh(vertices.shape=(51875, 3), faces.shape=(104099, 3))>,\n",
       "   <trimesh.Trimesh(vertices.shape=(29324, 3), faces.shape=(58779, 3))>,\n",
       "   <trimesh.Trimesh(vertices.shape=(29151, 3), faces.shape=(58543, 3))>,\n",
       "   <trimesh.Trimesh(vertices.shape=(14725, 3), faces.shape=(29598, 3))>,\n",
       "   <trimesh.Trimesh(vertices.shape=(3865, 3), faces.shape=(7718, 3))>,\n",
       "   <trimesh.Trimesh(vertices.shape=(1159, 3), faces.shape=(2282, 3))>],\n",
       "  'soma_meshes': array([<trimesh.Trimesh(vertices.shape=(20481, 3), faces.shape=(40659, 3))>,\n",
       "         <trimesh.Trimesh(vertices.shape=(14158, 3), faces.shape=(28309, 3))>],\n",
       "        dtype=object),\n",
       "  'soma_to_piece_connectivity': {0: [0, 1, 2, 3, 5, 10],\n",
       "   1: [1, 4, 6, 7, 8, 9]}}}"
      ]
     },
     "execution_count": 10,
     "metadata": {},
     "output_type": "execute_result"
    }
   ],
   "source": [
    "from importlib import reload\n",
    "sm = reload(sm)\n",
    "tu = reload(tu)\n",
    "\n",
    "\"\"\"\n",
    "for each soma touching mesh get the following:\n",
    "1) original soma meshes\n",
    "2) significant mesh pieces touching these somas\n",
    "3) The soma connectivity to each of the significant mesh pieces\n",
    "-- later will just translate the \n",
    "\n",
    "\n",
    "Process: \n",
    "\n",
    "1) Final all soma faces (through soma extraction and then soma original faces function)\n",
    "2) Subtact all soma faces from original mesh\n",
    "3) Find all significant mesh pieces\n",
    "4) Backtrack significant mesh pieces to orignal mesh and find connectivity of each to all\n",
    "   the available somas\n",
    "Conclusion: Will have connectivity map\n",
    "\n",
    "\n",
    "\"\"\"\n",
    "\n",
    "soma_touching_mesh_data = dict()\n",
    "\n",
    "for z,(mesh_idx, soma_idxes) in enumerate(soma_containing_meshes.items()):\n",
    "    soma_touching_mesh_data[z] = dict()\n",
    "    print(\"\\n\\n----Working on soma-containing mesh piece {z}----\")\n",
    "\n",
    "    #1) Final all soma faces (through soma extraction and then soma original faces function)\n",
    "    current_mesh = split_meshes[mesh_idx]\n",
    "\n",
    "    current_soma_mesh_list = [soma_mesh_list[k] for k in soma_idxes]\n",
    "\n",
    "    mesh_pieces_without_soma = sm.subtract_soma(current_soma_mesh_list,current_mesh,\n",
    "                                                significance_threshold=250)\n",
    "\n",
    "    mesh_pieces_without_soma_stacked = tu.combine_meshes(mesh_pieces_without_soma)\n",
    "    \n",
    "    # find the original soma faces of mesh\n",
    "    soma_faces = tu.original_mesh_faces_map(current_mesh,mesh_pieces_without_soma_stacked,matching=False)\n",
    "    soma_meshes = current_mesh.submesh([soma_faces],append=True)\n",
    "    \n",
    "    # finding the non-soma original faces\n",
    "    non_soma_faces = tu.original_mesh_faces_map(current_mesh,soma_meshes,matching=False)\n",
    "    non_soma_stacked_mesh = current_mesh.submesh([non_soma_faces],append=True)\n",
    "    \n",
    "    # 3) Find all significant mesh pieces\n",
    "    sig_non_soma_pieces = tu.split_significant_pieces(non_soma_stacked_mesh,significance_threshold=200)\n",
    "   \n",
    "    \n",
    "    soma_touching_mesh_data[z][\"branch_meshes\"] = sig_non_soma_pieces\n",
    "    \n",
    "    #4) Backtrack significant mesh pieces to orignal mesh and find connectivity of each to all the available somas\n",
    "    # get all the seperate mesh faces\n",
    "\n",
    "    #How to seperate the mesh faces\n",
    "    seperate_soma_meshes,soma_face_components = tu.split(soma_meshes,only_watertight=False)\n",
    "    soma_touching_mesh_data[z][\"soma_meshes\"] = seperate_soma_meshes\n",
    "    \n",
    "    \n",
    "    soma_to_piece_connectivity = dict()\n",
    "    for i,curr_soma in enumerate(seperate_soma_meshes):\n",
    "        connected_mesh_pieces,connected_mesh_pieces_vertices  = tu.mesh_pieces_connectivity(\n",
    "                        main_mesh=current_mesh,\n",
    "                        central_piece=curr_soma,\n",
    "                        periphery_pieces = sig_non_soma_pieces,\n",
    "                        return_vertices = True)\n",
    "        #print(f\"soma {i}: connected_mesh_pieces = {connected_mesh_pieces}\")\n",
    "        soma_to_piece_connectivity[i] = connected_mesh_pieces\n",
    "    \n",
    "    \n",
    "    soma_touching_mesh_data[z][\"soma_to_piece_connectivity\"] = soma_to_piece_connectivity\n",
    "\n",
    "soma_touching_mesh_data"
   ]
  },
  {
   "cell_type": "markdown",
   "metadata": {},
   "source": [
    "# ****Soma Touching mesh Data has the branches and the connectivity (So this is where you end up skipping if you don't have somas)***"
   ]
  },
  {
   "cell_type": "markdown",
   "metadata": {},
   "source": [
    "# Working on the Actual skeleton of all of the branches"
   ]
  },
  {
   "cell_type": "code",
   "execution_count": 11,
   "metadata": {
    "scrolled": true
   },
   "outputs": [
    {
     "name": "stdout",
     "output_type": "stream",
     "text": [
      "\n",
      "-- Working on Soma Continaing Mesh 0--\n",
      "\n",
      "    -- Working on branch 0--\n",
      "     Starting Screened Poisson\n",
      "IN INPUT FILE VALIDATION LOOP\n",
      "LEAVING LOOP, MESH VALIDATED\n",
      "Using port = 3849\n",
      "xvfb-run -n 3849 -s \"-screen 0 800x600x24\" meshlabserver $@  -i /notebooks/neuron_mesh_tools/meshAfterParty/development/temp/None.off -o /notebooks/neuron_mesh_tools/meshAfterParty/development/temp/None_poisson.off -s /notebooks/neuron_mesh_tools/meshAfterParty/development/temp/poisson_921876.mls\n",
      "-----Time for Screened Poisson= 38.82208204269409\n"
     ]
    },
    {
     "name": "stderr",
     "output_type": "stream",
     "text": [
      "face_normals all zero, ignoring!\n",
      "face_normals all zero, ignoring!\n",
      "face_normals all zero, ignoring!\n",
      "face_normals all zero, ignoring!\n",
      "face_normals all zero, ignoring!\n",
      "face_normals all zero, ignoring!\n",
      "face_normals all zero, ignoring!\n",
      "face_normals all zero, ignoring!\n",
      "face_normals all zero, ignoring!\n",
      "face_normals all zero, ignoring!\n",
      "face_normals all zero, ignoring!\n",
      "face_normals all zero, ignoring!\n",
      "face_normals all zero, ignoring!\n",
      "face_normals all zero, ignoring!\n",
      "face_normals all zero, ignoring!\n",
      "face_normals all zero, ignoring!\n",
      "face_normals all zero, ignoring!\n",
      "face_normals all zero, ignoring!\n",
      "face_normals all zero, ignoring!\n",
      "face_normals all zero, ignoring!\n",
      "face_normals all zero, ignoring!\n",
      "face_normals all zero, ignoring!\n",
      "face_normals all zero, ignoring!\n",
      "face_normals all zero, ignoring!\n",
      "face_normals all zero, ignoring!\n",
      "face_normals all zero, ignoring!\n",
      "face_normals all zero, ignoring!\n",
      "face_normals all zero, ignoring!\n",
      "face_normals all zero, ignoring!\n",
      "face_normals all zero, ignoring!\n",
      "face_normals all zero, ignoring!\n",
      "face_normals all zero, ignoring!\n",
      "face_normals all zero, ignoring!\n",
      "face_normals all zero, ignoring!\n",
      "face_normals all zero, ignoring!\n",
      "face_normals all zero, ignoring!\n",
      "face_normals all zero, ignoring!\n",
      "face_normals all zero, ignoring!\n",
      "face_normals all zero, ignoring!\n",
      "face_normals all zero, ignoring!\n",
      "face_normals all zero, ignoring!\n",
      "face_normals all zero, ignoring!\n",
      "face_normals all zero, ignoring!\n",
      "face_normals all zero, ignoring!\n",
      "face_normals all zero, ignoring!\n",
      "face_normals all zero, ignoring!\n",
      "face_normals all zero, ignoring!\n",
      "face_normals all zero, ignoring!\n",
      "face_normals all zero, ignoring!\n",
      "face_normals all zero, ignoring!\n",
      "face_normals all zero, ignoring!\n",
      "face_normals all zero, ignoring!\n",
      "face_normals all zero, ignoring!\n",
      "face_normals all zero, ignoring!\n",
      "face_normals all zero, ignoring!\n",
      "face_normals all zero, ignoring!\n",
      "face_normals all zero, ignoring!\n",
      "face_normals all zero, ignoring!\n",
      "face_normals all zero, ignoring!\n",
      "face_normals all zero, ignoring!\n",
      "face_normals all zero, ignoring!\n",
      "face_normals all zero, ignoring!\n",
      "face_normals all zero, ignoring!\n",
      "face_normals all zero, ignoring!\n",
      "face_normals all zero, ignoring!\n",
      "face_normals all zero, ignoring!\n",
      "face_normals all zero, ignoring!\n",
      "face_normals all zero, ignoring!\n",
      "face_normals all zero, ignoring!\n",
      "face_normals all zero, ignoring!\n",
      "face_normals all zero, ignoring!\n",
      "face_normals all zero, ignoring!\n",
      "face_normals all zero, ignoring!\n",
      "face_normals all zero, ignoring!\n",
      "face_normals all zero, ignoring!\n",
      "face_normals all zero, ignoring!\n",
      "face_normals all zero, ignoring!\n",
      "face_normals all zero, ignoring!\n",
      "face_normals all zero, ignoring!\n",
      "face_normals all zero, ignoring!\n",
      "face_normals all zero, ignoring!\n",
      "face_normals all zero, ignoring!\n",
      "face_normals all zero, ignoring!\n",
      "face_normals all zero, ignoring!\n",
      "face_normals all zero, ignoring!\n",
      "face_normals all zero, ignoring!\n",
      "face_normals all zero, ignoring!\n",
      "face_normals all zero, ignoring!\n"
     ]
    },
    {
     "name": "stdout",
     "output_type": "stream",
     "text": [
      "     Starting Calcification\n",
      "Before mesh subtraction number of skeleton edges = 4155\n",
      "Inside mesh subtraction, len(main_mesh_bbox_restricted.faces) = 308343\n"
     ]
    },
    {
     "data": {
      "application/vnd.jupyter.widget-view+json": {
       "model_id": "c576b91f967b4286af4657a71296c0fb",
       "version_major": 2,
       "version_minor": 0
      },
      "text/plain": [
       "HBox(children=(FloatProgress(value=1.0, bar_style='info', max=1.0), HTML(value='')))"
      ]
     },
     "metadata": {},
     "output_type": "display_data"
    },
    {
     "name": "stderr",
     "output_type": "stream",
     "text": [
      "No adjacent faces detected! Did you merge vertices?\n",
      "No adjacent faces detected! Did you merge vertices?\n",
      "No adjacent faces detected! Did you merge vertices?\n"
     ]
    },
    {
     "name": "stdout",
     "output_type": "stream",
     "text": [
      "\n",
      "Total Mesh subtraction time = 82.4695\n"
     ]
    },
    {
     "data": {
      "application/vnd.jupyter.widget-view+json": {
       "model_id": "1adc07aec81c448fafae9e02a184aef4",
       "version_major": 2,
       "version_minor": 0
      },
      "text/plain": [
       "HBox(children=(FloatProgress(value=0.0, max=229.0), HTML(value='')))"
      ]
     },
     "metadata": {},
     "output_type": "display_data"
    },
    {
     "name": "stdout",
     "output_type": "stream",
     "text": [
      "\n",
      "len_subgraphs AT BEGINNING of the loop\n"
     ]
    },
    {
     "data": {
      "application/vnd.jupyter.widget-view+json": {
       "model_id": "d90fd124ea134319a79a38d9b88c0d7b",
       "version_major": 2,
       "version_minor": 0
      },
      "text/plain": [
       "HBox(children=(FloatProgress(value=0.0, max=757.0), HTML(value='')))"
      ]
     },
     "metadata": {},
     "output_type": "display_data"
    },
    {
     "name": "stdout",
     "output_type": "stream",
     "text": [
      "all graph is one component!\n",
      "\n",
      "Total time for skeleton stitching = 2.1347920894622803\n",
      "The process was using a temp folder\n",
      "Using Distance measure skeletal_distance\n",
      "The smallest distance (not including diagonal) = 1.0\n",
      "Gettng rid of 17 nodes\n"
     ]
    },
    {
     "data": {
      "application/vnd.jupyter.widget-view+json": {
       "model_id": "11f1ef25804644a2a8d9cb49ba82bc57",
       "version_major": 2,
       "version_minor": 0
      },
      "text/plain": [
       "HBox(children=(FloatProgress(value=0.0, max=735.0), HTML(value='')))"
      ]
     },
     "metadata": {},
     "output_type": "display_data"
    },
    {
     "name": "stdout",
     "output_type": "stream",
     "text": [
      "    Total time for skeleton and cleaning of branch 0: 54.16932034492493\n",
      "\n",
      "    -- Working on branch 1--\n",
      "     Starting Screened Poisson\n",
      "IN INPUT FILE VALIDATION LOOP\n",
      "LEAVING LOOP, MESH VALIDATED\n",
      "Using port = 5650\n",
      "xvfb-run -n 5650 -s \"-screen 0 800x600x24\" meshlabserver $@  -i /notebooks/neuron_mesh_tools/meshAfterParty/development/temp/None.off -o /notebooks/neuron_mesh_tools/meshAfterParty/development/temp/None_poisson.off -s /notebooks/neuron_mesh_tools/meshAfterParty/development/temp/poisson_548108.mls\n",
      "-----Time for Screened Poisson= 22.768413066864014\n"
     ]
    },
    {
     "name": "stderr",
     "output_type": "stream",
     "text": [
      "face_normals all zero, ignoring!\n",
      "face_normals all zero, ignoring!\n",
      "face_normals all zero, ignoring!\n",
      "face_normals all zero, ignoring!\n",
      "face_normals all zero, ignoring!\n",
      "face_normals all zero, ignoring!\n",
      "face_normals all zero, ignoring!\n",
      "face_normals all zero, ignoring!\n",
      "face_normals all zero, ignoring!\n",
      "face_normals all zero, ignoring!\n",
      "face_normals all zero, ignoring!\n",
      "face_normals all zero, ignoring!\n",
      "face_normals all zero, ignoring!\n",
      "face_normals all zero, ignoring!\n",
      "face_normals all zero, ignoring!\n",
      "face_normals all zero, ignoring!\n",
      "face_normals all zero, ignoring!\n",
      "face_normals all zero, ignoring!\n",
      "face_normals all zero, ignoring!\n",
      "face_normals all zero, ignoring!\n",
      "face_normals all zero, ignoring!\n",
      "face_normals all zero, ignoring!\n",
      "face_normals all zero, ignoring!\n",
      "face_normals all zero, ignoring!\n",
      "face_normals all zero, ignoring!\n",
      "face_normals all zero, ignoring!\n",
      "face_normals all zero, ignoring!\n",
      "face_normals all zero, ignoring!\n",
      "face_normals all zero, ignoring!\n",
      "face_normals all zero, ignoring!\n",
      "face_normals all zero, ignoring!\n",
      "face_normals all zero, ignoring!\n",
      "face_normals all zero, ignoring!\n",
      "face_normals all zero, ignoring!\n",
      "face_normals all zero, ignoring!\n",
      "face_normals all zero, ignoring!\n",
      "face_normals all zero, ignoring!\n",
      "face_normals all zero, ignoring!\n",
      "face_normals all zero, ignoring!\n",
      "face_normals all zero, ignoring!\n",
      "face_normals all zero, ignoring!\n",
      "face_normals all zero, ignoring!\n",
      "face_normals all zero, ignoring!\n",
      "face_normals all zero, ignoring!\n",
      "face_normals all zero, ignoring!\n",
      "face_normals all zero, ignoring!\n",
      "face_normals all zero, ignoring!\n",
      "face_normals all zero, ignoring!\n",
      "face_normals all zero, ignoring!\n",
      "face_normals all zero, ignoring!\n",
      "face_normals all zero, ignoring!\n",
      "face_normals all zero, ignoring!\n",
      "face_normals all zero, ignoring!\n",
      "face_normals all zero, ignoring!\n"
     ]
    },
    {
     "name": "stdout",
     "output_type": "stream",
     "text": [
      "     Starting Calcification\n",
      "Before mesh subtraction number of skeleton edges = 2823\n",
      "Inside mesh subtraction, len(main_mesh_bbox_restricted.faces) = 176175\n"
     ]
    },
    {
     "data": {
      "application/vnd.jupyter.widget-view+json": {
       "model_id": "22f387f2991c41d9ab5e7a4a785a609b",
       "version_major": 2,
       "version_minor": 0
      },
      "text/plain": [
       "HBox(children=(FloatProgress(value=1.0, bar_style='info', max=1.0), HTML(value='')))"
      ]
     },
     "metadata": {},
     "output_type": "display_data"
    },
    {
     "name": "stderr",
     "output_type": "stream",
     "text": [
      "No adjacent faces detected! Did you merge vertices?\n"
     ]
    },
    {
     "name": "stdout",
     "output_type": "stream",
     "text": [
      "\n",
      "Total Mesh subtraction time = 45.0292\n"
     ]
    },
    {
     "data": {
      "application/vnd.jupyter.widget-view+json": {
       "model_id": "2e676b01e5d54e81a70c438ddf1f3b24",
       "version_major": 2,
       "version_minor": 0
      },
      "text/plain": [
       "HBox(children=(FloatProgress(value=0.0, max=152.0), HTML(value='')))"
      ]
     },
     "metadata": {},
     "output_type": "display_data"
    },
    {
     "name": "stdout",
     "output_type": "stream",
     "text": [
      "\n",
      "len_subgraphs AT BEGINNING of the loop\n"
     ]
    },
    {
     "data": {
      "application/vnd.jupyter.widget-view+json": {
       "model_id": "eb99a5c899234b5e92a4e2f8f345dcd4",
       "version_major": 2,
       "version_minor": 0
      },
      "text/plain": [
       "HBox(children=(FloatProgress(value=0.0, max=476.0), HTML(value='')))"
      ]
     },
     "metadata": {},
     "output_type": "display_data"
    },
    {
     "name": "stdout",
     "output_type": "stream",
     "text": [
      "all graph is one component!\n",
      "\n",
      "Total time for skeleton stitching = 0.8730149269104004\n",
      "The process was using a temp folder\n",
      "Using Distance measure skeletal_distance\n",
      "The smallest distance (not including diagonal) = 1.0\n",
      "Gettng rid of 7 nodes\n"
     ]
    },
    {
     "data": {
      "application/vnd.jupyter.widget-view+json": {
       "model_id": "5cd36cc0d9a84b2aaacb681bf21f388d",
       "version_major": 2,
       "version_minor": 0
      },
      "text/plain": [
       "HBox(children=(FloatProgress(value=0.0, max=422.0), HTML(value='')))"
      ]
     },
     "metadata": {},
     "output_type": "display_data"
    },
    {
     "name": "stdout",
     "output_type": "stream",
     "text": [
      "    Total time for skeleton and cleaning of branch 1: 20.50507402420044\n",
      "\n",
      "    -- Working on branch 2--\n",
      "     Starting Screened Poisson\n",
      "IN INPUT FILE VALIDATION LOOP\n",
      "LEAVING LOOP, MESH VALIDATED\n",
      "Using port = 9083\n",
      "xvfb-run -n 9083 -s \"-screen 0 800x600x24\" meshlabserver $@  -i /notebooks/neuron_mesh_tools/meshAfterParty/development/temp/None.off -o /notebooks/neuron_mesh_tools/meshAfterParty/development/temp/None_poisson.off -s /notebooks/neuron_mesh_tools/meshAfterParty/development/temp/poisson_932284.mls\n",
      "-----Time for Screened Poisson= 19.03022813796997\n"
     ]
    },
    {
     "name": "stderr",
     "output_type": "stream",
     "text": [
      "face_normals all zero, ignoring!\n",
      "face_normals all zero, ignoring!\n",
      "face_normals all zero, ignoring!\n",
      "face_normals all zero, ignoring!\n",
      "face_normals all zero, ignoring!\n",
      "face_normals all zero, ignoring!\n",
      "face_normals all zero, ignoring!\n",
      "face_normals all zero, ignoring!\n",
      "face_normals all zero, ignoring!\n",
      "face_normals all zero, ignoring!\n",
      "face_normals all zero, ignoring!\n",
      "face_normals all zero, ignoring!\n",
      "face_normals all zero, ignoring!\n",
      "face_normals all zero, ignoring!\n",
      "face_normals all zero, ignoring!\n",
      "face_normals all zero, ignoring!\n",
      "face_normals all zero, ignoring!\n",
      "face_normals all zero, ignoring!\n",
      "face_normals all zero, ignoring!\n",
      "face_normals all zero, ignoring!\n",
      "face_normals all zero, ignoring!\n",
      "face_normals all zero, ignoring!\n",
      "face_normals all zero, ignoring!\n",
      "face_normals all zero, ignoring!\n",
      "face_normals all zero, ignoring!\n",
      "face_normals all zero, ignoring!\n",
      "face_normals all zero, ignoring!\n",
      "face_normals all zero, ignoring!\n",
      "face_normals all zero, ignoring!\n",
      "face_normals all zero, ignoring!\n",
      "face_normals all zero, ignoring!\n",
      "face_normals all zero, ignoring!\n",
      "face_normals all zero, ignoring!\n",
      "face_normals all zero, ignoring!\n",
      "face_normals all zero, ignoring!\n",
      "face_normals all zero, ignoring!\n",
      "face_normals all zero, ignoring!\n",
      "face_normals all zero, ignoring!\n",
      "face_normals all zero, ignoring!\n",
      "face_normals all zero, ignoring!\n"
     ]
    },
    {
     "name": "stdout",
     "output_type": "stream",
     "text": [
      "     Starting Calcification\n",
      "Before mesh subtraction number of skeleton edges = 1800\n",
      "Inside mesh subtraction, len(main_mesh_bbox_restricted.faces) = 114671\n"
     ]
    },
    {
     "data": {
      "application/vnd.jupyter.widget-view+json": {
       "model_id": "19dcb05647884999b760b389ff280de4",
       "version_major": 2,
       "version_minor": 0
      },
      "text/plain": [
       "HBox(children=(FloatProgress(value=1.0, bar_style='info', max=1.0), HTML(value='')))"
      ]
     },
     "metadata": {},
     "output_type": "display_data"
    },
    {
     "name": "stderr",
     "output_type": "stream",
     "text": [
      "No adjacent faces detected! Did you merge vertices?\n"
     ]
    },
    {
     "name": "stdout",
     "output_type": "stream",
     "text": [
      "\n",
      "Total Mesh subtraction time = 27.249\n"
     ]
    },
    {
     "data": {
      "application/vnd.jupyter.widget-view+json": {
       "model_id": "bc80e61e63284b5299c5c8bc0509914f",
       "version_major": 2,
       "version_minor": 0
      },
      "text/plain": [
       "HBox(children=(FloatProgress(value=0.0, max=104.0), HTML(value='')))"
      ]
     },
     "metadata": {},
     "output_type": "display_data"
    },
    {
     "name": "stdout",
     "output_type": "stream",
     "text": [
      "\n",
      "len_subgraphs AT BEGINNING of the loop\n"
     ]
    },
    {
     "data": {
      "application/vnd.jupyter.widget-view+json": {
       "model_id": "65398bd1a2434f9ab9b69792f004e339",
       "version_major": 2,
       "version_minor": 0
      },
      "text/plain": [
       "HBox(children=(FloatProgress(value=0.0, max=335.0), HTML(value='')))"
      ]
     },
     "metadata": {},
     "output_type": "display_data"
    },
    {
     "name": "stdout",
     "output_type": "stream",
     "text": [
      "all graph is one component!\n",
      "\n",
      "Total time for skeleton stitching = 0.4825248718261719\n",
      "The process was using a temp folder\n",
      "Using Distance measure skeletal_distance\n",
      "The smallest distance (not including diagonal) = 1.0\n",
      "Gettng rid of 7 nodes\n"
     ]
    },
    {
     "data": {
      "application/vnd.jupyter.widget-view+json": {
       "model_id": "80d3847e27a34cbd9e56370f68a21c6a",
       "version_major": 2,
       "version_minor": 0
      },
      "text/plain": [
       "HBox(children=(FloatProgress(value=0.0, max=258.0), HTML(value='')))"
      ]
     },
     "metadata": {},
     "output_type": "display_data"
    },
    {
     "name": "stdout",
     "output_type": "stream",
     "text": [
      "    Total time for skeleton and cleaning of branch 2: 8.241427898406982\n",
      "\n",
      "    -- Working on branch 3--\n",
      "     Starting Screened Poisson\n",
      "IN INPUT FILE VALIDATION LOOP\n",
      "LEAVING LOOP, MESH VALIDATED\n",
      "Using port = 8109\n",
      "xvfb-run -n 8109 -s \"-screen 0 800x600x24\" meshlabserver $@  -i /notebooks/neuron_mesh_tools/meshAfterParty/development/temp/None.off -o /notebooks/neuron_mesh_tools/meshAfterParty/development/temp/None_poisson.off -s /notebooks/neuron_mesh_tools/meshAfterParty/development/temp/poisson_812724.mls\n",
      "-----Time for Screened Poisson= 18.835980892181396\n"
     ]
    },
    {
     "name": "stderr",
     "output_type": "stream",
     "text": [
      "face_normals all zero, ignoring!\n",
      "face_normals all zero, ignoring!\n",
      "face_normals all zero, ignoring!\n",
      "face_normals all zero, ignoring!\n",
      "face_normals all zero, ignoring!\n",
      "face_normals all zero, ignoring!\n",
      "face_normals all zero, ignoring!\n",
      "face_normals all zero, ignoring!\n",
      "face_normals all zero, ignoring!\n",
      "face_normals all zero, ignoring!\n",
      "face_normals all zero, ignoring!\n",
      "face_normals all zero, ignoring!\n",
      "face_normals all zero, ignoring!\n",
      "face_normals all zero, ignoring!\n",
      "face_normals all zero, ignoring!\n",
      "face_normals all zero, ignoring!\n",
      "face_normals all zero, ignoring!\n",
      "face_normals all zero, ignoring!\n",
      "face_normals all zero, ignoring!\n",
      "face_normals all zero, ignoring!\n",
      "face_normals all zero, ignoring!\n",
      "face_normals all zero, ignoring!\n",
      "face_normals all zero, ignoring!\n",
      "face_normals all zero, ignoring!\n",
      "face_normals all zero, ignoring!\n",
      "face_normals all zero, ignoring!\n",
      "face_normals all zero, ignoring!\n",
      "face_normals all zero, ignoring!\n",
      "face_normals all zero, ignoring!\n",
      "face_normals all zero, ignoring!\n",
      "face_normals all zero, ignoring!\n",
      "face_normals all zero, ignoring!\n",
      "face_normals all zero, ignoring!\n",
      "face_normals all zero, ignoring!\n",
      "face_normals all zero, ignoring!\n",
      "face_normals all zero, ignoring!\n",
      "face_normals all zero, ignoring!\n",
      "face_normals all zero, ignoring!\n",
      "face_normals all zero, ignoring!\n",
      "face_normals all zero, ignoring!\n",
      "face_normals all zero, ignoring!\n",
      "face_normals all zero, ignoring!\n",
      "face_normals all zero, ignoring!\n",
      "face_normals all zero, ignoring!\n",
      "face_normals all zero, ignoring!\n",
      "face_normals all zero, ignoring!\n",
      "face_normals all zero, ignoring!\n",
      "face_normals all zero, ignoring!\n",
      "face_normals all zero, ignoring!\n",
      "face_normals all zero, ignoring!\n",
      "face_normals all zero, ignoring!\n",
      "face_normals all zero, ignoring!\n",
      "face_normals all zero, ignoring!\n",
      "face_normals all zero, ignoring!\n",
      "face_normals all zero, ignoring!\n",
      "face_normals all zero, ignoring!\n"
     ]
    },
    {
     "name": "stdout",
     "output_type": "stream",
     "text": [
      "     Starting Calcification\n",
      "Before mesh subtraction number of skeleton edges = 1743\n",
      "Inside mesh subtraction, len(main_mesh_bbox_restricted.faces) = 110120\n"
     ]
    },
    {
     "data": {
      "application/vnd.jupyter.widget-view+json": {
       "model_id": "99c363f34b1f4ca38c7fe035bad1a977",
       "version_major": 2,
       "version_minor": 0
      },
      "text/plain": [
       "HBox(children=(FloatProgress(value=1.0, bar_style='info', max=1.0), HTML(value='')))"
      ]
     },
     "metadata": {},
     "output_type": "display_data"
    },
    {
     "name": "stderr",
     "output_type": "stream",
     "text": [
      "No adjacent faces detected! Did you merge vertices?\n",
      "No adjacent faces detected! Did you merge vertices?\n",
      "No adjacent faces detected! Did you merge vertices?\n",
      "No adjacent faces detected! Did you merge vertices?\n",
      "No adjacent faces detected! Did you merge vertices?\n"
     ]
    },
    {
     "name": "stdout",
     "output_type": "stream",
     "text": [
      "\n",
      "Total Mesh subtraction time = 26.62\n"
     ]
    },
    {
     "data": {
      "application/vnd.jupyter.widget-view+json": {
       "model_id": "493eb9c96a12429f8a230180177e6e75",
       "version_major": 2,
       "version_minor": 0
      },
      "text/plain": [
       "HBox(children=(FloatProgress(value=0.0, max=95.0), HTML(value='')))"
      ]
     },
     "metadata": {},
     "output_type": "display_data"
    },
    {
     "name": "stdout",
     "output_type": "stream",
     "text": [
      "\n",
      "len_subgraphs AT BEGINNING of the loop\n"
     ]
    },
    {
     "data": {
      "application/vnd.jupyter.widget-view+json": {
       "model_id": "0fca3a6cdad94dc6b6136359b5b5543a",
       "version_major": 2,
       "version_minor": 0
      },
      "text/plain": [
       "HBox(children=(FloatProgress(value=0.0, max=331.0), HTML(value='')))"
      ]
     },
     "metadata": {},
     "output_type": "display_data"
    },
    {
     "name": "stdout",
     "output_type": "stream",
     "text": [
      "all graph is one component!\n",
      "\n",
      "Total time for skeleton stitching = 0.4462728500366211\n",
      "The process was using a temp folder\n",
      "Using Distance measure skeletal_distance\n",
      "The smallest distance (not including diagonal) = 1.0\n",
      "Gettng rid of 9 nodes\n"
     ]
    },
    {
     "data": {
      "application/vnd.jupyter.widget-view+json": {
       "model_id": "b8a7a4dd336f4eed87a0c59cc3c3019f",
       "version_major": 2,
       "version_minor": 0
      },
      "text/plain": [
       "HBox(children=(FloatProgress(value=0.0, max=295.0), HTML(value='')))"
      ]
     },
     "metadata": {},
     "output_type": "display_data"
    },
    {
     "name": "stdout",
     "output_type": "stream",
     "text": [
      "    Total time for skeleton and cleaning of branch 3: 9.623429298400879\n",
      "\n",
      "    -- Working on branch 4--\n",
      "     Starting Screened Poisson\n",
      "IN INPUT FILE VALIDATION LOOP\n",
      "LEAVING LOOP, MESH VALIDATED\n",
      "Using port = 3117\n",
      "xvfb-run -n 3117 -s \"-screen 0 800x600x24\" meshlabserver $@  -i /notebooks/neuron_mesh_tools/meshAfterParty/development/temp/None.off -o /notebooks/neuron_mesh_tools/meshAfterParty/development/temp/None_poisson.off -s /notebooks/neuron_mesh_tools/meshAfterParty/development/temp/poisson_52660.mls\n",
      "-----Time for Screened Poisson= 22.15221357345581\n"
     ]
    },
    {
     "name": "stderr",
     "output_type": "stream",
     "text": [
      "face_normals all zero, ignoring!\n",
      "face_normals all zero, ignoring!\n",
      "face_normals all zero, ignoring!\n",
      "face_normals all zero, ignoring!\n",
      "face_normals all zero, ignoring!\n",
      "face_normals all zero, ignoring!\n",
      "face_normals all zero, ignoring!\n",
      "face_normals all zero, ignoring!\n",
      "face_normals all zero, ignoring!\n",
      "face_normals all zero, ignoring!\n",
      "face_normals all zero, ignoring!\n",
      "face_normals all zero, ignoring!\n",
      "face_normals all zero, ignoring!\n",
      "face_normals all zero, ignoring!\n",
      "face_normals all zero, ignoring!\n",
      "face_normals all zero, ignoring!\n",
      "face_normals all zero, ignoring!\n",
      "face_normals all zero, ignoring!\n",
      "face_normals all zero, ignoring!\n",
      "face_normals all zero, ignoring!\n",
      "face_normals all zero, ignoring!\n",
      "face_normals all zero, ignoring!\n",
      "face_normals all zero, ignoring!\n",
      "face_normals all zero, ignoring!\n",
      "face_normals all zero, ignoring!\n",
      "face_normals all zero, ignoring!\n",
      "face_normals all zero, ignoring!\n",
      "face_normals all zero, ignoring!\n",
      "face_normals all zero, ignoring!\n",
      "face_normals all zero, ignoring!\n",
      "face_normals all zero, ignoring!\n",
      "face_normals all zero, ignoring!\n",
      "face_normals all zero, ignoring!\n",
      "face_normals all zero, ignoring!\n",
      "face_normals all zero, ignoring!\n",
      "face_normals all zero, ignoring!\n",
      "face_normals all zero, ignoring!\n",
      "face_normals all zero, ignoring!\n",
      "face_normals all zero, ignoring!\n",
      "face_normals all zero, ignoring!\n",
      "face_normals all zero, ignoring!\n",
      "face_normals all zero, ignoring!\n",
      "face_normals all zero, ignoring!\n",
      "face_normals all zero, ignoring!\n",
      "face_normals all zero, ignoring!\n",
      "face_normals all zero, ignoring!\n",
      "face_normals all zero, ignoring!\n",
      "face_normals all zero, ignoring!\n",
      "face_normals all zero, ignoring!\n",
      "face_normals all zero, ignoring!\n",
      "face_normals all zero, ignoring!\n",
      "face_normals all zero, ignoring!\n",
      "face_normals all zero, ignoring!\n",
      "face_normals all zero, ignoring!\n",
      "face_normals all zero, ignoring!\n",
      "face_normals all zero, ignoring!\n",
      "face_normals all zero, ignoring!\n",
      "face_normals all zero, ignoring!\n",
      "face_normals all zero, ignoring!\n",
      "face_normals all zero, ignoring!\n",
      "face_normals all zero, ignoring!\n",
      "face_normals all zero, ignoring!\n",
      "face_normals all zero, ignoring!\n",
      "face_normals all zero, ignoring!\n",
      "face_normals all zero, ignoring!\n",
      "face_normals all zero, ignoring!\n",
      "face_normals all zero, ignoring!\n",
      "face_normals all zero, ignoring!\n",
      "face_normals all zero, ignoring!\n",
      "face_normals all zero, ignoring!\n",
      "face_normals all zero, ignoring!\n",
      "face_normals all zero, ignoring!\n",
      "face_normals all zero, ignoring!\n",
      "face_normals all zero, ignoring!\n",
      "face_normals all zero, ignoring!\n",
      "face_normals all zero, ignoring!\n",
      "face_normals all zero, ignoring!\n",
      "face_normals all zero, ignoring!\n",
      "face_normals all zero, ignoring!\n",
      "face_normals all zero, ignoring!\n",
      "face_normals all zero, ignoring!\n",
      "face_normals all zero, ignoring!\n",
      "face_normals all zero, ignoring!\n",
      "face_normals all zero, ignoring!\n",
      "face_normals all zero, ignoring!\n",
      "face_normals all zero, ignoring!\n",
      "face_normals all zero, ignoring!\n",
      "face_normals all zero, ignoring!\n",
      "face_normals all zero, ignoring!\n",
      "face_normals all zero, ignoring!\n",
      "face_normals all zero, ignoring!\n",
      "face_normals all zero, ignoring!\n",
      "face_normals all zero, ignoring!\n",
      "face_normals all zero, ignoring!\n",
      "face_normals all zero, ignoring!\n",
      "face_normals all zero, ignoring!\n",
      "face_normals all zero, ignoring!\n",
      "face_normals all zero, ignoring!\n",
      "face_normals all zero, ignoring!\n",
      "face_normals all zero, ignoring!\n",
      "face_normals all zero, ignoring!\n",
      "face_normals all zero, ignoring!\n",
      "face_normals all zero, ignoring!\n",
      "face_normals all zero, ignoring!\n",
      "face_normals all zero, ignoring!\n",
      "face_normals all zero, ignoring!\n",
      "face_normals all zero, ignoring!\n",
      "face_normals all zero, ignoring!\n",
      "face_normals all zero, ignoring!\n",
      "face_normals all zero, ignoring!\n",
      "face_normals all zero, ignoring!\n",
      "face_normals all zero, ignoring!\n",
      "face_normals all zero, ignoring!\n",
      "face_normals all zero, ignoring!\n",
      "face_normals all zero, ignoring!\n",
      "face_normals all zero, ignoring!\n",
      "face_normals all zero, ignoring!\n",
      "face_normals all zero, ignoring!\n",
      "face_normals all zero, ignoring!\n",
      "face_normals all zero, ignoring!\n",
      "face_normals all zero, ignoring!\n",
      "face_normals all zero, ignoring!\n",
      "face_normals all zero, ignoring!\n",
      "face_normals all zero, ignoring!\n",
      "face_normals all zero, ignoring!\n",
      "face_normals all zero, ignoring!\n",
      "face_normals all zero, ignoring!\n",
      "face_normals all zero, ignoring!\n",
      "face_normals all zero, ignoring!\n",
      "face_normals all zero, ignoring!\n",
      "face_normals all zero, ignoring!\n",
      "face_normals all zero, ignoring!\n",
      "face_normals all zero, ignoring!\n",
      "face_normals all zero, ignoring!\n",
      "face_normals all zero, ignoring!\n",
      "face_normals all zero, ignoring!\n",
      "face_normals all zero, ignoring!\n",
      "face_normals all zero, ignoring!\n",
      "face_normals all zero, ignoring!\n",
      "face_normals all zero, ignoring!\n",
      "face_normals all zero, ignoring!\n",
      "face_normals all zero, ignoring!\n",
      "face_normals all zero, ignoring!\n",
      "face_normals all zero, ignoring!\n",
      "face_normals all zero, ignoring!\n",
      "face_normals all zero, ignoring!\n",
      "face_normals all zero, ignoring!\n",
      "face_normals all zero, ignoring!\n",
      "face_normals all zero, ignoring!\n",
      "face_normals all zero, ignoring!\n",
      "face_normals all zero, ignoring!\n",
      "face_normals all zero, ignoring!\n",
      "face_normals all zero, ignoring!\n",
      "face_normals all zero, ignoring!\n",
      "face_normals all zero, ignoring!\n",
      "face_normals all zero, ignoring!\n",
      "face_normals all zero, ignoring!\n",
      "face_normals all zero, ignoring!\n",
      "face_normals all zero, ignoring!\n",
      "face_normals all zero, ignoring!\n",
      "face_normals all zero, ignoring!\n",
      "face_normals all zero, ignoring!\n",
      "face_normals all zero, ignoring!\n",
      "face_normals all zero, ignoring!\n",
      "face_normals all zero, ignoring!\n",
      "face_normals all zero, ignoring!\n",
      "face_normals all zero, ignoring!\n",
      "face_normals all zero, ignoring!\n",
      "face_normals all zero, ignoring!\n",
      "face_normals all zero, ignoring!\n",
      "face_normals all zero, ignoring!\n",
      "face_normals all zero, ignoring!\n",
      "face_normals all zero, ignoring!\n",
      "face_normals all zero, ignoring!\n",
      "face_normals all zero, ignoring!\n",
      "face_normals all zero, ignoring!\n",
      "face_normals all zero, ignoring!\n"
     ]
    },
    {
     "name": "stdout",
     "output_type": "stream",
     "text": [
      "     Starting Calcification\n",
      "Before mesh subtraction number of skeleton edges = 1787\n",
      "Inside mesh subtraction, len(main_mesh_bbox_restricted.faces) = 107788\n"
     ]
    },
    {
     "data": {
      "application/vnd.jupyter.widget-view+json": {
       "model_id": "ab347c8383984dc89949259cd15fc7f3",
       "version_major": 2,
       "version_minor": 0
      },
      "text/plain": [
       "HBox(children=(FloatProgress(value=1.0, bar_style='info', max=1.0), HTML(value='')))"
      ]
     },
     "metadata": {},
     "output_type": "display_data"
    },
    {
     "name": "stdout",
     "output_type": "stream",
     "text": [
      "\n",
      "Total Mesh subtraction time = 22.7184\n"
     ]
    },
    {
     "data": {
      "application/vnd.jupyter.widget-view+json": {
       "model_id": "7fb65b11893a4fd48289f83819af7787",
       "version_major": 2,
       "version_minor": 0
      },
      "text/plain": [
       "HBox(children=(FloatProgress(value=0.0, max=119.0), HTML(value='')))"
      ]
     },
     "metadata": {},
     "output_type": "display_data"
    },
    {
     "name": "stdout",
     "output_type": "stream",
     "text": [
      "\n",
      "len_subgraphs AT BEGINNING of the loop\n"
     ]
    },
    {
     "data": {
      "application/vnd.jupyter.widget-view+json": {
       "model_id": "5b2bbdbfc0174aca94219337c8709e86",
       "version_major": 2,
       "version_minor": 0
      },
      "text/plain": [
       "HBox(children=(FloatProgress(value=0.0, max=327.0), HTML(value='')))"
      ]
     },
     "metadata": {},
     "output_type": "display_data"
    },
    {
     "name": "stdout",
     "output_type": "stream",
     "text": [
      "all graph is one component!\n",
      "Total time for skeleton stitching = 0.5732989311218262\n",
      "The process was using a temp folder\n",
      "Using Distance measure skeletal_distance\n",
      "The smallest distance (not including diagonal) = 1.0\n",
      "Gettng rid of 15 nodes\n"
     ]
    },
    {
     "data": {
      "application/vnd.jupyter.widget-view+json": {
       "model_id": "e9a66baf26184a4483b1f99118fabb87",
       "version_major": 2,
       "version_minor": 0
      },
      "text/plain": [
       "HBox(children=(FloatProgress(value=0.0, max=245.0), HTML(value='')))"
      ]
     },
     "metadata": {},
     "output_type": "display_data"
    },
    {
     "name": "stdout",
     "output_type": "stream",
     "text": [
      "\n",
      "    Total time for skeleton and cleaning of branch 4: 8.429454803466797\n",
      "\n",
      "    -- Working on branch 5--\n",
      "     Starting Screened Poisson\n",
      "IN INPUT FILE VALIDATION LOOP\n",
      "LEAVING LOOP, MESH VALIDATED\n",
      "Using port = 4987\n",
      "xvfb-run -n 4987 -s \"-screen 0 800x600x24\" meshlabserver $@  -i /notebooks/neuron_mesh_tools/meshAfterParty/development/temp/None.off -o /notebooks/neuron_mesh_tools/meshAfterParty/development/temp/None_poisson.off -s /notebooks/neuron_mesh_tools/meshAfterParty/development/temp/poisson_95776.mls\n",
      "-----Time for Screened Poisson= 16.131871938705444\n"
     ]
    },
    {
     "name": "stderr",
     "output_type": "stream",
     "text": [
      "face_normals all zero, ignoring!\n",
      "face_normals all zero, ignoring!\n",
      "face_normals all zero, ignoring!\n",
      "face_normals all zero, ignoring!\n",
      "face_normals all zero, ignoring!\n",
      "face_normals all zero, ignoring!\n",
      "face_normals all zero, ignoring!\n",
      "face_normals all zero, ignoring!\n",
      "face_normals all zero, ignoring!\n",
      "face_normals all zero, ignoring!\n",
      "face_normals all zero, ignoring!\n",
      "face_normals all zero, ignoring!\n",
      "face_normals all zero, ignoring!\n",
      "face_normals all zero, ignoring!\n",
      "face_normals all zero, ignoring!\n",
      "face_normals all zero, ignoring!\n",
      "face_normals all zero, ignoring!\n",
      "face_normals all zero, ignoring!\n",
      "face_normals all zero, ignoring!\n",
      "face_normals all zero, ignoring!\n",
      "face_normals all zero, ignoring!\n",
      "face_normals all zero, ignoring!\n",
      "face_normals all zero, ignoring!\n",
      "face_normals all zero, ignoring!\n",
      "face_normals all zero, ignoring!\n",
      "face_normals all zero, ignoring!\n",
      "face_normals all zero, ignoring!\n",
      "face_normals all zero, ignoring!\n",
      "face_normals all zero, ignoring!\n",
      "face_normals all zero, ignoring!\n",
      "face_normals all zero, ignoring!\n",
      "face_normals all zero, ignoring!\n",
      "face_normals all zero, ignoring!\n",
      "face_normals all zero, ignoring!\n",
      "face_normals all zero, ignoring!\n",
      "face_normals all zero, ignoring!\n",
      "face_normals all zero, ignoring!\n",
      "face_normals all zero, ignoring!\n",
      "face_normals all zero, ignoring!\n",
      "face_normals all zero, ignoring!\n",
      "face_normals all zero, ignoring!\n",
      "face_normals all zero, ignoring!\n",
      "face_normals all zero, ignoring!\n",
      "face_normals all zero, ignoring!\n",
      "face_normals all zero, ignoring!\n",
      "face_normals all zero, ignoring!\n",
      "face_normals all zero, ignoring!\n",
      "face_normals all zero, ignoring!\n",
      "face_normals all zero, ignoring!\n",
      "face_normals all zero, ignoring!\n"
     ]
    },
    {
     "name": "stdout",
     "output_type": "stream",
     "text": [
      "     Starting Calcification\n",
      "Before mesh subtraction number of skeleton edges = 1310\n",
      "Inside mesh subtraction, len(main_mesh_bbox_restricted.faces) = 104099\n"
     ]
    },
    {
     "data": {
      "application/vnd.jupyter.widget-view+json": {
       "model_id": "917fb77bd4a3447a893edeb19cc3725f",
       "version_major": 2,
       "version_minor": 0
      },
      "text/plain": [
       "HBox(children=(FloatProgress(value=1.0, bar_style='info', max=1.0), HTML(value='')))"
      ]
     },
     "metadata": {},
     "output_type": "display_data"
    },
    {
     "name": "stdout",
     "output_type": "stream",
     "text": [
      "\n",
      "Total Mesh subtraction time = 19.0974\n"
     ]
    },
    {
     "data": {
      "application/vnd.jupyter.widget-view+json": {
       "model_id": "f3a9dbeeba85417ca912b9b016931f86",
       "version_major": 2,
       "version_minor": 0
      },
      "text/plain": [
       "HBox(children=(FloatProgress(value=0.0, max=49.0), HTML(value='')))"
      ]
     },
     "metadata": {},
     "output_type": "display_data"
    },
    {
     "name": "stdout",
     "output_type": "stream",
     "text": [
      "\n",
      "len_subgraphs AT BEGINNING of the loop\n"
     ]
    },
    {
     "data": {
      "application/vnd.jupyter.widget-view+json": {
       "model_id": "04c18fc907eb431fa425b9eb3537271f",
       "version_major": 2,
       "version_minor": 0
      },
      "text/plain": [
       "HBox(children=(FloatProgress(value=0.0, max=177.0), HTML(value='')))"
      ]
     },
     "metadata": {},
     "output_type": "display_data"
    },
    {
     "name": "stdout",
     "output_type": "stream",
     "text": [
      "all graph is one component!\n",
      "Total time for skeleton stitching = 0.19284677505493164\n",
      "The process was using a temp folder\n",
      "\n",
      "Using Distance measure skeletal_distance\n",
      "The smallest distance (not including diagonal) = 1.0\n",
      "Gettng rid of 7 nodes\n"
     ]
    },
    {
     "data": {
      "application/vnd.jupyter.widget-view+json": {
       "model_id": "44daf84a9604417fbfa9a17f06923b29",
       "version_major": 2,
       "version_minor": 0
      },
      "text/plain": [
       "HBox(children=(FloatProgress(value=0.0, max=197.0), HTML(value='')))"
      ]
     },
     "metadata": {},
     "output_type": "display_data"
    },
    {
     "name": "stdout",
     "output_type": "stream",
     "text": [
      "    Total time for skeleton and cleaning of branch 5: 4.2719550132751465\n",
      "\n",
      "    -- Working on branch 6--\n",
      "     Starting Screened Poisson\n",
      "IN INPUT FILE VALIDATION LOOP\n",
      "\n",
      "LEAVING LOOP, MESH VALIDATED\n",
      "Using port = 509\n",
      "xvfb-run -n 509 -s \"-screen 0 800x600x24\" meshlabserver $@  -i /notebooks/neuron_mesh_tools/meshAfterParty/development/temp/None.off -o /notebooks/neuron_mesh_tools/meshAfterParty/development/temp/None_poisson.off -s /notebooks/neuron_mesh_tools/meshAfterParty/development/temp/poisson_355313.mls\n"
     ]
    },
    {
     "name": "stderr",
     "output_type": "stream",
     "text": [
      "face_normals all zero, ignoring!\n",
      "face_normals all zero, ignoring!\n",
      "face_normals all zero, ignoring!\n",
      "face_normals all zero, ignoring!\n",
      "face_normals all zero, ignoring!\n"
     ]
    },
    {
     "name": "stdout",
     "output_type": "stream",
     "text": [
      "-----Time for Screened Poisson= 13.049293994903564\n"
     ]
    },
    {
     "name": "stderr",
     "output_type": "stream",
     "text": [
      "face_normals all zero, ignoring!\n",
      "face_normals all zero, ignoring!\n",
      "face_normals all zero, ignoring!\n",
      "face_normals all zero, ignoring!\n",
      "face_normals all zero, ignoring!\n",
      "face_normals all zero, ignoring!\n",
      "face_normals all zero, ignoring!\n",
      "face_normals all zero, ignoring!\n",
      "face_normals all zero, ignoring!\n",
      "face_normals all zero, ignoring!\n",
      "face_normals all zero, ignoring!\n",
      "face_normals all zero, ignoring!\n",
      "face_normals all zero, ignoring!\n",
      "face_normals all zero, ignoring!\n",
      "face_normals all zero, ignoring!\n",
      "face_normals all zero, ignoring!\n"
     ]
    },
    {
     "name": "stdout",
     "output_type": "stream",
     "text": [
      "     Starting Calcification\n",
      "Before mesh subtraction number of skeleton edges = 1089\n",
      "Inside mesh subtraction, len(main_mesh_bbox_restricted.faces) = 58779\n"
     ]
    },
    {
     "data": {
      "application/vnd.jupyter.widget-view+json": {
       "model_id": "1fcbbd56a2904a9ab477679ffc47b805",
       "version_major": 2,
       "version_minor": 0
      },
      "text/plain": [
       "HBox(children=(FloatProgress(value=1.0, bar_style='info', max=1.0), HTML(value='')))"
      ]
     },
     "metadata": {},
     "output_type": "display_data"
    },
    {
     "name": "stdout",
     "output_type": "stream",
     "text": [
      "\n",
      "Total Mesh subtraction time = 13.4816\n"
     ]
    },
    {
     "data": {
      "application/vnd.jupyter.widget-view+json": {
       "model_id": "e832a138153349529aa8abd54b136e09",
       "version_major": 2,
       "version_minor": 0
      },
      "text/plain": [
       "HBox(children=(FloatProgress(value=0.0, max=46.0), HTML(value='')))"
      ]
     },
     "metadata": {},
     "output_type": "display_data"
    },
    {
     "name": "stdout",
     "output_type": "stream",
     "text": [
      "\n",
      "len_subgraphs AT BEGINNING of the loop\n"
     ]
    },
    {
     "data": {
      "application/vnd.jupyter.widget-view+json": {
       "model_id": "dbe84459cdec40a99bbd0759198585d4",
       "version_major": 2,
       "version_minor": 0
      },
      "text/plain": [
       "HBox(children=(FloatProgress(value=0.0, max=163.0), HTML(value='')))"
      ]
     },
     "metadata": {},
     "output_type": "display_data"
    },
    {
     "name": "stdout",
     "output_type": "stream",
     "text": [
      "all graph is one component!\n",
      "Total time for skeleton stitching = 0.17688918113708496\n",
      "The process was using a temp folder\n",
      "\n",
      "Using Distance measure skeletal_distance\n",
      "The smallest distance (not including diagonal) = 1.0\n",
      "Gettng rid of 3 nodes\n"
     ]
    },
    {
     "data": {
      "application/vnd.jupyter.widget-view+json": {
       "model_id": "012392be35a847f68a1b48c844e65a8a",
       "version_major": 2,
       "version_minor": 0
      },
      "text/plain": [
       "HBox(children=(FloatProgress(value=0.0, max=149.0), HTML(value='')))"
      ]
     },
     "metadata": {},
     "output_type": "display_data"
    },
    {
     "name": "stdout",
     "output_type": "stream",
     "text": [
      "    Total time for skeleton and cleaning of branch 6: 2.661830425262451\n",
      "\n",
      "    -- Working on branch 7--\n",
      "     Starting Screened Poisson\n",
      "IN INPUT FILE VALIDATION LOOP\n",
      "\n",
      "LEAVING LOOP, MESH VALIDATED\n",
      "Using port = 3963\n",
      "xvfb-run -n 3963 -s \"-screen 0 800x600x24\" meshlabserver $@  -i /notebooks/neuron_mesh_tools/meshAfterParty/development/temp/None.off -o /notebooks/neuron_mesh_tools/meshAfterParty/development/temp/None_poisson.off -s /notebooks/neuron_mesh_tools/meshAfterParty/development/temp/poisson_927449.mls\n",
      "-----Time for Screened Poisson= 14.940669059753418\n"
     ]
    },
    {
     "name": "stderr",
     "output_type": "stream",
     "text": [
      "face_normals all zero, ignoring!\n",
      "face_normals all zero, ignoring!\n",
      "face_normals all zero, ignoring!\n",
      "face_normals all zero, ignoring!\n",
      "face_normals all zero, ignoring!\n",
      "face_normals all zero, ignoring!\n",
      "face_normals all zero, ignoring!\n",
      "face_normals all zero, ignoring!\n",
      "face_normals all zero, ignoring!\n",
      "face_normals all zero, ignoring!\n",
      "face_normals all zero, ignoring!\n",
      "face_normals all zero, ignoring!\n",
      "face_normals all zero, ignoring!\n",
      "face_normals all zero, ignoring!\n",
      "face_normals all zero, ignoring!\n",
      "face_normals all zero, ignoring!\n",
      "face_normals all zero, ignoring!\n",
      "face_normals all zero, ignoring!\n",
      "face_normals all zero, ignoring!\n",
      "face_normals all zero, ignoring!\n",
      "face_normals all zero, ignoring!\n",
      "face_normals all zero, ignoring!\n",
      "face_normals all zero, ignoring!\n",
      "face_normals all zero, ignoring!\n",
      "face_normals all zero, ignoring!\n",
      "face_normals all zero, ignoring!\n",
      "face_normals all zero, ignoring!\n",
      "face_normals all zero, ignoring!\n",
      "face_normals all zero, ignoring!\n",
      "face_normals all zero, ignoring!\n",
      "face_normals all zero, ignoring!\n",
      "face_normals all zero, ignoring!\n",
      "face_normals all zero, ignoring!\n",
      "face_normals all zero, ignoring!\n",
      "face_normals all zero, ignoring!\n",
      "face_normals all zero, ignoring!\n",
      "face_normals all zero, ignoring!\n",
      "face_normals all zero, ignoring!\n",
      "face_normals all zero, ignoring!\n",
      "face_normals all zero, ignoring!\n",
      "face_normals all zero, ignoring!\n",
      "face_normals all zero, ignoring!\n",
      "face_normals all zero, ignoring!\n",
      "face_normals all zero, ignoring!\n",
      "face_normals all zero, ignoring!\n",
      "face_normals all zero, ignoring!\n"
     ]
    },
    {
     "name": "stdout",
     "output_type": "stream",
     "text": [
      "     Starting Calcification\n",
      "Before mesh subtraction number of skeleton edges = 1147\n",
      "Inside mesh subtraction, len(main_mesh_bbox_restricted.faces) = 58543\n"
     ]
    },
    {
     "data": {
      "application/vnd.jupyter.widget-view+json": {
       "model_id": "c42a2e7349354602b289cfbc7f567b86",
       "version_major": 2,
       "version_minor": 0
      },
      "text/plain": [
       "HBox(children=(FloatProgress(value=1.0, bar_style='info', max=1.0), HTML(value='')))"
      ]
     },
     "metadata": {},
     "output_type": "display_data"
    },
    {
     "name": "stderr",
     "output_type": "stream",
     "text": [
      "No adjacent faces detected! Did you merge vertices?\n"
     ]
    },
    {
     "name": "stdout",
     "output_type": "stream",
     "text": [
      "\n",
      "Total Mesh subtraction time = 14.9001\n"
     ]
    },
    {
     "data": {
      "application/vnd.jupyter.widget-view+json": {
       "model_id": "c75fe2c2336f419cb5b011a98aece6aa",
       "version_major": 2,
       "version_minor": 0
      },
      "text/plain": [
       "HBox(children=(FloatProgress(value=0.0, max=51.0), HTML(value='')))"
      ]
     },
     "metadata": {},
     "output_type": "display_data"
    },
    {
     "name": "stdout",
     "output_type": "stream",
     "text": [
      "\n",
      "len_subgraphs AT BEGINNING of the loop\n"
     ]
    },
    {
     "data": {
      "application/vnd.jupyter.widget-view+json": {
       "model_id": "55588c25729c4adf8e8b3997be3531a3",
       "version_major": 2,
       "version_minor": 0
      },
      "text/plain": [
       "HBox(children=(FloatProgress(value=0.0, max=200.0), HTML(value='')))"
      ]
     },
     "metadata": {},
     "output_type": "display_data"
    },
    {
     "name": "stdout",
     "output_type": "stream",
     "text": [
      "all graph is one component!\n",
      "Total time for skeleton stitching = 0.2152724266052246\n",
      "The process was using a temp folder\n",
      "\n",
      "Using Distance measure skeletal_distance\n",
      "The smallest distance (not including diagonal) = 1.0\n",
      "Gettng rid of 5 nodes\n"
     ]
    },
    {
     "data": {
      "application/vnd.jupyter.widget-view+json": {
       "model_id": "8be06589cfc34f6f848904f4c9445ecb",
       "version_major": 2,
       "version_minor": 0
      },
      "text/plain": [
       "HBox(children=(FloatProgress(value=0.0, max=181.0), HTML(value='')))"
      ]
     },
     "metadata": {},
     "output_type": "display_data"
    },
    {
     "name": "stdout",
     "output_type": "stream",
     "text": [
      "    Total time for skeleton and cleaning of branch 7: 3.577143430709839\n",
      "\n",
      "    -- Working on branch 8--\n",
      "     Starting Screened Poisson\n",
      "IN INPUT FILE VALIDATION LOOP\n",
      "\n",
      "LEAVING LOOP, MESH VALIDATED\n",
      "Using port = 3143\n",
      "xvfb-run -n 3143 -s \"-screen 0 800x600x24\" meshlabserver $@  -i /notebooks/neuron_mesh_tools/meshAfterParty/development/temp/None.off -o /notebooks/neuron_mesh_tools/meshAfterParty/development/temp/None_poisson.off -s /notebooks/neuron_mesh_tools/meshAfterParty/development/temp/poisson_476016.mls\n"
     ]
    },
    {
     "name": "stderr",
     "output_type": "stream",
     "text": [
      "face_normals all zero, ignoring!\n",
      "face_normals all zero, ignoring!\n",
      "face_normals all zero, ignoring!\n",
      "face_normals all zero, ignoring!\n",
      "face_normals all zero, ignoring!\n",
      "face_normals all zero, ignoring!\n",
      "face_normals all zero, ignoring!\n",
      "face_normals all zero, ignoring!\n",
      "face_normals all zero, ignoring!\n",
      "face_normals all zero, ignoring!\n"
     ]
    },
    {
     "name": "stdout",
     "output_type": "stream",
     "text": [
      "-----Time for Screened Poisson= 8.728833436965942\n",
      "     Starting Calcification\n",
      "Before mesh subtraction number of skeleton edges = 559\n",
      "Inside mesh subtraction, len(main_mesh_bbox_restricted.faces) = 29598\n"
     ]
    },
    {
     "data": {
      "application/vnd.jupyter.widget-view+json": {
       "model_id": "d0e4b8df79ab45eabf9f74244da16220",
       "version_major": 2,
       "version_minor": 0
      },
      "text/plain": [
       "HBox(children=(FloatProgress(value=1.0, bar_style='info', max=1.0), HTML(value='')))"
      ]
     },
     "metadata": {},
     "output_type": "display_data"
    },
    {
     "name": "stdout",
     "output_type": "stream",
     "text": [
      "\n",
      "Total Mesh subtraction time = 6.3758\n"
     ]
    },
    {
     "data": {
      "application/vnd.jupyter.widget-view+json": {
       "model_id": "4d74ccd9be9b46e390b2e4c2f7886dca",
       "version_major": 2,
       "version_minor": 0
      },
      "text/plain": [
       "HBox(children=(FloatProgress(value=0.0, max=30.0), HTML(value='')))"
      ]
     },
     "metadata": {},
     "output_type": "display_data"
    },
    {
     "name": "stdout",
     "output_type": "stream",
     "text": [
      "\n",
      "len_subgraphs AT BEGINNING of the loop\n"
     ]
    },
    {
     "data": {
      "application/vnd.jupyter.widget-view+json": {
       "model_id": "1a350022d7d64b3bae69a5ebf6c2bbbc",
       "version_major": 2,
       "version_minor": 0
      },
      "text/plain": [
       "HBox(children=(FloatProgress(value=0.0, max=88.0), HTML(value='')))"
      ]
     },
     "metadata": {},
     "output_type": "display_data"
    },
    {
     "name": "stdout",
     "output_type": "stream",
     "text": [
      "all graph is one component!\n",
      "Total time for skeleton stitching = 0.09453201293945312\n",
      "The process was using a temp folder\n",
      "\n",
      "Using Distance measure skeletal_distance\n",
      "The smallest distance (not including diagonal) = 1.0\n",
      "Gettng rid of 2 nodes\n"
     ]
    },
    {
     "data": {
      "application/vnd.jupyter.widget-view+json": {
       "model_id": "a8ebb5fd402a4a0ca208488a233c76dd",
       "version_major": 2,
       "version_minor": 0
      },
      "text/plain": [
       "HBox(children=(FloatProgress(value=0.0, max=67.0), HTML(value='')))"
      ]
     },
     "metadata": {},
     "output_type": "display_data"
    },
    {
     "name": "stdout",
     "output_type": "stream",
     "text": [
      "\n",
      "    Total time for skeleton and cleaning of branch 8: 0.7211494445800781\n",
      "\n",
      "    -- Working on branch 9--\n",
      "     Starting Screened Poisson\n",
      "IN INPUT FILE VALIDATION LOOP\n",
      "LEAVING LOOP, MESH VALIDATED\n",
      "Using port = 2943\n",
      "xvfb-run -n 2943 -s \"-screen 0 800x600x24\" meshlabserver $@  -i /notebooks/neuron_mesh_tools/meshAfterParty/development/temp/None.off -o /notebooks/neuron_mesh_tools/meshAfterParty/development/temp/None_poisson.off -s /notebooks/neuron_mesh_tools/meshAfterParty/development/temp/poisson_936876.mls\n"
     ]
    },
    {
     "name": "stderr",
     "output_type": "stream",
     "text": [
      "face_normals all zero, ignoring!\n",
      "face_normals all zero, ignoring!\n",
      "face_normals all zero, ignoring!\n",
      "face_normals all zero, ignoring!\n",
      "face_normals all zero, ignoring!\n",
      "face_normals all zero, ignoring!\n",
      "face_normals all zero, ignoring!\n"
     ]
    },
    {
     "name": "stdout",
     "output_type": "stream",
     "text": [
      "-----Time for Screened Poisson= 6.343583345413208\n",
      "     Starting Calcification\n",
      "Before mesh subtraction number of skeleton edges = 208\n",
      "Inside mesh subtraction, len(main_mesh_bbox_restricted.faces) = 7718\n"
     ]
    },
    {
     "data": {
      "application/vnd.jupyter.widget-view+json": {
       "model_id": "8d0cc067f9ce46dc88e9612b0e38015e",
       "version_major": 2,
       "version_minor": 0
      },
      "text/plain": [
       "HBox(children=(FloatProgress(value=1.0, bar_style='info', max=1.0), HTML(value='')))"
      ]
     },
     "metadata": {},
     "output_type": "display_data"
    },
    {
     "name": "stdout",
     "output_type": "stream",
     "text": [
      "\n",
      "Total Mesh subtraction time = 1.1479\n"
     ]
    },
    {
     "data": {
      "application/vnd.jupyter.widget-view+json": {
       "model_id": "09fd1651ac5c4e819c2d29b13f4e4884",
       "version_major": 2,
       "version_minor": 0
      },
      "text/plain": [
       "HBox(children=(FloatProgress(value=0.0, max=8.0), HTML(value='')))"
      ]
     },
     "metadata": {},
     "output_type": "display_data"
    },
    {
     "name": "stdout",
     "output_type": "stream",
     "text": [
      "\n",
      "len_subgraphs AT BEGINNING of the loop\n"
     ]
    },
    {
     "data": {
      "application/vnd.jupyter.widget-view+json": {
       "model_id": "fc48a84f68704592aeb5981b51327587",
       "version_major": 2,
       "version_minor": 0
      },
      "text/plain": [
       "HBox(children=(FloatProgress(value=0.0, max=22.0), HTML(value='')))"
      ]
     },
     "metadata": {},
     "output_type": "display_data"
    },
    {
     "name": "stdout",
     "output_type": "stream",
     "text": [
      "all graph is one component!\n",
      "Total time for skeleton stitching = 0.05102133750915527\n",
      "The process was using a temp folder\n",
      "\n",
      "Using Distance measure skeletal_distance\n",
      "The smallest distance (not including diagonal) = 5.385164807134504\n"
     ]
    },
    {
     "data": {
      "application/vnd.jupyter.widget-view+json": {
       "model_id": "70ba91db32aa4046a34c61abd15f05a1",
       "version_major": 2,
       "version_minor": 0
      },
      "text/plain": [
       "HBox(children=(FloatProgress(value=0.0, max=9.0), HTML(value='')))"
      ]
     },
     "metadata": {},
     "output_type": "display_data"
    },
    {
     "name": "stdout",
     "output_type": "stream",
     "text": [
      "\n",
      "    Total time for skeleton and cleaning of branch 9: 0.07271766662597656\n",
      "\n",
      "    -- Working on branch 10--\n",
      "     Starting Screened Poisson\n",
      "IN INPUT FILE VALIDATION LOOP\n",
      "LEAVING LOOP, MESH VALIDATED\n",
      "Using port = 7813\n",
      "xvfb-run -n 7813 -s \"-screen 0 800x600x24\" meshlabserver $@  -i /notebooks/neuron_mesh_tools/meshAfterParty/development/temp/None.off -o /notebooks/neuron_mesh_tools/meshAfterParty/development/temp/None_poisson.off -s /notebooks/neuron_mesh_tools/meshAfterParty/development/temp/poisson_874004.mls\n"
     ]
    },
    {
     "name": "stderr",
     "output_type": "stream",
     "text": [
      "face_normals all zero, ignoring!\n"
     ]
    },
    {
     "name": "stdout",
     "output_type": "stream",
     "text": [
      "-----Time for Screened Poisson= 5.304829359054565\n",
      "     Starting Calcification\n",
      "only one skeleton so no stacking needed\n",
      "Before mesh subtraction number of skeleton edges = 21\n",
      "Inside mesh subtraction, len(main_mesh_bbox_restricted.faces) = 1923\n"
     ]
    },
    {
     "data": {
      "application/vnd.jupyter.widget-view+json": {
       "model_id": "c9bdc93a47094bcea3a6ee27527abf22",
       "version_major": 2,
       "version_minor": 0
      },
      "text/plain": [
       "HBox(children=(FloatProgress(value=1.0, bar_style='info', max=1.0), HTML(value='')))"
      ]
     },
     "metadata": {},
     "output_type": "display_data"
    },
    {
     "name": "stdout",
     "output_type": "stream",
     "text": [
      "\n",
      "Total Mesh subtraction time = 0.1316\n"
     ]
    },
    {
     "data": {
      "application/vnd.jupyter.widget-view+json": {
       "model_id": "abff25d5ee8a47d7ab53f836bd0bdc14",
       "version_major": 2,
       "version_minor": 0
      },
      "text/plain": [
       "HBox(children=(FloatProgress(value=0.0, max=2.0), HTML(value='')))"
      ]
     },
     "metadata": {},
     "output_type": "display_data"
    },
    {
     "name": "stdout",
     "output_type": "stream",
     "text": [
      "\n",
      "len_subgraphs AT BEGINNING of the loop\n"
     ]
    },
    {
     "data": {
      "application/vnd.jupyter.widget-view+json": {
       "model_id": "a68880b596a747278519808cf267b200",
       "version_major": 2,
       "version_minor": 0
      },
      "text/plain": [
       "HBox(children=(FloatProgress(value=0.0, max=3.0), HTML(value='')))"
      ]
     },
     "metadata": {},
     "output_type": "display_data"
    },
    {
     "name": "stdout",
     "output_type": "stream",
     "text": [
      "all graph is one component!\n",
      "Total time for skeleton stitching = 0.025226831436157227\n",
      "The process was using a temp folder\n",
      "\n",
      "Using Distance measure skeletal_distance\n",
      "The smallest distance (not including diagonal) = 169.30897790722446\n"
     ]
    },
    {
     "data": {
      "application/vnd.jupyter.widget-view+json": {
       "model_id": "6cd62c7ea1a3430daf0f217baad51daa",
       "version_major": 2,
       "version_minor": 0
      },
      "text/plain": [
       "HBox(children=(FloatProgress(value=0.0, max=5.0), HTML(value='')))"
      ]
     },
     "metadata": {},
     "output_type": "display_data"
    },
    {
     "name": "stdout",
     "output_type": "stream",
     "text": [
      "    Total time for skeleton and cleaning of branch 10: 0.02544426918029785\n",
      "Total time for skeletonization = 666.5959279537201\n"
     ]
    }
   ],
   "source": [
    "sk = reload(sk)\n",
    "xu = reload(xu)\n",
    "\n",
    "import time\n",
    "global_start_time = time.time()\n",
    "\n",
    "for j,(soma_containing_mesh_idx,mesh_data) in enumerate(soma_touching_mesh_data.items()):\n",
    "    print(f\"\\n-- Working on Soma Continaing Mesh {j}--\")\n",
    "    current_branches = mesh_data[\"branch_meshes\"]\n",
    "    \n",
    "    #skeletonize each of the branches\n",
    "    total_skeletons = []\n",
    "    \n",
    "    for z,branch in enumerate(current_branches):\n",
    "        print(f\"\\n    -- Working on branch {z}--\")\n",
    "        curren_skeleton = sk.skeletonize_connected_branch(branch)\n",
    "        #clean the skeleton\n",
    "            # --------  Doing the cleaning ------- #\n",
    "        clean_time = time.time()\n",
    "        filter_end_node_length=5000,\n",
    "        new_cleaned_skeleton = sk.clean_skeleton(curren_skeleton,\n",
    "                                distance_func=sk.skeletal_distance,\n",
    "                          min_distance_to_junction=filter_end_node_length,\n",
    "                          return_skeleton=True,\n",
    "                          print_flag=False)\n",
    "        print(f\"    Total time for skeleton and cleaning of branch {z}: {time.time() - clean_time}\")\n",
    "        total_skeletons.append(new_cleaned_skeleton)\n",
    "    soma_touching_mesh_data[j][\"branch_skeletons\"] = total_skeletons\n",
    "    \n",
    "print(f\"Total time for skeletonization = {time.time() - global_start_time}\")"
   ]
  },
  {
   "cell_type": "code",
   "execution_count": 178,
   "metadata": {},
   "outputs": [
    {
     "name": "stdout",
     "output_type": "stream",
     "text": [
      "hello\n"
     ]
    }
   ],
   "source": [
    "# save off the data and rename it for use in phase 2\n",
    "# Save our current\n",
    "print(\"hello\")\n",
    "saved_file = f\"./soma_mesh_data/soma_touching_mesh_data_{segment_id}.npz\"\n",
    "np.savez(saved_file,soma_touching_mesh_data=soma_touching_mesh_data)\n",
    "current_mesh_data = soma_touching_mesh_data"
   ]
  },
  {
   "cell_type": "markdown",
   "metadata": {},
   "source": [
    "# Lets have an alert if there was more than one soma disconnected meshes"
   ]
  },
  {
   "cell_type": "code",
   "execution_count": 13,
   "metadata": {},
   "outputs": [],
   "source": [
    "if len(soma_touching_mesh_data.keys()) > 1:\n",
    "    raise Exception(\"More than 1 disconnected meshes that contain somas\")"
   ]
  },
  {
   "cell_type": "markdown",
   "metadata": {},
   "source": [
    "# ******* Phase 2 ********"
   ]
  },
  {
   "cell_type": "markdown",
   "metadata": {},
   "source": [
    "# Importing and visualizing the preprocessed data (for sped up testing)"
   ]
  },
  {
   "cell_type": "code",
   "execution_count": 179,
   "metadata": {},
   "outputs": [],
   "source": [
    "# saved_file = \"../../Platinum_Compartment/soma_touching_mesh_data.npz\"\n",
    "saved_file = f\"./soma_mesh_data/soma_touching_mesh_data_{segment_id}.npz\"\n",
    "current_mesh_data = nu.load_dict(saved_file)"
   ]
  },
  {
   "cell_type": "code",
   "execution_count": 185,
   "metadata": {},
   "outputs": [
    {
     "data": {
      "application/vnd.jupyter.widget-view+json": {
       "model_id": "21656d0cbd484238875a1346c59902be",
       "version_major": 2,
       "version_minor": 0
      },
      "text/plain": [
       "VBox(children=(Figure(camera=PerspectiveCamera(fov=46.0, position=(0.0, 0.0, 2.0), quaternion=(0.0, 0.0, 0.0, …"
      ]
     },
     "metadata": {},
     "output_type": "display_data"
    }
   ],
   "source": [
    "# visualizing the original neuron\n",
    "current_neuron = trimesh.load_mesh(current_mesh_file)\n",
    "sk.graph_skeleton_and_mesh(main_mesh_verts=current_neuron.vertices,\n",
    "                          main_mesh_faces=current_neuron.faces,\n",
    "                           main_mesh_color = [0.,1.,0.,0.8]\n",
    "                          )"
   ]
  },
  {
   "cell_type": "code",
   "execution_count": 16,
   "metadata": {},
   "outputs": [
    {
     "data": {
      "application/vnd.jupyter.widget-view+json": {
       "model_id": "22881c87d8954a639ffe656d54fc66e8",
       "version_major": 2,
       "version_minor": 0
      },
      "text/plain": [
       "VBox(children=(Figure(camera=PerspectiveCamera(fov=46.0, position=(0.0, 0.0, 2.0), quaternion=(0.0, 0.0, 0.0, …"
      ]
     },
     "metadata": {},
     "output_type": "display_data"
    }
   ],
   "source": [
    "# visualizing the somas that were extracted\n",
    "soma_meshes = tu.combine_meshes(current_mesh_data[0][\"soma_meshes\"])\n",
    "sk.graph_skeleton_and_mesh(main_mesh_verts=soma_meshes.vertices,\n",
    "                          main_mesh_faces=soma_meshes.faces,\n",
    "                           main_mesh_color = [0.,1.,0.,0.8]\n",
    "                          )"
   ]
  },
  {
   "cell_type": "code",
   "execution_count": 17,
   "metadata": {},
   "outputs": [],
   "source": [
    "# # Visualize the extracted branches\n",
    "# # visualize all of the branches and the meshes\n",
    "# sk.graph_skeleton_and_mesh(other_meshes=list(current_mesh_data[0][\"branch_meshes\"]) + list(current_mesh_data[0][\"soma_meshes\"]),\n",
    "#                           other_meshes_colors=\"random\",\n",
    "#                            other_skeletons = current_mesh_data[0][\"branch_skeletons\"],\n",
    "#                           other_skeletons_colors=\"random\")"
   ]
  },
  {
   "cell_type": "markdown",
   "metadata": {},
   "source": [
    "# Cleaning each limb through distance and decomposition, checking that all cleaned branches are connected components and then visualizing"
   ]
  },
  {
   "cell_type": "code",
   "execution_count": 18,
   "metadata": {
    "scrolled": true
   },
   "outputs": [
    {
     "name": "stdout",
     "output_type": "stream",
     "text": [
      "\n",
      "---- Working on Limb 0 ----\n",
      "before cleaning limb size of skeleton = (4042, 2, 3)\n",
      "Using Distance measure skeletal_distance\n",
      "The smallest distance (not including diagonal) = 2.23606797749979\n",
      "no small end nodes to get rid of so returning whole skeleton\n",
      "The smallest distance (not including diagonal) = 2.23606797749979\n",
      "after DISTANCE cleaning limb size of skeleton = (4042, 2, 3)\n",
      "The smallest distance (not including diagonal) = 2.23606797749979\n",
      "The smallest distance (not including diagonal) = 152.95751043999115\n",
      "The smallest distance (not including diagonal) = 119.30486159410644\n",
      "The smallest distance (not including diagonal) = 124.1168803990819\n",
      "The smallest distance (not including diagonal) = 221.87834504520714\n",
      "The smallest distance (not including diagonal) = 36.37540377785027\n",
      "The smallest distance (not including diagonal) = 303.52759347380595\n",
      "The smallest distance (not including diagonal) = 75.32595834106593\n",
      "The smallest distance (not including diagonal) = 84.81155581640984\n",
      "The smallest distance (not including diagonal) = 245.93698379869588\n",
      "The smallest distance (not including diagonal) = 53.71219600798314\n",
      "The smallest distance (not including diagonal) = 86.70063436907483\n",
      "The smallest distance (not including diagonal) = 3.1622776601683795\n",
      "The smallest distance (not including diagonal) = 69.98571282769076\n",
      "The smallest distance (not including diagonal) = 3.0\n",
      "The smallest distance (not including diagonal) = 2.23606797749979\n",
      "The smallest distance (not including diagonal) = 239.73089079210823\n",
      "The smallest distance (not including diagonal) = 72.92461861401813\n",
      "The smallest distance (not including diagonal) = 41.72529209005013\n",
      "The smallest distance (not including diagonal) = 8.06225774829855\n",
      "The smallest distance (not including diagonal) = 74.35724578008521\n",
      "The smallest distance (not including diagonal) = 140.9432509913121\n",
      "The smallest distance (not including diagonal) = 220.62411472910208\n",
      "The smallest distance (not including diagonal) = 117.84735890124988\n",
      "The smallest distance (not including diagonal) = 10.198039027185569\n",
      "The smallest distance (not including diagonal) = 114.8607853011636\n",
      "The smallest distance (not including diagonal) = 26.92582403567252\n",
      "The smallest distance (not including diagonal) = 21.656407827707714\n",
      "The smallest distance (not including diagonal) = 104.7902667235846\n",
      "The smallest distance (not including diagonal) = 252.66182932924394\n",
      "The smallest distance (not including diagonal) = 31.20897306865447\n",
      "The smallest distance (not including diagonal) = 2.449489742783178\n",
      "The smallest distance (not including diagonal) = 154.434452114805\n",
      "The smallest distance (not including diagonal) = 84.95292814258964\n",
      "The smallest distance (not including diagonal) = 150.87411971574184\n",
      "The smallest distance (not including diagonal) = 72.18725649309579\n",
      "The smallest distance (not including diagonal) = 227.49945054878705\n",
      "The smallest distance (not including diagonal) = 526.0589320598976\n",
      "The smallest distance (not including diagonal) = 157.48650735856708\n",
      "The smallest distance (not including diagonal) = 228.0153722888362\n",
      "The smallest distance (not including diagonal) = 116.33099329069749\n",
      "The smallest distance (not including diagonal) = 92.90855719469548\n",
      "The smallest distance (not including diagonal) = 10.488088481701515\n",
      "The smallest distance (not including diagonal) = 180.02499826412998\n",
      "The smallest distance (not including diagonal) = 669.2398673121619\n",
      "The smallest distance (not including diagonal) = 81.6394512475433\n",
      "The smallest distance (not including diagonal) = 69.98571282769076\n",
      "The smallest distance (not including diagonal) = 81.08020720249795\n",
      "The smallest distance (not including diagonal) = 303.43917018082624\n",
      "The smallest distance (not including diagonal) = 205.2364490045567\n",
      "The smallest distance (not including diagonal) = 514.7368259606068\n",
      "The smallest distance (not including diagonal) = 11.74734012447073\n",
      "The smallest distance (not including diagonal) = 215.29746863351644\n",
      "The smallest distance (not including diagonal) = 109.11003620199197\n",
      "The smallest distance (not including diagonal) = 35.9722114972099\n",
      "The smallest distance (not including diagonal) = 214.03504385964462\n",
      "The smallest distance (not including diagonal) = 278.5067324141375\n",
      "The smallest distance (not including diagonal) = 127.03936397825676\n",
      "The smallest distance (not including diagonal) = 89.78307190111062\n",
      "The smallest distance (not including diagonal) = 253.74593592804595\n",
      "The smallest distance (not including diagonal) = 230.4371931785525\n",
      "The smallest distance (not including diagonal) = 170.88885276693736\n",
      "The smallest distance (not including diagonal) = 90.38805230781334\n",
      "The smallest distance (not including diagonal) = 69.72804313904126\n",
      "The smallest distance (not including diagonal) = 96.18211892030659\n",
      "The smallest distance (not including diagonal) = 150.32631173550425\n",
      "The smallest distance (not including diagonal) = 304.55541367705155\n",
      "The smallest distance (not including diagonal) = 243.82370680473218\n",
      "The smallest distance (not including diagonal) = 27.874719729532707\n",
      "The smallest distance (not including diagonal) = 383.6391533720196\n",
      "The smallest distance (not including diagonal) = 138.72191607674148\n",
      "The smallest distance (not including diagonal) = 75.29276193632427\n",
      "The smallest distance (not including diagonal) = 43.9089968002003\n",
      "The smallest distance (not including diagonal) = 135.9742622704753\n",
      "The smallest distance (not including diagonal) = 13.92838827718412\n",
      "The smallest distance (not including diagonal) = 239.5954924450792\n",
      "The smallest distance (not including diagonal) = 33.03028912982749\n",
      "The smallest distance (not including diagonal) = 76.55716818169282\n",
      "The smallest distance (not including diagonal) = 564.8690113645818\n",
      "The smallest distance (not including diagonal) = 371.5225430576185\n",
      "The smallest distance (not including diagonal) = 2.23606797749979\n",
      "The smallest distance (not including diagonal) = 2.23606797749979\n",
      "After DECOMPOSITION cleaning limb size of skeleton = (4042, 2, 3)\n",
      "Total time = 3.2050375938415527\n",
      "\n",
      "---- Working on Limb 1 ----\n",
      "before cleaning limb size of skeleton = (2906, 2, 3)\n",
      "Using Distance measure skeletal_distance\n",
      "The smallest distance (not including diagonal) = 21.118712081942874\n",
      "no small end nodes to get rid of so returning whole skeleton\n",
      "The smallest distance (not including diagonal) = 21.118712081942874\n",
      "after DISTANCE cleaning limb size of skeleton = (2906, 2, 3)\n",
      "The smallest distance (not including diagonal) = 21.118712081942874\n",
      "high-degree endpoints were connected so just using that connection\n",
      "curr_branch = {2544, 2545.0}\n",
      "The smallest distance (not including diagonal) = 33.166247903554\n",
      "The smallest distance (not including diagonal) = 49.7332886505931\n",
      "The smallest distance (not including diagonal) = 107.63363786474933\n",
      "The smallest distance (not including diagonal) = 53.14132102234569\n",
      "The smallest distance (not including diagonal) = 115.77996372429904\n",
      "The smallest distance (not including diagonal) = 43.174066289845804\n",
      "The smallest distance (not including diagonal) = 43.79497688091638\n",
      "The smallest distance (not including diagonal) = 85.492689745966\n",
      "The smallest distance (not including diagonal) = 235.16024323849453\n",
      "The smallest distance (not including diagonal) = 110.92790451459904\n",
      "The smallest distance (not including diagonal) = 64.90762667052309\n",
      "The smallest distance (not including diagonal) = 158.301674027807\n",
      "The smallest distance (not including diagonal) = 112.16059914247963\n",
      "The smallest distance (not including diagonal) = 21.118712081942874\n",
      "The smallest distance (not including diagonal) = 175.66729917659688\n",
      "The smallest distance (not including diagonal) = 180.51315741518678\n",
      "The smallest distance (not including diagonal) = 90.36592278065886\n",
      "The smallest distance (not including diagonal) = 31.591137997862628\n",
      "The smallest distance (not including diagonal) = 69.44062211702888\n",
      "The smallest distance (not including diagonal) = 37.70941526992961\n",
      "The smallest distance (not including diagonal) = 66.16645675869307\n",
      "The smallest distance (not including diagonal) = 269.79251286868583\n",
      "The smallest distance (not including diagonal) = 156.14416415607724\n",
      "The smallest distance (not including diagonal) = 134.1081652995074\n",
      "The smallest distance (not including diagonal) = 194.49519274270864\n",
      "The smallest distance (not including diagonal) = 97.9642792042079\n"
     ]
    },
    {
     "name": "stdout",
     "output_type": "stream",
     "text": [
      "The smallest distance (not including diagonal) = 172.70205557549104\n",
      "The smallest distance (not including diagonal) = 235.14961194947736\n",
      "The smallest distance (not including diagonal) = 70.80430777856195\n",
      "The smallest distance (not including diagonal) = 247.4227152061831\n",
      "The smallest distance (not including diagonal) = 120.37441588643328\n",
      "The smallest distance (not including diagonal) = 164.5265935950781\n",
      "The smallest distance (not including diagonal) = 46.09772228646444\n",
      "The smallest distance (not including diagonal) = 117.90250209389112\n",
      "The smallest distance (not including diagonal) = 91.48223871331527\n",
      "The smallest distance (not including diagonal) = 96.77293009927931\n",
      "The smallest distance (not including diagonal) = 295.53003231482245\n",
      "The smallest distance (not including diagonal) = 101.21758740456127\n",
      "The smallest distance (not including diagonal) = 25.787593916455254\n",
      "The smallest distance (not including diagonal) = 121.94260945215171\n",
      "The smallest distance (not including diagonal) = 283.45943272362626\n",
      "The smallest distance (not including diagonal) = 52.24940191045253\n",
      "The smallest distance (not including diagonal) = 49.519390141664125\n",
      "The smallest distance (not including diagonal) = 266.0090411997386\n",
      "The smallest distance (not including diagonal) = 22.090722034374522\n",
      "The smallest distance (not including diagonal) = 1105.809404915661\n",
      "The smallest distance (not including diagonal) = 988.4034854248214\n",
      "The smallest distance (not including diagonal) = 1003.9048759718223\n",
      "The smallest distance (not including diagonal) = 428.3689998120779\n",
      "The smallest distance (not including diagonal) = 21.118712081942874\n",
      "The smallest distance (not including diagonal) = 21.118712081942874\n",
      "After DECOMPOSITION cleaning limb size of skeleton = (2903, 2, 3)\n",
      "Total time = 1.8700079917907715\n",
      "\n",
      "---- Working on Limb 2 ----\n",
      "before cleaning limb size of skeleton = (1971, 2, 3)\n",
      "Using Distance measure skeletal_distance\n",
      "The smallest distance (not including diagonal) = 3.0\n",
      "no small end nodes to get rid of so returning whole skeleton\n",
      "The smallest distance (not including diagonal) = 3.0\n",
      "after DISTANCE cleaning limb size of skeleton = (1971, 2, 3)\n",
      "The smallest distance (not including diagonal) = 3.0\n",
      "The smallest distance (not including diagonal) = 254.12792054396542\n",
      "The smallest distance (not including diagonal) = 225.07998578283232\n",
      "The smallest distance (not including diagonal) = 297.6995129320839\n",
      "The smallest distance (not including diagonal) = 6.48074069840786\n",
      "The smallest distance (not including diagonal) = 41.97618372363071\n",
      "The smallest distance (not including diagonal) = 138.23892360692048\n",
      "The smallest distance (not including diagonal) = 263.2983099072229\n",
      "The smallest distance (not including diagonal) = 363.6344318130504\n",
      "The smallest distance (not including diagonal) = 237.54788990854033\n",
      "The smallest distance (not including diagonal) = 25.61347301710562\n",
      "The smallest distance (not including diagonal) = 132.94359706281458\n",
      "The smallest distance (not including diagonal) = 63.30876716537765\n",
      "The smallest distance (not including diagonal) = 55.0\n",
      "The smallest distance (not including diagonal) = 76.17453642788504\n",
      "The smallest distance (not including diagonal) = 126.15070352558483\n",
      "The smallest distance (not including diagonal) = 48.88762624632127\n",
      "The smallest distance (not including diagonal) = 188.90209104189398\n",
      "The smallest distance (not including diagonal) = 43.93176527297759\n",
      "The smallest distance (not including diagonal) = 129.1743008496659\n",
      "The smallest distance (not including diagonal) = 15.811388300841896\n",
      "The smallest distance (not including diagonal) = 81.25269226308751\n",
      "The smallest distance (not including diagonal) = 85.53946457629952\n",
      "The smallest distance (not including diagonal) = 16.881943016134134\n",
      "The smallest distance (not including diagonal) = 199.66471896657157\n",
      "The smallest distance (not including diagonal) = 340.37920030460145\n",
      "The smallest distance (not including diagonal) = 107.67543823918248\n",
      "The smallest distance (not including diagonal) = 3.1622776601683795\n",
      "The smallest distance (not including diagonal) = 21.470910553583888\n",
      "The smallest distance (not including diagonal) = 50.24937810560445\n",
      "The smallest distance (not including diagonal) = 4.358898943540674\n",
      "The smallest distance (not including diagonal) = 167.86929439305055\n",
      "The smallest distance (not including diagonal) = 264.7017189215061\n",
      "The smallest distance (not including diagonal) = 15.620499351813308\n",
      "The smallest distance (not including diagonal) = 192.46817918814529\n",
      "The smallest distance (not including diagonal) = 325.0661471147065\n",
      "The smallest distance (not including diagonal) = 29.8496231131986\n",
      "The smallest distance (not including diagonal) = 114.79111463872106\n",
      "The smallest distance (not including diagonal) = 3.0\n",
      "The smallest distance (not including diagonal) = 91.91844211038392\n",
      "The smallest distance (not including diagonal) = 420.1202208892117\n",
      "The smallest distance (not including diagonal) = 133.98346912967614\n",
      "The smallest distance (not including diagonal) = 54.29548784199291\n",
      "The smallest distance (not including diagonal) = 416.3195887776601\n",
      "The smallest distance (not including diagonal) = 232.21757039466243\n",
      "The smallest distance (not including diagonal) = 36.72873534441391\n",
      "The smallest distance (not including diagonal) = 212.55822731665788\n",
      "The smallest distance (not including diagonal) = 675.5474298671094\n",
      "The smallest distance (not including diagonal) = 750.1413200191015\n",
      "The smallest distance (not including diagonal) = 555.0585554696008\n",
      "The smallest distance (not including diagonal) = 605.1520470096751\n",
      "The smallest distance (not including diagonal) = 875.5895156978526\n",
      "The smallest distance (not including diagonal) = 3.0\n",
      "The smallest distance (not including diagonal) = 3.0\n",
      "After DECOMPOSITION cleaning limb size of skeleton = (1971, 2, 3)\n",
      "Total time = 0.9570827484130859\n",
      "\n",
      "---- Working on Limb 3 ----\n",
      "before cleaning limb size of skeleton = (1871, 2, 3)\n",
      "Using Distance measure skeletal_distance\n",
      "The smallest distance (not including diagonal) = 2.0\n",
      "no small end nodes to get rid of so returning whole skeleton\n",
      "The smallest distance (not including diagonal) = 2.0\n",
      "after DISTANCE cleaning limb size of skeleton = (1871, 2, 3)\n",
      "The smallest distance (not including diagonal) = 2.0\n",
      "high-degree endpoints were connected so just using that connection\n",
      "curr_branch = {728}\n",
      "type(branch_subgraph) = <class 'networkx_utils.GraphOrderedEdges'>\n",
      "in remove edge\n",
      "The smallest distance (not including diagonal) = 7.3484692283495345\n",
      "The smallest distance (not including diagonal) = 67.512961718473\n",
      "The smallest distance (not including diagonal) = 12.206555615733702\n",
      "The smallest distance (not including diagonal) = 61.97580172938467\n",
      "The smallest distance (not including diagonal) = 38.01315561749642\n",
      "The smallest distance (not including diagonal) = 119.15116449284078\n",
      "The smallest distance (not including diagonal) = 50.813384063650005\n",
      "The smallest distance (not including diagonal) = 79.91245209602819\n",
      "The smallest distance (not including diagonal) = 175.48789132017058\n",
      "The smallest distance (not including diagonal) = 353.04671079048745\n",
      "The smallest distance (not including diagonal) = 16.64331697709324\n",
      "The smallest distance (not including diagonal) = 79.08223567907018\n",
      "The smallest distance (not including diagonal) = 16.30950643030009\n",
      "The smallest distance (not including diagonal) = 12.36931687685298\n",
      "The smallest distance (not including diagonal) = 151.29111011556495\n",
      "The smallest distance (not including diagonal) = 126.24579200908045\n",
      "The smallest distance (not including diagonal) = 44.654227123532216\n",
      "The smallest distance (not including diagonal) = 442.5697346181764\n",
      "The smallest distance (not including diagonal) = 283.02694218047156\n",
      "The smallest distance (not including diagonal) = 25.298221281347036\n",
      "The smallest distance (not including diagonal) = 27.2213151776324\n",
      "The smallest distance (not including diagonal) = 29.274562336608895\n",
      "The smallest distance (not including diagonal) = 317.84592179232635\n",
      "The smallest distance (not including diagonal) = 98.91920945901981\n",
      "The smallest distance (not including diagonal) = 97.58073580374356\n",
      "The smallest distance (not including diagonal) = 113.57816691600547\n",
      "The smallest distance (not including diagonal) = 215.6223550562418\n",
      "The smallest distance (not including diagonal) = 287.27861041156547\n",
      "The smallest distance (not including diagonal) = 259.56785240077187\n",
      "The smallest distance (not including diagonal) = 78.26876771739798\n",
      "The smallest distance (not including diagonal) = 73.32803011127464\n",
      "The smallest distance (not including diagonal) = 88.43641783790206\n",
      "The smallest distance (not including diagonal) = 84.870489570875\n",
      "The smallest distance (not including diagonal) = 410.42173431727514\n",
      "The smallest distance (not including diagonal) = 107.89346597454362\n",
      "The smallest distance (not including diagonal) = 2.0\n",
      "The smallest distance (not including diagonal) = 43.73785545725808\n",
      "The smallest distance (not including diagonal) = 77.5306391048081\n",
      "The smallest distance (not including diagonal) = 539.5961638114388\n",
      "The smallest distance (not including diagonal) = 272.2902862755115\n",
      "The smallest distance (not including diagonal) = 542.4463107073362\n"
     ]
    },
    {
     "name": "stdout",
     "output_type": "stream",
     "text": [
      "The smallest distance (not including diagonal) = 2.0\n",
      "The smallest distance (not including diagonal) = 2.0\n",
      "After DECOMPOSITION cleaning limb size of skeleton = (1868, 2, 3)\n",
      "Total time = 0.946711540222168\n",
      "\n",
      "---- Working on Limb 4 ----\n",
      "before cleaning limb size of skeleton = (2220, 2, 3)\n",
      "Using Distance measure skeletal_distance\n",
      "The smallest distance (not including diagonal) = 4.47213595499958\n",
      "no small end nodes to get rid of so returning whole skeleton\n",
      "The smallest distance (not including diagonal) = 4.47213595499958\n",
      "after DISTANCE cleaning limb size of skeleton = (2220, 2, 3)\n",
      "The smallest distance (not including diagonal) = 4.47213595499958\n",
      "The smallest distance (not including diagonal) = 44.339598554790726\n",
      "The smallest distance (not including diagonal) = 18.57417562100671\n",
      "The smallest distance (not including diagonal) = 35.0\n",
      "The smallest distance (not including diagonal) = 33.54101966249684\n",
      "The smallest distance (not including diagonal) = 237.33941939762136\n",
      "The smallest distance (not including diagonal) = 77.82673062643708\n",
      "The smallest distance (not including diagonal) = 207.21167920752083\n",
      "The smallest distance (not including diagonal) = 60.03332407921454\n",
      "The smallest distance (not including diagonal) = 363.0564694369183\n",
      "The smallest distance (not including diagonal) = 115.0\n",
      "The smallest distance (not including diagonal) = 100.73728207570423\n",
      "The smallest distance (not including diagonal) = 146.8945199794737\n",
      "The smallest distance (not including diagonal) = 36.45545226711637\n",
      "The smallest distance (not including diagonal) = 90.37698822156003\n",
      "The smallest distance (not including diagonal) = 25.612496949731394\n",
      "The smallest distance (not including diagonal) = 122.0245876862528\n",
      "The smallest distance (not including diagonal) = 4.47213595499958\n",
      "The smallest distance (not including diagonal) = 72.2841614740048\n",
      "The smallest distance (not including diagonal) = 71.2460525222275\n",
      "The smallest distance (not including diagonal) = 102.975725294848\n",
      "The smallest distance (not including diagonal) = 84.81155581640984\n",
      "The smallest distance (not including diagonal) = 87.0\n",
      "The smallest distance (not including diagonal) = 217.046078057172\n",
      "The smallest distance (not including diagonal) = 5.0\n",
      "The smallest distance (not including diagonal) = 83.15263074613033\n",
      "The smallest distance (not including diagonal) = 40.29888335921977\n",
      "The smallest distance (not including diagonal) = 40.607881008493905\n",
      "The smallest distance (not including diagonal) = 75.4782087757866\n",
      "The smallest distance (not including diagonal) = 33.54101966249684\n",
      "The smallest distance (not including diagonal) = 56.471231613982\n",
      "The smallest distance (not including diagonal) = 67.20305052599919\n",
      "The smallest distance (not including diagonal) = 16.76305461424021\n",
      "The smallest distance (not including diagonal) = 16.24807680927192\n",
      "The smallest distance (not including diagonal) = 10.04987562112089\n",
      "The smallest distance (not including diagonal) = 63.31666447310692\n",
      "The smallest distance (not including diagonal) = 640.9430551928931\n",
      "The smallest distance (not including diagonal) = 638.5577499333948\n",
      "The smallest distance (not including diagonal) = 4.47213595499958\n",
      "The smallest distance (not including diagonal) = 4.47213595499958\n",
      "After DECOMPOSITION cleaning limb size of skeleton = (2220, 2, 3)\n",
      "Total time = 1.16107177734375\n",
      "\n",
      "---- Working on Limb 5 ----\n",
      "before cleaning limb size of skeleton = (1096, 2, 3)\n",
      "Using Distance measure skeletal_distance\n",
      "The smallest distance (not including diagonal) = 4.58257569495584\n",
      "no small end nodes to get rid of so returning whole skeleton\n",
      "The smallest distance (not including diagonal) = 4.58257569495584\n",
      "after DISTANCE cleaning limb size of skeleton = (1096, 2, 3)\n",
      "The smallest distance (not including diagonal) = 4.58257569495584\n",
      "The smallest distance (not including diagonal) = 18.027756377319946\n",
      "The smallest distance (not including diagonal) = 76.56369897020389\n",
      "The smallest distance (not including diagonal) = 4.58257569495584\n",
      "The smallest distance (not including diagonal) = 67.1863081289633\n",
      "The smallest distance (not including diagonal) = 101.14346246792226\n",
      "The smallest distance (not including diagonal) = 66.6567325931589\n",
      "The smallest distance (not including diagonal) = 127.5695888525161\n",
      "The smallest distance (not including diagonal) = 40.80441152620633\n",
      "The smallest distance (not including diagonal) = 144.42610567341015\n",
      "The smallest distance (not including diagonal) = 4.58257569495584\n",
      "The smallest distance (not including diagonal) = 4.58257569495584\n",
      "After DECOMPOSITION cleaning limb size of skeleton = (1096, 2, 3)\n",
      "Total time = 0.4727621078491211\n",
      "\n",
      "---- Working on Limb 6 ----\n",
      "before cleaning limb size of skeleton = (1049, 2, 3)\n",
      "Using Distance measure skeletal_distance\n",
      "The smallest distance (not including diagonal) = 3.7416573867739413\n",
      "no small end nodes to get rid of so returning whole skeleton\n",
      "The smallest distance (not including diagonal) = 3.7416573867739413\n",
      "after DISTANCE cleaning limb size of skeleton = (1049, 2, 3)\n",
      "The smallest distance (not including diagonal) = 3.7416573867739413\n",
      "The smallest distance (not including diagonal) = 3.7416573867739413\n",
      "The smallest distance (not including diagonal) = 32.57299494980466\n",
      "The smallest distance (not including diagonal) = 127.58295340680117\n",
      "The smallest distance (not including diagonal) = 46.238512086787566\n",
      "The smallest distance (not including diagonal) = 122.64175471673585\n",
      "The smallest distance (not including diagonal) = 202.94580557380337\n",
      "The smallest distance (not including diagonal) = 148.7212157024007\n",
      "The smallest distance (not including diagonal) = 228.6088362246744\n",
      "The smallest distance (not including diagonal) = 4.358898943540674\n",
      "The smallest distance (not including diagonal) = 153.70426148939399\n",
      "The smallest distance (not including diagonal) = 25.337718918639855\n",
      "The smallest distance (not including diagonal) = 25.099800796022265\n",
      "The smallest distance (not including diagonal) = 336.1145638022845\n",
      "The smallest distance (not including diagonal) = 253.61979418018618\n",
      "The smallest distance (not including diagonal) = 168.8253535462017\n",
      "The smallest distance (not including diagonal) = 290.5470701969179\n",
      "The smallest distance (not including diagonal) = 541.5403955385046\n",
      "The smallest distance (not including diagonal) = 27.49545416973504\n",
      "The smallest distance (not including diagonal) = 44.181444068749045\n",
      "The smallest distance (not including diagonal) = 3.7416573867739413\n",
      "The smallest distance (not including diagonal) = 3.7416573867739413\n",
      "After DECOMPOSITION cleaning limb size of skeleton = (1049, 2, 3)\n",
      "Total time = 0.4536478519439697\n",
      "\n",
      "---- Working on Limb 7 ----\n",
      "before cleaning limb size of skeleton = (1061, 2, 3)\n",
      "Using Distance measure skeletal_distance\n",
      "The smallest distance (not including diagonal) = 4.242640687119285\n",
      "no small end nodes to get rid of so returning whole skeleton\n",
      "The smallest distance (not including diagonal) = 4.242640687119285\n",
      "after DISTANCE cleaning limb size of skeleton = (1061, 2, 3)\n",
      "The smallest distance (not including diagonal) = 4.242640687119285\n",
      "The smallest distance (not including diagonal) = 12.24744871391589\n",
      "The smallest distance (not including diagonal) = 177.93538152936307\n",
      "The smallest distance (not including diagonal) = 95.82275303913993\n",
      "The smallest distance (not including diagonal) = 240.85265205099984\n",
      "The smallest distance (not including diagonal) = 148.65059703882793\n",
      "The smallest distance (not including diagonal) = 62.32976816898969\n",
      "The smallest distance (not including diagonal) = 91.45490692138941\n",
      "The smallest distance (not including diagonal) = 136.92698784388708\n",
      "The smallest distance (not including diagonal) = 122.8087944733601\n",
      "The smallest distance (not including diagonal) = 4.242640687119285\n",
      "The smallest distance (not including diagonal) = 71.98610977126073\n",
      "The smallest distance (not including diagonal) = 18.138357147217054\n",
      "The smallest distance (not including diagonal) = 309.6982402274834\n",
      "The smallest distance (not including diagonal) = 411.79849441201213\n",
      "The smallest distance (not including diagonal) = 52.15361924162119\n",
      "The smallest distance (not including diagonal) = 287.36214086062205\n",
      "The smallest distance (not including diagonal) = 373.915765915266\n",
      "The smallest distance (not including diagonal) = 163.48700254148645\n",
      "The smallest distance (not including diagonal) = 62.99206299209449\n",
      "The smallest distance (not including diagonal) = 200.77848490313897\n",
      "The smallest distance (not including diagonal) = 403.246822678121\n",
      "The smallest distance (not including diagonal) = 523.5895338908141\n",
      "The smallest distance (not including diagonal) = 46.4327470649756\n",
      "The smallest distance (not including diagonal) = 188.36698224479343\n",
      "The smallest distance (not including diagonal) = 341.11581610942636\n",
      "The smallest distance (not including diagonal) = 4.242640687119285\n",
      "The smallest distance (not including diagonal) = 4.242640687119285\n",
      "After DECOMPOSITION cleaning limb size of skeleton = (1061, 2, 3)\n",
      "Total time = 0.45770740509033203\n",
      "\n",
      "---- Working on Limb 8 ----\n",
      "before cleaning limb size of skeleton = (675, 2, 3)\n",
      "Using Distance measure skeletal_distance\n",
      "The smallest distance (not including diagonal) = 15.905973720586866\n",
      "no small end nodes to get rid of so returning whole skeleton\n"
     ]
    },
    {
     "name": "stdout",
     "output_type": "stream",
     "text": [
      "The smallest distance (not including diagonal) = 15.905973720586866\n",
      "after DISTANCE cleaning limb size of skeleton = (675, 2, 3)\n",
      "The smallest distance (not including diagonal) = 15.905973720586866\n",
      "The smallest distance (not including diagonal) = 15.905973720586866\n",
      "The smallest distance (not including diagonal) = 63.40346993658943\n",
      "The smallest distance (not including diagonal) = 50.75431016179808\n",
      "The smallest distance (not including diagonal) = 167.8953245329219\n",
      "The smallest distance (not including diagonal) = 66.10597552415364\n",
      "The smallest distance (not including diagonal) = 36.373066958946424\n",
      "The smallest distance (not including diagonal) = 113.65478432521085\n",
      "The smallest distance (not including diagonal) = 626.7734838041571\n",
      "The smallest distance (not including diagonal) = 62.05578135836234\n",
      "The smallest distance (not including diagonal) = 183.6872341780996\n",
      "The smallest distance (not including diagonal) = 452.0544215025845\n",
      "The smallest distance (not including diagonal) = 15.905973720586866\n",
      "The smallest distance (not including diagonal) = 15.905973720586866\n",
      "After DECOMPOSITION cleaning limb size of skeleton = (675, 2, 3)\n",
      "Total time = 0.34258079528808594\n",
      "\n",
      "---- Working on Limb 9 ----\n",
      "before cleaning limb size of skeleton = (246, 2, 3)\n",
      "Using Distance measure skeletal_distance\n",
      "The smallest distance (not including diagonal) = 33.76388603226827\n",
      "no small end nodes to get rid of so returning whole skeleton\n",
      "The smallest distance (not including diagonal) = 33.76388603226827\n",
      "after DISTANCE cleaning limb size of skeleton = (246, 2, 3)\n",
      "The smallest distance (not including diagonal) = 33.76388603226827\n",
      "The smallest distance (not including diagonal) = 33.76388603226827\n",
      "The smallest distance (not including diagonal) = 99.5238664843765\n",
      "The smallest distance (not including diagonal) = 137.93114224133723\n",
      "The smallest distance (not including diagonal) = 61.84658438426491\n",
      "The smallest distance (not including diagonal) = 82.61355820929153\n",
      "The smallest distance (not including diagonal) = 33.76388603226827\n",
      "The smallest distance (not including diagonal) = 33.76388603226827\n",
      "After DECOMPOSITION cleaning limb size of skeleton = (246, 2, 3)\n",
      "Total time = 0.09929609298706055\n",
      "\n",
      "---- Working on Limb 10 ----\n",
      "before cleaning limb size of skeleton = (29, 2, 3)\n",
      "Using Distance measure skeletal_distance\n",
      "The smallest distance (not including diagonal) = 169.30897790722446\n",
      "no small end nodes to get rid of so returning whole skeleton\n",
      "The smallest distance (not including diagonal) = 169.30897790722446\n",
      "after DISTANCE cleaning limb size of skeleton = (29, 2, 3)\n",
      "The smallest distance (not including diagonal) = 169.30897790722446\n",
      "The smallest distance (not including diagonal) = 169.30897790722446\n",
      "only one skeleton so no stacking needed\n",
      "The smallest distance (not including diagonal) = 169.30897790722446\n",
      "The smallest distance (not including diagonal) = 169.30897790722446\n",
      "After DECOMPOSITION cleaning limb size of skeleton = (29, 2, 3)\n",
      "Total time = 0.017461538314819336\n"
     ]
    }
   ],
   "source": [
    "skelton_cleaning_threshold = 4001\n",
    "total_cleaned = []\n",
    "for j,curr_skeleton_to_clean in enumerate(current_mesh_data[0][\"branch_skeletons\"]):\n",
    "    print(f\"\\n---- Working on Limb {j} ----\")\n",
    "    start_time = time.time()\n",
    "    print(f\"before cleaning limb size of skeleton = {curr_skeleton_to_clean.shape}\")\n",
    "    distance_cleaned_skeleton = sk.clean_skeleton(\n",
    "                                                curr_skeleton_to_clean,\n",
    "                                                distance_func=sk.skeletal_distance,\n",
    "                                                min_distance_to_junction = skelton_cleaning_threshold,\n",
    "                                                return_skeleton=True,\n",
    "                                                print_flag=False) \n",
    "    #make sure still connected componet\n",
    "    distance_cleaned_skeleton_components = nx.number_connected_components(sk.convert_skeleton_to_graph(distance_cleaned_skeleton))\n",
    "    if distance_cleaned_skeleton_components > 1:\n",
    "        raise Exception(f\"distance_cleaned_skeleton {j} was not a single component: it was actually {distance_cleaned_skeleton_components} components\")\n",
    "        \n",
    "    print(f\"after DISTANCE cleaning limb size of skeleton = {distance_cleaned_skeleton.shape}\")\n",
    "    cleaned_branch = sk.clean_skeleton_with_decompose(distance_cleaned_skeleton)\n",
    "    \n",
    "    cleaned_branch_components = nx.number_connected_components(sk.convert_skeleton_to_graph(cleaned_branch))\n",
    "    if cleaned_branch_components > 1:\n",
    "        raise Exception(f\"cleaned_branch {j} was not a single component: it was actually {cleaned_branch_components} components\")\n",
    "    \n",
    "    #do the cleanin ghtat removes loops from branches\n",
    "    print(f\"After DECOMPOSITION cleaning limb size of skeleton = {cleaned_branch.shape}\")\n",
    "    print(f\"Total time = {time.time() - start_time}\")\n",
    "    total_cleaned.append(cleaned_branch)\n",
    "    \n",
    "current_mesh_data[0][\"branch_skeletons_cleaned\"] = total_cleaned"
   ]
  },
  {
   "cell_type": "code",
   "execution_count": 19,
   "metadata": {},
   "outputs": [
    {
     "name": "stdout",
     "output_type": "stream",
     "text": [
      "The smallest distance (not including diagonal) = 2.23606797749979\n",
      "The smallest distance (not including diagonal) = 21.118712081942874\n",
      "The smallest distance (not including diagonal) = 3.0\n",
      "The smallest distance (not including diagonal) = 2.0\n",
      "The smallest distance (not including diagonal) = 4.47213595499958\n",
      "The smallest distance (not including diagonal) = 4.58257569495584\n",
      "The smallest distance (not including diagonal) = 3.7416573867739413\n",
      "The smallest distance (not including diagonal) = 4.242640687119285\n",
      "The smallest distance (not including diagonal) = 15.905973720586866\n",
      "The smallest distance (not including diagonal) = 33.76388603226827\n",
      "The smallest distance (not including diagonal) = 169.30897790722446\n",
      "The smallest distance (not including diagonal) = 2.23606797749979\n",
      "The smallest distance (not including diagonal) = 21.118712081942874\n",
      "The smallest distance (not including diagonal) = 3.0\n",
      "The smallest distance (not including diagonal) = 2.0\n",
      "The smallest distance (not including diagonal) = 4.47213595499958\n",
      "The smallest distance (not including diagonal) = 4.58257569495584\n",
      "The smallest distance (not including diagonal) = 3.7416573867739413\n",
      "The smallest distance (not including diagonal) = 4.242640687119285\n",
      "The smallest distance (not including diagonal) = 15.905973720586866\n",
      "The smallest distance (not including diagonal) = 33.76388603226827\n",
      "The smallest distance (not including diagonal) = 169.30897790722446\n"
     ]
    }
   ],
   "source": [
    "# checking all cleaned branches are connected components\n",
    "\n",
    "for k,cl_sk in enumerate(current_mesh_data[0][\"branch_skeletons\"]): \n",
    "    n_components = nx.number_connected_components(sk.convert_skeleton_to_graph(cl_sk)) \n",
    "    if n_components > 1:\n",
    "        raise Exception(f\"Original limb {k} was not a single component: it was actually {n_components} components\")\n",
    "    \n",
    "for k,cl_sk in enumerate(current_mesh_data[0][\"branch_skeletons_cleaned\"]): \n",
    "    n_components = nx.number_connected_components(sk.convert_skeleton_to_graph(cl_sk)) \n",
    "    if n_components > 1:\n",
    "        raise Exception(f\"Cleaned limb {k} was not a single component: it was actually {n_components} components\")"
   ]
  },
  {
   "cell_type": "code",
   "execution_count": 20,
   "metadata": {},
   "outputs": [
    {
     "data": {
      "application/vnd.jupyter.widget-view+json": {
       "model_id": "8b8cd7f7e1664e9183fcb334b0f257d8",
       "version_major": 2,
       "version_minor": 0
      },
      "text/plain": [
       "VBox(children=(Figure(camera=PerspectiveCamera(fov=46.0, position=(0.0, 0.0, 2.0), quaternion=(0.0, 0.0, 0.0, …"
      ]
     },
     "metadata": {},
     "output_type": "display_data"
    }
   ],
   "source": [
    "# visualize all of the branches and the meshes\n",
    "sk.graph_skeleton_and_mesh(other_meshes=list(current_mesh_data[0][\"branch_meshes\"]) + list(current_mesh_data[0][\"soma_meshes\"]),\n",
    "                          other_meshes_colors=\"random\",\n",
    "                           other_skeletons = current_mesh_data[0][\"branch_skeletons_cleaned\"],\n",
    "                          other_skeletons_colors=\"random\",\n",
    "                          mesh_alpha=0.15)"
   ]
  },
  {
   "cell_type": "markdown",
   "metadata": {},
   "source": [
    "# Decomposing of limbs into branches and finding mesh correspondence (using adaptive mesh correspondence followed by a water fill for conflict and empty faces), checking that it went well with no empty meshes and all connected component graph when constructed from branches, plus visualization at end"
   ]
  },
  {
   "cell_type": "code",
   "execution_count": 21,
   "metadata": {
    "scrolled": true
   },
   "outputs": [
    {
     "name": "stdout",
     "output_type": "stream",
     "text": [
      "Working on limb #0\n",
      "The smallest distance (not including diagonal) = 2.23606797749979\n",
      "The smallest distance (not including diagonal) = 152.95751043999115\n",
      "The smallest distance (not including diagonal) = 119.30486159410644\n",
      "The smallest distance (not including diagonal) = 124.1168803990819\n",
      "The smallest distance (not including diagonal) = 221.87834504520714\n",
      "The smallest distance (not including diagonal) = 36.37540377785027\n",
      "The smallest distance (not including diagonal) = 303.52759347380595\n",
      "The smallest distance (not including diagonal) = 75.32595834106593\n",
      "The smallest distance (not including diagonal) = 84.81155581640984\n",
      "The smallest distance (not including diagonal) = 245.93698379869588\n",
      "The smallest distance (not including diagonal) = 53.71219600798314\n",
      "The smallest distance (not including diagonal) = 86.70063436907483\n",
      "The smallest distance (not including diagonal) = 3.1622776601683795\n",
      "The smallest distance (not including diagonal) = 69.98571282769076\n",
      "The smallest distance (not including diagonal) = 3.0\n",
      "The smallest distance (not including diagonal) = 2.23606797749979\n",
      "The smallest distance (not including diagonal) = 239.73089079210823\n",
      "The smallest distance (not including diagonal) = 72.92461861401813\n",
      "The smallest distance (not including diagonal) = 41.72529209005013\n",
      "The smallest distance (not including diagonal) = 8.06225774829855\n",
      "The smallest distance (not including diagonal) = 74.35724578008521\n",
      "The smallest distance (not including diagonal) = 140.9432509913121\n",
      "The smallest distance (not including diagonal) = 220.62411472910208\n",
      "The smallest distance (not including diagonal) = 117.84735890124988\n",
      "The smallest distance (not including diagonal) = 10.198039027185569\n",
      "The smallest distance (not including diagonal) = 114.8607853011636\n",
      "The smallest distance (not including diagonal) = 26.92582403567252\n",
      "The smallest distance (not including diagonal) = 21.656407827707714\n",
      "The smallest distance (not including diagonal) = 104.7902667235846\n",
      "The smallest distance (not including diagonal) = 252.66182932924394\n",
      "The smallest distance (not including diagonal) = 31.20897306865447\n",
      "The smallest distance (not including diagonal) = 2.449489742783178\n",
      "The smallest distance (not including diagonal) = 154.434452114805\n",
      "The smallest distance (not including diagonal) = 84.95292814258964\n",
      "The smallest distance (not including diagonal) = 150.87411971574184\n",
      "The smallest distance (not including diagonal) = 72.18725649309579\n",
      "The smallest distance (not including diagonal) = 227.49945054878705\n",
      "The smallest distance (not including diagonal) = 526.0589320598976\n",
      "The smallest distance (not including diagonal) = 157.48650735856708\n",
      "The smallest distance (not including diagonal) = 228.0153722888362\n",
      "The smallest distance (not including diagonal) = 116.33099329069749\n",
      "The smallest distance (not including diagonal) = 92.90855719469548\n",
      "The smallest distance (not including diagonal) = 10.488088481701515\n",
      "The smallest distance (not including diagonal) = 180.02499826412998\n",
      "The smallest distance (not including diagonal) = 669.2398673121619\n",
      "The smallest distance (not including diagonal) = 81.6394512475433\n",
      "The smallest distance (not including diagonal) = 69.98571282769076\n",
      "The smallest distance (not including diagonal) = 81.08020720249795\n",
      "The smallest distance (not including diagonal) = 303.43917018082624\n",
      "The smallest distance (not including diagonal) = 205.2364490045567\n",
      "The smallest distance (not including diagonal) = 514.7368259606068\n",
      "The smallest distance (not including diagonal) = 11.74734012447073\n",
      "The smallest distance (not including diagonal) = 215.29746863351644\n",
      "The smallest distance (not including diagonal) = 109.11003620199197\n",
      "The smallest distance (not including diagonal) = 35.9722114972099\n",
      "The smallest distance (not including diagonal) = 214.03504385964462\n",
      "The smallest distance (not including diagonal) = 278.5067324141375\n",
      "The smallest distance (not including diagonal) = 127.03936397825676\n",
      "The smallest distance (not including diagonal) = 89.78307190111062\n",
      "The smallest distance (not including diagonal) = 253.74593592804595\n",
      "The smallest distance (not including diagonal) = 230.4371931785525\n",
      "The smallest distance (not including diagonal) = 170.88885276693736\n",
      "The smallest distance (not including diagonal) = 90.38805230781334\n",
      "The smallest distance (not including diagonal) = 69.72804313904126\n",
      "The smallest distance (not including diagonal) = 96.18211892030659\n",
      "The smallest distance (not including diagonal) = 150.32631173550425\n",
      "The smallest distance (not including diagonal) = 304.55541367705155\n",
      "The smallest distance (not including diagonal) = 243.82370680473218\n",
      "The smallest distance (not including diagonal) = 27.874719729532707\n",
      "The smallest distance (not including diagonal) = 383.6391533720196\n",
      "The smallest distance (not including diagonal) = 138.72191607674148\n",
      "The smallest distance (not including diagonal) = 75.29276193632427\n",
      "The smallest distance (not including diagonal) = 43.9089968002003\n",
      "The smallest distance (not including diagonal) = 135.9742622704753\n",
      "The smallest distance (not including diagonal) = 13.92838827718412\n",
      "The smallest distance (not including diagonal) = 239.5954924450792\n",
      "The smallest distance (not including diagonal) = 33.03028912982749\n",
      "The smallest distance (not including diagonal) = 76.55716818169282\n",
      "The smallest distance (not including diagonal) = 564.8690113645818\n",
      "The smallest distance (not including diagonal) = 371.5225430576185\n"
     ]
    },
    {
     "data": {
      "application/vnd.jupyter.widget-view+json": {
       "model_id": "c0271d605bb147dc8e9ca75886e9bf34",
       "version_major": 2,
       "version_minor": 0
      },
      "text/plain": [
       "HBox(children=(FloatProgress(value=1.0, bar_style='info', max=1.0), HTML(value='')))"
      ]
     },
     "metadata": {},
     "output_type": "display_data"
    },
    {
     "name": "stdout",
     "output_type": "stream",
     "text": [
      "The smallest distance (not including diagonal) = 152.95751043999115\n"
     ]
    },
    {
     "data": {
      "application/vnd.jupyter.widget-view+json": {
       "model_id": "7d0d20553573452cab2e7903360f0bf7",
       "version_major": 2,
       "version_minor": 0
      },
      "text/plain": [
       "HBox(children=(FloatProgress(value=1.0, bar_style='info', max=1.0), HTML(value='')))"
      ]
     },
     "metadata": {},
     "output_type": "display_data"
    },
    {
     "name": "stdout",
     "output_type": "stream",
     "text": [
      "\n",
      "filtered_measurements = [360.4305531  281.08957393 265.29882714 309.50884829 242.19074055\n",
      " 170.06245784 121.15880377 257.38417175 165.01412968 191.85025526\n",
      " 213.83972601 185.39188432 236.06719203 349.11558391 340.54057502\n",
      " 220.43723398 307.87469763 336.92158714 279.56316273 327.91310319\n",
      " 323.45866739 300.7592541  217.78196542 401.88854938 442.55535531\n",
      " 312.79759854 235.31642719 317.22562771 441.09146523 247.00431437\n",
      " 207.30008365 191.74342379 336.98983018 375.55345936 247.90467142]\n",
      "new_threshold = 988.5709901118584\n"
     ]
    },
    {
     "data": {
      "application/vnd.jupyter.widget-view+json": {
       "model_id": "c6cd8d2862804cbb86c55f733e4bb95d",
       "version_major": 2,
       "version_minor": 0
      },
      "text/plain": [
       "HBox(children=(FloatProgress(value=1.0, bar_style='info', max=1.0), HTML(value='')))"
      ]
     },
     "metadata": {},
     "output_type": "display_data"
    },
    {
     "name": "stdout",
     "output_type": "stream",
     "text": [
      "\n",
      "The smallest distance (not including diagonal) = 119.30486159410644\n"
     ]
    },
    {
     "data": {
      "application/vnd.jupyter.widget-view+json": {
       "model_id": "d12be790fae6484ebb445b4a4ce3628c",
       "version_major": 2,
       "version_minor": 0
      },
      "text/plain": [
       "HBox(children=(FloatProgress(value=1.0, bar_style='info', max=1.0), HTML(value='')))"
      ]
     },
     "metadata": {},
     "output_type": "display_data"
    },
    {
     "name": "stdout",
     "output_type": "stream",
     "text": [
      "\n",
      "filtered_measurements = [117.180071    89.61733264  84.84310563  79.1327974  106.6088215\n",
      " 107.36123068  76.68096546 117.12203506]\n",
      "new_threshold = 229.15999823751582\n"
     ]
    },
    {
     "data": {
      "application/vnd.jupyter.widget-view+json": {
       "model_id": "0ad8cbfc6b12459db337f1835fa0989c",
       "version_major": 2,
       "version_minor": 0
      },
      "text/plain": [
       "HBox(children=(FloatProgress(value=1.0, bar_style='info', max=1.0), HTML(value='')))"
      ]
     },
     "metadata": {},
     "output_type": "display_data"
    },
    {
     "name": "stdout",
     "output_type": "stream",
     "text": [
      "--> Not exactly one containing mesh: []\n",
      "\n",
      "branch_touching_number = [12]\n",
      "branch_touching_number = [12, 1]\n",
      "most_branch_containing_piece = 0\n",
      "The smallest distance (not including diagonal) = 124.1168803990819\n"
     ]
    },
    {
     "data": {
      "application/vnd.jupyter.widget-view+json": {
       "model_id": "f20c922b141a4ef29c09e8f5683c9620",
       "version_major": 2,
       "version_minor": 0
      },
      "text/plain": [
       "HBox(children=(FloatProgress(value=1.0, bar_style='info', max=1.0), HTML(value='')))"
      ]
     },
     "metadata": {},
     "output_type": "display_data"
    },
    {
     "name": "stdout",
     "output_type": "stream",
     "text": [
      "\n",
      "filtered_measurements = [681.79100913 582.96338167 298.26837033 399.10696995]\n",
      "new_threshold = 1779.5558624031628\n"
     ]
    },
    {
     "data": {
      "application/vnd.jupyter.widget-view+json": {
       "model_id": "f5619db372524e5fae7104d2ffd046b6",
       "version_major": 2,
       "version_minor": 0
      },
      "text/plain": [
       "HBox(children=(FloatProgress(value=1.0, bar_style='info', max=1.0), HTML(value='')))"
      ]
     },
     "metadata": {},
     "output_type": "display_data"
    },
    {
     "name": "stdout",
     "output_type": "stream",
     "text": [
      "\n",
      "The smallest distance (not including diagonal) = 221.87834504520714\n"
     ]
    },
    {
     "data": {
      "application/vnd.jupyter.widget-view+json": {
       "model_id": "312278fb6fc0425abb42cb88e4818987",
       "version_major": 2,
       "version_minor": 0
      },
      "text/plain": [
       "HBox(children=(FloatProgress(value=1.0, bar_style='info', max=1.0), HTML(value='')))"
      ]
     },
     "metadata": {},
     "output_type": "display_data"
    },
    {
     "name": "stdout",
     "output_type": "stream",
     "text": [
      "\n",
      "filtered_measurements = [359.95394923 306.13261419 303.35402647 282.8585184  231.11566917\n",
      " 255.53550662 415.63134202]\n",
      "new_threshold = 810.9318161810533\n"
     ]
    },
    {
     "data": {
      "application/vnd.jupyter.widget-view+json": {
       "model_id": "73106d0f442f4820aebe638c4bc5daa4",
       "version_major": 2,
       "version_minor": 0
      },
      "text/plain": [
       "HBox(children=(FloatProgress(value=1.0, bar_style='info', max=1.0), HTML(value='')))"
      ]
     },
     "metadata": {},
     "output_type": "display_data"
    },
    {
     "name": "stdout",
     "output_type": "stream",
     "text": [
      "\n",
      "The smallest distance (not including diagonal) = 36.37540377785027\n"
     ]
    },
    {
     "data": {
      "application/vnd.jupyter.widget-view+json": {
       "model_id": "81387ba1e0f14d89869555fa243692ab",
       "version_major": 2,
       "version_minor": 0
      },
      "text/plain": [
       "HBox(children=(FloatProgress(value=1.0, bar_style='info', max=1.0), HTML(value='')))"
      ]
     },
     "metadata": {},
     "output_type": "display_data"
    },
    {
     "name": "stdout",
     "output_type": "stream",
     "text": [
      "--> Not exactly one containing mesh: []\n",
      "\n",
      "filtered_measurements = [119.9198833   86.35457751  88.17744744  90.9675448 ]\n",
      "new_threshold = 333.8764665824138\n"
     ]
    },
    {
     "data": {
      "application/vnd.jupyter.widget-view+json": {
       "model_id": "ef32af8bc73c498c92db9b64c5def2b7",
       "version_major": 2,
       "version_minor": 0
      },
      "text/plain": [
       "HBox(children=(FloatProgress(value=1.0, bar_style='info', max=1.0), HTML(value='')))"
      ]
     },
     "metadata": {},
     "output_type": "display_data"
    },
    {
     "name": "stdout",
     "output_type": "stream",
     "text": [
      "--> Not exactly one containing mesh: []\n",
      "\n",
      "The smallest distance (not including diagonal) = 303.52759347380595\n"
     ]
    },
    {
     "data": {
      "application/vnd.jupyter.widget-view+json": {
       "model_id": "fe99c926f03c46fc967b8b3ac5f70056",
       "version_major": 2,
       "version_minor": 0
      },
      "text/plain": [
       "HBox(children=(FloatProgress(value=1.0, bar_style='info', max=1.0), HTML(value='')))"
      ]
     },
     "metadata": {},
     "output_type": "display_data"
    },
    {
     "name": "stdout",
     "output_type": "stream",
     "text": [
      "\n",
      "filtered_measurements = [266.08867659 368.23255761 263.5625455  435.85092333]\n",
      "new_threshold = 899.6193079355571\n"
     ]
    },
    {
     "data": {
      "application/vnd.jupyter.widget-view+json": {
       "model_id": "50c5aea0523349fd9716dacd9cfae4da",
       "version_major": 2,
       "version_minor": 0
      },
      "text/plain": [
       "HBox(children=(FloatProgress(value=1.0, bar_style='info', max=1.0), HTML(value='')))"
      ]
     },
     "metadata": {},
     "output_type": "display_data"
    },
    {
     "name": "stdout",
     "output_type": "stream",
     "text": [
      "\n",
      "The smallest distance (not including diagonal) = 75.32595834106593\n"
     ]
    },
    {
     "data": {
      "application/vnd.jupyter.widget-view+json": {
       "model_id": "aa0e6a8b1e544e89b8ea6de7c269bab9",
       "version_major": 2,
       "version_minor": 0
      },
      "text/plain": [
       "HBox(children=(FloatProgress(value=1.0, bar_style='info', max=1.0), HTML(value='')))"
      ]
     },
     "metadata": {},
     "output_type": "display_data"
    },
    {
     "name": "stdout",
     "output_type": "stream",
     "text": [
      "\n",
      "branch_touching_number = [1]\n",
      "branch_touching_number = [1, 9]\n",
      "most_branch_containing_piece = 1\n",
      "filtered_measurements = [ 61.51183412  84.79780732 215.22079533 195.24842645 208.25923437\n",
      "  94.18973191 157.33768591]\n",
      "new_threshold = 538.3705611427675\n"
     ]
    },
    {
     "data": {
      "application/vnd.jupyter.widget-view+json": {
       "model_id": "738754be9efb4ed79d60c1b0091e84af",
       "version_major": 2,
       "version_minor": 0
      },
      "text/plain": [
       "HBox(children=(FloatProgress(value=1.0, bar_style='info', max=1.0), HTML(value='')))"
      ]
     },
     "metadata": {},
     "output_type": "display_data"
    },
    {
     "name": "stdout",
     "output_type": "stream",
     "text": [
      "--> Not exactly one containing mesh: []\n",
      "\n",
      "The smallest distance (not including diagonal) = 84.81155581640984\n"
     ]
    },
    {
     "data": {
      "application/vnd.jupyter.widget-view+json": {
       "model_id": "60c79eec3d8341a79d0c9af820597ae2",
       "version_major": 2,
       "version_minor": 0
      },
      "text/plain": [
       "HBox(children=(FloatProgress(value=1.0, bar_style='info', max=1.0), HTML(value='')))"
      ]
     },
     "metadata": {},
     "output_type": "display_data"
    },
    {
     "name": "stdout",
     "output_type": "stream",
     "text": [
      "--> Not exactly one containing mesh: []\n",
      "--> Not exactly one containing mesh: []\n",
      "--> Not exactly one containing mesh: []\n",
      "--> Not exactly one containing mesh: []\n",
      "\n",
      "branch_touching_number = [19]\n",
      "branch_touching_number = [19, 1]\n",
      "most_branch_containing_piece = 0\n",
      "filtered_measurements = [169.09437451 136.82249743 105.52966697 218.34336753 176.45368999\n",
      " 122.56545504 141.01247723 121.51283392 109.28346021 117.93259019\n",
      " 121.13102857 134.42045731]\n",
      "new_threshold = 381.5917578414884\n"
     ]
    },
    {
     "data": {
      "application/vnd.jupyter.widget-view+json": {
       "model_id": "fde28cf085404922aef8ba5dac1fe621",
       "version_major": 2,
       "version_minor": 0
      },
      "text/plain": [
       "HBox(children=(FloatProgress(value=1.0, bar_style='info', max=1.0), HTML(value='')))"
      ]
     },
     "metadata": {},
     "output_type": "display_data"
    },
    {
     "name": "stdout",
     "output_type": "stream",
     "text": [
      "--> Not exactly one containing mesh: []\n",
      "--> Not exactly one containing mesh: []\n",
      "--> Not exactly one containing mesh: []\n",
      "--> Not exactly one containing mesh: []\n",
      "--> Not exactly one containing mesh: []\n",
      "\n",
      "The smallest distance (not including diagonal) = 245.93698379869588\n"
     ]
    },
    {
     "data": {
      "application/vnd.jupyter.widget-view+json": {
       "model_id": "50fa0416fad04565ba63ec5fb6b44d6c",
       "version_major": 2,
       "version_minor": 0
      },
      "text/plain": [
       "HBox(children=(FloatProgress(value=1.0, bar_style='info', max=1.0), HTML(value='')))"
      ]
     },
     "metadata": {},
     "output_type": "display_data"
    },
    {
     "name": "stdout",
     "output_type": "stream",
     "text": [
      "\n",
      "filtered_measurements = [489.14954053 214.34057272]\n",
      "new_threshold = 1142.4629876700462\n"
     ]
    },
    {
     "data": {
      "application/vnd.jupyter.widget-view+json": {
       "model_id": "06aa12337dd84d8881a61d77a1b8ebff",
       "version_major": 2,
       "version_minor": 0
      },
      "text/plain": [
       "HBox(children=(FloatProgress(value=1.0, bar_style='info', max=1.0), HTML(value='')))"
      ]
     },
     "metadata": {},
     "output_type": "display_data"
    },
    {
     "name": "stdout",
     "output_type": "stream",
     "text": [
      "\n",
      "The smallest distance (not including diagonal) = 53.71219600798314\n"
     ]
    },
    {
     "data": {
      "application/vnd.jupyter.widget-view+json": {
       "model_id": "a0da91bc7ef74c3882ca34b5602366b2",
       "version_major": 2,
       "version_minor": 0
      },
      "text/plain": [
       "HBox(children=(FloatProgress(value=1.0, bar_style='info', max=1.0), HTML(value='')))"
      ]
     },
     "metadata": {},
     "output_type": "display_data"
    },
    {
     "name": "stdout",
     "output_type": "stream",
     "text": [
      "--> Not exactly one containing mesh: []\n",
      "--> Not exactly one containing mesh: []\n",
      "\n",
      "branch_touching_number = [78]\n",
      "branch_touching_number = [78, 1]\n",
      "most_branch_containing_piece = 0\n",
      "filtered_measurements = [151.40493025  95.19360567  88.48462577  92.8568102   63.2447679\n",
      " 120.4394453  134.74613709 145.73373998 113.54665307 110.50296648\n",
      "  69.89351509 105.38425505 128.11295177  74.72960792  65.89810075\n",
      "  67.95962936  89.66614127 110.5053015  153.64079342  85.2534407\n",
      " 114.17525789  98.11229571  85.62358284 162.61022534 107.62766901\n",
      " 109.68554033 102.11057396 112.73018279 102.25146138 124.96077444\n",
      "  89.82007752 143.04265969 165.89531876 165.45284265 128.38203914\n",
      " 167.11984865  81.04262769  80.66396034 134.95323499 135.86580254\n",
      " 110.86578678  74.24660238  98.65224488 101.89832021 132.18409956\n",
      "  77.91949467  97.20414238 143.0879664  114.82523774  99.50409848\n",
      "  94.93436517 140.78745612 101.19700066 102.25716663 150.49702797\n",
      " 115.77364101 110.83549449 134.50901353 110.17491955 107.15491219\n",
      " 118.59496035 108.75125857  95.04411143 135.30626386 127.37170007]\n",
      "new_threshold = 354.1175701665891\n"
     ]
    },
    {
     "data": {
      "application/vnd.jupyter.widget-view+json": {
       "model_id": "5f89fe01c0b040ac96b68926a35d98e7",
       "version_major": 2,
       "version_minor": 0
      },
      "text/plain": [
       "HBox(children=(FloatProgress(value=1.0, bar_style='info', max=1.0), HTML(value='')))"
      ]
     },
     "metadata": {},
     "output_type": "display_data"
    },
    {
     "name": "stdout",
     "output_type": "stream",
     "text": [
      "THERE WERE NO FACES THAT FIT THE DISTANCE (354.1175701665891) and Z transform requirements\n",
      "So just skipping this edge\n",
      "--> Not exactly one containing mesh: []\n",
      "--> Not exactly one containing mesh: []\n",
      "\n",
      "The smallest distance (not including diagonal) = 86.70063436907483\n"
     ]
    },
    {
     "data": {
      "application/vnd.jupyter.widget-view+json": {
       "model_id": "7c478675090a4a8d8e12e77e9c1a77c2",
       "version_major": 2,
       "version_minor": 0
      },
      "text/plain": [
       "HBox(children=(FloatProgress(value=1.0, bar_style='info', max=1.0), HTML(value='')))"
      ]
     },
     "metadata": {},
     "output_type": "display_data"
    },
    {
     "name": "stdout",
     "output_type": "stream",
     "text": [
      "\n",
      "filtered_measurements = [456.72554771 376.61433604 422.86362136 359.86212929 376.22602284\n",
      " 410.81167338 319.33577819 338.08025092 515.34512276 357.84685723\n",
      " 495.29334248 334.00931164 558.22572963 476.77676071 449.30158656\n",
      " 323.9881443  351.3650683  381.84604788 233.21056624 619.56846501\n",
      " 565.78592415 419.55874609 231.19214639 431.22088368 386.24272479\n",
      " 447.50407868 482.90882248 369.18047398 294.26655441 256.33800847\n",
      " 445.07363451 417.50598736 283.57428426 337.80562353 328.82576794\n",
      " 257.71999879 259.38059791 511.43074133 511.25033103 482.51697827\n",
      " 347.634963   435.00047478 331.80296697 575.08064059 536.35536495\n",
      " 330.32444554 399.24011811 331.62422847 449.41209708 273.34939132\n",
      " 573.08409959 562.99979617 505.96570545 488.08148763 290.2488422\n",
      " 362.78610357 358.19483879 473.673808   343.35834319]\n",
      "new_threshold = 1678.9927620874214\n"
     ]
    },
    {
     "data": {
      "application/vnd.jupyter.widget-view+json": {
       "model_id": "0264a0730614475988597621c3d17f74",
       "version_major": 2,
       "version_minor": 0
      },
      "text/plain": [
       "HBox(children=(FloatProgress(value=1.0, bar_style='info', max=1.0), HTML(value='')))"
      ]
     },
     "metadata": {},
     "output_type": "display_data"
    },
    {
     "name": "stdout",
     "output_type": "stream",
     "text": [
      "\n",
      "The smallest distance (not including diagonal) = 3.1622776601683795\n"
     ]
    },
    {
     "data": {
      "application/vnd.jupyter.widget-view+json": {
       "model_id": "1989be213ea04cb890288515942aa4d8",
       "version_major": 2,
       "version_minor": 0
      },
      "text/plain": [
       "HBox(children=(FloatProgress(value=1.0, bar_style='info', max=1.0), HTML(value='')))"
      ]
     },
     "metadata": {},
     "output_type": "display_data"
    },
    {
     "name": "stdout",
     "output_type": "stream",
     "text": [
      "--> Not exactly one containing mesh: []\n",
      "--> Not exactly one containing mesh: []\n",
      "--> Not exactly one containing mesh: []\n",
      "\n",
      "filtered_measurements = [144.59478061 182.86858221  57.07822935 103.72938834  67.89913393\n",
      "  83.22880252  98.43843951 121.20876505 164.36153143]\n",
      "new_threshold = 347.8500411145483\n"
     ]
    },
    {
     "data": {
      "application/vnd.jupyter.widget-view+json": {
       "model_id": "ef18e3c9ba08426193288e701665d415",
       "version_major": 2,
       "version_minor": 0
      },
      "text/plain": [
       "HBox(children=(FloatProgress(value=1.0, bar_style='info', max=1.0), HTML(value='')))"
      ]
     },
     "metadata": {},
     "output_type": "display_data"
    },
    {
     "name": "stdout",
     "output_type": "stream",
     "text": [
      "--> Not exactly one containing mesh: []\n",
      "--> Not exactly one containing mesh: []\n",
      "--> Not exactly one containing mesh: []\n",
      "\n",
      "branch_touching_number = [12]\n",
      "branch_touching_number = [12, 2]\n",
      "most_branch_containing_piece = 0\n",
      "The smallest distance (not including diagonal) = 69.98571282769076\n"
     ]
    },
    {
     "data": {
      "application/vnd.jupyter.widget-view+json": {
       "model_id": "7a974572514740129910ac7cad5bdc35",
       "version_major": 2,
       "version_minor": 0
      },
      "text/plain": [
       "HBox(children=(FloatProgress(value=1.0, bar_style='info', max=1.0), HTML(value='')))"
      ]
     },
     "metadata": {},
     "output_type": "display_data"
    },
    {
     "name": "stdout",
     "output_type": "stream",
     "text": [
      "\n",
      "filtered_measurements = [377.16906632 425.30246302 670.24046431 527.16644875 787.88918609\n",
      " 498.38539724 487.46925596 454.18363249 781.67785346 783.69397181\n",
      " 528.04025893 417.83192776 546.91053902 517.05558161 692.7517574\n",
      " 437.09124596 533.32974815 484.71478889 643.00939449 579.11851525\n",
      " 413.0100871  469.7963354  714.37408403 380.57965662 471.66954542\n",
      " 459.34035234 617.93958074 482.36195657 666.64297087 534.57838992\n",
      " 749.1798465  449.4171449  528.10600981 516.29753664 768.3464897\n",
      " 498.52468345 609.47354344 452.35914274]\n",
      "new_threshold = 2090.700740607208\n"
     ]
    },
    {
     "data": {
      "application/vnd.jupyter.widget-view+json": {
       "model_id": "5554750ef2c94a6eb370d0f51584ad04",
       "version_major": 2,
       "version_minor": 0
      },
      "text/plain": [
       "HBox(children=(FloatProgress(value=1.0, bar_style='info', max=1.0), HTML(value='')))"
      ]
     },
     "metadata": {},
     "output_type": "display_data"
    },
    {
     "name": "stdout",
     "output_type": "stream",
     "text": [
      "\n",
      "The smallest distance (not including diagonal) = 3.0\n"
     ]
    },
    {
     "data": {
      "application/vnd.jupyter.widget-view+json": {
       "model_id": "c5b113c50dfe4e05841567595c5490b2",
       "version_major": 2,
       "version_minor": 0
      },
      "text/plain": [
       "HBox(children=(FloatProgress(value=1.0, bar_style='info', max=1.0), HTML(value='')))"
      ]
     },
     "metadata": {},
     "output_type": "display_data"
    },
    {
     "name": "stdout",
     "output_type": "stream",
     "text": [
      "--> Not exactly one containing mesh: []\n",
      "--> Not exactly one containing mesh: []\n",
      "--> Not exactly one containing mesh: []\n",
      "--> Not exactly one containing mesh: []\n",
      "\n",
      "branch_touching_number = [19]\n",
      "branch_touching_number = [19, 2]\n",
      "most_branch_containing_piece = 0\n",
      "filtered_measurements = [103.19981264 171.57523497 212.82138114 172.97559919 117.86773249\n",
      "  80.99001446  82.62819876  85.45777359 170.78748928 224.4841003\n",
      " 108.70910469  79.79399287 141.25426138 173.95647011 234.35340249\n",
      " 233.66376748]\n",
      "new_threshold = 563.8101998892555\n"
     ]
    },
    {
     "data": {
      "application/vnd.jupyter.widget-view+json": {
       "model_id": "430b1918a080483683d35e87047f8e70",
       "version_major": 2,
       "version_minor": 0
      },
      "text/plain": [
       "HBox(children=(FloatProgress(value=1.0, bar_style='info', max=1.0), HTML(value='')))"
      ]
     },
     "metadata": {},
     "output_type": "display_data"
    },
    {
     "name": "stdout",
     "output_type": "stream",
     "text": [
      "--> Not exactly one containing mesh: []\n",
      "--> Not exactly one containing mesh: []\n",
      "--> Not exactly one containing mesh: []\n",
      "THERE WERE NO FACES THAT FIT THE DISTANCE (563.8101998892555) and Z transform requirements\n",
      "So just skipping this edge\n",
      "THERE WERE NO FACES THAT FIT THE DISTANCE (563.8101998892555) and Z transform requirements\n",
      "So just skipping this edge\n",
      "\n",
      "The smallest distance (not including diagonal) = 2.23606797749979\n"
     ]
    },
    {
     "data": {
      "application/vnd.jupyter.widget-view+json": {
       "model_id": "d7c8dd20157844b2aa583b727e497aff",
       "version_major": 2,
       "version_minor": 0
      },
      "text/plain": [
       "HBox(children=(FloatProgress(value=1.0, bar_style='info', max=1.0), HTML(value='')))"
      ]
     },
     "metadata": {},
     "output_type": "display_data"
    },
    {
     "name": "stdout",
     "output_type": "stream",
     "text": [
      "--> Not exactly one containing mesh: []\n",
      "--> Not exactly one containing mesh: []\n",
      "\n",
      "filtered_measurements = [ 90.16051834 118.49824439 156.7614115   69.19368571  69.23811516\n",
      "  93.11924624 105.75458238 125.73653485  99.70364981  93.22093996\n",
      " 111.4223993  129.71670937  92.41667803 102.84036709  79.17699904\n",
      "  91.25534816  93.67195613 112.18799636 114.76872972  98.65659815\n",
      " 134.69807286  84.71580662  68.9227595   74.24569509 104.5910396\n",
      " 112.82642839 117.32008288 158.23090443 116.77996068 111.5973523\n",
      "  89.71101222 130.09965538 125.03254814 119.07383807  82.57003566\n",
      " 133.56042567 106.08908327 118.10656245 102.833865   100.63089933\n",
      " 107.26161196 109.90123458  95.92683204  70.84986026  63.22117622\n",
      " 145.21202322 140.946632    96.57866814 107.24320342  74.62348299\n",
      "  94.66686314 132.0339115   88.63802599  98.40697584 119.22150627\n",
      " 118.59341957]\n",
      "new_threshold = 308.5494023414307\n"
     ]
    },
    {
     "data": {
      "application/vnd.jupyter.widget-view+json": {
       "model_id": "8f632dc9989646d29eeda9eba399f4ab",
       "version_major": 2,
       "version_minor": 0
      },
      "text/plain": [
       "HBox(children=(FloatProgress(value=1.0, bar_style='info', max=1.0), HTML(value='')))"
      ]
     },
     "metadata": {},
     "output_type": "display_data"
    },
    {
     "name": "stdout",
     "output_type": "stream",
     "text": [
      "--> Not exactly one containing mesh: []\n",
      "--> Not exactly one containing mesh: []\n",
      "\n",
      "The smallest distance (not including diagonal) = 239.73089079210823\n"
     ]
    },
    {
     "data": {
      "application/vnd.jupyter.widget-view+json": {
       "model_id": "89cc7019f9ef412097361681538f085b",
       "version_major": 2,
       "version_minor": 0
      },
      "text/plain": [
       "HBox(children=(FloatProgress(value=1.0, bar_style='info', max=1.0), HTML(value='')))"
      ]
     },
     "metadata": {},
     "output_type": "display_data"
    },
    {
     "name": "stdout",
     "output_type": "stream",
     "text": [
      "--> Not exactly one containing mesh: []\n",
      "\n",
      "filtered_measurements = [ 232.2041741   892.97595488  315.87599974 1049.01104171]\n",
      "new_threshold = 2701.507526502579\n"
     ]
    },
    {
     "data": {
      "application/vnd.jupyter.widget-view+json": {
       "model_id": "5ec6920147a84c8cb1dda6bb057f745b",
       "version_major": 2,
       "version_minor": 0
      },
      "text/plain": [
       "HBox(children=(FloatProgress(value=1.0, bar_style='info', max=1.0), HTML(value='')))"
      ]
     },
     "metadata": {},
     "output_type": "display_data"
    },
    {
     "name": "stdout",
     "output_type": "stream",
     "text": [
      "--> Not exactly one containing mesh: []\n",
      "\n",
      "branch_touching_number = [3]\n",
      "branch_touching_number = [3, 4]\n",
      "most_branch_containing_piece = 1\n",
      "The smallest distance (not including diagonal) = 72.92461861401813\n"
     ]
    },
    {
     "data": {
      "application/vnd.jupyter.widget-view+json": {
       "model_id": "62e51d9f9dec4d0f99ef96543c2b8ed9",
       "version_major": 2,
       "version_minor": 0
      },
      "text/plain": [
       "HBox(children=(FloatProgress(value=1.0, bar_style='info', max=1.0), HTML(value='')))"
      ]
     },
     "metadata": {},
     "output_type": "display_data"
    },
    {
     "name": "stdout",
     "output_type": "stream",
     "text": [
      "\n",
      "filtered_measurements = [761.18976079 408.20313931 485.66981581 398.7909508  436.80985293\n",
      " 534.61714919 821.53892716 791.41605774 663.15954119 589.32748095\n",
      " 493.71029916 632.29183539 522.94633004 386.95688112 377.59575705\n",
      " 748.71366167 389.88620528 557.48913663 792.5281797  600.66773095\n",
      " 643.24908353 586.03375267 626.26972223 522.51218193 405.52013272\n",
      " 794.86303108 783.46612494 674.41713662 447.65075848 534.01288143\n",
      " 684.32941882 474.91586822 326.71971199 649.23381541 534.99929506\n",
      " 486.98988605 596.83303968 395.16554488 623.46569579 351.55132778\n",
      " 693.82150375 547.69092849 411.11915333 417.61509113 505.50693158\n",
      " 550.25465983]\n",
      "new_threshold = 1984.1938545952885\n"
     ]
    },
    {
     "data": {
      "application/vnd.jupyter.widget-view+json": {
       "model_id": "c4ffef896bee4000a70cc2bf27268b7e",
       "version_major": 2,
       "version_minor": 0
      },
      "text/plain": [
       "HBox(children=(FloatProgress(value=1.0, bar_style='info', max=1.0), HTML(value='')))"
      ]
     },
     "metadata": {},
     "output_type": "display_data"
    },
    {
     "name": "stdout",
     "output_type": "stream",
     "text": [
      "\n",
      "The smallest distance (not including diagonal) = 41.72529209005013\n"
     ]
    },
    {
     "data": {
      "application/vnd.jupyter.widget-view+json": {
       "model_id": "44e416a0c8b240fb9b36951b749cf396",
       "version_major": 2,
       "version_minor": 0
      },
      "text/plain": [
       "HBox(children=(FloatProgress(value=1.0, bar_style='info', max=1.0), HTML(value='')))"
      ]
     },
     "metadata": {},
     "output_type": "display_data"
    },
    {
     "name": "stdout",
     "output_type": "stream",
     "text": [
      "\n",
      "filtered_measurements = [290.66051242 124.71081755 184.88548697 275.00694768 198.16796686\n",
      " 523.30105374 544.71194796 643.22235499 393.46088363 516.6931338\n",
      " 625.91321641 486.46419906 598.00707062 216.2568557  604.29996764\n",
      " 292.04002144 500.13993276 355.48194813 233.20965338 393.24899707\n",
      " 274.22842537 615.59715106 236.38112822 368.51866082 475.39470219\n",
      " 497.75598883 554.1137281  481.18097353 247.44140159 206.90151178\n",
      " 449.40355353 475.83965894 322.09958185 309.70791916 355.6810479\n",
      " 318.15220917 519.60425808 344.97932822 512.35044686 572.13556753\n",
      " 465.37212861 448.18627749 352.75501358 361.62296004 311.32821853\n",
      " 635.4623135  581.46739903 418.23192595 338.56137463 529.17274139\n",
      " 418.91303702 395.00172402 337.06082567 364.05729345 444.44670265\n",
      " 535.53535171 491.27309207 236.68676514 580.24940201 536.85754677\n",
      " 592.92703611 505.31861446 534.64200419 506.10705235 280.93405472\n",
      " 446.81244446 409.64539358 424.50287596 345.12360895 397.35132422\n",
      " 392.78242    322.23424472 432.04729447 261.33815559 195.12414477\n",
      " 215.48521283 616.75272274 294.13077305 454.26047121 334.19248864]\n",
      "new_threshold = 1718.6746957422279\n"
     ]
    },
    {
     "data": {
      "application/vnd.jupyter.widget-view+json": {
       "model_id": "3ac6c1cb120d4c0bb8cba6dd92514de0",
       "version_major": 2,
       "version_minor": 0
      },
      "text/plain": [
       "HBox(children=(FloatProgress(value=1.0, bar_style='info', max=1.0), HTML(value='')))"
      ]
     },
     "metadata": {},
     "output_type": "display_data"
    },
    {
     "name": "stdout",
     "output_type": "stream",
     "text": [
      "\n",
      "The smallest distance (not including diagonal) = 8.06225774829855\n"
     ]
    },
    {
     "data": {
      "application/vnd.jupyter.widget-view+json": {
       "model_id": "d2b263983e6c46de9a5fa73bbd64b834",
       "version_major": 2,
       "version_minor": 0
      },
      "text/plain": [
       "HBox(children=(FloatProgress(value=1.0, bar_style='info', max=1.0), HTML(value='')))"
      ]
     },
     "metadata": {},
     "output_type": "display_data"
    },
    {
     "name": "stdout",
     "output_type": "stream",
     "text": [
      "\n",
      "filtered_measurements = [349.19818698 265.83249727 196.69107185 379.77597537 527.35419779\n",
      " 629.7175522  496.62215296 266.46487492 404.3294155  600.23201213\n",
      " 604.98759969 443.46198407 403.00557254 578.96624013 616.65169588\n",
      " 328.82321597 329.34785665 338.09346394 529.68897559 289.08167181\n",
      " 398.90908784 411.25017453 378.75394273 527.63403288 498.54323951\n",
      " 328.83735048 660.24718841 292.87425335 440.21736134 449.25206139\n",
      " 399.4448331  409.93845512 473.44436105 574.48374323 447.02038354\n",
      " 401.97346127 385.88512078 391.28406689 434.99885444 416.30968634\n",
      " 452.44303253 479.23757744 356.56048975 276.56905042 377.05246959\n",
      " 441.52497337 593.59982655 569.66656006 529.06101711 318.95523645\n",
      " 594.43045771 310.19956534 443.18258537 594.35314213 432.9346811\n",
      " 546.6703886  429.61831783 431.14333986 432.45087333 320.12895172\n",
      " 280.21067501 355.77017559 658.92798967 617.02677942]\n",
      "new_threshold = 1634.0564564692572\n"
     ]
    },
    {
     "data": {
      "application/vnd.jupyter.widget-view+json": {
       "model_id": "ab819b1f2cb345188506c679fa96e73d",
       "version_major": 2,
       "version_minor": 0
      },
      "text/plain": [
       "HBox(children=(FloatProgress(value=1.0, bar_style='info', max=1.0), HTML(value='')))"
      ]
     },
     "metadata": {},
     "output_type": "display_data"
    },
    {
     "name": "stdout",
     "output_type": "stream",
     "text": [
      "\n",
      "The smallest distance (not including diagonal) = 74.35724578008521\n"
     ]
    },
    {
     "data": {
      "application/vnd.jupyter.widget-view+json": {
       "model_id": "d50684563eb34607b6ef5b27d6ace7ac",
       "version_major": 2,
       "version_minor": 0
      },
      "text/plain": [
       "HBox(children=(FloatProgress(value=1.0, bar_style='info', max=1.0), HTML(value='')))"
      ]
     },
     "metadata": {},
     "output_type": "display_data"
    },
    {
     "name": "stdout",
     "output_type": "stream",
     "text": [
      "\n",
      "filtered_measurements = [ 812.99379747  910.17538019  692.96962798  486.37934985 1063.37685868]\n",
      "new_threshold = 2352.7253680309886\n"
     ]
    },
    {
     "data": {
      "application/vnd.jupyter.widget-view+json": {
       "model_id": "2245e03061b7404caa06c5476810460c",
       "version_major": 2,
       "version_minor": 0
      },
      "text/plain": [
       "HBox(children=(FloatProgress(value=1.0, bar_style='info', max=1.0), HTML(value='')))"
      ]
     },
     "metadata": {},
     "output_type": "display_data"
    },
    {
     "name": "stdout",
     "output_type": "stream",
     "text": [
      "\n",
      "The smallest distance (not including diagonal) = 140.9432509913121\n"
     ]
    },
    {
     "data": {
      "application/vnd.jupyter.widget-view+json": {
       "model_id": "536993e7e852458d811563f02c978889",
       "version_major": 2,
       "version_minor": 0
      },
      "text/plain": [
       "HBox(children=(FloatProgress(value=1.0, bar_style='info', max=1.0), HTML(value='')))"
      ]
     },
     "metadata": {},
     "output_type": "display_data"
    },
    {
     "name": "stdout",
     "output_type": "stream",
     "text": [
      "\n",
      "filtered_measurements = [615.18147743 466.59990705 544.53915498 535.0219649  697.49602688\n",
      " 593.18620295 672.22449123 491.18947773 448.99767078 506.28131316\n",
      " 517.66504673 595.40671741 574.85653011 435.57204026 432.46539152\n",
      " 445.103364   550.91567463 425.39611841 437.00310457 474.08716409\n",
      " 566.6291917  530.14014567 632.72177554 488.81011478 445.63499801\n",
      " 491.46724258 578.14756487 672.9985217  439.08445753 456.32526058\n",
      " 431.56802387 442.83812114 631.4741374  600.274873   562.88811811]\n",
      "new_threshold = 1582.6728871712085\n"
     ]
    },
    {
     "data": {
      "application/vnd.jupyter.widget-view+json": {
       "model_id": "5de86568f898478abdf202a71fc45377",
       "version_major": 2,
       "version_minor": 0
      },
      "text/plain": [
       "HBox(children=(FloatProgress(value=1.0, bar_style='info', max=1.0), HTML(value='')))"
      ]
     },
     "metadata": {},
     "output_type": "display_data"
    },
    {
     "name": "stdout",
     "output_type": "stream",
     "text": [
      "\n",
      "The smallest distance (not including diagonal) = 220.62411472910208\n"
     ]
    },
    {
     "data": {
      "application/vnd.jupyter.widget-view+json": {
       "model_id": "055c7ac4e1234c7db5f8e8bdb1417bd6",
       "version_major": 2,
       "version_minor": 0
      },
      "text/plain": [
       "HBox(children=(FloatProgress(value=1.0, bar_style='info', max=1.0), HTML(value='')))"
      ]
     },
     "metadata": {},
     "output_type": "display_data"
    },
    {
     "name": "stdout",
     "output_type": "stream",
     "text": [
      "\n",
      "filtered_measurements = [338.08502384 374.65927548 271.77203395 575.05546823 305.2551525\n",
      " 486.41033902 436.40422341 324.74131823 486.14797094 674.26467086\n",
      " 492.39235116 477.93929813 640.92180935 447.98220672]\n",
      "new_threshold = 1596.1497164032737\n"
     ]
    },
    {
     "data": {
      "application/vnd.jupyter.widget-view+json": {
       "model_id": "125cec7033974368b93b34599e553e7e",
       "version_major": 2,
       "version_minor": 0
      },
      "text/plain": [
       "HBox(children=(FloatProgress(value=1.0, bar_style='info', max=1.0), HTML(value='')))"
      ]
     },
     "metadata": {},
     "output_type": "display_data"
    },
    {
     "name": "stdout",
     "output_type": "stream",
     "text": [
      "\n",
      "The smallest distance (not including diagonal) = 117.84735890124988\n"
     ]
    },
    {
     "data": {
      "application/vnd.jupyter.widget-view+json": {
       "model_id": "37b76fa3e771433d9f083427d1781dff",
       "version_major": 2,
       "version_minor": 0
      },
      "text/plain": [
       "HBox(children=(FloatProgress(value=1.0, bar_style='info', max=1.0), HTML(value='')))"
      ]
     },
     "metadata": {},
     "output_type": "display_data"
    },
    {
     "name": "stdout",
     "output_type": "stream",
     "text": [
      "\n",
      "filtered_measurements = [321.80519369 325.34328558 602.54475107 684.74853388 367.79238395\n",
      " 494.30202879 409.364003   451.31028323 428.19154829 676.85416929\n",
      " 799.65891229 712.61023055 481.93862602 364.78316327 618.80473337\n",
      " 661.47855695 522.68310124 407.95264592 618.53036952 863.32866514\n",
      " 604.59508582 887.29761083 402.33748897 458.97607288 816.67243438\n",
      " 328.13980513]\n",
      "new_threshold = 2054.9424118758548\n"
     ]
    },
    {
     "data": {
      "application/vnd.jupyter.widget-view+json": {
       "model_id": "c0de6a59bca84c47a4cda9ebce4530c6",
       "version_major": 2,
       "version_minor": 0
      },
      "text/plain": [
       "HBox(children=(FloatProgress(value=1.0, bar_style='info', max=1.0), HTML(value='')))"
      ]
     },
     "metadata": {},
     "output_type": "display_data"
    },
    {
     "name": "stdout",
     "output_type": "stream",
     "text": [
      "\n",
      "The smallest distance (not including diagonal) = 10.198039027185569\n"
     ]
    },
    {
     "data": {
      "application/vnd.jupyter.widget-view+json": {
       "model_id": "11f40d87f48e4b11a2bc597ef559a485",
       "version_major": 2,
       "version_minor": 0
      },
      "text/plain": [
       "HBox(children=(FloatProgress(value=1.0, bar_style='info', max=1.0), HTML(value='')))"
      ]
     },
     "metadata": {},
     "output_type": "display_data"
    },
    {
     "name": "stdout",
     "output_type": "stream",
     "text": [
      "--> Not exactly one containing mesh: []\n",
      "\n",
      "filtered_measurements = [ 90.77509578  81.42709071  73.69526703  65.06436668 100.29922304\n",
      "  88.10293576  94.28159912  88.63187227 126.08394431 113.21197964\n",
      " 138.27097484  84.33748975 109.85059588 123.3462265 ]\n",
      "new_threshold = 255.41945013722082\n"
     ]
    },
    {
     "data": {
      "application/vnd.jupyter.widget-view+json": {
       "model_id": "61e85b1ba5264ad6bdef9022a3bd2b48",
       "version_major": 2,
       "version_minor": 0
      },
      "text/plain": [
       "HBox(children=(FloatProgress(value=1.0, bar_style='info', max=1.0), HTML(value='')))"
      ]
     },
     "metadata": {},
     "output_type": "display_data"
    },
    {
     "name": "stdout",
     "output_type": "stream",
     "text": [
      "--> Not exactly one containing mesh: []\n",
      "--> Not exactly one containing mesh: []\n",
      "\n",
      "The smallest distance (not including diagonal) = 114.8607853011636\n"
     ]
    },
    {
     "data": {
      "application/vnd.jupyter.widget-view+json": {
       "model_id": "7a6e83d48ba44a41b18630c28b89823a",
       "version_major": 2,
       "version_minor": 0
      },
      "text/plain": [
       "HBox(children=(FloatProgress(value=1.0, bar_style='info', max=1.0), HTML(value='')))"
      ]
     },
     "metadata": {},
     "output_type": "display_data"
    },
    {
     "name": "stdout",
     "output_type": "stream",
     "text": [
      "\n",
      "filtered_measurements = [562.44959312 456.25384402 422.14685874 379.14721512 614.21266739\n",
      " 370.50306299 405.44942472 635.47061463 517.85910819 641.34392953\n",
      " 310.67953008 375.23268443 472.43948804 486.68328863 533.15012641\n",
      " 446.34531024 442.67642457 397.13639587]\n",
      "new_threshold = 1686.2391541417164\n"
     ]
    },
    {
     "data": {
      "application/vnd.jupyter.widget-view+json": {
       "model_id": "7fafbfceda5e4fb0b2bf51af07085f9a",
       "version_major": 2,
       "version_minor": 0
      },
      "text/plain": [
       "HBox(children=(FloatProgress(value=1.0, bar_style='info', max=1.0), HTML(value='')))"
      ]
     },
     "metadata": {},
     "output_type": "display_data"
    },
    {
     "name": "stdout",
     "output_type": "stream",
     "text": [
      "\n",
      "The smallest distance (not including diagonal) = 26.92582403567252\n"
     ]
    },
    {
     "data": {
      "application/vnd.jupyter.widget-view+json": {
       "model_id": "b5325e509eac4ac6a845e2582df66de7",
       "version_major": 2,
       "version_minor": 0
      },
      "text/plain": [
       "HBox(children=(FloatProgress(value=1.0, bar_style='info', max=1.0), HTML(value='')))"
      ]
     },
     "metadata": {},
     "output_type": "display_data"
    },
    {
     "name": "stdout",
     "output_type": "stream",
     "text": [
      "--> Not exactly one containing mesh: []\n",
      "--> Not exactly one containing mesh: []\n",
      "--> Not exactly one containing mesh: []\n",
      "\n",
      "filtered_measurements = [109.9683111  127.82002511  99.26187011  82.47925695  85.76945588\n",
      " 118.69741358 117.962275    78.94073761  96.32240744 150.49603189\n",
      "  91.62888362  76.96792699  77.7505937   93.47652802  84.34035098\n",
      "  97.71661066  96.52562062 106.81856636  99.69801603  82.71888927\n",
      " 110.47780223]\n",
      "new_threshold = 264.4453053641904\n"
     ]
    },
    {
     "data": {
      "application/vnd.jupyter.widget-view+json": {
       "model_id": "33047176281b4dc7abc2d5a5802f9caf",
       "version_major": 2,
       "version_minor": 0
      },
      "text/plain": [
       "HBox(children=(FloatProgress(value=1.0, bar_style='info', max=1.0), HTML(value='')))"
      ]
     },
     "metadata": {},
     "output_type": "display_data"
    },
    {
     "name": "stdout",
     "output_type": "stream",
     "text": [
      "--> Not exactly one containing mesh: []\n",
      "--> Not exactly one containing mesh: []\n",
      "--> Not exactly one containing mesh: []\n",
      "\n",
      "The smallest distance (not including diagonal) = 21.656407827707714\n"
     ]
    },
    {
     "data": {
      "application/vnd.jupyter.widget-view+json": {
       "model_id": "b7ec5295826d455e886e492874789052",
       "version_major": 2,
       "version_minor": 0
      },
      "text/plain": [
       "HBox(children=(FloatProgress(value=1.0, bar_style='info', max=1.0), HTML(value='')))"
      ]
     },
     "metadata": {},
     "output_type": "display_data"
    },
    {
     "name": "stdout",
     "output_type": "stream",
     "text": [
      "--> Not exactly one containing mesh: []\n",
      "\n",
      "filtered_measurements = [113.78912886 108.14178001  92.45328924 129.17547413 131.05422953\n",
      " 131.27671139 101.98385383 147.01237319  94.23602575 100.70799635\n",
      " 116.73257247 151.79292368 100.47890313 119.78677223 113.94999102\n",
      " 140.12555299 109.97663044 159.41135146 174.27984814 190.05870672\n",
      " 118.25825376 146.51099582]\n",
      "new_threshold = 448.12804536457065\n"
     ]
    },
    {
     "data": {
      "application/vnd.jupyter.widget-view+json": {
       "model_id": "17ba802046474b44adb44acacbd22bd0",
       "version_major": 2,
       "version_minor": 0
      },
      "text/plain": [
       "HBox(children=(FloatProgress(value=1.0, bar_style='info', max=1.0), HTML(value='')))"
      ]
     },
     "metadata": {},
     "output_type": "display_data"
    },
    {
     "name": "stdout",
     "output_type": "stream",
     "text": [
      "--> Not exactly one containing mesh: []\n",
      "\n",
      "The smallest distance (not including diagonal) = 104.7902667235846\n"
     ]
    },
    {
     "data": {
      "application/vnd.jupyter.widget-view+json": {
       "model_id": "0ed7d0776bac467c8ff8415a3dcfd110",
       "version_major": 2,
       "version_minor": 0
      },
      "text/plain": [
       "HBox(children=(FloatProgress(value=1.0, bar_style='info', max=1.0), HTML(value='')))"
      ]
     },
     "metadata": {},
     "output_type": "display_data"
    },
    {
     "name": "stdout",
     "output_type": "stream",
     "text": [
      "\n",
      "filtered_measurements = [576.81455247 448.58543237 515.23396721 498.32487717 546.18912777\n",
      " 547.7651542  596.07585561 598.1062346  570.53457728 534.77962534\n",
      " 489.87343882 530.37918327 529.00259212 556.06119807]\n",
      "new_threshold = 1174.3695146125517\n"
     ]
    },
    {
     "data": {
      "application/vnd.jupyter.widget-view+json": {
       "model_id": "854b2a443b1a4b478c5a3159fc99a27f",
       "version_major": 2,
       "version_minor": 0
      },
      "text/plain": [
       "HBox(children=(FloatProgress(value=1.0, bar_style='info', max=1.0), HTML(value='')))"
      ]
     },
     "metadata": {},
     "output_type": "display_data"
    },
    {
     "name": "stdout",
     "output_type": "stream",
     "text": [
      "--> Not exactly one containing mesh: []\n",
      "THERE WERE NO FACES THAT FIT THE DISTANCE (1174.3695146125517) and Z transform requirements\n",
      "So just skipping this edge\n",
      "\n",
      "The smallest distance (not including diagonal) = 252.66182932924394\n"
     ]
    },
    {
     "data": {
      "application/vnd.jupyter.widget-view+json": {
       "model_id": "017188492a5b465cab69b1a4782f122e",
       "version_major": 2,
       "version_minor": 0
      },
      "text/plain": [
       "HBox(children=(FloatProgress(value=1.0, bar_style='info', max=1.0), HTML(value='')))"
      ]
     },
     "metadata": {},
     "output_type": "display_data"
    },
    {
     "name": "stdout",
     "output_type": "stream",
     "text": [
      "\n",
      "filtered_measurements = [418.53864881 385.80895684 279.70088673 284.17519596 463.64925502\n",
      " 412.72383572]\n",
      "new_threshold = 966.4728804942738\n"
     ]
    },
    {
     "data": {
      "application/vnd.jupyter.widget-view+json": {
       "model_id": "cb486174fb0f457ba103cd63fbb0ff13",
       "version_major": 2,
       "version_minor": 0
      },
      "text/plain": [
       "HBox(children=(FloatProgress(value=1.0, bar_style='info', max=1.0), HTML(value='')))"
      ]
     },
     "metadata": {},
     "output_type": "display_data"
    },
    {
     "name": "stdout",
     "output_type": "stream",
     "text": [
      "\n",
      "The smallest distance (not including diagonal) = 31.20897306865447\n"
     ]
    },
    {
     "data": {
      "application/vnd.jupyter.widget-view+json": {
       "model_id": "9533f339bd454da6bc99bd88c21e2f22",
       "version_major": 2,
       "version_minor": 0
      },
      "text/plain": [
       "HBox(children=(FloatProgress(value=1.0, bar_style='info', max=1.0), HTML(value='')))"
      ]
     },
     "metadata": {},
     "output_type": "display_data"
    },
    {
     "name": "stdout",
     "output_type": "stream",
     "text": [
      "\n",
      "filtered_measurements = [303.23206863 117.02565607 118.68609303]\n",
      "new_threshold = 596.1521632846882\n"
     ]
    },
    {
     "data": {
      "application/vnd.jupyter.widget-view+json": {
       "model_id": "48369126aae144c39b643e7c3c14dc80",
       "version_major": 2,
       "version_minor": 0
      },
      "text/plain": [
       "HBox(children=(FloatProgress(value=1.0, bar_style='info', max=1.0), HTML(value='')))"
      ]
     },
     "metadata": {},
     "output_type": "display_data"
    },
    {
     "name": "stdout",
     "output_type": "stream",
     "text": [
      "--> Not exactly one containing mesh: []\n",
      "\n",
      "The smallest distance (not including diagonal) = 2.449489742783178\n"
     ]
    },
    {
     "data": {
      "application/vnd.jupyter.widget-view+json": {
       "model_id": "3a6b0fe71d8f4deb9da9c91680dc2c2c",
       "version_major": 2,
       "version_minor": 0
      },
      "text/plain": [
       "HBox(children=(FloatProgress(value=1.0, bar_style='info', max=1.0), HTML(value='')))"
      ]
     },
     "metadata": {},
     "output_type": "display_data"
    },
    {
     "name": "stdout",
     "output_type": "stream",
     "text": [
      "--> Not exactly one containing mesh: []\n",
      "--> Not exactly one containing mesh: []\n",
      "\n",
      "filtered_measurements = [455.28005597 503.39676414 386.1350115  696.19041493]\n",
      "new_threshold = 1705.951861129366\n"
     ]
    },
    {
     "data": {
      "application/vnd.jupyter.widget-view+json": {
       "model_id": "da2e6171469546ff8a36b8dc7a7a53b1",
       "version_major": 2,
       "version_minor": 0
      },
      "text/plain": [
       "HBox(children=(FloatProgress(value=1.0, bar_style='info', max=1.0), HTML(value='')))"
      ]
     },
     "metadata": {},
     "output_type": "display_data"
    },
    {
     "name": "stdout",
     "output_type": "stream",
     "text": [
      "--> Not exactly one containing mesh: []\n",
      "--> Not exactly one containing mesh: []\n",
      "\n",
      "The smallest distance (not including diagonal) = 154.434452114805\n"
     ]
    },
    {
     "data": {
      "application/vnd.jupyter.widget-view+json": {
       "model_id": "e68be342ca7a4e579b483fceee5adc91",
       "version_major": 2,
       "version_minor": 0
      },
      "text/plain": [
       "HBox(children=(FloatProgress(value=1.0, bar_style='info', max=1.0), HTML(value='')))"
      ]
     },
     "metadata": {},
     "output_type": "display_data"
    },
    {
     "name": "stdout",
     "output_type": "stream",
     "text": [
      "\n",
      "filtered_measurements = [550.64912471 317.62778214 351.23321543]\n",
      "new_threshold = 1451.3668253293065\n"
     ]
    },
    {
     "data": {
      "application/vnd.jupyter.widget-view+json": {
       "model_id": "90fd7a69373448ecb44f495237ef04b6",
       "version_major": 2,
       "version_minor": 0
      },
      "text/plain": [
       "HBox(children=(FloatProgress(value=1.0, bar_style='info', max=1.0), HTML(value='')))"
      ]
     },
     "metadata": {},
     "output_type": "display_data"
    },
    {
     "name": "stdout",
     "output_type": "stream",
     "text": [
      "\n",
      "The smallest distance (not including diagonal) = 84.95292814258964\n"
     ]
    },
    {
     "data": {
      "application/vnd.jupyter.widget-view+json": {
       "model_id": "9ea2696e01844c1d8ac4445a08b2bc7b",
       "version_major": 2,
       "version_minor": 0
      },
      "text/plain": [
       "HBox(children=(FloatProgress(value=1.0, bar_style='info', max=1.0), HTML(value='')))"
      ]
     },
     "metadata": {},
     "output_type": "display_data"
    },
    {
     "name": "stdout",
     "output_type": "stream",
     "text": [
      "--> Not exactly one containing mesh: []\n",
      "--> Not exactly one containing mesh: []\n",
      "\n",
      "filtered_measurements = [119.11542298 141.24846122 145.93834137 179.15428823 145.38131143\n",
      " 146.81929708 218.35453928 132.4608827  165.18945323 136.67502227\n",
      " 151.0364743  133.08342198 145.28604585 131.27613112 127.08247527\n",
      " 172.42088331 168.55254901  90.08229417]\n",
      "new_threshold = 477.72296032623706\n"
     ]
    },
    {
     "data": {
      "application/vnd.jupyter.widget-view+json": {
       "model_id": "c070314dd0d04f99993c13c5ee1559a9",
       "version_major": 2,
       "version_minor": 0
      },
      "text/plain": [
       "HBox(children=(FloatProgress(value=1.0, bar_style='info', max=1.0), HTML(value='')))"
      ]
     },
     "metadata": {},
     "output_type": "display_data"
    },
    {
     "name": "stdout",
     "output_type": "stream",
     "text": [
      "--> Not exactly one containing mesh: []\n",
      "--> Not exactly one containing mesh: []\n",
      "\n",
      "The smallest distance (not including diagonal) = 150.87411971574184\n"
     ]
    },
    {
     "data": {
      "application/vnd.jupyter.widget-view+json": {
       "model_id": "281d74d805a94253b7ec7841566b8a10",
       "version_major": 2,
       "version_minor": 0
      },
      "text/plain": [
       "HBox(children=(FloatProgress(value=1.0, bar_style='info', max=1.0), HTML(value='')))"
      ]
     },
     "metadata": {},
     "output_type": "display_data"
    },
    {
     "name": "stdout",
     "output_type": "stream",
     "text": [
      "--> Not exactly one containing mesh: []\n",
      "\n",
      "filtered_measurements = [ 734.26498783  964.35651654  732.16470004  866.84083169  880.88803805\n",
      "  826.27493081  838.9678054   803.04004238 1140.05936708 1086.86000345\n",
      "  838.34080002]\n",
      "new_threshold = 2306.621926836614\n"
     ]
    },
    {
     "data": {
      "application/vnd.jupyter.widget-view+json": {
       "model_id": "fbca451053a046a295f0de497ddfb7f3",
       "version_major": 2,
       "version_minor": 0
      },
      "text/plain": [
       "HBox(children=(FloatProgress(value=1.0, bar_style='info', max=1.0), HTML(value='')))"
      ]
     },
     "metadata": {},
     "output_type": "display_data"
    },
    {
     "name": "stdout",
     "output_type": "stream",
     "text": [
      "--> Not exactly one containing mesh: []\n",
      "\n",
      "The smallest distance (not including diagonal) = 72.18725649309579\n"
     ]
    },
    {
     "data": {
      "application/vnd.jupyter.widget-view+json": {
       "model_id": "84784d395af54e8d893e03d337de3714",
       "version_major": 2,
       "version_minor": 0
      },
      "text/plain": [
       "HBox(children=(FloatProgress(value=1.0, bar_style='info', max=1.0), HTML(value='')))"
      ]
     },
     "metadata": {},
     "output_type": "display_data"
    },
    {
     "name": "stdout",
     "output_type": "stream",
     "text": [
      "--> Not exactly one containing mesh: [0 1]\n",
      "\n",
      "branch_touching_number = [10]\n",
      "branch_touching_number = [10, 1]\n",
      "most_branch_containing_piece = 0\n",
      "filtered_measurements = [130.97935716 156.79029568 158.48578359 303.7318762  313.50195351\n",
      " 345.06898584]\n",
      "new_threshold = 951.569259921273\n"
     ]
    },
    {
     "data": {
      "application/vnd.jupyter.widget-view+json": {
       "model_id": "04fb02590dce4204aae652eff8c01f2a",
       "version_major": 2,
       "version_minor": 0
      },
      "text/plain": [
       "HBox(children=(FloatProgress(value=1.0, bar_style='info', max=1.0), HTML(value='')))"
      ]
     },
     "metadata": {},
     "output_type": "display_data"
    },
    {
     "name": "stdout",
     "output_type": "stream",
     "text": [
      "--> Not exactly one containing mesh: []\n",
      "\n",
      "The smallest distance (not including diagonal) = 227.49945054878705\n"
     ]
    },
    {
     "data": {
      "application/vnd.jupyter.widget-view+json": {
       "model_id": "697f97bf780c4ba1989472f8d84bb66b",
       "version_major": 2,
       "version_minor": 0
      },
      "text/plain": [
       "HBox(children=(FloatProgress(value=1.0, bar_style='info', max=1.0), HTML(value='')))"
      ]
     },
     "metadata": {},
     "output_type": "display_data"
    },
    {
     "name": "stdout",
     "output_type": "stream",
     "text": [
      "\n",
      "filtered_measurements = [379.0527775  500.30409997]\n",
      "new_threshold = 1123.7506680053848\n"
     ]
    },
    {
     "data": {
      "application/vnd.jupyter.widget-view+json": {
       "model_id": "5b395142abff4d22a61b061a528ec270",
       "version_major": 2,
       "version_minor": 0
      },
      "text/plain": [
       "HBox(children=(FloatProgress(value=1.0, bar_style='info', max=1.0), HTML(value='')))"
      ]
     },
     "metadata": {},
     "output_type": "display_data"
    },
    {
     "name": "stdout",
     "output_type": "stream",
     "text": [
      "\n",
      "The smallest distance (not including diagonal) = 526.0589320598976\n"
     ]
    },
    {
     "data": {
      "application/vnd.jupyter.widget-view+json": {
       "model_id": "fc4c3410323347048e451c8e9629bf63",
       "version_major": 2,
       "version_minor": 0
      },
      "text/plain": [
       "HBox(children=(FloatProgress(value=1.0, bar_style='info', max=1.0), HTML(value='')))"
      ]
     },
     "metadata": {},
     "output_type": "display_data"
    },
    {
     "name": "stdout",
     "output_type": "stream",
     "text": [
      "\n",
      "filtered_measurements = [1152.22758466 1403.01261514]\n",
      "new_threshold = 2631.585082518946\n"
     ]
    },
    {
     "data": {
      "application/vnd.jupyter.widget-view+json": {
       "model_id": "e2973f73d756466d934b77ddfa2f7c11",
       "version_major": 2,
       "version_minor": 0
      },
      "text/plain": [
       "HBox(children=(FloatProgress(value=1.0, bar_style='info', max=1.0), HTML(value='')))"
      ]
     },
     "metadata": {},
     "output_type": "display_data"
    },
    {
     "name": "stdout",
     "output_type": "stream",
     "text": [
      "\n",
      "The smallest distance (not including diagonal) = 157.48650735856708\n"
     ]
    },
    {
     "data": {
      "application/vnd.jupyter.widget-view+json": {
       "model_id": "1dfaf28be1d44064ae00cdfaecff7d2a",
       "version_major": 2,
       "version_minor": 0
      },
      "text/plain": [
       "HBox(children=(FloatProgress(value=1.0, bar_style='info', max=1.0), HTML(value='')))"
      ]
     },
     "metadata": {},
     "output_type": "display_data"
    },
    {
     "name": "stdout",
     "output_type": "stream",
     "text": [
      "\n",
      "filtered_measurements = [ 961.22143068 1136.90885707 1249.45672942  866.85595724 1080.85316007\n",
      " 1169.56268971 1136.59707347 1159.02949322 1127.24321329 1094.3860368\n",
      "  937.26040668  973.76170101 1235.8575252  1052.00270965 1115.82451611\n",
      " 1206.27521131]\n",
      "new_threshold = 2450.3729933798595\n"
     ]
    },
    {
     "data": {
      "application/vnd.jupyter.widget-view+json": {
       "model_id": "96d1b3525e694381b8ee274cce838333",
       "version_major": 2,
       "version_minor": 0
      },
      "text/plain": [
       "HBox(children=(FloatProgress(value=1.0, bar_style='info', max=1.0), HTML(value='')))"
      ]
     },
     "metadata": {},
     "output_type": "display_data"
    },
    {
     "name": "stdout",
     "output_type": "stream",
     "text": [
      "\n",
      "The smallest distance (not including diagonal) = 228.0153722888362\n"
     ]
    },
    {
     "data": {
      "application/vnd.jupyter.widget-view+json": {
       "model_id": "1e023e851b04448e8c63e49654fc067c",
       "version_major": 2,
       "version_minor": 0
      },
      "text/plain": [
       "HBox(children=(FloatProgress(value=1.0, bar_style='info', max=1.0), HTML(value='')))"
      ]
     },
     "metadata": {},
     "output_type": "display_data"
    },
    {
     "name": "stdout",
     "output_type": "stream",
     "text": [
      "\n",
      "branch_touching_number = [1]\n",
      "branch_touching_number = [1, 1]\n",
      "most_branch_containing_piece = 0\n",
      "filtered_measurements = [1667.00443029  805.30212846]\n",
      "new_threshold = 3058.821125345111\n"
     ]
    },
    {
     "data": {
      "application/vnd.jupyter.widget-view+json": {
       "model_id": "36ad7bb077d643088869ebac23dcde6d",
       "version_major": 2,
       "version_minor": 0
      },
      "text/plain": [
       "HBox(children=(FloatProgress(value=1.0, bar_style='info', max=1.0), HTML(value='')))"
      ]
     },
     "metadata": {},
     "output_type": "display_data"
    },
    {
     "name": "stdout",
     "output_type": "stream",
     "text": [
      "--> Not exactly one containing mesh: []\n",
      "\n",
      "The smallest distance (not including diagonal) = 116.33099329069749\n"
     ]
    },
    {
     "data": {
      "application/vnd.jupyter.widget-view+json": {
       "model_id": "9cf5757893c74b72b83e70d46cdf13e4",
       "version_major": 2,
       "version_minor": 0
      },
      "text/plain": [
       "HBox(children=(FloatProgress(value=1.0, bar_style='info', max=1.0), HTML(value='')))"
      ]
     },
     "metadata": {},
     "output_type": "display_data"
    },
    {
     "name": "stdout",
     "output_type": "stream",
     "text": [
      "--> Not exactly one containing mesh: [0 1]\n",
      "--> Not exactly one containing mesh: []\n",
      "\n",
      "filtered_measurements = [104.53726748 122.97594838 126.92883169 123.36793358 142.40997545\n",
      " 153.31037357  76.92613187]\n",
      "new_threshold = 308.178920729507\n"
     ]
    },
    {
     "data": {
      "application/vnd.jupyter.widget-view+json": {
       "model_id": "bc6f7e1e1134426db47000daa8d52df1",
       "version_major": 2,
       "version_minor": 0
      },
      "text/plain": [
       "HBox(children=(FloatProgress(value=1.0, bar_style='info', max=1.0), HTML(value='')))"
      ]
     },
     "metadata": {},
     "output_type": "display_data"
    },
    {
     "name": "stdout",
     "output_type": "stream",
     "text": [
      "--> Not exactly one containing mesh: []\n",
      "\n",
      "The smallest distance (not including diagonal) = 92.90855719469548\n"
     ]
    },
    {
     "data": {
      "application/vnd.jupyter.widget-view+json": {
       "model_id": "f41624d25a5a4b78868eeb78a0318b85",
       "version_major": 2,
       "version_minor": 0
      },
      "text/plain": [
       "HBox(children=(FloatProgress(value=1.0, bar_style='info', max=1.0), HTML(value='')))"
      ]
     },
     "metadata": {},
     "output_type": "display_data"
    },
    {
     "name": "stdout",
     "output_type": "stream",
     "text": [
      "\n",
      "filtered_measurements = [355.90578481 570.92276245 489.21067587 358.5102373  343.42663085\n",
      " 665.79017207 293.27520936 526.02372878 419.45663523 619.53952694\n",
      " 305.51570141 372.39105216 394.65053248 537.04134106 516.23678773\n",
      " 371.5757949  342.41278742 678.61730326 369.40486562 339.13959456\n",
      " 352.26583679 350.71119642 405.64097071 408.75540927 259.19244256\n",
      " 443.27400145 361.00047353 333.12516751 336.69889404 325.82726783\n",
      " 458.39343134 576.82438476 457.77661774 312.45039019 375.70500384\n",
      " 473.32984805 518.82185807 502.3541181  478.26473944 493.26263384\n",
      " 535.66873017 573.88104144 416.84524603]\n",
      "new_threshold = 1657.716331447453\n"
     ]
    },
    {
     "data": {
      "application/vnd.jupyter.widget-view+json": {
       "model_id": "ef80983202f74236ba686d0af734a984",
       "version_major": 2,
       "version_minor": 0
      },
      "text/plain": [
       "HBox(children=(FloatProgress(value=1.0, bar_style='info', max=1.0), HTML(value='')))"
      ]
     },
     "metadata": {},
     "output_type": "display_data"
    },
    {
     "name": "stdout",
     "output_type": "stream",
     "text": [
      "\n",
      "The smallest distance (not including diagonal) = 10.488088481701515\n"
     ]
    },
    {
     "data": {
      "application/vnd.jupyter.widget-view+json": {
       "model_id": "c836f15611144f6c94c39c26aeebbc54",
       "version_major": 2,
       "version_minor": 0
      },
      "text/plain": [
       "HBox(children=(FloatProgress(value=1.0, bar_style='info', max=1.0), HTML(value='')))"
      ]
     },
     "metadata": {},
     "output_type": "display_data"
    },
    {
     "name": "stdout",
     "output_type": "stream",
     "text": [
      "--> Not exactly one containing mesh: []\n",
      "\n",
      "filtered_measurements = [1535.0697803  1590.05805347 1464.22631571 1977.88982305]\n",
      "new_threshold = 3606.989403799271\n"
     ]
    },
    {
     "data": {
      "application/vnd.jupyter.widget-view+json": {
       "model_id": "fc99fb4b730f4a8aa0fe56fa7436d7ca",
       "version_major": 2,
       "version_minor": 0
      },
      "text/plain": [
       "HBox(children=(FloatProgress(value=1.0, bar_style='info', max=1.0), HTML(value='')))"
      ]
     },
     "metadata": {},
     "output_type": "display_data"
    },
    {
     "name": "stdout",
     "output_type": "stream",
     "text": [
      "--> Not exactly one containing mesh: []\n",
      "\n",
      "The smallest distance (not including diagonal) = 180.02499826412998\n"
     ]
    },
    {
     "data": {
      "application/vnd.jupyter.widget-view+json": {
       "model_id": "9dee8eb9c63a4eb6bce875965f5cbfd0",
       "version_major": 2,
       "version_minor": 0
      },
      "text/plain": [
       "HBox(children=(FloatProgress(value=1.0, bar_style='info', max=1.0), HTML(value='')))"
      ]
     },
     "metadata": {},
     "output_type": "display_data"
    },
    {
     "name": "stdout",
     "output_type": "stream",
     "text": [
      "\n",
      "filtered_measurements = [1240.46870788  931.59152121 1019.45798365 1135.20691115  883.43560646\n",
      "  861.8410609   902.79559883  994.49685019 1245.47109473  883.73034742\n",
      "  977.94143555  984.01809436  965.18272451  967.11498764  843.47346531\n",
      "  896.70724567 1020.01452299  944.9689728  1030.6194651   916.54671153\n",
      "  920.22650497 1068.96056533  987.64691504 1143.85960645 1153.33827719\n",
      " 1321.02625209]\n",
      "new_threshold = 2635.9234778615632\n"
     ]
    },
    {
     "data": {
      "application/vnd.jupyter.widget-view+json": {
       "model_id": "389b30863fed4e73ba4f3e3bbf1f5bb7",
       "version_major": 2,
       "version_minor": 0
      },
      "text/plain": [
       "HBox(children=(FloatProgress(value=1.0, bar_style='info', max=1.0), HTML(value='')))"
      ]
     },
     "metadata": {},
     "output_type": "display_data"
    },
    {
     "name": "stdout",
     "output_type": "stream",
     "text": [
      "\n",
      "The smallest distance (not including diagonal) = 669.2398673121619\n"
     ]
    },
    {
     "data": {
      "application/vnd.jupyter.widget-view+json": {
       "model_id": "5ca19d1a795143039abc2d76fa286ede",
       "version_major": 2,
       "version_minor": 0
      },
      "text/plain": [
       "HBox(children=(FloatProgress(value=1.0, bar_style='info', max=1.0), HTML(value='')))"
      ]
     },
     "metadata": {},
     "output_type": "display_data"
    },
    {
     "name": "stdout",
     "output_type": "stream",
     "text": [
      "\n",
      "filtered_measurements = [1074.53899816 1083.39376548]\n",
      "new_threshold = 1786.1986372502204\n"
     ]
    },
    {
     "data": {
      "application/vnd.jupyter.widget-view+json": {
       "model_id": "bf3edd280f71415c8115d64b13c0bb8c",
       "version_major": 2,
       "version_minor": 0
      },
      "text/plain": [
       "HBox(children=(FloatProgress(value=1.0, bar_style='info', max=1.0), HTML(value='')))"
      ]
     },
     "metadata": {},
     "output_type": "display_data"
    },
    {
     "name": "stdout",
     "output_type": "stream",
     "text": [
      "\n",
      "The smallest distance (not including diagonal) = 81.6394512475433\n"
     ]
    },
    {
     "data": {
      "application/vnd.jupyter.widget-view+json": {
       "model_id": "cf5d7e49db7443ca919eb89aecb848bc",
       "version_major": 2,
       "version_minor": 0
      },
      "text/plain": [
       "HBox(children=(FloatProgress(value=1.0, bar_style='info', max=1.0), HTML(value='')))"
      ]
     },
     "metadata": {},
     "output_type": "display_data"
    },
    {
     "name": "stdout",
     "output_type": "stream",
     "text": [
      "\n",
      "filtered_measurements = [1288.911748   1335.44661858  920.46218648  958.13580944 1051.02616857\n",
      " 1000.71909044]\n",
      "new_threshold = 2696.0980092919553\n"
     ]
    },
    {
     "data": {
      "application/vnd.jupyter.widget-view+json": {
       "model_id": "56f8b791c69e4b62b8e5ddc9db83e181",
       "version_major": 2,
       "version_minor": 0
      },
      "text/plain": [
       "HBox(children=(FloatProgress(value=1.0, bar_style='info', max=1.0), HTML(value='')))"
      ]
     },
     "metadata": {},
     "output_type": "display_data"
    },
    {
     "name": "stdout",
     "output_type": "stream",
     "text": [
      "\n",
      "The smallest distance (not including diagonal) = 69.98571282769076\n"
     ]
    },
    {
     "data": {
      "application/vnd.jupyter.widget-view+json": {
       "model_id": "56da2629d3ca41daa05b292f01bd34a1",
       "version_major": 2,
       "version_minor": 0
      },
      "text/plain": [
       "HBox(children=(FloatProgress(value=1.0, bar_style='info', max=1.0), HTML(value='')))"
      ]
     },
     "metadata": {},
     "output_type": "display_data"
    },
    {
     "name": "stdout",
     "output_type": "stream",
     "text": [
      "--> Not exactly one containing mesh: []\n",
      "--> Not exactly one containing mesh: []\n",
      "\n",
      "branch_touching_number = [5]\n",
      "branch_touching_number = [5, 1]\n",
      "most_branch_containing_piece = 0\n",
      "filtered_measurements = [104.30063684 374.45499229]\n",
      "new_threshold = 774.1447887916922\n"
     ]
    },
    {
     "data": {
      "application/vnd.jupyter.widget-view+json": {
       "model_id": "a69229dac18c4754919923de49b96c46",
       "version_major": 2,
       "version_minor": 0
      },
      "text/plain": [
       "HBox(children=(FloatProgress(value=1.0, bar_style='info', max=1.0), HTML(value='')))"
      ]
     },
     "metadata": {},
     "output_type": "display_data"
    },
    {
     "name": "stdout",
     "output_type": "stream",
     "text": [
      "--> Not exactly one containing mesh: []\n",
      "THERE WERE NO FACES THAT FIT THE DISTANCE (774.1447887916922) and Z transform requirements\n",
      "So just skipping this edge\n",
      "--> Not exactly one containing mesh: []\n",
      "\n",
      "branch_touching_number = [3]\n",
      "branch_touching_number = [3, 2]\n",
      "most_branch_containing_piece = 0\n",
      "The smallest distance (not including diagonal) = 81.08020720249795\n"
     ]
    },
    {
     "data": {
      "application/vnd.jupyter.widget-view+json": {
       "model_id": "6549920bf7a54290a9b23b6309cf8b34",
       "version_major": 2,
       "version_minor": 0
      },
      "text/plain": [
       "HBox(children=(FloatProgress(value=1.0, bar_style='info', max=1.0), HTML(value='')))"
      ]
     },
     "metadata": {},
     "output_type": "display_data"
    },
    {
     "name": "stdout",
     "output_type": "stream",
     "text": [
      "--> Not exactly one containing mesh: []\n",
      "--> Not exactly one containing mesh: []\n",
      "\n",
      "filtered_measurements = [354.12168833 369.88351508 346.34307626 273.12455126 295.58256056\n",
      " 329.13484242 462.27952656 577.63950686 464.4194129  354.64247411\n",
      " 375.09148577 310.84024151 441.59400781 398.83368359 503.04441056\n",
      " 616.51157877 475.09096817 557.86973314 323.5121532  394.17451219\n",
      " 328.30419326 433.77248663 359.42043217 397.59131626 641.0304314\n",
      " 504.01708961 332.51894274 268.63219689 410.85011073 598.16888053\n",
      " 276.75265106 563.79778405 365.07112475 315.02224899 410.67546915\n",
      " 621.9265479  564.12572891 488.46099327 483.11353365 463.16611878\n",
      " 336.2968435  589.36804653 488.19025546 338.51374088 369.01814821\n",
      " 417.56366708 451.24185269 404.08768995 353.48694856 405.4480293\n",
      " 555.97263284 395.28417572 351.66254418 367.0798397  403.19925558\n",
      " 413.94068315 350.07885694 356.06015259 599.1371911  632.87364015\n",
      " 423.41907005 288.76243344]\n",
      "new_threshold = 1789.4405866829902\n"
     ]
    },
    {
     "data": {
      "application/vnd.jupyter.widget-view+json": {
       "model_id": "97c6f9c4b6fb4a7c911f07021a45397d",
       "version_major": 2,
       "version_minor": 0
      },
      "text/plain": [
       "HBox(children=(FloatProgress(value=1.0, bar_style='info', max=1.0), HTML(value='')))"
      ]
     },
     "metadata": {},
     "output_type": "display_data"
    },
    {
     "name": "stdout",
     "output_type": "stream",
     "text": [
      "--> Not exactly one containing mesh: []\n",
      "--> Not exactly one containing mesh: []\n",
      "\n",
      "The smallest distance (not including diagonal) = 303.43917018082624\n"
     ]
    },
    {
     "data": {
      "application/vnd.jupyter.widget-view+json": {
       "model_id": "52622cbd427a4bdf841e6d1c343457d5",
       "version_major": 2,
       "version_minor": 0
      },
      "text/plain": [
       "HBox(children=(FloatProgress(value=1.0, bar_style='info', max=1.0), HTML(value='')))"
      ]
     },
     "metadata": {},
     "output_type": "display_data"
    },
    {
     "name": "stdout",
     "output_type": "stream",
     "text": [
      "\n",
      "filtered_measurements = [1415.00245477 1547.20060739 1414.89449508 1511.10205252 1599.77717702\n",
      " 1987.65060612]\n",
      "new_threshold = 3836.256506830947\n"
     ]
    },
    {
     "data": {
      "application/vnd.jupyter.widget-view+json": {
       "model_id": "59c7f4e9c5824c058647fcd6a2ca1001",
       "version_major": 2,
       "version_minor": 0
      },
      "text/plain": [
       "HBox(children=(FloatProgress(value=1.0, bar_style='info', max=1.0), HTML(value='')))"
      ]
     },
     "metadata": {},
     "output_type": "display_data"
    },
    {
     "name": "stdout",
     "output_type": "stream",
     "text": [
      "\n",
      "The smallest distance (not including diagonal) = 205.2364490045567\n"
     ]
    },
    {
     "data": {
      "application/vnd.jupyter.widget-view+json": {
       "model_id": "c5fc23117eaa419997dcc3f10fc2c41c",
       "version_major": 2,
       "version_minor": 0
      },
      "text/plain": [
       "HBox(children=(FloatProgress(value=1.0, bar_style='info', max=1.0), HTML(value='')))"
      ]
     },
     "metadata": {},
     "output_type": "display_data"
    },
    {
     "name": "stdout",
     "output_type": "stream",
     "text": [
      "\n",
      "filtered_measurements = [2120.87654738 1938.85174696 1688.28830072 1531.98994995 1501.26961768\n",
      " 1435.28775512 1397.63525321 1471.24665494 1496.74706759 1518.64797523\n",
      " 1588.08360011]\n",
      "new_threshold = 3079.450609704049\n"
     ]
    },
    {
     "data": {
      "application/vnd.jupyter.widget-view+json": {
       "model_id": "43364c8c75914386b2032dda05459ad1",
       "version_major": 2,
       "version_minor": 0
      },
      "text/plain": [
       "HBox(children=(FloatProgress(value=1.0, bar_style='info', max=1.0), HTML(value='')))"
      ]
     },
     "metadata": {},
     "output_type": "display_data"
    },
    {
     "name": "stdout",
     "output_type": "stream",
     "text": [
      "\n",
      "The smallest distance (not including diagonal) = 514.7368259606068\n"
     ]
    },
    {
     "data": {
      "application/vnd.jupyter.widget-view+json": {
       "model_id": "4c28a4f1d5c5474a81f20cbe98610d97",
       "version_major": 2,
       "version_minor": 0
      },
      "text/plain": [
       "HBox(children=(FloatProgress(value=1.0, bar_style='info', max=1.0), HTML(value='')))"
      ]
     },
     "metadata": {},
     "output_type": "display_data"
    },
    {
     "name": "stdout",
     "output_type": "stream",
     "text": [
      "\n",
      "filtered_measurements = [1099.05211304 1295.86899397 1125.3087813  1338.28314244]\n",
      "new_threshold = 2471.7380091625832\n"
     ]
    },
    {
     "data": {
      "application/vnd.jupyter.widget-view+json": {
       "model_id": "16ad83dd4d3043c1a7ca9885d3979a76",
       "version_major": 2,
       "version_minor": 0
      },
      "text/plain": [
       "HBox(children=(FloatProgress(value=1.0, bar_style='info', max=1.0), HTML(value='')))"
      ]
     },
     "metadata": {},
     "output_type": "display_data"
    },
    {
     "name": "stdout",
     "output_type": "stream",
     "text": [
      "\n",
      "The smallest distance (not including diagonal) = 11.74734012447073\n"
     ]
    },
    {
     "data": {
      "application/vnd.jupyter.widget-view+json": {
       "model_id": "9465128e65bc45099d7d5d8f3683ab29",
       "version_major": 2,
       "version_minor": 0
      },
      "text/plain": [
       "HBox(children=(FloatProgress(value=1.0, bar_style='info', max=1.0), HTML(value='')))"
      ]
     },
     "metadata": {},
     "output_type": "display_data"
    },
    {
     "name": "stdout",
     "output_type": "stream",
     "text": [
      "--> Not exactly one containing mesh: []\n",
      "--> Not exactly one containing mesh: [0 1]\n",
      "\n",
      "filtered_measurements = [1452.73832433 1892.23615516 1542.3917218   279.73991527]\n",
      "new_threshold = 3649.5109674395358\n"
     ]
    },
    {
     "data": {
      "application/vnd.jupyter.widget-view+json": {
       "model_id": "868a5c4e17fb41e0a3622d56bbc0ccf4",
       "version_major": 2,
       "version_minor": 0
      },
      "text/plain": [
       "HBox(children=(FloatProgress(value=1.0, bar_style='info', max=1.0), HTML(value='')))"
      ]
     },
     "metadata": {},
     "output_type": "display_data"
    },
    {
     "name": "stdout",
     "output_type": "stream",
     "text": [
      "--> Not exactly one containing mesh: []\n",
      "\n",
      "The smallest distance (not including diagonal) = 215.29746863351644\n"
     ]
    },
    {
     "data": {
      "application/vnd.jupyter.widget-view+json": {
       "model_id": "a84186d6b9e5407182e0321852f9eaff",
       "version_major": 2,
       "version_minor": 0
      },
      "text/plain": [
       "HBox(children=(FloatProgress(value=1.0, bar_style='info', max=1.0), HTML(value='')))"
      ]
     },
     "metadata": {},
     "output_type": "display_data"
    },
    {
     "name": "stdout",
     "output_type": "stream",
     "text": [
      "\n",
      "filtered_measurements = [ 998.05685732  932.26542179  937.12888913  963.46303135 1079.21543587]\n",
      "new_threshold = 1574.3057054128785\n"
     ]
    },
    {
     "data": {
      "application/vnd.jupyter.widget-view+json": {
       "model_id": "5869d21076834cf5934adf1e748aefc4",
       "version_major": 2,
       "version_minor": 0
      },
      "text/plain": [
       "HBox(children=(FloatProgress(value=1.0, bar_style='info', max=1.0), HTML(value='')))"
      ]
     },
     "metadata": {},
     "output_type": "display_data"
    },
    {
     "name": "stdout",
     "output_type": "stream",
     "text": [
      "\n",
      "The smallest distance (not including diagonal) = 109.11003620199197\n"
     ]
    },
    {
     "data": {
      "application/vnd.jupyter.widget-view+json": {
       "model_id": "6fac675b6368409a94cc6d73d71d797b",
       "version_major": 2,
       "version_minor": 0
      },
      "text/plain": [
       "HBox(children=(FloatProgress(value=1.0, bar_style='info', max=1.0), HTML(value='')))"
      ]
     },
     "metadata": {},
     "output_type": "display_data"
    },
    {
     "name": "stdout",
     "output_type": "stream",
     "text": [
      "\n",
      "filtered_measurements = [1103.23664663 1028.92976588 1016.51594053 1117.37321208 1017.50931144\n",
      "  980.18309351  994.80901436 1008.10904618 1042.15752497 1427.21429241\n",
      "  969.48133001 1136.98491846 1081.80630923 1400.28540628 1149.49408907\n",
      " 1080.7787534  1057.85587531 1296.16287516 1128.79754828 1083.13192504\n",
      " 1054.01674232 1213.07745028]\n",
      "new_threshold = 2795.8376247282426\n"
     ]
    },
    {
     "data": {
      "application/vnd.jupyter.widget-view+json": {
       "model_id": "b12ec770448a48a4929c78e685274ad6",
       "version_major": 2,
       "version_minor": 0
      },
      "text/plain": [
       "HBox(children=(FloatProgress(value=1.0, bar_style='info', max=1.0), HTML(value='')))"
      ]
     },
     "metadata": {},
     "output_type": "display_data"
    },
    {
     "name": "stdout",
     "output_type": "stream",
     "text": [
      "\n",
      "The smallest distance (not including diagonal) = 35.9722114972099\n"
     ]
    },
    {
     "data": {
      "application/vnd.jupyter.widget-view+json": {
       "model_id": "55d68c7275c84f2fbd67904d85533bad",
       "version_major": 2,
       "version_minor": 0
      },
      "text/plain": [
       "HBox(children=(FloatProgress(value=1.0, bar_style='info', max=1.0), HTML(value='')))"
      ]
     },
     "metadata": {},
     "output_type": "display_data"
    },
    {
     "name": "stdout",
     "output_type": "stream",
     "text": [
      "--> Not exactly one containing mesh: []\n",
      "\n",
      "filtered_measurements = [279.96096628 512.89768598 325.61745137 388.96934614 292.88765643\n",
      " 281.44973646 280.24838236 519.01077818 472.48934115 447.65819764\n",
      " 713.32432081 327.72336823 358.49671362 671.9297236  358.15439442\n",
      " 675.58377913 464.88385379 468.60649437 377.2610238  395.68655703\n",
      " 721.11413081 732.96576519 498.64013857]\n",
      "new_threshold = 1820.4710634615728\n"
     ]
    },
    {
     "data": {
      "application/vnd.jupyter.widget-view+json": {
       "model_id": "5a34052480d24d75a56ae183305bb22b",
       "version_major": 2,
       "version_minor": 0
      },
      "text/plain": [
       "HBox(children=(FloatProgress(value=1.0, bar_style='info', max=1.0), HTML(value='')))"
      ]
     },
     "metadata": {},
     "output_type": "display_data"
    },
    {
     "name": "stdout",
     "output_type": "stream",
     "text": [
      "--> Not exactly one containing mesh: []\n",
      "\n",
      "The smallest distance (not including diagonal) = 214.03504385964462\n"
     ]
    },
    {
     "data": {
      "application/vnd.jupyter.widget-view+json": {
       "model_id": "2df649ea40334d99a06a7064f5a934af",
       "version_major": 2,
       "version_minor": 0
      },
      "text/plain": [
       "HBox(children=(FloatProgress(value=1.0, bar_style='info', max=1.0), HTML(value='')))"
      ]
     },
     "metadata": {},
     "output_type": "display_data"
    },
    {
     "name": "stdout",
     "output_type": "stream",
     "text": [
      "\n",
      "filtered_measurements = [1095.8467323  1005.05678038 1013.04261044 1021.1593848  1206.63268759\n",
      " 1092.78957738]\n",
      "new_threshold = 1931.152685873799\n"
     ]
    },
    {
     "data": {
      "application/vnd.jupyter.widget-view+json": {
       "model_id": "feeb69e86f54406c8fc4c81c44544dff",
       "version_major": 2,
       "version_minor": 0
      },
      "text/plain": [
       "HBox(children=(FloatProgress(value=1.0, bar_style='info', max=1.0), HTML(value='')))"
      ]
     },
     "metadata": {},
     "output_type": "display_data"
    },
    {
     "name": "stdout",
     "output_type": "stream",
     "text": [
      "\n",
      "The smallest distance (not including diagonal) = 278.5067324141375\n"
     ]
    },
    {
     "data": {
      "application/vnd.jupyter.widget-view+json": {
       "model_id": "7b9af364a5b148489fd2a039e19f848d",
       "version_major": 2,
       "version_minor": 0
      },
      "text/plain": [
       "HBox(children=(FloatProgress(value=1.0, bar_style='info', max=1.0), HTML(value='')))"
      ]
     },
     "metadata": {},
     "output_type": "display_data"
    },
    {
     "name": "stdout",
     "output_type": "stream",
     "text": [
      "\n",
      "filtered_measurements = [1094.88829512 1009.84506584  988.56100523 1047.55949221 1182.00621934\n",
      " 1530.03259099]\n",
      "new_threshold = 2523.3897020128634\n"
     ]
    },
    {
     "data": {
      "application/vnd.jupyter.widget-view+json": {
       "model_id": "e9e3aac0a2a243fd94bfacd4e695409a",
       "version_major": 2,
       "version_minor": 0
      },
      "text/plain": [
       "HBox(children=(FloatProgress(value=1.0, bar_style='info', max=1.0), HTML(value='')))"
      ]
     },
     "metadata": {},
     "output_type": "display_data"
    },
    {
     "name": "stdout",
     "output_type": "stream",
     "text": [
      "\n",
      "The smallest distance (not including diagonal) = 127.03936397825676\n"
     ]
    },
    {
     "data": {
      "application/vnd.jupyter.widget-view+json": {
       "model_id": "2a591ced93244fccb25809f88f8444bb",
       "version_major": 2,
       "version_minor": 0
      },
      "text/plain": [
       "HBox(children=(FloatProgress(value=1.0, bar_style='info', max=1.0), HTML(value='')))"
      ]
     },
     "metadata": {},
     "output_type": "display_data"
    },
    {
     "name": "stdout",
     "output_type": "stream",
     "text": [
      "\n",
      "filtered_measurements = [1405.03491512 1263.53397607 1315.9526737  1364.52380014]\n",
      "new_threshold = 2100.763633778608\n"
     ]
    },
    {
     "data": {
      "application/vnd.jupyter.widget-view+json": {
       "model_id": "7d687bfff4264ee984e6d30011f71e38",
       "version_major": 2,
       "version_minor": 0
      },
      "text/plain": [
       "HBox(children=(FloatProgress(value=1.0, bar_style='info', max=1.0), HTML(value='')))"
      ]
     },
     "metadata": {},
     "output_type": "display_data"
    },
    {
     "name": "stdout",
     "output_type": "stream",
     "text": [
      "\n",
      "The smallest distance (not including diagonal) = 89.78307190111062\n"
     ]
    },
    {
     "data": {
      "application/vnd.jupyter.widget-view+json": {
       "model_id": "9c00b276eebc4654a621e514ad3ce386",
       "version_major": 2,
       "version_minor": 0
      },
      "text/plain": [
       "HBox(children=(FloatProgress(value=1.0, bar_style='info', max=1.0), HTML(value='')))"
      ]
     },
     "metadata": {},
     "output_type": "display_data"
    },
    {
     "name": "stdout",
     "output_type": "stream",
     "text": [
      "--> Not exactly one containing mesh: []\n",
      "--> Not exactly one containing mesh: []\n",
      "--> Not exactly one containing mesh: []\n",
      "--> Not exactly one containing mesh: []\n",
      "--> Not exactly one containing mesh: []\n",
      "--> Not exactly one containing mesh: []\n",
      "--> Not exactly one containing mesh: []\n",
      "--> Not exactly one containing mesh: []\n",
      "--> Not exactly one containing mesh: []\n",
      "--> Not exactly one containing mesh: []\n",
      "--> Not exactly one containing mesh: []\n",
      "\n",
      "branch_touching_number = [27]\n",
      "branch_touching_number = [27, 4]\n",
      "most_branch_containing_piece = 0\n",
      "filtered_measurements = [ 71.42979268  69.08061854 210.74122308 176.37520323 189.72601029\n",
      " 226.14037167 152.64127292  73.01111084 178.27633185 156.72801427\n",
      "  71.04130566 107.23655754 131.9574165  195.94324923 172.33260843\n",
      "  86.3006565  121.66828644 220.4262536  230.38750841 132.98883499\n",
      " 113.73990656 150.40219461]\n",
      "new_threshold = 536.5175917753168\n"
     ]
    },
    {
     "data": {
      "application/vnd.jupyter.widget-view+json": {
       "model_id": "110b6fe29b7a44a383d35a1d21be183f",
       "version_major": 2,
       "version_minor": 0
      },
      "text/plain": [
       "HBox(children=(FloatProgress(value=1.0, bar_style='info', max=1.0), HTML(value='')))"
      ]
     },
     "metadata": {},
     "output_type": "display_data"
    },
    {
     "name": "stdout",
     "output_type": "stream",
     "text": [
      "--> Not exactly one containing mesh: []\n",
      "--> Not exactly one containing mesh: []\n",
      "--> Not exactly one containing mesh: []\n",
      "--> Not exactly one containing mesh: []\n",
      "--> Not exactly one containing mesh: []\n",
      "--> Not exactly one containing mesh: []\n",
      "--> Not exactly one containing mesh: []\n",
      "--> Not exactly one containing mesh: []\n",
      "--> Not exactly one containing mesh: []\n",
      "--> Not exactly one containing mesh: []\n",
      "THERE WERE NO FACES THAT FIT THE DISTANCE (536.5175917753168) and Z transform requirements\n",
      "So just skipping this edge\n",
      "THERE WERE NO FACES THAT FIT THE DISTANCE (536.5175917753168) and Z transform requirements\n",
      "So just skipping this edge\n",
      "THERE WERE NO FACES THAT FIT THE DISTANCE (536.5175917753168) and Z transform requirements\n",
      "So just skipping this edge\n",
      "THERE WERE NO FACES THAT FIT THE DISTANCE (536.5175917753168) and Z transform requirements\n",
      "So just skipping this edge\n",
      "\n",
      "The smallest distance (not including diagonal) = 253.74593592804595\n"
     ]
    },
    {
     "data": {
      "application/vnd.jupyter.widget-view+json": {
       "model_id": "044e49984e114d12b2007823495ff652",
       "version_major": 2,
       "version_minor": 0
      },
      "text/plain": [
       "HBox(children=(FloatProgress(value=1.0, bar_style='info', max=1.0), HTML(value='')))"
      ]
     },
     "metadata": {},
     "output_type": "display_data"
    },
    {
     "name": "stdout",
     "output_type": "stream",
     "text": [
      "\n",
      "filtered_measurements = [428.12165634 432.01673201 405.05514497 413.92667476 396.54235303\n",
      " 367.54993606 560.86359846]\n",
      "new_threshold = 933.6632659440386\n"
     ]
    },
    {
     "data": {
      "application/vnd.jupyter.widget-view+json": {
       "model_id": "5be561fe1d564dc7bad6db30978f82cb",
       "version_major": 2,
       "version_minor": 0
      },
      "text/plain": [
       "HBox(children=(FloatProgress(value=1.0, bar_style='info', max=1.0), HTML(value='')))"
      ]
     },
     "metadata": {},
     "output_type": "display_data"
    },
    {
     "name": "stdout",
     "output_type": "stream",
     "text": [
      "\n",
      "The smallest distance (not including diagonal) = 230.4371931785525\n"
     ]
    },
    {
     "data": {
      "application/vnd.jupyter.widget-view+json": {
       "model_id": "83b5af0e9d2245c9a03debb5bcfa28b7",
       "version_major": 2,
       "version_minor": 0
      },
      "text/plain": [
       "HBox(children=(FloatProgress(value=1.0, bar_style='info', max=1.0), HTML(value='')))"
      ]
     },
     "metadata": {},
     "output_type": "display_data"
    },
    {
     "name": "stdout",
     "output_type": "stream",
     "text": [
      "--> Not exactly one containing mesh: []\n",
      "\n",
      "filtered_measurements = [105.96026166  78.68710592  77.15949643  90.45476533  89.41227049]\n",
      "new_threshold = 195.4192808064606\n"
     ]
    },
    {
     "data": {
      "application/vnd.jupyter.widget-view+json": {
       "model_id": "c3c7c8d56168463e89ef24f585707dfb",
       "version_major": 2,
       "version_minor": 0
      },
      "text/plain": [
       "HBox(children=(FloatProgress(value=1.0, bar_style='info', max=1.0), HTML(value='')))"
      ]
     },
     "metadata": {},
     "output_type": "display_data"
    },
    {
     "name": "stdout",
     "output_type": "stream",
     "text": [
      "--> Not exactly one containing mesh: []\n",
      "--> Not exactly one containing mesh: []\n",
      "--> Not exactly one containing mesh: []\n",
      "\n",
      "branch_touching_number = [10]\n",
      "branch_touching_number = [10, 1]\n",
      "most_branch_containing_piece = 0\n",
      "The smallest distance (not including diagonal) = 170.88885276693736\n"
     ]
    },
    {
     "data": {
      "application/vnd.jupyter.widget-view+json": {
       "model_id": "c3faa7a263f94328a6eab5326caabd62",
       "version_major": 2,
       "version_minor": 0
      },
      "text/plain": [
       "HBox(children=(FloatProgress(value=1.0, bar_style='info', max=1.0), HTML(value='')))"
      ]
     },
     "metadata": {},
     "output_type": "display_data"
    },
    {
     "name": "stdout",
     "output_type": "stream",
     "text": [
      "\n",
      "filtered_measurements = [1431.79508327 1355.09269751 1241.05688056 1270.89858999 1276.61125989\n",
      " 1280.55889954 1382.75796787]\n",
      "new_threshold = 1958.3387384746168\n"
     ]
    },
    {
     "data": {
      "application/vnd.jupyter.widget-view+json": {
       "model_id": "93e1ffd4af5e46c1ab65bbb74de256c0",
       "version_major": 2,
       "version_minor": 0
      },
      "text/plain": [
       "HBox(children=(FloatProgress(value=1.0, bar_style='info', max=1.0), HTML(value='')))"
      ]
     },
     "metadata": {},
     "output_type": "display_data"
    },
    {
     "name": "stdout",
     "output_type": "stream",
     "text": [
      "\n",
      "The smallest distance (not including diagonal) = 90.38805230781334\n"
     ]
    },
    {
     "data": {
      "application/vnd.jupyter.widget-view+json": {
       "model_id": "a5d1ac0e760244438c8ea926685d6e07",
       "version_major": 2,
       "version_minor": 0
      },
      "text/plain": [
       "HBox(children=(FloatProgress(value=1.0, bar_style='info', max=1.0), HTML(value='')))"
      ]
     },
     "metadata": {},
     "output_type": "display_data"
    },
    {
     "name": "stdout",
     "output_type": "stream",
     "text": [
      "\n",
      "filtered_measurements = [200.75369508 226.43077005 281.2700608  317.20629652 356.51188821\n",
      " 371.5952268  280.49205174 339.84968641 402.83114671 305.99385973\n",
      " 415.18549756 365.98599706 354.85239819 381.6114547  412.90885403\n",
      " 296.68873348 265.22521694 283.89869214 223.89314247 404.56719085\n",
      " 337.96248265 300.73161657 316.53818362 486.39234318 345.41839326\n",
      " 324.13377253 302.47828285 476.95129643 458.25589531 376.62046371\n",
      " 352.62875709 468.09708402 557.11712742 411.35415884 369.40423445\n",
      " 461.76541642 365.28980588 338.54233846 454.31541506 407.82120282\n",
      " 460.85512143 424.42153891 376.34852943 341.97632717 264.59450142\n",
      " 363.79949547 218.71468541 422.75478668 329.01262368 555.3432208\n",
      " 274.51633753 296.82115644 403.10528149 332.11602963 215.22233891\n",
      " 238.03049088 284.06817781 221.54781961 455.13970524 441.10164747\n",
      " 290.66006256 446.61384731 415.1469926  412.99538122 322.78698908\n",
      " 321.62027007]\n",
      "new_threshold = 1374.3719657214097\n"
     ]
    },
    {
     "data": {
      "application/vnd.jupyter.widget-view+json": {
       "model_id": "707974f6603940958512cd8d89e43333",
       "version_major": 2,
       "version_minor": 0
      },
      "text/plain": [
       "HBox(children=(FloatProgress(value=1.0, bar_style='info', max=1.0), HTML(value='')))"
      ]
     },
     "metadata": {},
     "output_type": "display_data"
    },
    {
     "name": "stdout",
     "output_type": "stream",
     "text": [
      "\n",
      "The smallest distance (not including diagonal) = 69.72804313904126\n"
     ]
    },
    {
     "data": {
      "application/vnd.jupyter.widget-view+json": {
       "model_id": "36fb08e7f86b49c2bb1061240b726a68",
       "version_major": 2,
       "version_minor": 0
      },
      "text/plain": [
       "HBox(children=(FloatProgress(value=1.0, bar_style='info', max=1.0), HTML(value='')))"
      ]
     },
     "metadata": {},
     "output_type": "display_data"
    },
    {
     "name": "stdout",
     "output_type": "stream",
     "text": [
      "\n",
      "filtered_measurements = [353.32483564 347.59153995 353.14118056 484.9428425  406.15844782\n",
      " 416.3927877  425.30513304 431.17573351 372.65479849 563.29286202\n",
      " 318.69679637 366.58725806 402.65752177 602.05799666 344.60367928\n",
      " 369.37078226 367.89831374 343.67847308 454.10163375 499.29480848\n",
      " 324.29472505 311.40091282 398.13060825 488.41045109 601.30451209\n",
      " 334.38974334 340.23022479 353.81359401 447.72757791 336.62160255\n",
      " 349.38403225 464.37484941 443.60077031 426.78768402 381.70980889\n",
      " 395.49125507 464.84476262 628.43732452 521.19748262 544.89973829]\n",
      "new_threshold = 1463.9523992477948\n"
     ]
    },
    {
     "data": {
      "application/vnd.jupyter.widget-view+json": {
       "model_id": "438ec1dfda6342e2883703a3a5001b4c",
       "version_major": 2,
       "version_minor": 0
      },
      "text/plain": [
       "HBox(children=(FloatProgress(value=1.0, bar_style='info', max=1.0), HTML(value='')))"
      ]
     },
     "metadata": {},
     "output_type": "display_data"
    },
    {
     "name": "stdout",
     "output_type": "stream",
     "text": [
      "\n",
      "The smallest distance (not including diagonal) = 96.18211892030659\n"
     ]
    },
    {
     "data": {
      "application/vnd.jupyter.widget-view+json": {
       "model_id": "fe0fdc9285e6416b97a5bf82a67a64d0",
       "version_major": 2,
       "version_minor": 0
      },
      "text/plain": [
       "HBox(children=(FloatProgress(value=1.0, bar_style='info', max=1.0), HTML(value='')))"
      ]
     },
     "metadata": {},
     "output_type": "display_data"
    },
    {
     "name": "stdout",
     "output_type": "stream",
     "text": [
      "\n",
      "filtered_measurements = [443.7872696  388.15149335 468.55936909 504.09808966 434.57157007\n",
      " 741.1119282  587.59724811 634.52438041 506.84336353 600.94812674\n",
      " 534.02425004 396.40741959 572.72930048 374.8805323  501.69765561\n",
      " 496.29605151 585.82490782 446.42259831 424.46795773 419.11050628\n",
      " 516.08567715 583.29124736 424.77020264 511.33146004 515.85659506\n",
      " 466.40368612 567.44223314 545.17843099 433.9463506  693.42039469\n",
      " 533.66008111 479.01312325 620.73851232 577.97549459]\n",
      "new_threshold = 1792.2088917418125\n"
     ]
    },
    {
     "data": {
      "application/vnd.jupyter.widget-view+json": {
       "model_id": "305f558b37974f5c97312cd82013a2a7",
       "version_major": 2,
       "version_minor": 0
      },
      "text/plain": [
       "HBox(children=(FloatProgress(value=1.0, bar_style='info', max=1.0), HTML(value='')))"
      ]
     },
     "metadata": {},
     "output_type": "display_data"
    },
    {
     "name": "stdout",
     "output_type": "stream",
     "text": [
      "\n",
      "The smallest distance (not including diagonal) = 150.32631173550425\n"
     ]
    },
    {
     "data": {
      "application/vnd.jupyter.widget-view+json": {
       "model_id": "9a1346b56be149f08ae4ac57542b43a9",
       "version_major": 2,
       "version_minor": 0
      },
      "text/plain": [
       "HBox(children=(FloatProgress(value=1.0, bar_style='info', max=1.0), HTML(value='')))"
      ]
     },
     "metadata": {},
     "output_type": "display_data"
    },
    {
     "name": "stdout",
     "output_type": "stream",
     "text": [
      "\n",
      "filtered_measurements = [300.13326429 454.06325449 334.61191904 388.73892228 372.55549633\n",
      " 461.6684116  386.66429375 295.60844361 566.74325673 350.79396043\n",
      " 268.62091246]\n",
      "new_threshold = 1306.2059803117736\n"
     ]
    },
    {
     "data": {
      "application/vnd.jupyter.widget-view+json": {
       "model_id": "f653a53b4fb54d11923c555c3819b444",
       "version_major": 2,
       "version_minor": 0
      },
      "text/plain": [
       "HBox(children=(FloatProgress(value=1.0, bar_style='info', max=1.0), HTML(value='')))"
      ]
     },
     "metadata": {},
     "output_type": "display_data"
    },
    {
     "name": "stdout",
     "output_type": "stream",
     "text": [
      "\n",
      "The smallest distance (not including diagonal) = 304.55541367705155\n"
     ]
    },
    {
     "data": {
      "application/vnd.jupyter.widget-view+json": {
       "model_id": "c69bdb48e7474e899e3f3c7b57055053",
       "version_major": 2,
       "version_minor": 0
      },
      "text/plain": [
       "HBox(children=(FloatProgress(value=1.0, bar_style='info', max=1.0), HTML(value='')))"
      ]
     },
     "metadata": {},
     "output_type": "display_data"
    },
    {
     "name": "stdout",
     "output_type": "stream",
     "text": [
      "\n",
      "filtered_measurements = [711.37639493 330.03032023 628.41686366 741.00480318 653.62748401\n",
      " 453.69679154 492.09550107 518.99707708]\n",
      "new_threshold = 1830.8255111901733\n"
     ]
    },
    {
     "data": {
      "application/vnd.jupyter.widget-view+json": {
       "model_id": "380d1c2c64884665b608dd7f573642c5",
       "version_major": 2,
       "version_minor": 0
      },
      "text/plain": [
       "HBox(children=(FloatProgress(value=1.0, bar_style='info', max=1.0), HTML(value='')))"
      ]
     },
     "metadata": {},
     "output_type": "display_data"
    },
    {
     "name": "stdout",
     "output_type": "stream",
     "text": [
      "\n",
      "The smallest distance (not including diagonal) = 243.82370680473218\n"
     ]
    },
    {
     "data": {
      "application/vnd.jupyter.widget-view+json": {
       "model_id": "b6be8d2968d647efaecba560994464f8",
       "version_major": 2,
       "version_minor": 0
      },
      "text/plain": [
       "HBox(children=(FloatProgress(value=1.0, bar_style='info', max=1.0), HTML(value='')))"
      ]
     },
     "metadata": {},
     "output_type": "display_data"
    },
    {
     "name": "stdout",
     "output_type": "stream",
     "text": [
      "\n",
      "filtered_measurements = [263.94959176 368.43324761 520.61107063 426.903053   485.05095589\n",
      " 447.79120552]\n",
      "new_threshold = 1090.3842656469706\n"
     ]
    },
    {
     "data": {
      "application/vnd.jupyter.widget-view+json": {
       "model_id": "7e8613a8703b41ee93e2433dfd462019",
       "version_major": 2,
       "version_minor": 0
      },
      "text/plain": [
       "HBox(children=(FloatProgress(value=1.0, bar_style='info', max=1.0), HTML(value='')))"
      ]
     },
     "metadata": {},
     "output_type": "display_data"
    },
    {
     "name": "stdout",
     "output_type": "stream",
     "text": [
      "\n",
      "The smallest distance (not including diagonal) = 27.874719729532707\n"
     ]
    },
    {
     "data": {
      "application/vnd.jupyter.widget-view+json": {
       "model_id": "6cbb9714b91e4cc6a0c968a54b7245ad",
       "version_major": 2,
       "version_minor": 0
      },
      "text/plain": [
       "HBox(children=(FloatProgress(value=1.0, bar_style='info', max=1.0), HTML(value='')))"
      ]
     },
     "metadata": {},
     "output_type": "display_data"
    },
    {
     "name": "stdout",
     "output_type": "stream",
     "text": [
      "--> Not exactly one containing mesh: []\n",
      "--> Not exactly one containing mesh: []\n",
      "--> Not exactly one containing mesh: []\n",
      "--> Not exactly one containing mesh: []\n",
      "--> Not exactly one containing mesh: []\n",
      "\n",
      "filtered_measurements = [126.96057191  92.97584942  84.06090907 140.23275497 127.82690043\n",
      "  96.96764253 105.81217029  87.98768226  74.49977389  80.02476963\n",
      "  74.6752367   95.23741651]\n",
      "new_threshold = 255.96603236352885\n"
     ]
    },
    {
     "data": {
      "application/vnd.jupyter.widget-view+json": {
       "model_id": "42e7c5d53797465688efc632d5e70de8",
       "version_major": 2,
       "version_minor": 0
      },
      "text/plain": [
       "HBox(children=(FloatProgress(value=1.0, bar_style='info', max=1.0), HTML(value='')))"
      ]
     },
     "metadata": {},
     "output_type": "display_data"
    },
    {
     "name": "stdout",
     "output_type": "stream",
     "text": [
      "--> Not exactly one containing mesh: []\n",
      "--> Not exactly one containing mesh: []\n",
      "--> Not exactly one containing mesh: []\n",
      "--> Not exactly one containing mesh: []\n",
      "--> Not exactly one containing mesh: []\n",
      "--> Not exactly one containing mesh: []\n",
      "\n",
      "branch_touching_number = [10]\n",
      "branch_touching_number = [10, 7]\n",
      "most_branch_containing_piece = 0\n",
      "The smallest distance (not including diagonal) = 383.6391533720196\n"
     ]
    },
    {
     "data": {
      "application/vnd.jupyter.widget-view+json": {
       "model_id": "204d6b585e694817a5900ccf7186eb29",
       "version_major": 2,
       "version_minor": 0
      },
      "text/plain": [
       "HBox(children=(FloatProgress(value=1.0, bar_style='info', max=1.0), HTML(value='')))"
      ]
     },
     "metadata": {},
     "output_type": "display_data"
    },
    {
     "name": "stdout",
     "output_type": "stream",
     "text": [
      "\n",
      "filtered_measurements = [612.41613793 602.0584772 ]\n",
      "new_threshold = 1623.9353350727238\n"
     ]
    },
    {
     "data": {
      "application/vnd.jupyter.widget-view+json": {
       "model_id": "52884b2679af42de84734514a2e0c296",
       "version_major": 2,
       "version_minor": 0
      },
      "text/plain": [
       "HBox(children=(FloatProgress(value=1.0, bar_style='info', max=1.0), HTML(value='')))"
      ]
     },
     "metadata": {},
     "output_type": "display_data"
    },
    {
     "name": "stdout",
     "output_type": "stream",
     "text": [
      "\n",
      "The smallest distance (not including diagonal) = 138.72191607674148\n"
     ]
    },
    {
     "data": {
      "application/vnd.jupyter.widget-view+json": {
       "model_id": "d6ffa951e9414aa9878a9045a6e73281",
       "version_major": 2,
       "version_minor": 0
      },
      "text/plain": [
       "HBox(children=(FloatProgress(value=1.0, bar_style='info', max=1.0), HTML(value='')))"
      ]
     },
     "metadata": {},
     "output_type": "display_data"
    },
    {
     "name": "stdout",
     "output_type": "stream",
     "text": [
      "--> Not exactly one containing mesh: []\n",
      "\n",
      "filtered_measurements = [109.64261679 158.07816416 100.71446402]\n",
      "new_threshold = 308.3228627871414\n"
     ]
    },
    {
     "data": {
      "application/vnd.jupyter.widget-view+json": {
       "model_id": "4a73c5f2246a439aa8920f86c10a99c6",
       "version_major": 2,
       "version_minor": 0
      },
      "text/plain": [
       "HBox(children=(FloatProgress(value=1.0, bar_style='info', max=1.0), HTML(value='')))"
      ]
     },
     "metadata": {},
     "output_type": "display_data"
    },
    {
     "name": "stdout",
     "output_type": "stream",
     "text": [
      "--> Not exactly one containing mesh: []\n",
      "--> Not exactly one containing mesh: []\n",
      "--> Not exactly one containing mesh: []\n",
      "\n",
      "branch_touching_number = [4]\n",
      "branch_touching_number = [4, 2]\n",
      "most_branch_containing_piece = 0\n",
      "The smallest distance (not including diagonal) = 75.29276193632427\n"
     ]
    },
    {
     "data": {
      "application/vnd.jupyter.widget-view+json": {
       "model_id": "fdc8eb2f546445eaad8ccc8668f6adaa",
       "version_major": 2,
       "version_minor": 0
      },
      "text/plain": [
       "HBox(children=(FloatProgress(value=1.0, bar_style='info', max=1.0), HTML(value='')))"
      ]
     },
     "metadata": {},
     "output_type": "display_data"
    },
    {
     "name": "stdout",
     "output_type": "stream",
     "text": [
      "\n",
      "filtered_measurements = [619.92092248 535.87184999 372.86919195 481.72398193 442.86406608\n",
      " 419.71208078 417.72472552 418.26703901 376.40122025 322.85307945\n",
      " 633.83233484 632.58574741 427.02266907 525.17181122 364.0350962\n",
      " 442.36315648 323.62742825 506.14329738 499.42912227 447.1057235\n",
      " 573.83589862 592.03391941 455.33377741 601.45499143 425.54538432\n",
      " 325.96700563 492.5128034  610.63334341 561.43073911 618.0658621\n",
      " 240.78851886 401.41239017 342.78257981 319.56960991 491.34275995\n",
      " 400.93526099 583.16427692 226.906718   482.00872764 427.33498909\n",
      " 641.91995902 554.91673246 418.28175859 412.34749157 381.97417214\n",
      " 454.35868198 575.27984226 487.56387134 349.89779223 278.55192889\n",
      " 254.8254351  289.06576649 330.3250703  446.47506703 164.56434392\n",
      " 161.27397796 133.62675975 172.37018813]\n",
      "new_threshold = 1849.7160994879557\n"
     ]
    },
    {
     "data": {
      "application/vnd.jupyter.widget-view+json": {
       "model_id": "c128efd45a0246df8d9f84a3729c73d3",
       "version_major": 2,
       "version_minor": 0
      },
      "text/plain": [
       "HBox(children=(FloatProgress(value=1.0, bar_style='info', max=1.0), HTML(value='')))"
      ]
     },
     "metadata": {},
     "output_type": "display_data"
    },
    {
     "name": "stdout",
     "output_type": "stream",
     "text": [
      "\n",
      "The smallest distance (not including diagonal) = 43.9089968002003\n"
     ]
    },
    {
     "data": {
      "application/vnd.jupyter.widget-view+json": {
       "model_id": "09d243380d844d8587f5f3caeb41a6f1",
       "version_major": 2,
       "version_minor": 0
      },
      "text/plain": [
       "HBox(children=(FloatProgress(value=1.0, bar_style='info', max=1.0), HTML(value='')))"
      ]
     },
     "metadata": {},
     "output_type": "display_data"
    },
    {
     "name": "stdout",
     "output_type": "stream",
     "text": [
      "--> Not exactly one containing mesh: []\n",
      "\n",
      "filtered_measurements = [183.63171702 130.83246189 421.89772715 332.8128746 ]\n",
      "new_threshold = 971.4152856854805\n"
     ]
    },
    {
     "data": {
      "application/vnd.jupyter.widget-view+json": {
       "model_id": "4b19335980014a8585aa096df5401191",
       "version_major": 2,
       "version_minor": 0
      },
      "text/plain": [
       "HBox(children=(FloatProgress(value=1.0, bar_style='info', max=1.0), HTML(value='')))"
      ]
     },
     "metadata": {},
     "output_type": "display_data"
    },
    {
     "name": "stdout",
     "output_type": "stream",
     "text": [
      "--> Not exactly one containing mesh: []\n",
      "\n",
      "The smallest distance (not including diagonal) = 135.9742622704753\n"
     ]
    },
    {
     "data": {
      "application/vnd.jupyter.widget-view+json": {
       "model_id": "15da0e29e7d14e139ac5a941b220029f",
       "version_major": 2,
       "version_minor": 0
      },
      "text/plain": [
       "HBox(children=(FloatProgress(value=1.0, bar_style='info', max=1.0), HTML(value='')))"
      ]
     },
     "metadata": {},
     "output_type": "display_data"
    },
    {
     "name": "stdout",
     "output_type": "stream",
     "text": [
      "\n",
      "filtered_measurements = [491.37810896 657.73483351 631.10565447 471.26935934 488.74720585\n",
      " 484.15578495 324.64380746 513.19527435 493.69670773 406.01912353\n",
      " 478.01627704 286.51048087 305.12008296 554.26106058 471.40215622\n",
      " 428.98097297 633.30065685 357.02439992 682.51581137 446.34593203\n",
      " 325.29104049 349.52021427]\n",
      "new_threshold = 1740.6181994056797\n"
     ]
    },
    {
     "data": {
      "application/vnd.jupyter.widget-view+json": {
       "model_id": "6d7183c8fb28496884c7d7ad49f60fe7",
       "version_major": 2,
       "version_minor": 0
      },
      "text/plain": [
       "HBox(children=(FloatProgress(value=1.0, bar_style='info', max=1.0), HTML(value='')))"
      ]
     },
     "metadata": {},
     "output_type": "display_data"
    },
    {
     "name": "stdout",
     "output_type": "stream",
     "text": [
      "\n",
      "The smallest distance (not including diagonal) = 13.92838827718412\n"
     ]
    },
    {
     "data": {
      "application/vnd.jupyter.widget-view+json": {
       "model_id": "c4365ef927274bc2b21349051c58b51c",
       "version_major": 2,
       "version_minor": 0
      },
      "text/plain": [
       "HBox(children=(FloatProgress(value=1.0, bar_style='info', max=1.0), HTML(value='')))"
      ]
     },
     "metadata": {},
     "output_type": "display_data"
    },
    {
     "name": "stdout",
     "output_type": "stream",
     "text": [
      "--> Not exactly one containing mesh: []\n",
      "\n",
      "branch_touching_number = [29]\n",
      "branch_touching_number = [29, 3]\n",
      "most_branch_containing_piece = 0\n",
      "filtered_measurements = [163.31150759 136.09084656  81.96190717  87.40520439 122.8326118\n",
      " 118.47802275  87.03350653  79.95321771  77.75835405  90.14018902\n",
      "  95.09541226  92.97568088 100.00677937  88.42567665 117.92806901\n",
      " 145.81326758 102.3038268  107.93630276 104.19034326  83.47912901\n",
      " 141.47581099 102.23473819 115.40260929]\n",
      "new_threshold = 290.3343948317721\n"
     ]
    },
    {
     "data": {
      "application/vnd.jupyter.widget-view+json": {
       "model_id": "d70497900fb6482f819e3933a46aa843",
       "version_major": 2,
       "version_minor": 0
      },
      "text/plain": [
       "HBox(children=(FloatProgress(value=1.0, bar_style='info', max=1.0), HTML(value='')))"
      ]
     },
     "metadata": {},
     "output_type": "display_data"
    },
    {
     "name": "stdout",
     "output_type": "stream",
     "text": [
      "--> Not exactly one containing mesh: []\n",
      "THERE WERE NO FACES THAT FIT THE DISTANCE (290.3343948317721) and Z transform requirements\n",
      "So just skipping this edge\n",
      "THERE WERE NO FACES THAT FIT THE DISTANCE (290.3343948317721) and Z transform requirements\n",
      "So just skipping this edge\n",
      "\n",
      "The smallest distance (not including diagonal) = 239.5954924450792\n"
     ]
    },
    {
     "data": {
      "application/vnd.jupyter.widget-view+json": {
       "model_id": "b709d533e9204ad28894db9007f8e802",
       "version_major": 2,
       "version_minor": 0
      },
      "text/plain": [
       "HBox(children=(FloatProgress(value=1.0, bar_style='info', max=1.0), HTML(value='')))"
      ]
     },
     "metadata": {},
     "output_type": "display_data"
    },
    {
     "name": "stdout",
     "output_type": "stream",
     "text": [
      "\n",
      "filtered_measurements = [756.38618236 287.40451397 448.60169556 497.33365969 540.08884105\n",
      " 542.741095   785.37779821 369.12039798]\n",
      "new_threshold = 1864.3004813625364\n"
     ]
    },
    {
     "data": {
      "application/vnd.jupyter.widget-view+json": {
       "model_id": "b756d7156498410f85c6b0bd98ee8dd4",
       "version_major": 2,
       "version_minor": 0
      },
      "text/plain": [
       "HBox(children=(FloatProgress(value=1.0, bar_style='info', max=1.0), HTML(value='')))"
      ]
     },
     "metadata": {},
     "output_type": "display_data"
    },
    {
     "name": "stdout",
     "output_type": "stream",
     "text": [
      "\n",
      "The smallest distance (not including diagonal) = 33.03028912982749\n"
     ]
    },
    {
     "data": {
      "application/vnd.jupyter.widget-view+json": {
       "model_id": "5f9ad4c87ef04f13a9f71a952ceea89d",
       "version_major": 2,
       "version_minor": 0
      },
      "text/plain": [
       "HBox(children=(FloatProgress(value=1.0, bar_style='info', max=1.0), HTML(value='')))"
      ]
     },
     "metadata": {},
     "output_type": "display_data"
    },
    {
     "name": "stdout",
     "output_type": "stream",
     "text": [
      "--> Not exactly one containing mesh: []\n",
      "--> Not exactly one containing mesh: []\n",
      "--> Not exactly one containing mesh: []\n",
      "--> Not exactly one containing mesh: []\n",
      "\n",
      "filtered_measurements = [231.81807885 177.74219451 168.89545799  95.80347384 144.73835937\n",
      " 172.13264899 169.62391691 133.56305558 101.31874966  86.99789722\n",
      " 143.06162476 106.19307212 145.40974862  89.33990518  70.03622633\n",
      "  78.27891894 106.09993966 116.22592043 197.94123168 242.73671041]\n",
      "new_threshold = 526.4591087722939\n"
     ]
    },
    {
     "data": {
      "application/vnd.jupyter.widget-view+json": {
       "model_id": "a01f21b6db00472aae64131537fa32d7",
       "version_major": 2,
       "version_minor": 0
      },
      "text/plain": [
       "HBox(children=(FloatProgress(value=1.0, bar_style='info', max=1.0), HTML(value='')))"
      ]
     },
     "metadata": {},
     "output_type": "display_data"
    },
    {
     "name": "stdout",
     "output_type": "stream",
     "text": [
      "--> Not exactly one containing mesh: []\n",
      "--> Not exactly one containing mesh: []\n",
      "--> Not exactly one containing mesh: []\n",
      "--> Not exactly one containing mesh: []\n",
      "--> Not exactly one containing mesh: []\n",
      "\n",
      "branch_touching_number = [30]\n",
      "branch_touching_number = [30, 1]\n",
      "most_branch_containing_piece = 0\n",
      "The smallest distance (not including diagonal) = 76.55716818169282\n"
     ]
    },
    {
     "data": {
      "application/vnd.jupyter.widget-view+json": {
       "model_id": "99a80852e96f4ce79c2380b613adfefb",
       "version_major": 2,
       "version_minor": 0
      },
      "text/plain": [
       "HBox(children=(FloatProgress(value=1.0, bar_style='info', max=1.0), HTML(value='')))"
      ]
     },
     "metadata": {},
     "output_type": "display_data"
    },
    {
     "name": "stdout",
     "output_type": "stream",
     "text": [
      "\n",
      "filtered_measurements = [312.51097088 280.92676107 323.86259171 166.13967086 461.48403687\n",
      " 393.74719    269.88428721]\n",
      "new_threshold = 1069.854158063075\n"
     ]
    },
    {
     "data": {
      "application/vnd.jupyter.widget-view+json": {
       "model_id": "55892291fb334991ad70972d5d208823",
       "version_major": 2,
       "version_minor": 0
      },
      "text/plain": [
       "HBox(children=(FloatProgress(value=1.0, bar_style='info', max=1.0), HTML(value='')))"
      ]
     },
     "metadata": {},
     "output_type": "display_data"
    },
    {
     "name": "stdout",
     "output_type": "stream",
     "text": [
      "\n",
      "The smallest distance (not including diagonal) = 564.8690113645818\n"
     ]
    },
    {
     "data": {
      "application/vnd.jupyter.widget-view+json": {
       "model_id": "eab433b02e674fa98ba98a637a9f9948",
       "version_major": 2,
       "version_minor": 0
      },
      "text/plain": [
       "HBox(children=(FloatProgress(value=1.0, bar_style='info', max=1.0), HTML(value='')))"
      ]
     },
     "metadata": {},
     "output_type": "display_data"
    },
    {
     "name": "stdout",
     "output_type": "stream",
     "text": [
      "\n",
      "filtered_measurements = [1134.55213772]\n",
      "new_threshold = 2581.0091433016028\n"
     ]
    },
    {
     "data": {
      "application/vnd.jupyter.widget-view+json": {
       "model_id": "cdade5b845d74735920083cdd7f4d39a",
       "version_major": 2,
       "version_minor": 0
      },
      "text/plain": [
       "HBox(children=(FloatProgress(value=1.0, bar_style='info', max=1.0), HTML(value='')))"
      ]
     },
     "metadata": {},
     "output_type": "display_data"
    },
    {
     "name": "stdout",
     "output_type": "stream",
     "text": [
      "\n",
      "The smallest distance (not including diagonal) = 371.5225430576185\n"
     ]
    },
    {
     "data": {
      "application/vnd.jupyter.widget-view+json": {
       "model_id": "b332a0591d9248eda0ad2506cdbdaeab",
       "version_major": 2,
       "version_minor": 0
      },
      "text/plain": [
       "HBox(children=(FloatProgress(value=1.0, bar_style='info', max=1.0), HTML(value='')))"
      ]
     },
     "metadata": {},
     "output_type": "display_data"
    },
    {
     "name": "stdout",
     "output_type": "stream",
     "text": [
      "\n",
      "filtered_measurements = [746.59585747]\n",
      "new_threshold = 1522.3983834073963\n"
     ]
    },
    {
     "data": {
      "application/vnd.jupyter.widget-view+json": {
       "model_id": "dc15f9c6cb53421183a260fd609692c3",
       "version_major": 2,
       "version_minor": 0
      },
      "text/plain": [
       "HBox(children=(FloatProgress(value=1.0, bar_style='info', max=1.0), HTML(value='')))"
      ]
     },
     "metadata": {},
     "output_type": "display_data"
    },
    {
     "name": "stdout",
     "output_type": "stream",
     "text": [
      "\n",
      "\n",
      "Working on limb #1\n",
      "The smallest distance (not including diagonal) = 21.118712081942874\n",
      "The smallest distance (not including diagonal) = 33.166247903554\n",
      "The smallest distance (not including diagonal) = 49.7332886505931\n",
      "The smallest distance (not including diagonal) = 107.63363786474933\n",
      "The smallest distance (not including diagonal) = 53.14132102234569\n",
      "The smallest distance (not including diagonal) = 115.77996372429904\n",
      "The smallest distance (not including diagonal) = 43.174066289845804\n",
      "The smallest distance (not including diagonal) = 43.79497688091638\n",
      "The smallest distance (not including diagonal) = 85.492689745966\n",
      "The smallest distance (not including diagonal) = 235.16024323849453\n",
      "The smallest distance (not including diagonal) = 110.92790451459904\n",
      "The smallest distance (not including diagonal) = 64.90762667052309\n",
      "The smallest distance (not including diagonal) = 158.301674027807\n",
      "The smallest distance (not including diagonal) = 112.16059914247963\n",
      "The smallest distance (not including diagonal) = 21.118712081942874\n",
      "The smallest distance (not including diagonal) = 175.66729917659688\n",
      "The smallest distance (not including diagonal) = 180.51315741518678\n",
      "The smallest distance (not including diagonal) = 90.36592278065886\n",
      "The smallest distance (not including diagonal) = 31.591137997862628\n",
      "The smallest distance (not including diagonal) = 69.44062211702888\n",
      "The smallest distance (not including diagonal) = 37.70941526992961\n",
      "The smallest distance (not including diagonal) = 66.16645675869307\n",
      "The smallest distance (not including diagonal) = 269.79251286868583\n",
      "The smallest distance (not including diagonal) = 156.14416415607724\n",
      "The smallest distance (not including diagonal) = 134.1081652995074\n",
      "The smallest distance (not including diagonal) = 194.49519274270864\n",
      "The smallest distance (not including diagonal) = 97.9642792042079\n",
      "The smallest distance (not including diagonal) = 172.70205557549104\n",
      "The smallest distance (not including diagonal) = 235.14961194947736\n",
      "The smallest distance (not including diagonal) = 70.80430777856195\n",
      "The smallest distance (not including diagonal) = 247.4227152061831\n",
      "The smallest distance (not including diagonal) = 120.37441588643328\n",
      "The smallest distance (not including diagonal) = 164.5265935950781\n",
      "The smallest distance (not including diagonal) = 46.09772228646444\n",
      "The smallest distance (not including diagonal) = 117.90250209389112\n",
      "The smallest distance (not including diagonal) = 91.48223871331527\n",
      "The smallest distance (not including diagonal) = 96.77293009927931\n",
      "The smallest distance (not including diagonal) = 295.53003231482245\n",
      "The smallest distance (not including diagonal) = 101.21758740456127\n",
      "The smallest distance (not including diagonal) = 25.787593916455254\n",
      "The smallest distance (not including diagonal) = 52.24940191045253\n",
      "The smallest distance (not including diagonal) = 283.45943272362626\n",
      "The smallest distance (not including diagonal) = 49.519390141664125\n",
      "The smallest distance (not including diagonal) = 266.0090411997386\n",
      "The smallest distance (not including diagonal) = 22.090722034374522\n",
      "The smallest distance (not including diagonal) = 1105.809404915661\n",
      "The smallest distance (not including diagonal) = 988.4034854248214\n",
      "The smallest distance (not including diagonal) = 1003.9048759718223\n"
     ]
    },
    {
     "data": {
      "application/vnd.jupyter.widget-view+json": {
       "model_id": "1b49ee8916164f6c997d7a7ccd28def5",
       "version_major": 2,
       "version_minor": 0
      },
      "text/plain": [
       "HBox(children=(FloatProgress(value=1.0, bar_style='info', max=1.0), HTML(value='')))"
      ]
     },
     "metadata": {},
     "output_type": "display_data"
    },
    {
     "name": "stdout",
     "output_type": "stream",
     "text": [
      "The smallest distance (not including diagonal) = 33.166247903554\n"
     ]
    },
    {
     "data": {
      "application/vnd.jupyter.widget-view+json": {
       "model_id": "5156a21816d84eb3bc89be61454b758d",
       "version_major": 2,
       "version_minor": 0
      },
      "text/plain": [
       "HBox(children=(FloatProgress(value=1.0, bar_style='info', max=1.0), HTML(value='')))"
      ]
     },
     "metadata": {},
     "output_type": "display_data"
    },
    {
     "name": "stdout",
     "output_type": "stream",
     "text": [
      "\n",
      "filtered_measurements = [335.10328917 149.57253589 240.46506186 239.43405496 172.12549313\n",
      " 234.53489293 378.08879237 294.91191127 115.69095132 130.93885658\n",
      " 244.92287836 364.24830642 271.63845435 293.03818363 231.38736184\n",
      " 153.87946594 345.81445832 325.73106796 174.75783845 298.91970758\n",
      " 333.91599102 210.75700399 190.17598511 236.76443871 162.40739912\n",
      " 194.3495556  231.354944   180.33504753 199.46729563 139.20470279\n",
      " 243.39778284 430.41046854 234.2697778  236.64524864 337.45466928\n",
      " 213.13423702 202.69089931 212.40628946 182.18076364 127.69039624\n",
      " 352.3649716  286.89799143 309.91302985 253.46282664 332.266238\n",
      " 186.93187012 177.96762721 257.26125651 289.84975091 192.08729128\n",
      " 220.67978303 263.10856887 290.0379167  295.83479159 335.37587366\n",
      " 175.20938097 163.77475075 319.89649305 366.98278579 261.5503705\n",
      " 287.66393507 223.4929648  212.68874529 356.166215   353.34749371\n",
      " 310.73736965 354.74101441 287.23416179 224.89440753]\n",
      "new_threshold = 1017.2501916130585\n"
     ]
    },
    {
     "data": {
      "application/vnd.jupyter.widget-view+json": {
       "model_id": "3e359a4433a7453cb0d10fc383929671",
       "version_major": 2,
       "version_minor": 0
      },
      "text/plain": [
       "HBox(children=(FloatProgress(value=1.0, bar_style='info', max=1.0), HTML(value='')))"
      ]
     },
     "metadata": {},
     "output_type": "display_data"
    },
    {
     "name": "stdout",
     "output_type": "stream",
     "text": [
      "\n",
      "The smallest distance (not including diagonal) = 49.7332886505931\n"
     ]
    },
    {
     "data": {
      "application/vnd.jupyter.widget-view+json": {
       "model_id": "516af0bb2e8b4804a1d7703da1f87164",
       "version_major": 2,
       "version_minor": 0
      },
      "text/plain": [
       "HBox(children=(FloatProgress(value=1.0, bar_style='info', max=1.0), HTML(value='')))"
      ]
     },
     "metadata": {},
     "output_type": "display_data"
    },
    {
     "name": "stdout",
     "output_type": "stream",
     "text": [
      "--> Not exactly one containing mesh: []\n",
      "--> Not exactly one containing mesh: []\n",
      "--> Not exactly one containing mesh: []\n",
      "--> Not exactly one containing mesh: []\n",
      "\n",
      "filtered_measurements = [ 90.29548231 109.72383176  72.57611271 147.60792984 113.04152726\n",
      "  75.81280922 103.71350947]\n",
      "new_threshold = 256.63193546421064\n"
     ]
    },
    {
     "data": {
      "application/vnd.jupyter.widget-view+json": {
       "model_id": "96e947d22ad5497f9d83fe109774551d",
       "version_major": 2,
       "version_minor": 0
      },
      "text/plain": [
       "HBox(children=(FloatProgress(value=1.0, bar_style='info', max=1.0), HTML(value='')))"
      ]
     },
     "metadata": {},
     "output_type": "display_data"
    },
    {
     "name": "stdout",
     "output_type": "stream",
     "text": [
      "--> Not exactly one containing mesh: []\n",
      "--> Not exactly one containing mesh: []\n",
      "--> Not exactly one containing mesh: []\n",
      "--> Not exactly one containing mesh: []\n",
      "--> Not exactly one containing mesh: []\n",
      "\n",
      "branch_touching_number = [11]\n",
      "branch_touching_number = [11, 1]\n",
      "most_branch_containing_piece = 0\n",
      "The smallest distance (not including diagonal) = 107.63363786474933\n"
     ]
    },
    {
     "data": {
      "application/vnd.jupyter.widget-view+json": {
       "model_id": "543538f7125a4dc48bdc2000dba993d1",
       "version_major": 2,
       "version_minor": 0
      },
      "text/plain": [
       "HBox(children=(FloatProgress(value=1.0, bar_style='info', max=1.0), HTML(value='')))"
      ]
     },
     "metadata": {},
     "output_type": "display_data"
    },
    {
     "name": "stdout",
     "output_type": "stream",
     "text": [
      "\n",
      "filtered_measurements = [409.32793294 350.99371894 201.59679897 288.42514436 320.67010158\n",
      " 322.54919696 305.87524264 265.77749581 202.5178464  186.9886243\n",
      " 435.25825631 438.85892247 405.45914562 301.04416018 277.97480764\n",
      " 216.24415804 206.89982148 254.0684071  221.20644655 404.05142937\n",
      " 238.70812609 274.73644631 315.96235379 370.1053622  330.93905787\n",
      " 357.43700613 270.22159881 313.67826483 341.65830768 292.33078168\n",
      " 357.5859712 ]\n",
      "new_threshold = 1125.8611408944116\n"
     ]
    },
    {
     "data": {
      "application/vnd.jupyter.widget-view+json": {
       "model_id": "ccd8eb1421854803a9a43020340186be",
       "version_major": 2,
       "version_minor": 0
      },
      "text/plain": [
       "HBox(children=(FloatProgress(value=1.0, bar_style='info', max=1.0), HTML(value='')))"
      ]
     },
     "metadata": {},
     "output_type": "display_data"
    },
    {
     "name": "stdout",
     "output_type": "stream",
     "text": [
      "\n",
      "The smallest distance (not including diagonal) = 53.14132102234569\n"
     ]
    },
    {
     "data": {
      "application/vnd.jupyter.widget-view+json": {
       "model_id": "cc6977c242b24ae8976477d393d65a57",
       "version_major": 2,
       "version_minor": 0
      },
      "text/plain": [
       "HBox(children=(FloatProgress(value=1.0, bar_style='info', max=1.0), HTML(value='')))"
      ]
     },
     "metadata": {},
     "output_type": "display_data"
    },
    {
     "name": "stdout",
     "output_type": "stream",
     "text": [
      "--> Not exactly one containing mesh: []\n",
      "--> Not exactly one containing mesh: []\n",
      "\n",
      "filtered_measurements = [132.94214157 122.05231989  79.70263596  82.31834545  57.77980167\n",
      "  79.94199768 138.65613585 101.0849739  109.23710311  83.04357736\n",
      " 112.91363612 118.19491109 109.58709087 153.02087632  83.09814623\n",
      " 139.67093582 115.61155301 117.40280478 108.35405063  91.86238739\n",
      " 112.24998107  84.94450229  90.60885862  78.80409906  96.78462093\n",
      "  87.91244365 123.54183924]\n",
      "new_threshold = 356.57586133949576\n"
     ]
    },
    {
     "data": {
      "application/vnd.jupyter.widget-view+json": {
       "model_id": "46a2b270e3de4ecd9e834dedc26e7101",
       "version_major": 2,
       "version_minor": 0
      },
      "text/plain": [
       "HBox(children=(FloatProgress(value=1.0, bar_style='info', max=1.0), HTML(value='')))"
      ]
     },
     "metadata": {},
     "output_type": "display_data"
    },
    {
     "name": "stdout",
     "output_type": "stream",
     "text": [
      "--> Not exactly one containing mesh: []\n",
      "--> Not exactly one containing mesh: []\n",
      "--> Not exactly one containing mesh: []\n",
      "\n",
      "The smallest distance (not including diagonal) = 115.77996372429904\n"
     ]
    },
    {
     "data": {
      "application/vnd.jupyter.widget-view+json": {
       "model_id": "29006e27b0a0427eb63510e1dde205e7",
       "version_major": 2,
       "version_minor": 0
      },
      "text/plain": [
       "HBox(children=(FloatProgress(value=1.0, bar_style='info', max=1.0), HTML(value='')))"
      ]
     },
     "metadata": {},
     "output_type": "display_data"
    },
    {
     "name": "stdout",
     "output_type": "stream",
     "text": [
      "\n",
      "filtered_measurements = [208.66626272 322.88698513 393.63041503 310.77965815 404.58937382\n",
      " 433.93322904 285.69904889 313.15980436 394.50642413 379.05816317\n",
      " 306.97355972 385.65900075 279.0769853  424.29405155 282.07198605\n",
      " 289.85591221 461.69117793 417.77549736 416.35893089 275.70883849\n",
      " 268.89062546 278.4918152  578.31319081 432.25261094 417.30824431\n",
      " 402.23471578 271.71906897 389.08047986 438.7685254  272.21254739\n",
      " 230.45693949 288.18179585 297.02073748 238.08134562 331.22171004\n",
      " 491.72639722 354.13812283 445.58523558 567.51488451 323.16806582\n",
      " 293.61821828 301.18157228 346.85301633 347.15131875 440.38878283\n",
      " 476.57304971 291.41698888 300.57643664 354.90597875 444.61687949\n",
      " 382.87679607 558.07035469 463.40830136 494.88151675 338.73662456\n",
      " 397.20605826 536.3036486  363.06032635 324.71054821 390.41364709\n",
      " 285.52891596 261.24099189 351.68443685 524.39316966 353.71383298\n",
      " 399.52873666 354.51451698 342.60737949 433.44376122 379.61895293\n",
      " 391.06789297 530.45079659 301.73716034 330.57997577]\n",
      "new_threshold = 1440.997415957475\n"
     ]
    },
    {
     "data": {
      "application/vnd.jupyter.widget-view+json": {
       "model_id": "2e59a2f1901544d9ac83f7f0c02ff61d",
       "version_major": 2,
       "version_minor": 0
      },
      "text/plain": [
       "HBox(children=(FloatProgress(value=1.0, bar_style='info', max=1.0), HTML(value='')))"
      ]
     },
     "metadata": {},
     "output_type": "display_data"
    },
    {
     "name": "stdout",
     "output_type": "stream",
     "text": [
      "\n",
      "The smallest distance (not including diagonal) = 43.174066289845804\n"
     ]
    },
    {
     "data": {
      "application/vnd.jupyter.widget-view+json": {
       "model_id": "8c4735549086424b83b2641f97f3c42e",
       "version_major": 2,
       "version_minor": 0
      },
      "text/plain": [
       "HBox(children=(FloatProgress(value=1.0, bar_style='info', max=1.0), HTML(value='')))"
      ]
     },
     "metadata": {},
     "output_type": "display_data"
    },
    {
     "name": "stdout",
     "output_type": "stream",
     "text": [
      "--> Not exactly one containing mesh: []\n",
      "\n",
      "filtered_measurements = [ 75.05572081 126.00964844 183.64863298 113.39970873 116.28913501\n",
      " 126.75843542  94.23465888 177.28251734 196.11198109 158.98091748\n",
      " 169.76231249  95.67869854  89.40088559 127.49416453 127.80022861\n",
      "  64.96812347]\n",
      "new_threshold = 385.7855372013079\n"
     ]
    },
    {
     "data": {
      "application/vnd.jupyter.widget-view+json": {
       "model_id": "6c371dc3eeca42faaea250e042d8fae4",
       "version_major": 2,
       "version_minor": 0
      },
      "text/plain": [
       "HBox(children=(FloatProgress(value=1.0, bar_style='info', max=1.0), HTML(value='')))"
      ]
     },
     "metadata": {},
     "output_type": "display_data"
    },
    {
     "name": "stdout",
     "output_type": "stream",
     "text": [
      "--> Not exactly one containing mesh: []\n",
      "\n",
      "The smallest distance (not including diagonal) = 43.79497688091638\n"
     ]
    },
    {
     "data": {
      "application/vnd.jupyter.widget-view+json": {
       "model_id": "f705b5695a954a019ef752a5c4de998f",
       "version_major": 2,
       "version_minor": 0
      },
      "text/plain": [
       "HBox(children=(FloatProgress(value=1.0, bar_style='info', max=1.0), HTML(value='')))"
      ]
     },
     "metadata": {},
     "output_type": "display_data"
    },
    {
     "name": "stdout",
     "output_type": "stream",
     "text": [
      "\n",
      "filtered_measurements = [107.26921442  88.48439706  89.66742207  96.82286449 100.49259708]\n",
      "new_threshold = 224.33918702719927\n"
     ]
    },
    {
     "data": {
      "application/vnd.jupyter.widget-view+json": {
       "model_id": "5d5e1e72098f45629ba13eb041c3c4d9",
       "version_major": 2,
       "version_minor": 0
      },
      "text/plain": [
       "HBox(children=(FloatProgress(value=1.0, bar_style='info', max=1.0), HTML(value='')))"
      ]
     },
     "metadata": {},
     "output_type": "display_data"
    },
    {
     "name": "stdout",
     "output_type": "stream",
     "text": [
      "\n",
      "The smallest distance (not including diagonal) = 85.492689745966\n"
     ]
    },
    {
     "data": {
      "application/vnd.jupyter.widget-view+json": {
       "model_id": "670e3be226324e4f95778dfd0e675bea",
       "version_major": 2,
       "version_minor": 0
      },
      "text/plain": [
       "HBox(children=(FloatProgress(value=1.0, bar_style='info', max=1.0), HTML(value='')))"
      ]
     },
     "metadata": {},
     "output_type": "display_data"
    },
    {
     "name": "stdout",
     "output_type": "stream",
     "text": [
      "\n",
      "filtered_measurements = [327.14802448 451.60931451 516.03567561 457.92369523 388.83849855\n",
      " 292.1905047  278.76201413 621.74343934 315.27126654 488.58478801]\n",
      "new_threshold = 1369.1463183371754\n"
     ]
    },
    {
     "data": {
      "application/vnd.jupyter.widget-view+json": {
       "model_id": "b37e1ff40e9e40d2bfc22d1376e197ca",
       "version_major": 2,
       "version_minor": 0
      },
      "text/plain": [
       "HBox(children=(FloatProgress(value=1.0, bar_style='info', max=1.0), HTML(value='')))"
      ]
     },
     "metadata": {},
     "output_type": "display_data"
    },
    {
     "name": "stdout",
     "output_type": "stream",
     "text": [
      "\n",
      "The smallest distance (not including diagonal) = 235.16024323849453\n"
     ]
    },
    {
     "data": {
      "application/vnd.jupyter.widget-view+json": {
       "model_id": "0b881898b5614beab9bfe567c276749c",
       "version_major": 2,
       "version_minor": 0
      },
      "text/plain": [
       "HBox(children=(FloatProgress(value=1.0, bar_style='info', max=1.0), HTML(value='')))"
      ]
     },
     "metadata": {},
     "output_type": "display_data"
    },
    {
     "name": "stdout",
     "output_type": "stream",
     "text": [
      "--> Not exactly one containing mesh: [0 1]\n",
      "--> Not exactly one containing mesh: []\n",
      "\n",
      "filtered_measurements = [124.69226926  62.33647263  92.42172962  88.3502863  106.08132172]\n",
      "new_threshold = 280.28133256201465\n"
     ]
    },
    {
     "data": {
      "application/vnd.jupyter.widget-view+json": {
       "model_id": "3b1371bfc61f4a69a785dc323faf01e4",
       "version_major": 2,
       "version_minor": 0
      },
      "text/plain": [
       "HBox(children=(FloatProgress(value=1.0, bar_style='info', max=1.0), HTML(value='')))"
      ]
     },
     "metadata": {},
     "output_type": "display_data"
    },
    {
     "name": "stdout",
     "output_type": "stream",
     "text": [
      "--> Not exactly one containing mesh: []\n",
      "--> Not exactly one containing mesh: []\n",
      "\n",
      "branch_touching_number = [6]\n",
      "branch_touching_number = [6, 1]\n",
      "most_branch_containing_piece = 0\n",
      "The smallest distance (not including diagonal) = 110.92790451459904\n"
     ]
    },
    {
     "data": {
      "application/vnd.jupyter.widget-view+json": {
       "model_id": "0d2a9caf4878486f85528da46de8540f",
       "version_major": 2,
       "version_minor": 0
      },
      "text/plain": [
       "HBox(children=(FloatProgress(value=1.0, bar_style='info', max=1.0), HTML(value='')))"
      ]
     },
     "metadata": {},
     "output_type": "display_data"
    },
    {
     "name": "stdout",
     "output_type": "stream",
     "text": [
      "\n",
      "filtered_measurements = [343.56209935 331.68230833 484.45369559 308.68268483 515.1045077\n",
      " 452.44096432 447.97215873 417.25558062 691.09787996 290.60403764\n",
      " 423.02176973 330.77748566 692.60794939 419.11303064 530.38622327\n",
      " 551.1661765  585.88684147 560.94504803 720.59514389 485.71095053\n",
      " 583.25711087 350.16173631 381.8339517  519.30923719 676.17733257\n",
      " 406.92227219 299.98972565 405.1533702  407.42873284 391.450464\n",
      " 325.81913135 491.7588027  386.60946934 673.27577642 477.64092608\n",
      " 362.09121696 539.57662451 487.17975873 691.73904921 498.86026556\n",
      " 633.77578275 625.22025342 348.65917851 391.52658669 408.95846073\n",
      " 529.55009068 501.94370652 715.08221069 449.54556749 373.71273423\n",
      " 361.72950202 337.09274391 408.36681172 614.68003471 512.71689392\n",
      " 588.66092777 348.10178817]\n",
      "new_threshold = 1835.4338404713994\n"
     ]
    },
    {
     "data": {
      "application/vnd.jupyter.widget-view+json": {
       "model_id": "aa3dabbad79f401fa5f9d668a662f7cc",
       "version_major": 2,
       "version_minor": 0
      },
      "text/plain": [
       "HBox(children=(FloatProgress(value=1.0, bar_style='info', max=1.0), HTML(value='')))"
      ]
     },
     "metadata": {},
     "output_type": "display_data"
    },
    {
     "name": "stdout",
     "output_type": "stream",
     "text": [
      "\n",
      "The smallest distance (not including diagonal) = 64.90762667052309\n"
     ]
    },
    {
     "data": {
      "application/vnd.jupyter.widget-view+json": {
       "model_id": "7e7e3a2392cd4a4ebad344693d824e66",
       "version_major": 2,
       "version_minor": 0
      },
      "text/plain": [
       "HBox(children=(FloatProgress(value=1.0, bar_style='info', max=1.0), HTML(value='')))"
      ]
     },
     "metadata": {},
     "output_type": "display_data"
    },
    {
     "name": "stdout",
     "output_type": "stream",
     "text": [
      "\n",
      "filtered_measurements = [117.9210904  370.07158528 224.48905569 396.36240436 256.00899223\n",
      " 217.61776409 403.59491162 264.89175505 588.83469475 492.49311141\n",
      " 577.00620662 277.86682926 218.57296065 224.99220491 208.56442179\n",
      " 405.06042996 417.10454819 252.08083155 620.00583098 439.54802415\n",
      " 448.97174955 490.24770979 260.02393762 234.42599634 230.48727804\n",
      " 328.46251392 327.15923544 385.48677063 539.37823469 278.36899813\n",
      " 331.07275752 380.62767723 448.68748802 193.39216745 513.94252795\n",
      " 618.86933799 385.76343378 330.75752702 436.87941755 545.71486291\n",
      " 474.81081832 514.24440504 421.10076689 347.05167209 492.48314225\n",
      " 356.31973435 385.47957668 238.50146144 393.36336539 271.91387622\n",
      " 365.44596049 387.4710628  512.85557725 598.5724199  549.65589476\n",
      " 519.0079164  434.24556391 363.09843294 338.88035115 588.74793676\n",
      " 374.38469293 285.30010039 189.76764687 484.77448273 395.14507254\n",
      " 381.37431256 436.51496227 623.16302458 270.28897415 390.48187103\n",
      " 272.24891718 301.75990614 331.68420198 529.87700747 443.13918089\n",
      " 340.47559851 420.85998269 372.57805992 517.49835049 498.59318156\n",
      " 414.05172872 621.88853335 255.79114918 421.04020803 262.04852299\n",
      " 356.44532027 336.63342743 313.61346292]\n",
      "new_threshold = 1738.4820068493918\n"
     ]
    },
    {
     "data": {
      "application/vnd.jupyter.widget-view+json": {
       "model_id": "8a8f14adbc98487991f8a25ba9d70bf3",
       "version_major": 2,
       "version_minor": 0
      },
      "text/plain": [
       "HBox(children=(FloatProgress(value=1.0, bar_style='info', max=1.0), HTML(value='')))"
      ]
     },
     "metadata": {},
     "output_type": "display_data"
    },
    {
     "name": "stdout",
     "output_type": "stream",
     "text": [
      "\n",
      "The smallest distance (not including diagonal) = 158.301674027807\n"
     ]
    },
    {
     "data": {
      "application/vnd.jupyter.widget-view+json": {
       "model_id": "c590ac635f0d4bf78164a83bce367ba1",
       "version_major": 2,
       "version_minor": 0
      },
      "text/plain": [
       "HBox(children=(FloatProgress(value=1.0, bar_style='info', max=1.0), HTML(value='')))"
      ]
     },
     "metadata": {},
     "output_type": "display_data"
    },
    {
     "name": "stdout",
     "output_type": "stream",
     "text": [
      "--> Not exactly one containing mesh: []\n",
      "--> Not exactly one containing mesh: []\n",
      "--> Not exactly one containing mesh: []\n",
      "\n",
      "filtered_measurements = [807.61473352 798.50536651 749.38295219 789.79577948 786.9951371\n",
      " 792.1890289  788.06221613 765.0105267  728.90351013 764.27329358\n",
      " 807.63564293 848.76661149 720.48479527 534.57642188 358.45514895\n",
      " 324.42305174 377.08537735 406.27208662 394.84758018 450.60225371\n",
      " 696.08178082]\n",
      "new_threshold = 1633.4100980832227\n"
     ]
    },
    {
     "data": {
      "application/vnd.jupyter.widget-view+json": {
       "model_id": "ff9265a78973479fa7824cadce4b445f",
       "version_major": 2,
       "version_minor": 0
      },
      "text/plain": [
       "HBox(children=(FloatProgress(value=1.0, bar_style='info', max=1.0), HTML(value='')))"
      ]
     },
     "metadata": {},
     "output_type": "display_data"
    },
    {
     "name": "stdout",
     "output_type": "stream",
     "text": [
      "--> Not exactly one containing mesh: []\n",
      "--> Not exactly one containing mesh: []\n",
      "--> Not exactly one containing mesh: []\n",
      "\n",
      "The smallest distance (not including diagonal) = 112.16059914247963\n"
     ]
    },
    {
     "data": {
      "application/vnd.jupyter.widget-view+json": {
       "model_id": "c37b8c4001004e2b85765713317e53a0",
       "version_major": 2,
       "version_minor": 0
      },
      "text/plain": [
       "HBox(children=(FloatProgress(value=1.0, bar_style='info', max=1.0), HTML(value='')))"
      ]
     },
     "metadata": {},
     "output_type": "display_data"
    },
    {
     "name": "stdout",
     "output_type": "stream",
     "text": [
      "\n",
      "filtered_measurements = [277.78729511 222.53773777 264.62795903 137.24938756 434.18125541\n",
      " 478.20322666 384.15697872 332.81470024 294.63422531 300.60212767\n",
      " 338.36021548 297.29803467 285.42268682 488.4621265  342.12730097\n",
      " 393.36636169 437.06015186 408.73940203 337.72789057 239.42042314\n",
      " 239.2267674  332.21757779]\n",
      "new_threshold = 1213.8085786346712\n"
     ]
    },
    {
     "data": {
      "application/vnd.jupyter.widget-view+json": {
       "model_id": "c6ffa5ab9f8d44aea89be5446cdd8d9d",
       "version_major": 2,
       "version_minor": 0
      },
      "text/plain": [
       "HBox(children=(FloatProgress(value=1.0, bar_style='info', max=1.0), HTML(value='')))"
      ]
     },
     "metadata": {},
     "output_type": "display_data"
    },
    {
     "name": "stdout",
     "output_type": "stream",
     "text": [
      "\n",
      "The smallest distance (not including diagonal) = 21.118712081942874\n"
     ]
    },
    {
     "data": {
      "application/vnd.jupyter.widget-view+json": {
       "model_id": "395543e6f0f741cf89ab83715f2ef35f",
       "version_major": 2,
       "version_minor": 0
      },
      "text/plain": [
       "HBox(children=(FloatProgress(value=1.0, bar_style='info', max=1.0), HTML(value='')))"
      ]
     },
     "metadata": {},
     "output_type": "display_data"
    },
    {
     "name": "stdout",
     "output_type": "stream",
     "text": [
      "--> Not exactly one containing mesh: []\n",
      "--> Not exactly one containing mesh: []\n",
      "--> Not exactly one containing mesh: []\n",
      "--> Not exactly one containing mesh: []\n",
      "\n",
      "filtered_measurements = [148.46547384 135.85347354 182.98997077 137.34303426 112.15501424\n",
      " 125.23738298 143.29214166 120.17865334  92.11611041  84.21738143\n",
      " 125.41830488 200.83473961 201.81297389  97.91333308  89.62727943\n",
      " 114.36100207 119.55668254 145.51685361 126.10692915 128.47697688]\n",
      "new_threshold = 433.1337176995531\n"
     ]
    },
    {
     "data": {
      "application/vnd.jupyter.widget-view+json": {
       "model_id": "9d1de6451ae84485a848f51a615d06ad",
       "version_major": 2,
       "version_minor": 0
      },
      "text/plain": [
       "HBox(children=(FloatProgress(value=1.0, bar_style='info', max=1.0), HTML(value='')))"
      ]
     },
     "metadata": {},
     "output_type": "display_data"
    },
    {
     "name": "stdout",
     "output_type": "stream",
     "text": [
      "--> Not exactly one containing mesh: []\n",
      "--> Not exactly one containing mesh: []\n",
      "--> Not exactly one containing mesh: []\n",
      "--> Not exactly one containing mesh: []\n",
      "--> Not exactly one containing mesh: []\n",
      "\n",
      "branch_touching_number = [29]\n",
      "branch_touching_number = [29, 2]\n",
      "branch_touching_number = [29, 2, 1]\n",
      "most_branch_containing_piece = 0\n",
      "The smallest distance (not including diagonal) = 175.66729917659688\n"
     ]
    },
    {
     "data": {
      "application/vnd.jupyter.widget-view+json": {
       "model_id": "2bfe5b740b3a4054ac8de51faf5e28cd",
       "version_major": 2,
       "version_minor": 0
      },
      "text/plain": [
       "HBox(children=(FloatProgress(value=1.0, bar_style='info', max=1.0), HTML(value='')))"
      ]
     },
     "metadata": {},
     "output_type": "display_data"
    },
    {
     "name": "stdout",
     "output_type": "stream",
     "text": [
      "\n",
      "filtered_measurements = [509.28189424 364.34381349 411.31122923 472.96127694 489.46628461\n",
      " 459.29399128 426.30998743 692.27069265 426.13789252 572.01286173\n",
      " 623.66769955 439.23851303 585.53641625 535.33203889 474.58410362\n",
      " 343.58499866 566.23869775 469.35498766 408.4181665  384.58300637\n",
      " 490.219773   636.84603158 441.44656673 688.33411703 609.91625872]\n",
      "new_threshold = 1683.3856496967862\n"
     ]
    },
    {
     "data": {
      "application/vnd.jupyter.widget-view+json": {
       "model_id": "6f96da70223b48e48c59db6cfdc51c50",
       "version_major": 2,
       "version_minor": 0
      },
      "text/plain": [
       "HBox(children=(FloatProgress(value=1.0, bar_style='info', max=1.0), HTML(value='')))"
      ]
     },
     "metadata": {},
     "output_type": "display_data"
    },
    {
     "name": "stdout",
     "output_type": "stream",
     "text": [
      "\n",
      "The smallest distance (not including diagonal) = 180.51315741518678\n"
     ]
    },
    {
     "data": {
      "application/vnd.jupyter.widget-view+json": {
       "model_id": "f32e219f59134cd899f12725e94afd32",
       "version_major": 2,
       "version_minor": 0
      },
      "text/plain": [
       "HBox(children=(FloatProgress(value=1.0, bar_style='info', max=1.0), HTML(value='')))"
      ]
     },
     "metadata": {},
     "output_type": "display_data"
    },
    {
     "name": "stdout",
     "output_type": "stream",
     "text": [
      "\n",
      "filtered_measurements = [506.10600639 578.28850141 432.61052651 446.47647776 400.21896091\n",
      " 543.00426169 440.36130479 553.41021578 607.35613466 481.97226409\n",
      " 339.39337855 633.55636035 414.12474558 381.9059221  596.51610151\n",
      " 359.13014541 317.94876614 373.92505802 473.71700908 672.68958613\n",
      " 488.17020247 375.73359711 451.56521652 584.94005232 714.35977042\n",
      " 494.03090171 478.64825323 367.98242302 445.00255767 625.4075466\n",
      " 377.03295354 719.10450784 585.60183486 389.65104896 391.08465773\n",
      " 461.03288092 685.3462709  585.59040505 336.61253453 482.34258877\n",
      " 581.43365976 617.23283432 634.45843498 644.77911325 329.20955236]\n",
      "new_threshold = 1684.8286262353035\n"
     ]
    },
    {
     "data": {
      "application/vnd.jupyter.widget-view+json": {
       "model_id": "fc5e2a7c0bce4fe0a3e73450f3a87e75",
       "version_major": 2,
       "version_minor": 0
      },
      "text/plain": [
       "HBox(children=(FloatProgress(value=1.0, bar_style='info', max=1.0), HTML(value='')))"
      ]
     },
     "metadata": {},
     "output_type": "display_data"
    },
    {
     "name": "stdout",
     "output_type": "stream",
     "text": [
      "\n",
      "The smallest distance (not including diagonal) = 90.36592278065886\n"
     ]
    },
    {
     "data": {
      "application/vnd.jupyter.widget-view+json": {
       "model_id": "7c3e49489812405a9d490d808d45858f",
       "version_major": 2,
       "version_minor": 0
      },
      "text/plain": [
       "HBox(children=(FloatProgress(value=1.0, bar_style='info', max=1.0), HTML(value='')))"
      ]
     },
     "metadata": {},
     "output_type": "display_data"
    },
    {
     "name": "stdout",
     "output_type": "stream",
     "text": [
      "\n",
      "filtered_measurements = [429.11057879 503.36491888 443.44266972 384.8015798  547.85743088\n",
      " 447.42525317 538.26779102 638.90731083 634.64088754 307.26122664\n",
      " 594.58728031 543.77724556 300.83440245 439.6896592  189.52884397\n",
      " 602.10056944 364.14352838 180.39718864 286.43057518 312.55755054]\n",
      "new_threshold = 1509.2467461152369\n"
     ]
    },
    {
     "data": {
      "application/vnd.jupyter.widget-view+json": {
       "model_id": "cebf0040aa8a4632bf9124470dda9105",
       "version_major": 2,
       "version_minor": 0
      },
      "text/plain": [
       "HBox(children=(FloatProgress(value=1.0, bar_style='info', max=1.0), HTML(value='')))"
      ]
     },
     "metadata": {},
     "output_type": "display_data"
    },
    {
     "name": "stdout",
     "output_type": "stream",
     "text": [
      "\n",
      "The smallest distance (not including diagonal) = 31.591137997862628\n"
     ]
    },
    {
     "data": {
      "application/vnd.jupyter.widget-view+json": {
       "model_id": "b8dc24d45b494b35835e99f09baff5bd",
       "version_major": 2,
       "version_minor": 0
      },
      "text/plain": [
       "HBox(children=(FloatProgress(value=1.0, bar_style='info', max=1.0), HTML(value='')))"
      ]
     },
     "metadata": {},
     "output_type": "display_data"
    },
    {
     "name": "stdout",
     "output_type": "stream",
     "text": [
      "--> Not exactly one containing mesh: []\n",
      "--> Not exactly one containing mesh: []\n",
      "\n",
      "filtered_measurements = [172.35671534 133.02116763 138.80592312 136.31157378  97.79452124\n",
      " 159.6624399  126.4329566   88.02449493  80.14172858  83.77441551\n",
      "  84.92675766 153.42938395  76.80000664  94.56800506 115.04724638\n",
      " 121.05739709]\n",
      "new_threshold = 333.95422235988804\n"
     ]
    },
    {
     "data": {
      "application/vnd.jupyter.widget-view+json": {
       "model_id": "a22679ad8449489e8a991b962e00fd65",
       "version_major": 2,
       "version_minor": 0
      },
      "text/plain": [
       "HBox(children=(FloatProgress(value=1.0, bar_style='info', max=1.0), HTML(value='')))"
      ]
     },
     "metadata": {},
     "output_type": "display_data"
    },
    {
     "name": "stdout",
     "output_type": "stream",
     "text": [
      "--> Not exactly one containing mesh: []\n",
      "--> Not exactly one containing mesh: []\n",
      "--> Not exactly one containing mesh: []\n",
      "--> Not exactly one containing mesh: []\n",
      "\n",
      "branch_touching_number = [19]\n",
      "branch_touching_number = [19, 1]\n",
      "most_branch_containing_piece = 0\n",
      "The smallest distance (not including diagonal) = 69.44062211702888\n"
     ]
    },
    {
     "data": {
      "application/vnd.jupyter.widget-view+json": {
       "model_id": "74fc75ca2a6846c49b5033bfe117cb92",
       "version_major": 2,
       "version_minor": 0
      },
      "text/plain": [
       "HBox(children=(FloatProgress(value=1.0, bar_style='info', max=1.0), HTML(value='')))"
      ]
     },
     "metadata": {},
     "output_type": "display_data"
    },
    {
     "name": "stdout",
     "output_type": "stream",
     "text": [
      "--> Not exactly one containing mesh: []\n",
      "\n",
      "filtered_measurements = [102.27399682  96.51187001  96.5461143   96.23309693 160.15879031\n",
      " 229.32493489 217.66269198 178.63346559  98.73196715 143.28326609\n",
      " 264.29296674 227.30390157 216.7959327  189.26220688]\n",
      "new_threshold = 506.5873101427381\n"
     ]
    },
    {
     "data": {
      "application/vnd.jupyter.widget-view+json": {
       "model_id": "5e9338da84f245cfa3be7da7d8c5d8d7",
       "version_major": 2,
       "version_minor": 0
      },
      "text/plain": [
       "HBox(children=(FloatProgress(value=1.0, bar_style='info', max=1.0), HTML(value='')))"
      ]
     },
     "metadata": {},
     "output_type": "display_data"
    },
    {
     "name": "stdout",
     "output_type": "stream",
     "text": [
      "--> Not exactly one containing mesh: []\n",
      "\n",
      "The smallest distance (not including diagonal) = 37.70941526992961\n"
     ]
    },
    {
     "data": {
      "application/vnd.jupyter.widget-view+json": {
       "model_id": "c3b43a59d7f243c598816e41675475f5",
       "version_major": 2,
       "version_minor": 0
      },
      "text/plain": [
       "HBox(children=(FloatProgress(value=1.0, bar_style='info', max=1.0), HTML(value='')))"
      ]
     },
     "metadata": {},
     "output_type": "display_data"
    },
    {
     "name": "stdout",
     "output_type": "stream",
     "text": [
      "--> Not exactly one containing mesh: []\n",
      "--> Not exactly one containing mesh: []\n",
      "--> Not exactly one containing mesh: []\n",
      "--> Not exactly one containing mesh: []\n",
      "--> Not exactly one containing mesh: [0 1]\n",
      "\n",
      "filtered_measurements = [177.10770661 167.44421097  70.12332535  64.85719246  89.10338755\n",
      " 133.66853124 156.25973529 164.8552525  189.67027521 101.87818311\n",
      " 107.19194417 103.06067633 111.76940136 101.62164551 177.76666801\n",
      " 190.78842116]\n",
      "new_threshold = 431.98475748996657\n"
     ]
    },
    {
     "data": {
      "application/vnd.jupyter.widget-view+json": {
       "model_id": "8416efb4b80646edae8744d1069c9969",
       "version_major": 2,
       "version_minor": 0
      },
      "text/plain": [
       "HBox(children=(FloatProgress(value=1.0, bar_style='info', max=1.0), HTML(value='')))"
      ]
     },
     "metadata": {},
     "output_type": "display_data"
    },
    {
     "name": "stdout",
     "output_type": "stream",
     "text": [
      "--> Not exactly one containing mesh: []\n",
      "--> Not exactly one containing mesh: []\n",
      "--> Not exactly one containing mesh: []\n",
      "--> Not exactly one containing mesh: []\n",
      "\n",
      "The smallest distance (not including diagonal) = 66.16645675869307\n"
     ]
    },
    {
     "data": {
      "application/vnd.jupyter.widget-view+json": {
       "model_id": "d0efeb97adcf42989d2701197b5e49ba",
       "version_major": 2,
       "version_minor": 0
      },
      "text/plain": [
       "HBox(children=(FloatProgress(value=1.0, bar_style='info', max=1.0), HTML(value='')))"
      ]
     },
     "metadata": {},
     "output_type": "display_data"
    },
    {
     "name": "stdout",
     "output_type": "stream",
     "text": [
      "--> Not exactly one containing mesh: []\n",
      "--> Not exactly one containing mesh: []\n",
      "\n",
      "filtered_measurements = [ 93.55151394 157.22847847 139.89449426 190.90021542]\n",
      "new_threshold = 404.52344220463186\n"
     ]
    },
    {
     "data": {
      "application/vnd.jupyter.widget-view+json": {
       "model_id": "1696cf41ab5a40899a99abd056490a4e",
       "version_major": 2,
       "version_minor": 0
      },
      "text/plain": [
       "HBox(children=(FloatProgress(value=1.0, bar_style='info', max=1.0), HTML(value='')))"
      ]
     },
     "metadata": {},
     "output_type": "display_data"
    },
    {
     "name": "stdout",
     "output_type": "stream",
     "text": [
      "--> Not exactly one containing mesh: []\n",
      "--> Not exactly one containing mesh: []\n",
      "--> Not exactly one containing mesh: []\n",
      "\n",
      "branch_touching_number = [5]\n",
      "branch_touching_number = [5, 3]\n",
      "most_branch_containing_piece = 0\n",
      "The smallest distance (not including diagonal) = 269.79251286868583\n"
     ]
    },
    {
     "data": {
      "application/vnd.jupyter.widget-view+json": {
       "model_id": "9504314717ab4745bfa93190ed57583c",
       "version_major": 2,
       "version_minor": 0
      },
      "text/plain": [
       "HBox(children=(FloatProgress(value=1.0, bar_style='info', max=1.0), HTML(value='')))"
      ]
     },
     "metadata": {},
     "output_type": "display_data"
    },
    {
     "name": "stdout",
     "output_type": "stream",
     "text": [
      "\n",
      "filtered_measurements = [859.23455766 605.86008717]\n",
      "new_threshold = 1813.386181266867\n"
     ]
    },
    {
     "data": {
      "application/vnd.jupyter.widget-view+json": {
       "model_id": "cda22c7edfe94c45ae5b598f29ae040f",
       "version_major": 2,
       "version_minor": 0
      },
      "text/plain": [
       "HBox(children=(FloatProgress(value=1.0, bar_style='info', max=1.0), HTML(value='')))"
      ]
     },
     "metadata": {},
     "output_type": "display_data"
    },
    {
     "name": "stdout",
     "output_type": "stream",
     "text": [
      "\n",
      "The smallest distance (not including diagonal) = 156.14416415607724\n"
     ]
    },
    {
     "data": {
      "application/vnd.jupyter.widget-view+json": {
       "model_id": "9c20efb806d54a00ab80968f6cf7de16",
       "version_major": 2,
       "version_minor": 0
      },
      "text/plain": [
       "HBox(children=(FloatProgress(value=1.0, bar_style='info', max=1.0), HTML(value='')))"
      ]
     },
     "metadata": {},
     "output_type": "display_data"
    },
    {
     "name": "stdout",
     "output_type": "stream",
     "text": [
      "--> Not exactly one containing mesh: []\n",
      "--> Not exactly one containing mesh: []\n",
      "\n",
      "filtered_measurements = [420.93804264 465.96468445 420.80823829 357.87406251 324.59801686\n",
      " 365.90464746 352.98122804 250.79215276]\n",
      "new_threshold = 819.7677161266317\n"
     ]
    },
    {
     "data": {
      "application/vnd.jupyter.widget-view+json": {
       "model_id": "0adc0e5be8f3417c8fe9bea70e5a1dd2",
       "version_major": 2,
       "version_minor": 0
      },
      "text/plain": [
       "HBox(children=(FloatProgress(value=1.0, bar_style='info', max=1.0), HTML(value='')))"
      ]
     },
     "metadata": {},
     "output_type": "display_data"
    },
    {
     "name": "stdout",
     "output_type": "stream",
     "text": [
      "--> Not exactly one containing mesh: []\n",
      "--> Not exactly one containing mesh: []\n",
      "\n",
      "The smallest distance (not including diagonal) = 134.1081652995074\n"
     ]
    },
    {
     "data": {
      "application/vnd.jupyter.widget-view+json": {
       "model_id": "8d62f4b574e4433ba8eef963eb8358d7",
       "version_major": 2,
       "version_minor": 0
      },
      "text/plain": [
       "HBox(children=(FloatProgress(value=1.0, bar_style='info', max=1.0), HTML(value='')))"
      ]
     },
     "metadata": {},
     "output_type": "display_data"
    },
    {
     "name": "stdout",
     "output_type": "stream",
     "text": [
      "\n",
      "filtered_measurements = [594.06263246 721.3857757  826.7183971 ]\n",
      "new_threshold = 1693.4331944040105\n"
     ]
    },
    {
     "data": {
      "application/vnd.jupyter.widget-view+json": {
       "model_id": "ac759cbe423545809aa24728675c3429",
       "version_major": 2,
       "version_minor": 0
      },
      "text/plain": [
       "HBox(children=(FloatProgress(value=1.0, bar_style='info', max=1.0), HTML(value='')))"
      ]
     },
     "metadata": {},
     "output_type": "display_data"
    },
    {
     "name": "stdout",
     "output_type": "stream",
     "text": [
      "\n",
      "The smallest distance (not including diagonal) = 194.49519274270864\n"
     ]
    },
    {
     "data": {
      "application/vnd.jupyter.widget-view+json": {
       "model_id": "f1fdfc47a1374266a82fc2b74cb8f599",
       "version_major": 2,
       "version_minor": 0
      },
      "text/plain": [
       "HBox(children=(FloatProgress(value=1.0, bar_style='info', max=1.0), HTML(value='')))"
      ]
     },
     "metadata": {},
     "output_type": "display_data"
    },
    {
     "name": "stdout",
     "output_type": "stream",
     "text": [
      "--> Not exactly one containing mesh: []\n",
      "--> Not exactly one containing mesh: []\n",
      "--> Not exactly one containing mesh: []\n",
      "\n",
      "filtered_measurements = [ 78.30220668 144.54154164  77.01831202 123.08062256]\n",
      "new_threshold = 260.44081927285634\n"
     ]
    },
    {
     "data": {
      "application/vnd.jupyter.widget-view+json": {
       "model_id": "2f8d12945d924e85903c19673ab8d239",
       "version_major": 2,
       "version_minor": 0
      },
      "text/plain": [
       "HBox(children=(FloatProgress(value=1.0, bar_style='info', max=1.0), HTML(value='')))"
      ]
     },
     "metadata": {},
     "output_type": "display_data"
    },
    {
     "name": "stdout",
     "output_type": "stream",
     "text": [
      "--> Not exactly one containing mesh: []\n",
      "--> Not exactly one containing mesh: []\n",
      "--> Not exactly one containing mesh: []\n",
      "\n",
      "branch_touching_number = [5]\n",
      "branch_touching_number = [5, 1]\n",
      "most_branch_containing_piece = 0\n",
      "The smallest distance (not including diagonal) = 97.9642792042079\n"
     ]
    },
    {
     "data": {
      "application/vnd.jupyter.widget-view+json": {
       "model_id": "0787449ea4c140c0968dc7610f8b2005",
       "version_major": 2,
       "version_minor": 0
      },
      "text/plain": [
       "HBox(children=(FloatProgress(value=1.0, bar_style='info', max=1.0), HTML(value='')))"
      ]
     },
     "metadata": {},
     "output_type": "display_data"
    },
    {
     "name": "stdout",
     "output_type": "stream",
     "text": [
      "\n",
      "branch_touching_number = [1]\n",
      "branch_touching_number = [1, 5]\n",
      "most_branch_containing_piece = 1\n",
      "filtered_measurements = [228.69933407 113.22687049 199.76162613 219.79624457]\n",
      "new_threshold = 508.5351642888822\n"
     ]
    },
    {
     "data": {
      "application/vnd.jupyter.widget-view+json": {
       "model_id": "8de80150e6d34a0bb4a5d4c549b902b5",
       "version_major": 2,
       "version_minor": 0
      },
      "text/plain": [
       "HBox(children=(FloatProgress(value=1.0, bar_style='info', max=1.0), HTML(value='')))"
      ]
     },
     "metadata": {},
     "output_type": "display_data"
    },
    {
     "name": "stdout",
     "output_type": "stream",
     "text": [
      "THERE WERE NO FACES THAT FIT THE DISTANCE (508.5351642888822) and Z transform requirements\n",
      "So just skipping this edge\n",
      "\n",
      "The smallest distance (not including diagonal) = 172.70205557549104\n"
     ]
    },
    {
     "data": {
      "application/vnd.jupyter.widget-view+json": {
       "model_id": "b5f1a9145aa2465c8b74fd185b698309",
       "version_major": 2,
       "version_minor": 0
      },
      "text/plain": [
       "HBox(children=(FloatProgress(value=1.0, bar_style='info', max=1.0), HTML(value='')))"
      ]
     },
     "metadata": {},
     "output_type": "display_data"
    },
    {
     "name": "stdout",
     "output_type": "stream",
     "text": [
      "\n",
      "filtered_measurements = [418.18334477 689.59311899 379.93568809 715.36010742 534.65541582\n",
      " 394.62907194 438.87984973 493.11283469 522.49085822 395.30516474\n",
      " 561.0042252  721.66194832 321.74169903 526.4472611  441.41862406]\n",
      "new_threshold = 1852.3217013347962\n"
     ]
    },
    {
     "data": {
      "application/vnd.jupyter.widget-view+json": {
       "model_id": "5e99c3b26b5b46568c93e7d0a6c96646",
       "version_major": 2,
       "version_minor": 0
      },
      "text/plain": [
       "HBox(children=(FloatProgress(value=1.0, bar_style='info', max=1.0), HTML(value='')))"
      ]
     },
     "metadata": {},
     "output_type": "display_data"
    },
    {
     "name": "stdout",
     "output_type": "stream",
     "text": [
      "\n",
      "The smallest distance (not including diagonal) = 235.14961194947736\n"
     ]
    },
    {
     "data": {
      "application/vnd.jupyter.widget-view+json": {
       "model_id": "f491bf4961f44e8288c782398e9dd5f5",
       "version_major": 2,
       "version_minor": 0
      },
      "text/plain": [
       "HBox(children=(FloatProgress(value=1.0, bar_style='info', max=1.0), HTML(value='')))"
      ]
     },
     "metadata": {},
     "output_type": "display_data"
    },
    {
     "name": "stdout",
     "output_type": "stream",
     "text": [
      "--> Not exactly one containing mesh: [0 2]\n",
      "\n",
      "filtered_measurements = [141.83990678 209.69797064]\n",
      "new_threshold = 365.1642876764105\n"
     ]
    },
    {
     "data": {
      "application/vnd.jupyter.widget-view+json": {
       "model_id": "8ee9db87cb864becbdd38476e8fe7a99",
       "version_major": 2,
       "version_minor": 0
      },
      "text/plain": [
       "HBox(children=(FloatProgress(value=1.0, bar_style='info', max=1.0), HTML(value='')))"
      ]
     },
     "metadata": {},
     "output_type": "display_data"
    },
    {
     "name": "stdout",
     "output_type": "stream",
     "text": [
      "\n",
      "The smallest distance (not including diagonal) = 70.80430777856195\n"
     ]
    },
    {
     "data": {
      "application/vnd.jupyter.widget-view+json": {
       "model_id": "3a05b5e0d9fb43019fbd323e4d3e0461",
       "version_major": 2,
       "version_minor": 0
      },
      "text/plain": [
       "HBox(children=(FloatProgress(value=1.0, bar_style='info', max=1.0), HTML(value='')))"
      ]
     },
     "metadata": {},
     "output_type": "display_data"
    },
    {
     "name": "stdout",
     "output_type": "stream",
     "text": [
      "--> Not exactly one containing mesh: []\n",
      "\n",
      "filtered_measurements = [ 80.27956314 189.33018745 126.89807456 155.07861638 168.45852257\n",
      "  88.48278061 147.47725691 160.27815169  82.24616705 124.3487195\n",
      " 201.36492949 172.54155755 176.10134067]\n",
      "new_threshold = 409.47205766014895\n"
     ]
    },
    {
     "data": {
      "application/vnd.jupyter.widget-view+json": {
       "model_id": "fc2794028f7546a5b8c7dc53a5d1c6ca",
       "version_major": 2,
       "version_minor": 0
      },
      "text/plain": [
       "HBox(children=(FloatProgress(value=1.0, bar_style='info', max=1.0), HTML(value='')))"
      ]
     },
     "metadata": {},
     "output_type": "display_data"
    },
    {
     "name": "stdout",
     "output_type": "stream",
     "text": [
      "--> Not exactly one containing mesh: []\n",
      "\n",
      "The smallest distance (not including diagonal) = 247.4227152061831\n"
     ]
    },
    {
     "data": {
      "application/vnd.jupyter.widget-view+json": {
       "model_id": "88b37415da7a4c89bf5ac3b39a23f922",
       "version_major": 2,
       "version_minor": 0
      },
      "text/plain": [
       "HBox(children=(FloatProgress(value=1.0, bar_style='info', max=1.0), HTML(value='')))"
      ]
     },
     "metadata": {},
     "output_type": "display_data"
    },
    {
     "name": "stdout",
     "output_type": "stream",
     "text": [
      "\n",
      "filtered_measurements = [669.42228684 706.98908033 478.51696991 583.93168097 871.92424207\n",
      " 853.08931453]\n",
      "new_threshold = 2292.3684164579554\n"
     ]
    },
    {
     "data": {
      "application/vnd.jupyter.widget-view+json": {
       "model_id": "22fa0a813f254c3c91ccc07cd1bcf624",
       "version_major": 2,
       "version_minor": 0
      },
      "text/plain": [
       "HBox(children=(FloatProgress(value=1.0, bar_style='info', max=1.0), HTML(value='')))"
      ]
     },
     "metadata": {},
     "output_type": "display_data"
    },
    {
     "name": "stdout",
     "output_type": "stream",
     "text": [
      "\n",
      "The smallest distance (not including diagonal) = 120.37441588643328\n"
     ]
    },
    {
     "data": {
      "application/vnd.jupyter.widget-view+json": {
       "model_id": "efbc03d175fb4b5d9b729c98f852ddfd",
       "version_major": 2,
       "version_minor": 0
      },
      "text/plain": [
       "HBox(children=(FloatProgress(value=1.0, bar_style='info', max=1.0), HTML(value='')))"
      ]
     },
     "metadata": {},
     "output_type": "display_data"
    },
    {
     "name": "stdout",
     "output_type": "stream",
     "text": [
      "\n",
      "filtered_measurements = [487.68234317 516.02771735 408.24097716 439.02064122 454.94744202\n",
      " 448.8522223  402.83507225 411.38014879 410.43825222 500.87503729\n",
      " 411.92705393 407.42446515 583.15822345 495.33901597 415.50717803\n",
      " 402.68680537 277.7548163  501.29887607 583.2156021  430.6049239\n",
      " 553.06356558 424.35328776 357.42678295 461.66090161 315.09217938\n",
      " 226.08439478 289.87209642 445.60607083 313.60799778 429.02976804\n",
      " 402.81330007 287.95031259 283.33014116 314.29935664 288.29659287\n",
      " 251.84355467 617.68524063 557.27295866 383.43468384 422.98902407\n",
      " 341.08938049 394.9380713  425.06462244 407.90044978 288.29405567\n",
      " 262.45962198 382.55769348 259.70854116 261.37446753 275.27006714\n",
      " 303.3969675  331.05934947 411.52451153 499.40905357 473.28060044\n",
      " 362.13881149 229.40802467]\n",
      "new_threshold = 1540.2234282957072\n"
     ]
    },
    {
     "data": {
      "application/vnd.jupyter.widget-view+json": {
       "model_id": "915434acc8c64bfea8fcba649f463294",
       "version_major": 2,
       "version_minor": 0
      },
      "text/plain": [
       "HBox(children=(FloatProgress(value=1.0, bar_style='info', max=1.0), HTML(value='')))"
      ]
     },
     "metadata": {},
     "output_type": "display_data"
    },
    {
     "name": "stdout",
     "output_type": "stream",
     "text": [
      "\n",
      "The smallest distance (not including diagonal) = 164.5265935950781\n"
     ]
    },
    {
     "data": {
      "application/vnd.jupyter.widget-view+json": {
       "model_id": "eaec3f78720e4b428b14d1495a3ebd79",
       "version_major": 2,
       "version_minor": 0
      },
      "text/plain": [
       "HBox(children=(FloatProgress(value=1.0, bar_style='info', max=1.0), HTML(value='')))"
      ]
     },
     "metadata": {},
     "output_type": "display_data"
    },
    {
     "name": "stdout",
     "output_type": "stream",
     "text": [
      "\n",
      "filtered_measurements = [183.75434798 205.84898001 246.00383833 274.49079387 180.38897348\n",
      " 204.22314673 362.46355973 274.04719454]\n",
      "new_threshold = 636.2500277952395\n"
     ]
    },
    {
     "data": {
      "application/vnd.jupyter.widget-view+json": {
       "model_id": "2812392b142a40c38d73711c5b975384",
       "version_major": 2,
       "version_minor": 0
      },
      "text/plain": [
       "HBox(children=(FloatProgress(value=1.0, bar_style='info', max=1.0), HTML(value='')))"
      ]
     },
     "metadata": {},
     "output_type": "display_data"
    },
    {
     "name": "stdout",
     "output_type": "stream",
     "text": [
      "\n",
      "The smallest distance (not including diagonal) = 46.09772228646444\n"
     ]
    },
    {
     "data": {
      "application/vnd.jupyter.widget-view+json": {
       "model_id": "e09051ceee8d48ffbf0c4b8f40c56b0c",
       "version_major": 2,
       "version_minor": 0
      },
      "text/plain": [
       "HBox(children=(FloatProgress(value=1.0, bar_style='info', max=1.0), HTML(value='')))"
      ]
     },
     "metadata": {},
     "output_type": "display_data"
    },
    {
     "name": "stdout",
     "output_type": "stream",
     "text": [
      "--> Not exactly one containing mesh: []\n",
      "\n",
      "filtered_measurements = [442.62605387 324.78700117 339.26737716 379.78636609 266.05605243\n",
      " 277.83702812 289.0645662  341.49477927 372.54352444 395.70670079\n",
      " 284.27864036 395.65439953 467.39006101 369.92890351 307.95119253\n",
      " 384.86545124 305.80871508 304.74673712 480.18636002 338.29911114\n",
      " 275.51022513 243.71256347 189.30352908 490.6634672  435.65511654\n",
      " 307.34021969 323.86052653 351.44357997 369.82189739 242.85121569\n",
      " 294.38323264 325.2301646  285.33625695 285.16097681 362.46865697\n",
      " 437.03209146 295.35327645 300.62858926 306.00019683 501.87794332\n",
      " 276.67077007 200.86589235 400.18556048 184.54313356 205.37244044\n",
      " 452.69412193 336.05765728 291.77065289 245.0543412  319.43404964\n",
      " 272.50054594 220.36831369 384.26692868 187.64544974 396.10548693\n",
      " 489.52799555 183.92286394]\n",
      "new_threshold = 1256.4557980833222\n"
     ]
    },
    {
     "data": {
      "application/vnd.jupyter.widget-view+json": {
       "model_id": "6648f96ec901481cafc732702796d061",
       "version_major": 2,
       "version_minor": 0
      },
      "text/plain": [
       "HBox(children=(FloatProgress(value=1.0, bar_style='info', max=1.0), HTML(value='')))"
      ]
     },
     "metadata": {},
     "output_type": "display_data"
    },
    {
     "name": "stdout",
     "output_type": "stream",
     "text": [
      "--> Not exactly one containing mesh: []\n",
      "\n",
      "The smallest distance (not including diagonal) = 117.90250209389112\n"
     ]
    },
    {
     "data": {
      "application/vnd.jupyter.widget-view+json": {
       "model_id": "364ad8ba20694d4db0bc5e0faf92cb1c",
       "version_major": 2,
       "version_minor": 0
      },
      "text/plain": [
       "HBox(children=(FloatProgress(value=1.0, bar_style='info', max=1.0), HTML(value='')))"
      ]
     },
     "metadata": {},
     "output_type": "display_data"
    },
    {
     "name": "stdout",
     "output_type": "stream",
     "text": [
      "\n",
      "filtered_measurements = [479.55896435 568.86528134 386.6766816  362.47299434 463.23366577]\n",
      "new_threshold = 1087.8373359253492\n"
     ]
    },
    {
     "data": {
      "application/vnd.jupyter.widget-view+json": {
       "model_id": "be916ac0405043d4b5ae689311f70cef",
       "version_major": 2,
       "version_minor": 0
      },
      "text/plain": [
       "HBox(children=(FloatProgress(value=1.0, bar_style='info', max=1.0), HTML(value='')))"
      ]
     },
     "metadata": {},
     "output_type": "display_data"
    },
    {
     "name": "stdout",
     "output_type": "stream",
     "text": [
      "\n",
      "The smallest distance (not including diagonal) = 91.48223871331527\n"
     ]
    },
    {
     "data": {
      "application/vnd.jupyter.widget-view+json": {
       "model_id": "787dae512b1f416f8d134bac14c3076d",
       "version_major": 2,
       "version_minor": 0
      },
      "text/plain": [
       "HBox(children=(FloatProgress(value=1.0, bar_style='info', max=1.0), HTML(value='')))"
      ]
     },
     "metadata": {},
     "output_type": "display_data"
    },
    {
     "name": "stdout",
     "output_type": "stream",
     "text": [
      "\n",
      "filtered_measurements = [679.86689412 507.30020064 445.65825014 498.08066498 555.8580133\n",
      " 488.17476169 424.36067479 456.02652144 485.1680856  442.23853078\n",
      " 473.79998931]\n",
      "new_threshold = 1201.6116299658024\n"
     ]
    },
    {
     "data": {
      "application/vnd.jupyter.widget-view+json": {
       "model_id": "6aadf09798f54ed493dfb8c0eb937f56",
       "version_major": 2,
       "version_minor": 0
      },
      "text/plain": [
       "HBox(children=(FloatProgress(value=1.0, bar_style='info', max=1.0), HTML(value='')))"
      ]
     },
     "metadata": {},
     "output_type": "display_data"
    },
    {
     "name": "stdout",
     "output_type": "stream",
     "text": [
      "\n",
      "The smallest distance (not including diagonal) = 96.77293009927931\n"
     ]
    },
    {
     "data": {
      "application/vnd.jupyter.widget-view+json": {
       "model_id": "3b5040b77b034941bc1620eacfc2f949",
       "version_major": 2,
       "version_minor": 0
      },
      "text/plain": [
       "HBox(children=(FloatProgress(value=1.0, bar_style='info', max=1.0), HTML(value='')))"
      ]
     },
     "metadata": {},
     "output_type": "display_data"
    },
    {
     "name": "stdout",
     "output_type": "stream",
     "text": [
      "\n",
      "filtered_measurements = [305.76702161 229.2079883  355.06479875 205.30591764 232.19401357]\n",
      "new_threshold = 744.58330957727\n"
     ]
    },
    {
     "data": {
      "application/vnd.jupyter.widget-view+json": {
       "model_id": "3a3300ca91ea444f896b23bd62ab2d18",
       "version_major": 2,
       "version_minor": 0
      },
      "text/plain": [
       "HBox(children=(FloatProgress(value=1.0, bar_style='info', max=1.0), HTML(value='')))"
      ]
     },
     "metadata": {},
     "output_type": "display_data"
    },
    {
     "name": "stdout",
     "output_type": "stream",
     "text": [
      "\n",
      "The smallest distance (not including diagonal) = 295.53003231482245\n"
     ]
    },
    {
     "data": {
      "application/vnd.jupyter.widget-view+json": {
       "model_id": "7d2a7c520dab4370a67692eda49513ed",
       "version_major": 2,
       "version_minor": 0
      },
      "text/plain": [
       "HBox(children=(FloatProgress(value=1.0, bar_style='info', max=1.0), HTML(value='')))"
      ]
     },
     "metadata": {},
     "output_type": "display_data"
    },
    {
     "name": "stdout",
     "output_type": "stream",
     "text": [
      "\n",
      "filtered_measurements = [653.44367619 582.65649701 658.4488313 ]\n",
      "new_threshold = 980.9853460812865\n"
     ]
    },
    {
     "data": {
      "application/vnd.jupyter.widget-view+json": {
       "model_id": "c85c2e7c0db444eab3388c58e588066a",
       "version_major": 2,
       "version_minor": 0
      },
      "text/plain": [
       "HBox(children=(FloatProgress(value=1.0, bar_style='info', max=1.0), HTML(value='')))"
      ]
     },
     "metadata": {},
     "output_type": "display_data"
    },
    {
     "name": "stdout",
     "output_type": "stream",
     "text": [
      "\n",
      "The smallest distance (not including diagonal) = 101.21758740456127\n"
     ]
    },
    {
     "data": {
      "application/vnd.jupyter.widget-view+json": {
       "model_id": "e47dec2d82b648dc88e9bdc90d964ef0",
       "version_major": 2,
       "version_minor": 0
      },
      "text/plain": [
       "HBox(children=(FloatProgress(value=1.0, bar_style='info', max=1.0), HTML(value='')))"
      ]
     },
     "metadata": {},
     "output_type": "display_data"
    },
    {
     "name": "stdout",
     "output_type": "stream",
     "text": [
      "--> Not exactly one containing mesh: []\n",
      "\n",
      "filtered_measurements = [689.19841503 726.21458258 775.09323878 779.52270922 854.1573028\n",
      " 987.10234895 841.78731369 659.68074919 694.77991547 758.62706873]\n",
      "new_threshold = 1626.5516387157124\n"
     ]
    },
    {
     "data": {
      "application/vnd.jupyter.widget-view+json": {
       "model_id": "8601c6aa712c495b810b2c12b4694bca",
       "version_major": 2,
       "version_minor": 0
      },
      "text/plain": [
       "HBox(children=(FloatProgress(value=1.0, bar_style='info', max=1.0), HTML(value='')))"
      ]
     },
     "metadata": {},
     "output_type": "display_data"
    },
    {
     "name": "stdout",
     "output_type": "stream",
     "text": [
      "--> Not exactly one containing mesh: []\n",
      "\n",
      "The smallest distance (not including diagonal) = 25.787593916455254\n"
     ]
    },
    {
     "data": {
      "application/vnd.jupyter.widget-view+json": {
       "model_id": "a9c44bbc510b4306b0e160db4727c466",
       "version_major": 2,
       "version_minor": 0
      },
      "text/plain": [
       "HBox(children=(FloatProgress(value=1.0, bar_style='info', max=1.0), HTML(value='')))"
      ]
     },
     "metadata": {},
     "output_type": "display_data"
    },
    {
     "name": "stdout",
     "output_type": "stream",
     "text": [
      "--> Not exactly one containing mesh: []\n",
      "--> Not exactly one containing mesh: []\n",
      "--> Not exactly one containing mesh: []\n",
      "\n",
      "filtered_measurements = [ 71.17256967 143.56620487 150.04364661  82.17401672  56.84313362\n",
      "  79.14406735  58.65782037 109.84314879 164.44040545 112.68628391\n",
      "  77.97755658  88.66233225 126.65711856  94.3237158  108.21705319\n",
      " 123.23243976  75.86898022 111.05346122]\n",
      "new_threshold = 305.892383059389\n"
     ]
    },
    {
     "data": {
      "application/vnd.jupyter.widget-view+json": {
       "model_id": "cc904b78cd65410dace409bcf7366f3e",
       "version_major": 2,
       "version_minor": 0
      },
      "text/plain": [
       "HBox(children=(FloatProgress(value=1.0, bar_style='info', max=1.0), HTML(value='')))"
      ]
     },
     "metadata": {},
     "output_type": "display_data"
    },
    {
     "name": "stdout",
     "output_type": "stream",
     "text": [
      "--> Not exactly one containing mesh: []\n",
      "--> Not exactly one containing mesh: []\n",
      "--> Not exactly one containing mesh: []\n",
      "\n",
      "The smallest distance (not including diagonal) = 52.24940191045253\n"
     ]
    },
    {
     "data": {
      "application/vnd.jupyter.widget-view+json": {
       "model_id": "a8bba0dba65c442f92e9522a648a3850",
       "version_major": 2,
       "version_minor": 0
      },
      "text/plain": [
       "HBox(children=(FloatProgress(value=1.0, bar_style='info', max=1.0), HTML(value='')))"
      ]
     },
     "metadata": {},
     "output_type": "display_data"
    },
    {
     "name": "stdout",
     "output_type": "stream",
     "text": [
      "\n",
      "filtered_measurements = [342.48133348 331.98358778 290.54516831 211.15008002 178.66153493\n",
      " 223.04814198 354.62831116 412.11524641 323.39359123 428.63359081\n",
      " 484.94537308 172.17126961 366.801148   263.14031552 209.7492455\n",
      " 315.8624654  338.26408085 354.62674253 276.00444668 290.5783538\n",
      " 232.5259282  208.23311347 303.22479494 429.00559361 179.22872303\n",
      " 403.500521   469.43157379 287.37461296 321.97188272 223.75343959\n",
      " 190.05544562 273.0177779  298.67393192 306.27553026 168.14464775]\n",
      "new_threshold = 1223.1664124923645\n"
     ]
    },
    {
     "data": {
      "application/vnd.jupyter.widget-view+json": {
       "model_id": "eba2cb051c1a4528b53ef74cf8027c0e",
       "version_major": 2,
       "version_minor": 0
      },
      "text/plain": [
       "HBox(children=(FloatProgress(value=1.0, bar_style='info', max=1.0), HTML(value='')))"
      ]
     },
     "metadata": {},
     "output_type": "display_data"
    },
    {
     "name": "stdout",
     "output_type": "stream",
     "text": [
      "\n",
      "The smallest distance (not including diagonal) = 283.45943272362626\n"
     ]
    },
    {
     "data": {
      "application/vnd.jupyter.widget-view+json": {
       "model_id": "568106b2c3d84b8289ee38910a4ca627",
       "version_major": 2,
       "version_minor": 0
      },
      "text/plain": [
       "HBox(children=(FloatProgress(value=1.0, bar_style='info', max=1.0), HTML(value='')))"
      ]
     },
     "metadata": {},
     "output_type": "display_data"
    },
    {
     "name": "stdout",
     "output_type": "stream",
     "text": [
      "\n",
      "filtered_measurements = [144.7090989  145.63440715  73.98975763  93.20776313]\n",
      "new_threshold = 363.1031220068505\n"
     ]
    },
    {
     "data": {
      "application/vnd.jupyter.widget-view+json": {
       "model_id": "a932d87c6d8c4650a80a9b3286835a3d",
       "version_major": 2,
       "version_minor": 0
      },
      "text/plain": [
       "HBox(children=(FloatProgress(value=1.0, bar_style='info', max=1.0), HTML(value='')))"
      ]
     },
     "metadata": {},
     "output_type": "display_data"
    },
    {
     "name": "stdout",
     "output_type": "stream",
     "text": [
      "--> Not exactly one containing mesh: []\n",
      "\n",
      "branch_touching_number = [6]\n",
      "branch_touching_number = [6, 1]\n",
      "most_branch_containing_piece = 0\n",
      "The smallest distance (not including diagonal) = 49.519390141664125\n"
     ]
    },
    {
     "data": {
      "application/vnd.jupyter.widget-view+json": {
       "model_id": "d04a059c92724a6caa570c9e185b477c",
       "version_major": 2,
       "version_minor": 0
      },
      "text/plain": [
       "HBox(children=(FloatProgress(value=1.0, bar_style='info', max=1.0), HTML(value='')))"
      ]
     },
     "metadata": {},
     "output_type": "display_data"
    },
    {
     "name": "stdout",
     "output_type": "stream",
     "text": [
      "\n",
      "filtered_measurements = [439.01714691 373.5101303  435.79442347 299.82201516 379.05593896\n",
      " 203.75086761 159.575603   218.04088261 408.65441632 283.52598587\n",
      " 306.78055278 351.69251818 328.30880733 178.64257234 278.22269366\n",
      " 208.41954675 199.51424676 238.37456272 152.7237849  107.01645871\n",
      "  98.74570506 123.91829683 210.50364688 191.83923084 281.55962405\n",
      " 358.87124865]\n",
      "new_threshold = 1018.9397702174745\n"
     ]
    },
    {
     "data": {
      "application/vnd.jupyter.widget-view+json": {
       "model_id": "7d1d10f222cd4970a3454e4068fa03ee",
       "version_major": 2,
       "version_minor": 0
      },
      "text/plain": [
       "HBox(children=(FloatProgress(value=1.0, bar_style='info', max=1.0), HTML(value='')))"
      ]
     },
     "metadata": {},
     "output_type": "display_data"
    },
    {
     "name": "stdout",
     "output_type": "stream",
     "text": [
      "\n",
      "The smallest distance (not including diagonal) = 266.0090411997386\n"
     ]
    },
    {
     "data": {
      "application/vnd.jupyter.widget-view+json": {
       "model_id": "b640b54228594175967ffb31c18c6508",
       "version_major": 2,
       "version_minor": 0
      },
      "text/plain": [
       "HBox(children=(FloatProgress(value=1.0, bar_style='info', max=1.0), HTML(value='')))"
      ]
     },
     "metadata": {},
     "output_type": "display_data"
    },
    {
     "name": "stdout",
     "output_type": "stream",
     "text": [
      "\n",
      "filtered_measurements = [ 865.27960678 1005.36624981]\n",
      "new_threshold = 2761.104620046533\n"
     ]
    },
    {
     "data": {
      "application/vnd.jupyter.widget-view+json": {
       "model_id": "185b093744f642449f286997959808d9",
       "version_major": 2,
       "version_minor": 0
      },
      "text/plain": [
       "HBox(children=(FloatProgress(value=1.0, bar_style='info', max=1.0), HTML(value='')))"
      ]
     },
     "metadata": {},
     "output_type": "display_data"
    },
    {
     "name": "stdout",
     "output_type": "stream",
     "text": [
      "\n",
      "The smallest distance (not including diagonal) = 22.090722034374522\n"
     ]
    },
    {
     "data": {
      "application/vnd.jupyter.widget-view+json": {
       "model_id": "80f75f7dbcba492ba142af15f7baac13",
       "version_major": 2,
       "version_minor": 0
      },
      "text/plain": [
       "HBox(children=(FloatProgress(value=1.0, bar_style='info', max=1.0), HTML(value='')))"
      ]
     },
     "metadata": {},
     "output_type": "display_data"
    },
    {
     "name": "stdout",
     "output_type": "stream",
     "text": [
      "--> Not exactly one containing mesh: []\n",
      "--> Not exactly one containing mesh: []\n",
      "\n",
      "filtered_measurements = [125.59080041  68.63363421  77.64513146  80.1096886  141.86745684\n",
      " 156.27048007 139.32296215  46.17796368  70.85126239  93.07951528]\n",
      "new_threshold = 323.69252712862647\n"
     ]
    },
    {
     "data": {
      "application/vnd.jupyter.widget-view+json": {
       "model_id": "d2b50b88b3064862abcc50795c20d422",
       "version_major": 2,
       "version_minor": 0
      },
      "text/plain": [
       "HBox(children=(FloatProgress(value=1.0, bar_style='info', max=1.0), HTML(value='')))"
      ]
     },
     "metadata": {},
     "output_type": "display_data"
    },
    {
     "name": "stdout",
     "output_type": "stream",
     "text": [
      "--> Not exactly one containing mesh: []\n",
      "--> Not exactly one containing mesh: []\n",
      "\n",
      "The smallest distance (not including diagonal) = 1105.809404915661\n"
     ]
    },
    {
     "data": {
      "application/vnd.jupyter.widget-view+json": {
       "model_id": "ddf2a0182d5445bf92f000979b5d7e5a",
       "version_major": 2,
       "version_minor": 0
      },
      "text/plain": [
       "HBox(children=(FloatProgress(value=1.0, bar_style='info', max=1.0), HTML(value='')))"
      ]
     },
     "metadata": {},
     "output_type": "display_data"
    },
    {
     "name": "stdout",
     "output_type": "stream",
     "text": [
      "--> Not exactly one containing mesh: []\n",
      "\n",
      "filtered_measurements = [1182.68226606 1331.25379275]\n",
      "new_threshold = 2820.9680630607663\n"
     ]
    },
    {
     "data": {
      "application/vnd.jupyter.widget-view+json": {
       "model_id": "3ba049ab77ed47539b744af928b37cee",
       "version_major": 2,
       "version_minor": 0
      },
      "text/plain": [
       "HBox(children=(FloatProgress(value=1.0, bar_style='info', max=1.0), HTML(value='')))"
      ]
     },
     "metadata": {},
     "output_type": "display_data"
    },
    {
     "name": "stdout",
     "output_type": "stream",
     "text": [
      "--> Not exactly one containing mesh: []\n",
      "\n",
      "The smallest distance (not including diagonal) = 988.4034854248214\n"
     ]
    },
    {
     "data": {
      "application/vnd.jupyter.widget-view+json": {
       "model_id": "5da76f20a348484095d66d85eaf1f4ee",
       "version_major": 2,
       "version_minor": 0
      },
      "text/plain": [
       "HBox(children=(FloatProgress(value=1.0, bar_style='info', max=1.0), HTML(value='')))"
      ]
     },
     "metadata": {},
     "output_type": "display_data"
    },
    {
     "name": "stdout",
     "output_type": "stream",
     "text": [
      "\n",
      "filtered_measurements = [1246.21312607]\n",
      "new_threshold = 2689.6487375010443\n"
     ]
    },
    {
     "data": {
      "application/vnd.jupyter.widget-view+json": {
       "model_id": "6859fb05fa64497d88a0c43e989c08ec",
       "version_major": 2,
       "version_minor": 0
      },
      "text/plain": [
       "HBox(children=(FloatProgress(value=1.0, bar_style='info', max=1.0), HTML(value='')))"
      ]
     },
     "metadata": {},
     "output_type": "display_data"
    },
    {
     "name": "stdout",
     "output_type": "stream",
     "text": [
      "\n",
      "The smallest distance (not including diagonal) = 1003.9048759718223\n"
     ]
    },
    {
     "data": {
      "application/vnd.jupyter.widget-view+json": {
       "model_id": "f93b939a44a1444fa734375aac8c572f",
       "version_major": 2,
       "version_minor": 0
      },
      "text/plain": [
       "HBox(children=(FloatProgress(value=1.0, bar_style='info', max=1.0), HTML(value='')))"
      ]
     },
     "metadata": {},
     "output_type": "display_data"
    },
    {
     "name": "stdout",
     "output_type": "stream",
     "text": [
      "\n",
      "filtered_measurements = [642.35581022 551.58969226]\n",
      "new_threshold = 1251.6697731026727\n"
     ]
    },
    {
     "data": {
      "application/vnd.jupyter.widget-view+json": {
       "model_id": "f13e4c9977634b5b8d2a028f02bd32d2",
       "version_major": 2,
       "version_minor": 0
      },
      "text/plain": [
       "HBox(children=(FloatProgress(value=1.0, bar_style='info', max=1.0), HTML(value='')))"
      ]
     },
     "metadata": {},
     "output_type": "display_data"
    },
    {
     "name": "stdout",
     "output_type": "stream",
     "text": [
      "\n",
      "\n",
      "Working on limb #2\n",
      "The smallest distance (not including diagonal) = 3.0\n",
      "The smallest distance (not including diagonal) = 254.12792054396542\n",
      "The smallest distance (not including diagonal) = 225.07998578283232\n",
      "The smallest distance (not including diagonal) = 297.6995129320839\n",
      "The smallest distance (not including diagonal) = 6.48074069840786\n",
      "The smallest distance (not including diagonal) = 41.97618372363071\n",
      "The smallest distance (not including diagonal) = 138.23892360692048\n",
      "The smallest distance (not including diagonal) = 263.2983099072229\n",
      "The smallest distance (not including diagonal) = 363.6344318130504\n",
      "The smallest distance (not including diagonal) = 237.54788990854033\n",
      "The smallest distance (not including diagonal) = 25.61347301710562\n",
      "The smallest distance (not including diagonal) = 132.94359706281458\n",
      "The smallest distance (not including diagonal) = 63.30876716537765\n",
      "The smallest distance (not including diagonal) = 55.0\n",
      "The smallest distance (not including diagonal) = 76.17453642788504\n",
      "The smallest distance (not including diagonal) = 126.15070352558483\n",
      "The smallest distance (not including diagonal) = 48.88762624632127\n",
      "The smallest distance (not including diagonal) = 188.90209104189398\n",
      "The smallest distance (not including diagonal) = 43.93176527297759\n",
      "The smallest distance (not including diagonal) = 129.1743008496659\n",
      "The smallest distance (not including diagonal) = 15.811388300841896\n",
      "The smallest distance (not including diagonal) = 81.25269226308751\n",
      "The smallest distance (not including diagonal) = 85.53946457629952\n",
      "The smallest distance (not including diagonal) = 16.881943016134134\n",
      "The smallest distance (not including diagonal) = 199.66471896657157\n",
      "The smallest distance (not including diagonal) = 340.37920030460145\n",
      "The smallest distance (not including diagonal) = 107.67543823918248\n",
      "The smallest distance (not including diagonal) = 3.1622776601683795\n",
      "The smallest distance (not including diagonal) = 21.470910553583888\n",
      "The smallest distance (not including diagonal) = 50.24937810560445\n",
      "The smallest distance (not including diagonal) = 4.358898943540674\n",
      "The smallest distance (not including diagonal) = 167.86929439305055\n",
      "The smallest distance (not including diagonal) = 264.7017189215061\n",
      "The smallest distance (not including diagonal) = 15.620499351813308\n",
      "The smallest distance (not including diagonal) = 192.46817918814529\n",
      "The smallest distance (not including diagonal) = 325.0661471147065\n",
      "The smallest distance (not including diagonal) = 29.8496231131986\n",
      "The smallest distance (not including diagonal) = 114.79111463872106\n",
      "The smallest distance (not including diagonal) = 3.0\n",
      "The smallest distance (not including diagonal) = 91.91844211038392\n",
      "The smallest distance (not including diagonal) = 420.1202208892117\n",
      "The smallest distance (not including diagonal) = 133.98346912967614\n",
      "The smallest distance (not including diagonal) = 54.29548784199291\n",
      "The smallest distance (not including diagonal) = 416.3195887776601\n",
      "The smallest distance (not including diagonal) = 232.21757039466243\n",
      "The smallest distance (not including diagonal) = 36.72873534441391\n",
      "The smallest distance (not including diagonal) = 212.55822731665788\n",
      "The smallest distance (not including diagonal) = 675.5474298671094\n",
      "The smallest distance (not including diagonal) = 750.1413200191015\n",
      "The smallest distance (not including diagonal) = 555.0585554696008\n",
      "The smallest distance (not including diagonal) = 605.1520470096751\n",
      "The smallest distance (not including diagonal) = 875.5895156978526\n"
     ]
    },
    {
     "data": {
      "application/vnd.jupyter.widget-view+json": {
       "model_id": "14f1ce620d214a00a7b81e2256470edc",
       "version_major": 2,
       "version_minor": 0
      },
      "text/plain": [
       "HBox(children=(FloatProgress(value=1.0, bar_style='info', max=1.0), HTML(value='')))"
      ]
     },
     "metadata": {},
     "output_type": "display_data"
    },
    {
     "name": "stdout",
     "output_type": "stream",
     "text": [
      "The smallest distance (not including diagonal) = 254.12792054396542\n"
     ]
    },
    {
     "data": {
      "application/vnd.jupyter.widget-view+json": {
       "model_id": "fe3fa2fa1e8d473484a33d9eeb4d5d16",
       "version_major": 2,
       "version_minor": 0
      },
      "text/plain": [
       "HBox(children=(FloatProgress(value=1.0, bar_style='info', max=1.0), HTML(value='')))"
      ]
     },
     "metadata": {},
     "output_type": "display_data"
    },
    {
     "name": "stdout",
     "output_type": "stream",
     "text": [
      "\n",
      "filtered_measurements = [859.37602338 788.20714948 724.77906827 708.69405433 742.55515515\n",
      " 794.06527979 797.32565706 798.96368744 847.87690456 834.47927028\n",
      " 783.08004014 727.80625983 730.10324018 759.97771266 795.26977574\n",
      " 752.74627753 758.32493968 965.45066472 762.23175129 752.82017557\n",
      " 756.35899352 756.812587   746.27889419 802.19283861 998.75040017\n",
      " 978.91064505]\n",
      "new_threshold = 1807.9760432831285\n"
     ]
    },
    {
     "data": {
      "application/vnd.jupyter.widget-view+json": {
       "model_id": "7bb288fadb884118b9b4b1b9b4af3ced",
       "version_major": 2,
       "version_minor": 0
      },
      "text/plain": [
       "HBox(children=(FloatProgress(value=1.0, bar_style='info', max=1.0), HTML(value='')))"
      ]
     },
     "metadata": {},
     "output_type": "display_data"
    },
    {
     "name": "stdout",
     "output_type": "stream",
     "text": [
      "\n",
      "The smallest distance (not including diagonal) = 225.07998578283232\n"
     ]
    },
    {
     "data": {
      "application/vnd.jupyter.widget-view+json": {
       "model_id": "4205d26158d7472c96425d49a71b1333",
       "version_major": 2,
       "version_minor": 0
      },
      "text/plain": [
       "HBox(children=(FloatProgress(value=1.0, bar_style='info', max=1.0), HTML(value='')))"
      ]
     },
     "metadata": {},
     "output_type": "display_data"
    },
    {
     "name": "stdout",
     "output_type": "stream",
     "text": [
      "\n",
      "filtered_measurements = [499.04037793 654.16992596 552.05252341 630.06000431 545.4301748\n",
      " 777.55424837 496.62536841 497.19032396 406.45888768 376.38409942\n",
      " 593.15481666 397.18909902 484.32771111 792.39084741 524.55452596\n",
      " 521.36479011 762.81960334 669.55510953 837.05267991 576.04782943\n",
      " 476.0372157  671.46775451 571.10625848 477.45873198 609.38569339\n",
      " 492.24212342 577.68589559 595.74911415 614.43525386]\n",
      "new_threshold = 1758.5715961121368\n"
     ]
    },
    {
     "data": {
      "application/vnd.jupyter.widget-view+json": {
       "model_id": "3585732f65e34a68a3d0395bbf27062f",
       "version_major": 2,
       "version_minor": 0
      },
      "text/plain": [
       "HBox(children=(FloatProgress(value=1.0, bar_style='info', max=1.0), HTML(value='')))"
      ]
     },
     "metadata": {},
     "output_type": "display_data"
    },
    {
     "name": "stdout",
     "output_type": "stream",
     "text": [
      "\n",
      "The smallest distance (not including diagonal) = 297.6995129320839\n"
     ]
    },
    {
     "data": {
      "application/vnd.jupyter.widget-view+json": {
       "model_id": "f993cb3210824e9c810b57cf206ab078",
       "version_major": 2,
       "version_minor": 0
      },
      "text/plain": [
       "HBox(children=(FloatProgress(value=1.0, bar_style='info', max=1.0), HTML(value='')))"
      ]
     },
     "metadata": {},
     "output_type": "display_data"
    },
    {
     "name": "stdout",
     "output_type": "stream",
     "text": [
      "\n",
      "filtered_measurements = [650.17063615 566.14438999 529.10046082 621.25222892 550.86943194\n",
      " 774.1130012  767.85979239 992.4203073  688.88700018 790.42316557\n",
      " 567.06973249 706.51387315 878.27015795 660.42003611]\n",
      "new_threshold = 2248.4449349395227\n"
     ]
    },
    {
     "data": {
      "application/vnd.jupyter.widget-view+json": {
       "model_id": "a61791d7119344459b174fc0a33f45bd",
       "version_major": 2,
       "version_minor": 0
      },
      "text/plain": [
       "HBox(children=(FloatProgress(value=1.0, bar_style='info', max=1.0), HTML(value='')))"
      ]
     },
     "metadata": {},
     "output_type": "display_data"
    },
    {
     "name": "stdout",
     "output_type": "stream",
     "text": [
      "\n",
      "The smallest distance (not including diagonal) = 6.48074069840786\n"
     ]
    },
    {
     "data": {
      "application/vnd.jupyter.widget-view+json": {
       "model_id": "d02d86937b2149d59d6d3215aa3e6f38",
       "version_major": 2,
       "version_minor": 0
      },
      "text/plain": [
       "HBox(children=(FloatProgress(value=1.0, bar_style='info', max=1.0), HTML(value='')))"
      ]
     },
     "metadata": {},
     "output_type": "display_data"
    },
    {
     "name": "stdout",
     "output_type": "stream",
     "text": [
      "\n",
      "filtered_measurements = [ 77.57196818 140.64966379  75.35295267 120.33030261  82.78786255\n",
      " 137.63615877 103.91072745  92.82692658  72.99697242 109.64857206\n",
      "  76.11826687  78.2855685   85.08041368  70.91191613 130.17991152]\n",
      "new_threshold = 293.3102768714563\n"
     ]
    },
    {
     "data": {
      "application/vnd.jupyter.widget-view+json": {
       "model_id": "7375b6b1e38e489f866ae68204d9c557",
       "version_major": 2,
       "version_minor": 0
      },
      "text/plain": [
       "HBox(children=(FloatProgress(value=1.0, bar_style='info', max=1.0), HTML(value='')))"
      ]
     },
     "metadata": {},
     "output_type": "display_data"
    },
    {
     "name": "stdout",
     "output_type": "stream",
     "text": [
      "--> Not exactly one containing mesh: []\n",
      "\n",
      "The smallest distance (not including diagonal) = 41.97618372363071\n"
     ]
    },
    {
     "data": {
      "application/vnd.jupyter.widget-view+json": {
       "model_id": "b1c74de52b4b42ceab276137ff446bfe",
       "version_major": 2,
       "version_minor": 0
      },
      "text/plain": [
       "HBox(children=(FloatProgress(value=1.0, bar_style='info', max=1.0), HTML(value='')))"
      ]
     },
     "metadata": {},
     "output_type": "display_data"
    },
    {
     "name": "stdout",
     "output_type": "stream",
     "text": [
      "--> Not exactly one containing mesh: []\n",
      "--> Not exactly one containing mesh: []\n",
      "\n",
      "filtered_measurements = [ 93.42577145  85.63018754  82.60841677  72.41481428 141.3948548\n",
      "  99.2496531   87.72272609  70.2131929  104.30453058 103.64601255\n",
      "  93.17678707 102.68842393  81.11964922 106.43509591 100.39873023\n",
      "  63.1755104   89.79975129  90.9841714  139.8424359   68.91177909\n",
      "  94.47738759 135.39680808  76.3917452   64.26943456 131.25136026\n",
      "  95.38063042]\n",
      "new_threshold = 284.86506879570925\n"
     ]
    },
    {
     "data": {
      "application/vnd.jupyter.widget-view+json": {
       "model_id": "2f04aa3267e4478eb69dceb23945a452",
       "version_major": 2,
       "version_minor": 0
      },
      "text/plain": [
       "HBox(children=(FloatProgress(value=1.0, bar_style='info', max=1.0), HTML(value='')))"
      ]
     },
     "metadata": {},
     "output_type": "display_data"
    },
    {
     "name": "stdout",
     "output_type": "stream",
     "text": [
      "--> Not exactly one containing mesh: []\n",
      "--> Not exactly one containing mesh: []\n",
      "--> Not exactly one containing mesh: []\n",
      "--> Not exactly one containing mesh: []\n",
      "\n",
      "branch_touching_number = [31]\n",
      "branch_touching_number = [31, 1]\n",
      "most_branch_containing_piece = 0\n",
      "The smallest distance (not including diagonal) = 138.23892360692048\n"
     ]
    },
    {
     "data": {
      "application/vnd.jupyter.widget-view+json": {
       "model_id": "204fdae7eb9947a4ab4d5d2747c4ebb1",
       "version_major": 2,
       "version_minor": 0
      },
      "text/plain": [
       "HBox(children=(FloatProgress(value=1.0, bar_style='info', max=1.0), HTML(value='')))"
      ]
     },
     "metadata": {},
     "output_type": "display_data"
    },
    {
     "name": "stdout",
     "output_type": "stream",
     "text": [
      "\n",
      "filtered_measurements = [349.44405112 314.69738549 310.54790323 337.28111576 365.04207161\n",
      " 353.79821175 359.54750132 311.29593885 349.90061966 302.39351299\n",
      " 313.4057298  290.19477372 536.1069193  272.07944171 398.38619121\n",
      " 326.23297158 393.20018457 241.89143755 228.45501956 347.96194296\n",
      " 409.66754943 447.40729352 375.64350259 379.88363116 264.16634175\n",
      " 265.2269311  266.57759577 226.32441002 420.66147735 514.66507442\n",
      " 386.10576995]\n",
      "new_threshold = 1192.0304400465952\n"
     ]
    },
    {
     "data": {
      "application/vnd.jupyter.widget-view+json": {
       "model_id": "5b938d758ec0459ba594edb024cd3d0e",
       "version_major": 2,
       "version_minor": 0
      },
      "text/plain": [
       "HBox(children=(FloatProgress(value=1.0, bar_style='info', max=1.0), HTML(value='')))"
      ]
     },
     "metadata": {},
     "output_type": "display_data"
    },
    {
     "name": "stdout",
     "output_type": "stream",
     "text": [
      "\n",
      "The smallest distance (not including diagonal) = 263.2983099072229\n"
     ]
    },
    {
     "data": {
      "application/vnd.jupyter.widget-view+json": {
       "model_id": "5225fd0d2bc1479d97a952f678c8fb76",
       "version_major": 2,
       "version_minor": 0
      },
      "text/plain": [
       "HBox(children=(FloatProgress(value=1.0, bar_style='info', max=1.0), HTML(value='')))"
      ]
     },
     "metadata": {},
     "output_type": "display_data"
    },
    {
     "name": "stdout",
     "output_type": "stream",
     "text": [
      "\n",
      "filtered_measurements = [1017.37336782  516.48739544]\n",
      "new_threshold = 2180.659057882788\n"
     ]
    },
    {
     "data": {
      "application/vnd.jupyter.widget-view+json": {
       "model_id": "0734ae0f647848839edacb61f99037c0",
       "version_major": 2,
       "version_minor": 0
      },
      "text/plain": [
       "HBox(children=(FloatProgress(value=1.0, bar_style='info', max=1.0), HTML(value='')))"
      ]
     },
     "metadata": {},
     "output_type": "display_data"
    },
    {
     "name": "stdout",
     "output_type": "stream",
     "text": [
      "\n",
      "The smallest distance (not including diagonal) = 363.6344318130504\n"
     ]
    },
    {
     "data": {
      "application/vnd.jupyter.widget-view+json": {
       "model_id": "80a50f514ade4d85a9b5be427d8d614e",
       "version_major": 2,
       "version_minor": 0
      },
      "text/plain": [
       "HBox(children=(FloatProgress(value=1.0, bar_style='info', max=1.0), HTML(value='')))"
      ]
     },
     "metadata": {},
     "output_type": "display_data"
    },
    {
     "name": "stdout",
     "output_type": "stream",
     "text": [
      "\n",
      "filtered_measurements = [798.68708488 688.91182442]\n",
      "new_threshold = 1639.927446269658\n"
     ]
    },
    {
     "data": {
      "application/vnd.jupyter.widget-view+json": {
       "model_id": "405a0868639f4aafa4589f57b326f751",
       "version_major": 2,
       "version_minor": 0
      },
      "text/plain": [
       "HBox(children=(FloatProgress(value=1.0, bar_style='info', max=1.0), HTML(value='')))"
      ]
     },
     "metadata": {},
     "output_type": "display_data"
    },
    {
     "name": "stdout",
     "output_type": "stream",
     "text": [
      "\n",
      "The smallest distance (not including diagonal) = 237.54788990854033\n"
     ]
    },
    {
     "data": {
      "application/vnd.jupyter.widget-view+json": {
       "model_id": "e82732b98a794b15b3447d557697d3f4",
       "version_major": 2,
       "version_minor": 0
      },
      "text/plain": [
       "HBox(children=(FloatProgress(value=1.0, bar_style='info', max=1.0), HTML(value='')))"
      ]
     },
     "metadata": {},
     "output_type": "display_data"
    },
    {
     "name": "stdout",
     "output_type": "stream",
     "text": [
      "\n",
      "filtered_measurements = [575.95437234 612.64428369 786.90087827 421.96548893 404.53224429\n",
      " 425.88097524 441.33326074 628.3546659  903.46524709 768.66411787\n",
      " 499.60483242 573.96237378 866.28421219 715.45170534]\n",
      "new_threshold = 1949.1233710790034\n"
     ]
    },
    {
     "data": {
      "application/vnd.jupyter.widget-view+json": {
       "model_id": "9a2abe6cb38f446dadbc7c70ad67ba77",
       "version_major": 2,
       "version_minor": 0
      },
      "text/plain": [
       "HBox(children=(FloatProgress(value=1.0, bar_style='info', max=1.0), HTML(value='')))"
      ]
     },
     "metadata": {},
     "output_type": "display_data"
    },
    {
     "name": "stdout",
     "output_type": "stream",
     "text": [
      "\n",
      "The smallest distance (not including diagonal) = 25.61347301710562\n"
     ]
    },
    {
     "data": {
      "application/vnd.jupyter.widget-view+json": {
       "model_id": "2853a7b1a26b4357be264295978a4d7e",
       "version_major": 2,
       "version_minor": 0
      },
      "text/plain": [
       "HBox(children=(FloatProgress(value=1.0, bar_style='info', max=1.0), HTML(value='')))"
      ]
     },
     "metadata": {},
     "output_type": "display_data"
    },
    {
     "name": "stdout",
     "output_type": "stream",
     "text": [
      "\n",
      "filtered_measurements = [160.88594541 137.98783932 123.18899565 129.06543009 115.6080724\n",
      "  99.95241769  97.35919579  90.44338138 114.78951169 146.79605997\n",
      " 146.1057244  101.83536971 117.22350652 158.35607453  96.6884556\n",
      " 161.74962233  91.55054968  82.96347149  95.0793044  102.81648383\n",
      " 125.43757341  70.86263461  90.16865573]\n",
      "new_threshold = 347.0282174875652\n"
     ]
    },
    {
     "data": {
      "application/vnd.jupyter.widget-view+json": {
       "model_id": "6cfb75fd517240ba8a9b751a4c523fbe",
       "version_major": 2,
       "version_minor": 0
      },
      "text/plain": [
       "HBox(children=(FloatProgress(value=1.0, bar_style='info', max=1.0), HTML(value='')))"
      ]
     },
     "metadata": {},
     "output_type": "display_data"
    },
    {
     "name": "stdout",
     "output_type": "stream",
     "text": [
      "--> Not exactly one containing mesh: []\n",
      "\n",
      "The smallest distance (not including diagonal) = 132.94359706281458\n"
     ]
    },
    {
     "data": {
      "application/vnd.jupyter.widget-view+json": {
       "model_id": "04599c4e20db4164aa301666d642a7f6",
       "version_major": 2,
       "version_minor": 0
      },
      "text/plain": [
       "HBox(children=(FloatProgress(value=1.0, bar_style='info', max=1.0), HTML(value='')))"
      ]
     },
     "metadata": {},
     "output_type": "display_data"
    },
    {
     "name": "stdout",
     "output_type": "stream",
     "text": [
      "\n",
      "filtered_measurements = [559.54990956 454.47917888 502.33315936 431.18344125 537.17470601\n",
      " 382.15591186 444.20978164 374.83249405 424.56885883 444.87184083\n",
      " 559.83747481 404.67795404 389.28849167 484.05941085 431.52207137\n",
      " 322.35536157 346.68921938 417.38262607 616.77092717 478.66632544\n",
      " 525.83505975 412.69133027 441.79079156 268.04863279 427.88685756\n",
      " 540.85413507 546.23365285 383.98085123 636.61799024 392.39110877\n",
      " 440.42970871 377.12952935 514.23947473 291.2291496  337.33648571\n",
      " 331.27898513 394.06529196 312.53348088 289.23363244 430.30219899\n",
      " 337.72832456 288.96105697 442.16222134 376.07785724 283.41894611\n",
      " 440.6751172  356.02780958 395.13070705 345.36646657]\n",
      "new_threshold = 1568.2030999329509\n"
     ]
    },
    {
     "data": {
      "application/vnd.jupyter.widget-view+json": {
       "model_id": "dc6d9c3ee9da4a9baa0d3c0d43bc7329",
       "version_major": 2,
       "version_minor": 0
      },
      "text/plain": [
       "HBox(children=(FloatProgress(value=1.0, bar_style='info', max=1.0), HTML(value='')))"
      ]
     },
     "metadata": {},
     "output_type": "display_data"
    },
    {
     "name": "stdout",
     "output_type": "stream",
     "text": [
      "\n",
      "The smallest distance (not including diagonal) = 63.30876716537765\n"
     ]
    },
    {
     "data": {
      "application/vnd.jupyter.widget-view+json": {
       "model_id": "ec086771a2dd4562a93de970bdc11323",
       "version_major": 2,
       "version_minor": 0
      },
      "text/plain": [
       "HBox(children=(FloatProgress(value=1.0, bar_style='info', max=1.0), HTML(value='')))"
      ]
     },
     "metadata": {},
     "output_type": "display_data"
    },
    {
     "name": "stdout",
     "output_type": "stream",
     "text": [
      "\n",
      "filtered_measurements = [407.81799296 368.667179   370.44763002 497.74500697 269.04903359\n",
      " 384.90118079 409.31621444 322.40476104 323.50397861 264.53362587\n",
      " 714.38885907 437.02756118 600.5322547  663.93222153 369.8168416\n",
      " 545.72597021 513.00990625]\n",
      "new_threshold = 1839.4874027129558\n"
     ]
    },
    {
     "data": {
      "application/vnd.jupyter.widget-view+json": {
       "model_id": "043fa6dc4af34bdb8cc4c064168d5936",
       "version_major": 2,
       "version_minor": 0
      },
      "text/plain": [
       "HBox(children=(FloatProgress(value=1.0, bar_style='info', max=1.0), HTML(value='')))"
      ]
     },
     "metadata": {},
     "output_type": "display_data"
    },
    {
     "name": "stdout",
     "output_type": "stream",
     "text": [
      "\n",
      "The smallest distance (not including diagonal) = 55.0\n"
     ]
    },
    {
     "data": {
      "application/vnd.jupyter.widget-view+json": {
       "model_id": "021f6af53c9642e39ac006fd9d154a4e",
       "version_major": 2,
       "version_minor": 0
      },
      "text/plain": [
       "HBox(children=(FloatProgress(value=1.0, bar_style='info', max=1.0), HTML(value='')))"
      ]
     },
     "metadata": {},
     "output_type": "display_data"
    },
    {
     "name": "stdout",
     "output_type": "stream",
     "text": [
      "--> Not exactly one containing mesh: []\n",
      "\n",
      "filtered_measurements = [ 64.00006652 150.27698467 148.61913043  87.37111566  92.22910511\n",
      "  67.23682627 112.36852869  95.42287368 102.67793472  83.96811466\n",
      " 123.49830344  87.10865572  74.51853122 137.3250576   88.57246632\n",
      "  78.2859415   93.43864438  75.0391226   96.39849797  94.5569037\n",
      "  85.17734872 126.8023476   70.74774603  85.57279099 117.86344202\n",
      " 102.09472407 103.48646729 123.96198489 118.75257019  82.35033471\n",
      " 155.8216438   96.01349023  80.27451066 148.62144575]\n",
      "new_threshold = 356.57383480134297\n"
     ]
    },
    {
     "data": {
      "application/vnd.jupyter.widget-view+json": {
       "model_id": "cb3e416f84414862b1d8bc3dd96fe529",
       "version_major": 2,
       "version_minor": 0
      },
      "text/plain": [
       "HBox(children=(FloatProgress(value=1.0, bar_style='info', max=1.0), HTML(value='')))"
      ]
     },
     "metadata": {},
     "output_type": "display_data"
    },
    {
     "name": "stdout",
     "output_type": "stream",
     "text": [
      "--> Not exactly one containing mesh: []\n",
      "--> Not exactly one containing mesh: []\n",
      "--> Not exactly one containing mesh: []\n",
      "\n",
      "branch_touching_number = [42]\n",
      "branch_touching_number = [42, 6]\n",
      "most_branch_containing_piece = 0\n",
      "The smallest distance (not including diagonal) = 76.17453642788504\n"
     ]
    },
    {
     "data": {
      "application/vnd.jupyter.widget-view+json": {
       "model_id": "25aa45eab765457fa5021ae378d53614",
       "version_major": 2,
       "version_minor": 0
      },
      "text/plain": [
       "HBox(children=(FloatProgress(value=1.0, bar_style='info', max=1.0), HTML(value='')))"
      ]
     },
     "metadata": {},
     "output_type": "display_data"
    },
    {
     "name": "stdout",
     "output_type": "stream",
     "text": [
      "--> Not exactly one containing mesh: []\n",
      "--> Not exactly one containing mesh: [0 1]\n",
      "\n",
      "filtered_measurements = [303.14231539 343.47931331 385.77788855  69.3362647   96.85265138]\n",
      "new_threshold = 965.3175872818297\n"
     ]
    },
    {
     "data": {
      "application/vnd.jupyter.widget-view+json": {
       "model_id": "e56afbabd7cf457398aba631ea6d0249",
       "version_major": 2,
       "version_minor": 0
      },
      "text/plain": [
       "HBox(children=(FloatProgress(value=1.0, bar_style='info', max=1.0), HTML(value='')))"
      ]
     },
     "metadata": {},
     "output_type": "display_data"
    },
    {
     "name": "stdout",
     "output_type": "stream",
     "text": [
      "--> Not exactly one containing mesh: []\n",
      "--> Not exactly one containing mesh: []\n",
      "--> Not exactly one containing mesh: []\n",
      "\n",
      "branch_touching_number = [7]\n",
      "branch_touching_number = [7, 2]\n",
      "most_branch_containing_piece = 0\n",
      "The smallest distance (not including diagonal) = 126.15070352558483\n"
     ]
    },
    {
     "data": {
      "application/vnd.jupyter.widget-view+json": {
       "model_id": "cd03641ce4ff4cec899aa7c75c7dc41c",
       "version_major": 2,
       "version_minor": 0
      },
      "text/plain": [
       "HBox(children=(FloatProgress(value=1.0, bar_style='info', max=1.0), HTML(value='')))"
      ]
     },
     "metadata": {},
     "output_type": "display_data"
    },
    {
     "name": "stdout",
     "output_type": "stream",
     "text": [
      "\n",
      "filtered_measurements = [515.78421707 756.6207638  460.25172378 686.42992874 643.5033483\n",
      " 508.68144576 607.11058176 518.20078545 726.77785092 865.29151832\n",
      " 578.89666357 486.22829443 626.79177324 962.18841428 389.73712611\n",
      " 359.21547981 476.9683654  923.44953061 396.00172268 423.80634602\n",
      " 583.42491862 935.1874606  761.1102906  560.07302822 549.14800593\n",
      " 610.90523657 497.07632299 867.22312615 730.68851185 948.33742734\n",
      " 612.48464062 658.39514823 408.73191747 373.26777748 666.96499326\n",
      " 495.12280219 683.59048786 811.02751868 659.22033645 557.98626186\n",
      " 644.14856468 701.62077164 386.74786109 778.97718012 484.23042459\n",
      " 537.13221054 833.94694589 687.66171274 675.33393878 486.87607983\n",
      " 708.19958049 415.53938899 505.51169995]\n",
      "new_threshold = 2476.288024705782\n"
     ]
    },
    {
     "data": {
      "application/vnd.jupyter.widget-view+json": {
       "model_id": "3387348dc7e54752811754edc80d401d",
       "version_major": 2,
       "version_minor": 0
      },
      "text/plain": [
       "HBox(children=(FloatProgress(value=1.0, bar_style='info', max=1.0), HTML(value='')))"
      ]
     },
     "metadata": {},
     "output_type": "display_data"
    },
    {
     "name": "stdout",
     "output_type": "stream",
     "text": [
      "\n",
      "The smallest distance (not including diagonal) = 48.88762624632127\n"
     ]
    },
    {
     "data": {
      "application/vnd.jupyter.widget-view+json": {
       "model_id": "c941118bcb1b4904bd002bb0c4813bbe",
       "version_major": 2,
       "version_minor": 0
      },
      "text/plain": [
       "HBox(children=(FloatProgress(value=1.0, bar_style='info', max=1.0), HTML(value='')))"
      ]
     },
     "metadata": {},
     "output_type": "display_data"
    },
    {
     "name": "stdout",
     "output_type": "stream",
     "text": [
      "--> Not exactly one containing mesh: []\n",
      "--> Not exactly one containing mesh: []\n",
      "\n",
      "branch_touching_number = [1]\n",
      "branch_touching_number = [1, 8]\n",
      "most_branch_containing_piece = 1\n",
      "filtered_measurements = [126.04774519 120.89419002 102.85929234 115.85494291 119.5847954\n",
      "  83.21365789  92.12260341]\n",
      "new_threshold = 280.4021117551382\n"
     ]
    },
    {
     "data": {
      "application/vnd.jupyter.widget-view+json": {
       "model_id": "a717385be9c347d6bd35e007bec0299c",
       "version_major": 2,
       "version_minor": 0
      },
      "text/plain": [
       "HBox(children=(FloatProgress(value=1.0, bar_style='info', max=1.0), HTML(value='')))"
      ]
     },
     "metadata": {},
     "output_type": "display_data"
    },
    {
     "name": "stdout",
     "output_type": "stream",
     "text": [
      "--> Not exactly one containing mesh: []\n",
      "--> Not exactly one containing mesh: []\n",
      "\n",
      "The smallest distance (not including diagonal) = 188.90209104189398\n"
     ]
    },
    {
     "data": {
      "application/vnd.jupyter.widget-view+json": {
       "model_id": "bc4ff455b7054722a490ffe7adaf210a",
       "version_major": 2,
       "version_minor": 0
      },
      "text/plain": [
       "HBox(children=(FloatProgress(value=1.0, bar_style='info', max=1.0), HTML(value='')))"
      ]
     },
     "metadata": {},
     "output_type": "display_data"
    },
    {
     "name": "stdout",
     "output_type": "stream",
     "text": [
      "\n",
      "filtered_measurements = [505.45870114 629.82014757 425.83445283 304.80228195]\n",
      "new_threshold = 1455.4399500577447\n"
     ]
    },
    {
     "data": {
      "application/vnd.jupyter.widget-view+json": {
       "model_id": "ebbb41aa6f194def91724d1a11df5084",
       "version_major": 2,
       "version_minor": 0
      },
      "text/plain": [
       "HBox(children=(FloatProgress(value=1.0, bar_style='info', max=1.0), HTML(value='')))"
      ]
     },
     "metadata": {},
     "output_type": "display_data"
    },
    {
     "name": "stdout",
     "output_type": "stream",
     "text": [
      "\n",
      "The smallest distance (not including diagonal) = 43.93176527297759\n"
     ]
    },
    {
     "data": {
      "application/vnd.jupyter.widget-view+json": {
       "model_id": "69c95fb42c3844958529b5e7a7dbf1f9",
       "version_major": 2,
       "version_minor": 0
      },
      "text/plain": [
       "HBox(children=(FloatProgress(value=1.0, bar_style='info', max=1.0), HTML(value='')))"
      ]
     },
     "metadata": {},
     "output_type": "display_data"
    },
    {
     "name": "stdout",
     "output_type": "stream",
     "text": [
      "--> Not exactly one containing mesh: []\n",
      "\n",
      "filtered_measurements = [108.4404519   87.19486256 102.5844107   68.41478367  66.69351382\n",
      "  98.28621779 105.13325757 103.76233118 108.75822353 108.0767134\n",
      "  88.88497453]\n",
      "new_threshold = 207.7179649181083\n"
     ]
    },
    {
     "data": {
      "application/vnd.jupyter.widget-view+json": {
       "model_id": "33ecbae3e80f4e539f9697bef28d005a",
       "version_major": 2,
       "version_minor": 0
      },
      "text/plain": [
       "HBox(children=(FloatProgress(value=1.0, bar_style='info', max=1.0), HTML(value='')))"
      ]
     },
     "metadata": {},
     "output_type": "display_data"
    },
    {
     "name": "stdout",
     "output_type": "stream",
     "text": [
      "--> Not exactly one containing mesh: []\n",
      "--> Not exactly one containing mesh: []\n",
      "\n",
      "branch_touching_number = [13]\n",
      "branch_touching_number = [13, 1]\n",
      "most_branch_containing_piece = 0\n",
      "The smallest distance (not including diagonal) = 129.1743008496659\n"
     ]
    },
    {
     "data": {
      "application/vnd.jupyter.widget-view+json": {
       "model_id": "a1cb2ec1862c4164bf76bfd730b72453",
       "version_major": 2,
       "version_minor": 0
      },
      "text/plain": [
       "HBox(children=(FloatProgress(value=1.0, bar_style='info', max=1.0), HTML(value='')))"
      ]
     },
     "metadata": {},
     "output_type": "display_data"
    },
    {
     "name": "stdout",
     "output_type": "stream",
     "text": [
      "\n",
      "filtered_measurements = [165.59265658 188.62370891 198.31508413 167.85332323 182.90202669\n",
      " 230.741673   342.87006709 251.93368225 265.34687682 243.9314671\n",
      " 234.74653727 264.88692506 229.63758214 192.63307282 310.93851322\n",
      " 371.36535299 228.42209982 276.63461111 282.24584511]\n",
      "new_threshold = 862.2146242300148\n"
     ]
    },
    {
     "data": {
      "application/vnd.jupyter.widget-view+json": {
       "model_id": "a17a522c12f146aeb0444dd9393bd308",
       "version_major": 2,
       "version_minor": 0
      },
      "text/plain": [
       "HBox(children=(FloatProgress(value=1.0, bar_style='info', max=1.0), HTML(value='')))"
      ]
     },
     "metadata": {},
     "output_type": "display_data"
    },
    {
     "name": "stdout",
     "output_type": "stream",
     "text": [
      "\n",
      "The smallest distance (not including diagonal) = 15.811388300841896\n"
     ]
    },
    {
     "data": {
      "application/vnd.jupyter.widget-view+json": {
       "model_id": "8e2b471656c845a09dac37b57fe26135",
       "version_major": 2,
       "version_minor": 0
      },
      "text/plain": [
       "HBox(children=(FloatProgress(value=1.0, bar_style='info', max=1.0), HTML(value='')))"
      ]
     },
     "metadata": {},
     "output_type": "display_data"
    },
    {
     "name": "stdout",
     "output_type": "stream",
     "text": [
      "--> Not exactly one containing mesh: []\n",
      "--> Not exactly one containing mesh: [0 2]\n",
      "--> Not exactly one containing mesh: [0 1]\n",
      "--> Not exactly one containing mesh: []\n",
      "--> Not exactly one containing mesh: []\n",
      "\n",
      "branch_touching_number = [41]\n",
      "branch_touching_number = [41, 5]\n",
      "most_branch_containing_piece = 0\n",
      "filtered_measurements = [ 78.08251311  96.73501526 106.42505804  80.95480425 166.9041895\n",
      " 102.61158303  93.41625962 128.76590588  80.80511351 137.91792549\n",
      "  86.53151675  99.88581146 114.07229876 108.28133755  97.26139384\n",
      "  80.49805315 110.63959416  79.86465176 114.61265234  84.96377679\n",
      " 114.6023327  108.42992378  78.2685599   90.02655607  60.54327935\n",
      "  86.38940016 111.80042854 114.30216244 143.02583416 160.2177294\n",
      " 161.99832619 124.37334754  97.02746821 115.20214966 157.72978227]\n",
      "new_threshold = 398.30546150593216\n"
     ]
    },
    {
     "data": {
      "application/vnd.jupyter.widget-view+json": {
       "model_id": "4e246f0ca5e24e1eaa0ba2bddf25d00f",
       "version_major": 2,
       "version_minor": 0
      },
      "text/plain": [
       "HBox(children=(FloatProgress(value=1.0, bar_style='info', max=1.0), HTML(value='')))"
      ]
     },
     "metadata": {},
     "output_type": "display_data"
    },
    {
     "name": "stdout",
     "output_type": "stream",
     "text": [
      "THERE WERE NO FACES THAT FIT THE DISTANCE (398.30546150593216) and Z transform requirements\n",
      "So just skipping this edge\n",
      "THERE WERE NO FACES THAT FIT THE DISTANCE (398.30546150593216) and Z transform requirements\n",
      "So just skipping this edge\n",
      "THERE WERE NO FACES THAT FIT THE DISTANCE (398.30546150593216) and Z transform requirements\n",
      "So just skipping this edge\n",
      "THERE WERE NO FACES THAT FIT THE DISTANCE (398.30546150593216) and Z transform requirements\n",
      "So just skipping this edge\n",
      "THERE WERE NO FACES THAT FIT THE DISTANCE (398.30546150593216) and Z transform requirements\n",
      "So just skipping this edge\n",
      "--> Not exactly one containing mesh: []\n",
      "--> Not exactly one containing mesh: []\n",
      "\n",
      "The smallest distance (not including diagonal) = 81.25269226308751\n"
     ]
    },
    {
     "data": {
      "application/vnd.jupyter.widget-view+json": {
       "model_id": "f44ada74a5df465581d1c6b670903f10",
       "version_major": 2,
       "version_minor": 0
      },
      "text/plain": [
       "HBox(children=(FloatProgress(value=1.0, bar_style='info', max=1.0), HTML(value='')))"
      ]
     },
     "metadata": {},
     "output_type": "display_data"
    },
    {
     "name": "stdout",
     "output_type": "stream",
     "text": [
      "--> Not exactly one containing mesh: [0 1]\n",
      "\n",
      "filtered_measurements = [246.41853272 125.4025237 ]\n",
      "new_threshold = 453.9280472214226\n"
     ]
    },
    {
     "data": {
      "application/vnd.jupyter.widget-view+json": {
       "model_id": "b6722a20732d4c4aa600fc33638c53ba",
       "version_major": 2,
       "version_minor": 0
      },
      "text/plain": [
       "HBox(children=(FloatProgress(value=1.0, bar_style='info', max=1.0), HTML(value='')))"
      ]
     },
     "metadata": {},
     "output_type": "display_data"
    },
    {
     "name": "stdout",
     "output_type": "stream",
     "text": [
      "--> Not exactly one containing mesh: []\n",
      "\n",
      "The smallest distance (not including diagonal) = 85.53946457629952\n"
     ]
    },
    {
     "data": {
      "application/vnd.jupyter.widget-view+json": {
       "model_id": "7ef70d51a8d34f61afeabb29cb22550c",
       "version_major": 2,
       "version_minor": 0
      },
      "text/plain": [
       "HBox(children=(FloatProgress(value=1.0, bar_style='info', max=1.0), HTML(value='')))"
      ]
     },
     "metadata": {},
     "output_type": "display_data"
    },
    {
     "name": "stdout",
     "output_type": "stream",
     "text": [
      "--> Not exactly one containing mesh: []\n",
      "\n",
      "filtered_measurements = [222.60124046 284.25745347 204.93344685 190.93970786 163.96743606\n",
      " 161.42051337 218.41954407 272.45570795 225.29150392 202.33184569\n",
      " 177.24525254 172.48470684 174.61735599 174.7290259  166.16160536\n",
      " 177.09573797 200.01697639 184.08461026 202.35262751 195.07894212\n",
      " 236.75496057 250.99903371 258.90867791 247.13958041 253.75737582\n",
      " 187.01219562 170.81665789 283.57605236]\n",
      "new_threshold = 661.9631404487557\n"
     ]
    },
    {
     "data": {
      "application/vnd.jupyter.widget-view+json": {
       "model_id": "b8553fa393404a5886804f988d977acf",
       "version_major": 2,
       "version_minor": 0
      },
      "text/plain": [
       "HBox(children=(FloatProgress(value=1.0, bar_style='info', max=1.0), HTML(value='')))"
      ]
     },
     "metadata": {},
     "output_type": "display_data"
    },
    {
     "name": "stdout",
     "output_type": "stream",
     "text": [
      "--> Not exactly one containing mesh: []\n",
      "\n",
      "The smallest distance (not including diagonal) = 16.881943016134134\n"
     ]
    },
    {
     "data": {
      "application/vnd.jupyter.widget-view+json": {
       "model_id": "f6d0ae552ec24018961856bb08a72dfc",
       "version_major": 2,
       "version_minor": 0
      },
      "text/plain": [
       "HBox(children=(FloatProgress(value=1.0, bar_style='info', max=1.0), HTML(value='')))"
      ]
     },
     "metadata": {},
     "output_type": "display_data"
    },
    {
     "name": "stdout",
     "output_type": "stream",
     "text": [
      "\n",
      "filtered_measurements = [105.42848663 120.48989319 112.09727672 117.22489343  98.78454537\n",
      "  97.17288292  99.36589846 158.26412575]\n",
      "new_threshold = 283.39689230432305\n"
     ]
    },
    {
     "data": {
      "application/vnd.jupyter.widget-view+json": {
       "model_id": "aa06a0b939a648daba5eef9accb2acab",
       "version_major": 2,
       "version_minor": 0
      },
      "text/plain": [
       "HBox(children=(FloatProgress(value=1.0, bar_style='info', max=1.0), HTML(value='')))"
      ]
     },
     "metadata": {},
     "output_type": "display_data"
    },
    {
     "name": "stdout",
     "output_type": "stream",
     "text": [
      "\n",
      "The smallest distance (not including diagonal) = 199.66471896657157\n"
     ]
    },
    {
     "data": {
      "application/vnd.jupyter.widget-view+json": {
       "model_id": "7f1d29da192849e4aa40810105b792f7",
       "version_major": 2,
       "version_minor": 0
      },
      "text/plain": [
       "HBox(children=(FloatProgress(value=1.0, bar_style='info', max=1.0), HTML(value='')))"
      ]
     },
     "metadata": {},
     "output_type": "display_data"
    },
    {
     "name": "stdout",
     "output_type": "stream",
     "text": [
      "\n",
      "filtered_measurements = [121.53517516]\n",
      "new_threshold = 219.17996567916768\n"
     ]
    },
    {
     "data": {
      "application/vnd.jupyter.widget-view+json": {
       "model_id": "dd18844eb7f94b5a8e413ae12ef9895e",
       "version_major": 2,
       "version_minor": 0
      },
      "text/plain": [
       "HBox(children=(FloatProgress(value=1.0, bar_style='info', max=1.0), HTML(value='')))"
      ]
     },
     "metadata": {},
     "output_type": "display_data"
    },
    {
     "name": "stdout",
     "output_type": "stream",
     "text": [
      "\n",
      "The smallest distance (not including diagonal) = 340.37920030460145\n"
     ]
    },
    {
     "data": {
      "application/vnd.jupyter.widget-view+json": {
       "model_id": "f5383527b36545d3bdd787679fb24d4e",
       "version_major": 2,
       "version_minor": 0
      },
      "text/plain": [
       "HBox(children=(FloatProgress(value=1.0, bar_style='info', max=1.0), HTML(value='')))"
      ]
     },
     "metadata": {},
     "output_type": "display_data"
    },
    {
     "name": "stdout",
     "output_type": "stream",
     "text": [
      "\n",
      "filtered_measurements = [ 313.44347417  813.294046   1011.22527024]\n",
      "new_threshold = 2225.827408355023\n"
     ]
    },
    {
     "data": {
      "application/vnd.jupyter.widget-view+json": {
       "model_id": "254314eb545c40039b8cd93faacdc1e5",
       "version_major": 2,
       "version_minor": 0
      },
      "text/plain": [
       "HBox(children=(FloatProgress(value=1.0, bar_style='info', max=1.0), HTML(value='')))"
      ]
     },
     "metadata": {},
     "output_type": "display_data"
    },
    {
     "name": "stdout",
     "output_type": "stream",
     "text": [
      "\n",
      "The smallest distance (not including diagonal) = 107.67543823918248\n"
     ]
    },
    {
     "data": {
      "application/vnd.jupyter.widget-view+json": {
       "model_id": "425de7226e774e5fbf8c38329a1046f2",
       "version_major": 2,
       "version_minor": 0
      },
      "text/plain": [
       "HBox(children=(FloatProgress(value=1.0, bar_style='info', max=1.0), HTML(value='')))"
      ]
     },
     "metadata": {},
     "output_type": "display_data"
    },
    {
     "name": "stdout",
     "output_type": "stream",
     "text": [
      "\n",
      "filtered_measurements = [168.69804905 104.03432315 123.58790543 153.5898207  191.94121958\n",
      " 256.39597613]\n",
      "new_threshold = 515.1461773541782\n"
     ]
    },
    {
     "data": {
      "application/vnd.jupyter.widget-view+json": {
       "model_id": "7e46e0e34e62486c924da43607796781",
       "version_major": 2,
       "version_minor": 0
      },
      "text/plain": [
       "HBox(children=(FloatProgress(value=1.0, bar_style='info', max=1.0), HTML(value='')))"
      ]
     },
     "metadata": {},
     "output_type": "display_data"
    },
    {
     "name": "stdout",
     "output_type": "stream",
     "text": [
      "\n",
      "The smallest distance (not including diagonal) = 3.1622776601683795\n"
     ]
    },
    {
     "data": {
      "application/vnd.jupyter.widget-view+json": {
       "model_id": "06bdedd0f7a04f9fafdb60b36abd3471",
       "version_major": 2,
       "version_minor": 0
      },
      "text/plain": [
       "HBox(children=(FloatProgress(value=1.0, bar_style='info', max=1.0), HTML(value='')))"
      ]
     },
     "metadata": {},
     "output_type": "display_data"
    },
    {
     "name": "stdout",
     "output_type": "stream",
     "text": [
      "\n",
      "filtered_measurements = [ 95.5154233   95.39686696  86.89879239 133.94103349  75.29166303\n",
      "  99.06207054 101.90760234 128.32455396  81.69906731 117.35660733\n",
      "  94.6273273 ]\n",
      "new_threshold = 267.01075742778244\n"
     ]
    },
    {
     "data": {
      "application/vnd.jupyter.widget-view+json": {
       "model_id": "88ce62bbe71c4ff683c994b61515ed1f",
       "version_major": 2,
       "version_minor": 0
      },
      "text/plain": [
       "HBox(children=(FloatProgress(value=1.0, bar_style='info', max=1.0), HTML(value='')))"
      ]
     },
     "metadata": {},
     "output_type": "display_data"
    },
    {
     "name": "stdout",
     "output_type": "stream",
     "text": [
      "\n",
      "The smallest distance (not including diagonal) = 21.470910553583888\n"
     ]
    },
    {
     "data": {
      "application/vnd.jupyter.widget-view+json": {
       "model_id": "f86fdd9d1241408c89981a6549246b25",
       "version_major": 2,
       "version_minor": 0
      },
      "text/plain": [
       "HBox(children=(FloatProgress(value=1.0, bar_style='info', max=1.0), HTML(value='')))"
      ]
     },
     "metadata": {},
     "output_type": "display_data"
    },
    {
     "name": "stdout",
     "output_type": "stream",
     "text": [
      "--> Not exactly one containing mesh: []\n",
      "--> Not exactly one containing mesh: []\n",
      "\n",
      "branch_touching_number = [5]\n",
      "branch_touching_number = [5, 6]\n",
      "most_branch_containing_piece = 1\n",
      "filtered_measurements = [131.13619571  74.09271411  79.33213393  95.8271684  156.6000472 ]\n",
      "new_threshold = 307.4710644348914\n"
     ]
    },
    {
     "data": {
      "application/vnd.jupyter.widget-view+json": {
       "model_id": "53963b0b83be46dcab8b62a7a48d0366",
       "version_major": 2,
       "version_minor": 0
      },
      "text/plain": [
       "HBox(children=(FloatProgress(value=1.0, bar_style='info', max=1.0), HTML(value='')))"
      ]
     },
     "metadata": {},
     "output_type": "display_data"
    },
    {
     "name": "stdout",
     "output_type": "stream",
     "text": [
      "--> Not exactly one containing mesh: []\n",
      "--> Not exactly one containing mesh: []\n",
      "THERE WERE NO FACES THAT FIT THE DISTANCE (307.4710644348914) and Z transform requirements\n",
      "So just skipping this edge\n",
      "THERE WERE NO FACES THAT FIT THE DISTANCE (307.4710644348914) and Z transform requirements\n",
      "So just skipping this edge\n",
      "THERE WERE NO FACES THAT FIT THE DISTANCE (307.4710644348914) and Z transform requirements\n",
      "So just skipping this edge\n",
      "THERE WERE NO FACES THAT FIT THE DISTANCE (307.4710644348914) and Z transform requirements\n",
      "So just skipping this edge\n",
      "\n",
      "The smallest distance (not including diagonal) = 50.24937810560445\n"
     ]
    },
    {
     "data": {
      "application/vnd.jupyter.widget-view+json": {
       "model_id": "b0f8290bd4ff46c29b511861e6b0e657",
       "version_major": 2,
       "version_minor": 0
      },
      "text/plain": [
       "HBox(children=(FloatProgress(value=1.0, bar_style='info', max=1.0), HTML(value='')))"
      ]
     },
     "metadata": {},
     "output_type": "display_data"
    },
    {
     "name": "stdout",
     "output_type": "stream",
     "text": [
      "\n",
      "filtered_measurements = [304.20068179 231.52646247 243.9137468  220.59916813 206.50375832\n",
      " 230.4358636  271.43897593 205.37645065 198.58347855 217.37117222\n",
      " 196.16363359 190.05281313 192.05046259 191.01565121 198.50255624\n",
      " 183.51669456 185.82576212 205.48401463 211.04465117 254.95770001\n",
      " 215.68728036 245.77271689 216.74975239 180.11490215 244.31476423\n",
      " 236.07421315 247.78226318 316.0872781 ]\n",
      "new_threshold = 567.2519146072166\n"
     ]
    },
    {
     "data": {
      "application/vnd.jupyter.widget-view+json": {
       "model_id": "97ce4425757c473d98ae509dc0c8b0b5",
       "version_major": 2,
       "version_minor": 0
      },
      "text/plain": [
       "HBox(children=(FloatProgress(value=1.0, bar_style='info', max=1.0), HTML(value='')))"
      ]
     },
     "metadata": {},
     "output_type": "display_data"
    },
    {
     "name": "stdout",
     "output_type": "stream",
     "text": [
      "\n",
      "The smallest distance (not including diagonal) = 4.358898943540674\n"
     ]
    },
    {
     "data": {
      "application/vnd.jupyter.widget-view+json": {
       "model_id": "9f0854a139a14aa796121513e8fb64fc",
       "version_major": 2,
       "version_minor": 0
      },
      "text/plain": [
       "HBox(children=(FloatProgress(value=1.0, bar_style='info', max=1.0), HTML(value='')))"
      ]
     },
     "metadata": {},
     "output_type": "display_data"
    },
    {
     "name": "stdout",
     "output_type": "stream",
     "text": [
      "--> Not exactly one containing mesh: []\n",
      "\n",
      "filtered_measurements = [169.0644721  110.2545969  138.32632226 104.4512113   99.0726938\n",
      " 101.09846239  57.57339079 114.6091278  196.05775076 128.23105299\n",
      " 131.30077142 138.67339439 113.88952948]\n",
      "new_threshold = 470.66392923339424\n"
     ]
    },
    {
     "data": {
      "application/vnd.jupyter.widget-view+json": {
       "model_id": "3bc446159156454099e5180d7f928c8f",
       "version_major": 2,
       "version_minor": 0
      },
      "text/plain": [
       "HBox(children=(FloatProgress(value=1.0, bar_style='info', max=1.0), HTML(value='')))"
      ]
     },
     "metadata": {},
     "output_type": "display_data"
    },
    {
     "name": "stdout",
     "output_type": "stream",
     "text": [
      "--> Not exactly one containing mesh: []\n",
      "\n",
      "The smallest distance (not including diagonal) = 167.86929439305055\n"
     ]
    },
    {
     "data": {
      "application/vnd.jupyter.widget-view+json": {
       "model_id": "ce4e680207e2448c960fbfe7b4d4d1da",
       "version_major": 2,
       "version_minor": 0
      },
      "text/plain": [
       "HBox(children=(FloatProgress(value=1.0, bar_style='info', max=1.0), HTML(value='')))"
      ]
     },
     "metadata": {},
     "output_type": "display_data"
    },
    {
     "name": "stdout",
     "output_type": "stream",
     "text": [
      "--> Not exactly one containing mesh: []\n",
      "\n",
      "filtered_measurements = [510.70972106 507.28917248]\n",
      "new_threshold = 1114.296924227967\n"
     ]
    },
    {
     "data": {
      "application/vnd.jupyter.widget-view+json": {
       "model_id": "7a10bae3bf10429a9d9cc8a38b0e2b7c",
       "version_major": 2,
       "version_minor": 0
      },
      "text/plain": [
       "HBox(children=(FloatProgress(value=1.0, bar_style='info', max=1.0), HTML(value='')))"
      ]
     },
     "metadata": {},
     "output_type": "display_data"
    },
    {
     "name": "stdout",
     "output_type": "stream",
     "text": [
      "--> Not exactly one containing mesh: []\n",
      "\n",
      "The smallest distance (not including diagonal) = 264.7017189215061\n"
     ]
    },
    {
     "data": {
      "application/vnd.jupyter.widget-view+json": {
       "model_id": "5b3da69aaf2444c6936b04d31c982aca",
       "version_major": 2,
       "version_minor": 0
      },
      "text/plain": [
       "HBox(children=(FloatProgress(value=1.0, bar_style='info', max=1.0), HTML(value='')))"
      ]
     },
     "metadata": {},
     "output_type": "display_data"
    },
    {
     "name": "stdout",
     "output_type": "stream",
     "text": [
      "\n",
      "filtered_measurements = [1473.04664224 1358.44715232 1625.97533757]\n",
      "new_threshold = 3115.8253287438665\n"
     ]
    },
    {
     "data": {
      "application/vnd.jupyter.widget-view+json": {
       "model_id": "fc85751d58dd4dd097ee3bd5e7773628",
       "version_major": 2,
       "version_minor": 0
      },
      "text/plain": [
       "HBox(children=(FloatProgress(value=1.0, bar_style='info', max=1.0), HTML(value='')))"
      ]
     },
     "metadata": {},
     "output_type": "display_data"
    },
    {
     "name": "stdout",
     "output_type": "stream",
     "text": [
      "\n",
      "The smallest distance (not including diagonal) = 15.620499351813308\n"
     ]
    },
    {
     "data": {
      "application/vnd.jupyter.widget-view+json": {
       "model_id": "98208af413a64baaa1fb5d08e6e91cb4",
       "version_major": 2,
       "version_minor": 0
      },
      "text/plain": [
       "HBox(children=(FloatProgress(value=1.0, bar_style='info', max=1.0), HTML(value='')))"
      ]
     },
     "metadata": {},
     "output_type": "display_data"
    },
    {
     "name": "stdout",
     "output_type": "stream",
     "text": [
      "--> Not exactly one containing mesh: [0 1]\n",
      "\n",
      "filtered_measurements = [346.5877217  269.74172608 322.94722514]\n",
      "new_threshold = 663.0599955793623\n"
     ]
    },
    {
     "data": {
      "application/vnd.jupyter.widget-view+json": {
       "model_id": "c738b905e71b44c6a64fc4d899c9a060",
       "version_major": 2,
       "version_minor": 0
      },
      "text/plain": [
       "HBox(children=(FloatProgress(value=1.0, bar_style='info', max=1.0), HTML(value='')))"
      ]
     },
     "metadata": {},
     "output_type": "display_data"
    },
    {
     "name": "stdout",
     "output_type": "stream",
     "text": [
      "--> Not exactly one containing mesh: []\n",
      "\n",
      "branch_touching_number = [2]\n",
      "branch_touching_number = [2, 4]\n",
      "most_branch_containing_piece = 1\n",
      "The smallest distance (not including diagonal) = 192.46817918814529\n"
     ]
    },
    {
     "data": {
      "application/vnd.jupyter.widget-view+json": {
       "model_id": "757de829b88c43c6bd4545797346a826",
       "version_major": 2,
       "version_minor": 0
      },
      "text/plain": [
       "HBox(children=(FloatProgress(value=1.0, bar_style='info', max=1.0), HTML(value='')))"
      ]
     },
     "metadata": {},
     "output_type": "display_data"
    },
    {
     "name": "stdout",
     "output_type": "stream",
     "text": [
      "\n",
      "filtered_measurements = [1205.89370169  896.18670295]\n",
      "new_threshold = 2496.3714200405366\n"
     ]
    },
    {
     "data": {
      "application/vnd.jupyter.widget-view+json": {
       "model_id": "803d02dba31a401c846eaecc95bc6e0e",
       "version_major": 2,
       "version_minor": 0
      },
      "text/plain": [
       "HBox(children=(FloatProgress(value=1.0, bar_style='info', max=1.0), HTML(value='')))"
      ]
     },
     "metadata": {},
     "output_type": "display_data"
    },
    {
     "name": "stdout",
     "output_type": "stream",
     "text": [
      "\n",
      "The smallest distance (not including diagonal) = 325.0661471147065\n"
     ]
    },
    {
     "data": {
      "application/vnd.jupyter.widget-view+json": {
       "model_id": "92d45ee57b6042adbecfc46882f8370c",
       "version_major": 2,
       "version_minor": 0
      },
      "text/plain": [
       "HBox(children=(FloatProgress(value=1.0, bar_style='info', max=1.0), HTML(value='')))"
      ]
     },
     "metadata": {},
     "output_type": "display_data"
    },
    {
     "name": "stdout",
     "output_type": "stream",
     "text": [
      "--> Not exactly one containing mesh: [1 2]\n",
      "\n",
      "filtered_measurements = [511.35559166 354.80774725 580.75412833]\n",
      "new_threshold = 1383.398692037366\n"
     ]
    },
    {
     "data": {
      "application/vnd.jupyter.widget-view+json": {
       "model_id": "e8eb08e2f77d40b1a38a398c48ffb84a",
       "version_major": 2,
       "version_minor": 0
      },
      "text/plain": [
       "HBox(children=(FloatProgress(value=1.0, bar_style='info', max=1.0), HTML(value='')))"
      ]
     },
     "metadata": {},
     "output_type": "display_data"
    },
    {
     "name": "stdout",
     "output_type": "stream",
     "text": [
      "\n",
      "The smallest distance (not including diagonal) = 29.8496231131986\n"
     ]
    },
    {
     "data": {
      "application/vnd.jupyter.widget-view+json": {
       "model_id": "118c3948037b4e76b4fbd51c04bee9a4",
       "version_major": 2,
       "version_minor": 0
      },
      "text/plain": [
       "HBox(children=(FloatProgress(value=1.0, bar_style='info', max=1.0), HTML(value='')))"
      ]
     },
     "metadata": {},
     "output_type": "display_data"
    },
    {
     "name": "stdout",
     "output_type": "stream",
     "text": [
      "\n",
      "filtered_measurements = [371.85115337 595.75190266 176.43107938 148.9869462 ]\n",
      "new_threshold = 1601.0775106276692\n"
     ]
    },
    {
     "data": {
      "application/vnd.jupyter.widget-view+json": {
       "model_id": "d338da9deab542a085802353d118cd79",
       "version_major": 2,
       "version_minor": 0
      },
      "text/plain": [
       "HBox(children=(FloatProgress(value=1.0, bar_style='info', max=1.0), HTML(value='')))"
      ]
     },
     "metadata": {},
     "output_type": "display_data"
    },
    {
     "name": "stdout",
     "output_type": "stream",
     "text": [
      "\n",
      "The smallest distance (not including diagonal) = 114.79111463872106\n"
     ]
    },
    {
     "data": {
      "application/vnd.jupyter.widget-view+json": {
       "model_id": "e6521243f4fd40bd9ac93f850aee260a",
       "version_major": 2,
       "version_minor": 0
      },
      "text/plain": [
       "HBox(children=(FloatProgress(value=1.0, bar_style='info', max=1.0), HTML(value='')))"
      ]
     },
     "metadata": {},
     "output_type": "display_data"
    },
    {
     "name": "stdout",
     "output_type": "stream",
     "text": [
      "\n",
      "filtered_measurements = [103.4347631  108.84520145 140.26466205 123.25384347  88.1114663 ]\n",
      "new_threshold = 265.2588450068372\n"
     ]
    },
    {
     "data": {
      "application/vnd.jupyter.widget-view+json": {
       "model_id": "5547c594e2f74d008f50c11a9283b455",
       "version_major": 2,
       "version_minor": 0
      },
      "text/plain": [
       "HBox(children=(FloatProgress(value=1.0, bar_style='info', max=1.0), HTML(value='')))"
      ]
     },
     "metadata": {},
     "output_type": "display_data"
    },
    {
     "name": "stdout",
     "output_type": "stream",
     "text": [
      "--> Not exactly one containing mesh: []\n",
      "\n",
      "branch_touching_number = [5]\n",
      "branch_touching_number = [5, 4]\n",
      "most_branch_containing_piece = 0\n",
      "The smallest distance (not including diagonal) = 3.0\n"
     ]
    },
    {
     "data": {
      "application/vnd.jupyter.widget-view+json": {
       "model_id": "f6b60070b7624455ac7c5765db6ca8e4",
       "version_major": 2,
       "version_minor": 0
      },
      "text/plain": [
       "HBox(children=(FloatProgress(value=1.0, bar_style='info', max=1.0), HTML(value='')))"
      ]
     },
     "metadata": {},
     "output_type": "display_data"
    },
    {
     "name": "stdout",
     "output_type": "stream",
     "text": [
      "\n",
      "filtered_measurements = [ 90.16322512 129.13775982  92.65738661  92.01181021  90.31747719\n",
      " 104.63305714 147.34999701 121.84752476 132.53649252 187.88883586]\n",
      "new_threshold = 418.0090518853217\n"
     ]
    },
    {
     "data": {
      "application/vnd.jupyter.widget-view+json": {
       "model_id": "68726cc7128c43b89221134b6654611d",
       "version_major": 2,
       "version_minor": 0
      },
      "text/plain": [
       "HBox(children=(FloatProgress(value=1.0, bar_style='info', max=1.0), HTML(value='')))"
      ]
     },
     "metadata": {},
     "output_type": "display_data"
    },
    {
     "name": "stdout",
     "output_type": "stream",
     "text": [
      "\n",
      "The smallest distance (not including diagonal) = 91.91844211038392\n"
     ]
    },
    {
     "data": {
      "application/vnd.jupyter.widget-view+json": {
       "model_id": "56985d85f11949c2805da6473011fd8e",
       "version_major": 2,
       "version_minor": 0
      },
      "text/plain": [
       "HBox(children=(FloatProgress(value=1.0, bar_style='info', max=1.0), HTML(value='')))"
      ]
     },
     "metadata": {},
     "output_type": "display_data"
    },
    {
     "name": "stdout",
     "output_type": "stream",
     "text": [
      "\n",
      "filtered_measurements = [239.22494023]\n",
      "new_threshold = 521.5210870119014\n"
     ]
    },
    {
     "data": {
      "application/vnd.jupyter.widget-view+json": {
       "model_id": "6af844ec1af146319c58ecbcf5ffdbb7",
       "version_major": 2,
       "version_minor": 0
      },
      "text/plain": [
       "HBox(children=(FloatProgress(value=1.0, bar_style='info', max=1.0), HTML(value='')))"
      ]
     },
     "metadata": {},
     "output_type": "display_data"
    },
    {
     "name": "stdout",
     "output_type": "stream",
     "text": [
      "\n",
      "The smallest distance (not including diagonal) = 420.1202208892117\n"
     ]
    },
    {
     "data": {
      "application/vnd.jupyter.widget-view+json": {
       "model_id": "6251a19e316b4eca8edbd595108098a9",
       "version_major": 2,
       "version_minor": 0
      },
      "text/plain": [
       "HBox(children=(FloatProgress(value=1.0, bar_style='info', max=1.0), HTML(value='')))"
      ]
     },
     "metadata": {},
     "output_type": "display_data"
    },
    {
     "name": "stdout",
     "output_type": "stream",
     "text": [
      "\n",
      "filtered_measurements = [858.10469464 906.85271391]\n",
      "new_threshold = 2151.8170320619342\n"
     ]
    },
    {
     "data": {
      "application/vnd.jupyter.widget-view+json": {
       "model_id": "7b8e548e10a04f3197fa8bf059e7118c",
       "version_major": 2,
       "version_minor": 0
      },
      "text/plain": [
       "HBox(children=(FloatProgress(value=1.0, bar_style='info', max=1.0), HTML(value='')))"
      ]
     },
     "metadata": {},
     "output_type": "display_data"
    },
    {
     "name": "stdout",
     "output_type": "stream",
     "text": [
      "\n",
      "The smallest distance (not including diagonal) = 133.98346912967614\n"
     ]
    },
    {
     "data": {
      "application/vnd.jupyter.widget-view+json": {
       "model_id": "2620a290e15e4210a3d247399475e14b",
       "version_major": 2,
       "version_minor": 0
      },
      "text/plain": [
       "HBox(children=(FloatProgress(value=1.0, bar_style='info', max=1.0), HTML(value='')))"
      ]
     },
     "metadata": {},
     "output_type": "display_data"
    },
    {
     "name": "stdout",
     "output_type": "stream",
     "text": [
      "\n",
      "branch_touching_number = [2]\n",
      "branch_touching_number = [2, 1]\n",
      "most_branch_containing_piece = 0\n",
      "filtered_measurements = [1650.69620715 1227.17304283 1182.0418601 ]\n",
      "new_threshold = 3497.8141773574216\n"
     ]
    },
    {
     "data": {
      "application/vnd.jupyter.widget-view+json": {
       "model_id": "08965a1ce5024aa1b01a5e2a4760c6bf",
       "version_major": 2,
       "version_minor": 0
      },
      "text/plain": [
       "HBox(children=(FloatProgress(value=1.0, bar_style='info', max=1.0), HTML(value='')))"
      ]
     },
     "metadata": {},
     "output_type": "display_data"
    },
    {
     "name": "stdout",
     "output_type": "stream",
     "text": [
      "--> Not exactly one containing mesh: []\n",
      "\n",
      "The smallest distance (not including diagonal) = 54.29548784199291\n"
     ]
    },
    {
     "data": {
      "application/vnd.jupyter.widget-view+json": {
       "model_id": "5266b6011fe54f12b9431de34ffac067",
       "version_major": 2,
       "version_minor": 0
      },
      "text/plain": [
       "HBox(children=(FloatProgress(value=1.0, bar_style='info', max=1.0), HTML(value='')))"
      ]
     },
     "metadata": {},
     "output_type": "display_data"
    },
    {
     "name": "stdout",
     "output_type": "stream",
     "text": [
      "--> Not exactly one containing mesh: []\n",
      "\n",
      "branch_touching_number = [8]\n",
      "branch_touching_number = [8, 1]\n",
      "most_branch_containing_piece = 0\n",
      "filtered_measurements = [ 69.33911954 123.32895962 108.09027024  63.63772228 117.35785529\n",
      " 139.8886987  102.14400688]\n",
      "new_threshold = 282.78485144840323\n"
     ]
    },
    {
     "data": {
      "application/vnd.jupyter.widget-view+json": {
       "model_id": "e5a9d7bc6ded4262bdfc78ed98c01167",
       "version_major": 2,
       "version_minor": 0
      },
      "text/plain": [
       "HBox(children=(FloatProgress(value=1.0, bar_style='info', max=1.0), HTML(value='')))"
      ]
     },
     "metadata": {},
     "output_type": "display_data"
    },
    {
     "name": "stdout",
     "output_type": "stream",
     "text": [
      "--> Not exactly one containing mesh: []\n",
      "\n",
      "The smallest distance (not including diagonal) = 416.3195887776601\n"
     ]
    },
    {
     "data": {
      "application/vnd.jupyter.widget-view+json": {
       "model_id": "4abd8f8c873c464e808f053ea3908eb0",
       "version_major": 2,
       "version_minor": 0
      },
      "text/plain": [
       "HBox(children=(FloatProgress(value=1.0, bar_style='info', max=1.0), HTML(value='')))"
      ]
     },
     "metadata": {},
     "output_type": "display_data"
    },
    {
     "name": "stdout",
     "output_type": "stream",
     "text": [
      "\n",
      "filtered_measurements = [1353.79362683  840.64484612  907.5399162 ]\n",
      "new_threshold = 2941.119399132805\n"
     ]
    },
    {
     "data": {
      "application/vnd.jupyter.widget-view+json": {
       "model_id": "ea2b7b806cb54a3dae1a9d9aa465e44e",
       "version_major": 2,
       "version_minor": 0
      },
      "text/plain": [
       "HBox(children=(FloatProgress(value=1.0, bar_style='info', max=1.0), HTML(value='')))"
      ]
     },
     "metadata": {},
     "output_type": "display_data"
    },
    {
     "name": "stdout",
     "output_type": "stream",
     "text": [
      "\n",
      "The smallest distance (not including diagonal) = 232.21757039466243\n"
     ]
    },
    {
     "data": {
      "application/vnd.jupyter.widget-view+json": {
       "model_id": "b89c13729d6745918594ccf980afd375",
       "version_major": 2,
       "version_minor": 0
      },
      "text/plain": [
       "HBox(children=(FloatProgress(value=1.0, bar_style='info', max=1.0), HTML(value='')))"
      ]
     },
     "metadata": {},
     "output_type": "display_data"
    },
    {
     "name": "stdout",
     "output_type": "stream",
     "text": [
      "\n",
      "filtered_measurements = [316.01456668 303.07899872 459.69342706 381.06248516 382.78553413\n",
      " 337.53211129 413.23558562 404.47236597 415.95019847 383.15206539\n",
      " 277.85067547 296.11587346 381.95760477 389.14616701 380.45854959\n",
      " 336.05918853 460.60327987 360.27162852]\n",
      "new_threshold = 1036.3105563351585\n"
     ]
    },
    {
     "data": {
      "application/vnd.jupyter.widget-view+json": {
       "model_id": "224ff9b02e874e3a8b61aa385fc4d5eb",
       "version_major": 2,
       "version_minor": 0
      },
      "text/plain": [
       "HBox(children=(FloatProgress(value=1.0, bar_style='info', max=1.0), HTML(value='')))"
      ]
     },
     "metadata": {},
     "output_type": "display_data"
    },
    {
     "name": "stdout",
     "output_type": "stream",
     "text": [
      "\n",
      "The smallest distance (not including diagonal) = 36.72873534441391\n"
     ]
    },
    {
     "data": {
      "application/vnd.jupyter.widget-view+json": {
       "model_id": "9b133d5e912d47cc86dc130b0ba82474",
       "version_major": 2,
       "version_minor": 0
      },
      "text/plain": [
       "HBox(children=(FloatProgress(value=1.0, bar_style='info', max=1.0), HTML(value='')))"
      ]
     },
     "metadata": {},
     "output_type": "display_data"
    },
    {
     "name": "stdout",
     "output_type": "stream",
     "text": [
      "--> Not exactly one containing mesh: []\n",
      "\n",
      "filtered_measurements = [251.44029622  79.19715346  84.52098098 276.06423751 317.67458126]\n",
      "new_threshold = 758.6963280506629\n"
     ]
    },
    {
     "data": {
      "application/vnd.jupyter.widget-view+json": {
       "model_id": "ae02f4632a1d4b5f8f6529f8831d9ff1",
       "version_major": 2,
       "version_minor": 0
      },
      "text/plain": [
       "HBox(children=(FloatProgress(value=1.0, bar_style='info', max=1.0), HTML(value='')))"
      ]
     },
     "metadata": {},
     "output_type": "display_data"
    },
    {
     "name": "stdout",
     "output_type": "stream",
     "text": [
      "--> Not exactly one containing mesh: []\n",
      "\n",
      "The smallest distance (not including diagonal) = 212.55822731665788\n"
     ]
    },
    {
     "data": {
      "application/vnd.jupyter.widget-view+json": {
       "model_id": "bf31a302f59b4ae19f419d558620de8c",
       "version_major": 2,
       "version_minor": 0
      },
      "text/plain": [
       "HBox(children=(FloatProgress(value=1.0, bar_style='info', max=1.0), HTML(value='')))"
      ]
     },
     "metadata": {},
     "output_type": "display_data"
    },
    {
     "name": "stdout",
     "output_type": "stream",
     "text": [
      "--> Not exactly one containing mesh: []\n",
      "\n",
      "filtered_measurements = [299.8111612  423.30144763 363.89374098 316.308726   334.36812332\n",
      " 390.24452197 286.47907315 310.20939652 299.93514852 430.59781324\n",
      " 228.5424463  236.88798004 275.83977272 396.9849234  363.88492219]\n",
      "new_threshold = 1009.6364855986176\n"
     ]
    },
    {
     "data": {
      "application/vnd.jupyter.widget-view+json": {
       "model_id": "5a498e44f9f2414f9f3c76e6b74af5b8",
       "version_major": 2,
       "version_minor": 0
      },
      "text/plain": [
       "HBox(children=(FloatProgress(value=1.0, bar_style='info', max=1.0), HTML(value='')))"
      ]
     },
     "metadata": {},
     "output_type": "display_data"
    },
    {
     "name": "stdout",
     "output_type": "stream",
     "text": [
      "--> Not exactly one containing mesh: []\n",
      "\n",
      "The smallest distance (not including diagonal) = 675.5474298671094\n"
     ]
    },
    {
     "data": {
      "application/vnd.jupyter.widget-view+json": {
       "model_id": "d1875254f0e14eacb2c1335078dbb731",
       "version_major": 2,
       "version_minor": 0
      },
      "text/plain": [
       "HBox(children=(FloatProgress(value=1.0, bar_style='info', max=1.0), HTML(value='')))"
      ]
     },
     "metadata": {},
     "output_type": "display_data"
    },
    {
     "name": "stdout",
     "output_type": "stream",
     "text": [
      "--> Not exactly one containing mesh: [0 1]\n",
      "\n",
      "filtered_measurements = [1551.6467164]\n",
      "new_threshold = 3064.792474954197\n"
     ]
    },
    {
     "data": {
      "application/vnd.jupyter.widget-view+json": {
       "model_id": "981088369113437381122fd9c3df85bb",
       "version_major": 2,
       "version_minor": 0
      },
      "text/plain": [
       "HBox(children=(FloatProgress(value=1.0, bar_style='info', max=1.0), HTML(value='')))"
      ]
     },
     "metadata": {},
     "output_type": "display_data"
    },
    {
     "name": "stdout",
     "output_type": "stream",
     "text": [
      "\n",
      "The smallest distance (not including diagonal) = 750.1413200191015\n"
     ]
    },
    {
     "data": {
      "application/vnd.jupyter.widget-view+json": {
       "model_id": "55cfd95567e347e88ec2f02acb0943f7",
       "version_major": 2,
       "version_minor": 0
      },
      "text/plain": [
       "HBox(children=(FloatProgress(value=1.0, bar_style='info', max=1.0), HTML(value='')))"
      ]
     },
     "metadata": {},
     "output_type": "display_data"
    },
    {
     "name": "stdout",
     "output_type": "stream",
     "text": [
      "\n",
      "filtered_measurements = [380.64414641]\n",
      "new_threshold = 641.7442154108084\n"
     ]
    },
    {
     "data": {
      "application/vnd.jupyter.widget-view+json": {
       "model_id": "8abc8837c35e4d48b96cb527e0e1b1c7",
       "version_major": 2,
       "version_minor": 0
      },
      "text/plain": [
       "HBox(children=(FloatProgress(value=1.0, bar_style='info', max=1.0), HTML(value='')))"
      ]
     },
     "metadata": {},
     "output_type": "display_data"
    },
    {
     "name": "stdout",
     "output_type": "stream",
     "text": [
      "\n",
      "The smallest distance (not including diagonal) = 555.0585554696008\n"
     ]
    },
    {
     "data": {
      "application/vnd.jupyter.widget-view+json": {
       "model_id": "7bf6dfb7b4324cfb9f225b9bd72cba2b",
       "version_major": 2,
       "version_minor": 0
      },
      "text/plain": [
       "HBox(children=(FloatProgress(value=1.0, bar_style='info', max=1.0), HTML(value='')))"
      ]
     },
     "metadata": {},
     "output_type": "display_data"
    },
    {
     "name": "stdout",
     "output_type": "stream",
     "text": [
      "\n",
      "filtered_measurements = [360.83973166]\n",
      "new_threshold = 625.6980861071371\n"
     ]
    },
    {
     "data": {
      "application/vnd.jupyter.widget-view+json": {
       "model_id": "b73ce931ab4f4994ac148a3892870313",
       "version_major": 2,
       "version_minor": 0
      },
      "text/plain": [
       "HBox(children=(FloatProgress(value=1.0, bar_style='info', max=1.0), HTML(value='')))"
      ]
     },
     "metadata": {},
     "output_type": "display_data"
    },
    {
     "name": "stdout",
     "output_type": "stream",
     "text": [
      "\n",
      "The smallest distance (not including diagonal) = 605.1520470096751\n"
     ]
    },
    {
     "data": {
      "application/vnd.jupyter.widget-view+json": {
       "model_id": "b51aa10ef8644749bd4e78707a62604b",
       "version_major": 2,
       "version_minor": 0
      },
      "text/plain": [
       "HBox(children=(FloatProgress(value=1.0, bar_style='info', max=1.0), HTML(value='')))"
      ]
     },
     "metadata": {},
     "output_type": "display_data"
    },
    {
     "name": "stdout",
     "output_type": "stream",
     "text": [
      "\n",
      "filtered_measurements = [918.82455006]\n",
      "new_threshold = 1684.0726007430699\n"
     ]
    },
    {
     "data": {
      "application/vnd.jupyter.widget-view+json": {
       "model_id": "24db4eb1aee940a2beb0d4f256f8acbd",
       "version_major": 2,
       "version_minor": 0
      },
      "text/plain": [
       "HBox(children=(FloatProgress(value=1.0, bar_style='info', max=1.0), HTML(value='')))"
      ]
     },
     "metadata": {},
     "output_type": "display_data"
    },
    {
     "name": "stdout",
     "output_type": "stream",
     "text": [
      "\n",
      "The smallest distance (not including diagonal) = 875.5895156978526\n"
     ]
    },
    {
     "data": {
      "application/vnd.jupyter.widget-view+json": {
       "model_id": "c6dae50bdc9b44dfb0f9f49afa53f7d6",
       "version_major": 2,
       "version_minor": 0
      },
      "text/plain": [
       "HBox(children=(FloatProgress(value=1.0, bar_style='info', max=1.0), HTML(value='')))"
      ]
     },
     "metadata": {},
     "output_type": "display_data"
    },
    {
     "name": "stdout",
     "output_type": "stream",
     "text": [
      "\n",
      "filtered_measurements = [1583.82398921]\n",
      "new_threshold = 3147.058524690346\n"
     ]
    },
    {
     "data": {
      "application/vnd.jupyter.widget-view+json": {
       "model_id": "82ebafe600bb4fbc9005070b13e3941c",
       "version_major": 2,
       "version_minor": 0
      },
      "text/plain": [
       "HBox(children=(FloatProgress(value=1.0, bar_style='info', max=1.0), HTML(value='')))"
      ]
     },
     "metadata": {},
     "output_type": "display_data"
    },
    {
     "name": "stdout",
     "output_type": "stream",
     "text": [
      "\n",
      "\n",
      "Working on limb #3\n",
      "The smallest distance (not including diagonal) = 2.0\n",
      "The smallest distance (not including diagonal) = 7.3484692283495345\n",
      "The smallest distance (not including diagonal) = 67.512961718473\n",
      "The smallest distance (not including diagonal) = 12.206555615733702\n",
      "The smallest distance (not including diagonal) = 61.97580172938467\n",
      "The smallest distance (not including diagonal) = 38.01315561749642\n",
      "The smallest distance (not including diagonal) = 119.15116449284078\n",
      "The smallest distance (not including diagonal) = 50.813384063650005\n",
      "The smallest distance (not including diagonal) = 79.91245209602819\n",
      "The smallest distance (not including diagonal) = 151.29111011556495\n",
      "The smallest distance (not including diagonal) = 353.04671079048745\n",
      "The smallest distance (not including diagonal) = 16.64331697709324\n",
      "The smallest distance (not including diagonal) = 79.08223567907018\n",
      "The smallest distance (not including diagonal) = 16.30950643030009\n",
      "The smallest distance (not including diagonal) = 12.36931687685298\n",
      "The smallest distance (not including diagonal) = 126.24579200908045\n",
      "The smallest distance (not including diagonal) = 44.654227123532216\n",
      "The smallest distance (not including diagonal) = 442.5697346181764\n",
      "The smallest distance (not including diagonal) = 283.02694218047156\n",
      "The smallest distance (not including diagonal) = 25.298221281347036\n",
      "The smallest distance (not including diagonal) = 27.2213151776324\n",
      "The smallest distance (not including diagonal) = 29.274562336608895\n",
      "The smallest distance (not including diagonal) = 317.84592179232635\n",
      "The smallest distance (not including diagonal) = 98.91920945901981\n",
      "The smallest distance (not including diagonal) = 97.58073580374356\n",
      "The smallest distance (not including diagonal) = 113.57816691600547\n",
      "The smallest distance (not including diagonal) = 215.6223550562418\n",
      "The smallest distance (not including diagonal) = 287.27861041156547\n",
      "The smallest distance (not including diagonal) = 259.56785240077187\n",
      "The smallest distance (not including diagonal) = 78.26876771739798\n",
      "The smallest distance (not including diagonal) = 73.32803011127464\n",
      "The smallest distance (not including diagonal) = 88.43641783790206\n",
      "The smallest distance (not including diagonal) = 84.870489570875\n",
      "The smallest distance (not including diagonal) = 410.42173431727514\n",
      "The smallest distance (not including diagonal) = 107.89346597454362\n",
      "The smallest distance (not including diagonal) = 2.0\n",
      "The smallest distance (not including diagonal) = 43.73785545725808\n",
      "The smallest distance (not including diagonal) = 77.5306391048081\n",
      "The smallest distance (not including diagonal) = 272.2902862755115\n",
      "The smallest distance (not including diagonal) = 539.5961638114388\n"
     ]
    },
    {
     "data": {
      "application/vnd.jupyter.widget-view+json": {
       "model_id": "d9be0e1dedae4c88b6ff65937e0bf837",
       "version_major": 2,
       "version_minor": 0
      },
      "text/plain": [
       "HBox(children=(FloatProgress(value=1.0, bar_style='info', max=1.0), HTML(value='')))"
      ]
     },
     "metadata": {},
     "output_type": "display_data"
    },
    {
     "name": "stdout",
     "output_type": "stream",
     "text": [
      "The smallest distance (not including diagonal) = 7.3484692283495345\n"
     ]
    },
    {
     "data": {
      "application/vnd.jupyter.widget-view+json": {
       "model_id": "aab4f3f8a097456283db3235728f6f29",
       "version_major": 2,
       "version_minor": 0
      },
      "text/plain": [
       "HBox(children=(FloatProgress(value=1.0, bar_style='info', max=1.0), HTML(value='')))"
      ]
     },
     "metadata": {},
     "output_type": "display_data"
    },
    {
     "name": "stdout",
     "output_type": "stream",
     "text": [
      "\n",
      "filtered_measurements = [136.24356981 129.40572675 146.00813459 272.82948981 206.902321\n",
      " 340.60577382 301.31042277 359.07834832 447.47264023 686.57392411\n",
      " 617.8491344  219.00699301 516.94603327 270.25034256 600.14148338\n",
      " 713.16140245 386.07808554 309.94889966 513.28953663 324.32824151\n",
      " 575.85993054 657.24504978 327.3295224  318.67891574 472.9101882\n",
      " 687.15675603 567.31505222 545.18945033 358.32511464 504.29206446\n",
      " 343.4974668  487.13396681 290.36843211 384.89584368 474.19246274\n",
      " 667.04643261 308.11202895 577.47582086 529.10466673 308.72586439\n",
      " 549.93982244 577.03480567 423.01772705 554.15951537 546.41660943\n",
      " 496.02916988 325.40932625 443.1984329  538.40390047 364.46570523\n",
      " 560.42753383 613.6693175  575.96176818 357.04423963 393.69810395\n",
      " 432.73843542 655.55373335 410.55145392 370.25722956 400.33700549\n",
      " 609.50277842 432.00341405 526.856201   318.31201113 461.58489233\n",
      " 534.3831379  393.891534   405.06725261 594.42526929 526.30410371]\n",
      "new_threshold = 1890.3289134982385\n"
     ]
    },
    {
     "data": {
      "application/vnd.jupyter.widget-view+json": {
       "model_id": "5f9a13527bb541d999fe2348a5837cbc",
       "version_major": 2,
       "version_minor": 0
      },
      "text/plain": [
       "HBox(children=(FloatProgress(value=1.0, bar_style='info', max=1.0), HTML(value='')))"
      ]
     },
     "metadata": {},
     "output_type": "display_data"
    },
    {
     "name": "stdout",
     "output_type": "stream",
     "text": [
      "\n",
      "The smallest distance (not including diagonal) = 67.512961718473\n"
     ]
    },
    {
     "data": {
      "application/vnd.jupyter.widget-view+json": {
       "model_id": "48b451e0250144ac8c300fc99db8c0c8",
       "version_major": 2,
       "version_minor": 0
      },
      "text/plain": [
       "HBox(children=(FloatProgress(value=1.0, bar_style='info', max=1.0), HTML(value='')))"
      ]
     },
     "metadata": {},
     "output_type": "display_data"
    },
    {
     "name": "stdout",
     "output_type": "stream",
     "text": [
      "--> Not exactly one containing mesh: []\n",
      "\n",
      "filtered_measurements = [164.80326034 485.00857852 260.33922319 426.89065984 646.66264121\n",
      " 229.69129541 252.94852361 440.78393975 219.01333054 276.95932572\n",
      " 445.44771411 229.07028846 297.70285833 315.74215608 577.88543966\n",
      " 334.13475109 346.19407673 355.48915148 341.88026563 462.42621547\n",
      " 341.34818765 380.20784397 556.72364496 378.9321084  471.40689123\n",
      " 612.10167764 493.45641651 328.61423676 435.23518114 658.45510777\n",
      " 430.97159734 408.30839252 317.86312707 617.759536   345.4050846\n",
      " 548.55287166 419.14188793 444.9254483  418.1985879  595.20495714\n",
      " 532.70826016 455.39223105 367.93827267 474.47857798 268.49676977\n",
      " 486.82933582 523.75597999 394.29753356 402.84181514 264.29230756\n",
      " 331.43224118 376.3235122  334.72385089 487.4657812  336.18390845\n",
      " 343.68841081 428.64050224 506.57467455 645.41569233 503.3475147\n",
      " 376.75328619 567.73972193 360.55813041 415.12866535 598.2837921\n",
      " 267.67070387 467.7603178  637.32462234 495.82810849 415.23811605\n",
      " 343.91427226 392.30363168 457.48785725 507.19320917 398.24422893\n",
      " 644.97286055 428.78470635 370.64612854]\n",
      "new_threshold = 1653.2353106033338\n"
     ]
    },
    {
     "data": {
      "application/vnd.jupyter.widget-view+json": {
       "model_id": "3a4483233af24c1eb9099f6a2a703bb6",
       "version_major": 2,
       "version_minor": 0
      },
      "text/plain": [
       "HBox(children=(FloatProgress(value=1.0, bar_style='info', max=1.0), HTML(value='')))"
      ]
     },
     "metadata": {},
     "output_type": "display_data"
    },
    {
     "name": "stdout",
     "output_type": "stream",
     "text": [
      "--> Not exactly one containing mesh: []\n",
      "\n",
      "The smallest distance (not including diagonal) = 12.206555615733702\n"
     ]
    },
    {
     "data": {
      "application/vnd.jupyter.widget-view+json": {
       "model_id": "1ac0b22c5fe747018a33929ab2b2b6bb",
       "version_major": 2,
       "version_minor": 0
      },
      "text/plain": [
       "HBox(children=(FloatProgress(value=1.0, bar_style='info', max=1.0), HTML(value='')))"
      ]
     },
     "metadata": {},
     "output_type": "display_data"
    },
    {
     "name": "stdout",
     "output_type": "stream",
     "text": [
      "\n",
      "filtered_measurements = [309.28636858 299.08204694 146.55986886 137.76017598 337.43671592\n",
      " 205.1542697  279.30461727 247.32393478 234.82517644 155.45393358\n",
      " 190.99330521 168.01899139 313.80805343 287.70659366 177.80752211\n",
      " 248.69010945 235.11562734 198.3369972  203.07042351 154.394283\n",
      " 239.7157594  234.29246454 226.66867155 227.8879362  143.86925608\n",
      " 195.08544045 308.06117254 235.4195028  296.49296778 327.06644678\n",
      " 201.54806943 289.53052586 231.00295452 241.74737645 309.50305959\n",
      " 158.91122873 178.61710539 207.80693616 178.30241525 197.82397735\n",
      " 352.68596856 343.28414773 227.38894885 251.73132458 272.38591734]\n",
      "new_threshold = 766.6804306221352\n"
     ]
    },
    {
     "data": {
      "application/vnd.jupyter.widget-view+json": {
       "model_id": "c404d83e6e31476096692f0c0d1bc157",
       "version_major": 2,
       "version_minor": 0
      },
      "text/plain": [
       "HBox(children=(FloatProgress(value=1.0, bar_style='info', max=1.0), HTML(value='')))"
      ]
     },
     "metadata": {},
     "output_type": "display_data"
    },
    {
     "name": "stdout",
     "output_type": "stream",
     "text": [
      "--> Not exactly one containing mesh: []\n",
      "\n",
      "The smallest distance (not including diagonal) = 61.97580172938467\n"
     ]
    },
    {
     "data": {
      "application/vnd.jupyter.widget-view+json": {
       "model_id": "a7c4463274864182829219adf2d30a7b",
       "version_major": 2,
       "version_minor": 0
      },
      "text/plain": [
       "HBox(children=(FloatProgress(value=1.0, bar_style='info', max=1.0), HTML(value='')))"
      ]
     },
     "metadata": {},
     "output_type": "display_data"
    },
    {
     "name": "stdout",
     "output_type": "stream",
     "text": [
      "\n",
      "filtered_measurements = [260.59359762 711.8076347  669.34479113 522.89801061 714.61884076\n",
      " 581.51610375 420.84952931 593.81009654 296.36614861 315.41223862\n",
      " 343.01580864 394.69870727 540.3438247  395.96057734 543.46606315\n",
      " 765.35401347 651.95088851 838.16481001 693.96970422 618.50032955\n",
      " 513.65845117 687.86566612]\n",
      "new_threshold = 2140.708690005538\n"
     ]
    },
    {
     "data": {
      "application/vnd.jupyter.widget-view+json": {
       "model_id": "9494aeeaa6294f40a0a0f228524e01b1",
       "version_major": 2,
       "version_minor": 0
      },
      "text/plain": [
       "HBox(children=(FloatProgress(value=1.0, bar_style='info', max=1.0), HTML(value='')))"
      ]
     },
     "metadata": {},
     "output_type": "display_data"
    },
    {
     "name": "stdout",
     "output_type": "stream",
     "text": [
      "\n",
      "The smallest distance (not including diagonal) = 38.01315561749642\n"
     ]
    },
    {
     "data": {
      "application/vnd.jupyter.widget-view+json": {
       "model_id": "014a003386d947109b614047f4bfd52e",
       "version_major": 2,
       "version_minor": 0
      },
      "text/plain": [
       "HBox(children=(FloatProgress(value=1.0, bar_style='info', max=1.0), HTML(value='')))"
      ]
     },
     "metadata": {},
     "output_type": "display_data"
    },
    {
     "name": "stdout",
     "output_type": "stream",
     "text": [
      "--> Not exactly one containing mesh: []\n",
      "--> Not exactly one containing mesh: []\n",
      "\n",
      "filtered_measurements = [ 79.76475222  72.27428356 126.78748213  92.8027512   81.46200031\n",
      "  87.85840711 108.07286991 138.83610097  82.6321737   90.55129546\n",
      " 104.03813522 143.36632845 101.63288709 119.95326536 116.38322064\n",
      " 111.8444089  136.0266592   70.676314    98.62760529 116.84122659\n",
      "  70.58061177  67.59655414  94.65281684  89.15722617]\n",
      "new_threshold = 292.34348506615504\n"
     ]
    },
    {
     "data": {
      "application/vnd.jupyter.widget-view+json": {
       "model_id": "215c5c9d867046efaf6b7891ac461275",
       "version_major": 2,
       "version_minor": 0
      },
      "text/plain": [
       "HBox(children=(FloatProgress(value=1.0, bar_style='info', max=1.0), HTML(value='')))"
      ]
     },
     "metadata": {},
     "output_type": "display_data"
    },
    {
     "name": "stdout",
     "output_type": "stream",
     "text": [
      "--> Not exactly one containing mesh: []\n",
      "--> Not exactly one containing mesh: []\n",
      "\n",
      "The smallest distance (not including diagonal) = 119.15116449284078\n"
     ]
    },
    {
     "data": {
      "application/vnd.jupyter.widget-view+json": {
       "model_id": "b5c552b607d847b9a295a03effc7a731",
       "version_major": 2,
       "version_minor": 0
      },
      "text/plain": [
       "HBox(children=(FloatProgress(value=1.0, bar_style='info', max=1.0), HTML(value='')))"
      ]
     },
     "metadata": {},
     "output_type": "display_data"
    },
    {
     "name": "stdout",
     "output_type": "stream",
     "text": [
      "--> Not exactly one containing mesh: []\n",
      "\n",
      "filtered_measurements = [280.84702279 298.43968774 298.2036927  317.99661406 241.12276743\n",
      " 557.79255117 329.21700796 309.66001474 183.76257453 523.49000668\n",
      " 354.07555751 440.04429213 597.49686665 602.67411522 495.46858966\n",
      " 349.39393515 419.67573419 448.79021181 535.54505581 569.18715215\n",
      " 396.49605682 425.68680392 257.22592141 440.20543751 272.82057731\n",
      " 458.2101711  368.55211556 414.04084753 477.60394538 398.79042343\n",
      " 526.36266906 409.65859173 296.65804942 271.46307805 487.87573812\n",
      " 495.82691478 390.9788144  327.84835288]\n",
      "new_threshold = 1562.9274146760918\n"
     ]
    },
    {
     "data": {
      "application/vnd.jupyter.widget-view+json": {
       "model_id": "4d241af7c55a4e309481683933499f17",
       "version_major": 2,
       "version_minor": 0
      },
      "text/plain": [
       "HBox(children=(FloatProgress(value=1.0, bar_style='info', max=1.0), HTML(value='')))"
      ]
     },
     "metadata": {},
     "output_type": "display_data"
    },
    {
     "name": "stdout",
     "output_type": "stream",
     "text": [
      "--> Not exactly one containing mesh: []\n",
      "\n",
      "The smallest distance (not including diagonal) = 50.813384063650005\n"
     ]
    },
    {
     "data": {
      "application/vnd.jupyter.widget-view+json": {
       "model_id": "2b59d9deea0f486685ef92c3412c33f5",
       "version_major": 2,
       "version_minor": 0
      },
      "text/plain": [
       "HBox(children=(FloatProgress(value=1.0, bar_style='info', max=1.0), HTML(value='')))"
      ]
     },
     "metadata": {},
     "output_type": "display_data"
    },
    {
     "name": "stdout",
     "output_type": "stream",
     "text": [
      "--> Not exactly one containing mesh: [0 1]\n",
      "\n",
      "branch_touching_number = [1]\n",
      "branch_touching_number = [1, 8]\n",
      "most_branch_containing_piece = 1\n",
      "filtered_measurements = [112.86144383 105.5912262   95.18280572  76.1089345  117.1565358\n",
      " 122.10057014  94.51132501]\n",
      "new_threshold = 248.4822141643328\n"
     ]
    },
    {
     "data": {
      "application/vnd.jupyter.widget-view+json": {
       "model_id": "3d0ec4a10f72468094328a786a19dcd2",
       "version_major": 2,
       "version_minor": 0
      },
      "text/plain": [
       "HBox(children=(FloatProgress(value=1.0, bar_style='info', max=1.0), HTML(value='')))"
      ]
     },
     "metadata": {},
     "output_type": "display_data"
    },
    {
     "name": "stdout",
     "output_type": "stream",
     "text": [
      "--> Not exactly one containing mesh: []\n",
      "\n",
      "The smallest distance (not including diagonal) = 79.91245209602819\n"
     ]
    },
    {
     "data": {
      "application/vnd.jupyter.widget-view+json": {
       "model_id": "0169b1ab7b39456eb4bfcb0cc702ddee",
       "version_major": 2,
       "version_minor": 0
      },
      "text/plain": [
       "HBox(children=(FloatProgress(value=1.0, bar_style='info', max=1.0), HTML(value='')))"
      ]
     },
     "metadata": {},
     "output_type": "display_data"
    },
    {
     "name": "stdout",
     "output_type": "stream",
     "text": [
      "\n",
      "filtered_measurements = [ 84.89437707  84.68175652  80.30742127  98.19760262  98.81803224\n",
      "  87.70119852 109.96875308 170.46729224 152.79243711 125.95927513\n",
      " 130.23914822 115.30123557 123.24263245 146.95793912 140.89482362\n",
      "  49.32774384 145.58383514]\n",
      "new_threshold = 354.7792348293219\n"
     ]
    },
    {
     "data": {
      "application/vnd.jupyter.widget-view+json": {
       "model_id": "412b4a7eba654600885188430d041839",
       "version_major": 2,
       "version_minor": 0
      },
      "text/plain": [
       "HBox(children=(FloatProgress(value=1.0, bar_style='info', max=1.0), HTML(value='')))"
      ]
     },
     "metadata": {},
     "output_type": "display_data"
    },
    {
     "name": "stdout",
     "output_type": "stream",
     "text": [
      "\n",
      "The smallest distance (not including diagonal) = 151.29111011556495\n"
     ]
    },
    {
     "data": {
      "application/vnd.jupyter.widget-view+json": {
       "model_id": "2c5b970d51494372ae671eb03cc8b25f",
       "version_major": 2,
       "version_minor": 0
      },
      "text/plain": [
       "HBox(children=(FloatProgress(value=1.0, bar_style='info', max=1.0), HTML(value='')))"
      ]
     },
     "metadata": {},
     "output_type": "display_data"
    },
    {
     "name": "stdout",
     "output_type": "stream",
     "text": [
      "\n",
      "filtered_measurements = [368.28445213 394.49338382 294.90499405 270.60413098 449.71410867\n",
      " 323.75323879 357.43132279 355.71627016 310.57263264 263.65397779]\n",
      "new_threshold = 1065.305692736626\n"
     ]
    },
    {
     "data": {
      "application/vnd.jupyter.widget-view+json": {
       "model_id": "2e65612c91ba4959a6d1b0fb486a7d10",
       "version_major": 2,
       "version_minor": 0
      },
      "text/plain": [
       "HBox(children=(FloatProgress(value=1.0, bar_style='info', max=1.0), HTML(value='')))"
      ]
     },
     "metadata": {},
     "output_type": "display_data"
    },
    {
     "name": "stdout",
     "output_type": "stream",
     "text": [
      "\n",
      "The smallest distance (not including diagonal) = 353.04671079048745\n"
     ]
    },
    {
     "data": {
      "application/vnd.jupyter.widget-view+json": {
       "model_id": "4b9777ba42a6452a8df6d9e96a417ce1",
       "version_major": 2,
       "version_minor": 0
      },
      "text/plain": [
       "HBox(children=(FloatProgress(value=1.0, bar_style='info', max=1.0), HTML(value='')))"
      ]
     },
     "metadata": {},
     "output_type": "display_data"
    },
    {
     "name": "stdout",
     "output_type": "stream",
     "text": [
      "\n",
      "filtered_measurements = [79.34276439 59.60000238]\n",
      "new_threshold = 151.75012791840484\n"
     ]
    },
    {
     "data": {
      "application/vnd.jupyter.widget-view+json": {
       "model_id": "ce99bcb9bc2c40a096ee8f0afe7718aa",
       "version_major": 2,
       "version_minor": 0
      },
      "text/plain": [
       "HBox(children=(FloatProgress(value=1.0, bar_style='info', max=1.0), HTML(value='')))"
      ]
     },
     "metadata": {},
     "output_type": "display_data"
    },
    {
     "name": "stdout",
     "output_type": "stream",
     "text": [
      "\n",
      "The smallest distance (not including diagonal) = 16.64331697709324\n"
     ]
    },
    {
     "data": {
      "application/vnd.jupyter.widget-view+json": {
       "model_id": "4e089aabd07b413f98b01804ec1418df",
       "version_major": 2,
       "version_minor": 0
      },
      "text/plain": [
       "HBox(children=(FloatProgress(value=1.0, bar_style='info', max=1.0), HTML(value='')))"
      ]
     },
     "metadata": {},
     "output_type": "display_data"
    },
    {
     "name": "stdout",
     "output_type": "stream",
     "text": [
      "--> Not exactly one containing mesh: []\n",
      "\n",
      "filtered_measurements = [66.10147248 83.23607559 85.43801429 85.05302322]\n",
      "new_threshold = 176.00528561946214\n"
     ]
    },
    {
     "data": {
      "application/vnd.jupyter.widget-view+json": {
       "model_id": "ec44ef73d1db4f119bded14d0434cc1e",
       "version_major": 2,
       "version_minor": 0
      },
      "text/plain": [
       "HBox(children=(FloatProgress(value=1.0, bar_style='info', max=1.0), HTML(value='')))"
      ]
     },
     "metadata": {},
     "output_type": "display_data"
    },
    {
     "name": "stdout",
     "output_type": "stream",
     "text": [
      "--> Not exactly one containing mesh: []\n",
      "\n",
      "The smallest distance (not including diagonal) = 79.08223567907018\n"
     ]
    },
    {
     "data": {
      "application/vnd.jupyter.widget-view+json": {
       "model_id": "95c9d9b7aa6d418490db02d011a7d635",
       "version_major": 2,
       "version_minor": 0
      },
      "text/plain": [
       "HBox(children=(FloatProgress(value=1.0, bar_style='info', max=1.0), HTML(value='')))"
      ]
     },
     "metadata": {},
     "output_type": "display_data"
    },
    {
     "name": "stdout",
     "output_type": "stream",
     "text": [
      "--> Not exactly one containing mesh: []\n",
      "\n",
      "filtered_measurements = [120.57705875 113.80788215  81.45492986  75.86160568]\n",
      "new_threshold = 262.5594187726829\n"
     ]
    },
    {
     "data": {
      "application/vnd.jupyter.widget-view+json": {
       "model_id": "895d4b7d4c974c06925aba8b001ab05e",
       "version_major": 2,
       "version_minor": 0
      },
      "text/plain": [
       "HBox(children=(FloatProgress(value=1.0, bar_style='info', max=1.0), HTML(value='')))"
      ]
     },
     "metadata": {},
     "output_type": "display_data"
    },
    {
     "name": "stdout",
     "output_type": "stream",
     "text": [
      "--> Not exactly one containing mesh: []\n",
      "\n",
      "The smallest distance (not including diagonal) = 16.30950643030009\n"
     ]
    },
    {
     "data": {
      "application/vnd.jupyter.widget-view+json": {
       "model_id": "575aeddf5857414799cfec05074fbb4f",
       "version_major": 2,
       "version_minor": 0
      },
      "text/plain": [
       "HBox(children=(FloatProgress(value=1.0, bar_style='info', max=1.0), HTML(value='')))"
      ]
     },
     "metadata": {},
     "output_type": "display_data"
    },
    {
     "name": "stdout",
     "output_type": "stream",
     "text": [
      "--> Not exactly one containing mesh: []\n",
      "\n",
      "filtered_measurements = [233.36508189]\n",
      "new_threshold = 400.64588283955015\n"
     ]
    },
    {
     "data": {
      "application/vnd.jupyter.widget-view+json": {
       "model_id": "1596b9ccd1e8424a8763eb3bf645f029",
       "version_major": 2,
       "version_minor": 0
      },
      "text/plain": [
       "HBox(children=(FloatProgress(value=1.0, bar_style='info', max=1.0), HTML(value='')))"
      ]
     },
     "metadata": {},
     "output_type": "display_data"
    },
    {
     "name": "stdout",
     "output_type": "stream",
     "text": [
      "--> Not exactly one containing mesh: []\n",
      "\n",
      "The smallest distance (not including diagonal) = 12.36931687685298\n"
     ]
    },
    {
     "data": {
      "application/vnd.jupyter.widget-view+json": {
       "model_id": "ee498edfae9741b1b3f6c2ee044d9de4",
       "version_major": 2,
       "version_minor": 0
      },
      "text/plain": [
       "HBox(children=(FloatProgress(value=1.0, bar_style='info', max=1.0), HTML(value='')))"
      ]
     },
     "metadata": {},
     "output_type": "display_data"
    },
    {
     "name": "stdout",
     "output_type": "stream",
     "text": [
      "--> Not exactly one containing mesh: []\n",
      "\n",
      "filtered_measurements = [ 97.88326061 159.04974546  68.11461485  44.24389647  53.22622925\n",
      "  67.82977237  69.98600369 111.63575135 149.53307117  79.60086978\n",
      "  65.46526308]\n",
      "new_threshold = 314.3673592140242\n"
     ]
    },
    {
     "data": {
      "application/vnd.jupyter.widget-view+json": {
       "model_id": "b9a84fe2145b42d5a1fce613cdd2fac2",
       "version_major": 2,
       "version_minor": 0
      },
      "text/plain": [
       "HBox(children=(FloatProgress(value=1.0, bar_style='info', max=1.0), HTML(value='')))"
      ]
     },
     "metadata": {},
     "output_type": "display_data"
    },
    {
     "name": "stdout",
     "output_type": "stream",
     "text": [
      "--> Not exactly one containing mesh: []\n",
      "\n",
      "The smallest distance (not including diagonal) = 126.24579200908045\n"
     ]
    },
    {
     "data": {
      "application/vnd.jupyter.widget-view+json": {
       "model_id": "3fef63723c4847bcb4039d1014429125",
       "version_major": 2,
       "version_minor": 0
      },
      "text/plain": [
       "HBox(children=(FloatProgress(value=1.0, bar_style='info', max=1.0), HTML(value='')))"
      ]
     },
     "metadata": {},
     "output_type": "display_data"
    },
    {
     "name": "stdout",
     "output_type": "stream",
     "text": [
      "\n",
      "filtered_measurements = [547.10632895 546.60083157 532.73245284 452.10210064 465.93325267\n",
      " 622.08186721 604.10016653 452.51212067 446.21333043 449.09960063\n",
      " 397.09188281 411.4920874  409.1408326  580.32256348 518.21154294\n",
      " 426.52948017 491.07050836 534.25912066 442.13466152 485.35213854]\n",
      "new_threshold = 1349.1147335082574\n"
     ]
    },
    {
     "data": {
      "application/vnd.jupyter.widget-view+json": {
       "model_id": "36721e1bed2b44e58027808cd4209345",
       "version_major": 2,
       "version_minor": 0
      },
      "text/plain": [
       "HBox(children=(FloatProgress(value=1.0, bar_style='info', max=1.0), HTML(value='')))"
      ]
     },
     "metadata": {},
     "output_type": "display_data"
    },
    {
     "name": "stdout",
     "output_type": "stream",
     "text": [
      "\n",
      "The smallest distance (not including diagonal) = 44.654227123532216\n"
     ]
    },
    {
     "data": {
      "application/vnd.jupyter.widget-view+json": {
       "model_id": "6c9da1799dda47dea4c2b14b6028e884",
       "version_major": 2,
       "version_minor": 0
      },
      "text/plain": [
       "HBox(children=(FloatProgress(value=1.0, bar_style='info', max=1.0), HTML(value='')))"
      ]
     },
     "metadata": {},
     "output_type": "display_data"
    },
    {
     "name": "stdout",
     "output_type": "stream",
     "text": [
      "--> Not exactly one containing mesh: []\n",
      "--> Not exactly one containing mesh: []\n",
      "\n",
      "branch_touching_number = [5]\n",
      "branch_touching_number = [5, 2]\n",
      "most_branch_containing_piece = 0\n",
      "filtered_measurements = [49.12892097 55.52889673 68.68653178]\n",
      "new_threshold = 131.4378745583655\n"
     ]
    },
    {
     "data": {
      "application/vnd.jupyter.widget-view+json": {
       "model_id": "107d4ed1fb8745a68c0429fb76ad8624",
       "version_major": 2,
       "version_minor": 0
      },
      "text/plain": [
       "HBox(children=(FloatProgress(value=1.0, bar_style='info', max=1.0), HTML(value='')))"
      ]
     },
     "metadata": {},
     "output_type": "display_data"
    },
    {
     "name": "stdout",
     "output_type": "stream",
     "text": [
      "--> Not exactly one containing mesh: []\n",
      "THERE WERE NO FACES THAT FIT THE DISTANCE (131.4378745583655) and Z transform requirements\n",
      "So just skipping this edge\n",
      "THERE WERE NO FACES THAT FIT THE DISTANCE (131.4378745583655) and Z transform requirements\n",
      "So just skipping this edge\n",
      "\n",
      "The smallest distance (not including diagonal) = 442.5697346181764\n"
     ]
    },
    {
     "data": {
      "application/vnd.jupyter.widget-view+json": {
       "model_id": "43103a68dcdf46b2959e21058d8e88fd",
       "version_major": 2,
       "version_minor": 0
      },
      "text/plain": [
       "HBox(children=(FloatProgress(value=1.0, bar_style='info', max=1.0), HTML(value='')))"
      ]
     },
     "metadata": {},
     "output_type": "display_data"
    },
    {
     "name": "stdout",
     "output_type": "stream",
     "text": [
      "\n",
      "branch_touching_number = [1]\n",
      "branch_touching_number = [1, 1]\n",
      "most_branch_containing_piece = 0\n",
      "filtered_measurements = [784.77493143 931.27735703]\n",
      "new_threshold = 2158.5254918037353\n"
     ]
    },
    {
     "data": {
      "application/vnd.jupyter.widget-view+json": {
       "model_id": "7871937a288849c79e7bb9dfc0f0b634",
       "version_major": 2,
       "version_minor": 0
      },
      "text/plain": [
       "HBox(children=(FloatProgress(value=1.0, bar_style='info', max=1.0), HTML(value='')))"
      ]
     },
     "metadata": {},
     "output_type": "display_data"
    },
    {
     "name": "stdout",
     "output_type": "stream",
     "text": [
      "--> Not exactly one containing mesh: []\n",
      "\n",
      "The smallest distance (not including diagonal) = 283.02694218047156\n"
     ]
    },
    {
     "data": {
      "application/vnd.jupyter.widget-view+json": {
       "model_id": "084f17800bc44945930efc0bbfc912e0",
       "version_major": 2,
       "version_minor": 0
      },
      "text/plain": [
       "HBox(children=(FloatProgress(value=1.0, bar_style='info', max=1.0), HTML(value='')))"
      ]
     },
     "metadata": {},
     "output_type": "display_data"
    },
    {
     "name": "stdout",
     "output_type": "stream",
     "text": [
      "\n",
      "filtered_measurements = [211.17682234]\n",
      "new_threshold = 465.4927257668735\n"
     ]
    },
    {
     "data": {
      "application/vnd.jupyter.widget-view+json": {
       "model_id": "c0642fa391be41d29f63224919225b4d",
       "version_major": 2,
       "version_minor": 0
      },
      "text/plain": [
       "HBox(children=(FloatProgress(value=1.0, bar_style='info', max=1.0), HTML(value='')))"
      ]
     },
     "metadata": {},
     "output_type": "display_data"
    },
    {
     "name": "stdout",
     "output_type": "stream",
     "text": [
      "\n",
      "The smallest distance (not including diagonal) = 25.298221281347036\n"
     ]
    },
    {
     "data": {
      "application/vnd.jupyter.widget-view+json": {
       "model_id": "fac2a5e87e26483aa955a410a535204d",
       "version_major": 2,
       "version_minor": 0
      },
      "text/plain": [
       "HBox(children=(FloatProgress(value=1.0, bar_style='info', max=1.0), HTML(value='')))"
      ]
     },
     "metadata": {},
     "output_type": "display_data"
    },
    {
     "name": "stdout",
     "output_type": "stream",
     "text": [
      "--> Not exactly one containing mesh: [0 1]\n",
      "\n",
      "filtered_measurements = [150.70719782 115.449584   141.67714536 124.06334203 134.11539445\n",
      " 173.89203883 128.6497885   82.5150451  160.90820916 124.4953531\n",
      " 108.63115254  84.11835914  81.76306955]\n",
      "new_threshold = 430.68185831954094\n"
     ]
    },
    {
     "data": {
      "application/vnd.jupyter.widget-view+json": {
       "model_id": "178c604529db4b6b841f16d8bf2a1a7c",
       "version_major": 2,
       "version_minor": 0
      },
      "text/plain": [
       "HBox(children=(FloatProgress(value=1.0, bar_style='info', max=1.0), HTML(value='')))"
      ]
     },
     "metadata": {},
     "output_type": "display_data"
    },
    {
     "name": "stdout",
     "output_type": "stream",
     "text": [
      "\n",
      "The smallest distance (not including diagonal) = 27.2213151776324\n"
     ]
    },
    {
     "data": {
      "application/vnd.jupyter.widget-view+json": {
       "model_id": "59d6454d33654e13bfdcdee3dd709ebd",
       "version_major": 2,
       "version_minor": 0
      },
      "text/plain": [
       "HBox(children=(FloatProgress(value=1.0, bar_style='info', max=1.0), HTML(value='')))"
      ]
     },
     "metadata": {},
     "output_type": "display_data"
    },
    {
     "name": "stdout",
     "output_type": "stream",
     "text": [
      "--> Not exactly one containing mesh: []\n",
      "--> Not exactly one containing mesh: []\n",
      "\n",
      "filtered_measurements = [ 90.94172928 116.30885372  73.89536243  69.17313396  82.24162837\n",
      "  74.012687   132.99709924  87.74780191  76.6512954   57.42218927\n",
      " 152.15840692  87.2102172   84.99389531 123.05170895 105.6930977\n",
      " 107.84787473  61.73771453 114.15365947 106.28726455 126.80418297\n",
      " 123.38599767 108.37615548  72.11511608  96.36370968  92.68338558\n",
      "  79.08117043  81.11145259  90.75242758  94.39712677  87.3929313\n",
      "  88.60055139  77.13057007  83.5073798  135.67403266 128.54377364\n",
      " 103.86931191  78.69681692 141.20438675 103.03760884 140.09358066\n",
      "  55.00203523  97.70650131  62.79264519  86.04089681 111.27946743\n",
      "  83.33139517 147.10278881  78.97018657  87.40475198]\n",
      "new_threshold = 361.7226843737317\n"
     ]
    },
    {
     "data": {
      "application/vnd.jupyter.widget-view+json": {
       "model_id": "4a1634ff59124c27b36aa5d273ae9bad",
       "version_major": 2,
       "version_minor": 0
      },
      "text/plain": [
       "HBox(children=(FloatProgress(value=1.0, bar_style='info', max=1.0), HTML(value='')))"
      ]
     },
     "metadata": {},
     "output_type": "display_data"
    },
    {
     "name": "stdout",
     "output_type": "stream",
     "text": [
      "--> Not exactly one containing mesh: []\n",
      "--> Not exactly one containing mesh: []\n",
      "\n",
      "The smallest distance (not including diagonal) = 29.274562336608895\n"
     ]
    },
    {
     "data": {
      "application/vnd.jupyter.widget-view+json": {
       "model_id": "1db8ea233dc6446c883800ec578491a8",
       "version_major": 2,
       "version_minor": 0
      },
      "text/plain": [
       "HBox(children=(FloatProgress(value=1.0, bar_style='info', max=1.0), HTML(value='')))"
      ]
     },
     "metadata": {},
     "output_type": "display_data"
    },
    {
     "name": "stdout",
     "output_type": "stream",
     "text": [
      "--> Not exactly one containing mesh: []\n",
      "\n",
      "filtered_measurements = [ 98.33945102 168.54889086 164.39909446]\n",
      "new_threshold = 340.7063015612192\n"
     ]
    },
    {
     "data": {
      "application/vnd.jupyter.widget-view+json": {
       "model_id": "84d7e7c9e8314ed9964c83eb48f8b4e5",
       "version_major": 2,
       "version_minor": 0
      },
      "text/plain": [
       "HBox(children=(FloatProgress(value=1.0, bar_style='info', max=1.0), HTML(value='')))"
      ]
     },
     "metadata": {},
     "output_type": "display_data"
    },
    {
     "name": "stdout",
     "output_type": "stream",
     "text": [
      "--> Not exactly one containing mesh: []\n",
      "\n",
      "The smallest distance (not including diagonal) = 317.84592179232635\n"
     ]
    },
    {
     "data": {
      "application/vnd.jupyter.widget-view+json": {
       "model_id": "932591a9d7ea42f08fb21ff8b0ca0966",
       "version_major": 2,
       "version_minor": 0
      },
      "text/plain": [
       "HBox(children=(FloatProgress(value=1.0, bar_style='info', max=1.0), HTML(value='')))"
      ]
     },
     "metadata": {},
     "output_type": "display_data"
    },
    {
     "name": "stdout",
     "output_type": "stream",
     "text": [
      "\n",
      "filtered_measurements = [119.43755403]\n",
      "new_threshold = 212.33739486668793\n"
     ]
    },
    {
     "data": {
      "application/vnd.jupyter.widget-view+json": {
       "model_id": "2767b0247bec4143968933f4be5d1afa",
       "version_major": 2,
       "version_minor": 0
      },
      "text/plain": [
       "HBox(children=(FloatProgress(value=1.0, bar_style='info', max=1.0), HTML(value='')))"
      ]
     },
     "metadata": {},
     "output_type": "display_data"
    },
    {
     "name": "stdout",
     "output_type": "stream",
     "text": [
      "\n",
      "The smallest distance (not including diagonal) = 98.91920945901981\n"
     ]
    },
    {
     "data": {
      "application/vnd.jupyter.widget-view+json": {
       "model_id": "c0980b2944a14fce813d0b583b9b964e",
       "version_major": 2,
       "version_minor": 0
      },
      "text/plain": [
       "HBox(children=(FloatProgress(value=1.0, bar_style='info', max=1.0), HTML(value='')))"
      ]
     },
     "metadata": {},
     "output_type": "display_data"
    },
    {
     "name": "stdout",
     "output_type": "stream",
     "text": [
      "\n",
      "branch_touching_number = [2]\n",
      "branch_touching_number = [2, 11]\n",
      "most_branch_containing_piece = 1\n",
      "filtered_measurements = [ 96.20240643  72.16187992  91.9116472  106.06024745 150.84706676\n",
      " 130.27045057 150.87494791  83.83933938 111.97076193]\n",
      "new_threshold = 348.2561448899064\n"
     ]
    },
    {
     "data": {
      "application/vnd.jupyter.widget-view+json": {
       "model_id": "5da02e531132479e96cf0c78b17fb98a",
       "version_major": 2,
       "version_minor": 0
      },
      "text/plain": [
       "HBox(children=(FloatProgress(value=1.0, bar_style='info', max=1.0), HTML(value='')))"
      ]
     },
     "metadata": {},
     "output_type": "display_data"
    },
    {
     "name": "stdout",
     "output_type": "stream",
     "text": [
      "--> Not exactly one containing mesh: []\n",
      "THERE WERE NO FACES THAT FIT THE DISTANCE (348.2561448899064) and Z transform requirements\n",
      "So just skipping this edge\n",
      "\n",
      "The smallest distance (not including diagonal) = 97.58073580374356\n"
     ]
    },
    {
     "data": {
      "application/vnd.jupyter.widget-view+json": {
       "model_id": "e4846e2ce3e243cb95edd39ac41f77fc",
       "version_major": 2,
       "version_minor": 0
      },
      "text/plain": [
       "HBox(children=(FloatProgress(value=1.0, bar_style='info', max=1.0), HTML(value='')))"
      ]
     },
     "metadata": {},
     "output_type": "display_data"
    },
    {
     "name": "stdout",
     "output_type": "stream",
     "text": [
      "\n",
      "filtered_measurements = [677.95339278 769.56786993 811.87347284 881.31236197 693.33477198\n",
      " 650.30220571 600.45951756 614.36393644 785.40343135 651.71822465\n",
      " 735.12495754 734.97979723 743.33109005 632.19752382 624.68599574\n",
      " 639.90955469 682.70179586 647.68708916 655.78336069 650.36654872\n",
      " 603.42558061 639.63694808 634.33024555 685.54800142]\n",
      "new_threshold = 1815.6224553250972\n"
     ]
    },
    {
     "data": {
      "application/vnd.jupyter.widget-view+json": {
       "model_id": "d3d5a4bdbc0f496880830997522aa40e",
       "version_major": 2,
       "version_minor": 0
      },
      "text/plain": [
       "HBox(children=(FloatProgress(value=1.0, bar_style='info', max=1.0), HTML(value='')))"
      ]
     },
     "metadata": {},
     "output_type": "display_data"
    },
    {
     "name": "stdout",
     "output_type": "stream",
     "text": [
      "\n",
      "The smallest distance (not including diagonal) = 113.57816691600547\n"
     ]
    },
    {
     "data": {
      "application/vnd.jupyter.widget-view+json": {
       "model_id": "234e3f95e2ef4383af9f918097e24002",
       "version_major": 2,
       "version_minor": 0
      },
      "text/plain": [
       "HBox(children=(FloatProgress(value=1.0, bar_style='info', max=1.0), HTML(value='')))"
      ]
     },
     "metadata": {},
     "output_type": "display_data"
    },
    {
     "name": "stdout",
     "output_type": "stream",
     "text": [
      "\n",
      "filtered_measurements = [567.2701077  712.42006143 727.9409683  666.10118671 774.6095305 ]\n",
      "new_threshold = 1544.371033791285\n"
     ]
    },
    {
     "data": {
      "application/vnd.jupyter.widget-view+json": {
       "model_id": "6e28f8f786204539b8f80156e72a2fdb",
       "version_major": 2,
       "version_minor": 0
      },
      "text/plain": [
       "HBox(children=(FloatProgress(value=1.0, bar_style='info', max=1.0), HTML(value='')))"
      ]
     },
     "metadata": {},
     "output_type": "display_data"
    },
    {
     "name": "stdout",
     "output_type": "stream",
     "text": [
      "\n",
      "The smallest distance (not including diagonal) = 215.6223550562418\n"
     ]
    },
    {
     "data": {
      "application/vnd.jupyter.widget-view+json": {
       "model_id": "a54e90b1dac64bd2bb85fe00116ff90e",
       "version_major": 2,
       "version_minor": 0
      },
      "text/plain": [
       "HBox(children=(FloatProgress(value=1.0, bar_style='info', max=1.0), HTML(value='')))"
      ]
     },
     "metadata": {},
     "output_type": "display_data"
    },
    {
     "name": "stdout",
     "output_type": "stream",
     "text": [
      "\n",
      "filtered_measurements = [594.43859637 374.70674048 357.45837918 442.50507687 449.82951957\n",
      " 384.03289854]\n",
      "new_threshold = 1256.7535729679848\n"
     ]
    },
    {
     "data": {
      "application/vnd.jupyter.widget-view+json": {
       "model_id": "2a6863b266ee4a429550f85ef11a7997",
       "version_major": 2,
       "version_minor": 0
      },
      "text/plain": [
       "HBox(children=(FloatProgress(value=1.0, bar_style='info', max=1.0), HTML(value='')))"
      ]
     },
     "metadata": {},
     "output_type": "display_data"
    },
    {
     "name": "stdout",
     "output_type": "stream",
     "text": [
      "\n",
      "The smallest distance (not including diagonal) = 287.27861041156547\n"
     ]
    },
    {
     "data": {
      "application/vnd.jupyter.widget-view+json": {
       "model_id": "e8571652651a464d869b22aa1a1a82c3",
       "version_major": 2,
       "version_minor": 0
      },
      "text/plain": [
       "HBox(children=(FloatProgress(value=1.0, bar_style='info', max=1.0), HTML(value='')))"
      ]
     },
     "metadata": {},
     "output_type": "display_data"
    },
    {
     "name": "stdout",
     "output_type": "stream",
     "text": [
      "\n",
      "filtered_measurements = [ 848.28591786  772.36299258 1255.07948819]\n",
      "new_threshold = 2627.4121391947983\n"
     ]
    },
    {
     "data": {
      "application/vnd.jupyter.widget-view+json": {
       "model_id": "ea5564e8a06140ff93caa66fb7a698c4",
       "version_major": 2,
       "version_minor": 0
      },
      "text/plain": [
       "HBox(children=(FloatProgress(value=1.0, bar_style='info', max=1.0), HTML(value='')))"
      ]
     },
     "metadata": {},
     "output_type": "display_data"
    },
    {
     "name": "stdout",
     "output_type": "stream",
     "text": [
      "\n",
      "The smallest distance (not including diagonal) = 259.56785240077187\n"
     ]
    },
    {
     "data": {
      "application/vnd.jupyter.widget-view+json": {
       "model_id": "a46c3a16c6ea4c1f9b07e8bc844249d4",
       "version_major": 2,
       "version_minor": 0
      },
      "text/plain": [
       "HBox(children=(FloatProgress(value=1.0, bar_style='info', max=1.0), HTML(value='')))"
      ]
     },
     "metadata": {},
     "output_type": "display_data"
    },
    {
     "name": "stdout",
     "output_type": "stream",
     "text": [
      "\n",
      "filtered_measurements = [1086.94091455 1183.95872148 1212.52167726]\n",
      "new_threshold = 2453.812616255974\n"
     ]
    },
    {
     "data": {
      "application/vnd.jupyter.widget-view+json": {
       "model_id": "a4b9e67cffff4cdc9c116e6097743d44",
       "version_major": 2,
       "version_minor": 0
      },
      "text/plain": [
       "HBox(children=(FloatProgress(value=1.0, bar_style='info', max=1.0), HTML(value='')))"
      ]
     },
     "metadata": {},
     "output_type": "display_data"
    },
    {
     "name": "stdout",
     "output_type": "stream",
     "text": [
      "\n",
      "The smallest distance (not including diagonal) = 78.26876771739798\n"
     ]
    },
    {
     "data": {
      "application/vnd.jupyter.widget-view+json": {
       "model_id": "300ca57c099d4d978cc1f6d8037658a7",
       "version_major": 2,
       "version_minor": 0
      },
      "text/plain": [
       "HBox(children=(FloatProgress(value=1.0, bar_style='info', max=1.0), HTML(value='')))"
      ]
     },
     "metadata": {},
     "output_type": "display_data"
    },
    {
     "name": "stdout",
     "output_type": "stream",
     "text": [
      "\n",
      "filtered_measurements = [631.06862675 563.73781785 445.35874516 550.28814824 665.20649757\n",
      " 439.3487137  491.4395399  489.72282883 451.65877182 373.00830255\n",
      " 413.59971149 454.22188725 676.98081541 416.68187352 402.23266793\n",
      " 558.8268894  589.77526753 506.81869154]\n",
      "new_threshold = 1514.3610423328055\n"
     ]
    },
    {
     "data": {
      "application/vnd.jupyter.widget-view+json": {
       "model_id": "4ca788d4f4a046ca888c0a6dfc4a02f7",
       "version_major": 2,
       "version_minor": 0
      },
      "text/plain": [
       "HBox(children=(FloatProgress(value=1.0, bar_style='info', max=1.0), HTML(value='')))"
      ]
     },
     "metadata": {},
     "output_type": "display_data"
    },
    {
     "name": "stdout",
     "output_type": "stream",
     "text": [
      "\n",
      "The smallest distance (not including diagonal) = 73.32803011127464\n"
     ]
    },
    {
     "data": {
      "application/vnd.jupyter.widget-view+json": {
       "model_id": "4c6e6a5475a94bed9baac53ff661d8f1",
       "version_major": 2,
       "version_minor": 0
      },
      "text/plain": [
       "HBox(children=(FloatProgress(value=1.0, bar_style='info', max=1.0), HTML(value='')))"
      ]
     },
     "metadata": {},
     "output_type": "display_data"
    },
    {
     "name": "stdout",
     "output_type": "stream",
     "text": [
      "\n",
      "filtered_measurements = [117.42684017 138.00767588 212.68447383 145.08931355 152.50728035\n",
      " 232.32256385]\n",
      "new_threshold = 502.3856532247106\n"
     ]
    },
    {
     "data": {
      "application/vnd.jupyter.widget-view+json": {
       "model_id": "0290ee09ccab405994b20397540236a1",
       "version_major": 2,
       "version_minor": 0
      },
      "text/plain": [
       "HBox(children=(FloatProgress(value=1.0, bar_style='info', max=1.0), HTML(value='')))"
      ]
     },
     "metadata": {},
     "output_type": "display_data"
    },
    {
     "name": "stdout",
     "output_type": "stream",
     "text": [
      "\n",
      "The smallest distance (not including diagonal) = 88.43641783790206\n"
     ]
    },
    {
     "data": {
      "application/vnd.jupyter.widget-view+json": {
       "model_id": "a577265cf6524d17ab60f4bdef4a7d07",
       "version_major": 2,
       "version_minor": 0
      },
      "text/plain": [
       "HBox(children=(FloatProgress(value=1.0, bar_style='info', max=1.0), HTML(value='')))"
      ]
     },
     "metadata": {},
     "output_type": "display_data"
    },
    {
     "name": "stdout",
     "output_type": "stream",
     "text": [
      "\n",
      "filtered_measurements = [148.49464689  78.71315674 114.22970618 111.47842721 107.73769141\n",
      " 140.8537955 ]\n",
      "new_threshold = 333.5086087085577\n"
     ]
    },
    {
     "data": {
      "application/vnd.jupyter.widget-view+json": {
       "model_id": "4320483e1ae741fab1743ecd9eb7c773",
       "version_major": 2,
       "version_minor": 0
      },
      "text/plain": [
       "HBox(children=(FloatProgress(value=1.0, bar_style='info', max=1.0), HTML(value='')))"
      ]
     },
     "metadata": {},
     "output_type": "display_data"
    },
    {
     "name": "stdout",
     "output_type": "stream",
     "text": [
      "--> Not exactly one containing mesh: []\n",
      "--> Not exactly one containing mesh: []\n",
      "\n",
      "branch_touching_number = [8]\n",
      "branch_touching_number = [8, 1]\n",
      "branch_touching_number = [8, 1, 1]\n",
      "most_branch_containing_piece = 0\n",
      "The smallest distance (not including diagonal) = 84.870489570875\n"
     ]
    },
    {
     "data": {
      "application/vnd.jupyter.widget-view+json": {
       "model_id": "006ea63e3312485c8242fa208eaa1050",
       "version_major": 2,
       "version_minor": 0
      },
      "text/plain": [
       "HBox(children=(FloatProgress(value=1.0, bar_style='info', max=1.0), HTML(value='')))"
      ]
     },
     "metadata": {},
     "output_type": "display_data"
    },
    {
     "name": "stdout",
     "output_type": "stream",
     "text": [
      "\n",
      "filtered_measurements = [1065.58699288]\n",
      "new_threshold = 2343.9375336394005\n"
     ]
    },
    {
     "data": {
      "application/vnd.jupyter.widget-view+json": {
       "model_id": "8739adcd9c194439996c8fabe9144989",
       "version_major": 2,
       "version_minor": 0
      },
      "text/plain": [
       "HBox(children=(FloatProgress(value=1.0, bar_style='info', max=1.0), HTML(value='')))"
      ]
     },
     "metadata": {},
     "output_type": "display_data"
    },
    {
     "name": "stdout",
     "output_type": "stream",
     "text": [
      "\n",
      "The smallest distance (not including diagonal) = 410.42173431727514\n"
     ]
    },
    {
     "data": {
      "application/vnd.jupyter.widget-view+json": {
       "model_id": "ccbed8c0e5d3433996230fb08b8aff7c",
       "version_major": 2,
       "version_minor": 0
      },
      "text/plain": [
       "HBox(children=(FloatProgress(value=1.0, bar_style='info', max=1.0), HTML(value='')))"
      ]
     },
     "metadata": {},
     "output_type": "display_data"
    },
    {
     "name": "stdout",
     "output_type": "stream",
     "text": [
      "\n",
      "filtered_measurements = [398.81161555 474.46891688]\n",
      "new_threshold = 678.0820201771451\n"
     ]
    },
    {
     "data": {
      "application/vnd.jupyter.widget-view+json": {
       "model_id": "c604d300a49b4647a036b5d9113d42c6",
       "version_major": 2,
       "version_minor": 0
      },
      "text/plain": [
       "HBox(children=(FloatProgress(value=1.0, bar_style='info', max=1.0), HTML(value='')))"
      ]
     },
     "metadata": {},
     "output_type": "display_data"
    },
    {
     "name": "stdout",
     "output_type": "stream",
     "text": [
      "\n",
      "The smallest distance (not including diagonal) = 107.89346597454362\n"
     ]
    },
    {
     "data": {
      "application/vnd.jupyter.widget-view+json": {
       "model_id": "5c53da58ad21434b9435fa7d758b26cc",
       "version_major": 2,
       "version_minor": 0
      },
      "text/plain": [
       "HBox(children=(FloatProgress(value=1.0, bar_style='info', max=1.0), HTML(value='')))"
      ]
     },
     "metadata": {},
     "output_type": "display_data"
    },
    {
     "name": "stdout",
     "output_type": "stream",
     "text": [
      "\n",
      "filtered_measurements = [601.20170436 592.49463845 648.03268008 708.50406503 553.03999471\n",
      " 466.25250201 823.45892569 407.2858423  418.37728211 829.76544529\n",
      " 456.86730537 571.51375435 519.46799942 630.59353826 578.18442261\n",
      " 841.13138269 461.56766837 562.36244236 520.9204239  457.08137109\n",
      " 777.06362622 630.64814977 618.32106625 367.27109492 540.34135215\n",
      " 517.45900044]\n",
      "new_threshold = 2053.539242395758\n"
     ]
    },
    {
     "data": {
      "application/vnd.jupyter.widget-view+json": {
       "model_id": "a72de844e3cf4b018c77476ac9dd9240",
       "version_major": 2,
       "version_minor": 0
      },
      "text/plain": [
       "HBox(children=(FloatProgress(value=1.0, bar_style='info', max=1.0), HTML(value='')))"
      ]
     },
     "metadata": {},
     "output_type": "display_data"
    },
    {
     "name": "stdout",
     "output_type": "stream",
     "text": [
      "\n",
      "The smallest distance (not including diagonal) = 2.0\n"
     ]
    },
    {
     "data": {
      "application/vnd.jupyter.widget-view+json": {
       "model_id": "c927a9ec38384b69abd90d8ea396c461",
       "version_major": 2,
       "version_minor": 0
      },
      "text/plain": [
       "HBox(children=(FloatProgress(value=1.0, bar_style='info', max=1.0), HTML(value='')))"
      ]
     },
     "metadata": {},
     "output_type": "display_data"
    },
    {
     "name": "stdout",
     "output_type": "stream",
     "text": [
      "--> Not exactly one containing mesh: []\n",
      "--> Not exactly one containing mesh: [0 1]\n",
      "\n",
      "filtered_measurements = [107.14257002  86.49392947  85.10995443  75.1715885  126.77911879\n",
      "  69.15385227]\n",
      "new_threshold = 274.1168166073578\n"
     ]
    },
    {
     "data": {
      "application/vnd.jupyter.widget-view+json": {
       "model_id": "1ff67e23194741bdb9aa06093f155161",
       "version_major": 2,
       "version_minor": 0
      },
      "text/plain": [
       "HBox(children=(FloatProgress(value=1.0, bar_style='info', max=1.0), HTML(value='')))"
      ]
     },
     "metadata": {},
     "output_type": "display_data"
    },
    {
     "name": "stdout",
     "output_type": "stream",
     "text": [
      "--> Not exactly one containing mesh: []\n",
      "\n",
      "The smallest distance (not including diagonal) = 43.73785545725808\n"
     ]
    },
    {
     "data": {
      "application/vnd.jupyter.widget-view+json": {
       "model_id": "8ced7e7b057b497ca4aa3cdc3bd2cf85",
       "version_major": 2,
       "version_minor": 0
      },
      "text/plain": [
       "HBox(children=(FloatProgress(value=1.0, bar_style='info', max=1.0), HTML(value='')))"
      ]
     },
     "metadata": {},
     "output_type": "display_data"
    },
    {
     "name": "stdout",
     "output_type": "stream",
     "text": [
      "--> Not exactly one containing mesh: [0 1]\n",
      "--> Not exactly one containing mesh: []\n",
      "\n",
      "filtered_measurements = [ 91.64538526 131.03155699  64.78045196 122.66626126 104.72772507\n",
      "  80.45913403]\n",
      "new_threshold = 254.40813460071303\n"
     ]
    },
    {
     "data": {
      "application/vnd.jupyter.widget-view+json": {
       "model_id": "b3fa8319276e455996d62b1196fc3bb0",
       "version_major": 2,
       "version_minor": 0
      },
      "text/plain": [
       "HBox(children=(FloatProgress(value=1.0, bar_style='info', max=1.0), HTML(value='')))"
      ]
     },
     "metadata": {},
     "output_type": "display_data"
    },
    {
     "name": "stdout",
     "output_type": "stream",
     "text": [
      "--> Not exactly one containing mesh: []\n",
      "\n",
      "The smallest distance (not including diagonal) = 77.5306391048081\n"
     ]
    },
    {
     "data": {
      "application/vnd.jupyter.widget-view+json": {
       "model_id": "672208929e5744aa82eca217b47a14e2",
       "version_major": 2,
       "version_minor": 0
      },
      "text/plain": [
       "HBox(children=(FloatProgress(value=1.0, bar_style='info', max=1.0), HTML(value='')))"
      ]
     },
     "metadata": {},
     "output_type": "display_data"
    },
    {
     "name": "stdout",
     "output_type": "stream",
     "text": [
      "\n",
      "filtered_measurements = [350.91940177 539.95670173 437.365961   327.54410045 559.64200102\n",
      " 389.73509674 431.11145636 614.4314436  322.94247015 365.08481298\n",
      " 409.14395093 419.92574554 283.67537892 356.22862624 381.06277543\n",
      " 617.38861561 609.45649317 402.73212393 452.54517632 414.36198277\n",
      " 547.29849132 386.67971327 522.99421339 482.05601723 416.95250454\n",
      " 463.62811615 282.10752591 272.10605835 224.37271628 234.53543073\n",
      " 582.08415262 482.66874728 273.6432329  381.49076131 597.60628201\n",
      " 395.99058558 440.32193458 262.68773303 299.76648668 332.02761382\n",
      " 318.64986051 569.50451599 571.39583829 461.39604226 605.94184936\n",
      " 397.0763627  624.92678519 559.14659699 313.79985014 375.59953426\n",
      " 464.11370161]\n",
      "new_threshold = 1604.7277844051582\n"
     ]
    },
    {
     "data": {
      "application/vnd.jupyter.widget-view+json": {
       "model_id": "e2efc94fd3404001a525cfbe2be5a872",
       "version_major": 2,
       "version_minor": 0
      },
      "text/plain": [
       "HBox(children=(FloatProgress(value=1.0, bar_style='info', max=1.0), HTML(value='')))"
      ]
     },
     "metadata": {},
     "output_type": "display_data"
    },
    {
     "name": "stdout",
     "output_type": "stream",
     "text": [
      "\n",
      "The smallest distance (not including diagonal) = 272.2902862755115\n"
     ]
    },
    {
     "data": {
      "application/vnd.jupyter.widget-view+json": {
       "model_id": "39841cdf5b294411904a147bbfca9242",
       "version_major": 2,
       "version_minor": 0
      },
      "text/plain": [
       "HBox(children=(FloatProgress(value=1.0, bar_style='info', max=1.0), HTML(value='')))"
      ]
     },
     "metadata": {},
     "output_type": "display_data"
    },
    {
     "name": "stdout",
     "output_type": "stream",
     "text": [
      "\n",
      "filtered_measurements = [752.14352774]\n",
      "new_threshold = 1383.5300714410173\n"
     ]
    },
    {
     "data": {
      "application/vnd.jupyter.widget-view+json": {
       "model_id": "9c672b62b9a848728f97b03e2b69874c",
       "version_major": 2,
       "version_minor": 0
      },
      "text/plain": [
       "HBox(children=(FloatProgress(value=1.0, bar_style='info', max=1.0), HTML(value='')))"
      ]
     },
     "metadata": {},
     "output_type": "display_data"
    },
    {
     "name": "stdout",
     "output_type": "stream",
     "text": [
      "\n",
      "The smallest distance (not including diagonal) = 539.5961638114388\n"
     ]
    },
    {
     "data": {
      "application/vnd.jupyter.widget-view+json": {
       "model_id": "4c2dafecdcd84a4d9546777392fb8278",
       "version_major": 2,
       "version_minor": 0
      },
      "text/plain": [
       "HBox(children=(FloatProgress(value=1.0, bar_style='info', max=1.0), HTML(value='')))"
      ]
     },
     "metadata": {},
     "output_type": "display_data"
    },
    {
     "name": "stdout",
     "output_type": "stream",
     "text": [
      "\n",
      "filtered_measurements = [1386.34868658]\n",
      "new_threshold = 3056.5847547660537\n"
     ]
    },
    {
     "data": {
      "application/vnd.jupyter.widget-view+json": {
       "model_id": "b1489f4db37845d4aea759883b225429",
       "version_major": 2,
       "version_minor": 0
      },
      "text/plain": [
       "HBox(children=(FloatProgress(value=1.0, bar_style='info', max=1.0), HTML(value='')))"
      ]
     },
     "metadata": {},
     "output_type": "display_data"
    },
    {
     "name": "stdout",
     "output_type": "stream",
     "text": [
      "\n",
      "\n",
      "Working on limb #4\n",
      "The smallest distance (not including diagonal) = 4.47213595499958\n",
      "The smallest distance (not including diagonal) = 44.339598554790726\n",
      "The smallest distance (not including diagonal) = 18.57417562100671\n",
      "The smallest distance (not including diagonal) = 35.0\n",
      "The smallest distance (not including diagonal) = 33.54101966249684\n",
      "The smallest distance (not including diagonal) = 237.33941939762136\n",
      "The smallest distance (not including diagonal) = 77.82673062643708\n",
      "The smallest distance (not including diagonal) = 207.21167920752083\n",
      "The smallest distance (not including diagonal) = 60.03332407921454\n",
      "The smallest distance (not including diagonal) = 363.0564694369183\n",
      "The smallest distance (not including diagonal) = 115.0\n",
      "The smallest distance (not including diagonal) = 100.73728207570423\n",
      "The smallest distance (not including diagonal) = 146.8945199794737\n",
      "The smallest distance (not including diagonal) = 36.45545226711637\n",
      "The smallest distance (not including diagonal) = 90.37698822156003\n",
      "The smallest distance (not including diagonal) = 25.612496949731394\n",
      "The smallest distance (not including diagonal) = 122.0245876862528\n",
      "The smallest distance (not including diagonal) = 4.47213595499958\n",
      "The smallest distance (not including diagonal) = 72.2841614740048\n",
      "The smallest distance (not including diagonal) = 71.2460525222275\n",
      "The smallest distance (not including diagonal) = 102.975725294848\n",
      "The smallest distance (not including diagonal) = 84.81155581640984\n",
      "The smallest distance (not including diagonal) = 87.0\n",
      "The smallest distance (not including diagonal) = 217.046078057172\n",
      "The smallest distance (not including diagonal) = 5.0\n",
      "The smallest distance (not including diagonal) = 83.15263074613033\n",
      "The smallest distance (not including diagonal) = 40.29888335921977\n",
      "The smallest distance (not including diagonal) = 40.607881008493905\n",
      "The smallest distance (not including diagonal) = 75.4782087757866\n",
      "The smallest distance (not including diagonal) = 33.54101966249684\n",
      "The smallest distance (not including diagonal) = 56.471231613982\n",
      "The smallest distance (not including diagonal) = 67.20305052599919\n",
      "The smallest distance (not including diagonal) = 16.76305461424021\n",
      "The smallest distance (not including diagonal) = 16.24807680927192\n",
      "The smallest distance (not including diagonal) = 10.04987562112089\n",
      "The smallest distance (not including diagonal) = 63.31666447310692\n",
      "The smallest distance (not including diagonal) = 640.9430551928931\n",
      "The smallest distance (not including diagonal) = 638.5577499333948\n"
     ]
    },
    {
     "data": {
      "application/vnd.jupyter.widget-view+json": {
       "model_id": "8baecf2e48c340be917be7ba6fd0493d",
       "version_major": 2,
       "version_minor": 0
      },
      "text/plain": [
       "HBox(children=(FloatProgress(value=1.0, bar_style='info', max=1.0), HTML(value='')))"
      ]
     },
     "metadata": {},
     "output_type": "display_data"
    },
    {
     "name": "stdout",
     "output_type": "stream",
     "text": [
      "The smallest distance (not including diagonal) = 44.339598554790726\n"
     ]
    },
    {
     "data": {
      "application/vnd.jupyter.widget-view+json": {
       "model_id": "d86c4efe416e45059a1a39de52ffc696",
       "version_major": 2,
       "version_minor": 0
      },
      "text/plain": [
       "HBox(children=(FloatProgress(value=1.0, bar_style='info', max=1.0), HTML(value='')))"
      ]
     },
     "metadata": {},
     "output_type": "display_data"
    },
    {
     "name": "stdout",
     "output_type": "stream",
     "text": [
      "\n",
      "filtered_measurements = [241.94835916 356.58758606 313.92716736 330.49917228 394.88999559\n",
      " 422.75030195 425.94992266 547.51891562 563.79275243 221.8054997\n",
      " 409.45549997 515.77033622 378.49077525 557.13861457 547.85140233\n",
      " 494.11347229 252.02895606 228.76383914 338.25803672 471.32123629\n",
      " 241.22834883 282.33831971 371.59450174 511.93909691 260.94361694\n",
      " 347.10747603 377.65086071 228.03172324 354.00776488 519.40296574\n",
      " 451.23723141 319.32073367 334.79732774 294.53612204 259.47753261\n",
      " 242.8280438  285.78784923 193.5524247  253.97190051 248.01127019\n",
      " 283.32271978 379.51862003 204.28224982]\n",
      "new_threshold = 1427.9403256893052\n"
     ]
    },
    {
     "data": {
      "application/vnd.jupyter.widget-view+json": {
       "model_id": "f06a074df32a46a096800384c260965a",
       "version_major": 2,
       "version_minor": 0
      },
      "text/plain": [
       "HBox(children=(FloatProgress(value=1.0, bar_style='info', max=1.0), HTML(value='')))"
      ]
     },
     "metadata": {},
     "output_type": "display_data"
    },
    {
     "name": "stdout",
     "output_type": "stream",
     "text": [
      "\n",
      "The smallest distance (not including diagonal) = 18.57417562100671\n"
     ]
    },
    {
     "data": {
      "application/vnd.jupyter.widget-view+json": {
       "model_id": "b71d7007d27f4742a8e560fcb1f99faa",
       "version_major": 2,
       "version_minor": 0
      },
      "text/plain": [
       "HBox(children=(FloatProgress(value=1.0, bar_style='info', max=1.0), HTML(value='')))"
      ]
     },
     "metadata": {},
     "output_type": "display_data"
    },
    {
     "name": "stdout",
     "output_type": "stream",
     "text": [
      "--> Not exactly one containing mesh: []\n",
      "--> Not exactly one containing mesh: []\n",
      "--> Not exactly one containing mesh: []\n",
      "\n",
      "filtered_measurements = [154.06687033 115.34252627  60.06239075  85.79980427 196.52598378\n",
      " 173.20321883 152.08333732  79.36555733  73.56130976  72.80438841\n",
      "  80.98141869 171.97954292]\n",
      "new_threshold = 460.4072167593465\n"
     ]
    },
    {
     "data": {
      "application/vnd.jupyter.widget-view+json": {
       "model_id": "24dc2c67c5254698b659ab5acacabefd",
       "version_major": 2,
       "version_minor": 0
      },
      "text/plain": [
       "HBox(children=(FloatProgress(value=1.0, bar_style='info', max=1.0), HTML(value='')))"
      ]
     },
     "metadata": {},
     "output_type": "display_data"
    },
    {
     "name": "stdout",
     "output_type": "stream",
     "text": [
      "--> Not exactly one containing mesh: []\n",
      "--> Not exactly one containing mesh: []\n",
      "--> Not exactly one containing mesh: []\n",
      "\n",
      "branch_touching_number = [15]\n",
      "branch_touching_number = [15, 1]\n",
      "most_branch_containing_piece = 0\n",
      "The smallest distance (not including diagonal) = 35.0\n"
     ]
    },
    {
     "data": {
      "application/vnd.jupyter.widget-view+json": {
       "model_id": "a0c6dcfdf7cc4b349d097746a51958b2",
       "version_major": 2,
       "version_minor": 0
      },
      "text/plain": [
       "HBox(children=(FloatProgress(value=1.0, bar_style='info', max=1.0), HTML(value='')))"
      ]
     },
     "metadata": {},
     "output_type": "display_data"
    },
    {
     "name": "stdout",
     "output_type": "stream",
     "text": [
      "\n",
      "filtered_measurements = [ 76.26318112  68.51442579 194.03133123 327.75860028 331.18392573\n",
      " 174.3990203  103.10289405 228.63363921 211.95273799 154.97427619\n",
      " 207.06306366 290.43455805 217.76559163 288.43193655 240.00510938\n",
      " 120.23682226 128.20933133 164.73863972 167.88299972 239.65452946\n",
      " 226.79216415 331.89662272 345.78832726 199.19290768 235.38156916\n",
      " 224.38443676 320.63641847 326.22989814 253.02185732 209.9498064\n",
      " 303.21760287 198.99670458 190.97656969 160.17425618 286.84599891\n",
      " 261.08534126 187.15411615 158.90423271 350.46495291 222.13400448\n",
      " 185.44254922]\n",
      "new_threshold = 713.4776813278546\n"
     ]
    },
    {
     "data": {
      "application/vnd.jupyter.widget-view+json": {
       "model_id": "69a083097059409685c83ed6acbd5f3e",
       "version_major": 2,
       "version_minor": 0
      },
      "text/plain": [
       "HBox(children=(FloatProgress(value=1.0, bar_style='info', max=1.0), HTML(value='')))"
      ]
     },
     "metadata": {},
     "output_type": "display_data"
    },
    {
     "name": "stdout",
     "output_type": "stream",
     "text": [
      "\n",
      "The smallest distance (not including diagonal) = 33.54101966249684\n"
     ]
    },
    {
     "data": {
      "application/vnd.jupyter.widget-view+json": {
       "model_id": "c8bc23d3b7494142a2b261ca388279ef",
       "version_major": 2,
       "version_minor": 0
      },
      "text/plain": [
       "HBox(children=(FloatProgress(value=1.0, bar_style='info', max=1.0), HTML(value='')))"
      ]
     },
     "metadata": {},
     "output_type": "display_data"
    },
    {
     "name": "stdout",
     "output_type": "stream",
     "text": [
      "\n",
      "filtered_measurements = [ 97.93492334  57.59139924  89.60460001 112.65688392 133.78151497\n",
      " 133.83611547 156.13897045 118.73408365 139.32629662 118.53808934\n",
      " 103.94598568 119.56743036 115.69518572 108.75393261 146.66287111\n",
      " 116.08099311  87.14721101  85.05896542  88.33367468 117.9087487\n",
      " 105.17806134 133.27398617 151.27843068 131.06869592 160.08163435\n",
      " 141.56101635 164.56743877 161.50934343 132.65147459 118.91966323\n",
      " 158.52450241 187.22897225 161.60423565 145.91659784 129.97759295\n",
      " 129.18168253  90.44284341 115.88144256 130.91001431 112.54034553]\n",
      "new_threshold = 403.3103955105949\n"
     ]
    },
    {
     "data": {
      "application/vnd.jupyter.widget-view+json": {
       "model_id": "c55c1a1a50284a13adfb82f35323ec05",
       "version_major": 2,
       "version_minor": 0
      },
      "text/plain": [
       "HBox(children=(FloatProgress(value=1.0, bar_style='info', max=1.0), HTML(value='')))"
      ]
     },
     "metadata": {},
     "output_type": "display_data"
    },
    {
     "name": "stdout",
     "output_type": "stream",
     "text": [
      "\n",
      "The smallest distance (not including diagonal) = 237.33941939762136\n"
     ]
    },
    {
     "data": {
      "application/vnd.jupyter.widget-view+json": {
       "model_id": "ac9256045c50430fbd5a979402008093",
       "version_major": 2,
       "version_minor": 0
      },
      "text/plain": [
       "HBox(children=(FloatProgress(value=1.0, bar_style='info', max=1.0), HTML(value='')))"
      ]
     },
     "metadata": {},
     "output_type": "display_data"
    },
    {
     "name": "stdout",
     "output_type": "stream",
     "text": [
      "\n",
      "filtered_measurements = [523.95748619 631.28452332]\n",
      "new_threshold = 1093.9702256708497\n"
     ]
    },
    {
     "data": {
      "application/vnd.jupyter.widget-view+json": {
       "model_id": "e16d1f85463149ad973cfa0c7af481f6",
       "version_major": 2,
       "version_minor": 0
      },
      "text/plain": [
       "HBox(children=(FloatProgress(value=1.0, bar_style='info', max=1.0), HTML(value='')))"
      ]
     },
     "metadata": {},
     "output_type": "display_data"
    },
    {
     "name": "stdout",
     "output_type": "stream",
     "text": [
      "\n",
      "The smallest distance (not including diagonal) = 77.82673062643708\n"
     ]
    },
    {
     "data": {
      "application/vnd.jupyter.widget-view+json": {
       "model_id": "31e1a656c16f4028be646b112dcd956d",
       "version_major": 2,
       "version_minor": 0
      },
      "text/plain": [
       "HBox(children=(FloatProgress(value=1.0, bar_style='info', max=1.0), HTML(value='')))"
      ]
     },
     "metadata": {},
     "output_type": "display_data"
    },
    {
     "name": "stdout",
     "output_type": "stream",
     "text": [
      "\n",
      "filtered_measurements = [709.55111625 623.20762176 648.92432905 700.80491085 684.96736088\n",
      " 702.85297618 791.55488938 791.6030848  759.64039092 676.48671998\n",
      " 577.18558263 713.49876221 841.45861652 916.13820727 809.44536772]\n",
      "new_threshold = 1859.7504610749106\n"
     ]
    },
    {
     "data": {
      "application/vnd.jupyter.widget-view+json": {
       "model_id": "9f79ba3ac97549fc9f09f8a217bebcb9",
       "version_major": 2,
       "version_minor": 0
      },
      "text/plain": [
       "HBox(children=(FloatProgress(value=1.0, bar_style='info', max=1.0), HTML(value='')))"
      ]
     },
     "metadata": {},
     "output_type": "display_data"
    },
    {
     "name": "stdout",
     "output_type": "stream",
     "text": [
      "\n",
      "The smallest distance (not including diagonal) = 207.21167920752083\n"
     ]
    },
    {
     "data": {
      "application/vnd.jupyter.widget-view+json": {
       "model_id": "851a6f33230645b6a47c0f03de350db4",
       "version_major": 2,
       "version_minor": 0
      },
      "text/plain": [
       "HBox(children=(FloatProgress(value=1.0, bar_style='info', max=1.0), HTML(value='')))"
      ]
     },
     "metadata": {},
     "output_type": "display_data"
    },
    {
     "name": "stdout",
     "output_type": "stream",
     "text": [
      "--> Not exactly one containing mesh: []\n",
      "--> Not exactly one containing mesh: []\n",
      "\n",
      "filtered_measurements = [ 74.72948665  86.39223727  91.32913812  69.31996708  61.49986198\n",
      " 111.18906184]\n",
      "new_threshold = 199.9457798639391\n"
     ]
    },
    {
     "data": {
      "application/vnd.jupyter.widget-view+json": {
       "model_id": "fbb123b8473c42139604c1b277c8b484",
       "version_major": 2,
       "version_minor": 0
      },
      "text/plain": [
       "HBox(children=(FloatProgress(value=1.0, bar_style='info', max=1.0), HTML(value='')))"
      ]
     },
     "metadata": {},
     "output_type": "display_data"
    },
    {
     "name": "stdout",
     "output_type": "stream",
     "text": [
      "--> Not exactly one containing mesh: []\n",
      "--> Not exactly one containing mesh: []\n",
      "--> Not exactly one containing mesh: []\n",
      "--> Not exactly one containing mesh: []\n",
      "THERE WERE NO FACES THAT FIT THE DISTANCE (199.9457798639391) and Z transform requirements\n",
      "So just skipping this edge\n",
      "\n",
      "branch_touching_number = [7]\n",
      "branch_touching_number = [7, 3]\n",
      "branch_touching_number = [7, 3, 1]\n",
      "most_branch_containing_piece = 0\n",
      "The smallest distance (not including diagonal) = 60.03332407921454\n"
     ]
    },
    {
     "data": {
      "application/vnd.jupyter.widget-view+json": {
       "model_id": "dffafde544e8487e92bec52e8eef6c5e",
       "version_major": 2,
       "version_minor": 0
      },
      "text/plain": [
       "HBox(children=(FloatProgress(value=1.0, bar_style='info', max=1.0), HTML(value='')))"
      ]
     },
     "metadata": {},
     "output_type": "display_data"
    },
    {
     "name": "stdout",
     "output_type": "stream",
     "text": [
      "\n",
      "filtered_measurements = [504.7550999  522.87895378 711.33386424]\n",
      "new_threshold = 1537.0058433514473\n"
     ]
    },
    {
     "data": {
      "application/vnd.jupyter.widget-view+json": {
       "model_id": "8e554c23a4bd43a0a04a88a3ae0c4172",
       "version_major": 2,
       "version_minor": 0
      },
      "text/plain": [
       "HBox(children=(FloatProgress(value=1.0, bar_style='info', max=1.0), HTML(value='')))"
      ]
     },
     "metadata": {},
     "output_type": "display_data"
    },
    {
     "name": "stdout",
     "output_type": "stream",
     "text": [
      "\n",
      "The smallest distance (not including diagonal) = 363.0564694369183\n"
     ]
    },
    {
     "data": {
      "application/vnd.jupyter.widget-view+json": {
       "model_id": "cb1cee65fe1d4955b76f5701959a8dcf",
       "version_major": 2,
       "version_minor": 0
      },
      "text/plain": [
       "HBox(children=(FloatProgress(value=1.0, bar_style='info', max=1.0), HTML(value='')))"
      ]
     },
     "metadata": {},
     "output_type": "display_data"
    },
    {
     "name": "stdout",
     "output_type": "stream",
     "text": [
      "\n",
      "filtered_measurements = [455.52402033 558.97080003]\n",
      "new_threshold = 1030.2064919679246\n"
     ]
    },
    {
     "data": {
      "application/vnd.jupyter.widget-view+json": {
       "model_id": "1f3ef21b6c9c4fb5920c7f1bf50f05a7",
       "version_major": 2,
       "version_minor": 0
      },
      "text/plain": [
       "HBox(children=(FloatProgress(value=1.0, bar_style='info', max=1.0), HTML(value='')))"
      ]
     },
     "metadata": {},
     "output_type": "display_data"
    },
    {
     "name": "stdout",
     "output_type": "stream",
     "text": [
      "\n",
      "The smallest distance (not including diagonal) = 115.0\n"
     ]
    },
    {
     "data": {
      "application/vnd.jupyter.widget-view+json": {
       "model_id": "5fcd804f7c5f4591a9be52a400e6cd03",
       "version_major": 2,
       "version_minor": 0
      },
      "text/plain": [
       "HBox(children=(FloatProgress(value=1.0, bar_style='info', max=1.0), HTML(value='')))"
      ]
     },
     "metadata": {},
     "output_type": "display_data"
    },
    {
     "name": "stdout",
     "output_type": "stream",
     "text": [
      "--> Not exactly one containing mesh: []\n",
      "\n",
      "filtered_measurements = [148.65354844 165.46246865 264.92548765 275.50657991 379.15341442\n",
      " 287.16904679 300.0988371  182.79309771 276.47469013 425.20267541\n",
      " 299.1401704  299.67150419 201.08181622 363.86302139 290.80855999\n",
      " 228.40621054 205.67945272 188.92486108 335.45851698 421.01334824\n",
      " 214.96829728 390.33952596 432.95537379 227.49350496 231.38070753\n",
      " 357.43279621 306.56394345 195.61061047 119.38318558 305.08107212\n",
      " 347.93756996 213.68820588 340.59066448 199.32069738 235.61223608\n",
      " 202.19302496 274.20711548 180.5074936  235.08109136 420.77608027\n",
      " 240.90230183 369.12301559 298.36341103 202.50519561 125.47935949\n",
      " 237.45812135 332.83674628 130.24927602 182.97280936 257.76768055]\n",
      "new_threshold = 1145.0133857693365\n"
     ]
    },
    {
     "data": {
      "application/vnd.jupyter.widget-view+json": {
       "model_id": "50e40e673f10403e902033aeb389eccb",
       "version_major": 2,
       "version_minor": 0
      },
      "text/plain": [
       "HBox(children=(FloatProgress(value=1.0, bar_style='info', max=1.0), HTML(value='')))"
      ]
     },
     "metadata": {},
     "output_type": "display_data"
    },
    {
     "name": "stdout",
     "output_type": "stream",
     "text": [
      "--> Not exactly one containing mesh: []\n",
      "\n",
      "The smallest distance (not including diagonal) = 100.73728207570423\n"
     ]
    },
    {
     "data": {
      "application/vnd.jupyter.widget-view+json": {
       "model_id": "8ecb117eb60547c4acec76dfc8e222e2",
       "version_major": 2,
       "version_minor": 0
      },
      "text/plain": [
       "HBox(children=(FloatProgress(value=1.0, bar_style='info', max=1.0), HTML(value='')))"
      ]
     },
     "metadata": {},
     "output_type": "display_data"
    },
    {
     "name": "stdout",
     "output_type": "stream",
     "text": [
      "\n",
      "filtered_measurements = [236.33794733 231.49691688 271.76138516 404.13155129 422.36777348\n",
      " 228.42026481 291.17498937 329.35822089 187.75176563 267.31935295\n",
      " 292.43014715 287.59356814 266.016245   201.57724878 338.16836066\n",
      " 352.41558699]\n",
      "new_threshold = 895.3600922450505\n"
     ]
    },
    {
     "data": {
      "application/vnd.jupyter.widget-view+json": {
       "model_id": "d86fcaf8b07c4a9d9256eee139742c5f",
       "version_major": 2,
       "version_minor": 0
      },
      "text/plain": [
       "HBox(children=(FloatProgress(value=1.0, bar_style='info', max=1.0), HTML(value='')))"
      ]
     },
     "metadata": {},
     "output_type": "display_data"
    },
    {
     "name": "stdout",
     "output_type": "stream",
     "text": [
      "\n",
      "The smallest distance (not including diagonal) = 146.8945199794737\n"
     ]
    },
    {
     "data": {
      "application/vnd.jupyter.widget-view+json": {
       "model_id": "02623392938047e083802d45bde330b9",
       "version_major": 2,
       "version_minor": 0
      },
      "text/plain": [
       "HBox(children=(FloatProgress(value=1.0, bar_style='info', max=1.0), HTML(value='')))"
      ]
     },
     "metadata": {},
     "output_type": "display_data"
    },
    {
     "name": "stdout",
     "output_type": "stream",
     "text": [
      "\n",
      "filtered_measurements = [364.64900412 398.8401576  613.02603771 634.24863125 425.85388893\n",
      " 446.93381973 491.25915267 621.77997415 617.07042736 365.26038271\n",
      " 433.99159123 346.35843515 397.18973921 412.29100803 564.72270746\n",
      " 372.07152224 384.59595379 395.7369943  362.22149662 338.28157962\n",
      " 464.20933298 456.01168903 671.70699622 486.60779076 482.06059961\n",
      " 475.68712228]\n",
      "new_threshold = 1493.0763393393618\n"
     ]
    },
    {
     "data": {
      "application/vnd.jupyter.widget-view+json": {
       "model_id": "deb64b0db2074cf8a2b3988e840860df",
       "version_major": 2,
       "version_minor": 0
      },
      "text/plain": [
       "HBox(children=(FloatProgress(value=1.0, bar_style='info', max=1.0), HTML(value='')))"
      ]
     },
     "metadata": {},
     "output_type": "display_data"
    },
    {
     "name": "stdout",
     "output_type": "stream",
     "text": [
      "\n",
      "The smallest distance (not including diagonal) = 36.45545226711637\n"
     ]
    },
    {
     "data": {
      "application/vnd.jupyter.widget-view+json": {
       "model_id": "47ed2d9f2f5d44e08f7273bf6b94094d",
       "version_major": 2,
       "version_minor": 0
      },
      "text/plain": [
       "HBox(children=(FloatProgress(value=1.0, bar_style='info', max=1.0), HTML(value='')))"
      ]
     },
     "metadata": {},
     "output_type": "display_data"
    },
    {
     "name": "stdout",
     "output_type": "stream",
     "text": [
      "--> Not exactly one containing mesh: []\n",
      "\n",
      "branch_touching_number = [24]\n",
      "branch_touching_number = [24, 1]\n",
      "most_branch_containing_piece = 0\n",
      "filtered_measurements = [ 88.91481914 117.43742899  97.04202821  81.30240447  71.79304476\n",
      "  61.56816302  56.31553157  78.59850109  55.06117068  61.33031154\n",
      "  53.32519866  44.27201309  74.78796769 114.79686978  84.72216641\n",
      "  68.23202393  79.38424436  99.33647609]\n",
      "new_threshold = 247.04399675730878\n"
     ]
    },
    {
     "data": {
      "application/vnd.jupyter.widget-view+json": {
       "model_id": "60cd8d3beb8d48ca97d1c5f56dbf0190",
       "version_major": 2,
       "version_minor": 0
      },
      "text/plain": [
       "HBox(children=(FloatProgress(value=1.0, bar_style='info', max=1.0), HTML(value='')))"
      ]
     },
     "metadata": {},
     "output_type": "display_data"
    },
    {
     "name": "stdout",
     "output_type": "stream",
     "text": [
      "--> Not exactly one containing mesh: []\n",
      "THERE WERE NO FACES THAT FIT THE DISTANCE (247.04399675730878) and Z transform requirements\n",
      "So just skipping this edge\n",
      "\n",
      "The smallest distance (not including diagonal) = 90.37698822156003\n"
     ]
    },
    {
     "data": {
      "application/vnd.jupyter.widget-view+json": {
       "model_id": "800ab26b2e70463aa1bbffbf7e298f4f",
       "version_major": 2,
       "version_minor": 0
      },
      "text/plain": [
       "HBox(children=(FloatProgress(value=1.0, bar_style='info', max=1.0), HTML(value='')))"
      ]
     },
     "metadata": {},
     "output_type": "display_data"
    },
    {
     "name": "stdout",
     "output_type": "stream",
     "text": [
      "\n",
      "filtered_measurements = [565.15593541 387.57100015 669.63483211 817.02810857 516.70909407\n",
      " 518.51215452 403.85519885 764.37611343 440.62967122 563.78867213\n",
      " 505.41500895 778.25523749 502.41932895 585.19961984 492.53225187\n",
      " 492.07620415 608.82064559 712.90998563 704.73812306 336.74712918\n",
      " 453.00864595 405.53928894 543.2970672  617.3005566  799.30486252]\n",
      "new_threshold = 1935.6640082253898\n"
     ]
    },
    {
     "data": {
      "application/vnd.jupyter.widget-view+json": {
       "model_id": "e538b53f4a3d49beacbda2ed63230c33",
       "version_major": 2,
       "version_minor": 0
      },
      "text/plain": [
       "HBox(children=(FloatProgress(value=1.0, bar_style='info', max=1.0), HTML(value='')))"
      ]
     },
     "metadata": {},
     "output_type": "display_data"
    },
    {
     "name": "stdout",
     "output_type": "stream",
     "text": [
      "\n",
      "The smallest distance (not including diagonal) = 25.612496949731394\n"
     ]
    },
    {
     "data": {
      "application/vnd.jupyter.widget-view+json": {
       "model_id": "6fe1406d8ed34d348bedaf28144d20f4",
       "version_major": 2,
       "version_minor": 0
      },
      "text/plain": [
       "HBox(children=(FloatProgress(value=1.0, bar_style='info', max=1.0), HTML(value='')))"
      ]
     },
     "metadata": {},
     "output_type": "display_data"
    },
    {
     "name": "stdout",
     "output_type": "stream",
     "text": [
      "--> Not exactly one containing mesh: []\n",
      "--> Not exactly one containing mesh: []\n",
      "--> Not exactly one containing mesh: []\n",
      "\n",
      "filtered_measurements = [ 78.71377387 143.21362332  57.33418904  82.09325584 140.3512186\n",
      "  74.48490545  86.38782783  84.50889393 134.0683818   73.35454517\n",
      "  81.29024474 119.22934397  95.40913521  77.24400902  80.35665088\n",
      " 112.6429115  124.0974788  116.62681317 137.35339093 144.15192869\n",
      " 111.93601581 122.11592167 115.37205654  76.2199463   74.79772145]\n",
      "new_threshold = 306.18425738459166\n"
     ]
    },
    {
     "data": {
      "application/vnd.jupyter.widget-view+json": {
       "model_id": "e857212c5ed14ab6a7c0ebda25fdb412",
       "version_major": 2,
       "version_minor": 0
      },
      "text/plain": [
       "HBox(children=(FloatProgress(value=1.0, bar_style='info', max=1.0), HTML(value='')))"
      ]
     },
     "metadata": {},
     "output_type": "display_data"
    },
    {
     "name": "stdout",
     "output_type": "stream",
     "text": [
      "--> Not exactly one containing mesh: []\n",
      "--> Not exactly one containing mesh: []\n",
      "--> Not exactly one containing mesh: []\n",
      "\n",
      "The smallest distance (not including diagonal) = 122.0245876862528\n"
     ]
    },
    {
     "data": {
      "application/vnd.jupyter.widget-view+json": {
       "model_id": "a223842f62904387818330683fa7ff2c",
       "version_major": 2,
       "version_minor": 0
      },
      "text/plain": [
       "HBox(children=(FloatProgress(value=1.0, bar_style='info', max=1.0), HTML(value='')))"
      ]
     },
     "metadata": {},
     "output_type": "display_data"
    },
    {
     "name": "stdout",
     "output_type": "stream",
     "text": [
      "\n",
      "filtered_measurements = [482.45081004 700.22554459 660.93118097 396.45502925 513.75740636\n",
      " 343.32367227 590.90711217 569.58898923 379.31042446 429.62973954\n",
      " 339.86411967 320.16448781 339.72222948 514.22427403 715.16101304\n",
      " 373.61255992 499.56868815]\n",
      "new_threshold = 1643.215883879127\n"
     ]
    },
    {
     "data": {
      "application/vnd.jupyter.widget-view+json": {
       "model_id": "be711b47fb6d459cb4bd7c7d6e0cd433",
       "version_major": 2,
       "version_minor": 0
      },
      "text/plain": [
       "HBox(children=(FloatProgress(value=1.0, bar_style='info', max=1.0), HTML(value='')))"
      ]
     },
     "metadata": {},
     "output_type": "display_data"
    },
    {
     "name": "stdout",
     "output_type": "stream",
     "text": [
      "\n",
      "The smallest distance (not including diagonal) = 4.47213595499958\n"
     ]
    },
    {
     "data": {
      "application/vnd.jupyter.widget-view+json": {
       "model_id": "6f3fc443a9884b28acf88a06909b7355",
       "version_major": 2,
       "version_minor": 0
      },
      "text/plain": [
       "HBox(children=(FloatProgress(value=1.0, bar_style='info', max=1.0), HTML(value='')))"
      ]
     },
     "metadata": {},
     "output_type": "display_data"
    },
    {
     "name": "stdout",
     "output_type": "stream",
     "text": [
      "--> Not exactly one containing mesh: []\n",
      "--> Not exactly one containing mesh: []\n",
      "--> Not exactly one containing mesh: []\n",
      "\n",
      "filtered_measurements = [1174.94839588 1140.42302324  186.53324101]\n",
      "new_threshold = 2356.8673610749356\n"
     ]
    },
    {
     "data": {
      "application/vnd.jupyter.widget-view+json": {
       "model_id": "817ce1a7ee6d4a378e3154846a085232",
       "version_major": 2,
       "version_minor": 0
      },
      "text/plain": [
       "HBox(children=(FloatProgress(value=1.0, bar_style='info', max=1.0), HTML(value='')))"
      ]
     },
     "metadata": {},
     "output_type": "display_data"
    },
    {
     "name": "stdout",
     "output_type": "stream",
     "text": [
      "--> Not exactly one containing mesh: []\n",
      "--> Not exactly one containing mesh: []\n",
      "--> Not exactly one containing mesh: []\n",
      "\n",
      "branch_touching_number = [4]\n",
      "branch_touching_number = [4, 2]\n",
      "most_branch_containing_piece = 0\n",
      "The smallest distance (not including diagonal) = 72.2841614740048\n"
     ]
    },
    {
     "data": {
      "application/vnd.jupyter.widget-view+json": {
       "model_id": "abdc8922cc544016970f4a4bba25194c",
       "version_major": 2,
       "version_minor": 0
      },
      "text/plain": [
       "HBox(children=(FloatProgress(value=1.0, bar_style='info', max=1.0), HTML(value='')))"
      ]
     },
     "metadata": {},
     "output_type": "display_data"
    },
    {
     "name": "stdout",
     "output_type": "stream",
     "text": [
      "--> Not exactly one containing mesh: []\n",
      "--> Not exactly one containing mesh: []\n",
      "\n",
      "filtered_measurements = [134.94723517 112.49738425 115.18544994  86.27028113 127.12229301\n",
      " 240.83555841 169.13295575 233.04886339 236.54823657 244.59340177\n",
      " 130.21168001 123.71824808]\n",
      "new_threshold = 525.6132147027788\n"
     ]
    },
    {
     "data": {
      "application/vnd.jupyter.widget-view+json": {
       "model_id": "b86c0af65ce946e588c4769faa5140cb",
       "version_major": 2,
       "version_minor": 0
      },
      "text/plain": [
       "HBox(children=(FloatProgress(value=1.0, bar_style='info', max=1.0), HTML(value='')))"
      ]
     },
     "metadata": {},
     "output_type": "display_data"
    },
    {
     "name": "stdout",
     "output_type": "stream",
     "text": [
      "--> Not exactly one containing mesh: []\n",
      "--> Not exactly one containing mesh: []\n",
      "\n",
      "The smallest distance (not including diagonal) = 71.2460525222275\n"
     ]
    },
    {
     "data": {
      "application/vnd.jupyter.widget-view+json": {
       "model_id": "06080a941cd64e4685e00273c6aa3e7c",
       "version_major": 2,
       "version_minor": 0
      },
      "text/plain": [
       "HBox(children=(FloatProgress(value=1.0, bar_style='info', max=1.0), HTML(value='')))"
      ]
     },
     "metadata": {},
     "output_type": "display_data"
    },
    {
     "name": "stdout",
     "output_type": "stream",
     "text": [
      "\n",
      "filtered_measurements = [554.22436692 328.86077599 258.76632883 262.57711661 276.37929343\n",
      " 273.63394682 542.71998516 471.20120814 330.15730475 305.45372833\n",
      " 518.601185   347.09684667 401.24690411 419.33632715 421.38980331\n",
      " 481.26186804 277.56877705 347.64000697 483.23405173 457.80478147\n",
      " 217.91886998 502.67180524 425.98865018 455.39440499 512.36643186\n",
      " 290.91004776 495.86901463 362.32362052 551.07255343 346.1351953\n",
      " 223.47214898 349.01376247 238.24130966 282.15877176 504.4392938\n",
      " 415.54927515 479.51115309 369.49206315 526.00114205 329.02518486\n",
      " 466.2364469  542.55369007 375.14343729 429.3671892  399.08499577\n",
      " 224.65787955 241.3222106  372.87019092 270.05168742 259.22253191\n",
      " 230.48362625 222.39759419 445.62726039 500.78459872 452.27328652\n",
      " 437.3074146  299.31706936 273.32311151 312.63315922 171.65903367\n",
      " 157.16034325 180.39705741 209.96206743 247.24211485 255.11759712\n",
      " 238.43644087 469.84970588 334.96041532 404.6964057  209.80856488\n",
      " 241.59760936 418.0982462  392.19046369 252.99052344 349.06225582\n",
      " 292.85986498 216.56608908 319.64476581 539.93920963 523.78609233]\n",
      "new_threshold = 1428.1451963041009\n"
     ]
    },
    {
     "data": {
      "application/vnd.jupyter.widget-view+json": {
       "model_id": "ba699d3bdb90481a8c7fa619302df5ac",
       "version_major": 2,
       "version_minor": 0
      },
      "text/plain": [
       "HBox(children=(FloatProgress(value=1.0, bar_style='info', max=1.0), HTML(value='')))"
      ]
     },
     "metadata": {},
     "output_type": "display_data"
    },
    {
     "name": "stdout",
     "output_type": "stream",
     "text": [
      "\n",
      "The smallest distance (not including diagonal) = 102.975725294848\n"
     ]
    },
    {
     "data": {
      "application/vnd.jupyter.widget-view+json": {
       "model_id": "a058df3b05834a87a09f885b46412ce8",
       "version_major": 2,
       "version_minor": 0
      },
      "text/plain": [
       "HBox(children=(FloatProgress(value=1.0, bar_style='info', max=1.0), HTML(value='')))"
      ]
     },
     "metadata": {},
     "output_type": "display_data"
    },
    {
     "name": "stdout",
     "output_type": "stream",
     "text": [
      "\n",
      "filtered_measurements = [117.04306741  80.72811853 131.68529061 138.12139356 134.28505487]\n",
      "new_threshold = 313.6125372553731\n"
     ]
    },
    {
     "data": {
      "application/vnd.jupyter.widget-view+json": {
       "model_id": "f341a3246ec04ed7a74e6aab5375ecbf",
       "version_major": 2,
       "version_minor": 0
      },
      "text/plain": [
       "HBox(children=(FloatProgress(value=1.0, bar_style='info', max=1.0), HTML(value='')))"
      ]
     },
     "metadata": {},
     "output_type": "display_data"
    },
    {
     "name": "stdout",
     "output_type": "stream",
     "text": [
      "\n",
      "The smallest distance (not including diagonal) = 84.81155581640984\n"
     ]
    },
    {
     "data": {
      "application/vnd.jupyter.widget-view+json": {
       "model_id": "b1e34a809521473cbf81ad49822587f3",
       "version_major": 2,
       "version_minor": 0
      },
      "text/plain": [
       "HBox(children=(FloatProgress(value=1.0, bar_style='info', max=1.0), HTML(value='')))"
      ]
     },
     "metadata": {},
     "output_type": "display_data"
    },
    {
     "name": "stdout",
     "output_type": "stream",
     "text": [
      "--> Not exactly one containing mesh: []\n",
      "\n",
      "filtered_measurements = [215.68797372 318.75185011 327.26839969 312.51253893 373.5111094\n",
      " 239.12913894 213.86503897 273.92550029 445.03467017 299.39582113\n",
      " 216.74673679 366.04607937 264.03509091 373.95351401 456.24447328\n",
      " 421.96176054 257.60332503 196.30294656 271.63794288 353.36081808\n",
      " 300.04946261 177.53660636 234.36798708 167.70650628 260.28468171\n",
      " 290.32010911 283.03354284 359.52630831 335.46850217 243.22981681\n",
      " 209.09271581 249.45493569 270.13048772 212.79616384 242.98677004\n",
      " 294.12153679 291.32919741 239.00524991 318.69360906 340.2696151\n",
      " 337.4131961  240.53350713 274.47937901 257.6498199  359.818333\n",
      " 412.82840451 438.09165716 295.92874103 309.03753726 290.86481857\n",
      " 423.07684451 192.11813607 331.73324933 299.21670249 309.31669023\n",
      " 272.97480319 242.49930818 285.26834021 237.82302885 235.11189582\n",
      " 448.85034817 242.63942842 199.72331774 364.50963349 284.12281847\n",
      " 417.62119242 335.27576984 207.9594664  224.09012777 163.41031753\n",
      " 265.62166232 416.98297174 291.88613947 379.58521517 302.76143454\n",
      " 307.21083416 357.16798548 378.38330739 454.95954023 338.51623914\n",
      " 180.8900661  144.91977348 318.40614016 215.27580037 159.92283818\n",
      " 175.97178093 111.2863623  471.02696334 374.04820276 453.38569523\n",
      " 276.2559227  389.52672431 396.63060056 308.33201722 208.26605773\n",
      " 191.06015634 166.49810049 141.81854386 407.82798562 230.3364272\n",
      " 238.40469603 396.97187334 298.52858287 258.98445782 161.29119579\n",
      " 401.30906005 244.88365836 327.80522878 169.3905486  194.58741737\n",
      " 321.2731285  242.99252161]\n",
      "new_threshold = 1301.198260743039\n"
     ]
    },
    {
     "data": {
      "application/vnd.jupyter.widget-view+json": {
       "model_id": "682726f7d3e443e8b637523715fa6f29",
       "version_major": 2,
       "version_minor": 0
      },
      "text/plain": [
       "HBox(children=(FloatProgress(value=1.0, bar_style='info', max=1.0), HTML(value='')))"
      ]
     },
     "metadata": {},
     "output_type": "display_data"
    },
    {
     "name": "stdout",
     "output_type": "stream",
     "text": [
      "--> Not exactly one containing mesh: []\n",
      "\n",
      "The smallest distance (not including diagonal) = 87.0\n"
     ]
    },
    {
     "data": {
      "application/vnd.jupyter.widget-view+json": {
       "model_id": "624c2b0aded64bc5a0470c1b7ddaa205",
       "version_major": 2,
       "version_minor": 0
      },
      "text/plain": [
       "HBox(children=(FloatProgress(value=1.0, bar_style='info', max=1.0), HTML(value='')))"
      ]
     },
     "metadata": {},
     "output_type": "display_data"
    },
    {
     "name": "stdout",
     "output_type": "stream",
     "text": [
      "\n",
      "filtered_measurements = [195.44658457 262.2179811  256.34612203 237.05326358 393.57790936\n",
      " 311.91101282 223.52353328 311.34195566 277.19788965 313.92038404\n",
      " 302.15236383 319.49367302 226.3581315  303.90889221 326.29123057\n",
      " 331.21230686 256.24483534]\n",
      "new_threshold = 846.0568922957139\n"
     ]
    },
    {
     "data": {
      "application/vnd.jupyter.widget-view+json": {
       "model_id": "516cb337150f4ceca53e6e6ab6343b1f",
       "version_major": 2,
       "version_minor": 0
      },
      "text/plain": [
       "HBox(children=(FloatProgress(value=1.0, bar_style='info', max=1.0), HTML(value='')))"
      ]
     },
     "metadata": {},
     "output_type": "display_data"
    },
    {
     "name": "stdout",
     "output_type": "stream",
     "text": [
      "\n",
      "The smallest distance (not including diagonal) = 217.046078057172\n"
     ]
    },
    {
     "data": {
      "application/vnd.jupyter.widget-view+json": {
       "model_id": "11950fd00e8548d2b08908252de4c995",
       "version_major": 2,
       "version_minor": 0
      },
      "text/plain": [
       "HBox(children=(FloatProgress(value=1.0, bar_style='info', max=1.0), HTML(value='')))"
      ]
     },
     "metadata": {},
     "output_type": "display_data"
    },
    {
     "name": "stdout",
     "output_type": "stream",
     "text": [
      "\n",
      "filtered_measurements = [252.5055885  361.20188118 489.83588411 315.1361605  413.17690369\n",
      " 466.97816407]\n",
      "new_threshold = 1088.5432177889645\n"
     ]
    },
    {
     "data": {
      "application/vnd.jupyter.widget-view+json": {
       "model_id": "36617b45198947c9becb6009da12733b",
       "version_major": 2,
       "version_minor": 0
      },
      "text/plain": [
       "HBox(children=(FloatProgress(value=1.0, bar_style='info', max=1.0), HTML(value='')))"
      ]
     },
     "metadata": {},
     "output_type": "display_data"
    },
    {
     "name": "stdout",
     "output_type": "stream",
     "text": [
      "\n",
      "The smallest distance (not including diagonal) = 5.0\n"
     ]
    },
    {
     "data": {
      "application/vnd.jupyter.widget-view+json": {
       "model_id": "77de073e114e42b883c4e44ca3a8d9a6",
       "version_major": 2,
       "version_minor": 0
      },
      "text/plain": [
       "HBox(children=(FloatProgress(value=1.0, bar_style='info', max=1.0), HTML(value='')))"
      ]
     },
     "metadata": {},
     "output_type": "display_data"
    },
    {
     "name": "stdout",
     "output_type": "stream",
     "text": [
      "--> Not exactly one containing mesh: []\n",
      "\n",
      "filtered_measurements = [156.01437359  93.51880651  58.96575753  87.92901673 133.14083863\n",
      " 176.93356428]\n",
      "new_threshold = 428.97859818348627\n"
     ]
    },
    {
     "data": {
      "application/vnd.jupyter.widget-view+json": {
       "model_id": "1e7c1237f8ba46b7aeab4e47ee5e4843",
       "version_major": 2,
       "version_minor": 0
      },
      "text/plain": [
       "HBox(children=(FloatProgress(value=1.0, bar_style='info', max=1.0), HTML(value='')))"
      ]
     },
     "metadata": {},
     "output_type": "display_data"
    },
    {
     "name": "stdout",
     "output_type": "stream",
     "text": [
      "--> Not exactly one containing mesh: []\n",
      "\n",
      "The smallest distance (not including diagonal) = 83.15263074613033\n"
     ]
    },
    {
     "data": {
      "application/vnd.jupyter.widget-view+json": {
       "model_id": "f6c4d5e421c545678464845ffc615b7f",
       "version_major": 2,
       "version_minor": 0
      },
      "text/plain": [
       "HBox(children=(FloatProgress(value=1.0, bar_style='info', max=1.0), HTML(value='')))"
      ]
     },
     "metadata": {},
     "output_type": "display_data"
    },
    {
     "name": "stdout",
     "output_type": "stream",
     "text": [
      "--> Not exactly one containing mesh: []\n",
      "--> Not exactly one containing mesh: []\n",
      "--> Not exactly one containing mesh: []\n",
      "--> Not exactly one containing mesh: []\n",
      "--> Not exactly one containing mesh: []\n",
      "\n",
      "branch_touching_number = [9]\n",
      "branch_touching_number = [9, 8]\n",
      "most_branch_containing_piece = 0\n",
      "filtered_measurements = [ 52.0953399   51.26434541  53.72983264  52.71025829  85.63300098\n",
      "  94.91083911  94.30640596  92.92177914  96.47641732 116.88669176\n",
      " 103.38900147  74.98540968]\n",
      "new_threshold = 283.0155686521566\n"
     ]
    },
    {
     "data": {
      "application/vnd.jupyter.widget-view+json": {
       "model_id": "cb1b0e445f2a41fe9dfcbb88ff75cce2",
       "version_major": 2,
       "version_minor": 0
      },
      "text/plain": [
       "HBox(children=(FloatProgress(value=1.0, bar_style='info', max=1.0), HTML(value='')))"
      ]
     },
     "metadata": {},
     "output_type": "display_data"
    },
    {
     "name": "stdout",
     "output_type": "stream",
     "text": [
      "THERE WERE NO FACES THAT FIT THE DISTANCE (283.0155686521566) and Z transform requirements\n",
      "So just skipping this edge\n",
      "THERE WERE NO FACES THAT FIT THE DISTANCE (283.0155686521566) and Z transform requirements\n",
      "So just skipping this edge\n",
      "THERE WERE NO FACES THAT FIT THE DISTANCE (283.0155686521566) and Z transform requirements\n",
      "So just skipping this edge\n",
      "THERE WERE NO FACES THAT FIT THE DISTANCE (283.0155686521566) and Z transform requirements\n",
      "So just skipping this edge\n",
      "THERE WERE NO FACES THAT FIT THE DISTANCE (283.0155686521566) and Z transform requirements\n",
      "So just skipping this edge\n",
      "THERE WERE NO FACES THAT FIT THE DISTANCE (283.0155686521566) and Z transform requirements\n",
      "So just skipping this edge\n",
      "THERE WERE NO FACES THAT FIT THE DISTANCE (283.0155686521566) and Z transform requirements\n",
      "So just skipping this edge\n",
      "THERE WERE NO FACES THAT FIT THE DISTANCE (283.0155686521566) and Z transform requirements\n",
      "So just skipping this edge\n",
      "--> Not exactly one containing mesh: []\n",
      "--> Not exactly one containing mesh: []\n",
      "\n",
      "The smallest distance (not including diagonal) = 40.29888335921977\n"
     ]
    },
    {
     "data": {
      "application/vnd.jupyter.widget-view+json": {
       "model_id": "04ae60f6607b4bbab9bbeca777411193",
       "version_major": 2,
       "version_minor": 0
      },
      "text/plain": [
       "HBox(children=(FloatProgress(value=1.0, bar_style='info', max=1.0), HTML(value='')))"
      ]
     },
     "metadata": {},
     "output_type": "display_data"
    },
    {
     "name": "stdout",
     "output_type": "stream",
     "text": [
      "\n",
      "filtered_measurements = [ 66.24897083 104.44520934 114.30046214]\n",
      "new_threshold = 218.3492562222872\n"
     ]
    },
    {
     "data": {
      "application/vnd.jupyter.widget-view+json": {
       "model_id": "9a1911722880428690a83ea6b01050b6",
       "version_major": 2,
       "version_minor": 0
      },
      "text/plain": [
       "HBox(children=(FloatProgress(value=1.0, bar_style='info', max=1.0), HTML(value='')))"
      ]
     },
     "metadata": {},
     "output_type": "display_data"
    },
    {
     "name": "stdout",
     "output_type": "stream",
     "text": [
      "\n",
      "The smallest distance (not including diagonal) = 40.607881008493905\n"
     ]
    },
    {
     "data": {
      "application/vnd.jupyter.widget-view+json": {
       "model_id": "a86cbbbc1ca4483f981a4032bba51405",
       "version_major": 2,
       "version_minor": 0
      },
      "text/plain": [
       "HBox(children=(FloatProgress(value=1.0, bar_style='info', max=1.0), HTML(value='')))"
      ]
     },
     "metadata": {},
     "output_type": "display_data"
    },
    {
     "name": "stdout",
     "output_type": "stream",
     "text": [
      "--> Not exactly one containing mesh: []\n",
      "\n",
      "filtered_measurements = [ 69.44802269  91.46941788  75.91617843  67.67186664 113.25341003]\n",
      "new_threshold = 203.0467902569127\n"
     ]
    },
    {
     "data": {
      "application/vnd.jupyter.widget-view+json": {
       "model_id": "6695f39246ab480fbfebc6419b0e35b6",
       "version_major": 2,
       "version_minor": 0
      },
      "text/plain": [
       "HBox(children=(FloatProgress(value=1.0, bar_style='info', max=1.0), HTML(value='')))"
      ]
     },
     "metadata": {},
     "output_type": "display_data"
    },
    {
     "name": "stdout",
     "output_type": "stream",
     "text": [
      "--> Not exactly one containing mesh: []\n",
      "\n",
      "The smallest distance (not including diagonal) = 75.4782087757866\n"
     ]
    },
    {
     "data": {
      "application/vnd.jupyter.widget-view+json": {
       "model_id": "3bb28360bf99408ea35407d6957dc3f5",
       "version_major": 2,
       "version_minor": 0
      },
      "text/plain": [
       "HBox(children=(FloatProgress(value=1.0, bar_style='info', max=1.0), HTML(value='')))"
      ]
     },
     "metadata": {},
     "output_type": "display_data"
    },
    {
     "name": "stdout",
     "output_type": "stream",
     "text": [
      "\n",
      "filtered_measurements = [100.95082555  61.48619106  69.36859857]\n",
      "new_threshold = 209.21153725809398\n"
     ]
    },
    {
     "data": {
      "application/vnd.jupyter.widget-view+json": {
       "model_id": "544753b5dab64182a0f044c4b00a64ec",
       "version_major": 2,
       "version_minor": 0
      },
      "text/plain": [
       "HBox(children=(FloatProgress(value=1.0, bar_style='info', max=1.0), HTML(value='')))"
      ]
     },
     "metadata": {},
     "output_type": "display_data"
    },
    {
     "name": "stdout",
     "output_type": "stream",
     "text": [
      "\n",
      "The smallest distance (not including diagonal) = 33.54101966249684\n"
     ]
    },
    {
     "data": {
      "application/vnd.jupyter.widget-view+json": {
       "model_id": "ddcb4a3bbf774585a8ee9ce7a3e0e658",
       "version_major": 2,
       "version_minor": 0
      },
      "text/plain": [
       "HBox(children=(FloatProgress(value=1.0, bar_style='info', max=1.0), HTML(value='')))"
      ]
     },
     "metadata": {},
     "output_type": "display_data"
    },
    {
     "name": "stdout",
     "output_type": "stream",
     "text": [
      "--> Not exactly one containing mesh: []\n",
      "\n",
      "filtered_measurements = [69.2296514  58.05520782 88.60426197 84.72729452 86.76781322 88.48217587]\n",
      "new_threshold = 182.16136016729774\n"
     ]
    },
    {
     "data": {
      "application/vnd.jupyter.widget-view+json": {
       "model_id": "23c5eda2ef9146d88959007b20835f33",
       "version_major": 2,
       "version_minor": 0
      },
      "text/plain": [
       "HBox(children=(FloatProgress(value=1.0, bar_style='info', max=1.0), HTML(value='')))"
      ]
     },
     "metadata": {},
     "output_type": "display_data"
    },
    {
     "name": "stdout",
     "output_type": "stream",
     "text": [
      "--> Not exactly one containing mesh: []\n",
      "\n",
      "The smallest distance (not including diagonal) = 56.471231613982\n"
     ]
    },
    {
     "data": {
      "application/vnd.jupyter.widget-view+json": {
       "model_id": "b8c9b68b0c0140768a6c7c140a7997b0",
       "version_major": 2,
       "version_minor": 0
      },
      "text/plain": [
       "HBox(children=(FloatProgress(value=1.0, bar_style='info', max=1.0), HTML(value='')))"
      ]
     },
     "metadata": {},
     "output_type": "display_data"
    },
    {
     "name": "stdout",
     "output_type": "stream",
     "text": [
      "--> Not exactly one containing mesh: []\n",
      "--> Not exactly one containing mesh: []\n",
      "\n",
      "branch_touching_number = [4]\n",
      "branch_touching_number = [4, 1]\n",
      "most_branch_containing_piece = 0\n",
      "filtered_measurements = [246.74010531 133.39654157]\n",
      "new_threshold = 576.6366326523695\n"
     ]
    },
    {
     "data": {
      "application/vnd.jupyter.widget-view+json": {
       "model_id": "2a27bfdaff9e4917932123ce591b3f4e",
       "version_major": 2,
       "version_minor": 0
      },
      "text/plain": [
       "HBox(children=(FloatProgress(value=1.0, bar_style='info', max=1.0), HTML(value='')))"
      ]
     },
     "metadata": {},
     "output_type": "display_data"
    },
    {
     "name": "stdout",
     "output_type": "stream",
     "text": [
      "--> Not exactly one containing mesh: []\n",
      "THERE WERE NO FACES THAT FIT THE DISTANCE (576.6366326523695) and Z transform requirements\n",
      "So just skipping this edge\n",
      "\n",
      "The smallest distance (not including diagonal) = 67.20305052599919\n"
     ]
    },
    {
     "data": {
      "application/vnd.jupyter.widget-view+json": {
       "model_id": "182e110a1484496f82aa225413dcf36a",
       "version_major": 2,
       "version_minor": 0
      },
      "text/plain": [
       "HBox(children=(FloatProgress(value=1.0, bar_style='info', max=1.0), HTML(value='')))"
      ]
     },
     "metadata": {},
     "output_type": "display_data"
    },
    {
     "name": "stdout",
     "output_type": "stream",
     "text": [
      "--> Not exactly one containing mesh: []\n",
      "\n",
      "filtered_measurements = [ 66.94775378  71.37825656  70.10069077  86.86783503 111.71768193]\n",
      "new_threshold = 219.02031929009698\n"
     ]
    },
    {
     "data": {
      "application/vnd.jupyter.widget-view+json": {
       "model_id": "e98b5905edfa457f951112c3c12e179b",
       "version_major": 2,
       "version_minor": 0
      },
      "text/plain": [
       "HBox(children=(FloatProgress(value=1.0, bar_style='info', max=1.0), HTML(value='')))"
      ]
     },
     "metadata": {},
     "output_type": "display_data"
    },
    {
     "name": "stdout",
     "output_type": "stream",
     "text": [
      "--> Not exactly one containing mesh: []\n",
      "\n",
      "The smallest distance (not including diagonal) = 16.76305461424021\n"
     ]
    },
    {
     "data": {
      "application/vnd.jupyter.widget-view+json": {
       "model_id": "0e3efec149ab4c5f92bae588d7dc7b48",
       "version_major": 2,
       "version_minor": 0
      },
      "text/plain": [
       "HBox(children=(FloatProgress(value=1.0, bar_style='info', max=1.0), HTML(value='')))"
      ]
     },
     "metadata": {},
     "output_type": "display_data"
    },
    {
     "name": "stdout",
     "output_type": "stream",
     "text": [
      "--> Not exactly one containing mesh: []\n",
      "--> Not exactly one containing mesh: []\n",
      "--> Not exactly one containing mesh: []\n",
      "\n",
      "filtered_measurements = [ 74.29334105 115.57572604  93.4093799   59.7550783   68.73049265\n",
      "  84.90594752  99.19717905  83.15303508]\n",
      "new_threshold = 225.97970320363999\n"
     ]
    },
    {
     "data": {
      "application/vnd.jupyter.widget-view+json": {
       "model_id": "d8fa2d37a8d0477e974ba7575306c08d",
       "version_major": 2,
       "version_minor": 0
      },
      "text/plain": [
       "HBox(children=(FloatProgress(value=1.0, bar_style='info', max=1.0), HTML(value='')))"
      ]
     },
     "metadata": {},
     "output_type": "display_data"
    },
    {
     "name": "stdout",
     "output_type": "stream",
     "text": [
      "--> Not exactly one containing mesh: []\n",
      "--> Not exactly one containing mesh: []\n",
      "--> Not exactly one containing mesh: []\n",
      "\n",
      "The smallest distance (not including diagonal) = 16.24807680927192\n"
     ]
    },
    {
     "data": {
      "application/vnd.jupyter.widget-view+json": {
       "model_id": "6a4c99b8549b40da9d10ce0f9687b695",
       "version_major": 2,
       "version_minor": 0
      },
      "text/plain": [
       "HBox(children=(FloatProgress(value=1.0, bar_style='info', max=1.0), HTML(value='')))"
      ]
     },
     "metadata": {},
     "output_type": "display_data"
    },
    {
     "name": "stdout",
     "output_type": "stream",
     "text": [
      "\n",
      "filtered_measurements = [113.47077574  94.67750025 159.5795862   89.44222896  52.68623577\n",
      " 111.90062169 114.424806   136.43647123  70.58808356 107.57326601\n",
      "  79.30478789 143.28225378 102.34336864  85.11705505  69.44303862\n",
      " 109.35439679 105.73103405  97.00954756 124.24828061 103.27821284]\n",
      "new_threshold = 308.0437431372303\n"
     ]
    },
    {
     "data": {
      "application/vnd.jupyter.widget-view+json": {
       "model_id": "98e4bf148f6c489db7d62982443526e5",
       "version_major": 2,
       "version_minor": 0
      },
      "text/plain": [
       "HBox(children=(FloatProgress(value=1.0, bar_style='info', max=1.0), HTML(value='')))"
      ]
     },
     "metadata": {},
     "output_type": "display_data"
    },
    {
     "name": "stdout",
     "output_type": "stream",
     "text": [
      "\n",
      "The smallest distance (not including diagonal) = 10.04987562112089\n"
     ]
    },
    {
     "data": {
      "application/vnd.jupyter.widget-view+json": {
       "model_id": "e0c00d43047f4958863aad09263f189b",
       "version_major": 2,
       "version_minor": 0
      },
      "text/plain": [
       "HBox(children=(FloatProgress(value=1.0, bar_style='info', max=1.0), HTML(value='')))"
      ]
     },
     "metadata": {},
     "output_type": "display_data"
    },
    {
     "name": "stdout",
     "output_type": "stream",
     "text": [
      "--> Not exactly one containing mesh: []\n",
      "--> Not exactly one containing mesh: []\n",
      "--> Not exactly one containing mesh: []\n",
      "\n",
      "filtered_measurements = [ 96.28329198  90.71431738 118.79589687 131.48007987  81.38809884\n",
      " 150.9210665  165.92560842  67.99235239  68.7616724  184.75128673\n",
      " 162.14444006  79.26710756]\n",
      "new_threshold = 375.87136064481456\n"
     ]
    },
    {
     "data": {
      "application/vnd.jupyter.widget-view+json": {
       "model_id": "eacf0516c001464ab2df6ea3f24d3109",
       "version_major": 2,
       "version_minor": 0
      },
      "text/plain": [
       "HBox(children=(FloatProgress(value=1.0, bar_style='info', max=1.0), HTML(value='')))"
      ]
     },
     "metadata": {},
     "output_type": "display_data"
    },
    {
     "name": "stdout",
     "output_type": "stream",
     "text": [
      "--> Not exactly one containing mesh: []\n",
      "--> Not exactly one containing mesh: []\n",
      "--> Not exactly one containing mesh: []\n",
      "\n",
      "branch_touching_number = [15]\n",
      "branch_touching_number = [15, 1]\n",
      "most_branch_containing_piece = 0\n",
      "The smallest distance (not including diagonal) = 63.31666447310692\n"
     ]
    },
    {
     "data": {
      "application/vnd.jupyter.widget-view+json": {
       "model_id": "fb6e1cf21c0f407e973748335c8949ce",
       "version_major": 2,
       "version_minor": 0
      },
      "text/plain": [
       "HBox(children=(FloatProgress(value=1.0, bar_style='info', max=1.0), HTML(value='')))"
      ]
     },
     "metadata": {},
     "output_type": "display_data"
    },
    {
     "name": "stdout",
     "output_type": "stream",
     "text": [
      "--> Not exactly one containing mesh: []\n",
      "\n",
      "filtered_measurements = [131.14007794 196.24955113 251.75898038 287.02886198 155.91736732\n",
      " 172.6805807  155.67921086 236.58461087 179.76890705 244.62680027\n",
      " 130.02825108 191.88267021 223.31680029 125.85416673 146.45948154\n",
      " 202.67500738 166.66747038 117.86180677 162.02840569 259.58181639\n",
      " 162.2078346  196.45403513 204.71105717 136.00610111 198.14399154\n",
      " 214.06492541 170.02565597 157.91978284 250.11268691 259.18403446\n",
      " 146.03205783 114.13944112 247.02357252 207.44280788 182.71958018\n",
      " 273.23011044 201.44479182 256.72648876 130.39873841 125.81457392\n",
      " 217.45904622 259.50119318 245.60585349 168.61823323 146.10197652\n",
      " 198.83588991 259.02216674 304.0491171  146.71260351 184.93920419\n",
      " 228.6496546 ]\n",
      "new_threshold = 666.2924045529567\n"
     ]
    },
    {
     "data": {
      "application/vnd.jupyter.widget-view+json": {
       "model_id": "e8a2170e4c6f449b9638ed47c65d4c7a",
       "version_major": 2,
       "version_minor": 0
      },
      "text/plain": [
       "HBox(children=(FloatProgress(value=1.0, bar_style='info', max=1.0), HTML(value='')))"
      ]
     },
     "metadata": {},
     "output_type": "display_data"
    },
    {
     "name": "stdout",
     "output_type": "stream",
     "text": [
      "--> Not exactly one containing mesh: []\n",
      "\n",
      "The smallest distance (not including diagonal) = 640.9430551928931\n"
     ]
    },
    {
     "data": {
      "application/vnd.jupyter.widget-view+json": {
       "model_id": "b0e9da20ee7644d28e8ce83c826ecc09",
       "version_major": 2,
       "version_minor": 0
      },
      "text/plain": [
       "HBox(children=(FloatProgress(value=1.0, bar_style='info', max=1.0), HTML(value='')))"
      ]
     },
     "metadata": {},
     "output_type": "display_data"
    },
    {
     "name": "stdout",
     "output_type": "stream",
     "text": [
      "\n",
      "filtered_measurements = [1298.3992398]\n",
      "new_threshold = 2885.913536301212\n"
     ]
    },
    {
     "data": {
      "application/vnd.jupyter.widget-view+json": {
       "model_id": "af4923fc184748e484c726932f958296",
       "version_major": 2,
       "version_minor": 0
      },
      "text/plain": [
       "HBox(children=(FloatProgress(value=1.0, bar_style='info', max=1.0), HTML(value='')))"
      ]
     },
     "metadata": {},
     "output_type": "display_data"
    },
    {
     "name": "stdout",
     "output_type": "stream",
     "text": [
      "\n",
      "The smallest distance (not including diagonal) = 638.5577499333948\n"
     ]
    },
    {
     "data": {
      "application/vnd.jupyter.widget-view+json": {
       "model_id": "0334877ea6024d6cbf5bed6d8a3b186b",
       "version_major": 2,
       "version_minor": 0
      },
      "text/plain": [
       "HBox(children=(FloatProgress(value=1.0, bar_style='info', max=1.0), HTML(value='')))"
      ]
     },
     "metadata": {},
     "output_type": "display_data"
    },
    {
     "name": "stdout",
     "output_type": "stream",
     "text": [
      "\n",
      "filtered_measurements = [1270.92177468]\n",
      "new_threshold = 2929.431917032292\n"
     ]
    },
    {
     "data": {
      "application/vnd.jupyter.widget-view+json": {
       "model_id": "469a05ec986c421d932b7be0ab8aa6b2",
       "version_major": 2,
       "version_minor": 0
      },
      "text/plain": [
       "HBox(children=(FloatProgress(value=1.0, bar_style='info', max=1.0), HTML(value='')))"
      ]
     },
     "metadata": {},
     "output_type": "display_data"
    },
    {
     "name": "stdout",
     "output_type": "stream",
     "text": [
      "\n",
      "\n",
      "Working on limb #5\n",
      "The smallest distance (not including diagonal) = 4.58257569495584\n",
      "The smallest distance (not including diagonal) = 18.027756377319946\n",
      "The smallest distance (not including diagonal) = 76.56369897020389\n",
      "The smallest distance (not including diagonal) = 4.58257569495584\n",
      "The smallest distance (not including diagonal) = 67.1863081289633\n",
      "The smallest distance (not including diagonal) = 101.14346246792226\n",
      "The smallest distance (not including diagonal) = 66.6567325931589\n",
      "The smallest distance (not including diagonal) = 127.5695888525161\n",
      "The smallest distance (not including diagonal) = 40.80441152620633\n",
      "The smallest distance (not including diagonal) = 144.42610567341015\n"
     ]
    },
    {
     "data": {
      "application/vnd.jupyter.widget-view+json": {
       "model_id": "a27142150454462d8b2114314111d602",
       "version_major": 2,
       "version_minor": 0
      },
      "text/plain": [
       "HBox(children=(FloatProgress(value=1.0, bar_style='info', max=1.0), HTML(value='')))"
      ]
     },
     "metadata": {},
     "output_type": "display_data"
    },
    {
     "name": "stdout",
     "output_type": "stream",
     "text": [
      "The smallest distance (not including diagonal) = 18.027756377319946\n"
     ]
    },
    {
     "data": {
      "application/vnd.jupyter.widget-view+json": {
       "model_id": "c0efc47e51df415cb39a5d9039b34807",
       "version_major": 2,
       "version_minor": 0
      },
      "text/plain": [
       "HBox(children=(FloatProgress(value=1.0, bar_style='info', max=1.0), HTML(value='')))"
      ]
     },
     "metadata": {},
     "output_type": "display_data"
    },
    {
     "name": "stdout",
     "output_type": "stream",
     "text": [
      "--> Not exactly one containing mesh: []\n",
      "\n",
      "filtered_measurements = [266.88180098 254.49744647 440.2159316  467.16031031 347.31031533\n",
      " 288.89659536 227.80144929 428.73576016 238.7884154  370.54931214\n",
      " 354.96052528 227.11971741 640.76754674 409.38887354 474.67362254\n",
      " 304.05933267 359.23134721 279.89720016 279.60441315 387.11604436\n",
      " 500.72340547 556.09081178 573.18951405 682.06098843 381.92782802\n",
      " 671.67424912 318.14798541 292.05905428 553.25764753 588.48409627\n",
      " 389.33595196 341.27526688 310.55804631 408.76267559 360.6945439\n",
      " 268.45333992 556.8135621  451.52472642 561.84200866 549.82489957\n",
      " 521.16467506 650.26656857 386.70942816 520.11513116 565.06832554\n",
      " 354.99547768 370.20888254 655.87450703 388.62095955 522.5749266\n",
      " 653.94483488 424.59395613 676.85489668 391.39609745 322.73932165\n",
      " 626.11474047 557.06140947 339.58752344 589.0701652  534.85394395\n",
      " 417.77544261 442.30290913 430.74929744]\n",
      "new_threshold = 1725.6007677839993\n"
     ]
    },
    {
     "data": {
      "application/vnd.jupyter.widget-view+json": {
       "model_id": "647d2759fb0141e8b803817e4ecfdc73",
       "version_major": 2,
       "version_minor": 0
      },
      "text/plain": [
       "HBox(children=(FloatProgress(value=1.0, bar_style='info', max=1.0), HTML(value='')))"
      ]
     },
     "metadata": {},
     "output_type": "display_data"
    },
    {
     "name": "stdout",
     "output_type": "stream",
     "text": [
      "--> Not exactly one containing mesh: []\n",
      "\n",
      "The smallest distance (not including diagonal) = 76.56369897020389\n"
     ]
    },
    {
     "data": {
      "application/vnd.jupyter.widget-view+json": {
       "model_id": "0def048bf23540788f602799f762c58a",
       "version_major": 2,
       "version_minor": 0
      },
      "text/plain": [
       "HBox(children=(FloatProgress(value=1.0, bar_style='info', max=1.0), HTML(value='')))"
      ]
     },
     "metadata": {},
     "output_type": "display_data"
    },
    {
     "name": "stdout",
     "output_type": "stream",
     "text": [
      "\n",
      "filtered_measurements = [569.2528586  552.64304623 484.57506425 411.60179861 296.20567973\n",
      " 220.64933109 279.09403678 278.81095523 660.41266748 528.20825774\n",
      " 495.78312867 346.74667994 500.10948907 348.8605084  383.88038882\n",
      " 627.10911244 376.02726708 561.09133865 752.08818151 264.53610921\n",
      " 465.03439131 479.48928605 432.135776   347.89913605 319.73359347\n",
      " 330.1255526  503.46313196 417.96076429 568.74699587 281.9815145\n",
      " 321.72925352 650.75310151 478.23347289 619.13723966 421.95131478\n",
      " 281.60892482 371.73540803 585.8665742  343.62633273 698.06238065\n",
      " 559.40068256 421.2467462  422.82563209 686.1258678  565.69517242\n",
      " 638.42400161 504.76065888 490.28613178 492.94743038 717.66313615\n",
      " 566.08533656 403.68509342 372.30731172 433.28876774 592.08797972\n",
      " 705.22844553 740.57489885 776.21562987 690.2857396  610.95092825\n",
      " 616.07189481 480.19919166 477.7940387  642.17161821 370.17079092\n",
      " 572.11578887 702.27017081 417.91317604 631.48784138 392.42303452\n",
      " 460.01873968 678.28622155 504.00022291 545.41212466 708.78740008\n",
      " 414.5285378  415.73416044 641.8284872  468.60423245 596.23993919\n",
      " 482.68793072 507.01328465 559.95572444 329.72344813 329.65150566\n",
      " 340.86671965 443.17565579 552.24205136 361.99529517 457.23080756\n",
      " 387.54837963 411.98636663 530.20227253 583.84738405 755.4597107\n",
      " 433.57930978 555.87757763 680.52377311 558.80955687 624.09227157\n",
      " 584.88314709 560.77545269 602.84279999 402.12404176 361.45659788\n",
      " 502.60129658 387.99531999 693.47826092 632.16507086 529.05585052\n",
      " 536.96368688 620.57462226 458.26709031 530.22633429 799.14514305\n",
      " 495.87192074 470.84291152 438.42344636 535.92521844 548.65849661\n",
      " 669.17918227 557.51028341 414.47296421 419.11908352 424.67614923\n",
      " 401.28675525 525.21050211 652.50670173 575.60004509 631.63414073\n",
      " 787.50100704 535.47151985 549.86021972 546.56941757 358.7741386\n",
      " 597.88308892 403.29442064 466.37023645 431.17075353 479.9329897\n",
      " 637.94900903 747.66229431 409.0272016  359.34256165]\n",
      "new_threshold = 2180.5034470528585\n"
     ]
    },
    {
     "data": {
      "application/vnd.jupyter.widget-view+json": {
       "model_id": "8e1594085dce4d078f51670da502ac70",
       "version_major": 2,
       "version_minor": 0
      },
      "text/plain": [
       "HBox(children=(FloatProgress(value=1.0, bar_style='info', max=1.0), HTML(value='')))"
      ]
     },
     "metadata": {},
     "output_type": "display_data"
    },
    {
     "name": "stdout",
     "output_type": "stream",
     "text": [
      "\n",
      "The smallest distance (not including diagonal) = 4.58257569495584\n"
     ]
    },
    {
     "data": {
      "application/vnd.jupyter.widget-view+json": {
       "model_id": "9a16640a6d9f4c429bc313d38d92682c",
       "version_major": 2,
       "version_minor": 0
      },
      "text/plain": [
       "HBox(children=(FloatProgress(value=1.0, bar_style='info', max=1.0), HTML(value='')))"
      ]
     },
     "metadata": {},
     "output_type": "display_data"
    },
    {
     "name": "stdout",
     "output_type": "stream",
     "text": [
      "--> Not exactly one containing mesh: []\n",
      "--> Not exactly one containing mesh: []\n",
      "--> Not exactly one containing mesh: []\n",
      "\n",
      "branch_touching_number = [3]\n",
      "branch_touching_number = [3, 3]\n",
      "most_branch_containing_piece = 0\n",
      "filtered_measurements = [157.86477121 222.6901997  186.05700826]\n",
      "new_threshold = 412.8562252717038\n"
     ]
    },
    {
     "data": {
      "application/vnd.jupyter.widget-view+json": {
       "model_id": "ecf0ab909d07454f8999f8bd94f49407",
       "version_major": 2,
       "version_minor": 0
      },
      "text/plain": [
       "HBox(children=(FloatProgress(value=1.0, bar_style='info', max=1.0), HTML(value='')))"
      ]
     },
     "metadata": {},
     "output_type": "display_data"
    },
    {
     "name": "stdout",
     "output_type": "stream",
     "text": [
      "THERE WERE NO FACES THAT FIT THE DISTANCE (412.8562252717038) and Z transform requirements\n",
      "So just skipping this edge\n",
      "THERE WERE NO FACES THAT FIT THE DISTANCE (412.8562252717038) and Z transform requirements\n",
      "So just skipping this edge\n",
      "THERE WERE NO FACES THAT FIT THE DISTANCE (412.8562252717038) and Z transform requirements\n",
      "So just skipping this edge\n",
      "--> Not exactly one containing mesh: []\n",
      "--> Not exactly one containing mesh: []\n",
      "\n",
      "branch_touching_number = [1]\n",
      "branch_touching_number = [1, 2]\n",
      "most_branch_containing_piece = 1\n",
      "The smallest distance (not including diagonal) = 67.1863081289633\n"
     ]
    },
    {
     "data": {
      "application/vnd.jupyter.widget-view+json": {
       "model_id": "42d261235a9240398136f1e12cb7c770",
       "version_major": 2,
       "version_minor": 0
      },
      "text/plain": [
       "HBox(children=(FloatProgress(value=1.0, bar_style='info', max=1.0), HTML(value='')))"
      ]
     },
     "metadata": {},
     "output_type": "display_data"
    },
    {
     "name": "stdout",
     "output_type": "stream",
     "text": [
      "\n",
      "filtered_measurements = [400.26091055 399.7352791  322.26598267 352.90186    547.84048381\n",
      " 425.85783375 430.71204794 400.15367336 544.77742288 630.89139078\n",
      " 379.32672309 692.04975352 435.26579986 683.05319076 584.79874593\n",
      " 412.01477277 362.98233998 554.58107067 409.24937718 505.25480082\n",
      " 602.96157808 626.41048532 423.03798817 518.71456741 452.10690268\n",
      " 461.56979569 420.2182312  687.17476509 428.68669568 411.12776952\n",
      " 406.95316324 375.60628412 469.54681873 531.23773718 457.8375814\n",
      " 552.84077224 392.36581433 339.85005781 433.53728568 604.38103463\n",
      " 657.2355056  474.95150684 466.02834267 579.59117833 376.40736322\n",
      " 405.00210361 440.81776792 377.66980707 434.10604913 346.00163439\n",
      " 424.94225454 370.8853859  534.4424991  640.24953988 421.20496757\n",
      " 426.65538483 426.62995409 397.58341134 694.18032816 539.71900468\n",
      " 394.04675003 424.87832429 615.85654438 469.77760754 525.92966014\n",
      " 681.00287665]\n",
      "new_threshold = 1730.8011714742697\n"
     ]
    },
    {
     "data": {
      "application/vnd.jupyter.widget-view+json": {
       "model_id": "f594e5e378b24b79a5a659b77f914a68",
       "version_major": 2,
       "version_minor": 0
      },
      "text/plain": [
       "HBox(children=(FloatProgress(value=1.0, bar_style='info', max=1.0), HTML(value='')))"
      ]
     },
     "metadata": {},
     "output_type": "display_data"
    },
    {
     "name": "stdout",
     "output_type": "stream",
     "text": [
      "\n",
      "The smallest distance (not including diagonal) = 101.14346246792226\n"
     ]
    },
    {
     "data": {
      "application/vnd.jupyter.widget-view+json": {
       "model_id": "6988f2d33dbb4d7bb89e89d23efe4efb",
       "version_major": 2,
       "version_minor": 0
      },
      "text/plain": [
       "HBox(children=(FloatProgress(value=1.0, bar_style='info', max=1.0), HTML(value='')))"
      ]
     },
     "metadata": {},
     "output_type": "display_data"
    },
    {
     "name": "stdout",
     "output_type": "stream",
     "text": [
      "\n",
      "filtered_measurements = [814.77171577 810.10090697 791.1088644  594.53739781 527.23160154\n",
      " 682.9714416  815.46013378 772.86502861 606.52543079 634.34910233\n",
      " 528.46751229 573.85891675 548.96993758 583.97351078 655.71097526\n",
      " 569.14713376 582.24644409 584.72897849 599.9132915  568.68298342\n",
      " 531.7774516  704.1021486 ]\n",
      "new_threshold = 1549.347509256937\n"
     ]
    },
    {
     "data": {
      "application/vnd.jupyter.widget-view+json": {
       "model_id": "5d4d057e2efe4f80a1a2b08ffa475251",
       "version_major": 2,
       "version_minor": 0
      },
      "text/plain": [
       "HBox(children=(FloatProgress(value=1.0, bar_style='info', max=1.0), HTML(value='')))"
      ]
     },
     "metadata": {},
     "output_type": "display_data"
    },
    {
     "name": "stdout",
     "output_type": "stream",
     "text": [
      "\n",
      "The smallest distance (not including diagonal) = 66.6567325931589\n"
     ]
    },
    {
     "data": {
      "application/vnd.jupyter.widget-view+json": {
       "model_id": "d6d0327914ab4edea0e60cfc61a79ce8",
       "version_major": 2,
       "version_minor": 0
      },
      "text/plain": [
       "HBox(children=(FloatProgress(value=1.0, bar_style='info', max=1.0), HTML(value='')))"
      ]
     },
     "metadata": {},
     "output_type": "display_data"
    },
    {
     "name": "stdout",
     "output_type": "stream",
     "text": [
      "\n",
      "filtered_measurements = [1013.16642042  923.50444183  882.89471911  899.13154352  826.70047405\n",
      "  842.30895563  839.57006926  928.07879519 1129.2798902 ]\n",
      "new_threshold = 1837.5253806230007\n"
     ]
    },
    {
     "data": {
      "application/vnd.jupyter.widget-view+json": {
       "model_id": "d2aa631891d34f2f9ea212fb862c86cb",
       "version_major": 2,
       "version_minor": 0
      },
      "text/plain": [
       "HBox(children=(FloatProgress(value=1.0, bar_style='info', max=1.0), HTML(value='')))"
      ]
     },
     "metadata": {},
     "output_type": "display_data"
    },
    {
     "name": "stdout",
     "output_type": "stream",
     "text": [
      "\n",
      "The smallest distance (not including diagonal) = 127.5695888525161\n"
     ]
    },
    {
     "data": {
      "application/vnd.jupyter.widget-view+json": {
       "model_id": "a36ba9c4fe104d228675e6104e27312a",
       "version_major": 2,
       "version_minor": 0
      },
      "text/plain": [
       "HBox(children=(FloatProgress(value=1.0, bar_style='info', max=1.0), HTML(value='')))"
      ]
     },
     "metadata": {},
     "output_type": "display_data"
    },
    {
     "name": "stdout",
     "output_type": "stream",
     "text": [
      "\n",
      "filtered_measurements = [769.43523611 515.03696475 491.34345305 499.00633021 461.41897741\n",
      " 509.55035848 685.52249784 585.29069896 615.34175864 611.60689389\n",
      " 913.07316954 619.05060079 802.21274744 468.22921973 672.94138645\n",
      " 809.72220324 665.21007256]\n",
      "new_threshold = 1959.8029567810793\n"
     ]
    },
    {
     "data": {
      "application/vnd.jupyter.widget-view+json": {
       "model_id": "b1317bc9bdc643f3bb26491b1a15ee05",
       "version_major": 2,
       "version_minor": 0
      },
      "text/plain": [
       "HBox(children=(FloatProgress(value=1.0, bar_style='info', max=1.0), HTML(value='')))"
      ]
     },
     "metadata": {},
     "output_type": "display_data"
    },
    {
     "name": "stdout",
     "output_type": "stream",
     "text": [
      "\n",
      "The smallest distance (not including diagonal) = 40.80441152620633\n"
     ]
    },
    {
     "data": {
      "application/vnd.jupyter.widget-view+json": {
       "model_id": "c9369c69067f4ad6975404bcfc83c4de",
       "version_major": 2,
       "version_minor": 0
      },
      "text/plain": [
       "HBox(children=(FloatProgress(value=1.0, bar_style='info', max=1.0), HTML(value='')))"
      ]
     },
     "metadata": {},
     "output_type": "display_data"
    },
    {
     "name": "stdout",
     "output_type": "stream",
     "text": [
      "\n",
      "filtered_measurements = [304.40807588 557.94089242 435.32920765 434.19935624 388.23968246\n",
      " 392.0738067  493.07434271 412.80412079 531.60190487 568.70569789\n",
      " 628.73653562 557.47871423 368.76500841 339.474519   364.6068911\n",
      " 363.75491424 349.25137413 411.63554315 409.2589107  375.12996969\n",
      " 498.65103695 478.53054357 512.01062976 352.22236586 622.87370981\n",
      " 484.33844867 376.83333425 355.25032754 526.62896802 492.54870837\n",
      " 453.79750489 364.0983214  464.0054208  595.79684897 306.25210693\n",
      " 424.39717579 342.61193695 265.47990508 330.04043685 307.71740556\n",
      " 608.61275495 590.57004949 376.9363026  414.8555947  400.85772281\n",
      " 465.80965243 302.86162914 319.08728091 513.13603445 435.9139421\n",
      " 302.68997189 287.37037312 233.55330933 349.33449425 497.51348143\n",
      " 378.86523426 406.32985144 313.34662944]\n",
      "new_threshold = 1447.2271268894087\n"
     ]
    },
    {
     "data": {
      "application/vnd.jupyter.widget-view+json": {
       "model_id": "0fbe055b0a15465ab8a319a15a64a61d",
       "version_major": 2,
       "version_minor": 0
      },
      "text/plain": [
       "HBox(children=(FloatProgress(value=1.0, bar_style='info', max=1.0), HTML(value='')))"
      ]
     },
     "metadata": {},
     "output_type": "display_data"
    },
    {
     "name": "stdout",
     "output_type": "stream",
     "text": [
      "\n",
      "The smallest distance (not including diagonal) = 144.42610567341015\n"
     ]
    },
    {
     "data": {
      "application/vnd.jupyter.widget-view+json": {
       "model_id": "20e8879da0274268926a491fad0520c5",
       "version_major": 2,
       "version_minor": 0
      },
      "text/plain": [
       "HBox(children=(FloatProgress(value=1.0, bar_style='info', max=1.0), HTML(value='')))"
      ]
     },
     "metadata": {},
     "output_type": "display_data"
    },
    {
     "name": "stdout",
     "output_type": "stream",
     "text": [
      "--> Not exactly one containing mesh: []\n",
      "\n",
      "filtered_measurements = [525.12573136 728.74091156 646.19774627 541.55099061 518.25164737\n",
      " 398.34477024 437.68617211 367.64563579 387.39148441 428.28199188\n",
      " 717.60430597 569.27095335 571.38695554]\n",
      "new_threshold = 1675.8058215966128\n"
     ]
    },
    {
     "data": {
      "application/vnd.jupyter.widget-view+json": {
       "model_id": "a367866589fc4a4694f9ce2fcf84fecd",
       "version_major": 2,
       "version_minor": 0
      },
      "text/plain": [
       "HBox(children=(FloatProgress(value=1.0, bar_style='info', max=1.0), HTML(value='')))"
      ]
     },
     "metadata": {},
     "output_type": "display_data"
    },
    {
     "name": "stdout",
     "output_type": "stream",
     "text": [
      "--> Not exactly one containing mesh: []\n",
      "\n",
      "\n",
      "Working on limb #6\n",
      "The smallest distance (not including diagonal) = 3.7416573867739413\n",
      "The smallest distance (not including diagonal) = 3.7416573867739413\n",
      "The smallest distance (not including diagonal) = 32.57299494980466\n",
      "The smallest distance (not including diagonal) = 127.58295340680117\n",
      "The smallest distance (not including diagonal) = 46.238512086787566\n",
      "The smallest distance (not including diagonal) = 122.64175471673585\n",
      "The smallest distance (not including diagonal) = 202.94580557380337\n",
      "The smallest distance (not including diagonal) = 148.7212157024007\n",
      "The smallest distance (not including diagonal) = 228.6088362246744\n",
      "The smallest distance (not including diagonal) = 4.358898943540674\n",
      "The smallest distance (not including diagonal) = 153.70426148939399\n",
      "The smallest distance (not including diagonal) = 25.337718918639855\n",
      "The smallest distance (not including diagonal) = 25.099800796022265\n",
      "The smallest distance (not including diagonal) = 336.1145638022845\n",
      "The smallest distance (not including diagonal) = 253.61979418018618\n",
      "The smallest distance (not including diagonal) = 168.8253535462017\n",
      "The smallest distance (not including diagonal) = 290.5470701969179\n",
      "The smallest distance (not including diagonal) = 541.5403955385046\n",
      "The smallest distance (not including diagonal) = 27.49545416973504\n",
      "The smallest distance (not including diagonal) = 44.181444068749045\n"
     ]
    },
    {
     "data": {
      "application/vnd.jupyter.widget-view+json": {
       "model_id": "6bdac2dba6a949d8a716d0a395547de7",
       "version_major": 2,
       "version_minor": 0
      },
      "text/plain": [
       "HBox(children=(FloatProgress(value=1.0, bar_style='info', max=1.0), HTML(value='')))"
      ]
     },
     "metadata": {},
     "output_type": "display_data"
    },
    {
     "name": "stdout",
     "output_type": "stream",
     "text": [
      "The smallest distance (not including diagonal) = 3.7416573867739413\n"
     ]
    },
    {
     "data": {
      "application/vnd.jupyter.widget-view+json": {
       "model_id": "6321f54f81cf4af6847a8df704a757eb",
       "version_major": 2,
       "version_minor": 0
      },
      "text/plain": [
       "HBox(children=(FloatProgress(value=1.0, bar_style='info', max=1.0), HTML(value='')))"
      ]
     },
     "metadata": {},
     "output_type": "display_data"
    },
    {
     "name": "stdout",
     "output_type": "stream",
     "text": [
      "--> Not exactly one containing mesh: []\n",
      "\n",
      "filtered_measurements = [ 78.40804035  85.15144371  94.11652531 112.60865658 112.70563287\n",
      " 138.38800519 126.03579363  82.77037581  57.86437252 104.11764736\n",
      " 105.48555021  70.43805784  77.23623971 119.37422652 114.32189885\n",
      "  75.3738563   59.64051273  68.83556362 108.57861179  72.78761565\n",
      "  80.25892102 129.75614576 143.67278656  75.83076013  75.79233453\n",
      "  87.56551334  79.75883026  82.36737061 137.23707283 160.64554582\n",
      " 137.72718559 154.13215131]\n",
      "new_threshold = 381.5439902422686\n"
     ]
    },
    {
     "data": {
      "application/vnd.jupyter.widget-view+json": {
       "model_id": "0fa4a64dce3a481aaab6278913f7ccae",
       "version_major": 2,
       "version_minor": 0
      },
      "text/plain": [
       "HBox(children=(FloatProgress(value=1.0, bar_style='info', max=1.0), HTML(value='')))"
      ]
     },
     "metadata": {},
     "output_type": "display_data"
    },
    {
     "name": "stdout",
     "output_type": "stream",
     "text": [
      "--> Not exactly one containing mesh: []\n",
      "--> Not exactly one containing mesh: []\n",
      "--> Not exactly one containing mesh: []\n",
      "\n",
      "branch_touching_number = [40]\n",
      "branch_touching_number = [40, 1]\n",
      "most_branch_containing_piece = 0\n",
      "The smallest distance (not including diagonal) = 32.57299494980466\n"
     ]
    },
    {
     "data": {
      "application/vnd.jupyter.widget-view+json": {
       "model_id": "737c4f81f89240b79536a21bc78c456e",
       "version_major": 2,
       "version_minor": 0
      },
      "text/plain": [
       "HBox(children=(FloatProgress(value=1.0, bar_style='info', max=1.0), HTML(value='')))"
      ]
     },
     "metadata": {},
     "output_type": "display_data"
    },
    {
     "name": "stdout",
     "output_type": "stream",
     "text": [
      "\n",
      "filtered_measurements = [205.23297881 180.86900471 278.52018443 274.05563402 262.38923605\n",
      " 272.16544271 436.54408526 333.61044932 219.28937962 204.58082567\n",
      " 391.05523753 294.27744277 316.58967994 273.57583831 377.99243186\n",
      " 260.07224274 280.59979787 361.04421879 206.67257738 271.79187435\n",
      " 372.50980266 262.687951   312.86237705 268.3219781  333.80743893\n",
      " 296.0328906  491.06690028 302.00963338 394.23543426 216.38283595\n",
      " 369.52794084 315.23102036 298.04310465 274.64188476 243.57985974\n",
      " 273.60773302 229.10253133 217.68632879 261.11047954 277.74030134\n",
      " 392.2217666  211.79352936 217.97570329 335.87346385 384.44755984\n",
      " 476.03209751 262.95435628 496.16290066 419.94880272 354.68447399\n",
      " 275.28625159 387.1521352  402.04925823 324.04162742]\n",
      "new_threshold = 1325.2220192695934\n"
     ]
    },
    {
     "data": {
      "application/vnd.jupyter.widget-view+json": {
       "model_id": "9fc3dbca8a674871aa0515ef088483da",
       "version_major": 2,
       "version_minor": 0
      },
      "text/plain": [
       "HBox(children=(FloatProgress(value=1.0, bar_style='info', max=1.0), HTML(value='')))"
      ]
     },
     "metadata": {},
     "output_type": "display_data"
    },
    {
     "name": "stdout",
     "output_type": "stream",
     "text": [
      "\n",
      "The smallest distance (not including diagonal) = 127.58295340680117\n"
     ]
    },
    {
     "data": {
      "application/vnd.jupyter.widget-view+json": {
       "model_id": "d5dcbbcaf9fa473fabd7a9f77d90b0dd",
       "version_major": 2,
       "version_minor": 0
      },
      "text/plain": [
       "HBox(children=(FloatProgress(value=1.0, bar_style='info', max=1.0), HTML(value='')))"
      ]
     },
     "metadata": {},
     "output_type": "display_data"
    },
    {
     "name": "stdout",
     "output_type": "stream",
     "text": [
      "--> Not exactly one containing mesh: []\n",
      "\n",
      "filtered_measurements = [241.16198428 490.60295947 520.51800419 218.25160191 478.26431366\n",
      " 421.05688743 309.31742002 334.20605625 467.27923169 454.72320462\n",
      " 242.32667469 366.77350233 235.13891087 393.01903177 366.05036483\n",
      " 525.47716329 268.31692377 536.00746883 351.86566758 331.98220789\n",
      " 200.15728443 348.71440397 245.75569586 271.10988037 501.06630058\n",
      " 201.63702698]\n",
      "new_threshold = 1504.7386987572943\n"
     ]
    },
    {
     "data": {
      "application/vnd.jupyter.widget-view+json": {
       "model_id": "453fbc72a2c64852931a4aaba198f522",
       "version_major": 2,
       "version_minor": 0
      },
      "text/plain": [
       "HBox(children=(FloatProgress(value=1.0, bar_style='info', max=1.0), HTML(value='')))"
      ]
     },
     "metadata": {},
     "output_type": "display_data"
    },
    {
     "name": "stdout",
     "output_type": "stream",
     "text": [
      "--> Not exactly one containing mesh: []\n",
      "\n",
      "The smallest distance (not including diagonal) = 46.238512086787566\n"
     ]
    },
    {
     "data": {
      "application/vnd.jupyter.widget-view+json": {
       "model_id": "1895c7c4ab774523a1a74651f1ef6616",
       "version_major": 2,
       "version_minor": 0
      },
      "text/plain": [
       "HBox(children=(FloatProgress(value=1.0, bar_style='info', max=1.0), HTML(value='')))"
      ]
     },
     "metadata": {},
     "output_type": "display_data"
    },
    {
     "name": "stdout",
     "output_type": "stream",
     "text": [
      "\n",
      "filtered_measurements = [272.28477183 277.33181645 237.53727924 161.65730959 228.43385119\n",
      " 365.86793658 240.1306149  397.95971724 177.4291869  220.12463431\n",
      " 256.086243   284.74446131 282.65672057 215.06452106 254.88458919\n",
      " 255.75472783 273.29201352 144.03634711 198.64121347]\n",
      "new_threshold = 798.6134486162418\n"
     ]
    },
    {
     "data": {
      "application/vnd.jupyter.widget-view+json": {
       "model_id": "13226089ab5c4a63b3620a052a41aad7",
       "version_major": 2,
       "version_minor": 0
      },
      "text/plain": [
       "HBox(children=(FloatProgress(value=1.0, bar_style='info', max=1.0), HTML(value='')))"
      ]
     },
     "metadata": {},
     "output_type": "display_data"
    },
    {
     "name": "stdout",
     "output_type": "stream",
     "text": [
      "\n",
      "The smallest distance (not including diagonal) = 122.64175471673585\n"
     ]
    },
    {
     "data": {
      "application/vnd.jupyter.widget-view+json": {
       "model_id": "1589244cdd5244f281cc9adb3fddfd96",
       "version_major": 2,
       "version_minor": 0
      },
      "text/plain": [
       "HBox(children=(FloatProgress(value=1.0, bar_style='info', max=1.0), HTML(value='')))"
      ]
     },
     "metadata": {},
     "output_type": "display_data"
    },
    {
     "name": "stdout",
     "output_type": "stream",
     "text": [
      "\n",
      "filtered_measurements = [294.85814457 230.43430089 230.39580606 197.785907   254.84870076]\n",
      "new_threshold = 501.53572488267343\n"
     ]
    },
    {
     "data": {
      "application/vnd.jupyter.widget-view+json": {
       "model_id": "000bc3b05c5740cfb5729664cd79a09b",
       "version_major": 2,
       "version_minor": 0
      },
      "text/plain": [
       "HBox(children=(FloatProgress(value=1.0, bar_style='info', max=1.0), HTML(value='')))"
      ]
     },
     "metadata": {},
     "output_type": "display_data"
    },
    {
     "name": "stdout",
     "output_type": "stream",
     "text": [
      "\n",
      "The smallest distance (not including diagonal) = 202.94580557380337\n"
     ]
    },
    {
     "data": {
      "application/vnd.jupyter.widget-view+json": {
       "model_id": "519c745ea52b4425b58e034e6790fc4c",
       "version_major": 2,
       "version_minor": 0
      },
      "text/plain": [
       "HBox(children=(FloatProgress(value=1.0, bar_style='info', max=1.0), HTML(value='')))"
      ]
     },
     "metadata": {},
     "output_type": "display_data"
    },
    {
     "name": "stdout",
     "output_type": "stream",
     "text": [
      "\n",
      "filtered_measurements = [255.8092916  268.97099225 337.12292635 226.82745851 258.12763551]\n",
      "new_threshold = 692.2443925235209\n"
     ]
    },
    {
     "data": {
      "application/vnd.jupyter.widget-view+json": {
       "model_id": "a6f72559c3db48f799cecb5ccdea9a40",
       "version_major": 2,
       "version_minor": 0
      },
      "text/plain": [
       "HBox(children=(FloatProgress(value=1.0, bar_style='info', max=1.0), HTML(value='')))"
      ]
     },
     "metadata": {},
     "output_type": "display_data"
    },
    {
     "name": "stdout",
     "output_type": "stream",
     "text": [
      "\n",
      "The smallest distance (not including diagonal) = 148.7212157024007\n"
     ]
    },
    {
     "data": {
      "application/vnd.jupyter.widget-view+json": {
       "model_id": "c657cb23c37e4d1792dfe248ecddab87",
       "version_major": 2,
       "version_minor": 0
      },
      "text/plain": [
       "HBox(children=(FloatProgress(value=1.0, bar_style='info', max=1.0), HTML(value='')))"
      ]
     },
     "metadata": {},
     "output_type": "display_data"
    },
    {
     "name": "stdout",
     "output_type": "stream",
     "text": [
      "\n",
      "filtered_measurements = [374.77757011 201.86838006 130.38015973]\n",
      "new_threshold = 653.145818427904\n"
     ]
    },
    {
     "data": {
      "application/vnd.jupyter.widget-view+json": {
       "model_id": "58e60f118b71473b95513ded8ac46298",
       "version_major": 2,
       "version_minor": 0
      },
      "text/plain": [
       "HBox(children=(FloatProgress(value=1.0, bar_style='info', max=1.0), HTML(value='')))"
      ]
     },
     "metadata": {},
     "output_type": "display_data"
    },
    {
     "name": "stdout",
     "output_type": "stream",
     "text": [
      "\n",
      "The smallest distance (not including diagonal) = 228.6088362246744\n"
     ]
    },
    {
     "data": {
      "application/vnd.jupyter.widget-view+json": {
       "model_id": "a35222dd758c496cb0498e690829236b",
       "version_major": 2,
       "version_minor": 0
      },
      "text/plain": [
       "HBox(children=(FloatProgress(value=1.0, bar_style='info', max=1.0), HTML(value='')))"
      ]
     },
     "metadata": {},
     "output_type": "display_data"
    },
    {
     "name": "stdout",
     "output_type": "stream",
     "text": [
      "\n",
      "filtered_measurements = [590.5397591  470.14509679 552.50479455 333.03496947 579.20826692\n",
      " 295.84135564 816.33096179 611.72791565 629.53469567 568.11967974\n",
      " 293.06929633 600.82399987 317.54030492 369.288064  ]\n",
      "new_threshold = 1917.2353330711044\n"
     ]
    },
    {
     "data": {
      "application/vnd.jupyter.widget-view+json": {
       "model_id": "9ef4cd12063c4f3e92430776c86f797f",
       "version_major": 2,
       "version_minor": 0
      },
      "text/plain": [
       "HBox(children=(FloatProgress(value=1.0, bar_style='info', max=1.0), HTML(value='')))"
      ]
     },
     "metadata": {},
     "output_type": "display_data"
    },
    {
     "name": "stdout",
     "output_type": "stream",
     "text": [
      "\n",
      "The smallest distance (not including diagonal) = 4.358898943540674\n"
     ]
    },
    {
     "data": {
      "application/vnd.jupyter.widget-view+json": {
       "model_id": "f6f0f646ba7e41f68fff899316548e4b",
       "version_major": 2,
       "version_minor": 0
      },
      "text/plain": [
       "HBox(children=(FloatProgress(value=1.0, bar_style='info', max=1.0), HTML(value='')))"
      ]
     },
     "metadata": {},
     "output_type": "display_data"
    },
    {
     "name": "stdout",
     "output_type": "stream",
     "text": [
      "--> Not exactly one containing mesh: []\n",
      "--> Not exactly one containing mesh: []\n",
      "\n",
      "filtered_measurements = [124.38135451  60.66498243  86.92009157 126.5231784   81.49491552\n",
      "  74.39329883 125.88198752 184.0461157 ]\n",
      "new_threshold = 409.92207464141063\n"
     ]
    },
    {
     "data": {
      "application/vnd.jupyter.widget-view+json": {
       "model_id": "8437f81d5415473d89c46a23745b2cf9",
       "version_major": 2,
       "version_minor": 0
      },
      "text/plain": [
       "HBox(children=(FloatProgress(value=1.0, bar_style='info', max=1.0), HTML(value='')))"
      ]
     },
     "metadata": {},
     "output_type": "display_data"
    },
    {
     "name": "stdout",
     "output_type": "stream",
     "text": [
      "--> Not exactly one containing mesh: []\n",
      "--> Not exactly one containing mesh: []\n",
      "--> Not exactly one containing mesh: []\n",
      "\n",
      "branch_touching_number = [10]\n",
      "branch_touching_number = [10, 1]\n",
      "most_branch_containing_piece = 0\n",
      "The smallest distance (not including diagonal) = 153.70426148939399\n"
     ]
    },
    {
     "data": {
      "application/vnd.jupyter.widget-view+json": {
       "model_id": "ecdff3b5076e4ea095441f42740c49fc",
       "version_major": 2,
       "version_minor": 0
      },
      "text/plain": [
       "HBox(children=(FloatProgress(value=1.0, bar_style='info', max=1.0), HTML(value='')))"
      ]
     },
     "metadata": {},
     "output_type": "display_data"
    },
    {
     "name": "stdout",
     "output_type": "stream",
     "text": [
      "\n",
      "filtered_measurements = [503.2377866  597.13775539 429.7787764  483.04538384 349.58032829\n",
      " 464.48777452 364.55202961 429.43040395 430.52606919 542.86905718\n",
      " 628.7271227  413.87081888 251.2552528  347.53966967 393.6494168\n",
      " 472.5927311  580.49542779 379.35962653 510.9565427  345.45990265\n",
      " 278.43343021 305.93588217 297.17680012 279.77350903 293.73587579\n",
      " 294.52142768 296.05581228 473.55327435 317.63417027]\n",
      "new_threshold = 1308.3469177569802\n"
     ]
    },
    {
     "data": {
      "application/vnd.jupyter.widget-view+json": {
       "model_id": "56f731022d1b47029c81935c71298dc9",
       "version_major": 2,
       "version_minor": 0
      },
      "text/plain": [
       "HBox(children=(FloatProgress(value=1.0, bar_style='info', max=1.0), HTML(value='')))"
      ]
     },
     "metadata": {},
     "output_type": "display_data"
    },
    {
     "name": "stdout",
     "output_type": "stream",
     "text": [
      "\n",
      "The smallest distance (not including diagonal) = 25.337718918639855\n"
     ]
    },
    {
     "data": {
      "application/vnd.jupyter.widget-view+json": {
       "model_id": "6b52b402c941435781122f9c3f63eaf2",
       "version_major": 2,
       "version_minor": 0
      },
      "text/plain": [
       "HBox(children=(FloatProgress(value=1.0, bar_style='info', max=1.0), HTML(value='')))"
      ]
     },
     "metadata": {},
     "output_type": "display_data"
    },
    {
     "name": "stdout",
     "output_type": "stream",
     "text": [
      "--> Not exactly one containing mesh: []\n",
      "\n",
      "filtered_measurements = [73.74924579 83.03095283 81.69371913 68.25486385 75.59035139]\n",
      "new_threshold = 161.3449669888829\n"
     ]
    },
    {
     "data": {
      "application/vnd.jupyter.widget-view+json": {
       "model_id": "c083d430b0b74384911657aae6bbb019",
       "version_major": 2,
       "version_minor": 0
      },
      "text/plain": [
       "HBox(children=(FloatProgress(value=1.0, bar_style='info', max=1.0), HTML(value='')))"
      ]
     },
     "metadata": {},
     "output_type": "display_data"
    },
    {
     "name": "stdout",
     "output_type": "stream",
     "text": [
      "--> Not exactly one containing mesh: []\n",
      "--> Not exactly one containing mesh: []\n",
      "--> Not exactly one containing mesh: []\n",
      "--> Not exactly one containing mesh: []\n",
      "\n",
      "branch_touching_number = [7]\n",
      "branch_touching_number = [7, 1]\n",
      "branch_touching_number = [7, 1, 2]\n",
      "most_branch_containing_piece = 0\n",
      "The smallest distance (not including diagonal) = 25.099800796022265\n"
     ]
    },
    {
     "data": {
      "application/vnd.jupyter.widget-view+json": {
       "model_id": "f8a848b272dd426199933b909cf6f555",
       "version_major": 2,
       "version_minor": 0
      },
      "text/plain": [
       "HBox(children=(FloatProgress(value=1.0, bar_style='info', max=1.0), HTML(value='')))"
      ]
     },
     "metadata": {},
     "output_type": "display_data"
    },
    {
     "name": "stdout",
     "output_type": "stream",
     "text": [
      "--> Not exactly one containing mesh: []\n",
      "--> Not exactly one containing mesh: []\n",
      "\n",
      "filtered_measurements = [264.47582138 258.15185929 465.75163856 260.45986874 398.38262114\n",
      " 392.33847404 387.80537177 321.07126494 324.45278685 425.03554304\n",
      " 387.31882032 265.73818993 313.06311006 275.4031189  200.76376011\n",
      " 266.7823348  353.05644619 311.01029862 379.8670598  431.2296637 ]\n",
      "new_threshold = 1200.3920969317683\n"
     ]
    },
    {
     "data": {
      "application/vnd.jupyter.widget-view+json": {
       "model_id": "bb6ca6d7459b4947a0a8de8183e4269d",
       "version_major": 2,
       "version_minor": 0
      },
      "text/plain": [
       "HBox(children=(FloatProgress(value=1.0, bar_style='info', max=1.0), HTML(value='')))"
      ]
     },
     "metadata": {},
     "output_type": "display_data"
    },
    {
     "name": "stdout",
     "output_type": "stream",
     "text": [
      "--> Not exactly one containing mesh: []\n",
      "--> Not exactly one containing mesh: []\n",
      "\n",
      "The smallest distance (not including diagonal) = 336.1145638022845\n"
     ]
    },
    {
     "data": {
      "application/vnd.jupyter.widget-view+json": {
       "model_id": "3e8908b178e54d0a85ed71ee1a3fc182",
       "version_major": 2,
       "version_minor": 0
      },
      "text/plain": [
       "HBox(children=(FloatProgress(value=1.0, bar_style='info', max=1.0), HTML(value='')))"
      ]
     },
     "metadata": {},
     "output_type": "display_data"
    },
    {
     "name": "stdout",
     "output_type": "stream",
     "text": [
      "\n",
      "filtered_measurements = [ 700.09283586  643.59715682  853.65283156 1138.12635135]\n",
      "new_threshold = 2237.7057263080123\n"
     ]
    },
    {
     "data": {
      "application/vnd.jupyter.widget-view+json": {
       "model_id": "f1c1419089dd4a8b840e5207e3474ab6",
       "version_major": 2,
       "version_minor": 0
      },
      "text/plain": [
       "HBox(children=(FloatProgress(value=1.0, bar_style='info', max=1.0), HTML(value='')))"
      ]
     },
     "metadata": {},
     "output_type": "display_data"
    },
    {
     "name": "stdout",
     "output_type": "stream",
     "text": [
      "\n",
      "The smallest distance (not including diagonal) = 253.61979418018618\n"
     ]
    },
    {
     "data": {
      "application/vnd.jupyter.widget-view+json": {
       "model_id": "1d031e66d5a14762bf64d1c08f44838f",
       "version_major": 2,
       "version_minor": 0
      },
      "text/plain": [
       "HBox(children=(FloatProgress(value=1.0, bar_style='info', max=1.0), HTML(value='')))"
      ]
     },
     "metadata": {},
     "output_type": "display_data"
    },
    {
     "name": "stdout",
     "output_type": "stream",
     "text": [
      "\n",
      "filtered_measurements = [485.15512835 417.49427932 483.86977327 420.43474469]\n",
      "new_threshold = 856.0205138489214\n"
     ]
    },
    {
     "data": {
      "application/vnd.jupyter.widget-view+json": {
       "model_id": "d55eb0a3f53d45b89f223e0d0080c9de",
       "version_major": 2,
       "version_minor": 0
      },
      "text/plain": [
       "HBox(children=(FloatProgress(value=1.0, bar_style='info', max=1.0), HTML(value='')))"
      ]
     },
     "metadata": {},
     "output_type": "display_data"
    },
    {
     "name": "stdout",
     "output_type": "stream",
     "text": [
      "\n",
      "The smallest distance (not including diagonal) = 168.8253535462017\n"
     ]
    },
    {
     "data": {
      "application/vnd.jupyter.widget-view+json": {
       "model_id": "5f9bf1facdbd4cb1940783a68755cd1e",
       "version_major": 2,
       "version_minor": 0
      },
      "text/plain": [
       "HBox(children=(FloatProgress(value=1.0, bar_style='info', max=1.0), HTML(value='')))"
      ]
     },
     "metadata": {},
     "output_type": "display_data"
    },
    {
     "name": "stdout",
     "output_type": "stream",
     "text": [
      "\n",
      "filtered_measurements = [614.0458527  519.51317858]\n",
      "new_threshold = 1138.1476705433265\n"
     ]
    },
    {
     "data": {
      "application/vnd.jupyter.widget-view+json": {
       "model_id": "f8ca211e146e4ae18e1711af4f030d26",
       "version_major": 2,
       "version_minor": 0
      },
      "text/plain": [
       "HBox(children=(FloatProgress(value=1.0, bar_style='info', max=1.0), HTML(value='')))"
      ]
     },
     "metadata": {},
     "output_type": "display_data"
    },
    {
     "name": "stdout",
     "output_type": "stream",
     "text": [
      "\n",
      "The smallest distance (not including diagonal) = 290.5470701969179\n"
     ]
    },
    {
     "data": {
      "application/vnd.jupyter.widget-view+json": {
       "model_id": "8fdffdd7aca54946af89ff78c865c5d7",
       "version_major": 2,
       "version_minor": 0
      },
      "text/plain": [
       "HBox(children=(FloatProgress(value=1.0, bar_style='info', max=1.0), HTML(value='')))"
      ]
     },
     "metadata": {},
     "output_type": "display_data"
    },
    {
     "name": "stdout",
     "output_type": "stream",
     "text": [
      "\n",
      "filtered_measurements = [585.78244913 578.52676677 549.92041016 723.69253525 888.14748175\n",
      " 663.23585379]\n",
      "new_threshold = 1690.7634397111556\n"
     ]
    },
    {
     "data": {
      "application/vnd.jupyter.widget-view+json": {
       "model_id": "abf9b906b1e54da1893d539b521b2c38",
       "version_major": 2,
       "version_minor": 0
      },
      "text/plain": [
       "HBox(children=(FloatProgress(value=1.0, bar_style='info', max=1.0), HTML(value='')))"
      ]
     },
     "metadata": {},
     "output_type": "display_data"
    },
    {
     "name": "stdout",
     "output_type": "stream",
     "text": [
      "\n",
      "The smallest distance (not including diagonal) = 541.5403955385046\n"
     ]
    },
    {
     "data": {
      "application/vnd.jupyter.widget-view+json": {
       "model_id": "b89634a5b34948f08e96f5df1eaa21aa",
       "version_major": 2,
       "version_minor": 0
      },
      "text/plain": [
       "HBox(children=(FloatProgress(value=1.0, bar_style='info', max=1.0), HTML(value='')))"
      ]
     },
     "metadata": {},
     "output_type": "display_data"
    },
    {
     "name": "stdout",
     "output_type": "stream",
     "text": [
      "\n",
      "filtered_measurements = [855.44887348 600.46651024]\n",
      "new_threshold = 1754.6302739806501\n"
     ]
    },
    {
     "data": {
      "application/vnd.jupyter.widget-view+json": {
       "model_id": "d47276366c5c4e5fa2cc914a4eabaa3a",
       "version_major": 2,
       "version_minor": 0
      },
      "text/plain": [
       "HBox(children=(FloatProgress(value=1.0, bar_style='info', max=1.0), HTML(value='')))"
      ]
     },
     "metadata": {},
     "output_type": "display_data"
    },
    {
     "name": "stdout",
     "output_type": "stream",
     "text": [
      "\n",
      "The smallest distance (not including diagonal) = 27.49545416973504\n"
     ]
    },
    {
     "data": {
      "application/vnd.jupyter.widget-view+json": {
       "model_id": "017ca317d96f447ebd5220d7dac1f7e0",
       "version_major": 2,
       "version_minor": 0
      },
      "text/plain": [
       "HBox(children=(FloatProgress(value=1.0, bar_style='info', max=1.0), HTML(value='')))"
      ]
     },
     "metadata": {},
     "output_type": "display_data"
    },
    {
     "name": "stdout",
     "output_type": "stream",
     "text": [
      "--> Not exactly one containing mesh: []\n",
      "\n",
      "filtered_measurements = [102.66809727  89.58824144  69.97606588 104.39579017 133.23749503\n",
      " 139.30528403  84.38863711  86.02606256  65.09103659  77.24125976\n",
      " 116.11178633  85.05274847  87.14552183  75.32366638  68.98604852\n",
      "  96.79106867 107.4690978  140.15695501 153.31413379 101.82804783]\n",
      "new_threshold = 316.5949800831382\n"
     ]
    },
    {
     "data": {
      "application/vnd.jupyter.widget-view+json": {
       "model_id": "25a2d39b381143bdb33fa97ded845958",
       "version_major": 2,
       "version_minor": 0
      },
      "text/plain": [
       "HBox(children=(FloatProgress(value=1.0, bar_style='info', max=1.0), HTML(value='')))"
      ]
     },
     "metadata": {},
     "output_type": "display_data"
    },
    {
     "name": "stdout",
     "output_type": "stream",
     "text": [
      "--> Not exactly one containing mesh: []\n",
      "--> Not exactly one containing mesh: []\n",
      "\n",
      "branch_touching_number = [25]\n",
      "branch_touching_number = [25, 1]\n",
      "most_branch_containing_piece = 0\n",
      "The smallest distance (not including diagonal) = 44.181444068749045\n"
     ]
    },
    {
     "data": {
      "application/vnd.jupyter.widget-view+json": {
       "model_id": "00d45902ecea456089d20b514a56b8e9",
       "version_major": 2,
       "version_minor": 0
      },
      "text/plain": [
       "HBox(children=(FloatProgress(value=1.0, bar_style='info', max=1.0), HTML(value='')))"
      ]
     },
     "metadata": {},
     "output_type": "display_data"
    },
    {
     "name": "stdout",
     "output_type": "stream",
     "text": [
      "\n",
      "filtered_measurements = [545.74359739 369.12391617 422.17293257 395.82917265 381.30854038\n",
      " 269.28947908 365.86637383 351.60733832 375.3340635  450.9377224\n",
      " 281.63244029 191.28644542 311.64448184 305.74539291 279.95575345\n",
      " 520.10034882 292.80269878 244.48578095 326.93496327 510.00674314\n",
      " 281.42498416 320.62856944 386.52481328 265.59278853 381.36116427\n",
      " 287.93719675 351.53729135 387.98798799 412.39220477 425.72890772\n",
      " 218.63468134 406.90678765 538.64354404 367.45225347 317.28240174\n",
      " 374.21940093 473.09263765 246.974767   245.67443086 270.78385155\n",
      " 354.74999863 393.86653951 271.09659815 203.6800478  310.2175907\n",
      " 313.3879116  402.84931485 387.21695663 535.86760596 482.7395738\n",
      " 434.87305771 391.83263959 237.10947148 179.56194287 280.93542712\n",
      " 195.92474833 416.63744119 291.43582145 276.03187912 477.50215178\n",
      " 215.85767252 452.82354064 437.06564787 255.58982553 267.27887571\n",
      " 262.34958771 469.81432312 218.12233801 152.93181977 289.69872315\n",
      " 275.89152438 310.21251177 273.2062225  145.47417325 127.39544985\n",
      " 257.7609821  239.67644329 107.5022191  183.9760312  201.32232788]\n",
      "new_threshold = 1450.1082886521845\n"
     ]
    },
    {
     "data": {
      "application/vnd.jupyter.widget-view+json": {
       "model_id": "684248d703034f48b3137bd795fdb907",
       "version_major": 2,
       "version_minor": 0
      },
      "text/plain": [
       "HBox(children=(FloatProgress(value=1.0, bar_style='info', max=1.0), HTML(value='')))"
      ]
     },
     "metadata": {},
     "output_type": "display_data"
    },
    {
     "name": "stdout",
     "output_type": "stream",
     "text": [
      "\n",
      "\n",
      "Working on limb #7\n",
      "The smallest distance (not including diagonal) = 4.242640687119285\n",
      "The smallest distance (not including diagonal) = 12.24744871391589\n",
      "The smallest distance (not including diagonal) = 177.93538152936307\n",
      "The smallest distance (not including diagonal) = 95.82275303913993\n",
      "The smallest distance (not including diagonal) = 240.85265205099984\n",
      "The smallest distance (not including diagonal) = 148.65059703882793\n",
      "The smallest distance (not including diagonal) = 62.32976816898969\n",
      "The smallest distance (not including diagonal) = 91.45490692138941\n",
      "The smallest distance (not including diagonal) = 136.92698784388708\n",
      "The smallest distance (not including diagonal) = 122.8087944733601\n",
      "The smallest distance (not including diagonal) = 4.242640687119285\n",
      "The smallest distance (not including diagonal) = 71.98610977126073\n",
      "The smallest distance (not including diagonal) = 18.138357147217054\n",
      "The smallest distance (not including diagonal) = 309.6982402274834\n",
      "The smallest distance (not including diagonal) = 411.79849441201213\n",
      "The smallest distance (not including diagonal) = 52.15361924162119\n",
      "The smallest distance (not including diagonal) = 287.36214086062205\n",
      "The smallest distance (not including diagonal) = 373.915765915266\n",
      "The smallest distance (not including diagonal) = 163.48700254148645\n",
      "The smallest distance (not including diagonal) = 62.99206299209449\n",
      "The smallest distance (not including diagonal) = 200.77848490313897\n",
      "The smallest distance (not including diagonal) = 403.246822678121\n",
      "The smallest distance (not including diagonal) = 523.5895338908141\n",
      "The smallest distance (not including diagonal) = 46.4327470649756\n",
      "The smallest distance (not including diagonal) = 188.36698224479343\n",
      "The smallest distance (not including diagonal) = 341.11581610942636\n"
     ]
    },
    {
     "data": {
      "application/vnd.jupyter.widget-view+json": {
       "model_id": "e42dcdbdb214441399ce8ce0bd87f9e3",
       "version_major": 2,
       "version_minor": 0
      },
      "text/plain": [
       "HBox(children=(FloatProgress(value=1.0, bar_style='info', max=1.0), HTML(value='')))"
      ]
     },
     "metadata": {},
     "output_type": "display_data"
    },
    {
     "name": "stdout",
     "output_type": "stream",
     "text": [
      "The smallest distance (not including diagonal) = 12.24744871391589\n"
     ]
    },
    {
     "data": {
      "application/vnd.jupyter.widget-view+json": {
       "model_id": "8a57d423385f4e80bee6fd1d9cb1d98e",
       "version_major": 2,
       "version_minor": 0
      },
      "text/plain": [
       "HBox(children=(FloatProgress(value=1.0, bar_style='info', max=1.0), HTML(value='')))"
      ]
     },
     "metadata": {},
     "output_type": "display_data"
    },
    {
     "name": "stdout",
     "output_type": "stream",
     "text": [
      "\n",
      "filtered_measurements = [448.65711212 316.99799665 265.87500267 343.89840352 425.69260919\n",
      " 476.96813142 251.53142426 205.09162226 346.69718471 319.25568488\n",
      " 298.83896371 295.98571732 363.54030067 232.72590214 199.96338895\n",
      " 453.33381869 388.36216971 281.01381986 314.17122183 386.00353748\n",
      " 318.64638398 443.38796993 296.60806249 262.2237277  377.14248745\n",
      " 218.11318737 200.74034128 369.05851791 373.89743373 321.07473164\n",
      " 469.2784936  224.72218564 244.9764488  279.79934466 260.66702949\n",
      " 240.57604443 311.24458199 256.96723486]\n",
      "new_threshold = 1153.2154144077922\n"
     ]
    },
    {
     "data": {
      "application/vnd.jupyter.widget-view+json": {
       "model_id": "18370b8f4b764cb089d8ddeed116916e",
       "version_major": 2,
       "version_minor": 0
      },
      "text/plain": [
       "HBox(children=(FloatProgress(value=1.0, bar_style='info', max=1.0), HTML(value='')))"
      ]
     },
     "metadata": {},
     "output_type": "display_data"
    },
    {
     "name": "stdout",
     "output_type": "stream",
     "text": [
      "\n",
      "The smallest distance (not including diagonal) = 177.93538152936307\n"
     ]
    },
    {
     "data": {
      "application/vnd.jupyter.widget-view+json": {
       "model_id": "6d192da4b76e4df19ae1fb40209bd831",
       "version_major": 2,
       "version_minor": 0
      },
      "text/plain": [
       "HBox(children=(FloatProgress(value=1.0, bar_style='info', max=1.0), HTML(value='')))"
      ]
     },
     "metadata": {},
     "output_type": "display_data"
    },
    {
     "name": "stdout",
     "output_type": "stream",
     "text": [
      "\n",
      "filtered_measurements = [741.67778811 724.96580215 650.26929178 735.49088067 670.42526037\n",
      " 629.46807564 552.29518659 600.76693695 613.69917442 514.89997975\n",
      " 496.52676788 474.64552632 520.973485  ]\n",
      "new_threshold = 1489.022737047897\n"
     ]
    },
    {
     "data": {
      "application/vnd.jupyter.widget-view+json": {
       "model_id": "54847505c2e44864a28f7ad937883db1",
       "version_major": 2,
       "version_minor": 0
      },
      "text/plain": [
       "HBox(children=(FloatProgress(value=1.0, bar_style='info', max=1.0), HTML(value='')))"
      ]
     },
     "metadata": {},
     "output_type": "display_data"
    },
    {
     "name": "stdout",
     "output_type": "stream",
     "text": [
      "\n",
      "The smallest distance (not including diagonal) = 95.82275303913993\n"
     ]
    },
    {
     "data": {
      "application/vnd.jupyter.widget-view+json": {
       "model_id": "8d7bf9c82fd24bf9863345a9af50b6bb",
       "version_major": 2,
       "version_minor": 0
      },
      "text/plain": [
       "HBox(children=(FloatProgress(value=1.0, bar_style='info', max=1.0), HTML(value='')))"
      ]
     },
     "metadata": {},
     "output_type": "display_data"
    },
    {
     "name": "stdout",
     "output_type": "stream",
     "text": [
      "\n",
      "filtered_measurements = [332.30167244 408.2905483  402.47021028 356.34221127 366.20095896\n",
      " 390.34330739 395.73664468 449.69007171 391.66354648 376.38408603\n",
      " 405.23470055]\n",
      "new_threshold = 919.5903658562786\n"
     ]
    },
    {
     "data": {
      "application/vnd.jupyter.widget-view+json": {
       "model_id": "9589b6a977d9441581c6643359842748",
       "version_major": 2,
       "version_minor": 0
      },
      "text/plain": [
       "HBox(children=(FloatProgress(value=1.0, bar_style='info', max=1.0), HTML(value='')))"
      ]
     },
     "metadata": {},
     "output_type": "display_data"
    },
    {
     "name": "stdout",
     "output_type": "stream",
     "text": [
      "\n",
      "The smallest distance (not including diagonal) = 240.85265205099984\n"
     ]
    },
    {
     "data": {
      "application/vnd.jupyter.widget-view+json": {
       "model_id": "cd4286c47f4a4d41824fccf7d52a0cf3",
       "version_major": 2,
       "version_minor": 0
      },
      "text/plain": [
       "HBox(children=(FloatProgress(value=1.0, bar_style='info', max=1.0), HTML(value='')))"
      ]
     },
     "metadata": {},
     "output_type": "display_data"
    },
    {
     "name": "stdout",
     "output_type": "stream",
     "text": [
      "\n",
      "filtered_measurements = [301.47927774 440.67180654 484.6388736  416.89588402]\n",
      "new_threshold = 850.715930361737\n"
     ]
    },
    {
     "data": {
      "application/vnd.jupyter.widget-view+json": {
       "model_id": "1028cede9ebb46c7b63b1d2fcd45d077",
       "version_major": 2,
       "version_minor": 0
      },
      "text/plain": [
       "HBox(children=(FloatProgress(value=1.0, bar_style='info', max=1.0), HTML(value='')))"
      ]
     },
     "metadata": {},
     "output_type": "display_data"
    },
    {
     "name": "stdout",
     "output_type": "stream",
     "text": [
      "\n",
      "The smallest distance (not including diagonal) = 148.65059703882793\n"
     ]
    },
    {
     "data": {
      "application/vnd.jupyter.widget-view+json": {
       "model_id": "12c681c66ca145c39b5e9abc452890b4",
       "version_major": 2,
       "version_minor": 0
      },
      "text/plain": [
       "HBox(children=(FloatProgress(value=1.0, bar_style='info', max=1.0), HTML(value='')))"
      ]
     },
     "metadata": {},
     "output_type": "display_data"
    },
    {
     "name": "stdout",
     "output_type": "stream",
     "text": [
      "\n",
      "filtered_measurements = [221.81840783 347.91489652 323.9029969  305.35722811 200.84399876\n",
      " 409.31603007 335.21793169 242.91130818 257.22393574 432.73936938\n",
      " 191.97083134 398.54314018 470.97906251 252.03279267 312.50610492\n",
      " 327.83514231 249.57725049 216.85525619 173.42822091 463.70484342\n",
      " 263.72206944 340.76894808 412.71616499 338.54419928 297.93143615\n",
      " 332.05471275 320.83558458 327.00512052 255.41808164 155.47570608\n",
      " 186.08964669 308.75101567]\n",
      "new_threshold = 1130.0525555207134\n"
     ]
    },
    {
     "data": {
      "application/vnd.jupyter.widget-view+json": {
       "model_id": "a7fccb1502ac403e9d6a287c13c4dbcc",
       "version_major": 2,
       "version_minor": 0
      },
      "text/plain": [
       "HBox(children=(FloatProgress(value=1.0, bar_style='info', max=1.0), HTML(value='')))"
      ]
     },
     "metadata": {},
     "output_type": "display_data"
    },
    {
     "name": "stdout",
     "output_type": "stream",
     "text": [
      "\n",
      "The smallest distance (not including diagonal) = 62.32976816898969\n"
     ]
    },
    {
     "data": {
      "application/vnd.jupyter.widget-view+json": {
       "model_id": "bcf888aae3a144d58dec392028d22f56",
       "version_major": 2,
       "version_minor": 0
      },
      "text/plain": [
       "HBox(children=(FloatProgress(value=1.0, bar_style='info', max=1.0), HTML(value='')))"
      ]
     },
     "metadata": {},
     "output_type": "display_data"
    },
    {
     "name": "stdout",
     "output_type": "stream",
     "text": [
      "--> Not exactly one containing mesh: []\n",
      "\n",
      "filtered_measurements = [ 89.96067076  57.9853004   63.00143477  78.11772014 101.21062713]\n",
      "new_threshold = 176.68788524987085\n"
     ]
    },
    {
     "data": {
      "application/vnd.jupyter.widget-view+json": {
       "model_id": "ccbad512e4db44d58874a27c3f25e28f",
       "version_major": 2,
       "version_minor": 0
      },
      "text/plain": [
       "HBox(children=(FloatProgress(value=1.0, bar_style='info', max=1.0), HTML(value='')))"
      ]
     },
     "metadata": {},
     "output_type": "display_data"
    },
    {
     "name": "stdout",
     "output_type": "stream",
     "text": [
      "--> Not exactly one containing mesh: []\n",
      "--> Not exactly one containing mesh: []\n",
      "\n",
      "branch_touching_number = [7]\n",
      "branch_touching_number = [7, 1]\n",
      "most_branch_containing_piece = 0\n",
      "The smallest distance (not including diagonal) = 91.45490692138941\n"
     ]
    },
    {
     "data": {
      "application/vnd.jupyter.widget-view+json": {
       "model_id": "210cf67053494a8e96426fc2a86c35eb",
       "version_major": 2,
       "version_minor": 0
      },
      "text/plain": [
       "HBox(children=(FloatProgress(value=1.0, bar_style='info', max=1.0), HTML(value='')))"
      ]
     },
     "metadata": {},
     "output_type": "display_data"
    },
    {
     "name": "stdout",
     "output_type": "stream",
     "text": [
      "\n",
      "filtered_measurements = [242.44255883 229.28154756 260.07450302 273.21686761 198.78999616\n",
      " 165.21860035]\n",
      "new_threshold = 439.777221492836\n"
     ]
    },
    {
     "data": {
      "application/vnd.jupyter.widget-view+json": {
       "model_id": "b91d99ad19b746f095076febd2d0822f",
       "version_major": 2,
       "version_minor": 0
      },
      "text/plain": [
       "HBox(children=(FloatProgress(value=1.0, bar_style='info', max=1.0), HTML(value='')))"
      ]
     },
     "metadata": {},
     "output_type": "display_data"
    },
    {
     "name": "stdout",
     "output_type": "stream",
     "text": [
      "\n",
      "The smallest distance (not including diagonal) = 136.92698784388708\n"
     ]
    },
    {
     "data": {
      "application/vnd.jupyter.widget-view+json": {
       "model_id": "153e3752d3a34a51a4aef50cc954bb90",
       "version_major": 2,
       "version_minor": 0
      },
      "text/plain": [
       "HBox(children=(FloatProgress(value=1.0, bar_style='info', max=1.0), HTML(value='')))"
      ]
     },
     "metadata": {},
     "output_type": "display_data"
    },
    {
     "name": "stdout",
     "output_type": "stream",
     "text": [
      "\n",
      "filtered_measurements = [223.22933456 222.40778467 271.88833188 465.12802221 250.17362514\n",
      " 288.07822663 232.32568222 280.39951338 277.62030917 258.97555001\n",
      " 346.9981316  297.66485388 346.04556062 288.39013471 273.80373299\n",
      " 268.64854135 226.66702947 283.24276179 299.27547439 271.82444441\n",
      " 292.29446939 335.63295314 449.83544    334.84993124 344.5305909\n",
      " 338.18363434 279.32668378 330.06074484 382.13251113 316.84183052\n",
      " 229.02699472 296.45897155 257.24771955 407.00767242 317.68089536\n",
      " 363.39355365 289.17885737 257.8072774  324.43157173 458.26890813\n",
      " 384.73507654 279.40476867 280.16522818 204.6470852  193.91303755\n",
      " 199.05063078 172.91136522]\n",
      "new_threshold = 1317.9289054962583\n"
     ]
    },
    {
     "data": {
      "application/vnd.jupyter.widget-view+json": {
       "model_id": "50e600da428347ed804759cf2b6743dc",
       "version_major": 2,
       "version_minor": 0
      },
      "text/plain": [
       "HBox(children=(FloatProgress(value=1.0, bar_style='info', max=1.0), HTML(value='')))"
      ]
     },
     "metadata": {},
     "output_type": "display_data"
    },
    {
     "name": "stdout",
     "output_type": "stream",
     "text": [
      "\n",
      "The smallest distance (not including diagonal) = 122.8087944733601\n"
     ]
    },
    {
     "data": {
      "application/vnd.jupyter.widget-view+json": {
       "model_id": "9530d682025348ca932c348e0030d5dd",
       "version_major": 2,
       "version_minor": 0
      },
      "text/plain": [
       "HBox(children=(FloatProgress(value=1.0, bar_style='info', max=1.0), HTML(value='')))"
      ]
     },
     "metadata": {},
     "output_type": "display_data"
    },
    {
     "name": "stdout",
     "output_type": "stream",
     "text": [
      "\n",
      "filtered_measurements = [319.61616783 281.89883548 272.61323042 248.92928732 211.11328304\n",
      " 361.45074513 564.09427242 433.56297983 418.69816651 428.27526749\n",
      " 433.10325446 283.31077196 310.73350369 343.31710775 479.41670472\n",
      " 266.83227367 568.48181188 259.23943178 207.65758155 221.26006946\n",
      " 456.91569237 342.12168062 498.37046524 341.02973244 232.77927146\n",
      " 343.98707044 378.7725529  357.18886969 349.61177687 357.59670043\n",
      " 269.30505884 213.49079796 387.62641492 260.27108206 475.33341509\n",
      " 395.12786569 258.80236068 265.23645664 295.5512979  431.30109133\n",
      " 413.96970861 317.68928812 345.9396724  382.98570472 574.21657432\n",
      " 335.09264014 350.55520922 407.83747385 492.64183093]\n",
      "new_threshold = 1454.6902212903726\n"
     ]
    },
    {
     "data": {
      "application/vnd.jupyter.widget-view+json": {
       "model_id": "f95f775fa2634ab4b879a989b50b20e4",
       "version_major": 2,
       "version_minor": 0
      },
      "text/plain": [
       "HBox(children=(FloatProgress(value=1.0, bar_style='info', max=1.0), HTML(value='')))"
      ]
     },
     "metadata": {},
     "output_type": "display_data"
    },
    {
     "name": "stdout",
     "output_type": "stream",
     "text": [
      "\n",
      "The smallest distance (not including diagonal) = 4.242640687119285\n"
     ]
    },
    {
     "data": {
      "application/vnd.jupyter.widget-view+json": {
       "model_id": "dbb6d510f806415884da5f467c8b4c99",
       "version_major": 2,
       "version_minor": 0
      },
      "text/plain": [
       "HBox(children=(FloatProgress(value=1.0, bar_style='info', max=1.0), HTML(value='')))"
      ]
     },
     "metadata": {},
     "output_type": "display_data"
    },
    {
     "name": "stdout",
     "output_type": "stream",
     "text": [
      "\n",
      "filtered_measurements = [ 95.02134587 133.7933766  120.27957821]\n",
      "new_threshold = 257.5834124549755\n"
     ]
    },
    {
     "data": {
      "application/vnd.jupyter.widget-view+json": {
       "model_id": "cb5602bbb43c4082b46f83373138fb39",
       "version_major": 2,
       "version_minor": 0
      },
      "text/plain": [
       "HBox(children=(FloatProgress(value=1.0, bar_style='info', max=1.0), HTML(value='')))"
      ]
     },
     "metadata": {},
     "output_type": "display_data"
    },
    {
     "name": "stdout",
     "output_type": "stream",
     "text": [
      "\n",
      "The smallest distance (not including diagonal) = 71.98610977126073\n"
     ]
    },
    {
     "data": {
      "application/vnd.jupyter.widget-view+json": {
       "model_id": "fcbef5427a0549dfb968991e06f41808",
       "version_major": 2,
       "version_minor": 0
      },
      "text/plain": [
       "HBox(children=(FloatProgress(value=1.0, bar_style='info', max=1.0), HTML(value='')))"
      ]
     },
     "metadata": {},
     "output_type": "display_data"
    },
    {
     "name": "stdout",
     "output_type": "stream",
     "text": [
      "\n",
      "filtered_measurements = [323.71856166 421.70281524 456.67657458 372.94932753 277.68186174\n",
      " 274.78258931 266.90317294 180.2861075  182.50090057 352.66840803\n",
      " 395.69168318 166.19112822 472.80499929 203.95034446 233.24467874\n",
      " 264.76186524 231.13443145 345.86211303 412.44414699 462.60180965\n",
      " 132.00979398 392.68063571 228.05704635 395.12648637]\n",
      "new_threshold = 1312.1886120068932\n"
     ]
    },
    {
     "data": {
      "application/vnd.jupyter.widget-view+json": {
       "model_id": "941cf98d8406401890dcbc53c82cf79d",
       "version_major": 2,
       "version_minor": 0
      },
      "text/plain": [
       "HBox(children=(FloatProgress(value=1.0, bar_style='info', max=1.0), HTML(value='')))"
      ]
     },
     "metadata": {},
     "output_type": "display_data"
    },
    {
     "name": "stdout",
     "output_type": "stream",
     "text": [
      "\n",
      "The smallest distance (not including diagonal) = 18.138357147217054\n"
     ]
    },
    {
     "data": {
      "application/vnd.jupyter.widget-view+json": {
       "model_id": "ab29f1b15bbf4a8593eb9452a21c521f",
       "version_major": 2,
       "version_minor": 0
      },
      "text/plain": [
       "HBox(children=(FloatProgress(value=1.0, bar_style='info', max=1.0), HTML(value='')))"
      ]
     },
     "metadata": {},
     "output_type": "display_data"
    },
    {
     "name": "stdout",
     "output_type": "stream",
     "text": [
      "\n",
      "filtered_measurements = [473.5868047  423.47310444 130.57945051 261.11046606 342.40399941\n",
      " 372.72373187 347.63351821]\n",
      "new_threshold = 1019.5207972294803\n"
     ]
    },
    {
     "data": {
      "application/vnd.jupyter.widget-view+json": {
       "model_id": "d9d4c2cc67814ada99f349c331b302ba",
       "version_major": 2,
       "version_minor": 0
      },
      "text/plain": [
       "HBox(children=(FloatProgress(value=1.0, bar_style='info', max=1.0), HTML(value='')))"
      ]
     },
     "metadata": {},
     "output_type": "display_data"
    },
    {
     "name": "stdout",
     "output_type": "stream",
     "text": [
      "\n",
      "The smallest distance (not including diagonal) = 309.6982402274834\n"
     ]
    },
    {
     "data": {
      "application/vnd.jupyter.widget-view+json": {
       "model_id": "8eca7ad883f54d308d9c5759269b9e4e",
       "version_major": 2,
       "version_minor": 0
      },
      "text/plain": [
       "HBox(children=(FloatProgress(value=1.0, bar_style='info', max=1.0), HTML(value='')))"
      ]
     },
     "metadata": {},
     "output_type": "display_data"
    },
    {
     "name": "stdout",
     "output_type": "stream",
     "text": [
      "\n",
      "filtered_measurements = [1145.14595817 1128.67148828]\n",
      "new_threshold = 2871.2069744524215\n"
     ]
    },
    {
     "data": {
      "application/vnd.jupyter.widget-view+json": {
       "model_id": "9aa2aa9d059d427292ca8e5ef8075940",
       "version_major": 2,
       "version_minor": 0
      },
      "text/plain": [
       "HBox(children=(FloatProgress(value=1.0, bar_style='info', max=1.0), HTML(value='')))"
      ]
     },
     "metadata": {},
     "output_type": "display_data"
    },
    {
     "name": "stdout",
     "output_type": "stream",
     "text": [
      "\n",
      "The smallest distance (not including diagonal) = 411.79849441201213\n"
     ]
    },
    {
     "data": {
      "application/vnd.jupyter.widget-view+json": {
       "model_id": "ce547fea6ac54a04969e1e745f0e9443",
       "version_major": 2,
       "version_minor": 0
      },
      "text/plain": [
       "HBox(children=(FloatProgress(value=1.0, bar_style='info', max=1.0), HTML(value='')))"
      ]
     },
     "metadata": {},
     "output_type": "display_data"
    },
    {
     "name": "stdout",
     "output_type": "stream",
     "text": [
      "\n",
      "filtered_measurements = [456.35339218 450.33471457 228.02141571 327.23456158 301.66471215]\n",
      "new_threshold = 1080.8780632178803\n"
     ]
    },
    {
     "data": {
      "application/vnd.jupyter.widget-view+json": {
       "model_id": "edea9f69cd9f436d88440f4289f2fcfc",
       "version_major": 2,
       "version_minor": 0
      },
      "text/plain": [
       "HBox(children=(FloatProgress(value=1.0, bar_style='info', max=1.0), HTML(value='')))"
      ]
     },
     "metadata": {},
     "output_type": "display_data"
    },
    {
     "name": "stdout",
     "output_type": "stream",
     "text": [
      "\n",
      "The smallest distance (not including diagonal) = 52.15361924162119\n"
     ]
    },
    {
     "data": {
      "application/vnd.jupyter.widget-view+json": {
       "model_id": "0f2e04ba632d42e8bbe2625df7d9c984",
       "version_major": 2,
       "version_minor": 0
      },
      "text/plain": [
       "HBox(children=(FloatProgress(value=1.0, bar_style='info', max=1.0), HTML(value='')))"
      ]
     },
     "metadata": {},
     "output_type": "display_data"
    },
    {
     "name": "stdout",
     "output_type": "stream",
     "text": [
      "\n",
      "filtered_measurements = [144.765797   141.18336079 130.99607733 152.90390057 138.19117675\n",
      " 166.50512379 120.9838403  116.66143218  69.32644739  72.35105321\n",
      " 163.64485618  89.36837705  94.71766017  68.50344369 119.9953337\n",
      " 137.27839483 128.03237622  71.2606804  119.15065467 118.80476043\n",
      "  79.73327853 114.82929259  57.90458014  91.68336629 104.8128969\n",
      " 115.32144179]\n",
      "new_threshold = 328.91363928932117\n"
     ]
    },
    {
     "data": {
      "application/vnd.jupyter.widget-view+json": {
       "model_id": "30d6ed0e2c384d4dbd92f6d1a1a92777",
       "version_major": 2,
       "version_minor": 0
      },
      "text/plain": [
       "HBox(children=(FloatProgress(value=1.0, bar_style='info', max=1.0), HTML(value='')))"
      ]
     },
     "metadata": {},
     "output_type": "display_data"
    },
    {
     "name": "stdout",
     "output_type": "stream",
     "text": [
      "\n",
      "The smallest distance (not including diagonal) = 287.36214086062205\n"
     ]
    },
    {
     "data": {
      "application/vnd.jupyter.widget-view+json": {
       "model_id": "69597ca082e9419190f30f84f521190d",
       "version_major": 2,
       "version_minor": 0
      },
      "text/plain": [
       "HBox(children=(FloatProgress(value=1.0, bar_style='info', max=1.0), HTML(value='')))"
      ]
     },
     "metadata": {},
     "output_type": "display_data"
    },
    {
     "name": "stdout",
     "output_type": "stream",
     "text": [
      "\n",
      "filtered_measurements = [716.13372709 355.56969917]\n",
      "new_threshold = 1743.845118916519\n"
     ]
    },
    {
     "data": {
      "application/vnd.jupyter.widget-view+json": {
       "model_id": "ec42439511b24144858d159227670ed4",
       "version_major": 2,
       "version_minor": 0
      },
      "text/plain": [
       "HBox(children=(FloatProgress(value=1.0, bar_style='info', max=1.0), HTML(value='')))"
      ]
     },
     "metadata": {},
     "output_type": "display_data"
    },
    {
     "name": "stdout",
     "output_type": "stream",
     "text": [
      "\n",
      "The smallest distance (not including diagonal) = 373.915765915266\n"
     ]
    },
    {
     "data": {
      "application/vnd.jupyter.widget-view+json": {
       "model_id": "d6f00efafd264c7d9c3bf7e7a7113ebe",
       "version_major": 2,
       "version_minor": 0
      },
      "text/plain": [
       "HBox(children=(FloatProgress(value=1.0, bar_style='info', max=1.0), HTML(value='')))"
      ]
     },
     "metadata": {},
     "output_type": "display_data"
    },
    {
     "name": "stdout",
     "output_type": "stream",
     "text": [
      "\n",
      "filtered_measurements = [ 693.56023005 1154.66848467]\n",
      "new_threshold = 2259.1180000684017\n"
     ]
    },
    {
     "data": {
      "application/vnd.jupyter.widget-view+json": {
       "model_id": "57772697f53e47838a4291a150ebc552",
       "version_major": 2,
       "version_minor": 0
      },
      "text/plain": [
       "HBox(children=(FloatProgress(value=1.0, bar_style='info', max=1.0), HTML(value='')))"
      ]
     },
     "metadata": {},
     "output_type": "display_data"
    },
    {
     "name": "stdout",
     "output_type": "stream",
     "text": [
      "\n",
      "The smallest distance (not including diagonal) = 163.48700254148645\n"
     ]
    },
    {
     "data": {
      "application/vnd.jupyter.widget-view+json": {
       "model_id": "6de212c4c7ee474f94308d64edcbbffb",
       "version_major": 2,
       "version_minor": 0
      },
      "text/plain": [
       "HBox(children=(FloatProgress(value=1.0, bar_style='info', max=1.0), HTML(value='')))"
      ]
     },
     "metadata": {},
     "output_type": "display_data"
    },
    {
     "name": "stdout",
     "output_type": "stream",
     "text": [
      "\n",
      "filtered_measurements = [443.52633878 313.00725475 303.02471883 288.39832917 292.79076381\n",
      " 257.80144486 277.49285854 248.13445689 338.20583854 319.29402904\n",
      " 178.69231673 280.78950106 278.15888883 246.82098499]\n",
      "new_threshold = 900.2224486161929\n"
     ]
    },
    {
     "data": {
      "application/vnd.jupyter.widget-view+json": {
       "model_id": "2299366e11ac4e26a52927b30f396d0d",
       "version_major": 2,
       "version_minor": 0
      },
      "text/plain": [
       "HBox(children=(FloatProgress(value=1.0, bar_style='info', max=1.0), HTML(value='')))"
      ]
     },
     "metadata": {},
     "output_type": "display_data"
    },
    {
     "name": "stdout",
     "output_type": "stream",
     "text": [
      "\n",
      "The smallest distance (not including diagonal) = 62.99206299209449\n"
     ]
    },
    {
     "data": {
      "application/vnd.jupyter.widget-view+json": {
       "model_id": "474675305f0a4d8d8ffa0ae322c4e4b4",
       "version_major": 2,
       "version_minor": 0
      },
      "text/plain": [
       "HBox(children=(FloatProgress(value=1.0, bar_style='info', max=1.0), HTML(value='')))"
      ]
     },
     "metadata": {},
     "output_type": "display_data"
    },
    {
     "name": "stdout",
     "output_type": "stream",
     "text": [
      "\n",
      "branch_touching_number = [16]\n",
      "branch_touching_number = [16, 1]\n",
      "most_branch_containing_piece = 0\n",
      "filtered_measurements = [141.09486807  99.64827565  98.96706874 146.51111577 111.43694657\n",
      " 129.86510303  78.47456599  87.88993118  73.63187083  64.59430525\n",
      "  86.3843256   71.45733117  85.44106662]\n",
      "new_threshold = 272.6112087050834\n"
     ]
    },
    {
     "data": {
      "application/vnd.jupyter.widget-view+json": {
       "model_id": "11b8f66c32514ee79d481f10c46f4611",
       "version_major": 2,
       "version_minor": 0
      },
      "text/plain": [
       "HBox(children=(FloatProgress(value=1.0, bar_style='info', max=1.0), HTML(value='')))"
      ]
     },
     "metadata": {},
     "output_type": "display_data"
    },
    {
     "name": "stdout",
     "output_type": "stream",
     "text": [
      "--> Not exactly one containing mesh: []\n",
      "\n",
      "The smallest distance (not including diagonal) = 200.77848490313897\n"
     ]
    },
    {
     "data": {
      "application/vnd.jupyter.widget-view+json": {
       "model_id": "8f9bb1bb25414755ba67dfd3311b1655",
       "version_major": 2,
       "version_minor": 0
      },
      "text/plain": [
       "HBox(children=(FloatProgress(value=1.0, bar_style='info', max=1.0), HTML(value='')))"
      ]
     },
     "metadata": {},
     "output_type": "display_data"
    },
    {
     "name": "stdout",
     "output_type": "stream",
     "text": [
      "--> Not exactly one containing mesh: []\n",
      "\n",
      "filtered_measurements = [160.61456108 379.7822268 ]\n",
      "new_threshold = 812.0570726896349\n"
     ]
    },
    {
     "data": {
      "application/vnd.jupyter.widget-view+json": {
       "model_id": "74904924f9044ea6981284092d234ab3",
       "version_major": 2,
       "version_minor": 0
      },
      "text/plain": [
       "HBox(children=(FloatProgress(value=1.0, bar_style='info', max=1.0), HTML(value='')))"
      ]
     },
     "metadata": {},
     "output_type": "display_data"
    },
    {
     "name": "stdout",
     "output_type": "stream",
     "text": [
      "--> Not exactly one containing mesh: []\n",
      "\n",
      "The smallest distance (not including diagonal) = 403.246822678121\n"
     ]
    },
    {
     "data": {
      "application/vnd.jupyter.widget-view+json": {
       "model_id": "42cc478aaef24389b63c0f591ae86836",
       "version_major": 2,
       "version_minor": 0
      },
      "text/plain": [
       "HBox(children=(FloatProgress(value=1.0, bar_style='info', max=1.0), HTML(value='')))"
      ]
     },
     "metadata": {},
     "output_type": "display_data"
    },
    {
     "name": "stdout",
     "output_type": "stream",
     "text": [
      "\n",
      "filtered_measurements = [247.70457819 319.99801526]\n",
      "new_threshold = 644.3182437224563\n"
     ]
    },
    {
     "data": {
      "application/vnd.jupyter.widget-view+json": {
       "model_id": "3bad8076067e464db1fe7c25fa256e2c",
       "version_major": 2,
       "version_minor": 0
      },
      "text/plain": [
       "HBox(children=(FloatProgress(value=1.0, bar_style='info', max=1.0), HTML(value='')))"
      ]
     },
     "metadata": {},
     "output_type": "display_data"
    },
    {
     "name": "stdout",
     "output_type": "stream",
     "text": [
      "\n",
      "The smallest distance (not including diagonal) = 523.5895338908141\n"
     ]
    },
    {
     "data": {
      "application/vnd.jupyter.widget-view+json": {
       "model_id": "092d4095fe854a2d88164d406376b60c",
       "version_major": 2,
       "version_minor": 0
      },
      "text/plain": [
       "HBox(children=(FloatProgress(value=1.0, bar_style='info', max=1.0), HTML(value='')))"
      ]
     },
     "metadata": {},
     "output_type": "display_data"
    },
    {
     "name": "stdout",
     "output_type": "stream",
     "text": [
      "\n",
      "filtered_measurements = [357.85681203 319.71825772]\n",
      "new_threshold = 758.5438572281839\n"
     ]
    },
    {
     "data": {
      "application/vnd.jupyter.widget-view+json": {
       "model_id": "f79c5adee0b54fad9a9c0a5ff46d7dc0",
       "version_major": 2,
       "version_minor": 0
      },
      "text/plain": [
       "HBox(children=(FloatProgress(value=1.0, bar_style='info', max=1.0), HTML(value='')))"
      ]
     },
     "metadata": {},
     "output_type": "display_data"
    },
    {
     "name": "stdout",
     "output_type": "stream",
     "text": [
      "\n",
      "The smallest distance (not including diagonal) = 46.4327470649756\n"
     ]
    },
    {
     "data": {
      "application/vnd.jupyter.widget-view+json": {
       "model_id": "541f1855fba5438db51be99ed721b4f3",
       "version_major": 2,
       "version_minor": 0
      },
      "text/plain": [
       "HBox(children=(FloatProgress(value=1.0, bar_style='info', max=1.0), HTML(value='')))"
      ]
     },
     "metadata": {},
     "output_type": "display_data"
    },
    {
     "name": "stdout",
     "output_type": "stream",
     "text": [
      "\n",
      "filtered_measurements = [ 95.03082454  93.16583413  98.73689561  91.21603292 112.89491061\n",
      " 126.2416346  137.21838878  91.9745611  103.70104923  95.07241114\n",
      "  95.12231475 117.66513957 110.37189629  71.07364688 115.49942431]\n",
      "new_threshold = 256.4005561689402\n"
     ]
    },
    {
     "data": {
      "application/vnd.jupyter.widget-view+json": {
       "model_id": "8523e07605e749609473c676717ab3e9",
       "version_major": 2,
       "version_minor": 0
      },
      "text/plain": [
       "HBox(children=(FloatProgress(value=1.0, bar_style='info', max=1.0), HTML(value='')))"
      ]
     },
     "metadata": {},
     "output_type": "display_data"
    },
    {
     "name": "stdout",
     "output_type": "stream",
     "text": [
      "\n",
      "The smallest distance (not including diagonal) = 188.36698224479343\n"
     ]
    },
    {
     "data": {
      "application/vnd.jupyter.widget-view+json": {
       "model_id": "3f461b9be23346f6a7c84fa7255656a3",
       "version_major": 2,
       "version_minor": 0
      },
      "text/plain": [
       "HBox(children=(FloatProgress(value=1.0, bar_style='info', max=1.0), HTML(value='')))"
      ]
     },
     "metadata": {},
     "output_type": "display_data"
    },
    {
     "name": "stdout",
     "output_type": "stream",
     "text": [
      "--> Not exactly one containing mesh: []\n",
      "\n",
      "filtered_measurements = [259.90961233 224.67730298 390.53004344 257.12569681 272.42792182\n",
      " 290.82148208 213.7165648  246.74408024 286.80512602 238.20479598\n",
      " 162.92708947 310.14543517 293.93278083]\n",
      "new_threshold = 785.0818641664846\n"
     ]
    },
    {
     "data": {
      "application/vnd.jupyter.widget-view+json": {
       "model_id": "f5b16f4604024531b59193a46014ad46",
       "version_major": 2,
       "version_minor": 0
      },
      "text/plain": [
       "HBox(children=(FloatProgress(value=1.0, bar_style='info', max=1.0), HTML(value='')))"
      ]
     },
     "metadata": {},
     "output_type": "display_data"
    },
    {
     "name": "stdout",
     "output_type": "stream",
     "text": [
      "--> Not exactly one containing mesh: []\n",
      "\n",
      "The smallest distance (not including diagonal) = 341.11581610942636\n"
     ]
    },
    {
     "data": {
      "application/vnd.jupyter.widget-view+json": {
       "model_id": "ae9d941c9aaa48bcaf3b763541f81700",
       "version_major": 2,
       "version_minor": 0
      },
      "text/plain": [
       "HBox(children=(FloatProgress(value=1.0, bar_style='info', max=1.0), HTML(value='')))"
      ]
     },
     "metadata": {},
     "output_type": "display_data"
    },
    {
     "name": "stdout",
     "output_type": "stream",
     "text": [
      "\n",
      "filtered_measurements = [888.59622193]\n",
      "new_threshold = 1903.2997144105748\n"
     ]
    },
    {
     "data": {
      "application/vnd.jupyter.widget-view+json": {
       "model_id": "cc96115c8c7849ea943b42bd031ad26f",
       "version_major": 2,
       "version_minor": 0
      },
      "text/plain": [
       "HBox(children=(FloatProgress(value=1.0, bar_style='info', max=1.0), HTML(value='')))"
      ]
     },
     "metadata": {},
     "output_type": "display_data"
    },
    {
     "name": "stdout",
     "output_type": "stream",
     "text": [
      "\n",
      "\n",
      "Working on limb #8\n",
      "The smallest distance (not including diagonal) = 15.905973720586866\n",
      "The smallest distance (not including diagonal) = 15.905973720586866\n",
      "The smallest distance (not including diagonal) = 63.40346993658943\n",
      "The smallest distance (not including diagonal) = 50.75431016179808\n",
      "The smallest distance (not including diagonal) = 167.8953245329219\n",
      "The smallest distance (not including diagonal) = 66.10597552415364\n",
      "The smallest distance (not including diagonal) = 36.373066958946424\n",
      "The smallest distance (not including diagonal) = 113.65478432521085\n",
      "The smallest distance (not including diagonal) = 626.7734838041571\n",
      "The smallest distance (not including diagonal) = 62.05578135836234\n",
      "The smallest distance (not including diagonal) = 183.6872341780996\n",
      "The smallest distance (not including diagonal) = 452.0544215025845\n"
     ]
    },
    {
     "data": {
      "application/vnd.jupyter.widget-view+json": {
       "model_id": "6ff888d1040c4ffe82fdb968d943d0a0",
       "version_major": 2,
       "version_minor": 0
      },
      "text/plain": [
       "HBox(children=(FloatProgress(value=1.0, bar_style='info', max=1.0), HTML(value='')))"
      ]
     },
     "metadata": {},
     "output_type": "display_data"
    },
    {
     "name": "stdout",
     "output_type": "stream",
     "text": [
      "The smallest distance (not including diagonal) = 15.905973720586866\n"
     ]
    },
    {
     "data": {
      "application/vnd.jupyter.widget-view+json": {
       "model_id": "510f0f2dfba04af2ab6fe82d55867171",
       "version_major": 2,
       "version_minor": 0
      },
      "text/plain": [
       "HBox(children=(FloatProgress(value=1.0, bar_style='info', max=1.0), HTML(value='')))"
      ]
     },
     "metadata": {},
     "output_type": "display_data"
    },
    {
     "name": "stdout",
     "output_type": "stream",
     "text": [
      "\n",
      "filtered_measurements = [166.6752502  161.0174039  161.27412592 198.32259805 148.80565655\n",
      " 105.23289237 151.96350604 146.55169398  98.68890468 129.74199884\n",
      " 121.87214711 197.35201775 177.26555741  83.30504866  71.75894644\n",
      "  68.97898436  68.44545183 128.9839706   93.85307271  94.74380375\n",
      " 134.95846924 173.37199537]\n",
      "new_threshold = 476.83720427183925\n"
     ]
    },
    {
     "data": {
      "application/vnd.jupyter.widget-view+json": {
       "model_id": "75670c9778a944b1bb90be009988cc8b",
       "version_major": 2,
       "version_minor": 0
      },
      "text/plain": [
       "HBox(children=(FloatProgress(value=1.0, bar_style='info', max=1.0), HTML(value='')))"
      ]
     },
     "metadata": {},
     "output_type": "display_data"
    },
    {
     "name": "stdout",
     "output_type": "stream",
     "text": [
      "\n",
      "The smallest distance (not including diagonal) = 63.40346993658943\n"
     ]
    },
    {
     "data": {
      "application/vnd.jupyter.widget-view+json": {
       "model_id": "86fa82c5d07f41869e9f853ec877695e",
       "version_major": 2,
       "version_minor": 0
      },
      "text/plain": [
       "HBox(children=(FloatProgress(value=1.0, bar_style='info', max=1.0), HTML(value='')))"
      ]
     },
     "metadata": {},
     "output_type": "display_data"
    },
    {
     "name": "stdout",
     "output_type": "stream",
     "text": [
      "\n",
      "filtered_measurements = [140.87653754 157.47176366  64.35755401  83.24985879 131.19817051\n",
      " 106.24219856 119.47063998 117.37056831 109.86345659]\n",
      "new_threshold = 391.4823653017422\n"
     ]
    },
    {
     "data": {
      "application/vnd.jupyter.widget-view+json": {
       "model_id": "f80b06d731414882b7024ee709069969",
       "version_major": 2,
       "version_minor": 0
      },
      "text/plain": [
       "HBox(children=(FloatProgress(value=1.0, bar_style='info', max=1.0), HTML(value='')))"
      ]
     },
     "metadata": {},
     "output_type": "display_data"
    },
    {
     "name": "stdout",
     "output_type": "stream",
     "text": [
      "\n",
      "The smallest distance (not including diagonal) = 50.75431016179808\n"
     ]
    },
    {
     "data": {
      "application/vnd.jupyter.widget-view+json": {
       "model_id": "fc2aa8e8103a4411978cdcba022f547d",
       "version_major": 2,
       "version_minor": 0
      },
      "text/plain": [
       "HBox(children=(FloatProgress(value=1.0, bar_style='info', max=1.0), HTML(value='')))"
      ]
     },
     "metadata": {},
     "output_type": "display_data"
    },
    {
     "name": "stdout",
     "output_type": "stream",
     "text": [
      "\n",
      "filtered_measurements = [82.77331493 96.67857968 69.67711953 52.50384969 59.66384197]\n",
      "new_threshold = 181.379947987014\n"
     ]
    },
    {
     "data": {
      "application/vnd.jupyter.widget-view+json": {
       "model_id": "cb33e89c03724ab6919770bbce576a56",
       "version_major": 2,
       "version_minor": 0
      },
      "text/plain": [
       "HBox(children=(FloatProgress(value=1.0, bar_style='info', max=1.0), HTML(value='')))"
      ]
     },
     "metadata": {},
     "output_type": "display_data"
    },
    {
     "name": "stdout",
     "output_type": "stream",
     "text": [
      "\n",
      "The smallest distance (not including diagonal) = 167.8953245329219\n"
     ]
    },
    {
     "data": {
      "application/vnd.jupyter.widget-view+json": {
       "model_id": "17e8aa8beec94347a3c62401c1b0b239",
       "version_major": 2,
       "version_minor": 0
      },
      "text/plain": [
       "HBox(children=(FloatProgress(value=1.0, bar_style='info', max=1.0), HTML(value='')))"
      ]
     },
     "metadata": {},
     "output_type": "display_data"
    },
    {
     "name": "stdout",
     "output_type": "stream",
     "text": [
      "\n",
      "filtered_measurements = [212.97440201 177.48321013 211.4190576  328.09699767 179.22704275\n",
      " 196.22035556 277.16539439 254.02966627 365.60020015 192.47967658\n",
      " 304.93809779]\n",
      "new_threshold = 889.0716744238968\n"
     ]
    },
    {
     "data": {
      "application/vnd.jupyter.widget-view+json": {
       "model_id": "0f9578f160404ddaaea0a6403f839cec",
       "version_major": 2,
       "version_minor": 0
      },
      "text/plain": [
       "HBox(children=(FloatProgress(value=1.0, bar_style='info', max=1.0), HTML(value='')))"
      ]
     },
     "metadata": {},
     "output_type": "display_data"
    },
    {
     "name": "stdout",
     "output_type": "stream",
     "text": [
      "\n",
      "The smallest distance (not including diagonal) = 66.10597552415364\n"
     ]
    },
    {
     "data": {
      "application/vnd.jupyter.widget-view+json": {
       "model_id": "03cb6bd9bd074c5e95864582236c7284",
       "version_major": 2,
       "version_minor": 0
      },
      "text/plain": [
       "HBox(children=(FloatProgress(value=1.0, bar_style='info', max=1.0), HTML(value='')))"
      ]
     },
     "metadata": {},
     "output_type": "display_data"
    },
    {
     "name": "stdout",
     "output_type": "stream",
     "text": [
      "\n",
      "filtered_measurements = [350.42020384 411.53983555 165.70966094 203.90394307 263.53464671\n",
      " 289.82760383 117.55498854 339.73545661 179.1648967  224.04414779\n",
      " 171.67553432 323.12479957 366.70862217 238.58330816 304.57879669\n",
      " 351.89249701 218.7106152  300.58270001 276.81241096 320.63048166\n",
      " 195.98319016 125.5012138  149.16259705 381.68144546 378.93068802\n",
      " 434.57460427 376.71863136 400.98533967 367.60824673 362.3672185\n",
      " 297.89470996 421.72780765 262.54890478 174.80997534 204.16919556\n",
      " 281.72112055 269.72089875 228.99486022 287.79960545 191.84430167\n",
      " 299.33115107 433.43726476 417.22847542 363.56476236 346.09850698\n",
      " 351.24901976 303.85214537 288.50918352 199.06500056 217.75869006\n",
      " 349.5769548  445.49285184 321.67530136 265.52273988 425.51956734\n",
      " 259.45616601 360.61777777 134.85988104 201.32581756 306.26246697\n",
      " 281.03619342 286.42215884 296.3112891  288.09135475 267.11411769\n",
      " 341.17938127 245.53416075 197.16111368 296.38905316 329.86140117\n",
      " 319.74132332]\n",
      "new_threshold = 1116.8262313539885\n"
     ]
    },
    {
     "data": {
      "application/vnd.jupyter.widget-view+json": {
       "model_id": "471bcfa6beac4af0b1107ff505824f3b",
       "version_major": 2,
       "version_minor": 0
      },
      "text/plain": [
       "HBox(children=(FloatProgress(value=1.0, bar_style='info', max=1.0), HTML(value='')))"
      ]
     },
     "metadata": {},
     "output_type": "display_data"
    },
    {
     "name": "stdout",
     "output_type": "stream",
     "text": [
      "\n",
      "The smallest distance (not including diagonal) = 36.373066958946424\n"
     ]
    },
    {
     "data": {
      "application/vnd.jupyter.widget-view+json": {
       "model_id": "0089614f1aa74f2c86524603f6bfbd0d",
       "version_major": 2,
       "version_minor": 0
      },
      "text/plain": [
       "HBox(children=(FloatProgress(value=1.0, bar_style='info', max=1.0), HTML(value='')))"
      ]
     },
     "metadata": {},
     "output_type": "display_data"
    },
    {
     "name": "stdout",
     "output_type": "stream",
     "text": [
      "--> Not exactly one containing mesh: []\n",
      "\n",
      "filtered_measurements = [387.54757805 242.48135865 186.4848096  209.19325374 374.96582972\n",
      " 208.7469469  176.27669987 182.71421531 270.6313545  260.77818364\n",
      " 349.75316306 293.52263195 247.07945719 216.82183422 165.60475826\n",
      " 149.66328435 342.27575698 208.05235815 158.32769026 275.89204905\n",
      " 162.0230528  363.97425641 281.55390341 339.59342042 323.51224713\n",
      " 221.49780572 216.68075836 167.93156577 257.27803947 273.66447756\n",
      " 307.82646317 248.80029757 238.24930918 162.63460103 186.22500077\n",
      " 254.55274856 313.39586067 200.406358   201.56925792 248.93120028\n",
      " 319.90622019 390.99477845 148.59090842 224.49213453]\n",
      "new_threshold = 1011.5644010290855\n"
     ]
    },
    {
     "data": {
      "application/vnd.jupyter.widget-view+json": {
       "model_id": "4c7082cb9b7f455fb79b38f168642efb",
       "version_major": 2,
       "version_minor": 0
      },
      "text/plain": [
       "HBox(children=(FloatProgress(value=1.0, bar_style='info', max=1.0), HTML(value='')))"
      ]
     },
     "metadata": {},
     "output_type": "display_data"
    },
    {
     "name": "stdout",
     "output_type": "stream",
     "text": [
      "--> Not exactly one containing mesh: []\n",
      "\n",
      "The smallest distance (not including diagonal) = 113.65478432521085\n"
     ]
    },
    {
     "data": {
      "application/vnd.jupyter.widget-view+json": {
       "model_id": "7541e6a3426d46e085186429d7bb8374",
       "version_major": 2,
       "version_minor": 0
      },
      "text/plain": [
       "HBox(children=(FloatProgress(value=1.0, bar_style='info', max=1.0), HTML(value='')))"
      ]
     },
     "metadata": {},
     "output_type": "display_data"
    },
    {
     "name": "stdout",
     "output_type": "stream",
     "text": [
      "--> Not exactly one containing mesh: [0 2]\n",
      "\n",
      "filtered_measurements = [ 91.32262415  62.6901948   97.0505674  109.6042362  102.86996362\n",
      "  70.03498106  68.6912664 ]\n",
      "new_threshold = 218.30556420197422\n"
     ]
    },
    {
     "data": {
      "application/vnd.jupyter.widget-view+json": {
       "model_id": "3a06229204264caca27e6007e593af0f",
       "version_major": 2,
       "version_minor": 0
      },
      "text/plain": [
       "HBox(children=(FloatProgress(value=1.0, bar_style='info', max=1.0), HTML(value='')))"
      ]
     },
     "metadata": {},
     "output_type": "display_data"
    },
    {
     "name": "stdout",
     "output_type": "stream",
     "text": [
      "--> Not exactly one containing mesh: []\n",
      "\n",
      "branch_touching_number = [10]\n",
      "branch_touching_number = [10, 2]\n",
      "most_branch_containing_piece = 0\n",
      "The smallest distance (not including diagonal) = 626.7734838041571\n"
     ]
    },
    {
     "data": {
      "application/vnd.jupyter.widget-view+json": {
       "model_id": "32d2ce0446c547cca70aafca53ff45ed",
       "version_major": 2,
       "version_minor": 0
      },
      "text/plain": [
       "HBox(children=(FloatProgress(value=1.0, bar_style='info', max=1.0), HTML(value='')))"
      ]
     },
     "metadata": {},
     "output_type": "display_data"
    },
    {
     "name": "stdout",
     "output_type": "stream",
     "text": [
      "\n",
      "filtered_measurements = [389.32518476 382.25026601]\n",
      "new_threshold = 827.8944920628148\n"
     ]
    },
    {
     "data": {
      "application/vnd.jupyter.widget-view+json": {
       "model_id": "40cc42c0e0b9414a84ec394fca8b3004",
       "version_major": 2,
       "version_minor": 0
      },
      "text/plain": [
       "HBox(children=(FloatProgress(value=1.0, bar_style='info', max=1.0), HTML(value='')))"
      ]
     },
     "metadata": {},
     "output_type": "display_data"
    },
    {
     "name": "stdout",
     "output_type": "stream",
     "text": [
      "\n",
      "The smallest distance (not including diagonal) = 62.05578135836234\n"
     ]
    },
    {
     "data": {
      "application/vnd.jupyter.widget-view+json": {
       "model_id": "d10210e5ea7f40f2bd19c616e5dc930b",
       "version_major": 2,
       "version_minor": 0
      },
      "text/plain": [
       "HBox(children=(FloatProgress(value=1.0, bar_style='info', max=1.0), HTML(value='')))"
      ]
     },
     "metadata": {},
     "output_type": "display_data"
    },
    {
     "name": "stdout",
     "output_type": "stream",
     "text": [
      "--> Not exactly one containing mesh: []\n",
      "\n",
      "filtered_measurements = [140.80761246 205.28624636 193.45508141 131.82342577 241.18648748]\n",
      "new_threshold = 489.518356115385\n"
     ]
    },
    {
     "data": {
      "application/vnd.jupyter.widget-view+json": {
       "model_id": "c07f2e4c26fa481586ebc8c1b289403d",
       "version_major": 2,
       "version_minor": 0
      },
      "text/plain": [
       "HBox(children=(FloatProgress(value=1.0, bar_style='info', max=1.0), HTML(value='')))"
      ]
     },
     "metadata": {},
     "output_type": "display_data"
    },
    {
     "name": "stdout",
     "output_type": "stream",
     "text": [
      "--> Not exactly one containing mesh: []\n",
      "\n",
      "The smallest distance (not including diagonal) = 183.6872341780996\n"
     ]
    },
    {
     "data": {
      "application/vnd.jupyter.widget-view+json": {
       "model_id": "9392a48bcaf141bba157288c5f342e4e",
       "version_major": 2,
       "version_minor": 0
      },
      "text/plain": [
       "HBox(children=(FloatProgress(value=1.0, bar_style='info', max=1.0), HTML(value='')))"
      ]
     },
     "metadata": {},
     "output_type": "display_data"
    },
    {
     "name": "stdout",
     "output_type": "stream",
     "text": [
      "\n",
      "filtered_measurements = [371.81065772 292.64011475 313.58463141 544.24896278 570.42905613\n",
      " 450.87257423 313.93678625 340.87427337 335.04420147 485.89785522\n",
      " 350.85229754 349.31868005 344.23604441 353.36933876 482.34223501\n",
      " 526.62109513 582.05124303 537.44608218 383.39594761 442.03919477\n",
      " 415.48361598]\n",
      "new_threshold = 1151.0673164059292\n"
     ]
    },
    {
     "data": {
      "application/vnd.jupyter.widget-view+json": {
       "model_id": "051eae62de5e4c5b8b6ed9517ceef993",
       "version_major": 2,
       "version_minor": 0
      },
      "text/plain": [
       "HBox(children=(FloatProgress(value=1.0, bar_style='info', max=1.0), HTML(value='')))"
      ]
     },
     "metadata": {},
     "output_type": "display_data"
    },
    {
     "name": "stdout",
     "output_type": "stream",
     "text": [
      "\n",
      "The smallest distance (not including diagonal) = 452.0544215025845\n"
     ]
    },
    {
     "data": {
      "application/vnd.jupyter.widget-view+json": {
       "model_id": "ead37a47117c4e9585b704b93134b5ed",
       "version_major": 2,
       "version_minor": 0
      },
      "text/plain": [
       "HBox(children=(FloatProgress(value=1.0, bar_style='info', max=1.0), HTML(value='')))"
      ]
     },
     "metadata": {},
     "output_type": "display_data"
    },
    {
     "name": "stdout",
     "output_type": "stream",
     "text": [
      "\n",
      "filtered_measurements = [1073.81081591]\n",
      "new_threshold = 2685.888104545814\n"
     ]
    },
    {
     "data": {
      "application/vnd.jupyter.widget-view+json": {
       "model_id": "837cc349de254a2ea82e2b7263356d7b",
       "version_major": 2,
       "version_minor": 0
      },
      "text/plain": [
       "HBox(children=(FloatProgress(value=1.0, bar_style='info', max=1.0), HTML(value='')))"
      ]
     },
     "metadata": {},
     "output_type": "display_data"
    },
    {
     "name": "stdout",
     "output_type": "stream",
     "text": [
      "\n",
      "\n",
      "Working on limb #9\n",
      "The smallest distance (not including diagonal) = 33.76388603226827\n",
      "The smallest distance (not including diagonal) = 33.76388603226827\n",
      "The smallest distance (not including diagonal) = 99.5238664843765\n",
      "The smallest distance (not including diagonal) = 137.93114224133723\n",
      "The smallest distance (not including diagonal) = 61.84658438426491\n",
      "The smallest distance (not including diagonal) = 82.61355820929153\n"
     ]
    },
    {
     "data": {
      "application/vnd.jupyter.widget-view+json": {
       "model_id": "054448515ab34c63a60f52876a67ad7f",
       "version_major": 2,
       "version_minor": 0
      },
      "text/plain": [
       "HBox(children=(FloatProgress(value=1.0, bar_style='info', max=1.0), HTML(value='')))"
      ]
     },
     "metadata": {},
     "output_type": "display_data"
    },
    {
     "name": "stdout",
     "output_type": "stream",
     "text": [
      "The smallest distance (not including diagonal) = 33.76388603226827\n"
     ]
    },
    {
     "data": {
      "application/vnd.jupyter.widget-view+json": {
       "model_id": "1ed3780c7cae43fdbfdb76036a652a30",
       "version_major": 2,
       "version_minor": 0
      },
      "text/plain": [
       "HBox(children=(FloatProgress(value=1.0, bar_style='info', max=1.0), HTML(value='')))"
      ]
     },
     "metadata": {},
     "output_type": "display_data"
    },
    {
     "name": "stdout",
     "output_type": "stream",
     "text": [
      "\n",
      "filtered_measurements = [ 61.28622461 109.67015876  96.0025128  105.59683022 104.59993242\n",
      "  84.31441068 101.71634216  62.24631303  75.22173004  85.1775673\n",
      " 105.72499829  93.86668675  71.86296128  88.5234774   99.43088854\n",
      "  93.02190508]\n",
      "new_threshold = 217.01080139890058\n"
     ]
    },
    {
     "data": {
      "application/vnd.jupyter.widget-view+json": {
       "model_id": "5cfbb6f9f9b4482a9c6b3ae16c4a3efa",
       "version_major": 2,
       "version_minor": 0
      },
      "text/plain": [
       "HBox(children=(FloatProgress(value=1.0, bar_style='info', max=1.0), HTML(value='')))"
      ]
     },
     "metadata": {},
     "output_type": "display_data"
    },
    {
     "name": "stderr",
     "output_type": "stream",
     "text": [
      "No adjacent faces detected! Did you merge vertices?\n"
     ]
    },
    {
     "name": "stdout",
     "output_type": "stream",
     "text": [
      "list was only one so surrounding them with list\n",
      "--> Not exactly one containing mesh: []\n",
      "\n",
      "The smallest distance (not including diagonal) = 99.5238664843765\n"
     ]
    },
    {
     "data": {
      "application/vnd.jupyter.widget-view+json": {
       "model_id": "5d27f190d2ff4ea387018f43288ff9c2",
       "version_major": 2,
       "version_minor": 0
      },
      "text/plain": [
       "HBox(children=(FloatProgress(value=1.0, bar_style='info', max=1.0), HTML(value='')))"
      ]
     },
     "metadata": {},
     "output_type": "display_data"
    },
    {
     "name": "stdout",
     "output_type": "stream",
     "text": [
      "\n",
      "filtered_measurements = [375.82031262 367.92482775 342.88617023 345.05785869 335.32042484\n",
      " 315.20236012 291.24872966 263.50140543 271.07223277 279.76308374\n",
      " 301.04535161 290.86999555 266.96354652 236.30237537 249.35290406\n",
      " 221.29429036 212.77951458 251.90072668 234.24241446 195.65176084\n",
      " 162.58540437 191.21129159 174.4349423  170.59522925 118.23597093\n",
      " 153.45442381 162.34078548 229.84314912 285.35009107 192.23183459\n",
      " 144.24496779 170.69372986 258.97158148]\n",
      "new_threshold = 559.1203075923486\n"
     ]
    },
    {
     "data": {
      "application/vnd.jupyter.widget-view+json": {
       "model_id": "ad3e323aa9da4aefb69688c7dc41b1d4",
       "version_major": 2,
       "version_minor": 0
      },
      "text/plain": [
       "HBox(children=(FloatProgress(value=1.0, bar_style='info', max=1.0), HTML(value='')))"
      ]
     },
     "metadata": {},
     "output_type": "display_data"
    },
    {
     "name": "stdout",
     "output_type": "stream",
     "text": [
      "\n",
      "The smallest distance (not including diagonal) = 137.93114224133723\n"
     ]
    },
    {
     "data": {
      "application/vnd.jupyter.widget-view+json": {
       "model_id": "3b2ab444a01a47769a4f27eb77c30238",
       "version_major": 2,
       "version_minor": 0
      },
      "text/plain": [
       "HBox(children=(FloatProgress(value=1.0, bar_style='info', max=1.0), HTML(value='')))"
      ]
     },
     "metadata": {},
     "output_type": "display_data"
    },
    {
     "name": "stdout",
     "output_type": "stream",
     "text": [
      "\n",
      "filtered_measurements = [200.58260605 136.08815835 146.3974825  164.68267028 169.89773259\n",
      " 174.31910319 221.3517393  215.71027192 142.9695081  125.62383682\n",
      " 155.06801183]\n",
      "new_threshold = 361.7158794198167\n"
     ]
    },
    {
     "data": {
      "application/vnd.jupyter.widget-view+json": {
       "model_id": "0721e4573bf049c488d52b93e12f0f3c",
       "version_major": 2,
       "version_minor": 0
      },
      "text/plain": [
       "HBox(children=(FloatProgress(value=1.0, bar_style='info', max=1.0), HTML(value='')))"
      ]
     },
     "metadata": {},
     "output_type": "display_data"
    },
    {
     "name": "stdout",
     "output_type": "stream",
     "text": [
      "--> Not exactly one containing mesh: []\n",
      "--> Not exactly one containing mesh: []\n",
      "\n",
      "branch_touching_number = [11]\n",
      "branch_touching_number = [11, 6]\n",
      "most_branch_containing_piece = 0\n",
      "The smallest distance (not including diagonal) = 61.84658438426491\n"
     ]
    },
    {
     "data": {
      "application/vnd.jupyter.widget-view+json": {
       "model_id": "6abf91d6c2ff4294ae2d005df05b877c",
       "version_major": 2,
       "version_minor": 0
      },
      "text/plain": [
       "HBox(children=(FloatProgress(value=1.0, bar_style='info', max=1.0), HTML(value='')))"
      ]
     },
     "metadata": {},
     "output_type": "display_data"
    },
    {
     "name": "stdout",
     "output_type": "stream",
     "text": [
      "\n",
      "filtered_measurements = [106.90809187 125.37016216 116.17810322 137.78116115 154.74840479\n",
      " 156.04941197 199.9202411  137.40794546]\n",
      "new_threshold = 312.0740042909906\n"
     ]
    },
    {
     "data": {
      "application/vnd.jupyter.widget-view+json": {
       "model_id": "3e802437ed484b139dee1b28fc7ecfcd",
       "version_major": 2,
       "version_minor": 0
      },
      "text/plain": [
       "HBox(children=(FloatProgress(value=1.0, bar_style='info', max=1.0), HTML(value='')))"
      ]
     },
     "metadata": {},
     "output_type": "display_data"
    },
    {
     "name": "stdout",
     "output_type": "stream",
     "text": [
      "--> Not exactly one containing mesh: []\n",
      "--> Not exactly one containing mesh: []\n",
      "\n",
      "branch_touching_number = [9]\n",
      "branch_touching_number = [9, 4]\n",
      "most_branch_containing_piece = 0\n",
      "The smallest distance (not including diagonal) = 82.61355820929153\n"
     ]
    },
    {
     "data": {
      "application/vnd.jupyter.widget-view+json": {
       "model_id": "19157a0a81b14d898ead461343905c20",
       "version_major": 2,
       "version_minor": 0
      },
      "text/plain": [
       "HBox(children=(FloatProgress(value=1.0, bar_style='info', max=1.0), HTML(value='')))"
      ]
     },
     "metadata": {},
     "output_type": "display_data"
    },
    {
     "name": "stdout",
     "output_type": "stream",
     "text": [
      "--> Not exactly one containing mesh: []\n",
      "\n",
      "filtered_measurements = [172.07246826 118.1972902  105.65668028  72.5373518   89.86004618\n",
      " 169.26734709 122.5989818  153.16978602]\n",
      "new_threshold = 308.8056550168201\n"
     ]
    },
    {
     "data": {
      "application/vnd.jupyter.widget-view+json": {
       "model_id": "765c7bc180d74fe08939fa41c181decd",
       "version_major": 2,
       "version_minor": 0
      },
      "text/plain": [
       "HBox(children=(FloatProgress(value=1.0, bar_style='info', max=1.0), HTML(value='')))"
      ]
     },
     "metadata": {},
     "output_type": "display_data"
    },
    {
     "name": "stdout",
     "output_type": "stream",
     "text": [
      "--> Not exactly one containing mesh: []\n",
      "--> Not exactly one containing mesh: []\n",
      "\n",
      "\n",
      "Working on limb #10\n",
      "The smallest distance (not including diagonal) = 169.30897790722446\n",
      "The smallest distance (not including diagonal) = 169.30897790722446\n"
     ]
    },
    {
     "data": {
      "application/vnd.jupyter.widget-view+json": {
       "model_id": "43449acb83da49e1872c57797ed09a71",
       "version_major": 2,
       "version_minor": 0
      },
      "text/plain": [
       "HBox(children=(FloatProgress(value=1.0, bar_style='info', max=1.0), HTML(value='')))"
      ]
     },
     "metadata": {},
     "output_type": "display_data"
    },
    {
     "name": "stdout",
     "output_type": "stream",
     "text": [
      "The smallest distance (not including diagonal) = 169.30897790722446\n"
     ]
    },
    {
     "data": {
      "application/vnd.jupyter.widget-view+json": {
       "model_id": "2a1040bacd55496e9b3ef2684f9248d6",
       "version_major": 2,
       "version_minor": 0
      },
      "text/plain": [
       "HBox(children=(FloatProgress(value=1.0, bar_style='info', max=1.0), HTML(value='')))"
      ]
     },
     "metadata": {},
     "output_type": "display_data"
    },
    {
     "name": "stdout",
     "output_type": "stream",
     "text": [
      "\n",
      "filtered_measurements = [582.72234933 576.79044432 516.94520487 489.18607917 480.09977035\n",
      " 436.75142949 405.66356557 400.58113311 360.73158641]\n",
      "new_threshold = 824.6912918888244\n"
     ]
    },
    {
     "data": {
      "application/vnd.jupyter.widget-view+json": {
       "model_id": "2066280d4e654729a2c949270c1987bc",
       "version_major": 2,
       "version_minor": 0
      },
      "text/plain": [
       "HBox(children=(FloatProgress(value=1.0, bar_style='info', max=1.0), HTML(value='')))"
      ]
     },
     "metadata": {},
     "output_type": "display_data"
    },
    {
     "name": "stdout",
     "output_type": "stream",
     "text": [
      "\n",
      "\n",
      "Total time = 173.8474781513214\n"
     ]
    }
   ],
   "source": [
    "sk = reload(sk)\n",
    "tu = reload(tu)\n",
    "cu = reload(cu)\n",
    "from tqdm.notebook import tqdm\n",
    "import time\n",
    "import itertools\n",
    "\n",
    "start_time = time.time()\n",
    "\n",
    "limb_correspondence = dict()\n",
    "soma_containing_idx= 0\n",
    "\n",
    "total_branch_meshes = []\n",
    "total_branch_skeletons = []\n",
    "\n",
    "empty_submeshes = []\n",
    "for soma_containing_idx in current_mesh_data.keys():\n",
    "    for limb_idx,curr_limb_mesh in enumerate(current_mesh_data[soma_containing_idx][\"branch_meshes\"]):\n",
    "        print(f\"Working on limb #{limb_idx}\")\n",
    "        limb_correspondence[limb_idx] = dict()\n",
    "        curr_limb_sk = current_mesh_data[soma_containing_idx][\"branch_skeletons_cleaned\"][limb_idx]\n",
    "        curr_limb_branches_sk_uneven = sk.decompose_skeleton_to_branches(curr_limb_sk) #the line that is decomposing to branches\n",
    "        \n",
    "        for j,curr_branch_sk in tqdm(enumerate(curr_limb_branches_sk_uneven)):\n",
    "            limb_correspondence[limb_idx][j] = dict()\n",
    "            \n",
    "            \n",
    "            curr_branch_face_correspondence, width_from_skeleton = cu.mesh_correspondence_adaptive_distance(curr_branch_sk,\n",
    "                                          curr_limb_mesh,\n",
    "                                         skeleton_segment_width = 1000)\n",
    "            \n",
    "            \n",
    "            \n",
    "            if len(curr_branch_face_correspondence) > 0:\n",
    "                curr_submesh = curr_limb_mesh.submesh([list(curr_branch_face_correspondence)],append=True)\n",
    "            else:\n",
    "                curr_submesh = trimesh.Trimesh(vertices=np.array([]),faces=np.array([]))\n",
    "                \n",
    "            limb_correspondence[limb_idx][j][\"branch_skeleton\"] = curr_branch_sk\n",
    "            limb_correspondence[limb_idx][j][\"correspondence_mesh\"] = curr_submesh\n",
    "            limb_correspondence[limb_idx][j][\"correspondence_face_idx\"] = curr_branch_face_correspondence\n",
    "            limb_correspondence[limb_idx][j][\"width_from_skeleton\"] = width_from_skeleton\n",
    "            \n",
    "            total_branch_meshes.append(curr_submesh)\n",
    "            total_branch_skeletons.append(curr_branch_sk)\n",
    "            \n",
    "            if len(curr_submesh.faces) == 0:\n",
    "                empty_submeshes.append(dict(limb_idx=limb_idx,branch_number=j))\n",
    "            \n",
    "            \n",
    "print(f\"Total time = {time.time() - start_time}\")"
   ]
  },
  {
   "cell_type": "code",
   "execution_count": 42,
   "metadata": {},
   "outputs": [
    {
     "name": "stdout",
     "output_type": "stream",
     "text": [
      "\n",
      "---- checking limb 0---\n",
      "Limb 0 decomposed into 79 branches\n",
      "divided_skeleton_graph_recovered = (4042, 2, 3) and \n",
      "current_mesh_data[0]['branch_skeletons_cleaned'].shape = (4042, 2, 3)\n",
      "\n",
      "Number of connected components in deocmposed recovered graph = 1\n",
      "Number of connected components in cleaned skeleton graph= 1\n",
      "The downsampled branches number of connected components = 1\n",
      "\n",
      "---- checking limb 1---\n",
      "Limb 1 decomposed into 47 branches\n",
      "divided_skeleton_graph_recovered = (2903, 2, 3) and \n",
      "current_mesh_data[0]['branch_skeletons_cleaned'].shape = (2903, 2, 3)\n",
      "\n",
      "Number of connected components in deocmposed recovered graph = 1\n",
      "Number of connected components in cleaned skeleton graph= 1\n",
      "The downsampled branches number of connected components = 1\n",
      "\n",
      "---- checking limb 2---\n",
      "Limb 2 decomposed into 51 branches\n",
      "divided_skeleton_graph_recovered = (1971, 2, 3) and \n",
      "current_mesh_data[0]['branch_skeletons_cleaned'].shape = (1971, 2, 3)\n",
      "\n",
      "Number of connected components in deocmposed recovered graph = 1\n",
      "Number of connected components in cleaned skeleton graph= 1\n",
      "The downsampled branches number of connected components = 1\n",
      "\n",
      "---- checking limb 3---\n",
      "Limb 3 decomposed into 39 branches\n",
      "divided_skeleton_graph_recovered = (1868, 2, 3) and \n",
      "current_mesh_data[0]['branch_skeletons_cleaned'].shape = (1868, 2, 3)\n",
      "\n",
      "Number of connected components in deocmposed recovered graph = 1\n",
      "Number of connected components in cleaned skeleton graph= 1\n",
      "The downsampled branches number of connected components = 1\n",
      "\n",
      "---- checking limb 4---\n",
      "Limb 4 decomposed into 37 branches\n",
      "divided_skeleton_graph_recovered = (2220, 2, 3) and \n",
      "current_mesh_data[0]['branch_skeletons_cleaned'].shape = (2220, 2, 3)\n",
      "\n",
      "Number of connected components in deocmposed recovered graph = 1\n",
      "Number of connected components in cleaned skeleton graph= 1\n",
      "The downsampled branches number of connected components = 1\n",
      "\n",
      "---- checking limb 5---\n",
      "Limb 5 decomposed into 9 branches\n",
      "divided_skeleton_graph_recovered = (1096, 2, 3) and \n",
      "current_mesh_data[0]['branch_skeletons_cleaned'].shape = (1096, 2, 3)\n",
      "\n",
      "Number of connected components in deocmposed recovered graph = 1\n",
      "Number of connected components in cleaned skeleton graph= 1\n",
      "The downsampled branches number of connected components = 1\n",
      "\n",
      "---- checking limb 6---\n",
      "Limb 6 decomposed into 19 branches\n",
      "divided_skeleton_graph_recovered = (1049, 2, 3) and \n",
      "current_mesh_data[0]['branch_skeletons_cleaned'].shape = (1049, 2, 3)\n",
      "\n",
      "Number of connected components in deocmposed recovered graph = 1\n",
      "Number of connected components in cleaned skeleton graph= 1\n",
      "The downsampled branches number of connected components = 1\n",
      "\n",
      "---- checking limb 7---\n",
      "Limb 7 decomposed into 25 branches\n",
      "divided_skeleton_graph_recovered = (1061, 2, 3) and \n",
      "current_mesh_data[0]['branch_skeletons_cleaned'].shape = (1061, 2, 3)\n",
      "\n",
      "Number of connected components in deocmposed recovered graph = 1\n",
      "Number of connected components in cleaned skeleton graph= 1\n",
      "The downsampled branches number of connected components = 1\n",
      "\n",
      "---- checking limb 8---\n",
      "Limb 8 decomposed into 11 branches\n",
      "divided_skeleton_graph_recovered = (675, 2, 3) and \n",
      "current_mesh_data[0]['branch_skeletons_cleaned'].shape = (675, 2, 3)\n",
      "\n",
      "Number of connected components in deocmposed recovered graph = 1\n",
      "Number of connected components in cleaned skeleton graph= 1\n",
      "The downsampled branches number of connected components = 1\n",
      "\n",
      "---- checking limb 9---\n",
      "Limb 9 decomposed into 5 branches\n",
      "divided_skeleton_graph_recovered = (246, 2, 3) and \n",
      "current_mesh_data[0]['branch_skeletons_cleaned'].shape = (246, 2, 3)\n",
      "\n",
      "Number of connected components in deocmposed recovered graph = 1\n",
      "Number of connected components in cleaned skeleton graph= 1\n",
      "The downsampled branches number of connected components = 1\n",
      "\n",
      "---- checking limb 10---\n",
      "Limb 10 decomposed into 1 branches\n",
      "only one skeleton so no stacking needed\n",
      "divided_skeleton_graph_recovered = (29, 2, 3) and \n",
      "current_mesh_data[0]['branch_skeletons_cleaned'].shape = (29, 2, 3)\n",
      "\n",
      "Number of connected components in deocmposed recovered graph = 1\n",
      "Number of connected components in cleaned skeleton graph= 1\n",
      "only one skeleton so no stacking needed\n",
      "The downsampled branches number of connected components = 1\n",
      "Empty submeshes = []\n"
     ]
    }
   ],
   "source": [
    "#couple of checks on how the decomposition went\n",
    "nu = reload(nu)\n",
    "sk = reload(sk)\n",
    "empty_submeshes = []\n",
    "\n",
    "for soma_containing_idx in current_mesh_data.keys():\n",
    "    for limb_idx,curr_limb_mesh in enumerate(current_mesh_data[soma_containing_idx][\"branch_meshes\"]):\n",
    "        print(f\"\\n---- checking limb {limb_idx}---\")\n",
    "        print(f\"Limb {limb_idx} decomposed into {len(limb_correspondence[limb_idx])} branches\")\n",
    "        \n",
    "        #get all of the skeletons and make sure that they from a connected component\n",
    "        divided_branches = [limb_correspondence[limb_idx][k][\"branch_skeleton\"] for k in limb_correspondence[limb_idx]]\n",
    "        divided_skeleton_graph = sk.convert_skeleton_to_graph(\n",
    "                                        sk.stack_skeletons(divided_branches))\n",
    "        \n",
    "        divided_skeleton_graph_recovered = sk.convert_graph_to_skeleton(divided_skeleton_graph)\n",
    "        \n",
    "        cleaned_limb_skeleton = current_mesh_data[0]['branch_skeletons_cleaned'][limb_idx]\n",
    "        print(f\"divided_skeleton_graph_recovered = {divided_skeleton_graph_recovered.shape} and \\n\"\n",
    "              f\"current_mesh_data[0]['branch_skeletons_cleaned'].shape = {cleaned_limb_skeleton.shape}\\n\")\n",
    "        if divided_skeleton_graph_recovered.shape != cleaned_limb_skeleton.shape:\n",
    "            print(f\"****divided_skeleton_graph_recovered and cleaned_limb_skeleton shapes not match: \"\n",
    "                            f\"{divided_skeleton_graph_recovered.shape} vs. {cleaned_limb_skeleton.shape} *****\")\n",
    "        \n",
    "        \n",
    "        #check that it is all one component\n",
    "        divided_skeleton_graph_n_comp = nx.number_connected_components(divided_skeleton_graph)\n",
    "        print(f\"Number of connected components in deocmposed recovered graph = {divided_skeleton_graph_n_comp}\")\n",
    "        \n",
    "        cleaned_limb_skeleton_graph = sk.convert_skeleton_to_graph(cleaned_limb_skeleton)\n",
    "        cleaned_limb_skeleton_graph_n_comp = nx.number_connected_components(cleaned_limb_skeleton_graph)\n",
    "        print(f\"Number of connected components in cleaned skeleton graph= {cleaned_limb_skeleton_graph_n_comp}\")\n",
    "        \n",
    "        if divided_skeleton_graph_n_comp > 1 or cleaned_limb_skeleton_graph_n_comp > 1:\n",
    "            raise Exception(f\"One of the decompose_skeletons or cleaned skeletons was not just one component : {divided_skeleton_graph_n_comp,cleaned_limb_skeleton_graph_n_comp}\")\n",
    "        \n",
    "        #check that when we downsample it is not one component:\n",
    "        curr_branch_meshes_downsampled = [sk.resize_skeleton_branch(b,n_segments=1) for b in divided_branches]\n",
    "        downsampled_skeleton = sk.stack_skeletons(curr_branch_meshes_downsampled)\n",
    "        curr_sk_graph_debug = sk.convert_skeleton_to_graph(downsampled_skeleton)\n",
    "\n",
    "\n",
    "        con_comp = list(nx.connected_components(curr_sk_graph_debug))\n",
    "        if len(con_comp) > 1:\n",
    "            raise Exception(f\"There were more than 1 component when downsizing: {[len(k) for k in con_comp]}\")\n",
    "        else:\n",
    "            print(f\"The downsampled branches number of connected components = {len(con_comp)}\")\n",
    "        \n",
    "        \n",
    "        for j in limb_correspondence[limb_idx].keys():\n",
    "            if len(limb_correspondence[limb_idx][j][\"correspondence_mesh\"].faces) == 0:\n",
    "                empty_submeshes.append(dict(limb_idx=limb_idx,branch_idx = j))\n",
    "        \n",
    "print(f\"Empty submeshes = {empty_submeshes}\")\n",
    "\n",
    "if len(empty_submeshes) > 0:\n",
    "    raise Exception(f\"Found empyt meshes after branch mesh correspondence: {empty_submeshes}\")"
   ]
  },
  {
   "cell_type": "code",
   "execution_count": 24,
   "metadata": {},
   "outputs": [],
   "source": [
    "# sk = reload(sk)\n",
    "# import matplotlib_utils as mu\n",
    "# mu = reload(mu)\n",
    "# sk.graph_skeleton_and_mesh(other_meshes=total_branch_meshes,\n",
    "#                           other_meshes_colors=\"random\",\n",
    "#                            other_skeletons=total_branch_skeletons,\n",
    "#                            other_skeletons_colors=\"random\"\n",
    "#                           )"
   ]
  },
  {
   "cell_type": "markdown",
   "metadata": {},
   "source": [
    "# Finishing off the face correspondence so get 1-to-1 correspondence of mesh face to skeletal piece"
   ]
  },
  {
   "cell_type": "code",
   "execution_count": 25,
   "metadata": {},
   "outputs": [
    {
     "data": {
      "text/plain": [
       "'\\nInput: \\n- full mesh\\n- current face coloring of mesh (could be incomplete) corresponding to skeletal pieces\\n(but doesn\\'t need the skeletal pieces to do it\\'s jobs, those are just represented in the labels)\\n\\nOutput: \\n- better face coloring which has labels that:\\n    a. cover entire mesh\\n    b. the labels exist as only 1 connected component on the mesh\\n\\n\\n\\nPseudocode of what doing:\\n- clearing out the branch_mesh correspondence stored in limb_correspondence[limb_idx][k][\"branch_mesh\"]\\n- gets a list of how many subdivided branches there were (becuase this should be the number of labels) and the mesh of whole limb\\n- Builds a face to skeleeton branch correspondence bassed on the current  branch_piece[\"correspondence_face_idx\"] that already exists\\n    This may have overlaps or faces mapped to zero branches that we need to resolve\\n- computes the percentage of empty and conflicting faces \\n- makes sure that at least one face that corresponds to each branch piece (and throws error if so)\\n\\n#Doing the resolution of the empty and conflicting faces:\\n- clears out all conflicting faces and leaves them just like the empty ones\\n- uses the filter_face_coloring_to_connected_components which only keeps the largest connected component of a label \\n    (because the zeroing out of conflicting labels could have eliminated or split up some of the labels)\\n- if  a face was totally eliminated then add it back to the face coloring\\n(only does this once so a face could still be missing if one face totally overwrites another face)\\n\\n**At this point: there is at one-to-one correspondence of mesh face to skeletal piece label OR empty label (-1)\\n\\n# Using the waterfilling algorithm: designed at fixing the correspondence to empty label (-1) \\n- get a submesh of the original mesh but only for those empty faces and divide into disconnecteed mesh pieces\\n- run through waterfilling algorithm to color each empty piece\\n- check that there are no more empty faces\\n- gets the one connected mesh component that corresponds to that label (get both the actual mesh and the mesh indexes)\\n\\n#the output of all of the algorithm: \\n- save the result back in  limb_correspondence[limb_idx][k][\"branch_mesh\"] so it is accurately updated\\n\\n\\n'"
      ]
     },
     "execution_count": 25,
     "metadata": {},
     "output_type": "execute_result"
    }
   ],
   "source": [
    "\"\"\"\n",
    "Input: \n",
    "- full mesh\n",
    "- current face coloring of mesh (could be incomplete) corresponding to skeletal pieces\n",
    "(but doesn't need the skeletal pieces to do it's jobs, those are just represented in the labels)\n",
    "\n",
    "Output: \n",
    "- better face coloring which has labels that:\n",
    "    a. cover entire mesh\n",
    "    b. the labels exist as only 1 connected component on the mesh\n",
    "\n",
    "\n",
    "\n",
    "Pseudocode of what doing:\n",
    "- clearing out the branch_mesh correspondence stored in limb_correspondence[limb_idx][k][\"branch_mesh\"]\n",
    "- gets a list of how many subdivided branches there were (becuase this should be the number of labels) and the mesh of whole limb\n",
    "- Builds a face to skeleeton branch correspondence bassed on the current  branch_piece[\"correspondence_face_idx\"] that already exists\n",
    "    This may have overlaps or faces mapped to zero branches that we need to resolve\n",
    "- computes the percentage of empty and conflicting faces \n",
    "- makes sure that at least one face that corresponds to each branch piece (and throws error if so)\n",
    "\n",
    "#Doing the resolution of the empty and conflicting faces:\n",
    "- clears out all conflicting faces and leaves them just like the empty ones\n",
    "- uses the filter_face_coloring_to_connected_components which only keeps the largest connected component of a label \n",
    "    (because the zeroing out of conflicting labels could have eliminated or split up some of the labels)\n",
    "- if  a face was totally eliminated then add it back to the face coloring\n",
    "(only does this once so a face could still be missing if one face totally overwrites another face)\n",
    "\n",
    "**At this point: there is at one-to-one correspondence of mesh face to skeletal piece label OR empty label (-1)\n",
    "\n",
    "# Using the waterfilling algorithm: designed at fixing the correspondence to empty label (-1) \n",
    "- get a submesh of the original mesh but only for those empty faces and divide into disconnecteed mesh pieces\n",
    "- run through waterfilling algorithm to color each empty piece\n",
    "- check that there are no more empty faces\n",
    "- gets the one connected mesh component that corresponds to that label (get both the actual mesh and the mesh indexes)\n",
    "\n",
    "#the output of all of the algorithm: \n",
    "- save the result back in  limb_correspondence[limb_idx][k][\"branch_mesh\"] so it is accurately updated\n",
    "\n",
    "\n",
    "\"\"\""
   ]
  },
  {
   "cell_type": "code",
   "execution_count": 26,
   "metadata": {},
   "outputs": [
    {
     "name": "stdout",
     "output_type": "stream",
     "text": [
      "\n",
      "\n",
      "Working on limb_correspondence for #0\n",
      "max(original_labels),len(original_labels) = (78, 79)\n",
      "empty_indices % = 0.07250367285782391\n",
      " conflict_indices % = 0.052337818598119625\n"
     ]
    },
    {
     "data": {
      "application/vnd.jupyter.widget-view+json": {
       "model_id": "952af470b1084cacbf164efbffa96096",
       "version_major": 2,
       "version_minor": 0
      },
      "text/plain": [
       "HBox(children=(FloatProgress(value=0.0, max=782.0), HTML(value='')))"
      ]
     },
     "metadata": {},
     "output_type": "display_data"
    },
    {
     "name": "stdout",
     "output_type": "stream",
     "text": [
      "\n"
     ]
    },
    {
     "data": {
      "application/vnd.jupyter.widget-view+json": {
       "model_id": "284146b91e7749509c511ac40dc47c69",
       "version_major": 2,
       "version_minor": 0
      },
      "text/plain": [
       "HBox(children=(FloatProgress(value=0.0, max=79.0), HTML(value='')))"
      ]
     },
     "metadata": {},
     "output_type": "display_data"
    },
    {
     "name": "stdout",
     "output_type": "stream",
     "text": [
      "\n",
      "Total time for limb mesh processing = 7.16807222366333\n",
      "\n",
      "\n",
      "Working on limb_correspondence for #1\n",
      "max(original_labels),len(original_labels) = (46, 47)\n",
      "empty_indices % = 0.09360011352348517\n",
      " conflict_indices % = 0.028897403150276713\n"
     ]
    },
    {
     "name": "stderr",
     "output_type": "stream",
     "text": [
      "No adjacent faces detected! Did you merge vertices?\n"
     ]
    },
    {
     "name": "stdout",
     "output_type": "stream",
     "text": [
      "list was only one so surrounding them with list\n"
     ]
    },
    {
     "name": "stderr",
     "output_type": "stream",
     "text": [
      "No adjacent faces detected! Did you merge vertices?\n"
     ]
    },
    {
     "name": "stdout",
     "output_type": "stream",
     "text": [
      "list was only one so surrounding them with list\n"
     ]
    },
    {
     "data": {
      "application/vnd.jupyter.widget-view+json": {
       "model_id": "d9261f715c8c458dbdf3ac1362a5625f",
       "version_major": 2,
       "version_minor": 0
      },
      "text/plain": [
       "HBox(children=(FloatProgress(value=0.0, max=432.0), HTML(value='')))"
      ]
     },
     "metadata": {},
     "output_type": "display_data"
    },
    {
     "name": "stdout",
     "output_type": "stream",
     "text": [
      "\n"
     ]
    },
    {
     "data": {
      "application/vnd.jupyter.widget-view+json": {
       "model_id": "6fe6be364b344c26be1001e90a0c5ea1",
       "version_major": 2,
       "version_minor": 0
      },
      "text/plain": [
       "HBox(children=(FloatProgress(value=0.0, max=47.0), HTML(value='')))"
      ]
     },
     "metadata": {},
     "output_type": "display_data"
    },
    {
     "name": "stdout",
     "output_type": "stream",
     "text": [
      "\n",
      "Total time for limb mesh processing = 3.2891602516174316\n",
      "\n",
      "\n",
      "Working on limb_correspondence for #2\n",
      "max(original_labels),len(original_labels) = (50, 51)\n",
      "empty_indices % = 0.10384491283759625\n",
      " conflict_indices % = 0.0742907971501077\n"
     ]
    },
    {
     "data": {
      "application/vnd.jupyter.widget-view+json": {
       "model_id": "209621cfe8244df7b66ed7b919936b5d",
       "version_major": 2,
       "version_minor": 0
      },
      "text/plain": [
       "HBox(children=(FloatProgress(value=0.0, max=269.0), HTML(value='')))"
      ]
     },
     "metadata": {},
     "output_type": "display_data"
    },
    {
     "name": "stdout",
     "output_type": "stream",
     "text": [
      "\n"
     ]
    },
    {
     "data": {
      "application/vnd.jupyter.widget-view+json": {
       "model_id": "ee1440c0198346808ca98d389d170dbe",
       "version_major": 2,
       "version_minor": 0
      },
      "text/plain": [
       "HBox(children=(FloatProgress(value=0.0, max=51.0), HTML(value='')))"
      ]
     },
     "metadata": {},
     "output_type": "display_data"
    },
    {
     "name": "stdout",
     "output_type": "stream",
     "text": [
      "\n",
      "Total time for limb mesh processing = 3.59267258644104\n",
      "\n",
      "\n",
      "Working on limb_correspondence for #3\n",
      "max(original_labels),len(original_labels) = (38, 39)\n",
      "empty_indices % = 0.08754086451144207\n",
      " conflict_indices % = 0.03680530330548493\n"
     ]
    },
    {
     "data": {
      "application/vnd.jupyter.widget-view+json": {
       "model_id": "89ab9fb0848b4bedbbed2c242799c345",
       "version_major": 2,
       "version_minor": 0
      },
      "text/plain": [
       "HBox(children=(FloatProgress(value=0.0, max=278.0), HTML(value='')))"
      ]
     },
     "metadata": {},
     "output_type": "display_data"
    },
    {
     "name": "stdout",
     "output_type": "stream",
     "text": [
      "\n"
     ]
    },
    {
     "data": {
      "application/vnd.jupyter.widget-view+json": {
       "model_id": "952fc8f0ba5f4e0e890a3f7886f45b6a",
       "version_major": 2,
       "version_minor": 0
      },
      "text/plain": [
       "HBox(children=(FloatProgress(value=0.0, max=39.0), HTML(value='')))"
      ]
     },
     "metadata": {},
     "output_type": "display_data"
    },
    {
     "name": "stdout",
     "output_type": "stream",
     "text": [
      "\n",
      "Total time for limb mesh processing = 2.2477734088897705\n",
      "\n",
      "\n",
      "Working on limb_correspondence for #4\n",
      "max(original_labels),len(original_labels) = (36, 37)\n",
      "empty_indices % = 0.10424165955393921\n",
      " conflict_indices % = 0.029186922477455746\n"
     ]
    },
    {
     "data": {
      "application/vnd.jupyter.widget-view+json": {
       "model_id": "8c185a9d30f84dcdb28a842453e91f8a",
       "version_major": 2,
       "version_minor": 0
      },
      "text/plain": [
       "HBox(children=(FloatProgress(value=0.0, max=276.0), HTML(value='')))"
      ]
     },
     "metadata": {},
     "output_type": "display_data"
    },
    {
     "name": "stdout",
     "output_type": "stream",
     "text": [
      "\n"
     ]
    },
    {
     "data": {
      "application/vnd.jupyter.widget-view+json": {
       "model_id": "8dbac62a94504a0cab2d5c54af7c4b4e",
       "version_major": 2,
       "version_minor": 0
      },
      "text/plain": [
       "HBox(children=(FloatProgress(value=0.0, max=37.0), HTML(value='')))"
      ]
     },
     "metadata": {},
     "output_type": "display_data"
    },
    {
     "name": "stdout",
     "output_type": "stream",
     "text": [
      "\n",
      "Total time for limb mesh processing = 2.2394776344299316\n",
      "\n",
      "\n",
      "Working on limb_correspondence for #5\n",
      "max(original_labels),len(original_labels) = (8, 9)\n",
      "empty_indices % = 0.06710919413250847\n",
      " conflict_indices % = 0.021114515989586836\n"
     ]
    },
    {
     "data": {
      "application/vnd.jupyter.widget-view+json": {
       "model_id": "060dba00992c48b7b58b19f1543c5c79",
       "version_major": 2,
       "version_minor": 0
      },
      "text/plain": [
       "HBox(children=(FloatProgress(value=0.0, max=213.0), HTML(value='')))"
      ]
     },
     "metadata": {},
     "output_type": "display_data"
    },
    {
     "name": "stdout",
     "output_type": "stream",
     "text": [
      "\n"
     ]
    },
    {
     "data": {
      "application/vnd.jupyter.widget-view+json": {
       "model_id": "8cf84fd13dad456a80476149f7f7a64a",
       "version_major": 2,
       "version_minor": 0
      },
      "text/plain": [
       "HBox(children=(FloatProgress(value=0.0, max=9.0), HTML(value='')))"
      ]
     },
     "metadata": {},
     "output_type": "display_data"
    },
    {
     "name": "stdout",
     "output_type": "stream",
     "text": [
      "\n",
      "Total time for limb mesh processing = 1.960242509841919\n",
      "\n",
      "\n",
      "Working on limb_correspondence for #6\n",
      "max(original_labels),len(original_labels) = (18, 19)\n",
      "empty_indices % = 0.11106007247486348\n",
      " conflict_indices % = 0.0259956787287977\n"
     ]
    },
    {
     "data": {
      "application/vnd.jupyter.widget-view+json": {
       "model_id": "be263b1e26fb47db9e4f38bb0f5a7f7b",
       "version_major": 2,
       "version_minor": 0
      },
      "text/plain": [
       "HBox(children=(FloatProgress(value=0.0, max=186.0), HTML(value='')))"
      ]
     },
     "metadata": {},
     "output_type": "display_data"
    },
    {
     "name": "stdout",
     "output_type": "stream",
     "text": [
      "\n"
     ]
    },
    {
     "data": {
      "application/vnd.jupyter.widget-view+json": {
       "model_id": "0050f4c903d14ef08840b9ea100d5588",
       "version_major": 2,
       "version_minor": 0
      },
      "text/plain": [
       "HBox(children=(FloatProgress(value=0.0, max=19.0), HTML(value='')))"
      ]
     },
     "metadata": {},
     "output_type": "display_data"
    },
    {
     "name": "stdout",
     "output_type": "stream",
     "text": [
      "\n",
      "Total time for limb mesh processing = 1.1366288661956787\n",
      "\n",
      "\n",
      "Working on limb_correspondence for #7\n",
      "max(original_labels),len(original_labels) = (24, 25)\n",
      "empty_indices % = 0.1247629947218284\n",
      " conflict_indices % = 0.04202039526501888\n"
     ]
    },
    {
     "name": "stderr",
     "output_type": "stream",
     "text": [
      "No adjacent faces detected! Did you merge vertices?\n",
      "No adjacent faces detected! Did you merge vertices?\n"
     ]
    },
    {
     "name": "stdout",
     "output_type": "stream",
     "text": [
      "list was only one so surrounding them with list\n",
      "list was only one so surrounding them with list\n"
     ]
    },
    {
     "data": {
      "application/vnd.jupyter.widget-view+json": {
       "model_id": "d5f978741032432594588d03421a7793",
       "version_major": 2,
       "version_minor": 0
      },
      "text/plain": [
       "HBox(children=(FloatProgress(value=0.0, max=184.0), HTML(value='')))"
      ]
     },
     "metadata": {},
     "output_type": "display_data"
    },
    {
     "name": "stdout",
     "output_type": "stream",
     "text": [
      "\n"
     ]
    },
    {
     "data": {
      "application/vnd.jupyter.widget-view+json": {
       "model_id": "a2fcb5c9fd8d41b5bc6dc720f369e02d",
       "version_major": 2,
       "version_minor": 0
      },
      "text/plain": [
       "HBox(children=(FloatProgress(value=0.0, max=25.0), HTML(value='')))"
      ]
     },
     "metadata": {},
     "output_type": "display_data"
    },
    {
     "name": "stdout",
     "output_type": "stream",
     "text": [
      "\n",
      "Total time for limb mesh processing = 1.3945739269256592\n",
      "\n",
      "\n",
      "Working on limb_correspondence for #8\n",
      "max(original_labels),len(original_labels) = (10, 11)\n",
      "empty_indices % = 0.1273058990472329\n",
      " conflict_indices % = 0.02452868437056558\n"
     ]
    },
    {
     "data": {
      "application/vnd.jupyter.widget-view+json": {
       "model_id": "d1703420d888489e900fe046087953f3",
       "version_major": 2,
       "version_minor": 0
      },
      "text/plain": [
       "HBox(children=(FloatProgress(value=0.0, max=91.0), HTML(value='')))"
      ]
     },
     "metadata": {},
     "output_type": "display_data"
    },
    {
     "name": "stdout",
     "output_type": "stream",
     "text": [
      "\n"
     ]
    },
    {
     "data": {
      "application/vnd.jupyter.widget-view+json": {
       "model_id": "13605a35366e41f5ac71f8eabbc83a0c",
       "version_major": 2,
       "version_minor": 0
      },
      "text/plain": [
       "HBox(children=(FloatProgress(value=0.0, max=11.0), HTML(value='')))"
      ]
     },
     "metadata": {},
     "output_type": "display_data"
    },
    {
     "name": "stdout",
     "output_type": "stream",
     "text": [
      "\n",
      "Total time for limb mesh processing = 0.530501127243042\n",
      "\n",
      "\n",
      "Working on limb_correspondence for #9\n",
      "max(original_labels),len(original_labels) = (4, 5)\n",
      "empty_indices % = 0.21456335838300078\n",
      " conflict_indices % = 0.0020730759264058047\n"
     ]
    },
    {
     "data": {
      "application/vnd.jupyter.widget-view+json": {
       "model_id": "f71c1fa1026b4f89bc41af08c0a09c0c",
       "version_major": 2,
       "version_minor": 0
      },
      "text/plain": [
       "HBox(children=(FloatProgress(value=0.0, max=23.0), HTML(value='')))"
      ]
     },
     "metadata": {},
     "output_type": "display_data"
    },
    {
     "name": "stdout",
     "output_type": "stream",
     "text": [
      "\n"
     ]
    },
    {
     "data": {
      "application/vnd.jupyter.widget-view+json": {
       "model_id": "bcf82f97349046d4b7f41350dc560b58",
       "version_major": 2,
       "version_minor": 0
      },
      "text/plain": [
       "HBox(children=(FloatProgress(value=0.0, max=5.0), HTML(value='')))"
      ]
     },
     "metadata": {},
     "output_type": "display_data"
    },
    {
     "name": "stdout",
     "output_type": "stream",
     "text": [
      "\n",
      "Total time for limb mesh processing = 0.46195149421691895\n",
      "\n",
      "\n",
      "Working on limb_correspondence for #10\n",
      "max(original_labels),len(original_labels) = (0, 1)\n",
      "empty_indices % = 0.10341805433829973\n",
      " conflict_indices % = 0.0\n"
     ]
    },
    {
     "data": {
      "application/vnd.jupyter.widget-view+json": {
       "model_id": "34b9fd7c61934f79a2e13a194114d86a",
       "version_major": 2,
       "version_minor": 0
      },
      "text/plain": [
       "HBox(children=(FloatProgress(value=0.0, max=10.0), HTML(value='')))"
      ]
     },
     "metadata": {},
     "output_type": "display_data"
    },
    {
     "name": "stdout",
     "output_type": "stream",
     "text": [
      "\n"
     ]
    },
    {
     "data": {
      "application/vnd.jupyter.widget-view+json": {
       "model_id": "0dfdbfd351014c46848ebf393ccf0ec3",
       "version_major": 2,
       "version_minor": 0
      },
      "text/plain": [
       "HBox(children=(FloatProgress(value=0.0, max=1.0), HTML(value='')))"
      ]
     },
     "metadata": {},
     "output_type": "display_data"
    },
    {
     "name": "stdout",
     "output_type": "stream",
     "text": [
      "\n",
      "Total time for limb mesh processing = 0.08333730697631836\n"
     ]
    }
   ],
   "source": [
    "#--- this is the function that will clean up a limb piece so have 1-1 correspondence\n",
    "\n",
    "cu = reload(cu)\n",
    "tu = reload(tu)\n",
    "\n",
    "#things to prep for visualizing the axons\n",
    "total_widths = []\n",
    "total_branch_skeletons = []\n",
    "total_branch_meshes = []\n",
    "\n",
    "soma_containing_idx = 0\n",
    "import time\n",
    "for limb_idx in limb_correspondence.keys():\n",
    "    mesh_start_time = time.time()\n",
    "    #clear out the mesh correspondence if already in limb_correspondecne\n",
    "    for k in limb_correspondence[limb_idx].keys():\n",
    "        if \"branch_mesh\" in limb_correspondence[limb_idx][k]:\n",
    "            del limb_correspondence[limb_idx][k][\"branch_mesh\"]\n",
    "        if \"branch_face_idx\" in limb_correspondence[limb_idx][k]:\n",
    "            del limb_correspondence[limb_idx][k][\"branch_face_idx\"]\n",
    "    #geting the current limb mesh\n",
    "    print(f\"\\n\\nWorking on limb_correspondence for #{limb_idx}\")\n",
    "    no_missing_labels = list(limb_correspondence[limb_idx].keys()) #counts the number of divided branches which should be the total number of labels\n",
    "    curr_limb_mesh = current_mesh_data[soma_containing_idx][\"branch_meshes\"][limb_idx]\n",
    "\n",
    "    #set up the face dictionary\n",
    "    face_lookup = dict([(j,[]) for j in range(0,len(curr_limb_mesh.faces))])\n",
    "\n",
    "    for j,branch_piece in limb_correspondence[limb_idx].items():\n",
    "        curr_faces_corresponded = branch_piece[\"correspondence_face_idx\"]\n",
    "\n",
    "        for c in curr_faces_corresponded:\n",
    "            face_lookup[c].append(j)\n",
    "\n",
    "    original_labels = set(list(itertools.chain.from_iterable(list(face_lookup.values()))))\n",
    "    print(f\"max(original_labels),len(original_labels) = {(max(original_labels),len(original_labels))}\")\n",
    "    \n",
    "    \n",
    "    if len(original_labels) != len(no_missing_labels):\n",
    "        raise Exception(f\"len(original_labels) != len(no_missing_labels) for original_labels = {len(original_labels)},no_missing_labels = {len(no_missing_labels)}\")\n",
    "    \n",
    "    if max(original_labels) + 1 > len(original_labels):\n",
    "        raise Exception(\"There are some missing labels in the initial labeling\")\n",
    "        \n",
    "    \n",
    "        \n",
    "    #here is where can call the function that resolves the face labels\n",
    "    face_coloring_copy = cu.resolve_empty_conflicting_face_labels(\n",
    "                     curr_limb_mesh = curr_limb_mesh,\n",
    "                     face_lookup=face_lookup,\n",
    "                     no_missing_labels = list(original_labels)\n",
    "    )\n",
    "    \n",
    "\n",
    "    # -- splitting the mesh pieces into individual pieces\n",
    "    divided_submeshes,divided_submeshes_idx = tu.split_mesh_into_face_groups(curr_limb_mesh,face_coloring_copy)\n",
    "    \n",
    "    #-- check that all the split mesh pieces are one component --#\n",
    "\n",
    "    #save off the new data as branch mesh\n",
    "    for k in limb_correspondence[limb_idx].keys():\n",
    "        limb_correspondence[limb_idx][k][\"branch_mesh\"] = divided_submeshes[k]\n",
    "        limb_correspondence[limb_idx][k][\"branch_face_idx\"] = divided_submeshes_idx[k]\n",
    "        total_widths.append(limb_correspondence[limb_idx][k][\"width_from_skeleton\"])\n",
    "        total_branch_skeletons.append(limb_correspondence[limb_idx][k][\"branch_skeleton\"])\n",
    "        total_branch_meshes.append(limb_correspondence[limb_idx][k][\"branch_mesh\"])\n",
    "    \n",
    "    print(f\"Total time for limb mesh processing = {time.time() - mesh_start_time}\")"
   ]
  },
  {
   "cell_type": "markdown",
   "metadata": {},
   "source": [
    "# Visualizing the results of getting the mesh to skeletal segment correspondence completely 1-to-1"
   ]
  },
  {
   "cell_type": "code",
   "execution_count": 27,
   "metadata": {},
   "outputs": [
    {
     "data": {
      "image/png": "[encoded data removed]",
      "text/plain": [
       "<Figure size 432x288 with 1 Axes>"
      ]
     },
     "metadata": {
      "needs_background": "light"
     },
     "output_type": "display_data"
    }
   ],
   "source": [
    "from matplotlib import pyplot as plt\n",
    "fig,ax = plt.subplots(1,1)\n",
    "bins = plt.hist(np.array(total_widths),bins=100)\n",
    "ax.set_xlabel(\"Width measurement of mesh branch (nm)\")\n",
    "ax.set_ylabel(\"frequency\")\n",
    "ax.set_title(\"Width measurement of mesh branch frequency\")\n",
    "plt.show()"
   ]
  },
  {
   "cell_type": "code",
   "execution_count": 28,
   "metadata": {},
   "outputs": [
    {
     "data": {
      "application/vnd.jupyter.widget-view+json": {
       "model_id": "e00c9c4d0a8f42be9c3f0d58fd858687",
       "version_major": 2,
       "version_minor": 0
      },
      "text/plain": [
       "VBox(children=(Figure(camera=PerspectiveCamera(fov=46.0, position=(0.0, 0.0, 2.0), quaternion=(0.0, 0.0, 0.0, …"
      ]
     },
     "metadata": {},
     "output_type": "display_data"
    }
   ],
   "source": [
    "sk.graph_skeleton_and_mesh(other_meshes=total_branch_meshes,\n",
    "                          other_meshes_colors=\"random\",\n",
    "                          other_skeletons=total_branch_skeletons,\n",
    "                          other_skeletons_colors=\"random\",\n",
    "                          #html_path=\"two_soma_mesh_skeleton_decomp.html\"\n",
    "                          )"
   ]
  },
  {
   "cell_type": "code",
   "execution_count": 36,
   "metadata": {},
   "outputs": [
    {
     "data": {
      "text/plain": [
       "3"
      ]
     },
     "execution_count": 36,
     "metadata": {},
     "output_type": "execute_result"
    }
   ],
   "source": [
    "np.argmax([1,4,5,6])"
   ]
  },
  {
   "cell_type": "code",
   "execution_count": 35,
   "metadata": {},
   "outputs": [
    {
     "data": {
      "application/vnd.jupyter.widget-view+json": {
       "model_id": "d14d7a3c864840d3b102673ddb16236b",
       "version_major": 2,
       "version_minor": 0
      },
      "text/plain": [
       "VBox(children=(Figure(camera=PerspectiveCamera(fov=46.0, position=(0.0, 0.0, 2.0), quaternion=(0.0, 0.0, 0.0, …"
      ]
     },
     "metadata": {},
     "output_type": "display_data"
    }
   ],
   "source": [
    "\n",
    "sk.graph_skeleton_and_mesh(other_meshes=[total_branch_meshes[47]],\n",
    "                          other_meshes_colors=\"random\",\n",
    "                          other_skeletons=[total_branch_skeletons[47]],\n",
    "                          other_skeletons_colors=\"random\",\n",
    "                          html_path=\"two_soma_mesh_skeleton_decomp.html\")"
   ]
  },
  {
   "cell_type": "markdown",
   "metadata": {},
   "source": [
    "# PART 3: LAST PART OF ANALYSIS WHERE MAKES CONCEPT GRAPHS"
   ]
  },
  {
   "cell_type": "code",
   "execution_count": 165,
   "metadata": {
    "scrolled": true
   },
   "outputs": [
    {
     "name": "stdout",
     "output_type": "stream",
     "text": [
      "\n",
      "\n",
      "------Working on limb 0 -------\n",
      "inside loop len(curr_limb_divided_meshes) = 79 len(curr_limb_divided_skeletons) = 79\n",
      "--- Working on soma_idx: 0----\n",
      "**More than one touching point to soma, touching_pieces = {touching_pieces}**\n",
      "winning_piece_idx = 0\n",
      "Winning touching piece = [47]\n",
      "inside inner loop len(curr_limb_divided_skeletons) = 79\n",
      "closest_endpoint = [754813.4 950379.  873075.7]\n",
      "At the start, starting_node = [49]\n",
      "edge_endpoints_to_process was empty so exiting loop after 79 iterations\n",
      "starting_node = [49]\n",
      "Total time for branches to concept conversion = 0.3423020839691162\n",
      "\n",
      "After concept mapping size = 79\n",
      "Local time for concept mapping = 12.613781929016113\n",
      "\n",
      "\n",
      "------Working on limb 1 -------\n",
      "inside loop len(curr_limb_divided_meshes) = 47 len(curr_limb_divided_skeletons) = 47\n",
      "Merge limb detected\n",
      "--- Working on soma_idx: 0----\n",
      "inside inner loop len(curr_limb_divided_skeletons) = 47\n",
      "closest_endpoint = [764236.7 961432.5 877960.4]\n",
      "At the start, starting_node = [12]\n",
      "edge_endpoints_to_process was empty so exiting loop after 47 iterations\n",
      "starting_node = [12]\n",
      "Total time for branches to concept conversion = 0.2341294288635254\n",
      "\n",
      "After concept mapping size = 47\n",
      "--- Working on soma_idx: 1----\n",
      "inside inner loop len(curr_limb_divided_skeletons) = 47\n",
      "closest_endpoint = [857928.5 996519.5 860442.2]\n",
      "At the start, starting_node = [42]\n",
      "edge_endpoints_to_process was empty so exiting loop after 47 iterations\n",
      "starting_node = [42]\n",
      "Total time for branches to concept conversion = 0.23371362686157227\n",
      "\n",
      "After concept mapping size = 47\n",
      "Local time for concept mapping = 14.214775562286377\n",
      "\n",
      "\n",
      "------Working on limb 2 -------\n",
      "inside loop len(curr_limb_divided_meshes) = 51 len(curr_limb_divided_skeletons) = 51\n",
      "--- Working on soma_idx: 0----\n",
      "inside inner loop len(curr_limb_divided_skeletons) = 51\n",
      "closest_endpoint = [758775.4 962635.3 865865.4]\n",
      "There were 1 duplication nodes found\n",
      "domination_map = {42: 39}\n",
      "At the start, starting_node = [0]\n",
      "edge_endpoints_to_process was empty so exiting loop after 51 iterations\n",
      "starting_node = [0]\n",
      "Total time for branches to concept conversion = 0.17687702178955078\n",
      "\n",
      "Working on adding back the edges that were duplicates\n",
      "After concept mapping size = 51\n",
      "Local time for concept mapping = 7.567165374755859\n",
      "\n",
      "\n",
      "------Working on limb 3 -------\n",
      "inside loop len(curr_limb_divided_meshes) = 39 len(curr_limb_divided_skeletons) = 39\n",
      "--- Working on soma_idx: 0----\n",
      "inside inner loop len(curr_limb_divided_skeletons) = 39\n",
      "closest_endpoint = [748790.  961177.5 879648.5]\n",
      "At the start, starting_node = [24]\n",
      "edge_endpoints_to_process was empty so exiting loop after 39 iterations\n",
      "starting_node = [24]\n",
      "Total time for branches to concept conversion = 0.15701937675476074\n",
      "\n",
      "After concept mapping size = 39\n",
      "Local time for concept mapping = 5.022505760192871\n",
      "\n",
      "\n",
      "------Working on limb 4 -------\n",
      "inside loop len(curr_limb_divided_meshes) = 37 len(curr_limb_divided_skeletons) = 37\n",
      "--- Working on soma_idx: 1----\n",
      "inside inner loop len(curr_limb_divided_skeletons) = 37\n",
      "closest_endpoint = [863506.4 997662.8 866843.4]\n",
      "At the start, starting_node = [7]\n",
      "edge_endpoints_to_process was empty so exiting loop after 37 iterations\n",
      "starting_node = [7]\n",
      "Total time for branches to concept conversion = 0.17355108261108398\n",
      "\n",
      "After concept mapping size = 37\n",
      "Local time for concept mapping = 5.141851902008057\n",
      "\n",
      "\n",
      "------Working on limb 5 -------\n",
      "inside loop len(curr_limb_divided_meshes) = 9 len(curr_limb_divided_skeletons) = 9\n",
      "--- Working on soma_idx: 0----\n",
      "inside inner loop len(curr_limb_divided_skeletons) = 9\n",
      "closest_endpoint = [753216. 964608. 869060.]\n",
      "At the start, starting_node = [6]\n",
      "edge_endpoints_to_process was empty so exiting loop after 9 iterations\n",
      "starting_node = [6]\n",
      "Total time for branches to concept conversion = 0.08103489875793457\n",
      "\n",
      "After concept mapping size = 9\n",
      "Local time for concept mapping = 3.344456672668457\n",
      "\n",
      "\n",
      "------Working on limb 6 -------\n",
      "inside loop len(curr_limb_divided_meshes) = 19 len(curr_limb_divided_skeletons) = 19\n",
      "--- Working on soma_idx: 1----\n",
      "inside inner loop len(curr_limb_divided_skeletons) = 19\n",
      "closest_endpoint = [865721.6 988630.6 860869.1]\n",
      "At the start, starting_node = [14]\n",
      "edge_endpoints_to_process was empty so exiting loop after 19 iterations\n",
      "starting_node = [14]\n",
      "Total time for branches to concept conversion = 0.08244466781616211\n",
      "\n",
      "After concept mapping size = 19\n",
      "Local time for concept mapping = 3.9644291400909424\n",
      "\n",
      "\n",
      "------Working on limb 7 -------\n",
      "inside loop len(curr_limb_divided_meshes) = 25 len(curr_limb_divided_skeletons) = 25\n",
      "--- Working on soma_idx: 1----\n",
      "inside inner loop len(curr_limb_divided_skeletons) = 25\n",
      "closest_endpoint = [866766.5 993457.3 851380.2]\n",
      "There were 1 duplication nodes found\n",
      "domination_map = {16: 15}\n",
      "At the start, starting_node = [1]\n",
      "edge_endpoints_to_process was empty so exiting loop after 25 iterations\n",
      "starting_node = [1]\n",
      "Total time for branches to concept conversion = 0.09789133071899414\n",
      "\n",
      "Working on adding back the edges that were duplicates\n",
      "After concept mapping size = 25\n",
      "Local time for concept mapping = 3.8309309482574463\n",
      "\n",
      "\n",
      "------Working on limb 8 -------\n",
      "inside loop len(curr_limb_divided_meshes) = 11 len(curr_limb_divided_skeletons) = 11\n",
      "--- Working on soma_idx: 1----\n",
      "inside inner loop len(curr_limb_divided_skeletons) = 11\n",
      "closest_endpoint = [863003.4 995031.4 850791.4]\n",
      "At the start, starting_node = [11]\n",
      "edge_endpoints_to_process was empty so exiting loop after 11 iterations\n",
      "starting_node = [11]\n",
      "Total time for branches to concept conversion = 0.05488848686218262\n",
      "\n",
      "After concept mapping size = 11\n",
      "Local time for concept mapping = 2.443439245223999\n",
      "\n",
      "\n",
      "------Working on limb 9 -------\n",
      "inside loop len(curr_limb_divided_meshes) = 5 len(curr_limb_divided_skeletons) = 5\n",
      "--- Working on soma_idx: 1----\n",
      "inside inner loop len(curr_limb_divided_skeletons) = 5\n",
      "closest_endpoint = [867036. 999754. 866105.]\n",
      "At the start, starting_node = [1]\n",
      "edge_endpoints_to_process was empty so exiting loop after 5 iterations\n",
      "starting_node = [1]\n",
      "Total time for branches to concept conversion = 0.021448135375976562\n",
      "\n",
      "After concept mapping size = 5\n",
      "Local time for concept mapping = 1.3985741138458252\n",
      "\n",
      "\n",
      "------Working on limb 10 -------\n",
      "inside loop len(curr_limb_divided_meshes) = 1 len(curr_limb_divided_skeletons) = 1\n",
      "--- Working on soma_idx: 0----\n",
      "inside inner loop len(curr_limb_divided_skeletons) = 1\n",
      "closest_endpoint = [761676.4 963891.9 878090.1]\n",
      "After concept mapping size = 1\n",
      "Local time for concept mapping = 0.7079727649688721\n",
      "Total time for concept mapping = 60.250115633010864\n",
      "Sizes of dictionaries sent\n",
      "(79, 79)\n",
      "(47, 47)\n",
      "(51, 51)\n",
      "(39, 39)\n",
      "(37, 37)\n",
      "(9, 9)\n",
      "(19, 19)\n",
      "(25, 25)\n",
      "(11, 11)\n",
      "(5, 5)\n",
      "(1, 1)\n",
      "\n",
      "\n",
      " Sizes of concept maps gotten back\n",
      "79\n",
      "47\n",
      "47\n",
      "51\n",
      "39\n",
      "37\n",
      "9\n",
      "19\n",
      "25\n",
      "11\n",
      "5\n",
      "1\n"
     ]
    }
   ],
   "source": [
    "import neuron\n",
    "neuron = reload(neuron)\n",
    "nu = reload(nu)\n",
    "sk = reload(sk)\n",
    "\n",
    "#getting mesh and skeleton dictionaries\n",
    "limb_idx_to_branch_meshes_dict = dict()\n",
    "limb_idx_to_branch_skeletons_dict = dict()\n",
    "for k in limb_correspondence.keys():\n",
    "    limb_idx_to_branch_meshes_dict[k] = [limb_correspondence[k][j][\"branch_mesh\"] for j in limb_correspondence[k].keys()]\n",
    "    limb_idx_to_branch_skeletons_dict[k] = [limb_correspondence[k][j][\"branch_skeleton\"] for j in limb_correspondence[k].keys()]      \n",
    "\n",
    "#getting the soma dictionaries\n",
    "soma_idx_to_mesh_dict = dict()\n",
    "for k,v in enumerate(current_mesh_data[0][\"soma_meshes\"]):\n",
    "    soma_idx_to_mesh_dict[k] = v\n",
    "\n",
    "soma_idx_connectivity = current_mesh_data[0][\"soma_to_piece_connectivity\"]\n",
    "\n",
    "\n",
    "\n",
    "\n",
    "limb_concept_networkx,limb_labels = neuron.generate_limb_concept_networks_from_global_connectivity(\n",
    "    limb_idx_to_branch_meshes_dict = limb_idx_to_branch_meshes_dict,\n",
    "    limb_idx_to_branch_skeletons_dict = limb_idx_to_branch_skeletons_dict,\n",
    "    soma_idx_to_mesh_dict = soma_idx_to_mesh_dict,\n",
    "    soma_idx_connectivity = soma_idx_connectivity,\n",
    "    current_neuron=current_neuron,\n",
    "    return_limb_labels=True\n",
    "    )\n",
    "\n",
    "#Before go and get concept maps:\n",
    "print(\"Sizes of dictionaries sent\")\n",
    "for curr_limb in limb_idx_to_branch_skeletons_dict.keys():\n",
    "    print((len(limb_idx_to_branch_skeletons_dict[curr_limb]),len(limb_idx_to_branch_meshes_dict[curr_limb])))\n",
    "    \n",
    "    \n",
    "print(\"\\n\\n Sizes of concept maps gotten back\")\n",
    "for curr_idx in limb_concept_networkx.keys():\n",
    "    for soma_idx,concept_graph in limb_concept_networkx[curr_idx].items():\n",
    "        print(len(np.unique(list(concept_graph.nodes()))))"
   ]
  },
  {
   "cell_type": "markdown",
   "metadata": {},
   "source": [
    "# the final data that will be ported over to the Neuron class"
   ]
  },
  {
   "cell_type": "code",
   "execution_count": 166,
   "metadata": {},
   "outputs": [
    {
     "data": {
      "text/plain": [
       "'\\nConcept networks for limbs and labels of all limbs\\n'"
      ]
     },
     "execution_count": 166,
     "metadata": {},
     "output_type": "execute_result"
    }
   ],
   "source": [
    "\n",
    "current_neuron\n",
    "\"\"\"\n",
    "whole neuron to be used for other processing\n",
    "\"\"\"\n",
    "\n",
    "# The 0 at the front is to say it is the first seperated mesh containing somas (could be multiple)\n",
    "current_mesh_data[0].keys()\n",
    "\"\"\"\n",
    "soma_meshes\n",
    "soma_to_piece_connectivity\n",
    "\"\"\"\n",
    "\"\"\"\n",
    "limb_correspondence[0][0].keys() --> the exact limb and the exact branch\n",
    "\n",
    "AKA [limb_idx][branch_idx]\n",
    "\n",
    "\"\"\"\n",
    "limb_correspondence[0][0][\"branch_skeleton\"]\n",
    "limb_correspondence[0][0][\"width_from_skeleton\"]\n",
    "limb_correspondence[0][0][\"branch_mesh\"]\n",
    "limb_correspondence[0][0][\"branch_face_idx\"]\n",
    "\n",
    "\n",
    "\n",
    "limb_concept_networkx\n",
    "limb_labels\n",
    "\"\"\"\n",
    "Concept networks for limbs and labels of all limbs\n",
    "\"\"\""
   ]
  },
  {
   "cell_type": "markdown",
   "metadata": {},
   "source": [
    "# Plotting for visualizataions (used for platinum update report)"
   ]
  },
  {
   "cell_type": "code",
   "execution_count": 167,
   "metadata": {},
   "outputs": [],
   "source": [
    "curr_limb_idx = 2"
   ]
  },
  {
   "cell_type": "code",
   "execution_count": 168,
   "metadata": {},
   "outputs": [
    {
     "name": "stderr",
     "output_type": "stream",
     "text": [
      "/usr/local/lib/python3.6/dist-packages/traittypes/traittypes.py:101: UserWarning: Given trait value dtype \"float64\" does not match required type \"float64\". A coerced copy has been created.\n",
      "  np.dtype(self.dtype).name))\n"
     ]
    },
    {
     "data": {
      "application/vnd.jupyter.widget-view+json": {
       "model_id": "66155f225b65449bbee756928a583128",
       "version_major": 2,
       "version_minor": 0
      },
      "text/plain": [
       "VBox(children=(Figure(camera=PerspectiveCamera(fov=46.0, position=(0.0, 0.0, 2.0), quaternion=(0.0, 0.0, 0.0, …"
      ]
     },
     "metadata": {},
     "output_type": "display_data"
    }
   ],
   "source": [
    "#plotting the mesh\n",
    "sk = reload(sk)\n",
    "mu = reload(mu)\n",
    "random_colors_used = sk.graph_skeleton_and_mesh(\n",
    "    other_meshes=[v[\"branch_mesh\"] for k,v in limb_correspondence[curr_limb_idx].items() ],\n",
    "                          other_meshes_colors=\"random\",\n",
    "                          other_skeletons=[v[\"branch_skeleton\"] for k,v in limb_correspondence[curr_limb_idx].items() ],\n",
    "                          other_skeletons_colors=\"random\",\n",
    "                            mesh_alpha=0.8,\n",
    "                          return_other_colors=True)\n",
    "random_colors_used_no_alpha = random_colors_used[:,:-1]"
   ]
  },
  {
   "cell_type": "code",
   "execution_count": 169,
   "metadata": {},
   "outputs": [
    {
     "data": {
      "application/vnd.jupyter.widget-view+json": {
       "model_id": "79897d4185024acf9d8b5c210ee83dc7",
       "version_major": 2,
       "version_minor": 0
      },
      "text/plain": [
       "VBox(children=(Figure(camera=PerspectiveCamera(fov=46.0, position=(0.0, 0.0, 2.0), quaternion=(0.0, 0.0, 0.0, …"
      ]
     },
     "metadata": {},
     "output_type": "display_data"
    }
   ],
   "source": [
    "#plotting the skeleton\n",
    "sk = reload(sk)\n",
    "mu = reload(mu)\n",
    "sk.graph_skeleton_and_mesh(#other_meshes=total_branch_meshes[:node_to_check_to],\n",
    "                          #other_meshes_colors=\"random\",\n",
    "                          other_skeletons=[v[\"branch_skeleton\"] for k,v in limb_correspondence[curr_limb_idx].items() ],\n",
    "                          other_skeletons_colors=\"random\",\n",
    "                            mesh_alpha=0.05)\n"
   ]
  },
  {
   "cell_type": "code",
   "execution_count": 170,
   "metadata": {},
   "outputs": [
    {
     "data": {
      "text/plain": [
       "'Normal'"
      ]
     },
     "execution_count": 170,
     "metadata": {},
     "output_type": "execute_result"
    }
   ],
   "source": [
    "# get the label:\n",
    "limb_labels[curr_limb_idx]"
   ]
  },
  {
   "cell_type": "code",
   "execution_count": 171,
   "metadata": {},
   "outputs": [
    {
     "data": {
      "text/plain": [
       "{0: {0: <networkx_utils.GraphOrderedEdges at 0x7fd03a358198>},\n",
       " 1: {0: <networkx_utils.GraphOrderedEdges at 0x7fd03a358630>,\n",
       "  1: <networkx_utils.GraphOrderedEdges at 0x7fd0404fd550>},\n",
       " 2: {0: <networkx_utils.GraphOrderedEdges at 0x7fd03a358898>},\n",
       " 3: {0: <networkx_utils.GraphOrderedEdges at 0x7fd03a360908>},\n",
       " 4: {1: <networkx_utils.GraphOrderedEdges at 0x7fd043254a20>},\n",
       " 5: {0: <networkx_utils.GraphOrderedEdges at 0x7fd041bef668>},\n",
       " 6: {1: <networkx_utils.GraphOrderedEdges at 0x7fd041efdd30>},\n",
       " 7: {1: <networkx_utils.GraphOrderedEdges at 0x7fd03a360128>},\n",
       " 8: {1: <networkx_utils.GraphOrderedEdges at 0x7fd041d9c5c0>},\n",
       " 9: {1: <networkx_utils.GraphOrderedEdges at 0x7fd0405b5a20>},\n",
       " 10: {0: <networkx_utils.GraphOrderedEdges at 0x7fd03b28e128>}}"
      ]
     },
     "execution_count": 171,
     "metadata": {},
     "output_type": "execute_result"
    }
   ],
   "source": [
    "limb_concept_networkx"
   ]
  },
  {
   "cell_type": "code",
   "execution_count": 172,
   "metadata": {},
   "outputs": [
    {
     "name": "stdout",
     "output_type": "stream",
     "text": [
      "(51, 51)\n"
     ]
    }
   ],
   "source": [
    "for soma_idx,concept_graph in limb_concept_networkx[curr_limb_idx].items():\n",
    "    print((len(np.unique(list(concept_graph.nodes()))),len([v[\"branch_mesh\"] for k,v in limb_correspondence[curr_limb_idx].items() ])))"
   ]
  },
  {
   "cell_type": "code",
   "execution_count": 173,
   "metadata": {},
   "outputs": [
    {
     "name": "stdout",
     "output_type": "stream",
     "text": [
      "Starting from soma index 0 with starting_coordinate and mesh: [[758775.4 962635.3 865865.4]]\n"
     ]
    },
    {
     "data": {
      "image/png": "[encoded data removed]",
      "text/plain": [
       "<Figure size 432x288 with 1 Axes>"
      ]
     },
     "metadata": {},
     "output_type": "display_data"
    },
    {
     "name": "stdout",
     "output_type": "stream",
     "text": [
      "\n",
      "\n",
      "\n"
     ]
    }
   ],
   "source": [
    "import matplotlib.pyplot as plt\n",
    "%matplotlib inline\n",
    "for soma_idx,concept_graph in limb_concept_networkx[curr_limb_idx].items():\n",
    "    print(f\"Starting from soma index {soma_idx} with starting_coordinate and mesh: \"\n",
    "          f\"{xu.get_node_attributes(concept_graph,attribute_name='starting_coordinate')}\")\n",
    "    # plotting the concept network with the same colors\n",
    "    nx.draw(concept_graph,node_color=random_colors_used_no_alpha) \n",
    "    plt.show()\n",
    "    print(\"\\n\\n\")"
   ]
  },
  {
   "cell_type": "code",
   "execution_count": 175,
   "metadata": {},
   "outputs": [
    {
     "data": {
      "application/vnd.jupyter.widget-view+json": {
       "model_id": "95a0cb902d3645c6a96d0dad845cc884",
       "version_major": 2,
       "version_minor": 0
      },
      "text/plain": [
       "VBox(children=(Figure(camera=PerspectiveCamera(fov=46.0, position=(0.0, 0.0, 2.0), quaternion=(0.0, 0.0, 0.0, …"
      ]
     },
     "metadata": {},
     "output_type": "display_data"
    }
   ],
   "source": [
    "# Try plotting the points in 3D: random_colors_used = sk.graph_skeleton_and_mesh(other_meshes=total_branch_meshes[:node_to_check_to],\n",
    "mesh_midpoints =  [np.array([np.mean(k.vertices,axis=0)]) for k in [v[\"branch_mesh\"] for k,v in limb_correspondence[curr_limb_idx].items() ]]\n",
    "for soma_idx,concept_graph in limb_concept_networkx[curr_limb_idx].items():\n",
    "    graph_nodes_skeleton = np.array(mesh_midpoints)[concept_graph.edges_ordered()].reshape(-1,2,3)\n",
    "    [k for k in graph_nodes_skeleton]\n",
    "    random_colors_used[:,-1] = 1\n",
    "\n",
    "\n",
    "    sk.graph_skeleton_and_mesh(other_scatter=mesh_midpoints,\n",
    "                              other_scatter_colors=random_colors_used,\n",
    "                              other_skeletons=graph_nodes_skeleton,\n",
    "                              other_skeletons_colors=\"black\",\n",
    "                                                   scatter_size=3)\n",
    "\n"
   ]
  },
  {
   "cell_type": "code",
   "execution_count": 177,
   "metadata": {},
   "outputs": [
    {
     "data": {
      "application/vnd.jupyter.widget-view+json": {
       "model_id": "36f673e121eb432a891b3d9467ef4c47",
       "version_major": 2,
       "version_minor": 0
      },
      "text/plain": [
       "VBox(children=(Figure(camera=PerspectiveCamera(fov=46.0, position=(0.0, 0.0, 2.0), quaternion=(0.0, 0.0, 0.0, …"
      ]
     },
     "metadata": {},
     "output_type": "display_data"
    }
   ],
   "source": [
    "\n",
    "\n",
    "    \n",
    "# Try plotting the points in 3D: random_colors_used = sk.graph_skeleton_and_mesh(other_meshes=total_branch_meshes[:node_to_check_to],\n",
    "mesh_midpoints =  [np.array([np.mean(k.vertices,axis=0)]) for k in [v[\"branch_mesh\"] for k,v in limb_correspondence[curr_limb_idx].items() ]]\n",
    "for soma_idx,concept_graph in limb_concept_networkx[curr_limb_idx].items():\n",
    "    graph_nodes_skeleton = np.array(mesh_midpoints)[concept_graph.edges_ordered()].reshape(-1,2,3)\n",
    "    [k for k in graph_nodes_skeleton]\n",
    "    random_colors_used[:,-1] = 1\n",
    "\n",
    "\n",
    "    sk.graph_skeleton_and_mesh(\n",
    "        other_meshes=[v[\"branch_mesh\"] for k,v in limb_correspondence[curr_limb_idx].items() ],\n",
    "                          other_meshes_colors=\"random\",other_scatter=mesh_midpoints,\n",
    "                              other_scatter_colors=random_colors_used,\n",
    "                              other_skeletons=graph_nodes_skeleton,\n",
    "                              other_skeletons_colors=\"black\",\n",
    "                                                   scatter_size=1)"
   ]
  },
  {
   "cell_type": "code",
   "execution_count": null,
   "metadata": {},
   "outputs": [],
   "source": []
  }
 ],
 "metadata": {
  "kernelspec": {
   "display_name": "Python 3",
   "language": "python",
   "name": "python3"
  },
  "language_info": {
   "codemirror_mode": {
    "name": "ipython",
    "version": 3
   },
   "file_extension": ".py",
   "mimetype": "text/x-python",
   "name": "python",
   "nbconvert_exporter": "python",
   "pygments_lexer": "ipython3",
   "version": "3.6.9"
  }
 },
 "nbformat": 4,
 "nbformat_minor": 4
}
