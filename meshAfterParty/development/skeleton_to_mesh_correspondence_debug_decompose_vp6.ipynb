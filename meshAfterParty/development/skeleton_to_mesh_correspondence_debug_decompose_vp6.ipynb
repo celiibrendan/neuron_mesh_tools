{
 "cells": [
  {
   "cell_type": "code",
   "execution_count": 1,
   "metadata": {},
   "outputs": [],
   "source": [
    "from os import sys\n",
    "sys.path.append(\"../../meshAfterParty/\")"
   ]
  },
  {
   "cell_type": "code",
   "execution_count": 11,
   "metadata": {},
   "outputs": [],
   "source": [
    "import skeleton_utils as sk\n",
    "import soma_extraction_utils as sm\n",
    "import trimesh_utils as tu\n",
    "import trimesh\n",
    "import numpy_utils as nu\n",
    "import numpy as np\n",
    "from importlib import reload\n",
    "import networkx as nx\n",
    "import time\n",
    "import compartment_utils as cu\n",
    "import networkx_utils as xu\n",
    "import matplotlib_utils as mu\n",
    "\n",
    "sm = reload(sm)"
   ]
  },
  {
   "cell_type": "markdown",
   "metadata": {},
   "source": [
    "# **** Phase 1 ****"
   ]
  },
  {
   "cell_type": "markdown",
   "metadata": {},
   "source": [
    "# Starting from the very beginning of a neuron mesh"
   ]
  },
  {
   "cell_type": "code",
   "execution_count": 3,
   "metadata": {},
   "outputs": [],
   "source": [
    "current_neuron = trimesh.load_mesh(\"../../test_neurons/multi_soma_example.off\")\n",
    "segment_id = 12345"
   ]
  },
  {
   "cell_type": "code",
   "execution_count": 5,
   "metadata": {},
   "outputs": [
    {
     "name": "stderr",
     "output_type": "stream",
     "text": [
      "/usr/local/lib/python3.6/dist-packages/traittypes/traittypes.py:101: UserWarning: Given trait value dtype \"float64\" does not match required type \"float64\". A coerced copy has been created.\n",
      "  np.dtype(self.dtype).name))\n"
     ]
    },
    {
     "data": {
      "application/vnd.jupyter.widget-view+json": {
       "model_id": "933f3be0d5154a5bb851731e49114947",
       "version_major": 2,
       "version_minor": 0
      },
      "text/plain": [
       "VBox(children=(Figure(camera=PerspectiveCamera(fov=46.0, position=(0.0, 0.0, 2.0), quaternion=(0.0, 0.0, 0.0, …"
      ]
     },
     "metadata": {},
     "output_type": "display_data"
    }
   ],
   "source": [
    "sk.graph_skeleton_and_mesh(main_mesh_verts=current_neuron.vertices,\n",
    "                          main_mesh_faces=current_neuron.faces,\n",
    "                           main_mesh_color = [0.,1.,0.,0.8]\n",
    "                          )"
   ]
  },
  {
   "cell_type": "markdown",
   "metadata": {},
   "source": [
    "# Doing the soma detection"
   ]
  },
  {
   "cell_type": "code",
   "execution_count": 6,
   "metadata": {},
   "outputs": [
    {
     "name": "stdout",
     "output_type": "stream",
     "text": [
      "Current Arguments Using (adjusted for decimation):\n",
      " large_mesh_threshold= 15000.0 \n",
      "large_mesh_threshold_inner = 10000.0 \n",
      "soma_size_threshold = 1250.0 \n",
      "soma_size_threshold_max = 12000.0\n",
      "outer_decimation_ratio = 0.25\n",
      "inner_decimation_ratio = 0.25\n",
      "IN INPUT FILE VALIDATION LOOP\n",
      "LEAVING LOOP, MESH VALIDATED\n",
      "Using port = 3792\n",
      "xvfb-run -n 3792 -s \"-screen 0 800x600x24\" meshlabserver $@  -i /notebooks/neuron_mesh_tools/meshAfterParty/development/12345/neuron_12345.off -o /notebooks/neuron_mesh_tools/meshAfterParty/development/12345/neuron_12345_decimated.off -s /notebooks/neuron_mesh_tools/meshAfterParty/development/12345/decimation_meshlab_25373886.mls\n",
      "Total found significant pieces before Poisson = [<trimesh.Trimesh(vertices.shape=(139795, 3), faces.shape=(284334, 3))>]\n",
      "----- working on large mesh #0: <trimesh.Trimesh(vertices.shape=(139795, 3), faces.shape=(284334, 3))>\n",
      "pre_largest_mesh_path = /notebooks/neuron_mesh_tools/meshAfterParty/development/12345/neuron_12345_decimated_largest_piece.off\n",
      "IN INPUT FILE VALIDATION LOOP\n",
      "LEAVING LOOP, MESH VALIDATED\n",
      "Using port = 4950\n",
      "xvfb-run -n 4950 -s \"-screen 0 800x600x24\" meshlabserver $@  -i /notebooks/neuron_mesh_tools/meshAfterParty/development/12345/neuron_12345_decimated_largest_piece.off -o /notebooks/neuron_mesh_tools/meshAfterParty/development/12345/neuron_12345_decimated_largest_piece_poisson.off -s /notebooks/neuron_mesh_tools/meshAfterParty/development/12345/poisson_606605.mls\n"
     ]
    },
    {
     "name": "stderr",
     "output_type": "stream",
     "text": [
      "face_normals all zero, ignoring!\n",
      "face_normals all zero, ignoring!\n",
      "face_normals all zero, ignoring!\n",
      "face_normals all zero, ignoring!\n",
      "face_normals all zero, ignoring!\n",
      "face_normals all zero, ignoring!\n",
      "face_normals all zero, ignoring!\n",
      "face_normals all zero, ignoring!\n",
      "face_normals all zero, ignoring!\n",
      "face_normals all zero, ignoring!\n",
      "face_normals all zero, ignoring!\n",
      "face_normals all zero, ignoring!\n",
      "face_normals all zero, ignoring!\n",
      "face_normals all zero, ignoring!\n",
      "face_normals all zero, ignoring!\n",
      "face_normals all zero, ignoring!\n",
      "face_normals all zero, ignoring!\n",
      "face_normals all zero, ignoring!\n",
      "face_normals all zero, ignoring!\n",
      "face_normals all zero, ignoring!\n",
      "face_normals all zero, ignoring!\n",
      "face_normals all zero, ignoring!\n",
      "face_normals all zero, ignoring!\n",
      "face_normals all zero, ignoring!\n",
      "face_normals all zero, ignoring!\n",
      "face_normals all zero, ignoring!\n",
      "face_normals all zero, ignoring!\n",
      "face_normals all zero, ignoring!\n",
      "face_normals all zero, ignoring!\n",
      "face_normals all zero, ignoring!\n",
      "face_normals all zero, ignoring!\n",
      "face_normals all zero, ignoring!\n",
      "face_normals all zero, ignoring!\n",
      "face_normals all zero, ignoring!\n",
      "face_normals all zero, ignoring!\n",
      "face_normals all zero, ignoring!\n",
      "face_normals all zero, ignoring!\n",
      "face_normals all zero, ignoring!\n",
      "face_normals all zero, ignoring!\n",
      "face_normals all zero, ignoring!\n",
      "face_normals all zero, ignoring!\n",
      "face_normals all zero, ignoring!\n",
      "face_normals all zero, ignoring!\n",
      "face_normals all zero, ignoring!\n",
      "face_normals all zero, ignoring!\n",
      "face_normals all zero, ignoring!\n",
      "face_normals all zero, ignoring!\n",
      "face_normals all zero, ignoring!\n",
      "face_normals all zero, ignoring!\n",
      "face_normals all zero, ignoring!\n",
      "face_normals all zero, ignoring!\n",
      "face_normals all zero, ignoring!\n",
      "face_normals all zero, ignoring!\n",
      "face_normals all zero, ignoring!\n",
      "face_normals all zero, ignoring!\n",
      "face_normals all zero, ignoring!\n",
      "face_normals all zero, ignoring!\n"
     ]
    },
    {
     "name": "stdout",
     "output_type": "stream",
     "text": [
      "Total found significant pieces AFTER Poisson = [<trimesh.Trimesh(vertices.shape=(151132, 3), faces.shape=(302272, 3))>, <trimesh.Trimesh(vertices.shape=(42551, 3), faces.shape=(85098, 3))>]\n",
      "----- working on mesh after poisson #0: <trimesh.Trimesh(vertices.shape=(151132, 3), faces.shape=(302272, 3))>\n",
      "IN INPUT FILE VALIDATION LOOP\n",
      "LEAVING LOOP, MESH VALIDATED\n",
      "Using port = 6854\n",
      "xvfb-run -n 6854 -s \"-screen 0 800x600x24\" meshlabserver $@  -i /notebooks/neuron_mesh_tools/meshAfterParty/development/12345/neuron_12345_decimated_largest_piece_poisson_largest_inner.off -o /notebooks/neuron_mesh_tools/meshAfterParty/development/12345/neuron_12345_decimated_largest_piece_poisson_largest_inner_decimated.off -s /notebooks/neuron_mesh_tools/meshAfterParty/development/12345/decimation_meshlab_25572302.mls\n",
      "done exporting decimated mesh: neuron_12345_decimated_largest_piece_poisson_largest_inner.off\n",
      "1) Starting: Mesh importing and Pymesh fix\n",
      "loading mesh from vertices and triangles array\n",
      "1) Finished: Mesh importing and Pymesh fix: 0.0002865791320800781\n",
      "2) Staring: Generating CGAL segmentation for neuron\n",
      "Done writing OFF file\n",
      "\n",
      "Starting CGAL segmentation\n",
      "Right before cgal segmentation, clusters = 3, smoothness = 0.2, path_and_filename = /notebooks/neuron_mesh_tools/meshAfterParty/development/temp/1234500_fixed \n",
      "1\n",
      "Finished CGAL segmentation algorithm: 10.043302059173584\n",
      "2) Finished: Generating CGAL segmentation for neuron: 11.13101315498352\n",
      "3) Staring: Generating Graph Structure and Identifying Soma using soma size threshold  = 3000\n",
      "my_list_keys = [0, 1, 2, 3, 4, 5, 6, 7, 8, 9, 10, 11, 12, 13, 14, 15, 16, 17, 18, 19, 20, 21, 22, 23, 24, 25]\n",
      "changed the median value\n",
      "changed the mean value\n",
      "changed the max value\n",
      "changed the median value\n",
      "changed the mean value\n",
      "changed the max value\n",
      "soma_index = 8\n",
      "3) Finished: Generating Graph Structure and Identifying Soma: 0.025734663009643555\n",
      "Not finding the apical because soma_only option selected\n",
      "6) Staring: Classifying Entire Neuron\n",
      "Total Labels found = {'unsure', 'soma'}\n",
      "6) Finished: Classifying Entire Neuron: 0.00023603439331054688\n",
      "7) Staring: Transfering Segmentation Labels to Face Labels\n",
      "7) Finished: Transfering Segmentation Labels to Face Labels: 0.0665440559387207\n",
      "8) Staring: Generating final Vertex and Face Labels\n",
      "8) Finished: Generating final Vertex and Face Labels: 0.43444252014160156\n",
      "Returning the soma_sdf value AND the classifier\n",
      "soma_sdf_value = 0.86738\n",
      "segmentation[sorted_medians],median_values[sorted_medians] = (array([ 8,  0, 20,  2, 21, 17,  5, 22, 11, 23,  7, 18,  3, 14, 12, 19,  6,\n",
      "       10, 16, 15,  4,  1,  9, 24, 13, 25]), array([0.86738   , 0.158169  , 0.1191325 , 0.1133125 , 0.111872  ,\n",
      "       0.09774035, 0.09184725, 0.0644599 , 0.0578784 , 0.05519205,\n",
      "       0.0505159 , 0.0494011 , 0.0493783 , 0.04724125, 0.0463232 ,\n",
      "       0.0458986 , 0.0457825 , 0.0449783 , 0.0448833 , 0.0440531 ,\n",
      "       0.0439781 , 0.0402523 , 0.04005445, 0.0398019 , 0.03863715,\n",
      "       0.0329097 ]))\n",
      "Sizes = [6235, 10571, 700, 2238, 115, 1542, 2512, 259, 423, 3786, 4496, 6100, 3919, 3592, 1726, 6253, 3984, 4039, 3191, 1175, 749, 2259, 3310, 957, 626, 811]\n",
      "valid_soma_segments_width\n",
      "      ------ Found 1 viable somas: [8]\n",
      "Using Poisson Surface Reconstruction to make mesh watertight\n",
      "IN INPUT FILE VALIDATION LOOP\n",
      "LEAVING LOOP, MESH VALIDATED\n",
      "Using port = 5249\n",
      "xvfb-run -n 5249 -s \"-screen 0 800x600x24\" meshlabserver $@  -i /notebooks/neuron_mesh_tools/meshAfterParty/development/Poisson_temp/neuron_124643.off -o /notebooks/neuron_mesh_tools/meshAfterParty/development/Poisson_temp/neuron_124643_poisson.off -s /notebooks/neuron_mesh_tools/meshAfterParty/development/Poisson_temp/poisson_629798.mls\n"
     ]
    },
    {
     "name": "stderr",
     "output_type": "stream",
     "text": [
      "face_normals all zero, ignoring!\n",
      "face_normals all zero, ignoring!\n"
     ]
    },
    {
     "name": "stdout",
     "output_type": "stream",
     "text": [
      "removed temporary input file: /notebooks/neuron_mesh_tools/meshAfterParty/development/Poisson_temp/neuron_124643.off\n",
      "removed temporary output file: /notebooks/neuron_mesh_tools/meshAfterParty/development/Poisson_temp/neuron_124643_poisson.off\n",
      "/notebooks/neuron_mesh_tools/meshAfterParty/development/Poisson_temp/poisson_629798.mls is being deleted....\n",
      "Inside sphere validater: ratio_val = 2.882922788675577\n",
      "----- working on mesh after poisson #1: <trimesh.Trimesh(vertices.shape=(42551, 3), faces.shape=(85098, 3))>\n",
      "IN INPUT FILE VALIDATION LOOP\n",
      "LEAVING LOOP, MESH VALIDATED\n",
      "Using port = 5813\n",
      "xvfb-run -n 5813 -s \"-screen 0 800x600x24\" meshlabserver $@  -i /notebooks/neuron_mesh_tools/meshAfterParty/development/12345/neuron_12345_decimated_largest_piece_poisson_largest_inner.off -o /notebooks/neuron_mesh_tools/meshAfterParty/development/12345/neuron_12345_decimated_largest_piece_poisson_largest_inner_decimated.off -s /notebooks/neuron_mesh_tools/meshAfterParty/development/12345/decimation_meshlab_25572302.mls\n",
      "done exporting decimated mesh: neuron_12345_decimated_largest_piece_poisson_largest_inner.off\n",
      "1) Starting: Mesh importing and Pymesh fix\n",
      "loading mesh from vertices and triangles array\n",
      "1) Finished: Mesh importing and Pymesh fix: 0.00025177001953125\n",
      "2) Staring: Generating CGAL segmentation for neuron\n",
      "Done writing OFF file\n",
      "\n",
      "Starting CGAL segmentation\n",
      "Right before cgal segmentation, clusters = 3, smoothness = 0.2, path_and_filename = /notebooks/neuron_mesh_tools/meshAfterParty/development/temp/1234501_fixed \n",
      "1\n",
      "Finished CGAL segmentation algorithm: 1.8818883895874023\n",
      "2) Finished: Generating CGAL segmentation for neuron: 2.198028326034546\n",
      "3) Staring: Generating Graph Structure and Identifying Soma using soma size threshold  = 3000\n",
      "my_list_keys = [0, 1, 2, 3, 4, 5, 6, 7, 8, 9, 10, 11]\n",
      "changed the median value\n",
      "changed the mean value\n",
      "changed the max value\n",
      "changed the median value\n",
      "changed the mean value\n",
      "changed the max value\n",
      "changed the median value\n",
      "changed the mean value\n",
      "changed the max value\n",
      "soma_index = 6\n",
      "3) Finished: Generating Graph Structure and Identifying Soma: 0.008336305618286133\n",
      "Not finding the apical because soma_only option selected\n",
      "6) Staring: Classifying Entire Neuron\n",
      "Total Labels found = {'unsure', 'soma'}\n",
      "6) Finished: Classifying Entire Neuron: 5.53131103515625e-05\n",
      "7) Staring: Transfering Segmentation Labels to Face Labels\n",
      "7) Finished: Transfering Segmentation Labels to Face Labels: 0.018845796585083008\n",
      "8) Staring: Generating final Vertex and Face Labels\n",
      "8) Finished: Generating final Vertex and Face Labels: 0.19129705429077148\n",
      "Returning the soma_sdf value AND the classifier\n",
      "soma_sdf_value = 0.8608505\n",
      "segmentation[sorted_medians],median_values[sorted_medians] = (array([ 6, 10,  3,  2, 11,  9,  7,  5,  1,  8,  4,  0]), array([0.8608505, 0.130472 , 0.123803 , 0.100414 , 0.0995433, 0.062865 ,\n",
      "       0.0573147, 0.0541266, 0.0417295, 0.0410741, 0.0397183, 0.0262815]))\n",
      "Sizes = [4236, 758, 964, 623, 544, 2745, 658, 5778, 3023, 351, 1155, 439]\n",
      "valid_soma_segments_width\n",
      "      ------ Found 1 viable somas: [6]\n",
      "Using Poisson Surface Reconstruction to make mesh watertight\n",
      "IN INPUT FILE VALIDATION LOOP\n",
      "LEAVING LOOP, MESH VALIDATED\n",
      "Using port = 1453\n",
      "xvfb-run -n 1453 -s \"-screen 0 800x600x24\" meshlabserver $@  -i /notebooks/neuron_mesh_tools/meshAfterParty/development/Poisson_temp/neuron_121936.off -o /notebooks/neuron_mesh_tools/meshAfterParty/development/Poisson_temp/neuron_121936_poisson.off -s /notebooks/neuron_mesh_tools/meshAfterParty/development/Poisson_temp/poisson_196610.mls\n"
     ]
    },
    {
     "name": "stderr",
     "output_type": "stream",
     "text": [
      "face_normals all zero, ignoring!\n",
      "face_normals all zero, ignoring!\n",
      "face_normals all zero, ignoring!\n",
      "face_normals all zero, ignoring!\n",
      "face_normals all zero, ignoring!\n"
     ]
    },
    {
     "name": "stdout",
     "output_type": "stream",
     "text": [
      "removed temporary input file: /notebooks/neuron_mesh_tools/meshAfterParty/development/Poisson_temp/neuron_121936.off\n",
      "removed temporary output file: /notebooks/neuron_mesh_tools/meshAfterParty/development/Poisson_temp/neuron_121936_poisson.off\n",
      "/notebooks/neuron_mesh_tools/meshAfterParty/development/Poisson_temp/poisson_196610.mls is being deleted....\n",
      "Inside sphere validater: ratio_val = 3.0502651518210446\n",
      "\n",
      "\n",
      "\n",
      " Total time for run = 116.88151454925537\n"
     ]
    }
   ],
   "source": [
    "soma_mesh_list,run_time,total_soma_list_sdf = sm.extract_soma_center(segment_id,\n",
    "                                             current_neuron.vertices,\n",
    "                                             current_neuron.faces)"
   ]
  },
  {
   "cell_type": "markdown",
   "metadata": {},
   "source": [
    "# At this point assume that there are somas (if not would just skip to the limb skeleton stuff)"
   ]
  },
  {
   "cell_type": "code",
   "execution_count": 7,
   "metadata": {},
   "outputs": [
    {
     "data": {
      "application/vnd.jupyter.widget-view+json": {
       "model_id": "cd10f51c135546d69de981e2c0ba9f6b",
       "version_major": 2,
       "version_minor": 0
      },
      "text/plain": [
       "VBox(children=(Figure(camera=PerspectiveCamera(fov=46.0, position=(0.0, 0.0, 2.0), quaternion=(0.0, 0.0, 0.0, …"
      ]
     },
     "metadata": {},
     "output_type": "display_data"
    }
   ],
   "source": [
    "# Visualizing the somas: \n",
    "total_soma = tu.combine_meshes(soma_mesh_list)\n",
    "soma_meshes = total_soma\n",
    "sk.graph_skeleton_and_mesh(main_mesh_verts=soma_meshes.vertices,\n",
    "                          main_mesh_faces=soma_meshes.faces,\n",
    "                           main_mesh_color = [0.,1.,0.,0.8]\n",
    "                          )"
   ]
  },
  {
   "cell_type": "code",
   "execution_count": 8,
   "metadata": {},
   "outputs": [
    {
     "name": "stdout",
     "output_type": "stream",
     "text": [
      "Soma List = [<trimesh.Trimesh(vertices.shape=(3177, 3), faces.shape=(6235, 3))>, <trimesh.Trimesh(vertices.shape=(2138, 3), faces.shape=(4236, 3))>]\n",
      "soma_mesh_list_centers = [array([756915.02275732, 958987.26197671, 874182.12348127]), array([864025.20827876, 994593.71529467, 859608.41014967])]\n"
     ]
    }
   ],
   "source": [
    "# geting the soma centers\n",
    "if len(soma_mesh_list) <= 0:\n",
    "    print(f\"**** No Somas Found for Mesh {segment_id} so just one mesh\")\n",
    "    soma_mesh_list_centers = []\n",
    "else:\n",
    "    #compute the soma centers\n",
    "    print(f\"Soma List = {soma_mesh_list}\")\n",
    "\n",
    "    soma_mesh_list_centers = sm.find_soma_centroids(soma_mesh_list)\n",
    "    print(f\"soma_mesh_list_centers = {soma_mesh_list_centers}\")"
   ]
  },
  {
   "cell_type": "markdown",
   "metadata": {},
   "source": [
    "# getting the soma submeshes that are connected to each soma and identifiying those that aren't (and eliminating any mesh pieces inside the soma)"
   ]
  },
  {
   "cell_type": "code",
   "execution_count": 9,
   "metadata": {},
   "outputs": [
    {
     "name": "stdout",
     "output_type": "stream",
     "text": [
      "# total split meshes = 79\n"
     ]
    },
    {
     "data": {
      "text/plain": [
       "{0: 0, 1: 0}"
      ]
     },
     "execution_count": 9,
     "metadata": {},
     "output_type": "execute_result"
    }
   ],
   "source": [
    "main_mesh_total = current_neuron\n",
    "sig_th_initial_split=15\n",
    "\n",
    "#finding the mesh pieces that contain the soma\n",
    "#splitting the current neuron into distinct pieces\n",
    "split_meshes = tu.split_significant_pieces(\n",
    "                            main_mesh_total,\n",
    "                            significance_threshold=sig_th_initial_split,\n",
    "                            print_flag=False)\n",
    "\n",
    "print(f\"# total split meshes = {len(split_meshes)}\")\n",
    "\n",
    "\n",
    "#returns the index of the split_meshes index that contains each soma    \n",
    "containing_mesh_indices = sm.find_soma_centroid_containing_meshes(soma_mesh_list_centers,\n",
    "                                        split_meshes)\n",
    "\n",
    "containing_mesh_indices"
   ]
  },
  {
   "cell_type": "code",
   "execution_count": 12,
   "metadata": {},
   "outputs": [
    {
     "name": "stdout",
     "output_type": "stream",
     "text": [
      "There were 78 pieces found after size threshold\n",
      "# of non soma touching seperate meshes = 44\n",
      "# of soma containing seperate meshes = 1\n",
      "meshes with somas = {0: [0, 1]}\n"
     ]
    }
   ],
   "source": [
    "# filtering away any of the inside floating pieces: \n",
    "\n",
    "non_soma_touching_meshes = [m for i,m in enumerate(split_meshes)\n",
    "                 if i not in list(containing_mesh_indices.values())]\n",
    "\n",
    "\n",
    "#Adding the step that will filter away any pieces that are inside the soma\n",
    "if len(non_soma_touching_meshes) > 0 and len(soma_mesh_list) > 0:\n",
    "    non_soma_touching_meshes = sm.filter_away_inside_soma_pieces(soma_mesh_list,non_soma_touching_meshes,\n",
    "                                    significance_threshold=sig_th_initial_split)                                                      \n",
    "\n",
    "\n",
    "split_meshes # the meshes of the original mesh\n",
    "containing_mesh_indices #the mapping of each soma centroid to the correct split mesh\n",
    "soma_containing_meshes = sm.grouping_containing_mesh_indices(containing_mesh_indices)\n",
    "\n",
    "soma_touching_meshes = [split_meshes[k] for k in soma_containing_meshes.keys()]\n",
    "\n",
    "    \n",
    "print(f\"# of non soma touching seperate meshes = {len(non_soma_touching_meshes)}\")\n",
    "print(f\"# of soma containing seperate meshes = {len(soma_touching_meshes)}\")\n",
    "print(f\"meshes with somas = {soma_containing_meshes}\")"
   ]
  },
  {
   "cell_type": "markdown",
   "metadata": {},
   "source": [
    "# Soma Extraction was great (but it wasn't the original soma faces), so now need to get the original soma faces and the original non-soma faces of original pieces"
   ]
  },
  {
   "cell_type": "code",
   "execution_count": 13,
   "metadata": {},
   "outputs": [
    {
     "name": "stdout",
     "output_type": "stream",
     "text": [
      "\n",
      "\n",
      "----Working on soma-containing mesh piece {z}----\n",
      "\n",
      "inside Soma subtraction\n",
      "mesh pieces in subtact soma BEFORE the filtering inside pieces = [<trimesh.Trimesh(vertices.shape=(153651, 3), faces.shape=(308343, 3))>, <trimesh.Trimesh(vertices.shape=(87663, 3), faces.shape=(176175, 3))>, <trimesh.Trimesh(vertices.shape=(56972, 3), faces.shape=(114671, 3))>, <trimesh.Trimesh(vertices.shape=(54953, 3), faces.shape=(110120, 3))>, <trimesh.Trimesh(vertices.shape=(53735, 3), faces.shape=(107788, 3))>, <trimesh.Trimesh(vertices.shape=(51875, 3), faces.shape=(104099, 3))>, <trimesh.Trimesh(vertices.shape=(29324, 3), faces.shape=(58779, 3))>, <trimesh.Trimesh(vertices.shape=(29151, 3), faces.shape=(58543, 3))>, <trimesh.Trimesh(vertices.shape=(14725, 3), faces.shape=(29598, 3))>, <trimesh.Trimesh(vertices.shape=(3865, 3), faces.shape=(7718, 3))>, <trimesh.Trimesh(vertices.shape=(1159, 3), faces.shape=(2282, 3))>]\n",
      "There were 11 pieces found after size threshold\n",
      "mesh pieces in subtact soma AFTER the filtering inside pieces = [<trimesh.Trimesh(vertices.shape=(153651, 3), faces.shape=(308343, 3))>, <trimesh.Trimesh(vertices.shape=(87663, 3), faces.shape=(176175, 3))>, <trimesh.Trimesh(vertices.shape=(56972, 3), faces.shape=(114671, 3))>, <trimesh.Trimesh(vertices.shape=(54953, 3), faces.shape=(110120, 3))>, <trimesh.Trimesh(vertices.shape=(53735, 3), faces.shape=(107788, 3))>, <trimesh.Trimesh(vertices.shape=(51875, 3), faces.shape=(104099, 3))>, <trimesh.Trimesh(vertices.shape=(29324, 3), faces.shape=(58779, 3))>, <trimesh.Trimesh(vertices.shape=(29151, 3), faces.shape=(58543, 3))>, <trimesh.Trimesh(vertices.shape=(14725, 3), faces.shape=(29598, 3))>, <trimesh.Trimesh(vertices.shape=(3865, 3), faces.shape=(7718, 3))>, <trimesh.Trimesh(vertices.shape=(1159, 3), faces.shape=(2282, 3))>]\n",
      "Total Time for soma mesh cancellation = 2.463\n"
     ]
    },
    {
     "data": {
      "text/plain": [
       "{0: {'branch_meshes': [<trimesh.Trimesh(vertices.shape=(153651, 3), faces.shape=(308343, 3))>,\n",
       "   <trimesh.Trimesh(vertices.shape=(87663, 3), faces.shape=(176175, 3))>,\n",
       "   <trimesh.Trimesh(vertices.shape=(56972, 3), faces.shape=(114671, 3))>,\n",
       "   <trimesh.Trimesh(vertices.shape=(54953, 3), faces.shape=(110120, 3))>,\n",
       "   <trimesh.Trimesh(vertices.shape=(53735, 3), faces.shape=(107788, 3))>,\n",
       "   <trimesh.Trimesh(vertices.shape=(51875, 3), faces.shape=(104099, 3))>,\n",
       "   <trimesh.Trimesh(vertices.shape=(29324, 3), faces.shape=(58779, 3))>,\n",
       "   <trimesh.Trimesh(vertices.shape=(29151, 3), faces.shape=(58543, 3))>,\n",
       "   <trimesh.Trimesh(vertices.shape=(14725, 3), faces.shape=(29598, 3))>,\n",
       "   <trimesh.Trimesh(vertices.shape=(3865, 3), faces.shape=(7718, 3))>,\n",
       "   <trimesh.Trimesh(vertices.shape=(1159, 3), faces.shape=(2282, 3))>],\n",
       "  'soma_meshes': array([<trimesh.Trimesh(vertices.shape=(20481, 3), faces.shape=(40659, 3))>,\n",
       "         <trimesh.Trimesh(vertices.shape=(14158, 3), faces.shape=(28309, 3))>],\n",
       "        dtype=object),\n",
       "  'soma_to_piece_connectivity': {0: [0, 1, 2, 3, 5, 10],\n",
       "   1: [1, 4, 6, 7, 8, 9]}}}"
      ]
     },
     "execution_count": 13,
     "metadata": {},
     "output_type": "execute_result"
    }
   ],
   "source": [
    "from importlib import reload\n",
    "sm = reload(sm)\n",
    "tu = reload(tu)\n",
    "\n",
    "\"\"\"\n",
    "for each soma touching mesh get the following:\n",
    "1) original soma meshes\n",
    "2) significant mesh pieces touching these somas\n",
    "3) The soma connectivity to each of the significant mesh pieces\n",
    "-- later will just translate the \n",
    "\n",
    "\n",
    "Process: \n",
    "\n",
    "1) Final all soma faces (through soma extraction and then soma original faces function)\n",
    "2) Subtact all soma faces from original mesh\n",
    "3) Find all significant mesh pieces\n",
    "4) Backtrack significant mesh pieces to orignal mesh and find connectivity of each to all\n",
    "   the available somas\n",
    "Conclusion: Will have connectivity map\n",
    "\n",
    "\n",
    "\"\"\"\n",
    "\n",
    "soma_touching_mesh_data = dict()\n",
    "\n",
    "for z,(mesh_idx, soma_idxes) in enumerate(soma_containing_meshes.items()):\n",
    "    soma_touching_mesh_data[z] = dict()\n",
    "    print(\"\\n\\n----Working on soma-containing mesh piece {z}----\")\n",
    "\n",
    "    #1) Final all soma faces (through soma extraction and then soma original faces function)\n",
    "    current_mesh = split_meshes[mesh_idx]\n",
    "\n",
    "    current_soma_mesh_list = [soma_mesh_list[k] for k in soma_idxes]\n",
    "\n",
    "    mesh_pieces_without_soma = sm.subtract_soma(current_soma_mesh_list,current_mesh,\n",
    "                                                significance_threshold=250)\n",
    "\n",
    "    mesh_pieces_without_soma_stacked = tu.combine_meshes(mesh_pieces_without_soma)\n",
    "    \n",
    "    # find the original soma faces of mesh\n",
    "    soma_faces = tu.original_mesh_faces_map(current_mesh,mesh_pieces_without_soma_stacked,matching=False)\n",
    "    soma_meshes = current_mesh.submesh([soma_faces],append=True)\n",
    "    \n",
    "    # finding the non-soma original faces\n",
    "    non_soma_faces = tu.original_mesh_faces_map(current_mesh,soma_meshes,matching=False)\n",
    "    non_soma_stacked_mesh = current_mesh.submesh([non_soma_faces],append=True)\n",
    "    \n",
    "    # 3) Find all significant mesh pieces\n",
    "    sig_non_soma_pieces = tu.split_significant_pieces(non_soma_stacked_mesh,significance_threshold=200)\n",
    "   \n",
    "    \n",
    "    soma_touching_mesh_data[z][\"branch_meshes\"] = sig_non_soma_pieces\n",
    "    \n",
    "    #4) Backtrack significant mesh pieces to orignal mesh and find connectivity of each to all the available somas\n",
    "    # get all the seperate mesh faces\n",
    "\n",
    "    #How to seperate the mesh faces\n",
    "    seperate_soma_meshes,soma_face_components = tu.split(soma_meshes,only_watertight=False)\n",
    "    soma_touching_mesh_data[z][\"soma_meshes\"] = seperate_soma_meshes\n",
    "    \n",
    "    \n",
    "    soma_to_piece_connectivity = dict()\n",
    "    for i,curr_soma in enumerate(seperate_soma_meshes):\n",
    "        connected_mesh_pieces,connected_mesh_pieces_vertices  = tu.mesh_pieces_connectivity(\n",
    "                        main_mesh=current_mesh,\n",
    "                        central_piece=curr_soma,\n",
    "                        periphery_pieces = sig_non_soma_pieces,\n",
    "                        return_vertices = True)\n",
    "        #print(f\"soma {i}: connected_mesh_pieces = {connected_mesh_pieces}\")\n",
    "        soma_to_piece_connectivity[i] = connected_mesh_pieces\n",
    "    \n",
    "    \n",
    "    soma_touching_mesh_data[z][\"soma_to_piece_connectivity\"] = soma_to_piece_connectivity\n",
    "\n",
    "soma_touching_mesh_data"
   ]
  },
  {
   "cell_type": "markdown",
   "metadata": {},
   "source": [
    "# ****Soma Touching mesh Data has the branches and the connectivity (So this is where you end up skipping if you don't have somas)***"
   ]
  },
  {
   "cell_type": "markdown",
   "metadata": {},
   "source": [
    "# Working on the Actual skeleton of all of the branches"
   ]
  },
  {
   "cell_type": "code",
   "execution_count": 14,
   "metadata": {
    "scrolled": true
   },
   "outputs": [
    {
     "name": "stdout",
     "output_type": "stream",
     "text": [
      "\n",
      "-- Working on Soma Continaing Mesh 0--\n",
      "\n",
      "    -- Working on branch 0--\n",
      "     Starting Screened Poisson\n",
      "IN INPUT FILE VALIDATION LOOP\n",
      "LEAVING LOOP, MESH VALIDATED\n",
      "Using port = 8087\n",
      "xvfb-run -n 8087 -s \"-screen 0 800x600x24\" meshlabserver $@  -i /notebooks/neuron_mesh_tools/meshAfterParty/development/temp/None.off -o /notebooks/neuron_mesh_tools/meshAfterParty/development/temp/None_poisson.off -s /notebooks/neuron_mesh_tools/meshAfterParty/development/temp/poisson_479441.mls\n",
      "-----Time for Screened Poisson= 39.354005098342896\n"
     ]
    },
    {
     "name": "stderr",
     "output_type": "stream",
     "text": [
      "face_normals all zero, ignoring!\n",
      "face_normals all zero, ignoring!\n",
      "face_normals all zero, ignoring!\n",
      "face_normals all zero, ignoring!\n",
      "face_normals all zero, ignoring!\n",
      "face_normals all zero, ignoring!\n",
      "face_normals all zero, ignoring!\n",
      "face_normals all zero, ignoring!\n",
      "face_normals all zero, ignoring!\n",
      "face_normals all zero, ignoring!\n",
      "face_normals all zero, ignoring!\n",
      "face_normals all zero, ignoring!\n",
      "face_normals all zero, ignoring!\n",
      "face_normals all zero, ignoring!\n",
      "face_normals all zero, ignoring!\n",
      "face_normals all zero, ignoring!\n",
      "face_normals all zero, ignoring!\n",
      "face_normals all zero, ignoring!\n",
      "face_normals all zero, ignoring!\n",
      "face_normals all zero, ignoring!\n",
      "face_normals all zero, ignoring!\n",
      "face_normals all zero, ignoring!\n",
      "face_normals all zero, ignoring!\n",
      "face_normals all zero, ignoring!\n",
      "face_normals all zero, ignoring!\n",
      "face_normals all zero, ignoring!\n",
      "face_normals all zero, ignoring!\n",
      "face_normals all zero, ignoring!\n",
      "face_normals all zero, ignoring!\n",
      "face_normals all zero, ignoring!\n",
      "face_normals all zero, ignoring!\n",
      "face_normals all zero, ignoring!\n",
      "face_normals all zero, ignoring!\n",
      "face_normals all zero, ignoring!\n",
      "face_normals all zero, ignoring!\n",
      "face_normals all zero, ignoring!\n",
      "face_normals all zero, ignoring!\n",
      "face_normals all zero, ignoring!\n",
      "face_normals all zero, ignoring!\n",
      "face_normals all zero, ignoring!\n",
      "face_normals all zero, ignoring!\n",
      "face_normals all zero, ignoring!\n",
      "face_normals all zero, ignoring!\n",
      "face_normals all zero, ignoring!\n",
      "face_normals all zero, ignoring!\n",
      "face_normals all zero, ignoring!\n",
      "face_normals all zero, ignoring!\n",
      "face_normals all zero, ignoring!\n",
      "face_normals all zero, ignoring!\n",
      "face_normals all zero, ignoring!\n",
      "face_normals all zero, ignoring!\n",
      "face_normals all zero, ignoring!\n",
      "face_normals all zero, ignoring!\n",
      "face_normals all zero, ignoring!\n",
      "face_normals all zero, ignoring!\n",
      "face_normals all zero, ignoring!\n",
      "face_normals all zero, ignoring!\n",
      "face_normals all zero, ignoring!\n",
      "face_normals all zero, ignoring!\n",
      "face_normals all zero, ignoring!\n",
      "face_normals all zero, ignoring!\n",
      "face_normals all zero, ignoring!\n",
      "face_normals all zero, ignoring!\n",
      "face_normals all zero, ignoring!\n",
      "face_normals all zero, ignoring!\n",
      "face_normals all zero, ignoring!\n",
      "face_normals all zero, ignoring!\n",
      "face_normals all zero, ignoring!\n",
      "face_normals all zero, ignoring!\n",
      "face_normals all zero, ignoring!\n",
      "face_normals all zero, ignoring!\n",
      "face_normals all zero, ignoring!\n",
      "face_normals all zero, ignoring!\n",
      "face_normals all zero, ignoring!\n",
      "face_normals all zero, ignoring!\n",
      "face_normals all zero, ignoring!\n",
      "face_normals all zero, ignoring!\n",
      "face_normals all zero, ignoring!\n",
      "face_normals all zero, ignoring!\n",
      "face_normals all zero, ignoring!\n",
      "face_normals all zero, ignoring!\n",
      "face_normals all zero, ignoring!\n",
      "face_normals all zero, ignoring!\n",
      "face_normals all zero, ignoring!\n",
      "face_normals all zero, ignoring!\n",
      "face_normals all zero, ignoring!\n",
      "face_normals all zero, ignoring!\n",
      "face_normals all zero, ignoring!\n"
     ]
    },
    {
     "name": "stdout",
     "output_type": "stream",
     "text": [
      "     Starting Calcification\n",
      "Before mesh subtraction number of skeleton edges = 4160\n",
      "Inside mesh subtraction, len(main_mesh_bbox_restricted.faces) = 308343\n"
     ]
    },
    {
     "data": {
      "application/vnd.jupyter.widget-view+json": {
       "model_id": "8793c220e18d4150b208126a698dd490",
       "version_major": 2,
       "version_minor": 0
      },
      "text/plain": [
       "HBox(children=(FloatProgress(value=1.0, bar_style='info', max=1.0), HTML(value='')))"
      ]
     },
     "metadata": {},
     "output_type": "display_data"
    },
    {
     "name": "stderr",
     "output_type": "stream",
     "text": [
      "No adjacent faces detected! Did you merge vertices?\n",
      "No adjacent faces detected! Did you merge vertices?\n",
      "No adjacent faces detected! Did you merge vertices?\n"
     ]
    },
    {
     "name": "stdout",
     "output_type": "stream",
     "text": [
      "\n",
      "Total Mesh subtraction time = 81.4563\n"
     ]
    },
    {
     "data": {
      "application/vnd.jupyter.widget-view+json": {
       "model_id": "79a73c3a0f2b4110822a01b7eafa377d",
       "version_major": 2,
       "version_minor": 0
      },
      "text/plain": [
       "HBox(children=(FloatProgress(value=0.0, max=219.0), HTML(value='')))"
      ]
     },
     "metadata": {},
     "output_type": "display_data"
    },
    {
     "name": "stdout",
     "output_type": "stream",
     "text": [
      "\n",
      "len_subgraphs AT BEGINNING of the loop\n"
     ]
    },
    {
     "data": {
      "application/vnd.jupyter.widget-view+json": {
       "model_id": "18855758f8f2417e948b8d36e49c726e",
       "version_major": 2,
       "version_minor": 0
      },
      "text/plain": [
       "HBox(children=(FloatProgress(value=0.0, max=747.0), HTML(value='')))"
      ]
     },
     "metadata": {},
     "output_type": "display_data"
    },
    {
     "name": "stdout",
     "output_type": "stream",
     "text": [
      "all graph is one component!\n",
      "\n",
      "Total time for skeleton stitching = 1.901305913925171\n",
      "The process was using a temp folder\n",
      "Using Distance measure skeletal_distance\n"
     ]
    },
    {
     "data": {
      "application/vnd.jupyter.widget-view+json": {
       "model_id": "87d13eef544c465a9efa075e7ebb2003",
       "version_major": 2,
       "version_minor": 0
      },
      "text/plain": [
       "HBox(children=(FloatProgress(value=0.0, max=724.0), HTML(value='')))"
      ]
     },
     "metadata": {},
     "output_type": "display_data"
    },
    {
     "name": "stdout",
     "output_type": "stream",
     "text": [
      "    Total time for skeleton and cleaning of branch 0: 50.47656726837158\n",
      "\n",
      "    -- Working on branch 1--\n",
      "     Starting Screened Poisson\n",
      "IN INPUT FILE VALIDATION LOOP\n",
      "LEAVING LOOP, MESH VALIDATED\n",
      "Using port = 1604\n",
      "xvfb-run -n 1604 -s \"-screen 0 800x600x24\" meshlabserver $@  -i /notebooks/neuron_mesh_tools/meshAfterParty/development/temp/None.off -o /notebooks/neuron_mesh_tools/meshAfterParty/development/temp/None_poisson.off -s /notebooks/neuron_mesh_tools/meshAfterParty/development/temp/poisson_582943.mls\n",
      "-----Time for Screened Poisson= 22.583096981048584\n"
     ]
    },
    {
     "name": "stderr",
     "output_type": "stream",
     "text": [
      "face_normals all zero, ignoring!\n",
      "face_normals all zero, ignoring!\n",
      "face_normals all zero, ignoring!\n",
      "face_normals all zero, ignoring!\n",
      "face_normals all zero, ignoring!\n",
      "face_normals all zero, ignoring!\n",
      "face_normals all zero, ignoring!\n",
      "face_normals all zero, ignoring!\n",
      "face_normals all zero, ignoring!\n",
      "face_normals all zero, ignoring!\n",
      "face_normals all zero, ignoring!\n",
      "face_normals all zero, ignoring!\n",
      "face_normals all zero, ignoring!\n",
      "face_normals all zero, ignoring!\n",
      "face_normals all zero, ignoring!\n",
      "face_normals all zero, ignoring!\n",
      "face_normals all zero, ignoring!\n",
      "face_normals all zero, ignoring!\n",
      "face_normals all zero, ignoring!\n",
      "face_normals all zero, ignoring!\n",
      "face_normals all zero, ignoring!\n",
      "face_normals all zero, ignoring!\n",
      "face_normals all zero, ignoring!\n",
      "face_normals all zero, ignoring!\n",
      "face_normals all zero, ignoring!\n",
      "face_normals all zero, ignoring!\n",
      "face_normals all zero, ignoring!\n",
      "face_normals all zero, ignoring!\n",
      "face_normals all zero, ignoring!\n",
      "face_normals all zero, ignoring!\n",
      "face_normals all zero, ignoring!\n",
      "face_normals all zero, ignoring!\n",
      "face_normals all zero, ignoring!\n",
      "face_normals all zero, ignoring!\n",
      "face_normals all zero, ignoring!\n",
      "face_normals all zero, ignoring!\n",
      "face_normals all zero, ignoring!\n",
      "face_normals all zero, ignoring!\n",
      "face_normals all zero, ignoring!\n",
      "face_normals all zero, ignoring!\n",
      "face_normals all zero, ignoring!\n",
      "face_normals all zero, ignoring!\n",
      "face_normals all zero, ignoring!\n",
      "face_normals all zero, ignoring!\n",
      "face_normals all zero, ignoring!\n",
      "face_normals all zero, ignoring!\n",
      "face_normals all zero, ignoring!\n",
      "face_normals all zero, ignoring!\n",
      "face_normals all zero, ignoring!\n",
      "face_normals all zero, ignoring!\n",
      "face_normals all zero, ignoring!\n",
      "face_normals all zero, ignoring!\n",
      "face_normals all zero, ignoring!\n",
      "face_normals all zero, ignoring!\n"
     ]
    },
    {
     "name": "stdout",
     "output_type": "stream",
     "text": [
      "     Starting Calcification\n",
      "Before mesh subtraction number of skeleton edges = 2830\n",
      "Inside mesh subtraction, len(main_mesh_bbox_restricted.faces) = 176175\n"
     ]
    },
    {
     "data": {
      "application/vnd.jupyter.widget-view+json": {
       "model_id": "bdc21881acc24f0fa051670da61f44bd",
       "version_major": 2,
       "version_minor": 0
      },
      "text/plain": [
       "HBox(children=(FloatProgress(value=1.0, bar_style='info', max=1.0), HTML(value='')))"
      ]
     },
     "metadata": {},
     "output_type": "display_data"
    },
    {
     "name": "stdout",
     "output_type": "stream",
     "text": [
      "\n",
      "Total Mesh subtraction time = 44.6386\n"
     ]
    },
    {
     "data": {
      "application/vnd.jupyter.widget-view+json": {
       "model_id": "f8c870b3e2194d109a420e77069b0149",
       "version_major": 2,
       "version_minor": 0
      },
      "text/plain": [
       "HBox(children=(FloatProgress(value=0.0, max=142.0), HTML(value='')))"
      ]
     },
     "metadata": {},
     "output_type": "display_data"
    },
    {
     "name": "stdout",
     "output_type": "stream",
     "text": [
      "\n",
      "len_subgraphs AT BEGINNING of the loop\n"
     ]
    },
    {
     "data": {
      "application/vnd.jupyter.widget-view+json": {
       "model_id": "3735ad610e3d473e98cc5e23a90487d9",
       "version_major": 2,
       "version_minor": 0
      },
      "text/plain": [
       "HBox(children=(FloatProgress(value=0.0, max=467.0), HTML(value='')))"
      ]
     },
     "metadata": {},
     "output_type": "display_data"
    },
    {
     "name": "stdout",
     "output_type": "stream",
     "text": [
      "all graph is one component!\n",
      "Total time for skeleton stitching = 0.8515629768371582\n",
      "The process was using a temp folder\n",
      "Using Distance measure skeletal_distance\n"
     ]
    },
    {
     "data": {
      "application/vnd.jupyter.widget-view+json": {
       "model_id": "a08fc2d0dc18443a8014944d565f374d",
       "version_major": 2,
       "version_minor": 0
      },
      "text/plain": [
       "HBox(children=(FloatProgress(value=0.0, max=425.0), HTML(value='')))"
      ]
     },
     "metadata": {},
     "output_type": "display_data"
    },
    {
     "name": "stdout",
     "output_type": "stream",
     "text": [
      "    Total time for skeleton and cleaning of branch 1: 19.931042671203613\n",
      "\n",
      "    -- Working on branch 2--\n",
      "     Starting Screened Poisson\n",
      "IN INPUT FILE VALIDATION LOOP\n",
      "LEAVING LOOP, MESH VALIDATED\n",
      "Using port = 6419\n",
      "xvfb-run -n 6419 -s \"-screen 0 800x600x24\" meshlabserver $@  -i /notebooks/neuron_mesh_tools/meshAfterParty/development/temp/None.off -o /notebooks/neuron_mesh_tools/meshAfterParty/development/temp/None_poisson.off -s /notebooks/neuron_mesh_tools/meshAfterParty/development/temp/poisson_431625.mls\n",
      "-----Time for Screened Poisson= 18.924469232559204\n"
     ]
    },
    {
     "name": "stderr",
     "output_type": "stream",
     "text": [
      "face_normals all zero, ignoring!\n",
      "face_normals all zero, ignoring!\n",
      "face_normals all zero, ignoring!\n",
      "face_normals all zero, ignoring!\n",
      "face_normals all zero, ignoring!\n",
      "face_normals all zero, ignoring!\n",
      "face_normals all zero, ignoring!\n",
      "face_normals all zero, ignoring!\n",
      "face_normals all zero, ignoring!\n",
      "face_normals all zero, ignoring!\n",
      "face_normals all zero, ignoring!\n",
      "face_normals all zero, ignoring!\n",
      "face_normals all zero, ignoring!\n",
      "face_normals all zero, ignoring!\n",
      "face_normals all zero, ignoring!\n",
      "face_normals all zero, ignoring!\n",
      "face_normals all zero, ignoring!\n",
      "face_normals all zero, ignoring!\n",
      "face_normals all zero, ignoring!\n",
      "face_normals all zero, ignoring!\n",
      "face_normals all zero, ignoring!\n",
      "face_normals all zero, ignoring!\n",
      "face_normals all zero, ignoring!\n",
      "face_normals all zero, ignoring!\n",
      "face_normals all zero, ignoring!\n",
      "face_normals all zero, ignoring!\n",
      "face_normals all zero, ignoring!\n",
      "face_normals all zero, ignoring!\n",
      "face_normals all zero, ignoring!\n",
      "face_normals all zero, ignoring!\n",
      "face_normals all zero, ignoring!\n",
      "face_normals all zero, ignoring!\n",
      "face_normals all zero, ignoring!\n",
      "face_normals all zero, ignoring!\n",
      "face_normals all zero, ignoring!\n",
      "face_normals all zero, ignoring!\n",
      "face_normals all zero, ignoring!\n",
      "face_normals all zero, ignoring!\n",
      "face_normals all zero, ignoring!\n",
      "face_normals all zero, ignoring!\n"
     ]
    },
    {
     "name": "stdout",
     "output_type": "stream",
     "text": [
      "     Starting Calcification\n",
      "Before mesh subtraction number of skeleton edges = 1761\n",
      "Inside mesh subtraction, len(main_mesh_bbox_restricted.faces) = 114671\n"
     ]
    },
    {
     "data": {
      "application/vnd.jupyter.widget-view+json": {
       "model_id": "e651e4a7ba3c4928b4f9af651213510d",
       "version_major": 2,
       "version_minor": 0
      },
      "text/plain": [
       "HBox(children=(FloatProgress(value=1.0, bar_style='info', max=1.0), HTML(value='')))"
      ]
     },
     "metadata": {},
     "output_type": "display_data"
    },
    {
     "name": "stderr",
     "output_type": "stream",
     "text": [
      "No adjacent faces detected! Did you merge vertices?\n",
      "No adjacent faces detected! Did you merge vertices?\n"
     ]
    },
    {
     "name": "stdout",
     "output_type": "stream",
     "text": [
      "\n",
      "Total Mesh subtraction time = 26.8139\n"
     ]
    },
    {
     "data": {
      "application/vnd.jupyter.widget-view+json": {
       "model_id": "e8d0d612ca1d45dbac47ffc02f0bea03",
       "version_major": 2,
       "version_minor": 0
      },
      "text/plain": [
       "HBox(children=(FloatProgress(value=0.0, max=112.0), HTML(value='')))"
      ]
     },
     "metadata": {},
     "output_type": "display_data"
    },
    {
     "name": "stdout",
     "output_type": "stream",
     "text": [
      "\n",
      "len_subgraphs AT BEGINNING of the loop\n"
     ]
    },
    {
     "data": {
      "application/vnd.jupyter.widget-view+json": {
       "model_id": "7978c5c6275e4bc78fbed31668de567c",
       "version_major": 2,
       "version_minor": 0
      },
      "text/plain": [
       "HBox(children=(FloatProgress(value=0.0, max=343.0), HTML(value='')))"
      ]
     },
     "metadata": {},
     "output_type": "display_data"
    },
    {
     "name": "stdout",
     "output_type": "stream",
     "text": [
      "all graph is one component!\n",
      "\n",
      "Total time for skeleton stitching = 0.47566890716552734\n",
      "The process was using a temp folder\n",
      "Using Distance measure skeletal_distance\n"
     ]
    },
    {
     "data": {
      "application/vnd.jupyter.widget-view+json": {
       "model_id": "7c54f525fc7a4b51a43c8580b5a6b6f1",
       "version_major": 2,
       "version_minor": 0
      },
      "text/plain": [
       "HBox(children=(FloatProgress(value=0.0, max=255.0), HTML(value='')))"
      ]
     },
     "metadata": {},
     "output_type": "display_data"
    },
    {
     "name": "stdout",
     "output_type": "stream",
     "text": [
      "    Total time for skeleton and cleaning of branch 2: 7.96677565574646\n",
      "\n",
      "    -- Working on branch 3--\n",
      "     Starting Screened Poisson\n",
      "IN INPUT FILE VALIDATION LOOP\n",
      "LEAVING LOOP, MESH VALIDATED\n",
      "Using port = 5947\n",
      "xvfb-run -n 5947 -s \"-screen 0 800x600x24\" meshlabserver $@  -i /notebooks/neuron_mesh_tools/meshAfterParty/development/temp/None.off -o /notebooks/neuron_mesh_tools/meshAfterParty/development/temp/None_poisson.off -s /notebooks/neuron_mesh_tools/meshAfterParty/development/temp/poisson_556463.mls\n",
      "-----Time for Screened Poisson= 18.854458332061768\n"
     ]
    },
    {
     "name": "stderr",
     "output_type": "stream",
     "text": [
      "face_normals all zero, ignoring!\n",
      "face_normals all zero, ignoring!\n",
      "face_normals all zero, ignoring!\n",
      "face_normals all zero, ignoring!\n",
      "face_normals all zero, ignoring!\n",
      "face_normals all zero, ignoring!\n",
      "face_normals all zero, ignoring!\n",
      "face_normals all zero, ignoring!\n",
      "face_normals all zero, ignoring!\n",
      "face_normals all zero, ignoring!\n",
      "face_normals all zero, ignoring!\n",
      "face_normals all zero, ignoring!\n",
      "face_normals all zero, ignoring!\n",
      "face_normals all zero, ignoring!\n",
      "face_normals all zero, ignoring!\n",
      "face_normals all zero, ignoring!\n",
      "face_normals all zero, ignoring!\n",
      "face_normals all zero, ignoring!\n",
      "face_normals all zero, ignoring!\n",
      "face_normals all zero, ignoring!\n",
      "face_normals all zero, ignoring!\n",
      "face_normals all zero, ignoring!\n",
      "face_normals all zero, ignoring!\n",
      "face_normals all zero, ignoring!\n",
      "face_normals all zero, ignoring!\n",
      "face_normals all zero, ignoring!\n",
      "face_normals all zero, ignoring!\n",
      "face_normals all zero, ignoring!\n",
      "face_normals all zero, ignoring!\n",
      "face_normals all zero, ignoring!\n",
      "face_normals all zero, ignoring!\n",
      "face_normals all zero, ignoring!\n",
      "face_normals all zero, ignoring!\n",
      "face_normals all zero, ignoring!\n",
      "face_normals all zero, ignoring!\n",
      "face_normals all zero, ignoring!\n",
      "face_normals all zero, ignoring!\n",
      "face_normals all zero, ignoring!\n",
      "face_normals all zero, ignoring!\n",
      "face_normals all zero, ignoring!\n",
      "face_normals all zero, ignoring!\n",
      "face_normals all zero, ignoring!\n",
      "face_normals all zero, ignoring!\n",
      "face_normals all zero, ignoring!\n",
      "face_normals all zero, ignoring!\n",
      "face_normals all zero, ignoring!\n",
      "face_normals all zero, ignoring!\n",
      "face_normals all zero, ignoring!\n",
      "face_normals all zero, ignoring!\n",
      "face_normals all zero, ignoring!\n",
      "face_normals all zero, ignoring!\n",
      "face_normals all zero, ignoring!\n",
      "face_normals all zero, ignoring!\n",
      "face_normals all zero, ignoring!\n",
      "face_normals all zero, ignoring!\n",
      "face_normals all zero, ignoring!\n"
     ]
    },
    {
     "name": "stdout",
     "output_type": "stream",
     "text": [
      "     Starting Calcification\n",
      "Before mesh subtraction number of skeleton edges = 1742\n",
      "Inside mesh subtraction, len(main_mesh_bbox_restricted.faces) = 110120\n"
     ]
    },
    {
     "data": {
      "application/vnd.jupyter.widget-view+json": {
       "model_id": "9a8c54c6924d40168fae3f9281aa23b5",
       "version_major": 2,
       "version_minor": 0
      },
      "text/plain": [
       "HBox(children=(FloatProgress(value=1.0, bar_style='info', max=1.0), HTML(value='')))"
      ]
     },
     "metadata": {},
     "output_type": "display_data"
    },
    {
     "name": "stderr",
     "output_type": "stream",
     "text": [
      "No adjacent faces detected! Did you merge vertices?\n",
      "No adjacent faces detected! Did you merge vertices?\n"
     ]
    },
    {
     "name": "stdout",
     "output_type": "stream",
     "text": [
      "\n",
      "Total Mesh subtraction time = 25.963\n"
     ]
    },
    {
     "data": {
      "application/vnd.jupyter.widget-view+json": {
       "model_id": "fae555946c284b16a1390661b5273439",
       "version_major": 2,
       "version_minor": 0
      },
      "text/plain": [
       "HBox(children=(FloatProgress(value=0.0, max=84.0), HTML(value='')))"
      ]
     },
     "metadata": {},
     "output_type": "display_data"
    },
    {
     "name": "stdout",
     "output_type": "stream",
     "text": [
      "\n",
      "len_subgraphs AT BEGINNING of the loop\n"
     ]
    },
    {
     "data": {
      "application/vnd.jupyter.widget-view+json": {
       "model_id": "c2588a00353144db8516a3e2242a5834",
       "version_major": 2,
       "version_minor": 0
      },
      "text/plain": [
       "HBox(children=(FloatProgress(value=0.0, max=317.0), HTML(value='')))"
      ]
     },
     "metadata": {},
     "output_type": "display_data"
    },
    {
     "name": "stdout",
     "output_type": "stream",
     "text": [
      "all graph is one component!\n",
      "\n",
      "Total time for skeleton stitching = 0.5189061164855957\n",
      "The process was using a temp folder\n",
      "Using Distance measure skeletal_distance\n"
     ]
    },
    {
     "data": {
      "application/vnd.jupyter.widget-view+json": {
       "model_id": "33ce7f55d03e48588f3da0c832047aa2",
       "version_major": 2,
       "version_minor": 0
      },
      "text/plain": [
       "HBox(children=(FloatProgress(value=0.0, max=279.0), HTML(value='')))"
      ]
     },
     "metadata": {},
     "output_type": "display_data"
    },
    {
     "name": "stdout",
     "output_type": "stream",
     "text": [
      "    Total time for skeleton and cleaning of branch 3: 8.583097457885742\n",
      "\n",
      "    -- Working on branch 4--\n",
      "     Starting Screened Poisson\n",
      "IN INPUT FILE VALIDATION LOOP\n",
      "LEAVING LOOP, MESH VALIDATED\n",
      "Using port = 1025\n",
      "xvfb-run -n 1025 -s \"-screen 0 800x600x24\" meshlabserver $@  -i /notebooks/neuron_mesh_tools/meshAfterParty/development/temp/None.off -o /notebooks/neuron_mesh_tools/meshAfterParty/development/temp/None_poisson.off -s /notebooks/neuron_mesh_tools/meshAfterParty/development/temp/poisson_748461.mls\n",
      "-----Time for Screened Poisson= 22.015493869781494\n"
     ]
    },
    {
     "name": "stderr",
     "output_type": "stream",
     "text": [
      "face_normals all zero, ignoring!\n",
      "face_normals all zero, ignoring!\n",
      "face_normals all zero, ignoring!\n",
      "face_normals all zero, ignoring!\n",
      "face_normals all zero, ignoring!\n",
      "face_normals all zero, ignoring!\n",
      "face_normals all zero, ignoring!\n",
      "face_normals all zero, ignoring!\n",
      "face_normals all zero, ignoring!\n",
      "face_normals all zero, ignoring!\n",
      "face_normals all zero, ignoring!\n",
      "face_normals all zero, ignoring!\n",
      "face_normals all zero, ignoring!\n",
      "face_normals all zero, ignoring!\n",
      "face_normals all zero, ignoring!\n",
      "face_normals all zero, ignoring!\n",
      "face_normals all zero, ignoring!\n",
      "face_normals all zero, ignoring!\n",
      "face_normals all zero, ignoring!\n",
      "face_normals all zero, ignoring!\n",
      "face_normals all zero, ignoring!\n",
      "face_normals all zero, ignoring!\n",
      "face_normals all zero, ignoring!\n",
      "face_normals all zero, ignoring!\n",
      "face_normals all zero, ignoring!\n",
      "face_normals all zero, ignoring!\n",
      "face_normals all zero, ignoring!\n",
      "face_normals all zero, ignoring!\n",
      "face_normals all zero, ignoring!\n",
      "face_normals all zero, ignoring!\n",
      "face_normals all zero, ignoring!\n",
      "face_normals all zero, ignoring!\n",
      "face_normals all zero, ignoring!\n",
      "face_normals all zero, ignoring!\n",
      "face_normals all zero, ignoring!\n",
      "face_normals all zero, ignoring!\n",
      "face_normals all zero, ignoring!\n",
      "face_normals all zero, ignoring!\n",
      "face_normals all zero, ignoring!\n",
      "face_normals all zero, ignoring!\n",
      "face_normals all zero, ignoring!\n",
      "face_normals all zero, ignoring!\n",
      "face_normals all zero, ignoring!\n",
      "face_normals all zero, ignoring!\n",
      "face_normals all zero, ignoring!\n",
      "face_normals all zero, ignoring!\n",
      "face_normals all zero, ignoring!\n",
      "face_normals all zero, ignoring!\n",
      "face_normals all zero, ignoring!\n",
      "face_normals all zero, ignoring!\n",
      "face_normals all zero, ignoring!\n",
      "face_normals all zero, ignoring!\n",
      "face_normals all zero, ignoring!\n",
      "face_normals all zero, ignoring!\n",
      "face_normals all zero, ignoring!\n",
      "face_normals all zero, ignoring!\n",
      "face_normals all zero, ignoring!\n",
      "face_normals all zero, ignoring!\n",
      "face_normals all zero, ignoring!\n",
      "face_normals all zero, ignoring!\n",
      "face_normals all zero, ignoring!\n",
      "face_normals all zero, ignoring!\n",
      "face_normals all zero, ignoring!\n",
      "face_normals all zero, ignoring!\n",
      "face_normals all zero, ignoring!\n",
      "face_normals all zero, ignoring!\n",
      "face_normals all zero, ignoring!\n",
      "face_normals all zero, ignoring!\n",
      "face_normals all zero, ignoring!\n",
      "face_normals all zero, ignoring!\n",
      "face_normals all zero, ignoring!\n",
      "face_normals all zero, ignoring!\n",
      "face_normals all zero, ignoring!\n",
      "face_normals all zero, ignoring!\n",
      "face_normals all zero, ignoring!\n",
      "face_normals all zero, ignoring!\n",
      "face_normals all zero, ignoring!\n",
      "face_normals all zero, ignoring!\n",
      "face_normals all zero, ignoring!\n",
      "face_normals all zero, ignoring!\n",
      "face_normals all zero, ignoring!\n",
      "face_normals all zero, ignoring!\n",
      "face_normals all zero, ignoring!\n",
      "face_normals all zero, ignoring!\n",
      "face_normals all zero, ignoring!\n",
      "face_normals all zero, ignoring!\n",
      "face_normals all zero, ignoring!\n",
      "face_normals all zero, ignoring!\n",
      "face_normals all zero, ignoring!\n",
      "face_normals all zero, ignoring!\n",
      "face_normals all zero, ignoring!\n",
      "face_normals all zero, ignoring!\n",
      "face_normals all zero, ignoring!\n",
      "face_normals all zero, ignoring!\n",
      "face_normals all zero, ignoring!\n",
      "face_normals all zero, ignoring!\n",
      "face_normals all zero, ignoring!\n",
      "face_normals all zero, ignoring!\n",
      "face_normals all zero, ignoring!\n",
      "face_normals all zero, ignoring!\n",
      "face_normals all zero, ignoring!\n",
      "face_normals all zero, ignoring!\n",
      "face_normals all zero, ignoring!\n",
      "face_normals all zero, ignoring!\n",
      "face_normals all zero, ignoring!\n",
      "face_normals all zero, ignoring!\n",
      "face_normals all zero, ignoring!\n",
      "face_normals all zero, ignoring!\n",
      "face_normals all zero, ignoring!\n",
      "face_normals all zero, ignoring!\n",
      "face_normals all zero, ignoring!\n",
      "face_normals all zero, ignoring!\n",
      "face_normals all zero, ignoring!\n",
      "face_normals all zero, ignoring!\n",
      "face_normals all zero, ignoring!\n",
      "face_normals all zero, ignoring!\n",
      "face_normals all zero, ignoring!\n",
      "face_normals all zero, ignoring!\n",
      "face_normals all zero, ignoring!\n",
      "face_normals all zero, ignoring!\n",
      "face_normals all zero, ignoring!\n",
      "face_normals all zero, ignoring!\n",
      "face_normals all zero, ignoring!\n",
      "face_normals all zero, ignoring!\n",
      "face_normals all zero, ignoring!\n",
      "face_normals all zero, ignoring!\n",
      "face_normals all zero, ignoring!\n",
      "face_normals all zero, ignoring!\n",
      "face_normals all zero, ignoring!\n",
      "face_normals all zero, ignoring!\n",
      "face_normals all zero, ignoring!\n",
      "face_normals all zero, ignoring!\n",
      "face_normals all zero, ignoring!\n",
      "face_normals all zero, ignoring!\n",
      "face_normals all zero, ignoring!\n",
      "face_normals all zero, ignoring!\n",
      "face_normals all zero, ignoring!\n",
      "face_normals all zero, ignoring!\n",
      "face_normals all zero, ignoring!\n",
      "face_normals all zero, ignoring!\n",
      "face_normals all zero, ignoring!\n",
      "face_normals all zero, ignoring!\n",
      "face_normals all zero, ignoring!\n",
      "face_normals all zero, ignoring!\n",
      "face_normals all zero, ignoring!\n",
      "face_normals all zero, ignoring!\n",
      "face_normals all zero, ignoring!\n",
      "face_normals all zero, ignoring!\n",
      "face_normals all zero, ignoring!\n",
      "face_normals all zero, ignoring!\n",
      "face_normals all zero, ignoring!\n",
      "face_normals all zero, ignoring!\n",
      "face_normals all zero, ignoring!\n",
      "face_normals all zero, ignoring!\n",
      "face_normals all zero, ignoring!\n",
      "face_normals all zero, ignoring!\n",
      "face_normals all zero, ignoring!\n",
      "face_normals all zero, ignoring!\n",
      "face_normals all zero, ignoring!\n",
      "face_normals all zero, ignoring!\n",
      "face_normals all zero, ignoring!\n",
      "face_normals all zero, ignoring!\n",
      "face_normals all zero, ignoring!\n",
      "face_normals all zero, ignoring!\n",
      "face_normals all zero, ignoring!\n",
      "face_normals all zero, ignoring!\n",
      "face_normals all zero, ignoring!\n",
      "face_normals all zero, ignoring!\n",
      "face_normals all zero, ignoring!\n",
      "face_normals all zero, ignoring!\n",
      "face_normals all zero, ignoring!\n",
      "face_normals all zero, ignoring!\n",
      "face_normals all zero, ignoring!\n",
      "face_normals all zero, ignoring!\n",
      "face_normals all zero, ignoring!\n",
      "face_normals all zero, ignoring!\n",
      "face_normals all zero, ignoring!\n"
     ]
    },
    {
     "name": "stdout",
     "output_type": "stream",
     "text": [
      "     Starting Calcification\n",
      "Before mesh subtraction number of skeleton edges = 1792\n",
      "Inside mesh subtraction, len(main_mesh_bbox_restricted.faces) = 107788\n"
     ]
    },
    {
     "data": {
      "application/vnd.jupyter.widget-view+json": {
       "model_id": "339ffffefc3e4eb182976673be0d1a81",
       "version_major": 2,
       "version_minor": 0
      },
      "text/plain": [
       "HBox(children=(FloatProgress(value=1.0, bar_style='info', max=1.0), HTML(value='')))"
      ]
     },
     "metadata": {},
     "output_type": "display_data"
    },
    {
     "name": "stdout",
     "output_type": "stream",
     "text": [
      "\n",
      "Total Mesh subtraction time = 22.7035\n"
     ]
    },
    {
     "data": {
      "application/vnd.jupyter.widget-view+json": {
       "model_id": "3cee547448f14d1c81ad6c4f7ba8168c",
       "version_major": 2,
       "version_minor": 0
      },
      "text/plain": [
       "HBox(children=(FloatProgress(value=0.0, max=111.0), HTML(value='')))"
      ]
     },
     "metadata": {},
     "output_type": "display_data"
    },
    {
     "name": "stdout",
     "output_type": "stream",
     "text": [
      "\n",
      "len_subgraphs AT BEGINNING of the loop\n"
     ]
    },
    {
     "data": {
      "application/vnd.jupyter.widget-view+json": {
       "model_id": "f21d753f929048c6a936598d0bc8ca75",
       "version_major": 2,
       "version_minor": 0
      },
      "text/plain": [
       "HBox(children=(FloatProgress(value=0.0, max=317.0), HTML(value='')))"
      ]
     },
     "metadata": {},
     "output_type": "display_data"
    },
    {
     "name": "stdout",
     "output_type": "stream",
     "text": [
      "all graph is one component!\n",
      "\n",
      "Total time for skeleton stitching = 0.5556998252868652\n",
      "The process was using a temp folder\n",
      "Using Distance measure skeletal_distance\n"
     ]
    },
    {
     "data": {
      "application/vnd.jupyter.widget-view+json": {
       "model_id": "fbbfa59a19ae45f99ace27fef1592736",
       "version_major": 2,
       "version_minor": 0
      },
      "text/plain": [
       "HBox(children=(FloatProgress(value=0.0, max=248.0), HTML(value='')))"
      ]
     },
     "metadata": {},
     "output_type": "display_data"
    },
    {
     "name": "stdout",
     "output_type": "stream",
     "text": [
      "    Total time for skeleton and cleaning of branch 4: 7.964831829071045\n",
      "\n",
      "    -- Working on branch 5--\n",
      "     Starting Screened Poisson\n",
      "IN INPUT FILE VALIDATION LOOP\n",
      "LEAVING LOOP, MESH VALIDATED\n",
      "Using port = 6494\n",
      "xvfb-run -n 6494 -s \"-screen 0 800x600x24\" meshlabserver $@  -i /notebooks/neuron_mesh_tools/meshAfterParty/development/temp/None.off -o /notebooks/neuron_mesh_tools/meshAfterParty/development/temp/None_poisson.off -s /notebooks/neuron_mesh_tools/meshAfterParty/development/temp/poisson_257293.mls\n",
      "-----Time for Screened Poisson= 16.21478533744812\n"
     ]
    },
    {
     "name": "stderr",
     "output_type": "stream",
     "text": [
      "face_normals all zero, ignoring!\n",
      "face_normals all zero, ignoring!\n",
      "face_normals all zero, ignoring!\n",
      "face_normals all zero, ignoring!\n",
      "face_normals all zero, ignoring!\n",
      "face_normals all zero, ignoring!\n",
      "face_normals all zero, ignoring!\n",
      "face_normals all zero, ignoring!\n",
      "face_normals all zero, ignoring!\n",
      "face_normals all zero, ignoring!\n",
      "face_normals all zero, ignoring!\n",
      "face_normals all zero, ignoring!\n",
      "face_normals all zero, ignoring!\n",
      "face_normals all zero, ignoring!\n",
      "face_normals all zero, ignoring!\n",
      "face_normals all zero, ignoring!\n",
      "face_normals all zero, ignoring!\n",
      "face_normals all zero, ignoring!\n",
      "face_normals all zero, ignoring!\n",
      "face_normals all zero, ignoring!\n",
      "face_normals all zero, ignoring!\n",
      "face_normals all zero, ignoring!\n",
      "face_normals all zero, ignoring!\n",
      "face_normals all zero, ignoring!\n",
      "face_normals all zero, ignoring!\n",
      "face_normals all zero, ignoring!\n",
      "face_normals all zero, ignoring!\n",
      "face_normals all zero, ignoring!\n",
      "face_normals all zero, ignoring!\n",
      "face_normals all zero, ignoring!\n",
      "face_normals all zero, ignoring!\n",
      "face_normals all zero, ignoring!\n",
      "face_normals all zero, ignoring!\n",
      "face_normals all zero, ignoring!\n",
      "face_normals all zero, ignoring!\n",
      "face_normals all zero, ignoring!\n",
      "face_normals all zero, ignoring!\n",
      "face_normals all zero, ignoring!\n",
      "face_normals all zero, ignoring!\n",
      "face_normals all zero, ignoring!\n",
      "face_normals all zero, ignoring!\n",
      "face_normals all zero, ignoring!\n",
      "face_normals all zero, ignoring!\n",
      "face_normals all zero, ignoring!\n",
      "face_normals all zero, ignoring!\n",
      "face_normals all zero, ignoring!\n",
      "face_normals all zero, ignoring!\n",
      "face_normals all zero, ignoring!\n",
      "face_normals all zero, ignoring!\n",
      "face_normals all zero, ignoring!\n"
     ]
    },
    {
     "name": "stdout",
     "output_type": "stream",
     "text": [
      "     Starting Calcification\n",
      "Before mesh subtraction number of skeleton edges = 1285\n",
      "Inside mesh subtraction, len(main_mesh_bbox_restricted.faces) = 104099\n"
     ]
    },
    {
     "data": {
      "application/vnd.jupyter.widget-view+json": {
       "model_id": "a4b08e8582404ea9b2a3f06bbaeafcac",
       "version_major": 2,
       "version_minor": 0
      },
      "text/plain": [
       "HBox(children=(FloatProgress(value=1.0, bar_style='info', max=1.0), HTML(value='')))"
      ]
     },
     "metadata": {},
     "output_type": "display_data"
    },
    {
     "name": "stdout",
     "output_type": "stream",
     "text": [
      "\n",
      "Total Mesh subtraction time = 18.284\n"
     ]
    },
    {
     "data": {
      "application/vnd.jupyter.widget-view+json": {
       "model_id": "e375e20b35094b4f8a21609de8e44d4d",
       "version_major": 2,
       "version_minor": 0
      },
      "text/plain": [
       "HBox(children=(FloatProgress(value=0.0, max=44.0), HTML(value='')))"
      ]
     },
     "metadata": {},
     "output_type": "display_data"
    },
    {
     "name": "stdout",
     "output_type": "stream",
     "text": [
      "\n",
      "len_subgraphs AT BEGINNING of the loop\n"
     ]
    },
    {
     "data": {
      "application/vnd.jupyter.widget-view+json": {
       "model_id": "c447944ea24e4e41a0bb6e9450b957b0",
       "version_major": 2,
       "version_minor": 0
      },
      "text/plain": [
       "HBox(children=(FloatProgress(value=0.0, max=172.0), HTML(value='')))"
      ]
     },
     "metadata": {},
     "output_type": "display_data"
    },
    {
     "name": "stdout",
     "output_type": "stream",
     "text": [
      "all graph is one component!\n",
      "Total time for skeleton stitching = 0.1905345916748047\n",
      "The process was using a temp folder\n",
      "\n",
      "Using Distance measure skeletal_distance\n"
     ]
    },
    {
     "data": {
      "application/vnd.jupyter.widget-view+json": {
       "model_id": "ebded49ef21d46d294433393604fc682",
       "version_major": 2,
       "version_minor": 0
      },
      "text/plain": [
       "HBox(children=(FloatProgress(value=0.0, max=186.0), HTML(value='')))"
      ]
     },
     "metadata": {},
     "output_type": "display_data"
    },
    {
     "name": "stdout",
     "output_type": "stream",
     "text": [
      "    Total time for skeleton and cleaning of branch 5: 3.779996156692505\n",
      "\n",
      "    -- Working on branch 6--\n",
      "     Starting Screened Poisson\n",
      "IN INPUT FILE VALIDATION LOOP\n",
      "\n",
      "LEAVING LOOP, MESH VALIDATED\n",
      "Using port = 4102\n",
      "xvfb-run -n 4102 -s \"-screen 0 800x600x24\" meshlabserver $@  -i /notebooks/neuron_mesh_tools/meshAfterParty/development/temp/None.off -o /notebooks/neuron_mesh_tools/meshAfterParty/development/temp/None_poisson.off -s /notebooks/neuron_mesh_tools/meshAfterParty/development/temp/poisson_348518.mls\n"
     ]
    },
    {
     "name": "stderr",
     "output_type": "stream",
     "text": [
      "face_normals all zero, ignoring!\n",
      "face_normals all zero, ignoring!\n"
     ]
    },
    {
     "name": "stdout",
     "output_type": "stream",
     "text": [
      "-----Time for Screened Poisson= 13.023160934448242\n"
     ]
    },
    {
     "name": "stderr",
     "output_type": "stream",
     "text": [
      "face_normals all zero, ignoring!\n",
      "face_normals all zero, ignoring!\n",
      "face_normals all zero, ignoring!\n",
      "face_normals all zero, ignoring!\n",
      "face_normals all zero, ignoring!\n",
      "face_normals all zero, ignoring!\n",
      "face_normals all zero, ignoring!\n",
      "face_normals all zero, ignoring!\n",
      "face_normals all zero, ignoring!\n",
      "face_normals all zero, ignoring!\n",
      "face_normals all zero, ignoring!\n",
      "face_normals all zero, ignoring!\n",
      "face_normals all zero, ignoring!\n",
      "face_normals all zero, ignoring!\n",
      "face_normals all zero, ignoring!\n",
      "face_normals all zero, ignoring!\n",
      "face_normals all zero, ignoring!\n",
      "face_normals all zero, ignoring!\n",
      "face_normals all zero, ignoring!\n"
     ]
    },
    {
     "name": "stdout",
     "output_type": "stream",
     "text": [
      "     Starting Calcification\n",
      "Before mesh subtraction number of skeleton edges = 1092\n",
      "Inside mesh subtraction, len(main_mesh_bbox_restricted.faces) = 58779\n"
     ]
    },
    {
     "data": {
      "application/vnd.jupyter.widget-view+json": {
       "model_id": "333da09138df4507b9654efd21648ad3",
       "version_major": 2,
       "version_minor": 0
      },
      "text/plain": [
       "HBox(children=(FloatProgress(value=1.0, bar_style='info', max=1.0), HTML(value='')))"
      ]
     },
     "metadata": {},
     "output_type": "display_data"
    },
    {
     "name": "stderr",
     "output_type": "stream",
     "text": [
      "No adjacent faces detected! Did you merge vertices?\n",
      "No adjacent faces detected! Did you merge vertices?\n"
     ]
    },
    {
     "name": "stdout",
     "output_type": "stream",
     "text": [
      "\n",
      "Total Mesh subtraction time = 13.343\n"
     ]
    },
    {
     "data": {
      "application/vnd.jupyter.widget-view+json": {
       "model_id": "f3cc7716b16e47bebdc56dca6a9f3062",
       "version_major": 2,
       "version_minor": 0
      },
      "text/plain": [
       "HBox(children=(FloatProgress(value=0.0, max=51.0), HTML(value='')))"
      ]
     },
     "metadata": {},
     "output_type": "display_data"
    },
    {
     "name": "stdout",
     "output_type": "stream",
     "text": [
      "\n",
      "len_subgraphs AT BEGINNING of the loop\n"
     ]
    },
    {
     "data": {
      "application/vnd.jupyter.widget-view+json": {
       "model_id": "2562f999731a43ab8e233838bf60076a",
       "version_major": 2,
       "version_minor": 0
      },
      "text/plain": [
       "HBox(children=(FloatProgress(value=0.0, max=168.0), HTML(value='')))"
      ]
     },
     "metadata": {},
     "output_type": "display_data"
    },
    {
     "name": "stdout",
     "output_type": "stream",
     "text": [
      "all graph is one component!\n",
      "Total time for skeleton stitching = 0.17981839179992676\n",
      "The process was using a temp folder\n",
      "\n",
      "Using Distance measure skeletal_distance\n"
     ]
    },
    {
     "data": {
      "application/vnd.jupyter.widget-view+json": {
       "model_id": "ef4ff78b269d462fbbc86f111c76b63c",
       "version_major": 2,
       "version_minor": 0
      },
      "text/plain": [
       "HBox(children=(FloatProgress(value=0.0, max=157.0), HTML(value='')))"
      ]
     },
     "metadata": {},
     "output_type": "display_data"
    },
    {
     "name": "stdout",
     "output_type": "stream",
     "text": [
      "    Total time for skeleton and cleaning of branch 6: 2.8220536708831787\n",
      "\n",
      "    -- Working on branch 7--\n",
      "     Starting Screened Poisson\n",
      "IN INPUT FILE VALIDATION LOOP\n",
      "\n",
      "LEAVING LOOP, MESH VALIDATED\n",
      "Using port = 5235\n",
      "xvfb-run -n 5235 -s \"-screen 0 800x600x24\" meshlabserver $@  -i /notebooks/neuron_mesh_tools/meshAfterParty/development/temp/None.off -o /notebooks/neuron_mesh_tools/meshAfterParty/development/temp/None_poisson.off -s /notebooks/neuron_mesh_tools/meshAfterParty/development/temp/poisson_189860.mls\n",
      "-----Time for Screened Poisson= 14.737854719161987\n"
     ]
    },
    {
     "name": "stderr",
     "output_type": "stream",
     "text": [
      "face_normals all zero, ignoring!\n",
      "face_normals all zero, ignoring!\n",
      "face_normals all zero, ignoring!\n",
      "face_normals all zero, ignoring!\n",
      "face_normals all zero, ignoring!\n",
      "face_normals all zero, ignoring!\n",
      "face_normals all zero, ignoring!\n",
      "face_normals all zero, ignoring!\n",
      "face_normals all zero, ignoring!\n",
      "face_normals all zero, ignoring!\n",
      "face_normals all zero, ignoring!\n",
      "face_normals all zero, ignoring!\n",
      "face_normals all zero, ignoring!\n",
      "face_normals all zero, ignoring!\n",
      "face_normals all zero, ignoring!\n",
      "face_normals all zero, ignoring!\n",
      "face_normals all zero, ignoring!\n",
      "face_normals all zero, ignoring!\n",
      "face_normals all zero, ignoring!\n",
      "face_normals all zero, ignoring!\n",
      "face_normals all zero, ignoring!\n",
      "face_normals all zero, ignoring!\n",
      "face_normals all zero, ignoring!\n",
      "face_normals all zero, ignoring!\n",
      "face_normals all zero, ignoring!\n",
      "face_normals all zero, ignoring!\n",
      "face_normals all zero, ignoring!\n",
      "face_normals all zero, ignoring!\n",
      "face_normals all zero, ignoring!\n",
      "face_normals all zero, ignoring!\n",
      "face_normals all zero, ignoring!\n",
      "face_normals all zero, ignoring!\n",
      "face_normals all zero, ignoring!\n",
      "face_normals all zero, ignoring!\n",
      "face_normals all zero, ignoring!\n",
      "face_normals all zero, ignoring!\n",
      "face_normals all zero, ignoring!\n",
      "face_normals all zero, ignoring!\n",
      "face_normals all zero, ignoring!\n",
      "face_normals all zero, ignoring!\n",
      "face_normals all zero, ignoring!\n",
      "face_normals all zero, ignoring!\n",
      "face_normals all zero, ignoring!\n",
      "face_normals all zero, ignoring!\n",
      "face_normals all zero, ignoring!\n",
      "face_normals all zero, ignoring!\n"
     ]
    },
    {
     "name": "stdout",
     "output_type": "stream",
     "text": [
      "     Starting Calcification\n",
      "Before mesh subtraction number of skeleton edges = 1132\n",
      "Inside mesh subtraction, len(main_mesh_bbox_restricted.faces) = 58543\n"
     ]
    },
    {
     "data": {
      "application/vnd.jupyter.widget-view+json": {
       "model_id": "d97ee7dc5eac4c55a563499040b8db2e",
       "version_major": 2,
       "version_minor": 0
      },
      "text/plain": [
       "HBox(children=(FloatProgress(value=1.0, bar_style='info', max=1.0), HTML(value='')))"
      ]
     },
     "metadata": {},
     "output_type": "display_data"
    },
    {
     "name": "stderr",
     "output_type": "stream",
     "text": [
      "No adjacent faces detected! Did you merge vertices?\n",
      "No adjacent faces detected! Did you merge vertices?\n"
     ]
    },
    {
     "name": "stdout",
     "output_type": "stream",
     "text": [
      "\n",
      "Total Mesh subtraction time = 14.6385\n"
     ]
    },
    {
     "data": {
      "application/vnd.jupyter.widget-view+json": {
       "model_id": "30724fe8ca8244b38891b35755178356",
       "version_major": 2,
       "version_minor": 0
      },
      "text/plain": [
       "HBox(children=(FloatProgress(value=0.0, max=54.0), HTML(value='')))"
      ]
     },
     "metadata": {},
     "output_type": "display_data"
    },
    {
     "name": "stdout",
     "output_type": "stream",
     "text": [
      "\n",
      "len_subgraphs AT BEGINNING of the loop\n"
     ]
    },
    {
     "data": {
      "application/vnd.jupyter.widget-view+json": {
       "model_id": "3dcd169cee0e41da9f49b7e82c0fbd22",
       "version_major": 2,
       "version_minor": 0
      },
      "text/plain": [
       "HBox(children=(FloatProgress(value=0.0, max=203.0), HTML(value='')))"
      ]
     },
     "metadata": {},
     "output_type": "display_data"
    },
    {
     "name": "stdout",
     "output_type": "stream",
     "text": [
      "all graph is one component!\n",
      "Total time for skeleton stitching = 0.21114611625671387\n",
      "The process was using a temp folder\n",
      "\n",
      "Using Distance measure skeletal_distance\n"
     ]
    },
    {
     "data": {
      "application/vnd.jupyter.widget-view+json": {
       "model_id": "879b36f9c3384a30a6c0567819e76da1",
       "version_major": 2,
       "version_minor": 0
      },
      "text/plain": [
       "HBox(children=(FloatProgress(value=0.0, max=170.0), HTML(value='')))"
      ]
     },
     "metadata": {},
     "output_type": "display_data"
    },
    {
     "name": "stdout",
     "output_type": "stream",
     "text": [
      "    Total time for skeleton and cleaning of branch 7: 3.3703129291534424\n",
      "\n",
      "    -- Working on branch 8--\n",
      "     Starting Screened Poisson\n",
      "IN INPUT FILE VALIDATION LOOP\n",
      "\n",
      "LEAVING LOOP, MESH VALIDATED\n",
      "Using port = 9837\n",
      "xvfb-run -n 9837 -s \"-screen 0 800x600x24\" meshlabserver $@  -i /notebooks/neuron_mesh_tools/meshAfterParty/development/temp/None.off -o /notebooks/neuron_mesh_tools/meshAfterParty/development/temp/None_poisson.off -s /notebooks/neuron_mesh_tools/meshAfterParty/development/temp/poisson_781545.mls\n"
     ]
    },
    {
     "name": "stderr",
     "output_type": "stream",
     "text": [
      "face_normals all zero, ignoring!\n",
      "face_normals all zero, ignoring!\n",
      "face_normals all zero, ignoring!\n",
      "face_normals all zero, ignoring!\n",
      "face_normals all zero, ignoring!\n",
      "face_normals all zero, ignoring!\n",
      "face_normals all zero, ignoring!\n",
      "face_normals all zero, ignoring!\n",
      "face_normals all zero, ignoring!\n",
      "face_normals all zero, ignoring!\n"
     ]
    },
    {
     "name": "stdout",
     "output_type": "stream",
     "text": [
      "-----Time for Screened Poisson= 8.593567848205566\n",
      "     Starting Calcification\n",
      "Before mesh subtraction number of skeleton edges = 557\n",
      "Inside mesh subtraction, len(main_mesh_bbox_restricted.faces) = 29598\n"
     ]
    },
    {
     "data": {
      "application/vnd.jupyter.widget-view+json": {
       "model_id": "c69cc1f089c545b584a637fee4e986dc",
       "version_major": 2,
       "version_minor": 0
      },
      "text/plain": [
       "HBox(children=(FloatProgress(value=1.0, bar_style='info', max=1.0), HTML(value='')))"
      ]
     },
     "metadata": {},
     "output_type": "display_data"
    },
    {
     "name": "stdout",
     "output_type": "stream",
     "text": [
      "\n",
      "Total Mesh subtraction time = 6.1729\n"
     ]
    },
    {
     "data": {
      "application/vnd.jupyter.widget-view+json": {
       "model_id": "380c3cb16cd84563bb9b8f257148011d",
       "version_major": 2,
       "version_minor": 0
      },
      "text/plain": [
       "HBox(children=(FloatProgress(value=0.0, max=35.0), HTML(value='')))"
      ]
     },
     "metadata": {},
     "output_type": "display_data"
    },
    {
     "name": "stdout",
     "output_type": "stream",
     "text": [
      "\n",
      "len_subgraphs AT BEGINNING of the loop\n"
     ]
    },
    {
     "data": {
      "application/vnd.jupyter.widget-view+json": {
       "model_id": "5ac7ba8d79854dbc9c5151d9ef49c189",
       "version_major": 2,
       "version_minor": 0
      },
      "text/plain": [
       "HBox(children=(FloatProgress(value=0.0, max=93.0), HTML(value='')))"
      ]
     },
     "metadata": {},
     "output_type": "display_data"
    },
    {
     "name": "stdout",
     "output_type": "stream",
     "text": [
      "all graph is one component!\n",
      "Total time for skeleton stitching = 0.09945130348205566\n",
      "The process was using a temp folder\n",
      "\n",
      "Using Distance measure skeletal_distance\n"
     ]
    },
    {
     "data": {
      "application/vnd.jupyter.widget-view+json": {
       "model_id": "eb700e2eb9ed482587e846de48f7772d",
       "version_major": 2,
       "version_minor": 0
      },
      "text/plain": [
       "HBox(children=(FloatProgress(value=0.0, max=72.0), HTML(value='')))"
      ]
     },
     "metadata": {},
     "output_type": "display_data"
    },
    {
     "name": "stdout",
     "output_type": "stream",
     "text": [
      "\n",
      "    Total time for skeleton and cleaning of branch 8: 0.7841341495513916\n",
      "\n",
      "    -- Working on branch 9--\n",
      "     Starting Screened Poisson\n",
      "IN INPUT FILE VALIDATION LOOP\n",
      "LEAVING LOOP, MESH VALIDATED\n",
      "Using port = 2882\n",
      "xvfb-run -n 2882 -s \"-screen 0 800x600x24\" meshlabserver $@  -i /notebooks/neuron_mesh_tools/meshAfterParty/development/temp/None.off -o /notebooks/neuron_mesh_tools/meshAfterParty/development/temp/None_poisson.off -s /notebooks/neuron_mesh_tools/meshAfterParty/development/temp/poisson_272535.mls\n"
     ]
    },
    {
     "name": "stderr",
     "output_type": "stream",
     "text": [
      "face_normals all zero, ignoring!\n",
      "face_normals all zero, ignoring!\n",
      "face_normals all zero, ignoring!\n",
      "face_normals all zero, ignoring!\n",
      "face_normals all zero, ignoring!\n",
      "face_normals all zero, ignoring!\n",
      "face_normals all zero, ignoring!\n"
     ]
    },
    {
     "name": "stdout",
     "output_type": "stream",
     "text": [
      "-----Time for Screened Poisson= 6.446352005004883\n",
      "     Starting Calcification\n",
      "Before mesh subtraction number of skeleton edges = 217\n",
      "Inside mesh subtraction, len(main_mesh_bbox_restricted.faces) = 7718\n"
     ]
    },
    {
     "data": {
      "application/vnd.jupyter.widget-view+json": {
       "model_id": "ce10a2b5fce84f0da2cde888ce4c4fa2",
       "version_major": 2,
       "version_minor": 0
      },
      "text/plain": [
       "HBox(children=(FloatProgress(value=1.0, bar_style='info', max=1.0), HTML(value='')))"
      ]
     },
     "metadata": {},
     "output_type": "display_data"
    },
    {
     "name": "stderr",
     "output_type": "stream",
     "text": [
      "No adjacent faces detected! Did you merge vertices?\n",
      "No adjacent faces detected! Did you merge vertices?\n"
     ]
    },
    {
     "name": "stdout",
     "output_type": "stream",
     "text": [
      "\n",
      "Total Mesh subtraction time = 1.1147\n"
     ]
    },
    {
     "data": {
      "application/vnd.jupyter.widget-view+json": {
       "model_id": "5319050d9d9f42638623d838e4563071",
       "version_major": 2,
       "version_minor": 0
      },
      "text/plain": [
       "HBox(children=(FloatProgress(value=0.0, max=5.0), HTML(value='')))"
      ]
     },
     "metadata": {},
     "output_type": "display_data"
    },
    {
     "name": "stdout",
     "output_type": "stream",
     "text": [
      "\n",
      "len_subgraphs AT BEGINNING of the loop\n"
     ]
    },
    {
     "data": {
      "application/vnd.jupyter.widget-view+json": {
       "model_id": "acf4aa9160de438488c020a7a54f2587",
       "version_major": 2,
       "version_minor": 0
      },
      "text/plain": [
       "HBox(children=(FloatProgress(value=0.0, max=19.0), HTML(value='')))"
      ]
     },
     "metadata": {},
     "output_type": "display_data"
    },
    {
     "name": "stdout",
     "output_type": "stream",
     "text": [
      "all graph is one component!\n",
      "Total time for skeleton stitching = 0.05495166778564453\n",
      "The process was using a temp folder\n",
      "\n",
      "Using Distance measure skeletal_distance\n"
     ]
    },
    {
     "data": {
      "application/vnd.jupyter.widget-view+json": {
       "model_id": "f439ec0e63a24ec78b17047a083de338",
       "version_major": 2,
       "version_minor": 0
      },
      "text/plain": [
       "HBox(children=(FloatProgress(value=0.0, max=9.0), HTML(value='')))"
      ]
     },
     "metadata": {},
     "output_type": "display_data"
    },
    {
     "name": "stdout",
     "output_type": "stream",
     "text": [
      "\n",
      "    Total time for skeleton and cleaning of branch 9: 0.05910062789916992\n",
      "\n",
      "    -- Working on branch 10--\n",
      "     Starting Screened Poisson\n",
      "IN INPUT FILE VALIDATION LOOP\n",
      "LEAVING LOOP, MESH VALIDATED\n",
      "Using port = 5971\n",
      "xvfb-run -n 5971 -s \"-screen 0 800x600x24\" meshlabserver $@  -i /notebooks/neuron_mesh_tools/meshAfterParty/development/temp/None.off -o /notebooks/neuron_mesh_tools/meshAfterParty/development/temp/None_poisson.off -s /notebooks/neuron_mesh_tools/meshAfterParty/development/temp/poisson_895852.mls\n"
     ]
    },
    {
     "name": "stderr",
     "output_type": "stream",
     "text": [
      "face_normals all zero, ignoring!\n"
     ]
    },
    {
     "name": "stdout",
     "output_type": "stream",
     "text": [
      "-----Time for Screened Poisson= 5.281252861022949\n",
      "     Starting Calcification\n",
      "only one skeleton so no stacking needed\n",
      "Before mesh subtraction number of skeleton edges = 24\n",
      "Inside mesh subtraction, len(main_mesh_bbox_restricted.faces) = 1841\n"
     ]
    },
    {
     "data": {
      "application/vnd.jupyter.widget-view+json": {
       "model_id": "1edbe6d25157462f9baa41d1621c7012",
       "version_major": 2,
       "version_minor": 0
      },
      "text/plain": [
       "HBox(children=(FloatProgress(value=1.0, bar_style='info', max=1.0), HTML(value='')))"
      ]
     },
     "metadata": {},
     "output_type": "display_data"
    },
    {
     "name": "stdout",
     "output_type": "stream",
     "text": [
      "\n",
      "Total Mesh subtraction time = 0.1533\n"
     ]
    },
    {
     "data": {
      "application/vnd.jupyter.widget-view+json": {
       "model_id": "bcfd26dc39334d24a1267c63381ce3ac",
       "version_major": 2,
       "version_minor": 0
      },
      "text/plain": [
       "HBox(children=(FloatProgress(value=0.0, max=2.0), HTML(value='')))"
      ]
     },
     "metadata": {},
     "output_type": "display_data"
    },
    {
     "name": "stdout",
     "output_type": "stream",
     "text": [
      "\n",
      "len_subgraphs AT BEGINNING of the loop\n"
     ]
    },
    {
     "data": {
      "application/vnd.jupyter.widget-view+json": {
       "model_id": "36ac4e99707d4eaaaeeed3b05de7ab8d",
       "version_major": 2,
       "version_minor": 0
      },
      "text/plain": [
       "HBox(children=(FloatProgress(value=0.0, max=3.0), HTML(value='')))"
      ]
     },
     "metadata": {},
     "output_type": "display_data"
    },
    {
     "name": "stdout",
     "output_type": "stream",
     "text": [
      "all graph is one component!\n",
      "Total time for skeleton stitching = 0.030707120895385742\n",
      "The process was using a temp folder\n",
      "\n",
      "Using Distance measure skeletal_distance\n"
     ]
    },
    {
     "data": {
      "application/vnd.jupyter.widget-view+json": {
       "model_id": "21f5f5c552e4426c877256cb36eabc44",
       "version_major": 2,
       "version_minor": 0
      },
      "text/plain": [
       "HBox(children=(FloatProgress(value=0.0, max=4.0), HTML(value='')))"
      ]
     },
     "metadata": {},
     "output_type": "display_data"
    },
    {
     "name": "stdout",
     "output_type": "stream",
     "text": [
      "    Total time for skeleton and cleaning of branch 10: 0.023601770401000977\n",
      "Total time for skeletonization = 655.3378312587738\n"
     ]
    }
   ],
   "source": [
    "sk = reload(sk)\n",
    "xu = reload(xu)\n",
    "\n",
    "import time\n",
    "global_start_time = time.time()\n",
    "\n",
    "for j,(soma_containing_mesh_idx,mesh_data) in enumerate(soma_touching_mesh_data.items()):\n",
    "    print(f\"\\n-- Working on Soma Continaing Mesh {j}--\")\n",
    "    current_branches = mesh_data[\"branch_meshes\"]\n",
    "    \n",
    "    #skeletonize each of the branches\n",
    "    total_skeletons = []\n",
    "    \n",
    "    for z,branch in enumerate(current_branches):\n",
    "        print(f\"\\n    -- Working on branch {z}--\")\n",
    "        curren_skeleton = sk.skeletonize_connected_branch(branch)\n",
    "        #clean the skeleton\n",
    "            # --------  Doing the cleaning ------- #\n",
    "        clean_time = time.time()\n",
    "        filter_end_node_length=5000,\n",
    "        new_cleaned_skeleton = sk.clean_skeleton(curren_skeleton,\n",
    "                                distance_func=sk.skeletal_distance,\n",
    "                          min_distance_to_junction=filter_end_node_length,\n",
    "                          return_skeleton=True,\n",
    "                          print_flag=False)\n",
    "        print(f\"    Total time for skeleton and cleaning of branch {z}: {time.time() - clean_time}\")\n",
    "        total_skeletons.append(new_cleaned_skeleton)\n",
    "    soma_touching_mesh_data[j][\"branch_skeletons\"] = total_skeletons\n",
    "    \n",
    "print(f\"Total time for skeletonization = {time.time() - global_start_time}\")"
   ]
  },
  {
   "cell_type": "code",
   "execution_count": 15,
   "metadata": {},
   "outputs": [
    {
     "name": "stdout",
     "output_type": "stream",
     "text": [
      "hello\n"
     ]
    }
   ],
   "source": [
    "# save off the data and rename it for use in phase 2\n",
    "# Save our current\n",
    "print(\"hello\")\n",
    "saved_file = \"soma_touching_mesh_data.npz\"\n",
    "np.savez(saved_file,soma_touching_mesh_data=soma_touching_mesh_data)\n",
    "current_mesh_data = soma_touching_mesh_data"
   ]
  },
  {
   "cell_type": "markdown",
   "metadata": {},
   "source": [
    "# Lets have an alert if there was more than one soma disconnected meshes"
   ]
  },
  {
   "cell_type": "code",
   "execution_count": 16,
   "metadata": {},
   "outputs": [],
   "source": [
    "if len(soma_touching_mesh_data.keys()) > 1:\n",
    "    raise Exception(\"More than 1 disconnected meshes that contain somas\")"
   ]
  },
  {
   "cell_type": "markdown",
   "metadata": {},
   "source": [
    "# ******* Phase 2 ********"
   ]
  },
  {
   "cell_type": "markdown",
   "metadata": {},
   "source": [
    "# Importing and visualizing the preprocessed data (for sped up testing)"
   ]
  },
  {
   "cell_type": "code",
   "execution_count": 17,
   "metadata": {},
   "outputs": [
    {
     "name": "stdout",
     "output_type": "stream",
     "text": [
      "\n"
     ]
    }
   ],
   "source": [
    "# saved_file = \"../../Platinum_Compartment/soma_touching_mesh_data.npz\"\n",
    "saved_file = \"./soma_touching_mesh_data.npz\"\n",
    "current_mesh_data = nu.load_dict(saved_file)"
   ]
  },
  {
   "cell_type": "code",
   "execution_count": 18,
   "metadata": {},
   "outputs": [
    {
     "data": {
      "application/vnd.jupyter.widget-view+json": {
       "model_id": "741b036032e247b3919d667ec7d5cc05",
       "version_major": 2,
       "version_minor": 0
      },
      "text/plain": [
       "VBox(children=(Figure(camera=PerspectiveCamera(fov=46.0, position=(0.0, 0.0, 2.0), quaternion=(0.0, 0.0, 0.0, …"
      ]
     },
     "metadata": {},
     "output_type": "display_data"
    }
   ],
   "source": [
    "# visualizing the original neuron\n",
    "current_neuron = trimesh.load_mesh(\"/notebooks/neuron_mesh_tools/test_neurons/multi_soma_example.off\")\n",
    "segment_id = 12345\n",
    "sk.graph_skeleton_and_mesh(main_mesh_verts=current_neuron.vertices,\n",
    "                          main_mesh_faces=current_neuron.faces,\n",
    "                           main_mesh_color = [0.,1.,0.,0.8]\n",
    "                          )"
   ]
  },
  {
   "cell_type": "code",
   "execution_count": 19,
   "metadata": {},
   "outputs": [
    {
     "data": {
      "application/vnd.jupyter.widget-view+json": {
       "model_id": "f8f4ed72642e49529969c6272977cf25",
       "version_major": 2,
       "version_minor": 0
      },
      "text/plain": [
       "VBox(children=(Figure(camera=PerspectiveCamera(fov=46.0, position=(0.0, 0.0, 2.0), quaternion=(0.0, 0.0, 0.0, …"
      ]
     },
     "metadata": {},
     "output_type": "display_data"
    }
   ],
   "source": [
    "# visualizing the somas that were extracted\n",
    "soma_meshes = tu.combine_meshes(current_mesh_data[0][\"soma_meshes\"])\n",
    "sk.graph_skeleton_and_mesh(main_mesh_verts=soma_meshes.vertices,\n",
    "                          main_mesh_faces=soma_meshes.faces,\n",
    "                           main_mesh_color = [0.,1.,0.,0.8]\n",
    "                          )"
   ]
  },
  {
   "cell_type": "code",
   "execution_count": 20,
   "metadata": {},
   "outputs": [],
   "source": [
    "# # Visualize the extracted branches\n",
    "# # visualize all of the branches and the meshes\n",
    "# sk.graph_skeleton_and_mesh(other_meshes=list(current_mesh_data[0][\"branch_meshes\"]) + list(current_mesh_data[0][\"soma_meshes\"]),\n",
    "#                           other_meshes_colors=\"random\",\n",
    "#                            other_skeletons = current_mesh_data[0][\"branch_skeletons\"],\n",
    "#                           other_skeletons_colors=\"random\")"
   ]
  },
  {
   "cell_type": "markdown",
   "metadata": {},
   "source": [
    "# Cleaning each limb through distance and decomposition, checking that all cleaned branches are connected components and then visualizing"
   ]
  },
  {
   "cell_type": "code",
   "execution_count": 21,
   "metadata": {
    "scrolled": true
   },
   "outputs": [
    {
     "name": "stdout",
     "output_type": "stream",
     "text": [
      "\n",
      "---- Working on Limb 0 ----\n",
      "before cleaning limb size of skeleton = (4022, 2, 3)\n",
      "Using Distance measure skeletal_distance\n",
      "no small end nodes to get rid of so returning whole skeleton\n",
      "after DISTANCE cleaning limb size of skeleton = (4022, 2, 3)\n",
      "After DECOMPOSITION cleaning limb size of skeleton = (4022, 2, 3)\n",
      "Total time = 1.5437593460083008\n",
      "\n",
      "---- Working on Limb 1 ----\n",
      "before cleaning limb size of skeleton = (2901, 2, 3)\n",
      "Using Distance measure skeletal_distance\n",
      "no small end nodes to get rid of so returning whole skeleton\n",
      "after DISTANCE cleaning limb size of skeleton = (2901, 2, 3)\n",
      "After DECOMPOSITION cleaning limb size of skeleton = (2901, 2, 3)\n",
      "Total time = 1.071669101715088\n",
      "\n",
      "---- Working on Limb 2 ----\n",
      "before cleaning limb size of skeleton = (1944, 2, 3)\n",
      "Using Distance measure skeletal_distance\n",
      "no small end nodes to get rid of so returning whole skeleton\n",
      "after DISTANCE cleaning limb size of skeleton = (1944, 2, 3)\n",
      "After DECOMPOSITION cleaning limb size of skeleton = (1944, 2, 3)\n",
      "Total time = 0.7267341613769531\n",
      "\n",
      "---- Working on Limb 3 ----\n",
      "before cleaning limb size of skeleton = (1838, 2, 3)\n",
      "Using Distance measure skeletal_distance\n",
      "no small end nodes to get rid of so returning whole skeleton\n",
      "after DISTANCE cleaning limb size of skeleton = (1838, 2, 3)\n",
      "type(branch_subgraph) = <class 'networkx_utils.GraphOrderedEdges'>\n",
      "in remove edge\n",
      "After DECOMPOSITION cleaning limb size of skeleton = (1837, 2, 3)\n",
      "Total time = 0.6985878944396973\n",
      "\n",
      "---- Working on Limb 4 ----\n",
      "before cleaning limb size of skeleton = (2214, 2, 3)\n",
      "Using Distance measure skeletal_distance\n",
      "no small end nodes to get rid of so returning whole skeleton\n",
      "after DISTANCE cleaning limb size of skeleton = (2214, 2, 3)\n",
      "After DECOMPOSITION cleaning limb size of skeleton = (2214, 2, 3)\n",
      "Total time = 0.8112194538116455\n",
      "\n",
      "---- Working on Limb 5 ----\n",
      "before cleaning limb size of skeleton = (1091, 2, 3)\n",
      "Using Distance measure skeletal_distance\n",
      "no small end nodes to get rid of so returning whole skeleton\n",
      "after DISTANCE cleaning limb size of skeleton = (1091, 2, 3)\n",
      "After DECOMPOSITION cleaning limb size of skeleton = (1091, 2, 3)\n",
      "Total time = 0.3994457721710205\n",
      "\n",
      "---- Working on Limb 6 ----\n",
      "before cleaning limb size of skeleton = (1031, 2, 3)\n",
      "Using Distance measure skeletal_distance\n",
      "no small end nodes to get rid of so returning whole skeleton\n",
      "after DISTANCE cleaning limb size of skeleton = (1031, 2, 3)\n",
      "After DECOMPOSITION cleaning limb size of skeleton = (1031, 2, 3)\n",
      "Total time = 0.3848075866699219\n",
      "\n",
      "---- Working on Limb 7 ----\n",
      "before cleaning limb size of skeleton = (1043, 2, 3)\n",
      "Using Distance measure skeletal_distance\n",
      "no small end nodes to get rid of so returning whole skeleton\n",
      "after DISTANCE cleaning limb size of skeleton = (1043, 2, 3)\n",
      "After DECOMPOSITION cleaning limb size of skeleton = (1043, 2, 3)\n",
      "Total time = 0.3890571594238281\n",
      "\n",
      "---- Working on Limb 8 ----\n",
      "before cleaning limb size of skeleton = (672, 2, 3)\n",
      "Using Distance measure skeletal_distance\n",
      "no small end nodes to get rid of so returning whole skeleton\n",
      "after DISTANCE cleaning limb size of skeleton = (672, 2, 3)\n",
      "After DECOMPOSITION cleaning limb size of skeleton = (672, 2, 3)\n",
      "Total time = 0.24803447723388672\n",
      "\n",
      "---- Working on Limb 9 ----\n",
      "before cleaning limb size of skeleton = (250, 2, 3)\n",
      "Using Distance measure skeletal_distance\n",
      "no small end nodes to get rid of so returning whole skeleton\n",
      "after DISTANCE cleaning limb size of skeleton = (250, 2, 3)\n",
      "After DECOMPOSITION cleaning limb size of skeleton = (250, 2, 3)\n",
      "Total time = 0.09655189514160156\n",
      "\n",
      "---- Working on Limb 10 ----\n",
      "before cleaning limb size of skeleton = (33, 2, 3)\n",
      "Using Distance measure skeletal_distance\n",
      "no small end nodes to get rid of so returning whole skeleton\n",
      "after DISTANCE cleaning limb size of skeleton = (33, 2, 3)\n",
      "only one skeleton so no stacking needed\n",
      "After DECOMPOSITION cleaning limb size of skeleton = (33, 2, 3)\n",
      "Total time = 0.016787052154541016\n"
     ]
    }
   ],
   "source": [
    "skelton_cleaning_threshold = 4001\n",
    "total_cleaned = []\n",
    "for j,curr_skeleton_to_clean in enumerate(current_mesh_data[0][\"branch_skeletons\"]):\n",
    "    print(f\"\\n---- Working on Limb {j} ----\")\n",
    "    start_time = time.time()\n",
    "    print(f\"before cleaning limb size of skeleton = {curr_skeleton_to_clean.shape}\")\n",
    "    distance_cleaned_skeleton = sk.clean_skeleton(\n",
    "                                                curr_skeleton_to_clean,\n",
    "                                                distance_func=sk.skeletal_distance,\n",
    "                                                min_distance_to_junction = skelton_cleaning_threshold,\n",
    "                                                return_skeleton=True,\n",
    "                                                print_flag=False) \n",
    "    #make sure still connected componet\n",
    "    distance_cleaned_skeleton_components = nx.number_connected_components(sk.convert_skeleton_to_graph(distance_cleaned_skeleton))\n",
    "    if distance_cleaned_skeleton_components > 1:\n",
    "        raise Exception(f\"distance_cleaned_skeleton {j} was not a single component: it was actually {distance_cleaned_skeleton_components} components\")\n",
    "        \n",
    "    print(f\"after DISTANCE cleaning limb size of skeleton = {distance_cleaned_skeleton.shape}\")\n",
    "    cleaned_branch = sk.clean_skeleton_with_decompose(distance_cleaned_skeleton)\n",
    "    \n",
    "    cleaned_branch_components = nx.number_connected_components(sk.convert_skeleton_to_graph(cleaned_branch))\n",
    "    if cleaned_branch_components > 1:\n",
    "        raise Exception(f\"cleaned_branch {j} was not a single component: it was actually {cleaned_branch_components} components\")\n",
    "    \n",
    "    #do the cleanin ghtat removes loops from branches\n",
    "    print(f\"After DECOMPOSITION cleaning limb size of skeleton = {cleaned_branch.shape}\")\n",
    "    print(f\"Total time = {time.time() - start_time}\")\n",
    "    total_cleaned.append(cleaned_branch)\n",
    "    \n",
    "current_mesh_data[0][\"branch_skeletons_cleaned\"] = total_cleaned"
   ]
  },
  {
   "cell_type": "code",
   "execution_count": 22,
   "metadata": {},
   "outputs": [],
   "source": [
    "# checking all cleaned branches are connected components\n",
    "\n",
    "for k,cl_sk in enumerate(current_mesh_data[0][\"branch_skeletons\"]): \n",
    "    n_components = nx.number_connected_components(sk.convert_skeleton_to_graph(cl_sk)) \n",
    "    if n_components > 1:\n",
    "        raise Exception(f\"Original limb {k} was not a single component: it was actually {n_components} components\")\n",
    "    \n",
    "for k,cl_sk in enumerate(current_mesh_data[0][\"branch_skeletons_cleaned\"]): \n",
    "    n_components = nx.number_connected_components(sk.convert_skeleton_to_graph(cl_sk)) \n",
    "    if n_components > 1:\n",
    "        raise Exception(f\"Cleaned limb {k} was not a single component: it was actually {n_components} components\")"
   ]
  },
  {
   "cell_type": "code",
   "execution_count": 23,
   "metadata": {},
   "outputs": [
    {
     "data": {
      "application/vnd.jupyter.widget-view+json": {
       "model_id": "06018ef90cad462a95c45c040ccad8a1",
       "version_major": 2,
       "version_minor": 0
      },
      "text/plain": [
       "VBox(children=(Figure(camera=PerspectiveCamera(fov=46.0, position=(0.0, 0.0, 2.0), quaternion=(0.0, 0.0, 0.0, …"
      ]
     },
     "metadata": {},
     "output_type": "display_data"
    }
   ],
   "source": [
    "# visualize all of the branches and the meshes\n",
    "sk.graph_skeleton_and_mesh(other_meshes=list(current_mesh_data[0][\"branch_meshes\"]) + list(current_mesh_data[0][\"soma_meshes\"]),\n",
    "                          other_meshes_colors=\"random\",\n",
    "                           other_skeletons = current_mesh_data[0][\"branch_skeletons_cleaned\"],\n",
    "                          other_skeletons_colors=\"random\",\n",
    "                          mesh_alpha=0.15)"
   ]
  },
  {
   "cell_type": "markdown",
   "metadata": {},
   "source": [
    "# Decomposing of limbs into branches and finding mesh correspondence (using adaptive mesh correspondence followed by a water fill for conflict and empty faces), checking that it went well with no empty meshes and all connected component graph when constructed from branches, plus visualization at end"
   ]
  },
  {
   "cell_type": "code",
   "execution_count": 24,
   "metadata": {
    "scrolled": true
   },
   "outputs": [
    {
     "name": "stdout",
     "output_type": "stream",
     "text": [
      "Working on limb #0\n"
     ]
    },
    {
     "data": {
      "application/vnd.jupyter.widget-view+json": {
       "model_id": "a4966e30712349c7b881d033d35801dc",
       "version_major": 2,
       "version_minor": 0
      },
      "text/plain": [
       "HBox(children=(FloatProgress(value=1.0, bar_style='info', max=1.0), HTML(value='')))"
      ]
     },
     "metadata": {},
     "output_type": "display_data"
    },
    {
     "data": {
      "application/vnd.jupyter.widget-view+json": {
       "model_id": "bb5671282f574276b3e9bdee2e84ac9f",
       "version_major": 2,
       "version_minor": 0
      },
      "text/plain": [
       "HBox(children=(FloatProgress(value=1.0, bar_style='info', max=1.0), HTML(value='')))"
      ]
     },
     "metadata": {},
     "output_type": "display_data"
    },
    {
     "name": "stdout",
     "output_type": "stream",
     "text": [
      "\n",
      "filtered_measurements = [401.39947491 270.45032075 266.58695961 311.10901413 235.7378436\n",
      " 166.54184996 129.74427237 256.5053297  164.63883251 191.12416085\n",
      " 213.17419388 189.25042905 237.89616633 359.28275024 325.78384205\n",
      " 224.39189435 343.94522009 257.54339179 274.27300895 306.99900016\n",
      " 315.90175223 253.61989053 221.83441178 413.53699967 429.05944235\n",
      " 326.42276955 218.74552692 420.97444136 453.2350279  244.11234098\n",
      " 204.75483992 331.17588765 336.08870709 378.62025189 254.93440894]\n",
      "new_threshold = 1060.427772065333\n"
     ]
    },
    {
     "data": {
      "application/vnd.jupyter.widget-view+json": {
       "model_id": "a571aceb42134731ab14a893e9a4788d",
       "version_major": 2,
       "version_minor": 0
      },
      "text/plain": [
       "HBox(children=(FloatProgress(value=1.0, bar_style='info', max=1.0), HTML(value='')))"
      ]
     },
     "metadata": {},
     "output_type": "display_data"
    },
    {
     "name": "stdout",
     "output_type": "stream",
     "text": [
      "\n"
     ]
    },
    {
     "data": {
      "application/vnd.jupyter.widget-view+json": {
       "model_id": "515ae13616ed42ca8d3e132abcc033f8",
       "version_major": 2,
       "version_minor": 0
      },
      "text/plain": [
       "HBox(children=(FloatProgress(value=1.0, bar_style='info', max=1.0), HTML(value='')))"
      ]
     },
     "metadata": {},
     "output_type": "display_data"
    },
    {
     "name": "stdout",
     "output_type": "stream",
     "text": [
      "\n",
      "filtered_measurements = [104.15209896  96.74907657 116.99950838 100.71406272 113.78095527\n",
      "  96.00764761  75.9759825  116.49624454]\n",
      "new_threshold = 225.44136810883128\n"
     ]
    },
    {
     "data": {
      "application/vnd.jupyter.widget-view+json": {
       "model_id": "4b248310ebb9412cb90267d753941325",
       "version_major": 2,
       "version_minor": 0
      },
      "text/plain": [
       "HBox(children=(FloatProgress(value=1.0, bar_style='info', max=1.0), HTML(value='')))"
      ]
     },
     "metadata": {},
     "output_type": "display_data"
    },
    {
     "name": "stdout",
     "output_type": "stream",
     "text": [
      "--> Not exactly one containing mesh: []\n",
      "--> Not exactly one containing mesh: []\n",
      "THERE WERE NO FACES THAT FIT THE DISTANCE (225.44136810883128) and Z transform requirements\n",
      "So just skipping this edge\n",
      "\n",
      "branch_touching_number = [9]\n",
      "branch_touching_number = [9, 1]\n",
      "branch_touching_number = [9, 1, 1]\n",
      "most_branch_containing_piece = 0\n"
     ]
    },
    {
     "data": {
      "application/vnd.jupyter.widget-view+json": {
       "model_id": "70da8466ba8f4654ae0f031355877c0a",
       "version_major": 2,
       "version_minor": 0
      },
      "text/plain": [
       "HBox(children=(FloatProgress(value=1.0, bar_style='info', max=1.0), HTML(value='')))"
      ]
     },
     "metadata": {},
     "output_type": "display_data"
    },
    {
     "name": "stdout",
     "output_type": "stream",
     "text": [
      "--> Not exactly one containing mesh: [0 1]\n",
      "\n",
      "filtered_measurements = [385.03656767 279.27398555 333.87350488]\n",
      "new_threshold = 709.0363737208879\n"
     ]
    },
    {
     "data": {
      "application/vnd.jupyter.widget-view+json": {
       "model_id": "e687b621630e46bdbfa1dfea3f21a393",
       "version_major": 2,
       "version_minor": 0
      },
      "text/plain": [
       "HBox(children=(FloatProgress(value=1.0, bar_style='info', max=1.0), HTML(value='')))"
      ]
     },
     "metadata": {},
     "output_type": "display_data"
    },
    {
     "name": "stdout",
     "output_type": "stream",
     "text": [
      "\n"
     ]
    },
    {
     "data": {
      "application/vnd.jupyter.widget-view+json": {
       "model_id": "a83fb6d9104141b6a56d8b59f6cd55f8",
       "version_major": 2,
       "version_minor": 0
      },
      "text/plain": [
       "HBox(children=(FloatProgress(value=1.0, bar_style='info', max=1.0), HTML(value='')))"
      ]
     },
     "metadata": {},
     "output_type": "display_data"
    },
    {
     "name": "stdout",
     "output_type": "stream",
     "text": [
      "\n",
      "filtered_measurements = [391.72462069 355.22733239 348.57785762 329.68808244 284.70036401\n",
      " 251.91266629 231.74267735 342.72270016 429.67235576]\n",
      "new_threshold = 858.1800526241184\n"
     ]
    },
    {
     "data": {
      "application/vnd.jupyter.widget-view+json": {
       "model_id": "82152bd308b64d9e9a4708690d0a42c3",
       "version_major": 2,
       "version_minor": 0
      },
      "text/plain": [
       "HBox(children=(FloatProgress(value=1.0, bar_style='info', max=1.0), HTML(value='')))"
      ]
     },
     "metadata": {},
     "output_type": "display_data"
    },
    {
     "name": "stdout",
     "output_type": "stream",
     "text": [
      "\n"
     ]
    },
    {
     "data": {
      "application/vnd.jupyter.widget-view+json": {
       "model_id": "63d2ac4d421249ba81242e1caf382e4a",
       "version_major": 2,
       "version_minor": 0
      },
      "text/plain": [
       "HBox(children=(FloatProgress(value=1.0, bar_style='info', max=1.0), HTML(value='')))"
      ]
     },
     "metadata": {},
     "output_type": "display_data"
    },
    {
     "name": "stdout",
     "output_type": "stream",
     "text": [
      "--> Not exactly one containing mesh: []\n",
      "--> Not exactly one containing mesh: []\n",
      "\n",
      "filtered_measurements = [248.45115435 159.30105641 100.86851193 106.77237524 219.7510051 ]\n",
      "new_threshold = 372.8460419742231\n"
     ]
    },
    {
     "data": {
      "application/vnd.jupyter.widget-view+json": {
       "model_id": "a6942f3c4c104834a605e0013d0046af",
       "version_major": 2,
       "version_minor": 0
      },
      "text/plain": [
       "HBox(children=(FloatProgress(value=1.0, bar_style='info', max=1.0), HTML(value='')))"
      ]
     },
     "metadata": {},
     "output_type": "display_data"
    },
    {
     "name": "stdout",
     "output_type": "stream",
     "text": [
      "--> Not exactly one containing mesh: []\n",
      "--> Not exactly one containing mesh: []\n",
      "\n"
     ]
    },
    {
     "data": {
      "application/vnd.jupyter.widget-view+json": {
       "model_id": "e11115d0dd02481d99beaffb29442ebd",
       "version_major": 2,
       "version_minor": 0
      },
      "text/plain": [
       "HBox(children=(FloatProgress(value=1.0, bar_style='info', max=1.0), HTML(value='')))"
      ]
     },
     "metadata": {},
     "output_type": "display_data"
    },
    {
     "name": "stdout",
     "output_type": "stream",
     "text": [
      "\n",
      "filtered_measurements = [258.26557144 480.97505942 265.76470236]\n",
      "new_threshold = 1130.031389764277\n"
     ]
    },
    {
     "data": {
      "application/vnd.jupyter.widget-view+json": {
       "model_id": "54ab98ff827d4a93a82737ba7aca2a67",
       "version_major": 2,
       "version_minor": 0
      },
      "text/plain": [
       "HBox(children=(FloatProgress(value=1.0, bar_style='info', max=1.0), HTML(value='')))"
      ]
     },
     "metadata": {},
     "output_type": "display_data"
    },
    {
     "name": "stdout",
     "output_type": "stream",
     "text": [
      "\n"
     ]
    },
    {
     "data": {
      "application/vnd.jupyter.widget-view+json": {
       "model_id": "14a506535b3c4618a0d9906cefd3b374",
       "version_major": 2,
       "version_minor": 0
      },
      "text/plain": [
       "HBox(children=(FloatProgress(value=1.0, bar_style='info', max=1.0), HTML(value='')))"
      ]
     },
     "metadata": {},
     "output_type": "display_data"
    },
    {
     "name": "stdout",
     "output_type": "stream",
     "text": [
      "--> Not exactly one containing mesh: [0 1]\n",
      "\n",
      "filtered_measurements = [142.94154721 181.90976267 159.75454194 209.92815165 209.30534049\n",
      "  95.70160578 150.50352449]\n",
      "new_threshold = 449.03396672026247\n"
     ]
    },
    {
     "data": {
      "application/vnd.jupyter.widget-view+json": {
       "model_id": "d062a00c28284638a2845927924bd859",
       "version_major": 2,
       "version_minor": 0
      },
      "text/plain": [
       "HBox(children=(FloatProgress(value=1.0, bar_style='info', max=1.0), HTML(value='')))"
      ]
     },
     "metadata": {},
     "output_type": "display_data"
    },
    {
     "name": "stdout",
     "output_type": "stream",
     "text": [
      "--> Not exactly one containing mesh: []\n",
      "\n",
      "branch_touching_number = [9]\n",
      "branch_touching_number = [9, 1]\n",
      "most_branch_containing_piece = 0\n"
     ]
    },
    {
     "data": {
      "application/vnd.jupyter.widget-view+json": {
       "model_id": "16a07eb2bddc4cb38f4e743b409559cb",
       "version_major": 2,
       "version_minor": 0
      },
      "text/plain": [
       "HBox(children=(FloatProgress(value=1.0, bar_style='info', max=1.0), HTML(value='')))"
      ]
     },
     "metadata": {},
     "output_type": "display_data"
    },
    {
     "name": "stdout",
     "output_type": "stream",
     "text": [
      "--> Not exactly one containing mesh: []\n",
      "\n",
      "filtered_measurements = [171.99739116 124.49180713  94.52256592 112.71250168 169.76951931\n",
      " 131.47778997  96.55278916 123.66913456 124.13866926 130.27520036\n",
      " 120.91168743 122.66684563]\n",
      "new_threshold = 362.3634114516889\n"
     ]
    },
    {
     "data": {
      "application/vnd.jupyter.widget-view+json": {
       "model_id": "33d753a1abe4428a8e0ee87f6b07fd1c",
       "version_major": 2,
       "version_minor": 0
      },
      "text/plain": [
       "HBox(children=(FloatProgress(value=1.0, bar_style='info', max=1.0), HTML(value='')))"
      ]
     },
     "metadata": {},
     "output_type": "display_data"
    },
    {
     "name": "stdout",
     "output_type": "stream",
     "text": [
      "--> Not exactly one containing mesh: []\n",
      "--> Not exactly one containing mesh: []\n",
      "\n",
      "branch_touching_number = [18]\n",
      "branch_touching_number = [18, 1]\n",
      "most_branch_containing_piece = 0\n"
     ]
    },
    {
     "data": {
      "application/vnd.jupyter.widget-view+json": {
       "model_id": "ded86a47d5214524b5a82e1a1efbe8a4",
       "version_major": 2,
       "version_minor": 0
      },
      "text/plain": [
       "HBox(children=(FloatProgress(value=1.0, bar_style='info', max=1.0), HTML(value='')))"
      ]
     },
     "metadata": {},
     "output_type": "display_data"
    },
    {
     "name": "stdout",
     "output_type": "stream",
     "text": [
      "\n",
      "filtered_measurements = [186.76955333 222.41507895 288.83373219]\n",
      "new_threshold = 406.27950352919095\n"
     ]
    },
    {
     "data": {
      "application/vnd.jupyter.widget-view+json": {
       "model_id": "bcb97a455d134678be9e32135b171460",
       "version_major": 2,
       "version_minor": 0
      },
      "text/plain": [
       "HBox(children=(FloatProgress(value=1.0, bar_style='info', max=1.0), HTML(value='')))"
      ]
     },
     "metadata": {},
     "output_type": "display_data"
    },
    {
     "name": "stdout",
     "output_type": "stream",
     "text": [
      "\n"
     ]
    },
    {
     "data": {
      "application/vnd.jupyter.widget-view+json": {
       "model_id": "996062e8ae3c4c7ca236a251310ec089",
       "version_major": 2,
       "version_minor": 0
      },
      "text/plain": [
       "HBox(children=(FloatProgress(value=1.0, bar_style='info', max=1.0), HTML(value='')))"
      ]
     },
     "metadata": {},
     "output_type": "display_data"
    },
    {
     "name": "stdout",
     "output_type": "stream",
     "text": [
      "--> Not exactly one containing mesh: []\n",
      "--> Not exactly one containing mesh: []\n",
      "--> Not exactly one containing mesh: []\n",
      "--> Not exactly one containing mesh: []\n",
      "--> Not exactly one containing mesh: []\n",
      "\n",
      "filtered_measurements = [140.68319484  84.75151982 106.94833146 137.07981225  85.08954993\n",
      " 104.08051489  98.93792092 139.18312568 120.17637186 126.03841045\n",
      "  73.47385691  96.79051792 142.3699252  102.91497856  80.07709269\n",
      "  72.73355009  71.87231737 105.40410821 145.83488993 118.80456349\n",
      " 106.73551205 105.61012845  92.51273219 161.69775716 138.96029189\n",
      " 120.61589975  77.61758196  73.12088205 169.92187325  84.87869238\n",
      " 110.60296371  86.0810906  162.63329107 172.43310561 165.08807656\n",
      " 147.76122423 134.14231216  90.26135287  77.37146327 150.16124753\n",
      " 126.7838851   96.56233071  66.59475779 100.56366371 114.08597054\n",
      " 110.83559329  72.43734057 115.60537671 141.94113742 104.76913152\n",
      "  93.51531795 112.58986953 138.21180577  96.12531524 116.65600274\n",
      " 147.15263664 101.37879415 121.40171063 130.35068355 102.44480746\n",
      " 109.38968113 111.90637401 115.36158879  90.27477462 137.21714505]\n",
      "new_threshold = 439.2385067999483\n"
     ]
    },
    {
     "data": {
      "application/vnd.jupyter.widget-view+json": {
       "model_id": "c8ee86166a19459f8704468257367f95",
       "version_major": 2,
       "version_minor": 0
      },
      "text/plain": [
       "HBox(children=(FloatProgress(value=1.0, bar_style='info', max=1.0), HTML(value='')))"
      ]
     },
     "metadata": {},
     "output_type": "display_data"
    },
    {
     "name": "stdout",
     "output_type": "stream",
     "text": [
      "--> Not exactly one containing mesh: []\n",
      "--> Not exactly one containing mesh: []\n",
      "--> Not exactly one containing mesh: []\n",
      "--> Not exactly one containing mesh: []\n",
      "--> Not exactly one containing mesh: []\n",
      "--> Not exactly one containing mesh: []\n",
      "\n",
      "branch_touching_number = [78]\n",
      "branch_touching_number = [78, 1]\n",
      "most_branch_containing_piece = 0\n"
     ]
    },
    {
     "data": {
      "application/vnd.jupyter.widget-view+json": {
       "model_id": "ded4160348c643988730b36648b15665",
       "version_major": 2,
       "version_minor": 0
      },
      "text/plain": [
       "HBox(children=(FloatProgress(value=1.0, bar_style='info', max=1.0), HTML(value='')))"
      ]
     },
     "metadata": {},
     "output_type": "display_data"
    },
    {
     "name": "stdout",
     "output_type": "stream",
     "text": [
      "\n",
      "filtered_measurements = [283.34037117 458.64893685 373.90142653 423.62764241 359.25052012\n",
      " 376.21969212 410.65814065 319.75984469 338.38472642 515.04137393\n",
      " 356.18519367 495.37991058 334.72375627 555.33209563 478.4562512\n",
      " 449.61334365 323.88625482 352.40288754 382.36356039 232.63720298\n",
      " 622.63362965 565.65680531 424.98020509 231.18718821 439.11859806\n",
      " 387.45940107 445.66517254 485.1152335  368.62127488 294.10142579\n",
      " 258.36690596 444.89794497 415.32641701 283.55884567 337.86243822\n",
      " 329.03953467 258.21204985 258.89566829 511.20859459 511.87471673\n",
      " 481.76148667 346.60936268 435.76078008 332.08774534 578.91998902\n",
      " 536.83006208 328.98405256 394.55490623 330.81711343 450.14347978\n",
      " 272.67773168 549.44468052 572.57848572 499.5540895  484.21871923\n",
      " 291.5671078  365.32230622 357.20133449 475.00338286 336.91724795]\n",
      "new_threshold = 1686.5292124375942\n"
     ]
    },
    {
     "data": {
      "application/vnd.jupyter.widget-view+json": {
       "model_id": "33f7eb1b887b4f0ba5c61b7cccacffd3",
       "version_major": 2,
       "version_minor": 0
      },
      "text/plain": [
       "HBox(children=(FloatProgress(value=1.0, bar_style='info', max=1.0), HTML(value='')))"
      ]
     },
     "metadata": {},
     "output_type": "display_data"
    },
    {
     "name": "stdout",
     "output_type": "stream",
     "text": [
      "\n"
     ]
    },
    {
     "data": {
      "application/vnd.jupyter.widget-view+json": {
       "model_id": "a6688fc7b4ac4809beb47cc826029377",
       "version_major": 2,
       "version_minor": 0
      },
      "text/plain": [
       "HBox(children=(FloatProgress(value=1.0, bar_style='info', max=1.0), HTML(value='')))"
      ]
     },
     "metadata": {},
     "output_type": "display_data"
    },
    {
     "name": "stdout",
     "output_type": "stream",
     "text": [
      "--> Not exactly one containing mesh: []\n",
      "--> Not exactly one containing mesh: []\n",
      "--> Not exactly one containing mesh: []\n",
      "\n",
      "filtered_measurements = [164.30460239 146.83410654  64.40540787  91.3166811   75.95636204\n",
      "  54.99670543  96.66391389 114.58605116 164.13020897]\n",
      "new_threshold = 321.9292540410563\n"
     ]
    },
    {
     "data": {
      "application/vnd.jupyter.widget-view+json": {
       "model_id": "71f4239ba39a4c37a9adfcf6ee7c80da",
       "version_major": 2,
       "version_minor": 0
      },
      "text/plain": [
       "HBox(children=(FloatProgress(value=1.0, bar_style='info', max=1.0), HTML(value='')))"
      ]
     },
     "metadata": {},
     "output_type": "display_data"
    },
    {
     "name": "stdout",
     "output_type": "stream",
     "text": [
      "--> Not exactly one containing mesh: []\n",
      "--> Not exactly one containing mesh: []\n",
      "--> Not exactly one containing mesh: []\n",
      "\n",
      "branch_touching_number = [12]\n",
      "branch_touching_number = [12, 1]\n",
      "branch_touching_number = [12, 1, 1]\n",
      "most_branch_containing_piece = 0\n"
     ]
    },
    {
     "data": {
      "application/vnd.jupyter.widget-view+json": {
       "model_id": "e37ed8e53787470caa02edb0658dce07",
       "version_major": 2,
       "version_minor": 0
      },
      "text/plain": [
       "HBox(children=(FloatProgress(value=1.0, bar_style='info', max=1.0), HTML(value='')))"
      ]
     },
     "metadata": {},
     "output_type": "display_data"
    },
    {
     "name": "stdout",
     "output_type": "stream",
     "text": [
      "\n",
      "filtered_measurements = [377.18704045 425.30244368 668.26464601 534.37650638 789.0664661\n",
      " 498.40365634 487.47394648 454.19270565 781.59766083 783.49822022\n",
      " 522.78560855 444.86183854 352.62298392 519.71884227 660.97942187\n",
      " 409.53774235 527.76849958 494.24890218 659.74636105 638.14896707\n",
      " 431.18414838 454.52759595 702.20953986 382.09160582 474.81976412\n",
      " 402.8573574  605.92031382 508.0591313  670.99101656 573.96082643\n",
      " 777.88751595 432.58371775 545.12458297 493.05146212 762.22794576\n",
      " 496.12046856 638.92219443 464.46684284]\n",
      "new_threshold = 2090.9396378543734\n"
     ]
    },
    {
     "data": {
      "application/vnd.jupyter.widget-view+json": {
       "model_id": "7736237d79184d94b3ea3a56e19ce62d",
       "version_major": 2,
       "version_minor": 0
      },
      "text/plain": [
       "HBox(children=(FloatProgress(value=1.0, bar_style='info', max=1.0), HTML(value='')))"
      ]
     },
     "metadata": {},
     "output_type": "display_data"
    },
    {
     "name": "stdout",
     "output_type": "stream",
     "text": [
      "\n"
     ]
    },
    {
     "data": {
      "application/vnd.jupyter.widget-view+json": {
       "model_id": "cb5e72770e354370b32d585b9ab386be",
       "version_major": 2,
       "version_minor": 0
      },
      "text/plain": [
       "HBox(children=(FloatProgress(value=1.0, bar_style='info', max=1.0), HTML(value='')))"
      ]
     },
     "metadata": {},
     "output_type": "display_data"
    },
    {
     "name": "stdout",
     "output_type": "stream",
     "text": [
      "--> Not exactly one containing mesh: []\n",
      "--> Not exactly one containing mesh: []\n",
      "\n",
      "branch_touching_number = [20]\n",
      "branch_touching_number = [20, 2]\n",
      "most_branch_containing_piece = 0\n",
      "filtered_measurements = [ 96.48752737 182.45892353 161.31806399 125.71431606  64.81920752\n",
      "  54.36276356 135.79073002 111.98570824 213.63606416 104.04323026\n",
      "  80.76319632  88.4150536  135.7891025  195.47047091]\n",
      "new_threshold = 490.7554310477218\n"
     ]
    },
    {
     "data": {
      "application/vnd.jupyter.widget-view+json": {
       "model_id": "658c0b087dbe49849fb3fb666fd3b813",
       "version_major": 2,
       "version_minor": 0
      },
      "text/plain": [
       "HBox(children=(FloatProgress(value=1.0, bar_style='info', max=1.0), HTML(value='')))"
      ]
     },
     "metadata": {},
     "output_type": "display_data"
    },
    {
     "name": "stdout",
     "output_type": "stream",
     "text": [
      "--> Not exactly one containing mesh: []\n",
      "THERE WERE NO FACES THAT FIT THE DISTANCE (490.7554310477218) and Z transform requirements\n",
      "So just skipping this edge\n",
      "THERE WERE NO FACES THAT FIT THE DISTANCE (490.7554310477218) and Z transform requirements\n",
      "So just skipping this edge\n",
      "\n"
     ]
    },
    {
     "data": {
      "application/vnd.jupyter.widget-view+json": {
       "model_id": "d19bb562f5d241519a29942441d1fa65",
       "version_major": 2,
       "version_minor": 0
      },
      "text/plain": [
       "HBox(children=(FloatProgress(value=1.0, bar_style='info', max=1.0), HTML(value='')))"
      ]
     },
     "metadata": {},
     "output_type": "display_data"
    },
    {
     "name": "stdout",
     "output_type": "stream",
     "text": [
      "--> Not exactly one containing mesh: []\n",
      "--> Not exactly one containing mesh: []\n",
      "--> Not exactly one containing mesh: [0 2]\n",
      "--> Not exactly one containing mesh: [0 1]\n",
      "\n",
      "filtered_measurements = [102.67181057 139.0938087  135.43379626  89.0138701   66.62110315\n",
      "  95.05279838  85.64769239 119.51356991  73.71329224  68.1918792\n",
      " 106.27021456  96.88077352 110.06917737  94.19688469  87.70312276\n",
      "  94.07094806  75.1647623  127.72072138 115.28455476 100.5410292\n",
      "  94.5308263   88.87826211  69.54777819  86.17532439 129.5674579\n",
      "  69.87392525  91.8341206  154.38411862 120.00976754 139.95543482\n",
      " 102.78085776 108.98489335  99.83377938 119.15201603  99.67818501\n",
      " 120.19317667  99.41248399  75.25289898  80.08042312  97.35453385\n",
      " 110.33592067  75.37257022  94.36373531  62.7296339  105.99304916\n",
      " 125.48326579  81.79798487 107.60694603  72.21586465 103.94262613\n",
      " 116.02345149  85.66288539  83.79063772 136.92653029 129.84714397\n",
      " 118.62651781]\n",
      "new_threshold = 317.63882104281834\n"
     ]
    },
    {
     "data": {
      "application/vnd.jupyter.widget-view+json": {
       "model_id": "a7eed39a92b14ff5baac8498501b82bd",
       "version_major": 2,
       "version_minor": 0
      },
      "text/plain": [
       "HBox(children=(FloatProgress(value=1.0, bar_style='info', max=1.0), HTML(value='')))"
      ]
     },
     "metadata": {},
     "output_type": "display_data"
    },
    {
     "name": "stdout",
     "output_type": "stream",
     "text": [
      "--> Not exactly one containing mesh: []\n",
      "--> Not exactly one containing mesh: []\n",
      "--> Not exactly one containing mesh: []\n",
      "--> Not exactly one containing mesh: []\n",
      "\n",
      "branch_touching_number = [47]\n",
      "branch_touching_number = [47, 23]\n",
      "most_branch_containing_piece = 0\n"
     ]
    },
    {
     "data": {
      "application/vnd.jupyter.widget-view+json": {
       "model_id": "459be79e382e4d0e940eb3c0602a3be0",
       "version_major": 2,
       "version_minor": 0
      },
      "text/plain": [
       "HBox(children=(FloatProgress(value=1.0, bar_style='info', max=1.0), HTML(value='')))"
      ]
     },
     "metadata": {},
     "output_type": "display_data"
    },
    {
     "name": "stdout",
     "output_type": "stream",
     "text": [
      "\n",
      "filtered_measurements = [422.36039975 498.95877279 387.68590611 420.44088266 516.46404927\n",
      " 490.80489035 795.91554911 442.32007918 785.04112074 660.28058866\n",
      " 622.19989216 587.56528026 459.81392218 744.92798128 391.82061324\n",
      " 374.80376741 398.33808864 377.34646108 533.14305931 688.305279\n",
      " 735.08558843 763.68111624 595.66438757 576.84984355 560.00381716\n",
      " 404.16534033 627.94566885 413.09375794 775.09074477 461.63476589\n",
      " 547.19545181 673.81187211 448.03679497 600.56362306 647.55371448\n",
      " 542.15685325 557.91209428 478.71820594 564.15633983 549.66155572\n",
      " 351.73103024 410.58952274 650.58422434 486.05622223 639.84927493\n",
      " 480.95345832 472.19333186]\n",
      "new_threshold = 1811.1086035785725\n"
     ]
    },
    {
     "data": {
      "application/vnd.jupyter.widget-view+json": {
       "model_id": "940399548e6140dc84272f85a48af958",
       "version_major": 2,
       "version_minor": 0
      },
      "text/plain": [
       "HBox(children=(FloatProgress(value=1.0, bar_style='info', max=1.0), HTML(value='')))"
      ]
     },
     "metadata": {},
     "output_type": "display_data"
    },
    {
     "name": "stdout",
     "output_type": "stream",
     "text": [
      "\n"
     ]
    },
    {
     "data": {
      "application/vnd.jupyter.widget-view+json": {
       "model_id": "487302c905a64fcc84d06968838b336e",
       "version_major": 2,
       "version_minor": 0
      },
      "text/plain": [
       "HBox(children=(FloatProgress(value=1.0, bar_style='info', max=1.0), HTML(value='')))"
      ]
     },
     "metadata": {},
     "output_type": "display_data"
    },
    {
     "name": "stdout",
     "output_type": "stream",
     "text": [
      "\n",
      "filtered_measurements = [255.79215078 158.19211719 264.89315797 255.74604536 243.8432341\n",
      " 498.06803362 447.94367385 631.90809438 407.3101241  601.20043773\n",
      " 621.20864151 604.48288854 342.00829157 320.69538248 321.41699727\n",
      " 348.29888364 343.07087079 217.83412669 488.54316994 339.66603603\n",
      " 518.44496204 222.57583104 461.0309003  505.47775759 500.02542436\n",
      " 486.76342416 249.78828212 558.64456313 339.45537858 238.85259424\n",
      " 455.98710773 556.15429995 286.32787365 376.22840734 462.44295486\n",
      " 335.90416038 412.01219833 340.57893662 591.37658926 532.50602377\n",
      " 430.7113303  342.0278841  350.99056974 286.56368783 579.46146003\n",
      " 508.61245279 446.78198245 410.59465533 430.23073663 428.74930987\n",
      " 358.56083073 251.53060883 562.27242565 572.86585044 533.65879551\n",
      " 286.65326122 624.3872914  474.74322975 511.06487828 604.86157792\n",
      " 487.30601901 570.55985996 338.8657043  316.92634144 460.38483854\n",
      " 396.47259417 405.93489922 320.94925528 396.38983827 408.87964553\n",
      " 320.51327866 329.02085285 229.33365464 197.10413156 245.74168186\n",
      " 578.60116336 332.64448735 459.94124174 529.06273769]\n",
      "new_threshold = 1698.1781628298163\n"
     ]
    },
    {
     "data": {
      "application/vnd.jupyter.widget-view+json": {
       "model_id": "41885d4672e14190b26d3d166306a6f2",
       "version_major": 2,
       "version_minor": 0
      },
      "text/plain": [
       "HBox(children=(FloatProgress(value=1.0, bar_style='info', max=1.0), HTML(value='')))"
      ]
     },
     "metadata": {},
     "output_type": "display_data"
    },
    {
     "name": "stdout",
     "output_type": "stream",
     "text": [
      "\n"
     ]
    },
    {
     "data": {
      "application/vnd.jupyter.widget-view+json": {
       "model_id": "5e9bb9a85dc64e3ca4fe06f454e96dc5",
       "version_major": 2,
       "version_minor": 0
      },
      "text/plain": [
       "HBox(children=(FloatProgress(value=1.0, bar_style='info', max=1.0), HTML(value='')))"
      ]
     },
     "metadata": {},
     "output_type": "display_data"
    },
    {
     "name": "stdout",
     "output_type": "stream",
     "text": [
      "--> Not exactly one containing mesh: []\n",
      "\n",
      "filtered_measurements = [330.41996195 288.90205351 191.50100014 380.08487377 530.62318341\n",
      " 609.03537232 544.48221684 266.96404637 401.6112573  601.66697977\n",
      " 623.17186293 472.08926609 450.18815335 585.49875541 618.89795366\n",
      " 342.24870231 331.56483344 331.96700644 521.88273215 289.08471792\n",
      " 395.72987342 417.99016539 382.70146701 515.60434473 496.17761542\n",
      " 325.24383456 293.8433381  440.4172666  450.08828627 395.40004943\n",
      " 408.49682129 472.856329   571.04049856 444.24422936 402.96951252\n",
      " 384.86561167 392.76814216 293.78908144 423.62282173 433.96291197\n",
      " 490.30051363 369.04919861 279.94238414 373.7617313  438.31286845\n",
      " 625.38116884 571.35322793 552.67937896 326.23852452 556.15411133\n",
      " 306.9129311  432.73643736 598.03149595 424.06862529 397.57302915\n",
      " 430.07695039 423.62507059 429.06044762 402.91784936 279.66782505\n",
      " 354.94206319]\n",
      "new_threshold = 1606.2910062368837\n"
     ]
    },
    {
     "data": {
      "application/vnd.jupyter.widget-view+json": {
       "model_id": "3d1e321e0465420faf7bdbde00da4c40",
       "version_major": 2,
       "version_minor": 0
      },
      "text/plain": [
       "HBox(children=(FloatProgress(value=1.0, bar_style='info', max=1.0), HTML(value='')))"
      ]
     },
     "metadata": {},
     "output_type": "display_data"
    },
    {
     "name": "stdout",
     "output_type": "stream",
     "text": [
      "--> Not exactly one containing mesh: []\n",
      "\n"
     ]
    },
    {
     "data": {
      "application/vnd.jupyter.widget-view+json": {
       "model_id": "c7a7a311cbe24538a001539172558693",
       "version_major": 2,
       "version_minor": 0
      },
      "text/plain": [
       "HBox(children=(FloatProgress(value=1.0, bar_style='info', max=1.0), HTML(value='')))"
      ]
     },
     "metadata": {},
     "output_type": "display_data"
    },
    {
     "name": "stdout",
     "output_type": "stream",
     "text": [
      "\n",
      "filtered_measurements = [ 813.49744537  912.89656736  695.52327345  486.24238431 1063.40426973]\n",
      "new_threshold = 2352.770677074882\n"
     ]
    },
    {
     "data": {
      "application/vnd.jupyter.widget-view+json": {
       "model_id": "d445439da1ea49eeb69cd40ea4647eaf",
       "version_major": 2,
       "version_minor": 0
      },
      "text/plain": [
       "HBox(children=(FloatProgress(value=1.0, bar_style='info', max=1.0), HTML(value='')))"
      ]
     },
     "metadata": {},
     "output_type": "display_data"
    },
    {
     "name": "stdout",
     "output_type": "stream",
     "text": [
      "\n"
     ]
    },
    {
     "data": {
      "application/vnd.jupyter.widget-view+json": {
       "model_id": "271c60d780aa418983156ee17f2c05a0",
       "version_major": 2,
       "version_minor": 0
      },
      "text/plain": [
       "HBox(children=(FloatProgress(value=1.0, bar_style='info', max=1.0), HTML(value='')))"
      ]
     },
     "metadata": {},
     "output_type": "display_data"
    },
    {
     "name": "stdout",
     "output_type": "stream",
     "text": [
      "\n",
      "filtered_measurements = [615.66417868 466.59991063 544.42989716 534.87181063 700.8189864\n",
      " 593.32656441 673.96095269 491.52467837 449.37391736 506.89161534\n",
      " 517.67614796 592.41576058 576.52623318 435.34140892 432.11068967\n",
      " 443.32161284 546.69414484 424.90579131 436.66185195 473.86653979\n",
      " 597.70500381 532.70579128 634.23946189 489.62115913 446.56957422\n",
      " 488.70138183 579.57563567 668.34751067 439.38632795 455.84708976\n",
      " 431.22616015 440.60364447 632.25474666 599.90323581 561.03867163]\n",
      "new_threshold = 1587.317056038365\n"
     ]
    },
    {
     "data": {
      "application/vnd.jupyter.widget-view+json": {
       "model_id": "e2ecdf4d7e134f789b7babe1c418df39",
       "version_major": 2,
       "version_minor": 0
      },
      "text/plain": [
       "HBox(children=(FloatProgress(value=1.0, bar_style='info', max=1.0), HTML(value='')))"
      ]
     },
     "metadata": {},
     "output_type": "display_data"
    },
    {
     "name": "stdout",
     "output_type": "stream",
     "text": [
      "\n"
     ]
    },
    {
     "data": {
      "application/vnd.jupyter.widget-view+json": {
       "model_id": "9b64c8de664745ef9f63a3f3e867fb7c",
       "version_major": 2,
       "version_minor": 0
      },
      "text/plain": [
       "HBox(children=(FloatProgress(value=1.0, bar_style='info', max=1.0), HTML(value='')))"
      ]
     },
     "metadata": {},
     "output_type": "display_data"
    },
    {
     "name": "stdout",
     "output_type": "stream",
     "text": [
      "\n",
      "filtered_measurements = [627.60742875 657.49810617 273.48675818 565.45271582 304.59669229\n",
      " 484.91958457 708.58425413 409.56854282 317.9905893  480.67146174\n",
      " 707.85620948 769.69106197 494.99428465 800.94439621 477.70799603\n",
      " 621.61165107 735.22351306 444.75692453]\n",
      "new_threshold = 1959.7406634063627\n"
     ]
    },
    {
     "data": {
      "application/vnd.jupyter.widget-view+json": {
       "model_id": "e5f1ec6ca661473eb443ae5808767035",
       "version_major": 2,
       "version_minor": 0
      },
      "text/plain": [
       "HBox(children=(FloatProgress(value=1.0, bar_style='info', max=1.0), HTML(value='')))"
      ]
     },
     "metadata": {},
     "output_type": "display_data"
    },
    {
     "name": "stdout",
     "output_type": "stream",
     "text": [
      "\n"
     ]
    },
    {
     "data": {
      "application/vnd.jupyter.widget-view+json": {
       "model_id": "f134fe157cb84beeb955be4ad2c0e305",
       "version_major": 2,
       "version_minor": 0
      },
      "text/plain": [
       "HBox(children=(FloatProgress(value=1.0, bar_style='info', max=1.0), HTML(value='')))"
      ]
     },
     "metadata": {},
     "output_type": "display_data"
    },
    {
     "name": "stdout",
     "output_type": "stream",
     "text": [
      "\n",
      "filtered_measurements = [354.03116464 321.49408767 598.8350234  683.81407139 367.90300147\n",
      " 493.38514742 409.39192611 452.06169845 428.03131561 709.41889347\n",
      " 793.47091214 712.17700872 474.92154974 364.45038333 616.79093742\n",
      " 668.81977573 555.86864917 519.58007584 403.89061889 619.37364244\n",
      " 862.35549647 603.39514454 403.28815501 458.34067775 816.75287202\n",
      " 328.13873783 605.26607773 857.56169345 405.50643402 322.7646929\n",
      " 708.45791248]\n",
      "new_threshold = 2031.5269002677676\n"
     ]
    },
    {
     "data": {
      "application/vnd.jupyter.widget-view+json": {
       "model_id": "9cb2e3e5364b4b1480615e24f778ebd2",
       "version_major": 2,
       "version_minor": 0
      },
      "text/plain": [
       "HBox(children=(FloatProgress(value=1.0, bar_style='info', max=1.0), HTML(value='')))"
      ]
     },
     "metadata": {},
     "output_type": "display_data"
    },
    {
     "name": "stdout",
     "output_type": "stream",
     "text": [
      "\n"
     ]
    },
    {
     "data": {
      "application/vnd.jupyter.widget-view+json": {
       "model_id": "7aa3e7e21bc7497da917d5f99395374a",
       "version_major": 2,
       "version_minor": 0
      },
      "text/plain": [
       "HBox(children=(FloatProgress(value=1.0, bar_style='info', max=1.0), HTML(value='')))"
      ]
     },
     "metadata": {},
     "output_type": "display_data"
    },
    {
     "name": "stdout",
     "output_type": "stream",
     "text": [
      "--> Not exactly one containing mesh: []\n",
      "\n",
      "filtered_measurements = [ 87.9553922   57.90445682  74.8782482   85.72012173 106.06438147\n",
      "  76.84361918 114.2024612   93.78129329  71.33415442 109.13128418\n",
      "  89.81145134  81.59806904 104.69127981]\n",
      "new_threshold = 233.83035599573952\n"
     ]
    },
    {
     "data": {
      "application/vnd.jupyter.widget-view+json": {
       "model_id": "ee735774e60f4b908fe107d3e3bc7887",
       "version_major": 2,
       "version_minor": 0
      },
      "text/plain": [
       "HBox(children=(FloatProgress(value=1.0, bar_style='info', max=1.0), HTML(value='')))"
      ]
     },
     "metadata": {},
     "output_type": "display_data"
    },
    {
     "name": "stdout",
     "output_type": "stream",
     "text": [
      "--> Not exactly one containing mesh: []\n",
      "--> Not exactly one containing mesh: []\n",
      "THERE WERE NO FACES THAT FIT THE DISTANCE (233.83035599573952) and Z transform requirements\n",
      "So just skipping this edge\n",
      "\n"
     ]
    },
    {
     "data": {
      "application/vnd.jupyter.widget-view+json": {
       "model_id": "af2f9ac6aa8f410ca25b6c31383cf571",
       "version_major": 2,
       "version_minor": 0
      },
      "text/plain": [
       "HBox(children=(FloatProgress(value=1.0, bar_style='info', max=1.0), HTML(value='')))"
      ]
     },
     "metadata": {},
     "output_type": "display_data"
    },
    {
     "name": "stdout",
     "output_type": "stream",
     "text": [
      "\n",
      "filtered_measurements = [562.44959312 456.19649805 422.14237696 379.14580808 613.98550789\n",
      " 371.24929136 405.16437314 635.26515048 519.05021856 638.92432671\n",
      " 310.70334549 375.32139105 472.88241893 486.40282059 533.07772236\n",
      " 446.32500964 442.09597347 397.11667883]\n",
      "new_threshold = 1683.1694422677815\n"
     ]
    },
    {
     "data": {
      "application/vnd.jupyter.widget-view+json": {
       "model_id": "3a3682a6b5a64cf6962d7ea49d7c0188",
       "version_major": 2,
       "version_minor": 0
      },
      "text/plain": [
       "HBox(children=(FloatProgress(value=1.0, bar_style='info', max=1.0), HTML(value='')))"
      ]
     },
     "metadata": {},
     "output_type": "display_data"
    },
    {
     "name": "stdout",
     "output_type": "stream",
     "text": [
      "\n"
     ]
    },
    {
     "data": {
      "application/vnd.jupyter.widget-view+json": {
       "model_id": "270a2402f9c04172921fbc1106817425",
       "version_major": 2,
       "version_minor": 0
      },
      "text/plain": [
       "HBox(children=(FloatProgress(value=1.0, bar_style='info', max=1.0), HTML(value='')))"
      ]
     },
     "metadata": {},
     "output_type": "display_data"
    },
    {
     "name": "stdout",
     "output_type": "stream",
     "text": [
      "--> Not exactly one containing mesh: []\n",
      "\n",
      "filtered_measurements = [300.8518407  167.29141378  79.21412505]\n",
      "new_threshold = 569.7072637830191\n"
     ]
    },
    {
     "data": {
      "application/vnd.jupyter.widget-view+json": {
       "model_id": "0e58375bb4e747d7b27e91bdb022b7c1",
       "version_major": 2,
       "version_minor": 0
      },
      "text/plain": [
       "HBox(children=(FloatProgress(value=1.0, bar_style='info', max=1.0), HTML(value='')))"
      ]
     },
     "metadata": {},
     "output_type": "display_data"
    },
    {
     "name": "stdout",
     "output_type": "stream",
     "text": [
      "--> Not exactly one containing mesh: []\n",
      "--> Not exactly one containing mesh: []\n",
      "\n",
      "branch_touching_number = [3]\n",
      "branch_touching_number = [3, 3]\n",
      "most_branch_containing_piece = 0\n"
     ]
    },
    {
     "data": {
      "application/vnd.jupyter.widget-view+json": {
       "model_id": "141033b169464d97967d73f2cd824a7f",
       "version_major": 2,
       "version_minor": 0
      },
      "text/plain": [
       "HBox(children=(FloatProgress(value=1.0, bar_style='info', max=1.0), HTML(value='')))"
      ]
     },
     "metadata": {},
     "output_type": "display_data"
    },
    {
     "name": "stdout",
     "output_type": "stream",
     "text": [
      "--> Not exactly one containing mesh: []\n",
      "--> Not exactly one containing mesh: []\n",
      "--> Not exactly one containing mesh: []\n",
      "--> Not exactly one containing mesh: [0 1]\n",
      "--> Not exactly one containing mesh: [0 1]\n",
      "\n",
      "filtered_measurements = [124.8211295  124.02559288 111.84165868  66.04577375  88.41541071\n",
      " 128.86342007 137.36067549  64.36461641  93.83710388 123.15313049\n",
      "  74.74341046  86.62006802  79.38003717 115.23300184  86.49105509\n",
      " 104.02648113 147.72842322  77.6108981  103.16528542 106.64152089\n",
      "  99.62666963 128.44607376 114.85213927]\n",
      "new_threshold = 300.53073704582255\n"
     ]
    },
    {
     "data": {
      "application/vnd.jupyter.widget-view+json": {
       "model_id": "a7bb1738b7fb4a9a9b331e1e2d3d5093",
       "version_major": 2,
       "version_minor": 0
      },
      "text/plain": [
       "HBox(children=(FloatProgress(value=1.0, bar_style='info', max=1.0), HTML(value='')))"
      ]
     },
     "metadata": {},
     "output_type": "display_data"
    },
    {
     "name": "stdout",
     "output_type": "stream",
     "text": [
      "--> Not exactly one containing mesh: []\n",
      "--> Not exactly one containing mesh: []\n",
      "--> Not exactly one containing mesh: []\n",
      "\n"
     ]
    },
    {
     "data": {
      "application/vnd.jupyter.widget-view+json": {
       "model_id": "f185e810e6a144e7a1ea9e123742370c",
       "version_major": 2,
       "version_minor": 0
      },
      "text/plain": [
       "HBox(children=(FloatProgress(value=1.0, bar_style='info', max=1.0), HTML(value='')))"
      ]
     },
     "metadata": {},
     "output_type": "display_data"
    },
    {
     "name": "stdout",
     "output_type": "stream",
     "text": [
      "\n",
      "filtered_measurements = [ 67.65271044 108.50068826 152.60090493 131.80913149 163.00591325\n",
      " 127.13125172 109.8581297  108.82748915 115.13575164 184.52565944\n",
      " 126.04638623 143.20186559 130.23554779 147.89618227 155.487639\n",
      "  98.26421622 125.00191887 114.1471508  113.09972117 211.07832416\n",
      " 148.76135719 154.70569361]\n",
      "new_threshold = 486.4349566682812\n"
     ]
    },
    {
     "data": {
      "application/vnd.jupyter.widget-view+json": {
       "model_id": "4720c12dae464fc1a64b5f78cb433588",
       "version_major": 2,
       "version_minor": 0
      },
      "text/plain": [
       "HBox(children=(FloatProgress(value=1.0, bar_style='info', max=1.0), HTML(value='')))"
      ]
     },
     "metadata": {},
     "output_type": "display_data"
    },
    {
     "name": "stdout",
     "output_type": "stream",
     "text": [
      "--> Not exactly one containing mesh: []\n",
      "\n",
      "branch_touching_number = [29]\n",
      "branch_touching_number = [29, 2]\n",
      "most_branch_containing_piece = 0\n"
     ]
    },
    {
     "data": {
      "application/vnd.jupyter.widget-view+json": {
       "model_id": "213b1172e24c41e5b093289e1cb0f7e8",
       "version_major": 2,
       "version_minor": 0
      },
      "text/plain": [
       "HBox(children=(FloatProgress(value=1.0, bar_style='info', max=1.0), HTML(value='')))"
      ]
     },
     "metadata": {},
     "output_type": "display_data"
    },
    {
     "name": "stdout",
     "output_type": "stream",
     "text": [
      "--> Not exactly one containing mesh: []\n",
      "\n",
      "filtered_measurements = [518.38213218 484.33837327 502.95005457 536.33674177 552.12240236\n",
      " 554.95130812 619.55332491 572.56632265 563.38446874 500.04606281\n",
      " 511.16434327 532.16248528 554.05468767 573.67220165]\n",
      "new_threshold = 1073.2027566599913\n"
     ]
    },
    {
     "data": {
      "application/vnd.jupyter.widget-view+json": {
       "model_id": "600c463213a247b8bb47d64cb3aef4f1",
       "version_major": 2,
       "version_minor": 0
      },
      "text/plain": [
       "HBox(children=(FloatProgress(value=1.0, bar_style='info', max=1.0), HTML(value='')))"
      ]
     },
     "metadata": {},
     "output_type": "display_data"
    },
    {
     "name": "stdout",
     "output_type": "stream",
     "text": [
      "THERE WERE NO FACES THAT FIT THE DISTANCE (1073.2027566599913) and Z transform requirements\n",
      "So just skipping this edge\n",
      "THERE WERE NO FACES THAT FIT THE DISTANCE (1073.2027566599913) and Z transform requirements\n",
      "So just skipping this edge\n",
      "\n"
     ]
    },
    {
     "data": {
      "application/vnd.jupyter.widget-view+json": {
       "model_id": "ca944f944f0b46bd8e35ae96ff82f422",
       "version_major": 2,
       "version_minor": 0
      },
      "text/plain": [
       "HBox(children=(FloatProgress(value=1.0, bar_style='info', max=1.0), HTML(value='')))"
      ]
     },
     "metadata": {},
     "output_type": "display_data"
    },
    {
     "name": "stdout",
     "output_type": "stream",
     "text": [
      "\n",
      "filtered_measurements = [418.53864881 385.80895684 279.70088673 284.17519596 463.70524755\n",
      " 418.20799704]\n",
      "new_threshold = 966.7394004412672\n"
     ]
    },
    {
     "data": {
      "application/vnd.jupyter.widget-view+json": {
       "model_id": "3c6b9c66b21b4154bfb4b46c2568249d",
       "version_major": 2,
       "version_minor": 0
      },
      "text/plain": [
       "HBox(children=(FloatProgress(value=1.0, bar_style='info', max=1.0), HTML(value='')))"
      ]
     },
     "metadata": {},
     "output_type": "display_data"
    },
    {
     "name": "stdout",
     "output_type": "stream",
     "text": [
      "\n"
     ]
    },
    {
     "data": {
      "application/vnd.jupyter.widget-view+json": {
       "model_id": "39312ab2856849e38a4fa8bf5e35073a",
       "version_major": 2,
       "version_minor": 0
      },
      "text/plain": [
       "HBox(children=(FloatProgress(value=1.0, bar_style='info', max=1.0), HTML(value='')))"
      ]
     },
     "metadata": {},
     "output_type": "display_data"
    },
    {
     "name": "stdout",
     "output_type": "stream",
     "text": [
      "\n",
      "filtered_measurements = [382.99412043 108.24536729 143.78179385]\n",
      "new_threshold = 807.8817577724097\n"
     ]
    },
    {
     "data": {
      "application/vnd.jupyter.widget-view+json": {
       "model_id": "877daa879e3f4dc895bf6526219411cc",
       "version_major": 2,
       "version_minor": 0
      },
      "text/plain": [
       "HBox(children=(FloatProgress(value=1.0, bar_style='info', max=1.0), HTML(value='')))"
      ]
     },
     "metadata": {},
     "output_type": "display_data"
    },
    {
     "name": "stdout",
     "output_type": "stream",
     "text": [
      "\n"
     ]
    },
    {
     "data": {
      "application/vnd.jupyter.widget-view+json": {
       "model_id": "92d8c367d4584fe2b6a905773b488171",
       "version_major": 2,
       "version_minor": 0
      },
      "text/plain": [
       "HBox(children=(FloatProgress(value=1.0, bar_style='info', max=1.0), HTML(value='')))"
      ]
     },
     "metadata": {},
     "output_type": "display_data"
    },
    {
     "name": "stdout",
     "output_type": "stream",
     "text": [
      "--> Not exactly one containing mesh: []\n",
      "\n",
      "filtered_measurements = [119.11542298 133.90996036 170.18983507 180.16567876 128.10335509\n",
      " 170.46592044 188.07573349 121.61332521 167.78888775 132.6510609\n",
      " 137.95139857 177.19677798 141.68920638 144.6109742  144.39216691\n",
      " 168.39392304 136.56782047 120.72113634]\n",
      "new_threshold = 495.84849208240996\n"
     ]
    },
    {
     "data": {
      "application/vnd.jupyter.widget-view+json": {
       "model_id": "f99a2503f1c34e27be42dc06deb6ed2b",
       "version_major": 2,
       "version_minor": 0
      },
      "text/plain": [
       "HBox(children=(FloatProgress(value=1.0, bar_style='info', max=1.0), HTML(value='')))"
      ]
     },
     "metadata": {},
     "output_type": "display_data"
    },
    {
     "name": "stdout",
     "output_type": "stream",
     "text": [
      "--> Not exactly one containing mesh: []\n",
      "\n"
     ]
    },
    {
     "data": {
      "application/vnd.jupyter.widget-view+json": {
       "model_id": "97783aca702d455595fc60006094eaf5",
       "version_major": 2,
       "version_minor": 0
      },
      "text/plain": [
       "HBox(children=(FloatProgress(value=1.0, bar_style='info', max=1.0), HTML(value='')))"
      ]
     },
     "metadata": {},
     "output_type": "display_data"
    },
    {
     "name": "stdout",
     "output_type": "stream",
     "text": [
      "--> Not exactly one containing mesh: []\n",
      "\n",
      "filtered_measurements = [ 715.2247316   735.74215353  980.8946619   736.36745662  853.6108004\n",
      "  860.46995187  823.19241753  833.59452237  798.66255978 1073.76176351\n",
      "  894.66213931]\n",
      "new_threshold = 2113.7535827085803\n"
     ]
    },
    {
     "data": {
      "application/vnd.jupyter.widget-view+json": {
       "model_id": "901e6221676b413a87eb778ca7ff44b2",
       "version_major": 2,
       "version_minor": 0
      },
      "text/plain": [
       "HBox(children=(FloatProgress(value=1.0, bar_style='info', max=1.0), HTML(value='')))"
      ]
     },
     "metadata": {},
     "output_type": "display_data"
    },
    {
     "name": "stdout",
     "output_type": "stream",
     "text": [
      "--> Not exactly one containing mesh: []\n",
      "\n"
     ]
    },
    {
     "data": {
      "application/vnd.jupyter.widget-view+json": {
       "model_id": "e7c23b80384e4600bdc62e2171e6e407",
       "version_major": 2,
       "version_minor": 0
      },
      "text/plain": [
       "HBox(children=(FloatProgress(value=1.0, bar_style='info', max=1.0), HTML(value='')))"
      ]
     },
     "metadata": {},
     "output_type": "display_data"
    },
    {
     "name": "stdout",
     "output_type": "stream",
     "text": [
      "\n",
      "branch_touching_number = [7]\n",
      "branch_touching_number = [7, 1]\n",
      "branch_touching_number = [7, 1, 2]\n",
      "most_branch_containing_piece = 0\n",
      "filtered_measurements = [136.27648627 107.59498651 209.28575606 285.72820074 164.8802491 ]\n",
      "new_threshold = 587.4464423236489\n"
     ]
    },
    {
     "data": {
      "application/vnd.jupyter.widget-view+json": {
       "model_id": "0c1d24824b674935b8418769d09bdda5",
       "version_major": 2,
       "version_minor": 0
      },
      "text/plain": [
       "HBox(children=(FloatProgress(value=1.0, bar_style='info', max=1.0), HTML(value='')))"
      ]
     },
     "metadata": {},
     "output_type": "display_data"
    },
    {
     "name": "stdout",
     "output_type": "stream",
     "text": [
      "--> Not exactly one containing mesh: []\n",
      "THERE WERE NO FACES THAT FIT THE DISTANCE (587.4464423236489) and Z transform requirements\n",
      "So just skipping this edge\n",
      "THERE WERE NO FACES THAT FIT THE DISTANCE (587.4464423236489) and Z transform requirements\n",
      "So just skipping this edge\n",
      "\n"
     ]
    },
    {
     "data": {
      "application/vnd.jupyter.widget-view+json": {
       "model_id": "d1fe955342dc4513abbe98891941892a",
       "version_major": 2,
       "version_minor": 0
      },
      "text/plain": [
       "HBox(children=(FloatProgress(value=1.0, bar_style='info', max=1.0), HTML(value='')))"
      ]
     },
     "metadata": {},
     "output_type": "display_data"
    },
    {
     "name": "stdout",
     "output_type": "stream",
     "text": [
      "--> Not exactly one containing mesh: []\n",
      "--> Not exactly one containing mesh: [0 1]\n",
      "\n",
      "filtered_measurements = [ 264.60243586 1774.96587414 1804.23438598 1684.76331865]\n",
      "new_threshold = 3397.882330475029\n"
     ]
    },
    {
     "data": {
      "application/vnd.jupyter.widget-view+json": {
       "model_id": "1c35b632b0ce46c7baeb38ff61cadba5",
       "version_major": 2,
       "version_minor": 0
      },
      "text/plain": [
       "HBox(children=(FloatProgress(value=1.0, bar_style='info', max=1.0), HTML(value='')))"
      ]
     },
     "metadata": {},
     "output_type": "display_data"
    },
    {
     "name": "stdout",
     "output_type": "stream",
     "text": [
      "--> Not exactly one containing mesh: []\n",
      "\n"
     ]
    },
    {
     "data": {
      "application/vnd.jupyter.widget-view+json": {
       "model_id": "bc48699c2f854a8aa23614606d230928",
       "version_major": 2,
       "version_minor": 0
      },
      "text/plain": [
       "HBox(children=(FloatProgress(value=1.0, bar_style='info', max=1.0), HTML(value='')))"
      ]
     },
     "metadata": {},
     "output_type": "display_data"
    },
    {
     "name": "stdout",
     "output_type": "stream",
     "text": [
      "--> Not exactly one containing mesh: [0 1]\n",
      "\n",
      "filtered_measurements = [1464.1749118  1761.71453956 1752.49399876 1544.0008302 ]\n",
      "new_threshold = 3481.491414520471\n"
     ]
    },
    {
     "data": {
      "application/vnd.jupyter.widget-view+json": {
       "model_id": "481f0f3ae6a34b5e9eb26f1bfe0c668e",
       "version_major": 2,
       "version_minor": 0
      },
      "text/plain": [
       "HBox(children=(FloatProgress(value=1.0, bar_style='info', max=1.0), HTML(value='')))"
      ]
     },
     "metadata": {},
     "output_type": "display_data"
    },
    {
     "name": "stdout",
     "output_type": "stream",
     "text": [
      "--> Not exactly one containing mesh: [0 1]\n",
      "\n"
     ]
    },
    {
     "data": {
      "application/vnd.jupyter.widget-view+json": {
       "model_id": "dda523af78314250be6c683fb659d6a4",
       "version_major": 2,
       "version_minor": 0
      },
      "text/plain": [
       "HBox(children=(FloatProgress(value=1.0, bar_style='info', max=1.0), HTML(value='')))"
      ]
     },
     "metadata": {},
     "output_type": "display_data"
    },
    {
     "name": "stdout",
     "output_type": "stream",
     "text": [
      "\n",
      "filtered_measurements = [375.82194249 500.27959409]\n",
      "new_threshold = 1123.5781210078824\n"
     ]
    },
    {
     "data": {
      "application/vnd.jupyter.widget-view+json": {
       "model_id": "946a2d507a324b1798ac5e30b313f178",
       "version_major": 2,
       "version_minor": 0
      },
      "text/plain": [
       "HBox(children=(FloatProgress(value=1.0, bar_style='info', max=1.0), HTML(value='')))"
      ]
     },
     "metadata": {},
     "output_type": "display_data"
    },
    {
     "name": "stdout",
     "output_type": "stream",
     "text": [
      "\n"
     ]
    },
    {
     "data": {
      "application/vnd.jupyter.widget-view+json": {
       "model_id": "709a1961c37f4b4a96556e1e90a08fa9",
       "version_major": 2,
       "version_minor": 0
      },
      "text/plain": [
       "HBox(children=(FloatProgress(value=1.0, bar_style='info', max=1.0), HTML(value='')))"
      ]
     },
     "metadata": {},
     "output_type": "display_data"
    },
    {
     "name": "stdout",
     "output_type": "stream",
     "text": [
      "\n",
      "filtered_measurements = [1352.27671151 1114.6315311 ]\n",
      "new_threshold = 2353.317122072876\n"
     ]
    },
    {
     "data": {
      "application/vnd.jupyter.widget-view+json": {
       "model_id": "00d09b6276514f988856609cd5bdce58",
       "version_major": 2,
       "version_minor": 0
      },
      "text/plain": [
       "HBox(children=(FloatProgress(value=1.0, bar_style='info', max=1.0), HTML(value='')))"
      ]
     },
     "metadata": {},
     "output_type": "display_data"
    },
    {
     "name": "stdout",
     "output_type": "stream",
     "text": [
      "\n"
     ]
    },
    {
     "data": {
      "application/vnd.jupyter.widget-view+json": {
       "model_id": "49ad0d5bcfc244bb86fcf65c03d03c33",
       "version_major": 2,
       "version_minor": 0
      },
      "text/plain": [
       "HBox(children=(FloatProgress(value=1.0, bar_style='info', max=1.0), HTML(value='')))"
      ]
     },
     "metadata": {},
     "output_type": "display_data"
    },
    {
     "name": "stdout",
     "output_type": "stream",
     "text": [
      "\n",
      "filtered_measurements = [ 966.25813729 1197.61847835]\n",
      "new_threshold = 2114.9500345109773\n"
     ]
    },
    {
     "data": {
      "application/vnd.jupyter.widget-view+json": {
       "model_id": "859176a85a8940c99b2bb518d1e05a38",
       "version_major": 2,
       "version_minor": 0
      },
      "text/plain": [
       "HBox(children=(FloatProgress(value=1.0, bar_style='info', max=1.0), HTML(value='')))"
      ]
     },
     "metadata": {},
     "output_type": "display_data"
    },
    {
     "name": "stdout",
     "output_type": "stream",
     "text": [
      "\n"
     ]
    },
    {
     "data": {
      "application/vnd.jupyter.widget-view+json": {
       "model_id": "3294f5d5d54842479c7cd5350b3df0a9",
       "version_major": 2,
       "version_minor": 0
      },
      "text/plain": [
       "HBox(children=(FloatProgress(value=1.0, bar_style='info', max=1.0), HTML(value='')))"
      ]
     },
     "metadata": {},
     "output_type": "display_data"
    },
    {
     "name": "stdout",
     "output_type": "stream",
     "text": [
      "\n",
      "filtered_measurements = [1237.66519406 1005.67575849 1020.98206822 1063.39816846 1094.38608701\n",
      " 1067.19214705 1037.83341416 1244.32283705  919.41636311 1272.54077113\n",
      " 1088.22666445 1145.5690866  1088.00996072]\n",
      "new_threshold = 2607.8730687380175\n"
     ]
    },
    {
     "data": {
      "application/vnd.jupyter.widget-view+json": {
       "model_id": "dfd78096fc2a43478d44d06ba910cc3c",
       "version_major": 2,
       "version_minor": 0
      },
      "text/plain": [
       "HBox(children=(FloatProgress(value=1.0, bar_style='info', max=1.0), HTML(value='')))"
      ]
     },
     "metadata": {},
     "output_type": "display_data"
    },
    {
     "name": "stdout",
     "output_type": "stream",
     "text": [
      "\n"
     ]
    },
    {
     "data": {
      "application/vnd.jupyter.widget-view+json": {
       "model_id": "6ee4d063fee34987802b3db226620600",
       "version_major": 2,
       "version_minor": 0
      },
      "text/plain": [
       "HBox(children=(FloatProgress(value=1.0, bar_style='info', max=1.0), HTML(value='')))"
      ]
     },
     "metadata": {},
     "output_type": "display_data"
    },
    {
     "name": "stdout",
     "output_type": "stream",
     "text": [
      "--> Not exactly one containing mesh: []\n",
      "--> Not exactly one containing mesh: []\n",
      "--> Not exactly one containing mesh: []\n",
      "\n",
      "branch_touching_number = [5]\n",
      "branch_touching_number = [5, 1]\n",
      "most_branch_containing_piece = 0\n",
      "filtered_measurements = [1526.30374055 1683.37290866  253.76081189 2260.76619179]\n",
      "new_threshold = 3935.5702844927773\n"
     ]
    },
    {
     "data": {
      "application/vnd.jupyter.widget-view+json": {
       "model_id": "432fb05c8514450ca59e4e7c179d7581",
       "version_major": 2,
       "version_minor": 0
      },
      "text/plain": [
       "HBox(children=(FloatProgress(value=1.0, bar_style='info', max=1.0), HTML(value='')))"
      ]
     },
     "metadata": {},
     "output_type": "display_data"
    },
    {
     "name": "stdout",
     "output_type": "stream",
     "text": [
      "--> Not exactly one containing mesh: []\n",
      "--> Not exactly one containing mesh: []\n",
      "THERE WERE NO FACES THAT FIT THE DISTANCE (3935.5702844927773) and Z transform requirements\n",
      "So just skipping this edge\n",
      "\n"
     ]
    },
    {
     "data": {
      "application/vnd.jupyter.widget-view+json": {
       "model_id": "1e49d6eee3fa48d2a58af2b51afb108f",
       "version_major": 2,
       "version_minor": 0
      },
      "text/plain": [
       "HBox(children=(FloatProgress(value=1.0, bar_style='info', max=1.0), HTML(value='')))"
      ]
     },
     "metadata": {},
     "output_type": "display_data"
    },
    {
     "name": "stdout",
     "output_type": "stream",
     "text": [
      "\n",
      "filtered_measurements = [125.82377854 121.39974203 159.90179136 110.20651695 122.53882061\n",
      " 159.21148721 103.83224764]\n",
      "new_threshold = 346.36586629271824\n"
     ]
    },
    {
     "data": {
      "application/vnd.jupyter.widget-view+json": {
       "model_id": "ce5441ab9ea843b3aad3405e17e29a61",
       "version_major": 2,
       "version_minor": 0
      },
      "text/plain": [
       "HBox(children=(FloatProgress(value=1.0, bar_style='info', max=1.0), HTML(value='')))"
      ]
     },
     "metadata": {},
     "output_type": "display_data"
    },
    {
     "name": "stdout",
     "output_type": "stream",
     "text": [
      "\n"
     ]
    },
    {
     "data": {
      "application/vnd.jupyter.widget-view+json": {
       "model_id": "70d1c025f73a4a9a9cff96d016e7c5ba",
       "version_major": 2,
       "version_minor": 0
      },
      "text/plain": [
       "HBox(children=(FloatProgress(value=1.0, bar_style='info', max=1.0), HTML(value='')))"
      ]
     },
     "metadata": {},
     "output_type": "display_data"
    },
    {
     "name": "stdout",
     "output_type": "stream",
     "text": [
      "\n",
      "filtered_measurements = [344.29599634 565.68030588 479.94662871 356.58993395 347.36370605\n",
      " 681.42756183 290.78082187 522.41558133 418.71500384 619.87653602\n",
      " 306.83265785 395.78556381 516.48692849 521.64474375 367.19671871\n",
      " 347.34147199 655.88157602 674.49512069 365.20587306 373.89470139\n",
      " 351.79287584 341.79215642 406.31753089 692.0336841  419.58409546\n",
      " 258.69213714 432.63957736 371.05830955 330.8253827  337.34410618\n",
      " 326.58411164 451.17647586 591.04619477 496.85343011 306.7311505\n",
      " 376.48079865 684.04498881 475.9148375  513.69162282 501.31585218\n",
      " 472.66769569 503.0034042  533.39623138 576.53325116 412.39223393]\n",
      "new_threshold = 1686.7467215693575\n"
     ]
    },
    {
     "data": {
      "application/vnd.jupyter.widget-view+json": {
       "model_id": "92a121d5f63547429c11ad598eae9800",
       "version_major": 2,
       "version_minor": 0
      },
      "text/plain": [
       "HBox(children=(FloatProgress(value=1.0, bar_style='info', max=1.0), HTML(value='')))"
      ]
     },
     "metadata": {},
     "output_type": "display_data"
    },
    {
     "name": "stdout",
     "output_type": "stream",
     "text": [
      "\n"
     ]
    },
    {
     "data": {
      "application/vnd.jupyter.widget-view+json": {
       "model_id": "7e4b851285a041beb14f3a4a6aacf4e9",
       "version_major": 2,
       "version_minor": 0
      },
      "text/plain": [
       "HBox(children=(FloatProgress(value=1.0, bar_style='info', max=1.0), HTML(value='')))"
      ]
     },
     "metadata": {},
     "output_type": "display_data"
    },
    {
     "name": "stdout",
     "output_type": "stream",
     "text": [
      "\n",
      "filtered_measurements = [1402.58495496 1090.00384288  954.26316462]\n",
      "new_threshold = 2759.7393275072804\n"
     ]
    },
    {
     "data": {
      "application/vnd.jupyter.widget-view+json": {
       "model_id": "75b0badb26b846ca9bd7180be5efcd91",
       "version_major": 2,
       "version_minor": 0
      },
      "text/plain": [
       "HBox(children=(FloatProgress(value=1.0, bar_style='info', max=1.0), HTML(value='')))"
      ]
     },
     "metadata": {},
     "output_type": "display_data"
    },
    {
     "name": "stdout",
     "output_type": "stream",
     "text": [
      "\n"
     ]
    },
    {
     "data": {
      "application/vnd.jupyter.widget-view+json": {
       "model_id": "05031d9627b147f3bc71e56075868aba",
       "version_major": 2,
       "version_minor": 0
      },
      "text/plain": [
       "HBox(children=(FloatProgress(value=1.0, bar_style='info', max=1.0), HTML(value='')))"
      ]
     },
     "metadata": {},
     "output_type": "display_data"
    },
    {
     "name": "stdout",
     "output_type": "stream",
     "text": [
      "\n",
      "filtered_measurements = [1211.79126217  919.39554018 1056.14875414 1123.79739129  876.22553569\n",
      "  861.98024426  908.58778078  998.39122603 1193.28422418  891.56889927\n",
      "  960.34711911 1023.16341408 1020.73899522  953.87944929  880.56264674\n",
      "  869.9110412  1048.63943481  944.34202052 1033.03076337  938.23744156\n",
      "  934.15146615  917.18254305  971.76512674 1173.49741733 1036.26925947]\n",
      "new_threshold = 2485.102591332824\n"
     ]
    },
    {
     "data": {
      "application/vnd.jupyter.widget-view+json": {
       "model_id": "de6dde3e7d1c4a3a85ee07edcd58db69",
       "version_major": 2,
       "version_minor": 0
      },
      "text/plain": [
       "HBox(children=(FloatProgress(value=1.0, bar_style='info', max=1.0), HTML(value='')))"
      ]
     },
     "metadata": {},
     "output_type": "display_data"
    },
    {
     "name": "stdout",
     "output_type": "stream",
     "text": [
      "\n"
     ]
    },
    {
     "data": {
      "application/vnd.jupyter.widget-view+json": {
       "model_id": "879ca6d893c74f8db77be25f8667fc53",
       "version_major": 2,
       "version_minor": 0
      },
      "text/plain": [
       "HBox(children=(FloatProgress(value=1.0, bar_style='info', max=1.0), HTML(value='')))"
      ]
     },
     "metadata": {},
     "output_type": "display_data"
    },
    {
     "name": "stdout",
     "output_type": "stream",
     "text": [
      "\n",
      "filtered_measurements = [1095.95910412 1271.96206588  929.18713281  955.40800461 1040.17559657]\n",
      "new_threshold = 2668.7424092031783\n"
     ]
    },
    {
     "data": {
      "application/vnd.jupyter.widget-view+json": {
       "model_id": "11ebdb754e8b48b8b28e659ae77295a9",
       "version_major": 2,
       "version_minor": 0
      },
      "text/plain": [
       "HBox(children=(FloatProgress(value=1.0, bar_style='info', max=1.0), HTML(value='')))"
      ]
     },
     "metadata": {},
     "output_type": "display_data"
    },
    {
     "name": "stdout",
     "output_type": "stream",
     "text": [
      "\n"
     ]
    },
    {
     "data": {
      "application/vnd.jupyter.widget-view+json": {
       "model_id": "e9d0badb703e41c994c2109220bbae31",
       "version_major": 2,
       "version_minor": 0
      },
      "text/plain": [
       "HBox(children=(FloatProgress(value=1.0, bar_style='info', max=1.0), HTML(value='')))"
      ]
     },
     "metadata": {},
     "output_type": "display_data"
    },
    {
     "name": "stdout",
     "output_type": "stream",
     "text": [
      "--> Not exactly one containing mesh: []\n",
      "--> Not exactly one containing mesh: []\n",
      "\n",
      "branch_touching_number = [5]\n",
      "branch_touching_number = [5, 2]\n",
      "most_branch_containing_piece = 0\n",
      "filtered_measurements = [373.42862041 268.50118219 296.95092263 343.38839374]\n",
      "new_threshold = 771.5402621446849\n"
     ]
    },
    {
     "data": {
      "application/vnd.jupyter.widget-view+json": {
       "model_id": "cf3c9d34b7ac4d14b76d022a990f2b8c",
       "version_major": 2,
       "version_minor": 0
      },
      "text/plain": [
       "HBox(children=(FloatProgress(value=1.0, bar_style='info', max=1.0), HTML(value='')))"
      ]
     },
     "metadata": {},
     "output_type": "display_data"
    },
    {
     "name": "stderr",
     "output_type": "stream",
     "text": [
      "No adjacent faces detected! Did you merge vertices?\n"
     ]
    },
    {
     "name": "stdout",
     "output_type": "stream",
     "text": [
      "--> Not exactly one containing mesh: []\n",
      "list was only one so surrounding them with list\n",
      "--> Not exactly one containing mesh: []\n",
      "--> Not exactly one containing mesh: []\n",
      "\n",
      "branch_touching_number = [4]\n",
      "branch_touching_number = [4, 3]\n",
      "most_branch_containing_piece = 0\n"
     ]
    },
    {
     "data": {
      "application/vnd.jupyter.widget-view+json": {
       "model_id": "f910c11b40bc45138b2f1625f0617227",
       "version_major": 2,
       "version_minor": 0
      },
      "text/plain": [
       "HBox(children=(FloatProgress(value=1.0, bar_style='info', max=1.0), HTML(value='')))"
      ]
     },
     "metadata": {},
     "output_type": "display_data"
    },
    {
     "name": "stdout",
     "output_type": "stream",
     "text": [
      "--> Not exactly one containing mesh: []\n",
      "--> Not exactly one containing mesh: []\n",
      "\n",
      "filtered_measurements = [302.57054923 357.37718826 352.30434038 261.54924638 296.04417843\n",
      " 319.06178063 428.82950234 595.3273478  478.72669972 352.4777908\n",
      " 344.3525437  298.31116986 442.65213735 405.29144487 446.92128275\n",
      " 630.11754399 513.31798008 592.27438426 350.6762551  427.11652458\n",
      " 296.4589367  436.96920809 356.73437343 413.34660454 501.79198559\n",
      " 352.9049565  264.79134508 409.62179802 580.60332917 276.62270868\n",
      " 589.55226327 416.35250851 304.67252792 385.56710969 609.56166387\n",
      " 585.76436746 521.57888527 460.43297275 625.19447083 573.85001633\n",
      " 457.86532951 334.9992841  551.00517855 547.74386466 339.14012589\n",
      " 352.44689901 582.92777564 570.1158125  458.95848772 359.62837178\n",
      " 374.6690855  636.98093328 579.54863433 401.24896083 355.05245366\n",
      " 361.33810513 425.43269185 403.62249578 368.53146526 381.82079672\n",
      " 577.65851869 633.15551683 430.74268179 298.19142246]\n",
      "new_threshold = 1559.3002663077987\n"
     ]
    },
    {
     "data": {
      "application/vnd.jupyter.widget-view+json": {
       "model_id": "05967df10b474b0883c1d4c943429690",
       "version_major": 2,
       "version_minor": 0
      },
      "text/plain": [
       "HBox(children=(FloatProgress(value=1.0, bar_style='info', max=1.0), HTML(value='')))"
      ]
     },
     "metadata": {},
     "output_type": "display_data"
    },
    {
     "name": "stdout",
     "output_type": "stream",
     "text": [
      "--> Not exactly one containing mesh: []\n",
      "--> Not exactly one containing mesh: []\n",
      "\n"
     ]
    },
    {
     "data": {
      "application/vnd.jupyter.widget-view+json": {
       "model_id": "1514b9ced2f14f9995264070c745e08f",
       "version_major": 2,
       "version_minor": 0
      },
      "text/plain": [
       "HBox(children=(FloatProgress(value=1.0, bar_style='info', max=1.0), HTML(value='')))"
      ]
     },
     "metadata": {},
     "output_type": "display_data"
    },
    {
     "name": "stdout",
     "output_type": "stream",
     "text": [
      "--> Not exactly one containing mesh: []\n",
      "\n",
      "filtered_measurements = [1332.26627305 1458.70204537 1478.08977641 1405.72885559 1157.98187803\n",
      " 1346.83994125 1338.7542449  1458.86045793 1800.64138363 1738.2421349 ]\n",
      "new_threshold = 3727.111560929677\n"
     ]
    },
    {
     "data": {
      "application/vnd.jupyter.widget-view+json": {
       "model_id": "157a1eac655a4dcf9a1ae479b54e70a5",
       "version_major": 2,
       "version_minor": 0
      },
      "text/plain": [
       "HBox(children=(FloatProgress(value=1.0, bar_style='info', max=1.0), HTML(value='')))"
      ]
     },
     "metadata": {},
     "output_type": "display_data"
    },
    {
     "name": "stdout",
     "output_type": "stream",
     "text": [
      "--> Not exactly one containing mesh: []\n",
      "\n"
     ]
    },
    {
     "data": {
      "application/vnd.jupyter.widget-view+json": {
       "model_id": "e6319ffcb68646d498d39c2626f60b19",
       "version_major": 2,
       "version_minor": 0
      },
      "text/plain": [
       "HBox(children=(FloatProgress(value=1.0, bar_style='info', max=1.0), HTML(value='')))"
      ]
     },
     "metadata": {},
     "output_type": "display_data"
    },
    {
     "name": "stdout",
     "output_type": "stream",
     "text": [
      "\n",
      "filtered_measurements = [1926.79181314 1677.49676136 1529.90652837 1498.73296762 1435.26942161\n",
      " 1396.32173537 1474.86642286 1494.54641245 1521.96270543 1597.11113417]\n",
      "new_threshold = 2929.1187389358192\n"
     ]
    },
    {
     "data": {
      "application/vnd.jupyter.widget-view+json": {
       "model_id": "f16655eea757485c9898991d97a7e65a",
       "version_major": 2,
       "version_minor": 0
      },
      "text/plain": [
       "HBox(children=(FloatProgress(value=1.0, bar_style='info', max=1.0), HTML(value='')))"
      ]
     },
     "metadata": {},
     "output_type": "display_data"
    },
    {
     "name": "stdout",
     "output_type": "stream",
     "text": [
      "\n"
     ]
    },
    {
     "data": {
      "application/vnd.jupyter.widget-view+json": {
       "model_id": "a31f48a1b6ff4d5cae1be7f96d1a37ce",
       "version_major": 2,
       "version_minor": 0
      },
      "text/plain": [
       "HBox(children=(FloatProgress(value=1.0, bar_style='info', max=1.0), HTML(value='')))"
      ]
     },
     "metadata": {},
     "output_type": "display_data"
    },
    {
     "name": "stdout",
     "output_type": "stream",
     "text": [
      "\n",
      "filtered_measurements = [ 918.54000325 1216.79990702 1217.62277342  936.8686374   965.57564242\n",
      "  907.47610856  973.58388557  999.89115164 1230.88675874]\n",
      "new_threshold = 2300.783393280193\n"
     ]
    },
    {
     "data": {
      "application/vnd.jupyter.widget-view+json": {
       "model_id": "a512d7f78d3f4471aa45fb5b9b01f1a9",
       "version_major": 2,
       "version_minor": 0
      },
      "text/plain": [
       "HBox(children=(FloatProgress(value=1.0, bar_style='info', max=1.0), HTML(value='')))"
      ]
     },
     "metadata": {},
     "output_type": "display_data"
    },
    {
     "name": "stdout",
     "output_type": "stream",
     "text": [
      "\n"
     ]
    },
    {
     "data": {
      "application/vnd.jupyter.widget-view+json": {
       "model_id": "f2bf86e1f45c42e2b9aea9962c6baea5",
       "version_major": 2,
       "version_minor": 0
      },
      "text/plain": [
       "HBox(children=(FloatProgress(value=1.0, bar_style='info', max=1.0), HTML(value='')))"
      ]
     },
     "metadata": {},
     "output_type": "display_data"
    },
    {
     "name": "stdout",
     "output_type": "stream",
     "text": [
      "\n",
      "filtered_measurements = [1083.13021182 1065.40349017 1133.11370722 1297.74291541 1068.88661509\n",
      " 1087.74287335 1041.37872436 1305.40416067 1116.86649167 1152.89919133\n",
      "  990.3185186   988.35233779 1398.9976529  1039.68658571 1000.63543503\n",
      "  977.37802482 1006.37334492 1024.93573601 1210.77806157 1022.03954931\n",
      " 1067.12809193]\n",
      "new_threshold = 2692.516570711155\n"
     ]
    },
    {
     "data": {
      "application/vnd.jupyter.widget-view+json": {
       "model_id": "0afaac97a7d3498faf0258e2e962ae26",
       "version_major": 2,
       "version_minor": 0
      },
      "text/plain": [
       "HBox(children=(FloatProgress(value=1.0, bar_style='info', max=1.0), HTML(value='')))"
      ]
     },
     "metadata": {},
     "output_type": "display_data"
    },
    {
     "name": "stdout",
     "output_type": "stream",
     "text": [
      "\n"
     ]
    },
    {
     "data": {
      "application/vnd.jupyter.widget-view+json": {
       "model_id": "fa92ac1ed92e4d809cd20680409b83b0",
       "version_major": 2,
       "version_minor": 0
      },
      "text/plain": [
       "HBox(children=(FloatProgress(value=1.0, bar_style='info', max=1.0), HTML(value='')))"
      ]
     },
     "metadata": {},
     "output_type": "display_data"
    },
    {
     "name": "stdout",
     "output_type": "stream",
     "text": [
      "--> Not exactly one containing mesh: []\n",
      "\n",
      "branch_touching_number = [34]\n",
      "branch_touching_number = [34, 1]\n",
      "most_branch_containing_piece = 0\n",
      "filtered_measurements = [297.20787908 272.86942089 512.57378971 335.56746111 417.06252118\n",
      " 296.86853849 296.98654433 275.67610908 298.93066228 566.1052657\n",
      " 410.20622961 424.55583963 449.89849313 330.41249216 364.45695192\n",
      " 670.26005681 357.44480126 646.08792191 640.67708409 484.31303454\n",
      " 381.75687903 479.25137004 664.95184398 480.16388292]\n",
      "new_threshold = 1623.9759671514944\n"
     ]
    },
    {
     "data": {
      "application/vnd.jupyter.widget-view+json": {
       "model_id": "520eec62efd340f99d25563bb0ee0f9a",
       "version_major": 2,
       "version_minor": 0
      },
      "text/plain": [
       "HBox(children=(FloatProgress(value=1.0, bar_style='info', max=1.0), HTML(value='')))"
      ]
     },
     "metadata": {},
     "output_type": "display_data"
    },
    {
     "name": "stdout",
     "output_type": "stream",
     "text": [
      "--> Not exactly one containing mesh: []\n",
      "\n"
     ]
    },
    {
     "data": {
      "application/vnd.jupyter.widget-view+json": {
       "model_id": "0006054e598647228dfb897536e8981a",
       "version_major": 2,
       "version_minor": 0
      },
      "text/plain": [
       "HBox(children=(FloatProgress(value=1.0, bar_style='info', max=1.0), HTML(value='')))"
      ]
     },
     "metadata": {},
     "output_type": "display_data"
    },
    {
     "name": "stdout",
     "output_type": "stream",
     "text": [
      "\n",
      "filtered_measurements = [1099.56766811 1008.17463397 1013.37708685 1021.09096934 1208.88968602\n",
      " 1095.89628867 1218.39099207]\n",
      "new_threshold = 1977.099165637599\n"
     ]
    },
    {
     "data": {
      "application/vnd.jupyter.widget-view+json": {
       "model_id": "3f4efc3f364f4cf0bf881b7ac70110e6",
       "version_major": 2,
       "version_minor": 0
      },
      "text/plain": [
       "HBox(children=(FloatProgress(value=1.0, bar_style='info', max=1.0), HTML(value='')))"
      ]
     },
     "metadata": {},
     "output_type": "display_data"
    },
    {
     "name": "stdout",
     "output_type": "stream",
     "text": [
      "\n"
     ]
    },
    {
     "data": {
      "application/vnd.jupyter.widget-view+json": {
       "model_id": "48b7012cba5c4677ab9264fbd952a193",
       "version_major": 2,
       "version_minor": 0
      },
      "text/plain": [
       "HBox(children=(FloatProgress(value=1.0, bar_style='info', max=1.0), HTML(value='')))"
      ]
     },
     "metadata": {},
     "output_type": "display_data"
    },
    {
     "name": "stdout",
     "output_type": "stream",
     "text": [
      "\n",
      "filtered_measurements = [1095.49830931 1009.87633784  988.50630488 1046.61720757 1176.50357256\n",
      " 1362.43684214]\n",
      "new_threshold = 1923.1302933597144\n"
     ]
    },
    {
     "data": {
      "application/vnd.jupyter.widget-view+json": {
       "model_id": "ffe2cc5773784b199148548a8a134fdd",
       "version_major": 2,
       "version_minor": 0
      },
      "text/plain": [
       "HBox(children=(FloatProgress(value=1.0, bar_style='info', max=1.0), HTML(value='')))"
      ]
     },
     "metadata": {},
     "output_type": "display_data"
    },
    {
     "name": "stdout",
     "output_type": "stream",
     "text": [
      "\n"
     ]
    },
    {
     "data": {
      "application/vnd.jupyter.widget-view+json": {
       "model_id": "a793003cc96949c493cb17cd699cf64e",
       "version_major": 2,
       "version_minor": 0
      },
      "text/plain": [
       "HBox(children=(FloatProgress(value=1.0, bar_style='info', max=1.0), HTML(value='')))"
      ]
     },
     "metadata": {},
     "output_type": "display_data"
    },
    {
     "name": "stdout",
     "output_type": "stream",
     "text": [
      "\n",
      "filtered_measurements = [1424.10898194 1259.8039755  1295.14346523 1347.17000438]\n",
      "new_threshold = 2145.43380099692\n"
     ]
    },
    {
     "data": {
      "application/vnd.jupyter.widget-view+json": {
       "model_id": "6b66b8120e404c4f85306dc456d03ae5",
       "version_major": 2,
       "version_minor": 0
      },
      "text/plain": [
       "HBox(children=(FloatProgress(value=1.0, bar_style='info', max=1.0), HTML(value='')))"
      ]
     },
     "metadata": {},
     "output_type": "display_data"
    },
    {
     "name": "stdout",
     "output_type": "stream",
     "text": [
      "\n"
     ]
    },
    {
     "data": {
      "application/vnd.jupyter.widget-view+json": {
       "model_id": "7f586aa979bb49cb805b6c6a70d1ac1f",
       "version_major": 2,
       "version_minor": 0
      },
      "text/plain": [
       "HBox(children=(FloatProgress(value=1.0, bar_style='info', max=1.0), HTML(value='')))"
      ]
     },
     "metadata": {},
     "output_type": "display_data"
    },
    {
     "name": "stdout",
     "output_type": "stream",
     "text": [
      "\n",
      "filtered_measurements = [613.28313589 427.74167081 418.91010767 401.89330639 411.36686494\n",
      " 366.87695723 553.28672753 582.02949556]\n",
      "new_threshold = 1069.2146820880382\n"
     ]
    },
    {
     "data": {
      "application/vnd.jupyter.widget-view+json": {
       "model_id": "e48af8c269414a6199af652e42cee220",
       "version_major": 2,
       "version_minor": 0
      },
      "text/plain": [
       "HBox(children=(FloatProgress(value=1.0, bar_style='info', max=1.0), HTML(value='')))"
      ]
     },
     "metadata": {},
     "output_type": "display_data"
    },
    {
     "name": "stdout",
     "output_type": "stream",
     "text": [
      "\n"
     ]
    },
    {
     "data": {
      "application/vnd.jupyter.widget-view+json": {
       "model_id": "5c3b34a1b77341d28d1c550d4cba4c84",
       "version_major": 2,
       "version_minor": 0
      },
      "text/plain": [
       "HBox(children=(FloatProgress(value=1.0, bar_style='info', max=1.0), HTML(value='')))"
      ]
     },
     "metadata": {},
     "output_type": "display_data"
    },
    {
     "name": "stdout",
     "output_type": "stream",
     "text": [
      "--> Not exactly one containing mesh: []\n",
      "--> Not exactly one containing mesh: []\n",
      "--> Not exactly one containing mesh: []\n",
      "--> Not exactly one containing mesh: []\n",
      "\n",
      "filtered_measurements = [ 45.05947244  59.39203003 116.49514855 102.10330543 139.15858863\n",
      "  77.60522804 158.06482643 115.1479735   93.82968963  86.79179736\n",
      " 120.1548721   85.84001795 117.18899013 119.43702603  99.35760853\n",
      " 106.03877535 170.99073559 117.81672871 176.24097924  94.4379532\n",
      " 149.52014185]\n",
      "new_threshold = 391.4036405744731\n"
     ]
    },
    {
     "data": {
      "application/vnd.jupyter.widget-view+json": {
       "model_id": "66346fa4ad484af9abe68f6018c5daa5",
       "version_major": 2,
       "version_minor": 0
      },
      "text/plain": [
       "HBox(children=(FloatProgress(value=1.0, bar_style='info', max=1.0), HTML(value='')))"
      ]
     },
     "metadata": {},
     "output_type": "display_data"
    },
    {
     "name": "stdout",
     "output_type": "stream",
     "text": [
      "--> Not exactly one containing mesh: []\n",
      "--> Not exactly one containing mesh: []\n",
      "--> Not exactly one containing mesh: []\n",
      "--> Not exactly one containing mesh: []\n",
      "--> Not exactly one containing mesh: []\n",
      "\n"
     ]
    },
    {
     "data": {
      "application/vnd.jupyter.widget-view+json": {
       "model_id": "6616027b62dc4f428f4ce76315277e6d",
       "version_major": 2,
       "version_minor": 0
      },
      "text/plain": [
       "HBox(children=(FloatProgress(value=1.0, bar_style='info', max=1.0), HTML(value='')))"
      ]
     },
     "metadata": {},
     "output_type": "display_data"
    },
    {
     "name": "stdout",
     "output_type": "stream",
     "text": [
      "\n",
      "filtered_measurements = [1450.44018082 1363.62181536 1255.44824869 1268.75140801 1284.54995518\n",
      " 1272.92782292 1376.60153915]\n",
      "new_threshold = 1966.33877935369\n"
     ]
    },
    {
     "data": {
      "application/vnd.jupyter.widget-view+json": {
       "model_id": "c27d08e737854e3aa483da43db234ab6",
       "version_major": 2,
       "version_minor": 0
      },
      "text/plain": [
       "HBox(children=(FloatProgress(value=1.0, bar_style='info', max=1.0), HTML(value='')))"
      ]
     },
     "metadata": {},
     "output_type": "display_data"
    },
    {
     "name": "stdout",
     "output_type": "stream",
     "text": [
      "\n"
     ]
    },
    {
     "data": {
      "application/vnd.jupyter.widget-view+json": {
       "model_id": "c25d453694ae4228b8e2af93737bd748",
       "version_major": 2,
       "version_minor": 0
      },
      "text/plain": [
       "HBox(children=(FloatProgress(value=1.0, bar_style='info', max=1.0), HTML(value='')))"
      ]
     },
     "metadata": {},
     "output_type": "display_data"
    },
    {
     "name": "stdout",
     "output_type": "stream",
     "text": [
      "--> Not exactly one containing mesh: []\n",
      "\n",
      "filtered_measurements = [105.96026166  78.68710592  83.77045571 100.49429831 108.03068215]\n",
      "new_threshold = 220.09478782035404\n"
     ]
    },
    {
     "data": {
      "application/vnd.jupyter.widget-view+json": {
       "model_id": "564335590a104582b63a78df80369e53",
       "version_major": 2,
       "version_minor": 0
      },
      "text/plain": [
       "HBox(children=(FloatProgress(value=1.0, bar_style='info', max=1.0), HTML(value='')))"
      ]
     },
     "metadata": {},
     "output_type": "display_data"
    },
    {
     "name": "stdout",
     "output_type": "stream",
     "text": [
      "--> Not exactly one containing mesh: []\n",
      "--> Not exactly one containing mesh: []\n",
      "--> Not exactly one containing mesh: []\n",
      "\n",
      "branch_touching_number = [10]\n",
      "branch_touching_number = [10, 1]\n",
      "most_branch_containing_piece = 0\n"
     ]
    },
    {
     "data": {
      "application/vnd.jupyter.widget-view+json": {
       "model_id": "09b1061d3b8842be8b6438bada3a5400",
       "version_major": 2,
       "version_minor": 0
      },
      "text/plain": [
       "HBox(children=(FloatProgress(value=1.0, bar_style='info', max=1.0), HTML(value='')))"
      ]
     },
     "metadata": {},
     "output_type": "display_data"
    },
    {
     "name": "stdout",
     "output_type": "stream",
     "text": [
      "\n",
      "filtered_measurements = [198.99105659 229.43900338 281.16025146 323.20621436 357.43956952\n",
      " 500.17568732 556.34227467 277.07977136 346.13950645 399.21192955\n",
      " 292.73840352 417.30130951 370.33816144 354.00750119 380.47785803\n",
      " 415.07889002 297.34140512 266.27438116 281.29734065 228.55195595\n",
      " 418.48546273 328.99779203 302.82616339 314.15541155 479.79903874\n",
      " 347.1752023  341.565514   307.97058213 474.74854074 446.48146249\n",
      " 378.95774228 345.85472224 508.25679227 416.03788852 363.79165599\n",
      " 462.15340002 362.02564358 349.60533925 465.34869164 328.48147815\n",
      " 458.9922828  428.04763102 363.49277515 342.72877911 263.67235486\n",
      " 409.12174539 220.42718015 423.93867298 333.81748498 556.25668636\n",
      " 255.10440005 302.85452232 401.15387249 332.15801421 219.13245391\n",
      " 249.15530439 281.50470684 220.65250459 512.20640067 442.2690894\n",
      " 284.87377121 450.22419424 411.68857955 410.96971203 320.29087886\n",
      " 325.80510319]\n",
      "new_threshold = 1324.4920573263184\n"
     ]
    },
    {
     "data": {
      "application/vnd.jupyter.widget-view+json": {
       "model_id": "22d3144788354cfc89e11717f294fe0a",
       "version_major": 2,
       "version_minor": 0
      },
      "text/plain": [
       "HBox(children=(FloatProgress(value=1.0, bar_style='info', max=1.0), HTML(value='')))"
      ]
     },
     "metadata": {},
     "output_type": "display_data"
    },
    {
     "name": "stdout",
     "output_type": "stream",
     "text": [
      "\n"
     ]
    },
    {
     "data": {
      "application/vnd.jupyter.widget-view+json": {
       "model_id": "01b05fc005814549833f87f0c2feaf9d",
       "version_major": 2,
       "version_minor": 0
      },
      "text/plain": [
       "HBox(children=(FloatProgress(value=1.0, bar_style='info', max=1.0), HTML(value='')))"
      ]
     },
     "metadata": {},
     "output_type": "display_data"
    },
    {
     "name": "stdout",
     "output_type": "stream",
     "text": [
      "\n",
      "filtered_measurements = [405.98422226 347.49385873 345.91874816 544.00655003 433.01336957\n",
      " 406.79839068 428.25247369 428.19988222 407.95980263 329.25424435\n",
      " 557.12601767 340.65501094 392.67134108 437.34154476 353.67619529\n",
      " 379.93909186 339.15931488 377.21767574 344.47970611 305.79962208\n",
      " 353.75075791 378.38301605 429.29291596 368.48629626 323.41265014\n",
      " 344.12669572 430.34051958 571.77949149 338.4681973  349.18492346\n",
      " 419.15770395 363.21402223 398.1471721  353.56540511 434.63136904\n",
      " 437.73813142 480.04906049 561.95536662]\n",
      "new_threshold = 1398.759916287536\n"
     ]
    },
    {
     "data": {
      "application/vnd.jupyter.widget-view+json": {
       "model_id": "f5d535cf29c247a0910ae665eb5099d6",
       "version_major": 2,
       "version_minor": 0
      },
      "text/plain": [
       "HBox(children=(FloatProgress(value=1.0, bar_style='info', max=1.0), HTML(value='')))"
      ]
     },
     "metadata": {},
     "output_type": "display_data"
    },
    {
     "name": "stdout",
     "output_type": "stream",
     "text": [
      "\n"
     ]
    },
    {
     "data": {
      "application/vnd.jupyter.widget-view+json": {
       "model_id": "0b3d0b2e6e354a7cbeace456b3eb8d7b",
       "version_major": 2,
       "version_minor": 0
      },
      "text/plain": [
       "HBox(children=(FloatProgress(value=1.0, bar_style='info', max=1.0), HTML(value='')))"
      ]
     },
     "metadata": {},
     "output_type": "display_data"
    },
    {
     "name": "stdout",
     "output_type": "stream",
     "text": [
      "\n",
      "filtered_measurements = [555.75352877 391.87731526 430.41322907 507.85436466 461.13095509\n",
      " 791.53872383 757.33963176 798.43529353 629.3237302  601.21117083\n",
      " 565.88956045 603.86962433 434.55490647 403.94978597 556.12527847\n",
      " 383.73004049 400.90230283 559.11692493 486.7075935  577.07896689\n",
      " 433.42420909 399.64518615 506.33619043 610.4275938  517.04930685\n",
      " 488.82761665 536.60713741 446.33027479 563.09866215 554.76033093\n",
      " 446.43257962 689.69122982 539.67890122 495.44156689 467.04188166\n",
      " 762.64814558]\n",
      "new_threshold = 1859.9139379396506\n"
     ]
    },
    {
     "data": {
      "application/vnd.jupyter.widget-view+json": {
       "model_id": "6907c3b18fad4a64bed7aeb67b191666",
       "version_major": 2,
       "version_minor": 0
      },
      "text/plain": [
       "HBox(children=(FloatProgress(value=1.0, bar_style='info', max=1.0), HTML(value='')))"
      ]
     },
     "metadata": {},
     "output_type": "display_data"
    },
    {
     "name": "stdout",
     "output_type": "stream",
     "text": [
      "\n"
     ]
    },
    {
     "data": {
      "application/vnd.jupyter.widget-view+json": {
       "model_id": "812c6ff461bc4943bea2d00bc4e6e212",
       "version_major": 2,
       "version_minor": 0
      },
      "text/plain": [
       "HBox(children=(FloatProgress(value=1.0, bar_style='info', max=1.0), HTML(value='')))"
      ]
     },
     "metadata": {},
     "output_type": "display_data"
    },
    {
     "name": "stdout",
     "output_type": "stream",
     "text": [
      "\n",
      "filtered_measurements = [300.27088816 455.75585244 334.66861888 409.140076   373.06840183\n",
      " 462.13900593 387.0224553  294.89246029 566.73582896 352.20895882\n",
      " 268.19871042]\n",
      "new_threshold = 1306.180665112064\n"
     ]
    },
    {
     "data": {
      "application/vnd.jupyter.widget-view+json": {
       "model_id": "43d23037afeb4458ab2b60fd5d259c5b",
       "version_major": 2,
       "version_minor": 0
      },
      "text/plain": [
       "HBox(children=(FloatProgress(value=1.0, bar_style='info', max=1.0), HTML(value='')))"
      ]
     },
     "metadata": {},
     "output_type": "display_data"
    },
    {
     "name": "stdout",
     "output_type": "stream",
     "text": [
      "\n"
     ]
    },
    {
     "data": {
      "application/vnd.jupyter.widget-view+json": {
       "model_id": "66be0be6e64e4574b012b1fcd1ff17b7",
       "version_major": 2,
       "version_minor": 0
      },
      "text/plain": [
       "HBox(children=(FloatProgress(value=1.0, bar_style='info', max=1.0), HTML(value='')))"
      ]
     },
     "metadata": {},
     "output_type": "display_data"
    },
    {
     "name": "stdout",
     "output_type": "stream",
     "text": [
      "\n",
      "filtered_measurements = [728.73483679 581.55580669 698.00471207 620.51366547 581.6930317\n",
      " 358.34803171 517.02632848]\n",
      "new_threshold = 1811.5572363929246\n"
     ]
    },
    {
     "data": {
      "application/vnd.jupyter.widget-view+json": {
       "model_id": "4b0d231f92914922afc1c4f81f15adec",
       "version_major": 2,
       "version_minor": 0
      },
      "text/plain": [
       "HBox(children=(FloatProgress(value=1.0, bar_style='info', max=1.0), HTML(value='')))"
      ]
     },
     "metadata": {},
     "output_type": "display_data"
    },
    {
     "name": "stdout",
     "output_type": "stream",
     "text": [
      "\n"
     ]
    },
    {
     "data": {
      "application/vnd.jupyter.widget-view+json": {
       "model_id": "81598c1310854f6bbd9443b09c824da6",
       "version_major": 2,
       "version_minor": 0
      },
      "text/plain": [
       "HBox(children=(FloatProgress(value=1.0, bar_style='info', max=1.0), HTML(value='')))"
      ]
     },
     "metadata": {},
     "output_type": "display_data"
    },
    {
     "name": "stdout",
     "output_type": "stream",
     "text": [
      "\n",
      "filtered_measurements = [263.95726039 368.74370257 520.39006215 426.86543117 484.46275189\n",
      " 447.79293326 645.65736616 368.85562647]\n",
      "new_threshold = 1707.3961335208007\n"
     ]
    },
    {
     "data": {
      "application/vnd.jupyter.widget-view+json": {
       "model_id": "7b3651d82d9f4a6bb25fb5eba07b50ad",
       "version_major": 2,
       "version_minor": 0
      },
      "text/plain": [
       "HBox(children=(FloatProgress(value=1.0, bar_style='info', max=1.0), HTML(value='')))"
      ]
     },
     "metadata": {},
     "output_type": "display_data"
    },
    {
     "name": "stdout",
     "output_type": "stream",
     "text": [
      "\n"
     ]
    },
    {
     "data": {
      "application/vnd.jupyter.widget-view+json": {
       "model_id": "e51ac23a1b7e4acab7537808442f84cf",
       "version_major": 2,
       "version_minor": 0
      },
      "text/plain": [
       "HBox(children=(FloatProgress(value=1.0, bar_style='info', max=1.0), HTML(value='')))"
      ]
     },
     "metadata": {},
     "output_type": "display_data"
    },
    {
     "name": "stdout",
     "output_type": "stream",
     "text": [
      "--> Not exactly one containing mesh: []\n",
      "--> Not exactly one containing mesh: []\n",
      "--> Not exactly one containing mesh: []\n",
      "--> Not exactly one containing mesh: []\n",
      "--> Not exactly one containing mesh: []\n",
      "\n",
      "filtered_measurements = [126.96057191  92.97584942  78.83923728  73.30550966 140.51791136\n",
      "  95.46467912 106.69756133  95.99323147  74.38547812  88.98488896\n",
      "  64.1027323 ]\n",
      "new_threshold = 284.0867146241166\n"
     ]
    },
    {
     "data": {
      "application/vnd.jupyter.widget-view+json": {
       "model_id": "b577510f529a4da79328e1b98b1d8d43",
       "version_major": 2,
       "version_minor": 0
      },
      "text/plain": [
       "HBox(children=(FloatProgress(value=1.0, bar_style='info', max=1.0), HTML(value='')))"
      ]
     },
     "metadata": {},
     "output_type": "display_data"
    },
    {
     "name": "stdout",
     "output_type": "stream",
     "text": [
      "--> Not exactly one containing mesh: []\n",
      "--> Not exactly one containing mesh: []\n",
      "--> Not exactly one containing mesh: []\n",
      "--> Not exactly one containing mesh: []\n",
      "--> Not exactly one containing mesh: []\n",
      "--> Not exactly one containing mesh: []\n",
      "\n",
      "branch_touching_number = [10]\n",
      "branch_touching_number = [10, 6]\n",
      "most_branch_containing_piece = 0\n"
     ]
    },
    {
     "data": {
      "application/vnd.jupyter.widget-view+json": {
       "model_id": "62796fbc2bd14896a7956a76dd400209",
       "version_major": 2,
       "version_minor": 0
      },
      "text/plain": [
       "HBox(children=(FloatProgress(value=1.0, bar_style='info', max=1.0), HTML(value='')))"
      ]
     },
     "metadata": {},
     "output_type": "display_data"
    },
    {
     "name": "stdout",
     "output_type": "stream",
     "text": [
      "--> Not exactly one containing mesh: []\n",
      "\n",
      "filtered_measurements = [559.09843917 377.93804296 677.62513833 418.31772685 388.26625484\n",
      " 429.69400077 289.52561153 573.41319052 400.52869867 647.1526196\n",
      " 635.58756327 669.80815551 353.62274214 526.56973265 595.41863816\n",
      " 375.93793859 683.32868056 365.72040301 392.79504866 467.23547154\n",
      " 478.07455954 608.72344746 488.27990934 492.3702034  573.37153795\n",
      " 463.43399111 347.40008179 512.89469405 556.33338452 646.2403321\n",
      " 619.17957396 385.99436767 393.94054496 307.80042405 592.73332128\n",
      " 551.86760471 382.31924765 377.41392736 374.23411217 394.09747178\n",
      " 393.33251958 560.42679563 563.300039   391.36796842 447.0806944\n",
      " 345.73600566 562.97745896 226.05759059 291.24461522 221.62539773\n",
      " 341.2791875  535.57638775 218.59111592 179.7649476  186.03786935\n",
      " 175.76312092]\n",
      "new_threshold = 1666.8001652885987\n"
     ]
    },
    {
     "data": {
      "application/vnd.jupyter.widget-view+json": {
       "model_id": "b41de7c3051947b7981368accae0ecc0",
       "version_major": 2,
       "version_minor": 0
      },
      "text/plain": [
       "HBox(children=(FloatProgress(value=1.0, bar_style='info', max=1.0), HTML(value='')))"
      ]
     },
     "metadata": {},
     "output_type": "display_data"
    },
    {
     "name": "stdout",
     "output_type": "stream",
     "text": [
      "--> Not exactly one containing mesh: []\n",
      "\n"
     ]
    },
    {
     "data": {
      "application/vnd.jupyter.widget-view+json": {
       "model_id": "c8cd1435233249c7ac7866e10ab98949",
       "version_major": 2,
       "version_minor": 0
      },
      "text/plain": [
       "HBox(children=(FloatProgress(value=1.0, bar_style='info', max=1.0), HTML(value='')))"
      ]
     },
     "metadata": {},
     "output_type": "display_data"
    },
    {
     "name": "stdout",
     "output_type": "stream",
     "text": [
      "--> Not exactly one containing mesh: []\n",
      "\n",
      "filtered_measurements = [248.35258606 133.64216553 233.33667136]\n",
      "new_threshold = 581.0868650080404\n"
     ]
    },
    {
     "data": {
      "application/vnd.jupyter.widget-view+json": {
       "model_id": "ea94cfa09cc94d8b86950526e3909dde",
       "version_major": 2,
       "version_minor": 0
      },
      "text/plain": [
       "HBox(children=(FloatProgress(value=1.0, bar_style='info', max=1.0), HTML(value='')))"
      ]
     },
     "metadata": {},
     "output_type": "display_data"
    },
    {
     "name": "stdout",
     "output_type": "stream",
     "text": [
      "--> Not exactly one containing mesh: []\n",
      "\n"
     ]
    },
    {
     "data": {
      "application/vnd.jupyter.widget-view+json": {
       "model_id": "5dcd5b1444274f33aefe4349340dbff3",
       "version_major": 2,
       "version_minor": 0
      },
      "text/plain": [
       "HBox(children=(FloatProgress(value=1.0, bar_style='info', max=1.0), HTML(value='')))"
      ]
     },
     "metadata": {},
     "output_type": "display_data"
    },
    {
     "name": "stdout",
     "output_type": "stream",
     "text": [
      "\n",
      "filtered_measurements = [491.37810896 657.73483351 631.10565447 471.26935934 488.67519396\n",
      " 485.74147742 326.37870235 503.35563661 494.27190582 405.93588181\n",
      " 476.64926481 285.05690205 305.08945132 552.17920481 464.48383884\n",
      " 429.05770929 634.22826192 356.93454145 688.08582392 447.3580878\n",
      " 322.14338683 347.0455571 ]\n",
      "new_threshold = 1746.1882119594893\n"
     ]
    },
    {
     "data": {
      "application/vnd.jupyter.widget-view+json": {
       "model_id": "d0269eba5fbb44f39b2582b4b3e05272",
       "version_major": 2,
       "version_minor": 0
      },
      "text/plain": [
       "HBox(children=(FloatProgress(value=1.0, bar_style='info', max=1.0), HTML(value='')))"
      ]
     },
     "metadata": {},
     "output_type": "display_data"
    },
    {
     "name": "stdout",
     "output_type": "stream",
     "text": [
      "\n"
     ]
    },
    {
     "data": {
      "application/vnd.jupyter.widget-view+json": {
       "model_id": "1205940fac184d298c57d733fd50cd93",
       "version_major": 2,
       "version_minor": 0
      },
      "text/plain": [
       "HBox(children=(FloatProgress(value=1.0, bar_style='info', max=1.0), HTML(value='')))"
      ]
     },
     "metadata": {},
     "output_type": "display_data"
    },
    {
     "name": "stdout",
     "output_type": "stream",
     "text": [
      "--> Not exactly one containing mesh: []\n",
      "--> Not exactly one containing mesh: []\n",
      "\n",
      "filtered_measurements = [165.52701111 159.04367811  84.27327624 122.0338076  128.48249784\n",
      " 118.97608791  72.93607449  59.31837004  59.25052383  67.63159985\n",
      "  77.85965567  84.05577081 100.59791997  90.14795844 115.23816484\n",
      " 141.89664547 129.10251482 133.49595987  95.97699109  83.29507115\n",
      " 136.5433336  177.61428505  97.13187509  82.73461302]\n",
      "new_threshold = 404.3691679431564\n"
     ]
    },
    {
     "data": {
      "application/vnd.jupyter.widget-view+json": {
       "model_id": "b7f0cab15d68493ca288f1d42017d13c",
       "version_major": 2,
       "version_minor": 0
      },
      "text/plain": [
       "HBox(children=(FloatProgress(value=1.0, bar_style='info', max=1.0), HTML(value='')))"
      ]
     },
     "metadata": {},
     "output_type": "display_data"
    },
    {
     "name": "stdout",
     "output_type": "stream",
     "text": [
      "--> Not exactly one containing mesh: []\n",
      "--> Not exactly one containing mesh: []\n",
      "\n",
      "branch_touching_number = [30]\n",
      "branch_touching_number = [30, 2]\n",
      "most_branch_containing_piece = 0\n"
     ]
    },
    {
     "data": {
      "application/vnd.jupyter.widget-view+json": {
       "model_id": "0b7d9ea2f7264a07b8ce1643f85dc90f",
       "version_major": 2,
       "version_minor": 0
      },
      "text/plain": [
       "HBox(children=(FloatProgress(value=1.0, bar_style='info', max=1.0), HTML(value='')))"
      ]
     },
     "metadata": {},
     "output_type": "display_data"
    },
    {
     "name": "stdout",
     "output_type": "stream",
     "text": [
      "\n",
      "filtered_measurements = [757.46006391 287.40098121 449.39207107 497.79246723 536.9694746\n",
      " 540.14058718 774.24642019 369.98987702]\n",
      "new_threshold = 1870.3203324181059\n"
     ]
    },
    {
     "data": {
      "application/vnd.jupyter.widget-view+json": {
       "model_id": "5a14a7ee984c4e3b91bcf8a492de761d",
       "version_major": 2,
       "version_minor": 0
      },
      "text/plain": [
       "HBox(children=(FloatProgress(value=1.0, bar_style='info', max=1.0), HTML(value='')))"
      ]
     },
     "metadata": {},
     "output_type": "display_data"
    },
    {
     "name": "stdout",
     "output_type": "stream",
     "text": [
      "\n"
     ]
    },
    {
     "data": {
      "application/vnd.jupyter.widget-view+json": {
       "model_id": "afa1045c4f7849158f832825ac40696f",
       "version_major": 2,
       "version_minor": 0
      },
      "text/plain": [
       "HBox(children=(FloatProgress(value=1.0, bar_style='info', max=1.0), HTML(value='')))"
      ]
     },
     "metadata": {},
     "output_type": "display_data"
    },
    {
     "name": "stdout",
     "output_type": "stream",
     "text": [
      "--> Not exactly one containing mesh: []\n",
      "--> Not exactly one containing mesh: []\n",
      "--> Not exactly one containing mesh: []\n",
      "--> Not exactly one containing mesh: []\n",
      "\n",
      "filtered_measurements = [225.396835   121.16385501 190.41894576 155.13714122 182.63408393\n",
      " 141.91707375 168.38449924 133.49347927 241.48799996 211.22439505\n",
      " 146.74426942 100.42214643 119.90990676 134.60479634  90.5282384\n",
      " 232.49539949 158.39459544  69.58543626 101.1170958  133.69958785\n",
      " 142.37602975 185.71888306 262.97795742 251.54513345 211.02516687]\n",
      "new_threshold = 528.4506787137248\n"
     ]
    },
    {
     "data": {
      "application/vnd.jupyter.widget-view+json": {
       "model_id": "1f39504ef4f24f4488ed1c6125f82dff",
       "version_major": 2,
       "version_minor": 0
      },
      "text/plain": [
       "HBox(children=(FloatProgress(value=1.0, bar_style='info', max=1.0), HTML(value='')))"
      ]
     },
     "metadata": {},
     "output_type": "display_data"
    },
    {
     "name": "stdout",
     "output_type": "stream",
     "text": [
      "--> Not exactly one containing mesh: []\n",
      "--> Not exactly one containing mesh: []\n",
      "--> Not exactly one containing mesh: []\n",
      "--> Not exactly one containing mesh: []\n",
      "--> Not exactly one containing mesh: []\n",
      "\n",
      "branch_touching_number = [31]\n",
      "branch_touching_number = [31, 1]\n",
      "most_branch_containing_piece = 0\n"
     ]
    },
    {
     "data": {
      "application/vnd.jupyter.widget-view+json": {
       "model_id": "1d1620578c7d4623a868f1fd3d03eac5",
       "version_major": 2,
       "version_minor": 0
      },
      "text/plain": [
       "HBox(children=(FloatProgress(value=1.0, bar_style='info', max=1.0), HTML(value='')))"
      ]
     },
     "metadata": {},
     "output_type": "display_data"
    },
    {
     "name": "stdout",
     "output_type": "stream",
     "text": [
      "\n",
      "filtered_measurements = [312.51097088 280.92676107 323.86259171 166.13967086 461.48403687\n",
      " 393.74719    269.88428721]\n",
      "new_threshold = 1069.854158063075\n"
     ]
    },
    {
     "data": {
      "application/vnd.jupyter.widget-view+json": {
       "model_id": "dc1ed7ea224c40b09e7ccd821ea6f4e7",
       "version_major": 2,
       "version_minor": 0
      },
      "text/plain": [
       "HBox(children=(FloatProgress(value=1.0, bar_style='info', max=1.0), HTML(value='')))"
      ]
     },
     "metadata": {},
     "output_type": "display_data"
    },
    {
     "name": "stdout",
     "output_type": "stream",
     "text": [
      "\n"
     ]
    },
    {
     "data": {
      "application/vnd.jupyter.widget-view+json": {
       "model_id": "151da1b55f224f91a58d6aa8652709a5",
       "version_major": 2,
       "version_minor": 0
      },
      "text/plain": [
       "HBox(children=(FloatProgress(value=1.0, bar_style='info', max=1.0), HTML(value='')))"
      ]
     },
     "metadata": {},
     "output_type": "display_data"
    },
    {
     "name": "stdout",
     "output_type": "stream",
     "text": [
      "\n",
      "filtered_measurements = [1136.43551729]\n",
      "new_threshold = 2581.9203241981822\n"
     ]
    },
    {
     "data": {
      "application/vnd.jupyter.widget-view+json": {
       "model_id": "0e268177c1b34029a89e580041c1a6b3",
       "version_major": 2,
       "version_minor": 0
      },
      "text/plain": [
       "HBox(children=(FloatProgress(value=1.0, bar_style='info', max=1.0), HTML(value='')))"
      ]
     },
     "metadata": {},
     "output_type": "display_data"
    },
    {
     "name": "stdout",
     "output_type": "stream",
     "text": [
      "\n"
     ]
    },
    {
     "data": {
      "application/vnd.jupyter.widget-view+json": {
       "model_id": "d387d1b7b2664359a8fff7b45e580f32",
       "version_major": 2,
       "version_minor": 0
      },
      "text/plain": [
       "HBox(children=(FloatProgress(value=1.0, bar_style='info', max=1.0), HTML(value='')))"
      ]
     },
     "metadata": {},
     "output_type": "display_data"
    },
    {
     "name": "stdout",
     "output_type": "stream",
     "text": [
      "\n",
      "filtered_measurements = [735.25010042]\n",
      "new_threshold = 1769.5347713592464\n"
     ]
    },
    {
     "data": {
      "application/vnd.jupyter.widget-view+json": {
       "model_id": "8a501519dd974df0a35003c8bcde548f",
       "version_major": 2,
       "version_minor": 0
      },
      "text/plain": [
       "HBox(children=(FloatProgress(value=1.0, bar_style='info', max=1.0), HTML(value='')))"
      ]
     },
     "metadata": {},
     "output_type": "display_data"
    },
    {
     "name": "stdout",
     "output_type": "stream",
     "text": [
      "\n",
      "\n",
      "Working on limb #1\n"
     ]
    },
    {
     "data": {
      "application/vnd.jupyter.widget-view+json": {
       "model_id": "9b20734c5adc4359afef80d6110d4f71",
       "version_major": 2,
       "version_minor": 0
      },
      "text/plain": [
       "HBox(children=(FloatProgress(value=1.0, bar_style='info', max=1.0), HTML(value='')))"
      ]
     },
     "metadata": {},
     "output_type": "display_data"
    },
    {
     "data": {
      "application/vnd.jupyter.widget-view+json": {
       "model_id": "94e506ad397847a49c9289897def8af8",
       "version_major": 2,
       "version_minor": 0
      },
      "text/plain": [
       "HBox(children=(FloatProgress(value=1.0, bar_style='info', max=1.0), HTML(value='')))"
      ]
     },
     "metadata": {},
     "output_type": "display_data"
    },
    {
     "name": "stdout",
     "output_type": "stream",
     "text": [
      "\n",
      "filtered_measurements = [358.3749929  168.70778306 216.58897287 260.67988213 182.46211101\n",
      " 174.53427053 372.57014335 329.33468566 212.35714353 149.206717\n",
      " 208.16141138 357.24622407 303.82844217 312.54627867 258.44713046\n",
      " 158.74871494 161.22379206 355.84122873 192.15439459 283.0669976\n",
      " 344.78266219 223.0826197  159.08609028 256.19038335 157.26256632\n",
      " 191.11073758 228.34475265 183.72579489 201.7619006  140.77825319\n",
      " 229.86133399 410.04006519 237.97489197 215.35396097 339.24350418\n",
      " 221.59017068 197.71961331 220.60008503 185.54795673 127.14201516\n",
      " 345.45189556 313.56642376 285.3098235  273.99565347 278.00736444\n",
      " 191.79794813 177.34463064 251.548634   290.79402199 196.71819355\n",
      " 218.34569417 259.32980253 288.94284543 296.02416595 331.25252449\n",
      " 176.29672773 163.79410234 319.68303625 367.13812271 254.93311919\n",
      " 284.87580578 224.45629213 214.30416813 352.20350237 353.32362497\n",
      " 301.10601069 352.82702564 290.64359247 224.79606104]\n",
      "new_threshold = 991.5740638112168\n"
     ]
    },
    {
     "data": {
      "application/vnd.jupyter.widget-view+json": {
       "model_id": "7fd87d02c5f04697b58da4ba7595ba8b",
       "version_major": 2,
       "version_minor": 0
      },
      "text/plain": [
       "HBox(children=(FloatProgress(value=1.0, bar_style='info', max=1.0), HTML(value='')))"
      ]
     },
     "metadata": {},
     "output_type": "display_data"
    },
    {
     "name": "stdout",
     "output_type": "stream",
     "text": [
      "\n"
     ]
    },
    {
     "data": {
      "application/vnd.jupyter.widget-view+json": {
       "model_id": "bccc71c873e74af7a97febe20f1ac0b1",
       "version_major": 2,
       "version_minor": 0
      },
      "text/plain": [
       "HBox(children=(FloatProgress(value=1.0, bar_style='info', max=1.0), HTML(value='')))"
      ]
     },
     "metadata": {},
     "output_type": "display_data"
    },
    {
     "name": "stdout",
     "output_type": "stream",
     "text": [
      "--> Not exactly one containing mesh: []\n",
      "--> Not exactly one containing mesh: []\n",
      "--> Not exactly one containing mesh: []\n",
      "--> Not exactly one containing mesh: []\n",
      "--> Not exactly one containing mesh: []\n",
      "\n",
      "filtered_measurements = [102.67081673  67.96459419  84.36884893 157.07572276 121.22278034\n",
      "  77.25436317 125.13483168]\n",
      "new_threshold = 289.3591934469684\n"
     ]
    },
    {
     "data": {
      "application/vnd.jupyter.widget-view+json": {
       "model_id": "f7cf6bae35194e7d91aa2c1e24b23b1e",
       "version_major": 2,
       "version_minor": 0
      },
      "text/plain": [
       "HBox(children=(FloatProgress(value=1.0, bar_style='info', max=1.0), HTML(value='')))"
      ]
     },
     "metadata": {},
     "output_type": "display_data"
    },
    {
     "name": "stdout",
     "output_type": "stream",
     "text": [
      "--> Not exactly one containing mesh: []\n",
      "--> Not exactly one containing mesh: []\n",
      "--> Not exactly one containing mesh: []\n",
      "--> Not exactly one containing mesh: []\n",
      "--> Not exactly one containing mesh: []\n",
      "--> Not exactly one containing mesh: []\n",
      "\n",
      "branch_touching_number = [10]\n",
      "branch_touching_number = [10, 1]\n",
      "branch_touching_number = [10, 1, 1]\n",
      "most_branch_containing_piece = 0\n"
     ]
    },
    {
     "data": {
      "application/vnd.jupyter.widget-view+json": {
       "model_id": "5994af73d72d4c38b96a9b1cf6ea7dbe",
       "version_major": 2,
       "version_minor": 0
      },
      "text/plain": [
       "HBox(children=(FloatProgress(value=1.0, bar_style='info', max=1.0), HTML(value='')))"
      ]
     },
     "metadata": {},
     "output_type": "display_data"
    },
    {
     "name": "stdout",
     "output_type": "stream",
     "text": [
      "\n",
      "filtered_measurements = [409.32793294 350.99371894 201.59679897 288.27010836 319.57001209\n",
      " 321.34325576 306.28908277 264.95508556 202.40161301 187.82441169\n",
      " 425.42671108 436.87401555 411.41616144 302.42672037 278.32847955\n",
      " 220.32243447 204.95658233 255.23399118 221.61920617 397.48566825\n",
      " 243.68236878 279.7621949  314.35837967 373.56463357 331.88976371\n",
      " 353.25915585 267.94527018 304.29568496 343.35373321 292.14947037\n",
      " 359.2951334 ]\n",
      "new_threshold = 1108.5902581699547\n"
     ]
    },
    {
     "data": {
      "application/vnd.jupyter.widget-view+json": {
       "model_id": "74c1193ab7e14ad2b86a0ef287f9c6d0",
       "version_major": 2,
       "version_minor": 0
      },
      "text/plain": [
       "HBox(children=(FloatProgress(value=1.0, bar_style='info', max=1.0), HTML(value='')))"
      ]
     },
     "metadata": {},
     "output_type": "display_data"
    },
    {
     "name": "stdout",
     "output_type": "stream",
     "text": [
      "\n"
     ]
    },
    {
     "data": {
      "application/vnd.jupyter.widget-view+json": {
       "model_id": "36d8e1580bb6432f95098993ab514427",
       "version_major": 2,
       "version_minor": 0
      },
      "text/plain": [
       "HBox(children=(FloatProgress(value=1.0, bar_style='info', max=1.0), HTML(value='')))"
      ]
     },
     "metadata": {},
     "output_type": "display_data"
    },
    {
     "name": "stdout",
     "output_type": "stream",
     "text": [
      "--> Not exactly one containing mesh: []\n",
      "--> Not exactly one containing mesh: []\n",
      "--> Not exactly one containing mesh: []\n",
      "\n",
      "filtered_measurements = [125.76731809 120.08648433  80.18440089  79.56840327  76.05691059\n",
      "  95.95226226 109.35009843  96.5467487  132.83772487  63.92419507\n",
      " 105.4440673  103.39810911 123.95553126 117.41392738  88.57533436\n",
      " 125.90353664  81.83198957 105.74099396 128.7457928   83.18188767\n",
      "  90.5756793   90.24671055 105.46624324  73.29508104  70.59033651\n",
      "  87.2902406   80.50343951  86.0998366 ]\n",
      "new_threshold = 280.04944938112044\n"
     ]
    },
    {
     "data": {
      "application/vnd.jupyter.widget-view+json": {
       "model_id": "105e2993506e425ca7e53a1546fa2a3d",
       "version_major": 2,
       "version_minor": 0
      },
      "text/plain": [
       "HBox(children=(FloatProgress(value=1.0, bar_style='info', max=1.0), HTML(value='')))"
      ]
     },
     "metadata": {},
     "output_type": "display_data"
    },
    {
     "name": "stdout",
     "output_type": "stream",
     "text": [
      "--> Not exactly one containing mesh: []\n",
      "--> Not exactly one containing mesh: []\n",
      "--> Not exactly one containing mesh: []\n",
      "--> Not exactly one containing mesh: []\n",
      "\n",
      "branch_touching_number = [33]\n",
      "branch_touching_number = [33, 1]\n",
      "most_branch_containing_piece = 0\n"
     ]
    },
    {
     "data": {
      "application/vnd.jupyter.widget-view+json": {
       "model_id": "3f972a25810942fdac50af7d4dd3fd9f",
       "version_major": 2,
       "version_minor": 0
      },
      "text/plain": [
       "HBox(children=(FloatProgress(value=1.0, bar_style='info', max=1.0), HTML(value='')))"
      ]
     },
     "metadata": {},
     "output_type": "display_data"
    },
    {
     "name": "stdout",
     "output_type": "stream",
     "text": [
      "\n",
      "filtered_measurements = [289.90290563 389.38090249 356.62602972 310.53794542 396.18184356\n",
      " 412.28194587 273.24932789 392.16373112 392.09641299 319.27069243\n",
      " 323.4941716  257.45911934 563.62884897 295.38080517 289.28889426\n",
      " 566.85004885 450.05867895 438.09661848 413.13415106 272.10476793\n",
      " 274.47262118 264.93225495 352.4872471  371.74944966 429.17358256\n",
      " 455.09607696 284.21828656 325.0085952  434.58861964 327.2530523\n",
      " 226.49375351 275.68072713 278.39173559 330.40800958 245.7675483\n",
      " 252.20726189 507.82532116 311.69906991 445.99795291 575.47399838\n",
      " 346.44512913 385.337606   293.86744411 399.32668511 353.87302128\n",
      " 351.65738357 345.98742797 401.94374944 520.59978029 293.24098838\n",
      " 284.5563555  329.24136708 365.11380752 410.61882751 436.83238643\n",
      " 455.11728791 334.77387022 369.96664728 519.42454894 373.52513836\n",
      " 331.75852907 418.41542366 477.15933141 302.22041509 255.52200236\n",
      " 337.03058789 464.87852356 404.56782076 353.42797153 365.31298247\n",
      " 409.26369909 386.80576107 507.59819137 296.2951042  385.1162017 ]\n",
      "new_threshold = 1366.9645515374878\n"
     ]
    },
    {
     "data": {
      "application/vnd.jupyter.widget-view+json": {
       "model_id": "ed77787b970e4963a7e2cb0812eda18c",
       "version_major": 2,
       "version_minor": 0
      },
      "text/plain": [
       "HBox(children=(FloatProgress(value=1.0, bar_style='info', max=1.0), HTML(value='')))"
      ]
     },
     "metadata": {},
     "output_type": "display_data"
    },
    {
     "name": "stdout",
     "output_type": "stream",
     "text": [
      "\n"
     ]
    },
    {
     "data": {
      "application/vnd.jupyter.widget-view+json": {
       "model_id": "21bf88139a144c6785baf66c7f5ceedd",
       "version_major": 2,
       "version_minor": 0
      },
      "text/plain": [
       "HBox(children=(FloatProgress(value=1.0, bar_style='info', max=1.0), HTML(value='')))"
      ]
     },
     "metadata": {},
     "output_type": "display_data"
    },
    {
     "name": "stdout",
     "output_type": "stream",
     "text": [
      "--> Not exactly one containing mesh: []\n",
      "--> Not exactly one containing mesh: []\n",
      "\n",
      "filtered_measurements = [108.34485135 134.55653431 143.71254418 120.54517537 159.81239163\n",
      " 115.82275787 161.92427166 236.31821033 134.91361151 155.98729365\n",
      "  92.09455166  91.45297863 162.20942075 197.20006979]\n",
      "new_threshold = 419.9563998103554\n"
     ]
    },
    {
     "data": {
      "application/vnd.jupyter.widget-view+json": {
       "model_id": "35cd266b06c240189d4effd6df5397e9",
       "version_major": 2,
       "version_minor": 0
      },
      "text/plain": [
       "HBox(children=(FloatProgress(value=1.0, bar_style='info', max=1.0), HTML(value='')))"
      ]
     },
     "metadata": {},
     "output_type": "display_data"
    },
    {
     "name": "stdout",
     "output_type": "stream",
     "text": [
      "--> Not exactly one containing mesh: []\n",
      "--> Not exactly one containing mesh: []\n",
      "--> Not exactly one containing mesh: []\n",
      "\n",
      "branch_touching_number = [21]\n",
      "branch_touching_number = [21, 1]\n",
      "most_branch_containing_piece = 0\n"
     ]
    },
    {
     "data": {
      "application/vnd.jupyter.widget-view+json": {
       "model_id": "21494a46a3e14b9ca649224f38825022",
       "version_major": 2,
       "version_minor": 0
      },
      "text/plain": [
       "HBox(children=(FloatProgress(value=1.0, bar_style='info', max=1.0), HTML(value='')))"
      ]
     },
     "metadata": {},
     "output_type": "display_data"
    },
    {
     "name": "stdout",
     "output_type": "stream",
     "text": [
      "\n",
      "filtered_measurements = [136.51720103  85.8673914  110.68861308 104.822834   108.70572179\n",
      "  83.11172301]\n",
      "new_threshold = 271.5755499946638\n"
     ]
    },
    {
     "data": {
      "application/vnd.jupyter.widget-view+json": {
       "model_id": "680d62b173344f8eb66980b9a5e61a32",
       "version_major": 2,
       "version_minor": 0
      },
      "text/plain": [
       "HBox(children=(FloatProgress(value=1.0, bar_style='info', max=1.0), HTML(value='')))"
      ]
     },
     "metadata": {},
     "output_type": "display_data"
    },
    {
     "name": "stdout",
     "output_type": "stream",
     "text": [
      "\n"
     ]
    },
    {
     "data": {
      "application/vnd.jupyter.widget-view+json": {
       "model_id": "dd9341f195364c429a9ff1306b685a8f",
       "version_major": 2,
       "version_minor": 0
      },
      "text/plain": [
       "HBox(children=(FloatProgress(value=1.0, bar_style='info', max=1.0), HTML(value='')))"
      ]
     },
     "metadata": {},
     "output_type": "display_data"
    },
    {
     "name": "stdout",
     "output_type": "stream",
     "text": [
      "\n",
      "filtered_measurements = [296.86488518 427.17702946 558.90864586 385.57367176 316.90530913\n",
      " 272.9346509  535.64908875 302.57865322 449.82116486]\n",
      "new_threshold = 1419.4118656107453\n"
     ]
    },
    {
     "data": {
      "application/vnd.jupyter.widget-view+json": {
       "model_id": "e82ce87f2ab44b488d30ed7450d31653",
       "version_major": 2,
       "version_minor": 0
      },
      "text/plain": [
       "HBox(children=(FloatProgress(value=1.0, bar_style='info', max=1.0), HTML(value='')))"
      ]
     },
     "metadata": {},
     "output_type": "display_data"
    },
    {
     "name": "stdout",
     "output_type": "stream",
     "text": [
      "\n"
     ]
    },
    {
     "data": {
      "application/vnd.jupyter.widget-view+json": {
       "model_id": "3f5e8567a0d24bd9a67314723ced56c2",
       "version_major": 2,
       "version_minor": 0
      },
      "text/plain": [
       "HBox(children=(FloatProgress(value=1.0, bar_style='info', max=1.0), HTML(value='')))"
      ]
     },
     "metadata": {},
     "output_type": "display_data"
    },
    {
     "name": "stdout",
     "output_type": "stream",
     "text": [
      "--> Not exactly one containing mesh: []\n",
      "--> Not exactly one containing mesh: []\n",
      "\n",
      "branch_touching_number = [1]\n",
      "branch_touching_number = [1, 6]\n",
      "most_branch_containing_piece = 1\n",
      "filtered_measurements = [ 93.27367576  89.3016363  103.66082748  94.66738842  77.95296222]\n",
      "new_threshold = 198.99823432822117\n"
     ]
    },
    {
     "data": {
      "application/vnd.jupyter.widget-view+json": {
       "model_id": "4480db6118334bcc9cccb2f89d1b8419",
       "version_major": 2,
       "version_minor": 0
      },
      "text/plain": [
       "HBox(children=(FloatProgress(value=1.0, bar_style='info', max=1.0), HTML(value='')))"
      ]
     },
     "metadata": {},
     "output_type": "display_data"
    },
    {
     "name": "stdout",
     "output_type": "stream",
     "text": [
      "--> Not exactly one containing mesh: []\n",
      "--> Not exactly one containing mesh: []\n",
      "--> Not exactly one containing mesh: []\n",
      "\n"
     ]
    },
    {
     "data": {
      "application/vnd.jupyter.widget-view+json": {
       "model_id": "84910715cb3b486d99222743db9fa916",
       "version_major": 2,
       "version_minor": 0
      },
      "text/plain": [
       "HBox(children=(FloatProgress(value=1.0, bar_style='info', max=1.0), HTML(value='')))"
      ]
     },
     "metadata": {},
     "output_type": "display_data"
    },
    {
     "name": "stdout",
     "output_type": "stream",
     "text": [
      "\n",
      "filtered_measurements = [343.70470885 581.53424471 345.53993737 322.5867742  629.45664957\n",
      " 462.4315059  465.1507852  435.69745741 461.80675131 310.69782633\n",
      " 420.74333347 345.81378728 635.57995652 423.23783814 602.60683039\n",
      " 528.2872285  599.06217217 573.59921308 726.28230424 496.02504115\n",
      " 559.14411633 352.91723618 448.05849209 552.58528172 649.47964311\n",
      " 379.92515041 325.22785606 417.6561295  331.34462077 332.45576934\n",
      " 549.59971191 388.66019218 305.90451877 452.51528689 342.58175736\n",
      " 473.92693178 637.66875654 565.19317433 652.3906744  362.53867392\n",
      " 394.73093719 545.99911149 507.29029564 457.80894059 723.12743554\n",
      " 435.94919895 345.80496236 358.96009128 353.14656348 467.85106485\n",
      " 633.55363426 578.12538361 545.74684848]\n",
      "new_threshold = 1877.9717376113267\n"
     ]
    },
    {
     "data": {
      "application/vnd.jupyter.widget-view+json": {
       "model_id": "3be0650f37b748b3a976d8b0cb3d9ae7",
       "version_major": 2,
       "version_minor": 0
      },
      "text/plain": [
       "HBox(children=(FloatProgress(value=1.0, bar_style='info', max=1.0), HTML(value='')))"
      ]
     },
     "metadata": {},
     "output_type": "display_data"
    },
    {
     "name": "stdout",
     "output_type": "stream",
     "text": [
      "\n"
     ]
    },
    {
     "data": {
      "application/vnd.jupyter.widget-view+json": {
       "model_id": "f7307ec84e4d40f58a0738959d88020c",
       "version_major": 2,
       "version_minor": 0
      },
      "text/plain": [
       "HBox(children=(FloatProgress(value=1.0, bar_style='info', max=1.0), HTML(value='')))"
      ]
     },
     "metadata": {},
     "output_type": "display_data"
    },
    {
     "name": "stdout",
     "output_type": "stream",
     "text": [
      "\n",
      "filtered_measurements = [118.61867347 363.90133163 231.04155104 370.32935816 257.7177222\n",
      " 215.65443957 403.20915903 279.13291667 548.26728579 572.0897579\n",
      " 276.65807083 216.46152308 226.56349775 201.78732115 437.12913946\n",
      " 424.05383175 254.1069518  578.30700362 443.9900343  443.95511847\n",
      " 456.86632275 265.90301928 236.01555195 241.60503735 340.65846295\n",
      " 320.94718922 387.99601031 530.25202425 286.37331596 336.21268031\n",
      " 382.04241294 295.76846476 193.45315564 539.1529572  624.5049009\n",
      " 387.15507477 328.53953879 570.39709952 548.80982109 480.52778616\n",
      " 469.31794868 193.5393226  349.1123418  485.16329632 377.26895696\n",
      " 382.88554262 244.47259744 387.10566627 368.53530439 364.61655391\n",
      " 334.63699561 528.25824582 531.90094682 639.81444255 626.48818518\n",
      " 336.88884745 532.12003364 430.5498807  222.84274722 348.21170294\n",
      " 284.25881597 257.06319236 208.21180031 396.02771266 448.00183753\n",
      " 628.60140584 294.10187968 379.94017425 284.53008927 297.02963335\n",
      " 322.26328547 523.37501984 437.38815031 331.24958588 431.80685678\n",
      " 361.55441393 537.17708026 471.93711442 406.34015003 592.78486001\n",
      " 247.53157753 422.11429414 269.38610102 302.49341552 346.98511566\n",
      " 328.73440241]\n",
      "new_threshold = 1758.2081081156084\n"
     ]
    },
    {
     "data": {
      "application/vnd.jupyter.widget-view+json": {
       "model_id": "959def28fac64a8a8ce0f6d13cf48086",
       "version_major": 2,
       "version_minor": 0
      },
      "text/plain": [
       "HBox(children=(FloatProgress(value=1.0, bar_style='info', max=1.0), HTML(value='')))"
      ]
     },
     "metadata": {},
     "output_type": "display_data"
    },
    {
     "name": "stdout",
     "output_type": "stream",
     "text": [
      "\n"
     ]
    },
    {
     "data": {
      "application/vnd.jupyter.widget-view+json": {
       "model_id": "11e15e7f98f34d6d8ff5c9b420fe7af9",
       "version_major": 2,
       "version_minor": 0
      },
      "text/plain": [
       "HBox(children=(FloatProgress(value=1.0, bar_style='info', max=1.0), HTML(value='')))"
      ]
     },
     "metadata": {},
     "output_type": "display_data"
    },
    {
     "name": "stdout",
     "output_type": "stream",
     "text": [
      "--> Not exactly one containing mesh: []\n",
      "--> Not exactly one containing mesh: []\n",
      "--> Not exactly one containing mesh: []\n",
      "\n",
      "filtered_measurements = [777.3238869  732.18010545 778.99972031 788.34357894 776.37798191\n",
      " 799.36508525 764.15533625 745.3132385  744.16231271 797.23355302\n",
      " 850.38714031 765.13009138 580.43510033 413.98259975 311.95016689\n",
      " 361.5318126  404.73638388 392.95548411 439.45626217 637.19082467]\n",
      "new_threshold = 1352.1461761428195\n"
     ]
    },
    {
     "data": {
      "application/vnd.jupyter.widget-view+json": {
       "model_id": "af8b6ea196434e949e549db90236b7fb",
       "version_major": 2,
       "version_minor": 0
      },
      "text/plain": [
       "HBox(children=(FloatProgress(value=1.0, bar_style='info', max=1.0), HTML(value='')))"
      ]
     },
     "metadata": {},
     "output_type": "display_data"
    },
    {
     "name": "stdout",
     "output_type": "stream",
     "text": [
      "--> Not exactly one containing mesh: []\n",
      "--> Not exactly one containing mesh: []\n",
      "--> Not exactly one containing mesh: []\n",
      "\n"
     ]
    },
    {
     "data": {
      "application/vnd.jupyter.widget-view+json": {
       "model_id": "caed7d6d3c2544f2ba2036330a85837e",
       "version_major": 2,
       "version_minor": 0
      },
      "text/plain": [
       "HBox(children=(FloatProgress(value=1.0, bar_style='info', max=1.0), HTML(value='')))"
      ]
     },
     "metadata": {},
     "output_type": "display_data"
    },
    {
     "name": "stdout",
     "output_type": "stream",
     "text": [
      "\n",
      "filtered_measurements = [314.60298842 220.14239581 232.51889527 237.23759876 446.53633917\n",
      " 471.02100394 405.17030394 337.46944457 289.8029089  326.38607147\n",
      " 328.73118421 313.48345294 275.45001573 484.73873065 394.36727193\n",
      " 373.11828748 301.84988522 464.38025083 395.06183458 235.73623167\n",
      " 233.1478687 ]\n",
      "new_threshold = 1125.4181096313162\n"
     ]
    },
    {
     "data": {
      "application/vnd.jupyter.widget-view+json": {
       "model_id": "9ba0be42bd524962b65b95f625c60ff7",
       "version_major": 2,
       "version_minor": 0
      },
      "text/plain": [
       "HBox(children=(FloatProgress(value=1.0, bar_style='info', max=1.0), HTML(value='')))"
      ]
     },
     "metadata": {},
     "output_type": "display_data"
    },
    {
     "name": "stdout",
     "output_type": "stream",
     "text": [
      "\n"
     ]
    },
    {
     "data": {
      "application/vnd.jupyter.widget-view+json": {
       "model_id": "b22c27587c2841d5a34cc56ed191313b",
       "version_major": 2,
       "version_minor": 0
      },
      "text/plain": [
       "HBox(children=(FloatProgress(value=1.0, bar_style='info', max=1.0), HTML(value='')))"
      ]
     },
     "metadata": {},
     "output_type": "display_data"
    },
    {
     "name": "stdout",
     "output_type": "stream",
     "text": [
      "--> Not exactly one containing mesh: []\n",
      "--> Not exactly one containing mesh: []\n",
      "\n",
      "filtered_measurements = [139.90552469 146.59129313 132.6334452   87.19819817 131.13761922\n",
      " 115.33191777  99.55219559 114.52946234 123.37226406 145.63797503\n",
      " 207.68995397 192.11181203  80.19315145 110.6055544  178.63249013\n",
      " 177.04649072  87.49069272  98.67994829 166.60131254 112.58123781]\n",
      "new_threshold = 463.57075896481217\n"
     ]
    },
    {
     "data": {
      "application/vnd.jupyter.widget-view+json": {
       "model_id": "07384577a90c446e8d8a7c957b9458f3",
       "version_major": 2,
       "version_minor": 0
      },
      "text/plain": [
       "HBox(children=(FloatProgress(value=1.0, bar_style='info', max=1.0), HTML(value='')))"
      ]
     },
     "metadata": {},
     "output_type": "display_data"
    },
    {
     "name": "stdout",
     "output_type": "stream",
     "text": [
      "--> Not exactly one containing mesh: []\n",
      "--> Not exactly one containing mesh: []\n",
      "\n"
     ]
    },
    {
     "data": {
      "application/vnd.jupyter.widget-view+json": {
       "model_id": "1004e79c8478478290171e1cf12c92cf",
       "version_major": 2,
       "version_minor": 0
      },
      "text/plain": [
       "HBox(children=(FloatProgress(value=1.0, bar_style='info', max=1.0), HTML(value='')))"
      ]
     },
     "metadata": {},
     "output_type": "display_data"
    },
    {
     "name": "stdout",
     "output_type": "stream",
     "text": [
      "\n",
      "filtered_measurements = [416.92102755 441.98581826 383.69132138 441.27639845 479.74660974\n",
      " 474.83874459 427.88153605 436.3465791  677.60094733 606.18696275\n",
      " 641.08696938 565.06711185 513.77927623 573.56775649 351.66615877\n",
      " 628.63545353 349.72169793 637.41418758 387.97046203 466.44901294\n",
      " 465.19350042 484.90850973 733.63584806 641.71333452 723.6559329\n",
      " 416.20438003]\n",
      "new_threshold = 1689.0092514775886\n"
     ]
    },
    {
     "data": {
      "application/vnd.jupyter.widget-view+json": {
       "model_id": "3ed31f140c2c497dbbfaeee17a148de0",
       "version_major": 2,
       "version_minor": 0
      },
      "text/plain": [
       "HBox(children=(FloatProgress(value=1.0, bar_style='info', max=1.0), HTML(value='')))"
      ]
     },
     "metadata": {},
     "output_type": "display_data"
    },
    {
     "name": "stdout",
     "output_type": "stream",
     "text": [
      "\n"
     ]
    },
    {
     "data": {
      "application/vnd.jupyter.widget-view+json": {
       "model_id": "11d5f7db510149bf878a596eeebc5680",
       "version_major": 2,
       "version_minor": 0
      },
      "text/plain": [
       "HBox(children=(FloatProgress(value=1.0, bar_style='info', max=1.0), HTML(value='')))"
      ]
     },
     "metadata": {},
     "output_type": "display_data"
    },
    {
     "name": "stdout",
     "output_type": "stream",
     "text": [
      "\n",
      "filtered_measurements = [546.23476527 627.79101759 474.75740815 466.70749234 383.27777533\n",
      " 466.77235206 484.6272702  381.8860766  496.70147735 324.38971858\n",
      " 602.74447643 435.92166555 298.61237613 513.33746002 594.5700685\n",
      " 319.59095965 357.38156033 558.1740908  611.03299118 514.62410476\n",
      " 358.88213487 449.09499556 416.81769422 648.54160518 494.10233467\n",
      " 510.80156957 383.63112601 381.92012448 596.04220244 492.41706997\n",
      " 489.34804662 671.56322607 495.52412825 397.24276049 478.98679727\n",
      " 415.38719048 347.63115764 351.51914739 644.97966984 523.12308466\n",
      " 639.51265561 468.46116665 330.68031218]\n",
      "new_threshold = 1443.9773143906718\n"
     ]
    },
    {
     "data": {
      "application/vnd.jupyter.widget-view+json": {
       "model_id": "db99c6f0e54b41148d1252b5bafae4ac",
       "version_major": 2,
       "version_minor": 0
      },
      "text/plain": [
       "HBox(children=(FloatProgress(value=1.0, bar_style='info', max=1.0), HTML(value='')))"
      ]
     },
     "metadata": {},
     "output_type": "display_data"
    },
    {
     "name": "stdout",
     "output_type": "stream",
     "text": [
      "\n"
     ]
    },
    {
     "data": {
      "application/vnd.jupyter.widget-view+json": {
       "model_id": "5d6535e3003040c7ab74ee2591ba7f18",
       "version_major": 2,
       "version_minor": 0
      },
      "text/plain": [
       "HBox(children=(FloatProgress(value=1.0, bar_style='info', max=1.0), HTML(value='')))"
      ]
     },
     "metadata": {},
     "output_type": "display_data"
    },
    {
     "name": "stdout",
     "output_type": "stream",
     "text": [
      "--> Not exactly one containing mesh: []\n",
      "--> Not exactly one containing mesh: []\n",
      "\n",
      "branch_touching_number = [2]\n",
      "branch_touching_number = [2, 2]\n",
      "most_branch_containing_piece = 0\n",
      "filtered_measurements = [ 400.16774542  455.2905681  1018.77153306]\n",
      "new_threshold = 2375.302791957771\n"
     ]
    },
    {
     "data": {
      "application/vnd.jupyter.widget-view+json": {
       "model_id": "fb0ac780176c48ffb476d8546b9598ba",
       "version_major": 2,
       "version_minor": 0
      },
      "text/plain": [
       "HBox(children=(FloatProgress(value=1.0, bar_style='info', max=1.0), HTML(value='')))"
      ]
     },
     "metadata": {},
     "output_type": "display_data"
    },
    {
     "name": "stdout",
     "output_type": "stream",
     "text": [
      "--> Not exactly one containing mesh: []\n",
      "--> Not exactly one containing mesh: []\n",
      "THERE WERE NO FACES THAT FIT THE DISTANCE (2375.302791957771) and Z transform requirements\n",
      "So just skipping this edge\n",
      "\n"
     ]
    },
    {
     "data": {
      "application/vnd.jupyter.widget-view+json": {
       "model_id": "865ed69d85704abe917a6b35391b910d",
       "version_major": 2,
       "version_minor": 0
      },
      "text/plain": [
       "HBox(children=(FloatProgress(value=1.0, bar_style='info', max=1.0), HTML(value='')))"
      ]
     },
     "metadata": {},
     "output_type": "display_data"
    },
    {
     "name": "stdout",
     "output_type": "stream",
     "text": [
      "\n",
      "filtered_measurements = [551.76043551 418.96262403 512.83263905 456.77615517 371.49722867\n",
      " 442.72314478 486.58786503 645.51024929 288.27599143 252.8796197\n",
      " 341.82925772 313.86696649 192.8768937  455.24443922 355.6713923\n",
      " 181.28160134 288.84968854 400.35017646]\n",
      "new_threshold = 1492.1790895732606\n"
     ]
    },
    {
     "data": {
      "application/vnd.jupyter.widget-view+json": {
       "model_id": "7a9ce690a51745ac904cb2fd20a117c3",
       "version_major": 2,
       "version_minor": 0
      },
      "text/plain": [
       "HBox(children=(FloatProgress(value=1.0, bar_style='info', max=1.0), HTML(value='')))"
      ]
     },
     "metadata": {},
     "output_type": "display_data"
    },
    {
     "name": "stdout",
     "output_type": "stream",
     "text": [
      "\n"
     ]
    },
    {
     "data": {
      "application/vnd.jupyter.widget-view+json": {
       "model_id": "e92e9180fcf540d2a0e182f7c89ee3e5",
       "version_major": 2,
       "version_minor": 0
      },
      "text/plain": [
       "HBox(children=(FloatProgress(value=1.0, bar_style='info', max=1.0), HTML(value='')))"
      ]
     },
     "metadata": {},
     "output_type": "display_data"
    },
    {
     "name": "stdout",
     "output_type": "stream",
     "text": [
      "--> Not exactly one containing mesh: []\n",
      "--> Not exactly one containing mesh: []\n",
      "--> Not exactly one containing mesh: []\n",
      "\n",
      "filtered_measurements = [ 83.86720791  91.40893903  80.15518909 108.1348642 ]\n",
      "new_threshold = 225.43076895923286\n"
     ]
    },
    {
     "data": {
      "application/vnd.jupyter.widget-view+json": {
       "model_id": "8e68bebaf1544e3c9cf0f68f22f9dabd",
       "version_major": 2,
       "version_minor": 0
      },
      "text/plain": [
       "HBox(children=(FloatProgress(value=1.0, bar_style='info', max=1.0), HTML(value='')))"
      ]
     },
     "metadata": {},
     "output_type": "display_data"
    },
    {
     "name": "stdout",
     "output_type": "stream",
     "text": [
      "--> Not exactly one containing mesh: []\n",
      "--> Not exactly one containing mesh: []\n",
      "--> Not exactly one containing mesh: []\n",
      "\n"
     ]
    },
    {
     "data": {
      "application/vnd.jupyter.widget-view+json": {
       "model_id": "04f5e76e93264d0da8b448dea5658e5b",
       "version_major": 2,
       "version_minor": 0
      },
      "text/plain": [
       "HBox(children=(FloatProgress(value=1.0, bar_style='info', max=1.0), HTML(value='')))"
      ]
     },
     "metadata": {},
     "output_type": "display_data"
    },
    {
     "name": "stdout",
     "output_type": "stream",
     "text": [
      "--> Not exactly one containing mesh: []\n",
      "\n",
      "filtered_measurements = [126.99913878 100.40826554 125.02537693  64.29543588 126.54295705\n",
      " 100.49756802  69.86300405  96.14419357  86.85392677  80.07719704\n",
      " 143.01953034  76.11530806 109.21912425 111.07795048]\n",
      "new_threshold = 292.9594516362774\n"
     ]
    },
    {
     "data": {
      "application/vnd.jupyter.widget-view+json": {
       "model_id": "b07a5a4765c942f39c76d4aa49f643d7",
       "version_major": 2,
       "version_minor": 0
      },
      "text/plain": [
       "HBox(children=(FloatProgress(value=1.0, bar_style='info', max=1.0), HTML(value='')))"
      ]
     },
     "metadata": {},
     "output_type": "display_data"
    },
    {
     "name": "stdout",
     "output_type": "stream",
     "text": [
      "--> Not exactly one containing mesh: []\n",
      "--> Not exactly one containing mesh: []\n",
      "\n",
      "branch_touching_number = [18]\n",
      "branch_touching_number = [18, 1]\n",
      "most_branch_containing_piece = 0\n"
     ]
    },
    {
     "data": {
      "application/vnd.jupyter.widget-view+json": {
       "model_id": "450dbaf5cd524aa197be4ab24c5619da",
       "version_major": 2,
       "version_minor": 0
      },
      "text/plain": [
       "HBox(children=(FloatProgress(value=1.0, bar_style='info', max=1.0), HTML(value='')))"
      ]
     },
     "metadata": {},
     "output_type": "display_data"
    },
    {
     "name": "stdout",
     "output_type": "stream",
     "text": [
      "--> Not exactly one containing mesh: []\n",
      "\n",
      "filtered_measurements = [ 95.82723208  97.1819058   97.34359078  91.66746575 157.54486712\n",
      " 226.7865578  223.13578386 163.15753411 131.84551807 122.05324839\n",
      " 234.95182868 247.7567169  202.18558039 207.60190585 193.38331365]\n",
      "new_threshold = 451.635622455657\n"
     ]
    },
    {
     "data": {
      "application/vnd.jupyter.widget-view+json": {
       "model_id": "1f642c10913c43e7894f6210a7538822",
       "version_major": 2,
       "version_minor": 0
      },
      "text/plain": [
       "HBox(children=(FloatProgress(value=1.0, bar_style='info', max=1.0), HTML(value='')))"
      ]
     },
     "metadata": {},
     "output_type": "display_data"
    },
    {
     "name": "stdout",
     "output_type": "stream",
     "text": [
      "--> Not exactly one containing mesh: []\n",
      "\n"
     ]
    },
    {
     "data": {
      "application/vnd.jupyter.widget-view+json": {
       "model_id": "f3aa7001ac08491dbc8e773c1e4790db",
       "version_major": 2,
       "version_minor": 0
      },
      "text/plain": [
       "HBox(children=(FloatProgress(value=1.0, bar_style='info', max=1.0), HTML(value='')))"
      ]
     },
     "metadata": {},
     "output_type": "display_data"
    },
    {
     "name": "stdout",
     "output_type": "stream",
     "text": [
      "--> Not exactly one containing mesh: []\n",
      "--> Not exactly one containing mesh: []\n",
      "\n",
      "filtered_measurements = [173.52663382 138.86302354  96.26118213  86.45149726 102.00819395\n",
      "  97.43932332 121.03700385 123.70337469 118.51744924 105.54237248\n",
      " 105.05154178 132.90323364 118.86518907 126.92158936  98.38513719]\n",
      "new_threshold = 370.4583794345516\n"
     ]
    },
    {
     "data": {
      "application/vnd.jupyter.widget-view+json": {
       "model_id": "d9ee74922815462ca9162c4e184edb78",
       "version_major": 2,
       "version_minor": 0
      },
      "text/plain": [
       "HBox(children=(FloatProgress(value=1.0, bar_style='info', max=1.0), HTML(value='')))"
      ]
     },
     "metadata": {},
     "output_type": "display_data"
    },
    {
     "name": "stdout",
     "output_type": "stream",
     "text": [
      "--> Not exactly one containing mesh: []\n",
      "--> Not exactly one containing mesh: []\n",
      "\n"
     ]
    },
    {
     "data": {
      "application/vnd.jupyter.widget-view+json": {
       "model_id": "f4d6e3776a86457db5bf4e99d01fe8a6",
       "version_major": 2,
       "version_minor": 0
      },
      "text/plain": [
       "HBox(children=(FloatProgress(value=1.0, bar_style='info', max=1.0), HTML(value='')))"
      ]
     },
     "metadata": {},
     "output_type": "display_data"
    },
    {
     "name": "stdout",
     "output_type": "stream",
     "text": [
      "--> Not exactly one containing mesh: []\n",
      "--> Not exactly one containing mesh: []\n",
      "\n",
      "filtered_measurements = [594.94607957 407.55487911 416.00468493 461.16831686 402.55913866\n",
      " 346.69389531 333.49437525 353.93440671 327.58629906]\n",
      "new_threshold = 1178.6864435894731\n"
     ]
    },
    {
     "data": {
      "application/vnd.jupyter.widget-view+json": {
       "model_id": "92ab67505d3542f8bf47e46922cf3fcb",
       "version_major": 2,
       "version_minor": 0
      },
      "text/plain": [
       "HBox(children=(FloatProgress(value=1.0, bar_style='info', max=1.0), HTML(value='')))"
      ]
     },
     "metadata": {},
     "output_type": "display_data"
    },
    {
     "name": "stdout",
     "output_type": "stream",
     "text": [
      "--> Not exactly one containing mesh: []\n",
      "--> Not exactly one containing mesh: []\n",
      "\n"
     ]
    },
    {
     "data": {
      "application/vnd.jupyter.widget-view+json": {
       "model_id": "d133b1e1609341b4983b955406a72135",
       "version_major": 2,
       "version_minor": 0
      },
      "text/plain": [
       "HBox(children=(FloatProgress(value=1.0, bar_style='info', max=1.0), HTML(value='')))"
      ]
     },
     "metadata": {},
     "output_type": "display_data"
    },
    {
     "name": "stdout",
     "output_type": "stream",
     "text": [
      "\n",
      "filtered_measurements = [395.70244134 606.78582827 767.07938118]\n",
      "new_threshold = 1625.6462441140595\n"
     ]
    },
    {
     "data": {
      "application/vnd.jupyter.widget-view+json": {
       "model_id": "7b2020d35f2343aa9a22cb1c81f823b2",
       "version_major": 2,
       "version_minor": 0
      },
      "text/plain": [
       "HBox(children=(FloatProgress(value=1.0, bar_style='info', max=1.0), HTML(value='')))"
      ]
     },
     "metadata": {},
     "output_type": "display_data"
    },
    {
     "name": "stdout",
     "output_type": "stream",
     "text": [
      "\n"
     ]
    },
    {
     "data": {
      "application/vnd.jupyter.widget-view+json": {
       "model_id": "9ece35af7cd34f79ae8b847b17028fb8",
       "version_major": 2,
       "version_minor": 0
      },
      "text/plain": [
       "HBox(children=(FloatProgress(value=1.0, bar_style='info', max=1.0), HTML(value='')))"
      ]
     },
     "metadata": {},
     "output_type": "display_data"
    },
    {
     "name": "stdout",
     "output_type": "stream",
     "text": [
      "--> Not exactly one containing mesh: []\n",
      "\n",
      "filtered_measurements = [ 73.46210269 119.3226349   78.47633588 105.77466687]\n",
      "new_threshold = 217.43432451975622\n"
     ]
    },
    {
     "data": {
      "application/vnd.jupyter.widget-view+json": {
       "model_id": "a1b17f861b4b4614ac6949e5be81c1e5",
       "version_major": 2,
       "version_minor": 0
      },
      "text/plain": [
       "HBox(children=(FloatProgress(value=1.0, bar_style='info', max=1.0), HTML(value='')))"
      ]
     },
     "metadata": {},
     "output_type": "display_data"
    },
    {
     "name": "stdout",
     "output_type": "stream",
     "text": [
      "--> Not exactly one containing mesh: []\n",
      "\n"
     ]
    },
    {
     "data": {
      "application/vnd.jupyter.widget-view+json": {
       "model_id": "e6b18c7509454df39717de62e37e5b70",
       "version_major": 2,
       "version_minor": 0
      },
      "text/plain": [
       "HBox(children=(FloatProgress(value=1.0, bar_style='info', max=1.0), HTML(value='')))"
      ]
     },
     "metadata": {},
     "output_type": "display_data"
    },
    {
     "name": "stdout",
     "output_type": "stream",
     "text": [
      "\n",
      "filtered_measurements = [163.40547395 173.53112293 197.46288999 185.75138976 186.17561621]\n",
      "new_threshold = 402.9497758496056\n"
     ]
    },
    {
     "data": {
      "application/vnd.jupyter.widget-view+json": {
       "model_id": "69bfd55eed624fb1887aa92d7613ca8d",
       "version_major": 2,
       "version_minor": 0
      },
      "text/plain": [
       "HBox(children=(FloatProgress(value=1.0, bar_style='info', max=1.0), HTML(value='')))"
      ]
     },
     "metadata": {},
     "output_type": "display_data"
    },
    {
     "name": "stdout",
     "output_type": "stream",
     "text": [
      "--> Not exactly one containing mesh: []\n",
      "\n",
      "branch_touching_number = [7]\n",
      "branch_touching_number = [7, 1]\n",
      "most_branch_containing_piece = 0\n"
     ]
    },
    {
     "data": {
      "application/vnd.jupyter.widget-view+json": {
       "model_id": "efcd92ab140a44ecad9c8bd3f2ca5598",
       "version_major": 2,
       "version_minor": 0
      },
      "text/plain": [
       "HBox(children=(FloatProgress(value=1.0, bar_style='info', max=1.0), HTML(value='')))"
      ]
     },
     "metadata": {},
     "output_type": "display_data"
    },
    {
     "name": "stdout",
     "output_type": "stream",
     "text": [
      "\n",
      "filtered_measurements = [757.7339051  368.4621309  720.19062204 368.47969299 546.71695765\n",
      " 758.09517718 558.19433054 453.40861417 561.05322877 427.19136956\n",
      " 702.17504102 311.49285984 519.33175727 447.99788872 430.01845022]\n",
      "new_threshold = 1920.4035276345628\n"
     ]
    },
    {
     "data": {
      "application/vnd.jupyter.widget-view+json": {
       "model_id": "c80df30c3f2642b5b58c1f2637ef3f27",
       "version_major": 2,
       "version_minor": 0
      },
      "text/plain": [
       "HBox(children=(FloatProgress(value=1.0, bar_style='info', max=1.0), HTML(value='')))"
      ]
     },
     "metadata": {},
     "output_type": "display_data"
    },
    {
     "name": "stdout",
     "output_type": "stream",
     "text": [
      "\n"
     ]
    },
    {
     "data": {
      "application/vnd.jupyter.widget-view+json": {
       "model_id": "1dea20becbd941f9b668f1cb4be177e5",
       "version_major": 2,
       "version_minor": 0
      },
      "text/plain": [
       "HBox(children=(FloatProgress(value=1.0, bar_style='info', max=1.0), HTML(value='')))"
      ]
     },
     "metadata": {},
     "output_type": "display_data"
    },
    {
     "name": "stdout",
     "output_type": "stream",
     "text": [
      "--> Not exactly one containing mesh: []\n",
      "\n",
      "filtered_measurements = [126.81295498  82.84637639 190.8260442  106.95094358 104.32444937\n",
      " 148.67897589 117.64786014 135.87404932 138.59659896  97.06988426\n",
      " 132.10757658 187.88591375 168.40569099]\n",
      "new_threshold = 388.95933595036877\n"
     ]
    },
    {
     "data": {
      "application/vnd.jupyter.widget-view+json": {
       "model_id": "c9b18fce0892443ebe5931053ef566f3",
       "version_major": 2,
       "version_minor": 0
      },
      "text/plain": [
       "HBox(children=(FloatProgress(value=1.0, bar_style='info', max=1.0), HTML(value='')))"
      ]
     },
     "metadata": {},
     "output_type": "display_data"
    },
    {
     "name": "stdout",
     "output_type": "stream",
     "text": [
      "--> Not exactly one containing mesh: []\n",
      "--> Not exactly one containing mesh: []\n",
      "\n"
     ]
    },
    {
     "data": {
      "application/vnd.jupyter.widget-view+json": {
       "model_id": "82c9cd5bb2b543b19afe1f088f44785a",
       "version_major": 2,
       "version_minor": 0
      },
      "text/plain": [
       "HBox(children=(FloatProgress(value=1.0, bar_style='info', max=1.0), HTML(value='')))"
      ]
     },
     "metadata": {},
     "output_type": "display_data"
    },
    {
     "name": "stdout",
     "output_type": "stream",
     "text": [
      "\n",
      "filtered_measurements = [814.03067823 571.41518612 565.33504172 525.20489581 776.9569055 ]\n",
      "new_threshold = 2068.1100767392186\n"
     ]
    },
    {
     "data": {
      "application/vnd.jupyter.widget-view+json": {
       "model_id": "f20226bdde23466b9a1a703a8032c0ac",
       "version_major": 2,
       "version_minor": 0
      },
      "text/plain": [
       "HBox(children=(FloatProgress(value=1.0, bar_style='info', max=1.0), HTML(value='')))"
      ]
     },
     "metadata": {},
     "output_type": "display_data"
    },
    {
     "name": "stdout",
     "output_type": "stream",
     "text": [
      "\n"
     ]
    },
    {
     "data": {
      "application/vnd.jupyter.widget-view+json": {
       "model_id": "9bf171ed567d4adbba2609c89bb512bb",
       "version_major": 2,
       "version_minor": 0
      },
      "text/plain": [
       "HBox(children=(FloatProgress(value=1.0, bar_style='info', max=1.0), HTML(value='')))"
      ]
     },
     "metadata": {},
     "output_type": "display_data"
    },
    {
     "name": "stdout",
     "output_type": "stream",
     "text": [
      "\n",
      "filtered_measurements = [713.86211242 676.18674045]\n",
      "new_threshold = 1464.4393461316267\n"
     ]
    },
    {
     "data": {
      "application/vnd.jupyter.widget-view+json": {
       "model_id": "76b31fd2b3f14e5da2de6680ca35232f",
       "version_major": 2,
       "version_minor": 0
      },
      "text/plain": [
       "HBox(children=(FloatProgress(value=1.0, bar_style='info', max=1.0), HTML(value='')))"
      ]
     },
     "metadata": {},
     "output_type": "display_data"
    },
    {
     "name": "stdout",
     "output_type": "stream",
     "text": [
      "\n"
     ]
    },
    {
     "data": {
      "application/vnd.jupyter.widget-view+json": {
       "model_id": "1bdd8d31aeb2454787ce053f2f63c2f4",
       "version_major": 2,
       "version_minor": 0
      },
      "text/plain": [
       "HBox(children=(FloatProgress(value=1.0, bar_style='info', max=1.0), HTML(value='')))"
      ]
     },
     "metadata": {},
     "output_type": "display_data"
    },
    {
     "name": "stdout",
     "output_type": "stream",
     "text": [
      "\n",
      "filtered_measurements = [489.03720653 362.81060743 417.05780403 476.75888416 397.22843505\n",
      " 439.64531828 401.52077342 392.00924484 376.32440385 515.77618003\n",
      " 278.54062837 573.1100822  520.33472282]\n",
      "new_threshold = 1360.3483901154477\n"
     ]
    },
    {
     "data": {
      "application/vnd.jupyter.widget-view+json": {
       "model_id": "6ef817e92e6542e8aa6e77485087e921",
       "version_major": 2,
       "version_minor": 0
      },
      "text/plain": [
       "HBox(children=(FloatProgress(value=1.0, bar_style='info', max=1.0), HTML(value='')))"
      ]
     },
     "metadata": {},
     "output_type": "display_data"
    },
    {
     "name": "stdout",
     "output_type": "stream",
     "text": [
      "\n"
     ]
    },
    {
     "data": {
      "application/vnd.jupyter.widget-view+json": {
       "model_id": "b32cfb7b375847db971bdbb5ca5b9bc4",
       "version_major": 2,
       "version_minor": 0
      },
      "text/plain": [
       "HBox(children=(FloatProgress(value=1.0, bar_style='info', max=1.0), HTML(value='')))"
      ]
     },
     "metadata": {},
     "output_type": "display_data"
    },
    {
     "name": "stdout",
     "output_type": "stream",
     "text": [
      "\n",
      "filtered_measurements = [181.55997012 208.12577711 252.55846201 265.49387388 177.27454172\n",
      " 212.58339242 358.04150772 274.95173604]\n",
      "new_threshold = 626.0475628265324\n"
     ]
    },
    {
     "data": {
      "application/vnd.jupyter.widget-view+json": {
       "model_id": "3966eef1241b49d7889ee4de55d49538",
       "version_major": 2,
       "version_minor": 0
      },
      "text/plain": [
       "HBox(children=(FloatProgress(value=1.0, bar_style='info', max=1.0), HTML(value='')))"
      ]
     },
     "metadata": {},
     "output_type": "display_data"
    },
    {
     "name": "stdout",
     "output_type": "stream",
     "text": [
      "\n"
     ]
    },
    {
     "data": {
      "application/vnd.jupyter.widget-view+json": {
       "model_id": "955869925361491a9b34df360116b085",
       "version_major": 2,
       "version_minor": 0
      },
      "text/plain": [
       "HBox(children=(FloatProgress(value=1.0, bar_style='info', max=1.0), HTML(value='')))"
      ]
     },
     "metadata": {},
     "output_type": "display_data"
    },
    {
     "name": "stdout",
     "output_type": "stream",
     "text": [
      "--> Not exactly one containing mesh: []\n",
      "\n",
      "filtered_measurements = [323.51248581 324.30220953 355.36165613 388.33617832 268.69515115\n",
      " 277.61522645 292.38942767 343.35572416 374.16096732 397.47495925\n",
      " 275.58498271 410.98802338 469.41694584 366.71012949 307.74117123\n",
      " 373.2313432  294.78723456 302.58155236 498.47947298 336.63200056\n",
      " 274.40190275 239.13363435 472.16562351 422.6373582  306.02693172\n",
      " 292.76961602 317.49155577 354.95985592 372.15862564 234.86320115\n",
      " 292.74150082 325.44570753 283.78260296 281.85330381 348.16402974\n",
      " 438.8838856  313.79573584 297.14227986 308.59293844 495.27536053\n",
      " 284.78148281 201.71032196 406.1395075  184.8659715  203.12287425\n",
      " 451.88828792 367.3962852  292.276056   248.74387863 358.08466962\n",
      " 269.02963593 227.64761344 382.46027761 185.12932214 385.83928916\n",
      " 490.79040749 192.13494328]\n",
      "new_threshold = 1239.0887812315802\n"
     ]
    },
    {
     "data": {
      "application/vnd.jupyter.widget-view+json": {
       "model_id": "3460f296a4884b659248a6492d002982",
       "version_major": 2,
       "version_minor": 0
      },
      "text/plain": [
       "HBox(children=(FloatProgress(value=1.0, bar_style='info', max=1.0), HTML(value='')))"
      ]
     },
     "metadata": {},
     "output_type": "display_data"
    },
    {
     "name": "stdout",
     "output_type": "stream",
     "text": [
      "--> Not exactly one containing mesh: []\n",
      "\n"
     ]
    },
    {
     "data": {
      "application/vnd.jupyter.widget-view+json": {
       "model_id": "c9b3d8fcb3574e8e9ff5cf3582ab0bfd",
       "version_major": 2,
       "version_minor": 0
      },
      "text/plain": [
       "HBox(children=(FloatProgress(value=1.0, bar_style='info', max=1.0), HTML(value='')))"
      ]
     },
     "metadata": {},
     "output_type": "display_data"
    },
    {
     "name": "stdout",
     "output_type": "stream",
     "text": [
      "\n",
      "filtered_measurements = [483.9477038  579.65865904 382.99408037 364.39869378 434.01428843]\n",
      "new_threshold = 1127.2099492704126\n"
     ]
    },
    {
     "data": {
      "application/vnd.jupyter.widget-view+json": {
       "model_id": "7037f802da684fd5959be98a440c1036",
       "version_major": 2,
       "version_minor": 0
      },
      "text/plain": [
       "HBox(children=(FloatProgress(value=1.0, bar_style='info', max=1.0), HTML(value='')))"
      ]
     },
     "metadata": {},
     "output_type": "display_data"
    },
    {
     "name": "stdout",
     "output_type": "stream",
     "text": [
      "\n"
     ]
    },
    {
     "data": {
      "application/vnd.jupyter.widget-view+json": {
       "model_id": "f8cb12c79b0b44c8b9716ecd1b49e096",
       "version_major": 2,
       "version_minor": 0
      },
      "text/plain": [
       "HBox(children=(FloatProgress(value=1.0, bar_style='info', max=1.0), HTML(value='')))"
      ]
     },
     "metadata": {},
     "output_type": "display_data"
    },
    {
     "name": "stdout",
     "output_type": "stream",
     "text": [
      "--> Not exactly one containing mesh: []\n",
      "\n",
      "filtered_measurements = [1215.5540414   323.40516446  406.5807682 ]\n",
      "new_threshold = 2218.5436460957844\n"
     ]
    },
    {
     "data": {
      "application/vnd.jupyter.widget-view+json": {
       "model_id": "c4d1180c2bc44ff9b77cf745ece316df",
       "version_major": 2,
       "version_minor": 0
      },
      "text/plain": [
       "HBox(children=(FloatProgress(value=1.0, bar_style='info', max=1.0), HTML(value='')))"
      ]
     },
     "metadata": {},
     "output_type": "display_data"
    },
    {
     "name": "stdout",
     "output_type": "stream",
     "text": [
      "--> Not exactly one containing mesh: []\n",
      "\n"
     ]
    },
    {
     "data": {
      "application/vnd.jupyter.widget-view+json": {
       "model_id": "38e40d09099445eb8c3d8f4afef9976c",
       "version_major": 2,
       "version_minor": 0
      },
      "text/plain": [
       "HBox(children=(FloatProgress(value=1.0, bar_style='info', max=1.0), HTML(value='')))"
      ]
     },
     "metadata": {},
     "output_type": "display_data"
    },
    {
     "name": "stdout",
     "output_type": "stream",
     "text": [
      "\n",
      "filtered_measurements = [412.79260677 418.99954912 275.12324197 366.57652014 417.38365447\n",
      " 418.14516087 499.36299663 325.13847179 602.41170573 331.42658713\n",
      " 274.13046502 204.21824846 309.88037516 484.5264608  408.46741997\n",
      " 345.44230195 443.48540151 334.70961142 254.43607988 440.0800264\n",
      " 296.15717613 262.90864268 304.5215056  461.6449824  375.34534836\n",
      " 412.24818817 425.25989967 392.4479167  407.61645316 367.4253754\n",
      " 286.80719638 572.36173404 506.78603321 270.85221986 265.58062684\n",
      " 262.05854725 269.24024019 577.41362479 411.51569603 432.37635229\n",
      " 502.50490031 293.77985056 445.06629672 266.71501171]\n",
      "new_threshold = 1610.164403683055\n"
     ]
    },
    {
     "data": {
      "application/vnd.jupyter.widget-view+json": {
       "model_id": "752042a3e5ba408a87e79c08d2a100bc",
       "version_major": 2,
       "version_minor": 0
      },
      "text/plain": [
       "HBox(children=(FloatProgress(value=1.0, bar_style='info', max=1.0), HTML(value='')))"
      ]
     },
     "metadata": {},
     "output_type": "display_data"
    },
    {
     "name": "stdout",
     "output_type": "stream",
     "text": [
      "\n"
     ]
    },
    {
     "data": {
      "application/vnd.jupyter.widget-view+json": {
       "model_id": "8b03b665e9204337b1f6b81e93774abc",
       "version_major": 2,
       "version_minor": 0
      },
      "text/plain": [
       "HBox(children=(FloatProgress(value=1.0, bar_style='info', max=1.0), HTML(value='')))"
      ]
     },
     "metadata": {},
     "output_type": "display_data"
    },
    {
     "name": "stdout",
     "output_type": "stream",
     "text": [
      "\n",
      "filtered_measurements = [681.69230701 527.41307666 456.59082431 493.28298204 544.03471241\n",
      " 480.30382798 422.27647126 454.92076657 481.16131395 435.10980164\n",
      " 488.21755277]\n",
      "new_threshold = 1198.4845909441513\n"
     ]
    },
    {
     "data": {
      "application/vnd.jupyter.widget-view+json": {
       "model_id": "91c0949decf04aacafe8228046904c97",
       "version_major": 2,
       "version_minor": 0
      },
      "text/plain": [
       "HBox(children=(FloatProgress(value=1.0, bar_style='info', max=1.0), HTML(value='')))"
      ]
     },
     "metadata": {},
     "output_type": "display_data"
    },
    {
     "name": "stdout",
     "output_type": "stream",
     "text": [
      "\n"
     ]
    },
    {
     "data": {
      "application/vnd.jupyter.widget-view+json": {
       "model_id": "8a3a6f97f02f4488bd5d6787a5c678b9",
       "version_major": 2,
       "version_minor": 0
      },
      "text/plain": [
       "HBox(children=(FloatProgress(value=1.0, bar_style='info', max=1.0), HTML(value='')))"
      ]
     },
     "metadata": {},
     "output_type": "display_data"
    },
    {
     "name": "stdout",
     "output_type": "stream",
     "text": [
      "\n",
      "filtered_measurements = [794.03468267 616.98831164 628.97009564]\n",
      "new_threshold = 1496.4271474660854\n"
     ]
    },
    {
     "data": {
      "application/vnd.jupyter.widget-view+json": {
       "model_id": "463c53497a264135808319872a8978d5",
       "version_major": 2,
       "version_minor": 0
      },
      "text/plain": [
       "HBox(children=(FloatProgress(value=1.0, bar_style='info', max=1.0), HTML(value='')))"
      ]
     },
     "metadata": {},
     "output_type": "display_data"
    },
    {
     "name": "stdout",
     "output_type": "stream",
     "text": [
      "\n"
     ]
    },
    {
     "data": {
      "application/vnd.jupyter.widget-view+json": {
       "model_id": "d52750e68e0e4487a1aa1982a07ca97b",
       "version_major": 2,
       "version_minor": 0
      },
      "text/plain": [
       "HBox(children=(FloatProgress(value=1.0, bar_style='info', max=1.0), HTML(value='')))"
      ]
     },
     "metadata": {},
     "output_type": "display_data"
    },
    {
     "name": "stdout",
     "output_type": "stream",
     "text": [
      "\n",
      "filtered_measurements = [343.09375646 228.85891626 348.83465087 195.29062067 233.56731393]\n",
      "new_threshold = 850.8248536556943\n"
     ]
    },
    {
     "data": {
      "application/vnd.jupyter.widget-view+json": {
       "model_id": "1e05cb18f3bb4f04b4e5d612341a501e",
       "version_major": 2,
       "version_minor": 0
      },
      "text/plain": [
       "HBox(children=(FloatProgress(value=1.0, bar_style='info', max=1.0), HTML(value='')))"
      ]
     },
     "metadata": {},
     "output_type": "display_data"
    },
    {
     "name": "stdout",
     "output_type": "stream",
     "text": [
      "\n"
     ]
    },
    {
     "data": {
      "application/vnd.jupyter.widget-view+json": {
       "model_id": "3dc8ee9c455043559c615181489db18f",
       "version_major": 2,
       "version_minor": 0
      },
      "text/plain": [
       "HBox(children=(FloatProgress(value=1.0, bar_style='info', max=1.0), HTML(value='')))"
      ]
     },
     "metadata": {},
     "output_type": "display_data"
    },
    {
     "name": "stdout",
     "output_type": "stream",
     "text": [
      "\n",
      "filtered_measurements = [697.69534658 757.41064665 767.54641261 790.06851894 949.75356241\n",
      " 942.64586517 722.902289   663.24564819 700.03045837]\n",
      "new_threshold = 1489.063854700043\n"
     ]
    },
    {
     "data": {
      "application/vnd.jupyter.widget-view+json": {
       "model_id": "a43c47255b4342f3bc034aab7a75536d",
       "version_major": 2,
       "version_minor": 0
      },
      "text/plain": [
       "HBox(children=(FloatProgress(value=1.0, bar_style='info', max=1.0), HTML(value='')))"
      ]
     },
     "metadata": {},
     "output_type": "display_data"
    },
    {
     "name": "stdout",
     "output_type": "stream",
     "text": [
      "\n"
     ]
    },
    {
     "data": {
      "application/vnd.jupyter.widget-view+json": {
       "model_id": "064bb8b3aa9a4065baf2aea79e83f5ea",
       "version_major": 2,
       "version_minor": 0
      },
      "text/plain": [
       "HBox(children=(FloatProgress(value=1.0, bar_style='info', max=1.0), HTML(value='')))"
      ]
     },
     "metadata": {},
     "output_type": "display_data"
    },
    {
     "name": "stdout",
     "output_type": "stream",
     "text": [
      "--> Not exactly one containing mesh: []\n",
      "--> Not exactly one containing mesh: []\n",
      "--> Not exactly one containing mesh: []\n",
      "--> Not exactly one containing mesh: []\n",
      "\n",
      "filtered_measurements = [184.71881122 178.83270146 210.3581152  139.20922361 141.50535378\n",
      "  70.1292583   56.42274014  93.65509488 162.85297665 114.55826257\n",
      "  85.07616841 102.15994748 161.53201966 144.03884236 105.76562495\n",
      " 149.23230052  90.84248817]\n",
      "new_threshold = 414.49172901494353\n"
     ]
    },
    {
     "data": {
      "application/vnd.jupyter.widget-view+json": {
       "model_id": "a54b55be0c8e40e9b2d205ca7dbf7f64",
       "version_major": 2,
       "version_minor": 0
      },
      "text/plain": [
       "HBox(children=(FloatProgress(value=1.0, bar_style='info', max=1.0), HTML(value='')))"
      ]
     },
     "metadata": {},
     "output_type": "display_data"
    },
    {
     "name": "stdout",
     "output_type": "stream",
     "text": [
      "--> Not exactly one containing mesh: []\n",
      "--> Not exactly one containing mesh: []\n",
      "--> Not exactly one containing mesh: []\n",
      "--> Not exactly one containing mesh: []\n",
      "\n"
     ]
    },
    {
     "data": {
      "application/vnd.jupyter.widget-view+json": {
       "model_id": "abff85055a934c5c832ba0fbaadd5e88",
       "version_major": 2,
       "version_minor": 0
      },
      "text/plain": [
       "HBox(children=(FloatProgress(value=1.0, bar_style='info', max=1.0), HTML(value='')))"
      ]
     },
     "metadata": {},
     "output_type": "display_data"
    },
    {
     "name": "stdout",
     "output_type": "stream",
     "text": [
      "\n",
      "filtered_measurements = [335.881581   337.00685027 235.99947715 237.16073086 417.95207754\n",
      " 184.45654487 306.229263   355.59935668 401.74469596 340.93134407]\n",
      "new_threshold = 1157.422083478354\n"
     ]
    },
    {
     "data": {
      "application/vnd.jupyter.widget-view+json": {
       "model_id": "57b0ef3717a545bdbc7a373295a59678",
       "version_major": 2,
       "version_minor": 0
      },
      "text/plain": [
       "HBox(children=(FloatProgress(value=1.0, bar_style='info', max=1.0), HTML(value='')))"
      ]
     },
     "metadata": {},
     "output_type": "display_data"
    },
    {
     "name": "stdout",
     "output_type": "stream",
     "text": [
      "\n"
     ]
    },
    {
     "data": {
      "application/vnd.jupyter.widget-view+json": {
       "model_id": "aad76f12a8824777ab2aab4ce1d6ab70",
       "version_major": 2,
       "version_minor": 0
      },
      "text/plain": [
       "HBox(children=(FloatProgress(value=1.0, bar_style='info', max=1.0), HTML(value='')))"
      ]
     },
     "metadata": {},
     "output_type": "display_data"
    },
    {
     "name": "stdout",
     "output_type": "stream",
     "text": [
      "\n",
      "filtered_measurements = [160.49273995  74.48581592  87.6454624 ]\n",
      "new_threshold = 295.4320459921968\n"
     ]
    },
    {
     "data": {
      "application/vnd.jupyter.widget-view+json": {
       "model_id": "48bd1efc4ec74b1e8c0b954c61db803c",
       "version_major": 2,
       "version_minor": 0
      },
      "text/plain": [
       "HBox(children=(FloatProgress(value=1.0, bar_style='info', max=1.0), HTML(value='')))"
      ]
     },
     "metadata": {},
     "output_type": "display_data"
    },
    {
     "name": "stdout",
     "output_type": "stream",
     "text": [
      "--> Not exactly one containing mesh: []\n",
      "\n",
      "branch_touching_number = [6]\n",
      "branch_touching_number = [6, 1]\n",
      "most_branch_containing_piece = 0\n"
     ]
    },
    {
     "data": {
      "application/vnd.jupyter.widget-view+json": {
       "model_id": "eba7f8992296447cbc2ebff4fe236d42",
       "version_major": 2,
       "version_minor": 0
      },
      "text/plain": [
       "HBox(children=(FloatProgress(value=1.0, bar_style='info', max=1.0), HTML(value='')))"
      ]
     },
     "metadata": {},
     "output_type": "display_data"
    },
    {
     "name": "stdout",
     "output_type": "stream",
     "text": [
      "\n",
      "filtered_measurements = [423.99976899]\n",
      "new_threshold = 792.7883300533343\n"
     ]
    },
    {
     "data": {
      "application/vnd.jupyter.widget-view+json": {
       "model_id": "5f68be5faa0b457cbc1eb70d90c2b1a7",
       "version_major": 2,
       "version_minor": 0
      },
      "text/plain": [
       "HBox(children=(FloatProgress(value=1.0, bar_style='info', max=1.0), HTML(value='')))"
      ]
     },
     "metadata": {},
     "output_type": "display_data"
    },
    {
     "name": "stdout",
     "output_type": "stream",
     "text": [
      "\n"
     ]
    },
    {
     "data": {
      "application/vnd.jupyter.widget-view+json": {
       "model_id": "33bd5220f9324f568d36a186082cf9b5",
       "version_major": 2,
       "version_minor": 0
      },
      "text/plain": [
       "HBox(children=(FloatProgress(value=1.0, bar_style='info', max=1.0), HTML(value='')))"
      ]
     },
     "metadata": {},
     "output_type": "display_data"
    },
    {
     "name": "stdout",
     "output_type": "stream",
     "text": [
      "\n",
      "filtered_measurements = [432.03691632 771.55033649]\n",
      "new_threshold = 1723.0622015344366\n"
     ]
    },
    {
     "data": {
      "application/vnd.jupyter.widget-view+json": {
       "model_id": "e74bc1d3f81a474fac5f707e8b1272e0",
       "version_major": 2,
       "version_minor": 0
      },
      "text/plain": [
       "HBox(children=(FloatProgress(value=1.0, bar_style='info', max=1.0), HTML(value='')))"
      ]
     },
     "metadata": {},
     "output_type": "display_data"
    },
    {
     "name": "stdout",
     "output_type": "stream",
     "text": [
      "\n"
     ]
    },
    {
     "data": {
      "application/vnd.jupyter.widget-view+json": {
       "model_id": "3046091a259441fe83c7af98753187cf",
       "version_major": 2,
       "version_minor": 0
      },
      "text/plain": [
       "HBox(children=(FloatProgress(value=1.0, bar_style='info', max=1.0), HTML(value='')))"
      ]
     },
     "metadata": {},
     "output_type": "display_data"
    },
    {
     "name": "stdout",
     "output_type": "stream",
     "text": [
      "\n",
      "filtered_measurements = [281.66443112 253.57989996 400.72779148 328.70399827 340.50817264\n",
      " 267.79057073 457.60357195 315.82332828 319.57402084 208.67185926\n",
      " 238.31045737 186.50912516 208.78463763 453.50292229 437.28910417\n",
      " 478.23551199 220.19869766 290.18490402 250.23830993 193.38630785\n",
      " 245.58401506 280.28329985 321.13511424 261.38636044 493.84649824\n",
      " 494.57090058 337.14882102 462.56993606]\n",
      "new_threshold = 1293.328020247574\n"
     ]
    },
    {
     "data": {
      "application/vnd.jupyter.widget-view+json": {
       "model_id": "c97614366b2c4e89825746b22b2bc569",
       "version_major": 2,
       "version_minor": 0
      },
      "text/plain": [
       "HBox(children=(FloatProgress(value=1.0, bar_style='info', max=1.0), HTML(value='')))"
      ]
     },
     "metadata": {},
     "output_type": "display_data"
    },
    {
     "name": "stdout",
     "output_type": "stream",
     "text": [
      "\n"
     ]
    },
    {
     "data": {
      "application/vnd.jupyter.widget-view+json": {
       "model_id": "8b548df371aa4ae2a2ce0cad052aa948",
       "version_major": 2,
       "version_minor": 0
      },
      "text/plain": [
       "HBox(children=(FloatProgress(value=1.0, bar_style='info', max=1.0), HTML(value='')))"
      ]
     },
     "metadata": {},
     "output_type": "display_data"
    },
    {
     "name": "stdout",
     "output_type": "stream",
     "text": [
      "--> Not exactly one containing mesh: []\n",
      "--> Not exactly one containing mesh: []\n",
      "\n",
      "filtered_measurements = [ 81.20429013 194.58061736 117.31142232 127.41414467 133.83043149\n",
      "  82.09554924  96.24707077 140.49467994 143.85733395  57.63769103\n",
      "  56.78826376 158.63386387  64.91097805]\n",
      "new_threshold = 388.68750130346314\n"
     ]
    },
    {
     "data": {
      "application/vnd.jupyter.widget-view+json": {
       "model_id": "4a0a3cd53e914ed88c894e7707494c8e",
       "version_major": 2,
       "version_minor": 0
      },
      "text/plain": [
       "HBox(children=(FloatProgress(value=1.0, bar_style='info', max=1.0), HTML(value='')))"
      ]
     },
     "metadata": {},
     "output_type": "display_data"
    },
    {
     "name": "stdout",
     "output_type": "stream",
     "text": [
      "--> Not exactly one containing mesh: []\n",
      "--> Not exactly one containing mesh: []\n",
      "\n"
     ]
    },
    {
     "data": {
      "application/vnd.jupyter.widget-view+json": {
       "model_id": "4129ef47e426483994814868548ff9f9",
       "version_major": 2,
       "version_minor": 0
      },
      "text/plain": [
       "HBox(children=(FloatProgress(value=1.0, bar_style='info', max=1.0), HTML(value='')))"
      ]
     },
     "metadata": {},
     "output_type": "display_data"
    },
    {
     "name": "stdout",
     "output_type": "stream",
     "text": [
      "\n",
      "filtered_measurements = [325.8588795  443.41313212]\n",
      "new_threshold = 892.2399666862054\n"
     ]
    },
    {
     "data": {
      "application/vnd.jupyter.widget-view+json": {
       "model_id": "5c854870128c462c84636fec83fe6fae",
       "version_major": 2,
       "version_minor": 0
      },
      "text/plain": [
       "HBox(children=(FloatProgress(value=1.0, bar_style='info', max=1.0), HTML(value='')))"
      ]
     },
     "metadata": {},
     "output_type": "display_data"
    },
    {
     "name": "stdout",
     "output_type": "stream",
     "text": [
      "\n"
     ]
    },
    {
     "data": {
      "application/vnd.jupyter.widget-view+json": {
       "model_id": "e8543f32950a4702ac11f2637f8f3d86",
       "version_major": 2,
       "version_minor": 0
      },
      "text/plain": [
       "HBox(children=(FloatProgress(value=1.0, bar_style='info', max=1.0), HTML(value='')))"
      ]
     },
     "metadata": {},
     "output_type": "display_data"
    },
    {
     "name": "stdout",
     "output_type": "stream",
     "text": [
      "\n",
      "filtered_measurements = [275.21290862 385.44203048 197.2596737  156.06463464 258.44519775\n",
      " 403.1899641  219.91889081 318.60613913 380.47649139 359.56410192\n",
      " 275.14970958 213.42813992 236.42306483 328.8035993  427.83186242\n",
      " 271.49770599 368.76771739 454.46281775 164.5467862   93.86390024\n",
      "  89.05925544 168.01668951 232.11855024 201.76169198 330.23904712]\n",
      "new_threshold = 1176.6071811312763\n"
     ]
    },
    {
     "data": {
      "application/vnd.jupyter.widget-view+json": {
       "model_id": "c212960993004ef2a04317522ff901c3",
       "version_major": 2,
       "version_minor": 0
      },
      "text/plain": [
       "HBox(children=(FloatProgress(value=1.0, bar_style='info', max=1.0), HTML(value='')))"
      ]
     },
     "metadata": {},
     "output_type": "display_data"
    },
    {
     "name": "stdout",
     "output_type": "stream",
     "text": [
      "\n"
     ]
    },
    {
     "data": {
      "application/vnd.jupyter.widget-view+json": {
       "model_id": "2febc64d181b4d7fa3a84e5ce8cd2169",
       "version_major": 2,
       "version_minor": 0
      },
      "text/plain": [
       "HBox(children=(FloatProgress(value=1.0, bar_style='info', max=1.0), HTML(value='')))"
      ]
     },
     "metadata": {},
     "output_type": "display_data"
    },
    {
     "name": "stdout",
     "output_type": "stream",
     "text": [
      "\n",
      "filtered_measurements = [198.26822145]\n",
      "new_threshold = 391.8460377070227\n"
     ]
    },
    {
     "data": {
      "application/vnd.jupyter.widget-view+json": {
       "model_id": "d715a7cab62b4e5dbeeddd5fd0ae03ef",
       "version_major": 2,
       "version_minor": 0
      },
      "text/plain": [
       "HBox(children=(FloatProgress(value=1.0, bar_style='info', max=1.0), HTML(value='')))"
      ]
     },
     "metadata": {},
     "output_type": "display_data"
    },
    {
     "name": "stdout",
     "output_type": "stream",
     "text": [
      "--> Not exactly one containing mesh: []\n",
      "\n"
     ]
    },
    {
     "data": {
      "application/vnd.jupyter.widget-view+json": {
       "model_id": "bf3b35ef992d4230be0eabf1db11a758",
       "version_major": 2,
       "version_minor": 0
      },
      "text/plain": [
       "HBox(children=(FloatProgress(value=1.0, bar_style='info', max=1.0), HTML(value='')))"
      ]
     },
     "metadata": {},
     "output_type": "display_data"
    },
    {
     "name": "stdout",
     "output_type": "stream",
     "text": [
      "\n",
      "filtered_measurements = [1255.69212113 1306.58331939]\n",
      "new_threshold = 2900.3592090962447\n"
     ]
    },
    {
     "data": {
      "application/vnd.jupyter.widget-view+json": {
       "model_id": "66e85c69947c4af38cff7546591d65ab",
       "version_major": 2,
       "version_minor": 0
      },
      "text/plain": [
       "HBox(children=(FloatProgress(value=1.0, bar_style='info', max=1.0), HTML(value='')))"
      ]
     },
     "metadata": {},
     "output_type": "display_data"
    },
    {
     "name": "stdout",
     "output_type": "stream",
     "text": [
      "\n",
      "\n",
      "Working on limb #2\n"
     ]
    },
    {
     "data": {
      "application/vnd.jupyter.widget-view+json": {
       "model_id": "3d67d6d1d7b6496bb84ce938b5a072d0",
       "version_major": 2,
       "version_minor": 0
      },
      "text/plain": [
       "HBox(children=(FloatProgress(value=1.0, bar_style='info', max=1.0), HTML(value='')))"
      ]
     },
     "metadata": {},
     "output_type": "display_data"
    },
    {
     "data": {
      "application/vnd.jupyter.widget-view+json": {
       "model_id": "9ead1f120c3e4c569208fe6eb87fb3a9",
       "version_major": 2,
       "version_minor": 0
      },
      "text/plain": [
       "HBox(children=(FloatProgress(value=1.0, bar_style='info', max=1.0), HTML(value='')))"
      ]
     },
     "metadata": {},
     "output_type": "display_data"
    },
    {
     "name": "stdout",
     "output_type": "stream",
     "text": [
      "\n",
      "filtered_measurements = [992.97081206 806.67037142 746.75149872 706.27740778 723.46200457\n",
      " 768.98519403 798.66535221 792.66114148 818.82124425 860.2000199\n",
      " 790.94410228 762.61061894 710.89584601 743.75869457 778.53264286\n",
      " 756.62325471 707.52525119 964.60548598 907.49268526 718.14923074\n",
      " 785.54672668 756.08639494 752.98653613 761.89032277 940.61590934\n",
      " 966.80418061 972.42741053]\n",
      "new_threshold = 1823.8267637039003\n"
     ]
    },
    {
     "data": {
      "application/vnd.jupyter.widget-view+json": {
       "model_id": "2e0e1514fb8c43179e6aa6544547701c",
       "version_major": 2,
       "version_minor": 0
      },
      "text/plain": [
       "HBox(children=(FloatProgress(value=1.0, bar_style='info', max=1.0), HTML(value='')))"
      ]
     },
     "metadata": {},
     "output_type": "display_data"
    },
    {
     "name": "stdout",
     "output_type": "stream",
     "text": [
      "\n"
     ]
    },
    {
     "data": {
      "application/vnd.jupyter.widget-view+json": {
       "model_id": "57a5c53650b14fc39c6baa2f9ec03830",
       "version_major": 2,
       "version_minor": 0
      },
      "text/plain": [
       "HBox(children=(FloatProgress(value=1.0, bar_style='info', max=1.0), HTML(value='')))"
      ]
     },
     "metadata": {},
     "output_type": "display_data"
    },
    {
     "name": "stdout",
     "output_type": "stream",
     "text": [
      "\n",
      "filtered_measurements = [696.07042203 604.60624866 550.07929942 545.54423583 619.54637578\n",
      " 541.85521596 854.75229467 649.23294072 787.03034318 641.68585662\n",
      " 744.89871385 872.51991269 960.8495995  655.64958745]\n",
      "new_threshold = 2242.0944102017393\n"
     ]
    },
    {
     "data": {
      "application/vnd.jupyter.widget-view+json": {
       "model_id": "bb80e4fec1374e588ced9ea54c6bb327",
       "version_major": 2,
       "version_minor": 0
      },
      "text/plain": [
       "HBox(children=(FloatProgress(value=1.0, bar_style='info', max=1.0), HTML(value='')))"
      ]
     },
     "metadata": {},
     "output_type": "display_data"
    },
    {
     "name": "stdout",
     "output_type": "stream",
     "text": [
      "\n"
     ]
    },
    {
     "data": {
      "application/vnd.jupyter.widget-view+json": {
       "model_id": "a2c63d3f3e9b4610b61991b1d8bdb0f5",
       "version_major": 2,
       "version_minor": 0
      },
      "text/plain": [
       "HBox(children=(FloatProgress(value=1.0, bar_style='info', max=1.0), HTML(value='')))"
      ]
     },
     "metadata": {},
     "output_type": "display_data"
    },
    {
     "name": "stdout",
     "output_type": "stream",
     "text": [
      "\n",
      "filtered_measurements = [616.79862461 617.57689412 528.59969298 633.48882944 466.12335824\n",
      " 635.49041021 481.79785587 547.14223312 397.7006694  438.30967457\n",
      " 575.21984053 453.92936031 505.34711173 827.80288973 513.19773636\n",
      " 618.53843448 796.53326931 815.9456637  740.79065723 505.16086503\n",
      " 460.82153481 644.87859938 549.9183924  482.66879427 587.17515825\n",
      " 481.64119979 600.54901308 609.81515845 546.04145125]\n",
      "new_threshold = 1804.967751969913\n"
     ]
    },
    {
     "data": {
      "application/vnd.jupyter.widget-view+json": {
       "model_id": "6d0ceeffe3fc4ff484b731a640ee89d3",
       "version_major": 2,
       "version_minor": 0
      },
      "text/plain": [
       "HBox(children=(FloatProgress(value=1.0, bar_style='info', max=1.0), HTML(value='')))"
      ]
     },
     "metadata": {},
     "output_type": "display_data"
    },
    {
     "name": "stdout",
     "output_type": "stream",
     "text": [
      "\n"
     ]
    },
    {
     "data": {
      "application/vnd.jupyter.widget-view+json": {
       "model_id": "f9e44d379fcd4ecb86046d6e341fd8cb",
       "version_major": 2,
       "version_minor": 0
      },
      "text/plain": [
       "HBox(children=(FloatProgress(value=1.0, bar_style='info', max=1.0), HTML(value='')))"
      ]
     },
     "metadata": {},
     "output_type": "display_data"
    },
    {
     "name": "stdout",
     "output_type": "stream",
     "text": [
      "--> Not exactly one containing mesh: []\n",
      "\n",
      "filtered_measurements = [ 77.5347063  122.16544467  92.4805017  131.7199478   84.21451245\n",
      " 123.14506781 108.93908892  90.06347862 105.06073861  90.41837502\n",
      "  65.28773634  81.61313764  92.80825971]\n",
      "new_threshold = 255.5267086783236\n"
     ]
    },
    {
     "data": {
      "application/vnd.jupyter.widget-view+json": {
       "model_id": "8e41ad389b054668a6cd63ad3d5237a8",
       "version_major": 2,
       "version_minor": 0
      },
      "text/plain": [
       "HBox(children=(FloatProgress(value=1.0, bar_style='info', max=1.0), HTML(value='')))"
      ]
     },
     "metadata": {},
     "output_type": "display_data"
    },
    {
     "name": "stdout",
     "output_type": "stream",
     "text": [
      "--> Not exactly one containing mesh: []\n",
      "--> Not exactly one containing mesh: []\n",
      "--> Not exactly one containing mesh: []\n",
      "\n",
      "branch_touching_number = [19]\n",
      "branch_touching_number = [19, 1]\n",
      "most_branch_containing_piece = 0\n"
     ]
    },
    {
     "data": {
      "application/vnd.jupyter.widget-view+json": {
       "model_id": "aa51642f13384bbd9b233486c830c302",
       "version_major": 2,
       "version_minor": 0
      },
      "text/plain": [
       "HBox(children=(FloatProgress(value=1.0, bar_style='info', max=1.0), HTML(value='')))"
      ]
     },
     "metadata": {},
     "output_type": "display_data"
    },
    {
     "name": "stdout",
     "output_type": "stream",
     "text": [
      "--> Not exactly one containing mesh: []\n",
      "--> Not exactly one containing mesh: []\n",
      "\n",
      "filtered_measurements = [ 90.348205    85.81254619  78.92986723  72.08565207 120.35775734\n",
      "  75.19137972  89.84743229  76.98397462 115.26026258 120.90424802\n",
      "  71.56911067  99.99519244  82.03090437  59.08526323  92.31126206\n",
      "  65.00679807  97.76483918  90.19082971 114.70571219  83.43686643\n",
      "  90.49286527  98.02203207  87.94985148  90.45026011]\n",
      "new_threshold = 238.8500113458001\n"
     ]
    },
    {
     "data": {
      "application/vnd.jupyter.widget-view+json": {
       "model_id": "805498be7fc54dfa84bff3c39c29d9e8",
       "version_major": 2,
       "version_minor": 0
      },
      "text/plain": [
       "HBox(children=(FloatProgress(value=1.0, bar_style='info', max=1.0), HTML(value='')))"
      ]
     },
     "metadata": {},
     "output_type": "display_data"
    },
    {
     "name": "stdout",
     "output_type": "stream",
     "text": [
      "--> Not exactly one containing mesh: []\n",
      "--> Not exactly one containing mesh: []\n",
      "--> Not exactly one containing mesh: []\n",
      "\n",
      "branch_touching_number = [30]\n",
      "branch_touching_number = [30, 1]\n",
      "most_branch_containing_piece = 0\n"
     ]
    },
    {
     "data": {
      "application/vnd.jupyter.widget-view+json": {
       "model_id": "4f70af8c972c422e81c99584ed77689b",
       "version_major": 2,
       "version_minor": 0
      },
      "text/plain": [
       "HBox(children=(FloatProgress(value=1.0, bar_style='info', max=1.0), HTML(value='')))"
      ]
     },
     "metadata": {},
     "output_type": "display_data"
    },
    {
     "name": "stdout",
     "output_type": "stream",
     "text": [
      "\n",
      "filtered_measurements = [324.17900587 323.12330242 306.6508366  335.33392799 363.98836339\n",
      " 360.37229252 409.69434384 308.8188802  340.32286841 287.38526258\n",
      " 290.81155673 270.34746273 391.05962182 332.19962366 390.13016338\n",
      " 242.56101484 227.78844678 347.16343019 399.35252716 437.14277765\n",
      " 380.14016957 366.58978894 280.09817345 263.98312062 265.11451237\n",
      " 226.8831032  420.49280176 525.32901498 408.75087757]\n",
      "new_threshold = 1142.6967410275224\n"
     ]
    },
    {
     "data": {
      "application/vnd.jupyter.widget-view+json": {
       "model_id": "a726f15432394dafa11a3b82bb514636",
       "version_major": 2,
       "version_minor": 0
      },
      "text/plain": [
       "HBox(children=(FloatProgress(value=1.0, bar_style='info', max=1.0), HTML(value='')))"
      ]
     },
     "metadata": {},
     "output_type": "display_data"
    },
    {
     "name": "stdout",
     "output_type": "stream",
     "text": [
      "\n"
     ]
    },
    {
     "data": {
      "application/vnd.jupyter.widget-view+json": {
       "model_id": "2556a26a68cb439f9b77ec5c6ce91861",
       "version_major": 2,
       "version_minor": 0
      },
      "text/plain": [
       "HBox(children=(FloatProgress(value=1.0, bar_style='info', max=1.0), HTML(value='')))"
      ]
     },
     "metadata": {},
     "output_type": "display_data"
    },
    {
     "name": "stdout",
     "output_type": "stream",
     "text": [
      "\n",
      "filtered_measurements = [1104.68495552  794.61691466  746.19045022]\n",
      "new_threshold = 2456.1128904373827\n"
     ]
    },
    {
     "data": {
      "application/vnd.jupyter.widget-view+json": {
       "model_id": "241ac952b17146648412839fb78031ad",
       "version_major": 2,
       "version_minor": 0
      },
      "text/plain": [
       "HBox(children=(FloatProgress(value=1.0, bar_style='info', max=1.0), HTML(value='')))"
      ]
     },
     "metadata": {},
     "output_type": "display_data"
    },
    {
     "name": "stdout",
     "output_type": "stream",
     "text": [
      "\n"
     ]
    },
    {
     "data": {
      "application/vnd.jupyter.widget-view+json": {
       "model_id": "cd57095cd08e4a079be7352a59b754f5",
       "version_major": 2,
       "version_minor": 0
      },
      "text/plain": [
       "HBox(children=(FloatProgress(value=1.0, bar_style='info', max=1.0), HTML(value='')))"
      ]
     },
     "metadata": {},
     "output_type": "display_data"
    },
    {
     "name": "stdout",
     "output_type": "stream",
     "text": [
      "\n",
      "filtered_measurements = [480.57041223 842.57223493]\n",
      "new_threshold = 1834.7013784974833\n"
     ]
    },
    {
     "data": {
      "application/vnd.jupyter.widget-view+json": {
       "model_id": "cf36ff7ce43144b38df91ddc6cbf0fbb",
       "version_major": 2,
       "version_minor": 0
      },
      "text/plain": [
       "HBox(children=(FloatProgress(value=1.0, bar_style='info', max=1.0), HTML(value='')))"
      ]
     },
     "metadata": {},
     "output_type": "display_data"
    },
    {
     "name": "stdout",
     "output_type": "stream",
     "text": [
      "\n"
     ]
    },
    {
     "data": {
      "application/vnd.jupyter.widget-view+json": {
       "model_id": "a8d0e1f6c9174114ae4d3a0efa221d18",
       "version_major": 2,
       "version_minor": 0
      },
      "text/plain": [
       "HBox(children=(FloatProgress(value=1.0, bar_style='info', max=1.0), HTML(value='')))"
      ]
     },
     "metadata": {},
     "output_type": "display_data"
    },
    {
     "name": "stdout",
     "output_type": "stream",
     "text": [
      "\n",
      "filtered_measurements = [569.85889952 652.69499144 413.12492441 410.98988653 433.09464296\n",
      " 446.60352643 690.77797492 870.16105226 761.44584323 514.16141505\n",
      " 579.37857939]\n",
      "new_threshold = 1919.3379388705796\n"
     ]
    },
    {
     "data": {
      "application/vnd.jupyter.widget-view+json": {
       "model_id": "7789e833a18e44c8bb441acdc3dbd8ec",
       "version_major": 2,
       "version_minor": 0
      },
      "text/plain": [
       "HBox(children=(FloatProgress(value=1.0, bar_style='info', max=1.0), HTML(value='')))"
      ]
     },
     "metadata": {},
     "output_type": "display_data"
    },
    {
     "name": "stdout",
     "output_type": "stream",
     "text": [
      "\n"
     ]
    },
    {
     "data": {
      "application/vnd.jupyter.widget-view+json": {
       "model_id": "8ff590dae507491881ad5146ddcda11f",
       "version_major": 2,
       "version_minor": 0
      },
      "text/plain": [
       "HBox(children=(FloatProgress(value=1.0, bar_style='info', max=1.0), HTML(value='')))"
      ]
     },
     "metadata": {},
     "output_type": "display_data"
    },
    {
     "name": "stdout",
     "output_type": "stream",
     "text": [
      "--> Not exactly one containing mesh: []\n",
      "\n",
      "filtered_measurements = [142.74144282 109.68884719 110.64133054 142.95804355  69.71925666\n",
      " 101.6587762  103.74632931 107.62047163  84.89041706 172.61576716\n",
      " 166.00332647  96.29624984 136.05813581  95.65852465  93.84249267\n",
      " 120.73888285 114.14535519 153.67396169 133.48415606 140.04317808\n",
      "  56.77289919  76.16676469 161.88385814 117.48630123  63.48256492]\n",
      "new_threshold = 395.0861285346215\n"
     ]
    },
    {
     "data": {
      "application/vnd.jupyter.widget-view+json": {
       "model_id": "94bdc5ec2e26408ca55380271f50376c",
       "version_major": 2,
       "version_minor": 0
      },
      "text/plain": [
       "HBox(children=(FloatProgress(value=1.0, bar_style='info', max=1.0), HTML(value='')))"
      ]
     },
     "metadata": {},
     "output_type": "display_data"
    },
    {
     "name": "stdout",
     "output_type": "stream",
     "text": [
      "--> Not exactly one containing mesh: []\n",
      "\n"
     ]
    },
    {
     "data": {
      "application/vnd.jupyter.widget-view+json": {
       "model_id": "011f2043915a4e349a74c35cbc208662",
       "version_major": 2,
       "version_minor": 0
      },
      "text/plain": [
       "HBox(children=(FloatProgress(value=1.0, bar_style='info', max=1.0), HTML(value='')))"
      ]
     },
     "metadata": {},
     "output_type": "display_data"
    },
    {
     "name": "stdout",
     "output_type": "stream",
     "text": [
      "--> Not exactly one containing mesh: []\n",
      "\n",
      "filtered_measurements = [601.86398511 616.08111186 469.60091103 500.41378684 735.46712049\n",
      " 445.86337171 396.89753727 460.62339428 331.66605411 569.62275792\n",
      " 397.75518711 453.53211393 465.6284152 ]\n",
      "new_threshold = 1661.8211047980728\n"
     ]
    },
    {
     "data": {
      "application/vnd.jupyter.widget-view+json": {
       "model_id": "ece2d40d697d4c369578ad9540776f9f",
       "version_major": 2,
       "version_minor": 0
      },
      "text/plain": [
       "HBox(children=(FloatProgress(value=1.0, bar_style='info', max=1.0), HTML(value='')))"
      ]
     },
     "metadata": {},
     "output_type": "display_data"
    },
    {
     "name": "stdout",
     "output_type": "stream",
     "text": [
      "--> Not exactly one containing mesh: []\n",
      "\n"
     ]
    },
    {
     "data": {
      "application/vnd.jupyter.widget-view+json": {
       "model_id": "48dac3f41b474092a52fafa49b6abdd7",
       "version_major": 2,
       "version_minor": 0
      },
      "text/plain": [
       "HBox(children=(FloatProgress(value=1.0, bar_style='info', max=1.0), HTML(value='')))"
      ]
     },
     "metadata": {},
     "output_type": "display_data"
    },
    {
     "name": "stdout",
     "output_type": "stream",
     "text": [
      "\n",
      "filtered_measurements = [439.4952533  358.06887854 295.12934527 592.08188942 423.48315731\n",
      " 560.69524283 350.74397748 292.56221564 304.47352798 302.30679954\n",
      " 692.57155441 509.33210753 679.61996288 368.62473637 742.93138074\n",
      " 443.08706631 519.03491036 446.61552394]\n",
      "new_threshold = 1884.1830655124108\n"
     ]
    },
    {
     "data": {
      "application/vnd.jupyter.widget-view+json": {
       "model_id": "e594e79a4a1a48e7a95e737eaeb92cb3",
       "version_major": 2,
       "version_minor": 0
      },
      "text/plain": [
       "HBox(children=(FloatProgress(value=1.0, bar_style='info', max=1.0), HTML(value='')))"
      ]
     },
     "metadata": {},
     "output_type": "display_data"
    },
    {
     "name": "stdout",
     "output_type": "stream",
     "text": [
      "\n"
     ]
    },
    {
     "data": {
      "application/vnd.jupyter.widget-view+json": {
       "model_id": "ff4cfed668e34311a7e219e8ada2e777",
       "version_major": 2,
       "version_minor": 0
      },
      "text/plain": [
       "HBox(children=(FloatProgress(value=1.0, bar_style='info', max=1.0), HTML(value='')))"
      ]
     },
     "metadata": {},
     "output_type": "display_data"
    },
    {
     "name": "stdout",
     "output_type": "stream",
     "text": [
      "--> Not exactly one containing mesh: []\n",
      "--> Not exactly one containing mesh: []\n",
      "--> Not exactly one containing mesh: []\n",
      "\n",
      "branch_touching_number = [34]\n",
      "branch_touching_number = [34, 2]\n",
      "branch_touching_number = [34, 2, 1]\n",
      "most_branch_containing_piece = 0\n",
      "filtered_measurements = [ 89.05895268 152.88590168 121.05139738  88.68854119  88.4561833\n",
      "  68.31993936 149.60924431  85.17560481 104.95006221  83.16719631\n",
      " 123.62920083 101.11984545  84.94123436 148.54968995  99.33745843\n",
      "  95.76897993 106.5231666   94.58315714 148.10972469 125.56511219\n",
      "  92.87582336 115.45867873  58.67681171  94.17431142 116.35566446\n",
      "  78.6479107  108.85655219 141.38254891 132.77706675 101.64629235\n",
      " 102.80138946]\n",
      "new_threshold = 313.1816259208312\n"
     ]
    },
    {
     "data": {
      "application/vnd.jupyter.widget-view+json": {
       "model_id": "514e1c5539fe4aab814f4b25f31699af",
       "version_major": 2,
       "version_minor": 0
      },
      "text/plain": [
       "HBox(children=(FloatProgress(value=1.0, bar_style='info', max=1.0), HTML(value='')))"
      ]
     },
     "metadata": {},
     "output_type": "display_data"
    },
    {
     "name": "stdout",
     "output_type": "stream",
     "text": [
      "--> Not exactly one containing mesh: []\n",
      "--> Not exactly one containing mesh: []\n",
      "THERE WERE NO FACES THAT FIT THE DISTANCE (313.1816259208312) and Z transform requirements\n",
      "So just skipping this edge\n",
      "THERE WERE NO FACES THAT FIT THE DISTANCE (313.1816259208312) and Z transform requirements\n",
      "So just skipping this edge\n",
      "THERE WERE NO FACES THAT FIT THE DISTANCE (313.1816259208312) and Z transform requirements\n",
      "So just skipping this edge\n",
      "\n"
     ]
    },
    {
     "data": {
      "application/vnd.jupyter.widget-view+json": {
       "model_id": "f2deebbd23004ebf856c34d673a9a6e4",
       "version_major": 2,
       "version_minor": 0
      },
      "text/plain": [
       "HBox(children=(FloatProgress(value=1.0, bar_style='info', max=1.0), HTML(value='')))"
      ]
     },
     "metadata": {},
     "output_type": "display_data"
    },
    {
     "name": "stdout",
     "output_type": "stream",
     "text": [
      "--> Not exactly one containing mesh: []\n",
      "--> Not exactly one containing mesh: [0 1]\n",
      "\n",
      "filtered_measurements = [365.52308151  67.42153227  69.80527264 127.46599162]\n",
      "new_threshold = 795.8004536715232\n"
     ]
    },
    {
     "data": {
      "application/vnd.jupyter.widget-view+json": {
       "model_id": "a89a0a57ded34af3bad8d8e43fa6f795",
       "version_major": 2,
       "version_minor": 0
      },
      "text/plain": [
       "HBox(children=(FloatProgress(value=1.0, bar_style='info', max=1.0), HTML(value='')))"
      ]
     },
     "metadata": {},
     "output_type": "display_data"
    },
    {
     "name": "stdout",
     "output_type": "stream",
     "text": [
      "--> Not exactly one containing mesh: []\n",
      "\n"
     ]
    },
    {
     "data": {
      "application/vnd.jupyter.widget-view+json": {
       "model_id": "82455f5c79114290bd63f8e7fd84425e",
       "version_major": 2,
       "version_minor": 0
      },
      "text/plain": [
       "HBox(children=(FloatProgress(value=1.0, bar_style='info', max=1.0), HTML(value='')))"
      ]
     },
     "metadata": {},
     "output_type": "display_data"
    },
    {
     "name": "stdout",
     "output_type": "stream",
     "text": [
      "--> Not exactly one containing mesh: [0 1]\n",
      "\n",
      "filtered_measurements = [644.12118605 909.02590427 543.9010028  796.23844027 460.27136858\n",
      " 690.75938006 638.91132916 508.45978098 616.16651043 680.79290771\n",
      " 521.15856866 690.91659533 801.37073415 573.03494524 490.91243903\n",
      " 619.14247063 391.42628435 358.02659673 476.71591834 391.58391914\n",
      " 421.28661642 614.87827894]\n",
      "new_threshold = 2092.6716290854056\n"
     ]
    },
    {
     "data": {
      "application/vnd.jupyter.widget-view+json": {
       "model_id": "b933c618686e49b1aa417c36efd2f494",
       "version_major": 2,
       "version_minor": 0
      },
      "text/plain": [
       "HBox(children=(FloatProgress(value=1.0, bar_style='info', max=1.0), HTML(value='')))"
      ]
     },
     "metadata": {},
     "output_type": "display_data"
    },
    {
     "name": "stdout",
     "output_type": "stream",
     "text": [
      "--> Not exactly one containing mesh: [0 1]\n",
      "\n"
     ]
    },
    {
     "data": {
      "application/vnd.jupyter.widget-view+json": {
       "model_id": "cbe75f2b78ca405a99ff89b150b4c4bb",
       "version_major": 2,
       "version_minor": 0
      },
      "text/plain": [
       "HBox(children=(FloatProgress(value=1.0, bar_style='info', max=1.0), HTML(value='')))"
      ]
     },
     "metadata": {},
     "output_type": "display_data"
    },
    {
     "name": "stdout",
     "output_type": "stream",
     "text": [
      "\n",
      "filtered_measurements = [334.5054812  289.61831387]\n",
      "new_threshold = 618.8140944720942\n"
     ]
    },
    {
     "data": {
      "application/vnd.jupyter.widget-view+json": {
       "model_id": "4559d12255ee4076bec896515b6bb1a7",
       "version_major": 2,
       "version_minor": 0
      },
      "text/plain": [
       "HBox(children=(FloatProgress(value=1.0, bar_style='info', max=1.0), HTML(value='')))"
      ]
     },
     "metadata": {},
     "output_type": "display_data"
    },
    {
     "name": "stdout",
     "output_type": "stream",
     "text": [
      "--> Not exactly one containing mesh: []\n",
      "\n",
      "branch_touching_number = [3]\n",
      "branch_touching_number = [3, 5]\n",
      "most_branch_containing_piece = 1\n"
     ]
    },
    {
     "data": {
      "application/vnd.jupyter.widget-view+json": {
       "model_id": "a37872a1ab6d4c17a1d4a1bff7ab2295",
       "version_major": 2,
       "version_minor": 0
      },
      "text/plain": [
       "HBox(children=(FloatProgress(value=1.0, bar_style='info', max=1.0), HTML(value='')))"
      ]
     },
     "metadata": {},
     "output_type": "display_data"
    },
    {
     "name": "stdout",
     "output_type": "stream",
     "text": [
      "\n",
      "filtered_measurements = [434.67697748 330.31397559 492.85948813 410.50018923 411.7537646\n",
      " 309.73481154 426.15535865 350.61552844 479.41550756 508.85386959\n",
      " 430.95097058 428.35769877 428.7865238  308.37097656 426.49720402\n",
      " 573.68671822 548.11893998 428.56116628 588.77160526 391.94957275\n",
      " 433.96050076 409.76886089 498.20337012 287.09408454 342.24951257\n",
      " 331.88270784 393.77198312 308.85604153 290.7704819  452.59677184\n",
      " 304.97368544 468.60304052 420.76651347 373.4251675  278.8692454\n",
      " 456.19196684 349.4213545  427.41781295]\n",
      "new_threshold = 1331.8780295022782\n"
     ]
    },
    {
     "data": {
      "application/vnd.jupyter.widget-view+json": {
       "model_id": "e9cb555c8b5645438c55aca41fa856cb",
       "version_major": 2,
       "version_minor": 0
      },
      "text/plain": [
       "HBox(children=(FloatProgress(value=1.0, bar_style='info', max=1.0), HTML(value='')))"
      ]
     },
     "metadata": {},
     "output_type": "display_data"
    },
    {
     "name": "stdout",
     "output_type": "stream",
     "text": [
      "\n"
     ]
    },
    {
     "data": {
      "application/vnd.jupyter.widget-view+json": {
       "model_id": "fc73a6e69f1e46ffba30e1c363e4e357",
       "version_major": 2,
       "version_minor": 0
      },
      "text/plain": [
       "HBox(children=(FloatProgress(value=1.0, bar_style='info', max=1.0), HTML(value='')))"
      ]
     },
     "metadata": {},
     "output_type": "display_data"
    },
    {
     "name": "stdout",
     "output_type": "stream",
     "text": [
      "--> Not exactly one containing mesh: []\n",
      "\n",
      "branch_touching_number = [1]\n",
      "branch_touching_number = [1, 8]\n",
      "most_branch_containing_piece = 1\n",
      "filtered_measurements = [ 91.14450629  78.19599402 100.37716382  79.93675099  85.25189404]\n",
      "new_threshold = 195.31348344958855\n"
     ]
    },
    {
     "data": {
      "application/vnd.jupyter.widget-view+json": {
       "model_id": "a12b4f64618f4033b5918e47d7089539",
       "version_major": 2,
       "version_minor": 0
      },
      "text/plain": [
       "HBox(children=(FloatProgress(value=1.0, bar_style='info', max=1.0), HTML(value='')))"
      ]
     },
     "metadata": {},
     "output_type": "display_data"
    },
    {
     "name": "stdout",
     "output_type": "stream",
     "text": [
      "--> Not exactly one containing mesh: []\n",
      "THERE WERE NO FACES THAT FIT THE DISTANCE (195.31348344958855) and Z transform requirements\n",
      "So just skipping this edge\n",
      "\n"
     ]
    },
    {
     "data": {
      "application/vnd.jupyter.widget-view+json": {
       "model_id": "5fe8a5409a294ea49922a272e61c8e94",
       "version_major": 2,
       "version_minor": 0
      },
      "text/plain": [
       "HBox(children=(FloatProgress(value=1.0, bar_style='info', max=1.0), HTML(value='')))"
      ]
     },
     "metadata": {},
     "output_type": "display_data"
    },
    {
     "name": "stdout",
     "output_type": "stream",
     "text": [
      "\n",
      "filtered_measurements = [ 463.61917622  870.37521511 1054.67892822  142.17066243]\n",
      "new_threshold = 2594.764542446512\n"
     ]
    },
    {
     "data": {
      "application/vnd.jupyter.widget-view+json": {
       "model_id": "ad764cd890aa46389288f0d9b44ca133",
       "version_major": 2,
       "version_minor": 0
      },
      "text/plain": [
       "HBox(children=(FloatProgress(value=1.0, bar_style='info', max=1.0), HTML(value='')))"
      ]
     },
     "metadata": {},
     "output_type": "display_data"
    },
    {
     "name": "stdout",
     "output_type": "stream",
     "text": [
      "\n"
     ]
    },
    {
     "data": {
      "application/vnd.jupyter.widget-view+json": {
       "model_id": "685f5e77a8464b7fb16a6c8459f653cf",
       "version_major": 2,
       "version_minor": 0
      },
      "text/plain": [
       "HBox(children=(FloatProgress(value=1.0, bar_style='info', max=1.0), HTML(value='')))"
      ]
     },
     "metadata": {},
     "output_type": "display_data"
    },
    {
     "name": "stdout",
     "output_type": "stream",
     "text": [
      "\n",
      "filtered_measurements = [365.21620971 387.6090475  626.50890284]\n",
      "new_threshold = 1437.0284611817367\n"
     ]
    },
    {
     "data": {
      "application/vnd.jupyter.widget-view+json": {
       "model_id": "23b0aafc6e6b45908441bbb918c3ee20",
       "version_major": 2,
       "version_minor": 0
      },
      "text/plain": [
       "HBox(children=(FloatProgress(value=1.0, bar_style='info', max=1.0), HTML(value='')))"
      ]
     },
     "metadata": {},
     "output_type": "display_data"
    },
    {
     "name": "stdout",
     "output_type": "stream",
     "text": [
      "\n"
     ]
    },
    {
     "data": {
      "application/vnd.jupyter.widget-view+json": {
       "model_id": "c24873877d7d4e1a856e0fc83965fb37",
       "version_major": 2,
       "version_minor": 0
      },
      "text/plain": [
       "HBox(children=(FloatProgress(value=1.0, bar_style='info', max=1.0), HTML(value='')))"
      ]
     },
     "metadata": {},
     "output_type": "display_data"
    },
    {
     "name": "stdout",
     "output_type": "stream",
     "text": [
      "\n",
      "filtered_measurements = [373.05098298 644.99808026 537.07307501 350.87067418]\n",
      "new_threshold = 1449.6213462521341\n"
     ]
    },
    {
     "data": {
      "application/vnd.jupyter.widget-view+json": {
       "model_id": "dcca85362f6546808d55eefaa7f4fb72",
       "version_major": 2,
       "version_minor": 0
      },
      "text/plain": [
       "HBox(children=(FloatProgress(value=1.0, bar_style='info', max=1.0), HTML(value='')))"
      ]
     },
     "metadata": {},
     "output_type": "display_data"
    },
    {
     "name": "stdout",
     "output_type": "stream",
     "text": [
      "\n"
     ]
    },
    {
     "data": {
      "application/vnd.jupyter.widget-view+json": {
       "model_id": "b5dbbe46759b4bfeb0a987ad3a01b950",
       "version_major": 2,
       "version_minor": 0
      },
      "text/plain": [
       "HBox(children=(FloatProgress(value=1.0, bar_style='info', max=1.0), HTML(value='')))"
      ]
     },
     "metadata": {},
     "output_type": "display_data"
    },
    {
     "name": "stdout",
     "output_type": "stream",
     "text": [
      "--> Not exactly one containing mesh: [0 1]\n",
      "\n",
      "filtered_measurements = [126.04082995  72.62556979  72.97142231  73.60390575  76.60182788\n",
      "  92.07914451  90.61063131  95.56311677  77.47937094  72.27339943\n",
      " 104.97714428 111.96115235]\n",
      "new_threshold = 255.42901021497394\n"
     ]
    },
    {
     "data": {
      "application/vnd.jupyter.widget-view+json": {
       "model_id": "2bc878ab74da44b791e27b36b2b2b12a",
       "version_major": 2,
       "version_minor": 0
      },
      "text/plain": [
       "HBox(children=(FloatProgress(value=1.0, bar_style='info', max=1.0), HTML(value='')))"
      ]
     },
     "metadata": {},
     "output_type": "display_data"
    },
    {
     "name": "stdout",
     "output_type": "stream",
     "text": [
      "--> Not exactly one containing mesh: []\n",
      "\n"
     ]
    },
    {
     "data": {
      "application/vnd.jupyter.widget-view+json": {
       "model_id": "22c1cfe285be4cdaae82e7f1e559dbdd",
       "version_major": 2,
       "version_minor": 0
      },
      "text/plain": [
       "HBox(children=(FloatProgress(value=1.0, bar_style='info', max=1.0), HTML(value='')))"
      ]
     },
     "metadata": {},
     "output_type": "display_data"
    },
    {
     "name": "stdout",
     "output_type": "stream",
     "text": [
      "--> Not exactly one containing mesh: []\n",
      "--> Not exactly one containing mesh: []\n",
      "--> Not exactly one containing mesh: []\n",
      "--> Not exactly one containing mesh: []\n",
      "\n",
      "filtered_measurements = [ 257.39943186 1486.26911207 1845.16980954 1515.55600957 1104.81526877\n",
      " 1430.3932376  1567.25603048]\n",
      "new_threshold = 3498.6227882852654\n"
     ]
    },
    {
     "data": {
      "application/vnd.jupyter.widget-view+json": {
       "model_id": "4d9754c860384a47bc994d20535e2d73",
       "version_major": 2,
       "version_minor": 0
      },
      "text/plain": [
       "HBox(children=(FloatProgress(value=1.0, bar_style='info', max=1.0), HTML(value='')))"
      ]
     },
     "metadata": {},
     "output_type": "display_data"
    },
    {
     "name": "stdout",
     "output_type": "stream",
     "text": [
      "--> Not exactly one containing mesh: []\n",
      "--> Not exactly one containing mesh: []\n",
      "--> Not exactly one containing mesh: []\n",
      "--> Not exactly one containing mesh: []\n",
      "\n"
     ]
    },
    {
     "data": {
      "application/vnd.jupyter.widget-view+json": {
       "model_id": "2768bf90af3241dbb9e2eac9b42645a9",
       "version_major": 2,
       "version_minor": 0
      },
      "text/plain": [
       "HBox(children=(FloatProgress(value=1.0, bar_style='info', max=1.0), HTML(value='')))"
      ]
     },
     "metadata": {},
     "output_type": "display_data"
    },
    {
     "name": "stdout",
     "output_type": "stream",
     "text": [
      "\n",
      "filtered_measurements = [984.89944861 801.76985599 573.12755021 558.40813926 623.83307433\n",
      " 604.279373   866.94827733 692.94856511 879.12507063 678.08177811\n",
      " 701.1565208  410.05450266 369.37255347 700.50366412 505.0145646\n",
      " 734.80208343 840.22328043 970.21704547 599.07441092 560.2718727\n",
      " 751.37229119 466.79325022 371.95331325 791.34979517 521.01236536\n",
      " 503.87476349 623.71390419 693.25299944 649.53615521 484.28603686\n",
      " 716.81799375 884.88079747 453.54980872]\n",
      "new_threshold = 2507.876608009638\n"
     ]
    },
    {
     "data": {
      "application/vnd.jupyter.widget-view+json": {
       "model_id": "45f3c357fedb4752b2744fe9ea24a2ec",
       "version_major": 2,
       "version_minor": 0
      },
      "text/plain": [
       "HBox(children=(FloatProgress(value=1.0, bar_style='info', max=1.0), HTML(value='')))"
      ]
     },
     "metadata": {},
     "output_type": "display_data"
    },
    {
     "name": "stdout",
     "output_type": "stream",
     "text": [
      "\n"
     ]
    },
    {
     "data": {
      "application/vnd.jupyter.widget-view+json": {
       "model_id": "fd6e09d977f04d66a6d93caad7277356",
       "version_major": 2,
       "version_minor": 0
      },
      "text/plain": [
       "HBox(children=(FloatProgress(value=1.0, bar_style='info', max=1.0), HTML(value='')))"
      ]
     },
     "metadata": {},
     "output_type": "display_data"
    },
    {
     "name": "stdout",
     "output_type": "stream",
     "text": [
      "\n",
      "filtered_measurements = [160.03934455 191.69916279 190.01983908 170.39937009 179.43065146\n",
      " 245.33047311 340.8739671  244.84071373 319.10011537 251.12654893\n",
      " 243.67339581 234.94808536 264.64893354 217.28669632 194.87121759\n",
      " 292.71320789 239.64288315 265.05286436 291.65418222]\n",
      "new_threshold = 635.1804025404676\n"
     ]
    },
    {
     "data": {
      "application/vnd.jupyter.widget-view+json": {
       "model_id": "9b5bd6e4116f41fc9340fb405a259429",
       "version_major": 2,
       "version_minor": 0
      },
      "text/plain": [
       "HBox(children=(FloatProgress(value=1.0, bar_style='info', max=1.0), HTML(value='')))"
      ]
     },
     "metadata": {},
     "output_type": "display_data"
    },
    {
     "name": "stdout",
     "output_type": "stream",
     "text": [
      "\n"
     ]
    },
    {
     "data": {
      "application/vnd.jupyter.widget-view+json": {
       "model_id": "47a9998710bf43a983192a9ef0da61e9",
       "version_major": 2,
       "version_minor": 0
      },
      "text/plain": [
       "HBox(children=(FloatProgress(value=1.0, bar_style='info', max=1.0), HTML(value='')))"
      ]
     },
     "metadata": {},
     "output_type": "display_data"
    },
    {
     "name": "stdout",
     "output_type": "stream",
     "text": [
      "--> Not exactly one containing mesh: [0 1]\n",
      "--> Not exactly one containing mesh: []\n",
      "\n",
      "branch_touching_number = [41]\n",
      "branch_touching_number = [41, 6]\n",
      "most_branch_containing_piece = 0\n",
      "filtered_measurements = [ 91.12059646  76.41493266  98.31582638 100.35620081  80.57700767\n",
      "  83.71166174  90.42705017  97.34578817 104.19886845 163.36902409\n",
      " 118.84424124 140.32519672  77.61675651 104.56844206 128.58185025\n",
      " 116.36488973  94.10003657  85.08598088 109.19939854  82.85460489\n",
      " 117.92577431  82.32901027 123.47201598 107.72699636  74.1922638\n",
      " 102.88164347  85.9858766  116.55435398 107.84442916 118.25428269\n",
      " 158.3444217  152.48974668 132.74251275  88.60135969  65.73131825]\n",
      "new_threshold = 423.5299195716162\n"
     ]
    },
    {
     "data": {
      "application/vnd.jupyter.widget-view+json": {
       "model_id": "5dfb860982bf484993dba6239615e69d",
       "version_major": 2,
       "version_minor": 0
      },
      "text/plain": [
       "HBox(children=(FloatProgress(value=1.0, bar_style='info', max=1.0), HTML(value='')))"
      ]
     },
     "metadata": {},
     "output_type": "display_data"
    },
    {
     "name": "stdout",
     "output_type": "stream",
     "text": [
      "THERE WERE NO FACES THAT FIT THE DISTANCE (423.5299195716162) and Z transform requirements\n",
      "So just skipping this edge\n",
      "THERE WERE NO FACES THAT FIT THE DISTANCE (423.5299195716162) and Z transform requirements\n",
      "So just skipping this edge\n",
      "THERE WERE NO FACES THAT FIT THE DISTANCE (423.5299195716162) and Z transform requirements\n",
      "So just skipping this edge\n",
      "THERE WERE NO FACES THAT FIT THE DISTANCE (423.5299195716162) and Z transform requirements\n",
      "So just skipping this edge\n",
      "THERE WERE NO FACES THAT FIT THE DISTANCE (423.5299195716162) and Z transform requirements\n",
      "So just skipping this edge\n",
      "--> Not exactly one containing mesh: []\n",
      "--> Not exactly one containing mesh: []\n",
      "\n"
     ]
    },
    {
     "data": {
      "application/vnd.jupyter.widget-view+json": {
       "model_id": "60320add2c614434b0d71dda9f3a24cb",
       "version_major": 2,
       "version_minor": 0
      },
      "text/plain": [
       "HBox(children=(FloatProgress(value=1.0, bar_style='info', max=1.0), HTML(value='')))"
      ]
     },
     "metadata": {},
     "output_type": "display_data"
    },
    {
     "name": "stdout",
     "output_type": "stream",
     "text": [
      "--> Not exactly one containing mesh: [0 1]\n",
      "--> Not exactly one containing mesh: [0 1]\n",
      "\n",
      "filtered_measurements = [122.38570082 263.81200337 407.74573296]\n",
      "new_threshold = 833.6796930482076\n"
     ]
    },
    {
     "data": {
      "application/vnd.jupyter.widget-view+json": {
       "model_id": "8e5471fe50484e3f9ebf4e59d300c411",
       "version_major": 2,
       "version_minor": 0
      },
      "text/plain": [
       "HBox(children=(FloatProgress(value=1.0, bar_style='info', max=1.0), HTML(value='')))"
      ]
     },
     "metadata": {},
     "output_type": "display_data"
    },
    {
     "name": "stdout",
     "output_type": "stream",
     "text": [
      "\n"
     ]
    },
    {
     "data": {
      "application/vnd.jupyter.widget-view+json": {
       "model_id": "5289568413a8453190e4a37a6a42a7be",
       "version_major": 2,
       "version_minor": 0
      },
      "text/plain": [
       "HBox(children=(FloatProgress(value=1.0, bar_style='info', max=1.0), HTML(value='')))"
      ]
     },
     "metadata": {},
     "output_type": "display_data"
    },
    {
     "name": "stdout",
     "output_type": "stream",
     "text": [
      "\n",
      "filtered_measurements = [293.9645003  208.42999261 203.482606   184.29111581 145.35400367\n",
      " 180.67172646 251.90005441 248.29615071 185.03445762 207.99483136\n",
      " 167.34980086 177.9006792  169.38876174 181.37747974 164.60548141\n",
      " 206.09282729 184.48420302 192.58851829 196.23080405 215.64441375\n",
      " 222.73409996 247.5999943  232.35483023 201.68065898 181.17580901\n",
      " 174.79323417]\n",
      "new_threshold = 639.3071956342669\n"
     ]
    },
    {
     "data": {
      "application/vnd.jupyter.widget-view+json": {
       "model_id": "9f2f788e9a6d4ff0b60fc04be81159a6",
       "version_major": 2,
       "version_minor": 0
      },
      "text/plain": [
       "HBox(children=(FloatProgress(value=1.0, bar_style='info', max=1.0), HTML(value='')))"
      ]
     },
     "metadata": {},
     "output_type": "display_data"
    },
    {
     "name": "stdout",
     "output_type": "stream",
     "text": [
      "\n"
     ]
    },
    {
     "data": {
      "application/vnd.jupyter.widget-view+json": {
       "model_id": "7d004b7436564d02a1cc73c2080a950a",
       "version_major": 2,
       "version_minor": 0
      },
      "text/plain": [
       "HBox(children=(FloatProgress(value=1.0, bar_style='info', max=1.0), HTML(value='')))"
      ]
     },
     "metadata": {},
     "output_type": "display_data"
    },
    {
     "name": "stdout",
     "output_type": "stream",
     "text": [
      "--> Not exactly one containing mesh: []\n",
      "\n",
      "filtered_measurements = [101.6645974  127.85429429 123.21774898 116.14843717  99.95619232\n",
      " 112.5859387  145.76288989]\n",
      "new_threshold = 267.15702658208903\n"
     ]
    },
    {
     "data": {
      "application/vnd.jupyter.widget-view+json": {
       "model_id": "46350928687c467e8b166258f502d281",
       "version_major": 2,
       "version_minor": 0
      },
      "text/plain": [
       "HBox(children=(FloatProgress(value=1.0, bar_style='info', max=1.0), HTML(value='')))"
      ]
     },
     "metadata": {},
     "output_type": "display_data"
    },
    {
     "name": "stdout",
     "output_type": "stream",
     "text": [
      "--> Not exactly one containing mesh: []\n",
      "\n"
     ]
    },
    {
     "data": {
      "application/vnd.jupyter.widget-view+json": {
       "model_id": "ab1c38fc152c4f2aa0ca61080b0fed5b",
       "version_major": 2,
       "version_minor": 0
      },
      "text/plain": [
       "HBox(children=(FloatProgress(value=1.0, bar_style='info', max=1.0), HTML(value='')))"
      ]
     },
     "metadata": {},
     "output_type": "display_data"
    },
    {
     "name": "stdout",
     "output_type": "stream",
     "text": [
      "--> Not exactly one containing mesh: []\n",
      "\n",
      "filtered_measurements = [176.00890703 170.20930167 156.174966   153.23127409 169.55890745\n",
      " 183.68131819]\n",
      "new_threshold = 337.25169462287715\n"
     ]
    },
    {
     "data": {
      "application/vnd.jupyter.widget-view+json": {
       "model_id": "280ecbc9b2484bd7b63782609902ea4c",
       "version_major": 2,
       "version_minor": 0
      },
      "text/plain": [
       "HBox(children=(FloatProgress(value=1.0, bar_style='info', max=1.0), HTML(value='')))"
      ]
     },
     "metadata": {},
     "output_type": "display_data"
    },
    {
     "name": "stdout",
     "output_type": "stream",
     "text": [
      "--> Not exactly one containing mesh: []\n",
      "\n"
     ]
    },
    {
     "data": {
      "application/vnd.jupyter.widget-view+json": {
       "model_id": "a94754493a334b2c8218debe116b8950",
       "version_major": 2,
       "version_minor": 0
      },
      "text/plain": [
       "HBox(children=(FloatProgress(value=1.0, bar_style='info', max=1.0), HTML(value='')))"
      ]
     },
     "metadata": {},
     "output_type": "display_data"
    },
    {
     "name": "stdout",
     "output_type": "stream",
     "text": [
      "\n",
      "filtered_measurements = [ 315.4118326   705.33613885 1019.49375397]\n",
      "new_threshold = 2258.866136060299\n"
     ]
    },
    {
     "data": {
      "application/vnd.jupyter.widget-view+json": {
       "model_id": "94a4d5d39df44e84bfd95b2b7850dad2",
       "version_major": 2,
       "version_minor": 0
      },
      "text/plain": [
       "HBox(children=(FloatProgress(value=1.0, bar_style='info', max=1.0), HTML(value='')))"
      ]
     },
     "metadata": {},
     "output_type": "display_data"
    },
    {
     "name": "stdout",
     "output_type": "stream",
     "text": [
      "\n"
     ]
    },
    {
     "data": {
      "application/vnd.jupyter.widget-view+json": {
       "model_id": "b02161e5c69f4441be06dd47da086b39",
       "version_major": 2,
       "version_minor": 0
      },
      "text/plain": [
       "HBox(children=(FloatProgress(value=1.0, bar_style='info', max=1.0), HTML(value='')))"
      ]
     },
     "metadata": {},
     "output_type": "display_data"
    },
    {
     "name": "stdout",
     "output_type": "stream",
     "text": [
      "\n",
      "filtered_measurements = [125.15140552 112.62102705 102.4754637   73.07094596  91.77444138\n",
      "  93.3290391   94.61883256 127.93406231  78.4598209  141.9282578\n",
      " 135.75895656]\n",
      "new_threshold = 278.1172282952134\n"
     ]
    },
    {
     "data": {
      "application/vnd.jupyter.widget-view+json": {
       "model_id": "20ae864e8a66492b9464958f9f01dcb6",
       "version_major": 2,
       "version_minor": 0
      },
      "text/plain": [
       "HBox(children=(FloatProgress(value=1.0, bar_style='info', max=1.0), HTML(value='')))"
      ]
     },
     "metadata": {},
     "output_type": "display_data"
    },
    {
     "name": "stdout",
     "output_type": "stream",
     "text": [
      "\n"
     ]
    },
    {
     "data": {
      "application/vnd.jupyter.widget-view+json": {
       "model_id": "6a0330215a0844f69080b9fc9ca26da0",
       "version_major": 2,
       "version_minor": 0
      },
      "text/plain": [
       "HBox(children=(FloatProgress(value=1.0, bar_style='info', max=1.0), HTML(value='')))"
      ]
     },
     "metadata": {},
     "output_type": "display_data"
    },
    {
     "name": "stdout",
     "output_type": "stream",
     "text": [
      "--> Not exactly one containing mesh: []\n",
      "--> Not exactly one containing mesh: []\n",
      "\n",
      "branch_touching_number = [5]\n",
      "branch_touching_number = [5, 6]\n",
      "most_branch_containing_piece = 1\n",
      "filtered_measurements = [124.96885632  71.72292334  65.17138041  88.50319052 105.57976244]\n",
      "new_threshold = 231.70037455207625\n"
     ]
    },
    {
     "data": {
      "application/vnd.jupyter.widget-view+json": {
       "model_id": "fe04ac7ea771493d9add991b241b4fcd",
       "version_major": 2,
       "version_minor": 0
      },
      "text/plain": [
       "HBox(children=(FloatProgress(value=1.0, bar_style='info', max=1.0), HTML(value='')))"
      ]
     },
     "metadata": {},
     "output_type": "display_data"
    },
    {
     "name": "stdout",
     "output_type": "stream",
     "text": [
      "--> Not exactly one containing mesh: []\n",
      "--> Not exactly one containing mesh: []\n",
      "THERE WERE NO FACES THAT FIT THE DISTANCE (231.70037455207625) and Z transform requirements\n",
      "So just skipping this edge\n",
      "THERE WERE NO FACES THAT FIT THE DISTANCE (231.70037455207625) and Z transform requirements\n",
      "So just skipping this edge\n",
      "THERE WERE NO FACES THAT FIT THE DISTANCE (231.70037455207625) and Z transform requirements\n",
      "So just skipping this edge\n",
      "THERE WERE NO FACES THAT FIT THE DISTANCE (231.70037455207625) and Z transform requirements\n",
      "So just skipping this edge\n",
      "\n"
     ]
    },
    {
     "data": {
      "application/vnd.jupyter.widget-view+json": {
       "model_id": "ed3003524a5941709ab4a207ae4e198b",
       "version_major": 2,
       "version_minor": 0
      },
      "text/plain": [
       "HBox(children=(FloatProgress(value=1.0, bar_style='info', max=1.0), HTML(value='')))"
      ]
     },
     "metadata": {},
     "output_type": "display_data"
    },
    {
     "name": "stdout",
     "output_type": "stream",
     "text": [
      "\n",
      "filtered_measurements = [299.73866323 263.68138828 232.94392278 241.54372333 230.62649431\n",
      " 197.91516714 221.99549625 275.0967795  213.3785949  194.61335677\n",
      " 214.18998453 208.95633392 187.31094602 202.28927225 187.55896861\n",
      " 204.13292005 192.22195795 177.96427068 204.88935609 205.14161158\n",
      " 313.97342354 212.43415577 240.24468404 229.63263174 167.34018201\n",
      " 234.62310304 240.50299322 242.69093657 282.56295054 311.39195572]\n",
      "new_threshold = 630.5956529581794\n"
     ]
    },
    {
     "data": {
      "application/vnd.jupyter.widget-view+json": {
       "model_id": "6cd37fa6283a4460b65886290f9827de",
       "version_major": 2,
       "version_minor": 0
      },
      "text/plain": [
       "HBox(children=(FloatProgress(value=1.0, bar_style='info', max=1.0), HTML(value='')))"
      ]
     },
     "metadata": {},
     "output_type": "display_data"
    },
    {
     "name": "stdout",
     "output_type": "stream",
     "text": [
      "\n"
     ]
    },
    {
     "data": {
      "application/vnd.jupyter.widget-view+json": {
       "model_id": "91eaec8d04d3417f89db7d7e5bea6d91",
       "version_major": 2,
       "version_minor": 0
      },
      "text/plain": [
       "HBox(children=(FloatProgress(value=1.0, bar_style='info', max=1.0), HTML(value='')))"
      ]
     },
     "metadata": {},
     "output_type": "display_data"
    },
    {
     "name": "stdout",
     "output_type": "stream",
     "text": [
      "--> Not exactly one containing mesh: []\n",
      "--> Not exactly one containing mesh: []\n",
      "\n",
      "filtered_measurements = [103.153971   176.48738052 255.48911773 102.64878223 172.19857797\n",
      " 140.49513652 114.53862549  94.465527  ]\n",
      "new_threshold = 538.975421681789\n"
     ]
    },
    {
     "data": {
      "application/vnd.jupyter.widget-view+json": {
       "model_id": "37e6f301ad164e6b9ed643f2463a6356",
       "version_major": 2,
       "version_minor": 0
      },
      "text/plain": [
       "HBox(children=(FloatProgress(value=1.0, bar_style='info', max=1.0), HTML(value='')))"
      ]
     },
     "metadata": {},
     "output_type": "display_data"
    },
    {
     "name": "stdout",
     "output_type": "stream",
     "text": [
      "--> Not exactly one containing mesh: []\n",
      "--> Not exactly one containing mesh: []\n",
      "--> Not exactly one containing mesh: []\n",
      "\n"
     ]
    },
    {
     "data": {
      "application/vnd.jupyter.widget-view+json": {
       "model_id": "f34eb0440b5e43298f7db36b3c79a41d",
       "version_major": 2,
       "version_minor": 0
      },
      "text/plain": [
       "HBox(children=(FloatProgress(value=1.0, bar_style='info', max=1.0), HTML(value='')))"
      ]
     },
     "metadata": {},
     "output_type": "display_data"
    },
    {
     "name": "stdout",
     "output_type": "stream",
     "text": [
      "--> Not exactly one containing mesh: []\n",
      "--> Not exactly one containing mesh: []\n",
      "\n",
      "branch_touching_number = [9]\n",
      "branch_touching_number = [9, 2]\n",
      "most_branch_containing_piece = 0\n",
      "filtered_measurements = [150.70279526 177.2436354   72.92471175  98.14144202 112.50534902]\n",
      "new_threshold = 335.91785153771553\n"
     ]
    },
    {
     "data": {
      "application/vnd.jupyter.widget-view+json": {
       "model_id": "12024f0cd0134c159299880fd016ca84",
       "version_major": 2,
       "version_minor": 0
      },
      "text/plain": [
       "HBox(children=(FloatProgress(value=1.0, bar_style='info', max=1.0), HTML(value='')))"
      ]
     },
     "metadata": {},
     "output_type": "display_data"
    },
    {
     "name": "stdout",
     "output_type": "stream",
     "text": [
      "--> Not exactly one containing mesh: []\n",
      "--> Not exactly one containing mesh: []\n",
      "THERE WERE NO FACES THAT FIT THE DISTANCE (335.91785153771553) and Z transform requirements\n",
      "So just skipping this edge\n",
      "\n"
     ]
    },
    {
     "data": {
      "application/vnd.jupyter.widget-view+json": {
       "model_id": "535fde4237544b9883e60fb12b255ac1",
       "version_major": 2,
       "version_minor": 0
      },
      "text/plain": [
       "HBox(children=(FloatProgress(value=1.0, bar_style='info', max=1.0), HTML(value='')))"
      ]
     },
     "metadata": {},
     "output_type": "display_data"
    },
    {
     "name": "stdout",
     "output_type": "stream",
     "text": [
      "\n",
      "filtered_measurements = [1448.70009227 1580.80703662]\n",
      "new_threshold = 3091.6052729137436\n"
     ]
    },
    {
     "data": {
      "application/vnd.jupyter.widget-view+json": {
       "model_id": "df2695d703ed4d718fd7def38bc84aaf",
       "version_major": 2,
       "version_minor": 0
      },
      "text/plain": [
       "HBox(children=(FloatProgress(value=1.0, bar_style='info', max=1.0), HTML(value='')))"
      ]
     },
     "metadata": {},
     "output_type": "display_data"
    },
    {
     "name": "stdout",
     "output_type": "stream",
     "text": [
      "\n"
     ]
    },
    {
     "data": {
      "application/vnd.jupyter.widget-view+json": {
       "model_id": "dfc553f3e37741b3a49763051b812dc8",
       "version_major": 2,
       "version_minor": 0
      },
      "text/plain": [
       "HBox(children=(FloatProgress(value=1.0, bar_style='info', max=1.0), HTML(value='')))"
      ]
     },
     "metadata": {},
     "output_type": "display_data"
    },
    {
     "name": "stdout",
     "output_type": "stream",
     "text": [
      "\n",
      "filtered_measurements = [1064.68242762  929.26155984]\n",
      "new_threshold = 2166.79427914721\n"
     ]
    },
    {
     "data": {
      "application/vnd.jupyter.widget-view+json": {
       "model_id": "e636498c84e54609bb271452bb1b47f5",
       "version_major": 2,
       "version_minor": 0
      },
      "text/plain": [
       "HBox(children=(FloatProgress(value=1.0, bar_style='info', max=1.0), HTML(value='')))"
      ]
     },
     "metadata": {},
     "output_type": "display_data"
    },
    {
     "name": "stdout",
     "output_type": "stream",
     "text": [
      "\n"
     ]
    },
    {
     "data": {
      "application/vnd.jupyter.widget-view+json": {
       "model_id": "9e6d764315a94dac81607e9ae9449aa0",
       "version_major": 2,
       "version_minor": 0
      },
      "text/plain": [
       "HBox(children=(FloatProgress(value=1.0, bar_style='info', max=1.0), HTML(value='')))"
      ]
     },
     "metadata": {},
     "output_type": "display_data"
    },
    {
     "name": "stdout",
     "output_type": "stream",
     "text": [
      "\n",
      "filtered_measurements = [464.59304089 475.13373188 454.23688403]\n",
      "new_threshold = 997.6207705597991\n"
     ]
    },
    {
     "data": {
      "application/vnd.jupyter.widget-view+json": {
       "model_id": "0efda48f3538464c95dac08323d902dd",
       "version_major": 2,
       "version_minor": 0
      },
      "text/plain": [
       "HBox(children=(FloatProgress(value=1.0, bar_style='info', max=1.0), HTML(value='')))"
      ]
     },
     "metadata": {},
     "output_type": "display_data"
    },
    {
     "name": "stdout",
     "output_type": "stream",
     "text": [
      "\n"
     ]
    },
    {
     "data": {
      "application/vnd.jupyter.widget-view+json": {
       "model_id": "ba4f8a0d006442d592ce77f9634cb750",
       "version_major": 2,
       "version_minor": 0
      },
      "text/plain": [
       "HBox(children=(FloatProgress(value=1.0, bar_style='info', max=1.0), HTML(value='')))"
      ]
     },
     "metadata": {},
     "output_type": "display_data"
    },
    {
     "name": "stdout",
     "output_type": "stream",
     "text": [
      "\n",
      "filtered_measurements = [105.89883904 118.4474462  131.15826309  78.84177834 192.26045364]\n",
      "new_threshold = 490.2200015719966\n"
     ]
    },
    {
     "data": {
      "application/vnd.jupyter.widget-view+json": {
       "model_id": "3b4ba96ac3e04a57b9279fda5f683e19",
       "version_major": 2,
       "version_minor": 0
      },
      "text/plain": [
       "HBox(children=(FloatProgress(value=1.0, bar_style='info', max=1.0), HTML(value='')))"
      ]
     },
     "metadata": {},
     "output_type": "display_data"
    },
    {
     "name": "stdout",
     "output_type": "stream",
     "text": [
      "\n"
     ]
    },
    {
     "data": {
      "application/vnd.jupyter.widget-view+json": {
       "model_id": "94f759be8c4b4e3ca68593b20dd44e30",
       "version_major": 2,
       "version_minor": 0
      },
      "text/plain": [
       "HBox(children=(FloatProgress(value=1.0, bar_style='info', max=1.0), HTML(value='')))"
      ]
     },
     "metadata": {},
     "output_type": "display_data"
    },
    {
     "name": "stdout",
     "output_type": "stream",
     "text": [
      "\n",
      "filtered_measurements = [371.85115337 176.10042995 145.88131581]\n",
      "new_threshold = 876.3881098342455\n"
     ]
    },
    {
     "data": {
      "application/vnd.jupyter.widget-view+json": {
       "model_id": "639dc37557c44220815636c71e417eb5",
       "version_major": 2,
       "version_minor": 0
      },
      "text/plain": [
       "HBox(children=(FloatProgress(value=1.0, bar_style='info', max=1.0), HTML(value='')))"
      ]
     },
     "metadata": {},
     "output_type": "display_data"
    },
    {
     "name": "stdout",
     "output_type": "stream",
     "text": [
      "\n"
     ]
    },
    {
     "data": {
      "application/vnd.jupyter.widget-view+json": {
       "model_id": "a32c275ac785492bb734e13651050c82",
       "version_major": 2,
       "version_minor": 0
      },
      "text/plain": [
       "HBox(children=(FloatProgress(value=1.0, bar_style='info', max=1.0), HTML(value='')))"
      ]
     },
     "metadata": {},
     "output_type": "display_data"
    },
    {
     "name": "stdout",
     "output_type": "stream",
     "text": [
      "--> Not exactly one containing mesh: []\n",
      "--> Not exactly one containing mesh: []\n",
      "--> Not exactly one containing mesh: []\n",
      "\n",
      "branch_touching_number = [14]\n",
      "branch_touching_number = [14, 1]\n",
      "most_branch_containing_piece = 0\n",
      "filtered_measurements = [145.37182744 124.69638682  93.95804081  75.14327923  87.23337494\n",
      "  83.55714184 118.74220511 155.53794109 185.74186471 122.1138842 ]\n",
      "new_threshold = 404.37275036317897\n"
     ]
    },
    {
     "data": {
      "application/vnd.jupyter.widget-view+json": {
       "model_id": "21259453ffb04a5ba2dd421e535cdbd8",
       "version_major": 2,
       "version_minor": 0
      },
      "text/plain": [
       "HBox(children=(FloatProgress(value=1.0, bar_style='info', max=1.0), HTML(value='')))"
      ]
     },
     "metadata": {},
     "output_type": "display_data"
    },
    {
     "name": "stdout",
     "output_type": "stream",
     "text": [
      "--> Not exactly one containing mesh: []\n",
      "--> Not exactly one containing mesh: []\n",
      "--> Not exactly one containing mesh: []\n",
      "--> Not exactly one containing mesh: []\n",
      "\n"
     ]
    },
    {
     "data": {
      "application/vnd.jupyter.widget-view+json": {
       "model_id": "2e3c13fe60634b3ab9d53f18c351c1f9",
       "version_major": 2,
       "version_minor": 0
      },
      "text/plain": [
       "HBox(children=(FloatProgress(value=1.0, bar_style='info', max=1.0), HTML(value='')))"
      ]
     },
     "metadata": {},
     "output_type": "display_data"
    },
    {
     "name": "stdout",
     "output_type": "stream",
     "text": [
      "--> Not exactly one containing mesh: []\n",
      "\n",
      "filtered_measurements = [494.08422618 251.86232517 378.97369361]\n",
      "new_threshold = 1121.2003989786767\n"
     ]
    },
    {
     "data": {
      "application/vnd.jupyter.widget-view+json": {
       "model_id": "826c09398bee4243b25da909dfd8463f",
       "version_major": 2,
       "version_minor": 0
      },
      "text/plain": [
       "HBox(children=(FloatProgress(value=1.0, bar_style='info', max=1.0), HTML(value='')))"
      ]
     },
     "metadata": {},
     "output_type": "display_data"
    },
    {
     "name": "stdout",
     "output_type": "stream",
     "text": [
      "--> Not exactly one containing mesh: []\n",
      "\n"
     ]
    },
    {
     "data": {
      "application/vnd.jupyter.widget-view+json": {
       "model_id": "be04776a3d6e4b299cdac9b37061d1af",
       "version_major": 2,
       "version_minor": 0
      },
      "text/plain": [
       "HBox(children=(FloatProgress(value=1.0, bar_style='info', max=1.0), HTML(value='')))"
      ]
     },
     "metadata": {},
     "output_type": "display_data"
    },
    {
     "name": "stdout",
     "output_type": "stream",
     "text": [
      "\n",
      "filtered_measurements = [831.20104007 765.42980422 652.54656545]\n",
      "new_threshold = 1803.2092848109992\n"
     ]
    },
    {
     "data": {
      "application/vnd.jupyter.widget-view+json": {
       "model_id": "f5e956c0098940e5a900129381927805",
       "version_major": 2,
       "version_minor": 0
      },
      "text/plain": [
       "HBox(children=(FloatProgress(value=1.0, bar_style='info', max=1.0), HTML(value='')))"
      ]
     },
     "metadata": {},
     "output_type": "display_data"
    },
    {
     "name": "stdout",
     "output_type": "stream",
     "text": [
      "\n"
     ]
    },
    {
     "data": {
      "application/vnd.jupyter.widget-view+json": {
       "model_id": "201ef8c717ca43019f51ceccb8e02a77",
       "version_major": 2,
       "version_minor": 0
      },
      "text/plain": [
       "HBox(children=(FloatProgress(value=1.0, bar_style='info', max=1.0), HTML(value='')))"
      ]
     },
     "metadata": {},
     "output_type": "display_data"
    },
    {
     "name": "stdout",
     "output_type": "stream",
     "text": [
      "\n",
      "branch_touching_number = [3]\n",
      "branch_touching_number = [3, 1]\n",
      "most_branch_containing_piece = 0\n",
      "filtered_measurements = [ 352.39552939 1116.61344225  711.35714592]\n",
      "new_threshold = 2670.821217645309\n"
     ]
    },
    {
     "data": {
      "application/vnd.jupyter.widget-view+json": {
       "model_id": "5f80cd0796bd4d4f98823b1ef2fe19b8",
       "version_major": 2,
       "version_minor": 0
      },
      "text/plain": [
       "HBox(children=(FloatProgress(value=1.0, bar_style='info', max=1.0), HTML(value='')))"
      ]
     },
     "metadata": {},
     "output_type": "display_data"
    },
    {
     "name": "stdout",
     "output_type": "stream",
     "text": [
      "--> Not exactly one containing mesh: []\n",
      "\n"
     ]
    },
    {
     "data": {
      "application/vnd.jupyter.widget-view+json": {
       "model_id": "1397cbda809f461183eac9cac03d01c7",
       "version_major": 2,
       "version_minor": 0
      },
      "text/plain": [
       "HBox(children=(FloatProgress(value=1.0, bar_style='info', max=1.0), HTML(value='')))"
      ]
     },
     "metadata": {},
     "output_type": "display_data"
    },
    {
     "name": "stdout",
     "output_type": "stream",
     "text": [
      "\n",
      "filtered_measurements = [ 61.75310629 132.36380301 107.03281766  65.92217165 117.29177871\n",
      " 128.38444074 112.61045701]\n",
      "new_threshold = 282.3664546747339\n"
     ]
    },
    {
     "data": {
      "application/vnd.jupyter.widget-view+json": {
       "model_id": "53693420626a4261afdff7d3da932825",
       "version_major": 2,
       "version_minor": 0
      },
      "text/plain": [
       "HBox(children=(FloatProgress(value=1.0, bar_style='info', max=1.0), HTML(value='')))"
      ]
     },
     "metadata": {},
     "output_type": "display_data"
    },
    {
     "name": "stdout",
     "output_type": "stream",
     "text": [
      "--> Not exactly one containing mesh: []\n",
      "\n",
      "branch_touching_number = [8]\n",
      "branch_touching_number = [8, 1]\n",
      "most_branch_containing_piece = 0\n"
     ]
    },
    {
     "data": {
      "application/vnd.jupyter.widget-view+json": {
       "model_id": "bdfb5dc1be0347e1aed39f2f36543d16",
       "version_major": 2,
       "version_minor": 0
      },
      "text/plain": [
       "HBox(children=(FloatProgress(value=1.0, bar_style='info', max=1.0), HTML(value='')))"
      ]
     },
     "metadata": {},
     "output_type": "display_data"
    },
    {
     "name": "stdout",
     "output_type": "stream",
     "text": [
      "\n",
      "filtered_measurements = [1298.29032918 1009.82814554]\n",
      "new_threshold = 2893.699186472423\n"
     ]
    },
    {
     "data": {
      "application/vnd.jupyter.widget-view+json": {
       "model_id": "8e755c3f40194633bf3dc39779e5dcb7",
       "version_major": 2,
       "version_minor": 0
      },
      "text/plain": [
       "HBox(children=(FloatProgress(value=1.0, bar_style='info', max=1.0), HTML(value='')))"
      ]
     },
     "metadata": {},
     "output_type": "display_data"
    },
    {
     "name": "stdout",
     "output_type": "stream",
     "text": [
      "\n"
     ]
    },
    {
     "data": {
      "application/vnd.jupyter.widget-view+json": {
       "model_id": "e102b77d063448368b7df5a215245311",
       "version_major": 2,
       "version_minor": 0
      },
      "text/plain": [
       "HBox(children=(FloatProgress(value=1.0, bar_style='info', max=1.0), HTML(value='')))"
      ]
     },
     "metadata": {},
     "output_type": "display_data"
    },
    {
     "name": "stdout",
     "output_type": "stream",
     "text": [
      "\n",
      "filtered_measurements = [331.95660698 290.92750401 457.6792009  351.97829151 350.34524741\n",
      " 348.03676965 375.07451587 408.44072705 461.19548836 281.11298534\n",
      " 293.85359276 372.08638083 399.0626396  380.46964518 364.74199367\n",
      " 421.84486997 351.8082537  396.68545295]\n",
      "new_threshold = 1121.27976583225\n"
     ]
    },
    {
     "data": {
      "application/vnd.jupyter.widget-view+json": {
       "model_id": "b1ff1b693e784b20a6fd65229a186efb",
       "version_major": 2,
       "version_minor": 0
      },
      "text/plain": [
       "HBox(children=(FloatProgress(value=1.0, bar_style='info', max=1.0), HTML(value='')))"
      ]
     },
     "metadata": {},
     "output_type": "display_data"
    },
    {
     "name": "stdout",
     "output_type": "stream",
     "text": [
      "\n"
     ]
    },
    {
     "data": {
      "application/vnd.jupyter.widget-view+json": {
       "model_id": "3111bf24b6324076b8355fe7db44d2b0",
       "version_major": 2,
       "version_minor": 0
      },
      "text/plain": [
       "HBox(children=(FloatProgress(value=1.0, bar_style='info', max=1.0), HTML(value='')))"
      ]
     },
     "metadata": {},
     "output_type": "display_data"
    },
    {
     "name": "stdout",
     "output_type": "stream",
     "text": [
      "\n",
      "filtered_measurements = [400.88982993 362.37335318  77.17299867 101.16179333 330.03335488\n",
      " 362.76800831]\n",
      "new_threshold = 1015.9304421571567\n"
     ]
    },
    {
     "data": {
      "application/vnd.jupyter.widget-view+json": {
       "model_id": "791f2f16d28e420ebe70c2c2f58d77a5",
       "version_major": 2,
       "version_minor": 0
      },
      "text/plain": [
       "HBox(children=(FloatProgress(value=1.0, bar_style='info', max=1.0), HTML(value='')))"
      ]
     },
     "metadata": {},
     "output_type": "display_data"
    },
    {
     "name": "stdout",
     "output_type": "stream",
     "text": [
      "\n"
     ]
    },
    {
     "data": {
      "application/vnd.jupyter.widget-view+json": {
       "model_id": "75a60484c1a940ea8ac0f6a37f10c7a6",
       "version_major": 2,
       "version_minor": 0
      },
      "text/plain": [
       "HBox(children=(FloatProgress(value=1.0, bar_style='info', max=1.0), HTML(value='')))"
      ]
     },
     "metadata": {},
     "output_type": "display_data"
    },
    {
     "name": "stdout",
     "output_type": "stream",
     "text": [
      "--> Not exactly one containing mesh: []\n",
      "\n",
      "filtered_measurements = [300.47101848 423.77002632 391.63124954 314.19065743 333.36169301\n",
      " 389.23079196 284.43251087 309.25296869 299.81894355 424.55562311\n",
      " 221.36433031 240.43460074 276.03845606 408.4898474  397.02530213]\n",
      "new_threshold = 981.6027484539418\n"
     ]
    },
    {
     "data": {
      "application/vnd.jupyter.widget-view+json": {
       "model_id": "71471a843cf9464dbe7d0bf29f259830",
       "version_major": 2,
       "version_minor": 0
      },
      "text/plain": [
       "HBox(children=(FloatProgress(value=1.0, bar_style='info', max=1.0), HTML(value='')))"
      ]
     },
     "metadata": {},
     "output_type": "display_data"
    },
    {
     "name": "stdout",
     "output_type": "stream",
     "text": [
      "--> Not exactly one containing mesh: []\n",
      "\n"
     ]
    },
    {
     "data": {
      "application/vnd.jupyter.widget-view+json": {
       "model_id": "d53e1cf6e9014c568942890b4f6b885a",
       "version_major": 2,
       "version_minor": 0
      },
      "text/plain": [
       "HBox(children=(FloatProgress(value=1.0, bar_style='info', max=1.0), HTML(value='')))"
      ]
     },
     "metadata": {},
     "output_type": "display_data"
    },
    {
     "name": "stdout",
     "output_type": "stream",
     "text": [
      "\n",
      "filtered_measurements = [391.05985195]\n",
      "new_threshold = 662.1651780204168\n"
     ]
    },
    {
     "data": {
      "application/vnd.jupyter.widget-view+json": {
       "model_id": "7a5cce77315c47a5b23c2101977a0513",
       "version_major": 2,
       "version_minor": 0
      },
      "text/plain": [
       "HBox(children=(FloatProgress(value=1.0, bar_style='info', max=1.0), HTML(value='')))"
      ]
     },
     "metadata": {},
     "output_type": "display_data"
    },
    {
     "name": "stdout",
     "output_type": "stream",
     "text": [
      "\n"
     ]
    },
    {
     "data": {
      "application/vnd.jupyter.widget-view+json": {
       "model_id": "f7465e95ddef4a3192952df01f040673",
       "version_major": 2,
       "version_minor": 0
      },
      "text/plain": [
       "HBox(children=(FloatProgress(value=1.0, bar_style='info', max=1.0), HTML(value='')))"
      ]
     },
     "metadata": {},
     "output_type": "display_data"
    },
    {
     "name": "stdout",
     "output_type": "stream",
     "text": [
      "\n",
      "filtered_measurements = [397.71833195]\n",
      "new_threshold = 773.277333494708\n"
     ]
    },
    {
     "data": {
      "application/vnd.jupyter.widget-view+json": {
       "model_id": "716085023ba04392a3d322c3aabd4fec",
       "version_major": 2,
       "version_minor": 0
      },
      "text/plain": [
       "HBox(children=(FloatProgress(value=1.0, bar_style='info', max=1.0), HTML(value='')))"
      ]
     },
     "metadata": {},
     "output_type": "display_data"
    },
    {
     "name": "stdout",
     "output_type": "stream",
     "text": [
      "\n"
     ]
    },
    {
     "data": {
      "application/vnd.jupyter.widget-view+json": {
       "model_id": "e69c2b333e134cedad98dd7e102139c2",
       "version_major": 2,
       "version_minor": 0
      },
      "text/plain": [
       "HBox(children=(FloatProgress(value=1.0, bar_style='info', max=1.0), HTML(value='')))"
      ]
     },
     "metadata": {},
     "output_type": "display_data"
    },
    {
     "name": "stdout",
     "output_type": "stream",
     "text": [
      "\n",
      "filtered_measurements = [583.88250428 343.805502  ]\n",
      "new_threshold = 1561.6123577595777\n"
     ]
    },
    {
     "data": {
      "application/vnd.jupyter.widget-view+json": {
       "model_id": "9bcce0d84af84654b03ac1d12219295f",
       "version_major": 2,
       "version_minor": 0
      },
      "text/plain": [
       "HBox(children=(FloatProgress(value=1.0, bar_style='info', max=1.0), HTML(value='')))"
      ]
     },
     "metadata": {},
     "output_type": "display_data"
    },
    {
     "name": "stdout",
     "output_type": "stream",
     "text": [
      "\n"
     ]
    },
    {
     "data": {
      "application/vnd.jupyter.widget-view+json": {
       "model_id": "30ca4cb8aea94dd797437d99695904fd",
       "version_major": 2,
       "version_minor": 0
      },
      "text/plain": [
       "HBox(children=(FloatProgress(value=1.0, bar_style='info', max=1.0), HTML(value='')))"
      ]
     },
     "metadata": {},
     "output_type": "display_data"
    },
    {
     "name": "stdout",
     "output_type": "stream",
     "text": [
      "\n",
      "filtered_measurements = [1292.9182476  1265.46900055]\n",
      "new_threshold = 2767.2007187477557\n"
     ]
    },
    {
     "data": {
      "application/vnd.jupyter.widget-view+json": {
       "model_id": "66c666edaa3349d0a71d3c732d47c06b",
       "version_major": 2,
       "version_minor": 0
      },
      "text/plain": [
       "HBox(children=(FloatProgress(value=1.0, bar_style='info', max=1.0), HTML(value='')))"
      ]
     },
     "metadata": {},
     "output_type": "display_data"
    },
    {
     "name": "stdout",
     "output_type": "stream",
     "text": [
      "\n"
     ]
    },
    {
     "data": {
      "application/vnd.jupyter.widget-view+json": {
       "model_id": "351b1ea4d9304e15bd5d87622859ba41",
       "version_major": 2,
       "version_minor": 0
      },
      "text/plain": [
       "HBox(children=(FloatProgress(value=1.0, bar_style='info', max=1.0), HTML(value='')))"
      ]
     },
     "metadata": {},
     "output_type": "display_data"
    },
    {
     "name": "stdout",
     "output_type": "stream",
     "text": [
      "\n",
      "filtered_measurements = [1699.69207186]\n",
      "new_threshold = 3274.5028466711383\n"
     ]
    },
    {
     "data": {
      "application/vnd.jupyter.widget-view+json": {
       "model_id": "f27832fa122c45c9a403c8be670be40c",
       "version_major": 2,
       "version_minor": 0
      },
      "text/plain": [
       "HBox(children=(FloatProgress(value=1.0, bar_style='info', max=1.0), HTML(value='')))"
      ]
     },
     "metadata": {},
     "output_type": "display_data"
    },
    {
     "name": "stdout",
     "output_type": "stream",
     "text": [
      "\n",
      "\n",
      "Working on limb #3\n"
     ]
    },
    {
     "data": {
      "application/vnd.jupyter.widget-view+json": {
       "model_id": "ff95255220ab472f8d3af5e498058fcb",
       "version_major": 2,
       "version_minor": 0
      },
      "text/plain": [
       "HBox(children=(FloatProgress(value=1.0, bar_style='info', max=1.0), HTML(value='')))"
      ]
     },
     "metadata": {},
     "output_type": "display_data"
    },
    {
     "data": {
      "application/vnd.jupyter.widget-view+json": {
       "model_id": "08139283c9624a53b48ca0d792f0f7f3",
       "version_major": 2,
       "version_minor": 0
      },
      "text/plain": [
       "HBox(children=(FloatProgress(value=1.0, bar_style='info', max=1.0), HTML(value='')))"
      ]
     },
     "metadata": {},
     "output_type": "display_data"
    },
    {
     "name": "stdout",
     "output_type": "stream",
     "text": [
      "\n",
      "filtered_measurements = [182.81140496 137.4027182  203.25645723 211.195422   221.43227082\n",
      " 312.65072957 357.1679398  440.52672686 633.07391064 216.79817528\n",
      " 515.95975803 265.4396193  616.91097468 380.83795361 290.26488501\n",
      " 502.4746369  324.75543355 577.290779   666.31737664 319.50014522\n",
      " 320.82413404 475.99113924 375.67102601 619.97472504 364.83425796\n",
      " 495.6807147  323.01533595 333.45990811 424.05869249 330.10084819\n",
      " 507.73794803 660.73211525 328.97333537 544.26313557 535.05526734\n",
      " 332.90587941 446.095851   466.97320296 644.24115185 357.72619448\n",
      " 589.73346267 309.56453234 381.83677306 439.10102391 549.6905012\n",
      " 327.58940607 409.26613816 531.41136458 566.03292278 361.0523897\n",
      " 401.77977658 414.75094085 454.49137541 622.30650113 364.75686432\n",
      " 379.52615388 536.94552568 542.12043477 520.20335267 330.09702174\n",
      " 447.64771037 533.56393154 387.28588378 447.38408033 589.61094149\n",
      " 303.5432921 ]\n",
      "new_threshold = 1814.3088269631248\n"
     ]
    },
    {
     "data": {
      "application/vnd.jupyter.widget-view+json": {
       "model_id": "9c7d72aaf4e84f4daed1186c1156e771",
       "version_major": 2,
       "version_minor": 0
      },
      "text/plain": [
       "HBox(children=(FloatProgress(value=1.0, bar_style='info', max=1.0), HTML(value='')))"
      ]
     },
     "metadata": {},
     "output_type": "display_data"
    },
    {
     "name": "stdout",
     "output_type": "stream",
     "text": [
      "\n"
     ]
    },
    {
     "data": {
      "application/vnd.jupyter.widget-view+json": {
       "model_id": "598b2163485f44148daeb6a73e925658",
       "version_major": 2,
       "version_minor": 0
      },
      "text/plain": [
       "HBox(children=(FloatProgress(value=1.0, bar_style='info', max=1.0), HTML(value='')))"
      ]
     },
     "metadata": {},
     "output_type": "display_data"
    },
    {
     "name": "stdout",
     "output_type": "stream",
     "text": [
      "\n",
      "filtered_measurements = [183.61343183 497.51843884 262.29595785 430.4832485  211.85337517\n",
      " 261.12602244 453.27203337 362.68775174 230.98215015 279.78460966\n",
      " 440.3424828  222.08659518 296.04318769 368.13142573 430.46870211\n",
      " 326.25980704 407.78219684 355.55497571 616.03628338 426.38893645\n",
      " 354.57957208 371.33029276 552.02499394 320.91824136 482.39269002\n",
      " 544.06796283 412.3211233  347.41437142 303.90242433 391.9187945\n",
      " 449.21073086 399.55265972 402.35421101 530.21646584 340.92805478\n",
      " 335.82762338 420.86042068 424.156344   380.68162155 637.45363753\n",
      " 553.76948019 479.07130667 450.07180091 291.41964677 542.70724968\n",
      " 499.48401803 407.50277313 339.96866187 260.4923415  366.35717698\n",
      " 367.36670137 350.0506706  383.51308819 331.3424151  361.29791243\n",
      " 466.62795176 596.80483869 554.64855079 572.66593558 476.73536157\n",
      " 374.84056923 535.46476896 555.56404091 362.44515488 428.81139058\n",
      " 591.48040386 271.15135834 419.141021   628.49138161 488.70254409\n",
      " 373.94101438 351.94533219 389.43631131 464.61649281 490.00882299\n",
      " 401.65609749 423.43627228 408.45811028]\n",
      "new_threshold = 1519.2938847291366\n"
     ]
    },
    {
     "data": {
      "application/vnd.jupyter.widget-view+json": {
       "model_id": "213d5f5978924f4bbe3e673016f1ff3f",
       "version_major": 2,
       "version_minor": 0
      },
      "text/plain": [
       "HBox(children=(FloatProgress(value=1.0, bar_style='info', max=1.0), HTML(value='')))"
      ]
     },
     "metadata": {},
     "output_type": "display_data"
    },
    {
     "name": "stdout",
     "output_type": "stream",
     "text": [
      "\n"
     ]
    },
    {
     "data": {
      "application/vnd.jupyter.widget-view+json": {
       "model_id": "41561b0f52bb4b4e8d130c1b50a69546",
       "version_major": 2,
       "version_minor": 0
      },
      "text/plain": [
       "HBox(children=(FloatProgress(value=1.0, bar_style='info', max=1.0), HTML(value='')))"
      ]
     },
     "metadata": {},
     "output_type": "display_data"
    },
    {
     "name": "stdout",
     "output_type": "stream",
     "text": [
      "\n",
      "filtered_measurements = [310.11417769 308.62473378 162.96962017 130.15199267 339.77895292\n",
      " 218.63799592 275.1554206  254.60164223 367.4313396  163.58863504\n",
      " 190.04169721 158.36445898 217.11642647 393.30664602 387.01551273\n",
      " 251.33032802 176.10597075 275.22856702 219.89014021 203.17004389\n",
      " 209.70225823 155.34305447 250.67860188 183.1280177  247.64650365\n",
      " 192.70538182 145.31339863 219.45004183 332.31182301 256.64042532\n",
      " 256.24041406 293.37037752 338.61937719 197.20186256 286.187226\n",
      " 236.87624875 240.5955895  288.37129451 157.81972301 182.81827812\n",
      " 206.66528185 178.88869567 198.29985388 368.91032989 325.87413012\n",
      " 227.32281953 255.39683839 269.78508111]\n",
      "new_threshold = 864.8212425515616\n"
     ]
    },
    {
     "data": {
      "application/vnd.jupyter.widget-view+json": {
       "model_id": "e437fc61672940bf87837a1a487f5533",
       "version_major": 2,
       "version_minor": 0
      },
      "text/plain": [
       "HBox(children=(FloatProgress(value=1.0, bar_style='info', max=1.0), HTML(value='')))"
      ]
     },
     "metadata": {},
     "output_type": "display_data"
    },
    {
     "name": "stdout",
     "output_type": "stream",
     "text": [
      "--> Not exactly one containing mesh: []\n",
      "THERE WERE NO FACES THAT FIT THE DISTANCE (864.8212425515616) and Z transform requirements\n",
      "So just skipping this edge\n",
      "\n"
     ]
    },
    {
     "data": {
      "application/vnd.jupyter.widget-view+json": {
       "model_id": "11d05795537343458ae9c247ef3e4e89",
       "version_major": 2,
       "version_minor": 0
      },
      "text/plain": [
       "HBox(children=(FloatProgress(value=1.0, bar_style='info', max=1.0), HTML(value='')))"
      ]
     },
     "metadata": {},
     "output_type": "display_data"
    },
    {
     "name": "stdout",
     "output_type": "stream",
     "text": [
      "--> Not exactly one containing mesh: []\n",
      "\n",
      "filtered_measurements = [347.28971103 276.53535962 429.04519557 519.02425306 718.854017\n",
      " 543.81996575 405.14788451 571.94008787 293.50219254 338.63440969\n",
      " 395.72002856 410.10164018 452.02168474 425.12541109 408.02052139\n",
      " 647.48223009 604.28235423 651.37316643 761.03140799 619.21432546\n",
      " 521.63681776 752.66086916 689.55285122]\n",
      "new_threshold = 2079.611033228959\n"
     ]
    },
    {
     "data": {
      "application/vnd.jupyter.widget-view+json": {
       "model_id": "15b59fb5b3c941eaa80545038363df94",
       "version_major": 2,
       "version_minor": 0
      },
      "text/plain": [
       "HBox(children=(FloatProgress(value=1.0, bar_style='info', max=1.0), HTML(value='')))"
      ]
     },
     "metadata": {},
     "output_type": "display_data"
    },
    {
     "name": "stdout",
     "output_type": "stream",
     "text": [
      "--> Not exactly one containing mesh: []\n",
      "\n"
     ]
    },
    {
     "data": {
      "application/vnd.jupyter.widget-view+json": {
       "model_id": "9e2ee8914ab8477b8091c673aa006474",
       "version_major": 2,
       "version_minor": 0
      },
      "text/plain": [
       "HBox(children=(FloatProgress(value=1.0, bar_style='info', max=1.0), HTML(value='')))"
      ]
     },
     "metadata": {},
     "output_type": "display_data"
    },
    {
     "name": "stdout",
     "output_type": "stream",
     "text": [
      "--> Not exactly one containing mesh: [0 1]\n",
      "\n",
      "filtered_measurements = [ 78.50208263  97.01146469  71.40990994  70.47963313  75.83824792\n",
      "  96.05176474  81.51177064 118.15192523  88.25294013 105.60832777\n",
      "  98.65108673 148.86936275 116.72276644 105.5000931  126.98235041\n",
      " 113.81790558  79.78956222  90.9433248  115.58256527  72.96010354\n",
      "  69.66629396  95.44844067  82.82007523 141.51435098 111.75753412]\n",
      "new_threshold = 333.83865997827644\n"
     ]
    },
    {
     "data": {
      "application/vnd.jupyter.widget-view+json": {
       "model_id": "64af6a3841234d3baf4ea37d142b9b9b",
       "version_major": 2,
       "version_minor": 0
      },
      "text/plain": [
       "HBox(children=(FloatProgress(value=1.0, bar_style='info', max=1.0), HTML(value='')))"
      ]
     },
     "metadata": {},
     "output_type": "display_data"
    },
    {
     "name": "stdout",
     "output_type": "stream",
     "text": [
      "\n"
     ]
    },
    {
     "data": {
      "application/vnd.jupyter.widget-view+json": {
       "model_id": "0f4b24c231ad4e009eb49745480339d0",
       "version_major": 2,
       "version_minor": 0
      },
      "text/plain": [
       "HBox(children=(FloatProgress(value=1.0, bar_style='info', max=1.0), HTML(value='')))"
      ]
     },
     "metadata": {},
     "output_type": "display_data"
    },
    {
     "name": "stdout",
     "output_type": "stream",
     "text": [
      "--> Not exactly one containing mesh: []\n",
      "\n",
      "filtered_measurements = [268.60171876 299.60847302 326.067512   272.37627471 386.22692822\n",
      " 269.24401895 192.49905336 553.36230192 468.1803312  434.35892084\n",
      " 398.09178708 430.51076341 370.46190545 440.86025159 453.99383341\n",
      " 368.55096128 504.7838127  404.56980539 295.94660257 237.5901337\n",
      " 503.13428622 354.18152652 302.71393327 402.02614947 513.46264\n",
      " 459.84115001 282.19616876 567.4946744  300.58924942 289.78406898\n",
      " 305.26204528 478.27314543 418.58143601 331.15258731 570.42420354]\n",
      "new_threshold = 1380.785595360593\n"
     ]
    },
    {
     "data": {
      "application/vnd.jupyter.widget-view+json": {
       "model_id": "1075f3655b4c4a16949ce678fa301c89",
       "version_major": 2,
       "version_minor": 0
      },
      "text/plain": [
       "HBox(children=(FloatProgress(value=1.0, bar_style='info', max=1.0), HTML(value='')))"
      ]
     },
     "metadata": {},
     "output_type": "display_data"
    },
    {
     "name": "stdout",
     "output_type": "stream",
     "text": [
      "--> Not exactly one containing mesh: []\n",
      "\n"
     ]
    },
    {
     "data": {
      "application/vnd.jupyter.widget-view+json": {
       "model_id": "78ec9701bec34a01926815b66f8b28dd",
       "version_major": 2,
       "version_minor": 0
      },
      "text/plain": [
       "HBox(children=(FloatProgress(value=1.0, bar_style='info', max=1.0), HTML(value='')))"
      ]
     },
     "metadata": {},
     "output_type": "display_data"
    },
    {
     "name": "stdout",
     "output_type": "stream",
     "text": [
      "--> Not exactly one containing mesh: []\n",
      "--> Not exactly one containing mesh: []\n",
      "\n",
      "branch_touching_number = [1]\n",
      "branch_touching_number = [1, 8]\n",
      "branch_touching_number = [1, 8, 1]\n",
      "most_branch_containing_piece = 1\n",
      "filtered_measurements = [110.09547478  91.47621407  73.59532722 126.00446884 118.47234048\n",
      " 136.74785632]\n",
      "new_threshold = 268.186114697534\n"
     ]
    },
    {
     "data": {
      "application/vnd.jupyter.widget-view+json": {
       "model_id": "c74c818295f3432abbf117eea8fe24fc",
       "version_major": 2,
       "version_minor": 0
      },
      "text/plain": [
       "HBox(children=(FloatProgress(value=1.0, bar_style='info', max=1.0), HTML(value='')))"
      ]
     },
     "metadata": {},
     "output_type": "display_data"
    },
    {
     "name": "stdout",
     "output_type": "stream",
     "text": [
      "THERE WERE NO FACES THAT FIT THE DISTANCE (268.186114697534) and Z transform requirements\n",
      "So just skipping this edge\n",
      "THERE WERE NO FACES THAT FIT THE DISTANCE (268.186114697534) and Z transform requirements\n",
      "So just skipping this edge\n",
      "--> Not exactly one containing mesh: []\n",
      "\n"
     ]
    },
    {
     "data": {
      "application/vnd.jupyter.widget-view+json": {
       "model_id": "9da8e018b7284ebebca0b5958c3b93bf",
       "version_major": 2,
       "version_minor": 0
      },
      "text/plain": [
       "HBox(children=(FloatProgress(value=1.0, bar_style='info', max=1.0), HTML(value='')))"
      ]
     },
     "metadata": {},
     "output_type": "display_data"
    },
    {
     "name": "stdout",
     "output_type": "stream",
     "text": [
      "\n",
      "filtered_measurements = [ 91.81921169  74.81337838  92.28036522 105.43632567  94.14535108\n",
      "  91.26234509 117.94169068 159.10173974 157.58291349  93.00824549\n",
      " 129.94910996 111.2460749  134.07336913 148.6579013  137.95560232\n",
      "  65.88167268]\n",
      "new_threshold = 315.52531369171254\n"
     ]
    },
    {
     "data": {
      "application/vnd.jupyter.widget-view+json": {
       "model_id": "3a1d965eefa143bf9f4998468c546bda",
       "version_major": 2,
       "version_minor": 0
      },
      "text/plain": [
       "HBox(children=(FloatProgress(value=1.0, bar_style='info', max=1.0), HTML(value='')))"
      ]
     },
     "metadata": {},
     "output_type": "display_data"
    },
    {
     "name": "stdout",
     "output_type": "stream",
     "text": [
      "\n"
     ]
    },
    {
     "data": {
      "application/vnd.jupyter.widget-view+json": {
       "model_id": "d022d2c61fd84a59b1e346704aedc848",
       "version_major": 2,
       "version_minor": 0
      },
      "text/plain": [
       "HBox(children=(FloatProgress(value=1.0, bar_style='info', max=1.0), HTML(value='')))"
      ]
     },
     "metadata": {},
     "output_type": "display_data"
    },
    {
     "name": "stdout",
     "output_type": "stream",
     "text": [
      "\n",
      "filtered_measurements = [404.63432651 312.98151396 277.78626416 289.89113507 446.42446468\n",
      " 325.55886556 469.68204317 311.43518775 336.11613893 325.753924  ]\n",
      "new_threshold = 1058.1004375954417\n"
     ]
    },
    {
     "data": {
      "application/vnd.jupyter.widget-view+json": {
       "model_id": "709246c34adc40ffa0dfe72cdc087833",
       "version_major": 2,
       "version_minor": 0
      },
      "text/plain": [
       "HBox(children=(FloatProgress(value=1.0, bar_style='info', max=1.0), HTML(value='')))"
      ]
     },
     "metadata": {},
     "output_type": "display_data"
    },
    {
     "name": "stdout",
     "output_type": "stream",
     "text": [
      "\n"
     ]
    },
    {
     "data": {
      "application/vnd.jupyter.widget-view+json": {
       "model_id": "11be30697a6d48f6899d1f855d69f2d7",
       "version_major": 2,
       "version_minor": 0
      },
      "text/plain": [
       "HBox(children=(FloatProgress(value=1.0, bar_style='info', max=1.0), HTML(value='')))"
      ]
     },
     "metadata": {},
     "output_type": "display_data"
    },
    {
     "name": "stdout",
     "output_type": "stream",
     "text": [
      "\n",
      "filtered_measurements = [79.34276439 59.60000238]\n",
      "new_threshold = 151.75012791840484\n"
     ]
    },
    {
     "data": {
      "application/vnd.jupyter.widget-view+json": {
       "model_id": "0d2e9b702e07409eb9defd1940dec968",
       "version_major": 2,
       "version_minor": 0
      },
      "text/plain": [
       "HBox(children=(FloatProgress(value=1.0, bar_style='info', max=1.0), HTML(value='')))"
      ]
     },
     "metadata": {},
     "output_type": "display_data"
    },
    {
     "name": "stdout",
     "output_type": "stream",
     "text": [
      "\n"
     ]
    },
    {
     "data": {
      "application/vnd.jupyter.widget-view+json": {
       "model_id": "787a6deebf414ae59bad9640ad9de1e9",
       "version_major": 2,
       "version_minor": 0
      },
      "text/plain": [
       "HBox(children=(FloatProgress(value=1.0, bar_style='info', max=1.0), HTML(value='')))"
      ]
     },
     "metadata": {},
     "output_type": "display_data"
    },
    {
     "name": "stdout",
     "output_type": "stream",
     "text": [
      "--> Not exactly one containing mesh: []\n",
      "\n",
      "filtered_measurements = [65.86376226 79.06427332 84.88111539 80.96800249]\n",
      "new_threshold = 170.59659109356784\n"
     ]
    },
    {
     "data": {
      "application/vnd.jupyter.widget-view+json": {
       "model_id": "d81a47c643a14421beb984fae9d3ab1e",
       "version_major": 2,
       "version_minor": 0
      },
      "text/plain": [
       "HBox(children=(FloatProgress(value=1.0, bar_style='info', max=1.0), HTML(value='')))"
      ]
     },
     "metadata": {},
     "output_type": "display_data"
    },
    {
     "name": "stdout",
     "output_type": "stream",
     "text": [
      "--> Not exactly one containing mesh: []\n",
      "\n"
     ]
    },
    {
     "data": {
      "application/vnd.jupyter.widget-view+json": {
       "model_id": "28bf0b158e504a90be4f181dd69475ff",
       "version_major": 2,
       "version_minor": 0
      },
      "text/plain": [
       "HBox(children=(FloatProgress(value=1.0, bar_style='info', max=1.0), HTML(value='')))"
      ]
     },
     "metadata": {},
     "output_type": "display_data"
    },
    {
     "name": "stdout",
     "output_type": "stream",
     "text": [
      "--> Not exactly one containing mesh: []\n",
      "\n",
      "filtered_measurements = [167.18509164 117.06218145  95.77516523  69.06417237]\n",
      "new_threshold = 331.4839146256782\n"
     ]
    },
    {
     "data": {
      "application/vnd.jupyter.widget-view+json": {
       "model_id": "c55d47e5afa143299e266107bc5958a1",
       "version_major": 2,
       "version_minor": 0
      },
      "text/plain": [
       "HBox(children=(FloatProgress(value=1.0, bar_style='info', max=1.0), HTML(value='')))"
      ]
     },
     "metadata": {},
     "output_type": "display_data"
    },
    {
     "name": "stdout",
     "output_type": "stream",
     "text": [
      "--> Not exactly one containing mesh: []\n",
      "\n"
     ]
    },
    {
     "data": {
      "application/vnd.jupyter.widget-view+json": {
       "model_id": "f7398d3e59ad4d51aa4140581345f55e",
       "version_major": 2,
       "version_minor": 0
      },
      "text/plain": [
       "HBox(children=(FloatProgress(value=1.0, bar_style='info', max=1.0), HTML(value='')))"
      ]
     },
     "metadata": {},
     "output_type": "display_data"
    },
    {
     "name": "stdout",
     "output_type": "stream",
     "text": [
      "\n",
      "branch_touching_number = [1]\n",
      "branch_touching_number = [1, 1]\n",
      "most_branch_containing_piece = 0\n",
      "filtered_measurements = [1468.84774177 1454.49057571]\n",
      "new_threshold = 3159.3901808314486\n"
     ]
    },
    {
     "data": {
      "application/vnd.jupyter.widget-view+json": {
       "model_id": "1d6ac12d3dec414abe8b1d996a47958c",
       "version_major": 2,
       "version_minor": 0
      },
      "text/plain": [
       "HBox(children=(FloatProgress(value=1.0, bar_style='info', max=1.0), HTML(value='')))"
      ]
     },
     "metadata": {},
     "output_type": "display_data"
    },
    {
     "name": "stdout",
     "output_type": "stream",
     "text": [
      "--> Not exactly one containing mesh: []\n",
      "\n"
     ]
    },
    {
     "data": {
      "application/vnd.jupyter.widget-view+json": {
       "model_id": "0fca97da169c4ac78cf4f20737c1cb60",
       "version_major": 2,
       "version_minor": 0
      },
      "text/plain": [
       "HBox(children=(FloatProgress(value=1.0, bar_style='info', max=1.0), HTML(value='')))"
      ]
     },
     "metadata": {},
     "output_type": "display_data"
    },
    {
     "name": "stdout",
     "output_type": "stream",
     "text": [
      "--> Not exactly one containing mesh: []\n",
      "\n",
      "filtered_measurements = [ 75.87196092 136.96223481  73.34875609  69.28602769  64.04579226\n",
      "  98.21618539  85.46611689  58.17734985 131.04765474 146.10472164\n",
      "  60.91222965 101.94944431  61.97986127]\n",
      "new_threshold = 326.72136663971236\n"
     ]
    },
    {
     "data": {
      "application/vnd.jupyter.widget-view+json": {
       "model_id": "ae32aa6cc0d5462a8984c4ccf12d5cb2",
       "version_major": 2,
       "version_minor": 0
      },
      "text/plain": [
       "HBox(children=(FloatProgress(value=1.0, bar_style='info', max=1.0), HTML(value='')))"
      ]
     },
     "metadata": {},
     "output_type": "display_data"
    },
    {
     "name": "stdout",
     "output_type": "stream",
     "text": [
      "--> Not exactly one containing mesh: []\n",
      "\n"
     ]
    },
    {
     "data": {
      "application/vnd.jupyter.widget-view+json": {
       "model_id": "64d5c64b3b074ab6b6854b9b11c981fe",
       "version_major": 2,
       "version_minor": 0
      },
      "text/plain": [
       "HBox(children=(FloatProgress(value=1.0, bar_style='info', max=1.0), HTML(value='')))"
      ]
     },
     "metadata": {},
     "output_type": "display_data"
    },
    {
     "name": "stdout",
     "output_type": "stream",
     "text": [
      "\n",
      "filtered_measurements = [545.2220846  551.37773676 546.95104335 448.49004374 471.47834653\n",
      " 621.09019577 548.86093684 451.00583867 442.85396347 445.84866188\n",
      " 395.49008891 411.42027566 414.33696348 579.74365135 514.48103608\n",
      " 422.99574635 491.78574404 536.04779231 446.55022231 503.06855998]\n",
      "new_threshold = 1272.0793403333134\n"
     ]
    },
    {
     "data": {
      "application/vnd.jupyter.widget-view+json": {
       "model_id": "2d7de664f60442048eefcb177ba6e1a8",
       "version_major": 2,
       "version_minor": 0
      },
      "text/plain": [
       "HBox(children=(FloatProgress(value=1.0, bar_style='info', max=1.0), HTML(value='')))"
      ]
     },
     "metadata": {},
     "output_type": "display_data"
    },
    {
     "name": "stdout",
     "output_type": "stream",
     "text": [
      "\n"
     ]
    },
    {
     "data": {
      "application/vnd.jupyter.widget-view+json": {
       "model_id": "2990cb2debf74c2d8b0f380affed41e4",
       "version_major": 2,
       "version_minor": 0
      },
      "text/plain": [
       "HBox(children=(FloatProgress(value=1.0, bar_style='info', max=1.0), HTML(value='')))"
      ]
     },
     "metadata": {},
     "output_type": "display_data"
    },
    {
     "name": "stdout",
     "output_type": "stream",
     "text": [
      "--> Not exactly one containing mesh: []\n",
      "--> Not exactly one containing mesh: []\n",
      "\n",
      "branch_touching_number = [4]\n",
      "branch_touching_number = [4, 5]\n",
      "most_branch_containing_piece = 1\n",
      "filtered_measurements = [257.46990771 356.96134377  70.21315978  79.6839285   67.23372276]\n",
      "new_threshold = 758.0997711145695\n"
     ]
    },
    {
     "data": {
      "application/vnd.jupyter.widget-view+json": {
       "model_id": "bf21e6e391494674a5315e24eb51c492",
       "version_major": 2,
       "version_minor": 0
      },
      "text/plain": [
       "HBox(children=(FloatProgress(value=1.0, bar_style='info', max=1.0), HTML(value='')))"
      ]
     },
     "metadata": {},
     "output_type": "display_data"
    },
    {
     "name": "stdout",
     "output_type": "stream",
     "text": [
      "THERE WERE NO FACES THAT FIT THE DISTANCE (758.0997711145695) and Z transform requirements\n",
      "So just skipping this edge\n",
      "THERE WERE NO FACES THAT FIT THE DISTANCE (758.0997711145695) and Z transform requirements\n",
      "So just skipping this edge\n",
      "THERE WERE NO FACES THAT FIT THE DISTANCE (758.0997711145695) and Z transform requirements\n",
      "So just skipping this edge\n",
      "--> Not exactly one containing mesh: []\n",
      "--> Not exactly one containing mesh: []\n",
      "\n"
     ]
    },
    {
     "data": {
      "application/vnd.jupyter.widget-view+json": {
       "model_id": "fb0ed8666a7449c782e01484373b6385",
       "version_major": 2,
       "version_minor": 0
      },
      "text/plain": [
       "HBox(children=(FloatProgress(value=1.0, bar_style='info', max=1.0), HTML(value='')))"
      ]
     },
     "metadata": {},
     "output_type": "display_data"
    },
    {
     "name": "stdout",
     "output_type": "stream",
     "text": [
      "--> Not exactly one containing mesh: []\n",
      "\n",
      "filtered_measurements = [481.41353202]\n",
      "new_threshold = 1080.8249655773939\n"
     ]
    },
    {
     "data": {
      "application/vnd.jupyter.widget-view+json": {
       "model_id": "d3759ae19b374244a94f6f0672597b10",
       "version_major": 2,
       "version_minor": 0
      },
      "text/plain": [
       "HBox(children=(FloatProgress(value=1.0, bar_style='info', max=1.0), HTML(value='')))"
      ]
     },
     "metadata": {},
     "output_type": "display_data"
    },
    {
     "name": "stdout",
     "output_type": "stream",
     "text": [
      "--> Not exactly one containing mesh: []\n",
      "\n"
     ]
    },
    {
     "data": {
      "application/vnd.jupyter.widget-view+json": {
       "model_id": "737ce6caf6a94bdd8c38fcda5930703b",
       "version_major": 2,
       "version_minor": 0
      },
      "text/plain": [
       "HBox(children=(FloatProgress(value=1.0, bar_style='info', max=1.0), HTML(value='')))"
      ]
     },
     "metadata": {},
     "output_type": "display_data"
    },
    {
     "name": "stdout",
     "output_type": "stream",
     "text": [
      "\n",
      "filtered_measurements = [534.03271903 609.20252457]\n",
      "new_threshold = 1592.9156869925018\n"
     ]
    },
    {
     "data": {
      "application/vnd.jupyter.widget-view+json": {
       "model_id": "2e778de0bf3d4fac8bd1db91b33fb24b",
       "version_major": 2,
       "version_minor": 0
      },
      "text/plain": [
       "HBox(children=(FloatProgress(value=1.0, bar_style='info', max=1.0), HTML(value='')))"
      ]
     },
     "metadata": {},
     "output_type": "display_data"
    },
    {
     "name": "stdout",
     "output_type": "stream",
     "text": [
      "\n"
     ]
    },
    {
     "data": {
      "application/vnd.jupyter.widget-view+json": {
       "model_id": "f95f59d831e0439ab2e02762943f529a",
       "version_major": 2,
       "version_minor": 0
      },
      "text/plain": [
       "HBox(children=(FloatProgress(value=1.0, bar_style='info', max=1.0), HTML(value='')))"
      ]
     },
     "metadata": {},
     "output_type": "display_data"
    },
    {
     "name": "stdout",
     "output_type": "stream",
     "text": [
      "\n",
      "filtered_measurements = [140.98728631 119.70890619  91.00658263  70.7462017   84.27041656\n",
      "  72.98026537 147.79727894  58.34386953  74.6802877   93.84279115\n",
      " 115.44955585 128.06885827 152.55549908  67.68941877  97.40612421\n",
      " 102.68835968  86.31881855  97.38947134  94.3687196  103.15170891\n",
      "  84.52411499  70.68808239  66.11596285  96.12077513  88.68847165\n",
      " 116.74949631  81.96203203  75.87213419 141.49477729  90.25195848\n",
      " 104.93846449 132.09485032  82.74796887 122.68906971 143.7481203\n",
      "  97.55731086  63.02857451 108.62633801  88.41800742  86.37670653\n",
      " 131.00711114 113.20242126  94.1082607  129.42393664  99.14189061\n",
      " 149.54416436  84.25839031  76.33549558]\n",
      "new_threshold = 344.3125835968069\n"
     ]
    },
    {
     "data": {
      "application/vnd.jupyter.widget-view+json": {
       "model_id": "cc629ca0b906440da2b30a9e540322da",
       "version_major": 2,
       "version_minor": 0
      },
      "text/plain": [
       "HBox(children=(FloatProgress(value=1.0, bar_style='info', max=1.0), HTML(value='')))"
      ]
     },
     "metadata": {},
     "output_type": "display_data"
    },
    {
     "name": "stdout",
     "output_type": "stream",
     "text": [
      "\n"
     ]
    },
    {
     "data": {
      "application/vnd.jupyter.widget-view+json": {
       "model_id": "03f0190a31b44197a9a2000eebf81c45",
       "version_major": 2,
       "version_minor": 0
      },
      "text/plain": [
       "HBox(children=(FloatProgress(value=1.0, bar_style='info', max=1.0), HTML(value='')))"
      ]
     },
     "metadata": {},
     "output_type": "display_data"
    },
    {
     "name": "stdout",
     "output_type": "stream",
     "text": [
      "--> Not exactly one containing mesh: []\n",
      "--> Not exactly one containing mesh: [0 1]\n",
      "\n",
      "branch_touching_number = [1]\n",
      "branch_touching_number = [1, 14]\n",
      "most_branch_containing_piece = 1\n",
      "filtered_measurements = [103.71228651  91.42332818  99.8064282   83.95161879 136.08176799\n",
      " 137.55873074 151.37598735  73.46501871  70.32306414 117.25680448]\n",
      "new_threshold = 324.6479133559536\n"
     ]
    },
    {
     "data": {
      "application/vnd.jupyter.widget-view+json": {
       "model_id": "f8fd9babe9744dc8ba5e567f94b22fe1",
       "version_major": 2,
       "version_minor": 0
      },
      "text/plain": [
       "HBox(children=(FloatProgress(value=1.0, bar_style='info', max=1.0), HTML(value='')))"
      ]
     },
     "metadata": {},
     "output_type": "display_data"
    },
    {
     "name": "stdout",
     "output_type": "stream",
     "text": [
      "--> Not exactly one containing mesh: []\n",
      "THERE WERE NO FACES THAT FIT THE DISTANCE (324.6479133559536) and Z transform requirements\n",
      "So just skipping this edge\n",
      "\n"
     ]
    },
    {
     "data": {
      "application/vnd.jupyter.widget-view+json": {
       "model_id": "1fa13e2e3f3540d5bd37450d5236cf50",
       "version_major": 2,
       "version_minor": 0
      },
      "text/plain": [
       "HBox(children=(FloatProgress(value=1.0, bar_style='info', max=1.0), HTML(value='')))"
      ]
     },
     "metadata": {},
     "output_type": "display_data"
    },
    {
     "name": "stdout",
     "output_type": "stream",
     "text": [
      "\n",
      "filtered_measurements = [313.20900492  99.05427836 169.09841088]\n",
      "new_threshold = 969.1659692868093\n"
     ]
    },
    {
     "data": {
      "application/vnd.jupyter.widget-view+json": {
       "model_id": "63579be9f6cc4bbb86d82293f27a511c",
       "version_major": 2,
       "version_minor": 0
      },
      "text/plain": [
       "HBox(children=(FloatProgress(value=1.0, bar_style='info', max=1.0), HTML(value='')))"
      ]
     },
     "metadata": {},
     "output_type": "display_data"
    },
    {
     "name": "stdout",
     "output_type": "stream",
     "text": [
      "\n"
     ]
    },
    {
     "data": {
      "application/vnd.jupyter.widget-view+json": {
       "model_id": "0bdb130e0a8d4284af426ee2a2f6f6e4",
       "version_major": 2,
       "version_minor": 0
      },
      "text/plain": [
       "HBox(children=(FloatProgress(value=1.0, bar_style='info', max=1.0), HTML(value='')))"
      ]
     },
     "metadata": {},
     "output_type": "display_data"
    },
    {
     "name": "stdout",
     "output_type": "stream",
     "text": [
      "\n",
      "filtered_measurements = [140.90685389  94.88883741 111.06176245 119.1232853  101.77877616\n",
      " 152.48537695 116.81385933  91.63344855  80.57613623]\n",
      "new_threshold = 286.04147631735964\n"
     ]
    },
    {
     "data": {
      "application/vnd.jupyter.widget-view+json": {
       "model_id": "87edbd6e06a344f4ae50a88749343d19",
       "version_major": 2,
       "version_minor": 0
      },
      "text/plain": [
       "HBox(children=(FloatProgress(value=1.0, bar_style='info', max=1.0), HTML(value='')))"
      ]
     },
     "metadata": {},
     "output_type": "display_data"
    },
    {
     "name": "stdout",
     "output_type": "stream",
     "text": [
      "--> Not exactly one containing mesh: []\n",
      "\n",
      "branch_touching_number = [9]\n",
      "branch_touching_number = [9, 5]\n",
      "most_branch_containing_piece = 0\n"
     ]
    },
    {
     "data": {
      "application/vnd.jupyter.widget-view+json": {
       "model_id": "2233ac6e82314a6393026c877fa15126",
       "version_major": 2,
       "version_minor": 0
      },
      "text/plain": [
       "HBox(children=(FloatProgress(value=1.0, bar_style='info', max=1.0), HTML(value='')))"
      ]
     },
     "metadata": {},
     "output_type": "display_data"
    },
    {
     "name": "stdout",
     "output_type": "stream",
     "text": [
      "\n",
      "filtered_measurements = [669.21976847 739.6532433  830.90652874 684.01031724 852.74181572\n",
      " 653.9392255  631.7031957  605.97314777 664.09481023 865.707528\n",
      " 729.07052838 697.90105327 766.79534923 580.09691769 632.91727222\n",
      " 635.9224442  681.2333631  662.28181406 651.6802927  653.59291894\n",
      " 607.08391896 623.92274141 640.14132197 653.60703492]\n",
      "new_threshold = 1760.2934712951828\n"
     ]
    },
    {
     "data": {
      "application/vnd.jupyter.widget-view+json": {
       "model_id": "d5bde562c02f4f2c8400cb0d002dba75",
       "version_major": 2,
       "version_minor": 0
      },
      "text/plain": [
       "HBox(children=(FloatProgress(value=1.0, bar_style='info', max=1.0), HTML(value='')))"
      ]
     },
     "metadata": {},
     "output_type": "display_data"
    },
    {
     "name": "stdout",
     "output_type": "stream",
     "text": [
      "\n"
     ]
    },
    {
     "data": {
      "application/vnd.jupyter.widget-view+json": {
       "model_id": "3cf2c84668c14f0092308512520901a7",
       "version_major": 2,
       "version_minor": 0
      },
      "text/plain": [
       "HBox(children=(FloatProgress(value=1.0, bar_style='info', max=1.0), HTML(value='')))"
      ]
     },
     "metadata": {},
     "output_type": "display_data"
    },
    {
     "name": "stdout",
     "output_type": "stream",
     "text": [
      "\n",
      "filtered_measurements = [557.3065313  694.38422338 765.10387582 671.12327324 773.40053054]\n",
      "new_threshold = 1633.5240291903729\n"
     ]
    },
    {
     "data": {
      "application/vnd.jupyter.widget-view+json": {
       "model_id": "b5e2c997f58542b885297b747282bd54",
       "version_major": 2,
       "version_minor": 0
      },
      "text/plain": [
       "HBox(children=(FloatProgress(value=1.0, bar_style='info', max=1.0), HTML(value='')))"
      ]
     },
     "metadata": {},
     "output_type": "display_data"
    },
    {
     "name": "stdout",
     "output_type": "stream",
     "text": [
      "\n"
     ]
    },
    {
     "data": {
      "application/vnd.jupyter.widget-view+json": {
       "model_id": "0c61513a38f143d0a20330f133fec377",
       "version_major": 2,
       "version_minor": 0
      },
      "text/plain": [
       "HBox(children=(FloatProgress(value=1.0, bar_style='info', max=1.0), HTML(value='')))"
      ]
     },
     "metadata": {},
     "output_type": "display_data"
    },
    {
     "name": "stdout",
     "output_type": "stream",
     "text": [
      "\n",
      "filtered_measurements = [617.35410934 362.23201655 359.26089977 457.47529591 429.79392107\n",
      " 374.87522042]\n",
      "new_threshold = 1380.4940561229805\n"
     ]
    },
    {
     "data": {
      "application/vnd.jupyter.widget-view+json": {
       "model_id": "bc0e0af66b9d48f3bc15a084817b0a79",
       "version_major": 2,
       "version_minor": 0
      },
      "text/plain": [
       "HBox(children=(FloatProgress(value=1.0, bar_style='info', max=1.0), HTML(value='')))"
      ]
     },
     "metadata": {},
     "output_type": "display_data"
    },
    {
     "name": "stdout",
     "output_type": "stream",
     "text": [
      "\n"
     ]
    },
    {
     "data": {
      "application/vnd.jupyter.widget-view+json": {
       "model_id": "ec2b75bf32d04e9fb4f9ee1d0ce46096",
       "version_major": 2,
       "version_minor": 0
      },
      "text/plain": [
       "HBox(children=(FloatProgress(value=1.0, bar_style='info', max=1.0), HTML(value='')))"
      ]
     },
     "metadata": {},
     "output_type": "display_data"
    },
    {
     "name": "stdout",
     "output_type": "stream",
     "text": [
      "\n",
      "filtered_measurements = [721.32013795 484.86226779]\n",
      "new_threshold = 1527.1987758402374\n"
     ]
    },
    {
     "data": {
      "application/vnd.jupyter.widget-view+json": {
       "model_id": "996cf81e12b5418a8d6940eaed593bf7",
       "version_major": 2,
       "version_minor": 0
      },
      "text/plain": [
       "HBox(children=(FloatProgress(value=1.0, bar_style='info', max=1.0), HTML(value='')))"
      ]
     },
     "metadata": {},
     "output_type": "display_data"
    },
    {
     "name": "stdout",
     "output_type": "stream",
     "text": [
      "\n"
     ]
    },
    {
     "data": {
      "application/vnd.jupyter.widget-view+json": {
       "model_id": "74e584b6e09a4306899a215153c16d05",
       "version_major": 2,
       "version_minor": 0
      },
      "text/plain": [
       "HBox(children=(FloatProgress(value=1.0, bar_style='info', max=1.0), HTML(value='')))"
      ]
     },
     "metadata": {},
     "output_type": "display_data"
    },
    {
     "name": "stdout",
     "output_type": "stream",
     "text": [
      "\n",
      "filtered_measurements = [639.78989019 519.28247273 691.73171899 466.6179309  467.98181429\n",
      " 436.86549355 471.53765107 481.85387683 376.39665896 406.10431504\n",
      " 424.1283154  681.91517255 400.44823503 393.17203272 686.51991998\n",
      " 700.60937807 382.68675139 586.04982472]\n",
      "new_threshold = 1627.8101125210092\n"
     ]
    },
    {
     "data": {
      "application/vnd.jupyter.widget-view+json": {
       "model_id": "b5befd16128d4d41be35892cbedc3278",
       "version_major": 2,
       "version_minor": 0
      },
      "text/plain": [
       "HBox(children=(FloatProgress(value=1.0, bar_style='info', max=1.0), HTML(value='')))"
      ]
     },
     "metadata": {},
     "output_type": "display_data"
    },
    {
     "name": "stdout",
     "output_type": "stream",
     "text": [
      "\n"
     ]
    },
    {
     "data": {
      "application/vnd.jupyter.widget-view+json": {
       "model_id": "26b76f6b473a47d8bf3af4847fd2504f",
       "version_major": 2,
       "version_minor": 0
      },
      "text/plain": [
       "HBox(children=(FloatProgress(value=1.0, bar_style='info', max=1.0), HTML(value='')))"
      ]
     },
     "metadata": {},
     "output_type": "display_data"
    },
    {
     "name": "stdout",
     "output_type": "stream",
     "text": [
      "--> Not exactly one containing mesh: []\n",
      "\n",
      "filtered_measurements = [203.64842233 129.59851068 272.76776916 213.2078933  129.89026306\n",
      " 147.06804823 249.21413019]\n",
      "new_threshold = 595.3157812478174\n"
     ]
    },
    {
     "data": {
      "application/vnd.jupyter.widget-view+json": {
       "model_id": "afe109f7b9af456a91ab380cc5ddaa87",
       "version_major": 2,
       "version_minor": 0
      },
      "text/plain": [
       "HBox(children=(FloatProgress(value=1.0, bar_style='info', max=1.0), HTML(value='')))"
      ]
     },
     "metadata": {},
     "output_type": "display_data"
    },
    {
     "name": "stdout",
     "output_type": "stream",
     "text": [
      "--> Not exactly one containing mesh: []\n",
      "--> Not exactly one containing mesh: []\n",
      "\n",
      "branch_touching_number = [8]\n",
      "branch_touching_number = [8, 2]\n",
      "most_branch_containing_piece = 0\n"
     ]
    },
    {
     "data": {
      "application/vnd.jupyter.widget-view+json": {
       "model_id": "92f1a83ca3454405ace827a5594557fb",
       "version_major": 2,
       "version_minor": 0
      },
      "text/plain": [
       "HBox(children=(FloatProgress(value=1.0, bar_style='info', max=1.0), HTML(value='')))"
      ]
     },
     "metadata": {},
     "output_type": "display_data"
    },
    {
     "name": "stdout",
     "output_type": "stream",
     "text": [
      "--> Not exactly one containing mesh: []\n",
      "\n",
      "filtered_measurements = [153.31684048  79.21828421 135.32239681 135.28982349 113.18571707\n",
      " 123.65920411]\n",
      "new_threshold = 345.35048862350806\n"
     ]
    },
    {
     "data": {
      "application/vnd.jupyter.widget-view+json": {
       "model_id": "facad85e0c344cbb813288a347d76861",
       "version_major": 2,
       "version_minor": 0
      },
      "text/plain": [
       "HBox(children=(FloatProgress(value=1.0, bar_style='info', max=1.0), HTML(value='')))"
      ]
     },
     "metadata": {},
     "output_type": "display_data"
    },
    {
     "name": "stdout",
     "output_type": "stream",
     "text": [
      "--> Not exactly one containing mesh: []\n",
      "--> Not exactly one containing mesh: []\n",
      "\n"
     ]
    },
    {
     "data": {
      "application/vnd.jupyter.widget-view+json": {
       "model_id": "3590fcc8d09b4f6d8798c240ca6e0717",
       "version_major": 2,
       "version_minor": 0
      },
      "text/plain": [
       "HBox(children=(FloatProgress(value=1.0, bar_style='info', max=1.0), HTML(value='')))"
      ]
     },
     "metadata": {},
     "output_type": "display_data"
    },
    {
     "name": "stdout",
     "output_type": "stream",
     "text": [
      "\n",
      "filtered_measurements = [919.96462216 639.63074965]\n",
      "new_threshold = 1995.6920315053983\n"
     ]
    },
    {
     "data": {
      "application/vnd.jupyter.widget-view+json": {
       "model_id": "5a4231325cd04e4882f9ed8ce95c949d",
       "version_major": 2,
       "version_minor": 0
      },
      "text/plain": [
       "HBox(children=(FloatProgress(value=1.0, bar_style='info', max=1.0), HTML(value='')))"
      ]
     },
     "metadata": {},
     "output_type": "display_data"
    },
    {
     "name": "stdout",
     "output_type": "stream",
     "text": [
      "\n"
     ]
    },
    {
     "data": {
      "application/vnd.jupyter.widget-view+json": {
       "model_id": "1b3accf386404a90938b767066ce2040",
       "version_major": 2,
       "version_minor": 0
      },
      "text/plain": [
       "HBox(children=(FloatProgress(value=1.0, bar_style='info', max=1.0), HTML(value='')))"
      ]
     },
     "metadata": {},
     "output_type": "display_data"
    },
    {
     "name": "stdout",
     "output_type": "stream",
     "text": [
      "\n",
      "filtered_measurements = [648.85128716 405.16399971 696.4207946 ]\n",
      "new_threshold = 1658.0745161604468\n"
     ]
    },
    {
     "data": {
      "application/vnd.jupyter.widget-view+json": {
       "model_id": "3fa872786bd24d1d9cb55674481619ad",
       "version_major": 2,
       "version_minor": 0
      },
      "text/plain": [
       "HBox(children=(FloatProgress(value=1.0, bar_style='info', max=1.0), HTML(value='')))"
      ]
     },
     "metadata": {},
     "output_type": "display_data"
    },
    {
     "name": "stdout",
     "output_type": "stream",
     "text": [
      "\n"
     ]
    },
    {
     "data": {
      "application/vnd.jupyter.widget-view+json": {
       "model_id": "eceb2932f19545478129df5236126116",
       "version_major": 2,
       "version_minor": 0
      },
      "text/plain": [
       "HBox(children=(FloatProgress(value=1.0, bar_style='info', max=1.0), HTML(value='')))"
      ]
     },
     "metadata": {},
     "output_type": "display_data"
    },
    {
     "name": "stdout",
     "output_type": "stream",
     "text": [
      "\n",
      "filtered_measurements = [605.72829387 488.79295855 648.12215013 618.42393865 529.96765566\n",
      " 437.9023475  380.8791611  452.04154012 465.00647737 533.53339302\n",
      " 676.36982811 612.40550945 801.3333386  486.90866608 544.19953156\n",
      " 636.82188138 409.35201147 757.40905306 766.1674915  406.51247128\n",
      " 424.21094446 476.75544886 450.85534799 350.50860244 478.08139977]\n",
      "new_threshold = 1835.3657907411628\n"
     ]
    },
    {
     "data": {
      "application/vnd.jupyter.widget-view+json": {
       "model_id": "03d3728606554cd6be3389def497f665",
       "version_major": 2,
       "version_minor": 0
      },
      "text/plain": [
       "HBox(children=(FloatProgress(value=1.0, bar_style='info', max=1.0), HTML(value='')))"
      ]
     },
     "metadata": {},
     "output_type": "display_data"
    },
    {
     "name": "stdout",
     "output_type": "stream",
     "text": [
      "\n"
     ]
    },
    {
     "data": {
      "application/vnd.jupyter.widget-view+json": {
       "model_id": "9e6981e137354bac84b40f3a25c9da65",
       "version_major": 2,
       "version_minor": 0
      },
      "text/plain": [
       "HBox(children=(FloatProgress(value=1.0, bar_style='info', max=1.0), HTML(value='')))"
      ]
     },
     "metadata": {},
     "output_type": "display_data"
    },
    {
     "name": "stdout",
     "output_type": "stream",
     "text": [
      "--> Not exactly one containing mesh: []\n",
      "\n",
      "filtered_measurements = [ 92.41201149  89.36933515  81.0683558   70.40933946 125.84761999\n",
      "  93.36964127 103.77327547  96.76093766  89.29865613 100.1755728 ]\n",
      "new_threshold = 277.76920702967846\n"
     ]
    },
    {
     "data": {
      "application/vnd.jupyter.widget-view+json": {
       "model_id": "513376d6675540b4a6e76977ff009a4e",
       "version_major": 2,
       "version_minor": 0
      },
      "text/plain": [
       "HBox(children=(FloatProgress(value=1.0, bar_style='info', max=1.0), HTML(value='')))"
      ]
     },
     "metadata": {},
     "output_type": "display_data"
    },
    {
     "name": "stdout",
     "output_type": "stream",
     "text": [
      "--> Not exactly one containing mesh: []\n",
      "\n"
     ]
    },
    {
     "data": {
      "application/vnd.jupyter.widget-view+json": {
       "model_id": "c16b6e351e3843838d435a72e5cc8488",
       "version_major": 2,
       "version_minor": 0
      },
      "text/plain": [
       "HBox(children=(FloatProgress(value=1.0, bar_style='info', max=1.0), HTML(value='')))"
      ]
     },
     "metadata": {},
     "output_type": "display_data"
    },
    {
     "name": "stdout",
     "output_type": "stream",
     "text": [
      "--> Not exactly one containing mesh: []\n",
      "\n",
      "filtered_measurements = [127.47268851 118.74574505 130.15117937  82.9401009 ]\n",
      "new_threshold = 311.2829208951159\n"
     ]
    },
    {
     "data": {
      "application/vnd.jupyter.widget-view+json": {
       "model_id": "a06c84868be84ee49b3af61623cf0415",
       "version_major": 2,
       "version_minor": 0
      },
      "text/plain": [
       "HBox(children=(FloatProgress(value=1.0, bar_style='info', max=1.0), HTML(value='')))"
      ]
     },
     "metadata": {},
     "output_type": "display_data"
    },
    {
     "name": "stdout",
     "output_type": "stream",
     "text": [
      "--> Not exactly one containing mesh: []\n",
      "\n"
     ]
    },
    {
     "data": {
      "application/vnd.jupyter.widget-view+json": {
       "model_id": "34a00c36238e459baef816d84e69d5a5",
       "version_major": 2,
       "version_minor": 0
      },
      "text/plain": [
       "HBox(children=(FloatProgress(value=1.0, bar_style='info', max=1.0), HTML(value='')))"
      ]
     },
     "metadata": {},
     "output_type": "display_data"
    },
    {
     "name": "stdout",
     "output_type": "stream",
     "text": [
      "\n",
      "filtered_measurements = [ 520.27743884 1451.67590972]\n",
      "new_threshold = 3354.311094721275\n"
     ]
    },
    {
     "data": {
      "application/vnd.jupyter.widget-view+json": {
       "model_id": "5f33d66ff9bb44c0add24d829a296ea4",
       "version_major": 2,
       "version_minor": 0
      },
      "text/plain": [
       "HBox(children=(FloatProgress(value=1.0, bar_style='info', max=1.0), HTML(value='')))"
      ]
     },
     "metadata": {},
     "output_type": "display_data"
    },
    {
     "name": "stdout",
     "output_type": "stream",
     "text": [
      "\n"
     ]
    },
    {
     "data": {
      "application/vnd.jupyter.widget-view+json": {
       "model_id": "2922d687ae644137a1a0b2071cb9f449",
       "version_major": 2,
       "version_minor": 0
      },
      "text/plain": [
       "HBox(children=(FloatProgress(value=1.0, bar_style='info', max=1.0), HTML(value='')))"
      ]
     },
     "metadata": {},
     "output_type": "display_data"
    },
    {
     "name": "stdout",
     "output_type": "stream",
     "text": [
      "\n",
      "filtered_measurements = [414.75001055 324.19777874 575.61102127 427.23717621 427.66688578\n",
      " 618.52703299 325.95651748 363.17193575 407.95048133 428.56136396\n",
      " 292.42828399 315.10528734 440.45082768 611.16332026 351.35100626\n",
      " 650.66883234 648.11749612 417.51292988 588.28080921 581.70975979\n",
      " 371.33555158 497.47153305 396.50052046 465.35207756 276.3657672\n",
      " 220.74804288 249.82523852 553.84988524 480.42979766 280.78018958\n",
      " 370.50631037 539.84690425 471.6689359  512.08305964 316.92654696\n",
      " 272.857159   338.27765209 300.10448334 481.06760195 513.87928731\n",
      " 615.74910255 373.61205763 647.96463471 627.49495955 317.24925364\n",
      " 427.73405973 524.59236786]\n",
      "new_threshold = 1594.3663218602414\n"
     ]
    },
    {
     "data": {
      "application/vnd.jupyter.widget-view+json": {
       "model_id": "ae66499a0f184d19bb514c38b5debada",
       "version_major": 2,
       "version_minor": 0
      },
      "text/plain": [
       "HBox(children=(FloatProgress(value=1.0, bar_style='info', max=1.0), HTML(value='')))"
      ]
     },
     "metadata": {},
     "output_type": "display_data"
    },
    {
     "name": "stdout",
     "output_type": "stream",
     "text": [
      "\n"
     ]
    },
    {
     "data": {
      "application/vnd.jupyter.widget-view+json": {
       "model_id": "51a111c94da24b8d8aaf508950e90891",
       "version_major": 2,
       "version_minor": 0
      },
      "text/plain": [
       "HBox(children=(FloatProgress(value=1.0, bar_style='info', max=1.0), HTML(value='')))"
      ]
     },
     "metadata": {},
     "output_type": "display_data"
    },
    {
     "name": "stdout",
     "output_type": "stream",
     "text": [
      "\n",
      "filtered_measurements = [1227.8511744]\n",
      "new_threshold = 2848.041012869144\n"
     ]
    },
    {
     "data": {
      "application/vnd.jupyter.widget-view+json": {
       "model_id": "5aa11bba5f60466fb6594c3026a2ccc4",
       "version_major": 2,
       "version_minor": 0
      },
      "text/plain": [
       "HBox(children=(FloatProgress(value=1.0, bar_style='info', max=1.0), HTML(value='')))"
      ]
     },
     "metadata": {},
     "output_type": "display_data"
    },
    {
     "name": "stdout",
     "output_type": "stream",
     "text": [
      "\n",
      "\n",
      "Working on limb #4\n"
     ]
    },
    {
     "data": {
      "application/vnd.jupyter.widget-view+json": {
       "model_id": "1dee58b378614ef7bbb52d4ef0033df7",
       "version_major": 2,
       "version_minor": 0
      },
      "text/plain": [
       "HBox(children=(FloatProgress(value=1.0, bar_style='info', max=1.0), HTML(value='')))"
      ]
     },
     "metadata": {},
     "output_type": "display_data"
    },
    {
     "data": {
      "application/vnd.jupyter.widget-view+json": {
       "model_id": "754922ee066d465db2d1083dfd33db83",
       "version_major": 2,
       "version_minor": 0
      },
      "text/plain": [
       "HBox(children=(FloatProgress(value=1.0, bar_style='info', max=1.0), HTML(value='')))"
      ]
     },
     "metadata": {},
     "output_type": "display_data"
    },
    {
     "name": "stdout",
     "output_type": "stream",
     "text": [
      "\n",
      "filtered_measurements = [282.60393983 365.14844272 426.20145053 321.6399996  353.16717229\n",
      " 331.60153621 553.06771073 481.10337823 207.3866449  458.97735636\n",
      " 331.64936583 392.88480814 488.78606361 467.4481641  447.29621007\n",
      " 245.04273525 242.56763445 311.34709797 454.71124193 246.7736706\n",
      " 286.43189078 379.78316925 443.22366571 287.01716338 381.87724954\n",
      " 363.29952291 235.44294436 445.17080579 502.67954094 448.05316185\n",
      " 302.709911   353.93851612 295.83859298 255.12060705 220.60585209\n",
      " 282.55628429 188.58941394 271.19885533 242.88374962 290.04159623\n",
      " 376.86423053 226.06697706]\n",
      "new_threshold = 1269.11406564556\n"
     ]
    },
    {
     "data": {
      "application/vnd.jupyter.widget-view+json": {
       "model_id": "448b157de62e4a8abe7c65412b8b569c",
       "version_major": 2,
       "version_minor": 0
      },
      "text/plain": [
       "HBox(children=(FloatProgress(value=1.0, bar_style='info', max=1.0), HTML(value='')))"
      ]
     },
     "metadata": {},
     "output_type": "display_data"
    },
    {
     "name": "stdout",
     "output_type": "stream",
     "text": [
      "\n"
     ]
    },
    {
     "data": {
      "application/vnd.jupyter.widget-view+json": {
       "model_id": "d001625a238240dfb52ba9a506cf6e48",
       "version_major": 2,
       "version_minor": 0
      },
      "text/plain": [
       "HBox(children=(FloatProgress(value=1.0, bar_style='info', max=1.0), HTML(value='')))"
      ]
     },
     "metadata": {},
     "output_type": "display_data"
    },
    {
     "name": "stdout",
     "output_type": "stream",
     "text": [
      "--> Not exactly one containing mesh: []\n",
      "--> Not exactly one containing mesh: []\n",
      "--> Not exactly one containing mesh: []\n",
      "--> Not exactly one containing mesh: []\n",
      "\n",
      "filtered_measurements = [133.55343107  87.66209066  64.49854542  53.95651917 103.92486952\n",
      "  79.22267855  69.73931369  67.83888759  75.80762674 118.53773572]\n",
      "new_threshold = 298.012647371379\n"
     ]
    },
    {
     "data": {
      "application/vnd.jupyter.widget-view+json": {
       "model_id": "fad672c28cb147f1a7e40ccf602d00a9",
       "version_major": 2,
       "version_minor": 0
      },
      "text/plain": [
       "HBox(children=(FloatProgress(value=1.0, bar_style='info', max=1.0), HTML(value='')))"
      ]
     },
     "metadata": {},
     "output_type": "display_data"
    },
    {
     "name": "stdout",
     "output_type": "stream",
     "text": [
      "--> Not exactly one containing mesh: []\n",
      "--> Not exactly one containing mesh: []\n",
      "--> Not exactly one containing mesh: []\n",
      "--> Not exactly one containing mesh: []\n",
      "\n",
      "branch_touching_number = [15]\n",
      "branch_touching_number = [15, 1]\n",
      "most_branch_containing_piece = 0\n"
     ]
    },
    {
     "data": {
      "application/vnd.jupyter.widget-view+json": {
       "model_id": "c6478622ef88421b871115e5ad30501a",
       "version_major": 2,
       "version_minor": 0
      },
      "text/plain": [
       "HBox(children=(FloatProgress(value=1.0, bar_style='info', max=1.0), HTML(value='')))"
      ]
     },
     "metadata": {},
     "output_type": "display_data"
    },
    {
     "name": "stdout",
     "output_type": "stream",
     "text": [
      "\n",
      "filtered_measurements = [ 72.35217159  92.82938641 147.22676486 308.22330973 123.37079695\n",
      " 219.94159901 326.71253615 173.51230079 212.13638605 152.82577512\n",
      " 243.39711677 253.22082868 299.32925346 311.83521625 237.854002\n",
      " 128.44930825 163.14643445 182.44296897 165.40903203 233.55480501\n",
      " 238.64450806 340.6564216  347.1478648  195.5247443  238.5776444\n",
      " 225.26581713 320.6346613  330.97507011 275.9757035  208.88576479\n",
      " 257.53891521 296.70354937 187.99736778 171.3595884  201.77022778\n",
      " 315.4825881  249.12429905 175.43242589 180.88745861 202.27041975\n",
      " 191.30325214]\n",
      "new_threshold = 720.5780003243303\n"
     ]
    },
    {
     "data": {
      "application/vnd.jupyter.widget-view+json": {
       "model_id": "14bb417706db42cc82ea21f64d1f5a49",
       "version_major": 2,
       "version_minor": 0
      },
      "text/plain": [
       "HBox(children=(FloatProgress(value=1.0, bar_style='info', max=1.0), HTML(value='')))"
      ]
     },
     "metadata": {},
     "output_type": "display_data"
    },
    {
     "name": "stdout",
     "output_type": "stream",
     "text": [
      "\n"
     ]
    },
    {
     "data": {
      "application/vnd.jupyter.widget-view+json": {
       "model_id": "6ea0be41052f41a8b4ef23f51388d257",
       "version_major": 2,
       "version_minor": 0
      },
      "text/plain": [
       "HBox(children=(FloatProgress(value=1.0, bar_style='info', max=1.0), HTML(value='')))"
      ]
     },
     "metadata": {},
     "output_type": "display_data"
    },
    {
     "name": "stdout",
     "output_type": "stream",
     "text": [
      "--> Not exactly one containing mesh: []\n",
      "\n",
      "filtered_measurements = [ 94.25090731  57.64319677  91.7729334  116.69198054 101.32295649\n",
      " 117.00505815 171.33698144 117.23750064 139.72645005 139.1563712\n",
      "  88.76569839 112.49493884 104.33648802 131.46635148 138.59565793\n",
      " 110.89966904  89.26628217  89.99311254 107.71151309 103.48458383\n",
      " 100.44824717 153.0200152  130.69355154 143.00171642 119.81192713\n",
      " 189.75076503 180.95051744 148.68762118 110.01483046 162.08233833\n",
      " 148.4803312  170.14882749 108.25186724 126.65037584 129.35985715\n",
      " 103.01068245 133.69590139 139.84959768 143.90209448 124.45374042]\n",
      "new_threshold = 356.52701683709165\n"
     ]
    },
    {
     "data": {
      "application/vnd.jupyter.widget-view+json": {
       "model_id": "9cc4cdda69a9437eab1b8ca92e8fd20b",
       "version_major": 2,
       "version_minor": 0
      },
      "text/plain": [
       "HBox(children=(FloatProgress(value=1.0, bar_style='info', max=1.0), HTML(value='')))"
      ]
     },
     "metadata": {},
     "output_type": "display_data"
    },
    {
     "name": "stdout",
     "output_type": "stream",
     "text": [
      "--> Not exactly one containing mesh: []\n",
      "\n"
     ]
    },
    {
     "data": {
      "application/vnd.jupyter.widget-view+json": {
       "model_id": "c4c7d7e6cceb4dac95504548e331f127",
       "version_major": 2,
       "version_minor": 0
      },
      "text/plain": [
       "HBox(children=(FloatProgress(value=1.0, bar_style='info', max=1.0), HTML(value='')))"
      ]
     },
     "metadata": {},
     "output_type": "display_data"
    },
    {
     "name": "stdout",
     "output_type": "stream",
     "text": [
      "\n",
      "filtered_measurements = [998.53868822 894.73071584 526.31241877 640.64962038]\n",
      "new_threshold = 1804.3477225143622\n"
     ]
    },
    {
     "data": {
      "application/vnd.jupyter.widget-view+json": {
       "model_id": "f0c244f2357c4d52841c6235449f79f6",
       "version_major": 2,
       "version_minor": 0
      },
      "text/plain": [
       "HBox(children=(FloatProgress(value=1.0, bar_style='info', max=1.0), HTML(value='')))"
      ]
     },
     "metadata": {},
     "output_type": "display_data"
    },
    {
     "name": "stdout",
     "output_type": "stream",
     "text": [
      "\n"
     ]
    },
    {
     "data": {
      "application/vnd.jupyter.widget-view+json": {
       "model_id": "4b79baf793574619830a8dc6e0064cfe",
       "version_major": 2,
       "version_minor": 0
      },
      "text/plain": [
       "HBox(children=(FloatProgress(value=1.0, bar_style='info', max=1.0), HTML(value='')))"
      ]
     },
     "metadata": {},
     "output_type": "display_data"
    },
    {
     "name": "stdout",
     "output_type": "stream",
     "text": [
      "\n",
      "filtered_measurements = [711.43025065 621.36763698 645.21549267 698.31006942 688.30431851\n",
      " 693.2275722  786.1135951  789.5001591  765.95416647 679.55867664\n",
      " 577.68408314 653.33331432 907.1938582  798.58193054]\n",
      "new_threshold = 1815.5894306555597\n"
     ]
    },
    {
     "data": {
      "application/vnd.jupyter.widget-view+json": {
       "model_id": "442672c2823e466ab24fde82a1625ce9",
       "version_major": 2,
       "version_minor": 0
      },
      "text/plain": [
       "HBox(children=(FloatProgress(value=1.0, bar_style='info', max=1.0), HTML(value='')))"
      ]
     },
     "metadata": {},
     "output_type": "display_data"
    },
    {
     "name": "stdout",
     "output_type": "stream",
     "text": [
      "\n"
     ]
    },
    {
     "data": {
      "application/vnd.jupyter.widget-view+json": {
       "model_id": "e090591236b64774a13da897917bf730",
       "version_major": 2,
       "version_minor": 0
      },
      "text/plain": [
       "HBox(children=(FloatProgress(value=1.0, bar_style='info', max=1.0), HTML(value='')))"
      ]
     },
     "metadata": {},
     "output_type": "display_data"
    },
    {
     "name": "stdout",
     "output_type": "stream",
     "text": [
      "--> Not exactly one containing mesh: []\n",
      "\n",
      "filtered_measurements = [115.41703723  73.59017259  95.3036058   71.32740601  59.15149244\n",
      "  97.01883203 126.60843425]\n",
      "new_threshold = 226.0600680595329\n"
     ]
    },
    {
     "data": {
      "application/vnd.jupyter.widget-view+json": {
       "model_id": "3555b8bde4254de29df1634b433807df",
       "version_major": 2,
       "version_minor": 0
      },
      "text/plain": [
       "HBox(children=(FloatProgress(value=1.0, bar_style='info', max=1.0), HTML(value='')))"
      ]
     },
     "metadata": {},
     "output_type": "display_data"
    },
    {
     "name": "stdout",
     "output_type": "stream",
     "text": [
      "--> Not exactly one containing mesh: []\n",
      "--> Not exactly one containing mesh: []\n",
      "--> Not exactly one containing mesh: []\n",
      "THERE WERE NO FACES THAT FIT THE DISTANCE (226.0600680595329) and Z transform requirements\n",
      "So just skipping this edge\n",
      "\n",
      "branch_touching_number = [6]\n",
      "branch_touching_number = [6, 4]\n",
      "branch_touching_number = [6, 4, 1]\n",
      "most_branch_containing_piece = 0\n"
     ]
    },
    {
     "data": {
      "application/vnd.jupyter.widget-view+json": {
       "model_id": "120892c03b594f38bcb7279f8fb860a5",
       "version_major": 2,
       "version_minor": 0
      },
      "text/plain": [
       "HBox(children=(FloatProgress(value=1.0, bar_style='info', max=1.0), HTML(value='')))"
      ]
     },
     "metadata": {},
     "output_type": "display_data"
    },
    {
     "name": "stdout",
     "output_type": "stream",
     "text": [
      "\n",
      "filtered_measurements = [507.4034803  527.83899438 693.03827428]\n",
      "new_threshold = 1399.1259110467795\n"
     ]
    },
    {
     "data": {
      "application/vnd.jupyter.widget-view+json": {
       "model_id": "20059db789054bd4bac5cb42a38fc331",
       "version_major": 2,
       "version_minor": 0
      },
      "text/plain": [
       "HBox(children=(FloatProgress(value=1.0, bar_style='info', max=1.0), HTML(value='')))"
      ]
     },
     "metadata": {},
     "output_type": "display_data"
    },
    {
     "name": "stdout",
     "output_type": "stream",
     "text": [
      "\n"
     ]
    },
    {
     "data": {
      "application/vnd.jupyter.widget-view+json": {
       "model_id": "133048fdcfd648c9afd7259ed1f238d5",
       "version_major": 2,
       "version_minor": 0
      },
      "text/plain": [
       "HBox(children=(FloatProgress(value=1.0, bar_style='info', max=1.0), HTML(value='')))"
      ]
     },
     "metadata": {},
     "output_type": "display_data"
    },
    {
     "name": "stdout",
     "output_type": "stream",
     "text": [
      "\n",
      "filtered_measurements = [444.15860051 540.84933481 504.27423349]\n",
      "new_threshold = 980.9394403722401\n"
     ]
    },
    {
     "data": {
      "application/vnd.jupyter.widget-view+json": {
       "model_id": "393beb7df4334f1a9270c4f7724777d5",
       "version_major": 2,
       "version_minor": 0
      },
      "text/plain": [
       "HBox(children=(FloatProgress(value=1.0, bar_style='info', max=1.0), HTML(value='')))"
      ]
     },
     "metadata": {},
     "output_type": "display_data"
    },
    {
     "name": "stdout",
     "output_type": "stream",
     "text": [
      "\n"
     ]
    },
    {
     "data": {
      "application/vnd.jupyter.widget-view+json": {
       "model_id": "5240b6fd658047a1b597fc7b1010c721",
       "version_major": 2,
       "version_minor": 0
      },
      "text/plain": [
       "HBox(children=(FloatProgress(value=1.0, bar_style='info', max=1.0), HTML(value='')))"
      ]
     },
     "metadata": {},
     "output_type": "display_data"
    },
    {
     "name": "stdout",
     "output_type": "stream",
     "text": [
      "\n",
      "filtered_measurements = [147.50558566 179.33412796 264.24538034 279.9232759  360.6913663\n",
      " 357.48539319 249.93478718 192.52369472 318.206199   364.65152755\n",
      " 179.55091174 307.37092209 233.700998   375.90941106 291.27446582\n",
      " 259.86676028 205.87986116 179.22502408 315.49507485 420.84874534\n",
      " 242.06424267 394.3615545  302.00852932 261.39583215 165.17511327\n",
      " 281.17604078 360.7662818  209.26060363 134.36355483 243.70066139\n",
      " 396.08795186 212.71485108 302.29632129 387.34921827 238.38404896\n",
      " 207.66786858 325.90305623 153.21442881 224.54717842 178.39538237\n",
      " 366.20492631 307.00206791 237.67893943 407.58963203 129.68954588\n",
      " 213.03005627 308.93813037 318.41583161 164.46137839 164.44614832\n",
      " 225.74916037]\n",
      "new_threshold = 1122.546798153784\n"
     ]
    },
    {
     "data": {
      "application/vnd.jupyter.widget-view+json": {
       "model_id": "8039b218e04f4cea81a359658d45a2da",
       "version_major": 2,
       "version_minor": 0
      },
      "text/plain": [
       "HBox(children=(FloatProgress(value=1.0, bar_style='info', max=1.0), HTML(value='')))"
      ]
     },
     "metadata": {},
     "output_type": "display_data"
    },
    {
     "name": "stdout",
     "output_type": "stream",
     "text": [
      "\n"
     ]
    },
    {
     "data": {
      "application/vnd.jupyter.widget-view+json": {
       "model_id": "e45210f0545a4e8794d34818d57ad2bf",
       "version_major": 2,
       "version_minor": 0
      },
      "text/plain": [
       "HBox(children=(FloatProgress(value=1.0, bar_style='info', max=1.0), HTML(value='')))"
      ]
     },
     "metadata": {},
     "output_type": "display_data"
    },
    {
     "name": "stdout",
     "output_type": "stream",
     "text": [
      "\n",
      "filtered_measurements = [232.8089723  235.7983881  246.54226914 398.18226739 469.06857616\n",
      " 229.50965217 332.05491267 290.90400995 242.94992096 213.8105016\n",
      " 442.0511675  303.37635557 283.99263931 264.18225912 330.79078986\n",
      " 363.51755929 346.20956476 303.69814385]\n",
      "new_threshold = 1033.1952427494145\n"
     ]
    },
    {
     "data": {
      "application/vnd.jupyter.widget-view+json": {
       "model_id": "25183547acc74d448ae6065c72c6bdec",
       "version_major": 2,
       "version_minor": 0
      },
      "text/plain": [
       "HBox(children=(FloatProgress(value=1.0, bar_style='info', max=1.0), HTML(value='')))"
      ]
     },
     "metadata": {},
     "output_type": "display_data"
    },
    {
     "name": "stdout",
     "output_type": "stream",
     "text": [
      "\n"
     ]
    },
    {
     "data": {
      "application/vnd.jupyter.widget-view+json": {
       "model_id": "decc89d24c1c4a709f806777fba3342c",
       "version_major": 2,
       "version_minor": 0
      },
      "text/plain": [
       "HBox(children=(FloatProgress(value=1.0, bar_style='info', max=1.0), HTML(value='')))"
      ]
     },
     "metadata": {},
     "output_type": "display_data"
    },
    {
     "name": "stdout",
     "output_type": "stream",
     "text": [
      "\n",
      "filtered_measurements = [364.58001951 395.01436267 629.49026444 396.84667839 458.11911826\n",
      " 393.79241751 535.09102036 593.43783239 366.73667478 400.1813998\n",
      " 340.93458898 405.06898114 428.99213676 372.02859896 383.55435433\n",
      " 388.24540783 354.29271598 303.58408758 473.20260103 415.45931105\n",
      " 649.28412839 476.75912375 570.81398097 447.77897484 502.49476767\n",
      " 471.20804991]\n",
      "new_threshold = 1464.6777557114\n"
     ]
    },
    {
     "data": {
      "application/vnd.jupyter.widget-view+json": {
       "model_id": "9ea60f23e260433fa1d2ee776e299aaf",
       "version_major": 2,
       "version_minor": 0
      },
      "text/plain": [
       "HBox(children=(FloatProgress(value=1.0, bar_style='info', max=1.0), HTML(value='')))"
      ]
     },
     "metadata": {},
     "output_type": "display_data"
    },
    {
     "name": "stdout",
     "output_type": "stream",
     "text": [
      "\n"
     ]
    },
    {
     "data": {
      "application/vnd.jupyter.widget-view+json": {
       "model_id": "7dbb57086df5453a81890ff91cbcaf57",
       "version_major": 2,
       "version_minor": 0
      },
      "text/plain": [
       "HBox(children=(FloatProgress(value=1.0, bar_style='info', max=1.0), HTML(value='')))"
      ]
     },
     "metadata": {},
     "output_type": "display_data"
    },
    {
     "name": "stdout",
     "output_type": "stream",
     "text": [
      "--> Not exactly one containing mesh: []\n",
      "\n",
      "branch_touching_number = [23]\n",
      "branch_touching_number = [23, 1]\n",
      "most_branch_containing_piece = 0\n",
      "filtered_measurements = [ 90.56962997 108.77951743 120.48204086  95.62219592  65.60613343\n",
      "  55.56094843  54.02823953  90.3375835   64.60587053  71.0988646\n",
      "  84.17956023  53.57175657  52.58271571  70.75711033 120.21137541\n",
      "  95.60135027  82.43762132 117.22122088  92.54160534]\n",
      "new_threshold = 243.1814857156772\n"
     ]
    },
    {
     "data": {
      "application/vnd.jupyter.widget-view+json": {
       "model_id": "1d9efed426bc421f87a95561a5b8e23e",
       "version_major": 2,
       "version_minor": 0
      },
      "text/plain": [
       "HBox(children=(FloatProgress(value=1.0, bar_style='info', max=1.0), HTML(value='')))"
      ]
     },
     "metadata": {},
     "output_type": "display_data"
    },
    {
     "name": "stdout",
     "output_type": "stream",
     "text": [
      "--> Not exactly one containing mesh: []\n",
      "THERE WERE NO FACES THAT FIT THE DISTANCE (243.1814857156772) and Z transform requirements\n",
      "So just skipping this edge\n",
      "\n"
     ]
    },
    {
     "data": {
      "application/vnd.jupyter.widget-view+json": {
       "model_id": "8f2585f2a87b4a388e17ed5c4c739485",
       "version_major": 2,
       "version_minor": 0
      },
      "text/plain": [
       "HBox(children=(FloatProgress(value=1.0, bar_style='info', max=1.0), HTML(value='')))"
      ]
     },
     "metadata": {},
     "output_type": "display_data"
    },
    {
     "name": "stdout",
     "output_type": "stream",
     "text": [
      "\n",
      "filtered_measurements = [378.73846141 669.93989571 499.34477286 334.87835896 320.27519937\n",
      " 343.44982641 433.18034896 373.80712666 704.10821826 564.57320092\n",
      " 343.2174879  474.36256901 393.81113067 662.88105093 619.00381404\n",
      " 650.71457695 446.88838947 476.51517438 565.07679269 656.89136309\n",
      " 716.16066169 518.30839635 396.74408279 442.32979102 399.09987621\n",
      " 451.3367458  580.60753887 533.79666885 773.17528054 503.66895715\n",
      " 587.83771222 590.27714629 476.02660175 608.1784813  524.74953883\n",
      " 337.09584859 447.55238244 406.01552648 525.19939931 501.23058837\n",
      " 785.3669537  760.44351146]\n",
      "new_threshold = 1879.6980636227954\n"
     ]
    },
    {
     "data": {
      "application/vnd.jupyter.widget-view+json": {
       "model_id": "0ff2e7bc6c73400389ea6c3a25cb2de1",
       "version_major": 2,
       "version_minor": 0
      },
      "text/plain": [
       "HBox(children=(FloatProgress(value=1.0, bar_style='info', max=1.0), HTML(value='')))"
      ]
     },
     "metadata": {},
     "output_type": "display_data"
    },
    {
     "name": "stdout",
     "output_type": "stream",
     "text": [
      "\n"
     ]
    },
    {
     "data": {
      "application/vnd.jupyter.widget-view+json": {
       "model_id": "2a516a2d5bfe4726bbe54b4af93b749d",
       "version_major": 2,
       "version_minor": 0
      },
      "text/plain": [
       "HBox(children=(FloatProgress(value=1.0, bar_style='info', max=1.0), HTML(value='')))"
      ]
     },
     "metadata": {},
     "output_type": "display_data"
    },
    {
     "name": "stdout",
     "output_type": "stream",
     "text": [
      "--> Not exactly one containing mesh: []\n",
      "--> Not exactly one containing mesh: []\n",
      "\n",
      "filtered_measurements = [ 80.01254151  60.96458764  86.46394069  69.96704556  87.84360078\n",
      "  91.47014938  89.2610402   77.29054808 108.84882802  76.32625595\n",
      " 132.62909106  92.36427886 116.1027102  109.00385578  68.69920791\n",
      "  71.09176974  93.86505321  67.84508846 109.44769711 110.19327993\n",
      "  71.34655761  93.37597953]\n",
      "new_threshold = 292.56494797669296\n"
     ]
    },
    {
     "data": {
      "application/vnd.jupyter.widget-view+json": {
       "model_id": "3505d15068a74273af2918955c46fdd3",
       "version_major": 2,
       "version_minor": 0
      },
      "text/plain": [
       "HBox(children=(FloatProgress(value=1.0, bar_style='info', max=1.0), HTML(value='')))"
      ]
     },
     "metadata": {},
     "output_type": "display_data"
    },
    {
     "name": "stdout",
     "output_type": "stream",
     "text": [
      "--> Not exactly one containing mesh: []\n",
      "--> Not exactly one containing mesh: []\n",
      "\n"
     ]
    },
    {
     "data": {
      "application/vnd.jupyter.widget-view+json": {
       "model_id": "3712ac6d55d949d0b006390986092adf",
       "version_major": 2,
       "version_minor": 0
      },
      "text/plain": [
       "HBox(children=(FloatProgress(value=1.0, bar_style='info', max=1.0), HTML(value='')))"
      ]
     },
     "metadata": {},
     "output_type": "display_data"
    },
    {
     "name": "stdout",
     "output_type": "stream",
     "text": [
      "--> Not exactly one containing mesh: []\n",
      "\n",
      "branch_touching_number = [15]\n",
      "branch_touching_number = [15, 2]\n",
      "most_branch_containing_piece = 0\n",
      "filtered_measurements = [178.29541049 114.92635088 100.70459765  66.92184279 181.45280651\n",
      " 207.19968857 145.77616902 179.9377524  247.26796709 131.91731507\n",
      " 135.23297526]\n",
      "new_threshold = 523.6301751611792\n"
     ]
    },
    {
     "data": {
      "application/vnd.jupyter.widget-view+json": {
       "model_id": "0f8d43b3941440fbb548b57f77493726",
       "version_major": 2,
       "version_minor": 0
      },
      "text/plain": [
       "HBox(children=(FloatProgress(value=1.0, bar_style='info', max=1.0), HTML(value='')))"
      ]
     },
     "metadata": {},
     "output_type": "display_data"
    },
    {
     "name": "stdout",
     "output_type": "stream",
     "text": [
      "THERE WERE NO FACES THAT FIT THE DISTANCE (523.6301751611792) and Z transform requirements\n",
      "So just skipping this edge\n",
      "--> Not exactly one containing mesh: []\n",
      "--> Not exactly one containing mesh: []\n",
      "\n"
     ]
    },
    {
     "data": {
      "application/vnd.jupyter.widget-view+json": {
       "model_id": "981e906748b947f9a2cc55b50d3c8ae3",
       "version_major": 2,
       "version_minor": 0
      },
      "text/plain": [
       "HBox(children=(FloatProgress(value=1.0, bar_style='info', max=1.0), HTML(value='')))"
      ]
     },
     "metadata": {},
     "output_type": "display_data"
    },
    {
     "name": "stdout",
     "output_type": "stream",
     "text": [
      "--> Not exactly one containing mesh: []\n",
      "\n",
      "filtered_measurements = [408.25471231 292.26996363 247.35817684 270.76169172 280.2150147\n",
      " 483.53469907 463.19773247 509.50659467 498.90487291 273.07644253\n",
      " 547.70010442 336.80483898 545.28444671 393.50740147 421.76763362\n",
      " 365.75902553 280.03968627 346.23095127 491.02060883 497.60526977\n",
      " 252.27025872 488.47702317 404.69250885 465.9597524  465.54032883\n",
      " 278.82273646 497.0736309  354.90976267 544.04956347 345.98792\n",
      " 274.17020264 260.23933945 432.52754112 240.95564451 469.5620294\n",
      " 479.66541996 300.12701706 319.41303157 442.39677475 548.16197843\n",
      " 329.96734149 500.26260633 233.06667728 538.62017357 241.56002754\n",
      " 363.35404159 262.83643813 266.98278477 232.5642781  221.51896533\n",
      " 263.01082624 369.66840598 473.77093037 518.52397979 383.67654226\n",
      " 268.09927566 304.59098219 191.87869616 152.99773018 170.65221137\n",
      " 204.31889613 240.03182802 255.07461809 243.51106936 438.02287465\n",
      " 288.50364438 434.79131591 227.16401569 219.67722031 399.17081105\n",
      " 388.05213562 267.9979498  330.46816231 316.15365378 223.45351889\n",
      " 271.06644752 570.58276165 518.0909591 ]\n",
      "new_threshold = 1451.148177684198\n"
     ]
    },
    {
     "data": {
      "application/vnd.jupyter.widget-view+json": {
       "model_id": "b5be34779cef4686b6d092f4eec4103b",
       "version_major": 2,
       "version_minor": 0
      },
      "text/plain": [
       "HBox(children=(FloatProgress(value=1.0, bar_style='info', max=1.0), HTML(value='')))"
      ]
     },
     "metadata": {},
     "output_type": "display_data"
    },
    {
     "name": "stdout",
     "output_type": "stream",
     "text": [
      "--> Not exactly one containing mesh: []\n",
      "\n"
     ]
    },
    {
     "data": {
      "application/vnd.jupyter.widget-view+json": {
       "model_id": "71e34c0c3c4e4cf0800154c177ace49d",
       "version_major": 2,
       "version_minor": 0
      },
      "text/plain": [
       "HBox(children=(FloatProgress(value=1.0, bar_style='info', max=1.0), HTML(value='')))"
      ]
     },
     "metadata": {},
     "output_type": "display_data"
    },
    {
     "name": "stdout",
     "output_type": "stream",
     "text": [
      "\n",
      "filtered_measurements = [113.43603619  83.12900655 116.28068987 137.80876463 123.16367979]\n",
      "new_threshold = 253.51269387674716\n"
     ]
    },
    {
     "data": {
      "application/vnd.jupyter.widget-view+json": {
       "model_id": "8a083e2255c54b918a1d2325ec645ce2",
       "version_major": 2,
       "version_minor": 0
      },
      "text/plain": [
       "HBox(children=(FloatProgress(value=1.0, bar_style='info', max=1.0), HTML(value='')))"
      ]
     },
     "metadata": {},
     "output_type": "display_data"
    },
    {
     "name": "stdout",
     "output_type": "stream",
     "text": [
      "\n"
     ]
    },
    {
     "data": {
      "application/vnd.jupyter.widget-view+json": {
       "model_id": "4c92bb41803e43b0a68d6fbb34e249a6",
       "version_major": 2,
       "version_minor": 0
      },
      "text/plain": [
       "HBox(children=(FloatProgress(value=1.0, bar_style='info', max=1.0), HTML(value='')))"
      ]
     },
     "metadata": {},
     "output_type": "display_data"
    },
    {
     "name": "stdout",
     "output_type": "stream",
     "text": [
      "\n",
      "filtered_measurements = [191.46219778 204.19116755 279.55536555 222.11099631 369.04972419\n",
      " 350.95358033 217.86838676 318.36904947 254.61758093 319.11337982\n",
      " 303.72538052 325.97290937 243.08308566 278.08368045 323.23940309\n",
      " 372.87033438 249.94815107 254.484548  ]\n",
      "new_threshold = 837.3342189378659\n"
     ]
    },
    {
     "data": {
      "application/vnd.jupyter.widget-view+json": {
       "model_id": "d71c47bea62242909efd1224d8ce0505",
       "version_major": 2,
       "version_minor": 0
      },
      "text/plain": [
       "HBox(children=(FloatProgress(value=1.0, bar_style='info', max=1.0), HTML(value='')))"
      ]
     },
     "metadata": {},
     "output_type": "display_data"
    },
    {
     "name": "stdout",
     "output_type": "stream",
     "text": [
      "\n"
     ]
    },
    {
     "data": {
      "application/vnd.jupyter.widget-view+json": {
       "model_id": "dc27f263ed124aa0b0e485e9aff87113",
       "version_major": 2,
       "version_minor": 0
      },
      "text/plain": [
       "HBox(children=(FloatProgress(value=1.0, bar_style='info', max=1.0), HTML(value='')))"
      ]
     },
     "metadata": {},
     "output_type": "display_data"
    },
    {
     "name": "stdout",
     "output_type": "stream",
     "text": [
      "--> Not exactly one containing mesh: []\n",
      "\n",
      "filtered_measurements = [420.54787208 203.21880649 329.37965444 314.10700503 431.68349566\n",
      " 222.53629601 245.92676454 293.8951841  435.47388708 269.26981152\n",
      " 264.27136261 245.08336431 256.08296844 358.26640261 458.07600911\n",
      " 304.62693822 252.6440226  313.83072303 365.75623287 194.99030544\n",
      " 278.14331466 171.27208604 237.35457733 271.95245595 320.8185507\n",
      " 370.09372357 281.05648122 208.32766656 226.80515207 251.48460172\n",
      " 254.50156132 218.96658393 272.34788219 300.75761187 265.81107342\n",
      " 323.53037598 350.34644755 306.52316829 307.91832263 350.93605393\n",
      " 259.17724995 275.23785918 276.64024464 424.94025324 238.31050981\n",
      " 312.62621905 302.20530747 254.95894156 167.64755629 350.24085472\n",
      " 299.24558817 293.10182467 264.90157869 269.08167045 272.74999666\n",
      " 219.916598   403.49685015 238.95565414 197.6386038  422.33624625\n",
      " 269.77627576 318.74719854 247.24968987 237.82330864 172.57359303\n",
      " 172.59749706 236.62181881 338.45442642 283.83986522 311.33193102\n",
      " 416.99071856 414.99013002 424.79488555 255.42766564 213.54827444\n",
      " 180.2928177  284.56316233 170.01448217 178.03235496 150.52518025\n",
      " 130.45989016 256.88833883 290.8190996  345.91025388 347.1173595\n",
      " 390.12682448 304.79673878 200.55948237 190.94611929 366.53313573\n",
      " 396.86333743 210.75386213 351.91791387 274.67492616 217.45113396\n",
      " 146.80873242 438.11364328 373.38112576 265.80397564 289.58317082\n",
      " 286.00350244 136.21779686 271.17637103 310.00569365]\n",
      "new_threshold = 1291.7883320482306\n"
     ]
    },
    {
     "data": {
      "application/vnd.jupyter.widget-view+json": {
       "model_id": "d1afbc37e70349a9846110734449a365",
       "version_major": 2,
       "version_minor": 0
      },
      "text/plain": [
       "HBox(children=(FloatProgress(value=1.0, bar_style='info', max=1.0), HTML(value='')))"
      ]
     },
     "metadata": {},
     "output_type": "display_data"
    },
    {
     "name": "stdout",
     "output_type": "stream",
     "text": [
      "--> Not exactly one containing mesh: []\n",
      "\n"
     ]
    },
    {
     "data": {
      "application/vnd.jupyter.widget-view+json": {
       "model_id": "ac830cba54bc4fa896b46f358d1d1b58",
       "version_major": 2,
       "version_minor": 0
      },
      "text/plain": [
       "HBox(children=(FloatProgress(value=1.0, bar_style='info', max=1.0), HTML(value='')))"
      ]
     },
     "metadata": {},
     "output_type": "display_data"
    },
    {
     "name": "stdout",
     "output_type": "stream",
     "text": [
      "\n",
      "filtered_measurements = [244.5484628  361.35749609 504.9117244  317.63130201 420.02645476]\n",
      "new_threshold = 1150.1439194441914\n"
     ]
    },
    {
     "data": {
      "application/vnd.jupyter.widget-view+json": {
       "model_id": "ae90b3cfeca44d0cba77fa2969d60de4",
       "version_major": 2,
       "version_minor": 0
      },
      "text/plain": [
       "HBox(children=(FloatProgress(value=1.0, bar_style='info', max=1.0), HTML(value='')))"
      ]
     },
     "metadata": {},
     "output_type": "display_data"
    },
    {
     "name": "stdout",
     "output_type": "stream",
     "text": [
      "\n"
     ]
    },
    {
     "data": {
      "application/vnd.jupyter.widget-view+json": {
       "model_id": "3eabf6d8410045cdba2f848e7e62b5a5",
       "version_major": 2,
       "version_minor": 0
      },
      "text/plain": [
       "HBox(children=(FloatProgress(value=1.0, bar_style='info', max=1.0), HTML(value='')))"
      ]
     },
     "metadata": {},
     "output_type": "display_data"
    },
    {
     "name": "stdout",
     "output_type": "stream",
     "text": [
      "--> Not exactly one containing mesh: []\n",
      "\n",
      "branch_touching_number = [1]\n",
      "branch_touching_number = [1, 9]\n",
      "most_branch_containing_piece = 1\n",
      "filtered_measurements = [187.0275161  133.8442383  113.9229997  117.98702687 172.10343655\n",
      "  61.44992255]\n",
      "new_threshold = 468.0317001799644\n"
     ]
    },
    {
     "data": {
      "application/vnd.jupyter.widget-view+json": {
       "model_id": "16f76fe8acce4d72b7d76f47f5e4a5a0",
       "version_major": 2,
       "version_minor": 0
      },
      "text/plain": [
       "HBox(children=(FloatProgress(value=1.0, bar_style='info', max=1.0), HTML(value='')))"
      ]
     },
     "metadata": {},
     "output_type": "display_data"
    },
    {
     "name": "stdout",
     "output_type": "stream",
     "text": [
      "--> Not exactly one containing mesh: []\n",
      "--> Not exactly one containing mesh: []\n",
      "\n"
     ]
    },
    {
     "data": {
      "application/vnd.jupyter.widget-view+json": {
       "model_id": "0f73c6b749354ca381f0e13d01083d76",
       "version_major": 2,
       "version_minor": 0
      },
      "text/plain": [
       "HBox(children=(FloatProgress(value=1.0, bar_style='info', max=1.0), HTML(value='')))"
      ]
     },
     "metadata": {},
     "output_type": "display_data"
    },
    {
     "name": "stdout",
     "output_type": "stream",
     "text": [
      "--> Not exactly one containing mesh: []\n",
      "--> Not exactly one containing mesh: []\n",
      "--> Not exactly one containing mesh: []\n",
      "--> Not exactly one containing mesh: []\n",
      "--> Not exactly one containing mesh: []\n",
      "\n",
      "branch_touching_number = [9]\n",
      "branch_touching_number = [9, 8]\n",
      "most_branch_containing_piece = 0\n",
      "filtered_measurements = [ 65.29101976  63.00012074  47.77786655  53.31066939  87.97615939\n",
      "  94.59376547  94.64070582  74.8773091  110.1345748  110.4376709\n",
      " 124.42994948]\n",
      "new_threshold = 295.4785484843468\n"
     ]
    },
    {
     "data": {
      "application/vnd.jupyter.widget-view+json": {
       "model_id": "b66e32c19cd04cecbfc591d25cab28fe",
       "version_major": 2,
       "version_minor": 0
      },
      "text/plain": [
       "HBox(children=(FloatProgress(value=1.0, bar_style='info', max=1.0), HTML(value='')))"
      ]
     },
     "metadata": {},
     "output_type": "display_data"
    },
    {
     "name": "stdout",
     "output_type": "stream",
     "text": [
      "THERE WERE NO FACES THAT FIT THE DISTANCE (295.4785484843468) and Z transform requirements\n",
      "So just skipping this edge\n",
      "THERE WERE NO FACES THAT FIT THE DISTANCE (295.4785484843468) and Z transform requirements\n",
      "So just skipping this edge\n",
      "THERE WERE NO FACES THAT FIT THE DISTANCE (295.4785484843468) and Z transform requirements\n",
      "So just skipping this edge\n",
      "THERE WERE NO FACES THAT FIT THE DISTANCE (295.4785484843468) and Z transform requirements\n",
      "So just skipping this edge\n",
      "THERE WERE NO FACES THAT FIT THE DISTANCE (295.4785484843468) and Z transform requirements\n",
      "So just skipping this edge\n",
      "THERE WERE NO FACES THAT FIT THE DISTANCE (295.4785484843468) and Z transform requirements\n",
      "So just skipping this edge\n",
      "THERE WERE NO FACES THAT FIT THE DISTANCE (295.4785484843468) and Z transform requirements\n",
      "So just skipping this edge\n",
      "THERE WERE NO FACES THAT FIT THE DISTANCE (295.4785484843468) and Z transform requirements\n",
      "So just skipping this edge\n",
      "--> Not exactly one containing mesh: []\n",
      "--> Not exactly one containing mesh: []\n",
      "--> Not exactly one containing mesh: []\n",
      "\n"
     ]
    },
    {
     "data": {
      "application/vnd.jupyter.widget-view+json": {
       "model_id": "db43b4860b974536af61174ab1e773d5",
       "version_major": 2,
       "version_minor": 0
      },
      "text/plain": [
       "HBox(children=(FloatProgress(value=1.0, bar_style='info', max=1.0), HTML(value='')))"
      ]
     },
     "metadata": {},
     "output_type": "display_data"
    },
    {
     "name": "stdout",
     "output_type": "stream",
     "text": [
      "\n",
      "filtered_measurements = [ 61.38863574 106.31149433  97.29902166 287.87766756]\n",
      "new_threshold = 620.2208250618189\n"
     ]
    },
    {
     "data": {
      "application/vnd.jupyter.widget-view+json": {
       "model_id": "3b5592dbff5e47d393538851eac031eb",
       "version_major": 2,
       "version_minor": 0
      },
      "text/plain": [
       "HBox(children=(FloatProgress(value=1.0, bar_style='info', max=1.0), HTML(value='')))"
      ]
     },
     "metadata": {},
     "output_type": "display_data"
    },
    {
     "name": "stdout",
     "output_type": "stream",
     "text": [
      "\n"
     ]
    },
    {
     "data": {
      "application/vnd.jupyter.widget-view+json": {
       "model_id": "216f7068a5c8406790d18f7a0b114a03",
       "version_major": 2,
       "version_minor": 0
      },
      "text/plain": [
       "HBox(children=(FloatProgress(value=1.0, bar_style='info', max=1.0), HTML(value='')))"
      ]
     },
     "metadata": {},
     "output_type": "display_data"
    },
    {
     "name": "stdout",
     "output_type": "stream",
     "text": [
      "\n",
      "filtered_measurements = [ 75.20187758 110.60087186  89.91219513  79.13051111  94.95916213]\n",
      "new_threshold = 206.507736570127\n"
     ]
    },
    {
     "data": {
      "application/vnd.jupyter.widget-view+json": {
       "model_id": "133e50551bd94bcd94bab8d6ebf72aec",
       "version_major": 2,
       "version_minor": 0
      },
      "text/plain": [
       "HBox(children=(FloatProgress(value=1.0, bar_style='info', max=1.0), HTML(value='')))"
      ]
     },
     "metadata": {},
     "output_type": "display_data"
    },
    {
     "name": "stdout",
     "output_type": "stream",
     "text": [
      "\n"
     ]
    },
    {
     "data": {
      "application/vnd.jupyter.widget-view+json": {
       "model_id": "12bd9f150c9c4e8bb7a236a090e135f1",
       "version_major": 2,
       "version_minor": 0
      },
      "text/plain": [
       "HBox(children=(FloatProgress(value=1.0, bar_style='info', max=1.0), HTML(value='')))"
      ]
     },
     "metadata": {},
     "output_type": "display_data"
    },
    {
     "name": "stdout",
     "output_type": "stream",
     "text": [
      "--> Not exactly one containing mesh: []\n",
      "\n",
      "filtered_measurements = [138.2602132  128.71007911]\n",
      "new_threshold = 247.59636391204205\n"
     ]
    },
    {
     "data": {
      "application/vnd.jupyter.widget-view+json": {
       "model_id": "1da4acea31964d2da2266e8408a4676e",
       "version_major": 2,
       "version_minor": 0
      },
      "text/plain": [
       "HBox(children=(FloatProgress(value=1.0, bar_style='info', max=1.0), HTML(value='')))"
      ]
     },
     "metadata": {},
     "output_type": "display_data"
    },
    {
     "name": "stdout",
     "output_type": "stream",
     "text": [
      "--> Not exactly one containing mesh: []\n",
      "\n"
     ]
    },
    {
     "data": {
      "application/vnd.jupyter.widget-view+json": {
       "model_id": "e38fe068db1b4ff890718a8ea10219e0",
       "version_major": 2,
       "version_minor": 0
      },
      "text/plain": [
       "HBox(children=(FloatProgress(value=1.0, bar_style='info', max=1.0), HTML(value='')))"
      ]
     },
     "metadata": {},
     "output_type": "display_data"
    },
    {
     "name": "stdout",
     "output_type": "stream",
     "text": [
      "\n",
      "filtered_measurements = [69.05480136 83.52709319 74.86530593 48.58113576 56.90779348 65.42255051\n",
      " 69.34927105]\n",
      "new_threshold = 162.25672386710812\n"
     ]
    },
    {
     "data": {
      "application/vnd.jupyter.widget-view+json": {
       "model_id": "c281fd1df0d34435a8933f6598777fee",
       "version_major": 2,
       "version_minor": 0
      },
      "text/plain": [
       "HBox(children=(FloatProgress(value=1.0, bar_style='info', max=1.0), HTML(value='')))"
      ]
     },
     "metadata": {},
     "output_type": "display_data"
    },
    {
     "name": "stdout",
     "output_type": "stream",
     "text": [
      "\n"
     ]
    },
    {
     "data": {
      "application/vnd.jupyter.widget-view+json": {
       "model_id": "e96ee2f8b5204fe79c3467633f3aaaa6",
       "version_major": 2,
       "version_minor": 0
      },
      "text/plain": [
       "HBox(children=(FloatProgress(value=1.0, bar_style='info', max=1.0), HTML(value='')))"
      ]
     },
     "metadata": {},
     "output_type": "display_data"
    },
    {
     "name": "stdout",
     "output_type": "stream",
     "text": [
      "--> Not exactly one containing mesh: []\n",
      "--> Not exactly one containing mesh: []\n",
      "\n",
      "filtered_measurements = [105.26334557  53.36056356 110.87781646  93.86421926  76.93445361\n",
      "  60.30978189  73.08153576  66.10083102]\n",
      "new_threshold = 194.86947030186622\n"
     ]
    },
    {
     "data": {
      "application/vnd.jupyter.widget-view+json": {
       "model_id": "ec7212b4dd1b45f781009c9f88c0921c",
       "version_major": 2,
       "version_minor": 0
      },
      "text/plain": [
       "HBox(children=(FloatProgress(value=1.0, bar_style='info', max=1.0), HTML(value='')))"
      ]
     },
     "metadata": {},
     "output_type": "display_data"
    },
    {
     "name": "stdout",
     "output_type": "stream",
     "text": [
      "--> Not exactly one containing mesh: []\n",
      "--> Not exactly one containing mesh: []\n",
      "--> Not exactly one containing mesh: []\n",
      "\n",
      "branch_touching_number = [10]\n",
      "branch_touching_number = [10, 3]\n",
      "most_branch_containing_piece = 0\n"
     ]
    },
    {
     "data": {
      "application/vnd.jupyter.widget-view+json": {
       "model_id": "8168729fd980487d9d29a8daa2364c6c",
       "version_major": 2,
       "version_minor": 0
      },
      "text/plain": [
       "HBox(children=(FloatProgress(value=1.0, bar_style='info', max=1.0), HTML(value='')))"
      ]
     },
     "metadata": {},
     "output_type": "display_data"
    },
    {
     "name": "stdout",
     "output_type": "stream",
     "text": [
      "\n",
      "filtered_measurements = [71.86888858 67.02024105 75.06326754 69.41967381]\n",
      "new_threshold = 147.20104189963567\n"
     ]
    },
    {
     "data": {
      "application/vnd.jupyter.widget-view+json": {
       "model_id": "feb99c0062cc4f7f8681bb3176331918",
       "version_major": 2,
       "version_minor": 0
      },
      "text/plain": [
       "HBox(children=(FloatProgress(value=1.0, bar_style='info', max=1.0), HTML(value='')))"
      ]
     },
     "metadata": {},
     "output_type": "display_data"
    },
    {
     "name": "stdout",
     "output_type": "stream",
     "text": [
      "\n"
     ]
    },
    {
     "data": {
      "application/vnd.jupyter.widget-view+json": {
       "model_id": "dbacb298692c493096cde59b7f44ef02",
       "version_major": 2,
       "version_minor": 0
      },
      "text/plain": [
       "HBox(children=(FloatProgress(value=1.0, bar_style='info', max=1.0), HTML(value='')))"
      ]
     },
     "metadata": {},
     "output_type": "display_data"
    },
    {
     "name": "stdout",
     "output_type": "stream",
     "text": [
      "--> Not exactly one containing mesh: []\n",
      "--> Not exactly one containing mesh: []\n",
      "\n",
      "branch_touching_number = [4]\n",
      "branch_touching_number = [4, 2]\n",
      "most_branch_containing_piece = 0\n",
      "filtered_measurements = [245.23727669 122.33866437 331.66834626]\n",
      "new_threshold = 787.4344551076756\n"
     ]
    },
    {
     "data": {
      "application/vnd.jupyter.widget-view+json": {
       "model_id": "e1d8091e53bc4017b3132f902c36fe01",
       "version_major": 2,
       "version_minor": 0
      },
      "text/plain": [
       "HBox(children=(FloatProgress(value=1.0, bar_style='info', max=1.0), HTML(value='')))"
      ]
     },
     "metadata": {},
     "output_type": "display_data"
    },
    {
     "name": "stdout",
     "output_type": "stream",
     "text": [
      "--> Not exactly one containing mesh: []\n",
      "THERE WERE NO FACES THAT FIT THE DISTANCE (787.4344551076756) and Z transform requirements\n",
      "So just skipping this edge\n",
      "THERE WERE NO FACES THAT FIT THE DISTANCE (787.4344551076756) and Z transform requirements\n",
      "So just skipping this edge\n",
      "\n"
     ]
    },
    {
     "data": {
      "application/vnd.jupyter.widget-view+json": {
       "model_id": "aaa9e365e86c4d11b83f5922d67e166e",
       "version_major": 2,
       "version_minor": 0
      },
      "text/plain": [
       "HBox(children=(FloatProgress(value=1.0, bar_style='info', max=1.0), HTML(value='')))"
      ]
     },
     "metadata": {},
     "output_type": "display_data"
    },
    {
     "name": "stdout",
     "output_type": "stream",
     "text": [
      "\n",
      "filtered_measurements = [113.47077574  95.56248349 151.61163152 138.09798017  54.59647075\n",
      "  90.47059541 122.32683191 108.51357468 113.9357441   85.91705102\n",
      "  95.4911687   81.39270246 111.11072544  67.27752625  72.31537552\n",
      " 106.19895725 112.39733247  83.88903133  99.69479897 103.74378356\n",
      "  72.24353638 102.02754714]\n",
      "new_threshold = 298.4669883402711\n"
     ]
    },
    {
     "data": {
      "application/vnd.jupyter.widget-view+json": {
       "model_id": "d07e6d1d5eb74095b158f02b0c969163",
       "version_major": 2,
       "version_minor": 0
      },
      "text/plain": [
       "HBox(children=(FloatProgress(value=1.0, bar_style='info', max=1.0), HTML(value='')))"
      ]
     },
     "metadata": {},
     "output_type": "display_data"
    },
    {
     "name": "stdout",
     "output_type": "stream",
     "text": [
      "\n"
     ]
    },
    {
     "data": {
      "application/vnd.jupyter.widget-view+json": {
       "model_id": "8e54f034acd0446580d74ac93bdfd1e6",
       "version_major": 2,
       "version_minor": 0
      },
      "text/plain": [
       "HBox(children=(FloatProgress(value=1.0, bar_style='info', max=1.0), HTML(value='')))"
      ]
     },
     "metadata": {},
     "output_type": "display_data"
    },
    {
     "name": "stdout",
     "output_type": "stream",
     "text": [
      "--> Not exactly one containing mesh: []\n",
      "\n",
      "filtered_measurements = [148.62330871 156.58372363 180.78634656 276.02214995 192.65060535\n",
      " 173.21515884 152.46187075 289.95697881 213.39334742 166.9563479\n",
      " 243.62656685 160.25666462 229.18565045 167.05461836 127.78065281\n",
      " 179.625033   193.53802815 119.44157027 140.40140235 259.85176963\n",
      " 242.10951723 173.05347144 281.41058464 212.5076246  172.36789867\n",
      " 247.23041286 242.20609961 183.49731013 159.46142759 194.54323902\n",
      " 246.60517    175.78893624 126.51227555 232.62339893 261.0253484\n",
      " 200.09531049 208.64594136 277.80620003 198.77724041 305.96826968\n",
      " 295.67302462 122.56559679 149.9360763  217.86213883 206.11618591\n",
      " 126.83817364 319.17262042 239.06383138 213.82915527 319.02622973\n",
      " 225.47202411 191.86456501 131.78815887 270.65425195]\n",
      "new_threshold = 684.7566366437113\n"
     ]
    },
    {
     "data": {
      "application/vnd.jupyter.widget-view+json": {
       "model_id": "4cb69821fb9543f8b60610b0ecabff70",
       "version_major": 2,
       "version_minor": 0
      },
      "text/plain": [
       "HBox(children=(FloatProgress(value=1.0, bar_style='info', max=1.0), HTML(value='')))"
      ]
     },
     "metadata": {},
     "output_type": "display_data"
    },
    {
     "name": "stdout",
     "output_type": "stream",
     "text": [
      "--> Not exactly one containing mesh: []\n",
      "\n"
     ]
    },
    {
     "data": {
      "application/vnd.jupyter.widget-view+json": {
       "model_id": "88b84d570d01495bb9b2d038cc1a3a9f",
       "version_major": 2,
       "version_minor": 0
      },
      "text/plain": [
       "HBox(children=(FloatProgress(value=1.0, bar_style='info', max=1.0), HTML(value='')))"
      ]
     },
     "metadata": {},
     "output_type": "display_data"
    },
    {
     "name": "stdout",
     "output_type": "stream",
     "text": [
      "--> Not exactly one containing mesh: []\n",
      "\n",
      "filtered_measurements = [172.7353077  107.5032415  121.51283846  84.63723985 129.15563116\n",
      "  69.40270311 175.45649679  89.45974551 154.13386052 124.85307668\n",
      "  75.93129514 157.54343143 181.70852602 129.9349223   95.09864162]\n",
      "new_threshold = 353.28418322844175\n"
     ]
    },
    {
     "data": {
      "application/vnd.jupyter.widget-view+json": {
       "model_id": "0a8abfa0746c43ccb49b2b025ed698bd",
       "version_major": 2,
       "version_minor": 0
      },
      "text/plain": [
       "HBox(children=(FloatProgress(value=1.0, bar_style='info', max=1.0), HTML(value='')))"
      ]
     },
     "metadata": {},
     "output_type": "display_data"
    },
    {
     "name": "stdout",
     "output_type": "stream",
     "text": [
      "--> Not exactly one containing mesh: []\n",
      "\n"
     ]
    },
    {
     "data": {
      "application/vnd.jupyter.widget-view+json": {
       "model_id": "ac6e2812f7ce458e91d57716323310a5",
       "version_major": 2,
       "version_minor": 0
      },
      "text/plain": [
       "HBox(children=(FloatProgress(value=1.0, bar_style='info', max=1.0), HTML(value='')))"
      ]
     },
     "metadata": {},
     "output_type": "display_data"
    },
    {
     "name": "stdout",
     "output_type": "stream",
     "text": [
      "\n",
      "filtered_measurements = [1348.1280257]\n",
      "new_threshold = 2979.9727303193\n"
     ]
    },
    {
     "data": {
      "application/vnd.jupyter.widget-view+json": {
       "model_id": "d06d75b44c0b4149b788edfca0ca3fe2",
       "version_major": 2,
       "version_minor": 0
      },
      "text/plain": [
       "HBox(children=(FloatProgress(value=1.0, bar_style='info', max=1.0), HTML(value='')))"
      ]
     },
     "metadata": {},
     "output_type": "display_data"
    },
    {
     "name": "stdout",
     "output_type": "stream",
     "text": [
      "\n"
     ]
    },
    {
     "data": {
      "application/vnd.jupyter.widget-view+json": {
       "model_id": "d0667f9ceceb4798b1a4a06ae7704a8d",
       "version_major": 2,
       "version_minor": 0
      },
      "text/plain": [
       "HBox(children=(FloatProgress(value=1.0, bar_style='info', max=1.0), HTML(value='')))"
      ]
     },
     "metadata": {},
     "output_type": "display_data"
    },
    {
     "name": "stdout",
     "output_type": "stream",
     "text": [
      "\n",
      "filtered_measurements = [1324.35382793]\n",
      "new_threshold = 3097.148354666696\n"
     ]
    },
    {
     "data": {
      "application/vnd.jupyter.widget-view+json": {
       "model_id": "f458ce397a3e489c8f50972a2731a1e0",
       "version_major": 2,
       "version_minor": 0
      },
      "text/plain": [
       "HBox(children=(FloatProgress(value=1.0, bar_style='info', max=1.0), HTML(value='')))"
      ]
     },
     "metadata": {},
     "output_type": "display_data"
    },
    {
     "name": "stdout",
     "output_type": "stream",
     "text": [
      "\n",
      "\n",
      "Working on limb #5\n"
     ]
    },
    {
     "data": {
      "application/vnd.jupyter.widget-view+json": {
       "model_id": "ca558a78575c4257a8fa19ee2ca9d194",
       "version_major": 2,
       "version_minor": 0
      },
      "text/plain": [
       "HBox(children=(FloatProgress(value=1.0, bar_style='info', max=1.0), HTML(value='')))"
      ]
     },
     "metadata": {},
     "output_type": "display_data"
    },
    {
     "data": {
      "application/vnd.jupyter.widget-view+json": {
       "model_id": "ccf82a5536384cb3bb703608ec65b98b",
       "version_major": 2,
       "version_minor": 0
      },
      "text/plain": [
       "HBox(children=(FloatProgress(value=1.0, bar_style='info', max=1.0), HTML(value='')))"
      ]
     },
     "metadata": {},
     "output_type": "display_data"
    },
    {
     "name": "stdout",
     "output_type": "stream",
     "text": [
      "--> Not exactly one containing mesh: []\n",
      "\n",
      "filtered_measurements = [326.66390366 227.68269752 481.56939987 459.69066326 303.48045637\n",
      " 253.24077811 236.76918627 566.64404235 243.19306827 386.42056426\n",
      " 308.88378469 529.42214147 246.12102859 362.91626484 526.66955174\n",
      " 290.56836041 410.41932594 271.00182464 283.27399353 447.85467621\n",
      " 403.65653657 541.97531233 489.38279465 344.45240097 424.60934998\n",
      " 349.30636256 605.22259246 278.07270271 560.83462874 365.79378906\n",
      " 384.38352746 313.99974917 384.75462183 362.11188191 273.95094855\n",
      " 542.32378119 441.71432877 616.21631601 362.5282033  519.54166767\n",
      " 649.94082113 459.8080502  487.87427708 546.62001556 354.30327599\n",
      " 364.63518986 432.0626683  386.50841174 441.10429251 648.91494566\n",
      " 424.28595779 336.46882821 579.8229839  473.46420976 562.70563605\n",
      " 520.9682495  650.27170453 422.71415559 465.29586505 346.04574856]\n",
      "new_threshold = 1604.38284599496\n"
     ]
    },
    {
     "data": {
      "application/vnd.jupyter.widget-view+json": {
       "model_id": "7c9da1c186404d87af38556379c7f84a",
       "version_major": 2,
       "version_minor": 0
      },
      "text/plain": [
       "HBox(children=(FloatProgress(value=1.0, bar_style='info', max=1.0), HTML(value='')))"
      ]
     },
     "metadata": {},
     "output_type": "display_data"
    },
    {
     "name": "stdout",
     "output_type": "stream",
     "text": [
      "--> Not exactly one containing mesh: []\n",
      "\n"
     ]
    },
    {
     "data": {
      "application/vnd.jupyter.widget-view+json": {
       "model_id": "49eb9e3b6368405b9bd65e80d9e15510",
       "version_major": 2,
       "version_minor": 0
      },
      "text/plain": [
       "HBox(children=(FloatProgress(value=1.0, bar_style='info', max=1.0), HTML(value='')))"
      ]
     },
     "metadata": {},
     "output_type": "display_data"
    },
    {
     "name": "stdout",
     "output_type": "stream",
     "text": [
      "\n",
      "filtered_measurements = [494.40017221 695.89064249 441.97388642 553.0260365  447.12853973\n",
      " 478.3466141  276.37175907 224.75279231 264.7825971  279.07347529\n",
      " 633.49095039 472.96747814 438.5797232  344.54953685 376.02853592\n",
      " 678.53747758 363.64862263 626.06025922 420.71454253 457.2703329\n",
      " 631.33080903 289.79334145 463.58486474 441.7921999  472.57420606\n",
      " 463.30475114 562.5788584  315.60357542 314.49165852 510.11772435\n",
      " 368.40062871 429.73062744 311.08712662 306.26940821 680.47448121\n",
      " 427.09759686 570.34807262 395.14122591 301.93073327 330.4726944\n",
      " 477.98710486 708.15378291 668.09057357 638.77613826 413.34026274\n",
      " 465.78092804 560.0310102  688.63704436 442.24667577 369.30244207\n",
      " 550.83011324 479.73513844 690.73849702 478.55007987 560.32532545\n",
      " 457.96199029 473.71379647 583.92828685 688.52811868 609.73969729\n",
      " 516.75427199 456.24159521 469.68806603 620.47098055]\n",
      "new_threshold = 1862.8885792525316\n"
     ]
    },
    {
     "data": {
      "application/vnd.jupyter.widget-view+json": {
       "model_id": "1c6ff93b307a4f2491a68052eb891a14",
       "version_major": 2,
       "version_minor": 0
      },
      "text/plain": [
       "HBox(children=(FloatProgress(value=1.0, bar_style='info', max=1.0), HTML(value='')))"
      ]
     },
     "metadata": {},
     "output_type": "display_data"
    },
    {
     "name": "stdout",
     "output_type": "stream",
     "text": [
      "\n"
     ]
    },
    {
     "data": {
      "application/vnd.jupyter.widget-view+json": {
       "model_id": "951a7fac41234bb398e90463905bd4ff",
       "version_major": 2,
       "version_minor": 0
      },
      "text/plain": [
       "HBox(children=(FloatProgress(value=1.0, bar_style='info', max=1.0), HTML(value='')))"
      ]
     },
     "metadata": {},
     "output_type": "display_data"
    },
    {
     "name": "stdout",
     "output_type": "stream",
     "text": [
      "--> Not exactly one containing mesh: []\n",
      "--> Not exactly one containing mesh: []\n",
      "--> Not exactly one containing mesh: []\n",
      "\n",
      "filtered_measurements = [158.54160765 248.69207632 287.65100742]\n",
      "new_threshold = 492.4465986699574\n"
     ]
    },
    {
     "data": {
      "application/vnd.jupyter.widget-view+json": {
       "model_id": "c7e8cc4092c541a0bee4249076d64742",
       "version_major": 2,
       "version_minor": 0
      },
      "text/plain": [
       "HBox(children=(FloatProgress(value=1.0, bar_style='info', max=1.0), HTML(value='')))"
      ]
     },
     "metadata": {},
     "output_type": "display_data"
    },
    {
     "name": "stdout",
     "output_type": "stream",
     "text": [
      "--> Not exactly one containing mesh: []\n",
      "--> Not exactly one containing mesh: []\n",
      "--> Not exactly one containing mesh: []\n",
      "--> Not exactly one containing mesh: []\n",
      "--> Not exactly one containing mesh: []\n",
      "\n",
      "branch_touching_number = [3]\n",
      "branch_touching_number = [3, 2]\n",
      "branch_touching_number = [3, 2, 1]\n",
      "most_branch_containing_piece = 0\n"
     ]
    },
    {
     "data": {
      "application/vnd.jupyter.widget-view+json": {
       "model_id": "b09a2173f83843a192c8d3bd1e3c1cfa",
       "version_major": 2,
       "version_minor": 0
      },
      "text/plain": [
       "HBox(children=(FloatProgress(value=1.0, bar_style='info', max=1.0), HTML(value='')))"
      ]
     },
     "metadata": {},
     "output_type": "display_data"
    },
    {
     "name": "stdout",
     "output_type": "stream",
     "text": [
      "\n",
      "filtered_measurements = [399.7270641  404.71059504 324.44066101 333.21463507 470.75523651]\n",
      "new_threshold = 1276.3445980230701\n"
     ]
    },
    {
     "data": {
      "application/vnd.jupyter.widget-view+json": {
       "model_id": "af7c782f55344e2581780c9efa788dd9",
       "version_major": 2,
       "version_minor": 0
      },
      "text/plain": [
       "HBox(children=(FloatProgress(value=1.0, bar_style='info', max=1.0), HTML(value='')))"
      ]
     },
     "metadata": {},
     "output_type": "display_data"
    },
    {
     "name": "stdout",
     "output_type": "stream",
     "text": [
      "\n"
     ]
    },
    {
     "data": {
      "application/vnd.jupyter.widget-view+json": {
       "model_id": "b2edd2846d134035a5a09eadb475f443",
       "version_major": 2,
       "version_minor": 0
      },
      "text/plain": [
       "HBox(children=(FloatProgress(value=1.0, bar_style='info', max=1.0), HTML(value='')))"
      ]
     },
     "metadata": {},
     "output_type": "display_data"
    },
    {
     "name": "stdout",
     "output_type": "stream",
     "text": [
      "--> Not exactly one containing mesh: []\n",
      "\n",
      "branch_touching_number = [4]\n",
      "branch_touching_number = [4, 3]\n",
      "most_branch_containing_piece = 0\n",
      "filtered_measurements = [102.13906751 278.05605304 301.19328485 263.7457338 ]\n",
      "new_threshold = 710.5508689823495\n"
     ]
    },
    {
     "data": {
      "application/vnd.jupyter.widget-view+json": {
       "model_id": "596765cb552d47ad80e8ada0cf306b21",
       "version_major": 2,
       "version_minor": 0
      },
      "text/plain": [
       "HBox(children=(FloatProgress(value=1.0, bar_style='info', max=1.0), HTML(value='')))"
      ]
     },
     "metadata": {},
     "output_type": "display_data"
    },
    {
     "name": "stdout",
     "output_type": "stream",
     "text": [
      "--> Not exactly one containing mesh: []\n",
      "THERE WERE NO FACES THAT FIT THE DISTANCE (710.5508689823495) and Z transform requirements\n",
      "So just skipping this edge\n",
      "THERE WERE NO FACES THAT FIT THE DISTANCE (710.5508689823495) and Z transform requirements\n",
      "So just skipping this edge\n",
      "THERE WERE NO FACES THAT FIT THE DISTANCE (710.5508689823495) and Z transform requirements\n",
      "So just skipping this edge\n",
      "\n"
     ]
    },
    {
     "data": {
      "application/vnd.jupyter.widget-view+json": {
       "model_id": "ceb176aec0a340b4b9d176f93941ef60",
       "version_major": 2,
       "version_minor": 0
      },
      "text/plain": [
       "HBox(children=(FloatProgress(value=1.0, bar_style='info', max=1.0), HTML(value='')))"
      ]
     },
     "metadata": {},
     "output_type": "display_data"
    },
    {
     "name": "stdout",
     "output_type": "stream",
     "text": [
      "--> Not exactly one containing mesh: []\n",
      "--> Not exactly one containing mesh: [0 2]\n",
      "\n",
      "branch_touching_number = [4]\n",
      "branch_touching_number = [4, 2]\n",
      "most_branch_containing_piece = 0\n",
      "filtered_measurements = [177.02423839 329.62956315]\n",
      "new_threshold = 690.4621171152323\n"
     ]
    },
    {
     "data": {
      "application/vnd.jupyter.widget-view+json": {
       "model_id": "7a697fbca9e244999b36f119c1bf0ed6",
       "version_major": 2,
       "version_minor": 0
      },
      "text/plain": [
       "HBox(children=(FloatProgress(value=1.0, bar_style='info', max=1.0), HTML(value='')))"
      ]
     },
     "metadata": {},
     "output_type": "display_data"
    },
    {
     "name": "stdout",
     "output_type": "stream",
     "text": [
      "THERE WERE NO FACES THAT FIT THE DISTANCE (690.4621171152323) and Z transform requirements\n",
      "So just skipping this edge\n",
      "THERE WERE NO FACES THAT FIT THE DISTANCE (690.4621171152323) and Z transform requirements\n",
      "So just skipping this edge\n",
      "--> Not exactly one containing mesh: []\n",
      "--> Not exactly one containing mesh: [0 1]\n",
      "\n"
     ]
    },
    {
     "data": {
      "application/vnd.jupyter.widget-view+json": {
       "model_id": "34c9e65e697543fdaf00ccbc6b0d1667",
       "version_major": 2,
       "version_minor": 0
      },
      "text/plain": [
       "HBox(children=(FloatProgress(value=1.0, bar_style='info', max=1.0), HTML(value='')))"
      ]
     },
     "metadata": {},
     "output_type": "display_data"
    },
    {
     "name": "stdout",
     "output_type": "stream",
     "text": [
      "\n",
      "filtered_measurements = [597.25814408 376.23312783 671.80340211 447.15176044 486.37943324\n",
      " 600.48839639 689.74179882 522.77658635 561.0302049  796.83437447\n",
      " 693.30245469 435.62920275 395.68611253 622.82622547 560.68890917\n",
      " 584.75203304 481.78203634 503.99656664 554.38986372 323.37067466\n",
      " 326.54053717 343.60045669 436.12993738 562.96760237 366.47444315\n",
      " 459.23520623 384.79329195 409.87269841 537.61332628 671.00884586\n",
      " 686.72406684 449.80312366 582.04987363 695.52377467 554.21051518\n",
      " 658.49184191 659.29595355 585.75208862 532.99148084 324.6248477\n",
      " 408.38039567 494.29279394 379.70992725 718.6806029  711.87643932\n",
      " 589.67319305 506.32898599 512.54824842 477.50755496 641.10504459\n",
      " 448.60398428 469.87969718 497.70589081 517.93560668 425.97435024\n",
      " 556.78835252 421.47916754 418.87057403 424.10950776 394.75502363\n",
      " 585.0181852  614.6820531  594.00865866 570.39611226 518.9263322\n",
      " 510.98876076 529.57270545 368.16812039 763.34689907 418.26444181\n",
      " 461.98550414 403.19507432 528.40047891 594.18834735 683.32406362\n",
      " 403.58497228 356.02536201]\n",
      "new_threshold = 1971.0355249213173\n"
     ]
    },
    {
     "data": {
      "application/vnd.jupyter.widget-view+json": {
       "model_id": "1a4375208f4347f0afcb9580aa2b1fef",
       "version_major": 2,
       "version_minor": 0
      },
      "text/plain": [
       "HBox(children=(FloatProgress(value=1.0, bar_style='info', max=1.0), HTML(value='')))"
      ]
     },
     "metadata": {},
     "output_type": "display_data"
    },
    {
     "name": "stdout",
     "output_type": "stream",
     "text": [
      "\n"
     ]
    },
    {
     "data": {
      "application/vnd.jupyter.widget-view+json": {
       "model_id": "6651186e829440a79f2223afabeb183e",
       "version_major": 2,
       "version_minor": 0
      },
      "text/plain": [
       "HBox(children=(FloatProgress(value=1.0, bar_style='info', max=1.0), HTML(value='')))"
      ]
     },
     "metadata": {},
     "output_type": "display_data"
    },
    {
     "name": "stdout",
     "output_type": "stream",
     "text": [
      "\n",
      "filtered_measurements = [424.54171235 366.89458953 442.16779616 392.66643883 687.36140544\n",
      " 388.78131399 489.41098839 325.02737035 394.37962884 493.71250756\n",
      " 408.3318911  525.64188168 648.55739378 612.57306082 396.65283866\n",
      " 541.06729837 433.44305025 433.01369245 429.47272571 532.75577761\n",
      " 456.74836642 691.86785054 343.00152777 469.60822535 379.51691253\n",
      " 401.3723186  468.99439741 344.33756053 472.60818812 494.2403012\n",
      " 360.85553138 343.15348503 514.07106006 458.81275584 673.24907813\n",
      " 647.79480823 442.86701491 472.41462365 371.50934236 386.57500428\n",
      " 453.48364931 377.75633046 431.41874748 384.33290849 385.82990096\n",
      " 432.09770421 658.21713781 586.5834557  410.17466974 503.96845242\n",
      " 393.84552956 378.36142325 522.28381722 443.07373627 397.29633455\n",
      " 544.27680615 618.47662729 551.30563745 524.16946298]\n",
      "new_threshold = 1800.5946636014573\n"
     ]
    },
    {
     "data": {
      "application/vnd.jupyter.widget-view+json": {
       "model_id": "b7babc390a0a4b9abf550c83dc6ca6f4",
       "version_major": 2,
       "version_minor": 0
      },
      "text/plain": [
       "HBox(children=(FloatProgress(value=1.0, bar_style='info', max=1.0), HTML(value='')))"
      ]
     },
     "metadata": {},
     "output_type": "display_data"
    },
    {
     "name": "stdout",
     "output_type": "stream",
     "text": [
      "\n"
     ]
    },
    {
     "data": {
      "application/vnd.jupyter.widget-view+json": {
       "model_id": "5d15c2d290294335afe3d51abd80bce2",
       "version_major": 2,
       "version_minor": 0
      },
      "text/plain": [
       "HBox(children=(FloatProgress(value=1.0, bar_style='info', max=1.0), HTML(value='')))"
      ]
     },
     "metadata": {},
     "output_type": "display_data"
    },
    {
     "name": "stdout",
     "output_type": "stream",
     "text": [
      "\n",
      "filtered_measurements = [844.97475827 835.54699856 570.10077333 608.08055963 554.08997569\n",
      " 779.0869801  871.995704   691.83525626 599.26386762 614.68048312\n",
      " 509.42675324 601.27124785 888.97295046 550.81019076 567.57696836\n",
      " 638.43959865 575.98953323 577.07941466 614.84121294 605.18750532\n",
      " 548.58182414 537.32677813]\n",
      "new_threshold = 1934.917125100489\n"
     ]
    },
    {
     "data": {
      "application/vnd.jupyter.widget-view+json": {
       "model_id": "7632b080f7824b5fbf66324090b0c623",
       "version_major": 2,
       "version_minor": 0
      },
      "text/plain": [
       "HBox(children=(FloatProgress(value=1.0, bar_style='info', max=1.0), HTML(value='')))"
      ]
     },
     "metadata": {},
     "output_type": "display_data"
    },
    {
     "name": "stdout",
     "output_type": "stream",
     "text": [
      "\n"
     ]
    },
    {
     "data": {
      "application/vnd.jupyter.widget-view+json": {
       "model_id": "a847e5d70b114754843c8a8d2c2d8346",
       "version_major": 2,
       "version_minor": 0
      },
      "text/plain": [
       "HBox(children=(FloatProgress(value=1.0, bar_style='info', max=1.0), HTML(value='')))"
      ]
     },
     "metadata": {},
     "output_type": "display_data"
    },
    {
     "name": "stdout",
     "output_type": "stream",
     "text": [
      "\n",
      "filtered_measurements = [1012.61978466  932.15892289  884.94549289  899.46513918  828.97011992\n",
      "  838.82623189  827.60017114  916.82445964 1050.52216284 1411.14106162\n",
      " 1405.93914664]\n",
      "new_threshold = 3164.5731308228255\n"
     ]
    },
    {
     "data": {
      "application/vnd.jupyter.widget-view+json": {
       "model_id": "9444b327d4f6440397b7d0799dc9fdcc",
       "version_major": 2,
       "version_minor": 0
      },
      "text/plain": [
       "HBox(children=(FloatProgress(value=1.0, bar_style='info', max=1.0), HTML(value='')))"
      ]
     },
     "metadata": {},
     "output_type": "display_data"
    },
    {
     "name": "stdout",
     "output_type": "stream",
     "text": [
      "\n"
     ]
    },
    {
     "data": {
      "application/vnd.jupyter.widget-view+json": {
       "model_id": "6936657a413742f899032480f2969b2e",
       "version_major": 2,
       "version_minor": 0
      },
      "text/plain": [
       "HBox(children=(FloatProgress(value=1.0, bar_style='info', max=1.0), HTML(value='')))"
      ]
     },
     "metadata": {},
     "output_type": "display_data"
    },
    {
     "name": "stdout",
     "output_type": "stream",
     "text": [
      "\n",
      "filtered_measurements = [768.433375   510.89804544 493.2004358  495.35352399 462.80767049\n",
      " 508.75713436 792.08250734 583.610416   609.15233384 603.72212639\n",
      " 894.8604442  609.48052535 790.71937838 478.87335891 514.70734307\n",
      " 809.71975004 651.10342005 796.07819779]\n",
      "new_threshold = 1891.0821102827967\n"
     ]
    },
    {
     "data": {
      "application/vnd.jupyter.widget-view+json": {
       "model_id": "f1e364273da846aa9cc48d6f06554e23",
       "version_major": 2,
       "version_minor": 0
      },
      "text/plain": [
       "HBox(children=(FloatProgress(value=1.0, bar_style='info', max=1.0), HTML(value='')))"
      ]
     },
     "metadata": {},
     "output_type": "display_data"
    },
    {
     "name": "stdout",
     "output_type": "stream",
     "text": [
      "\n"
     ]
    },
    {
     "data": {
      "application/vnd.jupyter.widget-view+json": {
       "model_id": "19d42a6afcfa4168afeb6b09ed395f07",
       "version_major": 2,
       "version_minor": 0
      },
      "text/plain": [
       "HBox(children=(FloatProgress(value=1.0, bar_style='info', max=1.0), HTML(value='')))"
      ]
     },
     "metadata": {},
     "output_type": "display_data"
    },
    {
     "name": "stdout",
     "output_type": "stream",
     "text": [
      "\n",
      "filtered_measurements = [304.79151586 544.58462154 434.66784982 437.52825959 391.38850435\n",
      " 388.609163   492.49877667 417.47761771 532.74774535 543.86537379\n",
      " 555.69037253 369.27374155 342.59996671 364.5329448  364.25297882\n",
      " 354.98942748 412.59443471 409.21865085 375.85473433 515.92105837\n",
      " 448.26802131 435.42039392 485.20641458 613.68325108 566.94151443\n",
      " 609.74091277 401.19732672 362.84946993 515.5828145  511.68308643\n",
      " 408.35003518 379.44118844 489.08575963 585.37504938 312.24664373\n",
      " 422.60315259 340.03211422 272.82905767 368.03227465 315.39899916\n",
      " 608.49374223 573.62281137 391.93737931 427.18892462 375.59438695\n",
      " 505.39549057 281.67273942 347.28323875 540.39558023 348.5051749\n",
      " 299.31987886 279.49821218 240.3953495  398.74969168 362.74298932\n",
      " 393.74856329 321.60643751]\n",
      "new_threshold = 1463.848560471416\n"
     ]
    },
    {
     "data": {
      "application/vnd.jupyter.widget-view+json": {
       "model_id": "8c1c1c9615f84df3a38eee95885b557c",
       "version_major": 2,
       "version_minor": 0
      },
      "text/plain": [
       "HBox(children=(FloatProgress(value=1.0, bar_style='info', max=1.0), HTML(value='')))"
      ]
     },
     "metadata": {},
     "output_type": "display_data"
    },
    {
     "name": "stdout",
     "output_type": "stream",
     "text": [
      "\n"
     ]
    },
    {
     "data": {
      "application/vnd.jupyter.widget-view+json": {
       "model_id": "7f533222004544fdad66e0772cd4979d",
       "version_major": 2,
       "version_minor": 0
      },
      "text/plain": [
       "HBox(children=(FloatProgress(value=1.0, bar_style='info', max=1.0), HTML(value='')))"
      ]
     },
     "metadata": {},
     "output_type": "display_data"
    },
    {
     "name": "stdout",
     "output_type": "stream",
     "text": [
      "\n",
      "filtered_measurements = [801.8263208  829.73115182 612.77423676 557.73092144 462.03924205\n",
      " 398.05998206 828.26811698 398.93738094 364.76556051 413.69832154\n",
      " 427.68507891 563.73107089 621.52487545]\n",
      "new_threshold = 1948.1180236469995\n"
     ]
    },
    {
     "data": {
      "application/vnd.jupyter.widget-view+json": {
       "model_id": "5c2e7a3225904a5a8bc3e524fce0621d",
       "version_major": 2,
       "version_minor": 0
      },
      "text/plain": [
       "HBox(children=(FloatProgress(value=1.0, bar_style='info', max=1.0), HTML(value='')))"
      ]
     },
     "metadata": {},
     "output_type": "display_data"
    },
    {
     "name": "stdout",
     "output_type": "stream",
     "text": [
      "\n",
      "\n",
      "Working on limb #6\n"
     ]
    },
    {
     "data": {
      "application/vnd.jupyter.widget-view+json": {
       "model_id": "6125dc8141a44aa4beac77d52c26da01",
       "version_major": 2,
       "version_minor": 0
      },
      "text/plain": [
       "HBox(children=(FloatProgress(value=1.0, bar_style='info', max=1.0), HTML(value='')))"
      ]
     },
     "metadata": {},
     "output_type": "display_data"
    },
    {
     "data": {
      "application/vnd.jupyter.widget-view+json": {
       "model_id": "fea301a13c0f4fc187aae416db4a03ec",
       "version_major": 2,
       "version_minor": 0
      },
      "text/plain": [
       "HBox(children=(FloatProgress(value=1.0, bar_style='info', max=1.0), HTML(value='')))"
      ]
     },
     "metadata": {},
     "output_type": "display_data"
    },
    {
     "name": "stdout",
     "output_type": "stream",
     "text": [
      "--> Not exactly one containing mesh: []\n",
      "\n",
      "filtered_measurements = [160.21532846  88.68450514  83.31821289  96.22847912  95.65541297\n",
      "  89.93375756 107.0501024   67.58196907  65.19273464 107.63441977\n",
      " 119.75587053  60.53132165  72.06519889 124.73655493 121.66655162\n",
      "  81.80478475  70.40637383  68.74660702 106.25466086  89.88153427\n",
      "  57.87648391 117.13494428 156.66939565 116.48049826  53.93620424\n",
      "  91.20390734 122.19124383 150.99954002 146.111656    58.32051182\n",
      " 131.61638543 117.59332654 100.48922285 111.8367831  153.69470664]\n",
      "new_threshold = 400.73601037343843\n"
     ]
    },
    {
     "data": {
      "application/vnd.jupyter.widget-view+json": {
       "model_id": "91ea21042dd14a85b1c15c3bc915db00",
       "version_major": 2,
       "version_minor": 0
      },
      "text/plain": [
       "HBox(children=(FloatProgress(value=1.0, bar_style='info', max=1.0), HTML(value='')))"
      ]
     },
     "metadata": {},
     "output_type": "display_data"
    },
    {
     "name": "stdout",
     "output_type": "stream",
     "text": [
      "--> Not exactly one containing mesh: []\n",
      "\n"
     ]
    },
    {
     "data": {
      "application/vnd.jupyter.widget-view+json": {
       "model_id": "24252e083c3e4135af293ea209b60c79",
       "version_major": 2,
       "version_minor": 0
      },
      "text/plain": [
       "HBox(children=(FloatProgress(value=1.0, bar_style='info', max=1.0), HTML(value='')))"
      ]
     },
     "metadata": {},
     "output_type": "display_data"
    },
    {
     "name": "stdout",
     "output_type": "stream",
     "text": [
      "\n",
      "filtered_measurements = [205.16402694 195.95022563 416.71380539 178.07868482 226.4444238\n",
      " 455.44688827 265.14001008 214.23170843 478.57191159 308.94784201\n",
      " 214.07133816 196.27016036 397.84470312 244.39240036 313.34463181\n",
      " 316.71043294 228.90593484 270.47180819 311.70559386 209.64890289\n",
      " 345.27400322 202.82241846 272.05483734 425.14035887 269.26265811\n",
      " 324.36647354 483.7075602  402.95113317 295.8633941  392.53423838\n",
      " 235.95201442 385.12467943 278.45584231 302.94950323 253.49454471\n",
      " 292.16532209 268.82039653 229.24878038 210.88255151 282.55070353\n",
      " 272.89286387 377.35472447 192.51756007 219.15058605 263.27710689\n",
      " 390.68612109 329.32927335 256.31432434 323.03663106 420.22891461\n",
      " 454.25750252 247.53630105 384.64470324 329.921901   466.11547062]\n",
      "new_threshold = 1279.7452283715702\n"
     ]
    },
    {
     "data": {
      "application/vnd.jupyter.widget-view+json": {
       "model_id": "65f296e7163a47f987ff13f3a611f0ec",
       "version_major": 2,
       "version_minor": 0
      },
      "text/plain": [
       "HBox(children=(FloatProgress(value=1.0, bar_style='info', max=1.0), HTML(value='')))"
      ]
     },
     "metadata": {},
     "output_type": "display_data"
    },
    {
     "name": "stdout",
     "output_type": "stream",
     "text": [
      "\n"
     ]
    },
    {
     "data": {
      "application/vnd.jupyter.widget-view+json": {
       "model_id": "308c87cd70d64136b1bde36577aed995",
       "version_major": 2,
       "version_minor": 0
      },
      "text/plain": [
       "HBox(children=(FloatProgress(value=1.0, bar_style='info', max=1.0), HTML(value='')))"
      ]
     },
     "metadata": {},
     "output_type": "display_data"
    },
    {
     "name": "stdout",
     "output_type": "stream",
     "text": [
      "--> Not exactly one containing mesh: []\n",
      "\n",
      "filtered_measurements = [206.33317542 270.54749283 480.89978043 334.11483478 354.21731165\n",
      " 474.29080205 268.70986032 241.84772909 427.37370894 280.49268566\n",
      " 324.83792846 333.93736247 267.04749634 267.87920731 378.20801069\n",
      " 335.79472681 231.46654393 264.13150209 353.45403697 252.34210211\n",
      " 468.02890328 209.15188578 396.01928727]\n",
      "new_threshold = 1248.8588531484659\n"
     ]
    },
    {
     "data": {
      "application/vnd.jupyter.widget-view+json": {
       "model_id": "edb52fd13d0749ccac0e09ecf1a42d33",
       "version_major": 2,
       "version_minor": 0
      },
      "text/plain": [
       "HBox(children=(FloatProgress(value=1.0, bar_style='info', max=1.0), HTML(value='')))"
      ]
     },
     "metadata": {},
     "output_type": "display_data"
    },
    {
     "name": "stdout",
     "output_type": "stream",
     "text": [
      "--> Not exactly one containing mesh: []\n",
      "\n"
     ]
    },
    {
     "data": {
      "application/vnd.jupyter.widget-view+json": {
       "model_id": "609cf22e8eae498db7a926730924fc12",
       "version_major": 2,
       "version_minor": 0
      },
      "text/plain": [
       "HBox(children=(FloatProgress(value=1.0, bar_style='info', max=1.0), HTML(value='')))"
      ]
     },
     "metadata": {},
     "output_type": "display_data"
    },
    {
     "name": "stdout",
     "output_type": "stream",
     "text": [
      "\n",
      "filtered_measurements = [258.98228695 237.3078414  136.13656514 207.79466348 245.65779202\n",
      " 360.2356155  413.11096094 294.15930664 163.08355771 364.68940389\n",
      " 279.95817002 394.16025447 261.56032353 309.83570231 241.20807902\n",
      " 325.3678238  239.78563725 439.05771379 322.00781212 289.28250883\n",
      " 202.47620437 148.87182026]\n",
      "new_threshold = 1062.6807868401775\n"
     ]
    },
    {
     "data": {
      "application/vnd.jupyter.widget-view+json": {
       "model_id": "6b62cba5c9cc41de93cf2926dce39579",
       "version_major": 2,
       "version_minor": 0
      },
      "text/plain": [
       "HBox(children=(FloatProgress(value=1.0, bar_style='info', max=1.0), HTML(value='')))"
      ]
     },
     "metadata": {},
     "output_type": "display_data"
    },
    {
     "name": "stdout",
     "output_type": "stream",
     "text": [
      "\n"
     ]
    },
    {
     "data": {
      "application/vnd.jupyter.widget-view+json": {
       "model_id": "f940f778dbfd4d40b805f6f5482c7255",
       "version_major": 2,
       "version_minor": 0
      },
      "text/plain": [
       "HBox(children=(FloatProgress(value=1.0, bar_style='info', max=1.0), HTML(value='')))"
      ]
     },
     "metadata": {},
     "output_type": "display_data"
    },
    {
     "name": "stdout",
     "output_type": "stream",
     "text": [
      "\n",
      "filtered_measurements = [232.25428918 229.97739527 368.96104014 449.0820728  213.68300525\n",
      " 280.7770255 ]\n",
      "new_threshold = 1159.6330017871376\n"
     ]
    },
    {
     "data": {
      "application/vnd.jupyter.widget-view+json": {
       "model_id": "bdfff51f1a6b46c78bce289dd76ad1bd",
       "version_major": 2,
       "version_minor": 0
      },
      "text/plain": [
       "HBox(children=(FloatProgress(value=1.0, bar_style='info', max=1.0), HTML(value='')))"
      ]
     },
     "metadata": {},
     "output_type": "display_data"
    },
    {
     "name": "stdout",
     "output_type": "stream",
     "text": [
      "\n"
     ]
    },
    {
     "data": {
      "application/vnd.jupyter.widget-view+json": {
       "model_id": "642072060a8f434dbd08303e03c38f20",
       "version_major": 2,
       "version_minor": 0
      },
      "text/plain": [
       "HBox(children=(FloatProgress(value=1.0, bar_style='info', max=1.0), HTML(value='')))"
      ]
     },
     "metadata": {},
     "output_type": "display_data"
    },
    {
     "name": "stdout",
     "output_type": "stream",
     "text": [
      "\n",
      "filtered_measurements = [592.93479429 276.62425363 401.09515282 272.47204977 264.98787707\n",
      " 291.34484946 239.31252904 359.35265165 557.16297721 454.40041602\n",
      " 424.1382585  568.00390616 357.98447295 613.64898668 304.8909244\n",
      " 558.08893133 561.00347525 406.07034103 444.85193809 549.37885362\n",
      " 343.18318831]\n",
      "new_threshold = 1597.6158650486345\n"
     ]
    },
    {
     "data": {
      "application/vnd.jupyter.widget-view+json": {
       "model_id": "053c0fd96f5d4b488a64bd05530178a6",
       "version_major": 2,
       "version_minor": 0
      },
      "text/plain": [
       "HBox(children=(FloatProgress(value=1.0, bar_style='info', max=1.0), HTML(value='')))"
      ]
     },
     "metadata": {},
     "output_type": "display_data"
    },
    {
     "name": "stdout",
     "output_type": "stream",
     "text": [
      "\n"
     ]
    },
    {
     "data": {
      "application/vnd.jupyter.widget-view+json": {
       "model_id": "c585c399c7fd49ffbc1cf67788b3e740",
       "version_major": 2,
       "version_minor": 0
      },
      "text/plain": [
       "HBox(children=(FloatProgress(value=1.0, bar_style='info', max=1.0), HTML(value='')))"
      ]
     },
     "metadata": {},
     "output_type": "display_data"
    },
    {
     "name": "stdout",
     "output_type": "stream",
     "text": [
      "--> Not exactly one containing mesh: []\n",
      "--> Not exactly one containing mesh: []\n",
      "\n",
      "filtered_measurements = [66.12973369 73.62709171 98.79769934 67.45031568 85.8519861  81.596181  ]\n",
      "new_threshold = 198.15433318335215\n"
     ]
    },
    {
     "data": {
      "application/vnd.jupyter.widget-view+json": {
       "model_id": "ed19a617ba214c5abd0ff64d60ca9317",
       "version_major": 2,
       "version_minor": 0
      },
      "text/plain": [
       "HBox(children=(FloatProgress(value=1.0, bar_style='info', max=1.0), HTML(value='')))"
      ]
     },
     "metadata": {},
     "output_type": "display_data"
    },
    {
     "name": "stdout",
     "output_type": "stream",
     "text": [
      "--> Not exactly one containing mesh: []\n",
      "--> Not exactly one containing mesh: []\n",
      "--> Not exactly one containing mesh: []\n",
      "\n",
      "branch_touching_number = [10]\n",
      "branch_touching_number = [10, 1]\n",
      "most_branch_containing_piece = 0\n"
     ]
    },
    {
     "data": {
      "application/vnd.jupyter.widget-view+json": {
       "model_id": "de5d965b568b44e79fc0babe0e2f6dc2",
       "version_major": 2,
       "version_minor": 0
      },
      "text/plain": [
       "HBox(children=(FloatProgress(value=1.0, bar_style='info', max=1.0), HTML(value='')))"
      ]
     },
     "metadata": {},
     "output_type": "display_data"
    },
    {
     "name": "stdout",
     "output_type": "stream",
     "text": [
      "\n",
      "filtered_measurements = [512.52284409 654.32782331 340.68401709 445.23616452 573.666325\n",
      " 446.30921027 377.91245941 566.97045979 346.09609309 567.323282\n",
      " 440.02423029 269.28640203 318.90988365 477.4154513  453.06222825\n",
      " 446.23820763 491.89283903 311.40457304 280.66909608 310.98613514\n",
      " 285.91085099 289.29335787 299.60866823 289.26541678 486.65268179\n",
      " 364.12523785 452.6289789 ]\n",
      "new_threshold = 1524.9887739674748\n"
     ]
    },
    {
     "data": {
      "application/vnd.jupyter.widget-view+json": {
       "model_id": "ca2884c2696b47c49cf12ff6db9de920",
       "version_major": 2,
       "version_minor": 0
      },
      "text/plain": [
       "HBox(children=(FloatProgress(value=1.0, bar_style='info', max=1.0), HTML(value='')))"
      ]
     },
     "metadata": {},
     "output_type": "display_data"
    },
    {
     "name": "stdout",
     "output_type": "stream",
     "text": [
      "\n"
     ]
    },
    {
     "data": {
      "application/vnd.jupyter.widget-view+json": {
       "model_id": "50fee1e816f84b9b9195aa9489730ea6",
       "version_major": 2,
       "version_minor": 0
      },
      "text/plain": [
       "HBox(children=(FloatProgress(value=1.0, bar_style='info', max=1.0), HTML(value='')))"
      ]
     },
     "metadata": {},
     "output_type": "display_data"
    },
    {
     "name": "stdout",
     "output_type": "stream",
     "text": [
      "\n",
      "filtered_measurements = [73.64978151 80.70027518 81.95198369 80.22195025 86.13522188]\n",
      "new_threshold = 170.69111741281375\n"
     ]
    },
    {
     "data": {
      "application/vnd.jupyter.widget-view+json": {
       "model_id": "0df252dbd63f467fbb30ea27ac560d29",
       "version_major": 2,
       "version_minor": 0
      },
      "text/plain": [
       "HBox(children=(FloatProgress(value=1.0, bar_style='info', max=1.0), HTML(value='')))"
      ]
     },
     "metadata": {},
     "output_type": "display_data"
    },
    {
     "name": "stdout",
     "output_type": "stream",
     "text": [
      "--> Not exactly one containing mesh: []\n",
      "--> Not exactly one containing mesh: []\n",
      "--> Not exactly one containing mesh: []\n",
      "THERE WERE NO FACES THAT FIT THE DISTANCE (170.69111741281375) and Z transform requirements\n",
      "So just skipping this edge\n",
      "\n",
      "branch_touching_number = [7]\n",
      "branch_touching_number = [7, 2]\n",
      "branch_touching_number = [7, 2, 1]\n",
      "most_branch_containing_piece = 0\n"
     ]
    },
    {
     "data": {
      "application/vnd.jupyter.widget-view+json": {
       "model_id": "cc7fea74b0484842b536b921e7cbb790",
       "version_major": 2,
       "version_minor": 0
      },
      "text/plain": [
       "HBox(children=(FloatProgress(value=1.0, bar_style='info', max=1.0), HTML(value='')))"
      ]
     },
     "metadata": {},
     "output_type": "display_data"
    },
    {
     "name": "stdout",
     "output_type": "stream",
     "text": [
      "--> Not exactly one containing mesh: []\n",
      "\n",
      "filtered_measurements = [245.91999157 270.08581042 255.89306366 468.91035429 322.56549962\n",
      " 404.5647634  419.4922525  297.50775184 326.45046437 326.98112092\n",
      " 440.55303624 373.59852568 278.64701696 249.06983241 306.31850263\n",
      " 199.38046774 250.72540445 315.12012429 352.83534411 339.62606145\n",
      " 367.47641149 312.29521332]\n",
      "new_threshold = 1202.0764212680297\n"
     ]
    },
    {
     "data": {
      "application/vnd.jupyter.widget-view+json": {
       "model_id": "9d35c25d718f40298344ed5b2e2192e4",
       "version_major": 2,
       "version_minor": 0
      },
      "text/plain": [
       "HBox(children=(FloatProgress(value=1.0, bar_style='info', max=1.0), HTML(value='')))"
      ]
     },
     "metadata": {},
     "output_type": "display_data"
    },
    {
     "name": "stdout",
     "output_type": "stream",
     "text": [
      "--> Not exactly one containing mesh: []\n",
      "\n"
     ]
    },
    {
     "data": {
      "application/vnd.jupyter.widget-view+json": {
       "model_id": "a0449879e12f45199258c9eb1f401c15",
       "version_major": 2,
       "version_minor": 0
      },
      "text/plain": [
       "HBox(children=(FloatProgress(value=1.0, bar_style='info', max=1.0), HTML(value='')))"
      ]
     },
     "metadata": {},
     "output_type": "display_data"
    },
    {
     "name": "stdout",
     "output_type": "stream",
     "text": [
      "\n",
      "filtered_measurements = [670.22786815 770.51851234 618.77169552]\n",
      "new_threshold = 1516.1553804780829\n"
     ]
    },
    {
     "data": {
      "application/vnd.jupyter.widget-view+json": {
       "model_id": "8d5a2268d6a74485abd345066aa41fc7",
       "version_major": 2,
       "version_minor": 0
      },
      "text/plain": [
       "HBox(children=(FloatProgress(value=1.0, bar_style='info', max=1.0), HTML(value='')))"
      ]
     },
     "metadata": {},
     "output_type": "display_data"
    },
    {
     "name": "stdout",
     "output_type": "stream",
     "text": [
      "\n"
     ]
    },
    {
     "data": {
      "application/vnd.jupyter.widget-view+json": {
       "model_id": "35b4f8ba4a204ff6bac0e5c1464dd377",
       "version_major": 2,
       "version_minor": 0
      },
      "text/plain": [
       "HBox(children=(FloatProgress(value=1.0, bar_style='info', max=1.0), HTML(value='')))"
      ]
     },
     "metadata": {},
     "output_type": "display_data"
    },
    {
     "name": "stdout",
     "output_type": "stream",
     "text": [
      "\n",
      "filtered_measurements = [590.60504459 537.23243379 581.10848869]\n",
      "new_threshold = 906.2688717265389\n"
     ]
    },
    {
     "data": {
      "application/vnd.jupyter.widget-view+json": {
       "model_id": "5cf8a1ee0d7b4930a7ad48032c0fd765",
       "version_major": 2,
       "version_minor": 0
      },
      "text/plain": [
       "HBox(children=(FloatProgress(value=1.0, bar_style='info', max=1.0), HTML(value='')))"
      ]
     },
     "metadata": {},
     "output_type": "display_data"
    },
    {
     "name": "stdout",
     "output_type": "stream",
     "text": [
      "\n"
     ]
    },
    {
     "data": {
      "application/vnd.jupyter.widget-view+json": {
       "model_id": "bb2b09c8cd2f44cfa3a6c93794146a07",
       "version_major": 2,
       "version_minor": 0
      },
      "text/plain": [
       "HBox(children=(FloatProgress(value=1.0, bar_style='info', max=1.0), HTML(value='')))"
      ]
     },
     "metadata": {},
     "output_type": "display_data"
    },
    {
     "name": "stdout",
     "output_type": "stream",
     "text": [
      "--> Not exactly one containing mesh: [0 1]\n",
      "\n",
      "filtered_measurements = [414.22975748 516.96788979 723.41550534 416.35133237 537.80876454]\n",
      "new_threshold = 1799.5472061975797\n"
     ]
    },
    {
     "data": {
      "application/vnd.jupyter.widget-view+json": {
       "model_id": "f4ffc0a64bb94e3884e0c9f07de4f3dd",
       "version_major": 2,
       "version_minor": 0
      },
      "text/plain": [
       "HBox(children=(FloatProgress(value=1.0, bar_style='info', max=1.0), HTML(value='')))"
      ]
     },
     "metadata": {},
     "output_type": "display_data"
    },
    {
     "name": "stdout",
     "output_type": "stream",
     "text": [
      "--> Not exactly one containing mesh: [0 1]\n",
      "\n"
     ]
    },
    {
     "data": {
      "application/vnd.jupyter.widget-view+json": {
       "model_id": "9c94143960414e1fb0e2795e27d28da6",
       "version_major": 2,
       "version_minor": 0
      },
      "text/plain": [
       "HBox(children=(FloatProgress(value=1.0, bar_style='info', max=1.0), HTML(value='')))"
      ]
     },
     "metadata": {},
     "output_type": "display_data"
    },
    {
     "name": "stdout",
     "output_type": "stream",
     "text": [
      "\n",
      "filtered_measurements = [590.26609047 598.31033907 580.87429085 563.93902322]\n",
      "new_threshold = 988.9576396844061\n"
     ]
    },
    {
     "data": {
      "application/vnd.jupyter.widget-view+json": {
       "model_id": "b4323bcbccf14000b60d8315708516e0",
       "version_major": 2,
       "version_minor": 0
      },
      "text/plain": [
       "HBox(children=(FloatProgress(value=1.0, bar_style='info', max=1.0), HTML(value='')))"
      ]
     },
     "metadata": {},
     "output_type": "display_data"
    },
    {
     "name": "stdout",
     "output_type": "stream",
     "text": [
      "\n"
     ]
    },
    {
     "data": {
      "application/vnd.jupyter.widget-view+json": {
       "model_id": "0719575956ae4181a92508a3f4b2abaa",
       "version_major": 2,
       "version_minor": 0
      },
      "text/plain": [
       "HBox(children=(FloatProgress(value=1.0, bar_style='info', max=1.0), HTML(value='')))"
      ]
     },
     "metadata": {},
     "output_type": "display_data"
    },
    {
     "name": "stdout",
     "output_type": "stream",
     "text": [
      "\n",
      "filtered_measurements = [ 97.31230225 114.15653553  82.00339911 106.21179079 139.3739364\n",
      " 156.47843698  87.09953696  86.59145823  65.32600228  79.66667845\n",
      " 102.73266357 102.7454933   85.44965409  78.0240643   69.58440803\n",
      "  87.39642412 109.37123086 137.20668139 121.751283   106.0071528 ]\n",
      "new_threshold = 309.2038627280443\n"
     ]
    },
    {
     "data": {
      "application/vnd.jupyter.widget-view+json": {
       "model_id": "0d2cf4e3c6514d73917687d836a44088",
       "version_major": 2,
       "version_minor": 0
      },
      "text/plain": [
       "HBox(children=(FloatProgress(value=1.0, bar_style='info', max=1.0), HTML(value='')))"
      ]
     },
     "metadata": {},
     "output_type": "display_data"
    },
    {
     "name": "stdout",
     "output_type": "stream",
     "text": [
      "--> Not exactly one containing mesh: []\n",
      "--> Not exactly one containing mesh: []\n",
      "\n",
      "branch_touching_number = [25]\n",
      "branch_touching_number = [25, 1]\n",
      "most_branch_containing_piece = 0\n"
     ]
    },
    {
     "data": {
      "application/vnd.jupyter.widget-view+json": {
       "model_id": "a0765c3cb707462aaf29e0cc4ac26236",
       "version_major": 2,
       "version_minor": 0
      },
      "text/plain": [
       "HBox(children=(FloatProgress(value=1.0, bar_style='info', max=1.0), HTML(value='')))"
      ]
     },
     "metadata": {},
     "output_type": "display_data"
    },
    {
     "name": "stdout",
     "output_type": "stream",
     "text": [
      "\n",
      "filtered_measurements = [394.43018051 297.52564876 420.78804616 349.78606597 335.50103921\n",
      " 273.38901075 382.03731334 387.20645819 373.96578014 522.23722006\n",
      " 262.10635207 192.12669973 324.2019466  285.72259    292.70744753\n",
      " 488.46039378 289.36476931 243.14145897 358.1260928  280.29012438\n",
      " 324.90886905 362.33027789 279.71188005 392.02337503 343.14412839\n",
      " 355.35167342 398.3408042  417.83169121 421.90140035 233.56048362\n",
      " 433.16372563 488.34873248 355.3184094  302.20431245 341.45567071\n",
      " 493.42405734 234.31265449 269.23269807 263.88290126 389.74500931\n",
      " 399.53372901 260.00508737 212.58262259 311.33770141 496.31473891\n",
      " 364.31581033 357.329999   506.07934389 304.05670822 368.42874467\n",
      " 411.10534567 386.60541445 187.79954872 248.36941794 410.73551391\n",
      " 196.17483722 322.71171104 461.77929659 166.52144125 446.54040745\n",
      " 321.26473537 246.29879586 252.66871097 287.24190671 472.94916576\n",
      " 161.54726218 351.9091806  277.25098966 299.82673703 253.33616668\n",
      " 352.68014871 266.46068331 211.64430428 116.23781612 249.73230742\n",
      " 210.399401   122.33507215 192.58626147 290.53909665 277.33347492]\n",
      "new_threshold = 1337.35791762507\n"
     ]
    },
    {
     "data": {
      "application/vnd.jupyter.widget-view+json": {
       "model_id": "e8b07dc0a9df4e51a43f191f933fd1bf",
       "version_major": 2,
       "version_minor": 0
      },
      "text/plain": [
       "HBox(children=(FloatProgress(value=1.0, bar_style='info', max=1.0), HTML(value='')))"
      ]
     },
     "metadata": {},
     "output_type": "display_data"
    },
    {
     "name": "stdout",
     "output_type": "stream",
     "text": [
      "\n"
     ]
    },
    {
     "data": {
      "application/vnd.jupyter.widget-view+json": {
       "model_id": "1feda1f1a3074dc78b7caf81471efeeb",
       "version_major": 2,
       "version_minor": 0
      },
      "text/plain": [
       "HBox(children=(FloatProgress(value=1.0, bar_style='info', max=1.0), HTML(value='')))"
      ]
     },
     "metadata": {},
     "output_type": "display_data"
    },
    {
     "name": "stdout",
     "output_type": "stream",
     "text": [
      "\n",
      "filtered_measurements = [884.62389208]\n",
      "new_threshold = 1711.4901849553557\n"
     ]
    },
    {
     "data": {
      "application/vnd.jupyter.widget-view+json": {
       "model_id": "a1ef92fbdc114947bce9e0ab7204a68f",
       "version_major": 2,
       "version_minor": 0
      },
      "text/plain": [
       "HBox(children=(FloatProgress(value=1.0, bar_style='info', max=1.0), HTML(value='')))"
      ]
     },
     "metadata": {},
     "output_type": "display_data"
    },
    {
     "name": "stdout",
     "output_type": "stream",
     "text": [
      "\n",
      "\n",
      "Working on limb #7\n"
     ]
    },
    {
     "data": {
      "application/vnd.jupyter.widget-view+json": {
       "model_id": "090e77baf5de4bfeab28caa27a09a7ed",
       "version_major": 2,
       "version_minor": 0
      },
      "text/plain": [
       "HBox(children=(FloatProgress(value=1.0, bar_style='info', max=1.0), HTML(value='')))"
      ]
     },
     "metadata": {},
     "output_type": "display_data"
    },
    {
     "data": {
      "application/vnd.jupyter.widget-view+json": {
       "model_id": "60a4f928d4e94e98a4ff831a29d1b505",
       "version_major": 2,
       "version_minor": 0
      },
      "text/plain": [
       "HBox(children=(FloatProgress(value=1.0, bar_style='info', max=1.0), HTML(value='')))"
      ]
     },
     "metadata": {},
     "output_type": "display_data"
    },
    {
     "name": "stdout",
     "output_type": "stream",
     "text": [
      "\n",
      "filtered_measurements = [448.7956381  317.12571614 265.86721272 343.54177072 425.20032608\n",
      " 473.65674736 251.86042935 198.36440151 372.78256283 319.68343919\n",
      " 302.52265345 294.70544763 365.86336179 228.71722514 199.28343756\n",
      " 476.53917474 394.13433101 304.92202008 318.92920269 370.67301065\n",
      " 324.70841068 424.3638771  289.51925752 264.29632571 391.23487547\n",
      " 377.37289551 424.58385071 210.39787362 201.82314349 396.91538503\n",
      " 381.11710073 313.814557   438.30306342 224.68705817 247.60328535\n",
      " 277.15379948 266.0625426  240.73363108 312.13192546 248.42501641]\n",
      "new_threshold = 1173.1813631464217\n"
     ]
    },
    {
     "data": {
      "application/vnd.jupyter.widget-view+json": {
       "model_id": "123a70420fe74e8fb95e49773c5934d0",
       "version_major": 2,
       "version_minor": 0
      },
      "text/plain": [
       "HBox(children=(FloatProgress(value=1.0, bar_style='info', max=1.0), HTML(value='')))"
      ]
     },
     "metadata": {},
     "output_type": "display_data"
    },
    {
     "name": "stdout",
     "output_type": "stream",
     "text": [
      "\n"
     ]
    },
    {
     "data": {
      "application/vnd.jupyter.widget-view+json": {
       "model_id": "7842e065c4674bcbb9b0181e780f700b",
       "version_major": 2,
       "version_minor": 0
      },
      "text/plain": [
       "HBox(children=(FloatProgress(value=1.0, bar_style='info', max=1.0), HTML(value='')))"
      ]
     },
     "metadata": {},
     "output_type": "display_data"
    },
    {
     "name": "stdout",
     "output_type": "stream",
     "text": [
      "\n",
      "filtered_measurements = [675.18182202 747.0142934  627.27001503 732.11152267 687.42985448\n",
      " 634.57655034 556.53685091 580.71167567 643.15850452 520.07268723\n",
      " 507.5639687  485.26437894 503.45772709 590.41961895]\n",
      "new_threshold = 1381.6925397638738\n"
     ]
    },
    {
     "data": {
      "application/vnd.jupyter.widget-view+json": {
       "model_id": "c9e6b84a8c6140b58b64e0311fb93721",
       "version_major": 2,
       "version_minor": 0
      },
      "text/plain": [
       "HBox(children=(FloatProgress(value=1.0, bar_style='info', max=1.0), HTML(value='')))"
      ]
     },
     "metadata": {},
     "output_type": "display_data"
    },
    {
     "name": "stdout",
     "output_type": "stream",
     "text": [
      "\n"
     ]
    },
    {
     "data": {
      "application/vnd.jupyter.widget-view+json": {
       "model_id": "8de47a26a9b046e9aada811c0f369381",
       "version_major": 2,
       "version_minor": 0
      },
      "text/plain": [
       "HBox(children=(FloatProgress(value=1.0, bar_style='info', max=1.0), HTML(value='')))"
      ]
     },
     "metadata": {},
     "output_type": "display_data"
    },
    {
     "name": "stdout",
     "output_type": "stream",
     "text": [
      "\n",
      "filtered_measurements = [315.5665583  482.25251737 423.87253288 349.64620178 364.28040108\n",
      " 397.24650769 390.73282257 410.90668796 365.56252511]\n",
      "new_threshold = 1169.1553051560913\n"
     ]
    },
    {
     "data": {
      "application/vnd.jupyter.widget-view+json": {
       "model_id": "f8eff15ffe064654acb880a418e81ec7",
       "version_major": 2,
       "version_minor": 0
      },
      "text/plain": [
       "HBox(children=(FloatProgress(value=1.0, bar_style='info', max=1.0), HTML(value='')))"
      ]
     },
     "metadata": {},
     "output_type": "display_data"
    },
    {
     "name": "stdout",
     "output_type": "stream",
     "text": [
      "\n"
     ]
    },
    {
     "data": {
      "application/vnd.jupyter.widget-view+json": {
       "model_id": "e3af01e2b0b7480c97dbc62cca59dd9e",
       "version_major": 2,
       "version_minor": 0
      },
      "text/plain": [
       "HBox(children=(FloatProgress(value=1.0, bar_style='info', max=1.0), HTML(value='')))"
      ]
     },
     "metadata": {},
     "output_type": "display_data"
    },
    {
     "name": "stdout",
     "output_type": "stream",
     "text": [
      "\n",
      "filtered_measurements = [307.8431465  438.25203239 484.51107673 420.14949872]\n",
      "new_threshold = 840.8237115378922\n"
     ]
    },
    {
     "data": {
      "application/vnd.jupyter.widget-view+json": {
       "model_id": "5c2ceca12f1b4f2ab86d09291383f698",
       "version_major": 2,
       "version_minor": 0
      },
      "text/plain": [
       "HBox(children=(FloatProgress(value=1.0, bar_style='info', max=1.0), HTML(value='')))"
      ]
     },
     "metadata": {},
     "output_type": "display_data"
    },
    {
     "name": "stdout",
     "output_type": "stream",
     "text": [
      "\n"
     ]
    },
    {
     "data": {
      "application/vnd.jupyter.widget-view+json": {
       "model_id": "0e46e78f43ed45729bcd9a3d09586668",
       "version_major": 2,
       "version_minor": 0
      },
      "text/plain": [
       "HBox(children=(FloatProgress(value=1.0, bar_style='info', max=1.0), HTML(value='')))"
      ]
     },
     "metadata": {},
     "output_type": "display_data"
    },
    {
     "name": "stdout",
     "output_type": "stream",
     "text": [
      "\n",
      "filtered_measurements = [215.46883159 320.55111951 319.9728066  307.54912018 195.11853954\n",
      " 385.82079456 324.66862777 249.37814819 248.14760046 413.04890412\n",
      " 209.79215697 395.28917609 472.45651263 248.20967894 310.75736138\n",
      " 312.32278275 250.41180162 223.36786974 171.02918487 453.68795996\n",
      " 264.29799974 258.32681668 400.26399888 341.75237509 301.92535167\n",
      " 318.68982197 325.59419875 341.4461776  273.20369083 158.64425513\n",
      " 170.905067   292.84101887]\n",
      "new_threshold = 1141.4319890416323\n"
     ]
    },
    {
     "data": {
      "application/vnd.jupyter.widget-view+json": {
       "model_id": "c889533bad0947e7a08ddc1f55a7153c",
       "version_major": 2,
       "version_minor": 0
      },
      "text/plain": [
       "HBox(children=(FloatProgress(value=1.0, bar_style='info', max=1.0), HTML(value='')))"
      ]
     },
     "metadata": {},
     "output_type": "display_data"
    },
    {
     "name": "stdout",
     "output_type": "stream",
     "text": [
      "\n"
     ]
    },
    {
     "data": {
      "application/vnd.jupyter.widget-view+json": {
       "model_id": "36dc999ffa7f4b0db9d16bbee3e9a6ff",
       "version_major": 2,
       "version_minor": 0
      },
      "text/plain": [
       "HBox(children=(FloatProgress(value=1.0, bar_style='info', max=1.0), HTML(value='')))"
      ]
     },
     "metadata": {},
     "output_type": "display_data"
    },
    {
     "name": "stdout",
     "output_type": "stream",
     "text": [
      "--> Not exactly one containing mesh: []\n",
      "\n",
      "filtered_measurements = [113.14079294  44.77929186  56.60525173  92.23167401  98.64957199]\n",
      "new_threshold = 195.45769804428002\n"
     ]
    },
    {
     "data": {
      "application/vnd.jupyter.widget-view+json": {
       "model_id": "25fb1c3d33014ac28c275ae6f3473075",
       "version_major": 2,
       "version_minor": 0
      },
      "text/plain": [
       "HBox(children=(FloatProgress(value=1.0, bar_style='info', max=1.0), HTML(value='')))"
      ]
     },
     "metadata": {},
     "output_type": "display_data"
    },
    {
     "name": "stdout",
     "output_type": "stream",
     "text": [
      "--> Not exactly one containing mesh: []\n",
      "--> Not exactly one containing mesh: []\n",
      "\n",
      "branch_touching_number = [7]\n",
      "branch_touching_number = [7, 1]\n",
      "most_branch_containing_piece = 0\n"
     ]
    },
    {
     "data": {
      "application/vnd.jupyter.widget-view+json": {
       "model_id": "1313104c42f74b4cb23f952f0edaf127",
       "version_major": 2,
       "version_minor": 0
      },
      "text/plain": [
       "HBox(children=(FloatProgress(value=1.0, bar_style='info', max=1.0), HTML(value='')))"
      ]
     },
     "metadata": {},
     "output_type": "display_data"
    },
    {
     "name": "stdout",
     "output_type": "stream",
     "text": [
      "\n",
      "filtered_measurements = [243.15262714 225.81686171 259.75894476 273.06257139 194.35732787\n",
      " 169.13598134 234.02764691]\n",
      "new_threshold = 534.8212167808786\n"
     ]
    },
    {
     "data": {
      "application/vnd.jupyter.widget-view+json": {
       "model_id": "f1f961cc5ac1419cb41cf2168aba20b0",
       "version_major": 2,
       "version_minor": 0
      },
      "text/plain": [
       "HBox(children=(FloatProgress(value=1.0, bar_style='info', max=1.0), HTML(value='')))"
      ]
     },
     "metadata": {},
     "output_type": "display_data"
    },
    {
     "name": "stdout",
     "output_type": "stream",
     "text": [
      "\n"
     ]
    },
    {
     "data": {
      "application/vnd.jupyter.widget-view+json": {
       "model_id": "1dce0d9eb46a483eb5a9f96dd0a795bb",
       "version_major": 2,
       "version_minor": 0
      },
      "text/plain": [
       "HBox(children=(FloatProgress(value=1.0, bar_style='info', max=1.0), HTML(value='')))"
      ]
     },
     "metadata": {},
     "output_type": "display_data"
    },
    {
     "name": "stdout",
     "output_type": "stream",
     "text": [
      "\n",
      "filtered_measurements = [222.51011551 222.90070107 271.69885823 272.33521266 246.72564175\n",
      " 284.67783105 273.32848308 273.7194406  280.5705425  318.49981896\n",
      " 347.12478012 262.7724225  273.92477094 259.93352869 226.10848289\n",
      " 288.50397824 301.04447801 187.99495118 297.53949918 349.5937751\n",
      " 458.24611432 386.35941729 357.92792236 364.74357931 277.9730048\n",
      " 355.89147012 323.5346549  443.61119076 276.73343672 310.64677029\n",
      " 350.07012424 399.30078289 304.50872426 474.43412063 261.29902296\n",
      " 262.40388262 316.94808969 483.35773963 393.99315027 261.8970796\n",
      " 277.12161555 184.6392575  201.86221123 200.00488876 166.17110233]\n",
      "new_threshold = 1238.371666852325\n"
     ]
    },
    {
     "data": {
      "application/vnd.jupyter.widget-view+json": {
       "model_id": "6a96b199c5f540dea4c23715f967b138",
       "version_major": 2,
       "version_minor": 0
      },
      "text/plain": [
       "HBox(children=(FloatProgress(value=1.0, bar_style='info', max=1.0), HTML(value='')))"
      ]
     },
     "metadata": {},
     "output_type": "display_data"
    },
    {
     "name": "stdout",
     "output_type": "stream",
     "text": [
      "\n"
     ]
    },
    {
     "data": {
      "application/vnd.jupyter.widget-view+json": {
       "model_id": "43c586eaed8c42248f502ba967c59b06",
       "version_major": 2,
       "version_minor": 0
      },
      "text/plain": [
       "HBox(children=(FloatProgress(value=1.0, bar_style='info', max=1.0), HTML(value='')))"
      ]
     },
     "metadata": {},
     "output_type": "display_data"
    },
    {
     "name": "stdout",
     "output_type": "stream",
     "text": [
      "--> Not exactly one containing mesh: []\n",
      "\n",
      "filtered_measurements = [316.22719597 279.57226287 270.16217975 270.56384352 252.6528932\n",
      " 210.78603532 288.05376029 576.93003175 417.18603357 412.63792328\n",
      " 420.31353331 475.00116395 292.40044357 269.24052523 326.38841992\n",
      " 479.64267931 243.36742509 599.05725424 264.69881717 214.93235917\n",
      " 225.56830994 437.35370297 337.90145129 460.3902139  290.55302522\n",
      " 239.94536198 317.12556852 375.72819122 398.19115557 341.09559411\n",
      " 595.11433622 564.92343931 473.99555505 457.02736987 475.97879337\n",
      " 490.55916055 396.16258989 258.18321845 265.28886337 303.16478198\n",
      " 423.43296319 416.78970362 380.88667911 394.59945067 379.35628412\n",
      " 595.9428693  583.51817889 361.79896674 363.41169088 400.41225333\n",
      " 471.36352473]\n",
      "new_threshold = 1494.9968254585915\n"
     ]
    },
    {
     "data": {
      "application/vnd.jupyter.widget-view+json": {
       "model_id": "77c830180a2d4fb6a1aabe94cb7a0d62",
       "version_major": 2,
       "version_minor": 0
      },
      "text/plain": [
       "HBox(children=(FloatProgress(value=1.0, bar_style='info', max=1.0), HTML(value='')))"
      ]
     },
     "metadata": {},
     "output_type": "display_data"
    },
    {
     "name": "stdout",
     "output_type": "stream",
     "text": [
      "--> Not exactly one containing mesh: []\n",
      "\n"
     ]
    },
    {
     "data": {
      "application/vnd.jupyter.widget-view+json": {
       "model_id": "6375db7a5c8d446cb74312cd49b371eb",
       "version_major": 2,
       "version_minor": 0
      },
      "text/plain": [
       "HBox(children=(FloatProgress(value=1.0, bar_style='info', max=1.0), HTML(value='')))"
      ]
     },
     "metadata": {},
     "output_type": "display_data"
    },
    {
     "name": "stdout",
     "output_type": "stream",
     "text": [
      "\n",
      "filtered_measurements = [ 88.77407537  96.52733908 104.39109049]\n",
      "new_threshold = 204.73715093118776\n"
     ]
    },
    {
     "data": {
      "application/vnd.jupyter.widget-view+json": {
       "model_id": "ce25e2f347c6469a8ce2dd51d40ead24",
       "version_major": 2,
       "version_minor": 0
      },
      "text/plain": [
       "HBox(children=(FloatProgress(value=1.0, bar_style='info', max=1.0), HTML(value='')))"
      ]
     },
     "metadata": {},
     "output_type": "display_data"
    },
    {
     "name": "stdout",
     "output_type": "stream",
     "text": [
      "--> Not exactly one containing mesh: []\n",
      "--> Not exactly one containing mesh: []\n",
      "\n",
      "branch_touching_number = [5]\n",
      "branch_touching_number = [5, 1]\n",
      "most_branch_containing_piece = 0\n"
     ]
    },
    {
     "data": {
      "application/vnd.jupyter.widget-view+json": {
       "model_id": "1ef70fba90274a969155b1a3dd322cca",
       "version_major": 2,
       "version_minor": 0
      },
      "text/plain": [
       "HBox(children=(FloatProgress(value=1.0, bar_style='info', max=1.0), HTML(value='')))"
      ]
     },
     "metadata": {},
     "output_type": "display_data"
    },
    {
     "name": "stdout",
     "output_type": "stream",
     "text": [
      "\n",
      "filtered_measurements = [293.94402893 402.96099724 461.0061202  432.97547785 279.37639391\n",
      " 272.93281794 272.89998504 189.63782245 179.13746297 508.70301316\n",
      " 415.05808044 164.57308032 460.19659164 213.34497221 212.03951993\n",
      " 434.26539156 346.60932401 236.23267632 263.05794967 598.04612408\n",
      " 125.19839082 541.39756188 300.67195134 244.92336615 341.50199296\n",
      " 419.89301637]\n",
      "new_threshold = 1520.7943773771688\n"
     ]
    },
    {
     "data": {
      "application/vnd.jupyter.widget-view+json": {
       "model_id": "0073fd5dd0f04654b14240da52caa77f",
       "version_major": 2,
       "version_minor": 0
      },
      "text/plain": [
       "HBox(children=(FloatProgress(value=1.0, bar_style='info', max=1.0), HTML(value='')))"
      ]
     },
     "metadata": {},
     "output_type": "display_data"
    },
    {
     "name": "stdout",
     "output_type": "stream",
     "text": [
      "\n"
     ]
    },
    {
     "data": {
      "application/vnd.jupyter.widget-view+json": {
       "model_id": "533e57d3b87548cb8df50e3083255a4d",
       "version_major": 2,
       "version_minor": 0
      },
      "text/plain": [
       "HBox(children=(FloatProgress(value=1.0, bar_style='info', max=1.0), HTML(value='')))"
      ]
     },
     "metadata": {},
     "output_type": "display_data"
    },
    {
     "name": "stdout",
     "output_type": "stream",
     "text": [
      "--> Not exactly one containing mesh: []\n",
      "\n",
      "filtered_measurements = [395.65327266 135.7332689  545.29512723 288.36110558 453.18380698\n",
      " 516.03988948 417.17872854]\n",
      "new_threshold = 1381.1253652631513\n"
     ]
    },
    {
     "data": {
      "application/vnd.jupyter.widget-view+json": {
       "model_id": "106918ddd06642fdaa94b028a2b826a0",
       "version_major": 2,
       "version_minor": 0
      },
      "text/plain": [
       "HBox(children=(FloatProgress(value=1.0, bar_style='info', max=1.0), HTML(value='')))"
      ]
     },
     "metadata": {},
     "output_type": "display_data"
    },
    {
     "name": "stdout",
     "output_type": "stream",
     "text": [
      "--> Not exactly one containing mesh: []\n",
      "\n"
     ]
    },
    {
     "data": {
      "application/vnd.jupyter.widget-view+json": {
       "model_id": "76887201ccec4a85927c6fefdd7ba519",
       "version_major": 2,
       "version_minor": 0
      },
      "text/plain": [
       "HBox(children=(FloatProgress(value=1.0, bar_style='info', max=1.0), HTML(value='')))"
      ]
     },
     "metadata": {},
     "output_type": "display_data"
    },
    {
     "name": "stdout",
     "output_type": "stream",
     "text": [
      "\n",
      "filtered_measurements = [383.6366315  241.79122577 206.2604258  340.71284962]\n",
      "new_threshold = 790.4177069379286\n"
     ]
    },
    {
     "data": {
      "application/vnd.jupyter.widget-view+json": {
       "model_id": "be4d8e5ae6854d7aa9e793e8da461e24",
       "version_major": 2,
       "version_minor": 0
      },
      "text/plain": [
       "HBox(children=(FloatProgress(value=1.0, bar_style='info', max=1.0), HTML(value='')))"
      ]
     },
     "metadata": {},
     "output_type": "display_data"
    },
    {
     "name": "stdout",
     "output_type": "stream",
     "text": [
      "\n"
     ]
    },
    {
     "data": {
      "application/vnd.jupyter.widget-view+json": {
       "model_id": "bd93e1da14614b4a807e8d56eb14a876",
       "version_major": 2,
       "version_minor": 0
      },
      "text/plain": [
       "HBox(children=(FloatProgress(value=1.0, bar_style='info', max=1.0), HTML(value='')))"
      ]
     },
     "metadata": {},
     "output_type": "display_data"
    },
    {
     "name": "stdout",
     "output_type": "stream",
     "text": [
      "\n",
      "filtered_measurements = [1300.50881717  723.71568759]\n",
      "new_threshold = 3094.70010696313\n"
     ]
    },
    {
     "data": {
      "application/vnd.jupyter.widget-view+json": {
       "model_id": "84a040c7d76f4bae990c4bd8782411e3",
       "version_major": 2,
       "version_minor": 0
      },
      "text/plain": [
       "HBox(children=(FloatProgress(value=1.0, bar_style='info', max=1.0), HTML(value='')))"
      ]
     },
     "metadata": {},
     "output_type": "display_data"
    },
    {
     "name": "stdout",
     "output_type": "stream",
     "text": [
      "\n"
     ]
    },
    {
     "data": {
      "application/vnd.jupyter.widget-view+json": {
       "model_id": "4afd63fa36f348b6b1397c8f0f2a4068",
       "version_major": 2,
       "version_minor": 0
      },
      "text/plain": [
       "HBox(children=(FloatProgress(value=1.0, bar_style='info', max=1.0), HTML(value='')))"
      ]
     },
     "metadata": {},
     "output_type": "display_data"
    },
    {
     "name": "stdout",
     "output_type": "stream",
     "text": [
      "\n",
      "filtered_measurements = [162.76340087 120.54764084 142.77255079 147.7825993  151.19775037\n",
      " 124.5653869   90.84801671  69.78053851 128.59264637 151.05311297\n",
      "  94.26630901 102.20004318  69.16168276 135.84715092 140.91322478\n",
      " 123.19671182  80.72961914 114.61818551  97.47015661  88.05376005\n",
      "  84.49723734  75.9218239   90.48790522 111.07549336 129.1474872 ]\n",
      "new_threshold = 336.47703285529224\n"
     ]
    },
    {
     "data": {
      "application/vnd.jupyter.widget-view+json": {
       "model_id": "c7e96dc9b7f7404cb08aadf786ba9a33",
       "version_major": 2,
       "version_minor": 0
      },
      "text/plain": [
       "HBox(children=(FloatProgress(value=1.0, bar_style='info', max=1.0), HTML(value='')))"
      ]
     },
     "metadata": {},
     "output_type": "display_data"
    },
    {
     "name": "stdout",
     "output_type": "stream",
     "text": [
      "\n"
     ]
    },
    {
     "data": {
      "application/vnd.jupyter.widget-view+json": {
       "model_id": "2e832960b516432a867a73a41f0e7807",
       "version_major": 2,
       "version_minor": 0
      },
      "text/plain": [
       "HBox(children=(FloatProgress(value=1.0, bar_style='info', max=1.0), HTML(value='')))"
      ]
     },
     "metadata": {},
     "output_type": "display_data"
    },
    {
     "name": "stdout",
     "output_type": "stream",
     "text": [
      "\n",
      "filtered_measurements = [900.2847638  865.13119236 873.50872791]\n",
      "new_threshold = 2037.9709272867844\n"
     ]
    },
    {
     "data": {
      "application/vnd.jupyter.widget-view+json": {
       "model_id": "cd1b1f325d3d464097cf761bdcbb82ae",
       "version_major": 2,
       "version_minor": 0
      },
      "text/plain": [
       "HBox(children=(FloatProgress(value=1.0, bar_style='info', max=1.0), HTML(value='')))"
      ]
     },
     "metadata": {},
     "output_type": "display_data"
    },
    {
     "name": "stdout",
     "output_type": "stream",
     "text": [
      "\n"
     ]
    },
    {
     "data": {
      "application/vnd.jupyter.widget-view+json": {
       "model_id": "151d41bd99bd4900aa374e83afa42054",
       "version_major": 2,
       "version_minor": 0
      },
      "text/plain": [
       "HBox(children=(FloatProgress(value=1.0, bar_style='info', max=1.0), HTML(value='')))"
      ]
     },
     "metadata": {},
     "output_type": "display_data"
    },
    {
     "name": "stdout",
     "output_type": "stream",
     "text": [
      "\n",
      "filtered_measurements = [875.24509578 332.19586012]\n",
      "new_threshold = 2004.6844787548994\n"
     ]
    },
    {
     "data": {
      "application/vnd.jupyter.widget-view+json": {
       "model_id": "b48279e91d00446bb5996a2ab654ce12",
       "version_major": 2,
       "version_minor": 0
      },
      "text/plain": [
       "HBox(children=(FloatProgress(value=1.0, bar_style='info', max=1.0), HTML(value='')))"
      ]
     },
     "metadata": {},
     "output_type": "display_data"
    },
    {
     "name": "stdout",
     "output_type": "stream",
     "text": [
      "\n"
     ]
    },
    {
     "data": {
      "application/vnd.jupyter.widget-view+json": {
       "model_id": "50701d54ba824ad3b7b85c65edede4af",
       "version_major": 2,
       "version_minor": 0
      },
      "text/plain": [
       "HBox(children=(FloatProgress(value=1.0, bar_style='info', max=1.0), HTML(value='')))"
      ]
     },
     "metadata": {},
     "output_type": "display_data"
    },
    {
     "name": "stdout",
     "output_type": "stream",
     "text": [
      "\n",
      "filtered_measurements = [531.01694879 368.64032258 462.08023796 377.16035607 295.28768048\n",
      " 272.07545046 265.26064305 271.11256774 236.99681821 348.6829176\n",
      " 313.63652815 197.60353976 293.74863414 259.69482822]\n",
      "new_threshold = 1236.5453246424702\n"
     ]
    },
    {
     "data": {
      "application/vnd.jupyter.widget-view+json": {
       "model_id": "80f2205bf7e744ed87113804aa72ee00",
       "version_major": 2,
       "version_minor": 0
      },
      "text/plain": [
       "HBox(children=(FloatProgress(value=1.0, bar_style='info', max=1.0), HTML(value='')))"
      ]
     },
     "metadata": {},
     "output_type": "display_data"
    },
    {
     "name": "stdout",
     "output_type": "stream",
     "text": [
      "\n"
     ]
    },
    {
     "data": {
      "application/vnd.jupyter.widget-view+json": {
       "model_id": "85692d87aa2844a09f30628056f44cfb",
       "version_major": 2,
       "version_minor": 0
      },
      "text/plain": [
       "HBox(children=(FloatProgress(value=1.0, bar_style='info', max=1.0), HTML(value='')))"
      ]
     },
     "metadata": {},
     "output_type": "display_data"
    },
    {
     "name": "stdout",
     "output_type": "stream",
     "text": [
      "--> Not exactly one containing mesh: []\n",
      "\n",
      "branch_touching_number = [16]\n",
      "branch_touching_number = [16, 1]\n",
      "most_branch_containing_piece = 0\n",
      "filtered_measurements = [133.74012915  99.77247034  96.50200849 139.24203929  81.76257536\n",
      " 125.36247389  87.23002805  92.07021115  76.18112758  64.99200812\n",
      "  88.59489939  70.83635929]\n",
      "new_threshold = 316.6763202637065\n"
     ]
    },
    {
     "data": {
      "application/vnd.jupyter.widget-view+json": {
       "model_id": "2389c0ec98204cc9b21aed85aaafc5b0",
       "version_major": 2,
       "version_minor": 0
      },
      "text/plain": [
       "HBox(children=(FloatProgress(value=1.0, bar_style='info', max=1.0), HTML(value='')))"
      ]
     },
     "metadata": {},
     "output_type": "display_data"
    },
    {
     "name": "stdout",
     "output_type": "stream",
     "text": [
      "--> Not exactly one containing mesh: []\n",
      "THERE WERE NO FACES THAT FIT THE DISTANCE (316.6763202637065) and Z transform requirements\n",
      "So just skipping this edge\n",
      "\n"
     ]
    },
    {
     "data": {
      "application/vnd.jupyter.widget-view+json": {
       "model_id": "705d5491dee14daa8761008d88188700",
       "version_major": 2,
       "version_minor": 0
      },
      "text/plain": [
       "HBox(children=(FloatProgress(value=1.0, bar_style='info', max=1.0), HTML(value='')))"
      ]
     },
     "metadata": {},
     "output_type": "display_data"
    },
    {
     "name": "stdout",
     "output_type": "stream",
     "text": [
      "--> Not exactly one containing mesh: []\n",
      "\n",
      "filtered_measurements = [240.693366   378.72199619]\n",
      "new_threshold = 806.6297366582316\n"
     ]
    },
    {
     "data": {
      "application/vnd.jupyter.widget-view+json": {
       "model_id": "5891217a82fe4db7a01f349a231af39a",
       "version_major": 2,
       "version_minor": 0
      },
      "text/plain": [
       "HBox(children=(FloatProgress(value=1.0, bar_style='info', max=1.0), HTML(value='')))"
      ]
     },
     "metadata": {},
     "output_type": "display_data"
    },
    {
     "name": "stdout",
     "output_type": "stream",
     "text": [
      "--> Not exactly one containing mesh: []\n",
      "\n"
     ]
    },
    {
     "data": {
      "application/vnd.jupyter.widget-view+json": {
       "model_id": "4a5652838c3d48fba395f88d4a1eef7c",
       "version_major": 2,
       "version_minor": 0
      },
      "text/plain": [
       "HBox(children=(FloatProgress(value=1.0, bar_style='info', max=1.0), HTML(value='')))"
      ]
     },
     "metadata": {},
     "output_type": "display_data"
    },
    {
     "name": "stdout",
     "output_type": "stream",
     "text": [
      "\n",
      "filtered_measurements = [243.51563696 322.5471812 ]\n",
      "new_threshold = 647.7206649673143\n"
     ]
    },
    {
     "data": {
      "application/vnd.jupyter.widget-view+json": {
       "model_id": "79b35cfc982c463aaefe6d94e84b3882",
       "version_major": 2,
       "version_minor": 0
      },
      "text/plain": [
       "HBox(children=(FloatProgress(value=1.0, bar_style='info', max=1.0), HTML(value='')))"
      ]
     },
     "metadata": {},
     "output_type": "display_data"
    },
    {
     "name": "stdout",
     "output_type": "stream",
     "text": [
      "\n"
     ]
    },
    {
     "data": {
      "application/vnd.jupyter.widget-view+json": {
       "model_id": "2ab15dc7b7b24d2681c7e5b109d25fac",
       "version_major": 2,
       "version_minor": 0
      },
      "text/plain": [
       "HBox(children=(FloatProgress(value=1.0, bar_style='info', max=1.0), HTML(value='')))"
      ]
     },
     "metadata": {},
     "output_type": "display_data"
    },
    {
     "name": "stdout",
     "output_type": "stream",
     "text": [
      "--> Not exactly one containing mesh: []\n",
      "--> Not exactly one containing mesh: []\n",
      "--> Not exactly one containing mesh: []\n",
      "\n",
      "filtered_measurements = [102.11010819  92.3364623  152.63657553 133.99437306 169.73509005\n",
      " 139.77134999  97.88091595 106.22174303  87.72112043  93.9497013\n",
      " 122.149516   158.74538963  97.42532225 126.71333459]\n",
      "new_threshold = 337.33952682495203\n"
     ]
    },
    {
     "data": {
      "application/vnd.jupyter.widget-view+json": {
       "model_id": "bf96cc94ace743288da6962c814b4ec7",
       "version_major": 2,
       "version_minor": 0
      },
      "text/plain": [
       "HBox(children=(FloatProgress(value=1.0, bar_style='info', max=1.0), HTML(value='')))"
      ]
     },
     "metadata": {},
     "output_type": "display_data"
    },
    {
     "name": "stdout",
     "output_type": "stream",
     "text": [
      "--> Not exactly one containing mesh: []\n",
      "--> Not exactly one containing mesh: []\n",
      "--> Not exactly one containing mesh: []\n",
      "\n",
      "branch_touching_number = [19]\n",
      "branch_touching_number = [19, 2]\n",
      "most_branch_containing_piece = 0\n"
     ]
    },
    {
     "data": {
      "application/vnd.jupyter.widget-view+json": {
       "model_id": "f054bbe20c6848a8859d2ecac8ae4496",
       "version_major": 2,
       "version_minor": 0
      },
      "text/plain": [
       "HBox(children=(FloatProgress(value=1.0, bar_style='info', max=1.0), HTML(value='')))"
      ]
     },
     "metadata": {},
     "output_type": "display_data"
    },
    {
     "name": "stdout",
     "output_type": "stream",
     "text": [
      "\n",
      "filtered_measurements = [255.30497205 236.2133611  266.72153234 270.30248372 296.97347123\n",
      " 207.61043503 219.40466421 283.14781347 241.07192747 162.56654492\n",
      " 217.20257873 289.50286806]\n",
      "new_threshold = 596.7524486442476\n"
     ]
    },
    {
     "data": {
      "application/vnd.jupyter.widget-view+json": {
       "model_id": "076f46c6964e4fa08a588074dbc7bb0d",
       "version_major": 2,
       "version_minor": 0
      },
      "text/plain": [
       "HBox(children=(FloatProgress(value=1.0, bar_style='info', max=1.0), HTML(value='')))"
      ]
     },
     "metadata": {},
     "output_type": "display_data"
    },
    {
     "name": "stdout",
     "output_type": "stream",
     "text": [
      "\n"
     ]
    },
    {
     "data": {
      "application/vnd.jupyter.widget-view+json": {
       "model_id": "12d83787360e4643bc42c3c8346758e0",
       "version_major": 2,
       "version_minor": 0
      },
      "text/plain": [
       "HBox(children=(FloatProgress(value=1.0, bar_style='info', max=1.0), HTML(value='')))"
      ]
     },
     "metadata": {},
     "output_type": "display_data"
    },
    {
     "name": "stdout",
     "output_type": "stream",
     "text": [
      "\n",
      "filtered_measurements = [300.93195397]\n",
      "new_threshold = 543.2034564044147\n"
     ]
    },
    {
     "data": {
      "application/vnd.jupyter.widget-view+json": {
       "model_id": "cdf7f1d3fc9a409f923346201d7d4cf1",
       "version_major": 2,
       "version_minor": 0
      },
      "text/plain": [
       "HBox(children=(FloatProgress(value=1.0, bar_style='info', max=1.0), HTML(value='')))"
      ]
     },
     "metadata": {},
     "output_type": "display_data"
    },
    {
     "name": "stdout",
     "output_type": "stream",
     "text": [
      "\n"
     ]
    },
    {
     "data": {
      "application/vnd.jupyter.widget-view+json": {
       "model_id": "74a3518e99f64e679a3f08b5d04fd59b",
       "version_major": 2,
       "version_minor": 0
      },
      "text/plain": [
       "HBox(children=(FloatProgress(value=1.0, bar_style='info', max=1.0), HTML(value='')))"
      ]
     },
     "metadata": {},
     "output_type": "display_data"
    },
    {
     "name": "stdout",
     "output_type": "stream",
     "text": [
      "\n",
      "filtered_measurements = [297.41014758]\n",
      "new_threshold = 436.0338471825506\n"
     ]
    },
    {
     "data": {
      "application/vnd.jupyter.widget-view+json": {
       "model_id": "47423810bbb84faca1f998f4eec1cb33",
       "version_major": 2,
       "version_minor": 0
      },
      "text/plain": [
       "HBox(children=(FloatProgress(value=1.0, bar_style='info', max=1.0), HTML(value='')))"
      ]
     },
     "metadata": {},
     "output_type": "display_data"
    },
    {
     "name": "stdout",
     "output_type": "stream",
     "text": [
      "\n",
      "\n",
      "Working on limb #8\n"
     ]
    },
    {
     "data": {
      "application/vnd.jupyter.widget-view+json": {
       "model_id": "bede80124ab446a69f5a3aa025046cde",
       "version_major": 2,
       "version_minor": 0
      },
      "text/plain": [
       "HBox(children=(FloatProgress(value=1.0, bar_style='info', max=1.0), HTML(value='')))"
      ]
     },
     "metadata": {},
     "output_type": "display_data"
    },
    {
     "data": {
      "application/vnd.jupyter.widget-view+json": {
       "model_id": "1690c51dab234289b4efda30d5006db0",
       "version_major": 2,
       "version_minor": 0
      },
      "text/plain": [
       "HBox(children=(FloatProgress(value=1.0, bar_style='info', max=1.0), HTML(value='')))"
      ]
     },
     "metadata": {},
     "output_type": "display_data"
    },
    {
     "name": "stdout",
     "output_type": "stream",
     "text": [
      "--> Not exactly one containing mesh: []\n",
      "--> Not exactly one containing mesh: []\n",
      "--> Not exactly one containing mesh: []\n",
      "\n",
      "branch_touching_number = [27]\n",
      "branch_touching_number = [27, 1]\n",
      "most_branch_containing_piece = 0\n",
      "filtered_measurements = [185.11155171 140.87391051 127.21776628 123.48390053  72.14710187\n",
      " 104.21520765 122.48779079 116.68958962 124.74377781 188.18847839\n",
      "  74.47423444  77.3418126   61.81009613  81.21315742 186.37108552\n",
      " 109.10631554  75.06775941 122.54229658]\n",
      "new_threshold = 401.6434445144624\n"
     ]
    },
    {
     "data": {
      "application/vnd.jupyter.widget-view+json": {
       "model_id": "52eb03844b2f4e9c90e1ad779f3d0146",
       "version_major": 2,
       "version_minor": 0
      },
      "text/plain": [
       "HBox(children=(FloatProgress(value=1.0, bar_style='info', max=1.0), HTML(value='')))"
      ]
     },
     "metadata": {},
     "output_type": "display_data"
    },
    {
     "name": "stdout",
     "output_type": "stream",
     "text": [
      "--> Not exactly one containing mesh: []\n",
      "--> Not exactly one containing mesh: []\n",
      "--> Not exactly one containing mesh: []\n",
      "\n"
     ]
    },
    {
     "data": {
      "application/vnd.jupyter.widget-view+json": {
       "model_id": "861ce9deeadd49bab032f00f176246bc",
       "version_major": 2,
       "version_minor": 0
      },
      "text/plain": [
       "HBox(children=(FloatProgress(value=1.0, bar_style='info', max=1.0), HTML(value='')))"
      ]
     },
     "metadata": {},
     "output_type": "display_data"
    },
    {
     "name": "stdout",
     "output_type": "stream",
     "text": [
      "\n",
      "filtered_measurements = [139.35474111  82.18116566 130.82207074  94.42665197 134.4919109\n",
      "  73.68003894 117.56178735 107.1941532   73.40101048 151.39220577]\n",
      "new_threshold = 320.0083037042915\n"
     ]
    },
    {
     "data": {
      "application/vnd.jupyter.widget-view+json": {
       "model_id": "98af94e65be94f60b07d6e84be53c682",
       "version_major": 2,
       "version_minor": 0
      },
      "text/plain": [
       "HBox(children=(FloatProgress(value=1.0, bar_style='info', max=1.0), HTML(value='')))"
      ]
     },
     "metadata": {},
     "output_type": "display_data"
    },
    {
     "name": "stdout",
     "output_type": "stream",
     "text": [
      "\n"
     ]
    },
    {
     "data": {
      "application/vnd.jupyter.widget-view+json": {
       "model_id": "e3f2bbbda6ce4b88b541c0d649caee77",
       "version_major": 2,
       "version_minor": 0
      },
      "text/plain": [
       "HBox(children=(FloatProgress(value=1.0, bar_style='info', max=1.0), HTML(value='')))"
      ]
     },
     "metadata": {},
     "output_type": "display_data"
    },
    {
     "name": "stdout",
     "output_type": "stream",
     "text": [
      "\n",
      "filtered_measurements = [93.06446592 92.54171715 69.27001199 50.73505706 48.7179282  84.3307539 ]\n",
      "new_threshold = 184.28147680470255\n"
     ]
    },
    {
     "data": {
      "application/vnd.jupyter.widget-view+json": {
       "model_id": "f9092452d5f84509a18522a0b0efc1d8",
       "version_major": 2,
       "version_minor": 0
      },
      "text/plain": [
       "HBox(children=(FloatProgress(value=1.0, bar_style='info', max=1.0), HTML(value='')))"
      ]
     },
     "metadata": {},
     "output_type": "display_data"
    },
    {
     "name": "stdout",
     "output_type": "stream",
     "text": [
      "\n"
     ]
    },
    {
     "data": {
      "application/vnd.jupyter.widget-view+json": {
       "model_id": "b28b39a53beb41629d93d19017912f4e",
       "version_major": 2,
       "version_minor": 0
      },
      "text/plain": [
       "HBox(children=(FloatProgress(value=1.0, bar_style='info', max=1.0), HTML(value='')))"
      ]
     },
     "metadata": {},
     "output_type": "display_data"
    },
    {
     "name": "stdout",
     "output_type": "stream",
     "text": [
      "\n",
      "filtered_measurements = [232.88133841 193.08564433 212.31907745 331.43076494 225.25757849\n",
      " 185.91959897 277.35378808 253.02701653 201.61986166 224.53650256\n",
      " 313.29881302]\n",
      "new_threshold = 842.799684336858\n"
     ]
    },
    {
     "data": {
      "application/vnd.jupyter.widget-view+json": {
       "model_id": "25cefabdf1e947a08661babf2ef24893",
       "version_major": 2,
       "version_minor": 0
      },
      "text/plain": [
       "HBox(children=(FloatProgress(value=1.0, bar_style='info', max=1.0), HTML(value='')))"
      ]
     },
     "metadata": {},
     "output_type": "display_data"
    },
    {
     "name": "stdout",
     "output_type": "stream",
     "text": [
      "\n"
     ]
    },
    {
     "data": {
      "application/vnd.jupyter.widget-view+json": {
       "model_id": "fc02a4330cd0400695f9d9c984bc9c19",
       "version_major": 2,
       "version_minor": 0
      },
      "text/plain": [
       "HBox(children=(FloatProgress(value=1.0, bar_style='info', max=1.0), HTML(value='')))"
      ]
     },
     "metadata": {},
     "output_type": "display_data"
    },
    {
     "name": "stdout",
     "output_type": "stream",
     "text": [
      "\n",
      "filtered_measurements = [369.9994916  414.43748517 167.69993412 204.29587813 270.04249616\n",
      " 155.07063982 119.52346048 295.59379932 148.99213154 248.52455372\n",
      " 244.60405809 333.87989104 462.6054241  242.92499034 242.6438168\n",
      " 355.34061841 351.34035781 230.05613348 292.11002241 294.60675733\n",
      " 157.75317558 123.33434088 167.11861362 316.55824061 422.16884672\n",
      " 276.3256736  454.15888098 321.04927217 396.87840744 381.35800197\n",
      " 323.00074107 228.29948489 254.4461839  157.41928099 408.90348517\n",
      " 271.81647647 255.01775885 202.04115327 302.76937589 419.25619763\n",
      " 416.80032455 300.41528414 321.67321354 342.70950336 359.195413\n",
      " 257.87083935 282.43354138 178.50655141 452.2981637  352.99826033\n",
      " 448.31058047 294.80291462 328.60235913 281.17113574 454.23443271\n",
      " 226.99225989 421.7230174  150.79840931 244.11903058 322.61845374\n",
      " 261.99078297 298.78133286 302.94745851 241.55158557 299.80818118\n",
      " 318.25299377 201.3052103  209.10095641 299.86699362 324.23260671]\n",
      "new_threshold = 1155.4459236324694\n"
     ]
    },
    {
     "data": {
      "application/vnd.jupyter.widget-view+json": {
       "model_id": "dacfcdc9c6d3449d98d2953df41e1484",
       "version_major": 2,
       "version_minor": 0
      },
      "text/plain": [
       "HBox(children=(FloatProgress(value=1.0, bar_style='info', max=1.0), HTML(value='')))"
      ]
     },
     "metadata": {},
     "output_type": "display_data"
    },
    {
     "name": "stdout",
     "output_type": "stream",
     "text": [
      "\n"
     ]
    },
    {
     "data": {
      "application/vnd.jupyter.widget-view+json": {
       "model_id": "4f63fda90a4b4bb1bb724f57671d8a0a",
       "version_major": 2,
       "version_minor": 0
      },
      "text/plain": [
       "HBox(children=(FloatProgress(value=1.0, bar_style='info', max=1.0), HTML(value='')))"
      ]
     },
     "metadata": {},
     "output_type": "display_data"
    },
    {
     "name": "stdout",
     "output_type": "stream",
     "text": [
      "--> Not exactly one containing mesh: []\n",
      "\n",
      "filtered_measurements = [379.38227664 253.25791032 195.00661522 193.29671217 411.96697744\n",
      " 237.91192511 181.2374042  174.88238552 277.72661747 250.51459249\n",
      " 334.3066986  334.7746265  248.84370182 224.00034781 165.88372075\n",
      " 153.46144252 361.60422276 199.39879023 174.77758644 280.47201086\n",
      " 138.53733166 373.75284688 261.30118423 324.4794107  236.29574243\n",
      " 210.33539762 199.29076476 236.8946221  276.9324493  329.68790816\n",
      " 241.45321255 239.18095686 157.83315808 220.99964706 269.84051036\n",
      " 313.58215975 183.07030237 180.35266336 251.31150031 322.56697929\n",
      " 271.35909888]\n",
      "new_threshold = 1065.3881268475093\n"
     ]
    },
    {
     "data": {
      "application/vnd.jupyter.widget-view+json": {
       "model_id": "ecd7ac4e151845d19aa630e23f6565a8",
       "version_major": 2,
       "version_minor": 0
      },
      "text/plain": [
       "HBox(children=(FloatProgress(value=1.0, bar_style='info', max=1.0), HTML(value='')))"
      ]
     },
     "metadata": {},
     "output_type": "display_data"
    },
    {
     "name": "stdout",
     "output_type": "stream",
     "text": [
      "--> Not exactly one containing mesh: []\n",
      "\n"
     ]
    },
    {
     "data": {
      "application/vnd.jupyter.widget-view+json": {
       "model_id": "f35c48c51ccd4266ab2a44f7618794ec",
       "version_major": 2,
       "version_minor": 0
      },
      "text/plain": [
       "HBox(children=(FloatProgress(value=1.0, bar_style='info', max=1.0), HTML(value='')))"
      ]
     },
     "metadata": {},
     "output_type": "display_data"
    },
    {
     "name": "stdout",
     "output_type": "stream",
     "text": [
      "\n",
      "filtered_measurements = [111.66434236  53.92185977 117.70308054 132.50514927 120.89760598\n",
      "  93.76881036  80.94795572]\n",
      "new_threshold = 237.96648800814938\n"
     ]
    },
    {
     "data": {
      "application/vnd.jupyter.widget-view+json": {
       "model_id": "7554a33d96e14955b6a04a7f67dae6f4",
       "version_major": 2,
       "version_minor": 0
      },
      "text/plain": [
       "HBox(children=(FloatProgress(value=1.0, bar_style='info', max=1.0), HTML(value='')))"
      ]
     },
     "metadata": {},
     "output_type": "display_data"
    },
    {
     "name": "stdout",
     "output_type": "stream",
     "text": [
      "\n"
     ]
    },
    {
     "data": {
      "application/vnd.jupyter.widget-view+json": {
       "model_id": "4dfeaa973b064d7790ba009782b6c180",
       "version_major": 2,
       "version_minor": 0
      },
      "text/plain": [
       "HBox(children=(FloatProgress(value=1.0, bar_style='info', max=1.0), HTML(value='')))"
      ]
     },
     "metadata": {},
     "output_type": "display_data"
    },
    {
     "name": "stdout",
     "output_type": "stream",
     "text": [
      "\n",
      "filtered_measurements = [163.65206034 238.98108571 195.49893844 200.49053453 265.59994469]\n",
      "new_threshold = 609.7809351027067\n"
     ]
    },
    {
     "data": {
      "application/vnd.jupyter.widget-view+json": {
       "model_id": "9e5bc8b438e04c94aba09b952c09be11",
       "version_major": 2,
       "version_minor": 0
      },
      "text/plain": [
       "HBox(children=(FloatProgress(value=1.0, bar_style='info', max=1.0), HTML(value='')))"
      ]
     },
     "metadata": {},
     "output_type": "display_data"
    },
    {
     "name": "stdout",
     "output_type": "stream",
     "text": [
      "\n"
     ]
    },
    {
     "data": {
      "application/vnd.jupyter.widget-view+json": {
       "model_id": "4fde2947f4f84f0186bd3846bca2746b",
       "version_major": 2,
       "version_minor": 0
      },
      "text/plain": [
       "HBox(children=(FloatProgress(value=1.0, bar_style='info', max=1.0), HTML(value='')))"
      ]
     },
     "metadata": {},
     "output_type": "display_data"
    },
    {
     "name": "stdout",
     "output_type": "stream",
     "text": [
      "\n",
      "filtered_measurements = [514.64944573 383.9212228  593.6646542 ]\n",
      "new_threshold = 1562.3069542594035\n"
     ]
    },
    {
     "data": {
      "application/vnd.jupyter.widget-view+json": {
       "model_id": "168f8d94b6cd46f481c8902606813b6b",
       "version_major": 2,
       "version_minor": 0
      },
      "text/plain": [
       "HBox(children=(FloatProgress(value=1.0, bar_style='info', max=1.0), HTML(value='')))"
      ]
     },
     "metadata": {},
     "output_type": "display_data"
    },
    {
     "name": "stdout",
     "output_type": "stream",
     "text": [
      "\n"
     ]
    },
    {
     "data": {
      "application/vnd.jupyter.widget-view+json": {
       "model_id": "2961258a48d64ceb93875978e3ea7719",
       "version_major": 2,
       "version_minor": 0
      },
      "text/plain": [
       "HBox(children=(FloatProgress(value=1.0, bar_style='info', max=1.0), HTML(value='')))"
      ]
     },
     "metadata": {},
     "output_type": "display_data"
    },
    {
     "name": "stdout",
     "output_type": "stream",
     "text": [
      "\n",
      "filtered_measurements = [297.59029547 305.059918   544.26988945 467.37021059 519.97730011\n",
      " 321.45230082 335.92596799 324.93557688 398.16032587 652.47946166\n",
      " 330.96514018 357.76357859 356.21000624 514.48078607 518.60384296\n",
      " 549.13565727 398.9789617  438.81778378 445.75644077 490.61626512]\n",
      "new_threshold = 1446.009468747034\n"
     ]
    },
    {
     "data": {
      "application/vnd.jupyter.widget-view+json": {
       "model_id": "36dd4fbe0e2c4fefbaf6bfd3ef11ae17",
       "version_major": 2,
       "version_minor": 0
      },
      "text/plain": [
       "HBox(children=(FloatProgress(value=1.0, bar_style='info', max=1.0), HTML(value='')))"
      ]
     },
     "metadata": {},
     "output_type": "display_data"
    },
    {
     "name": "stdout",
     "output_type": "stream",
     "text": [
      "\n"
     ]
    },
    {
     "data": {
      "application/vnd.jupyter.widget-view+json": {
       "model_id": "f5cde4b6426a4b5c909d9d360710cdcc",
       "version_major": 2,
       "version_minor": 0
      },
      "text/plain": [
       "HBox(children=(FloatProgress(value=1.0, bar_style='info', max=1.0), HTML(value='')))"
      ]
     },
     "metadata": {},
     "output_type": "display_data"
    },
    {
     "name": "stdout",
     "output_type": "stream",
     "text": [
      "\n",
      "filtered_measurements = [866.14895709]\n",
      "new_threshold = 2015.0709488380558\n"
     ]
    },
    {
     "data": {
      "application/vnd.jupyter.widget-view+json": {
       "model_id": "e0a55e6dacc8499f96a424b466a57612",
       "version_major": 2,
       "version_minor": 0
      },
      "text/plain": [
       "HBox(children=(FloatProgress(value=1.0, bar_style='info', max=1.0), HTML(value='')))"
      ]
     },
     "metadata": {},
     "output_type": "display_data"
    },
    {
     "name": "stdout",
     "output_type": "stream",
     "text": [
      "\n",
      "\n",
      "Working on limb #9\n"
     ]
    },
    {
     "data": {
      "application/vnd.jupyter.widget-view+json": {
       "model_id": "20cec62c430842578efe8868b40b1d0a",
       "version_major": 2,
       "version_minor": 0
      },
      "text/plain": [
       "HBox(children=(FloatProgress(value=1.0, bar_style='info', max=1.0), HTML(value='')))"
      ]
     },
     "metadata": {},
     "output_type": "display_data"
    },
    {
     "data": {
      "application/vnd.jupyter.widget-view+json": {
       "model_id": "70b54068547748bf8663bf167cabf4d1",
       "version_major": 2,
       "version_minor": 0
      },
      "text/plain": [
       "HBox(children=(FloatProgress(value=1.0, bar_style='info', max=1.0), HTML(value='')))"
      ]
     },
     "metadata": {},
     "output_type": "display_data"
    },
    {
     "name": "stdout",
     "output_type": "stream",
     "text": [
      "\n",
      "filtered_measurements = [ 65.63522715  92.00249932 127.70245038 108.53441784  82.44618213\n",
      "  75.05799959  97.76768015  63.89166853  88.61609251  76.88326858\n",
      "  97.40577367  71.37213444 101.06411501  90.51895959  95.79489294\n",
      "  75.25522931  98.40427874]\n",
      "new_threshold = 269.25245820383793\n"
     ]
    },
    {
     "data": {
      "application/vnd.jupyter.widget-view+json": {
       "model_id": "01123517a5254c40835ee95e2474ffe4",
       "version_major": 2,
       "version_minor": 0
      },
      "text/plain": [
       "HBox(children=(FloatProgress(value=1.0, bar_style='info', max=1.0), HTML(value='')))"
      ]
     },
     "metadata": {},
     "output_type": "display_data"
    },
    {
     "name": "stderr",
     "output_type": "stream",
     "text": [
      "No adjacent faces detected! Did you merge vertices?\n"
     ]
    },
    {
     "name": "stdout",
     "output_type": "stream",
     "text": [
      "--> Not exactly one containing mesh: []\n",
      "--> Not exactly one containing mesh: []\n",
      "\n"
     ]
    },
    {
     "data": {
      "application/vnd.jupyter.widget-view+json": {
       "model_id": "bcd88f9fc84c44d1ac567d5a9c997c97",
       "version_major": 2,
       "version_minor": 0
      },
      "text/plain": [
       "HBox(children=(FloatProgress(value=1.0, bar_style='info', max=1.0), HTML(value='')))"
      ]
     },
     "metadata": {},
     "output_type": "display_data"
    },
    {
     "name": "stdout",
     "output_type": "stream",
     "text": [
      "\n",
      "filtered_measurements = [379.27668403 370.77074228 334.45851409 339.28530895 334.05693209\n",
      " 315.53153111 289.31191406 262.54091185 272.08489992 280.52505374\n",
      " 299.34538632 291.56270842 263.91733296 239.09197045 249.2163377\n",
      " 217.75773517 214.23049467 253.47828121 234.07045833 206.39776671\n",
      " 160.12340814 187.75170974 167.04149098 162.13199013 119.07052957\n",
      " 155.57722045 167.04710922 241.20823446 284.48584349 185.13322447\n",
      " 144.73331886 176.7105246  266.04918273]\n",
      "new_threshold = 545.0480128624296\n"
     ]
    },
    {
     "data": {
      "application/vnd.jupyter.widget-view+json": {
       "model_id": "1dc7a431336047c283117f30e249f49a",
       "version_major": 2,
       "version_minor": 0
      },
      "text/plain": [
       "HBox(children=(FloatProgress(value=1.0, bar_style='info', max=1.0), HTML(value='')))"
      ]
     },
     "metadata": {},
     "output_type": "display_data"
    },
    {
     "name": "stdout",
     "output_type": "stream",
     "text": [
      "\n"
     ]
    },
    {
     "data": {
      "application/vnd.jupyter.widget-view+json": {
       "model_id": "12983180b8f14a00bdb5ac9aca19e13c",
       "version_major": 2,
       "version_minor": 0
      },
      "text/plain": [
       "HBox(children=(FloatProgress(value=1.0, bar_style='info', max=1.0), HTML(value='')))"
      ]
     },
     "metadata": {},
     "output_type": "display_data"
    },
    {
     "name": "stdout",
     "output_type": "stream",
     "text": [
      "\n",
      "filtered_measurements = [151.86243667 137.63162125 140.29612931 196.13628574 215.25325458\n",
      " 164.40347365 186.42293652 227.48418901 200.29742447 131.70611635\n",
      " 125.49592162 163.58524825]\n",
      "new_threshold = 365.13474178352567\n"
     ]
    },
    {
     "data": {
      "application/vnd.jupyter.widget-view+json": {
       "model_id": "2f54d317dd9d431f85b119d085c0ce0f",
       "version_major": 2,
       "version_minor": 0
      },
      "text/plain": [
       "HBox(children=(FloatProgress(value=1.0, bar_style='info', max=1.0), HTML(value='')))"
      ]
     },
     "metadata": {},
     "output_type": "display_data"
    },
    {
     "name": "stdout",
     "output_type": "stream",
     "text": [
      "\n",
      "branch_touching_number = [11]\n",
      "branch_touching_number = [11, 7]\n",
      "most_branch_containing_piece = 0\n"
     ]
    },
    {
     "data": {
      "application/vnd.jupyter.widget-view+json": {
       "model_id": "e34a04c003e647c989fa485c80bac6b5",
       "version_major": 2,
       "version_minor": 0
      },
      "text/plain": [
       "HBox(children=(FloatProgress(value=1.0, bar_style='info', max=1.0), HTML(value='')))"
      ]
     },
     "metadata": {},
     "output_type": "display_data"
    },
    {
     "name": "stdout",
     "output_type": "stream",
     "text": [
      "\n",
      "filtered_measurements = [129.17269278 115.2056784  129.17695486 125.28141054 157.62053213\n",
      " 152.77038851 197.34510785 141.70283929]\n",
      "new_threshold = 313.0109617373984\n"
     ]
    },
    {
     "data": {
      "application/vnd.jupyter.widget-view+json": {
       "model_id": "3df7b9030ca449b19f3bb56499b1b0fc",
       "version_major": 2,
       "version_minor": 0
      },
      "text/plain": [
       "HBox(children=(FloatProgress(value=1.0, bar_style='info', max=1.0), HTML(value='')))"
      ]
     },
     "metadata": {},
     "output_type": "display_data"
    },
    {
     "name": "stdout",
     "output_type": "stream",
     "text": [
      "--> Not exactly one containing mesh: []\n",
      "\n",
      "branch_touching_number = [8]\n",
      "branch_touching_number = [8, 5]\n",
      "most_branch_containing_piece = 0\n"
     ]
    },
    {
     "data": {
      "application/vnd.jupyter.widget-view+json": {
       "model_id": "b0745879b99a4813aafc3bcb9b3b06a7",
       "version_major": 2,
       "version_minor": 0
      },
      "text/plain": [
       "HBox(children=(FloatProgress(value=1.0, bar_style='info', max=1.0), HTML(value='')))"
      ]
     },
     "metadata": {},
     "output_type": "display_data"
    },
    {
     "name": "stdout",
     "output_type": "stream",
     "text": [
      "\n",
      "filtered_measurements = [128.75653735 121.00211364 106.74656544  78.23895615  87.69025466\n",
      " 158.65764627 143.0542173  144.55225462]\n",
      "new_threshold = 284.8485323619094\n"
     ]
    },
    {
     "data": {
      "application/vnd.jupyter.widget-view+json": {
       "model_id": "f576a2ebd90c45448267ffd1857f476b",
       "version_major": 2,
       "version_minor": 0
      },
      "text/plain": [
       "HBox(children=(FloatProgress(value=1.0, bar_style='info', max=1.0), HTML(value='')))"
      ]
     },
     "metadata": {},
     "output_type": "display_data"
    },
    {
     "name": "stdout",
     "output_type": "stream",
     "text": [
      "--> Not exactly one containing mesh: []\n",
      "\n",
      "\n",
      "Working on limb #10\n"
     ]
    },
    {
     "data": {
      "application/vnd.jupyter.widget-view+json": {
       "model_id": "cf5299b2940945c3b618a4151af109ac",
       "version_major": 2,
       "version_minor": 0
      },
      "text/plain": [
       "HBox(children=(FloatProgress(value=1.0, bar_style='info', max=1.0), HTML(value='')))"
      ]
     },
     "metadata": {},
     "output_type": "display_data"
    },
    {
     "data": {
      "application/vnd.jupyter.widget-view+json": {
       "model_id": "83f5710f47514f239558df3eacd7504a",
       "version_major": 2,
       "version_minor": 0
      },
      "text/plain": [
       "HBox(children=(FloatProgress(value=1.0, bar_style='info', max=1.0), HTML(value='')))"
      ]
     },
     "metadata": {},
     "output_type": "display_data"
    },
    {
     "name": "stdout",
     "output_type": "stream",
     "text": [
      "\n",
      "filtered_measurements = [640.8730923  680.9690034  664.63902824 575.6653833  582.08737069\n",
      " 532.91429219 511.69886367 485.95030342 453.25003138 403.76299447\n",
      " 408.97665226 483.18586447]\n",
      "new_threshold = 1439.862399801946\n"
     ]
    },
    {
     "data": {
      "application/vnd.jupyter.widget-view+json": {
       "model_id": "28c57809dafa45eda1d8efbb0a80b5f5",
       "version_major": 2,
       "version_minor": 0
      },
      "text/plain": [
       "HBox(children=(FloatProgress(value=1.0, bar_style='info', max=1.0), HTML(value='')))"
      ]
     },
     "metadata": {},
     "output_type": "display_data"
    },
    {
     "name": "stdout",
     "output_type": "stream",
     "text": [
      "\n",
      "\n",
      "Total time = 170.5393750667572\n"
     ]
    }
   ],
   "source": [
    "sk = reload(sk)\n",
    "tu = reload(tu)\n",
    "cu = reload(cu)\n",
    "from tqdm.notebook import tqdm\n",
    "import time\n",
    "import itertools\n",
    "\n",
    "start_time = time.time()\n",
    "\n",
    "limb_correspondence = dict()\n",
    "soma_containing_idx= 0\n",
    "\n",
    "total_branch_meshes = []\n",
    "total_branch_skeletons = []\n",
    "\n",
    "empty_submeshes = []\n",
    "for soma_containing_idx in current_mesh_data.keys():\n",
    "    for limb_idx,curr_limb_mesh in enumerate(current_mesh_data[soma_containing_idx][\"branch_meshes\"]):\n",
    "        print(f\"Working on limb #{limb_idx}\")\n",
    "        limb_correspondence[limb_idx] = dict()\n",
    "        curr_limb_sk = current_mesh_data[soma_containing_idx][\"branch_skeletons_cleaned\"][limb_idx]\n",
    "        curr_limb_branches_sk_uneven = sk.decompose_skeleton_to_branches(curr_limb_sk) #the line that is decomposing to branches\n",
    "        \n",
    "        for j,curr_branch_sk in tqdm(enumerate(curr_limb_branches_sk_uneven)):\n",
    "            limb_correspondence[limb_idx][j] = dict()\n",
    "            \n",
    "            \n",
    "            curr_branch_face_correspondence, width_from_skeleton = cu.mesh_correspondence_adaptive_distance(curr_branch_sk,\n",
    "                                          curr_limb_mesh,\n",
    "                                         skeleton_segment_width = 1000)\n",
    "            \n",
    "            \n",
    "            \n",
    "            if len(curr_branch_face_correspondence) > 0:\n",
    "                curr_submesh = curr_limb_mesh.submesh([list(curr_branch_face_correspondence)],append=True)\n",
    "            else:\n",
    "                curr_submesh = trimesh.Trimesh(vertices=np.array([]),faces=np.array([]))\n",
    "                \n",
    "            limb_correspondence[limb_idx][j][\"branch_skeleton\"] = curr_branch_sk\n",
    "            limb_correspondence[limb_idx][j][\"correspondence_mesh\"] = curr_submesh\n",
    "            limb_correspondence[limb_idx][j][\"correspondence_face_idx\"] = curr_branch_face_correspondence\n",
    "            limb_correspondence[limb_idx][j][\"width_from_skeleton\"] = width_from_skeleton\n",
    "            \n",
    "            total_branch_meshes.append(curr_submesh)\n",
    "            total_branch_skeletons.append(curr_branch_sk)\n",
    "            \n",
    "            if len(curr_submesh.faces) == 0:\n",
    "                empty_submeshes.append(dict(limb_idx=limb_idx,branch_number=j))\n",
    "            \n",
    "            \n",
    "print(f\"Total time = {time.time() - start_time}\")"
   ]
  },
  {
   "cell_type": "code",
   "execution_count": 25,
   "metadata": {},
   "outputs": [
    {
     "name": "stdout",
     "output_type": "stream",
     "text": [
      "\n",
      "---- checking limb {limb_idx}---\n",
      "Limb 0 decomposed into 75 branches\n",
      "divided_skeleton_graph_recovered = (4022, 2, 3) and \n",
      "current_mesh_data[0]['branch_skeletons_cleaned'].shape = (4022, 2, 3)\n",
      "\n",
      "Number of connected components in deocmposed recovered graph = 1\n",
      "Number of connected components in cleaned skeleton graph= 1\n",
      "\n",
      "---- checking limb {limb_idx}---\n",
      "Limb 1 decomposed into 51 branches\n",
      "divided_skeleton_graph_recovered = (2901, 2, 3) and \n",
      "current_mesh_data[0]['branch_skeletons_cleaned'].shape = (2901, 2, 3)\n",
      "\n",
      "Number of connected components in deocmposed recovered graph = 1\n",
      "Number of connected components in cleaned skeleton graph= 1\n",
      "\n",
      "---- checking limb {limb_idx}---\n",
      "Limb 2 decomposed into 55 branches\n",
      "divided_skeleton_graph_recovered = (1944, 2, 3) and \n",
      "current_mesh_data[0]['branch_skeletons_cleaned'].shape = (1944, 2, 3)\n",
      "\n",
      "Number of connected components in deocmposed recovered graph = 1\n",
      "Number of connected components in cleaned skeleton graph= 1\n",
      "\n",
      "---- checking limb {limb_idx}---\n",
      "Limb 3 decomposed into 37 branches\n",
      "divided_skeleton_graph_recovered = (1837, 2, 3) and \n",
      "current_mesh_data[0]['branch_skeletons_cleaned'].shape = (1837, 2, 3)\n",
      "\n",
      "Number of connected components in deocmposed recovered graph = 1\n",
      "Number of connected components in cleaned skeleton graph= 1\n",
      "\n",
      "---- checking limb {limb_idx}---\n",
      "Limb 4 decomposed into 35 branches\n",
      "divided_skeleton_graph_recovered = (2214, 2, 3) and \n",
      "current_mesh_data[0]['branch_skeletons_cleaned'].shape = (2214, 2, 3)\n",
      "\n",
      "Number of connected components in deocmposed recovered graph = 1\n",
      "Number of connected components in cleaned skeleton graph= 1\n",
      "\n",
      "---- checking limb {limb_idx}---\n",
      "Limb 5 decomposed into 13 branches\n",
      "divided_skeleton_graph_recovered = (1091, 2, 3) and \n",
      "current_mesh_data[0]['branch_skeletons_cleaned'].shape = (1091, 2, 3)\n",
      "\n",
      "Number of connected components in deocmposed recovered graph = 1\n",
      "Number of connected components in cleaned skeleton graph= 1\n",
      "\n",
      "---- checking limb {limb_idx}---\n",
      "Limb 6 decomposed into 17 branches\n",
      "divided_skeleton_graph_recovered = (1031, 2, 3) and \n",
      "current_mesh_data[0]['branch_skeletons_cleaned'].shape = (1031, 2, 3)\n",
      "\n",
      "Number of connected components in deocmposed recovered graph = 1\n",
      "Number of connected components in cleaned skeleton graph= 1\n",
      "\n",
      "---- checking limb {limb_idx}---\n",
      "Limb 7 decomposed into 25 branches\n",
      "divided_skeleton_graph_recovered = (1043, 2, 3) and \n",
      "current_mesh_data[0]['branch_skeletons_cleaned'].shape = (1043, 2, 3)\n",
      "\n",
      "Number of connected components in deocmposed recovered graph = 1\n",
      "Number of connected components in cleaned skeleton graph= 1\n",
      "\n",
      "---- checking limb {limb_idx}---\n",
      "Limb 8 decomposed into 11 branches\n",
      "divided_skeleton_graph_recovered = (672, 2, 3) and \n",
      "current_mesh_data[0]['branch_skeletons_cleaned'].shape = (672, 2, 3)\n",
      "\n",
      "Number of connected components in deocmposed recovered graph = 1\n",
      "Number of connected components in cleaned skeleton graph= 1\n",
      "\n",
      "---- checking limb {limb_idx}---\n",
      "Limb 9 decomposed into 5 branches\n",
      "divided_skeleton_graph_recovered = (250, 2, 3) and \n",
      "current_mesh_data[0]['branch_skeletons_cleaned'].shape = (250, 2, 3)\n",
      "\n",
      "Number of connected components in deocmposed recovered graph = 1\n",
      "Number of connected components in cleaned skeleton graph= 1\n",
      "\n",
      "---- checking limb {limb_idx}---\n",
      "Limb 10 decomposed into 1 branches\n",
      "only one skeleton so no stacking needed\n",
      "divided_skeleton_graph_recovered = (33, 2, 3) and \n",
      "current_mesh_data[0]['branch_skeletons_cleaned'].shape = (33, 2, 3)\n",
      "\n",
      "Number of connected components in deocmposed recovered graph = 1\n",
      "Number of connected components in cleaned skeleton graph= 1\n",
      "Empty submeshes = []\n"
     ]
    }
   ],
   "source": [
    "#couple of checks on how the decomposition went\n",
    "\n",
    "empty_submeshes = []\n",
    "\n",
    "for soma_containing_idx in current_mesh_data.keys():\n",
    "    for limb_idx,curr_limb_mesh in enumerate(current_mesh_data[soma_containing_idx][\"branch_meshes\"]):\n",
    "        print(\"\\n---- checking limb {limb_idx}---\")\n",
    "        print(f\"Limb {limb_idx} decomposed into {len(limb_correspondence[limb_idx])} branches\")\n",
    "        \n",
    "        #get all of the skeletons and make sure that they from a connected component\n",
    "        divided_skeleton_graph = sk.convert_skeleton_to_graph(\n",
    "                                        sk.stack_skeletons([limb_correspondence[limb_idx][k][\"branch_skeleton\"] for k in limb_correspondence[limb_idx]])\n",
    "        )\n",
    "        divided_skeleton_graph_recovered = sk.convert_graph_to_skeleton(divided_skeleton_graph)\n",
    "        cleaned_limb_skeleton = current_mesh_data[0]['branch_skeletons_cleaned'][limb_idx]\n",
    "        print(f\"divided_skeleton_graph_recovered = {divided_skeleton_graph_recovered.shape} and \\n\"\n",
    "              f\"current_mesh_data[0]['branch_skeletons_cleaned'].shape = {cleaned_limb_skeleton.shape}\\n\")\n",
    "        if divided_skeleton_graph_recovered.shape != cleaned_limb_skeleton.shape:\n",
    "            print(f\"****divided_skeleton_graph_recovered and cleaned_limb_skeleton shapes not match: \"\n",
    "                            f\"{divided_skeleton_graph_recovered.shape} vs. {cleaned_limb_skeleton.shape} *****\")\n",
    "        \n",
    "        #check that it is all one component\n",
    "        divided_skeleton_graph_n_comp = nx.number_connected_components(divided_skeleton_graph)\n",
    "        print(f\"Number of connected components in deocmposed recovered graph = {divided_skeleton_graph_n_comp}\")\n",
    "        \n",
    "        cleaned_limb_skeleton_graph = sk.convert_skeleton_to_graph(cleaned_limb_skeleton)\n",
    "        cleaned_limb_skeleton_graph_n_comp = nx.number_connected_components(cleaned_limb_skeleton_graph)\n",
    "        print(f\"Number of connected components in cleaned skeleton graph= {cleaned_limb_skeleton_graph_n_comp}\")\n",
    "        \n",
    "        if divided_skeleton_graph_n_comp > 1 or cleaned_limb_skeleton_graph_n_comp > 1:\n",
    "            raise Exception(f\"One of the decompose_skeletons or cleaned skeletons was not just one component : {divided_skeleton_graph_n_comp,cleaned_limb_skeleton_graph_n_comp}\")\n",
    "        \n",
    "        for j in limb_correspondence[limb_idx].keys():\n",
    "            if len(limb_correspondence[limb_idx][j][\"correspondence_mesh\"].faces) == 0:\n",
    "                empty_submeshes.append(dict(limb_idx=limb_idx,branch_idx = j))\n",
    "        \n",
    "print(f\"Empty submeshes = {empty_submeshes}\")\n",
    "\n",
    "if len(empty_submeshes) > 0:\n",
    "    raise Exception(f\"Found empyt meshes after branch mesh correspondence: {empty_submeshes}\")"
   ]
  },
  {
   "cell_type": "code",
   "execution_count": 26,
   "metadata": {},
   "outputs": [],
   "source": [
    "# sk = reload(sk)\n",
    "# import matplotlib_utils as mu\n",
    "# mu = reload(mu)\n",
    "# sk.graph_skeleton_and_mesh(other_meshes=total_branch_meshes,\n",
    "#                           other_meshes_colors=\"random\",\n",
    "#                            other_skeletons=total_branch_skeletons,\n",
    "#                            other_skeletons_colors=\"random\"\n",
    "#                           )"
   ]
  },
  {
   "cell_type": "markdown",
   "metadata": {},
   "source": [
    "# Finishing off the face correspondence so get 1-to-1 correspondence of mesh face to skeletal piece"
   ]
  },
  {
   "cell_type": "code",
   "execution_count": 27,
   "metadata": {},
   "outputs": [
    {
     "data": {
      "text/plain": [
       "'\\nInput: \\n- full mesh\\n- current face coloring of mesh (could be incomplete) corresponding to skeletal pieces\\n(but doesn\\'t need the skeletal pieces to do it\\'s jobs, those are just represented in the labels)\\n\\nOutput: \\n- better face coloring which has labels that:\\n    a. cover entire mesh\\n    b. the labels exist as only 1 connected component on the mesh\\n\\n\\n\\nPseudocode of what doing:\\n- clearing out the branch_mesh correspondence stored in limb_correspondence[limb_idx][k][\"branch_mesh\"]\\n- gets a list of how many subdivided branches there were (becuase this should be the number of labels) and the mesh of whole limb\\n- Builds a face to skeleeton branch correspondence bassed on the current  branch_piece[\"correspondence_face_idx\"] that already exists\\n    This may have overlaps or faces mapped to zero branches that we need to resolve\\n- computes the percentage of empty and conflicting faces \\n- makes sure that at least one face that corresponds to each branch piece (and throws error if so)\\n\\n#Doing the resolution of the empty and conflicting faces:\\n- clears out all conflicting faces and leaves them just like the empty ones\\n- uses the filter_face_coloring_to_connected_components which only keeps the largest connected component of a label \\n    (because the zeroing out of conflicting labels could have eliminated or split up some of the labels)\\n- if  a face was totally eliminated then add it back to the face coloring\\n(only does this once so a face could still be missing if one face totally overwrites another face)\\n\\n**At this point: there is at one-to-one correspondence of mesh face to skeletal piece label OR empty label (-1)\\n\\n# Using the waterfilling algorithm: designed at fixing the correspondence to empty label (-1) \\n- get a submesh of the original mesh but only for those empty faces and divide into disconnecteed mesh pieces\\n- run through waterfilling algorithm to color each empty piece\\n- check that there are no more empty faces\\n- gets the one connected mesh component that corresponds to that label (get both the actual mesh and the mesh indexes)\\n\\n#the output of all of the algorithm: \\n- save the result back in  limb_correspondence[limb_idx][k][\"branch_mesh\"] so it is accurately updated\\n\\n\\n'"
      ]
     },
     "execution_count": 27,
     "metadata": {},
     "output_type": "execute_result"
    }
   ],
   "source": [
    "\"\"\"\n",
    "Input: \n",
    "- full mesh\n",
    "- current face coloring of mesh (could be incomplete) corresponding to skeletal pieces\n",
    "(but doesn't need the skeletal pieces to do it's jobs, those are just represented in the labels)\n",
    "\n",
    "Output: \n",
    "- better face coloring which has labels that:\n",
    "    a. cover entire mesh\n",
    "    b. the labels exist as only 1 connected component on the mesh\n",
    "\n",
    "\n",
    "\n",
    "Pseudocode of what doing:\n",
    "- clearing out the branch_mesh correspondence stored in limb_correspondence[limb_idx][k][\"branch_mesh\"]\n",
    "- gets a list of how many subdivided branches there were (becuase this should be the number of labels) and the mesh of whole limb\n",
    "- Builds a face to skeleeton branch correspondence bassed on the current  branch_piece[\"correspondence_face_idx\"] that already exists\n",
    "    This may have overlaps or faces mapped to zero branches that we need to resolve\n",
    "- computes the percentage of empty and conflicting faces \n",
    "- makes sure that at least one face that corresponds to each branch piece (and throws error if so)\n",
    "\n",
    "#Doing the resolution of the empty and conflicting faces:\n",
    "- clears out all conflicting faces and leaves them just like the empty ones\n",
    "- uses the filter_face_coloring_to_connected_components which only keeps the largest connected component of a label \n",
    "    (because the zeroing out of conflicting labels could have eliminated or split up some of the labels)\n",
    "- if  a face was totally eliminated then add it back to the face coloring\n",
    "(only does this once so a face could still be missing if one face totally overwrites another face)\n",
    "\n",
    "**At this point: there is at one-to-one correspondence of mesh face to skeletal piece label OR empty label (-1)\n",
    "\n",
    "# Using the waterfilling algorithm: designed at fixing the correspondence to empty label (-1) \n",
    "- get a submesh of the original mesh but only for those empty faces and divide into disconnecteed mesh pieces\n",
    "- run through waterfilling algorithm to color each empty piece\n",
    "- check that there are no more empty faces\n",
    "- gets the one connected mesh component that corresponds to that label (get both the actual mesh and the mesh indexes)\n",
    "\n",
    "#the output of all of the algorithm: \n",
    "- save the result back in  limb_correspondence[limb_idx][k][\"branch_mesh\"] so it is accurately updated\n",
    "\n",
    "\n",
    "\"\"\""
   ]
  },
  {
   "cell_type": "code",
   "execution_count": 28,
   "metadata": {},
   "outputs": [
    {
     "name": "stdout",
     "output_type": "stream",
     "text": [
      "\n",
      "\n",
      "Working on limb_correspondence for #0\n",
      "max(original_labels),len(original_labels) = (74, 75)\n",
      "empty_indices % = 0.07771540135498455\n",
      " conflict_indices % = 0.05089462060108386\n"
     ]
    },
    {
     "data": {
      "application/vnd.jupyter.widget-view+json": {
       "model_id": "7879ef48a0b44f81b0e23522cd8cfd68",
       "version_major": 2,
       "version_minor": 0
      },
      "text/plain": [
       "HBox(children=(FloatProgress(value=0.0, max=779.0), HTML(value='')))"
      ]
     },
     "metadata": {},
     "output_type": "display_data"
    },
    {
     "name": "stdout",
     "output_type": "stream",
     "text": [
      "\n"
     ]
    },
    {
     "data": {
      "application/vnd.jupyter.widget-view+json": {
       "model_id": "176ac323c01b4dea8ee2cf8cab695b58",
       "version_major": 2,
       "version_minor": 0
      },
      "text/plain": [
       "HBox(children=(FloatProgress(value=0.0, max=75.0), HTML(value='')))"
      ]
     },
     "metadata": {},
     "output_type": "display_data"
    },
    {
     "name": "stdout",
     "output_type": "stream",
     "text": [
      "\n",
      "Total time for limb mesh processing = 7.414106607437134\n",
      "\n",
      "\n",
      "Working on limb_correspondence for #1\n",
      "max(original_labels),len(original_labels) = (50, 51)\n",
      "empty_indices % = 0.09009791400595998\n",
      " conflict_indices % = 0.0324336597133532\n"
     ]
    },
    {
     "data": {
      "application/vnd.jupyter.widget-view+json": {
       "model_id": "1b9c6e5da98c4968abf64ab0678bd666",
       "version_major": 2,
       "version_minor": 0
      },
      "text/plain": [
       "HBox(children=(FloatProgress(value=0.0, max=424.0), HTML(value='')))"
      ]
     },
     "metadata": {},
     "output_type": "display_data"
    },
    {
     "name": "stdout",
     "output_type": "stream",
     "text": [
      "\n"
     ]
    },
    {
     "data": {
      "application/vnd.jupyter.widget-view+json": {
       "model_id": "12939c72c01047058237c44116b9632f",
       "version_major": 2,
       "version_minor": 0
      },
      "text/plain": [
       "HBox(children=(FloatProgress(value=0.0, max=51.0), HTML(value='')))"
      ]
     },
     "metadata": {},
     "output_type": "display_data"
    },
    {
     "name": "stdout",
     "output_type": "stream",
     "text": [
      "\n",
      "Total time for limb mesh processing = 3.505107879638672\n",
      "\n",
      "\n",
      "Working on limb_correspondence for #2\n",
      "max(original_labels),len(original_labels) = (54, 55)\n",
      "empty_indices % = 0.09768816876106426\n",
      " conflict_indices % = 0.09303136800062789\n"
     ]
    },
    {
     "name": "stderr",
     "output_type": "stream",
     "text": [
      "No adjacent faces detected! Did you merge vertices?\n",
      "No adjacent faces detected! Did you merge vertices?\n"
     ]
    },
    {
     "name": "stdout",
     "output_type": "stream",
     "text": [
      "list was only one so surrounding them with list\n"
     ]
    },
    {
     "data": {
      "application/vnd.jupyter.widget-view+json": {
       "model_id": "2d037b16cb1544f187063e0dc407a44d",
       "version_major": 2,
       "version_minor": 0
      },
      "text/plain": [
       "HBox(children=(FloatProgress(value=0.0, max=263.0), HTML(value='')))"
      ]
     },
     "metadata": {},
     "output_type": "display_data"
    },
    {
     "name": "stdout",
     "output_type": "stream",
     "text": [
      "\n"
     ]
    },
    {
     "data": {
      "application/vnd.jupyter.widget-view+json": {
       "model_id": "a7cf9221b8b845a3bfd1f2c232c5b083",
       "version_major": 2,
       "version_minor": 0
      },
      "text/plain": [
       "HBox(children=(FloatProgress(value=0.0, max=55.0), HTML(value='')))"
      ]
     },
     "metadata": {},
     "output_type": "display_data"
    },
    {
     "name": "stdout",
     "output_type": "stream",
     "text": [
      "\n",
      "Total time for limb mesh processing = 3.9148285388946533\n",
      "\n",
      "\n",
      "Working on limb_correspondence for #3\n",
      "max(original_labels),len(original_labels) = (36, 37)\n",
      "empty_indices % = 0.1018343625136215\n",
      " conflict_indices % = 0.03566109698510716\n"
     ]
    },
    {
     "name": "stderr",
     "output_type": "stream",
     "text": [
      "No adjacent faces detected! Did you merge vertices?\n",
      "No adjacent faces detected! Did you merge vertices?\n"
     ]
    },
    {
     "name": "stdout",
     "output_type": "stream",
     "text": [
      "list was only one so surrounding them with list\n",
      "list was only one so surrounding them with list\n"
     ]
    },
    {
     "name": "stderr",
     "output_type": "stream",
     "text": [
      "No adjacent faces detected! Did you merge vertices?\n",
      "No adjacent faces detected! Did you merge vertices?\n"
     ]
    },
    {
     "name": "stdout",
     "output_type": "stream",
     "text": [
      "list was only one so surrounding them with list\n",
      "list was only one so surrounding them with list\n"
     ]
    },
    {
     "data": {
      "application/vnd.jupyter.widget-view+json": {
       "model_id": "66a61a4352004ab7bdecae63cbbac998",
       "version_major": 2,
       "version_minor": 0
      },
      "text/plain": [
       "HBox(children=(FloatProgress(value=0.0, max=309.0), HTML(value='')))"
      ]
     },
     "metadata": {},
     "output_type": "display_data"
    },
    {
     "name": "stdout",
     "output_type": "stream",
     "text": [
      "\n"
     ]
    },
    {
     "data": {
      "application/vnd.jupyter.widget-view+json": {
       "model_id": "8dbba1f5f63e4660aa9e05bd70c6394b",
       "version_major": 2,
       "version_minor": 0
      },
      "text/plain": [
       "HBox(children=(FloatProgress(value=0.0, max=37.0), HTML(value='')))"
      ]
     },
     "metadata": {},
     "output_type": "display_data"
    },
    {
     "name": "stdout",
     "output_type": "stream",
     "text": [
      "\n",
      "Total time for limb mesh processing = 2.371910810470581\n",
      "\n",
      "\n",
      "Working on limb_correspondence for #4\n",
      "max(original_labels),len(original_labels) = (34, 35)\n",
      "empty_indices % = 0.10513229673061937\n",
      " conflict_indices % = 0.02324934129958808\n"
     ]
    },
    {
     "data": {
      "application/vnd.jupyter.widget-view+json": {
       "model_id": "2f11bb069aa74c9d874464196f72ca34",
       "version_major": 2,
       "version_minor": 0
      },
      "text/plain": [
       "HBox(children=(FloatProgress(value=0.0, max=272.0), HTML(value='')))"
      ]
     },
     "metadata": {},
     "output_type": "display_data"
    },
    {
     "name": "stdout",
     "output_type": "stream",
     "text": [
      "\n"
     ]
    },
    {
     "data": {
      "application/vnd.jupyter.widget-view+json": {
       "model_id": "fce38f323f3a4f61909dd05f5a536933",
       "version_major": 2,
       "version_minor": 0
      },
      "text/plain": [
       "HBox(children=(FloatProgress(value=0.0, max=35.0), HTML(value='')))"
      ]
     },
     "metadata": {},
     "output_type": "display_data"
    },
    {
     "name": "stdout",
     "output_type": "stream",
     "text": [
      "\n",
      "Total time for limb mesh processing = 2.3157806396484375\n",
      "\n",
      "\n",
      "Working on limb_correspondence for #5\n",
      "max(original_labels),len(original_labels) = (12, 13)\n",
      "empty_indices % = 0.06971248523040567\n",
      " conflict_indices % = 0.025283624242307803\n"
     ]
    },
    {
     "data": {
      "application/vnd.jupyter.widget-view+json": {
       "model_id": "f6e05f45f87d4d0fb557887a6c3d906c",
       "version_major": 2,
       "version_minor": 0
      },
      "text/plain": [
       "HBox(children=(FloatProgress(value=0.0, max=211.0), HTML(value='')))"
      ]
     },
     "metadata": {},
     "output_type": "display_data"
    },
    {
     "name": "stdout",
     "output_type": "stream",
     "text": [
      "\n"
     ]
    },
    {
     "data": {
      "application/vnd.jupyter.widget-view+json": {
       "model_id": "c262db6dbad348c0be626a3b2a80a309",
       "version_major": 2,
       "version_minor": 0
      },
      "text/plain": [
       "HBox(children=(FloatProgress(value=0.0, max=13.0), HTML(value='')))"
      ]
     },
     "metadata": {},
     "output_type": "display_data"
    },
    {
     "name": "stdout",
     "output_type": "stream",
     "text": [
      "\n",
      "Total time for limb mesh processing = 1.9050304889678955\n",
      "\n",
      "\n",
      "Working on limb_correspondence for #6\n",
      "max(original_labels),len(original_labels) = (16, 17)\n",
      "empty_indices % = 0.10474829445890539\n",
      " conflict_indices % = 0.026165807516289833\n"
     ]
    },
    {
     "data": {
      "application/vnd.jupyter.widget-view+json": {
       "model_id": "86195907492a4405beeffa4159fc9e83",
       "version_major": 2,
       "version_minor": 0
      },
      "text/plain": [
       "HBox(children=(FloatProgress(value=0.0, max=191.0), HTML(value='')))"
      ]
     },
     "metadata": {},
     "output_type": "display_data"
    },
    {
     "name": "stdout",
     "output_type": "stream",
     "text": [
      "\n"
     ]
    },
    {
     "data": {
      "application/vnd.jupyter.widget-view+json": {
       "model_id": "06b9882685c44e0fad9d55b3d4e19e65",
       "version_major": 2,
       "version_minor": 0
      },
      "text/plain": [
       "HBox(children=(FloatProgress(value=0.0, max=17.0), HTML(value='')))"
      ]
     },
     "metadata": {},
     "output_type": "display_data"
    },
    {
     "name": "stdout",
     "output_type": "stream",
     "text": [
      "\n",
      "Total time for limb mesh processing = 1.140589714050293\n",
      "\n",
      "\n",
      "Working on limb_correspondence for #7\n",
      "max(original_labels),len(original_labels) = (24, 25)\n",
      "empty_indices % = 0.11444579198196198\n",
      " conflict_indices % = 0.04138838118989461\n"
     ]
    },
    {
     "data": {
      "application/vnd.jupyter.widget-view+json": {
       "model_id": "c7fdff3a97bc4540a92f7b2efef35c72",
       "version_major": 2,
       "version_minor": 0
      },
      "text/plain": [
       "HBox(children=(FloatProgress(value=0.0, max=176.0), HTML(value='')))"
      ]
     },
     "metadata": {},
     "output_type": "display_data"
    },
    {
     "name": "stdout",
     "output_type": "stream",
     "text": [
      "\n"
     ]
    },
    {
     "data": {
      "application/vnd.jupyter.widget-view+json": {
       "model_id": "b4ead8a5158d473e9ad1bf8dfdc7b62b",
       "version_major": 2,
       "version_minor": 0
      },
      "text/plain": [
       "HBox(children=(FloatProgress(value=0.0, max=25.0), HTML(value='')))"
      ]
     },
     "metadata": {},
     "output_type": "display_data"
    },
    {
     "name": "stdout",
     "output_type": "stream",
     "text": [
      "\n",
      "Total time for limb mesh processing = 1.3863189220428467\n",
      "\n",
      "\n",
      "Working on limb_correspondence for #8\n",
      "max(original_labels),len(original_labels) = (10, 11)\n",
      "empty_indices % = 0.11277789039799986\n",
      " conflict_indices % = 0.029461450097979593\n"
     ]
    },
    {
     "data": {
      "application/vnd.jupyter.widget-view+json": {
       "model_id": "4966e6ca1a0942f19d413ec8f35c14ec",
       "version_major": 2,
       "version_minor": 0
      },
      "text/plain": [
       "HBox(children=(FloatProgress(value=0.0, max=88.0), HTML(value='')))"
      ]
     },
     "metadata": {},
     "output_type": "display_data"
    },
    {
     "name": "stdout",
     "output_type": "stream",
     "text": [
      "\n"
     ]
    },
    {
     "data": {
      "application/vnd.jupyter.widget-view+json": {
       "model_id": "38fd9995c88e4e6cb69e80e100788963",
       "version_major": 2,
       "version_minor": 0
      },
      "text/plain": [
       "HBox(children=(FloatProgress(value=0.0, max=11.0), HTML(value='')))"
      ]
     },
     "metadata": {},
     "output_type": "display_data"
    },
    {
     "name": "stdout",
     "output_type": "stream",
     "text": [
      "\n",
      "Total time for limb mesh processing = 0.678464412689209\n",
      "\n",
      "\n",
      "Working on limb_correspondence for #9\n",
      "max(original_labels),len(original_labels) = (4, 5)\n",
      "empty_indices % = 0.21987561544441564\n",
      " conflict_indices % = 0.0014252396994039907\n"
     ]
    },
    {
     "data": {
      "application/vnd.jupyter.widget-view+json": {
       "model_id": "9b6269399b1046da83e944147351b948",
       "version_major": 2,
       "version_minor": 0
      },
      "text/plain": [
       "HBox(children=(FloatProgress(value=0.0, max=20.0), HTML(value='')))"
      ]
     },
     "metadata": {},
     "output_type": "display_data"
    },
    {
     "name": "stdout",
     "output_type": "stream",
     "text": [
      "\n"
     ]
    },
    {
     "data": {
      "application/vnd.jupyter.widget-view+json": {
       "model_id": "30087f35418845e3b9678050d3cfce4b",
       "version_major": 2,
       "version_minor": 0
      },
      "text/plain": [
       "HBox(children=(FloatProgress(value=0.0, max=5.0), HTML(value='')))"
      ]
     },
     "metadata": {},
     "output_type": "display_data"
    },
    {
     "name": "stdout",
     "output_type": "stream",
     "text": [
      "\n",
      "Total time for limb mesh processing = 0.31511807441711426\n",
      "\n",
      "\n",
      "Working on limb_correspondence for #10\n",
      "max(original_labels),len(original_labels) = (0, 1)\n",
      "empty_indices % = 0.006573181419807186\n",
      " conflict_indices % = 0.0\n"
     ]
    },
    {
     "data": {
      "application/vnd.jupyter.widget-view+json": {
       "model_id": "04e56d8e1e314121b61cc92a571accc5",
       "version_major": 2,
       "version_minor": 0
      },
      "text/plain": [
       "HBox(children=(FloatProgress(value=0.0, max=5.0), HTML(value='')))"
      ]
     },
     "metadata": {},
     "output_type": "display_data"
    },
    {
     "name": "stdout",
     "output_type": "stream",
     "text": [
      "\n"
     ]
    },
    {
     "data": {
      "application/vnd.jupyter.widget-view+json": {
       "model_id": "9345c6bec7e14fdfa952a425a45fde33",
       "version_major": 2,
       "version_minor": 0
      },
      "text/plain": [
       "HBox(children=(FloatProgress(value=0.0, max=1.0), HTML(value='')))"
      ]
     },
     "metadata": {},
     "output_type": "display_data"
    },
    {
     "name": "stdout",
     "output_type": "stream",
     "text": [
      "\n",
      "Total time for limb mesh processing = 0.07698941230773926\n"
     ]
    }
   ],
   "source": [
    "#--- this is the function that will clean up a limb piece so have 1-1 correspondence\n",
    "\n",
    "cu = reload(cu)\n",
    "tu = reload(tu)\n",
    "\n",
    "#things to prep for visualizing the axons\n",
    "total_widths = []\n",
    "total_branch_skeletons = []\n",
    "total_branch_meshes = []\n",
    "\n",
    "soma_containing_idx = 0\n",
    "import time\n",
    "for limb_idx in limb_correspondence.keys():\n",
    "    mesh_start_time = time.time()\n",
    "    #clear out the mesh correspondence if already in limb_correspondecne\n",
    "    for k in limb_correspondence[limb_idx].keys():\n",
    "        if \"branch_mesh\" in limb_correspondence[limb_idx][k]:\n",
    "            del limb_correspondence[limb_idx][k][\"branch_mesh\"]\n",
    "        if \"branch_face_idx\" in limb_correspondence[limb_idx][k]:\n",
    "            del limb_correspondence[limb_idx][k][\"branch_face_idx\"]\n",
    "    #geting the current limb mesh\n",
    "    print(f\"\\n\\nWorking on limb_correspondence for #{limb_idx}\")\n",
    "    no_missing_labels = list(limb_correspondence[limb_idx].keys()) #counts the number of divided branches which should be the total number of labels\n",
    "    curr_limb_mesh = current_mesh_data[soma_containing_idx][\"branch_meshes\"][limb_idx]\n",
    "\n",
    "    #set up the face dictionary\n",
    "    face_lookup = dict([(j,[]) for j in range(0,len(curr_limb_mesh.faces))])\n",
    "\n",
    "    for j,branch_piece in limb_correspondence[limb_idx].items():\n",
    "        curr_faces_corresponded = branch_piece[\"correspondence_face_idx\"]\n",
    "\n",
    "        for c in curr_faces_corresponded:\n",
    "            face_lookup[c].append(j)\n",
    "\n",
    "    original_labels = set(list(itertools.chain.from_iterable(list(face_lookup.values()))))\n",
    "    print(f\"max(original_labels),len(original_labels) = {(max(original_labels),len(original_labels))}\")\n",
    "    \n",
    "    \n",
    "    if len(original_labels) != len(no_missing_labels):\n",
    "        raise Exception(f\"len(original_labels) != len(no_missing_labels) for original_labels = {len(original_labels)},no_missing_labels = {len(no_missing_labels)}\")\n",
    "    \n",
    "    if max(original_labels) + 1 > len(original_labels):\n",
    "        raise Exception(\"There are some missing labels in the initial labeling\")\n",
    "        \n",
    "    \n",
    "        \n",
    "    #here is where can call the function that resolves the face labels\n",
    "    face_coloring_copy = cu.resolve_empty_conflicting_face_labels(\n",
    "                     curr_limb_mesh = curr_limb_mesh,\n",
    "                     face_lookup=face_lookup,\n",
    "                     no_missing_labels = list(original_labels)\n",
    "    )\n",
    "    \n",
    "\n",
    "    # -- splitting the mesh pieces into individual pieces\n",
    "    divided_submeshes,divided_submeshes_idx = tu.split_mesh_into_face_groups(curr_limb_mesh,face_coloring_copy)\n",
    "    \n",
    "    #-- check that all the split mesh pieces are one component --#\n",
    "\n",
    "    #save off the new data as branch mesh\n",
    "    for k in limb_correspondence[limb_idx].keys():\n",
    "        limb_correspondence[limb_idx][k][\"branch_mesh\"] = divided_submeshes[k]\n",
    "        limb_correspondence[limb_idx][k][\"branch_face_idx\"] = divided_submeshes_idx[k]\n",
    "        total_widths.append(limb_correspondence[limb_idx][k][\"width_from_skeleton\"])\n",
    "        total_branch_skeletons.append(limb_correspondence[limb_idx][k][\"branch_skeleton\"])\n",
    "        total_branch_meshes.append(limb_correspondence[limb_idx][k][\"branch_mesh\"])\n",
    "    \n",
    "    print(f\"Total time for limb mesh processing = {time.time() - mesh_start_time}\")"
   ]
  },
  {
   "cell_type": "markdown",
   "metadata": {},
   "source": [
    "# Visualizing the results of getting the mesh to skeletal segment correspondence completely 1-to-1"
   ]
  },
  {
   "cell_type": "code",
   "execution_count": 29,
   "metadata": {},
   "outputs": [
    {
     "data": {
      "image/png": "[encoded data removed]",
      "text/plain": [
       "<Figure size 432x288 with 1 Axes>"
      ]
     },
     "metadata": {
      "needs_background": "light"
     },
     "output_type": "display_data"
    }
   ],
   "source": [
    "from matplotlib import pyplot as plt\n",
    "fig,ax = plt.subplots(1,1)\n",
    "bins = plt.hist(np.array(total_widths),bins=100)\n",
    "ax.set_xlabel(\"Width measurement of mesh branch (nm)\")\n",
    "ax.set_ylabel(\"frequency\")\n",
    "ax.set_title(\"Width measurement of mesh branch frequency\")\n",
    "plt.show()"
   ]
  },
  {
   "cell_type": "code",
   "execution_count": null,
   "metadata": {},
   "outputs": [],
   "source": [
    "sk.graph_skeleton_and_mesh(other_meshes=total_branch_meshes,\n",
    "                          other_meshes_colors=\"random\",\n",
    "                          other_skeletons=total_branch_skeletons,\n",
    "                          other_skeletons_colors=\"random\",\n",
    "                          #html_path=\"two_soma_mesh_skeleton_decomp.html\"\n",
    "                          )"
   ]
  },
  {
   "cell_type": "code",
   "execution_count": null,
   "metadata": {},
   "outputs": [],
   "source": [
    "\n",
    "# sk.graph_skeleton_and_mesh(other_meshes=total_branch_meshes[:75],\n",
    "#                           other_meshes_colors=\"random\",\n",
    "#                           other_skeletons=total_branch_skeletons[:75],\n",
    "#                           other_skeletons_colors=\"random\",\n",
    "#                           html_path=\"two_soma_mesh_skeleton_decomp.html\")"
   ]
  },
  {
   "cell_type": "markdown",
   "metadata": {},
   "source": [
    "# PART 3: LAST PART OF ANALYSIS WHERE MAKES CONCEPT GRAPHS"
   ]
  },
  {
   "cell_type": "code",
   "execution_count": 84,
   "metadata": {
    "scrolled": true
   },
   "outputs": [
    {
     "name": "stdout",
     "output_type": "stream",
     "text": [
      "\n",
      "\n",
      "------Working on limb 0 -------\n",
      "inside loop len(curr_limb_divided_meshes) = 75len(curr_limb_divided_skeletons) = 75\n",
      "inside inner loop len(curr_limb_divided_skeletons) = 75\n",
      "closest_endpoint = [755723.6 950078.8 875890.2]\n",
      "At the start, starting_node = [49]\n",
      "edge_endpoints_to_process was empty so exiting loop after 75 iterations\n",
      "starting_node = [49]\n",
      "Total time for branches to concept conversion = 0.3190021514892578\n",
      "\n",
      "After concept mapping size = 75\n",
      "Local time for concept mapping = 12.125120401382446\n",
      "\n",
      "\n",
      "------Working on limb 1 -------\n",
      "inside loop len(curr_limb_divided_meshes) = 51len(curr_limb_divided_skeletons) = 51\n",
      "Merge limb detected\n",
      "inside inner loop len(curr_limb_divided_skeletons) = 51\n",
      "closest_endpoint = [764864. 961024. 878460.]\n",
      "At the start, starting_node = [12]\n",
      "edge_endpoints_to_process was empty so exiting loop after 33 iterations\n",
      "starting_node = [12]\n",
      "Total time for branches to concept conversion = 0.2195279598236084\n",
      "\n",
      "After concept mapping size = 33\n",
      "inside inner loop len(curr_limb_divided_skeletons) = 51\n",
      "closest_endpoint = [856786.2 995564.2 861440.3]\n",
      "At the start, starting_node = [46]\n",
      "edge_endpoints_to_process was empty so exiting loop after 33 iterations\n",
      "starting_node = [46]\n",
      "Total time for branches to concept conversion = 0.22148942947387695\n",
      "\n",
      "After concept mapping size = 33\n",
      "Local time for concept mapping = 14.935935974121094\n",
      "\n",
      "\n",
      "------Working on limb 2 -------\n",
      "inside loop len(curr_limb_divided_meshes) = 55len(curr_limb_divided_skeletons) = 55\n",
      "inside inner loop len(curr_limb_divided_skeletons) = 55\n",
      "closest_endpoint = [757928.4 962502.2 866083.1]\n",
      "At the start, starting_node = [0]\n",
      "edge_endpoints_to_process was empty so exiting loop after 53 iterations\n",
      "starting_node = [0]\n",
      "Total time for branches to concept conversion = 0.16814470291137695\n",
      "\n",
      "After concept mapping size = 53\n",
      "Local time for concept mapping = 7.524318218231201\n",
      "\n",
      "\n",
      "------Working on limb 3 -------\n",
      "inside loop len(curr_limb_divided_meshes) = 37len(curr_limb_divided_skeletons) = 37\n",
      "inside inner loop len(curr_limb_divided_skeletons) = 37\n",
      "closest_endpoint = [747417. 963213. 883566.]\n",
      "At the start, starting_node = [23]\n",
      "edge_endpoints_to_process was empty so exiting loop after 37 iterations\n",
      "starting_node = [23]\n",
      "Total time for branches to concept conversion = 0.14647960662841797\n",
      "\n",
      "After concept mapping size = 36\n",
      "Local time for concept mapping = 4.631315469741821\n",
      "\n",
      "\n",
      "------Working on limb 4 -------\n",
      "inside loop len(curr_limb_divided_meshes) = 35len(curr_limb_divided_skeletons) = 35\n",
      "inside inner loop len(curr_limb_divided_skeletons) = 35\n",
      "closest_endpoint = [863506.4 997662.8 866843.4]\n",
      "At the start, starting_node = [7]\n",
      "edge_endpoints_to_process was empty so exiting loop after 35 iterations\n",
      "starting_node = [7]\n",
      "Total time for branches to concept conversion = 0.16677570343017578\n",
      "\n",
      "After concept mapping size = 35\n",
      "Local time for concept mapping = 4.7390782833099365\n",
      "\n",
      "\n",
      "------Working on limb 5 -------\n",
      "inside loop len(curr_limb_divided_meshes) = 13len(curr_limb_divided_skeletons) = 13\n",
      "inside inner loop len(curr_limb_divided_skeletons) = 13\n",
      "closest_endpoint = [750819.6 962859.9 869731.4]\n",
      "At the start, starting_node = [10]\n",
      "edge_endpoints_to_process was empty so exiting loop after 13 iterations\n",
      "starting_node = [10]\n",
      "Total time for branches to concept conversion = 0.07872724533081055\n",
      "\n",
      "After concept mapping size = 13\n",
      "Local time for concept mapping = 2.9092822074890137\n",
      "\n",
      "\n",
      "------Working on limb 6 -------\n",
      "inside loop len(curr_limb_divided_meshes) = 17len(curr_limb_divided_skeletons) = 17\n",
      "inside inner loop len(curr_limb_divided_skeletons) = 17\n",
      "closest_endpoint = [865463. 988135. 860827.]\n",
      "At the start, starting_node = [12]\n",
      "edge_endpoints_to_process was empty so exiting loop after 17 iterations\n",
      "starting_node = [12]\n",
      "Total time for branches to concept conversion = 0.07505536079406738\n",
      "\n",
      "After concept mapping size = 17\n",
      "Local time for concept mapping = 3.536316156387329\n",
      "\n",
      "\n",
      "------Working on limb 7 -------\n",
      "inside loop len(curr_limb_divided_meshes) = 25len(curr_limb_divided_skeletons) = 25\n"
     ]
    },
    {
     "ename": "KeyboardInterrupt",
     "evalue": "",
     "output_type": "error",
     "traceback": [
      "\u001b[0;31m---------------------------------------------------------------------------\u001b[0m",
      "\u001b[0;31mKeyboardInterrupt\u001b[0m                         Traceback (most recent call last)",
      "\u001b[0;32m<ipython-input-84-704f9a16a1d3>\u001b[0m in \u001b[0;36m<module>\u001b[0;34m\u001b[0m\n\u001b[1;32m     25\u001b[0m     \u001b[0msoma_idx_connectivity\u001b[0m \u001b[0;34m=\u001b[0m \u001b[0msoma_idx_connectivity\u001b[0m\u001b[0;34m,\u001b[0m\u001b[0;34m\u001b[0m\u001b[0;34m\u001b[0m\u001b[0m\n\u001b[1;32m     26\u001b[0m     \u001b[0mcurrent_neuron\u001b[0m\u001b[0;34m=\u001b[0m\u001b[0mcurrent_neuron\u001b[0m\u001b[0;34m,\u001b[0m\u001b[0;34m\u001b[0m\u001b[0;34m\u001b[0m\u001b[0m\n\u001b[0;32m---> 27\u001b[0;31m     \u001b[0mreturn_limb_labels\u001b[0m\u001b[0;34m=\u001b[0m\u001b[0;32mTrue\u001b[0m\u001b[0;34m\u001b[0m\u001b[0;34m\u001b[0m\u001b[0m\n\u001b[0m\u001b[1;32m     28\u001b[0m     )\n\u001b[1;32m     29\u001b[0m \u001b[0;34m\u001b[0m\u001b[0m\n",
      "\u001b[0;32m/notebooks/neuron_mesh_tools/meshAfterParty/neuron.py\u001b[0m in \u001b[0;36mgenerate_limb_concept_networks_from_global_connectivity\u001b[0;34m(limb_idx_to_branch_meshes_dict, limb_idx_to_branch_skeletons_dict, soma_idx_to_mesh_dict, soma_idx_connectivity, current_neuron, return_limb_labels)\u001b[0m\n\u001b[1;32m    113\u001b[0m             touching_pieces = tu.mesh_pieces_connectivity(main_mesh=current_neuron,\n\u001b[1;32m    114\u001b[0m                                         \u001b[0mcentral_piece\u001b[0m \u001b[0;34m=\u001b[0m \u001b[0mcurr_soma_mesh\u001b[0m\u001b[0;34m,\u001b[0m\u001b[0;34m\u001b[0m\u001b[0;34m\u001b[0m\u001b[0m\n\u001b[0;32m--> 115\u001b[0;31m                                         periphery_pieces = curr_limb_divided_meshes)\n\u001b[0m\u001b[1;32m    116\u001b[0m             \u001b[0;32mif\u001b[0m \u001b[0mlen\u001b[0m\u001b[0;34m(\u001b[0m\u001b[0mtouching_pieces\u001b[0m\u001b[0;34m)\u001b[0m \u001b[0;34m>=\u001b[0m \u001b[0;36m2\u001b[0m\u001b[0;34m:\u001b[0m\u001b[0;34m\u001b[0m\u001b[0;34m\u001b[0m\u001b[0m\n\u001b[1;32m    117\u001b[0m                 \u001b[0;32mraise\u001b[0m \u001b[0mException\u001b[0m\u001b[0;34m(\u001b[0m\u001b[0;34m\"More than one touching point to soma\"\u001b[0m\u001b[0;34m)\u001b[0m\u001b[0;34m\u001b[0m\u001b[0;34m\u001b[0m\u001b[0m\n",
      "\u001b[0;32m/notebooks/neuron_mesh_tools/meshAfterParty/trimesh_utils.py\u001b[0m in \u001b[0;36mmesh_pieces_connectivity\u001b[0;34m(main_mesh, central_piece, periphery_pieces, return_vertices)\u001b[0m\n\u001b[1;32m    320\u001b[0m     \u001b[0;31m#1) Get the original faces of the central_piece and the periphery_pieces\u001b[0m\u001b[0;34m\u001b[0m\u001b[0;34m\u001b[0m\u001b[0;34m\u001b[0m\u001b[0m\n\u001b[1;32m    321\u001b[0m     \u001b[0;32mif\u001b[0m \u001b[0mtype\u001b[0m\u001b[0;34m(\u001b[0m\u001b[0mcentral_piece\u001b[0m\u001b[0;34m)\u001b[0m \u001b[0;34m==\u001b[0m \u001b[0mtype\u001b[0m\u001b[0;34m(\u001b[0m\u001b[0mtrimesh\u001b[0m\u001b[0;34m.\u001b[0m\u001b[0mTrimesh\u001b[0m\u001b[0;34m(\u001b[0m\u001b[0;34m)\u001b[0m\u001b[0;34m)\u001b[0m\u001b[0;34m:\u001b[0m\u001b[0;34m\u001b[0m\u001b[0;34m\u001b[0m\u001b[0m\n\u001b[0;32m--> 322\u001b[0;31m         \u001b[0mcentral_piece_faces\u001b[0m \u001b[0;34m=\u001b[0m \u001b[0moriginal_mesh_faces_map\u001b[0m\u001b[0;34m(\u001b[0m\u001b[0mmain_mesh\u001b[0m\u001b[0;34m,\u001b[0m\u001b[0mcentral_piece\u001b[0m\u001b[0;34m)\u001b[0m\u001b[0;34m\u001b[0m\u001b[0;34m\u001b[0m\u001b[0m\n\u001b[0m\u001b[1;32m    323\u001b[0m     \u001b[0;32melse\u001b[0m\u001b[0;34m:\u001b[0m\u001b[0;34m\u001b[0m\u001b[0;34m\u001b[0m\u001b[0m\n\u001b[1;32m    324\u001b[0m         \u001b[0;31m#then what was passed were the face ids\u001b[0m\u001b[0;34m\u001b[0m\u001b[0;34m\u001b[0m\u001b[0;34m\u001b[0m\u001b[0m\n",
      "\u001b[0;32m/notebooks/neuron_mesh_tools/meshAfterParty/trimesh_utils.py\u001b[0m in \u001b[0;36moriginal_mesh_faces_map\u001b[0;34m(original_mesh, submesh, matching, print_flag)\u001b[0m\n\u001b[1;32m    268\u001b[0m     \u001b[0msubmesh_mesh_kdtree\u001b[0m \u001b[0;34m=\u001b[0m \u001b[0mKDTree\u001b[0m\u001b[0;34m(\u001b[0m\u001b[0msubmesh_midpoints\u001b[0m\u001b[0;34m)\u001b[0m\u001b[0;34m\u001b[0m\u001b[0;34m\u001b[0m\u001b[0m\n\u001b[1;32m    269\u001b[0m     \u001b[0;31m#2) Query the fae midpoints of submesh against KDTree\u001b[0m\u001b[0;34m\u001b[0m\u001b[0;34m\u001b[0m\u001b[0;34m\u001b[0m\u001b[0m\n\u001b[0;32m--> 270\u001b[0;31m     \u001b[0mdistances\u001b[0m\u001b[0;34m,\u001b[0m\u001b[0mclosest_node\u001b[0m \u001b[0;34m=\u001b[0m \u001b[0msubmesh_mesh_kdtree\u001b[0m\u001b[0;34m.\u001b[0m\u001b[0mquery\u001b[0m\u001b[0;34m(\u001b[0m\u001b[0moriginal_mesh_midpoints\u001b[0m\u001b[0;34m)\u001b[0m\u001b[0;34m\u001b[0m\u001b[0;34m\u001b[0m\u001b[0m\n\u001b[0m\u001b[1;32m    271\u001b[0m \u001b[0;34m\u001b[0m\u001b[0m\n\u001b[1;32m    272\u001b[0m     \u001b[0;32mif\u001b[0m \u001b[0mprint_flag\u001b[0m\u001b[0;34m:\u001b[0m\u001b[0;34m\u001b[0m\u001b[0;34m\u001b[0m\u001b[0m\n",
      "\u001b[0;31mKeyboardInterrupt\u001b[0m: "
     ]
    }
   ],
   "source": [
    "import neuron\n",
    "neuron = reload(neuron)\n",
    "\n",
    "#getting mesh and skeleton dictionaries\n",
    "limb_idx_to_branch_meshes_dict = dict()\n",
    "limb_idx_to_branch_skeletons_dict = dict()\n",
    "for k in limb_correspondence.keys():\n",
    "    limb_idx_to_branch_meshes_dict[k] = [limb_correspondence[k][j][\"branch_mesh\"] for j in limb_correspondence[k].keys()]\n",
    "    limb_idx_to_branch_skeletons_dict[k] = [limb_correspondence[k][j][\"branch_skeleton\"] for j in limb_correspondence[k].keys()]      \n",
    "\n",
    "#getting the soma dictionaries\n",
    "soma_idx_to_mesh_dict = dict()\n",
    "for k,v in enumerate(current_mesh_data[0][\"soma_meshes\"]):\n",
    "    soma_idx_to_mesh_dict[k] = v\n",
    "\n",
    "soma_idx_connectivity = current_mesh_data[0][\"soma_to_piece_connectivity\"]\n",
    "\n",
    "\n",
    "\n",
    "\n",
    "limb_concept_networkx,limb_labels = neuron.generate_limb_concept_networks_from_global_connectivity(\n",
    "    limb_idx_to_branch_meshes_dict = limb_idx_to_branch_meshes_dict,\n",
    "    limb_idx_to_branch_skeletons_dict = limb_idx_to_branch_skeletons_dict,\n",
    "    soma_idx_to_mesh_dict = soma_idx_to_mesh_dict,\n",
    "    soma_idx_connectivity = soma_idx_connectivity,\n",
    "    current_neuron=current_neuron,\n",
    "    return_limb_labels=True\n",
    "    )\n",
    "\n",
    "#Before go and get concept maps:\n",
    "print(\"Sizes of dictionaries sent\")\n",
    "for curr_limb in limb_idx_to_branch_skeletons_dict.keys():\n",
    "    print((len(limb_idx_to_branch_skeletons_dict[curr_limb]),len(limb_idx_to_branch_meshes_dict[curr_limb])))\n",
    "    \n",
    "    \n",
    "print(\"\\n\\n Sizes of concept maps gotten back\")\n",
    "for curr_idx in limb_concept_networkx.keys():\n",
    "    for soma_idx,concept_graph in limb_concept_networkx[curr_idx].items():\n",
    "        print(len(np.unique(list(concept_graph.nodes()))))"
   ]
  },
  {
   "cell_type": "code",
   "execution_count": 101,
   "metadata": {},
   "outputs": [
    {
     "data": {
      "text/plain": [
       "1"
      ]
     },
     "execution_count": 101,
     "metadata": {},
     "output_type": "execute_result"
    }
   ],
   "source": [
    "k = 1\n",
    "total_branches = [limb_correspondence[k][j][\"branch_skeleton\"] for j in limb_correspondence[k].keys()]  \n",
    "total_branches_graph = sk.convert_skeleton_to_graph(sk.stack_skeletons(total_branches))\n",
    "len(list(nx.connected_components(total_branches_graph)))"
   ]
  },
  {
   "cell_type": "code",
   "execution_count": 86,
   "metadata": {},
   "outputs": [
    {
     "data": {
      "image/png": "[encoded data removed]",
      "text/plain": [
       "<Figure size 432x288 with 1 Axes>"
      ]
     },
     "metadata": {},
     "output_type": "display_data"
    }
   ],
   "source": [
    "curr_limb = 1\n",
    "curr_sk_graph_debug = sk.convert_skeleton_to_graph(sk.stack_skeletons(limb_idx_to_branch_skeletons_dict[curr_limb]))\n",
    "#nx.draw(curr_sk_graph_debug)"
   ]
  },
  {
   "cell_type": "code",
   "execution_count": 102,
   "metadata": {},
   "outputs": [
    {
     "data": {
      "text/plain": [
       "1"
      ]
     },
     "execution_count": 102,
     "metadata": {},
     "output_type": "execute_result"
    }
   ],
   "source": [
    "# undownsampled graph \n",
    "non_downsampled_skel = sk.stack_skeletons(limb_idx_to_branch_skeletons_dict[curr_limb])\n",
    "non_downsampled_skel_graph = sk.convert_skeleton_to_graph(non_downsampled_skel)\n",
    "len(list(nx.connected_components(non_downsampled_skel_graph)))"
   ]
  },
  {
   "cell_type": "markdown",
   "metadata": {},
   "source": [
    "# Lets check which segments are not matching"
   ]
  },
  {
   "cell_type": "code",
   "execution_count": 194,
   "metadata": {
    "scrolled": false
   },
   "outputs": [
    {
     "data": {
      "application/vnd.jupyter.widget-view+json": {
       "model_id": "94c39b9f1a6d491ea228f7ca3ff481ce",
       "version_major": 2,
       "version_minor": 0
      },
      "text/plain": [
       "VBox(children=(Figure(camera=PerspectiveCamera(fov=46.0, position=(0.0, 0.0, 2.0), quaternion=(0.0, 0.0, 0.0, …"
      ]
     },
     "metadata": {},
     "output_type": "display_data"
    }
   ],
   "source": [
    "from neuron import Branch\n",
    "for j,b in enumerate(limb_idx_to_branch_skeletons_dict[curr_limb]):\n",
    "    if j != 22:\n",
    "        continue\n",
    "    \n",
    "    resized_branch = sk.resize_skeleton_branch(b,n_segments=1) \n",
    "    original_branch = Branch(b)\n",
    "    new_branch = Branch(resized_branch)\n",
    "    if not np.array_equal(np.sort(original_branch.endpoints,axis=0),np.sort(new_branch.endpoints,axis=0)):\n",
    "        raise Exception(f\"endpoints not equal after resizing branch {j}\")\n",
    "    #print(f\"original_branch.skeleton = {original_branch.skeleton}\")\n",
    "    #print(f\"new_branch.skeleton = {new_branch.skeleton}\")\n",
    "    sk.graph_skeleton_and_mesh(other_skeletons=[original_branch.skeleton,new_branch.skeleton],\n",
    "                              other_skeletons_colors=[\"red\",\"black\"])\n",
    "    \n",
    "    \n",
    "    \n",
    "    "
   ]
  },
  {
   "cell_type": "code",
   "execution_count": 206,
   "metadata": {},
   "outputs": [
    {
     "data": {
      "text/plain": [
       "50"
      ]
     },
     "execution_count": 206,
     "metadata": {},
     "output_type": "execute_result"
    }
   ],
   "source": [
    "18 - 1 + 34 - 1"
   ]
  },
  {
   "cell_type": "code",
   "execution_count": 265,
   "metadata": {},
   "outputs": [
    {
     "data": {
      "text/plain": [
       "array([[[ 812903.1, 1017890. ,  850347.7],\n",
       "        [ 812601. , 1016940. ,  850772. ]],\n",
       "\n",
       "       [[ 812263. , 1017030. ,  850725. ],\n",
       "        [ 812601. , 1016940. ,  850772. ]]])"
      ]
     },
     "execution_count": 265,
     "metadata": {},
     "output_type": "execute_result"
    }
   ],
   "source": [
    "limb_idx_to_branch_skeletons_dict[curr_limb][i]"
   ]
  },
  {
   "cell_type": "code",
   "execution_count": null,
   "metadata": {},
   "outputs": [],
   "source": []
  },
  {
   "cell_type": "code",
   "execution_count": 271,
   "metadata": {
    "scrolled": true
   },
   "outputs": [
    {
     "name": "stdout",
     "output_type": "stream",
     "text": [
      "51 (51, 2, 3)\n"
     ]
    },
    {
     "data": {
      "text/plain": [
       "[array([[ 558916.8, 1122107. ,  842972.9],\n",
       "        [ 621204. , 1079950. ,  847071. ]]),\n",
       " array([[ 612214.6, 1078839. ,  853676.8],\n",
       "        [ 621204. , 1079950. ,  847071. ]]),\n",
       " array([[ 621204., 1079950.,  847071.],\n",
       "        [ 654870., 1065610.,  847439.]]),\n",
       " array([[ 641680., 1084340.,  837559.],\n",
       "        [ 654870., 1065610.,  847439.]]),\n",
       " array([[ 654870., 1065610.,  847439.],\n",
       "        [ 742133., 1037920.,  840478.]]),\n",
       " array([[ 728175. , 1043080. ,  850603. ],\n",
       "        [ 741460.8, 1037299. ,  841086.3]]),\n",
       " array([[ 741460.8, 1037299. ,  841086.3],\n",
       "        [ 746774. , 1038960. ,  843801. ]]),\n",
       " array([[ 742133., 1037920.,  840478.],\n",
       "        [ 752861., 1034770.,  842570.]]),\n",
       " array([[ 752861. , 1034770. ,  842570. ],\n",
       "        [ 757736.6, 1036779. ,  842454.8]]),\n",
       " array([[ 752861., 1034770.,  842570.],\n",
       "        [ 809721., 1017650.,  850366.]]),\n",
       " array([[ 753752., 1002870.,  906153.],\n",
       "        [ 847427.,  998655.,  862183.]]),\n",
       " array([[764864., 961024., 878460.],\n",
       "        [783149., 967037., 880990.]]),\n",
       " array([[ 770594.4, 1005502. ,  863546.8],\n",
       "        [ 795385. , 1005310. ,  864842. ]]),\n",
       " array([[ 779177.4, 1005216. ,  876852.4],\n",
       "        [ 795602.6, 1003619. ,  863774.8]]),\n",
       " array([[783149., 967037., 880990.],\n",
       "        [808214., 968985., 863782.]]),\n",
       " array([[ 783149.,  967037.,  880990.],\n",
       "        [ 815138., 1002530.,  865594.]]),\n",
       " array([[ 795385. , 1005310. ,  864842. ],\n",
       "        [ 795602.6, 1003619. ,  863774.8]]),\n",
       " array([[ 795385., 1005310.,  864842.],\n",
       "        [ 819240., 1006610.,  863088.]]),\n",
       " array([[ 795602.6, 1003619. ,  863774.8],\n",
       "        [ 800180.2, 1002993. ,  863826.4]]),\n",
       " array([[ 801589., 1022220.,  863635.],\n",
       "        [ 809721., 1017650.,  850366.]]),\n",
       " array([[805211. , 973218. , 850177.2],\n",
       "        [808214. , 968985. , 863782. ]]),\n",
       " array([[ 807062.5, 1013273. ,  874279.2],\n",
       "        [ 815138. , 1002530. ,  865594. ]]),\n",
       " array([[808214., 968985., 863782.],\n",
       "        [818127., 968519., 862489.]]),\n",
       " array([[ 809721., 1017650.,  850366.],\n",
       "        [ 812263., 1017030.,  850725.]]),\n",
       " array([[ 811709.2, 1022299. ,  848606.1],\n",
       "        [ 812903.1, 1017890. ,  850347.7]]),\n",
       " array([[ 812263. , 1017030. ,  850725. ],\n",
       "        [ 814684.4, 1016309. ,  845633.6]]),\n",
       " array([[ 812601., 1016940.,  850772.],\n",
       "        [ 829983., 1011600.,  854836.]]),\n",
       " array([[ 812903.1, 1017890. ,  850347.7],\n",
       "        [ 819788. , 1025550. ,  856187. ]]),\n",
       " array([[ 815138., 1002530.,  865594.],\n",
       "        [ 819240., 1006610.,  863088.]]),\n",
       " array([[ 819240., 1006610.,  863088.],\n",
       "        [ 820464., 1007120.,  862417.]]),\n",
       " array([[ 820464., 1007120.,  862417.],\n",
       "        [ 831878., 1016610.,  857651.]]),\n",
       " array([[ 820464., 1007120.,  862417.],\n",
       "        [ 834150., 1008050.,  858643.]]),\n",
       " array([[ 829983. , 1011600. ,  854836. ],\n",
       "        [ 845096.5, 1011232. ,  792134.2]]),\n",
       " array([[ 829983., 1011600.,  854836.],\n",
       "        [ 834150., 1008050.,  858643.]]),\n",
       " array([[ 831878. , 1016610. ,  857651. ],\n",
       "        [ 833647.9, 1016490. ,  855971.3]]),\n",
       " array([[ 831878. , 1016610. ,  857651. ],\n",
       "        [ 858607. , 1046746. ,  840019.9]]),\n",
       " array([[ 834150., 1008050.,  858643.],\n",
       "        [ 845462., 1001550.,  861013.]]),\n",
       " array([[ 845462., 1001550.,  861013.],\n",
       "        [ 847427.,  998655.,  862183.]]),\n",
       " array([[ 845462., 1001550.,  861013.],\n",
       "        [ 849244., 1007120.,  858268.]]),\n",
       " array([[847427. , 998655. , 862183. ],\n",
       "        [856786.2, 995564.2, 861440.3]]),\n",
       " array([[ 849435. , 1041860. ,  837564. ],\n",
       "        [ 864043.2, 1036742. ,  828987.5]]),\n",
       " array([[ 849244., 1007120.,  858268.],\n",
       "        [ 852648., 1015150.,  850741.]]),\n",
       " array([[ 849244. , 1007120. ,  858268. ],\n",
       "        [ 852775.4, 1009048. ,  855661.3]]),\n",
       " array([[ 852648., 1015150.,  850741.],\n",
       "        [ 852779., 1015900.,  850213.]]),\n",
       " array([[ 852648., 1015150.,  850741.],\n",
       "        [ 852779., 1015900.,  850213.]]),\n",
       " array([[ 852779., 1015900.,  850213.],\n",
       "        [ 865656., 1037150.,  830410.]]),\n",
       " array([[ 864043.2, 1036742. ,  828987.5],\n",
       "        [ 877363. , 1029260. ,  826231. ]]),\n",
       " array([[ 864043.2, 1036742. ,  828987.5],\n",
       "        [ 865656. , 1037150. ,  830410. ]]),\n",
       " array([[ 865656., 1037150.,  830410.],\n",
       "        [ 877438., 1057100.,  840521.]]),\n",
       " array([[ 812263. , 1017030. ,  850725. ],\n",
       "        [ 812903.1, 1017890. ,  850347.7]]),\n",
       " array([[ 741460.8, 1037299. ,  841086.3],\n",
       "        [ 742133. , 1037920. ,  840478. ]])]"
      ]
     },
     "execution_count": 271,
     "metadata": {},
     "output_type": "execute_result"
    }
   ],
   "source": [
    "\n"
   ]
  },
  {
   "cell_type": "code",
   "execution_count": null,
   "metadata": {},
   "outputs": [],
   "source": [
    "returned_split"
   ]
  },
  {
   "cell_type": "code",
   "execution_count": 269,
   "metadata": {},
   "outputs": [
    {
     "data": {
      "text/plain": [
       "array([[[ 558916.8, 1122107. ,  842972.9],\n",
       "        [ 621204. , 1079950. ,  847071. ]],\n",
       "\n",
       "       [[ 612214.6, 1078839. ,  853676.8],\n",
       "        [ 621204. , 1079950. ,  847071. ]],\n",
       "\n",
       "       [[ 621204. , 1079950. ,  847071. ],\n",
       "        [ 654870. , 1065610. ,  847439. ]],\n",
       "\n",
       "       [[ 641680. , 1084340. ,  837559. ],\n",
       "        [ 654870. , 1065610. ,  847439. ]],\n",
       "\n",
       "       [[ 654870. , 1065610. ,  847439. ],\n",
       "        [ 742133. , 1037920. ,  840478. ]],\n",
       "\n",
       "       [[ 728175. , 1043080. ,  850603. ],\n",
       "        [ 741460.8, 1037299. ,  841086.3]],\n",
       "\n",
       "       [[ 741460.8, 1037299. ,  841086.3],\n",
       "        [ 746774. , 1038960. ,  843801. ]],\n",
       "\n",
       "       [[ 742133. , 1037920. ,  840478. ],\n",
       "        [ 752861. , 1034770. ,  842570. ]],\n",
       "\n",
       "       [[ 752861. , 1034770. ,  842570. ],\n",
       "        [ 757736.6, 1036779. ,  842454.8]],\n",
       "\n",
       "       [[ 752861. , 1034770. ,  842570. ],\n",
       "        [ 809721. , 1017650. ,  850366. ]],\n",
       "\n",
       "       [[ 753752. , 1002870. ,  906153. ],\n",
       "        [ 847427. ,  998655. ,  862183. ]],\n",
       "\n",
       "       [[ 764864. ,  961024. ,  878460. ],\n",
       "        [ 783149. ,  967037. ,  880990. ]],\n",
       "\n",
       "       [[ 770594.4, 1005502. ,  863546.8],\n",
       "        [ 795385. , 1005310. ,  864842. ]],\n",
       "\n",
       "       [[ 779177.4, 1005216. ,  876852.4],\n",
       "        [ 795602.6, 1003619. ,  863774.8]],\n",
       "\n",
       "       [[ 783149. ,  967037. ,  880990. ],\n",
       "        [ 808214. ,  968985. ,  863782. ]],\n",
       "\n",
       "       [[ 783149. ,  967037. ,  880990. ],\n",
       "        [ 815138. , 1002530. ,  865594. ]],\n",
       "\n",
       "       [[ 795385. , 1005310. ,  864842. ],\n",
       "        [ 795602.6, 1003619. ,  863774.8]],\n",
       "\n",
       "       [[ 795385. , 1005310. ,  864842. ],\n",
       "        [ 819240. , 1006610. ,  863088. ]],\n",
       "\n",
       "       [[ 795602.6, 1003619. ,  863774.8],\n",
       "        [ 800180.2, 1002993. ,  863826.4]],\n",
       "\n",
       "       [[ 801589. , 1022220. ,  863635. ],\n",
       "        [ 809721. , 1017650. ,  850366. ]],\n",
       "\n",
       "       [[ 805211. ,  973218. ,  850177.2],\n",
       "        [ 808214. ,  968985. ,  863782. ]],\n",
       "\n",
       "       [[ 807062.5, 1013273. ,  874279.2],\n",
       "        [ 815138. , 1002530. ,  865594. ]],\n",
       "\n",
       "       [[ 808214. ,  968985. ,  863782. ],\n",
       "        [ 818127. ,  968519. ,  862489. ]],\n",
       "\n",
       "       [[ 809721. , 1017650. ,  850366. ],\n",
       "        [ 812263. , 1017030. ,  850725. ]],\n",
       "\n",
       "       [[ 811709.2, 1022299. ,  848606.1],\n",
       "        [ 812903.1, 1017890. ,  850347.7]],\n",
       "\n",
       "       [[ 812263. , 1017030. ,  850725. ],\n",
       "        [ 814684.4, 1016309. ,  845633.6]],\n",
       "\n",
       "       [[ 812601. , 1016940. ,  850772. ],\n",
       "        [ 829983. , 1011600. ,  854836. ]],\n",
       "\n",
       "       [[ 812903.1, 1017890. ,  850347.7],\n",
       "        [ 819788. , 1025550. ,  856187. ]],\n",
       "\n",
       "       [[ 815138. , 1002530. ,  865594. ],\n",
       "        [ 819240. , 1006610. ,  863088. ]],\n",
       "\n",
       "       [[ 819240. , 1006610. ,  863088. ],\n",
       "        [ 820464. , 1007120. ,  862417. ]],\n",
       "\n",
       "       [[ 820464. , 1007120. ,  862417. ],\n",
       "        [ 831878. , 1016610. ,  857651. ]],\n",
       "\n",
       "       [[ 820464. , 1007120. ,  862417. ],\n",
       "        [ 834150. , 1008050. ,  858643. ]],\n",
       "\n",
       "       [[ 829983. , 1011600. ,  854836. ],\n",
       "        [ 845096.5, 1011232. ,  792134.2]],\n",
       "\n",
       "       [[ 829983. , 1011600. ,  854836. ],\n",
       "        [ 834150. , 1008050. ,  858643. ]],\n",
       "\n",
       "       [[ 831878. , 1016610. ,  857651. ],\n",
       "        [ 833647.9, 1016490. ,  855971.3]],\n",
       "\n",
       "       [[ 831878. , 1016610. ,  857651. ],\n",
       "        [ 858607. , 1046746. ,  840019.9]],\n",
       "\n",
       "       [[ 834150. , 1008050. ,  858643. ],\n",
       "        [ 845462. , 1001550. ,  861013. ]],\n",
       "\n",
       "       [[ 845462. , 1001550. ,  861013. ],\n",
       "        [ 847427. ,  998655. ,  862183. ]],\n",
       "\n",
       "       [[ 845462. , 1001550. ,  861013. ],\n",
       "        [ 849244. , 1007120. ,  858268. ]],\n",
       "\n",
       "       [[ 847427. ,  998655. ,  862183. ],\n",
       "        [ 856786.2,  995564.2,  861440.3]],\n",
       "\n",
       "       [[ 849435. , 1041860. ,  837564. ],\n",
       "        [ 864043.2, 1036742. ,  828987.5]],\n",
       "\n",
       "       [[ 849244. , 1007120. ,  858268. ],\n",
       "        [ 852648. , 1015150. ,  850741. ]],\n",
       "\n",
       "       [[ 849244. , 1007120. ,  858268. ],\n",
       "        [ 852775.4, 1009048. ,  855661.3]],\n",
       "\n",
       "       [[ 852648. , 1015150. ,  850741. ],\n",
       "        [ 852779. , 1015900. ,  850213. ]],\n",
       "\n",
       "       [[ 852648. , 1015150. ,  850741. ],\n",
       "        [ 852779. , 1015900. ,  850213. ]],\n",
       "\n",
       "       [[ 852779. , 1015900. ,  850213. ],\n",
       "        [ 865656. , 1037150. ,  830410. ]],\n",
       "\n",
       "       [[ 864043.2, 1036742. ,  828987.5],\n",
       "        [ 877363. , 1029260. ,  826231. ]],\n",
       "\n",
       "       [[ 864043.2, 1036742. ,  828987.5],\n",
       "        [ 865656. , 1037150. ,  830410. ]],\n",
       "\n",
       "       [[ 865656. , 1037150. ,  830410. ],\n",
       "        [ 877438. , 1057100. ,  840521. ]],\n",
       "\n",
       "       [[ 812263. , 1017030. ,  850725. ],\n",
       "        [ 812903.1, 1017890. ,  850347.7]],\n",
       "\n",
       "       [[ 741460.8, 1037299. ,  841086.3],\n",
       "        [ 742133. , 1037920. ,  840478. ]]])"
      ]
     },
     "execution_count": 269,
     "metadata": {},
     "output_type": "execute_result"
    }
   ],
   "source": [
    "downsampled_skeleton."
   ]
  },
  {
   "cell_type": "code",
   "execution_count": 267,
   "metadata": {
    "scrolled": false
   },
   "outputs": [
    {
     "name": "stdout",
     "output_type": "stream",
     "text": [
      "(2, 18, 34)\n",
      "Showing the 49 branch\n"
     ]
    },
    {
     "data": {
      "application/vnd.jupyter.widget-view+json": {
       "model_id": "cbca7c575c924c319f7ea3102061d519",
       "version_major": 2,
       "version_minor": 0
      },
      "text/plain": [
       "VBox(children=(Figure(camera=PerspectiveCamera(fov=46.0, position=(0.0, 0.0, 2.0), quaternion=(0.0, 0.0, 0.0, …"
      ]
     },
     "metadata": {},
     "output_type": "display_data"
    }
   ],
   "source": [
    "# graphing the original segment and then the two disconnected components\n",
    "curr_branch_meshes_downsampled = [sk.resize_skeleton_branch(b,n_segments=1) for b in limb_idx_to_branch_skeletons_dict[curr_limb]]\n",
    "downsampled_skeleton = sk.stack_skeletons(curr_branch_meshes_downsampled)\n",
    "curr_sk_graph_debug = sk.convert_skeleton_to_graph(downsampled_skeleton)\n",
    "\n",
    "\n",
    "con_comp = list(nx.connected_components(curr_sk_graph_debug))\n",
    "print((len(con_comp), len(con_comp[0]), len(con_comp[1])))\n",
    "\n",
    "subgraph_0 = curr_sk_graph_debug.subgraph(con_comp[0])\n",
    "subgraph_0_skeleton = sk.convert_graph_to_skeleton(subgraph_0)\n",
    "subgraph_1 = curr_sk_graph_debug.subgraph(con_comp[1])\n",
    "subgraph_1_skeleton = sk.convert_graph_to_skeleton(subgraph_1)\n",
    "\n",
    "non_downsampled_skel = sk.stack_skeletons(limb_idx_to_branch_skeletons_dict[curr_limb])\n",
    "\n",
    "# sk.graph_skeleton_and_mesh(other_skeletons=[\n",
    "#                             non_downsampled_skel,\n",
    "#                         subgraph_0_skeleton,\n",
    "#                         subgraph_1_skeleton],\n",
    "#                           other_skeletons_colors=[\n",
    "#                                                   \"red\",\n",
    "#                                                   \"black\",\n",
    "#                                                   \"black\"])\n",
    "i = 49\n",
    "print(f\"Showing the {i} branch\")\n",
    "sk.graph_skeleton_and_mesh(#edge_coordinates=downsampled_skeleton,\n",
    "                          other_skeletons=limb_idx_to_branch_skeletons_dict[curr_limb],\n",
    "                          other_skeletons_colors=\"random\")"
   ]
  },
  {
   "cell_type": "code",
   "execution_count": null,
   "metadata": {},
   "outputs": [],
   "source": [
    "sk. decom"
   ]
  },
  {
   "cell_type": "code",
   "execution_count": 187,
   "metadata": {
    "scrolled": true
   },
   "outputs": [
    {
     "data": {
      "text/plain": [
       "array([[ 558916.8, 1079950. ,  842972.9],\n",
       "       [ 621204. , 1122107. ,  847071. ]])"
      ]
     },
     "execution_count": 187,
     "metadata": {},
     "output_type": "execute_result"
    }
   ],
   "source": [
    "y = np.array([[ 621204.,  1122107.,   847071. ],[ 558916.8, 1079950.,   842972.9]])\n",
    "np.sort(y,axis=0)"
   ]
  },
  {
   "cell_type": "code",
   "execution_count": 91,
   "metadata": {},
   "outputs": [
    {
     "data": {
      "image/png": "[encoded data removed]",
      "text/plain": [
       "<Figure size 432x288 with 1 Axes>"
      ]
     },
     "metadata": {},
     "output_type": "display_data"
    }
   ],
   "source": [
    "curr_branch_meshes_downsampled = [sk.resize_skeleton_branch(b,n_segments=1) for b in limb_idx_to_branch_skeletons_dict[curr_limb]]\n",
    "downsampled_skeleton = sk.stack_skeletons(curr_branch_meshes_downsampled)\n",
    "curr_sk_graph_debug = sk.convert_skeleton_to_graph(downsampled_skeleton)\n",
    "nx.draw(curr_sk_graph_debug,with_labels = True)"
   ]
  },
  {
   "cell_type": "code",
   "execution_count": 96,
   "metadata": {},
   "outputs": [
    {
     "data": {
      "text/plain": [
       "(2, 18, 34)"
      ]
     },
     "execution_count": 96,
     "metadata": {},
     "output_type": "execute_result"
    }
   ],
   "source": [
    "con_comp = list(nx.connected_components(curr_sk_graph_debug))\n",
    "len(con_comp), len(con_comp[0]), len(con_comp[1])"
   ]
  },
  {
   "cell_type": "code",
   "execution_count": null,
   "metadata": {},
   "outputs": [],
   "source": [
    "# Things I need to check:\n",
    "#1) When "
   ]
  },
  {
   "cell_type": "markdown",
   "metadata": {},
   "source": [
    "# Debugging why concept map is smaller than number of meshes"
   ]
  },
  {
   "cell_type": "code",
   "execution_count": 106,
   "metadata": {},
   "outputs": [
    {
     "data": {
      "text/plain": [
       "array([ 0,  2,  1,  2,  2,  4,  3,  4,  4,  7,  5,  6,  6,  8,  7,  9,  9,\n",
       "       11,  9, 23, 10, 40, 12, 15, 13, 16, 14, 17, 15, 22, 15, 29, 16, 17,\n",
       "       16, 31, 17, 18, 19, 23, 20, 22, 21, 29, 22, 30, 23, 25, 24, 27, 25,\n",
       "       28, 26, 34, 27, 32, 29, 31, 31, 33, 33, 35, 33, 37, 34, 38, 34, 37,\n",
       "       35, 36, 35, 47, 37, 39, 39, 40, 39, 41, 40, 46, 42, 48, 41, 43, 41,\n",
       "       44, 43, 45, 43, 45, 45, 49, 48, 50, 48, 49, 49, 51, 25, 27,  6,  7])"
      ]
     },
     "execution_count": 106,
     "metadata": {},
     "output_type": "execute_result"
    }
   ],
   "source": [
    "indices"
   ]
  },
  {
   "cell_type": "code",
   "execution_count": 149,
   "metadata": {},
   "outputs": [
    {
     "ename": "TypeError",
     "evalue": "'set' object does not support indexing",
     "output_type": "error",
     "traceback": [
      "\u001b[0;31m---------------------------------------------------------------------------\u001b[0m",
      "\u001b[0;31mTypeError\u001b[0m                                 Traceback (most recent call last)",
      "\u001b[0;32m<ipython-input-149-33fbb1cea1d2>\u001b[0m in \u001b[0;36m<module>\u001b[0;34m\u001b[0m\n\u001b[0;32m----> 1\u001b[0;31m \u001b[0mall_conn_comp\u001b[0m\u001b[0;34m[\u001b[0m\u001b[0;36m0\u001b[0m\u001b[0;34m]\u001b[0m\u001b[0;34m[\u001b[0m\u001b[0;36m0\u001b[0m\u001b[0;34m]\u001b[0m\u001b[0;34m\u001b[0m\u001b[0;34m\u001b[0m\u001b[0m\n\u001b[0m",
      "\u001b[0;31mTypeError\u001b[0m: 'set' object does not support indexing"
     ]
    }
   ],
   "source": [
    "all_conn_comp[0]"
   ]
  },
  {
   "cell_type": "code",
   "execution_count": 155,
   "metadata": {},
   "outputs": [
    {
     "data": {
      "image/png": "[encoded data removed]",
      "text/plain": [
       "<Figure size 432x288 with 1 Axes>"
      ]
     },
     "metadata": {},
     "output_type": "display_data"
    },
    {
     "name": "stdout",
     "output_type": "stream",
     "text": [
      "The new graph\n"
     ]
    },
    {
     "data": {
      "image/png": "[encoded data removed]",
      "text/plain": [
       "<Figure size 432x288 with 1 Axes>"
      ]
     },
     "metadata": {},
     "output_type": "display_data"
    },
    {
     "name": "stdout",
     "output_type": "stream",
     "text": [
      "\n",
      "\n",
      " x= [[ 3  3  3]\n",
      " [ 3  6  7]\n",
      " [ 3  3  3]\n",
      " [ 8  8  8]\n",
      " [ 8  8 11]]\n"
     ]
    }
   ],
   "source": [
    "# Example graph for finding components\n",
    "ex_edges = np.array([[3,4],[4,5],[8,9],[9,10]]).reshape(-1,2)\n",
    "ex_graph = nx.from_edgelist(ex_edges)\n",
    "nx.draw(ex_graph,with_labels=True)\n",
    "plt.show()\n",
    "\n",
    "#get the connected components\n",
    "all_conn_comp = list(nx.connected_components(ex_graph))\n",
    "all_conn_comp\n",
    "\n",
    "to_delete_nodes = []\n",
    "for c_comp in all_conn_comp:\n",
    "    curr_comp = list(c_comp)\n",
    "    dom_node = curr_comp[0]\n",
    "    non_dom_nodes = curr_comp[1:]\n",
    "    for n_dom in non_dom_nodes:\n",
    "        x[x==n_dom] = dom_node\n",
    "        to_delete_nodes.append(n_dom)\n",
    "\n",
    " \n",
    "#6) Delete all the non-dominant edges\n",
    "print(\"The new graph\")\n",
    "ex_graph.remove_nodes_from(to_delete_nodes)\n",
    "nx.draw(ex_graph,with_labels=True)\n",
    "plt.show()\n",
    "\n",
    "print(f\"\\n\\n x= {x}\")\n",
    "    "
   ]
  },
  {
   "cell_type": "code",
   "execution_count": 159,
   "metadata": {},
   "outputs": [
    {
     "data": {
      "text/plain": [
       "array([[0, 0, 0],\n",
       "       [0, 1, 2],\n",
       "       [0, 0, 0],\n",
       "       [3, 3, 3],\n",
       "       [3, 3, 4]])"
      ]
     },
     "execution_count": 159,
     "metadata": {},
     "output_type": "execute_result"
    }
   ],
   "source": [
    "\"\"\"\n",
    "leftover is 3,6,7,8,11\n",
    "and want to map them to 0,1,2,3,4\n",
    "\"\"\"\n",
    "unique_leftovers = np.sort(np.unique(x.ravel()))\n",
    "#construct a dictionary for mapping\n",
    "map_dict = dict([(v,k) for k,v in enumerate(unique_leftovers)])\n",
    "map_dict\n",
    "\n",
    "def vec_translate(a):    \n",
    "    return np.vectorize(map_dict.__getitem__)(a)\n",
    "\n",
    "new_x = vec_translate(x)\n",
    "new_x"
   ]
  },
  {
   "cell_type": "code",
   "execution_count": 160,
   "metadata": {},
   "outputs": [
    {
     "data": {
      "text/plain": [
       "array([[ 3,  4,  5],\n",
       "       [ 4,  3,  4],\n",
       "       [ 9, 10, 11]])"
      ]
     },
     "execution_count": 160,
     "metadata": {},
     "output_type": "execute_result"
    }
   ],
   "source": [
    "x = np.array([[3,4,5],\n",
    "         [5,6,7],\n",
    "         [4,3,4],\n",
    "        [8,9,9],\n",
    "             [9,10,11]])\n",
    "\n",
    "deleted_x = np.delete(x,[1,3],axis=0)\n",
    "deleted_x"
   ]
  },
  {
   "cell_type": "code",
   "execution_count": null,
   "metadata": {},
   "outputs": [],
   "source": [
    "ignore_diagonal=True\n",
    "equiv_distance=3\n",
    "possible_vertices = new_unique.reshape(-1,3)\n",
    "    \n",
    "dist_matrix = nu.get_coordinate_distance_matrix(possible_vertices)\n",
    "\n",
    "dist_matrix_copy = dist_matrix.copy()\n",
    "dist_matrix_copy[np.eye(dist_matrix.shape[0]).astype(\"bool\")] = np.inf\n",
    "print(f\"The smallest distance (not including diagonal) = {np.min(dist_matrix_copy)}\")\n",
    "\n",
    "matching_vertices = np.array(np.where(dist_matrix <= equiv_distance)).T\n",
    "if ignore_diagonal:\n",
    "    left_side = matching_vertices[:,0]\n",
    "    right_side = matching_vertices[:,1]\n",
    "\n",
    "    result= matching_vertices[left_side != right_side]\n",
    "else:\n",
    "    result = matching_vertices\n",
    "    \n",
    "result = np.unique(np.sort(result,axis=1),axis=0)\n",
    "result"
   ]
  },
  {
   "cell_type": "code",
   "execution_count": 170,
   "metadata": {},
   "outputs": [],
   "source": [
    "\n",
    "\n",
    "# def convert_skeleton_to_graph_debug(staring_edges,\n",
    "#                              stitch_print=False,\n",
    "#                                    combine_node_dist = 1):\n",
    "#     \"\"\"\n",
    "#     Purpose: To automatically convert a skeleton to a graph\n",
    "    \n",
    "#     * 7/9 adjustments: make so slight differences in coordinates not affect the graph\n",
    "    \n",
    "#     Pseudocode for how you could apply the closeness to skeletons\n",
    "#     1) Get the unique rows\n",
    "#     2) See if there are any rows that are the same (that gives you what to change them to)\n",
    "#     3) put those into a graph and find the connected components\n",
    "#     4) Pick the first node in the component to be the dominant one\n",
    "#     a. for each non-dominant node, replace every occurance of the non-dominant one with the dominant one in indices\n",
    "#     - add the non-dominant ones to a list to delete \n",
    "    \n",
    "#     ** this will result in an indices that doesn't have any of the repeat nodes, but the repeat nodes are still \n",
    "#     taking up the numbers that they were originally in order with ***\n",
    "    \n",
    "#     np.delete(x,[1,3],axis=0)) # to delete the rows \n",
    "    \n",
    "    \n",
    "    \n",
    "    \n",
    "#     5) Do everything like normal\n",
    "#     6) Delete all the non-dominant edges \n",
    "# \"\"\"\n",
    "#     stitch_start = time.time()\n",
    "\n",
    "#     all_skeleton_vertices = staring_edges.reshape(-1,3)\n",
    "#     unique_rows,indices = np.unique(all_skeleton_vertices,return_inverse=True,axis=0)\n",
    "#     #need to merge unique indices so if within a certain range of each other then merge them together\n",
    "    \n",
    "    \n",
    "#     #part where will combine nodes that are very close\n",
    "#     matching_nodes = nu.get_matching_vertices(unique_rows,equiv_distance=combine_node_dist)\n",
    "    \n",
    "#     if len(matching_nodes) > 0:\n",
    "#         \"\"\"\n",
    "#         Overall this loop will change the unique_rows and indices to account for nodes that should be merged\n",
    "#         \"\"\"\n",
    "#         # Example graph for finding components\n",
    "#         ex_edges = matching_nodes.reshape(-1,2)\n",
    "#         ex_graph = nx.from_edgelist(ex_edges)\n",
    "\n",
    "\n",
    "#         #get the connected components\n",
    "#         all_conn_comp = list(nx.connected_components(ex_graph))\n",
    "\n",
    "#         to_delete_nodes = []\n",
    "#         for c_comp in all_conn_comp:\n",
    "#             curr_comp = list(c_comp)\n",
    "#             dom_node = curr_comp[0]\n",
    "#             non_dom_nodes = curr_comp[1:]\n",
    "#             for n_dom in non_dom_nodes:\n",
    "#                 indices[indices==n_dom] = dom_node\n",
    "#                 to_delete_nodes.append(n_dom)\n",
    "                \n",
    "#         unique_leftovers = np.sort(np.unique(indices.ravel()))\n",
    "#         #construct a dictionary for mapping\n",
    "#         map_dict = dict([(v,k) for k,v in enumerate(unique_leftovers)])\n",
    "        \n",
    "#         print(f\"Gettng rid of {len(to_delete_nodes)} nodes\")\n",
    "\n",
    "#         def vec_translate(a):    \n",
    "#             return np.vectorize(map_dict.__getitem__)(a)\n",
    "\n",
    "#         indices = vec_translate(indices)\n",
    "        \n",
    "#         #now delete the rows that were ignored\n",
    "#         unique_rows = np.delete(unique_rows,to_delete_nodes,axis=0)\n",
    "        \n",
    "#         #do a check to make sure everything is working\n",
    "#         if len(np.unique(indices.ravel())) != len(unique_rows) or max(np.unique(indices.ravel())) != len(unique_rows) - 1:\n",
    "#             raise Exception(\"The indices list does not match the size of the unique rows\"\n",
    "#                            f\"np.unique(indices.ravel()) = {np.unique(indices.ravel())}, len(unique_rows)= {len(unique_rows) }\")\n",
    "    \n",
    "#     #resume regular conversion\n",
    "#     edges_with_coefficients = indices.reshape(-1,2)\n",
    "    \n",
    "    \n",
    "\n",
    "#     if stitch_print:\n",
    "#         print(f\"Getting the unique rows and indices= {time.time()-stitch_start}\")\n",
    "#     stitch_start = time.time()\n",
    "\n",
    "#     #create the graph from the edges\n",
    "#     #B = nx.Graph() #old way\n",
    "#     B = xu.GraphOrderedEdges()\n",
    "#     B.add_nodes_from([(int(x),{\"coordinates\":y}) for x,y in enumerate(unique_rows)])\n",
    "#     #print(\"just added the nodes\")\n",
    "#     #print(f\"xu.get_edge_attributes(B)= {xu.get_edge_attributes(B)}\")\n",
    "    \n",
    "#     #B.add_edges_from(edges_with_coefficients) #older weights without weights\n",
    "#     #adds weights for the edges\n",
    "#     weights = np.linalg.norm(unique_rows[edges_with_coefficients[:,0]] - unique_rows[edges_with_coefficients[:,1]],axis=1)\n",
    "#     edges_with_weights = np.hstack([edges_with_coefficients,weights.reshape(-1,1)])\n",
    "#     B.add_weighted_edges_from(edges_with_weights)\n",
    "#     #print(\"right after add_weighted_edges_from\")\n",
    "#     #print(f\"xu.get_edge_attributes(B)= {xu.get_edge_attributes(B)}\")\n",
    "\n",
    "#     if stitch_print:\n",
    "#         print(f\"Putting edges into networkx graph= {time.time()-stitch_start}\")\n",
    "#     stitch_start = time.time()\n",
    "\n",
    "#     # find the shortest distance between the two different subgraphs:\n",
    "#     from scipy.spatial import distance_matrix\n",
    "#     #print(f\"B.__class__ = {B.__class__}\")\n",
    "#     #print(f\"xu.get_edge_attributes(B)= {xu.get_edge_attributes(B)}\")\n",
    "#     UG = B\n",
    "#     #UG = B.to_undirected()\n",
    "    \n",
    "#     if stitch_print:\n",
    "#         print(f\"Making undirected graph= {time.time()-stitch_start}\")\n",
    "#     stitch_start = time.time()\n",
    "    \n",
    "#     #UG.remove_edges_from(nx.selfloop_edges(UG))\n",
    "#     UG = xu.remove_selfloops(UG)\n",
    "#     #print(f\"UG.__class__ = {UG.__class__}\")\n",
    "#     #make sure the edges are ordered \n",
    "#     UG.reorder_edges()\n",
    "#     #print(f\"UG.__class__ = {UG.__class__}\")\n",
    "#     return UG"
   ]
  },
  {
   "cell_type": "code",
   "execution_count": 164,
   "metadata": {},
   "outputs": [
    {
     "data": {
      "text/plain": [
       "array([[[ 558916.8, 1122107. ,  842972.9],\n",
       "        [ 621204. , 1079950. ,  847071. ]],\n",
       "\n",
       "       [[ 612214.6, 1078839. ,  853676.8],\n",
       "        [ 621204. , 1079950. ,  847071. ]],\n",
       "\n",
       "       [[ 621204. , 1079950. ,  847071. ],\n",
       "        [ 654870. , 1065610. ,  847439. ]],\n",
       "\n",
       "       [[ 641680. , 1084340. ,  837559. ],\n",
       "        [ 654870. , 1065610. ,  847439. ]],\n",
       "\n",
       "       [[ 654870. , 1065610. ,  847439. ],\n",
       "        [ 742133. , 1037920. ,  840478. ]],\n",
       "\n",
       "       [[ 728175. , 1043080. ,  850603. ],\n",
       "        [ 741460.8, 1037299. ,  841086.3]],\n",
       "\n",
       "       [[ 741460.8, 1037299. ,  841086.3],\n",
       "        [ 746774. , 1038960. ,  843801. ]],\n",
       "\n",
       "       [[ 742133. , 1037920. ,  840478. ],\n",
       "        [ 752861. , 1034770. ,  842570. ]],\n",
       "\n",
       "       [[ 752861. , 1034770. ,  842570. ],\n",
       "        [ 757736.6, 1036779. ,  842454.8]],\n",
       "\n",
       "       [[ 752861. , 1034770. ,  842570. ],\n",
       "        [ 809721. , 1017650. ,  850366. ]],\n",
       "\n",
       "       [[ 753752. , 1002870. ,  906153. ],\n",
       "        [ 847427. ,  998655. ,  862183. ]],\n",
       "\n",
       "       [[ 764864. ,  961024. ,  878460. ],\n",
       "        [ 783149. ,  967037. ,  880990. ]],\n",
       "\n",
       "       [[ 770594.4, 1005502. ,  863546.8],\n",
       "        [ 795385. , 1005310. ,  864842. ]],\n",
       "\n",
       "       [[ 779177.4, 1005216. ,  876852.4],\n",
       "        [ 795602.6, 1003619. ,  863774.8]],\n",
       "\n",
       "       [[ 783149. ,  967037. ,  880990. ],\n",
       "        [ 808214. ,  968985. ,  863782. ]],\n",
       "\n",
       "       [[ 783149. ,  967037. ,  880990. ],\n",
       "        [ 815138. , 1002530. ,  865594. ]],\n",
       "\n",
       "       [[ 795385. , 1005310. ,  864842. ],\n",
       "        [ 795602.6, 1003619. ,  863774.8]],\n",
       "\n",
       "       [[ 795385. , 1005310. ,  864842. ],\n",
       "        [ 819240. , 1006610. ,  863088. ]],\n",
       "\n",
       "       [[ 795602.6, 1003619. ,  863774.8],\n",
       "        [ 800180.2, 1002993. ,  863826.4]],\n",
       "\n",
       "       [[ 801589. , 1022220. ,  863635. ],\n",
       "        [ 809721. , 1017650. ,  850366. ]],\n",
       "\n",
       "       [[ 805211. ,  973218. ,  850177.2],\n",
       "        [ 808214. ,  968985. ,  863782. ]],\n",
       "\n",
       "       [[ 807062.5, 1013273. ,  874279.2],\n",
       "        [ 815138. , 1002530. ,  865594. ]],\n",
       "\n",
       "       [[ 808214. ,  968985. ,  863782. ],\n",
       "        [ 818127. ,  968519. ,  862489. ]],\n",
       "\n",
       "       [[ 809721. , 1017650. ,  850366. ],\n",
       "        [ 812263. , 1017030. ,  850725. ]],\n",
       "\n",
       "       [[ 811709.2, 1022299. ,  848606.1],\n",
       "        [ 812903.1, 1017890. ,  850347.7]],\n",
       "\n",
       "       [[ 812263. , 1017030. ,  850725. ],\n",
       "        [ 814684.4, 1016309. ,  845633.6]],\n",
       "\n",
       "       [[ 812601. , 1016940. ,  850772. ],\n",
       "        [ 829983. , 1011600. ,  854836. ]],\n",
       "\n",
       "       [[ 812903.1, 1017890. ,  850347.7],\n",
       "        [ 819788. , 1025550. ,  856187. ]],\n",
       "\n",
       "       [[ 815138. , 1002530. ,  865594. ],\n",
       "        [ 819240. , 1006610. ,  863088. ]],\n",
       "\n",
       "       [[ 819240. , 1006610. ,  863088. ],\n",
       "        [ 820464. , 1007120. ,  862417. ]],\n",
       "\n",
       "       [[ 820464. , 1007120. ,  862417. ],\n",
       "        [ 831878. , 1016610. ,  857651. ]],\n",
       "\n",
       "       [[ 820464. , 1007120. ,  862417. ],\n",
       "        [ 834150. , 1008050. ,  858643. ]],\n",
       "\n",
       "       [[ 829983. , 1011600. ,  854836. ],\n",
       "        [ 845096.5, 1011232. ,  792134.2]],\n",
       "\n",
       "       [[ 829983. , 1011600. ,  854836. ],\n",
       "        [ 834150. , 1008050. ,  858643. ]],\n",
       "\n",
       "       [[ 831878. , 1016610. ,  857651. ],\n",
       "        [ 833647.9, 1016490. ,  855971.3]],\n",
       "\n",
       "       [[ 831878. , 1016610. ,  857651. ],\n",
       "        [ 858607. , 1046746. ,  840019.9]],\n",
       "\n",
       "       [[ 834150. , 1008050. ,  858643. ],\n",
       "        [ 845462. , 1001550. ,  861013. ]],\n",
       "\n",
       "       [[ 845462. , 1001550. ,  861013. ],\n",
       "        [ 847427. ,  998655. ,  862183. ]],\n",
       "\n",
       "       [[ 845462. , 1001550. ,  861013. ],\n",
       "        [ 849244. , 1007120. ,  858268. ]],\n",
       "\n",
       "       [[ 847427. ,  998655. ,  862183. ],\n",
       "        [ 856786.2,  995564.2,  861440.3]],\n",
       "\n",
       "       [[ 849435. , 1041860. ,  837564. ],\n",
       "        [ 864043.2, 1036742. ,  828987.5]],\n",
       "\n",
       "       [[ 849244. , 1007120. ,  858268. ],\n",
       "        [ 852648. , 1015150. ,  850741. ]],\n",
       "\n",
       "       [[ 849244. , 1007120. ,  858268. ],\n",
       "        [ 852775.4, 1009048. ,  855661.3]],\n",
       "\n",
       "       [[ 852648. , 1015150. ,  850741. ],\n",
       "        [ 852779. , 1015900. ,  850213. ]],\n",
       "\n",
       "       [[ 852648. , 1015150. ,  850741. ],\n",
       "        [ 852779. , 1015900. ,  850213. ]],\n",
       "\n",
       "       [[ 852779. , 1015900. ,  850213. ],\n",
       "        [ 865656. , 1037150. ,  830410. ]],\n",
       "\n",
       "       [[ 864043.2, 1036742. ,  828987.5],\n",
       "        [ 877363. , 1029260. ,  826231. ]],\n",
       "\n",
       "       [[ 864043.2, 1036742. ,  828987.5],\n",
       "        [ 865656. , 1037150. ,  830410. ]],\n",
       "\n",
       "       [[ 865656. , 1037150. ,  830410. ],\n",
       "        [ 877438. , 1057100. ,  840521. ]],\n",
       "\n",
       "       [[ 812263. , 1017030. ,  850725. ],\n",
       "        [ 812903.1, 1017890. ,  850347.7]],\n",
       "\n",
       "       [[ 741460.8, 1037299. ,  841086.3],\n",
       "        [ 742133. , 1037920. ,  840478. ]]])"
      ]
     },
     "execution_count": 164,
     "metadata": {},
     "output_type": "execute_result"
    }
   ],
   "source": [
    "downsampled_skeleton"
   ]
  },
  {
   "cell_type": "code",
   "execution_count": 175,
   "metadata": {},
   "outputs": [
    {
     "data": {
      "text/plain": [
       "array([[[ 558916.8, 1122107. ,  842972.9],\n",
       "        [ 621204. , 1079950. ,  847071. ]],\n",
       "\n",
       "       [[ 612214.6, 1078839. ,  853676.8],\n",
       "        [ 621204. , 1079950. ,  847071.5]],\n",
       "\n",
       "       [[ 621204. , 1079950. ,  847071. ],\n",
       "        [ 654870. , 1065610. ,  847439. ]],\n",
       "\n",
       "       [[ 641680. , 1084340. ,  837559. ],\n",
       "        [ 654870. , 1065610. ,  847442.1]],\n",
       "\n",
       "       [[ 654870. , 1065610. ,  847439. ],\n",
       "        [ 742133. , 1037920. ,  840478. ]],\n",
       "\n",
       "       [[ 728175. , 1043080. ,  850603. ],\n",
       "        [ 741460.8, 1037299. ,  841086.3]],\n",
       "\n",
       "       [[ 741460.8, 1037299. ,  841086.3],\n",
       "        [ 746774. , 1038960. ,  843801. ]],\n",
       "\n",
       "       [[ 742133. , 1037920. ,  840478. ],\n",
       "        [ 752861. , 1034770. ,  842570. ]],\n",
       "\n",
       "       [[ 752861. , 1034770. ,  842570. ],\n",
       "        [ 757736.6, 1036779. ,  842454.8]],\n",
       "\n",
       "       [[ 752861. , 1034770. ,  842570. ],\n",
       "        [ 809721. , 1017650. ,  850366. ]],\n",
       "\n",
       "       [[ 753752. , 1002870. ,  906153. ],\n",
       "        [ 847427. ,  998655. ,  862183. ]],\n",
       "\n",
       "       [[ 764864. ,  961024. ,  878460. ],\n",
       "        [ 783149. ,  967037. ,  880990. ]],\n",
       "\n",
       "       [[ 770594.4, 1005502. ,  863546.8],\n",
       "        [ 795385. , 1005310. ,  864842. ]],\n",
       "\n",
       "       [[ 779177.4, 1005216. ,  876852.4],\n",
       "        [ 795602.6, 1003619. ,  863774.8]],\n",
       "\n",
       "       [[ 783149. ,  967037. ,  880990. ],\n",
       "        [ 808214. ,  968985. ,  863782. ]],\n",
       "\n",
       "       [[ 783149. ,  967037. ,  880990. ],\n",
       "        [ 815138. , 1002530. ,  865594. ]],\n",
       "\n",
       "       [[ 795385. , 1005310. ,  864842. ],\n",
       "        [ 795602.6, 1003619. ,  863774.8]],\n",
       "\n",
       "       [[ 795385. , 1005310. ,  864842. ],\n",
       "        [ 819240. , 1006610. ,  863088. ]],\n",
       "\n",
       "       [[ 795602.6, 1003619. ,  863774.8],\n",
       "        [ 800180.2, 1002993. ,  863826.4]],\n",
       "\n",
       "       [[ 801589. , 1022220. ,  863635. ],\n",
       "        [ 809721. , 1017650. ,  850366. ]],\n",
       "\n",
       "       [[ 805211. ,  973218. ,  850177.2],\n",
       "        [ 808214. ,  968985. ,  863782. ]],\n",
       "\n",
       "       [[ 807062.5, 1013273. ,  874279.2],\n",
       "        [ 815138. , 1002530. ,  865594. ]],\n",
       "\n",
       "       [[ 808214. ,  968985. ,  863782. ],\n",
       "        [ 818127. ,  968519. ,  862489. ]],\n",
       "\n",
       "       [[ 809721. , 1017650. ,  850366. ],\n",
       "        [ 812263. , 1017030. ,  850725. ]],\n",
       "\n",
       "       [[ 811709.2, 1022299. ,  848606.1],\n",
       "        [ 812903.1, 1017890. ,  850347.7]],\n",
       "\n",
       "       [[ 812263. , 1017030. ,  850725. ],\n",
       "        [ 814684.4, 1016309. ,  845633.6]],\n",
       "\n",
       "       [[ 812601. , 1016940. ,  850772. ],\n",
       "        [ 829983. , 1011600. ,  854836. ]],\n",
       "\n",
       "       [[ 812903.1, 1017890. ,  850347.7],\n",
       "        [ 819788. , 1025550. ,  856187. ]],\n",
       "\n",
       "       [[ 815138. , 1002530. ,  865594. ],\n",
       "        [ 819240. , 1006610. ,  863088. ]],\n",
       "\n",
       "       [[ 819240. , 1006610. ,  863088. ],\n",
       "        [ 820464. , 1007120. ,  862417. ]],\n",
       "\n",
       "       [[ 820464. , 1007120. ,  862417. ],\n",
       "        [ 831878. , 1016610. ,  857651. ]],\n",
       "\n",
       "       [[ 820464. , 1007120. ,  862417. ],\n",
       "        [ 834150. , 1008050. ,  858643. ]],\n",
       "\n",
       "       [[ 829983. , 1011600. ,  854836. ],\n",
       "        [ 845096.5, 1011232. ,  792134.2]],\n",
       "\n",
       "       [[ 829983. , 1011600. ,  854836. ],\n",
       "        [ 834150. , 1008050. ,  858643. ]],\n",
       "\n",
       "       [[ 831878. , 1016610. ,  857651. ],\n",
       "        [ 833647.9, 1016490. ,  855971.3]],\n",
       "\n",
       "       [[ 831878. , 1016610. ,  857651. ],\n",
       "        [ 858607. , 1046746. ,  840019.9]],\n",
       "\n",
       "       [[ 834150. , 1008050. ,  858643. ],\n",
       "        [ 845462. , 1001550. ,  861013. ]],\n",
       "\n",
       "       [[ 845462. , 1001550. ,  861013. ],\n",
       "        [ 847427. ,  998655. ,  862183. ]],\n",
       "\n",
       "       [[ 845462. , 1001550. ,  861013. ],\n",
       "        [ 849244. , 1007120. ,  858268. ]],\n",
       "\n",
       "       [[ 847427. ,  998655. ,  862183. ],\n",
       "        [ 856786.2,  995564.2,  861440.3]],\n",
       "\n",
       "       [[ 849435. , 1041860. ,  837564. ],\n",
       "        [ 864043.2, 1036742. ,  828987.5]],\n",
       "\n",
       "       [[ 849244. , 1007120. ,  858268. ],\n",
       "        [ 852648. , 1015150. ,  850741. ]],\n",
       "\n",
       "       [[ 849244. , 1007120. ,  858268. ],\n",
       "        [ 852775.4, 1009048. ,  855661.3]],\n",
       "\n",
       "       [[ 852648. , 1015150. ,  850741. ],\n",
       "        [ 852779. , 1015900. ,  850213. ]],\n",
       "\n",
       "       [[ 852648. , 1015150. ,  850741. ],\n",
       "        [ 852779. , 1015900. ,  850213. ]],\n",
       "\n",
       "       [[ 852779. , 1015900. ,  850213. ],\n",
       "        [ 865656. , 1037150. ,  830410. ]],\n",
       "\n",
       "       [[ 864043.2, 1036742. ,  828987.5],\n",
       "        [ 877363. , 1029260. ,  826231. ]],\n",
       "\n",
       "       [[ 864043.2, 1036742. ,  828987.5],\n",
       "        [ 865656. , 1037150. ,  830410. ]],\n",
       "\n",
       "       [[ 865656. , 1037150. ,  830410. ],\n",
       "        [ 877438. , 1057100. ,  840521. ]],\n",
       "\n",
       "       [[ 812263. , 1017030. ,  850725. ],\n",
       "        [ 812903.1, 1017890. ,  850347.7]],\n",
       "\n",
       "       [[ 741460.8, 1037299. ,  841086.3],\n",
       "        [ 742133. , 1037920. ,  840478. ]]])"
      ]
     },
     "execution_count": 175,
     "metadata": {},
     "output_type": "execute_result"
    }
   ],
   "source": [
    "downsampled_skeleton_copy = downsampled_skeleton.copy()\n",
    "downsampled_skeleton_copy[1][1] = [ 621204., 1079950.,  847071.5]\n",
    "downsampled_skeleton_copy[3][1] = [ 654870. , 1065610. ,  847442.1 ]\n",
    "downsampled_skeleton_copy"
   ]
  },
  {
   "cell_type": "code",
   "execution_count": 179,
   "metadata": {},
   "outputs": [
    {
     "name": "stdout",
     "output_type": "stream",
     "text": [
      "The smallest distance (not including diagonal) = 352.9206709729539\n"
     ]
    },
    {
     "data": {
      "text/plain": [
       "<networkx_utils.GraphOrderedEdges at 0x7f773d0735f8>"
      ]
     },
     "execution_count": 179,
     "metadata": {},
     "output_type": "execute_result"
    }
   ],
   "source": [
    "nu = reload(nu)\n",
    "convert_skeleton_to_graph_debug(downsampled_skeleton)"
   ]
  },
  {
   "cell_type": "code",
   "execution_count": 177,
   "metadata": {},
   "outputs": [
    {
     "name": "stdout",
     "output_type": "stream",
     "text": [
      "The smallest distance (not including diagonal) = 0.5\n",
      "using less than sign\n",
      "Gettng rid of 2 nodes\n"
     ]
    },
    {
     "data": {
      "text/plain": [
       "array([[[ 558916.8, 1122107. ,  842972.9],\n",
       "        [ 621204. , 1079950. ,  847071. ]],\n",
       "\n",
       "       [[ 612214.6, 1078839. ,  853676.8],\n",
       "        [ 621204. , 1079950. ,  847071. ]],\n",
       "\n",
       "       [[ 621204. , 1079950. ,  847071. ],\n",
       "        [ 654870. , 1065610. ,  847439. ]],\n",
       "\n",
       "       [[ 641680. , 1084340. ,  837559. ],\n",
       "        [ 654870. , 1065610. ,  847439. ]],\n",
       "\n",
       "       [[ 654870. , 1065610. ,  847439. ],\n",
       "        [ 742133. , 1037920. ,  840478. ]],\n",
       "\n",
       "       [[ 728175. , 1043080. ,  850603. ],\n",
       "        [ 741460.8, 1037299. ,  841086.3]],\n",
       "\n",
       "       [[ 741460.8, 1037299. ,  841086.3],\n",
       "        [ 746774. , 1038960. ,  843801. ]],\n",
       "\n",
       "       [[ 741460.8, 1037299. ,  841086.3],\n",
       "        [ 742133. , 1037920. ,  840478. ]],\n",
       "\n",
       "       [[ 742133. , 1037920. ,  840478. ],\n",
       "        [ 752861. , 1034770. ,  842570. ]],\n",
       "\n",
       "       [[ 752861. , 1034770. ,  842570. ],\n",
       "        [ 757736.6, 1036779. ,  842454.8]],\n",
       "\n",
       "       [[ 752861. , 1034770. ,  842570. ],\n",
       "        [ 809721. , 1017650. ,  850366. ]],\n",
       "\n",
       "       [[ 753752. , 1002870. ,  906153. ],\n",
       "        [ 847427. ,  998655. ,  862183. ]],\n",
       "\n",
       "       [[ 764864. ,  961024. ,  878460. ],\n",
       "        [ 783149. ,  967037. ,  880990. ]],\n",
       "\n",
       "       [[ 770594.4, 1005502. ,  863546.8],\n",
       "        [ 795385. , 1005310. ,  864842. ]],\n",
       "\n",
       "       [[ 779177.4, 1005216. ,  876852.4],\n",
       "        [ 795602.6, 1003619. ,  863774.8]],\n",
       "\n",
       "       [[ 783149. ,  967037. ,  880990. ],\n",
       "        [ 808214. ,  968985. ,  863782. ]],\n",
       "\n",
       "       [[ 783149. ,  967037. ,  880990. ],\n",
       "        [ 815138. , 1002530. ,  865594. ]],\n",
       "\n",
       "       [[ 795385. , 1005310. ,  864842. ],\n",
       "        [ 795602.6, 1003619. ,  863774.8]],\n",
       "\n",
       "       [[ 795385. , 1005310. ,  864842. ],\n",
       "        [ 819240. , 1006610. ,  863088. ]],\n",
       "\n",
       "       [[ 795602.6, 1003619. ,  863774.8],\n",
       "        [ 800180.2, 1002993. ,  863826.4]],\n",
       "\n",
       "       [[ 801589. , 1022220. ,  863635. ],\n",
       "        [ 809721. , 1017650. ,  850366. ]],\n",
       "\n",
       "       [[ 805211. ,  973218. ,  850177.2],\n",
       "        [ 808214. ,  968985. ,  863782. ]],\n",
       "\n",
       "       [[ 807062.5, 1013273. ,  874279.2],\n",
       "        [ 815138. , 1002530. ,  865594. ]],\n",
       "\n",
       "       [[ 808214. ,  968985. ,  863782. ],\n",
       "        [ 818127. ,  968519. ,  862489. ]],\n",
       "\n",
       "       [[ 809721. , 1017650. ,  850366. ],\n",
       "        [ 812263. , 1017030. ,  850725. ]],\n",
       "\n",
       "       [[ 811709.2, 1022299. ,  848606.1],\n",
       "        [ 812903.1, 1017890. ,  850347.7]],\n",
       "\n",
       "       [[ 812263. , 1017030. ,  850725. ],\n",
       "        [ 814684.4, 1016309. ,  845633.6]],\n",
       "\n",
       "       [[ 812263. , 1017030. ,  850725. ],\n",
       "        [ 812903.1, 1017890. ,  850347.7]],\n",
       "\n",
       "       [[ 812601. , 1016940. ,  850772. ],\n",
       "        [ 829983. , 1011600. ,  854836. ]],\n",
       "\n",
       "       [[ 812903.1, 1017890. ,  850347.7],\n",
       "        [ 819788. , 1025550. ,  856187. ]],\n",
       "\n",
       "       [[ 815138. , 1002530. ,  865594. ],\n",
       "        [ 819240. , 1006610. ,  863088. ]],\n",
       "\n",
       "       [[ 819240. , 1006610. ,  863088. ],\n",
       "        [ 820464. , 1007120. ,  862417. ]],\n",
       "\n",
       "       [[ 820464. , 1007120. ,  862417. ],\n",
       "        [ 831878. , 1016610. ,  857651. ]],\n",
       "\n",
       "       [[ 820464. , 1007120. ,  862417. ],\n",
       "        [ 834150. , 1008050. ,  858643. ]],\n",
       "\n",
       "       [[ 829983. , 1011600. ,  854836. ],\n",
       "        [ 845096.5, 1011232. ,  792134.2]],\n",
       "\n",
       "       [[ 829983. , 1011600. ,  854836. ],\n",
       "        [ 834150. , 1008050. ,  858643. ]],\n",
       "\n",
       "       [[ 831878. , 1016610. ,  857651. ],\n",
       "        [ 833647.9, 1016490. ,  855971.3]],\n",
       "\n",
       "       [[ 831878. , 1016610. ,  857651. ],\n",
       "        [ 858607. , 1046746. ,  840019.9]],\n",
       "\n",
       "       [[ 834150. , 1008050. ,  858643. ],\n",
       "        [ 845462. , 1001550. ,  861013. ]],\n",
       "\n",
       "       [[ 845462. , 1001550. ,  861013. ],\n",
       "        [ 847427. ,  998655. ,  862183. ]],\n",
       "\n",
       "       [[ 845462. , 1001550. ,  861013. ],\n",
       "        [ 849244. , 1007120. ,  858268. ]],\n",
       "\n",
       "       [[ 847427. ,  998655. ,  862183. ],\n",
       "        [ 856786.2,  995564.2,  861440.3]],\n",
       "\n",
       "       [[ 849244. , 1007120. ,  858268. ],\n",
       "        [ 852648. , 1015150. ,  850741. ]],\n",
       "\n",
       "       [[ 849244. , 1007120. ,  858268. ],\n",
       "        [ 852775.4, 1009048. ,  855661.3]],\n",
       "\n",
       "       [[ 849435. , 1041860. ,  837564. ],\n",
       "        [ 864043.2, 1036742. ,  828987.5]],\n",
       "\n",
       "       [[ 852648. , 1015150. ,  850741. ],\n",
       "        [ 852779. , 1015900. ,  850213. ]],\n",
       "\n",
       "       [[ 852779. , 1015900. ,  850213. ],\n",
       "        [ 865656. , 1037150. ,  830410. ]],\n",
       "\n",
       "       [[ 864043.2, 1036742. ,  828987.5],\n",
       "        [ 877363. , 1029260. ,  826231. ]],\n",
       "\n",
       "       [[ 864043.2, 1036742. ,  828987.5],\n",
       "        [ 865656. , 1037150. ,  830410. ]],\n",
       "\n",
       "       [[ 865656. , 1037150. ,  830410. ],\n",
       "        [ 877438. , 1057100. ,  840521. ]]])"
      ]
     },
     "execution_count": 177,
     "metadata": {},
     "output_type": "execute_result"
    }
   ],
   "source": [
    "new_skel = convert_skeleton_to_graph_debug(downsampled_skeleton_copy,combine_node_dist = 5)\n",
    "sk.convert_graph_to_skeleton(new_skel)"
   ]
  },
  {
   "cell_type": "code",
   "execution_count": 141,
   "metadata": {},
   "outputs": [
    {
     "name": "stdout",
     "output_type": "stream",
     "text": [
      "The smallest distance (not including diagonal) = 1.0\n",
      "using less than sign\n"
     ]
    },
    {
     "data": {
      "text/plain": [
       "array([[51, 52]])"
      ]
     },
     "execution_count": 141,
     "metadata": {},
     "output_type": "execute_result"
    }
   ],
   "source": [
    "nu=reload(nu)\n",
    "all_skeleton_vertices = downsampled_skeleton.reshape(-1,3)\n",
    "unique_rows,indices = np.unique(all_skeleton_vertices,return_inverse=True,axis=0)\n",
    "#nu.get_matching_vertices(unique_rows,equiv_distance=4)\n",
    "\n",
    "new_unique = np.vstack([unique_rows,np.array([[ 877438. , 1057100. ,  840522. ],[ 800000. , 800000. ,  800000. ]]).reshape(-1,3)])\n",
    "\n",
    "# nu.get_matching_vertices(new_unique,equiv_distance=3)\n"
   ]
  },
  {
   "cell_type": "code",
   "execution_count": 138,
   "metadata": {},
   "outputs": [
    {
     "name": "stdout",
     "output_type": "stream",
     "text": [
      "The smallest distance (not including diagonal) = 1.0\n"
     ]
    },
    {
     "data": {
      "text/plain": [
       "array([[51, 52]])"
      ]
     },
     "execution_count": 138,
     "metadata": {},
     "output_type": "execute_result"
    }
   ],
   "source": [
    "\n",
    "\n"
   ]
  },
  {
   "cell_type": "code",
   "execution_count": 139,
   "metadata": {},
   "outputs": [
    {
     "ename": "AxisError",
     "evalue": "axis 1 is out of bounds for array of dimension 1",
     "output_type": "error",
     "traceback": [
      "\u001b[0;31m---------------------------------------------------------------------------\u001b[0m",
      "\u001b[0;31mAxisError\u001b[0m                                 Traceback (most recent call last)",
      "\u001b[0;32m<ipython-input-139-d1d91350a8c7>\u001b[0m in \u001b[0;36m<module>\u001b[0;34m\u001b[0m\n\u001b[0;32m----> 1\u001b[0;31m \u001b[0mnp\u001b[0m\u001b[0;34m.\u001b[0m\u001b[0munique\u001b[0m\u001b[0;34m(\u001b[0m\u001b[0mnp\u001b[0m\u001b[0;34m.\u001b[0m\u001b[0msort\u001b[0m\u001b[0;34m(\u001b[0m\u001b[0;34m[\u001b[0m\u001b[0;34m]\u001b[0m\u001b[0;34m,\u001b[0m\u001b[0maxis\u001b[0m\u001b[0;34m=\u001b[0m\u001b[0;36m1\u001b[0m\u001b[0;34m)\u001b[0m\u001b[0;34m,\u001b[0m\u001b[0maxis\u001b[0m\u001b[0;34m=\u001b[0m\u001b[0;36m0\u001b[0m\u001b[0;34m)\u001b[0m\u001b[0;34m\u001b[0m\u001b[0;34m\u001b[0m\u001b[0m\n\u001b[0m",
      "\u001b[0;32m/usr/local/lib/python3.6/dist-packages/numpy/core/fromnumeric.py\u001b[0m in \u001b[0;36msort\u001b[0;34m(a, axis, kind, order)\u001b[0m\n\u001b[1;32m    932\u001b[0m     \u001b[0;32melse\u001b[0m\u001b[0;34m:\u001b[0m\u001b[0;34m\u001b[0m\u001b[0;34m\u001b[0m\u001b[0m\n\u001b[1;32m    933\u001b[0m         \u001b[0ma\u001b[0m \u001b[0;34m=\u001b[0m \u001b[0masanyarray\u001b[0m\u001b[0;34m(\u001b[0m\u001b[0ma\u001b[0m\u001b[0;34m)\u001b[0m\u001b[0;34m.\u001b[0m\u001b[0mcopy\u001b[0m\u001b[0;34m(\u001b[0m\u001b[0morder\u001b[0m\u001b[0;34m=\u001b[0m\u001b[0;34m\"K\"\u001b[0m\u001b[0;34m)\u001b[0m\u001b[0;34m\u001b[0m\u001b[0;34m\u001b[0m\u001b[0m\n\u001b[0;32m--> 934\u001b[0;31m     \u001b[0ma\u001b[0m\u001b[0;34m.\u001b[0m\u001b[0msort\u001b[0m\u001b[0;34m(\u001b[0m\u001b[0maxis\u001b[0m\u001b[0;34m=\u001b[0m\u001b[0maxis\u001b[0m\u001b[0;34m,\u001b[0m \u001b[0mkind\u001b[0m\u001b[0;34m=\u001b[0m\u001b[0mkind\u001b[0m\u001b[0;34m,\u001b[0m \u001b[0morder\u001b[0m\u001b[0;34m=\u001b[0m\u001b[0morder\u001b[0m\u001b[0;34m)\u001b[0m\u001b[0;34m\u001b[0m\u001b[0;34m\u001b[0m\u001b[0m\n\u001b[0m\u001b[1;32m    935\u001b[0m     \u001b[0;32mreturn\u001b[0m \u001b[0ma\u001b[0m\u001b[0;34m\u001b[0m\u001b[0;34m\u001b[0m\u001b[0m\n\u001b[1;32m    936\u001b[0m \u001b[0;34m\u001b[0m\u001b[0m\n",
      "\u001b[0;31mAxisError\u001b[0m: axis 1 is out of bounds for array of dimension 1"
     ]
    }
   ],
   "source": [
    "np.unique(np.sort([],axis=1),axis=0)"
   ]
  },
  {
   "cell_type": "code",
   "execution_count": 123,
   "metadata": {},
   "outputs": [
    {
     "data": {
      "text/plain": [
       "352.9206709729539"
      ]
     },
     "execution_count": 123,
     "metadata": {},
     "output_type": "execute_result"
    }
   ],
   "source": [
    "dist_matrix[np.eye(dist_matrix.shape[0]).astype(\"bool\")] = np.inf\n",
    "np.min(dist_matrix)"
   ]
  },
  {
   "cell_type": "markdown",
   "metadata": {},
   "source": [
    "# the final data that will be ported over to the Neuron class"
   ]
  },
  {
   "cell_type": "code",
   "execution_count": 38,
   "metadata": {},
   "outputs": [
    {
     "data": {
      "text/plain": [
       "'\\nConcept networks for limbs and labels of all limbs\\n'"
      ]
     },
     "execution_count": 38,
     "metadata": {},
     "output_type": "execute_result"
    }
   ],
   "source": [
    "\n",
    "current_neuron\n",
    "\"\"\"\n",
    "whole neuron to be used for other processing\n",
    "\"\"\"\n",
    "\n",
    "# The 0 at the front is to say it is the first seperated mesh containing somas (could be multiple)\n",
    "current_mesh_data[0].keys()\n",
    "\"\"\"\n",
    "soma_meshes\n",
    "soma_to_piece_connectivity\n",
    "\"\"\"\n",
    "\"\"\"\n",
    "limb_correspondence[0][0].keys() --> the exact limb and the exact branch\n",
    "\n",
    "AKA [limb_idx][branch_idx]\n",
    "\n",
    "\"\"\"\n",
    "limb_correspondence[0][0][\"branch_skeleton\"]\n",
    "limb_correspondence[0][0][\"width_from_skeleton\"]\n",
    "limb_correspondence[0][0][\"branch_mesh\"]\n",
    "limb_correspondence[0][0][\"branch_face_idx\"]\n",
    "\n",
    "\n",
    "\n",
    "limb_concept_networkx\n",
    "limb_labels\n",
    "\"\"\"\n",
    "Concept networks for limbs and labels of all limbs\n",
    "\"\"\""
   ]
  },
  {
   "cell_type": "code",
   "execution_count": 43,
   "metadata": {},
   "outputs": [
    {
     "data": {
      "text/plain": [
       "{0: {0: <networkx_utils.GraphOrderedEdges at 0x7f7737c74cc0>},\n",
       " 1: {0: <networkx_utils.GraphOrderedEdges at 0x7f7737c6b630>,\n",
       "  1: <networkx_utils.GraphOrderedEdges at 0x7f773ebeb5c0>},\n",
       " 2: {0: <networkx_utils.GraphOrderedEdges at 0x7f7737c74160>},\n",
       " 3: {0: <networkx_utils.GraphOrderedEdges at 0x7f7737c74588>},\n",
       " 4: {1: <networkx_utils.GraphOrderedEdges at 0x7f773ebebc50>},\n",
       " 5: {0: <networkx_utils.GraphOrderedEdges at 0x7f7737c6bb70>},\n",
       " 6: {1: <networkx_utils.GraphOrderedEdges at 0x7f7737c6b0f0>},\n",
       " 7: {1: <networkx_utils.GraphOrderedEdges at 0x7f773ebeb978>},\n",
       " 8: {1: <networkx_utils.GraphOrderedEdges at 0x7f7737c6b470>},\n",
       " 9: {1: <networkx_utils.GraphOrderedEdges at 0x7f7737c74d30>},\n",
       " 10: {0: <networkx_utils.GraphOrderedEdges at 0x7f7737c59ba8>}}"
      ]
     },
     "execution_count": 43,
     "metadata": {},
     "output_type": "execute_result"
    }
   ],
   "source": []
  },
  {
   "cell_type": "markdown",
   "metadata": {},
   "source": [
    "# Plotting for visualizataions (used for platinum update report)"
   ]
  },
  {
   "cell_type": "code",
   "execution_count": 39,
   "metadata": {},
   "outputs": [],
   "source": [
    "curr_limb_idx = 2"
   ]
  },
  {
   "cell_type": "code",
   "execution_count": 41,
   "metadata": {},
   "outputs": [
    {
     "name": "stderr",
     "output_type": "stream",
     "text": [
      "/usr/local/lib/python3.6/dist-packages/traittypes/traittypes.py:101: UserWarning: Given trait value dtype \"float64\" does not match required type \"float64\". A coerced copy has been created.\n",
      "  np.dtype(self.dtype).name))\n"
     ]
    },
    {
     "data": {
      "application/vnd.jupyter.widget-view+json": {
       "model_id": "f3eeb2f8240e4714a992295ca66b6c49",
       "version_major": 2,
       "version_minor": 0
      },
      "text/plain": [
       "VBox(children=(Figure(camera=PerspectiveCamera(fov=46.0, position=(0.0, 0.0, 2.0), quaternion=(0.0, 0.0, 0.0, …"
      ]
     },
     "metadata": {},
     "output_type": "display_data"
    }
   ],
   "source": [
    "#plotting the mesh\n",
    "sk = reload(sk)\n",
    "mu = reload(mu)\n",
    "random_colors_used = sk.graph_skeleton_and_mesh(\n",
    "    other_meshes=[v[\"branch_mesh\"] for k,v in limb_correspondence[curr_limb_idx].items() ],\n",
    "                          other_meshes_colors=\"random\",\n",
    "                          other_skeletons=[v[\"branch_skeleton\"] for k,v in limb_correspondence[curr_limb_idx].items() ],\n",
    "                          other_skeletons_colors=\"random\",\n",
    "                            mesh_alpha=0.8,\n",
    "                          return_other_colors=True)\n",
    "random_colors_used_no_alpha = random_colors_used[:,:-1]"
   ]
  },
  {
   "cell_type": "code",
   "execution_count": 42,
   "metadata": {},
   "outputs": [
    {
     "data": {
      "application/vnd.jupyter.widget-view+json": {
       "model_id": "3a4fa41fc43049448470f432f64b661e",
       "version_major": 2,
       "version_minor": 0
      },
      "text/plain": [
       "VBox(children=(Figure(camera=PerspectiveCamera(fov=46.0, position=(0.0, 0.0, 2.0), quaternion=(0.0, 0.0, 0.0, …"
      ]
     },
     "metadata": {},
     "output_type": "display_data"
    }
   ],
   "source": [
    "#plotting the skeleton\n",
    "sk = reload(sk)\n",
    "mu = reload(mu)\n",
    "sk.graph_skeleton_and_mesh(#other_meshes=total_branch_meshes[:node_to_check_to],\n",
    "                          #other_meshes_colors=\"random\",\n",
    "                          other_skeletons=[v[\"branch_skeleton\"] for k,v in limb_correspondence[curr_limb_idx].items() ],\n",
    "                          other_skeletons_colors=\"random\",\n",
    "                            mesh_alpha=0.05)\n"
   ]
  },
  {
   "cell_type": "code",
   "execution_count": 44,
   "metadata": {},
   "outputs": [
    {
     "data": {
      "text/plain": [
       "'Normal'"
      ]
     },
     "execution_count": 44,
     "metadata": {},
     "output_type": "execute_result"
    }
   ],
   "source": [
    "# get the label:\n",
    "limb_labels[curr_limb_idx]"
   ]
  },
  {
   "cell_type": "code",
   "execution_count": 53,
   "metadata": {},
   "outputs": [
    {
     "data": {
      "text/plain": [
       "55"
      ]
     },
     "execution_count": 53,
     "metadata": {},
     "output_type": "execute_result"
    }
   ],
   "source": [
    "len([v[\"branch_mesh\"] for k,v in limb_correspondence[curr_limb_idx].items() ])"
   ]
  },
  {
   "cell_type": "code",
   "execution_count": 59,
   "metadata": {},
   "outputs": [
    {
     "data": {
      "text/plain": [
       "{0: {0: <networkx_utils.GraphOrderedEdges at 0x7f7737c74cc0>},\n",
       " 1: {0: <networkx_utils.GraphOrderedEdges at 0x7f7737c6b630>,\n",
       "  1: <networkx_utils.GraphOrderedEdges at 0x7f773ebeb5c0>},\n",
       " 2: {0: <networkx_utils.GraphOrderedEdges at 0x7f7737c74160>},\n",
       " 3: {0: <networkx_utils.GraphOrderedEdges at 0x7f7737c74588>},\n",
       " 4: {1: <networkx_utils.GraphOrderedEdges at 0x7f773ebebc50>},\n",
       " 5: {0: <networkx_utils.GraphOrderedEdges at 0x7f7737c6bb70>},\n",
       " 6: {1: <networkx_utils.GraphOrderedEdges at 0x7f7737c6b0f0>},\n",
       " 7: {1: <networkx_utils.GraphOrderedEdges at 0x7f773ebeb978>},\n",
       " 8: {1: <networkx_utils.GraphOrderedEdges at 0x7f7737c6b470>},\n",
       " 9: {1: <networkx_utils.GraphOrderedEdges at 0x7f7737c74d30>},\n",
       " 10: {0: <networkx_utils.GraphOrderedEdges at 0x7f7737c59ba8>}}"
      ]
     },
     "execution_count": 59,
     "metadata": {},
     "output_type": "execute_result"
    }
   ],
   "source": [
    "limb_concept_networkx"
   ]
  },
  {
   "cell_type": "code",
   "execution_count": 70,
   "metadata": {},
   "outputs": [
    {
     "name": "stdout",
     "output_type": "stream",
     "text": [
      "(1, 1)\n"
     ]
    }
   ],
   "source": [
    "#1,2,3,7\n",
    "curr_limb_idx = 10\n",
    "for soma_idx,concept_graph in limb_concept_networkx[curr_limb_idx].items():\n",
    "    print((len(np.unique(list(concept_graph.nodes()))),len([v[\"branch_mesh\"] for k,v in limb_correspondence[curr_limb_idx].items() ])))"
   ]
  },
  {
   "cell_type": "code",
   "execution_count": 49,
   "metadata": {},
   "outputs": [
    {
     "name": "stdout",
     "output_type": "stream",
     "text": [
      "Starting from soma index 0 with starting_coordinate and mesh: [[757928.4 962502.2 866083.1]]\n"
     ]
    },
    {
     "ename": "ValueError",
     "evalue": "'c' argument has 55 elements, which is not acceptable for use with 'x' with size 53, 'y' with size 53.",
     "output_type": "error",
     "traceback": [
      "\u001b[0;31m---------------------------------------------------------------------------\u001b[0m",
      "\u001b[0;31mValueError\u001b[0m                                Traceback (most recent call last)",
      "\u001b[0;32m/usr/local/lib/python3.6/dist-packages/matplotlib/axes/_axes.py\u001b[0m in \u001b[0;36mscatter\u001b[0;34m(self, x, y, s, c, marker, cmap, norm, vmin, vmax, alpha, linewidths, verts, edgecolors, **kwargs)\u001b[0m\n\u001b[1;32m   4237\u001b[0m                     \u001b[0mvalid_shape\u001b[0m \u001b[0;34m=\u001b[0m \u001b[0;32mFalse\u001b[0m\u001b[0;34m\u001b[0m\u001b[0;34m\u001b[0m\u001b[0m\n\u001b[0;32m-> 4238\u001b[0;31m                     \u001b[0;32mraise\u001b[0m \u001b[0mValueError\u001b[0m\u001b[0;34m\u001b[0m\u001b[0;34m\u001b[0m\u001b[0m\n\u001b[0m\u001b[1;32m   4239\u001b[0m             \u001b[0;32mexcept\u001b[0m \u001b[0mValueError\u001b[0m\u001b[0;34m:\u001b[0m\u001b[0;34m\u001b[0m\u001b[0;34m\u001b[0m\u001b[0m\n",
      "\u001b[0;31mValueError\u001b[0m: ",
      "\nDuring handling of the above exception, another exception occurred:\n",
      "\u001b[0;31mValueError\u001b[0m                                Traceback (most recent call last)",
      "\u001b[0;32m<ipython-input-49-4a396d7e7189>\u001b[0m in \u001b[0;36m<module>\u001b[0;34m\u001b[0m\n\u001b[1;32m      5\u001b[0m           f\"{xu.get_node_attributes(concept_graph,attribute_name='starting_coordinate')}\")\n\u001b[1;32m      6\u001b[0m     \u001b[0;31m# plotting the concept network with the same colors\u001b[0m\u001b[0;34m\u001b[0m\u001b[0;34m\u001b[0m\u001b[0;34m\u001b[0m\u001b[0m\n\u001b[0;32m----> 7\u001b[0;31m     \u001b[0mnx\u001b[0m\u001b[0;34m.\u001b[0m\u001b[0mdraw\u001b[0m\u001b[0;34m(\u001b[0m\u001b[0mconcept_graph\u001b[0m\u001b[0;34m,\u001b[0m\u001b[0mnode_color\u001b[0m\u001b[0;34m=\u001b[0m\u001b[0mrandom_colors_used_no_alpha\u001b[0m\u001b[0;34m)\u001b[0m\u001b[0;34m\u001b[0m\u001b[0;34m\u001b[0m\u001b[0m\n\u001b[0m\u001b[1;32m      8\u001b[0m     \u001b[0mplt\u001b[0m\u001b[0;34m.\u001b[0m\u001b[0mshow\u001b[0m\u001b[0;34m(\u001b[0m\u001b[0;34m)\u001b[0m\u001b[0;34m\u001b[0m\u001b[0;34m\u001b[0m\u001b[0m\n\u001b[1;32m      9\u001b[0m     \u001b[0mprint\u001b[0m\u001b[0;34m(\u001b[0m\u001b[0;34m\"\\n\\n\"\u001b[0m\u001b[0;34m)\u001b[0m\u001b[0;34m\u001b[0m\u001b[0;34m\u001b[0m\u001b[0m\n",
      "\u001b[0;32m/usr/local/lib/python3.6/dist-packages/networkx/drawing/nx_pylab.py\u001b[0m in \u001b[0;36mdraw\u001b[0;34m(G, pos, ax, **kwds)\u001b[0m\n\u001b[1;32m    123\u001b[0m         \u001b[0mkwds\u001b[0m\u001b[0;34m[\u001b[0m\u001b[0;34m'with_labels'\u001b[0m\u001b[0;34m]\u001b[0m \u001b[0;34m=\u001b[0m \u001b[0;34m'labels'\u001b[0m \u001b[0;32min\u001b[0m \u001b[0mkwds\u001b[0m\u001b[0;34m\u001b[0m\u001b[0;34m\u001b[0m\u001b[0m\n\u001b[1;32m    124\u001b[0m \u001b[0;34m\u001b[0m\u001b[0m\n\u001b[0;32m--> 125\u001b[0;31m     \u001b[0mdraw_networkx\u001b[0m\u001b[0;34m(\u001b[0m\u001b[0mG\u001b[0m\u001b[0;34m,\u001b[0m \u001b[0mpos\u001b[0m\u001b[0;34m=\u001b[0m\u001b[0mpos\u001b[0m\u001b[0;34m,\u001b[0m \u001b[0max\u001b[0m\u001b[0;34m=\u001b[0m\u001b[0max\u001b[0m\u001b[0;34m,\u001b[0m \u001b[0;34m**\u001b[0m\u001b[0mkwds\u001b[0m\u001b[0;34m)\u001b[0m\u001b[0;34m\u001b[0m\u001b[0;34m\u001b[0m\u001b[0m\n\u001b[0m\u001b[1;32m    126\u001b[0m     \u001b[0max\u001b[0m\u001b[0;34m.\u001b[0m\u001b[0mset_axis_off\u001b[0m\u001b[0;34m(\u001b[0m\u001b[0;34m)\u001b[0m\u001b[0;34m\u001b[0m\u001b[0;34m\u001b[0m\u001b[0m\n\u001b[1;32m    127\u001b[0m     \u001b[0mplt\u001b[0m\u001b[0;34m.\u001b[0m\u001b[0mdraw_if_interactive\u001b[0m\u001b[0;34m(\u001b[0m\u001b[0;34m)\u001b[0m\u001b[0;34m\u001b[0m\u001b[0;34m\u001b[0m\u001b[0m\n",
      "\u001b[0;32m/usr/local/lib/python3.6/dist-packages/networkx/drawing/nx_pylab.py\u001b[0m in \u001b[0;36mdraw_networkx\u001b[0;34m(G, pos, arrows, with_labels, **kwds)\u001b[0m\n\u001b[1;32m    272\u001b[0m         \u001b[0mpos\u001b[0m \u001b[0;34m=\u001b[0m \u001b[0mnx\u001b[0m\u001b[0;34m.\u001b[0m\u001b[0mdrawing\u001b[0m\u001b[0;34m.\u001b[0m\u001b[0mspring_layout\u001b[0m\u001b[0;34m(\u001b[0m\u001b[0mG\u001b[0m\u001b[0;34m)\u001b[0m  \u001b[0;31m# default to spring layout\u001b[0m\u001b[0;34m\u001b[0m\u001b[0;34m\u001b[0m\u001b[0m\n\u001b[1;32m    273\u001b[0m \u001b[0;34m\u001b[0m\u001b[0m\n\u001b[0;32m--> 274\u001b[0;31m     \u001b[0mnode_collection\u001b[0m \u001b[0;34m=\u001b[0m \u001b[0mdraw_networkx_nodes\u001b[0m\u001b[0;34m(\u001b[0m\u001b[0mG\u001b[0m\u001b[0;34m,\u001b[0m \u001b[0mpos\u001b[0m\u001b[0;34m,\u001b[0m \u001b[0;34m**\u001b[0m\u001b[0mkwds\u001b[0m\u001b[0;34m)\u001b[0m\u001b[0;34m\u001b[0m\u001b[0;34m\u001b[0m\u001b[0m\n\u001b[0m\u001b[1;32m    275\u001b[0m     \u001b[0medge_collection\u001b[0m \u001b[0;34m=\u001b[0m \u001b[0mdraw_networkx_edges\u001b[0m\u001b[0;34m(\u001b[0m\u001b[0mG\u001b[0m\u001b[0;34m,\u001b[0m \u001b[0mpos\u001b[0m\u001b[0;34m,\u001b[0m \u001b[0marrows\u001b[0m\u001b[0;34m=\u001b[0m\u001b[0marrows\u001b[0m\u001b[0;34m,\u001b[0m \u001b[0;34m**\u001b[0m\u001b[0mkwds\u001b[0m\u001b[0;34m)\u001b[0m\u001b[0;34m\u001b[0m\u001b[0;34m\u001b[0m\u001b[0m\n\u001b[1;32m    276\u001b[0m     \u001b[0;32mif\u001b[0m \u001b[0mwith_labels\u001b[0m\u001b[0;34m:\u001b[0m\u001b[0;34m\u001b[0m\u001b[0;34m\u001b[0m\u001b[0m\n",
      "\u001b[0;32m/usr/local/lib/python3.6/dist-packages/networkx/drawing/nx_pylab.py\u001b[0m in \u001b[0;36mdraw_networkx_nodes\u001b[0;34m(G, pos, nodelist, node_size, node_color, node_shape, alpha, cmap, vmin, vmax, ax, linewidths, edgecolors, label, **kwds)\u001b[0m\n\u001b[1;32m    415\u001b[0m                                  \u001b[0mlinewidths\u001b[0m\u001b[0;34m=\u001b[0m\u001b[0mlinewidths\u001b[0m\u001b[0;34m,\u001b[0m\u001b[0;34m\u001b[0m\u001b[0;34m\u001b[0m\u001b[0m\n\u001b[1;32m    416\u001b[0m                                  \u001b[0medgecolors\u001b[0m\u001b[0;34m=\u001b[0m\u001b[0medgecolors\u001b[0m\u001b[0;34m,\u001b[0m\u001b[0;34m\u001b[0m\u001b[0;34m\u001b[0m\u001b[0m\n\u001b[0;32m--> 417\u001b[0;31m                                  label=label)\n\u001b[0m\u001b[1;32m    418\u001b[0m     ax.tick_params(\n\u001b[1;32m    419\u001b[0m         \u001b[0maxis\u001b[0m\u001b[0;34m=\u001b[0m\u001b[0;34m'both'\u001b[0m\u001b[0;34m,\u001b[0m\u001b[0;34m\u001b[0m\u001b[0;34m\u001b[0m\u001b[0m\n",
      "\u001b[0;32m/usr/local/lib/python3.6/dist-packages/matplotlib/__init__.py\u001b[0m in \u001b[0;36minner\u001b[0;34m(ax, data, *args, **kwargs)\u001b[0m\n\u001b[1;32m   1808\u001b[0m                         \u001b[0;34m\"the Matplotlib list!)\"\u001b[0m \u001b[0;34m%\u001b[0m \u001b[0;34m(\u001b[0m\u001b[0mlabel_namer\u001b[0m\u001b[0;34m,\u001b[0m \u001b[0mfunc\u001b[0m\u001b[0;34m.\u001b[0m\u001b[0m__name__\u001b[0m\u001b[0;34m)\u001b[0m\u001b[0;34m,\u001b[0m\u001b[0;34m\u001b[0m\u001b[0;34m\u001b[0m\u001b[0m\n\u001b[1;32m   1809\u001b[0m                         RuntimeWarning, stacklevel=2)\n\u001b[0;32m-> 1810\u001b[0;31m             \u001b[0;32mreturn\u001b[0m \u001b[0mfunc\u001b[0m\u001b[0;34m(\u001b[0m\u001b[0max\u001b[0m\u001b[0;34m,\u001b[0m \u001b[0;34m*\u001b[0m\u001b[0margs\u001b[0m\u001b[0;34m,\u001b[0m \u001b[0;34m**\u001b[0m\u001b[0mkwargs\u001b[0m\u001b[0;34m)\u001b[0m\u001b[0;34m\u001b[0m\u001b[0;34m\u001b[0m\u001b[0m\n\u001b[0m\u001b[1;32m   1811\u001b[0m \u001b[0;34m\u001b[0m\u001b[0m\n\u001b[1;32m   1812\u001b[0m         inner.__doc__ = _add_data_doc(inner.__doc__,\n",
      "\u001b[0;32m/usr/local/lib/python3.6/dist-packages/matplotlib/axes/_axes.py\u001b[0m in \u001b[0;36mscatter\u001b[0;34m(self, x, y, s, c, marker, cmap, norm, vmin, vmax, alpha, linewidths, verts, edgecolors, **kwargs)\u001b[0m\n\u001b[1;32m   4243\u001b[0m                         \u001b[0;34m\"acceptable for use with 'x' with size {xs}, \"\u001b[0m\u001b[0;34m\u001b[0m\u001b[0;34m\u001b[0m\u001b[0m\n\u001b[1;32m   4244\u001b[0m                         \u001b[0;34m\"'y' with size {ys}.\"\u001b[0m\u001b[0;34m\u001b[0m\u001b[0;34m\u001b[0m\u001b[0m\n\u001b[0;32m-> 4245\u001b[0;31m                         \u001b[0;34m.\u001b[0m\u001b[0mformat\u001b[0m\u001b[0;34m(\u001b[0m\u001b[0mnc\u001b[0m\u001b[0;34m=\u001b[0m\u001b[0mn_elem\u001b[0m\u001b[0;34m,\u001b[0m \u001b[0mxs\u001b[0m\u001b[0;34m=\u001b[0m\u001b[0mx\u001b[0m\u001b[0;34m.\u001b[0m\u001b[0msize\u001b[0m\u001b[0;34m,\u001b[0m \u001b[0mys\u001b[0m\u001b[0;34m=\u001b[0m\u001b[0my\u001b[0m\u001b[0;34m.\u001b[0m\u001b[0msize\u001b[0m\u001b[0;34m)\u001b[0m\u001b[0;34m\u001b[0m\u001b[0;34m\u001b[0m\u001b[0m\n\u001b[0m\u001b[1;32m   4246\u001b[0m                     )\n\u001b[1;32m   4247\u001b[0m                 \u001b[0;31m# Both the mapping *and* the RGBA conversion failed: pretty\u001b[0m\u001b[0;34m\u001b[0m\u001b[0;34m\u001b[0m\u001b[0;34m\u001b[0m\u001b[0m\n",
      "\u001b[0;31mValueError\u001b[0m: 'c' argument has 55 elements, which is not acceptable for use with 'x' with size 53, 'y' with size 53."
     ]
    },
    {
     "data": {
      "image/png": "[encoded data removed]",
      "text/plain": [
       "<Figure size 432x288 with 1 Axes>"
      ]
     },
     "metadata": {},
     "output_type": "display_data"
    }
   ],
   "source": [
    "\n",
    "import matplotlib.pyplot as plt\n",
    "%matplotlib inline\n",
    "for soma_idx,concept_graph in limb_concept_networkx[curr_limb_idx].items():\n",
    "    print(f\"Starting from soma index {soma_idx} with starting_coordinate and mesh: \"\n",
    "          f\"{xu.get_node_attributes(concept_graph,attribute_name='starting_coordinate')}\")\n",
    "    # plotting the concept network with the same colors\n",
    "    nx.draw(concept_graph,node_color=random_colors_used_no_alpha) \n",
    "    plt.show()\n",
    "    print(\"\\n\\n\")"
   ]
  },
  {
   "cell_type": "code",
   "execution_count": null,
   "metadata": {},
   "outputs": [],
   "source": [
    "# Try plotting the points in 3D: random_colors_used = sk.graph_skeleton_and_mesh(other_meshes=total_branch_meshes[:node_to_check_to],\n",
    "mesh_midpoints =  [np.array([np.mean(k.vertices,axis=0)]) for k in total_branch_meshes[:node_to_check_to]]\n",
    "graph_nodes_skeleton = np.array(mesh_midpoints)[concept_graph.edges_ordered()].reshape(-1,2,3)\n",
    "[k for k in graph_nodes_skeleton]\n",
    "random_colors_used[:,-1] = 1\n",
    "\n",
    "\n",
    "sk.graph_skeleton_and_mesh(other_scatter=mesh_midpoints,\n",
    "                          other_scatter_colors=random_colors_used,\n",
    "                          other_skeletons=graph_nodes_skeleton,\n",
    "                          other_skeletons_colors=\"black\",\n",
    "                                               scatter_size=3)\n",
    "\n"
   ]
  }
 ],
 "metadata": {
  "kernelspec": {
   "display_name": "Python 3",
   "language": "python",
   "name": "python3"
  },
  "language_info": {
   "codemirror_mode": {
    "name": "ipython",
    "version": 3
   },
   "file_extension": ".py",
   "mimetype": "text/x-python",
   "name": "python",
   "nbconvert_exporter": "python",
   "pygments_lexer": "ipython3",
   "version": "3.6.9"
  }
 },
 "nbformat": 4,
 "nbformat_minor": 4
}
