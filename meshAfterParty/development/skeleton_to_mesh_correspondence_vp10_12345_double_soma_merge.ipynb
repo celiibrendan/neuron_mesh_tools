{
 "cells": [
  {
   "cell_type": "code",
   "execution_count": 1,
   "metadata": {},
   "outputs": [],
   "source": [
    "from os import sys\n",
    "sys.path.append(\"../../meshAfterParty/\")"
   ]
  },
  {
   "cell_type": "code",
   "execution_count": 2,
   "metadata": {},
   "outputs": [],
   "source": [
    "import skeleton_utils as sk\n",
    "import soma_extraction_utils as sm\n",
    "import trimesh_utils as tu\n",
    "import trimesh\n",
    "import numpy_utils as nu\n",
    "import numpy as np\n",
    "from importlib import reload\n",
    "import networkx as nx\n",
    "import time\n",
    "import compartment_utils as cu\n",
    "import networkx_utils as xu\n",
    "import matplotlib_utils as mu\n",
    "\n",
    "sm = reload(sm)"
   ]
  },
  {
   "cell_type": "code",
   "execution_count": 3,
   "metadata": {},
   "outputs": [],
   "source": [
    "#Setting where base neuron is\n",
    "\n",
    "# segment_id = 74115880476384817\n",
    "# current_mesh_file = f\"/notebooks/neuron_mesh_tools/test_neurons/multi_soma/{segment_id}_lots_of_merge_chunks.off\"\n",
    "\n",
    "\n",
    "\n",
    "segment_id = 12345\n",
    "current_mesh_file = \"/notebooks/neuron_mesh_tools/test_neurons/multi_soma_example.off\"\n",
    "description=\"double_soma_merge\"\n"
   ]
  },
  {
   "cell_type": "code",
   "execution_count": 91,
   "metadata": {},
   "outputs": [
    {
     "data": {
      "text/plain": [
       "4541444"
      ]
     },
     "execution_count": 91,
     "metadata": {},
     "output_type": "execute_result"
    }
   ],
   "source": [
    "segment_id = np.random.randint(100000000)\n",
    "segment_id"
   ]
  },
  {
   "cell_type": "markdown",
   "metadata": {},
   "source": [
    "# **** Phase 1 ****"
   ]
  },
  {
   "cell_type": "markdown",
   "metadata": {},
   "source": [
    "# Starting from the very beginning of a neuron mesh"
   ]
  },
  {
   "cell_type": "code",
   "execution_count": 4,
   "metadata": {},
   "outputs": [],
   "source": [
    "current_neuron = trimesh.load_mesh(current_mesh_file)"
   ]
  },
  {
   "cell_type": "code",
   "execution_count": 5,
   "metadata": {},
   "outputs": [
    {
     "name": "stderr",
     "output_type": "stream",
     "text": [
      "/usr/local/lib/python3.6/dist-packages/traittypes/traittypes.py:101: UserWarning: Given trait value dtype \"float64\" does not match required type \"float64\". A coerced copy has been created.\n",
      "  np.dtype(self.dtype).name))\n"
     ]
    },
    {
     "data": {
      "application/vnd.jupyter.widget-view+json": {
       "model_id": "48790972396244dc83bc94e2384960c9",
       "version_major": 2,
       "version_minor": 0
      },
      "text/plain": [
       "VBox(children=(Figure(camera=PerspectiveCamera(fov=46.0, position=(0.0, 0.0, 2.0), quaternion=(0.0, 0.0, 0.0, …"
      ]
     },
     "metadata": {},
     "output_type": "display_data"
    }
   ],
   "source": [
    "sk.graph_skeleton_and_mesh(main_mesh_verts=current_neuron.vertices,\n",
    "                          main_mesh_faces=current_neuron.faces,\n",
    "                           main_mesh_color = [0.,1.,0.,0.8]\n",
    "                          )"
   ]
  },
  {
   "cell_type": "markdown",
   "metadata": {},
   "source": [
    "# Doing the soma detection"
   ]
  },
  {
   "cell_type": "code",
   "execution_count": 6,
   "metadata": {},
   "outputs": [
    {
     "name": "stdout",
     "output_type": "stream",
     "text": [
      "Current Arguments Using (adjusted for decimation):\n",
      " large_mesh_threshold= 15000.0 \n",
      "large_mesh_threshold_inner = 10000.0 \n",
      "soma_size_threshold = 1250.0 \n",
      "soma_size_threshold_max = 12000.0\n",
      "outer_decimation_ratio = 0.25\n",
      "inner_decimation_ratio = 0.25\n",
      "IN INPUT FILE VALIDATION LOOP\n",
      "LEAVING LOOP, MESH VALIDATED\n",
      "Using port = 6457\n",
      "xvfb-run -n 6457 -s \"-screen 0 800x600x24\" meshlabserver $@  -i /notebooks/neuron_mesh_tools/meshAfterParty/development/12345/neuron_12345.off -o /notebooks/neuron_mesh_tools/meshAfterParty/development/12345/neuron_12345_decimated.off -s /notebooks/neuron_mesh_tools/meshAfterParty/development/12345/decimation_meshlab_25185251.mls\n",
      "Total found significant pieces before Poisson = [<trimesh.Trimesh(vertices.shape=(139795, 3), faces.shape=(284334, 3))>]\n",
      "----- working on large mesh #0: <trimesh.Trimesh(vertices.shape=(139795, 3), faces.shape=(284334, 3))>\n",
      "pre_largest_mesh_path = /notebooks/neuron_mesh_tools/meshAfterParty/development/12345/neuron_12345_decimated_largest_piece.off\n",
      "IN INPUT FILE VALIDATION LOOP\n",
      "LEAVING LOOP, MESH VALIDATED\n",
      "Using port = 2668\n",
      "xvfb-run -n 2668 -s \"-screen 0 800x600x24\" meshlabserver $@  -i /notebooks/neuron_mesh_tools/meshAfterParty/development/12345/neuron_12345_decimated_largest_piece.off -o /notebooks/neuron_mesh_tools/meshAfterParty/development/12345/neuron_12345_decimated_largest_piece_poisson.off -s /notebooks/neuron_mesh_tools/meshAfterParty/development/12345/poisson_361628.mls\n"
     ]
    },
    {
     "name": "stderr",
     "output_type": "stream",
     "text": [
      "face_normals all zero, ignoring!\n",
      "face_normals all zero, ignoring!\n",
      "face_normals all zero, ignoring!\n",
      "face_normals all zero, ignoring!\n",
      "face_normals all zero, ignoring!\n",
      "face_normals all zero, ignoring!\n",
      "face_normals all zero, ignoring!\n",
      "face_normals all zero, ignoring!\n",
      "face_normals all zero, ignoring!\n",
      "face_normals all zero, ignoring!\n",
      "face_normals all zero, ignoring!\n",
      "face_normals all zero, ignoring!\n",
      "face_normals all zero, ignoring!\n",
      "face_normals all zero, ignoring!\n",
      "face_normals all zero, ignoring!\n",
      "face_normals all zero, ignoring!\n",
      "face_normals all zero, ignoring!\n",
      "face_normals all zero, ignoring!\n",
      "face_normals all zero, ignoring!\n",
      "face_normals all zero, ignoring!\n",
      "face_normals all zero, ignoring!\n",
      "face_normals all zero, ignoring!\n",
      "face_normals all zero, ignoring!\n",
      "face_normals all zero, ignoring!\n",
      "face_normals all zero, ignoring!\n",
      "face_normals all zero, ignoring!\n",
      "face_normals all zero, ignoring!\n",
      "face_normals all zero, ignoring!\n",
      "face_normals all zero, ignoring!\n",
      "face_normals all zero, ignoring!\n",
      "face_normals all zero, ignoring!\n",
      "face_normals all zero, ignoring!\n",
      "face_normals all zero, ignoring!\n",
      "face_normals all zero, ignoring!\n",
      "face_normals all zero, ignoring!\n",
      "face_normals all zero, ignoring!\n",
      "face_normals all zero, ignoring!\n",
      "face_normals all zero, ignoring!\n",
      "face_normals all zero, ignoring!\n",
      "face_normals all zero, ignoring!\n",
      "face_normals all zero, ignoring!\n",
      "face_normals all zero, ignoring!\n",
      "face_normals all zero, ignoring!\n",
      "face_normals all zero, ignoring!\n",
      "face_normals all zero, ignoring!\n",
      "face_normals all zero, ignoring!\n",
      "face_normals all zero, ignoring!\n",
      "face_normals all zero, ignoring!\n",
      "face_normals all zero, ignoring!\n",
      "face_normals all zero, ignoring!\n",
      "face_normals all zero, ignoring!\n",
      "face_normals all zero, ignoring!\n",
      "face_normals all zero, ignoring!\n",
      "face_normals all zero, ignoring!\n",
      "face_normals all zero, ignoring!\n",
      "face_normals all zero, ignoring!\n",
      "face_normals all zero, ignoring!\n"
     ]
    },
    {
     "name": "stdout",
     "output_type": "stream",
     "text": [
      "Total found significant pieces AFTER Poisson = [<trimesh.Trimesh(vertices.shape=(151132, 3), faces.shape=(302272, 3))>, <trimesh.Trimesh(vertices.shape=(42551, 3), faces.shape=(85098, 3))>]\n",
      "----- working on mesh after poisson #0: <trimesh.Trimesh(vertices.shape=(151132, 3), faces.shape=(302272, 3))>\n",
      "IN INPUT FILE VALIDATION LOOP\n",
      "LEAVING LOOP, MESH VALIDATED\n",
      "Using port = 5068\n",
      "xvfb-run -n 5068 -s \"-screen 0 800x600x24\" meshlabserver $@  -i /notebooks/neuron_mesh_tools/meshAfterParty/development/12345/neuron_12345_decimated_largest_piece_poisson_largest_inner.off -o /notebooks/neuron_mesh_tools/meshAfterParty/development/12345/neuron_12345_decimated_largest_piece_poisson_largest_inner_decimated.off -s /notebooks/neuron_mesh_tools/meshAfterParty/development/12345/decimation_meshlab_25261352.mls\n",
      "done exporting decimated mesh: neuron_12345_decimated_largest_piece_poisson_largest_inner.off\n",
      "1) Starting: Mesh importing and Pymesh fix\n",
      "loading mesh from vertices and triangles array\n",
      "1) Finished: Mesh importing and Pymesh fix: 0.0002446174621582031\n",
      "2) Staring: Generating CGAL segmentation for neuron\n",
      "Done writing OFF file\n",
      "\n",
      "Starting CGAL segmentation\n",
      "Right before cgal segmentation, clusters = 3, smoothness = 0.2, path_and_filename = /notebooks/neuron_mesh_tools/meshAfterParty/development/temp/1234500_fixed \n",
      "1\n",
      "Finished CGAL segmentation algorithm: 9.813141107559204\n",
      "2) Finished: Generating CGAL segmentation for neuron: 10.95735502243042\n",
      "3) Staring: Generating Graph Structure and Identifying Soma using soma size threshold  = 3000\n",
      "my_list_keys = [0, 1, 2, 3, 4, 5, 6, 7, 8, 9, 10, 11, 12, 13, 14, 15, 16, 17, 18, 19, 20, 21, 22, 23, 24, 25]\n",
      "changed the median value\n",
      "changed the mean value\n",
      "changed the max value\n",
      "changed the median value\n",
      "changed the mean value\n",
      "changed the max value\n",
      "soma_index = 8\n",
      "3) Finished: Generating Graph Structure and Identifying Soma: 0.025990724563598633\n",
      "Not finding the apical because soma_only option selected\n",
      "6) Staring: Classifying Entire Neuron\n",
      "Total Labels found = {'unsure', 'soma'}\n",
      "6) Finished: Classifying Entire Neuron: 4.792213439941406e-05\n",
      "7) Staring: Transfering Segmentation Labels to Face Labels\n",
      "7) Finished: Transfering Segmentation Labels to Face Labels: 0.06949806213378906\n",
      "8) Staring: Generating final Vertex and Face Labels\n",
      "8) Finished: Generating final Vertex and Face Labels: 0.4335951805114746\n",
      "Returning the soma_sdf value AND the classifier\n",
      "soma_sdf_value = 0.86738\n",
      "segmentation[sorted_medians],median_values[sorted_medians] = (array([ 8,  0, 20,  2, 21, 17,  5, 22, 11, 23,  7, 18,  3, 14, 12, 19,  6,\n",
      "       10, 16, 15,  4,  1,  9, 24, 13, 25]), array([0.86738   , 0.158169  , 0.1191325 , 0.1133125 , 0.111872  ,\n",
      "       0.09774035, 0.09184725, 0.0644599 , 0.0578784 , 0.05519205,\n",
      "       0.0505159 , 0.0494011 , 0.0493783 , 0.04724125, 0.0463232 ,\n",
      "       0.0458986 , 0.0457825 , 0.0449783 , 0.0448833 , 0.0440531 ,\n",
      "       0.0439781 , 0.0402523 , 0.04005445, 0.0398019 , 0.03863715,\n",
      "       0.0329097 ]))\n",
      "Sizes = [6235, 10571, 700, 2238, 115, 1542, 2512, 259, 423, 3786, 4496, 6100, 3919, 3592, 1726, 6253, 3984, 4039, 3191, 1175, 749, 2259, 3310, 957, 626, 811]\n",
      "valid_soma_segments_width\n",
      "      ------ Found 1 viable somas: [8]\n",
      "Using Poisson Surface Reconstruction to make mesh watertight\n",
      "IN INPUT FILE VALIDATION LOOP\n",
      "LEAVING LOOP, MESH VALIDATED\n",
      "Using port = 9111\n",
      "xvfb-run -n 9111 -s \"-screen 0 800x600x24\" meshlabserver $@  -i /notebooks/neuron_mesh_tools/meshAfterParty/development/Poisson_temp/neuron_640162.off -o /notebooks/neuron_mesh_tools/meshAfterParty/development/Poisson_temp/neuron_640162_poisson.off -s /notebooks/neuron_mesh_tools/meshAfterParty/development/Poisson_temp/poisson_634898.mls\n"
     ]
    },
    {
     "name": "stderr",
     "output_type": "stream",
     "text": [
      "face_normals all zero, ignoring!\n",
      "face_normals all zero, ignoring!\n"
     ]
    },
    {
     "name": "stdout",
     "output_type": "stream",
     "text": [
      "removed temporary input file: /notebooks/neuron_mesh_tools/meshAfterParty/development/Poisson_temp/neuron_640162.off\n",
      "removed temporary output file: /notebooks/neuron_mesh_tools/meshAfterParty/development/Poisson_temp/neuron_640162_poisson.off\n",
      "/notebooks/neuron_mesh_tools/meshAfterParty/development/Poisson_temp/poisson_634898.mls is being deleted....\n",
      "Inside sphere validater: ratio_val = 2.882922788675577\n",
      "----- working on mesh after poisson #1: <trimesh.Trimesh(vertices.shape=(42551, 3), faces.shape=(85098, 3))>\n",
      "IN INPUT FILE VALIDATION LOOP\n",
      "LEAVING LOOP, MESH VALIDATED\n",
      "Using port = 6417\n",
      "xvfb-run -n 6417 -s \"-screen 0 800x600x24\" meshlabserver $@  -i /notebooks/neuron_mesh_tools/meshAfterParty/development/12345/neuron_12345_decimated_largest_piece_poisson_largest_inner.off -o /notebooks/neuron_mesh_tools/meshAfterParty/development/12345/neuron_12345_decimated_largest_piece_poisson_largest_inner_decimated.off -s /notebooks/neuron_mesh_tools/meshAfterParty/development/12345/decimation_meshlab_25261352.mls\n",
      "done exporting decimated mesh: neuron_12345_decimated_largest_piece_poisson_largest_inner.off\n",
      "1) Starting: Mesh importing and Pymesh fix\n",
      "loading mesh from vertices and triangles array\n",
      "1) Finished: Mesh importing and Pymesh fix: 0.00019431114196777344\n",
      "2) Staring: Generating CGAL segmentation for neuron\n",
      "Done writing OFF file\n",
      "\n",
      "Starting CGAL segmentation\n",
      "Right before cgal segmentation, clusters = 3, smoothness = 0.2, path_and_filename = /notebooks/neuron_mesh_tools/meshAfterParty/development/temp/1234501_fixed \n",
      "1\n",
      "Finished CGAL segmentation algorithm: 1.8874897956848145\n",
      "2) Finished: Generating CGAL segmentation for neuron: 2.225177526473999\n",
      "3) Staring: Generating Graph Structure and Identifying Soma using soma size threshold  = 3000\n",
      "my_list_keys = [0, 1, 2, 3, 4, 5, 6, 7, 8, 9, 10, 11]\n",
      "changed the median value\n",
      "changed the mean value\n",
      "changed the max value\n",
      "changed the median value\n",
      "changed the mean value\n",
      "changed the max value\n",
      "changed the median value\n",
      "changed the mean value\n",
      "changed the max value\n",
      "soma_index = 6\n",
      "3) Finished: Generating Graph Structure and Identifying Soma: 0.007780313491821289\n",
      "Not finding the apical because soma_only option selected\n",
      "6) Staring: Classifying Entire Neuron\n",
      "Total Labels found = {'unsure', 'soma'}\n",
      "6) Finished: Classifying Entire Neuron: 5.054473876953125e-05\n",
      "7) Staring: Transfering Segmentation Labels to Face Labels\n",
      "7) Finished: Transfering Segmentation Labels to Face Labels: 0.019086122512817383\n",
      "8) Staring: Generating final Vertex and Face Labels\n",
      "8) Finished: Generating final Vertex and Face Labels: 0.19275689125061035\n",
      "Returning the soma_sdf value AND the classifier\n",
      "soma_sdf_value = 0.8608505\n",
      "segmentation[sorted_medians],median_values[sorted_medians] = (array([ 6, 10,  3,  2, 11,  9,  7,  5,  1,  8,  4,  0]), array([0.8608505, 0.130472 , 0.123803 , 0.100414 , 0.0995433, 0.062865 ,\n",
      "       0.0573147, 0.0541266, 0.0417295, 0.0410741, 0.0397183, 0.0262815]))\n",
      "Sizes = [4236, 758, 964, 623, 544, 2745, 658, 5778, 3023, 351, 1155, 439]\n",
      "valid_soma_segments_width\n",
      "      ------ Found 1 viable somas: [6]\n",
      "Using Poisson Surface Reconstruction to make mesh watertight\n",
      "IN INPUT FILE VALIDATION LOOP\n",
      "LEAVING LOOP, MESH VALIDATED\n",
      "Using port = 4156\n",
      "xvfb-run -n 4156 -s \"-screen 0 800x600x24\" meshlabserver $@  -i /notebooks/neuron_mesh_tools/meshAfterParty/development/Poisson_temp/neuron_805179.off -o /notebooks/neuron_mesh_tools/meshAfterParty/development/Poisson_temp/neuron_805179_poisson.off -s /notebooks/neuron_mesh_tools/meshAfterParty/development/Poisson_temp/poisson_281484.mls\n"
     ]
    },
    {
     "name": "stderr",
     "output_type": "stream",
     "text": [
      "face_normals all zero, ignoring!\n",
      "face_normals all zero, ignoring!\n",
      "face_normals all zero, ignoring!\n",
      "face_normals all zero, ignoring!\n",
      "face_normals all zero, ignoring!\n"
     ]
    },
    {
     "name": "stdout",
     "output_type": "stream",
     "text": [
      "removed temporary input file: /notebooks/neuron_mesh_tools/meshAfterParty/development/Poisson_temp/neuron_805179.off\n",
      "removed temporary output file: /notebooks/neuron_mesh_tools/meshAfterParty/development/Poisson_temp/neuron_805179_poisson.off\n",
      "/notebooks/neuron_mesh_tools/meshAfterParty/development/Poisson_temp/poisson_281484.mls is being deleted....\n",
      "Inside sphere validater: ratio_val = 3.0502651518210446\n",
      "\n",
      "\n",
      "\n",
      " Total time for run = 117.17070388793945\n"
     ]
    }
   ],
   "source": [
    "soma_mesh_list,run_time,total_soma_list_sdf = sm.extract_soma_center(segment_id,\n",
    "                                             current_neuron.vertices,\n",
    "                                             current_neuron.faces)"
   ]
  },
  {
   "cell_type": "markdown",
   "metadata": {},
   "source": [
    "# At this point assume that there are somas (if not would just skip to the limb skeleton stuff)"
   ]
  },
  {
   "cell_type": "code",
   "execution_count": 7,
   "metadata": {},
   "outputs": [
    {
     "data": {
      "application/vnd.jupyter.widget-view+json": {
       "model_id": "7e62b46fc17c4581be3af6314f1a27d8",
       "version_major": 2,
       "version_minor": 0
      },
      "text/plain": [
       "VBox(children=(Figure(camera=PerspectiveCamera(fov=46.0, position=(0.0, 0.0, 2.0), quaternion=(0.0, 0.0, 0.0, …"
      ]
     },
     "metadata": {},
     "output_type": "display_data"
    }
   ],
   "source": [
    "# Visualizing the somas: \n",
    "total_soma = tu.combine_meshes(soma_mesh_list)\n",
    "soma_meshes = total_soma\n",
    "sk.graph_skeleton_and_mesh(main_mesh_verts=soma_meshes.vertices,\n",
    "                          main_mesh_faces=soma_meshes.faces,\n",
    "                           main_mesh_color = [0.,1.,0.,0.8]\n",
    "                          )"
   ]
  },
  {
   "cell_type": "code",
   "execution_count": 8,
   "metadata": {},
   "outputs": [
    {
     "name": "stdout",
     "output_type": "stream",
     "text": [
      "Soma List = [<trimesh.Trimesh(vertices.shape=(3177, 3), faces.shape=(6235, 3))>, <trimesh.Trimesh(vertices.shape=(2138, 3), faces.shape=(4236, 3))>]\n",
      "soma_mesh_list_centers = [array([756915.02275732, 958987.26197671, 874182.12348127]), array([864025.20827876, 994593.71529467, 859608.41014967])]\n"
     ]
    }
   ],
   "source": [
    "# geting the soma centers\n",
    "if len(soma_mesh_list) <= 0:\n",
    "    print(f\"**** No Somas Found for Mesh {segment_id} so just one mesh\")\n",
    "    soma_mesh_list_centers = []\n",
    "else:\n",
    "    #compute the soma centers\n",
    "    print(f\"Soma List = {soma_mesh_list}\")\n",
    "\n",
    "    soma_mesh_list_centers = sm.find_soma_centroids(soma_mesh_list)\n",
    "    print(f\"soma_mesh_list_centers = {soma_mesh_list_centers}\")"
   ]
  },
  {
   "cell_type": "markdown",
   "metadata": {},
   "source": [
    "# getting the soma submeshes that are connected to each soma and identifiying those that aren't (and eliminating any mesh pieces inside the soma)"
   ]
  },
  {
   "cell_type": "code",
   "execution_count": 9,
   "metadata": {},
   "outputs": [
    {
     "name": "stdout",
     "output_type": "stream",
     "text": [
      "# total split meshes = 79\n"
     ]
    },
    {
     "data": {
      "text/plain": [
       "{0: 0, 1: 0}"
      ]
     },
     "execution_count": 9,
     "metadata": {},
     "output_type": "execute_result"
    }
   ],
   "source": [
    "main_mesh_total = current_neuron\n",
    "sig_th_initial_split=15\n",
    "\n",
    "#finding the mesh pieces that contain the soma\n",
    "#splitting the current neuron into distinct pieces\n",
    "split_meshes = tu.split_significant_pieces(\n",
    "                            main_mesh_total,\n",
    "                            significance_threshold=sig_th_initial_split,\n",
    "                            print_flag=False)\n",
    "\n",
    "print(f\"# total split meshes = {len(split_meshes)}\")\n",
    "\n",
    "\n",
    "#returns the index of the split_meshes index that contains each soma    \n",
    "containing_mesh_indices = sm.find_soma_centroid_containing_meshes(soma_mesh_list_centers,\n",
    "                                        split_meshes)\n",
    "\n",
    "containing_mesh_indices"
   ]
  },
  {
   "cell_type": "code",
   "execution_count": 10,
   "metadata": {},
   "outputs": [
    {
     "name": "stdout",
     "output_type": "stream",
     "text": [
      "There were 78 pieces found after size threshold\n",
      "# of non soma touching seperate meshes = 44\n",
      "# of inside pieces = 34\n",
      "# of soma containing seperate meshes = 1\n",
      "meshes with somas = {0: [0, 1]}\n"
     ]
    }
   ],
   "source": [
    "# filtering away any of the inside floating pieces: \n",
    "sm = reload(sm)\n",
    "non_soma_touching_meshes = [m for i,m in enumerate(split_meshes)\n",
    "                 if i not in list(containing_mesh_indices.values())]\n",
    "\n",
    "\n",
    "#Adding the step that will filter away any pieces that are inside the soma\n",
    "if len(non_soma_touching_meshes) > 0 and len(soma_mesh_list) > 0:\n",
    "    \"\"\"\n",
    "    *** want to save these pieces that are inside of the soma***\n",
    "    \"\"\"\n",
    "    \n",
    "    non_soma_touching_meshes,inside_pieces = sm.filter_away_inside_soma_pieces(soma_mesh_list,non_soma_touching_meshes,\n",
    "                                    significance_threshold=sig_th_initial_split,\n",
    "                                    return_inside_pieces = True)                                                      \n",
    "\n",
    "\n",
    "split_meshes # the meshes of the original mesh\n",
    "containing_mesh_indices #the mapping of each soma centroid to the correct split mesh\n",
    "soma_containing_meshes = sm.grouping_containing_mesh_indices(containing_mesh_indices)\n",
    "\n",
    "soma_touching_meshes = [split_meshes[k] for k in soma_containing_meshes.keys()]\n",
    "\n",
    "    \n",
    "print(f\"# of non soma touching seperate meshes = {len(non_soma_touching_meshes)}\")\n",
    "print(f\"# of inside pieces = {len(inside_pieces)}\")\n",
    "print(f\"# of soma containing seperate meshes = {len(soma_touching_meshes)}\")\n",
    "print(f\"meshes with somas = {soma_containing_meshes}\")"
   ]
  },
  {
   "cell_type": "markdown",
   "metadata": {},
   "source": [
    "# Soma Extraction was great (but it wasn't the original soma faces), so now need to get the original soma faces and the original non-soma faces of original pieces"
   ]
  },
  {
   "cell_type": "code",
   "execution_count": 11,
   "metadata": {},
   "outputs": [
    {
     "data": {
      "text/plain": [
       "(array([<trimesh.Trimesh(vertices.shape=(3177, 3), faces.shape=(6235, 3))>,\n",
       "        <trimesh.Trimesh(vertices.shape=(2138, 3), faces.shape=(4236, 3))>],\n",
       "       dtype=object),\n",
       " array([array([   0, 4163, 4162, ..., 2073, 2079, 2085]),\n",
       "        array([ 9059,  9058,  9057, ...,  7654,  7640, 10470])],\n",
       "       dtype=object))"
      ]
     },
     "execution_count": 11,
     "metadata": {},
     "output_type": "execute_result"
    }
   ],
   "source": [
    "tu.split(soma_meshes)"
   ]
  },
  {
   "cell_type": "code",
   "execution_count": 12,
   "metadata": {},
   "outputs": [
    {
     "data": {
      "application/vnd.jupyter.widget-view+json": {
       "model_id": "63a003a9d5114b28a323277cef9eed48",
       "version_major": 2,
       "version_minor": 0
      },
      "text/plain": [
       "VBox(children=(Figure(camera=PerspectiveCamera(fov=46.0, position=(0.0, 0.0, 2.0), quaternion=(0.0, 0.0, 0.0, …"
      ]
     },
     "metadata": {},
     "output_type": "display_data"
    }
   ],
   "source": [
    "sk.graph_skeleton_and_mesh(other_meshes=[soma_meshes])"
   ]
  },
  {
   "cell_type": "code",
   "execution_count": 13,
   "metadata": {},
   "outputs": [
    {
     "name": "stdout",
     "output_type": "stream",
     "text": [
      "\n",
      "\n",
      "----Working on soma-containing mesh piece {z}----\n",
      "\n",
      "inside Soma subtraction\n",
      "mesh pieces in subtact soma BEFORE the filtering inside pieces = [<trimesh.Trimesh(vertices.shape=(153651, 3), faces.shape=(308343, 3))>, <trimesh.Trimesh(vertices.shape=(87663, 3), faces.shape=(176175, 3))>, <trimesh.Trimesh(vertices.shape=(56972, 3), faces.shape=(114671, 3))>, <trimesh.Trimesh(vertices.shape=(54953, 3), faces.shape=(110120, 3))>, <trimesh.Trimesh(vertices.shape=(53735, 3), faces.shape=(107788, 3))>, <trimesh.Trimesh(vertices.shape=(51875, 3), faces.shape=(104099, 3))>, <trimesh.Trimesh(vertices.shape=(29324, 3), faces.shape=(58779, 3))>, <trimesh.Trimesh(vertices.shape=(29151, 3), faces.shape=(58543, 3))>, <trimesh.Trimesh(vertices.shape=(14725, 3), faces.shape=(29598, 3))>, <trimesh.Trimesh(vertices.shape=(3865, 3), faces.shape=(7718, 3))>, <trimesh.Trimesh(vertices.shape=(1159, 3), faces.shape=(2282, 3))>]\n",
      "There were 11 pieces found after size threshold\n",
      "mesh pieces in subtact soma AFTER the filtering inside pieces = [<trimesh.Trimesh(vertices.shape=(153651, 3), faces.shape=(308343, 3))>, <trimesh.Trimesh(vertices.shape=(87663, 3), faces.shape=(176175, 3))>, <trimesh.Trimesh(vertices.shape=(56972, 3), faces.shape=(114671, 3))>, <trimesh.Trimesh(vertices.shape=(54953, 3), faces.shape=(110120, 3))>, <trimesh.Trimesh(vertices.shape=(53735, 3), faces.shape=(107788, 3))>, <trimesh.Trimesh(vertices.shape=(51875, 3), faces.shape=(104099, 3))>, <trimesh.Trimesh(vertices.shape=(29324, 3), faces.shape=(58779, 3))>, <trimesh.Trimesh(vertices.shape=(29151, 3), faces.shape=(58543, 3))>, <trimesh.Trimesh(vertices.shape=(14725, 3), faces.shape=(29598, 3))>, <trimesh.Trimesh(vertices.shape=(3865, 3), faces.shape=(7718, 3))>, <trimesh.Trimesh(vertices.shape=(1159, 3), faces.shape=(2282, 3))>]\n",
      "Total Time for soma mesh cancellation = 2.467\n",
      "Total time for Subtract Soam = 2.4673759937286377\n",
      "Total time for mesh mapping: 0.3762836456298828\n",
      "Total time for Original_mesh_faces_map for mesh_pieces without soma= 0.8336939811706543\n",
      "Total time for mesh mapping: 0.3948960304260254\n",
      "Total time for Original_mesh_faces_map for somas= 0.7033388614654541\n",
      "Total time for sig_non_soma_pieces= 1.0888936519622803\n",
      "Total time for split= 0.0541691780090332\n",
      "Total time for mesh mapping: 0.45094919204711914\n",
      "Total time for mesh mapping: 0.47560930252075195\n",
      "Total time for mesh mapping: 0.4122500419616699\n",
      "Total time for mesh mapping: 0.394428014755249\n",
      "Total time for mesh mapping: 0.23319244384765625\n",
      "Total time for mesh mapping: 0.39543604850769043\n",
      "Total time for mesh mapping: 0.4316558837890625\n",
      "Total time for mesh mapping: 0.4161717891693115\n",
      "Total time for mesh mapping: 0.330094575881958\n",
      "Total time for mesh mapping: 0.4301903247833252\n",
      "Total time for mesh mapping: 0.19150924682617188\n",
      "Total time for mesh mapping: 0.2658226490020752\n",
      "Total time for mesh mapping: 0.6569666862487793\n",
      "Total time for mesh mapping: 0.40425610542297363\n",
      "Total time for mesh mapping: 0.3823566436767578\n",
      "Total time for mesh mapping: 0.36330604553222656\n",
      "Total time for mesh mapping: 0.20288920402526855\n",
      "Total time for mesh mapping: 0.38150858879089355\n",
      "Total time for mesh mapping: 0.4177100658416748\n",
      "Total time for mesh mapping: 0.3998837471008301\n",
      "Total time for mesh mapping: 0.3195977210998535\n",
      "Total time for mesh mapping: 0.4067058563232422\n",
      "Total time for mesh mapping: 0.18674707412719727\n",
      "Total time for mesh mapping: 0.24201369285583496\n",
      "Total time for mesh_pieces_connectivity= 9.470882415771484\n",
      "# of insignificant_limbs = 0 with trimesh : []\n"
     ]
    },
    {
     "data": {
      "text/plain": [
       "{0: {'branch_meshes': [<trimesh.Trimesh(vertices.shape=(153651, 3), faces.shape=(308343, 3))>,\n",
       "   <trimesh.Trimesh(vertices.shape=(87663, 3), faces.shape=(176175, 3))>,\n",
       "   <trimesh.Trimesh(vertices.shape=(56972, 3), faces.shape=(114671, 3))>,\n",
       "   <trimesh.Trimesh(vertices.shape=(54953, 3), faces.shape=(110120, 3))>,\n",
       "   <trimesh.Trimesh(vertices.shape=(53735, 3), faces.shape=(107788, 3))>,\n",
       "   <trimesh.Trimesh(vertices.shape=(51875, 3), faces.shape=(104099, 3))>,\n",
       "   <trimesh.Trimesh(vertices.shape=(29324, 3), faces.shape=(58779, 3))>,\n",
       "   <trimesh.Trimesh(vertices.shape=(29151, 3), faces.shape=(58543, 3))>,\n",
       "   <trimesh.Trimesh(vertices.shape=(14725, 3), faces.shape=(29598, 3))>,\n",
       "   <trimesh.Trimesh(vertices.shape=(3865, 3), faces.shape=(7718, 3))>,\n",
       "   <trimesh.Trimesh(vertices.shape=(1159, 3), faces.shape=(2282, 3))>],\n",
       "  'soma_meshes': array([<trimesh.Trimesh(vertices.shape=(20481, 3), faces.shape=(40659, 3))>,\n",
       "         <trimesh.Trimesh(vertices.shape=(14158, 3), faces.shape=(28309, 3))>],\n",
       "        dtype=object),\n",
       "  'soma_to_piece_connectivity': {0: [0, 1, 2, 3, 5, 10],\n",
       "   1: [1, 4, 6, 7, 8, 9]}}}"
      ]
     },
     "execution_count": 13,
     "metadata": {},
     "output_type": "execute_result"
    }
   ],
   "source": [
    "from importlib import reload\n",
    "sm = reload(sm)\n",
    "tu = reload(tu)\n",
    "\n",
    "\"\"\"\n",
    "for each soma touching mesh get the following:\n",
    "1) original soma meshes\n",
    "2) significant mesh pieces touching these somas\n",
    "3) The soma connectivity to each of the significant mesh pieces\n",
    "-- later will just translate the \n",
    "\n",
    "\n",
    "Process: \n",
    "\n",
    "1) Final all soma faces (through soma extraction and then soma original faces function)\n",
    "2) Subtact all soma faces from original mesh\n",
    "3) Find all significant mesh pieces\n",
    "4) Backtrack significant mesh pieces to orignal mesh and find connectivity of each to all\n",
    "   the available somas\n",
    "Conclusion: Will have connectivity map\n",
    "\n",
    "\n",
    "\"\"\"\n",
    "limb_threshold = 2000\n",
    "\n",
    "soma_touching_mesh_data = dict()\n",
    "\n",
    "for z,(mesh_idx, soma_idxes) in enumerate(soma_containing_meshes.items()):\n",
    "    soma_touching_mesh_data[z] = dict()\n",
    "    print(\"\\n\\n----Working on soma-containing mesh piece {z}----\")\n",
    "\n",
    "    #1) Final all soma faces (through soma extraction and then soma original faces function)\n",
    "    current_mesh = split_meshes[mesh_idx]\n",
    "\n",
    "    current_soma_mesh_list = [soma_mesh_list[k] for k in soma_idxes]\n",
    "    \n",
    "    current_time = time.time()\n",
    "    mesh_pieces_without_soma = sm.subtract_soma(current_soma_mesh_list,current_mesh,\n",
    "                                                significance_threshold=250)\n",
    "    print(f\"Total time for Subtract Soam = {time.time() - current_time}\")\n",
    "    current_time = time.time()\n",
    "\n",
    "    mesh_pieces_without_soma_stacked = tu.combine_meshes(mesh_pieces_without_soma)\n",
    "    \n",
    "    # find the original soma faces of mesh\n",
    "    soma_faces = tu.original_mesh_faces_map(current_mesh,mesh_pieces_without_soma_stacked,matching=False)\n",
    "    print(f\"Total time for Original_mesh_faces_map for mesh_pieces without soma= {time.time() - current_time}\")\n",
    "    current_time = time.time()\n",
    "    soma_meshes = current_mesh.submesh([soma_faces],append=True)\n",
    "    \n",
    "    # finding the non-soma original faces\n",
    "    non_soma_faces = tu.original_mesh_faces_map(current_mesh,soma_meshes,matching=False)\n",
    "    non_soma_stacked_mesh = current_mesh.submesh([non_soma_faces],append=True)\n",
    "    \n",
    "    print(f\"Total time for Original_mesh_faces_map for somas= {time.time() - current_time}\")\n",
    "    current_time = time.time()\n",
    "    \n",
    "    # 3) Find all significant mesh pieces\n",
    "    sig_non_soma_pieces,insignificant_limbs = tu.split_significant_pieces(non_soma_stacked_mesh,significance_threshold=limb_threshold,\n",
    "                                                     return_insignificant_pieces=True)\n",
    "   \n",
    "    print(f\"Total time for sig_non_soma_pieces= {time.time() - current_time}\")\n",
    "    current_time = time.time()\n",
    "    \n",
    "    soma_touching_mesh_data[z][\"branch_meshes\"] = sig_non_soma_pieces\n",
    "    \n",
    "    #4) Backtrack significant mesh pieces to orignal mesh and find connectivity of each to all the available somas\n",
    "    # get all the seperate mesh faces\n",
    "\n",
    "    #How to seperate the mesh faces\n",
    "    seperate_soma_meshes,soma_face_components = tu.split(soma_meshes,only_watertight=False)\n",
    "    #take the top largest ones depending how many were originally in the soma list\n",
    "    seperate_soma_meshes = seperate_soma_meshes[:len(soma_mesh_list)]\n",
    "    soma_face_components = soma_face_components[:len(soma_mesh_list)]\n",
    "    \n",
    "    soma_touching_mesh_data[z][\"soma_meshes\"] = seperate_soma_meshes\n",
    "    \n",
    "    print(f\"Total time for split= {time.time() - current_time}\")\n",
    "    current_time = time.time()\n",
    "    \n",
    "    \n",
    "    \n",
    "    soma_to_piece_connectivity = dict()\n",
    "    for i,curr_soma in enumerate(seperate_soma_meshes):\n",
    "        connected_mesh_pieces,connected_mesh_pieces_vertices  = tu.mesh_pieces_connectivity(\n",
    "                        main_mesh=current_mesh,\n",
    "                        central_piece=curr_soma,\n",
    "                        periphery_pieces = sig_non_soma_pieces,\n",
    "                        return_vertices = True)\n",
    "        #print(f\"soma {i}: connected_mesh_pieces = {connected_mesh_pieces}\")\n",
    "        soma_to_piece_connectivity[i] = connected_mesh_pieces\n",
    "    \n",
    "    print(f\"Total time for mesh_pieces_connectivity= {time.time() - current_time}\")\n",
    "    \n",
    "    soma_touching_mesh_data[z][\"soma_to_piece_connectivity\"] = soma_to_piece_connectivity\n",
    "\n",
    "print(f\"# of insignificant_limbs = {len(insignificant_limbs)} with trimesh : {insignificant_limbs}\")\n",
    "soma_touching_mesh_data"
   ]
  },
  {
   "cell_type": "markdown",
   "metadata": {},
   "source": [
    "# ****Soma Touching mesh Data has the branches and the connectivity (So this is where you end up skipping if you don't have somas)***"
   ]
  },
  {
   "cell_type": "markdown",
   "metadata": {},
   "source": [
    "# Working on the Actual skeleton of all of the branches"
   ]
  },
  {
   "cell_type": "code",
   "execution_count": 14,
   "metadata": {
    "scrolled": true
   },
   "outputs": [
    {
     "name": "stdout",
     "output_type": "stream",
     "text": [
      "\n",
      "-- Working on Soma Continaing Mesh 0--\n",
      "\n",
      "    -- Working on branch 0--\n",
      "     Starting Screened Poisson\n",
      "IN INPUT FILE VALIDATION LOOP\n",
      "LEAVING LOOP, MESH VALIDATED\n",
      "Using port = 8644\n",
      "xvfb-run -n 8644 -s \"-screen 0 800x600x24\" meshlabserver $@  -i /notebooks/neuron_mesh_tools/meshAfterParty/development/temp/None.off -o /notebooks/neuron_mesh_tools/meshAfterParty/development/temp/None_poisson.off -s /notebooks/neuron_mesh_tools/meshAfterParty/development/temp/poisson_649744.mls\n",
      "-----Time for Screened Poisson= 38.75502681732178\n"
     ]
    },
    {
     "name": "stderr",
     "output_type": "stream",
     "text": [
      "face_normals all zero, ignoring!\n",
      "face_normals all zero, ignoring!\n",
      "face_normals all zero, ignoring!\n",
      "face_normals all zero, ignoring!\n",
      "face_normals all zero, ignoring!\n",
      "face_normals all zero, ignoring!\n",
      "face_normals all zero, ignoring!\n",
      "face_normals all zero, ignoring!\n",
      "face_normals all zero, ignoring!\n",
      "face_normals all zero, ignoring!\n",
      "face_normals all zero, ignoring!\n",
      "face_normals all zero, ignoring!\n",
      "face_normals all zero, ignoring!\n",
      "face_normals all zero, ignoring!\n",
      "face_normals all zero, ignoring!\n",
      "face_normals all zero, ignoring!\n",
      "face_normals all zero, ignoring!\n",
      "face_normals all zero, ignoring!\n",
      "face_normals all zero, ignoring!\n",
      "face_normals all zero, ignoring!\n",
      "face_normals all zero, ignoring!\n",
      "face_normals all zero, ignoring!\n",
      "face_normals all zero, ignoring!\n",
      "face_normals all zero, ignoring!\n",
      "face_normals all zero, ignoring!\n",
      "face_normals all zero, ignoring!\n",
      "face_normals all zero, ignoring!\n",
      "face_normals all zero, ignoring!\n",
      "face_normals all zero, ignoring!\n",
      "face_normals all zero, ignoring!\n",
      "face_normals all zero, ignoring!\n",
      "face_normals all zero, ignoring!\n",
      "face_normals all zero, ignoring!\n",
      "face_normals all zero, ignoring!\n",
      "face_normals all zero, ignoring!\n",
      "face_normals all zero, ignoring!\n",
      "face_normals all zero, ignoring!\n",
      "face_normals all zero, ignoring!\n",
      "face_normals all zero, ignoring!\n",
      "face_normals all zero, ignoring!\n",
      "face_normals all zero, ignoring!\n",
      "face_normals all zero, ignoring!\n",
      "face_normals all zero, ignoring!\n",
      "face_normals all zero, ignoring!\n",
      "face_normals all zero, ignoring!\n",
      "face_normals all zero, ignoring!\n",
      "face_normals all zero, ignoring!\n",
      "face_normals all zero, ignoring!\n",
      "face_normals all zero, ignoring!\n",
      "face_normals all zero, ignoring!\n",
      "face_normals all zero, ignoring!\n",
      "face_normals all zero, ignoring!\n",
      "face_normals all zero, ignoring!\n",
      "face_normals all zero, ignoring!\n",
      "face_normals all zero, ignoring!\n",
      "face_normals all zero, ignoring!\n",
      "face_normals all zero, ignoring!\n",
      "face_normals all zero, ignoring!\n",
      "face_normals all zero, ignoring!\n",
      "face_normals all zero, ignoring!\n",
      "face_normals all zero, ignoring!\n",
      "face_normals all zero, ignoring!\n",
      "face_normals all zero, ignoring!\n",
      "face_normals all zero, ignoring!\n",
      "face_normals all zero, ignoring!\n",
      "face_normals all zero, ignoring!\n",
      "face_normals all zero, ignoring!\n",
      "face_normals all zero, ignoring!\n",
      "face_normals all zero, ignoring!\n",
      "face_normals all zero, ignoring!\n",
      "face_normals all zero, ignoring!\n",
      "face_normals all zero, ignoring!\n",
      "face_normals all zero, ignoring!\n",
      "face_normals all zero, ignoring!\n",
      "face_normals all zero, ignoring!\n",
      "face_normals all zero, ignoring!\n",
      "face_normals all zero, ignoring!\n",
      "face_normals all zero, ignoring!\n",
      "face_normals all zero, ignoring!\n",
      "face_normals all zero, ignoring!\n",
      "face_normals all zero, ignoring!\n",
      "face_normals all zero, ignoring!\n",
      "face_normals all zero, ignoring!\n",
      "face_normals all zero, ignoring!\n",
      "face_normals all zero, ignoring!\n",
      "face_normals all zero, ignoring!\n",
      "face_normals all zero, ignoring!\n",
      "face_normals all zero, ignoring!\n"
     ]
    },
    {
     "name": "stdout",
     "output_type": "stream",
     "text": [
      "     Starting Calcification\n",
      "Before mesh subtraction number of skeleton edges = 4143\n",
      "Inside mesh subtraction, len(main_mesh_bbox_restricted.faces) = 308343\n"
     ]
    },
    {
     "data": {
      "application/vnd.jupyter.widget-view+json": {
       "model_id": "9a28519bd38c4fb785ef79339cb2f427",
       "version_major": 2,
       "version_minor": 0
      },
      "text/plain": [
       "HBox(children=(FloatProgress(value=1.0, bar_style='info', max=1.0), HTML(value='')))"
      ]
     },
     "metadata": {},
     "output_type": "display_data"
    },
    {
     "name": "stderr",
     "output_type": "stream",
     "text": [
      "No adjacent faces detected! Did you merge vertices?\n"
     ]
    },
    {
     "name": "stdout",
     "output_type": "stream",
     "text": [
      "\n",
      "Total Mesh subtraction time = 81.0509\n"
     ]
    },
    {
     "data": {
      "application/vnd.jupyter.widget-view+json": {
       "model_id": "1c70e73215f54858bed9944917e6daed",
       "version_major": 2,
       "version_minor": 0
      },
      "text/plain": [
       "HBox(children=(FloatProgress(value=0.0, max=212.0), HTML(value='')))"
      ]
     },
     "metadata": {},
     "output_type": "display_data"
    },
    {
     "name": "stdout",
     "output_type": "stream",
     "text": [
      "\n",
      "len_subgraphs AT BEGINNING of the loop\n"
     ]
    },
    {
     "data": {
      "application/vnd.jupyter.widget-view+json": {
       "model_id": "c5da53eccb6a4288a680df832c8f93e9",
       "version_major": 2,
       "version_minor": 0
      },
      "text/plain": [
       "HBox(children=(FloatProgress(value=0.0, max=739.0), HTML(value='')))"
      ]
     },
     "metadata": {},
     "output_type": "display_data"
    },
    {
     "name": "stdout",
     "output_type": "stream",
     "text": [
      "all graph is one component!\n",
      "\n",
      "Total time for skeleton stitching = 1.8173508644104004\n",
      "The process was using a temp folder\n",
      "Using Distance measure skeletal_distance\n"
     ]
    },
    {
     "data": {
      "application/vnd.jupyter.widget-view+json": {
       "model_id": "450ecf021ce94f61bf83414a744365d4",
       "version_major": 2,
       "version_minor": 0
      },
      "text/plain": [
       "HBox(children=(FloatProgress(value=0.0, max=722.0), HTML(value='')))"
      ]
     },
     "metadata": {},
     "output_type": "display_data"
    },
    {
     "name": "stdout",
     "output_type": "stream",
     "text": [
      "    Total time for skeleton and cleaning of branch 0: 51.41384172439575\n",
      "\n",
      "    -- Working on branch 1--\n",
      "     Starting Screened Poisson\n",
      "IN INPUT FILE VALIDATION LOOP\n",
      "LEAVING LOOP, MESH VALIDATED\n",
      "Using port = 2099\n",
      "xvfb-run -n 2099 -s \"-screen 0 800x600x24\" meshlabserver $@  -i /notebooks/neuron_mesh_tools/meshAfterParty/development/temp/None.off -o /notebooks/neuron_mesh_tools/meshAfterParty/development/temp/None_poisson.off -s /notebooks/neuron_mesh_tools/meshAfterParty/development/temp/poisson_684614.mls\n",
      "-----Time for Screened Poisson= 22.366092681884766\n"
     ]
    },
    {
     "name": "stderr",
     "output_type": "stream",
     "text": [
      "face_normals all zero, ignoring!\n",
      "face_normals all zero, ignoring!\n",
      "face_normals all zero, ignoring!\n",
      "face_normals all zero, ignoring!\n",
      "face_normals all zero, ignoring!\n",
      "face_normals all zero, ignoring!\n",
      "face_normals all zero, ignoring!\n",
      "face_normals all zero, ignoring!\n",
      "face_normals all zero, ignoring!\n",
      "face_normals all zero, ignoring!\n",
      "face_normals all zero, ignoring!\n",
      "face_normals all zero, ignoring!\n",
      "face_normals all zero, ignoring!\n",
      "face_normals all zero, ignoring!\n",
      "face_normals all zero, ignoring!\n",
      "face_normals all zero, ignoring!\n",
      "face_normals all zero, ignoring!\n",
      "face_normals all zero, ignoring!\n",
      "face_normals all zero, ignoring!\n",
      "face_normals all zero, ignoring!\n",
      "face_normals all zero, ignoring!\n",
      "face_normals all zero, ignoring!\n",
      "face_normals all zero, ignoring!\n",
      "face_normals all zero, ignoring!\n",
      "face_normals all zero, ignoring!\n",
      "face_normals all zero, ignoring!\n",
      "face_normals all zero, ignoring!\n",
      "face_normals all zero, ignoring!\n",
      "face_normals all zero, ignoring!\n",
      "face_normals all zero, ignoring!\n",
      "face_normals all zero, ignoring!\n",
      "face_normals all zero, ignoring!\n",
      "face_normals all zero, ignoring!\n",
      "face_normals all zero, ignoring!\n",
      "face_normals all zero, ignoring!\n",
      "face_normals all zero, ignoring!\n",
      "face_normals all zero, ignoring!\n",
      "face_normals all zero, ignoring!\n",
      "face_normals all zero, ignoring!\n",
      "face_normals all zero, ignoring!\n",
      "face_normals all zero, ignoring!\n",
      "face_normals all zero, ignoring!\n",
      "face_normals all zero, ignoring!\n",
      "face_normals all zero, ignoring!\n",
      "face_normals all zero, ignoring!\n",
      "face_normals all zero, ignoring!\n",
      "face_normals all zero, ignoring!\n",
      "face_normals all zero, ignoring!\n",
      "face_normals all zero, ignoring!\n",
      "face_normals all zero, ignoring!\n",
      "face_normals all zero, ignoring!\n",
      "face_normals all zero, ignoring!\n",
      "face_normals all zero, ignoring!\n",
      "face_normals all zero, ignoring!\n"
     ]
    },
    {
     "name": "stdout",
     "output_type": "stream",
     "text": [
      "     Starting Calcification\n",
      "Before mesh subtraction number of skeleton edges = 2795\n",
      "Inside mesh subtraction, len(main_mesh_bbox_restricted.faces) = 176175\n"
     ]
    },
    {
     "data": {
      "application/vnd.jupyter.widget-view+json": {
       "model_id": "f710ef1ebfd74bc2a02f39daf78d7cfe",
       "version_major": 2,
       "version_minor": 0
      },
      "text/plain": [
       "HBox(children=(FloatProgress(value=1.0, bar_style='info', max=1.0), HTML(value='')))"
      ]
     },
     "metadata": {},
     "output_type": "display_data"
    },
    {
     "name": "stderr",
     "output_type": "stream",
     "text": [
      "No adjacent faces detected! Did you merge vertices?\n",
      "No adjacent faces detected! Did you merge vertices?\n"
     ]
    },
    {
     "name": "stdout",
     "output_type": "stream",
     "text": [
      "\n",
      "Total Mesh subtraction time = 44.2127\n"
     ]
    },
    {
     "data": {
      "application/vnd.jupyter.widget-view+json": {
       "model_id": "aadfdb72235b47d785deaab639e72f3b",
       "version_major": 2,
       "version_minor": 0
      },
      "text/plain": [
       "HBox(children=(FloatProgress(value=0.0, max=146.0), HTML(value='')))"
      ]
     },
     "metadata": {},
     "output_type": "display_data"
    },
    {
     "name": "stdout",
     "output_type": "stream",
     "text": [
      "\n",
      "len_subgraphs AT BEGINNING of the loop\n"
     ]
    },
    {
     "data": {
      "application/vnd.jupyter.widget-view+json": {
       "model_id": "2ba973141a1b4fb2b75908b2e25260aa",
       "version_major": 2,
       "version_minor": 0
      },
      "text/plain": [
       "HBox(children=(FloatProgress(value=0.0, max=470.0), HTML(value='')))"
      ]
     },
     "metadata": {},
     "output_type": "display_data"
    },
    {
     "name": "stdout",
     "output_type": "stream",
     "text": [
      "all graph is one component!\n",
      "\n",
      "Total time for skeleton stitching = 0.8959884643554688\n",
      "The process was using a temp folder\n",
      "Using Distance measure skeletal_distance\n"
     ]
    },
    {
     "data": {
      "application/vnd.jupyter.widget-view+json": {
       "model_id": "e077c01af044457eaf0bb2101450dea7",
       "version_major": 2,
       "version_minor": 0
      },
      "text/plain": [
       "HBox(children=(FloatProgress(value=0.0, max=431.0), HTML(value='')))"
      ]
     },
     "metadata": {},
     "output_type": "display_data"
    },
    {
     "name": "stdout",
     "output_type": "stream",
     "text": [
      "    Total time for skeleton and cleaning of branch 1: 20.82867169380188\n",
      "\n",
      "    -- Working on branch 2--\n",
      "     Starting Screened Poisson\n",
      "IN INPUT FILE VALIDATION LOOP\n",
      "LEAVING LOOP, MESH VALIDATED\n",
      "Using port = 292\n",
      "xvfb-run -n 292 -s \"-screen 0 800x600x24\" meshlabserver $@  -i /notebooks/neuron_mesh_tools/meshAfterParty/development/temp/None.off -o /notebooks/neuron_mesh_tools/meshAfterParty/development/temp/None_poisson.off -s /notebooks/neuron_mesh_tools/meshAfterParty/development/temp/poisson_493176.mls\n",
      "-----Time for Screened Poisson= 19.005046129226685\n"
     ]
    },
    {
     "name": "stderr",
     "output_type": "stream",
     "text": [
      "face_normals all zero, ignoring!\n",
      "face_normals all zero, ignoring!\n",
      "face_normals all zero, ignoring!\n",
      "face_normals all zero, ignoring!\n",
      "face_normals all zero, ignoring!\n",
      "face_normals all zero, ignoring!\n",
      "face_normals all zero, ignoring!\n",
      "face_normals all zero, ignoring!\n",
      "face_normals all zero, ignoring!\n",
      "face_normals all zero, ignoring!\n",
      "face_normals all zero, ignoring!\n",
      "face_normals all zero, ignoring!\n",
      "face_normals all zero, ignoring!\n",
      "face_normals all zero, ignoring!\n",
      "face_normals all zero, ignoring!\n",
      "face_normals all zero, ignoring!\n",
      "face_normals all zero, ignoring!\n",
      "face_normals all zero, ignoring!\n",
      "face_normals all zero, ignoring!\n",
      "face_normals all zero, ignoring!\n",
      "face_normals all zero, ignoring!\n",
      "face_normals all zero, ignoring!\n",
      "face_normals all zero, ignoring!\n",
      "face_normals all zero, ignoring!\n",
      "face_normals all zero, ignoring!\n",
      "face_normals all zero, ignoring!\n",
      "face_normals all zero, ignoring!\n",
      "face_normals all zero, ignoring!\n",
      "face_normals all zero, ignoring!\n",
      "face_normals all zero, ignoring!\n",
      "face_normals all zero, ignoring!\n",
      "face_normals all zero, ignoring!\n",
      "face_normals all zero, ignoring!\n",
      "face_normals all zero, ignoring!\n",
      "face_normals all zero, ignoring!\n",
      "face_normals all zero, ignoring!\n",
      "face_normals all zero, ignoring!\n",
      "face_normals all zero, ignoring!\n",
      "face_normals all zero, ignoring!\n",
      "face_normals all zero, ignoring!\n"
     ]
    },
    {
     "name": "stdout",
     "output_type": "stream",
     "text": [
      "     Starting Calcification\n",
      "Before mesh subtraction number of skeleton edges = 1800\n",
      "Inside mesh subtraction, len(main_mesh_bbox_restricted.faces) = 114671\n"
     ]
    },
    {
     "data": {
      "application/vnd.jupyter.widget-view+json": {
       "model_id": "66434a78f21b487fa95c968e8c56a1ab",
       "version_major": 2,
       "version_minor": 0
      },
      "text/plain": [
       "HBox(children=(FloatProgress(value=1.0, bar_style='info', max=1.0), HTML(value='')))"
      ]
     },
     "metadata": {},
     "output_type": "display_data"
    },
    {
     "name": "stderr",
     "output_type": "stream",
     "text": [
      "No adjacent faces detected! Did you merge vertices?\n",
      "No adjacent faces detected! Did you merge vertices?\n",
      "No adjacent faces detected! Did you merge vertices?\n",
      "No adjacent faces detected! Did you merge vertices?\n"
     ]
    },
    {
     "name": "stdout",
     "output_type": "stream",
     "text": [
      "\n",
      "Total Mesh subtraction time = 26.6193\n"
     ]
    },
    {
     "data": {
      "application/vnd.jupyter.widget-view+json": {
       "model_id": "84dd2b774ad743e994d5052c1aedaba5",
       "version_major": 2,
       "version_minor": 0
      },
      "text/plain": [
       "HBox(children=(FloatProgress(value=0.0, max=113.0), HTML(value='')))"
      ]
     },
     "metadata": {},
     "output_type": "display_data"
    },
    {
     "name": "stdout",
     "output_type": "stream",
     "text": [
      "\n",
      "len_subgraphs AT BEGINNING of the loop\n"
     ]
    },
    {
     "data": {
      "application/vnd.jupyter.widget-view+json": {
       "model_id": "45c9d58c92794891b1bff2c197bea7f7",
       "version_major": 2,
       "version_minor": 0
      },
      "text/plain": [
       "HBox(children=(FloatProgress(value=0.0, max=344.0), HTML(value='')))"
      ]
     },
     "metadata": {},
     "output_type": "display_data"
    },
    {
     "name": "stdout",
     "output_type": "stream",
     "text": [
      "all graph is one component!\n",
      "\n",
      "Total time for skeleton stitching = 0.49669694900512695\n",
      "The process was using a temp folder\n",
      "Using Distance measure skeletal_distance\n"
     ]
    },
    {
     "data": {
      "application/vnd.jupyter.widget-view+json": {
       "model_id": "20408e171aad42aa82911fd485b25103",
       "version_major": 2,
       "version_minor": 0
      },
      "text/plain": [
       "HBox(children=(FloatProgress(value=0.0, max=274.0), HTML(value='')))"
      ]
     },
     "metadata": {},
     "output_type": "display_data"
    },
    {
     "name": "stdout",
     "output_type": "stream",
     "text": [
      "    Total time for skeleton and cleaning of branch 2: 9.111394882202148\n",
      "\n",
      "    -- Working on branch 3--\n",
      "     Starting Screened Poisson\n",
      "IN INPUT FILE VALIDATION LOOP\n",
      "LEAVING LOOP, MESH VALIDATED\n",
      "Using port = 3528\n",
      "xvfb-run -n 3528 -s \"-screen 0 800x600x24\" meshlabserver $@  -i /notebooks/neuron_mesh_tools/meshAfterParty/development/temp/None.off -o /notebooks/neuron_mesh_tools/meshAfterParty/development/temp/None_poisson.off -s /notebooks/neuron_mesh_tools/meshAfterParty/development/temp/poisson_754291.mls\n",
      "-----Time for Screened Poisson= 18.779455184936523\n"
     ]
    },
    {
     "name": "stderr",
     "output_type": "stream",
     "text": [
      "face_normals all zero, ignoring!\n",
      "face_normals all zero, ignoring!\n",
      "face_normals all zero, ignoring!\n",
      "face_normals all zero, ignoring!\n",
      "face_normals all zero, ignoring!\n",
      "face_normals all zero, ignoring!\n",
      "face_normals all zero, ignoring!\n",
      "face_normals all zero, ignoring!\n",
      "face_normals all zero, ignoring!\n",
      "face_normals all zero, ignoring!\n",
      "face_normals all zero, ignoring!\n",
      "face_normals all zero, ignoring!\n",
      "face_normals all zero, ignoring!\n",
      "face_normals all zero, ignoring!\n",
      "face_normals all zero, ignoring!\n",
      "face_normals all zero, ignoring!\n",
      "face_normals all zero, ignoring!\n",
      "face_normals all zero, ignoring!\n",
      "face_normals all zero, ignoring!\n",
      "face_normals all zero, ignoring!\n",
      "face_normals all zero, ignoring!\n",
      "face_normals all zero, ignoring!\n",
      "face_normals all zero, ignoring!\n",
      "face_normals all zero, ignoring!\n",
      "face_normals all zero, ignoring!\n",
      "face_normals all zero, ignoring!\n",
      "face_normals all zero, ignoring!\n",
      "face_normals all zero, ignoring!\n",
      "face_normals all zero, ignoring!\n",
      "face_normals all zero, ignoring!\n",
      "face_normals all zero, ignoring!\n",
      "face_normals all zero, ignoring!\n",
      "face_normals all zero, ignoring!\n",
      "face_normals all zero, ignoring!\n",
      "face_normals all zero, ignoring!\n",
      "face_normals all zero, ignoring!\n",
      "face_normals all zero, ignoring!\n",
      "face_normals all zero, ignoring!\n",
      "face_normals all zero, ignoring!\n",
      "face_normals all zero, ignoring!\n",
      "face_normals all zero, ignoring!\n",
      "face_normals all zero, ignoring!\n",
      "face_normals all zero, ignoring!\n",
      "face_normals all zero, ignoring!\n",
      "face_normals all zero, ignoring!\n",
      "face_normals all zero, ignoring!\n",
      "face_normals all zero, ignoring!\n",
      "face_normals all zero, ignoring!\n",
      "face_normals all zero, ignoring!\n",
      "face_normals all zero, ignoring!\n",
      "face_normals all zero, ignoring!\n",
      "face_normals all zero, ignoring!\n",
      "face_normals all zero, ignoring!\n",
      "face_normals all zero, ignoring!\n",
      "face_normals all zero, ignoring!\n",
      "face_normals all zero, ignoring!\n"
     ]
    },
    {
     "name": "stdout",
     "output_type": "stream",
     "text": [
      "     Starting Calcification\n",
      "Before mesh subtraction number of skeleton edges = 1732\n",
      "Inside mesh subtraction, len(main_mesh_bbox_restricted.faces) = 110120\n"
     ]
    },
    {
     "data": {
      "application/vnd.jupyter.widget-view+json": {
       "model_id": "5006cdb72d014ccc862b596a6b1cccce",
       "version_major": 2,
       "version_minor": 0
      },
      "text/plain": [
       "HBox(children=(FloatProgress(value=1.0, bar_style='info', max=1.0), HTML(value='')))"
      ]
     },
     "metadata": {},
     "output_type": "display_data"
    },
    {
     "name": "stderr",
     "output_type": "stream",
     "text": [
      "No adjacent faces detected! Did you merge vertices?\n",
      "No adjacent faces detected! Did you merge vertices?\n"
     ]
    },
    {
     "name": "stdout",
     "output_type": "stream",
     "text": [
      "\n",
      "Total Mesh subtraction time = 26.1584\n"
     ]
    },
    {
     "data": {
      "application/vnd.jupyter.widget-view+json": {
       "model_id": "7af413c7fde0451bb9cfdacbf7d02fb1",
       "version_major": 2,
       "version_minor": 0
      },
      "text/plain": [
       "HBox(children=(FloatProgress(value=0.0, max=98.0), HTML(value='')))"
      ]
     },
     "metadata": {},
     "output_type": "display_data"
    },
    {
     "name": "stdout",
     "output_type": "stream",
     "text": [
      "\n",
      "len_subgraphs AT BEGINNING of the loop\n"
     ]
    },
    {
     "data": {
      "application/vnd.jupyter.widget-view+json": {
       "model_id": "937d3c2c3a1c43dd91dc2a2ac018469d",
       "version_major": 2,
       "version_minor": 0
      },
      "text/plain": [
       "HBox(children=(FloatProgress(value=0.0, max=335.0), HTML(value='')))"
      ]
     },
     "metadata": {},
     "output_type": "display_data"
    },
    {
     "name": "stdout",
     "output_type": "stream",
     "text": [
      "all graph is one component!\n",
      "\n",
      "Total time for skeleton stitching = 0.503054141998291\n",
      "The process was using a temp folder\n",
      "Using Distance measure skeletal_distance\n"
     ]
    },
    {
     "data": {
      "application/vnd.jupyter.widget-view+json": {
       "model_id": "79208ba6143f479bab034950c135c0b8",
       "version_major": 2,
       "version_minor": 0
      },
      "text/plain": [
       "HBox(children=(FloatProgress(value=0.0, max=308.0), HTML(value='')))"
      ]
     },
     "metadata": {},
     "output_type": "display_data"
    },
    {
     "name": "stdout",
     "output_type": "stream",
     "text": [
      "    Total time for skeleton and cleaning of branch 3: 9.889389514923096\n",
      "\n",
      "    -- Working on branch 4--\n",
      "     Starting Screened Poisson\n",
      "IN INPUT FILE VALIDATION LOOP\n",
      "LEAVING LOOP, MESH VALIDATED\n",
      "Using port = 8837\n",
      "xvfb-run -n 8837 -s \"-screen 0 800x600x24\" meshlabserver $@  -i /notebooks/neuron_mesh_tools/meshAfterParty/development/temp/None.off -o /notebooks/neuron_mesh_tools/meshAfterParty/development/temp/None_poisson.off -s /notebooks/neuron_mesh_tools/meshAfterParty/development/temp/poisson_766168.mls\n",
      "-----Time for Screened Poisson= 22.00832486152649\n"
     ]
    },
    {
     "name": "stderr",
     "output_type": "stream",
     "text": [
      "face_normals all zero, ignoring!\n",
      "face_normals all zero, ignoring!\n",
      "face_normals all zero, ignoring!\n",
      "face_normals all zero, ignoring!\n",
      "face_normals all zero, ignoring!\n",
      "face_normals all zero, ignoring!\n",
      "face_normals all zero, ignoring!\n",
      "face_normals all zero, ignoring!\n",
      "face_normals all zero, ignoring!\n",
      "face_normals all zero, ignoring!\n",
      "face_normals all zero, ignoring!\n",
      "face_normals all zero, ignoring!\n",
      "face_normals all zero, ignoring!\n",
      "face_normals all zero, ignoring!\n",
      "face_normals all zero, ignoring!\n",
      "face_normals all zero, ignoring!\n",
      "face_normals all zero, ignoring!\n",
      "face_normals all zero, ignoring!\n",
      "face_normals all zero, ignoring!\n",
      "face_normals all zero, ignoring!\n",
      "face_normals all zero, ignoring!\n",
      "face_normals all zero, ignoring!\n",
      "face_normals all zero, ignoring!\n",
      "face_normals all zero, ignoring!\n",
      "face_normals all zero, ignoring!\n",
      "face_normals all zero, ignoring!\n",
      "face_normals all zero, ignoring!\n",
      "face_normals all zero, ignoring!\n",
      "face_normals all zero, ignoring!\n",
      "face_normals all zero, ignoring!\n",
      "face_normals all zero, ignoring!\n",
      "face_normals all zero, ignoring!\n",
      "face_normals all zero, ignoring!\n",
      "face_normals all zero, ignoring!\n",
      "face_normals all zero, ignoring!\n",
      "face_normals all zero, ignoring!\n",
      "face_normals all zero, ignoring!\n",
      "face_normals all zero, ignoring!\n",
      "face_normals all zero, ignoring!\n",
      "face_normals all zero, ignoring!\n",
      "face_normals all zero, ignoring!\n",
      "face_normals all zero, ignoring!\n",
      "face_normals all zero, ignoring!\n",
      "face_normals all zero, ignoring!\n",
      "face_normals all zero, ignoring!\n",
      "face_normals all zero, ignoring!\n",
      "face_normals all zero, ignoring!\n",
      "face_normals all zero, ignoring!\n",
      "face_normals all zero, ignoring!\n",
      "face_normals all zero, ignoring!\n",
      "face_normals all zero, ignoring!\n",
      "face_normals all zero, ignoring!\n",
      "face_normals all zero, ignoring!\n",
      "face_normals all zero, ignoring!\n",
      "face_normals all zero, ignoring!\n",
      "face_normals all zero, ignoring!\n",
      "face_normals all zero, ignoring!\n",
      "face_normals all zero, ignoring!\n",
      "face_normals all zero, ignoring!\n",
      "face_normals all zero, ignoring!\n",
      "face_normals all zero, ignoring!\n",
      "face_normals all zero, ignoring!\n",
      "face_normals all zero, ignoring!\n",
      "face_normals all zero, ignoring!\n",
      "face_normals all zero, ignoring!\n",
      "face_normals all zero, ignoring!\n",
      "face_normals all zero, ignoring!\n",
      "face_normals all zero, ignoring!\n",
      "face_normals all zero, ignoring!\n",
      "face_normals all zero, ignoring!\n",
      "face_normals all zero, ignoring!\n",
      "face_normals all zero, ignoring!\n",
      "face_normals all zero, ignoring!\n",
      "face_normals all zero, ignoring!\n",
      "face_normals all zero, ignoring!\n",
      "face_normals all zero, ignoring!\n",
      "face_normals all zero, ignoring!\n",
      "face_normals all zero, ignoring!\n",
      "face_normals all zero, ignoring!\n",
      "face_normals all zero, ignoring!\n",
      "face_normals all zero, ignoring!\n",
      "face_normals all zero, ignoring!\n",
      "face_normals all zero, ignoring!\n",
      "face_normals all zero, ignoring!\n",
      "face_normals all zero, ignoring!\n",
      "face_normals all zero, ignoring!\n",
      "face_normals all zero, ignoring!\n",
      "face_normals all zero, ignoring!\n",
      "face_normals all zero, ignoring!\n",
      "face_normals all zero, ignoring!\n",
      "face_normals all zero, ignoring!\n",
      "face_normals all zero, ignoring!\n",
      "face_normals all zero, ignoring!\n",
      "face_normals all zero, ignoring!\n",
      "face_normals all zero, ignoring!\n",
      "face_normals all zero, ignoring!\n",
      "face_normals all zero, ignoring!\n",
      "face_normals all zero, ignoring!\n",
      "face_normals all zero, ignoring!\n",
      "face_normals all zero, ignoring!\n",
      "face_normals all zero, ignoring!\n",
      "face_normals all zero, ignoring!\n",
      "face_normals all zero, ignoring!\n",
      "face_normals all zero, ignoring!\n",
      "face_normals all zero, ignoring!\n",
      "face_normals all zero, ignoring!\n",
      "face_normals all zero, ignoring!\n",
      "face_normals all zero, ignoring!\n",
      "face_normals all zero, ignoring!\n",
      "face_normals all zero, ignoring!\n",
      "face_normals all zero, ignoring!\n",
      "face_normals all zero, ignoring!\n",
      "face_normals all zero, ignoring!\n",
      "face_normals all zero, ignoring!\n",
      "face_normals all zero, ignoring!\n",
      "face_normals all zero, ignoring!\n",
      "face_normals all zero, ignoring!\n",
      "face_normals all zero, ignoring!\n",
      "face_normals all zero, ignoring!\n",
      "face_normals all zero, ignoring!\n",
      "face_normals all zero, ignoring!\n",
      "face_normals all zero, ignoring!\n",
      "face_normals all zero, ignoring!\n",
      "face_normals all zero, ignoring!\n",
      "face_normals all zero, ignoring!\n",
      "face_normals all zero, ignoring!\n",
      "face_normals all zero, ignoring!\n",
      "face_normals all zero, ignoring!\n",
      "face_normals all zero, ignoring!\n",
      "face_normals all zero, ignoring!\n",
      "face_normals all zero, ignoring!\n",
      "face_normals all zero, ignoring!\n",
      "face_normals all zero, ignoring!\n",
      "face_normals all zero, ignoring!\n",
      "face_normals all zero, ignoring!\n",
      "face_normals all zero, ignoring!\n",
      "face_normals all zero, ignoring!\n",
      "face_normals all zero, ignoring!\n",
      "face_normals all zero, ignoring!\n",
      "face_normals all zero, ignoring!\n",
      "face_normals all zero, ignoring!\n",
      "face_normals all zero, ignoring!\n",
      "face_normals all zero, ignoring!\n",
      "face_normals all zero, ignoring!\n",
      "face_normals all zero, ignoring!\n",
      "face_normals all zero, ignoring!\n",
      "face_normals all zero, ignoring!\n",
      "face_normals all zero, ignoring!\n",
      "face_normals all zero, ignoring!\n",
      "face_normals all zero, ignoring!\n",
      "face_normals all zero, ignoring!\n",
      "face_normals all zero, ignoring!\n",
      "face_normals all zero, ignoring!\n",
      "face_normals all zero, ignoring!\n",
      "face_normals all zero, ignoring!\n",
      "face_normals all zero, ignoring!\n",
      "face_normals all zero, ignoring!\n",
      "face_normals all zero, ignoring!\n",
      "face_normals all zero, ignoring!\n",
      "face_normals all zero, ignoring!\n",
      "face_normals all zero, ignoring!\n",
      "face_normals all zero, ignoring!\n",
      "face_normals all zero, ignoring!\n",
      "face_normals all zero, ignoring!\n",
      "face_normals all zero, ignoring!\n",
      "face_normals all zero, ignoring!\n",
      "face_normals all zero, ignoring!\n",
      "face_normals all zero, ignoring!\n",
      "face_normals all zero, ignoring!\n",
      "face_normals all zero, ignoring!\n",
      "face_normals all zero, ignoring!\n",
      "face_normals all zero, ignoring!\n",
      "face_normals all zero, ignoring!\n",
      "face_normals all zero, ignoring!\n",
      "face_normals all zero, ignoring!\n",
      "face_normals all zero, ignoring!\n",
      "face_normals all zero, ignoring!\n"
     ]
    },
    {
     "name": "stdout",
     "output_type": "stream",
     "text": [
      "     Starting Calcification\n",
      "Before mesh subtraction number of skeleton edges = 1804\n",
      "Inside mesh subtraction, len(main_mesh_bbox_restricted.faces) = 107788\n"
     ]
    },
    {
     "data": {
      "application/vnd.jupyter.widget-view+json": {
       "model_id": "1ec0cbfd83174b758359d08eb1cdcbb2",
       "version_major": 2,
       "version_minor": 0
      },
      "text/plain": [
       "HBox(children=(FloatProgress(value=1.0, bar_style='info', max=1.0), HTML(value='')))"
      ]
     },
     "metadata": {},
     "output_type": "display_data"
    },
    {
     "name": "stdout",
     "output_type": "stream",
     "text": [
      "\n",
      "Total Mesh subtraction time = 22.9723\n"
     ]
    },
    {
     "data": {
      "application/vnd.jupyter.widget-view+json": {
       "model_id": "ca6bdd6403764d458faa2cb3a15bdeb3",
       "version_major": 2,
       "version_minor": 0
      },
      "text/plain": [
       "HBox(children=(FloatProgress(value=0.0, max=112.0), HTML(value='')))"
      ]
     },
     "metadata": {},
     "output_type": "display_data"
    },
    {
     "name": "stdout",
     "output_type": "stream",
     "text": [
      "\n",
      "len_subgraphs AT BEGINNING of the loop\n"
     ]
    },
    {
     "data": {
      "application/vnd.jupyter.widget-view+json": {
       "model_id": "5cbf370dae6842be9d137b764f685ece",
       "version_major": 2,
       "version_minor": 0
      },
      "text/plain": [
       "HBox(children=(FloatProgress(value=0.0, max=321.0), HTML(value='')))"
      ]
     },
     "metadata": {},
     "output_type": "display_data"
    },
    {
     "name": "stdout",
     "output_type": "stream",
     "text": [
      "all graph is one component!\n",
      "Total time for skeleton stitching = 0.45496058464050293\n",
      "The process was using a temp folder\n",
      "Using Distance measure skeletal_distance\n"
     ]
    },
    {
     "data": {
      "application/vnd.jupyter.widget-view+json": {
       "model_id": "2556716e4fe347329b8989d2135b3ccb",
       "version_major": 2,
       "version_minor": 0
      },
      "text/plain": [
       "HBox(children=(FloatProgress(value=0.0, max=240.0), HTML(value='')))"
      ]
     },
     "metadata": {},
     "output_type": "display_data"
    },
    {
     "name": "stdout",
     "output_type": "stream",
     "text": [
      "    Total time for skeleton and cleaning of branch 4: 7.895938158035278\n",
      "\n",
      "    -- Working on branch 5--\n",
      "     Starting Screened Poisson\n",
      "IN INPUT FILE VALIDATION LOOP\n",
      "\n",
      "LEAVING LOOP, MESH VALIDATED\n",
      "Using port = 5516\n",
      "xvfb-run -n 5516 -s \"-screen 0 800x600x24\" meshlabserver $@  -i /notebooks/neuron_mesh_tools/meshAfterParty/development/temp/None.off -o /notebooks/neuron_mesh_tools/meshAfterParty/development/temp/None_poisson.off -s /notebooks/neuron_mesh_tools/meshAfterParty/development/temp/poisson_957740.mls\n",
      "-----Time for Screened Poisson= 16.11524224281311\n"
     ]
    },
    {
     "name": "stderr",
     "output_type": "stream",
     "text": [
      "face_normals all zero, ignoring!\n",
      "face_normals all zero, ignoring!\n",
      "face_normals all zero, ignoring!\n",
      "face_normals all zero, ignoring!\n",
      "face_normals all zero, ignoring!\n",
      "face_normals all zero, ignoring!\n",
      "face_normals all zero, ignoring!\n",
      "face_normals all zero, ignoring!\n",
      "face_normals all zero, ignoring!\n",
      "face_normals all zero, ignoring!\n",
      "face_normals all zero, ignoring!\n",
      "face_normals all zero, ignoring!\n",
      "face_normals all zero, ignoring!\n",
      "face_normals all zero, ignoring!\n",
      "face_normals all zero, ignoring!\n",
      "face_normals all zero, ignoring!\n",
      "face_normals all zero, ignoring!\n",
      "face_normals all zero, ignoring!\n",
      "face_normals all zero, ignoring!\n",
      "face_normals all zero, ignoring!\n",
      "face_normals all zero, ignoring!\n",
      "face_normals all zero, ignoring!\n",
      "face_normals all zero, ignoring!\n",
      "face_normals all zero, ignoring!\n",
      "face_normals all zero, ignoring!\n",
      "face_normals all zero, ignoring!\n",
      "face_normals all zero, ignoring!\n",
      "face_normals all zero, ignoring!\n",
      "face_normals all zero, ignoring!\n",
      "face_normals all zero, ignoring!\n",
      "face_normals all zero, ignoring!\n",
      "face_normals all zero, ignoring!\n",
      "face_normals all zero, ignoring!\n",
      "face_normals all zero, ignoring!\n",
      "face_normals all zero, ignoring!\n",
      "face_normals all zero, ignoring!\n",
      "face_normals all zero, ignoring!\n",
      "face_normals all zero, ignoring!\n",
      "face_normals all zero, ignoring!\n",
      "face_normals all zero, ignoring!\n",
      "face_normals all zero, ignoring!\n",
      "face_normals all zero, ignoring!\n",
      "face_normals all zero, ignoring!\n",
      "face_normals all zero, ignoring!\n",
      "face_normals all zero, ignoring!\n",
      "face_normals all zero, ignoring!\n",
      "face_normals all zero, ignoring!\n",
      "face_normals all zero, ignoring!\n",
      "face_normals all zero, ignoring!\n",
      "face_normals all zero, ignoring!\n"
     ]
    },
    {
     "name": "stdout",
     "output_type": "stream",
     "text": [
      "     Starting Calcification\n",
      "Before mesh subtraction number of skeleton edges = 1309\n",
      "Inside mesh subtraction, len(main_mesh_bbox_restricted.faces) = 104099\n"
     ]
    },
    {
     "data": {
      "application/vnd.jupyter.widget-view+json": {
       "model_id": "bc78d4a3c5304ba7af76d9d94e5c58e5",
       "version_major": 2,
       "version_minor": 0
      },
      "text/plain": [
       "HBox(children=(FloatProgress(value=1.0, bar_style='info', max=1.0), HTML(value='')))"
      ]
     },
     "metadata": {},
     "output_type": "display_data"
    },
    {
     "name": "stdout",
     "output_type": "stream",
     "text": [
      "\n",
      "Total Mesh subtraction time = 18.3179\n"
     ]
    },
    {
     "data": {
      "application/vnd.jupyter.widget-view+json": {
       "model_id": "23435f38ac5e42898d15d318a6964fb6",
       "version_major": 2,
       "version_minor": 0
      },
      "text/plain": [
       "HBox(children=(FloatProgress(value=0.0, max=46.0), HTML(value='')))"
      ]
     },
     "metadata": {},
     "output_type": "display_data"
    },
    {
     "name": "stdout",
     "output_type": "stream",
     "text": [
      "\n",
      "len_subgraphs AT BEGINNING of the loop\n"
     ]
    },
    {
     "data": {
      "application/vnd.jupyter.widget-view+json": {
       "model_id": "855efebedf5f439aa69ece3594de7ee3",
       "version_major": 2,
       "version_minor": 0
      },
      "text/plain": [
       "HBox(children=(FloatProgress(value=0.0, max=174.0), HTML(value='')))"
      ]
     },
     "metadata": {},
     "output_type": "display_data"
    },
    {
     "name": "stdout",
     "output_type": "stream",
     "text": [
      "all graph is one component!\n",
      "Total time for skeleton stitching = 0.19295525550842285\n",
      "The process was using a temp folder\n",
      "\n",
      "Using Distance measure skeletal_distance\n"
     ]
    },
    {
     "data": {
      "application/vnd.jupyter.widget-view+json": {
       "model_id": "8d84087190bc4bb3bfe3159bab6e2355",
       "version_major": 2,
       "version_minor": 0
      },
      "text/plain": [
       "HBox(children=(FloatProgress(value=0.0, max=194.0), HTML(value='')))"
      ]
     },
     "metadata": {},
     "output_type": "display_data"
    },
    {
     "name": "stdout",
     "output_type": "stream",
     "text": [
      "    Total time for skeleton and cleaning of branch 5: 3.916672706604004\n",
      "\n",
      "    -- Working on branch 6--\n",
      "     Starting Screened Poisson\n",
      "IN INPUT FILE VALIDATION LOOP\n",
      "\n",
      "LEAVING LOOP, MESH VALIDATED\n",
      "Using port = 5459\n",
      "xvfb-run -n 5459 -s \"-screen 0 800x600x24\" meshlabserver $@  -i /notebooks/neuron_mesh_tools/meshAfterParty/development/temp/None.off -o /notebooks/neuron_mesh_tools/meshAfterParty/development/temp/None_poisson.off -s /notebooks/neuron_mesh_tools/meshAfterParty/development/temp/poisson_255501.mls\n"
     ]
    },
    {
     "name": "stderr",
     "output_type": "stream",
     "text": [
      "face_normals all zero, ignoring!\n",
      "face_normals all zero, ignoring!\n"
     ]
    },
    {
     "name": "stdout",
     "output_type": "stream",
     "text": [
      "-----Time for Screened Poisson= 12.972968339920044\n"
     ]
    },
    {
     "name": "stderr",
     "output_type": "stream",
     "text": [
      "face_normals all zero, ignoring!\n",
      "face_normals all zero, ignoring!\n",
      "face_normals all zero, ignoring!\n",
      "face_normals all zero, ignoring!\n",
      "face_normals all zero, ignoring!\n",
      "face_normals all zero, ignoring!\n",
      "face_normals all zero, ignoring!\n",
      "face_normals all zero, ignoring!\n",
      "face_normals all zero, ignoring!\n",
      "face_normals all zero, ignoring!\n",
      "face_normals all zero, ignoring!\n",
      "face_normals all zero, ignoring!\n",
      "face_normals all zero, ignoring!\n",
      "face_normals all zero, ignoring!\n",
      "face_normals all zero, ignoring!\n",
      "face_normals all zero, ignoring!\n",
      "face_normals all zero, ignoring!\n",
      "face_normals all zero, ignoring!\n",
      "face_normals all zero, ignoring!\n"
     ]
    },
    {
     "name": "stdout",
     "output_type": "stream",
     "text": [
      "     Starting Calcification\n",
      "Before mesh subtraction number of skeleton edges = 1112\n",
      "Inside mesh subtraction, len(main_mesh_bbox_restricted.faces) = 58779\n"
     ]
    },
    {
     "data": {
      "application/vnd.jupyter.widget-view+json": {
       "model_id": "624bd9152c7e4028a77aa46c73608cbb",
       "version_major": 2,
       "version_minor": 0
      },
      "text/plain": [
       "HBox(children=(FloatProgress(value=1.0, bar_style='info', max=1.0), HTML(value='')))"
      ]
     },
     "metadata": {},
     "output_type": "display_data"
    },
    {
     "name": "stderr",
     "output_type": "stream",
     "text": [
      "No adjacent faces detected! Did you merge vertices?\n",
      "No adjacent faces detected! Did you merge vertices?\n",
      "No adjacent faces detected! Did you merge vertices?\n"
     ]
    },
    {
     "name": "stdout",
     "output_type": "stream",
     "text": [
      "\n",
      "Total Mesh subtraction time = 13.6273\n"
     ]
    },
    {
     "data": {
      "application/vnd.jupyter.widget-view+json": {
       "model_id": "6feafbfd85b647f1851ad241ad12b8d1",
       "version_major": 2,
       "version_minor": 0
      },
      "text/plain": [
       "HBox(children=(FloatProgress(value=0.0, max=54.0), HTML(value='')))"
      ]
     },
     "metadata": {},
     "output_type": "display_data"
    },
    {
     "name": "stdout",
     "output_type": "stream",
     "text": [
      "\n",
      "len_subgraphs AT BEGINNING of the loop\n"
     ]
    },
    {
     "data": {
      "application/vnd.jupyter.widget-view+json": {
       "model_id": "e60d99bedaa0407c93acf2d9a1d2b7fe",
       "version_major": 2,
       "version_minor": 0
      },
      "text/plain": [
       "HBox(children=(FloatProgress(value=0.0, max=172.0), HTML(value='')))"
      ]
     },
     "metadata": {},
     "output_type": "display_data"
    },
    {
     "name": "stdout",
     "output_type": "stream",
     "text": [
      "all graph is one component!\n",
      "Total time for skeleton stitching = 0.18600034713745117\n",
      "The process was using a temp folder\n",
      "\n",
      "Using Distance measure skeletal_distance\n"
     ]
    },
    {
     "data": {
      "application/vnd.jupyter.widget-view+json": {
       "model_id": "9475facba16d4beab6bb2b64c294eadc",
       "version_major": 2,
       "version_minor": 0
      },
      "text/plain": [
       "HBox(children=(FloatProgress(value=0.0, max=161.0), HTML(value='')))"
      ]
     },
     "metadata": {},
     "output_type": "display_data"
    },
    {
     "name": "stdout",
     "output_type": "stream",
     "text": [
      "    Total time for skeleton and cleaning of branch 6: 2.9872303009033203\n",
      "\n",
      "    -- Working on branch 7--\n",
      "     Starting Screened Poisson\n",
      "IN INPUT FILE VALIDATION LOOP\n",
      "\n",
      "LEAVING LOOP, MESH VALIDATED\n",
      "Using port = 1496\n",
      "xvfb-run -n 1496 -s \"-screen 0 800x600x24\" meshlabserver $@  -i /notebooks/neuron_mesh_tools/meshAfterParty/development/temp/None.off -o /notebooks/neuron_mesh_tools/meshAfterParty/development/temp/None_poisson.off -s /notebooks/neuron_mesh_tools/meshAfterParty/development/temp/poisson_863269.mls\n",
      "-----Time for Screened Poisson= 14.765190601348877\n"
     ]
    },
    {
     "name": "stderr",
     "output_type": "stream",
     "text": [
      "face_normals all zero, ignoring!\n",
      "face_normals all zero, ignoring!\n",
      "face_normals all zero, ignoring!\n",
      "face_normals all zero, ignoring!\n",
      "face_normals all zero, ignoring!\n",
      "face_normals all zero, ignoring!\n",
      "face_normals all zero, ignoring!\n",
      "face_normals all zero, ignoring!\n",
      "face_normals all zero, ignoring!\n",
      "face_normals all zero, ignoring!\n",
      "face_normals all zero, ignoring!\n",
      "face_normals all zero, ignoring!\n",
      "face_normals all zero, ignoring!\n",
      "face_normals all zero, ignoring!\n",
      "face_normals all zero, ignoring!\n",
      "face_normals all zero, ignoring!\n",
      "face_normals all zero, ignoring!\n",
      "face_normals all zero, ignoring!\n",
      "face_normals all zero, ignoring!\n",
      "face_normals all zero, ignoring!\n",
      "face_normals all zero, ignoring!\n",
      "face_normals all zero, ignoring!\n",
      "face_normals all zero, ignoring!\n",
      "face_normals all zero, ignoring!\n",
      "face_normals all zero, ignoring!\n",
      "face_normals all zero, ignoring!\n",
      "face_normals all zero, ignoring!\n",
      "face_normals all zero, ignoring!\n",
      "face_normals all zero, ignoring!\n",
      "face_normals all zero, ignoring!\n",
      "face_normals all zero, ignoring!\n",
      "face_normals all zero, ignoring!\n",
      "face_normals all zero, ignoring!\n",
      "face_normals all zero, ignoring!\n",
      "face_normals all zero, ignoring!\n",
      "face_normals all zero, ignoring!\n",
      "face_normals all zero, ignoring!\n",
      "face_normals all zero, ignoring!\n",
      "face_normals all zero, ignoring!\n",
      "face_normals all zero, ignoring!\n",
      "face_normals all zero, ignoring!\n",
      "face_normals all zero, ignoring!\n",
      "face_normals all zero, ignoring!\n",
      "face_normals all zero, ignoring!\n",
      "face_normals all zero, ignoring!\n",
      "face_normals all zero, ignoring!\n"
     ]
    },
    {
     "name": "stdout",
     "output_type": "stream",
     "text": [
      "     Starting Calcification\n",
      "Before mesh subtraction number of skeleton edges = 1097\n",
      "Inside mesh subtraction, len(main_mesh_bbox_restricted.faces) = 58543\n"
     ]
    },
    {
     "data": {
      "application/vnd.jupyter.widget-view+json": {
       "model_id": "6a5dd9f612ae4beda80b1692412611c9",
       "version_major": 2,
       "version_minor": 0
      },
      "text/plain": [
       "HBox(children=(FloatProgress(value=1.0, bar_style='info', max=1.0), HTML(value='')))"
      ]
     },
     "metadata": {},
     "output_type": "display_data"
    },
    {
     "name": "stderr",
     "output_type": "stream",
     "text": [
      "No adjacent faces detected! Did you merge vertices?\n"
     ]
    },
    {
     "name": "stdout",
     "output_type": "stream",
     "text": [
      "\n",
      "Total Mesh subtraction time = 16.4507\n"
     ]
    },
    {
     "data": {
      "application/vnd.jupyter.widget-view+json": {
       "model_id": "44ef282712a742dca273e5819ba9ec65",
       "version_major": 2,
       "version_minor": 0
      },
      "text/plain": [
       "HBox(children=(FloatProgress(value=0.0, max=53.0), HTML(value='')))"
      ]
     },
     "metadata": {},
     "output_type": "display_data"
    },
    {
     "name": "stdout",
     "output_type": "stream",
     "text": [
      "\n",
      "len_subgraphs AT BEGINNING of the loop\n"
     ]
    },
    {
     "data": {
      "application/vnd.jupyter.widget-view+json": {
       "model_id": "5392b6433f774da5835382a7c4b58d4f",
       "version_major": 2,
       "version_minor": 0
      },
      "text/plain": [
       "HBox(children=(FloatProgress(value=0.0, max=202.0), HTML(value='')))"
      ]
     },
     "metadata": {},
     "output_type": "display_data"
    },
    {
     "name": "stdout",
     "output_type": "stream",
     "text": [
      "all graph is one component!\n",
      "Total time for skeleton stitching = 0.6845259666442871\n",
      "The process was using a temp folder\n",
      "\n",
      "Using Distance measure skeletal_distance\n"
     ]
    },
    {
     "data": {
      "application/vnd.jupyter.widget-view+json": {
       "model_id": "37b4540107f645d0ac1d4b27c01056b5",
       "version_major": 2,
       "version_minor": 0
      },
      "text/plain": [
       "HBox(children=(FloatProgress(value=0.0, max=182.0), HTML(value='')))"
      ]
     },
     "metadata": {},
     "output_type": "display_data"
    },
    {
     "name": "stdout",
     "output_type": "stream",
     "text": [
      "    Total time for skeleton and cleaning of branch 7: 3.774670124053955\n",
      "\n",
      "    -- Working on branch 8--\n",
      "     Starting Screened Poisson\n",
      "IN INPUT FILE VALIDATION LOOP\n",
      "LEAVING LOOP, MESH VALIDATED\n",
      "Using port = 7104\n",
      "xvfb-run -n 7104 -s \"-screen 0 800x600x24\" meshlabserver $@  -i /notebooks/neuron_mesh_tools/meshAfterParty/development/temp/None.off -o /notebooks/neuron_mesh_tools/meshAfterParty/development/temp/None_poisson.off -s /notebooks/neuron_mesh_tools/meshAfterParty/development/temp/poisson_180774.mls\n"
     ]
    },
    {
     "name": "stderr",
     "output_type": "stream",
     "text": [
      "face_normals all zero, ignoring!\n",
      "face_normals all zero, ignoring!\n",
      "face_normals all zero, ignoring!\n",
      "face_normals all zero, ignoring!\n",
      "face_normals all zero, ignoring!\n",
      "face_normals all zero, ignoring!\n",
      "face_normals all zero, ignoring!\n",
      "face_normals all zero, ignoring!\n",
      "face_normals all zero, ignoring!\n",
      "face_normals all zero, ignoring!\n"
     ]
    },
    {
     "name": "stdout",
     "output_type": "stream",
     "text": [
      "-----Time for Screened Poisson= 9.28303861618042\n",
      "     Starting Calcification\n",
      "Before mesh subtraction number of skeleton edges = 554\n",
      "Inside mesh subtraction, len(main_mesh_bbox_restricted.faces) = 29598\n"
     ]
    },
    {
     "data": {
      "application/vnd.jupyter.widget-view+json": {
       "model_id": "a513060c30af4581be36107d068662b3",
       "version_major": 2,
       "version_minor": 0
      },
      "text/plain": [
       "HBox(children=(FloatProgress(value=1.0, bar_style='info', max=1.0), HTML(value='')))"
      ]
     },
     "metadata": {},
     "output_type": "display_data"
    },
    {
     "name": "stderr",
     "output_type": "stream",
     "text": [
      "No adjacent faces detected! Did you merge vertices?\n"
     ]
    },
    {
     "name": "stdout",
     "output_type": "stream",
     "text": [
      "\n",
      "Total Mesh subtraction time = 6.5177\n"
     ]
    },
    {
     "data": {
      "application/vnd.jupyter.widget-view+json": {
       "model_id": "4602018afe6e45adbed51e2e4606de8a",
       "version_major": 2,
       "version_minor": 0
      },
      "text/plain": [
       "HBox(children=(FloatProgress(value=0.0, max=38.0), HTML(value='')))"
      ]
     },
     "metadata": {},
     "output_type": "display_data"
    },
    {
     "name": "stdout",
     "output_type": "stream",
     "text": [
      "\n",
      "len_subgraphs AT BEGINNING of the loop\n"
     ]
    },
    {
     "data": {
      "application/vnd.jupyter.widget-view+json": {
       "model_id": "b7d75ebb51ae4b79b79129f1915bdaf4",
       "version_major": 2,
       "version_minor": 0
      },
      "text/plain": [
       "HBox(children=(FloatProgress(value=0.0, max=96.0), HTML(value='')))"
      ]
     },
     "metadata": {},
     "output_type": "display_data"
    },
    {
     "name": "stdout",
     "output_type": "stream",
     "text": [
      "all graph is one component!\n",
      "Total time for skeleton stitching = 0.322969913482666\n",
      "The process was using a temp folder\n",
      "\n",
      "Using Distance measure skeletal_distance\n"
     ]
    },
    {
     "data": {
      "application/vnd.jupyter.widget-view+json": {
       "model_id": "a319403f932b443ab241d7fb048f6bdf",
       "version_major": 2,
       "version_minor": 0
      },
      "text/plain": [
       "HBox(children=(FloatProgress(value=0.0, max=80.0), HTML(value='')))"
      ]
     },
     "metadata": {},
     "output_type": "display_data"
    },
    {
     "name": "stdout",
     "output_type": "stream",
     "text": [
      "\n",
      "    Total time for skeleton and cleaning of branch 8: 0.885260820388794\n",
      "\n",
      "    -- Working on branch 9--\n",
      "     Starting Screened Poisson\n",
      "IN INPUT FILE VALIDATION LOOP\n",
      "LEAVING LOOP, MESH VALIDATED\n",
      "Using port = 4888\n",
      "xvfb-run -n 4888 -s \"-screen 0 800x600x24\" meshlabserver $@  -i /notebooks/neuron_mesh_tools/meshAfterParty/development/temp/None.off -o /notebooks/neuron_mesh_tools/meshAfterParty/development/temp/None_poisson.off -s /notebooks/neuron_mesh_tools/meshAfterParty/development/temp/poisson_226995.mls\n"
     ]
    },
    {
     "name": "stderr",
     "output_type": "stream",
     "text": [
      "face_normals all zero, ignoring!\n",
      "face_normals all zero, ignoring!\n",
      "face_normals all zero, ignoring!\n",
      "face_normals all zero, ignoring!\n",
      "face_normals all zero, ignoring!\n",
      "face_normals all zero, ignoring!\n",
      "face_normals all zero, ignoring!\n"
     ]
    },
    {
     "name": "stdout",
     "output_type": "stream",
     "text": [
      "-----Time for Screened Poisson= 6.787343740463257\n",
      "     Starting Calcification\n",
      "Before mesh subtraction number of skeleton edges = 201\n",
      "Inside mesh subtraction, len(main_mesh_bbox_restricted.faces) = 7718\n"
     ]
    },
    {
     "data": {
      "application/vnd.jupyter.widget-view+json": {
       "model_id": "fcaf2f57518c472186c50e44b2d3d852",
       "version_major": 2,
       "version_minor": 0
      },
      "text/plain": [
       "HBox(children=(FloatProgress(value=1.0, bar_style='info', max=1.0), HTML(value='')))"
      ]
     },
     "metadata": {},
     "output_type": "display_data"
    },
    {
     "name": "stdout",
     "output_type": "stream",
     "text": [
      "\n",
      "Total Mesh subtraction time = 0.9809\n"
     ]
    },
    {
     "data": {
      "application/vnd.jupyter.widget-view+json": {
       "model_id": "eccb14a903a342b2badc693a8667cdda",
       "version_major": 2,
       "version_minor": 0
      },
      "text/plain": [
       "HBox(children=(FloatProgress(value=0.0, max=5.0), HTML(value='')))"
      ]
     },
     "metadata": {},
     "output_type": "display_data"
    },
    {
     "name": "stdout",
     "output_type": "stream",
     "text": [
      "\n",
      "len_subgraphs AT BEGINNING of the loop\n"
     ]
    },
    {
     "data": {
      "application/vnd.jupyter.widget-view+json": {
       "model_id": "b5b330672a7641e0876952a8f3eb1f46",
       "version_major": 2,
       "version_minor": 0
      },
      "text/plain": [
       "HBox(children=(FloatProgress(value=0.0, max=19.0), HTML(value='')))"
      ]
     },
     "metadata": {},
     "output_type": "display_data"
    },
    {
     "name": "stdout",
     "output_type": "stream",
     "text": [
      "all graph is one component!\n",
      "Total time for skeleton stitching = 0.08394551277160645\n",
      "The process was using a temp folder\n",
      "\n",
      "Using Distance measure skeletal_distance\n"
     ]
    },
    {
     "data": {
      "application/vnd.jupyter.widget-view+json": {
       "model_id": "a28150b8af424602b07893259b52ca8b",
       "version_major": 2,
       "version_minor": 0
      },
      "text/plain": [
       "HBox(children=(FloatProgress(value=0.0, max=8.0), HTML(value='')))"
      ]
     },
     "metadata": {},
     "output_type": "display_data"
    },
    {
     "name": "stdout",
     "output_type": "stream",
     "text": [
      "\n",
      "    Total time for skeleton and cleaning of branch 9: 0.06630063056945801\n",
      "\n",
      "    -- Working on branch 10--\n",
      "     Starting Screened Poisson\n",
      "IN INPUT FILE VALIDATION LOOP\n",
      "LEAVING LOOP, MESH VALIDATED\n",
      "Using port = 6356\n",
      "xvfb-run -n 6356 -s \"-screen 0 800x600x24\" meshlabserver $@  -i /notebooks/neuron_mesh_tools/meshAfterParty/development/temp/None.off -o /notebooks/neuron_mesh_tools/meshAfterParty/development/temp/None_poisson.off -s /notebooks/neuron_mesh_tools/meshAfterParty/development/temp/poisson_6365.mls\n"
     ]
    },
    {
     "name": "stderr",
     "output_type": "stream",
     "text": [
      "face_normals all zero, ignoring!\n"
     ]
    },
    {
     "name": "stdout",
     "output_type": "stream",
     "text": [
      "-----Time for Screened Poisson= 5.567863702774048\n",
      "     Starting Calcification\n",
      "only one skeleton so no stacking needed\n",
      "Before mesh subtraction number of skeleton edges = 27\n",
      "Inside mesh subtraction, len(main_mesh_bbox_restricted.faces) = 2184\n"
     ]
    },
    {
     "data": {
      "application/vnd.jupyter.widget-view+json": {
       "model_id": "db8ba78df2b1400aa24046e81e89be2b",
       "version_major": 2,
       "version_minor": 0
      },
      "text/plain": [
       "HBox(children=(FloatProgress(value=1.0, bar_style='info', max=1.0), HTML(value='')))"
      ]
     },
     "metadata": {},
     "output_type": "display_data"
    },
    {
     "name": "stdout",
     "output_type": "stream",
     "text": [
      "\n",
      "Total Mesh subtraction time = 0.1503\n"
     ]
    },
    {
     "data": {
      "application/vnd.jupyter.widget-view+json": {
       "model_id": "117d46edd1b3400b8835328c7463bc8b",
       "version_major": 2,
       "version_minor": 0
      },
      "text/plain": [
       "HBox(children=(FloatProgress(value=0.0, max=2.0), HTML(value='')))"
      ]
     },
     "metadata": {},
     "output_type": "display_data"
    },
    {
     "name": "stdout",
     "output_type": "stream",
     "text": [
      "\n",
      "len_subgraphs AT BEGINNING of the loop\n"
     ]
    },
    {
     "data": {
      "application/vnd.jupyter.widget-view+json": {
       "model_id": "24d390104e1e47699fcbdb9b7dcc1172",
       "version_major": 2,
       "version_minor": 0
      },
      "text/plain": [
       "HBox(children=(FloatProgress(value=0.0, max=3.0), HTML(value='')))"
      ]
     },
     "metadata": {},
     "output_type": "display_data"
    },
    {
     "name": "stdout",
     "output_type": "stream",
     "text": [
      "all graph is one component!\n",
      "Total time for skeleton stitching = 0.03222990036010742\n",
      "The process was using a temp folder\n",
      "\n",
      "Using Distance measure skeletal_distance\n"
     ]
    },
    {
     "data": {
      "application/vnd.jupyter.widget-view+json": {
       "model_id": "3188ace17aff457f9c47162aa265b6f6",
       "version_major": 2,
       "version_minor": 0
      },
      "text/plain": [
       "HBox(children=(FloatProgress(value=0.0, max=2.0), HTML(value='')))"
      ]
     },
     "metadata": {},
     "output_type": "display_data"
    },
    {
     "name": "stdout",
     "output_type": "stream",
     "text": [
      "    Total time for skeleton and cleaning of branch 10: 0.02463221549987793\n",
      "Total time for skeletonization = 664.5831322669983\n"
     ]
    }
   ],
   "source": [
    "sk = reload(sk)\n",
    "xu = reload(xu)\n",
    "\n",
    "import time\n",
    "global_start_time = time.time()\n",
    "\n",
    "for j,(soma_containing_mesh_idx,mesh_data) in enumerate(soma_touching_mesh_data.items()):\n",
    "    print(f\"\\n-- Working on Soma Continaing Mesh {j}--\")\n",
    "    current_branches = mesh_data[\"branch_meshes\"]\n",
    "    \n",
    "    #skeletonize each of the branches\n",
    "    total_skeletons = []\n",
    "    \n",
    "    for z,branch in enumerate(current_branches):\n",
    "        print(f\"\\n    -- Working on branch {z}--\")\n",
    "        curren_skeleton = sk.skeletonize_connected_branch(branch)\n",
    "        #clean the skeleton\n",
    "            # --------  Doing the cleaning ------- #\n",
    "        clean_time = time.time()\n",
    "        filter_end_node_length=5000,\n",
    "        new_cleaned_skeleton = sk.clean_skeleton(curren_skeleton,\n",
    "                                distance_func=sk.skeletal_distance,\n",
    "                          min_distance_to_junction=filter_end_node_length,\n",
    "                          return_skeleton=True,\n",
    "                          print_flag=False)\n",
    "        print(f\"    Total time for skeleton and cleaning of branch {z}: {time.time() - clean_time}\")\n",
    "        if len(new_cleaned_skeleton) == 0:\n",
    "            raise Exception(f\"Found a zero length skeleton for limb {z} of trmesh {branch}\")\n",
    "        total_skeletons.append(new_cleaned_skeleton)\n",
    "    \n",
    "    soma_touching_mesh_data[j][\"branch_skeletons\"] = total_skeletons\n",
    "    \n",
    "print(f\"Total time for skeletonization = {time.time() - global_start_time}\")"
   ]
  },
  {
   "cell_type": "code",
   "execution_count": 15,
   "metadata": {},
   "outputs": [
    {
     "name": "stdout",
     "output_type": "stream",
     "text": [
      "hello\n"
     ]
    }
   ],
   "source": [
    "# save off the data and rename it for use in phase 2\n",
    "# Save our current\n",
    "print(\"hello\")\n",
    "saved_file = f\"./soma_mesh_data/soma_touching_mesh_data_{segment_id}.npz\"\n",
    "np.savez(saved_file,soma_touching_mesh_data=soma_touching_mesh_data)\n",
    "# current_mesh_data = soma_touching_mesh_data"
   ]
  },
  {
   "cell_type": "markdown",
   "metadata": {},
   "source": [
    "# Lets have an alert if there was more than one soma disconnected meshes"
   ]
  },
  {
   "cell_type": "code",
   "execution_count": 16,
   "metadata": {},
   "outputs": [],
   "source": [
    "if len(soma_touching_mesh_data.keys()) > 1:\n",
    "    raise Exception(\"More than 1 disconnected meshes that contain somas\")"
   ]
  },
  {
   "cell_type": "markdown",
   "metadata": {},
   "source": [
    "# ******* Phase 2 ********"
   ]
  },
  {
   "cell_type": "markdown",
   "metadata": {},
   "source": [
    "# Importing and visualizing the preprocessed data (for sped up testing)"
   ]
  },
  {
   "cell_type": "code",
   "execution_count": 17,
   "metadata": {},
   "outputs": [],
   "source": [
    "# # saved_file = \"../../Platinum_Compartment/soma_touching_mesh_data.npz\"\n",
    "# saved_file = f\"./soma_mesh_data/soma_touching_mesh_data_{segment_id}.npz\"\n",
    "# current_mesh_data = nu.load_dict(saved_file)"
   ]
  },
  {
   "cell_type": "code",
   "execution_count": 18,
   "metadata": {},
   "outputs": [],
   "source": [
    "current_mesh_data = soma_touching_mesh_data"
   ]
  },
  {
   "cell_type": "code",
   "execution_count": 19,
   "metadata": {},
   "outputs": [
    {
     "data": {
      "application/vnd.jupyter.widget-view+json": {
       "model_id": "807757d5af134ffbac230cd077ae3b10",
       "version_major": 2,
       "version_minor": 0
      },
      "text/plain": [
       "VBox(children=(Figure(camera=PerspectiveCamera(fov=46.0, position=(0.0, 0.0, 2.0), quaternion=(0.0, 0.0, 0.0, …"
      ]
     },
     "metadata": {},
     "output_type": "display_data"
    }
   ],
   "source": [
    "# visualizing the original neuron\n",
    "current_neuron = trimesh.load_mesh(current_mesh_file)\n",
    "sk.graph_skeleton_and_mesh(main_mesh_verts=current_neuron.vertices,\n",
    "                          main_mesh_faces=current_neuron.faces,\n",
    "                           main_mesh_color = [0.,1.,0.,0.8]\n",
    "                          )"
   ]
  },
  {
   "cell_type": "code",
   "execution_count": 20,
   "metadata": {},
   "outputs": [
    {
     "data": {
      "application/vnd.jupyter.widget-view+json": {
       "model_id": "75b50d199732415c8f0b47baedf7588c",
       "version_major": 2,
       "version_minor": 0
      },
      "text/plain": [
       "VBox(children=(Figure(camera=PerspectiveCamera(fov=46.0, position=(0.0, 0.0, 2.0), quaternion=(0.0, 0.0, 0.0, …"
      ]
     },
     "metadata": {},
     "output_type": "display_data"
    }
   ],
   "source": [
    "# visualizing the somas that were extracted\n",
    "soma_meshes = tu.combine_meshes(current_mesh_data[0][\"soma_meshes\"])\n",
    "sk.graph_skeleton_and_mesh(main_mesh_verts=soma_meshes.vertices,\n",
    "                          main_mesh_faces=soma_meshes.faces,\n",
    "                           main_mesh_color = [0.,1.,0.,0.8]\n",
    "                          )"
   ]
  },
  {
   "cell_type": "code",
   "execution_count": 21,
   "metadata": {},
   "outputs": [],
   "source": [
    "# # Visualize the extracted branches\n",
    "# # visualize all of the branches and the meshes\n",
    "# sk.graph_skeleton_and_mesh(other_meshes=list(current_mesh_data[0][\"branch_meshes\"]) + list(current_mesh_data[0][\"soma_meshes\"]),\n",
    "#                           other_meshes_colors=\"random\",\n",
    "#                            other_skeletons = current_mesh_data[0][\"branch_skeletons\"],\n",
    "#                           other_skeletons_colors=\"random\")"
   ]
  },
  {
   "cell_type": "markdown",
   "metadata": {},
   "source": [
    "# Cleaning each limb through distance and decomposition, checking that all cleaned branches are connected components and then visualizing"
   ]
  },
  {
   "cell_type": "code",
   "execution_count": 22,
   "metadata": {
    "scrolled": true
   },
   "outputs": [
    {
     "name": "stdout",
     "output_type": "stream",
     "text": [
      "\n",
      "---- Working on Limb 0 ----\n",
      "before cleaning limb size of skeleton = (4001, 2, 3)\n",
      "Using Distance measure skeletal_distance\n",
      "no small end nodes to get rid of so returning whole skeleton\n",
      "after DISTANCE cleaning limb size of skeleton = (4001, 2, 3)\n",
      "After DECOMPOSITION cleaning limb size of skeleton = (4001, 2, 3)\n",
      "Total time = 2.8556294441223145\n",
      "\n",
      "---- Working on Limb 1 ----\n",
      "before cleaning limb size of skeleton = (2877, 2, 3)\n",
      "Using Distance measure skeletal_distance\n",
      "no small end nodes to get rid of so returning whole skeleton\n",
      "after DISTANCE cleaning limb size of skeleton = (2877, 2, 3)\n",
      "high-degree endpoints were connected so just using that connection\n",
      "curr_branch = {2536.0, 2534, 2535.0}\n",
      "After DECOMPOSITION cleaning limb size of skeleton = (2873, 2, 3)\n",
      "Total time = 1.4626691341400146\n",
      "\n",
      "---- Working on Limb 2 ----\n",
      "before cleaning limb size of skeleton = (1957, 2, 3)\n",
      "Using Distance measure skeletal_distance\n",
      "no small end nodes to get rid of so returning whole skeleton\n",
      "after DISTANCE cleaning limb size of skeleton = (1957, 2, 3)\n",
      "high-degree endpoints were connected so just using that connection\n",
      "curr_branch = {1497}\n",
      "After DECOMPOSITION cleaning limb size of skeleton = (1955, 2, 3)\n",
      "Total time = 0.9275500774383545\n",
      "\n",
      "---- Working on Limb 3 ----\n",
      "before cleaning limb size of skeleton = (1815, 2, 3)\n",
      "Using Distance measure skeletal_distance\n",
      "no small end nodes to get rid of so returning whole skeleton\n",
      "after DISTANCE cleaning limb size of skeleton = (1815, 2, 3)\n",
      "After DECOMPOSITION cleaning limb size of skeleton = (1815, 2, 3)\n",
      "Total time = 0.8537299633026123\n",
      "\n",
      "---- Working on Limb 4 ----\n",
      "before cleaning limb size of skeleton = (2214, 2, 3)\n",
      "Using Distance measure skeletal_distance\n",
      "no small end nodes to get rid of so returning whole skeleton\n",
      "after DISTANCE cleaning limb size of skeleton = (2214, 2, 3)\n",
      "After DECOMPOSITION cleaning limb size of skeleton = (2214, 2, 3)\n",
      "Total time = 1.0468401908874512\n",
      "\n",
      "---- Working on Limb 5 ----\n",
      "before cleaning limb size of skeleton = (1118, 2, 3)\n",
      "Using Distance measure skeletal_distance\n",
      "no small end nodes to get rid of so returning whole skeleton\n",
      "after DISTANCE cleaning limb size of skeleton = (1118, 2, 3)\n",
      "type(branch_subgraph) = <class 'networkx_utils.GraphOrderedEdges'>\n",
      "in remove edge\n",
      "After DECOMPOSITION cleaning limb size of skeleton = (1117, 2, 3)\n",
      "Total time = 0.48173069953918457\n",
      "\n",
      "---- Working on Limb 6 ----\n",
      "before cleaning limb size of skeleton = (1068, 2, 3)\n",
      "Using Distance measure skeletal_distance\n",
      "no small end nodes to get rid of so returning whole skeleton\n",
      "after DISTANCE cleaning limb size of skeleton = (1068, 2, 3)\n",
      "After DECOMPOSITION cleaning limb size of skeleton = (1068, 2, 3)\n",
      "Total time = 0.48569583892822266\n",
      "\n",
      "---- Working on Limb 7 ----\n",
      "before cleaning limb size of skeleton = (1023, 2, 3)\n",
      "Using Distance measure skeletal_distance\n",
      "no small end nodes to get rid of so returning whole skeleton\n",
      "after DISTANCE cleaning limb size of skeleton = (1023, 2, 3)\n",
      "high-degree endpoints were connected so just using that connection\n",
      "curr_branch = {906, 907.0, 908.0, 909.0}\n",
      "After DECOMPOSITION cleaning limb size of skeleton = (1018, 2, 3)\n",
      "Total time = 0.4373931884765625\n",
      "\n",
      "---- Working on Limb 8 ----\n",
      "before cleaning limb size of skeleton = (675, 2, 3)\n",
      "Using Distance measure skeletal_distance\n",
      "no small end nodes to get rid of so returning whole skeleton\n",
      "after DISTANCE cleaning limb size of skeleton = (675, 2, 3)\n",
      "After DECOMPOSITION cleaning limb size of skeleton = (675, 2, 3)\n",
      "Total time = 0.2770993709564209\n",
      "\n",
      "---- Working on Limb 9 ----\n",
      "before cleaning limb size of skeleton = (225, 2, 3)\n",
      "Using Distance measure skeletal_distance\n",
      "no small end nodes to get rid of so returning whole skeleton\n",
      "after DISTANCE cleaning limb size of skeleton = (225, 2, 3)\n",
      "After DECOMPOSITION cleaning limb size of skeleton = (225, 2, 3)\n",
      "Total time = 0.09198307991027832\n",
      "\n",
      "---- Working on Limb 10 ----\n",
      "before cleaning limb size of skeleton = (39, 2, 3)\n",
      "Using Distance measure skeletal_distance\n",
      "no small end nodes to get rid of so returning whole skeleton\n",
      "after DISTANCE cleaning limb size of skeleton = (39, 2, 3)\n",
      "only one skeleton so no stacking needed\n",
      "After DECOMPOSITION cleaning limb size of skeleton = (39, 2, 3)\n",
      "Total time = 0.02002239227294922\n"
     ]
    }
   ],
   "source": [
    "skelton_cleaning_threshold = 4001\n",
    "total_cleaned = []\n",
    "for j,curr_skeleton_to_clean in enumerate(current_mesh_data[0][\"branch_skeletons\"]):\n",
    "    print(f\"\\n---- Working on Limb {j} ----\")\n",
    "    start_time = time.time()\n",
    "    print(f\"before cleaning limb size of skeleton = {curr_skeleton_to_clean.shape}\")\n",
    "    distance_cleaned_skeleton = sk.clean_skeleton(\n",
    "                                                curr_skeleton_to_clean,\n",
    "                                                distance_func=sk.skeletal_distance,\n",
    "                                                min_distance_to_junction = skelton_cleaning_threshold,\n",
    "                                                return_skeleton=True,\n",
    "                                                print_flag=False) \n",
    "    #make sure still connected componet\n",
    "    distance_cleaned_skeleton_components = nx.number_connected_components(sk.convert_skeleton_to_graph(distance_cleaned_skeleton))\n",
    "    if distance_cleaned_skeleton_components > 1:\n",
    "        raise Exception(f\"distance_cleaned_skeleton {j} was not a single component: it was actually {distance_cleaned_skeleton_components} components\")\n",
    "        \n",
    "    print(f\"after DISTANCE cleaning limb size of skeleton = {distance_cleaned_skeleton.shape}\")\n",
    "    cleaned_branch = sk.clean_skeleton_with_decompose(distance_cleaned_skeleton)\n",
    "    \n",
    "    cleaned_branch_components = nx.number_connected_components(sk.convert_skeleton_to_graph(cleaned_branch))\n",
    "    if cleaned_branch_components > 1:\n",
    "        raise Exception(f\"cleaned_branch {j} was not a single component: it was actually {cleaned_branch_components} components\")\n",
    "    \n",
    "    #do the cleanin ghtat removes loops from branches\n",
    "    print(f\"After DECOMPOSITION cleaning limb size of skeleton = {cleaned_branch.shape}\")\n",
    "    print(f\"Total time = {time.time() - start_time}\")\n",
    "    total_cleaned.append(cleaned_branch)\n",
    "    \n",
    "current_mesh_data[0][\"branch_skeletons_cleaned\"] = total_cleaned"
   ]
  },
  {
   "cell_type": "code",
   "execution_count": 23,
   "metadata": {},
   "outputs": [],
   "source": [
    "# checking all cleaned branches are connected components\n",
    "\n",
    "for k,cl_sk in enumerate(current_mesh_data[0][\"branch_skeletons\"]): \n",
    "    n_components = nx.number_connected_components(sk.convert_skeleton_to_graph(cl_sk)) \n",
    "    if n_components > 1:\n",
    "        raise Exception(f\"Original limb {k} was not a single component: it was actually {n_components} components\")\n",
    "    \n",
    "for k,cl_sk in enumerate(current_mesh_data[0][\"branch_skeletons_cleaned\"]): \n",
    "    n_components = nx.number_connected_components(sk.convert_skeleton_to_graph(cl_sk)) \n",
    "    if n_components > 1:\n",
    "        raise Exception(f\"Cleaned limb {k} was not a single component: it was actually {n_components} components\")"
   ]
  },
  {
   "cell_type": "code",
   "execution_count": 24,
   "metadata": {},
   "outputs": [],
   "source": [
    "# # visualize all of the branches and the meshes\n",
    "# sk.graph_skeleton_and_mesh(other_meshes=list(current_mesh_data[0][\"branch_meshes\"]) + list(current_mesh_data[0][\"soma_meshes\"]),\n",
    "#                           other_meshes_colors=\"random\",\n",
    "#                            other_skeletons = current_mesh_data[0][\"branch_skeletons_cleaned\"],\n",
    "#                           other_skeletons_colors=\"random\",\n",
    "#                           mesh_alpha=0.15,\n",
    "#                           html_path=f\"{segment_id}_limb_skeleton.html\")"
   ]
  },
  {
   "cell_type": "markdown",
   "metadata": {},
   "source": [
    "# Decomposing of limbs into branches and finding mesh correspondence (using adaptive mesh correspondence followed by a water fill for conflict and empty faces), checking that it went well with no empty meshes and all connected component graph when constructed from branches, plus visualization at end"
   ]
  },
  {
   "cell_type": "code",
   "execution_count": 25,
   "metadata": {
    "scrolled": true
   },
   "outputs": [
    {
     "name": "stdout",
     "output_type": "stream",
     "text": [
      "Working on limb #0\n"
     ]
    },
    {
     "data": {
      "application/vnd.jupyter.widget-view+json": {
       "model_id": "2361d697a7ee4ea3b7aa81782432680e",
       "version_major": 2,
       "version_minor": 0
      },
      "text/plain": [
       "HBox(children=(FloatProgress(value=1.0, bar_style='info', max=1.0), HTML(value='')))"
      ]
     },
     "metadata": {},
     "output_type": "display_data"
    },
    {
     "data": {
      "application/vnd.jupyter.widget-view+json": {
       "model_id": "22fc786326814990b54519869a76c68b",
       "version_major": 2,
       "version_minor": 0
      },
      "text/plain": [
       "HBox(children=(FloatProgress(value=1.0, bar_style='info', max=1.0), HTML(value='')))"
      ]
     },
     "metadata": {},
     "output_type": "display_data"
    },
    {
     "name": "stdout",
     "output_type": "stream",
     "text": [
      "\n",
      "filtered_measurements = [302.06856858 237.30536085 272.85362338 311.27886069 220.82827793\n",
      " 156.98986501 141.78741987 253.0064146  166.92081424 196.82212334\n",
      " 210.49320602 197.56536666 248.02537835 372.59095969 300.88707891\n",
      " 230.31998868 388.03683382 250.25928337 259.00117581 294.33612182\n",
      " 305.80214928 203.33123838 229.18997939 445.71634727 376.01356252\n",
      " 330.93933562 227.16686242 378.07991893 234.96387852 200.34932588\n",
      " 425.91397011 340.49037552 262.81510444]\n",
      "new_threshold = 1138.3408125351266\n"
     ]
    },
    {
     "data": {
      "application/vnd.jupyter.widget-view+json": {
       "model_id": "a501aad42bfd42d08b12303505404935",
       "version_major": 2,
       "version_minor": 0
      },
      "text/plain": [
       "HBox(children=(FloatProgress(value=1.0, bar_style='info', max=1.0), HTML(value='')))"
      ]
     },
     "metadata": {},
     "output_type": "display_data"
    },
    {
     "name": "stdout",
     "output_type": "stream",
     "text": [
      "\n"
     ]
    },
    {
     "data": {
      "application/vnd.jupyter.widget-view+json": {
       "model_id": "68b5c985221f4e45b2a06848a079d504",
       "version_major": 2,
       "version_minor": 0
      },
      "text/plain": [
       "HBox(children=(FloatProgress(value=1.0, bar_style='info', max=1.0), HTML(value='')))"
      ]
     },
     "metadata": {},
     "output_type": "display_data"
    },
    {
     "name": "stdout",
     "output_type": "stream",
     "text": [
      "\n",
      "filtered_measurements = [ 90.64775645  84.62200493 109.91179171  87.08849289 121.00574075\n",
      "  95.17893193  71.97918798 110.82034002]\n",
      "new_threshold = 234.73217581948677\n"
     ]
    },
    {
     "data": {
      "application/vnd.jupyter.widget-view+json": {
       "model_id": "34e803e62df44ef4becbc732c9de1242",
       "version_major": 2,
       "version_minor": 0
      },
      "text/plain": [
       "HBox(children=(FloatProgress(value=1.0, bar_style='info', max=1.0), HTML(value='')))"
      ]
     },
     "metadata": {},
     "output_type": "display_data"
    },
    {
     "name": "stdout",
     "output_type": "stream",
     "text": [
      "--> Not exactly one containing mesh: []\n",
      "THERE WERE NO FACES THAT FIT THE DISTANCE (234.73217581948677) and Z transform requirements\n",
      "So just skipping this edge\n",
      "\n",
      "Total time for mesh mapping: 0.0010161399841308594\n",
      "Total time for mesh mapping: 0.00024700164794921875\n",
      "Total time for mesh mapping: 0.0002067089080810547\n",
      "Total time for mesh mapping: 0.00021529197692871094\n",
      "Total time for mesh mapping: 0.00021076202392578125\n",
      "Total time for mesh mapping: 0.0002110004425048828\n",
      "Total time for mesh mapping: 0.00021195411682128906\n",
      "Total time for mesh mapping: 0.00021648406982421875\n",
      "Total time for mesh mapping: 0.002944469451904297\n",
      "Total time for mesh mapping: 0.000225067138671875\n",
      "Total time for mesh mapping: 0.0002071857452392578\n",
      "Total time for mesh mapping: 0.00021123886108398438\n",
      "Total time for mesh mapping: 0.0001842975616455078\n",
      "branch_touching_number = [11]\n",
      "Total time for mesh mapping: 0.0005991458892822266\n",
      "Total time for mesh mapping: 0.0002665519714355469\n",
      "Total time for mesh mapping: 0.00023365020751953125\n",
      "Total time for mesh mapping: 0.00023794174194335938\n",
      "Total time for mesh mapping: 0.0003631114959716797\n",
      "Total time for mesh mapping: 0.00023603439331054688\n",
      "Total time for mesh mapping: 0.00024890899658203125\n",
      "Total time for mesh mapping: 0.0002465248107910156\n",
      "Total time for mesh mapping: 0.00024318695068359375\n",
      "Total time for mesh mapping: 0.00024247169494628906\n",
      "Total time for mesh mapping: 0.0002410411834716797\n",
      "Total time for mesh mapping: 0.0002391338348388672\n",
      "Total time for mesh mapping: 0.00022745132446289062\n",
      "branch_touching_number = [11, 1]\n",
      "most_branch_containing_piece = 0\n"
     ]
    },
    {
     "data": {
      "application/vnd.jupyter.widget-view+json": {
       "model_id": "de7cf4df53ed45199c7b97359458a5a7",
       "version_major": 2,
       "version_minor": 0
      },
      "text/plain": [
       "HBox(children=(FloatProgress(value=1.0, bar_style='info', max=1.0), HTML(value='')))"
      ]
     },
     "metadata": {},
     "output_type": "display_data"
    },
    {
     "name": "stdout",
     "output_type": "stream",
     "text": [
      "--> Not exactly one containing mesh: [0 1]\n",
      "\n",
      "filtered_measurements = [385.03656767 279.27398555 330.36493207]\n",
      "new_threshold = 708.30268793876\n"
     ]
    },
    {
     "data": {
      "application/vnd.jupyter.widget-view+json": {
       "model_id": "b55f91424f8f47e48f09799d115cbb94",
       "version_major": 2,
       "version_minor": 0
      },
      "text/plain": [
       "HBox(children=(FloatProgress(value=1.0, bar_style='info', max=1.0), HTML(value='')))"
      ]
     },
     "metadata": {},
     "output_type": "display_data"
    },
    {
     "name": "stdout",
     "output_type": "stream",
     "text": [
      "\n"
     ]
    },
    {
     "data": {
      "application/vnd.jupyter.widget-view+json": {
       "model_id": "f27bf31e286b44d989f78cee31dbfa98",
       "version_major": 2,
       "version_minor": 0
      },
      "text/plain": [
       "HBox(children=(FloatProgress(value=1.0, bar_style='info', max=1.0), HTML(value='')))"
      ]
     },
     "metadata": {},
     "output_type": "display_data"
    },
    {
     "name": "stdout",
     "output_type": "stream",
     "text": [
      "\n",
      "filtered_measurements = [391.29173404 354.01518349 347.47894004 329.46498554 284.69559342\n",
      " 252.08805852 231.74948795 342.23440023 430.06883105]\n",
      "new_threshold = 859.2780731039452\n"
     ]
    },
    {
     "data": {
      "application/vnd.jupyter.widget-view+json": {
       "model_id": "e9920cdcce3148378a6097b0c4db7433",
       "version_major": 2,
       "version_minor": 0
      },
      "text/plain": [
       "HBox(children=(FloatProgress(value=1.0, bar_style='info', max=1.0), HTML(value='')))"
      ]
     },
     "metadata": {},
     "output_type": "display_data"
    },
    {
     "name": "stdout",
     "output_type": "stream",
     "text": [
      "\n"
     ]
    },
    {
     "data": {
      "application/vnd.jupyter.widget-view+json": {
       "model_id": "9f467c827ef84b3a9034743a30ac0a94",
       "version_major": 2,
       "version_minor": 0
      },
      "text/plain": [
       "HBox(children=(FloatProgress(value=1.0, bar_style='info', max=1.0), HTML(value='')))"
      ]
     },
     "metadata": {},
     "output_type": "display_data"
    },
    {
     "name": "stdout",
     "output_type": "stream",
     "text": [
      "--> Not exactly one containing mesh: []\n",
      "--> Not exactly one containing mesh: []\n",
      "\n",
      "filtered_measurements = [146.49614228  97.16980298 107.66932542 219.20574458 144.54530694]\n",
      "new_threshold = 343.85703495505356\n"
     ]
    },
    {
     "data": {
      "application/vnd.jupyter.widget-view+json": {
       "model_id": "825d6ee9b3424743b91ed2f25b57964c",
       "version_major": 2,
       "version_minor": 0
      },
      "text/plain": [
       "HBox(children=(FloatProgress(value=1.0, bar_style='info', max=1.0), HTML(value='')))"
      ]
     },
     "metadata": {},
     "output_type": "display_data"
    },
    {
     "name": "stdout",
     "output_type": "stream",
     "text": [
      "--> Not exactly one containing mesh: []\n",
      "--> Not exactly one containing mesh: []\n",
      "\n"
     ]
    },
    {
     "data": {
      "application/vnd.jupyter.widget-view+json": {
       "model_id": "4bd16a15fd8a422bb43ac43bcf8d5f78",
       "version_major": 2,
       "version_minor": 0
      },
      "text/plain": [
       "HBox(children=(FloatProgress(value=1.0, bar_style='info', max=1.0), HTML(value='')))"
      ]
     },
     "metadata": {},
     "output_type": "display_data"
    },
    {
     "name": "stdout",
     "output_type": "stream",
     "text": [
      "\n",
      "filtered_measurements = [266.08867659 368.23255761 263.5625455  435.85092333]\n",
      "new_threshold = 899.6193079355571\n"
     ]
    },
    {
     "data": {
      "application/vnd.jupyter.widget-view+json": {
       "model_id": "3ad9daee8eb74cb2bbe9ff212987bcd8",
       "version_major": 2,
       "version_minor": 0
      },
      "text/plain": [
       "HBox(children=(FloatProgress(value=1.0, bar_style='info', max=1.0), HTML(value='')))"
      ]
     },
     "metadata": {},
     "output_type": "display_data"
    },
    {
     "name": "stdout",
     "output_type": "stream",
     "text": [
      "\n"
     ]
    },
    {
     "data": {
      "application/vnd.jupyter.widget-view+json": {
       "model_id": "c9c41b70aef2473c90d4eba294d8d6c5",
       "version_major": 2,
       "version_minor": 0
      },
      "text/plain": [
       "HBox(children=(FloatProgress(value=1.0, bar_style='info', max=1.0), HTML(value='')))"
      ]
     },
     "metadata": {},
     "output_type": "display_data"
    },
    {
     "name": "stdout",
     "output_type": "stream",
     "text": [
      "\n",
      "Total time for mesh mapping: 0.008348226547241211\n",
      "Total time for mesh mapping: 0.007793903350830078\n",
      "Total time for mesh mapping: 0.007505893707275391\n",
      "Total time for mesh mapping: 0.007518291473388672\n",
      "Total time for mesh mapping: 0.007559537887573242\n",
      "Total time for mesh mapping: 0.004087924957275391\n",
      "Total time for mesh mapping: 0.0031828880310058594\n",
      "Total time for mesh mapping: 0.0028824806213378906\n",
      "Total time for mesh mapping: 0.001800537109375\n",
      "Total time for mesh mapping: 0.0027277469635009766\n",
      "Total time for mesh mapping: 0.002717256546020508\n",
      "branch_touching_number = [1]\n",
      "Total time for mesh mapping: 0.0019288063049316406\n",
      "Total time for mesh mapping: 0.002718687057495117\n",
      "Total time for mesh mapping: 0.004189968109130859\n",
      "Total time for mesh mapping: 0.0018162727355957031\n",
      "Total time for mesh mapping: 0.0029621124267578125\n",
      "Total time for mesh mapping: 0.0028374195098876953\n",
      "Total time for mesh mapping: 0.0017910003662109375\n",
      "Total time for mesh mapping: 0.002727985382080078\n",
      "Total time for mesh mapping: 0.0027344226837158203\n",
      "Total time for mesh mapping: 0.00276947021484375\n",
      "Total time for mesh mapping: 0.00417780876159668\n",
      "branch_touching_number = [1, 9]\n",
      "most_branch_containing_piece = 1\n",
      "filtered_measurements = [ 61.51183412  84.79780732 217.738495   186.16374299 162.47889806\n",
      " 110.16511023 144.99002275]\n",
      "new_threshold = 542.7710998542012\n"
     ]
    },
    {
     "data": {
      "application/vnd.jupyter.widget-view+json": {
       "model_id": "ee7b6227f8cf4f14ba38b8f3f30e49f8",
       "version_major": 2,
       "version_minor": 0
      },
      "text/plain": [
       "HBox(children=(FloatProgress(value=1.0, bar_style='info', max=1.0), HTML(value='')))"
      ]
     },
     "metadata": {},
     "output_type": "display_data"
    },
    {
     "name": "stdout",
     "output_type": "stream",
     "text": [
      "--> Not exactly one containing mesh: []\n",
      "\n"
     ]
    },
    {
     "data": {
      "application/vnd.jupyter.widget-view+json": {
       "model_id": "65716861291744038b45949a220d0933",
       "version_major": 2,
       "version_minor": 0
      },
      "text/plain": [
       "HBox(children=(FloatProgress(value=1.0, bar_style='info', max=1.0), HTML(value='')))"
      ]
     },
     "metadata": {},
     "output_type": "display_data"
    },
    {
     "name": "stdout",
     "output_type": "stream",
     "text": [
      "--> Not exactly one containing mesh: []\n",
      "--> Not exactly one containing mesh: []\n",
      "\n",
      "Total time for mesh mapping: 0.0062716007232666016\n",
      "Total time for mesh mapping: 0.011144638061523438\n",
      "Total time for mesh mapping: 0.004910469055175781\n",
      "Total time for mesh mapping: 0.002728700637817383\n",
      "Total time for mesh mapping: 0.002630949020385742\n",
      "Total time for mesh mapping: 0.002571582794189453\n",
      "Total time for mesh mapping: 0.002678394317626953\n",
      "Total time for mesh mapping: 0.0026917457580566406\n",
      "Total time for mesh mapping: 0.00270843505859375\n",
      "Total time for mesh mapping: 0.002718210220336914\n",
      "Total time for mesh mapping: 0.0026695728302001953\n",
      "Total time for mesh mapping: 0.0025167465209960938\n",
      "Total time for mesh mapping: 0.0026845932006835938\n",
      "Total time for mesh mapping: 0.0027027130126953125\n",
      "Total time for mesh mapping: 0.0027077198028564453\n",
      "Total time for mesh mapping: 0.0026581287384033203\n",
      "Total time for mesh mapping: 0.0026814937591552734\n",
      "Total time for mesh mapping: 0.002684354782104492\n",
      "Total time for mesh mapping: 0.0027222633361816406\n",
      "Total time for mesh mapping: 0.002791881561279297\n",
      "branch_touching_number = [18]\n",
      "Total time for mesh mapping: 0.002081155776977539\n",
      "Total time for mesh mapping: 0.002666473388671875\n",
      "Total time for mesh mapping: 0.0028607845306396484\n",
      "Total time for mesh mapping: 0.002780437469482422\n",
      "Total time for mesh mapping: 0.002647876739501953\n",
      "Total time for mesh mapping: 0.0026628971099853516\n",
      "Total time for mesh mapping: 0.00267791748046875\n",
      "Total time for mesh mapping: 0.002721548080444336\n",
      "Total time for mesh mapping: 0.0026972293853759766\n",
      "Total time for mesh mapping: 0.002706289291381836\n",
      "Total time for mesh mapping: 0.0026895999908447266\n",
      "Total time for mesh mapping: 0.002676248550415039\n",
      "Total time for mesh mapping: 0.0026907920837402344\n",
      "Total time for mesh mapping: 0.002714872360229492\n",
      "Total time for mesh mapping: 0.002714872360229492\n",
      "Total time for mesh mapping: 0.0026836395263671875\n",
      "Total time for mesh mapping: 0.0026807785034179688\n",
      "Total time for mesh mapping: 0.0025370121002197266\n",
      "Total time for mesh mapping: 0.0026857852935791016\n",
      "Total time for mesh mapping: 0.0028035640716552734\n",
      "branch_touching_number = [18, 1]\n",
      "most_branch_containing_piece = 0\n",
      "filtered_measurements = [165.54577998 113.8865547   78.60496699 131.89416586 149.90483783\n",
      " 109.12483096 156.53730129 156.12505178 121.14132546 106.16944468\n",
      " 114.87672772 179.77529353]\n",
      "new_threshold = 363.07374745874733\n"
     ]
    },
    {
     "data": {
      "application/vnd.jupyter.widget-view+json": {
       "model_id": "fcdd1491a41f4a11a72fd8064b3fa758",
       "version_major": 2,
       "version_minor": 0
      },
      "text/plain": [
       "HBox(children=(FloatProgress(value=1.0, bar_style='info', max=1.0), HTML(value='')))"
      ]
     },
     "metadata": {},
     "output_type": "display_data"
    },
    {
     "name": "stdout",
     "output_type": "stream",
     "text": [
      "--> Not exactly one containing mesh: []\n",
      "--> Not exactly one containing mesh: []\n",
      "THERE WERE NO FACES THAT FIT THE DISTANCE (363.07374745874733) and Z transform requirements\n",
      "So just skipping this edge\n",
      "\n"
     ]
    },
    {
     "data": {
      "application/vnd.jupyter.widget-view+json": {
       "model_id": "9fcbb45793cf43e5afc0860ae2edf63e",
       "version_major": 2,
       "version_minor": 0
      },
      "text/plain": [
       "HBox(children=(FloatProgress(value=1.0, bar_style='info', max=1.0), HTML(value='')))"
      ]
     },
     "metadata": {},
     "output_type": "display_data"
    },
    {
     "name": "stdout",
     "output_type": "stream",
     "text": [
      "\n",
      "filtered_measurements = [224.68038158 214.34057272 264.06299686]\n",
      "new_threshold = 406.5709157839766\n"
     ]
    },
    {
     "data": {
      "application/vnd.jupyter.widget-view+json": {
       "model_id": "5ed74d68b7024b7e893def11bd9deafe",
       "version_major": 2,
       "version_minor": 0
      },
      "text/plain": [
       "HBox(children=(FloatProgress(value=1.0, bar_style='info', max=1.0), HTML(value='')))"
      ]
     },
     "metadata": {},
     "output_type": "display_data"
    },
    {
     "name": "stdout",
     "output_type": "stream",
     "text": [
      "\n"
     ]
    },
    {
     "data": {
      "application/vnd.jupyter.widget-view+json": {
       "model_id": "e7b1ffa4109f4c628d28cbdae0a53adc",
       "version_major": 2,
       "version_minor": 0
      },
      "text/plain": [
       "HBox(children=(FloatProgress(value=1.0, bar_style='info', max=1.0), HTML(value='')))"
      ]
     },
     "metadata": {},
     "output_type": "display_data"
    },
    {
     "name": "stdout",
     "output_type": "stream",
     "text": [
      "--> Not exactly one containing mesh: []\n",
      "--> Not exactly one containing mesh: []\n",
      "--> Not exactly one containing mesh: []\n",
      "--> Not exactly one containing mesh: []\n",
      "--> Not exactly one containing mesh: []\n",
      "\n",
      "filtered_measurements = [140.68319484 112.36396413 155.26577262  96.53058375 113.08630569\n",
      "  98.9486054   74.04154828 131.92424729 129.87080006 114.08528029\n",
      " 115.28163332  69.06402354  67.45502564 105.15422937  96.58687665\n",
      " 102.2893701   78.53335816  73.51799547  72.34896414 104.2191963\n",
      " 142.22136991 119.37587172 105.83680948 105.09061782  93.23468391\n",
      " 149.57327088 140.73799191 119.45228882  79.45293047  64.21866184\n",
      " 143.36599843 114.89913834 122.2812988   86.47410905 148.54831236\n",
      " 165.98540967 165.72768801 126.62625221 165.80684617  82.66861299\n",
      "  78.49110571 143.60078696 129.40208388 106.76131202  66.68757043\n",
      " 100.03101596 108.5323399  125.5379214   75.281961    99.56567809\n",
      " 137.23150409 110.371197    94.36406912 100.10576315 149.60321839\n",
      " 104.13104758 107.89788327 150.38295904 106.19289151 116.66279749\n",
      " 133.18957183 108.48162976 108.36987407 116.17826667 110.76678647\n",
      "  91.64381895 133.49372682 107.181935   113.13727855]\n",
      "new_threshold = 395.34969696020255\n"
     ]
    },
    {
     "data": {
      "application/vnd.jupyter.widget-view+json": {
       "model_id": "e7d37df0e25b487391a1d5b0940601ba",
       "version_major": 2,
       "version_minor": 0
      },
      "text/plain": [
       "HBox(children=(FloatProgress(value=1.0, bar_style='info', max=1.0), HTML(value='')))"
      ]
     },
     "metadata": {},
     "output_type": "display_data"
    },
    {
     "name": "stdout",
     "output_type": "stream",
     "text": [
      "--> Not exactly one containing mesh: []\n",
      "--> Not exactly one containing mesh: []\n",
      "--> Not exactly one containing mesh: []\n",
      "--> Not exactly one containing mesh: []\n",
      "--> Not exactly one containing mesh: []\n",
      "--> Not exactly one containing mesh: []\n",
      "\n",
      "Total time for mesh mapping: 0.007416248321533203\n",
      "Total time for mesh mapping: 0.002028226852416992\n",
      "Total time for mesh mapping: 0.0031006336212158203\n",
      "Total time for mesh mapping: 0.003152608871459961\n",
      "Total time for mesh mapping: 0.0031042098999023438\n",
      "Total time for mesh mapping: 0.0029256343841552734\n",
      "Total time for mesh mapping: 0.0018072128295898438\n",
      "Total time for mesh mapping: 0.0017557144165039062\n",
      "Total time for mesh mapping: 0.002819538116455078\n",
      "Total time for mesh mapping: 0.004017829895019531\n",
      "Total time for mesh mapping: 0.0027968883514404297\n",
      "Total time for mesh mapping: 0.003206014633178711\n",
      "Total time for mesh mapping: 0.0018808841705322266\n",
      "Total time for mesh mapping: 0.003072023391723633\n",
      "Total time for mesh mapping: 0.0030112266540527344\n",
      "Total time for mesh mapping: 0.003036022186279297\n",
      "Total time for mesh mapping: 0.0029990673065185547\n",
      "Total time for mesh mapping: 0.0030279159545898438\n",
      "Total time for mesh mapping: 0.003021717071533203\n",
      "Total time for mesh mapping: 0.0028586387634277344\n",
      "Total time for mesh mapping: 0.0030164718627929688\n",
      "Total time for mesh mapping: 0.003057718276977539\n",
      "Total time for mesh mapping: 0.0030202865600585938\n",
      "Total time for mesh mapping: 0.0030059814453125\n",
      "Total time for mesh mapping: 0.0030083656311035156\n",
      "Total time for mesh mapping: 0.0030214786529541016\n",
      "Total time for mesh mapping: 0.0029964447021484375\n",
      "Total time for mesh mapping: 0.0030410289764404297\n",
      "Total time for mesh mapping: 0.003027677536010742\n",
      "Total time for mesh mapping: 0.0028524398803710938\n",
      "Total time for mesh mapping: 0.003043651580810547\n",
      "Total time for mesh mapping: 0.0033173561096191406\n",
      "Total time for mesh mapping: 0.0017435550689697266\n",
      "Total time for mesh mapping: 0.002840757369995117\n",
      "Total time for mesh mapping: 0.0017483234405517578\n",
      "Total time for mesh mapping: 0.0017549991607666016\n",
      "Total time for mesh mapping: 0.0028228759765625\n",
      "Total time for mesh mapping: 0.002799510955810547\n",
      "Total time for mesh mapping: 0.0028090476989746094\n",
      "Total time for mesh mapping: 0.0028297901153564453\n",
      "Total time for mesh mapping: 0.0028235912322998047\n",
      "Total time for mesh mapping: 0.0028443336486816406\n",
      "Total time for mesh mapping: 0.0029315948486328125\n",
      "Total time for mesh mapping: 0.004341840744018555\n",
      "Total time for mesh mapping: 0.0018799304962158203\n",
      "Total time for mesh mapping: 0.002877473831176758\n",
      "Total time for mesh mapping: 0.0030117034912109375\n",
      "Total time for mesh mapping: 0.0030639171600341797\n",
      "Total time for mesh mapping: 0.003008127212524414\n",
      "Total time for mesh mapping: 0.0029184818267822266\n",
      "Total time for mesh mapping: 0.002784252166748047\n",
      "Total time for mesh mapping: 0.002754688262939453\n",
      "Total time for mesh mapping: 0.0027489662170410156\n",
      "Total time for mesh mapping: 0.002815723419189453\n",
      "Total time for mesh mapping: 0.0027904510498046875\n",
      "Total time for mesh mapping: 0.002800464630126953\n",
      "Total time for mesh mapping: 0.0027921199798583984\n",
      "Total time for mesh mapping: 0.002798795700073242\n",
      "Total time for mesh mapping: 0.0027763843536376953\n",
      "Total time for mesh mapping: 0.0027801990509033203\n",
      "Total time for mesh mapping: 0.0027959346771240234\n",
      "Total time for mesh mapping: 0.002796173095703125\n",
      "Total time for mesh mapping: 0.0020906925201416016\n",
      "Total time for mesh mapping: 0.0028209686279296875\n",
      "Total time for mesh mapping: 0.0027942657470703125\n",
      "Total time for mesh mapping: 0.0023076534271240234\n",
      "Total time for mesh mapping: 0.0018117427825927734\n",
      "Total time for mesh mapping: 0.0022919178009033203\n",
      "Total time for mesh mapping: 0.0027976036071777344\n",
      "Total time for mesh mapping: 0.0026912689208984375\n",
      "Total time for mesh mapping: 0.00276947021484375\n",
      "Total time for mesh mapping: 0.002875089645385742\n",
      "Total time for mesh mapping: 0.0028142929077148438\n",
      "Total time for mesh mapping: 0.0028052330017089844\n",
      "Total time for mesh mapping: 0.0017540454864501953\n",
      "Total time for mesh mapping: 0.001758575439453125\n",
      "Total time for mesh mapping: 0.0027964115142822266\n",
      "Total time for mesh mapping: 0.0028128623962402344\n",
      "Total time for mesh mapping: 0.0027899742126464844\n",
      "Total time for mesh mapping: 0.002779722213745117\n",
      "Total time for mesh mapping: 0.002864360809326172\n",
      "Total time for mesh mapping: 0.0027878284454345703\n",
      "branch_touching_number = [80]\n",
      "Total time for mesh mapping: 0.001995563507080078\n",
      "Total time for mesh mapping: 0.003229856491088867\n",
      "Total time for mesh mapping: 0.0018215179443359375\n",
      "Total time for mesh mapping: 0.0030193328857421875\n",
      "Total time for mesh mapping: 0.0029959678649902344\n",
      "Total time for mesh mapping: 0.004230976104736328\n",
      "Total time for mesh mapping: 0.0017154216766357422\n",
      "Total time for mesh mapping: 0.002796173095703125\n",
      "Total time for mesh mapping: 0.002760648727416992\n",
      "Total time for mesh mapping: 0.0036878585815429688\n",
      "Total time for mesh mapping: 0.001653909683227539\n",
      "Total time for mesh mapping: 0.002797842025756836\n",
      "Total time for mesh mapping: 0.0028235912322998047\n",
      "Total time for mesh mapping: 0.0017473697662353516\n",
      "Total time for mesh mapping: 0.0028171539306640625\n",
      "Total time for mesh mapping: 0.002825021743774414\n",
      "Total time for mesh mapping: 0.0019881725311279297\n",
      "Total time for mesh mapping: 0.0027866363525390625\n",
      "Total time for mesh mapping: 0.002816438674926758\n",
      "Total time for mesh mapping: 0.0028014183044433594\n",
      "Total time for mesh mapping: 0.0046808719635009766\n",
      "Total time for mesh mapping: 0.002709627151489258\n",
      "Total time for mesh mapping: 0.003055095672607422\n",
      "Total time for mesh mapping: 0.0029773712158203125\n",
      "Total time for mesh mapping: 0.0030007362365722656\n",
      "Total time for mesh mapping: 0.0028295516967773438\n",
      "Total time for mesh mapping: 0.002774953842163086\n",
      "Total time for mesh mapping: 0.0028047561645507812\n",
      "Total time for mesh mapping: 0.002794504165649414\n",
      "Total time for mesh mapping: 0.002793550491333008\n",
      "Total time for mesh mapping: 0.009421110153198242\n",
      "Total time for mesh mapping: 0.0017194747924804688\n",
      "Total time for mesh mapping: 0.002602100372314453\n",
      "Total time for mesh mapping: 0.0028455257415771484\n",
      "Total time for mesh mapping: 0.002769947052001953\n",
      "Total time for mesh mapping: 0.0033888816833496094\n",
      "Total time for mesh mapping: 0.0017099380493164062\n",
      "Total time for mesh mapping: 0.0027608871459960938\n",
      "Total time for mesh mapping: 0.002846956253051758\n",
      "Total time for mesh mapping: 0.0031528472900390625\n",
      "Total time for mesh mapping: 0.0028181076049804688\n",
      "Total time for mesh mapping: 0.002758502960205078\n",
      "Total time for mesh mapping: 0.0043163299560546875\n",
      "Total time for mesh mapping: 0.0019369125366210938\n",
      "Total time for mesh mapping: 0.003002166748046875\n",
      "Total time for mesh mapping: 0.002974987030029297\n",
      "Total time for mesh mapping: 0.0030014514923095703\n",
      "Total time for mesh mapping: 0.003026723861694336\n",
      "Total time for mesh mapping: 0.002976655960083008\n",
      "Total time for mesh mapping: 0.0030128955841064453\n",
      "Total time for mesh mapping: 0.002987384796142578\n",
      "Total time for mesh mapping: 0.0029010772705078125\n",
      "Total time for mesh mapping: 0.002789020538330078\n",
      "Total time for mesh mapping: 0.0027832984924316406\n",
      "Total time for mesh mapping: 0.002802610397338867\n",
      "Total time for mesh mapping: 0.002754688262939453\n",
      "Total time for mesh mapping: 0.0027704238891601562\n",
      "Total time for mesh mapping: 0.002803325653076172\n",
      "Total time for mesh mapping: 0.002689361572265625\n",
      "Total time for mesh mapping: 0.0027892589569091797\n",
      "Total time for mesh mapping: 0.0028111934661865234\n",
      "Total time for mesh mapping: 0.002810239791870117\n",
      "Total time for mesh mapping: 0.002839326858520508\n",
      "Total time for mesh mapping: 0.0027887821197509766\n",
      "Total time for mesh mapping: 0.0027747154235839844\n",
      "Total time for mesh mapping: 0.002877473831176758\n",
      "Total time for mesh mapping: 0.003064393997192383\n",
      "Total time for mesh mapping: 0.0030074119567871094\n",
      "Total time for mesh mapping: 0.0029866695404052734\n",
      "Total time for mesh mapping: 0.0030345916748046875\n",
      "Total time for mesh mapping: 0.0029778480529785156\n",
      "Total time for mesh mapping: 0.0030231475830078125\n",
      "Total time for mesh mapping: 0.0028295516967773438\n",
      "Total time for mesh mapping: 0.0026445388793945312\n",
      "Total time for mesh mapping: 0.0027658939361572266\n",
      "Total time for mesh mapping: 0.0028085708618164062\n",
      "Total time for mesh mapping: 0.002830028533935547\n",
      "Total time for mesh mapping: 0.0028040409088134766\n",
      "Total time for mesh mapping: 0.0031571388244628906\n",
      "Total time for mesh mapping: 0.001669168472290039\n",
      "Total time for mesh mapping: 0.0042951107025146484\n",
      "Total time for mesh mapping: 0.0016732215881347656\n",
      "branch_touching_number = [80, 1]\n",
      "most_branch_containing_piece = 0\n"
     ]
    },
    {
     "data": {
      "application/vnd.jupyter.widget-view+json": {
       "model_id": "6bc8d5ebfb464c299e08632aa7e574ef",
       "version_major": 2,
       "version_minor": 0
      },
      "text/plain": [
       "HBox(children=(FloatProgress(value=1.0, bar_style='info', max=1.0), HTML(value='')))"
      ]
     },
     "metadata": {},
     "output_type": "display_data"
    },
    {
     "name": "stdout",
     "output_type": "stream",
     "text": [
      "\n",
      "filtered_measurements = [283.34037117 458.64893685 373.90142653 423.62764241 359.25052012\n",
      " 376.21969212 410.65814065 319.75984469 338.38472642 515.04137393\n",
      " 356.18519367 495.37991058 334.72375627 555.33209563 478.4562512\n",
      " 449.61334365 323.88625482 352.40288754 382.36356039 232.63759897\n",
      " 622.63271191 565.65500474 424.97728349 231.18721762 439.11948227\n",
      " 387.50861853 446.09480026 484.12521099 369.09989961 294.09907365\n",
      " 258.37046963 444.90566898 415.32592508 283.55954077 337.8628495\n",
      " 329.18346451 258.67956071 258.89203163 510.55468173 511.86718371\n",
      " 481.76310743 347.17503618 433.73397431 331.21561582 578.92085186\n",
      " 539.04396132 329.23661662 394.53671403 330.84139887 450.23495798\n",
      " 272.66004903 553.59025789 567.31757401 504.8441944  488.222985\n",
      " 290.2919966  362.85410654 359.02646938 458.95684271 335.60375961]\n",
      "new_threshold = 1686.526977414559\n"
     ]
    },
    {
     "data": {
      "application/vnd.jupyter.widget-view+json": {
       "model_id": "f3732f0f2fd34d5da52d10eaaf4a3c6b",
       "version_major": 2,
       "version_minor": 0
      },
      "text/plain": [
       "HBox(children=(FloatProgress(value=1.0, bar_style='info', max=1.0), HTML(value='')))"
      ]
     },
     "metadata": {},
     "output_type": "display_data"
    },
    {
     "name": "stdout",
     "output_type": "stream",
     "text": [
      "\n"
     ]
    },
    {
     "data": {
      "application/vnd.jupyter.widget-view+json": {
       "model_id": "5267703272964a5ca4160626d27d6034",
       "version_major": 2,
       "version_minor": 0
      },
      "text/plain": [
       "HBox(children=(FloatProgress(value=1.0, bar_style='info', max=1.0), HTML(value='')))"
      ]
     },
     "metadata": {},
     "output_type": "display_data"
    },
    {
     "name": "stdout",
     "output_type": "stream",
     "text": [
      "--> Not exactly one containing mesh: []\n",
      "--> Not exactly one containing mesh: []\n",
      "--> Not exactly one containing mesh: []\n",
      "\n",
      "filtered_measurements = [ 74.91045743  70.40547206 105.83153202  44.63798045  89.83152853\n",
      "  96.39574091  76.19422979  77.50883842]\n",
      "new_threshold = 229.89855967927537\n"
     ]
    },
    {
     "data": {
      "application/vnd.jupyter.widget-view+json": {
       "model_id": "2cfcb9ed41704bb5affb81b4edee5134",
       "version_major": 2,
       "version_minor": 0
      },
      "text/plain": [
       "HBox(children=(FloatProgress(value=1.0, bar_style='info', max=1.0), HTML(value='')))"
      ]
     },
     "metadata": {},
     "output_type": "display_data"
    },
    {
     "name": "stdout",
     "output_type": "stream",
     "text": [
      "--> Not exactly one containing mesh: []\n",
      "--> Not exactly one containing mesh: []\n",
      "--> Not exactly one containing mesh: []\n",
      "\n"
     ]
    },
    {
     "data": {
      "application/vnd.jupyter.widget-view+json": {
       "model_id": "e6a36fc637174a6a83fbb4c7035fe0ab",
       "version_major": 2,
       "version_minor": 0
      },
      "text/plain": [
       "HBox(children=(FloatProgress(value=1.0, bar_style='info', max=1.0), HTML(value='')))"
      ]
     },
     "metadata": {},
     "output_type": "display_data"
    },
    {
     "name": "stdout",
     "output_type": "stream",
     "text": [
      "\n",
      "filtered_measurements = [421.81565309 419.03589437 615.96448344 651.84322026 555.27360209\n",
      " 444.688665   530.46441862 817.86073768 793.584699   753.32393065\n",
      " 712.72590103 757.47742189 630.86541921 613.95092273 507.84614232\n",
      " 505.4068088  512.65534527 531.25728555 462.24811599 596.70865672\n",
      " 544.38959371 306.47224583 487.64072087 758.78111485 380.04859219\n",
      " 432.99391462 473.05710209 630.87429501 424.21628906 676.31083826\n",
      " 563.34847907 703.07642089 488.32108509 416.9591144  567.08794543\n",
      " 769.2885183  460.5156878 ]\n",
      "new_threshold = 2105.5663825286297\n"
     ]
    },
    {
     "data": {
      "application/vnd.jupyter.widget-view+json": {
       "model_id": "30a5040d6f084b318e257a3bc365b67d",
       "version_major": 2,
       "version_minor": 0
      },
      "text/plain": [
       "HBox(children=(FloatProgress(value=1.0, bar_style='info', max=1.0), HTML(value='')))"
      ]
     },
     "metadata": {},
     "output_type": "display_data"
    },
    {
     "name": "stdout",
     "output_type": "stream",
     "text": [
      "\n"
     ]
    },
    {
     "data": {
      "application/vnd.jupyter.widget-view+json": {
       "model_id": "3c231d41d9b744f4b5383ba9ea4fc5c9",
       "version_major": 2,
       "version_minor": 0
      },
      "text/plain": [
       "HBox(children=(FloatProgress(value=1.0, bar_style='info', max=1.0), HTML(value='')))"
      ]
     },
     "metadata": {},
     "output_type": "display_data"
    },
    {
     "name": "stdout",
     "output_type": "stream",
     "text": [
      "--> Not exactly one containing mesh: []\n",
      "--> Not exactly one containing mesh: []\n",
      "--> Not exactly one containing mesh: []\n",
      "--> Not exactly one containing mesh: []\n",
      "\n",
      "Total time for mesh mapping: 0.005121707916259766\n",
      "Total time for mesh mapping: 0.01067209243774414\n",
      "Total time for mesh mapping: 0.007537841796875\n",
      "Total time for mesh mapping: 0.0002503395080566406\n",
      "Total time for mesh mapping: 0.0002505779266357422\n",
      "Total time for mesh mapping: 0.00040531158447265625\n",
      "Total time for mesh mapping: 0.0002846717834472656\n",
      "Total time for mesh mapping: 0.00024390220642089844\n",
      "Total time for mesh mapping: 0.0002300739288330078\n",
      "Total time for mesh mapping: 0.0002334117889404297\n",
      "Total time for mesh mapping: 0.00022721290588378906\n",
      "Total time for mesh mapping: 0.00022983551025390625\n",
      "Total time for mesh mapping: 0.000263214111328125\n",
      "Total time for mesh mapping: 0.00022935867309570312\n",
      "Total time for mesh mapping: 0.0003597736358642578\n",
      "Total time for mesh mapping: 0.0002346038818359375\n",
      "Total time for mesh mapping: 0.0002396106719970703\n",
      "Total time for mesh mapping: 0.0003027915954589844\n",
      "Total time for mesh mapping: 0.00028395652770996094\n",
      "Total time for mesh mapping: 0.0002620220184326172\n",
      "Total time for mesh mapping: 0.0002512931823730469\n",
      "Total time for mesh mapping: 0.0002505779266357422\n",
      "Total time for mesh mapping: 0.000560760498046875\n",
      "branch_touching_number = [20]\n",
      "Total time for mesh mapping: 0.0006382465362548828\n",
      "Total time for mesh mapping: 0.00021409988403320312\n",
      "Total time for mesh mapping: 0.0002353191375732422\n",
      "Total time for mesh mapping: 0.00018167495727539062\n",
      "Total time for mesh mapping: 0.0001761913299560547\n",
      "Total time for mesh mapping: 0.0001819133758544922\n",
      "Total time for mesh mapping: 0.00020837783813476562\n",
      "Total time for mesh mapping: 0.0001671314239501953\n",
      "Total time for mesh mapping: 0.00028705596923828125\n",
      "Total time for mesh mapping: 0.00016069412231445312\n",
      "Total time for mesh mapping: 0.00015354156494140625\n",
      "Total time for mesh mapping: 0.00015664100646972656\n",
      "Total time for mesh mapping: 0.0001785755157470703\n",
      "Total time for mesh mapping: 0.00015854835510253906\n",
      "Total time for mesh mapping: 0.00015473365783691406\n",
      "Total time for mesh mapping: 0.0001583099365234375\n",
      "Total time for mesh mapping: 0.00015974044799804688\n",
      "Total time for mesh mapping: 0.000209808349609375\n",
      "Total time for mesh mapping: 0.00018215179443359375\n",
      "Total time for mesh mapping: 0.00017905235290527344\n",
      "Total time for mesh mapping: 0.0001747608184814453\n",
      "Total time for mesh mapping: 0.00017547607421875\n",
      "Total time for mesh mapping: 0.00026917457580566406\n",
      "branch_touching_number = [20, 2]\n",
      "most_branch_containing_piece = 0\n",
      "filtered_measurements = [113.50502931 167.79479121 231.63628558 182.71362455 112.32942702\n",
      "  95.01551756  73.3960791   71.84873871 150.18309878 233.58551733\n",
      "  99.01971627  74.51346924 140.11022534 149.99333913 180.0041367\n",
      " 208.22631347]\n",
      "new_threshold = 534.3759183289841\n"
     ]
    },
    {
     "data": {
      "application/vnd.jupyter.widget-view+json": {
       "model_id": "091055317014415eb77fbd9e44c47552",
       "version_major": 2,
       "version_minor": 0
      },
      "text/plain": [
       "HBox(children=(FloatProgress(value=1.0, bar_style='info', max=1.0), HTML(value='')))"
      ]
     },
     "metadata": {},
     "output_type": "display_data"
    },
    {
     "name": "stdout",
     "output_type": "stream",
     "text": [
      "--> Not exactly one containing mesh: []\n",
      "--> Not exactly one containing mesh: []\n",
      "--> Not exactly one containing mesh: []\n",
      "THERE WERE NO FACES THAT FIT THE DISTANCE (534.3759183289841) and Z transform requirements\n",
      "So just skipping this edge\n",
      "THERE WERE NO FACES THAT FIT THE DISTANCE (534.3759183289841) and Z transform requirements\n",
      "So just skipping this edge\n",
      "\n"
     ]
    },
    {
     "data": {
      "application/vnd.jupyter.widget-view+json": {
       "model_id": "c688293054e6495bb4a212430032863d",
       "version_major": 2,
       "version_minor": 0
      },
      "text/plain": [
       "HBox(children=(FloatProgress(value=1.0, bar_style='info', max=1.0), HTML(value='')))"
      ]
     },
     "metadata": {},
     "output_type": "display_data"
    },
    {
     "name": "stdout",
     "output_type": "stream",
     "text": [
      "\n",
      "filtered_measurements = [635.90729281 486.6350737  436.80077951]\n",
      "new_threshold = 1348.5811693449525\n"
     ]
    },
    {
     "data": {
      "application/vnd.jupyter.widget-view+json": {
       "model_id": "6d0b2c47a7d3497bbdedfe6bd1a66162",
       "version_major": 2,
       "version_minor": 0
      },
      "text/plain": [
       "HBox(children=(FloatProgress(value=1.0, bar_style='info', max=1.0), HTML(value='')))"
      ]
     },
     "metadata": {},
     "output_type": "display_data"
    },
    {
     "name": "stdout",
     "output_type": "stream",
     "text": [
      "\n"
     ]
    },
    {
     "data": {
      "application/vnd.jupyter.widget-view+json": {
       "model_id": "4cd96e5086c24c9290cf4f73c6bf4c86",
       "version_major": 2,
       "version_minor": 0
      },
      "text/plain": [
       "HBox(children=(FloatProgress(value=1.0, bar_style='info', max=1.0), HTML(value='')))"
      ]
     },
     "metadata": {},
     "output_type": "display_data"
    },
    {
     "name": "stdout",
     "output_type": "stream",
     "text": [
      "--> Not exactly one containing mesh: []\n",
      "\n",
      "filtered_measurements = [132.55388196 145.30371062 105.70953882]\n",
      "new_threshold = 299.05206321890546\n"
     ]
    },
    {
     "data": {
      "application/vnd.jupyter.widget-view+json": {
       "model_id": "410b993728b346f7aff42ba63251cb92",
       "version_major": 2,
       "version_minor": 0
      },
      "text/plain": [
       "HBox(children=(FloatProgress(value=1.0, bar_style='info', max=1.0), HTML(value='')))"
      ]
     },
     "metadata": {},
     "output_type": "display_data"
    },
    {
     "name": "stdout",
     "output_type": "stream",
     "text": [
      "--> Not exactly one containing mesh: []\n",
      "--> Not exactly one containing mesh: []\n",
      "\n",
      "Total time for mesh mapping: 0.0007791519165039062\n",
      "Total time for mesh mapping: 0.00031375885009765625\n",
      "Total time for mesh mapping: 0.00029540061950683594\n",
      "Total time for mesh mapping: 0.0003020763397216797\n",
      "Total time for mesh mapping: 0.0003097057342529297\n",
      "Total time for mesh mapping: 0.0003025531768798828\n",
      "Total time for mesh mapping: 0.006418466567993164\n",
      "branch_touching_number = [5]\n",
      "Total time for mesh mapping: 0.0004467964172363281\n",
      "Total time for mesh mapping: 0.00023174285888671875\n",
      "Total time for mesh mapping: 0.0002307891845703125\n",
      "Total time for mesh mapping: 0.00022792816162109375\n",
      "Total time for mesh mapping: 0.0002315044403076172\n",
      "Total time for mesh mapping: 0.0002446174621582031\n",
      "Total time for mesh mapping: 0.00024008750915527344\n",
      "branch_touching_number = [5, 1]\n",
      "most_branch_containing_piece = 0\n"
     ]
    },
    {
     "data": {
      "application/vnd.jupyter.widget-view+json": {
       "model_id": "a29bee2b4fdb4ab1a66a7c39b6dd88f4",
       "version_major": 2,
       "version_minor": 0
      },
      "text/plain": [
       "HBox(children=(FloatProgress(value=1.0, bar_style='info', max=1.0), HTML(value='')))"
      ]
     },
     "metadata": {},
     "output_type": "display_data"
    },
    {
     "name": "stdout",
     "output_type": "stream",
     "text": [
      "--> Not exactly one containing mesh: []\n",
      "--> Not exactly one containing mesh: []\n",
      "--> Not exactly one containing mesh: []\n",
      "--> Not exactly one containing mesh: []\n",
      "--> Not exactly one containing mesh: []\n",
      "--> Not exactly one containing mesh: []\n",
      "--> Not exactly one containing mesh: [0 2]\n",
      "\n",
      "filtered_measurements = [ 84.03178214  76.26976951  77.60068453  93.03124787 113.86571851\n",
      " 119.04000573  70.69072745  94.41313032 101.67945235  98.74168801\n",
      " 105.99981244  97.33985408  93.11387742 103.50342667  92.71351891\n",
      "  90.61304605 110.05527394  99.75260922 103.92174025  84.27891053\n",
      "  74.03675616  62.14924676  77.55455877 117.80623785  87.94557718\n",
      " 113.58483324 110.83612367 116.93810603  98.71162185 140.43539622\n",
      " 102.33399065  83.77379034 122.65689445  97.23368187 110.04730176\n",
      " 104.65873037 117.56669338 128.11150325  65.47062314  79.2613222\n",
      "  71.11805814  80.13874013 124.75436218 116.54674674 121.71628622\n",
      "  82.06629693 100.56232834 114.53379757 103.25549077  88.66073181\n",
      " 130.37175621 100.58165256 102.36271249]\n",
      "new_threshold = 332.95276234498886\n"
     ]
    },
    {
     "data": {
      "application/vnd.jupyter.widget-view+json": {
       "model_id": "6ab96883ee0b4ca48a45c6c4586f3dbd",
       "version_major": 2,
       "version_minor": 0
      },
      "text/plain": [
       "HBox(children=(FloatProgress(value=1.0, bar_style='info', max=1.0), HTML(value='')))"
      ]
     },
     "metadata": {},
     "output_type": "display_data"
    },
    {
     "name": "stdout",
     "output_type": "stream",
     "text": [
      "--> Not exactly one containing mesh: []\n",
      "--> Not exactly one containing mesh: []\n",
      "--> Not exactly one containing mesh: []\n",
      "--> Not exactly one containing mesh: []\n",
      "--> Not exactly one containing mesh: []\n",
      "--> Not exactly one containing mesh: []\n",
      "\n"
     ]
    },
    {
     "data": {
      "application/vnd.jupyter.widget-view+json": {
       "model_id": "9e595b7e677c4ae7b0f8009eca100817",
       "version_major": 2,
       "version_minor": 0
      },
      "text/plain": [
       "HBox(children=(FloatProgress(value=1.0, bar_style='info', max=1.0), HTML(value='')))"
      ]
     },
     "metadata": {},
     "output_type": "display_data"
    },
    {
     "name": "stdout",
     "output_type": "stream",
     "text": [
      "\n",
      "filtered_measurements = [818.05203523 442.08492154 497.54431176 390.26052155 420.21531202\n",
      " 519.61301516 521.61081458 811.57005715 780.76673286 653.78130215\n",
      " 618.81123065 586.59081614 507.18700204 743.38952847 385.87188436\n",
      " 376.02165972 404.7373438  375.67538889 538.26985112 699.02704165\n",
      " 655.76583981 778.31019889 683.11056871 590.34766934 554.8326012\n",
      " 402.0195221  699.88061215 688.70122023 718.21665435 427.85469146\n",
      " 542.10272814 670.01341379 447.98302357 596.63707511 648.4565292\n",
      " 535.66063343 531.67379113 497.76159305 427.13558657 592.82710698\n",
      " 347.68900656 552.63872325 577.35506182 426.02479133 614.30649248\n",
      " 487.87233458 489.23428507]\n",
      "new_threshold = 1972.2705162166585\n"
     ]
    },
    {
     "data": {
      "application/vnd.jupyter.widget-view+json": {
       "model_id": "6bc128121544431a8c1be58f9d286b4d",
       "version_major": 2,
       "version_minor": 0
      },
      "text/plain": [
       "HBox(children=(FloatProgress(value=1.0, bar_style='info', max=1.0), HTML(value='')))"
      ]
     },
     "metadata": {},
     "output_type": "display_data"
    },
    {
     "name": "stdout",
     "output_type": "stream",
     "text": [
      "\n"
     ]
    },
    {
     "data": {
      "application/vnd.jupyter.widget-view+json": {
       "model_id": "98614c8936a24a0b8ca11824de16a46c",
       "version_major": 2,
       "version_minor": 0
      },
      "text/plain": [
       "HBox(children=(FloatProgress(value=1.0, bar_style='info', max=1.0), HTML(value='')))"
      ]
     },
     "metadata": {},
     "output_type": "display_data"
    },
    {
     "name": "stdout",
     "output_type": "stream",
     "text": [
      "\n",
      "filtered_measurements = [124.33941238 218.55010027 269.09452558 216.37099238 431.62172216\n",
      " 493.2659867  632.86818119 412.14185506 591.16115805 619.80053739\n",
      " 559.79659727 340.2775147  292.23372207 458.41240389 324.19145692\n",
      " 349.02230634 222.5207796  474.49106427 195.8299612  571.83186536\n",
      " 227.65237831 464.01425696 466.45616859 499.47375257 485.92541013\n",
      " 248.18802402 447.59086151 345.69319784 227.56887111 454.52662335\n",
      " 555.46857146 296.4679454  371.63025041 443.52324628 336.36497719\n",
      " 442.52361661 343.74496082 417.57725846 544.82095383 431.51705547\n",
      " 345.98100311 356.94001491 290.07540924 562.7868741  517.66752776\n",
      " 457.06562501 410.1134078  437.88237895 427.5598082  362.85360649\n",
      " 250.97599714 398.46286226 586.29671644 542.29997543 296.11294839\n",
      " 616.90553202 478.56525963 377.55871381 602.05637661 490.07878181\n",
      " 568.00816733 355.01238987 310.00302111 462.61965381 394.85131648\n",
      " 410.18455175 322.27695551 396.55083617 402.83939094 321.81290768\n",
      " 336.40142559 234.74159973 194.11231462 232.41807983 579.53104604\n",
      " 331.84739538 461.31123905 517.75058462]\n",
      "new_threshold = 1671.8360505126107\n"
     ]
    },
    {
     "data": {
      "application/vnd.jupyter.widget-view+json": {
       "model_id": "31130726263b44f39257ea8d9333df51",
       "version_major": 2,
       "version_minor": 0
      },
      "text/plain": [
       "HBox(children=(FloatProgress(value=1.0, bar_style='info', max=1.0), HTML(value='')))"
      ]
     },
     "metadata": {},
     "output_type": "display_data"
    },
    {
     "name": "stdout",
     "output_type": "stream",
     "text": [
      "\n"
     ]
    },
    {
     "data": {
      "application/vnd.jupyter.widget-view+json": {
       "model_id": "13be3dcd42bd4ca5abdbbba9aa2b6696",
       "version_major": 2,
       "version_minor": 0
      },
      "text/plain": [
       "HBox(children=(FloatProgress(value=1.0, bar_style='info', max=1.0), HTML(value='')))"
      ]
     },
     "metadata": {},
     "output_type": "display_data"
    },
    {
     "name": "stdout",
     "output_type": "stream",
     "text": [
      "\n",
      "filtered_measurements = [332.35718397 266.97272434 194.90778514 381.30243664 526.21136926\n",
      " 623.63255285 499.26564013 265.69523876 402.94913569 600.99454852\n",
      " 605.56426521 454.41910263 407.08701448 573.70400492 613.35568432\n",
      " 330.52665623 329.76465739 337.80521344 527.46067337 289.61742535\n",
      " 395.88160157 417.95458809 382.71623964 515.62169997 496.30813659\n",
      " 325.23738801 295.21761808 442.99500923 450.97502173 398.55854745\n",
      " 361.34966785 472.85568232 570.95379989 450.06028056 402.67620908\n",
      " 384.86498247 392.78593086 293.5150921  423.90417055 433.53895427\n",
      " 489.03469883 361.78995504 276.87172273 373.78369346 441.36730002\n",
      " 612.13243055 568.63285292 550.67279954 322.03256348 567.31254163\n",
      " 307.38098016 436.40358026 597.57039352 432.42790714 500.66183403\n",
      " 429.19782565 432.77113733 429.65458791 316.07909265 281.94980861\n",
      " 359.06430773 607.16624045]\n",
      "new_threshold = 1570.1683514398064\n"
     ]
    },
    {
     "data": {
      "application/vnd.jupyter.widget-view+json": {
       "model_id": "20d676079f734b319c706a57a1dc9c00",
       "version_major": 2,
       "version_minor": 0
      },
      "text/plain": [
       "HBox(children=(FloatProgress(value=1.0, bar_style='info', max=1.0), HTML(value='')))"
      ]
     },
     "metadata": {},
     "output_type": "display_data"
    },
    {
     "name": "stdout",
     "output_type": "stream",
     "text": [
      "\n"
     ]
    },
    {
     "data": {
      "application/vnd.jupyter.widget-view+json": {
       "model_id": "32b255053267434b8d3a0be54fb997c5",
       "version_major": 2,
       "version_minor": 0
      },
      "text/plain": [
       "HBox(children=(FloatProgress(value=1.0, bar_style='info', max=1.0), HTML(value='')))"
      ]
     },
     "metadata": {},
     "output_type": "display_data"
    },
    {
     "name": "stdout",
     "output_type": "stream",
     "text": [
      "\n",
      "filtered_measurements = [872.15423737 855.41873509 489.47361373 498.97444647]\n",
      "new_threshold = 1851.695651515281\n"
     ]
    },
    {
     "data": {
      "application/vnd.jupyter.widget-view+json": {
       "model_id": "8a5fc004260540c59f95cd7de0fe45ed",
       "version_major": 2,
       "version_minor": 0
      },
      "text/plain": [
       "HBox(children=(FloatProgress(value=1.0, bar_style='info', max=1.0), HTML(value='')))"
      ]
     },
     "metadata": {},
     "output_type": "display_data"
    },
    {
     "name": "stdout",
     "output_type": "stream",
     "text": [
      "\n"
     ]
    },
    {
     "data": {
      "application/vnd.jupyter.widget-view+json": {
       "model_id": "f091f9e5dc0a4e4f99f07cec1ce2d407",
       "version_major": 2,
       "version_minor": 0
      },
      "text/plain": [
       "HBox(children=(FloatProgress(value=1.0, bar_style='info', max=1.0), HTML(value='')))"
      ]
     },
     "metadata": {},
     "output_type": "display_data"
    },
    {
     "name": "stdout",
     "output_type": "stream",
     "text": [
      "\n",
      "filtered_measurements = [614.34676375 466.58710491 545.21654923 535.65767405 697.28857012\n",
      " 591.16957878 673.28730001 491.24293147 449.46098779 506.8989782\n",
      " 517.42054926 596.06519329 575.39240753 435.57532639 432.4676035\n",
      " 444.6631385  551.57367156 425.49570227 436.94678959 477.12417715\n",
      " 567.32929643 528.80883864 632.72134471 488.73088681 445.61559557\n",
      " 490.82828018 578.43555321 670.43716426 438.83718506 455.58952154\n",
      " 431.67026419 441.79789052 631.6161768  600.47526504 562.7335816 ]\n",
      "new_threshold = 1582.5042285401578\n"
     ]
    },
    {
     "data": {
      "application/vnd.jupyter.widget-view+json": {
       "model_id": "43377dba86404ff99cceb81f69058af5",
       "version_major": 2,
       "version_minor": 0
      },
      "text/plain": [
       "HBox(children=(FloatProgress(value=1.0, bar_style='info', max=1.0), HTML(value='')))"
      ]
     },
     "metadata": {},
     "output_type": "display_data"
    },
    {
     "name": "stdout",
     "output_type": "stream",
     "text": [
      "\n"
     ]
    },
    {
     "data": {
      "application/vnd.jupyter.widget-view+json": {
       "model_id": "c518db9d16034d08a34358ba898fd50d",
       "version_major": 2,
       "version_minor": 0
      },
      "text/plain": [
       "HBox(children=(FloatProgress(value=1.0, bar_style='info', max=1.0), HTML(value='')))"
      ]
     },
     "metadata": {},
     "output_type": "display_data"
    },
    {
     "name": "stdout",
     "output_type": "stream",
     "text": [
      "\n",
      "filtered_measurements = [322.30627341 477.36389    288.35863446 330.2971098  453.92297601\n",
      " 432.4106548  607.64079518 440.44455273 390.55933571 415.65901762\n",
      " 385.24867912 555.14629956 545.12645372 620.66826617 451.4154259\n",
      " 370.51143567 429.83932802 329.86330853 383.89477564 278.78175664\n",
      " 288.15126916 493.07089268]\n",
      "new_threshold = 1449.2621908589167\n"
     ]
    },
    {
     "data": {
      "application/vnd.jupyter.widget-view+json": {
       "model_id": "59bdaeefc7c141ba83d990fb3afa48fa",
       "version_major": 2,
       "version_minor": 0
      },
      "text/plain": [
       "HBox(children=(FloatProgress(value=1.0, bar_style='info', max=1.0), HTML(value='')))"
      ]
     },
     "metadata": {},
     "output_type": "display_data"
    },
    {
     "name": "stdout",
     "output_type": "stream",
     "text": [
      "\n"
     ]
    },
    {
     "data": {
      "application/vnd.jupyter.widget-view+json": {
       "model_id": "6e47c87031b84c76884f435c623328c9",
       "version_major": 2,
       "version_minor": 0
      },
      "text/plain": [
       "HBox(children=(FloatProgress(value=1.0, bar_style='info', max=1.0), HTML(value='')))"
      ]
     },
     "metadata": {},
     "output_type": "display_data"
    },
    {
     "name": "stdout",
     "output_type": "stream",
     "text": [
      "\n",
      "filtered_measurements = [320.46155507 562.45205619 556.1383413  697.57828411 353.71393883\n",
      " 484.89774161 423.15834513 446.96221116 437.02254092 491.63170615\n",
      " 607.73199299 434.41361523 420.41839852 580.00338831 521.70486499\n",
      " 448.25792669 331.44934843 616.41446077 396.60269936 424.97921282\n",
      " 441.30772177 749.5686769  330.90231561 606.22566787 355.96197799\n",
      " 336.80648593]\n",
      "new_threshold = 1823.8701253023416\n"
     ]
    },
    {
     "data": {
      "application/vnd.jupyter.widget-view+json": {
       "model_id": "f0dc2080f4584c319dcbcb65242e9031",
       "version_major": 2,
       "version_minor": 0
      },
      "text/plain": [
       "HBox(children=(FloatProgress(value=1.0, bar_style='info', max=1.0), HTML(value='')))"
      ]
     },
     "metadata": {},
     "output_type": "display_data"
    },
    {
     "name": "stdout",
     "output_type": "stream",
     "text": [
      "\n"
     ]
    },
    {
     "data": {
      "application/vnd.jupyter.widget-view+json": {
       "model_id": "1b46e7129c5e491f827fae2a0ee94ff4",
       "version_major": 2,
       "version_minor": 0
      },
      "text/plain": [
       "HBox(children=(FloatProgress(value=1.0, bar_style='info', max=1.0), HTML(value='')))"
      ]
     },
     "metadata": {},
     "output_type": "display_data"
    },
    {
     "name": "stdout",
     "output_type": "stream",
     "text": [
      "\n",
      "filtered_measurements = [100.49334743  85.90951507  66.63778845  91.67029836  89.37583225\n",
      " 129.79779233  96.70787477  99.38952225 102.36193595  94.85818783\n",
      "  97.22745844 141.82936761 100.59767563]\n",
      "new_threshold = 282.77679581913986\n"
     ]
    },
    {
     "data": {
      "application/vnd.jupyter.widget-view+json": {
       "model_id": "06ebe1534311408881aa8a0a23759762",
       "version_major": 2,
       "version_minor": 0
      },
      "text/plain": [
       "HBox(children=(FloatProgress(value=1.0, bar_style='info', max=1.0), HTML(value='')))"
      ]
     },
     "metadata": {},
     "output_type": "display_data"
    },
    {
     "name": "stdout",
     "output_type": "stream",
     "text": [
      "--> Not exactly one containing mesh: []\n",
      "\n",
      "Total time for mesh mapping: 0.001958608627319336\n",
      "Total time for mesh mapping: 0.0010595321655273438\n",
      "Total time for mesh mapping: 0.00022268295288085938\n",
      "Total time for mesh mapping: 0.00022268295288085938\n",
      "Total time for mesh mapping: 0.000217437744140625\n",
      "Total time for mesh mapping: 0.00022029876708984375\n",
      "Total time for mesh mapping: 0.00021767616271972656\n",
      "Total time for mesh mapping: 0.00022125244140625\n",
      "Total time for mesh mapping: 0.0002269744873046875\n",
      "Total time for mesh mapping: 0.0003352165222167969\n",
      "Total time for mesh mapping: 0.0002422332763671875\n",
      "Total time for mesh mapping: 0.0002219676971435547\n",
      "Total time for mesh mapping: 0.00021958351135253906\n",
      "Total time for mesh mapping: 0.0002148151397705078\n",
      "Total time for mesh mapping: 0.0002181529998779297\n",
      "Total time for mesh mapping: 0.00022912025451660156\n",
      "Total time for mesh mapping: 0.0002155303955078125\n",
      "Total time for mesh mapping: 0.0001761913299560547\n",
      "branch_touching_number = [16]\n",
      "Total time for mesh mapping: 0.0003592967987060547\n",
      "Total time for mesh mapping: 0.0001518726348876953\n",
      "Total time for mesh mapping: 0.00015664100646972656\n",
      "Total time for mesh mapping: 0.00012993812561035156\n",
      "Total time for mesh mapping: 0.0001361370086669922\n",
      "Total time for mesh mapping: 0.00013899803161621094\n",
      "Total time for mesh mapping: 0.00013327598571777344\n",
      "Total time for mesh mapping: 0.00013756752014160156\n",
      "Total time for mesh mapping: 0.0002739429473876953\n",
      "Total time for mesh mapping: 0.0001316070556640625\n",
      "Total time for mesh mapping: 0.00013518333435058594\n",
      "Total time for mesh mapping: 0.00013589859008789062\n",
      "Total time for mesh mapping: 0.00013399124145507812\n",
      "Total time for mesh mapping: 0.00013446807861328125\n",
      "Total time for mesh mapping: 0.00013637542724609375\n",
      "Total time for mesh mapping: 0.0001392364501953125\n",
      "Total time for mesh mapping: 0.00013327598571777344\n",
      "Total time for mesh mapping: 0.0001347064971923828\n",
      "branch_touching_number = [16, 1]\n",
      "most_branch_containing_piece = 0\n"
     ]
    },
    {
     "data": {
      "application/vnd.jupyter.widget-view+json": {
       "model_id": "cc719b8cc5424f4c8485743d3556ae2d",
       "version_major": 2,
       "version_minor": 0
      },
      "text/plain": [
       "HBox(children=(FloatProgress(value=1.0, bar_style='info', max=1.0), HTML(value='')))"
      ]
     },
     "metadata": {},
     "output_type": "display_data"
    },
    {
     "name": "stdout",
     "output_type": "stream",
     "text": [
      "\n",
      "filtered_measurements = [562.40878121 456.24413484 422.19001766 379.50038475 622.64788597\n",
      " 369.48990925 405.992492   635.26704005 519.24182932 641.34793892\n",
      " 310.64533766 375.23875013 472.43102717 487.47849566 535.12935648\n",
      " 448.1312755  443.15779235 400.92368541]\n",
      "new_threshold = 1685.540228253166\n"
     ]
    },
    {
     "data": {
      "application/vnd.jupyter.widget-view+json": {
       "model_id": "113b9d8985074f01a0d74c8658ed14ee",
       "version_major": 2,
       "version_minor": 0
      },
      "text/plain": [
       "HBox(children=(FloatProgress(value=1.0, bar_style='info', max=1.0), HTML(value='')))"
      ]
     },
     "metadata": {},
     "output_type": "display_data"
    },
    {
     "name": "stdout",
     "output_type": "stream",
     "text": [
      "\n"
     ]
    },
    {
     "data": {
      "application/vnd.jupyter.widget-view+json": {
       "model_id": "274068183a4848718b135524d31eaff3",
       "version_major": 2,
       "version_minor": 0
      },
      "text/plain": [
       "HBox(children=(FloatProgress(value=1.0, bar_style='info', max=1.0), HTML(value='')))"
      ]
     },
     "metadata": {},
     "output_type": "display_data"
    },
    {
     "name": "stdout",
     "output_type": "stream",
     "text": [
      "--> Not exactly one containing mesh: []\n",
      "--> Not exactly one containing mesh: []\n",
      "\n",
      "filtered_measurements = [124.8211295  136.03991468  95.73568795  87.31769637  91.87726831\n",
      " 126.95078985 122.97010767  79.01975919  95.2107672  151.58586491\n",
      "  70.46262134  56.92343349  55.08819884 109.07036457 101.54393189\n",
      " 101.60093029 103.72098971  90.00763903  92.12294578  78.97712534\n",
      " 133.58830456]\n",
      "new_threshold = 318.5629289336979\n"
     ]
    },
    {
     "data": {
      "application/vnd.jupyter.widget-view+json": {
       "model_id": "f7fb9ef25e8246868a2e6d88273e7bcc",
       "version_major": 2,
       "version_minor": 0
      },
      "text/plain": [
       "HBox(children=(FloatProgress(value=1.0, bar_style='info', max=1.0), HTML(value='')))"
      ]
     },
     "metadata": {},
     "output_type": "display_data"
    },
    {
     "name": "stdout",
     "output_type": "stream",
     "text": [
      "--> Not exactly one containing mesh: []\n",
      "--> Not exactly one containing mesh: []\n",
      "\n"
     ]
    },
    {
     "data": {
      "application/vnd.jupyter.widget-view+json": {
       "model_id": "1b49d4a58d0f43d2b12ed840589b149a",
       "version_major": 2,
       "version_minor": 0
      },
      "text/plain": [
       "HBox(children=(FloatProgress(value=1.0, bar_style='info', max=1.0), HTML(value='')))"
      ]
     },
     "metadata": {},
     "output_type": "display_data"
    },
    {
     "name": "stdout",
     "output_type": "stream",
     "text": [
      "--> Not exactly one containing mesh: []\n",
      "\n",
      "filtered_measurements = [ 99.74943978 101.0015399  120.37965933 148.6342467  108.25386586\n",
      " 124.86115974 106.91934134 181.21575596  88.7726493  109.84475682\n",
      " 118.00680958 133.08302022  91.81477945  88.11813199 103.5371251\n",
      " 118.93095906  87.82959075 118.92028264 157.74746041 183.18823668\n",
      " 145.74852859]\n",
      "new_threshold = 370.1952634452265\n"
     ]
    },
    {
     "data": {
      "application/vnd.jupyter.widget-view+json": {
       "model_id": "6c9cb3b5ecba4f1f84849ccef2763043",
       "version_major": 2,
       "version_minor": 0
      },
      "text/plain": [
       "HBox(children=(FloatProgress(value=1.0, bar_style='info', max=1.0), HTML(value='')))"
      ]
     },
     "metadata": {},
     "output_type": "display_data"
    },
    {
     "name": "stdout",
     "output_type": "stream",
     "text": [
      "--> Not exactly one containing mesh: []\n",
      "--> Not exactly one containing mesh: []\n",
      "\n"
     ]
    },
    {
     "data": {
      "application/vnd.jupyter.widget-view+json": {
       "model_id": "98f1a4b6bb174df9a730160423c59a1b",
       "version_major": 2,
       "version_minor": 0
      },
      "text/plain": [
       "HBox(children=(FloatProgress(value=1.0, bar_style='info', max=1.0), HTML(value='')))"
      ]
     },
     "metadata": {},
     "output_type": "display_data"
    },
    {
     "name": "stdout",
     "output_type": "stream",
     "text": [
      "--> Not exactly one containing mesh: []\n",
      "\n",
      "filtered_measurements = [576.77907163 449.20926588 515.43100981 498.33787095 546.23380583\n",
      " 547.94616142 596.22374765 598.06909504 570.52765934 535.05779184\n",
      " 489.86920877 530.37852892 531.78079935 559.71449699]\n",
      "new_threshold = 1174.0739064831591\n"
     ]
    },
    {
     "data": {
      "application/vnd.jupyter.widget-view+json": {
       "model_id": "562808419d3d4d5e94734ae398419926",
       "version_major": 2,
       "version_minor": 0
      },
      "text/plain": [
       "HBox(children=(FloatProgress(value=1.0, bar_style='info', max=1.0), HTML(value='')))"
      ]
     },
     "metadata": {},
     "output_type": "display_data"
    },
    {
     "name": "stdout",
     "output_type": "stream",
     "text": [
      "--> Not exactly one containing mesh: []\n",
      "THERE WERE NO FACES THAT FIT THE DISTANCE (1174.0739064831591) and Z transform requirements\n",
      "So just skipping this edge\n",
      "\n"
     ]
    },
    {
     "data": {
      "application/vnd.jupyter.widget-view+json": {
       "model_id": "afa2af41ee0f4fdcae63150bf116c88c",
       "version_major": 2,
       "version_minor": 0
      },
      "text/plain": [
       "HBox(children=(FloatProgress(value=1.0, bar_style='info', max=1.0), HTML(value='')))"
      ]
     },
     "metadata": {},
     "output_type": "display_data"
    },
    {
     "name": "stdout",
     "output_type": "stream",
     "text": [
      "--> Not exactly one containing mesh: []\n",
      "\n",
      "filtered_measurements = [119.11542298 128.36373563 130.46334676 169.69836981 129.01969728\n",
      " 152.1850634  204.51863546 129.10560112 163.79269746 120.3747357\n",
      " 138.20710217 133.51117117 142.36802666 140.21841864 140.26728683\n",
      " 170.0338674  160.24350785 119.8715167 ]\n",
      "new_threshold = 428.33916834491606\n"
     ]
    },
    {
     "data": {
      "application/vnd.jupyter.widget-view+json": {
       "model_id": "5950b4bb581241d1a8438390b70bc5e9",
       "version_major": 2,
       "version_minor": 0
      },
      "text/plain": [
       "HBox(children=(FloatProgress(value=1.0, bar_style='info', max=1.0), HTML(value='')))"
      ]
     },
     "metadata": {},
     "output_type": "display_data"
    },
    {
     "name": "stdout",
     "output_type": "stream",
     "text": [
      "--> Not exactly one containing mesh: []\n",
      "\n"
     ]
    },
    {
     "data": {
      "application/vnd.jupyter.widget-view+json": {
       "model_id": "ae52f6d0b39745e7bf3b0ea9cab9d383",
       "version_major": 2,
       "version_minor": 0
      },
      "text/plain": [
       "HBox(children=(FloatProgress(value=1.0, bar_style='info', max=1.0), HTML(value='')))"
      ]
     },
     "metadata": {},
     "output_type": "display_data"
    },
    {
     "name": "stdout",
     "output_type": "stream",
     "text": [
      "--> Not exactly one containing mesh: []\n",
      "\n",
      "filtered_measurements = [ 695.95077807  976.18161423  814.31290486  703.25293799  970.06434499\n",
      "  859.76837624  869.62758226  772.86743678 1260.30232031 1136.75445324\n",
      "  944.46854786]\n",
      "new_threshold = 2470.3153840917294\n"
     ]
    },
    {
     "data": {
      "application/vnd.jupyter.widget-view+json": {
       "model_id": "bc27dee190ee40bfa50e9f197f95defa",
       "version_major": 2,
       "version_minor": 0
      },
      "text/plain": [
       "HBox(children=(FloatProgress(value=1.0, bar_style='info', max=1.0), HTML(value='')))"
      ]
     },
     "metadata": {},
     "output_type": "display_data"
    },
    {
     "name": "stdout",
     "output_type": "stream",
     "text": [
      "--> Not exactly one containing mesh: []\n",
      "\n"
     ]
    },
    {
     "data": {
      "application/vnd.jupyter.widget-view+json": {
       "model_id": "42090b33b3e947f482c8efb69b364b75",
       "version_major": 2,
       "version_minor": 0
      },
      "text/plain": [
       "HBox(children=(FloatProgress(value=1.0, bar_style='info', max=1.0), HTML(value='')))"
      ]
     },
     "metadata": {},
     "output_type": "display_data"
    },
    {
     "name": "stdout",
     "output_type": "stream",
     "text": [
      "--> Not exactly one containing mesh: [0 1]\n",
      "\n",
      "filtered_measurements = [185.54461865  97.89697406 193.45189978 274.3665875  132.37297761\n",
      " 312.26251815]\n",
      "new_threshold = 672.909604101565\n"
     ]
    },
    {
     "data": {
      "application/vnd.jupyter.widget-view+json": {
       "model_id": "9b1f14da5cb24b54be9fc9d7e1012368",
       "version_major": 2,
       "version_minor": 0
      },
      "text/plain": [
       "HBox(children=(FloatProgress(value=1.0, bar_style='info', max=1.0), HTML(value='')))"
      ]
     },
     "metadata": {},
     "output_type": "display_data"
    },
    {
     "name": "stdout",
     "output_type": "stream",
     "text": [
      "\n"
     ]
    },
    {
     "data": {
      "application/vnd.jupyter.widget-view+json": {
       "model_id": "e7f35670707c46688506270db394b6fd",
       "version_major": 2,
       "version_minor": 0
      },
      "text/plain": [
       "HBox(children=(FloatProgress(value=1.0, bar_style='info', max=1.0), HTML(value='')))"
      ]
     },
     "metadata": {},
     "output_type": "display_data"
    },
    {
     "name": "stdout",
     "output_type": "stream",
     "text": [
      "\n",
      "filtered_measurements = [380.66478144 500.76762772]\n",
      "new_threshold = 1126.2157670979277\n"
     ]
    },
    {
     "data": {
      "application/vnd.jupyter.widget-view+json": {
       "model_id": "cce319c09b234cf6977a4245b6fc52cb",
       "version_major": 2,
       "version_minor": 0
      },
      "text/plain": [
       "HBox(children=(FloatProgress(value=1.0, bar_style='info', max=1.0), HTML(value='')))"
      ]
     },
     "metadata": {},
     "output_type": "display_data"
    },
    {
     "name": "stdout",
     "output_type": "stream",
     "text": [
      "\n"
     ]
    },
    {
     "data": {
      "application/vnd.jupyter.widget-view+json": {
       "model_id": "f4123abf6a3348328b6210a0453a8aa3",
       "version_major": 2,
       "version_minor": 0
      },
      "text/plain": [
       "HBox(children=(FloatProgress(value=1.0, bar_style='info', max=1.0), HTML(value='')))"
      ]
     },
     "metadata": {},
     "output_type": "display_data"
    },
    {
     "name": "stdout",
     "output_type": "stream",
     "text": [
      "\n",
      "filtered_measurements = [ 957.11228368 1130.52125693 1250.35861203  858.87767251]\n",
      "new_threshold = 2421.232904038022\n"
     ]
    },
    {
     "data": {
      "application/vnd.jupyter.widget-view+json": {
       "model_id": "773a654f89b147309d18143e24beb2c8",
       "version_major": 2,
       "version_minor": 0
      },
      "text/plain": [
       "HBox(children=(FloatProgress(value=1.0, bar_style='info', max=1.0), HTML(value='')))"
      ]
     },
     "metadata": {},
     "output_type": "display_data"
    },
    {
     "name": "stdout",
     "output_type": "stream",
     "text": [
      "\n"
     ]
    },
    {
     "data": {
      "application/vnd.jupyter.widget-view+json": {
       "model_id": "85fd3516708d40bfa00350524bd9b5a1",
       "version_major": 2,
       "version_minor": 0
      },
      "text/plain": [
       "HBox(children=(FloatProgress(value=1.0, bar_style='info', max=1.0), HTML(value='')))"
      ]
     },
     "metadata": {},
     "output_type": "display_data"
    },
    {
     "name": "stdout",
     "output_type": "stream",
     "text": [
      "--> Not exactly one containing mesh: []\n",
      "--> Not exactly one containing mesh: []\n",
      "\n",
      "filtered_measurements = [1651.33791046  206.52479448 1559.64772033 1651.84954958  238.0892887 ]\n",
      "new_threshold = 3473.6695096277663\n"
     ]
    },
    {
     "data": {
      "application/vnd.jupyter.widget-view+json": {
       "model_id": "7f8cea590e414a1eb03e391b98131887",
       "version_major": 2,
       "version_minor": 0
      },
      "text/plain": [
       "HBox(children=(FloatProgress(value=1.0, bar_style='info', max=1.0), HTML(value='')))"
      ]
     },
     "metadata": {},
     "output_type": "display_data"
    },
    {
     "name": "stdout",
     "output_type": "stream",
     "text": [
      "--> Not exactly one containing mesh: []\n",
      "\n"
     ]
    },
    {
     "data": {
      "application/vnd.jupyter.widget-view+json": {
       "model_id": "bcfa8246a0c148e39e6e04e736f214a7",
       "version_major": 2,
       "version_minor": 0
      },
      "text/plain": [
       "HBox(children=(FloatProgress(value=1.0, bar_style='info', max=1.0), HTML(value='')))"
      ]
     },
     "metadata": {},
     "output_type": "display_data"
    },
    {
     "name": "stdout",
     "output_type": "stream",
     "text": [
      "--> Not exactly one containing mesh: [0 1]\n",
      "\n",
      "filtered_measurements = [138.40027686 105.87289138 116.57326804 128.36580989 115.4013429\n",
      " 153.20108668  78.95819517]\n",
      "new_threshold = 286.7662348773048\n"
     ]
    },
    {
     "data": {
      "application/vnd.jupyter.widget-view+json": {
       "model_id": "44d43573eed64ea1a48850330a5cb1db",
       "version_major": 2,
       "version_minor": 0
      },
      "text/plain": [
       "HBox(children=(FloatProgress(value=1.0, bar_style='info', max=1.0), HTML(value='')))"
      ]
     },
     "metadata": {},
     "output_type": "display_data"
    },
    {
     "name": "stdout",
     "output_type": "stream",
     "text": [
      "\n"
     ]
    },
    {
     "data": {
      "application/vnd.jupyter.widget-view+json": {
       "model_id": "f37b97c4b8b74a8db4e6cb9edb7a87c7",
       "version_major": 2,
       "version_minor": 0
      },
      "text/plain": [
       "HBox(children=(FloatProgress(value=1.0, bar_style='info', max=1.0), HTML(value='')))"
      ]
     },
     "metadata": {},
     "output_type": "display_data"
    },
    {
     "name": "stdout",
     "output_type": "stream",
     "text": [
      "\n",
      "filtered_measurements = [1080.78045955 1124.34681268 1117.5223648   886.36860889 1259.27497438\n",
      "  929.45747011 1278.11323127 1136.31570691 1206.12385471 1037.68326145]\n",
      "new_threshold = 2578.0061381248934\n"
     ]
    },
    {
     "data": {
      "application/vnd.jupyter.widget-view+json": {
       "model_id": "9d625fdb0a494dd182630030b22f89f0",
       "version_major": 2,
       "version_minor": 0
      },
      "text/plain": [
       "HBox(children=(FloatProgress(value=1.0, bar_style='info', max=1.0), HTML(value='')))"
      ]
     },
     "metadata": {},
     "output_type": "display_data"
    },
    {
     "name": "stdout",
     "output_type": "stream",
     "text": [
      "\n"
     ]
    },
    {
     "data": {
      "application/vnd.jupyter.widget-view+json": {
       "model_id": "061ef9fa886c41ea820e972dc7ea28fa",
       "version_major": 2,
       "version_minor": 0
      },
      "text/plain": [
       "HBox(children=(FloatProgress(value=1.0, bar_style='info', max=1.0), HTML(value='')))"
      ]
     },
     "metadata": {},
     "output_type": "display_data"
    },
    {
     "name": "stdout",
     "output_type": "stream",
     "text": [
      "\n",
      "filtered_measurements = [336.71347072 484.07295086 504.05559909 402.17942499 353.66196515\n",
      " 683.79378753 292.29359265 477.7387415  426.30836807 630.21907262\n",
      " 319.57896869 398.04916043 435.09557733 594.97490636 317.27662548\n",
      " 359.09797228 548.8927989  663.42383969 344.37205683 363.90815011\n",
      " 351.45169377 345.98449299 405.78584442 695.46834421 416.20724037\n",
      " 257.52389034 439.38635808 371.26461205 330.05769833 337.08171052\n",
      " 325.58003137 450.39307932 594.39389538 499.22314805 307.4217833\n",
      " 375.63713045 675.95520175 477.1234136  519.64674956 504.64407281\n",
      " 473.78262305 505.28787907 538.19083334 581.1716569  408.29217059]\n",
      "new_threshold = 1697.5179989021549\n"
     ]
    },
    {
     "data": {
      "application/vnd.jupyter.widget-view+json": {
       "model_id": "7b985a54f20c4e88ac40584688c63af3",
       "version_major": 2,
       "version_minor": 0
      },
      "text/plain": [
       "HBox(children=(FloatProgress(value=1.0, bar_style='info', max=1.0), HTML(value='')))"
      ]
     },
     "metadata": {},
     "output_type": "display_data"
    },
    {
     "name": "stdout",
     "output_type": "stream",
     "text": [
      "\n"
     ]
    },
    {
     "data": {
      "application/vnd.jupyter.widget-view+json": {
       "model_id": "2c4ad56dad9446d79d30cc12801992e7",
       "version_major": 2,
       "version_minor": 0
      },
      "text/plain": [
       "HBox(children=(FloatProgress(value=1.0, bar_style='info', max=1.0), HTML(value='')))"
      ]
     },
     "metadata": {},
     "output_type": "display_data"
    },
    {
     "name": "stdout",
     "output_type": "stream",
     "text": [
      "--> Not exactly one containing mesh: []\n",
      "--> Not exactly one containing mesh: []\n",
      "--> Not exactly one containing mesh: [0 1]\n",
      "\n",
      "filtered_measurements = [1739.62682381 2260.46123685  259.01457712 1553.50394983 1520.24124823]\n",
      "new_threshold = 4056.535852161175\n"
     ]
    },
    {
     "data": {
      "application/vnd.jupyter.widget-view+json": {
       "model_id": "9669215080964922b06b2ae504b0aec1",
       "version_major": 2,
       "version_minor": 0
      },
      "text/plain": [
       "HBox(children=(FloatProgress(value=1.0, bar_style='info', max=1.0), HTML(value='')))"
      ]
     },
     "metadata": {},
     "output_type": "display_data"
    },
    {
     "name": "stdout",
     "output_type": "stream",
     "text": [
      "--> Not exactly one containing mesh: []\n",
      "--> Not exactly one containing mesh: []\n",
      "--> Not exactly one containing mesh: [0 1]\n",
      "\n"
     ]
    },
    {
     "data": {
      "application/vnd.jupyter.widget-view+json": {
       "model_id": "f95d950fb5da415f9e4b642f3faf3831",
       "version_major": 2,
       "version_minor": 0
      },
      "text/plain": [
       "HBox(children=(FloatProgress(value=1.0, bar_style='info', max=1.0), HTML(value='')))"
      ]
     },
     "metadata": {},
     "output_type": "display_data"
    },
    {
     "name": "stdout",
     "output_type": "stream",
     "text": [
      "\n",
      "filtered_measurements = [1186.48639051 1084.05971533  985.80325362 1010.55830806]\n",
      "new_threshold = 2445.4798556017895\n"
     ]
    },
    {
     "data": {
      "application/vnd.jupyter.widget-view+json": {
       "model_id": "47b9eeb737aa4e348df12f801815b0e6",
       "version_major": 2,
       "version_minor": 0
      },
      "text/plain": [
       "HBox(children=(FloatProgress(value=1.0, bar_style='info', max=1.0), HTML(value='')))"
      ]
     },
     "metadata": {},
     "output_type": "display_data"
    },
    {
     "name": "stdout",
     "output_type": "stream",
     "text": [
      "\n"
     ]
    },
    {
     "data": {
      "application/vnd.jupyter.widget-view+json": {
       "model_id": "a44d6d99735a4f31b41324b05085641f",
       "version_major": 2,
       "version_minor": 0
      },
      "text/plain": [
       "HBox(children=(FloatProgress(value=1.0, bar_style='info', max=1.0), HTML(value='')))"
      ]
     },
     "metadata": {},
     "output_type": "display_data"
    },
    {
     "name": "stdout",
     "output_type": "stream",
     "text": [
      "\n",
      "filtered_measurements = [1018.22095421  898.95121835 1145.37620789  907.57234564  863.56372453\n",
      "  874.46108004  939.29421631 1239.44290456  877.78804747  920.14526322\n",
      " 1158.99853655 1069.19407246 1106.80482044  838.29320902  875.89602299\n",
      "  933.63651389 1069.62979131  988.92965736  915.16934655 1171.09176247\n",
      " 1131.73696139 1036.59274375  912.07170813 1194.7416502   967.95450832]\n",
      "new_threshold = 2450.978767049569\n"
     ]
    },
    {
     "data": {
      "application/vnd.jupyter.widget-view+json": {
       "model_id": "c3dda064ecfe4f04b292376791ff3132",
       "version_major": 2,
       "version_minor": 0
      },
      "text/plain": [
       "HBox(children=(FloatProgress(value=1.0, bar_style='info', max=1.0), HTML(value='')))"
      ]
     },
     "metadata": {},
     "output_type": "display_data"
    },
    {
     "name": "stdout",
     "output_type": "stream",
     "text": [
      "\n"
     ]
    },
    {
     "data": {
      "application/vnd.jupyter.widget-view+json": {
       "model_id": "c67d91003fc647c6944856d947e06776",
       "version_major": 2,
       "version_minor": 0
      },
      "text/plain": [
       "HBox(children=(FloatProgress(value=1.0, bar_style='info', max=1.0), HTML(value='')))"
      ]
     },
     "metadata": {},
     "output_type": "display_data"
    },
    {
     "name": "stdout",
     "output_type": "stream",
     "text": [
      "\n",
      "filtered_measurements = [1160.90138338 1280.41788738 1018.29163094  962.31272738 1012.35303418]\n",
      "new_threshold = 2630.168410209263\n"
     ]
    },
    {
     "data": {
      "application/vnd.jupyter.widget-view+json": {
       "model_id": "50c4ee2dd1e543408a357b6d83ed500b",
       "version_major": 2,
       "version_minor": 0
      },
      "text/plain": [
       "HBox(children=(FloatProgress(value=1.0, bar_style='info', max=1.0), HTML(value='')))"
      ]
     },
     "metadata": {},
     "output_type": "display_data"
    },
    {
     "name": "stdout",
     "output_type": "stream",
     "text": [
      "\n"
     ]
    },
    {
     "data": {
      "application/vnd.jupyter.widget-view+json": {
       "model_id": "88b8e9c25dbe4bceb3f0d1fb6ef58d62",
       "version_major": 2,
       "version_minor": 0
      },
      "text/plain": [
       "HBox(children=(FloatProgress(value=1.0, bar_style='info', max=1.0), HTML(value='')))"
      ]
     },
     "metadata": {},
     "output_type": "display_data"
    },
    {
     "name": "stdout",
     "output_type": "stream",
     "text": [
      "--> Not exactly one containing mesh: []\n",
      "--> Not exactly one containing mesh: []\n",
      "\n",
      "Total time for mesh mapping: 0.008041620254516602\n",
      "Total time for mesh mapping: 0.003147125244140625\n",
      "Total time for mesh mapping: 0.007641315460205078\n",
      "Total time for mesh mapping: 0.013074159622192383\n",
      "Total time for mesh mapping: 0.007352113723754883\n",
      "Total time for mesh mapping: 0.005585670471191406\n",
      "Total time for mesh mapping: 0.0005624294281005859\n",
      "Total time for mesh mapping: 0.0002682209014892578\n",
      "branch_touching_number = [4]\n",
      "Total time for mesh mapping: 0.0006339550018310547\n",
      "Total time for mesh mapping: 0.0003371238708496094\n",
      "Total time for mesh mapping: 0.0003380775451660156\n",
      "Total time for mesh mapping: 0.0002162456512451172\n",
      "Total time for mesh mapping: 0.00016427040100097656\n",
      "Total time for mesh mapping: 0.0003476142883300781\n",
      "Total time for mesh mapping: 0.0005354881286621094\n",
      "Total time for mesh mapping: 0.00019073486328125\n",
      "branch_touching_number = [4, 3]\n",
      "most_branch_containing_piece = 0\n",
      "filtered_measurements = [1465.98359826  332.64143249  244.11776116 1914.13443376 1773.92754747]\n",
      "new_threshold = 4034.510884874101\n"
     ]
    },
    {
     "data": {
      "application/vnd.jupyter.widget-view+json": {
       "model_id": "127de051872e4a1b9472c2cf5fc61a36",
       "version_major": 2,
       "version_minor": 0
      },
      "text/plain": [
       "HBox(children=(FloatProgress(value=1.0, bar_style='info', max=1.0), HTML(value='')))"
      ]
     },
     "metadata": {},
     "output_type": "display_data"
    },
    {
     "name": "stdout",
     "output_type": "stream",
     "text": [
      "--> Not exactly one containing mesh: []\n",
      "THERE WERE NO FACES THAT FIT THE DISTANCE (4034.510884874101) and Z transform requirements\n",
      "So just skipping this edge\n",
      "THERE WERE NO FACES THAT FIT THE DISTANCE (4034.510884874101) and Z transform requirements\n",
      "So just skipping this edge\n",
      "--> Not exactly one containing mesh: []\n",
      "\n"
     ]
    },
    {
     "data": {
      "application/vnd.jupyter.widget-view+json": {
       "model_id": "f61278188b48410388e96ac227ef763f",
       "version_major": 2,
       "version_minor": 0
      },
      "text/plain": [
       "HBox(children=(FloatProgress(value=1.0, bar_style='info', max=1.0), HTML(value='')))"
      ]
     },
     "metadata": {},
     "output_type": "display_data"
    },
    {
     "name": "stdout",
     "output_type": "stream",
     "text": [
      "--> Not exactly one containing mesh: []\n",
      "--> Not exactly one containing mesh: []\n",
      "\n",
      "Total time for mesh mapping: 0.007791042327880859\n",
      "Total time for mesh mapping: 0.0007185935974121094\n",
      "Total time for mesh mapping: 0.0005686283111572266\n",
      "Total time for mesh mapping: 0.001689910888671875\n",
      "Total time for mesh mapping: 0.0011739730834960938\n",
      "Total time for mesh mapping: 0.0012149810791015625\n",
      "Total time for mesh mapping: 0.0008404254913330078\n",
      "Total time for mesh mapping: 0.0014467239379882812\n",
      "Total time for mesh mapping: 0.002141237258911133\n",
      "Total time for mesh mapping: 0.0015971660614013672\n",
      "Total time for mesh mapping: 0.0009953975677490234\n",
      "Total time for mesh mapping: 0.0007536411285400391\n",
      "Total time for mesh mapping: 0.0010890960693359375\n",
      "Total time for mesh mapping: 0.0016353130340576172\n",
      "Total time for mesh mapping: 0.001184701919555664\n",
      "Total time for mesh mapping: 0.0009920597076416016\n",
      "Total time for mesh mapping: 0.0007081031799316406\n",
      "Total time for mesh mapping: 0.0014386177062988281\n",
      "Total time for mesh mapping: 0.0010991096496582031\n",
      "Total time for mesh mapping: 0.001004934310913086\n",
      "Total time for mesh mapping: 0.001482248306274414\n",
      "Total time for mesh mapping: 0.0011615753173828125\n",
      "Total time for mesh mapping: 0.0012981891632080078\n",
      "Total time for mesh mapping: 0.0014193058013916016\n",
      "Total time for mesh mapping: 0.0007827281951904297\n",
      "Total time for mesh mapping: 0.0016791820526123047\n",
      "Total time for mesh mapping: 0.0009596347808837891\n",
      "Total time for mesh mapping: 0.001069784164428711\n",
      "Total time for mesh mapping: 0.0010728836059570312\n",
      "Total time for mesh mapping: 0.0010139942169189453\n",
      "Total time for mesh mapping: 0.0010933876037597656\n",
      "Total time for mesh mapping: 0.0016453266143798828\n",
      "Total time for mesh mapping: 0.0013632774353027344\n",
      "Total time for mesh mapping: 0.0008242130279541016\n",
      "Total time for mesh mapping: 0.0009424686431884766\n",
      "Total time for mesh mapping: 0.0008616447448730469\n",
      "Total time for mesh mapping: 0.0012135505676269531\n",
      "Total time for mesh mapping: 0.0008797645568847656\n",
      "Total time for mesh mapping: 0.0017390251159667969\n",
      "Total time for mesh mapping: 0.0013875961303710938\n",
      "Total time for mesh mapping: 0.000896453857421875\n",
      "Total time for mesh mapping: 0.0007798671722412109\n",
      "Total time for mesh mapping: 0.0013480186462402344\n",
      "Total time for mesh mapping: 0.001445770263671875\n",
      "Total time for mesh mapping: 0.0012831687927246094\n",
      "Total time for mesh mapping: 0.0014078617095947266\n",
      "Total time for mesh mapping: 0.0011630058288574219\n",
      "Total time for mesh mapping: 0.0016636848449707031\n",
      "Total time for mesh mapping: 0.0012900829315185547\n",
      "Total time for mesh mapping: 0.0013194084167480469\n",
      "Total time for mesh mapping: 0.0010237693786621094\n",
      "Total time for mesh mapping: 0.002304553985595703\n",
      "Total time for mesh mapping: 0.0010340213775634766\n",
      "Total time for mesh mapping: 0.001280069351196289\n",
      "Total time for mesh mapping: 0.001277923583984375\n",
      "Total time for mesh mapping: 0.000858306884765625\n",
      "Total time for mesh mapping: 0.0015554428100585938\n",
      "Total time for mesh mapping: 0.0009813308715820312\n",
      "Total time for mesh mapping: 0.0013527870178222656\n",
      "Total time for mesh mapping: 0.0009059906005859375\n",
      "Total time for mesh mapping: 0.0014886856079101562\n",
      "Total time for mesh mapping: 0.0010013580322265625\n",
      "Total time for mesh mapping: 0.0008451938629150391\n",
      "Total time for mesh mapping: 0.0014767646789550781\n",
      "Total time for mesh mapping: 0.003198862075805664\n",
      "Total time for mesh mapping: 0.0012965202331542969\n",
      "Total time for mesh mapping: 0.0010802745819091797\n",
      "Total time for mesh mapping: 0.0006806850433349609\n",
      "Total time for mesh mapping: 0.0008952617645263672\n",
      "Total time for mesh mapping: 0.0012755393981933594\n",
      "Total time for mesh mapping: 0.0011878013610839844\n",
      "Total time for mesh mapping: 0.0011000633239746094\n",
      "Total time for mesh mapping: 0.0010781288146972656\n",
      "Total time for mesh mapping: 0.0012011528015136719\n",
      "Total time for mesh mapping: 0.0010540485382080078\n",
      "Total time for mesh mapping: 0.0012385845184326172\n",
      "Total time for mesh mapping: 0.0012102127075195312\n",
      "Total time for mesh mapping: 0.0015053749084472656\n",
      "Total time for mesh mapping: 0.0009725093841552734\n",
      "Total time for mesh mapping: 0.0011882781982421875\n",
      "Total time for mesh mapping: 0.0013175010681152344\n",
      "branch_touching_number = [80]\n",
      "Total time for mesh mapping: 0.000990152359008789\n",
      "Total time for mesh mapping: 0.0006325244903564453\n",
      "Total time for mesh mapping: 0.0004904270172119141\n",
      "Total time for mesh mapping: 0.0019736289978027344\n",
      "Total time for mesh mapping: 0.001313924789428711\n",
      "Total time for mesh mapping: 0.00141143798828125\n",
      "Total time for mesh mapping: 0.0008985996246337891\n",
      "Total time for mesh mapping: 0.0016596317291259766\n",
      "Total time for mesh mapping: 0.0018613338470458984\n",
      "Total time for mesh mapping: 0.0009212493896484375\n",
      "Total time for mesh mapping: 0.0016870498657226562\n",
      "Total time for mesh mapping: 0.0006453990936279297\n",
      "Total time for mesh mapping: 0.0009491443634033203\n",
      "Total time for mesh mapping: 0.0014543533325195312\n",
      "Total time for mesh mapping: 0.0010235309600830078\n",
      "Total time for mesh mapping: 0.0008440017700195312\n",
      "Total time for mesh mapping: 0.0005970001220703125\n",
      "Total time for mesh mapping: 0.0011742115020751953\n",
      "Total time for mesh mapping: 0.0009913444519042969\n",
      "Total time for mesh mapping: 0.0008683204650878906\n",
      "Total time for mesh mapping: 0.0013175010681152344\n",
      "Total time for mesh mapping: 0.0010335445404052734\n",
      "Total time for mesh mapping: 0.0043182373046875\n",
      "Total time for mesh mapping: 0.003047466278076172\n",
      "Total time for mesh mapping: 0.0007224082946777344\n",
      "Total time for mesh mapping: 0.0014770030975341797\n",
      "Total time for mesh mapping: 0.0008356571197509766\n",
      "Total time for mesh mapping: 0.0009963512420654297\n",
      "Total time for mesh mapping: 0.0009701251983642578\n",
      "Total time for mesh mapping: 0.0008604526519775391\n",
      "Total time for mesh mapping: 0.0010039806365966797\n",
      "Total time for mesh mapping: 0.001556396484375\n",
      "Total time for mesh mapping: 0.0011909008026123047\n",
      "Total time for mesh mapping: 0.0007162094116210938\n",
      "Total time for mesh mapping: 0.0007123947143554688\n",
      "Total time for mesh mapping: 0.0007300376892089844\n",
      "Total time for mesh mapping: 0.001054525375366211\n",
      "Total time for mesh mapping: 0.0006780624389648438\n",
      "Total time for mesh mapping: 0.0016829967498779297\n",
      "Total time for mesh mapping: 0.0011951923370361328\n",
      "Total time for mesh mapping: 0.0007846355438232422\n",
      "Total time for mesh mapping: 0.0006654262542724609\n",
      "Total time for mesh mapping: 0.0012302398681640625\n",
      "Total time for mesh mapping: 0.001100301742553711\n",
      "Total time for mesh mapping: 0.0011477470397949219\n",
      "Total time for mesh mapping: 0.002141714096069336\n",
      "Total time for mesh mapping: 0.0010194778442382812\n",
      "Total time for mesh mapping: 0.0014195442199707031\n",
      "Total time for mesh mapping: 0.0012917518615722656\n",
      "Total time for mesh mapping: 0.001180887222290039\n",
      "Total time for mesh mapping: 0.0009043216705322266\n",
      "Total time for mesh mapping: 0.0016088485717773438\n",
      "Total time for mesh mapping: 0.0009045600891113281\n",
      "Total time for mesh mapping: 0.0011281967163085938\n",
      "Total time for mesh mapping: 0.0011587142944335938\n",
      "Total time for mesh mapping: 0.0007495880126953125\n",
      "Total time for mesh mapping: 0.0014178752899169922\n",
      "Total time for mesh mapping: 0.0010020732879638672\n",
      "Total time for mesh mapping: 0.0012240409851074219\n",
      "Total time for mesh mapping: 0.0007736682891845703\n",
      "Total time for mesh mapping: 0.001222848892211914\n",
      "Total time for mesh mapping: 0.0008938312530517578\n",
      "Total time for mesh mapping: 0.0007169246673583984\n",
      "Total time for mesh mapping: 0.0008089542388916016\n",
      "Total time for mesh mapping: 0.0014827251434326172\n",
      "Total time for mesh mapping: 0.0011396408081054688\n",
      "Total time for mesh mapping: 0.0009708404541015625\n",
      "Total time for mesh mapping: 0.0005538463592529297\n",
      "Total time for mesh mapping: 0.0006890296936035156\n",
      "Total time for mesh mapping: 0.0012552738189697266\n",
      "Total time for mesh mapping: 0.001041412353515625\n",
      "Total time for mesh mapping: 0.0009598731994628906\n",
      "Total time for mesh mapping: 0.0009701251983642578\n",
      "Total time for mesh mapping: 0.0010340213775634766\n",
      "Total time for mesh mapping: 0.0010023117065429688\n",
      "Total time for mesh mapping: 0.0010995864868164062\n",
      "Total time for mesh mapping: 0.0010330677032470703\n",
      "Total time for mesh mapping: 0.0009648799896240234\n",
      "Total time for mesh mapping: 0.0008640289306640625\n",
      "Total time for mesh mapping: 0.0010156631469726562\n",
      "Total time for mesh mapping: 0.0012547969818115234\n",
      "branch_touching_number = [80, 2]\n",
      "most_branch_containing_piece = 0\n",
      "filtered_measurements = [202.38253452 368.37045678 347.05886894 272.12023733 294.6124787\n",
      " 332.38764716 550.44601672 546.931918   453.86064729 354.80074506\n",
      " 398.78743813 659.82661235 314.99787126 430.21373348 400.32962167\n",
      " 507.22336899 610.0485918  457.72205696 537.15855306 309.96875164\n",
      " 387.35657238 340.39559337 431.96576335 362.22231077 387.64163907\n",
      " 628.2360989  508.99370027 291.59113753 270.54858792 409.51252138\n",
      " 605.98776253 277.65502288 547.28034893 340.2658085  319.95126187\n",
      " 423.34916229 538.79142285 544.37292737 455.48926108 485.9748189\n",
      " 466.19254143 338.19066739 602.24324112 462.89300659 339.66760663\n",
      " 447.83117684 400.36779188 478.7679049  397.12215748 355.70316225\n",
      " 415.52648396 544.30494911 395.1497358  349.52299253 370.77883502\n",
      " 401.62640357 416.66195475 456.78257414 348.3114718  620.92127185\n",
      " 638.11469932 420.07720762 353.31067303]\n",
      "new_threshold = 1791.2730733372246\n"
     ]
    },
    {
     "data": {
      "application/vnd.jupyter.widget-view+json": {
       "model_id": "817a34e76ab544d78afb7f8dab79f8e2",
       "version_major": 2,
       "version_minor": 0
      },
      "text/plain": [
       "HBox(children=(FloatProgress(value=1.0, bar_style='info', max=1.0), HTML(value='')))"
      ]
     },
     "metadata": {},
     "output_type": "display_data"
    },
    {
     "name": "stdout",
     "output_type": "stream",
     "text": [
      "--> Not exactly one containing mesh: []\n",
      "--> Not exactly one containing mesh: []\n",
      "\n"
     ]
    },
    {
     "data": {
      "application/vnd.jupyter.widget-view+json": {
       "model_id": "6181851fe39442a7b8fe0c71b3115494",
       "version_major": 2,
       "version_minor": 0
      },
      "text/plain": [
       "HBox(children=(FloatProgress(value=1.0, bar_style='info', max=1.0), HTML(value='')))"
      ]
     },
     "metadata": {},
     "output_type": "display_data"
    },
    {
     "name": "stdout",
     "output_type": "stream",
     "text": [
      "\n",
      "filtered_measurements = [1438.38247443 1282.67443204 1297.13971534 1220.0105655  1410.0800532\n",
      " 1353.11856687 1624.99245079 1292.55661028 1229.42335824 1826.14508227\n",
      " 1924.94178772]\n",
      "new_threshold = 3845.3220443892915\n"
     ]
    },
    {
     "data": {
      "application/vnd.jupyter.widget-view+json": {
       "model_id": "ac2391c674f54dd7b35169ef5bec7947",
       "version_major": 2,
       "version_minor": 0
      },
      "text/plain": [
       "HBox(children=(FloatProgress(value=1.0, bar_style='info', max=1.0), HTML(value='')))"
      ]
     },
     "metadata": {},
     "output_type": "display_data"
    },
    {
     "name": "stdout",
     "output_type": "stream",
     "text": [
      "\n"
     ]
    },
    {
     "data": {
      "application/vnd.jupyter.widget-view+json": {
       "model_id": "ce39105a7e654b89b6a1c317fa9b1345",
       "version_major": 2,
       "version_minor": 0
      },
      "text/plain": [
       "HBox(children=(FloatProgress(value=1.0, bar_style='info', max=1.0), HTML(value='')))"
      ]
     },
     "metadata": {},
     "output_type": "display_data"
    },
    {
     "name": "stdout",
     "output_type": "stream",
     "text": [
      "\n",
      "filtered_measurements = [2117.92367175 1930.90447371 1678.95852034 1531.04465145 1499.70154092\n",
      " 1437.85398037 1396.90396365 1469.7418688  1491.30591006 1513.98585404\n",
      " 1596.47613917]\n",
      "new_threshold = 3078.05380053541\n"
     ]
    },
    {
     "data": {
      "application/vnd.jupyter.widget-view+json": {
       "model_id": "84bf91d4899a46b49043058ed619adcc",
       "version_major": 2,
       "version_minor": 0
      },
      "text/plain": [
       "HBox(children=(FloatProgress(value=1.0, bar_style='info', max=1.0), HTML(value='')))"
      ]
     },
     "metadata": {},
     "output_type": "display_data"
    },
    {
     "name": "stdout",
     "output_type": "stream",
     "text": [
      "\n"
     ]
    },
    {
     "data": {
      "application/vnd.jupyter.widget-view+json": {
       "model_id": "1d63f14e71444ec4888a9696113cd798",
       "version_major": 2,
       "version_minor": 0
      },
      "text/plain": [
       "HBox(children=(FloatProgress(value=1.0, bar_style='info', max=1.0), HTML(value='')))"
      ]
     },
     "metadata": {},
     "output_type": "display_data"
    },
    {
     "name": "stdout",
     "output_type": "stream",
     "text": [
      "\n",
      "filtered_measurements = [ 917.75935992 1226.6231403  1216.60747618 1000.88434813  989.68957589\n",
      "  900.76900295  969.1689625   951.24725156 1159.73307158]\n",
      "new_threshold = 2307.1172224313955\n"
     ]
    },
    {
     "data": {
      "application/vnd.jupyter.widget-view+json": {
       "model_id": "5a141897612049e98c8c8ce51aa8ea54",
       "version_major": 2,
       "version_minor": 0
      },
      "text/plain": [
       "HBox(children=(FloatProgress(value=1.0, bar_style='info', max=1.0), HTML(value='')))"
      ]
     },
     "metadata": {},
     "output_type": "display_data"
    },
    {
     "name": "stdout",
     "output_type": "stream",
     "text": [
      "\n"
     ]
    },
    {
     "data": {
      "application/vnd.jupyter.widget-view+json": {
       "model_id": "882c3ec177c54f2aac23731d29748929",
       "version_major": 2,
       "version_minor": 0
      },
      "text/plain": [
       "HBox(children=(FloatProgress(value=1.0, bar_style='info', max=1.0), HTML(value='')))"
      ]
     },
     "metadata": {},
     "output_type": "display_data"
    },
    {
     "name": "stdout",
     "output_type": "stream",
     "text": [
      "\n",
      "filtered_measurements = [1080.58292471 1026.28029187 1215.7898019  1040.4949806  1014.81542023\n",
      "  977.88826757  997.13825715 1014.65146909 1047.23301357 1374.91705344\n",
      "  977.50778471 1146.50768664 1077.08671882 1399.82114436 1035.32001633\n",
      " 1087.2835647  1064.32212994 1296.9997788  1132.25597193 1068.55061017\n",
      " 1085.89892919 1296.54884353]\n",
      "new_threshold = 2730.6922991490833\n"
     ]
    },
    {
     "data": {
      "application/vnd.jupyter.widget-view+json": {
       "model_id": "cba3f24d91c541a0b00d2c196eff85bb",
       "version_major": 2,
       "version_minor": 0
      },
      "text/plain": [
       "HBox(children=(FloatProgress(value=1.0, bar_style='info', max=1.0), HTML(value='')))"
      ]
     },
     "metadata": {},
     "output_type": "display_data"
    },
    {
     "name": "stdout",
     "output_type": "stream",
     "text": [
      "\n"
     ]
    },
    {
     "data": {
      "application/vnd.jupyter.widget-view+json": {
       "model_id": "52b70683649f43ef8e0d6251482f1e2f",
       "version_major": 2,
       "version_minor": 0
      },
      "text/plain": [
       "HBox(children=(FloatProgress(value=1.0, bar_style='info', max=1.0), HTML(value='')))"
      ]
     },
     "metadata": {},
     "output_type": "display_data"
    },
    {
     "name": "stdout",
     "output_type": "stream",
     "text": [
      "--> Not exactly one containing mesh: []\n",
      "\n",
      "Total time for mesh mapping: 0.0038254261016845703\n",
      "Total time for mesh mapping: 0.0023179054260253906\n",
      "Total time for mesh mapping: 0.0007917881011962891\n",
      "Total time for mesh mapping: 0.0005841255187988281\n",
      "Total time for mesh mapping: 0.0011310577392578125\n",
      "Total time for mesh mapping: 0.0007278919219970703\n",
      "Total time for mesh mapping: 0.0006072521209716797\n",
      "Total time for mesh mapping: 0.0009877681732177734\n",
      "Total time for mesh mapping: 0.0008087158203125\n",
      "Total time for mesh mapping: 0.0006029605865478516\n",
      "Total time for mesh mapping: 0.0018317699432373047\n",
      "Total time for mesh mapping: 0.0005118846893310547\n",
      "Total time for mesh mapping: 0.0005435943603515625\n",
      "Total time for mesh mapping: 0.0008578300476074219\n",
      "Total time for mesh mapping: 0.0007336139678955078\n",
      "Total time for mesh mapping: 0.0006535053253173828\n",
      "Total time for mesh mapping: 0.0005886554718017578\n",
      "Total time for mesh mapping: 0.0005443096160888672\n",
      "Total time for mesh mapping: 0.000640869140625\n",
      "Total time for mesh mapping: 0.0010843276977539062\n",
      "Total time for mesh mapping: 0.0011708736419677734\n",
      "Total time for mesh mapping: 0.0008592605590820312\n",
      "Total time for mesh mapping: 0.0007264614105224609\n",
      "Total time for mesh mapping: 0.0005228519439697266\n",
      "Total time for mesh mapping: 0.0009670257568359375\n",
      "Total time for mesh mapping: 0.0008442401885986328\n",
      "Total time for mesh mapping: 0.0006072521209716797\n",
      "Total time for mesh mapping: 0.0005810260772705078\n",
      "Total time for mesh mapping: 0.0005064010620117188\n",
      "Total time for mesh mapping: 0.0006799697875976562\n",
      "Total time for mesh mapping: 0.0008308887481689453\n",
      "Total time for mesh mapping: 0.0007748603820800781\n",
      "Total time for mesh mapping: 0.0005190372467041016\n",
      "Total time for mesh mapping: 0.0005950927734375\n",
      "Total time for mesh mapping: 0.0003628730773925781\n",
      "Total time for mesh mapping: 0.0003974437713623047\n",
      "branch_touching_number = [34]\n",
      "Total time for mesh mapping: 0.0017175674438476562\n",
      "Total time for mesh mapping: 0.00257110595703125\n",
      "Total time for mesh mapping: 0.0007562637329101562\n",
      "Total time for mesh mapping: 0.0006229877471923828\n",
      "Total time for mesh mapping: 0.0012369155883789062\n",
      "Total time for mesh mapping: 0.0007417201995849609\n",
      "Total time for mesh mapping: 0.0005960464477539062\n",
      "Total time for mesh mapping: 0.0010361671447753906\n",
      "Total time for mesh mapping: 0.0008876323699951172\n",
      "Total time for mesh mapping: 0.002213716506958008\n",
      "Total time for mesh mapping: 0.001986265182495117\n",
      "Total time for mesh mapping: 0.0019845962524414062\n",
      "Total time for mesh mapping: 0.0004456043243408203\n",
      "Total time for mesh mapping: 0.0006577968597412109\n",
      "Total time for mesh mapping: 0.0006225109100341797\n",
      "Total time for mesh mapping: 0.0005419254302978516\n",
      "Total time for mesh mapping: 0.0004718303680419922\n",
      "Total time for mesh mapping: 0.00044536590576171875\n",
      "Total time for mesh mapping: 0.00047016143798828125\n",
      "Total time for mesh mapping: 0.0007927417755126953\n",
      "Total time for mesh mapping: 0.0009641647338867188\n",
      "Total time for mesh mapping: 0.0006902217864990234\n",
      "Total time for mesh mapping: 0.0005702972412109375\n",
      "Total time for mesh mapping: 0.00040793418884277344\n",
      "Total time for mesh mapping: 0.0008943080902099609\n",
      "Total time for mesh mapping: 0.0006389617919921875\n",
      "Total time for mesh mapping: 0.0006067752838134766\n",
      "Total time for mesh mapping: 0.0004494190216064453\n",
      "Total time for mesh mapping: 0.00039315223693847656\n",
      "Total time for mesh mapping: 0.0005428791046142578\n",
      "Total time for mesh mapping: 0.0006575584411621094\n",
      "Total time for mesh mapping: 0.0006287097930908203\n",
      "Total time for mesh mapping: 0.00040268898010253906\n",
      "Total time for mesh mapping: 0.0004677772521972656\n",
      "Total time for mesh mapping: 0.00030040740966796875\n",
      "Total time for mesh mapping: 0.0004572868347167969\n",
      "branch_touching_number = [34, 1]\n",
      "most_branch_containing_piece = 0\n",
      "filtered_measurements = [297.23310026 272.87322278 513.60180714 335.79383277 416.87251754\n",
      " 296.60778779 296.61803095 275.72536732 298.97369421 566.10469148\n",
      " 410.20567703 424.54992417 449.89580951 330.41152608 364.45623807\n",
      " 667.39201845 355.79541657 631.93515377 629.4687157  483.05179181\n",
      " 381.40344318 469.44781487 723.50090586 482.93525517]\n",
      "new_threshold = 1677.2521570242352\n"
     ]
    },
    {
     "data": {
      "application/vnd.jupyter.widget-view+json": {
       "model_id": "fb17943e421b4abfa108511105fe6dcd",
       "version_major": 2,
       "version_minor": 0
      },
      "text/plain": [
       "HBox(children=(FloatProgress(value=1.0, bar_style='info', max=1.0), HTML(value='')))"
      ]
     },
     "metadata": {},
     "output_type": "display_data"
    },
    {
     "name": "stdout",
     "output_type": "stream",
     "text": [
      "--> Not exactly one containing mesh: []\n",
      "\n"
     ]
    },
    {
     "data": {
      "application/vnd.jupyter.widget-view+json": {
       "model_id": "6793e00312a9457eaf93933d017d3747",
       "version_major": 2,
       "version_minor": 0
      },
      "text/plain": [
       "HBox(children=(FloatProgress(value=1.0, bar_style='info', max=1.0), HTML(value='')))"
      ]
     },
     "metadata": {},
     "output_type": "display_data"
    },
    {
     "name": "stdout",
     "output_type": "stream",
     "text": [
      "\n",
      "filtered_measurements = [1072.74491289 1219.87951882 1037.61582973 1011.72481854 1007.99668506\n",
      " 1078.49854685 1181.37110459]\n",
      "new_threshold = 1961.2878479219635\n"
     ]
    },
    {
     "data": {
      "application/vnd.jupyter.widget-view+json": {
       "model_id": "469f1f43ef634ba4b2ab7a597cf14c2a",
       "version_major": 2,
       "version_minor": 0
      },
      "text/plain": [
       "HBox(children=(FloatProgress(value=1.0, bar_style='info', max=1.0), HTML(value='')))"
      ]
     },
     "metadata": {},
     "output_type": "display_data"
    },
    {
     "name": "stdout",
     "output_type": "stream",
     "text": [
      "\n"
     ]
    },
    {
     "data": {
      "application/vnd.jupyter.widget-view+json": {
       "model_id": "422f4d6e16734391844a6052d4f9fe41",
       "version_major": 2,
       "version_minor": 0
      },
      "text/plain": [
       "HBox(children=(FloatProgress(value=1.0, bar_style='info', max=1.0), HTML(value='')))"
      ]
     },
     "metadata": {},
     "output_type": "display_data"
    },
    {
     "name": "stdout",
     "output_type": "stream",
     "text": [
      "\n",
      "filtered_measurements = [1094.87338209 1009.83437562  988.41749655 1047.43230563 1187.78903944]\n",
      "new_threshold = 1687.5199121172834\n"
     ]
    },
    {
     "data": {
      "application/vnd.jupyter.widget-view+json": {
       "model_id": "621fc669b8d842ac8f71d54b1444fbee",
       "version_major": 2,
       "version_minor": 0
      },
      "text/plain": [
       "HBox(children=(FloatProgress(value=1.0, bar_style='info', max=1.0), HTML(value='')))"
      ]
     },
     "metadata": {},
     "output_type": "display_data"
    },
    {
     "name": "stdout",
     "output_type": "stream",
     "text": [
      "\n"
     ]
    },
    {
     "data": {
      "application/vnd.jupyter.widget-view+json": {
       "model_id": "62cb572114db48b8a999a98d4d4d3dda",
       "version_major": 2,
       "version_minor": 0
      },
      "text/plain": [
       "HBox(children=(FloatProgress(value=1.0, bar_style='info', max=1.0), HTML(value='')))"
      ]
     },
     "metadata": {},
     "output_type": "display_data"
    },
    {
     "name": "stdout",
     "output_type": "stream",
     "text": [
      "\n",
      "filtered_measurements = [1399.56989545 1260.55275041 1312.69295225 1350.99386345]\n",
      "new_threshold = 2187.319074326454\n"
     ]
    },
    {
     "data": {
      "application/vnd.jupyter.widget-view+json": {
       "model_id": "95e15b838b2a4ab28815717ae8437b62",
       "version_major": 2,
       "version_minor": 0
      },
      "text/plain": [
       "HBox(children=(FloatProgress(value=1.0, bar_style='info', max=1.0), HTML(value='')))"
      ]
     },
     "metadata": {},
     "output_type": "display_data"
    },
    {
     "name": "stdout",
     "output_type": "stream",
     "text": [
      "\n"
     ]
    },
    {
     "data": {
      "application/vnd.jupyter.widget-view+json": {
       "model_id": "cbf3b840e34944d294aba158e2b0f8cb",
       "version_major": 2,
       "version_minor": 0
      },
      "text/plain": [
       "HBox(children=(FloatProgress(value=1.0, bar_style='info', max=1.0), HTML(value='')))"
      ]
     },
     "metadata": {},
     "output_type": "display_data"
    },
    {
     "name": "stdout",
     "output_type": "stream",
     "text": [
      "\n",
      "filtered_measurements = [450.49237879 429.50804376 407.08107607 407.62339916 402.11420845\n",
      " 364.61973293 557.85637833]\n",
      "new_threshold = 945.6873814687185\n"
     ]
    },
    {
     "data": {
      "application/vnd.jupyter.widget-view+json": {
       "model_id": "d0a8ba4ccb104b3995abb46182f90b41",
       "version_major": 2,
       "version_minor": 0
      },
      "text/plain": [
       "HBox(children=(FloatProgress(value=1.0, bar_style='info', max=1.0), HTML(value='')))"
      ]
     },
     "metadata": {},
     "output_type": "display_data"
    },
    {
     "name": "stdout",
     "output_type": "stream",
     "text": [
      "\n"
     ]
    },
    {
     "data": {
      "application/vnd.jupyter.widget-view+json": {
       "model_id": "0101e2537bf74c3b8fe3dac63f85adb7",
       "version_major": 2,
       "version_minor": 0
      },
      "text/plain": [
       "HBox(children=(FloatProgress(value=1.0, bar_style='info', max=1.0), HTML(value='')))"
      ]
     },
     "metadata": {},
     "output_type": "display_data"
    },
    {
     "name": "stdout",
     "output_type": "stream",
     "text": [
      "--> Not exactly one containing mesh: []\n",
      "--> Not exactly one containing mesh: []\n",
      "--> Not exactly one containing mesh: []\n",
      "--> Not exactly one containing mesh: []\n",
      "--> Not exactly one containing mesh: []\n",
      "--> Not exactly one containing mesh: []\n",
      "--> Not exactly one containing mesh: []\n",
      "--> Not exactly one containing mesh: []\n",
      "\n",
      "filtered_measurements = [ 71.42979268  69.08061854 210.74122308 218.79399432 150.28284515\n",
      " 213.80168278 138.28884843  72.26325436 192.27754872 162.56160425\n",
      "  83.74885526  87.34369402 123.93795102  81.08218674 193.74047706\n",
      " 204.87260312 101.53999758 111.55529091 106.19759582 176.6945665\n",
      "  99.93392842 195.18047237  92.16690759 146.65178898]\n",
      "new_threshold = 447.7231268117914\n"
     ]
    },
    {
     "data": {
      "application/vnd.jupyter.widget-view+json": {
       "model_id": "34fcff47c44e4013911d9b925c97d1c4",
       "version_major": 2,
       "version_minor": 0
      },
      "text/plain": [
       "HBox(children=(FloatProgress(value=1.0, bar_style='info', max=1.0), HTML(value='')))"
      ]
     },
     "metadata": {},
     "output_type": "display_data"
    },
    {
     "name": "stdout",
     "output_type": "stream",
     "text": [
      "--> Not exactly one containing mesh: []\n",
      "--> Not exactly one containing mesh: []\n",
      "--> Not exactly one containing mesh: []\n",
      "--> Not exactly one containing mesh: []\n",
      "--> Not exactly one containing mesh: []\n",
      "--> Not exactly one containing mesh: []\n",
      "--> Not exactly one containing mesh: []\n",
      "--> Not exactly one containing mesh: []\n",
      "\n"
     ]
    },
    {
     "data": {
      "application/vnd.jupyter.widget-view+json": {
       "model_id": "bc896c6b2ad44edd9ae12d1c293d5be5",
       "version_major": 2,
       "version_minor": 0
      },
      "text/plain": [
       "HBox(children=(FloatProgress(value=1.0, bar_style='info', max=1.0), HTML(value='')))"
      ]
     },
     "metadata": {},
     "output_type": "display_data"
    },
    {
     "name": "stdout",
     "output_type": "stream",
     "text": [
      "\n",
      "filtered_measurements = [1423.5988453  1352.31819857 1236.77025103 1273.61822674 1279.1630392\n",
      " 1283.58096301 1402.81625501 1694.47620732]\n",
      "new_threshold = 2755.218519588347\n"
     ]
    },
    {
     "data": {
      "application/vnd.jupyter.widget-view+json": {
       "model_id": "5283c429ad144f6aaefe5594fbdce1ce",
       "version_major": 2,
       "version_minor": 0
      },
      "text/plain": [
       "HBox(children=(FloatProgress(value=1.0, bar_style='info', max=1.0), HTML(value='')))"
      ]
     },
     "metadata": {},
     "output_type": "display_data"
    },
    {
     "name": "stdout",
     "output_type": "stream",
     "text": [
      "\n"
     ]
    },
    {
     "data": {
      "application/vnd.jupyter.widget-view+json": {
       "model_id": "bd1830abf11645acbe546501d793f5c3",
       "version_major": 2,
       "version_minor": 0
      },
      "text/plain": [
       "HBox(children=(FloatProgress(value=1.0, bar_style='info', max=1.0), HTML(value='')))"
      ]
     },
     "metadata": {},
     "output_type": "display_data"
    },
    {
     "name": "stdout",
     "output_type": "stream",
     "text": [
      "--> Not exactly one containing mesh: []\n",
      "\n",
      "filtered_measurements = [104.47764305  67.49400602 197.33779494 213.2589579   91.05199868\n",
      "  88.45002562]\n",
      "new_threshold = 437.4840169928656\n"
     ]
    },
    {
     "data": {
      "application/vnd.jupyter.widget-view+json": {
       "model_id": "01c106e394c044c2bb9417697186d79c",
       "version_major": 2,
       "version_minor": 0
      },
      "text/plain": [
       "HBox(children=(FloatProgress(value=1.0, bar_style='info', max=1.0), HTML(value='')))"
      ]
     },
     "metadata": {},
     "output_type": "display_data"
    },
    {
     "name": "stdout",
     "output_type": "stream",
     "text": [
      "--> Not exactly one containing mesh: []\n",
      "--> Not exactly one containing mesh: []\n",
      "\n"
     ]
    },
    {
     "data": {
      "application/vnd.jupyter.widget-view+json": {
       "model_id": "b265001832fc4ea79bb322a67d7410e3",
       "version_major": 2,
       "version_minor": 0
      },
      "text/plain": [
       "HBox(children=(FloatProgress(value=1.0, bar_style='info', max=1.0), HTML(value='')))"
      ]
     },
     "metadata": {},
     "output_type": "display_data"
    },
    {
     "name": "stdout",
     "output_type": "stream",
     "text": [
      "\n",
      "filtered_measurements = [199.96542456 228.87461668 281.54145421 319.91991777 357.80069197\n",
      " 485.26132271 554.60683686 275.13894388 343.54258741 402.47768851\n",
      " 299.19789264 418.98169286 367.10565674 354.39897767 383.80851947\n",
      " 414.05764182 297.24110202 264.78413317 283.7430907  226.33703604\n",
      " 413.36803099 332.6878726  302.4929297  314.38602879 483.09851606\n",
      " 344.77711556 333.88072865 305.49338927 475.53916379 448.75074702\n",
      " 377.86732452 347.65613782 484.28673107 562.07655766 417.23605266\n",
      " 370.03547627 461.88576688 365.30720911 339.82275131 462.76838928\n",
      " 376.47003848 466.7055745  426.76827133 371.13232283 343.6649884\n",
      " 264.58795359 394.08150296 218.28878665 422.52214901 329.8464351\n",
      " 555.61048072 264.49656031 300.37758065 400.60660515 333.94817593\n",
      " 216.8687883  240.84110672 282.61616134 222.71502637 482.72046218\n",
      " 441.22700427 288.80674175 450.22286936 411.04470568 413.21640008\n",
      " 319.70787995 323.91454147]\n",
      "new_threshold = 1384.325607266701\n"
     ]
    },
    {
     "data": {
      "application/vnd.jupyter.widget-view+json": {
       "model_id": "18ce4d9a350747f9958ecfdad6a49057",
       "version_major": 2,
       "version_minor": 0
      },
      "text/plain": [
       "HBox(children=(FloatProgress(value=1.0, bar_style='info', max=1.0), HTML(value='')))"
      ]
     },
     "metadata": {},
     "output_type": "display_data"
    },
    {
     "name": "stdout",
     "output_type": "stream",
     "text": [
      "\n"
     ]
    },
    {
     "data": {
      "application/vnd.jupyter.widget-view+json": {
       "model_id": "210a52f855ba4872ad7f42dccc14d5f9",
       "version_major": 2,
       "version_minor": 0
      },
      "text/plain": [
       "HBox(children=(FloatProgress(value=1.0, bar_style='info', max=1.0), HTML(value='')))"
      ]
     },
     "metadata": {},
     "output_type": "display_data"
    },
    {
     "name": "stdout",
     "output_type": "stream",
     "text": [
      "\n",
      "filtered_measurements = [394.32474422 346.74608297 344.42416189 547.42752902 432.75319624\n",
      " 407.44157794 429.35521796 428.35347729 407.45285841 329.7325258\n",
      " 545.56553407 343.10569808 394.59175869 439.6230991  352.13765386\n",
      " 378.60727863 337.51569512 379.13842245 342.83488084 305.69014939\n",
      " 354.15158738 381.2996094  429.97195275 366.5623024  323.69668092\n",
      " 343.40559297 535.4420275  472.10771728 337.93044301 348.88394194\n",
      " 421.94892675 355.18016579 399.50016888 356.96987497 435.49436814\n",
      " 438.01650926 476.03514651 559.95103441]\n",
      "new_threshold = 1364.8588974468494\n"
     ]
    },
    {
     "data": {
      "application/vnd.jupyter.widget-view+json": {
       "model_id": "fc0a631b28ab433ab67393041e9776f3",
       "version_major": 2,
       "version_minor": 0
      },
      "text/plain": [
       "HBox(children=(FloatProgress(value=1.0, bar_style='info', max=1.0), HTML(value='')))"
      ]
     },
     "metadata": {},
     "output_type": "display_data"
    },
    {
     "name": "stdout",
     "output_type": "stream",
     "text": [
      "\n"
     ]
    },
    {
     "data": {
      "application/vnd.jupyter.widget-view+json": {
       "model_id": "75bfb7086ba1424785d5fa458986e8e3",
       "version_major": 2,
       "version_minor": 0
      },
      "text/plain": [
       "HBox(children=(FloatProgress(value=1.0, bar_style='info', max=1.0), HTML(value='')))"
      ]
     },
     "metadata": {},
     "output_type": "display_data"
    },
    {
     "name": "stdout",
     "output_type": "stream",
     "text": [
      "\n",
      "filtered_measurements = [589.95400749 394.56660121 420.23794922 503.91844016 470.99564239\n",
      " 784.40064397 759.40125228 587.08405318 760.9869472  503.22191044\n",
      " 606.74248095 605.92438345 433.72473842 580.154433   528.51263502\n",
      " 520.88533203 385.0462866  579.72742003 486.89947439 586.50359865\n",
      " 433.75625392 404.70474057 508.07922237 626.32268673 504.58965426\n",
      " 482.50380384 545.42451958 439.98750575 561.10926065 537.50455204\n",
      " 470.93028791 666.57427702 534.7129413  501.10384376 464.38021429\n",
      " 775.12006461 783.51109855]\n",
      "new_threshold = 1979.8450464696025\n"
     ]
    },
    {
     "data": {
      "application/vnd.jupyter.widget-view+json": {
       "model_id": "8629d419fe2c4ec99b059c19f53b833f",
       "version_major": 2,
       "version_minor": 0
      },
      "text/plain": [
       "HBox(children=(FloatProgress(value=1.0, bar_style='info', max=1.0), HTML(value='')))"
      ]
     },
     "metadata": {},
     "output_type": "display_data"
    },
    {
     "name": "stdout",
     "output_type": "stream",
     "text": [
      "\n"
     ]
    },
    {
     "data": {
      "application/vnd.jupyter.widget-view+json": {
       "model_id": "e94cd8cb036b4c84ba5cf425dedb9630",
       "version_major": 2,
       "version_minor": 0
      },
      "text/plain": [
       "HBox(children=(FloatProgress(value=1.0, bar_style='info', max=1.0), HTML(value='')))"
      ]
     },
     "metadata": {},
     "output_type": "display_data"
    },
    {
     "name": "stdout",
     "output_type": "stream",
     "text": [
      "\n",
      "filtered_measurements = [295.33369768 297.62598756 412.20047462 346.17163108 366.3545093\n",
      " 451.57253101 456.39886534 292.74917377 326.09782909 522.75393838\n",
      " 265.57505423 387.25126357]\n",
      "new_threshold = 1100.254957571212\n"
     ]
    },
    {
     "data": {
      "application/vnd.jupyter.widget-view+json": {
       "model_id": "251354f88d71461cbd9c77794eab398e",
       "version_major": 2,
       "version_minor": 0
      },
      "text/plain": [
       "HBox(children=(FloatProgress(value=1.0, bar_style='info', max=1.0), HTML(value='')))"
      ]
     },
     "metadata": {},
     "output_type": "display_data"
    },
    {
     "name": "stdout",
     "output_type": "stream",
     "text": [
      "\n"
     ]
    },
    {
     "data": {
      "application/vnd.jupyter.widget-view+json": {
       "model_id": "dbbd0ea69dba42c487287fae884d2a2e",
       "version_major": 2,
       "version_minor": 0
      },
      "text/plain": [
       "HBox(children=(FloatProgress(value=1.0, bar_style='info', max=1.0), HTML(value='')))"
      ]
     },
     "metadata": {},
     "output_type": "display_data"
    },
    {
     "name": "stdout",
     "output_type": "stream",
     "text": [
      "\n",
      "filtered_measurements = [728.77300501 582.59695619 701.12570308 616.23665332 580.30448335\n",
      " 357.89840306 516.48262757]\n",
      "new_threshold = 1811.6853138644528\n"
     ]
    },
    {
     "data": {
      "application/vnd.jupyter.widget-view+json": {
       "model_id": "f07e97986f8c4f22834bde882e5c4cf5",
       "version_major": 2,
       "version_minor": 0
      },
      "text/plain": [
       "HBox(children=(FloatProgress(value=1.0, bar_style='info', max=1.0), HTML(value='')))"
      ]
     },
     "metadata": {},
     "output_type": "display_data"
    },
    {
     "name": "stdout",
     "output_type": "stream",
     "text": [
      "\n"
     ]
    },
    {
     "data": {
      "application/vnd.jupyter.widget-view+json": {
       "model_id": "7b1a955038bc45cfb8d1e6e24417486e",
       "version_major": 2,
       "version_minor": 0
      },
      "text/plain": [
       "HBox(children=(FloatProgress(value=1.0, bar_style='info', max=1.0), HTML(value='')))"
      ]
     },
     "metadata": {},
     "output_type": "display_data"
    },
    {
     "name": "stdout",
     "output_type": "stream",
     "text": [
      "\n",
      "filtered_measurements = [263.91175675 368.51708381 520.61353344 426.81923013 485.09528626\n",
      " 447.75731308 645.63784885 368.83354178]\n",
      "new_threshold = 1707.5721749380689\n"
     ]
    },
    {
     "data": {
      "application/vnd.jupyter.widget-view+json": {
       "model_id": "5867868c14024b7ba64eea0beea3fef1",
       "version_major": 2,
       "version_minor": 0
      },
      "text/plain": [
       "HBox(children=(FloatProgress(value=1.0, bar_style='info', max=1.0), HTML(value='')))"
      ]
     },
     "metadata": {},
     "output_type": "display_data"
    },
    {
     "name": "stdout",
     "output_type": "stream",
     "text": [
      "\n"
     ]
    },
    {
     "data": {
      "application/vnd.jupyter.widget-view+json": {
       "model_id": "91c20744d14044ba8444e2125807a995",
       "version_major": 2,
       "version_minor": 0
      },
      "text/plain": [
       "HBox(children=(FloatProgress(value=1.0, bar_style='info', max=1.0), HTML(value='')))"
      ]
     },
     "metadata": {},
     "output_type": "display_data"
    },
    {
     "name": "stdout",
     "output_type": "stream",
     "text": [
      "--> Not exactly one containing mesh: []\n",
      "--> Not exactly one containing mesh: []\n",
      "\n",
      "filtered_measurements = [126.96057191  92.97584942  84.06090907 128.58503517 142.44561421\n",
      " 100.4899269  107.48253136 127.07928934  81.20334211 106.40254253\n",
      " 100.63407873  85.73304872]\n",
      "new_threshold = 280.25723418828\n"
     ]
    },
    {
     "data": {
      "application/vnd.jupyter.widget-view+json": {
       "model_id": "2af3d50b87c74783b917d7e9a51bd4c1",
       "version_major": 2,
       "version_minor": 0
      },
      "text/plain": [
       "HBox(children=(FloatProgress(value=1.0, bar_style='info', max=1.0), HTML(value='')))"
      ]
     },
     "metadata": {},
     "output_type": "display_data"
    },
    {
     "name": "stdout",
     "output_type": "stream",
     "text": [
      "--> Not exactly one containing mesh: []\n",
      "--> Not exactly one containing mesh: []\n",
      "--> Not exactly one containing mesh: []\n",
      "--> Not exactly one containing mesh: []\n",
      "\n",
      "Total time for mesh mapping: 0.0012984275817871094\n",
      "Total time for mesh mapping: 0.00024127960205078125\n",
      "Total time for mesh mapping: 0.00022101402282714844\n",
      "Total time for mesh mapping: 0.0002052783966064453\n",
      "Total time for mesh mapping: 0.00020933151245117188\n",
      "Total time for mesh mapping: 0.00020599365234375\n",
      "Total time for mesh mapping: 0.0002181529998779297\n",
      "Total time for mesh mapping: 0.0002224445343017578\n",
      "Total time for mesh mapping: 0.00024580955505371094\n",
      "Total time for mesh mapping: 0.00021505355834960938\n",
      "Total time for mesh mapping: 0.0001983642578125\n",
      "Total time for mesh mapping: 0.00022029876708984375\n",
      "Total time for mesh mapping: 0.00022029876708984375\n",
      "Total time for mesh mapping: 0.00022554397583007812\n",
      "Total time for mesh mapping: 0.00022554397583007812\n",
      "Total time for mesh mapping: 0.00021505355834960938\n",
      "Total time for mesh mapping: 0.0002067089080810547\n",
      "branch_touching_number = [9]\n",
      "Total time for mesh mapping: 0.00046944618225097656\n",
      "Total time for mesh mapping: 0.00017404556274414062\n",
      "Total time for mesh mapping: 0.00016069412231445312\n",
      "Total time for mesh mapping: 0.0001590251922607422\n",
      "Total time for mesh mapping: 0.00015044212341308594\n",
      "Total time for mesh mapping: 0.00016427040100097656\n",
      "Total time for mesh mapping: 0.00015401840209960938\n",
      "Total time for mesh mapping: 0.0001628398895263672\n",
      "Total time for mesh mapping: 0.0001456737518310547\n",
      "Total time for mesh mapping: 0.0001418590545654297\n",
      "Total time for mesh mapping: 0.00013709068298339844\n",
      "Total time for mesh mapping: 0.00014591217041015625\n",
      "Total time for mesh mapping: 0.00014734268188476562\n",
      "Total time for mesh mapping: 0.00015211105346679688\n",
      "Total time for mesh mapping: 0.00014710426330566406\n",
      "Total time for mesh mapping: 0.002577543258666992\n",
      "Total time for mesh mapping: 0.00014495849609375\n",
      "branch_touching_number = [9, 7]\n",
      "most_branch_containing_piece = 0\n"
     ]
    },
    {
     "data": {
      "application/vnd.jupyter.widget-view+json": {
       "model_id": "9b6046b9491747f2840904f68094efbd",
       "version_major": 2,
       "version_minor": 0
      },
      "text/plain": [
       "HBox(children=(FloatProgress(value=1.0, bar_style='info', max=1.0), HTML(value='')))"
      ]
     },
     "metadata": {},
     "output_type": "display_data"
    },
    {
     "name": "stdout",
     "output_type": "stream",
     "text": [
      "--> Not exactly one containing mesh: []\n",
      "\n",
      "filtered_measurements = [559.13985401 377.98821962 677.62123468 418.3172204  388.04288302\n",
      " 437.57508799 287.94432782 574.41767874 408.02579605 642.90127208\n",
      " 628.63520406 646.97323443 351.92968367 524.6229957  548.09350077\n",
      " 376.31126907 679.09944218 388.6152847  396.23114194 459.17552762\n",
      " 468.73540631 597.12947522 477.19436954 489.36106563 525.81383297\n",
      " 468.59522572 353.29066576 491.22212146 566.63317703 502.30029261\n",
      " 628.48126981 372.86078054 412.42382912 304.73413548 586.05647116\n",
      " 381.69506658 366.64642664 383.01214674 305.90803218 487.58192046\n",
      " 515.44355279 584.4005983  378.87730498 456.04762678 346.77685916\n",
      " 506.80335207 558.18046418 224.60801939 301.94128305 211.94150792\n",
      " 344.41652396 568.57410115 247.74510261 179.11012402 190.32301102\n",
      " 166.85860658]\n",
      "new_threshold = 1635.4101773361954\n"
     ]
    },
    {
     "data": {
      "application/vnd.jupyter.widget-view+json": {
       "model_id": "50c8dcc889a747779703b335f76268a8",
       "version_major": 2,
       "version_minor": 0
      },
      "text/plain": [
       "HBox(children=(FloatProgress(value=1.0, bar_style='info', max=1.0), HTML(value='')))"
      ]
     },
     "metadata": {},
     "output_type": "display_data"
    },
    {
     "name": "stdout",
     "output_type": "stream",
     "text": [
      "--> Not exactly one containing mesh: []\n",
      "\n"
     ]
    },
    {
     "data": {
      "application/vnd.jupyter.widget-view+json": {
       "model_id": "cd2f693316d3451487fc4096cf70ab4d",
       "version_major": 2,
       "version_minor": 0
      },
      "text/plain": [
       "HBox(children=(FloatProgress(value=1.0, bar_style='info', max=1.0), HTML(value='')))"
      ]
     },
     "metadata": {},
     "output_type": "display_data"
    },
    {
     "name": "stdout",
     "output_type": "stream",
     "text": [
      "--> Not exactly one containing mesh: []\n",
      "\n",
      "filtered_measurements = [160.58596972 125.64207937 230.45296866]\n",
      "new_threshold = 436.33884243810724\n"
     ]
    },
    {
     "data": {
      "application/vnd.jupyter.widget-view+json": {
       "model_id": "61a71cb774484f7682eab0536e53fdb7",
       "version_major": 2,
       "version_minor": 0
      },
      "text/plain": [
       "HBox(children=(FloatProgress(value=1.0, bar_style='info', max=1.0), HTML(value='')))"
      ]
     },
     "metadata": {},
     "output_type": "display_data"
    },
    {
     "name": "stdout",
     "output_type": "stream",
     "text": [
      "--> Not exactly one containing mesh: []\n",
      "\n"
     ]
    },
    {
     "data": {
      "application/vnd.jupyter.widget-view+json": {
       "model_id": "131d0e600f30459e912e4da8f4d3da76",
       "version_major": 2,
       "version_minor": 0
      },
      "text/plain": [
       "HBox(children=(FloatProgress(value=1.0, bar_style='info', max=1.0), HTML(value='')))"
      ]
     },
     "metadata": {},
     "output_type": "display_data"
    },
    {
     "name": "stdout",
     "output_type": "stream",
     "text": [
      "\n",
      "filtered_measurements = [491.37810896 657.73483351 631.10565447 471.26935934 486.86553288\n",
      " 477.50823823 326.2396659  502.65999651 494.25732536 405.53538772\n",
      " 475.85075203 285.21699657 305.17317264 552.04807781 462.14278547\n",
      " 428.96384618 632.83095427 356.93981143 688.09566533 447.35667893\n",
      " 322.29985487 347.04316849]\n",
      "new_threshold = 1746.1980533656017\n"
     ]
    },
    {
     "data": {
      "application/vnd.jupyter.widget-view+json": {
       "model_id": "6d2358cc9a90483c873ca466d9131e6d",
       "version_major": 2,
       "version_minor": 0
      },
      "text/plain": [
       "HBox(children=(FloatProgress(value=1.0, bar_style='info', max=1.0), HTML(value='')))"
      ]
     },
     "metadata": {},
     "output_type": "display_data"
    },
    {
     "name": "stdout",
     "output_type": "stream",
     "text": [
      "\n"
     ]
    },
    {
     "data": {
      "application/vnd.jupyter.widget-view+json": {
       "model_id": "9d47cf3d04cb404ea041dfb073a1baa5",
       "version_major": 2,
       "version_minor": 0
      },
      "text/plain": [
       "HBox(children=(FloatProgress(value=1.0, bar_style='info', max=1.0), HTML(value='')))"
      ]
     },
     "metadata": {},
     "output_type": "display_data"
    },
    {
     "name": "stdout",
     "output_type": "stream",
     "text": [
      "--> Not exactly one containing mesh: []\n",
      "--> Not exactly one containing mesh: []\n",
      "\n",
      "filtered_measurements = [132.37780022  84.2696574   89.58572118 113.88499378 114.76785779\n",
      "  69.34815909  61.47960422  69.96125172  82.67296182  67.7753176\n",
      "  81.2411477   96.50741063  71.657832   157.45693096 105.18644497\n",
      " 117.64971856  88.93575165  72.87976149 128.3543318  108.07857959\n",
      "  98.61108731]\n",
      "new_threshold = 326.484731488373\n"
     ]
    },
    {
     "data": {
      "application/vnd.jupyter.widget-view+json": {
       "model_id": "c256eaa94a7a4e38ade1ba015a69523d",
       "version_major": 2,
       "version_minor": 0
      },
      "text/plain": [
       "HBox(children=(FloatProgress(value=1.0, bar_style='info', max=1.0), HTML(value='')))"
      ]
     },
     "metadata": {},
     "output_type": "display_data"
    },
    {
     "name": "stdout",
     "output_type": "stream",
     "text": [
      "--> Not exactly one containing mesh: []\n",
      "--> Not exactly one containing mesh: []\n",
      "--> Not exactly one containing mesh: []\n",
      "\n",
      "Total time for mesh mapping: 0.0023431777954101562\n",
      "Total time for mesh mapping: 0.0002777576446533203\n",
      "Total time for mesh mapping: 0.00036644935607910156\n",
      "Total time for mesh mapping: 0.00024271011352539062\n",
      "Total time for mesh mapping: 0.00022459030151367188\n",
      "Total time for mesh mapping: 0.00023221969604492188\n",
      "Total time for mesh mapping: 0.0002772808074951172\n",
      "Total time for mesh mapping: 0.00022745132446289062\n",
      "Total time for mesh mapping: 0.00022339820861816406\n",
      "Total time for mesh mapping: 0.00023031234741210938\n",
      "Total time for mesh mapping: 0.0003407001495361328\n",
      "Total time for mesh mapping: 0.0003018379211425781\n",
      "Total time for mesh mapping: 0.0002167224884033203\n",
      "Total time for mesh mapping: 0.0002219676971435547\n",
      "Total time for mesh mapping: 0.00023674964904785156\n",
      "Total time for mesh mapping: 0.0002288818359375\n",
      "Total time for mesh mapping: 0.00023102760314941406\n",
      "Total time for mesh mapping: 0.00025272369384765625\n",
      "Total time for mesh mapping: 0.00040078163146972656\n",
      "Total time for mesh mapping: 0.0002524852752685547\n",
      "Total time for mesh mapping: 0.0002231597900390625\n",
      "Total time for mesh mapping: 0.00022125244140625\n",
      "Total time for mesh mapping: 0.0002162456512451172\n",
      "Total time for mesh mapping: 0.000225067138671875\n",
      "Total time for mesh mapping: 0.00022029876708984375\n",
      "Total time for mesh mapping: 0.000217437744140625\n",
      "Total time for mesh mapping: 0.00035500526428222656\n",
      "Total time for mesh mapping: 0.00023627281188964844\n",
      "Total time for mesh mapping: 0.00021886825561523438\n",
      "Total time for mesh mapping: 0.00022363662719726562\n",
      "Total time for mesh mapping: 0.000217437744140625\n",
      "Total time for mesh mapping: 0.00020551681518554688\n",
      "Total time for mesh mapping: 0.00020694732666015625\n",
      "branch_touching_number = [30]\n",
      "Total time for mesh mapping: 0.0019118785858154297\n",
      "Total time for mesh mapping: 0.00016617774963378906\n",
      "Total time for mesh mapping: 0.0001494884490966797\n",
      "Total time for mesh mapping: 0.00028824806213378906\n",
      "Total time for mesh mapping: 0.0001399517059326172\n",
      "Total time for mesh mapping: 0.0001430511474609375\n",
      "Total time for mesh mapping: 0.00014829635620117188\n",
      "Total time for mesh mapping: 0.0001373291015625\n",
      "Total time for mesh mapping: 0.00013828277587890625\n",
      "Total time for mesh mapping: 0.00014162063598632812\n",
      "Total time for mesh mapping: 0.00013828277587890625\n",
      "Total time for mesh mapping: 0.00013446807861328125\n",
      "Total time for mesh mapping: 0.00026035308837890625\n",
      "Total time for mesh mapping: 0.0001380443572998047\n",
      "Total time for mesh mapping: 0.0002493858337402344\n",
      "Total time for mesh mapping: 0.00014257431030273438\n",
      "Total time for mesh mapping: 0.0001404285430908203\n",
      "Total time for mesh mapping: 0.0001533031463623047\n",
      "Total time for mesh mapping: 0.00015807151794433594\n",
      "Total time for mesh mapping: 0.00015282630920410156\n",
      "Total time for mesh mapping: 0.0001373291015625\n",
      "Total time for mesh mapping: 0.0001952648162841797\n",
      "Total time for mesh mapping: 0.0001385211944580078\n",
      "Total time for mesh mapping: 0.0001404285430908203\n",
      "Total time for mesh mapping: 0.00015211105346679688\n",
      "Total time for mesh mapping: 0.0001366138458251953\n",
      "Total time for mesh mapping: 0.00014257431030273438\n",
      "Total time for mesh mapping: 0.00014352798461914062\n",
      "Total time for mesh mapping: 0.00013875961303710938\n",
      "Total time for mesh mapping: 0.00038051605224609375\n",
      "Total time for mesh mapping: 0.0001342296600341797\n",
      "Total time for mesh mapping: 0.00014853477478027344\n",
      "Total time for mesh mapping: 0.00014281272888183594\n",
      "branch_touching_number = [30, 2]\n",
      "most_branch_containing_piece = 0\n"
     ]
    },
    {
     "data": {
      "application/vnd.jupyter.widget-view+json": {
       "model_id": "e95c42efb3324707abd70ed6678247c7",
       "version_major": 2,
       "version_minor": 0
      },
      "text/plain": [
       "HBox(children=(FloatProgress(value=1.0, bar_style='info', max=1.0), HTML(value='')))"
      ]
     },
     "metadata": {},
     "output_type": "display_data"
    },
    {
     "name": "stdout",
     "output_type": "stream",
     "text": [
      "\n",
      "filtered_measurements = [756.38618236 287.40451397 448.3368025  494.23573868 540.1042994\n",
      " 542.6529357  783.54431322 369.04945604]\n",
      "new_threshold = 1862.4669963744032\n"
     ]
    },
    {
     "data": {
      "application/vnd.jupyter.widget-view+json": {
       "model_id": "cfab683fc03e43cebe034a547349cdcf",
       "version_major": 2,
       "version_minor": 0
      },
      "text/plain": [
       "HBox(children=(FloatProgress(value=1.0, bar_style='info', max=1.0), HTML(value='')))"
      ]
     },
     "metadata": {},
     "output_type": "display_data"
    },
    {
     "name": "stdout",
     "output_type": "stream",
     "text": [
      "\n"
     ]
    },
    {
     "data": {
      "application/vnd.jupyter.widget-view+json": {
       "model_id": "ebd400cb40bd435eaf8da9ab13502356",
       "version_major": 2,
       "version_minor": 0
      },
      "text/plain": [
       "HBox(children=(FloatProgress(value=1.0, bar_style='info', max=1.0), HTML(value='')))"
      ]
     },
     "metadata": {},
     "output_type": "display_data"
    },
    {
     "name": "stdout",
     "output_type": "stream",
     "text": [
      "--> Not exactly one containing mesh: []\n",
      "--> Not exactly one containing mesh: []\n",
      "--> Not exactly one containing mesh: []\n",
      "--> Not exactly one containing mesh: []\n",
      "\n",
      "filtered_measurements = [189.57895861 192.39094413  76.45251934 129.94372394 171.61677543\n",
      " 170.9178477  121.38453907 214.11539076 107.3343742  100.78533601\n",
      " 126.29167962 107.68015529 141.81745917  90.00958557  69.29319898\n",
      "  74.16684716 135.61440777 134.3659662  242.04588193 242.39343065]\n",
      "new_threshold = 536.6843805769073\n"
     ]
    },
    {
     "data": {
      "application/vnd.jupyter.widget-view+json": {
       "model_id": "364dce8c748c43c3b3c09273c5f553b1",
       "version_major": 2,
       "version_minor": 0
      },
      "text/plain": [
       "HBox(children=(FloatProgress(value=1.0, bar_style='info', max=1.0), HTML(value='')))"
      ]
     },
     "metadata": {},
     "output_type": "display_data"
    },
    {
     "name": "stdout",
     "output_type": "stream",
     "text": [
      "--> Not exactly one containing mesh: []\n",
      "--> Not exactly one containing mesh: []\n",
      "--> Not exactly one containing mesh: []\n",
      "--> Not exactly one containing mesh: []\n",
      "--> Not exactly one containing mesh: []\n",
      "--> Not exactly one containing mesh: []\n",
      "\n",
      "Total time for mesh mapping: 0.0010631084442138672\n",
      "Total time for mesh mapping: 0.0004181861877441406\n",
      "Total time for mesh mapping: 0.0002689361572265625\n",
      "Total time for mesh mapping: 0.00038933753967285156\n",
      "Total time for mesh mapping: 0.00026726722717285156\n",
      "Total time for mesh mapping: 0.0004589557647705078\n",
      "Total time for mesh mapping: 0.00044918060302734375\n",
      "Total time for mesh mapping: 0.00033545494079589844\n",
      "Total time for mesh mapping: 0.0003190040588378906\n",
      "Total time for mesh mapping: 0.0002942085266113281\n",
      "Total time for mesh mapping: 0.0002758502960205078\n",
      "Total time for mesh mapping: 0.0002770423889160156\n",
      "Total time for mesh mapping: 0.000286102294921875\n",
      "Total time for mesh mapping: 0.0002720355987548828\n",
      "Total time for mesh mapping: 0.00028324127197265625\n",
      "Total time for mesh mapping: 0.0003209114074707031\n",
      "Total time for mesh mapping: 0.00027561187744140625\n",
      "Total time for mesh mapping: 0.00029349327087402344\n",
      "Total time for mesh mapping: 0.00028204917907714844\n",
      "Total time for mesh mapping: 0.0003898143768310547\n",
      "Total time for mesh mapping: 0.00035262107849121094\n",
      "Total time for mesh mapping: 0.000316619873046875\n",
      "Total time for mesh mapping: 0.00026488304138183594\n",
      "Total time for mesh mapping: 0.00027179718017578125\n",
      "Total time for mesh mapping: 0.0002655982971191406\n",
      "Total time for mesh mapping: 0.0003058910369873047\n",
      "Total time for mesh mapping: 0.00035190582275390625\n",
      "Total time for mesh mapping: 0.0004513263702392578\n",
      "Total time for mesh mapping: 0.00033402442932128906\n",
      "Total time for mesh mapping: 0.0002815723419189453\n",
      "Total time for mesh mapping: 0.00037789344787597656\n",
      "Total time for mesh mapping: 0.00034308433532714844\n",
      "Total time for mesh mapping: 0.0002665519714355469\n",
      "branch_touching_number = [31]\n",
      "Total time for mesh mapping: 0.0017528533935546875\n",
      "Total time for mesh mapping: 0.00021958351135253906\n",
      "Total time for mesh mapping: 0.0001583099365234375\n",
      "Total time for mesh mapping: 0.0001678466796875\n",
      "Total time for mesh mapping: 0.00031948089599609375\n",
      "Total time for mesh mapping: 0.00019097328186035156\n",
      "Total time for mesh mapping: 0.00022840499877929688\n",
      "Total time for mesh mapping: 0.0002722740173339844\n",
      "Total time for mesh mapping: 0.0014390945434570312\n",
      "Total time for mesh mapping: 0.00016427040100097656\n",
      "Total time for mesh mapping: 0.0001575946807861328\n",
      "Total time for mesh mapping: 0.00015783309936523438\n",
      "Total time for mesh mapping: 0.0001628398895263672\n",
      "Total time for mesh mapping: 0.0002923011779785156\n",
      "Total time for mesh mapping: 0.0001647472381591797\n",
      "Total time for mesh mapping: 0.0001709461212158203\n",
      "Total time for mesh mapping: 0.0001571178436279297\n",
      "Total time for mesh mapping: 0.00016927719116210938\n",
      "Total time for mesh mapping: 0.00016355514526367188\n",
      "Total time for mesh mapping: 0.00016021728515625\n",
      "Total time for mesh mapping: 0.00018334388732910156\n",
      "Total time for mesh mapping: 0.00017786026000976562\n",
      "Total time for mesh mapping: 0.00018477439880371094\n",
      "Total time for mesh mapping: 0.00015425682067871094\n",
      "Total time for mesh mapping: 0.00015234947204589844\n",
      "Total time for mesh mapping: 0.00016427040100097656\n",
      "Total time for mesh mapping: 0.0001633167266845703\n",
      "Total time for mesh mapping: 0.00016641616821289062\n",
      "Total time for mesh mapping: 0.00017380714416503906\n",
      "Total time for mesh mapping: 0.00015735626220703125\n",
      "Total time for mesh mapping: 0.0003230571746826172\n",
      "Total time for mesh mapping: 0.00017690658569335938\n",
      "Total time for mesh mapping: 0.00015807151794433594\n",
      "branch_touching_number = [31, 1]\n",
      "most_branch_containing_piece = 0\n"
     ]
    },
    {
     "data": {
      "application/vnd.jupyter.widget-view+json": {
       "model_id": "a816a15ceae44907a88b342fa41411d5",
       "version_major": 2,
       "version_minor": 0
      },
      "text/plain": [
       "HBox(children=(FloatProgress(value=1.0, bar_style='info', max=1.0), HTML(value='')))"
      ]
     },
     "metadata": {},
     "output_type": "display_data"
    },
    {
     "name": "stdout",
     "output_type": "stream",
     "text": [
      "\n",
      "filtered_measurements = [312.51097088 280.92676107 323.86259171 166.13967086 461.48403687\n",
      " 393.74719    269.88428721]\n",
      "new_threshold = 1069.854158063075\n"
     ]
    },
    {
     "data": {
      "application/vnd.jupyter.widget-view+json": {
       "model_id": "4ed9e31a6f73401db1115dccd378f829",
       "version_major": 2,
       "version_minor": 0
      },
      "text/plain": [
       "HBox(children=(FloatProgress(value=1.0, bar_style='info', max=1.0), HTML(value='')))"
      ]
     },
     "metadata": {},
     "output_type": "display_data"
    },
    {
     "name": "stdout",
     "output_type": "stream",
     "text": [
      "\n"
     ]
    },
    {
     "data": {
      "application/vnd.jupyter.widget-view+json": {
       "model_id": "1260a88a2e90405fa3f95ebdc87af5e1",
       "version_major": 2,
       "version_minor": 0
      },
      "text/plain": [
       "HBox(children=(FloatProgress(value=1.0, bar_style='info', max=1.0), HTML(value='')))"
      ]
     },
     "metadata": {},
     "output_type": "display_data"
    },
    {
     "name": "stdout",
     "output_type": "stream",
     "text": [
      "\n",
      "filtered_measurements = [1192.7539774]\n",
      "new_threshold = 2102.4706982009584\n"
     ]
    },
    {
     "data": {
      "application/vnd.jupyter.widget-view+json": {
       "model_id": "ba790c144bd243be948df97cbb339345",
       "version_major": 2,
       "version_minor": 0
      },
      "text/plain": [
       "HBox(children=(FloatProgress(value=1.0, bar_style='info', max=1.0), HTML(value='')))"
      ]
     },
     "metadata": {},
     "output_type": "display_data"
    },
    {
     "name": "stdout",
     "output_type": "stream",
     "text": [
      "\n"
     ]
    },
    {
     "data": {
      "application/vnd.jupyter.widget-view+json": {
       "model_id": "28b7317751e348d38771058f4c615be9",
       "version_major": 2,
       "version_minor": 0
      },
      "text/plain": [
       "HBox(children=(FloatProgress(value=1.0, bar_style='info', max=1.0), HTML(value='')))"
      ]
     },
     "metadata": {},
     "output_type": "display_data"
    },
    {
     "name": "stdout",
     "output_type": "stream",
     "text": [
      "--> Not exactly one containing mesh: []\n",
      "\n",
      "Total time for mesh mapping: 0.009885072708129883\n",
      "Total time for mesh mapping: 0.01315164566040039\n",
      "Total time for mesh mapping: 0.01178431510925293\n",
      "branch_touching_number = [1]\n",
      "Total time for mesh mapping: 0.0004086494445800781\n",
      "Total time for mesh mapping: 0.0003428459167480469\n",
      "Total time for mesh mapping: 0.00020742416381835938\n",
      "branch_touching_number = [1, 1]\n",
      "most_branch_containing_piece = 0\n",
      "filtered_measurements = [1648.18678641  604.64765497]\n",
      "new_threshold = 2998.0974789663414\n"
     ]
    },
    {
     "data": {
      "application/vnd.jupyter.widget-view+json": {
       "model_id": "f8a046957ac144fd9d96439c6c57af61",
       "version_major": 2,
       "version_minor": 0
      },
      "text/plain": [
       "HBox(children=(FloatProgress(value=1.0, bar_style='info', max=1.0), HTML(value='')))"
      ]
     },
     "metadata": {},
     "output_type": "display_data"
    },
    {
     "name": "stdout",
     "output_type": "stream",
     "text": [
      "--> Not exactly one containing mesh: []\n",
      "\n"
     ]
    },
    {
     "data": {
      "application/vnd.jupyter.widget-view+json": {
       "model_id": "1a11d644d5de46cb8decf688fffafced",
       "version_major": 2,
       "version_minor": 0
      },
      "text/plain": [
       "HBox(children=(FloatProgress(value=1.0, bar_style='info', max=1.0), HTML(value='')))"
      ]
     },
     "metadata": {},
     "output_type": "display_data"
    },
    {
     "name": "stdout",
     "output_type": "stream",
     "text": [
      "\n",
      "filtered_measurements = [1134.55213772]\n",
      "new_threshold = 2581.0091433016028\n"
     ]
    },
    {
     "data": {
      "application/vnd.jupyter.widget-view+json": {
       "model_id": "c7793a0ceb50444ea8a99beb83f265b0",
       "version_major": 2,
       "version_minor": 0
      },
      "text/plain": [
       "HBox(children=(FloatProgress(value=1.0, bar_style='info', max=1.0), HTML(value='')))"
      ]
     },
     "metadata": {},
     "output_type": "display_data"
    },
    {
     "name": "stdout",
     "output_type": "stream",
     "text": [
      "\n",
      "\n",
      "Working on limb #1\n"
     ]
    },
    {
     "data": {
      "application/vnd.jupyter.widget-view+json": {
       "model_id": "d6751c4e75234c75a6091a30a19d326e",
       "version_major": 2,
       "version_minor": 0
      },
      "text/plain": [
       "HBox(children=(FloatProgress(value=1.0, bar_style='info', max=1.0), HTML(value='')))"
      ]
     },
     "metadata": {},
     "output_type": "display_data"
    },
    {
     "data": {
      "application/vnd.jupyter.widget-view+json": {
       "model_id": "9fddc3ffc05646528a41d35213fb7647",
       "version_major": 2,
       "version_minor": 0
      },
      "text/plain": [
       "HBox(children=(FloatProgress(value=1.0, bar_style='info', max=1.0), HTML(value='')))"
      ]
     },
     "metadata": {},
     "output_type": "display_data"
    },
    {
     "name": "stdout",
     "output_type": "stream",
     "text": [
      "\n",
      "filtered_measurements = [384.02064966 157.73737045 225.7989536  250.53195189 177.8123904\n",
      " 207.38718632 399.81119867 270.89975133 119.10842966 185.52667803\n",
      " 347.34849235 318.38267391 245.74220324 324.89414522 269.27445663\n",
      " 186.79105959 140.53451622 384.14411759 217.24855876 259.0146754\n",
      " 354.0198816  280.39355273 155.01488686 282.09106284 150.20605354\n",
      " 186.58715486 225.37577202 189.32307726 201.70708674 144.69438843\n",
      " 217.33912693 383.84188921 242.47417717 203.834635   338.14720969\n",
      " 236.23886171 206.12800358 232.24384312 190.23546244 131.60133201\n",
      " 335.41677902 322.44970398 259.20326071 297.50897367 257.2447775\n",
      " 210.0126432  174.36066587 243.40451282 296.32243007 204.49560339\n",
      " 217.2261832  254.30118108 290.02415478 296.4870033  344.14030795\n",
      " 185.78233332 156.50288343 303.89592849 258.70300919 242.12587118\n",
      " 294.36689205 227.55123076 214.5670361  334.42066036 359.24319127\n",
      " 287.14885043 354.1905179  296.75022687 229.42257728]\n",
      "new_threshold = 929.9034166954257\n"
     ]
    },
    {
     "data": {
      "application/vnd.jupyter.widget-view+json": {
       "model_id": "4d60937234c8482fb320b031f59f1c43",
       "version_major": 2,
       "version_minor": 0
      },
      "text/plain": [
       "HBox(children=(FloatProgress(value=1.0, bar_style='info', max=1.0), HTML(value='')))"
      ]
     },
     "metadata": {},
     "output_type": "display_data"
    },
    {
     "name": "stdout",
     "output_type": "stream",
     "text": [
      "\n"
     ]
    },
    {
     "data": {
      "application/vnd.jupyter.widget-view+json": {
       "model_id": "8f69402522dc47a99127a8ebe77d5d20",
       "version_major": 2,
       "version_minor": 0
      },
      "text/plain": [
       "HBox(children=(FloatProgress(value=1.0, bar_style='info', max=1.0), HTML(value='')))"
      ]
     },
     "metadata": {},
     "output_type": "display_data"
    },
    {
     "name": "stdout",
     "output_type": "stream",
     "text": [
      "--> Not exactly one containing mesh: []\n",
      "--> Not exactly one containing mesh: []\n",
      "--> Not exactly one containing mesh: []\n",
      "--> Not exactly one containing mesh: []\n",
      "\n",
      "filtered_measurements = [ 95.90580419  69.98333632  77.61059256 112.00786391 165.22576244\n",
      " 132.50581851  78.34420822  91.77373769]\n",
      "new_threshold = 282.4895469246434\n"
     ]
    },
    {
     "data": {
      "application/vnd.jupyter.widget-view+json": {
       "model_id": "0ce7db6188ee4551936d2ac429385e5e",
       "version_major": 2,
       "version_minor": 0
      },
      "text/plain": [
       "HBox(children=(FloatProgress(value=1.0, bar_style='info', max=1.0), HTML(value='')))"
      ]
     },
     "metadata": {},
     "output_type": "display_data"
    },
    {
     "name": "stdout",
     "output_type": "stream",
     "text": [
      "--> Not exactly one containing mesh: []\n",
      "--> Not exactly one containing mesh: []\n",
      "--> Not exactly one containing mesh: []\n",
      "--> Not exactly one containing mesh: []\n",
      "--> Not exactly one containing mesh: []\n",
      "\n",
      "Total time for mesh mapping: 0.001901388168334961\n",
      "Total time for mesh mapping: 0.00022673606872558594\n",
      "Total time for mesh mapping: 0.00021076202392578125\n",
      "Total time for mesh mapping: 0.00020503997802734375\n",
      "Total time for mesh mapping: 0.0002079010009765625\n",
      "Total time for mesh mapping: 0.0002090930938720703\n",
      "Total time for mesh mapping: 0.00022411346435546875\n",
      "Total time for mesh mapping: 0.000213623046875\n",
      "Total time for mesh mapping: 0.0002205371856689453\n",
      "Total time for mesh mapping: 0.00021028518676757812\n",
      "Total time for mesh mapping: 0.0002124309539794922\n",
      "Total time for mesh mapping: 0.00020074844360351562\n",
      "Total time for mesh mapping: 0.00019431114196777344\n",
      "Total time for mesh mapping: 0.00021767616271972656\n",
      "branch_touching_number = [11]\n",
      "Total time for mesh mapping: 0.00037980079650878906\n",
      "Total time for mesh mapping: 0.0003066062927246094\n",
      "Total time for mesh mapping: 0.0002288818359375\n",
      "Total time for mesh mapping: 0.00022411346435546875\n",
      "Total time for mesh mapping: 0.00025916099548339844\n",
      "Total time for mesh mapping: 0.00025773048400878906\n",
      "Total time for mesh mapping: 0.00026607513427734375\n",
      "Total time for mesh mapping: 0.0002605915069580078\n",
      "Total time for mesh mapping: 0.00026345252990722656\n",
      "Total time for mesh mapping: 0.00026416778564453125\n",
      "Total time for mesh mapping: 0.0002636909484863281\n",
      "Total time for mesh mapping: 0.0003597736358642578\n",
      "Total time for mesh mapping: 0.0003285408020019531\n",
      "Total time for mesh mapping: 0.00022268295288085938\n",
      "branch_touching_number = [11, 2]\n",
      "most_branch_containing_piece = 0\n"
     ]
    },
    {
     "data": {
      "application/vnd.jupyter.widget-view+json": {
       "model_id": "d0be30099a9a4ffa9ffa12caa72d01a3",
       "version_major": 2,
       "version_minor": 0
      },
      "text/plain": [
       "HBox(children=(FloatProgress(value=1.0, bar_style='info', max=1.0), HTML(value='')))"
      ]
     },
     "metadata": {},
     "output_type": "display_data"
    },
    {
     "name": "stdout",
     "output_type": "stream",
     "text": [
      "\n",
      "filtered_measurements = [409.32793294 350.99371894 201.59679897 288.39322541 319.85410208\n",
      " 321.01641708 306.29901316 264.9591962  202.41642903 187.82321863\n",
      " 425.46785475 437.32266915 410.51114134 302.435921   277.92746918\n",
      " 220.31441317 204.94990275 255.23560765 221.62853788 399.53214715\n",
      " 243.68334065 279.74028142 314.35496891 373.55734309 331.91125613\n",
      " 353.24989883 267.95896075 304.31588    343.4312975  292.14600826\n",
      " 359.05925024]\n",
      "new_threshold = 1109.154934698901\n"
     ]
    },
    {
     "data": {
      "application/vnd.jupyter.widget-view+json": {
       "model_id": "16c9452727a4470f801d8e5b6395f1c7",
       "version_major": 2,
       "version_minor": 0
      },
      "text/plain": [
       "HBox(children=(FloatProgress(value=1.0, bar_style='info', max=1.0), HTML(value='')))"
      ]
     },
     "metadata": {},
     "output_type": "display_data"
    },
    {
     "name": "stdout",
     "output_type": "stream",
     "text": [
      "\n"
     ]
    },
    {
     "data": {
      "application/vnd.jupyter.widget-view+json": {
       "model_id": "49708a086783446aabf368c861c6053c",
       "version_major": 2,
       "version_minor": 0
      },
      "text/plain": [
       "HBox(children=(FloatProgress(value=1.0, bar_style='info', max=1.0), HTML(value='')))"
      ]
     },
     "metadata": {},
     "output_type": "display_data"
    },
    {
     "name": "stdout",
     "output_type": "stream",
     "text": [
      "--> Not exactly one containing mesh: []\n",
      "\n",
      "filtered_measurements = [134.07386157 127.42920373  78.9863112   84.0724679   69.08698158\n",
      " 106.45496354  93.42523644  92.50305094 127.50886115 127.91588492\n",
      " 100.10511791 107.99125373 113.12532097 126.59856851  87.63248092\n",
      " 129.94587899  95.52253472 105.80723682 112.861429    96.93862173\n",
      " 114.27944764  88.85788943  83.77826653  79.88294306 102.25966806\n",
      " 119.10594212 115.36621768]\n",
      "new_threshold = 290.0851136175645\n"
     ]
    },
    {
     "data": {
      "application/vnd.jupyter.widget-view+json": {
       "model_id": "41b82bd1b4cf4c058946a87c8d87a47e",
       "version_major": 2,
       "version_minor": 0
      },
      "text/plain": [
       "HBox(children=(FloatProgress(value=1.0, bar_style='info', max=1.0), HTML(value='')))"
      ]
     },
     "metadata": {},
     "output_type": "display_data"
    },
    {
     "name": "stdout",
     "output_type": "stream",
     "text": [
      "--> Not exactly one containing mesh: []\n",
      "--> Not exactly one containing mesh: []\n",
      "\n",
      "Total time for mesh mapping: 0.0018739700317382812\n",
      "Total time for mesh mapping: 0.00025010108947753906\n",
      "Total time for mesh mapping: 0.00023746490478515625\n",
      "Total time for mesh mapping: 0.0002446174621582031\n",
      "Total time for mesh mapping: 0.0002288818359375\n",
      "Total time for mesh mapping: 0.00035071372985839844\n",
      "Total time for mesh mapping: 0.00022411346435546875\n",
      "Total time for mesh mapping: 0.00022459030151367188\n",
      "Total time for mesh mapping: 0.0002319812774658203\n",
      "Total time for mesh mapping: 0.0002422332763671875\n",
      "Total time for mesh mapping: 0.00023698806762695312\n",
      "Total time for mesh mapping: 0.00022339820861816406\n",
      "Total time for mesh mapping: 0.0002689361572265625\n",
      "Total time for mesh mapping: 0.0003590583801269531\n",
      "Total time for mesh mapping: 0.00022840499877929688\n",
      "Total time for mesh mapping: 0.00024008750915527344\n",
      "Total time for mesh mapping: 0.00024080276489257812\n",
      "Total time for mesh mapping: 0.0002300739288330078\n",
      "Total time for mesh mapping: 0.0002448558807373047\n",
      "Total time for mesh mapping: 0.000232696533203125\n",
      "Total time for mesh mapping: 0.0002288818359375\n",
      "Total time for mesh mapping: 0.0003590583801269531\n",
      "Total time for mesh mapping: 0.00022220611572265625\n",
      "Total time for mesh mapping: 0.00022602081298828125\n",
      "Total time for mesh mapping: 0.00023746490478515625\n",
      "Total time for mesh mapping: 0.00020575523376464844\n",
      "Total time for mesh mapping: 0.0002067089080810547\n",
      "Total time for mesh mapping: 0.00021457672119140625\n",
      "Total time for mesh mapping: 0.000213623046875\n",
      "Total time for mesh mapping: 0.00034046173095703125\n",
      "Total time for mesh mapping: 0.0002014636993408203\n",
      "Total time for mesh mapping: 0.00020813941955566406\n",
      "Total time for mesh mapping: 0.00022029876708984375\n",
      "Total time for mesh mapping: 0.00021886825561523438\n",
      "Total time for mesh mapping: 0.00019931793212890625\n",
      "branch_touching_number = [33]\n",
      "Total time for mesh mapping: 0.0005791187286376953\n",
      "Total time for mesh mapping: 0.00014066696166992188\n",
      "Total time for mesh mapping: 0.00014328956604003906\n",
      "Total time for mesh mapping: 0.00015044212341308594\n",
      "Total time for mesh mapping: 0.00029850006103515625\n",
      "Total time for mesh mapping: 0.00012946128845214844\n",
      "Total time for mesh mapping: 0.00012731552124023438\n",
      "Total time for mesh mapping: 0.00012731552124023438\n",
      "Total time for mesh mapping: 0.0001404285430908203\n",
      "Total time for mesh mapping: 0.00013875961303710938\n",
      "Total time for mesh mapping: 0.00013446807861328125\n",
      "Total time for mesh mapping: 0.00013065338134765625\n",
      "Total time for mesh mapping: 0.0001404285430908203\n",
      "Total time for mesh mapping: 0.0002741813659667969\n",
      "Total time for mesh mapping: 0.0001342296600341797\n",
      "Total time for mesh mapping: 0.0001385211944580078\n",
      "Total time for mesh mapping: 0.00014066696166992188\n",
      "Total time for mesh mapping: 0.0001392364501953125\n",
      "Total time for mesh mapping: 0.0001823902130126953\n",
      "Total time for mesh mapping: 0.00013709068298339844\n",
      "Total time for mesh mapping: 0.0001373291015625\n",
      "Total time for mesh mapping: 0.00013899803161621094\n",
      "Total time for mesh mapping: 0.00015974044799804688\n",
      "Total time for mesh mapping: 0.0001347064971923828\n",
      "Total time for mesh mapping: 0.00013327598571777344\n",
      "Total time for mesh mapping: 0.00013375282287597656\n",
      "Total time for mesh mapping: 0.000133514404296875\n",
      "Total time for mesh mapping: 0.00014543533325195312\n",
      "Total time for mesh mapping: 0.0001385211944580078\n",
      "Total time for mesh mapping: 0.000141143798828125\n",
      "Total time for mesh mapping: 0.0002739429473876953\n",
      "Total time for mesh mapping: 0.00013256072998046875\n",
      "Total time for mesh mapping: 0.00013184547424316406\n",
      "Total time for mesh mapping: 0.0001533031463623047\n",
      "Total time for mesh mapping: 0.0001316070556640625\n",
      "branch_touching_number = [33, 1]\n",
      "most_branch_containing_piece = 0\n"
     ]
    },
    {
     "data": {
      "application/vnd.jupyter.widget-view+json": {
       "model_id": "e713bb1efcc448a5b09cf7c91f688f29",
       "version_major": 2,
       "version_minor": 0
      },
      "text/plain": [
       "HBox(children=(FloatProgress(value=1.0, bar_style='info', max=1.0), HTML(value='')))"
      ]
     },
     "metadata": {},
     "output_type": "display_data"
    },
    {
     "name": "stdout",
     "output_type": "stream",
     "text": [
      "\n",
      "filtered_measurements = [289.90290563 389.38265189 356.62654264 310.53793572 396.18182496\n",
      " 412.28361959 273.28167034 392.26066564 392.0353454  319.8418885\n",
      " 317.99786584 257.30915255 563.08519078 295.38268747 289.65728538\n",
      " 565.14063707 447.27601199 442.4532251  414.38128882 271.88504676\n",
      " 274.94463906 265.18087219 352.52289347 371.69788837 430.13604517\n",
      " 456.68131714 284.20818177 324.99840869 434.88046296 326.5347509\n",
      " 226.48842204 276.26843534 277.56260241 330.3429491  245.7658398\n",
      " 252.53859888 507.28665724 324.05214111 450.13740854 581.16386164\n",
      " 385.55614169 295.07913892 400.72754829 359.11016438 354.63690552\n",
      " 347.78233233 519.88878994 293.1658519  285.74761872 329.56528992\n",
      " 363.70592043 410.25967125 436.83321561 443.48495718 332.93998117\n",
      " 363.59715096 521.29945868 373.81215404 327.0420369  437.88878442\n",
      " 459.67976048 309.67384921 258.56955904 322.99362647 426.11178152\n",
      " 553.95565787 404.51579081 354.80034717 371.58373725 375.11377047\n",
      " 407.61017119 390.04446167 503.73191203 298.74288029]\n",
      "new_threshold = 1373.8897403344909\n"
     ]
    },
    {
     "data": {
      "application/vnd.jupyter.widget-view+json": {
       "model_id": "ca42e5d54cea4ee783dd8a850ea10bd5",
       "version_major": 2,
       "version_minor": 0
      },
      "text/plain": [
       "HBox(children=(FloatProgress(value=1.0, bar_style='info', max=1.0), HTML(value='')))"
      ]
     },
     "metadata": {},
     "output_type": "display_data"
    },
    {
     "name": "stdout",
     "output_type": "stream",
     "text": [
      "\n"
     ]
    },
    {
     "data": {
      "application/vnd.jupyter.widget-view+json": {
       "model_id": "313a11f6535a4e7698304845d0479963",
       "version_major": 2,
       "version_minor": 0
      },
      "text/plain": [
       "HBox(children=(FloatProgress(value=1.0, bar_style='info', max=1.0), HTML(value='')))"
      ]
     },
     "metadata": {},
     "output_type": "display_data"
    },
    {
     "name": "stdout",
     "output_type": "stream",
     "text": [
      "--> Not exactly one containing mesh: []\n",
      "--> Not exactly one containing mesh: []\n",
      "\n",
      "filtered_measurements = [ 85.62134373 108.45214191 117.49971108  96.70528283 106.84039131\n",
      " 132.4924883   88.70573128 149.19277127 123.35683095 176.4560578\n",
      "  95.39617899 112.67943353 111.8152062 ]\n",
      "new_threshold = 322.4697658451802\n"
     ]
    },
    {
     "data": {
      "application/vnd.jupyter.widget-view+json": {
       "model_id": "5f7b3baed65b4e969de3d80199de8dde",
       "version_major": 2,
       "version_minor": 0
      },
      "text/plain": [
       "HBox(children=(FloatProgress(value=1.0, bar_style='info', max=1.0), HTML(value='')))"
      ]
     },
     "metadata": {},
     "output_type": "display_data"
    },
    {
     "name": "stdout",
     "output_type": "stream",
     "text": [
      "--> Not exactly one containing mesh: []\n",
      "--> Not exactly one containing mesh: []\n",
      "\n",
      "Total time for mesh mapping: 0.000782012939453125\n",
      "Total time for mesh mapping: 0.004435539245605469\n",
      "Total time for mesh mapping: 0.0017261505126953125\n",
      "Total time for mesh mapping: 0.0002434253692626953\n",
      "Total time for mesh mapping: 0.0002551078796386719\n",
      "Total time for mesh mapping: 0.00026798248291015625\n",
      "Total time for mesh mapping: 0.00023412704467773438\n",
      "Total time for mesh mapping: 0.00022864341735839844\n",
      "Total time for mesh mapping: 0.0002224445343017578\n",
      "Total time for mesh mapping: 0.0010828971862792969\n",
      "Total time for mesh mapping: 0.00025153160095214844\n",
      "Total time for mesh mapping: 0.00026226043701171875\n",
      "Total time for mesh mapping: 0.0025124549865722656\n",
      "Total time for mesh mapping: 0.00024890899658203125\n",
      "Total time for mesh mapping: 0.00024008750915527344\n",
      "Total time for mesh mapping: 0.00020837783813476562\n",
      "Total time for mesh mapping: 0.0002105236053466797\n",
      "Total time for mesh mapping: 0.00020241737365722656\n",
      "Total time for mesh mapping: 0.00034809112548828125\n",
      "Total time for mesh mapping: 0.0002052783966064453\n",
      "Total time for mesh mapping: 0.00020694732666015625\n",
      "Total time for mesh mapping: 0.00022530555725097656\n",
      "branch_touching_number = [20]\n",
      "Total time for mesh mapping: 0.0018315315246582031\n",
      "Total time for mesh mapping: 0.0001380443572998047\n",
      "Total time for mesh mapping: 0.00013303756713867188\n",
      "Total time for mesh mapping: 0.000133514404296875\n",
      "Total time for mesh mapping: 0.00013685226440429688\n",
      "Total time for mesh mapping: 0.00015497207641601562\n",
      "Total time for mesh mapping: 0.00013780593872070312\n",
      "Total time for mesh mapping: 0.00012993812561035156\n",
      "Total time for mesh mapping: 0.0001289844512939453\n",
      "Total time for mesh mapping: 0.00013136863708496094\n",
      "Total time for mesh mapping: 0.00013399124145507812\n",
      "Total time for mesh mapping: 0.00013446807861328125\n",
      "Total time for mesh mapping: 0.00015807151794433594\n",
      "Total time for mesh mapping: 0.0002810955047607422\n",
      "Total time for mesh mapping: 0.00015020370483398438\n",
      "Total time for mesh mapping: 0.00013303756713867188\n",
      "Total time for mesh mapping: 0.00013375282287597656\n",
      "Total time for mesh mapping: 0.00015282630920410156\n",
      "Total time for mesh mapping: 0.000133514404296875\n",
      "Total time for mesh mapping: 0.00012946128845214844\n",
      "Total time for mesh mapping: 0.00012993812561035156\n",
      "Total time for mesh mapping: 0.0001361370086669922\n",
      "branch_touching_number = [20, 1]\n",
      "most_branch_containing_piece = 0\n"
     ]
    },
    {
     "data": {
      "application/vnd.jupyter.widget-view+json": {
       "model_id": "5d724768064b43ba859fc178417aa46c",
       "version_major": 2,
       "version_minor": 0
      },
      "text/plain": [
       "HBox(children=(FloatProgress(value=1.0, bar_style='info', max=1.0), HTML(value='')))"
      ]
     },
     "metadata": {},
     "output_type": "display_data"
    },
    {
     "name": "stdout",
     "output_type": "stream",
     "text": [
      "\n",
      "filtered_measurements = [132.98321765 173.13280603  92.23019757]\n",
      "new_threshold = 326.4227799999727\n"
     ]
    },
    {
     "data": {
      "application/vnd.jupyter.widget-view+json": {
       "model_id": "058eb7a6220c47f78e942a72999fef26",
       "version_major": 2,
       "version_minor": 0
      },
      "text/plain": [
       "HBox(children=(FloatProgress(value=1.0, bar_style='info', max=1.0), HTML(value='')))"
      ]
     },
     "metadata": {},
     "output_type": "display_data"
    },
    {
     "name": "stdout",
     "output_type": "stream",
     "text": [
      "\n"
     ]
    },
    {
     "data": {
      "application/vnd.jupyter.widget-view+json": {
       "model_id": "b4f44919faa44e6e859fd52e01a8a832",
       "version_major": 2,
       "version_minor": 0
      },
      "text/plain": [
       "HBox(children=(FloatProgress(value=1.0, bar_style='info', max=1.0), HTML(value='')))"
      ]
     },
     "metadata": {},
     "output_type": "display_data"
    },
    {
     "name": "stdout",
     "output_type": "stream",
     "text": [
      "\n",
      "filtered_measurements = [119.30962924 124.4785565 ]\n",
      "new_threshold = 273.20240421936813\n"
     ]
    },
    {
     "data": {
      "application/vnd.jupyter.widget-view+json": {
       "model_id": "f0a460044c28436e86eb973c424330b3",
       "version_major": 2,
       "version_minor": 0
      },
      "text/plain": [
       "HBox(children=(FloatProgress(value=1.0, bar_style='info', max=1.0), HTML(value='')))"
      ]
     },
     "metadata": {},
     "output_type": "display_data"
    },
    {
     "name": "stdout",
     "output_type": "stream",
     "text": [
      "\n"
     ]
    },
    {
     "data": {
      "application/vnd.jupyter.widget-view+json": {
       "model_id": "32c7e2e7f98c40d2a9bf039dcf553323",
       "version_major": 2,
       "version_minor": 0
      },
      "text/plain": [
       "HBox(children=(FloatProgress(value=1.0, bar_style='info', max=1.0), HTML(value='')))"
      ]
     },
     "metadata": {},
     "output_type": "display_data"
    },
    {
     "name": "stdout",
     "output_type": "stream",
     "text": [
      "\n",
      "filtered_measurements = [ 95.50595626 123.64839278 110.64030892 158.56654884  96.06268619]\n",
      "new_threshold = 277.1883413550911\n"
     ]
    },
    {
     "data": {
      "application/vnd.jupyter.widget-view+json": {
       "model_id": "b17dfb89d18e44fe807848b35cbbd546",
       "version_major": 2,
       "version_minor": 0
      },
      "text/plain": [
       "HBox(children=(FloatProgress(value=1.0, bar_style='info', max=1.0), HTML(value='')))"
      ]
     },
     "metadata": {},
     "output_type": "display_data"
    },
    {
     "name": "stdout",
     "output_type": "stream",
     "text": [
      "\n"
     ]
    },
    {
     "data": {
      "application/vnd.jupyter.widget-view+json": {
       "model_id": "95c144f3344e49c780dcb50579e5c0f2",
       "version_major": 2,
       "version_minor": 0
      },
      "text/plain": [
       "HBox(children=(FloatProgress(value=1.0, bar_style='info', max=1.0), HTML(value='')))"
      ]
     },
     "metadata": {},
     "output_type": "display_data"
    },
    {
     "name": "stdout",
     "output_type": "stream",
     "text": [
      "\n",
      "filtered_measurements = [349.50540797 527.0764132  537.49221001 297.16179908 395.0197747\n",
      " 283.54378248 288.76939015 336.84949544 495.07065678]\n",
      "new_threshold = 1267.5431789185232\n"
     ]
    },
    {
     "data": {
      "application/vnd.jupyter.widget-view+json": {
       "model_id": "c6f959ffbb3140e7b9ceb4ec8daa0a19",
       "version_major": 2,
       "version_minor": 0
      },
      "text/plain": [
       "HBox(children=(FloatProgress(value=1.0, bar_style='info', max=1.0), HTML(value='')))"
      ]
     },
     "metadata": {},
     "output_type": "display_data"
    },
    {
     "name": "stdout",
     "output_type": "stream",
     "text": [
      "\n"
     ]
    },
    {
     "data": {
      "application/vnd.jupyter.widget-view+json": {
       "model_id": "d5624699eca14becaef4437283ec39b7",
       "version_major": 2,
       "version_minor": 0
      },
      "text/plain": [
       "HBox(children=(FloatProgress(value=1.0, bar_style='info', max=1.0), HTML(value='')))"
      ]
     },
     "metadata": {},
     "output_type": "display_data"
    },
    {
     "name": "stdout",
     "output_type": "stream",
     "text": [
      "--> Not exactly one containing mesh: []\n",
      "\n",
      "Total time for mesh mapping: 0.004106283187866211\n",
      "Total time for mesh mapping: 0.00234222412109375\n",
      "Total time for mesh mapping: 0.013092041015625\n",
      "Total time for mesh mapping: 0.015922069549560547\n",
      "Total time for mesh mapping: 0.0076444149017333984\n",
      "Total time for mesh mapping: 0.00022649765014648438\n",
      "Total time for mesh mapping: 0.0002110004425048828\n",
      "branch_touching_number = [1]\n",
      "Total time for mesh mapping: 0.0003066062927246094\n",
      "Total time for mesh mapping: 0.00021791458129882812\n",
      "Total time for mesh mapping: 0.0001366138458251953\n",
      "Total time for mesh mapping: 0.00013208389282226562\n",
      "Total time for mesh mapping: 0.00012922286987304688\n",
      "Total time for mesh mapping: 0.00012803077697753906\n",
      "Total time for mesh mapping: 0.00013971328735351562\n",
      "branch_touching_number = [1, 5]\n",
      "most_branch_containing_piece = 1\n",
      "filtered_measurements = [ 77.23716825  70.95581339  81.17199275 106.12710663]\n",
      "new_threshold = 192.31255317100442\n"
     ]
    },
    {
     "data": {
      "application/vnd.jupyter.widget-view+json": {
       "model_id": "7fc083c51b5248bd8e9d5c0eb962f23c",
       "version_major": 2,
       "version_minor": 0
      },
      "text/plain": [
       "HBox(children=(FloatProgress(value=1.0, bar_style='info', max=1.0), HTML(value='')))"
      ]
     },
     "metadata": {},
     "output_type": "display_data"
    },
    {
     "name": "stdout",
     "output_type": "stream",
     "text": [
      "--> Not exactly one containing mesh: []\n",
      "--> Not exactly one containing mesh: []\n",
      "\n"
     ]
    },
    {
     "data": {
      "application/vnd.jupyter.widget-view+json": {
       "model_id": "34e5da99728c4d59bd0d0a31cb452ed0",
       "version_major": 2,
       "version_minor": 0
      },
      "text/plain": [
       "HBox(children=(FloatProgress(value=1.0, bar_style='info', max=1.0), HTML(value='')))"
      ]
     },
     "metadata": {},
     "output_type": "display_data"
    },
    {
     "name": "stdout",
     "output_type": "stream",
     "text": [
      "\n",
      "filtered_measurements = [346.29776404 572.60715131 504.74314348 309.64131793 707.4752425\n",
      " 529.5944438  458.24964607 441.94268445 441.16024065 288.06816709\n",
      " 424.41375797 337.86908341 694.34467218 422.04627619 547.71103172\n",
      " 540.41999659 591.31496556 557.43333078 712.81506987 495.60314219\n",
      " 555.49598059 349.2298389  434.67662024 524.51095443 654.98934077\n",
      " 383.8868545  331.45326956 420.36112995 327.67392897 341.55078303\n",
      " 576.20166331 409.34603798 304.69675837 473.66182975 338.2249702\n",
      " 478.78949093 577.40675577 727.42093485 411.00321464 657.46620505\n",
      " 365.41219909 393.25523864 500.55180351 502.68781655 451.17455454\n",
      " 722.52876255 436.29142708 348.63244982 367.48418906 354.95314057\n",
      " 477.62922877 635.28373499 555.49444986 545.76343093]\n",
      "new_threshold = 1880.2512369780334\n"
     ]
    },
    {
     "data": {
      "application/vnd.jupyter.widget-view+json": {
       "model_id": "79fc6efe97574de8b1b6dbb6f593f022",
       "version_major": 2,
       "version_minor": 0
      },
      "text/plain": [
       "HBox(children=(FloatProgress(value=1.0, bar_style='info', max=1.0), HTML(value='')))"
      ]
     },
     "metadata": {},
     "output_type": "display_data"
    },
    {
     "name": "stdout",
     "output_type": "stream",
     "text": [
      "\n"
     ]
    },
    {
     "data": {
      "application/vnd.jupyter.widget-view+json": {
       "model_id": "ef74666ab51143bfa4dc3b91eeac34a9",
       "version_major": 2,
       "version_minor": 0
      },
      "text/plain": [
       "HBox(children=(FloatProgress(value=1.0, bar_style='info', max=1.0), HTML(value='')))"
      ]
     },
     "metadata": {},
     "output_type": "display_data"
    },
    {
     "name": "stdout",
     "output_type": "stream",
     "text": [
      "\n",
      "filtered_measurements = [133.2680665  358.88988623 253.43103776 307.87245878 251.41374366\n",
      " 218.94279305 403.69038632 310.56988853 578.43250225 274.40756641\n",
      " 214.42307567 226.86980882 197.13259924 534.26166343 396.42247307\n",
      " 190.33753562 425.37694914 431.50958912 359.81515065 381.38338453\n",
      " 330.68955484 254.58227604 280.46302487 574.14155568 306.76304724\n",
      " 422.38823752 512.92351345 374.74863865 299.30110576 368.63647519\n",
      " 334.43889334 224.09050537 500.99648122 604.76857945 384.31643986\n",
      " 322.26861704 550.47718049 491.17412607 415.00041574 523.94008255\n",
      " 331.2677357  481.58896414 392.21844996 385.40472149 269.11997451\n",
      " 384.3695095  375.44590627 356.62556577 317.40211195 529.79766128\n",
      " 466.90932926 549.787399   623.11114628 330.92788347 536.27221254\n",
      " 401.60198353 275.11031173 355.89039972 260.8087165  261.0013427\n",
      " 199.13139578 594.5618708  433.36472502 422.51733065 601.9317833\n",
      " 324.80491305 356.36034745 315.0026448  289.99768951 316.5835901\n",
      " 365.88668706 389.34045708 347.84224408 416.24904521 356.48071413\n",
      " 462.59581498 620.04685617 537.02534185 249.32622693 421.14898925\n",
      " 283.86902516 277.993294   358.32315852 330.37279837]\n",
      "new_threshold = 1706.6870986323918\n"
     ]
    },
    {
     "data": {
      "application/vnd.jupyter.widget-view+json": {
       "model_id": "37061c4dadcc4917b31b2f7cd7b13ba3",
       "version_major": 2,
       "version_minor": 0
      },
      "text/plain": [
       "HBox(children=(FloatProgress(value=1.0, bar_style='info', max=1.0), HTML(value='')))"
      ]
     },
     "metadata": {},
     "output_type": "display_data"
    },
    {
     "name": "stdout",
     "output_type": "stream",
     "text": [
      "\n"
     ]
    },
    {
     "data": {
      "application/vnd.jupyter.widget-view+json": {
       "model_id": "698a153330ad47388846b5f2911a1ffe",
       "version_major": 2,
       "version_minor": 0
      },
      "text/plain": [
       "HBox(children=(FloatProgress(value=1.0, bar_style='info', max=1.0), HTML(value='')))"
      ]
     },
     "metadata": {},
     "output_type": "display_data"
    },
    {
     "name": "stdout",
     "output_type": "stream",
     "text": [
      "--> Not exactly one containing mesh: []\n",
      "--> Not exactly one containing mesh: []\n",
      "--> Not exactly one containing mesh: []\n",
      "--> Not exactly one containing mesh: []\n",
      "--> Not exactly one containing mesh: [0 1]\n",
      "\n",
      "filtered_measurements = [975.57142345 994.45292553 763.53978083 791.98178709 780.66913538\n",
      " 801.58748353 776.84548871 766.05514206 722.02290974 780.9176863\n",
      " 823.3078346  831.79696293 675.24281946 504.77779203 327.23583306\n",
      " 325.12787372 383.47429137 394.37411609 404.12954023 498.62009304\n",
      " 780.45278433]\n",
      "new_threshold = 1952.2430030253909\n"
     ]
    },
    {
     "data": {
      "application/vnd.jupyter.widget-view+json": {
       "model_id": "3a177507fde74da8931f3e1b6b0a016f",
       "version_major": 2,
       "version_minor": 0
      },
      "text/plain": [
       "HBox(children=(FloatProgress(value=1.0, bar_style='info', max=1.0), HTML(value='')))"
      ]
     },
     "metadata": {},
     "output_type": "display_data"
    },
    {
     "name": "stdout",
     "output_type": "stream",
     "text": [
      "--> Not exactly one containing mesh: []\n",
      "--> Not exactly one containing mesh: []\n",
      "--> Not exactly one containing mesh: []\n",
      "--> Not exactly one containing mesh: []\n",
      "\n"
     ]
    },
    {
     "data": {
      "application/vnd.jupyter.widget-view+json": {
       "model_id": "e56771e33ab046419db573a7d4dacfc9",
       "version_major": 2,
       "version_minor": 0
      },
      "text/plain": [
       "HBox(children=(FloatProgress(value=1.0, bar_style='info', max=1.0), HTML(value='')))"
      ]
     },
     "metadata": {},
     "output_type": "display_data"
    },
    {
     "name": "stdout",
     "output_type": "stream",
     "text": [
      "\n",
      "filtered_measurements = [285.16721062 223.10573675 261.02858396 136.15407503 435.47712385\n",
      " 477.45935242 394.20223589 340.22084236 296.52316735 298.13605919\n",
      " 340.32322978 296.80544591 284.51769724 283.23410759 388.26362498\n",
      " 415.4783565  409.96721945 331.28007276 542.78073686 239.36241479\n",
      " 319.80499081]\n",
      "new_threshold = 1309.0313426212315\n"
     ]
    },
    {
     "data": {
      "application/vnd.jupyter.widget-view+json": {
       "model_id": "c185f80b6d7e4b09b7331f1232ce484f",
       "version_major": 2,
       "version_minor": 0
      },
      "text/plain": [
       "HBox(children=(FloatProgress(value=1.0, bar_style='info', max=1.0), HTML(value='')))"
      ]
     },
     "metadata": {},
     "output_type": "display_data"
    },
    {
     "name": "stdout",
     "output_type": "stream",
     "text": [
      "\n"
     ]
    },
    {
     "data": {
      "application/vnd.jupyter.widget-view+json": {
       "model_id": "0bb057ad8220486aa6c9b620da60745a",
       "version_major": 2,
       "version_minor": 0
      },
      "text/plain": [
       "HBox(children=(FloatProgress(value=1.0, bar_style='info', max=1.0), HTML(value='')))"
      ]
     },
     "metadata": {},
     "output_type": "display_data"
    },
    {
     "name": "stdout",
     "output_type": "stream",
     "text": [
      "--> Not exactly one containing mesh: []\n",
      "--> Not exactly one containing mesh: []\n",
      "\n",
      "filtered_measurements = [140.2865978  134.59569693 190.20927285 143.1750819   99.97284674\n",
      " 135.97873756 132.46456283 127.17474921 102.55030508  93.3235333\n",
      " 129.7248754  176.24987668  85.67988021 106.52681611 109.17640907\n",
      " 170.80863505 145.58228978  77.06940808 125.91430472 149.46933822\n",
      " 103.28507664]\n",
      "new_threshold = 362.4357798461727\n"
     ]
    },
    {
     "data": {
      "application/vnd.jupyter.widget-view+json": {
       "model_id": "915aa1b257b0488a9e3046ed18022e61",
       "version_major": 2,
       "version_minor": 0
      },
      "text/plain": [
       "HBox(children=(FloatProgress(value=1.0, bar_style='info', max=1.0), HTML(value='')))"
      ]
     },
     "metadata": {},
     "output_type": "display_data"
    },
    {
     "name": "stdout",
     "output_type": "stream",
     "text": [
      "--> Not exactly one containing mesh: []\n",
      "--> Not exactly one containing mesh: []\n",
      "--> Not exactly one containing mesh: []\n",
      "\n",
      "Total time for mesh mapping: 0.0010602474212646484\n",
      "Total time for mesh mapping: 0.0004367828369140625\n",
      "Total time for mesh mapping: 0.0003223419189453125\n",
      "Total time for mesh mapping: 0.0003325939178466797\n",
      "Total time for mesh mapping: 0.00031638145446777344\n",
      "Total time for mesh mapping: 0.0003924369812011719\n",
      "Total time for mesh mapping: 0.0002944469451904297\n",
      "Total time for mesh mapping: 0.0002675056457519531\n",
      "Total time for mesh mapping: 0.00030159950256347656\n",
      "Total time for mesh mapping: 0.0003483295440673828\n",
      "Total time for mesh mapping: 0.0003361701965332031\n",
      "Total time for mesh mapping: 0.00029850006103515625\n",
      "Total time for mesh mapping: 0.0002601146697998047\n",
      "Total time for mesh mapping: 0.00026988983154296875\n",
      "Total time for mesh mapping: 0.0002758502960205078\n",
      "Total time for mesh mapping: 0.00033545494079589844\n",
      "Total time for mesh mapping: 0.00026988983154296875\n",
      "Total time for mesh mapping: 0.0002720355987548828\n",
      "Total time for mesh mapping: 0.0002675056457519531\n",
      "Total time for mesh mapping: 0.0003211498260498047\n",
      "Total time for mesh mapping: 0.0002944469451904297\n",
      "Total time for mesh mapping: 0.0003478527069091797\n",
      "Total time for mesh mapping: 0.0003364086151123047\n",
      "Total time for mesh mapping: 0.0003376007080078125\n",
      "Total time for mesh mapping: 0.000274658203125\n",
      "Total time for mesh mapping: 0.0003502368927001953\n",
      "Total time for mesh mapping: 0.000247955322265625\n",
      "Total time for mesh mapping: 0.0002739429473876953\n",
      "Total time for mesh mapping: 0.0002741813659667969\n",
      "Total time for mesh mapping: 0.00025773048400878906\n",
      "Total time for mesh mapping: 0.0002522468566894531\n",
      "Total time for mesh mapping: 0.0003085136413574219\n",
      "Total time for mesh mapping: 0.0023751258850097656\n",
      "branch_touching_number = [29]\n",
      "Total time for mesh mapping: 0.001878499984741211\n",
      "Total time for mesh mapping: 0.0001952648162841797\n",
      "Total time for mesh mapping: 0.0004544258117675781\n",
      "Total time for mesh mapping: 0.0010275840759277344\n",
      "Total time for mesh mapping: 0.00016546249389648438\n",
      "Total time for mesh mapping: 0.00020360946655273438\n",
      "Total time for mesh mapping: 0.00015783309936523438\n",
      "Total time for mesh mapping: 0.00015163421630859375\n",
      "Total time for mesh mapping: 0.0001709461212158203\n",
      "Total time for mesh mapping: 0.00018668174743652344\n",
      "Total time for mesh mapping: 0.000171661376953125\n",
      "Total time for mesh mapping: 0.0001811981201171875\n",
      "Total time for mesh mapping: 0.00015211105346679688\n",
      "Total time for mesh mapping: 0.00016069412231445312\n",
      "Total time for mesh mapping: 0.0001544952392578125\n",
      "Total time for mesh mapping: 0.0001766681671142578\n",
      "Total time for mesh mapping: 0.00015687942504882812\n",
      "Total time for mesh mapping: 0.000156402587890625\n",
      "Total time for mesh mapping: 0.00015783309936523438\n",
      "Total time for mesh mapping: 0.0003094673156738281\n",
      "Total time for mesh mapping: 0.0001709461212158203\n",
      "Total time for mesh mapping: 0.0001876354217529297\n",
      "Total time for mesh mapping: 0.00018715858459472656\n",
      "Total time for mesh mapping: 0.00019049644470214844\n",
      "Total time for mesh mapping: 0.0001614093780517578\n",
      "Total time for mesh mapping: 0.0001494884490966797\n",
      "Total time for mesh mapping: 0.00014734268188476562\n",
      "Total time for mesh mapping: 0.0001583099365234375\n",
      "Total time for mesh mapping: 0.00029754638671875\n",
      "Total time for mesh mapping: 0.00015544891357421875\n",
      "Total time for mesh mapping: 0.00015306472778320312\n",
      "Total time for mesh mapping: 0.00018072128295898438\n",
      "Total time for mesh mapping: 0.00017333030700683594\n",
      "branch_touching_number = [29, 3]\n",
      "most_branch_containing_piece = 0\n"
     ]
    },
    {
     "data": {
      "application/vnd.jupyter.widget-view+json": {
       "model_id": "cb631dedbdb74d5c8b2eba5b1e925bfd",
       "version_major": 2,
       "version_minor": 0
      },
      "text/plain": [
       "HBox(children=(FloatProgress(value=1.0, bar_style='info', max=1.0), HTML(value='')))"
      ]
     },
     "metadata": {},
     "output_type": "display_data"
    },
    {
     "name": "stdout",
     "output_type": "stream",
     "text": [
      "\n",
      "filtered_measurements = [544.40707    636.29726933 481.41543454 458.47131267 383.35384766\n",
      " 474.77216803 481.64836339 381.87735803 496.71100212 324.3662938\n",
      " 602.79453749 435.92322416 298.60547292 512.59425868 594.65860188\n",
      " 319.55822825 355.63024959 558.56222976 610.31533768 515.17101474\n",
      " 359.44347458 454.87022679 395.67613652 724.1855528  487.69519912\n",
      " 506.13586304 376.24005678 385.2138428  603.39883286 459.49363595\n",
      " 487.03424815 678.87572494 463.31918852 389.58843346 472.53673624\n",
      " 423.83728555 343.57276417 360.41130271 563.58514775 718.15745835\n",
      " 638.63093107 605.74251092 417.86465309]\n",
      "new_threshold = 1646.3560550885636\n"
     ]
    },
    {
     "data": {
      "application/vnd.jupyter.widget-view+json": {
       "model_id": "3fa71df242124ed8b7f9bd8c0dffce36",
       "version_major": 2,
       "version_minor": 0
      },
      "text/plain": [
       "HBox(children=(FloatProgress(value=1.0, bar_style='info', max=1.0), HTML(value='')))"
      ]
     },
     "metadata": {},
     "output_type": "display_data"
    },
    {
     "name": "stdout",
     "output_type": "stream",
     "text": [
      "\n"
     ]
    },
    {
     "data": {
      "application/vnd.jupyter.widget-view+json": {
       "model_id": "2ca39d38017e49609a07c2c375954592",
       "version_major": 2,
       "version_minor": 0
      },
      "text/plain": [
       "HBox(children=(FloatProgress(value=1.0, bar_style='info', max=1.0), HTML(value='')))"
      ]
     },
     "metadata": {},
     "output_type": "display_data"
    },
    {
     "name": "stdout",
     "output_type": "stream",
     "text": [
      "\n",
      "filtered_measurements = [407.33633714 415.07644567 390.28344145 458.11687513 484.22636431\n",
      " 469.40588947 422.9006218  436.01838654 606.68914272 621.64368211\n",
      " 488.99582074 540.9545818  533.13358871]\n",
      "new_threshold = 1142.88073204878\n"
     ]
    },
    {
     "data": {
      "application/vnd.jupyter.widget-view+json": {
       "model_id": "ffeea1e80f764c1283dfaca6fe1a93a8",
       "version_major": 2,
       "version_minor": 0
      },
      "text/plain": [
       "HBox(children=(FloatProgress(value=1.0, bar_style='info', max=1.0), HTML(value='')))"
      ]
     },
     "metadata": {},
     "output_type": "display_data"
    },
    {
     "name": "stdout",
     "output_type": "stream",
     "text": [
      "\n"
     ]
    },
    {
     "data": {
      "application/vnd.jupyter.widget-view+json": {
       "model_id": "9bcbed5196804e24ba74dc81a94aadd6",
       "version_major": 2,
       "version_minor": 0
      },
      "text/plain": [
       "HBox(children=(FloatProgress(value=1.0, bar_style='info', max=1.0), HTML(value='')))"
      ]
     },
     "metadata": {},
     "output_type": "display_data"
    },
    {
     "name": "stdout",
     "output_type": "stream",
     "text": [
      "\n",
      "filtered_measurements = [419.51602959 470.77139658 382.35521289 439.06549457 387.49782833\n",
      " 441.53259976 518.02968059 553.95158252 354.54931937 278.54236089\n",
      " 636.0313757  278.20126504 624.19192651 199.98512444 247.10107472\n",
      " 391.4912004  231.66630311 266.95506707 295.35792772]\n",
      "new_threshold = 1682.711377615156\n"
     ]
    },
    {
     "data": {
      "application/vnd.jupyter.widget-view+json": {
       "model_id": "dba26b2ad77e44fcadf25b057e029548",
       "version_major": 2,
       "version_minor": 0
      },
      "text/plain": [
       "HBox(children=(FloatProgress(value=1.0, bar_style='info', max=1.0), HTML(value='')))"
      ]
     },
     "metadata": {},
     "output_type": "display_data"
    },
    {
     "name": "stdout",
     "output_type": "stream",
     "text": [
      "\n"
     ]
    },
    {
     "data": {
      "application/vnd.jupyter.widget-view+json": {
       "model_id": "24eb0d4bfb96491c93f7e00950efa1d2",
       "version_major": 2,
       "version_minor": 0
      },
      "text/plain": [
       "HBox(children=(FloatProgress(value=1.0, bar_style='info', max=1.0), HTML(value='')))"
      ]
     },
     "metadata": {},
     "output_type": "display_data"
    },
    {
     "name": "stdout",
     "output_type": "stream",
     "text": [
      "--> Not exactly one containing mesh: []\n",
      "--> Not exactly one containing mesh: []\n",
      "\n",
      "filtered_measurements = [198.65993381 251.02246156 190.98914576]\n",
      "new_threshold = 413.2952790613424\n"
     ]
    },
    {
     "data": {
      "application/vnd.jupyter.widget-view+json": {
       "model_id": "0057fcf135f04a1a956556c434342159",
       "version_major": 2,
       "version_minor": 0
      },
      "text/plain": [
       "HBox(children=(FloatProgress(value=1.0, bar_style='info', max=1.0), HTML(value='')))"
      ]
     },
     "metadata": {},
     "output_type": "display_data"
    },
    {
     "name": "stdout",
     "output_type": "stream",
     "text": [
      "--> Not exactly one containing mesh: []\n",
      "--> Not exactly one containing mesh: []\n",
      "\n",
      "Total time for mesh mapping: 0.0017774105072021484\n",
      "Total time for mesh mapping: 0.00023889541625976562\n",
      "Total time for mesh mapping: 0.0003631114959716797\n",
      "Total time for mesh mapping: 0.0002467632293701172\n",
      "Total time for mesh mapping: 0.00017499923706054688\n",
      "Total time for mesh mapping: 0.0002205371856689453\n",
      "Total time for mesh mapping: 0.00019812583923339844\n",
      "branch_touching_number = [2]\n",
      "Total time for mesh mapping: 0.0002455711364746094\n",
      "Total time for mesh mapping: 0.0001614093780517578\n",
      "Total time for mesh mapping: 0.00015163421630859375\n",
      "Total time for mesh mapping: 0.0001533031463623047\n",
      "Total time for mesh mapping: 0.00011801719665527344\n",
      "Total time for mesh mapping: 0.00014853477478027344\n",
      "Total time for mesh mapping: 0.0001354217529296875\n",
      "branch_touching_number = [2, 2]\n",
      "Total time for mesh mapping: 0.00024271011352539062\n",
      "Total time for mesh mapping: 0.00015616416931152344\n",
      "Total time for mesh mapping: 0.00014710426330566406\n",
      "Total time for mesh mapping: 0.0001456737518310547\n",
      "Total time for mesh mapping: 0.00011563301086425781\n",
      "Total time for mesh mapping: 0.002108335494995117\n",
      "Total time for mesh mapping: 0.00022482872009277344\n",
      "branch_touching_number = [2, 2, 2]\n",
      "most_branch_containing_piece = 0\n"
     ]
    },
    {
     "data": {
      "application/vnd.jupyter.widget-view+json": {
       "model_id": "4461dcbeb24e4c16ae8a3b93a719ccf6",
       "version_major": 2,
       "version_minor": 0
      },
      "text/plain": [
       "HBox(children=(FloatProgress(value=1.0, bar_style='info', max=1.0), HTML(value='')))"
      ]
     },
     "metadata": {},
     "output_type": "display_data"
    },
    {
     "name": "stdout",
     "output_type": "stream",
     "text": [
      "\n",
      "filtered_measurements = [582.50422169 557.08954484 399.9441984  800.8674143  343.98252118\n",
      " 465.95941902 536.82362532 656.10992239 645.45221173 669.33544775\n",
      " 406.20253925]\n",
      "new_threshold = 1847.766227436105\n"
     ]
    },
    {
     "data": {
      "application/vnd.jupyter.widget-view+json": {
       "model_id": "4bd370cfff5f4d5d98813142538731dc",
       "version_major": 2,
       "version_minor": 0
      },
      "text/plain": [
       "HBox(children=(FloatProgress(value=1.0, bar_style='info', max=1.0), HTML(value='')))"
      ]
     },
     "metadata": {},
     "output_type": "display_data"
    },
    {
     "name": "stdout",
     "output_type": "stream",
     "text": [
      "\n"
     ]
    },
    {
     "data": {
      "application/vnd.jupyter.widget-view+json": {
       "model_id": "3d5297ccdfbd42b09921dd8587d2de70",
       "version_major": 2,
       "version_minor": 0
      },
      "text/plain": [
       "HBox(children=(FloatProgress(value=1.0, bar_style='info', max=1.0), HTML(value='')))"
      ]
     },
     "metadata": {},
     "output_type": "display_data"
    },
    {
     "name": "stdout",
     "output_type": "stream",
     "text": [
      "--> Not exactly one containing mesh: []\n",
      "\n",
      "filtered_measurements = [124.16742199  95.63339104 124.99030388  71.08838445 158.59898874\n",
      " 130.57878503  84.50177037  82.56412514  82.84260317 109.71072652\n",
      " 115.25421384 102.43735579 108.59671867 123.80638746]\n",
      "new_threshold = 302.95391846607964\n"
     ]
    },
    {
     "data": {
      "application/vnd.jupyter.widget-view+json": {
       "model_id": "74aa76f7750c4a4e9005f2afd0a76b35",
       "version_major": 2,
       "version_minor": 0
      },
      "text/plain": [
       "HBox(children=(FloatProgress(value=1.0, bar_style='info', max=1.0), HTML(value='')))"
      ]
     },
     "metadata": {},
     "output_type": "display_data"
    },
    {
     "name": "stdout",
     "output_type": "stream",
     "text": [
      "--> Not exactly one containing mesh: []\n",
      "--> Not exactly one containing mesh: []\n",
      "\n",
      "Total time for mesh mapping: 0.0009446144104003906\n",
      "Total time for mesh mapping: 0.0002396106719970703\n",
      "Total time for mesh mapping: 0.00022268295288085938\n",
      "Total time for mesh mapping: 0.00022125244140625\n",
      "Total time for mesh mapping: 0.000225067138671875\n",
      "Total time for mesh mapping: 0.0002205371856689453\n",
      "Total time for mesh mapping: 0.00022363662719726562\n",
      "Total time for mesh mapping: 0.00022935867309570312\n",
      "Total time for mesh mapping: 0.00023865699768066406\n",
      "Total time for mesh mapping: 0.00022101402282714844\n",
      "Total time for mesh mapping: 0.00022673606872558594\n",
      "Total time for mesh mapping: 0.0003333091735839844\n",
      "Total time for mesh mapping: 0.000244140625\n",
      "Total time for mesh mapping: 0.00023031234741210938\n",
      "Total time for mesh mapping: 0.00023746490478515625\n",
      "Total time for mesh mapping: 0.0002315044403076172\n",
      "Total time for mesh mapping: 0.0002315044403076172\n",
      "Total time for mesh mapping: 0.0002167224884033203\n",
      "Total time for mesh mapping: 0.00021147727966308594\n",
      "Total time for mesh mapping: 0.00024056434631347656\n",
      "branch_touching_number = [18]\n",
      "Total time for mesh mapping: 0.0003910064697265625\n",
      "Total time for mesh mapping: 0.00015020370483398438\n",
      "Total time for mesh mapping: 0.00015091896057128906\n",
      "Total time for mesh mapping: 0.0001499652862548828\n",
      "Total time for mesh mapping: 0.00015664100646972656\n",
      "Total time for mesh mapping: 0.0001506805419921875\n",
      "Total time for mesh mapping: 0.00015735626220703125\n",
      "Total time for mesh mapping: 0.00016689300537109375\n",
      "Total time for mesh mapping: 0.0008418560028076172\n",
      "Total time for mesh mapping: 0.00013589859008789062\n",
      "Total time for mesh mapping: 0.0001361370086669922\n",
      "Total time for mesh mapping: 0.0001361370086669922\n",
      "Total time for mesh mapping: 0.0001342296600341797\n",
      "Total time for mesh mapping: 0.0001385211944580078\n",
      "Total time for mesh mapping: 0.00013947486877441406\n",
      "Total time for mesh mapping: 0.00013494491577148438\n",
      "Total time for mesh mapping: 0.00013685226440429688\n",
      "Total time for mesh mapping: 0.00016355514526367188\n",
      "Total time for mesh mapping: 0.0001316070556640625\n",
      "Total time for mesh mapping: 0.00025534629821777344\n",
      "branch_touching_number = [18, 1]\n",
      "most_branch_containing_piece = 0\n"
     ]
    },
    {
     "data": {
      "application/vnd.jupyter.widget-view+json": {
       "model_id": "58aab32c365d4af5ba5812e5429df9cf",
       "version_major": 2,
       "version_minor": 0
      },
      "text/plain": [
       "HBox(children=(FloatProgress(value=1.0, bar_style='info', max=1.0), HTML(value='')))"
      ]
     },
     "metadata": {},
     "output_type": "display_data"
    },
    {
     "name": "stdout",
     "output_type": "stream",
     "text": [
      "--> Not exactly one containing mesh: []\n",
      "\n",
      "filtered_measurements = [ 61.64485478  75.43162693  95.82391738  95.65091843 159.9251057\n",
      " 229.59603352 218.21761848 172.18713943  88.17480592 141.16144568\n",
      " 249.07950811 245.01336493 206.79337404 224.76270187]\n",
      "new_threshold = 468.00464862995887\n"
     ]
    },
    {
     "data": {
      "application/vnd.jupyter.widget-view+json": {
       "model_id": "75717ecdc69f4f9e933058dedb37a35b",
       "version_major": 2,
       "version_minor": 0
      },
      "text/plain": [
       "HBox(children=(FloatProgress(value=1.0, bar_style='info', max=1.0), HTML(value='')))"
      ]
     },
     "metadata": {},
     "output_type": "display_data"
    },
    {
     "name": "stdout",
     "output_type": "stream",
     "text": [
      "--> Not exactly one containing mesh: []\n",
      "\n"
     ]
    },
    {
     "data": {
      "application/vnd.jupyter.widget-view+json": {
       "model_id": "792368ed024d4479ae323ddce9766e82",
       "version_major": 2,
       "version_minor": 0
      },
      "text/plain": [
       "HBox(children=(FloatProgress(value=1.0, bar_style='info', max=1.0), HTML(value='')))"
      ]
     },
     "metadata": {},
     "output_type": "display_data"
    },
    {
     "name": "stdout",
     "output_type": "stream",
     "text": [
      "\n",
      "filtered_measurements = [152.65434665 136.71128667  89.96474175  89.73110518 100.62343669\n",
      " 114.32156248 110.2444277  139.31533868 115.19841624 129.5199679\n",
      " 105.65011973 122.65103622 105.21071139 136.10746027 131.70185764]\n",
      "new_threshold = 347.3889611083256\n"
     ]
    },
    {
     "data": {
      "application/vnd.jupyter.widget-view+json": {
       "model_id": "53e45c20361044b2ab5a74f6cdbb0b53",
       "version_major": 2,
       "version_minor": 0
      },
      "text/plain": [
       "HBox(children=(FloatProgress(value=1.0, bar_style='info', max=1.0), HTML(value='')))"
      ]
     },
     "metadata": {},
     "output_type": "display_data"
    },
    {
     "name": "stdout",
     "output_type": "stream",
     "text": [
      "\n"
     ]
    },
    {
     "data": {
      "application/vnd.jupyter.widget-view+json": {
       "model_id": "8a86a7f877684f1f8f06b3688eebc028",
       "version_major": 2,
       "version_minor": 0
      },
      "text/plain": [
       "HBox(children=(FloatProgress(value=1.0, bar_style='info', max=1.0), HTML(value='')))"
      ]
     },
     "metadata": {},
     "output_type": "display_data"
    },
    {
     "name": "stdout",
     "output_type": "stream",
     "text": [
      "--> Not exactly one containing mesh: []\n",
      "--> Not exactly one containing mesh: []\n",
      "\n",
      "filtered_measurements = [531.79822168 422.96367349 429.72672882 463.12441215 381.58036017\n",
      " 331.64242566 357.10274418 402.55133151]\n",
      "new_threshold = 1044.0421674933355\n"
     ]
    },
    {
     "data": {
      "application/vnd.jupyter.widget-view+json": {
       "model_id": "f94929a9933c4c33a02477cdb76e2dab",
       "version_major": 2,
       "version_minor": 0
      },
      "text/plain": [
       "HBox(children=(FloatProgress(value=1.0, bar_style='info', max=1.0), HTML(value='')))"
      ]
     },
     "metadata": {},
     "output_type": "display_data"
    },
    {
     "name": "stdout",
     "output_type": "stream",
     "text": [
      "--> Not exactly one containing mesh: []\n",
      "--> Not exactly one containing mesh: []\n",
      "\n"
     ]
    },
    {
     "data": {
      "application/vnd.jupyter.widget-view+json": {
       "model_id": "58becde990344efea320223dac65a2d5",
       "version_major": 2,
       "version_minor": 0
      },
      "text/plain": [
       "HBox(children=(FloatProgress(value=1.0, bar_style='info', max=1.0), HTML(value='')))"
      ]
     },
     "metadata": {},
     "output_type": "display_data"
    },
    {
     "name": "stdout",
     "output_type": "stream",
     "text": [
      "\n",
      "filtered_measurements = [580.41833705 624.75482196 905.2987348 ]\n",
      "new_threshold = 1924.226505523584\n"
     ]
    },
    {
     "data": {
      "application/vnd.jupyter.widget-view+json": {
       "model_id": "9ef1e1214e8a41318959ed9fe8ef4b5a",
       "version_major": 2,
       "version_minor": 0
      },
      "text/plain": [
       "HBox(children=(FloatProgress(value=1.0, bar_style='info', max=1.0), HTML(value='')))"
      ]
     },
     "metadata": {},
     "output_type": "display_data"
    },
    {
     "name": "stdout",
     "output_type": "stream",
     "text": [
      "\n"
     ]
    },
    {
     "data": {
      "application/vnd.jupyter.widget-view+json": {
       "model_id": "5bf1db60f9c5429eac656ee2857b6c11",
       "version_major": 2,
       "version_minor": 0
      },
      "text/plain": [
       "HBox(children=(FloatProgress(value=1.0, bar_style='info', max=1.0), HTML(value='')))"
      ]
     },
     "metadata": {},
     "output_type": "display_data"
    },
    {
     "name": "stdout",
     "output_type": "stream",
     "text": [
      "--> Not exactly one containing mesh: []\n",
      "\n",
      "filtered_measurements = [101.73786966 125.2688681   82.79538607 105.78172362]\n",
      "new_threshold = 242.78072555703545\n"
     ]
    },
    {
     "data": {
      "application/vnd.jupyter.widget-view+json": {
       "model_id": "2619605757164dfb80d8df5adbc815f3",
       "version_major": 2,
       "version_minor": 0
      },
      "text/plain": [
       "HBox(children=(FloatProgress(value=1.0, bar_style='info', max=1.0), HTML(value='')))"
      ]
     },
     "metadata": {},
     "output_type": "display_data"
    },
    {
     "name": "stdout",
     "output_type": "stream",
     "text": [
      "--> Not exactly one containing mesh: []\n",
      "\n"
     ]
    },
    {
     "data": {
      "application/vnd.jupyter.widget-view+json": {
       "model_id": "90c6fd0229e147da94ab9a6e625301bf",
       "version_major": 2,
       "version_minor": 0
      },
      "text/plain": [
       "HBox(children=(FloatProgress(value=1.0, bar_style='info', max=1.0), HTML(value='')))"
      ]
     },
     "metadata": {},
     "output_type": "display_data"
    },
    {
     "name": "stdout",
     "output_type": "stream",
     "text": [
      "\n",
      "filtered_measurements = [183.38157423 177.03596435 187.19053424 162.01146931]\n",
      "new_threshold = 333.3062743142683\n"
     ]
    },
    {
     "data": {
      "application/vnd.jupyter.widget-view+json": {
       "model_id": "78f282c05dd5425a826418c6ba23d071",
       "version_major": 2,
       "version_minor": 0
      },
      "text/plain": [
       "HBox(children=(FloatProgress(value=1.0, bar_style='info', max=1.0), HTML(value='')))"
      ]
     },
     "metadata": {},
     "output_type": "display_data"
    },
    {
     "name": "stdout",
     "output_type": "stream",
     "text": [
      "--> Not exactly one containing mesh: []\n",
      "--> Not exactly one containing mesh: []\n",
      "\n",
      "Total time for mesh mapping: 0.0007054805755615234\n",
      "Total time for mesh mapping: 0.00021028518676757812\n",
      "Total time for mesh mapping: 0.00020933151245117188\n",
      "Total time for mesh mapping: 0.00024175643920898438\n",
      "Total time for mesh mapping: 0.00024175643920898438\n",
      "Total time for mesh mapping: 0.0002384185791015625\n",
      "Total time for mesh mapping: 0.0002110004425048828\n",
      "Total time for mesh mapping: 0.00019311904907226562\n",
      "branch_touching_number = [6]\n",
      "Total time for mesh mapping: 0.0008084774017333984\n",
      "Total time for mesh mapping: 0.00014138221740722656\n",
      "Total time for mesh mapping: 0.0001361370086669922\n",
      "Total time for mesh mapping: 0.00014591217041015625\n",
      "Total time for mesh mapping: 0.0001544952392578125\n",
      "Total time for mesh mapping: 0.00028228759765625\n",
      "Total time for mesh mapping: 0.0001327991485595703\n",
      "Total time for mesh mapping: 0.00012826919555664062\n",
      "branch_touching_number = [6, 1]\n",
      "most_branch_containing_piece = 0\n"
     ]
    },
    {
     "data": {
      "application/vnd.jupyter.widget-view+json": {
       "model_id": "f68ac6a306d041909e861f43e9fa5ed4",
       "version_major": 2,
       "version_minor": 0
      },
      "text/plain": [
       "HBox(children=(FloatProgress(value=1.0, bar_style='info', max=1.0), HTML(value='')))"
      ]
     },
     "metadata": {},
     "output_type": "display_data"
    },
    {
     "name": "stdout",
     "output_type": "stream",
     "text": [
      "\n",
      "filtered_measurements = [786.43418493 370.46945177 714.36811647 366.06587351 538.99410218\n",
      " 463.31562331 480.97790423 540.2795588  420.81559288 686.11316345\n",
      " 307.16934566 522.07256053 439.04648987]\n",
      "new_threshold = 1998.0784515304103\n"
     ]
    },
    {
     "data": {
      "application/vnd.jupyter.widget-view+json": {
       "model_id": "5c75f6df9e8747a4ab658ae48488082f",
       "version_major": 2,
       "version_minor": 0
      },
      "text/plain": [
       "HBox(children=(FloatProgress(value=1.0, bar_style='info', max=1.0), HTML(value='')))"
      ]
     },
     "metadata": {},
     "output_type": "display_data"
    },
    {
     "name": "stdout",
     "output_type": "stream",
     "text": [
      "\n"
     ]
    },
    {
     "data": {
      "application/vnd.jupyter.widget-view+json": {
       "model_id": "23984fcb3cc24cea9fedf899016544c0",
       "version_major": 2,
       "version_minor": 0
      },
      "text/plain": [
       "HBox(children=(FloatProgress(value=1.0, bar_style='info', max=1.0), HTML(value='')))"
      ]
     },
     "metadata": {},
     "output_type": "display_data"
    },
    {
     "name": "stdout",
     "output_type": "stream",
     "text": [
      "\n",
      "filtered_measurements = [141.03353175 100.51264682 146.61051011 144.3895853  140.09208163\n",
      " 141.54230086 185.16260666 132.9794513  131.09159075  94.08602834\n",
      " 150.20819957 185.87760879 181.18095029]\n",
      "new_threshold = 377.59033527994416\n"
     ]
    },
    {
     "data": {
      "application/vnd.jupyter.widget-view+json": {
       "model_id": "d07cde0fef564780b2cf6fcaf2fa7897",
       "version_major": 2,
       "version_minor": 0
      },
      "text/plain": [
       "HBox(children=(FloatProgress(value=1.0, bar_style='info', max=1.0), HTML(value='')))"
      ]
     },
     "metadata": {},
     "output_type": "display_data"
    },
    {
     "name": "stdout",
     "output_type": "stream",
     "text": [
      "--> Not exactly one containing mesh: []\n",
      "\n",
      "Total time for mesh mapping: 0.0006098747253417969\n",
      "Total time for mesh mapping: 0.0002551078796386719\n",
      "Total time for mesh mapping: 0.00022935867309570312\n",
      "Total time for mesh mapping: 0.0002110004425048828\n",
      "Total time for mesh mapping: 0.0002200603485107422\n",
      "Total time for mesh mapping: 0.00021028518676757812\n",
      "Total time for mesh mapping: 0.00020837783813476562\n",
      "Total time for mesh mapping: 0.00040531158447265625\n",
      "Total time for mesh mapping: 0.00023889541625976562\n",
      "Total time for mesh mapping: 0.000225067138671875\n",
      "Total time for mesh mapping: 0.0002276897430419922\n",
      "Total time for mesh mapping: 0.00023221969604492188\n",
      "Total time for mesh mapping: 0.00022101402282714844\n",
      "Total time for mesh mapping: 0.00022459030151367188\n",
      "Total time for mesh mapping: 0.00023627281188964844\n",
      "Total time for mesh mapping: 0.00036072731018066406\n",
      "Total time for mesh mapping: 0.00022268295288085938\n",
      "branch_touching_number = [15]\n",
      "Total time for mesh mapping: 0.0004532337188720703\n",
      "Total time for mesh mapping: 0.00018906593322753906\n",
      "Total time for mesh mapping: 0.00016570091247558594\n",
      "Total time for mesh mapping: 0.00017309188842773438\n",
      "Total time for mesh mapping: 0.00017690658569335938\n",
      "Total time for mesh mapping: 0.00015425682067871094\n",
      "Total time for mesh mapping: 0.00015735626220703125\n",
      "Total time for mesh mapping: 0.0003197193145751953\n",
      "Total time for mesh mapping: 0.0001697540283203125\n",
      "Total time for mesh mapping: 0.0001583099365234375\n",
      "Total time for mesh mapping: 0.00016021728515625\n",
      "Total time for mesh mapping: 0.00014066696166992188\n",
      "Total time for mesh mapping: 0.0001373291015625\n",
      "Total time for mesh mapping: 0.0001392364501953125\n",
      "Total time for mesh mapping: 0.00014209747314453125\n",
      "Total time for mesh mapping: 0.00013875961303710938\n",
      "Total time for mesh mapping: 0.00027680397033691406\n",
      "branch_touching_number = [15, 1]\n",
      "most_branch_containing_piece = 0\n"
     ]
    },
    {
     "data": {
      "application/vnd.jupyter.widget-view+json": {
       "model_id": "898bdd9244c949ec853ca44bb4d83851",
       "version_major": 2,
       "version_minor": 0
      },
      "text/plain": [
       "HBox(children=(FloatProgress(value=1.0, bar_style='info', max=1.0), HTML(value='')))"
      ]
     },
     "metadata": {},
     "output_type": "display_data"
    },
    {
     "name": "stdout",
     "output_type": "stream",
     "text": [
      "\n",
      "filtered_measurements = [662.43024385 718.25037036 468.7000317  541.23882028 854.79978618\n",
      " 641.05130804]\n",
      "new_threshold = 2215.931040089328\n"
     ]
    },
    {
     "data": {
      "application/vnd.jupyter.widget-view+json": {
       "model_id": "c506bba1eb3549159be394a0192ae2cf",
       "version_major": 2,
       "version_minor": 0
      },
      "text/plain": [
       "HBox(children=(FloatProgress(value=1.0, bar_style='info', max=1.0), HTML(value='')))"
      ]
     },
     "metadata": {},
     "output_type": "display_data"
    },
    {
     "name": "stdout",
     "output_type": "stream",
     "text": [
      "\n"
     ]
    },
    {
     "data": {
      "application/vnd.jupyter.widget-view+json": {
       "model_id": "593e7191b4f347b4b17c124b59fb8099",
       "version_major": 2,
       "version_minor": 0
      },
      "text/plain": [
       "HBox(children=(FloatProgress(value=1.0, bar_style='info', max=1.0), HTML(value='')))"
      ]
     },
     "metadata": {},
     "output_type": "display_data"
    },
    {
     "name": "stdout",
     "output_type": "stream",
     "text": [
      "\n",
      "filtered_measurements = [622.02629667 546.68000773]\n",
      "new_threshold = 1163.6095202443166\n"
     ]
    },
    {
     "data": {
      "application/vnd.jupyter.widget-view+json": {
       "model_id": "4d56c2ac57de4f05960f9ee6ce8caeff",
       "version_major": 2,
       "version_minor": 0
      },
      "text/plain": [
       "HBox(children=(FloatProgress(value=1.0, bar_style='info', max=1.0), HTML(value='')))"
      ]
     },
     "metadata": {},
     "output_type": "display_data"
    },
    {
     "name": "stdout",
     "output_type": "stream",
     "text": [
      "\n"
     ]
    },
    {
     "data": {
      "application/vnd.jupyter.widget-view+json": {
       "model_id": "55a87376e931489182ea62cc06df2c6d",
       "version_major": 2,
       "version_minor": 0
      },
      "text/plain": [
       "HBox(children=(FloatProgress(value=1.0, bar_style='info', max=1.0), HTML(value='')))"
      ]
     },
     "metadata": {},
     "output_type": "display_data"
    },
    {
     "name": "stdout",
     "output_type": "stream",
     "text": [
      "\n",
      "filtered_measurements = [455.80480323 478.26055812 412.72193689 489.7943453  424.17694343\n",
      " 434.80456083 400.48079561 406.30331106 381.78996324 522.72773627\n",
      " 289.89191901 522.184683   396.66258807 515.79730087 481.65165025\n",
      " 449.0012006  277.96633724 297.41162033 436.49096464 408.27980389\n",
      " 446.42016327 516.1579727  305.98216232 208.99105486 294.57288868\n",
      " 434.49698395 313.79163989 436.59894673 380.38356402 276.2892418\n",
      " 296.9650475  307.69529929 277.85892969 253.4680735  458.33587022\n",
      " 300.64233918 424.12761819 345.96191279 392.52335545 421.0619857\n",
      " 407.44236273 288.3918797  248.59046573 621.65449884 362.35119095\n",
      " 261.4333965  259.65427221 271.97622472 390.9608053  416.0120378\n",
      " 533.007269   397.45410559 340.09385478 243.35368164 264.96117389]\n",
      "new_threshold = 1608.876734875407\n"
     ]
    },
    {
     "data": {
      "application/vnd.jupyter.widget-view+json": {
       "model_id": "ad5a74023c634124877931e797d9158f",
       "version_major": 2,
       "version_minor": 0
      },
      "text/plain": [
       "HBox(children=(FloatProgress(value=1.0, bar_style='info', max=1.0), HTML(value='')))"
      ]
     },
     "metadata": {},
     "output_type": "display_data"
    },
    {
     "name": "stdout",
     "output_type": "stream",
     "text": [
      "\n"
     ]
    },
    {
     "data": {
      "application/vnd.jupyter.widget-view+json": {
       "model_id": "28e020b5caed48d3851fcbf3e9a7d84e",
       "version_major": 2,
       "version_minor": 0
      },
      "text/plain": [
       "HBox(children=(FloatProgress(value=1.0, bar_style='info', max=1.0), HTML(value='')))"
      ]
     },
     "metadata": {},
     "output_type": "display_data"
    },
    {
     "name": "stdout",
     "output_type": "stream",
     "text": [
      "\n",
      "filtered_measurements = [183.34807351 206.41794241 247.13805673 271.49409716 179.35156171\n",
      " 204.4955707  358.54441035 273.23794855]\n",
      "new_threshold = 620.4479664214313\n"
     ]
    },
    {
     "data": {
      "application/vnd.jupyter.widget-view+json": {
       "model_id": "53d979c2c06d4142b9f823716cad26fc",
       "version_major": 2,
       "version_minor": 0
      },
      "text/plain": [
       "HBox(children=(FloatProgress(value=1.0, bar_style='info', max=1.0), HTML(value='')))"
      ]
     },
     "metadata": {},
     "output_type": "display_data"
    },
    {
     "name": "stdout",
     "output_type": "stream",
     "text": [
      "--> Not exactly one containing mesh: []\n",
      "\n"
     ]
    },
    {
     "data": {
      "application/vnd.jupyter.widget-view+json": {
       "model_id": "e204d95e65c841fab2f4be1cdcfa9d49",
       "version_major": 2,
       "version_minor": 0
      },
      "text/plain": [
       "HBox(children=(FloatProgress(value=1.0, bar_style='info', max=1.0), HTML(value='')))"
      ]
     },
     "metadata": {},
     "output_type": "display_data"
    },
    {
     "name": "stdout",
     "output_type": "stream",
     "text": [
      "--> Not exactly one containing mesh: []\n",
      "\n",
      "filtered_measurements = [213.28280137 360.32484635 539.4400181  270.6978476  284.67126818\n",
      " 311.77550139 448.55926767 399.32450403 247.74593045 431.06658412\n",
      " 467.25455271 358.89168568 314.58293257 380.71868461 345.33475275\n",
      " 299.54904612 501.93086327 334.59282502 273.02721234 229.10190766\n",
      " 440.01774185 402.65875516 451.16064783 292.91884249 312.67012317\n",
      " 359.78687027 376.75358214 229.17830898 288.98687006 327.60546274\n",
      " 268.061237   282.01567685 334.51229142 423.11026192 348.21965346\n",
      " 293.1101121  310.77508457 422.82843893 450.6008299  237.84356976\n",
      " 235.42703376 363.61478108 189.43302932 423.63423216 405.25108324\n",
      " 296.36550464 271.4871261  507.94874376 261.0630611  249.52032462\n",
      " 298.58481778 189.37850065 311.29657078 394.02978106 221.71079898]\n",
      "new_threshold = 1264.87793578313\n"
     ]
    },
    {
     "data": {
      "application/vnd.jupyter.widget-view+json": {
       "model_id": "e561ae1a033244d69e4d47f569bcc329",
       "version_major": 2,
       "version_minor": 0
      },
      "text/plain": [
       "HBox(children=(FloatProgress(value=1.0, bar_style='info', max=1.0), HTML(value='')))"
      ]
     },
     "metadata": {},
     "output_type": "display_data"
    },
    {
     "name": "stdout",
     "output_type": "stream",
     "text": [
      "--> Not exactly one containing mesh: []\n",
      "\n"
     ]
    },
    {
     "data": {
      "application/vnd.jupyter.widget-view+json": {
       "model_id": "3785a44956b843c7b8ed3bce6110c16f",
       "version_major": 2,
       "version_minor": 0
      },
      "text/plain": [
       "HBox(children=(FloatProgress(value=1.0, bar_style='info', max=1.0), HTML(value='')))"
      ]
     },
     "metadata": {},
     "output_type": "display_data"
    },
    {
     "name": "stdout",
     "output_type": "stream",
     "text": [
      "\n",
      "filtered_measurements = [477.13452595 593.04114818 377.95015388 359.93649809 440.02367507]\n",
      "new_threshold = 1164.291676886793\n"
     ]
    },
    {
     "data": {
      "application/vnd.jupyter.widget-view+json": {
       "model_id": "cf71dc5e0ad24099ae28deabc2b922d0",
       "version_major": 2,
       "version_minor": 0
      },
      "text/plain": [
       "HBox(children=(FloatProgress(value=1.0, bar_style='info', max=1.0), HTML(value='')))"
      ]
     },
     "metadata": {},
     "output_type": "display_data"
    },
    {
     "name": "stdout",
     "output_type": "stream",
     "text": [
      "\n"
     ]
    },
    {
     "data": {
      "application/vnd.jupyter.widget-view+json": {
       "model_id": "6895522048854f598887114b59569b9e",
       "version_major": 2,
       "version_minor": 0
      },
      "text/plain": [
       "HBox(children=(FloatProgress(value=1.0, bar_style='info', max=1.0), HTML(value='')))"
      ]
     },
     "metadata": {},
     "output_type": "display_data"
    },
    {
     "name": "stdout",
     "output_type": "stream",
     "text": [
      "\n",
      "filtered_measurements = [699.08065    528.06774325 421.10678641 569.52587186 515.7233239\n",
      " 453.96718983 420.06486677 537.41109535 467.08053312 451.24736637\n",
      " 645.95172521]\n",
      "new_threshold = 1401.690528701587\n"
     ]
    },
    {
     "data": {
      "application/vnd.jupyter.widget-view+json": {
       "model_id": "e7495de61bf04e28a2b20a7549f296cd",
       "version_major": 2,
       "version_minor": 0
      },
      "text/plain": [
       "HBox(children=(FloatProgress(value=1.0, bar_style='info', max=1.0), HTML(value='')))"
      ]
     },
     "metadata": {},
     "output_type": "display_data"
    },
    {
     "name": "stdout",
     "output_type": "stream",
     "text": [
      "\n"
     ]
    },
    {
     "data": {
      "application/vnd.jupyter.widget-view+json": {
       "model_id": "7609f374ca4548b7a96c95f029e02bcd",
       "version_major": 2,
       "version_minor": 0
      },
      "text/plain": [
       "HBox(children=(FloatProgress(value=1.0, bar_style='info', max=1.0), HTML(value='')))"
      ]
     },
     "metadata": {},
     "output_type": "display_data"
    },
    {
     "name": "stdout",
     "output_type": "stream",
     "text": [
      "\n",
      "filtered_measurements = [297.89896971 229.68624924 186.83473416 218.8257528  224.46264119]\n",
      "new_threshold = 544.0571942077413\n"
     ]
    },
    {
     "data": {
      "application/vnd.jupyter.widget-view+json": {
       "model_id": "73cbd79ff10d4d898301811986d476af",
       "version_major": 2,
       "version_minor": 0
      },
      "text/plain": [
       "HBox(children=(FloatProgress(value=1.0, bar_style='info', max=1.0), HTML(value='')))"
      ]
     },
     "metadata": {},
     "output_type": "display_data"
    },
    {
     "name": "stdout",
     "output_type": "stream",
     "text": [
      "\n"
     ]
    },
    {
     "data": {
      "application/vnd.jupyter.widget-view+json": {
       "model_id": "5cede50e0687447cbad11879843aeefd",
       "version_major": 2,
       "version_minor": 0
      },
      "text/plain": [
       "HBox(children=(FloatProgress(value=1.0, bar_style='info', max=1.0), HTML(value='')))"
      ]
     },
     "metadata": {},
     "output_type": "display_data"
    },
    {
     "name": "stdout",
     "output_type": "stream",
     "text": [
      "\n",
      "filtered_measurements = [657.21247972 603.56306935 758.94941216]\n",
      "new_threshold = 1315.387563668964\n"
     ]
    },
    {
     "data": {
      "application/vnd.jupyter.widget-view+json": {
       "model_id": "f26f0b713b6c4046847f816bb7032e32",
       "version_major": 2,
       "version_minor": 0
      },
      "text/plain": [
       "HBox(children=(FloatProgress(value=1.0, bar_style='info', max=1.0), HTML(value='')))"
      ]
     },
     "metadata": {},
     "output_type": "display_data"
    },
    {
     "name": "stdout",
     "output_type": "stream",
     "text": [
      "\n"
     ]
    },
    {
     "data": {
      "application/vnd.jupyter.widget-view+json": {
       "model_id": "9359085f9cec4494a0e0d7702e5826f1",
       "version_major": 2,
       "version_minor": 0
      },
      "text/plain": [
       "HBox(children=(FloatProgress(value=1.0, bar_style='info', max=1.0), HTML(value='')))"
      ]
     },
     "metadata": {},
     "output_type": "display_data"
    },
    {
     "name": "stdout",
     "output_type": "stream",
     "text": [
      "\n",
      "filtered_measurements = [ 682.66444828  722.85837531  755.76627841  773.17190457  872.5590557\n",
      " 1002.44277079  802.04435205  659.34579639  711.01182047  722.28713585]\n",
      "new_threshold = 1798.5823861037668\n"
     ]
    },
    {
     "data": {
      "application/vnd.jupyter.widget-view+json": {
       "model_id": "ce49044625564fd084af89eff6a7d41b",
       "version_major": 2,
       "version_minor": 0
      },
      "text/plain": [
       "HBox(children=(FloatProgress(value=1.0, bar_style='info', max=1.0), HTML(value='')))"
      ]
     },
     "metadata": {},
     "output_type": "display_data"
    },
    {
     "name": "stdout",
     "output_type": "stream",
     "text": [
      "\n"
     ]
    },
    {
     "data": {
      "application/vnd.jupyter.widget-view+json": {
       "model_id": "0b2ddce211934d66bf58d964925e9e5b",
       "version_major": 2,
       "version_minor": 0
      },
      "text/plain": [
       "HBox(children=(FloatProgress(value=1.0, bar_style='info', max=1.0), HTML(value='')))"
      ]
     },
     "metadata": {},
     "output_type": "display_data"
    },
    {
     "name": "stdout",
     "output_type": "stream",
     "text": [
      "--> Not exactly one containing mesh: []\n",
      "--> Not exactly one containing mesh: []\n",
      "--> Not exactly one containing mesh: []\n",
      "--> Not exactly one containing mesh: []\n",
      "\n",
      "filtered_measurements = [165.21007532 111.97684838  74.21841149 136.35506249  71.8969022\n",
      "  93.35271326 151.78742039 121.09197728  82.95701413 118.40596504\n",
      " 126.30455235 125.68078975 115.1874815   87.7472356  114.3506808 ]\n",
      "new_threshold = 314.23253360570317\n"
     ]
    },
    {
     "data": {
      "application/vnd.jupyter.widget-view+json": {
       "model_id": "5e2c6d59744e4a5fb9363eeb9c8be541",
       "version_major": 2,
       "version_minor": 0
      },
      "text/plain": [
       "HBox(children=(FloatProgress(value=1.0, bar_style='info', max=1.0), HTML(value='')))"
      ]
     },
     "metadata": {},
     "output_type": "display_data"
    },
    {
     "name": "stdout",
     "output_type": "stream",
     "text": [
      "--> Not exactly one containing mesh: []\n",
      "--> Not exactly one containing mesh: []\n",
      "--> Not exactly one containing mesh: []\n",
      "--> Not exactly one containing mesh: []\n",
      "--> Not exactly one containing mesh: []\n",
      "\n",
      "Total time for mesh mapping: 0.0022764205932617188\n",
      "Total time for mesh mapping: 0.0002524852752685547\n",
      "Total time for mesh mapping: 0.0003376007080078125\n",
      "Total time for mesh mapping: 0.0002551078796386719\n",
      "Total time for mesh mapping: 0.00021696090698242188\n",
      "Total time for mesh mapping: 0.00022935867309570312\n",
      "Total time for mesh mapping: 0.0002262592315673828\n",
      "Total time for mesh mapping: 0.00022172927856445312\n",
      "Total time for mesh mapping: 0.00022149085998535156\n",
      "Total time for mesh mapping: 0.00021982192993164062\n",
      "Total time for mesh mapping: 0.00026345252990722656\n",
      "Total time for mesh mapping: 0.0002243518829345703\n",
      "Total time for mesh mapping: 0.00022172927856445312\n",
      "Total time for mesh mapping: 0.00022912025451660156\n",
      "Total time for mesh mapping: 0.0002491474151611328\n",
      "Total time for mesh mapping: 0.0002887248992919922\n",
      "Total time for mesh mapping: 0.00024175643920898438\n",
      "Total time for mesh mapping: 0.00025391578674316406\n",
      "Total time for mesh mapping: 0.00023889541625976562\n",
      "Total time for mesh mapping: 0.00022530555725097656\n",
      "Total time for mesh mapping: 0.00022935867309570312\n",
      "Total time for mesh mapping: 0.0002319812774658203\n",
      "Total time for mesh mapping: 0.00023698806762695312\n",
      "branch_touching_number = [19]\n",
      "Total time for mesh mapping: 0.0004093647003173828\n",
      "Total time for mesh mapping: 0.000133514404296875\n",
      "Total time for mesh mapping: 0.00013256072998046875\n",
      "Total time for mesh mapping: 0.00013709068298339844\n",
      "Total time for mesh mapping: 0.0002646446228027344\n",
      "Total time for mesh mapping: 0.00012922286987304688\n",
      "Total time for mesh mapping: 0.00014925003051757812\n",
      "Total time for mesh mapping: 0.00012946128845214844\n",
      "Total time for mesh mapping: 0.00012755393981933594\n",
      "Total time for mesh mapping: 0.0001289844512939453\n",
      "Total time for mesh mapping: 0.00013065338134765625\n",
      "Total time for mesh mapping: 0.00012874603271484375\n",
      "Total time for mesh mapping: 0.00012731552124023438\n",
      "Total time for mesh mapping: 0.0013484954833984375\n",
      "Total time for mesh mapping: 0.00014090538024902344\n",
      "Total time for mesh mapping: 0.001262664794921875\n",
      "Total time for mesh mapping: 0.0001468658447265625\n",
      "Total time for mesh mapping: 0.00013828277587890625\n",
      "Total time for mesh mapping: 0.0001327991485595703\n",
      "Total time for mesh mapping: 0.00013017654418945312\n",
      "Total time for mesh mapping: 0.00013065338134765625\n",
      "Total time for mesh mapping: 0.00013113021850585938\n",
      "Total time for mesh mapping: 0.00013446807861328125\n",
      "branch_touching_number = [19, 3]\n",
      "most_branch_containing_piece = 0\n"
     ]
    },
    {
     "data": {
      "application/vnd.jupyter.widget-view+json": {
       "model_id": "88aee1c5e0ad4244916dcaa47462cad4",
       "version_major": 2,
       "version_minor": 0
      },
      "text/plain": [
       "HBox(children=(FloatProgress(value=1.0, bar_style='info', max=1.0), HTML(value='')))"
      ]
     },
     "metadata": {},
     "output_type": "display_data"
    },
    {
     "name": "stdout",
     "output_type": "stream",
     "text": [
      "\n",
      "filtered_measurements = [335.9049457  338.45608493 238.41207467 378.66378223 410.22919249\n",
      " 187.7115778  312.00031662 352.96225949 396.84062213 322.52676379\n",
      " 436.2162333  436.89569233 437.09830779 302.17867863 259.05197522\n",
      " 327.66230223 307.3543918  333.30481231 281.45124785 319.79456134\n",
      " 320.3655521  204.98403043 237.8296404  183.19040695 211.77120308\n",
      " 447.9336605  299.90456745 475.93192101 225.84205855 306.3238245\n",
      " 256.48963199 196.59075918 235.1646191  279.71830913 322.21132905\n",
      " 262.29701489 417.26589847 485.41270543 457.34072355 330.0095533\n",
      " 466.05011772]\n",
      "new_threshold = 1298.3630401667938\n"
     ]
    },
    {
     "data": {
      "application/vnd.jupyter.widget-view+json": {
       "model_id": "3e8f61adf3674d099f90e883337ff9f1",
       "version_major": 2,
       "version_minor": 0
      },
      "text/plain": [
       "HBox(children=(FloatProgress(value=1.0, bar_style='info', max=1.0), HTML(value='')))"
      ]
     },
     "metadata": {},
     "output_type": "display_data"
    },
    {
     "name": "stdout",
     "output_type": "stream",
     "text": [
      "\n"
     ]
    },
    {
     "data": {
      "application/vnd.jupyter.widget-view+json": {
       "model_id": "aa6644f50c044afca28b1d19badbb07a",
       "version_major": 2,
       "version_minor": 0
      },
      "text/plain": [
       "HBox(children=(FloatProgress(value=1.0, bar_style='info', max=1.0), HTML(value='')))"
      ]
     },
     "metadata": {},
     "output_type": "display_data"
    },
    {
     "name": "stdout",
     "output_type": "stream",
     "text": [
      "\n",
      "filtered_measurements = [138.97823722 143.85214435  57.01989154  83.8995347 ]\n",
      "new_threshold = 350.72074376534147\n"
     ]
    },
    {
     "data": {
      "application/vnd.jupyter.widget-view+json": {
       "model_id": "30c84fdf143b4ad3890a50e4e6f9d02e",
       "version_major": 2,
       "version_minor": 0
      },
      "text/plain": [
       "HBox(children=(FloatProgress(value=1.0, bar_style='info', max=1.0), HTML(value='')))"
      ]
     },
     "metadata": {},
     "output_type": "display_data"
    },
    {
     "name": "stdout",
     "output_type": "stream",
     "text": [
      "--> Not exactly one containing mesh: []\n",
      "\n",
      "Total time for mesh mapping: 0.0003724098205566406\n",
      "Total time for mesh mapping: 0.00020265579223632812\n",
      "Total time for mesh mapping: 0.0002028942108154297\n",
      "Total time for mesh mapping: 0.00021505355834960938\n",
      "Total time for mesh mapping: 0.00030493736267089844\n",
      "Total time for mesh mapping: 0.00019478797912597656\n",
      "Total time for mesh mapping: 0.0001964569091796875\n",
      "Total time for mesh mapping: 0.0001857280731201172\n",
      "branch_touching_number = [6]\n",
      "Total time for mesh mapping: 0.0009715557098388672\n",
      "Total time for mesh mapping: 0.0001437664031982422\n",
      "Total time for mesh mapping: 0.00015115737915039062\n",
      "Total time for mesh mapping: 0.00013875961303710938\n",
      "Total time for mesh mapping: 0.00013589859008789062\n",
      "Total time for mesh mapping: 0.00013566017150878906\n",
      "Total time for mesh mapping: 0.00012755393981933594\n",
      "Total time for mesh mapping: 0.00012421607971191406\n",
      "branch_touching_number = [6, 1]\n",
      "most_branch_containing_piece = 0\n"
     ]
    },
    {
     "data": {
      "application/vnd.jupyter.widget-view+json": {
       "model_id": "2c3569994f3b432491cd7c47635e72c1",
       "version_major": 2,
       "version_minor": 0
      },
      "text/plain": [
       "HBox(children=(FloatProgress(value=1.0, bar_style='info', max=1.0), HTML(value='')))"
      ]
     },
     "metadata": {},
     "output_type": "display_data"
    },
    {
     "name": "stdout",
     "output_type": "stream",
     "text": [
      "--> Not exactly one containing mesh: []\n",
      "--> Not exactly one containing mesh: []\n",
      "--> Not exactly one containing mesh: []\n",
      "\n",
      "filtered_measurements = [ 78.09959221  95.93464869  74.71102352  68.83818832 110.49910476\n",
      " 135.70141051 143.89728633  70.46325495  46.77920891  55.15039267\n",
      "  84.87369009  91.19749095  56.16639989]\n",
      "new_threshold = 303.9783564251378\n"
     ]
    },
    {
     "data": {
      "application/vnd.jupyter.widget-view+json": {
       "model_id": "045c6100f38040b58e5c1433dc5a9a0f",
       "version_major": 2,
       "version_minor": 0
      },
      "text/plain": [
       "HBox(children=(FloatProgress(value=1.0, bar_style='info', max=1.0), HTML(value='')))"
      ]
     },
     "metadata": {},
     "output_type": "display_data"
    },
    {
     "name": "stdout",
     "output_type": "stream",
     "text": [
      "--> Not exactly one containing mesh: []\n",
      "--> Not exactly one containing mesh: []\n",
      "--> Not exactly one containing mesh: []\n",
      "--> Not exactly one containing mesh: []\n",
      "\n",
      "Total time for mesh mapping: 0.0016586780548095703\n",
      "Total time for mesh mapping: 0.003366231918334961\n",
      "Total time for mesh mapping: 0.00026416778564453125\n",
      "Total time for mesh mapping: 0.00024247169494628906\n",
      "Total time for mesh mapping: 0.00023984909057617188\n",
      "Total time for mesh mapping: 0.00022101402282714844\n",
      "Total time for mesh mapping: 0.00021314620971679688\n",
      "Total time for mesh mapping: 0.00021314620971679688\n",
      "Total time for mesh mapping: 0.000213623046875\n",
      "Total time for mesh mapping: 0.00021958351135253906\n",
      "Total time for mesh mapping: 0.00022172927856445312\n",
      "Total time for mesh mapping: 0.00021576881408691406\n",
      "Total time for mesh mapping: 0.0003554821014404297\n",
      "Total time for mesh mapping: 0.00022101402282714844\n",
      "Total time for mesh mapping: 0.0002269744873046875\n",
      "Total time for mesh mapping: 0.00022339820861816406\n",
      "Total time for mesh mapping: 0.00032973289489746094\n",
      "Total time for mesh mapping: 0.0002071857452392578\n",
      "Total time for mesh mapping: 0.00026226043701171875\n",
      "Total time for mesh mapping: 0.0002219676971435547\n",
      "Total time for mesh mapping: 0.0003483295440673828\n",
      "Total time for mesh mapping: 0.0001804828643798828\n",
      "branch_touching_number = [16]\n",
      "Total time for mesh mapping: 0.0004496574401855469\n",
      "Total time for mesh mapping: 0.0001456737518310547\n",
      "Total time for mesh mapping: 0.0001437664031982422\n",
      "Total time for mesh mapping: 0.00014066696166992188\n",
      "Total time for mesh mapping: 0.00014090538024902344\n",
      "Total time for mesh mapping: 0.000133514404296875\n",
      "Total time for mesh mapping: 0.00013256072998046875\n",
      "Total time for mesh mapping: 0.0002777576446533203\n",
      "Total time for mesh mapping: 0.00012993812561035156\n",
      "Total time for mesh mapping: 0.00013494491577148438\n",
      "Total time for mesh mapping: 0.00013303756713867188\n",
      "Total time for mesh mapping: 0.00013494491577148438\n",
      "Total time for mesh mapping: 0.00013637542724609375\n",
      "Total time for mesh mapping: 0.00013494491577148438\n",
      "Total time for mesh mapping: 0.00013446807861328125\n",
      "Total time for mesh mapping: 0.0001361370086669922\n",
      "Total time for mesh mapping: 0.00029754638671875\n",
      "Total time for mesh mapping: 0.00013327598571777344\n",
      "Total time for mesh mapping: 0.0001468658447265625\n",
      "Total time for mesh mapping: 0.0001373291015625\n",
      "Total time for mesh mapping: 0.0001366138458251953\n",
      "Total time for mesh mapping: 0.00032448768615722656\n",
      "branch_touching_number = [16, 5]\n",
      "most_branch_containing_piece = 0\n"
     ]
    },
    {
     "data": {
      "application/vnd.jupyter.widget-view+json": {
       "model_id": "c1aa6abc298a4aceb4bb504e173d84bb",
       "version_major": 2,
       "version_minor": 0
      },
      "text/plain": [
       "HBox(children=(FloatProgress(value=1.0, bar_style='info', max=1.0), HTML(value='')))"
      ]
     },
     "metadata": {},
     "output_type": "display_data"
    },
    {
     "name": "stdout",
     "output_type": "stream",
     "text": [
      "\n",
      "filtered_measurements = [ 298.02262834 1267.75686493 1398.02792939]\n",
      "new_threshold = 3031.005219103079\n"
     ]
    },
    {
     "data": {
      "application/vnd.jupyter.widget-view+json": {
       "model_id": "2fd2926c3f5e40a1ad13787148a03bad",
       "version_major": 2,
       "version_minor": 0
      },
      "text/plain": [
       "HBox(children=(FloatProgress(value=1.0, bar_style='info', max=1.0), HTML(value='')))"
      ]
     },
     "metadata": {},
     "output_type": "display_data"
    },
    {
     "name": "stdout",
     "output_type": "stream",
     "text": [
      "\n"
     ]
    },
    {
     "data": {
      "application/vnd.jupyter.widget-view+json": {
       "model_id": "14faf328cd7f4919bfd2710e2ffdb573",
       "version_major": 2,
       "version_minor": 0
      },
      "text/plain": [
       "HBox(children=(FloatProgress(value=1.0, bar_style='info', max=1.0), HTML(value='')))"
      ]
     },
     "metadata": {},
     "output_type": "display_data"
    },
    {
     "name": "stdout",
     "output_type": "stream",
     "text": [
      "\n",
      "filtered_measurements = [324.50330362 378.70079611 210.05981951 163.60513774 183.4234792\n",
      " 396.16526961 303.0302732  284.22071317 297.92801968 349.63170147\n",
      " 139.55501459 293.39664607 306.73249155 267.33609511 290.36838373\n",
      " 101.26813634  88.99933907  88.64932741 171.66291712 206.18905129\n",
      " 236.33108406 328.86038187]\n",
      "new_threshold = 881.6624192740469\n"
     ]
    },
    {
     "data": {
      "application/vnd.jupyter.widget-view+json": {
       "model_id": "534ce6d7d98c4d53837deb75a50f0e61",
       "version_major": 2,
       "version_minor": 0
      },
      "text/plain": [
       "HBox(children=(FloatProgress(value=1.0, bar_style='info', max=1.0), HTML(value='')))"
      ]
     },
     "metadata": {},
     "output_type": "display_data"
    },
    {
     "name": "stdout",
     "output_type": "stream",
     "text": [
      "\n"
     ]
    },
    {
     "data": {
      "application/vnd.jupyter.widget-view+json": {
       "model_id": "0fe4015bcee94425ba77960096d5ae76",
       "version_major": 2,
       "version_minor": 0
      },
      "text/plain": [
       "HBox(children=(FloatProgress(value=1.0, bar_style='info', max=1.0), HTML(value='')))"
      ]
     },
     "metadata": {},
     "output_type": "display_data"
    },
    {
     "name": "stdout",
     "output_type": "stream",
     "text": [
      "\n",
      "filtered_measurements = [168.81019337]\n",
      "new_threshold = 297.0279146747382\n"
     ]
    },
    {
     "data": {
      "application/vnd.jupyter.widget-view+json": {
       "model_id": "48b3481a4ca0428396464cacc746dc1e",
       "version_major": 2,
       "version_minor": 0
      },
      "text/plain": [
       "HBox(children=(FloatProgress(value=1.0, bar_style='info', max=1.0), HTML(value='')))"
      ]
     },
     "metadata": {},
     "output_type": "display_data"
    },
    {
     "name": "stdout",
     "output_type": "stream",
     "text": [
      "--> Not exactly one containing mesh: []\n",
      "\n",
      "Total time for mesh mapping: 0.0002682209014892578\n",
      "Total time for mesh mapping: 0.0001709461212158203\n",
      "Total time for mesh mapping: 0.00017213821411132812\n",
      "branch_touching_number = [1]\n",
      "Total time for mesh mapping: 0.0001773834228515625\n",
      "Total time for mesh mapping: 0.00011372566223144531\n",
      "Total time for mesh mapping: 0.00010800361633300781\n",
      "branch_touching_number = [1, 1]\n",
      "most_branch_containing_piece = 0\n"
     ]
    },
    {
     "data": {
      "application/vnd.jupyter.widget-view+json": {
       "model_id": "76daede296bb48c4b059bab8f174f8bf",
       "version_major": 2,
       "version_minor": 0
      },
      "text/plain": [
       "HBox(children=(FloatProgress(value=1.0, bar_style='info', max=1.0), HTML(value='')))"
      ]
     },
     "metadata": {},
     "output_type": "display_data"
    },
    {
     "name": "stdout",
     "output_type": "stream",
     "text": [
      "--> Not exactly one containing mesh: []\n",
      "\n",
      "Total time for mesh mapping: 0.002162933349609375\n",
      "Total time for mesh mapping: 0.00545501708984375\n",
      "Total time for mesh mapping: 0.016559362411499023\n",
      "branch_touching_number = [1]\n",
      "Total time for mesh mapping: 0.0059757232666015625\n",
      "Total time for mesh mapping: 0.006188392639160156\n",
      "Total time for mesh mapping: 0.010616779327392578\n",
      "branch_touching_number = [1, 1]\n",
      "most_branch_containing_piece = 0\n",
      "filtered_measurements = [1443.26092651 1309.26379589]\n",
      "new_threshold = 3227.467199693502\n"
     ]
    },
    {
     "data": {
      "application/vnd.jupyter.widget-view+json": {
       "model_id": "b93ccf3a83be4c338cef763bd9ef0f13",
       "version_major": 2,
       "version_minor": 0
      },
      "text/plain": [
       "HBox(children=(FloatProgress(value=1.0, bar_style='info', max=1.0), HTML(value='')))"
      ]
     },
     "metadata": {},
     "output_type": "display_data"
    },
    {
     "name": "stdout",
     "output_type": "stream",
     "text": [
      "--> Not exactly one containing mesh: []\n",
      "\n",
      "\n",
      "Working on limb #2\n"
     ]
    },
    {
     "data": {
      "application/vnd.jupyter.widget-view+json": {
       "model_id": "5d37dbbb850a403f923a945bb5401a87",
       "version_major": 2,
       "version_minor": 0
      },
      "text/plain": [
       "HBox(children=(FloatProgress(value=1.0, bar_style='info', max=1.0), HTML(value='')))"
      ]
     },
     "metadata": {},
     "output_type": "display_data"
    },
    {
     "data": {
      "application/vnd.jupyter.widget-view+json": {
       "model_id": "a44fbd8fcbce4d82abbff8476c95d2f9",
       "version_major": 2,
       "version_minor": 0
      },
      "text/plain": [
       "HBox(children=(FloatProgress(value=1.0, bar_style='info', max=1.0), HTML(value='')))"
      ]
     },
     "metadata": {},
     "output_type": "display_data"
    },
    {
     "name": "stdout",
     "output_type": "stream",
     "text": [
      "\n",
      "filtered_measurements = [1057.16400452  807.47458551  753.59933717  705.71776575  718.53248111\n",
      "  760.31515085  798.82380705  792.39661945  813.17227831  859.30744316\n",
      "  787.46718909  771.23773005  714.06345658  739.33532588  775.39104378\n",
      "  770.68766301  698.26205831  796.40986072  963.81571601  712.29073707\n",
      "  775.16386759  738.51871069  746.33765102  748.59093748  900.4830381\n",
      "  975.53981939  943.04758224]\n",
      "new_threshold = 1885.6151535130275\n"
     ]
    },
    {
     "data": {
      "application/vnd.jupyter.widget-view+json": {
       "model_id": "65cf7bf729824b72b51cc2c0683ccc64",
       "version_major": 2,
       "version_minor": 0
      },
      "text/plain": [
       "HBox(children=(FloatProgress(value=1.0, bar_style='info', max=1.0), HTML(value='')))"
      ]
     },
     "metadata": {},
     "output_type": "display_data"
    },
    {
     "name": "stdout",
     "output_type": "stream",
     "text": [
      "\n"
     ]
    },
    {
     "data": {
      "application/vnd.jupyter.widget-view+json": {
       "model_id": "e4c7c20aa14c47609ae32a759f808939",
       "version_major": 2,
       "version_minor": 0
      },
      "text/plain": [
       "HBox(children=(FloatProgress(value=1.0, bar_style='info', max=1.0), HTML(value='')))"
      ]
     },
     "metadata": {},
     "output_type": "display_data"
    },
    {
     "name": "stdout",
     "output_type": "stream",
     "text": [
      "\n",
      "filtered_measurements = [436.36347631 657.00619475 546.34185052 470.1005548  593.13410919\n",
      " 790.72801087 501.35642846 484.37805907 407.58523742 377.3980586\n",
      " 594.3710035  397.36299397 473.41223275 791.48383832 535.7817383\n",
      " 529.70366545 853.62331601 796.52560132 818.96917985 585.66235385\n",
      " 467.07755235 642.75528038 491.33684343 652.92774875 512.89839795\n",
      " 575.96506089 598.16921862 550.83584769]\n",
      "new_threshold = 1745.4714097686995\n"
     ]
    },
    {
     "data": {
      "application/vnd.jupyter.widget-view+json": {
       "model_id": "77781590a37b4759b69cdbe446b9afb1",
       "version_major": 2,
       "version_minor": 0
      },
      "text/plain": [
       "HBox(children=(FloatProgress(value=1.0, bar_style='info', max=1.0), HTML(value='')))"
      ]
     },
     "metadata": {},
     "output_type": "display_data"
    },
    {
     "name": "stdout",
     "output_type": "stream",
     "text": [
      "\n"
     ]
    },
    {
     "data": {
      "application/vnd.jupyter.widget-view+json": {
       "model_id": "dd74b2c7e46a42eab6e096baa0dc1851",
       "version_major": 2,
       "version_minor": 0
      },
      "text/plain": [
       "HBox(children=(FloatProgress(value=1.0, bar_style='info', max=1.0), HTML(value='')))"
      ]
     },
     "metadata": {},
     "output_type": "display_data"
    },
    {
     "name": "stdout",
     "output_type": "stream",
     "text": [
      "\n",
      "filtered_measurements = [670.42666164 614.0165877  551.01390952 586.50283034 618.06127246\n",
      " 581.04689822 876.04802426 628.11612348]\n",
      "new_threshold = 1855.9826894627072\n"
     ]
    },
    {
     "data": {
      "application/vnd.jupyter.widget-view+json": {
       "model_id": "311beedcb92c4df0acd222457a3b7a3e",
       "version_major": 2,
       "version_minor": 0
      },
      "text/plain": [
       "HBox(children=(FloatProgress(value=1.0, bar_style='info', max=1.0), HTML(value='')))"
      ]
     },
     "metadata": {},
     "output_type": "display_data"
    },
    {
     "name": "stdout",
     "output_type": "stream",
     "text": [
      "\n"
     ]
    },
    {
     "data": {
      "application/vnd.jupyter.widget-view+json": {
       "model_id": "6fc8dfc66ab744a5bcb918083221d047",
       "version_major": 2,
       "version_minor": 0
      },
      "text/plain": [
       "HBox(children=(FloatProgress(value=1.0, bar_style='info', max=1.0), HTML(value='')))"
      ]
     },
     "metadata": {},
     "output_type": "display_data"
    },
    {
     "name": "stdout",
     "output_type": "stream",
     "text": [
      "--> Not exactly one containing mesh: []\n",
      "\n",
      "filtered_measurements = [ 79.59956219  90.02292287  74.70295634 134.66188697  81.51614296\n",
      " 100.72175449  91.93929927 123.98395684  68.77432526  86.24083799\n",
      " 117.93776009  85.38895316  84.77015722  82.49766064]\n",
      "new_threshold = 255.83246640414467\n"
     ]
    },
    {
     "data": {
      "application/vnd.jupyter.widget-view+json": {
       "model_id": "500251ef4f6a4fedb048bc60c7833444",
       "version_major": 2,
       "version_minor": 0
      },
      "text/plain": [
       "HBox(children=(FloatProgress(value=1.0, bar_style='info', max=1.0), HTML(value='')))"
      ]
     },
     "metadata": {},
     "output_type": "display_data"
    },
    {
     "name": "stdout",
     "output_type": "stream",
     "text": [
      "--> Not exactly one containing mesh: []\n",
      "--> Not exactly one containing mesh: []\n",
      "\n",
      "Total time for mesh mapping: 0.002954244613647461\n",
      "Total time for mesh mapping: 0.0003311634063720703\n",
      "Total time for mesh mapping: 0.00023055076599121094\n",
      "Total time for mesh mapping: 0.00021958351135253906\n",
      "Total time for mesh mapping: 0.00023674964904785156\n",
      "Total time for mesh mapping: 0.00022554397583007812\n",
      "Total time for mesh mapping: 0.00023603439331054688\n",
      "Total time for mesh mapping: 0.00025773048400878906\n",
      "Total time for mesh mapping: 0.00022649765014648438\n",
      "Total time for mesh mapping: 0.00022602081298828125\n",
      "Total time for mesh mapping: 0.00022220611572265625\n",
      "Total time for mesh mapping: 0.0002193450927734375\n",
      "Total time for mesh mapping: 0.00021982192993164062\n",
      "Total time for mesh mapping: 0.00021791458129882812\n",
      "Total time for mesh mapping: 0.00022077560424804688\n",
      "Total time for mesh mapping: 0.00023698806762695312\n",
      "Total time for mesh mapping: 0.00023031234741210938\n",
      "Total time for mesh mapping: 0.00022792816162109375\n",
      "Total time for mesh mapping: 0.00022745132446289062\n",
      "Total time for mesh mapping: 0.00021123886108398438\n",
      "Total time for mesh mapping: 0.00020074844360351562\n",
      "branch_touching_number = [19]\n",
      "Total time for mesh mapping: 0.00046896934509277344\n",
      "Total time for mesh mapping: 0.00017142295837402344\n",
      "Total time for mesh mapping: 0.00015974044799804688\n",
      "Total time for mesh mapping: 0.00015664100646972656\n",
      "Total time for mesh mapping: 0.00018978118896484375\n",
      "Total time for mesh mapping: 0.002437591552734375\n",
      "Total time for mesh mapping: 0.0001423358917236328\n",
      "Total time for mesh mapping: 0.0001385211944580078\n",
      "Total time for mesh mapping: 0.0001327991485595703\n",
      "Total time for mesh mapping: 0.00013399124145507812\n",
      "Total time for mesh mapping: 0.00013494491577148438\n",
      "Total time for mesh mapping: 0.00013303756713867188\n",
      "Total time for mesh mapping: 0.00013446807861328125\n",
      "Total time for mesh mapping: 0.0001347064971923828\n",
      "Total time for mesh mapping: 0.0002684593200683594\n",
      "Total time for mesh mapping: 0.00013685226440429688\n",
      "Total time for mesh mapping: 0.0001373291015625\n",
      "Total time for mesh mapping: 0.0001347064971923828\n",
      "Total time for mesh mapping: 0.00013375282287597656\n",
      "Total time for mesh mapping: 0.0001285076141357422\n",
      "Total time for mesh mapping: 0.00012826919555664062\n",
      "branch_touching_number = [19, 1]\n",
      "most_branch_containing_piece = 0\n"
     ]
    },
    {
     "data": {
      "application/vnd.jupyter.widget-view+json": {
       "model_id": "22e62089c83c486bbc6414606f29349c",
       "version_major": 2,
       "version_minor": 0
      },
      "text/plain": [
       "HBox(children=(FloatProgress(value=1.0, bar_style='info', max=1.0), HTML(value='')))"
      ]
     },
     "metadata": {},
     "output_type": "display_data"
    },
    {
     "name": "stdout",
     "output_type": "stream",
     "text": [
      "--> Not exactly one containing mesh: []\n",
      "--> Not exactly one containing mesh: []\n",
      "\n",
      "filtered_measurements = [1058.21120606  411.37922638  285.05104008]\n",
      "new_threshold = 1413.3480097816264\n"
     ]
    },
    {
     "data": {
      "application/vnd.jupyter.widget-view+json": {
       "model_id": "f1317e68b5b143e391baaa98e638949b",
       "version_major": 2,
       "version_minor": 0
      },
      "text/plain": [
       "HBox(children=(FloatProgress(value=1.0, bar_style='info', max=1.0), HTML(value='')))"
      ]
     },
     "metadata": {},
     "output_type": "display_data"
    },
    {
     "name": "stdout",
     "output_type": "stream",
     "text": [
      "--> Not exactly one containing mesh: []\n",
      "--> Not exactly one containing mesh: []\n",
      "--> Not exactly one containing mesh: []\n",
      "\n"
     ]
    },
    {
     "data": {
      "application/vnd.jupyter.widget-view+json": {
       "model_id": "5ab168085beb4be59449365aeb5e2dce",
       "version_major": 2,
       "version_minor": 0
      },
      "text/plain": [
       "HBox(children=(FloatProgress(value=1.0, bar_style='info', max=1.0), HTML(value='')))"
      ]
     },
     "metadata": {},
     "output_type": "display_data"
    },
    {
     "name": "stdout",
     "output_type": "stream",
     "text": [
      "\n",
      "filtered_measurements = [803.18600617 579.49448085 777.43667049 917.90659758]\n",
      "new_threshold = 2041.3641868112918\n"
     ]
    },
    {
     "data": {
      "application/vnd.jupyter.widget-view+json": {
       "model_id": "6649c88ca65044ea9b0bbfee8791ac41",
       "version_major": 2,
       "version_minor": 0
      },
      "text/plain": [
       "HBox(children=(FloatProgress(value=1.0, bar_style='info', max=1.0), HTML(value='')))"
      ]
     },
     "metadata": {},
     "output_type": "display_data"
    },
    {
     "name": "stdout",
     "output_type": "stream",
     "text": [
      "\n"
     ]
    },
    {
     "data": {
      "application/vnd.jupyter.widget-view+json": {
       "model_id": "584bb7ee5b0448edab8ef12ff5b49206",
       "version_major": 2,
       "version_minor": 0
      },
      "text/plain": [
       "HBox(children=(FloatProgress(value=1.0, bar_style='info', max=1.0), HTML(value='')))"
      ]
     },
     "metadata": {},
     "output_type": "display_data"
    },
    {
     "name": "stdout",
     "output_type": "stream",
     "text": [
      "--> Not exactly one containing mesh: []\n",
      "--> Not exactly one containing mesh: [0 1]\n",
      "\n",
      "filtered_measurements = [ 85.15381779  74.6246588   91.96712204 109.92743048 118.58263388\n",
      "  74.02502274  89.7579886   86.70635273 110.23384407 120.74100339\n",
      "  73.75448786  95.07706528 112.88355006  94.76851543  74.68916589\n",
      "  82.18330329 115.1494246  117.01510525 100.75058794 117.21020147\n",
      "  83.98248543  75.48018547 103.24572915 121.96213633]\n",
      "new_threshold = 237.36137111162648\n"
     ]
    },
    {
     "data": {
      "application/vnd.jupyter.widget-view+json": {
       "model_id": "e1ad11cfe2244a788661c3c809acb57e",
       "version_major": 2,
       "version_minor": 0
      },
      "text/plain": [
       "HBox(children=(FloatProgress(value=1.0, bar_style='info', max=1.0), HTML(value='')))"
      ]
     },
     "metadata": {},
     "output_type": "display_data"
    },
    {
     "name": "stdout",
     "output_type": "stream",
     "text": [
      "--> Not exactly one containing mesh: []\n",
      "--> Not exactly one containing mesh: []\n",
      "THERE WERE NO FACES THAT FIT THE DISTANCE (237.36137111162648) and Z transform requirements\n",
      "So just skipping this edge\n",
      "\n"
     ]
    },
    {
     "data": {
      "application/vnd.jupyter.widget-view+json": {
       "model_id": "1062254404f94807994b229b27d5650a",
       "version_major": 2,
       "version_minor": 0
      },
      "text/plain": [
       "HBox(children=(FloatProgress(value=1.0, bar_style='info', max=1.0), HTML(value='')))"
      ]
     },
     "metadata": {},
     "output_type": "display_data"
    },
    {
     "name": "stdout",
     "output_type": "stream",
     "text": [
      "\n",
      "filtered_measurements = [312.24294262 303.47421768 334.55832545 359.90479859 357.69870691\n",
      " 405.60121367 309.61220335 337.99503168 285.42132131 288.87307637\n",
      " 563.39281435 264.5566627  393.06715384 323.64713132 391.95362368\n",
      " 241.50674872 228.54146869 356.66521286 394.15016073 446.22977996\n",
      " 375.9825546  379.08449166 266.68251982 542.22795975 263.443609\n",
      " 262.35972163 227.05335366 418.67098086 513.96844183 377.09229067]\n",
      "new_threshold = 1284.9693154990027\n"
     ]
    },
    {
     "data": {
      "application/vnd.jupyter.widget-view+json": {
       "model_id": "fb45f1526b6d495599f36c16e95fba77",
       "version_major": 2,
       "version_minor": 0
      },
      "text/plain": [
       "HBox(children=(FloatProgress(value=1.0, bar_style='info', max=1.0), HTML(value='')))"
      ]
     },
     "metadata": {},
     "output_type": "display_data"
    },
    {
     "name": "stdout",
     "output_type": "stream",
     "text": [
      "\n"
     ]
    },
    {
     "data": {
      "application/vnd.jupyter.widget-view+json": {
       "model_id": "9fa630db573a444291c2b430ba8f12ca",
       "version_major": 2,
       "version_minor": 0
      },
      "text/plain": [
       "HBox(children=(FloatProgress(value=1.0, bar_style='info', max=1.0), HTML(value='')))"
      ]
     },
     "metadata": {},
     "output_type": "display_data"
    },
    {
     "name": "stdout",
     "output_type": "stream",
     "text": [
      "\n",
      "filtered_measurements = [952.28328671 497.87154281 743.04762738]\n",
      "new_threshold = 1981.5567973870825\n"
     ]
    },
    {
     "data": {
      "application/vnd.jupyter.widget-view+json": {
       "model_id": "56d3b905683d42b28ea7c596a682a7f4",
       "version_major": 2,
       "version_minor": 0
      },
      "text/plain": [
       "HBox(children=(FloatProgress(value=1.0, bar_style='info', max=1.0), HTML(value='')))"
      ]
     },
     "metadata": {},
     "output_type": "display_data"
    },
    {
     "name": "stdout",
     "output_type": "stream",
     "text": [
      "\n"
     ]
    },
    {
     "data": {
      "application/vnd.jupyter.widget-view+json": {
       "model_id": "5e267d125dcb4822ae867af9d83f9664",
       "version_major": 2,
       "version_minor": 0
      },
      "text/plain": [
       "HBox(children=(FloatProgress(value=1.0, bar_style='info', max=1.0), HTML(value='')))"
      ]
     },
     "metadata": {},
     "output_type": "display_data"
    },
    {
     "name": "stdout",
     "output_type": "stream",
     "text": [
      "\n",
      "filtered_measurements = [475.83670222 447.68443258]\n",
      "new_threshold = 697.3633246544517\n"
     ]
    },
    {
     "data": {
      "application/vnd.jupyter.widget-view+json": {
       "model_id": "a439162c6a054cc689d2d00209f52603",
       "version_major": 2,
       "version_minor": 0
      },
      "text/plain": [
       "HBox(children=(FloatProgress(value=1.0, bar_style='info', max=1.0), HTML(value='')))"
      ]
     },
     "metadata": {},
     "output_type": "display_data"
    },
    {
     "name": "stdout",
     "output_type": "stream",
     "text": [
      "\n"
     ]
    },
    {
     "data": {
      "application/vnd.jupyter.widget-view+json": {
       "model_id": "38012e8580b84f869fd0478969735557",
       "version_major": 2,
       "version_minor": 0
      },
      "text/plain": [
       "HBox(children=(FloatProgress(value=1.0, bar_style='info', max=1.0), HTML(value='')))"
      ]
     },
     "metadata": {},
     "output_type": "display_data"
    },
    {
     "name": "stdout",
     "output_type": "stream",
     "text": [
      "\n",
      "filtered_measurements = [583.55605014 598.07980602 733.86178377 457.52906568 404.18346657\n",
      " 426.07905171 440.65341783 448.13805689 796.44875712 620.19611754\n",
      " 471.99146891 514.8683705  831.26367739]\n",
      "new_threshold = 1870.4413874916067\n"
     ]
    },
    {
     "data": {
      "application/vnd.jupyter.widget-view+json": {
       "model_id": "c7c26d76cfba427d9fc04d3aa9b6da09",
       "version_major": 2,
       "version_minor": 0
      },
      "text/plain": [
       "HBox(children=(FloatProgress(value=1.0, bar_style='info', max=1.0), HTML(value='')))"
      ]
     },
     "metadata": {},
     "output_type": "display_data"
    },
    {
     "name": "stdout",
     "output_type": "stream",
     "text": [
      "\n"
     ]
    },
    {
     "data": {
      "application/vnd.jupyter.widget-view+json": {
       "model_id": "4f6bfb01609543878a168ee1adac31cf",
       "version_major": 2,
       "version_minor": 0
      },
      "text/plain": [
       "HBox(children=(FloatProgress(value=1.0, bar_style='info', max=1.0), HTML(value='')))"
      ]
     },
     "metadata": {},
     "output_type": "display_data"
    },
    {
     "name": "stdout",
     "output_type": "stream",
     "text": [
      "--> Not exactly one containing mesh: []\n",
      "--> Not exactly one containing mesh: []\n",
      "\n",
      "filtered_measurements = [160.81142374 137.03300299 133.41149893  79.84721601 106.37385635\n",
      "  97.03813756 107.50621985  82.74419732 173.2938352  163.14371886\n",
      " 158.49061527 100.60073787 200.92950838 137.95542032 176.19545879\n",
      " 104.48985491 104.4893713  198.22707212 166.3116416   61.69308142\n",
      "  90.36673396 101.77853664 167.0397078   72.41828333  81.84399741]\n",
      "new_threshold = 444.58517738118053\n"
     ]
    },
    {
     "data": {
      "application/vnd.jupyter.widget-view+json": {
       "model_id": "417a6d40e31b4920b73df1a63cdeba2a",
       "version_major": 2,
       "version_minor": 0
      },
      "text/plain": [
       "HBox(children=(FloatProgress(value=1.0, bar_style='info', max=1.0), HTML(value='')))"
      ]
     },
     "metadata": {},
     "output_type": "display_data"
    },
    {
     "name": "stdout",
     "output_type": "stream",
     "text": [
      "--> Not exactly one containing mesh: []\n",
      "--> Not exactly one containing mesh: []\n",
      "--> Not exactly one containing mesh: []\n",
      "\n"
     ]
    },
    {
     "data": {
      "application/vnd.jupyter.widget-view+json": {
       "model_id": "9eb1a79114f345c4afcf12059a78354c",
       "version_major": 2,
       "version_minor": 0
      },
      "text/plain": [
       "HBox(children=(FloatProgress(value=1.0, bar_style='info', max=1.0), HTML(value='')))"
      ]
     },
     "metadata": {},
     "output_type": "display_data"
    },
    {
     "name": "stdout",
     "output_type": "stream",
     "text": [
      "\n",
      "filtered_measurements = [555.34627024 511.79973958 518.94268205 401.2494875  497.85070036\n",
      " 383.65518132 518.52853471 320.96150196 457.83139608 686.32941791\n",
      " 429.69669064 454.38107999 693.1997227  678.70876317 438.82181624\n",
      " 349.93644281 482.06100465 432.48845617 320.63576912 391.58337066\n",
      " 657.10702559 490.57408145 487.07743495 507.87219322 339.47937323\n",
      " 544.57069997 534.37720689 409.5935109  462.57455071 568.28409703\n",
      " 549.76953028 522.6923025  575.1460741  403.08309301 441.50526128\n",
      " 435.81525854 307.57154578 293.04885346 343.90895075 332.78708837\n",
      " 391.64114709 308.02961244 303.30299609 459.94774486 318.81438105\n",
      " 479.44698012 381.55889421 369.44488436 278.0840025  468.58023388\n",
      " 324.26976202 434.09550918]\n",
      "new_threshold = 1552.331721342935\n"
     ]
    },
    {
     "data": {
      "application/vnd.jupyter.widget-view+json": {
       "model_id": "a0702d7222884333aaaee0bf05edfc79",
       "version_major": 2,
       "version_minor": 0
      },
      "text/plain": [
       "HBox(children=(FloatProgress(value=1.0, bar_style='info', max=1.0), HTML(value='')))"
      ]
     },
     "metadata": {},
     "output_type": "display_data"
    },
    {
     "name": "stdout",
     "output_type": "stream",
     "text": [
      "\n"
     ]
    },
    {
     "data": {
      "application/vnd.jupyter.widget-view+json": {
       "model_id": "0e940854ede94b05a988d273b9bad4c4",
       "version_major": 2,
       "version_minor": 0
      },
      "text/plain": [
       "HBox(children=(FloatProgress(value=1.0, bar_style='info', max=1.0), HTML(value='')))"
      ]
     },
     "metadata": {},
     "output_type": "display_data"
    },
    {
     "name": "stdout",
     "output_type": "stream",
     "text": [
      "\n",
      "filtered_measurements = [440.7289059  353.26484163 344.47866988 334.41809585 466.76243542\n",
      " 420.66848333 464.04742964 296.17377256 323.27980926 266.27522393\n",
      " 348.25260712 615.48635367 369.86024032 395.49307452 505.75405533\n",
      " 336.95744149 528.79142467 350.15002132]\n",
      "new_threshold = 1448.6877246574254\n"
     ]
    },
    {
     "data": {
      "application/vnd.jupyter.widget-view+json": {
       "model_id": "bad1603b96894e4e8fe49ed62197c41c",
       "version_major": 2,
       "version_minor": 0
      },
      "text/plain": [
       "HBox(children=(FloatProgress(value=1.0, bar_style='info', max=1.0), HTML(value='')))"
      ]
     },
     "metadata": {},
     "output_type": "display_data"
    },
    {
     "name": "stdout",
     "output_type": "stream",
     "text": [
      "\n"
     ]
    },
    {
     "data": {
      "application/vnd.jupyter.widget-view+json": {
       "model_id": "87543f197e714608a007cd51cfeb2bb3",
       "version_major": 2,
       "version_minor": 0
      },
      "text/plain": [
       "HBox(children=(FloatProgress(value=1.0, bar_style='info', max=1.0), HTML(value='')))"
      ]
     },
     "metadata": {},
     "output_type": "display_data"
    },
    {
     "name": "stdout",
     "output_type": "stream",
     "text": [
      "--> Not exactly one containing mesh: []\n",
      "--> Not exactly one containing mesh: []\n",
      "--> Not exactly one containing mesh: []\n",
      "--> Not exactly one containing mesh: []\n",
      "\n",
      "filtered_measurements = [ 79.67174512 123.61452365 148.07323284  87.35646052  93.15608613\n",
      "  67.33166447 137.29913489 112.8106362  106.1542908   81.97552745\n",
      " 119.14005368  91.99294859  78.49744689 155.56969242  87.95217048\n",
      "  63.35105158  87.13936898  78.76173722 152.28105042 131.95934462\n",
      "  86.66416418  91.34542696  64.68085135  90.68742888  92.53724497\n",
      "  81.74798341 110.89206014 122.06922833  96.84763141  78.79030084\n",
      "  82.1876542  158.84372733]\n",
      "new_threshold = 321.0594687604032\n"
     ]
    },
    {
     "data": {
      "application/vnd.jupyter.widget-view+json": {
       "model_id": "a9d1d455eab147eaa127bab3c49beb84",
       "version_major": 2,
       "version_minor": 0
      },
      "text/plain": [
       "HBox(children=(FloatProgress(value=1.0, bar_style='info', max=1.0), HTML(value='')))"
      ]
     },
     "metadata": {},
     "output_type": "display_data"
    },
    {
     "name": "stdout",
     "output_type": "stream",
     "text": [
      "--> Not exactly one containing mesh: []\n",
      "--> Not exactly one containing mesh: []\n",
      "--> Not exactly one containing mesh: []\n",
      "--> Not exactly one containing mesh: []\n",
      "--> Not exactly one containing mesh: []\n",
      "\n",
      "Total time for mesh mapping: 0.0012917518615722656\n",
      "Total time for mesh mapping: 0.00034427642822265625\n",
      "Total time for mesh mapping: 0.0002994537353515625\n",
      "Total time for mesh mapping: 0.0002949237823486328\n",
      "Total time for mesh mapping: 0.0003044605255126953\n",
      "Total time for mesh mapping: 0.00029921531677246094\n",
      "Total time for mesh mapping: 0.00032019615173339844\n",
      "Total time for mesh mapping: 0.0003075599670410156\n",
      "Total time for mesh mapping: 0.0002989768981933594\n",
      "Total time for mesh mapping: 0.0002999305725097656\n",
      "Total time for mesh mapping: 0.00029587745666503906\n",
      "Total time for mesh mapping: 0.0002925395965576172\n",
      "Total time for mesh mapping: 0.0003116130828857422\n",
      "Total time for mesh mapping: 0.0003058910369873047\n",
      "Total time for mesh mapping: 0.0003192424774169922\n",
      "Total time for mesh mapping: 0.0003275871276855469\n",
      "Total time for mesh mapping: 0.00033211708068847656\n",
      "Total time for mesh mapping: 0.0003209114074707031\n",
      "Total time for mesh mapping: 0.00033974647521972656\n",
      "Total time for mesh mapping: 0.0002894401550292969\n",
      "Total time for mesh mapping: 0.0003159046173095703\n",
      "Total time for mesh mapping: 0.00036835670471191406\n",
      "Total time for mesh mapping: 0.0003075599670410156\n",
      "Total time for mesh mapping: 0.00030112266540527344\n",
      "Total time for mesh mapping: 0.0003046989440917969\n",
      "Total time for mesh mapping: 0.0002989768981933594\n",
      "Total time for mesh mapping: 0.00028634071350097656\n",
      "Total time for mesh mapping: 0.00030612945556640625\n",
      "Total time for mesh mapping: 0.0004227161407470703\n",
      "Total time for mesh mapping: 0.00031280517578125\n",
      "Total time for mesh mapping: 0.00031375885009765625\n",
      "Total time for mesh mapping: 0.00031876564025878906\n",
      "Total time for mesh mapping: 0.001186370849609375\n",
      "Total time for mesh mapping: 0.00024247169494628906\n",
      "Total time for mesh mapping: 0.0002598762512207031\n",
      "Total time for mesh mapping: 0.0002753734588623047\n",
      "Total time for mesh mapping: 0.0002205371856689453\n",
      "Total time for mesh mapping: 0.00022792816162109375\n",
      "Total time for mesh mapping: 0.0004343986511230469\n",
      "Total time for mesh mapping: 0.0002810955047607422\n",
      "Total time for mesh mapping: 0.0003001689910888672\n",
      "Total time for mesh mapping: 0.00023746490478515625\n",
      "Total time for mesh mapping: 0.00027441978454589844\n",
      "Total time for mesh mapping: 0.00036978721618652344\n",
      "Total time for mesh mapping: 0.00029850006103515625\n",
      "Total time for mesh mapping: 0.00027370452880859375\n",
      "Total time for mesh mapping: 0.0002617835998535156\n",
      "Total time for mesh mapping: 0.0003895759582519531\n",
      "branch_touching_number = [36]\n",
      "Total time for mesh mapping: 0.001689910888671875\n",
      "Total time for mesh mapping: 0.00016999244689941406\n",
      "Total time for mesh mapping: 0.0001575946807861328\n",
      "Total time for mesh mapping: 0.00015783309936523438\n",
      "Total time for mesh mapping: 0.0001575946807861328\n",
      "Total time for mesh mapping: 0.00015497207641601562\n",
      "Total time for mesh mapping: 0.00015735626220703125\n",
      "Total time for mesh mapping: 0.00015544891357421875\n",
      "Total time for mesh mapping: 0.000164031982421875\n",
      "Total time for mesh mapping: 0.00015735626220703125\n",
      "Total time for mesh mapping: 0.00015544891357421875\n",
      "Total time for mesh mapping: 0.00016188621520996094\n",
      "Total time for mesh mapping: 0.0001666545867919922\n",
      "Total time for mesh mapping: 0.00026607513427734375\n",
      "Total time for mesh mapping: 0.00019168853759765625\n",
      "Total time for mesh mapping: 0.00017595291137695312\n",
      "Total time for mesh mapping: 0.000316619873046875\n",
      "Total time for mesh mapping: 0.00018024444580078125\n",
      "Total time for mesh mapping: 0.00017952919006347656\n",
      "Total time for mesh mapping: 0.0001609325408935547\n",
      "Total time for mesh mapping: 0.00017881393432617188\n",
      "Total time for mesh mapping: 0.00019431114196777344\n",
      "Total time for mesh mapping: 0.0001671314239501953\n",
      "Total time for mesh mapping: 0.00016736984252929688\n",
      "Total time for mesh mapping: 0.00018095970153808594\n",
      "Total time for mesh mapping: 0.0003101825714111328\n",
      "Total time for mesh mapping: 0.000164031982421875\n",
      "Total time for mesh mapping: 0.0001747608184814453\n",
      "Total time for mesh mapping: 0.000171661376953125\n",
      "Total time for mesh mapping: 0.00016689300537109375\n",
      "Total time for mesh mapping: 0.00017571449279785156\n",
      "Total time for mesh mapping: 0.00017833709716796875\n",
      "Total time for mesh mapping: 0.00018358230590820312\n",
      "Total time for mesh mapping: 0.00017786026000976562\n",
      "Total time for mesh mapping: 0.0001952648162841797\n",
      "Total time for mesh mapping: 0.00020456314086914062\n",
      "Total time for mesh mapping: 0.00016641616821289062\n",
      "Total time for mesh mapping: 0.00016641616821289062\n",
      "Total time for mesh mapping: 0.0001983642578125\n",
      "Total time for mesh mapping: 0.00022172927856445312\n",
      "Total time for mesh mapping: 0.00022792816162109375\n",
      "Total time for mesh mapping: 0.00016045570373535156\n",
      "Total time for mesh mapping: 0.00032329559326171875\n",
      "Total time for mesh mapping: 0.00023484230041503906\n",
      "Total time for mesh mapping: 0.00019478797912597656\n",
      "Total time for mesh mapping: 0.00019025802612304688\n",
      "Total time for mesh mapping: 0.00017952919006347656\n",
      "Total time for mesh mapping: 0.00017333030700683594\n",
      "branch_touching_number = [36, 6]\n",
      "Total time for mesh mapping: 0.0019359588623046875\n",
      "Total time for mesh mapping: 0.00019407272338867188\n",
      "Total time for mesh mapping: 0.0001628398895263672\n",
      "Total time for mesh mapping: 0.0003006458282470703\n",
      "Total time for mesh mapping: 0.00016498565673828125\n",
      "Total time for mesh mapping: 0.00017523765563964844\n",
      "Total time for mesh mapping: 0.00016164779663085938\n",
      "Total time for mesh mapping: 0.00015592575073242188\n",
      "Total time for mesh mapping: 0.0001583099365234375\n",
      "Total time for mesh mapping: 0.00015783309936523438\n",
      "Total time for mesh mapping: 0.0001575946807861328\n",
      "Total time for mesh mapping: 0.0001633167266845703\n",
      "Total time for mesh mapping: 0.0001685619354248047\n",
      "Total time for mesh mapping: 0.00016260147094726562\n",
      "Total time for mesh mapping: 0.00020003318786621094\n",
      "Total time for mesh mapping: 0.0001704692840576172\n",
      "Total time for mesh mapping: 0.0001819133758544922\n",
      "Total time for mesh mapping: 0.00018405914306640625\n",
      "Total time for mesh mapping: 0.00017714500427246094\n",
      "Total time for mesh mapping: 0.00015807151794433594\n",
      "Total time for mesh mapping: 0.00030732154846191406\n",
      "Total time for mesh mapping: 0.00019025802612304688\n",
      "Total time for mesh mapping: 0.00016379356384277344\n",
      "Total time for mesh mapping: 0.00016570091247558594\n",
      "Total time for mesh mapping: 0.0001621246337890625\n",
      "Total time for mesh mapping: 0.0001697540283203125\n",
      "Total time for mesh mapping: 0.00016069412231445312\n",
      "Total time for mesh mapping: 0.0001735687255859375\n",
      "Total time for mesh mapping: 0.00017070770263671875\n",
      "Total time for mesh mapping: 0.00030493736267089844\n",
      "Total time for mesh mapping: 0.00019741058349609375\n",
      "Total time for mesh mapping: 0.00016736984252929688\n",
      "Total time for mesh mapping: 0.00016236305236816406\n",
      "Total time for mesh mapping: 0.000164031982421875\n",
      "Total time for mesh mapping: 0.0001723766326904297\n",
      "Total time for mesh mapping: 0.00018525123596191406\n",
      "Total time for mesh mapping: 0.00015163421630859375\n",
      "Total time for mesh mapping: 0.00015664100646972656\n",
      "Total time for mesh mapping: 0.00019049644470214844\n",
      "Total time for mesh mapping: 0.0001976490020751953\n",
      "Total time for mesh mapping: 0.0002086162567138672\n",
      "Total time for mesh mapping: 0.0001652240753173828\n",
      "Total time for mesh mapping: 0.0002560615539550781\n",
      "Total time for mesh mapping: 0.00022077560424804688\n",
      "Total time for mesh mapping: 0.000194549560546875\n",
      "Total time for mesh mapping: 0.0001914501190185547\n",
      "Total time for mesh mapping: 0.00031757354736328125\n",
      "Total time for mesh mapping: 0.00017189979553222656\n",
      "branch_touching_number = [36, 6, 4]\n",
      "Total time for mesh mapping: 0.001920461654663086\n",
      "Total time for mesh mapping: 0.0002040863037109375\n",
      "Total time for mesh mapping: 0.0001575946807861328\n",
      "Total time for mesh mapping: 0.00015401840209960938\n",
      "Total time for mesh mapping: 0.00015592575073242188\n",
      "Total time for mesh mapping: 0.0001533031463623047\n",
      "Total time for mesh mapping: 0.00015497207641601562\n",
      "Total time for mesh mapping: 0.0002903938293457031\n",
      "Total time for mesh mapping: 0.00015473365783691406\n",
      "Total time for mesh mapping: 0.00015425682067871094\n",
      "Total time for mesh mapping: 0.000152587890625\n",
      "Total time for mesh mapping: 0.00015854835510253906\n",
      "Total time for mesh mapping: 0.0001556873321533203\n",
      "Total time for mesh mapping: 0.00015425682067871094\n",
      "Total time for mesh mapping: 0.0001614093780517578\n",
      "Total time for mesh mapping: 0.00016355514526367188\n",
      "Total time for mesh mapping: 0.0001766681671142578\n",
      "Total time for mesh mapping: 0.00016760826110839844\n",
      "Total time for mesh mapping: 0.00017189979553222656\n",
      "Total time for mesh mapping: 0.00015282630920410156\n",
      "Total time for mesh mapping: 0.000164031982421875\n",
      "Total time for mesh mapping: 0.00017905235290527344\n",
      "Total time for mesh mapping: 0.00016021728515625\n",
      "Total time for mesh mapping: 0.0001571178436279297\n",
      "Total time for mesh mapping: 0.00029468536376953125\n",
      "Total time for mesh mapping: 0.0001628398895263672\n",
      "Total time for mesh mapping: 0.0001556873321533203\n"
     ]
    },
    {
     "name": "stdout",
     "output_type": "stream",
     "text": [
      "Total time for mesh mapping: 0.000164031982421875\n",
      "Total time for mesh mapping: 0.0014307498931884766\n",
      "Total time for mesh mapping: 0.00016164779663085938\n",
      "Total time for mesh mapping: 0.00019311904907226562\n",
      "Total time for mesh mapping: 0.0001761913299560547\n",
      "Total time for mesh mapping: 0.0001666545867919922\n",
      "Total time for mesh mapping: 0.00031828880310058594\n",
      "Total time for mesh mapping: 0.00017714500427246094\n",
      "Total time for mesh mapping: 0.00019621849060058594\n",
      "Total time for mesh mapping: 0.00015497207641601562\n",
      "Total time for mesh mapping: 0.00016260147094726562\n",
      "Total time for mesh mapping: 0.00018477439880371094\n",
      "Total time for mesh mapping: 0.000209808349609375\n",
      "Total time for mesh mapping: 0.0002162456512451172\n",
      "Total time for mesh mapping: 0.0001659393310546875\n",
      "Total time for mesh mapping: 0.00019931793212890625\n",
      "Total time for mesh mapping: 0.00022983551025390625\n",
      "Total time for mesh mapping: 0.00020575523376464844\n",
      "Total time for mesh mapping: 0.00019979476928710938\n",
      "Total time for mesh mapping: 0.00019311904907226562\n",
      "Total time for mesh mapping: 0.00018262863159179688\n",
      "branch_touching_number = [36, 6, 4, 3]\n",
      "most_branch_containing_piece = 0\n"
     ]
    },
    {
     "data": {
      "application/vnd.jupyter.widget-view+json": {
       "model_id": "8621aa9ff3df47debcf019c3e02a1f9e",
       "version_major": 2,
       "version_minor": 0
      },
      "text/plain": [
       "HBox(children=(FloatProgress(value=1.0, bar_style='info', max=1.0), HTML(value='')))"
      ]
     },
     "metadata": {},
     "output_type": "display_data"
    },
    {
     "name": "stdout",
     "output_type": "stream",
     "text": [
      "--> Not exactly one containing mesh: []\n",
      "--> Not exactly one containing mesh: []\n",
      "\n",
      "Total time for mesh mapping: 0.0027551651000976562\n",
      "Total time for mesh mapping: 0.013748645782470703\n",
      "Total time for mesh mapping: 0.016342878341674805\n",
      "Total time for mesh mapping: 0.00632476806640625\n",
      "Total time for mesh mapping: 0.00104522705078125\n",
      "Total time for mesh mapping: 0.0002162456512451172\n",
      "Total time for mesh mapping: 0.0003600120544433594\n",
      "Total time for mesh mapping: 0.00048279762268066406\n",
      "branch_touching_number = [2]\n",
      "Total time for mesh mapping: 0.0005981922149658203\n",
      "Total time for mesh mapping: 0.00014352798461914062\n",
      "Total time for mesh mapping: 0.00030684471130371094\n",
      "Total time for mesh mapping: 0.0001761913299560547\n",
      "Total time for mesh mapping: 0.00014472007751464844\n",
      "Total time for mesh mapping: 0.0001418590545654297\n",
      "Total time for mesh mapping: 0.00019288063049316406\n",
      "Total time for mesh mapping: 0.00022983551025390625\n",
      "branch_touching_number = [2, 5]\n",
      "most_branch_containing_piece = 1\n",
      "filtered_measurements = [406.59365065 427.94989187  67.92140393 135.30439939]\n",
      "new_threshold = 901.8443865053566\n"
     ]
    },
    {
     "data": {
      "application/vnd.jupyter.widget-view+json": {
       "model_id": "47ba859c1f22468aab8ffe0453ed7346",
       "version_major": 2,
       "version_minor": 0
      },
      "text/plain": [
       "HBox(children=(FloatProgress(value=1.0, bar_style='info', max=1.0), HTML(value='')))"
      ]
     },
     "metadata": {},
     "output_type": "display_data"
    },
    {
     "name": "stdout",
     "output_type": "stream",
     "text": [
      "--> Not exactly one containing mesh: []\n",
      "--> Not exactly one containing mesh: []\n",
      "--> Not exactly one containing mesh: []\n",
      "THERE WERE NO FACES THAT FIT THE DISTANCE (901.8443865053566) and Z transform requirements\n",
      "So just skipping this edge\n",
      "\n"
     ]
    },
    {
     "data": {
      "application/vnd.jupyter.widget-view+json": {
       "model_id": "86d650331e7e478daec26d5a1bde3bbe",
       "version_major": 2,
       "version_minor": 0
      },
      "text/plain": [
       "HBox(children=(FloatProgress(value=1.0, bar_style='info', max=1.0), HTML(value='')))"
      ]
     },
     "metadata": {},
     "output_type": "display_data"
    },
    {
     "name": "stdout",
     "output_type": "stream",
     "text": [
      "--> Not exactly one containing mesh: [0 1]\n",
      "\n",
      "filtered_measurements = [513.4254061  772.17369824 489.33880572 686.04444382 598.06174917\n",
      " 572.04825367 517.40384744 893.30109524 474.87795737 598.6743801\n",
      " 816.55145063 826.25324621 530.27680035 608.20603775 884.98492833\n",
      " 417.261174   363.15727924 427.36178574 416.12020298 410.37293037\n",
      " 838.62659036 843.29305023 601.14646136 495.97709409 545.50072567\n",
      " 451.99157797 648.63393079 907.84150906 833.38283873 638.93920888\n",
      " 428.08251879 391.10350959 632.31331301 701.38585934 653.04948256\n",
      " 797.79555077 953.12592435 712.4908082  574.79808452 628.22129459\n",
      " 711.79977298 398.64348961 573.33335964 736.60278881 533.6739273\n",
      " 786.65653354 435.52592628 731.06882974 408.79061129 362.71294945\n",
      " 397.83887371 649.80087725 335.41844494]\n",
      "new_threshold = 2435.889782637839\n"
     ]
    },
    {
     "data": {
      "application/vnd.jupyter.widget-view+json": {
       "model_id": "56c8597f6bad48afbd56cdcda50cd147",
       "version_major": 2,
       "version_minor": 0
      },
      "text/plain": [
       "HBox(children=(FloatProgress(value=1.0, bar_style='info', max=1.0), HTML(value='')))"
      ]
     },
     "metadata": {},
     "output_type": "display_data"
    },
    {
     "name": "stdout",
     "output_type": "stream",
     "text": [
      "\n"
     ]
    },
    {
     "data": {
      "application/vnd.jupyter.widget-view+json": {
       "model_id": "9287f83a1acb45999cb8643e41e57584",
       "version_major": 2,
       "version_minor": 0
      },
      "text/plain": [
       "HBox(children=(FloatProgress(value=1.0, bar_style='info', max=1.0), HTML(value='')))"
      ]
     },
     "metadata": {},
     "output_type": "display_data"
    },
    {
     "name": "stdout",
     "output_type": "stream",
     "text": [
      "--> Not exactly one containing mesh: []\n",
      "\n",
      "Total time for mesh mapping: 0.0021114349365234375\n",
      "Total time for mesh mapping: 0.016052961349487305\n",
      "Total time for mesh mapping: 0.010546207427978516\n",
      "Total time for mesh mapping: 0.013118982315063477\n",
      "Total time for mesh mapping: 0.01039886474609375\n",
      "Total time for mesh mapping: 0.0008099079132080078\n",
      "Total time for mesh mapping: 0.0004115104675292969\n",
      "Total time for mesh mapping: 0.00020837783813476562\n",
      "Total time for mesh mapping: 0.0002288818359375\n",
      "Total time for mesh mapping: 0.0004525184631347656\n",
      "branch_touching_number = [1]\n",
      "Total time for mesh mapping: 0.000507354736328125\n",
      "Total time for mesh mapping: 0.00014519691467285156\n",
      "Total time for mesh mapping: 0.0001442432403564453\n",
      "Total time for mesh mapping: 0.00014400482177734375\n",
      "Total time for mesh mapping: 0.00014209747314453125\n",
      "Total time for mesh mapping: 0.0001468658447265625\n",
      "Total time for mesh mapping: 0.0001347064971923828\n",
      "Total time for mesh mapping: 0.0001354217529296875\n",
      "Total time for mesh mapping: 0.00014448165893554688\n",
      "Total time for mesh mapping: 0.00022530555725097656\n",
      "branch_touching_number = [1, 8]\n",
      "most_branch_containing_piece = 1\n",
      "filtered_measurements = [127.47320372 104.86051756  98.35660533  84.14987506  99.06432618\n",
      "  86.2708734 ]\n",
      "new_threshold = 242.51690546875187\n"
     ]
    },
    {
     "data": {
      "application/vnd.jupyter.widget-view+json": {
       "model_id": "90fc0833358d4fa8b5255e225e5fc58f",
       "version_major": 2,
       "version_minor": 0
      },
      "text/plain": [
       "HBox(children=(FloatProgress(value=1.0, bar_style='info', max=1.0), HTML(value='')))"
      ]
     },
     "metadata": {},
     "output_type": "display_data"
    },
    {
     "name": "stdout",
     "output_type": "stream",
     "text": [
      "--> Not exactly one containing mesh: []\n",
      "THERE WERE NO FACES THAT FIT THE DISTANCE (242.51690546875187) and Z transform requirements\n",
      "So just skipping this edge\n",
      "\n"
     ]
    },
    {
     "data": {
      "application/vnd.jupyter.widget-view+json": {
       "model_id": "236d4e3f15624a939d3500d1ff3a4edf",
       "version_major": 2,
       "version_minor": 0
      },
      "text/plain": [
       "HBox(children=(FloatProgress(value=1.0, bar_style='info', max=1.0), HTML(value='')))"
      ]
     },
     "metadata": {},
     "output_type": "display_data"
    },
    {
     "name": "stdout",
     "output_type": "stream",
     "text": [
      "\n",
      "filtered_measurements = [498.29015936 725.04258281 641.84765047 519.43920904 320.31907209]\n",
      "new_threshold = 1698.9060961257642\n"
     ]
    },
    {
     "data": {
      "application/vnd.jupyter.widget-view+json": {
       "model_id": "eaacaea9c735442785c082240389626f",
       "version_major": 2,
       "version_minor": 0
      },
      "text/plain": [
       "HBox(children=(FloatProgress(value=1.0, bar_style='info', max=1.0), HTML(value='')))"
      ]
     },
     "metadata": {},
     "output_type": "display_data"
    },
    {
     "name": "stdout",
     "output_type": "stream",
     "text": [
      "\n"
     ]
    },
    {
     "data": {
      "application/vnd.jupyter.widget-view+json": {
       "model_id": "1c011aad233b419c9ffcdcb3fa4ece12",
       "version_major": 2,
       "version_minor": 0
      },
      "text/plain": [
       "HBox(children=(FloatProgress(value=1.0, bar_style='info', max=1.0), HTML(value='')))"
      ]
     },
     "metadata": {},
     "output_type": "display_data"
    },
    {
     "name": "stdout",
     "output_type": "stream",
     "text": [
      "\n",
      "filtered_measurements = [143.91880377  60.86067587  84.67880344  78.42647154  58.92232056\n",
      "  92.50339091 137.28708319 135.18841551 107.58954161 109.55260867\n",
      "  84.53482606]\n",
      "new_threshold = 264.13859721095844\n"
     ]
    },
    {
     "data": {
      "application/vnd.jupyter.widget-view+json": {
       "model_id": "2918500259084055808f0865a63f4b48",
       "version_major": 2,
       "version_minor": 0
      },
      "text/plain": [
       "HBox(children=(FloatProgress(value=1.0, bar_style='info', max=1.0), HTML(value='')))"
      ]
     },
     "metadata": {},
     "output_type": "display_data"
    },
    {
     "name": "stdout",
     "output_type": "stream",
     "text": [
      "--> Not exactly one containing mesh: []\n",
      "--> Not exactly one containing mesh: []\n",
      "\n",
      "Total time for mesh mapping: 0.0021882057189941406\n",
      "Total time for mesh mapping: 0.00021147727966308594\n",
      "Total time for mesh mapping: 0.00036215782165527344\n",
      "Total time for mesh mapping: 0.00023031234741210938\n",
      "Total time for mesh mapping: 0.0002281665802001953\n",
      "Total time for mesh mapping: 0.0002105236053466797\n",
      "Total time for mesh mapping: 0.0002143383026123047\n",
      "Total time for mesh mapping: 0.0002200603485107422\n",
      "Total time for mesh mapping: 0.00021004676818847656\n",
      "Total time for mesh mapping: 0.00020956993103027344\n",
      "Total time for mesh mapping: 0.0003552436828613281\n",
      "Total time for mesh mapping: 0.0002110004425048828\n",
      "Total time for mesh mapping: 0.00022721290588378906\n",
      "Total time for mesh mapping: 0.00022411346435546875\n",
      "Total time for mesh mapping: 0.00020933151245117188\n",
      "branch_touching_number = [13]\n",
      "Total time for mesh mapping: 0.0003921985626220703\n",
      "Total time for mesh mapping: 0.000240325927734375\n",
      "Total time for mesh mapping: 0.0002951622009277344\n",
      "Total time for mesh mapping: 0.00028133392333984375\n",
      "Total time for mesh mapping: 0.000278472900390625\n",
      "Total time for mesh mapping: 0.00023317337036132812\n",
      "Total time for mesh mapping: 0.00022339820861816406\n",
      "Total time for mesh mapping: 0.00015664100646972656\n",
      "Total time for mesh mapping: 0.0002696514129638672\n",
      "Total time for mesh mapping: 0.0003132820129394531\n",
      "Total time for mesh mapping: 0.00028777122497558594\n",
      "Total time for mesh mapping: 0.00025463104248046875\n",
      "Total time for mesh mapping: 0.00026035308837890625\n",
      "Total time for mesh mapping: 0.0004012584686279297\n",
      "Total time for mesh mapping: 0.00022125244140625\n",
      "branch_touching_number = [13, 1]\n",
      "most_branch_containing_piece = 0\n"
     ]
    },
    {
     "data": {
      "application/vnd.jupyter.widget-view+json": {
       "model_id": "e3a313248c754229bb20012801565cd1",
       "version_major": 2,
       "version_minor": 0
      },
      "text/plain": [
       "HBox(children=(FloatProgress(value=1.0, bar_style='info', max=1.0), HTML(value='')))"
      ]
     },
     "metadata": {},
     "output_type": "display_data"
    },
    {
     "name": "stdout",
     "output_type": "stream",
     "text": [
      "\n",
      "filtered_measurements = [158.5286894  202.41643328 188.02492202 171.68098079 180.84809769\n",
      " 262.1120975  338.35829394 242.75586215 319.96834147 243.21250338\n",
      " 240.01060305 239.53444111 262.52103064 212.92539604 193.80251859\n",
      " 277.28811114 241.2729257  264.99152683 297.74425261]\n",
      "new_threshold = 611.1061699990065\n"
     ]
    },
    {
     "data": {
      "application/vnd.jupyter.widget-view+json": {
       "model_id": "318b210467f044e69e7342ff968cba86",
       "version_major": 2,
       "version_minor": 0
      },
      "text/plain": [
       "HBox(children=(FloatProgress(value=1.0, bar_style='info', max=1.0), HTML(value='')))"
      ]
     },
     "metadata": {},
     "output_type": "display_data"
    },
    {
     "name": "stdout",
     "output_type": "stream",
     "text": [
      "\n"
     ]
    },
    {
     "data": {
      "application/vnd.jupyter.widget-view+json": {
       "model_id": "78bb3892f2e641348a41284a0ef29f3b",
       "version_major": 2,
       "version_minor": 0
      },
      "text/plain": [
       "HBox(children=(FloatProgress(value=1.0, bar_style='info', max=1.0), HTML(value='')))"
      ]
     },
     "metadata": {},
     "output_type": "display_data"
    },
    {
     "name": "stdout",
     "output_type": "stream",
     "text": [
      "--> Not exactly one containing mesh: [0 2]\n",
      "--> Not exactly one containing mesh: []\n",
      "--> Not exactly one containing mesh: []\n",
      "\n",
      "Total time for mesh mapping: 0.009191751480102539\n",
      "Total time for mesh mapping: 0.0006160736083984375\n",
      "Total time for mesh mapping: 0.0018265247344970703\n",
      "Total time for mesh mapping: 0.00033092498779296875\n",
      "Total time for mesh mapping: 0.0002734661102294922\n",
      "Total time for mesh mapping: 0.0002677440643310547\n",
      "Total time for mesh mapping: 0.00026416778564453125\n",
      "Total time for mesh mapping: 0.0003368854522705078\n",
      "Total time for mesh mapping: 0.0002677440643310547\n",
      "Total time for mesh mapping: 0.0002732276916503906\n",
      "Total time for mesh mapping: 0.0002865791320800781\n",
      "Total time for mesh mapping: 0.0004680156707763672\n",
      "Total time for mesh mapping: 0.0003991127014160156\n",
      "Total time for mesh mapping: 0.00028443336486816406\n",
      "Total time for mesh mapping: 0.0002715587615966797\n",
      "Total time for mesh mapping: 0.00025963783264160156\n",
      "Total time for mesh mapping: 0.00026154518127441406\n",
      "Total time for mesh mapping: 0.0002543926239013672\n",
      "Total time for mesh mapping: 0.0002722740173339844\n",
      "Total time for mesh mapping: 0.0005750656127929688\n",
      "Total time for mesh mapping: 0.0002677440643310547\n",
      "Total time for mesh mapping: 0.0002601146697998047\n",
      "Total time for mesh mapping: 0.00025343894958496094\n",
      "Total time for mesh mapping: 0.0002560615539550781\n",
      "Total time for mesh mapping: 0.0002765655517578125\n",
      "Total time for mesh mapping: 0.0002605915069580078\n",
      "Total time for mesh mapping: 0.0002548694610595703\n",
      "Total time for mesh mapping: 0.00028324127197265625\n",
      "Total time for mesh mapping: 0.00044727325439453125\n",
      "Total time for mesh mapping: 0.0002543926239013672\n",
      "Total time for mesh mapping: 0.0002620220184326172\n",
      "Total time for mesh mapping: 0.0002598762512207031\n",
      "Total time for mesh mapping: 0.00027179718017578125\n",
      "Total time for mesh mapping: 0.0003039836883544922\n",
      "Total time for mesh mapping: 0.0003402233123779297\n",
      "Total time for mesh mapping: 0.0003204345703125\n",
      "Total time for mesh mapping: 0.0003898143768310547\n",
      "Total time for mesh mapping: 0.00041937828063964844\n",
      "Total time for mesh mapping: 0.0003223419189453125\n",
      "Total time for mesh mapping: 0.0003101825714111328\n",
      "Total time for mesh mapping: 0.0003616809844970703\n",
      "Total time for mesh mapping: 0.0003833770751953125\n",
      "Total time for mesh mapping: 0.00036072731018066406\n",
      "Total time for mesh mapping: 0.0002837181091308594\n",
      "Total time for mesh mapping: 0.00025153160095214844\n",
      "Total time for mesh mapping: 0.0002560615539550781\n",
      "Total time for mesh mapping: 0.00031185150146484375\n",
      "Total time for mesh mapping: 0.0002455711364746094\n",
      "branch_touching_number = [41]\n",
      "Total time for mesh mapping: 0.0008215904235839844\n",
      "Total time for mesh mapping: 0.0004329681396484375\n",
      "Total time for mesh mapping: 0.0002498626708984375\n",
      "Total time for mesh mapping: 0.0002548694610595703\n",
      "Total time for mesh mapping: 0.00021266937255859375\n",
      "Total time for mesh mapping: 0.00021409988403320312\n",
      "Total time for mesh mapping: 0.0003528594970703125\n",
      "Total time for mesh mapping: 0.0003960132598876953\n",
      "Total time for mesh mapping: 0.00022172927856445312\n",
      "Total time for mesh mapping: 0.00021576881408691406\n",
      "Total time for mesh mapping: 0.00022912025451660156\n",
      "Total time for mesh mapping: 0.00025963783264160156\n",
      "Total time for mesh mapping: 0.00026416778564453125\n",
      "Total time for mesh mapping: 0.00022411346435546875\n",
      "Total time for mesh mapping: 0.000232696533203125\n",
      "Total time for mesh mapping: 0.0003573894500732422\n",
      "Total time for mesh mapping: 0.00020241737365722656\n",
      "Total time for mesh mapping: 0.00020623207092285156\n",
      "Total time for mesh mapping: 0.00023484230041503906\n",
      "Total time for mesh mapping: 0.00021982192993164062\n",
      "Total time for mesh mapping: 0.00020885467529296875\n",
      "Total time for mesh mapping: 0.00020766258239746094\n",
      "Total time for mesh mapping: 0.00020456314086914062\n",
      "Total time for mesh mapping: 0.00020122528076171875\n",
      "Total time for mesh mapping: 0.00023126602172851562\n",
      "Total time for mesh mapping: 0.00017762184143066406\n",
      "Total time for mesh mapping: 0.0001773834228515625\n",
      "Total time for mesh mapping: 0.0001811981201171875\n",
      "Total time for mesh mapping: 0.00019097328186035156\n",
      "Total time for mesh mapping: 0.0001785755157470703\n",
      "Total time for mesh mapping: 0.00018596649169921875\n",
      "Total time for mesh mapping: 0.0001862049102783203\n",
      "Total time for mesh mapping: 0.0003361701965332031\n",
      "Total time for mesh mapping: 0.00021505355834960938\n",
      "Total time for mesh mapping: 0.000225067138671875\n",
      "Total time for mesh mapping: 0.00021767616271972656\n",
      "Total time for mesh mapping: 0.0002627372741699219\n",
      "Total time for mesh mapping: 0.00019669532775878906\n",
      "Total time for mesh mapping: 0.00020837783813476562\n",
      "Total time for mesh mapping: 0.00022101402282714844\n",
      "Total time for mesh mapping: 0.0002524852752685547\n",
      "Total time for mesh mapping: 0.0003876686096191406\n",
      "Total time for mesh mapping: 0.0002543926239013672\n",
      "Total time for mesh mapping: 0.00020575523376464844\n",
      "Total time for mesh mapping: 0.0001766681671142578\n",
      "Total time for mesh mapping: 0.00018310546875\n",
      "Total time for mesh mapping: 0.00021910667419433594\n",
      "Total time for mesh mapping: 0.00017380714416503906\n",
      "branch_touching_number = [41, 6]\n",
      "most_branch_containing_piece = 0\n",
      "filtered_measurements = [ 83.48797743  86.08723551 117.16662854  92.74036006 107.97811104\n",
      "  81.66094843  93.64851547  89.9455228  119.30447604 135.90146711\n",
      " 104.24695203 115.08022917 126.26053333 115.75626184 120.05793567\n",
      "  77.41008972 108.39271634  82.58052543 107.35411553  94.62501773\n",
      "  91.3817901  132.31447693  93.1223485   74.01218374  70.6410364\n",
      "  79.53370401 137.67716    170.14107161 121.07446304 174.32588423\n",
      " 167.19369408 138.41278336  80.23658988  72.23322961]\n",
      "new_threshold = 400.7761653324781\n"
     ]
    },
    {
     "data": {
      "application/vnd.jupyter.widget-view+json": {
       "model_id": "be1aabf3101e48a48b475ebf3c68328a",
       "version_major": 2,
       "version_minor": 0
      },
      "text/plain": [
       "HBox(children=(FloatProgress(value=1.0, bar_style='info', max=1.0), HTML(value='')))"
      ]
     },
     "metadata": {},
     "output_type": "display_data"
    },
    {
     "name": "stdout",
     "output_type": "stream",
     "text": [
      "THERE WERE NO FACES THAT FIT THE DISTANCE (400.7761653324781) and Z transform requirements\n",
      "So just skipping this edge\n",
      "THERE WERE NO FACES THAT FIT THE DISTANCE (400.7761653324781) and Z transform requirements\n",
      "So just skipping this edge\n",
      "THERE WERE NO FACES THAT FIT THE DISTANCE (400.7761653324781) and Z transform requirements\n",
      "So just skipping this edge\n",
      "THERE WERE NO FACES THAT FIT THE DISTANCE (400.7761653324781) and Z transform requirements\n",
      "So just skipping this edge\n",
      "THERE WERE NO FACES THAT FIT THE DISTANCE (400.7761653324781) and Z transform requirements\n",
      "So just skipping this edge\n",
      "--> Not exactly one containing mesh: []\n",
      "--> Not exactly one containing mesh: []\n",
      "\n"
     ]
    },
    {
     "data": {
      "application/vnd.jupyter.widget-view+json": {
       "model_id": "671bd59473fe4d2caaa9c8460293fb8b",
       "version_major": 2,
       "version_minor": 0
      },
      "text/plain": [
       "HBox(children=(FloatProgress(value=1.0, bar_style='info', max=1.0), HTML(value='')))"
      ]
     },
     "metadata": {},
     "output_type": "display_data"
    },
    {
     "name": "stdout",
     "output_type": "stream",
     "text": [
      "\n",
      "filtered_measurements = [258.80746474 119.7937599 ]\n",
      "new_threshold = 482.47706877345524\n"
     ]
    },
    {
     "data": {
      "application/vnd.jupyter.widget-view+json": {
       "model_id": "888ce9d9823c483e8b7739e2cafd2477",
       "version_major": 2,
       "version_minor": 0
      },
      "text/plain": [
       "HBox(children=(FloatProgress(value=1.0, bar_style='info', max=1.0), HTML(value='')))"
      ]
     },
     "metadata": {},
     "output_type": "display_data"
    },
    {
     "name": "stdout",
     "output_type": "stream",
     "text": [
      "\n"
     ]
    },
    {
     "data": {
      "application/vnd.jupyter.widget-view+json": {
       "model_id": "fcf5312a1c064b14ab28a26141bead5a",
       "version_major": 2,
       "version_minor": 0
      },
      "text/plain": [
       "HBox(children=(FloatProgress(value=1.0, bar_style='info', max=1.0), HTML(value='')))"
      ]
     },
     "metadata": {},
     "output_type": "display_data"
    },
    {
     "name": "stdout",
     "output_type": "stream",
     "text": [
      "\n",
      "filtered_measurements = [106.93943063 127.10749848 107.185616   113.11120971 116.80780313\n",
      " 113.24967873 105.44951904]\n",
      "new_threshold = 240.68896934871304\n"
     ]
    },
    {
     "data": {
      "application/vnd.jupyter.widget-view+json": {
       "model_id": "0294e99fea0a441c8908f57081f9de0e",
       "version_major": 2,
       "version_minor": 0
      },
      "text/plain": [
       "HBox(children=(FloatProgress(value=1.0, bar_style='info', max=1.0), HTML(value='')))"
      ]
     },
     "metadata": {},
     "output_type": "display_data"
    },
    {
     "name": "stdout",
     "output_type": "stream",
     "text": [
      "\n"
     ]
    },
    {
     "data": {
      "application/vnd.jupyter.widget-view+json": {
       "model_id": "3e2e13e234f4493bb62fd7aefb040096",
       "version_major": 2,
       "version_minor": 0
      },
      "text/plain": [
       "HBox(children=(FloatProgress(value=1.0, bar_style='info', max=1.0), HTML(value='')))"
      ]
     },
     "metadata": {},
     "output_type": "display_data"
    },
    {
     "name": "stdout",
     "output_type": "stream",
     "text": [
      "\n",
      "filtered_measurements = [257.09398356 205.58152693 189.23544685 153.60215915 166.08172923\n",
      " 227.21178247 270.00543668 198.98127834 212.31482371 172.80930954\n",
      " 171.78601452 175.05783203 177.54919433 165.16381543 184.46330862\n",
      " 199.24686491 187.79283895 203.55773754 201.28253713 233.954136\n",
      " 249.34568373 234.0400569  246.31532664 232.7779811  184.63273242\n",
      " 172.96042964 231.09483101]\n",
      "new_threshold = 548.5039782424305\n"
     ]
    },
    {
     "data": {
      "application/vnd.jupyter.widget-view+json": {
       "model_id": "02076eb33a00413ea197a54bd2d2c17f",
       "version_major": 2,
       "version_minor": 0
      },
      "text/plain": [
       "HBox(children=(FloatProgress(value=1.0, bar_style='info', max=1.0), HTML(value='')))"
      ]
     },
     "metadata": {},
     "output_type": "display_data"
    },
    {
     "name": "stdout",
     "output_type": "stream",
     "text": [
      "\n"
     ]
    },
    {
     "data": {
      "application/vnd.jupyter.widget-view+json": {
       "model_id": "1445e4c004d84b21a3a9a1d81a0cc031",
       "version_major": 2,
       "version_minor": 0
      },
      "text/plain": [
       "HBox(children=(FloatProgress(value=1.0, bar_style='info', max=1.0), HTML(value='')))"
      ]
     },
     "metadata": {},
     "output_type": "display_data"
    },
    {
     "name": "stdout",
     "output_type": "stream",
     "text": [
      "\n",
      "filtered_measurements = [301.40877462]\n",
      "new_threshold = 771.3381167288182\n"
     ]
    },
    {
     "data": {
      "application/vnd.jupyter.widget-view+json": {
       "model_id": "67f556f64fcf4e29ac71f99d3abcba62",
       "version_major": 2,
       "version_minor": 0
      },
      "text/plain": [
       "HBox(children=(FloatProgress(value=1.0, bar_style='info', max=1.0), HTML(value='')))"
      ]
     },
     "metadata": {},
     "output_type": "display_data"
    },
    {
     "name": "stdout",
     "output_type": "stream",
     "text": [
      "\n"
     ]
    },
    {
     "data": {
      "application/vnd.jupyter.widget-view+json": {
       "model_id": "9c8095dce6d24bec9c0d45bbfd8d489f",
       "version_major": 2,
       "version_minor": 0
      },
      "text/plain": [
       "HBox(children=(FloatProgress(value=1.0, bar_style='info', max=1.0), HTML(value='')))"
      ]
     },
     "metadata": {},
     "output_type": "display_data"
    },
    {
     "name": "stdout",
     "output_type": "stream",
     "text": [
      "\n",
      "filtered_measurements = [172.0412764  108.55165898 121.6618413  156.34762216 225.08530684\n",
      " 281.25755527 245.54302393]\n",
      "new_threshold = 533.6268463395021\n"
     ]
    },
    {
     "data": {
      "application/vnd.jupyter.widget-view+json": {
       "model_id": "cfd190f098974932827bdbc29f6caefd",
       "version_major": 2,
       "version_minor": 0
      },
      "text/plain": [
       "HBox(children=(FloatProgress(value=1.0, bar_style='info', max=1.0), HTML(value='')))"
      ]
     },
     "metadata": {},
     "output_type": "display_data"
    },
    {
     "name": "stdout",
     "output_type": "stream",
     "text": [
      "\n"
     ]
    },
    {
     "data": {
      "application/vnd.jupyter.widget-view+json": {
       "model_id": "0e1e171adf7f4c83aa5ecd3fa219d1c7",
       "version_major": 2,
       "version_minor": 0
      },
      "text/plain": [
       "HBox(children=(FloatProgress(value=1.0, bar_style='info', max=1.0), HTML(value='')))"
      ]
     },
     "metadata": {},
     "output_type": "display_data"
    },
    {
     "name": "stdout",
     "output_type": "stream",
     "text": [
      "\n",
      "filtered_measurements = [329.79585165 715.94268401 939.25187655]\n",
      "new_threshold = 2098.3521511100253\n"
     ]
    },
    {
     "data": {
      "application/vnd.jupyter.widget-view+json": {
       "model_id": "bdb56328504d45b4ba7e1881ff6ac703",
       "version_major": 2,
       "version_minor": 0
      },
      "text/plain": [
       "HBox(children=(FloatProgress(value=1.0, bar_style='info', max=1.0), HTML(value='')))"
      ]
     },
     "metadata": {},
     "output_type": "display_data"
    },
    {
     "name": "stdout",
     "output_type": "stream",
     "text": [
      "\n"
     ]
    },
    {
     "data": {
      "application/vnd.jupyter.widget-view+json": {
       "model_id": "9a549b1648cf43a4866d7e3763ce2aea",
       "version_major": 2,
       "version_minor": 0
      },
      "text/plain": [
       "HBox(children=(FloatProgress(value=1.0, bar_style='info', max=1.0), HTML(value='')))"
      ]
     },
     "metadata": {},
     "output_type": "display_data"
    },
    {
     "name": "stdout",
     "output_type": "stream",
     "text": [
      "--> Not exactly one containing mesh: []\n",
      "\n",
      "Total time for mesh mapping: 0.008800268173217773\n",
      "Total time for mesh mapping: 0.008790016174316406\n",
      "Total time for mesh mapping: 0.011076927185058594\n",
      "Total time for mesh mapping: 0.00028443336486816406\n",
      "Total time for mesh mapping: 0.00025010108947753906\n",
      "Total time for mesh mapping: 0.00024890899658203125\n",
      "Total time for mesh mapping: 0.0002574920654296875\n",
      "Total time for mesh mapping: 0.00042128562927246094\n",
      "Total time for mesh mapping: 0.0004360675811767578\n",
      "Total time for mesh mapping: 0.0004954338073730469\n",
      "Total time for mesh mapping: 0.0006875991821289062\n",
      "Total time for mesh mapping: 0.0007340908050537109\n",
      "Total time for mesh mapping: 0.0007121562957763672\n",
      "branch_touching_number = [6]\n",
      "Total time for mesh mapping: 0.0005068778991699219\n",
      "Total time for mesh mapping: 0.0001857280731201172\n",
      "Total time for mesh mapping: 0.00017881393432617188\n",
      "Total time for mesh mapping: 0.0001742839813232422\n",
      "Total time for mesh mapping: 0.00017261505126953125\n",
      "Total time for mesh mapping: 0.00017213821411132812\n",
      "Total time for mesh mapping: 0.00017714500427246094\n",
      "Total time for mesh mapping: 0.0002906322479248047\n",
      "Total time for mesh mapping: 0.0003674030303955078\n",
      "Total time for mesh mapping: 0.0003299713134765625\n",
      "Total time for mesh mapping: 0.00041866302490234375\n",
      "Total time for mesh mapping: 0.000568389892578125\n",
      "Total time for mesh mapping: 0.00045037269592285156\n",
      "branch_touching_number = [6, 6]\n",
      "most_branch_containing_piece = 0\n",
      "filtered_measurements = [116.7090836   66.89347598  81.2984777   93.6966118  102.16800919\n",
      " 328.85495915]\n",
      "new_threshold = 651.2163554014187\n"
     ]
    },
    {
     "data": {
      "application/vnd.jupyter.widget-view+json": {
       "model_id": "f03757a8e5fd4283b6ad30eb1d23beee",
       "version_major": 2,
       "version_minor": 0
      },
      "text/plain": [
       "HBox(children=(FloatProgress(value=1.0, bar_style='info', max=1.0), HTML(value='')))"
      ]
     },
     "metadata": {},
     "output_type": "display_data"
    },
    {
     "name": "stdout",
     "output_type": "stream",
     "text": [
      "THERE WERE NO FACES THAT FIT THE DISTANCE (651.2163554014187) and Z transform requirements\n",
      "So just skipping this edge\n",
      "THERE WERE NO FACES THAT FIT THE DISTANCE (651.2163554014187) and Z transform requirements\n",
      "So just skipping this edge\n",
      "THERE WERE NO FACES THAT FIT THE DISTANCE (651.2163554014187) and Z transform requirements\n",
      "So just skipping this edge\n",
      "THERE WERE NO FACES THAT FIT THE DISTANCE (651.2163554014187) and Z transform requirements\n",
      "So just skipping this edge\n",
      "THERE WERE NO FACES THAT FIT THE DISTANCE (651.2163554014187) and Z transform requirements\n",
      "So just skipping this edge\n",
      "--> Not exactly one containing mesh: []\n",
      "--> Not exactly one containing mesh: []\n",
      "\n"
     ]
    },
    {
     "data": {
      "application/vnd.jupyter.widget-view+json": {
       "model_id": "880b627267684093a7ff5e429379263d",
       "version_major": 2,
       "version_minor": 0
      },
      "text/plain": [
       "HBox(children=(FloatProgress(value=1.0, bar_style='info', max=1.0), HTML(value='')))"
      ]
     },
     "metadata": {},
     "output_type": "display_data"
    },
    {
     "name": "stdout",
     "output_type": "stream",
     "text": [
      "\n",
      "filtered_measurements = [ 82.43550889 113.19544676  89.16743242  79.96105357 130.81642675\n",
      " 112.32029962 116.58097472 100.96730112]\n",
      "new_threshold = 347.56727696937173\n"
     ]
    },
    {
     "data": {
      "application/vnd.jupyter.widget-view+json": {
       "model_id": "b8e3843a0b0547c886bb85f9ff976d7f",
       "version_major": 2,
       "version_minor": 0
      },
      "text/plain": [
       "HBox(children=(FloatProgress(value=1.0, bar_style='info', max=1.0), HTML(value='')))"
      ]
     },
     "metadata": {},
     "output_type": "display_data"
    },
    {
     "name": "stdout",
     "output_type": "stream",
     "text": [
      "\n"
     ]
    },
    {
     "data": {
      "application/vnd.jupyter.widget-view+json": {
       "model_id": "3614f7a1bcc34bf79f8b91a2cc3de402",
       "version_major": 2,
       "version_minor": 0
      },
      "text/plain": [
       "HBox(children=(FloatProgress(value=1.0, bar_style='info', max=1.0), HTML(value='')))"
      ]
     },
     "metadata": {},
     "output_type": "display_data"
    },
    {
     "name": "stdout",
     "output_type": "stream",
     "text": [
      "\n",
      "filtered_measurements = [317.31336189 339.64854418 227.90842084 241.655141   224.08480035\n",
      " 210.21744469 232.33770927 265.39275683 203.00665017 199.15900079\n",
      " 218.75594198 193.82803723 197.81161953 200.82432832 197.29953001\n",
      " 201.78354902 178.19483193 186.70924885 206.97554746 207.01250855\n",
      " 246.96980778 215.33181658 246.786063   216.98991484 181.11208537\n",
      " 245.30318352 236.04234938 246.26854718 305.00486669]\n",
      "new_threshold = 819.2793910525018\n"
     ]
    },
    {
     "data": {
      "application/vnd.jupyter.widget-view+json": {
       "model_id": "eb26ebc9b1af4906929681fc87f15ff3",
       "version_major": 2,
       "version_minor": 0
      },
      "text/plain": [
       "HBox(children=(FloatProgress(value=1.0, bar_style='info', max=1.0), HTML(value='')))"
      ]
     },
     "metadata": {},
     "output_type": "display_data"
    },
    {
     "name": "stdout",
     "output_type": "stream",
     "text": [
      "\n"
     ]
    },
    {
     "data": {
      "application/vnd.jupyter.widget-view+json": {
       "model_id": "bd6ceaf46cbd44f090df91aed838d80d",
       "version_major": 2,
       "version_minor": 0
      },
      "text/plain": [
       "HBox(children=(FloatProgress(value=1.0, bar_style='info', max=1.0), HTML(value='')))"
      ]
     },
     "metadata": {},
     "output_type": "display_data"
    },
    {
     "name": "stdout",
     "output_type": "stream",
     "text": [
      "\n",
      "filtered_measurements = [157.77200111 130.41798277  62.2737586   86.189957   109.64357236\n",
      " 187.20355465]\n",
      "new_threshold = 310.26439643878587\n"
     ]
    },
    {
     "data": {
      "application/vnd.jupyter.widget-view+json": {
       "model_id": "b49c4f50bf1b48e0bec840aa598ad6ae",
       "version_major": 2,
       "version_minor": 0
      },
      "text/plain": [
       "HBox(children=(FloatProgress(value=1.0, bar_style='info', max=1.0), HTML(value='')))"
      ]
     },
     "metadata": {},
     "output_type": "display_data"
    },
    {
     "name": "stdout",
     "output_type": "stream",
     "text": [
      "--> Not exactly one containing mesh: []\n",
      "--> Not exactly one containing mesh: []\n",
      "\n",
      "Total time for mesh mapping: 0.0007524490356445312\n",
      "Total time for mesh mapping: 0.0002110004425048828\n",
      "Total time for mesh mapping: 0.00022530555725097656\n",
      "Total time for mesh mapping: 0.00021505355834960938\n",
      "Total time for mesh mapping: 0.00020051002502441406\n",
      "Total time for mesh mapping: 0.00019669532775878906\n",
      "Total time for mesh mapping: 0.00019502639770507812\n",
      "Total time for mesh mapping: 0.00020122528076171875\n",
      "Total time for mesh mapping: 0.000324249267578125\n",
      "Total time for mesh mapping: 0.0001876354217529297\n",
      "branch_touching_number = [8]\n",
      "Total time for mesh mapping: 0.002317190170288086\n",
      "Total time for mesh mapping: 0.00030803680419921875\n",
      "Total time for mesh mapping: 0.00028252601623535156\n",
      "Total time for mesh mapping: 0.00026726722717285156\n",
      "Total time for mesh mapping: 0.0002605915069580078\n",
      "Total time for mesh mapping: 0.0002586841583251953\n",
      "Total time for mesh mapping: 0.0002562999725341797\n",
      "Total time for mesh mapping: 0.0004165172576904297\n",
      "Total time for mesh mapping: 0.00025916099548339844\n",
      "Total time for mesh mapping: 0.00024080276489257812\n",
      "branch_touching_number = [8, 1]\n",
      "most_branch_containing_piece = 0\n"
     ]
    },
    {
     "data": {
      "application/vnd.jupyter.widget-view+json": {
       "model_id": "7fda5e8aa2c4420f98f1e87e47647985",
       "version_major": 2,
       "version_minor": 0
      },
      "text/plain": [
       "HBox(children=(FloatProgress(value=1.0, bar_style='info', max=1.0), HTML(value='')))"
      ]
     },
     "metadata": {},
     "output_type": "display_data"
    },
    {
     "name": "stdout",
     "output_type": "stream",
     "text": [
      "--> Not exactly one containing mesh: []\n",
      "\n",
      "Total time for mesh mapping: 0.003975629806518555\n",
      "Total time for mesh mapping: 0.0035576820373535156\n",
      "Total time for mesh mapping: 0.007561206817626953\n",
      "Total time for mesh mapping: 0.007420063018798828\n",
      "Total time for mesh mapping: 0.0077588558197021484\n",
      "branch_touching_number = [1]\n",
      "Total time for mesh mapping: 0.0075054168701171875\n",
      "Total time for mesh mapping: 0.0016980171203613281\n",
      "Total time for mesh mapping: 0.0010311603546142578\n",
      "Total time for mesh mapping: 0.000186920166015625\n",
      "Total time for mesh mapping: 0.0001704692840576172\n",
      "branch_touching_number = [1, 2]\n",
      "Total time for mesh mapping: 0.003274679183959961\n",
      "Total time for mesh mapping: 0.00024008750915527344\n",
      "Total time for mesh mapping: 0.0002079010009765625\n",
      "Total time for mesh mapping: 0.00018477439880371094\n",
      "Total time for mesh mapping: 0.00016927719116210938\n",
      "branch_touching_number = [1, 2, 1]\n",
      "most_branch_containing_piece = 1\n",
      "filtered_measurements = [624.51625034 900.04864552 703.35132013]\n",
      "new_threshold = 1777.3606626865785\n"
     ]
    },
    {
     "data": {
      "application/vnd.jupyter.widget-view+json": {
       "model_id": "13453eb0667145ff819913a46eb63dce",
       "version_major": 2,
       "version_minor": 0
      },
      "text/plain": [
       "HBox(children=(FloatProgress(value=1.0, bar_style='info', max=1.0), HTML(value='')))"
      ]
     },
     "metadata": {},
     "output_type": "display_data"
    },
    {
     "name": "stdout",
     "output_type": "stream",
     "text": [
      "--> Not exactly one containing mesh: []\n",
      "--> Not exactly one containing mesh: []\n",
      "--> Not exactly one containing mesh: []\n",
      "\n"
     ]
    },
    {
     "data": {
      "application/vnd.jupyter.widget-view+json": {
       "model_id": "35ace7afe58b4c479e52499b381ccf09",
       "version_major": 2,
       "version_minor": 0
      },
      "text/plain": [
       "HBox(children=(FloatProgress(value=1.0, bar_style='info', max=1.0), HTML(value='')))"
      ]
     },
     "metadata": {},
     "output_type": "display_data"
    },
    {
     "name": "stdout",
     "output_type": "stream",
     "text": [
      "\n",
      "Total time for mesh mapping: 0.004362344741821289\n",
      "Total time for mesh mapping: 0.009815454483032227\n",
      "Total time for mesh mapping: 0.004479408264160156\n",
      "Total time for mesh mapping: 0.005261421203613281\n",
      "Total time for mesh mapping: 0.0047338008880615234\n",
      "Total time for mesh mapping: 0.0037186145782470703\n",
      "Total time for mesh mapping: 0.000354766845703125\n",
      "Total time for mesh mapping: 0.00026917457580566406\n",
      "branch_touching_number = [3]\n",
      "Total time for mesh mapping: 0.0006208419799804688\n",
      "Total time for mesh mapping: 0.0003719329833984375\n",
      "Total time for mesh mapping: 0.00021648406982421875\n",
      "Total time for mesh mapping: 0.00045943260192871094\n",
      "Total time for mesh mapping: 0.0003025531768798828\n",
      "Total time for mesh mapping: 0.00018477439880371094\n",
      "Total time for mesh mapping: 0.00021076202392578125\n",
      "Total time for mesh mapping: 0.00017762184143066406\n",
      "branch_touching_number = [3, 4]\n",
      "most_branch_containing_piece = 1\n",
      "filtered_measurements = [270.9940869  237.33855381 314.15690237]\n",
      "new_threshold = 635.6768237881386\n"
     ]
    },
    {
     "data": {
      "application/vnd.jupyter.widget-view+json": {
       "model_id": "e57d85b18e4f4e81b5620c5cab3c2712",
       "version_major": 2,
       "version_minor": 0
      },
      "text/plain": [
       "HBox(children=(FloatProgress(value=1.0, bar_style='info', max=1.0), HTML(value='')))"
      ]
     },
     "metadata": {},
     "output_type": "display_data"
    },
    {
     "name": "stdout",
     "output_type": "stream",
     "text": [
      "THERE WERE NO FACES THAT FIT THE DISTANCE (635.6768237881386) and Z transform requirements\n",
      "So just skipping this edge\n",
      "THERE WERE NO FACES THAT FIT THE DISTANCE (635.6768237881386) and Z transform requirements\n",
      "So just skipping this edge\n",
      "THERE WERE NO FACES THAT FIT THE DISTANCE (635.6768237881386) and Z transform requirements\n",
      "So just skipping this edge\n",
      "--> Not exactly one containing mesh: []\n",
      "\n"
     ]
    },
    {
     "data": {
      "application/vnd.jupyter.widget-view+json": {
       "model_id": "db4f970891874f388552b0aa23d8e469",
       "version_major": 2,
       "version_minor": 0
      },
      "text/plain": [
       "HBox(children=(FloatProgress(value=1.0, bar_style='info', max=1.0), HTML(value='')))"
      ]
     },
     "metadata": {},
     "output_type": "display_data"
    },
    {
     "name": "stdout",
     "output_type": "stream",
     "text": [
      "\n",
      "filtered_measurements = [1541.90136397 1142.0593967 ]\n",
      "new_threshold = 3184.5674578151343\n"
     ]
    },
    {
     "data": {
      "application/vnd.jupyter.widget-view+json": {
       "model_id": "2c83e3cabab74e64839754f1374669df",
       "version_major": 2,
       "version_minor": 0
      },
      "text/plain": [
       "HBox(children=(FloatProgress(value=1.0, bar_style='info', max=1.0), HTML(value='')))"
      ]
     },
     "metadata": {},
     "output_type": "display_data"
    },
    {
     "name": "stdout",
     "output_type": "stream",
     "text": [
      "\n"
     ]
    },
    {
     "data": {
      "application/vnd.jupyter.widget-view+json": {
       "model_id": "94344c3827af47fc81e12f867588a772",
       "version_major": 2,
       "version_minor": 0
      },
      "text/plain": [
       "HBox(children=(FloatProgress(value=1.0, bar_style='info', max=1.0), HTML(value='')))"
      ]
     },
     "metadata": {},
     "output_type": "display_data"
    },
    {
     "name": "stdout",
     "output_type": "stream",
     "text": [
      "\n",
      "filtered_measurements = [1215.37691656 1137.7899501 ]\n",
      "new_threshold = 2484.7597787191653\n"
     ]
    },
    {
     "data": {
      "application/vnd.jupyter.widget-view+json": {
       "model_id": "8c6a515cb9be4d43bff33e93ebe115f3",
       "version_major": 2,
       "version_minor": 0
      },
      "text/plain": [
       "HBox(children=(FloatProgress(value=1.0, bar_style='info', max=1.0), HTML(value='')))"
      ]
     },
     "metadata": {},
     "output_type": "display_data"
    },
    {
     "name": "stdout",
     "output_type": "stream",
     "text": [
      "\n"
     ]
    },
    {
     "data": {
      "application/vnd.jupyter.widget-view+json": {
       "model_id": "00dd475fe9dc49a5b1425baf1110cba6",
       "version_major": 2,
       "version_minor": 0
      },
      "text/plain": [
       "HBox(children=(FloatProgress(value=1.0, bar_style='info', max=1.0), HTML(value='')))"
      ]
     },
     "metadata": {},
     "output_type": "display_data"
    },
    {
     "name": "stdout",
     "output_type": "stream",
     "text": [
      "\n",
      "filtered_measurements = [485.32703551 390.8992461  615.79302916]\n",
      "new_threshold = 1392.9445611071374\n"
     ]
    },
    {
     "data": {
      "application/vnd.jupyter.widget-view+json": {
       "model_id": "d9d9ccb29e2e40d385264f2e51e73d25",
       "version_major": 2,
       "version_minor": 0
      },
      "text/plain": [
       "HBox(children=(FloatProgress(value=1.0, bar_style='info', max=1.0), HTML(value='')))"
      ]
     },
     "metadata": {},
     "output_type": "display_data"
    },
    {
     "name": "stdout",
     "output_type": "stream",
     "text": [
      "\n"
     ]
    },
    {
     "data": {
      "application/vnd.jupyter.widget-view+json": {
       "model_id": "cbb6c646060d4ee1904b7f7d368a46b8",
       "version_major": 2,
       "version_minor": 0
      },
      "text/plain": [
       "HBox(children=(FloatProgress(value=1.0, bar_style='info', max=1.0), HTML(value='')))"
      ]
     },
     "metadata": {},
     "output_type": "display_data"
    },
    {
     "name": "stdout",
     "output_type": "stream",
     "text": [
      "\n",
      "filtered_measurements = [115.91051614 133.32548772 128.63438187 115.70519141 117.20093097\n",
      "  80.69069362]\n",
      "new_threshold = 257.2756713306644\n"
     ]
    },
    {
     "data": {
      "application/vnd.jupyter.widget-view+json": {
       "model_id": "d51d02a3f0f34f919050c9b2b0f384da",
       "version_major": 2,
       "version_minor": 0
      },
      "text/plain": [
       "HBox(children=(FloatProgress(value=1.0, bar_style='info', max=1.0), HTML(value='')))"
      ]
     },
     "metadata": {},
     "output_type": "display_data"
    },
    {
     "name": "stdout",
     "output_type": "stream",
     "text": [
      "\n"
     ]
    },
    {
     "data": {
      "application/vnd.jupyter.widget-view+json": {
       "model_id": "c9ba1cbfaff745e89db022ae7ebfaf66",
       "version_major": 2,
       "version_minor": 0
      },
      "text/plain": [
       "HBox(children=(FloatProgress(value=1.0, bar_style='info', max=1.0), HTML(value='')))"
      ]
     },
     "metadata": {},
     "output_type": "display_data"
    },
    {
     "name": "stdout",
     "output_type": "stream",
     "text": [
      "--> Not exactly one containing mesh: []\n",
      "\n",
      "filtered_measurements = [ 81.35701187 134.97800821 106.12686612 125.05330295 133.5990595\n",
      " 117.26378445  93.31574341]\n",
      "new_threshold = 261.9104277144075\n"
     ]
    },
    {
     "data": {
      "application/vnd.jupyter.widget-view+json": {
       "model_id": "22479982e5da401399e472437e5e42f0",
       "version_major": 2,
       "version_minor": 0
      },
      "text/plain": [
       "HBox(children=(FloatProgress(value=1.0, bar_style='info', max=1.0), HTML(value='')))"
      ]
     },
     "metadata": {},
     "output_type": "display_data"
    },
    {
     "name": "stdout",
     "output_type": "stream",
     "text": [
      "--> Not exactly one containing mesh: []\n",
      "\n"
     ]
    },
    {
     "data": {
      "application/vnd.jupyter.widget-view+json": {
       "model_id": "40264a261fe447629be6ebe26a4ad2d3",
       "version_major": 2,
       "version_minor": 0
      },
      "text/plain": [
       "HBox(children=(FloatProgress(value=1.0, bar_style='info', max=1.0), HTML(value='')))"
      ]
     },
     "metadata": {},
     "output_type": "display_data"
    },
    {
     "name": "stdout",
     "output_type": "stream",
     "text": [
      "--> Not exactly one containing mesh: []\n",
      "\n",
      "filtered_measurements = [546.01155998 335.82271241 427.63419847 400.87483088 146.65820699]\n",
      "new_threshold = 1421.6454681848616\n"
     ]
    },
    {
     "data": {
      "application/vnd.jupyter.widget-view+json": {
       "model_id": "d7c32a8de6df471c93639c3ab37d841d",
       "version_major": 2,
       "version_minor": 0
      },
      "text/plain": [
       "HBox(children=(FloatProgress(value=1.0, bar_style='info', max=1.0), HTML(value='')))"
      ]
     },
     "metadata": {},
     "output_type": "display_data"
    },
    {
     "name": "stdout",
     "output_type": "stream",
     "text": [
      "--> Not exactly one containing mesh: []\n",
      "\n"
     ]
    },
    {
     "data": {
      "application/vnd.jupyter.widget-view+json": {
       "model_id": "f10c898bcc854be7999537ae512efa01",
       "version_major": 2,
       "version_minor": 0
      },
      "text/plain": [
       "HBox(children=(FloatProgress(value=1.0, bar_style='info', max=1.0), HTML(value='')))"
      ]
     },
     "metadata": {},
     "output_type": "display_data"
    },
    {
     "name": "stdout",
     "output_type": "stream",
     "text": [
      "--> Not exactly one containing mesh: []\n",
      "\n",
      "filtered_measurements = [117.67263341 100.18635647  94.8997809  100.44870315  92.38709864\n",
      "  89.22520722 152.78334863 109.98307777 133.30832747 148.5083978 ]\n",
      "new_threshold = 297.09842297351224\n"
     ]
    },
    {
     "data": {
      "application/vnd.jupyter.widget-view+json": {
       "model_id": "58f8f46eb2b842fda0f17b2a30a9fd3e",
       "version_major": 2,
       "version_minor": 0
      },
      "text/plain": [
       "HBox(children=(FloatProgress(value=1.0, bar_style='info', max=1.0), HTML(value='')))"
      ]
     },
     "metadata": {},
     "output_type": "display_data"
    },
    {
     "name": "stdout",
     "output_type": "stream",
     "text": [
      "--> Not exactly one containing mesh: []\n",
      "\n"
     ]
    },
    {
     "data": {
      "application/vnd.jupyter.widget-view+json": {
       "model_id": "157a3b57455b4a058899b6360a52bffc",
       "version_major": 2,
       "version_minor": 0
      },
      "text/plain": [
       "HBox(children=(FloatProgress(value=1.0, bar_style='info', max=1.0), HTML(value='')))"
      ]
     },
     "metadata": {},
     "output_type": "display_data"
    },
    {
     "name": "stdout",
     "output_type": "stream",
     "text": [
      "\n",
      "filtered_measurements = [513.94158582 352.62373954]\n",
      "new_threshold = 1007.7297719149673\n"
     ]
    },
    {
     "data": {
      "application/vnd.jupyter.widget-view+json": {
       "model_id": "eb43c5cc852146e99bbff8d8a74920a6",
       "version_major": 2,
       "version_minor": 0
      },
      "text/plain": [
       "HBox(children=(FloatProgress(value=1.0, bar_style='info', max=1.0), HTML(value='')))"
      ]
     },
     "metadata": {},
     "output_type": "display_data"
    },
    {
     "name": "stdout",
     "output_type": "stream",
     "text": [
      "\n"
     ]
    },
    {
     "data": {
      "application/vnd.jupyter.widget-view+json": {
       "model_id": "331421af3bf741048182123d7e7eab2c",
       "version_major": 2,
       "version_minor": 0
      },
      "text/plain": [
       "HBox(children=(FloatProgress(value=1.0, bar_style='info', max=1.0), HTML(value='')))"
      ]
     },
     "metadata": {},
     "output_type": "display_data"
    },
    {
     "name": "stdout",
     "output_type": "stream",
     "text": [
      "\n",
      "Total time for mesh mapping: 0.007203578948974609\n",
      "Total time for mesh mapping: 0.007134437561035156\n",
      "Total time for mesh mapping: 0.010087251663208008\n",
      "Total time for mesh mapping: 0.01338958740234375\n",
      "Total time for mesh mapping: 0.005110025405883789\n",
      "branch_touching_number = [2]\n",
      "Total time for mesh mapping: 0.00042748451232910156\n",
      "Total time for mesh mapping: 0.00015854835510253906\n",
      "Total time for mesh mapping: 0.00022721290588378906\n",
      "Total time for mesh mapping: 0.00019550323486328125\n",
      "Total time for mesh mapping: 0.00021219253540039062\n",
      "branch_touching_number = [2, 2]\n",
      "most_branch_containing_piece = 0\n",
      "filtered_measurements = [ 107.75234498  619.21563637 1118.82908802]\n",
      "new_threshold = 2293.09041128657\n"
     ]
    },
    {
     "data": {
      "application/vnd.jupyter.widget-view+json": {
       "model_id": "faf732f368564dfcb921335e6ef28212",
       "version_major": 2,
       "version_minor": 0
      },
      "text/plain": [
       "HBox(children=(FloatProgress(value=1.0, bar_style='info', max=1.0), HTML(value='')))"
      ]
     },
     "metadata": {},
     "output_type": "display_data"
    },
    {
     "name": "stdout",
     "output_type": "stream",
     "text": [
      "--> Not exactly one containing mesh: []\n",
      "THERE WERE NO FACES THAT FIT THE DISTANCE (2293.09041128657) and Z transform requirements\n",
      "So just skipping this edge\n",
      "\n"
     ]
    },
    {
     "data": {
      "application/vnd.jupyter.widget-view+json": {
       "model_id": "e0f673be0f0b4a5bb15214ea7073d6a9",
       "version_major": 2,
       "version_minor": 0
      },
      "text/plain": [
       "HBox(children=(FloatProgress(value=1.0, bar_style='info', max=1.0), HTML(value='')))"
      ]
     },
     "metadata": {},
     "output_type": "display_data"
    },
    {
     "name": "stdout",
     "output_type": "stream",
     "text": [
      "\n",
      "filtered_measurements = [606.37679436 783.73118073]\n",
      "new_threshold = 1682.34889579512\n"
     ]
    },
    {
     "data": {
      "application/vnd.jupyter.widget-view+json": {
       "model_id": "88006c0636284030940574453cfe7678",
       "version_major": 2,
       "version_minor": 0
      },
      "text/plain": [
       "HBox(children=(FloatProgress(value=1.0, bar_style='info', max=1.0), HTML(value='')))"
      ]
     },
     "metadata": {},
     "output_type": "display_data"
    },
    {
     "name": "stdout",
     "output_type": "stream",
     "text": [
      "\n"
     ]
    },
    {
     "data": {
      "application/vnd.jupyter.widget-view+json": {
       "model_id": "71f06c55539346fbad650fbf41cab1d1",
       "version_major": 2,
       "version_minor": 0
      },
      "text/plain": [
       "HBox(children=(FloatProgress(value=1.0, bar_style='info', max=1.0), HTML(value='')))"
      ]
     },
     "metadata": {},
     "output_type": "display_data"
    },
    {
     "name": "stdout",
     "output_type": "stream",
     "text": [
      "\n",
      "filtered_measurements = [878.8215138  628.01307864]\n",
      "new_threshold = 1938.5376219008767\n"
     ]
    },
    {
     "data": {
      "application/vnd.jupyter.widget-view+json": {
       "model_id": "2ac7b20819a04eeb9364161f74e98c62",
       "version_major": 2,
       "version_minor": 0
      },
      "text/plain": [
       "HBox(children=(FloatProgress(value=1.0, bar_style='info', max=1.0), HTML(value='')))"
      ]
     },
     "metadata": {},
     "output_type": "display_data"
    },
    {
     "name": "stdout",
     "output_type": "stream",
     "text": [
      "\n"
     ]
    },
    {
     "data": {
      "application/vnd.jupyter.widget-view+json": {
       "model_id": "131e0d81f8bc46189b74358dc3e18e47",
       "version_major": 2,
       "version_minor": 0
      },
      "text/plain": [
       "HBox(children=(FloatProgress(value=1.0, bar_style='info', max=1.0), HTML(value='')))"
      ]
     },
     "metadata": {},
     "output_type": "display_data"
    },
    {
     "name": "stdout",
     "output_type": "stream",
     "text": [
      "--> Not exactly one containing mesh: []\n",
      "\n",
      "filtered_measurements = [130.19755648 124.10310433  67.85108489 166.2536131  143.36666373\n",
      " 130.45130871 103.95304359]\n",
      "new_threshold = 339.92095699615504\n"
     ]
    },
    {
     "data": {
      "application/vnd.jupyter.widget-view+json": {
       "model_id": "aff2a505d6e2474db632eb39fd55ccd6",
       "version_major": 2,
       "version_minor": 0
      },
      "text/plain": [
       "HBox(children=(FloatProgress(value=1.0, bar_style='info', max=1.0), HTML(value='')))"
      ]
     },
     "metadata": {},
     "output_type": "display_data"
    },
    {
     "name": "stdout",
     "output_type": "stream",
     "text": [
      "--> Not exactly one containing mesh: []\n",
      "\n"
     ]
    },
    {
     "data": {
      "application/vnd.jupyter.widget-view+json": {
       "model_id": "9d1f9e682aee4a0294bcf06028a59fb4",
       "version_major": 2,
       "version_minor": 0
      },
      "text/plain": [
       "HBox(children=(FloatProgress(value=1.0, bar_style='info', max=1.0), HTML(value='')))"
      ]
     },
     "metadata": {},
     "output_type": "display_data"
    },
    {
     "name": "stdout",
     "output_type": "stream",
     "text": [
      "\n",
      "filtered_measurements = [345.77590489 291.0391063  448.09811045 306.43753037 496.56880558\n",
      " 482.65920633 368.66599339 404.47526841 472.33853897 283.82209231\n",
      " 293.50178331 371.59361914 397.3392327  380.28946635 364.08326823\n",
      " 455.82641323 373.39422639 444.22241642]\n",
      "new_threshold = 1189.5021685973147\n"
     ]
    },
    {
     "data": {
      "application/vnd.jupyter.widget-view+json": {
       "model_id": "654fc5aed8b94951a732733c7c40b895",
       "version_major": 2,
       "version_minor": 0
      },
      "text/plain": [
       "HBox(children=(FloatProgress(value=1.0, bar_style='info', max=1.0), HTML(value='')))"
      ]
     },
     "metadata": {},
     "output_type": "display_data"
    },
    {
     "name": "stdout",
     "output_type": "stream",
     "text": [
      "\n"
     ]
    },
    {
     "data": {
      "application/vnd.jupyter.widget-view+json": {
       "model_id": "da3442856dda4b4ab7ad894f11130d4f",
       "version_major": 2,
       "version_minor": 0
      },
      "text/plain": [
       "HBox(children=(FloatProgress(value=1.0, bar_style='info', max=1.0), HTML(value='')))"
      ]
     },
     "metadata": {},
     "output_type": "display_data"
    },
    {
     "name": "stdout",
     "output_type": "stream",
     "text": [
      "--> Not exactly one containing mesh: []\n",
      "\n",
      "filtered_measurements = [432.86775958 314.98996292  59.48657733 112.7505047  301.33727628\n",
      " 389.56802561]\n",
      "new_threshold = 1030.59058638645\n"
     ]
    },
    {
     "data": {
      "application/vnd.jupyter.widget-view+json": {
       "model_id": "4c1d8fe3c3db47ab9cef9214d6dbafef",
       "version_major": 2,
       "version_minor": 0
      },
      "text/plain": [
       "HBox(children=(FloatProgress(value=1.0, bar_style='info', max=1.0), HTML(value='')))"
      ]
     },
     "metadata": {},
     "output_type": "display_data"
    },
    {
     "name": "stdout",
     "output_type": "stream",
     "text": [
      "--> Not exactly one containing mesh: []\n",
      "\n"
     ]
    },
    {
     "data": {
      "application/vnd.jupyter.widget-view+json": {
       "model_id": "58ffe2174d8a4b7ab3a5e34376f5caeb",
       "version_major": 2,
       "version_minor": 0
      },
      "text/plain": [
       "HBox(children=(FloatProgress(value=1.0, bar_style='info', max=1.0), HTML(value='')))"
      ]
     },
     "metadata": {},
     "output_type": "display_data"
    },
    {
     "name": "stdout",
     "output_type": "stream",
     "text": [
      "\n",
      "filtered_measurements = [299.80957477 423.27614063 365.35675384 316.89196072 335.2480501\n",
      " 390.276064   286.4951287  304.24071753 299.38856052 449.04362649\n",
      " 214.26695375 234.16220985 275.35762173 349.20467123 400.85536401]\n",
      "new_threshold = 1097.180246226366\n"
     ]
    },
    {
     "data": {
      "application/vnd.jupyter.widget-view+json": {
       "model_id": "93ce42c56b924bf485910cb20de8581e",
       "version_major": 2,
       "version_minor": 0
      },
      "text/plain": [
       "HBox(children=(FloatProgress(value=1.0, bar_style='info', max=1.0), HTML(value='')))"
      ]
     },
     "metadata": {},
     "output_type": "display_data"
    },
    {
     "name": "stdout",
     "output_type": "stream",
     "text": [
      "\n"
     ]
    },
    {
     "data": {
      "application/vnd.jupyter.widget-view+json": {
       "model_id": "28a8e0881df14263bf0bb31a3c20d4e9",
       "version_major": 2,
       "version_minor": 0
      },
      "text/plain": [
       "HBox(children=(FloatProgress(value=1.0, bar_style='info', max=1.0), HTML(value='')))"
      ]
     },
     "metadata": {},
     "output_type": "display_data"
    },
    {
     "name": "stdout",
     "output_type": "stream",
     "text": [
      "\n",
      "filtered_measurements = [1339.274129]\n",
      "new_threshold = 2903.1953212421104\n"
     ]
    },
    {
     "data": {
      "application/vnd.jupyter.widget-view+json": {
       "model_id": "2366d472987a4a78a723cd250224b163",
       "version_major": 2,
       "version_minor": 0
      },
      "text/plain": [
       "HBox(children=(FloatProgress(value=1.0, bar_style='info', max=1.0), HTML(value='')))"
      ]
     },
     "metadata": {},
     "output_type": "display_data"
    },
    {
     "name": "stdout",
     "output_type": "stream",
     "text": [
      "\n"
     ]
    },
    {
     "data": {
      "application/vnd.jupyter.widget-view+json": {
       "model_id": "3ef94cadebe14d01917ccbdc1ef16d77",
       "version_major": 2,
       "version_minor": 0
      },
      "text/plain": [
       "HBox(children=(FloatProgress(value=1.0, bar_style='info', max=1.0), HTML(value='')))"
      ]
     },
     "metadata": {},
     "output_type": "display_data"
    },
    {
     "name": "stdout",
     "output_type": "stream",
     "text": [
      "\n",
      "filtered_measurements = [1518.41360637]\n",
      "new_threshold = 3179.1647598598756\n"
     ]
    },
    {
     "data": {
      "application/vnd.jupyter.widget-view+json": {
       "model_id": "a963ea614b8b447298e3137dbf501a8b",
       "version_major": 2,
       "version_minor": 0
      },
      "text/plain": [
       "HBox(children=(FloatProgress(value=1.0, bar_style='info', max=1.0), HTML(value='')))"
      ]
     },
     "metadata": {},
     "output_type": "display_data"
    },
    {
     "name": "stdout",
     "output_type": "stream",
     "text": [
      "\n"
     ]
    },
    {
     "data": {
      "application/vnd.jupyter.widget-view+json": {
       "model_id": "b59c9850c62946e390fc20f4177ab739",
       "version_major": 2,
       "version_minor": 0
      },
      "text/plain": [
       "HBox(children=(FloatProgress(value=1.0, bar_style='info', max=1.0), HTML(value='')))"
      ]
     },
     "metadata": {},
     "output_type": "display_data"
    },
    {
     "name": "stdout",
     "output_type": "stream",
     "text": [
      "\n",
      "filtered_measurements = [224.0960327]\n",
      "new_threshold = 476.23806782579027\n"
     ]
    },
    {
     "data": {
      "application/vnd.jupyter.widget-view+json": {
       "model_id": "27800e2481754d11aaeaad272b00e7f2",
       "version_major": 2,
       "version_minor": 0
      },
      "text/plain": [
       "HBox(children=(FloatProgress(value=1.0, bar_style='info', max=1.0), HTML(value='')))"
      ]
     },
     "metadata": {},
     "output_type": "display_data"
    },
    {
     "name": "stdout",
     "output_type": "stream",
     "text": [
      "\n"
     ]
    },
    {
     "data": {
      "application/vnd.jupyter.widget-view+json": {
       "model_id": "fa6c910df7ef47dab22bc02126652899",
       "version_major": 2,
       "version_minor": 0
      },
      "text/plain": [
       "HBox(children=(FloatProgress(value=1.0, bar_style='info', max=1.0), HTML(value='')))"
      ]
     },
     "metadata": {},
     "output_type": "display_data"
    },
    {
     "name": "stdout",
     "output_type": "stream",
     "text": [
      "\n",
      "filtered_measurements = [349.71467625]\n",
      "new_threshold = 558.7616655629749\n"
     ]
    },
    {
     "data": {
      "application/vnd.jupyter.widget-view+json": {
       "model_id": "5babeecb86954bc2be8d9f18ab47026a",
       "version_major": 2,
       "version_minor": 0
      },
      "text/plain": [
       "HBox(children=(FloatProgress(value=1.0, bar_style='info', max=1.0), HTML(value='')))"
      ]
     },
     "metadata": {},
     "output_type": "display_data"
    },
    {
     "name": "stdout",
     "output_type": "stream",
     "text": [
      "\n"
     ]
    },
    {
     "data": {
      "application/vnd.jupyter.widget-view+json": {
       "model_id": "a29e1d5c8799433497b61066d2c26bfb",
       "version_major": 2,
       "version_minor": 0
      },
      "text/plain": [
       "HBox(children=(FloatProgress(value=1.0, bar_style='info', max=1.0), HTML(value='')))"
      ]
     },
     "metadata": {},
     "output_type": "display_data"
    },
    {
     "name": "stdout",
     "output_type": "stream",
     "text": [
      "--> Not exactly one containing mesh: [0 1]\n",
      "\n",
      "filtered_measurements = [1284.47794144]\n",
      "new_threshold = 2506.490138926124\n"
     ]
    },
    {
     "data": {
      "application/vnd.jupyter.widget-view+json": {
       "model_id": "694e96c8d7ab4dfebbee595802aa999b",
       "version_major": 2,
       "version_minor": 0
      },
      "text/plain": [
       "HBox(children=(FloatProgress(value=1.0, bar_style='info', max=1.0), HTML(value='')))"
      ]
     },
     "metadata": {},
     "output_type": "display_data"
    },
    {
     "name": "stdout",
     "output_type": "stream",
     "text": [
      "\n",
      "\n",
      "Working on limb #3\n"
     ]
    },
    {
     "data": {
      "application/vnd.jupyter.widget-view+json": {
       "model_id": "c8a67107bf8d41a2bf3109db891bca0c",
       "version_major": 2,
       "version_minor": 0
      },
      "text/plain": [
       "HBox(children=(FloatProgress(value=1.0, bar_style='info', max=1.0), HTML(value='')))"
      ]
     },
     "metadata": {},
     "output_type": "display_data"
    },
    {
     "data": {
      "application/vnd.jupyter.widget-view+json": {
       "model_id": "81f02c25c1f14b68801c5065d95da9c3",
       "version_major": 2,
       "version_minor": 0
      },
      "text/plain": [
       "HBox(children=(FloatProgress(value=1.0, bar_style='info', max=1.0), HTML(value='')))"
      ]
     },
     "metadata": {},
     "output_type": "display_data"
    },
    {
     "name": "stdout",
     "output_type": "stream",
     "text": [
      "\n",
      "filtered_measurements = [145.591784   178.68691604 222.43713098 322.62802068 281.93822968\n",
      " 199.4290633  367.8582935  348.34381536 432.67548974 600.5776494\n",
      " 223.52139631 390.81798094 275.78732838 314.27251065 282.95322433\n",
      " 418.02885916 283.30036565 309.61713346 474.96232398 595.13550702\n",
      " 447.16169046 485.3770182  424.16446211 634.37967445 470.92192003\n",
      " 368.66523332 500.17511121 366.45292239 486.35745906 269.68600131\n",
      " 579.76060562 415.08182717 631.62471756 339.80414009 584.25440712\n",
      " 525.75274688 352.3673242  487.40532812 640.66840748 353.60104494\n",
      " 600.66832788 312.64643858 462.04936131 435.02606128 500.76721719\n",
      " 326.43366602 400.4655667  479.85073786 617.02239312 536.34795107\n",
      " 398.94105108 336.13193266 444.7029812  633.93153601 371.70423149\n",
      " 392.12806636 473.64402262 513.87820978 386.66834019 462.40887493\n",
      " 334.50031161 364.48746721 535.22863195 380.07873592 400.43429883\n",
      " 612.85805581 416.61296964]\n",
      "new_threshold = 1717.1809271978782\n"
     ]
    },
    {
     "data": {
      "application/vnd.jupyter.widget-view+json": {
       "model_id": "80e85ba8f1fc4336a8c4283c11976e2f",
       "version_major": 2,
       "version_minor": 0
      },
      "text/plain": [
       "HBox(children=(FloatProgress(value=1.0, bar_style='info', max=1.0), HTML(value='')))"
      ]
     },
     "metadata": {},
     "output_type": "display_data"
    },
    {
     "name": "stdout",
     "output_type": "stream",
     "text": [
      "\n"
     ]
    },
    {
     "data": {
      "application/vnd.jupyter.widget-view+json": {
       "model_id": "6b6fb28c6b6a40b08068eed53cba63d4",
       "version_major": 2,
       "version_minor": 0
      },
      "text/plain": [
       "HBox(children=(FloatProgress(value=1.0, bar_style='info', max=1.0), HTML(value='')))"
      ]
     },
     "metadata": {},
     "output_type": "display_data"
    },
    {
     "name": "stdout",
     "output_type": "stream",
     "text": [
      "--> Not exactly one containing mesh: []\n",
      "\n",
      "filtered_measurements = [158.88303701 487.85526851 262.95933675 422.52908246 602.06344594\n",
      " 237.94502508 250.12497452 448.63566518 223.32594872 270.8350539\n",
      " 447.82518112 228.6865504  298.04628032 318.59648439 576.79102167\n",
      " 332.36082133 346.58528268 357.04444487 625.47974952 470.55169211\n",
      " 361.95507957 359.69853919 550.90317748 378.49693585 478.87725142\n",
      " 607.95416172 491.60446565 325.57166764 424.05539044 573.44045666\n",
      " 442.55373111 409.21872019 318.78175192 601.44205255 344.03611506\n",
      " 550.44036702 415.83500963 410.48293524 438.37026092 603.71821811\n",
      " 522.22398022 483.16707705 474.32958746 270.06131068 484.45527084\n",
      " 662.87222508 528.81766904 396.79323451 372.89156088 257.64427086\n",
      " 356.12998211 375.45691414 338.16914303 328.16968135 351.76817836\n",
      " 450.96127069 496.74515008 560.61390974 533.86669865 482.7944783\n",
      " 372.33455763 534.48185149 576.76768801 361.0021559  422.05706257\n",
      " 585.00811424 273.27790649 444.65738654 592.2123253  473.98632987\n",
      " 399.81312428 346.00585084 387.36991103 462.4010426  496.65523323\n",
      " 401.78755518 661.32325716 422.47351815 377.52790661]\n",
      "new_threshold = 1599.909958497992\n"
     ]
    },
    {
     "data": {
      "application/vnd.jupyter.widget-view+json": {
       "model_id": "70bf2104c359487eb50ee456fbf52bc7",
       "version_major": 2,
       "version_minor": 0
      },
      "text/plain": [
       "HBox(children=(FloatProgress(value=1.0, bar_style='info', max=1.0), HTML(value='')))"
      ]
     },
     "metadata": {},
     "output_type": "display_data"
    },
    {
     "name": "stdout",
     "output_type": "stream",
     "text": [
      "--> Not exactly one containing mesh: []\n",
      "\n"
     ]
    },
    {
     "data": {
      "application/vnd.jupyter.widget-view+json": {
       "model_id": "f4aa12ee25704f108ef1c9a37807e562",
       "version_major": 2,
       "version_minor": 0
      },
      "text/plain": [
       "HBox(children=(FloatProgress(value=1.0, bar_style='info', max=1.0), HTML(value='')))"
      ]
     },
     "metadata": {},
     "output_type": "display_data"
    },
    {
     "name": "stdout",
     "output_type": "stream",
     "text": [
      "\n",
      "filtered_measurements = [302.92941904 284.15138252 140.35622261 291.01193729 277.26170357\n",
      " 338.2843093  186.65382937 283.25909539 254.01461869 205.159134\n",
      " 164.5425823  185.9155804  173.88532715 382.48752207 326.5081939\n",
      " 186.93282698 201.43003195 378.91705555 213.80684424 197.40645034\n",
      " 179.57960135 174.14955869 247.26568876 206.16730873 247.51983625\n",
      " 154.96691521 168.6230428  277.04287171 376.98809456 217.49076847\n",
      " 283.81006565 296.20810801 234.61323128 281.0762197  212.97124465\n",
      " 252.1006687  164.11539279 174.49498385 209.62821042 179.89784029\n",
      " 195.31731022 323.52519808 367.94509158 228.55719205 249.91562407\n",
      " 273.06778957 278.21315717]\n",
      "new_threshold = 908.5887224176786\n"
     ]
    },
    {
     "data": {
      "application/vnd.jupyter.widget-view+json": {
       "model_id": "6b788a43aa534c65bc6798d2d89ca6a0",
       "version_major": 2,
       "version_minor": 0
      },
      "text/plain": [
       "HBox(children=(FloatProgress(value=1.0, bar_style='info', max=1.0), HTML(value='')))"
      ]
     },
     "metadata": {},
     "output_type": "display_data"
    },
    {
     "name": "stdout",
     "output_type": "stream",
     "text": [
      "--> Not exactly one containing mesh: []\n",
      "\n",
      "Total time for mesh mapping: 0.008025169372558594\n",
      "Total time for mesh mapping: 0.0035648345947265625\n",
      "Total time for mesh mapping: 0.0018868446350097656\n",
      "Total time for mesh mapping: 0.001032114028930664\n",
      "Total time for mesh mapping: 0.0006577968597412109\n",
      "Total time for mesh mapping: 0.0007481575012207031\n",
      "Total time for mesh mapping: 0.0007443428039550781\n",
      "Total time for mesh mapping: 0.0005147457122802734\n",
      "Total time for mesh mapping: 0.0005652904510498047\n",
      "Total time for mesh mapping: 0.0005872249603271484\n",
      "Total time for mesh mapping: 0.0006203651428222656\n",
      "Total time for mesh mapping: 0.00046324729919433594\n",
      "Total time for mesh mapping: 0.0006990432739257812\n",
      "Total time for mesh mapping: 0.00046253204345703125\n",
      "Total time for mesh mapping: 0.0003886222839355469\n",
      "Total time for mesh mapping: 0.00040650367736816406\n",
      "Total time for mesh mapping: 0.0004398822784423828\n",
      "Total time for mesh mapping: 0.0006821155548095703\n",
      "Total time for mesh mapping: 0.0006849765777587891\n",
      "Total time for mesh mapping: 0.0005466938018798828\n",
      "Total time for mesh mapping: 0.0006566047668457031\n",
      "Total time for mesh mapping: 0.0005705356597900391\n",
      "Total time for mesh mapping: 0.0005581378936767578\n",
      "Total time for mesh mapping: 0.0004334449768066406\n",
      "Total time for mesh mapping: 0.00046515464782714844\n",
      "Total time for mesh mapping: 0.0006918907165527344\n",
      "Total time for mesh mapping: 0.0009648799896240234\n",
      "Total time for mesh mapping: 0.0004944801330566406\n",
      "Total time for mesh mapping: 0.0004773139953613281\n",
      "Total time for mesh mapping: 0.0004391670227050781\n",
      "Total time for mesh mapping: 0.0006587505340576172\n",
      "Total time for mesh mapping: 0.00042176246643066406\n",
      "Total time for mesh mapping: 0.00040149688720703125\n",
      "Total time for mesh mapping: 0.00044465065002441406\n",
      "Total time for mesh mapping: 0.0004277229309082031\n",
      "Total time for mesh mapping: 0.0006546974182128906\n",
      "Total time for mesh mapping: 0.0005338191986083984\n",
      "Total time for mesh mapping: 0.00044608116149902344\n",
      "Total time for mesh mapping: 0.0005357265472412109\n",
      "Total time for mesh mapping: 0.0005249977111816406\n",
      "Total time for mesh mapping: 0.0007028579711914062\n",
      "Total time for mesh mapping: 0.0004992485046386719\n",
      "Total time for mesh mapping: 0.0005707740783691406\n",
      "Total time for mesh mapping: 0.0004951953887939453\n",
      "Total time for mesh mapping: 0.0007410049438476562\n",
      "Total time for mesh mapping: 0.0005323886871337891\n",
      "Total time for mesh mapping: 0.0005109310150146484\n",
      "Total time for mesh mapping: 0.0005295276641845703\n",
      "Total time for mesh mapping: 0.0004837512969970703\n",
      "Total time for mesh mapping: 0.0006425380706787109\n",
      "Total time for mesh mapping: 0.0005958080291748047\n",
      "Total time for mesh mapping: 0.00043773651123046875\n",
      "Total time for mesh mapping: 0.0005879402160644531\n",
      "Total time for mesh mapping: 0.0004248619079589844\n",
      "Total time for mesh mapping: 0.0004973411560058594\n",
      "Total time for mesh mapping: 0.00041866302490234375\n",
      "Total time for mesh mapping: 0.00043463706970214844\n",
      "Total time for mesh mapping: 0.0005059242248535156\n",
      "Total time for mesh mapping: 0.0004889965057373047\n",
      "Total time for mesh mapping: 0.0004379749298095703\n",
      "Total time for mesh mapping: 0.0005130767822265625\n",
      "Total time for mesh mapping: 0.000652313232421875\n",
      "Total time for mesh mapping: 0.0006053447723388672\n",
      "Total time for mesh mapping: 0.0009894371032714844\n",
      "Total time for mesh mapping: 0.0009243488311767578\n",
      "Total time for mesh mapping: 0.0008461475372314453\n",
      "Total time for mesh mapping: 0.0007467269897460938\n",
      "Total time for mesh mapping: 0.00036644935607910156\n",
      "branch_touching_number = [66]\n",
      "Total time for mesh mapping: 0.0006377696990966797\n",
      "Total time for mesh mapping: 0.0004878044128417969\n",
      "Total time for mesh mapping: 0.001367330551147461\n",
      "Total time for mesh mapping: 0.0006601810455322266\n",
      "Total time for mesh mapping: 0.00047779083251953125\n",
      "Total time for mesh mapping: 0.0006308555603027344\n",
      "Total time for mesh mapping: 0.0009620189666748047\n",
      "Total time for mesh mapping: 0.0006113052368164062\n",
      "Total time for mesh mapping: 0.0006644725799560547\n",
      "Total time for mesh mapping: 0.0004887580871582031\n",
      "Total time for mesh mapping: 0.0007853507995605469\n",
      "Total time for mesh mapping: 0.0005488395690917969\n",
      "Total time for mesh mapping: 0.0007810592651367188\n",
      "Total time for mesh mapping: 0.00046753883361816406\n",
      "Total time for mesh mapping: 0.00037360191345214844\n",
      "Total time for mesh mapping: 0.0004096031188964844\n",
      "Total time for mesh mapping: 0.0004642009735107422\n",
      "Total time for mesh mapping: 0.0005817413330078125\n",
      "Total time for mesh mapping: 0.0005524158477783203\n",
      "Total time for mesh mapping: 0.0005910396575927734\n",
      "Total time for mesh mapping: 0.0005342960357666016\n",
      "Total time for mesh mapping: 0.0004596710205078125\n",
      "Total time for mesh mapping: 0.0004439353942871094\n",
      "Total time for mesh mapping: 0.00034117698669433594\n",
      "Total time for mesh mapping: 0.0003597736358642578\n",
      "Total time for mesh mapping: 0.0005495548248291016\n",
      "Total time for mesh mapping: 0.0006835460662841797\n",
      "Total time for mesh mapping: 0.0004069805145263672\n",
      "Total time for mesh mapping: 0.0003962516784667969\n",
      "Total time for mesh mapping: 0.0003504753112792969\n",
      "Total time for mesh mapping: 0.0005311965942382812\n",
      "Total time for mesh mapping: 0.00032806396484375\n",
      "Total time for mesh mapping: 0.00031065940856933594\n",
      "Total time for mesh mapping: 0.00034546852111816406\n",
      "Total time for mesh mapping: 0.0003485679626464844\n",
      "Total time for mesh mapping: 0.0004057884216308594\n",
      "Total time for mesh mapping: 0.0005946159362792969\n",
      "Total time for mesh mapping: 0.0003571510314941406\n",
      "Total time for mesh mapping: 0.00042939186096191406\n",
      "Total time for mesh mapping: 0.0004105567932128906\n",
      "Total time for mesh mapping: 0.0005872249603271484\n",
      "Total time for mesh mapping: 0.00039267539978027344\n",
      "Total time for mesh mapping: 0.0004525184631347656\n",
      "Total time for mesh mapping: 0.0034286975860595703\n",
      "Total time for mesh mapping: 0.0027565956115722656\n",
      "Total time for mesh mapping: 0.0007326602935791016\n",
      "Total time for mesh mapping: 0.0004017353057861328\n",
      "Total time for mesh mapping: 0.000431060791015625\n",
      "Total time for mesh mapping: 0.00039505958557128906\n",
      "Total time for mesh mapping: 0.00048041343688964844\n",
      "Total time for mesh mapping: 0.00048279762268066406\n",
      "Total time for mesh mapping: 0.00034117698669433594\n",
      "Total time for mesh mapping: 0.00036907196044921875\n",
      "Total time for mesh mapping: 0.0003407001495361328\n",
      "Total time for mesh mapping: 0.00042128562927246094\n",
      "Total time for mesh mapping: 0.0003287792205810547\n",
      "Total time for mesh mapping: 0.0003612041473388672\n",
      "Total time for mesh mapping: 0.0003795623779296875\n",
      "Total time for mesh mapping: 0.0003685951232910156\n",
      "Total time for mesh mapping: 0.0003478527069091797\n",
      "Total time for mesh mapping: 0.00042366981506347656\n",
      "Total time for mesh mapping: 0.00040912628173828125\n",
      "Total time for mesh mapping: 0.0006477832794189453\n",
      "Total time for mesh mapping: 0.0008747577667236328\n",
      "Total time for mesh mapping: 0.0007889270782470703\n",
      "Total time for mesh mapping: 0.0006909370422363281\n",
      "Total time for mesh mapping: 0.0005943775177001953\n",
      "Total time for mesh mapping: 0.0002999305725097656\n",
      "branch_touching_number = [66, 1]\n",
      "most_branch_containing_piece = 0\n"
     ]
    },
    {
     "data": {
      "application/vnd.jupyter.widget-view+json": {
       "model_id": "575978587ca04b198f39239cd7179299",
       "version_major": 2,
       "version_minor": 0
      },
      "text/plain": [
       "HBox(children=(FloatProgress(value=1.0, bar_style='info', max=1.0), HTML(value='')))"
      ]
     },
     "metadata": {},
     "output_type": "display_data"
    },
    {
     "name": "stdout",
     "output_type": "stream",
     "text": [
      "\n",
      "filtered_measurements = [175.43727403 520.64021279 448.28498384 301.48152345 516.6779683\n",
      " 430.06557909 545.07744561 289.39718223 351.71254841 504.95135336\n",
      " 413.02096982 572.41862493 384.54362887 620.41810383 641.37835655]\n",
      "new_threshold = 1405.5977583961126\n"
     ]
    },
    {
     "data": {
      "application/vnd.jupyter.widget-view+json": {
       "model_id": "001d6233c84b42f082a0a0b51a16febe",
       "version_major": 2,
       "version_minor": 0
      },
      "text/plain": [
       "HBox(children=(FloatProgress(value=1.0, bar_style='info', max=1.0), HTML(value='')))"
      ]
     },
     "metadata": {},
     "output_type": "display_data"
    },
    {
     "name": "stdout",
     "output_type": "stream",
     "text": [
      "\n"
     ]
    },
    {
     "data": {
      "application/vnd.jupyter.widget-view+json": {
       "model_id": "f79f6260b4a3402594fc6d9324d27e7e",
       "version_major": 2,
       "version_minor": 0
      },
      "text/plain": [
       "HBox(children=(FloatProgress(value=1.0, bar_style='info', max=1.0), HTML(value='')))"
      ]
     },
     "metadata": {},
     "output_type": "display_data"
    },
    {
     "name": "stdout",
     "output_type": "stream",
     "text": [
      "--> Not exactly one containing mesh: []\n",
      "--> Not exactly one containing mesh: []\n",
      "\n",
      "filtered_measurements = [ 78.83647622  92.93318717  78.52256826  63.89569272  76.68690514\n",
      "  75.42728982 103.9326561  122.82807534  84.65704795  76.57583145\n",
      " 105.26014779 133.10336085 122.89690116  87.84652796  78.46905736\n",
      " 116.09431682 137.06514603  88.28344295  92.68157117  70.37591181]\n",
      "new_threshold = 319.0580467601316\n"
     ]
    },
    {
     "data": {
      "application/vnd.jupyter.widget-view+json": {
       "model_id": "7239792c96a24963908d12d0a74f564f",
       "version_major": 2,
       "version_minor": 0
      },
      "text/plain": [
       "HBox(children=(FloatProgress(value=1.0, bar_style='info', max=1.0), HTML(value='')))"
      ]
     },
     "metadata": {},
     "output_type": "display_data"
    },
    {
     "name": "stdout",
     "output_type": "stream",
     "text": [
      "--> Not exactly one containing mesh: []\n",
      "--> Not exactly one containing mesh: []\n",
      "\n"
     ]
    },
    {
     "data": {
      "application/vnd.jupyter.widget-view+json": {
       "model_id": "1ae865a14148422daf23aaee1416f322",
       "version_major": 2,
       "version_minor": 0
      },
      "text/plain": [
       "HBox(children=(FloatProgress(value=1.0, bar_style='info', max=1.0), HTML(value='')))"
      ]
     },
     "metadata": {},
     "output_type": "display_data"
    },
    {
     "name": "stdout",
     "output_type": "stream",
     "text": [
      "--> Not exactly one containing mesh: []\n",
      "\n",
      "filtered_measurements = [262.58255504 278.86879569 311.87173738 299.68869612 547.17137168\n",
      " 603.73947821 342.10204676 268.56971601 191.04335127 548.88625144\n",
      " 467.33280683 429.34024247 398.59058444 434.53850601 388.6249758\n",
      " 419.73976458 436.49447748 622.87252538 550.25958987 396.88586139\n",
      " 382.75377633 239.93783109 505.26874462 340.05771278 300.5817613\n",
      " 398.10310768 504.35234324 466.84999239 285.85997962 569.10805485\n",
      " 309.39016678 292.45786411 295.16837576 453.89445646 426.71586367\n",
      " 339.74577866 576.85386763]\n",
      "new_threshold = 1700.8260725067025\n"
     ]
    },
    {
     "data": {
      "application/vnd.jupyter.widget-view+json": {
       "model_id": "f36b1ed1e9bd49b3918dec381dd2b1bc",
       "version_major": 2,
       "version_minor": 0
      },
      "text/plain": [
       "HBox(children=(FloatProgress(value=1.0, bar_style='info', max=1.0), HTML(value='')))"
      ]
     },
     "metadata": {},
     "output_type": "display_data"
    },
    {
     "name": "stdout",
     "output_type": "stream",
     "text": [
      "--> Not exactly one containing mesh: []\n",
      "\n"
     ]
    },
    {
     "data": {
      "application/vnd.jupyter.widget-view+json": {
       "model_id": "0642b821e6cc4bcab104ddfa34261fcc",
       "version_major": 2,
       "version_minor": 0
      },
      "text/plain": [
       "HBox(children=(FloatProgress(value=1.0, bar_style='info', max=1.0), HTML(value='')))"
      ]
     },
     "metadata": {},
     "output_type": "display_data"
    },
    {
     "name": "stdout",
     "output_type": "stream",
     "text": [
      "--> Not exactly one containing mesh: [0 1]\n",
      "--> Not exactly one containing mesh: [0 1]\n",
      "\n",
      "filtered_measurements = [120.24270781 136.23301381 125.74794929 107.44579176  59.43143067\n",
      " 113.05293602 118.08363192  96.84026177]\n",
      "new_threshold = 274.45327892938656\n"
     ]
    },
    {
     "data": {
      "application/vnd.jupyter.widget-view+json": {
       "model_id": "8efa96a798c745ed87f82787969f4bbf",
       "version_major": 2,
       "version_minor": 0
      },
      "text/plain": [
       "HBox(children=(FloatProgress(value=1.0, bar_style='info', max=1.0), HTML(value='')))"
      ]
     },
     "metadata": {},
     "output_type": "display_data"
    },
    {
     "name": "stdout",
     "output_type": "stream",
     "text": [
      "--> Not exactly one containing mesh: []\n",
      "\n",
      "Total time for mesh mapping: 0.00041866302490234375\n",
      "Total time for mesh mapping: 0.0002148151397705078\n",
      "Total time for mesh mapping: 0.0002193450927734375\n",
      "Total time for mesh mapping: 0.0002071857452392578\n",
      "Total time for mesh mapping: 0.0002181529998779297\n",
      "Total time for mesh mapping: 0.00019693374633789062\n",
      "Total time for mesh mapping: 0.00019788742065429688\n",
      "Total time for mesh mapping: 0.0002002716064453125\n",
      "Total time for mesh mapping: 0.00019812583923339844\n",
      "Total time for mesh mapping: 0.00021123886108398438\n",
      "Total time for mesh mapping: 0.00019288063049316406\n",
      "branch_touching_number = [9]\n",
      "Total time for mesh mapping: 0.002320528030395508\n",
      "Total time for mesh mapping: 0.0002334117889404297\n",
      "Total time for mesh mapping: 0.0002288818359375\n",
      "Total time for mesh mapping: 0.0004031658172607422\n",
      "Total time for mesh mapping: 0.00028014183044433594\n",
      "Total time for mesh mapping: 0.0002682209014892578\n",
      "Total time for mesh mapping: 0.00026988983154296875\n",
      "Total time for mesh mapping: 0.0002684593200683594\n",
      "Total time for mesh mapping: 0.00027298927307128906\n",
      "Total time for mesh mapping: 0.0002658367156982422\n",
      "Total time for mesh mapping: 0.00023508071899414062\n",
      "branch_touching_number = [9, 1]\n",
      "most_branch_containing_piece = 0\n"
     ]
    },
    {
     "data": {
      "application/vnd.jupyter.widget-view+json": {
       "model_id": "93fcca5d2f66458eab1d2d10e2460eda",
       "version_major": 2,
       "version_minor": 0
      },
      "text/plain": [
       "HBox(children=(FloatProgress(value=1.0, bar_style='info', max=1.0), HTML(value='')))"
      ]
     },
     "metadata": {},
     "output_type": "display_data"
    },
    {
     "name": "stdout",
     "output_type": "stream",
     "text": [
      "\n",
      "filtered_measurements = [521.35897542 599.98572753 509.98962875 576.84236494 474.87775775\n",
      " 408.04879428 314.76688123 275.1307821  288.17080495 446.66743993\n",
      " 325.46514803 483.72578287 311.83734174 333.60933379 314.14363441]\n",
      "new_threshold = 1301.2972333331868\n"
     ]
    },
    {
     "data": {
      "application/vnd.jupyter.widget-view+json": {
       "model_id": "ec1059d3431b4c9888c32209fbae9ccf",
       "version_major": 2,
       "version_minor": 0
      },
      "text/plain": [
       "HBox(children=(FloatProgress(value=1.0, bar_style='info', max=1.0), HTML(value='')))"
      ]
     },
     "metadata": {},
     "output_type": "display_data"
    },
    {
     "name": "stdout",
     "output_type": "stream",
     "text": [
      "\n"
     ]
    },
    {
     "data": {
      "application/vnd.jupyter.widget-view+json": {
       "model_id": "f2c03e268c364d7aa471c2ccc7ddb863",
       "version_major": 2,
       "version_minor": 0
      },
      "text/plain": [
       "HBox(children=(FloatProgress(value=1.0, bar_style='info', max=1.0), HTML(value='')))"
      ]
     },
     "metadata": {},
     "output_type": "display_data"
    },
    {
     "name": "stdout",
     "output_type": "stream",
     "text": [
      "\n",
      "filtered_measurements = [ 86.05970959  74.31525783  92.34454654 105.61986474  91.68892969\n",
      "  99.8551834  132.79767554 121.26959288 154.92414384 100.14186386\n",
      " 126.64647163 111.44127347 141.62758119]\n",
      "new_threshold = 300.9572939482382\n"
     ]
    },
    {
     "data": {
      "application/vnd.jupyter.widget-view+json": {
       "model_id": "cce217a678f84e93a322f8a45381766c",
       "version_major": 2,
       "version_minor": 0
      },
      "text/plain": [
       "HBox(children=(FloatProgress(value=1.0, bar_style='info', max=1.0), HTML(value='')))"
      ]
     },
     "metadata": {},
     "output_type": "display_data"
    },
    {
     "name": "stdout",
     "output_type": "stream",
     "text": [
      "\n"
     ]
    },
    {
     "data": {
      "application/vnd.jupyter.widget-view+json": {
       "model_id": "ffcf0dc94b414334a95095cfc22a6439",
       "version_major": 2,
       "version_minor": 0
      },
      "text/plain": [
       "HBox(children=(FloatProgress(value=1.0, bar_style='info', max=1.0), HTML(value='')))"
      ]
     },
     "metadata": {},
     "output_type": "display_data"
    },
    {
     "name": "stdout",
     "output_type": "stream",
     "text": [
      "--> Not exactly one containing mesh: []\n",
      "\n",
      "filtered_measurements = [112.08137948  98.66353645  72.22164801  82.39931276  82.15424668]\n",
      "new_threshold = 212.09350822272194\n"
     ]
    },
    {
     "data": {
      "application/vnd.jupyter.widget-view+json": {
       "model_id": "7973ac3a438d45509cf4c0f5ab7dd645",
       "version_major": 2,
       "version_minor": 0
      },
      "text/plain": [
       "HBox(children=(FloatProgress(value=1.0, bar_style='info', max=1.0), HTML(value='')))"
      ]
     },
     "metadata": {},
     "output_type": "display_data"
    },
    {
     "name": "stdout",
     "output_type": "stream",
     "text": [
      "--> Not exactly one containing mesh: []\n",
      "\n"
     ]
    },
    {
     "data": {
      "application/vnd.jupyter.widget-view+json": {
       "model_id": "ed706cbcff544a528c4f4ceb6f538d4f",
       "version_major": 2,
       "version_minor": 0
      },
      "text/plain": [
       "HBox(children=(FloatProgress(value=1.0, bar_style='info', max=1.0), HTML(value='')))"
      ]
     },
     "metadata": {},
     "output_type": "display_data"
    },
    {
     "name": "stdout",
     "output_type": "stream",
     "text": [
      "--> Not exactly one containing mesh: []\n",
      "\n",
      "filtered_measurements = [120.57705875 113.05803938  73.63797592  88.70765527]\n",
      "new_threshold = 262.5594187726829\n"
     ]
    },
    {
     "data": {
      "application/vnd.jupyter.widget-view+json": {
       "model_id": "1ab98bc0d0614a828fdf0835403d87d9",
       "version_major": 2,
       "version_minor": 0
      },
      "text/plain": [
       "HBox(children=(FloatProgress(value=1.0, bar_style='info', max=1.0), HTML(value='')))"
      ]
     },
     "metadata": {},
     "output_type": "display_data"
    },
    {
     "name": "stdout",
     "output_type": "stream",
     "text": [
      "--> Not exactly one containing mesh: []\n",
      "\n"
     ]
    },
    {
     "data": {
      "application/vnd.jupyter.widget-view+json": {
       "model_id": "5ebeb09929e44057b4a0bf3fe17b88ff",
       "version_major": 2,
       "version_minor": 0
      },
      "text/plain": [
       "HBox(children=(FloatProgress(value=1.0, bar_style='info', max=1.0), HTML(value='')))"
      ]
     },
     "metadata": {},
     "output_type": "display_data"
    },
    {
     "name": "stdout",
     "output_type": "stream",
     "text": [
      "--> Not exactly one containing mesh: []\n",
      "--> Not exactly one containing mesh: []\n",
      "\n",
      "Total time for mesh mapping: 0.0060901641845703125\n",
      "Total time for mesh mapping: 0.00919198989868164\n",
      "Total time for mesh mapping: 0.011148929595947266\n",
      "Total time for mesh mapping: 0.003527402877807617\n",
      "Total time for mesh mapping: 0.00021314620971679688\n",
      "Total time for mesh mapping: 0.00026226043701171875\n",
      "Total time for mesh mapping: 0.0003333091735839844\n",
      "Total time for mesh mapping: 0.000202178955078125\n",
      "Total time for mesh mapping: 0.00020647048950195312\n",
      "Total time for mesh mapping: 0.000209808349609375\n",
      "Total time for mesh mapping: 0.000278472900390625\n",
      "Total time for mesh mapping: 0.00021123886108398438\n",
      "Total time for mesh mapping: 0.000217437744140625\n",
      "Total time for mesh mapping: 0.0002493858337402344\n",
      "Total time for mesh mapping: 0.0002815723419189453\n",
      "Total time for mesh mapping: 0.0002219676971435547\n",
      "Total time for mesh mapping: 0.0002193450927734375\n",
      "Total time for mesh mapping: 0.00022172927856445312\n",
      "branch_touching_number = [15]\n",
      "Total time for mesh mapping: 0.0003528594970703125\n",
      "Total time for mesh mapping: 0.0001373291015625\n",
      "Total time for mesh mapping: 0.0001304149627685547\n",
      "Total time for mesh mapping: 0.00013136863708496094\n",
      "Total time for mesh mapping: 0.0001304149627685547\n",
      "Total time for mesh mapping: 0.00027441978454589844\n",
      "Total time for mesh mapping: 0.00012874603271484375\n",
      "Total time for mesh mapping: 0.0001316070556640625\n",
      "Total time for mesh mapping: 0.0001366138458251953\n",
      "Total time for mesh mapping: 0.00013947486877441406\n",
      "Total time for mesh mapping: 0.00017023086547851562\n",
      "Total time for mesh mapping: 0.00013399124145507812\n",
      "Total time for mesh mapping: 0.00013518333435058594\n",
      "Total time for mesh mapping: 0.0001494884490966797\n",
      "Total time for mesh mapping: 0.0002892017364501953\n",
      "Total time for mesh mapping: 0.0001380443572998047\n",
      "Total time for mesh mapping: 0.00013780593872070312\n",
      "Total time for mesh mapping: 0.00013899803161621094\n",
      "branch_touching_number = [15, 2]\n",
      "most_branch_containing_piece = 0\n",
      "filtered_measurements = [ 61.38812661  69.69977913  73.8432944   57.96374418  53.65095206\n",
      "  67.61510991  67.84784469 100.94285442 145.3619069 ]\n",
      "new_threshold = 280.08367761342845\n"
     ]
    },
    {
     "data": {
      "application/vnd.jupyter.widget-view+json": {
       "model_id": "92103ff50eed40759c1aa12dab3aef65",
       "version_major": 2,
       "version_minor": 0
      },
      "text/plain": [
       "HBox(children=(FloatProgress(value=1.0, bar_style='info', max=1.0), HTML(value='')))"
      ]
     },
     "metadata": {},
     "output_type": "display_data"
    },
    {
     "name": "stdout",
     "output_type": "stream",
     "text": [
      "--> Not exactly one containing mesh: []\n",
      "--> Not exactly one containing mesh: []\n",
      "THERE WERE NO FACES THAT FIT THE DISTANCE (280.08367761342845) and Z transform requirements\n",
      "So just skipping this edge\n",
      "THERE WERE NO FACES THAT FIT THE DISTANCE (280.08367761342845) and Z transform requirements\n",
      "So just skipping this edge\n",
      "\n"
     ]
    },
    {
     "data": {
      "application/vnd.jupyter.widget-view+json": {
       "model_id": "bfd1248920934e4e98820fe8a5a8aa75",
       "version_major": 2,
       "version_minor": 0
      },
      "text/plain": [
       "HBox(children=(FloatProgress(value=1.0, bar_style='info', max=1.0), HTML(value='')))"
      ]
     },
     "metadata": {},
     "output_type": "display_data"
    },
    {
     "name": "stdout",
     "output_type": "stream",
     "text": [
      "\n",
      "filtered_measurements = [552.51037736 550.44247039 564.32784631 460.57687553 449.47360472\n",
      " 638.32948909 441.13265087 540.40606773 449.39239265 444.09384668\n",
      " 446.7751202  401.04550143 413.44947149 405.08047947 562.33150994\n",
      " 528.66352372 431.99306907 482.17310374 541.13235027 472.7170727\n",
      " 518.16565179]\n",
      "new_threshold = 1326.446010542525\n"
     ]
    },
    {
     "data": {
      "application/vnd.jupyter.widget-view+json": {
       "model_id": "fec8f8806843437d9c45becd214f4499",
       "version_major": 2,
       "version_minor": 0
      },
      "text/plain": [
       "HBox(children=(FloatProgress(value=1.0, bar_style='info', max=1.0), HTML(value='')))"
      ]
     },
     "metadata": {},
     "output_type": "display_data"
    },
    {
     "name": "stdout",
     "output_type": "stream",
     "text": [
      "\n"
     ]
    },
    {
     "data": {
      "application/vnd.jupyter.widget-view+json": {
       "model_id": "3797a4d300614649a44d45441be1d0f4",
       "version_major": 2,
       "version_minor": 0
      },
      "text/plain": [
       "HBox(children=(FloatProgress(value=1.0, bar_style='info', max=1.0), HTML(value='')))"
      ]
     },
     "metadata": {},
     "output_type": "display_data"
    },
    {
     "name": "stdout",
     "output_type": "stream",
     "text": [
      "\n",
      "filtered_measurements = [224.76542954  46.68496166 217.84225791]\n",
      "new_threshold = 596.217267045795\n"
     ]
    },
    {
     "data": {
      "application/vnd.jupyter.widget-view+json": {
       "model_id": "159579a1a7bd47cea6cec6d2a2dcc84e",
       "version_major": 2,
       "version_minor": 0
      },
      "text/plain": [
       "HBox(children=(FloatProgress(value=1.0, bar_style='info', max=1.0), HTML(value='')))"
      ]
     },
     "metadata": {},
     "output_type": "display_data"
    },
    {
     "name": "stdout",
     "output_type": "stream",
     "text": [
      "\n"
     ]
    },
    {
     "data": {
      "application/vnd.jupyter.widget-view+json": {
       "model_id": "4a28d5b805634f18bdc497b208e9c864",
       "version_major": 2,
       "version_minor": 0
      },
      "text/plain": [
       "HBox(children=(FloatProgress(value=1.0, bar_style='info', max=1.0), HTML(value='')))"
      ]
     },
     "metadata": {},
     "output_type": "display_data"
    },
    {
     "name": "stdout",
     "output_type": "stream",
     "text": [
      "--> Not exactly one containing mesh: []\n",
      "\n",
      "filtered_measurements = [374.96843493  79.85577714 125.86331504]\n",
      "new_threshold = 582.3633570420742\n"
     ]
    },
    {
     "data": {
      "application/vnd.jupyter.widget-view+json": {
       "model_id": "e397e661c6464f8b8c067c6c5568aaea",
       "version_major": 2,
       "version_minor": 0
      },
      "text/plain": [
       "HBox(children=(FloatProgress(value=1.0, bar_style='info', max=1.0), HTML(value='')))"
      ]
     },
     "metadata": {},
     "output_type": "display_data"
    },
    {
     "name": "stdout",
     "output_type": "stream",
     "text": [
      "--> Not exactly one containing mesh: []\n",
      "\n"
     ]
    },
    {
     "data": {
      "application/vnd.jupyter.widget-view+json": {
       "model_id": "2cf644aac37a43e4bc60b138a51562f4",
       "version_major": 2,
       "version_minor": 0
      },
      "text/plain": [
       "HBox(children=(FloatProgress(value=1.0, bar_style='info', max=1.0), HTML(value='')))"
      ]
     },
     "metadata": {},
     "output_type": "display_data"
    },
    {
     "name": "stdout",
     "output_type": "stream",
     "text": [
      "\n",
      "filtered_measurements = [97.77830491 85.78373508 85.27985578]\n",
      "new_threshold = 206.4171307868981\n"
     ]
    },
    {
     "data": {
      "application/vnd.jupyter.widget-view+json": {
       "model_id": "f599931fad4a4e168df8f65700c99600",
       "version_major": 2,
       "version_minor": 0
      },
      "text/plain": [
       "HBox(children=(FloatProgress(value=1.0, bar_style='info', max=1.0), HTML(value='')))"
      ]
     },
     "metadata": {},
     "output_type": "display_data"
    },
    {
     "name": "stdout",
     "output_type": "stream",
     "text": [
      "\n"
     ]
    },
    {
     "data": {
      "application/vnd.jupyter.widget-view+json": {
       "model_id": "86968152531b469dadfee13b41fb2565",
       "version_major": 2,
       "version_minor": 0
      },
      "text/plain": [
       "HBox(children=(FloatProgress(value=1.0, bar_style='info', max=1.0), HTML(value='')))"
      ]
     },
     "metadata": {},
     "output_type": "display_data"
    },
    {
     "name": "stdout",
     "output_type": "stream",
     "text": [
      "--> Not exactly one containing mesh: []\n",
      "--> Not exactly one containing mesh: []\n",
      "--> Not exactly one containing mesh: []\n",
      "\n",
      "Total time for mesh mapping: 0.005936384201049805\n",
      "Total time for mesh mapping: 0.011399507522583008\n",
      "Total time for mesh mapping: 0.011708736419677734\n",
      "Total time for mesh mapping: 0.007460832595825195\n",
      "Total time for mesh mapping: 0.008681774139404297\n",
      "Total time for mesh mapping: 0.001615762710571289\n",
      "Total time for mesh mapping: 0.004137516021728516\n",
      "Total time for mesh mapping: 0.0017910003662109375\n",
      "Total time for mesh mapping: 0.0027310848236083984\n",
      "Total time for mesh mapping: 0.00020456314086914062\n",
      "Total time for mesh mapping: 0.00018596649169921875\n",
      "branch_touching_number = [4]\n",
      "Total time for mesh mapping: 0.001861572265625\n",
      "Total time for mesh mapping: 0.000362396240234375\n",
      "Total time for mesh mapping: 0.00016069412231445312\n",
      "Total time for mesh mapping: 0.00017976760864257812\n",
      "Total time for mesh mapping: 0.0001533031463623047\n",
      "Total time for mesh mapping: 0.00015497207641601562\n",
      "Total time for mesh mapping: 0.00013375282287597656\n",
      "Total time for mesh mapping: 0.00012922286987304688\n",
      "Total time for mesh mapping: 0.00012803077697753906\n",
      "Total time for mesh mapping: 0.00012731552124023438\n",
      "Total time for mesh mapping: 0.0001232624053955078\n",
      "branch_touching_number = [4, 6]\n",
      "most_branch_containing_piece = 1\n",
      "filtered_measurements = [184.08125271  80.14791428  74.5491059   74.36205705  60.91499427]\n",
      "new_threshold = 424.7882237391233\n"
     ]
    },
    {
     "data": {
      "application/vnd.jupyter.widget-view+json": {
       "model_id": "86e17139ee0842738001095ca7c2d0f0",
       "version_major": 2,
       "version_minor": 0
      },
      "text/plain": [
       "HBox(children=(FloatProgress(value=1.0, bar_style='info', max=1.0), HTML(value='')))"
      ]
     },
     "metadata": {},
     "output_type": "display_data"
    },
    {
     "name": "stdout",
     "output_type": "stream",
     "text": [
      "THERE WERE NO FACES THAT FIT THE DISTANCE (424.7882237391233) and Z transform requirements\n",
      "So just skipping this edge\n",
      "THERE WERE NO FACES THAT FIT THE DISTANCE (424.7882237391233) and Z transform requirements\n",
      "So just skipping this edge\n",
      "THERE WERE NO FACES THAT FIT THE DISTANCE (424.7882237391233) and Z transform requirements\n",
      "So just skipping this edge\n",
      "THERE WERE NO FACES THAT FIT THE DISTANCE (424.7882237391233) and Z transform requirements\n",
      "So just skipping this edge\n",
      "--> Not exactly one containing mesh: []\n",
      "--> Not exactly one containing mesh: []\n",
      "\n"
     ]
    },
    {
     "data": {
      "application/vnd.jupyter.widget-view+json": {
       "model_id": "5dd6f0a6d34f4099abddb8cdc15e7595",
       "version_major": 2,
       "version_minor": 0
      },
      "text/plain": [
       "HBox(children=(FloatProgress(value=1.0, bar_style='info', max=1.0), HTML(value='')))"
      ]
     },
     "metadata": {},
     "output_type": "display_data"
    },
    {
     "name": "stdout",
     "output_type": "stream",
     "text": [
      "\n",
      "filtered_measurements = [1484.91398672]\n",
      "new_threshold = 3449.1856799677143\n"
     ]
    },
    {
     "data": {
      "application/vnd.jupyter.widget-view+json": {
       "model_id": "f8faef9024ac401aaa3d3ed96f1610e5",
       "version_major": 2,
       "version_minor": 0
      },
      "text/plain": [
       "HBox(children=(FloatProgress(value=1.0, bar_style='info', max=1.0), HTML(value='')))"
      ]
     },
     "metadata": {},
     "output_type": "display_data"
    },
    {
     "name": "stdout",
     "output_type": "stream",
     "text": [
      "\n"
     ]
    },
    {
     "data": {
      "application/vnd.jupyter.widget-view+json": {
       "model_id": "2a33753289094efd8629a32647b73628",
       "version_major": 2,
       "version_minor": 0
      },
      "text/plain": [
       "HBox(children=(FloatProgress(value=1.0, bar_style='info', max=1.0), HTML(value='')))"
      ]
     },
     "metadata": {},
     "output_type": "display_data"
    },
    {
     "name": "stdout",
     "output_type": "stream",
     "text": [
      "--> Not exactly one containing mesh: []\n",
      "\n",
      "Total time for mesh mapping: 0.007559299468994141\n",
      "Total time for mesh mapping: 0.008374929428100586\n",
      "Total time for mesh mapping: 0.008527278900146484\n",
      "Total time for mesh mapping: 0.004002809524536133\n",
      "Total time for mesh mapping: 0.0015225410461425781\n",
      "Total time for mesh mapping: 0.00023317337036132812\n",
      "Total time for mesh mapping: 0.00024127960205078125\n",
      "Total time for mesh mapping: 0.0002300739288330078\n",
      "Total time for mesh mapping: 0.00022912025451660156\n",
      "Total time for mesh mapping: 0.00024700164794921875\n",
      "Total time for mesh mapping: 0.00024890899658203125\n",
      "Total time for mesh mapping: 0.0003986358642578125\n",
      "Total time for mesh mapping: 0.00023865699768066406\n",
      "Total time for mesh mapping: 0.00024318695068359375\n",
      "Total time for mesh mapping: 0.0002465248107910156\n",
      "Total time for mesh mapping: 0.0005686283111572266\n",
      "Total time for mesh mapping: 0.0004973411560058594\n",
      "branch_touching_number = [2]\n",
      "Total time for mesh mapping: 0.0006415843963623047\n",
      "Total time for mesh mapping: 0.00019693374633789062\n",
      "Total time for mesh mapping: 0.00025177001953125\n",
      "Total time for mesh mapping: 0.003884553909301758\n",
      "Total time for mesh mapping: 0.00015306472778320312\n",
      "Total time for mesh mapping: 0.00016021728515625\n",
      "Total time for mesh mapping: 0.00016832351684570312\n",
      "Total time for mesh mapping: 0.00015234947204589844\n",
      "Total time for mesh mapping: 0.0001556873321533203\n",
      "Total time for mesh mapping: 0.00016951560974121094\n",
      "Total time for mesh mapping: 0.0001690387725830078\n",
      "Total time for mesh mapping: 0.0001914501190185547\n",
      "Total time for mesh mapping: 0.0001709461212158203\n",
      "Total time for mesh mapping: 0.0001761913299560547\n",
      "Total time for mesh mapping: 0.00017333030700683594\n",
      "Total time for mesh mapping: 0.00031876564025878906\n",
      "Total time for mesh mapping: 0.0002803802490234375\n",
      "branch_touching_number = [2, 14]\n",
      "most_branch_containing_piece = 1\n",
      "filtered_measurements = [144.5239128  114.71552128  88.75194351  91.78485647  98.2596289\n",
      " 112.04473917 113.13942657 128.71509979  75.73188082  69.78983648]\n",
      "new_threshold = 262.1778790680544\n"
     ]
    },
    {
     "data": {
      "application/vnd.jupyter.widget-view+json": {
       "model_id": "0a28b70fb9e947dd94e019e22b2c9123",
       "version_major": 2,
       "version_minor": 0
      },
      "text/plain": [
       "HBox(children=(FloatProgress(value=1.0, bar_style='info', max=1.0), HTML(value='')))"
      ]
     },
     "metadata": {},
     "output_type": "display_data"
    },
    {
     "name": "stdout",
     "output_type": "stream",
     "text": [
      "--> Not exactly one containing mesh: []\n",
      "--> Not exactly one containing mesh: []\n",
      "THERE WERE NO FACES THAT FIT THE DISTANCE (262.1778790680544) and Z transform requirements\n",
      "So just skipping this edge\n",
      "\n"
     ]
    },
    {
     "data": {
      "application/vnd.jupyter.widget-view+json": {
       "model_id": "7853dae7148c4646806b49fe8aedf857",
       "version_major": 2,
       "version_minor": 0
      },
      "text/plain": [
       "HBox(children=(FloatProgress(value=1.0, bar_style='info', max=1.0), HTML(value='')))"
      ]
     },
     "metadata": {},
     "output_type": "display_data"
    },
    {
     "name": "stdout",
     "output_type": "stream",
     "text": [
      "--> Not exactly one containing mesh: []\n",
      "\n",
      "Total time for mesh mapping: 0.0014581680297851562\n",
      "Total time for mesh mapping: 0.0004398822784423828\n",
      "Total time for mesh mapping: 0.00036835670471191406\n",
      "Total time for mesh mapping: 0.0002512931823730469\n",
      "Total time for mesh mapping: 0.0013127326965332031\n",
      "Total time for mesh mapping: 0.00023484230041503906\n",
      "Total time for mesh mapping: 0.00023937225341796875\n",
      "Total time for mesh mapping: 0.0002434253692626953\n",
      "Total time for mesh mapping: 0.00025725364685058594\n",
      "Total time for mesh mapping: 0.00026106834411621094\n",
      "Total time for mesh mapping: 0.00025391578674316406\n",
      "Total time for mesh mapping: 0.00023937225341796875\n",
      "Total time for mesh mapping: 0.0003726482391357422\n",
      "Total time for mesh mapping: 0.00024056434631347656\n",
      "Total time for mesh mapping: 0.00025391578674316406\n",
      "Total time for mesh mapping: 0.00025200843811035156\n",
      "Total time for mesh mapping: 0.0002505779266357422\n",
      "Total time for mesh mapping: 0.0002651214599609375\n",
      "Total time for mesh mapping: 0.0002789497375488281\n",
      "Total time for mesh mapping: 0.00024771690368652344\n",
      "Total time for mesh mapping: 0.0003762245178222656\n",
      "Total time for mesh mapping: 0.000240325927734375\n",
      "Total time for mesh mapping: 0.00024199485778808594\n",
      "Total time for mesh mapping: 0.0002415180206298828\n",
      "Total time for mesh mapping: 0.0002453327178955078\n",
      "Total time for mesh mapping: 0.00023889541625976562\n",
      "Total time for mesh mapping: 0.0002532005310058594\n",
      "Total time for mesh mapping: 0.00026416778564453125\n",
      "Total time for mesh mapping: 0.00039386749267578125\n",
      "Total time for mesh mapping: 0.0002384185791015625\n",
      "Total time for mesh mapping: 0.00024175643920898438\n",
      "Total time for mesh mapping: 0.000240325927734375\n",
      "Total time for mesh mapping: 0.0033311843872070312\n",
      "Total time for mesh mapping: 0.00026607513427734375\n",
      "Total time for mesh mapping: 0.00026917457580566406\n",
      "Total time for mesh mapping: 0.000247955322265625\n",
      "Total time for mesh mapping: 0.0002493858337402344\n",
      "Total time for mesh mapping: 0.0003199577331542969\n",
      "Total time for mesh mapping: 0.0003311634063720703\n",
      "Total time for mesh mapping: 0.0004334449768066406\n",
      "Total time for mesh mapping: 0.0002422332763671875\n",
      "Total time for mesh mapping: 0.0002453327178955078\n",
      "Total time for mesh mapping: 0.003208637237548828\n",
      "Total time for mesh mapping: 0.0016331672668457031\n",
      "Total time for mesh mapping: 0.0013113021850585938\n",
      "Total time for mesh mapping: 0.00026154518127441406\n",
      "Total time for mesh mapping: 0.00025153160095214844\n",
      "Total time for mesh mapping: 0.00025582313537597656\n",
      "Total time for mesh mapping: 0.00026535987854003906\n",
      "Total time for mesh mapping: 0.0002639293670654297\n",
      "Total time for mesh mapping: 0.0002472400665283203\n",
      "Total time for mesh mapping: 0.0002472400665283203\n",
      "Total time for mesh mapping: 0.0002865791320800781\n",
      "Total time for mesh mapping: 0.0003063678741455078\n",
      "Total time for mesh mapping: 0.0002739429473876953\n",
      "Total time for mesh mapping: 0.0002472400665283203\n",
      "Total time for mesh mapping: 0.00041174888610839844\n",
      "Total time for mesh mapping: 0.0002872943878173828\n",
      "Total time for mesh mapping: 0.000270843505859375\n",
      "Total time for mesh mapping: 0.0002472400665283203\n",
      "Total time for mesh mapping: 0.0002663135528564453\n",
      "Total time for mesh mapping: 0.00025963783264160156\n",
      "Total time for mesh mapping: 0.00024962425231933594\n",
      "Total time for mesh mapping: 0.00023055076599121094\n",
      "branch_touching_number = [62]\n",
      "Total time for mesh mapping: 0.0005691051483154297\n",
      "Total time for mesh mapping: 0.0003185272216796875\n",
      "Total time for mesh mapping: 0.00027561187744140625\n",
      "Total time for mesh mapping: 0.00017833709716796875\n",
      "Total time for mesh mapping: 0.00017023086547851562\n",
      "Total time for mesh mapping: 0.00035572052001953125\n",
      "Total time for mesh mapping: 0.0013377666473388672\n",
      "Total time for mesh mapping: 0.00020003318786621094\n",
      "Total time for mesh mapping: 0.0003509521484375\n",
      "Total time for mesh mapping: 0.00020933151245117188\n",
      "Total time for mesh mapping: 0.00019311904907226562\n",
      "Total time for mesh mapping: 0.00019240379333496094\n",
      "Total time for mesh mapping: 0.00019025802612304688\n",
      "Total time for mesh mapping: 0.00019502639770507812\n",
      "Total time for mesh mapping: 0.00019884109497070312\n",
      "Total time for mesh mapping: 0.00020051002502441406\n",
      "Total time for mesh mapping: 0.00019788742065429688\n",
      "Total time for mesh mapping: 0.00022149085998535156\n",
      "Total time for mesh mapping: 0.00024890899658203125\n",
      "Total time for mesh mapping: 0.00020456314086914062\n",
      "Total time for mesh mapping: 0.000186920166015625\n",
      "Total time for mesh mapping: 0.00018858909606933594\n",
      "Total time for mesh mapping: 0.00019621849060058594\n",
      "Total time for mesh mapping: 0.0001957416534423828\n",
      "Total time for mesh mapping: 0.00019812583923339844\n",
      "Total time for mesh mapping: 0.0003266334533691406\n",
      "Total time for mesh mapping: 0.00017952919006347656\n",
      "Total time for mesh mapping: 0.00019049644470214844\n",
      "Total time for mesh mapping: 0.000194549560546875\n",
      "Total time for mesh mapping: 0.00017642974853515625\n",
      "Total time for mesh mapping: 0.00017905235290527344\n",
      "Total time for mesh mapping: 0.00017690658569335938\n",
      "Total time for mesh mapping: 0.00017380714416503906\n",
      "Total time for mesh mapping: 0.0001747608184814453\n",
      "Total time for mesh mapping: 0.0003108978271484375\n",
      "Total time for mesh mapping: 0.00017642974853515625\n",
      "Total time for mesh mapping: 0.00017452239990234375\n",
      "Total time for mesh mapping: 0.0002288818359375\n",
      "Total time for mesh mapping: 0.0002269744873046875\n",
      "Total time for mesh mapping: 0.00017833709716796875\n",
      "Total time for mesh mapping: 0.0001690387725830078\n",
      "Total time for mesh mapping: 0.00017547607421875\n",
      "Total time for mesh mapping: 0.00022935867309570312\n",
      "Total time for mesh mapping: 0.00021004676818847656\n",
      "Total time for mesh mapping: 0.00019931793212890625\n",
      "Total time for mesh mapping: 0.0001842975616455078\n",
      "Total time for mesh mapping: 0.00017952919006347656\n",
      "Total time for mesh mapping: 0.0001804828643798828\n",
      "Total time for mesh mapping: 0.0001862049102783203\n",
      "Total time for mesh mapping: 0.00018310546875\n",
      "Total time for mesh mapping: 0.00017547607421875\n",
      "Total time for mesh mapping: 0.00032639503479003906\n",
      "Total time for mesh mapping: 0.0002143383026123047\n",
      "Total time for mesh mapping: 0.00021767616271972656\n",
      "Total time for mesh mapping: 0.00019168853759765625\n",
      "Total time for mesh mapping: 0.00017404556274414062\n",
      "Total time for mesh mapping: 0.00017642974853515625\n",
      "Total time for mesh mapping: 0.0002071857452392578\n",
      "Total time for mesh mapping: 0.00019311904907226562\n",
      "Total time for mesh mapping: 0.00017404556274414062\n",
      "Total time for mesh mapping: 0.00032210350036621094\n",
      "Total time for mesh mapping: 0.00020742416381835938\n",
      "Total time for mesh mapping: 0.00017952919006347656\n",
      "Total time for mesh mapping: 0.00016498565673828125\n",
      "branch_touching_number = [62, 1]\n",
      "most_branch_containing_piece = 0\n",
      "filtered_measurements = [142.10639827  85.12068103  94.84383834  66.42873119  80.71991575\n",
      "  75.96471197 114.540023    57.07494408  77.8452703   84.97081802\n",
      " 117.78486299 142.02882452 142.42191667  76.54202315 101.92814122\n",
      "  69.22175256  80.49864449  83.96804248 100.56948931 106.97414763\n",
      "  87.56432716 142.43148575  74.94599641  63.73010879  71.88474948\n",
      " 116.34360557  77.90511257  83.76467348 114.81241159  85.45571337\n",
      "  77.5421289   84.55924481  80.07909901  65.46324205  98.67476636\n",
      " 145.79995229 114.40510124  69.57313495  86.98912384 117.80240786\n",
      " 156.08521375  97.49773381 113.8996427  125.75170186 105.77359911\n",
      " 103.7386243  115.50468714 152.44298344 117.78072962 107.18519475]\n",
      "new_threshold = 343.81140663633397\n"
     ]
    },
    {
     "data": {
      "application/vnd.jupyter.widget-view+json": {
       "model_id": "1dab9345b07544e48ce63d7671a6e063",
       "version_major": 2,
       "version_minor": 0
      },
      "text/plain": [
       "HBox(children=(FloatProgress(value=1.0, bar_style='info', max=1.0), HTML(value='')))"
      ]
     },
     "metadata": {},
     "output_type": "display_data"
    },
    {
     "name": "stdout",
     "output_type": "stream",
     "text": [
      "--> Not exactly one containing mesh: []\n",
      "--> Not exactly one containing mesh: []\n",
      "\n"
     ]
    },
    {
     "data": {
      "application/vnd.jupyter.widget-view+json": {
       "model_id": "b8667b952c2c496989abd9ccdc51c209",
       "version_major": 2,
       "version_minor": 0
      },
      "text/plain": [
       "HBox(children=(FloatProgress(value=1.0, bar_style='info', max=1.0), HTML(value='')))"
      ]
     },
     "metadata": {},
     "output_type": "display_data"
    },
    {
     "name": "stdout",
     "output_type": "stream",
     "text": [
      "--> Not exactly one containing mesh: []\n",
      "\n",
      "filtered_measurements = [138.5723649  110.03671118 130.36260705  87.40910687 107.63114933\n",
      " 158.76297697 125.55963394 117.84771636 132.51971018 107.30258924\n",
      "  79.88877416  82.9322369 ]\n",
      "new_threshold = 323.7456233506009\n"
     ]
    },
    {
     "data": {
      "application/vnd.jupyter.widget-view+json": {
       "model_id": "bcca9539d8804999b648c59aa0a01c32",
       "version_major": 2,
       "version_minor": 0
      },
      "text/plain": [
       "HBox(children=(FloatProgress(value=1.0, bar_style='info', max=1.0), HTML(value='')))"
      ]
     },
     "metadata": {},
     "output_type": "display_data"
    },
    {
     "name": "stdout",
     "output_type": "stream",
     "text": [
      "--> Not exactly one containing mesh: []\n",
      "\n"
     ]
    },
    {
     "data": {
      "application/vnd.jupyter.widget-view+json": {
       "model_id": "20832262199649e49224a062a05d5c7f",
       "version_major": 2,
       "version_minor": 0
      },
      "text/plain": [
       "HBox(children=(FloatProgress(value=1.0, bar_style='info', max=1.0), HTML(value='')))"
      ]
     },
     "metadata": {},
     "output_type": "display_data"
    },
    {
     "name": "stdout",
     "output_type": "stream",
     "text": [
      "\n",
      "filtered_measurements = [701.11506016 767.59303798 800.56024657 857.38200077 692.24320718\n",
      " 669.31406042 610.10490256 622.03693916 813.16176113 649.46431409\n",
      " 722.06863141 681.28923941 734.03061133 629.76437834 616.59990783\n",
      " 633.05060664 677.60065103 647.22168621 655.22954104 655.2146867\n",
      " 615.76304458 636.10939844 640.34656061 683.0268126 ]\n",
      "new_threshold = 1725.7989740130351\n"
     ]
    },
    {
     "data": {
      "application/vnd.jupyter.widget-view+json": {
       "model_id": "39e473e165744434964bd6eb1ebc3cdb",
       "version_major": 2,
       "version_minor": 0
      },
      "text/plain": [
       "HBox(children=(FloatProgress(value=1.0, bar_style='info', max=1.0), HTML(value='')))"
      ]
     },
     "metadata": {},
     "output_type": "display_data"
    },
    {
     "name": "stdout",
     "output_type": "stream",
     "text": [
      "\n"
     ]
    },
    {
     "data": {
      "application/vnd.jupyter.widget-view+json": {
       "model_id": "53290ba839a24edcb85a94c11e24b68a",
       "version_major": 2,
       "version_minor": 0
      },
      "text/plain": [
       "HBox(children=(FloatProgress(value=1.0, bar_style='info', max=1.0), HTML(value='')))"
      ]
     },
     "metadata": {},
     "output_type": "display_data"
    },
    {
     "name": "stdout",
     "output_type": "stream",
     "text": [
      "\n",
      "filtered_measurements = [566.04517841 769.22738098 769.33745458 697.88287677 778.2585409 ]\n",
      "new_threshold = 1636.8812988395853\n"
     ]
    },
    {
     "data": {
      "application/vnd.jupyter.widget-view+json": {
       "model_id": "99d7aa15202149428009ff9f72d2f050",
       "version_major": 2,
       "version_minor": 0
      },
      "text/plain": [
       "HBox(children=(FloatProgress(value=1.0, bar_style='info', max=1.0), HTML(value='')))"
      ]
     },
     "metadata": {},
     "output_type": "display_data"
    },
    {
     "name": "stdout",
     "output_type": "stream",
     "text": [
      "\n"
     ]
    },
    {
     "data": {
      "application/vnd.jupyter.widget-view+json": {
       "model_id": "32dff55340ff4de29091dd3ad128c1cb",
       "version_major": 2,
       "version_minor": 0
      },
      "text/plain": [
       "HBox(children=(FloatProgress(value=1.0, bar_style='info', max=1.0), HTML(value='')))"
      ]
     },
     "metadata": {},
     "output_type": "display_data"
    },
    {
     "name": "stdout",
     "output_type": "stream",
     "text": [
      "\n",
      "filtered_measurements = [616.87208237 365.55780804 358.72343959 457.51278882 438.99614806\n",
      " 378.90357257]\n",
      "new_threshold = 1370.4488516003632\n"
     ]
    },
    {
     "data": {
      "application/vnd.jupyter.widget-view+json": {
       "model_id": "20a63600153f4a049168297ec61235f8",
       "version_major": 2,
       "version_minor": 0
      },
      "text/plain": [
       "HBox(children=(FloatProgress(value=1.0, bar_style='info', max=1.0), HTML(value='')))"
      ]
     },
     "metadata": {},
     "output_type": "display_data"
    },
    {
     "name": "stdout",
     "output_type": "stream",
     "text": [
      "\n"
     ]
    },
    {
     "data": {
      "application/vnd.jupyter.widget-view+json": {
       "model_id": "57990b824db6426b87f7dd6a52a60933",
       "version_major": 2,
       "version_minor": 0
      },
      "text/plain": [
       "HBox(children=(FloatProgress(value=1.0, bar_style='info', max=1.0), HTML(value='')))"
      ]
     },
     "metadata": {},
     "output_type": "display_data"
    },
    {
     "name": "stdout",
     "output_type": "stream",
     "text": [
      "\n",
      "filtered_measurements = [829.59165918]\n",
      "new_threshold = 1787.3297357709068\n"
     ]
    },
    {
     "data": {
      "application/vnd.jupyter.widget-view+json": {
       "model_id": "48521378ddca4eabad1bcf9ef9dc824d",
       "version_major": 2,
       "version_minor": 0
      },
      "text/plain": [
       "HBox(children=(FloatProgress(value=1.0, bar_style='info', max=1.0), HTML(value='')))"
      ]
     },
     "metadata": {},
     "output_type": "display_data"
    },
    {
     "name": "stdout",
     "output_type": "stream",
     "text": [
      "\n"
     ]
    },
    {
     "data": {
      "application/vnd.jupyter.widget-view+json": {
       "model_id": "cfdb32c3f6264c789e9f80686048c959",
       "version_major": 2,
       "version_minor": 0
      },
      "text/plain": [
       "HBox(children=(FloatProgress(value=1.0, bar_style='info', max=1.0), HTML(value='')))"
      ]
     },
     "metadata": {},
     "output_type": "display_data"
    },
    {
     "name": "stdout",
     "output_type": "stream",
     "text": [
      "\n",
      "filtered_measurements = [634.4769207  555.17582372 673.3792091  467.65001354 521.61560988\n",
      " 444.13205913 468.31919706 482.05863085 379.87771869 410.48341433\n",
      " 421.42028747 700.166371   388.44299612 388.78837781 663.84314127\n",
      " 385.94790404 593.71720853]\n",
      "new_threshold = 1581.2526294907416\n"
     ]
    },
    {
     "data": {
      "application/vnd.jupyter.widget-view+json": {
       "model_id": "8456f7b64038425c9320e99d5c5524ce",
       "version_major": 2,
       "version_minor": 0
      },
      "text/plain": [
       "HBox(children=(FloatProgress(value=1.0, bar_style='info', max=1.0), HTML(value='')))"
      ]
     },
     "metadata": {},
     "output_type": "display_data"
    },
    {
     "name": "stdout",
     "output_type": "stream",
     "text": [
      "\n"
     ]
    },
    {
     "data": {
      "application/vnd.jupyter.widget-view+json": {
       "model_id": "c943037851fb47dd88cf6018abf821aa",
       "version_major": 2,
       "version_minor": 0
      },
      "text/plain": [
       "HBox(children=(FloatProgress(value=1.0, bar_style='info', max=1.0), HTML(value='')))"
      ]
     },
     "metadata": {},
     "output_type": "display_data"
    },
    {
     "name": "stdout",
     "output_type": "stream",
     "text": [
      "--> Not exactly one containing mesh: []\n",
      "--> Not exactly one containing mesh: []\n",
      "--> Not exactly one containing mesh: []\n",
      "\n",
      "filtered_measurements = [248.71744192 346.50275382 178.52198482 184.3269913  238.43063516\n",
      " 269.62771996]\n",
      "new_threshold = 768.9193301079654\n"
     ]
    },
    {
     "data": {
      "application/vnd.jupyter.widget-view+json": {
       "model_id": "794e7284ef2946a79ba17608c5f95124",
       "version_major": 2,
       "version_minor": 0
      },
      "text/plain": [
       "HBox(children=(FloatProgress(value=1.0, bar_style='info', max=1.0), HTML(value='')))"
      ]
     },
     "metadata": {},
     "output_type": "display_data"
    },
    {
     "name": "stdout",
     "output_type": "stream",
     "text": [
      "--> Not exactly one containing mesh: []\n",
      "--> Not exactly one containing mesh: []\n",
      "--> Not exactly one containing mesh: []\n",
      "\n",
      "Total time for mesh mapping: 0.001958131790161133\n",
      "Total time for mesh mapping: 0.0003027915954589844\n",
      "Total time for mesh mapping: 0.00022864341735839844\n",
      "Total time for mesh mapping: 0.0002269744873046875\n",
      "Total time for mesh mapping: 0.0003941059112548828\n",
      "Total time for mesh mapping: 0.00024080276489257812\n",
      "Total time for mesh mapping: 0.00021839141845703125\n",
      "Total time for mesh mapping: 0.00021386146545410156\n",
      "Total time for mesh mapping: 0.0002372264862060547\n",
      "Total time for mesh mapping: 0.00023794174194335938\n",
      "Total time for mesh mapping: 0.00017881393432617188\n",
      "branch_touching_number = [9]\n",
      "Total time for mesh mapping: 0.0004658699035644531\n",
      "Total time for mesh mapping: 0.00019502639770507812\n",
      "Total time for mesh mapping: 0.000293731689453125\n",
      "Total time for mesh mapping: 0.00016045570373535156\n",
      "Total time for mesh mapping: 0.0004467964172363281\n",
      "Total time for mesh mapping: 0.00016355514526367188\n",
      "Total time for mesh mapping: 0.00015234947204589844\n",
      "Total time for mesh mapping: 0.00014328956604003906\n",
      "Total time for mesh mapping: 0.00016188621520996094\n",
      "Total time for mesh mapping: 0.000164031982421875\n",
      "Total time for mesh mapping: 0.00012922286987304688\n",
      "branch_touching_number = [9, 1]\n",
      "most_branch_containing_piece = 0\n"
     ]
    },
    {
     "data": {
      "application/vnd.jupyter.widget-view+json": {
       "model_id": "1b8fe699394647efb615223796e1a07f",
       "version_major": 2,
       "version_minor": 0
      },
      "text/plain": [
       "HBox(children=(FloatProgress(value=1.0, bar_style='info', max=1.0), HTML(value='')))"
      ]
     },
     "metadata": {},
     "output_type": "display_data"
    },
    {
     "name": "stdout",
     "output_type": "stream",
     "text": [
      "--> Not exactly one containing mesh: []\n",
      "\n",
      "filtered_measurements = [178.85786343  86.74876235  96.15097704 114.57619918]\n",
      "new_threshold = 410.15252635108294\n"
     ]
    },
    {
     "data": {
      "application/vnd.jupyter.widget-view+json": {
       "model_id": "05d20ca8b9db4acc9e6ef9bc55b2762c",
       "version_major": 2,
       "version_minor": 0
      },
      "text/plain": [
       "HBox(children=(FloatProgress(value=1.0, bar_style='info', max=1.0), HTML(value='')))"
      ]
     },
     "metadata": {},
     "output_type": "display_data"
    },
    {
     "name": "stdout",
     "output_type": "stream",
     "text": [
      "--> Not exactly one containing mesh: []\n",
      "--> Not exactly one containing mesh: []\n",
      "\n",
      "Total time for mesh mapping: 0.00046253204345703125\n",
      "Total time for mesh mapping: 0.00023484230041503906\n",
      "Total time for mesh mapping: 0.000217437744140625\n",
      "Total time for mesh mapping: 0.00020599365234375\n",
      "Total time for mesh mapping: 0.00030922889709472656\n",
      "Total time for mesh mapping: 0.00019979476928710938\n",
      "Total time for mesh mapping: 0.0002002716064453125\n",
      "Total time for mesh mapping: 0.00020003318786621094\n",
      "Total time for mesh mapping: 0.0002396106719970703\n",
      "Total time for mesh mapping: 0.00024056434631347656\n",
      "branch_touching_number = [7]\n",
      "Total time for mesh mapping: 0.0003826618194580078\n",
      "Total time for mesh mapping: 0.0001671314239501953\n",
      "Total time for mesh mapping: 0.00015473365783691406\n",
      "Total time for mesh mapping: 0.0002849102020263672\n",
      "Total time for mesh mapping: 0.00013256072998046875\n",
      "Total time for mesh mapping: 0.00015211105346679688\n",
      "Total time for mesh mapping: 0.0001430511474609375\n",
      "Total time for mesh mapping: 0.0001277923583984375\n",
      "Total time for mesh mapping: 0.00014662742614746094\n",
      "Total time for mesh mapping: 0.00016355514526367188\n",
      "branch_touching_number = [7, 2]\n",
      "most_branch_containing_piece = 0\n"
     ]
    },
    {
     "data": {
      "application/vnd.jupyter.widget-view+json": {
       "model_id": "b662da51b4624eefac987b5ff0a288ab",
       "version_major": 2,
       "version_minor": 0
      },
      "text/plain": [
       "HBox(children=(FloatProgress(value=1.0, bar_style='info', max=1.0), HTML(value='')))"
      ]
     },
     "metadata": {},
     "output_type": "display_data"
    },
    {
     "name": "stdout",
     "output_type": "stream",
     "text": [
      "\n",
      "filtered_measurements = [403.16306822 766.39530599 803.78060504 604.28429037 440.33719659\n",
      " 654.29050481 511.55580889 783.13851821 440.99505755 381.93608284\n",
      " 450.2343685  466.61555567 533.1817621  683.34213492 578.13846066\n",
      " 693.52727436 537.16697928 656.56162737 409.31192608 751.2749737\n",
      " 458.30244118 755.13240213 397.55705869 438.76370195 498.33201808\n",
      " 454.01917552 346.65820773 489.05985192]\n",
      "new_threshold = 1894.5233848874673\n"
     ]
    },
    {
     "data": {
      "application/vnd.jupyter.widget-view+json": {
       "model_id": "7f85518e761b4567b36469b075011a1e",
       "version_major": 2,
       "version_minor": 0
      },
      "text/plain": [
       "HBox(children=(FloatProgress(value=1.0, bar_style='info', max=1.0), HTML(value='')))"
      ]
     },
     "metadata": {},
     "output_type": "display_data"
    },
    {
     "name": "stdout",
     "output_type": "stream",
     "text": [
      "\n"
     ]
    },
    {
     "data": {
      "application/vnd.jupyter.widget-view+json": {
       "model_id": "5f86564128904cea89066ad33e6a2383",
       "version_major": 2,
       "version_minor": 0
      },
      "text/plain": [
       "HBox(children=(FloatProgress(value=1.0, bar_style='info', max=1.0), HTML(value='')))"
      ]
     },
     "metadata": {},
     "output_type": "display_data"
    },
    {
     "name": "stdout",
     "output_type": "stream",
     "text": [
      "--> Not exactly one containing mesh: []\n",
      "\n",
      "filtered_measurements = [128.81947244  70.40875916  97.13053169  76.45315546  92.04675423\n",
      " 122.02969524  89.98589084  91.60606688 101.86144481  96.01759108]\n",
      "new_threshold = 260.01423434149683\n"
     ]
    },
    {
     "data": {
      "application/vnd.jupyter.widget-view+json": {
       "model_id": "161ba370768d443c96919eddf64ed9a9",
       "version_major": 2,
       "version_minor": 0
      },
      "text/plain": [
       "HBox(children=(FloatProgress(value=1.0, bar_style='info', max=1.0), HTML(value='')))"
      ]
     },
     "metadata": {},
     "output_type": "display_data"
    },
    {
     "name": "stdout",
     "output_type": "stream",
     "text": [
      "--> Not exactly one containing mesh: []\n",
      "\n"
     ]
    },
    {
     "data": {
      "application/vnd.jupyter.widget-view+json": {
       "model_id": "67f24e6b178e4141b2409f780dace491",
       "version_major": 2,
       "version_minor": 0
      },
      "text/plain": [
       "HBox(children=(FloatProgress(value=1.0, bar_style='info', max=1.0), HTML(value='')))"
      ]
     },
     "metadata": {},
     "output_type": "display_data"
    },
    {
     "name": "stdout",
     "output_type": "stream",
     "text": [
      "--> Not exactly one containing mesh: []\n",
      "\n",
      "filtered_measurements = [121.74434276  78.81031978 135.94851072  79.0348197 ]\n",
      "new_threshold = 293.56881582318965\n"
     ]
    },
    {
     "data": {
      "application/vnd.jupyter.widget-view+json": {
       "model_id": "315b2ca7d4ef423fa81998bea2e7c0a5",
       "version_major": 2,
       "version_minor": 0
      },
      "text/plain": [
       "HBox(children=(FloatProgress(value=1.0, bar_style='info', max=1.0), HTML(value='')))"
      ]
     },
     "metadata": {},
     "output_type": "display_data"
    },
    {
     "name": "stdout",
     "output_type": "stream",
     "text": [
      "--> Not exactly one containing mesh: []\n",
      "\n"
     ]
    },
    {
     "data": {
      "application/vnd.jupyter.widget-view+json": {
       "model_id": "7dbd2616cdcc42e790e42b7e324e8384",
       "version_major": 2,
       "version_minor": 0
      },
      "text/plain": [
       "HBox(children=(FloatProgress(value=1.0, bar_style='info', max=1.0), HTML(value='')))"
      ]
     },
     "metadata": {},
     "output_type": "display_data"
    },
    {
     "name": "stdout",
     "output_type": "stream",
     "text": [
      "\n",
      "filtered_measurements = [1020.52582498 1148.21415289]\n",
      "new_threshold = 2981.1847002136146\n"
     ]
    },
    {
     "data": {
      "application/vnd.jupyter.widget-view+json": {
       "model_id": "3ca28482d1f84c588d7839748b1a6740",
       "version_major": 2,
       "version_minor": 0
      },
      "text/plain": [
       "HBox(children=(FloatProgress(value=1.0, bar_style='info', max=1.0), HTML(value='')))"
      ]
     },
     "metadata": {},
     "output_type": "display_data"
    },
    {
     "name": "stdout",
     "output_type": "stream",
     "text": [
      "\n"
     ]
    },
    {
     "data": {
      "application/vnd.jupyter.widget-view+json": {
       "model_id": "915d40ce05f949c2bea440a0dbcf53a2",
       "version_major": 2,
       "version_minor": 0
      },
      "text/plain": [
       "HBox(children=(FloatProgress(value=1.0, bar_style='info', max=1.0), HTML(value='')))"
      ]
     },
     "metadata": {},
     "output_type": "display_data"
    },
    {
     "name": "stdout",
     "output_type": "stream",
     "text": [
      "\n",
      "filtered_measurements = [486.22712768 360.58558501 598.10014475 332.23773412 530.23108171\n",
      " 503.7489763  323.28335111 388.28773978 423.06093505 367.6951633\n",
      " 294.29246084 480.06513749 531.87997132 685.72907895 591.94281159\n",
      " 411.17427471 454.03944194 397.43364828 469.66912929 367.97233026\n",
      " 532.08220282 653.06821814 470.01394932 479.84971951 485.6497658\n",
      " 273.46995742 269.28409542 234.59114138 316.12377361 574.9046916\n",
      " 480.52958213 280.63419489 387.37974585 577.81486481 444.92846512\n",
      " 453.0336331  262.33270634 303.20993922 321.53585726 323.06554783\n",
      " 559.13990568 647.93474794 463.01261654 601.9135619  399.43222\n",
      " 617.52499617 524.8312223  332.8466353  430.14320876]\n",
      "new_threshold = 1727.077834001013\n"
     ]
    },
    {
     "data": {
      "application/vnd.jupyter.widget-view+json": {
       "model_id": "e748d84170574460819fadfbc51aace6",
       "version_major": 2,
       "version_minor": 0
      },
      "text/plain": [
       "HBox(children=(FloatProgress(value=1.0, bar_style='info', max=1.0), HTML(value='')))"
      ]
     },
     "metadata": {},
     "output_type": "display_data"
    },
    {
     "name": "stdout",
     "output_type": "stream",
     "text": [
      "\n",
      "\n",
      "Working on limb #4\n"
     ]
    },
    {
     "data": {
      "application/vnd.jupyter.widget-view+json": {
       "model_id": "593f0f4fc12c42d0ad3654ebbe08d868",
       "version_major": 2,
       "version_minor": 0
      },
      "text/plain": [
       "HBox(children=(FloatProgress(value=1.0, bar_style='info', max=1.0), HTML(value='')))"
      ]
     },
     "metadata": {},
     "output_type": "display_data"
    },
    {
     "data": {
      "application/vnd.jupyter.widget-view+json": {
       "model_id": "f00026a5b78c4dff94479b928a721876",
       "version_major": 2,
       "version_minor": 0
      },
      "text/plain": [
       "HBox(children=(FloatProgress(value=1.0, bar_style='info', max=1.0), HTML(value='')))"
      ]
     },
     "metadata": {},
     "output_type": "display_data"
    },
    {
     "name": "stdout",
     "output_type": "stream",
     "text": [
      "\n",
      "filtered_measurements = [265.29819051 362.38552311 509.72362406 321.27197834 344.56334087\n",
      " 330.04048692 536.53318903 503.09076843 205.8311374  436.91570134\n",
      " 550.06165504 319.04667197 387.31509405 512.95483172 477.653464\n",
      " 246.05731359 234.99228387 335.48683407 470.75849089 244.78184002\n",
      " 286.23768064 376.49011907 471.78875062 275.92746326 381.51693743\n",
      " 368.90215967 232.18308906 332.88564715 475.40532224 441.1901281\n",
      " 312.00938945 340.67101467 295.96088566 261.30227836 233.97545331\n",
      " 284.22296737 196.02358682 279.30646177 249.48962115 296.04580855\n",
      " 388.11781879 210.52591297]\n",
      "new_threshold = 1369.161626458738\n"
     ]
    },
    {
     "data": {
      "application/vnd.jupyter.widget-view+json": {
       "model_id": "fb029aaa9bb24871a8ecac4278d4f07a",
       "version_major": 2,
       "version_minor": 0
      },
      "text/plain": [
       "HBox(children=(FloatProgress(value=1.0, bar_style='info', max=1.0), HTML(value='')))"
      ]
     },
     "metadata": {},
     "output_type": "display_data"
    },
    {
     "name": "stdout",
     "output_type": "stream",
     "text": [
      "\n"
     ]
    },
    {
     "data": {
      "application/vnd.jupyter.widget-view+json": {
       "model_id": "6576c6cc0a6945cb8147b9f006573bff",
       "version_major": 2,
       "version_minor": 0
      },
      "text/plain": [
       "HBox(children=(FloatProgress(value=1.0, bar_style='info', max=1.0), HTML(value='')))"
      ]
     },
     "metadata": {},
     "output_type": "display_data"
    },
    {
     "name": "stdout",
     "output_type": "stream",
     "text": [
      "--> Not exactly one containing mesh: []\n",
      "--> Not exactly one containing mesh: []\n",
      "\n",
      "filtered_measurements = [131.53072069  77.62400891  55.7522338   58.36198554  82.28207341\n",
      "  91.76080479  61.43513091  93.35378502  80.86360833  88.69232729]\n",
      "new_threshold = 266.3509265302026\n"
     ]
    },
    {
     "data": {
      "application/vnd.jupyter.widget-view+json": {
       "model_id": "387d4af08ccd4e2ebb2dff1773b92395",
       "version_major": 2,
       "version_minor": 0
      },
      "text/plain": [
       "HBox(children=(FloatProgress(value=1.0, bar_style='info', max=1.0), HTML(value='')))"
      ]
     },
     "metadata": {},
     "output_type": "display_data"
    },
    {
     "name": "stdout",
     "output_type": "stream",
     "text": [
      "--> Not exactly one containing mesh: []\n",
      "--> Not exactly one containing mesh: []\n",
      "\n",
      "Total time for mesh mapping: 0.0005321502685546875\n",
      "Total time for mesh mapping: 0.00022220611572265625\n",
      "Total time for mesh mapping: 0.0002410411834716797\n",
      "Total time for mesh mapping: 0.0002257823944091797\n",
      "Total time for mesh mapping: 0.00022029876708984375\n",
      "Total time for mesh mapping: 0.00020766258239746094\n",
      "Total time for mesh mapping: 0.0002105236053466797\n",
      "Total time for mesh mapping: 0.0032320022583007812\n",
      "Total time for mesh mapping: 0.002928018569946289\n",
      "Total time for mesh mapping: 0.00022673606872558594\n",
      "Total time for mesh mapping: 0.00036144256591796875\n",
      "Total time for mesh mapping: 0.00023174285888671875\n",
      "Total time for mesh mapping: 0.00022411346435546875\n",
      "Total time for mesh mapping: 0.00034308433532714844\n",
      "Total time for mesh mapping: 0.00021839141845703125\n",
      "Total time for mesh mapping: 0.00020933151245117188\n",
      "Total time for mesh mapping: 0.0003387928009033203\n",
      "branch_touching_number = [15]\n",
      "Total time for mesh mapping: 0.0003578662872314453\n",
      "Total time for mesh mapping: 0.00013566017150878906\n",
      "Total time for mesh mapping: 0.00014495849609375\n",
      "Total time for mesh mapping: 0.0001304149627685547\n",
      "Total time for mesh mapping: 0.00012540817260742188\n",
      "Total time for mesh mapping: 0.00012302398681640625\n",
      "Total time for mesh mapping: 0.0001266002655029297\n",
      "Total time for mesh mapping: 0.0001342296600341797\n",
      "Total time for mesh mapping: 0.0001277923583984375\n",
      "Total time for mesh mapping: 0.0001251697540283203\n",
      "Total time for mesh mapping: 0.00012993812561035156\n",
      "Total time for mesh mapping: 0.00013184547424316406\n",
      "Total time for mesh mapping: 0.0001285076141357422\n",
      "Total time for mesh mapping: 0.00012373924255371094\n",
      "Total time for mesh mapping: 0.00012636184692382812\n",
      "Total time for mesh mapping: 0.00012993812561035156\n",
      "Total time for mesh mapping: 0.0002562999725341797\n",
      "branch_touching_number = [15, 1]\n",
      "most_branch_containing_piece = 0\n"
     ]
    },
    {
     "data": {
      "application/vnd.jupyter.widget-view+json": {
       "model_id": "701a389a1ba24169ba52c983b4d1f1e3",
       "version_major": 2,
       "version_minor": 0
      },
      "text/plain": [
       "HBox(children=(FloatProgress(value=1.0, bar_style='info', max=1.0), HTML(value='')))"
      ]
     },
     "metadata": {},
     "output_type": "display_data"
    },
    {
     "name": "stdout",
     "output_type": "stream",
     "text": [
      "\n",
      "filtered_measurements = [ 68.14533494  78.1117612  170.11073215 294.42956571 325.57073692\n",
      " 207.27648889 206.1224995  213.81846761 207.78536419 153.2199487\n",
      " 212.68723611 273.54462392 211.32032469 289.87873986 249.62421145\n",
      " 134.94442691 138.40336107 165.65152197 165.4627182  230.56157949\n",
      " 242.35740514 342.62061619 347.34242314 193.27203908 239.5813837\n",
      " 227.12475596 336.19191932 217.51339471 229.7526357  337.44167612\n",
      " 182.55433024 249.17489666 180.84068473 294.18673878 227.84246446\n",
      " 134.58459173 244.28435737 325.4074724  175.6718912  205.37636302]\n",
      "new_threshold = 755.8504202020197\n"
     ]
    },
    {
     "data": {
      "application/vnd.jupyter.widget-view+json": {
       "model_id": "672a0a7c2b8245e18e69d0f545e89490",
       "version_major": 2,
       "version_minor": 0
      },
      "text/plain": [
       "HBox(children=(FloatProgress(value=1.0, bar_style='info', max=1.0), HTML(value='')))"
      ]
     },
     "metadata": {},
     "output_type": "display_data"
    },
    {
     "name": "stdout",
     "output_type": "stream",
     "text": [
      "\n"
     ]
    },
    {
     "data": {
      "application/vnd.jupyter.widget-view+json": {
       "model_id": "136e32d07da046b18de77814c802b744",
       "version_major": 2,
       "version_minor": 0
      },
      "text/plain": [
       "HBox(children=(FloatProgress(value=1.0, bar_style='info', max=1.0), HTML(value='')))"
      ]
     },
     "metadata": {},
     "output_type": "display_data"
    },
    {
     "name": "stdout",
     "output_type": "stream",
     "text": [
      "--> Not exactly one containing mesh: []\n",
      "\n",
      "filtered_measurements = [ 97.07441753  56.02260952  88.50251308 113.31119882 118.6058153\n",
      " 151.78386771 179.93312035 117.88529951 154.24504206 110.29638323\n",
      "  91.15262298 117.57325868 121.17685617 128.43937376 156.76928279\n",
      " 124.66581765  95.13059724  83.56903741  89.03430889 101.4990994\n",
      " 102.3347599  103.1565574  151.87207828 130.79379525 157.37590501\n",
      " 132.53902232 138.16653705 179.43869715 159.54927439 102.59204995\n",
      " 121.11638314 147.81039841 172.31448624  96.22724211 124.96538972\n",
      " 106.31854318 105.37626426 121.30636909 137.40965117 113.45986281]\n",
      "new_threshold = 381.6792516351717\n"
     ]
    },
    {
     "data": {
      "application/vnd.jupyter.widget-view+json": {
       "model_id": "2cc9575432084765a88984e5e5df4525",
       "version_major": 2,
       "version_minor": 0
      },
      "text/plain": [
       "HBox(children=(FloatProgress(value=1.0, bar_style='info', max=1.0), HTML(value='')))"
      ]
     },
     "metadata": {},
     "output_type": "display_data"
    },
    {
     "name": "stdout",
     "output_type": "stream",
     "text": [
      "--> Not exactly one containing mesh: []\n",
      "\n"
     ]
    },
    {
     "data": {
      "application/vnd.jupyter.widget-view+json": {
       "model_id": "87c9cbb1636e4230851fdf2c8656bc5f",
       "version_major": 2,
       "version_minor": 0
      },
      "text/plain": [
       "HBox(children=(FloatProgress(value=1.0, bar_style='info', max=1.0), HTML(value='')))"
      ]
     },
     "metadata": {},
     "output_type": "display_data"
    },
    {
     "name": "stdout",
     "output_type": "stream",
     "text": [
      "\n",
      "filtered_measurements = [ 954.90480456 1119.05418114  520.2986362   638.4242725 ]\n",
      "new_threshold = 2494.0792808893575\n"
     ]
    },
    {
     "data": {
      "application/vnd.jupyter.widget-view+json": {
       "model_id": "34eafbda3f244b0192269e0ee80e7c13",
       "version_major": 2,
       "version_minor": 0
      },
      "text/plain": [
       "HBox(children=(FloatProgress(value=1.0, bar_style='info', max=1.0), HTML(value='')))"
      ]
     },
     "metadata": {},
     "output_type": "display_data"
    },
    {
     "name": "stdout",
     "output_type": "stream",
     "text": [
      "\n"
     ]
    },
    {
     "data": {
      "application/vnd.jupyter.widget-view+json": {
       "model_id": "f17551a5d88a470798c1724362001380",
       "version_major": 2,
       "version_minor": 0
      },
      "text/plain": [
       "HBox(children=(FloatProgress(value=1.0, bar_style='info', max=1.0), HTML(value='')))"
      ]
     },
     "metadata": {},
     "output_type": "display_data"
    },
    {
     "name": "stdout",
     "output_type": "stream",
     "text": [
      "\n",
      "filtered_measurements = [682.06708251 618.0442903  651.49643306 701.13959744 681.5689984\n",
      " 704.09933588 791.13722064 790.35653689 760.93073624 668.15855031\n",
      " 575.7446605  729.27388247 840.73656425 914.5433526  806.32520918]\n",
      "new_threshold = 1863.1010768856559\n"
     ]
    },
    {
     "data": {
      "application/vnd.jupyter.widget-view+json": {
       "model_id": "ce1717d023784ac0a6b3ef92a20ac866",
       "version_major": 2,
       "version_minor": 0
      },
      "text/plain": [
       "HBox(children=(FloatProgress(value=1.0, bar_style='info', max=1.0), HTML(value='')))"
      ]
     },
     "metadata": {},
     "output_type": "display_data"
    },
    {
     "name": "stdout",
     "output_type": "stream",
     "text": [
      "\n"
     ]
    },
    {
     "data": {
      "application/vnd.jupyter.widget-view+json": {
       "model_id": "e73e5922187948f7a446a4db854b5a67",
       "version_major": 2,
       "version_minor": 0
      },
      "text/plain": [
       "HBox(children=(FloatProgress(value=1.0, bar_style='info', max=1.0), HTML(value='')))"
      ]
     },
     "metadata": {},
     "output_type": "display_data"
    },
    {
     "name": "stdout",
     "output_type": "stream",
     "text": [
      "--> Not exactly one containing mesh: []\n",
      "--> Not exactly one containing mesh: []\n",
      "\n",
      "filtered_measurements = [ 75.42805608  97.10841786 102.57792109  70.40288793  74.42725325\n",
      " 111.53459372 119.28778466]\n",
      "new_threshold = 223.1650577315063\n"
     ]
    },
    {
     "data": {
      "application/vnd.jupyter.widget-view+json": {
       "model_id": "87391603a9cc4d2ab037b2fabf4a73c4",
       "version_major": 2,
       "version_minor": 0
      },
      "text/plain": [
       "HBox(children=(FloatProgress(value=1.0, bar_style='info', max=1.0), HTML(value='')))"
      ]
     },
     "metadata": {},
     "output_type": "display_data"
    },
    {
     "name": "stdout",
     "output_type": "stream",
     "text": [
      "--> Not exactly one containing mesh: []\n",
      "--> Not exactly one containing mesh: []\n",
      "--> Not exactly one containing mesh: []\n",
      "THERE WERE NO FACES THAT FIT THE DISTANCE (223.1650577315063) and Z transform requirements\n",
      "So just skipping this edge\n",
      "\n",
      "Total time for mesh mapping: 0.001861572265625\n",
      "Total time for mesh mapping: 0.0003006458282470703\n",
      "Total time for mesh mapping: 0.00020241737365722656\n",
      "Total time for mesh mapping: 0.00019788742065429688\n",
      "Total time for mesh mapping: 0.0001995563507080078\n",
      "Total time for mesh mapping: 0.0001971721649169922\n",
      "Total time for mesh mapping: 0.00020003318786621094\n",
      "Total time for mesh mapping: 0.00019407272338867188\n",
      "Total time for mesh mapping: 0.00020003318786621094\n",
      "Total time for mesh mapping: 0.00034618377685546875\n",
      "Total time for mesh mapping: 0.00020623207092285156\n",
      "Total time for mesh mapping: 0.00017881393432617188\n",
      "branch_touching_number = [10]\n",
      "Total time for mesh mapping: 0.00037217140197753906\n",
      "Total time for mesh mapping: 0.00025010108947753906\n",
      "Total time for mesh mapping: 0.00015211105346679688\n",
      "Total time for mesh mapping: 0.00023055076599121094\n",
      "Total time for mesh mapping: 0.00022983551025390625\n",
      "Total time for mesh mapping: 0.00022840499877929688\n",
      "Total time for mesh mapping: 0.0003616809844970703\n",
      "Total time for mesh mapping: 0.00020456314086914062\n",
      "Total time for mesh mapping: 0.0002257823944091797\n",
      "Total time for mesh mapping: 0.0002353191375732422\n",
      "Total time for mesh mapping: 0.00023055076599121094\n",
      "Total time for mesh mapping: 0.00020122528076171875\n",
      "branch_touching_number = [10, 1]\n",
      "most_branch_containing_piece = 0\n"
     ]
    },
    {
     "data": {
      "application/vnd.jupyter.widget-view+json": {
       "model_id": "eeb5e74873d24f41a9c96b4ba4a4b925",
       "version_major": 2,
       "version_minor": 0
      },
      "text/plain": [
       "HBox(children=(FloatProgress(value=1.0, bar_style='info', max=1.0), HTML(value='')))"
      ]
     },
     "metadata": {},
     "output_type": "display_data"
    },
    {
     "name": "stdout",
     "output_type": "stream",
     "text": [
      "\n",
      "filtered_measurements = [492.86501195 509.13536468 653.22221421]\n",
      "new_threshold = 1224.6440407737452\n"
     ]
    },
    {
     "data": {
      "application/vnd.jupyter.widget-view+json": {
       "model_id": "0e9514100dcd49ae83183b5193676a4f",
       "version_major": 2,
       "version_minor": 0
      },
      "text/plain": [
       "HBox(children=(FloatProgress(value=1.0, bar_style='info', max=1.0), HTML(value='')))"
      ]
     },
     "metadata": {},
     "output_type": "display_data"
    },
    {
     "name": "stdout",
     "output_type": "stream",
     "text": [
      "\n"
     ]
    },
    {
     "data": {
      "application/vnd.jupyter.widget-view+json": {
       "model_id": "2acc71fafd0745bb8f7c35c71d63e213",
       "version_major": 2,
       "version_minor": 0
      },
      "text/plain": [
       "HBox(children=(FloatProgress(value=1.0, bar_style='info', max=1.0), HTML(value='')))"
      ]
     },
     "metadata": {},
     "output_type": "display_data"
    },
    {
     "name": "stdout",
     "output_type": "stream",
     "text": [
      "\n",
      "filtered_measurements = [445.08371934 551.71461321]\n",
      "new_threshold = 1011.4450150908071\n"
     ]
    },
    {
     "data": {
      "application/vnd.jupyter.widget-view+json": {
       "model_id": "604ffdf3ef1a48a798bb5a6d5bc576c5",
       "version_major": 2,
       "version_minor": 0
      },
      "text/plain": [
       "HBox(children=(FloatProgress(value=1.0, bar_style='info', max=1.0), HTML(value='')))"
      ]
     },
     "metadata": {},
     "output_type": "display_data"
    },
    {
     "name": "stdout",
     "output_type": "stream",
     "text": [
      "\n"
     ]
    },
    {
     "data": {
      "application/vnd.jupyter.widget-view+json": {
       "model_id": "546eb8d92417463cacb02e6922a338b8",
       "version_major": 2,
       "version_minor": 0
      },
      "text/plain": [
       "HBox(children=(FloatProgress(value=1.0, bar_style='info', max=1.0), HTML(value='')))"
      ]
     },
     "metadata": {},
     "output_type": "display_data"
    },
    {
     "name": "stdout",
     "output_type": "stream",
     "text": [
      "\n",
      "filtered_measurements = [147.2735137  169.56384436 263.38172426 274.84668894 366.99307633\n",
      " 287.56184088 288.47824861 188.83694982 385.55407398 327.2401873\n",
      " 303.91720731 202.9304257  372.91511609 302.57058437 249.07785662\n",
      " 209.77082504 184.22493063 328.68428075 419.25779955 226.66618277\n",
      " 392.46257255 450.99629794 278.34769587 188.72552299 245.99365451\n",
      " 374.46742457 311.73125387 181.27882966 153.32739743 315.48130785\n",
      " 367.10950968 213.12294038 317.38099819 199.66066607 235.4931276\n",
      " 201.65701533 308.01272679 167.95583984 227.61952142 461.53906194\n",
      " 194.16709345 367.85173008 303.27763038 338.07683931 125.43680138\n",
      " 234.80192517 463.85083452 329.11343569 129.41368394 151.86238778]\n",
      "new_threshold = 1214.2978743740064\n"
     ]
    },
    {
     "data": {
      "application/vnd.jupyter.widget-view+json": {
       "model_id": "79ad424ccdaf40e5acb2d2dabeac57f9",
       "version_major": 2,
       "version_minor": 0
      },
      "text/plain": [
       "HBox(children=(FloatProgress(value=1.0, bar_style='info', max=1.0), HTML(value='')))"
      ]
     },
     "metadata": {},
     "output_type": "display_data"
    },
    {
     "name": "stdout",
     "output_type": "stream",
     "text": [
      "\n"
     ]
    },
    {
     "data": {
      "application/vnd.jupyter.widget-view+json": {
       "model_id": "c0bbe992acb54e3fb452729b4f9c4def",
       "version_major": 2,
       "version_minor": 0
      },
      "text/plain": [
       "HBox(children=(FloatProgress(value=1.0, bar_style='info', max=1.0), HTML(value='')))"
      ]
     },
     "metadata": {},
     "output_type": "display_data"
    },
    {
     "name": "stdout",
     "output_type": "stream",
     "text": [
      "\n",
      "filtered_measurements = [362.16680685 392.63425878 573.88849266 641.89447701 414.84064808\n",
      " 440.91484438 463.0861376  549.40052905 652.17838104 367.22662364\n",
      " 451.8797832  353.92388719 399.32931968 452.47884902 571.13288595\n",
      " 369.02937997 381.23369916 395.83584621 365.93378344 373.4419966\n",
      " 454.62594581 483.45866942 675.06723342 509.48140597 452.02009172\n",
      " 464.53433818]\n",
      "new_threshold = 1535.3470171165432\n"
     ]
    },
    {
     "data": {
      "application/vnd.jupyter.widget-view+json": {
       "model_id": "dc48e628c7ad4843b9e52b2d8327b55f",
       "version_major": 2,
       "version_minor": 0
      },
      "text/plain": [
       "HBox(children=(FloatProgress(value=1.0, bar_style='info', max=1.0), HTML(value='')))"
      ]
     },
     "metadata": {},
     "output_type": "display_data"
    },
    {
     "name": "stdout",
     "output_type": "stream",
     "text": [
      "\n"
     ]
    },
    {
     "data": {
      "application/vnd.jupyter.widget-view+json": {
       "model_id": "7af98041f0ad4abca74522f7e2e82a69",
       "version_major": 2,
       "version_minor": 0
      },
      "text/plain": [
       "HBox(children=(FloatProgress(value=1.0, bar_style='info', max=1.0), HTML(value='')))"
      ]
     },
     "metadata": {},
     "output_type": "display_data"
    },
    {
     "name": "stdout",
     "output_type": "stream",
     "text": [
      "\n",
      "filtered_measurements = [242.81740628 215.27516713 398.50376552 331.68818575 465.48868113\n",
      " 292.85834609 345.72131823 231.01681283 330.06595495 184.65331078\n",
      " 298.49248556 425.7442185  293.10218824 258.31130317 275.7186425\n",
      " 404.42449995 318.4957702  281.94534753]\n",
      "new_threshold = 970.0067749340333\n"
     ]
    },
    {
     "data": {
      "application/vnd.jupyter.widget-view+json": {
       "model_id": "0ecf418f7c514355a471945db72b910f",
       "version_major": 2,
       "version_minor": 0
      },
      "text/plain": [
       "HBox(children=(FloatProgress(value=1.0, bar_style='info', max=1.0), HTML(value='')))"
      ]
     },
     "metadata": {},
     "output_type": "display_data"
    },
    {
     "name": "stdout",
     "output_type": "stream",
     "text": [
      "\n"
     ]
    },
    {
     "data": {
      "application/vnd.jupyter.widget-view+json": {
       "model_id": "8382562302184f89abe7798624639bfb",
       "version_major": 2,
       "version_minor": 0
      },
      "text/plain": [
       "HBox(children=(FloatProgress(value=1.0, bar_style='info', max=1.0), HTML(value='')))"
      ]
     },
     "metadata": {},
     "output_type": "display_data"
    },
    {
     "name": "stdout",
     "output_type": "stream",
     "text": [
      "--> Not exactly one containing mesh: []\n",
      "\n",
      "Total time for mesh mapping: 0.008342981338500977\n",
      "Total time for mesh mapping: 0.007224321365356445\n",
      "Total time for mesh mapping: 0.0071868896484375\n",
      "Total time for mesh mapping: 0.0038280487060546875\n",
      "Total time for mesh mapping: 0.0017867088317871094\n",
      "Total time for mesh mapping: 0.002830028533935547\n",
      "Total time for mesh mapping: 0.0027332305908203125\n",
      "Total time for mesh mapping: 0.0026731491088867188\n",
      "Total time for mesh mapping: 0.0026407241821289062\n",
      "Total time for mesh mapping: 0.0027348995208740234\n",
      "Total time for mesh mapping: 0.003949642181396484\n",
      "Total time for mesh mapping: 0.002724885940551758\n",
      "Total time for mesh mapping: 0.0027129650115966797\n",
      "Total time for mesh mapping: 0.003968715667724609\n",
      "Total time for mesh mapping: 0.0017292499542236328\n",
      "Total time for mesh mapping: 0.002699613571166992\n",
      "Total time for mesh mapping: 0.005165815353393555\n",
      "Total time for mesh mapping: 0.0018963813781738281\n",
      "Total time for mesh mapping: 0.0026721954345703125\n",
      "Total time for mesh mapping: 0.0025157928466796875\n",
      "Total time for mesh mapping: 0.0026636123657226562\n",
      "Total time for mesh mapping: 0.0026695728302001953\n",
      "Total time for mesh mapping: 0.002674579620361328\n",
      "Total time for mesh mapping: 0.002697467803955078\n",
      "Total time for mesh mapping: 0.002852916717529297\n",
      "branch_touching_number = [23]\n",
      "Total time for mesh mapping: 0.002147674560546875\n",
      "Total time for mesh mapping: 0.002645254135131836\n",
      "Total time for mesh mapping: 0.004857540130615234\n",
      "Total time for mesh mapping: 0.0018768310546875\n",
      "Total time for mesh mapping: 0.0015974044799804688\n",
      "Total time for mesh mapping: 0.0025250911712646484\n",
      "Total time for mesh mapping: 0.0016179084777832031\n",
      "Total time for mesh mapping: 0.0030956268310546875\n",
      "Total time for mesh mapping: 0.001628875732421875\n",
      "Total time for mesh mapping: 0.004179716110229492\n",
      "Total time for mesh mapping: 0.0030617713928222656\n",
      "Total time for mesh mapping: 0.0017085075378417969\n",
      "Total time for mesh mapping: 0.0027611255645751953\n",
      "Total time for mesh mapping: 0.0027196407318115234\n",
      "Total time for mesh mapping: 0.0027277469635009766\n",
      "Total time for mesh mapping: 0.0027434825897216797\n",
      "Total time for mesh mapping: 0.0027358531951904297\n",
      "Total time for mesh mapping: 0.004210233688354492\n",
      "Total time for mesh mapping: 0.0030570030212402344\n",
      "Total time for mesh mapping: 0.0016162395477294922\n",
      "Total time for mesh mapping: 0.0015871524810791016\n",
      "Total time for mesh mapping: 0.0027391910552978516\n",
      "Total time for mesh mapping: 0.0027565956115722656\n",
      "Total time for mesh mapping: 0.0027430057525634766\n",
      "Total time for mesh mapping: 0.002869844436645508\n",
      "branch_touching_number = [23, 1]\n",
      "most_branch_containing_piece = 0\n",
      "filtered_measurements = [ 68.49080438 110.83345731 103.5509152   57.12981498  94.74676825\n",
      "  60.29405772  77.29560012  50.28873175 129.16661465  74.06119258\n",
      "  68.10140021  81.60625233 121.34833716  86.88136446 135.20889325\n",
      "  85.66866256  92.35563122]\n",
      "new_threshold = 338.58558670477873\n"
     ]
    },
    {
     "data": {
      "application/vnd.jupyter.widget-view+json": {
       "model_id": "1cb663bfe19e4d58a05d975d8e84b139",
       "version_major": 2,
       "version_minor": 0
      },
      "text/plain": [
       "HBox(children=(FloatProgress(value=1.0, bar_style='info', max=1.0), HTML(value='')))"
      ]
     },
     "metadata": {},
     "output_type": "display_data"
    },
    {
     "name": "stdout",
     "output_type": "stream",
     "text": [
      "--> Not exactly one containing mesh: []\n",
      "--> Not exactly one containing mesh: []\n",
      "\n"
     ]
    },
    {
     "data": {
      "application/vnd.jupyter.widget-view+json": {
       "model_id": "6ebac8b2021648f288b4513867cb2ac5",
       "version_major": 2,
       "version_minor": 0
      },
      "text/plain": [
       "HBox(children=(FloatProgress(value=1.0, bar_style='info', max=1.0), HTML(value='')))"
      ]
     },
     "metadata": {},
     "output_type": "display_data"
    },
    {
     "name": "stdout",
     "output_type": "stream",
     "text": [
      "\n",
      "filtered_measurements = [377.1226109  678.49412058 492.79182615 336.45416999 321.29645123\n",
      " 343.03614818 432.1691166  374.12283795 705.26543035 571.46771103\n",
      " 347.70884916 451.06170718 396.35433874 676.81682396 665.78337363\n",
      " 654.02743378 451.91467897 480.77471637 565.12813613 396.31170076\n",
      " 716.51201178 519.27910854 399.29735732 422.67065528 405.2117129\n",
      " 450.56495773 575.34996047 525.76005803 500.28085184 588.30415921\n",
      " 588.52521277 478.61488056 606.41704346 757.05198165 482.7643198\n",
      " 333.68342304 445.17004141 406.44542063 528.72730168 486.29796906]\n",
      "new_threshold = 1714.5146894701886\n"
     ]
    },
    {
     "data": {
      "application/vnd.jupyter.widget-view+json": {
       "model_id": "4fb4bd7acd774a3fb3c0a3e548f8cbad",
       "version_major": 2,
       "version_minor": 0
      },
      "text/plain": [
       "HBox(children=(FloatProgress(value=1.0, bar_style='info', max=1.0), HTML(value='')))"
      ]
     },
     "metadata": {},
     "output_type": "display_data"
    },
    {
     "name": "stdout",
     "output_type": "stream",
     "text": [
      "\n"
     ]
    },
    {
     "data": {
      "application/vnd.jupyter.widget-view+json": {
       "model_id": "eb9e32b3a50942d195cf05900f15a274",
       "version_major": 2,
       "version_minor": 0
      },
      "text/plain": [
       "HBox(children=(FloatProgress(value=1.0, bar_style='info', max=1.0), HTML(value='')))"
      ]
     },
     "metadata": {},
     "output_type": "display_data"
    },
    {
     "name": "stdout",
     "output_type": "stream",
     "text": [
      "\n",
      "filtered_measurements = [104.01525304  81.834401   129.3332972   90.87842794  67.1918836\n",
      "  78.4376836   62.45897793  66.68849556  77.29753075 132.85045748\n",
      "  78.25593299 114.6296676  116.13112236  86.93774203  95.01595185\n",
      " 130.2228117  109.78946593  81.98412319 107.37575232 108.20243757\n",
      "  66.59480121  75.28818043]\n",
      "new_threshold = 283.9373232950441\n"
     ]
    },
    {
     "data": {
      "application/vnd.jupyter.widget-view+json": {
       "model_id": "8ff8209658574f5f983f34c780a32561",
       "version_major": 2,
       "version_minor": 0
      },
      "text/plain": [
       "HBox(children=(FloatProgress(value=1.0, bar_style='info', max=1.0), HTML(value='')))"
      ]
     },
     "metadata": {},
     "output_type": "display_data"
    },
    {
     "name": "stdout",
     "output_type": "stream",
     "text": [
      "\n"
     ]
    },
    {
     "data": {
      "application/vnd.jupyter.widget-view+json": {
       "model_id": "c5f70c4be5414367bf4b2fa3b1fe8113",
       "version_major": 2,
       "version_minor": 0
      },
      "text/plain": [
       "HBox(children=(FloatProgress(value=1.0, bar_style='info', max=1.0), HTML(value='')))"
      ]
     },
     "metadata": {},
     "output_type": "display_data"
    },
    {
     "name": "stdout",
     "output_type": "stream",
     "text": [
      "--> Not exactly one containing mesh: []\n",
      "--> Not exactly one containing mesh: []\n",
      "--> Not exactly one containing mesh: []\n",
      "\n",
      "Total time for mesh mapping: 0.008667707443237305\n",
      "Total time for mesh mapping: 0.012035608291625977\n",
      "Total time for mesh mapping: 0.01153874397277832\n",
      "Total time for mesh mapping: 0.0052814483642578125\n",
      "Total time for mesh mapping: 0.002094745635986328\n",
      "Total time for mesh mapping: 0.0027637481689453125\n",
      "Total time for mesh mapping: 0.002676248550415039\n",
      "Total time for mesh mapping: 0.0016949176788330078\n",
      "Total time for mesh mapping: 0.002729177474975586\n",
      "Total time for mesh mapping: 0.0027506351470947266\n",
      "Total time for mesh mapping: 0.002468585968017578\n",
      "Total time for mesh mapping: 0.002694368362426758\n",
      "Total time for mesh mapping: 0.0027954578399658203\n",
      "Total time for mesh mapping: 0.0027854442596435547\n",
      "Total time for mesh mapping: 0.002763986587524414\n",
      "Total time for mesh mapping: 0.0027358531951904297\n",
      "Total time for mesh mapping: 0.0027399063110351562\n",
      "Total time for mesh mapping: 0.002732515335083008\n",
      "branch_touching_number = [15]\n",
      "Total time for mesh mapping: 0.0021147727966308594\n",
      "Total time for mesh mapping: 0.002987384796142578\n",
      "Total time for mesh mapping: 0.00305938720703125\n",
      "Total time for mesh mapping: 0.002945423126220703\n",
      "Total time for mesh mapping: 0.002993345260620117\n",
      "Total time for mesh mapping: 0.002996206283569336\n",
      "Total time for mesh mapping: 0.0029735565185546875\n",
      "Total time for mesh mapping: 0.003000974655151367\n",
      "Total time for mesh mapping: 0.0030417442321777344\n",
      "Total time for mesh mapping: 0.0030143260955810547\n",
      "Total time for mesh mapping: 0.0027418136596679688\n",
      "Total time for mesh mapping: 0.002770662307739258\n",
      "Total time for mesh mapping: 0.0028209686279296875\n",
      "Total time for mesh mapping: 0.002801656723022461\n",
      "Total time for mesh mapping: 0.0027954578399658203\n",
      "Total time for mesh mapping: 0.0027780532836914062\n",
      "Total time for mesh mapping: 0.002751588821411133\n",
      "Total time for mesh mapping: 0.0027213096618652344\n",
      "branch_touching_number = [15, 2]\n",
      "most_branch_containing_piece = 0\n",
      "filtered_measurements = [154.92101191 124.90224476 121.47724225  86.4972872  215.15486431\n",
      " 167.02707864 232.50245822 260.21781427 199.61888956 133.4110154\n",
      " 113.19428151]\n",
      "new_threshold = 541.300328693651\n"
     ]
    },
    {
     "data": {
      "application/vnd.jupyter.widget-view+json": {
       "model_id": "c18723bf0f114b9ab2bcdaa011b408c4",
       "version_major": 2,
       "version_minor": 0
      },
      "text/plain": [
       "HBox(children=(FloatProgress(value=1.0, bar_style='info', max=1.0), HTML(value='')))"
      ]
     },
     "metadata": {},
     "output_type": "display_data"
    },
    {
     "name": "stdout",
     "output_type": "stream",
     "text": [
      "THERE WERE NO FACES THAT FIT THE DISTANCE (541.300328693651) and Z transform requirements\n",
      "So just skipping this edge\n",
      "--> Not exactly one containing mesh: []\n",
      "--> Not exactly one containing mesh: []\n",
      "--> Not exactly one containing mesh: []\n",
      "\n"
     ]
    },
    {
     "data": {
      "application/vnd.jupyter.widget-view+json": {
       "model_id": "6ad8c627510945a6ae16f652216dc1fb",
       "version_major": 2,
       "version_minor": 0
      },
      "text/plain": [
       "HBox(children=(FloatProgress(value=1.0, bar_style='info', max=1.0), HTML(value='')))"
      ]
     },
     "metadata": {},
     "output_type": "display_data"
    },
    {
     "name": "stdout",
     "output_type": "stream",
     "text": [
      "\n",
      "filtered_measurements = [555.07466439 333.96808633 265.18755782 255.94583156 275.33714876\n",
      " 282.19789864 517.43555287 516.38900146 307.2451558  435.31762609\n",
      " 335.31177024 500.00774465 449.71350157 436.92418175 342.64440537\n",
      " 549.61823682 285.24917676 352.54853207 560.97678256 414.37655747\n",
      " 203.88730708 509.44914935 466.74149767 427.36924486 520.35466712\n",
      " 438.82184721 505.1817926  361.14521751 525.67557639 346.41491411\n",
      " 222.22357994 416.51440578 236.81562883 336.26228792 517.23858306\n",
      " 511.83928665 403.08162674 441.80513716 343.43686869 469.8260871\n",
      " 500.06604584 406.35598072 548.46958249 423.80740452 599.44782241\n",
      " 222.09175929 575.8867096  249.71415093 359.72667401 273.6250334\n",
      " 254.29663785 227.65543124 233.1185101  448.07796089 560.57901679\n",
      " 448.13576794 457.63369305 291.23315718 277.33712682 315.80820759\n",
      " 509.09149398 164.29670148 158.47708797 182.46467857 212.77783613\n",
      " 249.65437763 255.61090747 235.69332104 471.61484835 337.83197598\n",
      " 390.43198968 185.74778352 267.47515511 457.55336713 415.61746636\n",
      " 243.63364089 354.0873184  275.2364622  212.63592259 357.05533544\n",
      " 524.95906258 479.03873037]\n",
      "new_threshold = 1560.18842012438\n"
     ]
    },
    {
     "data": {
      "application/vnd.jupyter.widget-view+json": {
       "model_id": "d7fcf74f168b443eaf51f523343941d7",
       "version_major": 2,
       "version_minor": 0
      },
      "text/plain": [
       "HBox(children=(FloatProgress(value=1.0, bar_style='info', max=1.0), HTML(value='')))"
      ]
     },
     "metadata": {},
     "output_type": "display_data"
    },
    {
     "name": "stdout",
     "output_type": "stream",
     "text": [
      "\n"
     ]
    },
    {
     "data": {
      "application/vnd.jupyter.widget-view+json": {
       "model_id": "b61c697166e24df796e65885c4abe2b8",
       "version_major": 2,
       "version_minor": 0
      },
      "text/plain": [
       "HBox(children=(FloatProgress(value=1.0, bar_style='info', max=1.0), HTML(value='')))"
      ]
     },
     "metadata": {},
     "output_type": "display_data"
    },
    {
     "name": "stdout",
     "output_type": "stream",
     "text": [
      "--> Not exactly one containing mesh: []\n",
      "\n",
      "filtered_measurements = [139.34408465  95.17905443  78.65010976 120.35490632 126.07520036\n",
      " 122.70096761]\n",
      "new_threshold = 259.5773324121116\n"
     ]
    },
    {
     "data": {
      "application/vnd.jupyter.widget-view+json": {
       "model_id": "b2d57ef9775f4a848b12f2ff5748c243",
       "version_major": 2,
       "version_minor": 0
      },
      "text/plain": [
       "HBox(children=(FloatProgress(value=1.0, bar_style='info', max=1.0), HTML(value='')))"
      ]
     },
     "metadata": {},
     "output_type": "display_data"
    },
    {
     "name": "stdout",
     "output_type": "stream",
     "text": [
      "--> Not exactly one containing mesh: []\n",
      "\n"
     ]
    },
    {
     "data": {
      "application/vnd.jupyter.widget-view+json": {
       "model_id": "bd54b9d5c8f84c1ca14ff888cc2d0d00",
       "version_major": 2,
       "version_minor": 0
      },
      "text/plain": [
       "HBox(children=(FloatProgress(value=1.0, bar_style='info', max=1.0), HTML(value='')))"
      ]
     },
     "metadata": {},
     "output_type": "display_data"
    },
    {
     "name": "stdout",
     "output_type": "stream",
     "text": [
      "\n",
      "filtered_measurements = [193.94844606 385.74531054 223.43222786 286.89153194 401.95206511\n",
      " 258.75956767 359.33795773 308.29127066 344.45029882 297.87048522\n",
      " 304.24627091 319.28444275 300.16579524 226.51383128 317.70644072\n",
      " 334.80230538 290.171828   261.39194325]\n",
      "new_threshold = 1027.1957336292585\n"
     ]
    },
    {
     "data": {
      "application/vnd.jupyter.widget-view+json": {
       "model_id": "04a17e46237a497486a5465fb1f98354",
       "version_major": 2,
       "version_minor": 0
      },
      "text/plain": [
       "HBox(children=(FloatProgress(value=1.0, bar_style='info', max=1.0), HTML(value='')))"
      ]
     },
     "metadata": {},
     "output_type": "display_data"
    },
    {
     "name": "stdout",
     "output_type": "stream",
     "text": [
      "\n"
     ]
    },
    {
     "data": {
      "application/vnd.jupyter.widget-view+json": {
       "model_id": "8e2b42cf72c34b4090a9490dbffd6966",
       "version_major": 2,
       "version_minor": 0
      },
      "text/plain": [
       "HBox(children=(FloatProgress(value=1.0, bar_style='info', max=1.0), HTML(value='')))"
      ]
     },
     "metadata": {},
     "output_type": "display_data"
    },
    {
     "name": "stdout",
     "output_type": "stream",
     "text": [
      "\n",
      "filtered_measurements = [221.06907026 210.11381754 471.46934784 330.71783277 310.29250432\n",
      " 470.15653774 215.22461209 255.76328952 369.32535391 444.97212359\n",
      " 308.32777115 252.33491077 291.90680627 250.904733   261.68029879\n",
      " 348.6267334  419.3351613  272.06603182 192.0154789  249.02411809\n",
      " 351.17280942 450.79838409 337.98625482 176.81582114 266.67089808\n",
      " 162.97950329 245.80261256 277.242368   337.95938282 357.1007403\n",
      " 259.86937329 203.48386726 232.22861121 253.58753114 242.59151202\n",
      " 229.70249085 284.60690439 297.46279193 255.42153059 328.72471093\n",
      " 343.07975201 298.10400565 284.15703897 407.23299731 267.58828708\n",
      " 266.47600411 311.21464374 378.23434068 412.03713056 222.01043746\n",
      " 291.45178001 424.00392914 206.75953    312.60928387 379.19748811\n",
      " 312.41331821 274.30108127 417.75141928 239.62487096 283.69171775\n",
      " 245.5967754  232.42990728 450.44752968 240.55797073 200.98220158\n",
      " 398.55817167 275.43521706 366.39075361 361.19941195 205.26821202\n",
      " 232.52606244 161.31250541 216.95262831 428.75920388 280.63221933\n",
      " 414.03826405 300.05738623 305.90981974 375.01505943 361.87293285\n",
      " 447.76493908 316.58828104 179.36023521 147.50935268 311.50922694\n",
      " 208.06622679 161.74861706 175.93668516 110.16354427 455.99237128\n",
      " 374.69978307 465.46101537 234.91056446 387.65415305 399.98453863\n",
      " 313.76094703 210.11642681 190.33849503 166.79431766 143.78982178\n",
      " 405.7160515  231.55724617 237.9531372  397.73855843 299.36549994\n",
      " 259.35826178 162.32465917 399.53254919 242.88041099 328.11291586\n",
      " 175.19858551 189.888975   321.51728956 243.40655571]\n",
      "new_threshold = 1299.34091372761\n"
     ]
    },
    {
     "data": {
      "application/vnd.jupyter.widget-view+json": {
       "model_id": "c6c8fce2a3eb4b2e8f505d831dcc3c91",
       "version_major": 2,
       "version_minor": 0
      },
      "text/plain": [
       "HBox(children=(FloatProgress(value=1.0, bar_style='info', max=1.0), HTML(value='')))"
      ]
     },
     "metadata": {},
     "output_type": "display_data"
    },
    {
     "name": "stdout",
     "output_type": "stream",
     "text": [
      "\n"
     ]
    },
    {
     "data": {
      "application/vnd.jupyter.widget-view+json": {
       "model_id": "12cd9245a3a24ddda74e834374ed8afc",
       "version_major": 2,
       "version_minor": 0
      },
      "text/plain": [
       "HBox(children=(FloatProgress(value=1.0, bar_style='info', max=1.0), HTML(value='')))"
      ]
     },
     "metadata": {},
     "output_type": "display_data"
    },
    {
     "name": "stdout",
     "output_type": "stream",
     "text": [
      "\n",
      "filtered_measurements = [254.7022929  366.43980741 321.29522233 422.72666567 506.63991485]\n",
      "new_threshold = 1057.1092707872501\n"
     ]
    },
    {
     "data": {
      "application/vnd.jupyter.widget-view+json": {
       "model_id": "dd78bf2d9fa74c0bb41142f22697f244",
       "version_major": 2,
       "version_minor": 0
      },
      "text/plain": [
       "HBox(children=(FloatProgress(value=1.0, bar_style='info', max=1.0), HTML(value='')))"
      ]
     },
     "metadata": {},
     "output_type": "display_data"
    },
    {
     "name": "stdout",
     "output_type": "stream",
     "text": [
      "\n"
     ]
    },
    {
     "data": {
      "application/vnd.jupyter.widget-view+json": {
       "model_id": "48610a28f07d42a18756eb2b2d1fe572",
       "version_major": 2,
       "version_minor": 0
      },
      "text/plain": [
       "HBox(children=(FloatProgress(value=1.0, bar_style='info', max=1.0), HTML(value='')))"
      ]
     },
     "metadata": {},
     "output_type": "display_data"
    },
    {
     "name": "stdout",
     "output_type": "stream",
     "text": [
      "\n",
      "Total time for mesh mapping: 0.0025670528411865234\n",
      "Total time for mesh mapping: 0.002734661102294922\n",
      "Total time for mesh mapping: 0.002715587615966797\n",
      "Total time for mesh mapping: 0.004250764846801758\n",
      "Total time for mesh mapping: 0.005243778228759766\n",
      "Total time for mesh mapping: 0.006444454193115234\n",
      "Total time for mesh mapping: 0.003195047378540039\n",
      "Total time for mesh mapping: 0.005739688873291016\n",
      "Total time for mesh mapping: 0.00592041015625\n",
      "Total time for mesh mapping: 0.0056574344635009766\n",
      "Total time for mesh mapping: 0.00018095970153808594\n",
      "branch_touching_number = [1]\n",
      "Total time for mesh mapping: 0.0004744529724121094\n",
      "Total time for mesh mapping: 0.00024628639221191406\n",
      "Total time for mesh mapping: 0.0002949237823486328\n",
      "Total time for mesh mapping: 0.00016069412231445312\n",
      "Total time for mesh mapping: 0.00014352798461914062\n",
      "Total time for mesh mapping: 0.00013375282287597656\n",
      "Total time for mesh mapping: 0.0001354217529296875\n",
      "Total time for mesh mapping: 0.0001316070556640625\n",
      "Total time for mesh mapping: 0.0001373291015625\n",
      "Total time for mesh mapping: 0.00012731552124023438\n",
      "Total time for mesh mapping: 0.000125885009765625\n",
      "branch_touching_number = [1, 9]\n",
      "most_branch_containing_piece = 1\n",
      "filtered_measurements = [166.93803752 203.85452459 109.42233786 124.15048992 111.20653671\n",
      " 163.11627341 102.18369678]\n",
      "new_threshold = 543.4402440786743\n"
     ]
    },
    {
     "data": {
      "application/vnd.jupyter.widget-view+json": {
       "model_id": "8c5fd52029204a009f2635e37443def1",
       "version_major": 2,
       "version_minor": 0
      },
      "text/plain": [
       "HBox(children=(FloatProgress(value=1.0, bar_style='info', max=1.0), HTML(value='')))"
      ]
     },
     "metadata": {},
     "output_type": "display_data"
    },
    {
     "name": "stdout",
     "output_type": "stream",
     "text": [
      "--> Not exactly one containing mesh: []\n",
      "\n"
     ]
    },
    {
     "data": {
      "application/vnd.jupyter.widget-view+json": {
       "model_id": "f4d32a44adf64b5fb41263b157cdaa03",
       "version_major": 2,
       "version_minor": 0
      },
      "text/plain": [
       "HBox(children=(FloatProgress(value=1.0, bar_style='info', max=1.0), HTML(value='')))"
      ]
     },
     "metadata": {},
     "output_type": "display_data"
    },
    {
     "name": "stdout",
     "output_type": "stream",
     "text": [
      "--> Not exactly one containing mesh: []\n",
      "--> Not exactly one containing mesh: []\n",
      "--> Not exactly one containing mesh: []\n",
      "--> Not exactly one containing mesh: []\n",
      "\n",
      "Total time for mesh mapping: 0.005609035491943359\n",
      "Total time for mesh mapping: 0.012143611907958984\n",
      "Total time for mesh mapping: 0.014444112777709961\n",
      "Total time for mesh mapping: 0.007775068283081055\n",
      "Total time for mesh mapping: 0.0003204345703125\n",
      "Total time for mesh mapping: 0.0002009868621826172\n",
      "Total time for mesh mapping: 0.00019693374633789062\n",
      "Total time for mesh mapping: 0.00019502639770507812\n",
      "Total time for mesh mapping: 0.00019121170043945312\n",
      "Total time for mesh mapping: 0.00018477439880371094\n",
      "Total time for mesh mapping: 0.0001995563507080078\n",
      "Total time for mesh mapping: 0.00020647048950195312\n",
      "Total time for mesh mapping: 0.0003273487091064453\n",
      "Total time for mesh mapping: 0.0002315044403076172\n",
      "Total time for mesh mapping: 0.00021147727966308594\n",
      "Total time for mesh mapping: 0.0002071857452392578\n",
      "Total time for mesh mapping: 0.00019407272338867188\n",
      "Total time for mesh mapping: 0.0002353191375732422\n",
      "Total time for mesh mapping: 0.00021958351135253906\n",
      "branch_touching_number = [10]\n",
      "Total time for mesh mapping: 0.00043463706970214844\n",
      "Total time for mesh mapping: 0.0001304149627685547\n",
      "Total time for mesh mapping: 0.0002741813659667969\n",
      "Total time for mesh mapping: 0.00013113021850585938\n",
      "Total time for mesh mapping: 0.0001316070556640625\n",
      "Total time for mesh mapping: 0.00015282630920410156\n",
      "Total time for mesh mapping: 0.00013065338134765625\n",
      "Total time for mesh mapping: 0.00013184547424316406\n",
      "Total time for mesh mapping: 0.00013208389282226562\n",
      "Total time for mesh mapping: 0.00012755393981933594\n",
      "Total time for mesh mapping: 0.0001316070556640625\n",
      "Total time for mesh mapping: 0.0038480758666992188\n",
      "Total time for mesh mapping: 0.00013518333435058594\n",
      "Total time for mesh mapping: 0.00013828277587890625\n",
      "Total time for mesh mapping: 0.0001385211944580078\n",
      "Total time for mesh mapping: 0.00013566017150878906\n",
      "Total time for mesh mapping: 0.00013136863708496094\n",
      "Total time for mesh mapping: 0.00018215179443359375\n",
      "Total time for mesh mapping: 0.0001480579376220703\n",
      "branch_touching_number = [10, 8]\n",
      "most_branch_containing_piece = 0\n",
      "filtered_measurements = [ 56.98164693  68.03744323  48.62344081  62.20209423  86.12204184\n",
      "  95.54869111  85.74158585  69.70368726 111.36001086  98.97269888\n",
      "  85.44753142]\n",
      "new_threshold = 225.37226881346032\n"
     ]
    },
    {
     "data": {
      "application/vnd.jupyter.widget-view+json": {
       "model_id": "aba11cc7cf304aacb795ee8d42277ab4",
       "version_major": 2,
       "version_minor": 0
      },
      "text/plain": [
       "HBox(children=(FloatProgress(value=1.0, bar_style='info', max=1.0), HTML(value='')))"
      ]
     },
     "metadata": {},
     "output_type": "display_data"
    },
    {
     "name": "stdout",
     "output_type": "stream",
     "text": [
      "THERE WERE NO FACES THAT FIT THE DISTANCE (225.37226881346032) and Z transform requirements\n",
      "So just skipping this edge\n",
      "THERE WERE NO FACES THAT FIT THE DISTANCE (225.37226881346032) and Z transform requirements\n",
      "So just skipping this edge\n",
      "THERE WERE NO FACES THAT FIT THE DISTANCE (225.37226881346032) and Z transform requirements\n",
      "So just skipping this edge\n",
      "THERE WERE NO FACES THAT FIT THE DISTANCE (225.37226881346032) and Z transform requirements\n",
      "So just skipping this edge\n",
      "THERE WERE NO FACES THAT FIT THE DISTANCE (225.37226881346032) and Z transform requirements\n",
      "So just skipping this edge\n",
      "THERE WERE NO FACES THAT FIT THE DISTANCE (225.37226881346032) and Z transform requirements\n",
      "So just skipping this edge\n",
      "THERE WERE NO FACES THAT FIT THE DISTANCE (225.37226881346032) and Z transform requirements\n",
      "So just skipping this edge\n",
      "THERE WERE NO FACES THAT FIT THE DISTANCE (225.37226881346032) and Z transform requirements\n",
      "So just skipping this edge\n",
      "--> Not exactly one containing mesh: []\n",
      "--> Not exactly one containing mesh: []\n",
      "\n"
     ]
    },
    {
     "data": {
      "application/vnd.jupyter.widget-view+json": {
       "model_id": "508c9e6e693545289f0e10bebd538327",
       "version_major": 2,
       "version_minor": 0
      },
      "text/plain": [
       "HBox(children=(FloatProgress(value=1.0, bar_style='info', max=1.0), HTML(value='')))"
      ]
     },
     "metadata": {},
     "output_type": "display_data"
    },
    {
     "name": "stdout",
     "output_type": "stream",
     "text": [
      "\n",
      "filtered_measurements = [ 60.80009667  95.1285411  122.48992741]\n",
      "new_threshold = 222.87171200972966\n"
     ]
    },
    {
     "data": {
      "application/vnd.jupyter.widget-view+json": {
       "model_id": "fd65eb69708c400d9c676004cf899916",
       "version_major": 2,
       "version_minor": 0
      },
      "text/plain": [
       "HBox(children=(FloatProgress(value=1.0, bar_style='info', max=1.0), HTML(value='')))"
      ]
     },
     "metadata": {},
     "output_type": "display_data"
    },
    {
     "name": "stdout",
     "output_type": "stream",
     "text": [
      "\n"
     ]
    },
    {
     "data": {
      "application/vnd.jupyter.widget-view+json": {
       "model_id": "9dd52bf64933428bb98df41eaeb243d9",
       "version_major": 2,
       "version_minor": 0
      },
      "text/plain": [
       "HBox(children=(FloatProgress(value=1.0, bar_style='info', max=1.0), HTML(value='')))"
      ]
     },
     "metadata": {},
     "output_type": "display_data"
    },
    {
     "name": "stdout",
     "output_type": "stream",
     "text": [
      "--> Not exactly one containing mesh: []\n",
      "--> Not exactly one containing mesh: []\n",
      "\n",
      "filtered_measurements = [ 65.28920299  57.13065602  75.59736369 116.59354764  99.22219644\n",
      "  92.1268652   61.63222782 100.13209622 112.60029721  73.14920925]\n",
      "new_threshold = 247.2739923580184\n"
     ]
    },
    {
     "data": {
      "application/vnd.jupyter.widget-view+json": {
       "model_id": "1ca4a09432b0454e9a7fda94f548a922",
       "version_major": 2,
       "version_minor": 0
      },
      "text/plain": [
       "HBox(children=(FloatProgress(value=1.0, bar_style='info', max=1.0), HTML(value='')))"
      ]
     },
     "metadata": {},
     "output_type": "display_data"
    },
    {
     "name": "stdout",
     "output_type": "stream",
     "text": [
      "--> Not exactly one containing mesh: []\n",
      "--> Not exactly one containing mesh: []\n",
      "\n"
     ]
    },
    {
     "data": {
      "application/vnd.jupyter.widget-view+json": {
       "model_id": "348ce56ba5b74294b106b88ae513da20",
       "version_major": 2,
       "version_minor": 0
      },
      "text/plain": [
       "HBox(children=(FloatProgress(value=1.0, bar_style='info', max=1.0), HTML(value='')))"
      ]
     },
     "metadata": {},
     "output_type": "display_data"
    },
    {
     "name": "stdout",
     "output_type": "stream",
     "text": [
      "--> Not exactly one containing mesh: []\n",
      "\n",
      "filtered_measurements = [74.42153087 82.77290281 83.04458319 62.81744248 86.80527992 68.97226817\n",
      " 77.94443373 68.20056746]\n",
      "new_threshold = 174.10451336635003\n"
     ]
    },
    {
     "data": {
      "application/vnd.jupyter.widget-view+json": {
       "model_id": "7676ec565a5e4bea8dca9fa14291f3f1",
       "version_major": 2,
       "version_minor": 0
      },
      "text/plain": [
       "HBox(children=(FloatProgress(value=1.0, bar_style='info', max=1.0), HTML(value='')))"
      ]
     },
     "metadata": {},
     "output_type": "display_data"
    },
    {
     "name": "stdout",
     "output_type": "stream",
     "text": [
      "--> Not exactly one containing mesh: []\n",
      "\n"
     ]
    },
    {
     "data": {
      "application/vnd.jupyter.widget-view+json": {
       "model_id": "95b7850aa18341a183cfe9e9897a855e",
       "version_major": 2,
       "version_minor": 0
      },
      "text/plain": [
       "HBox(children=(FloatProgress(value=1.0, bar_style='info', max=1.0), HTML(value='')))"
      ]
     },
     "metadata": {},
     "output_type": "display_data"
    },
    {
     "name": "stdout",
     "output_type": "stream",
     "text": [
      "\n",
      "filtered_measurements = [52.46493359 71.73997234 92.88540076 84.5069917  94.51164141]\n",
      "new_threshold = 186.14868650528268\n"
     ]
    },
    {
     "data": {
      "application/vnd.jupyter.widget-view+json": {
       "model_id": "caf1c925393a4b888b79a0cc4675dbbb",
       "version_major": 2,
       "version_minor": 0
      },
      "text/plain": [
       "HBox(children=(FloatProgress(value=1.0, bar_style='info', max=1.0), HTML(value='')))"
      ]
     },
     "metadata": {},
     "output_type": "display_data"
    },
    {
     "name": "stdout",
     "output_type": "stream",
     "text": [
      "\n"
     ]
    },
    {
     "data": {
      "application/vnd.jupyter.widget-view+json": {
       "model_id": "1050beeeba8847e985a1a3e9589e0e89",
       "version_major": 2,
       "version_minor": 0
      },
      "text/plain": [
       "HBox(children=(FloatProgress(value=1.0, bar_style='info', max=1.0), HTML(value='')))"
      ]
     },
     "metadata": {},
     "output_type": "display_data"
    },
    {
     "name": "stdout",
     "output_type": "stream",
     "text": [
      "--> Not exactly one containing mesh: []\n",
      "--> Not exactly one containing mesh: []\n",
      "\n",
      "Total time for mesh mapping: 0.00853276252746582\n",
      "Total time for mesh mapping: 0.007427692413330078\n",
      "Total time for mesh mapping: 0.006226539611816406\n",
      "Total time for mesh mapping: 0.0062215328216552734\n",
      "Total time for mesh mapping: 0.006142854690551758\n",
      "Total time for mesh mapping: 0.0061740875244140625\n",
      "branch_touching_number = [4]\n",
      "Total time for mesh mapping: 0.003290414810180664\n",
      "Total time for mesh mapping: 0.0014259815216064453\n",
      "Total time for mesh mapping: 0.0001506805419921875\n",
      "Total time for mesh mapping: 0.0001404285430908203\n",
      "Total time for mesh mapping: 0.00013637542724609375\n",
      "Total time for mesh mapping: 0.00012302398681640625\n",
      "branch_touching_number = [4, 1]\n",
      "most_branch_containing_piece = 0\n",
      "filtered_measurements = [288.58307169 254.65244215 343.92616287]\n",
      "new_threshold = 749.9890715898465\n"
     ]
    },
    {
     "data": {
      "application/vnd.jupyter.widget-view+json": {
       "model_id": "a9ff38d0bd17461cabb2a139ff9a49cb",
       "version_major": 2,
       "version_minor": 0
      },
      "text/plain": [
       "HBox(children=(FloatProgress(value=1.0, bar_style='info', max=1.0), HTML(value='')))"
      ]
     },
     "metadata": {},
     "output_type": "display_data"
    },
    {
     "name": "stdout",
     "output_type": "stream",
     "text": [
      "--> Not exactly one containing mesh: []\n",
      "THERE WERE NO FACES THAT FIT THE DISTANCE (749.9890715898465) and Z transform requirements\n",
      "So just skipping this edge\n",
      "\n"
     ]
    },
    {
     "data": {
      "application/vnd.jupyter.widget-view+json": {
       "model_id": "7992e892929d47ab9822ba93c2c35fee",
       "version_major": 2,
       "version_minor": 0
      },
      "text/plain": [
       "HBox(children=(FloatProgress(value=1.0, bar_style='info', max=1.0), HTML(value='')))"
      ]
     },
     "metadata": {},
     "output_type": "display_data"
    },
    {
     "name": "stdout",
     "output_type": "stream",
     "text": [
      "--> Not exactly one containing mesh: []\n",
      "--> Not exactly one containing mesh: []\n",
      "\n",
      "filtered_measurements = [131.51127462 159.10443877 107.30802871  66.71793373  93.1770961\n",
      "  83.65719098 155.81507283 149.92997392 139.8976314   80.09694666\n",
      " 150.01646875  68.9112538  107.57943635  81.66836764 102.09908918\n",
      "  79.62007201 103.01125945 120.53429153 100.2738811  119.15717302\n",
      " 112.7672923   87.13880625 133.53425947]\n",
      "new_threshold = 366.6218847080705\n"
     ]
    },
    {
     "data": {
      "application/vnd.jupyter.widget-view+json": {
       "model_id": "233c8fa638f84e348d1cf600d0dd9e6b",
       "version_major": 2,
       "version_minor": 0
      },
      "text/plain": [
       "HBox(children=(FloatProgress(value=1.0, bar_style='info', max=1.0), HTML(value='')))"
      ]
     },
     "metadata": {},
     "output_type": "display_data"
    },
    {
     "name": "stdout",
     "output_type": "stream",
     "text": [
      "--> Not exactly one containing mesh: []\n",
      "--> Not exactly one containing mesh: []\n",
      "\n"
     ]
    },
    {
     "data": {
      "application/vnd.jupyter.widget-view+json": {
       "model_id": "37c43017e9464d07937882f7858274b8",
       "version_major": 2,
       "version_minor": 0
      },
      "text/plain": [
       "HBox(children=(FloatProgress(value=1.0, bar_style='info', max=1.0), HTML(value='')))"
      ]
     },
     "metadata": {},
     "output_type": "display_data"
    },
    {
     "name": "stdout",
     "output_type": "stream",
     "text": [
      "--> Not exactly one containing mesh: []\n",
      "--> Not exactly one containing mesh: []\n",
      "--> Not exactly one containing mesh: []\n",
      "\n",
      "filtered_measurements = [125.79770379 118.07037347 111.16200867 125.7092278   97.28276211\n",
      " 149.90226764 163.42572577  72.43843012  89.70507544 163.50627814\n",
      " 126.17352238 106.29848136 154.0659529 ]\n",
      "new_threshold = 346.92490148199283\n"
     ]
    },
    {
     "data": {
      "application/vnd.jupyter.widget-view+json": {
       "model_id": "0e0d086804784c2690cbe432d8a161a0",
       "version_major": 2,
       "version_minor": 0
      },
      "text/plain": [
       "HBox(children=(FloatProgress(value=1.0, bar_style='info', max=1.0), HTML(value='')))"
      ]
     },
     "metadata": {},
     "output_type": "display_data"
    },
    {
     "name": "stdout",
     "output_type": "stream",
     "text": [
      "--> Not exactly one containing mesh: []\n",
      "--> Not exactly one containing mesh: []\n",
      "--> Not exactly one containing mesh: []\n",
      "\n",
      "Total time for mesh mapping: 0.0005426406860351562\n",
      "Total time for mesh mapping: 0.00025272369384765625\n",
      "Total time for mesh mapping: 0.0002067089080810547\n",
      "Total time for mesh mapping: 0.00022721290588378906\n",
      "Total time for mesh mapping: 0.0002167224884033203\n",
      "Total time for mesh mapping: 0.0026710033416748047\n",
      "Total time for mesh mapping: 0.0002589225769042969\n",
      "Total time for mesh mapping: 0.0004382133483886719\n",
      "Total time for mesh mapping: 0.0002384185791015625\n",
      "Total time for mesh mapping: 0.0002396106719970703\n",
      "Total time for mesh mapping: 0.0002522468566894531\n",
      "Total time for mesh mapping: 0.00022411346435546875\n",
      "Total time for mesh mapping: 0.00022482872009277344\n",
      "Total time for mesh mapping: 0.00024390220642089844\n",
      "Total time for mesh mapping: 0.00023174285888671875\n",
      "Total time for mesh mapping: 0.0002307891845703125\n",
      "Total time for mesh mapping: 0.00023937225341796875\n",
      "Total time for mesh mapping: 0.0001995563507080078\n",
      "branch_touching_number = [16]\n",
      "Total time for mesh mapping: 0.0003960132598876953\n",
      "Total time for mesh mapping: 0.0001494884490966797\n",
      "Total time for mesh mapping: 0.00013899803161621094\n",
      "Total time for mesh mapping: 0.0001499652862548828\n",
      "Total time for mesh mapping: 0.000141143798828125\n",
      "Total time for mesh mapping: 0.000156402587890625\n",
      "Total time for mesh mapping: 0.00015282630920410156\n",
      "Total time for mesh mapping: 0.00016736984252929688\n",
      "Total time for mesh mapping: 0.0001456737518310547\n",
      "Total time for mesh mapping: 0.00016021728515625\n",
      "Total time for mesh mapping: 0.00014066696166992188\n",
      "Total time for mesh mapping: 0.0001342296600341797\n",
      "Total time for mesh mapping: 0.00013446807861328125\n",
      "Total time for mesh mapping: 0.00027179718017578125\n",
      "Total time for mesh mapping: 0.00013494491577148438\n",
      "Total time for mesh mapping: 0.0002646446228027344\n",
      "Total time for mesh mapping: 0.0001373291015625\n",
      "Total time for mesh mapping: 0.0001277923583984375\n",
      "branch_touching_number = [16, 1]\n",
      "most_branch_containing_piece = 0\n"
     ]
    },
    {
     "data": {
      "application/vnd.jupyter.widget-view+json": {
       "model_id": "886f60500bcf42a1a7b6e3ff743622c1",
       "version_major": 2,
       "version_minor": 0
      },
      "text/plain": [
       "HBox(children=(FloatProgress(value=1.0, bar_style='info', max=1.0), HTML(value='')))"
      ]
     },
     "metadata": {},
     "output_type": "display_data"
    },
    {
     "name": "stdout",
     "output_type": "stream",
     "text": [
      "\n",
      "filtered_measurements = [131.16417325 196.28258254 248.90260722 278.74340505 155.44214359\n",
      " 172.8133149  156.02300352 236.86182691 180.71832207 246.44932108\n",
      " 131.27184561 200.35056261 211.07591887 137.9907156  141.29825283\n",
      " 201.98723813 168.95729446 117.14392902 157.4109652  254.78265028\n",
      " 173.25144388 271.5986854  330.49529042 124.47191169 223.39393971\n",
      " 249.95564485 208.42789843 180.67099864 149.55526731 315.61235171\n",
      " 228.67198139 259.01744672 160.990534   144.05169382 273.92357742\n",
      " 325.54609527 227.45471042 161.54469408 214.15593289 268.63515749\n",
      " 216.63662091 284.18320414 155.26875348 129.78958268 174.45751342\n",
      " 299.89243526 230.98046805 186.1052904  114.47350398 216.32415971\n",
      " 231.99047538 307.50228514 184.87022407 194.45691699 189.03538719\n",
      " 274.10551944]\n",
      "new_threshold = 686.9405917623417\n"
     ]
    },
    {
     "data": {
      "application/vnd.jupyter.widget-view+json": {
       "model_id": "1f679e7e6ee44f84ad1fd705e6aa04a9",
       "version_major": 2,
       "version_minor": 0
      },
      "text/plain": [
       "HBox(children=(FloatProgress(value=1.0, bar_style='info', max=1.0), HTML(value='')))"
      ]
     },
     "metadata": {},
     "output_type": "display_data"
    },
    {
     "name": "stdout",
     "output_type": "stream",
     "text": [
      "\n"
     ]
    },
    {
     "data": {
      "application/vnd.jupyter.widget-view+json": {
       "model_id": "c2152b328476438aad6a17d4f5630e86",
       "version_major": 2,
       "version_minor": 0
      },
      "text/plain": [
       "HBox(children=(FloatProgress(value=1.0, bar_style='info', max=1.0), HTML(value='')))"
      ]
     },
     "metadata": {},
     "output_type": "display_data"
    },
    {
     "name": "stdout",
     "output_type": "stream",
     "text": [
      "\n",
      "filtered_measurements = [991.93443038]\n",
      "new_threshold = 2426.369432801149\n"
     ]
    },
    {
     "data": {
      "application/vnd.jupyter.widget-view+json": {
       "model_id": "8198e70dc6814700bd2d77c3141ac8fe",
       "version_major": 2,
       "version_minor": 0
      },
      "text/plain": [
       "HBox(children=(FloatProgress(value=1.0, bar_style='info', max=1.0), HTML(value='')))"
      ]
     },
     "metadata": {},
     "output_type": "display_data"
    },
    {
     "name": "stdout",
     "output_type": "stream",
     "text": [
      "\n"
     ]
    },
    {
     "data": {
      "application/vnd.jupyter.widget-view+json": {
       "model_id": "9901a7f6dc2c4ec795229bff0762c3ea",
       "version_major": 2,
       "version_minor": 0
      },
      "text/plain": [
       "HBox(children=(FloatProgress(value=1.0, bar_style='info', max=1.0), HTML(value='')))"
      ]
     },
     "metadata": {},
     "output_type": "display_data"
    },
    {
     "name": "stdout",
     "output_type": "stream",
     "text": [
      "\n",
      "filtered_measurements = [1227.13173297]\n",
      "new_threshold = 2799.397644944019\n"
     ]
    },
    {
     "data": {
      "application/vnd.jupyter.widget-view+json": {
       "model_id": "a4cecdc732914a7c84229d9d2115499a",
       "version_major": 2,
       "version_minor": 0
      },
      "text/plain": [
       "HBox(children=(FloatProgress(value=1.0, bar_style='info', max=1.0), HTML(value='')))"
      ]
     },
     "metadata": {},
     "output_type": "display_data"
    },
    {
     "name": "stdout",
     "output_type": "stream",
     "text": [
      "\n"
     ]
    },
    {
     "data": {
      "application/vnd.jupyter.widget-view+json": {
       "model_id": "f13d860d4a5f41cf9085e2a3785bb78a",
       "version_major": 2,
       "version_minor": 0
      },
      "text/plain": [
       "HBox(children=(FloatProgress(value=1.0, bar_style='info', max=1.0), HTML(value='')))"
      ]
     },
     "metadata": {},
     "output_type": "display_data"
    },
    {
     "name": "stdout",
     "output_type": "stream",
     "text": [
      "\n",
      "filtered_measurements = [1272.2097426]\n",
      "new_threshold = 2931.4303066467915\n"
     ]
    },
    {
     "data": {
      "application/vnd.jupyter.widget-view+json": {
       "model_id": "f06a73f69114459483536a191d825bc0",
       "version_major": 2,
       "version_minor": 0
      },
      "text/plain": [
       "HBox(children=(FloatProgress(value=1.0, bar_style='info', max=1.0), HTML(value='')))"
      ]
     },
     "metadata": {},
     "output_type": "display_data"
    },
    {
     "name": "stdout",
     "output_type": "stream",
     "text": [
      "\n",
      "\n",
      "Working on limb #5\n"
     ]
    },
    {
     "data": {
      "application/vnd.jupyter.widget-view+json": {
       "model_id": "246e2e95baf8447f8dcd1354cd3653ff",
       "version_major": 2,
       "version_minor": 0
      },
      "text/plain": [
       "HBox(children=(FloatProgress(value=1.0, bar_style='info', max=1.0), HTML(value='')))"
      ]
     },
     "metadata": {},
     "output_type": "display_data"
    },
    {
     "data": {
      "application/vnd.jupyter.widget-view+json": {
       "model_id": "5c8e193045b54c06a3961f94ab83e39d",
       "version_major": 2,
       "version_minor": 0
      },
      "text/plain": [
       "HBox(children=(FloatProgress(value=1.0, bar_style='info', max=1.0), HTML(value='')))"
      ]
     },
     "metadata": {},
     "output_type": "display_data"
    },
    {
     "name": "stdout",
     "output_type": "stream",
     "text": [
      "--> Not exactly one containing mesh: []\n",
      "\n",
      "filtered_measurements = [264.08987543 280.22513866 190.21835723 515.28723836 338.57705029\n",
      " 296.41197952 246.09572039 263.62201286 381.15085834 377.89727173\n",
      " 273.51250728 387.2453797  291.29502898 304.86133225 293.33744717\n",
      " 403.79909674 276.40528686 297.45250114 487.86030349 527.77386436\n",
      " 395.39226308 615.56399935 570.61811592 484.33619868 316.67963315\n",
      " 548.92814529 269.14391044 569.31662082 424.81458158 375.87285021\n",
      " 316.20170923 382.05949947 342.31633282 268.82345781 581.59609728\n",
      " 475.64219527 630.73934832 363.62442067 524.21985365 386.54250677\n",
      " 502.28810037 542.31362845 355.15526558 369.9840716  606.99078013\n",
      " 430.37125508 389.259066   535.8456742  432.02029114 407.3407593\n",
      " 319.94758956 572.50525589 445.62230921 609.93878579 522.39676325\n",
      " 413.22678846 436.11030037 354.7205064 ]\n",
      "new_threshold = 1558.5369403796617\n"
     ]
    },
    {
     "data": {
      "application/vnd.jupyter.widget-view+json": {
       "model_id": "186be17eb32c4c38a00257e5d6ac60d0",
       "version_major": 2,
       "version_minor": 0
      },
      "text/plain": [
       "HBox(children=(FloatProgress(value=1.0, bar_style='info', max=1.0), HTML(value='')))"
      ]
     },
     "metadata": {},
     "output_type": "display_data"
    },
    {
     "name": "stdout",
     "output_type": "stream",
     "text": [
      "--> Not exactly one containing mesh: []\n",
      "\n"
     ]
    },
    {
     "data": {
      "application/vnd.jupyter.widget-view+json": {
       "model_id": "5179e2be30394bb184c155e3b9ebc063",
       "version_major": 2,
       "version_minor": 0
      },
      "text/plain": [
       "HBox(children=(FloatProgress(value=1.0, bar_style='info', max=1.0), HTML(value='')))"
      ]
     },
     "metadata": {},
     "output_type": "display_data"
    },
    {
     "name": "stdout",
     "output_type": "stream",
     "text": [
      "--> Not exactly one containing mesh: []\n",
      "\n",
      "filtered_measurements = [546.22799535 659.51811773 488.67162445 258.72667171 719.43781016\n",
      " 246.25583411 287.4467964  303.14316767 499.91450881 433.07788994\n",
      " 455.8563136  370.66551197 693.93311182 358.17761418 624.70697336\n",
      " 531.38214927 453.6949237  623.85984647 322.96239328 464.69329047\n",
      " 432.7428749  516.66956418 476.71127481 704.87184929 316.81769134\n",
      " 313.11856904 469.58374704 379.41732494 436.47960516 447.45007304\n",
      " 302.45899447 405.18530935 508.79889857 534.84596822 387.81233398\n",
      " 460.25357605 373.33714469 314.20114688 448.51527293 562.83721142\n",
      " 787.04731169 584.52435285 625.26578188 459.37088991 466.97548499\n",
      " 540.96452871 714.80673575 439.1692587  425.90076902 539.60063511\n",
      " 553.05515922 751.56729115 544.97823004 583.03286431 448.68519005\n",
      " 529.68058019 466.50918774 580.53150577 646.76249982 793.14057867\n",
      " 533.76853164 636.53823421 505.82498999 477.66498002 541.10526271\n",
      " 483.46838549 575.48413253]\n",
      "new_threshold = 2096.7305931951623\n"
     ]
    },
    {
     "data": {
      "application/vnd.jupyter.widget-view+json": {
       "model_id": "4cbe8f6e96854bbe9529bce78d59541f",
       "version_major": 2,
       "version_minor": 0
      },
      "text/plain": [
       "HBox(children=(FloatProgress(value=1.0, bar_style='info', max=1.0), HTML(value='')))"
      ]
     },
     "metadata": {},
     "output_type": "display_data"
    },
    {
     "name": "stdout",
     "output_type": "stream",
     "text": [
      "--> Not exactly one containing mesh: []\n",
      "\n"
     ]
    },
    {
     "data": {
      "application/vnd.jupyter.widget-view+json": {
       "model_id": "63935071017748f9afccf46818bc4d01",
       "version_major": 2,
       "version_minor": 0
      },
      "text/plain": [
       "HBox(children=(FloatProgress(value=1.0, bar_style='info', max=1.0), HTML(value='')))"
      ]
     },
     "metadata": {},
     "output_type": "display_data"
    },
    {
     "name": "stdout",
     "output_type": "stream",
     "text": [
      "--> Not exactly one containing mesh: []\n",
      "--> Not exactly one containing mesh: []\n",
      "\n",
      "filtered_measurements = [250.39882129 277.18030936 247.58148368]\n",
      "new_threshold = 573.4034995296201\n"
     ]
    },
    {
     "data": {
      "application/vnd.jupyter.widget-view+json": {
       "model_id": "4456b9c8815e4027a795ddbbf0597504",
       "version_major": 2,
       "version_minor": 0
      },
      "text/plain": [
       "HBox(children=(FloatProgress(value=1.0, bar_style='info', max=1.0), HTML(value='')))"
      ]
     },
     "metadata": {},
     "output_type": "display_data"
    },
    {
     "name": "stdout",
     "output_type": "stream",
     "text": [
      "--> Not exactly one containing mesh: []\n",
      "--> Not exactly one containing mesh: []\n",
      "\n",
      "Total time for mesh mapping: 0.0018858909606933594\n",
      "Total time for mesh mapping: 0.000492095947265625\n",
      "Total time for mesh mapping: 0.00037026405334472656\n",
      "Total time for mesh mapping: 0.00035643577575683594\n",
      "Total time for mesh mapping: 0.00032830238342285156\n",
      "Total time for mesh mapping: 0.0003643035888671875\n",
      "Total time for mesh mapping: 0.0003383159637451172\n",
      "branch_touching_number = [3]\n",
      "Total time for mesh mapping: 0.0004227161407470703\n",
      "Total time for mesh mapping: 0.0001506805419921875\n",
      "Total time for mesh mapping: 0.00018334388732910156\n",
      "Total time for mesh mapping: 0.00016069412231445312\n",
      "Total time for mesh mapping: 0.00020360946655273438\n",
      "Total time for mesh mapping: 0.00016832351684570312\n",
      "Total time for mesh mapping: 0.0001533031463623047\n",
      "branch_touching_number = [3, 3]\n",
      "most_branch_containing_piece = 0\n"
     ]
    },
    {
     "data": {
      "application/vnd.jupyter.widget-view+json": {
       "model_id": "50efada40e2348639f8d0925821dedf6",
       "version_major": 2,
       "version_minor": 0
      },
      "text/plain": [
       "HBox(children=(FloatProgress(value=1.0, bar_style='info', max=1.0), HTML(value='')))"
      ]
     },
     "metadata": {},
     "output_type": "display_data"
    },
    {
     "name": "stdout",
     "output_type": "stream",
     "text": [
      "\n",
      "filtered_measurements = [398.92874318 385.40889083 322.41138214 507.89624595 324.71138657]\n",
      "new_threshold = 1307.1828735495378\n"
     ]
    },
    {
     "data": {
      "application/vnd.jupyter.widget-view+json": {
       "model_id": "4b5d10db799d41f0a1bdcf736cdf370f",
       "version_major": 2,
       "version_minor": 0
      },
      "text/plain": [
       "HBox(children=(FloatProgress(value=1.0, bar_style='info', max=1.0), HTML(value='')))"
      ]
     },
     "metadata": {},
     "output_type": "display_data"
    },
    {
     "name": "stdout",
     "output_type": "stream",
     "text": [
      "\n"
     ]
    },
    {
     "data": {
      "application/vnd.jupyter.widget-view+json": {
       "model_id": "b3e0b8b903be4cd68dcfc0f930d2de5f",
       "version_major": 2,
       "version_minor": 0
      },
      "text/plain": [
       "HBox(children=(FloatProgress(value=1.0, bar_style='info', max=1.0), HTML(value='')))"
      ]
     },
     "metadata": {},
     "output_type": "display_data"
    },
    {
     "name": "stdout",
     "output_type": "stream",
     "text": [
      "--> Not exactly one containing mesh: []\n",
      "--> Not exactly one containing mesh: []\n",
      "--> Not exactly one containing mesh: []\n",
      "\n",
      "filtered_measurements = [278.76793345 265.84626967]\n",
      "new_threshold = 473.89710258393615\n"
     ]
    },
    {
     "data": {
      "application/vnd.jupyter.widget-view+json": {
       "model_id": "20cb6172a57948f4adc2a710b8e6c200",
       "version_major": 2,
       "version_minor": 0
      },
      "text/plain": [
       "HBox(children=(FloatProgress(value=1.0, bar_style='info', max=1.0), HTML(value='')))"
      ]
     },
     "metadata": {},
     "output_type": "display_data"
    },
    {
     "name": "stdout",
     "output_type": "stream",
     "text": [
      "--> Not exactly one containing mesh: []\n",
      "--> Not exactly one containing mesh: []\n",
      "--> Not exactly one containing mesh: []\n",
      "--> Not exactly one containing mesh: []\n",
      "--> Not exactly one containing mesh: []\n",
      "\n",
      "Total time for mesh mapping: 0.0003998279571533203\n",
      "Total time for mesh mapping: 0.00023603439331054688\n",
      "Total time for mesh mapping: 0.0002396106719970703\n",
      "Total time for mesh mapping: 0.0002391338348388672\n",
      "Total time for mesh mapping: 0.00023794174194335938\n",
      "Total time for mesh mapping: 0.00022602081298828125\n",
      "Total time for mesh mapping: 0.000213623046875\n",
      "branch_touching_number = [4]\n",
      "Total time for mesh mapping: 0.0002830028533935547\n",
      "Total time for mesh mapping: 0.00015473365783691406\n",
      "Total time for mesh mapping: 0.000164031982421875\n",
      "Total time for mesh mapping: 0.000152587890625\n",
      "Total time for mesh mapping: 0.00015687942504882812\n",
      "Total time for mesh mapping: 0.00027751922607421875\n",
      "Total time for mesh mapping: 0.00012373924255371094\n",
      "branch_touching_number = [4, 2]\n",
      "most_branch_containing_piece = 0\n"
     ]
    },
    {
     "data": {
      "application/vnd.jupyter.widget-view+json": {
       "model_id": "ca4cefc8458843a5a29e33678d4b2249",
       "version_major": 2,
       "version_minor": 0
      },
      "text/plain": [
       "HBox(children=(FloatProgress(value=1.0, bar_style='info', max=1.0), HTML(value='')))"
      ]
     },
     "metadata": {},
     "output_type": "display_data"
    },
    {
     "name": "stdout",
     "output_type": "stream",
     "text": [
      "\n",
      "filtered_measurements = [371.85791078 220.18007807]\n",
      "new_threshold = 733.0842405235555\n"
     ]
    },
    {
     "data": {
      "application/vnd.jupyter.widget-view+json": {
       "model_id": "7b363e828c04484788169be359dc0605",
       "version_major": 2,
       "version_minor": 0
      },
      "text/plain": [
       "HBox(children=(FloatProgress(value=1.0, bar_style='info', max=1.0), HTML(value='')))"
      ]
     },
     "metadata": {},
     "output_type": "display_data"
    },
    {
     "name": "stdout",
     "output_type": "stream",
     "text": [
      "--> Not exactly one containing mesh: [0 1]\n",
      "\n"
     ]
    },
    {
     "data": {
      "application/vnd.jupyter.widget-view+json": {
       "model_id": "5091755d713f4b5591fe4130f3bd5e27",
       "version_major": 2,
       "version_minor": 0
      },
      "text/plain": [
       "HBox(children=(FloatProgress(value=1.0, bar_style='info', max=1.0), HTML(value='')))"
      ]
     },
     "metadata": {},
     "output_type": "display_data"
    },
    {
     "name": "stdout",
     "output_type": "stream",
     "text": [
      "\n",
      "filtered_measurements = [416.04604419 371.1916509  498.08534862 399.37318336 452.9100342\n",
      " 634.67702601 388.62913164 708.53955729 498.11428314 325.77579559\n",
      " 394.71384424 512.99556829 405.74258064 560.31595095 617.50248255\n",
      " 633.53537555 403.12264277 545.17074725 433.41084851 449.53299405\n",
      " 452.25793906 486.49965942 345.3633898  497.71787596 378.79823605\n",
      " 408.46061902 451.45697972 667.29637045 465.7150963  481.74656284\n",
      " 500.79520561 357.96130505 344.55234532 566.62515333 463.64341248\n",
      " 691.28055623 634.49305074 458.26913987 479.69034022 686.4254298\n",
      " 369.32880553 387.9556117  453.49366414 373.5374843  432.94141949\n",
      " 367.51455523 380.80738797 360.07502429 667.67983215 504.44751076\n",
      " 412.91429777 504.09085303 391.35955981 384.2821817  573.28986955\n",
      " 409.33283238 394.94341721 620.96371772 463.6959743  528.17624067\n",
      " 516.67167935]\n",
      "new_threshold = 1567.1679456471352\n"
     ]
    },
    {
     "data": {
      "application/vnd.jupyter.widget-view+json": {
       "model_id": "b78252d1a7d545b0a639b1ed81f4f852",
       "version_major": 2,
       "version_minor": 0
      },
      "text/plain": [
       "HBox(children=(FloatProgress(value=1.0, bar_style='info', max=1.0), HTML(value='')))"
      ]
     },
     "metadata": {},
     "output_type": "display_data"
    },
    {
     "name": "stdout",
     "output_type": "stream",
     "text": [
      "\n"
     ]
    },
    {
     "data": {
      "application/vnd.jupyter.widget-view+json": {
       "model_id": "a49f51bf533349ab850473d70222df9e",
       "version_major": 2,
       "version_minor": 0
      },
      "text/plain": [
       "HBox(children=(FloatProgress(value=1.0, bar_style='info', max=1.0), HTML(value='')))"
      ]
     },
     "metadata": {},
     "output_type": "display_data"
    },
    {
     "name": "stdout",
     "output_type": "stream",
     "text": [
      "\n",
      "filtered_measurements = [374.242307   369.1880121  383.50072531 644.09401616 589.7094856\n",
      " 500.44559462 679.20134658 359.22495998 460.56769748 565.65288676\n",
      " 461.80386568 632.77588478 552.01004964 495.90964254 491.17499005\n",
      " 515.88026878 305.84129952 331.5756047  471.29785337 459.65202735\n",
      " 500.85576991 375.74510402 448.0692565  381.22345521 417.8780359\n",
      " 559.09512683 491.73636197 459.61053943 597.41456258 724.65327033\n",
      " 621.43476866 657.62341077 693.26456091 468.14318527 537.80817535\n",
      " 346.30003974 495.43640671 399.11681745 386.88047255 729.94452531\n",
      " 657.492801   567.24851508 619.32854357 472.9905475  480.1759591\n",
      " 654.68487112 670.56228056 472.65131806 486.7078614  542.6362644\n",
      " 538.64475592 418.9098973  536.00438497 419.43914247 417.2570824\n",
      " 424.27344707 397.37999928 561.79376993 612.51156826 609.60000544\n",
      " 577.92655743 520.46135947 477.09653628 502.88175648 362.51690574\n",
      " 564.156032   404.9513793  470.5566488  416.15491238 527.83280969\n",
      " 635.84887218 751.75225329 406.97560125 358.34387479]\n",
      "new_threshold = 1729.7391954948762\n"
     ]
    },
    {
     "data": {
      "application/vnd.jupyter.widget-view+json": {
       "model_id": "a3e408e510144ecf8762a29c2f29233d",
       "version_major": 2,
       "version_minor": 0
      },
      "text/plain": [
       "HBox(children=(FloatProgress(value=1.0, bar_style='info', max=1.0), HTML(value='')))"
      ]
     },
     "metadata": {},
     "output_type": "display_data"
    },
    {
     "name": "stdout",
     "output_type": "stream",
     "text": [
      "\n"
     ]
    },
    {
     "data": {
      "application/vnd.jupyter.widget-view+json": {
       "model_id": "848ec2f5cd5f43dba1290a7fc4d36603",
       "version_major": 2,
       "version_minor": 0
      },
      "text/plain": [
       "HBox(children=(FloatProgress(value=1.0, bar_style='info', max=1.0), HTML(value='')))"
      ]
     },
     "metadata": {},
     "output_type": "display_data"
    },
    {
     "name": "stdout",
     "output_type": "stream",
     "text": [
      "\n",
      "filtered_measurements = [863.26456689 843.52934817]\n",
      "new_threshold = 1426.5817761997705\n"
     ]
    },
    {
     "data": {
      "application/vnd.jupyter.widget-view+json": {
       "model_id": "ec7827172adf4cb8937ec41a10b18bbc",
       "version_major": 2,
       "version_minor": 0
      },
      "text/plain": [
       "HBox(children=(FloatProgress(value=1.0, bar_style='info', max=1.0), HTML(value='')))"
      ]
     },
     "metadata": {},
     "output_type": "display_data"
    },
    {
     "name": "stdout",
     "output_type": "stream",
     "text": [
      "\n"
     ]
    },
    {
     "data": {
      "application/vnd.jupyter.widget-view+json": {
       "model_id": "e65987b22d3742bc9678febe4982f3c4",
       "version_major": 2,
       "version_minor": 0
      },
      "text/plain": [
       "HBox(children=(FloatProgress(value=1.0, bar_style='info', max=1.0), HTML(value='')))"
      ]
     },
     "metadata": {},
     "output_type": "display_data"
    },
    {
     "name": "stdout",
     "output_type": "stream",
     "text": [
      "\n",
      "filtered_measurements = [1226.86367213]\n",
      "new_threshold = 2941.2145189960684\n"
     ]
    },
    {
     "data": {
      "application/vnd.jupyter.widget-view+json": {
       "model_id": "f474f13132c84004aef2564ee015ca86",
       "version_major": 2,
       "version_minor": 0
      },
      "text/plain": [
       "HBox(children=(FloatProgress(value=1.0, bar_style='info', max=1.0), HTML(value='')))"
      ]
     },
     "metadata": {},
     "output_type": "display_data"
    },
    {
     "name": "stdout",
     "output_type": "stream",
     "text": [
      "\n"
     ]
    },
    {
     "data": {
      "application/vnd.jupyter.widget-view+json": {
       "model_id": "7fa25e6bfd6f43129493f01b4074a9de",
       "version_major": 2,
       "version_minor": 0
      },
      "text/plain": [
       "HBox(children=(FloatProgress(value=1.0, bar_style='info', max=1.0), HTML(value='')))"
      ]
     },
     "metadata": {},
     "output_type": "display_data"
    },
    {
     "name": "stdout",
     "output_type": "stream",
     "text": [
      "\n",
      "filtered_measurements = [856.08491451 592.24402132 570.29171445 588.72387955 813.47156983\n",
      " 855.83352239 638.93670088 592.60164144 600.12200911 537.59314629\n",
      " 857.0366269  559.08514192 562.36521716 658.74991029 589.25421211\n",
      " 577.04623197 620.67657592 599.98533797 533.26792571 578.74514325]\n",
      "new_threshold = 1905.6731569455237\n"
     ]
    },
    {
     "data": {
      "application/vnd.jupyter.widget-view+json": {
       "model_id": "46ec675c76064f96a620a64878b0e154",
       "version_major": 2,
       "version_minor": 0
      },
      "text/plain": [
       "HBox(children=(FloatProgress(value=1.0, bar_style='info', max=1.0), HTML(value='')))"
      ]
     },
     "metadata": {},
     "output_type": "display_data"
    },
    {
     "name": "stdout",
     "output_type": "stream",
     "text": [
      "\n"
     ]
    },
    {
     "data": {
      "application/vnd.jupyter.widget-view+json": {
       "model_id": "024bb5f1a8b3466d897ebcf6496043c0",
       "version_major": 2,
       "version_minor": 0
      },
      "text/plain": [
       "HBox(children=(FloatProgress(value=1.0, bar_style='info', max=1.0), HTML(value='')))"
      ]
     },
     "metadata": {},
     "output_type": "display_data"
    },
    {
     "name": "stdout",
     "output_type": "stream",
     "text": [
      "\n",
      "filtered_measurements = [1015.51917991  934.9838934   882.0692485   897.07856768  829.91074449\n",
      "  836.83457605  827.32855262  918.24645223 1061.17665295]\n",
      "new_threshold = 1723.4258002207825\n"
     ]
    },
    {
     "data": {
      "application/vnd.jupyter.widget-view+json": {
       "model_id": "8a2de8f6852643e7ab6ecfc8b25cc2eb",
       "version_major": 2,
       "version_minor": 0
      },
      "text/plain": [
       "HBox(children=(FloatProgress(value=1.0, bar_style='info', max=1.0), HTML(value='')))"
      ]
     },
     "metadata": {},
     "output_type": "display_data"
    },
    {
     "name": "stdout",
     "output_type": "stream",
     "text": [
      "\n"
     ]
    },
    {
     "data": {
      "application/vnd.jupyter.widget-view+json": {
       "model_id": "ec668b27cb674653b30ae7e7e22c83a6",
       "version_major": 2,
       "version_minor": 0
      },
      "text/plain": [
       "HBox(children=(FloatProgress(value=1.0, bar_style='info', max=1.0), HTML(value='')))"
      ]
     },
     "metadata": {},
     "output_type": "display_data"
    },
    {
     "name": "stdout",
     "output_type": "stream",
     "text": [
      "\n",
      "filtered_measurements = [762.30404028 509.46913052 495.31709739 498.79555535 461.2079838\n",
      " 514.89162076 750.51132701 581.38753296 613.12789207 609.02963713\n",
      " 911.9776583  607.42139645 800.00991009 467.3341927  716.23098903\n",
      " 831.71945482 671.67666534]\n",
      "new_threshold = 1947.7361331140728\n"
     ]
    },
    {
     "data": {
      "application/vnd.jupyter.widget-view+json": {
       "model_id": "124e2fd93938474e84cfd42f06647edb",
       "version_major": 2,
       "version_minor": 0
      },
      "text/plain": [
       "HBox(children=(FloatProgress(value=1.0, bar_style='info', max=1.0), HTML(value='')))"
      ]
     },
     "metadata": {},
     "output_type": "display_data"
    },
    {
     "name": "stdout",
     "output_type": "stream",
     "text": [
      "\n"
     ]
    },
    {
     "data": {
      "application/vnd.jupyter.widget-view+json": {
       "model_id": "54d837ce6dbf490eb00d20608b6ec1d5",
       "version_major": 2,
       "version_minor": 0
      },
      "text/plain": [
       "HBox(children=(FloatProgress(value=1.0, bar_style='info', max=1.0), HTML(value='')))"
      ]
     },
     "metadata": {},
     "output_type": "display_data"
    },
    {
     "name": "stdout",
     "output_type": "stream",
     "text": [
      "--> Not exactly one containing mesh: []\n",
      "\n",
      "filtered_measurements = [344.05459101 303.23097953 459.11707031 398.43216044 372.9245464\n",
      " 402.29363442 475.32041446 363.86569073 530.48997095 570.8850282\n",
      " 539.15929082 350.14799451 352.66248724 354.29274283 366.48283938\n",
      " 383.83845808 420.77718788 371.81428596 448.589724   389.68113831\n",
      " 450.3202931  441.72951155 522.60916973 412.95237218 539.75219639\n",
      " 417.86591964 511.51556777 362.59329845 434.04429319 483.25367376\n",
      " 325.19722479 373.06370408 434.96602398 344.57722705 280.11028561\n",
      " 298.69432474 372.99157251 534.16658171 584.86881077 377.25065388\n",
      " 402.6394402  435.6760878  326.85406323 446.32121101 273.95946335\n",
      " 424.77074481 580.12130246 317.9240749  304.33006925 239.41693491\n",
      " 283.07248112 393.4541508  395.53475349 398.30978838 358.91725255]\n",
      "new_threshold = 1409.2528602731968\n"
     ]
    },
    {
     "data": {
      "application/vnd.jupyter.widget-view+json": {
       "model_id": "db62a6be791e4baeb22a873f9316918a",
       "version_major": 2,
       "version_minor": 0
      },
      "text/plain": [
       "HBox(children=(FloatProgress(value=1.0, bar_style='info', max=1.0), HTML(value='')))"
      ]
     },
     "metadata": {},
     "output_type": "display_data"
    },
    {
     "name": "stdout",
     "output_type": "stream",
     "text": [
      "--> Not exactly one containing mesh: []\n",
      "\n"
     ]
    },
    {
     "data": {
      "application/vnd.jupyter.widget-view+json": {
       "model_id": "a16369c82db145228e31338db834c067",
       "version_major": 2,
       "version_minor": 0
      },
      "text/plain": [
       "HBox(children=(FloatProgress(value=1.0, bar_style='info', max=1.0), HTML(value='')))"
      ]
     },
     "metadata": {},
     "output_type": "display_data"
    },
    {
     "name": "stdout",
     "output_type": "stream",
     "text": [
      "--> Not exactly one containing mesh: []\n",
      "\n",
      "filtered_measurements = [554.36978615 749.78961443 694.45469117 527.33765402 525.39012671\n",
      " 407.36554496 428.72121907 370.53166207 384.73080631 424.97059561\n",
      " 697.29450382 612.43992248 633.0329245 ]\n",
      "new_threshold = 1740.2084808817212\n"
     ]
    },
    {
     "data": {
      "application/vnd.jupyter.widget-view+json": {
       "model_id": "c82c2a48e9ac443287c47156bcb63169",
       "version_major": 2,
       "version_minor": 0
      },
      "text/plain": [
       "HBox(children=(FloatProgress(value=1.0, bar_style='info', max=1.0), HTML(value='')))"
      ]
     },
     "metadata": {},
     "output_type": "display_data"
    },
    {
     "name": "stdout",
     "output_type": "stream",
     "text": [
      "--> Not exactly one containing mesh: []\n",
      "\n",
      "\n",
      "Working on limb #6\n"
     ]
    },
    {
     "data": {
      "application/vnd.jupyter.widget-view+json": {
       "model_id": "6e4d99fac6464d22b29e2481ae0778d0",
       "version_major": 2,
       "version_minor": 0
      },
      "text/plain": [
       "HBox(children=(FloatProgress(value=1.0, bar_style='info', max=1.0), HTML(value='')))"
      ]
     },
     "metadata": {},
     "output_type": "display_data"
    },
    {
     "data": {
      "application/vnd.jupyter.widget-view+json": {
       "model_id": "a72ca7d01f0946d9833ac095d56ad5df",
       "version_major": 2,
       "version_minor": 0
      },
      "text/plain": [
       "HBox(children=(FloatProgress(value=1.0, bar_style='info', max=1.0), HTML(value='')))"
      ]
     },
     "metadata": {},
     "output_type": "display_data"
    },
    {
     "name": "stdout",
     "output_type": "stream",
     "text": [
      "\n",
      "filtered_measurements = [ 84.5503029   80.93629434  94.90632035 102.07224584 106.26432784\n",
      " 129.40236273  99.13881509  64.59198462  64.94419944  85.49572763\n",
      " 126.06166667  58.2809589   86.13075088 145.39764831  95.68364939\n",
      "  77.90549961  62.30026859 108.36413686  78.27826133  68.10956647\n",
      " 135.61892681 140.03712438  91.15220706  72.09132432  89.84627596\n",
      " 147.2693639  148.23351837 144.94767242  60.60611451 130.40340157\n",
      " 125.22062013 112.60409591 144.0023544  155.71731026]\n",
      "new_threshold = 370.6869296357677\n"
     ]
    },
    {
     "data": {
      "application/vnd.jupyter.widget-view+json": {
       "model_id": "8933228b63fc41dead5b67083af3f833",
       "version_major": 2,
       "version_minor": 0
      },
      "text/plain": [
       "HBox(children=(FloatProgress(value=1.0, bar_style='info', max=1.0), HTML(value='')))"
      ]
     },
     "metadata": {},
     "output_type": "display_data"
    },
    {
     "name": "stdout",
     "output_type": "stream",
     "text": [
      "--> Not exactly one containing mesh: []\n",
      "\n",
      "Total time for mesh mapping: 0.0013346672058105469\n",
      "Total time for mesh mapping: 0.0005123615264892578\n",
      "Total time for mesh mapping: 0.00036406517028808594\n",
      "Total time for mesh mapping: 0.0002853870391845703\n",
      "Total time for mesh mapping: 0.0003304481506347656\n",
      "Total time for mesh mapping: 0.002004384994506836\n",
      "Total time for mesh mapping: 0.0003139972686767578\n",
      "Total time for mesh mapping: 0.0003247261047363281\n",
      "Total time for mesh mapping: 0.0002942085266113281\n",
      "Total time for mesh mapping: 0.00025844573974609375\n",
      "Total time for mesh mapping: 0.00026297569274902344\n",
      "Total time for mesh mapping: 0.000247955322265625\n",
      "Total time for mesh mapping: 0.00030922889709472656\n",
      "Total time for mesh mapping: 0.0002541542053222656\n",
      "Total time for mesh mapping: 0.00027251243591308594\n",
      "Total time for mesh mapping: 0.0003268718719482422\n",
      "Total time for mesh mapping: 0.0002739429473876953\n",
      "Total time for mesh mapping: 0.0003044605255126953\n",
      "Total time for mesh mapping: 0.000255584716796875\n",
      "Total time for mesh mapping: 0.0002636909484863281\n",
      "Total time for mesh mapping: 0.000244140625\n",
      "Total time for mesh mapping: 0.0002639293670654297\n",
      "Total time for mesh mapping: 0.000278472900390625\n",
      "Total time for mesh mapping: 0.00024890899658203125\n",
      "Total time for mesh mapping: 0.0002684593200683594\n",
      "Total time for mesh mapping: 0.00026988983154296875\n",
      "Total time for mesh mapping: 0.00025177001953125\n",
      "Total time for mesh mapping: 0.00026726722717285156\n",
      "Total time for mesh mapping: 0.0002586841583251953\n",
      "Total time for mesh mapping: 0.00028061866760253906\n",
      "Total time for mesh mapping: 0.00035762786865234375\n",
      "Total time for mesh mapping: 0.000270843505859375\n",
      "Total time for mesh mapping: 0.00031304359436035156\n",
      "Total time for mesh mapping: 0.0002911090850830078\n",
      "Total time for mesh mapping: 0.0002796649932861328\n",
      "Total time for mesh mapping: 0.00029015541076660156\n",
      "Total time for mesh mapping: 0.0002720355987548828\n",
      "Total time for mesh mapping: 0.00025463104248046875\n",
      "Total time for mesh mapping: 0.004052877426147461\n",
      "Total time for mesh mapping: 0.0002608299255371094\n",
      "Total time for mesh mapping: 0.0002582073211669922\n",
      "Total time for mesh mapping: 0.00024509429931640625\n",
      "Total time for mesh mapping: 0.0002319812774658203\n",
      "branch_touching_number = [41]\n",
      "Total time for mesh mapping: 0.0004677772521972656\n",
      "Total time for mesh mapping: 0.00022459030151367188\n",
      "Total time for mesh mapping: 0.00018477439880371094\n",
      "Total time for mesh mapping: 0.00015664100646972656\n",
      "Total time for mesh mapping: 0.00018405914306640625\n",
      "Total time for mesh mapping: 0.0001857280731201172\n",
      "Total time for mesh mapping: 0.0001780986785888672\n",
      "Total time for mesh mapping: 0.00019478797912597656\n",
      "Total time for mesh mapping: 0.00019073486328125\n",
      "Total time for mesh mapping: 0.00016617774963378906\n",
      "Total time for mesh mapping: 0.00017023086547851562\n",
      "Total time for mesh mapping: 0.0001659393310546875\n",
      "Total time for mesh mapping: 0.00033664703369140625\n",
      "Total time for mesh mapping: 0.0001652240753173828\n",
      "Total time for mesh mapping: 0.00017833709716796875\n",
      "Total time for mesh mapping: 0.00022125244140625\n",
      "Total time for mesh mapping: 0.00018215179443359375\n",
      "Total time for mesh mapping: 0.00018215179443359375\n",
      "Total time for mesh mapping: 0.000171661376953125\n",
      "Total time for mesh mapping: 0.00017213821411132812\n",
      "Total time for mesh mapping: 0.0001647472381591797\n",
      "Total time for mesh mapping: 0.00030732154846191406\n",
      "Total time for mesh mapping: 0.0001704692840576172\n",
      "Total time for mesh mapping: 0.00016355514526367188\n",
      "Total time for mesh mapping: 0.00021123886108398438\n",
      "Total time for mesh mapping: 0.00017333030700683594\n",
      "Total time for mesh mapping: 0.00016641616821289062\n",
      "Total time for mesh mapping: 0.0001621246337890625\n",
      "Total time for mesh mapping: 0.00016450881958007812\n",
      "Total time for mesh mapping: 0.00017690658569335938\n",
      "Total time for mesh mapping: 0.00021839141845703125\n",
      "Total time for mesh mapping: 0.00016999244689941406\n",
      "Total time for mesh mapping: 0.0001995563507080078\n",
      "Total time for mesh mapping: 0.0001900196075439453\n",
      "Total time for mesh mapping: 0.0001976490020751953\n",
      "Total time for mesh mapping: 0.0001914501190185547\n",
      "Total time for mesh mapping: 0.0002579689025878906\n",
      "Total time for mesh mapping: 0.0001595020294189453\n",
      "Total time for mesh mapping: 0.0002968311309814453\n",
      "Total time for mesh mapping: 0.00016736984252929688\n",
      "Total time for mesh mapping: 0.000171661376953125\n",
      "Total time for mesh mapping: 0.0001666545867919922\n",
      "Total time for mesh mapping: 0.00015735626220703125\n",
      "branch_touching_number = [41, 1]\n",
      "most_branch_containing_piece = 0\n"
     ]
    },
    {
     "data": {
      "application/vnd.jupyter.widget-view+json": {
       "model_id": "9debfc1286774a5cb9968297acbb97d7",
       "version_major": 2,
       "version_minor": 0
      },
      "text/plain": [
       "HBox(children=(FloatProgress(value=1.0, bar_style='info', max=1.0), HTML(value='')))"
      ]
     },
     "metadata": {},
     "output_type": "display_data"
    },
    {
     "name": "stdout",
     "output_type": "stream",
     "text": [
      "--> Not exactly one containing mesh: []\n",
      "\n",
      "filtered_measurements = [251.35849845 167.27062408 418.95953782 304.14530113 225.94217424\n",
      " 279.60615331 223.7151584  440.63649616 295.66312069 214.60890068\n",
      " 211.87168053 390.0406377  254.52724054 306.17407205 281.0344265\n",
      " 485.11459437 458.26568624 248.08434138 394.0492775  169.40543557\n",
      " 218.14739962 377.73928197 222.99481063 249.75060166 421.94031508\n",
      " 291.27506945 324.48692123 476.29804292 302.74754714 270.56340123\n",
      " 337.40191914 280.16536481 302.75429905 207.79566043 237.01015124\n",
      " 428.50969753 266.79723481 224.56901413 214.54760348 382.89118991\n",
      " 294.37216103 404.70392393 235.23182529 199.66823547 464.40148133\n",
      " 197.37798299 235.70440635 300.45008227 428.02688011 339.74714186\n",
      " 294.33583206 385.59179399 407.94721923 318.68825391]\n",
      "new_threshold = 1187.2749649878467\n"
     ]
    },
    {
     "data": {
      "application/vnd.jupyter.widget-view+json": {
       "model_id": "ea2896e8704d474b9b779add85a2977e",
       "version_major": 2,
       "version_minor": 0
      },
      "text/plain": [
       "HBox(children=(FloatProgress(value=1.0, bar_style='info', max=1.0), HTML(value='')))"
      ]
     },
     "metadata": {},
     "output_type": "display_data"
    },
    {
     "name": "stdout",
     "output_type": "stream",
     "text": [
      "--> Not exactly one containing mesh: []\n",
      "\n"
     ]
    },
    {
     "data": {
      "application/vnd.jupyter.widget-view+json": {
       "model_id": "bf2b99b2372842cd8d5be2acc06b9688",
       "version_major": 2,
       "version_minor": 0
      },
      "text/plain": [
       "HBox(children=(FloatProgress(value=1.0, bar_style='info', max=1.0), HTML(value='')))"
      ]
     },
     "metadata": {},
     "output_type": "display_data"
    },
    {
     "name": "stdout",
     "output_type": "stream",
     "text": [
      "--> Not exactly one containing mesh: []\n",
      "\n",
      "filtered_measurements = [404.64576128 373.02669989 238.39458725 228.0004241  503.07164499\n",
      " 338.1322697  319.41481531 342.79965478 382.75793318 307.67042777\n",
      " 222.12087809 225.97116455 323.62925243 367.56762411 268.43318564\n",
      " 339.08474988 322.86558978 179.46764195 353.69689673 233.76145041\n",
      " 327.20208431 223.33306905 209.92928305]\n",
      "new_threshold = 1173.1918484134198\n"
     ]
    },
    {
     "data": {
      "application/vnd.jupyter.widget-view+json": {
       "model_id": "ad43723ad528487d8e935541ad31baa3",
       "version_major": 2,
       "version_minor": 0
      },
      "text/plain": [
       "HBox(children=(FloatProgress(value=1.0, bar_style='info', max=1.0), HTML(value='')))"
      ]
     },
     "metadata": {},
     "output_type": "display_data"
    },
    {
     "name": "stdout",
     "output_type": "stream",
     "text": [
      "--> Not exactly one containing mesh: []\n",
      "\n"
     ]
    },
    {
     "data": {
      "application/vnd.jupyter.widget-view+json": {
       "model_id": "57acd9da09e14705ba908a86eb44c26c",
       "version_major": 2,
       "version_minor": 0
      },
      "text/plain": [
       "HBox(children=(FloatProgress(value=1.0, bar_style='info', max=1.0), HTML(value='')))"
      ]
     },
     "metadata": {},
     "output_type": "display_data"
    },
    {
     "name": "stdout",
     "output_type": "stream",
     "text": [
      "\n",
      "filtered_measurements = [260.5388162  236.81274863 135.14069243 211.11791521 247.10401695\n",
      " 353.36057291 427.62649599 293.85501356 165.30760478 346.93068234\n",
      " 279.06896269 376.43907138 262.70053381 309.6941577  235.11070778\n",
      " 335.32986189 243.75656715 331.25412219 435.22891108 292.58560845\n",
      " 185.29113322 154.03118918]\n",
      "new_threshold = 1022.2709624907595\n"
     ]
    },
    {
     "data": {
      "application/vnd.jupyter.widget-view+json": {
       "model_id": "27f3bc3ea6e842d78db37f1e7fd646bc",
       "version_major": 2,
       "version_minor": 0
      },
      "text/plain": [
       "HBox(children=(FloatProgress(value=1.0, bar_style='info', max=1.0), HTML(value='')))"
      ]
     },
     "metadata": {},
     "output_type": "display_data"
    },
    {
     "name": "stdout",
     "output_type": "stream",
     "text": [
      "\n"
     ]
    },
    {
     "data": {
      "application/vnd.jupyter.widget-view+json": {
       "model_id": "dea14bb1178b43d8b1dcddcaa2db8b77",
       "version_major": 2,
       "version_minor": 0
      },
      "text/plain": [
       "HBox(children=(FloatProgress(value=1.0, bar_style='info', max=1.0), HTML(value='')))"
      ]
     },
     "metadata": {},
     "output_type": "display_data"
    },
    {
     "name": "stdout",
     "output_type": "stream",
     "text": [
      "\n",
      "filtered_measurements = [223.40942458 231.9936021  197.6268727  238.95497582 288.67481774]\n",
      "new_threshold = 455.0159636091008\n"
     ]
    },
    {
     "data": {
      "application/vnd.jupyter.widget-view+json": {
       "model_id": "7408193e2de2497c888e463c90f4f7f0",
       "version_major": 2,
       "version_minor": 0
      },
      "text/plain": [
       "HBox(children=(FloatProgress(value=1.0, bar_style='info', max=1.0), HTML(value='')))"
      ]
     },
     "metadata": {},
     "output_type": "display_data"
    },
    {
     "name": "stdout",
     "output_type": "stream",
     "text": [
      "\n"
     ]
    },
    {
     "data": {
      "application/vnd.jupyter.widget-view+json": {
       "model_id": "f538717e6dc4465b870e9d22a542d3c4",
       "version_major": 2,
       "version_minor": 0
      },
      "text/plain": [
       "HBox(children=(FloatProgress(value=1.0, bar_style='info', max=1.0), HTML(value='')))"
      ]
     },
     "metadata": {},
     "output_type": "display_data"
    },
    {
     "name": "stdout",
     "output_type": "stream",
     "text": [
      "\n",
      "filtered_measurements = [419.37759802 620.04925765 286.83327222 256.01948197 347.23991107\n",
      " 223.63453444 312.77265219 577.0828664  392.40979628 516.26492233\n",
      " 508.89407624 618.88087508 342.29789301 567.28972952 287.64833975\n",
      " 606.04986795 636.31314586 545.23327853 288.62305926 586.40618228\n",
      " 318.20536353 385.13277966]\n",
      "new_threshold = 1737.8407204068349\n"
     ]
    },
    {
     "data": {
      "application/vnd.jupyter.widget-view+json": {
       "model_id": "9b66f89bc6314c229eaf5d09b05c0538",
       "version_major": 2,
       "version_minor": 0
      },
      "text/plain": [
       "HBox(children=(FloatProgress(value=1.0, bar_style='info', max=1.0), HTML(value='')))"
      ]
     },
     "metadata": {},
     "output_type": "display_data"
    },
    {
     "name": "stdout",
     "output_type": "stream",
     "text": [
      "\n"
     ]
    },
    {
     "data": {
      "application/vnd.jupyter.widget-view+json": {
       "model_id": "2f99626f2c2c4a4782244cb1b0c06869",
       "version_major": 2,
       "version_minor": 0
      },
      "text/plain": [
       "HBox(children=(FloatProgress(value=1.0, bar_style='info', max=1.0), HTML(value='')))"
      ]
     },
     "metadata": {},
     "output_type": "display_data"
    },
    {
     "name": "stdout",
     "output_type": "stream",
     "text": [
      "--> Not exactly one containing mesh: []\n",
      "--> Not exactly one containing mesh: []\n",
      "\n",
      "filtered_measurements = [61.56357294 77.42226145 94.75325974 67.82795305 84.073371   81.93299023]\n",
      "new_threshold = 201.56395220299027\n"
     ]
    },
    {
     "data": {
      "application/vnd.jupyter.widget-view+json": {
       "model_id": "01056428e0404d98a285b7d5c45c0005",
       "version_major": 2,
       "version_minor": 0
      },
      "text/plain": [
       "HBox(children=(FloatProgress(value=1.0, bar_style='info', max=1.0), HTML(value='')))"
      ]
     },
     "metadata": {},
     "output_type": "display_data"
    },
    {
     "name": "stdout",
     "output_type": "stream",
     "text": [
      "--> Not exactly one containing mesh: []\n",
      "--> Not exactly one containing mesh: []\n",
      "--> Not exactly one containing mesh: []\n",
      "\n",
      "Total time for mesh mapping: 0.0004909038543701172\n",
      "Total time for mesh mapping: 0.00019240379333496094\n",
      "Total time for mesh mapping: 0.00019812583923339844\n",
      "Total time for mesh mapping: 0.00020074844360351562\n",
      "Total time for mesh mapping: 0.00020694732666015625\n",
      "Total time for mesh mapping: 0.0002040863037109375\n",
      "Total time for mesh mapping: 0.00020241737365722656\n",
      "Total time for mesh mapping: 0.00019693374633789062\n",
      "Total time for mesh mapping: 0.0003268718719482422\n",
      "Total time for mesh mapping: 0.0001926422119140625\n",
      "Total time for mesh mapping: 0.0001823902130126953\n",
      "branch_touching_number = [9]\n",
      "Total time for mesh mapping: 0.0003330707550048828\n",
      "Total time for mesh mapping: 0.0001251697540283203\n",
      "Total time for mesh mapping: 0.00013256072998046875\n",
      "Total time for mesh mapping: 0.0001316070556640625\n",
      "Total time for mesh mapping: 0.000133514404296875\n",
      "Total time for mesh mapping: 0.0001347064971923828\n",
      "Total time for mesh mapping: 0.00027441978454589844\n",
      "Total time for mesh mapping: 0.00013113021850585938\n",
      "Total time for mesh mapping: 0.00013303756713867188\n",
      "Total time for mesh mapping: 0.0001316070556640625\n",
      "Total time for mesh mapping: 0.00012254714965820312\n",
      "branch_touching_number = [9, 1]\n",
      "most_branch_containing_piece = 0\n"
     ]
    },
    {
     "data": {
      "application/vnd.jupyter.widget-view+json": {
       "model_id": "2f857a0af30142969d29a07031ef8c6f",
       "version_major": 2,
       "version_minor": 0
      },
      "text/plain": [
       "HBox(children=(FloatProgress(value=1.0, bar_style='info', max=1.0), HTML(value='')))"
      ]
     },
     "metadata": {},
     "output_type": "display_data"
    },
    {
     "name": "stdout",
     "output_type": "stream",
     "text": [
      "\n",
      "filtered_measurements = [515.91643644 601.92071995 499.68782924 542.95229719 341.68616152\n",
      " 523.07135958 372.60713169 424.43649752 357.93003446 556.64976468\n",
      " 644.07738128 418.7689298  251.21974463 614.35746589 330.83842114\n",
      " 392.65582563 460.2120595  637.63373332 370.19008585 497.00798831\n",
      " 335.58162177 275.4013696  305.75646402 290.97287673 284.08179071\n",
      " 299.26757113 291.79818249 494.88806285]\n",
      "new_threshold = 1584.0657452044247\n"
     ]
    },
    {
     "data": {
      "application/vnd.jupyter.widget-view+json": {
       "model_id": "2106e809fd9e44c680fb1fae4eeaa829",
       "version_major": 2,
       "version_minor": 0
      },
      "text/plain": [
       "HBox(children=(FloatProgress(value=1.0, bar_style='info', max=1.0), HTML(value='')))"
      ]
     },
     "metadata": {},
     "output_type": "display_data"
    },
    {
     "name": "stdout",
     "output_type": "stream",
     "text": [
      "\n"
     ]
    },
    {
     "data": {
      "application/vnd.jupyter.widget-view+json": {
       "model_id": "f96e75d1dd9a4f49a65776e23f91cf29",
       "version_major": 2,
       "version_minor": 0
      },
      "text/plain": [
       "HBox(children=(FloatProgress(value=1.0, bar_style='info', max=1.0), HTML(value='')))"
      ]
     },
     "metadata": {},
     "output_type": "display_data"
    },
    {
     "name": "stdout",
     "output_type": "stream",
     "text": [
      "--> Not exactly one containing mesh: []\n",
      "\n",
      "Total time for mesh mapping: 0.0014529228210449219\n",
      "Total time for mesh mapping: 0.00022149085998535156\n",
      "Total time for mesh mapping: 0.0002124309539794922\n",
      "Total time for mesh mapping: 0.00020551681518554688\n",
      "Total time for mesh mapping: 0.00021147727966308594\n",
      "Total time for mesh mapping: 0.00020956993103027344\n",
      "Total time for mesh mapping: 0.00021195411682128906\n",
      "Total time for mesh mapping: 0.00021982192993164062\n",
      "Total time for mesh mapping: 0.0002532005310058594\n",
      "Total time for mesh mapping: 0.00046443939208984375\n",
      "Total time for mesh mapping: 0.0006513595581054688\n",
      "branch_touching_number = [2]\n",
      "Total time for mesh mapping: 0.0005342960357666016\n",
      "Total time for mesh mapping: 0.00014257431030273438\n",
      "Total time for mesh mapping: 0.0001366138458251953\n",
      "Total time for mesh mapping: 0.00013637542724609375\n",
      "Total time for mesh mapping: 0.004178762435913086\n",
      "Total time for mesh mapping: 0.0031659603118896484\n",
      "Total time for mesh mapping: 0.003159046173095703\n",
      "Total time for mesh mapping: 0.003198385238647461\n",
      "Total time for mesh mapping: 0.005278587341308594\n",
      "Total time for mesh mapping: 0.0037813186645507812\n",
      "Total time for mesh mapping: 0.004857301712036133\n",
      "branch_touching_number = [2, 8]\n",
      "most_branch_containing_piece = 1\n",
      "filtered_measurements = [ 72.57120385  85.81905974  90.90540733  73.08691725 112.71761461\n",
      " 122.27377263]\n",
      "new_threshold = 225.62748160832643\n"
     ]
    },
    {
     "data": {
      "application/vnd.jupyter.widget-view+json": {
       "model_id": "b141844db28f4e2fa4770598ce4e36a9",
       "version_major": 2,
       "version_minor": 0
      },
      "text/plain": [
       "HBox(children=(FloatProgress(value=1.0, bar_style='info', max=1.0), HTML(value='')))"
      ]
     },
     "metadata": {},
     "output_type": "display_data"
    },
    {
     "name": "stdout",
     "output_type": "stream",
     "text": [
      "--> Not exactly one containing mesh: []\n",
      "--> Not exactly one containing mesh: []\n",
      "THERE WERE NO FACES THAT FIT THE DISTANCE (225.62748160832643) and Z transform requirements\n",
      "So just skipping this edge\n",
      "\n"
     ]
    },
    {
     "data": {
      "application/vnd.jupyter.widget-view+json": {
       "model_id": "4c43ed671e4b43ff92c7262448a12a36",
       "version_major": 2,
       "version_minor": 0
      },
      "text/plain": [
       "HBox(children=(FloatProgress(value=1.0, bar_style='info', max=1.0), HTML(value='')))"
      ]
     },
     "metadata": {},
     "output_type": "display_data"
    },
    {
     "name": "stdout",
     "output_type": "stream",
     "text": [
      "--> Not exactly one containing mesh: []\n",
      "\n",
      "filtered_measurements = [256.46029955 272.66869891 250.32307496 456.48166008 364.17069602\n",
      " 356.02053902 411.98369107 505.71073742 393.33724757 329.53395024\n",
      " 504.64502486 306.66056322 256.85521469 310.6687602  205.18001971\n",
      " 235.90536979 289.16715013 355.67189856 300.22790588]\n",
      "new_threshold = 1219.8611098635056\n"
     ]
    },
    {
     "data": {
      "application/vnd.jupyter.widget-view+json": {
       "model_id": "e3bf9cd469584c5ab5f9f118da711cbb",
       "version_major": 2,
       "version_minor": 0
      },
      "text/plain": [
       "HBox(children=(FloatProgress(value=1.0, bar_style='info', max=1.0), HTML(value='')))"
      ]
     },
     "metadata": {},
     "output_type": "display_data"
    },
    {
     "name": "stdout",
     "output_type": "stream",
     "text": [
      "--> Not exactly one containing mesh: []\n",
      "\n"
     ]
    },
    {
     "data": {
      "application/vnd.jupyter.widget-view+json": {
       "model_id": "8d5a5693b891412dab845fdc980ba991",
       "version_major": 2,
       "version_minor": 0
      },
      "text/plain": [
       "HBox(children=(FloatProgress(value=1.0, bar_style='info', max=1.0), HTML(value='')))"
      ]
     },
     "metadata": {},
     "output_type": "display_data"
    },
    {
     "name": "stdout",
     "output_type": "stream",
     "text": [
      "\n",
      "filtered_measurements = [1052.61114845  715.38159918  600.9795697   943.08871753]\n",
      "new_threshold = 2454.8148243143632\n"
     ]
    },
    {
     "data": {
      "application/vnd.jupyter.widget-view+json": {
       "model_id": "97dc0b377d1b40f1ba116cc3d5f79add",
       "version_major": 2,
       "version_minor": 0
      },
      "text/plain": [
       "HBox(children=(FloatProgress(value=1.0, bar_style='info', max=1.0), HTML(value='')))"
      ]
     },
     "metadata": {},
     "output_type": "display_data"
    },
    {
     "name": "stdout",
     "output_type": "stream",
     "text": [
      "\n"
     ]
    },
    {
     "data": {
      "application/vnd.jupyter.widget-view+json": {
       "model_id": "d98129ee29934bcd88ff7a07bb54acac",
       "version_major": 2,
       "version_minor": 0
      },
      "text/plain": [
       "HBox(children=(FloatProgress(value=1.0, bar_style='info', max=1.0), HTML(value='')))"
      ]
     },
     "metadata": {},
     "output_type": "display_data"
    },
    {
     "name": "stdout",
     "output_type": "stream",
     "text": [
      "\n",
      "filtered_measurements = [717.72546843 539.2328264  541.22775633]\n",
      "new_threshold = 1061.8428831876975\n"
     ]
    },
    {
     "data": {
      "application/vnd.jupyter.widget-view+json": {
       "model_id": "b28e51c15170413d81a945ec7c9878b8",
       "version_major": 2,
       "version_minor": 0
      },
      "text/plain": [
       "HBox(children=(FloatProgress(value=1.0, bar_style='info', max=1.0), HTML(value='')))"
      ]
     },
     "metadata": {},
     "output_type": "display_data"
    },
    {
     "name": "stdout",
     "output_type": "stream",
     "text": [
      "\n"
     ]
    },
    {
     "data": {
      "application/vnd.jupyter.widget-view+json": {
       "model_id": "5460903087ad42bf82ccd9df139536e0",
       "version_major": 2,
       "version_minor": 0
      },
      "text/plain": [
       "HBox(children=(FloatProgress(value=1.0, bar_style='info', max=1.0), HTML(value='')))"
      ]
     },
     "metadata": {},
     "output_type": "display_data"
    },
    {
     "name": "stdout",
     "output_type": "stream",
     "text": [
      "\n",
      "filtered_measurements = [411.72962055 503.57973624 705.33123262 433.90310915 598.00859381]\n",
      "new_threshold = 1755.8251510929717\n"
     ]
    },
    {
     "data": {
      "application/vnd.jupyter.widget-view+json": {
       "model_id": "e6a7bbf4bd934db2aa87420e9ae63a23",
       "version_major": 2,
       "version_minor": 0
      },
      "text/plain": [
       "HBox(children=(FloatProgress(value=1.0, bar_style='info', max=1.0), HTML(value='')))"
      ]
     },
     "metadata": {},
     "output_type": "display_data"
    },
    {
     "name": "stdout",
     "output_type": "stream",
     "text": [
      "\n"
     ]
    },
    {
     "data": {
      "application/vnd.jupyter.widget-view+json": {
       "model_id": "7aab005bf2844a4b980ed12537428cc9",
       "version_major": 2,
       "version_minor": 0
      },
      "text/plain": [
       "HBox(children=(FloatProgress(value=1.0, bar_style='info', max=1.0), HTML(value='')))"
      ]
     },
     "metadata": {},
     "output_type": "display_data"
    },
    {
     "name": "stdout",
     "output_type": "stream",
     "text": [
      "\n",
      "filtered_measurements = [585.65250784 586.09218258 585.95233863 694.08007168 728.81309583\n",
      " 667.53605543]\n",
      "new_threshold = 1420.0655383066776\n"
     ]
    },
    {
     "data": {
      "application/vnd.jupyter.widget-view+json": {
       "model_id": "9a37b5f77e3d469bb52c4a69c36ff329",
       "version_major": 2,
       "version_minor": 0
      },
      "text/plain": [
       "HBox(children=(FloatProgress(value=1.0, bar_style='info', max=1.0), HTML(value='')))"
      ]
     },
     "metadata": {},
     "output_type": "display_data"
    },
    {
     "name": "stdout",
     "output_type": "stream",
     "text": [
      "\n"
     ]
    },
    {
     "data": {
      "application/vnd.jupyter.widget-view+json": {
       "model_id": "56d6f43eeb1a43abaa33e3bd3a48a41b",
       "version_major": 2,
       "version_minor": 0
      },
      "text/plain": [
       "HBox(children=(FloatProgress(value=1.0, bar_style='info', max=1.0), HTML(value='')))"
      ]
     },
     "metadata": {},
     "output_type": "display_data"
    },
    {
     "name": "stdout",
     "output_type": "stream",
     "text": [
      "--> Not exactly one containing mesh: []\n",
      "--> Not exactly one containing mesh: []\n",
      "\n",
      "filtered_measurements = [140.72539001 130.20037133 102.65529229 127.33084449 161.3054663\n",
      " 142.02866244  83.56449039  66.95344805  64.6307435   77.1472563\n",
      " 113.55493635  89.55279742  85.28562832  72.394188    68.75740199\n",
      "  72.57749227  82.65902255 110.32188237 152.94701441 138.40061423\n",
      " 136.61517953]\n",
      "new_threshold = 356.23843234809897\n"
     ]
    },
    {
     "data": {
      "application/vnd.jupyter.widget-view+json": {
       "model_id": "4c80cad5e3a74187b550cda42aed900f",
       "version_major": 2,
       "version_minor": 0
      },
      "text/plain": [
       "HBox(children=(FloatProgress(value=1.0, bar_style='info', max=1.0), HTML(value='')))"
      ]
     },
     "metadata": {},
     "output_type": "display_data"
    },
    {
     "name": "stdout",
     "output_type": "stream",
     "text": [
      "--> Not exactly one containing mesh: []\n",
      "--> Not exactly one containing mesh: []\n",
      "--> Not exactly one containing mesh: []\n",
      "\n",
      "Total time for mesh mapping: 0.00083160400390625\n",
      "Total time for mesh mapping: 0.0002834796905517578\n",
      "Total time for mesh mapping: 0.00021123886108398438\n",
      "Total time for mesh mapping: 0.00023102760314941406\n",
      "Total time for mesh mapping: 0.00023674964904785156\n",
      "Total time for mesh mapping: 0.00024127960205078125\n",
      "Total time for mesh mapping: 0.00038361549377441406\n",
      "Total time for mesh mapping: 0.0002646446228027344\n",
      "Total time for mesh mapping: 0.00024390220642089844\n",
      "Total time for mesh mapping: 0.00023627281188964844\n",
      "Total time for mesh mapping: 0.0002300739288330078\n",
      "Total time for mesh mapping: 0.00023818016052246094\n",
      "Total time for mesh mapping: 0.0002307891845703125\n",
      "Total time for mesh mapping: 0.0002474784851074219\n",
      "Total time for mesh mapping: 0.0003807544708251953\n",
      "Total time for mesh mapping: 0.0002338886260986328\n",
      "Total time for mesh mapping: 0.0002532005310058594\n",
      "Total time for mesh mapping: 0.0002377033233642578\n",
      "Total time for mesh mapping: 0.00023937225341796875\n",
      "Total time for mesh mapping: 0.00024318695068359375\n",
      "Total time for mesh mapping: 0.00024437904357910156\n",
      "Total time for mesh mapping: 0.00029397010803222656\n",
      "Total time for mesh mapping: 0.00040912628173828125\n",
      "Total time for mesh mapping: 0.00025773048400878906\n",
      "Total time for mesh mapping: 0.0002663135528564453\n",
      "Total time for mesh mapping: 0.00024199485778808594\n",
      "Total time for mesh mapping: 0.00022339820861816406\n",
      "branch_touching_number = [25]\n",
      "Total time for mesh mapping: 0.0004742145538330078\n",
      "Total time for mesh mapping: 0.00015783309936523438\n",
      "Total time for mesh mapping: 0.00015115737915039062\n",
      "Total time for mesh mapping: 0.00014257431030273438\n",
      "Total time for mesh mapping: 0.00013494491577148438\n",
      "Total time for mesh mapping: 0.00013709068298339844\n",
      "Total time for mesh mapping: 0.0001461505889892578\n",
      "Total time for mesh mapping: 0.000141143798828125\n",
      "Total time for mesh mapping: 0.00013589859008789062\n",
      "Total time for mesh mapping: 0.00013685226440429688\n",
      "Total time for mesh mapping: 0.000133514404296875\n",
      "Total time for mesh mapping: 0.00013589859008789062\n",
      "Total time for mesh mapping: 0.000133514404296875\n",
      "Total time for mesh mapping: 0.00015854835510253906\n",
      "Total time for mesh mapping: 0.0002777576446533203\n",
      "Total time for mesh mapping: 0.00013637542724609375\n",
      "Total time for mesh mapping: 0.00013685226440429688\n",
      "Total time for mesh mapping: 0.00013637542724609375\n",
      "Total time for mesh mapping: 0.00013637542724609375\n",
      "Total time for mesh mapping: 0.00013518333435058594\n",
      "Total time for mesh mapping: 0.00014209747314453125\n",
      "Total time for mesh mapping: 0.00016617774963378906\n",
      "Total time for mesh mapping: 0.00014638900756835938\n",
      "Total time for mesh mapping: 0.0002923011779785156\n",
      "Total time for mesh mapping: 0.00014519691467285156\n",
      "Total time for mesh mapping: 0.00013828277587890625\n",
      "Total time for mesh mapping: 0.00013494491577148438\n",
      "branch_touching_number = [25, 1]\n",
      "most_branch_containing_piece = 0\n"
     ]
    },
    {
     "data": {
      "application/vnd.jupyter.widget-view+json": {
       "model_id": "6077c14f9fea484884a12527a160cc37",
       "version_major": 2,
       "version_minor": 0
      },
      "text/plain": [
       "HBox(children=(FloatProgress(value=1.0, bar_style='info', max=1.0), HTML(value='')))"
      ]
     },
     "metadata": {},
     "output_type": "display_data"
    },
    {
     "name": "stdout",
     "output_type": "stream",
     "text": [
      "--> Not exactly one containing mesh: []\n",
      "\n",
      "filtered_measurements = [388.45279432 295.02967871 418.55653879 348.36142799 321.37108344\n",
      " 273.44063432 378.29643106 388.70214942 374.85550275 264.00213086\n",
      " 191.05337104 324.67404553 290.03859057 284.43393867 493.90371259\n",
      " 293.03008468 245.29322806 345.31931107 280.67799679 321.14831375\n",
      " 370.93965624 268.63606722 378.05659157 311.12792416 351.28181111\n",
      " 394.81448875 498.49028766 404.04393684 399.65043496 213.33499416\n",
      " 301.56705309 365.72495572 332.30630819 372.73430109 422.40903693\n",
      " 253.90539224 231.61684996 281.83096611 264.99487669 416.2227668\n",
      " 274.53458005 204.37227241 316.83962349 453.36993382 374.49193164\n",
      " 377.87492964 369.92761935 390.6528306  426.25461667 436.84371341\n",
      " 319.9975855  221.67781119 180.48725491 277.31966459 187.57758874\n",
      " 413.49499742 266.45578037 295.23074939 487.36243503 176.55837952\n",
      " 449.57636986 397.21561011 254.33455734 258.609827   258.21993297\n",
      " 154.48958427 152.02001585 300.45112253 262.14418121 306.84942283\n",
      " 272.35405143 147.29417807 150.04464004 271.22074473 184.00174349\n",
      " 146.79660361 182.95728433 299.67529436]\n",
      "new_threshold = 1367.4914420565424\n"
     ]
    },
    {
     "data": {
      "application/vnd.jupyter.widget-view+json": {
       "model_id": "5adf98eb94f649c6a85c4ff45001b2ed",
       "version_major": 2,
       "version_minor": 0
      },
      "text/plain": [
       "HBox(children=(FloatProgress(value=1.0, bar_style='info', max=1.0), HTML(value='')))"
      ]
     },
     "metadata": {},
     "output_type": "display_data"
    },
    {
     "name": "stdout",
     "output_type": "stream",
     "text": [
      "--> Not exactly one containing mesh: []\n",
      "\n"
     ]
    },
    {
     "data": {
      "application/vnd.jupyter.widget-view+json": {
       "model_id": "156cd3786338479896b961698fe98d8b",
       "version_major": 2,
       "version_minor": 0
      },
      "text/plain": [
       "HBox(children=(FloatProgress(value=1.0, bar_style='info', max=1.0), HTML(value='')))"
      ]
     },
     "metadata": {},
     "output_type": "display_data"
    },
    {
     "name": "stdout",
     "output_type": "stream",
     "text": [
      "\n",
      "filtered_measurements = [652.86960042]\n",
      "new_threshold = 941.517468445892\n"
     ]
    },
    {
     "data": {
      "application/vnd.jupyter.widget-view+json": {
       "model_id": "5ee06ccaecc3456a90d1a73218055573",
       "version_major": 2,
       "version_minor": 0
      },
      "text/plain": [
       "HBox(children=(FloatProgress(value=1.0, bar_style='info', max=1.0), HTML(value='')))"
      ]
     },
     "metadata": {},
     "output_type": "display_data"
    },
    {
     "name": "stdout",
     "output_type": "stream",
     "text": [
      "\n",
      "\n",
      "Working on limb #7\n"
     ]
    },
    {
     "data": {
      "application/vnd.jupyter.widget-view+json": {
       "model_id": "1628d3accba24b60b27ba979d2a60012",
       "version_major": 2,
       "version_minor": 0
      },
      "text/plain": [
       "HBox(children=(FloatProgress(value=1.0, bar_style='info', max=1.0), HTML(value='')))"
      ]
     },
     "metadata": {},
     "output_type": "display_data"
    },
    {
     "data": {
      "application/vnd.jupyter.widget-view+json": {
       "model_id": "32f05a12e56f4a2ab57041392455c72f",
       "version_major": 2,
       "version_minor": 0
      },
      "text/plain": [
       "HBox(children=(FloatProgress(value=1.0, bar_style='info', max=1.0), HTML(value='')))"
      ]
     },
     "metadata": {},
     "output_type": "display_data"
    },
    {
     "name": "stdout",
     "output_type": "stream",
     "text": [
      "\n",
      "filtered_measurements = [452.32911716 316.72878963 266.01521299 352.73685819 426.19203662\n",
      " 490.72013902 252.10543731 198.38767561 373.8758647  321.79316658\n",
      " 302.13345425 297.38934604 365.00650182 232.8661274  200.05490862\n",
      " 412.7831914  393.96326998 288.12189336 314.71688232 368.73870503\n",
      " 313.43829534 434.09115064 295.97349113 264.08892206 370.25720051\n",
      " 222.97936545 201.60537303 378.52119972 380.7744925  333.86978074\n",
      " 436.86868584 222.87676065 242.19611309 279.69987573 269.28475443\n",
      " 239.9863237  313.40790898 272.79604325]\n",
      "new_threshold = 1078.7128118357134\n"
     ]
    },
    {
     "data": {
      "application/vnd.jupyter.widget-view+json": {
       "model_id": "07a9045afaf9410b8bad613a1abfd9aa",
       "version_major": 2,
       "version_minor": 0
      },
      "text/plain": [
       "HBox(children=(FloatProgress(value=1.0, bar_style='info', max=1.0), HTML(value='')))"
      ]
     },
     "metadata": {},
     "output_type": "display_data"
    },
    {
     "name": "stdout",
     "output_type": "stream",
     "text": [
      "\n"
     ]
    },
    {
     "data": {
      "application/vnd.jupyter.widget-view+json": {
       "model_id": "198bb12f8e4e4fdaaaca95d870604acd",
       "version_major": 2,
       "version_minor": 0
      },
      "text/plain": [
       "HBox(children=(FloatProgress(value=1.0, bar_style='info', max=1.0), HTML(value='')))"
      ]
     },
     "metadata": {},
     "output_type": "display_data"
    },
    {
     "name": "stdout",
     "output_type": "stream",
     "text": [
      "\n",
      "filtered_measurements = [717.97577368 521.58981981 617.35481417 711.8051187  706.11095167\n",
      " 653.15109046 567.75564    561.94902804 651.86527726 540.05883841\n",
      " 517.96459713 505.01617972 503.88398334 620.31167719]\n",
      "new_threshold = 1405.1157508486745\n"
     ]
    },
    {
     "data": {
      "application/vnd.jupyter.widget-view+json": {
       "model_id": "9c5852ad20024ee48540175a5c71e2fd",
       "version_major": 2,
       "version_minor": 0
      },
      "text/plain": [
       "HBox(children=(FloatProgress(value=1.0, bar_style='info', max=1.0), HTML(value='')))"
      ]
     },
     "metadata": {},
     "output_type": "display_data"
    },
    {
     "name": "stdout",
     "output_type": "stream",
     "text": [
      "\n"
     ]
    },
    {
     "data": {
      "application/vnd.jupyter.widget-view+json": {
       "model_id": "ea1d1969cca24fdb9c1c1134b1f6ba8f",
       "version_major": 2,
       "version_minor": 0
      },
      "text/plain": [
       "HBox(children=(FloatProgress(value=1.0, bar_style='info', max=1.0), HTML(value='')))"
      ]
     },
     "metadata": {},
     "output_type": "display_data"
    },
    {
     "name": "stdout",
     "output_type": "stream",
     "text": [
      "\n",
      "filtered_measurements = [342.23824241 412.16547216 388.00943579 366.79099481 369.92780034\n",
      " 390.83051185 367.64967376 404.81781291 382.7599859  400.26558387]\n",
      "new_threshold = 903.4739081695025\n"
     ]
    },
    {
     "data": {
      "application/vnd.jupyter.widget-view+json": {
       "model_id": "b623c07120dd44028ae4bbf29a43e76c",
       "version_major": 2,
       "version_minor": 0
      },
      "text/plain": [
       "HBox(children=(FloatProgress(value=1.0, bar_style='info', max=1.0), HTML(value='')))"
      ]
     },
     "metadata": {},
     "output_type": "display_data"
    },
    {
     "name": "stdout",
     "output_type": "stream",
     "text": [
      "\n"
     ]
    },
    {
     "data": {
      "application/vnd.jupyter.widget-view+json": {
       "model_id": "cb62f2f13b28441eb77be72855e716dd",
       "version_major": 2,
       "version_minor": 0
      },
      "text/plain": [
       "HBox(children=(FloatProgress(value=1.0, bar_style='info', max=1.0), HTML(value='')))"
      ]
     },
     "metadata": {},
     "output_type": "display_data"
    },
    {
     "name": "stdout",
     "output_type": "stream",
     "text": [
      "\n",
      "filtered_measurements = [288.95903924 462.21512455 475.0577943  430.33093799]\n",
      "new_threshold = 841.3557014123539\n"
     ]
    },
    {
     "data": {
      "application/vnd.jupyter.widget-view+json": {
       "model_id": "2fe07e32f88649faa8f320f4668df6a6",
       "version_major": 2,
       "version_minor": 0
      },
      "text/plain": [
       "HBox(children=(FloatProgress(value=1.0, bar_style='info', max=1.0), HTML(value='')))"
      ]
     },
     "metadata": {},
     "output_type": "display_data"
    },
    {
     "name": "stdout",
     "output_type": "stream",
     "text": [
      "\n"
     ]
    },
    {
     "data": {
      "application/vnd.jupyter.widget-view+json": {
       "model_id": "355d867c1f534ede98dd362a147b0a4a",
       "version_major": 2,
       "version_minor": 0
      },
      "text/plain": [
       "HBox(children=(FloatProgress(value=1.0, bar_style='info', max=1.0), HTML(value='')))"
      ]
     },
     "metadata": {},
     "output_type": "display_data"
    },
    {
     "name": "stdout",
     "output_type": "stream",
     "text": [
      "\n",
      "filtered_measurements = [255.93782302 388.16187291 332.36397185 283.91876462 177.6150585\n",
      " 346.71769974 223.19851712 267.654139   416.67710342 174.53285128\n",
      " 401.6102779  376.52698815 262.00964601 310.93821369 280.48884353\n",
      " 252.57124824 197.91797806 180.16183351 447.6423745  257.21561841\n",
      " 346.93045498 387.18697019 338.54867609 293.50544225 332.20959901\n",
      " 260.04403106 282.60239978 286.24310621 154.82493743 200.58650411\n",
      " 318.73512444]\n",
      "new_threshold = 1079.275805805403\n"
     ]
    },
    {
     "data": {
      "application/vnd.jupyter.widget-view+json": {
       "model_id": "2d79dde7dc7246eea48a4e8ff35933dc",
       "version_major": 2,
       "version_minor": 0
      },
      "text/plain": [
       "HBox(children=(FloatProgress(value=1.0, bar_style='info', max=1.0), HTML(value='')))"
      ]
     },
     "metadata": {},
     "output_type": "display_data"
    },
    {
     "name": "stdout",
     "output_type": "stream",
     "text": [
      "\n"
     ]
    },
    {
     "data": {
      "application/vnd.jupyter.widget-view+json": {
       "model_id": "b61c7509c1034ce38603ac255c11557f",
       "version_major": 2,
       "version_minor": 0
      },
      "text/plain": [
       "HBox(children=(FloatProgress(value=1.0, bar_style='info', max=1.0), HTML(value='')))"
      ]
     },
     "metadata": {},
     "output_type": "display_data"
    },
    {
     "name": "stdout",
     "output_type": "stream",
     "text": [
      "--> Not exactly one containing mesh: []\n",
      "\n",
      "filtered_measurements = [ 77.78578465  62.8904835   63.55055533  86.91126751 104.6304135 ]\n",
      "new_threshold = 189.8662931166141\n"
     ]
    },
    {
     "data": {
      "application/vnd.jupyter.widget-view+json": {
       "model_id": "e000c7f24c79458ab0136ef408c72459",
       "version_major": 2,
       "version_minor": 0
      },
      "text/plain": [
       "HBox(children=(FloatProgress(value=1.0, bar_style='info', max=1.0), HTML(value='')))"
      ]
     },
     "metadata": {},
     "output_type": "display_data"
    },
    {
     "name": "stdout",
     "output_type": "stream",
     "text": [
      "--> Not exactly one containing mesh: []\n",
      "--> Not exactly one containing mesh: []\n",
      "\n",
      "Total time for mesh mapping: 0.0005133152008056641\n",
      "Total time for mesh mapping: 0.0001964569091796875\n",
      "Total time for mesh mapping: 0.0002155303955078125\n",
      "Total time for mesh mapping: 0.00019240379333496094\n",
      "Total time for mesh mapping: 0.00019598007202148438\n",
      "Total time for mesh mapping: 0.00019741058349609375\n",
      "Total time for mesh mapping: 0.0003039836883544922\n",
      "Total time for mesh mapping: 0.00018596649169921875\n",
      "Total time for mesh mapping: 0.000186920166015625\n",
      "branch_touching_number = [7]\n",
      "Total time for mesh mapping: 0.0010454654693603516\n",
      "Total time for mesh mapping: 0.00012183189392089844\n",
      "Total time for mesh mapping: 0.0001285076141357422\n",
      "Total time for mesh mapping: 0.00012922286987304688\n",
      "Total time for mesh mapping: 0.0001323223114013672\n",
      "Total time for mesh mapping: 0.0037643909454345703\n",
      "Total time for mesh mapping: 0.00013566017150878906\n",
      "Total time for mesh mapping: 0.0001285076141357422\n",
      "Total time for mesh mapping: 0.00013184547424316406\n",
      "branch_touching_number = [7, 1]\n",
      "most_branch_containing_piece = 0\n"
     ]
    },
    {
     "data": {
      "application/vnd.jupyter.widget-view+json": {
       "model_id": "d138b021eb00425da68ee224881f67a0",
       "version_major": 2,
       "version_minor": 0
      },
      "text/plain": [
       "HBox(children=(FloatProgress(value=1.0, bar_style='info', max=1.0), HTML(value='')))"
      ]
     },
     "metadata": {},
     "output_type": "display_data"
    },
    {
     "name": "stdout",
     "output_type": "stream",
     "text": [
      "\n",
      "filtered_measurements = [244.48257802 225.21656349 260.07470342 271.08348239 191.52048959\n",
      " 175.9941524  231.81840539]\n",
      "new_threshold = 531.7262895012906\n"
     ]
    },
    {
     "data": {
      "application/vnd.jupyter.widget-view+json": {
       "model_id": "f25793dc540244e3841a5ca2f57e0d0a",
       "version_major": 2,
       "version_minor": 0
      },
      "text/plain": [
       "HBox(children=(FloatProgress(value=1.0, bar_style='info', max=1.0), HTML(value='')))"
      ]
     },
     "metadata": {},
     "output_type": "display_data"
    },
    {
     "name": "stdout",
     "output_type": "stream",
     "text": [
      "\n"
     ]
    },
    {
     "data": {
      "application/vnd.jupyter.widget-view+json": {
       "model_id": "8bb5ea45da07438996a405e68166cc46",
       "version_major": 2,
       "version_minor": 0
      },
      "text/plain": [
       "HBox(children=(FloatProgress(value=1.0, bar_style='info', max=1.0), HTML(value='')))"
      ]
     },
     "metadata": {},
     "output_type": "display_data"
    },
    {
     "name": "stdout",
     "output_type": "stream",
     "text": [
      "\n",
      "filtered_measurements = [224.90824314 212.49730645 286.78044935 493.3963807  474.29045406\n",
      " 246.29705447 253.87798131 285.88722966 278.40003236 261.75679636\n",
      " 285.71908142 329.18105183 345.76895206 252.41460453 274.43335509\n",
      " 217.65357553 265.31505868 299.62966724 467.98633605 174.9811438\n",
      " 305.55273648 381.65017929 339.71674539 490.80520222 356.60577037\n",
      " 412.24194335 274.71466033 310.96687834 247.82251304 306.94381281\n",
      " 235.23013159 354.69471604 399.34528211 338.23206441 390.80668511\n",
      " 474.82643542 243.53592485 278.45390549 286.57948694 289.13914197\n",
      " 405.07535958 268.30306285 278.92311478 175.01679666 209.68696176\n",
      " 191.98863264 170.29551421]\n",
      "new_threshold = 1281.3204176373429\n"
     ]
    },
    {
     "data": {
      "application/vnd.jupyter.widget-view+json": {
       "model_id": "2635f0443b734842abde3e45bd0d15a4",
       "version_major": 2,
       "version_minor": 0
      },
      "text/plain": [
       "HBox(children=(FloatProgress(value=1.0, bar_style='info', max=1.0), HTML(value='')))"
      ]
     },
     "metadata": {},
     "output_type": "display_data"
    },
    {
     "name": "stdout",
     "output_type": "stream",
     "text": [
      "\n"
     ]
    },
    {
     "data": {
      "application/vnd.jupyter.widget-view+json": {
       "model_id": "928b4ddc76d74e39b75e006548726bea",
       "version_major": 2,
       "version_minor": 0
      },
      "text/plain": [
       "HBox(children=(FloatProgress(value=1.0, bar_style='info', max=1.0), HTML(value='')))"
      ]
     },
     "metadata": {},
     "output_type": "display_data"
    },
    {
     "name": "stdout",
     "output_type": "stream",
     "text": [
      "\n",
      "filtered_measurements = [317.86615929 279.60076318 271.82397839 272.78477846 252.61570648\n",
      " 204.67901943 286.83942086 516.98223421 425.14276308 323.85080443\n",
      " 466.38480347 286.17303352 263.57142044 329.16989597 453.05086339\n",
      " 237.881148   255.55494555 212.19352779 228.89821162 439.19846783\n",
      " 338.08914252 434.708327   478.30753851 294.7646012  320.49781876\n",
      " 375.62770248 380.33524851 343.52811391 324.64709839 225.37796668\n",
      " 432.90923976 286.88056118 433.0002616  535.10231982 374.18477596\n",
      " 249.76482113 263.25241225 306.15326171 444.28278586 423.91940281\n",
      " 390.97153748 392.18806389 370.67812593 341.86362099 358.7526217\n",
      " 310.64507629 442.55607034]\n",
      "new_threshold = 1321.5373320530166\n"
     ]
    },
    {
     "data": {
      "application/vnd.jupyter.widget-view+json": {
       "model_id": "b82af53b41124a2a8c46fda602ca9c68",
       "version_major": 2,
       "version_minor": 0
      },
      "text/plain": [
       "HBox(children=(FloatProgress(value=1.0, bar_style='info', max=1.0), HTML(value='')))"
      ]
     },
     "metadata": {},
     "output_type": "display_data"
    },
    {
     "name": "stdout",
     "output_type": "stream",
     "text": [
      "\n"
     ]
    },
    {
     "data": {
      "application/vnd.jupyter.widget-view+json": {
       "model_id": "bb7c296b249c4632af0405036cae32a3",
       "version_major": 2,
       "version_minor": 0
      },
      "text/plain": [
       "HBox(children=(FloatProgress(value=1.0, bar_style='info', max=1.0), HTML(value='')))"
      ]
     },
     "metadata": {},
     "output_type": "display_data"
    },
    {
     "name": "stdout",
     "output_type": "stream",
     "text": [
      "\n",
      "filtered_measurements = [ 74.31197102  88.6357065  107.22155096 126.51748817]\n",
      "new_threshold = 272.50744101686405\n"
     ]
    },
    {
     "data": {
      "application/vnd.jupyter.widget-view+json": {
       "model_id": "81e0c2abfb414b019c8a474cec71b7d4",
       "version_major": 2,
       "version_minor": 0
      },
      "text/plain": [
       "HBox(children=(FloatProgress(value=1.0, bar_style='info', max=1.0), HTML(value='')))"
      ]
     },
     "metadata": {},
     "output_type": "display_data"
    },
    {
     "name": "stdout",
     "output_type": "stream",
     "text": [
      "\n"
     ]
    },
    {
     "data": {
      "application/vnd.jupyter.widget-view+json": {
       "model_id": "a03b06adbdbc4cb093a67a670db99d91",
       "version_major": 2,
       "version_minor": 0
      },
      "text/plain": [
       "HBox(children=(FloatProgress(value=1.0, bar_style='info', max=1.0), HTML(value='')))"
      ]
     },
     "metadata": {},
     "output_type": "display_data"
    },
    {
     "name": "stdout",
     "output_type": "stream",
     "text": [
      "\n",
      "filtered_measurements = [301.9536305  394.04265691 455.0541978  427.29308283 277.26591053\n",
      " 274.66379925 269.01392884 181.38024412 179.75512369 412.07350715\n",
      " 411.62835543 189.77932453 472.9057592  204.55607726 243.61648611\n",
      " 283.76596843 290.19903275 230.3816648  352.95488239 339.22001747\n",
      " 415.1314242  151.3026129  266.99427738 287.86991726 461.84616303]\n",
      "new_threshold = 1319.34137016234\n"
     ]
    },
    {
     "data": {
      "application/vnd.jupyter.widget-view+json": {
       "model_id": "c5df4e6292b94556b5926d3b89bd7ad5",
       "version_major": 2,
       "version_minor": 0
      },
      "text/plain": [
       "HBox(children=(FloatProgress(value=1.0, bar_style='info', max=1.0), HTML(value='')))"
      ]
     },
     "metadata": {},
     "output_type": "display_data"
    },
    {
     "name": "stdout",
     "output_type": "stream",
     "text": [
      "\n"
     ]
    },
    {
     "data": {
      "application/vnd.jupyter.widget-view+json": {
       "model_id": "4f79a26aa67442f790f96d74854d3b8b",
       "version_major": 2,
       "version_minor": 0
      },
      "text/plain": [
       "HBox(children=(FloatProgress(value=1.0, bar_style='info', max=1.0), HTML(value='')))"
      ]
     },
     "metadata": {},
     "output_type": "display_data"
    },
    {
     "name": "stdout",
     "output_type": "stream",
     "text": [
      "--> Not exactly one containing mesh: []\n",
      "\n",
      "filtered_measurements = [384.54090849 154.02295633 242.3447681  296.46005528 323.12160274\n",
      " 346.92936176 417.32655596]\n",
      "new_threshold = 845.0455431248236\n"
     ]
    },
    {
     "data": {
      "application/vnd.jupyter.widget-view+json": {
       "model_id": "6196ef77a4eb432f89509054fc90c456",
       "version_major": 2,
       "version_minor": 0
      },
      "text/plain": [
       "HBox(children=(FloatProgress(value=1.0, bar_style='info', max=1.0), HTML(value='')))"
      ]
     },
     "metadata": {},
     "output_type": "display_data"
    },
    {
     "name": "stdout",
     "output_type": "stream",
     "text": [
      "--> Not exactly one containing mesh: []\n",
      "\n"
     ]
    },
    {
     "data": {
      "application/vnd.jupyter.widget-view+json": {
       "model_id": "70a40e6611cc46e48a624b356bdc6793",
       "version_major": 2,
       "version_minor": 0
      },
      "text/plain": [
       "HBox(children=(FloatProgress(value=1.0, bar_style='info', max=1.0), HTML(value='')))"
      ]
     },
     "metadata": {},
     "output_type": "display_data"
    },
    {
     "name": "stdout",
     "output_type": "stream",
     "text": [
      "\n",
      "filtered_measurements = [723.45769204 324.99909171]\n",
      "new_threshold = 1696.9732157402996\n"
     ]
    },
    {
     "data": {
      "application/vnd.jupyter.widget-view+json": {
       "model_id": "0281861dc6dd4c5ca570e13250f78539",
       "version_major": 2,
       "version_minor": 0
      },
      "text/plain": [
       "HBox(children=(FloatProgress(value=1.0, bar_style='info', max=1.0), HTML(value='')))"
      ]
     },
     "metadata": {},
     "output_type": "display_data"
    },
    {
     "name": "stdout",
     "output_type": "stream",
     "text": [
      "\n"
     ]
    },
    {
     "data": {
      "application/vnd.jupyter.widget-view+json": {
       "model_id": "08b8278a861e457ead24d7c24e9b4da8",
       "version_major": 2,
       "version_minor": 0
      },
      "text/plain": [
       "HBox(children=(FloatProgress(value=1.0, bar_style='info', max=1.0), HTML(value='')))"
      ]
     },
     "metadata": {},
     "output_type": "display_data"
    },
    {
     "name": "stdout",
     "output_type": "stream",
     "text": [
      "--> Not exactly one containing mesh: []\n",
      "\n",
      "filtered_measurements = [132.51691753 117.83044807 139.42632399 128.35904711  79.87731748\n",
      "  84.77629174 165.01290642 171.47642995  94.54634212  97.79276878\n",
      "  66.02949689 123.93349418 143.15731707 153.96353595  68.44334357\n",
      " 118.73889626 104.57847879  84.01123064  96.47904904  72.76653265\n",
      "  94.16666623 112.00634537 122.53220437]\n",
      "new_threshold = 363.36041268637507\n"
     ]
    },
    {
     "data": {
      "application/vnd.jupyter.widget-view+json": {
       "model_id": "3acee3d664514c41a7b07dcf3809c907",
       "version_major": 2,
       "version_minor": 0
      },
      "text/plain": [
       "HBox(children=(FloatProgress(value=1.0, bar_style='info', max=1.0), HTML(value='')))"
      ]
     },
     "metadata": {},
     "output_type": "display_data"
    },
    {
     "name": "stdout",
     "output_type": "stream",
     "text": [
      "--> Not exactly one containing mesh: []\n",
      "--> Not exactly one containing mesh: []\n",
      "\n",
      "Total time for mesh mapping: 0.0009617805480957031\n",
      "Total time for mesh mapping: 0.00034356117248535156\n",
      "Total time for mesh mapping: 0.00023627281188964844\n",
      "Total time for mesh mapping: 0.00025081634521484375\n",
      "Total time for mesh mapping: 0.0002956390380859375\n",
      "Total time for mesh mapping: 0.0002560615539550781\n",
      "Total time for mesh mapping: 0.00025391578674316406\n",
      "Total time for mesh mapping: 0.0002682209014892578\n",
      "Total time for mesh mapping: 0.00043773651123046875\n",
      "Total time for mesh mapping: 0.00024056434631347656\n",
      "Total time for mesh mapping: 0.00023031234741210938\n",
      "Total time for mesh mapping: 0.00023746490478515625\n",
      "Total time for mesh mapping: 0.0002560615539550781\n",
      "Total time for mesh mapping: 0.00026535987854003906\n",
      "Total time for mesh mapping: 0.0002410411834716797\n",
      "Total time for mesh mapping: 0.0002434253692626953\n",
      "Total time for mesh mapping: 0.0003960132598876953\n",
      "Total time for mesh mapping: 0.00025963783264160156\n",
      "Total time for mesh mapping: 0.00025963783264160156\n",
      "Total time for mesh mapping: 0.00023746490478515625\n",
      "Total time for mesh mapping: 0.00023865699768066406\n",
      "Total time for mesh mapping: 0.0002586841583251953\n",
      "Total time for mesh mapping: 0.00029015541076660156\n",
      "Total time for mesh mapping: 0.00023412704467773438\n",
      "Total time for mesh mapping: 0.00038504600524902344\n",
      "Total time for mesh mapping: 0.00023293495178222656\n",
      "Total time for mesh mapping: 0.00025200843811035156\n",
      "Total time for mesh mapping: 0.00024271011352539062\n",
      "Total time for mesh mapping: 0.0002799034118652344\n",
      "Total time for mesh mapping: 0.0002288818359375\n",
      "branch_touching_number = [28]\n",
      "Total time for mesh mapping: 0.00044798851013183594\n",
      "Total time for mesh mapping: 0.00022220611572265625\n",
      "Total time for mesh mapping: 0.00014710426330566406\n",
      "Total time for mesh mapping: 0.00015306472778320312\n",
      "Total time for mesh mapping: 0.00035858154296875\n",
      "Total time for mesh mapping: 0.00014281272888183594\n",
      "Total time for mesh mapping: 0.00014400482177734375\n",
      "Total time for mesh mapping: 0.00015974044799804688\n",
      "Total time for mesh mapping: 0.0001678466796875\n",
      "Total time for mesh mapping: 0.00015115737915039062\n",
      "Total time for mesh mapping: 0.00014448165893554688\n",
      "Total time for mesh mapping: 0.0001609325408935547\n",
      "Total time for mesh mapping: 0.00015878677368164062\n",
      "Total time for mesh mapping: 0.00032258033752441406\n",
      "Total time for mesh mapping: 0.00014829635620117188\n",
      "Total time for mesh mapping: 0.00014901161193847656\n",
      "Total time for mesh mapping: 0.00014710426330566406\n",
      "Total time for mesh mapping: 0.0001575946807861328\n",
      "Total time for mesh mapping: 0.00016379356384277344\n",
      "Total time for mesh mapping: 0.0001468658447265625\n",
      "Total time for mesh mapping: 0.00014662742614746094\n",
      "Total time for mesh mapping: 0.0001621246337890625\n",
      "Total time for mesh mapping: 0.0001583099365234375\n",
      "Total time for mesh mapping: 0.00014352798461914062\n",
      "Total time for mesh mapping: 0.0001468658447265625\n",
      "Total time for mesh mapping: 0.0001461505889892578\n",
      "Total time for mesh mapping: 0.00015664100646972656\n",
      "Total time for mesh mapping: 0.0001678466796875\n",
      "Total time for mesh mapping: 0.0001544952392578125\n",
      "Total time for mesh mapping: 0.0001442432403564453\n",
      "branch_touching_number = [28, 1]\n",
      "most_branch_containing_piece = 0\n"
     ]
    },
    {
     "data": {
      "application/vnd.jupyter.widget-view+json": {
       "model_id": "1f16d20fceeb4fb5b7a668f56c4b2133",
       "version_major": 2,
       "version_minor": 0
      },
      "text/plain": [
       "HBox(children=(FloatProgress(value=1.0, bar_style='info', max=1.0), HTML(value='')))"
      ]
     },
     "metadata": {},
     "output_type": "display_data"
    },
    {
     "name": "stdout",
     "output_type": "stream",
     "text": [
      "\n",
      "filtered_measurements = [227.80978058 320.67401841 320.21264913]\n",
      "new_threshold = 652.4841736516828\n"
     ]
    },
    {
     "data": {
      "application/vnd.jupyter.widget-view+json": {
       "model_id": "72a36be608c647b18169c534d46413ca",
       "version_major": 2,
       "version_minor": 0
      },
      "text/plain": [
       "HBox(children=(FloatProgress(value=1.0, bar_style='info', max=1.0), HTML(value='')))"
      ]
     },
     "metadata": {},
     "output_type": "display_data"
    },
    {
     "name": "stdout",
     "output_type": "stream",
     "text": [
      "\n"
     ]
    },
    {
     "data": {
      "application/vnd.jupyter.widget-view+json": {
       "model_id": "475bc0d7d3dd46859964e55c81d88660",
       "version_major": 2,
       "version_minor": 0
      },
      "text/plain": [
       "HBox(children=(FloatProgress(value=1.0, bar_style='info', max=1.0), HTML(value='')))"
      ]
     },
     "metadata": {},
     "output_type": "display_data"
    },
    {
     "name": "stdout",
     "output_type": "stream",
     "text": [
      "\n",
      "filtered_measurements = [810.00163626 336.79184746]\n",
      "new_threshold = 1940.534758520222\n"
     ]
    },
    {
     "data": {
      "application/vnd.jupyter.widget-view+json": {
       "model_id": "791aaf296d9a41a69ad09ddd5dada5af",
       "version_major": 2,
       "version_minor": 0
      },
      "text/plain": [
       "HBox(children=(FloatProgress(value=1.0, bar_style='info', max=1.0), HTML(value='')))"
      ]
     },
     "metadata": {},
     "output_type": "display_data"
    },
    {
     "name": "stdout",
     "output_type": "stream",
     "text": [
      "\n"
     ]
    },
    {
     "data": {
      "application/vnd.jupyter.widget-view+json": {
       "model_id": "a01fa0a92bc34c7da36b39da38202598",
       "version_major": 2,
       "version_minor": 0
      },
      "text/plain": [
       "HBox(children=(FloatProgress(value=1.0, bar_style='info', max=1.0), HTML(value='')))"
      ]
     },
     "metadata": {},
     "output_type": "display_data"
    },
    {
     "name": "stdout",
     "output_type": "stream",
     "text": [
      "\n",
      "filtered_measurements = [796.60986181 906.83158262]\n",
      "new_threshold = 2063.286033694395\n"
     ]
    },
    {
     "data": {
      "application/vnd.jupyter.widget-view+json": {
       "model_id": "60d48b4f4b214779a89f9191e1c0c315",
       "version_major": 2,
       "version_minor": 0
      },
      "text/plain": [
       "HBox(children=(FloatProgress(value=1.0, bar_style='info', max=1.0), HTML(value='')))"
      ]
     },
     "metadata": {},
     "output_type": "display_data"
    },
    {
     "name": "stdout",
     "output_type": "stream",
     "text": [
      "\n"
     ]
    },
    {
     "data": {
      "application/vnd.jupyter.widget-view+json": {
       "model_id": "d438b93aed7540e188afc6566a4b0074",
       "version_major": 2,
       "version_minor": 0
      },
      "text/plain": [
       "HBox(children=(FloatProgress(value=1.0, bar_style='info', max=1.0), HTML(value='')))"
      ]
     },
     "metadata": {},
     "output_type": "display_data"
    },
    {
     "name": "stdout",
     "output_type": "stream",
     "text": [
      "\n",
      "filtered_measurements = [515.31693577 342.74287605 459.42322172 399.62034313 294.96850217\n",
      " 269.25785658 261.88141192 273.53143185 247.57875636 351.87041676\n",
      " 316.34058504 194.55406767 291.69645064 262.61523502]\n",
      "new_threshold = 1203.8500919796834\n"
     ]
    },
    {
     "data": {
      "application/vnd.jupyter.widget-view+json": {
       "model_id": "cfac0c7b591c4a76b6b098a833757bb8",
       "version_major": 2,
       "version_minor": 0
      },
      "text/plain": [
       "HBox(children=(FloatProgress(value=1.0, bar_style='info', max=1.0), HTML(value='')))"
      ]
     },
     "metadata": {},
     "output_type": "display_data"
    },
    {
     "name": "stdout",
     "output_type": "stream",
     "text": [
      "\n"
     ]
    },
    {
     "data": {
      "application/vnd.jupyter.widget-view+json": {
       "model_id": "4878de96fd80447cb1595ba3605014e8",
       "version_major": 2,
       "version_minor": 0
      },
      "text/plain": [
       "HBox(children=(FloatProgress(value=1.0, bar_style='info', max=1.0), HTML(value='')))"
      ]
     },
     "metadata": {},
     "output_type": "display_data"
    },
    {
     "name": "stdout",
     "output_type": "stream",
     "text": [
      "--> Not exactly one containing mesh: []\n",
      "\n",
      "Total time for mesh mapping: 0.0060558319091796875\n",
      "Total time for mesh mapping: 0.007216215133666992\n",
      "Total time for mesh mapping: 0.012140989303588867\n",
      "Total time for mesh mapping: 0.011168479919433594\n",
      "Total time for mesh mapping: 0.00025725364685058594\n",
      "Total time for mesh mapping: 0.0002505779266357422\n",
      "Total time for mesh mapping: 0.00026702880859375\n",
      "Total time for mesh mapping: 0.000225067138671875\n",
      "Total time for mesh mapping: 0.0002002716064453125\n",
      "Total time for mesh mapping: 0.00020265579223632812\n",
      "Total time for mesh mapping: 0.00019621849060058594\n",
      "Total time for mesh mapping: 0.0003304481506347656\n",
      "Total time for mesh mapping: 0.00019931793212890625\n",
      "Total time for mesh mapping: 0.00019073486328125\n",
      "Total time for mesh mapping: 0.00020170211791992188\n",
      "Total time for mesh mapping: 0.0001971721649169922\n",
      "Total time for mesh mapping: 0.0002052783966064453\n",
      "Total time for mesh mapping: 0.0002720355987548828\n",
      "branch_touching_number = [16]\n",
      "Total time for mesh mapping: 0.0003962516784667969\n",
      "Total time for mesh mapping: 0.0001590251922607422\n",
      "Total time for mesh mapping: 0.0002892017364501953\n",
      "Total time for mesh mapping: 0.00014352798461914062\n",
      "Total time for mesh mapping: 0.00013136863708496094\n",
      "Total time for mesh mapping: 0.0001533031463623047\n",
      "Total time for mesh mapping: 0.00014281272888183594\n",
      "Total time for mesh mapping: 0.00013136863708496094\n",
      "Total time for mesh mapping: 0.00013065338134765625\n",
      "Total time for mesh mapping: 0.00012946128845214844\n",
      "Total time for mesh mapping: 0.00012993812561035156\n",
      "Total time for mesh mapping: 0.00026226043701171875\n",
      "Total time for mesh mapping: 0.0001323223114013672\n",
      "Total time for mesh mapping: 0.00012969970703125\n",
      "Total time for mesh mapping: 0.00013375282287597656\n",
      "Total time for mesh mapping: 0.00013136863708496094\n",
      "Total time for mesh mapping: 0.00013709068298339844\n",
      "Total time for mesh mapping: 0.0001723766326904297\n",
      "branch_touching_number = [16, 1]\n",
      "most_branch_containing_piece = 0\n",
      "filtered_measurements = [130.32196065  92.40947257  89.01430985 136.52365463 105.25581299\n",
      " 107.23794924  76.8252134   89.87103587  87.82770363  65.84286496\n",
      "  87.35764983  72.64015334]\n",
      "new_threshold = 234.02088936990884\n"
     ]
    },
    {
     "data": {
      "application/vnd.jupyter.widget-view+json": {
       "model_id": "afc3e3bbcf3048e69eb959fa7d769b47",
       "version_major": 2,
       "version_minor": 0
      },
      "text/plain": [
       "HBox(children=(FloatProgress(value=1.0, bar_style='info', max=1.0), HTML(value='')))"
      ]
     },
     "metadata": {},
     "output_type": "display_data"
    },
    {
     "name": "stdout",
     "output_type": "stream",
     "text": [
      "--> Not exactly one containing mesh: []\n",
      "THERE WERE NO FACES THAT FIT THE DISTANCE (234.02088936990884) and Z transform requirements\n",
      "So just skipping this edge\n",
      "\n"
     ]
    },
    {
     "data": {
      "application/vnd.jupyter.widget-view+json": {
       "model_id": "43182178178c4fa0849bf548b1a10e41",
       "version_major": 2,
       "version_minor": 0
      },
      "text/plain": [
       "HBox(children=(FloatProgress(value=1.0, bar_style='info', max=1.0), HTML(value='')))"
      ]
     },
     "metadata": {},
     "output_type": "display_data"
    },
    {
     "name": "stdout",
     "output_type": "stream",
     "text": [
      "\n",
      "filtered_measurements = [311.5258571  316.68908694 336.84324734]\n",
      "new_threshold = 689.1037331034793\n"
     ]
    },
    {
     "data": {
      "application/vnd.jupyter.widget-view+json": {
       "model_id": "9e2d8abee52e4fba818b6990db2efc25",
       "version_major": 2,
       "version_minor": 0
      },
      "text/plain": [
       "HBox(children=(FloatProgress(value=1.0, bar_style='info', max=1.0), HTML(value='')))"
      ]
     },
     "metadata": {},
     "output_type": "display_data"
    },
    {
     "name": "stdout",
     "output_type": "stream",
     "text": [
      "\n"
     ]
    },
    {
     "data": {
      "application/vnd.jupyter.widget-view+json": {
       "model_id": "c0cde73fd51b49d88b817a2914fca13e",
       "version_major": 2,
       "version_minor": 0
      },
      "text/plain": [
       "HBox(children=(FloatProgress(value=1.0, bar_style='info', max=1.0), HTML(value='')))"
      ]
     },
     "metadata": {},
     "output_type": "display_data"
    },
    {
     "name": "stdout",
     "output_type": "stream",
     "text": [
      "--> Not exactly one containing mesh: []\n",
      "\n",
      "filtered_measurements = [124.47718985 110.21533135  79.10601397 110.40360766  95.39255663\n",
      " 128.93028509 126.79007658  95.22328211  70.00385102  86.74865581\n",
      " 114.29453206 103.96838965  84.65213757 152.48402951]\n",
      "new_threshold = 308.0763126782176\n"
     ]
    },
    {
     "data": {
      "application/vnd.jupyter.widget-view+json": {
       "model_id": "b5ac6f7ca7494a708b23f992d8a41f21",
       "version_major": 2,
       "version_minor": 0
      },
      "text/plain": [
       "HBox(children=(FloatProgress(value=1.0, bar_style='info', max=1.0), HTML(value='')))"
      ]
     },
     "metadata": {},
     "output_type": "display_data"
    },
    {
     "name": "stdout",
     "output_type": "stream",
     "text": [
      "--> Not exactly one containing mesh: []\n",
      "--> Not exactly one containing mesh: []\n",
      "\n",
      "Total time for mesh mapping: 0.0020935535430908203\n",
      "Total time for mesh mapping: 0.00036215782165527344\n",
      "Total time for mesh mapping: 0.0004470348358154297\n",
      "Total time for mesh mapping: 0.0002613067626953125\n",
      "Total time for mesh mapping: 0.00025916099548339844\n",
      "Total time for mesh mapping: 0.00023651123046875\n",
      "Total time for mesh mapping: 0.00023412704467773438\n",
      "Total time for mesh mapping: 0.0002880096435546875\n",
      "Total time for mesh mapping: 0.0002613067626953125\n",
      "Total time for mesh mapping: 0.0002522468566894531\n",
      "Total time for mesh mapping: 0.00023937225341796875\n",
      "Total time for mesh mapping: 0.00024056434631347656\n",
      "Total time for mesh mapping: 0.00023627281188964844\n",
      "Total time for mesh mapping: 0.0002541542053222656\n",
      "Total time for mesh mapping: 0.0002446174621582031\n",
      "Total time for mesh mapping: 0.0002503395080566406\n",
      "Total time for mesh mapping: 0.000240325927734375\n",
      "Total time for mesh mapping: 0.0015137195587158203\n",
      "Total time for mesh mapping: 0.00021910667419433594\n",
      "Total time for mesh mapping: 0.0003058910369873047\n",
      "Total time for mesh mapping: 0.00021958351135253906\n",
      "branch_touching_number = [18]\n",
      "Total time for mesh mapping: 0.00042724609375\n",
      "Total time for mesh mapping: 0.0001456737518310547\n",
      "Total time for mesh mapping: 0.00013828277587890625\n",
      "Total time for mesh mapping: 0.0001423358917236328\n",
      "Total time for mesh mapping: 0.00014472007751464844\n",
      "Total time for mesh mapping: 0.00014472007751464844\n",
      "Total time for mesh mapping: 0.00013566017150878906\n",
      "Total time for mesh mapping: 0.0001499652862548828\n",
      "Total time for mesh mapping: 0.00014591217041015625\n",
      "Total time for mesh mapping: 0.0001423358917236328\n",
      "Total time for mesh mapping: 0.00013566017150878906\n",
      "Total time for mesh mapping: 0.00013685226440429688\n",
      "Total time for mesh mapping: 0.0001354217529296875\n",
      "Total time for mesh mapping: 0.0002701282501220703\n",
      "Total time for mesh mapping: 0.00014162063598632812\n",
      "Total time for mesh mapping: 0.00015020370483398438\n",
      "Total time for mesh mapping: 0.00013971328735351562\n",
      "Total time for mesh mapping: 0.0001442432403564453\n",
      "Total time for mesh mapping: 0.00012803077697753906\n",
      "Total time for mesh mapping: 0.00016021728515625\n",
      "Total time for mesh mapping: 0.00013399124145507812\n",
      "branch_touching_number = [18, 2]\n",
      "most_branch_containing_piece = 0\n"
     ]
    },
    {
     "data": {
      "application/vnd.jupyter.widget-view+json": {
       "model_id": "20755e592a33403bb15d61bb3222555a",
       "version_major": 2,
       "version_minor": 0
      },
      "text/plain": [
       "HBox(children=(FloatProgress(value=1.0, bar_style='info', max=1.0), HTML(value='')))"
      ]
     },
     "metadata": {},
     "output_type": "display_data"
    },
    {
     "name": "stdout",
     "output_type": "stream",
     "text": [
      "--> Not exactly one containing mesh: []\n",
      "\n",
      "filtered_measurements = [273.8011554  196.69899355 265.78115235 273.45822169 318.54594487\n",
      " 280.6984786  288.34904984 317.59640192 239.24589009 164.55761027\n",
      " 237.9487875 ]\n",
      "new_threshold = 714.2302705200539\n"
     ]
    },
    {
     "data": {
      "application/vnd.jupyter.widget-view+json": {
       "model_id": "6a4922b1c94d4f429f1adda1f0a88729",
       "version_major": 2,
       "version_minor": 0
      },
      "text/plain": [
       "HBox(children=(FloatProgress(value=1.0, bar_style='info', max=1.0), HTML(value='')))"
      ]
     },
     "metadata": {},
     "output_type": "display_data"
    },
    {
     "name": "stdout",
     "output_type": "stream",
     "text": [
      "--> Not exactly one containing mesh: []\n",
      "\n",
      "\n",
      "Working on limb #8\n"
     ]
    },
    {
     "data": {
      "application/vnd.jupyter.widget-view+json": {
       "model_id": "4ccccc67c63b499296148c7b5fb2a13d",
       "version_major": 2,
       "version_minor": 0
      },
      "text/plain": [
       "HBox(children=(FloatProgress(value=1.0, bar_style='info', max=1.0), HTML(value='')))"
      ]
     },
     "metadata": {},
     "output_type": "display_data"
    },
    {
     "data": {
      "application/vnd.jupyter.widget-view+json": {
       "model_id": "d0e2a0b3649047eea300ec31c2ff6699",
       "version_major": 2,
       "version_minor": 0
      },
      "text/plain": [
       "HBox(children=(FloatProgress(value=1.0, bar_style='info', max=1.0), HTML(value='')))"
      ]
     },
     "metadata": {},
     "output_type": "display_data"
    },
    {
     "name": "stdout",
     "output_type": "stream",
     "text": [
      "--> Not exactly one containing mesh: []\n",
      "--> Not exactly one containing mesh: []\n",
      "--> Not exactly one containing mesh: []\n",
      "\n",
      "filtered_measurements = [202.13429638 199.52759258 140.69635267 179.24965202 125.30702211\n",
      " 171.54346569  86.47778992 145.36771513  96.65650653 129.40069507\n",
      " 152.43487366 154.66481153  97.14180739  85.01512149  62.19737244\n",
      "  80.16499228 147.68732121  76.1411169  216.50975917  93.10533949\n",
      " 134.49581451]\n",
      "new_threshold = 459.6386039009892\n"
     ]
    },
    {
     "data": {
      "application/vnd.jupyter.widget-view+json": {
       "model_id": "0d2fdff2d4084a948c3b495d4dfb41e6",
       "version_major": 2,
       "version_minor": 0
      },
      "text/plain": [
       "HBox(children=(FloatProgress(value=1.0, bar_style='info', max=1.0), HTML(value='')))"
      ]
     },
     "metadata": {},
     "output_type": "display_data"
    },
    {
     "name": "stdout",
     "output_type": "stream",
     "text": [
      "--> Not exactly one containing mesh: []\n",
      "--> Not exactly one containing mesh: []\n",
      "--> Not exactly one containing mesh: []\n",
      "\n"
     ]
    },
    {
     "data": {
      "application/vnd.jupyter.widget-view+json": {
       "model_id": "2456d2e432b5469e830c41b86c987aa8",
       "version_major": 2,
       "version_minor": 0
      },
      "text/plain": [
       "HBox(children=(FloatProgress(value=1.0, bar_style='info', max=1.0), HTML(value='')))"
      ]
     },
     "metadata": {},
     "output_type": "display_data"
    },
    {
     "name": "stdout",
     "output_type": "stream",
     "text": [
      "\n",
      "filtered_measurements = [160.76543571 116.03474738 108.38230834  65.40208275 173.65921782\n",
      "  80.45210483 115.85426671 123.97653164  63.85149239]\n",
      "new_threshold = 333.5026141683371\n"
     ]
    },
    {
     "data": {
      "application/vnd.jupyter.widget-view+json": {
       "model_id": "998aaaf6555c4e2faaaf3ed18751daba",
       "version_major": 2,
       "version_minor": 0
      },
      "text/plain": [
       "HBox(children=(FloatProgress(value=1.0, bar_style='info', max=1.0), HTML(value='')))"
      ]
     },
     "metadata": {},
     "output_type": "display_data"
    },
    {
     "name": "stdout",
     "output_type": "stream",
     "text": [
      "--> Not exactly one containing mesh: []\n",
      "\n",
      "Total time for mesh mapping: 0.0020122528076171875\n",
      "Total time for mesh mapping: 0.0002562999725341797\n",
      "Total time for mesh mapping: 0.0002315044403076172\n",
      "Total time for mesh mapping: 0.0002200603485107422\n",
      "Total time for mesh mapping: 0.00032520294189453125\n",
      "Total time for mesh mapping: 0.0002105236053466797\n",
      "Total time for mesh mapping: 0.0002090930938720703\n",
      "Total time for mesh mapping: 0.00020265579223632812\n",
      "Total time for mesh mapping: 0.00021386146545410156\n",
      "Total time for mesh mapping: 0.00021648406982421875\n",
      "Total time for mesh mapping: 0.0002048015594482422\n",
      "Total time for mesh mapping: 0.00022745132446289062\n",
      "Total time for mesh mapping: 0.0003638267517089844\n",
      "Total time for mesh mapping: 0.0002238750457763672\n",
      "branch_touching_number = [12]\n",
      "Total time for mesh mapping: 0.00041866302490234375\n",
      "Total time for mesh mapping: 0.00016951560974121094\n",
      "Total time for mesh mapping: 0.0001595020294189453\n",
      "Total time for mesh mapping: 0.0001556873321533203\n",
      "Total time for mesh mapping: 0.00014066696166992188\n",
      "Total time for mesh mapping: 0.00013899803161621094\n",
      "Total time for mesh mapping: 0.00013709068298339844\n",
      "Total time for mesh mapping: 0.00028514862060546875\n",
      "Total time for mesh mapping: 0.0001385211944580078\n",
      "Total time for mesh mapping: 0.0001430511474609375\n",
      "Total time for mesh mapping: 0.00013637542724609375\n",
      "Total time for mesh mapping: 0.00015354156494140625\n",
      "Total time for mesh mapping: 0.0001308917999267578\n",
      "Total time for mesh mapping: 0.00019621849060058594\n",
      "branch_touching_number = [12, 1]\n",
      "most_branch_containing_piece = 0\n"
     ]
    },
    {
     "data": {
      "application/vnd.jupyter.widget-view+json": {
       "model_id": "569cc5ef502840c2a1718a96b7b9fb91",
       "version_major": 2,
       "version_minor": 0
      },
      "text/plain": [
       "HBox(children=(FloatProgress(value=1.0, bar_style='info', max=1.0), HTML(value='')))"
      ]
     },
     "metadata": {},
     "output_type": "display_data"
    },
    {
     "name": "stdout",
     "output_type": "stream",
     "text": [
      "\n",
      "filtered_measurements = [90.06243448 91.98577993 74.51401715 50.01470182 58.68195302]\n",
      "new_threshold = 189.54167021818597\n"
     ]
    },
    {
     "data": {
      "application/vnd.jupyter.widget-view+json": {
       "model_id": "00ff8edcc011487481d65737a4a48499",
       "version_major": 2,
       "version_minor": 0
      },
      "text/plain": [
       "HBox(children=(FloatProgress(value=1.0, bar_style='info', max=1.0), HTML(value='')))"
      ]
     },
     "metadata": {},
     "output_type": "display_data"
    },
    {
     "name": "stdout",
     "output_type": "stream",
     "text": [
      "\n"
     ]
    },
    {
     "data": {
      "application/vnd.jupyter.widget-view+json": {
       "model_id": "cfb904459b18461188fff96c34e12183",
       "version_major": 2,
       "version_minor": 0
      },
      "text/plain": [
       "HBox(children=(FloatProgress(value=1.0, bar_style='info', max=1.0), HTML(value='')))"
      ]
     },
     "metadata": {},
     "output_type": "display_data"
    },
    {
     "name": "stdout",
     "output_type": "stream",
     "text": [
      "\n",
      "filtered_measurements = [240.03268779 187.44104382 214.79331884 310.41567535 222.6027143\n",
      " 199.38802614 276.18199896 359.40037179 159.14380698]\n",
      "new_threshold = 771.9879301217707\n"
     ]
    },
    {
     "data": {
      "application/vnd.jupyter.widget-view+json": {
       "model_id": "54fed6a3ada9483e89a5ea8682bc7048",
       "version_major": 2,
       "version_minor": 0
      },
      "text/plain": [
       "HBox(children=(FloatProgress(value=1.0, bar_style='info', max=1.0), HTML(value='')))"
      ]
     },
     "metadata": {},
     "output_type": "display_data"
    },
    {
     "name": "stdout",
     "output_type": "stream",
     "text": [
      "\n"
     ]
    },
    {
     "data": {
      "application/vnd.jupyter.widget-view+json": {
       "model_id": "3a3cee31e5844d8b9917d5330deb9656",
       "version_major": 2,
       "version_minor": 0
      },
      "text/plain": [
       "HBox(children=(FloatProgress(value=1.0, bar_style='info', max=1.0), HTML(value='')))"
      ]
     },
     "metadata": {},
     "output_type": "display_data"
    },
    {
     "name": "stdout",
     "output_type": "stream",
     "text": [
      "\n",
      "filtered_measurements = [290.31914546 457.98945261 379.76508005 201.32018832 249.38761238\n",
      " 236.82592558 129.45146682 134.16898205 214.37977598 138.17285981\n",
      " 238.42892623 296.59913259 366.00763952 242.84829312 280.74409508\n",
      " 353.96426545 248.389762   392.05825115 302.32488204 275.62947325\n",
      " 317.33816885 134.32135037 149.94291362 200.50969085 427.65214294\n",
      " 332.51323279 400.2238483  341.85013343 461.5582034  344.2974564\n",
      " 401.0122295  393.42495986 421.72657324 261.5588258  194.27333352\n",
      " 185.98347899 411.24176749 273.00111654 222.62526021 362.98971501\n",
      " 191.28778669 300.3408046  465.54699669 426.34169539 370.35234385\n",
      " 338.59077854 346.63812993 314.5187962  286.24015341 207.66182559\n",
      " 204.32578586 366.34770657 442.70421794 316.66441504 290.09356568\n",
      " 370.96979471 268.68827126 337.2668961  187.23825554 294.4148026\n",
      " 302.69471751 416.54651834 309.17721467 285.31242858 299.54661653\n",
      " 262.66903744 339.06404053 271.68069597 195.44924845 213.0183075\n",
      " 328.81798921 324.38493171]\n",
      "new_threshold = 1171.2266321611296\n"
     ]
    },
    {
     "data": {
      "application/vnd.jupyter.widget-view+json": {
       "model_id": "0443a8d47ed04dba9329e78b9d04f7c9",
       "version_major": 2,
       "version_minor": 0
      },
      "text/plain": [
       "HBox(children=(FloatProgress(value=1.0, bar_style='info', max=1.0), HTML(value='')))"
      ]
     },
     "metadata": {},
     "output_type": "display_data"
    },
    {
     "name": "stdout",
     "output_type": "stream",
     "text": [
      "\n"
     ]
    },
    {
     "data": {
      "application/vnd.jupyter.widget-view+json": {
       "model_id": "51e404920b06468ba5713b6f05518556",
       "version_major": 2,
       "version_minor": 0
      },
      "text/plain": [
       "HBox(children=(FloatProgress(value=1.0, bar_style='info', max=1.0), HTML(value='')))"
      ]
     },
     "metadata": {},
     "output_type": "display_data"
    },
    {
     "name": "stdout",
     "output_type": "stream",
     "text": [
      "\n",
      "filtered_measurements = [391.23815671 239.80351736 187.9513846  222.62431763 362.09588807\n",
      " 203.63972865 178.60419282 201.58398054 271.02448984 262.17832933\n",
      " 349.16907147 287.25336621 247.14644149 213.99721921 166.1536826\n",
      " 149.54876092 340.07292595 207.59597782 158.10998418 276.61789312\n",
      " 160.28686203 364.44016147 282.17791194 372.64672649 316.5549284\n",
      " 215.91185478 219.76139739 168.0674018  272.66323182 349.4950001\n",
      " 322.99584517 236.18687249 203.28286492 141.50596281 251.240515\n",
      " 300.95839688 310.94419636 148.16535793 258.71319622 281.2056424\n",
      " 220.12860478 202.2414967 ]\n",
      "new_threshold = 1009.8139149376332\n"
     ]
    },
    {
     "data": {
      "application/vnd.jupyter.widget-view+json": {
       "model_id": "feb46fad1ea141adab4e6b707089571b",
       "version_major": 2,
       "version_minor": 0
      },
      "text/plain": [
       "HBox(children=(FloatProgress(value=1.0, bar_style='info', max=1.0), HTML(value='')))"
      ]
     },
     "metadata": {},
     "output_type": "display_data"
    },
    {
     "name": "stdout",
     "output_type": "stream",
     "text": [
      "\n"
     ]
    },
    {
     "data": {
      "application/vnd.jupyter.widget-view+json": {
       "model_id": "62148fed312744f797df85d864308465",
       "version_major": 2,
       "version_minor": 0
      },
      "text/plain": [
       "HBox(children=(FloatProgress(value=1.0, bar_style='info', max=1.0), HTML(value='')))"
      ]
     },
     "metadata": {},
     "output_type": "display_data"
    },
    {
     "name": "stdout",
     "output_type": "stream",
     "text": [
      "\n",
      "filtered_measurements = [ 85.67319632 133.0113672  122.82163069 116.19939222  88.73570389\n",
      " 103.38887855]\n",
      "new_threshold = 250.43940166302986\n"
     ]
    },
    {
     "data": {
      "application/vnd.jupyter.widget-view+json": {
       "model_id": "c379b8cd43284667ba61d6d396acaead",
       "version_major": 2,
       "version_minor": 0
      },
      "text/plain": [
       "HBox(children=(FloatProgress(value=1.0, bar_style='info', max=1.0), HTML(value='')))"
      ]
     },
     "metadata": {},
     "output_type": "display_data"
    },
    {
     "name": "stdout",
     "output_type": "stream",
     "text": [
      "\n"
     ]
    },
    {
     "data": {
      "application/vnd.jupyter.widget-view+json": {
       "model_id": "34302ec0b8864589940a9ebcc01ae9e2",
       "version_major": 2,
       "version_minor": 0
      },
      "text/plain": [
       "HBox(children=(FloatProgress(value=1.0, bar_style='info', max=1.0), HTML(value='')))"
      ]
     },
     "metadata": {},
     "output_type": "display_data"
    },
    {
     "name": "stdout",
     "output_type": "stream",
     "text": [
      "\n",
      "filtered_measurements = [376.880719   382.99400822 520.89820204 479.78170524]\n",
      "new_threshold = 1467.56491735697\n"
     ]
    },
    {
     "data": {
      "application/vnd.jupyter.widget-view+json": {
       "model_id": "72af937f3e0d4eaea69f722f61956208",
       "version_major": 2,
       "version_minor": 0
      },
      "text/plain": [
       "HBox(children=(FloatProgress(value=1.0, bar_style='info', max=1.0), HTML(value='')))"
      ]
     },
     "metadata": {},
     "output_type": "display_data"
    },
    {
     "name": "stdout",
     "output_type": "stream",
     "text": [
      "\n"
     ]
    },
    {
     "data": {
      "application/vnd.jupyter.widget-view+json": {
       "model_id": "7a665bc201994bb39d60acb4fef6d710",
       "version_major": 2,
       "version_minor": 0
      },
      "text/plain": [
       "HBox(children=(FloatProgress(value=1.0, bar_style='info', max=1.0), HTML(value='')))"
      ]
     },
     "metadata": {},
     "output_type": "display_data"
    },
    {
     "name": "stdout",
     "output_type": "stream",
     "text": [
      "\n",
      "filtered_measurements = [104.495691   215.97720834 189.75866699 113.47037613 215.14998633]\n",
      "new_threshold = 514.6371875831693\n"
     ]
    },
    {
     "data": {
      "application/vnd.jupyter.widget-view+json": {
       "model_id": "f347ef0384c44402be71dfb280e14c14",
       "version_major": 2,
       "version_minor": 0
      },
      "text/plain": [
       "HBox(children=(FloatProgress(value=1.0, bar_style='info', max=1.0), HTML(value='')))"
      ]
     },
     "metadata": {},
     "output_type": "display_data"
    },
    {
     "name": "stdout",
     "output_type": "stream",
     "text": [
      "\n"
     ]
    },
    {
     "data": {
      "application/vnd.jupyter.widget-view+json": {
       "model_id": "d5b17bf6ad0c4fd6bce06dadd570b75a",
       "version_major": 2,
       "version_minor": 0
      },
      "text/plain": [
       "HBox(children=(FloatProgress(value=1.0, bar_style='info', max=1.0), HTML(value='')))"
      ]
     },
     "metadata": {},
     "output_type": "display_data"
    },
    {
     "name": "stdout",
     "output_type": "stream",
     "text": [
      "\n",
      "filtered_measurements = [316.10063147 293.95944878 452.4652766  472.91519367 587.89489625\n",
      " 338.85370593 321.38991445 330.84868313 369.44490447 603.72836956\n",
      " 323.3092764  346.93161868 341.1022027  363.22489772 498.69046009\n",
      " 538.60417006 564.67218779 445.47020595 478.94525474 544.92589035\n",
      " 464.40769245]\n",
      "new_threshold = 1292.813716675736\n"
     ]
    },
    {
     "data": {
      "application/vnd.jupyter.widget-view+json": {
       "model_id": "5d79c9249bad4438abffd65e670c4bb9",
       "version_major": 2,
       "version_minor": 0
      },
      "text/plain": [
       "HBox(children=(FloatProgress(value=1.0, bar_style='info', max=1.0), HTML(value='')))"
      ]
     },
     "metadata": {},
     "output_type": "display_data"
    },
    {
     "name": "stdout",
     "output_type": "stream",
     "text": [
      "\n"
     ]
    },
    {
     "data": {
      "application/vnd.jupyter.widget-view+json": {
       "model_id": "e6ab705beca3433397f520f373090e08",
       "version_major": 2,
       "version_minor": 0
      },
      "text/plain": [
       "HBox(children=(FloatProgress(value=1.0, bar_style='info', max=1.0), HTML(value='')))"
      ]
     },
     "metadata": {},
     "output_type": "display_data"
    },
    {
     "name": "stdout",
     "output_type": "stream",
     "text": [
      "\n",
      "filtered_measurements = [676.92894294]\n",
      "new_threshold = 1451.4650824963007\n"
     ]
    },
    {
     "data": {
      "application/vnd.jupyter.widget-view+json": {
       "model_id": "aa7fb9ea97984c099847b80e6321ecdb",
       "version_major": 2,
       "version_minor": 0
      },
      "text/plain": [
       "HBox(children=(FloatProgress(value=1.0, bar_style='info', max=1.0), HTML(value='')))"
      ]
     },
     "metadata": {},
     "output_type": "display_data"
    },
    {
     "name": "stdout",
     "output_type": "stream",
     "text": [
      "\n",
      "\n",
      "Working on limb #9\n"
     ]
    },
    {
     "data": {
      "application/vnd.jupyter.widget-view+json": {
       "model_id": "57ddc31e058a4bcc991f843347f350e2",
       "version_major": 2,
       "version_minor": 0
      },
      "text/plain": [
       "HBox(children=(FloatProgress(value=1.0, bar_style='info', max=1.0), HTML(value='')))"
      ]
     },
     "metadata": {},
     "output_type": "display_data"
    },
    {
     "data": {
      "application/vnd.jupyter.widget-view+json": {
       "model_id": "078a6ae9918d4eea9982a740827f22e4",
       "version_major": 2,
       "version_minor": 0
      },
      "text/plain": [
       "HBox(children=(FloatProgress(value=1.0, bar_style='info', max=1.0), HTML(value='')))"
      ]
     },
     "metadata": {},
     "output_type": "display_data"
    },
    {
     "name": "stdout",
     "output_type": "stream",
     "text": [
      "--> Not exactly one containing mesh: []\n",
      "\n",
      "filtered_measurements = [ 53.45456958 103.27068736 113.18308578  86.3921496   80.64203937\n",
      "  89.35486967  57.55121386  95.64581371 100.31467011 146.8279211\n",
      " 109.2813692  140.14684294 105.02350722  78.5398176  103.86955012]\n",
      "new_threshold = 247.3943358214503\n"
     ]
    },
    {
     "data": {
      "application/vnd.jupyter.widget-view+json": {
       "model_id": "ceb6a37d254840bb93e92738ac28fd96",
       "version_major": 2,
       "version_minor": 0
      },
      "text/plain": [
       "HBox(children=(FloatProgress(value=1.0, bar_style='info', max=1.0), HTML(value='')))"
      ]
     },
     "metadata": {},
     "output_type": "display_data"
    },
    {
     "name": "stdout",
     "output_type": "stream",
     "text": [
      "--> Not exactly one containing mesh: []\n",
      "--> Not exactly one containing mesh: []\n",
      "THERE WERE NO FACES THAT FIT THE DISTANCE (247.3943358214503) and Z transform requirements\n",
      "So just skipping this edge\n",
      "\n"
     ]
    },
    {
     "data": {
      "application/vnd.jupyter.widget-view+json": {
       "model_id": "6b564caf20c848efa8201fc48806f875",
       "version_major": 2,
       "version_minor": 0
      },
      "text/plain": [
       "HBox(children=(FloatProgress(value=1.0, bar_style='info', max=1.0), HTML(value='')))"
      ]
     },
     "metadata": {},
     "output_type": "display_data"
    },
    {
     "name": "stdout",
     "output_type": "stream",
     "text": [
      "\n",
      "filtered_measurements = [374.45993513 335.82572708 334.31525802 335.19668833 317.9483987\n",
      " 293.72636083 262.83765171 274.68514902 278.53229142 300.90441802\n",
      " 294.68176666 272.80715845 234.92094833 251.05414531 229.44282787\n",
      " 211.06710815 249.70153359 238.95197933 200.25134151 167.20038951\n",
      " 183.41252156 169.94781956 165.30463643 118.06928549 153.29321404\n",
      " 159.75732274 223.68244371 287.38352281 202.87321541 146.80123267\n",
      " 166.3792954  249.89625696]\n",
      "new_threshold = 539.7407819283208\n"
     ]
    },
    {
     "data": {
      "application/vnd.jupyter.widget-view+json": {
       "model_id": "a020c3b426e2405aaacd3e40dc5c2c8f",
       "version_major": 2,
       "version_minor": 0
      },
      "text/plain": [
       "HBox(children=(FloatProgress(value=1.0, bar_style='info', max=1.0), HTML(value='')))"
      ]
     },
     "metadata": {},
     "output_type": "display_data"
    },
    {
     "name": "stdout",
     "output_type": "stream",
     "text": [
      "\n"
     ]
    },
    {
     "data": {
      "application/vnd.jupyter.widget-view+json": {
       "model_id": "fdb91278ccda418aa912962202416b16",
       "version_major": 2,
       "version_minor": 0
      },
      "text/plain": [
       "HBox(children=(FloatProgress(value=1.0, bar_style='info', max=1.0), HTML(value='')))"
      ]
     },
     "metadata": {},
     "output_type": "display_data"
    },
    {
     "name": "stdout",
     "output_type": "stream",
     "text": [
      "\n",
      "filtered_measurements = [147.47838441 138.91058925 140.76523244 215.99178981 200.41318903\n",
      " 162.98056469 190.64678831 229.44137475 199.16980599 131.96151899\n",
      " 126.55825373 167.61084109]\n",
      "new_threshold = 398.3847466909793\n"
     ]
    },
    {
     "data": {
      "application/vnd.jupyter.widget-view+json": {
       "model_id": "7c79e6b46c394e1e9a7024124cd51bf1",
       "version_major": 2,
       "version_minor": 0
      },
      "text/plain": [
       "HBox(children=(FloatProgress(value=1.0, bar_style='info', max=1.0), HTML(value='')))"
      ]
     },
     "metadata": {},
     "output_type": "display_data"
    },
    {
     "name": "stdout",
     "output_type": "stream",
     "text": [
      "\n"
     ]
    },
    {
     "data": {
      "application/vnd.jupyter.widget-view+json": {
       "model_id": "a56856c0f646424fa0d36bd4a040dbb7",
       "version_major": 2,
       "version_minor": 0
      },
      "text/plain": [
       "HBox(children=(FloatProgress(value=1.0, bar_style='info', max=1.0), HTML(value='')))"
      ]
     },
     "metadata": {},
     "output_type": "display_data"
    },
    {
     "name": "stdout",
     "output_type": "stream",
     "text": [
      "\n",
      "filtered_measurements = [126.50698433 113.84623997 131.7911245  125.2211431  157.08861618\n",
      " 151.3385645  199.96294705 141.62647941]\n",
      "new_threshold = 301.8299854478701\n"
     ]
    },
    {
     "data": {
      "application/vnd.jupyter.widget-view+json": {
       "model_id": "076e7c8fb7554a168ba1869de9a8b50f",
       "version_major": 2,
       "version_minor": 0
      },
      "text/plain": [
       "HBox(children=(FloatProgress(value=1.0, bar_style='info', max=1.0), HTML(value='')))"
      ]
     },
     "metadata": {},
     "output_type": "display_data"
    },
    {
     "name": "stdout",
     "output_type": "stream",
     "text": [
      "--> Not exactly one containing mesh: []\n",
      "--> Not exactly one containing mesh: []\n",
      "\n",
      "Total time for mesh mapping: 0.0007345676422119141\n",
      "Total time for mesh mapping: 0.00029349327087402344\n",
      "Total time for mesh mapping: 0.0002741813659667969\n",
      "Total time for mesh mapping: 0.00026416778564453125\n",
      "Total time for mesh mapping: 0.00036644935607910156\n",
      "Total time for mesh mapping: 0.00021958351135253906\n",
      "Total time for mesh mapping: 0.00027489662170410156\n",
      "Total time for mesh mapping: 0.00027632713317871094\n",
      "Total time for mesh mapping: 0.0002589225769042969\n",
      "Total time for mesh mapping: 0.0002932548522949219\n",
      "Total time for mesh mapping: 0.0002741813659667969\n",
      "Total time for mesh mapping: 0.00030684471130371094\n",
      "Total time for mesh mapping: 0.00038313865661621094\n",
      "Total time for mesh mapping: 0.00023889541625976562\n",
      "branch_touching_number = [8]\n",
      "Total time for mesh mapping: 0.0005023479461669922\n",
      "Total time for mesh mapping: 0.00019478797912597656\n",
      "Total time for mesh mapping: 0.0001685619354248047\n",
      "Total time for mesh mapping: 0.00016951560974121094\n",
      "Total time for mesh mapping: 0.00016760826110839844\n",
      "Total time for mesh mapping: 0.000148773193359375\n",
      "Total time for mesh mapping: 0.0001952648162841797\n",
      "Total time for mesh mapping: 0.0018153190612792969\n",
      "Total time for mesh mapping: 0.0012066364288330078\n",
      "Total time for mesh mapping: 0.00014066696166992188\n",
      "Total time for mesh mapping: 0.0001361370086669922\n",
      "Total time for mesh mapping: 0.000141143798828125\n",
      "Total time for mesh mapping: 0.0001361370086669922\n",
      "Total time for mesh mapping: 0.0001342296600341797\n",
      "branch_touching_number = [8, 5]\n",
      "most_branch_containing_piece = 0\n"
     ]
    },
    {
     "data": {
      "application/vnd.jupyter.widget-view+json": {
       "model_id": "84f1c5495ba146aa9eac71c47420e2e8",
       "version_major": 2,
       "version_minor": 0
      },
      "text/plain": [
       "HBox(children=(FloatProgress(value=1.0, bar_style='info', max=1.0), HTML(value='')))"
      ]
     },
     "metadata": {},
     "output_type": "display_data"
    },
    {
     "name": "stdout",
     "output_type": "stream",
     "text": [
      "--> Not exactly one containing mesh: []\n",
      "\n",
      "filtered_measurements = [131.48188333 124.21510212 105.54601554  74.14912336  88.86923009\n",
      " 164.01538429 128.85174314 152.69508096]\n",
      "new_threshold = 282.535370179589\n"
     ]
    },
    {
     "data": {
      "application/vnd.jupyter.widget-view+json": {
       "model_id": "41b13d16724f42bda1dff508aabd4426",
       "version_major": 2,
       "version_minor": 0
      },
      "text/plain": [
       "HBox(children=(FloatProgress(value=1.0, bar_style='info', max=1.0), HTML(value='')))"
      ]
     },
     "metadata": {},
     "output_type": "display_data"
    },
    {
     "name": "stdout",
     "output_type": "stream",
     "text": [
      "--> Not exactly one containing mesh: []\n",
      "--> Not exactly one containing mesh: []\n",
      "\n",
      "\n",
      "Working on limb #10\n"
     ]
    },
    {
     "data": {
      "application/vnd.jupyter.widget-view+json": {
       "model_id": "e1f2a73b21ab40d18e2db4eb61bac826",
       "version_major": 2,
       "version_minor": 0
      },
      "text/plain": [
       "HBox(children=(FloatProgress(value=1.0, bar_style='info', max=1.0), HTML(value='')))"
      ]
     },
     "metadata": {},
     "output_type": "display_data"
    },
    {
     "data": {
      "application/vnd.jupyter.widget-view+json": {
       "model_id": "9fba557e74f049d6b8c5a5d2f2cdfc78",
       "version_major": 2,
       "version_minor": 0
      },
      "text/plain": [
       "HBox(children=(FloatProgress(value=1.0, bar_style='info', max=1.0), HTML(value='')))"
      ]
     },
     "metadata": {},
     "output_type": "display_data"
    },
    {
     "name": "stdout",
     "output_type": "stream",
     "text": [
      "\n",
      "filtered_measurements = [795.3991659  594.22349059 595.07833428 564.39183095 515.52875273\n",
      " 490.25480904 479.0141761  419.53501239 405.45306873 382.47015379\n",
      " 442.38616097]\n",
      "new_threshold = 1519.501482449528\n"
     ]
    },
    {
     "data": {
      "application/vnd.jupyter.widget-view+json": {
       "model_id": "a8a6c7e7b0c945aaaf242266dfb307e4",
       "version_major": 2,
       "version_minor": 0
      },
      "text/plain": [
       "HBox(children=(FloatProgress(value=1.0, bar_style='info', max=1.0), HTML(value='')))"
      ]
     },
     "metadata": {},
     "output_type": "display_data"
    },
    {
     "name": "stdout",
     "output_type": "stream",
     "text": [
      "\n",
      "\n",
      "Total time = 172.7846541404724\n"
     ]
    }
   ],
   "source": [
    "sk = reload(sk)\n",
    "tu = reload(tu)\n",
    "cu = reload(cu)\n",
    "from tqdm.notebook import tqdm\n",
    "import time\n",
    "import itertools\n",
    "\n",
    "start_time = time.time()\n",
    "\n",
    "limb_correspondence = dict()\n",
    "soma_containing_idx= 0\n",
    "\n",
    "total_branch_meshes = []\n",
    "total_branch_skeletons = []\n",
    "\n",
    "empty_submeshes = []\n",
    "for soma_containing_idx in current_mesh_data.keys():\n",
    "    for limb_idx,curr_limb_mesh in enumerate(current_mesh_data[soma_containing_idx][\"branch_meshes\"]):\n",
    "        print(f\"Working on limb #{limb_idx}\")\n",
    "        limb_correspondence[limb_idx] = dict()\n",
    "        curr_limb_sk = current_mesh_data[soma_containing_idx][\"branch_skeletons_cleaned\"][limb_idx]\n",
    "        curr_limb_branches_sk_uneven = sk.decompose_skeleton_to_branches(curr_limb_sk) #the line that is decomposing to branches\n",
    "        \n",
    "        for j,curr_branch_sk in tqdm(enumerate(curr_limb_branches_sk_uneven)):\n",
    "            limb_correspondence[limb_idx][j] = dict()\n",
    "            \n",
    "            \n",
    "            curr_branch_face_correspondence, width_from_skeleton = cu.mesh_correspondence_adaptive_distance(curr_branch_sk,\n",
    "                                          curr_limb_mesh,\n",
    "                                         skeleton_segment_width = 1000)\n",
    "            \n",
    "            \n",
    "            \n",
    "            if len(curr_branch_face_correspondence) > 0:\n",
    "                curr_submesh = curr_limb_mesh.submesh([list(curr_branch_face_correspondence)],append=True)\n",
    "            else:\n",
    "                curr_submesh = trimesh.Trimesh(vertices=np.array([]),faces=np.array([]))\n",
    "                \n",
    "            limb_correspondence[limb_idx][j][\"branch_skeleton\"] = curr_branch_sk\n",
    "            limb_correspondence[limb_idx][j][\"correspondence_mesh\"] = curr_submesh\n",
    "            limb_correspondence[limb_idx][j][\"correspondence_face_idx\"] = curr_branch_face_correspondence\n",
    "            limb_correspondence[limb_idx][j][\"width_from_skeleton\"] = width_from_skeleton\n",
    "            \n",
    "            total_branch_meshes.append(curr_submesh)\n",
    "            total_branch_skeletons.append(curr_branch_sk)\n",
    "            \n",
    "            if len(curr_submesh.faces) == 0:\n",
    "                empty_submeshes.append(dict(limb_idx=limb_idx,branch_number=j))\n",
    "            \n",
    "            \n",
    "print(f\"Total time = {time.time() - start_time}\")"
   ]
  },
  {
   "cell_type": "code",
   "execution_count": 26,
   "metadata": {},
   "outputs": [
    {
     "name": "stdout",
     "output_type": "stream",
     "text": [
      "\n",
      "---- checking limb 0---\n",
      "Limb 0 decomposed into 73 branches\n",
      "divided_skeleton_graph_recovered = (4001, 2, 3) and \n",
      "current_mesh_data[0]['branch_skeletons_cleaned'].shape = (4001, 2, 3)\n",
      "\n",
      "Number of connected components in deocmposed recovered graph = 1\n",
      "Number of connected components in cleaned skeleton graph= 1\n",
      "The downsampled branches number of connected components = 1\n",
      "\n",
      "---- checking limb 1---\n",
      "Limb 1 decomposed into 48 branches\n",
      "divided_skeleton_graph_recovered = (2873, 2, 3) and \n",
      "current_mesh_data[0]['branch_skeletons_cleaned'].shape = (2873, 2, 3)\n",
      "\n",
      "Number of connected components in deocmposed recovered graph = 1\n",
      "Number of connected components in cleaned skeleton graph= 1\n",
      "The downsampled branches number of connected components = 1\n",
      "\n",
      "---- checking limb 2---\n",
      "Limb 2 decomposed into 54 branches\n",
      "divided_skeleton_graph_recovered = (1955, 2, 3) and \n",
      "current_mesh_data[0]['branch_skeletons_cleaned'].shape = (1955, 2, 3)\n",
      "\n",
      "Number of connected components in deocmposed recovered graph = 1\n",
      "Number of connected components in cleaned skeleton graph= 1\n",
      "**** Warning: There were redundant edges in the skeleton*****\n",
      "The downsampled branches number of connected components = 1\n",
      "\n",
      "---- checking limb 3---\n",
      "Limb 3 decomposed into 33 branches\n",
      "divided_skeleton_graph_recovered = (1815, 2, 3) and \n",
      "current_mesh_data[0]['branch_skeletons_cleaned'].shape = (1815, 2, 3)\n",
      "\n",
      "Number of connected components in deocmposed recovered graph = 1\n",
      "Number of connected components in cleaned skeleton graph= 1\n",
      "The downsampled branches number of connected components = 1\n",
      "\n",
      "---- checking limb 4---\n",
      "Limb 4 decomposed into 34 branches\n",
      "divided_skeleton_graph_recovered = (2214, 2, 3) and \n",
      "current_mesh_data[0]['branch_skeletons_cleaned'].shape = (2214, 2, 3)\n",
      "\n",
      "Number of connected components in deocmposed recovered graph = 1\n",
      "Number of connected components in cleaned skeleton graph= 1\n",
      "The downsampled branches number of connected components = 1\n",
      "\n",
      "---- checking limb 5---\n",
      "Limb 5 decomposed into 15 branches\n",
      "divided_skeleton_graph_recovered = (1117, 2, 3) and \n",
      "current_mesh_data[0]['branch_skeletons_cleaned'].shape = (1117, 2, 3)\n",
      "\n",
      "Number of connected components in deocmposed recovered graph = 1\n",
      "Number of connected components in cleaned skeleton graph= 1\n",
      "The downsampled branches number of connected components = 1\n",
      "\n",
      "---- checking limb 6---\n",
      "Limb 6 decomposed into 17 branches\n",
      "divided_skeleton_graph_recovered = (1068, 2, 3) and \n",
      "current_mesh_data[0]['branch_skeletons_cleaned'].shape = (1068, 2, 3)\n",
      "\n",
      "Number of connected components in deocmposed recovered graph = 1\n",
      "Number of connected components in cleaned skeleton graph= 1\n",
      "The downsampled branches number of connected components = 1\n",
      "\n",
      "---- checking limb 7---\n",
      "Limb 7 decomposed into 22 branches\n",
      "divided_skeleton_graph_recovered = (1018, 2, 3) and \n",
      "current_mesh_data[0]['branch_skeletons_cleaned'].shape = (1018, 2, 3)\n",
      "\n",
      "Number of connected components in deocmposed recovered graph = 1\n",
      "Number of connected components in cleaned skeleton graph= 1\n",
      "**** Warning: There were redundant edges in the skeleton*****\n",
      "The downsampled branches number of connected components = 1\n",
      "\n",
      "---- checking limb 8---\n",
      "Limb 8 decomposed into 11 branches\n",
      "divided_skeleton_graph_recovered = (675, 2, 3) and \n",
      "current_mesh_data[0]['branch_skeletons_cleaned'].shape = (675, 2, 3)\n",
      "\n",
      "Number of connected components in deocmposed recovered graph = 1\n",
      "Number of connected components in cleaned skeleton graph= 1\n",
      "The downsampled branches number of connected components = 1\n",
      "\n",
      "---- checking limb 9---\n",
      "Limb 9 decomposed into 5 branches\n",
      "divided_skeleton_graph_recovered = (225, 2, 3) and \n",
      "current_mesh_data[0]['branch_skeletons_cleaned'].shape = (225, 2, 3)\n",
      "\n",
      "Number of connected components in deocmposed recovered graph = 1\n",
      "Number of connected components in cleaned skeleton graph= 1\n",
      "The downsampled branches number of connected components = 1\n",
      "\n",
      "---- checking limb 10---\n",
      "Limb 10 decomposed into 1 branches\n",
      "only one skeleton so no stacking needed\n",
      "divided_skeleton_graph_recovered = (39, 2, 3) and \n",
      "current_mesh_data[0]['branch_skeletons_cleaned'].shape = (39, 2, 3)\n",
      "\n",
      "Number of connected components in deocmposed recovered graph = 1\n",
      "Number of connected components in cleaned skeleton graph= 1\n",
      "only one skeleton so no stacking needed\n",
      "The downsampled branches number of connected components = 1\n",
      "Empty submeshes = []\n"
     ]
    }
   ],
   "source": [
    "#couple of checks on how the decomposition went\n",
    "nu = reload(nu)\n",
    "sk = reload(sk)\n",
    "empty_submeshes = []\n",
    "\n",
    "for soma_containing_idx in current_mesh_data.keys():\n",
    "    for limb_idx,curr_limb_mesh in enumerate(current_mesh_data[soma_containing_idx][\"branch_meshes\"]):\n",
    "        print(f\"\\n---- checking limb {limb_idx}---\")\n",
    "        print(f\"Limb {limb_idx} decomposed into {len(limb_correspondence[limb_idx])} branches\")\n",
    "        \n",
    "        #get all of the skeletons and make sure that they from a connected component\n",
    "        divided_branches = [limb_correspondence[limb_idx][k][\"branch_skeleton\"] for k in limb_correspondence[limb_idx]]\n",
    "        divided_skeleton_graph = sk.convert_skeleton_to_graph(\n",
    "                                        sk.stack_skeletons(divided_branches))\n",
    "        \n",
    "        divided_skeleton_graph_recovered = sk.convert_graph_to_skeleton(divided_skeleton_graph)\n",
    "        \n",
    "        cleaned_limb_skeleton = current_mesh_data[0]['branch_skeletons_cleaned'][limb_idx]\n",
    "        print(f\"divided_skeleton_graph_recovered = {divided_skeleton_graph_recovered.shape} and \\n\"\n",
    "              f\"current_mesh_data[0]['branch_skeletons_cleaned'].shape = {cleaned_limb_skeleton.shape}\\n\")\n",
    "        if divided_skeleton_graph_recovered.shape != cleaned_limb_skeleton.shape:\n",
    "            print(f\"****divided_skeleton_graph_recovered and cleaned_limb_skeleton shapes not match: \"\n",
    "                            f\"{divided_skeleton_graph_recovered.shape} vs. {cleaned_limb_skeleton.shape} *****\")\n",
    "        \n",
    "        \n",
    "        #check that it is all one component\n",
    "        divided_skeleton_graph_n_comp = nx.number_connected_components(divided_skeleton_graph)\n",
    "        print(f\"Number of connected components in deocmposed recovered graph = {divided_skeleton_graph_n_comp}\")\n",
    "        \n",
    "        cleaned_limb_skeleton_graph = sk.convert_skeleton_to_graph(cleaned_limb_skeleton)\n",
    "        cleaned_limb_skeleton_graph_n_comp = nx.number_connected_components(cleaned_limb_skeleton_graph)\n",
    "        print(f\"Number of connected components in cleaned skeleton graph= {cleaned_limb_skeleton_graph_n_comp}\")\n",
    "        \n",
    "        if divided_skeleton_graph_n_comp > 1 or cleaned_limb_skeleton_graph_n_comp > 1:\n",
    "            raise Exception(f\"One of the decompose_skeletons or cleaned skeletons was not just one component : {divided_skeleton_graph_n_comp,cleaned_limb_skeleton_graph_n_comp}\")\n",
    "        \n",
    "        #check that when we downsample it is not one component:\n",
    "        curr_branch_meshes_downsampled = [sk.resize_skeleton_branch(b,n_segments=1) for b in divided_branches]\n",
    "        downsampled_skeleton = sk.stack_skeletons(curr_branch_meshes_downsampled)\n",
    "        curr_sk_graph_debug = sk.convert_skeleton_to_graph(downsampled_skeleton)\n",
    "\n",
    "\n",
    "        con_comp = list(nx.connected_components(curr_sk_graph_debug))\n",
    "        if len(con_comp) > 1:\n",
    "            raise Exception(f\"There were more than 1 component when downsizing: {[len(k) for k in con_comp]}\")\n",
    "        else:\n",
    "            print(f\"The downsampled branches number of connected components = {len(con_comp)}\")\n",
    "        \n",
    "        \n",
    "        for j in limb_correspondence[limb_idx].keys():\n",
    "            if len(limb_correspondence[limb_idx][j][\"correspondence_mesh\"].faces) == 0:\n",
    "                empty_submeshes.append(dict(limb_idx=limb_idx,branch_idx = j))\n",
    "        \n",
    "print(f\"Empty submeshes = {empty_submeshes}\")\n",
    "\n",
    "if len(empty_submeshes) > 0:\n",
    "    raise Exception(f\"Found empyt meshes after branch mesh correspondence: {empty_submeshes}\")"
   ]
  },
  {
   "cell_type": "code",
   "execution_count": 27,
   "metadata": {},
   "outputs": [],
   "source": [
    "# sk = reload(sk)\n",
    "# import matplotlib_utils as mu\n",
    "# mu = reload(mu)\n",
    "# sk.graph_skeleton_and_mesh(other_meshes=total_branch_meshes,\n",
    "#                           other_meshes_colors=\"random\",\n",
    "#                            other_skeletons=total_branch_skeletons,\n",
    "#                            other_skeletons_colors=\"random\"\n",
    "#                           )"
   ]
  },
  {
   "cell_type": "markdown",
   "metadata": {},
   "source": [
    "# Finishing off the face correspondence so get 1-to-1 correspondence of mesh face to skeletal piece"
   ]
  },
  {
   "cell_type": "code",
   "execution_count": 28,
   "metadata": {},
   "outputs": [
    {
     "data": {
      "text/plain": [
       "'\\nInput: \\n- full mesh\\n- current face coloring of mesh (could be incomplete) corresponding to skeletal pieces\\n(but doesn\\'t need the skeletal pieces to do it\\'s jobs, those are just represented in the labels)\\n\\nOutput: \\n- better face coloring which has labels that:\\n    a. cover entire mesh\\n    b. the labels exist as only 1 connected component on the mesh\\n\\n\\n\\nPseudocode of what doing:\\n- clearing out the branch_mesh correspondence stored in limb_correspondence[limb_idx][k][\"branch_mesh\"]\\n- gets a list of how many subdivided branches there were (becuase this should be the number of labels) and the mesh of whole limb\\n- Builds a face to skeleeton branch correspondence bassed on the current  branch_piece[\"correspondence_face_idx\"] that already exists\\n    This may have overlaps or faces mapped to zero branches that we need to resolve\\n- computes the percentage of empty and conflicting faces \\n- makes sure that at least one face that corresponds to each branch piece (and throws error if so)\\n\\n#Doing the resolution of the empty and conflicting faces:\\n- clears out all conflicting faces and leaves them just like the empty ones\\n- uses the filter_face_coloring_to_connected_components which only keeps the largest connected component of a label \\n    (because the zeroing out of conflicting labels could have eliminated or split up some of the labels)\\n- if  a face was totally eliminated then add it back to the face coloring\\n(only does this once so a face could still be missing if one face totally overwrites another face)\\n\\n**At this point: there is at one-to-one correspondence of mesh face to skeletal piece label OR empty label (-1)\\n\\n# Using the waterfilling algorithm: designed at fixing the correspondence to empty label (-1) \\n- get a submesh of the original mesh but only for those empty faces and divide into disconnecteed mesh pieces\\n- run through waterfilling algorithm to color each empty piece\\n- check that there are no more empty faces\\n- gets the one connected mesh component that corresponds to that label (get both the actual mesh and the mesh indexes)\\n\\n#the output of all of the algorithm: \\n- save the result back in  limb_correspondence[limb_idx][k][\"branch_mesh\"] so it is accurately updated\\n\\n\\n'"
      ]
     },
     "execution_count": 28,
     "metadata": {},
     "output_type": "execute_result"
    }
   ],
   "source": [
    "\"\"\"\n",
    "Input: \n",
    "- full mesh\n",
    "- current face coloring of mesh (could be incomplete) corresponding to skeletal pieces\n",
    "(but doesn't need the skeletal pieces to do it's jobs, those are just represented in the labels)\n",
    "\n",
    "Output: \n",
    "- better face coloring which has labels that:\n",
    "    a. cover entire mesh\n",
    "    b. the labels exist as only 1 connected component on the mesh\n",
    "\n",
    "\n",
    "\n",
    "Pseudocode of what doing:\n",
    "- clearing out the branch_mesh correspondence stored in limb_correspondence[limb_idx][k][\"branch_mesh\"]\n",
    "- gets a list of how many subdivided branches there were (becuase this should be the number of labels) and the mesh of whole limb\n",
    "- Builds a face to skeleeton branch correspondence bassed on the current  branch_piece[\"correspondence_face_idx\"] that already exists\n",
    "    This may have overlaps or faces mapped to zero branches that we need to resolve\n",
    "- computes the percentage of empty and conflicting faces \n",
    "- makes sure that at least one face that corresponds to each branch piece (and throws error if so)\n",
    "\n",
    "#Doing the resolution of the empty and conflicting faces:\n",
    "- clears out all conflicting faces and leaves them just like the empty ones\n",
    "- uses the filter_face_coloring_to_connected_components which only keeps the largest connected component of a label \n",
    "    (because the zeroing out of conflicting labels could have eliminated or split up some of the labels)\n",
    "- if  a face was totally eliminated then add it back to the face coloring\n",
    "(only does this once so a face could still be missing if one face totally overwrites another face)\n",
    "\n",
    "**At this point: there is at one-to-one correspondence of mesh face to skeletal piece label OR empty label (-1)\n",
    "\n",
    "# Using the waterfilling algorithm: designed at fixing the correspondence to empty label (-1) \n",
    "- get a submesh of the original mesh but only for those empty faces and divide into disconnecteed mesh pieces\n",
    "- run through waterfilling algorithm to color each empty piece\n",
    "- check that there are no more empty faces\n",
    "- gets the one connected mesh component that corresponds to that label (get both the actual mesh and the mesh indexes)\n",
    "\n",
    "#the output of all of the algorithm: \n",
    "- save the result back in  limb_correspondence[limb_idx][k][\"branch_mesh\"] so it is accurately updated\n",
    "\n",
    "\n",
    "\"\"\""
   ]
  },
  {
   "cell_type": "code",
   "execution_count": 29,
   "metadata": {},
   "outputs": [
    {
     "name": "stdout",
     "output_type": "stream",
     "text": [
      "\n",
      "\n",
      "Working on limb_correspondence for #0\n",
      "max(original_labels),len(original_labels) = (72, 73)\n",
      "empty_indices % = 0.07344742705363831\n",
      " conflict_indices % = 0.056313910158492325\n"
     ]
    },
    {
     "data": {
      "application/vnd.jupyter.widget-view+json": {
       "model_id": "4e75fdddd8bb47299e96db52809f9fb5",
       "version_major": 2,
       "version_minor": 0
      },
      "text/plain": [
       "HBox(children=(FloatProgress(value=0.0, max=768.0), HTML(value='')))"
      ]
     },
     "metadata": {},
     "output_type": "display_data"
    },
    {
     "name": "stdout",
     "output_type": "stream",
     "text": [
      "\n"
     ]
    },
    {
     "data": {
      "application/vnd.jupyter.widget-view+json": {
       "model_id": "bb54ff6e33b54517b3adfffffa75ecf3",
       "version_major": 2,
       "version_minor": 0
      },
      "text/plain": [
       "HBox(children=(FloatProgress(value=0.0, max=73.0), HTML(value='')))"
      ]
     },
     "metadata": {},
     "output_type": "display_data"
    },
    {
     "name": "stdout",
     "output_type": "stream",
     "text": [
      "\n",
      "Total time for limb mesh processing = 7.001715421676636\n",
      "\n",
      "\n",
      "Working on limb_correspondence for #1\n",
      "max(original_labels),len(original_labels) = (47, 48)\n",
      "empty_indices % = 0.09660848588051653\n",
      " conflict_indices % = 0.025650631474386263\n"
     ]
    },
    {
     "data": {
      "application/vnd.jupyter.widget-view+json": {
       "model_id": "39a9c677525f4012a1985e418cbe267c",
       "version_major": 2,
       "version_minor": 0
      },
      "text/plain": [
       "HBox(children=(FloatProgress(value=0.0, max=448.0), HTML(value='')))"
      ]
     },
     "metadata": {},
     "output_type": "display_data"
    },
    {
     "name": "stdout",
     "output_type": "stream",
     "text": [
      "\n"
     ]
    },
    {
     "data": {
      "application/vnd.jupyter.widget-view+json": {
       "model_id": "375c40651492418681bd892e827a8667",
       "version_major": 2,
       "version_minor": 0
      },
      "text/plain": [
       "HBox(children=(FloatProgress(value=0.0, max=48.0), HTML(value='')))"
      ]
     },
     "metadata": {},
     "output_type": "display_data"
    },
    {
     "name": "stdout",
     "output_type": "stream",
     "text": [
      "\n",
      "Total time for limb mesh processing = 3.5668983459472656\n",
      "\n",
      "\n",
      "Working on limb_correspondence for #2\n",
      "max(original_labels),len(original_labels) = (53, 54)\n",
      "empty_indices % = 0.1071761822954365\n",
      " conflict_indices % = 0.07467450357980658\n"
     ]
    },
    {
     "data": {
      "application/vnd.jupyter.widget-view+json": {
       "model_id": "aba6394a318d42a7865a36298a604dcc",
       "version_major": 2,
       "version_minor": 0
      },
      "text/plain": [
       "HBox(children=(FloatProgress(value=0.0, max=271.0), HTML(value='')))"
      ]
     },
     "metadata": {},
     "output_type": "display_data"
    },
    {
     "name": "stdout",
     "output_type": "stream",
     "text": [
      "\n"
     ]
    },
    {
     "data": {
      "application/vnd.jupyter.widget-view+json": {
       "model_id": "330a0601042d4687ba5d44d67a087c22",
       "version_major": 2,
       "version_minor": 0
      },
      "text/plain": [
       "HBox(children=(FloatProgress(value=0.0, max=54.0), HTML(value='')))"
      ]
     },
     "metadata": {},
     "output_type": "display_data"
    },
    {
     "name": "stdout",
     "output_type": "stream",
     "text": [
      "\n",
      "Total time for limb mesh processing = 3.9071922302246094\n",
      "\n",
      "\n",
      "Working on limb_correspondence for #3\n",
      "max(original_labels),len(original_labels) = (32, 33)\n",
      "empty_indices % = 0.09281692698873956\n",
      " conflict_indices % = 0.024264438794042862\n"
     ]
    },
    {
     "data": {
      "application/vnd.jupyter.widget-view+json": {
       "model_id": "bec3d9cb94734470b2eba7c0b30d4c30",
       "version_major": 2,
       "version_minor": 0
      },
      "text/plain": [
       "HBox(children=(FloatProgress(value=0.0, max=300.0), HTML(value='')))"
      ]
     },
     "metadata": {},
     "output_type": "display_data"
    },
    {
     "name": "stdout",
     "output_type": "stream",
     "text": [
      "\n"
     ]
    },
    {
     "data": {
      "application/vnd.jupyter.widget-view+json": {
       "model_id": "f8570061b37d4583a98c4553b36a1e27",
       "version_major": 2,
       "version_minor": 0
      },
      "text/plain": [
       "HBox(children=(FloatProgress(value=0.0, max=33.0), HTML(value='')))"
      ]
     },
     "metadata": {},
     "output_type": "display_data"
    },
    {
     "name": "stdout",
     "output_type": "stream",
     "text": [
      "\n",
      "Total time for limb mesh processing = 2.1847422122955322\n",
      "\n",
      "\n",
      "Working on limb_correspondence for #4\n",
      "max(original_labels),len(original_labels) = (33, 34)\n",
      "empty_indices % = 0.10146769584740416\n",
      " conflict_indices % = 0.02465951682933165\n"
     ]
    },
    {
     "data": {
      "application/vnd.jupyter.widget-view+json": {
       "model_id": "4e006f3895ed454188e3417deccdc93a",
       "version_major": 2,
       "version_minor": 0
      },
      "text/plain": [
       "HBox(children=(FloatProgress(value=0.0, max=277.0), HTML(value='')))"
      ]
     },
     "metadata": {},
     "output_type": "display_data"
    },
    {
     "name": "stdout",
     "output_type": "stream",
     "text": [
      "\n"
     ]
    },
    {
     "data": {
      "application/vnd.jupyter.widget-view+json": {
       "model_id": "07531e9d1b674df59df827ab79ed9553",
       "version_major": 2,
       "version_minor": 0
      },
      "text/plain": [
       "HBox(children=(FloatProgress(value=0.0, max=34.0), HTML(value='')))"
      ]
     },
     "metadata": {},
     "output_type": "display_data"
    },
    {
     "name": "stdout",
     "output_type": "stream",
     "text": [
      "\n",
      "Total time for limb mesh processing = 2.2990009784698486\n",
      "\n",
      "\n",
      "Working on limb_correspondence for #5\n",
      "max(original_labels),len(original_labels) = (14, 15)\n",
      "empty_indices % = 0.07321876290838529\n",
      " conflict_indices % = 0.031268311895407255\n"
     ]
    },
    {
     "data": {
      "application/vnd.jupyter.widget-view+json": {
       "model_id": "c5036398ef7040b0a9faad6475b988a3",
       "version_major": 2,
       "version_minor": 0
      },
      "text/plain": [
       "HBox(children=(FloatProgress(value=0.0, max=221.0), HTML(value='')))"
      ]
     },
     "metadata": {},
     "output_type": "display_data"
    },
    {
     "name": "stdout",
     "output_type": "stream",
     "text": [
      "\n"
     ]
    },
    {
     "data": {
      "application/vnd.jupyter.widget-view+json": {
       "model_id": "17c172b407dc426293e31345937bed6a",
       "version_major": 2,
       "version_minor": 0
      },
      "text/plain": [
       "HBox(children=(FloatProgress(value=0.0, max=15.0), HTML(value='')))"
      ]
     },
     "metadata": {},
     "output_type": "display_data"
    },
    {
     "name": "stdout",
     "output_type": "stream",
     "text": [
      "\n",
      "Total time for limb mesh processing = 2.001291513442993\n",
      "\n",
      "\n",
      "Working on limb_correspondence for #6\n",
      "max(original_labels),len(original_labels) = (16, 17)\n",
      "empty_indices % = 0.11682743837084673\n",
      " conflict_indices % = 0.027271644634988688\n"
     ]
    },
    {
     "data": {
      "application/vnd.jupyter.widget-view+json": {
       "model_id": "e9431468aad347b3922b7f48f2039f58",
       "version_major": 2,
       "version_minor": 0
      },
      "text/plain": [
       "HBox(children=(FloatProgress(value=0.0, max=191.0), HTML(value='')))"
      ]
     },
     "metadata": {},
     "output_type": "display_data"
    },
    {
     "name": "stdout",
     "output_type": "stream",
     "text": [
      "\n"
     ]
    },
    {
     "data": {
      "application/vnd.jupyter.widget-view+json": {
       "model_id": "3204ce6f60d84594af9fe266456eced6",
       "version_major": 2,
       "version_minor": 0
      },
      "text/plain": [
       "HBox(children=(FloatProgress(value=0.0, max=17.0), HTML(value='')))"
      ]
     },
     "metadata": {},
     "output_type": "display_data"
    },
    {
     "name": "stdout",
     "output_type": "stream",
     "text": [
      "\n",
      "Total time for limb mesh processing = 1.16579008102417\n",
      "\n",
      "\n",
      "Working on limb_correspondence for #7\n",
      "max(original_labels),len(original_labels) = (21, 22)\n",
      "empty_indices % = 0.12698358471550825\n",
      " conflict_indices % = 0.026561672616709085\n"
     ]
    },
    {
     "data": {
      "application/vnd.jupyter.widget-view+json": {
       "model_id": "1d34bffffcd447d4b7e2eb37084574c8",
       "version_major": 2,
       "version_minor": 0
      },
      "text/plain": [
       "HBox(children=(FloatProgress(value=0.0, max=188.0), HTML(value='')))"
      ]
     },
     "metadata": {},
     "output_type": "display_data"
    },
    {
     "name": "stdout",
     "output_type": "stream",
     "text": [
      "\n"
     ]
    },
    {
     "data": {
      "application/vnd.jupyter.widget-view+json": {
       "model_id": "52611d8d6ada43f19d77afe64e56d060",
       "version_major": 2,
       "version_minor": 0
      },
      "text/plain": [
       "HBox(children=(FloatProgress(value=0.0, max=22.0), HTML(value='')))"
      ]
     },
     "metadata": {},
     "output_type": "display_data"
    },
    {
     "name": "stdout",
     "output_type": "stream",
     "text": [
      "\n",
      "Total time for limb mesh processing = 1.159428358078003\n",
      "\n",
      "\n",
      "Working on limb_correspondence for #8\n",
      "max(original_labels),len(original_labels) = (10, 11)\n",
      "empty_indices % = 0.12129197918778296\n",
      " conflict_indices % = 0.020508142442056895\n"
     ]
    },
    {
     "data": {
      "application/vnd.jupyter.widget-view+json": {
       "model_id": "ec3310abaf7940bb9e1c307391034ef7",
       "version_major": 2,
       "version_minor": 0
      },
      "text/plain": [
       "HBox(children=(FloatProgress(value=0.0, max=89.0), HTML(value='')))"
      ]
     },
     "metadata": {},
     "output_type": "display_data"
    },
    {
     "name": "stdout",
     "output_type": "stream",
     "text": [
      "\n"
     ]
    },
    {
     "data": {
      "application/vnd.jupyter.widget-view+json": {
       "model_id": "1b299e3b1b0d46b88df87255ef75e84a",
       "version_major": 2,
       "version_minor": 0
      },
      "text/plain": [
       "HBox(children=(FloatProgress(value=0.0, max=11.0), HTML(value='')))"
      ]
     },
     "metadata": {},
     "output_type": "display_data"
    },
    {
     "name": "stdout",
     "output_type": "stream",
     "text": [
      "\n",
      "Total time for limb mesh processing = 0.6509523391723633\n",
      "\n",
      "\n",
      "Working on limb_correspondence for #9\n",
      "max(original_labels),len(original_labels) = (4, 5)\n",
      "empty_indices % = 0.16869655351127236\n",
      " conflict_indices % = 0.0032391811350090697\n"
     ]
    },
    {
     "data": {
      "application/vnd.jupyter.widget-view+json": {
       "model_id": "b7de3688f6914044a912e7bb343c037d",
       "version_major": 2,
       "version_minor": 0
      },
      "text/plain": [
       "HBox(children=(FloatProgress(value=0.0, max=17.0), HTML(value='')))"
      ]
     },
     "metadata": {},
     "output_type": "display_data"
    },
    {
     "name": "stdout",
     "output_type": "stream",
     "text": [
      "\n"
     ]
    },
    {
     "data": {
      "application/vnd.jupyter.widget-view+json": {
       "model_id": "8d1bc6f1bf33429f8f823ac088e4bbf3",
       "version_major": 2,
       "version_minor": 0
      },
      "text/plain": [
       "HBox(children=(FloatProgress(value=0.0, max=5.0), HTML(value='')))"
      ]
     },
     "metadata": {},
     "output_type": "display_data"
    },
    {
     "name": "stdout",
     "output_type": "stream",
     "text": [
      "\n",
      "Total time for limb mesh processing = 0.23867559432983398\n",
      "\n",
      "\n",
      "Working on limb_correspondence for #10\n",
      "max(original_labels),len(original_labels) = (0, 1)\n",
      "empty_indices % = 0.003943908851884312\n",
      " conflict_indices % = 0.0\n"
     ]
    },
    {
     "data": {
      "application/vnd.jupyter.widget-view+json": {
       "model_id": "dbe5f4805f7347db8b12594b759564de",
       "version_major": 2,
       "version_minor": 0
      },
      "text/plain": [
       "HBox(children=(FloatProgress(value=0.0, max=3.0), HTML(value='')))"
      ]
     },
     "metadata": {},
     "output_type": "display_data"
    },
    {
     "name": "stdout",
     "output_type": "stream",
     "text": [
      "\n"
     ]
    },
    {
     "data": {
      "application/vnd.jupyter.widget-view+json": {
       "model_id": "505d1c14b2254646a599785f8790ef22",
       "version_major": 2,
       "version_minor": 0
      },
      "text/plain": [
       "HBox(children=(FloatProgress(value=0.0, max=1.0), HTML(value='')))"
      ]
     },
     "metadata": {},
     "output_type": "display_data"
    },
    {
     "name": "stdout",
     "output_type": "stream",
     "text": [
      "\n",
      "Total time for limb mesh processing = 0.18622756004333496\n"
     ]
    }
   ],
   "source": [
    "#--- this is the function that will clean up a limb piece so have 1-1 correspondence\n",
    "\n",
    "cu = reload(cu)\n",
    "tu = reload(tu)\n",
    "\n",
    "#things to prep for visualizing the axons\n",
    "total_widths = []\n",
    "total_branch_skeletons = []\n",
    "total_branch_meshes = []\n",
    "\n",
    "soma_containing_idx = 0\n",
    "import time\n",
    "for limb_idx in limb_correspondence.keys():\n",
    "    mesh_start_time = time.time()\n",
    "    #clear out the mesh correspondence if already in limb_correspondecne\n",
    "    for k in limb_correspondence[limb_idx].keys():\n",
    "        if \"branch_mesh\" in limb_correspondence[limb_idx][k]:\n",
    "            del limb_correspondence[limb_idx][k][\"branch_mesh\"]\n",
    "        if \"branch_face_idx\" in limb_correspondence[limb_idx][k]:\n",
    "            del limb_correspondence[limb_idx][k][\"branch_face_idx\"]\n",
    "    #geting the current limb mesh\n",
    "    print(f\"\\n\\nWorking on limb_correspondence for #{limb_idx}\")\n",
    "    no_missing_labels = list(limb_correspondence[limb_idx].keys()) #counts the number of divided branches which should be the total number of labels\n",
    "    curr_limb_mesh = current_mesh_data[soma_containing_idx][\"branch_meshes\"][limb_idx]\n",
    "\n",
    "    #set up the face dictionary\n",
    "    face_lookup = dict([(j,[]) for j in range(0,len(curr_limb_mesh.faces))])\n",
    "\n",
    "    for j,branch_piece in limb_correspondence[limb_idx].items():\n",
    "        curr_faces_corresponded = branch_piece[\"correspondence_face_idx\"]\n",
    "\n",
    "        for c in curr_faces_corresponded:\n",
    "            face_lookup[c].append(j)\n",
    "\n",
    "    original_labels = set(list(itertools.chain.from_iterable(list(face_lookup.values()))))\n",
    "    print(f\"max(original_labels),len(original_labels) = {(max(original_labels),len(original_labels))}\")\n",
    "    \n",
    "    \n",
    "    if len(original_labels) != len(no_missing_labels):\n",
    "        raise Exception(f\"len(original_labels) != len(no_missing_labels) for original_labels = {len(original_labels)},no_missing_labels = {len(no_missing_labels)}\")\n",
    "    \n",
    "    if max(original_labels) + 1 > len(original_labels):\n",
    "        raise Exception(\"There are some missing labels in the initial labeling\")\n",
    "        \n",
    "    \n",
    "        \n",
    "    #here is where can call the function that resolves the face labels\n",
    "    face_coloring_copy = cu.resolve_empty_conflicting_face_labels(\n",
    "                     curr_limb_mesh = curr_limb_mesh,\n",
    "                     face_lookup=face_lookup,\n",
    "                     no_missing_labels = list(original_labels)\n",
    "    )\n",
    "    \n",
    "\n",
    "    # -- splitting the mesh pieces into individual pieces\n",
    "    divided_submeshes,divided_submeshes_idx = tu.split_mesh_into_face_groups(curr_limb_mesh,face_coloring_copy)\n",
    "    \n",
    "    #-- check that all the split mesh pieces are one component --#\n",
    "\n",
    "    #save off the new data as branch mesh\n",
    "    for k in limb_correspondence[limb_idx].keys():\n",
    "        limb_correspondence[limb_idx][k][\"branch_mesh\"] = divided_submeshes[k]\n",
    "        limb_correspondence[limb_idx][k][\"branch_face_idx\"] = divided_submeshes_idx[k]\n",
    "        total_widths.append(limb_correspondence[limb_idx][k][\"width_from_skeleton\"])\n",
    "        total_branch_skeletons.append(limb_correspondence[limb_idx][k][\"branch_skeleton\"])\n",
    "        total_branch_meshes.append(limb_correspondence[limb_idx][k][\"branch_mesh\"])\n",
    "    \n",
    "    print(f\"Total time for limb mesh processing = {time.time() - mesh_start_time}\")"
   ]
  },
  {
   "cell_type": "markdown",
   "metadata": {},
   "source": [
    "# Visualizing the results of getting the mesh to skeletal segment correspondence completely 1-to-1"
   ]
  },
  {
   "cell_type": "code",
   "execution_count": 30,
   "metadata": {},
   "outputs": [
    {
     "data": {
      "image/png": "[encoded data removed]",
      "text/plain": [
       "<Figure size 432x288 with 1 Axes>"
      ]
     },
     "metadata": {
      "needs_background": "light"
     },
     "output_type": "display_data"
    }
   ],
   "source": [
    "from matplotlib import pyplot as plt\n",
    "fig,ax = plt.subplots(1,1)\n",
    "bins = plt.hist(np.array(total_widths),bins=100)\n",
    "ax.set_xlabel(\"Width measurement of mesh branch (nm)\")\n",
    "ax.set_ylabel(\"frequency\")\n",
    "ax.set_title(\"Width measurement of mesh branch frequency\")\n",
    "plt.show()"
   ]
  },
  {
   "cell_type": "code",
   "execution_count": 31,
   "metadata": {},
   "outputs": [
    {
     "data": {
      "application/vnd.jupyter.widget-view+json": {
       "model_id": "40b019d2d70643868c8f63505b1a49f6",
       "version_major": 2,
       "version_minor": 0
      },
      "text/plain": [
       "VBox(children=(Figure(camera=PerspectiveCamera(fov=46.0, position=(0.0, 0.0, 2.0), quaternion=(0.0, 0.0, 0.0, …"
      ]
     },
     "metadata": {},
     "output_type": "display_data"
    }
   ],
   "source": [
    "sk.graph_skeleton_and_mesh(other_meshes=total_branch_meshes,\n",
    "                          other_meshes_colors=\"random\",\n",
    "                          other_skeletons=total_branch_skeletons,\n",
    "                          other_skeletons_colors=\"random\",\n",
    "                          #html_path=\"two_soma_mesh_skeleton_decomp.html\"\n",
    "                          )"
   ]
  },
  {
   "cell_type": "code",
   "execution_count": 32,
   "metadata": {},
   "outputs": [
    {
     "data": {
      "text/plain": [
       "3"
      ]
     },
     "execution_count": 32,
     "metadata": {},
     "output_type": "execute_result"
    }
   ],
   "source": [
    "np.argmax([1,4,5,6])"
   ]
  },
  {
   "cell_type": "code",
   "execution_count": 33,
   "metadata": {},
   "outputs": [
    {
     "data": {
      "application/vnd.jupyter.widget-view+json": {
       "model_id": "c8c4e654cb2a42b8a185042de23969cf",
       "version_major": 2,
       "version_minor": 0
      },
      "text/plain": [
       "VBox(children=(Figure(camera=PerspectiveCamera(fov=46.0, position=(0.0, 0.0, 2.0), quaternion=(0.0, 0.0, 0.0, …"
      ]
     },
     "metadata": {},
     "output_type": "display_data"
    }
   ],
   "source": [
    "\n",
    "sk.graph_skeleton_and_mesh(other_meshes=[total_branch_meshes[47]],\n",
    "                          other_meshes_colors=\"random\",\n",
    "                          other_skeletons=[total_branch_skeletons[47]],\n",
    "                          other_skeletons_colors=\"random\",\n",
    "                          html_path=\"two_soma_mesh_skeleton_decomp.html\")"
   ]
  },
  {
   "cell_type": "markdown",
   "metadata": {},
   "source": [
    "# PART 3: LAST PART OF ANALYSIS WHERE MAKES CONCEPT GRAPHS"
   ]
  },
  {
   "cell_type": "code",
   "execution_count": 106,
   "metadata": {
    "scrolled": true
   },
   "outputs": [
    {
     "name": "stdout",
     "output_type": "stream",
     "text": [
      "\n",
      "\n",
      "------Working on limb 0 -------\n",
      "inside loop len(curr_limb_divided_meshes) = 73 len(curr_limb_divided_skeletons) = 73\n",
      "--- Working on soma_idx: 0----\n",
      "Total time for filtering periphery meshes = 0.4046151638031006\n",
      "Total time for mesh mapping: 0.4521505832672119\n",
      "Total time for mesh mapping: 0.1359541416168213\n",
      "Total time for mesh mapping: 0.18540716171264648\n",
      "touching_pieces = [44]\n",
      "Total time for mesh connectivity = 0.7928600311279297\n",
      "Touching piece endpoints = [[755186.1 950392.1 875386.3]\n",
      " [756591.  947891.  874086. ]]\n",
      "inside inner loop len(curr_limb_divided_skeletons) = 73\n",
      "closest_endpoint = [755186.1 950392.1 875386.3]\n",
      "Starting_edge inside branches_to_conept = [[755186.1 950392.1 875386.3]\n",
      " [756591.  947891.  874086. ]]\n",
      "At the start, starting_node (in terms of the skeleton, that shouldn't match the starting edge) = [47]\n",
      "printing out current edge:\n",
      "[[755186.1 950392.1 875386.3]\n",
      " [756591.  947891.  874086. ]]\n",
      "edge_endpoints_to_process was empty so exiting loop after 73 iterations\n",
      "starting_node in concept map (that should match the starting edge) = 44\n",
      "Total time for branches to concept conversion = 0.34419894218444824\n",
      "\n",
      "recovered_touching_piece = [44]\n",
      "After concept mapping size = 73\n",
      "Local time for concept mapping = 1.7125675678253174\n",
      "\n",
      "\n",
      "------Working on limb 1 -------\n",
      "inside loop len(curr_limb_divided_meshes) = 48 len(curr_limb_divided_skeletons) = 48\n",
      "Merge limb detected\n",
      "--- Working on soma_idx: 0----\n",
      "Total time for filtering periphery meshes = 0.4125845432281494\n",
      "Total time for mesh mapping: 0.23333382606506348\n",
      "touching_pieces = [13]\n",
      "Total time for mesh connectivity = 0.2517850399017334\n",
      "Touching piece endpoints = [[764206.9 960501.9 878885.6]\n",
      " [783196.  966982.  880927. ]]\n",
      "inside inner loop len(curr_limb_divided_skeletons) = 48\n",
      "closest_endpoint = [764206.9 960501.9 878885.6]\n",
      "Starting_edge inside branches_to_conept = [[764206.9 960501.9 878885.6]\n",
      " [783196.  966982.  880927. ]]\n",
      "At the start, starting_node (in terms of the skeleton, that shouldn't match the starting edge) = [14]\n",
      "printing out current edge:\n",
      "[[764206.9 960501.9 878885.6]\n",
      " [783196.  966982.  880927. ]]\n",
      "edge_endpoints_to_process was empty so exiting loop after 48 iterations\n",
      "starting_node in concept map (that should match the starting edge) = 13\n",
      "Total time for branches to concept conversion = 0.23901081085205078\n",
      "\n",
      "recovered_touching_piece = [13]\n",
      "After concept mapping size = 48\n",
      "--- Working on soma_idx: 1----\n",
      "Total time for filtering periphery meshes = 0.16694855690002441\n",
      "Total time for mesh mapping: 0.6483407020568848\n",
      "Total time for mesh mapping: 0.1861269474029541\n",
      "touching_pieces = [39]\n",
      "Total time for mesh connectivity = 0.8459911346435547\n",
      "Touching piece endpoints = [[847079.  998838.  862230. ]\n",
      " [857682.1 996319.6 861193.1]]\n",
      "inside inner loop len(curr_limb_divided_skeletons) = 48\n",
      "closest_endpoint = [857682.1 996319.6 861193.1]\n",
      "Starting_edge inside branches_to_conept = [[847079.  998838.  862230. ]\n",
      " [857682.1 996319.6 861193.1]]\n",
      "At the start, starting_node (in terms of the skeleton, that shouldn't match the starting edge) = [43]\n",
      "printing out current edge:\n",
      "[[857682.1 996319.6 861193.1]\n",
      " [847079.  998838.  862230. ]]\n",
      "edge_endpoints_to_process was empty so exiting loop after 48 iterations\n",
      "starting_node in concept map (that should match the starting edge) = 39\n",
      "Total time for branches to concept conversion = 0.23542141914367676\n",
      "\n",
      "recovered_touching_piece = [39]\n",
      "After concept mapping size = 48\n",
      "Local time for concept mapping = 2.3962507247924805\n",
      "\n",
      "\n",
      "------Working on limb 2 -------\n",
      "inside loop len(curr_limb_divided_meshes) = 54 len(curr_limb_divided_skeletons) = 54\n",
      "--- Working on soma_idx: 0----\n",
      "Total time for filtering periphery meshes = 0.2856717109680176\n",
      "Total time for mesh mapping: 0.35942578315734863\n",
      "touching_pieces = [0]\n",
      "Total time for mesh connectivity = 0.3760190010070801\n",
      "Touching piece endpoints = [[757928.4 962502.2 866083.1]\n",
      " [779060.  968643.  847768. ]]\n",
      "inside inner loop len(curr_limb_divided_skeletons) = 54\n",
      "closest_endpoint = [757928.4 962502.2 866083.1]\n",
      "Starting_edge inside branches_to_conept = [[757928.4 962502.2 866083.1]\n",
      " [779060.  968643.  847768. ]]\n",
      "There were 1 duplication nodes found\n",
      "domination_map = {44: 43}\n",
      "At the start, starting_node (in terms of the skeleton, that shouldn't match the starting edge) = [0]\n",
      "printing out current edge:\n",
      "[[757928.4 962502.2 866083.1]\n",
      " [779060.  968643.  847768. ]]\n",
      "edge_endpoints_to_process was empty so exiting loop after 54 iterations\n",
      "starting_node in concept map (that should match the starting edge) = 0\n",
      "Total time for branches to concept conversion = 0.18631839752197266\n",
      "\n",
      "Working on adding back the edges that were duplicates\n",
      "recovered_touching_piece = [0]\n",
      "After concept mapping size = 54\n",
      "Local time for concept mapping = 0.9453258514404297\n",
      "\n",
      "\n",
      "------Working on limb 3 -------\n",
      "inside loop len(curr_limb_divided_meshes) = 33 len(curr_limb_divided_skeletons) = 33\n",
      "--- Working on soma_idx: 0----\n",
      "Total time for filtering periphery meshes = 0.22808408737182617\n",
      "Total time for mesh mapping: 0.21027660369873047\n",
      "touching_pieces = [2]\n",
      "Total time for mesh connectivity = 0.22671723365783691\n",
      "Touching piece endpoints = [[693123.4 968904.4 878020. ]\n",
      " [747589.  963145.  883621. ]]\n",
      "inside inner loop len(curr_limb_divided_skeletons) = 33\n",
      "closest_endpoint = [747589. 963145. 883621.]\n",
      "Starting_edge inside branches_to_conept = [[693123.4 968904.4 878020. ]\n",
      " [747589.  963145.  883621. ]]\n",
      "At the start, starting_node (in terms of the skeleton, that shouldn't match the starting edge) = [21]\n",
      "printing out current edge:\n",
      "[[747589.  963145.  883621. ]\n",
      " [693123.4 968904.4 878020. ]]\n",
      "edge_endpoints_to_process was empty so exiting loop after 33 iterations\n",
      "starting_node in concept map (that should match the starting edge) = 2\n",
      "Total time for branches to concept conversion = 0.15367722511291504\n",
      "\n",
      "recovered_touching_piece = [2]\n",
      "After concept mapping size = 33\n",
      "Local time for concept mapping = 0.6932277679443359\n",
      "\n",
      "\n",
      "------Working on limb 4 -------\n",
      "inside loop len(curr_limb_divided_meshes) = 34 len(curr_limb_divided_skeletons) = 34\n",
      "--- Working on soma_idx: 1----\n",
      "Total time for filtering periphery meshes = 0.1010279655456543\n",
      "Total time for mesh mapping: 0.22367429733276367\n",
      "touching_pieces = [5]\n",
      "Total time for mesh connectivity = 0.2325582504272461\n",
      "Touching piece endpoints = [[ 861457.  1002480.   879701. ]\n",
      " [ 863506.4  997662.8  866843.4]]\n",
      "inside inner loop len(curr_limb_divided_skeletons) = 34\n",
      "closest_endpoint = [863506.4 997662.8 866843.4]\n",
      "Starting_edge inside branches_to_conept = [[ 861457.  1002480.   879701. ]\n",
      " [ 863506.4  997662.8  866843.4]]\n",
      "At the start, starting_node (in terms of the skeleton, that shouldn't match the starting edge) = [7]\n",
      "printing out current edge:\n",
      "[[ 863506.4  997662.8  866843.4]\n",
      " [ 861457.  1002480.   879701. ]]\n",
      "edge_endpoints_to_process was empty so exiting loop after 34 iterations\n",
      "starting_node in concept map (that should match the starting edge) = 5\n",
      "Total time for branches to concept conversion = 0.17012333869934082\n",
      "\n",
      "recovered_touching_piece = [5]\n",
      "After concept mapping size = 34\n",
      "Local time for concept mapping = 0.5952467918395996\n",
      "\n",
      "\n",
      "------Working on limb 5 -------\n",
      "inside loop len(curr_limb_divided_meshes) = 15 len(curr_limb_divided_skeletons) = 15\n",
      "--- Working on soma_idx: 0----\n",
      "Total time for filtering periphery meshes = 0.07217025756835938\n",
      "Total time for mesh mapping: 0.28595447540283203\n",
      "touching_pieces = [11]\n",
      "Total time for mesh connectivity = 0.29697394371032715\n",
      "Touching piece endpoints = [[746614.  968785.  862756. ]\n",
      " [750819.6 962859.9 869731.4]]\n",
      "inside inner loop len(curr_limb_divided_skeletons) = 15\n",
      "closest_endpoint = [750819.6 962859.9 869731.4]\n",
      "Starting_edge inside branches_to_conept = [[746614.  968785.  862756. ]\n",
      " [750819.6 962859.9 869731.4]]\n",
      "At the start, starting_node (in terms of the skeleton, that shouldn't match the starting edge) = [12]\n",
      "printing out current edge:\n",
      "[[750819.6 962859.9 869731.4]\n",
      " [746614.  968785.  862756. ]]\n",
      "edge_endpoints_to_process was empty so exiting loop after 15 iterations\n",
      "starting_node in concept map (that should match the starting edge) = 11\n",
      "Total time for branches to concept conversion = 0.08753180503845215\n",
      "\n",
      "recovered_touching_piece = [11]\n",
      "After concept mapping size = 15\n",
      "Local time for concept mapping = 0.5044598579406738\n",
      "\n",
      "\n",
      "------Working on limb 6 -------\n",
      "inside loop len(curr_limb_divided_meshes) = 17 len(curr_limb_divided_skeletons) = 17\n",
      "--- Working on soma_idx: 1----\n"
     ]
    },
    {
     "name": "stdout",
     "output_type": "stream",
     "text": [
      "Total time for filtering periphery meshes = 0.07077240943908691\n",
      "Total time for mesh mapping: 0.13575363159179688\n",
      "touching_pieces = [13]\n",
      "Total time for mesh connectivity = 0.1434769630432129\n",
      "Touching piece endpoints = [[865489.  982628.  861942. ]\n",
      " [865721.6 988630.6 860869.1]]\n",
      "inside inner loop len(curr_limb_divided_skeletons) = 17\n",
      "closest_endpoint = [865721.6 988630.6 860869.1]\n",
      "Starting_edge inside branches_to_conept = [[865489.  982628.  861942. ]\n",
      " [865721.6 988630.6 860869.1]]\n",
      "At the start, starting_node (in terms of the skeleton, that shouldn't match the starting edge) = [13]\n",
      "printing out current edge:\n",
      "[[865721.6 988630.6 860869.1]\n",
      " [865489.  982628.  861942. ]]\n",
      "edge_endpoints_to_process was empty so exiting loop after 17 iterations\n",
      "starting_node in concept map (that should match the starting edge) = 13\n",
      "Total time for branches to concept conversion = 0.08301758766174316\n",
      "\n",
      "recovered_touching_piece = [13]\n",
      "After concept mapping size = 17\n",
      "Local time for concept mapping = 0.34273648262023926\n",
      "\n",
      "\n",
      "------Working on limb 7 -------\n",
      "inside loop len(curr_limb_divided_meshes) = 22 len(curr_limb_divided_skeletons) = 22\n",
      "--- Working on soma_idx: 1----\n",
      "Total time for filtering periphery meshes = 0.07073402404785156\n",
      "Total time for mesh mapping: 0.21593523025512695\n",
      "touching_pieces = [1]\n",
      "Total time for mesh connectivity = 0.2239840030670166\n",
      "Touching piece endpoints = [[866766.5 993457.3 851380.2]\n",
      " [876892.  993069.  841625. ]]\n",
      "inside inner loop len(curr_limb_divided_skeletons) = 22\n",
      "closest_endpoint = [866766.5 993457.3 851380.2]\n",
      "Starting_edge inside branches_to_conept = [[866766.5 993457.3 851380.2]\n",
      " [876892.  993069.  841625. ]]\n",
      "There were 1 duplication nodes found\n",
      "domination_map = {16: 15}\n",
      "At the start, starting_node (in terms of the skeleton, that shouldn't match the starting edge) = [1]\n",
      "printing out current edge:\n",
      "[[866766.5 993457.3 851380.2]\n",
      " [876892.  993069.  841625. ]]\n",
      "edge_endpoints_to_process was empty so exiting loop after 21 iterations\n",
      "starting_node in concept map (that should match the starting edge) = 1\n",
      "Total time for branches to concept conversion = 0.08433866500854492\n",
      "\n",
      "Working on adding back the edges that were duplicates\n",
      "recovered_touching_piece = [1]\n",
      "After concept mapping size = 22\n",
      "Local time for concept mapping = 0.4256138801574707\n",
      "\n",
      "\n",
      "------Working on limb 8 -------\n",
      "inside loop len(curr_limb_divided_meshes) = 11 len(curr_limb_divided_skeletons) = 11\n",
      "--- Working on soma_idx: 1----\n",
      "Total time for filtering periphery meshes = 0.04094505310058594\n",
      "Total time for mesh mapping: 0.23422718048095703\n",
      "touching_pieces = [9]\n",
      "Total time for mesh connectivity = 0.24348187446594238\n",
      "Touching piece endpoints = [[850566. 997835. 835098.]\n",
      " [863104. 995440. 851720.]]\n",
      "inside inner loop len(curr_limb_divided_skeletons) = 11\n",
      "closest_endpoint = [863104. 995440. 851720.]\n",
      "Starting_edge inside branches_to_conept = [[850566. 997835. 835098.]\n",
      " [863104. 995440. 851720.]]\n",
      "At the start, starting_node (in terms of the skeleton, that shouldn't match the starting edge) = [11]\n",
      "printing out current edge:\n",
      "[[863104. 995440. 851720.]\n",
      " [850566. 997835. 835098.]]\n",
      "edge_endpoints_to_process was empty so exiting loop after 11 iterations\n",
      "starting_node in concept map (that should match the starting edge) = 9\n",
      "Total time for branches to concept conversion = 0.05266880989074707\n",
      "\n",
      "recovered_touching_piece = [9]\n",
      "After concept mapping size = 11\n",
      "Local time for concept mapping = 0.36736583709716797\n",
      "\n",
      "\n",
      "------Working on limb 9 -------\n",
      "inside loop len(curr_limb_divided_meshes) = 5 len(curr_limb_divided_skeletons) = 5\n",
      "--- Working on soma_idx: 1----\n",
      "Total time for filtering periphery meshes = 0.027332782745361328\n",
      "Total time for mesh mapping: 0.2137470245361328\n",
      "touching_pieces = [1]\n",
      "Total time for mesh connectivity = 0.2221829891204834\n",
      "Touching piece endpoints = [[ 866520.3  999704.3  866307.9]\n",
      " [ 873722.  1032690.   874135. ]]\n",
      "inside inner loop len(curr_limb_divided_skeletons) = 5\n",
      "closest_endpoint = [866520.3 999704.3 866307.9]\n",
      "Starting_edge inside branches_to_conept = [[ 866520.3  999704.3  866307.9]\n",
      " [ 873722.  1032690.   874135. ]]\n",
      "At the start, starting_node (in terms of the skeleton, that shouldn't match the starting edge) = [1]\n",
      "printing out current edge:\n",
      "[[ 866520.3  999704.3  866307.9]\n",
      " [ 873722.  1032690.   874135. ]]\n",
      "edge_endpoints_to_process was empty so exiting loop after 5 iterations\n",
      "starting_node in concept map (that should match the starting edge) = 1\n",
      "Total time for branches to concept conversion = 0.020782470703125\n",
      "\n",
      "recovered_touching_piece = [1]\n",
      "After concept mapping size = 5\n",
      "Local time for concept mapping = 0.2852809429168701\n",
      "\n",
      "\n",
      "------Working on limb 10 -------\n",
      "inside loop len(curr_limb_divided_meshes) = 1 len(curr_limb_divided_skeletons) = 1\n",
      "--- Working on soma_idx: 0----\n",
      "Total time for filtering periphery meshes = 0.007037162780761719\n",
      "Total time for mesh mapping: 0.25725221633911133\n",
      "touching_pieces = [0]\n",
      "Total time for mesh connectivity = 0.2689352035522461\n",
      "Touching piece endpoints = [[761533.6 964579.8 878393.6]\n",
      " [763481.4 973652.9 881980. ]]\n",
      "inside inner loop len(curr_limb_divided_skeletons) = 1\n",
      "closest_endpoint = [761533.6 964579.8 878393.6]\n",
      "Starting_edge inside branches_to_conept = [[761533.6 964579.8 878393.6]\n",
      " [763481.4 973652.9 881980. ]]\n",
      "recovered_touching_piece = [0]\n",
      "After concept mapping size = 1\n",
      "Local time for concept mapping = 0.28230714797973633\n",
      "Total time for concept mapping = 8.55096435546875\n",
      "Sizes of dictionaries sent\n",
      "(73, 73)\n",
      "(48, 48)\n",
      "(54, 54)\n",
      "(33, 33)\n",
      "(34, 34)\n",
      "(15, 15)\n",
      "(17, 17)\n",
      "(22, 22)\n",
      "(11, 11)\n",
      "(5, 5)\n",
      "(1, 1)\n",
      "\n",
      "\n",
      " Sizes of concept maps gotten back\n",
      "73\n",
      "48\n",
      "48\n",
      "54\n",
      "33\n",
      "34\n",
      "15\n",
      "17\n",
      "22\n",
      "11\n",
      "5\n",
      "1\n"
     ]
    }
   ],
   "source": [
    "import neuron\n",
    "neuron = reload(neuron)\n",
    "nu = reload(nu)\n",
    "tu = reload(tu)\n",
    "sk = reload(sk)\n",
    "xu = reload(xu)\n",
    "\n",
    "#getting mesh and skeleton dictionaries\n",
    "limb_idx_to_branch_meshes_dict = dict()\n",
    "limb_idx_to_branch_skeletons_dict = dict()\n",
    "for k in limb_correspondence.keys():\n",
    "    limb_idx_to_branch_meshes_dict[k] = [limb_correspondence[k][j][\"branch_mesh\"] for j in limb_correspondence[k].keys()]\n",
    "    limb_idx_to_branch_skeletons_dict[k] = [limb_correspondence[k][j][\"branch_skeleton\"] for j in limb_correspondence[k].keys()]      \n",
    "\n",
    "#getting the soma dictionaries\n",
    "soma_idx_to_mesh_dict = dict()\n",
    "for k,v in enumerate(current_mesh_data[0][\"soma_meshes\"]):\n",
    "    soma_idx_to_mesh_dict[k] = v\n",
    "\n",
    "soma_idx_connectivity = current_mesh_data[0][\"soma_to_piece_connectivity\"]\n",
    "\n",
    "\n",
    "\n",
    "\n",
    "limb_concept_networks,limb_labels = neuron.generate_limb_concept_networks_from_global_connectivity(\n",
    "    limb_idx_to_branch_meshes_dict = limb_idx_to_branch_meshes_dict,\n",
    "    limb_idx_to_branch_skeletons_dict = limb_idx_to_branch_skeletons_dict,\n",
    "    soma_idx_to_mesh_dict = soma_idx_to_mesh_dict,\n",
    "    soma_idx_connectivity = soma_idx_connectivity,\n",
    "    current_neuron=current_neuron,\n",
    "    return_limb_labels=True\n",
    "    )\n",
    "\n",
    "#Before go and get concept maps:\n",
    "print(\"Sizes of dictionaries sent\")\n",
    "for curr_limb in limb_idx_to_branch_skeletons_dict.keys():\n",
    "    print((len(limb_idx_to_branch_skeletons_dict[curr_limb]),len(limb_idx_to_branch_meshes_dict[curr_limb])))\n",
    "    \n",
    "    \n",
    "print(\"\\n\\n Sizes of concept maps gotten back\")\n",
    "for curr_idx in limb_concept_networks.keys():\n",
    "    for soma_idx,concept_graph in limb_concept_networks[curr_idx].items():\n",
    "        print(len(np.unique(list(concept_graph.nodes()))))"
   ]
  },
  {
   "cell_type": "markdown",
   "metadata": {},
   "source": [
    "# the final data that will be ported over to the Neuron class"
   ]
  },
  {
   "cell_type": "code",
   "execution_count": 107,
   "metadata": {},
   "outputs": [
    {
     "name": "stdout",
     "output_type": "stream",
     "text": [
      "# of non soma touching seperate meshes = 44\n",
      "# of inside pieces = 34\n"
     ]
    },
    {
     "data": {
      "text/plain": [
       "'\\nConcept networks for limbs and labels of all limbs\\n'"
      ]
     },
     "execution_count": 107,
     "metadata": {},
     "output_type": "execute_result"
    }
   ],
   "source": [
    "\n",
    "current_neuron\n",
    "\"\"\"\n",
    "whole neuron to be used for other processing\n",
    "\"\"\"\n",
    "\n",
    "# The 0 at the front is to say it is the first seperated mesh containing somas (could be multiple)\n",
    "current_mesh_data[0].keys()\n",
    "\"\"\"\n",
    "soma_meshes\n",
    "soma_to_piece_connectivity\n",
    "\"\"\"\n",
    "\"\"\"\n",
    "limb_correspondence[0][0].keys() --> the exact limb and the exact branch\n",
    "\n",
    "AKA [limb_idx][branch_idx]\n",
    "\n",
    "\"\"\"\n",
    "total_soma_list_sdf #holds the soma sdf values\n",
    "\n",
    "\n",
    "limb_correspondence[0][0][\"branch_skeleton\"]\n",
    "limb_correspondence[0][0][\"width_from_skeleton\"]\n",
    "limb_correspondence[0][0][\"branch_mesh\"]\n",
    "limb_correspondence[0][0][\"branch_face_idx\"]\n",
    "\n",
    "\n",
    "\n",
    "limb_concept_networks\n",
    "limb_labels\n",
    "\n",
    "limb_meshes = current_mesh_data[0][\"branch_meshes\"]\n",
    "\n",
    "#things that weren't used in classification but still would have knowledge of:\n",
    "insignificant_limbs # the limbs that were filtered away after did soma subtraction because not big enough\n",
    "print(f\"# of non soma touching seperate meshes = {len(non_soma_touching_meshes)}\")# meshes that were seperate from soma mesh\n",
    "print(f\"# of inside pieces = {len(inside_pieces)}\") #inside of the soma meshes\n",
    "\"\"\"\n",
    "Concept networks for limbs and labels of all limbs\n",
    "\"\"\"\n"
   ]
  },
  {
   "cell_type": "code",
   "execution_count": 118,
   "metadata": {},
   "outputs": [
    {
     "name": "stdout",
     "output_type": "stream",
     "text": [
      "Already have preprocessed data\n",
      "--- 1) Finished unpacking preprocessed materials: 0.0002675056457519531\n",
      "total_edges = [['S0', 'L0'], ['S0', 'L1'], ['S0', 'L2'], ['S0', 'L3'], ['S0', 'L5'], ['S0', 'L10'], ['S1', 'L1'], ['S1', 'L4'], ['S1', 'L6'], ['S1', 'L7'], ['S1', 'L8'], ['S1', 'L9']]\n",
      "--- 2) Finished creating neuron connectivity graph: 0.00017762184143066406\n",
      "Having to generate soma_meshes_face_idx because none in preprocessed data\n",
      "--- 3a) Finshed generating soma_meshes_face_idx: 1.0948677062988281\n",
      "Using Poisson Surface Reconstruction to make mesh watertight\n",
      "IN INPUT FILE VALIDATION LOOP\n",
      "LEAVING LOOP, MESH VALIDATED\n",
      "Using port = 4214\n",
      "xvfb-run -n 4214 -s \"-screen 0 800x600x24\" meshlabserver $@  -i /notebooks/neuron_mesh_tools/meshAfterParty/development/Poisson_temp/neuron_792902.off -o /notebooks/neuron_mesh_tools/meshAfterParty/development/Poisson_temp/neuron_792902_poisson.off -s /notebooks/neuron_mesh_tools/meshAfterParty/development/Poisson_temp/poisson_8664.mls\n"
     ]
    },
    {
     "name": "stderr",
     "output_type": "stream",
     "text": [
      "face_normals all zero, ignoring!\n",
      "face_normals all zero, ignoring!\n",
      "face_normals all zero, ignoring!\n",
      "face_normals all zero, ignoring!\n",
      "face_normals all zero, ignoring!\n",
      "face_normals all zero, ignoring!\n",
      "face_normals all zero, ignoring!\n",
      "face_normals all zero, ignoring!\n",
      "face_normals all zero, ignoring!\n",
      "face_normals all zero, ignoring!\n",
      "face_normals all zero, ignoring!\n",
      "face_normals all zero, ignoring!\n",
      "face_normals all zero, ignoring!\n",
      "face_normals all zero, ignoring!\n",
      "face_normals all zero, ignoring!\n",
      "face_normals all zero, ignoring!\n",
      "face_normals all zero, ignoring!\n"
     ]
    },
    {
     "name": "stdout",
     "output_type": "stream",
     "text": [
      "removed temporary input file: /notebooks/neuron_mesh_tools/meshAfterParty/development/Poisson_temp/neuron_792902.off\n",
      "removed temporary output file: /notebooks/neuron_mesh_tools/meshAfterParty/development/Poisson_temp/neuron_792902_poisson.off\n",
      "/notebooks/neuron_mesh_tools/meshAfterParty/development/Poisson_temp/poisson_8664.mls is being deleted....\n",
      "Using Poisson Surface Reconstruction to make mesh watertight\n",
      "IN INPUT FILE VALIDATION LOOP\n",
      "LEAVING LOOP, MESH VALIDATED\n",
      "Using port = 3729\n",
      "xvfb-run -n 3729 -s \"-screen 0 800x600x24\" meshlabserver $@  -i /notebooks/neuron_mesh_tools/meshAfterParty/development/Poisson_temp/neuron_465369.off -o /notebooks/neuron_mesh_tools/meshAfterParty/development/Poisson_temp/neuron_465369_poisson.off -s /notebooks/neuron_mesh_tools/meshAfterParty/development/Poisson_temp/poisson_440568.mls\n"
     ]
    },
    {
     "name": "stderr",
     "output_type": "stream",
     "text": [
      "face_normals all zero, ignoring!\n",
      "face_normals all zero, ignoring!\n",
      "face_normals all zero, ignoring!\n",
      "face_normals all zero, ignoring!\n",
      "face_normals all zero, ignoring!\n",
      "face_normals all zero, ignoring!\n",
      "face_normals all zero, ignoring!\n",
      "face_normals all zero, ignoring!\n",
      "face_normals all zero, ignoring!\n",
      "face_normals all zero, ignoring!\n",
      "face_normals all zero, ignoring!\n",
      "face_normals all zero, ignoring!\n",
      "face_normals all zero, ignoring!\n",
      "face_normals all zero, ignoring!\n"
     ]
    },
    {
     "name": "stdout",
     "output_type": "stream",
     "text": [
      "removed temporary input file: /notebooks/neuron_mesh_tools/meshAfterParty/development/Poisson_temp/neuron_465369.off\n",
      "removed temporary output file: /notebooks/neuron_mesh_tools/meshAfterParty/development/Poisson_temp/neuron_465369_poisson.off\n",
      "/notebooks/neuron_mesh_tools/meshAfterParty/development/Poisson_temp/poisson_440568.mls is being deleted....\n",
      "--- 3) Finshed generating soma objects and adding them to concept graph: 17.94145393371582\n",
      "--- 4a) Finshed generating curr_limb_meshes_face_idx: 3.7778711318969727\n",
      "--- 3) Finshed generating Limb objects and adding them to concept graph: 0.699528694152832\n",
      "Total time for Neuron object creation = 23.5148868560791\n"
     ]
    }
   ],
   "source": [
    "#Preparing the data structure to save or use for Neuron class construction\n",
    "neuron=reload(neuron)\n",
    "xu = reload(xu)\n",
    "tu = reload(tu)\n",
    "\n",
    "preprocessed_data = dict(\n",
    "                        soma_meshes = current_mesh_data[0][\"soma_meshes\"],\n",
    "                        soma_to_piece_connectivity = current_mesh_data[0][\"soma_to_piece_connectivity\"],\n",
    "                        soma_sdfs = total_soma_list_sdf,\n",
    "                        insignificant_limbs=insignificant_limbs,\n",
    "                        non_soma_touching_meshes=non_soma_touching_meshes,\n",
    "                        inside_pieces=inside_pieces,\n",
    "                        limb_correspondence=limb_correspondence,\n",
    "                        limb_concept_networks=limb_concept_networks,\n",
    "                        limb_labels=limb_labels,\n",
    "                        limb_meshes=current_mesh_data[0][\"branch_meshes\"],\n",
    "                        )\n",
    "\n",
    "neuron_object_time = time.time()\n",
    "\n",
    "Neuron_obj = neuron.Neuron(mesh=current_neuron,preprocessed_data=preprocessed_data)\n",
    "\n",
    "print(f\"Total time for Neuron object creation = {time.time() - neuron_object_time}\")"
   ]
  },
  {
   "cell_type": "code",
   "execution_count": 36,
   "metadata": {},
   "outputs": [],
   "source": [
    "# Saving the final data to be packaged up into Neuron package: \n",
    "neuron_package_ready_data = dict()\n",
    "saved_file = f\"./soma_mesh_data/soma_touching_mesh_data_{segment_id}_full_run_through.npz\"\n",
    "np.savez(saved_file,soma_touching_mesh_data=soma_touching_mesh_data,current_neuron=current_neuron,limb_correspondence=limb_correspondence,\n",
    "        limb_concept_networks=limb_concept_networks,limb_labels=limb_labels,insignificant_limbs=insignificant_limbs,\n",
    "         non_soma_touching_meshes=non_soma_touching_meshes,inside_pieces=inside_pieces)"
   ]
  },
  {
   "cell_type": "markdown",
   "metadata": {},
   "source": [
    "# Plotting for visualizataions (used for platinum update report)"
   ]
  },
  {
   "cell_type": "code",
   "execution_count": 37,
   "metadata": {},
   "outputs": [],
   "source": [
    "curr_limb_idx = 2"
   ]
  },
  {
   "cell_type": "code",
   "execution_count": 38,
   "metadata": {},
   "outputs": [
    {
     "data": {
      "application/vnd.jupyter.widget-view+json": {
       "model_id": "c623dea1cd5d46ff9b6c9f9801fbbd10",
       "version_major": 2,
       "version_minor": 0
      },
      "text/plain": [
       "VBox(children=(Figure(camera=PerspectiveCamera(fov=46.0, position=(0.0, 0.0, 2.0), quaternion=(0.0, 0.0, 0.0, …"
      ]
     },
     "metadata": {},
     "output_type": "display_data"
    }
   ],
   "source": [
    "#plotting the mesh\n",
    "sk = reload(sk)\n",
    "mu = reload(mu)\n",
    "random_colors_used = sk.graph_skeleton_and_mesh(\n",
    "    other_meshes=[v[\"branch_mesh\"] for k,v in limb_correspondence[curr_limb_idx].items() ],\n",
    "                          other_meshes_colors=\"random\",\n",
    "                          other_skeletons=[v[\"branch_skeleton\"] for k,v in limb_correspondence[curr_limb_idx].items() ],\n",
    "                          other_skeletons_colors=\"random\",\n",
    "                            mesh_alpha=0.8,\n",
    "                          return_other_colors=True)\n",
    "random_colors_used_no_alpha = random_colors_used[:,:-1]"
   ]
  },
  {
   "cell_type": "code",
   "execution_count": 39,
   "metadata": {},
   "outputs": [
    {
     "data": {
      "application/vnd.jupyter.widget-view+json": {
       "model_id": "7ddaebd5745f4da7a5296faa2f3b58cf",
       "version_major": 2,
       "version_minor": 0
      },
      "text/plain": [
       "VBox(children=(Figure(camera=PerspectiveCamera(fov=46.0, position=(0.0, 0.0, 2.0), quaternion=(0.0, 0.0, 0.0, …"
      ]
     },
     "metadata": {},
     "output_type": "display_data"
    }
   ],
   "source": [
    "#plotting the skeleton\n",
    "sk = reload(sk)\n",
    "mu = reload(mu)\n",
    "sk.graph_skeleton_and_mesh(#other_meshes=total_branch_meshes[:node_to_check_to],\n",
    "                          #other_meshes_colors=\"random\",\n",
    "                          other_skeletons=[v[\"branch_skeleton\"] for k,v in limb_correspondence[curr_limb_idx].items() ],\n",
    "                          other_skeletons_colors=\"random\",\n",
    "                            mesh_alpha=0.05)\n"
   ]
  },
  {
   "cell_type": "code",
   "execution_count": 40,
   "metadata": {},
   "outputs": [
    {
     "data": {
      "text/plain": [
       "'Normal'"
      ]
     },
     "execution_count": 40,
     "metadata": {},
     "output_type": "execute_result"
    }
   ],
   "source": [
    "# get the label:\n",
    "limb_labels[curr_limb_idx]"
   ]
  },
  {
   "cell_type": "code",
   "execution_count": 41,
   "metadata": {},
   "outputs": [
    {
     "name": "stdout",
     "output_type": "stream",
     "text": [
      "(54, 54)\n"
     ]
    }
   ],
   "source": [
    "for soma_idx,concept_graph in limb_concept_networks[curr_limb_idx].items():\n",
    "    print((len(np.unique(list(concept_graph.nodes()))),len([v[\"branch_mesh\"] for k,v in limb_correspondence[curr_limb_idx].items() ])))"
   ]
  },
  {
   "cell_type": "code",
   "execution_count": 42,
   "metadata": {},
   "outputs": [
    {
     "name": "stdout",
     "output_type": "stream",
     "text": [
      "Starting from soma index 0 with starting_coordinate and mesh: [[757928.4 962502.2 866083.1]]\n"
     ]
    },
    {
     "data": {
      "image/png": "[encoded data removed]",
      "text/plain": [
       "<Figure size 432x288 with 1 Axes>"
      ]
     },
     "metadata": {},
     "output_type": "display_data"
    },
    {
     "name": "stdout",
     "output_type": "stream",
     "text": [
      "\n",
      "\n",
      "\n"
     ]
    }
   ],
   "source": [
    "import matplotlib.pyplot as plt\n",
    "%matplotlib inline\n",
    "for soma_idx,concept_graph in limb_concept_networks[curr_limb_idx].items():\n",
    "    print(f\"Starting from soma index {soma_idx} with starting_coordinate and mesh: \"\n",
    "          f\"{xu.get_node_attributes(concept_graph,attribute_name='starting_coordinate')}\")\n",
    "    # plotting the concept network with the same colors\n",
    "    nx.draw(concept_graph,node_color=random_colors_used_no_alpha) \n",
    "    plt.show()\n",
    "    print(\"\\n\\n\")"
   ]
  },
  {
   "cell_type": "code",
   "execution_count": 43,
   "metadata": {},
   "outputs": [
    {
     "data": {
      "application/vnd.jupyter.widget-view+json": {
       "model_id": "22aeeb71259044eb83cc06f092542ae3",
       "version_major": 2,
       "version_minor": 0
      },
      "text/plain": [
       "VBox(children=(Figure(camera=PerspectiveCamera(fov=46.0, position=(0.0, 0.0, 2.0), quaternion=(0.0, 0.0, 0.0, …"
      ]
     },
     "metadata": {},
     "output_type": "display_data"
    }
   ],
   "source": [
    "# Try plotting the points in 3D: random_colors_used = sk.graph_skeleton_and_mesh(other_meshes=total_branch_meshes[:node_to_check_to],\n",
    "mesh_midpoints =  [np.array([np.mean(k.vertices,axis=0)]) for k in [v[\"branch_mesh\"] for k,v in limb_correspondence[curr_limb_idx].items() ]]\n",
    "for soma_idx,concept_graph in limb_concept_networks[curr_limb_idx].items():\n",
    "    graph_nodes_skeleton = np.array(mesh_midpoints)[concept_graph.edges_ordered()].reshape(-1,2,3)\n",
    "    [k for k in graph_nodes_skeleton]\n",
    "    random_colors_used[:,-1] = 1\n",
    "\n",
    "\n",
    "    sk.graph_skeleton_and_mesh(other_scatter=mesh_midpoints,\n",
    "                              other_scatter_colors=random_colors_used,\n",
    "                              other_skeletons=graph_nodes_skeleton,\n",
    "                              other_skeletons_colors=\"black\",\n",
    "                                                   scatter_size=3)\n",
    "\n"
   ]
  },
  {
   "cell_type": "code",
   "execution_count": 44,
   "metadata": {},
   "outputs": [
    {
     "data": {
      "application/vnd.jupyter.widget-view+json": {
       "model_id": "b14391970b0548a58720a78ab8f7deea",
       "version_major": 2,
       "version_minor": 0
      },
      "text/plain": [
       "VBox(children=(Figure(camera=PerspectiveCamera(fov=46.0, position=(0.0, 0.0, 2.0), quaternion=(0.0, 0.0, 0.0, …"
      ]
     },
     "metadata": {},
     "output_type": "display_data"
    }
   ],
   "source": [
    "# Try plotting the points in 3D: random_colors_used = sk.graph_skeleton_and_mesh(other_meshes=total_branch_meshes[:node_to_check_to],\n",
    "mesh_midpoints =  [np.array([np.mean(k.vertices,axis=0)]) for k in [v[\"branch_mesh\"] for k,v in limb_correspondence[curr_limb_idx].items() ]]\n",
    "for soma_idx,concept_graph in limb_concept_networks[curr_limb_idx].items():\n",
    "    graph_nodes_skeleton = np.array(mesh_midpoints)[concept_graph.edges_ordered()].reshape(-1,2,3)\n",
    "    [k for k in graph_nodes_skeleton]\n",
    "    random_colors_used[:,-1] = 1\n",
    "\n",
    "\n",
    "    sk.graph_skeleton_and_mesh(\n",
    "        other_meshes=[v[\"branch_mesh\"] for k,v in limb_correspondence[curr_limb_idx].items() ],\n",
    "                          other_meshes_colors=\"random\",other_scatter=mesh_midpoints,\n",
    "                              other_scatter_colors=random_colors_used,\n",
    "                              other_skeletons=graph_nodes_skeleton,\n",
    "                              other_skeletons_colors=\"black\",\n",
    "                                                   scatter_size=1)"
   ]
  },
  {
   "cell_type": "markdown",
   "metadata": {},
   "source": [
    "# Will look at everything with soma"
   ]
  },
  {
   "cell_type": "code",
   "execution_count": 45,
   "metadata": {},
   "outputs": [],
   "source": [
    "#list(itertools.chain([[1,4,5],[4,5,6]]))"
   ]
  },
  {
   "cell_type": "code",
   "execution_count": 46,
   "metadata": {
    "scrolled": true
   },
   "outputs": [
    {
     "data": {
      "application/vnd.jupyter.widget-view+json": {
       "model_id": "f87af01d36b647559b8ebe9c65c33798",
       "version_major": 2,
       "version_minor": 0
      },
      "text/plain": [
       "VBox(children=(Figure(camera=PerspectiveCamera(fov=46.0, position=(0.0, 0.0, 2.0), quaternion=(0.0, 0.0, 0.0, …"
      ]
     },
     "metadata": {},
     "output_type": "display_data"
    }
   ],
   "source": [
    "all_branch_meshes = list(itertools.chain.from_iterable([[v[\"branch_mesh\"] for k,v in limb_correspondence[curr_limb_idx].items()] for curr_limb_idx in limb_correspondence.keys() ]))\n",
    "#plotting the mesh\n",
    "soma_meshes_comb = tu.combine_meshes(current_mesh_data[0][\"soma_meshes\"])\n",
    "random_colors_used = sk.graph_skeleton_and_mesh(\n",
    "    main_mesh_verts=soma_meshes_comb.vertices,\n",
    "    main_mesh_faces=soma_meshes_comb.faces,\n",
    "    main_mesh_color=\"red\",\n",
    "    other_meshes=all_branch_meshes,\n",
    "    other_meshes_colors=\"random\",\n",
    "    other_skeletons=list(itertools.chain.from_iterable([[v[\"branch_skeleton\"] for k,v in limb_correspondence[curr_limb_idx].items()] for curr_limb_idx in limb_correspondence.keys() ])),\n",
    "    other_skeletons_colors=\"random\",\n",
    "    mesh_alpha=0.2,\n",
    "    return_other_colors=True,\n",
    "    html_path=f\"./visualizations/{segment_id}_{description}_mesh_skeleton_branches.html\")\n",
    "random_colors_used_no_alpha = random_colors_used[:,:-1]"
   ]
  },
  {
   "cell_type": "markdown",
   "metadata": {},
   "source": [
    "# graph all of the concept map"
   ]
  },
  {
   "cell_type": "code",
   "execution_count": 48,
   "metadata": {},
   "outputs": [
    {
     "name": "stdout",
     "output_type": "stream",
     "text": [
      "Edge coordinates in plot_ipv_skeleton were of 0 length so returning\n"
     ]
    },
    {
     "data": {
      "application/vnd.jupyter.widget-view+json": {
       "model_id": "aa04ba0d29dd4d62a097e8b352dfbf93",
       "version_major": 2,
       "version_minor": 0
      },
      "text/plain": [
       "VBox(children=(Figure(camera=PerspectiveCamera(fov=46.0, position=(0.0, 0.0, 2.0), quaternion=(0.0, 0.0, 0.0, …"
      ]
     },
     "metadata": {},
     "output_type": "display_data"
    }
   ],
   "source": [
    "# Try plotting the points in 3D: random_colors_used = sk.graph_skeleton_and_mesh(other_meshes=total_branch_meshes[:node_to_check_to],\n",
    "sk = reload(sk)\n",
    "total_graph_nodes_skeletons = []\n",
    "total_mesh_midpoints = []\n",
    "for curr_limb_idx in limb_concept_networks.keys():\n",
    "    mesh_midpoints =  [np.array([np.mean(k.vertices,axis=0)]) for k in [v[\"branch_mesh\"] for k,v in limb_correspondence[curr_limb_idx].items() ]]\n",
    "    total_mesh_midpoints.append(mesh_midpoints)\n",
    "    for soma_idx,concept_graph in limb_concept_networks[curr_limb_idx].items():\n",
    "        graph_nodes_skeleton = np.array(mesh_midpoints)[concept_graph.edges_ordered()].reshape(-1,2,3)\n",
    "        total_graph_nodes_skeletons.append(graph_nodes_skeleton)\n",
    "        break\n",
    "random_colors_used_copy = random_colors_used.copy()\n",
    "random_colors_used[:,-1] = 1\n",
    "\n",
    "total_mesh_midpoints = list(itertools.chain.from_iterable(total_mesh_midpoints))\n",
    "#total_graph_nodes_skeletons = sk.stack_skeletons(total_graph_nodes_skeletons)\n",
    "\n",
    "sk.graph_skeleton_and_mesh(\n",
    "    main_mesh_verts=soma_meshes_comb.vertices,\n",
    "    main_mesh_faces=soma_meshes_comb.faces,\n",
    "    main_mesh_color=\"red\",\n",
    "    #other_meshes=all_branch_meshes,\n",
    "    #other_meshes_colors=random_colors_used_copy,\n",
    "    other_scatter=total_mesh_midpoints,\n",
    "    other_scatter_colors=random_colors_used,\n",
    "    other_skeletons=total_graph_nodes_skeletons,\n",
    "    other_skeletons_colors=\"random\",\n",
    "    scatter_size=1,\n",
    "    html_path=f\"./visualizations/{segment_id}_{description}_mesh_concept_graph.html\")"
   ]
  },
  {
   "cell_type": "markdown",
   "metadata": {},
   "source": [
    "# Showing the Potential of Proofreading"
   ]
  },
  {
   "cell_type": "code",
   "execution_count": 49,
   "metadata": {},
   "outputs": [
    {
     "data": {
      "text/plain": [
       "dict_keys([0, 1, 2, 3, 4, 5, 6, 7, 8, 9, 10])"
      ]
     },
     "execution_count": 49,
     "metadata": {},
     "output_type": "execute_result"
    }
   ],
   "source": [
    "limb_concept_networks.keys()"
   ]
  },
  {
   "cell_type": "code",
   "execution_count": null,
   "metadata": {},
   "outputs": [],
   "source": [
    "for curr_limb_idx in limb_concept_networks.keys():"
   ]
  },
  {
   "cell_type": "code",
   "execution_count": 78,
   "metadata": {},
   "outputs": [
    {
     "data": {
      "application/vnd.jupyter.widget-view+json": {
       "model_id": "571163fe02884b9d9bbf7eb8660d0546",
       "version_major": 2,
       "version_minor": 0
      },
      "text/plain": [
       "VBox(children=(Figure(camera=PerspectiveCamera(fov=46.0, position=(0.0, 0.0, 2.0), quaternion=(0.0, 0.0, 0.0, …"
      ]
     },
     "metadata": {},
     "output_type": "display_data"
    }
   ],
   "source": [
    "#Pseudocode: Get all of the meshes under a certain threshold\n",
    "\n",
    "width_threshold = 400\n",
    "\n",
    "total_meshes_to_plot = []\n",
    "for j,curr_limb in limb_correspondence.items():\n",
    "    curr_meshes_to_plot = [curr_limb[k][\"branch_mesh\"] for k in curr_limb if curr_limb[k][\"width_from_skeleton\"] < width_threshold]\n",
    "#     limb_correspondence[0][0][\"width_from_skeleton\"]\n",
    "#     limb_correspondence[0][0][\"branch_mesh\"]\n",
    "    total_meshes_to_plot += curr_meshes_to_plot\n",
    "    \n",
    "#plot the whole neuron \n",
    "sk.graph_skeleton_and_mesh(main_mesh_verts=current_neuron.vertices,\n",
    "                          main_mesh_faces=current_neuron.faces,\n",
    "                           mesh_alpha=0.5,\n",
    "                          other_meshes=total_meshes_to_plot,\n",
    "                          other_meshes_colors=[[1,0,0,1]],\n",
    "                          html_path=f\"./visualizations/{segment_id}_{description}_axon_like_segments.html\")"
   ]
  },
  {
   "cell_type": "markdown",
   "metadata": {},
   "source": [
    "# Showing the merging branch"
   ]
  },
  {
   "cell_type": "code",
   "execution_count": 82,
   "metadata": {},
   "outputs": [
    {
     "data": {
      "text/plain": [
       "dict_keys(['branch_meshes', 'soma_meshes', 'soma_to_piece_connectivity', 'branch_skeletons', 'branch_skeletons_cleaned'])"
      ]
     },
     "execution_count": 82,
     "metadata": {},
     "output_type": "execute_result"
    }
   ],
   "source": [
    "current_mesh_data[0].keys()"
   ]
  },
  {
   "cell_type": "code",
   "execution_count": 83,
   "metadata": {},
   "outputs": [
    {
     "data": {
      "application/vnd.jupyter.widget-view+json": {
       "model_id": "1c9e13cc1fbe4a95a85bc6bdc9435cbe",
       "version_major": 2,
       "version_minor": 0
      },
      "text/plain": [
       "VBox(children=(Figure(camera=PerspectiveCamera(fov=46.0, position=(0.0, 0.0, 2.0), quaternion=(0.0, 0.0, 0.0, …"
      ]
     },
     "metadata": {},
     "output_type": "display_data"
    }
   ],
   "source": [
    "merged_branches_idx = [k for k,v in limb_labels.items() if v == \"MergeError\"]\n",
    "\n",
    "merge_limb_meshes = [current_mesh_data[0][\"branch_meshes\"][k] for k in merged_branches_idx]\n",
    "merge_limb_meshes_skeleton = [current_mesh_data[0][\"branch_skeletons_cleaned\"][k] for k in merged_branches_idx]\n",
    "merge_limb_concept_graphs = [limb_concept_networks[k][list(limb_concept_networks[k].keys())[0]] for k in merged_branches_idx]\n",
    "merge_limb_concept_graphs\n",
    "\n",
    "endpoints_dict = xu.get_node_attributes(merge_limb_concept_graphs[0],\"endpoints\",return_array=False)\n",
    "sorted(endpoints_dict.items())\n",
    "\n",
    "\n",
    "total_graph_nodes_skeletons = []\n",
    "total_mesh_midpoints = []\n",
    "\n",
    "concept_graph = merge_limb_concept_graphs[0]\n",
    "endpoints_dict = xu.get_node_attributes(merge_limb_concept_graphs[0],\"endpoints\",return_array=False)\n",
    "mesh_midpoints = np.array([np.mean(v,axis=0) for k,v in (sorted(endpoints_dict.items()))]).reshape(-1,3)\n",
    "total_mesh_midpoints.append(mesh_midpoints)\n",
    "graph_nodes_skeleton = np.array(mesh_midpoints)[concept_graph.edges_ordered()].reshape(-1,2,3)\n",
    "total_graph_nodes_skeletons.append(graph_nodes_skeleton)\n",
    "        \n",
    "\n",
    "total_mesh_midpoints = list(itertools.chain.from_iterable(total_mesh_midpoints))\n",
    "\n",
    "\n",
    "sk.graph_skeleton_and_mesh(main_mesh_verts=current_neuron.vertices,\n",
    "                          main_mesh_faces=current_neuron.faces,\n",
    "                           mesh_alpha=0.3,\n",
    "                          other_meshes=merge_limb_meshes,\n",
    "                          other_meshes_colors=\"red\",\n",
    "                        #other_scatter=total_mesh_midpoints,\n",
    "                        #other_scatter_colors=\"aqua\",\n",
    "                        other_skeletons=merge_limb_meshes_skeleton,\n",
    "                        other_skeletons_colors=\"black\",\n",
    "                        #scatter_size=1,\n",
    "                        html_path=f\"./visualizations/{segment_id}_{description}_merge_error_connecting_branch.html\")\n",
    "                        "
   ]
  },
  {
   "cell_type": "code",
   "execution_count": 86,
   "metadata": {},
   "outputs": [
    {
     "data": {
      "text/plain": [
       "True"
      ]
     },
     "execution_count": 86,
     "metadata": {},
     "output_type": "execute_result"
    }
   ],
   "source": [
    "x = None\n",
    "x is None"
   ]
  },
  {
   "cell_type": "code",
   "execution_count": 84,
   "metadata": {},
   "outputs": [
    {
     "data": {
      "application/vnd.jupyter.widget-view+json": {
       "model_id": "48774de1d92c479082406c3fb514752f",
       "version_major": 2,
       "version_minor": 0
      },
      "text/plain": [
       "VBox(children=(Figure(camera=PerspectiveCamera(fov=46.0, position=(0.0, 0.0, 2.0), quaternion=(0.0, 0.0, 0.0, …"
      ]
     },
     "metadata": {},
     "output_type": "display_data"
    }
   ],
   "source": [
    "sk.graph_skeleton_and_mesh(main_mesh_verts=current_neuron.vertices,\n",
    "                          main_mesh_faces=current_neuron.faces,\n",
    "                           html_path=f\"./visualizations/{segment_id}_{description}_base.html\")\n",
    "                           "
   ]
  },
  {
   "cell_type": "code",
   "execution_count": 76,
   "metadata": {},
   "outputs": [
    {
     "data": {
      "text/plain": [
       "48"
      ]
     },
     "execution_count": 76,
     "metadata": {},
     "output_type": "execute_result"
    }
   ],
   "source": [
    "len(merge_limb_concept_graphs[0])"
   ]
  },
  {
   "cell_type": "code",
   "execution_count": 73,
   "metadata": {},
   "outputs": [
    {
     "data": {
      "text/plain": [
       "[array([ 590063.85, 1100998.  ,  844988.65]),\n",
       " array([ 616709.3, 1079394.5,  850373.9]),\n",
       " array([ 638037., 1072780.,  847255.]),\n",
       " array([ 648233.5, 1074990. ,  842492. ]),\n",
       " array([ 698684., 1051695.,  844054.]),\n",
       " array([ 734340.45, 1039981.  ,  845708.45]),\n",
       " array([ 738651.75, 1036775.  ,  839450.  ]),\n",
       " array([ 741267.35, 1037102.  ,  841114.25]),\n",
       " array([ 744366.9, 1038171. ,  842685.3]),\n",
       " array([ 747744., 1036325.,  841773.]),\n",
       " array([ 755363.3, 1035824.5,  842665.9]),\n",
       " array([ 781414., 1026235.,  846630.]),\n",
       " array([ 800449.5, 1000809. ,  884209. ]),\n",
       " array([773701.45, 963741.95, 879906.3 ]),\n",
       " array([ 782751.7, 1005496. ,  864070.4]),\n",
       " array([ 787043.2, 1005353. ,  870723.2]),\n",
       " array([799082. , 984611. , 873269.5]),\n",
       " array([790902. , 967837. , 875829.5]),\n",
       " array([ 807032. , 1006265. ,  863824.5]),\n",
       " array([799367. , 968000.5, 869931. ]),\n",
       " array([803610.5, 968834. , 867244. ]),\n",
       " array([ 805701. , 1019915. ,  857021.5]),\n",
       " array([806912. , 971097. , 856966.6]),\n",
       " array([ 811000.6 , 1007681.5 ,  869988.25]),\n",
       " array([813390.5, 968750. , 863093.5]),\n",
       " array([ 811202., 1017280.,  850583.]),\n",
       " array([ 812273.25, 1020190.5 ,  849446.4 ]),\n",
       " array([ 813593.5, 1016725. ,  848475.5]),\n",
       " array([ 821289. , 1014280. ,  852882.5]),\n",
       " array([ 816346.5 , 1021866.  ,  853290.35]),\n",
       " array([ 817061.5, 1004640. ,  864333.5]),\n",
       " array([ 819750., 1007025.,  862806.]),\n",
       " array([ 839476.  , 1026878.  ,  851288.45]),\n",
       " array([ 827404., 1007405.,  860655.]),\n",
       " array([ 837554.25, 1011416.  ,  823558.1 ]),\n",
       " array([ 832237.5, 1009700. ,  856867.5]),\n",
       " array([ 839965. , 1004445. ,  860005.5]),\n",
       " array([ 847355.5, 1004105. ,  859763. ]),\n",
       " array([846273., 999964., 861744.]),\n",
       " array([852380.55, 997578.8 , 861711.55]),\n",
       " array([ 856700.15, 1039267.  ,  833419.25]),\n",
       " array([ 857473.5, 1022060. ,  844265. ]),\n",
       " array([ 851009.7 , 1008084.  ,  856964.65]),\n",
       " array([ 871187.6 , 1032777.5 ,  827110.35]),\n",
       " array([ 864870.65, 1036847.  ,  829690.75]),\n",
       " array([ 871699.5, 1046884. ,  835581. ]),\n",
       " array([ 812707.5 , 1017526.  ,  850584.35]),\n",
       " array([ 742199.4, 1037571. ,  841094.3])]"
      ]
     },
     "execution_count": 73,
     "metadata": {},
     "output_type": "execute_result"
    }
   ],
   "source": [
    "endpoints_dict = xu.get_node_attributes(merge_limb_concept_graphs[0],\"endpoints\",return_array=False)\n",
    "[np.mean(v,axis=0) for k,v in (sorted(endpoints_dict.items()))]"
   ]
  },
  {
   "cell_type": "code",
   "execution_count": 67,
   "metadata": {},
   "outputs": [
    {
     "data": {
      "text/plain": [
       "array([[ 558923.7, 1122046. ,  842906.3],\n",
       "       [ 621204. , 1079950. ,  847071. ]])"
      ]
     },
     "execution_count": 67,
     "metadata": {},
     "output_type": "execute_result"
    }
   ],
   "source": [
    "endpoints_dict[0]"
   ]
  },
  {
   "cell_type": "code",
   "execution_count": 63,
   "metadata": {},
   "outputs": [
    {
     "data": {
      "image/png": "[encoded data removed]",
      "text/plain": [
       "<Figure size 432x288 with 1 Axes>"
      ]
     },
     "metadata": {},
     "output_type": "display_data"
    }
   ],
   "source": [
    "nx.draw(merge_limb_concept_graphs[0])"
   ]
  },
  {
   "cell_type": "code",
   "execution_count": null,
   "metadata": {},
   "outputs": [],
   "source": []
  }
 ],
 "metadata": {
  "kernelspec": {
   "display_name": "Python 3",
   "language": "python",
   "name": "python3"
  },
  "language_info": {
   "codemirror_mode": {
    "name": "ipython",
    "version": 3
   },
   "file_extension": ".py",
   "mimetype": "text/x-python",
   "name": "python",
   "nbconvert_exporter": "python",
   "pygments_lexer": "ipython3",
   "version": "3.6.9"
  }
 },
 "nbformat": 4,
 "nbformat_minor": 4
}
