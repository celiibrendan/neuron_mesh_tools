{
 "cells": [
  {
   "cell_type": "code",
   "execution_count": null,
   "metadata": {},
   "outputs": [],
   "source": [
    "\"\"\"\n",
    "Testing things for the neuron visualization \n",
    "\n",
    "\"\"\""
   ]
  },
  {
   "cell_type": "markdown",
   "metadata": {},
   "source": [
    "# Directional Graphing in 3D"
   ]
  },
  {
   "cell_type": "code",
   "execution_count": null,
   "metadata": {},
   "outputs": [],
   "source": [
    "node_locations = np.array([current_locations[current_n] for current_n in current_graph.nodes])\n",
    "\n",
    "node_colors = np.array([current_color[current_n] for current_n in current_graph.nodes])\n",
    "node_colors_edge = np.array([current_color_edge[current_n] for current_n in current_graph.edges])\n",
    "\n",
    "node_edges = np.array(list(current_graph.edges))\n",
    "\n",
    "#print(\"node_locations = \" + str(node_locations))\n",
    "#print(\"current_graph.edges = \" + str(current_graph.edges))\n",
    "node_colors = np.array([current_color[current_n] for current_n in current_graph.nodes])\n",
    "node_colors_edge = np.array([current_color_edge[current_n] for current_n in current_graph.edges])\n",
    "\n",
    "#print(\"current_color_edge = \" + str(repr(current_color_edge)))\n",
    "\n",
    "node_edges = np.array(list(current_graph.edges))\n",
    "\n",
    "#getting the midpoints then the directions of arrows for the quiver\n",
    "midpoints = []\n",
    "directions = []\n",
    "for n1,n2 in current_graph.edges:\n",
    "    difference = node_locations[n1] - node_locations[n2]\n",
    "    directions.append(difference)\n",
    "    midpoints.append(node_locations[n2] + difference/2)\n",
    "directions = np.array(directions)\n",
    "midpoints = np.array(midpoints)\n",
    "    \n",
    "\n",
    "current_midpoints = midpoints[color_indices]\n",
    "current_directions = directions[color_indices]\n",
    "ipv.pylab.quiver(current_midpoints[:,0],current_midpoints[:,1],current_midpoints[:,2],\n",
    "current_directions[:,0],current_directions[:,1],current_directions[:,2],\n",
    "size=2,\n",
    "size_selected=20,\n",
    "color = n)\n",
    "\n",
    "#graphing the nodes\n",
    "nodes_mesh = ipv.pylab.scatter(node_locations[:,0], \n",
    "                                node_locations[:,1], \n",
    "                                node_locations[:,2],\n",
    "                                color=node_colors,\n",
    "                                size = 2,\n",
    "\n",
    "                                marker = \"sphere\")"
   ]
  }
 ],
 "metadata": {
  "kernelspec": {
   "display_name": "Python 3",
   "language": "python",
   "name": "python3"
  },
  "language_info": {
   "codemirror_mode": {
    "name": "ipython",
    "version": 3
   },
   "file_extension": ".py",
   "mimetype": "text/x-python",
   "name": "python",
   "nbconvert_exporter": "python",
   "pygments_lexer": "ipython3",
   "version": "3.6.9"
  }
 },
 "nbformat": 4,
 "nbformat_minor": 4
}
