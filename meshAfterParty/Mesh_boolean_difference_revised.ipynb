{
 "cells": [
  {
   "cell_type": "code",
   "execution_count": 2,
   "metadata": {},
   "outputs": [],
   "source": [
    "from pykdtree.kdtree import KDTree\n",
    "import time\n",
    "import trimesh\n",
    "import numpy as np\n",
    "\n"
   ]
  },
  {
   "cell_type": "code",
   "execution_count": 3,
   "metadata": {},
   "outputs": [],
   "source": [
    "from os import sys\n",
    "sys.path.append(\"/notebooks/meshAfterParty/\")\n",
    "import skeleton_utils as sk"
   ]
  },
  {
   "cell_type": "code",
   "execution_count": 4,
   "metadata": {},
   "outputs": [
    {
     "data": {
      "text/plain": [
       "1e-08"
      ]
     },
     "execution_count": 4,
     "metadata": {},
     "output_type": "execute_result"
    }
   ],
   "source": [
    "# this is the proximity limit used in trimesh\n",
    "import trimesh.proximity as pr\n",
    "pr.tol.merge"
   ]
  },
  {
   "cell_type": "code",
   "execution_count": null,
   "metadata": {},
   "outputs": [],
   "source": [
    "#trimesh example: https://github.com/mikedh/trimesh/issues/153\n",
    "points = mesh.bounding_box.sample_grid(step=2.0)\n",
    "results = mesh.ray.contains_points(points)"
   ]
  },
  {
   "cell_type": "markdown",
   "metadata": {},
   "source": [
    "# test the closest points of trimesh vs. the KDTree"
   ]
  },
  {
   "cell_type": "code",
   "execution_count": 5,
   "metadata": {},
   "outputs": [],
   "source": [
    "import trimesh\n",
    "multi_soma_mesh = trimesh.load_mesh(\"../Platinum_Compartment/multi_soma_example.off\")"
   ]
  },
  {
   "cell_type": "code",
   "execution_count": 6,
   "metadata": {},
   "outputs": [
    {
     "data": {
      "text/plain": [
       "[<trimesh.Trimesh(vertices.shape=(571170, 3), faces.shape=(1147084, 3))>,\n",
       " <trimesh.Trimesh(vertices.shape=(890, 3), faces.shape=(1776, 3))>,\n",
       " <trimesh.Trimesh(vertices.shape=(155, 3), faces.shape=(346, 3))>,\n",
       " <trimesh.Trimesh(vertices.shape=(126, 3), faces.shape=(280, 3))>,\n",
       " <trimesh.Trimesh(vertices.shape=(53, 3), faces.shape=(118, 3))>]"
      ]
     },
     "execution_count": 6,
     "metadata": {},
     "output_type": "execute_result"
    }
   ],
   "source": [
    "sig_pieces = sk.split_significant_pieces(multi_soma_mesh,significance_threshold=100)\n",
    "sig_pieces"
   ]
  },
  {
   "cell_type": "code",
   "execution_count": 18,
   "metadata": {},
   "outputs": [
    {
     "name": "stdout",
     "output_type": "stream",
     "text": [
      "Total time for querying with closest_point for 100 points =  0.5038728713989258\n",
      "Total time for querying with KDtree for 100 points = 0.07745480537414551\n"
     ]
    }
   ],
   "source": [
    "test_mesh = sig_pieces[1]\n",
    "main_mesh = sig_pieces[0]\n",
    "import time\n",
    "\n",
    "n_vertices = 100\n",
    "\n",
    "start_time = time.time()\n",
    "results = pr.closest_point(main_mesh,test_mesh.vertices[:n_vertices])\n",
    "print(f\"Total time for querying with closest_point for {n_vertices} points =  {time.time() - start_time}\")\n",
    "\n",
    "start_time = time.time()\n",
    "mesh_kd = KDTree(main_mesh.vertices)\n",
    "kd_results = mesh_kd.query(test_mesh.vertices[:n_vertices])\n",
    "\n",
    "print(f\"Total time for querying with KDtree for {n_vertices} points = {time.time() - start_time}\")"
   ]
  },
  {
   "cell_type": "code",
   "execution_count": 19,
   "metadata": {},
   "outputs": [
    {
     "name": "stdout",
     "output_type": "stream",
     "text": [
      "time for ray contains for 100 points = 106.66378283500671\n"
     ]
    }
   ],
   "source": [
    "start_time = time.time()\n",
    "main_mesh.ray.contains_points(test_mesh.vertices[:n_vertices])\n",
    "print(f\"time for ray contains for {n_vertices} points = {time.time() - start_time}\")"
   ]
  },
  {
   "cell_type": "markdown",
   "metadata": {},
   "source": [
    "# The signed distance function"
   ]
  },
  {
   "cell_type": "code",
   "execution_count": null,
   "metadata": {},
   "outputs": [],
   "source": [
    "def signed_distance(mesh, points):\n",
    "    \"\"\"\n",
    "    Find the signed distance from a mesh to a list of points.\n",
    "    * Points OUTSIDE the mesh will have NEGATIVE distance\n",
    "    * Points within tol.merge of the surface will have POSITIVE distance\n",
    "    * Points INSIDE the mesh will have POSITIVE distance\n",
    "    Parameters\n",
    "    -----------\n",
    "    mesh   : Trimesh object\n",
    "    points : (n,3) float, list of points in space\n",
    "    Returns\n",
    "    ----------\n",
    "    signed_distance : (n,3) float, signed distance from point to mesh\n",
    "    \"\"\"\n",
    "    # make sure we have a numpy array\n",
    "    points = np.asanyarray(points, dtype=np.float64)\n",
    "\n",
    "    # find the closest point on the mesh to the queried points\n",
    "    closest, distance, triangle_id = closest_point(mesh, points)\n",
    "\n",
    "    # we only care about nonzero distances\n",
    "    nonzero = distance > tol.merge\n",
    "\n",
    "    if not nonzero.any():\n",
    "        return distance\n",
    "\n",
    "    inside = mesh.ray.contains_points(points[nonzero])\n",
    "    sign = (inside.astype(int) * 2) - 1\n",
    "\n",
    "    # apply sign to previously computed distance\n",
    "    distance[nonzero] *= sign\n",
    "\n",
    "    return distance"
   ]
  },
  {
   "cell_type": "markdown",
   "metadata": {},
   "source": [
    "# The new filter function"
   ]
  },
  {
   "cell_type": "code",
   "execution_count": 20,
   "metadata": {},
   "outputs": [],
   "source": [
    "import skeleton_utils as sk"
   ]
  },
  {
   "cell_type": "code",
   "execution_count": null,
   "metadata": {},
   "outputs": [],
   "source": []
  },
  {
   "cell_type": "code",
   "execution_count": null,
   "metadata": {},
   "outputs": [],
   "source": [
    "def filter_away_inside_pieces(\n",
    "                            main_mesh,\n",
    "                            pieces_to_test,\n",
    "                            significance_threshold=2000,\n",
    "                            n_sample_points=3\n",
    "                            ):\n",
    "    significant_pieces = [m for m in mesh_pieces if len(m.faces) > significance_threshold]\n",
    "\n",
    "    print(f\"There were {len(significant_pieces)} pieces found after size threshold\")\n",
    "    if len(significant_pieces) <=0:\n",
    "        print(\"THERE WERE NO MESH PIECES GREATER THAN THE significance_threshold\")\n",
    "        return []\n",
    "    \n",
    "    final_mesh_pieces = []\n",
    "    \n",
    "    for i,mesh in enumerate(significant_pieces):\n",
    "        #gets the number of samples on the mesh to test (only the indexes)\n",
    "        idx = np.random.choice(len(mesh.vertices),n_sample_points , replace=False)\n",
    "        #gets the sample's vertices\n",
    "        points = mesh.vertices[idx,:]\n",
    "\n",
    "        start_time = time.time()\n",
    "        \n",
    "        #find the signed distance from the sampled vertices to the main mesh\n",
    "        # Points outside the mesh will be negative\n",
    "        # Points inside the mesh will be positive\n",
    "        signed_distance = trimesh.proximity.signed_distance(main_mesh,points)\n",
    "        \n",
    "        #gets the \n",
    "        outside_percentage = sum(signed_distance <= 0)/n_sample_points\n",
    "        if outside_percentage > 0.9:\n",
    "            final_mesh_pieces.append(mesh)\n",
    "            #print(f\"Mesh piece {i} OUTSIDE mesh\")\n",
    "        else:\n",
    "            #print(f\"Mesh piece {i} inside mesh :( \")\n",
    "            pass\n",
    "                \n",
    "    return final_mesh_pieces"
   ]
  },
  {
   "cell_type": "code",
   "execution_count": 21,
   "metadata": {},
   "outputs": [
    {
     "ename": "TypeError",
     "evalue": "'int' object is not iterable",
     "output_type": "error",
     "traceback": [
      "\u001b[0;31m---------------------------------------------------------------------------\u001b[0m",
      "\u001b[0;31mTypeError\u001b[0m                                 Traceback (most recent call last)",
      "\u001b[0;32m<ipython-input-21-31c61e8f6717>\u001b[0m in \u001b[0;36m<module>\u001b[0;34m\u001b[0m\n\u001b[0;32m----> 1\u001b[0;31m \u001b[0mlist\u001b[0m\u001b[0;34m(\u001b[0m\u001b[0;36m4\u001b[0m\u001b[0;34m)\u001b[0m\u001b[0;34m\u001b[0m\u001b[0;34m\u001b[0m\u001b[0m\n\u001b[0m",
      "\u001b[0;31mTypeError\u001b[0m: 'int' object is not iterable"
     ]
    }
   ],
   "source": [
    "list(4)"
   ]
  },
  {
   "cell_type": "code",
   "execution_count": null,
   "metadata": {},
   "outputs": [],
   "source": [
    "def filter_mesh_significant_outside_pieces(unfiltered_mesh,main_mesh,significance_threshold=2000,n_sample_points=3):\n",
    "    "
   ]
  }
 ],
 "metadata": {
  "kernelspec": {
   "display_name": "Python 3",
   "language": "python",
   "name": "python3"
  },
  "language_info": {
   "codemirror_mode": {
    "name": "ipython",
    "version": 3
   },
   "file_extension": ".py",
   "mimetype": "text/x-python",
   "name": "python",
   "nbconvert_exporter": "python",
   "pygments_lexer": "ipython3",
   "version": "3.6.9"
  }
 },
 "nbformat": 4,
 "nbformat_minor": 4
}
