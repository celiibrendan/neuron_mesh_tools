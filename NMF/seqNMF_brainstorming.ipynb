{
 "cells": [
  {
   "cell_type": "code",
   "execution_count": null,
   "metadata": {},
   "outputs": [],
   "source": [
    "\"\"\"\n",
    "7/2: To try and get an NMF decomposition\n",
    "where there is a time series associated with the data\n",
    "\n",
    "https://github.com/ContextLab/seqnmf\n",
    "\n",
    "convolutional nmf deals with sequences\n",
    "\"\"\""
   ]
  },
  {
   "cell_type": "code",
   "execution_count": null,
   "metadata": {},
   "outputs": [],
   "source": []
  },
  {
   "cell_type": "code",
   "execution_count": null,
   "metadata": {},
   "outputs": [
    {
     "name": "stdout",
     "output_type": "stream",
     "text": [
      "Total time = 0.4900240898132324\n"
     ]
    }
   ],
   "source": [
    "\"\"\"\n",
    "The cost output stores the reconstruction \n",
    "error after each iteration. The loadings variable stores the factor loadings. \n",
    "The power variable provides a measure of how well the original data is captured by the full reconstruction.\n",
    "\n",
    "\"\"\"\n",
    "import time\n",
    "st = time.time()\n",
    "from seqnmf import seqnmf, plot, example_data\n",
    "max_factors = 3\n",
    "maximum_sequence_length = 2\n",
    "regularization_parameter = 0.001\n",
    "[W, H, cost, loadings, power] = seqnmf(example_data, \n",
    "                                       K=max_factors,\n",
    "                                       L=maximum_sequence_length,\n",
    "                                       Lambda=regularization_parameter, \n",
    "                                       plot_it=False)\n",
    "print(f\"Total time = {time.time() - st }\")\n",
    "#plot(W, H).show()"
   ]
  },
  {
   "cell_type": "code",
   "execution_count": 6,
   "metadata": {},
   "outputs": [
    {
     "data": {
      "text/plain": [
       "(75, 20, 2)"
      ]
     },
     "execution_count": 6,
     "metadata": {},
     "output_type": "execute_result"
    }
   ],
   "source": [
    "W.shape"
   ]
  },
  {
   "cell_type": "code",
   "execution_count": 8,
   "metadata": {},
   "outputs": [
    {
     "data": {
      "text/plain": [
       "(75, 666)"
      ]
     },
     "execution_count": 8,
     "metadata": {},
     "output_type": "execute_result"
    }
   ],
   "source": [
    "example_data.shape"
   ]
  },
  {
   "cell_type": "code",
   "execution_count": null,
   "metadata": {},
   "outputs": [],
   "source": []
  }
 ],
 "metadata": {
  "kernelspec": {
   "display_name": "Python 3",
   "language": "python",
   "name": "python3"
  },
  "language_info": {
   "codemirror_mode": {
    "name": "ipython",
    "version": 3
   },
   "file_extension": ".py",
   "mimetype": "text/x-python",
   "name": "python",
   "nbconvert_exporter": "python",
   "pygments_lexer": "ipython3",
   "version": "3.6.9"
  }
 },
 "nbformat": 4,
 "nbformat_minor": 4
}
