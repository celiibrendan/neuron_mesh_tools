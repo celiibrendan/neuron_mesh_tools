{
 "cells": [
  {
   "cell_type": "code",
   "execution_count": 2,
   "metadata": {},
   "outputs": [
    {
     "data": {
      "text/plain": [
       "'\\n7/2 \\nPurpose: To try different libraries that do nmf \\nwith different factorizations\\n\\n'"
      ]
     },
     "execution_count": 2,
     "metadata": {},
     "output_type": "execute_result"
    }
   ],
   "source": [
    "\"\"\"\n",
    "7/2 \n",
    "Purpose: To try different libraries that do nmf \n",
    "with different factorizations\n",
    "\n",
    "http://ai.stanford.edu/~marinka/nimfa/#fwang2008\n",
    "\n",
    "pip3 install nimfa\n",
    "\n",
    "\"\"\""
   ]
  },
  {
   "cell_type": "code",
   "execution_count": 4,
   "metadata": {},
   "outputs": [
    {
     "name": "stdout",
     "output_type": "stream",
     "text": [
      "Rss: 0.0313\n",
      "Evar: 1.0000\n",
      "K-L divergence: 17.1306\n",
      "Sparseness, W: 0.7406, H: 0.8198\n"
     ]
    }
   ],
   "source": [
    "import nimfa\n",
    "\n",
    "V = nimfa.examples.medulloblastoma.read(normalize=True)\n",
    "\n",
    "lsnmf = nimfa.Lsnmf(V, seed='random_vcol', rank=50, max_iter=100)\n",
    "lsnmf_fit = lsnmf()\n",
    "\n",
    "print('Rss: %5.4f' % lsnmf_fit.fit.rss())\n",
    "print('Evar: %5.4f' % lsnmf_fit.fit.evar())\n",
    "print('K-L divergence: %5.4f' % lsnmf_fit.distance(metric='kl'))\n",
    "print('Sparseness, W: %5.4f, H: %5.4f' % lsnmf_fit.fit.sparseness())"
   ]
  },
  {
   "cell_type": "markdown",
   "metadata": {},
   "source": [
    "# Importing the Data"
   ]
  },
  {
   "cell_type": "code",
   "execution_count": 5,
   "metadata": {},
   "outputs": [],
   "source": [
    "import numpy as np"
   ]
  },
  {
   "cell_type": "code",
   "execution_count": 7,
   "metadata": {},
   "outputs": [
    {
     "data": {
      "text/plain": [
       "(50, 155, 24000)"
      ]
     },
     "execution_count": 7,
     "metadata": {},
     "output_type": "execute_result"
    }
   ],
   "source": [
    "flor_data = np.load(\"./flourescence_movie_ex.npz\")[\"scan_movie\"]\n",
    "flor_data.shape"
   ]
  },
  {
   "cell_type": "code",
   "execution_count": 9,
   "metadata": {},
   "outputs": [
    {
     "data": {
      "text/plain": [
       "(24000, 7750)"
      ]
     },
     "execution_count": 9,
     "metadata": {},
     "output_type": "execute_result"
    }
   ],
   "source": [
    "resized_scan = flor_data\n",
    "test_scan = resized_scan.reshape(-1, resized_scan.shape[-1]).T - np.min(resized_scan)\n",
    "test_scan.shape"
   ]
  },
  {
   "cell_type": "code",
   "execution_count": 14,
   "metadata": {},
   "outputs": [],
   "source": [
    "lsnmf = nimfa.Nsnmf(test_scan[:100], seed='random_vcol', rank=3, max_iter=100)\n",
    "results = lsnmf()"
   ]
  },
  {
   "cell_type": "code",
   "execution_count": 13,
   "metadata": {},
   "outputs": [
    {
     "data": {
      "text/plain": [
       "<nimfa.models.mf_fit.Mf_fit at 0x7f0de0358390>"
      ]
     },
     "execution_count": 13,
     "metadata": {},
     "output_type": "execute_result"
    }
   ],
   "source": [
    "sc"
   ]
  },
  {
   "cell_type": "code",
   "execution_count": null,
   "metadata": {},
   "outputs": [],
   "source": []
  }
 ],
 "metadata": {
  "kernelspec": {
   "display_name": "Python 3",
   "language": "python",
   "name": "python3"
  },
  "language_info": {
   "codemirror_mode": {
    "name": "ipython",
    "version": 3
   },
   "file_extension": ".py",
   "mimetype": "text/x-python",
   "name": "python",
   "nbconvert_exporter": "python",
   "pygments_lexer": "ipython3",
   "version": "3.6.9"
  }
 },
 "nbformat": 4,
 "nbformat_minor": 4
}
