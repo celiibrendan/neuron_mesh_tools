{
 "cells": [
  {
   "cell_type": "code",
   "execution_count": null,
   "metadata": {},
   "outputs": [],
   "source": [
    "\"\"\"\n",
    "Purpose: Develop the tools to be able to restrict a concept network using pandas evals\n",
    "\n",
    "\n",
    "\"\"\""
   ]
  },
  {
   "cell_type": "code",
   "execution_count": 1,
   "metadata": {},
   "outputs": [],
   "source": [
    "from os import sys\n",
    "sys.path.append(\"../../meshAfterParty/meshAfterParty/\")\n",
    "from importlib import reload"
   ]
  },
  {
   "cell_type": "code",
   "execution_count": 2,
   "metadata": {},
   "outputs": [],
   "source": [
    "import pandas_utils as pu\n",
    "import pandas as pd\n",
    "from pathlib import Path"
   ]
  },
  {
   "cell_type": "markdown",
   "metadata": {},
   "source": [
    "# Example Concept Network"
   ]
  },
  {
   "cell_type": "code",
   "execution_count": 3,
   "metadata": {},
   "outputs": [
    {
     "data": {
      "application/vnd.jupyter.widget-view+json": {
       "model_id": "ad37994365ca4190939c1ffeaab787c1",
       "version_major": 2,
       "version_minor": 0
      },
      "text/plain": [
       "HBox(children=(FloatProgress(value=0.0, max=73.0), HTML(value='')))"
      ]
     },
     "metadata": {},
     "output_type": "display_data"
    },
    {
     "data": {
      "application/vnd.jupyter.widget-view+json": {
       "model_id": "d659baea48c2476bb00df651c1900888",
       "version_major": 2,
       "version_minor": 0
      },
      "text/plain": [
       "HBox(children=(FloatProgress(value=0.0, max=53.0), HTML(value='')))"
      ]
     },
     "metadata": {},
     "output_type": "display_data"
    },
    {
     "data": {
      "application/vnd.jupyter.widget-view+json": {
       "model_id": "8934408f0bbf4213b892e9175a02ee15",
       "version_major": 2,
       "version_minor": 0
      },
      "text/plain": [
       "HBox(children=(FloatProgress(value=0.0, max=49.0), HTML(value='')))"
      ]
     },
     "metadata": {},
     "output_type": "display_data"
    },
    {
     "data": {
      "application/vnd.jupyter.widget-view+json": {
       "model_id": "70f30b534de6400495f2b89a5a7c6b6c",
       "version_major": 2,
       "version_minor": 0
      },
      "text/plain": [
       "HBox(children=(FloatProgress(value=0.0, max=39.0), HTML(value='')))"
      ]
     },
     "metadata": {},
     "output_type": "display_data"
    },
    {
     "data": {
      "application/vnd.jupyter.widget-view+json": {
       "model_id": "7407e3946fb34076a283411598fbf54d",
       "version_major": 2,
       "version_minor": 0
      },
      "text/plain": [
       "HBox(children=(FloatProgress(value=0.0, max=35.0), HTML(value='')))"
      ]
     },
     "metadata": {},
     "output_type": "display_data"
    },
    {
     "data": {
      "application/vnd.jupyter.widget-view+json": {
       "model_id": "36bcb7ff2a0d444b91f2785c2b5b645a",
       "version_major": 2,
       "version_minor": 0
      },
      "text/plain": [
       "HBox(children=(FloatProgress(value=0.0, max=16.0), HTML(value='')))"
      ]
     },
     "metadata": {},
     "output_type": "display_data"
    },
    {
     "data": {
      "application/vnd.jupyter.widget-view+json": {
       "model_id": "504fa18189164a32ab550c5fb8929dbf",
       "version_major": 2,
       "version_minor": 0
      },
      "text/plain": [
       "HBox(children=(FloatProgress(value=0.0, max=17.0), HTML(value='')))"
      ]
     },
     "metadata": {},
     "output_type": "display_data"
    },
    {
     "data": {
      "application/vnd.jupyter.widget-view+json": {
       "model_id": "b144ed454666470592032add01257cf3",
       "version_major": 2,
       "version_minor": 0
      },
      "text/plain": [
       "HBox(children=(FloatProgress(value=0.0, max=25.0), HTML(value='')))"
      ]
     },
     "metadata": {},
     "output_type": "display_data"
    },
    {
     "data": {
      "application/vnd.jupyter.widget-view+json": {
       "model_id": "d4c5b5e70ba542b88dccc5b895545682",
       "version_major": 2,
       "version_minor": 0
      },
      "text/plain": [
       "HBox(children=(FloatProgress(value=0.0, max=11.0), HTML(value='')))"
      ]
     },
     "metadata": {},
     "output_type": "display_data"
    },
    {
     "data": {
      "application/vnd.jupyter.widget-view+json": {
       "model_id": "f935be900c0c4da6b1df3dff2488eaec",
       "version_major": 2,
       "version_minor": 0
      },
      "text/plain": [
       "HBox(children=(FloatProgress(value=0.0, max=5.0), HTML(value='')))"
      ]
     },
     "metadata": {},
     "output_type": "display_data"
    },
    {
     "data": {
      "application/vnd.jupyter.widget-view+json": {
       "model_id": "cbbafde0867f4ee18bffd9a66a9311f9",
       "version_major": 2,
       "version_minor": 0
      },
      "text/plain": [
       "HBox(children=(FloatProgress(value=0.0, max=1.0), HTML(value='')))"
      ]
     },
     "metadata": {},
     "output_type": "display_data"
    },
    {
     "data": {
      "text/plain": [
       "<neuron.Neuron at 0x7f878f212ac8>"
      ]
     },
     "execution_count": 3,
     "metadata": {},
     "output_type": "execute_result"
    }
   ],
   "source": [
    "compressed_neuron_path = Path(\"../test_neurons/test_objects/12345_2_soma_practice_decompress\")\n",
    "\n",
    "import neuron_utils as nru\n",
    "nru = reload(nru)\n",
    "import neuron\n",
    "neuron=reload(neuron)\n",
    "\n",
    "import system_utils as su\n",
    "\n",
    "with su.suppress_stdout_stderr():\n",
    "    recovered_neuron = nru.decompress_neuron(filepath=compressed_neuron_path,\n",
    "                      original_mesh=compressed_neuron_path)\n",
    "\n",
    "recovered_neuron"
   ]
  },
  {
   "cell_type": "markdown",
   "metadata": {},
   "source": [
    "# Turning a concept_network into a dataframe"
   ]
  },
  {
   "cell_type": "code",
   "execution_count": null,
   "metadata": {},
   "outputs": [],
   "source": [
    "import networkx as nx\n",
    "nx.draw(recovered_neuron.concept_network)"
   ]
  },
  {
   "cell_type": "code",
   "execution_count": null,
   "metadata": {},
   "outputs": [],
   "source": [
    "\"\"\"\n",
    "How to turn a concept map into a pandas table with only the limb_idx and node_idx\n",
    "\"\"\"\n",
    "def convert_neuron_to_branches_dataframe(curr_neuron):\n",
    "    limb_idxs = curr_neuron.get_limb_node_names()\n",
    "    limb_node_idx_dicts = []\n",
    "\n",
    "    for l in limb_idxs:\n",
    "        limb_node_idx_dicts += [dict(limb=l,node=int(k)) for k in \n",
    "                                curr_neuron.concept_network.nodes[l][\"data\"].concept_network.nodes()]\n",
    "\n",
    "    df = pd.DataFrame(limb_node_idx_dicts)\n",
    "    return df\n",
    "\n",
    "neuron_df = convert_neuron_to_branches_dataframe(curr_neuron = recovered_neuron)\n",
    "neuron_df"
   ]
  },
  {
   "cell_type": "markdown",
   "metadata": {},
   "source": [
    "# Functions that can be applied over each limb"
   ]
  },
  {
   "cell_type": "code",
   "execution_count": null,
   "metadata": {},
   "outputs": [],
   "source": [
    "class run_options:\n",
    "    def __init__(self,run_type=\"Limb\"):\n",
    "        self.run_type = run_type\n",
    "\n",
    "    def __call__(self, f):\n",
    "        f.run_type = self.run_type\n",
    "        return f"
   ]
  },
  {
   "cell_type": "code",
   "execution_count": null,
   "metadata": {},
   "outputs": [],
   "source": [
    "dir(recovered_neuron.concept_network.nodes[\"L0\"][\"data\"].concept_network.nodes[1][\"data\"])"
   ]
  },
  {
   "cell_type": "code",
   "execution_count": null,
   "metadata": {},
   "outputs": [],
   "source": [
    "\"\"\"\n",
    "Want to have functions that just operate off of branch characteristics or limb characteristics\n",
    "\"\"\"\n",
    "\n",
    "#Branch Functions\n",
    "import skeleton_utils as sk\n",
    "\n",
    "@run_options(run_type=\"Branch\")\n",
    "def n_faces_branch(curr_branch):\n",
    "    return len(curr_branch.mesh.faces)\n",
    "\n",
    "@run_options(run_type=\"Branch\")\n",
    "def width(curr_branch):\n",
    "    return curr_branch.width\n",
    "\n",
    "@run_options(run_type=\"Branch\")\n",
    "def skeleton_distance_branch(curr_branch):\n",
    "    try:\n",
    "        #print(f\"curr_branch.skeleton = {curr_branch.skeleton.shape}\")\n",
    "        return sk.calculate_skeleton_distance(curr_branch.skeleton)\n",
    "    except:\n",
    "        print(f\"curr_branch.skeleton = {curr_branch.skeleton}\")\n",
    "        raise Exception(\"\")\n"
   ]
  },
  {
   "cell_type": "code",
   "execution_count": null,
   "metadata": {},
   "outputs": [],
   "source": [
    "node_array = np.array(recovered_neuron.concept_network.nodes[\"L1\"][\"data\"].concept_network.nodes())\n"
   ]
  },
  {
   "cell_type": "code",
   "execution_count": null,
   "metadata": {},
   "outputs": [],
   "source": [
    "#Limb Functions\n",
    "nru = reload(nru)\n",
    "sk = reload(sk)\n",
    "\n",
    "\"\"\"\n",
    "Rule: For the limb functions will either return\n",
    "1) 1 number\n",
    "2) 1 True/False Value\n",
    "3) Array of 1 or 2 that matches the number of branches\n",
    "4) a list of nodes that it applies to\n",
    "\n",
    "\"\"\"\n",
    "@run_options(run_type=\"Limb\")\n",
    "def skeleton_distance_limb(curr_limb):\n",
    "    curr_skeleton = curr_limb.get_skeleton()\n",
    "    return sk.calculate_skeleton_distance(curr_skeleton)\n",
    "\n",
    "@run_options(run_type=\"Limb\")\n",
    "def n_faces_limb(curr_limb):\n",
    "    return len(curr_limb.mesh.faces)\n",
    "\n",
    "@run_options(run_type=\"Limb\")\n",
    "def merge_limbs(curr_limb):\n",
    "    return \"MergeError\" in curr_limb.labels\n",
    "\n",
    "@run_options(run_type=\"Limb\")\n",
    "def limb_error_branches(curr_limb):\n",
    "    error_nodes = nru.classify_endpoint_error_branches_from_limb_concept_network(curr_limb.concept_network)\n",
    "    node_names = np.array(list(curr_limb.concept_network.nodes()))\n",
    "    return dict([(k,k in error_nodes) for k in node_names])"
   ]
  },
  {
   "cell_type": "code",
   "execution_count": null,
   "metadata": {},
   "outputs": [],
   "source": [
    "recovered_neuron.get_limb_node_names()"
   ]
  },
  {
   "cell_type": "markdown",
   "metadata": {},
   "source": [
    "# How to get an array for all branches based on the one function and the neuron object"
   ]
  },
  {
   "cell_type": "code",
   "execution_count": null,
   "metadata": {},
   "outputs": [],
   "source": [
    "\"\"\"\n",
    "Pseudocde: \n",
    "1) Determine if the function should be applied to a branch or a limb\n",
    "2a) If Branch\n",
    "- then just iterate over all branches, all limbs and compute and store value\n",
    "3a) If Limb: \n",
    "- for each limb:\n",
    "  i) run the function and recieve the returned result\n",
    "  2) If only a single value is returned --> make dict[limb_idx][node_idx] = value all with the same value\n",
    "  3) if dictionary of values: \n",
    "     a. check that keys match the node_names\n",
    "     b. make dict[limb_idx][node_idx] = value for all nodes using the dictionary\n",
    "\n",
    "Output: dictionary map[limb_idx][node_idx] = value\n",
    "\n",
    "\"\"\"\n",
    "\n",
    "nru = reload(nru)\n",
    "\n",
    "def apply_function_to_neuron(current_neuron,current_function):\n",
    "    function_mapping = dict([(limb_name,dict()) for limb_name in current_neuron.get_limb_node_names()])\n",
    "    #if it was a branch function that was passed\n",
    "    if current_function.run_type==\"Branch\":\n",
    "        for limb_name in function_mapping.keys():\n",
    "            curr_concept_network = current_neuron.concept_network.nodes[limb_name][\"data\"].concept_network\n",
    "            for branch_idx in curr_concept_network.nodes():\n",
    "                function_mapping[limb_name][branch_idx] = current_function(curr_concept_network.nodes[branch_idx][\"data\"])\n",
    "    elif current_function.run_type==\"Limb\":\n",
    "        #if it was a limb function that was passed\n",
    "        \"\"\"\n",
    "        - for each limb:\n",
    "          i) run the function and recieve the returned result\n",
    "          2) If only a single value is returned --> make dict[limb_idx][node_idx] = value all with the same value\n",
    "          3) if dictionary of values: \n",
    "             a. check that keys match the node_names\n",
    "             b. make dict[limb_idx][node_idx] = value for all nodes using the dictionary\n",
    "        \n",
    "        \"\"\"\n",
    "        for limb_name in function_mapping.keys():\n",
    "            function_return = current_function(current_neuron.concept_network.nodes[limb_name][\"data\"])\n",
    "            curr_concept_network = current_neuron.concept_network.nodes[limb_name][\"data\"].concept_network\n",
    "            if np.isscalar(function_return):\n",
    "                for branch_idx in curr_concept_network.nodes():\n",
    "                    function_mapping[limb_name][branch_idx] = function_return\n",
    "            elif set(list(function_return.keys())) == set(list(curr_concept_network.nodes())):\n",
    "                function_mapping[limb_name] = function_return\n",
    "            else:\n",
    "                raise Exception(\"The value returned from limb function was not a scalar nor did it match the keys of the limb branches\")  \n",
    "        \n",
    "    else:\n",
    "        raise Exception(\"Function recieved was neither a Branch nor a Limb\")\n",
    "        \n",
    "    return function_mapping\n",
    "\n",
    "curr_function =width\n",
    "curr_function_mapping = apply_function_to_neuron(recovered_neuron,curr_function)\n",
    "len(curr_function_mapping)"
   ]
  },
  {
   "cell_type": "code",
   "execution_count": null,
   "metadata": {},
   "outputs": [],
   "source": [
    "import pandas_utils as pu\n",
    "pu = reload(pu)\n",
    "map_new_limb_node_value(neuron_df,curr_function_mapping,value_name=curr_function.__name__)\n",
    "pu.surpress_scientific_notation()\n",
    "print(f\"Number of nans = {pu.n_nans_total(neuron_df)}\")\n",
    "#neuron_df[neuron_df[\"limb_error_branches\"]==True]\n",
    "neuron_df"
   ]
  },
  {
   "cell_type": "markdown",
   "metadata": {},
   "source": [
    "# Creating the function that will make a dataframe with all of the functions specified (later will use the restriction)"
   ]
  },
  {
   "cell_type": "code",
   "execution_count": null,
   "metadata": {},
   "outputs": [],
   "source": [
    "import numpy_utils as nu\n",
    "import pandas_utils as pu\n",
    "\n",
    "import neuron_searching as ns\n",
    "ns = reload(ns)\n",
    "\n",
    "\n",
    "returned_df = ns.generate_neuron_dataframe(recovered_neuron,functions_list=[\n",
    "ns.n_faces_branch,\n",
    "ns.width,\n",
    "ns.skeleton_distance_branch,\n",
    "ns.skeleton_distance_limb,\n",
    "ns.n_faces_limb,\n",
    "ns.merge_limbs,\n",
    "ns.limb_error_branches\n",
    "])\n",
    "\n",
    "returned_df[returned_df[\"merge_limbs\"] == True"
   ]
  },
  {
   "cell_type": "code",
   "execution_count": null,
   "metadata": {},
   "outputs": [],
   "source": []
  },
  {
   "cell_type": "markdown",
   "metadata": {},
   "source": [
    "# Exploring Pandas and Dataframe"
   ]
  },
  {
   "cell_type": "code",
   "execution_count": null,
   "metadata": {},
   "outputs": [],
   "source": [
    "\"\"\"\n",
    "Things need to figure out about pandas dataframe:\n",
    "1) Creating new column witih data and without data\n",
    "2) dataframe.eval and how works with:\n",
    "- ands/or\n",
    "- == True/False\n",
    "- apply a dictionary to variable names so can do so programmatically restrict\n",
    "- group by (so can get the limb/nodes grouped together)\n",
    "\n",
    "\"\"\""
   ]
  },
  {
   "cell_type": "code",
   "execution_count": null,
   "metadata": {},
   "outputs": [],
   "source": [
    "neuron_df"
   ]
  },
  {
   "cell_type": "markdown",
   "metadata": {},
   "source": [
    "# ----- Part 2: Starting the Work on How the Query Will work -----"
   ]
  },
  {
   "cell_type": "code",
   "execution_count": 45,
   "metadata": {},
   "outputs": [],
   "source": [
    "\"\"\"\n",
    "\n",
    "Arguments: \n",
    "1) concept network\n",
    "2) qurey (string or list of dicts)\n",
    "3) Extra Functions to run that generates: True/False/Numeric \n",
    "for every limb in the network\n",
    "- List of functions or keywords (that map to specific functions)\n",
    "\n",
    "Process: \n",
    "0) Generate a pandas table that originally has the limb index and node index\n",
    "as a unique row to correspond to all the unique branches\n",
    "1) Running the Limb functions\n",
    "a. Convert all of the keywords into the corresponding functions that get the value\n",
    "b. For each function in the list\n",
    "    Create a new column for the function\n",
    "   i) For each limb: \n",
    "       1) Run on whole limb and store the values in the dataframe (may need to do this at end)\n",
    "       Look for any NaN values and either:\n",
    "       a. Error\n",
    "       b. Raise Warning but don't error\n",
    "       \n",
    "2) Processing of Query: \n",
    "- If recieved as string then don't need to process any\n",
    "- If recieved as list of dictionaries --> turn into a string query\n",
    "\n",
    "3) Apply the string query to the dataframe using df.eval\n",
    "\n",
    "4) Return values:\n",
    "a. All (limb_index,node_index)\n",
    "b. Node names grouped in list under same limb index\n",
    "   dict{ limb_idx:[node_idxs...],\n",
    "         limb_idx:[node_idxs...]\n",
    "   \n",
    "   }\n",
    "c. Data table used\n",
    "\n",
    "\n",
    "\n",
    "\n",
    "\"\"\"\n",
    "\n"
   ]
  },
  {
   "cell_type": "code",
   "execution_count": 53,
   "metadata": {},
   "outputs": [
    {
     "data": {
      "text/plain": [
       "NodeView(('S0', 'L0', 'L1', 'L2', 'L3', 'L5', 'L10', 'S1', 'L4', 'L6', 'L7', 'L8', 'L9'))"
      ]
     },
     "execution_count": 53,
     "metadata": {},
     "output_type": "execute_result"
    }
   ],
   "source": [
    "recovered_neuron.concept_network.nodes()"
   ]
  },
  {
   "cell_type": "code",
   "execution_count": 57,
   "metadata": {},
   "outputs": [
    {
     "data": {
      "text/plain": [
       "{'data': <neuron.Limb at 0x7f878f13b5c0>}"
      ]
     },
     "execution_count": 57,
     "metadata": {},
     "output_type": "execute_result"
    }
   ],
   "source": [
    "nru.return_concept_network(recovered_neuron).nodes[\"L1\"]"
   ]
  },
  {
   "cell_type": "code",
   "execution_count": 95,
   "metadata": {},
   "outputs": [
    {
     "name": "stdout",
     "output_type": "stream",
     "text": [
      "Extracting concept network from neuron object\n",
      "functions_list = [<function n_faces_branch at 0x7f877ef0dea0>, 'width', <function skeleton_distance_branch at 0x7f877ec2fe18>]\n",
      "final_feature_functions = [<function n_faces_branch at 0x7f877ef0dea0>, <function width at 0x7f877c3692f0>, <function skeleton_distance_branch at 0x7f877ec2fe18>]\n"
     ]
    }
   ],
   "source": [
    "ns = reload(ns)\n",
    "nru = reload(nru)\n",
    "\n",
    "list_of_faces = [1038,5763,7063,11405]\n",
    "branch_threshold = 60000\n",
    "current_query = \"n_faces_branch in @list_of_faces or skeleton_distance_branch > @branch_threshold\"\n",
    "local_dict=dict(list_of_faces=list_of_faces,branch_threshold=branch_threshold)\n",
    "\n",
    "\n",
    "functions_list=[\n",
    "ns.n_faces_branch,\n",
    "\"width\",\n",
    "ns.skeleton_distance_branch,\n",
    "# ns.skeleton_distance_limb,\n",
    "# \"n_faces_limb\",\n",
    "# ns.merge_limbs,\n",
    "# ns.limb_error_branches\n",
    "]\n",
    "\n",
    "returned_output = ns.query_neuron(recovered_neuron,\n",
    "                         functions_list,\n",
    "                          current_query,\n",
    "                          local_dict=local_dict,\n",
    "                          return_dataframe=False,\n",
    "                          return_limbs=False,\n",
    "                          return_limb_grouped_branches=True,\n",
    "                         print_flag=True)"
   ]
  },
  {
   "cell_type": "markdown",
   "metadata": {},
   "source": [
    "# ---- Part 2 Prework: Check what can do with df.eval and df.query -----------#"
   ]
  },
  {
   "cell_type": "code",
   "execution_count": 73,
   "metadata": {},
   "outputs": [
    {
     "data": {
      "text/plain": [
       "True"
      ]
     },
     "execution_count": 73,
     "metadata": {},
     "output_type": "execute_result"
    }
   ],
   "source": [
    "np.array_equal(np.sort(returned_dataF.query(\"limb==@curr_limb\",local_dict=dict(curr_limb='L0'))[\"node\"].to_numpy()),returned_output[\"L0\"])"
   ]
  },
  {
   "cell_type": "code",
   "execution_count": 43,
   "metadata": {},
   "outputs": [
    {
     "data": {
      "text/plain": [
       "{'L0': array([ 0,  9, 10, 12, 14, 17, 18, 19, 21, 23, 27, 39, 45, 50, 56, 59, 60,\n",
       "        65, 68, 70]),\n",
       " 'L1': array([ 0,  2,  3,  4,  9, 10, 11, 14, 15, 20, 33, 35, 48]),\n",
       " 'L2': array([ 0,  1,  5,  9, 10, 12, 14, 19, 29]),\n",
       " 'L3': array([ 0,  1,  2,  4,  5, 22, 34]),\n",
       " 'L4': array([ 0,  2,  3,  9, 13, 16, 18, 32]),\n",
       " 'L5': array([ 0,  1,  3,  5, 14]),\n",
       " 'L6': array([ 0,  1,  2,  7, 15]),\n",
       " 'L7': array([ 0,  4,  7,  8, 10]),\n",
       " 'L8': array([4, 5]),\n",
       " 'L9': array([1])}"
      ]
     },
     "execution_count": 43,
     "metadata": {},
     "output_type": "execute_result"
    }
   ],
   "source": [
    "\"\"\"\n",
    "Things want to check: \n",
    "1) Passing in variables with local_dict (yes it does!)\n",
    "\n",
    "\"\"\"\n",
    "import numpy as np\n",
    "\n",
    "list_of_faces = [1038,5763,7063,11405]\n",
    "branch_threshold = 31000\n",
    "filtered_df = returned_df.query(\"n_faces_branch in @list_of_faces or skeleton_distance_branch > @branch_threshold\",\n",
    "                  local_dict=dict(list_of_faces=list_of_faces,branch_threshold=branch_threshold))\n",
    "\n",
    "limb_branch_pairings = filtered_df[[\"limb\",\"node\"]].to_numpy()\n",
    "np.unique(limb_branch_pairings[:,0])\n",
    "limb_to_branch = dict([(k,np.sort(limb_branch_pairings[:,1][np.where(limb_branch_pairings[:,0]==k)[0]]).astype(\"int\")) \n",
    "                       for k in np.unique(limb_branch_pairings[:,0])])\n",
    "limb_to_branch"
   ]
  },
  {
   "cell_type": "code",
   "execution_count": 5,
   "metadata": {},
   "outputs": [
    {
     "name": "stdout",
     "output_type": "stream",
     "text": [
      "only one skeleton so no stacking needed\n"
     ]
    },
    {
     "data": {
      "text/html": [
       "<div>\n",
       "<style scoped>\n",
       "    .dataframe tbody tr th:only-of-type {\n",
       "        vertical-align: middle;\n",
       "    }\n",
       "\n",
       "    .dataframe tbody tr th {\n",
       "        vertical-align: top;\n",
       "    }\n",
       "\n",
       "    .dataframe thead th {\n",
       "        text-align: right;\n",
       "    }\n",
       "</style>\n",
       "<table border=\"1\" class=\"dataframe\">\n",
       "  <thead>\n",
       "    <tr style=\"text-align: right;\">\n",
       "      <th></th>\n",
       "      <th>limb</th>\n",
       "      <th>node</th>\n",
       "      <th>n_faces_branch</th>\n",
       "      <th>width</th>\n",
       "      <th>skeleton_distance_branch</th>\n",
       "      <th>skeleton_distance_limb</th>\n",
       "      <th>n_faces_limb</th>\n",
       "      <th>merge_limbs</th>\n",
       "      <th>limb_error_branches</th>\n",
       "    </tr>\n",
       "  </thead>\n",
       "  <tbody>\n",
       "    <tr>\n",
       "      <th>73</th>\n",
       "      <td>L1</td>\n",
       "      <td>11</td>\n",
       "      <td>5763</td>\n",
       "      <td>1919.382958</td>\n",
       "      <td>23724.514761</td>\n",
       "      <td>1.176599e+06</td>\n",
       "      <td>176175</td>\n",
       "      <td>True</td>\n",
       "      <td>False</td>\n",
       "    </tr>\n",
       "    <tr>\n",
       "      <th>74</th>\n",
       "      <td>L1</td>\n",
       "      <td>14</td>\n",
       "      <td>7063</td>\n",
       "      <td>1791.959738</td>\n",
       "      <td>31024.460288</td>\n",
       "      <td>1.176599e+06</td>\n",
       "      <td>176175</td>\n",
       "      <td>True</td>\n",
       "      <td>False</td>\n",
       "    </tr>\n",
       "    <tr>\n",
       "      <th>75</th>\n",
       "      <td>L1</td>\n",
       "      <td>15</td>\n",
       "      <td>11405</td>\n",
       "      <td>1711.838444</td>\n",
       "      <td>52246.083671</td>\n",
       "      <td>1.176599e+06</td>\n",
       "      <td>176175</td>\n",
       "      <td>True</td>\n",
       "      <td>False</td>\n",
       "    </tr>\n",
       "    <tr>\n",
       "      <th>76</th>\n",
       "      <td>L1</td>\n",
       "      <td>20</td>\n",
       "      <td>1038</td>\n",
       "      <td>460.219090</td>\n",
       "      <td>16913.487597</td>\n",
       "      <td>1.176599e+06</td>\n",
       "      <td>176175</td>\n",
       "      <td>True</td>\n",
       "      <td>False</td>\n",
       "    </tr>\n",
       "    <tr>\n",
       "      <th>77</th>\n",
       "      <td>L1</td>\n",
       "      <td>49</td>\n",
       "      <td>62</td>\n",
       "      <td>1668.789583</td>\n",
       "      <td>430.349858</td>\n",
       "      <td>1.176599e+06</td>\n",
       "      <td>176175</td>\n",
       "      <td>True</td>\n",
       "      <td>False</td>\n",
       "    </tr>\n",
       "    <tr>\n",
       "      <th>78</th>\n",
       "      <td>L1</td>\n",
       "      <td>21</td>\n",
       "      <td>699</td>\n",
       "      <td>326.726151</td>\n",
       "      <td>19725.807405</td>\n",
       "      <td>1.176599e+06</td>\n",
       "      <td>176175</td>\n",
       "      <td>True</td>\n",
       "      <td>False</td>\n",
       "    </tr>\n",
       "    <tr>\n",
       "      <th>79</th>\n",
       "      <td>L1</td>\n",
       "      <td>30</td>\n",
       "      <td>1920</td>\n",
       "      <td>2173.483893</td>\n",
       "      <td>7233.961140</td>\n",
       "      <td>1.176599e+06</td>\n",
       "      <td>176175</td>\n",
       "      <td>True</td>\n",
       "      <td>False</td>\n",
       "    </tr>\n",
       "    <tr>\n",
       "      <th>80</th>\n",
       "      <td>L1</td>\n",
       "      <td>22</td>\n",
       "      <td>142</td>\n",
       "      <td>306.704363</td>\n",
       "      <td>5138.974176</td>\n",
       "      <td>1.176599e+06</td>\n",
       "      <td>176175</td>\n",
       "      <td>True</td>\n",
       "      <td>False</td>\n",
       "    </tr>\n",
       "    <tr>\n",
       "      <th>81</th>\n",
       "      <td>L1</td>\n",
       "      <td>23</td>\n",
       "      <td>1730</td>\n",
       "      <td>1062.909909</td>\n",
       "      <td>9781.700415</td>\n",
       "      <td>1.176599e+06</td>\n",
       "      <td>176175</td>\n",
       "      <td>True</td>\n",
       "      <td>False</td>\n",
       "    </tr>\n",
       "    <tr>\n",
       "      <th>82</th>\n",
       "      <td>L1</td>\n",
       "      <td>17</td>\n",
       "      <td>5209</td>\n",
       "      <td>1546.301408</td>\n",
       "      <td>26044.464366</td>\n",
       "      <td>1.176599e+06</td>\n",
       "      <td>176175</td>\n",
       "      <td>True</td>\n",
       "      <td>False</td>\n",
       "    </tr>\n",
       "    <tr>\n",
       "      <th>83</th>\n",
       "      <td>L1</td>\n",
       "      <td>52</td>\n",
       "      <td>528</td>\n",
       "      <td>1433.988535</td>\n",
       "      <td>1169.781604</td>\n",
       "      <td>1.176599e+06</td>\n",
       "      <td>176175</td>\n",
       "      <td>True</td>\n",
       "      <td>False</td>\n",
       "    </tr>\n",
       "    <tr>\n",
       "      <th>84</th>\n",
       "      <td>L1</td>\n",
       "      <td>12</td>\n",
       "      <td>4662</td>\n",
       "      <td>1132.658002</td>\n",
       "      <td>29869.446445</td>\n",
       "      <td>1.176599e+06</td>\n",
       "      <td>176175</td>\n",
       "      <td>True</td>\n",
       "      <td>False</td>\n",
       "    </tr>\n",
       "    <tr>\n",
       "      <th>85</th>\n",
       "      <td>L1</td>\n",
       "      <td>16</td>\n",
       "      <td>76</td>\n",
       "      <td>597.467338</td>\n",
       "      <td>3253.506083</td>\n",
       "      <td>1.176599e+06</td>\n",
       "      <td>176175</td>\n",
       "      <td>True</td>\n",
       "      <td>False</td>\n",
       "    </tr>\n",
       "    <tr>\n",
       "      <th>86</th>\n",
       "      <td>L1</td>\n",
       "      <td>31</td>\n",
       "      <td>3252</td>\n",
       "      <td>1347.527201</td>\n",
       "      <td>16214.494845</td>\n",
       "      <td>1.176599e+06</td>\n",
       "      <td>176175</td>\n",
       "      <td>True</td>\n",
       "      <td>False</td>\n",
       "    </tr>\n",
       "    <tr>\n",
       "      <th>87</th>\n",
       "      <td>L1</td>\n",
       "      <td>32</td>\n",
       "      <td>2202</td>\n",
       "      <td>617.784099</td>\n",
       "      <td>14969.424056</td>\n",
       "      <td>1.176599e+06</td>\n",
       "      <td>176175</td>\n",
       "      <td>True</td>\n",
       "      <td>False</td>\n",
       "    </tr>\n",
       "    <tr>\n",
       "      <th>88</th>\n",
       "      <td>L1</td>\n",
       "      <td>13</td>\n",
       "      <td>1580</td>\n",
       "      <td>419.576501</td>\n",
       "      <td>27981.561505</td>\n",
       "      <td>1.176599e+06</td>\n",
       "      <td>176175</td>\n",
       "      <td>True</td>\n",
       "      <td>False</td>\n",
       "    </tr>\n",
       "    <tr>\n",
       "      <th>89</th>\n",
       "      <td>L1</td>\n",
       "      <td>18</td>\n",
       "      <td>210</td>\n",
       "      <td>243.787808</td>\n",
       "      <td>5116.283259</td>\n",
       "      <td>1.176599e+06</td>\n",
       "      <td>176175</td>\n",
       "      <td>True</td>\n",
       "      <td>False</td>\n",
       "    </tr>\n",
       "    <tr>\n",
       "      <th>90</th>\n",
       "      <td>L1</td>\n",
       "      <td>35</td>\n",
       "      <td>9549</td>\n",
       "      <td>1557.553504</td>\n",
       "      <td>54258.221433</td>\n",
       "      <td>1.176599e+06</td>\n",
       "      <td>176175</td>\n",
       "      <td>True</td>\n",
       "      <td>False</td>\n",
       "    </tr>\n",
       "    <tr>\n",
       "      <th>91</th>\n",
       "      <td>L1</td>\n",
       "      <td>36</td>\n",
       "      <td>172</td>\n",
       "      <td>649.307202</td>\n",
       "      <td>5845.461448</td>\n",
       "      <td>1.176599e+06</td>\n",
       "      <td>176175</td>\n",
       "      <td>True</td>\n",
       "      <td>False</td>\n",
       "    </tr>\n",
       "    <tr>\n",
       "      <th>92</th>\n",
       "      <td>L1</td>\n",
       "      <td>34</td>\n",
       "      <td>1465</td>\n",
       "      <td>1167.321937</td>\n",
       "      <td>6959.495646</td>\n",
       "      <td>1.176599e+06</td>\n",
       "      <td>176175</td>\n",
       "      <td>True</td>\n",
       "      <td>False</td>\n",
       "    </tr>\n",
       "    <tr>\n",
       "      <th>93</th>\n",
       "      <td>L1</td>\n",
       "      <td>37</td>\n",
       "      <td>2881</td>\n",
       "      <td>1541.414275</td>\n",
       "      <td>12798.057160</td>\n",
       "      <td>1.176599e+06</td>\n",
       "      <td>176175</td>\n",
       "      <td>True</td>\n",
       "      <td>False</td>\n",
       "    </tr>\n",
       "    <tr>\n",
       "      <th>94</th>\n",
       "      <td>L1</td>\n",
       "      <td>28</td>\n",
       "      <td>4316</td>\n",
       "      <td>1854.313859</td>\n",
       "      <td>18615.548510</td>\n",
       "      <td>1.176599e+06</td>\n",
       "      <td>176175</td>\n",
       "      <td>True</td>\n",
       "      <td>False</td>\n",
       "    </tr>\n",
       "    <tr>\n",
       "      <th>95</th>\n",
       "      <td>L1</td>\n",
       "      <td>33</td>\n",
       "      <td>12113</td>\n",
       "      <td>1239.584136</td>\n",
       "      <td>71411.541854</td>\n",
       "      <td>1.176599e+06</td>\n",
       "      <td>176175</td>\n",
       "      <td>True</td>\n",
       "      <td>False</td>\n",
       "    </tr>\n",
       "    <tr>\n",
       "      <th>96</th>\n",
       "      <td>L1</td>\n",
       "      <td>38</td>\n",
       "      <td>999</td>\n",
       "      <td>2958.029984</td>\n",
       "      <td>3968.906282</td>\n",
       "      <td>1.176599e+06</td>\n",
       "      <td>176175</td>\n",
       "      <td>True</td>\n",
       "      <td>False</td>\n",
       "    </tr>\n",
       "    <tr>\n",
       "      <th>97</th>\n",
       "      <td>L1</td>\n",
       "      <td>39</td>\n",
       "      <td>871</td>\n",
       "      <td>485.251696</td>\n",
       "      <td>8199.552189</td>\n",
       "      <td>1.176599e+06</td>\n",
       "      <td>176175</td>\n",
       "      <td>True</td>\n",
       "      <td>False</td>\n",
       "    </tr>\n",
       "    <tr>\n",
       "      <th>98</th>\n",
       "      <td>L1</td>\n",
       "      <td>27</td>\n",
       "      <td>439</td>\n",
       "      <td>1569.838966</td>\n",
       "      <td>1016.121183</td>\n",
       "      <td>1.176599e+06</td>\n",
       "      <td>176175</td>\n",
       "      <td>True</td>\n",
       "      <td>False</td>\n",
       "    </tr>\n",
       "    <tr>\n",
       "      <th>99</th>\n",
       "      <td>L1</td>\n",
       "      <td>51</td>\n",
       "      <td>103</td>\n",
       "      <td>544.683701</td>\n",
       "      <td>1457.491338</td>\n",
       "      <td>1.176599e+06</td>\n",
       "      <td>176175</td>\n",
       "      <td>True</td>\n",
       "      <td>False</td>\n",
       "    </tr>\n",
       "    <tr>\n",
       "      <th>100</th>\n",
       "      <td>L1</td>\n",
       "      <td>10</td>\n",
       "      <td>21180</td>\n",
       "      <td>1748.226701</td>\n",
       "      <td>116276.398774</td>\n",
       "      <td>1.176599e+06</td>\n",
       "      <td>176175</td>\n",
       "      <td>True</td>\n",
       "      <td>False</td>\n",
       "    </tr>\n",
       "    <tr>\n",
       "      <th>101</th>\n",
       "      <td>L1</td>\n",
       "      <td>40</td>\n",
       "      <td>3540</td>\n",
       "      <td>2211.133089</td>\n",
       "      <td>13358.065068</td>\n",
       "      <td>1.176599e+06</td>\n",
       "      <td>176175</td>\n",
       "      <td>True</td>\n",
       "      <td>False</td>\n",
       "    </tr>\n",
       "    <tr>\n",
       "      <th>102</th>\n",
       "      <td>L1</td>\n",
       "      <td>42</td>\n",
       "      <td>2978</td>\n",
       "      <td>1174.585245</td>\n",
       "      <td>21510.341106</td>\n",
       "      <td>1.176599e+06</td>\n",
       "      <td>176175</td>\n",
       "      <td>True</td>\n",
       "      <td>False</td>\n",
       "    </tr>\n",
       "    <tr>\n",
       "      <th>103</th>\n",
       "      <td>L1</td>\n",
       "      <td>43</td>\n",
       "      <td>116</td>\n",
       "      <td>352.228209</td>\n",
       "      <td>6298.805974</td>\n",
       "      <td>1.176599e+06</td>\n",
       "      <td>176175</td>\n",
       "      <td>True</td>\n",
       "      <td>False</td>\n",
       "    </tr>\n",
       "    <tr>\n",
       "      <th>104</th>\n",
       "      <td>L1</td>\n",
       "      <td>24</td>\n",
       "      <td>651</td>\n",
       "      <td>1464.053484</td>\n",
       "      <td>2084.891032</td>\n",
       "      <td>1.176599e+06</td>\n",
       "      <td>176175</td>\n",
       "      <td>True</td>\n",
       "      <td>False</td>\n",
       "    </tr>\n",
       "    <tr>\n",
       "      <th>105</th>\n",
       "      <td>L1</td>\n",
       "      <td>26</td>\n",
       "      <td>309</td>\n",
       "      <td>393.770999</td>\n",
       "      <td>6514.191661</td>\n",
       "      <td>1.176599e+06</td>\n",
       "      <td>176175</td>\n",
       "      <td>True</td>\n",
       "      <td>False</td>\n",
       "    </tr>\n",
       "    <tr>\n",
       "      <th>106</th>\n",
       "      <td>L1</td>\n",
       "      <td>25</td>\n",
       "      <td>164</td>\n",
       "      <td>221.945753</td>\n",
       "      <td>5618.609636</td>\n",
       "      <td>1.176599e+06</td>\n",
       "      <td>176175</td>\n",
       "      <td>True</td>\n",
       "      <td>False</td>\n",
       "    </tr>\n",
       "    <tr>\n",
       "      <th>107</th>\n",
       "      <td>L1</td>\n",
       "      <td>29</td>\n",
       "      <td>658</td>\n",
       "      <td>396.101985</td>\n",
       "      <td>14899.980164</td>\n",
       "      <td>1.176599e+06</td>\n",
       "      <td>176175</td>\n",
       "      <td>True</td>\n",
       "      <td>False</td>\n",
       "    </tr>\n",
       "    <tr>\n",
       "      <th>108</th>\n",
       "      <td>L1</td>\n",
       "      <td>44</td>\n",
       "      <td>117</td>\n",
       "      <td>619.080269</td>\n",
       "      <td>5839.379166</td>\n",
       "      <td>1.176599e+06</td>\n",
       "      <td>176175</td>\n",
       "      <td>True</td>\n",
       "      <td>True</td>\n",
       "    </tr>\n",
       "    <tr>\n",
       "      <th>109</th>\n",
       "      <td>L1</td>\n",
       "      <td>45</td>\n",
       "      <td>4199</td>\n",
       "      <td>1076.180777</td>\n",
       "      <td>29120.991430</td>\n",
       "      <td>1.176599e+06</td>\n",
       "      <td>176175</td>\n",
       "      <td>True</td>\n",
       "      <td>False</td>\n",
       "    </tr>\n",
       "    <tr>\n",
       "      <th>110</th>\n",
       "      <td>L1</td>\n",
       "      <td>9</td>\n",
       "      <td>14120</td>\n",
       "      <td>1913.359272</td>\n",
       "      <td>64090.887329</td>\n",
       "      <td>1.176599e+06</td>\n",
       "      <td>176175</td>\n",
       "      <td>True</td>\n",
       "      <td>False</td>\n",
       "    </tr>\n",
       "    <tr>\n",
       "      <th>111</th>\n",
       "      <td>L1</td>\n",
       "      <td>19</td>\n",
       "      <td>742</td>\n",
       "      <td>421.910125</td>\n",
       "      <td>19114.344307</td>\n",
       "      <td>1.176599e+06</td>\n",
       "      <td>176175</td>\n",
       "      <td>True</td>\n",
       "      <td>False</td>\n",
       "    </tr>\n",
       "    <tr>\n",
       "      <th>112</th>\n",
       "      <td>L1</td>\n",
       "      <td>46</td>\n",
       "      <td>225</td>\n",
       "      <td>3166.388880</td>\n",
       "      <td>2656.659031</td>\n",
       "      <td>1.176599e+06</td>\n",
       "      <td>176175</td>\n",
       "      <td>True</td>\n",
       "      <td>False</td>\n",
       "    </tr>\n",
       "    <tr>\n",
       "      <th>113</th>\n",
       "      <td>L1</td>\n",
       "      <td>48</td>\n",
       "      <td>4211</td>\n",
       "      <td>903.168866</td>\n",
       "      <td>33440.443445</td>\n",
       "      <td>1.176599e+06</td>\n",
       "      <td>176175</td>\n",
       "      <td>True</td>\n",
       "      <td>False</td>\n",
       "    </tr>\n",
       "    <tr>\n",
       "      <th>114</th>\n",
       "      <td>L1</td>\n",
       "      <td>7</td>\n",
       "      <td>2135</td>\n",
       "      <td>1248.373642</td>\n",
       "      <td>11546.399534</td>\n",
       "      <td>1.176599e+06</td>\n",
       "      <td>176175</td>\n",
       "      <td>True</td>\n",
       "      <td>False</td>\n",
       "    </tr>\n",
       "    <tr>\n",
       "      <th>115</th>\n",
       "      <td>L1</td>\n",
       "      <td>8</td>\n",
       "      <td>188</td>\n",
       "      <td>195.099175</td>\n",
       "      <td>5708.222946</td>\n",
       "      <td>1.176599e+06</td>\n",
       "      <td>176175</td>\n",
       "      <td>True</td>\n",
       "      <td>False</td>\n",
       "    </tr>\n",
       "    <tr>\n",
       "      <th>116</th>\n",
       "      <td>L1</td>\n",
       "      <td>41</td>\n",
       "      <td>952</td>\n",
       "      <td>333.812494</td>\n",
       "      <td>21240.878916</td>\n",
       "      <td>1.176599e+06</td>\n",
       "      <td>176175</td>\n",
       "      <td>True</td>\n",
       "      <td>False</td>\n",
       "    </tr>\n",
       "    <tr>\n",
       "      <th>117</th>\n",
       "      <td>L1</td>\n",
       "      <td>47</td>\n",
       "      <td>927</td>\n",
       "      <td>292.094778</td>\n",
       "      <td>19953.039481</td>\n",
       "      <td>1.176599e+06</td>\n",
       "      <td>176175</td>\n",
       "      <td>True</td>\n",
       "      <td>False</td>\n",
       "    </tr>\n",
       "    <tr>\n",
       "      <th>118</th>\n",
       "      <td>L1</td>\n",
       "      <td>4</td>\n",
       "      <td>18039</td>\n",
       "      <td>1481.448406</td>\n",
       "      <td>97230.232567</td>\n",
       "      <td>1.176599e+06</td>\n",
       "      <td>176175</td>\n",
       "      <td>True</td>\n",
       "      <td>False</td>\n",
       "    </tr>\n",
       "    <tr>\n",
       "      <th>119</th>\n",
       "      <td>L1</td>\n",
       "      <td>50</td>\n",
       "      <td>175</td>\n",
       "      <td>3002.235086</td>\n",
       "      <td>1112.353649</td>\n",
       "      <td>1.176599e+06</td>\n",
       "      <td>176175</td>\n",
       "      <td>True</td>\n",
       "      <td>False</td>\n",
       "    </tr>\n",
       "    <tr>\n",
       "      <th>120</th>\n",
       "      <td>L1</td>\n",
       "      <td>2</td>\n",
       "      <td>5960</td>\n",
       "      <td>1126.157691</td>\n",
       "      <td>38931.166867</td>\n",
       "      <td>1.176599e+06</td>\n",
       "      <td>176175</td>\n",
       "      <td>True</td>\n",
       "      <td>False</td>\n",
       "    </tr>\n",
       "    <tr>\n",
       "      <th>121</th>\n",
       "      <td>L1</td>\n",
       "      <td>3</td>\n",
       "      <td>1168</td>\n",
       "      <td>433.383936</td>\n",
       "      <td>33490.175469</td>\n",
       "      <td>1.176599e+06</td>\n",
       "      <td>176175</td>\n",
       "      <td>True</td>\n",
       "      <td>False</td>\n",
       "    </tr>\n",
       "    <tr>\n",
       "      <th>122</th>\n",
       "      <td>L1</td>\n",
       "      <td>5</td>\n",
       "      <td>1491</td>\n",
       "      <td>449.312717</td>\n",
       "      <td>23990.020428</td>\n",
       "      <td>1.176599e+06</td>\n",
       "      <td>176175</td>\n",
       "      <td>True</td>\n",
       "      <td>False</td>\n",
       "    </tr>\n",
       "    <tr>\n",
       "      <th>123</th>\n",
       "      <td>L1</td>\n",
       "      <td>6</td>\n",
       "      <td>304</td>\n",
       "      <td>199.488138</td>\n",
       "      <td>7141.179744</td>\n",
       "      <td>1.176599e+06</td>\n",
       "      <td>176175</td>\n",
       "      <td>True</td>\n",
       "      <td>False</td>\n",
       "    </tr>\n",
       "    <tr>\n",
       "      <th>124</th>\n",
       "      <td>L1</td>\n",
       "      <td>0</td>\n",
       "      <td>10787</td>\n",
       "      <td>921.272417</td>\n",
       "      <td>87611.935183</td>\n",
       "      <td>1.176599e+06</td>\n",
       "      <td>176175</td>\n",
       "      <td>True</td>\n",
       "      <td>False</td>\n",
       "    </tr>\n",
       "    <tr>\n",
       "      <th>125</th>\n",
       "      <td>L1</td>\n",
       "      <td>1</td>\n",
       "      <td>390</td>\n",
       "      <td>236.746886</td>\n",
       "      <td>12450.686880</td>\n",
       "      <td>1.176599e+06</td>\n",
       "      <td>176175</td>\n",
       "      <td>True</td>\n",
       "      <td>False</td>\n",
       "    </tr>\n",
       "  </tbody>\n",
       "</table>\n",
       "</div>"
      ],
      "text/plain": [
       "    limb  node  n_faces_branch        width  skeleton_distance_branch  \\\n",
       "73    L1    11            5763  1919.382958              23724.514761   \n",
       "74    L1    14            7063  1791.959738              31024.460288   \n",
       "75    L1    15           11405  1711.838444              52246.083671   \n",
       "76    L1    20            1038   460.219090              16913.487597   \n",
       "77    L1    49              62  1668.789583                430.349858   \n",
       "78    L1    21             699   326.726151              19725.807405   \n",
       "79    L1    30            1920  2173.483893               7233.961140   \n",
       "80    L1    22             142   306.704363               5138.974176   \n",
       "81    L1    23            1730  1062.909909               9781.700415   \n",
       "82    L1    17            5209  1546.301408              26044.464366   \n",
       "83    L1    52             528  1433.988535               1169.781604   \n",
       "84    L1    12            4662  1132.658002              29869.446445   \n",
       "85    L1    16              76   597.467338               3253.506083   \n",
       "86    L1    31            3252  1347.527201              16214.494845   \n",
       "87    L1    32            2202   617.784099              14969.424056   \n",
       "88    L1    13            1580   419.576501              27981.561505   \n",
       "89    L1    18             210   243.787808               5116.283259   \n",
       "90    L1    35            9549  1557.553504              54258.221433   \n",
       "91    L1    36             172   649.307202               5845.461448   \n",
       "92    L1    34            1465  1167.321937               6959.495646   \n",
       "93    L1    37            2881  1541.414275              12798.057160   \n",
       "94    L1    28            4316  1854.313859              18615.548510   \n",
       "95    L1    33           12113  1239.584136              71411.541854   \n",
       "96    L1    38             999  2958.029984               3968.906282   \n",
       "97    L1    39             871   485.251696               8199.552189   \n",
       "98    L1    27             439  1569.838966               1016.121183   \n",
       "99    L1    51             103   544.683701               1457.491338   \n",
       "100   L1    10           21180  1748.226701             116276.398774   \n",
       "101   L1    40            3540  2211.133089              13358.065068   \n",
       "102   L1    42            2978  1174.585245              21510.341106   \n",
       "103   L1    43             116   352.228209               6298.805974   \n",
       "104   L1    24             651  1464.053484               2084.891032   \n",
       "105   L1    26             309   393.770999               6514.191661   \n",
       "106   L1    25             164   221.945753               5618.609636   \n",
       "107   L1    29             658   396.101985              14899.980164   \n",
       "108   L1    44             117   619.080269               5839.379166   \n",
       "109   L1    45            4199  1076.180777              29120.991430   \n",
       "110   L1     9           14120  1913.359272              64090.887329   \n",
       "111   L1    19             742   421.910125              19114.344307   \n",
       "112   L1    46             225  3166.388880               2656.659031   \n",
       "113   L1    48            4211   903.168866              33440.443445   \n",
       "114   L1     7            2135  1248.373642              11546.399534   \n",
       "115   L1     8             188   195.099175               5708.222946   \n",
       "116   L1    41             952   333.812494              21240.878916   \n",
       "117   L1    47             927   292.094778              19953.039481   \n",
       "118   L1     4           18039  1481.448406              97230.232567   \n",
       "119   L1    50             175  3002.235086               1112.353649   \n",
       "120   L1     2            5960  1126.157691              38931.166867   \n",
       "121   L1     3            1168   433.383936              33490.175469   \n",
       "122   L1     5            1491   449.312717              23990.020428   \n",
       "123   L1     6             304   199.488138               7141.179744   \n",
       "124   L1     0           10787   921.272417              87611.935183   \n",
       "125   L1     1             390   236.746886              12450.686880   \n",
       "\n",
       "     skeleton_distance_limb  n_faces_limb  merge_limbs  limb_error_branches  \n",
       "73             1.176599e+06        176175         True                False  \n",
       "74             1.176599e+06        176175         True                False  \n",
       "75             1.176599e+06        176175         True                False  \n",
       "76             1.176599e+06        176175         True                False  \n",
       "77             1.176599e+06        176175         True                False  \n",
       "78             1.176599e+06        176175         True                False  \n",
       "79             1.176599e+06        176175         True                False  \n",
       "80             1.176599e+06        176175         True                False  \n",
       "81             1.176599e+06        176175         True                False  \n",
       "82             1.176599e+06        176175         True                False  \n",
       "83             1.176599e+06        176175         True                False  \n",
       "84             1.176599e+06        176175         True                False  \n",
       "85             1.176599e+06        176175         True                False  \n",
       "86             1.176599e+06        176175         True                False  \n",
       "87             1.176599e+06        176175         True                False  \n",
       "88             1.176599e+06        176175         True                False  \n",
       "89             1.176599e+06        176175         True                False  \n",
       "90             1.176599e+06        176175         True                False  \n",
       "91             1.176599e+06        176175         True                False  \n",
       "92             1.176599e+06        176175         True                False  \n",
       "93             1.176599e+06        176175         True                False  \n",
       "94             1.176599e+06        176175         True                False  \n",
       "95             1.176599e+06        176175         True                False  \n",
       "96             1.176599e+06        176175         True                False  \n",
       "97             1.176599e+06        176175         True                False  \n",
       "98             1.176599e+06        176175         True                False  \n",
       "99             1.176599e+06        176175         True                False  \n",
       "100            1.176599e+06        176175         True                False  \n",
       "101            1.176599e+06        176175         True                False  \n",
       "102            1.176599e+06        176175         True                False  \n",
       "103            1.176599e+06        176175         True                False  \n",
       "104            1.176599e+06        176175         True                False  \n",
       "105            1.176599e+06        176175         True                False  \n",
       "106            1.176599e+06        176175         True                False  \n",
       "107            1.176599e+06        176175         True                False  \n",
       "108            1.176599e+06        176175         True                 True  \n",
       "109            1.176599e+06        176175         True                False  \n",
       "110            1.176599e+06        176175         True                False  \n",
       "111            1.176599e+06        176175         True                False  \n",
       "112            1.176599e+06        176175         True                False  \n",
       "113            1.176599e+06        176175         True                False  \n",
       "114            1.176599e+06        176175         True                False  \n",
       "115            1.176599e+06        176175         True                False  \n",
       "116            1.176599e+06        176175         True                False  \n",
       "117            1.176599e+06        176175         True                False  \n",
       "118            1.176599e+06        176175         True                False  \n",
       "119            1.176599e+06        176175         True                False  \n",
       "120            1.176599e+06        176175         True                False  \n",
       "121            1.176599e+06        176175         True                False  \n",
       "122            1.176599e+06        176175         True                False  \n",
       "123            1.176599e+06        176175         True                False  \n",
       "124            1.176599e+06        176175         True                False  \n",
       "125            1.176599e+06        176175         True                False  "
      ]
     },
     "execution_count": 5,
     "metadata": {},
     "output_type": "execute_result"
    }
   ],
   "source": [
    "import numpy_utils as nu\n",
    "import pandas_utils as pu\n",
    "\n",
    "import neuron_searching as ns\n",
    "ns = reload(ns)\n",
    "\n",
    "\n",
    "returned_df = ns.generate_neuron_dataframe(recovered_neuron,functions_list=[\n",
    "ns.n_faces_branch,\n",
    "ns.width,\n",
    "ns.skeleton_distance_branch,\n",
    "ns.skeleton_distance_limb,\n",
    "ns.n_faces_limb,\n",
    "ns.merge_limbs,\n",
    "ns.limb_error_branches\n",
    "])\n",
    "\n",
    "returned_df[returned_df[\"merge_limbs\"] == True]"
   ]
  },
  {
   "cell_type": "markdown",
   "metadata": {},
   "source": [
    "# Final Example of how query works: \n"
   ]
  },
  {
   "cell_type": "code",
   "execution_count": 97,
   "metadata": {},
   "outputs": [
    {
     "data": {
      "application/vnd.jupyter.widget-view+json": {
       "model_id": "4345a3b2ce854226b979ab7556a00c44",
       "version_major": 2,
       "version_minor": 0
      },
      "text/plain": [
       "HBox(children=(FloatProgress(value=0.0, max=73.0), HTML(value='')))"
      ]
     },
     "metadata": {},
     "output_type": "display_data"
    },
    {
     "data": {
      "application/vnd.jupyter.widget-view+json": {
       "model_id": "50b0216d8bec4ec49d91d5c0b87e5b68",
       "version_major": 2,
       "version_minor": 0
      },
      "text/plain": [
       "HBox(children=(FloatProgress(value=0.0, max=53.0), HTML(value='')))"
      ]
     },
     "metadata": {},
     "output_type": "display_data"
    },
    {
     "data": {
      "application/vnd.jupyter.widget-view+json": {
       "model_id": "d9da7d35618544bc9704ac37f82dbee0",
       "version_major": 2,
       "version_minor": 0
      },
      "text/plain": [
       "HBox(children=(FloatProgress(value=0.0, max=49.0), HTML(value='')))"
      ]
     },
     "metadata": {},
     "output_type": "display_data"
    },
    {
     "data": {
      "application/vnd.jupyter.widget-view+json": {
       "model_id": "9cf38e3ebd5140a3b26eefd29503fa4b",
       "version_major": 2,
       "version_minor": 0
      },
      "text/plain": [
       "HBox(children=(FloatProgress(value=0.0, max=39.0), HTML(value='')))"
      ]
     },
     "metadata": {},
     "output_type": "display_data"
    },
    {
     "data": {
      "application/vnd.jupyter.widget-view+json": {
       "model_id": "b630e4c3a1674165b77a9a07f86d5302",
       "version_major": 2,
       "version_minor": 0
      },
      "text/plain": [
       "HBox(children=(FloatProgress(value=0.0, max=35.0), HTML(value='')))"
      ]
     },
     "metadata": {},
     "output_type": "display_data"
    },
    {
     "data": {
      "application/vnd.jupyter.widget-view+json": {
       "model_id": "92d1b08243da406ab028a214809dee29",
       "version_major": 2,
       "version_minor": 0
      },
      "text/plain": [
       "HBox(children=(FloatProgress(value=0.0, max=16.0), HTML(value='')))"
      ]
     },
     "metadata": {},
     "output_type": "display_data"
    },
    {
     "data": {
      "application/vnd.jupyter.widget-view+json": {
       "model_id": "54293058e32d4855b21200f50b61a754",
       "version_major": 2,
       "version_minor": 0
      },
      "text/plain": [
       "HBox(children=(FloatProgress(value=0.0, max=17.0), HTML(value='')))"
      ]
     },
     "metadata": {},
     "output_type": "display_data"
    },
    {
     "data": {
      "application/vnd.jupyter.widget-view+json": {
       "model_id": "2a1f7f4e9e7b4c0f90fcbb2dc6bead98",
       "version_major": 2,
       "version_minor": 0
      },
      "text/plain": [
       "HBox(children=(FloatProgress(value=0.0, max=25.0), HTML(value='')))"
      ]
     },
     "metadata": {},
     "output_type": "display_data"
    },
    {
     "data": {
      "application/vnd.jupyter.widget-view+json": {
       "model_id": "e82241ba6e9c4ebe9c8fe5804c13d5ad",
       "version_major": 2,
       "version_minor": 0
      },
      "text/plain": [
       "HBox(children=(FloatProgress(value=0.0, max=11.0), HTML(value='')))"
      ]
     },
     "metadata": {},
     "output_type": "display_data"
    },
    {
     "data": {
      "application/vnd.jupyter.widget-view+json": {
       "model_id": "c569d2f8b93c4949899ba1c758540777",
       "version_major": 2,
       "version_minor": 0
      },
      "text/plain": [
       "HBox(children=(FloatProgress(value=0.0, max=5.0), HTML(value='')))"
      ]
     },
     "metadata": {},
     "output_type": "display_data"
    },
    {
     "data": {
      "application/vnd.jupyter.widget-view+json": {
       "model_id": "1fad54ed51cd4a5d8d24be7d7093dfa6",
       "version_major": 2,
       "version_minor": 0
      },
      "text/plain": [
       "HBox(children=(FloatProgress(value=0.0, max=1.0), HTML(value='')))"
      ]
     },
     "metadata": {},
     "output_type": "display_data"
    },
    {
     "data": {
      "text/plain": [
       "<neuron.Neuron at 0x7f87811c36a0>"
      ]
     },
     "execution_count": 97,
     "metadata": {},
     "output_type": "execute_result"
    }
   ],
   "source": [
    "from os import sys\n",
    "sys.path.append(\"../../meshAfterParty/meshAfterParty/\")\n",
    "from importlib import reload\n",
    "\n",
    "import pandas_utils as pu\n",
    "import pandas as pd\n",
    "from pathlib import Path\n",
    "\n",
    "\n",
    "compressed_neuron_path = Path(\"../test_neurons/test_objects/12345_2_soma_practice_decompress\")\n",
    "\n",
    "import neuron_utils as nru\n",
    "nru = reload(nru)\n",
    "import neuron\n",
    "neuron=reload(neuron)\n",
    "\n",
    "import system_utils as su\n",
    "\n",
    "with su.suppress_stdout_stderr():\n",
    "    recovered_neuron = nru.decompress_neuron(filepath=compressed_neuron_path,\n",
    "                      original_mesh=compressed_neuron_path)\n",
    "\n",
    "recovered_neuron"
   ]
  },
  {
   "cell_type": "code",
   "execution_count": 106,
   "metadata": {},
   "outputs": [
    {
     "data": {
      "application/vnd.jupyter.widget-view+json": {
       "model_id": "d146b035483441018be9714dae926211",
       "version_major": 2,
       "version_minor": 0
      },
      "text/plain": [
       "VBox(children=(Figure(camera=PerspectiveCamera(fov=46.0, position=(0.0, 0.0, 2.0), quaternion=(0.0, 0.0, 0.0, …"
      ]
     },
     "metadata": {},
     "output_type": "display_data"
    }
   ],
   "source": [
    "sk.graph_skeleton_and_mesh(other_meshes=[recovered_neuron.mesh])"
   ]
  },
  {
   "cell_type": "code",
   "execution_count": 111,
   "metadata": {},
   "outputs": [
    {
     "data": {
      "application/vnd.jupyter.widget-view+json": {
       "model_id": "9e502b72b36a40cb9b90b6b47809149b",
       "version_major": 2,
       "version_minor": 0
      },
      "text/plain": [
       "VBox(children=(Figure(camera=PerspectiveCamera(fov=46.0, position=(0.0, 0.0, 2.0), quaternion=(0.0, 0.0, 0.0, …"
      ]
     },
     "metadata": {},
     "output_type": "display_data"
    }
   ],
   "source": [
    "recovered_neuron.plot_limb_concept_network(limb_idx=1,node_size=1,\n",
    "                                          arrow_size=1)"
   ]
  },
  {
   "cell_type": "code",
   "execution_count": 121,
   "metadata": {},
   "outputs": [
    {
     "data": {
      "text/plain": [
       "22199.980722726454"
      ]
     },
     "execution_count": 121,
     "metadata": {},
     "output_type": "execute_result"
    }
   ],
   "source": [
    "ns = reload(ns)\n",
    "ns.average_branch_length(recovered_neuron.concept_network.nodes[\"L1\"][\"data\"])"
   ]
  },
  {
   "cell_type": "code",
   "execution_count": 126,
   "metadata": {},
   "outputs": [
    {
     "data": {
      "text/plain": [
       "{'L0': array([ 0,  2,  9, 12, 17, 18, 19, 20, 21, 22, 23, 25, 28, 30, 32, 34, 38,\n",
       "        39, 41, 42, 43, 45, 46, 47, 48, 49, 50, 51, 52, 53, 54, 56, 57, 59,\n",
       "        60, 61, 62, 63, 65, 67, 69, 71]),\n",
       " 'L1': array([ 2,  4,  7,  9, 10, 11, 12, 14, 15, 17, 23, 28, 30, 31, 33, 34, 35,\n",
       "        37, 40, 42, 45]),\n",
       " 'L10': array([0]),\n",
       " 'L2': array([ 0,  1,  2,  5,  6,  8, 10, 11, 14, 16, 24, 34, 44, 46, 48]),\n",
       " 'L3': array([ 0,  1,  3,  5,  7, 12, 19, 20, 23, 24, 26, 31, 34]),\n",
       " 'L4': array([ 0,  4,  5,  9, 10, 13, 16, 18, 19, 20]),\n",
       " 'L5': array([ 0,  1,  3,  5,  7, 11, 12, 13, 14, 15]),\n",
       " 'L6': array([ 1,  2,  5,  7,  9, 10, 13, 15]),\n",
       " 'L7': array([ 0,  1,  2,  4,  7,  8, 10, 17]),\n",
       " 'L8': array([4, 5, 9])}"
      ]
     },
     "execution_count": 126,
     "metadata": {},
     "output_type": "execute_result"
    }
   ],
   "source": [
    "import skeleton_utils as sk\n",
    "sk = reload(sk)\n",
    "ns = reload(ns)\n",
    "nru = reload(nru)\n",
    "\n",
    "list_of_faces = [1038,5763,7063,11405]\n",
    "branch_threshold = 31000\n",
    "#current_query = \"n_faces_branch in @list_of_faces or skeleton_distance_branch > @branch_threshold or width > 10000\"\n",
    "\n",
    "local_dict=dict(list_of_faces=list_of_faces,branch_threshold=branch_threshold)\n",
    "\n",
    "\n",
    "functions_list=[\n",
    "ns.n_faces_branch,\n",
    "\"width\",\n",
    "ns.skeleton_distance_branch,\n",
    "ns.skeleton_distance_limb,\n",
    "\"n_faces_limb\",\n",
    "ns.merge_limbs,\n",
    "ns.limb_error_branches,\n",
    "ns.average_branch_length\n",
    "    \n",
    "]\n",
    "\n",
    "current_query = \"(average_branch_length > 10000) and width > 1000\"\n",
    "current_query = \"(n_faces_branch > 1000) and (width > 1000)\"\n",
    "\n",
    "returned_output = ns.query_neuron(recovered_neuron,\n",
    "                         functions_list,\n",
    "                          current_query,\n",
    "                          local_dict=local_dict,\n",
    "                          return_dataframe=False,\n",
    "                          return_limbs=False,\n",
    "                          return_limb_grouped_branches=True,\n",
    "                         print_flag=False)\n",
    "\n",
    "returned_output"
   ]
  },
  {
   "cell_type": "code",
   "execution_count": 127,
   "metadata": {},
   "outputs": [
    {
     "data": {
      "text/html": [
       "<div>\n",
       "<style scoped>\n",
       "    .dataframe tbody tr th:only-of-type {\n",
       "        vertical-align: middle;\n",
       "    }\n",
       "\n",
       "    .dataframe tbody tr th {\n",
       "        vertical-align: top;\n",
       "    }\n",
       "\n",
       "    .dataframe thead th {\n",
       "        text-align: right;\n",
       "    }\n",
       "</style>\n",
       "<table border=\"1\" class=\"dataframe\">\n",
       "  <thead>\n",
       "    <tr style=\"text-align: right;\">\n",
       "      <th></th>\n",
       "      <th>limb</th>\n",
       "      <th>node</th>\n",
       "      <th>n_faces_branch</th>\n",
       "      <th>width</th>\n",
       "      <th>skeleton_distance_branch</th>\n",
       "      <th>skeleton_distance_limb</th>\n",
       "      <th>n_faces_limb</th>\n",
       "      <th>merge_limbs</th>\n",
       "      <th>limb_error_branches</th>\n",
       "      <th>average_branch_length</th>\n",
       "    </tr>\n",
       "  </thead>\n",
       "  <tbody>\n",
       "    <tr>\n",
       "      <th>0</th>\n",
       "      <td>L0</td>\n",
       "      <td>46</td>\n",
       "      <td>2505</td>\n",
       "      <td>3771.240134</td>\n",
       "      <td>16544.280033</td>\n",
       "      <td>1.712813e+06</td>\n",
       "      <td>308343</td>\n",
       "      <td>False</td>\n",
       "      <td>False</td>\n",
       "      <td>23463.189617</td>\n",
       "    </tr>\n",
       "    <tr>\n",
       "      <th>1</th>\n",
       "      <td>L0</td>\n",
       "      <td>28</td>\n",
       "      <td>3980</td>\n",
       "      <td>1180.009647</td>\n",
       "      <td>18386.469136</td>\n",
       "      <td>1.712813e+06</td>\n",
       "      <td>308343</td>\n",
       "      <td>False</td>\n",
       "      <td>False</td>\n",
       "      <td>23463.189617</td>\n",
       "    </tr>\n",
       "    <tr>\n",
       "      <th>2</th>\n",
       "      <td>L0</td>\n",
       "      <td>47</td>\n",
       "      <td>7250</td>\n",
       "      <td>3011.199162</td>\n",
       "      <td>11666.610807</td>\n",
       "      <td>1.712813e+06</td>\n",
       "      <td>308343</td>\n",
       "      <td>False</td>\n",
       "      <td>False</td>\n",
       "      <td>23463.189617</td>\n",
       "    </tr>\n",
       "    <tr>\n",
       "      <th>3</th>\n",
       "      <td>L0</td>\n",
       "      <td>21</td>\n",
       "      <td>9530</td>\n",
       "      <td>1584.967602</td>\n",
       "      <td>38458.807931</td>\n",
       "      <td>1.712813e+06</td>\n",
       "      <td>308343</td>\n",
       "      <td>False</td>\n",
       "      <td>False</td>\n",
       "      <td>23463.189617</td>\n",
       "    </tr>\n",
       "    <tr>\n",
       "      <th>5</th>\n",
       "      <td>L0</td>\n",
       "      <td>53</td>\n",
       "      <td>3347</td>\n",
       "      <td>2283.324072</td>\n",
       "      <td>5976.299947</td>\n",
       "      <td>1.712813e+06</td>\n",
       "      <td>308343</td>\n",
       "      <td>False</td>\n",
       "      <td>False</td>\n",
       "      <td>23463.189617</td>\n",
       "    </tr>\n",
       "    <tr>\n",
       "      <th>...</th>\n",
       "      <td>...</td>\n",
       "      <td>...</td>\n",
       "      <td>...</td>\n",
       "      <td>...</td>\n",
       "      <td>...</td>\n",
       "      <td>...</td>\n",
       "      <td>...</td>\n",
       "      <td>...</td>\n",
       "      <td>...</td>\n",
       "      <td>...</td>\n",
       "    </tr>\n",
       "    <tr>\n",
       "      <th>293</th>\n",
       "      <td>L7</td>\n",
       "      <td>10</td>\n",
       "      <td>5313</td>\n",
       "      <td>1298.818387</td>\n",
       "      <td>35237.794341</td>\n",
       "      <td>4.396150e+05</td>\n",
       "      <td>58543</td>\n",
       "      <td>False</td>\n",
       "      <td>False</td>\n",
       "      <td>17584.601876</td>\n",
       "    </tr>\n",
       "    <tr>\n",
       "      <th>299</th>\n",
       "      <td>L7</td>\n",
       "      <td>17</td>\n",
       "      <td>3432</td>\n",
       "      <td>1359.583790</td>\n",
       "      <td>21648.782990</td>\n",
       "      <td>4.396150e+05</td>\n",
       "      <td>58543</td>\n",
       "      <td>False</td>\n",
       "      <td>False</td>\n",
       "      <td>17584.601876</td>\n",
       "    </tr>\n",
       "    <tr>\n",
       "      <th>308</th>\n",
       "      <td>L8</td>\n",
       "      <td>9</td>\n",
       "      <td>4149</td>\n",
       "      <td>1426.851819</td>\n",
       "      <td>23279.963128</td>\n",
       "      <td>2.567327e+05</td>\n",
       "      <td>29598</td>\n",
       "      <td>False</td>\n",
       "      <td>False</td>\n",
       "      <td>23339.336420</td>\n",
       "    </tr>\n",
       "    <tr>\n",
       "      <th>309</th>\n",
       "      <td>L8</td>\n",
       "      <td>5</td>\n",
       "      <td>8554</td>\n",
       "      <td>1015.467877</td>\n",
       "      <td>60922.702261</td>\n",
       "      <td>2.567327e+05</td>\n",
       "      <td>29598</td>\n",
       "      <td>False</td>\n",
       "      <td>False</td>\n",
       "      <td>23339.336420</td>\n",
       "    </tr>\n",
       "    <tr>\n",
       "      <th>311</th>\n",
       "      <td>L8</td>\n",
       "      <td>4</td>\n",
       "      <td>11853</td>\n",
       "      <td>1134.840438</td>\n",
       "      <td>87556.255109</td>\n",
       "      <td>2.567327e+05</td>\n",
       "      <td>29598</td>\n",
       "      <td>False</td>\n",
       "      <td>False</td>\n",
       "      <td>23339.336420</td>\n",
       "    </tr>\n",
       "  </tbody>\n",
       "</table>\n",
       "<p>131 rows × 10 columns</p>\n",
       "</div>"
      ],
      "text/plain": [
       "    limb  node  n_faces_branch        width  skeleton_distance_branch  \\\n",
       "0     L0    46            2505  3771.240134              16544.280033   \n",
       "1     L0    28            3980  1180.009647              18386.469136   \n",
       "2     L0    47            7250  3011.199162              11666.610807   \n",
       "3     L0    21            9530  1584.967602              38458.807931   \n",
       "5     L0    53            3347  2283.324072               5976.299947   \n",
       "..   ...   ...             ...          ...                       ...   \n",
       "293   L7    10            5313  1298.818387              35237.794341   \n",
       "299   L7    17            3432  1359.583790              21648.782990   \n",
       "308   L8     9            4149  1426.851819              23279.963128   \n",
       "309   L8     5            8554  1015.467877              60922.702261   \n",
       "311   L8     4           11853  1134.840438              87556.255109   \n",
       "\n",
       "     skeleton_distance_limb  n_faces_limb  merge_limbs  limb_error_branches  \\\n",
       "0              1.712813e+06        308343        False                False   \n",
       "1              1.712813e+06        308343        False                False   \n",
       "2              1.712813e+06        308343        False                False   \n",
       "3              1.712813e+06        308343        False                False   \n",
       "5              1.712813e+06        308343        False                False   \n",
       "..                      ...           ...          ...                  ...   \n",
       "293            4.396150e+05         58543        False                False   \n",
       "299            4.396150e+05         58543        False                False   \n",
       "308            2.567327e+05         29598        False                False   \n",
       "309            2.567327e+05         29598        False                False   \n",
       "311            2.567327e+05         29598        False                False   \n",
       "\n",
       "     average_branch_length  \n",
       "0             23463.189617  \n",
       "1             23463.189617  \n",
       "2             23463.189617  \n",
       "3             23463.189617  \n",
       "5             23463.189617  \n",
       "..                     ...  \n",
       "293           17584.601876  \n",
       "299           17584.601876  \n",
       "308           23339.336420  \n",
       "309           23339.336420  \n",
       "311           23339.336420  \n",
       "\n",
       "[131 rows x 10 columns]"
      ]
     },
     "execution_count": 127,
     "metadata": {},
     "output_type": "execute_result"
    }
   ],
   "source": [
    "returned_output = ns.query_neuron(recovered_neuron,\n",
    "                         functions_list,\n",
    "                          current_query,\n",
    "                          local_dict=local_dict,\n",
    "                          return_dataframe=True,\n",
    "                          return_limbs=False,\n",
    "                          return_limb_grouped_branches=True,\n",
    "                         print_flag=False)\n",
    "returned_output"
   ]
  },
  {
   "cell_type": "code",
   "execution_count": null,
   "metadata": {},
   "outputs": [],
   "source": [
    "\"\"\"\n",
    "Applications: \n",
    "1) Spine Detection\n",
    "2) Recommended splits\n",
    "- the width suddenly changes \n",
    "- angle of connection (with neighbors)\n",
    "- arrows in opposite direection\n",
    "- merge really close branch points \n",
    "     Look for high degree\n",
    "- width discontinuities\n",
    "     \n",
    "\n",
    "\n",
    "Axon to Axon\n",
    "\n",
    "\n",
    "Goal: \n",
    "Apply or Decline\n",
    "Default functions --> importance (change those )\n",
    "print out: why chose?\n",
    "\n",
    "could go through them one at a time \n",
    "\n",
    "\n",
    "could get the line of points between two merged branches\n",
    "line A \n",
    "line B\n",
    "\n",
    "\n",
    "Workflow: \n",
    "1) Apply filters\n",
    "2) Visualize\n",
    "3) select the correct cut points (like control find and accept)\n",
    "4) of all accept: link that has the points\n",
    "4) apply the cuts in the length\n",
    "\"\"\""
   ]
  }
 ],
 "metadata": {
  "kernelspec": {
   "display_name": "Python 3",
   "language": "python",
   "name": "python3"
  },
  "language_info": {
   "codemirror_mode": {
    "name": "ipython",
    "version": 3
   },
   "file_extension": ".py",
   "mimetype": "text/x-python",
   "name": "python",
   "nbconvert_exporter": "python",
   "pygments_lexer": "ipython3",
   "version": "3.6.9"
  }
 },
 "nbformat": 4,
 "nbformat_minor": 4
}
